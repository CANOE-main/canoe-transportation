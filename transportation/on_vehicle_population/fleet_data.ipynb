{
 "cells": [
  {
   "cell_type": "code",
   "execution_count": 1,
   "metadata": {},
   "outputs": [],
   "source": [
    "import pandas as pd\n",
    "import plotly.express as px"
   ]
  },
  {
   "cell_type": "markdown",
   "metadata": {},
   "source": [
    "# ON vehicle population data"
   ]
  },
  {
   "cell_type": "markdown",
   "metadata": {},
   "source": [
    "To define a weight class breakdown of MHDVs. Source: https://data.ontario.ca/dataset/vehicle-population-data"
   ]
  },
  {
   "cell_type": "code",
   "execution_count": 2,
   "metadata": {},
   "outputs": [],
   "source": [
    "on_2020_r4 = pd.read_table('2022_Reg_Veh_Report4_Weight_Class&Status.txt')"
   ]
  },
  {
   "cell_type": "code",
   "execution_count": 3,
   "metadata": {},
   "outputs": [
    {
     "data": {
      "text/html": [
       "<div>\n",
       "<style scoped>\n",
       "    .dataframe tbody tr th:only-of-type {\n",
       "        vertical-align: middle;\n",
       "    }\n",
       "\n",
       "    .dataframe tbody tr th {\n",
       "        vertical-align: top;\n",
       "    }\n",
       "\n",
       "    .dataframe thead th {\n",
       "        text-align: right;\n",
       "    }\n",
       "</style>\n",
       "<table border=\"1\" class=\"dataframe\">\n",
       "  <thead>\n",
       "    <tr style=\"text-align: right;\">\n",
       "      <th></th>\n",
       "      <th>WEIGHT_CLASS</th>\n",
       "      <th>KG_FROM</th>\n",
       "      <th>KG_TO</th>\n",
       "      <th>FIT-ACTIVE</th>\n",
       "      <th>LB_FROM</th>\n",
       "      <th>LB_TO</th>\n",
       "    </tr>\n",
       "  </thead>\n",
       "  <tbody>\n",
       "    <tr>\n",
       "      <th>0</th>\n",
       "      <td>COMMERCIAL</td>\n",
       "      <td>0</td>\n",
       "      <td>3000</td>\n",
       "      <td>1155476</td>\n",
       "      <td>0.00000</td>\n",
       "      <td>6613.86000</td>\n",
       "    </tr>\n",
       "    <tr>\n",
       "      <th>1</th>\n",
       "      <td>COMMERCIAL</td>\n",
       "      <td>3001</td>\n",
       "      <td>3500</td>\n",
       "      <td>40763</td>\n",
       "      <td>6616.06462</td>\n",
       "      <td>7716.17000</td>\n",
       "    </tr>\n",
       "    <tr>\n",
       "      <th>2</th>\n",
       "      <td>COMMERCIAL</td>\n",
       "      <td>3501</td>\n",
       "      <td>4000</td>\n",
       "      <td>42473</td>\n",
       "      <td>7718.37462</td>\n",
       "      <td>8818.48000</td>\n",
       "    </tr>\n",
       "    <tr>\n",
       "      <th>3</th>\n",
       "      <td>COMMERCIAL</td>\n",
       "      <td>4001</td>\n",
       "      <td>4500</td>\n",
       "      <td>132424</td>\n",
       "      <td>8820.68462</td>\n",
       "      <td>9920.79000</td>\n",
       "    </tr>\n",
       "    <tr>\n",
       "      <th>4</th>\n",
       "      <td>COMMERCIAL</td>\n",
       "      <td>4501</td>\n",
       "      <td>5000</td>\n",
       "      <td>5938</td>\n",
       "      <td>9922.99462</td>\n",
       "      <td>11023.10000</td>\n",
       "    </tr>\n",
       "    <tr>\n",
       "      <th>...</th>\n",
       "      <td>...</td>\n",
       "      <td>...</td>\n",
       "      <td>...</td>\n",
       "      <td>...</td>\n",
       "      <td>...</td>\n",
       "      <td>...</td>\n",
       "    </tr>\n",
       "    <tr>\n",
       "      <th>60</th>\n",
       "      <td>COMMERCIAL</td>\n",
       "      <td>60001</td>\n",
       "      <td>61000</td>\n",
       "      <td>370</td>\n",
       "      <td>132279.40462</td>\n",
       "      <td>134481.82000</td>\n",
       "    </tr>\n",
       "    <tr>\n",
       "      <th>61</th>\n",
       "      <td>COMMERCIAL</td>\n",
       "      <td>61001</td>\n",
       "      <td>62000</td>\n",
       "      <td>640</td>\n",
       "      <td>134484.02462</td>\n",
       "      <td>136686.44000</td>\n",
       "    </tr>\n",
       "    <tr>\n",
       "      <th>62</th>\n",
       "      <td>COMMERCIAL</td>\n",
       "      <td>62001</td>\n",
       "      <td>63000</td>\n",
       "      <td>1376</td>\n",
       "      <td>136688.64462</td>\n",
       "      <td>138891.06000</td>\n",
       "    </tr>\n",
       "    <tr>\n",
       "      <th>63</th>\n",
       "      <td>COMMERCIAL</td>\n",
       "      <td>63001</td>\n",
       "      <td>63500</td>\n",
       "      <td>19732</td>\n",
       "      <td>138893.26462</td>\n",
       "      <td>139993.37000</td>\n",
       "    </tr>\n",
       "    <tr>\n",
       "      <th>64</th>\n",
       "      <td>COMMERCIAL</td>\n",
       "      <td>63501</td>\n",
       "      <td>99999</td>\n",
       "      <td>19</td>\n",
       "      <td>139995.57462</td>\n",
       "      <td>220459.79538</td>\n",
       "    </tr>\n",
       "  </tbody>\n",
       "</table>\n",
       "<p>65 rows × 6 columns</p>\n",
       "</div>"
      ],
      "text/plain": [
       "   WEIGHT_CLASS  KG_FROM  KG_TO  FIT-ACTIVE       LB_FROM         LB_TO\n",
       "0    COMMERCIAL        0   3000     1155476       0.00000    6613.86000\n",
       "1    COMMERCIAL     3001   3500       40763    6616.06462    7716.17000\n",
       "2    COMMERCIAL     3501   4000       42473    7718.37462    8818.48000\n",
       "3    COMMERCIAL     4001   4500      132424    8820.68462    9920.79000\n",
       "4    COMMERCIAL     4501   5000        5938    9922.99462   11023.10000\n",
       "..          ...      ...    ...         ...           ...           ...\n",
       "60   COMMERCIAL    60001  61000         370  132279.40462  134481.82000\n",
       "61   COMMERCIAL    61001  62000         640  134484.02462  136686.44000\n",
       "62   COMMERCIAL    62001  63000        1376  136688.64462  138891.06000\n",
       "63   COMMERCIAL    63001  63500       19732  138893.26462  139993.37000\n",
       "64   COMMERCIAL    63501  99999          19  139995.57462  220459.79538\n",
       "\n",
       "[65 rows x 6 columns]"
      ]
     },
     "execution_count": 3,
     "metadata": {},
     "output_type": "execute_result"
    }
   ],
   "source": [
    "on_comm_2020 = on_2020_r4[on_2020_r4.WEIGHT_CLASS == 'COMMERCIAL'][['WEIGHT_CLASS', 'KG_FROM', 'KG_TO',\t'FIT-ACTIVE']]\n",
    "on_comm_2020['LB_FROM'] = on_comm_2020.KG_FROM * 2.20462\n",
    "on_comm_2020['LB_TO'] = on_comm_2020.KG_TO * 2.20462\n",
    "\n",
    "on_comm_2020"
   ]
  },
  {
   "cell_type": "code",
   "execution_count": 4,
   "metadata": {},
   "outputs": [
    {
     "data": {
      "text/html": [
       "<div>\n",
       "<style scoped>\n",
       "    .dataframe tbody tr th:only-of-type {\n",
       "        vertical-align: middle;\n",
       "    }\n",
       "\n",
       "    .dataframe tbody tr th {\n",
       "        vertical-align: top;\n",
       "    }\n",
       "\n",
       "    .dataframe thead th {\n",
       "        text-align: right;\n",
       "    }\n",
       "</style>\n",
       "<table border=\"1\" class=\"dataframe\">\n",
       "  <thead>\n",
       "    <tr style=\"text-align: right;\">\n",
       "      <th></th>\n",
       "      <th>WEIGHT_CLASS</th>\n",
       "      <th>KG_FROM</th>\n",
       "      <th>KG_TO</th>\n",
       "      <th>FIT-ACTIVE</th>\n",
       "      <th>LB_FROM</th>\n",
       "      <th>LB_TO</th>\n",
       "      <th>EPA_GVWR</th>\n",
       "    </tr>\n",
       "  </thead>\n",
       "  <tbody>\n",
       "    <tr>\n",
       "      <th>0</th>\n",
       "      <td>COMMERCIAL</td>\n",
       "      <td>0</td>\n",
       "      <td>3000</td>\n",
       "      <td>1155476</td>\n",
       "      <td>0.00000</td>\n",
       "      <td>6613.86000</td>\n",
       "      <td>LDT3-4</td>\n",
       "    </tr>\n",
       "    <tr>\n",
       "      <th>1</th>\n",
       "      <td>COMMERCIAL</td>\n",
       "      <td>3001</td>\n",
       "      <td>3500</td>\n",
       "      <td>40763</td>\n",
       "      <td>6616.06462</td>\n",
       "      <td>7716.17000</td>\n",
       "      <td>LDT3-4</td>\n",
       "    </tr>\n",
       "    <tr>\n",
       "      <th>2</th>\n",
       "      <td>COMMERCIAL</td>\n",
       "      <td>3501</td>\n",
       "      <td>4000</td>\n",
       "      <td>42473</td>\n",
       "      <td>7718.37462</td>\n",
       "      <td>8818.48000</td>\n",
       "      <td>MDV2b</td>\n",
       "    </tr>\n",
       "    <tr>\n",
       "      <th>3</th>\n",
       "      <td>COMMERCIAL</td>\n",
       "      <td>4001</td>\n",
       "      <td>4500</td>\n",
       "      <td>132424</td>\n",
       "      <td>8820.68462</td>\n",
       "      <td>9920.79000</td>\n",
       "      <td>MDV2b</td>\n",
       "    </tr>\n",
       "    <tr>\n",
       "      <th>4</th>\n",
       "      <td>COMMERCIAL</td>\n",
       "      <td>4501</td>\n",
       "      <td>5000</td>\n",
       "      <td>5938</td>\n",
       "      <td>9922.99462</td>\n",
       "      <td>11023.10000</td>\n",
       "      <td>MDV3</td>\n",
       "    </tr>\n",
       "    <tr>\n",
       "      <th>...</th>\n",
       "      <td>...</td>\n",
       "      <td>...</td>\n",
       "      <td>...</td>\n",
       "      <td>...</td>\n",
       "      <td>...</td>\n",
       "      <td>...</td>\n",
       "      <td>...</td>\n",
       "    </tr>\n",
       "    <tr>\n",
       "      <th>60</th>\n",
       "      <td>COMMERCIAL</td>\n",
       "      <td>60001</td>\n",
       "      <td>61000</td>\n",
       "      <td>370</td>\n",
       "      <td>132279.40462</td>\n",
       "      <td>134481.82000</td>\n",
       "      <td>MDV8</td>\n",
       "    </tr>\n",
       "    <tr>\n",
       "      <th>61</th>\n",
       "      <td>COMMERCIAL</td>\n",
       "      <td>61001</td>\n",
       "      <td>62000</td>\n",
       "      <td>640</td>\n",
       "      <td>134484.02462</td>\n",
       "      <td>136686.44000</td>\n",
       "      <td>MDV8</td>\n",
       "    </tr>\n",
       "    <tr>\n",
       "      <th>62</th>\n",
       "      <td>COMMERCIAL</td>\n",
       "      <td>62001</td>\n",
       "      <td>63000</td>\n",
       "      <td>1376</td>\n",
       "      <td>136688.64462</td>\n",
       "      <td>138891.06000</td>\n",
       "      <td>MDV8</td>\n",
       "    </tr>\n",
       "    <tr>\n",
       "      <th>63</th>\n",
       "      <td>COMMERCIAL</td>\n",
       "      <td>63001</td>\n",
       "      <td>63500</td>\n",
       "      <td>19732</td>\n",
       "      <td>138893.26462</td>\n",
       "      <td>139993.37000</td>\n",
       "      <td>MDV8</td>\n",
       "    </tr>\n",
       "    <tr>\n",
       "      <th>64</th>\n",
       "      <td>COMMERCIAL</td>\n",
       "      <td>63501</td>\n",
       "      <td>99999</td>\n",
       "      <td>19</td>\n",
       "      <td>139995.57462</td>\n",
       "      <td>220459.79538</td>\n",
       "      <td>MDV8</td>\n",
       "    </tr>\n",
       "  </tbody>\n",
       "</table>\n",
       "<p>65 rows × 7 columns</p>\n",
       "</div>"
      ],
      "text/plain": [
       "   WEIGHT_CLASS  KG_FROM  KG_TO  FIT-ACTIVE       LB_FROM         LB_TO  \\\n",
       "0    COMMERCIAL        0   3000     1155476       0.00000    6613.86000   \n",
       "1    COMMERCIAL     3001   3500       40763    6616.06462    7716.17000   \n",
       "2    COMMERCIAL     3501   4000       42473    7718.37462    8818.48000   \n",
       "3    COMMERCIAL     4001   4500      132424    8820.68462    9920.79000   \n",
       "4    COMMERCIAL     4501   5000        5938    9922.99462   11023.10000   \n",
       "..          ...      ...    ...         ...           ...           ...   \n",
       "60   COMMERCIAL    60001  61000         370  132279.40462  134481.82000   \n",
       "61   COMMERCIAL    61001  62000         640  134484.02462  136686.44000   \n",
       "62   COMMERCIAL    62001  63000        1376  136688.64462  138891.06000   \n",
       "63   COMMERCIAL    63001  63500       19732  138893.26462  139993.37000   \n",
       "64   COMMERCIAL    63501  99999          19  139995.57462  220459.79538   \n",
       "\n",
       "   EPA_GVWR  \n",
       "0    LDT3-4  \n",
       "1    LDT3-4  \n",
       "2     MDV2b  \n",
       "3     MDV2b  \n",
       "4      MDV3  \n",
       "..      ...  \n",
       "60     MDV8  \n",
       "61     MDV8  \n",
       "62     MDV8  \n",
       "63     MDV8  \n",
       "64     MDV8  \n",
       "\n",
       "[65 rows x 7 columns]"
      ]
     },
     "execution_count": 4,
     "metadata": {},
     "output_type": "execute_result"
    }
   ],
   "source": [
    "bins = [-float('inf'), 6000, 8500, 10000, 14000, 16000, 19500, 26000, 33000, float('inf')]\n",
    "labels = [\n",
    "    'LDT1-2',\n",
    "    'LDT3-4',\n",
    "    'MDV2b',\n",
    "    'MDV3',\n",
    "    'MDV4',\n",
    "    'MDV5',\n",
    "    'MDV6',\n",
    "    'MDV7',\n",
    "    'MDV8'\n",
    "]\n",
    "\n",
    "on_comm_2020['EPA_GVWR'] = pd.cut(on_comm_2020['LB_TO'], bins=bins, labels=labels)\n",
    "on_comm_2020"
   ]
  },
  {
   "cell_type": "code",
   "execution_count": 5,
   "metadata": {},
   "outputs": [
    {
     "name": "stderr",
     "output_type": "stream",
     "text": [
      "C:\\Users\\rashi\\AppData\\Local\\Temp\\ipykernel_39312\\4213394263.py:1: FutureWarning: The default of observed=False is deprecated and will be changed to True in a future version of pandas. Pass observed=False to retain current behavior or observed=True to adopt the future default and silence this warning.\n",
      "  on_comm_2020.groupby('EPA_GVWR').sum()[['FIT-ACTIVE']].to_clipboard()\n"
     ]
    }
   ],
   "source": [
    "on_comm_2020.groupby('EPA_GVWR').sum()[['FIT-ACTIVE']].to_clipboard()"
   ]
  },
  {
   "cell_type": "code",
   "execution_count": 6,
   "metadata": {},
   "outputs": [
    {
     "data": {
      "text/html": [
       "<div>\n",
       "<style scoped>\n",
       "    .dataframe tbody tr th:only-of-type {\n",
       "        vertical-align: middle;\n",
       "    }\n",
       "\n",
       "    .dataframe tbody tr th {\n",
       "        vertical-align: top;\n",
       "    }\n",
       "\n",
       "    .dataframe thead th {\n",
       "        text-align: right;\n",
       "    }\n",
       "</style>\n",
       "<table border=\"1\" class=\"dataframe\">\n",
       "  <thead>\n",
       "    <tr style=\"text-align: right;\">\n",
       "      <th></th>\n",
       "      <th>WEIGHT_CLASS</th>\n",
       "      <th>KG_FROM</th>\n",
       "      <th>KG_TO</th>\n",
       "      <th>FIT-ACTIVE</th>\n",
       "      <th>LB_FROM</th>\n",
       "      <th>LB_TO</th>\n",
       "      <th>EPA_GVWR</th>\n",
       "    </tr>\n",
       "  </thead>\n",
       "  <tbody>\n",
       "    <tr>\n",
       "      <th>257</th>\n",
       "      <td>SCHOOL BUS</td>\n",
       "      <td>1</td>\n",
       "      <td>2500</td>\n",
       "      <td>2</td>\n",
       "      <td>2.20462</td>\n",
       "      <td>5511.55000</td>\n",
       "      <td>Class 3 (&lt;19500)</td>\n",
       "    </tr>\n",
       "    <tr>\n",
       "      <th>258</th>\n",
       "      <td>SCHOOL BUS</td>\n",
       "      <td>2501</td>\n",
       "      <td>3000</td>\n",
       "      <td>291</td>\n",
       "      <td>5513.75462</td>\n",
       "      <td>6613.86000</td>\n",
       "      <td>Class 3 (&lt;19500)</td>\n",
       "    </tr>\n",
       "    <tr>\n",
       "      <th>259</th>\n",
       "      <td>SCHOOL BUS</td>\n",
       "      <td>3001</td>\n",
       "      <td>3500</td>\n",
       "      <td>619</td>\n",
       "      <td>6616.06462</td>\n",
       "      <td>7716.17000</td>\n",
       "      <td>Class 3 (&lt;19500)</td>\n",
       "    </tr>\n",
       "    <tr>\n",
       "      <th>260</th>\n",
       "      <td>SCHOOL BUS</td>\n",
       "      <td>3501</td>\n",
       "      <td>4000</td>\n",
       "      <td>672</td>\n",
       "      <td>7718.37462</td>\n",
       "      <td>8818.48000</td>\n",
       "      <td>Class 3 (&lt;19500)</td>\n",
       "    </tr>\n",
       "    <tr>\n",
       "      <th>261</th>\n",
       "      <td>SCHOOL BUS</td>\n",
       "      <td>4001</td>\n",
       "      <td>4500</td>\n",
       "      <td>1019</td>\n",
       "      <td>8820.68462</td>\n",
       "      <td>9920.79000</td>\n",
       "      <td>Class 3 (&lt;19500)</td>\n",
       "    </tr>\n",
       "    <tr>\n",
       "      <th>262</th>\n",
       "      <td>SCHOOL BUS</td>\n",
       "      <td>4501</td>\n",
       "      <td>5000</td>\n",
       "      <td>918</td>\n",
       "      <td>9922.99462</td>\n",
       "      <td>11023.10000</td>\n",
       "      <td>Class 3 (&lt;19500)</td>\n",
       "    </tr>\n",
       "    <tr>\n",
       "      <th>263</th>\n",
       "      <td>SCHOOL BUS</td>\n",
       "      <td>5001</td>\n",
       "      <td>6000</td>\n",
       "      <td>803</td>\n",
       "      <td>11025.30462</td>\n",
       "      <td>13227.72000</td>\n",
       "      <td>Class 3 (&lt;19500)</td>\n",
       "    </tr>\n",
       "    <tr>\n",
       "      <th>264</th>\n",
       "      <td>SCHOOL BUS</td>\n",
       "      <td>6001</td>\n",
       "      <td>7000</td>\n",
       "      <td>235</td>\n",
       "      <td>13229.92462</td>\n",
       "      <td>15432.34000</td>\n",
       "      <td>Class 3 (&lt;19500)</td>\n",
       "    </tr>\n",
       "    <tr>\n",
       "      <th>265</th>\n",
       "      <td>SCHOOL BUS</td>\n",
       "      <td>7001</td>\n",
       "      <td>8000</td>\n",
       "      <td>102</td>\n",
       "      <td>15434.54462</td>\n",
       "      <td>17636.96000</td>\n",
       "      <td>Class 3 (&lt;19500)</td>\n",
       "    </tr>\n",
       "    <tr>\n",
       "      <th>266</th>\n",
       "      <td>SCHOOL BUS</td>\n",
       "      <td>8001</td>\n",
       "      <td>9000</td>\n",
       "      <td>675</td>\n",
       "      <td>17639.16462</td>\n",
       "      <td>19841.58000</td>\n",
       "      <td>Class 7 (&gt;19500)</td>\n",
       "    </tr>\n",
       "    <tr>\n",
       "      <th>267</th>\n",
       "      <td>SCHOOL BUS</td>\n",
       "      <td>9001</td>\n",
       "      <td>10000</td>\n",
       "      <td>1886</td>\n",
       "      <td>19843.78462</td>\n",
       "      <td>22046.20000</td>\n",
       "      <td>Class 7 (&gt;19500)</td>\n",
       "    </tr>\n",
       "    <tr>\n",
       "      <th>268</th>\n",
       "      <td>SCHOOL BUS</td>\n",
       "      <td>10001</td>\n",
       "      <td>11000</td>\n",
       "      <td>1976</td>\n",
       "      <td>22048.40462</td>\n",
       "      <td>24250.82000</td>\n",
       "      <td>Class 7 (&gt;19500)</td>\n",
       "    </tr>\n",
       "    <tr>\n",
       "      <th>269</th>\n",
       "      <td>SCHOOL BUS</td>\n",
       "      <td>11001</td>\n",
       "      <td>12000</td>\n",
       "      <td>2042</td>\n",
       "      <td>24253.02462</td>\n",
       "      <td>26455.44000</td>\n",
       "      <td>Class 7 (&gt;19500)</td>\n",
       "    </tr>\n",
       "    <tr>\n",
       "      <th>270</th>\n",
       "      <td>SCHOOL BUS</td>\n",
       "      <td>12001</td>\n",
       "      <td>13000</td>\n",
       "      <td>235</td>\n",
       "      <td>26457.64462</td>\n",
       "      <td>28660.06000</td>\n",
       "      <td>Class 7 (&gt;19500)</td>\n",
       "    </tr>\n",
       "    <tr>\n",
       "      <th>271</th>\n",
       "      <td>SCHOOL BUS</td>\n",
       "      <td>13001</td>\n",
       "      <td>14000</td>\n",
       "      <td>644</td>\n",
       "      <td>28662.26462</td>\n",
       "      <td>30864.68000</td>\n",
       "      <td>Class 7 (&gt;19500)</td>\n",
       "    </tr>\n",
       "    <tr>\n",
       "      <th>272</th>\n",
       "      <td>SCHOOL BUS</td>\n",
       "      <td>14001</td>\n",
       "      <td>15000</td>\n",
       "      <td>91</td>\n",
       "      <td>30866.88462</td>\n",
       "      <td>33069.30000</td>\n",
       "      <td>Class 7 (&gt;19500)</td>\n",
       "    </tr>\n",
       "    <tr>\n",
       "      <th>273</th>\n",
       "      <td>SCHOOL BUS</td>\n",
       "      <td>15001</td>\n",
       "      <td>16000</td>\n",
       "      <td>6</td>\n",
       "      <td>33071.50462</td>\n",
       "      <td>35273.92000</td>\n",
       "      <td>Class 7 (&gt;19500)</td>\n",
       "    </tr>\n",
       "    <tr>\n",
       "      <th>274</th>\n",
       "      <td>SCHOOL BUS</td>\n",
       "      <td>16001</td>\n",
       "      <td>17000</td>\n",
       "      <td>30</td>\n",
       "      <td>35276.12462</td>\n",
       "      <td>37478.54000</td>\n",
       "      <td>Class 7 (&gt;19500)</td>\n",
       "    </tr>\n",
       "    <tr>\n",
       "      <th>275</th>\n",
       "      <td>SCHOOL BUS</td>\n",
       "      <td>17001</td>\n",
       "      <td>18000</td>\n",
       "      <td>22</td>\n",
       "      <td>37480.74462</td>\n",
       "      <td>39683.16000</td>\n",
       "      <td>Class 7 (&gt;19500)</td>\n",
       "    </tr>\n",
       "    <tr>\n",
       "      <th>276</th>\n",
       "      <td>SCHOOL BUS</td>\n",
       "      <td>18001</td>\n",
       "      <td>19000</td>\n",
       "      <td>15</td>\n",
       "      <td>39685.36462</td>\n",
       "      <td>41887.78000</td>\n",
       "      <td>Class 7 (&gt;19500)</td>\n",
       "    </tr>\n",
       "    <tr>\n",
       "      <th>277</th>\n",
       "      <td>SCHOOL BUS</td>\n",
       "      <td>19001</td>\n",
       "      <td>20000</td>\n",
       "      <td>0</td>\n",
       "      <td>41889.98462</td>\n",
       "      <td>44092.40000</td>\n",
       "      <td>Class 7 (&gt;19500)</td>\n",
       "    </tr>\n",
       "    <tr>\n",
       "      <th>278</th>\n",
       "      <td>SCHOOL BUS</td>\n",
       "      <td>20001</td>\n",
       "      <td>99999</td>\n",
       "      <td>0</td>\n",
       "      <td>44094.60462</td>\n",
       "      <td>220459.79538</td>\n",
       "      <td>Class 7 (&gt;19500)</td>\n",
       "    </tr>\n",
       "  </tbody>\n",
       "</table>\n",
       "</div>"
      ],
      "text/plain": [
       "    WEIGHT_CLASS  KG_FROM  KG_TO  FIT-ACTIVE      LB_FROM         LB_TO  \\\n",
       "257   SCHOOL BUS        1   2500           2      2.20462    5511.55000   \n",
       "258   SCHOOL BUS     2501   3000         291   5513.75462    6613.86000   \n",
       "259   SCHOOL BUS     3001   3500         619   6616.06462    7716.17000   \n",
       "260   SCHOOL BUS     3501   4000         672   7718.37462    8818.48000   \n",
       "261   SCHOOL BUS     4001   4500        1019   8820.68462    9920.79000   \n",
       "262   SCHOOL BUS     4501   5000         918   9922.99462   11023.10000   \n",
       "263   SCHOOL BUS     5001   6000         803  11025.30462   13227.72000   \n",
       "264   SCHOOL BUS     6001   7000         235  13229.92462   15432.34000   \n",
       "265   SCHOOL BUS     7001   8000         102  15434.54462   17636.96000   \n",
       "266   SCHOOL BUS     8001   9000         675  17639.16462   19841.58000   \n",
       "267   SCHOOL BUS     9001  10000        1886  19843.78462   22046.20000   \n",
       "268   SCHOOL BUS    10001  11000        1976  22048.40462   24250.82000   \n",
       "269   SCHOOL BUS    11001  12000        2042  24253.02462   26455.44000   \n",
       "270   SCHOOL BUS    12001  13000         235  26457.64462   28660.06000   \n",
       "271   SCHOOL BUS    13001  14000         644  28662.26462   30864.68000   \n",
       "272   SCHOOL BUS    14001  15000          91  30866.88462   33069.30000   \n",
       "273   SCHOOL BUS    15001  16000           6  33071.50462   35273.92000   \n",
       "274   SCHOOL BUS    16001  17000          30  35276.12462   37478.54000   \n",
       "275   SCHOOL BUS    17001  18000          22  37480.74462   39683.16000   \n",
       "276   SCHOOL BUS    18001  19000          15  39685.36462   41887.78000   \n",
       "277   SCHOOL BUS    19001  20000           0  41889.98462   44092.40000   \n",
       "278   SCHOOL BUS    20001  99999           0  44094.60462  220459.79538   \n",
       "\n",
       "             EPA_GVWR  \n",
       "257  Class 3 (<19500)  \n",
       "258  Class 3 (<19500)  \n",
       "259  Class 3 (<19500)  \n",
       "260  Class 3 (<19500)  \n",
       "261  Class 3 (<19500)  \n",
       "262  Class 3 (<19500)  \n",
       "263  Class 3 (<19500)  \n",
       "264  Class 3 (<19500)  \n",
       "265  Class 3 (<19500)  \n",
       "266  Class 7 (>19500)  \n",
       "267  Class 7 (>19500)  \n",
       "268  Class 7 (>19500)  \n",
       "269  Class 7 (>19500)  \n",
       "270  Class 7 (>19500)  \n",
       "271  Class 7 (>19500)  \n",
       "272  Class 7 (>19500)  \n",
       "273  Class 7 (>19500)  \n",
       "274  Class 7 (>19500)  \n",
       "275  Class 7 (>19500)  \n",
       "276  Class 7 (>19500)  \n",
       "277  Class 7 (>19500)  \n",
       "278  Class 7 (>19500)  "
      ]
     },
     "execution_count": 6,
     "metadata": {},
     "output_type": "execute_result"
    }
   ],
   "source": [
    "on_school_2020 = on_2020_r4[on_2020_r4.WEIGHT_CLASS == 'SCHOOL BUS'][['WEIGHT_CLASS', 'KG_FROM', 'KG_TO', 'FIT-ACTIVE']]\n",
    "on_school_2020['LB_FROM'] = on_school_2020.KG_FROM * 2.20462\n",
    "on_school_2020['LB_TO'] = on_school_2020.KG_TO * 2.20462\n",
    "\n",
    "bins = [-float('inf'), 19500, float('inf')]\n",
    "labels = [\n",
    "    'Class 3 (<19500)',\n",
    "    'Class 7 (>19500)'\n",
    "]\n",
    "\n",
    "on_school_2020['EPA_GVWR'] = pd.cut(on_school_2020['LB_TO'], bins=bins, labels=labels)\n",
    "on_school_2020"
   ]
  },
  {
   "cell_type": "code",
   "execution_count": 7,
   "metadata": {},
   "outputs": [],
   "source": [
    "# on_school_2020.groupby('EPA_GVWR').sum()[['FIT-ACTIVE']].to_clipboard()"
   ]
  },
  {
   "cell_type": "code",
   "execution_count": 8,
   "metadata": {},
   "outputs": [],
   "source": [
    "r5 = pd.read_table('2021_Reg_Veh_Report5_Class&Status&Descriptors.txt')[['VEHICLE_CLASS', 'DESCRIPTOR', 'VALUE', 'FIT-ACTIVE']]\n",
    "r5 = r5[(r5['DESCRIPTOR'] == 'YEAR') & (r5['VEHICLE_CLASS'].isin(['PASSENGER', 'MOTORCYCLE', 'COMMERCIAL', 'BUS']))]\n",
    "r5['VALUE'] = r5['VALUE'].astype(int)\n",
    "r5 = r5[r5['VALUE'] < 2022]\n",
    "r5['AGE'] = 2021 - r5['VALUE']\n",
    "r5 = r5[r5['AGE'] <= 30].sort_values(['VEHICLE_CLASS', 'AGE'])"
   ]
  },
  {
   "cell_type": "code",
   "execution_count": 9,
   "metadata": {},
   "outputs": [
    {
     "data": {
      "text/html": [
       "<div>\n",
       "<style scoped>\n",
       "    .dataframe tbody tr th:only-of-type {\n",
       "        vertical-align: middle;\n",
       "    }\n",
       "\n",
       "    .dataframe tbody tr th {\n",
       "        vertical-align: top;\n",
       "    }\n",
       "\n",
       "    .dataframe thead th {\n",
       "        text-align: right;\n",
       "    }\n",
       "</style>\n",
       "<table border=\"1\" class=\"dataframe\">\n",
       "  <thead>\n",
       "    <tr style=\"text-align: right;\">\n",
       "      <th></th>\n",
       "      <th>VEHICLE_CLASS</th>\n",
       "      <th>DESCRIPTOR</th>\n",
       "      <th>VALUE</th>\n",
       "      <th>FIT-ACTIVE</th>\n",
       "      <th>AGE</th>\n",
       "    </tr>\n",
       "  </thead>\n",
       "  <tbody>\n",
       "    <tr>\n",
       "      <th>545</th>\n",
       "      <td>BUS</td>\n",
       "      <td>YEAR</td>\n",
       "      <td>2021</td>\n",
       "      <td>1304</td>\n",
       "      <td>0</td>\n",
       "    </tr>\n",
       "    <tr>\n",
       "      <th>546</th>\n",
       "      <td>BUS</td>\n",
       "      <td>YEAR</td>\n",
       "      <td>2020</td>\n",
       "      <td>1830</td>\n",
       "      <td>1</td>\n",
       "    </tr>\n",
       "    <tr>\n",
       "      <th>547</th>\n",
       "      <td>BUS</td>\n",
       "      <td>YEAR</td>\n",
       "      <td>2019</td>\n",
       "      <td>2995</td>\n",
       "      <td>2</td>\n",
       "    </tr>\n",
       "    <tr>\n",
       "      <th>548</th>\n",
       "      <td>BUS</td>\n",
       "      <td>YEAR</td>\n",
       "      <td>2018</td>\n",
       "      <td>2500</td>\n",
       "      <td>3</td>\n",
       "    </tr>\n",
       "    <tr>\n",
       "      <th>549</th>\n",
       "      <td>BUS</td>\n",
       "      <td>YEAR</td>\n",
       "      <td>2017</td>\n",
       "      <td>2802</td>\n",
       "      <td>4</td>\n",
       "    </tr>\n",
       "    <tr>\n",
       "      <th>...</th>\n",
       "      <td>...</td>\n",
       "      <td>...</td>\n",
       "      <td>...</td>\n",
       "      <td>...</td>\n",
       "      <td>...</td>\n",
       "    </tr>\n",
       "    <tr>\n",
       "      <th>62</th>\n",
       "      <td>PASSENGER</td>\n",
       "      <td>YEAR</td>\n",
       "      <td>1995</td>\n",
       "      <td>6924</td>\n",
       "      <td>26</td>\n",
       "    </tr>\n",
       "    <tr>\n",
       "      <th>63</th>\n",
       "      <td>PASSENGER</td>\n",
       "      <td>YEAR</td>\n",
       "      <td>1994</td>\n",
       "      <td>5140</td>\n",
       "      <td>27</td>\n",
       "    </tr>\n",
       "    <tr>\n",
       "      <th>64</th>\n",
       "      <td>PASSENGER</td>\n",
       "      <td>YEAR</td>\n",
       "      <td>1993</td>\n",
       "      <td>4363</td>\n",
       "      <td>28</td>\n",
       "    </tr>\n",
       "    <tr>\n",
       "      <th>65</th>\n",
       "      <td>PASSENGER</td>\n",
       "      <td>YEAR</td>\n",
       "      <td>1992</td>\n",
       "      <td>4411</td>\n",
       "      <td>29</td>\n",
       "    </tr>\n",
       "    <tr>\n",
       "      <th>66</th>\n",
       "      <td>PASSENGER</td>\n",
       "      <td>YEAR</td>\n",
       "      <td>1991</td>\n",
       "      <td>4793</td>\n",
       "      <td>30</td>\n",
       "    </tr>\n",
       "  </tbody>\n",
       "</table>\n",
       "<p>124 rows × 5 columns</p>\n",
       "</div>"
      ],
      "text/plain": [
       "    VEHICLE_CLASS DESCRIPTOR  VALUE  FIT-ACTIVE  AGE\n",
       "545           BUS       YEAR   2021        1304    0\n",
       "546           BUS       YEAR   2020        1830    1\n",
       "547           BUS       YEAR   2019        2995    2\n",
       "548           BUS       YEAR   2018        2500    3\n",
       "549           BUS       YEAR   2017        2802    4\n",
       "..            ...        ...    ...         ...  ...\n",
       "62      PASSENGER       YEAR   1995        6924   26\n",
       "63      PASSENGER       YEAR   1994        5140   27\n",
       "64      PASSENGER       YEAR   1993        4363   28\n",
       "65      PASSENGER       YEAR   1992        4411   29\n",
       "66      PASSENGER       YEAR   1991        4793   30\n",
       "\n",
       "[124 rows x 5 columns]"
      ]
     },
     "execution_count": 9,
     "metadata": {},
     "output_type": "execute_result"
    }
   ],
   "source": [
    "r5"
   ]
  },
  {
   "cell_type": "code",
   "execution_count": 10,
   "metadata": {},
   "outputs": [
    {
     "data": {
      "application/vnd.plotly.v1+json": {
       "config": {
        "plotlyServerURL": "https://plot.ly"
       },
       "data": [
        {
         "alignmentgroup": "True",
         "bingroup": "x",
         "histfunc": "sum",
         "histnorm": "percent",
         "hovertemplate": "VEHICLE_CLASS=BUS<br>AGE=%{x}<br>percent of sum of FIT-ACTIVE=%{y}<extra></extra>",
         "legendgroup": "",
         "marker": {
          "color": "#636efa",
          "pattern": {
           "shape": ""
          }
         },
         "name": "",
         "nbinsx": 31,
         "offsetgroup": "",
         "orientation": "v",
         "showlegend": false,
         "texttemplate": "%{value:.1f}",
         "type": "histogram",
         "x": [
          0,
          1,
          2,
          3,
          4,
          5,
          6,
          7,
          8,
          9,
          10,
          11,
          12,
          13,
          14,
          15,
          16,
          17,
          18,
          19,
          20,
          21,
          22,
          23,
          24,
          25,
          26,
          27,
          28,
          29,
          30
         ],
         "xaxis": "x4",
         "y": [
          1304,
          1830,
          2995,
          2500,
          2802,
          2327,
          1816,
          1971,
          2352,
          2090,
          1693,
          1794,
          1234,
          776,
          800,
          635,
          329,
          206,
          127,
          37,
          32,
          50,
          32,
          26,
          13,
          7,
          2,
          2,
          0,
          0,
          1
         ],
         "yaxis": "y4"
        },
        {
         "alignmentgroup": "True",
         "bingroup": "x",
         "histfunc": "sum",
         "histnorm": "percent",
         "hovertemplate": "VEHICLE_CLASS=COMMERCIAL<br>AGE=%{x}<br>percent of sum of FIT-ACTIVE=%{y}<extra></extra>",
         "legendgroup": "",
         "marker": {
          "color": "#636efa",
          "pattern": {
           "shape": ""
          }
         },
         "name": "",
         "nbinsx": 31,
         "offsetgroup": "",
         "orientation": "v",
         "showlegend": false,
         "texttemplate": "%{value:.1f}",
         "type": "histogram",
         "x": [
          0,
          1,
          2,
          3,
          4,
          5,
          6,
          7,
          8,
          9,
          10,
          11,
          12,
          13,
          14,
          15,
          16,
          17,
          18,
          19,
          20,
          21,
          22,
          23,
          24,
          25,
          26,
          27,
          28,
          29,
          30
         ],
         "xaxis": "x3",
         "y": [
          129859,
          112553,
          143314,
          123742,
          117816,
          100677,
          80891,
          71922,
          60904,
          59224,
          68877,
          62915,
          44846,
          53633,
          52407,
          42697,
          36137,
          30185,
          26945,
          18241,
          14151,
          13207,
          10053,
          9547,
          6758,
          5020,
          5514,
          3779,
          2737,
          2288,
          1935
         ],
         "yaxis": "y3"
        },
        {
         "alignmentgroup": "True",
         "bingroup": "x",
         "histfunc": "sum",
         "histnorm": "percent",
         "hovertemplate": "VEHICLE_CLASS=MOTORCYCLE<br>AGE=%{x}<br>percent of sum of FIT-ACTIVE=%{y}<extra></extra>",
         "legendgroup": "",
         "marker": {
          "color": "#636efa",
          "pattern": {
           "shape": ""
          }
         },
         "name": "",
         "nbinsx": 31,
         "offsetgroup": "",
         "orientation": "v",
         "showlegend": false,
         "texttemplate": "%{value:.1f}",
         "type": "histogram",
         "x": [
          0,
          1,
          2,
          3,
          4,
          5,
          6,
          7,
          8,
          9,
          10,
          11,
          12,
          13,
          14,
          15,
          16,
          17,
          18,
          19,
          20,
          21,
          22,
          23,
          24,
          25,
          26,
          27,
          28,
          29,
          30
         ],
         "xaxis": "x2",
         "y": [
          6758,
          6964,
          8442,
          8807,
          8278,
          8041,
          8226,
          8307,
          8190,
          7536,
          6679,
          6270,
          11711,
          12072,
          11655,
          10820,
          9068,
          7962,
          8924,
          6649,
          5946,
          5325,
          3609,
          2526,
          1931,
          1432,
          1145,
          1000,
          1015,
          782,
          744
         ],
         "yaxis": "y2"
        },
        {
         "alignmentgroup": "True",
         "bingroup": "x",
         "histfunc": "sum",
         "histnorm": "percent",
         "hovertemplate": "VEHICLE_CLASS=PASSENGER<br>AGE=%{x}<br>percent of sum of FIT-ACTIVE=%{y}<extra></extra>",
         "legendgroup": "",
         "marker": {
          "color": "#636efa",
          "pattern": {
           "shape": ""
          }
         },
         "name": "",
         "nbinsx": 31,
         "offsetgroup": "",
         "orientation": "v",
         "showlegend": false,
         "texttemplate": "%{value:.1f}",
         "type": "histogram",
         "x": [
          0,
          1,
          2,
          3,
          4,
          5,
          6,
          7,
          8,
          9,
          10,
          11,
          12,
          13,
          14,
          15,
          16,
          17,
          18,
          19,
          20,
          21,
          22,
          23,
          24,
          25,
          26,
          27,
          28,
          29,
          30
         ],
         "xaxis": "x",
         "y": [
          430762,
          422696,
          517396,
          534711,
          543758,
          486871,
          489953,
          425526,
          420215,
          369730,
          325214,
          347718,
          262822,
          255644,
          222416,
          171090,
          131235,
          89248,
          76704,
          51667,
          33440,
          29032,
          19680,
          13938,
          10924,
          6284,
          6924,
          5140,
          4363,
          4411,
          4793
         ],
         "yaxis": "y"
        }
       ],
       "layout": {
        "annotations": [
         {
          "font": {},
          "showarrow": false,
          "text": "VEHICLE_CLASS=PASSENGER",
          "textangle": 90,
          "x": 0.98,
          "xanchor": "left",
          "xref": "paper",
          "y": 0.11375,
          "yanchor": "middle",
          "yref": "paper"
         },
         {
          "font": {},
          "showarrow": false,
          "text": "VEHICLE_CLASS=MOTORCYCLE",
          "textangle": 90,
          "x": 0.98,
          "xanchor": "left",
          "xref": "paper",
          "y": 0.37124999999999997,
          "yanchor": "middle",
          "yref": "paper"
         },
         {
          "font": {},
          "showarrow": false,
          "text": "VEHICLE_CLASS=COMMERCIAL",
          "textangle": 90,
          "x": 0.98,
          "xanchor": "left",
          "xref": "paper",
          "y": 0.62875,
          "yanchor": "middle",
          "yref": "paper"
         },
         {
          "font": {},
          "showarrow": false,
          "text": "VEHICLE_CLASS=BUS",
          "textangle": 90,
          "x": 0.98,
          "xanchor": "left",
          "xref": "paper",
          "y": 0.88625,
          "yanchor": "middle",
          "yref": "paper"
         }
        ],
        "barmode": "relative",
        "height": 1000,
        "legend": {
         "tracegroupgap": 0
        },
        "margin": {
         "t": 60
        },
        "template": {
         "data": {
          "bar": [
           {
            "error_x": {
             "color": "#2a3f5f"
            },
            "error_y": {
             "color": "#2a3f5f"
            },
            "marker": {
             "line": {
              "color": "white",
              "width": 0.5
             },
             "pattern": {
              "fillmode": "overlay",
              "size": 10,
              "solidity": 0.2
             }
            },
            "type": "bar"
           }
          ],
          "barpolar": [
           {
            "marker": {
             "line": {
              "color": "white",
              "width": 0.5
             },
             "pattern": {
              "fillmode": "overlay",
              "size": 10,
              "solidity": 0.2
             }
            },
            "type": "barpolar"
           }
          ],
          "carpet": [
           {
            "aaxis": {
             "endlinecolor": "#2a3f5f",
             "gridcolor": "#C8D4E3",
             "linecolor": "#C8D4E3",
             "minorgridcolor": "#C8D4E3",
             "startlinecolor": "#2a3f5f"
            },
            "baxis": {
             "endlinecolor": "#2a3f5f",
             "gridcolor": "#C8D4E3",
             "linecolor": "#C8D4E3",
             "minorgridcolor": "#C8D4E3",
             "startlinecolor": "#2a3f5f"
            },
            "type": "carpet"
           }
          ],
          "choropleth": [
           {
            "colorbar": {
             "outlinewidth": 0,
             "ticks": ""
            },
            "type": "choropleth"
           }
          ],
          "contour": [
           {
            "colorbar": {
             "outlinewidth": 0,
             "ticks": ""
            },
            "colorscale": [
             [
              0,
              "#0d0887"
             ],
             [
              0.1111111111111111,
              "#46039f"
             ],
             [
              0.2222222222222222,
              "#7201a8"
             ],
             [
              0.3333333333333333,
              "#9c179e"
             ],
             [
              0.4444444444444444,
              "#bd3786"
             ],
             [
              0.5555555555555556,
              "#d8576b"
             ],
             [
              0.6666666666666666,
              "#ed7953"
             ],
             [
              0.7777777777777778,
              "#fb9f3a"
             ],
             [
              0.8888888888888888,
              "#fdca26"
             ],
             [
              1,
              "#f0f921"
             ]
            ],
            "type": "contour"
           }
          ],
          "contourcarpet": [
           {
            "colorbar": {
             "outlinewidth": 0,
             "ticks": ""
            },
            "type": "contourcarpet"
           }
          ],
          "heatmap": [
           {
            "colorbar": {
             "outlinewidth": 0,
             "ticks": ""
            },
            "colorscale": [
             [
              0,
              "#0d0887"
             ],
             [
              0.1111111111111111,
              "#46039f"
             ],
             [
              0.2222222222222222,
              "#7201a8"
             ],
             [
              0.3333333333333333,
              "#9c179e"
             ],
             [
              0.4444444444444444,
              "#bd3786"
             ],
             [
              0.5555555555555556,
              "#d8576b"
             ],
             [
              0.6666666666666666,
              "#ed7953"
             ],
             [
              0.7777777777777778,
              "#fb9f3a"
             ],
             [
              0.8888888888888888,
              "#fdca26"
             ],
             [
              1,
              "#f0f921"
             ]
            ],
            "type": "heatmap"
           }
          ],
          "heatmapgl": [
           {
            "colorbar": {
             "outlinewidth": 0,
             "ticks": ""
            },
            "colorscale": [
             [
              0,
              "#0d0887"
             ],
             [
              0.1111111111111111,
              "#46039f"
             ],
             [
              0.2222222222222222,
              "#7201a8"
             ],
             [
              0.3333333333333333,
              "#9c179e"
             ],
             [
              0.4444444444444444,
              "#bd3786"
             ],
             [
              0.5555555555555556,
              "#d8576b"
             ],
             [
              0.6666666666666666,
              "#ed7953"
             ],
             [
              0.7777777777777778,
              "#fb9f3a"
             ],
             [
              0.8888888888888888,
              "#fdca26"
             ],
             [
              1,
              "#f0f921"
             ]
            ],
            "type": "heatmapgl"
           }
          ],
          "histogram": [
           {
            "marker": {
             "pattern": {
              "fillmode": "overlay",
              "size": 10,
              "solidity": 0.2
             }
            },
            "type": "histogram"
           }
          ],
          "histogram2d": [
           {
            "colorbar": {
             "outlinewidth": 0,
             "ticks": ""
            },
            "colorscale": [
             [
              0,
              "#0d0887"
             ],
             [
              0.1111111111111111,
              "#46039f"
             ],
             [
              0.2222222222222222,
              "#7201a8"
             ],
             [
              0.3333333333333333,
              "#9c179e"
             ],
             [
              0.4444444444444444,
              "#bd3786"
             ],
             [
              0.5555555555555556,
              "#d8576b"
             ],
             [
              0.6666666666666666,
              "#ed7953"
             ],
             [
              0.7777777777777778,
              "#fb9f3a"
             ],
             [
              0.8888888888888888,
              "#fdca26"
             ],
             [
              1,
              "#f0f921"
             ]
            ],
            "type": "histogram2d"
           }
          ],
          "histogram2dcontour": [
           {
            "colorbar": {
             "outlinewidth": 0,
             "ticks": ""
            },
            "colorscale": [
             [
              0,
              "#0d0887"
             ],
             [
              0.1111111111111111,
              "#46039f"
             ],
             [
              0.2222222222222222,
              "#7201a8"
             ],
             [
              0.3333333333333333,
              "#9c179e"
             ],
             [
              0.4444444444444444,
              "#bd3786"
             ],
             [
              0.5555555555555556,
              "#d8576b"
             ],
             [
              0.6666666666666666,
              "#ed7953"
             ],
             [
              0.7777777777777778,
              "#fb9f3a"
             ],
             [
              0.8888888888888888,
              "#fdca26"
             ],
             [
              1,
              "#f0f921"
             ]
            ],
            "type": "histogram2dcontour"
           }
          ],
          "mesh3d": [
           {
            "colorbar": {
             "outlinewidth": 0,
             "ticks": ""
            },
            "type": "mesh3d"
           }
          ],
          "parcoords": [
           {
            "line": {
             "colorbar": {
              "outlinewidth": 0,
              "ticks": ""
             }
            },
            "type": "parcoords"
           }
          ],
          "pie": [
           {
            "automargin": true,
            "type": "pie"
           }
          ],
          "scatter": [
           {
            "fillpattern": {
             "fillmode": "overlay",
             "size": 10,
             "solidity": 0.2
            },
            "type": "scatter"
           }
          ],
          "scatter3d": [
           {
            "line": {
             "colorbar": {
              "outlinewidth": 0,
              "ticks": ""
             }
            },
            "marker": {
             "colorbar": {
              "outlinewidth": 0,
              "ticks": ""
             }
            },
            "type": "scatter3d"
           }
          ],
          "scattercarpet": [
           {
            "marker": {
             "colorbar": {
              "outlinewidth": 0,
              "ticks": ""
             }
            },
            "type": "scattercarpet"
           }
          ],
          "scattergeo": [
           {
            "marker": {
             "colorbar": {
              "outlinewidth": 0,
              "ticks": ""
             }
            },
            "type": "scattergeo"
           }
          ],
          "scattergl": [
           {
            "marker": {
             "colorbar": {
              "outlinewidth": 0,
              "ticks": ""
             }
            },
            "type": "scattergl"
           }
          ],
          "scattermapbox": [
           {
            "marker": {
             "colorbar": {
              "outlinewidth": 0,
              "ticks": ""
             }
            },
            "type": "scattermapbox"
           }
          ],
          "scatterpolar": [
           {
            "marker": {
             "colorbar": {
              "outlinewidth": 0,
              "ticks": ""
             }
            },
            "type": "scatterpolar"
           }
          ],
          "scatterpolargl": [
           {
            "marker": {
             "colorbar": {
              "outlinewidth": 0,
              "ticks": ""
             }
            },
            "type": "scatterpolargl"
           }
          ],
          "scatterternary": [
           {
            "marker": {
             "colorbar": {
              "outlinewidth": 0,
              "ticks": ""
             }
            },
            "type": "scatterternary"
           }
          ],
          "surface": [
           {
            "colorbar": {
             "outlinewidth": 0,
             "ticks": ""
            },
            "colorscale": [
             [
              0,
              "#0d0887"
             ],
             [
              0.1111111111111111,
              "#46039f"
             ],
             [
              0.2222222222222222,
              "#7201a8"
             ],
             [
              0.3333333333333333,
              "#9c179e"
             ],
             [
              0.4444444444444444,
              "#bd3786"
             ],
             [
              0.5555555555555556,
              "#d8576b"
             ],
             [
              0.6666666666666666,
              "#ed7953"
             ],
             [
              0.7777777777777778,
              "#fb9f3a"
             ],
             [
              0.8888888888888888,
              "#fdca26"
             ],
             [
              1,
              "#f0f921"
             ]
            ],
            "type": "surface"
           }
          ],
          "table": [
           {
            "cells": {
             "fill": {
              "color": "#EBF0F8"
             },
             "line": {
              "color": "white"
             }
            },
            "header": {
             "fill": {
              "color": "#C8D4E3"
             },
             "line": {
              "color": "white"
             }
            },
            "type": "table"
           }
          ]
         },
         "layout": {
          "annotationdefaults": {
           "arrowcolor": "#2a3f5f",
           "arrowhead": 0,
           "arrowwidth": 1
          },
          "autotypenumbers": "strict",
          "coloraxis": {
           "colorbar": {
            "outlinewidth": 0,
            "ticks": ""
           }
          },
          "colorscale": {
           "diverging": [
            [
             0,
             "#8e0152"
            ],
            [
             0.1,
             "#c51b7d"
            ],
            [
             0.2,
             "#de77ae"
            ],
            [
             0.3,
             "#f1b6da"
            ],
            [
             0.4,
             "#fde0ef"
            ],
            [
             0.5,
             "#f7f7f7"
            ],
            [
             0.6,
             "#e6f5d0"
            ],
            [
             0.7,
             "#b8e186"
            ],
            [
             0.8,
             "#7fbc41"
            ],
            [
             0.9,
             "#4d9221"
            ],
            [
             1,
             "#276419"
            ]
           ],
           "sequential": [
            [
             0,
             "#0d0887"
            ],
            [
             0.1111111111111111,
             "#46039f"
            ],
            [
             0.2222222222222222,
             "#7201a8"
            ],
            [
             0.3333333333333333,
             "#9c179e"
            ],
            [
             0.4444444444444444,
             "#bd3786"
            ],
            [
             0.5555555555555556,
             "#d8576b"
            ],
            [
             0.6666666666666666,
             "#ed7953"
            ],
            [
             0.7777777777777778,
             "#fb9f3a"
            ],
            [
             0.8888888888888888,
             "#fdca26"
            ],
            [
             1,
             "#f0f921"
            ]
           ],
           "sequentialminus": [
            [
             0,
             "#0d0887"
            ],
            [
             0.1111111111111111,
             "#46039f"
            ],
            [
             0.2222222222222222,
             "#7201a8"
            ],
            [
             0.3333333333333333,
             "#9c179e"
            ],
            [
             0.4444444444444444,
             "#bd3786"
            ],
            [
             0.5555555555555556,
             "#d8576b"
            ],
            [
             0.6666666666666666,
             "#ed7953"
            ],
            [
             0.7777777777777778,
             "#fb9f3a"
            ],
            [
             0.8888888888888888,
             "#fdca26"
            ],
            [
             1,
             "#f0f921"
            ]
           ]
          },
          "colorway": [
           "#636efa",
           "#EF553B",
           "#00cc96",
           "#ab63fa",
           "#FFA15A",
           "#19d3f3",
           "#FF6692",
           "#B6E880",
           "#FF97FF",
           "#FECB52"
          ],
          "font": {
           "color": "#2a3f5f"
          },
          "geo": {
           "bgcolor": "white",
           "lakecolor": "white",
           "landcolor": "white",
           "showlakes": true,
           "showland": true,
           "subunitcolor": "#C8D4E3"
          },
          "hoverlabel": {
           "align": "left"
          },
          "hovermode": "closest",
          "mapbox": {
           "style": "light"
          },
          "paper_bgcolor": "white",
          "plot_bgcolor": "white",
          "polar": {
           "angularaxis": {
            "gridcolor": "#EBF0F8",
            "linecolor": "#EBF0F8",
            "ticks": ""
           },
           "bgcolor": "white",
           "radialaxis": {
            "gridcolor": "#EBF0F8",
            "linecolor": "#EBF0F8",
            "ticks": ""
           }
          },
          "scene": {
           "xaxis": {
            "backgroundcolor": "white",
            "gridcolor": "#DFE8F3",
            "gridwidth": 2,
            "linecolor": "#EBF0F8",
            "showbackground": true,
            "ticks": "",
            "zerolinecolor": "#EBF0F8"
           },
           "yaxis": {
            "backgroundcolor": "white",
            "gridcolor": "#DFE8F3",
            "gridwidth": 2,
            "linecolor": "#EBF0F8",
            "showbackground": true,
            "ticks": "",
            "zerolinecolor": "#EBF0F8"
           },
           "zaxis": {
            "backgroundcolor": "white",
            "gridcolor": "#DFE8F3",
            "gridwidth": 2,
            "linecolor": "#EBF0F8",
            "showbackground": true,
            "ticks": "",
            "zerolinecolor": "#EBF0F8"
           }
          },
          "shapedefaults": {
           "line": {
            "color": "#2a3f5f"
           }
          },
          "ternary": {
           "aaxis": {
            "gridcolor": "#DFE8F3",
            "linecolor": "#A2B1C6",
            "ticks": ""
           },
           "baxis": {
            "gridcolor": "#DFE8F3",
            "linecolor": "#A2B1C6",
            "ticks": ""
           },
           "bgcolor": "white",
           "caxis": {
            "gridcolor": "#DFE8F3",
            "linecolor": "#A2B1C6",
            "ticks": ""
           }
          },
          "title": {
           "x": 0.05
          },
          "xaxis": {
           "automargin": true,
           "gridcolor": "#EBF0F8",
           "linecolor": "#EBF0F8",
           "ticks": "",
           "title": {
            "standoff": 15
           },
           "zerolinecolor": "#EBF0F8",
           "zerolinewidth": 2
          },
          "yaxis": {
           "automargin": true,
           "gridcolor": "#EBF0F8",
           "linecolor": "#EBF0F8",
           "ticks": "",
           "title": {
            "standoff": 15
           },
           "zerolinecolor": "#EBF0F8",
           "zerolinewidth": 2
          }
         }
        },
        "width": 1000,
        "xaxis": {
         "anchor": "y",
         "domain": [
          0,
          0.98
         ],
         "dtick": 1,
         "title": {
          "text": "AGE"
         }
        },
        "xaxis2": {
         "anchor": "y2",
         "domain": [
          0,
          0.98
         ],
         "matches": "x",
         "showticklabels": false
        },
        "xaxis3": {
         "anchor": "y3",
         "domain": [
          0,
          0.98
         ],
         "matches": "x",
         "showticklabels": false
        },
        "xaxis4": {
         "anchor": "y4",
         "domain": [
          0,
          0.98
         ],
         "matches": "x",
         "showticklabels": false
        },
        "yaxis": {
         "anchor": "x",
         "domain": [
          0,
          0.2275
         ],
         "title": {
          "text": "percent of sum of FIT-ACTIVE"
         }
        },
        "yaxis2": {
         "anchor": "x2",
         "domain": [
          0.2575,
          0.485
         ],
         "matches": "y",
         "title": {
          "text": "percent of sum of FIT-ACTIVE"
         }
        },
        "yaxis3": {
         "anchor": "x3",
         "domain": [
          0.515,
          0.7425
         ],
         "matches": "y",
         "title": {
          "text": "percent of sum of FIT-ACTIVE"
         }
        },
        "yaxis4": {
         "anchor": "x4",
         "domain": [
          0.7725,
          1
         ],
         "matches": "y",
         "title": {
          "text": "percent of sum of FIT-ACTIVE"
         }
        }
       }
      }
     },
     "metadata": {},
     "output_type": "display_data"
    }
   ],
   "source": [
    "fig = px.histogram(r5, x='AGE', y='FIT-ACTIVE', facet_row='VEHICLE_CLASS', \n",
    "                   nbins=31, histnorm='percent', \n",
    "                #    cumulative=True,\n",
    "                   template='plotly_white', width=1000, height=1000, text_auto='.1f')\n",
    "\n",
    "fig.update_layout(xaxis=dict(dtick=1))\n",
    "\n",
    "fig.show()"
   ]
  },
  {
   "cell_type": "code",
   "execution_count": 11,
   "metadata": {},
   "outputs": [],
   "source": [
    "r5_pass = r5[r5['VEHICLE_CLASS'] == 'PASSENGER']\n",
    "r5_comm = r5[r5['VEHICLE_CLASS'] == 'COMMERCIAL']\n",
    "r5_motor = r5[r5['VEHICLE_CLASS'] == 'MOTORCYCLE']\n",
    "r5_bus = r5[r5['VEHICLE_CLASS'] == 'BUS']"
   ]
  },
  {
   "cell_type": "code",
   "execution_count": 12,
   "metadata": {},
   "outputs": [],
   "source": [
    "r5_pass = r5_pass[r5_pass['VALUE'] >= 2006].sort_values('VALUE')\n",
    "r5_pass['AGE_DIST'] = r5_pass['FIT-ACTIVE']/r5_pass['FIT-ACTIVE'].sum()\n",
    "# r5_pass[['FIT-ACTIVE', 'AGE_DIST']].to_clipboard()\n",
    "# sum(r5_pass['AGE_DIST']*r5_pass['AGE'])"
   ]
  },
  {
   "cell_type": "code",
   "execution_count": 13,
   "metadata": {},
   "outputs": [],
   "source": [
    "r5_comm = r5_comm[r5_comm['VALUE'] >= 2004].sort_values('VALUE')\n",
    "r5_comm['AGE_DIST'] = r5_comm['FIT-ACTIVE']/r5_comm['FIT-ACTIVE'].sum()\n",
    "# r5_comm[['FIT-ACTIVE', 'AGE_DIST']].to_clipboard()\n",
    "# sum(r5_comm['AGE_DIST']*r5_comm['AGE'])"
   ]
  },
  {
   "cell_type": "code",
   "execution_count": 14,
   "metadata": {},
   "outputs": [],
   "source": [
    "r5_motor = r5_motor[r5_motor['VALUE'] >= 2005].sort_values('VALUE')\n",
    "r5_motor['AGE_DIST'] = r5_motor['FIT-ACTIVE']/r5_motor['FIT-ACTIVE'].sum()\n",
    "# r5_motor[['FIT-ACTIVE', 'AGE_DIST']].to_clipboard()"
   ]
  },
  {
   "cell_type": "code",
   "execution_count": 15,
   "metadata": {},
   "outputs": [],
   "source": [
    "r5_bus = r5_bus[r5_bus['VALUE'] >= 2009].sort_values('VALUE')\n",
    "r5_bus['AGE_DIST'] = r5_bus['FIT-ACTIVE']/r5_bus['FIT-ACTIVE'].sum()\n",
    "# r5_bus[['FIT-ACTIVE', 'AGE_DIST']].to_clipboard()"
   ]
  },
  {
   "cell_type": "code",
   "execution_count": null,
   "metadata": {},
   "outputs": [],
   "source": []
  }
 ],
 "metadata": {
  "kernelspec": {
   "display_name": "new_base",
   "language": "python",
   "name": "python3"
  },
  "language_info": {
   "codemirror_mode": {
    "name": "ipython",
    "version": 3
   },
   "file_extension": ".py",
   "mimetype": "text/x-python",
   "name": "python",
   "nbconvert_exporter": "python",
   "pygments_lexer": "ipython3",
   "version": "3.12.7"
  }
 },
 "nbformat": 4,
 "nbformat_minor": 2
}
