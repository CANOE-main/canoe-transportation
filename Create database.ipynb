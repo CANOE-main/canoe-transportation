{
 "cells": [
  {
   "cell_type": "markdown",
   "id": "a21458ba",
   "metadata": {},
   "source": [
    "# Create database\n",
    "\n",
    "Does the steps in sequence."
   ]
  },
  {
   "cell_type": "code",
   "execution_count": 1,
   "id": "700a34f5",
   "metadata": {},
   "outputs": [
    {
     "data": {
      "text/plain": [
       "<module 'transportation.compile_transport' from 'c:\\\\Users\\\\yeowl\\\\OneDrive - University of Toronto\\\\1UofT\\\\PhD Research\\\\CANOE\\\\CANOE-transportation\\\\transportation\\\\compile_transport.py'>"
      ]
     },
     "execution_count": 1,
     "metadata": {},
     "output_type": "execute_result"
    }
   ],
   "source": [
    "import importlib\n",
    "import transportation.compile_transport\n",
    "importlib.reload(transportation.compile_transport)"
   ]
  },
  {
   "cell_type": "markdown",
   "id": "69dfb370",
   "metadata": {},
   "source": [
    "# Compile database from spreadsheet"
   ]
  },
  {
   "cell_type": "code",
   "execution_count": 31,
   "id": "500f21d0",
   "metadata": {},
   "outputs": [
    {
     "name": "stdout",
     "output_type": "stream",
     "text": [
      "province : ON\n",
      "spreadsheet : c:\\Users\\yeowl\\OneDrive - University of Toronto\\1UofT\\PhD Research\\CANOE\\CANOE-transportation\\transportation/spreadsheet_database/CANOE_TRN_ON_v4_test.xlsx\n",
      "database : c:\\Users\\yeowl\\OneDrive - University of Toronto\\1UofT\\PhD Research\\CANOE\\CANOE-transportation\\transportation/compiled_database/canoe_trn_on_vanilla4_test.sqlite\n",
      "schema : c:\\Users\\yeowl\\OneDrive - University of Toronto\\1UofT\\PhD Research\\CANOE\\CANOE-transportation\\transportation/../canoe_schema.sql\n",
      "template : c:\\Users\\yeowl\\OneDrive - University of Toronto\\1UofT\\PhD Research\\CANOE\\CANOE-transportation\\transportation/canoe_trn_template.xlsx\n",
      "ldv_profile : c:\\Users\\yeowl\\OneDrive - University of Toronto\\1UofT\\PhD Research\\CANOE\\CANOE-transportation\\transportation/../charging_profiles/ramp_mobility/results/ON-2016TTS_no-we_2018_v4_2023-batteries.csv\n",
      "weather_year : 2018\n",
      "charging_dsd : False\n",
      "aggregate_excap : True\n",
      "create_emission_embodied : True\n",
      "convert_emission_units : True\n",
      "epsilon : 0.0001\n",
      "precision : 9\n",
      "wipe_database : True\n",
      "Database wiped prior to aggregation.\n",
      "\n",
      "Template tables inserted into canoe_trn_on_vanilla4_test.sqlite\n",
      "\n",
      "References compiled into canoe_trn_on_vanilla4_test.sqlite\n",
      "\n",
      "Technology data compiled into canoe_trn_on_vanilla4_test.sqlite\n",
      "\n",
      "Commodity data compiled into canoe_trn_on_vanilla4_test.sqlite\n",
      "\n",
      "Demand data compiled into canoe_trn_on_vanilla4_test.sqlite\n",
      "\n"
     ]
    },
    {
     "name": "stderr",
     "output_type": "stream",
     "text": [
      "c:\\Users\\yeowl\\OneDrive - University of Toronto\\1UofT\\PhD Research\\CANOE\\CANOE-transportation\\transportation\\compile_transport.py:452: FutureWarning: 'H' is deprecated and will be removed in a future version, please use 'h' instead.\n",
      "  # Labels time series into the desired format\n"
     ]
    },
    {
     "name": "stdout",
     "output_type": "stream",
     "text": [
      "Capacity factor distributions compiled into canoe_trn_on_vanilla4_test.sqlite\n",
      "\n",
      "Lifetime data compiled into canoe_trn_on_vanilla4_test.sqlite\n",
      "\n",
      "Existing capacity data compiled into canoe_trn_on_vanilla4_test.sqlite\n",
      "\n",
      "C2A factors data compiled into canoe_trn_on_vanilla4_test.sqlite\n",
      "\n",
      "Max/min annual cap factors data compiled into canoe_trn_on_vanilla4_test.sqlite\n",
      "\n"
     ]
    },
    {
     "name": "stderr",
     "output_type": "stream",
     "text": [
      "c:\\Users\\yeowl\\OneDrive - University of Toronto\\1UofT\\PhD Research\\CANOE\\CANOE-transportation\\transportation\\compile_transport.py:760: SettingWithCopyWarning: \n",
      "A value is trying to be set on a copy of a slice from a DataFrame.\n",
      "Try using .loc[row_indexer,col_indexer] = value instead\n",
      "\n",
      "See the caveats in the documentation: https://pandas.pydata.org/pandas-docs/stable/user_guide/indexing.html#returning-a-view-versus-a-copy\n",
      "  df = pd.concat([df_ex_agg, df_new], ignore_index=True).reset_index(drop=True)\n"
     ]
    },
    {
     "name": "stdout",
     "output_type": "stream",
     "text": [
      "Efficiency data compiled into canoe_trn_on_vanilla4_test.sqlite\n",
      "\n",
      "Investment cost data compiled into canoe_trn_on_vanilla4_test.sqlite\n",
      "\n",
      "Variable cost data compiled into canoe_trn_on_vanilla4_test.sqlite\n",
      "\n",
      "Fixed cost data compiled into canoe_trn_on_vanilla4_test.sqlite\n",
      "\n",
      "Emission factors from activity data compiled into canoe_trn_on_vanilla4_test.sqlite\n",
      "\n",
      "Emission factors from capacity data compiled into canoe_trn_on_vanilla4_test.sqlite\n",
      "\n",
      "Tech input commodity split data compiled into canoe_trn_on_vanilla4_test.sqlite\n",
      "\n",
      "Deleted T_HDV_AJF_JFL_EX @ 2000 in ExistingCapacity because exist_cap < 0.0001\n",
      "Deleted T_HDV_AJP_JFL_EX @ 2000 in ExistingCapacity because exist_cap < 0.0001\n",
      "Deleted T_HDV_RF_DSL_EX @ 2000 in ExistingCapacity because exist_cap < 0.0001\n",
      "Deleted T_HDV_RICP_DSL_EX @ 2000 in ExistingCapacity because exist_cap < 0.0001\n",
      "Deleted T_HDV_WTF_HFO_EX @ 2000 in ExistingCapacity because exist_cap < 0.0001\n",
      "Deleted T_HDV_WTF_MDO_EX @ 2000 in ExistingCapacity because exist_cap < 0.0001\n",
      "Deleted T_LDV_BEV_CHRG @ 2010 in ExistingCapacity because exist_cap < 0.0001\n",
      "Deleted T_LDV_C_BEV150_EX @ 2010 in ExistingCapacity because exist_cap < 0.0001\n",
      "Deleted T_LDV_C_GSL_HEV_EX @ 2010 in ExistingCapacity because exist_cap < 0.0001\n",
      "Deleted T_LDV_C_GSL_PHEV35_EX @ 2010 in ExistingCapacity because exist_cap < 0.0001\n",
      "Deleted T_LDV_LTF_GSL_HEV_EX @ 2010 in ExistingCapacity because exist_cap < 0.0001\n",
      "Deleted T_LDV_LTF_GSL_PHEV35_EX @ 2010 in ExistingCapacity because exist_cap < 0.0001\n",
      "Deleted T_LDV_LTF_GSL_PHEV35_EX @ 2015 in ExistingCapacity because exist_cap < 0.0001\n",
      "Deleted T_LDV_LTP_BEV300_EX @ 2010 in ExistingCapacity because exist_cap < 0.0001\n",
      "Deleted T_LDV_LTP_GSL_HEV_EX @ 2010 in ExistingCapacity because exist_cap < 0.0001\n",
      "Deleted T_LDV_LTP_GSL_PHEV35_EX @ 2010 in ExistingCapacity because exist_cap < 0.0001\n",
      "Deleted T_LDV_PHEV_CHRG @ 2010 in ExistingCapacity because exist_cap < 0.0001\n",
      "Deleted T_HDV_AJF_JFL_EX @ 2000 in Efficiency because exist_cap < 0.0001\n",
      "Deleted T_HDV_AJP_JFL_EX @ 2000 in Efficiency because exist_cap < 0.0001\n",
      "Deleted T_HDV_RF_DSL_EX @ 2000 in Efficiency because exist_cap < 0.0001\n",
      "Deleted T_HDV_RICP_DSL_EX @ 2000 in Efficiency because exist_cap < 0.0001\n",
      "Deleted T_HDV_WTF_HFO_EX @ 2000 in Efficiency because exist_cap < 0.0001\n",
      "Deleted T_HDV_WTF_MDO_EX @ 2000 in Efficiency because exist_cap < 0.0001\n",
      "Deleted T_LDV_BEV_CHRG @ 2010 in Efficiency because exist_cap < 0.0001\n",
      "Deleted T_LDV_C_BEV150_EX @ 2010 in Efficiency because exist_cap < 0.0001\n",
      "Deleted T_LDV_C_GSL_HEV_EX @ 2010 in Efficiency because exist_cap < 0.0001\n",
      "Deleted T_LDV_C_GSL_PHEV35_EX @ 2010 in Efficiency because exist_cap < 0.0001\n",
      "Deleted T_LDV_LTF_GSL_HEV_EX @ 2010 in Efficiency because exist_cap < 0.0001\n",
      "Deleted T_LDV_LTF_GSL_PHEV35_EX @ 2010 in Efficiency because exist_cap < 0.0001\n",
      "Deleted T_LDV_LTF_GSL_PHEV35_EX @ 2015 in Efficiency because exist_cap < 0.0001\n",
      "Deleted T_LDV_LTP_BEV300_EX @ 2010 in Efficiency because exist_cap < 0.0001\n",
      "Deleted T_LDV_LTP_GSL_HEV_EX @ 2010 in Efficiency because exist_cap < 0.0001\n",
      "Deleted T_LDV_LTP_GSL_PHEV35_EX @ 2010 in Efficiency because exist_cap < 0.0001\n",
      "Deleted T_LDV_PHEV_CHRG @ 2010 in Efficiency because exist_cap < 0.0001\n",
      "Deleted T_HDV_AJF_JFL_EX @ 2000 in CostVariable because exist_cap < 0.0001\n",
      "Deleted T_HDV_AJP_JFL_EX @ 2000 in CostVariable because exist_cap < 0.0001\n",
      "Deleted T_HDV_RF_DSL_EX @ 2000 in CostVariable because exist_cap < 0.0001\n",
      "Deleted T_HDV_RICP_DSL_EX @ 2000 in CostVariable because exist_cap < 0.0001\n",
      "Deleted T_HDV_WTF_HFO_EX @ 2000 in CostVariable because exist_cap < 0.0001\n",
      "Deleted T_HDV_WTF_MDO_EX @ 2000 in CostVariable because exist_cap < 0.0001\n",
      "Deleted T_LDV_BEV_CHRG @ 2010 in CostVariable because exist_cap < 0.0001\n",
      "Deleted T_LDV_C_BEV150_EX @ 2010 in CostVariable because exist_cap < 0.0001\n",
      "Deleted T_LDV_C_GSL_HEV_EX @ 2010 in CostVariable because exist_cap < 0.0001\n",
      "Deleted T_LDV_C_GSL_PHEV35_EX @ 2010 in CostVariable because exist_cap < 0.0001\n",
      "Deleted T_LDV_LTF_GSL_HEV_EX @ 2010 in CostVariable because exist_cap < 0.0001\n",
      "Deleted T_LDV_LTF_GSL_PHEV35_EX @ 2010 in CostVariable because exist_cap < 0.0001\n",
      "Deleted T_LDV_LTF_GSL_PHEV35_EX @ 2015 in CostVariable because exist_cap < 0.0001\n",
      "Deleted T_LDV_LTP_BEV300_EX @ 2010 in CostVariable because exist_cap < 0.0001\n",
      "Deleted T_LDV_LTP_GSL_HEV_EX @ 2010 in CostVariable because exist_cap < 0.0001\n",
      "Deleted T_LDV_LTP_GSL_PHEV35_EX @ 2010 in CostVariable because exist_cap < 0.0001\n",
      "Deleted T_LDV_PHEV_CHRG @ 2010 in CostVariable because exist_cap < 0.0001\n",
      "Deleted T_HDV_AJF_JFL_EX @ 2000 in CostFixed because exist_cap < 0.0001\n",
      "Deleted T_HDV_AJP_JFL_EX @ 2000 in CostFixed because exist_cap < 0.0001\n",
      "Deleted T_HDV_RF_DSL_EX @ 2000 in CostFixed because exist_cap < 0.0001\n",
      "Deleted T_HDV_RICP_DSL_EX @ 2000 in CostFixed because exist_cap < 0.0001\n",
      "Deleted T_HDV_WTF_HFO_EX @ 2000 in CostFixed because exist_cap < 0.0001\n",
      "Deleted T_HDV_WTF_MDO_EX @ 2000 in CostFixed because exist_cap < 0.0001\n",
      "Deleted T_LDV_BEV_CHRG @ 2010 in CostFixed because exist_cap < 0.0001\n",
      "Deleted T_LDV_C_BEV150_EX @ 2010 in CostFixed because exist_cap < 0.0001\n",
      "Deleted T_LDV_C_GSL_HEV_EX @ 2010 in CostFixed because exist_cap < 0.0001\n",
      "Deleted T_LDV_C_GSL_PHEV35_EX @ 2010 in CostFixed because exist_cap < 0.0001\n",
      "Deleted T_LDV_LTF_GSL_HEV_EX @ 2010 in CostFixed because exist_cap < 0.0001\n",
      "Deleted T_LDV_LTF_GSL_PHEV35_EX @ 2010 in CostFixed because exist_cap < 0.0001\n",
      "Deleted T_LDV_LTF_GSL_PHEV35_EX @ 2015 in CostFixed because exist_cap < 0.0001\n",
      "Deleted T_LDV_LTP_BEV300_EX @ 2010 in CostFixed because exist_cap < 0.0001\n",
      "Deleted T_LDV_LTP_GSL_HEV_EX @ 2010 in CostFixed because exist_cap < 0.0001\n",
      "Deleted T_LDV_LTP_GSL_PHEV35_EX @ 2010 in CostFixed because exist_cap < 0.0001\n",
      "Deleted T_LDV_PHEV_CHRG @ 2010 in CostFixed because exist_cap < 0.0001\n",
      "Cleanup complete.\n",
      "\n",
      "All parameter data from CANOE_TRN_ON_v4_test.xlsx compiled into canoe_trn_on_vanilla4_test.sqlite\n",
      "\n"
     ]
    }
   ],
   "source": [
    "transportation.compile_transport.compile_transport(\n",
    "    province = 'ON', spreadsheet_name_format = 'CANOE_TRN_<r>_v4_test', db_name_format = 'canoe_trn_<r>_vanilla4_test',\n",
    "    create_emission_embodied = True\n",
    ")"
   ]
  },
  {
   "cell_type": "markdown",
   "id": "76247fb9",
   "metadata": {},
   "source": [
    "# Turn database into Temoa v3 format"
   ]
  },
  {
   "cell_type": "code",
   "execution_count": 3,
   "id": "3ba2f3ae",
   "metadata": {},
   "outputs": [],
   "source": [
    "import db_processing.to_temoa_v3.to_temoa_v3\n",
    "importlib.reload(db_processing.to_temoa_v3.to_temoa_v3)\n",
    "from db_processing.to_temoa_v3.to_temoa_v3 import convert_to_temoa_v3"
   ]
  },
  {
   "cell_type": "code",
   "execution_count": 41,
   "id": "e2e5db2c",
   "metadata": {},
   "outputs": [
    {
     "name": "stdout",
     "output_type": "stream",
     "text": [
      "charging_dsd: False\n"
     ]
    }
   ],
   "source": [
    "convert_to_temoa_v3(db_name='canoe_trn_on_vanilla4_test')"
   ]
  },
  {
   "cell_type": "markdown",
   "id": "2b381d1a",
   "metadata": {},
   "source": [
    "# Subset replacement"
   ]
  },
  {
   "cell_type": "code",
   "execution_count": 2,
   "id": "91141a16",
   "metadata": {},
   "outputs": [],
   "source": [
    "import db_processing.update_database.subset_replacement\n",
    "importlib.reload(db_processing.update_database.subset_replacement)\n",
    "from db_processing.update_database.subset_replacement import replace_subset\n",
    "from db_processing.update_database.cft_norm import normalize_cft"
   ]
  },
  {
   "cell_type": "code",
   "execution_count": 6,
   "id": "50ea784f",
   "metadata": {},
   "outputs": [
    {
     "name": "stdout",
     "output_type": "stream",
     "text": [
      "Replaced subset. Saved to: c:\\Users\\yeowl\\OneDrive - University of Toronto\\1UofT\\PhD Research\\CANOE\\CANOE-transportation\\db_processing\\update_database/target_database/canoe_on_12d_vanilla4_test_v3_replacesubsetwithsubset.sqlite\n"
     ]
    }
   ],
   "source": [
    "replace_subset(\n",
    "    target_name='canoe_on_12d_vanilla4_test',\n",
    "    source_name='canoe_trn_on_vanilla4_test_v3',\n",
    "    subset_name='canoe_trn_on_vanilla4_test_v3',\n",
    "    output_name='canoe_on_12d_vanilla4_test_v3_replacesubsetwithsubset',\n",
    ")"
   ]
  },
  {
   "cell_type": "code",
   "execution_count": 21,
   "id": "a3719c7a",
   "metadata": {},
   "outputs": [],
   "source": [
    "import sqlite3\n",
    "from db_processing.update_database.subset_replacement import get_unique_seasons"
   ]
  },
  {
   "cell_type": "code",
   "execution_count": 45,
   "id": "e4f3e95e",
   "metadata": {},
   "outputs": [
    {
     "name": "stdout",
     "output_type": "stream",
     "text": [
      "TimeSegmentFraction\n",
      "CapacityFactorTech\n",
      "CapacityFactorProcess\n",
      "MaxSeasonalActivity\n",
      "MinSeasonalActivity\n",
      "TimeSeason\n",
      "DemandSpecificDistribution\n",
      "OutputCurtailment\n",
      "OutputFlowIn\n",
      "OutputFlowOut\n",
      "['D219', 'D297', 'D130', 'D270', 'D192', 'D160', 'D330', 'D216', 'D294', 'D222', 'D314', 'D011', 'D091', 'D246', 'D203', 'D038', 'D185', 'D277', 'D355', 'D187', 'D148', 'D284', 'D021', 'D001', 'D243', 'D350', 'D007', 'D006', 'D046', 'D248', 'D085', 'D086', 'D188', 'D304', 'D282', 'D262', 'D354', 'D299', 'D117', 'D212', 'D133', 'D080', 'D271', 'D037', 'D147', 'D016', 'D273', 'D172', 'D336', 'D198', 'D260', 'D338', 'D343', 'D074', 'D266', 'D189', 'D283', 'D114', 'D072', 'D171', 'D034', 'D191', 'D349', 'D194', 'D169', 'D099', 'D267', 'D138', 'D131', 'D150', 'D202', 'D337', 'D254', 'D065', 'D075', 'D351', 'D033', 'D295', 'D031', 'D209', 'D263', 'D275', 'D068', 'D004', 'D155', 'D170', 'D069', 'D234', 'D221', 'D287', 'D002', 'D356', 'D261', 'D195', 'D123', 'D293', 'D269', 'D062', 'D113', 'D180', 'D206', 'D129', 'D201', 'D066', 'D253', 'D310', 'D081', 'D078', 'D323', 'D025', 'D327', 'D010', 'D156', 'D179', 'D017', 'D251', 'D236', 'D029', 'D053', 'D265', 'D359', 'D089', 'D108', 'D019', 'D026', 'D247', 'D193', 'D272', 'D281', 'D051', 'D118', 'D238', 'D101', 'D142', 'D342', 'D077', 'D095', 'D112', 'D196', 'D285', 'D255', 'D311', 'D197', 'D070', 'D122', 'D054', 'D152', 'D088', 'D096', 'D303', 'D360', 'D204', 'D136', 'D164', 'D302', 'D107', 'D134', 'D319', 'D041', 'D092', 'D132', 'D145', 'D296', 'D087', 'D165', 'D291', 'D055', 'D057', 'D223', 'D163', 'D322', 'D329', 'D103', 'D058', 'D042', 'D110', 'D227', 'D259', 'D210', 'D309', 'D159', 'D364', 'D279', 'D174', 'D308', 'D362', 'D240', 'D102', 'D325', 'D018', 'D252', 'D052', 'D278', 'D190', 'D143', 'D211', 'D003', 'D045', 'D115', 'D183', 'D175', 'D276', 'D093', 'D244', 'D184', 'D313', 'D073', 'D232', 'D320', 'D333', 'D106', 'D032', 'D128', 'D363', 'D235', 'D098', 'D116', 'D334', 'D067', 'D326', 'D357', 'D229', 'D288', 'D307', 'D158', 'D348', 'D208', 'D151', 'D014', 'D139', 'D013', 'D020', 'D306', 'D141', 'D268', 'D331', 'D292', 'D149', 'D137', 'D300', 'D317', 'D344', 'D105', 'D220', 'D028', 'D024', 'D264', 'D063', 'D186', 'D079', 'D328', 'D154', 'D207', 'D090', 'D301', 'D289', 'D153', 'D340', 'D082', 'D218', 'D168', 'D173', 'D205', 'D144', 'D027', 'D084', 'D341', 'D126', 'D335', 'D012', 'D125', 'D047', 'D100', 'D036', 'D258', 'D316', 'D332', 'D181', 'D056', 'D345', 'D256', 'D249', 'D022', 'D225', 'D228', 'D124', 'D286', 'D200', 'D182', 'D127', 'D071', 'D030', 'D049', 'D060', 'D109', 'D224', 'D239', 'D121', 'D358', 'D009', 'D312', 'D044', 'D230', 'D178', 'D162', 'D061', 'D250', 'D352', 'D083', 'D315', 'D214', 'D140', 'D111', 'D008', 'D005', 'D104', 'D135', 'D321', 'D233', 'D290', 'D231', 'D040', 'D217', 'D257', 'D094', 'D242', 'D035', 'D241', 'D146', 'D324', 'D365', 'D097', 'D245', 'D274', 'D015', 'D318', 'D161', 'D215', 'D043', 'D298', 'D023', 'D039', 'D176', 'D059', 'D167', 'D346', 'D280', 'D199', 'D226', 'D076', 'D353', 'D361', 'D119', 'D213', 'D237', 'D157', 'D050', 'D305', 'D339', 'D064', 'D120', 'D177', 'D166', 'D347', 'D048']\n"
     ]
    }
   ],
   "source": [
    "from utils import get_unique_seasons\n",
    "#db_path = 'canoe_on_12d_baseline.sqlite'\n",
    "db_path = 'db_processing/update_database/target_database/canoe_on_12d_vanilla4.sqlite'\n",
    "print(get_unique_seasons(db_path))"
   ]
  },
  {
   "cell_type": "markdown",
   "id": "45681d92",
   "metadata": {},
   "source": [
    "# Update constraints "
   ]
  },
  {
   "cell_type": "code",
   "execution_count": 10,
   "id": "23d38997",
   "metadata": {},
   "outputs": [],
   "source": [
    "import model_constraints.update_constraints\n",
    "importlib.reload(model_constraints.update_constraints)\n",
    "from model_constraints.update_constraints import update_constraints"
   ]
  },
  {
   "cell_type": "code",
   "execution_count": 11,
   "id": "5bbe2a78",
   "metadata": {},
   "outputs": [
    {
     "name": "stdout",
     "output_type": "stream",
     "text": [
      "Updated constraints from trn_constraints_lowgrowth in canoe_on_12d_lowgrowth_test database.\n"
     ]
    }
   ],
   "source": [
    "update_constraints(db_source='canoe_on_12d_vanilla4_test',\n",
    "                   db_target='canoe_on_12d_lowgrowth_test',\n",
    "                   constraints='trn_constraints_lowgrowth')"
   ]
  },
  {
   "cell_type": "markdown",
   "id": "5a82439c",
   "metadata": {},
   "source": [
    "# Create database from insertions.xlsx"
   ]
  },
  {
   "cell_type": "code",
   "execution_count": 73,
   "id": "edfe2225",
   "metadata": {},
   "outputs": [],
   "source": [
    "import importlib\n",
    "import lihwei_db_edits.lihwei_db_edits\n",
    "importlib.reload(lihwei_db_edits.lihwei_db_edits)\n",
    "from lihwei_db_edits.lihwei_db_edits import xlsx_to_sqlite\n",
    "from utils import remove_empty_tables"
   ]
  },
  {
   "cell_type": "code",
   "execution_count": 74,
   "id": "70a7af57",
   "metadata": {},
   "outputs": [
    {
     "name": "stdout",
     "output_type": "stream",
     "text": [
      "Sheet 'Overview' does not match any defined schema and will be skipped.\n"
     ]
    },
    {
     "name": "stderr",
     "output_type": "stream",
     "text": [
      "c:\\Users\\yeowl\\miniconda3\\envs\\paper-3-profiles\\Lib\\site-packages\\openpyxl\\worksheet\\_read_only.py:85: UserWarning: Data Validation extension is not supported and will be removed\n",
      "  for idx, row in parser.parse():\n",
      "c:\\Users\\yeowl\\miniconda3\\envs\\paper-3-profiles\\Lib\\site-packages\\openpyxl\\worksheet\\_read_only.py:85: UserWarning: Data Validation extension is not supported and will be removed\n",
      "  for idx, row in parser.parse():\n",
      "c:\\Users\\yeowl\\miniconda3\\envs\\paper-3-profiles\\Lib\\site-packages\\openpyxl\\worksheet\\_read_only.py:85: UserWarning: Data Validation extension is not supported and will be removed\n",
      "  for idx, row in parser.parse():\n"
     ]
    },
    {
     "name": "stdout",
     "output_type": "stream",
     "text": [
      "Sheet 'Background Data' does not match any defined schema and will be skipped.\n",
      "Sheet 'NRCan Fuel Guide' does not match any defined schema and will be skipped.\n",
      "Sheet 'Autonomie 2023 LDV' does not match any defined schema and will be skipped.\n",
      "Sheet 'Autonomie 2023 MHDV' does not match any defined schema and will be skipped.\n",
      "Sheet 'GREET-AFLEET Data' does not match any defined schema and will be skipped.\n",
      "Sheet 'OEO & EPAUS9rT Data' does not match any defined schema and will be skipped.\n",
      "Sheet 'AEO-LDV Data' does not match any defined schema and will be skipped.\n",
      "Sheet 'H2 Data' does not match any defined schema and will be skipped.\n",
      "Sheet 'Conversion Factors' does not match any defined schema and will be skipped.\n",
      "Sheet 'References' does not match any defined schema and will be skipped.\n",
      "Dropping empty table: TechOutputSplit\n",
      "Dropping empty table: TechInputSplit\n",
      "Dropping empty table: TechInputSplitAverage\n",
      "Dropping empty table: TimeSegmentFraction\n",
      "Dropping empty table: PlanningReserveMargin\n",
      "Dropping empty table: RampDown\n",
      "Dropping empty table: RampUp\n",
      "Dropping empty table: MinCapacity\n",
      "Dropping empty table: MinActivity\n",
      "Dropping empty table: MaxCapacity\n",
      "Dropping empty table: MaxActivity\n",
      "Dropping empty table: MinAnnualCapacityFactor\n",
      "Dropping empty table: MaxAnnualCapacityFactor\n",
      "Dropping empty table: LifetimeProcess\n",
      "Dropping empty table: LoanLifetimeTech\n",
      "Dropping empty table: GrowthRateSeed\n",
      "Dropping empty table: EmissionLimit\n",
      "Dropping empty table: EmissionActivity\n",
      "Dropping empty table: CostVariable\n",
      "Dropping empty table: CostInvest\n",
      "Dropping empty table: CostFixed\n",
      "Dropping empty table: CapacityToActivity\n",
      "Dropping empty table: CapacityFactorTech\n",
      "Dropping empty table: CapacityFactorProcess\n",
      "Dropping empty table: CapacityCredit\n",
      "Dropping empty table: MaxResource\n",
      "Dropping empty table: LinkedTech\n",
      "Dropping empty table: MaxSeasonalActivity\n",
      "Dropping empty table: MinSeasonalActivity\n",
      "Dropping empty table: references\n",
      "Dropping empty table: CommodityType\n",
      "Dropping empty table: currencies\n",
      "Dropping empty table: dq_estimate\n",
      "Dropping empty table: dq_reliability\n",
      "Dropping empty table: dq_completeness\n",
      "Dropping empty table: dq_time\n",
      "Dropping empty table: dq_geography\n",
      "Dropping empty table: dq_technology\n",
      "Dropping empty table: Region\n",
      "Dropping empty table: SectorLabel\n",
      "Dropping empty table: TechnologyType\n",
      "Dropping empty table: TimePeriodType\n",
      "Dropping empty table: TimePeriod\n",
      "Dropping empty table: TimeSeason\n",
      "Dropping empty table: TimeOfDay\n",
      "Dropping empty table: StorageDuration\n",
      "Dropping empty table: DemandSpecificDistribution\n",
      "Dropping empty table: CostEmission\n",
      "Dropping empty table: LoanRate\n",
      "Dropping empty table: MaxActivityGroup\n",
      "Dropping empty table: MaxActivityShare\n",
      "Dropping empty table: MaxCapacityGroup\n",
      "Dropping empty table: MaxCapacityShare\n",
      "Dropping empty table: MaxNewCapacity\n",
      "Dropping empty table: MaxSeasonalActivity\n",
      "Dropping empty table: MinSeasonalActivity\n",
      "Dropping empty table: references\n",
      "Dropping empty table: CommodityType\n",
      "Dropping empty table: currencies\n",
      "Dropping empty table: dq_estimate\n",
      "Dropping empty table: dq_reliability\n",
      "Dropping empty table: dq_completeness\n",
      "Dropping empty table: dq_time\n",
      "Dropping empty table: dq_geography\n",
      "Dropping empty table: dq_technology\n",
      "Dropping empty table: Region\n",
      "Dropping empty table: SectorLabel\n",
      "Dropping empty table: TechnologyType\n",
      "Dropping empty table: TimePeriodType\n",
      "Dropping empty table: TimePeriod\n",
      "Dropping empty table: TimeSeason\n",
      "Dropping empty table: TimeOfDay\n",
      "Dropping empty table: StorageDuration\n",
      "Dropping empty table: DemandSpecificDistribution\n",
      "Dropping empty table: CostEmission\n",
      "Dropping empty table: LoanRate\n",
      "Dropping empty table: MaxActivityGroup\n",
      "Dropping empty table: MaxActivityShare\n",
      "Dropping empty table: MaxCapacityGroup\n",
      "Dropping empty table: MaxCapacityShare\n",
      "Dropping empty table: MaxNewCapacity\n",
      "Dropping empty table: MaxNewCapacityGroup\n",
      "Dropping empty table: MaxNewCapacityShare\n",
      "Dropping empty table: MetaData\n",
      "Dropping empty table: MetaDataReal\n",
      "Dropping empty table: MinActivityGroup\n",
      "Dropping empty table: MinActivityShare\n",
      "Dropping empty table: MinCapacityGroup\n",
      "Dropping empty table: MinCapacityShare\n",
      "Dropping empty table: MinNewCapacity\n",
      "Dropping empty table: MinNewCapacityGroup\n",
      "Dropping empty table: OutputBuiltCapacity\n",
      "Dropping empty table: OutputCost\n",
      "Dropping empty table: OutputCurtailment\n",
      "Dropping empty table: OutputDualVariable\n",
      "Dropping empty table: OutputEmission\n",
      "Dropping empty table: OutputFlowIn\n",
      "Dropping empty table: OutputFlowOut\n",
      "Dropping empty table: OutputNetCapacity\n",
      "Dropping empty table: OutputObjective\n",
      "Dropping empty table: OutputRetiredCapacity\n",
      "Dropping empty table: RPSRequirement\n",
      "Dropping empty table: StorageInit\n",
      "Dropping empty table: TechGroup\n",
      "Dropping empty table: TechGroupMember\n",
      "Dropping empty table: MaxNewCapacityGroupShare\n",
      "Dropping empty table: MinNewCapacityGroupShare\n",
      "Dropping empty table: GrowthRateMax\n",
      "Dropping empty table: MaxCapacityGroupShare\n",
      "Dropping empty table: MaxNewCapacityGroup\n",
      "Dropping empty table: MaxNewCapacityShare\n",
      "Dropping empty table: MetaData\n",
      "Dropping empty table: MetaDataReal\n",
      "Dropping empty table: MinActivityGroup\n",
      "Dropping empty table: MinActivityShare\n",
      "Dropping empty table: MinCapacityGroup\n",
      "Dropping empty table: MinCapacityShare\n",
      "Dropping empty table: MinNewCapacity\n",
      "Dropping empty table: MinNewCapacityGroup\n",
      "Dropping empty table: OutputBuiltCapacity\n",
      "Dropping empty table: OutputCost\n",
      "Dropping empty table: OutputCurtailment\n",
      "Dropping empty table: OutputDualVariable\n",
      "Dropping empty table: OutputEmission\n",
      "Dropping empty table: OutputFlowIn\n",
      "Dropping empty table: OutputFlowOut\n",
      "Dropping empty table: OutputNetCapacity\n",
      "Dropping empty table: OutputObjective\n",
      "Dropping empty table: OutputRetiredCapacity\n",
      "Dropping empty table: RPSRequirement\n",
      "Dropping empty table: StorageInit\n",
      "Dropping empty table: TechGroup\n",
      "Dropping empty table: TechGroupMember\n",
      "Dropping empty table: MaxNewCapacityGroupShare\n",
      "Dropping empty table: MinNewCapacityGroupShare\n",
      "Dropping empty table: GrowthRateMax\n",
      "Dropping empty table: MaxCapacityGroupShare\n",
      "Dropping empty table: MinCapacityGroupShare\n",
      "Dropping empty table: GroupGrowthRateMax\n",
      "Dropping empty table: GroupGrowthRateSeed\n",
      "Dropping empty table: MinNewCapacityShare\n",
      "Dropping empty table: TwoGroupGrowthRateMax\n",
      "Dropping empty table: MinCapacityGroupShare\n",
      "Dropping empty table: GroupGrowthRateMax\n",
      "Dropping empty table: GroupGrowthRateSeed\n",
      "Dropping empty table: MinNewCapacityShare\n",
      "Dropping empty table: TwoGroupGrowthRateMax\n"
     ]
    }
   ],
   "source": [
    "xlsx_to_sqlite('lihwei_db_edits/insertions.xlsx', 'lihwei_db_edits/insertions.sqlite', schema_ref_db='canoe_on_12d_baseline.sqlite')"
   ]
  },
  {
   "cell_type": "code",
   "execution_count": null,
   "id": "7eb70783",
   "metadata": {},
   "outputs": [],
   "source": []
  }
 ],
 "metadata": {
  "kernelspec": {
   "display_name": "paper-3-profiles",
   "language": "python",
   "name": "python3"
  },
  "language_info": {
   "codemirror_mode": {
    "name": "ipython",
    "version": 3
   },
   "file_extension": ".py",
   "mimetype": "text/x-python",
   "name": "python",
   "nbconvert_exporter": "python",
   "pygments_lexer": "ipython3",
   "version": "3.13.3"
  }
 },
 "nbformat": 4,
 "nbformat_minor": 5
}
