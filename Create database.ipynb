{
 "cells": [
  {
   "cell_type": "markdown",
   "id": "a21458ba",
   "metadata": {},
   "source": [
    "# Create database\n",
    "\n",
    "Does the steps in sequence."
   ]
  },
  {
   "cell_type": "code",
   "execution_count": 32,
   "id": "700a34f5",
   "metadata": {},
   "outputs": [
    {
     "data": {
      "text/plain": [
       "<module 'transportation.compile_transport' from 'c:\\\\Users\\\\yeowl\\\\OneDrive - University of Toronto\\\\1UofT\\\\PhD Research\\\\CANOE\\\\CANOE-transportation\\\\transportation\\\\compile_transport.py'>"
      ]
     },
     "execution_count": 32,
     "metadata": {},
     "output_type": "execute_result"
    }
   ],
   "source": [
    "import importlib\n",
    "import transportation.compile_transport\n",
    "importlib.reload(transportation.compile_transport)"
   ]
  },
  {
   "cell_type": "markdown",
   "id": "69dfb370",
   "metadata": {},
   "source": [
    "# Compile database from spreadsheet"
   ]
  },
  {
   "cell_type": "code",
   "execution_count": 31,
   "id": "500f21d0",
   "metadata": {},
   "outputs": [
    {
     "name": "stdout",
     "output_type": "stream",
     "text": [
      "province : ON\n",
      "spreadsheet : c:\\Users\\yeowl\\OneDrive - University of Toronto\\1UofT\\PhD Research\\CANOE\\CANOE-transportation\\transportation/spreadsheet_database/CANOE_TRN_ON_v4_test.xlsx\n",
      "database : c:\\Users\\yeowl\\OneDrive - University of Toronto\\1UofT\\PhD Research\\CANOE\\CANOE-transportation\\transportation/compiled_database/canoe_trn_on_vanilla4_test.sqlite\n",
      "schema : c:\\Users\\yeowl\\OneDrive - University of Toronto\\1UofT\\PhD Research\\CANOE\\CANOE-transportation\\transportation/../canoe_schema.sql\n",
      "template : c:\\Users\\yeowl\\OneDrive - University of Toronto\\1UofT\\PhD Research\\CANOE\\CANOE-transportation\\transportation/canoe_trn_template.xlsx\n",
      "ldv_profile : c:\\Users\\yeowl\\OneDrive - University of Toronto\\1UofT\\PhD Research\\CANOE\\CANOE-transportation\\transportation/../charging_profiles/ramp_mobility/results/ON-2016TTS_no-we_2018_v4_2023-batteries.csv\n",
      "weather_year : 2018\n",
      "charging_dsd : False\n",
      "aggregate_excap : True\n",
      "create_emission_embodied : True\n",
      "convert_emission_units : True\n",
      "epsilon : 0.0001\n",
      "precision : 9\n",
      "wipe_database : True\n",
      "Database wiped prior to aggregation.\n",
      "\n",
      "Template tables inserted into canoe_trn_on_vanilla4_test.sqlite\n",
      "\n",
      "References compiled into canoe_trn_on_vanilla4_test.sqlite\n",
      "\n",
      "Technology data compiled into canoe_trn_on_vanilla4_test.sqlite\n",
      "\n",
      "Commodity data compiled into canoe_trn_on_vanilla4_test.sqlite\n",
      "\n",
      "Demand data compiled into canoe_trn_on_vanilla4_test.sqlite\n",
      "\n"
     ]
    },
    {
     "name": "stderr",
     "output_type": "stream",
     "text": [
      "c:\\Users\\yeowl\\OneDrive - University of Toronto\\1UofT\\PhD Research\\CANOE\\CANOE-transportation\\transportation\\compile_transport.py:452: FutureWarning: 'H' is deprecated and will be removed in a future version, please use 'h' instead.\n",
      "  # Labels time series into the desired format\n"
     ]
    },
    {
     "name": "stdout",
     "output_type": "stream",
     "text": [
      "Capacity factor distributions compiled into canoe_trn_on_vanilla4_test.sqlite\n",
      "\n",
      "Lifetime data compiled into canoe_trn_on_vanilla4_test.sqlite\n",
      "\n",
      "Existing capacity data compiled into canoe_trn_on_vanilla4_test.sqlite\n",
      "\n",
      "C2A factors data compiled into canoe_trn_on_vanilla4_test.sqlite\n",
      "\n",
      "Max/min annual cap factors data compiled into canoe_trn_on_vanilla4_test.sqlite\n",
      "\n"
     ]
    },
    {
     "name": "stderr",
     "output_type": "stream",
     "text": [
      "c:\\Users\\yeowl\\OneDrive - University of Toronto\\1UofT\\PhD Research\\CANOE\\CANOE-transportation\\transportation\\compile_transport.py:760: SettingWithCopyWarning: \n",
      "A value is trying to be set on a copy of a slice from a DataFrame.\n",
      "Try using .loc[row_indexer,col_indexer] = value instead\n",
      "\n",
      "See the caveats in the documentation: https://pandas.pydata.org/pandas-docs/stable/user_guide/indexing.html#returning-a-view-versus-a-copy\n",
      "  df = pd.concat([df_ex_agg, df_new], ignore_index=True).reset_index(drop=True)\n"
     ]
    },
    {
     "name": "stdout",
     "output_type": "stream",
     "text": [
      "Efficiency data compiled into canoe_trn_on_vanilla4_test.sqlite\n",
      "\n",
      "Investment cost data compiled into canoe_trn_on_vanilla4_test.sqlite\n",
      "\n",
      "Variable cost data compiled into canoe_trn_on_vanilla4_test.sqlite\n",
      "\n",
      "Fixed cost data compiled into canoe_trn_on_vanilla4_test.sqlite\n",
      "\n",
      "Emission factors from activity data compiled into canoe_trn_on_vanilla4_test.sqlite\n",
      "\n",
      "Emission factors from capacity data compiled into canoe_trn_on_vanilla4_test.sqlite\n",
      "\n",
      "Tech input commodity split data compiled into canoe_trn_on_vanilla4_test.sqlite\n",
      "\n",
      "Deleted T_HDV_AJF_JFL_EX @ 2000 in ExistingCapacity because exist_cap < 0.0001\n",
      "Deleted T_HDV_AJP_JFL_EX @ 2000 in ExistingCapacity because exist_cap < 0.0001\n",
      "Deleted T_HDV_RF_DSL_EX @ 2000 in ExistingCapacity because exist_cap < 0.0001\n",
      "Deleted T_HDV_RICP_DSL_EX @ 2000 in ExistingCapacity because exist_cap < 0.0001\n",
      "Deleted T_HDV_WTF_HFO_EX @ 2000 in ExistingCapacity because exist_cap < 0.0001\n",
      "Deleted T_HDV_WTF_MDO_EX @ 2000 in ExistingCapacity because exist_cap < 0.0001\n",
      "Deleted T_LDV_BEV_CHRG @ 2010 in ExistingCapacity because exist_cap < 0.0001\n",
      "Deleted T_LDV_C_BEV150_EX @ 2010 in ExistingCapacity because exist_cap < 0.0001\n",
      "Deleted T_LDV_C_GSL_HEV_EX @ 2010 in ExistingCapacity because exist_cap < 0.0001\n",
      "Deleted T_LDV_C_GSL_PHEV35_EX @ 2010 in ExistingCapacity because exist_cap < 0.0001\n",
      "Deleted T_LDV_LTF_GSL_HEV_EX @ 2010 in ExistingCapacity because exist_cap < 0.0001\n",
      "Deleted T_LDV_LTF_GSL_PHEV35_EX @ 2010 in ExistingCapacity because exist_cap < 0.0001\n",
      "Deleted T_LDV_LTF_GSL_PHEV35_EX @ 2015 in ExistingCapacity because exist_cap < 0.0001\n",
      "Deleted T_LDV_LTP_BEV300_EX @ 2010 in ExistingCapacity because exist_cap < 0.0001\n",
      "Deleted T_LDV_LTP_GSL_HEV_EX @ 2010 in ExistingCapacity because exist_cap < 0.0001\n",
      "Deleted T_LDV_LTP_GSL_PHEV35_EX @ 2010 in ExistingCapacity because exist_cap < 0.0001\n",
      "Deleted T_LDV_PHEV_CHRG @ 2010 in ExistingCapacity because exist_cap < 0.0001\n",
      "Deleted T_HDV_AJF_JFL_EX @ 2000 in Efficiency because exist_cap < 0.0001\n",
      "Deleted T_HDV_AJP_JFL_EX @ 2000 in Efficiency because exist_cap < 0.0001\n",
      "Deleted T_HDV_RF_DSL_EX @ 2000 in Efficiency because exist_cap < 0.0001\n",
      "Deleted T_HDV_RICP_DSL_EX @ 2000 in Efficiency because exist_cap < 0.0001\n",
      "Deleted T_HDV_WTF_HFO_EX @ 2000 in Efficiency because exist_cap < 0.0001\n",
      "Deleted T_HDV_WTF_MDO_EX @ 2000 in Efficiency because exist_cap < 0.0001\n",
      "Deleted T_LDV_BEV_CHRG @ 2010 in Efficiency because exist_cap < 0.0001\n",
      "Deleted T_LDV_C_BEV150_EX @ 2010 in Efficiency because exist_cap < 0.0001\n",
      "Deleted T_LDV_C_GSL_HEV_EX @ 2010 in Efficiency because exist_cap < 0.0001\n",
      "Deleted T_LDV_C_GSL_PHEV35_EX @ 2010 in Efficiency because exist_cap < 0.0001\n",
      "Deleted T_LDV_LTF_GSL_HEV_EX @ 2010 in Efficiency because exist_cap < 0.0001\n",
      "Deleted T_LDV_LTF_GSL_PHEV35_EX @ 2010 in Efficiency because exist_cap < 0.0001\n",
      "Deleted T_LDV_LTF_GSL_PHEV35_EX @ 2015 in Efficiency because exist_cap < 0.0001\n",
      "Deleted T_LDV_LTP_BEV300_EX @ 2010 in Efficiency because exist_cap < 0.0001\n",
      "Deleted T_LDV_LTP_GSL_HEV_EX @ 2010 in Efficiency because exist_cap < 0.0001\n",
      "Deleted T_LDV_LTP_GSL_PHEV35_EX @ 2010 in Efficiency because exist_cap < 0.0001\n",
      "Deleted T_LDV_PHEV_CHRG @ 2010 in Efficiency because exist_cap < 0.0001\n",
      "Deleted T_HDV_AJF_JFL_EX @ 2000 in CostVariable because exist_cap < 0.0001\n",
      "Deleted T_HDV_AJP_JFL_EX @ 2000 in CostVariable because exist_cap < 0.0001\n",
      "Deleted T_HDV_RF_DSL_EX @ 2000 in CostVariable because exist_cap < 0.0001\n",
      "Deleted T_HDV_RICP_DSL_EX @ 2000 in CostVariable because exist_cap < 0.0001\n",
      "Deleted T_HDV_WTF_HFO_EX @ 2000 in CostVariable because exist_cap < 0.0001\n",
      "Deleted T_HDV_WTF_MDO_EX @ 2000 in CostVariable because exist_cap < 0.0001\n",
      "Deleted T_LDV_BEV_CHRG @ 2010 in CostVariable because exist_cap < 0.0001\n",
      "Deleted T_LDV_C_BEV150_EX @ 2010 in CostVariable because exist_cap < 0.0001\n",
      "Deleted T_LDV_C_GSL_HEV_EX @ 2010 in CostVariable because exist_cap < 0.0001\n",
      "Deleted T_LDV_C_GSL_PHEV35_EX @ 2010 in CostVariable because exist_cap < 0.0001\n",
      "Deleted T_LDV_LTF_GSL_HEV_EX @ 2010 in CostVariable because exist_cap < 0.0001\n",
      "Deleted T_LDV_LTF_GSL_PHEV35_EX @ 2010 in CostVariable because exist_cap < 0.0001\n",
      "Deleted T_LDV_LTF_GSL_PHEV35_EX @ 2015 in CostVariable because exist_cap < 0.0001\n",
      "Deleted T_LDV_LTP_BEV300_EX @ 2010 in CostVariable because exist_cap < 0.0001\n",
      "Deleted T_LDV_LTP_GSL_HEV_EX @ 2010 in CostVariable because exist_cap < 0.0001\n",
      "Deleted T_LDV_LTP_GSL_PHEV35_EX @ 2010 in CostVariable because exist_cap < 0.0001\n",
      "Deleted T_LDV_PHEV_CHRG @ 2010 in CostVariable because exist_cap < 0.0001\n",
      "Deleted T_HDV_AJF_JFL_EX @ 2000 in CostFixed because exist_cap < 0.0001\n",
      "Deleted T_HDV_AJP_JFL_EX @ 2000 in CostFixed because exist_cap < 0.0001\n",
      "Deleted T_HDV_RF_DSL_EX @ 2000 in CostFixed because exist_cap < 0.0001\n",
      "Deleted T_HDV_RICP_DSL_EX @ 2000 in CostFixed because exist_cap < 0.0001\n",
      "Deleted T_HDV_WTF_HFO_EX @ 2000 in CostFixed because exist_cap < 0.0001\n",
      "Deleted T_HDV_WTF_MDO_EX @ 2000 in CostFixed because exist_cap < 0.0001\n",
      "Deleted T_LDV_BEV_CHRG @ 2010 in CostFixed because exist_cap < 0.0001\n",
      "Deleted T_LDV_C_BEV150_EX @ 2010 in CostFixed because exist_cap < 0.0001\n",
      "Deleted T_LDV_C_GSL_HEV_EX @ 2010 in CostFixed because exist_cap < 0.0001\n",
      "Deleted T_LDV_C_GSL_PHEV35_EX @ 2010 in CostFixed because exist_cap < 0.0001\n",
      "Deleted T_LDV_LTF_GSL_HEV_EX @ 2010 in CostFixed because exist_cap < 0.0001\n",
      "Deleted T_LDV_LTF_GSL_PHEV35_EX @ 2010 in CostFixed because exist_cap < 0.0001\n",
      "Deleted T_LDV_LTF_GSL_PHEV35_EX @ 2015 in CostFixed because exist_cap < 0.0001\n",
      "Deleted T_LDV_LTP_BEV300_EX @ 2010 in CostFixed because exist_cap < 0.0001\n",
      "Deleted T_LDV_LTP_GSL_HEV_EX @ 2010 in CostFixed because exist_cap < 0.0001\n",
      "Deleted T_LDV_LTP_GSL_PHEV35_EX @ 2010 in CostFixed because exist_cap < 0.0001\n",
      "Deleted T_LDV_PHEV_CHRG @ 2010 in CostFixed because exist_cap < 0.0001\n",
      "Cleanup complete.\n",
      "\n",
      "All parameter data from CANOE_TRN_ON_v4_test.xlsx compiled into canoe_trn_on_vanilla4_test.sqlite\n",
      "\n"
     ]
    }
   ],
   "source": [
    "transportation.compile_transport.compile_transport(\n",
    "    province = 'ON', spreadsheet_name_format = 'CANOE_TRN_<r>_v4_test', db_name_format = 'canoe_trn_<r>_vanilla4_test',\n",
    "    create_emission_embodied = True\n",
    ")"
   ]
  },
  {
   "cell_type": "markdown",
   "id": "76247fb9",
   "metadata": {},
   "source": [
    "# Turn database into Temoa v3 format"
   ]
  },
  {
   "cell_type": "code",
   "execution_count": null,
   "id": "3ba2f3ae",
   "metadata": {},
   "outputs": [],
   "source": [
    "importlib.reload(db_processing.to_temoa_v3.to_temoa_v3)\n",
    "from db_processing.to_temoa_v3.to_temoa_v3 import convert_to_temoa_v3"
   ]
  },
  {
   "cell_type": "code",
   "execution_count": 41,
   "id": "e2e5db2c",
   "metadata": {},
   "outputs": [
    {
     "name": "stdout",
     "output_type": "stream",
     "text": [
      "charging_dsd: False\n"
     ]
    }
   ],
   "source": [
    "convert_to_temoa_v3(db_name='canoe_trn_on_vanilla4_test')"
   ]
  }
 ],
 "metadata": {
  "kernelspec": {
   "display_name": "paper-3-profiles",
   "language": "python",
   "name": "python3"
  },
  "language_info": {
   "codemirror_mode": {
    "name": "ipython",
    "version": 3
   },
   "file_extension": ".py",
   "mimetype": "text/x-python",
   "name": "python",
   "nbconvert_exporter": "python",
   "pygments_lexer": "ipython3",
   "version": "3.13.3"
  }
 },
 "nbformat": 4,
 "nbformat_minor": 5
}
