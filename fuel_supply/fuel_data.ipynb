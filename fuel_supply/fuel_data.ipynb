{
 "cells": [
  {
   "cell_type": "code",
   "execution_count": 1,
   "metadata": {},
   "outputs": [],
   "source": [
    "import pandas as pd\n",
    "import numpy as np\n",
    "import plotly.express as px\n",
    "import plotly.graph_objects as go"
   ]
  },
  {
   "cell_type": "markdown",
   "metadata": {},
   "source": [
    "# Emission Factors"
   ]
  },
  {
   "cell_type": "code",
   "execution_count": 2,
   "metadata": {},
   "outputs": [],
   "source": [
    "greet_age = pd.read_csv('emission_factors/EERE_scenarios_TS_GREET1.csv', usecols=['FINAL_series name', 'Fuel Category', 'Vehicle Class', 'Year', 'LC Phase', 'Metric', 'BAU', 'Elec0', 'Elec_BAU'])\n",
    "greet_eere = pd.read_csv('emission_factors/GREET_EF_EERE.csv', header=3, usecols=['GREET Pathway', 'Formula', 'Case', 'Year', 'Reference case', 'Elec0'])\n",
    "greet_sc = pd.read_csv('emission_factors/GREET_EF_SUPPLY_CHAIN.csv', header=3, usecols=['GREET Pathway', 'Formula', 'Year', 'GREET Default', 'Zero Elec Comb'])\n",
    "greet_hv = pd.read_csv('emission_factors/GREETheatingValues.csv', usecols=['GREET_Fuel', 'LHV_by_HHV'])\n",
    "greet_mapping = pd.read_excel('emission_factors/GREET_CANOE_mapping.xlsx', sheet_name=['AGE_scenarios', 'GREET_EERE', 'GREET_SC', 'GREET_HV'])"
   ]
  },
  {
   "cell_type": "code",
   "execution_count": 3,
   "metadata": {},
   "outputs": [],
   "source": [
    "greet_sc = greet_sc[(greet_sc.Year == 2022) | \n",
    "                    (greet_sc.Year == 2025) |\n",
    "                    (greet_sc.Year == 2030) | \n",
    "                    (greet_sc.Year == 2035) | \n",
    "                    (greet_sc.Year == 2040) | \n",
    "                    (greet_sc.Year == 2045) |\n",
    "                    (greet_sc.Year == 2050)]\n",
    "\n",
    "greet_sc['fuel'] = greet_sc['GREET Pathway'].map(greet_mapping['GREET_SC'].set_index('GREET')['CANOE'])\n",
    "greet_sc = greet_sc.sort_values(by='fuel')\n",
    "greet_sc = greet_sc[greet_sc['GREET Default'] != 0]\n",
    "\n",
    "greet_eere = greet_eere[(greet_eere.Year == 2022) | \n",
    "                        (greet_eere.Year == 2025) |\n",
    "                        (greet_eere.Year == 2030) | \n",
    "                        (greet_eere.Year == 2035) | \n",
    "                        (greet_eere.Year == 2040) | \n",
    "                        (greet_eere.Year == 2045) |\n",
    "                        (greet_eere.Year == 2050)]\n",
    "\n",
    "greet_eere['fuel'] = greet_eere['GREET Pathway'].map(greet_mapping['GREET_EERE'].set_index('GREET')['CANOE'])\n",
    "greet_eere = greet_eere.dropna(subset='fuel')\n",
    "greet_eere = greet_eere.sort_values(by='fuel')\n",
    "greet_eere = greet_eere[greet_eere['Reference case'] != 0]\n",
    "\n",
    "greet_age = greet_age[(greet_age.Year == 2022) | \n",
    "                      (greet_age.Year == 2025) |\n",
    "                      (greet_age.Year == 2030) | \n",
    "                      (greet_age.Year == 2035) | \n",
    "                      (greet_age.Year == 2040) | \n",
    "                      (greet_age.Year == 2045) |\n",
    "                      (greet_age.Year == 2050)]\n",
    "\n",
    "greet_age['fuel'] = greet_age['FINAL_series name'].map(greet_mapping['AGE_scenarios'].set_index('GREET')['CANOE'])\n",
    "greet_age = greet_age.dropna(subset='fuel')\n",
    "greet_age = greet_age.sort_values(by='fuel')\n",
    "greet_age = greet_age[greet_age['BAU'] != 0]\n",
    "\n",
    "greet_hv = greet_hv.dropna(subset='LHV_by_HHV')\n",
    "greet_hv = greet_hv.drop_duplicates()\n",
    "greet_hv['fuel'] = greet_hv['GREET_Fuel'].map(greet_mapping['GREET_HV'].dropna(subset='CANOE').set_index('GREET')['CANOE'])\n",
    "greet_hv = greet_hv.dropna(subset='fuel')\n",
    "greet_hv = greet_hv.sort_values(by='fuel')"
   ]
  },
  {
   "cell_type": "code",
   "execution_count": 4,
   "metadata": {},
   "outputs": [
    {
     "data": {
      "text/html": [
       "<div>\n",
       "<style scoped>\n",
       "    .dataframe tbody tr th:only-of-type {\n",
       "        vertical-align: middle;\n",
       "    }\n",
       "\n",
       "    .dataframe tbody tr th {\n",
       "        vertical-align: top;\n",
       "    }\n",
       "\n",
       "    .dataframe thead th {\n",
       "        text-align: right;\n",
       "    }\n",
       "</style>\n",
       "<table border=\"1\" class=\"dataframe\">\n",
       "  <thead>\n",
       "    <tr style=\"text-align: right;\">\n",
       "      <th></th>\n",
       "      <th>GREET_Fuel</th>\n",
       "      <th>LHV_by_HHV</th>\n",
       "      <th>fuel</th>\n",
       "    </tr>\n",
       "  </thead>\n",
       "  <tbody>\n",
       "    <tr>\n",
       "      <th>0</th>\n",
       "      <td>Methyl ester (biodiesel, BD)</td>\n",
       "      <td>0.934</td>\n",
       "      <td>BDSL</td>\n",
       "    </tr>\n",
       "    <tr>\n",
       "      <th>1</th>\n",
       "      <td>Coal Mix for Electricity Generation</td>\n",
       "      <td>0.942</td>\n",
       "      <td>COAL</td>\n",
       "    </tr>\n",
       "    <tr>\n",
       "      <th>2</th>\n",
       "      <td>Pet Coke</td>\n",
       "      <td>0.942</td>\n",
       "      <td>COKE</td>\n",
       "    </tr>\n",
       "    <tr>\n",
       "      <th>3</th>\n",
       "      <td>Low-sulfur diesel</td>\n",
       "      <td>0.935</td>\n",
       "      <td>DSL</td>\n",
       "    </tr>\n",
       "    <tr>\n",
       "      <th>4</th>\n",
       "      <td>Fischer-Tropsch diesel (FTD)</td>\n",
       "      <td>0.951</td>\n",
       "      <td>EDSL</td>\n",
       "    </tr>\n",
       "    <tr>\n",
       "      <th>5</th>\n",
       "      <td>Ethanol</td>\n",
       "      <td>0.903</td>\n",
       "      <td>ETH</td>\n",
       "    </tr>\n",
       "    <tr>\n",
       "      <th>6</th>\n",
       "      <td>Gaseous hydrogen</td>\n",
       "      <td>0.845</td>\n",
       "      <td>GH2</td>\n",
       "    </tr>\n",
       "    <tr>\n",
       "      <th>7</th>\n",
       "      <td>Gasoline</td>\n",
       "      <td>0.932</td>\n",
       "      <td>GSL</td>\n",
       "    </tr>\n",
       "    <tr>\n",
       "      <th>8</th>\n",
       "      <td>Conventional Jet Fuel</td>\n",
       "      <td>0.935</td>\n",
       "      <td>JTF</td>\n",
       "    </tr>\n",
       "    <tr>\n",
       "      <th>9</th>\n",
       "      <td>Liquid hydrogen</td>\n",
       "      <td>0.847</td>\n",
       "      <td>LH2</td>\n",
       "    </tr>\n",
       "    <tr>\n",
       "      <th>10</th>\n",
       "      <td>Liquefied natural gas (LNG)</td>\n",
       "      <td>0.881</td>\n",
       "      <td>LNG</td>\n",
       "    </tr>\n",
       "    <tr>\n",
       "      <th>11</th>\n",
       "      <td>Liquefied natural gas (LNG)</td>\n",
       "      <td>0.958</td>\n",
       "      <td>LNG</td>\n",
       "    </tr>\n",
       "    <tr>\n",
       "      <th>12</th>\n",
       "      <td>Liquefied petroleum gas (LPG)</td>\n",
       "      <td>0.929</td>\n",
       "      <td>LPG</td>\n",
       "    </tr>\n",
       "    <tr>\n",
       "      <th>13</th>\n",
       "      <td>Natural gas</td>\n",
       "      <td>0.903</td>\n",
       "      <td>NG</td>\n",
       "    </tr>\n",
       "    <tr>\n",
       "      <th>14</th>\n",
       "      <td>Renewable Diesel II (UOP-HDO)</td>\n",
       "      <td>0.939</td>\n",
       "      <td>RDSL</td>\n",
       "    </tr>\n",
       "    <tr>\n",
       "      <th>15</th>\n",
       "      <td>Renewable Gasoline</td>\n",
       "      <td>0.934</td>\n",
       "      <td>RGSL</td>\n",
       "    </tr>\n",
       "    <tr>\n",
       "      <th>16</th>\n",
       "      <td>Residual oil</td>\n",
       "      <td>0.935</td>\n",
       "      <td>ROIL</td>\n",
       "    </tr>\n",
       "    <tr>\n",
       "      <th>17</th>\n",
       "      <td>SPK (FT Jet Fuel/HRJ)</td>\n",
       "      <td>0.935</td>\n",
       "      <td>SPK</td>\n",
       "    </tr>\n",
       "    <tr>\n",
       "      <th>18</th>\n",
       "      <td>Still gas (in refineries)</td>\n",
       "      <td>0.906</td>\n",
       "      <td>STILLGAS</td>\n",
       "    </tr>\n",
       "    <tr>\n",
       "      <th>19</th>\n",
       "      <td>Willow</td>\n",
       "      <td>0.932</td>\n",
       "      <td>WILLOW</td>\n",
       "    </tr>\n",
       "    <tr>\n",
       "      <th>20</th>\n",
       "      <td>Marine Diesel Oil</td>\n",
       "      <td>0.935</td>\n",
       "      <td>MDO</td>\n",
       "    </tr>\n",
       "    <tr>\n",
       "      <th>21</th>\n",
       "      <td>Heavy Fuel Oil</td>\n",
       "      <td>0.935</td>\n",
       "      <td>HFO</td>\n",
       "    </tr>\n",
       "    <tr>\n",
       "      <th>22</th>\n",
       "      <td>CNG</td>\n",
       "      <td>0.900</td>\n",
       "      <td>CNG</td>\n",
       "    </tr>\n",
       "  </tbody>\n",
       "</table>\n",
       "</div>"
      ],
      "text/plain": [
       "                             GREET_Fuel  LHV_by_HHV      fuel\n",
       "0          Methyl ester (biodiesel, BD)       0.934      BDSL\n",
       "1   Coal Mix for Electricity Generation       0.942      COAL\n",
       "2                              Pet Coke       0.942      COKE\n",
       "3                     Low-sulfur diesel       0.935       DSL\n",
       "4          Fischer-Tropsch diesel (FTD)       0.951      EDSL\n",
       "5                               Ethanol       0.903       ETH\n",
       "6                      Gaseous hydrogen       0.845       GH2\n",
       "7                              Gasoline       0.932       GSL\n",
       "8                 Conventional Jet Fuel       0.935       JTF\n",
       "9                       Liquid hydrogen       0.847       LH2\n",
       "10          Liquefied natural gas (LNG)       0.881       LNG\n",
       "11          Liquefied natural gas (LNG)       0.958       LNG\n",
       "12        Liquefied petroleum gas (LPG)       0.929       LPG\n",
       "13                          Natural gas       0.903        NG\n",
       "14        Renewable Diesel II (UOP-HDO)       0.939      RDSL\n",
       "15                   Renewable Gasoline       0.934      RGSL\n",
       "16                         Residual oil       0.935      ROIL\n",
       "17               SPK (FT Jet Fuel/HRJ)        0.935       SPK\n",
       "18            Still gas (in refineries)       0.906  STILLGAS\n",
       "19                               Willow       0.932    WILLOW\n",
       "20                    Marine Diesel Oil       0.935       MDO\n",
       "21                       Heavy Fuel Oil       0.935       HFO\n",
       "22                                  CNG       0.900       CNG"
      ]
     },
     "execution_count": 4,
     "metadata": {},
     "output_type": "execute_result"
    }
   ],
   "source": [
    "new_rows = pd.DataFrame([{'GREET_Fuel': 'Marine Diesel Oil', 'LHV_by_HHV': 0.935, 'fuel': 'MDO'},\n",
    "                         {'GREET_Fuel': 'Heavy Fuel Oil', 'LHV_by_HHV': 0.935, 'fuel': 'HFO'},\n",
    "                         {'GREET_Fuel': 'CNG', 'LHV_by_HHV': 0.9, 'fuel': 'CNG'}])\n",
    "\n",
    "greet_hv = pd.concat([greet_hv, new_rows], ignore_index=True)\n",
    "\n",
    "greet_hv"
   ]
  },
  {
   "cell_type": "markdown",
   "metadata": {},
   "source": [
    "# Supply chain"
   ]
  },
  {
   "cell_type": "code",
   "execution_count": 5,
   "metadata": {},
   "outputs": [
    {
     "data": {
      "application/vnd.plotly.v1+json": {
       "config": {
        "plotlyServerURL": "https://plot.ly"
       },
       "data": [
        {
         "hovertemplate": "GREET Pathway=Soy Oil-based Biodiesel<br>fuel=%{x}<br>GREET Default=%{y}<extra></extra>",
         "legendgroup": "Soy Oil-based Biodiesel",
         "marker": {
          "color": "#636efa",
          "symbol": "circle"
         },
         "mode": "markers",
         "name": "Soy Oil-based Biodiesel",
         "orientation": "v",
         "showlegend": true,
         "type": "scatter",
         "x": [
          "BDSL"
         ],
         "xaxis": "x",
         "y": [
          20276.56274
         ],
         "yaxis": "y"
        },
        {
         "hovertemplate": "GREET Pathway=Coal to Power Plants<br>fuel=%{x}<br>GREET Default=%{y}<extra></extra>",
         "legendgroup": "Coal to Power Plants",
         "marker": {
          "color": "#EF553B",
          "symbol": "circle"
         },
         "mode": "markers",
         "name": "Coal to Power Plants",
         "orientation": "v",
         "showlegend": true,
         "type": "scatter",
         "x": [
          "COAL"
         ],
         "xaxis": "x",
         "y": [
          1603.528507
         ],
         "yaxis": "y"
        },
        {
         "hovertemplate": "GREET Pathway=Pet Coke<br>fuel=%{x}<br>GREET Default=%{y}<extra></extra>",
         "legendgroup": "Pet Coke",
         "marker": {
          "color": "#00cc96",
          "symbol": "circle"
         },
         "mode": "markers",
         "name": "Pet Coke",
         "orientation": "v",
         "showlegend": true,
         "type": "scatter",
         "x": [
          "COKE"
         ],
         "xaxis": "x",
         "y": [
          10389.04161
         ],
         "yaxis": "y"
        },
        {
         "hovertemplate": "GREET Pathway=Conv. Diesel<br>fuel=%{x}<br>GREET Default=%{y}<extra></extra>",
         "legendgroup": "Conv. Diesel",
         "marker": {
          "color": "#ab63fa",
          "symbol": "circle"
         },
         "mode": "markers",
         "name": "Conv. Diesel",
         "orientation": "v",
         "showlegend": true,
         "type": "scatter",
         "x": [
          "DSL"
         ],
         "xaxis": "x",
         "y": [
          12944.33226
         ],
         "yaxis": "y"
        },
        {
         "hovertemplate": "GREET Pathway=Biomass to Fischer-Tropsch Diesel<br>fuel=%{x}<br>GREET Default=%{y}<extra></extra>",
         "legendgroup": "Biomass to Fischer-Tropsch Diesel",
         "marker": {
          "color": "#FFA15A",
          "symbol": "circle"
         },
         "mode": "markers",
         "name": "Biomass to Fischer-Tropsch Diesel",
         "orientation": "v",
         "showlegend": true,
         "type": "scatter",
         "x": [
          "EDSL"
         ],
         "xaxis": "x",
         "y": [
          4148.482121
         ],
         "yaxis": "y"
        },
        {
         "hovertemplate": "GREET Pathway=Corn Ethanol: Combined Dry and Wet Milling Ethanol<br>fuel=%{x}<br>GREET Default=%{y}<extra></extra>",
         "legendgroup": "Corn Ethanol: Combined Dry and Wet Milling Ethanol",
         "marker": {
          "color": "#19d3f3",
          "symbol": "circle"
         },
         "mode": "markers",
         "name": "Corn Ethanol: Combined Dry and Wet Milling Ethanol",
         "orientation": "v",
         "showlegend": true,
         "type": "scatter",
         "x": [
          "ETH"
         ],
         "xaxis": "x",
         "y": [
          43526.44745
         ],
         "yaxis": "y"
        },
        {
         "hovertemplate": "GREET Pathway=Central Plants: NG or FG to Gaseous Hydrogen<br>fuel=%{x}<br>GREET Default=%{y}<extra></extra>",
         "legendgroup": "Central Plants: NG or FG to Gaseous Hydrogen",
         "marker": {
          "color": "#FF6692",
          "symbol": "circle"
         },
         "mode": "markers",
         "name": "Central Plants: NG or FG to Gaseous Hydrogen",
         "orientation": "v",
         "showlegend": true,
         "type": "scatter",
         "x": [
          "GH2"
         ],
         "xaxis": "x",
         "y": [
          93797.02636
         ],
         "yaxis": "y"
        },
        {
         "hovertemplate": "GREET Pathway=Central Plants: Electrolysis (HTGR) to Gaseous Hydrogen<br>fuel=%{x}<br>GREET Default=%{y}<extra></extra>",
         "legendgroup": "Central Plants: Electrolysis (HTGR) to Gaseous Hydrogen",
         "marker": {
          "color": "#B6E880",
          "symbol": "circle"
         },
         "mode": "markers",
         "name": "Central Plants: Electrolysis (HTGR) to Gaseous Hydrogen",
         "orientation": "v",
         "showlegend": true,
         "type": "scatter",
         "x": [
          "GH2"
         ],
         "xaxis": "x",
         "y": [
          18170.09146
         ],
         "yaxis": "y"
        },
        {
         "hovertemplate": "GREET Pathway=Gasoline Blendstock<br>fuel=%{x}<br>GREET Default=%{y}<extra></extra>",
         "legendgroup": "Gasoline Blendstock",
         "marker": {
          "color": "#FF97FF",
          "symbol": "circle"
         },
         "mode": "markers",
         "name": "Gasoline Blendstock",
         "orientation": "v",
         "showlegend": true,
         "type": "scatter",
         "x": [
          "GSL"
         ],
         "xaxis": "x",
         "y": [
          16994.54216
         ],
         "yaxis": "y"
        },
        {
         "hovertemplate": "GREET Pathway=Pertoleum Conv. Jet Fuel<br>fuel=%{x}<br>GREET Default=%{y}<extra></extra>",
         "legendgroup": "Pertoleum Conv. Jet Fuel",
         "marker": {
          "color": "#FECB52",
          "symbol": "circle"
         },
         "mode": "markers",
         "name": "Pertoleum Conv. Jet Fuel",
         "orientation": "v",
         "showlegend": true,
         "type": "scatter",
         "x": [
          "JTF"
         ],
         "xaxis": "x",
         "y": [
          8875.745287
         ],
         "yaxis": "y"
        },
        {
         "hovertemplate": "GREET Pathway=Natural Gas to Liquefied Natural Gas (as an intermediate fuel)<br>fuel=%{x}<br>GREET Default=%{y}<extra></extra>",
         "legendgroup": "Natural Gas to Liquefied Natural Gas (as an intermediate fuel)",
         "marker": {
          "color": "#636efa",
          "symbol": "circle"
         },
         "mode": "markers",
         "name": "Natural Gas to Liquefied Natural Gas (as an intermediate fuel)",
         "orientation": "v",
         "showlegend": true,
         "type": "scatter",
         "x": [
          "LNG"
         ],
         "xaxis": "x",
         "y": [
          11728.18751
         ],
         "yaxis": "y"
        },
        {
         "hovertemplate": "GREET Pathway=Propane<br>fuel=%{x}<br>GREET Default=%{y}<extra></extra>",
         "legendgroup": "Propane",
         "marker": {
          "color": "#EF553B",
          "symbol": "circle"
         },
         "mode": "markers",
         "name": "Propane",
         "orientation": "v",
         "showlegend": true,
         "type": "scatter",
         "x": [
          "LPG"
         ],
         "xaxis": "x",
         "y": [
          14999.40955
         ],
         "yaxis": "y"
        },
        {
         "hovertemplate": "GREET Pathway=LPG<br>fuel=%{x}<br>GREET Default=%{y}<extra></extra>",
         "legendgroup": "LPG",
         "marker": {
          "color": "#00cc96",
          "symbol": "circle"
         },
         "mode": "markers",
         "name": "LPG",
         "orientation": "v",
         "showlegend": true,
         "type": "scatter",
         "x": [
          "LPG"
         ],
         "xaxis": "x",
         "y": [
          15463.05226
         ],
         "yaxis": "y"
        },
        {
         "hovertemplate": "GREET Pathway=Natural Gas as Stationary Fuels<br>fuel=%{x}<br>GREET Default=%{y}<extra></extra>",
         "legendgroup": "Natural Gas as Stationary Fuels",
         "marker": {
          "color": "#ab63fa",
          "symbol": "circle"
         },
         "mode": "markers",
         "name": "Natural Gas as Stationary Fuels",
         "orientation": "v",
         "showlegend": true,
         "type": "scatter",
         "x": [
          "NG"
         ],
         "xaxis": "x",
         "y": [
          6135.910916
         ],
         "yaxis": "y"
        },
        {
         "hovertemplate": "GREET Pathway=Resi. Oil<br>fuel=%{x}<br>GREET Default=%{y}<extra></extra>",
         "legendgroup": "Resi. Oil",
         "marker": {
          "color": "#FFA15A",
          "symbol": "circle"
         },
         "mode": "markers",
         "name": "Resi. Oil",
         "orientation": "v",
         "showlegend": true,
         "type": "scatter",
         "x": [
          "ROIL"
         ],
         "xaxis": "x",
         "y": [
          9841.469293
         ],
         "yaxis": "y"
        },
        {
         "hovertemplate": "GREET Pathway=Biomass to Fischer-Tropsch Jet Fuel<br>fuel=%{x}<br>GREET Default=%{y}<extra></extra>",
         "legendgroup": "Biomass to Fischer-Tropsch Jet Fuel",
         "marker": {
          "color": "#19d3f3",
          "symbol": "circle"
         },
         "mode": "markers",
         "name": "Biomass to Fischer-Tropsch Jet Fuel",
         "orientation": "v",
         "showlegend": true,
         "type": "scatter",
         "x": [
          "SPK"
         ],
         "xaxis": "x",
         "y": [
          4146.252478
         ],
         "yaxis": "y"
        },
        {
         "hovertemplate": "GREET Pathway=Landfill Gas to Fischer-Tropsch Jet Fuel<br>fuel=%{x}<br>GREET Default=%{y}<extra></extra>",
         "legendgroup": "Landfill Gas to Fischer-Tropsch Jet Fuel",
         "marker": {
          "color": "#FF6692",
          "symbol": "circle"
         },
         "mode": "markers",
         "name": "Landfill Gas to Fischer-Tropsch Jet Fuel",
         "orientation": "v",
         "showlegend": true,
         "type": "scatter",
         "x": [
          "SPK"
         ],
         "xaxis": "x",
         "y": [
          17876.61368
         ],
         "yaxis": "y"
        },
        {
         "hovertemplate": "GREET Pathway=Soy Oil-based Renewable Jet Fuel<br>fuel=%{x}<br>GREET Default=%{y}<extra></extra>",
         "legendgroup": "Soy Oil-based Renewable Jet Fuel",
         "marker": {
          "color": "#B6E880",
          "symbol": "circle"
         },
         "mode": "markers",
         "name": "Soy Oil-based Renewable Jet Fuel",
         "orientation": "v",
         "showlegend": true,
         "type": "scatter",
         "x": [
          "SPK"
         ],
         "xaxis": "x",
         "y": [
          27166.17314
         ],
         "yaxis": "y"
        },
        {
         "hovertemplate": "GREET Pathway=Ethanol-To-Jet: Corn Stover (Standalone)<br>fuel=%{x}<br>GREET Default=%{y}<extra></extra>",
         "legendgroup": "Ethanol-To-Jet: Corn Stover (Standalone)",
         "marker": {
          "color": "#FF97FF",
          "symbol": "circle"
         },
         "mode": "markers",
         "name": "Ethanol-To-Jet: Corn Stover (Standalone)",
         "orientation": "v",
         "showlegend": true,
         "type": "scatter",
         "x": [
          "SPK"
         ],
         "xaxis": "x",
         "y": [
          14636.49432
         ],
         "yaxis": "y"
        },
        {
         "hovertemplate": "GREET Pathway=Ethanol-To-Jet: Corn (Standalone)<br>fuel=%{x}<br>GREET Default=%{y}<extra></extra>",
         "legendgroup": "Ethanol-To-Jet: Corn (Standalone)",
         "marker": {
          "color": "#FECB52",
          "symbol": "circle"
         },
         "mode": "markers",
         "name": "Ethanol-To-Jet: Corn (Standalone)",
         "orientation": "v",
         "showlegend": true,
         "type": "scatter",
         "x": [
          "SPK"
         ],
         "xaxis": "x",
         "y": [
          52763.79455
         ],
         "yaxis": "y"
        },
        {
         "hovertemplate": "GREET Pathway=Total: Willow Farming and Transportation<br>fuel=%{x}<br>GREET Default=%{y}<extra></extra>",
         "legendgroup": "Total: Willow Farming and Transportation",
         "marker": {
          "color": "#636efa",
          "symbol": "circle"
         },
         "mode": "markers",
         "name": "Total: Willow Farming and Transportation",
         "orientation": "v",
         "showlegend": true,
         "type": "scatter",
         "x": [
          "WILLOW"
         ],
         "xaxis": "x",
         "y": [
          2342.194686
         ],
         "yaxis": "y"
        },
        {
         "hovertemplate": "GREET Pathway=Crude for Use in U.S. Refineries<br>fuel=%{x}<br>GREET Default=%{y}<extra></extra>",
         "legendgroup": "Crude for Use in U.S. Refineries",
         "marker": {
          "color": "#EF553B",
          "symbol": "circle"
         },
         "mode": "markers",
         "name": "Crude for Use in U.S. Refineries",
         "orientation": "v",
         "showlegend": true,
         "type": "scatter",
         "x": [
          null
         ],
         "xaxis": "x",
         "y": [
          5303.383652
         ],
         "yaxis": "y"
        }
       ],
       "layout": {
        "legend": {
         "title": {
          "text": "GREET Pathway"
         },
         "tracegroupgap": 0
        },
        "template": {
         "data": {
          "bar": [
           {
            "error_x": {
             "color": "#2a3f5f"
            },
            "error_y": {
             "color": "#2a3f5f"
            },
            "marker": {
             "line": {
              "color": "#E5ECF6",
              "width": 0.5
             },
             "pattern": {
              "fillmode": "overlay",
              "size": 10,
              "solidity": 0.2
             }
            },
            "type": "bar"
           }
          ],
          "barpolar": [
           {
            "marker": {
             "line": {
              "color": "#E5ECF6",
              "width": 0.5
             },
             "pattern": {
              "fillmode": "overlay",
              "size": 10,
              "solidity": 0.2
             }
            },
            "type": "barpolar"
           }
          ],
          "carpet": [
           {
            "aaxis": {
             "endlinecolor": "#2a3f5f",
             "gridcolor": "white",
             "linecolor": "white",
             "minorgridcolor": "white",
             "startlinecolor": "#2a3f5f"
            },
            "baxis": {
             "endlinecolor": "#2a3f5f",
             "gridcolor": "white",
             "linecolor": "white",
             "minorgridcolor": "white",
             "startlinecolor": "#2a3f5f"
            },
            "type": "carpet"
           }
          ],
          "choropleth": [
           {
            "colorbar": {
             "outlinewidth": 0,
             "ticks": ""
            },
            "type": "choropleth"
           }
          ],
          "contour": [
           {
            "colorbar": {
             "outlinewidth": 0,
             "ticks": ""
            },
            "colorscale": [
             [
              0,
              "#0d0887"
             ],
             [
              0.1111111111111111,
              "#46039f"
             ],
             [
              0.2222222222222222,
              "#7201a8"
             ],
             [
              0.3333333333333333,
              "#9c179e"
             ],
             [
              0.4444444444444444,
              "#bd3786"
             ],
             [
              0.5555555555555556,
              "#d8576b"
             ],
             [
              0.6666666666666666,
              "#ed7953"
             ],
             [
              0.7777777777777778,
              "#fb9f3a"
             ],
             [
              0.8888888888888888,
              "#fdca26"
             ],
             [
              1,
              "#f0f921"
             ]
            ],
            "type": "contour"
           }
          ],
          "contourcarpet": [
           {
            "colorbar": {
             "outlinewidth": 0,
             "ticks": ""
            },
            "type": "contourcarpet"
           }
          ],
          "heatmap": [
           {
            "colorbar": {
             "outlinewidth": 0,
             "ticks": ""
            },
            "colorscale": [
             [
              0,
              "#0d0887"
             ],
             [
              0.1111111111111111,
              "#46039f"
             ],
             [
              0.2222222222222222,
              "#7201a8"
             ],
             [
              0.3333333333333333,
              "#9c179e"
             ],
             [
              0.4444444444444444,
              "#bd3786"
             ],
             [
              0.5555555555555556,
              "#d8576b"
             ],
             [
              0.6666666666666666,
              "#ed7953"
             ],
             [
              0.7777777777777778,
              "#fb9f3a"
             ],
             [
              0.8888888888888888,
              "#fdca26"
             ],
             [
              1,
              "#f0f921"
             ]
            ],
            "type": "heatmap"
           }
          ],
          "heatmapgl": [
           {
            "colorbar": {
             "outlinewidth": 0,
             "ticks": ""
            },
            "colorscale": [
             [
              0,
              "#0d0887"
             ],
             [
              0.1111111111111111,
              "#46039f"
             ],
             [
              0.2222222222222222,
              "#7201a8"
             ],
             [
              0.3333333333333333,
              "#9c179e"
             ],
             [
              0.4444444444444444,
              "#bd3786"
             ],
             [
              0.5555555555555556,
              "#d8576b"
             ],
             [
              0.6666666666666666,
              "#ed7953"
             ],
             [
              0.7777777777777778,
              "#fb9f3a"
             ],
             [
              0.8888888888888888,
              "#fdca26"
             ],
             [
              1,
              "#f0f921"
             ]
            ],
            "type": "heatmapgl"
           }
          ],
          "histogram": [
           {
            "marker": {
             "pattern": {
              "fillmode": "overlay",
              "size": 10,
              "solidity": 0.2
             }
            },
            "type": "histogram"
           }
          ],
          "histogram2d": [
           {
            "colorbar": {
             "outlinewidth": 0,
             "ticks": ""
            },
            "colorscale": [
             [
              0,
              "#0d0887"
             ],
             [
              0.1111111111111111,
              "#46039f"
             ],
             [
              0.2222222222222222,
              "#7201a8"
             ],
             [
              0.3333333333333333,
              "#9c179e"
             ],
             [
              0.4444444444444444,
              "#bd3786"
             ],
             [
              0.5555555555555556,
              "#d8576b"
             ],
             [
              0.6666666666666666,
              "#ed7953"
             ],
             [
              0.7777777777777778,
              "#fb9f3a"
             ],
             [
              0.8888888888888888,
              "#fdca26"
             ],
             [
              1,
              "#f0f921"
             ]
            ],
            "type": "histogram2d"
           }
          ],
          "histogram2dcontour": [
           {
            "colorbar": {
             "outlinewidth": 0,
             "ticks": ""
            },
            "colorscale": [
             [
              0,
              "#0d0887"
             ],
             [
              0.1111111111111111,
              "#46039f"
             ],
             [
              0.2222222222222222,
              "#7201a8"
             ],
             [
              0.3333333333333333,
              "#9c179e"
             ],
             [
              0.4444444444444444,
              "#bd3786"
             ],
             [
              0.5555555555555556,
              "#d8576b"
             ],
             [
              0.6666666666666666,
              "#ed7953"
             ],
             [
              0.7777777777777778,
              "#fb9f3a"
             ],
             [
              0.8888888888888888,
              "#fdca26"
             ],
             [
              1,
              "#f0f921"
             ]
            ],
            "type": "histogram2dcontour"
           }
          ],
          "mesh3d": [
           {
            "colorbar": {
             "outlinewidth": 0,
             "ticks": ""
            },
            "type": "mesh3d"
           }
          ],
          "parcoords": [
           {
            "line": {
             "colorbar": {
              "outlinewidth": 0,
              "ticks": ""
             }
            },
            "type": "parcoords"
           }
          ],
          "pie": [
           {
            "automargin": true,
            "type": "pie"
           }
          ],
          "scatter": [
           {
            "fillpattern": {
             "fillmode": "overlay",
             "size": 10,
             "solidity": 0.2
            },
            "type": "scatter"
           }
          ],
          "scatter3d": [
           {
            "line": {
             "colorbar": {
              "outlinewidth": 0,
              "ticks": ""
             }
            },
            "marker": {
             "colorbar": {
              "outlinewidth": 0,
              "ticks": ""
             }
            },
            "type": "scatter3d"
           }
          ],
          "scattercarpet": [
           {
            "marker": {
             "colorbar": {
              "outlinewidth": 0,
              "ticks": ""
             }
            },
            "type": "scattercarpet"
           }
          ],
          "scattergeo": [
           {
            "marker": {
             "colorbar": {
              "outlinewidth": 0,
              "ticks": ""
             }
            },
            "type": "scattergeo"
           }
          ],
          "scattergl": [
           {
            "marker": {
             "colorbar": {
              "outlinewidth": 0,
              "ticks": ""
             }
            },
            "type": "scattergl"
           }
          ],
          "scattermapbox": [
           {
            "marker": {
             "colorbar": {
              "outlinewidth": 0,
              "ticks": ""
             }
            },
            "type": "scattermapbox"
           }
          ],
          "scatterpolar": [
           {
            "marker": {
             "colorbar": {
              "outlinewidth": 0,
              "ticks": ""
             }
            },
            "type": "scatterpolar"
           }
          ],
          "scatterpolargl": [
           {
            "marker": {
             "colorbar": {
              "outlinewidth": 0,
              "ticks": ""
             }
            },
            "type": "scatterpolargl"
           }
          ],
          "scatterternary": [
           {
            "marker": {
             "colorbar": {
              "outlinewidth": 0,
              "ticks": ""
             }
            },
            "type": "scatterternary"
           }
          ],
          "surface": [
           {
            "colorbar": {
             "outlinewidth": 0,
             "ticks": ""
            },
            "colorscale": [
             [
              0,
              "#0d0887"
             ],
             [
              0.1111111111111111,
              "#46039f"
             ],
             [
              0.2222222222222222,
              "#7201a8"
             ],
             [
              0.3333333333333333,
              "#9c179e"
             ],
             [
              0.4444444444444444,
              "#bd3786"
             ],
             [
              0.5555555555555556,
              "#d8576b"
             ],
             [
              0.6666666666666666,
              "#ed7953"
             ],
             [
              0.7777777777777778,
              "#fb9f3a"
             ],
             [
              0.8888888888888888,
              "#fdca26"
             ],
             [
              1,
              "#f0f921"
             ]
            ],
            "type": "surface"
           }
          ],
          "table": [
           {
            "cells": {
             "fill": {
              "color": "#EBF0F8"
             },
             "line": {
              "color": "white"
             }
            },
            "header": {
             "fill": {
              "color": "#C8D4E3"
             },
             "line": {
              "color": "white"
             }
            },
            "type": "table"
           }
          ]
         },
         "layout": {
          "annotationdefaults": {
           "arrowcolor": "#2a3f5f",
           "arrowhead": 0,
           "arrowwidth": 1
          },
          "autotypenumbers": "strict",
          "coloraxis": {
           "colorbar": {
            "outlinewidth": 0,
            "ticks": ""
           }
          },
          "colorscale": {
           "diverging": [
            [
             0,
             "#8e0152"
            ],
            [
             0.1,
             "#c51b7d"
            ],
            [
             0.2,
             "#de77ae"
            ],
            [
             0.3,
             "#f1b6da"
            ],
            [
             0.4,
             "#fde0ef"
            ],
            [
             0.5,
             "#f7f7f7"
            ],
            [
             0.6,
             "#e6f5d0"
            ],
            [
             0.7,
             "#b8e186"
            ],
            [
             0.8,
             "#7fbc41"
            ],
            [
             0.9,
             "#4d9221"
            ],
            [
             1,
             "#276419"
            ]
           ],
           "sequential": [
            [
             0,
             "#0d0887"
            ],
            [
             0.1111111111111111,
             "#46039f"
            ],
            [
             0.2222222222222222,
             "#7201a8"
            ],
            [
             0.3333333333333333,
             "#9c179e"
            ],
            [
             0.4444444444444444,
             "#bd3786"
            ],
            [
             0.5555555555555556,
             "#d8576b"
            ],
            [
             0.6666666666666666,
             "#ed7953"
            ],
            [
             0.7777777777777778,
             "#fb9f3a"
            ],
            [
             0.8888888888888888,
             "#fdca26"
            ],
            [
             1,
             "#f0f921"
            ]
           ],
           "sequentialminus": [
            [
             0,
             "#0d0887"
            ],
            [
             0.1111111111111111,
             "#46039f"
            ],
            [
             0.2222222222222222,
             "#7201a8"
            ],
            [
             0.3333333333333333,
             "#9c179e"
            ],
            [
             0.4444444444444444,
             "#bd3786"
            ],
            [
             0.5555555555555556,
             "#d8576b"
            ],
            [
             0.6666666666666666,
             "#ed7953"
            ],
            [
             0.7777777777777778,
             "#fb9f3a"
            ],
            [
             0.8888888888888888,
             "#fdca26"
            ],
            [
             1,
             "#f0f921"
            ]
           ]
          },
          "colorway": [
           "#636efa",
           "#EF553B",
           "#00cc96",
           "#ab63fa",
           "#FFA15A",
           "#19d3f3",
           "#FF6692",
           "#B6E880",
           "#FF97FF",
           "#FECB52"
          ],
          "font": {
           "color": "#2a3f5f"
          },
          "geo": {
           "bgcolor": "white",
           "lakecolor": "white",
           "landcolor": "#E5ECF6",
           "showlakes": true,
           "showland": true,
           "subunitcolor": "white"
          },
          "hoverlabel": {
           "align": "left"
          },
          "hovermode": "closest",
          "mapbox": {
           "style": "light"
          },
          "paper_bgcolor": "white",
          "plot_bgcolor": "#E5ECF6",
          "polar": {
           "angularaxis": {
            "gridcolor": "white",
            "linecolor": "white",
            "ticks": ""
           },
           "bgcolor": "#E5ECF6",
           "radialaxis": {
            "gridcolor": "white",
            "linecolor": "white",
            "ticks": ""
           }
          },
          "scene": {
           "xaxis": {
            "backgroundcolor": "#E5ECF6",
            "gridcolor": "white",
            "gridwidth": 2,
            "linecolor": "white",
            "showbackground": true,
            "ticks": "",
            "zerolinecolor": "white"
           },
           "yaxis": {
            "backgroundcolor": "#E5ECF6",
            "gridcolor": "white",
            "gridwidth": 2,
            "linecolor": "white",
            "showbackground": true,
            "ticks": "",
            "zerolinecolor": "white"
           },
           "zaxis": {
            "backgroundcolor": "#E5ECF6",
            "gridcolor": "white",
            "gridwidth": 2,
            "linecolor": "white",
            "showbackground": true,
            "ticks": "",
            "zerolinecolor": "white"
           }
          },
          "shapedefaults": {
           "line": {
            "color": "#2a3f5f"
           }
          },
          "ternary": {
           "aaxis": {
            "gridcolor": "white",
            "linecolor": "white",
            "ticks": ""
           },
           "baxis": {
            "gridcolor": "white",
            "linecolor": "white",
            "ticks": ""
           },
           "bgcolor": "#E5ECF6",
           "caxis": {
            "gridcolor": "white",
            "linecolor": "white",
            "ticks": ""
           }
          },
          "title": {
           "x": 0.05
          },
          "xaxis": {
           "automargin": true,
           "gridcolor": "white",
           "linecolor": "white",
           "ticks": "",
           "title": {
            "standoff": 15
           },
           "zerolinecolor": "white",
           "zerolinewidth": 2
          },
          "yaxis": {
           "automargin": true,
           "gridcolor": "white",
           "linecolor": "white",
           "ticks": "",
           "title": {
            "standoff": 15
           },
           "zerolinecolor": "white",
           "zerolinewidth": 2
          }
         }
        },
        "title": {
         "text": "GREET WTP"
        },
        "xaxis": {
         "anchor": "y",
         "domain": [
          0,
          1
         ],
         "title": {
          "text": "fuel"
         }
        },
        "yaxis": {
         "anchor": "x",
         "domain": [
          0,
          1
         ],
         "title": {
          "text": "GREET Default"
         }
        }
       }
      }
     },
     "metadata": {},
     "output_type": "display_data"
    }
   ],
   "source": [
    "fig = px.scatter(greet_sc[(greet_sc.Year == 2022) & (greet_sc['Formula'] == 'CO2')], x='fuel', y='GREET Default', \n",
    "                 color='GREET Pathway', title='GREET WTP')\n",
    "\n",
    "fig.show()"
   ]
  },
  {
   "cell_type": "code",
   "execution_count": 6,
   "metadata": {},
   "outputs": [
    {
     "data": {
      "application/vnd.plotly.v1+json": {
       "config": {
        "plotlyServerURL": "https://plot.ly"
       },
       "data": [
        {
         "hovertemplate": "Fuel Category=HFO<br>fuel=%{x}<br>BAU=%{y}<extra></extra>",
         "legendgroup": "HFO",
         "marker": {
          "color": "#636efa",
          "symbol": "circle"
         },
         "mode": "markers",
         "name": "HFO",
         "orientation": "v",
         "showlegend": true,
         "type": "scatter",
         "x": [
          "BDSL"
         ],
         "xaxis": "x",
         "y": [
          10934.35818
         ],
         "yaxis": "y"
        },
        {
         "hovertemplate": "Fuel Category=Biodiesel<br>fuel=%{x}<br>BAU=%{y}<extra></extra>",
         "legendgroup": "Biodiesel",
         "marker": {
          "color": "#EF553B",
          "symbol": "circle"
         },
         "mode": "markers",
         "name": "Biodiesel",
         "orientation": "v",
         "showlegend": true,
         "type": "scatter",
         "x": [
          "BDSL"
         ],
         "xaxis": "x",
         "y": [
          -54646.95618
         ],
         "yaxis": "y"
        },
        {
         "hovertemplate": "Fuel Category=CNG<br>fuel=%{x}<br>BAU=%{y}<extra></extra>",
         "legendgroup": "CNG",
         "marker": {
          "color": "#00cc96",
          "symbol": "circle"
         },
         "mode": "markers",
         "name": "CNG",
         "orientation": "v",
         "showlegend": true,
         "type": "scatter",
         "x": [
          "CNG",
          "CNG",
          "CNG",
          "CNG"
         ],
         "xaxis": "x",
         "y": [
          9279.79529,
          9279.79529,
          9279.79529,
          9279.79529
         ],
         "yaxis": "y"
        },
        {
         "hovertemplate": "Fuel Category=Pet Coke<br>fuel=%{x}<br>BAU=%{y}<extra></extra>",
         "legendgroup": "Pet Coke",
         "marker": {
          "color": "#ab63fa",
          "symbol": "circle"
         },
         "mode": "markers",
         "name": "Pet Coke",
         "orientation": "v",
         "showlegend": true,
         "type": "scatter",
         "x": [
          "COKE"
         ],
         "xaxis": "x",
         "y": [
          11149.89492
         ],
         "yaxis": "y"
        },
        {
         "hovertemplate": "Fuel Category=Diesel<br>fuel=%{x}<br>BAU=%{y}<extra></extra>",
         "legendgroup": "Diesel",
         "marker": {
          "color": "#FFA15A",
          "symbol": "circle"
         },
         "mode": "markers",
         "name": "Diesel",
         "orientation": "v",
         "showlegend": true,
         "type": "scatter",
         "x": [
          "DSL",
          "DSL",
          "DSL",
          "DSL",
          "DSL",
          "DSL"
         ],
         "xaxis": "x",
         "y": [
          13716.29847,
          13717.57272,
          13717.57272,
          13717.57272,
          13717.57272,
          13717.57272
         ],
         "yaxis": "y"
        },
        {
         "hovertemplate": "Fuel Category=Conventional Diesel<br>fuel=%{x}<br>BAU=%{y}<extra></extra>",
         "legendgroup": "Conventional Diesel",
         "marker": {
          "color": "#19d3f3",
          "symbol": "circle"
         },
         "mode": "markers",
         "name": "Conventional Diesel",
         "orientation": "v",
         "showlegend": true,
         "type": "scatter",
         "x": [
          "DSL"
         ],
         "xaxis": "x",
         "y": [
          13716.29847
         ],
         "yaxis": "y"
        },
        {
         "hovertemplate": "Fuel Category=E85<br>fuel=%{x}<br>BAU=%{y}<extra></extra>",
         "legendgroup": "E85",
         "marker": {
          "color": "#FF6692",
          "symbol": "circle"
         },
         "mode": "markers",
         "name": "E85",
         "orientation": "v",
         "showlegend": true,
         "type": "scatter",
         "x": [
          "E85"
         ],
         "xaxis": "x",
         "y": [
          -19920.22
         ],
         "yaxis": "y"
        },
        {
         "hovertemplate": "Fuel Category=E100<br>fuel=%{x}<br>BAU=%{y}<extra></extra>",
         "legendgroup": "E100",
         "marker": {
          "color": "#B6E880",
          "symbol": "circle"
         },
         "mode": "markers",
         "name": "E100",
         "orientation": "v",
         "showlegend": true,
         "type": "scatter",
         "x": [
          "ETH"
         ],
         "xaxis": "x",
         "y": [
          -29956.80378
         ],
         "yaxis": "y"
        },
        {
         "hovertemplate": "Fuel Category=Hydrogen (G.H2)<br>fuel=%{x}<br>BAU=%{y}<extra></extra>",
         "legendgroup": "Hydrogen (G.H2)",
         "marker": {
          "color": "#FF97FF",
          "symbol": "circle"
         },
         "mode": "markers",
         "name": "Hydrogen (G.H2)",
         "orientation": "v",
         "showlegend": true,
         "type": "scatter",
         "x": [
          "GH2",
          "GH2",
          "GH2",
          "GH2",
          "GH2",
          "GH2"
         ],
         "xaxis": "x",
         "y": [
          91759.17046,
          91759.17046,
          91759.17046,
          94981.38167,
          91759.17046,
          94981.38167
         ],
         "yaxis": "y"
        },
        {
         "hovertemplate": "Fuel Category=E0<br>fuel=%{x}<br>BAU=%{y}<extra></extra>",
         "legendgroup": "E0",
         "marker": {
          "color": "#FECB52",
          "symbol": "circle"
         },
         "mode": "markers",
         "name": "E0",
         "orientation": "v",
         "showlegend": true,
         "type": "scatter",
         "x": [
          "GSL"
         ],
         "xaxis": "x",
         "y": [
          17864.40121
         ],
         "yaxis": "y"
        },
        {
         "hovertemplate": "Fuel Category=Gasoline<br>fuel=%{x}<br>BAU=%{y}<extra></extra>",
         "legendgroup": "Gasoline",
         "marker": {
          "color": "#636efa",
          "symbol": "circle"
         },
         "mode": "markers",
         "name": "Gasoline",
         "orientation": "v",
         "showlegend": true,
         "type": "scatter",
         "x": [
          "GSL",
          "GSL"
         ],
         "xaxis": "x",
         "y": [
          14577.02776,
          109.4896594
         ],
         "yaxis": "y"
        },
        {
         "hovertemplate": "Fuel Category=HFO (0.5% sulfur)<br>fuel=%{x}<br>BAU=%{y}<extra></extra>",
         "legendgroup": "HFO (0.5% sulfur)",
         "marker": {
          "color": "#EF553B",
          "symbol": "circle"
         },
         "mode": "markers",
         "name": "HFO (0.5% sulfur)",
         "orientation": "v",
         "showlegend": true,
         "type": "scatter",
         "x": [
          "HFO"
         ],
         "xaxis": "x",
         "y": [
          10910.30764
         ],
         "yaxis": "y"
        },
        {
         "hovertemplate": "Fuel Category=Conventional JetA<br>fuel=%{x}<br>BAU=%{y}<extra></extra>",
         "legendgroup": "Conventional JetA",
         "marker": {
          "color": "#00cc96",
          "symbol": "circle"
         },
         "mode": "markers",
         "name": "Conventional JetA",
         "orientation": "v",
         "showlegend": true,
         "type": "scatter",
         "x": [
          "JTF"
         ],
         "xaxis": "x",
         "y": [
          9618.734301
         ],
         "yaxis": "y"
        },
        {
         "hovertemplate": "Fuel Category=Petroleum Conv.<br>fuel=%{x}<br>BAU=%{y}<extra></extra>",
         "legendgroup": "Petroleum Conv.",
         "marker": {
          "color": "#ab63fa",
          "symbol": "circle"
         },
         "mode": "markers",
         "name": "Petroleum Conv.",
         "orientation": "v",
         "showlegend": true,
         "type": "scatter",
         "x": [
          "JTF"
         ],
         "xaxis": "x",
         "y": [
          9618.734301
         ],
         "yaxis": "y"
        },
        {
         "hovertemplate": "Fuel Category=LNG<br>fuel=%{x}<br>BAU=%{y}<extra></extra>",
         "legendgroup": "LNG",
         "marker": {
          "color": "#FFA15A",
          "symbol": "circle"
         },
         "mode": "markers",
         "name": "LNG",
         "orientation": "v",
         "showlegend": true,
         "type": "scatter",
         "x": [
          "LNG",
          "LNG",
          "LNG",
          "LNG"
         ],
         "xaxis": "x",
         "y": [
          11406.13115,
          11447.6202,
          11447.6202,
          11447.6202
         ],
         "yaxis": "y"
        },
        {
         "hovertemplate": "Fuel Category=NG to LNG as intermediate fuel<br>fuel=%{x}<br>BAU=%{y}<extra></extra>",
         "legendgroup": "NG to LNG as intermediate fuel",
         "marker": {
          "color": "#19d3f3",
          "symbol": "circle"
         },
         "mode": "markers",
         "name": "NG to LNG as intermediate fuel",
         "orientation": "v",
         "showlegend": true,
         "type": "scatter",
         "x": [
          "LNG"
         ],
         "xaxis": "x",
         "y": [
          11447.6202
         ],
         "yaxis": "y"
        },
        {
         "hovertemplate": "Fuel Category=Propane<br>fuel=%{x}<br>BAU=%{y}<extra></extra>",
         "legendgroup": "Propane",
         "marker": {
          "color": "#FF6692",
          "symbol": "circle"
         },
         "mode": "markers",
         "name": "Propane",
         "orientation": "v",
         "showlegend": true,
         "type": "scatter",
         "x": [
          "LPG"
         ],
         "xaxis": "x",
         "y": [
          10193.89678
         ],
         "yaxis": "y"
        },
        {
         "hovertemplate": "Fuel Category=LPG<br>fuel=%{x}<br>BAU=%{y}<extra></extra>",
         "legendgroup": "LPG",
         "marker": {
          "color": "#B6E880",
          "symbol": "circle"
         },
         "mode": "markers",
         "name": "LPG",
         "orientation": "v",
         "showlegend": true,
         "type": "scatter",
         "x": [
          "LPG",
          "LPG"
         ],
         "xaxis": "x",
         "y": [
          10193.89678,
          16265.56386
         ],
         "yaxis": "y"
        },
        {
         "hovertemplate": "Fuel Category=MDO (0.5% sulfur)<br>fuel=%{x}<br>BAU=%{y}<extra></extra>",
         "legendgroup": "MDO (0.5% sulfur)",
         "marker": {
          "color": "#FF97FF",
          "symbol": "circle"
         },
         "mode": "markers",
         "name": "MDO (0.5% sulfur)",
         "orientation": "v",
         "showlegend": true,
         "type": "scatter",
         "x": [
          "MDO"
         ],
         "xaxis": "x",
         "y": [
          11714.66617
         ],
         "yaxis": "y"
        },
        {
         "hovertemplate": "Fuel Category=Natural Gas<br>fuel=%{x}<br>BAU=%{y}<extra></extra>",
         "legendgroup": "Natural Gas",
         "marker": {
          "color": "#FECB52",
          "symbol": "circle"
         },
         "mode": "markers",
         "name": "Natural Gas",
         "orientation": "v",
         "showlegend": true,
         "type": "scatter",
         "x": [
          "NG",
          "NG"
         ],
         "xaxis": "x",
         "y": [
          6297.138754,
          11447.6202
         ],
         "yaxis": "y"
        },
        {
         "hovertemplate": "Fuel Category=Residual Oil<br>fuel=%{x}<br>BAU=%{y}<extra></extra>",
         "legendgroup": "Residual Oil",
         "marker": {
          "color": "#636efa",
          "symbol": "circle"
         },
         "mode": "markers",
         "name": "Residual Oil",
         "orientation": "v",
         "showlegend": true,
         "type": "scatter",
         "x": [
          "ROIL"
         ],
         "xaxis": "x",
         "y": [
          10585.71096
         ],
         "yaxis": "y"
        },
        {
         "hovertemplate": "Fuel Category=SPK - STJ<br>fuel=%{x}<br>BAU=%{y}<extra></extra>",
         "legendgroup": "SPK - STJ",
         "marker": {
          "color": "#EF553B",
          "symbol": "circle"
         },
         "mode": "markers",
         "name": "SPK - STJ",
         "orientation": "v",
         "showlegend": true,
         "type": "scatter",
         "x": [
          "SPK"
         ],
         "xaxis": "x",
         "y": [
          -62688.0762
         ],
         "yaxis": "y"
        },
        {
         "hovertemplate": "Fuel Category=Willow<br>fuel=%{x}<br>BAU=%{y}<extra></extra>",
         "legendgroup": "Willow",
         "marker": {
          "color": "#00cc96",
          "symbol": "circle"
         },
         "mode": "markers",
         "name": "Willow",
         "orientation": "v",
         "showlegend": true,
         "type": "scatter",
         "x": [
          "WILLOW"
         ],
         "xaxis": "x",
         "y": [
          36802.4409
         ],
         "yaxis": "y"
        }
       ],
       "layout": {
        "legend": {
         "title": {
          "text": "Fuel Category"
         },
         "tracegroupgap": 0
        },
        "template": {
         "data": {
          "bar": [
           {
            "error_x": {
             "color": "#2a3f5f"
            },
            "error_y": {
             "color": "#2a3f5f"
            },
            "marker": {
             "line": {
              "color": "#E5ECF6",
              "width": 0.5
             },
             "pattern": {
              "fillmode": "overlay",
              "size": 10,
              "solidity": 0.2
             }
            },
            "type": "bar"
           }
          ],
          "barpolar": [
           {
            "marker": {
             "line": {
              "color": "#E5ECF6",
              "width": 0.5
             },
             "pattern": {
              "fillmode": "overlay",
              "size": 10,
              "solidity": 0.2
             }
            },
            "type": "barpolar"
           }
          ],
          "carpet": [
           {
            "aaxis": {
             "endlinecolor": "#2a3f5f",
             "gridcolor": "white",
             "linecolor": "white",
             "minorgridcolor": "white",
             "startlinecolor": "#2a3f5f"
            },
            "baxis": {
             "endlinecolor": "#2a3f5f",
             "gridcolor": "white",
             "linecolor": "white",
             "minorgridcolor": "white",
             "startlinecolor": "#2a3f5f"
            },
            "type": "carpet"
           }
          ],
          "choropleth": [
           {
            "colorbar": {
             "outlinewidth": 0,
             "ticks": ""
            },
            "type": "choropleth"
           }
          ],
          "contour": [
           {
            "colorbar": {
             "outlinewidth": 0,
             "ticks": ""
            },
            "colorscale": [
             [
              0,
              "#0d0887"
             ],
             [
              0.1111111111111111,
              "#46039f"
             ],
             [
              0.2222222222222222,
              "#7201a8"
             ],
             [
              0.3333333333333333,
              "#9c179e"
             ],
             [
              0.4444444444444444,
              "#bd3786"
             ],
             [
              0.5555555555555556,
              "#d8576b"
             ],
             [
              0.6666666666666666,
              "#ed7953"
             ],
             [
              0.7777777777777778,
              "#fb9f3a"
             ],
             [
              0.8888888888888888,
              "#fdca26"
             ],
             [
              1,
              "#f0f921"
             ]
            ],
            "type": "contour"
           }
          ],
          "contourcarpet": [
           {
            "colorbar": {
             "outlinewidth": 0,
             "ticks": ""
            },
            "type": "contourcarpet"
           }
          ],
          "heatmap": [
           {
            "colorbar": {
             "outlinewidth": 0,
             "ticks": ""
            },
            "colorscale": [
             [
              0,
              "#0d0887"
             ],
             [
              0.1111111111111111,
              "#46039f"
             ],
             [
              0.2222222222222222,
              "#7201a8"
             ],
             [
              0.3333333333333333,
              "#9c179e"
             ],
             [
              0.4444444444444444,
              "#bd3786"
             ],
             [
              0.5555555555555556,
              "#d8576b"
             ],
             [
              0.6666666666666666,
              "#ed7953"
             ],
             [
              0.7777777777777778,
              "#fb9f3a"
             ],
             [
              0.8888888888888888,
              "#fdca26"
             ],
             [
              1,
              "#f0f921"
             ]
            ],
            "type": "heatmap"
           }
          ],
          "heatmapgl": [
           {
            "colorbar": {
             "outlinewidth": 0,
             "ticks": ""
            },
            "colorscale": [
             [
              0,
              "#0d0887"
             ],
             [
              0.1111111111111111,
              "#46039f"
             ],
             [
              0.2222222222222222,
              "#7201a8"
             ],
             [
              0.3333333333333333,
              "#9c179e"
             ],
             [
              0.4444444444444444,
              "#bd3786"
             ],
             [
              0.5555555555555556,
              "#d8576b"
             ],
             [
              0.6666666666666666,
              "#ed7953"
             ],
             [
              0.7777777777777778,
              "#fb9f3a"
             ],
             [
              0.8888888888888888,
              "#fdca26"
             ],
             [
              1,
              "#f0f921"
             ]
            ],
            "type": "heatmapgl"
           }
          ],
          "histogram": [
           {
            "marker": {
             "pattern": {
              "fillmode": "overlay",
              "size": 10,
              "solidity": 0.2
             }
            },
            "type": "histogram"
           }
          ],
          "histogram2d": [
           {
            "colorbar": {
             "outlinewidth": 0,
             "ticks": ""
            },
            "colorscale": [
             [
              0,
              "#0d0887"
             ],
             [
              0.1111111111111111,
              "#46039f"
             ],
             [
              0.2222222222222222,
              "#7201a8"
             ],
             [
              0.3333333333333333,
              "#9c179e"
             ],
             [
              0.4444444444444444,
              "#bd3786"
             ],
             [
              0.5555555555555556,
              "#d8576b"
             ],
             [
              0.6666666666666666,
              "#ed7953"
             ],
             [
              0.7777777777777778,
              "#fb9f3a"
             ],
             [
              0.8888888888888888,
              "#fdca26"
             ],
             [
              1,
              "#f0f921"
             ]
            ],
            "type": "histogram2d"
           }
          ],
          "histogram2dcontour": [
           {
            "colorbar": {
             "outlinewidth": 0,
             "ticks": ""
            },
            "colorscale": [
             [
              0,
              "#0d0887"
             ],
             [
              0.1111111111111111,
              "#46039f"
             ],
             [
              0.2222222222222222,
              "#7201a8"
             ],
             [
              0.3333333333333333,
              "#9c179e"
             ],
             [
              0.4444444444444444,
              "#bd3786"
             ],
             [
              0.5555555555555556,
              "#d8576b"
             ],
             [
              0.6666666666666666,
              "#ed7953"
             ],
             [
              0.7777777777777778,
              "#fb9f3a"
             ],
             [
              0.8888888888888888,
              "#fdca26"
             ],
             [
              1,
              "#f0f921"
             ]
            ],
            "type": "histogram2dcontour"
           }
          ],
          "mesh3d": [
           {
            "colorbar": {
             "outlinewidth": 0,
             "ticks": ""
            },
            "type": "mesh3d"
           }
          ],
          "parcoords": [
           {
            "line": {
             "colorbar": {
              "outlinewidth": 0,
              "ticks": ""
             }
            },
            "type": "parcoords"
           }
          ],
          "pie": [
           {
            "automargin": true,
            "type": "pie"
           }
          ],
          "scatter": [
           {
            "fillpattern": {
             "fillmode": "overlay",
             "size": 10,
             "solidity": 0.2
            },
            "type": "scatter"
           }
          ],
          "scatter3d": [
           {
            "line": {
             "colorbar": {
              "outlinewidth": 0,
              "ticks": ""
             }
            },
            "marker": {
             "colorbar": {
              "outlinewidth": 0,
              "ticks": ""
             }
            },
            "type": "scatter3d"
           }
          ],
          "scattercarpet": [
           {
            "marker": {
             "colorbar": {
              "outlinewidth": 0,
              "ticks": ""
             }
            },
            "type": "scattercarpet"
           }
          ],
          "scattergeo": [
           {
            "marker": {
             "colorbar": {
              "outlinewidth": 0,
              "ticks": ""
             }
            },
            "type": "scattergeo"
           }
          ],
          "scattergl": [
           {
            "marker": {
             "colorbar": {
              "outlinewidth": 0,
              "ticks": ""
             }
            },
            "type": "scattergl"
           }
          ],
          "scattermapbox": [
           {
            "marker": {
             "colorbar": {
              "outlinewidth": 0,
              "ticks": ""
             }
            },
            "type": "scattermapbox"
           }
          ],
          "scatterpolar": [
           {
            "marker": {
             "colorbar": {
              "outlinewidth": 0,
              "ticks": ""
             }
            },
            "type": "scatterpolar"
           }
          ],
          "scatterpolargl": [
           {
            "marker": {
             "colorbar": {
              "outlinewidth": 0,
              "ticks": ""
             }
            },
            "type": "scatterpolargl"
           }
          ],
          "scatterternary": [
           {
            "marker": {
             "colorbar": {
              "outlinewidth": 0,
              "ticks": ""
             }
            },
            "type": "scatterternary"
           }
          ],
          "surface": [
           {
            "colorbar": {
             "outlinewidth": 0,
             "ticks": ""
            },
            "colorscale": [
             [
              0,
              "#0d0887"
             ],
             [
              0.1111111111111111,
              "#46039f"
             ],
             [
              0.2222222222222222,
              "#7201a8"
             ],
             [
              0.3333333333333333,
              "#9c179e"
             ],
             [
              0.4444444444444444,
              "#bd3786"
             ],
             [
              0.5555555555555556,
              "#d8576b"
             ],
             [
              0.6666666666666666,
              "#ed7953"
             ],
             [
              0.7777777777777778,
              "#fb9f3a"
             ],
             [
              0.8888888888888888,
              "#fdca26"
             ],
             [
              1,
              "#f0f921"
             ]
            ],
            "type": "surface"
           }
          ],
          "table": [
           {
            "cells": {
             "fill": {
              "color": "#EBF0F8"
             },
             "line": {
              "color": "white"
             }
            },
            "header": {
             "fill": {
              "color": "#C8D4E3"
             },
             "line": {
              "color": "white"
             }
            },
            "type": "table"
           }
          ]
         },
         "layout": {
          "annotationdefaults": {
           "arrowcolor": "#2a3f5f",
           "arrowhead": 0,
           "arrowwidth": 1
          },
          "autotypenumbers": "strict",
          "coloraxis": {
           "colorbar": {
            "outlinewidth": 0,
            "ticks": ""
           }
          },
          "colorscale": {
           "diverging": [
            [
             0,
             "#8e0152"
            ],
            [
             0.1,
             "#c51b7d"
            ],
            [
             0.2,
             "#de77ae"
            ],
            [
             0.3,
             "#f1b6da"
            ],
            [
             0.4,
             "#fde0ef"
            ],
            [
             0.5,
             "#f7f7f7"
            ],
            [
             0.6,
             "#e6f5d0"
            ],
            [
             0.7,
             "#b8e186"
            ],
            [
             0.8,
             "#7fbc41"
            ],
            [
             0.9,
             "#4d9221"
            ],
            [
             1,
             "#276419"
            ]
           ],
           "sequential": [
            [
             0,
             "#0d0887"
            ],
            [
             0.1111111111111111,
             "#46039f"
            ],
            [
             0.2222222222222222,
             "#7201a8"
            ],
            [
             0.3333333333333333,
             "#9c179e"
            ],
            [
             0.4444444444444444,
             "#bd3786"
            ],
            [
             0.5555555555555556,
             "#d8576b"
            ],
            [
             0.6666666666666666,
             "#ed7953"
            ],
            [
             0.7777777777777778,
             "#fb9f3a"
            ],
            [
             0.8888888888888888,
             "#fdca26"
            ],
            [
             1,
             "#f0f921"
            ]
           ],
           "sequentialminus": [
            [
             0,
             "#0d0887"
            ],
            [
             0.1111111111111111,
             "#46039f"
            ],
            [
             0.2222222222222222,
             "#7201a8"
            ],
            [
             0.3333333333333333,
             "#9c179e"
            ],
            [
             0.4444444444444444,
             "#bd3786"
            ],
            [
             0.5555555555555556,
             "#d8576b"
            ],
            [
             0.6666666666666666,
             "#ed7953"
            ],
            [
             0.7777777777777778,
             "#fb9f3a"
            ],
            [
             0.8888888888888888,
             "#fdca26"
            ],
            [
             1,
             "#f0f921"
            ]
           ]
          },
          "colorway": [
           "#636efa",
           "#EF553B",
           "#00cc96",
           "#ab63fa",
           "#FFA15A",
           "#19d3f3",
           "#FF6692",
           "#B6E880",
           "#FF97FF",
           "#FECB52"
          ],
          "font": {
           "color": "#2a3f5f"
          },
          "geo": {
           "bgcolor": "white",
           "lakecolor": "white",
           "landcolor": "#E5ECF6",
           "showlakes": true,
           "showland": true,
           "subunitcolor": "white"
          },
          "hoverlabel": {
           "align": "left"
          },
          "hovermode": "closest",
          "mapbox": {
           "style": "light"
          },
          "paper_bgcolor": "white",
          "plot_bgcolor": "#E5ECF6",
          "polar": {
           "angularaxis": {
            "gridcolor": "white",
            "linecolor": "white",
            "ticks": ""
           },
           "bgcolor": "#E5ECF6",
           "radialaxis": {
            "gridcolor": "white",
            "linecolor": "white",
            "ticks": ""
           }
          },
          "scene": {
           "xaxis": {
            "backgroundcolor": "#E5ECF6",
            "gridcolor": "white",
            "gridwidth": 2,
            "linecolor": "white",
            "showbackground": true,
            "ticks": "",
            "zerolinecolor": "white"
           },
           "yaxis": {
            "backgroundcolor": "#E5ECF6",
            "gridcolor": "white",
            "gridwidth": 2,
            "linecolor": "white",
            "showbackground": true,
            "ticks": "",
            "zerolinecolor": "white"
           },
           "zaxis": {
            "backgroundcolor": "#E5ECF6",
            "gridcolor": "white",
            "gridwidth": 2,
            "linecolor": "white",
            "showbackground": true,
            "ticks": "",
            "zerolinecolor": "white"
           }
          },
          "shapedefaults": {
           "line": {
            "color": "#2a3f5f"
           }
          },
          "ternary": {
           "aaxis": {
            "gridcolor": "white",
            "linecolor": "white",
            "ticks": ""
           },
           "baxis": {
            "gridcolor": "white",
            "linecolor": "white",
            "ticks": ""
           },
           "bgcolor": "#E5ECF6",
           "caxis": {
            "gridcolor": "white",
            "linecolor": "white",
            "ticks": ""
           }
          },
          "title": {
           "x": 0.05
          },
          "xaxis": {
           "automargin": true,
           "gridcolor": "white",
           "linecolor": "white",
           "ticks": "",
           "title": {
            "standoff": 15
           },
           "zerolinecolor": "white",
           "zerolinewidth": 2
          },
          "yaxis": {
           "automargin": true,
           "gridcolor": "white",
           "linecolor": "white",
           "ticks": "",
           "title": {
            "standoff": 15
           },
           "zerolinecolor": "white",
           "zerolinewidth": 2
          }
         }
        },
        "title": {
         "text": "AGE GREET WTP"
        },
        "xaxis": {
         "anchor": "y",
         "domain": [
          0,
          1
         ],
         "title": {
          "text": "fuel"
         }
        },
        "yaxis": {
         "anchor": "x",
         "domain": [
          0,
          1
         ],
         "title": {
          "text": "BAU"
         }
        }
       }
      }
     },
     "metadata": {},
     "output_type": "display_data"
    }
   ],
   "source": [
    "fig = px.scatter(greet_age[(greet_age.Year == 2022) & (greet_age['Metric'] == 'CO2') & (greet_age['LC Phase'] == 'Supply Chain')], x='fuel', y='BAU', \n",
    "                 color='Fuel Category', title='AGE GREET WTP')\n",
    "\n",
    "fig.show()"
   ]
  },
  {
   "cell_type": "code",
   "execution_count": 7,
   "metadata": {},
   "outputs": [],
   "source": [
    "greet_sc_export = greet_sc[greet_sc['Year'] == 2022][['fuel', 'GREET Pathway', 'Formula', 'GREET Default']]\n",
    "greet_sc_export = pd.merge(greet_sc_export, greet_hv[['fuel', 'LHV_by_HHV']], how='left', on='fuel')\n",
    "greet_sc_export['EF'] = greet_sc_export['GREET Default'] * greet_sc_export['LHV_by_HHV'] / 1055.05585 # MMBtu to MJ\n",
    "greet_sc_export.drop(columns=['GREET Default', 'LHV_by_HHV'], inplace=True)\n",
    "# greet_sc_export.pivot_table(index=['fuel', 'GREET Pathway'], columns='Formula', values='EF', aggfunc='first').reset_index()[['fuel', 'GREET Pathway', 'CO2', 'CH4', 'N2O']].to_clipboard()\n",
    "\n",
    "greet_age_export = greet_age[(greet_age['Year'] == 2022) & (greet_age['LC Phase'] == 'Supply Chain')][['fuel', 'Fuel Category', 'Metric', 'BAU']]\n",
    "greet_age_export = pd.merge(greet_age_export, greet_hv[['fuel', 'LHV_by_HHV']], how='left', on='fuel')\n",
    "greet_age_export['EF'] = greet_age_export['BAU'] * greet_age_export['LHV_by_HHV'] / 1055.05585 # MMBtu to MJ\n",
    "greet_age_export.drop(columns=['BAU', 'LHV_by_HHV'], inplace=True)\n",
    "# greet_age_export.pivot_table(index=['fuel', 'Fuel Category'], columns='Metric', values='EF', aggfunc='first').reset_index()[['fuel', 'Fuel Category', 'CO2', 'CH4', 'N2O']].to_clipboard()"
   ]
  },
  {
   "cell_type": "markdown",
   "metadata": {},
   "source": [
    "# Direct combustion"
   ]
  },
  {
   "cell_type": "code",
   "execution_count": 8,
   "metadata": {},
   "outputs": [
    {
     "data": {
      "application/vnd.plotly.v1+json": {
       "config": {
        "plotlyServerURL": "https://plot.ly"
       },
       "data": [
        {
         "hovertemplate": "GREET Pathway=SI Transit Buses, CNG, NA NG<br>fuel=%{x}<br>Reference case=%{y}<extra></extra>",
         "legendgroup": "SI Transit Buses, CNG, NA NG",
         "marker": {
          "color": "#636efa",
          "symbol": "circle"
         },
         "mode": "markers",
         "name": "SI Transit Buses, CNG, NA NG",
         "orientation": "v",
         "showlegend": true,
         "type": "scatter",
         "x": [
          "CNG",
          "CNG"
         ],
         "xaxis": "x",
         "y": [
          59277.923,
          59277.923
         ],
         "yaxis": "y"
        },
        {
         "hovertemplate": "GREET Pathway=SI Medium Heavy-Duty Vocational Vehicles, CNG, NA NG<br>fuel=%{x}<br>Reference case=%{y}<extra></extra>",
         "legendgroup": "SI Medium Heavy-Duty Vocational Vehicles, CNG, NA NG",
         "marker": {
          "color": "#EF553B",
          "symbol": "circle"
         },
         "mode": "markers",
         "name": "SI Medium Heavy-Duty Vocational Vehicles, CNG, NA NG",
         "orientation": "v",
         "showlegend": true,
         "type": "scatter",
         "x": [
          "CNG",
          "CNG"
         ],
         "xaxis": "x",
         "y": [
          59121.457,
          59121.457
         ],
         "yaxis": "y"
        },
        {
         "hovertemplate": "GREET Pathway=SI Intercity Buses, CNG, NA NG<br>fuel=%{x}<br>Reference case=%{y}<extra></extra>",
         "legendgroup": "SI Intercity Buses, CNG, NA NG",
         "marker": {
          "color": "#00cc96",
          "symbol": "circle"
         },
         "mode": "markers",
         "name": "SI Intercity Buses, CNG, NA NG",
         "orientation": "v",
         "showlegend": true,
         "type": "scatter",
         "x": [
          "CNG",
          "CNG"
         ],
         "xaxis": "x",
         "y": [
          59277.923,
          59277.923
         ],
         "yaxis": "y"
        },
        {
         "hovertemplate": "GREET Pathway=SI Combination Long-Haul Trucks: CNG, NA NG<br>fuel=%{x}<br>Reference case=%{y}<extra></extra>",
         "legendgroup": "SI Combination Long-Haul Trucks: CNG, NA NG",
         "marker": {
          "color": "#ab63fa",
          "symbol": "circle"
         },
         "mode": "markers",
         "name": "SI Combination Long-Haul Trucks: CNG, NA NG",
         "orientation": "v",
         "showlegend": true,
         "type": "scatter",
         "x": [
          "CNG",
          "CNG"
         ],
         "xaxis": "x",
         "y": [
          59286.457,
          59286.457
         ],
         "yaxis": "y"
        },
        {
         "hovertemplate": "GREET Pathway=SI School Buses, CNG, NA NG<br>fuel=%{x}<br>Reference case=%{y}<extra></extra>",
         "legendgroup": "SI School Buses, CNG, NA NG",
         "marker": {
          "color": "#FFA15A",
          "symbol": "circle"
         },
         "mode": "markers",
         "name": "SI School Buses, CNG, NA NG",
         "orientation": "v",
         "showlegend": true,
         "type": "scatter",
         "x": [
          "CNG",
          "CNG"
         ],
         "xaxis": "x",
         "y": [
          59121.457,
          59121.457
         ],
         "yaxis": "y"
        },
        {
         "hovertemplate": "GREET Pathway=Dedicated CNGV, NA NG<br>fuel=%{x}<br>Reference case=%{y}<extra></extra>",
         "legendgroup": "Dedicated CNGV, NA NG",
         "marker": {
          "color": "#19d3f3",
          "symbol": "circle"
         },
         "mode": "markers",
         "name": "Dedicated CNGV, NA NG",
         "orientation": "v",
         "showlegend": true,
         "type": "scatter",
         "x": [
          "CNG",
          "CNG"
         ],
         "xaxis": "x",
         "y": [
          59323.48824,
          59323.48824
         ],
         "yaxis": "y"
        },
        {
         "hovertemplate": "GREET Pathway=SI Heavy-Duty Pick-Up Trucks and Vans, CNG, NA NG<br>fuel=%{x}<br>Reference case=%{y}<extra></extra>",
         "legendgroup": "SI Heavy-Duty Pick-Up Trucks and Vans, CNG, NA NG",
         "marker": {
          "color": "#FF6692",
          "symbol": "circle"
         },
         "mode": "markers",
         "name": "SI Heavy-Duty Pick-Up Trucks and Vans, CNG, NA NG",
         "orientation": "v",
         "showlegend": true,
         "type": "scatter",
         "x": [
          "CNG",
          "CNG"
         ],
         "xaxis": "x",
         "y": [
          59323.26534,
          59323.26534
         ],
         "yaxis": "y"
        },
        {
         "hovertemplate": "GREET Pathway=Coal: Industrial Boiler<br>fuel=%{x}<br>Reference case=%{y}<extra></extra>",
         "legendgroup": "Coal: Industrial Boiler",
         "marker": {
          "color": "#B6E880",
          "symbol": "circle"
         },
         "mode": "markers",
         "name": "Coal: Industrial Boiler",
         "orientation": "v",
         "showlegend": true,
         "type": "scatter",
         "x": [
          "COAL",
          "COAL"
         ],
         "xaxis": "x",
         "y": [
          100001.606,
          100001.606
         ],
         "yaxis": "y"
        },
        {
         "hovertemplate": "GREET Pathway=Coal: Utility Boiler<br>fuel=%{x}<br>Reference case=%{y}<extra></extra>",
         "legendgroup": "Coal: Utility Boiler",
         "marker": {
          "color": "#FF97FF",
          "symbol": "circle"
         },
         "mode": "markers",
         "name": "Coal: Utility Boiler",
         "orientation": "v",
         "showlegend": true,
         "type": "scatter",
         "x": [
          "COAL"
         ],
         "xaxis": "x",
         "y": [
          100017.0645
         ],
         "yaxis": "y"
        },
        {
         "hovertemplate": "GREET Pathway=Petroleum Coke: Industrial Boiler<br>fuel=%{x}<br>Reference case=%{y}<extra></extra>",
         "legendgroup": "Petroleum Coke: Industrial Boiler",
         "marker": {
          "color": "#FECB52",
          "symbol": "circle"
         },
         "mode": "markers",
         "name": "Petroleum Coke: Industrial Boiler",
         "orientation": "v",
         "showlegend": true,
         "type": "scatter",
         "x": [
          "COKE",
          "COKE"
         ],
         "xaxis": "x",
         "y": [
          106933.472,
          106933.472
         ],
         "yaxis": "y"
        },
        {
         "hovertemplate": "GREET Pathway=CIDI Intercity Buses: Conventional and LS Diesel<br>fuel=%{x}<br>Reference case=%{y}<extra></extra>",
         "legendgroup": "CIDI Intercity Buses: Conventional and LS Diesel",
         "marker": {
          "color": "#636efa",
          "symbol": "circle"
         },
         "mode": "markers",
         "name": "CIDI Intercity Buses: Conventional and LS Diesel",
         "orientation": "v",
         "showlegend": true,
         "type": "scatter",
         "x": [
          "DSL",
          "DSL"
         ],
         "xaxis": "x",
         "y": [
          79064.769,
          79064.769
         ],
         "yaxis": "y"
        },
        {
         "hovertemplate": "GREET Pathway=Diesel: Commercial Boiler<br>fuel=%{x}<br>Reference case=%{y}<extra></extra>",
         "legendgroup": "Diesel: Commercial Boiler",
         "marker": {
          "color": "#EF553B",
          "symbol": "circle"
         },
         "mode": "markers",
         "name": "Diesel: Commercial Boiler",
         "orientation": "v",
         "showlegend": true,
         "type": "scatter",
         "x": [
          "DSL",
          "DSL"
         ],
         "xaxis": "x",
         "y": [
          78153.745,
          78153.745
         ],
         "yaxis": "y"
        },
        {
         "hovertemplate": "GREET Pathway=CIDI Heavy-Duty Pick-Up Trucks and Vans: Conventional and LS Diesel<br>fuel=%{x}<br>Reference case=%{y}<extra></extra>",
         "legendgroup": "CIDI Heavy-Duty Pick-Up Trucks and Vans: Conventional and LS Diesel",
         "marker": {
          "color": "#00cc96",
          "symbol": "circle"
         },
         "mode": "markers",
         "name": "CIDI Heavy-Duty Pick-Up Trucks and Vans: Conventional and LS Diesel",
         "orientation": "v",
         "showlegend": true,
         "type": "scatter",
         "x": [
          "DSL",
          "DSL"
         ],
         "xaxis": "x",
         "y": [
          79045.898,
          79045.898
         ],
         "yaxis": "y"
        },
        {
         "hovertemplate": "GREET Pathway=CIDI Transit Buses: Conventional and LS Diesel<br>fuel=%{x}<br>Reference case=%{y}<extra></extra>",
         "legendgroup": "CIDI Transit Buses: Conventional and LS Diesel",
         "marker": {
          "color": "#ab63fa",
          "symbol": "circle"
         },
         "mode": "markers",
         "name": "CIDI Transit Buses: Conventional and LS Diesel",
         "orientation": "v",
         "showlegend": true,
         "type": "scatter",
         "x": [
          "DSL",
          "DSL"
         ],
         "xaxis": "x",
         "y": [
          79067.398,
          79067.398
         ],
         "yaxis": "y"
        },
        {
         "hovertemplate": "GREET Pathway=CIDI Vehicle: Conventional and LS Diesel<br>fuel=%{x}<br>Reference case=%{y}<extra></extra>",
         "legendgroup": "CIDI Vehicle: Conventional and LS Diesel",
         "marker": {
          "color": "#FFA15A",
          "symbol": "circle"
         },
         "mode": "markers",
         "name": "CIDI Vehicle: Conventional and LS Diesel",
         "orientation": "v",
         "showlegend": true,
         "type": "scatter",
         "x": [
          "DSL",
          "DSL"
         ],
         "xaxis": "x",
         "y": [
          79022.586,
          79022.586
         ],
         "yaxis": "y"
        },
        {
         "hovertemplate": "GREET Pathway=Rail: Diesel<br>fuel=%{x}<br>Reference case=%{y}<extra></extra>",
         "legendgroup": "Rail: Diesel",
         "marker": {
          "color": "#19d3f3",
          "symbol": "circle"
         },
         "mode": "markers",
         "name": "Rail: Diesel",
         "orientation": "v",
         "showlegend": true,
         "type": "scatter",
         "x": [
          "DSL",
          "DSL"
         ],
         "xaxis": "x",
         "y": [
          78180.285,
          78180.285
         ],
         "yaxis": "y"
        },
        {
         "hovertemplate": "GREET Pathway=Diesel: Industrial Boiler<br>fuel=%{x}<br>Reference case=%{y}<extra></extra>",
         "legendgroup": "Diesel: Industrial Boiler",
         "marker": {
          "color": "#FF6692",
          "symbol": "circle"
         },
         "mode": "markers",
         "name": "Diesel: Industrial Boiler",
         "orientation": "v",
         "showlegend": true,
         "type": "scatter",
         "x": [
          "DSL",
          "DSL"
         ],
         "xaxis": "x",
         "y": [
          78168.681,
          78168.681
         ],
         "yaxis": "y"
        },
        {
         "hovertemplate": "GREET Pathway=CIDI School Buses: Conventional and LS Diesel<br>fuel=%{x}<br>Reference case=%{y}<extra></extra>",
         "legendgroup": "CIDI School Buses: Conventional and LS Diesel",
         "marker": {
          "color": "#B6E880",
          "symbol": "circle"
         },
         "mode": "markers",
         "name": "CIDI School Buses: Conventional and LS Diesel",
         "orientation": "v",
         "showlegend": true,
         "type": "scatter",
         "x": [
          "DSL",
          "DSL"
         ],
         "xaxis": "x",
         "y": [
          79060.288,
          79060.288
         ],
         "yaxis": "y"
        },
        {
         "hovertemplate": "GREET Pathway=CIDI Combination Long-Haul Trucks: Conventional and LS Diesel<br>fuel=%{x}<br>Reference case=%{y}<extra></extra>",
         "legendgroup": "CIDI Combination Long-Haul Trucks: Conventional and LS Diesel",
         "marker": {
          "color": "#FF97FF",
          "symbol": "circle"
         },
         "mode": "markers",
         "name": "CIDI Combination Long-Haul Trucks: Conventional and LS Diesel",
         "orientation": "v",
         "showlegend": true,
         "type": "scatter",
         "x": [
          "DSL",
          "DSL"
         ],
         "xaxis": "x",
         "y": [
          79022.586,
          79022.586
         ],
         "yaxis": "y"
        },
        {
         "hovertemplate": "GREET Pathway=SI Heavy-Duty Pick-Up Trucks and Vans: Low-Level EtOH Blend with Gasoline (E10, Corn)<br>fuel=%{x}<br>Reference case=%{y}<extra></extra>",
         "legendgroup": "SI Heavy-Duty Pick-Up Trucks and Vans: Low-Level EtOH Blend with Gasoline (E10, Corn)",
         "marker": {
          "color": "#FECB52",
          "symbol": "circle"
         },
         "mode": "markers",
         "name": "SI Heavy-Duty Pick-Up Trucks and Vans: Low-Level EtOH Blend with Gasoline (E10, Corn)",
         "orientation": "v",
         "showlegend": true,
         "type": "scatter",
         "x": [
          "E10",
          "E10"
         ],
         "xaxis": "x",
         "y": [
          76447.8,
          76447.8
         ],
         "yaxis": "y"
        },
        {
         "hovertemplate": "GREET Pathway=SI Medium Heavy-Duty Vocational Vehicles: Low-Level EtOH Blend with Gasoline (E10, Corn)<br>fuel=%{x}<br>Reference case=%{y}<extra></extra>",
         "legendgroup": "SI Medium Heavy-Duty Vocational Vehicles: Low-Level EtOH Blend with Gasoline (E10, Corn)",
         "marker": {
          "color": "#636efa",
          "symbol": "circle"
         },
         "mode": "markers",
         "name": "SI Medium Heavy-Duty Vocational Vehicles: Low-Level EtOH Blend with Gasoline (E10, Corn)",
         "orientation": "v",
         "showlegend": true,
         "type": "scatter",
         "x": [
          "E10",
          "E10"
         ],
         "xaxis": "x",
         "y": [
          76447.8,
          76447.8
         ],
         "yaxis": "y"
        },
        {
         "hovertemplate": "GREET Pathway=SI Medium Heavy-Duty Vocational Vehicles: E85, Corn<br>fuel=%{x}<br>Reference case=%{y}<extra></extra>",
         "legendgroup": "SI Medium Heavy-Duty Vocational Vehicles: E85, Corn",
         "marker": {
          "color": "#EF553B",
          "symbol": "circle"
         },
         "mode": "markers",
         "name": "SI Medium Heavy-Duty Vocational Vehicles: E85, Corn",
         "orientation": "v",
         "showlegend": true,
         "type": "scatter",
         "x": [
          "E85",
          "E85"
         ],
         "xaxis": "x",
         "y": [
          74980.993,
          74980.993
         ],
         "yaxis": "y"
        },
        {
         "hovertemplate": "GREET Pathway=SI Heavy-Duty Pick-Up Trucks and Vans: E85, Corn<br>fuel=%{x}<br>Reference case=%{y}<extra></extra>",
         "legendgroup": "SI Heavy-Duty Pick-Up Trucks and Vans: E85, Corn",
         "marker": {
          "color": "#00cc96",
          "symbol": "circle"
         },
         "mode": "markers",
         "name": "SI Heavy-Duty Pick-Up Trucks and Vans: E85, Corn",
         "orientation": "v",
         "showlegend": true,
         "type": "scatter",
         "x": [
          "E85",
          "E85"
         ],
         "xaxis": "x",
         "y": [
          74980.993,
          74980.993
         ],
         "yaxis": "y"
        },
        {
         "hovertemplate": "GREET Pathway=G.H2 ICE Vehicle, Central Plants, NA NG<br>fuel=%{x}<br>Reference case=%{y}<extra></extra>",
         "legendgroup": "G.H2 ICE Vehicle, Central Plants, NA NG",
         "marker": {
          "color": "#ab63fa",
          "symbol": "circle"
         },
         "mode": "markers",
         "name": "G.H2 ICE Vehicle, Central Plants, NA NG",
         "orientation": "v",
         "showlegend": true,
         "type": "scatter",
         "x": [
          "GH2"
         ],
         "xaxis": "x",
         "y": [
          253.023516
         ],
         "yaxis": "y"
        },
        {
         "hovertemplate": "GREET Pathway=Gasoline Vehicle: Gasoline<br>fuel=%{x}<br>Reference case=%{y}<extra></extra>",
         "legendgroup": "Gasoline Vehicle: Gasoline",
         "marker": {
          "color": "#FFA15A",
          "symbol": "circle"
         },
         "mode": "markers",
         "name": "Gasoline Vehicle: Gasoline",
         "orientation": "v",
         "showlegend": true,
         "type": "scatter",
         "x": [
          "GSL",
          "GSL"
         ],
         "xaxis": "x",
         "y": [
          76320.184,
          76320.184
         ],
         "yaxis": "y"
        },
        {
         "hovertemplate": "GREET Pathway=Gasoline Vehicle: Low-Level EtOH Blend with Gasoline (E0, Corn)<br>fuel=%{x}<br>Reference case=%{y}<extra></extra>",
         "legendgroup": "Gasoline Vehicle: Low-Level EtOH Blend with Gasoline (E0, Corn)",
         "marker": {
          "color": "#19d3f3",
          "symbol": "circle"
         },
         "mode": "markers",
         "name": "Gasoline Vehicle: Low-Level EtOH Blend with Gasoline (E0, Corn)",
         "orientation": "v",
         "showlegend": true,
         "type": "scatter",
         "x": [
          "GSL",
          "GSL"
         ],
         "xaxis": "x",
         "y": [
          76702.13378,
          76702.13378
         ],
         "yaxis": "y"
        },
        {
         "hovertemplate": "GREET Pathway=HFO (0.5% sulfur)<br>fuel=%{x}<br>Reference case=%{y}<extra></extra>",
         "legendgroup": "HFO (0.5% sulfur)",
         "marker": {
          "color": "#FF6692",
          "symbol": "circle"
         },
         "mode": "markers",
         "name": "HFO (0.5% sulfur)",
         "orientation": "v",
         "showlegend": true,
         "type": "scatter",
         "x": [
          "HFO",
          "HFO"
         ],
         "xaxis": "x",
         "y": [
          85077.811,
          85077.811
         ],
         "yaxis": "y"
        },
        {
         "hovertemplate": "GREET Pathway=Petroleum Conv. Jet Fuel<br>fuel=%{x}<br>Reference case=%{y}<extra></extra>",
         "legendgroup": "Petroleum Conv. Jet Fuel",
         "marker": {
          "color": "#B6E880",
          "symbol": "circle"
         },
         "mode": "markers",
         "name": "Petroleum Conv. Jet Fuel",
         "orientation": "v",
         "showlegend": true,
         "type": "scatter",
         "x": [
          "JTF",
          "JTF"
         ],
         "xaxis": "x",
         "y": [
          77191.356,
          77191.356
         ],
         "yaxis": "y"
        },
        {
         "hovertemplate": "GREET Pathway=Liquefied Natural Gas (LNG)<br>fuel=%{x}<br>Reference case=%{y}<extra></extra>",
         "legendgroup": "Liquefied Natural Gas (LNG)",
         "marker": {
          "color": "#FF97FF",
          "symbol": "circle"
         },
         "mode": "markers",
         "name": "Liquefied Natural Gas (LNG)",
         "orientation": "v",
         "showlegend": true,
         "type": "scatter",
         "x": [
          "LNG",
          "LNG"
         ],
         "xaxis": "x",
         "y": [
          57846.018,
          57846.018
         ],
         "yaxis": "y"
        },
        {
         "hovertemplate": "GREET Pathway=SI Combination Long-Haul Trucks: LNG, NA NG<br>fuel=%{x}<br>Reference case=%{y}<extra></extra>",
         "legendgroup": "SI Combination Long-Haul Trucks: LNG, NA NG",
         "marker": {
          "color": "#FECB52",
          "symbol": "circle"
         },
         "mode": "markers",
         "name": "SI Combination Long-Haul Trucks: LNG, NA NG",
         "orientation": "v",
         "showlegend": true,
         "type": "scatter",
         "x": [
          "LNG",
          "LNG"
         ],
         "xaxis": "x",
         "y": [
          59533.17,
          59533.17
         ],
         "yaxis": "y"
        },
        {
         "hovertemplate": "GREET Pathway=LNGV: Dedicated, NA NG<br>fuel=%{x}<br>Reference case=%{y}<extra></extra>",
         "legendgroup": "LNGV: Dedicated, NA NG",
         "marker": {
          "color": "#636efa",
          "symbol": "circle"
         },
         "mode": "markers",
         "name": "LNGV: Dedicated, NA NG",
         "orientation": "v",
         "showlegend": true,
         "type": "scatter",
         "x": [
          "LNG",
          "LNG"
         ],
         "xaxis": "x",
         "y": [
          59533.17,
          59533.17
         ],
         "yaxis": "y"
        },
        {
         "hovertemplate": "GREET Pathway=Rail: Natural Gas<br>fuel=%{x}<br>Reference case=%{y}<extra></extra>",
         "legendgroup": "Rail: Natural Gas",
         "marker": {
          "color": "#EF553B",
          "symbol": "circle"
         },
         "mode": "markers",
         "name": "Rail: Natural Gas",
         "orientation": "v",
         "showlegend": true,
         "type": "scatter",
         "x": [
          "LNG",
          "LNG"
         ],
         "xaxis": "x",
         "y": [
          59037.334,
          59037.334
         ],
         "yaxis": "y"
        },
        {
         "hovertemplate": "GREET Pathway=SI Heavy Heavy-Duty Vocational Vehicles, LNG, NA NG<br>fuel=%{x}<br>Reference case=%{y}<extra></extra>",
         "legendgroup": "SI Heavy Heavy-Duty Vocational Vehicles, LNG, NA NG",
         "marker": {
          "color": "#00cc96",
          "symbol": "circle"
         },
         "mode": "markers",
         "name": "SI Heavy Heavy-Duty Vocational Vehicles, LNG, NA NG",
         "orientation": "v",
         "showlegend": true,
         "type": "scatter",
         "x": [
          "LNG",
          "LNG"
         ],
         "xaxis": "x",
         "y": [
          59529.595,
          59529.595
         ],
         "yaxis": "y"
        },
        {
         "hovertemplate": "GREET Pathway=SI Transit Buses, LNG, NA NG<br>fuel=%{x}<br>Reference case=%{y}<extra></extra>",
         "legendgroup": "SI Transit Buses, LNG, NA NG",
         "marker": {
          "color": "#ab63fa",
          "symbol": "circle"
         },
         "mode": "markers",
         "name": "SI Transit Buses, LNG, NA NG",
         "orientation": "v",
         "showlegend": true,
         "type": "scatter",
         "x": [
          "LNG",
          "LNG"
         ],
         "xaxis": "x",
         "y": [
          59341.22,
          59341.22
         ],
         "yaxis": "y"
        },
        {
         "hovertemplate": "GREET Pathway=LPG: Industrial Boiler<br>fuel=%{x}<br>Reference case=%{y}<extra></extra>",
         "legendgroup": "LPG: Industrial Boiler",
         "marker": {
          "color": "#FFA15A",
          "symbol": "circle"
         },
         "mode": "markers",
         "name": "LPG: Industrial Boiler",
         "orientation": "v",
         "showlegend": true,
         "type": "scatter",
         "x": [
          "LPG",
          "LPG"
         ],
         "xaxis": "x",
         "y": [
          68039.648,
          68039.648
         ],
         "yaxis": "y"
        },
        {
         "hovertemplate": "GREET Pathway=LPGV: Dedicated, Crude and NG Mix<br>fuel=%{x}<br>Reference case=%{y}<extra></extra>",
         "legendgroup": "LPGV: Dedicated, Crude and NG Mix",
         "marker": {
          "color": "#19d3f3",
          "symbol": "circle"
         },
         "mode": "markers",
         "name": "LPGV: Dedicated, Crude and NG Mix",
         "orientation": "v",
         "showlegend": true,
         "type": "scatter",
         "x": [
          "LPG",
          "LPG"
         ],
         "xaxis": "x",
         "y": [
          67650.542,
          67650.542
         ],
         "yaxis": "y"
        },
        {
         "hovertemplate": "GREET Pathway=LPG: Commercial Boiler<br>fuel=%{x}<br>Reference case=%{y}<extra></extra>",
         "legendgroup": "LPG: Commercial Boiler",
         "marker": {
          "color": "#FF6692",
          "symbol": "circle"
         },
         "mode": "markers",
         "name": "LPG: Commercial Boiler",
         "orientation": "v",
         "showlegend": true,
         "type": "scatter",
         "x": [
          "LPG",
          "LPG"
         ],
         "xaxis": "x",
         "y": [
          68039.648,
          68039.648
         ],
         "yaxis": "y"
        },
        {
         "hovertemplate": "GREET Pathway=SI School Buses, LPG, Crude and NG Mix<br>fuel=%{x}<br>Reference case=%{y}<extra></extra>",
         "legendgroup": "SI School Buses, LPG, Crude and NG Mix",
         "marker": {
          "color": "#B6E880",
          "symbol": "circle"
         },
         "mode": "markers",
         "name": "SI School Buses, LPG, Crude and NG Mix",
         "orientation": "v",
         "showlegend": true,
         "type": "scatter",
         "x": [
          "LPG",
          "LPG"
         ],
         "xaxis": "x",
         "y": [
          68060.057,
          68060.057
         ],
         "yaxis": "y"
        },
        {
         "hovertemplate": "GREET Pathway=MDO (0.5% sulfur)<br>fuel=%{x}<br>Reference case=%{y}<extra></extra>",
         "legendgroup": "MDO (0.5% sulfur)",
         "marker": {
          "color": "#FF97FF",
          "symbol": "circle"
         },
         "mode": "markers",
         "name": "MDO (0.5% sulfur)",
         "orientation": "v",
         "showlegend": true,
         "type": "scatter",
         "x": [
          "MDO",
          "MDO"
         ],
         "xaxis": "x",
         "y": [
          81789.06,
          81789.06
         ],
         "yaxis": "y"
        },
        {
         "hovertemplate": "GREET Pathway=Natural Gas: Stationary Reciprocating Engine<br>fuel=%{x}<br>Reference case=%{y}<extra></extra>",
         "legendgroup": "Natural Gas: Stationary Reciprocating Engine",
         "marker": {
          "color": "#FECB52",
          "symbol": "circle"
         },
         "mode": "markers",
         "name": "Natural Gas: Stationary Reciprocating Engine",
         "orientation": "v",
         "showlegend": true,
         "type": "scatter",
         "x": [
          "NG",
          "NG"
         ],
         "xaxis": "x",
         "y": [
          56889.787,
          56889.787
         ],
         "yaxis": "y"
        },
        {
         "hovertemplate": "GREET Pathway=Natural Gas: Utility/ Industrial Boiler (>100 mmBtu/hr input)<br>fuel=%{x}<br>Reference case=%{y}<extra></extra>",
         "legendgroup": "Natural Gas: Utility/ Industrial Boiler (>100 mmBtu/hr input)",
         "marker": {
          "color": "#636efa",
          "symbol": "circle"
         },
         "mode": "markers",
         "name": "Natural Gas: Utility/ Industrial Boiler (>100 mmBtu/hr input)",
         "orientation": "v",
         "showlegend": true,
         "type": "scatter",
         "x": [
          "NG",
          "NG"
         ],
         "xaxis": "x",
         "y": [
          59366.95,
          59366.95
         ],
         "yaxis": "y"
        },
        {
         "hovertemplate": "GREET Pathway=Natural Gas: Small Industrial Boiler (10-100 mmBtu/hr input)<br>fuel=%{x}<br>Reference case=%{y}<extra></extra>",
         "legendgroup": "Natural Gas: Small Industrial Boiler (10-100 mmBtu/hr input)",
         "marker": {
          "color": "#EF553B",
          "symbol": "circle"
         },
         "mode": "markers",
         "name": "Natural Gas: Small Industrial Boiler (10-100 mmBtu/hr input)",
         "orientation": "v",
         "showlegend": true,
         "type": "scatter",
         "x": [
          "NG",
          "NG"
         ],
         "xaxis": "x",
         "y": [
          59362.612,
          59362.612
         ],
         "yaxis": "y"
        },
        {
         "hovertemplate": "GREET Pathway=Residual Oil: Industrial Boiler<br>fuel=%{x}<br>Reference case=%{y}<extra></extra>",
         "legendgroup": "Residual Oil: Industrial Boiler",
         "marker": {
          "color": "#00cc96",
          "symbol": "circle"
         },
         "mode": "markers",
         "name": "Residual Oil: Industrial Boiler",
         "orientation": "v",
         "showlegend": true,
         "type": "scatter",
         "x": [
          "ROIL",
          "ROIL"
         ],
         "xaxis": "x",
         "y": [
          85012.927,
          85012.927
         ],
         "yaxis": "y"
        },
        {
         "hovertemplate": "GREET Pathway=Residual Oil: Stationary Reciprocating Engine<br>fuel=%{x}<br>Reference case=%{y}<extra></extra>",
         "legendgroup": "Residual Oil: Stationary Reciprocating Engine",
         "marker": {
          "color": "#ab63fa",
          "symbol": "circle"
         },
         "mode": "markers",
         "name": "Residual Oil: Stationary Reciprocating Engine",
         "orientation": "v",
         "showlegend": true,
         "type": "scatter",
         "x": [
          "ROIL",
          "ROIL"
         ],
         "xaxis": "x",
         "y": [
          84236.432,
          84236.432
         ],
         "yaxis": "y"
        },
        {
         "hovertemplate": "GREET Pathway=Refinery Still Gas: Industrial Boiler<br>fuel=%{x}<br>Reference case=%{y}<extra></extra>",
         "legendgroup": "Refinery Still Gas: Industrial Boiler",
         "marker": {
          "color": "#FFA15A",
          "symbol": "circle"
         },
         "mode": "markers",
         "name": "Refinery Still Gas: Industrial Boiler",
         "orientation": "v",
         "showlegend": true,
         "type": "scatter",
         "x": [
          "STILLGAS",
          "STILLGAS"
         ],
         "xaxis": "x",
         "y": [
          60876.128,
          60876.128
         ],
         "yaxis": "y"
        }
       ],
       "layout": {
        "legend": {
         "title": {
          "text": "GREET Pathway"
         },
         "tracegroupgap": 0
        },
        "template": {
         "data": {
          "bar": [
           {
            "error_x": {
             "color": "#2a3f5f"
            },
            "error_y": {
             "color": "#2a3f5f"
            },
            "marker": {
             "line": {
              "color": "#E5ECF6",
              "width": 0.5
             },
             "pattern": {
              "fillmode": "overlay",
              "size": 10,
              "solidity": 0.2
             }
            },
            "type": "bar"
           }
          ],
          "barpolar": [
           {
            "marker": {
             "line": {
              "color": "#E5ECF6",
              "width": 0.5
             },
             "pattern": {
              "fillmode": "overlay",
              "size": 10,
              "solidity": 0.2
             }
            },
            "type": "barpolar"
           }
          ],
          "carpet": [
           {
            "aaxis": {
             "endlinecolor": "#2a3f5f",
             "gridcolor": "white",
             "linecolor": "white",
             "minorgridcolor": "white",
             "startlinecolor": "#2a3f5f"
            },
            "baxis": {
             "endlinecolor": "#2a3f5f",
             "gridcolor": "white",
             "linecolor": "white",
             "minorgridcolor": "white",
             "startlinecolor": "#2a3f5f"
            },
            "type": "carpet"
           }
          ],
          "choropleth": [
           {
            "colorbar": {
             "outlinewidth": 0,
             "ticks": ""
            },
            "type": "choropleth"
           }
          ],
          "contour": [
           {
            "colorbar": {
             "outlinewidth": 0,
             "ticks": ""
            },
            "colorscale": [
             [
              0,
              "#0d0887"
             ],
             [
              0.1111111111111111,
              "#46039f"
             ],
             [
              0.2222222222222222,
              "#7201a8"
             ],
             [
              0.3333333333333333,
              "#9c179e"
             ],
             [
              0.4444444444444444,
              "#bd3786"
             ],
             [
              0.5555555555555556,
              "#d8576b"
             ],
             [
              0.6666666666666666,
              "#ed7953"
             ],
             [
              0.7777777777777778,
              "#fb9f3a"
             ],
             [
              0.8888888888888888,
              "#fdca26"
             ],
             [
              1,
              "#f0f921"
             ]
            ],
            "type": "contour"
           }
          ],
          "contourcarpet": [
           {
            "colorbar": {
             "outlinewidth": 0,
             "ticks": ""
            },
            "type": "contourcarpet"
           }
          ],
          "heatmap": [
           {
            "colorbar": {
             "outlinewidth": 0,
             "ticks": ""
            },
            "colorscale": [
             [
              0,
              "#0d0887"
             ],
             [
              0.1111111111111111,
              "#46039f"
             ],
             [
              0.2222222222222222,
              "#7201a8"
             ],
             [
              0.3333333333333333,
              "#9c179e"
             ],
             [
              0.4444444444444444,
              "#bd3786"
             ],
             [
              0.5555555555555556,
              "#d8576b"
             ],
             [
              0.6666666666666666,
              "#ed7953"
             ],
             [
              0.7777777777777778,
              "#fb9f3a"
             ],
             [
              0.8888888888888888,
              "#fdca26"
             ],
             [
              1,
              "#f0f921"
             ]
            ],
            "type": "heatmap"
           }
          ],
          "heatmapgl": [
           {
            "colorbar": {
             "outlinewidth": 0,
             "ticks": ""
            },
            "colorscale": [
             [
              0,
              "#0d0887"
             ],
             [
              0.1111111111111111,
              "#46039f"
             ],
             [
              0.2222222222222222,
              "#7201a8"
             ],
             [
              0.3333333333333333,
              "#9c179e"
             ],
             [
              0.4444444444444444,
              "#bd3786"
             ],
             [
              0.5555555555555556,
              "#d8576b"
             ],
             [
              0.6666666666666666,
              "#ed7953"
             ],
             [
              0.7777777777777778,
              "#fb9f3a"
             ],
             [
              0.8888888888888888,
              "#fdca26"
             ],
             [
              1,
              "#f0f921"
             ]
            ],
            "type": "heatmapgl"
           }
          ],
          "histogram": [
           {
            "marker": {
             "pattern": {
              "fillmode": "overlay",
              "size": 10,
              "solidity": 0.2
             }
            },
            "type": "histogram"
           }
          ],
          "histogram2d": [
           {
            "colorbar": {
             "outlinewidth": 0,
             "ticks": ""
            },
            "colorscale": [
             [
              0,
              "#0d0887"
             ],
             [
              0.1111111111111111,
              "#46039f"
             ],
             [
              0.2222222222222222,
              "#7201a8"
             ],
             [
              0.3333333333333333,
              "#9c179e"
             ],
             [
              0.4444444444444444,
              "#bd3786"
             ],
             [
              0.5555555555555556,
              "#d8576b"
             ],
             [
              0.6666666666666666,
              "#ed7953"
             ],
             [
              0.7777777777777778,
              "#fb9f3a"
             ],
             [
              0.8888888888888888,
              "#fdca26"
             ],
             [
              1,
              "#f0f921"
             ]
            ],
            "type": "histogram2d"
           }
          ],
          "histogram2dcontour": [
           {
            "colorbar": {
             "outlinewidth": 0,
             "ticks": ""
            },
            "colorscale": [
             [
              0,
              "#0d0887"
             ],
             [
              0.1111111111111111,
              "#46039f"
             ],
             [
              0.2222222222222222,
              "#7201a8"
             ],
             [
              0.3333333333333333,
              "#9c179e"
             ],
             [
              0.4444444444444444,
              "#bd3786"
             ],
             [
              0.5555555555555556,
              "#d8576b"
             ],
             [
              0.6666666666666666,
              "#ed7953"
             ],
             [
              0.7777777777777778,
              "#fb9f3a"
             ],
             [
              0.8888888888888888,
              "#fdca26"
             ],
             [
              1,
              "#f0f921"
             ]
            ],
            "type": "histogram2dcontour"
           }
          ],
          "mesh3d": [
           {
            "colorbar": {
             "outlinewidth": 0,
             "ticks": ""
            },
            "type": "mesh3d"
           }
          ],
          "parcoords": [
           {
            "line": {
             "colorbar": {
              "outlinewidth": 0,
              "ticks": ""
             }
            },
            "type": "parcoords"
           }
          ],
          "pie": [
           {
            "automargin": true,
            "type": "pie"
           }
          ],
          "scatter": [
           {
            "fillpattern": {
             "fillmode": "overlay",
             "size": 10,
             "solidity": 0.2
            },
            "type": "scatter"
           }
          ],
          "scatter3d": [
           {
            "line": {
             "colorbar": {
              "outlinewidth": 0,
              "ticks": ""
             }
            },
            "marker": {
             "colorbar": {
              "outlinewidth": 0,
              "ticks": ""
             }
            },
            "type": "scatter3d"
           }
          ],
          "scattercarpet": [
           {
            "marker": {
             "colorbar": {
              "outlinewidth": 0,
              "ticks": ""
             }
            },
            "type": "scattercarpet"
           }
          ],
          "scattergeo": [
           {
            "marker": {
             "colorbar": {
              "outlinewidth": 0,
              "ticks": ""
             }
            },
            "type": "scattergeo"
           }
          ],
          "scattergl": [
           {
            "marker": {
             "colorbar": {
              "outlinewidth": 0,
              "ticks": ""
             }
            },
            "type": "scattergl"
           }
          ],
          "scattermapbox": [
           {
            "marker": {
             "colorbar": {
              "outlinewidth": 0,
              "ticks": ""
             }
            },
            "type": "scattermapbox"
           }
          ],
          "scatterpolar": [
           {
            "marker": {
             "colorbar": {
              "outlinewidth": 0,
              "ticks": ""
             }
            },
            "type": "scatterpolar"
           }
          ],
          "scatterpolargl": [
           {
            "marker": {
             "colorbar": {
              "outlinewidth": 0,
              "ticks": ""
             }
            },
            "type": "scatterpolargl"
           }
          ],
          "scatterternary": [
           {
            "marker": {
             "colorbar": {
              "outlinewidth": 0,
              "ticks": ""
             }
            },
            "type": "scatterternary"
           }
          ],
          "surface": [
           {
            "colorbar": {
             "outlinewidth": 0,
             "ticks": ""
            },
            "colorscale": [
             [
              0,
              "#0d0887"
             ],
             [
              0.1111111111111111,
              "#46039f"
             ],
             [
              0.2222222222222222,
              "#7201a8"
             ],
             [
              0.3333333333333333,
              "#9c179e"
             ],
             [
              0.4444444444444444,
              "#bd3786"
             ],
             [
              0.5555555555555556,
              "#d8576b"
             ],
             [
              0.6666666666666666,
              "#ed7953"
             ],
             [
              0.7777777777777778,
              "#fb9f3a"
             ],
             [
              0.8888888888888888,
              "#fdca26"
             ],
             [
              1,
              "#f0f921"
             ]
            ],
            "type": "surface"
           }
          ],
          "table": [
           {
            "cells": {
             "fill": {
              "color": "#EBF0F8"
             },
             "line": {
              "color": "white"
             }
            },
            "header": {
             "fill": {
              "color": "#C8D4E3"
             },
             "line": {
              "color": "white"
             }
            },
            "type": "table"
           }
          ]
         },
         "layout": {
          "annotationdefaults": {
           "arrowcolor": "#2a3f5f",
           "arrowhead": 0,
           "arrowwidth": 1
          },
          "autotypenumbers": "strict",
          "coloraxis": {
           "colorbar": {
            "outlinewidth": 0,
            "ticks": ""
           }
          },
          "colorscale": {
           "diverging": [
            [
             0,
             "#8e0152"
            ],
            [
             0.1,
             "#c51b7d"
            ],
            [
             0.2,
             "#de77ae"
            ],
            [
             0.3,
             "#f1b6da"
            ],
            [
             0.4,
             "#fde0ef"
            ],
            [
             0.5,
             "#f7f7f7"
            ],
            [
             0.6,
             "#e6f5d0"
            ],
            [
             0.7,
             "#b8e186"
            ],
            [
             0.8,
             "#7fbc41"
            ],
            [
             0.9,
             "#4d9221"
            ],
            [
             1,
             "#276419"
            ]
           ],
           "sequential": [
            [
             0,
             "#0d0887"
            ],
            [
             0.1111111111111111,
             "#46039f"
            ],
            [
             0.2222222222222222,
             "#7201a8"
            ],
            [
             0.3333333333333333,
             "#9c179e"
            ],
            [
             0.4444444444444444,
             "#bd3786"
            ],
            [
             0.5555555555555556,
             "#d8576b"
            ],
            [
             0.6666666666666666,
             "#ed7953"
            ],
            [
             0.7777777777777778,
             "#fb9f3a"
            ],
            [
             0.8888888888888888,
             "#fdca26"
            ],
            [
             1,
             "#f0f921"
            ]
           ],
           "sequentialminus": [
            [
             0,
             "#0d0887"
            ],
            [
             0.1111111111111111,
             "#46039f"
            ],
            [
             0.2222222222222222,
             "#7201a8"
            ],
            [
             0.3333333333333333,
             "#9c179e"
            ],
            [
             0.4444444444444444,
             "#bd3786"
            ],
            [
             0.5555555555555556,
             "#d8576b"
            ],
            [
             0.6666666666666666,
             "#ed7953"
            ],
            [
             0.7777777777777778,
             "#fb9f3a"
            ],
            [
             0.8888888888888888,
             "#fdca26"
            ],
            [
             1,
             "#f0f921"
            ]
           ]
          },
          "colorway": [
           "#636efa",
           "#EF553B",
           "#00cc96",
           "#ab63fa",
           "#FFA15A",
           "#19d3f3",
           "#FF6692",
           "#B6E880",
           "#FF97FF",
           "#FECB52"
          ],
          "font": {
           "color": "#2a3f5f"
          },
          "geo": {
           "bgcolor": "white",
           "lakecolor": "white",
           "landcolor": "#E5ECF6",
           "showlakes": true,
           "showland": true,
           "subunitcolor": "white"
          },
          "hoverlabel": {
           "align": "left"
          },
          "hovermode": "closest",
          "mapbox": {
           "style": "light"
          },
          "paper_bgcolor": "white",
          "plot_bgcolor": "#E5ECF6",
          "polar": {
           "angularaxis": {
            "gridcolor": "white",
            "linecolor": "white",
            "ticks": ""
           },
           "bgcolor": "#E5ECF6",
           "radialaxis": {
            "gridcolor": "white",
            "linecolor": "white",
            "ticks": ""
           }
          },
          "scene": {
           "xaxis": {
            "backgroundcolor": "#E5ECF6",
            "gridcolor": "white",
            "gridwidth": 2,
            "linecolor": "white",
            "showbackground": true,
            "ticks": "",
            "zerolinecolor": "white"
           },
           "yaxis": {
            "backgroundcolor": "#E5ECF6",
            "gridcolor": "white",
            "gridwidth": 2,
            "linecolor": "white",
            "showbackground": true,
            "ticks": "",
            "zerolinecolor": "white"
           },
           "zaxis": {
            "backgroundcolor": "#E5ECF6",
            "gridcolor": "white",
            "gridwidth": 2,
            "linecolor": "white",
            "showbackground": true,
            "ticks": "",
            "zerolinecolor": "white"
           }
          },
          "shapedefaults": {
           "line": {
            "color": "#2a3f5f"
           }
          },
          "ternary": {
           "aaxis": {
            "gridcolor": "white",
            "linecolor": "white",
            "ticks": ""
           },
           "baxis": {
            "gridcolor": "white",
            "linecolor": "white",
            "ticks": ""
           },
           "bgcolor": "#E5ECF6",
           "caxis": {
            "gridcolor": "white",
            "linecolor": "white",
            "ticks": ""
           }
          },
          "title": {
           "x": 0.05
          },
          "xaxis": {
           "automargin": true,
           "gridcolor": "white",
           "linecolor": "white",
           "ticks": "",
           "title": {
            "standoff": 15
           },
           "zerolinecolor": "white",
           "zerolinewidth": 2
          },
          "yaxis": {
           "automargin": true,
           "gridcolor": "white",
           "linecolor": "white",
           "ticks": "",
           "title": {
            "standoff": 15
           },
           "zerolinecolor": "white",
           "zerolinewidth": 2
          }
         }
        },
        "title": {
         "text": "GREET PTW"
        },
        "xaxis": {
         "anchor": "y",
         "domain": [
          0,
          1
         ],
         "title": {
          "text": "fuel"
         }
        },
        "yaxis": {
         "anchor": "x",
         "domain": [
          0,
          1
         ],
         "title": {
          "text": "Reference case"
         }
        }
       }
      }
     },
     "metadata": {},
     "output_type": "display_data"
    }
   ],
   "source": [
    "fig = px.scatter(greet_eere[(greet_eere.Year == 2022) & (greet_eere['Formula'] == 'CO2')], x='fuel', y='Reference case', \n",
    "                 color='GREET Pathway', title='GREET PTW')\n",
    "\n",
    "fig.show()"
   ]
  },
  {
   "cell_type": "code",
   "execution_count": 9,
   "metadata": {},
   "outputs": [
    {
     "data": {
      "application/vnd.plotly.v1+json": {
       "config": {
        "plotlyServerURL": "https://plot.ly"
       },
       "data": [
        {
         "hovertemplate": "Fuel Category=Biodiesel<br>fuel=%{x}<br>BAU=%{y}<extra></extra>",
         "legendgroup": "Biodiesel",
         "marker": {
          "color": "#636efa",
          "symbol": "circle"
         },
         "mode": "markers",
         "name": "Biodiesel",
         "orientation": "v",
         "showlegend": true,
         "type": "scatter",
         "x": [
          "BDSL"
         ],
         "xaxis": "x",
         "y": [
          79989.71082
         ],
         "yaxis": "y"
        },
        {
         "hovertemplate": "Fuel Category=HFO<br>fuel=%{x}<br>BAU=%{y}<extra></extra>",
         "legendgroup": "HFO",
         "marker": {
          "color": "#EF553B",
          "symbol": "circle"
         },
         "mode": "markers",
         "name": "HFO",
         "orientation": "v",
         "showlegend": true,
         "type": "scatter",
         "x": [
          "BDSL"
         ],
         "xaxis": "x",
         "y": [
          85077.81149
         ],
         "yaxis": "y"
        },
        {
         "hovertemplate": "Fuel Category=CNG<br>fuel=%{x}<br>BAU=%{y}<extra></extra>",
         "legendgroup": "CNG",
         "marker": {
          "color": "#00cc96",
          "symbol": "circle"
         },
         "mode": "markers",
         "name": "CNG",
         "orientation": "v",
         "showlegend": true,
         "type": "scatter",
         "x": [
          "CNG",
          "CNG",
          "CNG",
          "CNG"
         ],
         "xaxis": "x",
         "y": [
          59286.45727,
          59277.92312,
          59121.45727,
          59121.45727
         ],
         "yaxis": "y"
        },
        {
         "hovertemplate": "Fuel Category=Coal<br>fuel=%{x}<br>BAU=%{y}<extra></extra>",
         "legendgroup": "Coal",
         "marker": {
          "color": "#ab63fa",
          "symbol": "circle"
         },
         "mode": "markers",
         "name": "Coal",
         "orientation": "v",
         "showlegend": true,
         "type": "scatter",
         "x": [
          "COAL"
         ],
         "xaxis": "x",
         "y": [
          100001.6065
         ],
         "yaxis": "y"
        },
        {
         "hovertemplate": "Fuel Category=Petroleum Coke<br>fuel=%{x}<br>BAU=%{y}<extra></extra>",
         "legendgroup": "Petroleum Coke",
         "marker": {
          "color": "#FFA15A",
          "symbol": "circle"
         },
         "mode": "markers",
         "name": "Petroleum Coke",
         "orientation": "v",
         "showlegend": true,
         "type": "scatter",
         "x": [
          "COKE"
         ],
         "xaxis": "x",
         "y": [
          106933.4716
         ],
         "yaxis": "y"
        },
        {
         "hovertemplate": "Fuel Category=Diesel<br>fuel=%{x}<br>BAU=%{y}<extra></extra>",
         "legendgroup": "Diesel",
         "marker": {
          "color": "#19d3f3",
          "symbol": "circle"
         },
         "mode": "markers",
         "name": "Diesel",
         "orientation": "v",
         "showlegend": true,
         "type": "scatter",
         "x": [
          "DSL",
          "DSL",
          "DSL",
          "DSL",
          "DSL",
          "DSL",
          "DSL",
          "DSL"
         ],
         "xaxis": "x",
         "y": [
          78180.2854,
          79060.28828,
          79022.58616,
          79067.39832,
          79045.89756,
          78168.6811,
          78153.74501,
          79064.76906
         ],
         "yaxis": "y"
        },
        {
         "hovertemplate": "Fuel Category=E85<br>fuel=%{x}<br>BAU=%{y}<extra></extra>",
         "legendgroup": "E85",
         "marker": {
          "color": "#FF6692",
          "symbol": "circle"
         },
         "mode": "markers",
         "name": "E85",
         "orientation": "v",
         "showlegend": true,
         "type": "scatter",
         "x": [
          "E85"
         ],
         "xaxis": "x",
         "y": [
          74980.99288
         ],
         "yaxis": "y"
        },
        {
         "hovertemplate": "Fuel Category=E100<br>fuel=%{x}<br>BAU=%{y}<extra></extra>",
         "legendgroup": "E100",
         "marker": {
          "color": "#B6E880",
          "symbol": "circle"
         },
         "mode": "markers",
         "name": "E100",
         "orientation": "v",
         "showlegend": true,
         "type": "scatter",
         "x": [
          "ETH"
         ],
         "xaxis": "x",
         "y": [
          74563.97678
         ],
         "yaxis": "y"
        },
        {
         "hovertemplate": "Fuel Category=E0<br>fuel=%{x}<br>BAU=%{y}<extra></extra>",
         "legendgroup": "E0",
         "marker": {
          "color": "#FF97FF",
          "symbol": "circle"
         },
         "mode": "markers",
         "name": "E0",
         "orientation": "v",
         "showlegend": true,
         "type": "scatter",
         "x": [
          "GSL"
         ],
         "xaxis": "x",
         "y": [
          76447.8001
         ],
         "yaxis": "y"
        },
        {
         "hovertemplate": "Fuel Category=Gasoline<br>fuel=%{x}<br>BAU=%{y}<extra></extra>",
         "legendgroup": "Gasoline",
         "marker": {
          "color": "#FECB52",
          "symbol": "circle"
         },
         "mode": "markers",
         "name": "Gasoline",
         "orientation": "v",
         "showlegend": true,
         "type": "scatter",
         "x": [
          "GSL"
         ],
         "xaxis": "x",
         "y": [
          76320.18355
         ],
         "yaxis": "y"
        },
        {
         "hovertemplate": "Fuel Category=HFO (0.5% sulfur)<br>fuel=%{x}<br>BAU=%{y}<extra></extra>",
         "legendgroup": "HFO (0.5% sulfur)",
         "marker": {
          "color": "#636efa",
          "symbol": "circle"
         },
         "mode": "markers",
         "name": "HFO (0.5% sulfur)",
         "orientation": "v",
         "showlegend": true,
         "type": "scatter",
         "x": [
          "HFO"
         ],
         "xaxis": "x",
         "y": [
          85077.81149
         ],
         "yaxis": "y"
        },
        {
         "hovertemplate": "Fuel Category=Conventional JetA<br>fuel=%{x}<br>BAU=%{y}<extra></extra>",
         "legendgroup": "Conventional JetA",
         "marker": {
          "color": "#EF553B",
          "symbol": "circle"
         },
         "mode": "markers",
         "name": "Conventional JetA",
         "orientation": "v",
         "showlegend": true,
         "type": "scatter",
         "x": [
          "JTF"
         ],
         "xaxis": "x",
         "y": [
          77191.35563
         ],
         "yaxis": "y"
        },
        {
         "hovertemplate": "Fuel Category=Petroleum Conv.<br>fuel=%{x}<br>BAU=%{y}<extra></extra>",
         "legendgroup": "Petroleum Conv.",
         "marker": {
          "color": "#00cc96",
          "symbol": "circle"
         },
         "mode": "markers",
         "name": "Petroleum Conv.",
         "orientation": "v",
         "showlegend": true,
         "type": "scatter",
         "x": [
          "JTF"
         ],
         "xaxis": "x",
         "y": [
          77191.35563
         ],
         "yaxis": "y"
        },
        {
         "hovertemplate": "Fuel Category=LNG<br>fuel=%{x}<br>BAU=%{y}<extra></extra>",
         "legendgroup": "LNG",
         "marker": {
          "color": "#ab63fa",
          "symbol": "circle"
         },
         "mode": "markers",
         "name": "LNG",
         "orientation": "v",
         "showlegend": true,
         "type": "scatter",
         "x": [
          "LNG",
          "LNG",
          "LNG",
          "LNG"
         ],
         "xaxis": "x",
         "y": [
          57846.01757,
          59529.59507,
          59341.22007,
          59533.17007
         ],
         "yaxis": "y"
        },
        {
         "hovertemplate": "Fuel Category=Propane<br>fuel=%{x}<br>BAU=%{y}<extra></extra>",
         "legendgroup": "Propane",
         "marker": {
          "color": "#FFA15A",
          "symbol": "circle"
         },
         "mode": "markers",
         "name": "Propane",
         "orientation": "v",
         "showlegend": true,
         "type": "scatter",
         "x": [
          "LPG"
         ],
         "xaxis": "x",
         "y": [
          67650.54189
         ],
         "yaxis": "y"
        },
        {
         "hovertemplate": "Fuel Category=LPG<br>fuel=%{x}<br>BAU=%{y}<extra></extra>",
         "legendgroup": "LPG",
         "marker": {
          "color": "#19d3f3",
          "symbol": "circle"
         },
         "mode": "markers",
         "name": "LPG",
         "orientation": "v",
         "showlegend": true,
         "type": "scatter",
         "x": [
          "LPG",
          "LPG",
          "LPG"
         ],
         "xaxis": "x",
         "y": [
          68039.6478,
          68039.6478,
          68060.05709
         ],
         "yaxis": "y"
        },
        {
         "hovertemplate": "Fuel Category=MDO (0.5% sulfur)<br>fuel=%{x}<br>BAU=%{y}<extra></extra>",
         "legendgroup": "MDO (0.5% sulfur)",
         "marker": {
          "color": "#FF6692",
          "symbol": "circle"
         },
         "mode": "markers",
         "name": "MDO (0.5% sulfur)",
         "orientation": "v",
         "showlegend": true,
         "type": "scatter",
         "x": [
          "MDO"
         ],
         "xaxis": "x",
         "y": [
          81789.0596
         ],
         "yaxis": "y"
        },
        {
         "hovertemplate": "Fuel Category=Natural Gas<br>fuel=%{x}<br>BAU=%{y}<extra></extra>",
         "legendgroup": "Natural Gas",
         "marker": {
          "color": "#B6E880",
          "symbol": "circle"
         },
         "mode": "markers",
         "name": "Natural Gas",
         "orientation": "v",
         "showlegend": true,
         "type": "scatter",
         "x": [
          "NG",
          "NG",
          "NG",
          "NG"
         ],
         "xaxis": "x",
         "y": [
          59366.9495,
          56889.7869,
          59037.33415,
          59362.61236
         ],
         "yaxis": "y"
        },
        {
         "hovertemplate": "Fuel Category=Residual Oil<br>fuel=%{x}<br>BAU=%{y}<extra></extra>",
         "legendgroup": "Residual Oil",
         "marker": {
          "color": "#FF97FF",
          "symbol": "circle"
         },
         "mode": "markers",
         "name": "Residual Oil",
         "orientation": "v",
         "showlegend": true,
         "type": "scatter",
         "x": [
          "ROIL",
          "ROIL"
         ],
         "xaxis": "x",
         "y": [
          85012.92681,
          84236.43241
         ],
         "yaxis": "y"
        },
        {
         "hovertemplate": "Fuel Category=SPK - STJ<br>fuel=%{x}<br>BAU=%{y}<extra></extra>",
         "legendgroup": "SPK - STJ",
         "marker": {
          "color": "#FECB52",
          "symbol": "circle"
         },
         "mode": "markers",
         "name": "SPK - STJ",
         "orientation": "v",
         "showlegend": true,
         "type": "scatter",
         "x": [
          "SPK"
         ],
         "xaxis": "x",
         "y": [
          74300.39213
         ],
         "yaxis": "y"
        },
        {
         "hovertemplate": "Fuel Category=Refinery Still Gas<br>fuel=%{x}<br>BAU=%{y}<extra></extra>",
         "legendgroup": "Refinery Still Gas",
         "marker": {
          "color": "#636efa",
          "symbol": "circle"
         },
         "mode": "markers",
         "name": "Refinery Still Gas",
         "orientation": "v",
         "showlegend": true,
         "type": "scatter",
         "x": [
          "STILLGAS"
         ],
         "xaxis": "x",
         "y": [
          60876.12769
         ],
         "yaxis": "y"
        },
        {
         "hovertemplate": "Fuel Category=Willow<br>fuel=%{x}<br>BAU=%{y}<extra></extra>",
         "legendgroup": "Willow",
         "marker": {
          "color": "#EF553B",
          "symbol": "circle"
         },
         "mode": "markers",
         "name": "Willow",
         "orientation": "v",
         "showlegend": true,
         "type": "scatter",
         "x": [
          "WILLOW"
         ],
         "xaxis": "x",
         "y": [
          104740.9885
         ],
         "yaxis": "y"
        }
       ],
       "layout": {
        "legend": {
         "title": {
          "text": "Fuel Category"
         },
         "tracegroupgap": 0
        },
        "template": {
         "data": {
          "bar": [
           {
            "error_x": {
             "color": "#2a3f5f"
            },
            "error_y": {
             "color": "#2a3f5f"
            },
            "marker": {
             "line": {
              "color": "#E5ECF6",
              "width": 0.5
             },
             "pattern": {
              "fillmode": "overlay",
              "size": 10,
              "solidity": 0.2
             }
            },
            "type": "bar"
           }
          ],
          "barpolar": [
           {
            "marker": {
             "line": {
              "color": "#E5ECF6",
              "width": 0.5
             },
             "pattern": {
              "fillmode": "overlay",
              "size": 10,
              "solidity": 0.2
             }
            },
            "type": "barpolar"
           }
          ],
          "carpet": [
           {
            "aaxis": {
             "endlinecolor": "#2a3f5f",
             "gridcolor": "white",
             "linecolor": "white",
             "minorgridcolor": "white",
             "startlinecolor": "#2a3f5f"
            },
            "baxis": {
             "endlinecolor": "#2a3f5f",
             "gridcolor": "white",
             "linecolor": "white",
             "minorgridcolor": "white",
             "startlinecolor": "#2a3f5f"
            },
            "type": "carpet"
           }
          ],
          "choropleth": [
           {
            "colorbar": {
             "outlinewidth": 0,
             "ticks": ""
            },
            "type": "choropleth"
           }
          ],
          "contour": [
           {
            "colorbar": {
             "outlinewidth": 0,
             "ticks": ""
            },
            "colorscale": [
             [
              0,
              "#0d0887"
             ],
             [
              0.1111111111111111,
              "#46039f"
             ],
             [
              0.2222222222222222,
              "#7201a8"
             ],
             [
              0.3333333333333333,
              "#9c179e"
             ],
             [
              0.4444444444444444,
              "#bd3786"
             ],
             [
              0.5555555555555556,
              "#d8576b"
             ],
             [
              0.6666666666666666,
              "#ed7953"
             ],
             [
              0.7777777777777778,
              "#fb9f3a"
             ],
             [
              0.8888888888888888,
              "#fdca26"
             ],
             [
              1,
              "#f0f921"
             ]
            ],
            "type": "contour"
           }
          ],
          "contourcarpet": [
           {
            "colorbar": {
             "outlinewidth": 0,
             "ticks": ""
            },
            "type": "contourcarpet"
           }
          ],
          "heatmap": [
           {
            "colorbar": {
             "outlinewidth": 0,
             "ticks": ""
            },
            "colorscale": [
             [
              0,
              "#0d0887"
             ],
             [
              0.1111111111111111,
              "#46039f"
             ],
             [
              0.2222222222222222,
              "#7201a8"
             ],
             [
              0.3333333333333333,
              "#9c179e"
             ],
             [
              0.4444444444444444,
              "#bd3786"
             ],
             [
              0.5555555555555556,
              "#d8576b"
             ],
             [
              0.6666666666666666,
              "#ed7953"
             ],
             [
              0.7777777777777778,
              "#fb9f3a"
             ],
             [
              0.8888888888888888,
              "#fdca26"
             ],
             [
              1,
              "#f0f921"
             ]
            ],
            "type": "heatmap"
           }
          ],
          "heatmapgl": [
           {
            "colorbar": {
             "outlinewidth": 0,
             "ticks": ""
            },
            "colorscale": [
             [
              0,
              "#0d0887"
             ],
             [
              0.1111111111111111,
              "#46039f"
             ],
             [
              0.2222222222222222,
              "#7201a8"
             ],
             [
              0.3333333333333333,
              "#9c179e"
             ],
             [
              0.4444444444444444,
              "#bd3786"
             ],
             [
              0.5555555555555556,
              "#d8576b"
             ],
             [
              0.6666666666666666,
              "#ed7953"
             ],
             [
              0.7777777777777778,
              "#fb9f3a"
             ],
             [
              0.8888888888888888,
              "#fdca26"
             ],
             [
              1,
              "#f0f921"
             ]
            ],
            "type": "heatmapgl"
           }
          ],
          "histogram": [
           {
            "marker": {
             "pattern": {
              "fillmode": "overlay",
              "size": 10,
              "solidity": 0.2
             }
            },
            "type": "histogram"
           }
          ],
          "histogram2d": [
           {
            "colorbar": {
             "outlinewidth": 0,
             "ticks": ""
            },
            "colorscale": [
             [
              0,
              "#0d0887"
             ],
             [
              0.1111111111111111,
              "#46039f"
             ],
             [
              0.2222222222222222,
              "#7201a8"
             ],
             [
              0.3333333333333333,
              "#9c179e"
             ],
             [
              0.4444444444444444,
              "#bd3786"
             ],
             [
              0.5555555555555556,
              "#d8576b"
             ],
             [
              0.6666666666666666,
              "#ed7953"
             ],
             [
              0.7777777777777778,
              "#fb9f3a"
             ],
             [
              0.8888888888888888,
              "#fdca26"
             ],
             [
              1,
              "#f0f921"
             ]
            ],
            "type": "histogram2d"
           }
          ],
          "histogram2dcontour": [
           {
            "colorbar": {
             "outlinewidth": 0,
             "ticks": ""
            },
            "colorscale": [
             [
              0,
              "#0d0887"
             ],
             [
              0.1111111111111111,
              "#46039f"
             ],
             [
              0.2222222222222222,
              "#7201a8"
             ],
             [
              0.3333333333333333,
              "#9c179e"
             ],
             [
              0.4444444444444444,
              "#bd3786"
             ],
             [
              0.5555555555555556,
              "#d8576b"
             ],
             [
              0.6666666666666666,
              "#ed7953"
             ],
             [
              0.7777777777777778,
              "#fb9f3a"
             ],
             [
              0.8888888888888888,
              "#fdca26"
             ],
             [
              1,
              "#f0f921"
             ]
            ],
            "type": "histogram2dcontour"
           }
          ],
          "mesh3d": [
           {
            "colorbar": {
             "outlinewidth": 0,
             "ticks": ""
            },
            "type": "mesh3d"
           }
          ],
          "parcoords": [
           {
            "line": {
             "colorbar": {
              "outlinewidth": 0,
              "ticks": ""
             }
            },
            "type": "parcoords"
           }
          ],
          "pie": [
           {
            "automargin": true,
            "type": "pie"
           }
          ],
          "scatter": [
           {
            "fillpattern": {
             "fillmode": "overlay",
             "size": 10,
             "solidity": 0.2
            },
            "type": "scatter"
           }
          ],
          "scatter3d": [
           {
            "line": {
             "colorbar": {
              "outlinewidth": 0,
              "ticks": ""
             }
            },
            "marker": {
             "colorbar": {
              "outlinewidth": 0,
              "ticks": ""
             }
            },
            "type": "scatter3d"
           }
          ],
          "scattercarpet": [
           {
            "marker": {
             "colorbar": {
              "outlinewidth": 0,
              "ticks": ""
             }
            },
            "type": "scattercarpet"
           }
          ],
          "scattergeo": [
           {
            "marker": {
             "colorbar": {
              "outlinewidth": 0,
              "ticks": ""
             }
            },
            "type": "scattergeo"
           }
          ],
          "scattergl": [
           {
            "marker": {
             "colorbar": {
              "outlinewidth": 0,
              "ticks": ""
             }
            },
            "type": "scattergl"
           }
          ],
          "scattermapbox": [
           {
            "marker": {
             "colorbar": {
              "outlinewidth": 0,
              "ticks": ""
             }
            },
            "type": "scattermapbox"
           }
          ],
          "scatterpolar": [
           {
            "marker": {
             "colorbar": {
              "outlinewidth": 0,
              "ticks": ""
             }
            },
            "type": "scatterpolar"
           }
          ],
          "scatterpolargl": [
           {
            "marker": {
             "colorbar": {
              "outlinewidth": 0,
              "ticks": ""
             }
            },
            "type": "scatterpolargl"
           }
          ],
          "scatterternary": [
           {
            "marker": {
             "colorbar": {
              "outlinewidth": 0,
              "ticks": ""
             }
            },
            "type": "scatterternary"
           }
          ],
          "surface": [
           {
            "colorbar": {
             "outlinewidth": 0,
             "ticks": ""
            },
            "colorscale": [
             [
              0,
              "#0d0887"
             ],
             [
              0.1111111111111111,
              "#46039f"
             ],
             [
              0.2222222222222222,
              "#7201a8"
             ],
             [
              0.3333333333333333,
              "#9c179e"
             ],
             [
              0.4444444444444444,
              "#bd3786"
             ],
             [
              0.5555555555555556,
              "#d8576b"
             ],
             [
              0.6666666666666666,
              "#ed7953"
             ],
             [
              0.7777777777777778,
              "#fb9f3a"
             ],
             [
              0.8888888888888888,
              "#fdca26"
             ],
             [
              1,
              "#f0f921"
             ]
            ],
            "type": "surface"
           }
          ],
          "table": [
           {
            "cells": {
             "fill": {
              "color": "#EBF0F8"
             },
             "line": {
              "color": "white"
             }
            },
            "header": {
             "fill": {
              "color": "#C8D4E3"
             },
             "line": {
              "color": "white"
             }
            },
            "type": "table"
           }
          ]
         },
         "layout": {
          "annotationdefaults": {
           "arrowcolor": "#2a3f5f",
           "arrowhead": 0,
           "arrowwidth": 1
          },
          "autotypenumbers": "strict",
          "coloraxis": {
           "colorbar": {
            "outlinewidth": 0,
            "ticks": ""
           }
          },
          "colorscale": {
           "diverging": [
            [
             0,
             "#8e0152"
            ],
            [
             0.1,
             "#c51b7d"
            ],
            [
             0.2,
             "#de77ae"
            ],
            [
             0.3,
             "#f1b6da"
            ],
            [
             0.4,
             "#fde0ef"
            ],
            [
             0.5,
             "#f7f7f7"
            ],
            [
             0.6,
             "#e6f5d0"
            ],
            [
             0.7,
             "#b8e186"
            ],
            [
             0.8,
             "#7fbc41"
            ],
            [
             0.9,
             "#4d9221"
            ],
            [
             1,
             "#276419"
            ]
           ],
           "sequential": [
            [
             0,
             "#0d0887"
            ],
            [
             0.1111111111111111,
             "#46039f"
            ],
            [
             0.2222222222222222,
             "#7201a8"
            ],
            [
             0.3333333333333333,
             "#9c179e"
            ],
            [
             0.4444444444444444,
             "#bd3786"
            ],
            [
             0.5555555555555556,
             "#d8576b"
            ],
            [
             0.6666666666666666,
             "#ed7953"
            ],
            [
             0.7777777777777778,
             "#fb9f3a"
            ],
            [
             0.8888888888888888,
             "#fdca26"
            ],
            [
             1,
             "#f0f921"
            ]
           ],
           "sequentialminus": [
            [
             0,
             "#0d0887"
            ],
            [
             0.1111111111111111,
             "#46039f"
            ],
            [
             0.2222222222222222,
             "#7201a8"
            ],
            [
             0.3333333333333333,
             "#9c179e"
            ],
            [
             0.4444444444444444,
             "#bd3786"
            ],
            [
             0.5555555555555556,
             "#d8576b"
            ],
            [
             0.6666666666666666,
             "#ed7953"
            ],
            [
             0.7777777777777778,
             "#fb9f3a"
            ],
            [
             0.8888888888888888,
             "#fdca26"
            ],
            [
             1,
             "#f0f921"
            ]
           ]
          },
          "colorway": [
           "#636efa",
           "#EF553B",
           "#00cc96",
           "#ab63fa",
           "#FFA15A",
           "#19d3f3",
           "#FF6692",
           "#B6E880",
           "#FF97FF",
           "#FECB52"
          ],
          "font": {
           "color": "#2a3f5f"
          },
          "geo": {
           "bgcolor": "white",
           "lakecolor": "white",
           "landcolor": "#E5ECF6",
           "showlakes": true,
           "showland": true,
           "subunitcolor": "white"
          },
          "hoverlabel": {
           "align": "left"
          },
          "hovermode": "closest",
          "mapbox": {
           "style": "light"
          },
          "paper_bgcolor": "white",
          "plot_bgcolor": "#E5ECF6",
          "polar": {
           "angularaxis": {
            "gridcolor": "white",
            "linecolor": "white",
            "ticks": ""
           },
           "bgcolor": "#E5ECF6",
           "radialaxis": {
            "gridcolor": "white",
            "linecolor": "white",
            "ticks": ""
           }
          },
          "scene": {
           "xaxis": {
            "backgroundcolor": "#E5ECF6",
            "gridcolor": "white",
            "gridwidth": 2,
            "linecolor": "white",
            "showbackground": true,
            "ticks": "",
            "zerolinecolor": "white"
           },
           "yaxis": {
            "backgroundcolor": "#E5ECF6",
            "gridcolor": "white",
            "gridwidth": 2,
            "linecolor": "white",
            "showbackground": true,
            "ticks": "",
            "zerolinecolor": "white"
           },
           "zaxis": {
            "backgroundcolor": "#E5ECF6",
            "gridcolor": "white",
            "gridwidth": 2,
            "linecolor": "white",
            "showbackground": true,
            "ticks": "",
            "zerolinecolor": "white"
           }
          },
          "shapedefaults": {
           "line": {
            "color": "#2a3f5f"
           }
          },
          "ternary": {
           "aaxis": {
            "gridcolor": "white",
            "linecolor": "white",
            "ticks": ""
           },
           "baxis": {
            "gridcolor": "white",
            "linecolor": "white",
            "ticks": ""
           },
           "bgcolor": "#E5ECF6",
           "caxis": {
            "gridcolor": "white",
            "linecolor": "white",
            "ticks": ""
           }
          },
          "title": {
           "x": 0.05
          },
          "xaxis": {
           "automargin": true,
           "gridcolor": "white",
           "linecolor": "white",
           "ticks": "",
           "title": {
            "standoff": 15
           },
           "zerolinecolor": "white",
           "zerolinewidth": 2
          },
          "yaxis": {
           "automargin": true,
           "gridcolor": "white",
           "linecolor": "white",
           "ticks": "",
           "title": {
            "standoff": 15
           },
           "zerolinecolor": "white",
           "zerolinewidth": 2
          }
         }
        },
        "title": {
         "text": "AGE GREET PTW"
        },
        "xaxis": {
         "anchor": "y",
         "domain": [
          0,
          1
         ],
         "title": {
          "text": "fuel"
         }
        },
        "yaxis": {
         "anchor": "x",
         "domain": [
          0,
          1
         ],
         "title": {
          "text": "BAU"
         }
        }
       }
      }
     },
     "metadata": {},
     "output_type": "display_data"
    }
   ],
   "source": [
    "fig = px.scatter(greet_age[(greet_age.Year == 2022) & (greet_age['Metric'] == 'CO2') & (greet_age['LC Phase'] == 'Direct, Combustion')], x='fuel', y='BAU', \n",
    "                 color='Fuel Category', title='AGE GREET PTW')\n",
    "\n",
    "fig.show()"
   ]
  },
  {
   "cell_type": "code",
   "execution_count": 10,
   "metadata": {},
   "outputs": [],
   "source": [
    "greet_eere_export = greet_eere[greet_eere['Year'] == 2022][['fuel', 'GREET Pathway', 'Formula', 'Reference case']]\n",
    "greet_eere_export = pd.merge(greet_eere_export, greet_hv[['fuel', 'LHV_by_HHV']], how='left', on='fuel')\n",
    "greet_eere_export['EF'] = greet_eere_export['Reference case'] * greet_eere_export['LHV_by_HHV'] / 1055.05585 # MMBtu to MJ\n",
    "greet_eere_export.drop(columns=['Reference case', 'LHV_by_HHV'], inplace=True)\n",
    "# greet_eere_export.pivot_table(index=['fuel', 'GREET Pathway'], columns='Formula', values='EF', aggfunc='first').reset_index()[['fuel', 'GREET Pathway', 'CO2', 'CH4', 'N2O']].to_clipboard()\n",
    "\n",
    "greet_age_export = greet_age[(greet_age['Year'] == 2022) & (greet_age['LC Phase'] == 'Direct, Combustion')][['fuel', 'Vehicle Class', 'Metric', 'BAU']]\n",
    "greet_age_export = pd.merge(greet_age_export, greet_hv[['fuel', 'LHV_by_HHV']], how='left', on='fuel')\n",
    "greet_age_export['EF'] = greet_age_export['BAU'] * greet_age_export['LHV_by_HHV'] / 1055.05585 # MMBtu to MJ\n",
    "greet_age_export.drop(columns=['BAU', 'LHV_by_HHV'], inplace=True)\n",
    "# greet_age_export.pivot_table(index=['fuel', 'Vehicle Class'], columns='Metric', values='EF', aggfunc='first').reset_index()[['fuel', 'Vehicle Class', 'CO2', 'CH4', 'N2O']].to_clipboard()"
   ]
  },
  {
   "cell_type": "markdown",
   "metadata": {},
   "source": [
    "# Fuel Prices"
   ]
  },
  {
   "cell_type": "code",
   "execution_count": 40,
   "metadata": {},
   "outputs": [],
   "source": [
    "eth_data = pd.read_excel('fuel_prices/Biofuels-in-Canada-Analysis-FINAL-2023-10-31.xlsx', sheet_name='Gasoline Cost Analysis', header=2)\n",
    "rdsl_data = pd.read_excel('fuel_prices/Biofuels-in-Canada-Analysis-FINAL-2023-10-31.xlsx', sheet_name='Diesel Cost Analysis', header=2, nrows=1250)"
   ]
  },
  {
   "cell_type": "code",
   "execution_count": 44,
   "metadata": {},
   "outputs": [],
   "source": [
    "on_eth = eth_data[(eth_data.Region == 'Ontario')].drop(['Region', 'Month', 'Fiscal_Year'], axis=1)\n",
    "on_eth = on_eth.groupby('Year', as_index=False).mean()\n",
    "\n",
    "on_rdsl = rdsl_data[(rdsl_data.Region == 'Ontario')].drop(['Region', 'Month', 'Fiscal Year'], axis=1)\n",
    "on_rdsl = on_rdsl.groupby('Year', as_index=False).mean()\n"
   ]
  },
  {
   "cell_type": "code",
   "execution_count": 48,
   "metadata": {},
   "outputs": [
    {
     "data": {
      "application/vnd.plotly.v1+json": {
       "config": {
        "plotlyServerURL": "https://plot.ly"
       },
       "data": [
        {
         "hovertemplate": "variable=Eth_P<br>Year=%{x}<br>value=%{y}<extra></extra>",
         "legendgroup": "Eth_P",
         "line": {
          "color": "#636efa",
          "dash": "solid"
         },
         "marker": {
          "symbol": "circle"
         },
         "mode": "lines",
         "name": "Eth_P",
         "orientation": "v",
         "showlegend": true,
         "type": "scatter",
         "x": [
          2010,
          2011,
          2012,
          2013,
          2014,
          2015,
          2016,
          2017,
          2018,
          2019,
          2020,
          2021,
          2022
         ],
         "xaxis": "x",
         "y": [
          0.5039563516072215,
          0.6779144685160722,
          0.61012723557904,
          0.6222515618670189,
          0.6279226710700132,
          0.5080571767943637,
          0.5346759423161603,
          0.5125264180977543,
          0.4678362417437252,
          0.4945834214002642,
          0.44629846103038306,
          0.6904571356230735,
          0.8369290422721267
         ],
         "yaxis": "y"
        },
        {
         "hovertemplate": "variable=BOB_P<br>Year=%{x}<br>value=%{y}<extra></extra>",
         "legendgroup": "BOB_P",
         "line": {
          "color": "#EF553B",
          "dash": "solid"
         },
         "marker": {
          "symbol": "circle"
         },
         "mode": "lines",
         "name": "BOB_P",
         "orientation": "v",
         "showlegend": true,
         "type": "scatter",
         "x": [
          2010,
          2011,
          2012,
          2013,
          2014,
          2015,
          2016,
          2017,
          2018,
          2019,
          2020,
          2021,
          2022
         ],
         "xaxis": "x",
         "y": [
          0.6254162576885842,
          0.7900671001712367,
          0.8254507172855673,
          0.825676312220328,
          0.8223159666973205,
          0.612614792234988,
          0.5546654839624546,
          0.6707699641525459,
          0.7847470305419436,
          0.6922954179172249,
          0.5073993232456421,
          0.7715425441294138,
          1.1042681308812559
         ],
         "yaxis": "y"
        }
       ],
       "layout": {
        "legend": {
         "title": {
          "text": "variable"
         },
         "tracegroupgap": 0
        },
        "margin": {
         "t": 60
        },
        "template": {
         "data": {
          "bar": [
           {
            "error_x": {
             "color": "#2a3f5f"
            },
            "error_y": {
             "color": "#2a3f5f"
            },
            "marker": {
             "line": {
              "color": "#E5ECF6",
              "width": 0.5
             },
             "pattern": {
              "fillmode": "overlay",
              "size": 10,
              "solidity": 0.2
             }
            },
            "type": "bar"
           }
          ],
          "barpolar": [
           {
            "marker": {
             "line": {
              "color": "#E5ECF6",
              "width": 0.5
             },
             "pattern": {
              "fillmode": "overlay",
              "size": 10,
              "solidity": 0.2
             }
            },
            "type": "barpolar"
           }
          ],
          "carpet": [
           {
            "aaxis": {
             "endlinecolor": "#2a3f5f",
             "gridcolor": "white",
             "linecolor": "white",
             "minorgridcolor": "white",
             "startlinecolor": "#2a3f5f"
            },
            "baxis": {
             "endlinecolor": "#2a3f5f",
             "gridcolor": "white",
             "linecolor": "white",
             "minorgridcolor": "white",
             "startlinecolor": "#2a3f5f"
            },
            "type": "carpet"
           }
          ],
          "choropleth": [
           {
            "colorbar": {
             "outlinewidth": 0,
             "ticks": ""
            },
            "type": "choropleth"
           }
          ],
          "contour": [
           {
            "colorbar": {
             "outlinewidth": 0,
             "ticks": ""
            },
            "colorscale": [
             [
              0,
              "#0d0887"
             ],
             [
              0.1111111111111111,
              "#46039f"
             ],
             [
              0.2222222222222222,
              "#7201a8"
             ],
             [
              0.3333333333333333,
              "#9c179e"
             ],
             [
              0.4444444444444444,
              "#bd3786"
             ],
             [
              0.5555555555555556,
              "#d8576b"
             ],
             [
              0.6666666666666666,
              "#ed7953"
             ],
             [
              0.7777777777777778,
              "#fb9f3a"
             ],
             [
              0.8888888888888888,
              "#fdca26"
             ],
             [
              1,
              "#f0f921"
             ]
            ],
            "type": "contour"
           }
          ],
          "contourcarpet": [
           {
            "colorbar": {
             "outlinewidth": 0,
             "ticks": ""
            },
            "type": "contourcarpet"
           }
          ],
          "heatmap": [
           {
            "colorbar": {
             "outlinewidth": 0,
             "ticks": ""
            },
            "colorscale": [
             [
              0,
              "#0d0887"
             ],
             [
              0.1111111111111111,
              "#46039f"
             ],
             [
              0.2222222222222222,
              "#7201a8"
             ],
             [
              0.3333333333333333,
              "#9c179e"
             ],
             [
              0.4444444444444444,
              "#bd3786"
             ],
             [
              0.5555555555555556,
              "#d8576b"
             ],
             [
              0.6666666666666666,
              "#ed7953"
             ],
             [
              0.7777777777777778,
              "#fb9f3a"
             ],
             [
              0.8888888888888888,
              "#fdca26"
             ],
             [
              1,
              "#f0f921"
             ]
            ],
            "type": "heatmap"
           }
          ],
          "heatmapgl": [
           {
            "colorbar": {
             "outlinewidth": 0,
             "ticks": ""
            },
            "colorscale": [
             [
              0,
              "#0d0887"
             ],
             [
              0.1111111111111111,
              "#46039f"
             ],
             [
              0.2222222222222222,
              "#7201a8"
             ],
             [
              0.3333333333333333,
              "#9c179e"
             ],
             [
              0.4444444444444444,
              "#bd3786"
             ],
             [
              0.5555555555555556,
              "#d8576b"
             ],
             [
              0.6666666666666666,
              "#ed7953"
             ],
             [
              0.7777777777777778,
              "#fb9f3a"
             ],
             [
              0.8888888888888888,
              "#fdca26"
             ],
             [
              1,
              "#f0f921"
             ]
            ],
            "type": "heatmapgl"
           }
          ],
          "histogram": [
           {
            "marker": {
             "pattern": {
              "fillmode": "overlay",
              "size": 10,
              "solidity": 0.2
             }
            },
            "type": "histogram"
           }
          ],
          "histogram2d": [
           {
            "colorbar": {
             "outlinewidth": 0,
             "ticks": ""
            },
            "colorscale": [
             [
              0,
              "#0d0887"
             ],
             [
              0.1111111111111111,
              "#46039f"
             ],
             [
              0.2222222222222222,
              "#7201a8"
             ],
             [
              0.3333333333333333,
              "#9c179e"
             ],
             [
              0.4444444444444444,
              "#bd3786"
             ],
             [
              0.5555555555555556,
              "#d8576b"
             ],
             [
              0.6666666666666666,
              "#ed7953"
             ],
             [
              0.7777777777777778,
              "#fb9f3a"
             ],
             [
              0.8888888888888888,
              "#fdca26"
             ],
             [
              1,
              "#f0f921"
             ]
            ],
            "type": "histogram2d"
           }
          ],
          "histogram2dcontour": [
           {
            "colorbar": {
             "outlinewidth": 0,
             "ticks": ""
            },
            "colorscale": [
             [
              0,
              "#0d0887"
             ],
             [
              0.1111111111111111,
              "#46039f"
             ],
             [
              0.2222222222222222,
              "#7201a8"
             ],
             [
              0.3333333333333333,
              "#9c179e"
             ],
             [
              0.4444444444444444,
              "#bd3786"
             ],
             [
              0.5555555555555556,
              "#d8576b"
             ],
             [
              0.6666666666666666,
              "#ed7953"
             ],
             [
              0.7777777777777778,
              "#fb9f3a"
             ],
             [
              0.8888888888888888,
              "#fdca26"
             ],
             [
              1,
              "#f0f921"
             ]
            ],
            "type": "histogram2dcontour"
           }
          ],
          "mesh3d": [
           {
            "colorbar": {
             "outlinewidth": 0,
             "ticks": ""
            },
            "type": "mesh3d"
           }
          ],
          "parcoords": [
           {
            "line": {
             "colorbar": {
              "outlinewidth": 0,
              "ticks": ""
             }
            },
            "type": "parcoords"
           }
          ],
          "pie": [
           {
            "automargin": true,
            "type": "pie"
           }
          ],
          "scatter": [
           {
            "fillpattern": {
             "fillmode": "overlay",
             "size": 10,
             "solidity": 0.2
            },
            "type": "scatter"
           }
          ],
          "scatter3d": [
           {
            "line": {
             "colorbar": {
              "outlinewidth": 0,
              "ticks": ""
             }
            },
            "marker": {
             "colorbar": {
              "outlinewidth": 0,
              "ticks": ""
             }
            },
            "type": "scatter3d"
           }
          ],
          "scattercarpet": [
           {
            "marker": {
             "colorbar": {
              "outlinewidth": 0,
              "ticks": ""
             }
            },
            "type": "scattercarpet"
           }
          ],
          "scattergeo": [
           {
            "marker": {
             "colorbar": {
              "outlinewidth": 0,
              "ticks": ""
             }
            },
            "type": "scattergeo"
           }
          ],
          "scattergl": [
           {
            "marker": {
             "colorbar": {
              "outlinewidth": 0,
              "ticks": ""
             }
            },
            "type": "scattergl"
           }
          ],
          "scattermapbox": [
           {
            "marker": {
             "colorbar": {
              "outlinewidth": 0,
              "ticks": ""
             }
            },
            "type": "scattermapbox"
           }
          ],
          "scatterpolar": [
           {
            "marker": {
             "colorbar": {
              "outlinewidth": 0,
              "ticks": ""
             }
            },
            "type": "scatterpolar"
           }
          ],
          "scatterpolargl": [
           {
            "marker": {
             "colorbar": {
              "outlinewidth": 0,
              "ticks": ""
             }
            },
            "type": "scatterpolargl"
           }
          ],
          "scatterternary": [
           {
            "marker": {
             "colorbar": {
              "outlinewidth": 0,
              "ticks": ""
             }
            },
            "type": "scatterternary"
           }
          ],
          "surface": [
           {
            "colorbar": {
             "outlinewidth": 0,
             "ticks": ""
            },
            "colorscale": [
             [
              0,
              "#0d0887"
             ],
             [
              0.1111111111111111,
              "#46039f"
             ],
             [
              0.2222222222222222,
              "#7201a8"
             ],
             [
              0.3333333333333333,
              "#9c179e"
             ],
             [
              0.4444444444444444,
              "#bd3786"
             ],
             [
              0.5555555555555556,
              "#d8576b"
             ],
             [
              0.6666666666666666,
              "#ed7953"
             ],
             [
              0.7777777777777778,
              "#fb9f3a"
             ],
             [
              0.8888888888888888,
              "#fdca26"
             ],
             [
              1,
              "#f0f921"
             ]
            ],
            "type": "surface"
           }
          ],
          "table": [
           {
            "cells": {
             "fill": {
              "color": "#EBF0F8"
             },
             "line": {
              "color": "white"
             }
            },
            "header": {
             "fill": {
              "color": "#C8D4E3"
             },
             "line": {
              "color": "white"
             }
            },
            "type": "table"
           }
          ]
         },
         "layout": {
          "annotationdefaults": {
           "arrowcolor": "#2a3f5f",
           "arrowhead": 0,
           "arrowwidth": 1
          },
          "autotypenumbers": "strict",
          "coloraxis": {
           "colorbar": {
            "outlinewidth": 0,
            "ticks": ""
           }
          },
          "colorscale": {
           "diverging": [
            [
             0,
             "#8e0152"
            ],
            [
             0.1,
             "#c51b7d"
            ],
            [
             0.2,
             "#de77ae"
            ],
            [
             0.3,
             "#f1b6da"
            ],
            [
             0.4,
             "#fde0ef"
            ],
            [
             0.5,
             "#f7f7f7"
            ],
            [
             0.6,
             "#e6f5d0"
            ],
            [
             0.7,
             "#b8e186"
            ],
            [
             0.8,
             "#7fbc41"
            ],
            [
             0.9,
             "#4d9221"
            ],
            [
             1,
             "#276419"
            ]
           ],
           "sequential": [
            [
             0,
             "#0d0887"
            ],
            [
             0.1111111111111111,
             "#46039f"
            ],
            [
             0.2222222222222222,
             "#7201a8"
            ],
            [
             0.3333333333333333,
             "#9c179e"
            ],
            [
             0.4444444444444444,
             "#bd3786"
            ],
            [
             0.5555555555555556,
             "#d8576b"
            ],
            [
             0.6666666666666666,
             "#ed7953"
            ],
            [
             0.7777777777777778,
             "#fb9f3a"
            ],
            [
             0.8888888888888888,
             "#fdca26"
            ],
            [
             1,
             "#f0f921"
            ]
           ],
           "sequentialminus": [
            [
             0,
             "#0d0887"
            ],
            [
             0.1111111111111111,
             "#46039f"
            ],
            [
             0.2222222222222222,
             "#7201a8"
            ],
            [
             0.3333333333333333,
             "#9c179e"
            ],
            [
             0.4444444444444444,
             "#bd3786"
            ],
            [
             0.5555555555555556,
             "#d8576b"
            ],
            [
             0.6666666666666666,
             "#ed7953"
            ],
            [
             0.7777777777777778,
             "#fb9f3a"
            ],
            [
             0.8888888888888888,
             "#fdca26"
            ],
            [
             1,
             "#f0f921"
            ]
           ]
          },
          "colorway": [
           "#636efa",
           "#EF553B",
           "#00cc96",
           "#ab63fa",
           "#FFA15A",
           "#19d3f3",
           "#FF6692",
           "#B6E880",
           "#FF97FF",
           "#FECB52"
          ],
          "font": {
           "color": "#2a3f5f"
          },
          "geo": {
           "bgcolor": "white",
           "lakecolor": "white",
           "landcolor": "#E5ECF6",
           "showlakes": true,
           "showland": true,
           "subunitcolor": "white"
          },
          "hoverlabel": {
           "align": "left"
          },
          "hovermode": "closest",
          "mapbox": {
           "style": "light"
          },
          "paper_bgcolor": "white",
          "plot_bgcolor": "#E5ECF6",
          "polar": {
           "angularaxis": {
            "gridcolor": "white",
            "linecolor": "white",
            "ticks": ""
           },
           "bgcolor": "#E5ECF6",
           "radialaxis": {
            "gridcolor": "white",
            "linecolor": "white",
            "ticks": ""
           }
          },
          "scene": {
           "xaxis": {
            "backgroundcolor": "#E5ECF6",
            "gridcolor": "white",
            "gridwidth": 2,
            "linecolor": "white",
            "showbackground": true,
            "ticks": "",
            "zerolinecolor": "white"
           },
           "yaxis": {
            "backgroundcolor": "#E5ECF6",
            "gridcolor": "white",
            "gridwidth": 2,
            "linecolor": "white",
            "showbackground": true,
            "ticks": "",
            "zerolinecolor": "white"
           },
           "zaxis": {
            "backgroundcolor": "#E5ECF6",
            "gridcolor": "white",
            "gridwidth": 2,
            "linecolor": "white",
            "showbackground": true,
            "ticks": "",
            "zerolinecolor": "white"
           }
          },
          "shapedefaults": {
           "line": {
            "color": "#2a3f5f"
           }
          },
          "ternary": {
           "aaxis": {
            "gridcolor": "white",
            "linecolor": "white",
            "ticks": ""
           },
           "baxis": {
            "gridcolor": "white",
            "linecolor": "white",
            "ticks": ""
           },
           "bgcolor": "#E5ECF6",
           "caxis": {
            "gridcolor": "white",
            "linecolor": "white",
            "ticks": ""
           }
          },
          "title": {
           "x": 0.05
          },
          "xaxis": {
           "automargin": true,
           "gridcolor": "white",
           "linecolor": "white",
           "ticks": "",
           "title": {
            "standoff": 15
           },
           "zerolinecolor": "white",
           "zerolinewidth": 2
          },
          "yaxis": {
           "automargin": true,
           "gridcolor": "white",
           "linecolor": "white",
           "ticks": "",
           "title": {
            "standoff": 15
           },
           "zerolinecolor": "white",
           "zerolinewidth": 2
          }
         }
        },
        "xaxis": {
         "anchor": "y",
         "domain": [
          0,
          1
         ],
         "title": {
          "text": "Year"
         }
        },
        "yaxis": {
         "anchor": "x",
         "domain": [
          0,
          1
         ],
         "title": {
          "text": "value"
         }
        }
       }
      }
     },
     "metadata": {},
     "output_type": "display_data"
    }
   ],
   "source": [
    "fig = px.line(on_eth, x='Year', y=['Eth_P', 'BOB_P'])\n",
    "\n",
    "fig.show()"
   ]
  },
  {
   "cell_type": "code",
   "execution_count": 49,
   "metadata": {},
   "outputs": [
    {
     "data": {
      "application/vnd.plotly.v1+json": {
       "config": {
        "plotlyServerURL": "https://plot.ly"
       },
       "data": [
        {
         "hovertemplate": "variable=BD_P<br>Year=%{x}<br>value=%{y}<extra></extra>",
         "legendgroup": "BD_P",
         "line": {
          "color": "#636efa",
          "dash": "solid"
         },
         "marker": {
          "symbol": "circle"
         },
         "mode": "lines",
         "name": "BD_P",
         "orientation": "v",
         "showlegend": true,
         "type": "scatter",
         "x": [
          2010,
          2011,
          2012,
          2013,
          2014,
          2015,
          2016,
          2017,
          2018,
          2019,
          2020,
          2021,
          2022
         ],
         "xaxis": "x",
         "y": [
          0.6253289449947159,
          1.087446855983047,
          0.903631386206517,
          0.9884047274917437,
          0.6935517407419639,
          0.6528712444187582,
          0.796296976772347,
          0.7537771612175254,
          0.6807091359588285,
          0.6222352210479966,
          0.7217236336966094,
          1.389735522181858,
          2.076128985248789
         ],
         "yaxis": "y"
        },
        {
         "hovertemplate": "variable=HDRD_P<br>Year=%{x}<br>value=%{y}<extra></extra>",
         "legendgroup": "HDRD_P",
         "line": {
          "color": "#EF553B",
          "dash": "solid"
         },
         "marker": {
          "symbol": "circle"
         },
         "mode": "lines",
         "name": "HDRD_P",
         "orientation": "v",
         "showlegend": true,
         "type": "scatter",
         "x": [
          2010,
          2011,
          2012,
          2013,
          2014,
          2015,
          2016,
          2017,
          2018,
          2019,
          2020,
          2021,
          2022
         ],
         "xaxis": "x",
         "y": [
          1.271254110637426,
          1.914605140826989,
          1.3258282832337505,
          1.3867436418313612,
          1.2302553549718054,
          1.0254456957488227,
          1.1468266605483537,
          1.3528319400948554,
          1.4744616382691629,
          1.5415321164463534,
          1.5596696984043101,
          2.0968362179063726,
          2.511145658715896
         ],
         "yaxis": "y"
        },
        {
         "hovertemplate": "variable=Pure_Die_P<br>Year=%{x}<br>value=%{y}<extra></extra>",
         "legendgroup": "Pure_Die_P",
         "line": {
          "color": "#00cc96",
          "dash": "solid"
         },
         "marker": {
          "symbol": "circle"
         },
         "mode": "lines",
         "name": "Pure_Die_P",
         "orientation": "v",
         "showlegend": true,
         "type": "scatter",
         "x": [
          2010,
          2011,
          2012,
          2013,
          2014,
          2015,
          2016,
          2017,
          2018,
          2019,
          2020,
          2021,
          2022
         ],
         "xaxis": "x",
         "y": [
          0.6355336232002068,
          0.8180014667202746,
          0.82684941456628,
          0.8529841476680494,
          0.8682790814324058,
          0.6585126693263725,
          0.553893848466623,
          0.6735441168146036,
          0.8356479431055289,
          0.7215845967272326,
          0.512612857369621,
          0.7412410638727397,
          1.3345801371413646
         ],
         "yaxis": "y"
        }
       ],
       "layout": {
        "legend": {
         "title": {
          "text": "variable"
         },
         "tracegroupgap": 0
        },
        "margin": {
         "t": 60
        },
        "template": {
         "data": {
          "bar": [
           {
            "error_x": {
             "color": "#2a3f5f"
            },
            "error_y": {
             "color": "#2a3f5f"
            },
            "marker": {
             "line": {
              "color": "#E5ECF6",
              "width": 0.5
             },
             "pattern": {
              "fillmode": "overlay",
              "size": 10,
              "solidity": 0.2
             }
            },
            "type": "bar"
           }
          ],
          "barpolar": [
           {
            "marker": {
             "line": {
              "color": "#E5ECF6",
              "width": 0.5
             },
             "pattern": {
              "fillmode": "overlay",
              "size": 10,
              "solidity": 0.2
             }
            },
            "type": "barpolar"
           }
          ],
          "carpet": [
           {
            "aaxis": {
             "endlinecolor": "#2a3f5f",
             "gridcolor": "white",
             "linecolor": "white",
             "minorgridcolor": "white",
             "startlinecolor": "#2a3f5f"
            },
            "baxis": {
             "endlinecolor": "#2a3f5f",
             "gridcolor": "white",
             "linecolor": "white",
             "minorgridcolor": "white",
             "startlinecolor": "#2a3f5f"
            },
            "type": "carpet"
           }
          ],
          "choropleth": [
           {
            "colorbar": {
             "outlinewidth": 0,
             "ticks": ""
            },
            "type": "choropleth"
           }
          ],
          "contour": [
           {
            "colorbar": {
             "outlinewidth": 0,
             "ticks": ""
            },
            "colorscale": [
             [
              0,
              "#0d0887"
             ],
             [
              0.1111111111111111,
              "#46039f"
             ],
             [
              0.2222222222222222,
              "#7201a8"
             ],
             [
              0.3333333333333333,
              "#9c179e"
             ],
             [
              0.4444444444444444,
              "#bd3786"
             ],
             [
              0.5555555555555556,
              "#d8576b"
             ],
             [
              0.6666666666666666,
              "#ed7953"
             ],
             [
              0.7777777777777778,
              "#fb9f3a"
             ],
             [
              0.8888888888888888,
              "#fdca26"
             ],
             [
              1,
              "#f0f921"
             ]
            ],
            "type": "contour"
           }
          ],
          "contourcarpet": [
           {
            "colorbar": {
             "outlinewidth": 0,
             "ticks": ""
            },
            "type": "contourcarpet"
           }
          ],
          "heatmap": [
           {
            "colorbar": {
             "outlinewidth": 0,
             "ticks": ""
            },
            "colorscale": [
             [
              0,
              "#0d0887"
             ],
             [
              0.1111111111111111,
              "#46039f"
             ],
             [
              0.2222222222222222,
              "#7201a8"
             ],
             [
              0.3333333333333333,
              "#9c179e"
             ],
             [
              0.4444444444444444,
              "#bd3786"
             ],
             [
              0.5555555555555556,
              "#d8576b"
             ],
             [
              0.6666666666666666,
              "#ed7953"
             ],
             [
              0.7777777777777778,
              "#fb9f3a"
             ],
             [
              0.8888888888888888,
              "#fdca26"
             ],
             [
              1,
              "#f0f921"
             ]
            ],
            "type": "heatmap"
           }
          ],
          "heatmapgl": [
           {
            "colorbar": {
             "outlinewidth": 0,
             "ticks": ""
            },
            "colorscale": [
             [
              0,
              "#0d0887"
             ],
             [
              0.1111111111111111,
              "#46039f"
             ],
             [
              0.2222222222222222,
              "#7201a8"
             ],
             [
              0.3333333333333333,
              "#9c179e"
             ],
             [
              0.4444444444444444,
              "#bd3786"
             ],
             [
              0.5555555555555556,
              "#d8576b"
             ],
             [
              0.6666666666666666,
              "#ed7953"
             ],
             [
              0.7777777777777778,
              "#fb9f3a"
             ],
             [
              0.8888888888888888,
              "#fdca26"
             ],
             [
              1,
              "#f0f921"
             ]
            ],
            "type": "heatmapgl"
           }
          ],
          "histogram": [
           {
            "marker": {
             "pattern": {
              "fillmode": "overlay",
              "size": 10,
              "solidity": 0.2
             }
            },
            "type": "histogram"
           }
          ],
          "histogram2d": [
           {
            "colorbar": {
             "outlinewidth": 0,
             "ticks": ""
            },
            "colorscale": [
             [
              0,
              "#0d0887"
             ],
             [
              0.1111111111111111,
              "#46039f"
             ],
             [
              0.2222222222222222,
              "#7201a8"
             ],
             [
              0.3333333333333333,
              "#9c179e"
             ],
             [
              0.4444444444444444,
              "#bd3786"
             ],
             [
              0.5555555555555556,
              "#d8576b"
             ],
             [
              0.6666666666666666,
              "#ed7953"
             ],
             [
              0.7777777777777778,
              "#fb9f3a"
             ],
             [
              0.8888888888888888,
              "#fdca26"
             ],
             [
              1,
              "#f0f921"
             ]
            ],
            "type": "histogram2d"
           }
          ],
          "histogram2dcontour": [
           {
            "colorbar": {
             "outlinewidth": 0,
             "ticks": ""
            },
            "colorscale": [
             [
              0,
              "#0d0887"
             ],
             [
              0.1111111111111111,
              "#46039f"
             ],
             [
              0.2222222222222222,
              "#7201a8"
             ],
             [
              0.3333333333333333,
              "#9c179e"
             ],
             [
              0.4444444444444444,
              "#bd3786"
             ],
             [
              0.5555555555555556,
              "#d8576b"
             ],
             [
              0.6666666666666666,
              "#ed7953"
             ],
             [
              0.7777777777777778,
              "#fb9f3a"
             ],
             [
              0.8888888888888888,
              "#fdca26"
             ],
             [
              1,
              "#f0f921"
             ]
            ],
            "type": "histogram2dcontour"
           }
          ],
          "mesh3d": [
           {
            "colorbar": {
             "outlinewidth": 0,
             "ticks": ""
            },
            "type": "mesh3d"
           }
          ],
          "parcoords": [
           {
            "line": {
             "colorbar": {
              "outlinewidth": 0,
              "ticks": ""
             }
            },
            "type": "parcoords"
           }
          ],
          "pie": [
           {
            "automargin": true,
            "type": "pie"
           }
          ],
          "scatter": [
           {
            "fillpattern": {
             "fillmode": "overlay",
             "size": 10,
             "solidity": 0.2
            },
            "type": "scatter"
           }
          ],
          "scatter3d": [
           {
            "line": {
             "colorbar": {
              "outlinewidth": 0,
              "ticks": ""
             }
            },
            "marker": {
             "colorbar": {
              "outlinewidth": 0,
              "ticks": ""
             }
            },
            "type": "scatter3d"
           }
          ],
          "scattercarpet": [
           {
            "marker": {
             "colorbar": {
              "outlinewidth": 0,
              "ticks": ""
             }
            },
            "type": "scattercarpet"
           }
          ],
          "scattergeo": [
           {
            "marker": {
             "colorbar": {
              "outlinewidth": 0,
              "ticks": ""
             }
            },
            "type": "scattergeo"
           }
          ],
          "scattergl": [
           {
            "marker": {
             "colorbar": {
              "outlinewidth": 0,
              "ticks": ""
             }
            },
            "type": "scattergl"
           }
          ],
          "scattermapbox": [
           {
            "marker": {
             "colorbar": {
              "outlinewidth": 0,
              "ticks": ""
             }
            },
            "type": "scattermapbox"
           }
          ],
          "scatterpolar": [
           {
            "marker": {
             "colorbar": {
              "outlinewidth": 0,
              "ticks": ""
             }
            },
            "type": "scatterpolar"
           }
          ],
          "scatterpolargl": [
           {
            "marker": {
             "colorbar": {
              "outlinewidth": 0,
              "ticks": ""
             }
            },
            "type": "scatterpolargl"
           }
          ],
          "scatterternary": [
           {
            "marker": {
             "colorbar": {
              "outlinewidth": 0,
              "ticks": ""
             }
            },
            "type": "scatterternary"
           }
          ],
          "surface": [
           {
            "colorbar": {
             "outlinewidth": 0,
             "ticks": ""
            },
            "colorscale": [
             [
              0,
              "#0d0887"
             ],
             [
              0.1111111111111111,
              "#46039f"
             ],
             [
              0.2222222222222222,
              "#7201a8"
             ],
             [
              0.3333333333333333,
              "#9c179e"
             ],
             [
              0.4444444444444444,
              "#bd3786"
             ],
             [
              0.5555555555555556,
              "#d8576b"
             ],
             [
              0.6666666666666666,
              "#ed7953"
             ],
             [
              0.7777777777777778,
              "#fb9f3a"
             ],
             [
              0.8888888888888888,
              "#fdca26"
             ],
             [
              1,
              "#f0f921"
             ]
            ],
            "type": "surface"
           }
          ],
          "table": [
           {
            "cells": {
             "fill": {
              "color": "#EBF0F8"
             },
             "line": {
              "color": "white"
             }
            },
            "header": {
             "fill": {
              "color": "#C8D4E3"
             },
             "line": {
              "color": "white"
             }
            },
            "type": "table"
           }
          ]
         },
         "layout": {
          "annotationdefaults": {
           "arrowcolor": "#2a3f5f",
           "arrowhead": 0,
           "arrowwidth": 1
          },
          "autotypenumbers": "strict",
          "coloraxis": {
           "colorbar": {
            "outlinewidth": 0,
            "ticks": ""
           }
          },
          "colorscale": {
           "diverging": [
            [
             0,
             "#8e0152"
            ],
            [
             0.1,
             "#c51b7d"
            ],
            [
             0.2,
             "#de77ae"
            ],
            [
             0.3,
             "#f1b6da"
            ],
            [
             0.4,
             "#fde0ef"
            ],
            [
             0.5,
             "#f7f7f7"
            ],
            [
             0.6,
             "#e6f5d0"
            ],
            [
             0.7,
             "#b8e186"
            ],
            [
             0.8,
             "#7fbc41"
            ],
            [
             0.9,
             "#4d9221"
            ],
            [
             1,
             "#276419"
            ]
           ],
           "sequential": [
            [
             0,
             "#0d0887"
            ],
            [
             0.1111111111111111,
             "#46039f"
            ],
            [
             0.2222222222222222,
             "#7201a8"
            ],
            [
             0.3333333333333333,
             "#9c179e"
            ],
            [
             0.4444444444444444,
             "#bd3786"
            ],
            [
             0.5555555555555556,
             "#d8576b"
            ],
            [
             0.6666666666666666,
             "#ed7953"
            ],
            [
             0.7777777777777778,
             "#fb9f3a"
            ],
            [
             0.8888888888888888,
             "#fdca26"
            ],
            [
             1,
             "#f0f921"
            ]
           ],
           "sequentialminus": [
            [
             0,
             "#0d0887"
            ],
            [
             0.1111111111111111,
             "#46039f"
            ],
            [
             0.2222222222222222,
             "#7201a8"
            ],
            [
             0.3333333333333333,
             "#9c179e"
            ],
            [
             0.4444444444444444,
             "#bd3786"
            ],
            [
             0.5555555555555556,
             "#d8576b"
            ],
            [
             0.6666666666666666,
             "#ed7953"
            ],
            [
             0.7777777777777778,
             "#fb9f3a"
            ],
            [
             0.8888888888888888,
             "#fdca26"
            ],
            [
             1,
             "#f0f921"
            ]
           ]
          },
          "colorway": [
           "#636efa",
           "#EF553B",
           "#00cc96",
           "#ab63fa",
           "#FFA15A",
           "#19d3f3",
           "#FF6692",
           "#B6E880",
           "#FF97FF",
           "#FECB52"
          ],
          "font": {
           "color": "#2a3f5f"
          },
          "geo": {
           "bgcolor": "white",
           "lakecolor": "white",
           "landcolor": "#E5ECF6",
           "showlakes": true,
           "showland": true,
           "subunitcolor": "white"
          },
          "hoverlabel": {
           "align": "left"
          },
          "hovermode": "closest",
          "mapbox": {
           "style": "light"
          },
          "paper_bgcolor": "white",
          "plot_bgcolor": "#E5ECF6",
          "polar": {
           "angularaxis": {
            "gridcolor": "white",
            "linecolor": "white",
            "ticks": ""
           },
           "bgcolor": "#E5ECF6",
           "radialaxis": {
            "gridcolor": "white",
            "linecolor": "white",
            "ticks": ""
           }
          },
          "scene": {
           "xaxis": {
            "backgroundcolor": "#E5ECF6",
            "gridcolor": "white",
            "gridwidth": 2,
            "linecolor": "white",
            "showbackground": true,
            "ticks": "",
            "zerolinecolor": "white"
           },
           "yaxis": {
            "backgroundcolor": "#E5ECF6",
            "gridcolor": "white",
            "gridwidth": 2,
            "linecolor": "white",
            "showbackground": true,
            "ticks": "",
            "zerolinecolor": "white"
           },
           "zaxis": {
            "backgroundcolor": "#E5ECF6",
            "gridcolor": "white",
            "gridwidth": 2,
            "linecolor": "white",
            "showbackground": true,
            "ticks": "",
            "zerolinecolor": "white"
           }
          },
          "shapedefaults": {
           "line": {
            "color": "#2a3f5f"
           }
          },
          "ternary": {
           "aaxis": {
            "gridcolor": "white",
            "linecolor": "white",
            "ticks": ""
           },
           "baxis": {
            "gridcolor": "white",
            "linecolor": "white",
            "ticks": ""
           },
           "bgcolor": "#E5ECF6",
           "caxis": {
            "gridcolor": "white",
            "linecolor": "white",
            "ticks": ""
           }
          },
          "title": {
           "x": 0.05
          },
          "xaxis": {
           "automargin": true,
           "gridcolor": "white",
           "linecolor": "white",
           "ticks": "",
           "title": {
            "standoff": 15
           },
           "zerolinecolor": "white",
           "zerolinewidth": 2
          },
          "yaxis": {
           "automargin": true,
           "gridcolor": "white",
           "linecolor": "white",
           "ticks": "",
           "title": {
            "standoff": 15
           },
           "zerolinecolor": "white",
           "zerolinewidth": 2
          }
         }
        },
        "xaxis": {
         "anchor": "y",
         "domain": [
          0,
          1
         ],
         "title": {
          "text": "Year"
         }
        },
        "yaxis": {
         "anchor": "x",
         "domain": [
          0,
          1
         ],
         "title": {
          "text": "value"
         }
        }
       }
      }
     },
     "metadata": {},
     "output_type": "display_data"
    }
   ],
   "source": [
    "fig = px.line(on_rdsl, x='Year', y=['BD_P', 'HDRD_P', 'Pure_Die_P'])\n",
    "\n",
    "fig.show()"
   ]
  }
 ],
 "metadata": {
  "kernelspec": {
   "display_name": "new_base",
   "language": "python",
   "name": "python3"
  },
  "language_info": {
   "codemirror_mode": {
    "name": "ipython",
    "version": 3
   },
   "file_extension": ".py",
   "mimetype": "text/x-python",
   "name": "python",
   "nbconvert_exporter": "python",
   "pygments_lexer": "ipython3",
   "version": "3.9.18"
  }
 },
 "nbformat": 4,
 "nbformat_minor": 2
}
