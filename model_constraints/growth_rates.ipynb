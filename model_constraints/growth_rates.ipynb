{
 "cells": [
  {
   "cell_type": "markdown",
   "metadata": {},
   "source": [
    "# Import"
   ]
  },
  {
   "cell_type": "code",
   "execution_count": 980,
   "metadata": {},
   "outputs": [],
   "source": [
    "import pandas as pd\n",
    "import numpy as np\n",
    "import plotly.express as px\n",
    "import plotly.graph_objects as go\n",
    "from plotly.subplots import make_subplots\n",
    "from scipy.optimize import curve_fit"
   ]
  },
  {
   "cell_type": "code",
   "execution_count": 981,
   "metadata": {},
   "outputs": [
    {
     "data": {
      "text/plain": [
       "202"
      ]
     },
     "execution_count": 981,
     "metadata": {},
     "output_type": "execute_result"
    }
   ],
   "source": [
    "raw_data = pd.read_csv('HATCH_dataset/HATCH_v1.5_Clean.csv')\n",
    "year_columns = [col for col in raw_data.columns if col.isdigit()]\n",
    "data = pd.melt(raw_data, id_vars=[col for col in raw_data.columns if col not in year_columns], \n",
    "                   value_vars=year_columns, var_name='Year', value_name='Value')\n",
    "data['Year'] = data['Year'].astype(int)\n",
    "\n",
    "# grouped_metrics = data.groupby('Region')['Country Name'].unique()\n",
    "# for region, country in grouped_metrics.items():\n",
    "#     print(f\"{region}: {list(country)}\")\n",
    "\n",
    "len(data['Technology Name'].unique())"
   ]
  },
  {
   "cell_type": "code",
   "execution_count": 982,
   "metadata": {},
   "outputs": [
    {
     "data": {
      "text/plain": [
       "202"
      ]
     },
     "execution_count": 982,
     "metadata": {},
     "output_type": "execute_result"
    }
   ],
   "source": [
    "oecd_countries = [  # as per https://www.oecd.org/en/about/members-partners.html \n",
    "    'AUS',  # Australia\n",
    "    'AUT',  # Austria\n",
    "    'BEL',  # Belgium\n",
    "    'CAN',  # Canada\n",
    "    'CHL',  # Chile\n",
    "    'COL',  # Colombia\n",
    "    'CRI',  # Costa Rica\n",
    "    'CZE',  # Czech Republic / Czechia\n",
    "    'DNK',  # Denmark\n",
    "    'EST',  # Estonia\n",
    "    'FIN',  # Finland\n",
    "    'FRA',  # France\n",
    "    'DEU',  # Germany\n",
    "    'GRC',  # Greece\n",
    "    'HUN',  # Hungary\n",
    "    'ISL',  # Iceland\n",
    "    'IRL',  # Ireland\n",
    "    'ISR',  # Israel\n",
    "    'ITA',  # Italy\n",
    "    'JPN',  # Japan\n",
    "    'KOR',  # Korea\n",
    "    'LVA',  # Latvia\n",
    "    'LTU',  # Lithuania\n",
    "    'LUX',  # Luxembourg\n",
    "    'MEX',  # Mexico\n",
    "    'NLD',  # Netherlands\n",
    "    'NZL',  # New Zealand\n",
    "    'NOR',  # Norway\n",
    "    'POL',  # Poland\n",
    "    'PRT',  # Portugal\n",
    "    'SVK',  # Slovak Republic\n",
    "    'SVN',  # Slovenia\n",
    "    'ESP',  # Spain\n",
    "    'SWE',  # Sweden\n",
    "    'CHE',  # Switzerland\n",
    "    'TUR',  # Turkey\n",
    "    'GBR',  # United Kingdom\n",
    "    'USA',  # United States\n",
    "    'World'\n",
    "]\n",
    "\n",
    "data_oecd = data[data['Region'].isin(oecd_countries)]\n",
    "len(data_oecd['Technology Name'].unique())\n",
    "\n",
    "# [tech for tech in data_oecd['Technology Name'].unique() if 'Offshore'.lower() in tech.lower()]"
   ]
  },
  {
   "cell_type": "code",
   "execution_count": 983,
   "metadata": {},
   "outputs": [
    {
     "data": {
      "text/plain": [
       "118"
      ]
     },
     "execution_count": 983,
     "metadata": {},
     "output_type": "execute_result"
    }
   ],
   "source": [
    "null_years = data_oecd.groupby('Year').sum('Value')\n",
    "null_years = null_years[null_years['Value'] == 0].index\n",
    "data_oecd = data_oecd[~data_oecd['Year'].isin(null_years)]\n",
    "data_oecd = data_oecd.replace(0, np.nan)\n",
    "\n",
    "def gap_filter(group):\n",
    "    group = group.sort_values('Year')\n",
    "    i0 = group['Value'].first_valid_index()\n",
    "    il = group['Value'].last_valid_index()\n",
    "\n",
    "    if i0 is not None:\n",
    "        group = group.loc[i0:il]\n",
    "        is_nan = group['Value'].isnull()\n",
    "        nan_gaps = (is_nan != is_nan.shift()).cumsum()[is_nan].value_counts()\n",
    "\n",
    "        return nan_gaps.max() if not nan_gaps.empty else 0\n",
    "    return None\n",
    "# print(data_oecd.groupby('ID').apply(gap_filter).sort_values().iloc[-10:])\n",
    "\n",
    "# data_filter = (\n",
    "#     data_oecd.groupby('ID').filter(lambda x: x['Value'].notnull().sum() >= 20)\n",
    "# )\n",
    "data_filter = data_oecd.groupby('ID').filter(\n",
    "    lambda group: (\n",
    "        group['Value'].notnull().sum() >= 20 and    # series must have at least 20 entries\n",
    "        (gap := gap_filter(group)) is not None and \n",
    "        gap <= 5                                    # series with gaps of more than 5 years are removed\n",
    "    )\n",
    ")\n",
    "len(data_filter['Technology Name'].unique())\n",
    "\n",
    "# print(data_filter.groupby('ID').apply(gap_filter).sort_values().iloc[-10:])\n",
    "# data_filter[data_filter['ID'] == 'Passenger Cars_Total Number_PT'].plot(x='Year', y='Value')"
   ]
  },
  {
   "cell_type": "code",
   "execution_count": 984,
   "metadata": {},
   "outputs": [
    {
     "name": "stdout",
     "output_type": "stream",
     "text": [
      "##### metric: techs #####\n",
      "Annual Production: ['Beer Production', 'Gold', 'Zinc', 'Crude Oil', 'Silver', 'Sulphuric Acid', 'Primary Bauxite Production', 'Nickel Production', 'Cement', 'Rare Earth Mine Production', 'Primary Aluminum Production', 'Raw Steel Production', 'Graphite', 'Cadmium Refining', 'Iron Ore', 'Primary Copper', 'Cane Sugar', 'Cobalt', 'Lead', 'Sand and Gravel|Industrial', 'Sand and Gravel|Construction', 'Salt Production', 'Tin', 'Milk Production', 'Lithium Mine Production', 'Caustic Soda', 'Synthetic Filaments', 'Nitric Acid', 'Hydrochloric Acid', 'Aquaculture Production', 'Capture Fisheries', 'Potash Fertilizer', 'Phosphate Fertilizer', 'Nitrogen Fertilizer', 'Renewable Power', 'Hydroelectricity', 'Nuclear Energy', 'Oil Production', 'Natural Gas Production', 'Coal Production', 'Primary Magnesium', 'Liquefied Natural Gas', 'Electricity', 'All Biofuels', 'Polystyrene', 'Copper|Refining', 'Motor Gasoline', 'Copper|Mining', 'Polyvinylchloride', 'Pentaerythritol', 'Air-Source Heat Pumps']\n",
      "Computing Capacity: ['Random Access Memory', 'Microprocessor Clock Speed', 'Internet Traffic', 'Internet Backbone Bandwidth']\n",
      "Cumulative Acreage: ['Insect-Resistant Cotton', 'Herbicide-Tolerant Soybeans', 'Herbicide-Tolerant Cotton', 'Herbicide-Tolerant Corn', 'Insect-Resistant Corn']\n",
      "Cumulative Length: ['Railroad', 'Public Roads', 'Natural Gas Pipeline', 'Oil Pipeline']\n",
      "Cumulative Total Capacity: ['Bicycles', 'Steamships', 'Motorcycles', 'Passenger Cars', 'Natural Gas Power', 'Coal Power', 'Refrigerators', 'Washing Machines', 'Laundry Dryers', 'High-Speed Rail', 'Oil Refining Capacity', 'Jet Aircraft', 'Cellphones', 'Wet Flue Gas Desulfurization Systems']\n",
      "Installed Capacity: ['Fluid Catalytic Cracking Refineries', 'Carbon Capture and Sequestration', 'Concentrated Solar Power', 'Onshore Wind Energy', 'Solar Photovoltaic', 'Geothermal Energy', 'Solid Biofuels', 'Offshore Wind Energy', 'Solar Thermal Energy', 'Biogas', 'Marine Energy', 'Liquid Biofuels']\n",
      "Share of Households: ['Stove', 'Vacuums', 'Home Air Conditioning', 'Colour TV', 'Microcomputers', 'Cable TV', 'Household Internet Access']\n",
      "Share of Market: ['Automatic Transmission', 'Real-Time Gross Settlement Adoption', 'Power Steering']\n",
      "Share of Population: ['BCG Vaccine', 'DTP3 Vaccine', 'POL3 Vaccine', 'MCV1 Vaccine', 'DTP1 Vaccine', 'RCV1 Vaccine', 'HEPB3 Vaccine', 'HIB3 Vaccine', 'MCV2 Vaccine', 'HEPBB Vaccine']\n",
      "Total Number: ['Radio', 'Telegraph Traffic', 'Postal Traffic', 'Telephones', 'Passenger Cars', 'Space Launches', 'Nuclear Weapons', 'Television', 'Crop Harvester', 'Cellphones']\n",
      "\n",
      "##### metric: units #####\n",
      "Annual Production: ['thousand hectolitres', 'metric tons', 'thousand metric tons', 'TWh', 'million metric tons', 'billion cubic meters', 'Short tons', 'billion cubic feet', 'Petajoule', 'million pounds', 'billion barrels', '-']\n",
      "Computing Capacity: ['Bits per dollar', 'Hz', 'Gigabytes per month', 'Bits/second']\n",
      "Cumulative Acreage: ['Acres']\n",
      "Cumulative Length: ['kilometers', 'miles']\n",
      "Cumulative Total Capacity: ['MW', '-', 'kilometers', 'thousand barrels', 'GWe']\n",
      "Installed Capacity: ['MW', 'GW']\n",
      "Share of Households: ['%']\n",
      "Share of Market: ['%']\n",
      "Share of Population: ['%']\n",
      "Total Number: ['-', 'Number (millions)']\n"
     ]
    },
    {
     "data": {
      "text/plain": [
       "89"
      ]
     },
     "execution_count": 984,
     "metadata": {},
     "output_type": "execute_result"
    }
   ],
   "source": [
    "data_filter['Metric'] = data_filter['Metric'].replace(to_replace=['Annual production', 'Cumulative total capacity', 'Net Total Capacity', 'Installed electricity capacity', 'Total Length'], \n",
    "                                        value=['Annual Production', 'Cumulative Total Capacity', 'Installed Capacity', 'Installed Capacity', 'Cumulative Length'])\n",
    "\n",
    "grouped_metrics = data_filter.groupby('Metric')['Technology Name'].unique()\n",
    "print('##### metric: techs #####')\n",
    "for metric, techs in grouped_metrics.items():\n",
    "    print(f\"{metric}: {list(techs)}\")\n",
    "\n",
    "grouped_metrics = data_filter.groupby('Metric')['Unit'].unique()\n",
    "print('\\n##### metric: units #####')\n",
    "for metric, units in grouped_metrics.items():\n",
    "    print(f\"{metric}: {list(units)}\")\n",
    "\n",
    "keep_metrics = ['Total Number',\n",
    "                'Annual Production',\n",
    "                'Cumulative Total Capacity',\n",
    "                'Cumulative Length',            # TODO - need to reconsider\n",
    "                'Installed Capacity']\n",
    "\n",
    "data_filter.loc[(data_filter['Metric'] == 'Cumulative Total Capacity') & (data_filter['Unit'] == 'kilometers'), 'Metric'] = 'Cumulative Length'\n",
    "data_filter.loc[(data_filter['Metric'] == 'Cumulative Total Capacity') & (data_filter['Unit'] == '-'), 'Metric'] = 'Total Number'\n",
    "data_metrics = data_filter[data_filter['Metric'].isin(keep_metrics)]\n",
    "len(data_metrics['Technology Name'].unique())"
   ]
  },
  {
   "cell_type": "code",
   "execution_count": 985,
   "metadata": {},
   "outputs": [
    {
     "data": {
      "text/plain": [
       "75"
      ]
     },
     "execution_count": 985,
     "metadata": {},
     "output_type": "execute_result"
    }
   ],
   "source": [
    "# data_metrics[(data_metrics['Technology Name'].isin(['Crude Oil', 'Oil Production', 'Oil Refining Capacity'])) & \n",
    "#           (data_metrics['Country Name'] == 'Mexico') & (data_metrics['Year'].between(2000, 2010))]\n",
    "\n",
    "# grouped_metrics = data_metrics.groupby('Technology Name')['Metric'].unique()\n",
    "# for techs, metrics in grouped_metrics.items():\n",
    "#     # if len(metrics) > 1:\n",
    "#         print(f\"{techs} - {metrics}\")\n",
    "\n",
    "remove_ids = ['Cellphones_Cumulative Total Capacity_World', 'Passenger Cars_Cumulative Total Capacity_World',   # repetitive or with data quality issues\n",
    "              'Passenger Cars_Cumulative Total Capacity_US', 'Passenger Cars_Total Number_PT']\n",
    "\n",
    "remove_techs = [    # nuclear weapons, space launches, oil production and nitrogen fertilizer techs were removed as per Edwards et al. 2023 (SI)\n",
    "    'Aquaculture Production',\n",
    "    'Beer Production',\n",
    "    'Cane Sugar',\n",
    "    'Capture Fisheries',\n",
    "    'Caustic Soda',\n",
    "    'Copper|Mining',\n",
    "    'Copper|Refining'\n",
    "    'Crude Oil',\n",
    "    'Milk Production',\n",
    "    'Nitrogen Fertilizer',\n",
    "    'Nuclear Weapons',\n",
    "    'Oil Production',\n",
    "    'Postal Traffic',\n",
    "    'Primary Bauxite Production',\n",
    "    'Sand and Gravel|Industrial',\n",
    "    'Space Launches'  \n",
    "]\n",
    "\n",
    "data_metrics = data_metrics[~data_metrics['ID'].isin(remove_ids)]\n",
    "data_clean = data_metrics[~data_metrics['Technology Name'].isin(remove_techs)].dropna()\n",
    "data_clean['Region'] = data_clean['Region'].replace({\n",
    "    'AUS': 'Australia',\n",
    "    'AUT': 'Austria',\n",
    "    'BEL': 'Belgium',\n",
    "    'CAN': 'Canada',\n",
    "    'CHL': 'Chile',\n",
    "    'COL': 'Colombia',\n",
    "    'CRI': 'Costa Rica',\n",
    "    'CZE': 'Czech Republic',\n",
    "    'DNK': 'Denmark',\n",
    "    'EST': 'Estonia',\n",
    "    'FIN': 'Finland',\n",
    "    'FRA': 'France',\n",
    "    'DEU': 'Germany',\n",
    "    'GRC': 'Greece',\n",
    "    'HUN': 'Hungary',\n",
    "    'ISL': 'Iceland',\n",
    "    'IRL': 'Ireland',\n",
    "    'ISR': 'Israel',\n",
    "    'ITA': 'Italy',\n",
    "    'JPN': 'Japan',\n",
    "    'KOR': 'Korea',\n",
    "    'LVA': 'Latvia',\n",
    "    'LTU': 'Lithuania',\n",
    "    'LUX': 'Luxembourg',\n",
    "    'MEX': 'Mexico',\n",
    "    'NLD': 'Netherlands',\n",
    "    'NZL': 'New Zealand',\n",
    "    'NOR': 'Norway',\n",
    "    'POL': 'Poland',\n",
    "    'PRT': 'Portugal',\n",
    "    'SVK': 'Slovak Republic',\n",
    "    'SVN': 'Slovenia',\n",
    "    'ESP': 'Spain',\n",
    "    'SWE': 'Sweden',\n",
    "    'CHE': 'Switzerland',\n",
    "    'TUR': 'Turkey',\n",
    "    'GBR': 'United Kingdom',\n",
    "    'USA': 'United States'\n",
    "})\n",
    "data_clean = data_clean.drop(['Country Name', 'Spatial Scale'], axis=1)\n",
    "data_clean = data_clean.rename(columns={'ID': 'id', 'Region':'country', 'Technology Name': 'tech', \n",
    "                                        'Metric': 'metric', 'Unit': 'unit', 'Data Source': 'source',\n",
    "                                        'Variable': 'variable', 'Year': 'year', 'Value': 'value'})\n",
    "\n",
    "# data_clean.to_csv('hatch_clean.csv', index=False)\n",
    "\n",
    "len(data_clean['tech'].unique())"
   ]
  },
  {
   "cell_type": "code",
   "execution_count": null,
   "metadata": {},
   "outputs": [],
   "source": [
    "def get_growth_function(function):\n",
    "    if function == 'logistic':\n",
    "        return lambda x, L, k, x0: L / (1 + np.exp(-k * (x - x0)))\n",
    "    elif function == 'gompertz':\n",
    "        return lambda x, L, k, x0: L * np.exp(-np.exp(-k * (x - x0)))\n",
    "    elif function == 'softplus':\n",
    "        return lambda x, L, k, x0: L / k * np.log(1 + np.exp(k * (x - x0)))     # from https://doi.org/10.1038/s43247-023-01056-1 - relatively untested\n",
    "    \n",
    "def growth_rate_fitting(data=data_clean, error_metric='rmse', country=None, tech=None, sort_by='rate'):\n",
    "    if error_metric not in ['rmse', 'mae']:\n",
    "        raise ValueError(f\"Unsupported error metric: {error_metric}\")\n",
    "    if sort_by not in ['rate', 'r2']:\n",
    "        raise ValueError(f\"Unsupported sorting param: {sort_by}\")\n",
    "    \n",
    "    formulations = ['logistic', 'gompertz', 'softplus']\n",
    "    growth_rates = data[['tech', 'country', 'metric', 'unit']].drop_duplicates().reset_index(drop=True)\n",
    "    growth_rates = growth_rates.assign(rate=np.nan, asymptote=np.nan, inflection=np.nan, \n",
    "                                       r2=np.nan, rmse=np.nan, mae=np.nan, formulation=pd.Series(dtype='string'))\n",
    "\n",
    "    if country is not None:\n",
    "        growth_rates = growth_rates[growth_rates['country'] == country]\n",
    "\n",
    "    if tech is not None:\n",
    "        growth_rates = growth_rates[growth_rates['tech'] == tech]\n",
    "\n",
    "    for i, row in growth_rates.iterrows():\n",
    "        tech = row['tech']\n",
    "        country = row['country']\n",
    "        hist_growth = data[(data['tech'] == tech) & (data['country'] == country)]\n",
    "        x = hist_growth['year']\n",
    "        y = hist_growth['value']\n",
    "\n",
    "        best_metric, best_params, best_formulation, best_r2 = float('inf'), None, None, None\n",
    "        for func in formulations:\n",
    "            f = get_growth_function(func)\n",
    "            L0 = y.max()                                # initial guesses\n",
    "            k0 = 1.0\n",
    "            x0 = np.median(x) if func in ['logistic', 'softplus'] else x.min()\n",
    "\n",
    "            try:\n",
    "                popt, _ = curve_fit(f, x.values, y.values, [L0, k0, x0], \n",
    "                                    # maxfev=17000      # does not converge in less iterations for some techs\n",
    "                                    maxfev=10000\n",
    "                                    )\n",
    "                \n",
    "                y_pred = f(x.values, *popt)             # error metrics\n",
    "                ss_res = np.sum((y.values - y_pred) ** 2)\n",
    "                ss_tot = np.sum((y.values - y.values.mean()) ** 2)\n",
    "                r2 = 1 - (ss_res / ss_tot)\n",
    "                rmse = np.sqrt(ss_res / len(y))         # len(y), not len(y) - 1\n",
    "                mae = np.mean(np.abs(y.values - y_pred))\n",
    "\n",
    "                current_metric = rmse if error_metric == 'rmse' else mae        # check for formulation with the lowest error_metric\n",
    "                if current_metric < best_metric:\n",
    "                    best_metric, best_params, best_formulation, best_r2 = current_metric, popt, func, r2\n",
    "\n",
    "            except RuntimeError:\n",
    "                print(f\"Optimal {func} params not found in {tech} from {country}, removed row\")    \n",
    "                continue        # if nan, will be removed\n",
    "\n",
    "        # Update the DataFrame with the best formulation's results\n",
    "        if best_params is not None:\n",
    "            growth_rates.at[i, 'rate'] = best_params[1]                 # k, target parameter\n",
    "            growth_rates.at[i, 'asymptote'] = best_params[0]            # L, for demonstration\n",
    "            growth_rates.at[i, 'inflection'] = best_params[2]           # x0, for demonstration\n",
    "            growth_rates.at[i, 'r2'] = best_r2                          # Coefficient of determination\n",
    "            growth_rates.at[i, 'rmse'] = rmse                           # Root mean squared error\n",
    "            growth_rates.at[i, 'mae'] = mae                             # Mean absolute error\n",
    "            growth_rates.at[i, 'formulation'] = best_formulation        # Formulation with the lowest error_metric\n",
    "\n",
    "    growth_rates = growth_rates[growth_rates['rate'] >= 0]      \n",
    "\n",
    "    if tech is not None or country is not None:\n",
    "        max_rate_i = growth_rates.groupby('tech')['rate'].idxmax()      # max growth rate by country if no specific country\n",
    "        growth_rates = growth_rates.loc[max_rate_i]\n",
    "        return growth_rates.sort_values(sort_by, ascending=False).reset_index(drop=True)\n",
    "    else:\n",
    "        return growth_rates.sort_values(sort_by, ascending=False).reset_index(drop=True)"
   ]
  },
  {
   "cell_type": "code",
   "execution_count": 1049,
   "metadata": {},
   "outputs": [],
   "source": [
    "def plot_growth_rates(data=data_clean, error_metric='rmse', tech=None, country=None, sort_by='rate'):\n",
    "    if tech is None and country is None:\n",
    "        print(\"Too many plots to show. Define either a specific technology or a country.\")\n",
    "        return\n",
    "    \n",
    "    rates = growth_rate_fitting(data=data, error_metric=error_metric, tech=tech, country=country, sort_by=sort_by)\n",
    "\n",
    "    # Determine grid size for subplots\n",
    "    rows = len(rates)\n",
    "    cols = 4 if len(rates) >= 4 else len(rates)\n",
    "    rows = -(-rows // cols)  # Ceiling division for rows\n",
    "\n",
    "    fig = make_subplots(rows=rows, cols=cols, \n",
    "                        vertical_spacing=0.026, \n",
    "                        horizontal_spacing=0.05,\n",
    "                        subplot_titles=[f\"<b>{row['tech']}</b> in {row['country']}<br>({row['formulation']}'s growth rate={row['rate']:.3f})\" for _, row in rates.iterrows()])\n",
    "\n",
    "    annotations = []\n",
    "    for i, row in rates.iterrows():\n",
    "        tech, country, formulation = row['tech'], row['country'], row['formulation']\n",
    "        f = get_growth_function(formulation)\n",
    "        \n",
    "        yaxis_title = f\"{row['metric']} [{row['unit']}]\"\n",
    "        annotation_text = f\"R²: {row['r2']:.3f}\"\n",
    "\n",
    "        L, k, x0 = row['asymptote'], row['rate'], row['inflection']\n",
    "        hist = data[(data['tech'] == tech) & (data['country'] == country)]\n",
    "        y, x = hist['value'].values, hist['year'].values        \n",
    "        y_fit = f(x, L, k, x0)\n",
    "\n",
    "        # Add traces to subplot\n",
    "        row_i = i // cols + 1\n",
    "        col_i = i % cols + 1\n",
    "        fig.add_trace(go.Scatter(x=x, y=y, mode='markers', name=f\"{tech} - {country}\",\n",
    "                                 marker=dict(size=4, opacity=0.8, color='black')),\n",
    "                      row=row_i, col=col_i)\n",
    "        fig.add_trace(go.Scatter(x=x, y=y_fit, mode='lines', name=f\"{tech} - {country} Curve Fit\",\n",
    "                                 line=dict(width=2.5, color='red')),\n",
    "                      row=row_i, col=col_i)\n",
    "        fig.update_yaxes(title_text=yaxis_title, row=row_i, col=col_i, title_standoff=5)\n",
    "        annotations.append(\n",
    "            dict(\n",
    "                xref=f\"x{(i+1)}\",  # Use subplot-specific axis\n",
    "                yref=f\"y{(i+1)}\",\n",
    "                x=x.min(),  # Place at the minimum x-value\n",
    "                y=y.max(),  # Place near the maximum y-value\n",
    "                text=annotation_text,\n",
    "                showarrow=False,\n",
    "                xanchor=\"left\",\n",
    "                yanchor=\"top\"\n",
    "            )\n",
    "        )\n",
    "    existing_annotations = list(fig['layout']['annotations'])\n",
    "    fig.update_layout(\n",
    "        annotations=existing_annotations + annotations\n",
    "    )\n",
    "    fig.update_layout(\n",
    "        title='Historical growth rates',\n",
    "        font=dict(size=11),\n",
    "        showlegend=False,\n",
    "        height=350 * rows,\n",
    "        width=400 * cols,\n",
    "        template='plotly_white',\n",
    "        annotations=[\n",
    "        dict(font=dict(size=13)) for annotation in fig['layout']['annotations']\n",
    "        ]\n",
    "    )\n",
    "    fig.show()"
   ]
  },
  {
   "cell_type": "code",
   "execution_count": 1050,
   "metadata": {},
   "outputs": [
    {
     "name": "stderr",
     "output_type": "stream",
     "text": [
      "C:\\Users\\rashi\\AppData\\Local\\Temp\\ipykernel_34016\\2063325136.py:43: OptimizeWarning:\n",
      "\n",
      "Covariance of the parameters could not be estimated\n",
      "\n"
     ]
    },
    {
     "name": "stdout",
     "output_type": "stream",
     "text": [
      "Optimal gompertz params not found in Solar Photovoltaic from Spain, removed row\n",
      "Optimal gompertz params not found in Solar Photovoltaic from Norway, removed row\n",
      "Optimal gompertz params not found in Solar Photovoltaic from Portugal, removed row\n",
      "Optimal gompertz params not found in Solar Photovoltaic from Costa Rica, removed row\n"
     ]
    },
    {
     "data": {
      "application/vnd.plotly.v1+json": {
       "config": {
        "plotlyServerURL": "https://plot.ly"
       },
       "data": [
        {
         "marker": {
          "color": "black",
          "opacity": 0.8,
          "size": 4
         },
         "mode": "markers",
         "name": "Solar Photovoltaic - Czech Republic",
         "type": "scatter",
         "x": [
          2000,
          2001,
          2002,
          2003,
          2004,
          2005,
          2006,
          2007,
          2008,
          2009,
          2010,
          2011,
          2012,
          2013,
          2014,
          2015,
          2016,
          2017,
          2018,
          2019,
          2020,
          2021
         ],
         "xaxis": "x",
         "y": [
          0.1,
          0.1,
          0.2,
          0.3,
          0.4,
          0.586,
          0.841,
          3.961,
          39.5,
          464.6,
          1727,
          1913,
          2022,
          2063.5,
          2067.4,
          2074.9,
          2067.9,
          2069.5,
          2075.072,
          2086.424,
          2122.711,
          2119.211
         ],
         "yaxis": "y"
        },
        {
         "line": {
          "color": "red",
          "width": 2.5
         },
         "mode": "lines",
         "name": "Solar Photovoltaic - Czech Republic Curve Fit",
         "type": "scatter",
         "x": [
          2000,
          2001,
          2002,
          2003,
          2004,
          2005,
          2006,
          2007,
          2008,
          2009,
          2010,
          2011,
          2012,
          2013,
          2014,
          2015,
          2016,
          2017,
          2018,
          2019,
          2020,
          2021
         ],
         "xaxis": "x",
         "y": [
          0,
          0,
          0,
          0,
          0,
          0,
          7.393901041929478e-245,
          2.181905401251932e-31,
          0.04473594052474281,
          473.6945474964267,
          1691.0417104334376,
          2013.910562113318,
          2062.8144239080234,
          2069.6215584806478,
          2070.5580067389783,
          2070.686624671243,
          2070.704285980081,
          2070.706711087682,
          2070.7070440823836,
          2070.707089806296,
          2070.7070960847022,
          2070.7070969467977
         ],
         "yaxis": "y"
        },
        {
         "marker": {
          "color": "black",
          "opacity": 0.8,
          "size": 4
         },
         "mode": "markers",
         "name": "Solar Photovoltaic - Greece",
         "type": "scatter",
         "x": [
          2001,
          2002,
          2003,
          2004,
          2005,
          2006,
          2007,
          2008,
          2009,
          2010,
          2011,
          2012,
          2013,
          2014,
          2015,
          2016,
          2017,
          2018,
          2019,
          2020,
          2021
         ],
         "xaxis": "x2",
         "y": [
          1,
          1,
          1,
          1,
          1,
          5,
          9,
          12,
          46,
          202,
          612,
          1536,
          2579,
          2596,
          2604,
          2604,
          2605.53,
          2651.57,
          2833.794,
          3287.72,
          3530
         ],
         "yaxis": "y2"
        },
        {
         "line": {
          "color": "red",
          "width": 2.5
         },
         "mode": "lines",
         "name": "Solar Photovoltaic - Greece Curve Fit",
         "type": "scatter",
         "x": [
          2001,
          2002,
          2003,
          2004,
          2005,
          2006,
          2007,
          2008,
          2009,
          2010,
          2011,
          2012,
          2013,
          2014,
          2015,
          2016,
          2017,
          2018,
          2019,
          2020,
          2021
         ],
         "xaxis": "x2",
         "y": [
          0.0003885408912085805,
          0.0016658329470898743,
          0.0071420934504826715,
          0.030620825160302352,
          0.13127940237214372,
          0.5627639980434036,
          2.4112476449631712,
          10.309577405657988,
          43.68633637126026,
          178.38935175818327,
          635.2414068883709,
          1577.5593145765104,
          2412.1338826339675,
          2751.6654618963225,
          2845.0719647041833,
          2867.777514704236,
          2873.1256018323393,
          2874.3758656645723,
          2874.6676350946504,
          2874.7356962383574,
          2874.7515713582925
         ],
         "yaxis": "y2"
        },
        {
         "marker": {
          "color": "black",
          "opacity": 0.8,
          "size": 4
         },
         "mode": "markers",
         "name": "Solar Photovoltaic - United Kingdom",
         "type": "scatter",
         "x": [
          2000,
          2001,
          2002,
          2003,
          2004,
          2005,
          2006,
          2007,
          2008,
          2009,
          2010,
          2011,
          2012,
          2013,
          2014,
          2015,
          2016,
          2017,
          2018,
          2019,
          2020,
          2021
         ],
         "xaxis": "x3",
         "y": [
          2,
          3,
          4,
          6,
          8,
          11,
          14,
          18,
          23,
          27,
          95,
          1000,
          1753,
          2937,
          5528,
          9601.219,
          11914,
          12760,
          13073,
          13346,
          13462.48,
          13689
         ],
         "yaxis": "y3"
        },
        {
         "line": {
          "color": "red",
          "width": 2.5
         },
         "mode": "lines",
         "name": "Solar Photovoltaic - United Kingdom Curve Fit",
         "type": "scatter",
         "x": [
          2000,
          2001,
          2002,
          2003,
          2004,
          2005,
          2006,
          2007,
          2008,
          2009,
          2010,
          2011,
          2012,
          2013,
          2014,
          2015,
          2016,
          2017,
          2018,
          2019,
          2020,
          2021
         ],
         "xaxis": "x3",
         "y": [
          0.007856141120064613,
          0.021566441720356343,
          0.0592034410827023,
          0.16252242751940268,
          0.4461427885415408,
          1.224668663464622,
          3.361397181029617,
          9.223626022359607,
          25.290429553320365,
          69.20139543882037,
          188.2931145515643,
          504.6696015795458,
          1300.9248635024965,
          3059.1671160043966,
          6025.904226432076,
          9317.489549749469,
          11632.056425201044,
          12789.367845557239,
          13270.324137328817,
          13454.638382743347,
          13523.058313981572,
          13548.155273485652
         ],
         "yaxis": "y3"
        },
        {
         "marker": {
          "color": "black",
          "opacity": 0.8,
          "size": 4
         },
         "mode": "markers",
         "name": "Solar Photovoltaic - Italy",
         "type": "scatter",
         "x": [
          2000,
          2001,
          2002,
          2003,
          2004,
          2005,
          2006,
          2007,
          2008,
          2009,
          2010,
          2011,
          2012,
          2013,
          2014,
          2015,
          2016,
          2017,
          2018,
          2019,
          2020,
          2021
         ],
         "xaxis": "x4",
         "y": [
          19,
          20,
          22,
          26,
          31,
          34,
          45,
          110,
          483,
          1264,
          3592,
          13131,
          16785,
          18185,
          18594,
          18901,
          19283,
          19682.293,
          20107.589,
          20865.275,
          21650.04,
          22692.04
         ],
         "yaxis": "y4"
        },
        {
         "line": {
          "color": "red",
          "width": 2.5
         },
         "mode": "lines",
         "name": "Solar Photovoltaic - Italy Curve Fit",
         "type": "scatter",
         "x": [
          2000,
          2001,
          2002,
          2003,
          2004,
          2005,
          2006,
          2007,
          2008,
          2009,
          2010,
          2011,
          2012,
          2013,
          2014,
          2015,
          2016,
          2017,
          2018,
          2019,
          2020,
          2021
         ],
         "xaxis": "x4",
         "y": [
          0,
          0,
          0,
          0,
          1.4834213149214376e-263,
          4.7835228480862993e-94,
          4.251519053119222e-32,
          1.855383950135376e-9,
          0.3486888433244233,
          368.35509115860776,
          4692.01202845887,
          11891.254470866032,
          16704.2127999186,
          18913.308233435044,
          19791.605600601608,
          20122.66790997178,
          20245.03527671145,
          20289.94124722474,
          20306.377484514087,
          20312.38761525101,
          20314.58452945369,
          20315.387475931886
         ],
         "yaxis": "y4"
        },
        {
         "marker": {
          "color": "black",
          "opacity": 0.8,
          "size": 4
         },
         "mode": "markers",
         "name": "Solar Photovoltaic - Turkey",
         "type": "scatter",
         "x": [
          2000,
          2001,
          2002,
          2003,
          2004,
          2005,
          2006,
          2007,
          2008,
          2009,
          2010,
          2011,
          2012,
          2013,
          2014,
          2015,
          2016,
          2017,
          2018,
          2019,
          2020,
          2021
         ],
         "xaxis": "x5",
         "y": [
          0.1,
          0.3,
          0.6,
          1,
          1.5,
          2,
          2.5,
          3,
          3.7,
          4.7,
          5.7,
          6.7,
          11.7,
          17.7,
          40,
          249,
          833,
          3420.7,
          5062.608,
          5995.155,
          6667.355,
          7815.555
         ],
         "yaxis": "y5"
        },
        {
         "line": {
          "color": "red",
          "width": 2.5
         },
         "mode": "lines",
         "name": "Solar Photovoltaic - Turkey Curve Fit",
         "type": "scatter",
         "x": [
          2000,
          2001,
          2002,
          2003,
          2004,
          2005,
          2006,
          2007,
          2008,
          2009,
          2010,
          2011,
          2012,
          2013,
          2014,
          2015,
          2016,
          2017,
          2018,
          2019,
          2020,
          2021
         ],
         "xaxis": "x5",
         "y": [
          0,
          0,
          0,
          0,
          0,
          0,
          0,
          0,
          2.1174909211803184e-234,
          7.827388521159705e-114,
          1.8723558409190457e-54,
          3.280998375779669e-25,
          8.284708558064515e-11,
          0.0010263421399548246,
          3.1955893448395263,
          167.86331094849191,
          1180.980638322633,
          3086.921060438563,
          4954.892916533847,
          6255.26701858447,
          7016.036309496909,
          7424.045275768082
         ],
         "yaxis": "y5"
        },
        {
         "marker": {
          "color": "black",
          "opacity": 0.8,
          "size": 4
         },
         "mode": "markers",
         "name": "Solar Photovoltaic - Finland",
         "type": "scatter",
         "x": [
          2000,
          2001,
          2002,
          2003,
          2004,
          2005,
          2006,
          2007,
          2008,
          2009,
          2010,
          2011,
          2012,
          2013,
          2014,
          2015,
          2016,
          2017,
          2018,
          2019,
          2020,
          2021
         ],
         "xaxis": "x6",
         "y": [
          2,
          3,
          3,
          3,
          4,
          4,
          5,
          5,
          6,
          6,
          7,
          7,
          8,
          9,
          11,
          17,
          39,
          82,
          140,
          222,
          318,
          404
         ],
         "yaxis": "y6"
        },
        {
         "line": {
          "color": "red",
          "width": 2.5
         },
         "mode": "lines",
         "name": "Solar Photovoltaic - Finland Curve Fit",
         "type": "scatter",
         "x": [
          2000,
          2001,
          2002,
          2003,
          2004,
          2005,
          2006,
          2007,
          2008,
          2009,
          2010,
          2011,
          2012,
          2013,
          2014,
          2015,
          2016,
          2017,
          2018,
          2019,
          2020,
          2021
         ],
         "xaxis": "x6",
         "y": [
          0.0006396192279678098,
          0.001286621153606304,
          0.002588089841362281,
          0.005206033649469029,
          0.010472069261773843,
          0.021064630315435953,
          0.04237080648819195,
          0.08522414039517091,
          0.1714053442452739,
          0.34468102681981033,
          0.6929027462182428,
          1.392033730338866,
          2.7929989446422816,
          5.589575766693993,
          11.129452359655957,
          21.939042421674223,
          42.42238457533926,
          79.16762311806167,
          139.0374740688367,
          222.79885809676992,
          318.0523475632434,
          403.89590252649236
         ],
         "yaxis": "y6"
        },
        {
         "marker": {
          "color": "black",
          "opacity": 0.8,
          "size": 4
         },
         "mode": "markers",
         "name": "Solar Photovoltaic - Canada",
         "type": "scatter",
         "x": [
          2000,
          2001,
          2002,
          2003,
          2004,
          2005,
          2006,
          2007,
          2008,
          2009,
          2010,
          2011,
          2012,
          2013,
          2014,
          2015,
          2016,
          2017,
          2018,
          2019,
          2020,
          2021
         ],
         "xaxis": "x7",
         "y": [
          7,
          9,
          10,
          12,
          14,
          18,
          22,
          29,
          38,
          107,
          249,
          628,
          766,
          1210,
          1843,
          2519,
          2665,
          2932,
          3095,
          3327,
          3342,
          3629.6
         ],
         "yaxis": "y7"
        },
        {
         "line": {
          "color": "red",
          "width": 2.5
         },
         "mode": "lines",
         "name": "Solar Photovoltaic - Canada Curve Fit",
         "type": "scatter",
         "x": [
          2000,
          2001,
          2002,
          2003,
          2004,
          2005,
          2006,
          2007,
          2008,
          2009,
          2010,
          2011,
          2012,
          2013,
          2014,
          2015,
          2016,
          2017,
          2018,
          2019,
          2020,
          2021
         ],
         "xaxis": "x7",
         "y": [
          0.6914908735473533,
          1.278161349944687,
          2.362232656418561,
          4.364602239624373,
          8.060358613936012,
          14.872106045549698,
          27.394902998437644,
          50.308922748430085,
          91.87801127949855,
          166.1277923781657,
          295.1443578888069,
          508.9385732766028,
          836.8250892721169,
          1284.431877614188,
          1807.3465129854385,
          2317.750117852025,
          2735.636361482881,
          3031.262182410763,
          3219.4507248384143,
          3331.3206943112673,
          3395.134720889577,
          3430.6820997110513
         ],
         "yaxis": "y7"
        },
        {
         "marker": {
          "color": "black",
          "opacity": 0.8,
          "size": 4
         },
         "mode": "markers",
         "name": "Solar Photovoltaic - Sweden",
         "type": "scatter",
         "x": [
          2000,
          2001,
          2002,
          2003,
          2004,
          2005,
          2006,
          2007,
          2008,
          2009,
          2010,
          2011,
          2012,
          2013,
          2014,
          2015,
          2016,
          2017,
          2018,
          2019,
          2020,
          2021
         ],
         "xaxis": "x8",
         "y": [
          3,
          3,
          3,
          4,
          4,
          4,
          5,
          6,
          8,
          9,
          11,
          12,
          24,
          43,
          60,
          104,
          153,
          231,
          411,
          698,
          1090,
          1560.4
         ],
         "yaxis": "y8"
        },
        {
         "line": {
          "color": "red",
          "width": 2.5
         },
         "mode": "lines",
         "name": "Solar Photovoltaic - Sweden Curve Fit",
         "type": "scatter",
         "x": [
          2000,
          2001,
          2002,
          2003,
          2004,
          2005,
          2006,
          2007,
          2008,
          2009,
          2010,
          2011,
          2012,
          2013,
          2014,
          2015,
          2016,
          2017,
          2018,
          2019,
          2020,
          2021
         ],
         "xaxis": "x8",
         "y": [
          0.016367209831793336,
          0.02898271566064124,
          0.05132186029233275,
          0.09087904090782976,
          0.16092428693123578,
          0.2849530291035108,
          0.5045614090793752,
          0.8933783599253431,
          1.5816943370477003,
          2.7999420083442477,
          4.9552797971638,
          8.765919940290008,
          15.494993786418622,
          27.352287538547962,
          48.16763185152857,
          84.46877084412269,
          147.0550245603118,
          252.856211519439,
          425.8976033133124,
          694.1703582998514,
          1077.4320260132818,
          1565.5591358470288
         ],
         "yaxis": "y8"
        },
        {
         "marker": {
          "color": "black",
          "opacity": 0.8,
          "size": 4
         },
         "mode": "markers",
         "name": "Solar Photovoltaic - Slovenia",
         "type": "scatter",
         "x": [
          2000,
          2001,
          2002,
          2003,
          2004,
          2005,
          2006,
          2007,
          2008,
          2009,
          2010,
          2011,
          2012,
          2013,
          2014,
          2015,
          2016,
          2017,
          2018,
          2019,
          2020,
          2021
         ],
         "xaxis": "x9",
         "y": [
          1,
          1,
          0.001,
          0.001,
          0.003,
          0.047,
          0.194,
          0.586,
          1,
          4,
          12,
          57,
          142,
          187,
          223,
          238,
          233,
          246.8,
          246.8,
          277.877,
          369.78,
          366.78
         ],
         "yaxis": "y9"
        },
        {
         "line": {
          "color": "red",
          "width": 2.5
         },
         "mode": "lines",
         "name": "Solar Photovoltaic - Slovenia Curve Fit",
         "type": "scatter",
         "x": [
          2000,
          2001,
          2002,
          2003,
          2004,
          2005,
          2006,
          2007,
          2008,
          2009,
          2010,
          2011,
          2012,
          2013,
          2014,
          2015,
          2016,
          2017,
          2018,
          2019,
          2020,
          2021
         ],
         "xaxis": "x9",
         "y": [
          0.21635415338412955,
          0.3770774891377197,
          0.656951319928769,
          1.1438062127464745,
          1.989203893726637,
          3.452648977547424,
          5.972438019454415,
          10.271284174392868,
          17.491288472712707,
          29.304247012236843,
          47.82838419795112,
          75.02637157656712,
          111.33355230984623,
          154.0991067487944,
          197.63497958237156,
          235.84625367067602,
          265.2572982532914,
          285.688282944988,
          298.89058274050626,
          307.0273063899152,
          311.89657055108876,
          314.75930000528723
         ],
         "yaxis": "y9"
        },
        {
         "marker": {
          "color": "black",
          "opacity": 0.8,
          "size": 4
         },
         "mode": "markers",
         "name": "Solar Photovoltaic - Netherlands",
         "type": "scatter",
         "x": [
          2000,
          2001,
          2002,
          2003,
          2004,
          2005,
          2006,
          2007,
          2008,
          2009,
          2010,
          2011,
          2012,
          2013,
          2014,
          2015,
          2016,
          2017,
          2018,
          2019,
          2020,
          2021
         ],
         "xaxis": "x10",
         "y": [
          13,
          21,
          26,
          46,
          50,
          51,
          53,
          54,
          59,
          69,
          90,
          149,
          287,
          650,
          1007,
          1526,
          2135,
          2911,
          4608,
          7226,
          10949.72,
          14249
         ],
         "yaxis": "y10"
        },
        {
         "line": {
          "color": "red",
          "width": 2.5
         },
         "mode": "lines",
         "name": "Solar Photovoltaic - Netherlands Curve Fit",
         "type": "scatter",
         "x": [
          2000,
          2001,
          2002,
          2003,
          2004,
          2005,
          2006,
          2007,
          2008,
          2009,
          2010,
          2011,
          2012,
          2013,
          2014,
          2015,
          2016,
          2017,
          2018,
          2019,
          2020,
          2021
         ],
         "xaxis": "x10",
         "y": [
          0.8809083629068026,
          1.4341681885503663,
          2.3348829282399928,
          3.801220732301029,
          6.188274924915168,
          10.073895474499912,
          16.398151411269062,
          26.68965053932786,
          43.43205852392983,
          70.65567731481288,
          114.88702661944453,
          186.65924941817897,
          302.87830006540554,
          490.4353071626516,
          791.477608307394,
          1270.4794780738534,
          2022.172540599882,
          3176.5688014857706,
          4891.83944440341,
          7319.42973600483,
          10528.651253147073,
          14409.113579882896
         ],
         "yaxis": "y10"
        },
        {
         "marker": {
          "color": "black",
          "opacity": 0.8,
          "size": 4
         },
         "mode": "markers",
         "name": "Solar Photovoltaic - Norway",
         "type": "scatter",
         "x": [
          2000,
          2001,
          2002,
          2003,
          2004,
          2005,
          2006,
          2007,
          2008,
          2009,
          2010,
          2011,
          2012,
          2013,
          2014,
          2015,
          2016,
          2017,
          2018,
          2019,
          2020,
          2021
         ],
         "xaxis": "x11",
         "y": [
          6,
          6,
          6,
          7,
          7,
          7,
          8,
          8,
          8.3,
          8.7,
          9.1,
          9.5,
          10,
          11,
          13,
          15,
          26.7,
          44.9,
          53.113,
          102.534,
          141.5,
          206.5
         ],
         "yaxis": "y11"
        },
        {
         "line": {
          "color": "red",
          "width": 2.5
         },
         "mode": "lines",
         "name": "Solar Photovoltaic - Norway Curve Fit",
         "type": "scatter",
         "x": [
          2000,
          2001,
          2002,
          2003,
          2004,
          2005,
          2006,
          2007,
          2008,
          2009,
          2010,
          2011,
          2012,
          2013,
          2014,
          2015,
          2016,
          2017,
          2018,
          2019,
          2020,
          2021
         ],
         "xaxis": "x11",
         "y": [
          0.0568895184933963,
          0.08406869284116349,
          0.1242328162689032,
          0.18358549491300932,
          0.2712941296303277,
          0.4009058788757928,
          0.5924401019977217,
          0.8754804727431639,
          1.29374435645537,
          1.9118352133895666,
          2.8252209644131914,
          4.1749795072596125,
          6.169588847669364,
          9.117127306541903,
          13.472856972465099,
          19.909539184509466,
          29.42134100898699,
          43.47737798936234,
          64.24860065834865,
          94.94305103976387,
          140.30123267874782,
          207.32802216378508
         ],
         "yaxis": "y11"
        },
        {
         "marker": {
          "color": "black",
          "opacity": 0.8,
          "size": 4
         },
         "mode": "markers",
         "name": "Solar Photovoltaic - Korea",
         "type": "scatter",
         "x": [
          2000,
          2001,
          2002,
          2003,
          2004,
          2005,
          2006,
          2007,
          2008,
          2009,
          2010,
          2011,
          2012,
          2013,
          2014,
          2015,
          2016,
          2017,
          2018,
          2019,
          2020,
          2021
         ],
         "xaxis": "x12",
         "y": [
          4,
          5,
          5,
          6,
          9,
          14,
          36,
          81,
          357,
          524,
          650,
          730,
          1024,
          1555,
          2481,
          3615,
          4502,
          5835,
          8099,
          11952,
          14574.791,
          18160.575
         ],
         "yaxis": "y12"
        },
        {
         "line": {
          "color": "red",
          "width": 2.5
         },
         "mode": "lines",
         "name": "Solar Photovoltaic - Korea Curve Fit",
         "type": "scatter",
         "x": [
          2000,
          2001,
          2002,
          2003,
          2004,
          2005,
          2006,
          2007,
          2008,
          2009,
          2010,
          2011,
          2012,
          2013,
          2014,
          2015,
          2016,
          2017,
          2018,
          2019,
          2020,
          2021
         ],
         "xaxis": "x12",
         "y": [
          12.982430058877698,
          18.85786312941556,
          27.390539401093452,
          39.78024700499054,
          57.766296819020816,
          83.86769882382983,
          121.72755998584583,
          176.60394288143377,
          256.0632056330299,
          370.9462412712254,
          536.6877011278555,
          775.0604092525132,
          1116.3647305289016,
          1601.9347242360202,
          2286.50644773645,
          3239.384839123024,
          4542.407348129635,
          6281.670615617249,
          8529.783028448308,
          11317.887375776832,
          14603.621321034554,
          18250.723220754764
         ],
         "yaxis": "y12"
        },
        {
         "marker": {
          "color": "black",
          "opacity": 0.8,
          "size": 4
         },
         "mode": "markers",
         "name": "Solar Photovoltaic - Mexico",
         "type": "scatter",
         "x": [
          2000,
          2001,
          2002,
          2003,
          2004,
          2005,
          2006,
          2007,
          2008,
          2009,
          2010,
          2011,
          2012,
          2013,
          2014,
          2015,
          2016,
          2017,
          2018,
          2019,
          2020,
          2021
         ],
         "xaxis": "x13",
         "y": [
          14,
          15,
          16,
          16,
          16,
          16,
          16,
          19,
          19,
          25.1,
          29.8,
          42.4,
          72.8,
          109,
          174,
          287,
          632.6,
          1125.74,
          2541,
          4426.208,
          5149,
          7026
         ],
         "yaxis": "y13"
        },
        {
         "line": {
          "color": "red",
          "width": 2.5
         },
         "mode": "lines",
         "name": "Solar Photovoltaic - Mexico Curve Fit",
         "type": "scatter",
         "x": [
          2000,
          2001,
          2002,
          2003,
          2004,
          2005,
          2006,
          2007,
          2008,
          2009,
          2010,
          2011,
          2012,
          2013,
          2014,
          2015,
          2016,
          2017,
          2018,
          2019,
          2020,
          2021
         ],
         "xaxis": "x13",
         "y": [
          1.0450223333663e-311,
          1.7545290176649049e-220,
          1.1356281236686445e-155,
          1.260207416884239e-109,
          6.507055042982713e-77,
          1.1334018203685894e-53,
          3.6814211786845923e-37,
          1.9803836520333154e-25,
          4.2744600287910555e-17,
          3.5635928610181057e-11,
          5.73434169740678e-7,
          0.0005585612925941494,
          0.07418580855384843,
          2.392156573612162,
          28.215344899219588,
          162.88254551424694,
          565.9858531983102,
          1371.2337834406742,
          2571.2405132571803,
          4019.004232118846,
          5519.872845205455,
          6915.71357937079
         ],
         "yaxis": "y13"
        },
        {
         "marker": {
          "color": "black",
          "opacity": 0.8,
          "size": 4
         },
         "mode": "markers",
         "name": "Solar Photovoltaic - Japan",
         "type": "scatter",
         "x": [
          2000,
          2001,
          2002,
          2003,
          2004,
          2005,
          2006,
          2007,
          2008,
          2009,
          2010,
          2011,
          2012,
          2013,
          2014,
          2015,
          2016,
          2017,
          2018,
          2019,
          2020,
          2021
         ],
         "xaxis": "x14",
         "y": [
          330,
          453,
          637,
          860,
          1132,
          1422,
          1708,
          1919,
          2144,
          2627,
          3618,
          4914,
          6632,
          13599,
          23339,
          34150,
          42040,
          49500,
          56162,
          63192,
          69764,
          74191
         ],
         "yaxis": "y14"
        },
        {
         "line": {
          "color": "red",
          "width": 2.5
         },
         "mode": "lines",
         "name": "Solar Photovoltaic - Japan Curve Fit",
         "type": "scatter",
         "x": [
          2000,
          2001,
          2002,
          2003,
          2004,
          2005,
          2006,
          2007,
          2008,
          2009,
          2010,
          2011,
          2012,
          2013,
          2014,
          2015,
          2016,
          2017,
          2018,
          2019,
          2020,
          2021
         ],
         "xaxis": "x14",
         "y": [
          5.260355846657399e-23,
          1.7721412533252792e-16,
          1.6271922704531568e-11,
          9.656835460200463e-8,
          0.00007141718474146874,
          0.010842284369261565,
          0.49386549461409757,
          9.007021040948317,
          81.90622797706482,
          438.79096471567664,
          1572.1064281025126,
          4148.2672157642155,
          8674.64496615763,
          15200.052167761009,
          23283.735886821443,
          32200.950314767455,
          41203.410275930575,
          49697.648633621786,
          57309.61397063906,
          63868.18868904565,
          69352.6101235719,
          73835.54849066726
         ],
         "yaxis": "y14"
        },
        {
         "marker": {
          "color": "black",
          "opacity": 0.8,
          "size": 4
         },
         "mode": "markers",
         "name": "Solar Photovoltaic - Germany",
         "type": "scatter",
         "x": [
          2000,
          2001,
          2002,
          2003,
          2004,
          2005,
          2006,
          2007,
          2008,
          2009,
          2010,
          2011,
          2012,
          2013,
          2014,
          2015,
          2016,
          2017,
          2018,
          2019,
          2020,
          2021
         ],
         "xaxis": "x15",
         "y": [
          114,
          195,
          260,
          435,
          1105,
          2056,
          2899,
          4170,
          6120,
          10564,
          18004,
          25914,
          34075,
          36708,
          37898,
          39222,
          40677,
          42291,
          45156,
          48912,
          53719,
          58459
         ],
         "yaxis": "y15"
        },
        {
         "line": {
          "color": "red",
          "width": 2.5
         },
         "mode": "lines",
         "name": "Solar Photovoltaic - Germany Curve Fit",
         "type": "scatter",
         "x": [
          2000,
          2001,
          2002,
          2003,
          2004,
          2005,
          2006,
          2007,
          2008,
          2009,
          2010,
          2011,
          2012,
          2013,
          2014,
          2015,
          2016,
          2017,
          2018,
          2019,
          2020,
          2021
         ],
         "xaxis": "x15",
         "y": [
          0.024139966066118793,
          0.6748044820721121,
          8.850260674205371,
          64.67708784097282,
          300.795831491714,
          986.5467541335775,
          2470.313284390529,
          5021.204652516961,
          8686.938653300354,
          13268.853431684953,
          18407.668381329033,
          23706.152406726516,
          28824.39759823653,
          33524.974310717356,
          37676.3690316314,
          41233.418728749224,
          44210.66244263722,
          46657.87417273044,
          48641.431865540944,
          50231.860341329644,
          51496.44181990581,
          52495.448258152144
         ],
         "yaxis": "y15"
        },
        {
         "marker": {
          "color": "black",
          "opacity": 0.8,
          "size": 4
         },
         "mode": "markers",
         "name": "Solar Photovoltaic - Portugal",
         "type": "scatter",
         "x": [
          2000,
          2001,
          2002,
          2003,
          2004,
          2005,
          2006,
          2007,
          2008,
          2009,
          2010,
          2011,
          2012,
          2013,
          2014,
          2015,
          2016,
          2017,
          2018,
          2019,
          2020,
          2021
         ],
         "xaxis": "x16",
         "y": [
          1,
          1,
          1,
          2,
          2,
          2,
          3,
          24,
          59,
          115,
          134,
          169.6,
          235.6,
          293.6,
          412.6,
          441.748,
          493.05,
          539.421,
          617.846,
          832.736,
          1010.07,
          1711.07
         ],
         "yaxis": "y16"
        },
        {
         "line": {
          "color": "red",
          "width": 2.5
         },
         "mode": "lines",
         "name": "Solar Photovoltaic - Portugal Curve Fit",
         "type": "scatter",
         "x": [
          2000,
          2001,
          2002,
          2003,
          2004,
          2005,
          2006,
          2007,
          2008,
          2009,
          2010,
          2011,
          2012,
          2013,
          2014,
          2015,
          2016,
          2017,
          2018,
          2019,
          2020,
          2021
         ],
         "xaxis": "x16",
         "y": [
          9.851698711985849,
          12.519362886716639,
          15.909382865999723,
          20.217359672909694,
          25.691859571337712,
          32.64875609163669,
          41.489455610634664,
          52.72405807689529,
          67.0007892202399,
          85.14340243498447,
          108.19870835553589,
          137.49697447944567,
          174.72867974720697,
          222.04205259630535,
          282.1670201010765,
          358.57271955448715,
          455.6676601263401,
          579.0540827089908,
          735.8511926113592,
          935.1059126349753,
          1188.3148522523961,
          1510.0876029957574
         ],
         "yaxis": "y16"
        },
        {
         "marker": {
          "color": "black",
          "opacity": 0.8,
          "size": 4
         },
         "mode": "markers",
         "name": "Solar Photovoltaic - Denmark",
         "type": "scatter",
         "x": [
          2000,
          2001,
          2002,
          2003,
          2004,
          2005,
          2006,
          2007,
          2008,
          2009,
          2010,
          2011,
          2012,
          2013,
          2014,
          2015,
          2016,
          2017,
          2018,
          2019,
          2020,
          2021
         ],
         "xaxis": "x17",
         "y": [
          1,
          1,
          2,
          2,
          2,
          3,
          3,
          3,
          3,
          5,
          7,
          17,
          402,
          571,
          607,
          782.108,
          850.953,
          906.35,
          998,
          1080,
          1304.294,
          1540.294
         ],
         "yaxis": "y17"
        },
        {
         "line": {
          "color": "red",
          "width": 2.5
         },
         "mode": "lines",
         "name": "Solar Photovoltaic - Denmark Curve Fit",
         "type": "scatter",
         "x": [
          2000,
          2001,
          2002,
          2003,
          2004,
          2005,
          2006,
          2007,
          2008,
          2009,
          2010,
          2011,
          2012,
          2013,
          2014,
          2015,
          2016,
          2017,
          2018,
          2019,
          2020,
          2021
         ],
         "xaxis": "x17",
         "y": [
          1.056916120804901e-8,
          0.0000018632757328406343,
          0.00011662482566640343,
          0.003188760400995536,
          0.04495546504405893,
          0.3731365275589918,
          2.027409432186899,
          7.84955154369234,
          23.176247768940428,
          55.093737267483405,
          110.12094493852327,
          191.61099673081767,
          298.407627094241,
          425.2857119944083,
          564.6052664124741,
          708.2232579360857,
          848.9645612462039,
          981.4053079771735,
          1102.0521606162824,
          1209.134161689018,
          1302.21844020192,
          1381.7978211524608
         ],
         "yaxis": "y17"
        },
        {
         "marker": {
          "color": "black",
          "opacity": 0.8,
          "size": 4
         },
         "mode": "markers",
         "name": "Solar Photovoltaic - Costa Rica",
         "type": "scatter",
         "x": [
          2000,
          2001,
          2002,
          2003,
          2004,
          2005,
          2006,
          2007,
          2008,
          2009,
          2010,
          2011,
          2012,
          2013,
          2014,
          2015,
          2016,
          2017,
          2018,
          2019,
          2020,
          2021
         ],
         "xaxis": "x18",
         "y": [
          0.246,
          0.591,
          1.09,
          1.665,
          2.048,
          2.57,
          3.192,
          3.756,
          4.55,
          5.049,
          6.198,
          6.842,
          9.862,
          12.714,
          16.671,
          22.484,
          23.568,
          27.968,
          27.968,
          46.865,
          55.154,
          72.101
         ],
         "yaxis": "y18"
        },
        {
         "line": {
          "color": "red",
          "width": 2.5
         },
         "mode": "lines",
         "name": "Solar Photovoltaic - Costa Rica Curve Fit",
         "type": "scatter",
         "x": [
          2000,
          2001,
          2002,
          2003,
          2004,
          2005,
          2006,
          2007,
          2008,
          2009,
          2010,
          2011,
          2012,
          2013,
          2014,
          2015,
          2016,
          2017,
          2018,
          2019,
          2020,
          2021
         ],
         "xaxis": "x18",
         "y": [
          0.6704864387114446,
          0.8365620156022848,
          1.0437735394678251,
          1.3023101410629296,
          1.6248847373389503,
          2.027359157371591,
          2.529524107659907,
          3.1560723292269355,
          3.937812798414431,
          4.913185675569369,
          6.130152493688585,
          7.648554529539643,
          9.543055319851653,
          11.906812006491512,
          14.85605602888789,
          18.535808390590976,
          23.127010506934113,
          28.85542123317037,
          36.0027174961626,
          44.92034427227023,
          56.04679478841166,
          69.92917040569876
         ],
         "yaxis": "y18"
        },
        {
         "marker": {
          "color": "black",
          "opacity": 0.8,
          "size": 4
         },
         "mode": "markers",
         "name": "Solar Photovoltaic - France",
         "type": "scatter",
         "x": [
          2000,
          2001,
          2002,
          2003,
          2004,
          2005,
          2006,
          2007,
          2008,
          2009,
          2010,
          2011,
          2012,
          2013,
          2014,
          2015,
          2016,
          2017,
          2018,
          2019,
          2020,
          2021
         ],
         "xaxis": "x19",
         "y": [
          7,
          7,
          8,
          9,
          11,
          13,
          15,
          26,
          80,
          277,
          1044,
          3003.574,
          4358.754,
          5277.289,
          6034.418,
          7137.517,
          7702.081,
          8610.437,
          9638.875,
          10738.389,
          11812.204,
          14499.204
         ],
         "yaxis": "y19"
        },
        {
         "line": {
          "color": "red",
          "width": 2.5
         },
         "mode": "lines",
         "name": "Solar Photovoltaic - France Curve Fit",
         "type": "scatter",
         "x": [
          2000,
          2001,
          2002,
          2003,
          2004,
          2005,
          2006,
          2007,
          2008,
          2009,
          2010,
          2011,
          2012,
          2013,
          2014,
          2015,
          2016,
          2017,
          2018,
          2019,
          2020,
          2021
         ],
         "xaxis": "x19",
         "y": [
          0.06196878103219345,
          0.43114387749370475,
          2.2279097386090467,
          8.949638031810123,
          29.047939180915634,
          78.70917160090978,
          183.04449432677134,
          374.01347433206223,
          684.9114295457418,
          1143.1262448500427,
          1763.777973028517,
          2546.324290020583,
          3474.815807025044,
          4521.13377448585,
          5649.821975658394,
          6823.0982342983025,
          8005.039145955742,
          9164.460085480454,
          10276.449640924087,
          11322.78317091003,
          12291.545268354359,
          13176.285932501924
         ],
         "yaxis": "y19"
        },
        {
         "marker": {
          "color": "black",
          "opacity": 0.8,
          "size": 4
         },
         "mode": "markers",
         "name": "Solar Photovoltaic - Switzerland",
         "type": "scatter",
         "x": [
          2000,
          2001,
          2002,
          2003,
          2004,
          2005,
          2006,
          2007,
          2008,
          2009,
          2010,
          2011,
          2012,
          2013,
          2014,
          2015,
          2016,
          2017,
          2018,
          2019,
          2020,
          2021
         ],
         "xaxis": "x20",
         "y": [
          16,
          18,
          20,
          22,
          24,
          28,
          30,
          37,
          49,
          79,
          125,
          223,
          437,
          756,
          1061,
          1394,
          1664,
          1906,
          2173,
          2498,
          2973.39,
          3448.78
         ],
         "yaxis": "y20"
        },
        {
         "line": {
          "color": "red",
          "width": 2.5
         },
         "mode": "lines",
         "name": "Solar Photovoltaic - Switzerland Curve Fit",
         "type": "scatter",
         "x": [
          2000,
          2001,
          2002,
          2003,
          2004,
          2005,
          2006,
          2007,
          2008,
          2009,
          2010,
          2011,
          2012,
          2013,
          2014,
          2015,
          2016,
          2017,
          2018,
          2019,
          2020,
          2021
         ],
         "xaxis": "x20",
         "y": [
          0.0007471027768828991,
          0.007174609360636945,
          0.04999109583536752,
          0.26449774721658614,
          1.1049498722166076,
          3.768826185991309,
          10.801910140851273,
          26.665080977376032,
          57.90689477226663,
          112.65630136994488,
          199.4307059441094,
          325.5762966985537,
          495.82254303337936,
          711.3667480685509,
          969.6803472066887,
          1264.9818041504764,
          1589.1554813190332,
          1932.8447807580194,
          2286.4872755576157,
          2641.1432630443965,
          2989.0563500948965,
          3323.95165741623
         ],
         "yaxis": "y20"
        },
        {
         "marker": {
          "color": "black",
          "opacity": 0.8,
          "size": 4
         },
         "mode": "markers",
         "name": "Solar Photovoltaic - Spain",
         "type": "scatter",
         "x": [
          2000,
          2001,
          2002,
          2003,
          2004,
          2005,
          2006,
          2007,
          2008,
          2009,
          2010,
          2011,
          2012,
          2013,
          2014,
          2015,
          2016,
          2017,
          2018,
          2019,
          2020,
          2021
         ],
         "xaxis": "x21",
         "y": [
          1,
          3,
          6,
          10,
          19,
          37,
          113,
          476,
          3365,
          3403,
          3851,
          4260,
          4545,
          4665,
          4672,
          4677,
          4687,
          4696,
          4730.7,
          8804.071,
          10250.311,
          13613.311
         ],
         "yaxis": "y21"
        },
        {
         "line": {
          "color": "red",
          "width": 2.5
         },
         "mode": "lines",
         "name": "Solar Photovoltaic - Spain Curve Fit",
         "type": "scatter",
         "x": [
          2000,
          2001,
          2002,
          2003,
          2004,
          2005,
          2006,
          2007,
          2008,
          2009,
          2010,
          2011,
          2012,
          2013,
          2014,
          2015,
          2016,
          2017,
          2018,
          2019,
          2020,
          2021
         ],
         "xaxis": "x21",
         "y": [
          497.39738833166564,
          578.5756806994573,
          673.0027542206996,
          782.8408846810167,
          910.6052419605196,
          1059.2214835626062,
          1232.092747416905,
          1433.177577853343,
          1667.0805689423864,
          1939.1578005293557,
          2255.639480917628,
          2623.772604020215,
          3051.9868869071847,
          3550.0877864987765,
          4129.481013866962,
          4803.433685367877,
          5587.378088091996,
          6499.265012021253,
          7559.974735061332,
          8793.795065620176,
          10228.977380667842,
          11898.383380137151
         ],
         "yaxis": "y21"
        },
        {
         "marker": {
          "color": "black",
          "opacity": 0.8,
          "size": 4
         },
         "mode": "markers",
         "name": "Solar Photovoltaic - Belgium",
         "type": "scatter",
         "x": [
          2002,
          2003,
          2004,
          2005,
          2006,
          2007,
          2008,
          2009,
          2010,
          2011,
          2012,
          2013,
          2014,
          2015,
          2016,
          2017,
          2018,
          2019,
          2020,
          2021
         ],
         "xaxis": "x22",
         "y": [
          1,
          1,
          1,
          2,
          2,
          20,
          62,
          386,
          1006.6,
          1978.6,
          2646.6,
          2901.6,
          3015,
          3131.6,
          3328.8,
          3620.6,
          4000,
          4636.6,
          5574.8,
          6584.6
         ],
         "yaxis": "y22"
        },
        {
         "line": {
          "color": "red",
          "width": 2.5
         },
         "mode": "lines",
         "name": "Solar Photovoltaic - Belgium Curve Fit",
         "type": "scatter",
         "x": [
          2002,
          2003,
          2004,
          2005,
          2006,
          2007,
          2008,
          2009,
          2010,
          2011,
          2012,
          2013,
          2014,
          2015,
          2016,
          2017,
          2018,
          2019,
          2020,
          2021
         ],
         "xaxis": "x22",
         "y": [
          18.060518319559463,
          39.6957676411058,
          79.03338588073508,
          144.318632830902,
          244.3405156091799,
          387.2161620083505,
          579.1648639115928,
          823.5589948999914,
          1120.4387030320627,
          1466.5377727957164,
          1855.7450560264006,
          2279.852221099722,
          2729.4198373376635,
          3194.616806726089,
          3665.9328511518024,
          4134.712303572312,
          4593.498298904372,
          5036.20465668393,
          5458.148161523014,
          5855.979079088436
         ],
         "yaxis": "y22"
        },
        {
         "marker": {
          "color": "black",
          "opacity": 0.8,
          "size": 4
         },
         "mode": "markers",
         "name": "Solar Photovoltaic - Austria",
         "type": "scatter",
         "x": [
          2000,
          2001,
          2002,
          2003,
          2004,
          2005,
          2006,
          2007,
          2008,
          2009,
          2010,
          2011,
          2012,
          2013,
          2014,
          2015,
          2016,
          2017,
          2018,
          2019,
          2020,
          2021
         ],
         "xaxis": "x23",
         "y": [
          5,
          7,
          9,
          23,
          27,
          18.485,
          19.614,
          21.417,
          26.998,
          45.562,
          85.268,
          169.883,
          333.092,
          620.784,
          779.757,
          931.563,
          1089.529,
          1262.008,
          1447.935,
          1694.396,
          2034.737,
          2683.737
         ],
         "yaxis": "y23"
        },
        {
         "line": {
          "color": "red",
          "width": 2.5
         },
         "mode": "lines",
         "name": "Solar Photovoltaic - Austria Curve Fit",
         "type": "scatter",
         "x": [
          2000,
          2001,
          2002,
          2003,
          2004,
          2005,
          2006,
          2007,
          2008,
          2009,
          2010,
          2011,
          2012,
          2013,
          2014,
          2015,
          2016,
          2017,
          2018,
          2019,
          2020,
          2021
         ],
         "xaxis": "x23",
         "y": [
          0.6949572667778683,
          1.535462672030351,
          3.1841163305817743,
          6.228862310003537,
          11.54846485026878,
          20.379761737465635,
          34.36749174536087,
          55.58375979464055,
          86.50688297079616,
          129.9544998952624,
          188.97239700551845,
          266.68712524540547,
          366.1358131017334,
          490.089676253345,
          640.8881974101245,
          820.2989883852255,
          1029.4145653928242,
          1268.5925022332838,
          1537.4405181336092,
          1834.8437020988174,
          2159.0277327452613,
          2507.6498282563525
         ],
         "yaxis": "y23"
        },
        {
         "marker": {
          "color": "black",
          "opacity": 0.8,
          "size": 4
         },
         "mode": "markers",
         "name": "Solar Photovoltaic - United States",
         "type": "scatter",
         "x": [
          2000,
          2001,
          2002,
          2003,
          2004,
          2005,
          2006,
          2007,
          2008,
          2009,
          2010,
          2011,
          2012,
          2013,
          2014,
          2015,
          2016,
          2017,
          2018,
          2019,
          2020,
          2021
         ],
         "xaxis": "x24",
         "y": [
          176,
          213,
          255,
          293,
          363,
          493,
          698,
          974,
          1153,
          1614,
          2909,
          5172,
          8137,
          11759,
          15984,
          21684,
          32958,
          41357,
          49812,
          59068,
          73813.7,
          93713.013
         ],
         "yaxis": "y24"
        },
        {
         "line": {
          "color": "red",
          "width": 2.5
         },
         "mode": "lines",
         "name": "Solar Photovoltaic - United States Curve Fit",
         "type": "scatter",
         "x": [
          2000,
          2001,
          2002,
          2003,
          2004,
          2005,
          2006,
          2007,
          2008,
          2009,
          2010,
          2011,
          2012,
          2013,
          2014,
          2015,
          2016,
          2017,
          2018,
          2019,
          2020,
          2021
         ],
         "xaxis": "x24",
         "y": [
          3.712023027423281,
          9.797905312071492,
          23.95559029432914,
          54.58259684910318,
          116.54427335120594,
          234.39174315827833,
          446.1264624832036,
          807.0974404870822,
          1393.4306110435305,
          2304.2947034235117,
          3662.3474582268905,
          5611.889080517356,
          8314.546696136056,
          11942.664752596527,
          16670.910174636265,
          22666.85358939761,
          30081.417584305604,
          39040.0775139239,
          49635.5749768991,
          61922.69324347526,
          75915.39084163753,
          91586.33613253721
         ],
         "yaxis": "y24"
        },
        {
         "marker": {
          "color": "black",
          "opacity": 0.8,
          "size": 4
         },
         "mode": "markers",
         "name": "Solar Photovoltaic - Luxembourg",
         "type": "scatter",
         "x": [
          2001,
          2002,
          2003,
          2004,
          2005,
          2006,
          2007,
          2008,
          2009,
          2010,
          2011,
          2012,
          2013,
          2014,
          2015,
          2016,
          2017,
          2018,
          2019,
          2020,
          2021
         ],
         "xaxis": "x25",
         "y": [
          0.16,
          1.593,
          14.17,
          23.561,
          23.583,
          23.696,
          23.934,
          24.562,
          26.357,
          29.451,
          40.666,
          74.654,
          95.021,
          109.933,
          116.272,
          121.896,
          128.103,
          130.624,
          159.736,
          186.643,
          208.643
         ],
         "yaxis": "y25"
        },
        {
         "line": {
          "color": "red",
          "width": 2.5
         },
         "mode": "lines",
         "name": "Solar Photovoltaic - Luxembourg Curve Fit",
         "type": "scatter",
         "x": [
          2001,
          2002,
          2003,
          2004,
          2005,
          2006,
          2007,
          2008,
          2009,
          2010,
          2011,
          2012,
          2013,
          2014,
          2015,
          2016,
          2017,
          2018,
          2019,
          2020,
          2021
         ],
         "xaxis": "x25",
         "y": [
          4.172070474246462,
          5.939775356590385,
          8.250838757843233,
          11.201618652011765,
          14.887133161778063,
          19.396960539132053,
          24.811236050808976,
          31.19702806381603,
          38.60532967129213,
          47.06883704173622,
          56.60061127292808,
          67.19364630993476,
          78.82129911736304,
          91.43848504603423,
          104.98350392863686,
          119.38034132233356,
          134.5412831559045,
          150.36968832316367,
          166.76277938295564,
          183.6143332579612,
          200.817178696944
         ],
         "yaxis": "y25"
        },
        {
         "marker": {
          "color": "black",
          "opacity": 0.8,
          "size": 4
         },
         "mode": "markers",
         "name": "Solar Photovoltaic - Australia",
         "type": "scatter",
         "x": [
          2000,
          2001,
          2002,
          2003,
          2004,
          2005,
          2006,
          2007,
          2008,
          2009,
          2010,
          2011,
          2012,
          2013,
          2014,
          2015,
          2016,
          2017,
          2018,
          2019,
          2020,
          2021
         ],
         "xaxis": "x26",
         "y": [
          25,
          29,
          34,
          39,
          46,
          52,
          61,
          70,
          82,
          329,
          1088,
          2470,
          3796,
          4565,
          5284,
          5943,
          6686,
          7352,
          8623,
          12967,
          17342,
          19074
         ],
         "yaxis": "y26"
        },
        {
         "line": {
          "color": "red",
          "width": 2.5
         },
         "mode": "lines",
         "name": "Solar Photovoltaic - Australia Curve Fit",
         "type": "scatter",
         "x": [
          2000,
          2001,
          2002,
          2003,
          2004,
          2005,
          2006,
          2007,
          2008,
          2009,
          2010,
          2011,
          2012,
          2013,
          2014,
          2015,
          2016,
          2017,
          2018,
          2019,
          2020,
          2021
         ],
         "xaxis": "x26",
         "y": [
          76.35725721019232,
          107.19631622807202,
          149.16265904040284,
          205.77454821466685,
          281.49612740719436,
          381.9423393012818,
          514.1154864609033,
          686.6754749598566,
          910.2453234209192,
          1197.7529379195912,
          1564.809448206392,
          2030.1235801809983,
          2615.9506161726804,
          3348.573486313845,
          4258.81246408995,
          5382.558834366634,
          6761.3267937708115,
          8442.81676471789,
          10481.482290470247,
          12939.091764265502,
          15885.275464356906,
          19398.047749733312
         ],
         "yaxis": "y26"
        }
       ],
       "layout": {
        "annotations": [
         {
          "font": {
           "size": 13
          },
          "showarrow": false,
          "text": "<b>Solar Photovoltaic</b> in Czech Republic<br>(gompertz's growth rate=1.986)",
          "x": 0.10625,
          "xanchor": "center",
          "xref": "paper",
          "y": 1,
          "yanchor": "bottom",
          "yref": "paper"
         },
         {
          "font": {
           "size": 13
          },
          "showarrow": false,
          "text": "<b>Solar Photovoltaic</b> in Greece<br>(logistic's growth rate=1.456)",
          "x": 0.36875,
          "xanchor": "center",
          "xref": "paper",
          "y": 1,
          "yanchor": "bottom",
          "yref": "paper"
         },
         {
          "font": {
           "size": 13
          },
          "showarrow": false,
          "text": "<b>Solar Photovoltaic</b> in United Kingdom<br>(logistic's growth rate=1.010)",
          "x": 0.6312500000000001,
          "xanchor": "center",
          "xref": "paper",
          "y": 1,
          "yanchor": "bottom",
          "yref": "paper"
         },
         {
          "font": {
           "size": 13
          },
          "showarrow": false,
          "text": "<b>Solar Photovoltaic</b> in Italy<br>(gompertz's growth rate=1.007)",
          "x": 0.89375,
          "xanchor": "center",
          "xref": "paper",
          "y": 1,
          "yanchor": "bottom",
          "yref": "paper"
         },
         {
          "font": {
           "size": 13
          },
          "showarrow": false,
          "text": "<b>Solar Photovoltaic</b> in Turkey<br>(gompertz's growth rate=0.708)",
          "x": 0.10625,
          "xanchor": "center",
          "xref": "paper",
          "y": 0.8534285714285714,
          "yanchor": "bottom",
          "yref": "paper"
         },
         {
          "font": {
           "size": 13
          },
          "showarrow": false,
          "text": "<b>Solar Photovoltaic</b> in Finland<br>(logistic's growth rate=0.699)",
          "x": 0.36875,
          "xanchor": "center",
          "xref": "paper",
          "y": 0.8534285714285714,
          "yanchor": "bottom",
          "yref": "paper"
         },
         {
          "font": {
           "size": 13
          },
          "showarrow": false,
          "text": "<b>Solar Photovoltaic</b> in Canada<br>(logistic's growth rate=0.614)",
          "x": 0.6312500000000001,
          "xanchor": "center",
          "xref": "paper",
          "y": 0.8534285714285714,
          "yanchor": "bottom",
          "yref": "paper"
         },
         {
          "font": {
           "size": 13
          },
          "showarrow": false,
          "text": "<b>Solar Photovoltaic</b> in Sweden<br>(logistic's growth rate=0.571)",
          "x": 0.89375,
          "xanchor": "center",
          "xref": "paper",
          "y": 0.8534285714285714,
          "yanchor": "bottom",
          "yref": "paper"
         },
         {
          "font": {
           "size": 13
          },
          "showarrow": false,
          "text": "<b>Solar Photovoltaic</b> in Slovenia<br>(logistic's growth rate=0.556)",
          "x": 0.10625,
          "xanchor": "center",
          "xref": "paper",
          "y": 0.7068571428571429,
          "yanchor": "bottom",
          "yref": "paper"
         },
         {
          "font": {
           "size": 13
          },
          "showarrow": false,
          "text": "<b>Solar Photovoltaic</b> in Netherlands<br>(logistic's growth rate=0.487)",
          "x": 0.36875,
          "xanchor": "center",
          "xref": "paper",
          "y": 0.7068571428571429,
          "yanchor": "bottom",
          "yref": "paper"
         },
         {
          "font": {
           "size": 13
          },
          "showarrow": false,
          "text": "<b>Solar Photovoltaic</b> in Norway<br>(logistic's growth rate=0.391)",
          "x": 0.6312500000000001,
          "xanchor": "center",
          "xref": "paper",
          "y": 0.7068571428571429,
          "yanchor": "bottom",
          "yref": "paper"
         },
         {
          "font": {
           "size": 13
          },
          "showarrow": false,
          "text": "<b>Solar Photovoltaic</b> in Korea<br>(logistic's growth rate=0.373)",
          "x": 0.89375,
          "xanchor": "center",
          "xref": "paper",
          "y": 0.7068571428571429,
          "yanchor": "bottom",
          "yref": "paper"
         },
         {
          "font": {
           "size": 13
          },
          "showarrow": false,
          "text": "<b>Solar Photovoltaic</b> in Mexico<br>(gompertz's growth rate=0.342)",
          "x": 0.10625,
          "xanchor": "center",
          "xref": "paper",
          "y": 0.5602857142857143,
          "yanchor": "bottom",
          "yref": "paper"
         },
         {
          "font": {
           "size": 13
          },
          "showarrow": false,
          "text": "<b>Solar Photovoltaic</b> in Japan<br>(gompertz's growth rate=0.274)",
          "x": 0.36875,
          "xanchor": "center",
          "xref": "paper",
          "y": 0.5602857142857143,
          "yanchor": "bottom",
          "yref": "paper"
         },
         {
          "font": {
           "size": 13
          },
          "showarrow": false,
          "text": "<b>Solar Photovoltaic</b> in Germany<br>(gompertz's growth rate=0.258)",
          "x": 0.6312500000000001,
          "xanchor": "center",
          "xref": "paper",
          "y": 0.5602857142857143,
          "yanchor": "bottom",
          "yref": "paper"
         },
         {
          "font": {
           "size": 13
          },
          "showarrow": false,
          "text": "<b>Solar Photovoltaic</b> in Portugal<br>(logistic's growth rate=0.240)",
          "x": 0.89375,
          "xanchor": "center",
          "xref": "paper",
          "y": 0.5602857142857143,
          "yanchor": "bottom",
          "yref": "paper"
         },
         {
          "font": {
           "size": 13
          },
          "showarrow": false,
          "text": "<b>Solar Photovoltaic</b> in Denmark<br>(gompertz's growth rate=0.223)",
          "x": 0.10625,
          "xanchor": "center",
          "xref": "paper",
          "y": 0.4137142857142857,
          "yanchor": "bottom",
          "yref": "paper"
         },
         {
          "font": {
           "size": 13
          },
          "showarrow": false,
          "text": "<b>Solar Photovoltaic</b> in Costa Rica<br>(logistic's growth rate=0.221)",
          "x": 0.36875,
          "xanchor": "center",
          "xref": "paper",
          "y": 0.4137142857142857,
          "yanchor": "bottom",
          "yref": "paper"
         },
         {
          "font": {
           "size": 13
          },
          "showarrow": false,
          "text": "<b>Solar Photovoltaic</b> in France<br>(gompertz's growth rate=0.166)",
          "x": 0.6312500000000001,
          "xanchor": "center",
          "xref": "paper",
          "y": 0.4137142857142857,
          "yanchor": "bottom",
          "yref": "paper"
         },
         {
          "font": {
           "size": 13
          },
          "showarrow": false,
          "text": "<b>Solar Photovoltaic</b> in Switzerland<br>(gompertz's growth rate=0.153)",
          "x": 0.89375,
          "xanchor": "center",
          "xref": "paper",
          "y": 0.4137142857142857,
          "yanchor": "bottom",
          "yref": "paper"
         },
         {
          "font": {
           "size": 13
          },
          "showarrow": false,
          "text": "<b>Solar Photovoltaic</b> in Spain<br>(logistic's growth rate=0.151)",
          "x": 0.10625,
          "xanchor": "center",
          "xref": "paper",
          "y": 0.2671428571428571,
          "yanchor": "bottom",
          "yref": "paper"
         },
         {
          "font": {
           "size": 13
          },
          "showarrow": false,
          "text": "<b>Solar Photovoltaic</b> in Belgium<br>(gompertz's growth rate=0.134)",
          "x": 0.36875,
          "xanchor": "center",
          "xref": "paper",
          "y": 0.2671428571428571,
          "yanchor": "bottom",
          "yref": "paper"
         },
         {
          "font": {
           "size": 13
          },
          "showarrow": false,
          "text": "<b>Solar Photovoltaic</b> in Austria<br>(gompertz's growth rate=0.083)",
          "x": 0.6312500000000001,
          "xanchor": "center",
          "xref": "paper",
          "y": 0.2671428571428571,
          "yanchor": "bottom",
          "yref": "paper"
         },
         {
          "font": {
           "size": 13
          },
          "showarrow": false,
          "text": "<b>Solar Photovoltaic</b> in United States<br>(gompertz's growth rate=0.082)",
          "x": 0.89375,
          "xanchor": "center",
          "xref": "paper",
          "y": 0.2671428571428571,
          "yanchor": "bottom",
          "yref": "paper"
         },
         {
          "font": {
           "size": 13
          },
          "showarrow": false,
          "text": "<b>Solar Photovoltaic</b> in Luxembourg<br>(gompertz's growth rate=0.072)",
          "x": 0.10625,
          "xanchor": "center",
          "xref": "paper",
          "y": 0.12057142857142857,
          "yanchor": "bottom",
          "yref": "paper"
         },
         {
          "font": {
           "size": 13
          },
          "showarrow": false,
          "text": "<b>Solar Photovoltaic</b> in Australia<br>(gompertz's growth rate=0.026)",
          "x": 0.36875,
          "xanchor": "center",
          "xref": "paper",
          "y": 0.12057142857142857,
          "yanchor": "bottom",
          "yref": "paper"
         },
         {
          "font": {
           "size": 13
          },
          "showarrow": false,
          "text": "R²: 0.999",
          "x": 2000,
          "xanchor": "left",
          "xref": "x",
          "y": 2122.711,
          "yanchor": "top",
          "yref": "y"
         },
         {
          "font": {
           "size": 13
          },
          "showarrow": false,
          "text": "R²: 0.976",
          "x": 2001,
          "xanchor": "left",
          "xref": "x2",
          "y": 3530,
          "yanchor": "top",
          "yref": "y2"
         },
         {
          "font": {
           "size": 13
          },
          "showarrow": false,
          "text": "R²: 0.999",
          "x": 2000,
          "xanchor": "left",
          "xref": "x3",
          "y": 13689,
          "yanchor": "top",
          "yref": "y3"
         },
         {
          "font": {
           "size": 13
          },
          "showarrow": false,
          "text": "R²: 0.992",
          "x": 2000,
          "xanchor": "left",
          "xref": "x4",
          "y": 22692.04,
          "yanchor": "top",
          "yref": "y4"
         },
         {
          "font": {
           "size": 13
          },
          "showarrow": false,
          "text": "R²: 0.996",
          "x": 2000,
          "xanchor": "left",
          "xref": "x5",
          "y": 7815.555,
          "yanchor": "top",
          "yref": "y5"
         },
         {
          "font": {
           "size": 13
          },
          "showarrow": false,
          "text": "R²: 0.999",
          "x": 2000,
          "xanchor": "left",
          "xref": "x6",
          "y": 404,
          "yanchor": "top",
          "yref": "y6"
         },
         {
          "font": {
           "size": 13
          },
          "showarrow": false,
          "text": "R²: 0.996",
          "x": 2000,
          "xanchor": "left",
          "xref": "x7",
          "y": 3629.6,
          "yanchor": "top",
          "yref": "y7"
         },
         {
          "font": {
           "size": 13
          },
          "showarrow": false,
          "text": "R²: 0.999",
          "x": 2000,
          "xanchor": "left",
          "xref": "x8",
          "y": 1560.4,
          "yanchor": "top",
          "yref": "y8"
         },
         {
          "font": {
           "size": 13
          },
          "showarrow": false,
          "text": "R²: 0.954",
          "x": 2000,
          "xanchor": "left",
          "xref": "x9",
          "y": 369.78,
          "yanchor": "top",
          "yref": "y9"
         },
         {
          "font": {
           "size": 13
          },
          "showarrow": false,
          "text": "R²: 0.998",
          "x": 2000,
          "xanchor": "left",
          "xref": "x10",
          "y": 14249,
          "yanchor": "top",
          "yref": "y10"
         },
         {
          "font": {
           "size": 13
          },
          "showarrow": false,
          "text": "R²: 0.987",
          "x": 2000,
          "xanchor": "left",
          "xref": "x11",
          "y": 206.5,
          "yanchor": "top",
          "yref": "y11"
         },
         {
          "font": {
           "size": 13
          },
          "showarrow": false,
          "text": "R²: 0.998",
          "x": 2000,
          "xanchor": "left",
          "xref": "x12",
          "y": 18160.575,
          "yanchor": "top",
          "yref": "y12"
         },
         {
          "font": {
           "size": 13
          },
          "showarrow": false,
          "text": "R²: 0.995",
          "x": 2000,
          "xanchor": "left",
          "xref": "x13",
          "y": 7026,
          "yanchor": "top",
          "yref": "y13"
         },
         {
          "font": {
           "size": 13
          },
          "showarrow": false,
          "text": "R²: 0.997",
          "x": 2000,
          "xanchor": "left",
          "xref": "x14",
          "y": 74191,
          "yanchor": "top",
          "yref": "y14"
         },
         {
          "font": {
           "size": 13
          },
          "showarrow": false,
          "text": "R²: 0.983",
          "x": 2000,
          "xanchor": "left",
          "xref": "x15",
          "y": 58459,
          "yanchor": "top",
          "yref": "y15"
         },
         {
          "font": {
           "size": 13
          },
          "showarrow": false,
          "text": "R²: 0.964",
          "x": 2000,
          "xanchor": "left",
          "xref": "x16",
          "y": 1711.07,
          "yanchor": "top",
          "yref": "y16"
         },
         {
          "font": {
           "size": 13
          },
          "showarrow": false,
          "text": "R²: 0.974",
          "x": 2000,
          "xanchor": "left",
          "xref": "x17",
          "y": 1540.294,
          "yanchor": "top",
          "yref": "y17"
         },
         {
          "font": {
           "size": 13
          },
          "showarrow": false,
          "text": "R²: 0.988",
          "x": 2000,
          "xanchor": "left",
          "xref": "x18",
          "y": 72.101,
          "yanchor": "top",
          "yref": "y18"
         },
         {
          "font": {
           "size": 13
          },
          "showarrow": false,
          "text": "R²: 0.986",
          "x": 2000,
          "xanchor": "left",
          "xref": "x19",
          "y": 14499.204,
          "yanchor": "top",
          "yref": "y19"
         },
         {
          "font": {
           "size": 13
          },
          "showarrow": false,
          "text": "R²: 0.996",
          "x": 2000,
          "xanchor": "left",
          "xref": "x20",
          "y": 3448.78,
          "yanchor": "top",
          "yref": "y20"
         },
         {
          "font": {
           "size": 13
          },
          "showarrow": false,
          "text": "R²: 0.876",
          "x": 2000,
          "xanchor": "left",
          "xref": "x21",
          "y": 13613.311,
          "yanchor": "top",
          "yref": "y21"
         },
         {
          "font": {
           "size": 13
          },
          "showarrow": false,
          "text": "R²: 0.958",
          "x": 2002,
          "xanchor": "left",
          "xref": "x22",
          "y": 6584.6,
          "yanchor": "top",
          "yref": "y22"
         },
         {
          "font": {
           "size": 13
          },
          "showarrow": false,
          "text": "R²: 0.988",
          "x": 2000,
          "xanchor": "left",
          "xref": "x23",
          "y": 2683.737,
          "yanchor": "top",
          "yref": "y23"
         },
         {
          "font": {
           "size": 13
          },
          "showarrow": false,
          "text": "R²: 0.998",
          "x": 2000,
          "xanchor": "left",
          "xref": "x24",
          "y": 93713.013,
          "yanchor": "top",
          "yref": "y24"
         },
         {
          "font": {
           "size": 13
          },
          "showarrow": false,
          "text": "R²: 0.971",
          "x": 2001,
          "xanchor": "left",
          "xref": "x25",
          "y": 208.643,
          "yanchor": "top",
          "yref": "y25"
         },
         {
          "font": {
           "size": 13
          },
          "showarrow": false,
          "text": "R²: 0.980",
          "x": 2000,
          "xanchor": "left",
          "xref": "x26",
          "y": 19074,
          "yanchor": "top",
          "yref": "y26"
         }
        ],
        "font": {
         "size": 11
        },
        "height": 2450,
        "showlegend": false,
        "template": {
         "data": {
          "bar": [
           {
            "error_x": {
             "color": "#2a3f5f"
            },
            "error_y": {
             "color": "#2a3f5f"
            },
            "marker": {
             "line": {
              "color": "white",
              "width": 0.5
             },
             "pattern": {
              "fillmode": "overlay",
              "size": 10,
              "solidity": 0.2
             }
            },
            "type": "bar"
           }
          ],
          "barpolar": [
           {
            "marker": {
             "line": {
              "color": "white",
              "width": 0.5
             },
             "pattern": {
              "fillmode": "overlay",
              "size": 10,
              "solidity": 0.2
             }
            },
            "type": "barpolar"
           }
          ],
          "carpet": [
           {
            "aaxis": {
             "endlinecolor": "#2a3f5f",
             "gridcolor": "#C8D4E3",
             "linecolor": "#C8D4E3",
             "minorgridcolor": "#C8D4E3",
             "startlinecolor": "#2a3f5f"
            },
            "baxis": {
             "endlinecolor": "#2a3f5f",
             "gridcolor": "#C8D4E3",
             "linecolor": "#C8D4E3",
             "minorgridcolor": "#C8D4E3",
             "startlinecolor": "#2a3f5f"
            },
            "type": "carpet"
           }
          ],
          "choropleth": [
           {
            "colorbar": {
             "outlinewidth": 0,
             "ticks": ""
            },
            "type": "choropleth"
           }
          ],
          "contour": [
           {
            "colorbar": {
             "outlinewidth": 0,
             "ticks": ""
            },
            "colorscale": [
             [
              0,
              "#0d0887"
             ],
             [
              0.1111111111111111,
              "#46039f"
             ],
             [
              0.2222222222222222,
              "#7201a8"
             ],
             [
              0.3333333333333333,
              "#9c179e"
             ],
             [
              0.4444444444444444,
              "#bd3786"
             ],
             [
              0.5555555555555556,
              "#d8576b"
             ],
             [
              0.6666666666666666,
              "#ed7953"
             ],
             [
              0.7777777777777778,
              "#fb9f3a"
             ],
             [
              0.8888888888888888,
              "#fdca26"
             ],
             [
              1,
              "#f0f921"
             ]
            ],
            "type": "contour"
           }
          ],
          "contourcarpet": [
           {
            "colorbar": {
             "outlinewidth": 0,
             "ticks": ""
            },
            "type": "contourcarpet"
           }
          ],
          "heatmap": [
           {
            "colorbar": {
             "outlinewidth": 0,
             "ticks": ""
            },
            "colorscale": [
             [
              0,
              "#0d0887"
             ],
             [
              0.1111111111111111,
              "#46039f"
             ],
             [
              0.2222222222222222,
              "#7201a8"
             ],
             [
              0.3333333333333333,
              "#9c179e"
             ],
             [
              0.4444444444444444,
              "#bd3786"
             ],
             [
              0.5555555555555556,
              "#d8576b"
             ],
             [
              0.6666666666666666,
              "#ed7953"
             ],
             [
              0.7777777777777778,
              "#fb9f3a"
             ],
             [
              0.8888888888888888,
              "#fdca26"
             ],
             [
              1,
              "#f0f921"
             ]
            ],
            "type": "heatmap"
           }
          ],
          "heatmapgl": [
           {
            "colorbar": {
             "outlinewidth": 0,
             "ticks": ""
            },
            "colorscale": [
             [
              0,
              "#0d0887"
             ],
             [
              0.1111111111111111,
              "#46039f"
             ],
             [
              0.2222222222222222,
              "#7201a8"
             ],
             [
              0.3333333333333333,
              "#9c179e"
             ],
             [
              0.4444444444444444,
              "#bd3786"
             ],
             [
              0.5555555555555556,
              "#d8576b"
             ],
             [
              0.6666666666666666,
              "#ed7953"
             ],
             [
              0.7777777777777778,
              "#fb9f3a"
             ],
             [
              0.8888888888888888,
              "#fdca26"
             ],
             [
              1,
              "#f0f921"
             ]
            ],
            "type": "heatmapgl"
           }
          ],
          "histogram": [
           {
            "marker": {
             "pattern": {
              "fillmode": "overlay",
              "size": 10,
              "solidity": 0.2
             }
            },
            "type": "histogram"
           }
          ],
          "histogram2d": [
           {
            "colorbar": {
             "outlinewidth": 0,
             "ticks": ""
            },
            "colorscale": [
             [
              0,
              "#0d0887"
             ],
             [
              0.1111111111111111,
              "#46039f"
             ],
             [
              0.2222222222222222,
              "#7201a8"
             ],
             [
              0.3333333333333333,
              "#9c179e"
             ],
             [
              0.4444444444444444,
              "#bd3786"
             ],
             [
              0.5555555555555556,
              "#d8576b"
             ],
             [
              0.6666666666666666,
              "#ed7953"
             ],
             [
              0.7777777777777778,
              "#fb9f3a"
             ],
             [
              0.8888888888888888,
              "#fdca26"
             ],
             [
              1,
              "#f0f921"
             ]
            ],
            "type": "histogram2d"
           }
          ],
          "histogram2dcontour": [
           {
            "colorbar": {
             "outlinewidth": 0,
             "ticks": ""
            },
            "colorscale": [
             [
              0,
              "#0d0887"
             ],
             [
              0.1111111111111111,
              "#46039f"
             ],
             [
              0.2222222222222222,
              "#7201a8"
             ],
             [
              0.3333333333333333,
              "#9c179e"
             ],
             [
              0.4444444444444444,
              "#bd3786"
             ],
             [
              0.5555555555555556,
              "#d8576b"
             ],
             [
              0.6666666666666666,
              "#ed7953"
             ],
             [
              0.7777777777777778,
              "#fb9f3a"
             ],
             [
              0.8888888888888888,
              "#fdca26"
             ],
             [
              1,
              "#f0f921"
             ]
            ],
            "type": "histogram2dcontour"
           }
          ],
          "mesh3d": [
           {
            "colorbar": {
             "outlinewidth": 0,
             "ticks": ""
            },
            "type": "mesh3d"
           }
          ],
          "parcoords": [
           {
            "line": {
             "colorbar": {
              "outlinewidth": 0,
              "ticks": ""
             }
            },
            "type": "parcoords"
           }
          ],
          "pie": [
           {
            "automargin": true,
            "type": "pie"
           }
          ],
          "scatter": [
           {
            "fillpattern": {
             "fillmode": "overlay",
             "size": 10,
             "solidity": 0.2
            },
            "type": "scatter"
           }
          ],
          "scatter3d": [
           {
            "line": {
             "colorbar": {
              "outlinewidth": 0,
              "ticks": ""
             }
            },
            "marker": {
             "colorbar": {
              "outlinewidth": 0,
              "ticks": ""
             }
            },
            "type": "scatter3d"
           }
          ],
          "scattercarpet": [
           {
            "marker": {
             "colorbar": {
              "outlinewidth": 0,
              "ticks": ""
             }
            },
            "type": "scattercarpet"
           }
          ],
          "scattergeo": [
           {
            "marker": {
             "colorbar": {
              "outlinewidth": 0,
              "ticks": ""
             }
            },
            "type": "scattergeo"
           }
          ],
          "scattergl": [
           {
            "marker": {
             "colorbar": {
              "outlinewidth": 0,
              "ticks": ""
             }
            },
            "type": "scattergl"
           }
          ],
          "scattermapbox": [
           {
            "marker": {
             "colorbar": {
              "outlinewidth": 0,
              "ticks": ""
             }
            },
            "type": "scattermapbox"
           }
          ],
          "scatterpolar": [
           {
            "marker": {
             "colorbar": {
              "outlinewidth": 0,
              "ticks": ""
             }
            },
            "type": "scatterpolar"
           }
          ],
          "scatterpolargl": [
           {
            "marker": {
             "colorbar": {
              "outlinewidth": 0,
              "ticks": ""
             }
            },
            "type": "scatterpolargl"
           }
          ],
          "scatterternary": [
           {
            "marker": {
             "colorbar": {
              "outlinewidth": 0,
              "ticks": ""
             }
            },
            "type": "scatterternary"
           }
          ],
          "surface": [
           {
            "colorbar": {
             "outlinewidth": 0,
             "ticks": ""
            },
            "colorscale": [
             [
              0,
              "#0d0887"
             ],
             [
              0.1111111111111111,
              "#46039f"
             ],
             [
              0.2222222222222222,
              "#7201a8"
             ],
             [
              0.3333333333333333,
              "#9c179e"
             ],
             [
              0.4444444444444444,
              "#bd3786"
             ],
             [
              0.5555555555555556,
              "#d8576b"
             ],
             [
              0.6666666666666666,
              "#ed7953"
             ],
             [
              0.7777777777777778,
              "#fb9f3a"
             ],
             [
              0.8888888888888888,
              "#fdca26"
             ],
             [
              1,
              "#f0f921"
             ]
            ],
            "type": "surface"
           }
          ],
          "table": [
           {
            "cells": {
             "fill": {
              "color": "#EBF0F8"
             },
             "line": {
              "color": "white"
             }
            },
            "header": {
             "fill": {
              "color": "#C8D4E3"
             },
             "line": {
              "color": "white"
             }
            },
            "type": "table"
           }
          ]
         },
         "layout": {
          "annotationdefaults": {
           "arrowcolor": "#2a3f5f",
           "arrowhead": 0,
           "arrowwidth": 1
          },
          "autotypenumbers": "strict",
          "coloraxis": {
           "colorbar": {
            "outlinewidth": 0,
            "ticks": ""
           }
          },
          "colorscale": {
           "diverging": [
            [
             0,
             "#8e0152"
            ],
            [
             0.1,
             "#c51b7d"
            ],
            [
             0.2,
             "#de77ae"
            ],
            [
             0.3,
             "#f1b6da"
            ],
            [
             0.4,
             "#fde0ef"
            ],
            [
             0.5,
             "#f7f7f7"
            ],
            [
             0.6,
             "#e6f5d0"
            ],
            [
             0.7,
             "#b8e186"
            ],
            [
             0.8,
             "#7fbc41"
            ],
            [
             0.9,
             "#4d9221"
            ],
            [
             1,
             "#276419"
            ]
           ],
           "sequential": [
            [
             0,
             "#0d0887"
            ],
            [
             0.1111111111111111,
             "#46039f"
            ],
            [
             0.2222222222222222,
             "#7201a8"
            ],
            [
             0.3333333333333333,
             "#9c179e"
            ],
            [
             0.4444444444444444,
             "#bd3786"
            ],
            [
             0.5555555555555556,
             "#d8576b"
            ],
            [
             0.6666666666666666,
             "#ed7953"
            ],
            [
             0.7777777777777778,
             "#fb9f3a"
            ],
            [
             0.8888888888888888,
             "#fdca26"
            ],
            [
             1,
             "#f0f921"
            ]
           ],
           "sequentialminus": [
            [
             0,
             "#0d0887"
            ],
            [
             0.1111111111111111,
             "#46039f"
            ],
            [
             0.2222222222222222,
             "#7201a8"
            ],
            [
             0.3333333333333333,
             "#9c179e"
            ],
            [
             0.4444444444444444,
             "#bd3786"
            ],
            [
             0.5555555555555556,
             "#d8576b"
            ],
            [
             0.6666666666666666,
             "#ed7953"
            ],
            [
             0.7777777777777778,
             "#fb9f3a"
            ],
            [
             0.8888888888888888,
             "#fdca26"
            ],
            [
             1,
             "#f0f921"
            ]
           ]
          },
          "colorway": [
           "#636efa",
           "#EF553B",
           "#00cc96",
           "#ab63fa",
           "#FFA15A",
           "#19d3f3",
           "#FF6692",
           "#B6E880",
           "#FF97FF",
           "#FECB52"
          ],
          "font": {
           "color": "#2a3f5f"
          },
          "geo": {
           "bgcolor": "white",
           "lakecolor": "white",
           "landcolor": "white",
           "showlakes": true,
           "showland": true,
           "subunitcolor": "#C8D4E3"
          },
          "hoverlabel": {
           "align": "left"
          },
          "hovermode": "closest",
          "mapbox": {
           "style": "light"
          },
          "paper_bgcolor": "white",
          "plot_bgcolor": "white",
          "polar": {
           "angularaxis": {
            "gridcolor": "#EBF0F8",
            "linecolor": "#EBF0F8",
            "ticks": ""
           },
           "bgcolor": "white",
           "radialaxis": {
            "gridcolor": "#EBF0F8",
            "linecolor": "#EBF0F8",
            "ticks": ""
           }
          },
          "scene": {
           "xaxis": {
            "backgroundcolor": "white",
            "gridcolor": "#DFE8F3",
            "gridwidth": 2,
            "linecolor": "#EBF0F8",
            "showbackground": true,
            "ticks": "",
            "zerolinecolor": "#EBF0F8"
           },
           "yaxis": {
            "backgroundcolor": "white",
            "gridcolor": "#DFE8F3",
            "gridwidth": 2,
            "linecolor": "#EBF0F8",
            "showbackground": true,
            "ticks": "",
            "zerolinecolor": "#EBF0F8"
           },
           "zaxis": {
            "backgroundcolor": "white",
            "gridcolor": "#DFE8F3",
            "gridwidth": 2,
            "linecolor": "#EBF0F8",
            "showbackground": true,
            "ticks": "",
            "zerolinecolor": "#EBF0F8"
           }
          },
          "shapedefaults": {
           "line": {
            "color": "#2a3f5f"
           }
          },
          "ternary": {
           "aaxis": {
            "gridcolor": "#DFE8F3",
            "linecolor": "#A2B1C6",
            "ticks": ""
           },
           "baxis": {
            "gridcolor": "#DFE8F3",
            "linecolor": "#A2B1C6",
            "ticks": ""
           },
           "bgcolor": "white",
           "caxis": {
            "gridcolor": "#DFE8F3",
            "linecolor": "#A2B1C6",
            "ticks": ""
           }
          },
          "title": {
           "x": 0.05
          },
          "xaxis": {
           "automargin": true,
           "gridcolor": "#EBF0F8",
           "linecolor": "#EBF0F8",
           "ticks": "",
           "title": {
            "standoff": 15
           },
           "zerolinecolor": "#EBF0F8",
           "zerolinewidth": 2
          },
          "yaxis": {
           "automargin": true,
           "gridcolor": "#EBF0F8",
           "linecolor": "#EBF0F8",
           "ticks": "",
           "title": {
            "standoff": 15
           },
           "zerolinecolor": "#EBF0F8",
           "zerolinewidth": 2
          }
         }
        },
        "title": {
         "text": "Historical growth rates"
        },
        "width": 1600,
        "xaxis": {
         "anchor": "y",
         "domain": [
          0,
          0.2125
         ]
        },
        "xaxis10": {
         "anchor": "y10",
         "domain": [
          0.2625,
          0.475
         ]
        },
        "xaxis11": {
         "anchor": "y11",
         "domain": [
          0.525,
          0.7375
         ]
        },
        "xaxis12": {
         "anchor": "y12",
         "domain": [
          0.7875,
          1
         ]
        },
        "xaxis13": {
         "anchor": "y13",
         "domain": [
          0,
          0.2125
         ]
        },
        "xaxis14": {
         "anchor": "y14",
         "domain": [
          0.2625,
          0.475
         ]
        },
        "xaxis15": {
         "anchor": "y15",
         "domain": [
          0.525,
          0.7375
         ]
        },
        "xaxis16": {
         "anchor": "y16",
         "domain": [
          0.7875,
          1
         ]
        },
        "xaxis17": {
         "anchor": "y17",
         "domain": [
          0,
          0.2125
         ]
        },
        "xaxis18": {
         "anchor": "y18",
         "domain": [
          0.2625,
          0.475
         ]
        },
        "xaxis19": {
         "anchor": "y19",
         "domain": [
          0.525,
          0.7375
         ]
        },
        "xaxis2": {
         "anchor": "y2",
         "domain": [
          0.2625,
          0.475
         ]
        },
        "xaxis20": {
         "anchor": "y20",
         "domain": [
          0.7875,
          1
         ]
        },
        "xaxis21": {
         "anchor": "y21",
         "domain": [
          0,
          0.2125
         ]
        },
        "xaxis22": {
         "anchor": "y22",
         "domain": [
          0.2625,
          0.475
         ]
        },
        "xaxis23": {
         "anchor": "y23",
         "domain": [
          0.525,
          0.7375
         ]
        },
        "xaxis24": {
         "anchor": "y24",
         "domain": [
          0.7875,
          1
         ]
        },
        "xaxis25": {
         "anchor": "y25",
         "domain": [
          0,
          0.2125
         ]
        },
        "xaxis26": {
         "anchor": "y26",
         "domain": [
          0.2625,
          0.475
         ]
        },
        "xaxis27": {
         "anchor": "y27",
         "domain": [
          0.525,
          0.7375
         ]
        },
        "xaxis28": {
         "anchor": "y28",
         "domain": [
          0.7875,
          1
         ]
        },
        "xaxis3": {
         "anchor": "y3",
         "domain": [
          0.525,
          0.7375
         ]
        },
        "xaxis4": {
         "anchor": "y4",
         "domain": [
          0.7875,
          1
         ]
        },
        "xaxis5": {
         "anchor": "y5",
         "domain": [
          0,
          0.2125
         ]
        },
        "xaxis6": {
         "anchor": "y6",
         "domain": [
          0.2625,
          0.475
         ]
        },
        "xaxis7": {
         "anchor": "y7",
         "domain": [
          0.525,
          0.7375
         ]
        },
        "xaxis8": {
         "anchor": "y8",
         "domain": [
          0.7875,
          1
         ]
        },
        "xaxis9": {
         "anchor": "y9",
         "domain": [
          0,
          0.2125
         ]
        },
        "yaxis": {
         "anchor": "x",
         "domain": [
          0.8794285714285714,
          1
         ],
         "title": {
          "standoff": 5,
          "text": "Installed Capacity [MW]"
         }
        },
        "yaxis10": {
         "anchor": "x10",
         "domain": [
          0.5862857142857143,
          0.7068571428571429
         ],
         "title": {
          "standoff": 5,
          "text": "Installed Capacity [MW]"
         }
        },
        "yaxis11": {
         "anchor": "x11",
         "domain": [
          0.5862857142857143,
          0.7068571428571429
         ],
         "title": {
          "standoff": 5,
          "text": "Installed Capacity [MW]"
         }
        },
        "yaxis12": {
         "anchor": "x12",
         "domain": [
          0.5862857142857143,
          0.7068571428571429
         ],
         "title": {
          "standoff": 5,
          "text": "Installed Capacity [MW]"
         }
        },
        "yaxis13": {
         "anchor": "x13",
         "domain": [
          0.4397142857142857,
          0.5602857142857143
         ],
         "title": {
          "standoff": 5,
          "text": "Installed Capacity [MW]"
         }
        },
        "yaxis14": {
         "anchor": "x14",
         "domain": [
          0.4397142857142857,
          0.5602857142857143
         ],
         "title": {
          "standoff": 5,
          "text": "Installed Capacity [MW]"
         }
        },
        "yaxis15": {
         "anchor": "x15",
         "domain": [
          0.4397142857142857,
          0.5602857142857143
         ],
         "title": {
          "standoff": 5,
          "text": "Installed Capacity [MW]"
         }
        },
        "yaxis16": {
         "anchor": "x16",
         "domain": [
          0.4397142857142857,
          0.5602857142857143
         ],
         "title": {
          "standoff": 5,
          "text": "Installed Capacity [MW]"
         }
        },
        "yaxis17": {
         "anchor": "x17",
         "domain": [
          0.29314285714285715,
          0.4137142857142857
         ],
         "title": {
          "standoff": 5,
          "text": "Installed Capacity [MW]"
         }
        },
        "yaxis18": {
         "anchor": "x18",
         "domain": [
          0.29314285714285715,
          0.4137142857142857
         ],
         "title": {
          "standoff": 5,
          "text": "Installed Capacity [MW]"
         }
        },
        "yaxis19": {
         "anchor": "x19",
         "domain": [
          0.29314285714285715,
          0.4137142857142857
         ],
         "title": {
          "standoff": 5,
          "text": "Installed Capacity [MW]"
         }
        },
        "yaxis2": {
         "anchor": "x2",
         "domain": [
          0.8794285714285714,
          1
         ],
         "title": {
          "standoff": 5,
          "text": "Installed Capacity [MW]"
         }
        },
        "yaxis20": {
         "anchor": "x20",
         "domain": [
          0.29314285714285715,
          0.4137142857142857
         ],
         "title": {
          "standoff": 5,
          "text": "Installed Capacity [MW]"
         }
        },
        "yaxis21": {
         "anchor": "x21",
         "domain": [
          0.14657142857142857,
          0.2671428571428571
         ],
         "title": {
          "standoff": 5,
          "text": "Installed Capacity [MW]"
         }
        },
        "yaxis22": {
         "anchor": "x22",
         "domain": [
          0.14657142857142857,
          0.2671428571428571
         ],
         "title": {
          "standoff": 5,
          "text": "Installed Capacity [MW]"
         }
        },
        "yaxis23": {
         "anchor": "x23",
         "domain": [
          0.14657142857142857,
          0.2671428571428571
         ],
         "title": {
          "standoff": 5,
          "text": "Installed Capacity [MW]"
         }
        },
        "yaxis24": {
         "anchor": "x24",
         "domain": [
          0.14657142857142857,
          0.2671428571428571
         ],
         "title": {
          "standoff": 5,
          "text": "Installed Capacity [MW]"
         }
        },
        "yaxis25": {
         "anchor": "x25",
         "domain": [
          0,
          0.12057142857142857
         ],
         "title": {
          "standoff": 5,
          "text": "Installed Capacity [MW]"
         }
        },
        "yaxis26": {
         "anchor": "x26",
         "domain": [
          0,
          0.12057142857142857
         ],
         "title": {
          "standoff": 5,
          "text": "Installed Capacity [MW]"
         }
        },
        "yaxis27": {
         "anchor": "x27",
         "domain": [
          0,
          0.12057142857142857
         ]
        },
        "yaxis28": {
         "anchor": "x28",
         "domain": [
          0,
          0.12057142857142857
         ]
        },
        "yaxis3": {
         "anchor": "x3",
         "domain": [
          0.8794285714285714,
          1
         ],
         "title": {
          "standoff": 5,
          "text": "Installed Capacity [MW]"
         }
        },
        "yaxis4": {
         "anchor": "x4",
         "domain": [
          0.8794285714285714,
          1
         ],
         "title": {
          "standoff": 5,
          "text": "Installed Capacity [MW]"
         }
        },
        "yaxis5": {
         "anchor": "x5",
         "domain": [
          0.7328571428571429,
          0.8534285714285714
         ],
         "title": {
          "standoff": 5,
          "text": "Installed Capacity [MW]"
         }
        },
        "yaxis6": {
         "anchor": "x6",
         "domain": [
          0.7328571428571429,
          0.8534285714285714
         ],
         "title": {
          "standoff": 5,
          "text": "Installed Capacity [MW]"
         }
        },
        "yaxis7": {
         "anchor": "x7",
         "domain": [
          0.7328571428571429,
          0.8534285714285714
         ],
         "title": {
          "standoff": 5,
          "text": "Installed Capacity [MW]"
         }
        },
        "yaxis8": {
         "anchor": "x8",
         "domain": [
          0.7328571428571429,
          0.8534285714285714
         ],
         "title": {
          "standoff": 5,
          "text": "Installed Capacity [MW]"
         }
        },
        "yaxis9": {
         "anchor": "x9",
         "domain": [
          0.5862857142857143,
          0.7068571428571429
         ],
         "title": {
          "standoff": 5,
          "text": "Installed Capacity [MW]"
         }
        }
       }
      }
     },
     "metadata": {},
     "output_type": "display_data"
    }
   ],
   "source": [
    "plot_growth_rates(\n",
    "    # data=data_clean[data_clean['metric'] != 'Annual Production'],\n",
    "    tech='Solar Photovoltaic', \n",
    "    # country='World',\n",
    "    # sort_by='r2'\n",
    "    )"
   ]
  },
  {
   "cell_type": "code",
   "execution_count": 1043,
   "metadata": {},
   "outputs": [
    {
     "name": "stdout",
     "output_type": "stream",
     "text": [
      "Optimal gompertz params not found in Steamships from Austria, removed row\n",
      "Optimal gompertz params not found in Steamships from Italy, removed row\n"
     ]
    },
    {
     "name": "stderr",
     "output_type": "stream",
     "text": [
      "C:\\Users\\rashi\\AppData\\Local\\Temp\\ipykernel_34016\\2063325136.py:5: RuntimeWarning:\n",
      "\n",
      "overflow encountered in exp\n",
      "\n",
      "C:\\Users\\rashi\\AppData\\Local\\Temp\\ipykernel_34016\\2063325136.py:43: OptimizeWarning:\n",
      "\n",
      "Covariance of the parameters could not be estimated\n",
      "\n",
      "C:\\Users\\rashi\\AppData\\Local\\Temp\\ipykernel_34016\\2063325136.py:3: RuntimeWarning:\n",
      "\n",
      "overflow encountered in exp\n",
      "\n"
     ]
    },
    {
     "name": "stdout",
     "output_type": "stream",
     "text": [
      "Optimal gompertz params not found in Silver from Australia, removed row\n",
      "Optimal gompertz params not found in Steamships from Mexico, removed row\n",
      "Optimal gompertz params not found in Telephones from France, removed row\n",
      "Optimal gompertz params not found in Telephones from Denmark, removed row\n",
      "Optimal gompertz params not found in Telephones from Norway, removed row\n",
      "Optimal gompertz params not found in Telephones from Hungary, removed row\n",
      "Optimal gompertz params not found in Zinc from Mexico, removed row\n",
      "Optimal gompertz params not found in Railroad from Korea, removed row\n",
      "Optimal gompertz params not found in Silver from Korea, removed row\n",
      "Optimal gompertz params not found in Radio from Austria, removed row\n",
      "Optimal logistic params not found in Crude Oil from Israel, removed row\n",
      "Optimal gompertz params not found in Television from Mexico, removed row\n",
      "Optimal gompertz params not found in Hydroelectricity from Czech Republic, removed row\n",
      "Optimal gompertz params not found in Renewable Power from United States, removed row\n",
      "Optimal gompertz params not found in Nuclear Energy from Italy, removed row\n",
      "Optimal gompertz params not found in Oil Refining Capacity from New Zealand, removed row\n",
      "Optimal gompertz params not found in Renewable Power from Australia, removed row\n",
      "Optimal gompertz params not found in Renewable Power from New Zealand, removed row\n",
      "Optimal gompertz params not found in Hydroelectricity from United Kingdom, removed row\n",
      "Optimal gompertz params not found in Nickel Production from Australia, removed row\n",
      "Optimal gompertz params not found in Renewable Power from Japan, removed row\n",
      "Optimal gompertz params not found in Natural Gas Production from Australia, removed row\n",
      "Optimal gompertz params not found in Renewable Power from Chile, removed row\n",
      "Optimal gompertz params not found in Renewable Power from Mexico, removed row\n",
      "Optimal gompertz params not found in Renewable Power from Colombia, removed row\n",
      "Optimal gompertz params not found in Renewable Power from Netherlands, removed row\n",
      "Optimal gompertz params not found in Telephones from Slovak Republic, removed row\n",
      "Optimal gompertz params not found in Telephones from Luxembourg, removed row\n",
      "Optimal gompertz params not found in Renewable Power from Canada, removed row\n",
      "Optimal gompertz params not found in Renewable Power from Luxembourg, removed row\n",
      "Optimal gompertz params not found in Renewable Power from Switzerland, removed row\n",
      "Optimal gompertz params not found in Telephones from Czech Republic, removed row\n",
      "Optimal gompertz params not found in Television from Latvia, removed row\n",
      "Optimal gompertz params not found in Renewable Power from Norway, removed row\n",
      "Optimal gompertz params not found in Electricity from Sweden, removed row\n",
      "Optimal gompertz params not found in Electricity from Poland, removed row\n",
      "Optimal gompertz params not found in Electricity from Norway, removed row\n",
      "Optimal gompertz params not found in Renewable Power from Finland, removed row\n",
      "Optimal gompertz params not found in Hydroelectricity from Slovenia, removed row\n",
      "Optimal gompertz params not found in Salt Production from New Zealand, removed row\n",
      "Optimal gompertz params not found in Salt Production from Austria, removed row\n",
      "Optimal gompertz params not found in Lead from Turkey, removed row\n",
      "Optimal gompertz params not found in Salt Production from Turkey, removed row\n",
      "Optimal gompertz params not found in Salt Production from Switzerland, removed row\n",
      "Optimal gompertz params not found in Primary Aluminum Production from Japan, removed row\n",
      "Optimal gompertz params not found in Primary Aluminum Production from Sweden, removed row\n",
      "Optimal gompertz params not found in Raw Steel Production from Portugal, removed row\n",
      "Optimal gompertz params not found in Iron Ore from Chile, removed row\n",
      "Optimal gompertz params not found in Iron Ore from Korea, removed row\n",
      "Optimal gompertz params not found in Iron Ore from Mexico, removed row\n",
      "Optimal gompertz params not found in Copper|Refining from Austria, removed row\n",
      "Optimal gompertz params not found in Iron Ore from Sweden, removed row\n",
      "Optimal gompertz params not found in Iron Ore from Australia, removed row\n",
      "Optimal gompertz params not found in Raw Steel Production from Colombia, removed row\n",
      "Optimal gompertz params not found in Raw Steel Production from Turkey, removed row\n",
      "Optimal gompertz params not found in Onshore Wind Energy from Finland, removed row\n",
      "Optimal gompertz params not found in Onshore Wind Energy from Netherlands, removed row\n",
      "Optimal gompertz params not found in Onshore Wind Energy from Norway, removed row\n",
      "Optimal gompertz params not found in Onshore Wind Energy from Denmark, removed row\n",
      "Optimal gompertz params not found in Geothermal Energy from Costa Rica, removed row\n",
      "Optimal gompertz params not found in Solid Biofuels from Turkey, removed row\n",
      "Optimal gompertz params not found in Geothermal Energy from United States, removed row\n",
      "Optimal gompertz params not found in Solid Biofuels from France, removed row\n",
      "Optimal gompertz params not found in Solid Biofuels from Japan, removed row\n",
      "Optimal gompertz params not found in Solid Biofuels from Mexico, removed row\n",
      "Optimal gompertz params not found in Solid Biofuels from Finland, removed row\n",
      "Optimal gompertz params not found in Solid Biofuels from Costa Rica, removed row\n",
      "Optimal gompertz params not found in Solar Photovoltaic from Spain, removed row\n"
     ]
    },
    {
     "name": "stderr",
     "output_type": "stream",
     "text": [
      "C:\\Users\\rashi\\AppData\\Local\\Temp\\ipykernel_34016\\2063325136.py:51: RuntimeWarning:\n",
      "\n",
      "divide by zero encountered in scalar divide\n",
      "\n"
     ]
    },
    {
     "name": "stdout",
     "output_type": "stream",
     "text": [
      "Optimal gompertz params not found in Biogas from Turkey, removed row\n",
      "Optimal gompertz params not found in Solar Photovoltaic from Norway, removed row\n",
      "Optimal gompertz params not found in Solar Photovoltaic from Portugal, removed row\n",
      "Optimal gompertz params not found in Biogas from Greece, removed row\n",
      "Optimal gompertz params not found in Solar Photovoltaic from Costa Rica, removed row\n",
      "Optimal gompertz params not found in All Biofuels from Sweden, removed row\n",
      "Optimal gompertz params not found in Oil Pipeline from United States, removed row\n",
      "Optimal gompertz params not found in Air-Source Heat Pumps from United States, removed row\n"
     ]
    }
   ],
   "source": [
    "k_rates = growth_rate_fitting(\n",
    "    data=data_clean[data_clean['country'] != 'World'],\n",
    "    # tech='Passenger Cars',\n",
    "    # country='United States',\n",
    "    # sort_by='r2'\n",
    "    )"
   ]
  },
  {
   "cell_type": "code",
   "execution_count": null,
   "metadata": {},
   "outputs": [
    {
     "data": {
      "text/html": [
       "<div>\n",
       "<style scoped>\n",
       "    .dataframe tbody tr th:only-of-type {\n",
       "        vertical-align: middle;\n",
       "    }\n",
       "\n",
       "    .dataframe tbody tr th {\n",
       "        vertical-align: top;\n",
       "    }\n",
       "\n",
       "    .dataframe thead th {\n",
       "        text-align: right;\n",
       "    }\n",
       "</style>\n",
       "<table border=\"1\" class=\"dataframe\">\n",
       "  <thead>\n",
       "    <tr style=\"text-align: right;\">\n",
       "      <th></th>\n",
       "      <th>tech</th>\n",
       "      <th>country</th>\n",
       "      <th>metric</th>\n",
       "      <th>unit</th>\n",
       "      <th>rate</th>\n",
       "      <th>asymptote</th>\n",
       "      <th>inflection</th>\n",
       "      <th>r2</th>\n",
       "      <th>rmse</th>\n",
       "      <th>mae</th>\n",
       "      <th>formulation</th>\n",
       "    </tr>\n",
       "  </thead>\n",
       "  <tbody>\n",
       "    <tr>\n",
       "      <th>0</th>\n",
       "      <td>Hydroelectricity</td>\n",
       "      <td>Israel</td>\n",
       "      <td>Annual Production</td>\n",
       "      <td>TWh</td>\n",
       "      <td>30.924812</td>\n",
       "      <td>2.441250e-02</td>\n",
       "      <td>1991.036256</td>\n",
       "      <td>0.697137</td>\n",
       "      <td>0.005994</td>\n",
       "      <td>0.004601</td>\n",
       "      <td>logistic</td>\n",
       "    </tr>\n",
       "    <tr>\n",
       "      <th>1</th>\n",
       "      <td>Crude Oil</td>\n",
       "      <td>Israel</td>\n",
       "      <td>Annual Production</td>\n",
       "      <td>thousand metric tons</td>\n",
       "      <td>17.238686</td>\n",
       "      <td>9.855000e+02</td>\n",
       "      <td>1966.029093</td>\n",
       "      <td>0.041023</td>\n",
       "      <td>1746.890953</td>\n",
       "      <td>1185.865951</td>\n",
       "      <td>gompertz</td>\n",
       "    </tr>\n",
       "    <tr>\n",
       "      <th>2</th>\n",
       "      <td>Crop Harvester</td>\n",
       "      <td>Iceland</td>\n",
       "      <td>Total Number</td>\n",
       "      <td>-</td>\n",
       "      <td>16.862575</td>\n",
       "      <td>7.275000e+00</td>\n",
       "      <td>1960.902349</td>\n",
       "      <td>0.001791</td>\n",
       "      <td>4.643314</td>\n",
       "      <td>3.164636</td>\n",
       "      <td>gompertz</td>\n",
       "    </tr>\n",
       "    <tr>\n",
       "      <th>3</th>\n",
       "      <td>Salt Production</td>\n",
       "      <td>Slovenia</td>\n",
       "      <td>Annual Production</td>\n",
       "      <td>metric tons</td>\n",
       "      <td>5.501519</td>\n",
       "      <td>1.071854e+05</td>\n",
       "      <td>1999.547019</td>\n",
       "      <td>0.079255</td>\n",
       "      <td>167695.002129</td>\n",
       "      <td>75646.556950</td>\n",
       "      <td>logistic</td>\n",
       "    </tr>\n",
       "    <tr>\n",
       "      <th>4</th>\n",
       "      <td>Biogas</td>\n",
       "      <td>Austria</td>\n",
       "      <td>Installed Capacity</td>\n",
       "      <td>MW</td>\n",
       "      <td>4.490653</td>\n",
       "      <td>2.333201e+02</td>\n",
       "      <td>2004.426764</td>\n",
       "      <td>0.683139</td>\n",
       "      <td>58.686948</td>\n",
       "      <td>48.595129</td>\n",
       "      <td>logistic</td>\n",
       "    </tr>\n",
       "    <tr>\n",
       "      <th>...</th>\n",
       "      <td>...</td>\n",
       "      <td>...</td>\n",
       "      <td>...</td>\n",
       "      <td>...</td>\n",
       "      <td>...</td>\n",
       "      <td>...</td>\n",
       "      <td>...</td>\n",
       "      <td>...</td>\n",
       "      <td>...</td>\n",
       "      <td>...</td>\n",
       "      <td>...</td>\n",
       "    </tr>\n",
       "    <tr>\n",
       "      <th>654</th>\n",
       "      <td>Salt Production</td>\n",
       "      <td>Poland</td>\n",
       "      <td>Annual Production</td>\n",
       "      <td>metric tons</td>\n",
       "      <td>0.002847</td>\n",
       "      <td>5.076097e+08</td>\n",
       "      <td>3716.982958</td>\n",
       "      <td>0.008357</td>\n",
       "      <td>763701.311876</td>\n",
       "      <td>458718.336484</td>\n",
       "      <td>logistic</td>\n",
       "    </tr>\n",
       "    <tr>\n",
       "      <th>655</th>\n",
       "      <td>Hydroelectricity</td>\n",
       "      <td>Italy</td>\n",
       "      <td>Annual Production</td>\n",
       "      <td>TWh</td>\n",
       "      <td>0.001514</td>\n",
       "      <td>1.108712e+04</td>\n",
       "      <td>5667.882246</td>\n",
       "      <td>0.047352</td>\n",
       "      <td>4.770844</td>\n",
       "      <td>3.385238</td>\n",
       "      <td>logistic</td>\n",
       "    </tr>\n",
       "    <tr>\n",
       "      <th>656</th>\n",
       "      <td>Copper|Refining</td>\n",
       "      <td>Norway</td>\n",
       "      <td>Annual Production</td>\n",
       "      <td>metric tons</td>\n",
       "      <td>0.001462</td>\n",
       "      <td>3.655077e+06</td>\n",
       "      <td>5173.495168</td>\n",
       "      <td>0.004774</td>\n",
       "      <td>4500.176764</td>\n",
       "      <td>3900.000002</td>\n",
       "      <td>logistic</td>\n",
       "    </tr>\n",
       "    <tr>\n",
       "      <th>657</th>\n",
       "      <td>Salt Production</td>\n",
       "      <td>Colombia</td>\n",
       "      <td>Annual Production</td>\n",
       "      <td>metric tons</td>\n",
       "      <td>0.001284</td>\n",
       "      <td>3.489761e+07</td>\n",
       "      <td>5269.188281</td>\n",
       "      <td>0.001369</td>\n",
       "      <td>114142.533521</td>\n",
       "      <td>93183.364841</td>\n",
       "      <td>logistic</td>\n",
       "    </tr>\n",
       "    <tr>\n",
       "      <th>658</th>\n",
       "      <td>Oil Refining Capacity</td>\n",
       "      <td>Lithuania</td>\n",
       "      <td>Cumulative Total Capacity</td>\n",
       "      <td>thousand barrels</td>\n",
       "      <td>0.000191</td>\n",
       "      <td>1.864029e+03</td>\n",
       "      <td>12006.273268</td>\n",
       "      <td>0.750035</td>\n",
       "      <td>0.246562</td>\n",
       "      <td>0.205397</td>\n",
       "      <td>logistic</td>\n",
       "    </tr>\n",
       "  </tbody>\n",
       "</table>\n",
       "<p>659 rows × 11 columns</p>\n",
       "</div>"
      ],
      "text/plain": [
       "                      tech    country                     metric  \\\n",
       "0         Hydroelectricity     Israel          Annual Production   \n",
       "1                Crude Oil     Israel          Annual Production   \n",
       "2           Crop Harvester    Iceland               Total Number   \n",
       "3          Salt Production   Slovenia          Annual Production   \n",
       "4                   Biogas    Austria         Installed Capacity   \n",
       "..                     ...        ...                        ...   \n",
       "654        Salt Production     Poland          Annual Production   \n",
       "655       Hydroelectricity      Italy          Annual Production   \n",
       "656        Copper|Refining     Norway          Annual Production   \n",
       "657        Salt Production   Colombia          Annual Production   \n",
       "658  Oil Refining Capacity  Lithuania  Cumulative Total Capacity   \n",
       "\n",
       "                     unit       rate     asymptote    inflection        r2  \\\n",
       "0                     TWh  30.924812  2.441250e-02   1991.036256  0.697137   \n",
       "1    thousand metric tons  17.238686  9.855000e+02   1966.029093  0.041023   \n",
       "2                       -  16.862575  7.275000e+00   1960.902349  0.001791   \n",
       "3             metric tons   5.501519  1.071854e+05   1999.547019  0.079255   \n",
       "4                      MW   4.490653  2.333201e+02   2004.426764  0.683139   \n",
       "..                    ...        ...           ...           ...       ...   \n",
       "654           metric tons   0.002847  5.076097e+08   3716.982958  0.008357   \n",
       "655                   TWh   0.001514  1.108712e+04   5667.882246  0.047352   \n",
       "656           metric tons   0.001462  3.655077e+06   5173.495168  0.004774   \n",
       "657           metric tons   0.001284  3.489761e+07   5269.188281  0.001369   \n",
       "658      thousand barrels   0.000191  1.864029e+03  12006.273268  0.750035   \n",
       "\n",
       "              rmse            mae formulation  \n",
       "0         0.005994       0.004601    logistic  \n",
       "1      1746.890953    1185.865951    gompertz  \n",
       "2         4.643314       3.164636    gompertz  \n",
       "3    167695.002129   75646.556950    logistic  \n",
       "4        58.686948      48.595129    logistic  \n",
       "..             ...            ...         ...  \n",
       "654  763701.311876  458718.336484    logistic  \n",
       "655       4.770844       3.385238    logistic  \n",
       "656    4500.176764    3900.000002    logistic  \n",
       "657  114142.533521   93183.364841    logistic  \n",
       "658       0.246562       0.205397    logistic  \n",
       "\n",
       "[659 rows x 11 columns]"
      ]
     },
     "execution_count": 1044,
     "metadata": {},
     "output_type": "execute_result"
    }
   ],
   "source": [
    "k_rates"
   ]
  },
  {
   "cell_type": "code",
   "execution_count": 1045,
   "metadata": {},
   "outputs": [
    {
     "data": {
      "text/html": [
       "<div>\n",
       "<style scoped>\n",
       "    .dataframe tbody tr th:only-of-type {\n",
       "        vertical-align: middle;\n",
       "    }\n",
       "\n",
       "    .dataframe tbody tr th {\n",
       "        vertical-align: top;\n",
       "    }\n",
       "\n",
       "    .dataframe thead th {\n",
       "        text-align: right;\n",
       "    }\n",
       "</style>\n",
       "<table border=\"1\" class=\"dataframe\">\n",
       "  <thead>\n",
       "    <tr style=\"text-align: right;\">\n",
       "      <th></th>\n",
       "      <th>tech</th>\n",
       "      <th>country</th>\n",
       "      <th>metric</th>\n",
       "      <th>unit</th>\n",
       "      <th>rate</th>\n",
       "      <th>asymptote</th>\n",
       "      <th>inflection</th>\n",
       "      <th>r2</th>\n",
       "      <th>rmse</th>\n",
       "      <th>mae</th>\n",
       "      <th>formulation</th>\n",
       "    </tr>\n",
       "  </thead>\n",
       "  <tbody>\n",
       "    <tr>\n",
       "      <th>5</th>\n",
       "      <td>Solid Biofuels</td>\n",
       "      <td>Korea</td>\n",
       "      <td>Installed Capacity</td>\n",
       "      <td>MW</td>\n",
       "      <td>2.880267</td>\n",
       "      <td>1.848380e+03</td>\n",
       "      <td>2015.803219</td>\n",
       "      <td>0.994275</td>\n",
       "      <td>6.090139e+01</td>\n",
       "      <td>4.402762e+01</td>\n",
       "      <td>logistic</td>\n",
       "    </tr>\n",
       "    <tr>\n",
       "      <th>9</th>\n",
       "      <td>Nuclear Energy</td>\n",
       "      <td>Netherlands</td>\n",
       "      <td>Annual Production</td>\n",
       "      <td>TWh</td>\n",
       "      <td>2.140699</td>\n",
       "      <td>3.817618e+00</td>\n",
       "      <td>1973.337191</td>\n",
       "      <td>0.910473</td>\n",
       "      <td>3.359744e-01</td>\n",
       "      <td>2.473990e-01</td>\n",
       "      <td>logistic</td>\n",
       "    </tr>\n",
       "    <tr>\n",
       "      <th>10</th>\n",
       "      <td>Solar Photovoltaic</td>\n",
       "      <td>Czech Republic</td>\n",
       "      <td>Installed Capacity</td>\n",
       "      <td>MW</td>\n",
       "      <td>1.985505</td>\n",
       "      <td>2.070707e+03</td>\n",
       "      <td>2009.195776</td>\n",
       "      <td>0.999073</td>\n",
       "      <td>3.029841e+01</td>\n",
       "      <td>1.685521e+01</td>\n",
       "      <td>gompertz</td>\n",
       "    </tr>\n",
       "    <tr>\n",
       "      <th>13</th>\n",
       "      <td>Solar Photovoltaic</td>\n",
       "      <td>Greece</td>\n",
       "      <td>Installed Capacity</td>\n",
       "      <td>MW</td>\n",
       "      <td>1.455683</td>\n",
       "      <td>2.874756e+03</td>\n",
       "      <td>2011.865580</td>\n",
       "      <td>0.976334</td>\n",
       "      <td>1.349821e+03</td>\n",
       "      <td>1.297931e+03</td>\n",
       "      <td>logistic</td>\n",
       "    </tr>\n",
       "    <tr>\n",
       "      <th>14</th>\n",
       "      <td>Solid Biofuels</td>\n",
       "      <td>Estonia</td>\n",
       "      <td>Installed Capacity</td>\n",
       "      <td>MW</td>\n",
       "      <td>1.234132</td>\n",
       "      <td>1.676717e+02</td>\n",
       "      <td>2008.974214</td>\n",
       "      <td>0.980300</td>\n",
       "      <td>1.067940e+01</td>\n",
       "      <td>8.320328e+00</td>\n",
       "      <td>gompertz</td>\n",
       "    </tr>\n",
       "    <tr>\n",
       "      <th>...</th>\n",
       "      <td>...</td>\n",
       "      <td>...</td>\n",
       "      <td>...</td>\n",
       "      <td>...</td>\n",
       "      <td>...</td>\n",
       "      <td>...</td>\n",
       "      <td>...</td>\n",
       "      <td>...</td>\n",
       "      <td>...</td>\n",
       "      <td>...</td>\n",
       "      <td>...</td>\n",
       "    </tr>\n",
       "    <tr>\n",
       "      <th>629</th>\n",
       "      <td>Electricity</td>\n",
       "      <td>Colombia</td>\n",
       "      <td>Annual Production</td>\n",
       "      <td>TWh</td>\n",
       "      <td>0.012392</td>\n",
       "      <td>4.483880e+02</td>\n",
       "      <td>2063.293853</td>\n",
       "      <td>0.983961</td>\n",
       "      <td>1.932710e+00</td>\n",
       "      <td>1.489316e+00</td>\n",
       "      <td>gompertz</td>\n",
       "    </tr>\n",
       "    <tr>\n",
       "      <th>636</th>\n",
       "      <td>Passenger Cars</td>\n",
       "      <td>United States</td>\n",
       "      <td>Total Number</td>\n",
       "      <td>-</td>\n",
       "      <td>0.009224</td>\n",
       "      <td>3.316030e+09</td>\n",
       "      <td>2110.515849</td>\n",
       "      <td>0.989313</td>\n",
       "      <td>6.484290e+06</td>\n",
       "      <td>4.808807e+06</td>\n",
       "      <td>gompertz</td>\n",
       "    </tr>\n",
       "    <tr>\n",
       "      <th>648</th>\n",
       "      <td>Radio</td>\n",
       "      <td>Finland</td>\n",
       "      <td>Total Number</td>\n",
       "      <td>-</td>\n",
       "      <td>0.005118</td>\n",
       "      <td>4.891644e+07</td>\n",
       "      <td>2421.716328</td>\n",
       "      <td>0.974391</td>\n",
       "      <td>3.591524e+02</td>\n",
       "      <td>2.222121e+02</td>\n",
       "      <td>gompertz</td>\n",
       "    </tr>\n",
       "    <tr>\n",
       "      <th>651</th>\n",
       "      <td>Television</td>\n",
       "      <td>Ireland</td>\n",
       "      <td>Total Number</td>\n",
       "      <td>-</td>\n",
       "      <td>0.004115</td>\n",
       "      <td>1.020657e+11</td>\n",
       "      <td>2581.918449</td>\n",
       "      <td>0.909346</td>\n",
       "      <td>1.560097e+05</td>\n",
       "      <td>9.259112e+04</td>\n",
       "      <td>gompertz</td>\n",
       "    </tr>\n",
       "    <tr>\n",
       "      <th>653</th>\n",
       "      <td>Telephones</td>\n",
       "      <td>Portugal</td>\n",
       "      <td>Total Number</td>\n",
       "      <td>-</td>\n",
       "      <td>0.003920</td>\n",
       "      <td>1.632078e+13</td>\n",
       "      <td>2691.633191</td>\n",
       "      <td>0.998062</td>\n",
       "      <td>4.658869e+04</td>\n",
       "      <td>3.279275e+04</td>\n",
       "      <td>gompertz</td>\n",
       "    </tr>\n",
       "  </tbody>\n",
       "</table>\n",
       "<p>434 rows × 11 columns</p>\n",
       "</div>"
      ],
      "text/plain": [
       "                   tech         country              metric unit      rate  \\\n",
       "5        Solid Biofuels           Korea  Installed Capacity   MW  2.880267   \n",
       "9        Nuclear Energy     Netherlands   Annual Production  TWh  2.140699   \n",
       "10   Solar Photovoltaic  Czech Republic  Installed Capacity   MW  1.985505   \n",
       "13   Solar Photovoltaic          Greece  Installed Capacity   MW  1.455683   \n",
       "14       Solid Biofuels         Estonia  Installed Capacity   MW  1.234132   \n",
       "..                  ...             ...                 ...  ...       ...   \n",
       "629         Electricity        Colombia   Annual Production  TWh  0.012392   \n",
       "636      Passenger Cars   United States        Total Number    -  0.009224   \n",
       "648               Radio         Finland        Total Number    -  0.005118   \n",
       "651          Television         Ireland        Total Number    -  0.004115   \n",
       "653          Telephones        Portugal        Total Number    -  0.003920   \n",
       "\n",
       "        asymptote   inflection        r2          rmse           mae  \\\n",
       "5    1.848380e+03  2015.803219  0.994275  6.090139e+01  4.402762e+01   \n",
       "9    3.817618e+00  1973.337191  0.910473  3.359744e-01  2.473990e-01   \n",
       "10   2.070707e+03  2009.195776  0.999073  3.029841e+01  1.685521e+01   \n",
       "13   2.874756e+03  2011.865580  0.976334  1.349821e+03  1.297931e+03   \n",
       "14   1.676717e+02  2008.974214  0.980300  1.067940e+01  8.320328e+00   \n",
       "..            ...          ...       ...           ...           ...   \n",
       "629  4.483880e+02  2063.293853  0.983961  1.932710e+00  1.489316e+00   \n",
       "636  3.316030e+09  2110.515849  0.989313  6.484290e+06  4.808807e+06   \n",
       "648  4.891644e+07  2421.716328  0.974391  3.591524e+02  2.222121e+02   \n",
       "651  1.020657e+11  2581.918449  0.909346  1.560097e+05  9.259112e+04   \n",
       "653  1.632078e+13  2691.633191  0.998062  4.658869e+04  3.279275e+04   \n",
       "\n",
       "    formulation  \n",
       "5      logistic  \n",
       "9      logistic  \n",
       "10     gompertz  \n",
       "13     logistic  \n",
       "14     gompertz  \n",
       "..          ...  \n",
       "629    gompertz  \n",
       "636    gompertz  \n",
       "648    gompertz  \n",
       "651    gompertz  \n",
       "653    gompertz  \n",
       "\n",
       "[434 rows x 11 columns]"
      ]
     },
     "execution_count": 1045,
     "metadata": {},
     "output_type": "execute_result"
    }
   ],
   "source": [
    "k_rates[k_rates['r2'] > 0.85]"
   ]
  },
  {
   "cell_type": "code",
   "execution_count": 1051,
   "metadata": {},
   "outputs": [
    {
     "data": {
      "application/vnd.plotly.v1+json": {
       "config": {
        "plotlyServerURL": "https://plot.ly"
       },
       "data": [
        {
         "marker": {
          "color": "black",
          "opacity": 0.8,
          "size": 4
         },
         "mode": "markers",
         "name": "Solid Biofuels - Korea",
         "type": "scatter",
         "x": [
          2000,
          2001,
          2002,
          2003,
          2004,
          2005,
          2006,
          2007,
          2008,
          2009,
          2010,
          2011,
          2012,
          2013,
          2014,
          2015,
          2016,
          2017,
          2018,
          2019,
          2020,
          2021
         ],
         "xaxis": "x",
         "y": [
          48,
          54,
          43,
          17,
          17,
          17,
          17,
          6,
          10,
          10,
          46,
          46,
          46,
          55,
          74,
          160,
          1179,
          1799,
          1835,
          1992,
          1676,
          1880
         ],
         "yaxis": "y"
        },
        {
         "line": {
          "color": "red",
          "width": 2.5
         },
         "mode": "lines",
         "name": "Solid Biofuels - Korea Curve Fit",
         "type": "scatter",
         "x": [
          2000,
          2001,
          2002,
          2003,
          2004,
          2005,
          2006,
          2007,
          2008,
          2009,
          2010,
          2011,
          2012,
          2013,
          2014,
          2015,
          2016,
          2017,
          2018,
          2019,
          2020,
          2021
         ],
         "xaxis": "x",
         "y": [
          3.153528747105931e-17,
          5.619282141925778e-16,
          1.0013015362407617e-14,
          1.784222150010277e-13,
          3.1793106925003368e-12,
          5.665223066190802e-11,
          1.0094877630359552e-9,
          1.7988092115774417e-8,
          3.205303419850085e-7,
          0.0000057115395667834445,
          0.00010177408609951438,
          0.001813513751648591,
          0.03231452158855583,
          0.5756441470250268,
          10.20397177594388,
          166.37688400040057,
          1179.3038404876024,
          1791.3443687877436,
          1845.0829657929821,
          1848.1944733787736,
          1848.3694015239255,
          1848.3792194341613
         ],
         "yaxis": "y"
        }
       ],
       "layout": {
        "annotations": [
         {
          "font": {
           "size": 13
          },
          "showarrow": false,
          "text": "<b>Solid Biofuels</b> in Korea<br>(logistic's growth rate=2.880)",
          "x": 0.5,
          "xanchor": "center",
          "xref": "paper",
          "y": 1,
          "yanchor": "bottom",
          "yref": "paper"
         },
         {
          "font": {
           "size": 13
          },
          "showarrow": false,
          "text": "R²: 0.994",
          "x": 2000,
          "xanchor": "left",
          "xref": "x",
          "y": 1992,
          "yanchor": "top",
          "yref": "y"
         }
        ],
        "font": {
         "size": 11
        },
        "height": 350,
        "showlegend": false,
        "template": {
         "data": {
          "bar": [
           {
            "error_x": {
             "color": "#2a3f5f"
            },
            "error_y": {
             "color": "#2a3f5f"
            },
            "marker": {
             "line": {
              "color": "white",
              "width": 0.5
             },
             "pattern": {
              "fillmode": "overlay",
              "size": 10,
              "solidity": 0.2
             }
            },
            "type": "bar"
           }
          ],
          "barpolar": [
           {
            "marker": {
             "line": {
              "color": "white",
              "width": 0.5
             },
             "pattern": {
              "fillmode": "overlay",
              "size": 10,
              "solidity": 0.2
             }
            },
            "type": "barpolar"
           }
          ],
          "carpet": [
           {
            "aaxis": {
             "endlinecolor": "#2a3f5f",
             "gridcolor": "#C8D4E3",
             "linecolor": "#C8D4E3",
             "minorgridcolor": "#C8D4E3",
             "startlinecolor": "#2a3f5f"
            },
            "baxis": {
             "endlinecolor": "#2a3f5f",
             "gridcolor": "#C8D4E3",
             "linecolor": "#C8D4E3",
             "minorgridcolor": "#C8D4E3",
             "startlinecolor": "#2a3f5f"
            },
            "type": "carpet"
           }
          ],
          "choropleth": [
           {
            "colorbar": {
             "outlinewidth": 0,
             "ticks": ""
            },
            "type": "choropleth"
           }
          ],
          "contour": [
           {
            "colorbar": {
             "outlinewidth": 0,
             "ticks": ""
            },
            "colorscale": [
             [
              0,
              "#0d0887"
             ],
             [
              0.1111111111111111,
              "#46039f"
             ],
             [
              0.2222222222222222,
              "#7201a8"
             ],
             [
              0.3333333333333333,
              "#9c179e"
             ],
             [
              0.4444444444444444,
              "#bd3786"
             ],
             [
              0.5555555555555556,
              "#d8576b"
             ],
             [
              0.6666666666666666,
              "#ed7953"
             ],
             [
              0.7777777777777778,
              "#fb9f3a"
             ],
             [
              0.8888888888888888,
              "#fdca26"
             ],
             [
              1,
              "#f0f921"
             ]
            ],
            "type": "contour"
           }
          ],
          "contourcarpet": [
           {
            "colorbar": {
             "outlinewidth": 0,
             "ticks": ""
            },
            "type": "contourcarpet"
           }
          ],
          "heatmap": [
           {
            "colorbar": {
             "outlinewidth": 0,
             "ticks": ""
            },
            "colorscale": [
             [
              0,
              "#0d0887"
             ],
             [
              0.1111111111111111,
              "#46039f"
             ],
             [
              0.2222222222222222,
              "#7201a8"
             ],
             [
              0.3333333333333333,
              "#9c179e"
             ],
             [
              0.4444444444444444,
              "#bd3786"
             ],
             [
              0.5555555555555556,
              "#d8576b"
             ],
             [
              0.6666666666666666,
              "#ed7953"
             ],
             [
              0.7777777777777778,
              "#fb9f3a"
             ],
             [
              0.8888888888888888,
              "#fdca26"
             ],
             [
              1,
              "#f0f921"
             ]
            ],
            "type": "heatmap"
           }
          ],
          "heatmapgl": [
           {
            "colorbar": {
             "outlinewidth": 0,
             "ticks": ""
            },
            "colorscale": [
             [
              0,
              "#0d0887"
             ],
             [
              0.1111111111111111,
              "#46039f"
             ],
             [
              0.2222222222222222,
              "#7201a8"
             ],
             [
              0.3333333333333333,
              "#9c179e"
             ],
             [
              0.4444444444444444,
              "#bd3786"
             ],
             [
              0.5555555555555556,
              "#d8576b"
             ],
             [
              0.6666666666666666,
              "#ed7953"
             ],
             [
              0.7777777777777778,
              "#fb9f3a"
             ],
             [
              0.8888888888888888,
              "#fdca26"
             ],
             [
              1,
              "#f0f921"
             ]
            ],
            "type": "heatmapgl"
           }
          ],
          "histogram": [
           {
            "marker": {
             "pattern": {
              "fillmode": "overlay",
              "size": 10,
              "solidity": 0.2
             }
            },
            "type": "histogram"
           }
          ],
          "histogram2d": [
           {
            "colorbar": {
             "outlinewidth": 0,
             "ticks": ""
            },
            "colorscale": [
             [
              0,
              "#0d0887"
             ],
             [
              0.1111111111111111,
              "#46039f"
             ],
             [
              0.2222222222222222,
              "#7201a8"
             ],
             [
              0.3333333333333333,
              "#9c179e"
             ],
             [
              0.4444444444444444,
              "#bd3786"
             ],
             [
              0.5555555555555556,
              "#d8576b"
             ],
             [
              0.6666666666666666,
              "#ed7953"
             ],
             [
              0.7777777777777778,
              "#fb9f3a"
             ],
             [
              0.8888888888888888,
              "#fdca26"
             ],
             [
              1,
              "#f0f921"
             ]
            ],
            "type": "histogram2d"
           }
          ],
          "histogram2dcontour": [
           {
            "colorbar": {
             "outlinewidth": 0,
             "ticks": ""
            },
            "colorscale": [
             [
              0,
              "#0d0887"
             ],
             [
              0.1111111111111111,
              "#46039f"
             ],
             [
              0.2222222222222222,
              "#7201a8"
             ],
             [
              0.3333333333333333,
              "#9c179e"
             ],
             [
              0.4444444444444444,
              "#bd3786"
             ],
             [
              0.5555555555555556,
              "#d8576b"
             ],
             [
              0.6666666666666666,
              "#ed7953"
             ],
             [
              0.7777777777777778,
              "#fb9f3a"
             ],
             [
              0.8888888888888888,
              "#fdca26"
             ],
             [
              1,
              "#f0f921"
             ]
            ],
            "type": "histogram2dcontour"
           }
          ],
          "mesh3d": [
           {
            "colorbar": {
             "outlinewidth": 0,
             "ticks": ""
            },
            "type": "mesh3d"
           }
          ],
          "parcoords": [
           {
            "line": {
             "colorbar": {
              "outlinewidth": 0,
              "ticks": ""
             }
            },
            "type": "parcoords"
           }
          ],
          "pie": [
           {
            "automargin": true,
            "type": "pie"
           }
          ],
          "scatter": [
           {
            "fillpattern": {
             "fillmode": "overlay",
             "size": 10,
             "solidity": 0.2
            },
            "type": "scatter"
           }
          ],
          "scatter3d": [
           {
            "line": {
             "colorbar": {
              "outlinewidth": 0,
              "ticks": ""
             }
            },
            "marker": {
             "colorbar": {
              "outlinewidth": 0,
              "ticks": ""
             }
            },
            "type": "scatter3d"
           }
          ],
          "scattercarpet": [
           {
            "marker": {
             "colorbar": {
              "outlinewidth": 0,
              "ticks": ""
             }
            },
            "type": "scattercarpet"
           }
          ],
          "scattergeo": [
           {
            "marker": {
             "colorbar": {
              "outlinewidth": 0,
              "ticks": ""
             }
            },
            "type": "scattergeo"
           }
          ],
          "scattergl": [
           {
            "marker": {
             "colorbar": {
              "outlinewidth": 0,
              "ticks": ""
             }
            },
            "type": "scattergl"
           }
          ],
          "scattermapbox": [
           {
            "marker": {
             "colorbar": {
              "outlinewidth": 0,
              "ticks": ""
             }
            },
            "type": "scattermapbox"
           }
          ],
          "scatterpolar": [
           {
            "marker": {
             "colorbar": {
              "outlinewidth": 0,
              "ticks": ""
             }
            },
            "type": "scatterpolar"
           }
          ],
          "scatterpolargl": [
           {
            "marker": {
             "colorbar": {
              "outlinewidth": 0,
              "ticks": ""
             }
            },
            "type": "scatterpolargl"
           }
          ],
          "scatterternary": [
           {
            "marker": {
             "colorbar": {
              "outlinewidth": 0,
              "ticks": ""
             }
            },
            "type": "scatterternary"
           }
          ],
          "surface": [
           {
            "colorbar": {
             "outlinewidth": 0,
             "ticks": ""
            },
            "colorscale": [
             [
              0,
              "#0d0887"
             ],
             [
              0.1111111111111111,
              "#46039f"
             ],
             [
              0.2222222222222222,
              "#7201a8"
             ],
             [
              0.3333333333333333,
              "#9c179e"
             ],
             [
              0.4444444444444444,
              "#bd3786"
             ],
             [
              0.5555555555555556,
              "#d8576b"
             ],
             [
              0.6666666666666666,
              "#ed7953"
             ],
             [
              0.7777777777777778,
              "#fb9f3a"
             ],
             [
              0.8888888888888888,
              "#fdca26"
             ],
             [
              1,
              "#f0f921"
             ]
            ],
            "type": "surface"
           }
          ],
          "table": [
           {
            "cells": {
             "fill": {
              "color": "#EBF0F8"
             },
             "line": {
              "color": "white"
             }
            },
            "header": {
             "fill": {
              "color": "#C8D4E3"
             },
             "line": {
              "color": "white"
             }
            },
            "type": "table"
           }
          ]
         },
         "layout": {
          "annotationdefaults": {
           "arrowcolor": "#2a3f5f",
           "arrowhead": 0,
           "arrowwidth": 1
          },
          "autotypenumbers": "strict",
          "coloraxis": {
           "colorbar": {
            "outlinewidth": 0,
            "ticks": ""
           }
          },
          "colorscale": {
           "diverging": [
            [
             0,
             "#8e0152"
            ],
            [
             0.1,
             "#c51b7d"
            ],
            [
             0.2,
             "#de77ae"
            ],
            [
             0.3,
             "#f1b6da"
            ],
            [
             0.4,
             "#fde0ef"
            ],
            [
             0.5,
             "#f7f7f7"
            ],
            [
             0.6,
             "#e6f5d0"
            ],
            [
             0.7,
             "#b8e186"
            ],
            [
             0.8,
             "#7fbc41"
            ],
            [
             0.9,
             "#4d9221"
            ],
            [
             1,
             "#276419"
            ]
           ],
           "sequential": [
            [
             0,
             "#0d0887"
            ],
            [
             0.1111111111111111,
             "#46039f"
            ],
            [
             0.2222222222222222,
             "#7201a8"
            ],
            [
             0.3333333333333333,
             "#9c179e"
            ],
            [
             0.4444444444444444,
             "#bd3786"
            ],
            [
             0.5555555555555556,
             "#d8576b"
            ],
            [
             0.6666666666666666,
             "#ed7953"
            ],
            [
             0.7777777777777778,
             "#fb9f3a"
            ],
            [
             0.8888888888888888,
             "#fdca26"
            ],
            [
             1,
             "#f0f921"
            ]
           ],
           "sequentialminus": [
            [
             0,
             "#0d0887"
            ],
            [
             0.1111111111111111,
             "#46039f"
            ],
            [
             0.2222222222222222,
             "#7201a8"
            ],
            [
             0.3333333333333333,
             "#9c179e"
            ],
            [
             0.4444444444444444,
             "#bd3786"
            ],
            [
             0.5555555555555556,
             "#d8576b"
            ],
            [
             0.6666666666666666,
             "#ed7953"
            ],
            [
             0.7777777777777778,
             "#fb9f3a"
            ],
            [
             0.8888888888888888,
             "#fdca26"
            ],
            [
             1,
             "#f0f921"
            ]
           ]
          },
          "colorway": [
           "#636efa",
           "#EF553B",
           "#00cc96",
           "#ab63fa",
           "#FFA15A",
           "#19d3f3",
           "#FF6692",
           "#B6E880",
           "#FF97FF",
           "#FECB52"
          ],
          "font": {
           "color": "#2a3f5f"
          },
          "geo": {
           "bgcolor": "white",
           "lakecolor": "white",
           "landcolor": "white",
           "showlakes": true,
           "showland": true,
           "subunitcolor": "#C8D4E3"
          },
          "hoverlabel": {
           "align": "left"
          },
          "hovermode": "closest",
          "mapbox": {
           "style": "light"
          },
          "paper_bgcolor": "white",
          "plot_bgcolor": "white",
          "polar": {
           "angularaxis": {
            "gridcolor": "#EBF0F8",
            "linecolor": "#EBF0F8",
            "ticks": ""
           },
           "bgcolor": "white",
           "radialaxis": {
            "gridcolor": "#EBF0F8",
            "linecolor": "#EBF0F8",
            "ticks": ""
           }
          },
          "scene": {
           "xaxis": {
            "backgroundcolor": "white",
            "gridcolor": "#DFE8F3",
            "gridwidth": 2,
            "linecolor": "#EBF0F8",
            "showbackground": true,
            "ticks": "",
            "zerolinecolor": "#EBF0F8"
           },
           "yaxis": {
            "backgroundcolor": "white",
            "gridcolor": "#DFE8F3",
            "gridwidth": 2,
            "linecolor": "#EBF0F8",
            "showbackground": true,
            "ticks": "",
            "zerolinecolor": "#EBF0F8"
           },
           "zaxis": {
            "backgroundcolor": "white",
            "gridcolor": "#DFE8F3",
            "gridwidth": 2,
            "linecolor": "#EBF0F8",
            "showbackground": true,
            "ticks": "",
            "zerolinecolor": "#EBF0F8"
           }
          },
          "shapedefaults": {
           "line": {
            "color": "#2a3f5f"
           }
          },
          "ternary": {
           "aaxis": {
            "gridcolor": "#DFE8F3",
            "linecolor": "#A2B1C6",
            "ticks": ""
           },
           "baxis": {
            "gridcolor": "#DFE8F3",
            "linecolor": "#A2B1C6",
            "ticks": ""
           },
           "bgcolor": "white",
           "caxis": {
            "gridcolor": "#DFE8F3",
            "linecolor": "#A2B1C6",
            "ticks": ""
           }
          },
          "title": {
           "x": 0.05
          },
          "xaxis": {
           "automargin": true,
           "gridcolor": "#EBF0F8",
           "linecolor": "#EBF0F8",
           "ticks": "",
           "title": {
            "standoff": 15
           },
           "zerolinecolor": "#EBF0F8",
           "zerolinewidth": 2
          },
          "yaxis": {
           "automargin": true,
           "gridcolor": "#EBF0F8",
           "linecolor": "#EBF0F8",
           "ticks": "",
           "title": {
            "standoff": 15
           },
           "zerolinecolor": "#EBF0F8",
           "zerolinewidth": 2
          }
         }
        },
        "title": {
         "text": "Historical growth rates"
        },
        "width": 400,
        "xaxis": {
         "anchor": "y",
         "domain": [
          0,
          1
         ]
        },
        "yaxis": {
         "anchor": "x",
         "domain": [
          0,
          1
         ],
         "title": {
          "standoff": 5,
          "text": "Installed Capacity [MW]"
         }
        }
       }
      }
     },
     "metadata": {},
     "output_type": "display_data"
    }
   ],
   "source": [
    "plot_growth_rates(country='Korea', tech='Solid Biofuels')"
   ]
  },
  {
   "cell_type": "code",
   "execution_count": 1047,
   "metadata": {},
   "outputs": [
    {
     "data": {
      "text/plain": [
       "0.00    0.003920\n",
       "0.25    0.067671\n",
       "0.50    0.111304\n",
       "0.75    0.240873\n",
       "1.00    2.880267\n",
       "Name: rate, dtype: float64"
      ]
     },
     "execution_count": 1047,
     "metadata": {},
     "output_type": "execute_result"
    }
   ],
   "source": [
    "k_rates[k_rates['r2'] > 0.85]['rate'].quantile(q=[0, 0.25, 0.5, 0.75, 1])"
   ]
  },
  {
   "cell_type": "code",
   "execution_count": null,
   "metadata": {},
   "outputs": [],
   "source": []
  },
  {
   "cell_type": "code",
   "execution_count": null,
   "metadata": {},
   "outputs": [],
   "source": []
  },
  {
   "cell_type": "code",
   "execution_count": null,
   "metadata": {},
   "outputs": [],
   "source": []
  },
  {
   "cell_type": "code",
   "execution_count": 990,
   "metadata": {},
   "outputs": [
    {
     "name": "stderr",
     "output_type": "stream",
     "text": [
      "C:\\Users\\rashi\\AppData\\Local\\Temp\\ipykernel_34016\\1508889683.py:12: DeprecationWarning:\n",
      "\n",
      "DataFrameGroupBy.apply operated on the grouping columns. This behavior is deprecated, and in a future version of pandas the grouping columns will be excluded from the operation. Either pass `include_groups=False` to exclude the groupings or explicitly select the grouping columns after groupby to silence this warning.\n",
      "\n"
     ]
    },
    {
     "data": {
      "text/plain": [
       "id          0\n",
       "country     0\n",
       "tech        0\n",
       "metric      0\n",
       "unit        0\n",
       "source      0\n",
       "variable    0\n",
       "year        0\n",
       "value       0\n",
       "dtype: int64"
      ]
     },
     "execution_count": 990,
     "metadata": {},
     "output_type": "execute_result"
    }
   ],
   "source": [
    "cars = data_clean[data_clean['variable'] == 'Number of Units|Passenger Cars']\n",
    "cars = cars.reset_index(drop=True).sort_values(['country', 'year'])\n",
    "\n",
    "def interpolate_up_to_last_valid_year(group):\n",
    "    # Find the last year with a non-null 'Value' in the group\n",
    "    last_valid_year = group['year'][group['value'].last_valid_index()]\n",
    "    # Interpolate only up to this last valid year\n",
    "    group.loc[group['year'] <= last_valid_year, 'value'] = group['value'].interpolate()\n",
    "    return group\n",
    "\n",
    "# Apply interpolation function to each country's group\n",
    "cars = cars.groupby('country', group_keys=False).apply(interpolate_up_to_last_valid_year)\n",
    "cars.isna().sum()"
   ]
  },
  {
   "cell_type": "code",
   "execution_count": 991,
   "metadata": {},
   "outputs": [
    {
     "data": {
      "application/vnd.plotly.v1+json": {
       "config": {
        "plotlyServerURL": "https://plot.ly"
       },
       "data": [
        {
         "hovertemplate": "country=Australia<br>year=%{x}<br>value=%{y}<extra></extra>",
         "legendgroup": "Australia",
         "line": {
          "color": "#636efa",
          "dash": "solid"
         },
         "marker": {
          "symbol": "circle"
         },
         "mode": "lines",
         "name": "Australia",
         "showlegend": true,
         "type": "scattergl",
         "x": [
          1923,
          1924,
          1925,
          1926,
          1927,
          1928,
          1929,
          1930,
          1931,
          1932,
          1933,
          1934,
          1935,
          1936,
          1937,
          1938,
          1939,
          1940,
          1941,
          1942,
          1943,
          1944,
          1945,
          1946,
          1947,
          1948,
          1949,
          1950,
          1951,
          1952,
          1953,
          1954,
          1955,
          1956,
          1957,
          1958,
          1959,
          1960,
          1961,
          1962,
          1963,
          1964,
          1965,
          1966,
          1967,
          1968,
          1969,
          1970,
          1971,
          1972,
          1973,
          1974,
          1975,
          1976,
          1977,
          1978,
          1979,
          1980,
          1981,
          1982,
          1983,
          1984,
          1985,
          1986,
          1987,
          1988,
          1989,
          1990,
          1991,
          1992,
          1993,
          1994,
          1995,
          1996,
          1997
         ],
         "xaxis": "x",
         "y": [
          117000,
          169000,
          221000,
          282000,
          364000,
          419000,
          474000,
          467000,
          429000,
          420000,
          438000,
          455000,
          458000,
          485000,
          499000,
          535000,
          562000,
          560000,
          539000,
          451000,
          472000,
          493000,
          506000,
          522000,
          550000,
          592000,
          655000,
          768000,
          882000,
          1031000,
          1108000,
          1200000,
          1342000,
          1467000,
          1564000,
          1676000,
          1783000,
          1924000,
          2126000,
          2300000,
          2499000,
          2707000,
          2895000,
          3060000,
          3241000,
          3396000,
          3620000,
          3834000,
          4057000,
          4274000,
          4362000,
          4604000,
          4859000,
          5073000,
          5243000,
          5462000,
          5657000,
          5800000,
          6021000,
          6308000,
          6470000,
          6636000,
          6842000,
          6985000,
          7073000,
          7244000,
          7442000,
          7672000,
          7734000,
          7913206,
          8049987,
          8219972,
          8628876,
          9021590,
          9240000
         ],
         "yaxis": "y"
        },
        {
         "hovertemplate": "country=Belgium<br>year=%{x}<br>value=%{y}<extra></extra>",
         "legendgroup": "Belgium",
         "line": {
          "color": "#EF553B",
          "dash": "solid"
         },
         "marker": {
          "symbol": "circle"
         },
         "mode": "lines",
         "name": "Belgium",
         "showlegend": true,
         "type": "scattergl",
         "x": [
          1928,
          1929,
          1930,
          1931,
          1932,
          1933,
          1934,
          1935,
          1936,
          1937,
          1938,
          1939,
          1940,
          1941,
          1942,
          1943,
          1944,
          1945,
          1946,
          1947,
          1948,
          1949,
          1950,
          1951,
          1952,
          1953,
          1954,
          1956,
          1958,
          1960,
          1962,
          1964,
          1966,
          1968,
          1969,
          1970,
          1971,
          1972,
          1973,
          1974,
          1975,
          1976,
          1977,
          1978,
          1979,
          1980,
          1981,
          1982,
          1983,
          1984,
          1985,
          1986,
          1987,
          1988,
          1989,
          1990,
          1991,
          1992,
          1993,
          1994,
          1995,
          1996,
          1997,
          1998,
          1999,
          2000,
          2001
         ],
         "xaxis": "x",
         "y": [
          83000,
          97000,
          104000,
          115000,
          121000,
          129000,
          127000,
          130000,
          138000,
          151000,
          161000,
          162000,
          115000,
          16100,
          11300,
          9200,
          13600,
          48000,
          90000,
          135000,
          133000,
          238000,
          287000,
          318000,
          335000,
          385000,
          461000,
          562000,
          663000,
          788000,
          958000,
          1206000,
          1503000,
          1813000,
          1921000,
          2060000,
          2154000,
          2273000,
          2390000,
          2502000,
          2614000,
          2738000,
          2871000,
          2973000,
          3077000,
          3159000,
          3206000,
          3231000,
          3263000,
          3300000,
          3343000,
          3409000,
          3498000,
          3614000,
          3736000,
          3864000,
          3970000,
          4029050,
          4109839,
          4174974,
          4239091,
          4307686,
          4367649,
          4448508,
          4540344,
          4685164,
          4752594
         ],
         "yaxis": "y"
        },
        {
         "hovertemplate": "country=Canada<br>year=%{x}<br>value=%{y}<extra></extra>",
         "legendgroup": "Canada",
         "line": {
          "color": "#00cc96",
          "dash": "solid"
         },
         "marker": {
          "symbol": "circle"
         },
         "mode": "lines",
         "name": "Canada",
         "showlegend": true,
         "type": "scattergl",
         "x": [
          1904,
          1905,
          1906,
          1907,
          1908,
          1909,
          1910,
          1911,
          1912,
          1913,
          1914,
          1915,
          1916,
          1917,
          1918,
          1919,
          1920,
          1921,
          1922,
          1923,
          1924,
          1925,
          1926,
          1927,
          1928,
          1929,
          1930,
          1931,
          1932,
          1933,
          1934,
          1935,
          1936,
          1937,
          1938,
          1939,
          1940,
          1941,
          1942,
          1943,
          1944,
          1945,
          1946,
          1947,
          1948,
          1949,
          1950,
          1951,
          1952,
          1953,
          1954,
          1955,
          1956,
          1957,
          1958,
          1959,
          1960,
          1961,
          1962,
          1963,
          1964,
          1965,
          1966,
          1967,
          1968,
          1969,
          1970,
          1971,
          1972,
          1973,
          1974,
          1975,
          1976,
          1977,
          1978,
          1979,
          1980,
          1981,
          1982,
          1983,
          1984,
          1985,
          1986,
          1987,
          1988,
          1989,
          1990,
          1991,
          1992,
          1993,
          1994,
          1995,
          1996,
          1997,
          1998
         ],
         "xaxis": "x",
         "y": [
          500,
          600,
          1000,
          1500,
          2200,
          3200,
          5900,
          14000,
          20000,
          29000,
          46000,
          61000,
          78000,
          116000,
          157000,
          196000,
          252000,
          334000,
          369000,
          513000,
          573000,
          641900,
          738200,
          831500,
          932800,
          1132100,
          1622500,
          1282800,
          950600,
          922700,
          957700,
          995100,
          1423000,
          1154000,
          1162000,
          1192000,
          1237000,
          1281000,
          1219000,
          1195000,
          1179000,
          1161000,
          1235000,
          1372000,
          1498000,
          1673000,
          1913000,
          2160000,
          2360000,
          2528000,
          2760000,
          2961000,
          3223000,
          3428000,
          3631000,
          3886000,
          4140000,
          4326000,
          4531000,
          4789000,
          5380000,
          5279000,
          5481000,
          5866000,
          6160000,
          6433000,
          6602000,
          6967000,
          7407000,
          7866000,
          8328000,
          8693000,
          9016000,
          9554000,
          9745000,
          9985000,
          10300000,
          10200000,
          10500000,
          10700000,
          10800000,
          11100000,
          11500000,
          11800000,
          12100000,
          12800000,
          12600000,
          13000000,
          13000000,
          13000000,
          13600000,
          13200000,
          13200000,
          13600000,
          13900000
         ],
         "yaxis": "y"
        },
        {
         "hovertemplate": "country=Chile<br>year=%{x}<br>value=%{y}<extra></extra>",
         "legendgroup": "Chile",
         "line": {
          "color": "#ab63fa",
          "dash": "solid"
         },
         "marker": {
          "symbol": "circle"
         },
         "mode": "lines",
         "name": "Chile",
         "showlegend": true,
         "type": "scattergl",
         "x": [
          1915,
          1916,
          1918,
          1919,
          1920,
          1921,
          1922,
          1923,
          1924,
          1925,
          1926,
          1928,
          1929,
          1930,
          1931,
          1932,
          1933,
          1934,
          1935,
          1936,
          1937,
          1938,
          1939,
          1940,
          1941,
          1942,
          1943,
          1944,
          1945,
          1946,
          1947,
          1948,
          1949,
          1950,
          1951,
          1952,
          1953,
          1954,
          1955,
          1956,
          1957,
          1958,
          1959,
          1960,
          1961,
          1962,
          1963,
          1964,
          1965,
          1966,
          1967,
          1968,
          1969,
          1970,
          1971,
          1972,
          1973,
          1974,
          1975,
          1976,
          1977,
          1978,
          1979,
          1980,
          1981,
          1982,
          1983,
          1984,
          1985,
          1986,
          1987,
          1988,
          1989,
          1990,
          1991,
          1992,
          1993,
          1994,
          1995,
          1996,
          1997
         ],
         "xaxis": "x",
         "y": [
          1200,
          1800,
          5700,
          6400,
          7100,
          7000,
          6900,
          6500,
          7500,
          10000,
          12000,
          19000,
          24000,
          28000,
          27000,
          23000,
          22000,
          23000,
          25000,
          27000,
          29000,
          31000,
          32000,
          33000,
          36000,
          35000,
          26000,
          27000,
          29000,
          32000,
          34000,
          37000,
          40000,
          40000,
          43000,
          48000,
          48000,
          49000,
          48000,
          52000,
          54000,
          54000,
          58000,
          58000,
          59000,
          73000,
          84000,
          89000,
          97000,
          108000,
          116000,
          130000,
          151000,
          176000,
          194000,
          216000,
          225000,
          235000,
          256000,
          263000,
          295000,
          336000,
          386000,
          448000,
          574000,
          606000,
          619000,
          630000,
          625000,
          591000,
          618000,
          669000,
          661000,
          710000,
          766000,
          827000,
          897000,
          914000,
          1026000,
          1121000,
          1179000
         ],
         "yaxis": "y"
        },
        {
         "hovertemplate": "country=Denmark<br>year=%{x}<br>value=%{y}<extra></extra>",
         "legendgroup": "Denmark",
         "line": {
          "color": "#FFA15A",
          "dash": "solid"
         },
         "marker": {
          "symbol": "circle"
         },
         "mode": "lines",
         "name": "Denmark",
         "showlegend": true,
         "type": "scattergl",
         "x": [
          1914,
          1915,
          1916,
          1917,
          1920,
          1921,
          1924,
          1925,
          1927,
          1928,
          1929,
          1930,
          1931,
          1932,
          1933,
          1934,
          1935,
          1936,
          1937,
          1938,
          1939,
          1940,
          1941,
          1942,
          1943,
          1944,
          1945,
          1946,
          1947,
          1948,
          1949,
          1950,
          1951,
          1952,
          1953,
          1954,
          1955,
          1956,
          1957,
          1958,
          1959,
          1960,
          1961,
          1962,
          1963,
          1964,
          1965,
          1966,
          1967,
          1968,
          1969,
          1970,
          1971,
          1972,
          1973,
          1974,
          1975,
          1976,
          1977,
          1978,
          1979,
          1980,
          1981,
          1982,
          1983,
          1984,
          1985,
          1986,
          1987,
          1988,
          1989,
          1990,
          1992,
          1993,
          1994,
          1995,
          1996,
          1997,
          1998,
          1999,
          2000
         ],
         "xaxis": "x",
         "y": [
          3100,
          3800,
          5000,
          6400,
          13900,
          17600,
          37900,
          46400,
          59100,
          62600,
          69200,
          78500,
          85200,
          83000,
          84100,
          88100,
          91700,
          95300,
          101000,
          108000,
          117000,
          7000,
          7600,
          7400,
          7200,
          6500,
          44500,
          100000,
          104000,
          108000,
          111000,
          118000,
          122000,
          133000,
          158000,
          194000,
          221000,
          249000,
          280000,
          310000,
          354000,
          408000,
          470000,
          548000,
          605000,
          675000,
          744000,
          813000,
          888000,
          955000,
          1023000,
          1077000,
          1147000,
          1203000,
          1245000,
          1256000,
          1295000,
          1338000,
          1375000,
          1408000,
          1423000,
          1390000,
          1367000,
          1358000,
          1390000,
          1440000,
          1501000,
          1558000,
          1587000,
          1596000,
          1598000,
          1590000,
          1660501,
          1678797,
          1662321,
          1668621,
          1737355,
          1796560,
          1844748,
          1877607,
          1917060
         ],
         "yaxis": "y"
        },
        {
         "hovertemplate": "country=France<br>year=%{x}<br>value=%{y}<extra></extra>",
         "legendgroup": "France",
         "line": {
          "color": "#19d3f3",
          "dash": "solid"
         },
         "marker": {
          "symbol": "circle"
         },
         "mode": "lines",
         "name": "France",
         "showlegend": true,
         "type": "scattergl",
         "x": [
          1895,
          1896,
          1897,
          1898,
          1899,
          1900,
          1901,
          1902,
          1903,
          1904,
          1905,
          1906,
          1907,
          1908,
          1909,
          1910,
          1911,
          1912,
          1913,
          1914,
          1915,
          1916,
          1917,
          1918,
          1919,
          1920,
          1921,
          1922,
          1923,
          1924,
          1925,
          1926,
          1927,
          1928,
          1929,
          1930,
          1931,
          1932,
          1933,
          1934,
          1935,
          1936,
          1937,
          1938,
          1939,
          1940,
          1944,
          1945,
          1950,
          1951,
          1952,
          1953,
          1954,
          1955,
          1956,
          1957,
          1958,
          1959,
          1960,
          1961,
          1962,
          1963,
          1964,
          1965,
          1966,
          1967,
          1968,
          1969,
          1970,
          1971,
          1972,
          1973,
          1974,
          1975,
          1976,
          1977,
          1978,
          1979,
          1980,
          1981,
          1982,
          1983,
          1984,
          1985,
          1986,
          1987,
          1988,
          1989,
          1990,
          1991,
          1992,
          1993,
          1994,
          1995,
          1996,
          1997,
          1998,
          1999,
          2000
         ],
         "xaxis": "x",
         "y": [
          300,
          500,
          1200,
          1500,
          1700,
          2900,
          6400,
          9200,
          13000,
          17100,
          21500,
          26300,
          31300,
          37600,
          44800,
          53700,
          64200,
          76800,
          91000,
          108000,
          102000,
          101000,
          98500,
          94900,
          93300,
          157000,
          197000,
          243000,
          294000,
          374000,
          476000,
          541000,
          643000,
          758000,
          930000,
          1109000,
          1252000,
          1272000,
          1397000,
          1480000,
          1547000,
          1639000,
          1721000,
          1818000,
          1900000,
          1800000,
          680000,
          975000,
          2150000,
          1700000,
          1800000,
          2020000,
          2677000,
          3113000,
          3477000,
          3972000,
          4512000,
          5018000,
          5546000,
          6158000,
          7010000,
          7953000,
          8800000,
          9600000,
          10400000,
          11200000,
          11800000,
          12400000,
          12900000,
          13400000,
          13900000,
          14500000,
          15500000,
          15300000,
          15900000,
          17000000,
          17700000,
          18400000,
          19100000,
          19800000,
          20300000,
          20600000,
          20800000,
          21100000,
          21500000,
          22000000,
          22500000,
          23000000,
          23600000,
          23800000,
          24000000,
          24400000,
          24900000,
          25100000,
          25500000,
          26300000,
          26800000,
          27600000,
          28100000
         ],
         "yaxis": "y"
        },
        {
         "hovertemplate": "country=Ireland<br>year=%{x}<br>value=%{y}<extra></extra>",
         "legendgroup": "Ireland",
         "line": {
          "color": "#FF6692",
          "dash": "solid"
         },
         "marker": {
          "symbol": "circle"
         },
         "mode": "lines",
         "name": "Ireland",
         "showlegend": true,
         "type": "scattergl",
         "x": [
          1923,
          1924,
          1925,
          1926,
          1927,
          1928,
          1929,
          1930,
          1931,
          1932,
          1933,
          1934,
          1935,
          1936,
          1937,
          1938,
          1939,
          1940,
          1941,
          1942,
          1943,
          1944,
          1945,
          1946,
          1947,
          1948,
          1949,
          1950,
          1951,
          1952,
          1953,
          1954,
          1955,
          1956,
          1957,
          1958,
          1959,
          1960,
          1961,
          1962,
          1963,
          1964,
          1965,
          1966,
          1967,
          1968,
          1969,
          1970,
          1971,
          1972,
          1973,
          1974,
          1975,
          1976,
          1977,
          1978,
          1979,
          1980,
          1981,
          1982,
          1983,
          1984,
          1985,
          1986,
          1987,
          1988,
          1989,
          1990,
          1991,
          1992,
          1993,
          1994,
          1995,
          1996,
          1997,
          1998,
          1999,
          2000
         ],
         "xaxis": "x",
         "y": [
          9200,
          13400,
          16200,
          19800,
          22400,
          26300,
          29400,
          32600,
          35700,
          35700,
          36700,
          35500,
          38000,
          40800,
          44500,
          48600,
          52400,
          50200,
          31800,
          8000,
          6200,
          6600,
          7800,
          44500,
          52200,
          60500,
          71900,
          85100,
          96700,
          105000,
          109000,
          117000,
          128000,
          136000,
          135000,
          143000,
          154000,
          170000,
          186000,
          207000,
          229000,
          254000,
          281000,
          196000,
          314000,
          337000,
          375000,
          389000,
          414000,
          440000,
          477000,
          489000,
          512000,
          553000,
          574000,
          641000,
          684000,
          736000,
          776000,
          710000,
          719000,
          711000,
          710000,
          711000,
          734000,
          749000,
          773000,
          796000,
          837000,
          858467.6,
          890963.8,
          923067.8,
          954998.3,
          986996,
          1148084,
          1210112,
          1286604,
          1330737
         ],
         "yaxis": "y"
        },
        {
         "hovertemplate": "country=Israel<br>year=%{x}<br>value=%{y}<extra></extra>",
         "legendgroup": "Israel",
         "line": {
          "color": "#B6E880",
          "dash": "solid"
         },
         "marker": {
          "symbol": "circle"
         },
         "mode": "lines",
         "name": "Israel",
         "showlegend": true,
         "type": "scattergl",
         "x": [
          1945,
          1946,
          1949,
          1950,
          1951,
          1952,
          1953,
          1954,
          1955,
          1956,
          1957,
          1958,
          1959,
          1960,
          1961,
          1962,
          1963,
          1964,
          1965,
          1966,
          1967,
          1968,
          1969,
          1970,
          1971,
          1972,
          1973,
          1974,
          1975,
          1976,
          1977,
          1978,
          1979,
          1980,
          1981,
          1982,
          1983,
          1984,
          1985,
          1986,
          1987,
          1988,
          1989,
          1990,
          1991,
          1992,
          1993,
          1994,
          1995,
          1996,
          1997,
          1998,
          1999,
          2000
         ],
         "xaxis": "x",
         "y": [
          2800,
          4400,
          7900,
          11000,
          12000,
          12000,
          14000,
          15000,
          17000,
          18000,
          20000,
          22000,
          29000,
          27000,
          32000,
          40000,
          49000,
          63000,
          83000,
          92000,
          99000,
          113000,
          134000,
          151000,
          175000,
          201000,
          238000,
          272000,
          284000,
          297000,
          313000,
          361000,
          402000,
          409000,
          454000,
          513000,
          571000,
          599000,
          614000,
          649000,
          697000,
          753000,
          778000,
          813000,
          862000,
          932386,
          988173.6,
          1057502,
          1121754,
          1184790,
          1225560,
          1283765,
          1323000,
          1465337
         ],
         "yaxis": "y"
        },
        {
         "hovertemplate": "country=Italy<br>year=%{x}<br>value=%{y}<extra></extra>",
         "legendgroup": "Italy",
         "line": {
          "color": "#FF97FF",
          "dash": "solid"
         },
         "marker": {
          "symbol": "circle"
         },
         "mode": "lines",
         "name": "Italy",
         "showlegend": true,
         "type": "scattergl",
         "x": [
          1914,
          1915,
          1916,
          1917,
          1918,
          1919,
          1920,
          1921,
          1922,
          1923,
          1924,
          1925,
          1926,
          1927,
          1928,
          1929,
          1930,
          1931,
          1932,
          1933,
          1934,
          1935,
          1936,
          1937,
          1938,
          1939,
          1940,
          1941,
          1942,
          1946,
          1947,
          1948,
          1949,
          1950,
          1951,
          1952,
          1953,
          1954,
          1955,
          1956,
          1957,
          1958,
          1959,
          1960,
          1961,
          1962,
          1963,
          1964,
          1965,
          1966,
          1967,
          1968,
          1969,
          1970,
          1971,
          1972,
          1973,
          1974,
          1975,
          1976,
          1977,
          1978,
          1979,
          1980,
          1981,
          1982,
          1983,
          1984,
          1985,
          1986,
          1987,
          1988,
          1989,
          1990,
          1991,
          1992,
          1993,
          1994,
          1995,
          1996,
          1997,
          1998,
          1999
         ],
         "xaxis": "x",
         "y": [
          22000,
          22700,
          21100,
          17100,
          6800,
          23900,
          31500,
          34100,
          41000,
          53800,
          57000,
          84800,
          105000,
          119000,
          144000,
          170000,
          183000,
          186000,
          188000,
          219000,
          236000,
          244000,
          222000,
          271000,
          289000,
          290000,
          270000,
          97600,
          73800,
          150000,
          184000,
          219000,
          267000,
          342000,
          425000,
          510000,
          613000,
          744000,
          879000,
          1031000,
          1231000,
          1393000,
          1644000,
          1995000,
          2444000,
          3030000,
          3913000,
          4675000,
          5473000,
          6357000,
          7311000,
          8266000,
          9174000,
          10200000,
          11300000,
          12500000,
          13400000,
          14300000,
          15100000,
          15900000,
          16400000,
          16200000,
          17100000,
          17700000,
          18600000,
          19600000,
          20400000,
          20900000,
          22500000,
          23500000,
          24300000,
          25300000,
          26300000,
          27400000,
          28000000,
          29400000,
          29700000,
          29700000,
          30000000,
          30600000,
          31000000,
          31200000,
          31200000
         ],
         "yaxis": "y"
        },
        {
         "hovertemplate": "country=Japan<br>year=%{x}<br>value=%{y}<extra></extra>",
         "legendgroup": "Japan",
         "line": {
          "color": "#FECB52",
          "dash": "solid"
         },
         "marker": {
          "symbol": "circle"
         },
         "mode": "lines",
         "name": "Japan",
         "showlegend": true,
         "type": "scattergl",
         "x": [
          1914,
          1915,
          1916,
          1917,
          1918,
          1919,
          1920,
          1921,
          1922,
          1923,
          1924,
          1925,
          1926,
          1927,
          1928,
          1929,
          1930,
          1931,
          1932,
          1933,
          1936,
          1937,
          1938,
          1939,
          1940,
          1945,
          1946,
          1947,
          1948,
          1949,
          1950,
          1951,
          1952,
          1953,
          1954,
          1955,
          1956,
          1957,
          1958,
          1959,
          1960,
          1961,
          1962,
          1963,
          1964,
          1965,
          1966,
          1967,
          1968,
          1969,
          1970,
          1971,
          1972,
          1973,
          1974,
          1975,
          1976,
          1977,
          1978,
          1979,
          1980,
          1981,
          1982,
          1983,
          1984,
          1985,
          1986,
          1987,
          1988,
          1989,
          1990,
          1991,
          1992,
          1993,
          1994,
          1995,
          1996,
          1997
         ],
         "xaxis": "x",
         "y": [
          700,
          900,
          1300,
          2800,
          3700,
          5100,
          7000,
          8300,
          10000,
          12000,
          15000,
          19000,
          25000,
          32000,
          40000,
          46000,
          58000,
          62000,
          64000,
          67000,
          52000,
          60000,
          59000,
          55000,
          52000,
          26000,
          26000,
          29000,
          31000,
          37000,
          48000,
          63000,
          92000,
          125000,
          139000,
          158000,
          188000,
          226000,
          269000,
          331000,
          440000,
          602000,
          789000,
          1079000,
          1462000,
          1878000,
          2475000,
          3274000,
          4291000,
          5512000,
          6277000,
          8173000,
          9965000,
          11600000,
          13200000,
          14800000,
          16200000,
          17600000,
          19200000,
          20600000,
          21500000,
          22500000,
          23400000,
          24300000,
          25000000,
          25800000,
          26700000,
          27800000,
          29000000,
          32700000,
          35200000,
          37300000,
          39200000,
          43000000,
          42679000,
          44680000,
          46869000,
          48611000
         ],
         "yaxis": "y"
        },
        {
         "hovertemplate": "country=Korea<br>year=%{x}<br>value=%{y}<extra></extra>",
         "legendgroup": "Korea",
         "line": {
          "color": "#636efa",
          "dash": "solid"
         },
         "marker": {
          "symbol": "circle"
         },
         "mode": "lines",
         "name": "Korea",
         "showlegend": true,
         "type": "scattergl",
         "x": [
          1946,
          1947,
          1948,
          1949,
          1951,
          1952,
          1953,
          1954,
          1955,
          1956,
          1957,
          1958,
          1959,
          1960,
          1961,
          1962,
          1963,
          1964,
          1965,
          1966,
          1967,
          1968,
          1969,
          1970,
          1971,
          1972,
          1973,
          1974,
          1975,
          1976,
          1977,
          1978,
          1979,
          1980,
          1981,
          1982,
          1983,
          1984,
          1985,
          1986,
          1987,
          1988,
          1989,
          1990,
          1991,
          1992,
          1993,
          1994,
          1995,
          1996,
          1997,
          1998,
          1999,
          2000
         ],
         "xaxis": "x",
         "y": [
          2200,
          3500,
          3000,
          3400,
          1700,
          2400,
          3700,
          5000,
          6600,
          8400,
          9700,
          11000,
          12000,
          13000,
          9800,
          11000,
          13000,
          15000,
          16000,
          18000,
          23000,
          33000,
          50000,
          61000,
          68000,
          70000,
          78000,
          76000,
          106000,
          129000,
          126000,
          185000,
          241000,
          249000,
          268000,
          306000,
          381000,
          465000,
          557000,
          664000,
          844000,
          1118000,
          1559000,
          2075000,
          2728000,
          3461166,
          4271229,
          5148547,
          6006388,
          6893851,
          7582410,
          7544781,
          7785039,
          8038368
         ],
         "yaxis": "y"
        },
        {
         "hovertemplate": "country=Mexico<br>year=%{x}<br>value=%{y}<extra></extra>",
         "legendgroup": "Mexico",
         "line": {
          "color": "#EF553B",
          "dash": "solid"
         },
         "marker": {
          "symbol": "circle"
         },
         "mode": "lines",
         "name": "Mexico",
         "showlegend": true,
         "type": "scattergl",
         "x": [
          1924,
          1925,
          1926,
          1927,
          1928,
          1929,
          1930,
          1931,
          1932,
          1933,
          1934,
          1935,
          1936,
          1937,
          1938,
          1939,
          1940,
          1941,
          1942,
          1943,
          1944,
          1945,
          1946,
          1947,
          1948,
          1949,
          1950,
          1951,
          1952,
          1953,
          1954,
          1955,
          1956,
          1957,
          1958,
          1959,
          1960,
          1961,
          1962,
          1963,
          1964,
          1965,
          1966,
          1967,
          1968,
          1969,
          1970,
          1971,
          1972,
          1973,
          1974,
          1975,
          1976,
          1977,
          1978,
          1979,
          1980,
          1981,
          1982,
          1983,
          1984,
          1985,
          1986,
          1987,
          1988,
          1989,
          1990,
          1991,
          1992,
          1993,
          1994,
          1995,
          1996,
          1997,
          1998,
          1999,
          2000
         ],
         "xaxis": "x",
         "y": [
          33000,
          40000,
          43000,
          44000,
          49000,
          62000,
          63000,
          62000,
          60000,
          65000,
          74000,
          65000,
          67000,
          78000,
          82000,
          89000,
          94000,
          106000,
          113000,
          112000,
          112000,
          113000,
          121000,
          134000,
          150000,
          163000,
          173000,
          209000,
          237000,
          253000,
          274000,
          308000,
          320000,
          366000,
          379000,
          438000,
          483000,
          550000,
          548000,
          618000,
          688000,
          771000,
          812000,
          917000,
          1000000,
          1133000,
          1234000,
          1338000,
          1520000,
          1767000,
          2053000,
          2401000,
          2580000,
          2829000,
          3360000,
          3763000,
          4241000,
          4727000,
          4760000,
          4711000,
          4955000,
          5260000,
          5179000,
          5312000,
          5783000,
          5942000,
          6524000,
          6894000,
          7496829,
          7824388,
          8100331,
          8543932,
          8707228,
          9110822,
          9429849,
          9948152,
          10500000
         ],
         "yaxis": "y"
        },
        {
         "hovertemplate": "country=New Zealand<br>year=%{x}<br>value=%{y}<extra></extra>",
         "legendgroup": "New Zealand",
         "line": {
          "color": "#00cc96",
          "dash": "solid"
         },
         "marker": {
          "symbol": "circle"
         },
         "mode": "lines",
         "name": "New Zealand",
         "showlegend": true,
         "type": "scattergl",
         "x": [
          1927,
          1928,
          1929,
          1930,
          1931,
          1932,
          1933,
          1934,
          1935,
          1936,
          1937,
          1938,
          1939,
          1940,
          1941,
          1942,
          1943,
          1944,
          1945,
          1946,
          1947,
          1948,
          1949,
          1950,
          1951,
          1952,
          1953,
          1954,
          1955,
          1956,
          1957,
          1958,
          1959,
          1960,
          1961,
          1962,
          1963,
          1964,
          1965,
          1966,
          1967,
          1968,
          1969,
          1970,
          1971,
          1972,
          1973,
          1974,
          1975,
          1976,
          1977,
          1978,
          1979,
          1980,
          1981,
          1982,
          1983,
          1984,
          1985,
          1986,
          1988,
          1989,
          1990,
          1991,
          1992,
          1993,
          1994,
          1995,
          1996,
          2000
         ],
         "xaxis": "x",
         "y": [
          108000,
          125000,
          143000,
          153000,
          151000,
          149000,
          123000,
          130000,
          142000,
          160000,
          181000,
          201000,
          213000,
          210000,
          205000,
          187000,
          195000,
          195000,
          196000,
          196000,
          208000,
          221000,
          228000,
          246000,
          265000,
          297000,
          318000,
          336000,
          377000,
          411000,
          443000,
          481000,
          497000,
          516000,
          541000,
          573000,
          605000,
          656000,
          716000,
          750000,
          808000,
          830000,
          858000,
          891000,
          939000,
          990000,
          1059000,
          1087000,
          1138000,
          1181000,
          1234000,
          1252000,
          1281000,
          1303000,
          1342000,
          1376000,
          1411000,
          1466000,
          1495000,
          1531000,
          1382000,
          1439000,
          1498000,
          1548000,
          1559378,
          1579538,
          1612638,
          1655017,
          1770498,
          2229924
         ],
         "yaxis": "y"
        },
        {
         "hovertemplate": "country=Norway<br>year=%{x}<br>value=%{y}<extra></extra>",
         "legendgroup": "Norway",
         "line": {
          "color": "#ab63fa",
          "dash": "solid"
         },
         "marker": {
          "symbol": "circle"
         },
         "mode": "lines",
         "name": "Norway",
         "showlegend": true,
         "type": "scattergl",
         "x": [
          1914,
          1915,
          1916,
          1917,
          1918,
          1919,
          1920,
          1921,
          1922,
          1923,
          1924,
          1925,
          1926,
          1927,
          1928,
          1929,
          1930,
          1931,
          1932,
          1933,
          1934,
          1935,
          1936,
          1937,
          1938,
          1939,
          1940,
          1941,
          1942,
          1943,
          1944,
          1945,
          1946,
          1947,
          1948,
          1949,
          1950,
          1951,
          1952,
          1953,
          1954,
          1955,
          1956,
          1957,
          1958,
          1959,
          1960,
          1961,
          1962,
          1963,
          1964,
          1965,
          1966,
          1967,
          1968,
          1969,
          1970,
          1971,
          1972,
          1973,
          1974,
          1975,
          1976,
          1977,
          1978,
          1979,
          1980,
          1981,
          1982,
          1983,
          1984,
          1985,
          1986,
          1987,
          1988,
          1989,
          1990,
          1991,
          1992,
          1993,
          1994,
          1995,
          1996,
          1997,
          1998,
          1999,
          2000
         ],
         "xaxis": "x",
         "y": [
          900,
          1200,
          2000,
          2400,
          2400,
          3700,
          6300,
          7700,
          9000,
          12100,
          13800,
          16600,
          20300,
          16400,
          17400,
          19100,
          21100,
          22800,
          23700,
          25700,
          27900,
          30200,
          34000,
          40500,
          48100,
          52900,
          46000,
          43200,
          41800,
          40600,
          35800,
          39500,
          46800,
          52200,
          53300,
          54800,
          56600,
          60700,
          69000,
          80300,
          96000,
          109000,
          121000,
          138000,
          156000,
          175000,
          206000,
          253000,
          296000,
          336000,
          384000,
          431000,
          479000,
          529000,
          575000,
          650000,
          695000,
          742000,
          788000,
          838000,
          890000,
          954000,
          1023000,
          1107000,
          1147000,
          1190000,
          1234000,
          1279000,
          1338000,
          1383000,
          1430000,
          1514000,
          1592000,
          1623000,
          1622000,
          1613000,
          1612000,
          1615000,
          1619294,
          1633084,
          1653828,
          1684660,
          1661231,
          1752792,
          1781664,
          1806300,
          1845801
         ],
         "yaxis": "y"
        },
        {
         "hovertemplate": "country=Spain<br>year=%{x}<br>value=%{y}<extra></extra>",
         "legendgroup": "Spain",
         "line": {
          "color": "#FFA15A",
          "dash": "solid"
         },
         "marker": {
          "symbol": "circle"
         },
         "mode": "lines",
         "name": "Spain",
         "showlegend": true,
         "type": "scattergl",
         "x": [
          1948,
          1949,
          1950,
          1951,
          1952,
          1953,
          1954,
          1955,
          1956,
          1957,
          1958,
          1959,
          1960,
          1961,
          1962,
          1963,
          1964,
          1965,
          1966,
          1967,
          1968,
          1969,
          1970,
          1971,
          1972,
          1973,
          1974,
          1975,
          1976,
          1977,
          1978,
          1979,
          1980,
          1981,
          1982,
          1983,
          1984,
          1985,
          1986,
          1987,
          1988,
          1989,
          1990,
          1991,
          1992,
          1993,
          1994,
          1995,
          1996,
          1997,
          1998
         ],
         "xaxis": "x",
         "y": [
          83000,
          86000,
          89000,
          97000,
          102000,
          108000,
          118000,
          132000,
          153000,
          167000,
          188000,
          240000,
          291000,
          359000,
          441000,
          530000,
          652000,
          807000,
          1053000,
          1335000,
          1634000,
          1999000,
          2378000,
          2785000,
          3255000,
          3804000,
          4310000,
          4807000,
          5351000,
          5945000,
          6530000,
          7057000,
          7557000,
          7943000,
          8354000,
          8714000,
          8874000,
          9274000,
          9762000,
          10200000,
          10800000,
          11500000,
          12000000,
          12500000,
          13000000,
          13000000,
          14000000,
          14200000,
          14800000,
          15300000,
          16300000
         ],
         "yaxis": "y"
        },
        {
         "hovertemplate": "country=Sweden<br>year=%{x}<br>value=%{y}<extra></extra>",
         "legendgroup": "Sweden",
         "line": {
          "color": "#19d3f3",
          "dash": "solid"
         },
         "marker": {
          "symbol": "circle"
         },
         "mode": "lines",
         "name": "Sweden",
         "showlegend": true,
         "type": "scattergl",
         "x": [
          1923,
          1924,
          1925,
          1926,
          1927,
          1928,
          1929,
          1930,
          1931,
          1932,
          1933,
          1934,
          1935,
          1936,
          1937,
          1938,
          1939,
          1940,
          1941,
          1942,
          1943,
          1944,
          1945,
          1946,
          1947,
          1948,
          1949,
          1950,
          1951,
          1952,
          1953,
          1954,
          1955,
          1956,
          1957,
          1958,
          1959,
          1960,
          1961,
          1962,
          1963,
          1964,
          1965,
          1966,
          1967,
          1968,
          1969,
          1970,
          1971,
          1972,
          1973,
          1974,
          1975,
          1976,
          1977,
          1978,
          1979,
          1980,
          1981,
          1982,
          1983,
          1984,
          1985,
          1986,
          1987,
          1988,
          1989,
          1990,
          1991,
          1992,
          1993,
          1994,
          1995,
          1996,
          1997,
          1998,
          1999,
          2000
         ],
         "xaxis": "x",
         "y": [
          37800,
          46600,
          59100,
          70500,
          81500,
          94300,
          99100,
          104000,
          105000,
          102000,
          98900,
          102000,
          109000,
          119000,
          134000,
          157000,
          181000,
          34600,
          31900,
          36700,
          36200,
          39100,
          50100,
          138000,
          161000,
          180000,
          194000,
          252000,
          313000,
          361000,
          431000,
          536000,
          637000,
          735000,
          863000,
          972000,
          1088000,
          1194000,
          1304000,
          1424000,
          1556000,
          1666000,
          1793000,
          1890000,
          1977000,
          2072000,
          2194000,
          2289000,
          2357000,
          2458000,
          2503000,
          2639000,
          2760000,
          2881000,
          2857000,
          2856000,
          2868000,
          2883000,
          2893000,
          2936000,
          3007000,
          3081000,
          3151000,
          3254000,
          3367000,
          3483000,
          3578000,
          3601000,
          3619000,
          3588639,
          3566246,
          3594327,
          3630777,
          3654900,
          3698882,
          3788656,
          3888223,
          3991050
         ],
         "yaxis": "y"
        },
        {
         "hovertemplate": "country=Switzerland<br>year=%{x}<br>value=%{y}<extra></extra>",
         "legendgroup": "Switzerland",
         "line": {
          "color": "#FF6692",
          "dash": "solid"
         },
         "marker": {
          "symbol": "circle"
         },
         "mode": "lines",
         "name": "Switzerland",
         "showlegend": true,
         "type": "scattergl",
         "x": [
          1910,
          1913,
          1914,
          1917,
          1920,
          1922,
          1923,
          1924,
          1925,
          1926,
          1927,
          1928,
          1929,
          1930,
          1931,
          1933,
          1934,
          1935,
          1936,
          1937,
          1938,
          1939,
          1940,
          1941,
          1942,
          1943,
          1944,
          1945,
          1946,
          1947,
          1948,
          1949,
          1950,
          1951,
          1952,
          1953,
          1954,
          1955,
          1956,
          1957,
          1958,
          1959,
          1960,
          1961,
          1962,
          1963,
          1964,
          1965,
          1966,
          1967,
          1968,
          1969,
          1970,
          1971,
          1972,
          1973,
          1974,
          1975,
          1976,
          1977,
          1978,
          1979,
          1980,
          1981,
          1982,
          1983,
          1984,
          1985,
          1986,
          1987,
          1988,
          1989,
          1990,
          1991,
          1992,
          1993,
          1994,
          1995,
          1996,
          1997,
          1998,
          1999,
          2000
         ],
         "xaxis": "x",
         "y": [
          2300,
          4700,
          5400,
          5100,
          8900,
          15000,
          16700,
          22500,
          28700,
          36100,
          42400,
          50200,
          55100,
          60700,
          63900,
          66400,
          69700,
          70800,
          69100,
          71500,
          74900,
          77900,
          65900,
          16200,
          16800,
          17000,
          17500,
          18300,
          63000,
          82200,
          106000,
          123000,
          147000,
          168000,
          188000,
          211000,
          238000,
          271000,
          309000,
          347000,
          386000,
          430000,
          485000,
          550000,
          630000,
          700000,
          779000,
          845000,
          919000,
          979000,
          1061000,
          1146000,
          1239000,
          1458000,
          1557000,
          1652000,
          1723000,
          1794000,
          1864000,
          1933000,
          2055000,
          2154000,
          2247000,
          2394000,
          2473000,
          2521000,
          2552000,
          2617000,
          2679000,
          2733000,
          2745000,
          2900000,
          2994000,
          3066000,
          3119119,
          3137641,
          3165065,
          3229144,
          3268047,
          3324272,
          3391470,
          3462900,
          3539740
         ],
         "yaxis": "y"
        },
        {
         "hovertemplate": "country=Turkey<br>year=%{x}<br>value=%{y}<extra></extra>",
         "legendgroup": "Turkey",
         "line": {
          "color": "#B6E880",
          "dash": "solid"
         },
         "marker": {
          "symbol": "circle"
         },
         "mode": "lines",
         "name": "Turkey",
         "showlegend": true,
         "type": "scattergl",
         "x": [
          1930,
          1934,
          1937,
          1938,
          1943,
          1944,
          1945,
          1946,
          1947,
          1948,
          1949,
          1950,
          1951,
          1952,
          1953,
          1954,
          1955,
          1956,
          1957,
          1958,
          1959,
          1960,
          1961,
          1962,
          1963,
          1964,
          1965,
          1966,
          1967,
          1968,
          1969,
          1970,
          1971,
          1972,
          1973,
          1974,
          1975,
          1976,
          1977,
          1978,
          1979,
          1980,
          1981,
          1982,
          1983,
          1984,
          1985,
          1986,
          1987,
          1988,
          1989,
          1990,
          1991,
          1992,
          1993,
          1994,
          1995,
          1996,
          1997,
          1998,
          1999,
          2000,
          2001,
          2002,
          2003
         ],
         "xaxis": "x",
         "y": [
          5100,
          4300,
          3800,
          4600,
          3600,
          3600,
          3400,
          4700,
          5800,
          8000,
          10000,
          13000,
          16000,
          24000,
          28000,
          29000,
          30000,
          33000,
          37000,
          34000,
          38000,
          46000,
          52000,
          61000,
          72000,
          79000,
          88000,
          92000,
          112000,
          125000,
          137000,
          138000,
          153000,
          187000,
          240000,
          313000,
          403000,
          489000,
          560000,
          624000,
          689000,
          741000,
          776000,
          811000,
          856000,
          920000,
          983000,
          1087000,
          1193000,
          1310000,
          1435000,
          1650000,
          1864000,
          2181000,
          2620000,
          2862000,
          3059000,
          3274000,
          3570000,
          3838000,
          4072000,
          4422000,
          4535000,
          4600000,
          4700000
         ],
         "yaxis": "y"
        },
        {
         "hovertemplate": "country=United Kingdom<br>year=%{x}<br>value=%{y}<extra></extra>",
         "legendgroup": "United Kingdom",
         "line": {
          "color": "#FF97FF",
          "dash": "solid"
         },
         "marker": {
          "symbol": "circle"
         },
         "mode": "lines",
         "name": "United Kingdom",
         "showlegend": true,
         "type": "scattergl",
         "x": [
          1904,
          1905,
          1906,
          1907,
          1908,
          1909,
          1910,
          1911,
          1912,
          1913,
          1914,
          1915,
          1916,
          1917,
          1918,
          1919,
          1920,
          1921,
          1922,
          1923,
          1924,
          1925,
          1926,
          1927,
          1928,
          1929,
          1930,
          1931,
          1932,
          1933,
          1934,
          1935,
          1936,
          1937,
          1938,
          1939,
          1940,
          1941,
          1942,
          1943,
          1944,
          1945,
          1946,
          1947,
          1948,
          1949,
          1950,
          1951,
          1952,
          1953,
          1954,
          1955,
          1956,
          1957,
          1958,
          1959,
          1960,
          1961,
          1962,
          1963,
          1964,
          1965,
          1966,
          1967,
          1968,
          1969,
          1970,
          1971,
          1972,
          1973,
          1974,
          1975,
          1976,
          1978,
          1979,
          1980,
          1981,
          1982,
          1983,
          1984,
          1985,
          1986,
          1987,
          1988,
          1989,
          1990,
          1991,
          1992,
          1993,
          1994,
          1995,
          1996,
          1997,
          1998
         ],
         "xaxis": "x",
         "y": [
          8000,
          16000,
          23000,
          32000,
          41000,
          48000,
          53000,
          72000,
          88000,
          106000,
          132000,
          139000,
          142000,
          110000,
          78000,
          110000,
          187000,
          243000,
          315000,
          384000,
          474000,
          580000,
          684000,
          787000,
          885000,
          981000,
          1056000,
          1083000,
          1128000,
          1203000,
          1308000,
          1477000,
          1643000,
          1798000,
          1944000,
          2034000,
          1423000,
          1503000,
          858000,
          718000,
          755000,
          1487000,
          1770000,
          1944000,
          1961000,
          2131000,
          2258000,
          2380000,
          2508000,
          2762000,
          3100000,
          3526000,
          3888000,
          4187000,
          4549000,
          4966000,
          5526000,
          5979000,
          6556000,
          7375000,
          8247000,
          8917000,
          9513000,
          10300000,
          10800000,
          11200000,
          11500000,
          12100000,
          12700000,
          13500000,
          13600000,
          13700000,
          13800000,
          13800000,
          14300000,
          14800000,
          14900000,
          15300000,
          15500000,
          16100000,
          16500000,
          17000000,
          17400000,
          18400000,
          19200000,
          19700000,
          19700000,
          19900000,
          20200000,
          20500000,
          20500000,
          21200000,
          22100000,
          22500000
         ],
         "yaxis": "y"
        },
        {
         "hovertemplate": "country=United States<br>year=%{x}<br>value=%{y}<extra></extra>",
         "legendgroup": "United States",
         "line": {
          "color": "#FECB52",
          "dash": "solid"
         },
         "marker": {
          "symbol": "circle"
         },
         "mode": "lines",
         "name": "United States",
         "showlegend": true,
         "type": "scattergl",
         "x": [
          1900,
          1901,
          1902,
          1903,
          1904,
          1905,
          1906,
          1907,
          1908,
          1909,
          1910,
          1911,
          1912,
          1913,
          1914,
          1915,
          1916,
          1917,
          1918,
          1919,
          1920,
          1921,
          1922,
          1923,
          1924,
          1925,
          1926,
          1927,
          1928,
          1929,
          1930,
          1931,
          1932,
          1933,
          1934,
          1935,
          1936,
          1937,
          1938,
          1939,
          1940,
          1941,
          1942,
          1943,
          1944,
          1945,
          1946,
          1947,
          1948,
          1949,
          1950,
          1951,
          1952,
          1953,
          1954,
          1955,
          1956,
          1957,
          1958,
          1959,
          1960,
          1961,
          1962,
          1963,
          1964,
          1965,
          1966,
          1967,
          1968,
          1969,
          1970,
          1971,
          1972,
          1973,
          1974,
          1975,
          1976,
          1977,
          1978,
          1979,
          1980,
          1981,
          1982,
          1983,
          1984,
          1985,
          1986,
          1987,
          1988,
          1989,
          1990,
          1991,
          1992,
          1993,
          1994,
          1995,
          1996,
          1997,
          1998,
          1999,
          2000,
          2001,
          2002
         ],
         "xaxis": "x",
         "y": [
          8000,
          15000,
          23000,
          33000,
          55000,
          77000,
          106000,
          140000,
          194000,
          306000,
          458000,
          619000,
          902000,
          1190000,
          1664000,
          2332000,
          3368000,
          4727000,
          5555000,
          6679000,
          8132000,
          9212000,
          10700000,
          13300000,
          15400000,
          17500000,
          19300000,
          20200000,
          21400000,
          23100000,
          23000000,
          22400000,
          20900000,
          20700000,
          21500000,
          22600000,
          24200000,
          25500000,
          25300000,
          26200000,
          27500000,
          29600000,
          28000000,
          26000000,
          25600000,
          25800000,
          28200000,
          30800000,
          33400000,
          36500000,
          40300000,
          42700000,
          43800000,
          46400000,
          48500000,
          52100000,
          54200000,
          55900000,
          56900000,
          59500000,
          61700000,
          63400000,
          66100000,
          69100000,
          72000000,
          75300000,
          78100000,
          80400000,
          83600000,
          86900000,
          89200000,
          92700000,
          97100000,
          102000000,
          105000000,
          107000000,
          110000000,
          112000000,
          117000000,
          119000000,
          122000000,
          123000000,
          124000000,
          126000000,
          128000000,
          132000000,
          135000000,
          137000000,
          141000000,
          143000000,
          144000000,
          143000000,
          144000000,
          146000000,
          191000000,
          194000000,
          199000000,
          200000000,
          203000000,
          208000000,
          213000000,
          222000000,
          221000000
         ],
         "yaxis": "y"
        }
       ],
       "layout": {
        "legend": {
         "title": {
          "text": "country"
         },
         "tracegroupgap": 0
        },
        "template": {
         "data": {
          "bar": [
           {
            "error_x": {
             "color": "#2a3f5f"
            },
            "error_y": {
             "color": "#2a3f5f"
            },
            "marker": {
             "line": {
              "color": "white",
              "width": 0.5
             },
             "pattern": {
              "fillmode": "overlay",
              "size": 10,
              "solidity": 0.2
             }
            },
            "type": "bar"
           }
          ],
          "barpolar": [
           {
            "marker": {
             "line": {
              "color": "white",
              "width": 0.5
             },
             "pattern": {
              "fillmode": "overlay",
              "size": 10,
              "solidity": 0.2
             }
            },
            "type": "barpolar"
           }
          ],
          "carpet": [
           {
            "aaxis": {
             "endlinecolor": "#2a3f5f",
             "gridcolor": "#C8D4E3",
             "linecolor": "#C8D4E3",
             "minorgridcolor": "#C8D4E3",
             "startlinecolor": "#2a3f5f"
            },
            "baxis": {
             "endlinecolor": "#2a3f5f",
             "gridcolor": "#C8D4E3",
             "linecolor": "#C8D4E3",
             "minorgridcolor": "#C8D4E3",
             "startlinecolor": "#2a3f5f"
            },
            "type": "carpet"
           }
          ],
          "choropleth": [
           {
            "colorbar": {
             "outlinewidth": 0,
             "ticks": ""
            },
            "type": "choropleth"
           }
          ],
          "contour": [
           {
            "colorbar": {
             "outlinewidth": 0,
             "ticks": ""
            },
            "colorscale": [
             [
              0,
              "#0d0887"
             ],
             [
              0.1111111111111111,
              "#46039f"
             ],
             [
              0.2222222222222222,
              "#7201a8"
             ],
             [
              0.3333333333333333,
              "#9c179e"
             ],
             [
              0.4444444444444444,
              "#bd3786"
             ],
             [
              0.5555555555555556,
              "#d8576b"
             ],
             [
              0.6666666666666666,
              "#ed7953"
             ],
             [
              0.7777777777777778,
              "#fb9f3a"
             ],
             [
              0.8888888888888888,
              "#fdca26"
             ],
             [
              1,
              "#f0f921"
             ]
            ],
            "type": "contour"
           }
          ],
          "contourcarpet": [
           {
            "colorbar": {
             "outlinewidth": 0,
             "ticks": ""
            },
            "type": "contourcarpet"
           }
          ],
          "heatmap": [
           {
            "colorbar": {
             "outlinewidth": 0,
             "ticks": ""
            },
            "colorscale": [
             [
              0,
              "#0d0887"
             ],
             [
              0.1111111111111111,
              "#46039f"
             ],
             [
              0.2222222222222222,
              "#7201a8"
             ],
             [
              0.3333333333333333,
              "#9c179e"
             ],
             [
              0.4444444444444444,
              "#bd3786"
             ],
             [
              0.5555555555555556,
              "#d8576b"
             ],
             [
              0.6666666666666666,
              "#ed7953"
             ],
             [
              0.7777777777777778,
              "#fb9f3a"
             ],
             [
              0.8888888888888888,
              "#fdca26"
             ],
             [
              1,
              "#f0f921"
             ]
            ],
            "type": "heatmap"
           }
          ],
          "heatmapgl": [
           {
            "colorbar": {
             "outlinewidth": 0,
             "ticks": ""
            },
            "colorscale": [
             [
              0,
              "#0d0887"
             ],
             [
              0.1111111111111111,
              "#46039f"
             ],
             [
              0.2222222222222222,
              "#7201a8"
             ],
             [
              0.3333333333333333,
              "#9c179e"
             ],
             [
              0.4444444444444444,
              "#bd3786"
             ],
             [
              0.5555555555555556,
              "#d8576b"
             ],
             [
              0.6666666666666666,
              "#ed7953"
             ],
             [
              0.7777777777777778,
              "#fb9f3a"
             ],
             [
              0.8888888888888888,
              "#fdca26"
             ],
             [
              1,
              "#f0f921"
             ]
            ],
            "type": "heatmapgl"
           }
          ],
          "histogram": [
           {
            "marker": {
             "pattern": {
              "fillmode": "overlay",
              "size": 10,
              "solidity": 0.2
             }
            },
            "type": "histogram"
           }
          ],
          "histogram2d": [
           {
            "colorbar": {
             "outlinewidth": 0,
             "ticks": ""
            },
            "colorscale": [
             [
              0,
              "#0d0887"
             ],
             [
              0.1111111111111111,
              "#46039f"
             ],
             [
              0.2222222222222222,
              "#7201a8"
             ],
             [
              0.3333333333333333,
              "#9c179e"
             ],
             [
              0.4444444444444444,
              "#bd3786"
             ],
             [
              0.5555555555555556,
              "#d8576b"
             ],
             [
              0.6666666666666666,
              "#ed7953"
             ],
             [
              0.7777777777777778,
              "#fb9f3a"
             ],
             [
              0.8888888888888888,
              "#fdca26"
             ],
             [
              1,
              "#f0f921"
             ]
            ],
            "type": "histogram2d"
           }
          ],
          "histogram2dcontour": [
           {
            "colorbar": {
             "outlinewidth": 0,
             "ticks": ""
            },
            "colorscale": [
             [
              0,
              "#0d0887"
             ],
             [
              0.1111111111111111,
              "#46039f"
             ],
             [
              0.2222222222222222,
              "#7201a8"
             ],
             [
              0.3333333333333333,
              "#9c179e"
             ],
             [
              0.4444444444444444,
              "#bd3786"
             ],
             [
              0.5555555555555556,
              "#d8576b"
             ],
             [
              0.6666666666666666,
              "#ed7953"
             ],
             [
              0.7777777777777778,
              "#fb9f3a"
             ],
             [
              0.8888888888888888,
              "#fdca26"
             ],
             [
              1,
              "#f0f921"
             ]
            ],
            "type": "histogram2dcontour"
           }
          ],
          "mesh3d": [
           {
            "colorbar": {
             "outlinewidth": 0,
             "ticks": ""
            },
            "type": "mesh3d"
           }
          ],
          "parcoords": [
           {
            "line": {
             "colorbar": {
              "outlinewidth": 0,
              "ticks": ""
             }
            },
            "type": "parcoords"
           }
          ],
          "pie": [
           {
            "automargin": true,
            "type": "pie"
           }
          ],
          "scatter": [
           {
            "fillpattern": {
             "fillmode": "overlay",
             "size": 10,
             "solidity": 0.2
            },
            "type": "scatter"
           }
          ],
          "scatter3d": [
           {
            "line": {
             "colorbar": {
              "outlinewidth": 0,
              "ticks": ""
             }
            },
            "marker": {
             "colorbar": {
              "outlinewidth": 0,
              "ticks": ""
             }
            },
            "type": "scatter3d"
           }
          ],
          "scattercarpet": [
           {
            "marker": {
             "colorbar": {
              "outlinewidth": 0,
              "ticks": ""
             }
            },
            "type": "scattercarpet"
           }
          ],
          "scattergeo": [
           {
            "marker": {
             "colorbar": {
              "outlinewidth": 0,
              "ticks": ""
             }
            },
            "type": "scattergeo"
           }
          ],
          "scattergl": [
           {
            "marker": {
             "colorbar": {
              "outlinewidth": 0,
              "ticks": ""
             }
            },
            "type": "scattergl"
           }
          ],
          "scattermapbox": [
           {
            "marker": {
             "colorbar": {
              "outlinewidth": 0,
              "ticks": ""
             }
            },
            "type": "scattermapbox"
           }
          ],
          "scatterpolar": [
           {
            "marker": {
             "colorbar": {
              "outlinewidth": 0,
              "ticks": ""
             }
            },
            "type": "scatterpolar"
           }
          ],
          "scatterpolargl": [
           {
            "marker": {
             "colorbar": {
              "outlinewidth": 0,
              "ticks": ""
             }
            },
            "type": "scatterpolargl"
           }
          ],
          "scatterternary": [
           {
            "marker": {
             "colorbar": {
              "outlinewidth": 0,
              "ticks": ""
             }
            },
            "type": "scatterternary"
           }
          ],
          "surface": [
           {
            "colorbar": {
             "outlinewidth": 0,
             "ticks": ""
            },
            "colorscale": [
             [
              0,
              "#0d0887"
             ],
             [
              0.1111111111111111,
              "#46039f"
             ],
             [
              0.2222222222222222,
              "#7201a8"
             ],
             [
              0.3333333333333333,
              "#9c179e"
             ],
             [
              0.4444444444444444,
              "#bd3786"
             ],
             [
              0.5555555555555556,
              "#d8576b"
             ],
             [
              0.6666666666666666,
              "#ed7953"
             ],
             [
              0.7777777777777778,
              "#fb9f3a"
             ],
             [
              0.8888888888888888,
              "#fdca26"
             ],
             [
              1,
              "#f0f921"
             ]
            ],
            "type": "surface"
           }
          ],
          "table": [
           {
            "cells": {
             "fill": {
              "color": "#EBF0F8"
             },
             "line": {
              "color": "white"
             }
            },
            "header": {
             "fill": {
              "color": "#C8D4E3"
             },
             "line": {
              "color": "white"
             }
            },
            "type": "table"
           }
          ]
         },
         "layout": {
          "annotationdefaults": {
           "arrowcolor": "#2a3f5f",
           "arrowhead": 0,
           "arrowwidth": 1
          },
          "autotypenumbers": "strict",
          "coloraxis": {
           "colorbar": {
            "outlinewidth": 0,
            "ticks": ""
           }
          },
          "colorscale": {
           "diverging": [
            [
             0,
             "#8e0152"
            ],
            [
             0.1,
             "#c51b7d"
            ],
            [
             0.2,
             "#de77ae"
            ],
            [
             0.3,
             "#f1b6da"
            ],
            [
             0.4,
             "#fde0ef"
            ],
            [
             0.5,
             "#f7f7f7"
            ],
            [
             0.6,
             "#e6f5d0"
            ],
            [
             0.7,
             "#b8e186"
            ],
            [
             0.8,
             "#7fbc41"
            ],
            [
             0.9,
             "#4d9221"
            ],
            [
             1,
             "#276419"
            ]
           ],
           "sequential": [
            [
             0,
             "#0d0887"
            ],
            [
             0.1111111111111111,
             "#46039f"
            ],
            [
             0.2222222222222222,
             "#7201a8"
            ],
            [
             0.3333333333333333,
             "#9c179e"
            ],
            [
             0.4444444444444444,
             "#bd3786"
            ],
            [
             0.5555555555555556,
             "#d8576b"
            ],
            [
             0.6666666666666666,
             "#ed7953"
            ],
            [
             0.7777777777777778,
             "#fb9f3a"
            ],
            [
             0.8888888888888888,
             "#fdca26"
            ],
            [
             1,
             "#f0f921"
            ]
           ],
           "sequentialminus": [
            [
             0,
             "#0d0887"
            ],
            [
             0.1111111111111111,
             "#46039f"
            ],
            [
             0.2222222222222222,
             "#7201a8"
            ],
            [
             0.3333333333333333,
             "#9c179e"
            ],
            [
             0.4444444444444444,
             "#bd3786"
            ],
            [
             0.5555555555555556,
             "#d8576b"
            ],
            [
             0.6666666666666666,
             "#ed7953"
            ],
            [
             0.7777777777777778,
             "#fb9f3a"
            ],
            [
             0.8888888888888888,
             "#fdca26"
            ],
            [
             1,
             "#f0f921"
            ]
           ]
          },
          "colorway": [
           "#636efa",
           "#EF553B",
           "#00cc96",
           "#ab63fa",
           "#FFA15A",
           "#19d3f3",
           "#FF6692",
           "#B6E880",
           "#FF97FF",
           "#FECB52"
          ],
          "font": {
           "color": "#2a3f5f"
          },
          "geo": {
           "bgcolor": "white",
           "lakecolor": "white",
           "landcolor": "white",
           "showlakes": true,
           "showland": true,
           "subunitcolor": "#C8D4E3"
          },
          "hoverlabel": {
           "align": "left"
          },
          "hovermode": "closest",
          "mapbox": {
           "style": "light"
          },
          "paper_bgcolor": "white",
          "plot_bgcolor": "white",
          "polar": {
           "angularaxis": {
            "gridcolor": "#EBF0F8",
            "linecolor": "#EBF0F8",
            "ticks": ""
           },
           "bgcolor": "white",
           "radialaxis": {
            "gridcolor": "#EBF0F8",
            "linecolor": "#EBF0F8",
            "ticks": ""
           }
          },
          "scene": {
           "xaxis": {
            "backgroundcolor": "white",
            "gridcolor": "#DFE8F3",
            "gridwidth": 2,
            "linecolor": "#EBF0F8",
            "showbackground": true,
            "ticks": "",
            "zerolinecolor": "#EBF0F8"
           },
           "yaxis": {
            "backgroundcolor": "white",
            "gridcolor": "#DFE8F3",
            "gridwidth": 2,
            "linecolor": "#EBF0F8",
            "showbackground": true,
            "ticks": "",
            "zerolinecolor": "#EBF0F8"
           },
           "zaxis": {
            "backgroundcolor": "white",
            "gridcolor": "#DFE8F3",
            "gridwidth": 2,
            "linecolor": "#EBF0F8",
            "showbackground": true,
            "ticks": "",
            "zerolinecolor": "#EBF0F8"
           }
          },
          "shapedefaults": {
           "line": {
            "color": "#2a3f5f"
           }
          },
          "ternary": {
           "aaxis": {
            "gridcolor": "#DFE8F3",
            "linecolor": "#A2B1C6",
            "ticks": ""
           },
           "baxis": {
            "gridcolor": "#DFE8F3",
            "linecolor": "#A2B1C6",
            "ticks": ""
           },
           "bgcolor": "white",
           "caxis": {
            "gridcolor": "#DFE8F3",
            "linecolor": "#A2B1C6",
            "ticks": ""
           }
          },
          "title": {
           "x": 0.05
          },
          "xaxis": {
           "automargin": true,
           "gridcolor": "#EBF0F8",
           "linecolor": "#EBF0F8",
           "ticks": "",
           "title": {
            "standoff": 15
           },
           "zerolinecolor": "#EBF0F8",
           "zerolinewidth": 2
          },
          "yaxis": {
           "automargin": true,
           "gridcolor": "#EBF0F8",
           "linecolor": "#EBF0F8",
           "ticks": "",
           "title": {
            "standoff": 15
           },
           "zerolinecolor": "#EBF0F8",
           "zerolinewidth": 2
          }
         }
        },
        "title": {
         "text": "Historical adoption of passenger vehicles by country"
        },
        "xaxis": {
         "anchor": "y",
         "domain": [
          0,
          1
         ],
         "title": {
          "text": "year"
         }
        },
        "yaxis": {
         "anchor": "x",
         "domain": [
          0,
          1
         ],
         "title": {
          "text": "value"
         },
         "type": "log"
        }
       }
      }
     },
     "metadata": {},
     "output_type": "display_data"
    }
   ],
   "source": [
    "fig = px.line(cars, x='year', y='value', color='country', \n",
    "              template='plotly_white', log_y=True,\n",
    "              title='Historical adoption of passenger vehicles by country')\n",
    "\n",
    "# fig.update_layout(xaxis=dict(range=[1920, 2003]))\n",
    "fig.show()"
   ]
  }
 ],
 "metadata": {
  "kernelspec": {
   "display_name": "new_base",
   "language": "python",
   "name": "python3"
  },
  "language_info": {
   "codemirror_mode": {
    "name": "ipython",
    "version": 3
   },
   "file_extension": ".py",
   "mimetype": "text/x-python",
   "name": "python",
   "nbconvert_exporter": "python",
   "pygments_lexer": "ipython3",
   "version": "3.12.7"
  }
 },
 "nbformat": 4,
 "nbformat_minor": 2
}
