{
 "cells": [
  {
   "cell_type": "code",
   "execution_count": 2,
   "id": "4a836588",
   "metadata": {},
   "outputs": [],
   "source": [
    "import pandas as pd\n",
    "import numpy as np\n",
    "import plotly.express as px"
   ]
  },
  {
   "cell_type": "code",
   "execution_count": 3,
   "id": "ef93ea60",
   "metadata": {},
   "outputs": [
    {
     "data": {
      "text/plain": [
       "np.float64(12814915.0)"
      ]
     },
     "execution_count": 3,
     "metadata": {},
     "output_type": "execute_result"
    }
   ],
   "source": [
    "omega_ldv_final_2022_sales = pd.read_csv('EPA_OMEGA_v2.5/2024_02_27_16_06_31_LDV_central_to2055_20240227/_Final/out/aggregated_vehicles.csv', \n",
    "                                         usecols=['manufacturer_id', 'model_year', 'battery_kwh', 'onroad_charge_depleting_range_mi', 'passenger_capacity', \n",
    "                                                  'payload_capacity_lbs', 'context_size_class', 'reg_class_id', 'powertrain_type', 'sales'])\n",
    "omega_ldv_final_2022_sales.sales.sum()"
   ]
  },
  {
   "cell_type": "code",
   "execution_count": 19,
   "id": "0fc9ed43",
   "metadata": {},
   "outputs": [
    {
     "data": {
      "text/html": [
       "<div>\n",
       "<style scoped>\n",
       "    .dataframe tbody tr th:only-of-type {\n",
       "        vertical-align: middle;\n",
       "    }\n",
       "\n",
       "    .dataframe tbody tr th {\n",
       "        vertical-align: top;\n",
       "    }\n",
       "\n",
       "    .dataframe thead th {\n",
       "        text-align: right;\n",
       "    }\n",
       "</style>\n",
       "<table border=\"1\" class=\"dataframe\">\n",
       "  <thead>\n",
       "    <tr style=\"text-align: right;\">\n",
       "      <th></th>\n",
       "      <th>context_size_class</th>\n",
       "      <th>sales</th>\n",
       "      <th>relative_share</th>\n",
       "    </tr>\n",
       "  </thead>\n",
       "  <tbody>\n",
       "    <tr>\n",
       "      <th>0</th>\n",
       "      <td>Compact</td>\n",
       "      <td>601862.0</td>\n",
       "      <td>0.129337</td>\n",
       "    </tr>\n",
       "    <tr>\n",
       "      <th>1</th>\n",
       "      <td>Large</td>\n",
       "      <td>599269.0</td>\n",
       "      <td>0.128779</td>\n",
       "    </tr>\n",
       "    <tr>\n",
       "      <th>2</th>\n",
       "      <td>Large Crossover</td>\n",
       "      <td>161761.5</td>\n",
       "      <td>0.034762</td>\n",
       "    </tr>\n",
       "    <tr>\n",
       "      <th>3</th>\n",
       "      <td>Large Utility</td>\n",
       "      <td>286044.0</td>\n",
       "      <td>0.061469</td>\n",
       "    </tr>\n",
       "    <tr>\n",
       "      <th>4</th>\n",
       "      <td>Midsize</td>\n",
       "      <td>1525488.0</td>\n",
       "      <td>0.327818</td>\n",
       "    </tr>\n",
       "    <tr>\n",
       "      <th>5</th>\n",
       "      <td>Minicompact</td>\n",
       "      <td>31663.0</td>\n",
       "      <td>0.006804</td>\n",
       "    </tr>\n",
       "    <tr>\n",
       "      <th>6</th>\n",
       "      <td>Small Crossover</td>\n",
       "      <td>816367.5</td>\n",
       "      <td>0.175432</td>\n",
       "    </tr>\n",
       "    <tr>\n",
       "      <th>7</th>\n",
       "      <td>Small Utility</td>\n",
       "      <td>411089.0</td>\n",
       "      <td>0.088341</td>\n",
       "    </tr>\n",
       "    <tr>\n",
       "      <th>8</th>\n",
       "      <td>Small Van</td>\n",
       "      <td>12548.0</td>\n",
       "      <td>0.002696</td>\n",
       "    </tr>\n",
       "    <tr>\n",
       "      <th>9</th>\n",
       "      <td>Subcompact</td>\n",
       "      <td>159919.0</td>\n",
       "      <td>0.034366</td>\n",
       "    </tr>\n",
       "    <tr>\n",
       "      <th>10</th>\n",
       "      <td>Two Seater</td>\n",
       "      <td>47447.0</td>\n",
       "      <td>0.010196</td>\n",
       "    </tr>\n",
       "  </tbody>\n",
       "</table>\n",
       "</div>"
      ],
      "text/plain": [
       "   context_size_class      sales  relative_share\n",
       "0             Compact   601862.0        0.129337\n",
       "1               Large   599269.0        0.128779\n",
       "2     Large Crossover   161761.5        0.034762\n",
       "3       Large Utility   286044.0        0.061469\n",
       "4             Midsize  1525488.0        0.327818\n",
       "5         Minicompact    31663.0        0.006804\n",
       "6     Small Crossover   816367.5        0.175432\n",
       "7       Small Utility   411089.0        0.088341\n",
       "8           Small Van    12548.0        0.002696\n",
       "9          Subcompact   159919.0        0.034366\n",
       "10         Two Seater    47447.0        0.010196"
      ]
     },
     "execution_count": 19,
     "metadata": {},
     "output_type": "execute_result"
    }
   ],
   "source": [
    "grouped_sales = omega_ldv_final_2022_sales[omega_ldv_final_2022_sales['reg_class_id'] == 'car'].groupby('context_size_class').agg({'sales': 'sum'}).reset_index()\n",
    "grouped_sales['relative_share'] = grouped_sales['sales'] / grouped_sales['sales'].sum()\n",
    "grouped_sales"
   ]
  },
  {
   "cell_type": "markdown",
   "id": "7127d0f0",
   "metadata": {},
   "source": [
    "IEA reported 800k BEV sales and 200k PHEV sales in the US - https://www.iea.org/reports/global-ev-outlook-2024/trends-in-electric-cars"
   ]
  },
  {
   "cell_type": "code",
   "execution_count": 4,
   "id": "4928430e",
   "metadata": {},
   "outputs": [
    {
     "name": "stdout",
     "output_type": "stream",
     "text": [
      "Total US BEV sales in 2022: 669951.0\n",
      "Total US PHEV sales in 2022: 185606.0\n"
     ]
    }
   ],
   "source": [
    "bev_phev_sales = omega_ldv_final_2022_sales[\n",
    "    omega_ldv_final_2022_sales['powertrain_type'].isin(['BEV', 'PHEV'])\n",
    "].reset_index().copy()\n",
    "print(f'Total US BEV sales in 2022: {bev_phev_sales[bev_phev_sales['powertrain_type'] == 'BEV'].sales.sum()}\\n'\n",
    "      f'Total US PHEV sales in 2022: {bev_phev_sales[bev_phev_sales['powertrain_type'] == 'PHEV'].sales.sum()}')"
   ]
  },
  {
   "cell_type": "code",
   "execution_count": 5,
   "id": "fdc0f59b",
   "metadata": {},
   "outputs": [
    {
     "data": {
      "text/html": [
       "<div>\n",
       "<style scoped>\n",
       "    .dataframe tbody tr th:only-of-type {\n",
       "        vertical-align: middle;\n",
       "    }\n",
       "\n",
       "    .dataframe tbody tr th {\n",
       "        vertical-align: top;\n",
       "    }\n",
       "\n",
       "    .dataframe thead th {\n",
       "        text-align: right;\n",
       "    }\n",
       "</style>\n",
       "<table border=\"1\" class=\"dataframe\">\n",
       "  <thead>\n",
       "    <tr style=\"text-align: right;\">\n",
       "      <th></th>\n",
       "      <th>index</th>\n",
       "      <th>battery_kwh</th>\n",
       "      <th>context_size_class</th>\n",
       "      <th>manufacturer_id</th>\n",
       "      <th>model_year</th>\n",
       "      <th>onroad_charge_depleting_range_mi</th>\n",
       "      <th>passenger_capacity</th>\n",
       "      <th>payload_capacity_lbs</th>\n",
       "      <th>powertrain_type</th>\n",
       "      <th>reg_class_id</th>\n",
       "      <th>sales</th>\n",
       "    </tr>\n",
       "  </thead>\n",
       "  <tbody>\n",
       "    <tr>\n",
       "      <th>0</th>\n",
       "      <td>0</td>\n",
       "      <td>91.330029</td>\n",
       "      <td>Compact</td>\n",
       "      <td>VW</td>\n",
       "      <td>2022</td>\n",
       "      <td>223.148040</td>\n",
       "      <td>0.0</td>\n",
       "      <td>0.00</td>\n",
       "      <td>BEV</td>\n",
       "      <td>car</td>\n",
       "      <td>3087.0</td>\n",
       "    </tr>\n",
       "    <tr>\n",
       "      <th>1</th>\n",
       "      <td>1</td>\n",
       "      <td>86.020197</td>\n",
       "      <td>Compact</td>\n",
       "      <td>VW</td>\n",
       "      <td>2022</td>\n",
       "      <td>212.007389</td>\n",
       "      <td>0.0</td>\n",
       "      <td>0.00</td>\n",
       "      <td>BEV</td>\n",
       "      <td>car</td>\n",
       "      <td>3654.0</td>\n",
       "    </tr>\n",
       "    <tr>\n",
       "      <th>7</th>\n",
       "      <td>63</td>\n",
       "      <td>112.985619</td>\n",
       "      <td>Large</td>\n",
       "      <td>Lucid</td>\n",
       "      <td>2022</td>\n",
       "      <td>480.976493</td>\n",
       "      <td>0.0</td>\n",
       "      <td>0.00</td>\n",
       "      <td>BEV</td>\n",
       "      <td>car</td>\n",
       "      <td>3616.0</td>\n",
       "    </tr>\n",
       "    <tr>\n",
       "      <th>8</th>\n",
       "      <td>64</td>\n",
       "      <td>80.200000</td>\n",
       "      <td>Large</td>\n",
       "      <td>Hyundai</td>\n",
       "      <td>2022</td>\n",
       "      <td>256.000000</td>\n",
       "      <td>0.0</td>\n",
       "      <td>0.00</td>\n",
       "      <td>BEV</td>\n",
       "      <td>car</td>\n",
       "      <td>10812.0</td>\n",
       "    </tr>\n",
       "    <tr>\n",
       "      <th>9</th>\n",
       "      <td>65</td>\n",
       "      <td>120.000000</td>\n",
       "      <td>Large</td>\n",
       "      <td>Mercedes Benz</td>\n",
       "      <td>2022</td>\n",
       "      <td>333.113858</td>\n",
       "      <td>0.0</td>\n",
       "      <td>0.00</td>\n",
       "      <td>BEV</td>\n",
       "      <td>car</td>\n",
       "      <td>3074.0</td>\n",
       "    </tr>\n",
       "    <tr>\n",
       "      <th>10</th>\n",
       "      <td>66</td>\n",
       "      <td>100.000000</td>\n",
       "      <td>Large</td>\n",
       "      <td>Tesla</td>\n",
       "      <td>2022</td>\n",
       "      <td>394.632512</td>\n",
       "      <td>5.0</td>\n",
       "      <td>0.00</td>\n",
       "      <td>BEV</td>\n",
       "      <td>car</td>\n",
       "      <td>26126.0</td>\n",
       "    </tr>\n",
       "    <tr>\n",
       "      <th>11</th>\n",
       "      <td>67</td>\n",
       "      <td>79.854130</td>\n",
       "      <td>Large</td>\n",
       "      <td>Hyundai</td>\n",
       "      <td>2022</td>\n",
       "      <td>301.422680</td>\n",
       "      <td>0.0</td>\n",
       "      <td>0.00</td>\n",
       "      <td>BEV</td>\n",
       "      <td>car</td>\n",
       "      <td>8051.0</td>\n",
       "    </tr>\n",
       "    <tr>\n",
       "      <th>12</th>\n",
       "      <td>68</td>\n",
       "      <td>120.000000</td>\n",
       "      <td>Large</td>\n",
       "      <td>Mercedes Benz</td>\n",
       "      <td>2022</td>\n",
       "      <td>350.000000</td>\n",
       "      <td>0.0</td>\n",
       "      <td>0.00</td>\n",
       "      <td>BEV</td>\n",
       "      <td>car</td>\n",
       "      <td>4518.0</td>\n",
       "    </tr>\n",
       "    <tr>\n",
       "      <th>15</th>\n",
       "      <td>120</td>\n",
       "      <td>69.700000</td>\n",
       "      <td>Large Crossover</td>\n",
       "      <td>Mercedes Benz</td>\n",
       "      <td>2022</td>\n",
       "      <td>234.871217</td>\n",
       "      <td>0.0</td>\n",
       "      <td>0.00</td>\n",
       "      <td>BEV</td>\n",
       "      <td>car</td>\n",
       "      <td>1553.0</td>\n",
       "    </tr>\n",
       "    <tr>\n",
       "      <th>16</th>\n",
       "      <td>121</td>\n",
       "      <td>80.500000</td>\n",
       "      <td>Large Crossover</td>\n",
       "      <td>Tesla</td>\n",
       "      <td>2022</td>\n",
       "      <td>302.706783</td>\n",
       "      <td>0.0</td>\n",
       "      <td>0.00</td>\n",
       "      <td>BEV</td>\n",
       "      <td>car</td>\n",
       "      <td>70637.0</td>\n",
       "    </tr>\n",
       "    <tr>\n",
       "      <th>17</th>\n",
       "      <td>122</td>\n",
       "      <td>100.000000</td>\n",
       "      <td>Large Crossover</td>\n",
       "      <td>Tesla</td>\n",
       "      <td>2022</td>\n",
       "      <td>333.000000</td>\n",
       "      <td>5.5</td>\n",
       "      <td>0.00</td>\n",
       "      <td>BEV</td>\n",
       "      <td>car</td>\n",
       "      <td>4689.0</td>\n",
       "    </tr>\n",
       "    <tr>\n",
       "      <th>18</th>\n",
       "      <td>123</td>\n",
       "      <td>93.627307</td>\n",
       "      <td>Large Crossover</td>\n",
       "      <td>Ford</td>\n",
       "      <td>2022</td>\n",
       "      <td>264.235134</td>\n",
       "      <td>0.0</td>\n",
       "      <td>0.00</td>\n",
       "      <td>BEV</td>\n",
       "      <td>car</td>\n",
       "      <td>21324.0</td>\n",
       "    </tr>\n",
       "    <tr>\n",
       "      <th>19</th>\n",
       "      <td>124</td>\n",
       "      <td>95.000000</td>\n",
       "      <td>Large Crossover</td>\n",
       "      <td>VW</td>\n",
       "      <td>2022</td>\n",
       "      <td>218.539192</td>\n",
       "      <td>5.0</td>\n",
       "      <td>0.00</td>\n",
       "      <td>BEV</td>\n",
       "      <td>truck</td>\n",
       "      <td>11367.0</td>\n",
       "    </tr>\n",
       "    <tr>\n",
       "      <th>20</th>\n",
       "      <td>125</td>\n",
       "      <td>80.500000</td>\n",
       "      <td>Large Crossover</td>\n",
       "      <td>Tesla</td>\n",
       "      <td>2022</td>\n",
       "      <td>330.000000</td>\n",
       "      <td>0.0</td>\n",
       "      <td>0.00</td>\n",
       "      <td>BEV</td>\n",
       "      <td>truck</td>\n",
       "      <td>130272.0</td>\n",
       "    </tr>\n",
       "    <tr>\n",
       "      <th>21</th>\n",
       "      <td>126</td>\n",
       "      <td>111.500000</td>\n",
       "      <td>Large Crossover</td>\n",
       "      <td>BMW</td>\n",
       "      <td>2022</td>\n",
       "      <td>311.006702</td>\n",
       "      <td>0.0</td>\n",
       "      <td>0.00</td>\n",
       "      <td>BEV</td>\n",
       "      <td>truck</td>\n",
       "      <td>2984.0</td>\n",
       "    </tr>\n",
       "    <tr>\n",
       "      <th>22</th>\n",
       "      <td>127</td>\n",
       "      <td>100.000000</td>\n",
       "      <td>Large Crossover</td>\n",
       "      <td>Tesla</td>\n",
       "      <td>2022</td>\n",
       "      <td>339.102615</td>\n",
       "      <td>5.5</td>\n",
       "      <td>0.00</td>\n",
       "      <td>BEV</td>\n",
       "      <td>truck</td>\n",
       "      <td>22560.0</td>\n",
       "    </tr>\n",
       "    <tr>\n",
       "      <th>23</th>\n",
       "      <td>128</td>\n",
       "      <td>90.000000</td>\n",
       "      <td>Large Crossover</td>\n",
       "      <td>JLR</td>\n",
       "      <td>2022</td>\n",
       "      <td>232.847584</td>\n",
       "      <td>5.0</td>\n",
       "      <td>0.00</td>\n",
       "      <td>BEV</td>\n",
       "      <td>truck</td>\n",
       "      <td>538.0</td>\n",
       "    </tr>\n",
       "    <tr>\n",
       "      <th>24</th>\n",
       "      <td>129</td>\n",
       "      <td>135.000000</td>\n",
       "      <td>Large Crossover</td>\n",
       "      <td>Rivian</td>\n",
       "      <td>2022</td>\n",
       "      <td>316.000000</td>\n",
       "      <td>0.0</td>\n",
       "      <td>0.00</td>\n",
       "      <td>BEV</td>\n",
       "      <td>truck</td>\n",
       "      <td>2813.0</td>\n",
       "    </tr>\n",
       "    <tr>\n",
       "      <th>36</th>\n",
       "      <td>269</td>\n",
       "      <td>135.000000</td>\n",
       "      <td>Large Pickup</td>\n",
       "      <td>Rivian</td>\n",
       "      <td>2022</td>\n",
       "      <td>314.000000</td>\n",
       "      <td>0.0</td>\n",
       "      <td>0.00</td>\n",
       "      <td>BEV</td>\n",
       "      <td>truck</td>\n",
       "      <td>16015.0</td>\n",
       "    </tr>\n",
       "    <tr>\n",
       "      <th>37</th>\n",
       "      <td>270</td>\n",
       "      <td>127.073000</td>\n",
       "      <td>Large Pickup</td>\n",
       "      <td>Ford</td>\n",
       "      <td>2022</td>\n",
       "      <td>276.301550</td>\n",
       "      <td>5.0</td>\n",
       "      <td>0.00</td>\n",
       "      <td>BEV</td>\n",
       "      <td>truck</td>\n",
       "      <td>14452.0</td>\n",
       "    </tr>\n",
       "    <tr>\n",
       "      <th>38</th>\n",
       "      <td>335</td>\n",
       "      <td>85.243275</td>\n",
       "      <td>Large Utility</td>\n",
       "      <td>Ford</td>\n",
       "      <td>2022</td>\n",
       "      <td>271.312522</td>\n",
       "      <td>0.0</td>\n",
       "      <td>0.00</td>\n",
       "      <td>BEV</td>\n",
       "      <td>car</td>\n",
       "      <td>11212.0</td>\n",
       "    </tr>\n",
       "    <tr>\n",
       "      <th>40</th>\n",
       "      <td>418</td>\n",
       "      <td>80.808496</td>\n",
       "      <td>Midsize</td>\n",
       "      <td>VW</td>\n",
       "      <td>2022</td>\n",
       "      <td>213.582301</td>\n",
       "      <td>0.0</td>\n",
       "      <td>0.00</td>\n",
       "      <td>BEV</td>\n",
       "      <td>car</td>\n",
       "      <td>1130.0</td>\n",
       "    </tr>\n",
       "    <tr>\n",
       "      <th>41</th>\n",
       "      <td>419</td>\n",
       "      <td>80.500000</td>\n",
       "      <td>Midsize</td>\n",
       "      <td>Tesla</td>\n",
       "      <td>2022</td>\n",
       "      <td>350.759224</td>\n",
       "      <td>5.0</td>\n",
       "      <td>0.00</td>\n",
       "      <td>BEV</td>\n",
       "      <td>car</td>\n",
       "      <td>123974.0</td>\n",
       "    </tr>\n",
       "    <tr>\n",
       "      <th>42</th>\n",
       "      <td>420</td>\n",
       "      <td>93.400000</td>\n",
       "      <td>Midsize</td>\n",
       "      <td>VW</td>\n",
       "      <td>2022</td>\n",
       "      <td>236.578554</td>\n",
       "      <td>0.0</td>\n",
       "      <td>0.00</td>\n",
       "      <td>BEV</td>\n",
       "      <td>car</td>\n",
       "      <td>3609.0</td>\n",
       "    </tr>\n",
       "    <tr>\n",
       "      <th>43</th>\n",
       "      <td>421</td>\n",
       "      <td>78.000000</td>\n",
       "      <td>Midsize</td>\n",
       "      <td>Volvo</td>\n",
       "      <td>2022</td>\n",
       "      <td>249.000000</td>\n",
       "      <td>0.0</td>\n",
       "      <td>0.00</td>\n",
       "      <td>BEV</td>\n",
       "      <td>car</td>\n",
       "      <td>6993.0</td>\n",
       "    </tr>\n",
       "    <tr>\n",
       "      <th>44</th>\n",
       "      <td>422</td>\n",
       "      <td>35.500000</td>\n",
       "      <td>Midsize</td>\n",
       "      <td>Mazda</td>\n",
       "      <td>2022</td>\n",
       "      <td>100.000000</td>\n",
       "      <td>0.0</td>\n",
       "      <td>0.00</td>\n",
       "      <td>BEV</td>\n",
       "      <td>car</td>\n",
       "      <td>505.0</td>\n",
       "    </tr>\n",
       "    <tr>\n",
       "      <th>45</th>\n",
       "      <td>423</td>\n",
       "      <td>51.858442</td>\n",
       "      <td>Midsize</td>\n",
       "      <td>Nissan</td>\n",
       "      <td>2022</td>\n",
       "      <td>186.543249</td>\n",
       "      <td>5.0</td>\n",
       "      <td>954.75</td>\n",
       "      <td>BEV</td>\n",
       "      <td>car</td>\n",
       "      <td>12532.0</td>\n",
       "    </tr>\n",
       "    <tr>\n",
       "      <th>46</th>\n",
       "      <td>424</td>\n",
       "      <td>78.000000</td>\n",
       "      <td>Midsize</td>\n",
       "      <td>Volvo</td>\n",
       "      <td>2022</td>\n",
       "      <td>270.000000</td>\n",
       "      <td>0.0</td>\n",
       "      <td>0.00</td>\n",
       "      <td>BEV</td>\n",
       "      <td>car</td>\n",
       "      <td>518.0</td>\n",
       "    </tr>\n",
       "    <tr>\n",
       "      <th>47</th>\n",
       "      <td>425</td>\n",
       "      <td>60.000000</td>\n",
       "      <td>Midsize</td>\n",
       "      <td>Tesla</td>\n",
       "      <td>2022</td>\n",
       "      <td>273.000000</td>\n",
       "      <td>5.0</td>\n",
       "      <td>0.00</td>\n",
       "      <td>BEV</td>\n",
       "      <td>car</td>\n",
       "      <td>54713.0</td>\n",
       "    </tr>\n",
       "    <tr>\n",
       "      <th>54</th>\n",
       "      <td>537</td>\n",
       "      <td>78.000000</td>\n",
       "      <td>Small Crossover</td>\n",
       "      <td>Volvo</td>\n",
       "      <td>2022</td>\n",
       "      <td>224.111954</td>\n",
       "      <td>0.0</td>\n",
       "      <td>0.00</td>\n",
       "      <td>BEV</td>\n",
       "      <td>car</td>\n",
       "      <td>6065.0</td>\n",
       "    </tr>\n",
       "    <tr>\n",
       "      <th>55</th>\n",
       "      <td>538</td>\n",
       "      <td>67.500000</td>\n",
       "      <td>Small Crossover</td>\n",
       "      <td>Hyundai</td>\n",
       "      <td>2022</td>\n",
       "      <td>258.000000</td>\n",
       "      <td>5.0</td>\n",
       "      <td>926.00</td>\n",
       "      <td>BEV</td>\n",
       "      <td>car</td>\n",
       "      <td>3502.0</td>\n",
       "    </tr>\n",
       "    <tr>\n",
       "      <th>56</th>\n",
       "      <td>539</td>\n",
       "      <td>82.000000</td>\n",
       "      <td>Small Crossover</td>\n",
       "      <td>VW</td>\n",
       "      <td>2022</td>\n",
       "      <td>264.426991</td>\n",
       "      <td>0.0</td>\n",
       "      <td>0.00</td>\n",
       "      <td>BEV</td>\n",
       "      <td>car</td>\n",
       "      <td>6958.0</td>\n",
       "    </tr>\n",
       "    <tr>\n",
       "      <th>57</th>\n",
       "      <td>540</td>\n",
       "      <td>82.000000</td>\n",
       "      <td>Small Crossover</td>\n",
       "      <td>VW</td>\n",
       "      <td>2022</td>\n",
       "      <td>246.294451</td>\n",
       "      <td>0.0</td>\n",
       "      <td>0.00</td>\n",
       "      <td>BEV</td>\n",
       "      <td>truck</td>\n",
       "      <td>7407.0</td>\n",
       "    </tr>\n",
       "    <tr>\n",
       "      <th>58</th>\n",
       "      <td>541</td>\n",
       "      <td>82.000000</td>\n",
       "      <td>Small Crossover</td>\n",
       "      <td>VW</td>\n",
       "      <td>2022</td>\n",
       "      <td>241.000000</td>\n",
       "      <td>0.0</td>\n",
       "      <td>0.00</td>\n",
       "      <td>BEV</td>\n",
       "      <td>truck</td>\n",
       "      <td>2881.0</td>\n",
       "    </tr>\n",
       "    <tr>\n",
       "      <th>65</th>\n",
       "      <td>658</td>\n",
       "      <td>82.500000</td>\n",
       "      <td>Small Utility</td>\n",
       "      <td>Kia</td>\n",
       "      <td>2022</td>\n",
       "      <td>274.000000</td>\n",
       "      <td>0.0</td>\n",
       "      <td>0.00</td>\n",
       "      <td>BEV</td>\n",
       "      <td>car</td>\n",
       "      <td>13388.0</td>\n",
       "    </tr>\n",
       "    <tr>\n",
       "      <th>66</th>\n",
       "      <td>659</td>\n",
       "      <td>65.000000</td>\n",
       "      <td>Small Utility</td>\n",
       "      <td>General Motors</td>\n",
       "      <td>2022</td>\n",
       "      <td>259.000000</td>\n",
       "      <td>5.0</td>\n",
       "      <td>0.00</td>\n",
       "      <td>BEV</td>\n",
       "      <td>car</td>\n",
       "      <td>8412.0</td>\n",
       "    </tr>\n",
       "    <tr>\n",
       "      <th>67</th>\n",
       "      <td>660</td>\n",
       "      <td>65.000000</td>\n",
       "      <td>Small Utility</td>\n",
       "      <td>General Motors</td>\n",
       "      <td>2022</td>\n",
       "      <td>247.000000</td>\n",
       "      <td>0.0</td>\n",
       "      <td>0.00</td>\n",
       "      <td>BEV</td>\n",
       "      <td>car</td>\n",
       "      <td>19665.0</td>\n",
       "    </tr>\n",
       "    <tr>\n",
       "      <th>68</th>\n",
       "      <td>661</td>\n",
       "      <td>67.500000</td>\n",
       "      <td>Small Utility</td>\n",
       "      <td>Kia</td>\n",
       "      <td>2022</td>\n",
       "      <td>239.000000</td>\n",
       "      <td>5.0</td>\n",
       "      <td>0.00</td>\n",
       "      <td>BEV</td>\n",
       "      <td>car</td>\n",
       "      <td>11023.0</td>\n",
       "    </tr>\n",
       "    <tr>\n",
       "      <th>69</th>\n",
       "      <td>662</td>\n",
       "      <td>65.000000</td>\n",
       "      <td>Small Utility</td>\n",
       "      <td>General Motors</td>\n",
       "      <td>2022</td>\n",
       "      <td>259.000000</td>\n",
       "      <td>0.0</td>\n",
       "      <td>0.00</td>\n",
       "      <td>BEV</td>\n",
       "      <td>car</td>\n",
       "      <td>128.0</td>\n",
       "    </tr>\n",
       "    <tr>\n",
       "      <th>70</th>\n",
       "      <td>663</td>\n",
       "      <td>80.582505</td>\n",
       "      <td>Small Utility</td>\n",
       "      <td>Kia</td>\n",
       "      <td>2022</td>\n",
       "      <td>302.704164</td>\n",
       "      <td>0.0</td>\n",
       "      <td>0.00</td>\n",
       "      <td>BEV</td>\n",
       "      <td>car</td>\n",
       "      <td>6436.0</td>\n",
       "    </tr>\n",
       "    <tr>\n",
       "      <th>73</th>\n",
       "      <td>692</td>\n",
       "      <td>83.900000</td>\n",
       "      <td>Subcompact</td>\n",
       "      <td>BMW</td>\n",
       "      <td>2022</td>\n",
       "      <td>264.133983</td>\n",
       "      <td>0.0</td>\n",
       "      <td>0.00</td>\n",
       "      <td>BEV</td>\n",
       "      <td>car</td>\n",
       "      <td>821.0</td>\n",
       "    </tr>\n",
       "    <tr>\n",
       "      <th>74</th>\n",
       "      <td>693</td>\n",
       "      <td>32.600000</td>\n",
       "      <td>Subcompact</td>\n",
       "      <td>BMW</td>\n",
       "      <td>2022</td>\n",
       "      <td>114.000000</td>\n",
       "      <td>0.0</td>\n",
       "      <td>0.00</td>\n",
       "      <td>BEV</td>\n",
       "      <td>car</td>\n",
       "      <td>2980.0</td>\n",
       "    </tr>\n",
       "    <tr>\n",
       "      <th>75</th>\n",
       "      <td>694</td>\n",
       "      <td>83.900000</td>\n",
       "      <td>Subcompact</td>\n",
       "      <td>BMW</td>\n",
       "      <td>2022</td>\n",
       "      <td>289.267163</td>\n",
       "      <td>0.0</td>\n",
       "      <td>0.00</td>\n",
       "      <td>BEV</td>\n",
       "      <td>car</td>\n",
       "      <td>2957.0</td>\n",
       "    </tr>\n",
       "  </tbody>\n",
       "</table>\n",
       "</div>"
      ],
      "text/plain": [
       "    index  battery_kwh context_size_class manufacturer_id  model_year  \\\n",
       "0       0    91.330029            Compact              VW        2022   \n",
       "1       1    86.020197            Compact              VW        2022   \n",
       "7      63   112.985619              Large           Lucid        2022   \n",
       "8      64    80.200000              Large         Hyundai        2022   \n",
       "9      65   120.000000              Large   Mercedes Benz        2022   \n",
       "10     66   100.000000              Large           Tesla        2022   \n",
       "11     67    79.854130              Large         Hyundai        2022   \n",
       "12     68   120.000000              Large   Mercedes Benz        2022   \n",
       "15    120    69.700000    Large Crossover   Mercedes Benz        2022   \n",
       "16    121    80.500000    Large Crossover           Tesla        2022   \n",
       "17    122   100.000000    Large Crossover           Tesla        2022   \n",
       "18    123    93.627307    Large Crossover            Ford        2022   \n",
       "19    124    95.000000    Large Crossover              VW        2022   \n",
       "20    125    80.500000    Large Crossover           Tesla        2022   \n",
       "21    126   111.500000    Large Crossover             BMW        2022   \n",
       "22    127   100.000000    Large Crossover           Tesla        2022   \n",
       "23    128    90.000000    Large Crossover             JLR        2022   \n",
       "24    129   135.000000    Large Crossover          Rivian        2022   \n",
       "36    269   135.000000       Large Pickup          Rivian        2022   \n",
       "37    270   127.073000       Large Pickup            Ford        2022   \n",
       "38    335    85.243275      Large Utility            Ford        2022   \n",
       "40    418    80.808496            Midsize              VW        2022   \n",
       "41    419    80.500000            Midsize           Tesla        2022   \n",
       "42    420    93.400000            Midsize              VW        2022   \n",
       "43    421    78.000000            Midsize           Volvo        2022   \n",
       "44    422    35.500000            Midsize           Mazda        2022   \n",
       "45    423    51.858442            Midsize          Nissan        2022   \n",
       "46    424    78.000000            Midsize           Volvo        2022   \n",
       "47    425    60.000000            Midsize           Tesla        2022   \n",
       "54    537    78.000000    Small Crossover           Volvo        2022   \n",
       "55    538    67.500000    Small Crossover         Hyundai        2022   \n",
       "56    539    82.000000    Small Crossover              VW        2022   \n",
       "57    540    82.000000    Small Crossover              VW        2022   \n",
       "58    541    82.000000    Small Crossover              VW        2022   \n",
       "65    658    82.500000      Small Utility             Kia        2022   \n",
       "66    659    65.000000      Small Utility  General Motors        2022   \n",
       "67    660    65.000000      Small Utility  General Motors        2022   \n",
       "68    661    67.500000      Small Utility             Kia        2022   \n",
       "69    662    65.000000      Small Utility  General Motors        2022   \n",
       "70    663    80.582505      Small Utility             Kia        2022   \n",
       "73    692    83.900000         Subcompact             BMW        2022   \n",
       "74    693    32.600000         Subcompact             BMW        2022   \n",
       "75    694    83.900000         Subcompact             BMW        2022   \n",
       "\n",
       "    onroad_charge_depleting_range_mi  passenger_capacity  \\\n",
       "0                         223.148040                 0.0   \n",
       "1                         212.007389                 0.0   \n",
       "7                         480.976493                 0.0   \n",
       "8                         256.000000                 0.0   \n",
       "9                         333.113858                 0.0   \n",
       "10                        394.632512                 5.0   \n",
       "11                        301.422680                 0.0   \n",
       "12                        350.000000                 0.0   \n",
       "15                        234.871217                 0.0   \n",
       "16                        302.706783                 0.0   \n",
       "17                        333.000000                 5.5   \n",
       "18                        264.235134                 0.0   \n",
       "19                        218.539192                 5.0   \n",
       "20                        330.000000                 0.0   \n",
       "21                        311.006702                 0.0   \n",
       "22                        339.102615                 5.5   \n",
       "23                        232.847584                 5.0   \n",
       "24                        316.000000                 0.0   \n",
       "36                        314.000000                 0.0   \n",
       "37                        276.301550                 5.0   \n",
       "38                        271.312522                 0.0   \n",
       "40                        213.582301                 0.0   \n",
       "41                        350.759224                 5.0   \n",
       "42                        236.578554                 0.0   \n",
       "43                        249.000000                 0.0   \n",
       "44                        100.000000                 0.0   \n",
       "45                        186.543249                 5.0   \n",
       "46                        270.000000                 0.0   \n",
       "47                        273.000000                 5.0   \n",
       "54                        224.111954                 0.0   \n",
       "55                        258.000000                 5.0   \n",
       "56                        264.426991                 0.0   \n",
       "57                        246.294451                 0.0   \n",
       "58                        241.000000                 0.0   \n",
       "65                        274.000000                 0.0   \n",
       "66                        259.000000                 5.0   \n",
       "67                        247.000000                 0.0   \n",
       "68                        239.000000                 5.0   \n",
       "69                        259.000000                 0.0   \n",
       "70                        302.704164                 0.0   \n",
       "73                        264.133983                 0.0   \n",
       "74                        114.000000                 0.0   \n",
       "75                        289.267163                 0.0   \n",
       "\n",
       "    payload_capacity_lbs powertrain_type reg_class_id     sales  \n",
       "0                   0.00             BEV          car    3087.0  \n",
       "1                   0.00             BEV          car    3654.0  \n",
       "7                   0.00             BEV          car    3616.0  \n",
       "8                   0.00             BEV          car   10812.0  \n",
       "9                   0.00             BEV          car    3074.0  \n",
       "10                  0.00             BEV          car   26126.0  \n",
       "11                  0.00             BEV          car    8051.0  \n",
       "12                  0.00             BEV          car    4518.0  \n",
       "15                  0.00             BEV          car    1553.0  \n",
       "16                  0.00             BEV          car   70637.0  \n",
       "17                  0.00             BEV          car    4689.0  \n",
       "18                  0.00             BEV          car   21324.0  \n",
       "19                  0.00             BEV        truck   11367.0  \n",
       "20                  0.00             BEV        truck  130272.0  \n",
       "21                  0.00             BEV        truck    2984.0  \n",
       "22                  0.00             BEV        truck   22560.0  \n",
       "23                  0.00             BEV        truck     538.0  \n",
       "24                  0.00             BEV        truck    2813.0  \n",
       "36                  0.00             BEV        truck   16015.0  \n",
       "37                  0.00             BEV        truck   14452.0  \n",
       "38                  0.00             BEV          car   11212.0  \n",
       "40                  0.00             BEV          car    1130.0  \n",
       "41                  0.00             BEV          car  123974.0  \n",
       "42                  0.00             BEV          car    3609.0  \n",
       "43                  0.00             BEV          car    6993.0  \n",
       "44                  0.00             BEV          car     505.0  \n",
       "45                954.75             BEV          car   12532.0  \n",
       "46                  0.00             BEV          car     518.0  \n",
       "47                  0.00             BEV          car   54713.0  \n",
       "54                  0.00             BEV          car    6065.0  \n",
       "55                926.00             BEV          car    3502.0  \n",
       "56                  0.00             BEV          car    6958.0  \n",
       "57                  0.00             BEV        truck    7407.0  \n",
       "58                  0.00             BEV        truck    2881.0  \n",
       "65                  0.00             BEV          car   13388.0  \n",
       "66                  0.00             BEV          car    8412.0  \n",
       "67                  0.00             BEV          car   19665.0  \n",
       "68                  0.00             BEV          car   11023.0  \n",
       "69                  0.00             BEV          car     128.0  \n",
       "70                  0.00             BEV          car    6436.0  \n",
       "73                  0.00             BEV          car     821.0  \n",
       "74                  0.00             BEV          car    2980.0  \n",
       "75                  0.00             BEV          car    2957.0  "
      ]
     },
     "execution_count": 5,
     "metadata": {},
     "output_type": "execute_result"
    }
   ],
   "source": [
    "bev_phev_sales[bev_phev_sales['powertrain_type'] == 'BEV']"
   ]
  },
  {
   "cell_type": "code",
   "execution_count": 32,
   "id": "911f4c4b",
   "metadata": {},
   "outputs": [
    {
     "data": {
      "application/vnd.plotly.v1+json": {
       "config": {
        "plotlyServerURL": "https://plot.ly"
       },
       "data": [
        {
         "alignmentgroup": "True",
         "bingroup": "x",
         "histfunc": "sum",
         "hovertemplate": "reg_class_id=car<br>onroad_charge_depleting_range_mi=%{x}<br>sum of sales=%{y}<extra></extra>",
         "legendgroup": "car",
         "marker": {
          "color": "#636efa",
          "pattern": {
           "shape": ""
          }
         },
         "name": "car",
         "nbinsx": 50,
         "offsetgroup": "car",
         "orientation": "v",
         "showlegend": true,
         "type": "histogram",
         "x": {
          "bdata": "Wz+8vrzka0CAcTKIPIBqQPshgbefD35AAAAAAAAAcECVgvBc0tF0QAuwj8QeqnhAszyJTMPWckAAAAAAAOB1QIT+eALhW21AN/Y7+07rckAAAAAAANB0QCIK/xvDg3BAK3NhFwD1cEAiKnc1orJqQNtQwscl7HVA/3DfgoOSbUAAAAAAACBvQAAAAAAAAFlATGJRTGJRZ0AAAAAAAOBwQAAAAAAAEHFAZa00IJUDbEAAAAAAACBwQMB4AfTUhnBAAAAAAAAgcUAAAAAAADBwQAAAAAAA4G5AAAAAAADgbUAAAAAAADBwQEwgjUFE63JAVKRNyySCcEAAAAAAAIBcQMnEW0xGFHJA",
          "dtype": "f8"
         },
         "xaxis": "x",
         "y": {
          "bdata": "AAAAAAAeqEAAAAAAAIysQAAAAAAAQKxAAAAAAAAexUAAAAAAAASoQAAAAACAg9lAAAAAAABzv0AAAAAAAKaxQAAAAAAARJhAAAAAANA+8UAAAAAAAFGyQAAAAAAA09RAAAAAAADmxUAAAAAAAKiRQAAAAABgRP5AAAAAAAAyrEAAAAAAAFG7QAAAAAAAkH9AAAAAAAB6yEAAAAAAADCAQAAAAAAgt+pAAAAAAACxt0AAAAAAAFyrQAAAAAAALrtAAAAAAAAmykAAAAAAAG7AQAAAAABANNNAAAAAAICHxUAAAAAAAABgQAAAAAAAJLlAAAAAAACoiUAAAAAAAEinQAAAAAAAGqdA",
          "dtype": "f8"
         },
         "yaxis": "y"
        },
        {
         "alignmentgroup": "True",
         "bingroup": "x",
         "histfunc": "sum",
         "hovertemplate": "reg_class_id=truck<br>onroad_charge_depleting_range_mi=%{x}<br>sum of sales=%{y}<extra></extra>",
         "legendgroup": "truck",
         "marker": {
          "color": "#EF553B",
          "pattern": {
           "shape": ""
          }
         },
         "name": "truck",
         "nbinsx": 50,
         "offsetgroup": "truck",
         "orientation": "v",
         "showlegend": true,
         "type": "histogram",
         "x": {
          "bdata": "eQVrEEFRa0AAAAAAAKB0QDNB/XMbcHNASvPiT6QxdUDEertnHxttQAAAAAAAwHNAAAAAAACgc0C7nAwm00RxQA2A6SRsyW5AAAAAAAAgbkA=",
          "dtype": "f8"
         },
         "xaxis": "x",
         "y": {
          "bdata": "AAAAAIAzxkAAAAAAAM7/QAAAAAAAUKdAAAAAAAAI1kAAAAAAANCAQAAAAAAA+qVAAAAAAIBHz0AAAAAAADrMQAAAAAAA77xAAAAAAACCpkA=",
          "dtype": "f8"
         },
         "yaxis": "y"
        }
       ],
       "layout": {
        "barmode": "group",
        "legend": {
         "title": {
          "text": "reg_class_id"
         },
         "tracegroupgap": 0
        },
        "margin": {
         "t": 60
        },
        "template": {
         "data": {
          "bar": [
           {
            "error_x": {
             "color": "#2a3f5f"
            },
            "error_y": {
             "color": "#2a3f5f"
            },
            "marker": {
             "line": {
              "color": "#E5ECF6",
              "width": 0.5
             },
             "pattern": {
              "fillmode": "overlay",
              "size": 10,
              "solidity": 0.2
             }
            },
            "type": "bar"
           }
          ],
          "barpolar": [
           {
            "marker": {
             "line": {
              "color": "#E5ECF6",
              "width": 0.5
             },
             "pattern": {
              "fillmode": "overlay",
              "size": 10,
              "solidity": 0.2
             }
            },
            "type": "barpolar"
           }
          ],
          "carpet": [
           {
            "aaxis": {
             "endlinecolor": "#2a3f5f",
             "gridcolor": "white",
             "linecolor": "white",
             "minorgridcolor": "white",
             "startlinecolor": "#2a3f5f"
            },
            "baxis": {
             "endlinecolor": "#2a3f5f",
             "gridcolor": "white",
             "linecolor": "white",
             "minorgridcolor": "white",
             "startlinecolor": "#2a3f5f"
            },
            "type": "carpet"
           }
          ],
          "choropleth": [
           {
            "colorbar": {
             "outlinewidth": 0,
             "ticks": ""
            },
            "type": "choropleth"
           }
          ],
          "contour": [
           {
            "colorbar": {
             "outlinewidth": 0,
             "ticks": ""
            },
            "colorscale": [
             [
              0,
              "#0d0887"
             ],
             [
              0.1111111111111111,
              "#46039f"
             ],
             [
              0.2222222222222222,
              "#7201a8"
             ],
             [
              0.3333333333333333,
              "#9c179e"
             ],
             [
              0.4444444444444444,
              "#bd3786"
             ],
             [
              0.5555555555555556,
              "#d8576b"
             ],
             [
              0.6666666666666666,
              "#ed7953"
             ],
             [
              0.7777777777777778,
              "#fb9f3a"
             ],
             [
              0.8888888888888888,
              "#fdca26"
             ],
             [
              1,
              "#f0f921"
             ]
            ],
            "type": "contour"
           }
          ],
          "contourcarpet": [
           {
            "colorbar": {
             "outlinewidth": 0,
             "ticks": ""
            },
            "type": "contourcarpet"
           }
          ],
          "heatmap": [
           {
            "colorbar": {
             "outlinewidth": 0,
             "ticks": ""
            },
            "colorscale": [
             [
              0,
              "#0d0887"
             ],
             [
              0.1111111111111111,
              "#46039f"
             ],
             [
              0.2222222222222222,
              "#7201a8"
             ],
             [
              0.3333333333333333,
              "#9c179e"
             ],
             [
              0.4444444444444444,
              "#bd3786"
             ],
             [
              0.5555555555555556,
              "#d8576b"
             ],
             [
              0.6666666666666666,
              "#ed7953"
             ],
             [
              0.7777777777777778,
              "#fb9f3a"
             ],
             [
              0.8888888888888888,
              "#fdca26"
             ],
             [
              1,
              "#f0f921"
             ]
            ],
            "type": "heatmap"
           }
          ],
          "histogram": [
           {
            "marker": {
             "pattern": {
              "fillmode": "overlay",
              "size": 10,
              "solidity": 0.2
             }
            },
            "type": "histogram"
           }
          ],
          "histogram2d": [
           {
            "colorbar": {
             "outlinewidth": 0,
             "ticks": ""
            },
            "colorscale": [
             [
              0,
              "#0d0887"
             ],
             [
              0.1111111111111111,
              "#46039f"
             ],
             [
              0.2222222222222222,
              "#7201a8"
             ],
             [
              0.3333333333333333,
              "#9c179e"
             ],
             [
              0.4444444444444444,
              "#bd3786"
             ],
             [
              0.5555555555555556,
              "#d8576b"
             ],
             [
              0.6666666666666666,
              "#ed7953"
             ],
             [
              0.7777777777777778,
              "#fb9f3a"
             ],
             [
              0.8888888888888888,
              "#fdca26"
             ],
             [
              1,
              "#f0f921"
             ]
            ],
            "type": "histogram2d"
           }
          ],
          "histogram2dcontour": [
           {
            "colorbar": {
             "outlinewidth": 0,
             "ticks": ""
            },
            "colorscale": [
             [
              0,
              "#0d0887"
             ],
             [
              0.1111111111111111,
              "#46039f"
             ],
             [
              0.2222222222222222,
              "#7201a8"
             ],
             [
              0.3333333333333333,
              "#9c179e"
             ],
             [
              0.4444444444444444,
              "#bd3786"
             ],
             [
              0.5555555555555556,
              "#d8576b"
             ],
             [
              0.6666666666666666,
              "#ed7953"
             ],
             [
              0.7777777777777778,
              "#fb9f3a"
             ],
             [
              0.8888888888888888,
              "#fdca26"
             ],
             [
              1,
              "#f0f921"
             ]
            ],
            "type": "histogram2dcontour"
           }
          ],
          "mesh3d": [
           {
            "colorbar": {
             "outlinewidth": 0,
             "ticks": ""
            },
            "type": "mesh3d"
           }
          ],
          "parcoords": [
           {
            "line": {
             "colorbar": {
              "outlinewidth": 0,
              "ticks": ""
             }
            },
            "type": "parcoords"
           }
          ],
          "pie": [
           {
            "automargin": true,
            "type": "pie"
           }
          ],
          "scatter": [
           {
            "fillpattern": {
             "fillmode": "overlay",
             "size": 10,
             "solidity": 0.2
            },
            "type": "scatter"
           }
          ],
          "scatter3d": [
           {
            "line": {
             "colorbar": {
              "outlinewidth": 0,
              "ticks": ""
             }
            },
            "marker": {
             "colorbar": {
              "outlinewidth": 0,
              "ticks": ""
             }
            },
            "type": "scatter3d"
           }
          ],
          "scattercarpet": [
           {
            "marker": {
             "colorbar": {
              "outlinewidth": 0,
              "ticks": ""
             }
            },
            "type": "scattercarpet"
           }
          ],
          "scattergeo": [
           {
            "marker": {
             "colorbar": {
              "outlinewidth": 0,
              "ticks": ""
             }
            },
            "type": "scattergeo"
           }
          ],
          "scattergl": [
           {
            "marker": {
             "colorbar": {
              "outlinewidth": 0,
              "ticks": ""
             }
            },
            "type": "scattergl"
           }
          ],
          "scattermap": [
           {
            "marker": {
             "colorbar": {
              "outlinewidth": 0,
              "ticks": ""
             }
            },
            "type": "scattermap"
           }
          ],
          "scattermapbox": [
           {
            "marker": {
             "colorbar": {
              "outlinewidth": 0,
              "ticks": ""
             }
            },
            "type": "scattermapbox"
           }
          ],
          "scatterpolar": [
           {
            "marker": {
             "colorbar": {
              "outlinewidth": 0,
              "ticks": ""
             }
            },
            "type": "scatterpolar"
           }
          ],
          "scatterpolargl": [
           {
            "marker": {
             "colorbar": {
              "outlinewidth": 0,
              "ticks": ""
             }
            },
            "type": "scatterpolargl"
           }
          ],
          "scatterternary": [
           {
            "marker": {
             "colorbar": {
              "outlinewidth": 0,
              "ticks": ""
             }
            },
            "type": "scatterternary"
           }
          ],
          "surface": [
           {
            "colorbar": {
             "outlinewidth": 0,
             "ticks": ""
            },
            "colorscale": [
             [
              0,
              "#0d0887"
             ],
             [
              0.1111111111111111,
              "#46039f"
             ],
             [
              0.2222222222222222,
              "#7201a8"
             ],
             [
              0.3333333333333333,
              "#9c179e"
             ],
             [
              0.4444444444444444,
              "#bd3786"
             ],
             [
              0.5555555555555556,
              "#d8576b"
             ],
             [
              0.6666666666666666,
              "#ed7953"
             ],
             [
              0.7777777777777778,
              "#fb9f3a"
             ],
             [
              0.8888888888888888,
              "#fdca26"
             ],
             [
              1,
              "#f0f921"
             ]
            ],
            "type": "surface"
           }
          ],
          "table": [
           {
            "cells": {
             "fill": {
              "color": "#EBF0F8"
             },
             "line": {
              "color": "white"
             }
            },
            "header": {
             "fill": {
              "color": "#C8D4E3"
             },
             "line": {
              "color": "white"
             }
            },
            "type": "table"
           }
          ]
         },
         "layout": {
          "annotationdefaults": {
           "arrowcolor": "#2a3f5f",
           "arrowhead": 0,
           "arrowwidth": 1
          },
          "autotypenumbers": "strict",
          "coloraxis": {
           "colorbar": {
            "outlinewidth": 0,
            "ticks": ""
           }
          },
          "colorscale": {
           "diverging": [
            [
             0,
             "#8e0152"
            ],
            [
             0.1,
             "#c51b7d"
            ],
            [
             0.2,
             "#de77ae"
            ],
            [
             0.3,
             "#f1b6da"
            ],
            [
             0.4,
             "#fde0ef"
            ],
            [
             0.5,
             "#f7f7f7"
            ],
            [
             0.6,
             "#e6f5d0"
            ],
            [
             0.7,
             "#b8e186"
            ],
            [
             0.8,
             "#7fbc41"
            ],
            [
             0.9,
             "#4d9221"
            ],
            [
             1,
             "#276419"
            ]
           ],
           "sequential": [
            [
             0,
             "#0d0887"
            ],
            [
             0.1111111111111111,
             "#46039f"
            ],
            [
             0.2222222222222222,
             "#7201a8"
            ],
            [
             0.3333333333333333,
             "#9c179e"
            ],
            [
             0.4444444444444444,
             "#bd3786"
            ],
            [
             0.5555555555555556,
             "#d8576b"
            ],
            [
             0.6666666666666666,
             "#ed7953"
            ],
            [
             0.7777777777777778,
             "#fb9f3a"
            ],
            [
             0.8888888888888888,
             "#fdca26"
            ],
            [
             1,
             "#f0f921"
            ]
           ],
           "sequentialminus": [
            [
             0,
             "#0d0887"
            ],
            [
             0.1111111111111111,
             "#46039f"
            ],
            [
             0.2222222222222222,
             "#7201a8"
            ],
            [
             0.3333333333333333,
             "#9c179e"
            ],
            [
             0.4444444444444444,
             "#bd3786"
            ],
            [
             0.5555555555555556,
             "#d8576b"
            ],
            [
             0.6666666666666666,
             "#ed7953"
            ],
            [
             0.7777777777777778,
             "#fb9f3a"
            ],
            [
             0.8888888888888888,
             "#fdca26"
            ],
            [
             1,
             "#f0f921"
            ]
           ]
          },
          "colorway": [
           "#636efa",
           "#EF553B",
           "#00cc96",
           "#ab63fa",
           "#FFA15A",
           "#19d3f3",
           "#FF6692",
           "#B6E880",
           "#FF97FF",
           "#FECB52"
          ],
          "font": {
           "color": "#2a3f5f"
          },
          "geo": {
           "bgcolor": "white",
           "lakecolor": "white",
           "landcolor": "#E5ECF6",
           "showlakes": true,
           "showland": true,
           "subunitcolor": "white"
          },
          "hoverlabel": {
           "align": "left"
          },
          "hovermode": "closest",
          "mapbox": {
           "style": "light"
          },
          "paper_bgcolor": "white",
          "plot_bgcolor": "#E5ECF6",
          "polar": {
           "angularaxis": {
            "gridcolor": "white",
            "linecolor": "white",
            "ticks": ""
           },
           "bgcolor": "#E5ECF6",
           "radialaxis": {
            "gridcolor": "white",
            "linecolor": "white",
            "ticks": ""
           }
          },
          "scene": {
           "xaxis": {
            "backgroundcolor": "#E5ECF6",
            "gridcolor": "white",
            "gridwidth": 2,
            "linecolor": "white",
            "showbackground": true,
            "ticks": "",
            "zerolinecolor": "white"
           },
           "yaxis": {
            "backgroundcolor": "#E5ECF6",
            "gridcolor": "white",
            "gridwidth": 2,
            "linecolor": "white",
            "showbackground": true,
            "ticks": "",
            "zerolinecolor": "white"
           },
           "zaxis": {
            "backgroundcolor": "#E5ECF6",
            "gridcolor": "white",
            "gridwidth": 2,
            "linecolor": "white",
            "showbackground": true,
            "ticks": "",
            "zerolinecolor": "white"
           }
          },
          "shapedefaults": {
           "line": {
            "color": "#2a3f5f"
           }
          },
          "ternary": {
           "aaxis": {
            "gridcolor": "white",
            "linecolor": "white",
            "ticks": ""
           },
           "baxis": {
            "gridcolor": "white",
            "linecolor": "white",
            "ticks": ""
           },
           "bgcolor": "#E5ECF6",
           "caxis": {
            "gridcolor": "white",
            "linecolor": "white",
            "ticks": ""
           }
          },
          "title": {
           "x": 0.05
          },
          "xaxis": {
           "automargin": true,
           "gridcolor": "white",
           "linecolor": "white",
           "ticks": "",
           "title": {
            "standoff": 15
           },
           "zerolinecolor": "white",
           "zerolinewidth": 2
          },
          "yaxis": {
           "automargin": true,
           "gridcolor": "white",
           "linecolor": "white",
           "ticks": "",
           "title": {
            "standoff": 15
           },
           "zerolinecolor": "white",
           "zerolinewidth": 2
          }
         }
        },
        "xaxis": {
         "anchor": "y",
         "domain": [
          0,
          1
         ],
         "title": {
          "text": "onroad_charge_depleting_range_mi"
         }
        },
        "yaxis": {
         "anchor": "x",
         "domain": [
          0,
          1
         ],
         "title": {
          "text": "sum of sales"
         }
        }
       }
      }
     },
     "metadata": {},
     "output_type": "display_data"
    }
   ],
   "source": [
    "fig = px.histogram(bev_phev_sales[bev_phev_sales['powertrain_type'] == 'BEV'], x='onroad_charge_depleting_range_mi', y='sales', color='reg_class_id', barmode='group', nbins=50)\n",
    "fig.show()"
   ]
  },
  {
   "cell_type": "code",
   "execution_count": 33,
   "id": "113b8a12",
   "metadata": {},
   "outputs": [
    {
     "data": {
      "application/vnd.plotly.v1+json": {
       "config": {
        "plotlyServerURL": "https://plot.ly"
       },
       "data": [
        {
         "alignmentgroup": "True",
         "bingroup": "x",
         "histfunc": "sum",
         "hovertemplate": "reg_class_id=car<br>onroad_charge_depleting_range_mi=%{x}<br>sum of sales=%{y}<extra></extra>",
         "legendgroup": "car",
         "marker": {
          "color": "#636efa",
          "pattern": {
           "shape": ""
          }
         },
         "name": "car",
         "nbinsx": 50,
         "offsetgroup": "car",
         "orientation": "v",
         "showlegend": true,
         "type": "histogram",
         "x": {
          "bdata": "KOdLpvX0PUAAAAAAAAA0QAAAAAAAADNAAAAAAAAAN0AAAAAAAAA1QPnnMSIv2TJAAAAAAAAAMUDZiqDhpO49QAAAAAAAADVAAAAAAAAAMkAAAAAAAAA6QAAAAAAAAD1AAAAAAAAAOUAAAAAAAAA4QAAAAAAAADxAAAAAAACAQkBmZmZmZmY+QAAAAAAAADpAwtcMU105IUAAAAAAAAAgQA==",
          "dtype": "f8"
         },
         "xaxis": "x",
         "y": {
          "bdata": "AAAAAAD8nEAAAAAAAIiUQAAAAAAAmIhAAAAAAABupkAAAAAAACiaQAAAAAAAUIFAAAAAAAAAakAAAAAAAIBNQAAAAAAAwGdAAAAAAADAfUAAAAAAAAAkQAAAAAAAnJtAAAAAAIAb0UAAAAAAAKqkQAAAAAAA8qRAAAAAAIAow0AAAAAAAEBaQAAAAAAAYK9AAAAAAACwgkAAAAAAAGBjQA==",
          "dtype": "f8"
         },
         "yaxis": "y"
        },
        {
         "alignmentgroup": "True",
         "bingroup": "x",
         "histfunc": "sum",
         "hovertemplate": "reg_class_id=truck<br>onroad_charge_depleting_range_mi=%{x}<br>sum of sales=%{y}<extra></extra>",
         "legendgroup": "truck",
         "marker": {
          "color": "#EF553B",
          "pattern": {
           "shape": ""
          }
         },
         "name": "truck",
         "nbinsx": 50,
         "offsetgroup": "truck",
         "orientation": "v",
         "showlegend": true,
         "type": "histogram",
         "x": {
          "bdata": "AAAAAAAAP0AAAAAAAAA/QF7+bDY2BztAAAAAAAAAM0DS1ITZfl46QAAAAAAAADdAAAAAAAAANUAAAAAAAAA6QAAAAAAAgEBAAAAAAAAANkAAAAAAAABAQAAAAAAAAEBAAAAAAAAARUAAAAAAAIBCQAAAAAAAADFA",
          "dtype": "f8"
         },
         "xaxis": "x",
         "y": {
          "bdata": "AAAAAAA3skAAAAAAgHjJQAAAAAAAJrxAAAAAAAAACEAAAAAAgKXEQAAAAAAA3KhAAAAAAAAcoEAAAAAAwJrQQAAAAAAArqpAAAAAAEDA3UAAAAAAABS4QAAAAACAr9FAAAAAAADKz0AAAAAAAFCpQAAAAAAAiIxA",
          "dtype": "f8"
         },
         "yaxis": "y"
        }
       ],
       "layout": {
        "barmode": "group",
        "legend": {
         "title": {
          "text": "reg_class_id"
         },
         "tracegroupgap": 0
        },
        "margin": {
         "t": 60
        },
        "template": {
         "data": {
          "bar": [
           {
            "error_x": {
             "color": "#2a3f5f"
            },
            "error_y": {
             "color": "#2a3f5f"
            },
            "marker": {
             "line": {
              "color": "#E5ECF6",
              "width": 0.5
             },
             "pattern": {
              "fillmode": "overlay",
              "size": 10,
              "solidity": 0.2
             }
            },
            "type": "bar"
           }
          ],
          "barpolar": [
           {
            "marker": {
             "line": {
              "color": "#E5ECF6",
              "width": 0.5
             },
             "pattern": {
              "fillmode": "overlay",
              "size": 10,
              "solidity": 0.2
             }
            },
            "type": "barpolar"
           }
          ],
          "carpet": [
           {
            "aaxis": {
             "endlinecolor": "#2a3f5f",
             "gridcolor": "white",
             "linecolor": "white",
             "minorgridcolor": "white",
             "startlinecolor": "#2a3f5f"
            },
            "baxis": {
             "endlinecolor": "#2a3f5f",
             "gridcolor": "white",
             "linecolor": "white",
             "minorgridcolor": "white",
             "startlinecolor": "#2a3f5f"
            },
            "type": "carpet"
           }
          ],
          "choropleth": [
           {
            "colorbar": {
             "outlinewidth": 0,
             "ticks": ""
            },
            "type": "choropleth"
           }
          ],
          "contour": [
           {
            "colorbar": {
             "outlinewidth": 0,
             "ticks": ""
            },
            "colorscale": [
             [
              0,
              "#0d0887"
             ],
             [
              0.1111111111111111,
              "#46039f"
             ],
             [
              0.2222222222222222,
              "#7201a8"
             ],
             [
              0.3333333333333333,
              "#9c179e"
             ],
             [
              0.4444444444444444,
              "#bd3786"
             ],
             [
              0.5555555555555556,
              "#d8576b"
             ],
             [
              0.6666666666666666,
              "#ed7953"
             ],
             [
              0.7777777777777778,
              "#fb9f3a"
             ],
             [
              0.8888888888888888,
              "#fdca26"
             ],
             [
              1,
              "#f0f921"
             ]
            ],
            "type": "contour"
           }
          ],
          "contourcarpet": [
           {
            "colorbar": {
             "outlinewidth": 0,
             "ticks": ""
            },
            "type": "contourcarpet"
           }
          ],
          "heatmap": [
           {
            "colorbar": {
             "outlinewidth": 0,
             "ticks": ""
            },
            "colorscale": [
             [
              0,
              "#0d0887"
             ],
             [
              0.1111111111111111,
              "#46039f"
             ],
             [
              0.2222222222222222,
              "#7201a8"
             ],
             [
              0.3333333333333333,
              "#9c179e"
             ],
             [
              0.4444444444444444,
              "#bd3786"
             ],
             [
              0.5555555555555556,
              "#d8576b"
             ],
             [
              0.6666666666666666,
              "#ed7953"
             ],
             [
              0.7777777777777778,
              "#fb9f3a"
             ],
             [
              0.8888888888888888,
              "#fdca26"
             ],
             [
              1,
              "#f0f921"
             ]
            ],
            "type": "heatmap"
           }
          ],
          "histogram": [
           {
            "marker": {
             "pattern": {
              "fillmode": "overlay",
              "size": 10,
              "solidity": 0.2
             }
            },
            "type": "histogram"
           }
          ],
          "histogram2d": [
           {
            "colorbar": {
             "outlinewidth": 0,
             "ticks": ""
            },
            "colorscale": [
             [
              0,
              "#0d0887"
             ],
             [
              0.1111111111111111,
              "#46039f"
             ],
             [
              0.2222222222222222,
              "#7201a8"
             ],
             [
              0.3333333333333333,
              "#9c179e"
             ],
             [
              0.4444444444444444,
              "#bd3786"
             ],
             [
              0.5555555555555556,
              "#d8576b"
             ],
             [
              0.6666666666666666,
              "#ed7953"
             ],
             [
              0.7777777777777778,
              "#fb9f3a"
             ],
             [
              0.8888888888888888,
              "#fdca26"
             ],
             [
              1,
              "#f0f921"
             ]
            ],
            "type": "histogram2d"
           }
          ],
          "histogram2dcontour": [
           {
            "colorbar": {
             "outlinewidth": 0,
             "ticks": ""
            },
            "colorscale": [
             [
              0,
              "#0d0887"
             ],
             [
              0.1111111111111111,
              "#46039f"
             ],
             [
              0.2222222222222222,
              "#7201a8"
             ],
             [
              0.3333333333333333,
              "#9c179e"
             ],
             [
              0.4444444444444444,
              "#bd3786"
             ],
             [
              0.5555555555555556,
              "#d8576b"
             ],
             [
              0.6666666666666666,
              "#ed7953"
             ],
             [
              0.7777777777777778,
              "#fb9f3a"
             ],
             [
              0.8888888888888888,
              "#fdca26"
             ],
             [
              1,
              "#f0f921"
             ]
            ],
            "type": "histogram2dcontour"
           }
          ],
          "mesh3d": [
           {
            "colorbar": {
             "outlinewidth": 0,
             "ticks": ""
            },
            "type": "mesh3d"
           }
          ],
          "parcoords": [
           {
            "line": {
             "colorbar": {
              "outlinewidth": 0,
              "ticks": ""
             }
            },
            "type": "parcoords"
           }
          ],
          "pie": [
           {
            "automargin": true,
            "type": "pie"
           }
          ],
          "scatter": [
           {
            "fillpattern": {
             "fillmode": "overlay",
             "size": 10,
             "solidity": 0.2
            },
            "type": "scatter"
           }
          ],
          "scatter3d": [
           {
            "line": {
             "colorbar": {
              "outlinewidth": 0,
              "ticks": ""
             }
            },
            "marker": {
             "colorbar": {
              "outlinewidth": 0,
              "ticks": ""
             }
            },
            "type": "scatter3d"
           }
          ],
          "scattercarpet": [
           {
            "marker": {
             "colorbar": {
              "outlinewidth": 0,
              "ticks": ""
             }
            },
            "type": "scattercarpet"
           }
          ],
          "scattergeo": [
           {
            "marker": {
             "colorbar": {
              "outlinewidth": 0,
              "ticks": ""
             }
            },
            "type": "scattergeo"
           }
          ],
          "scattergl": [
           {
            "marker": {
             "colorbar": {
              "outlinewidth": 0,
              "ticks": ""
             }
            },
            "type": "scattergl"
           }
          ],
          "scattermap": [
           {
            "marker": {
             "colorbar": {
              "outlinewidth": 0,
              "ticks": ""
             }
            },
            "type": "scattermap"
           }
          ],
          "scattermapbox": [
           {
            "marker": {
             "colorbar": {
              "outlinewidth": 0,
              "ticks": ""
             }
            },
            "type": "scattermapbox"
           }
          ],
          "scatterpolar": [
           {
            "marker": {
             "colorbar": {
              "outlinewidth": 0,
              "ticks": ""
             }
            },
            "type": "scatterpolar"
           }
          ],
          "scatterpolargl": [
           {
            "marker": {
             "colorbar": {
              "outlinewidth": 0,
              "ticks": ""
             }
            },
            "type": "scatterpolargl"
           }
          ],
          "scatterternary": [
           {
            "marker": {
             "colorbar": {
              "outlinewidth": 0,
              "ticks": ""
             }
            },
            "type": "scatterternary"
           }
          ],
          "surface": [
           {
            "colorbar": {
             "outlinewidth": 0,
             "ticks": ""
            },
            "colorscale": [
             [
              0,
              "#0d0887"
             ],
             [
              0.1111111111111111,
              "#46039f"
             ],
             [
              0.2222222222222222,
              "#7201a8"
             ],
             [
              0.3333333333333333,
              "#9c179e"
             ],
             [
              0.4444444444444444,
              "#bd3786"
             ],
             [
              0.5555555555555556,
              "#d8576b"
             ],
             [
              0.6666666666666666,
              "#ed7953"
             ],
             [
              0.7777777777777778,
              "#fb9f3a"
             ],
             [
              0.8888888888888888,
              "#fdca26"
             ],
             [
              1,
              "#f0f921"
             ]
            ],
            "type": "surface"
           }
          ],
          "table": [
           {
            "cells": {
             "fill": {
              "color": "#EBF0F8"
             },
             "line": {
              "color": "white"
             }
            },
            "header": {
             "fill": {
              "color": "#C8D4E3"
             },
             "line": {
              "color": "white"
             }
            },
            "type": "table"
           }
          ]
         },
         "layout": {
          "annotationdefaults": {
           "arrowcolor": "#2a3f5f",
           "arrowhead": 0,
           "arrowwidth": 1
          },
          "autotypenumbers": "strict",
          "coloraxis": {
           "colorbar": {
            "outlinewidth": 0,
            "ticks": ""
           }
          },
          "colorscale": {
           "diverging": [
            [
             0,
             "#8e0152"
            ],
            [
             0.1,
             "#c51b7d"
            ],
            [
             0.2,
             "#de77ae"
            ],
            [
             0.3,
             "#f1b6da"
            ],
            [
             0.4,
             "#fde0ef"
            ],
            [
             0.5,
             "#f7f7f7"
            ],
            [
             0.6,
             "#e6f5d0"
            ],
            [
             0.7,
             "#b8e186"
            ],
            [
             0.8,
             "#7fbc41"
            ],
            [
             0.9,
             "#4d9221"
            ],
            [
             1,
             "#276419"
            ]
           ],
           "sequential": [
            [
             0,
             "#0d0887"
            ],
            [
             0.1111111111111111,
             "#46039f"
            ],
            [
             0.2222222222222222,
             "#7201a8"
            ],
            [
             0.3333333333333333,
             "#9c179e"
            ],
            [
             0.4444444444444444,
             "#bd3786"
            ],
            [
             0.5555555555555556,
             "#d8576b"
            ],
            [
             0.6666666666666666,
             "#ed7953"
            ],
            [
             0.7777777777777778,
             "#fb9f3a"
            ],
            [
             0.8888888888888888,
             "#fdca26"
            ],
            [
             1,
             "#f0f921"
            ]
           ],
           "sequentialminus": [
            [
             0,
             "#0d0887"
            ],
            [
             0.1111111111111111,
             "#46039f"
            ],
            [
             0.2222222222222222,
             "#7201a8"
            ],
            [
             0.3333333333333333,
             "#9c179e"
            ],
            [
             0.4444444444444444,
             "#bd3786"
            ],
            [
             0.5555555555555556,
             "#d8576b"
            ],
            [
             0.6666666666666666,
             "#ed7953"
            ],
            [
             0.7777777777777778,
             "#fb9f3a"
            ],
            [
             0.8888888888888888,
             "#fdca26"
            ],
            [
             1,
             "#f0f921"
            ]
           ]
          },
          "colorway": [
           "#636efa",
           "#EF553B",
           "#00cc96",
           "#ab63fa",
           "#FFA15A",
           "#19d3f3",
           "#FF6692",
           "#B6E880",
           "#FF97FF",
           "#FECB52"
          ],
          "font": {
           "color": "#2a3f5f"
          },
          "geo": {
           "bgcolor": "white",
           "lakecolor": "white",
           "landcolor": "#E5ECF6",
           "showlakes": true,
           "showland": true,
           "subunitcolor": "white"
          },
          "hoverlabel": {
           "align": "left"
          },
          "hovermode": "closest",
          "mapbox": {
           "style": "light"
          },
          "paper_bgcolor": "white",
          "plot_bgcolor": "#E5ECF6",
          "polar": {
           "angularaxis": {
            "gridcolor": "white",
            "linecolor": "white",
            "ticks": ""
           },
           "bgcolor": "#E5ECF6",
           "radialaxis": {
            "gridcolor": "white",
            "linecolor": "white",
            "ticks": ""
           }
          },
          "scene": {
           "xaxis": {
            "backgroundcolor": "#E5ECF6",
            "gridcolor": "white",
            "gridwidth": 2,
            "linecolor": "white",
            "showbackground": true,
            "ticks": "",
            "zerolinecolor": "white"
           },
           "yaxis": {
            "backgroundcolor": "#E5ECF6",
            "gridcolor": "white",
            "gridwidth": 2,
            "linecolor": "white",
            "showbackground": true,
            "ticks": "",
            "zerolinecolor": "white"
           },
           "zaxis": {
            "backgroundcolor": "#E5ECF6",
            "gridcolor": "white",
            "gridwidth": 2,
            "linecolor": "white",
            "showbackground": true,
            "ticks": "",
            "zerolinecolor": "white"
           }
          },
          "shapedefaults": {
           "line": {
            "color": "#2a3f5f"
           }
          },
          "ternary": {
           "aaxis": {
            "gridcolor": "white",
            "linecolor": "white",
            "ticks": ""
           },
           "baxis": {
            "gridcolor": "white",
            "linecolor": "white",
            "ticks": ""
           },
           "bgcolor": "#E5ECF6",
           "caxis": {
            "gridcolor": "white",
            "linecolor": "white",
            "ticks": ""
           }
          },
          "title": {
           "x": 0.05
          },
          "xaxis": {
           "automargin": true,
           "gridcolor": "white",
           "linecolor": "white",
           "ticks": "",
           "title": {
            "standoff": 15
           },
           "zerolinecolor": "white",
           "zerolinewidth": 2
          },
          "yaxis": {
           "automargin": true,
           "gridcolor": "white",
           "linecolor": "white",
           "ticks": "",
           "title": {
            "standoff": 15
           },
           "zerolinecolor": "white",
           "zerolinewidth": 2
          }
         }
        },
        "xaxis": {
         "anchor": "y",
         "domain": [
          0,
          1
         ],
         "title": {
          "text": "onroad_charge_depleting_range_mi"
         }
        },
        "yaxis": {
         "anchor": "x",
         "domain": [
          0,
          1
         ],
         "title": {
          "text": "sum of sales"
         }
        }
       }
      }
     },
     "metadata": {},
     "output_type": "display_data"
    }
   ],
   "source": [
    "fig = px.histogram(bev_phev_sales[bev_phev_sales['powertrain_type'] == 'PHEV'], x='onroad_charge_depleting_range_mi', y='sales', color='reg_class_id', barmode='group', nbins=50)\n",
    "fig.show()"
   ]
  },
  {
   "cell_type": "code",
   "execution_count": null,
   "id": "eab6867f",
   "metadata": {},
   "outputs": [
    {
     "data": {
      "application/vnd.plotly.v1+json": {
       "config": {
        "plotlyServerURL": "https://plot.ly"
       },
       "data": [
        {
         "alignmentgroup": "True",
         "bingroup": "x",
         "histfunc": "sum",
         "hovertemplate": "reg_class_id=car<br>battery_kwh=%{x}<br>sum of sales=%{y}<extra></extra>",
         "legendgroup": "car",
         "marker": {
          "color": "#636efa",
          "pattern": {
           "shape": ""
          }
         },
         "name": "car",
         "nbinsx": 50,
         "offsetgroup": "car",
         "orientation": "v",
         "showlegend": true,
         "type": "histogram",
         "x": {
          "bdata": "q1iaMh/VVkBCOYvoSoFVQEdxrmMUP1xAzczMzMwMVEAAAAAAAABeQAAAAAAAAFlAkRyMEKr2U0AAAAAAAABeQM3MzMzMbFFAAAAAAAAgVEAAAAAAAABZQMzxWM0laFdASEWR0ZFPVUBNojlkvjNUQAAAAAAAIFRAmpmZmZlZV0AAAAAAAIBTQAAAAAAAwEFAceGtcOHtSUAAAAAAAIBTQAAAAAAAAE5AAAAAAACAU0AAAAAAAOBQQAAAAAAAgFRAAAAAAACgVEAAAAAAAEBQQAAAAAAAQFBAAAAAAADgUEAAAAAAAEBQQNp9ocFHJVRAmpmZmZn5VEDNzMzMzExAQJuZmZmZ+VRA",
          "dtype": "f8"
         },
         "xaxis": "x",
         "y": {
          "bdata": "AAAAAAAeqEAAAAAAAIysQAAAAAAAQKxAAAAAAAAexUAAAAAAAASoQAAAAACAg9lAAAAAAABzv0AAAAAAAKaxQAAAAAAARJhAAAAAANA+8UAAAAAAAFGyQAAAAAAA09RAAAAAAADmxUAAAAAAAKiRQAAAAABgRP5AAAAAAAAyrEAAAAAAAFG7QAAAAAAAkH9AAAAAAAB6yEAAAAAAADCAQAAAAAAgt+pAAAAAAACxt0AAAAAAAFyrQAAAAAAALrtAAAAAAAAmykAAAAAAAG7AQAAAAABANNNAAAAAAICHxUAAAAAAAABgQAAAAAAAJLlAAAAAAACoiUAAAAAAAEinQAAAAAAAGqdA",
          "dtype": "f8"
         },
         "yaxis": "y"
        },
        {
         "alignmentgroup": "True",
         "bingroup": "x",
         "histfunc": "sum",
         "hovertemplate": "reg_class_id=truck<br>battery_kwh=%{x}<br>sum of sales=%{y}<extra></extra>",
         "legendgroup": "truck",
         "marker": {
          "color": "#EF553B",
          "pattern": {
           "shape": ""
          }
         },
         "name": "truck",
         "nbinsx": 50,
         "offsetgroup": "truck",
         "orientation": "v",
         "showlegend": true,
         "type": "histogram",
         "x": {
          "bdata": "AAAAAADAV0AAAAAAACBUQAAAAAAA4FtAAAAAAAAAWUAAAAAAAIBWQAAAAAAA4GBAAAAAAADgYEAnV1oJrMRfQAAAAAAAgFRAAAAAAACAVEA=",
          "dtype": "f8"
         },
         "xaxis": "x",
         "y": {
          "bdata": "AAAAAIAzxkAAAAAAAM7/QAAAAAAAUKdAAAAAAAAI1kAAAAAAANCAQAAAAAAA+qVAAAAAAIBHz0AAAAAAADrMQAAAAAAA77xAAAAAAACCpkA=",
          "dtype": "f8"
         },
         "yaxis": "y"
        }
       ],
       "layout": {
        "barmode": "group",
        "legend": {
         "title": {
          "text": "reg_class_id"
         },
         "tracegroupgap": 0
        },
        "margin": {
         "t": 60
        },
        "template": {
         "data": {
          "bar": [
           {
            "error_x": {
             "color": "#2a3f5f"
            },
            "error_y": {
             "color": "#2a3f5f"
            },
            "marker": {
             "line": {
              "color": "#E5ECF6",
              "width": 0.5
             },
             "pattern": {
              "fillmode": "overlay",
              "size": 10,
              "solidity": 0.2
             }
            },
            "type": "bar"
           }
          ],
          "barpolar": [
           {
            "marker": {
             "line": {
              "color": "#E5ECF6",
              "width": 0.5
             },
             "pattern": {
              "fillmode": "overlay",
              "size": 10,
              "solidity": 0.2
             }
            },
            "type": "barpolar"
           }
          ],
          "carpet": [
           {
            "aaxis": {
             "endlinecolor": "#2a3f5f",
             "gridcolor": "white",
             "linecolor": "white",
             "minorgridcolor": "white",
             "startlinecolor": "#2a3f5f"
            },
            "baxis": {
             "endlinecolor": "#2a3f5f",
             "gridcolor": "white",
             "linecolor": "white",
             "minorgridcolor": "white",
             "startlinecolor": "#2a3f5f"
            },
            "type": "carpet"
           }
          ],
          "choropleth": [
           {
            "colorbar": {
             "outlinewidth": 0,
             "ticks": ""
            },
            "type": "choropleth"
           }
          ],
          "contour": [
           {
            "colorbar": {
             "outlinewidth": 0,
             "ticks": ""
            },
            "colorscale": [
             [
              0,
              "#0d0887"
             ],
             [
              0.1111111111111111,
              "#46039f"
             ],
             [
              0.2222222222222222,
              "#7201a8"
             ],
             [
              0.3333333333333333,
              "#9c179e"
             ],
             [
              0.4444444444444444,
              "#bd3786"
             ],
             [
              0.5555555555555556,
              "#d8576b"
             ],
             [
              0.6666666666666666,
              "#ed7953"
             ],
             [
              0.7777777777777778,
              "#fb9f3a"
             ],
             [
              0.8888888888888888,
              "#fdca26"
             ],
             [
              1,
              "#f0f921"
             ]
            ],
            "type": "contour"
           }
          ],
          "contourcarpet": [
           {
            "colorbar": {
             "outlinewidth": 0,
             "ticks": ""
            },
            "type": "contourcarpet"
           }
          ],
          "heatmap": [
           {
            "colorbar": {
             "outlinewidth": 0,
             "ticks": ""
            },
            "colorscale": [
             [
              0,
              "#0d0887"
             ],
             [
              0.1111111111111111,
              "#46039f"
             ],
             [
              0.2222222222222222,
              "#7201a8"
             ],
             [
              0.3333333333333333,
              "#9c179e"
             ],
             [
              0.4444444444444444,
              "#bd3786"
             ],
             [
              0.5555555555555556,
              "#d8576b"
             ],
             [
              0.6666666666666666,
              "#ed7953"
             ],
             [
              0.7777777777777778,
              "#fb9f3a"
             ],
             [
              0.8888888888888888,
              "#fdca26"
             ],
             [
              1,
              "#f0f921"
             ]
            ],
            "type": "heatmap"
           }
          ],
          "histogram": [
           {
            "marker": {
             "pattern": {
              "fillmode": "overlay",
              "size": 10,
              "solidity": 0.2
             }
            },
            "type": "histogram"
           }
          ],
          "histogram2d": [
           {
            "colorbar": {
             "outlinewidth": 0,
             "ticks": ""
            },
            "colorscale": [
             [
              0,
              "#0d0887"
             ],
             [
              0.1111111111111111,
              "#46039f"
             ],
             [
              0.2222222222222222,
              "#7201a8"
             ],
             [
              0.3333333333333333,
              "#9c179e"
             ],
             [
              0.4444444444444444,
              "#bd3786"
             ],
             [
              0.5555555555555556,
              "#d8576b"
             ],
             [
              0.6666666666666666,
              "#ed7953"
             ],
             [
              0.7777777777777778,
              "#fb9f3a"
             ],
             [
              0.8888888888888888,
              "#fdca26"
             ],
             [
              1,
              "#f0f921"
             ]
            ],
            "type": "histogram2d"
           }
          ],
          "histogram2dcontour": [
           {
            "colorbar": {
             "outlinewidth": 0,
             "ticks": ""
            },
            "colorscale": [
             [
              0,
              "#0d0887"
             ],
             [
              0.1111111111111111,
              "#46039f"
             ],
             [
              0.2222222222222222,
              "#7201a8"
             ],
             [
              0.3333333333333333,
              "#9c179e"
             ],
             [
              0.4444444444444444,
              "#bd3786"
             ],
             [
              0.5555555555555556,
              "#d8576b"
             ],
             [
              0.6666666666666666,
              "#ed7953"
             ],
             [
              0.7777777777777778,
              "#fb9f3a"
             ],
             [
              0.8888888888888888,
              "#fdca26"
             ],
             [
              1,
              "#f0f921"
             ]
            ],
            "type": "histogram2dcontour"
           }
          ],
          "mesh3d": [
           {
            "colorbar": {
             "outlinewidth": 0,
             "ticks": ""
            },
            "type": "mesh3d"
           }
          ],
          "parcoords": [
           {
            "line": {
             "colorbar": {
              "outlinewidth": 0,
              "ticks": ""
             }
            },
            "type": "parcoords"
           }
          ],
          "pie": [
           {
            "automargin": true,
            "type": "pie"
           }
          ],
          "scatter": [
           {
            "fillpattern": {
             "fillmode": "overlay",
             "size": 10,
             "solidity": 0.2
            },
            "type": "scatter"
           }
          ],
          "scatter3d": [
           {
            "line": {
             "colorbar": {
              "outlinewidth": 0,
              "ticks": ""
             }
            },
            "marker": {
             "colorbar": {
              "outlinewidth": 0,
              "ticks": ""
             }
            },
            "type": "scatter3d"
           }
          ],
          "scattercarpet": [
           {
            "marker": {
             "colorbar": {
              "outlinewidth": 0,
              "ticks": ""
             }
            },
            "type": "scattercarpet"
           }
          ],
          "scattergeo": [
           {
            "marker": {
             "colorbar": {
              "outlinewidth": 0,
              "ticks": ""
             }
            },
            "type": "scattergeo"
           }
          ],
          "scattergl": [
           {
            "marker": {
             "colorbar": {
              "outlinewidth": 0,
              "ticks": ""
             }
            },
            "type": "scattergl"
           }
          ],
          "scattermap": [
           {
            "marker": {
             "colorbar": {
              "outlinewidth": 0,
              "ticks": ""
             }
            },
            "type": "scattermap"
           }
          ],
          "scattermapbox": [
           {
            "marker": {
             "colorbar": {
              "outlinewidth": 0,
              "ticks": ""
             }
            },
            "type": "scattermapbox"
           }
          ],
          "scatterpolar": [
           {
            "marker": {
             "colorbar": {
              "outlinewidth": 0,
              "ticks": ""
             }
            },
            "type": "scatterpolar"
           }
          ],
          "scatterpolargl": [
           {
            "marker": {
             "colorbar": {
              "outlinewidth": 0,
              "ticks": ""
             }
            },
            "type": "scatterpolargl"
           }
          ],
          "scatterternary": [
           {
            "marker": {
             "colorbar": {
              "outlinewidth": 0,
              "ticks": ""
             }
            },
            "type": "scatterternary"
           }
          ],
          "surface": [
           {
            "colorbar": {
             "outlinewidth": 0,
             "ticks": ""
            },
            "colorscale": [
             [
              0,
              "#0d0887"
             ],
             [
              0.1111111111111111,
              "#46039f"
             ],
             [
              0.2222222222222222,
              "#7201a8"
             ],
             [
              0.3333333333333333,
              "#9c179e"
             ],
             [
              0.4444444444444444,
              "#bd3786"
             ],
             [
              0.5555555555555556,
              "#d8576b"
             ],
             [
              0.6666666666666666,
              "#ed7953"
             ],
             [
              0.7777777777777778,
              "#fb9f3a"
             ],
             [
              0.8888888888888888,
              "#fdca26"
             ],
             [
              1,
              "#f0f921"
             ]
            ],
            "type": "surface"
           }
          ],
          "table": [
           {
            "cells": {
             "fill": {
              "color": "#EBF0F8"
             },
             "line": {
              "color": "white"
             }
            },
            "header": {
             "fill": {
              "color": "#C8D4E3"
             },
             "line": {
              "color": "white"
             }
            },
            "type": "table"
           }
          ]
         },
         "layout": {
          "annotationdefaults": {
           "arrowcolor": "#2a3f5f",
           "arrowhead": 0,
           "arrowwidth": 1
          },
          "autotypenumbers": "strict",
          "coloraxis": {
           "colorbar": {
            "outlinewidth": 0,
            "ticks": ""
           }
          },
          "colorscale": {
           "diverging": [
            [
             0,
             "#8e0152"
            ],
            [
             0.1,
             "#c51b7d"
            ],
            [
             0.2,
             "#de77ae"
            ],
            [
             0.3,
             "#f1b6da"
            ],
            [
             0.4,
             "#fde0ef"
            ],
            [
             0.5,
             "#f7f7f7"
            ],
            [
             0.6,
             "#e6f5d0"
            ],
            [
             0.7,
             "#b8e186"
            ],
            [
             0.8,
             "#7fbc41"
            ],
            [
             0.9,
             "#4d9221"
            ],
            [
             1,
             "#276419"
            ]
           ],
           "sequential": [
            [
             0,
             "#0d0887"
            ],
            [
             0.1111111111111111,
             "#46039f"
            ],
            [
             0.2222222222222222,
             "#7201a8"
            ],
            [
             0.3333333333333333,
             "#9c179e"
            ],
            [
             0.4444444444444444,
             "#bd3786"
            ],
            [
             0.5555555555555556,
             "#d8576b"
            ],
            [
             0.6666666666666666,
             "#ed7953"
            ],
            [
             0.7777777777777778,
             "#fb9f3a"
            ],
            [
             0.8888888888888888,
             "#fdca26"
            ],
            [
             1,
             "#f0f921"
            ]
           ],
           "sequentialminus": [
            [
             0,
             "#0d0887"
            ],
            [
             0.1111111111111111,
             "#46039f"
            ],
            [
             0.2222222222222222,
             "#7201a8"
            ],
            [
             0.3333333333333333,
             "#9c179e"
            ],
            [
             0.4444444444444444,
             "#bd3786"
            ],
            [
             0.5555555555555556,
             "#d8576b"
            ],
            [
             0.6666666666666666,
             "#ed7953"
            ],
            [
             0.7777777777777778,
             "#fb9f3a"
            ],
            [
             0.8888888888888888,
             "#fdca26"
            ],
            [
             1,
             "#f0f921"
            ]
           ]
          },
          "colorway": [
           "#636efa",
           "#EF553B",
           "#00cc96",
           "#ab63fa",
           "#FFA15A",
           "#19d3f3",
           "#FF6692",
           "#B6E880",
           "#FF97FF",
           "#FECB52"
          ],
          "font": {
           "color": "#2a3f5f"
          },
          "geo": {
           "bgcolor": "white",
           "lakecolor": "white",
           "landcolor": "#E5ECF6",
           "showlakes": true,
           "showland": true,
           "subunitcolor": "white"
          },
          "hoverlabel": {
           "align": "left"
          },
          "hovermode": "closest",
          "mapbox": {
           "style": "light"
          },
          "paper_bgcolor": "white",
          "plot_bgcolor": "#E5ECF6",
          "polar": {
           "angularaxis": {
            "gridcolor": "white",
            "linecolor": "white",
            "ticks": ""
           },
           "bgcolor": "#E5ECF6",
           "radialaxis": {
            "gridcolor": "white",
            "linecolor": "white",
            "ticks": ""
           }
          },
          "scene": {
           "xaxis": {
            "backgroundcolor": "#E5ECF6",
            "gridcolor": "white",
            "gridwidth": 2,
            "linecolor": "white",
            "showbackground": true,
            "ticks": "",
            "zerolinecolor": "white"
           },
           "yaxis": {
            "backgroundcolor": "#E5ECF6",
            "gridcolor": "white",
            "gridwidth": 2,
            "linecolor": "white",
            "showbackground": true,
            "ticks": "",
            "zerolinecolor": "white"
           },
           "zaxis": {
            "backgroundcolor": "#E5ECF6",
            "gridcolor": "white",
            "gridwidth": 2,
            "linecolor": "white",
            "showbackground": true,
            "ticks": "",
            "zerolinecolor": "white"
           }
          },
          "shapedefaults": {
           "line": {
            "color": "#2a3f5f"
           }
          },
          "ternary": {
           "aaxis": {
            "gridcolor": "white",
            "linecolor": "white",
            "ticks": ""
           },
           "baxis": {
            "gridcolor": "white",
            "linecolor": "white",
            "ticks": ""
           },
           "bgcolor": "#E5ECF6",
           "caxis": {
            "gridcolor": "white",
            "linecolor": "white",
            "ticks": ""
           }
          },
          "title": {
           "x": 0.05
          },
          "xaxis": {
           "automargin": true,
           "gridcolor": "white",
           "linecolor": "white",
           "ticks": "",
           "title": {
            "standoff": 15
           },
           "zerolinecolor": "white",
           "zerolinewidth": 2
          },
          "yaxis": {
           "automargin": true,
           "gridcolor": "white",
           "linecolor": "white",
           "ticks": "",
           "title": {
            "standoff": 15
           },
           "zerolinecolor": "white",
           "zerolinewidth": 2
          }
         }
        },
        "xaxis": {
         "anchor": "y",
         "domain": [
          0,
          1
         ],
         "title": {
          "text": "battery_kwh"
         }
        },
        "yaxis": {
         "anchor": "x",
         "domain": [
          0,
          1
         ],
         "title": {
          "text": "sum of sales"
         }
        }
       }
      }
     },
     "metadata": {},
     "output_type": "display_data"
    }
   ],
   "source": [
    "bev_sales = bev_phev_sales[bev_phev_sales['powertrain_type'] == 'BEV']\n",
    "fig = px.histogram(bev_sales, x='battery_kwh', y='sales', color='reg_class_id', barmode='group', nbins=50)\n",
    "fig.show()"
   ]
  },
  {
   "cell_type": "code",
   "execution_count": 33,
   "id": "601d83d7",
   "metadata": {},
   "outputs": [
    {
     "name": "stderr",
     "output_type": "stream",
     "text": [
      "C:\\Users\\rashi\\AppData\\Local\\Temp\\ipykernel_34768\\328101719.py:1: DeprecationWarning:\n",
      "\n",
      "DataFrameGroupBy.apply operated on the grouping columns. This behavior is deprecated, and in a future version of pandas the grouping columns will be excluded from the operation. Either pass `include_groups=False` to exclude the groupings or explicitly select the grouping columns after groupby to silence this warning.\n",
      "\n"
     ]
    }
   ],
   "source": [
    "bev_sales[bev_sales['reg_class_id'] == 'car'].groupby('context_size_class').apply(lambda x: np.average(x['battery_kwh'], weights=x['sales'])).to_clipboard()"
   ]
  },
  {
   "cell_type": "code",
   "execution_count": 34,
   "id": "745b5c83",
   "metadata": {},
   "outputs": [
    {
     "name": "stderr",
     "output_type": "stream",
     "text": [
      "C:\\Users\\rashi\\AppData\\Local\\Temp\\ipykernel_34768\\2003775119.py:1: DeprecationWarning:\n",
      "\n",
      "DataFrameGroupBy.apply operated on the grouping columns. This behavior is deprecated, and in a future version of pandas the grouping columns will be excluded from the operation. Either pass `include_groups=False` to exclude the groupings or explicitly select the grouping columns after groupby to silence this warning.\n",
      "\n"
     ]
    }
   ],
   "source": [
    "bev_sales[bev_sales['reg_class_id'] == 'truck'].groupby('context_size_class').apply(lambda x: np.average(x['battery_kwh'], weights=x['sales'])).to_clipboard()"
   ]
  },
  {
   "cell_type": "code",
   "execution_count": 21,
   "id": "1f584942",
   "metadata": {},
   "outputs": [
    {
     "data": {
      "text/html": [
       "<div>\n",
       "<style scoped>\n",
       "    .dataframe tbody tr th:only-of-type {\n",
       "        vertical-align: middle;\n",
       "    }\n",
       "\n",
       "    .dataframe tbody tr th {\n",
       "        vertical-align: top;\n",
       "    }\n",
       "\n",
       "    .dataframe thead th {\n",
       "        text-align: right;\n",
       "    }\n",
       "</style>\n",
       "<table border=\"1\" class=\"dataframe\">\n",
       "  <thead>\n",
       "    <tr style=\"text-align: right;\">\n",
       "      <th></th>\n",
       "      <th>index</th>\n",
       "      <th>battery_kwh</th>\n",
       "      <th>context_size_class</th>\n",
       "      <th>manufacturer_id</th>\n",
       "      <th>model_year</th>\n",
       "      <th>onroad_charge_depleting_range_mi</th>\n",
       "      <th>passenger_capacity</th>\n",
       "      <th>payload_capacity_lbs</th>\n",
       "      <th>powertrain_type</th>\n",
       "      <th>reg_class_id</th>\n",
       "      <th>sales</th>\n",
       "      <th>AER_bucket</th>\n",
       "    </tr>\n",
       "  </thead>\n",
       "  <tbody>\n",
       "    <tr>\n",
       "      <th>0</th>\n",
       "      <td>0</td>\n",
       "      <td>91.330029</td>\n",
       "      <td>Compact</td>\n",
       "      <td>VW</td>\n",
       "      <td>2022</td>\n",
       "      <td>223.148040</td>\n",
       "      <td>0.0</td>\n",
       "      <td>0.0</td>\n",
       "      <td>BEV</td>\n",
       "      <td>car</td>\n",
       "      <td>3087.0</td>\n",
       "      <td>BEV200</td>\n",
       "    </tr>\n",
       "    <tr>\n",
       "      <th>1</th>\n",
       "      <td>1</td>\n",
       "      <td>86.020197</td>\n",
       "      <td>Compact</td>\n",
       "      <td>VW</td>\n",
       "      <td>2022</td>\n",
       "      <td>212.007389</td>\n",
       "      <td>0.0</td>\n",
       "      <td>0.0</td>\n",
       "      <td>BEV</td>\n",
       "      <td>car</td>\n",
       "      <td>3654.0</td>\n",
       "      <td>BEV200</td>\n",
       "    </tr>\n",
       "    <tr>\n",
       "      <th>2</th>\n",
       "      <td>58</td>\n",
       "      <td>14.782749</td>\n",
       "      <td>Compact</td>\n",
       "      <td>Volvo</td>\n",
       "      <td>2022</td>\n",
       "      <td>29.956873</td>\n",
       "      <td>5.0</td>\n",
       "      <td>0.0</td>\n",
       "      <td>PHEV</td>\n",
       "      <td>car</td>\n",
       "      <td>1855.0</td>\n",
       "      <td>PHEV35</td>\n",
       "    </tr>\n",
       "    <tr>\n",
       "      <th>3</th>\n",
       "      <td>59</td>\n",
       "      <td>12.000000</td>\n",
       "      <td>Compact</td>\n",
       "      <td>BMW</td>\n",
       "      <td>2022</td>\n",
       "      <td>20.000000</td>\n",
       "      <td>5.0</td>\n",
       "      <td>891.0</td>\n",
       "      <td>PHEV</td>\n",
       "      <td>car</td>\n",
       "      <td>1314.0</td>\n",
       "      <td>PHEV35</td>\n",
       "    </tr>\n",
       "    <tr>\n",
       "      <th>4</th>\n",
       "      <td>60</td>\n",
       "      <td>12.000000</td>\n",
       "      <td>Compact</td>\n",
       "      <td>BMW</td>\n",
       "      <td>2022</td>\n",
       "      <td>19.000000</td>\n",
       "      <td>5.0</td>\n",
       "      <td>829.0</td>\n",
       "      <td>PHEV</td>\n",
       "      <td>car</td>\n",
       "      <td>787.0</td>\n",
       "      <td>PHEV35</td>\n",
       "    </tr>\n",
       "    <tr>\n",
       "      <th>...</th>\n",
       "      <td>...</td>\n",
       "      <td>...</td>\n",
       "      <td>...</td>\n",
       "      <td>...</td>\n",
       "      <td>...</td>\n",
       "      <td>...</td>\n",
       "      <td>...</td>\n",
       "      <td>...</td>\n",
       "      <td>...</td>\n",
       "      <td>...</td>\n",
       "      <td>...</td>\n",
       "      <td>...</td>\n",
       "    </tr>\n",
       "    <tr>\n",
       "      <th>73</th>\n",
       "      <td>692</td>\n",
       "      <td>83.900000</td>\n",
       "      <td>Subcompact</td>\n",
       "      <td>BMW</td>\n",
       "      <td>2022</td>\n",
       "      <td>264.133983</td>\n",
       "      <td>0.0</td>\n",
       "      <td>0.0</td>\n",
       "      <td>BEV</td>\n",
       "      <td>car</td>\n",
       "      <td>821.0</td>\n",
       "      <td>BEV300</td>\n",
       "    </tr>\n",
       "    <tr>\n",
       "      <th>74</th>\n",
       "      <td>693</td>\n",
       "      <td>32.600000</td>\n",
       "      <td>Subcompact</td>\n",
       "      <td>BMW</td>\n",
       "      <td>2022</td>\n",
       "      <td>114.000000</td>\n",
       "      <td>0.0</td>\n",
       "      <td>0.0</td>\n",
       "      <td>BEV</td>\n",
       "      <td>car</td>\n",
       "      <td>2980.0</td>\n",
       "      <td>BEV150</td>\n",
       "    </tr>\n",
       "    <tr>\n",
       "      <th>75</th>\n",
       "      <td>694</td>\n",
       "      <td>83.900000</td>\n",
       "      <td>Subcompact</td>\n",
       "      <td>BMW</td>\n",
       "      <td>2022</td>\n",
       "      <td>289.267163</td>\n",
       "      <td>0.0</td>\n",
       "      <td>0.0</td>\n",
       "      <td>BEV</td>\n",
       "      <td>car</td>\n",
       "      <td>2957.0</td>\n",
       "      <td>BEV300</td>\n",
       "    </tr>\n",
       "    <tr>\n",
       "      <th>76</th>\n",
       "      <td>781</td>\n",
       "      <td>7.900000</td>\n",
       "      <td>Two Seater</td>\n",
       "      <td>Ferrari</td>\n",
       "      <td>2022</td>\n",
       "      <td>8.612040</td>\n",
       "      <td>0.0</td>\n",
       "      <td>0.0</td>\n",
       "      <td>PHEV</td>\n",
       "      <td>car</td>\n",
       "      <td>598.0</td>\n",
       "      <td>PHEV35</td>\n",
       "    </tr>\n",
       "    <tr>\n",
       "      <th>77</th>\n",
       "      <td>782</td>\n",
       "      <td>7.400000</td>\n",
       "      <td>Two Seater</td>\n",
       "      <td>Ferrari</td>\n",
       "      <td>2022</td>\n",
       "      <td>8.000000</td>\n",
       "      <td>0.0</td>\n",
       "      <td>0.0</td>\n",
       "      <td>PHEV</td>\n",
       "      <td>car</td>\n",
       "      <td>155.0</td>\n",
       "      <td>PHEV35</td>\n",
       "    </tr>\n",
       "  </tbody>\n",
       "</table>\n",
       "<p>78 rows × 12 columns</p>\n",
       "</div>"
      ],
      "text/plain": [
       "    index  battery_kwh context_size_class manufacturer_id  model_year  \\\n",
       "0       0    91.330029            Compact              VW        2022   \n",
       "1       1    86.020197            Compact              VW        2022   \n",
       "2      58    14.782749            Compact           Volvo        2022   \n",
       "3      59    12.000000            Compact             BMW        2022   \n",
       "4      60    12.000000            Compact             BMW        2022   \n",
       "..    ...          ...                ...             ...         ...   \n",
       "73    692    83.900000         Subcompact             BMW        2022   \n",
       "74    693    32.600000         Subcompact             BMW        2022   \n",
       "75    694    83.900000         Subcompact             BMW        2022   \n",
       "76    781     7.900000         Two Seater         Ferrari        2022   \n",
       "77    782     7.400000         Two Seater         Ferrari        2022   \n",
       "\n",
       "    onroad_charge_depleting_range_mi  passenger_capacity  \\\n",
       "0                         223.148040                 0.0   \n",
       "1                         212.007389                 0.0   \n",
       "2                          29.956873                 5.0   \n",
       "3                          20.000000                 5.0   \n",
       "4                          19.000000                 5.0   \n",
       "..                               ...                 ...   \n",
       "73                        264.133983                 0.0   \n",
       "74                        114.000000                 0.0   \n",
       "75                        289.267163                 0.0   \n",
       "76                          8.612040                 0.0   \n",
       "77                          8.000000                 0.0   \n",
       "\n",
       "    payload_capacity_lbs powertrain_type reg_class_id   sales AER_bucket  \n",
       "0                    0.0             BEV          car  3087.0     BEV200  \n",
       "1                    0.0             BEV          car  3654.0     BEV200  \n",
       "2                    0.0            PHEV          car  1855.0     PHEV35  \n",
       "3                  891.0            PHEV          car  1314.0     PHEV35  \n",
       "4                  829.0            PHEV          car   787.0     PHEV35  \n",
       "..                   ...             ...          ...     ...        ...  \n",
       "73                   0.0             BEV          car   821.0     BEV300  \n",
       "74                   0.0             BEV          car  2980.0     BEV150  \n",
       "75                   0.0             BEV          car  2957.0     BEV300  \n",
       "76                   0.0            PHEV          car   598.0     PHEV35  \n",
       "77                   0.0            PHEV          car   155.0     PHEV35  \n",
       "\n",
       "[78 rows x 12 columns]"
      ]
     },
     "execution_count": 21,
     "metadata": {},
     "output_type": "execute_result"
    }
   ],
   "source": [
    "def bucket(row):\n",
    "    rng = row['onroad_charge_depleting_range_mi']\n",
    "    if row['powertrain_type'] == 'BEV':\n",
    "        if rng <= 150:\n",
    "            return 'BEV150'\n",
    "        elif rng <= 250:\n",
    "            return 'BEV200'\n",
    "        elif rng <= 350:\n",
    "            return 'BEV300'\n",
    "        else:\n",
    "            return 'BEV400'\n",
    "    else:\n",
    "        return 'PHEV35' if rng < 35 else 'PHEV50'\n",
    "\n",
    "bev_phev_sales['AER_bucket'] = bev_phev_sales.apply(bucket, axis=1)\n",
    "bev_phev_sales"
   ]
  },
  {
   "cell_type": "code",
   "execution_count": 32,
   "id": "e0046d0e",
   "metadata": {},
   "outputs": [],
   "source": [
    "result = bev_phev_sales.groupby(['reg_class_id', 'context_size_class', 'powertrain_type', 'AER_bucket']).agg({'sales': 'sum'}).reset_index()\n",
    "result['relative_share'] = result['sales'] / result.groupby(['reg_class_id', 'context_size_class', 'powertrain_type'])['sales'].transform('sum')\n",
    "result.to_clipboard(index=False)"
   ]
  }
 ],
 "metadata": {
  "kernelspec": {
   "display_name": "main",
   "language": "python",
   "name": "python3"
  },
  "language_info": {
   "codemirror_mode": {
    "name": "ipython",
    "version": 3
   },
   "file_extension": ".py",
   "mimetype": "text/x-python",
   "name": "python",
   "nbconvert_exporter": "python",
   "pygments_lexer": "ipython3",
   "version": "3.12.9"
  }
 },
 "nbformat": 4,
 "nbformat_minor": 5
}
