{
 "cells": [
  {
   "cell_type": "code",
   "execution_count": 2,
   "id": "d051a42e",
   "metadata": {},
   "outputs": [],
   "source": [
    "import pandas as pd\n",
    "import numpy as np\n",
    "import plotly.express as px\n",
    "import plotly.graph_objects as go\n",
    "from plotly.subplots import make_subplots\n",
    "import seaborn as sns\n",
    "import matplotlib.pyplot as plt\n",
    "import sqlite3"
   ]
  },
  {
   "cell_type": "code",
   "execution_count": 24,
   "id": "31c1d93f",
   "metadata": {},
   "outputs": [],
   "source": [
    "def map_dual_to_commodity(dual):\n",
    "    dual_name = {\n",
    "    'gsl': 'Gasoline',\n",
    "    'dsl': 'Diesel',\n",
    "    'elc': 'Electricity',\n",
    "    'h2': 'Gaseous H2',\n",
    "    }\n",
    "    for prefix, commodity in dual_name.items():\n",
    "        if prefix in dual:\n",
    "            return commodity\n",
    "    return 'Other'"
   ]
  },
  {
   "cell_type": "code",
   "execution_count": null,
   "id": "991e0246",
   "metadata": {},
   "outputs": [],
   "source": [
    "def load_carrier_duals(db_variant='vanilla4_dual_carriers', path='C:/Users/rashi/ESM_databases/temoa/data_files/'):\n",
    "    db_file = path + f'canoe_on_12d_{db_variant}.sqlite'\n",
    "    conn = sqlite3.connect(db_file)\n",
    "\n",
    "    # filter db tables  -- note the tolerance for absolute dual values WHERE abs(dual) > 1e-4 AND abs(dual) < 1e4\n",
    "    query_built_capacity = \"\"\"\n",
    "        SELECT\n",
    "            scenario,\n",
    "            substr(constraint_name, instr(constraint_name, 'ON,') + 3, 4) AS period,\n",
    "            substr(constraint_name, instr(constraint_name, ',T_') + 1, instr(constraint_name, ']') - instr(constraint_name, ',T_') - 1) AS commodity,\n",
    "            AVG(dual) AS avg_dual\n",
    "        FROM OutputDualVariable\n",
    "        WHERE abs(dual) > 1e-4 AND abs(dual) < 1e4 \n",
    "            AND constraint_name LIKE 'DemandConstraint[ON%' AND (\n",
    "                constraint_name LIKE '%T_D_gsl]' OR\n",
    "                constraint_name LIKE '%T_D_dsl]' OR\n",
    "                constraint_name LIKE '%T_D_elc]' OR\n",
    "                constraint_name LIKE '%T_D_h2]'\n",
    "            )\n",
    "        GROUP BY period, commodity\n",
    "        ORDER BY commodity, period\n",
    "        \"\"\"\n",
    "    \n",
    "    df = pd.read_sql_query(query_built_capacity, conn)\n",
    "    conn.close()\n",
    "    df['commodity'] = df['commodity'].apply(map_dual_to_commodity)\n",
    "    df['period'] = df['period'].astype(int)\n",
    "    return df"
   ]
  },
  {
   "cell_type": "code",
   "execution_count": 26,
   "id": "675faed9",
   "metadata": {},
   "outputs": [
    {
     "data": {
      "text/html": [
       "<div>\n",
       "<style scoped>\n",
       "    .dataframe tbody tr th:only-of-type {\n",
       "        vertical-align: middle;\n",
       "    }\n",
       "\n",
       "    .dataframe tbody tr th {\n",
       "        vertical-align: top;\n",
       "    }\n",
       "\n",
       "    .dataframe thead th {\n",
       "        text-align: right;\n",
       "    }\n",
       "</style>\n",
       "<table border=\"1\" class=\"dataframe\">\n",
       "  <thead>\n",
       "    <tr style=\"text-align: right;\">\n",
       "      <th></th>\n",
       "      <th>scenario</th>\n",
       "      <th>period</th>\n",
       "      <th>commodity</th>\n",
       "      <th>avg_dual</th>\n",
       "    </tr>\n",
       "  </thead>\n",
       "  <tbody>\n",
       "    <tr>\n",
       "      <th>0</th>\n",
       "      <td>vanilla4_dual_carriers</td>\n",
       "      <td>2021</td>\n",
       "      <td>Diesel</td>\n",
       "      <td>119.136663</td>\n",
       "    </tr>\n",
       "    <tr>\n",
       "      <th>1</th>\n",
       "      <td>vanilla4_dual_carriers</td>\n",
       "      <td>2025</td>\n",
       "      <td>Diesel</td>\n",
       "      <td>99.124901</td>\n",
       "    </tr>\n",
       "    <tr>\n",
       "      <th>2</th>\n",
       "      <td>vanilla4_dual_carriers</td>\n",
       "      <td>2030</td>\n",
       "      <td>Diesel</td>\n",
       "      <td>78.226436</td>\n",
       "    </tr>\n",
       "    <tr>\n",
       "      <th>3</th>\n",
       "      <td>vanilla4_dual_carriers</td>\n",
       "      <td>2035</td>\n",
       "      <td>Diesel</td>\n",
       "      <td>69.888995</td>\n",
       "    </tr>\n",
       "    <tr>\n",
       "      <th>4</th>\n",
       "      <td>vanilla4_dual_carriers</td>\n",
       "      <td>2040</td>\n",
       "      <td>Diesel</td>\n",
       "      <td>61.500288</td>\n",
       "    </tr>\n",
       "    <tr>\n",
       "      <th>5</th>\n",
       "      <td>vanilla4_dual_carriers</td>\n",
       "      <td>2045</td>\n",
       "      <td>Diesel</td>\n",
       "      <td>53.852858</td>\n",
       "    </tr>\n",
       "    <tr>\n",
       "      <th>6</th>\n",
       "      <td>vanilla4_dual_carriers</td>\n",
       "      <td>2050</td>\n",
       "      <td>Diesel</td>\n",
       "      <td>47.393771</td>\n",
       "    </tr>\n",
       "    <tr>\n",
       "      <th>7</th>\n",
       "      <td>vanilla4_dual_carriers</td>\n",
       "      <td>2021</td>\n",
       "      <td>Electricity</td>\n",
       "      <td>477.792821</td>\n",
       "    </tr>\n",
       "    <tr>\n",
       "      <th>8</th>\n",
       "      <td>vanilla4_dual_carriers</td>\n",
       "      <td>2025</td>\n",
       "      <td>Electricity</td>\n",
       "      <td>471.288198</td>\n",
       "    </tr>\n",
       "    <tr>\n",
       "      <th>9</th>\n",
       "      <td>vanilla4_dual_carriers</td>\n",
       "      <td>2030</td>\n",
       "      <td>Electricity</td>\n",
       "      <td>290.854430</td>\n",
       "    </tr>\n",
       "    <tr>\n",
       "      <th>10</th>\n",
       "      <td>vanilla4_dual_carriers</td>\n",
       "      <td>2035</td>\n",
       "      <td>Electricity</td>\n",
       "      <td>252.183845</td>\n",
       "    </tr>\n",
       "    <tr>\n",
       "      <th>11</th>\n",
       "      <td>vanilla4_dual_carriers</td>\n",
       "      <td>2040</td>\n",
       "      <td>Electricity</td>\n",
       "      <td>217.900650</td>\n",
       "    </tr>\n",
       "    <tr>\n",
       "      <th>12</th>\n",
       "      <td>vanilla4_dual_carriers</td>\n",
       "      <td>2045</td>\n",
       "      <td>Electricity</td>\n",
       "      <td>188.491599</td>\n",
       "    </tr>\n",
       "    <tr>\n",
       "      <th>13</th>\n",
       "      <td>vanilla4_dual_carriers</td>\n",
       "      <td>2050</td>\n",
       "      <td>Electricity</td>\n",
       "      <td>160.468283</td>\n",
       "    </tr>\n",
       "    <tr>\n",
       "      <th>14</th>\n",
       "      <td>vanilla4_dual_carriers</td>\n",
       "      <td>2021</td>\n",
       "      <td>Gasoline</td>\n",
       "      <td>135.674146</td>\n",
       "    </tr>\n",
       "    <tr>\n",
       "      <th>15</th>\n",
       "      <td>vanilla4_dual_carriers</td>\n",
       "      <td>2025</td>\n",
       "      <td>Gasoline</td>\n",
       "      <td>103.689718</td>\n",
       "    </tr>\n",
       "    <tr>\n",
       "      <th>16</th>\n",
       "      <td>vanilla4_dual_carriers</td>\n",
       "      <td>2030</td>\n",
       "      <td>Gasoline</td>\n",
       "      <td>88.949057</td>\n",
       "    </tr>\n",
       "    <tr>\n",
       "      <th>17</th>\n",
       "      <td>vanilla4_dual_carriers</td>\n",
       "      <td>2035</td>\n",
       "      <td>Gasoline</td>\n",
       "      <td>78.430362</td>\n",
       "    </tr>\n",
       "    <tr>\n",
       "      <th>18</th>\n",
       "      <td>vanilla4_dual_carriers</td>\n",
       "      <td>2040</td>\n",
       "      <td>Gasoline</td>\n",
       "      <td>69.873763</td>\n",
       "    </tr>\n",
       "    <tr>\n",
       "      <th>19</th>\n",
       "      <td>vanilla4_dual_carriers</td>\n",
       "      <td>2045</td>\n",
       "      <td>Gasoline</td>\n",
       "      <td>60.975461</td>\n",
       "    </tr>\n",
       "    <tr>\n",
       "      <th>20</th>\n",
       "      <td>vanilla4_dual_carriers</td>\n",
       "      <td>2050</td>\n",
       "      <td>Gasoline</td>\n",
       "      <td>54.991476</td>\n",
       "    </tr>\n",
       "    <tr>\n",
       "      <th>21</th>\n",
       "      <td>vanilla4_dual_carriers</td>\n",
       "      <td>2021</td>\n",
       "      <td>Gaseous H2</td>\n",
       "      <td>125.672893</td>\n",
       "    </tr>\n",
       "    <tr>\n",
       "      <th>22</th>\n",
       "      <td>vanilla4_dual_carriers</td>\n",
       "      <td>2025</td>\n",
       "      <td>Gaseous H2</td>\n",
       "      <td>120.037948</td>\n",
       "    </tr>\n",
       "    <tr>\n",
       "      <th>23</th>\n",
       "      <td>vanilla4_dual_carriers</td>\n",
       "      <td>2030</td>\n",
       "      <td>Gaseous H2</td>\n",
       "      <td>99.892823</td>\n",
       "    </tr>\n",
       "    <tr>\n",
       "      <th>24</th>\n",
       "      <td>vanilla4_dual_carriers</td>\n",
       "      <td>2035</td>\n",
       "      <td>Gaseous H2</td>\n",
       "      <td>87.889560</td>\n",
       "    </tr>\n",
       "    <tr>\n",
       "      <th>25</th>\n",
       "      <td>vanilla4_dual_carriers</td>\n",
       "      <td>2040</td>\n",
       "      <td>Gaseous H2</td>\n",
       "      <td>76.557621</td>\n",
       "    </tr>\n",
       "    <tr>\n",
       "      <th>26</th>\n",
       "      <td>vanilla4_dual_carriers</td>\n",
       "      <td>2045</td>\n",
       "      <td>Gaseous H2</td>\n",
       "      <td>65.483518</td>\n",
       "    </tr>\n",
       "    <tr>\n",
       "      <th>27</th>\n",
       "      <td>vanilla4_dual_carriers</td>\n",
       "      <td>2050</td>\n",
       "      <td>Gaseous H2</td>\n",
       "      <td>55.477832</td>\n",
       "    </tr>\n",
       "  </tbody>\n",
       "</table>\n",
       "</div>"
      ],
      "text/plain": [
       "                  scenario  period    commodity    avg_dual\n",
       "0   vanilla4_dual_carriers    2021       Diesel  119.136663\n",
       "1   vanilla4_dual_carriers    2025       Diesel   99.124901\n",
       "2   vanilla4_dual_carriers    2030       Diesel   78.226436\n",
       "3   vanilla4_dual_carriers    2035       Diesel   69.888995\n",
       "4   vanilla4_dual_carriers    2040       Diesel   61.500288\n",
       "5   vanilla4_dual_carriers    2045       Diesel   53.852858\n",
       "6   vanilla4_dual_carriers    2050       Diesel   47.393771\n",
       "7   vanilla4_dual_carriers    2021  Electricity  477.792821\n",
       "8   vanilla4_dual_carriers    2025  Electricity  471.288198\n",
       "9   vanilla4_dual_carriers    2030  Electricity  290.854430\n",
       "10  vanilla4_dual_carriers    2035  Electricity  252.183845\n",
       "11  vanilla4_dual_carriers    2040  Electricity  217.900650\n",
       "12  vanilla4_dual_carriers    2045  Electricity  188.491599\n",
       "13  vanilla4_dual_carriers    2050  Electricity  160.468283\n",
       "14  vanilla4_dual_carriers    2021     Gasoline  135.674146\n",
       "15  vanilla4_dual_carriers    2025     Gasoline  103.689718\n",
       "16  vanilla4_dual_carriers    2030     Gasoline   88.949057\n",
       "17  vanilla4_dual_carriers    2035     Gasoline   78.430362\n",
       "18  vanilla4_dual_carriers    2040     Gasoline   69.873763\n",
       "19  vanilla4_dual_carriers    2045     Gasoline   60.975461\n",
       "20  vanilla4_dual_carriers    2050     Gasoline   54.991476\n",
       "21  vanilla4_dual_carriers    2021   Gaseous H2  125.672893\n",
       "22  vanilla4_dual_carriers    2025   Gaseous H2  120.037948\n",
       "23  vanilla4_dual_carriers    2030   Gaseous H2   99.892823\n",
       "24  vanilla4_dual_carriers    2035   Gaseous H2   87.889560\n",
       "25  vanilla4_dual_carriers    2040   Gaseous H2   76.557621\n",
       "26  vanilla4_dual_carriers    2045   Gaseous H2   65.483518\n",
       "27  vanilla4_dual_carriers    2050   Gaseous H2   55.477832"
      ]
     },
     "execution_count": 26,
     "metadata": {},
     "output_type": "execute_result"
    }
   ],
   "source": [
    "load_carrier_duals(\n",
    "    # db_variant='baseline_dual_carriers'\n",
    "    )"
   ]
  },
  {
   "cell_type": "code",
   "execution_count": 32,
   "id": "ac434175",
   "metadata": {},
   "outputs": [],
   "source": [
    "def build_master_df(db_variants, path='C:/Users/rashi/ESM_databases/temoa/data_files/'):\n",
    "    all_parts = []\n",
    "\n",
    "    for variant in db_variants:\n",
    "        if 'dual_carriers' in variant:\n",
    "            df_carriers = load_carrier_duals(db_variant=variant, path=path)\n",
    "            df_carriers['comm_type'] = 'carrier'\n",
    "            # annualize the duals\n",
    "            df_carriers['A/P'] = df_carriers.apply(\n",
    "                lambda row: row['avg_dual'] * 0.03 / (1 - (1 + 0.03)**(-4 if row['period'] == 2021 else -5)), axis=1\n",
    "            )\n",
    "            # put the cost back into real dollars\n",
    "            df_carriers['Shadow Price'] = df_carriers['A/P'] * (1 + 0.03)**(df_carriers['period'] - 2021 - 1)\n",
    "            all_parts.append(df_carriers)\n",
    "        else:\n",
    "            exception_msg = f\"Unsupported db_variant: {variant}. Only dual variants supported.\"\n",
    "            raise ValueError(exception_msg)            \n",
    "\n",
    "\n",
    "    master_df = pd.concat(all_parts, ignore_index=True)\n",
    "    return master_df"
   ]
  },
  {
   "cell_type": "code",
   "execution_count": 33,
   "id": "e0809da2",
   "metadata": {},
   "outputs": [
    {
     "data": {
      "text/html": [
       "<div>\n",
       "<style scoped>\n",
       "    .dataframe tbody tr th:only-of-type {\n",
       "        vertical-align: middle;\n",
       "    }\n",
       "\n",
       "    .dataframe tbody tr th {\n",
       "        vertical-align: top;\n",
       "    }\n",
       "\n",
       "    .dataframe thead th {\n",
       "        text-align: right;\n",
       "    }\n",
       "</style>\n",
       "<table border=\"1\" class=\"dataframe\">\n",
       "  <thead>\n",
       "    <tr style=\"text-align: right;\">\n",
       "      <th></th>\n",
       "      <th>scenario</th>\n",
       "      <th>period</th>\n",
       "      <th>commodity</th>\n",
       "      <th>avg_dual</th>\n",
       "      <th>comm_type</th>\n",
       "      <th>A/P</th>\n",
       "      <th>Shadow Price</th>\n",
       "    </tr>\n",
       "  </thead>\n",
       "  <tbody>\n",
       "    <tr>\n",
       "      <th>0</th>\n",
       "      <td>vanilla4_dual_carriers</td>\n",
       "      <td>2021</td>\n",
       "      <td>Diesel</td>\n",
       "      <td>119.136663</td>\n",
       "      <td>carrier</td>\n",
       "      <td>32.050985</td>\n",
       "      <td>31.117461</td>\n",
       "    </tr>\n",
       "    <tr>\n",
       "      <th>1</th>\n",
       "      <td>vanilla4_dual_carriers</td>\n",
       "      <td>2025</td>\n",
       "      <td>Diesel</td>\n",
       "      <td>99.124901</td>\n",
       "      <td>carrier</td>\n",
       "      <td>21.644375</td>\n",
       "      <td>23.651393</td>\n",
       "    </tr>\n",
       "    <tr>\n",
       "      <th>2</th>\n",
       "      <td>vanilla4_dual_carriers</td>\n",
       "      <td>2030</td>\n",
       "      <td>Diesel</td>\n",
       "      <td>78.226436</td>\n",
       "      <td>carrier</td>\n",
       "      <td>17.081100</td>\n",
       "      <td>21.637826</td>\n",
       "    </tr>\n",
       "    <tr>\n",
       "      <th>3</th>\n",
       "      <td>vanilla4_dual_carriers</td>\n",
       "      <td>2035</td>\n",
       "      <td>Diesel</td>\n",
       "      <td>69.888995</td>\n",
       "      <td>carrier</td>\n",
       "      <td>15.260582</td>\n",
       "      <td>22.410678</td>\n",
       "    </tr>\n",
       "    <tr>\n",
       "      <th>4</th>\n",
       "      <td>vanilla4_dual_carriers</td>\n",
       "      <td>2040</td>\n",
       "      <td>Diesel</td>\n",
       "      <td>61.500288</td>\n",
       "      <td>carrier</td>\n",
       "      <td>13.428869</td>\n",
       "      <td>22.861751</td>\n",
       "    </tr>\n",
       "    <tr>\n",
       "      <th>5</th>\n",
       "      <td>vanilla4_dual_carriers</td>\n",
       "      <td>2045</td>\n",
       "      <td>Diesel</td>\n",
       "      <td>53.852858</td>\n",
       "      <td>carrier</td>\n",
       "      <td>11.759018</td>\n",
       "      <td>23.207439</td>\n",
       "    </tr>\n",
       "    <tr>\n",
       "      <th>6</th>\n",
       "      <td>vanilla4_dual_carriers</td>\n",
       "      <td>2050</td>\n",
       "      <td>Diesel</td>\n",
       "      <td>47.393771</td>\n",
       "      <td>carrier</td>\n",
       "      <td>10.348647</td>\n",
       "      <td>23.676955</td>\n",
       "    </tr>\n",
       "    <tr>\n",
       "      <th>7</th>\n",
       "      <td>vanilla4_dual_carriers</td>\n",
       "      <td>2021</td>\n",
       "      <td>Electricity</td>\n",
       "      <td>477.792821</td>\n",
       "      <td>carrier</td>\n",
       "      <td>128.539191</td>\n",
       "      <td>124.795331</td>\n",
       "    </tr>\n",
       "    <tr>\n",
       "      <th>8</th>\n",
       "      <td>vanilla4_dual_carriers</td>\n",
       "      <td>2025</td>\n",
       "      <td>Electricity</td>\n",
       "      <td>471.288198</td>\n",
       "      <td>carrier</td>\n",
       "      <td>102.907932</td>\n",
       "      <td>112.450276</td>\n",
       "    </tr>\n",
       "    <tr>\n",
       "      <th>9</th>\n",
       "      <td>vanilla4_dual_carriers</td>\n",
       "      <td>2030</td>\n",
       "      <td>Electricity</td>\n",
       "      <td>290.854430</td>\n",
       "      <td>carrier</td>\n",
       "      <td>63.509394</td>\n",
       "      <td>80.451801</td>\n",
       "    </tr>\n",
       "    <tr>\n",
       "      <th>10</th>\n",
       "      <td>vanilla4_dual_carriers</td>\n",
       "      <td>2035</td>\n",
       "      <td>Electricity</td>\n",
       "      <td>252.183845</td>\n",
       "      <td>carrier</td>\n",
       "      <td>55.065495</td>\n",
       "      <td>80.865536</td>\n",
       "    </tr>\n",
       "    <tr>\n",
       "      <th>11</th>\n",
       "      <td>vanilla4_dual_carriers</td>\n",
       "      <td>2040</td>\n",
       "      <td>Electricity</td>\n",
       "      <td>217.900650</td>\n",
       "      <td>carrier</td>\n",
       "      <td>47.579603</td>\n",
       "      <td>81.001089</td>\n",
       "    </tr>\n",
       "    <tr>\n",
       "      <th>12</th>\n",
       "      <td>vanilla4_dual_carriers</td>\n",
       "      <td>2045</td>\n",
       "      <td>Electricity</td>\n",
       "      <td>188.491599</td>\n",
       "      <td>carrier</td>\n",
       "      <td>41.158002</td>\n",
       "      <td>81.228878</td>\n",
       "    </tr>\n",
       "    <tr>\n",
       "      <th>13</th>\n",
       "      <td>vanilla4_dual_carriers</td>\n",
       "      <td>2050</td>\n",
       "      <td>Electricity</td>\n",
       "      <td>160.468283</td>\n",
       "      <td>carrier</td>\n",
       "      <td>35.038983</td>\n",
       "      <td>80.166660</td>\n",
       "    </tr>\n",
       "    <tr>\n",
       "      <th>14</th>\n",
       "      <td>vanilla4_dual_carriers</td>\n",
       "      <td>2021</td>\n",
       "      <td>Gasoline</td>\n",
       "      <td>135.674146</td>\n",
       "      <td>carrier</td>\n",
       "      <td>36.500015</td>\n",
       "      <td>35.436907</td>\n",
       "    </tr>\n",
       "    <tr>\n",
       "      <th>15</th>\n",
       "      <td>vanilla4_dual_carriers</td>\n",
       "      <td>2025</td>\n",
       "      <td>Gasoline</td>\n",
       "      <td>103.689718</td>\n",
       "      <td>carrier</td>\n",
       "      <td>22.641124</td>\n",
       "      <td>24.740568</td>\n",
       "    </tr>\n",
       "    <tr>\n",
       "      <th>16</th>\n",
       "      <td>vanilla4_dual_carriers</td>\n",
       "      <td>2030</td>\n",
       "      <td>Gasoline</td>\n",
       "      <td>88.949057</td>\n",
       "      <td>carrier</td>\n",
       "      <td>19.422433</td>\n",
       "      <td>24.603757</td>\n",
       "    </tr>\n",
       "    <tr>\n",
       "      <th>17</th>\n",
       "      <td>vanilla4_dual_carriers</td>\n",
       "      <td>2035</td>\n",
       "      <td>Gasoline</td>\n",
       "      <td>78.430362</td>\n",
       "      <td>carrier</td>\n",
       "      <td>17.125628</td>\n",
       "      <td>25.149562</td>\n",
       "    </tr>\n",
       "    <tr>\n",
       "      <th>18</th>\n",
       "      <td>vanilla4_dual_carriers</td>\n",
       "      <td>2040</td>\n",
       "      <td>Gasoline</td>\n",
       "      <td>69.873763</td>\n",
       "      <td>carrier</td>\n",
       "      <td>15.257256</td>\n",
       "      <td>25.974456</td>\n",
       "    </tr>\n",
       "    <tr>\n",
       "      <th>19</th>\n",
       "      <td>vanilla4_dual_carriers</td>\n",
       "      <td>2045</td>\n",
       "      <td>Gasoline</td>\n",
       "      <td>60.975461</td>\n",
       "      <td>carrier</td>\n",
       "      <td>13.314271</td>\n",
       "      <td>26.276865</td>\n",
       "    </tr>\n",
       "    <tr>\n",
       "      <th>20</th>\n",
       "      <td>vanilla4_dual_carriers</td>\n",
       "      <td>2050</td>\n",
       "      <td>Gasoline</td>\n",
       "      <td>54.991476</td>\n",
       "      <td>carrier</td>\n",
       "      <td>12.007640</td>\n",
       "      <td>27.472612</td>\n",
       "    </tr>\n",
       "    <tr>\n",
       "      <th>21</th>\n",
       "      <td>vanilla4_dual_carriers</td>\n",
       "      <td>2021</td>\n",
       "      <td>Gaseous H2</td>\n",
       "      <td>125.672893</td>\n",
       "      <td>carrier</td>\n",
       "      <td>33.809407</td>\n",
       "      <td>32.824667</td>\n",
       "    </tr>\n",
       "    <tr>\n",
       "      <th>22</th>\n",
       "      <td>vanilla4_dual_carriers</td>\n",
       "      <td>2025</td>\n",
       "      <td>Gaseous H2</td>\n",
       "      <td>120.037948</td>\n",
       "      <td>carrier</td>\n",
       "      <td>26.210835</td>\n",
       "      <td>28.641287</td>\n",
       "    </tr>\n",
       "    <tr>\n",
       "      <th>23</th>\n",
       "      <td>vanilla4_dual_carriers</td>\n",
       "      <td>2030</td>\n",
       "      <td>Gaseous H2</td>\n",
       "      <td>99.892823</td>\n",
       "      <td>carrier</td>\n",
       "      <td>21.812055</td>\n",
       "      <td>27.630858</td>\n",
       "    </tr>\n",
       "    <tr>\n",
       "      <th>24</th>\n",
       "      <td>vanilla4_dual_carriers</td>\n",
       "      <td>2035</td>\n",
       "      <td>Gaseous H2</td>\n",
       "      <td>87.889560</td>\n",
       "      <td>carrier</td>\n",
       "      <td>19.191087</td>\n",
       "      <td>28.182758</td>\n",
       "    </tr>\n",
       "    <tr>\n",
       "      <th>25</th>\n",
       "      <td>vanilla4_dual_carriers</td>\n",
       "      <td>2040</td>\n",
       "      <td>Gaseous H2</td>\n",
       "      <td>76.557621</td>\n",
       "      <td>carrier</td>\n",
       "      <td>16.716707</td>\n",
       "      <td>28.459074</td>\n",
       "    </tr>\n",
       "    <tr>\n",
       "      <th>26</th>\n",
       "      <td>vanilla4_dual_carriers</td>\n",
       "      <td>2045</td>\n",
       "      <td>Gaseous H2</td>\n",
       "      <td>65.483518</td>\n",
       "      <td>carrier</td>\n",
       "      <td>14.298626</td>\n",
       "      <td>28.219574</td>\n",
       "    </tr>\n",
       "    <tr>\n",
       "      <th>27</th>\n",
       "      <td>vanilla4_dual_carriers</td>\n",
       "      <td>2050</td>\n",
       "      <td>Gaseous H2</td>\n",
       "      <td>55.477832</td>\n",
       "      <td>carrier</td>\n",
       "      <td>12.113838</td>\n",
       "      <td>27.715586</td>\n",
       "    </tr>\n",
       "    <tr>\n",
       "      <th>28</th>\n",
       "      <td>baseline_dual_carriers</td>\n",
       "      <td>2021</td>\n",
       "      <td>Diesel</td>\n",
       "      <td>200.072988</td>\n",
       "      <td>carrier</td>\n",
       "      <td>53.825045</td>\n",
       "      <td>52.257325</td>\n",
       "    </tr>\n",
       "    <tr>\n",
       "      <th>29</th>\n",
       "      <td>baseline_dual_carriers</td>\n",
       "      <td>2025</td>\n",
       "      <td>Diesel</td>\n",
       "      <td>194.481331</td>\n",
       "      <td>carrier</td>\n",
       "      <td>42.465888</td>\n",
       "      <td>46.403622</td>\n",
       "    </tr>\n",
       "    <tr>\n",
       "      <th>30</th>\n",
       "      <td>baseline_dual_carriers</td>\n",
       "      <td>2030</td>\n",
       "      <td>Diesel</td>\n",
       "      <td>167.545636</td>\n",
       "      <td>carrier</td>\n",
       "      <td>36.584356</td>\n",
       "      <td>46.343967</td>\n",
       "    </tr>\n",
       "    <tr>\n",
       "      <th>31</th>\n",
       "      <td>baseline_dual_carriers</td>\n",
       "      <td>2035</td>\n",
       "      <td>Diesel</td>\n",
       "      <td>153.047723</td>\n",
       "      <td>carrier</td>\n",
       "      <td>33.418670</td>\n",
       "      <td>49.076443</td>\n",
       "    </tr>\n",
       "    <tr>\n",
       "      <th>32</th>\n",
       "      <td>baseline_dual_carriers</td>\n",
       "      <td>2040</td>\n",
       "      <td>Diesel</td>\n",
       "      <td>138.725441</td>\n",
       "      <td>carrier</td>\n",
       "      <td>30.291334</td>\n",
       "      <td>51.568969</td>\n",
       "    </tr>\n",
       "    <tr>\n",
       "      <th>33</th>\n",
       "      <td>baseline_dual_carriers</td>\n",
       "      <td>2045</td>\n",
       "      <td>Diesel</td>\n",
       "      <td>125.604529</td>\n",
       "      <td>carrier</td>\n",
       "      <td>27.426323</td>\n",
       "      <td>54.128221</td>\n",
       "    </tr>\n",
       "    <tr>\n",
       "      <th>34</th>\n",
       "      <td>baseline_dual_carriers</td>\n",
       "      <td>2050</td>\n",
       "      <td>Diesel</td>\n",
       "      <td>113.881888</td>\n",
       "      <td>carrier</td>\n",
       "      <td>24.866631</td>\n",
       "      <td>56.893053</td>\n",
       "    </tr>\n",
       "    <tr>\n",
       "      <th>35</th>\n",
       "      <td>baseline_dual_carriers</td>\n",
       "      <td>2025</td>\n",
       "      <td>Electricity</td>\n",
       "      <td>375.594863</td>\n",
       "      <td>carrier</td>\n",
       "      <td>82.012855</td>\n",
       "      <td>89.617661</td>\n",
       "    </tr>\n",
       "    <tr>\n",
       "      <th>36</th>\n",
       "      <td>baseline_dual_carriers</td>\n",
       "      <td>2030</td>\n",
       "      <td>Electricity</td>\n",
       "      <td>310.492421</td>\n",
       "      <td>carrier</td>\n",
       "      <td>67.797439</td>\n",
       "      <td>85.883768</td>\n",
       "    </tr>\n",
       "    <tr>\n",
       "      <th>37</th>\n",
       "      <td>baseline_dual_carriers</td>\n",
       "      <td>2035</td>\n",
       "      <td>Electricity</td>\n",
       "      <td>264.729084</td>\n",
       "      <td>carrier</td>\n",
       "      <td>57.804806</td>\n",
       "      <td>84.888306</td>\n",
       "    </tr>\n",
       "    <tr>\n",
       "      <th>38</th>\n",
       "      <td>baseline_dual_carriers</td>\n",
       "      <td>2040</td>\n",
       "      <td>Electricity</td>\n",
       "      <td>228.024206</td>\n",
       "      <td>carrier</td>\n",
       "      <td>49.790128</td>\n",
       "      <td>84.764360</td>\n",
       "    </tr>\n",
       "    <tr>\n",
       "      <th>39</th>\n",
       "      <td>baseline_dual_carriers</td>\n",
       "      <td>2045</td>\n",
       "      <td>Electricity</td>\n",
       "      <td>195.795592</td>\n",
       "      <td>carrier</td>\n",
       "      <td>42.752862</td>\n",
       "      <td>84.376473</td>\n",
       "    </tr>\n",
       "    <tr>\n",
       "      <th>40</th>\n",
       "      <td>baseline_dual_carriers</td>\n",
       "      <td>2050</td>\n",
       "      <td>Electricity</td>\n",
       "      <td>164.468801</td>\n",
       "      <td>carrier</td>\n",
       "      <td>35.912515</td>\n",
       "      <td>82.165236</td>\n",
       "    </tr>\n",
       "    <tr>\n",
       "      <th>41</th>\n",
       "      <td>baseline_dual_carriers</td>\n",
       "      <td>2021</td>\n",
       "      <td>Gasoline</td>\n",
       "      <td>217.188149</td>\n",
       "      <td>carrier</td>\n",
       "      <td>58.429486</td>\n",
       "      <td>56.727656</td>\n",
       "    </tr>\n",
       "    <tr>\n",
       "      <th>42</th>\n",
       "      <td>baseline_dual_carriers</td>\n",
       "      <td>2025</td>\n",
       "      <td>Gasoline</td>\n",
       "      <td>199.727379</td>\n",
       "      <td>carrier</td>\n",
       "      <td>43.611386</td>\n",
       "      <td>47.655339</td>\n",
       "    </tr>\n",
       "    <tr>\n",
       "      <th>43</th>\n",
       "      <td>baseline_dual_carriers</td>\n",
       "      <td>2030</td>\n",
       "      <td>Gasoline</td>\n",
       "      <td>178.905939</td>\n",
       "      <td>carrier</td>\n",
       "      <td>39.064930</td>\n",
       "      <td>49.486284</td>\n",
       "    </tr>\n",
       "    <tr>\n",
       "      <th>44</th>\n",
       "      <td>baseline_dual_carriers</td>\n",
       "      <td>2035</td>\n",
       "      <td>Gasoline</td>\n",
       "      <td>162.183496</td>\n",
       "      <td>carrier</td>\n",
       "      <td>35.413508</td>\n",
       "      <td>52.005930</td>\n",
       "    </tr>\n",
       "    <tr>\n",
       "      <th>45</th>\n",
       "      <td>baseline_dual_carriers</td>\n",
       "      <td>2040</td>\n",
       "      <td>Gasoline</td>\n",
       "      <td>147.652477</td>\n",
       "      <td>carrier</td>\n",
       "      <td>32.240593</td>\n",
       "      <td>54.887452</td>\n",
       "    </tr>\n",
       "    <tr>\n",
       "      <th>46</th>\n",
       "      <td>baseline_dual_carriers</td>\n",
       "      <td>2045</td>\n",
       "      <td>Gasoline</td>\n",
       "      <td>133.241537</td>\n",
       "      <td>carrier</td>\n",
       "      <td>29.093899</td>\n",
       "      <td>57.419326</td>\n",
       "    </tr>\n",
       "    <tr>\n",
       "      <th>47</th>\n",
       "      <td>baseline_dual_carriers</td>\n",
       "      <td>2050</td>\n",
       "      <td>Gasoline</td>\n",
       "      <td>121.957058</td>\n",
       "      <td>carrier</td>\n",
       "      <td>26.629881</td>\n",
       "      <td>60.927242</td>\n",
       "    </tr>\n",
       "    <tr>\n",
       "      <th>48</th>\n",
       "      <td>baseline_dual_carriers</td>\n",
       "      <td>2025</td>\n",
       "      <td>Gaseous H2</td>\n",
       "      <td>202.510301</td>\n",
       "      <td>carrier</td>\n",
       "      <td>44.219050</td>\n",
       "      <td>48.319350</td>\n",
       "    </tr>\n",
       "    <tr>\n",
       "      <th>49</th>\n",
       "      <td>baseline_dual_carriers</td>\n",
       "      <td>2030</td>\n",
       "      <td>Gaseous H2</td>\n",
       "      <td>211.223844</td>\n",
       "      <td>carrier</td>\n",
       "      <td>46.121692</td>\n",
       "      <td>58.425579</td>\n",
       "    </tr>\n",
       "    <tr>\n",
       "      <th>50</th>\n",
       "      <td>baseline_dual_carriers</td>\n",
       "      <td>2035</td>\n",
       "      <td>Gaseous H2</td>\n",
       "      <td>150.690806</td>\n",
       "      <td>carrier</td>\n",
       "      <td>32.904026</td>\n",
       "      <td>48.320672</td>\n",
       "    </tr>\n",
       "    <tr>\n",
       "      <th>51</th>\n",
       "      <td>baseline_dual_carriers</td>\n",
       "      <td>2040</td>\n",
       "      <td>Gaseous H2</td>\n",
       "      <td>131.400759</td>\n",
       "      <td>carrier</td>\n",
       "      <td>28.691956</td>\n",
       "      <td>48.846135</td>\n",
       "    </tr>\n",
       "    <tr>\n",
       "      <th>52</th>\n",
       "      <td>baseline_dual_carriers</td>\n",
       "      <td>2045</td>\n",
       "      <td>Gaseous H2</td>\n",
       "      <td>106.632409</td>\n",
       "      <td>carrier</td>\n",
       "      <td>23.283674</td>\n",
       "      <td>45.952345</td>\n",
       "    </tr>\n",
       "    <tr>\n",
       "      <th>53</th>\n",
       "      <td>baseline_dual_carriers</td>\n",
       "      <td>2050</td>\n",
       "      <td>Gaseous H2</td>\n",
       "      <td>110.392468</td>\n",
       "      <td>carrier</td>\n",
       "      <td>24.104700</td>\n",
       "      <td>55.149810</td>\n",
       "    </tr>\n",
       "  </tbody>\n",
       "</table>\n",
       "</div>"
      ],
      "text/plain": [
       "                  scenario  period    commodity    avg_dual comm_type  \\\n",
       "0   vanilla4_dual_carriers    2021       Diesel  119.136663   carrier   \n",
       "1   vanilla4_dual_carriers    2025       Diesel   99.124901   carrier   \n",
       "2   vanilla4_dual_carriers    2030       Diesel   78.226436   carrier   \n",
       "3   vanilla4_dual_carriers    2035       Diesel   69.888995   carrier   \n",
       "4   vanilla4_dual_carriers    2040       Diesel   61.500288   carrier   \n",
       "5   vanilla4_dual_carriers    2045       Diesel   53.852858   carrier   \n",
       "6   vanilla4_dual_carriers    2050       Diesel   47.393771   carrier   \n",
       "7   vanilla4_dual_carriers    2021  Electricity  477.792821   carrier   \n",
       "8   vanilla4_dual_carriers    2025  Electricity  471.288198   carrier   \n",
       "9   vanilla4_dual_carriers    2030  Electricity  290.854430   carrier   \n",
       "10  vanilla4_dual_carriers    2035  Electricity  252.183845   carrier   \n",
       "11  vanilla4_dual_carriers    2040  Electricity  217.900650   carrier   \n",
       "12  vanilla4_dual_carriers    2045  Electricity  188.491599   carrier   \n",
       "13  vanilla4_dual_carriers    2050  Electricity  160.468283   carrier   \n",
       "14  vanilla4_dual_carriers    2021     Gasoline  135.674146   carrier   \n",
       "15  vanilla4_dual_carriers    2025     Gasoline  103.689718   carrier   \n",
       "16  vanilla4_dual_carriers    2030     Gasoline   88.949057   carrier   \n",
       "17  vanilla4_dual_carriers    2035     Gasoline   78.430362   carrier   \n",
       "18  vanilla4_dual_carriers    2040     Gasoline   69.873763   carrier   \n",
       "19  vanilla4_dual_carriers    2045     Gasoline   60.975461   carrier   \n",
       "20  vanilla4_dual_carriers    2050     Gasoline   54.991476   carrier   \n",
       "21  vanilla4_dual_carriers    2021   Gaseous H2  125.672893   carrier   \n",
       "22  vanilla4_dual_carriers    2025   Gaseous H2  120.037948   carrier   \n",
       "23  vanilla4_dual_carriers    2030   Gaseous H2   99.892823   carrier   \n",
       "24  vanilla4_dual_carriers    2035   Gaseous H2   87.889560   carrier   \n",
       "25  vanilla4_dual_carriers    2040   Gaseous H2   76.557621   carrier   \n",
       "26  vanilla4_dual_carriers    2045   Gaseous H2   65.483518   carrier   \n",
       "27  vanilla4_dual_carriers    2050   Gaseous H2   55.477832   carrier   \n",
       "28  baseline_dual_carriers    2021       Diesel  200.072988   carrier   \n",
       "29  baseline_dual_carriers    2025       Diesel  194.481331   carrier   \n",
       "30  baseline_dual_carriers    2030       Diesel  167.545636   carrier   \n",
       "31  baseline_dual_carriers    2035       Diesel  153.047723   carrier   \n",
       "32  baseline_dual_carriers    2040       Diesel  138.725441   carrier   \n",
       "33  baseline_dual_carriers    2045       Diesel  125.604529   carrier   \n",
       "34  baseline_dual_carriers    2050       Diesel  113.881888   carrier   \n",
       "35  baseline_dual_carriers    2025  Electricity  375.594863   carrier   \n",
       "36  baseline_dual_carriers    2030  Electricity  310.492421   carrier   \n",
       "37  baseline_dual_carriers    2035  Electricity  264.729084   carrier   \n",
       "38  baseline_dual_carriers    2040  Electricity  228.024206   carrier   \n",
       "39  baseline_dual_carriers    2045  Electricity  195.795592   carrier   \n",
       "40  baseline_dual_carriers    2050  Electricity  164.468801   carrier   \n",
       "41  baseline_dual_carriers    2021     Gasoline  217.188149   carrier   \n",
       "42  baseline_dual_carriers    2025     Gasoline  199.727379   carrier   \n",
       "43  baseline_dual_carriers    2030     Gasoline  178.905939   carrier   \n",
       "44  baseline_dual_carriers    2035     Gasoline  162.183496   carrier   \n",
       "45  baseline_dual_carriers    2040     Gasoline  147.652477   carrier   \n",
       "46  baseline_dual_carriers    2045     Gasoline  133.241537   carrier   \n",
       "47  baseline_dual_carriers    2050     Gasoline  121.957058   carrier   \n",
       "48  baseline_dual_carriers    2025   Gaseous H2  202.510301   carrier   \n",
       "49  baseline_dual_carriers    2030   Gaseous H2  211.223844   carrier   \n",
       "50  baseline_dual_carriers    2035   Gaseous H2  150.690806   carrier   \n",
       "51  baseline_dual_carriers    2040   Gaseous H2  131.400759   carrier   \n",
       "52  baseline_dual_carriers    2045   Gaseous H2  106.632409   carrier   \n",
       "53  baseline_dual_carriers    2050   Gaseous H2  110.392468   carrier   \n",
       "\n",
       "           A/P  Shadow Price  \n",
       "0    32.050985     31.117461  \n",
       "1    21.644375     23.651393  \n",
       "2    17.081100     21.637826  \n",
       "3    15.260582     22.410678  \n",
       "4    13.428869     22.861751  \n",
       "5    11.759018     23.207439  \n",
       "6    10.348647     23.676955  \n",
       "7   128.539191    124.795331  \n",
       "8   102.907932    112.450276  \n",
       "9    63.509394     80.451801  \n",
       "10   55.065495     80.865536  \n",
       "11   47.579603     81.001089  \n",
       "12   41.158002     81.228878  \n",
       "13   35.038983     80.166660  \n",
       "14   36.500015     35.436907  \n",
       "15   22.641124     24.740568  \n",
       "16   19.422433     24.603757  \n",
       "17   17.125628     25.149562  \n",
       "18   15.257256     25.974456  \n",
       "19   13.314271     26.276865  \n",
       "20   12.007640     27.472612  \n",
       "21   33.809407     32.824667  \n",
       "22   26.210835     28.641287  \n",
       "23   21.812055     27.630858  \n",
       "24   19.191087     28.182758  \n",
       "25   16.716707     28.459074  \n",
       "26   14.298626     28.219574  \n",
       "27   12.113838     27.715586  \n",
       "28   53.825045     52.257325  \n",
       "29   42.465888     46.403622  \n",
       "30   36.584356     46.343967  \n",
       "31   33.418670     49.076443  \n",
       "32   30.291334     51.568969  \n",
       "33   27.426323     54.128221  \n",
       "34   24.866631     56.893053  \n",
       "35   82.012855     89.617661  \n",
       "36   67.797439     85.883768  \n",
       "37   57.804806     84.888306  \n",
       "38   49.790128     84.764360  \n",
       "39   42.752862     84.376473  \n",
       "40   35.912515     82.165236  \n",
       "41   58.429486     56.727656  \n",
       "42   43.611386     47.655339  \n",
       "43   39.064930     49.486284  \n",
       "44   35.413508     52.005930  \n",
       "45   32.240593     54.887452  \n",
       "46   29.093899     57.419326  \n",
       "47   26.629881     60.927242  \n",
       "48   44.219050     48.319350  \n",
       "49   46.121692     58.425579  \n",
       "50   32.904026     48.320672  \n",
       "51   28.691956     48.846135  \n",
       "52   23.283674     45.952345  \n",
       "53   24.104700     55.149810  "
      ]
     },
     "execution_count": 33,
     "metadata": {},
     "output_type": "execute_result"
    }
   ],
   "source": [
    "df_scenarios = build_master_df(\n",
    "    db_variants=[\n",
    "        'vanilla4_dual_carriers',\n",
    "        'baseline_dual_carriers',\n",
    "    ]\n",
    ")\n",
    "\n",
    "df_scenarios"
   ]
  },
  {
   "cell_type": "code",
   "execution_count": 41,
   "id": "f0366ed6",
   "metadata": {},
   "outputs": [],
   "source": [
    "color_fuel_map = {\n",
    "    'Gasoline': 'red',\n",
    "    'Diesel': 'brown',\n",
    "    # 'Compressed NG': 'tomato',\n",
    "    # 'Hybrid': 'darkorange',\n",
    "    # 'PHEV (35-mile AER)': 'dodgerblue',\n",
    "    # 'PHEV (50-mile AER)': 'darkblue',\n",
    "    # 'BEV (150-mile AER)': 'limegreen',\n",
    "    # 'BEV (200-mile AER)': 'seagreen',\n",
    "    # 'BEV (300-mile AER)': 'olive',\n",
    "    # 'BEV (400-mile AER)': 'darkgreen',\n",
    "    # 'Plug-in hybrid': 'blue',\n",
    "    'Electricity': 'green',\n",
    "    'Gaseous H2': 'mediumvioletred'\n",
    "}"
   ]
  },
  {
   "cell_type": "code",
   "execution_count": 43,
   "id": "54a25ae2",
   "metadata": {},
   "outputs": [
    {
     "data": {
      "application/vnd.plotly.v1+json": {
       "config": {
        "plotlyServerURL": "https://plot.ly"
       },
       "data": [
        {
         "hovertemplate": "commodity=Diesel<br>Scenario=Vanilla<br>period=%{x}<br>Annualized Shadow Price ($/GJ)=%{y}<extra></extra>",
         "legendgroup": "Diesel, Vanilla",
         "line": {
          "color": "brown",
          "dash": "solid"
         },
         "marker": {
          "symbol": "circle"
         },
         "mode": "lines+markers",
         "name": "Diesel, Vanilla",
         "orientation": "v",
         "showlegend": true,
         "type": "scatter",
         "x": [
          2021,
          2025,
          2030,
          2035,
          2040,
          2045,
          2050
         ],
         "xaxis": "x",
         "y": [
          31.117460710999993,
          23.651393151000004,
          21.63782645,
          22.410678453,
          22.861750663,
          23.207438801000002,
          23.676954997000003
         ],
         "yaxis": "y"
        },
        {
         "hovertemplate": "commodity=Diesel<br>Scenario=Baseline<br>period=%{x}<br>Annualized Shadow Price ($/GJ)=%{y}<extra></extra>",
         "legendgroup": "Diesel, Baseline",
         "line": {
          "color": "brown",
          "dash": "dot"
         },
         "marker": {
          "symbol": "circle"
         },
         "mode": "lines+markers",
         "name": "Diesel, Baseline",
         "orientation": "v",
         "showlegend": true,
         "type": "scatter",
         "x": [
          2021,
          2025,
          2030,
          2035,
          2040,
          2045,
          2050
         ],
         "xaxis": "x",
         "y": [
          52.25732501499972,
          46.403622022598775,
          46.34396710248001,
          49.076443378256535,
          51.56896869855348,
          54.12822140454181,
          56.89305274386554
         ],
         "yaxis": "y"
        },
        {
         "hovertemplate": "commodity=Electricity<br>Scenario=Vanilla<br>period=%{x}<br>Annualized Shadow Price ($/GJ)=%{y}<extra></extra>",
         "legendgroup": "Electricity, Vanilla",
         "line": {
          "color": "green",
          "dash": "solid"
         },
         "marker": {
          "symbol": "circle"
         },
         "mode": "lines+markers",
         "name": "Electricity, Vanilla",
         "orientation": "v",
         "showlegend": true,
         "type": "scatter",
         "x": [
          2021,
          2025,
          2030,
          2035,
          2040,
          2045,
          2050
         ],
         "xaxis": "x",
         "y": [
          124.79533082907584,
          112.45027634128769,
          80.45180072443732,
          80.8655364219389,
          81.00108931480449,
          81.22887824496428,
          80.16665954171631
         ],
         "yaxis": "y"
        },
        {
         "hovertemplate": "commodity=Electricity<br>Scenario=Baseline<br>period=%{x}<br>Annualized Shadow Price ($/GJ)=%{y}<extra></extra>",
         "legendgroup": "Electricity, Baseline",
         "line": {
          "color": "green",
          "dash": "dot"
         },
         "marker": {
          "symbol": "circle"
         },
         "mode": "lines+markers",
         "name": "Electricity, Baseline",
         "orientation": "v",
         "showlegend": true,
         "type": "scatter",
         "x": [
          2025,
          2030,
          2035,
          2040,
          2045,
          2050
         ],
         "xaxis": "x",
         "y": [
          89.61766125970803,
          85.883767859118,
          84.88830593995905,
          84.76435963102871,
          84.37647271868981,
          82.16523610975253
         ],
         "yaxis": "y"
        },
        {
         "hovertemplate": "commodity=Gasoline<br>Scenario=Vanilla<br>period=%{x}<br>Annualized Shadow Price ($/GJ)=%{y}<extra></extra>",
         "legendgroup": "Gasoline, Vanilla",
         "line": {
          "color": "red",
          "dash": "solid"
         },
         "marker": {
          "symbol": "circle"
         },
         "mode": "lines+markers",
         "name": "Gasoline, Vanilla",
         "orientation": "v",
         "showlegend": true,
         "type": "scatter",
         "x": [
          2021,
          2025,
          2030,
          2035,
          2040,
          2045,
          2050
         ],
         "xaxis": "x",
         "y": [
          35.43690737299999,
          24.740567518000002,
          24.603757253999998,
          25.149562344,
          25.974456437999997,
          26.276865151000003,
          27.472612431
         ],
         "yaxis": "y"
        },
        {
         "hovertemplate": "commodity=Gasoline<br>Scenario=Baseline<br>period=%{x}<br>Annualized Shadow Price ($/GJ)=%{y}<extra></extra>",
         "legendgroup": "Gasoline, Baseline",
         "line": {
          "color": "red",
          "dash": "dot"
         },
         "marker": {
          "symbol": "circle"
         },
         "mode": "lines+markers",
         "name": "Gasoline, Baseline",
         "orientation": "v",
         "showlegend": true,
         "type": "scatter",
         "x": [
          2021,
          2025,
          2030,
          2035,
          2040,
          2045,
          2050
         ],
         "xaxis": "x",
         "y": [
          56.727656390853205,
          47.65533927716238,
          49.486283999139395,
          52.005930200070466,
          54.88745205827269,
          57.4193261670184,
          60.9272421059433
         ],
         "yaxis": "y"
        },
        {
         "hovertemplate": "commodity=Gaseous H2<br>Scenario=Vanilla<br>period=%{x}<br>Annualized Shadow Price ($/GJ)=%{y}<extra></extra>",
         "legendgroup": "Gaseous H2, Vanilla",
         "line": {
          "color": "mediumvioletred",
          "dash": "solid"
         },
         "marker": {
          "symbol": "circle"
         },
         "mode": "lines+markers",
         "name": "Gaseous H2, Vanilla",
         "orientation": "v",
         "showlegend": true,
         "type": "scatter",
         "x": [
          2021,
          2025,
          2030,
          2035,
          2040,
          2045,
          2050
         ],
         "xaxis": "x",
         "y": [
          32.82466698142567,
          28.641286758664176,
          27.63085806858676,
          28.182758459176952,
          28.459073908401503,
          28.219574438167605,
          27.71558569572046
         ],
         "yaxis": "y"
        },
        {
         "hovertemplate": "commodity=Gaseous H2<br>Scenario=Baseline<br>period=%{x}<br>Annualized Shadow Price ($/GJ)=%{y}<extra></extra>",
         "legendgroup": "Gaseous H2, Baseline",
         "line": {
          "color": "mediumvioletred",
          "dash": "dot"
         },
         "marker": {
          "symbol": "circle"
         },
         "mode": "lines+markers",
         "name": "Gaseous H2, Baseline",
         "orientation": "v",
         "showlegend": true,
         "type": "scatter",
         "x": [
          2025,
          2030,
          2035,
          2040,
          2045,
          2050
         ],
         "xaxis": "x",
         "y": [
          48.31934987029297,
          58.425579404591126,
          48.32067212489438,
          48.84613516833445,
          45.95234508146618,
          55.14981043644788
         ],
         "yaxis": "y"
        }
       ],
       "layout": {
        "height": 600,
        "legend": {
         "title": {
          "text": "Commodity"
         },
         "tracegroupgap": 0
        },
        "template": {
         "data": {
          "bar": [
           {
            "error_x": {
             "color": "#2a3f5f"
            },
            "error_y": {
             "color": "#2a3f5f"
            },
            "marker": {
             "line": {
              "color": "white",
              "width": 0.5
             },
             "pattern": {
              "fillmode": "overlay",
              "size": 10,
              "solidity": 0.2
             }
            },
            "type": "bar"
           }
          ],
          "barpolar": [
           {
            "marker": {
             "line": {
              "color": "white",
              "width": 0.5
             },
             "pattern": {
              "fillmode": "overlay",
              "size": 10,
              "solidity": 0.2
             }
            },
            "type": "barpolar"
           }
          ],
          "carpet": [
           {
            "aaxis": {
             "endlinecolor": "#2a3f5f",
             "gridcolor": "#C8D4E3",
             "linecolor": "#C8D4E3",
             "minorgridcolor": "#C8D4E3",
             "startlinecolor": "#2a3f5f"
            },
            "baxis": {
             "endlinecolor": "#2a3f5f",
             "gridcolor": "#C8D4E3",
             "linecolor": "#C8D4E3",
             "minorgridcolor": "#C8D4E3",
             "startlinecolor": "#2a3f5f"
            },
            "type": "carpet"
           }
          ],
          "choropleth": [
           {
            "colorbar": {
             "outlinewidth": 0,
             "ticks": ""
            },
            "type": "choropleth"
           }
          ],
          "contour": [
           {
            "colorbar": {
             "outlinewidth": 0,
             "ticks": ""
            },
            "colorscale": [
             [
              0,
              "#0d0887"
             ],
             [
              0.1111111111111111,
              "#46039f"
             ],
             [
              0.2222222222222222,
              "#7201a8"
             ],
             [
              0.3333333333333333,
              "#9c179e"
             ],
             [
              0.4444444444444444,
              "#bd3786"
             ],
             [
              0.5555555555555556,
              "#d8576b"
             ],
             [
              0.6666666666666666,
              "#ed7953"
             ],
             [
              0.7777777777777778,
              "#fb9f3a"
             ],
             [
              0.8888888888888888,
              "#fdca26"
             ],
             [
              1,
              "#f0f921"
             ]
            ],
            "type": "contour"
           }
          ],
          "contourcarpet": [
           {
            "colorbar": {
             "outlinewidth": 0,
             "ticks": ""
            },
            "type": "contourcarpet"
           }
          ],
          "heatmap": [
           {
            "colorbar": {
             "outlinewidth": 0,
             "ticks": ""
            },
            "colorscale": [
             [
              0,
              "#0d0887"
             ],
             [
              0.1111111111111111,
              "#46039f"
             ],
             [
              0.2222222222222222,
              "#7201a8"
             ],
             [
              0.3333333333333333,
              "#9c179e"
             ],
             [
              0.4444444444444444,
              "#bd3786"
             ],
             [
              0.5555555555555556,
              "#d8576b"
             ],
             [
              0.6666666666666666,
              "#ed7953"
             ],
             [
              0.7777777777777778,
              "#fb9f3a"
             ],
             [
              0.8888888888888888,
              "#fdca26"
             ],
             [
              1,
              "#f0f921"
             ]
            ],
            "type": "heatmap"
           }
          ],
          "heatmapgl": [
           {
            "colorbar": {
             "outlinewidth": 0,
             "ticks": ""
            },
            "colorscale": [
             [
              0,
              "#0d0887"
             ],
             [
              0.1111111111111111,
              "#46039f"
             ],
             [
              0.2222222222222222,
              "#7201a8"
             ],
             [
              0.3333333333333333,
              "#9c179e"
             ],
             [
              0.4444444444444444,
              "#bd3786"
             ],
             [
              0.5555555555555556,
              "#d8576b"
             ],
             [
              0.6666666666666666,
              "#ed7953"
             ],
             [
              0.7777777777777778,
              "#fb9f3a"
             ],
             [
              0.8888888888888888,
              "#fdca26"
             ],
             [
              1,
              "#f0f921"
             ]
            ],
            "type": "heatmapgl"
           }
          ],
          "histogram": [
           {
            "marker": {
             "pattern": {
              "fillmode": "overlay",
              "size": 10,
              "solidity": 0.2
             }
            },
            "type": "histogram"
           }
          ],
          "histogram2d": [
           {
            "colorbar": {
             "outlinewidth": 0,
             "ticks": ""
            },
            "colorscale": [
             [
              0,
              "#0d0887"
             ],
             [
              0.1111111111111111,
              "#46039f"
             ],
             [
              0.2222222222222222,
              "#7201a8"
             ],
             [
              0.3333333333333333,
              "#9c179e"
             ],
             [
              0.4444444444444444,
              "#bd3786"
             ],
             [
              0.5555555555555556,
              "#d8576b"
             ],
             [
              0.6666666666666666,
              "#ed7953"
             ],
             [
              0.7777777777777778,
              "#fb9f3a"
             ],
             [
              0.8888888888888888,
              "#fdca26"
             ],
             [
              1,
              "#f0f921"
             ]
            ],
            "type": "histogram2d"
           }
          ],
          "histogram2dcontour": [
           {
            "colorbar": {
             "outlinewidth": 0,
             "ticks": ""
            },
            "colorscale": [
             [
              0,
              "#0d0887"
             ],
             [
              0.1111111111111111,
              "#46039f"
             ],
             [
              0.2222222222222222,
              "#7201a8"
             ],
             [
              0.3333333333333333,
              "#9c179e"
             ],
             [
              0.4444444444444444,
              "#bd3786"
             ],
             [
              0.5555555555555556,
              "#d8576b"
             ],
             [
              0.6666666666666666,
              "#ed7953"
             ],
             [
              0.7777777777777778,
              "#fb9f3a"
             ],
             [
              0.8888888888888888,
              "#fdca26"
             ],
             [
              1,
              "#f0f921"
             ]
            ],
            "type": "histogram2dcontour"
           }
          ],
          "mesh3d": [
           {
            "colorbar": {
             "outlinewidth": 0,
             "ticks": ""
            },
            "type": "mesh3d"
           }
          ],
          "parcoords": [
           {
            "line": {
             "colorbar": {
              "outlinewidth": 0,
              "ticks": ""
             }
            },
            "type": "parcoords"
           }
          ],
          "pie": [
           {
            "automargin": true,
            "type": "pie"
           }
          ],
          "scatter": [
           {
            "fillpattern": {
             "fillmode": "overlay",
             "size": 10,
             "solidity": 0.2
            },
            "type": "scatter"
           }
          ],
          "scatter3d": [
           {
            "line": {
             "colorbar": {
              "outlinewidth": 0,
              "ticks": ""
             }
            },
            "marker": {
             "colorbar": {
              "outlinewidth": 0,
              "ticks": ""
             }
            },
            "type": "scatter3d"
           }
          ],
          "scattercarpet": [
           {
            "marker": {
             "colorbar": {
              "outlinewidth": 0,
              "ticks": ""
             }
            },
            "type": "scattercarpet"
           }
          ],
          "scattergeo": [
           {
            "marker": {
             "colorbar": {
              "outlinewidth": 0,
              "ticks": ""
             }
            },
            "type": "scattergeo"
           }
          ],
          "scattergl": [
           {
            "marker": {
             "colorbar": {
              "outlinewidth": 0,
              "ticks": ""
             }
            },
            "type": "scattergl"
           }
          ],
          "scattermapbox": [
           {
            "marker": {
             "colorbar": {
              "outlinewidth": 0,
              "ticks": ""
             }
            },
            "type": "scattermapbox"
           }
          ],
          "scatterpolar": [
           {
            "marker": {
             "colorbar": {
              "outlinewidth": 0,
              "ticks": ""
             }
            },
            "type": "scatterpolar"
           }
          ],
          "scatterpolargl": [
           {
            "marker": {
             "colorbar": {
              "outlinewidth": 0,
              "ticks": ""
             }
            },
            "type": "scatterpolargl"
           }
          ],
          "scatterternary": [
           {
            "marker": {
             "colorbar": {
              "outlinewidth": 0,
              "ticks": ""
             }
            },
            "type": "scatterternary"
           }
          ],
          "surface": [
           {
            "colorbar": {
             "outlinewidth": 0,
             "ticks": ""
            },
            "colorscale": [
             [
              0,
              "#0d0887"
             ],
             [
              0.1111111111111111,
              "#46039f"
             ],
             [
              0.2222222222222222,
              "#7201a8"
             ],
             [
              0.3333333333333333,
              "#9c179e"
             ],
             [
              0.4444444444444444,
              "#bd3786"
             ],
             [
              0.5555555555555556,
              "#d8576b"
             ],
             [
              0.6666666666666666,
              "#ed7953"
             ],
             [
              0.7777777777777778,
              "#fb9f3a"
             ],
             [
              0.8888888888888888,
              "#fdca26"
             ],
             [
              1,
              "#f0f921"
             ]
            ],
            "type": "surface"
           }
          ],
          "table": [
           {
            "cells": {
             "fill": {
              "color": "#EBF0F8"
             },
             "line": {
              "color": "white"
             }
            },
            "header": {
             "fill": {
              "color": "#C8D4E3"
             },
             "line": {
              "color": "white"
             }
            },
            "type": "table"
           }
          ]
         },
         "layout": {
          "annotationdefaults": {
           "arrowcolor": "#2a3f5f",
           "arrowhead": 0,
           "arrowwidth": 1
          },
          "autotypenumbers": "strict",
          "coloraxis": {
           "colorbar": {
            "outlinewidth": 0,
            "ticks": ""
           }
          },
          "colorscale": {
           "diverging": [
            [
             0,
             "#8e0152"
            ],
            [
             0.1,
             "#c51b7d"
            ],
            [
             0.2,
             "#de77ae"
            ],
            [
             0.3,
             "#f1b6da"
            ],
            [
             0.4,
             "#fde0ef"
            ],
            [
             0.5,
             "#f7f7f7"
            ],
            [
             0.6,
             "#e6f5d0"
            ],
            [
             0.7,
             "#b8e186"
            ],
            [
             0.8,
             "#7fbc41"
            ],
            [
             0.9,
             "#4d9221"
            ],
            [
             1,
             "#276419"
            ]
           ],
           "sequential": [
            [
             0,
             "#0d0887"
            ],
            [
             0.1111111111111111,
             "#46039f"
            ],
            [
             0.2222222222222222,
             "#7201a8"
            ],
            [
             0.3333333333333333,
             "#9c179e"
            ],
            [
             0.4444444444444444,
             "#bd3786"
            ],
            [
             0.5555555555555556,
             "#d8576b"
            ],
            [
             0.6666666666666666,
             "#ed7953"
            ],
            [
             0.7777777777777778,
             "#fb9f3a"
            ],
            [
             0.8888888888888888,
             "#fdca26"
            ],
            [
             1,
             "#f0f921"
            ]
           ],
           "sequentialminus": [
            [
             0,
             "#0d0887"
            ],
            [
             0.1111111111111111,
             "#46039f"
            ],
            [
             0.2222222222222222,
             "#7201a8"
            ],
            [
             0.3333333333333333,
             "#9c179e"
            ],
            [
             0.4444444444444444,
             "#bd3786"
            ],
            [
             0.5555555555555556,
             "#d8576b"
            ],
            [
             0.6666666666666666,
             "#ed7953"
            ],
            [
             0.7777777777777778,
             "#fb9f3a"
            ],
            [
             0.8888888888888888,
             "#fdca26"
            ],
            [
             1,
             "#f0f921"
            ]
           ]
          },
          "colorway": [
           "#636efa",
           "#EF553B",
           "#00cc96",
           "#ab63fa",
           "#FFA15A",
           "#19d3f3",
           "#FF6692",
           "#B6E880",
           "#FF97FF",
           "#FECB52"
          ],
          "font": {
           "color": "#2a3f5f"
          },
          "geo": {
           "bgcolor": "white",
           "lakecolor": "white",
           "landcolor": "white",
           "showlakes": true,
           "showland": true,
           "subunitcolor": "#C8D4E3"
          },
          "hoverlabel": {
           "align": "left"
          },
          "hovermode": "closest",
          "mapbox": {
           "style": "light"
          },
          "paper_bgcolor": "white",
          "plot_bgcolor": "white",
          "polar": {
           "angularaxis": {
            "gridcolor": "#EBF0F8",
            "linecolor": "#EBF0F8",
            "ticks": ""
           },
           "bgcolor": "white",
           "radialaxis": {
            "gridcolor": "#EBF0F8",
            "linecolor": "#EBF0F8",
            "ticks": ""
           }
          },
          "scene": {
           "xaxis": {
            "backgroundcolor": "white",
            "gridcolor": "#DFE8F3",
            "gridwidth": 2,
            "linecolor": "#EBF0F8",
            "showbackground": true,
            "ticks": "",
            "zerolinecolor": "#EBF0F8"
           },
           "yaxis": {
            "backgroundcolor": "white",
            "gridcolor": "#DFE8F3",
            "gridwidth": 2,
            "linecolor": "#EBF0F8",
            "showbackground": true,
            "ticks": "",
            "zerolinecolor": "#EBF0F8"
           },
           "zaxis": {
            "backgroundcolor": "white",
            "gridcolor": "#DFE8F3",
            "gridwidth": 2,
            "linecolor": "#EBF0F8",
            "showbackground": true,
            "ticks": "",
            "zerolinecolor": "#EBF0F8"
           }
          },
          "shapedefaults": {
           "line": {
            "color": "#2a3f5f"
           }
          },
          "ternary": {
           "aaxis": {
            "gridcolor": "#DFE8F3",
            "linecolor": "#A2B1C6",
            "ticks": ""
           },
           "baxis": {
            "gridcolor": "#DFE8F3",
            "linecolor": "#A2B1C6",
            "ticks": ""
           },
           "bgcolor": "white",
           "caxis": {
            "gridcolor": "#DFE8F3",
            "linecolor": "#A2B1C6",
            "ticks": ""
           }
          },
          "title": {
           "x": 0.05
          },
          "xaxis": {
           "automargin": true,
           "gridcolor": "#EBF0F8",
           "linecolor": "#EBF0F8",
           "ticks": "",
           "title": {
            "standoff": 15
           },
           "zerolinecolor": "#EBF0F8",
           "zerolinewidth": 2
          },
          "yaxis": {
           "automargin": true,
           "gridcolor": "#EBF0F8",
           "linecolor": "#EBF0F8",
           "ticks": "",
           "title": {
            "standoff": 15
           },
           "zerolinecolor": "#EBF0F8",
           "zerolinewidth": 2
          }
         }
        },
        "title": {
         "text": "Annualized Shadow Prices of Carriers by Commodity and Period"
        },
        "width": 1000,
        "xaxis": {
         "anchor": "y",
         "domain": [
          0,
          1
         ],
         "title": {
          "text": "Period"
         }
        },
        "yaxis": {
         "anchor": "x",
         "domain": [
          0,
          1
         ],
         "title": {
          "text": "Annualized Shadow Price (in $/GJ)"
         }
        }
       }
      }
     },
     "metadata": {},
     "output_type": "display_data"
    }
   ],
   "source": [
    "df_scenarios['scenario'] = df_scenarios['scenario'].replace({\n",
    "    'vanilla4_dual_carriers': 'Vanilla',\n",
    "    'baseline_dual_carriers': 'Baseline'\n",
    "})\n",
    "\n",
    "fig = px.line(df_scenarios, \n",
    "              x='period', \n",
    "              y='Shadow Price', \n",
    "              color='commodity', \n",
    "              color_discrete_map=color_fuel_map,\n",
    "              line_dash='scenario',\n",
    "              title='Annualized Shadow Prices of Carriers by Commodity and Period',\n",
    "              labels={'Shadow Price': 'Annualized Shadow Price ($/GJ)', 'scenario': 'Scenario'},\n",
    "              markers=True,\n",
    "              template='plotly_white',\n",
    "              category_orders={'scenario': ['Vanilla', 'Baseline']}\n",
    "              )\n",
    "\n",
    "fig.update_layout(\n",
    "    xaxis_title='Period',\n",
    "    yaxis_title='Annualized Shadow Price (in $/GJ)',\n",
    "    legend_title_text='Commodity',\n",
    "    height=600,\n",
    "    width=1000,\n",
    ")\n",
    "\n",
    "fig.show()"
   ]
  },
  {
   "cell_type": "code",
   "execution_count": null,
   "id": "9b94f23e",
   "metadata": {},
   "outputs": [],
   "source": []
  }
 ],
 "metadata": {
  "kernelspec": {
   "display_name": "plotly",
   "language": "python",
   "name": "python3"
  },
  "language_info": {
   "codemirror_mode": {
    "name": "ipython",
    "version": 3
   },
   "file_extension": ".py",
   "mimetype": "text/x-python",
   "name": "python",
   "nbconvert_exporter": "python",
   "pygments_lexer": "ipython3",
   "version": "3.11.13"
  }
 },
 "nbformat": 4,
 "nbformat_minor": 5
}
