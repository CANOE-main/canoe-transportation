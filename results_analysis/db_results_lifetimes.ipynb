{
 "cells": [
  {
   "cell_type": "code",
   "execution_count": 1,
   "metadata": {},
   "outputs": [],
   "source": [
    "import pandas as pd\n",
    "import numpy as np\n",
    "import plotly.express as px\n",
    "import plotly.graph_objects as go\n",
    "from plotly.subplots import make_subplots\n",
    "import seaborn as sns\n",
    "import matplotlib.pyplot as plt\n",
    "import sqlite3"
   ]
  },
  {
   "cell_type": "code",
   "execution_count": 2,
   "metadata": {},
   "outputs": [],
   "source": [
    "db_path = 'C:/Users/rashi/ESM_databases/temoa/data_files/'\n",
    "db_name = 'canoe_on_12d_lifetimes' + '.sqlite'"
   ]
  },
  {
   "cell_type": "code",
   "execution_count": 3,
   "metadata": {},
   "outputs": [],
   "source": [
    "db_file = db_path + db_name\n",
    "\n",
    "conn = sqlite3.connect(db_file)\n",
    "query_net_capacity = \"SELECT * FROM OutputNetCapacity WHERE sector = 'Transport'\"\n",
    "query_built_capacity = \"SELECT * FROM OutputBuiltCapacity WHERE sector = 'Transport'\"\n",
    "query_existing_capacity = \"SELECT * FROM ExistingCapacity WHERE tech like 'T_%'\"\n",
    "\n",
    "net_cap = pd.read_sql_query(query_net_capacity, conn).drop(columns=['scenario', 'region', 'sector'])\n",
    "new_cap = pd.read_sql_query(query_built_capacity, conn).drop(columns=['scenario', 'region', 'sector'])\n",
    "ex_cap =  pd.read_sql_query(query_existing_capacity, conn)[['tech', 'vintage', 'capacity', 'units']]\n",
    "\n",
    "conn.close()"
   ]
  },
  {
   "cell_type": "code",
   "execution_count": 4,
   "metadata": {},
   "outputs": [],
   "source": [
    "class_mapping = {\n",
    "    'T_HDV_AJ': 'Air jet',\n",
    "    'T_HDV_B': 'Bus',\n",
    "    'T_HDV_R': 'Rail',\n",
    "    'T_HDV_T': 'HD Truck',\n",
    "    'T_HDV_W': 'Marine vessel',\n",
    "    'T_MDV_T': 'MD Truck',\n",
    "    'T_LDV_C_': 'LD Car',\n",
    "    'T_LDV_LT': 'LD Truck',\n",
    "    'T_LDV_M': 'Motorcycle',\n",
    "    'T_IMP_': 'Fuel use',\n",
    "    'H2_distribution': 'Fuel use'\n",
    "}\n",
    "\n",
    "def map_tech_to_mode(tech):\n",
    "    for prefix, class_name in class_mapping.items():\n",
    "        if tech.startswith(prefix):\n",
    "            return class_name\n",
    "    return 'Other'\n",
    "\n",
    "carrier_mapping = {\n",
    "        'BEV': 'BEV',\n",
    "        'GSL': 'Gasoline',\n",
    "        'DSL': 'Diesel',\n",
    "        'CNG': 'CNG',\n",
    "        'LNG': 'LNG',\n",
    "        'JTF': 'Jet Fuel',\n",
    "        'SPK': 'Synthetic Jet Fuel', #      Might change for SAF\n",
    "        'HFO': 'Heavy Fuel Oil',\n",
    "        'MDO': 'Marine Diesel Oil',\n",
    "        'H2': 'H2',\n",
    "        'ELC': 'Electricity'\n",
    "    }\n",
    "\n",
    "def map_tech_to_fuel(tech):\n",
    "    # Check hybrids first\n",
    "    if 'PHEV35' in tech:\n",
    "        return 'PHEV35'\n",
    "    if 'PHEV50' in tech:\n",
    "        return 'PHEV50'\n",
    "    if 'PHEV' in tech:\n",
    "        return 'PHEV'\n",
    "    if 'BEV150' in tech:\n",
    "        return 'BEV150'\n",
    "    if 'BEV200' in tech:\n",
    "        return 'BEV200'\n",
    "    if 'BEV300' in tech:\n",
    "        return 'BEV300'\n",
    "    if 'BEV400' in tech:\n",
    "        return 'BEV400'\n",
    "    if 'FC' in tech:\n",
    "        return 'FCEV'\n",
    "    if 'HEV' in tech:\n",
    "        return 'HEV'\n",
    "    if 'RDSL' in tech:\n",
    "            return 'Biodiesel' #            Might differentiate\n",
    "    if 'ETH' in tech:\n",
    "        return 'Ethanol' #                  Might differentiate\n",
    "    for prefix, carrier in carrier_mapping.items():\n",
    "        if prefix in tech:\n",
    "            return carrier \n",
    "    return 'Other'"
   ]
  },
  {
   "cell_type": "code",
   "execution_count": 5,
   "metadata": {},
   "outputs": [],
   "source": [
    "net_cap['mode'] = net_cap['tech'].apply(map_tech_to_mode)\n",
    "new_cap['mode'] = new_cap['tech'].apply(map_tech_to_mode)\n",
    "ex_cap['mode'] = ex_cap['tech'].apply(map_tech_to_mode)\n",
    "\n",
    "net_cap['fuel'] = net_cap['tech'].apply(map_tech_to_fuel)\n",
    "new_cap['fuel'] = new_cap['tech'].apply(map_tech_to_fuel)\n",
    "ex_cap['fuel'] = ex_cap['tech'].apply(map_tech_to_fuel)"
   ]
  },
  {
   "cell_type": "code",
   "execution_count": 6,
   "metadata": {},
   "outputs": [
    {
     "data": {
      "text/html": [
       "<div>\n",
       "<style scoped>\n",
       "    .dataframe tbody tr th:only-of-type {\n",
       "        vertical-align: middle;\n",
       "    }\n",
       "\n",
       "    .dataframe tbody tr th {\n",
       "        vertical-align: top;\n",
       "    }\n",
       "\n",
       "    .dataframe thead th {\n",
       "        text-align: right;\n",
       "    }\n",
       "</style>\n",
       "<table border=\"1\" class=\"dataframe\">\n",
       "  <thead>\n",
       "    <tr style=\"text-align: right;\">\n",
       "      <th></th>\n",
       "      <th>mode</th>\n",
       "      <th>fuel</th>\n",
       "      <th>vintage</th>\n",
       "      <th>capacity</th>\n",
       "    </tr>\n",
       "  </thead>\n",
       "  <tbody>\n",
       "    <tr>\n",
       "      <th>105</th>\n",
       "      <td>LD Car</td>\n",
       "      <td>Gasoline</td>\n",
       "      <td>2021</td>\n",
       "      <td>3601.866902</td>\n",
       "    </tr>\n",
       "    <tr>\n",
       "      <th>106</th>\n",
       "      <td>LD Car</td>\n",
       "      <td>Gasoline</td>\n",
       "      <td>2025</td>\n",
       "      <td>2822.689199</td>\n",
       "    </tr>\n",
       "    <tr>\n",
       "      <th>107</th>\n",
       "      <td>LD Car</td>\n",
       "      <td>Gasoline</td>\n",
       "      <td>2030</td>\n",
       "      <td>1729.573568</td>\n",
       "    </tr>\n",
       "    <tr>\n",
       "      <th>108</th>\n",
       "      <td>LD Car</td>\n",
       "      <td>Gasoline</td>\n",
       "      <td>2035</td>\n",
       "      <td>753.839412</td>\n",
       "    </tr>\n",
       "    <tr>\n",
       "      <th>109</th>\n",
       "      <td>LD Car</td>\n",
       "      <td>Gasoline</td>\n",
       "      <td>2040</td>\n",
       "      <td>414.556514</td>\n",
       "    </tr>\n",
       "    <tr>\n",
       "      <th>110</th>\n",
       "      <td>LD Car</td>\n",
       "      <td>Gasoline</td>\n",
       "      <td>2045</td>\n",
       "      <td>0.006146</td>\n",
       "    </tr>\n",
       "    <tr>\n",
       "      <th>111</th>\n",
       "      <td>LD Car</td>\n",
       "      <td>Gasoline</td>\n",
       "      <td>2050</td>\n",
       "      <td>0.005629</td>\n",
       "    </tr>\n",
       "  </tbody>\n",
       "</table>\n",
       "</div>"
      ],
      "text/plain": [
       "       mode      fuel  vintage     capacity\n",
       "105  LD Car  Gasoline     2021  3601.866902\n",
       "106  LD Car  Gasoline     2025  2822.689199\n",
       "107  LD Car  Gasoline     2030  1729.573568\n",
       "108  LD Car  Gasoline     2035   753.839412\n",
       "109  LD Car  Gasoline     2040   414.556514\n",
       "110  LD Car  Gasoline     2045     0.006146\n",
       "111  LD Car  Gasoline     2050     0.005629"
      ]
     },
     "execution_count": 6,
     "metadata": {},
     "output_type": "execute_result"
    }
   ],
   "source": [
    "net_cap_group = net_cap.groupby(['mode', 'fuel', 'period'], as_index=False).sum('capacity').drop(columns='vintage').rename(columns={'period': 'vintage'})\n",
    "net_cap_group[(net_cap_group['mode'] == 'LD Car') & (net_cap_group['fuel'] == 'Gasoline')].sort_values(by=['fuel', 'vintage'])"
   ]
  },
  {
   "cell_type": "code",
   "execution_count": 7,
   "metadata": {},
   "outputs": [],
   "source": [
    "ex_cap_group = ex_cap.copy()\n",
    "ex_cap_group['vintage'] = 2021\n",
    "ex_cap_group = ex_cap_group.groupby(['mode', 'fuel', 'vintage', 'units'], as_index=False).sum('capacity')"
   ]
  },
  {
   "cell_type": "code",
   "execution_count": 8,
   "metadata": {},
   "outputs": [
    {
     "data": {
      "text/html": [
       "<div>\n",
       "<style scoped>\n",
       "    .dataframe tbody tr th:only-of-type {\n",
       "        vertical-align: middle;\n",
       "    }\n",
       "\n",
       "    .dataframe tbody tr th {\n",
       "        vertical-align: top;\n",
       "    }\n",
       "\n",
       "    .dataframe thead th {\n",
       "        text-align: right;\n",
       "    }\n",
       "</style>\n",
       "<table border=\"1\" class=\"dataframe\">\n",
       "  <thead>\n",
       "    <tr style=\"text-align: right;\">\n",
       "      <th></th>\n",
       "      <th>mode</th>\n",
       "      <th>fuel</th>\n",
       "      <th>vintage</th>\n",
       "      <th>capacity</th>\n",
       "    </tr>\n",
       "  </thead>\n",
       "  <tbody>\n",
       "    <tr>\n",
       "      <th>90</th>\n",
       "      <td>LD Car</td>\n",
       "      <td>Gasoline</td>\n",
       "      <td>2021</td>\n",
       "      <td>0.002812</td>\n",
       "    </tr>\n",
       "    <tr>\n",
       "      <th>91</th>\n",
       "      <td>LD Car</td>\n",
       "      <td>Gasoline</td>\n",
       "      <td>2025</td>\n",
       "      <td>0.001944</td>\n",
       "    </tr>\n",
       "    <tr>\n",
       "      <th>92</th>\n",
       "      <td>LD Car</td>\n",
       "      <td>Gasoline</td>\n",
       "      <td>2030</td>\n",
       "      <td>0.001892</td>\n",
       "    </tr>\n",
       "    <tr>\n",
       "      <th>93</th>\n",
       "      <td>LD Car</td>\n",
       "      <td>Gasoline</td>\n",
       "      <td>2035</td>\n",
       "      <td>0.001549</td>\n",
       "    </tr>\n",
       "    <tr>\n",
       "      <th>94</th>\n",
       "      <td>LD Car</td>\n",
       "      <td>Gasoline</td>\n",
       "      <td>2040</td>\n",
       "      <td>0.001557</td>\n",
       "    </tr>\n",
       "    <tr>\n",
       "      <th>95</th>\n",
       "      <td>LD Car</td>\n",
       "      <td>Gasoline</td>\n",
       "      <td>2045</td>\n",
       "      <td>0.001765</td>\n",
       "    </tr>\n",
       "    <tr>\n",
       "      <th>96</th>\n",
       "      <td>LD Car</td>\n",
       "      <td>Gasoline</td>\n",
       "      <td>2050</td>\n",
       "      <td>0.001836</td>\n",
       "    </tr>\n",
       "  </tbody>\n",
       "</table>\n",
       "</div>"
      ],
      "text/plain": [
       "      mode      fuel  vintage  capacity\n",
       "90  LD Car  Gasoline     2021  0.002812\n",
       "91  LD Car  Gasoline     2025  0.001944\n",
       "92  LD Car  Gasoline     2030  0.001892\n",
       "93  LD Car  Gasoline     2035  0.001549\n",
       "94  LD Car  Gasoline     2040  0.001557\n",
       "95  LD Car  Gasoline     2045  0.001765\n",
       "96  LD Car  Gasoline     2050  0.001836"
      ]
     },
     "execution_count": 8,
     "metadata": {},
     "output_type": "execute_result"
    }
   ],
   "source": [
    "new_cap_group = new_cap.groupby(['mode', 'fuel', 'vintage'], as_index=False).sum('capacity')\n",
    "new_cap_group[(new_cap_group['mode'] == 'LD Car') & (new_cap_group['fuel'] == 'Gasoline')].sort_values(by=['vintage'])"
   ]
  },
  {
   "cell_type": "code",
   "execution_count": 9,
   "metadata": {},
   "outputs": [],
   "source": [
    "net_cap_group = net_cap_group[['mode', 'fuel', 'vintage', 'capacity']].rename(columns={'capacity': 'net capacity'})\n",
    "new_cap_group = new_cap_group[['mode', 'fuel', 'vintage', 'capacity']].rename(columns={'capacity': 'new capacity'})\n",
    "ex_cap_group = ex_cap_group[['mode', 'fuel', 'vintage', 'capacity']].rename(columns={'capacity': 'ex capacity'})\n",
    "\n",
    "merged_cap = net_cap_group.merge(new_cap_group, on=['mode', 'fuel', 'vintage'], how='left').merge(ex_cap_group, on=['mode', 'fuel', 'vintage'], how='left').fillna(0.)"
   ]
  },
  {
   "cell_type": "code",
   "execution_count": 10,
   "metadata": {},
   "outputs": [
    {
     "data": {
      "text/html": [
       "<div>\n",
       "<style scoped>\n",
       "    .dataframe tbody tr th:only-of-type {\n",
       "        vertical-align: middle;\n",
       "    }\n",
       "\n",
       "    .dataframe tbody tr th {\n",
       "        vertical-align: top;\n",
       "    }\n",
       "\n",
       "    .dataframe thead th {\n",
       "        text-align: right;\n",
       "    }\n",
       "</style>\n",
       "<table border=\"1\" class=\"dataframe\">\n",
       "  <thead>\n",
       "    <tr style=\"text-align: right;\">\n",
       "      <th></th>\n",
       "      <th>mode</th>\n",
       "      <th>fuel</th>\n",
       "      <th>vintage</th>\n",
       "      <th>net capacity</th>\n",
       "      <th>new capacity</th>\n",
       "      <th>ex capacity</th>\n",
       "    </tr>\n",
       "  </thead>\n",
       "  <tbody>\n",
       "    <tr>\n",
       "      <th>106</th>\n",
       "      <td>LD Car</td>\n",
       "      <td>Gasoline</td>\n",
       "      <td>2021</td>\n",
       "      <td>3601.866902</td>\n",
       "      <td>0.002812</td>\n",
       "      <td>3601.86409</td>\n",
       "    </tr>\n",
       "    <tr>\n",
       "      <th>107</th>\n",
       "      <td>LD Car</td>\n",
       "      <td>Gasoline</td>\n",
       "      <td>2025</td>\n",
       "      <td>2822.689199</td>\n",
       "      <td>0.001944</td>\n",
       "      <td>0.00000</td>\n",
       "    </tr>\n",
       "    <tr>\n",
       "      <th>108</th>\n",
       "      <td>LD Car</td>\n",
       "      <td>Gasoline</td>\n",
       "      <td>2030</td>\n",
       "      <td>1729.573568</td>\n",
       "      <td>0.001892</td>\n",
       "      <td>0.00000</td>\n",
       "    </tr>\n",
       "    <tr>\n",
       "      <th>109</th>\n",
       "      <td>LD Car</td>\n",
       "      <td>Gasoline</td>\n",
       "      <td>2035</td>\n",
       "      <td>753.839412</td>\n",
       "      <td>0.001549</td>\n",
       "      <td>0.00000</td>\n",
       "    </tr>\n",
       "    <tr>\n",
       "      <th>110</th>\n",
       "      <td>LD Car</td>\n",
       "      <td>Gasoline</td>\n",
       "      <td>2040</td>\n",
       "      <td>414.556514</td>\n",
       "      <td>0.001557</td>\n",
       "      <td>0.00000</td>\n",
       "    </tr>\n",
       "    <tr>\n",
       "      <th>111</th>\n",
       "      <td>LD Car</td>\n",
       "      <td>Gasoline</td>\n",
       "      <td>2045</td>\n",
       "      <td>0.006146</td>\n",
       "      <td>0.001765</td>\n",
       "      <td>0.00000</td>\n",
       "    </tr>\n",
       "    <tr>\n",
       "      <th>112</th>\n",
       "      <td>LD Car</td>\n",
       "      <td>Gasoline</td>\n",
       "      <td>2050</td>\n",
       "      <td>0.005629</td>\n",
       "      <td>0.001836</td>\n",
       "      <td>0.00000</td>\n",
       "    </tr>\n",
       "  </tbody>\n",
       "</table>\n",
       "</div>"
      ],
      "text/plain": [
       "       mode      fuel  vintage  net capacity  new capacity  ex capacity\n",
       "106  LD Car  Gasoline     2021   3601.866902      0.002812   3601.86409\n",
       "107  LD Car  Gasoline     2025   2822.689199      0.001944      0.00000\n",
       "108  LD Car  Gasoline     2030   1729.573568      0.001892      0.00000\n",
       "109  LD Car  Gasoline     2035    753.839412      0.001549      0.00000\n",
       "110  LD Car  Gasoline     2040    414.556514      0.001557      0.00000\n",
       "111  LD Car  Gasoline     2045      0.006146      0.001765      0.00000\n",
       "112  LD Car  Gasoline     2050      0.005629      0.001836      0.00000"
      ]
     },
     "execution_count": 10,
     "metadata": {},
     "output_type": "execute_result"
    }
   ],
   "source": [
    "merged_cap[(merged_cap['mode'] == 'LD Car') & (merged_cap['fuel'] == 'Gasoline')].sort_values(by=['fuel', 'vintage'])"
   ]
  },
  {
   "cell_type": "code",
   "execution_count": 11,
   "metadata": {},
   "outputs": [],
   "source": [
    "merged_cap = merged_cap.sort_values(by=['mode', 'fuel', 'vintage'])\n",
    "merged_cap['retired cap'] = 0.\n",
    "\n",
    "for _, group in merged_cap.groupby(['mode', 'fuel']):\n",
    "    for i in range(1, len(group)):\n",
    "        current_idx = group.index[i]\n",
    "        previous_idx = group.index[i-1]\n",
    "\n",
    "        # Calculate retired capacity as existing capacity + new capacity - net capacity of previous vintage\n",
    "        merged_cap.loc[current_idx, 'retired cap'] = (\n",
    "            merged_cap.loc[previous_idx, 'net capacity'] + \n",
    "            merged_cap.loc[current_idx, 'new capacity'] - \n",
    "            merged_cap.loc[current_idx, 'net capacity']\n",
    "        )\n",
    "\n",
    "for _, group in merged_cap.groupby(['mode', 'fuel']):\n",
    "    for i in range(1, len(group)):\n",
    "        current_idx = group.index[i]\n",
    "        previous_idx = group.index[i-1]\n",
    "\n",
    "        # Fill the \"ex capacity\" for years after 2021 using the \"net capacity\" from the previous year\n",
    "        merged_cap.loc[current_idx, 'ex capacity'] = merged_cap.loc[previous_idx, 'net capacity']\n",
    "\n",
    "merged_cap['retired cap'] = -merged_cap['retired cap']"
   ]
  },
  {
   "cell_type": "code",
   "execution_count": 12,
   "metadata": {},
   "outputs": [
    {
     "data": {
      "text/html": [
       "<div>\n",
       "<style scoped>\n",
       "    .dataframe tbody tr th:only-of-type {\n",
       "        vertical-align: middle;\n",
       "    }\n",
       "\n",
       "    .dataframe tbody tr th {\n",
       "        vertical-align: top;\n",
       "    }\n",
       "\n",
       "    .dataframe thead th {\n",
       "        text-align: right;\n",
       "    }\n",
       "</style>\n",
       "<table border=\"1\" class=\"dataframe\">\n",
       "  <thead>\n",
       "    <tr style=\"text-align: right;\">\n",
       "      <th></th>\n",
       "      <th>mode</th>\n",
       "      <th>fuel</th>\n",
       "      <th>vintage</th>\n",
       "      <th>net capacity</th>\n",
       "      <th>new capacity</th>\n",
       "      <th>ex capacity</th>\n",
       "      <th>retired cap</th>\n",
       "    </tr>\n",
       "  </thead>\n",
       "  <tbody>\n",
       "    <tr>\n",
       "      <th>57</th>\n",
       "      <td>LD Car</td>\n",
       "      <td>BEV150</td>\n",
       "      <td>2021</td>\n",
       "      <td>727.411258</td>\n",
       "      <td>686.594348</td>\n",
       "      <td>40.816910</td>\n",
       "      <td>-0.000000</td>\n",
       "    </tr>\n",
       "    <tr>\n",
       "      <th>58</th>\n",
       "      <td>LD Car</td>\n",
       "      <td>BEV150</td>\n",
       "      <td>2025</td>\n",
       "      <td>2876.439506</td>\n",
       "      <td>2149.937278</td>\n",
       "      <td>727.411258</td>\n",
       "      <td>-0.909030</td>\n",
       "    </tr>\n",
       "    <tr>\n",
       "      <th>59</th>\n",
       "      <td>LD Car</td>\n",
       "      <td>BEV150</td>\n",
       "      <td>2030</td>\n",
       "      <td>4037.376101</td>\n",
       "      <td>1343.698439</td>\n",
       "      <td>2876.439506</td>\n",
       "      <td>-182.761845</td>\n",
       "    </tr>\n",
       "    <tr>\n",
       "      <th>60</th>\n",
       "      <td>LD Car</td>\n",
       "      <td>BEV150</td>\n",
       "      <td>2035</td>\n",
       "      <td>6140.081511</td>\n",
       "      <td>3002.077298</td>\n",
       "      <td>4037.376101</td>\n",
       "      <td>-899.371889</td>\n",
       "    </tr>\n",
       "    <tr>\n",
       "      <th>61</th>\n",
       "      <td>LD Car</td>\n",
       "      <td>BEV150</td>\n",
       "      <td>2040</td>\n",
       "      <td>6754.421764</td>\n",
       "      <td>2026.142532</td>\n",
       "      <td>6140.081511</td>\n",
       "      <td>-1411.802279</td>\n",
       "    </tr>\n",
       "    <tr>\n",
       "      <th>62</th>\n",
       "      <td>LD Car</td>\n",
       "      <td>BEV150</td>\n",
       "      <td>2045</td>\n",
       "      <td>7325.776047</td>\n",
       "      <td>2003.018025</td>\n",
       "      <td>6754.421764</td>\n",
       "      <td>-1431.663742</td>\n",
       "    </tr>\n",
       "    <tr>\n",
       "      <th>63</th>\n",
       "      <td>LD Car</td>\n",
       "      <td>BEV150</td>\n",
       "      <td>2050</td>\n",
       "      <td>7553.536834</td>\n",
       "      <td>2944.467976</td>\n",
       "      <td>7325.776047</td>\n",
       "      <td>-2716.707189</td>\n",
       "    </tr>\n",
       "  </tbody>\n",
       "</table>\n",
       "</div>"
      ],
      "text/plain": [
       "      mode    fuel  vintage  net capacity  new capacity  ex capacity  \\\n",
       "57  LD Car  BEV150     2021    727.411258    686.594348    40.816910   \n",
       "58  LD Car  BEV150     2025   2876.439506   2149.937278   727.411258   \n",
       "59  LD Car  BEV150     2030   4037.376101   1343.698439  2876.439506   \n",
       "60  LD Car  BEV150     2035   6140.081511   3002.077298  4037.376101   \n",
       "61  LD Car  BEV150     2040   6754.421764   2026.142532  6140.081511   \n",
       "62  LD Car  BEV150     2045   7325.776047   2003.018025  6754.421764   \n",
       "63  LD Car  BEV150     2050   7553.536834   2944.467976  7325.776047   \n",
       "\n",
       "    retired cap  \n",
       "57    -0.000000  \n",
       "58    -0.909030  \n",
       "59  -182.761845  \n",
       "60  -899.371889  \n",
       "61 -1411.802279  \n",
       "62 -1431.663742  \n",
       "63 -2716.707189  "
      ]
     },
     "execution_count": 12,
     "metadata": {},
     "output_type": "execute_result"
    }
   ],
   "source": [
    "merged_cap[(merged_cap['mode'] == 'LD Car') & (merged_cap['fuel'] == 'BEV150')]"
   ]
  },
  {
   "cell_type": "code",
   "execution_count": 13,
   "metadata": {},
   "outputs": [
    {
     "data": {
      "text/html": [
       "<div>\n",
       "<style scoped>\n",
       "    .dataframe tbody tr th:only-of-type {\n",
       "        vertical-align: middle;\n",
       "    }\n",
       "\n",
       "    .dataframe tbody tr th {\n",
       "        vertical-align: top;\n",
       "    }\n",
       "\n",
       "    .dataframe thead th {\n",
       "        text-align: right;\n",
       "    }\n",
       "</style>\n",
       "<table border=\"1\" class=\"dataframe\">\n",
       "  <thead>\n",
       "    <tr style=\"text-align: right;\">\n",
       "      <th></th>\n",
       "      <th>mode</th>\n",
       "      <th>fuel</th>\n",
       "      <th>vintage</th>\n",
       "      <th>net capacity</th>\n",
       "      <th>new capacity</th>\n",
       "      <th>ex capacity</th>\n",
       "      <th>retired cap</th>\n",
       "    </tr>\n",
       "  </thead>\n",
       "  <tbody>\n",
       "    <tr>\n",
       "      <th>106</th>\n",
       "      <td>LD Car</td>\n",
       "      <td>Gasoline</td>\n",
       "      <td>2021</td>\n",
       "      <td>3601.866902</td>\n",
       "      <td>0.002812</td>\n",
       "      <td>3601.864090</td>\n",
       "      <td>-0.000000</td>\n",
       "    </tr>\n",
       "    <tr>\n",
       "      <th>107</th>\n",
       "      <td>LD Car</td>\n",
       "      <td>Gasoline</td>\n",
       "      <td>2025</td>\n",
       "      <td>2822.689199</td>\n",
       "      <td>0.001944</td>\n",
       "      <td>3601.866902</td>\n",
       "      <td>-779.179647</td>\n",
       "    </tr>\n",
       "    <tr>\n",
       "      <th>108</th>\n",
       "      <td>LD Car</td>\n",
       "      <td>Gasoline</td>\n",
       "      <td>2030</td>\n",
       "      <td>1729.573568</td>\n",
       "      <td>0.001892</td>\n",
       "      <td>2822.689199</td>\n",
       "      <td>-1093.117523</td>\n",
       "    </tr>\n",
       "    <tr>\n",
       "      <th>109</th>\n",
       "      <td>LD Car</td>\n",
       "      <td>Gasoline</td>\n",
       "      <td>2035</td>\n",
       "      <td>753.839412</td>\n",
       "      <td>0.001549</td>\n",
       "      <td>1729.573568</td>\n",
       "      <td>-975.735705</td>\n",
       "    </tr>\n",
       "    <tr>\n",
       "      <th>110</th>\n",
       "      <td>LD Car</td>\n",
       "      <td>Gasoline</td>\n",
       "      <td>2040</td>\n",
       "      <td>414.556514</td>\n",
       "      <td>0.001557</td>\n",
       "      <td>753.839412</td>\n",
       "      <td>-339.284455</td>\n",
       "    </tr>\n",
       "    <tr>\n",
       "      <th>111</th>\n",
       "      <td>LD Car</td>\n",
       "      <td>Gasoline</td>\n",
       "      <td>2045</td>\n",
       "      <td>0.006146</td>\n",
       "      <td>0.001765</td>\n",
       "      <td>414.556514</td>\n",
       "      <td>-414.552133</td>\n",
       "    </tr>\n",
       "    <tr>\n",
       "      <th>112</th>\n",
       "      <td>LD Car</td>\n",
       "      <td>Gasoline</td>\n",
       "      <td>2050</td>\n",
       "      <td>0.005629</td>\n",
       "      <td>0.001836</td>\n",
       "      <td>0.006146</td>\n",
       "      <td>-0.002353</td>\n",
       "    </tr>\n",
       "  </tbody>\n",
       "</table>\n",
       "</div>"
      ],
      "text/plain": [
       "       mode      fuel  vintage  net capacity  new capacity  ex capacity  \\\n",
       "106  LD Car  Gasoline     2021   3601.866902      0.002812  3601.864090   \n",
       "107  LD Car  Gasoline     2025   2822.689199      0.001944  3601.866902   \n",
       "108  LD Car  Gasoline     2030   1729.573568      0.001892  2822.689199   \n",
       "109  LD Car  Gasoline     2035    753.839412      0.001549  1729.573568   \n",
       "110  LD Car  Gasoline     2040    414.556514      0.001557   753.839412   \n",
       "111  LD Car  Gasoline     2045      0.006146      0.001765   414.556514   \n",
       "112  LD Car  Gasoline     2050      0.005629      0.001836     0.006146   \n",
       "\n",
       "     retired cap  \n",
       "106    -0.000000  \n",
       "107  -779.179647  \n",
       "108 -1093.117523  \n",
       "109  -975.735705  \n",
       "110  -339.284455  \n",
       "111  -414.552133  \n",
       "112    -0.002353  "
      ]
     },
     "execution_count": 13,
     "metadata": {},
     "output_type": "execute_result"
    }
   ],
   "source": [
    "merged_cap[(merged_cap['mode'] == 'LD Car') & (merged_cap['fuel'] == 'Gasoline')]"
   ]
  },
  {
   "cell_type": "code",
   "execution_count": 14,
   "metadata": {},
   "outputs": [
    {
     "data": {
      "text/html": [
       "<div>\n",
       "<style scoped>\n",
       "    .dataframe tbody tr th:only-of-type {\n",
       "        vertical-align: middle;\n",
       "    }\n",
       "\n",
       "    .dataframe tbody tr th {\n",
       "        vertical-align: top;\n",
       "    }\n",
       "\n",
       "    .dataframe thead th {\n",
       "        text-align: right;\n",
       "    }\n",
       "</style>\n",
       "<table border=\"1\" class=\"dataframe\">\n",
       "  <thead>\n",
       "    <tr style=\"text-align: right;\">\n",
       "      <th></th>\n",
       "      <th></th>\n",
       "      <th>net capacity</th>\n",
       "      <th>new capacity</th>\n",
       "      <th>ex capacity</th>\n",
       "      <th>retired cap</th>\n",
       "    </tr>\n",
       "    <tr>\n",
       "      <th>mode</th>\n",
       "      <th>vintage</th>\n",
       "      <th></th>\n",
       "      <th></th>\n",
       "      <th></th>\n",
       "      <th></th>\n",
       "    </tr>\n",
       "  </thead>\n",
       "  <tbody>\n",
       "    <tr>\n",
       "      <th rowspan=\"7\" valign=\"top\">LD Car</th>\n",
       "      <th>2021</th>\n",
       "      <td>4502.158719</td>\n",
       "      <td>686.633039</td>\n",
       "      <td>3815.525680</td>\n",
       "      <td>0.000000</td>\n",
       "    </tr>\n",
       "    <tr>\n",
       "      <th>2025</th>\n",
       "      <td>5834.741455</td>\n",
       "      <td>2149.963468</td>\n",
       "      <td>4502.158719</td>\n",
       "      <td>-817.380732</td>\n",
       "    </tr>\n",
       "    <tr>\n",
       "      <th>2030</th>\n",
       "      <td>5847.325209</td>\n",
       "      <td>1343.732246</td>\n",
       "      <td>5834.741455</td>\n",
       "      <td>-1331.148492</td>\n",
       "    </tr>\n",
       "    <tr>\n",
       "      <th>2035</th>\n",
       "      <td>6930.909535</td>\n",
       "      <td>3002.107988</td>\n",
       "      <td>5847.325209</td>\n",
       "      <td>-1918.523662</td>\n",
       "    </tr>\n",
       "    <tr>\n",
       "      <th>2040</th>\n",
       "      <td>7187.619789</td>\n",
       "      <td>2026.176842</td>\n",
       "      <td>6930.909535</td>\n",
       "      <td>-1769.466588</td>\n",
       "    </tr>\n",
       "    <tr>\n",
       "      <th>2045</th>\n",
       "      <td>7325.894291</td>\n",
       "      <td>2003.054270</td>\n",
       "      <td>7187.619789</td>\n",
       "      <td>-1864.779767</td>\n",
       "    </tr>\n",
       "    <tr>\n",
       "      <th>2050</th>\n",
       "      <td>7553.656396</td>\n",
       "      <td>2944.509436</td>\n",
       "      <td>7325.894291</td>\n",
       "      <td>-2716.747331</td>\n",
       "    </tr>\n",
       "  </tbody>\n",
       "</table>\n",
       "</div>"
      ],
      "text/plain": [
       "                net capacity  new capacity  ex capacity  retired cap\n",
       "mode   vintage                                                      \n",
       "LD Car 2021      4502.158719    686.633039  3815.525680     0.000000\n",
       "       2025      5834.741455   2149.963468  4502.158719  -817.380732\n",
       "       2030      5847.325209   1343.732246  5834.741455 -1331.148492\n",
       "       2035      6930.909535   3002.107988  5847.325209 -1918.523662\n",
       "       2040      7187.619789   2026.176842  6930.909535 -1769.466588\n",
       "       2045      7325.894291   2003.054270  7187.619789 -1864.779767\n",
       "       2050      7553.656396   2944.509436  7325.894291 -2716.747331"
      ]
     },
     "execution_count": 14,
     "metadata": {},
     "output_type": "execute_result"
    }
   ],
   "source": [
    "merged_cap[merged_cap['mode'] == 'LD Car'].groupby(['mode', 'vintage']).sum(['net capacity', 'new capacity', 'ex capacity', 'retired cap'])"
   ]
  },
  {
   "cell_type": "code",
   "execution_count": 15,
   "metadata": {},
   "outputs": [],
   "source": [
    "cap = merged_cap.melt(id_vars=['mode', 'fuel', 'vintage'],\n",
    "                       value_vars=['net capacity', 'ex capacity', 'new capacity', 'retired cap'],\n",
    "                       var_name='cap type', value_name='capacity')\n",
    "\n",
    "cap['capacity'] = cap['capacity'] / 1E3\n",
    "cap = cap[(abs(cap['capacity']) > 1e-3) & (\n",
    "        (cap['mode'] == 'LD Car') | \n",
    "        (cap['mode'] == 'LD Truck') \n",
    "        # (cap['mode'] == 'MD Truck') |\n",
    "        # (cap['mode'] == 'HD Truck')\n",
    "        ) & (cap['cap type'] != 'ex capacity')].reset_index(drop=True)\n",
    "cap['vintage'] = cap['vintage'].astype('str')\n",
    "\n",
    "# cap.to_csv('car_cap.csv', index=False)\n",
    "# cap.to_clipboard()"
   ]
  },
  {
   "cell_type": "code",
   "execution_count": 16,
   "metadata": {},
   "outputs": [
    {
     "data": {
      "application/vnd.plotly.v1+json": {
       "config": {
        "plotlyServerURL": "https://plot.ly"
       },
       "data": [
        {
         "hovertemplate": "fuel=Gasoline<br>cap type=%{x}<br>mode=LD Car<br>vintage=2021<br>capacity=%{y}<extra></extra>",
         "legendgroup": "Gasoline, net capacity",
         "marker": {
          "color": "rgb(127, 60, 141)",
          "pattern": {
           "shape": ""
          }
         },
         "name": "Gasoline",
         "orientation": "v",
         "showlegend": true,
         "textfont": {
          "size": 11
         },
         "textposition": "auto",
         "texttemplate": "%{y:.2f}",
         "type": "bar",
         "x": [
          "net capacity"
         ],
         "xaxis": "x8",
         "y": {
          "bdata": "T3QtmJ/QDEA=",
          "dtype": "f8"
         },
         "yaxis": "y8"
        },
        {
         "hovertemplate": "fuel=Gasoline<br>cap type=%{x}<br>mode=LD Car<br>vintage=2025<br>capacity=%{y}<extra></extra>",
         "legendgroup": "Gasoline, net capacity",
         "marker": {
          "color": "rgb(127, 60, 141)",
          "pattern": {
           "shape": ""
          }
         },
         "name": "Gasoline",
         "orientation": "v",
         "showlegend": false,
         "textfont": {
          "size": 11
         },
         "textposition": "auto",
         "texttemplate": "%{y:.2f}",
         "type": "bar",
         "x": [
          "net capacity"
         ],
         "xaxis": "x9",
         "y": {
          "bdata": "NbkTE96UBkA=",
          "dtype": "f8"
         },
         "yaxis": "y9"
        },
        {
         "hovertemplate": "fuel=Gasoline<br>cap type=%{x}<br>mode=LD Car<br>vintage=2030<br>capacity=%{y}<extra></extra>",
         "legendgroup": "Gasoline, net capacity",
         "marker": {
          "color": "rgb(127, 60, 141)",
          "pattern": {
           "shape": ""
          }
         },
         "name": "Gasoline",
         "orientation": "v",
         "showlegend": false,
         "textfont": {
          "size": 11
         },
         "textposition": "auto",
         "texttemplate": "%{y:.2f}",
         "type": "bar",
         "x": [
          "net capacity"
         ],
         "xaxis": "x10",
         "y": {
          "bdata": "DqJIVVWs+z8=",
          "dtype": "f8"
         },
         "yaxis": "y10"
        },
        {
         "hovertemplate": "fuel=Gasoline<br>cap type=%{x}<br>mode=LD Car<br>vintage=2035<br>capacity=%{y}<extra></extra>",
         "legendgroup": "Gasoline, net capacity",
         "marker": {
          "color": "rgb(127, 60, 141)",
          "pattern": {
           "shape": ""
          }
         },
         "name": "Gasoline",
         "orientation": "v",
         "showlegend": false,
         "textfont": {
          "size": 11
         },
         "textposition": "auto",
         "texttemplate": "%{y:.2f}",
         "type": "bar",
         "x": [
          "net capacity"
         ],
         "xaxis": "x11",
         "y": {
          "bdata": "ti5y1HMf6D8=",
          "dtype": "f8"
         },
         "yaxis": "y11"
        },
        {
         "hovertemplate": "fuel=Gasoline<br>cap type=%{x}<br>mode=LD Car<br>vintage=2040<br>capacity=%{y}<extra></extra>",
         "legendgroup": "Gasoline, net capacity",
         "marker": {
          "color": "rgb(127, 60, 141)",
          "pattern": {
           "shape": ""
          }
         },
         "name": "Gasoline",
         "orientation": "v",
         "showlegend": false,
         "textfont": {
          "size": 11
         },
         "textposition": "auto",
         "texttemplate": "%{y:.2f}",
         "type": "bar",
         "x": [
          "net capacity"
         ],
         "xaxis": "x12",
         "y": {
          "bdata": "P7NxCxiI2j8=",
          "dtype": "f8"
         },
         "yaxis": "y12"
        },
        {
         "hovertemplate": "fuel=Gasoline<br>cap type=%{x}<br>mode=LD Truck<br>vintage=2021<br>capacity=%{y}<extra></extra>",
         "legendgroup": "Gasoline, net capacity",
         "marker": {
          "color": "rgb(127, 60, 141)",
          "pattern": {
           "shape": ""
          }
         },
         "name": "Gasoline",
         "orientation": "v",
         "showlegend": false,
         "textfont": {
          "size": 11
         },
         "textposition": "auto",
         "texttemplate": "%{y:.2f}",
         "type": "bar",
         "x": [
          "net capacity"
         ],
         "xaxis": "x",
         "y": {
          "bdata": "DFGvJrV1EkA=",
          "dtype": "f8"
         },
         "yaxis": "y"
        },
        {
         "hovertemplate": "fuel=Gasoline<br>cap type=%{x}<br>mode=LD Truck<br>vintage=2025<br>capacity=%{y}<extra></extra>",
         "legendgroup": "Gasoline, net capacity",
         "marker": {
          "color": "rgb(127, 60, 141)",
          "pattern": {
           "shape": ""
          }
         },
         "name": "Gasoline",
         "orientation": "v",
         "showlegend": false,
         "textfont": {
          "size": 11
         },
         "textposition": "auto",
         "texttemplate": "%{y:.2f}",
         "type": "bar",
         "x": [
          "net capacity"
         ],
         "xaxis": "x2",
         "y": {
          "bdata": "WBJflLHmEEA=",
          "dtype": "f8"
         },
         "yaxis": "y2"
        },
        {
         "hovertemplate": "fuel=Gasoline<br>cap type=%{x}<br>mode=LD Truck<br>vintage=2030<br>capacity=%{y}<extra></extra>",
         "legendgroup": "Gasoline, net capacity",
         "marker": {
          "color": "rgb(127, 60, 141)",
          "pattern": {
           "shape": ""
          }
         },
         "name": "Gasoline",
         "orientation": "v",
         "showlegend": false,
         "textfont": {
          "size": 11
         },
         "textposition": "auto",
         "texttemplate": "%{y:.2f}",
         "type": "bar",
         "x": [
          "net capacity"
         ],
         "xaxis": "x3",
         "y": {
          "bdata": "aUeMslehB0A=",
          "dtype": "f8"
         },
         "yaxis": "y3"
        },
        {
         "hovertemplate": "fuel=Gasoline<br>cap type=%{x}<br>mode=LD Truck<br>vintage=2035<br>capacity=%{y}<extra></extra>",
         "legendgroup": "Gasoline, net capacity",
         "marker": {
          "color": "rgb(127, 60, 141)",
          "pattern": {
           "shape": ""
          }
         },
         "name": "Gasoline",
         "orientation": "v",
         "showlegend": false,
         "textfont": {
          "size": 11
         },
         "textposition": "auto",
         "texttemplate": "%{y:.2f}",
         "type": "bar",
         "x": [
          "net capacity"
         ],
         "xaxis": "x4",
         "y": {
          "bdata": "fsXxIkRlAUA=",
          "dtype": "f8"
         },
         "yaxis": "y4"
        },
        {
         "hovertemplate": "fuel=Gasoline<br>cap type=%{x}<br>mode=LD Truck<br>vintage=2040<br>capacity=%{y}<extra></extra>",
         "legendgroup": "Gasoline, net capacity",
         "marker": {
          "color": "rgb(127, 60, 141)",
          "pattern": {
           "shape": ""
          }
         },
         "name": "Gasoline",
         "orientation": "v",
         "showlegend": false,
         "textfont": {
          "size": 11
         },
         "textposition": "auto",
         "texttemplate": "%{y:.2f}",
         "type": "bar",
         "x": [
          "net capacity"
         ],
         "xaxis": "x5",
         "y": {
          "bdata": "W5Jrtw7N7D8=",
          "dtype": "f8"
         },
         "yaxis": "y5"
        },
        {
         "hovertemplate": "fuel=Gasoline<br>cap type=%{x}<br>mode=LD Truck<br>vintage=2045<br>capacity=%{y}<extra></extra>",
         "legendgroup": "Gasoline, net capacity",
         "marker": {
          "color": "rgb(127, 60, 141)",
          "pattern": {
           "shape": ""
          }
         },
         "name": "Gasoline",
         "orientation": "v",
         "showlegend": false,
         "textfont": {
          "size": 11
         },
         "textposition": "auto",
         "texttemplate": "%{y:.2f}",
         "type": "bar",
         "x": [
          "net capacity"
         ],
         "xaxis": "x6",
         "y": {
          "bdata": "WXLshuVU4D8=",
          "dtype": "f8"
         },
         "yaxis": "y6"
        },
        {
         "hovertemplate": "fuel=Diesel<br>cap type=%{x}<br>mode=LD Car<br>vintage=2021<br>capacity=%{y}<extra></extra>",
         "legendgroup": "Diesel, net capacity",
         "marker": {
          "color": "rgb(17, 165, 121)",
          "pattern": {
           "shape": ""
          }
         },
         "name": "Diesel",
         "orientation": "v",
         "showlegend": true,
         "textfont": {
          "size": 11
         },
         "textposition": "auto",
         "texttemplate": "%{y:.2f}",
         "type": "bar",
         "x": [
          "net capacity"
         ],
         "xaxis": "x8",
         "y": {
          "bdata": "O5GNeZm3sT8=",
          "dtype": "f8"
         },
         "yaxis": "y8"
        },
        {
         "hovertemplate": "fuel=Diesel<br>cap type=%{x}<br>mode=LD Car<br>vintage=2025<br>capacity=%{y}<extra></extra>",
         "legendgroup": "Diesel, net capacity",
         "marker": {
          "color": "rgb(17, 165, 121)",
          "pattern": {
           "shape": ""
          }
         },
         "name": "Diesel",
         "orientation": "v",
         "showlegend": false,
         "textfont": {
          "size": 11
         },
         "textposition": "auto",
         "texttemplate": "%{y:.2f}",
         "type": "bar",
         "x": [
          "net capacity"
         ],
         "xaxis": "x9",
         "y": {
          "bdata": "dWgA22+apD8=",
          "dtype": "f8"
         },
         "yaxis": "y9"
        },
        {
         "hovertemplate": "fuel=Diesel<br>cap type=%{x}<br>mode=LD Car<br>vintage=2030<br>capacity=%{y}<extra></extra>",
         "legendgroup": "Diesel, net capacity",
         "marker": {
          "color": "rgb(17, 165, 121)",
          "pattern": {
           "shape": ""
          }
         },
         "name": "Diesel",
         "orientation": "v",
         "showlegend": false,
         "textfont": {
          "size": 11
         },
         "textposition": "auto",
         "texttemplate": "%{y:.2f}",
         "type": "bar",
         "x": [
          "net capacity"
         ],
         "xaxis": "x10",
         "y": {
          "bdata": "t/2YNhStkz8=",
          "dtype": "f8"
         },
         "yaxis": "y10"
        },
        {
         "hovertemplate": "fuel=Diesel<br>cap type=%{x}<br>mode=LD Car<br>vintage=2035<br>capacity=%{y}<extra></extra>",
         "legendgroup": "Diesel, net capacity",
         "marker": {
          "color": "rgb(17, 165, 121)",
          "pattern": {
           "shape": ""
          }
         },
         "name": "Diesel",
         "orientation": "v",
         "showlegend": false,
         "textfont": {
          "size": 11
         },
         "textposition": "auto",
         "texttemplate": "%{y:.2f}",
         "type": "bar",
         "x": [
          "net capacity"
         ],
         "xaxis": "x11",
         "y": {
          "bdata": "LkqRfD6Fhj8=",
          "dtype": "f8"
         },
         "yaxis": "y11"
        },
        {
         "hovertemplate": "fuel=Diesel<br>cap type=%{x}<br>mode=LD Truck<br>vintage=2021<br>capacity=%{y}<extra></extra>",
         "legendgroup": "Diesel, net capacity",
         "marker": {
          "color": "rgb(17, 165, 121)",
          "pattern": {
           "shape": ""
          }
         },
         "name": "Diesel",
         "orientation": "v",
         "showlegend": false,
         "textfont": {
          "size": 11
         },
         "textposition": "auto",
         "texttemplate": "%{y:.2f}",
         "type": "bar",
         "x": [
          "net capacity"
         ],
         "xaxis": "x",
         "y": {
          "bdata": "ZJoExl37yz8=",
          "dtype": "f8"
         },
         "yaxis": "y"
        },
        {
         "hovertemplate": "fuel=Diesel<br>cap type=%{x}<br>mode=LD Truck<br>vintage=2025<br>capacity=%{y}<extra></extra>",
         "legendgroup": "Diesel, net capacity",
         "marker": {
          "color": "rgb(17, 165, 121)",
          "pattern": {
           "shape": ""
          }
         },
         "name": "Diesel",
         "orientation": "v",
         "showlegend": false,
         "textfont": {
          "size": 11
         },
         "textposition": "auto",
         "texttemplate": "%{y:.2f}",
         "type": "bar",
         "x": [
          "net capacity"
         ],
         "xaxis": "x2",
         "y": {
          "bdata": "H1WMsL+TyT8=",
          "dtype": "f8"
         },
         "yaxis": "y2"
        },
        {
         "hovertemplate": "fuel=Diesel<br>cap type=%{x}<br>mode=LD Truck<br>vintage=2030<br>capacity=%{y}<extra></extra>",
         "legendgroup": "Diesel, net capacity",
         "marker": {
          "color": "rgb(17, 165, 121)",
          "pattern": {
           "shape": ""
          }
         },
         "name": "Diesel",
         "orientation": "v",
         "showlegend": false,
         "textfont": {
          "size": 11
         },
         "textposition": "auto",
         "texttemplate": "%{y:.2f}",
         "type": "bar",
         "x": [
          "net capacity"
         ],
         "xaxis": "x3",
         "y": {
          "bdata": "FHT8IgV4wj8=",
          "dtype": "f8"
         },
         "yaxis": "y3"
        },
        {
         "hovertemplate": "fuel=Diesel<br>cap type=%{x}<br>mode=LD Truck<br>vintage=2035<br>capacity=%{y}<extra></extra>",
         "legendgroup": "Diesel, net capacity",
         "marker": {
          "color": "rgb(17, 165, 121)",
          "pattern": {
           "shape": ""
          }
         },
         "name": "Diesel",
         "orientation": "v",
         "showlegend": false,
         "textfont": {
          "size": 11
         },
         "textposition": "auto",
         "texttemplate": "%{y:.2f}",
         "type": "bar",
         "x": [
          "net capacity"
         ],
         "xaxis": "x4",
         "y": {
          "bdata": "m8+xX+tQuz8=",
          "dtype": "f8"
         },
         "yaxis": "y4"
        },
        {
         "hovertemplate": "fuel=Diesel<br>cap type=%{x}<br>mode=LD Truck<br>vintage=2040<br>capacity=%{y}<extra></extra>",
         "legendgroup": "Diesel, net capacity",
         "marker": {
          "color": "rgb(17, 165, 121)",
          "pattern": {
           "shape": ""
          }
         },
         "name": "Diesel",
         "orientation": "v",
         "showlegend": false,
         "textfont": {
          "size": 11
         },
         "textposition": "auto",
         "texttemplate": "%{y:.2f}",
         "type": "bar",
         "x": [
          "net capacity"
         ],
         "xaxis": "x5",
         "y": {
          "bdata": "fbp287zzpj8=",
          "dtype": "f8"
         },
         "yaxis": "y5"
        },
        {
         "hovertemplate": "fuel=Diesel<br>cap type=%{x}<br>mode=LD Truck<br>vintage=2045<br>capacity=%{y}<extra></extra>",
         "legendgroup": "Diesel, net capacity",
         "marker": {
          "color": "rgb(17, 165, 121)",
          "pattern": {
           "shape": ""
          }
         },
         "name": "Diesel",
         "orientation": "v",
         "showlegend": false,
         "textfont": {
          "size": 11
         },
         "textposition": "auto",
         "texttemplate": "%{y:.2f}",
         "type": "bar",
         "x": [
          "net capacity"
         ],
         "xaxis": "x6",
         "y": {
          "bdata": "8lU2OuWomj8=",
          "dtype": "f8"
         },
         "yaxis": "y6"
        },
        {
         "hovertemplate": "fuel=BEV150<br>cap type=%{x}<br>mode=LD Car<br>vintage=2021<br>capacity=%{y}<extra></extra>",
         "legendgroup": "BEV150, net capacity",
         "marker": {
          "color": "rgb(242, 183, 1)",
          "pattern": {
           "shape": ""
          }
         },
         "name": "BEV150",
         "orientation": "v",
         "showlegend": true,
         "textfont": {
          "size": 11
         },
         "textposition": "auto",
         "texttemplate": "%{y:.2f}",
         "type": "bar",
         "x": [
          "net capacity"
         ],
         "xaxis": "x8",
         "y": {
          "bdata": "rQ2K+fNG5z8=",
          "dtype": "f8"
         },
         "yaxis": "y8"
        },
        {
         "hovertemplate": "fuel=BEV150<br>cap type=%{x}<br>mode=LD Car<br>vintage=2025<br>capacity=%{y}<extra></extra>",
         "legendgroup": "BEV150, net capacity",
         "marker": {
          "color": "rgb(242, 183, 1)",
          "pattern": {
           "shape": ""
          }
         },
         "name": "BEV150",
         "orientation": "v",
         "showlegend": false,
         "textfont": {
          "size": 11
         },
         "textposition": "auto",
         "texttemplate": "%{y:.2f}",
         "type": "bar",
         "x": [
          "net capacity"
         ],
         "xaxis": "x9",
         "y": {
          "bdata": "b0xKt/ICB0A=",
          "dtype": "f8"
         },
         "yaxis": "y9"
        },
        {
         "hovertemplate": "fuel=BEV150<br>cap type=%{x}<br>mode=LD Car<br>vintage=2030<br>capacity=%{y}<extra></extra>",
         "legendgroup": "BEV150, net capacity",
         "marker": {
          "color": "rgb(242, 183, 1)",
          "pattern": {
           "shape": ""
          }
         },
         "name": "BEV150",
         "orientation": "v",
         "showlegend": false,
         "textfont": {
          "size": 11
         },
         "textposition": "auto",
         "texttemplate": "%{y:.2f}",
         "type": "bar",
         "x": [
          "net capacity"
         ],
         "xaxis": "x10",
         "y": {
          "bdata": "nki160UmEEA=",
          "dtype": "f8"
         },
         "yaxis": "y10"
        },
        {
         "hovertemplate": "fuel=BEV150<br>cap type=%{x}<br>mode=LD Car<br>vintage=2035<br>capacity=%{y}<extra></extra>",
         "legendgroup": "BEV150, net capacity",
         "marker": {
          "color": "rgb(242, 183, 1)",
          "pattern": {
           "shape": ""
          }
         },
         "name": "BEV150",
         "orientation": "v",
         "showlegend": false,
         "textfont": {
          "size": 11
         },
         "textposition": "auto",
         "texttemplate": "%{y:.2f}",
         "type": "bar",
         "x": [
          "net capacity"
         ],
         "xaxis": "x11",
         "y": {
          "bdata": "IhUMh3GPGEA=",
          "dtype": "f8"
         },
         "yaxis": "y11"
        },
        {
         "hovertemplate": "fuel=BEV150<br>cap type=%{x}<br>mode=LD Car<br>vintage=2040<br>capacity=%{y}<extra></extra>",
         "legendgroup": "BEV150, net capacity",
         "marker": {
          "color": "rgb(242, 183, 1)",
          "pattern": {
           "shape": ""
          }
         },
         "name": "BEV150",
         "orientation": "v",
         "showlegend": false,
         "textfont": {
          "size": 11
         },
         "textposition": "auto",
         "texttemplate": "%{y:.2f}",
         "type": "bar",
         "x": [
          "net capacity"
         ],
         "xaxis": "x12",
         "y": {
          "bdata": "HXqMI4cEG0A=",
          "dtype": "f8"
         },
         "yaxis": "y12"
        },
        {
         "hovertemplate": "fuel=BEV150<br>cap type=%{x}<br>mode=LD Car<br>vintage=2045<br>capacity=%{y}<extra></extra>",
         "legendgroup": "BEV150, net capacity",
         "marker": {
          "color": "rgb(242, 183, 1)",
          "pattern": {
           "shape": ""
          }
         },
         "name": "BEV150",
         "orientation": "v",
         "showlegend": false,
         "textfont": {
          "size": 11
         },
         "textposition": "auto",
         "texttemplate": "%{y:.2f}",
         "type": "bar",
         "x": [
          "net capacity"
         ],
         "xaxis": "x13",
         "y": {
          "bdata": "90dqPJhNHUA=",
          "dtype": "f8"
         },
         "yaxis": "y13"
        },
        {
         "hovertemplate": "fuel=BEV150<br>cap type=%{x}<br>mode=LD Car<br>vintage=2050<br>capacity=%{y}<extra></extra>",
         "legendgroup": "BEV150, net capacity",
         "marker": {
          "color": "rgb(242, 183, 1)",
          "pattern": {
           "shape": ""
          }
         },
         "name": "BEV150",
         "orientation": "v",
         "showlegend": false,
         "textfont": {
          "size": 11
         },
         "textposition": "auto",
         "texttemplate": "%{y:.2f}",
         "type": "bar",
         "x": [
          "net capacity"
         ],
         "xaxis": "x14",
         "y": {
          "bdata": "XOMYXNI2HkA=",
          "dtype": "f8"
         },
         "yaxis": "y14"
        },
        {
         "hovertemplate": "fuel=BEV150<br>cap type=%{x}<br>mode=LD Truck<br>vintage=2021<br>capacity=%{y}<extra></extra>",
         "legendgroup": "BEV150, net capacity",
         "marker": {
          "color": "rgb(242, 183, 1)",
          "pattern": {
           "shape": ""
          }
         },
         "name": "BEV150",
         "orientation": "v",
         "showlegend": false,
         "textfont": {
          "size": 11
         },
         "textposition": "auto",
         "texttemplate": "%{y:.2f}",
         "type": "bar",
         "x": [
          "net capacity"
         ],
         "xaxis": "x",
         "y": {
          "bdata": "O2u1mZo94z8=",
          "dtype": "f8"
         },
         "yaxis": "y"
        },
        {
         "hovertemplate": "fuel=BEV150<br>cap type=%{x}<br>mode=LD Truck<br>vintage=2025<br>capacity=%{y}<extra></extra>",
         "legendgroup": "BEV150, net capacity",
         "marker": {
          "color": "rgb(242, 183, 1)",
          "pattern": {
           "shape": ""
          }
         },
         "name": "BEV150",
         "orientation": "v",
         "showlegend": false,
         "textfont": {
          "size": 11
         },
         "textposition": "auto",
         "texttemplate": "%{y:.2f}",
         "type": "bar",
         "x": [
          "net capacity"
         ],
         "xaxis": "x2",
         "y": {
          "bdata": "UwS8P+FYBEA=",
          "dtype": "f8"
         },
         "yaxis": "y2"
        },
        {
         "hovertemplate": "fuel=BEV150<br>cap type=%{x}<br>mode=LD Truck<br>vintage=2030<br>capacity=%{y}<extra></extra>",
         "legendgroup": "BEV150, net capacity",
         "marker": {
          "color": "rgb(242, 183, 1)",
          "pattern": {
           "shape": ""
          }
         },
         "name": "BEV150",
         "orientation": "v",
         "showlegend": false,
         "textfont": {
          "size": 11
         },
         "textposition": "auto",
         "texttemplate": "%{y:.2f}",
         "type": "bar",
         "x": [
          "net capacity"
         ],
         "xaxis": "x3",
         "y": {
          "bdata": "hP/c3C5rD0A=",
          "dtype": "f8"
         },
         "yaxis": "y3"
        },
        {
         "hovertemplate": "fuel=BEV150<br>cap type=%{x}<br>mode=LD Truck<br>vintage=2035<br>capacity=%{y}<extra></extra>",
         "legendgroup": "BEV150, net capacity",
         "marker": {
          "color": "rgb(242, 183, 1)",
          "pattern": {
           "shape": ""
          }
         },
         "name": "BEV150",
         "orientation": "v",
         "showlegend": false,
         "textfont": {
          "size": 11
         },
         "textposition": "auto",
         "texttemplate": "%{y:.2f}",
         "type": "bar",
         "x": [
          "net capacity"
         ],
         "xaxis": "x4",
         "y": {
          "bdata": "pDnckiHyFkA=",
          "dtype": "f8"
         },
         "yaxis": "y4"
        },
        {
         "hovertemplate": "fuel=BEV150<br>cap type=%{x}<br>mode=LD Truck<br>vintage=2040<br>capacity=%{y}<extra></extra>",
         "legendgroup": "BEV150, net capacity",
         "marker": {
          "color": "rgb(242, 183, 1)",
          "pattern": {
           "shape": ""
          }
         },
         "name": "BEV150",
         "orientation": "v",
         "showlegend": false,
         "textfont": {
          "size": 11
         },
         "textposition": "auto",
         "texttemplate": "%{y:.2f}",
         "type": "bar",
         "x": [
          "net capacity"
         ],
         "xaxis": "x5",
         "y": {
          "bdata": "fJ6mqdNJIEA=",
          "dtype": "f8"
         },
         "yaxis": "y5"
        },
        {
         "hovertemplate": "fuel=BEV150<br>cap type=%{x}<br>mode=LD Truck<br>vintage=2045<br>capacity=%{y}<extra></extra>",
         "legendgroup": "BEV150, net capacity",
         "marker": {
          "color": "rgb(242, 183, 1)",
          "pattern": {
           "shape": ""
          }
         },
         "name": "BEV150",
         "orientation": "v",
         "showlegend": false,
         "textfont": {
          "size": 11
         },
         "textposition": "auto",
         "texttemplate": "%{y:.2f}",
         "type": "bar",
         "x": [
          "net capacity"
         ],
         "xaxis": "x6",
         "y": {
          "bdata": "TgmkUUTMIEA=",
          "dtype": "f8"
         },
         "yaxis": "y6"
        },
        {
         "hovertemplate": "fuel=BEV150<br>cap type=%{x}<br>mode=LD Truck<br>vintage=2050<br>capacity=%{y}<extra></extra>",
         "legendgroup": "BEV150, net capacity",
         "marker": {
          "color": "rgb(242, 183, 1)",
          "pattern": {
           "shape": ""
          }
         },
         "name": "BEV150",
         "orientation": "v",
         "showlegend": false,
         "textfont": {
          "size": 11
         },
         "textposition": "auto",
         "texttemplate": "%{y:.2f}",
         "type": "bar",
         "x": [
          "net capacity"
         ],
         "xaxis": "x7",
         "y": {
          "bdata": "GH5FhisgI0A=",
          "dtype": "f8"
         },
         "yaxis": "y7"
        },
        {
         "hovertemplate": "fuel=BEV300<br>cap type=%{x}<br>mode=LD Truck<br>vintage=2021<br>capacity=%{y}<extra></extra>",
         "legendgroup": "BEV300, net capacity",
         "marker": {
          "color": "rgb(128, 186, 90)",
          "pattern": {
           "shape": ""
          }
         },
         "name": "BEV300",
         "orientation": "v",
         "showlegend": true,
         "textfont": {
          "size": 11
         },
         "textposition": "auto",
         "texttemplate": "%{y:.2f}",
         "type": "bar",
         "x": [
          "net capacity"
         ],
         "xaxis": "x",
         "y": {
          "bdata": "sm3dBcQ8cj8=",
          "dtype": "f8"
         },
         "yaxis": "y"
        },
        {
         "hovertemplate": "fuel=BEV300<br>cap type=%{x}<br>mode=LD Truck<br>vintage=2025<br>capacity=%{y}<extra></extra>",
         "legendgroup": "BEV300, net capacity",
         "marker": {
          "color": "rgb(128, 186, 90)",
          "pattern": {
           "shape": ""
          }
         },
         "name": "BEV300",
         "orientation": "v",
         "showlegend": false,
         "textfont": {
          "size": 11
         },
         "textposition": "auto",
         "texttemplate": "%{y:.2f}",
         "type": "bar",
         "x": [
          "net capacity"
         ],
         "xaxis": "x2",
         "y": {
          "bdata": "+gbZO7cucj8=",
          "dtype": "f8"
         },
         "yaxis": "y2"
        },
        {
         "hovertemplate": "fuel=BEV300<br>cap type=%{x}<br>mode=LD Truck<br>vintage=2030<br>capacity=%{y}<extra></extra>",
         "legendgroup": "BEV300, net capacity",
         "marker": {
          "color": "rgb(128, 186, 90)",
          "pattern": {
           "shape": ""
          }
         },
         "name": "BEV300",
         "orientation": "v",
         "showlegend": false,
         "textfont": {
          "size": 11
         },
         "textposition": "auto",
         "texttemplate": "%{y:.2f}",
         "type": "bar",
         "x": [
          "net capacity"
         ],
         "xaxis": "x3",
         "y": {
          "bdata": "+5qtE2Bwaz8=",
          "dtype": "f8"
         },
         "yaxis": "y3"
        },
        {
         "hovertemplate": "fuel=BEV300<br>cap type=%{x}<br>mode=LD Truck<br>vintage=2035<br>capacity=%{y}<extra></extra>",
         "legendgroup": "BEV300, net capacity",
         "marker": {
          "color": "rgb(128, 186, 90)",
          "pattern": {
           "shape": ""
          }
         },
         "name": "BEV300",
         "orientation": "v",
         "showlegend": false,
         "textfont": {
          "size": 11
         },
         "textposition": "auto",
         "texttemplate": "%{y:.2f}",
         "type": "bar",
         "x": [
          "net capacity"
         ],
         "xaxis": "x4",
         "y": {
          "bdata": "Gv+Iq4wwaz8=",
          "dtype": "f8"
         },
         "yaxis": "y4"
        },
        {
         "hovertemplate": "fuel=BEV300<br>cap type=%{x}<br>mode=LD Truck<br>vintage=2040<br>capacity=%{y}<extra></extra>",
         "legendgroup": "BEV300, net capacity",
         "marker": {
          "color": "rgb(128, 186, 90)",
          "pattern": {
           "shape": ""
          }
         },
         "name": "BEV300",
         "orientation": "v",
         "showlegend": false,
         "textfont": {
          "size": 11
         },
         "textposition": "auto",
         "texttemplate": "%{y:.2f}",
         "type": "bar",
         "x": [
          "net capacity"
         ],
         "xaxis": "x5",
         "y": {
          "bdata": "NejmIOWSUj8=",
          "dtype": "f8"
         },
         "yaxis": "y5"
        },
        {
         "hovertemplate": "fuel=BEV300<br>cap type=%{x}<br>mode=LD Truck<br>vintage=2045<br>capacity=%{y}<extra></extra>",
         "legendgroup": "BEV300, net capacity",
         "marker": {
          "color": "rgb(128, 186, 90)",
          "pattern": {
           "shape": ""
          }
         },
         "name": "BEV300",
         "orientation": "v",
         "showlegend": false,
         "textfont": {
          "size": 11
         },
         "textposition": "auto",
         "texttemplate": "%{y:.2f}",
         "type": "bar",
         "x": [
          "net capacity"
         ],
         "xaxis": "x6",
         "y": {
          "bdata": "LXkgYZBRUj8=",
          "dtype": "f8"
         },
         "yaxis": "y6"
        },
        {
         "hovertemplate": "fuel=HEV<br>cap type=%{x}<br>mode=LD Car<br>vintage=2021<br>capacity=%{y}<extra></extra>",
         "legendgroup": "HEV, net capacity",
         "marker": {
          "color": "rgb(0, 134, 149)",
          "pattern": {
           "shape": ""
          }
         },
         "name": "HEV",
         "orientation": "v",
         "showlegend": true,
         "textfont": {
          "size": 11
         },
         "textposition": "auto",
         "texttemplate": "%{y:.2f}",
         "type": "bar",
         "x": [
          "net capacity"
         ],
         "xaxis": "x8",
         "y": {
          "bdata": "9C5/z8kGtD8=",
          "dtype": "f8"
         },
         "yaxis": "y8"
        },
        {
         "hovertemplate": "fuel=HEV<br>cap type=%{x}<br>mode=LD Car<br>vintage=2025<br>capacity=%{y}<extra></extra>",
         "legendgroup": "HEV, net capacity",
         "marker": {
          "color": "rgb(0, 134, 149)",
          "pattern": {
           "shape": ""
          }
         },
         "name": "HEV",
         "orientation": "v",
         "showlegend": false,
         "textfont": {
          "size": 11
         },
         "textposition": "auto",
         "texttemplate": "%{y:.2f}",
         "type": "bar",
         "x": [
          "net capacity"
         ],
         "xaxis": "x9",
         "y": {
          "bdata": "4hjS+I8Rsj8=",
          "dtype": "f8"
         },
         "yaxis": "y9"
        },
        {
         "hovertemplate": "fuel=HEV<br>cap type=%{x}<br>mode=LD Car<br>vintage=2030<br>capacity=%{y}<extra></extra>",
         "legendgroup": "HEV, net capacity",
         "marker": {
          "color": "rgb(0, 134, 149)",
          "pattern": {
           "shape": ""
          }
         },
         "name": "HEV",
         "orientation": "v",
         "showlegend": false,
         "textfont": {
          "size": 11
         },
         "textposition": "auto",
         "texttemplate": "%{y:.2f}",
         "type": "bar",
         "x": [
          "net capacity"
         ],
         "xaxis": "x10",
         "y": {
          "bdata": "ifnMkzg1pj8=",
          "dtype": "f8"
         },
         "yaxis": "y10"
        },
        {
         "hovertemplate": "fuel=HEV<br>cap type=%{x}<br>mode=LD Car<br>vintage=2035<br>capacity=%{y}<extra></extra>",
         "legendgroup": "HEV, net capacity",
         "marker": {
          "color": "rgb(0, 134, 149)",
          "pattern": {
           "shape": ""
          }
         },
         "name": "HEV",
         "orientation": "v",
         "showlegend": false,
         "textfont": {
          "size": 11
         },
         "textposition": "auto",
         "texttemplate": "%{y:.2f}",
         "type": "bar",
         "x": [
          "net capacity"
         ],
         "xaxis": "x11",
         "y": {
          "bdata": "fiVy+8QJlD8=",
          "dtype": "f8"
         },
         "yaxis": "y11"
        },
        {
         "hovertemplate": "fuel=HEV<br>cap type=%{x}<br>mode=LD Car<br>vintage=2040<br>capacity=%{y}<extra></extra>",
         "legendgroup": "HEV, net capacity",
         "marker": {
          "color": "rgb(0, 134, 149)",
          "pattern": {
           "shape": ""
          }
         },
         "name": "HEV",
         "orientation": "v",
         "showlegend": false,
         "textfont": {
          "size": 11
         },
         "textposition": "auto",
         "texttemplate": "%{y:.2f}",
         "type": "bar",
         "x": [
          "net capacity"
         ],
         "xaxis": "x12",
         "y": {
          "bdata": "cD9QY+tmiD8=",
          "dtype": "f8"
         },
         "yaxis": "y12"
        },
        {
         "hovertemplate": "fuel=HEV<br>cap type=%{x}<br>mode=LD Truck<br>vintage=2021<br>capacity=%{y}<extra></extra>",
         "legendgroup": "HEV, net capacity",
         "marker": {
          "color": "rgb(0, 134, 149)",
          "pattern": {
           "shape": ""
          }
         },
         "name": "HEV",
         "orientation": "v",
         "showlegend": false,
         "textfont": {
          "size": 11
         },
         "textposition": "auto",
         "texttemplate": "%{y:.2f}",
         "type": "bar",
         "x": [
          "net capacity"
         ],
         "xaxis": "x",
         "y": {
          "bdata": "YNgghk8Ilj8=",
          "dtype": "f8"
         },
         "yaxis": "y"
        },
        {
         "hovertemplate": "fuel=HEV<br>cap type=%{x}<br>mode=LD Truck<br>vintage=2025<br>capacity=%{y}<extra></extra>",
         "legendgroup": "HEV, net capacity",
         "marker": {
          "color": "rgb(0, 134, 149)",
          "pattern": {
           "shape": ""
          }
         },
         "name": "HEV",
         "orientation": "v",
         "showlegend": false,
         "textfont": {
          "size": 11
         },
         "textposition": "auto",
         "texttemplate": "%{y:.2f}",
         "type": "bar",
         "x": [
          "net capacity"
         ],
         "xaxis": "x2",
         "y": {
          "bdata": "GKe/j+szlT8=",
          "dtype": "f8"
         },
         "yaxis": "y2"
        },
        {
         "hovertemplate": "fuel=HEV<br>cap type=%{x}<br>mode=LD Truck<br>vintage=2030<br>capacity=%{y}<extra></extra>",
         "legendgroup": "HEV, net capacity",
         "marker": {
          "color": "rgb(0, 134, 149)",
          "pattern": {
           "shape": ""
          }
         },
         "name": "HEV",
         "orientation": "v",
         "showlegend": false,
         "textfont": {
          "size": 11
         },
         "textposition": "auto",
         "texttemplate": "%{y:.2f}",
         "type": "bar",
         "x": [
          "net capacity"
         ],
         "xaxis": "x3",
         "y": {
          "bdata": "udZwzS6TkD8=",
          "dtype": "f8"
         },
         "yaxis": "y3"
        },
        {
         "hovertemplate": "fuel=HEV<br>cap type=%{x}<br>mode=LD Truck<br>vintage=2035<br>capacity=%{y}<extra></extra>",
         "legendgroup": "HEV, net capacity",
         "marker": {
          "color": "rgb(0, 134, 149)",
          "pattern": {
           "shape": ""
          }
         },
         "name": "HEV",
         "orientation": "v",
         "showlegend": false,
         "textfont": {
          "size": 11
         },
         "textposition": "auto",
         "texttemplate": "%{y:.2f}",
         "type": "bar",
         "x": [
          "net capacity"
         ],
         "xaxis": "x4",
         "y": {
          "bdata": "k93ALy6/jT8=",
          "dtype": "f8"
         },
         "yaxis": "y4"
        },
        {
         "hovertemplate": "fuel=HEV<br>cap type=%{x}<br>mode=LD Truck<br>vintage=2040<br>capacity=%{y}<extra></extra>",
         "legendgroup": "HEV, net capacity",
         "marker": {
          "color": "rgb(0, 134, 149)",
          "pattern": {
           "shape": ""
          }
         },
         "name": "HEV",
         "orientation": "v",
         "showlegend": false,
         "textfont": {
          "size": 11
         },
         "textposition": "auto",
         "texttemplate": "%{y:.2f}",
         "type": "bar",
         "x": [
          "net capacity"
         ],
         "xaxis": "x5",
         "y": {
          "bdata": "cCggYm9edj8=",
          "dtype": "f8"
         },
         "yaxis": "y5"
        },
        {
         "hovertemplate": "fuel=HEV<br>cap type=%{x}<br>mode=LD Truck<br>vintage=2045<br>capacity=%{y}<extra></extra>",
         "legendgroup": "HEV, net capacity",
         "marker": {
          "color": "rgb(0, 134, 149)",
          "pattern": {
           "shape": ""
          }
         },
         "name": "HEV",
         "orientation": "v",
         "showlegend": false,
         "textfont": {
          "size": 11
         },
         "textposition": "auto",
         "texttemplate": "%{y:.2f}",
         "type": "bar",
         "x": [
          "net capacity"
         ],
         "xaxis": "x6",
         "y": {
          "bdata": "yS6/BM3ucj8=",
          "dtype": "f8"
         },
         "yaxis": "y6"
        },
        {
         "hovertemplate": "fuel=PHEV35<br>cap type=%{x}<br>mode=LD Car<br>vintage=2021<br>capacity=%{y}<extra></extra>",
         "legendgroup": "PHEV35, net capacity",
         "marker": {
          "color": "rgb(207, 28, 144)",
          "pattern": {
           "shape": ""
          }
         },
         "name": "PHEV35",
         "orientation": "v",
         "showlegend": true,
         "textfont": {
          "size": 11
         },
         "textposition": "auto",
         "texttemplate": "%{y:.2f}",
         "type": "bar",
         "x": [
          "net capacity"
         ],
         "xaxis": "x8",
         "y": {
          "bdata": "YiR5+T0Jmj8=",
          "dtype": "f8"
         },
         "yaxis": "y8"
        },
        {
         "hovertemplate": "fuel=PHEV35<br>cap type=%{x}<br>mode=LD Car<br>vintage=2025<br>capacity=%{y}<extra></extra>",
         "legendgroup": "PHEV35, net capacity",
         "marker": {
          "color": "rgb(207, 28, 144)",
          "pattern": {
           "shape": ""
          }
         },
         "name": "PHEV35",
         "orientation": "v",
         "showlegend": false,
         "textfont": {
          "size": 11
         },
         "textposition": "auto",
         "texttemplate": "%{y:.2f}",
         "type": "bar",
         "x": [
          "net capacity"
         ],
         "xaxis": "x9",
         "y": {
          "bdata": "2TE9SS1amT8=",
          "dtype": "f8"
         },
         "yaxis": "y9"
        },
        {
         "hovertemplate": "fuel=PHEV35<br>cap type=%{x}<br>mode=LD Car<br>vintage=2030<br>capacity=%{y}<extra></extra>",
         "legendgroup": "PHEV35, net capacity",
         "marker": {
          "color": "rgb(207, 28, 144)",
          "pattern": {
           "shape": ""
          }
         },
         "name": "PHEV35",
         "orientation": "v",
         "showlegend": false,
         "textfont": {
          "size": 11
         },
         "textposition": "auto",
         "texttemplate": "%{y:.2f}",
         "type": "bar",
         "x": [
          "net capacity"
         ],
         "xaxis": "x10",
         "y": {
          "bdata": "DCReEuYokj8=",
          "dtype": "f8"
         },
         "yaxis": "y10"
        },
        {
         "hovertemplate": "fuel=PHEV35<br>cap type=%{x}<br>mode=LD Car<br>vintage=2035<br>capacity=%{y}<extra></extra>",
         "legendgroup": "PHEV35, net capacity",
         "marker": {
          "color": "rgb(207, 28, 144)",
          "pattern": {
           "shape": ""
          }
         },
         "name": "PHEV35",
         "orientation": "v",
         "showlegend": false,
         "textfont": {
          "size": 11
         },
         "textposition": "auto",
         "texttemplate": "%{y:.2f}",
         "type": "bar",
         "x": [
          "net capacity"
         ],
         "xaxis": "x11",
         "y": {
          "bdata": "f2VLuScQej8=",
          "dtype": "f8"
         },
         "yaxis": "y11"
        },
        {
         "hovertemplate": "fuel=PHEV35<br>cap type=%{x}<br>mode=LD Car<br>vintage=2040<br>capacity=%{y}<extra></extra>",
         "legendgroup": "PHEV35, net capacity",
         "marker": {
          "color": "rgb(207, 28, 144)",
          "pattern": {
           "shape": ""
          }
         },
         "name": "PHEV35",
         "orientation": "v",
         "showlegend": false,
         "textfont": {
          "size": 11
         },
         "textposition": "auto",
         "texttemplate": "%{y:.2f}",
         "type": "bar",
         "x": [
          "net capacity"
         ],
         "xaxis": "x12",
         "y": {
          "bdata": "susrYPtRdz8=",
          "dtype": "f8"
         },
         "yaxis": "y12"
        },
        {
         "hovertemplate": "fuel=PHEV35<br>cap type=%{x}<br>mode=LD Truck<br>vintage=2021<br>capacity=%{y}<extra></extra>",
         "legendgroup": "PHEV35, net capacity",
         "marker": {
          "color": "rgb(207, 28, 144)",
          "pattern": {
           "shape": ""
          }
         },
         "name": "PHEV35",
         "orientation": "v",
         "showlegend": false,
         "textfont": {
          "size": 11
         },
         "textposition": "auto",
         "texttemplate": "%{y:.2f}",
         "type": "bar",
         "x": [
          "net capacity"
         ],
         "xaxis": "x",
         "y": {
          "bdata": "eF7g21szdj8=",
          "dtype": "f8"
         },
         "yaxis": "y"
        },
        {
         "hovertemplate": "fuel=PHEV35<br>cap type=%{x}<br>mode=LD Truck<br>vintage=2025<br>capacity=%{y}<extra></extra>",
         "legendgroup": "PHEV35, net capacity",
         "marker": {
          "color": "rgb(207, 28, 144)",
          "pattern": {
           "shape": ""
          }
         },
         "name": "PHEV35",
         "orientation": "v",
         "showlegend": false,
         "textfont": {
          "size": 11
         },
         "textposition": "auto",
         "texttemplate": "%{y:.2f}",
         "type": "bar",
         "x": [
          "net capacity"
         ],
         "xaxis": "x2",
         "y": {
          "bdata": "/GlIua4odj8=",
          "dtype": "f8"
         },
         "yaxis": "y2"
        },
        {
         "hovertemplate": "fuel=PHEV35<br>cap type=%{x}<br>mode=LD Truck<br>vintage=2030<br>capacity=%{y}<extra></extra>",
         "legendgroup": "PHEV35, net capacity",
         "marker": {
          "color": "rgb(207, 28, 144)",
          "pattern": {
           "shape": ""
          }
         },
         "name": "PHEV35",
         "orientation": "v",
         "showlegend": false,
         "textfont": {
          "size": 11
         },
         "textposition": "auto",
         "texttemplate": "%{y:.2f}",
         "type": "bar",
         "x": [
          "net capacity"
         ],
         "xaxis": "x3",
         "y": {
          "bdata": "V+Jweju6cD8=",
          "dtype": "f8"
         },
         "yaxis": "y3"
        },
        {
         "hovertemplate": "fuel=PHEV35<br>cap type=%{x}<br>mode=LD Truck<br>vintage=2035<br>capacity=%{y}<extra></extra>",
         "legendgroup": "PHEV35, net capacity",
         "marker": {
          "color": "rgb(207, 28, 144)",
          "pattern": {
           "shape": ""
          }
         },
         "name": "PHEV35",
         "orientation": "v",
         "showlegend": false,
         "textfont": {
          "size": 11
         },
         "textposition": "auto",
         "texttemplate": "%{y:.2f}",
         "type": "bar",
         "x": [
          "net capacity"
         ],
         "xaxis": "x4",
         "y": {
          "bdata": "7wplW4aTcD8=",
          "dtype": "f8"
         },
         "yaxis": "y4"
        },
        {
         "hovertemplate": "fuel=PHEV35<br>cap type=%{x}<br>mode=LD Truck<br>vintage=2040<br>capacity=%{y}<extra></extra>",
         "legendgroup": "PHEV35, net capacity",
         "marker": {
          "color": "rgb(207, 28, 144)",
          "pattern": {
           "shape": ""
          }
         },
         "name": "PHEV35",
         "orientation": "v",
         "showlegend": false,
         "textfont": {
          "size": 11
         },
         "textposition": "auto",
         "texttemplate": "%{y:.2f}",
         "type": "bar",
         "x": [
          "net capacity"
         ],
         "xaxis": "x5",
         "y": {
          "bdata": "sPlzUcigVj8=",
          "dtype": "f8"
         },
         "yaxis": "y5"
        },
        {
         "hovertemplate": "fuel=PHEV35<br>cap type=%{x}<br>mode=LD Truck<br>vintage=2045<br>capacity=%{y}<extra></extra>",
         "legendgroup": "PHEV35, net capacity",
         "marker": {
          "color": "rgb(207, 28, 144)",
          "pattern": {
           "shape": ""
          }
         },
         "name": "PHEV35",
         "orientation": "v",
         "showlegend": false,
         "textfont": {
          "size": 11
         },
         "textposition": "auto",
         "texttemplate": "%{y:.2f}",
         "type": "bar",
         "x": [
          "net capacity"
         ],
         "xaxis": "x6",
         "y": {
          "bdata": "1CxEaNhGVj8=",
          "dtype": "f8"
         },
         "yaxis": "y6"
        },
        {
         "hovertemplate": "fuel=BEV150<br>cap type=%{x}<br>mode=LD Car<br>vintage=2021<br>capacity=%{y}<extra></extra>",
         "legendgroup": "BEV150, new capacity",
         "marker": {
          "color": "rgb(242, 183, 1)",
          "pattern": {
           "shape": "."
          }
         },
         "name": "BEV150",
         "orientation": "v",
         "showlegend": false,
         "textfont": {
          "size": 11
         },
         "textposition": "auto",
         "texttemplate": "%{y:.2f}",
         "type": "bar",
         "x": [
          "new capacity"
         ],
         "xaxis": "x8",
         "y": {
          "bdata": "T7HXtZT45T8=",
          "dtype": "f8"
         },
         "yaxis": "y8"
        },
        {
         "hovertemplate": "fuel=BEV150<br>cap type=%{x}<br>mode=LD Car<br>vintage=2025<br>capacity=%{y}<extra></extra>",
         "legendgroup": "BEV150, new capacity",
         "marker": {
          "color": "rgb(242, 183, 1)",
          "pattern": {
           "shape": "."
          }
         },
         "name": "BEV150",
         "orientation": "v",
         "showlegend": false,
         "textfont": {
          "size": 11
         },
         "textposition": "auto",
         "texttemplate": "%{y:.2f}",
         "type": "bar",
         "x": [
          "new capacity"
         ],
         "xaxis": "x9",
         "y": {
          "bdata": "/cDYUBIzAUA=",
          "dtype": "f8"
         },
         "yaxis": "y9"
        },
        {
         "hovertemplate": "fuel=BEV150<br>cap type=%{x}<br>mode=LD Car<br>vintage=2030<br>capacity=%{y}<extra></extra>",
         "legendgroup": "BEV150, new capacity",
         "marker": {
          "color": "rgb(242, 183, 1)",
          "pattern": {
           "shape": "."
          }
         },
         "name": "BEV150",
         "orientation": "v",
         "showlegend": false,
         "textfont": {
          "size": 11
         },
         "textposition": "auto",
         "texttemplate": "%{y:.2f}",
         "type": "bar",
         "x": [
          "new capacity"
         ],
         "xaxis": "x10",
         "y": {
          "bdata": "mLhT78l/9T8=",
          "dtype": "f8"
         },
         "yaxis": "y10"
        },
        {
         "hovertemplate": "fuel=BEV150<br>cap type=%{x}<br>mode=LD Car<br>vintage=2035<br>capacity=%{y}<extra></extra>",
         "legendgroup": "BEV150, new capacity",
         "marker": {
          "color": "rgb(242, 183, 1)",
          "pattern": {
           "shape": "."
          }
         },
         "name": "BEV150",
         "orientation": "v",
         "showlegend": false,
         "textfont": {
          "size": 11
         },
         "textposition": "auto",
         "texttemplate": "%{y:.2f}",
         "type": "bar",
         "x": [
          "new capacity"
         ],
         "xaxis": "x11",
         "y": {
          "bdata": "ZRMzGkEECEA=",
          "dtype": "f8"
         },
         "yaxis": "y11"
        },
        {
         "hovertemplate": "fuel=BEV150<br>cap type=%{x}<br>mode=LD Car<br>vintage=2040<br>capacity=%{y}<extra></extra>",
         "legendgroup": "BEV150, new capacity",
         "marker": {
          "color": "rgb(242, 183, 1)",
          "pattern": {
           "shape": "."
          }
         },
         "name": "BEV150",
         "orientation": "v",
         "showlegend": false,
         "textfont": {
          "size": 11
         },
         "textposition": "auto",
         "texttemplate": "%{y:.2f}",
         "type": "bar",
         "x": [
          "new capacity"
         ],
         "xaxis": "x12",
         "y": {
          "bdata": "qq5IN4o1AEA=",
          "dtype": "f8"
         },
         "yaxis": "y12"
        },
        {
         "hovertemplate": "fuel=BEV150<br>cap type=%{x}<br>mode=LD Car<br>vintage=2045<br>capacity=%{y}<extra></extra>",
         "legendgroup": "BEV150, new capacity",
         "marker": {
          "color": "rgb(242, 183, 1)",
          "pattern": {
           "shape": "."
          }
         },
         "name": "BEV150",
         "orientation": "v",
         "showlegend": false,
         "textfont": {
          "size": 11
         },
         "textposition": "auto",
         "texttemplate": "%{y:.2f}",
         "type": "bar",
         "x": [
          "new capacity"
         ],
         "xaxis": "x13",
         "y": {
          "bdata": "TWRnUC4GAEA=",
          "dtype": "f8"
         },
         "yaxis": "y13"
        },
        {
         "hovertemplate": "fuel=BEV150<br>cap type=%{x}<br>mode=LD Car<br>vintage=2050<br>capacity=%{y}<extra></extra>",
         "legendgroup": "BEV150, new capacity",
         "marker": {
          "color": "rgb(242, 183, 1)",
          "pattern": {
           "shape": "."
          }
         },
         "name": "BEV150",
         "orientation": "v",
         "showlegend": false,
         "textfont": {
          "size": 11
         },
         "textposition": "auto",
         "texttemplate": "%{y:.2f}",
         "type": "bar",
         "x": [
          "new capacity"
         ],
         "xaxis": "x14",
         "y": {
          "bdata": "h7TcOUWOB0A=",
          "dtype": "f8"
         },
         "yaxis": "y14"
        },
        {
         "hovertemplate": "fuel=BEV150<br>cap type=%{x}<br>mode=LD Truck<br>vintage=2021<br>capacity=%{y}<extra></extra>",
         "legendgroup": "BEV150, new capacity",
         "marker": {
          "color": "rgb(242, 183, 1)",
          "pattern": {
           "shape": "."
          }
         },
         "name": "BEV150",
         "orientation": "v",
         "showlegend": false,
         "textfont": {
          "size": 11
         },
         "textposition": "auto",
         "texttemplate": "%{y:.2f}",
         "type": "bar",
         "x": [
          "new capacity"
         ],
         "xaxis": "x",
         "y": {
          "bdata": "O2u1mZo94z8=",
          "dtype": "f8"
         },
         "yaxis": "y"
        },
        {
         "hovertemplate": "fuel=BEV150<br>cap type=%{x}<br>mode=LD Truck<br>vintage=2025<br>capacity=%{y}<extra></extra>",
         "legendgroup": "BEV150, new capacity",
         "marker": {
          "color": "rgb(242, 183, 1)",
          "pattern": {
           "shape": "."
          }
         },
         "name": "BEV150",
         "orientation": "v",
         "showlegend": false,
         "textfont": {
          "size": 11
         },
         "textposition": "auto",
         "texttemplate": "%{y:.2f}",
         "type": "bar",
         "x": [
          "new capacity"
         ],
         "xaxis": "x2",
         "y": {
          "bdata": "CFOdMvUS/z8=",
          "dtype": "f8"
         },
         "yaxis": "y2"
        },
        {
         "hovertemplate": "fuel=BEV150<br>cap type=%{x}<br>mode=LD Truck<br>vintage=2030<br>capacity=%{y}<extra></extra>",
         "legendgroup": "BEV150, new capacity",
         "marker": {
          "color": "rgb(242, 183, 1)",
          "pattern": {
           "shape": "."
          }
         },
         "name": "BEV150",
         "orientation": "v",
         "showlegend": false,
         "textfont": {
          "size": 11
         },
         "textposition": "auto",
         "texttemplate": "%{y:.2f}",
         "type": "bar",
         "x": [
          "new capacity"
         ],
         "xaxis": "x3",
         "y": {
          "bdata": "R9l4jU6M+D8=",
          "dtype": "f8"
         },
         "yaxis": "y3"
        },
        {
         "hovertemplate": "fuel=BEV150<br>cap type=%{x}<br>mode=LD Truck<br>vintage=2035<br>capacity=%{y}<extra></extra>",
         "legendgroup": "BEV150, new capacity",
         "marker": {
          "color": "rgb(242, 183, 1)",
          "pattern": {
           "shape": "."
          }
         },
         "name": "BEV150",
         "orientation": "v",
         "showlegend": false,
         "textfont": {
          "size": 11
         },
         "textposition": "auto",
         "texttemplate": "%{y:.2f}",
         "type": "bar",
         "x": [
          "new capacity"
         ],
         "xaxis": "x4",
         "y": {
          "bdata": "Clgv73JbAkA=",
          "dtype": "f8"
         },
         "yaxis": "y4"
        },
        {
         "hovertemplate": "fuel=BEV150<br>cap type=%{x}<br>mode=LD Truck<br>vintage=2040<br>capacity=%{y}<extra></extra>",
         "legendgroup": "BEV150, new capacity",
         "marker": {
          "color": "rgb(242, 183, 1)",
          "pattern": {
           "shape": "."
          }
         },
         "name": "BEV150",
         "orientation": "v",
         "showlegend": false,
         "textfont": {
          "size": 11
         },
         "textposition": "auto",
         "texttemplate": "%{y:.2f}",
         "type": "bar",
         "x": [
          "new capacity"
         ],
         "xaxis": "x5",
         "y": {
          "bdata": "eAXIpUi8CEA=",
          "dtype": "f8"
         },
         "yaxis": "y5"
        },
        {
         "hovertemplate": "fuel=BEV150<br>cap type=%{x}<br>mode=LD Truck<br>vintage=2045<br>capacity=%{y}<extra></extra>",
         "legendgroup": "BEV150, new capacity",
         "marker": {
          "color": "rgb(242, 183, 1)",
          "pattern": {
           "shape": "."
          }
         },
         "name": "BEV150",
         "orientation": "v",
         "showlegend": false,
         "textfont": {
          "size": 11
         },
         "textposition": "auto",
         "texttemplate": "%{y:.2f}",
         "type": "bar",
         "x": [
          "new capacity"
         ],
         "xaxis": "x6",
         "y": {
          "bdata": "RMjQULnK/D8=",
          "dtype": "f8"
         },
         "yaxis": "y6"
        },
        {
         "hovertemplate": "fuel=BEV150<br>cap type=%{x}<br>mode=LD Truck<br>vintage=2050<br>capacity=%{y}<extra></extra>",
         "legendgroup": "BEV150, new capacity",
         "marker": {
          "color": "rgb(242, 183, 1)",
          "pattern": {
           "shape": "."
          }
         },
         "name": "BEV150",
         "orientation": "v",
         "showlegend": false,
         "textfont": {
          "size": 11
         },
         "textposition": "auto",
         "texttemplate": "%{y:.2f}",
         "type": "bar",
         "x": [
          "new capacity"
         ],
         "xaxis": "x7",
         "y": {
          "bdata": "VZPxSJzVBkA=",
          "dtype": "f8"
         },
         "yaxis": "y7"
        },
        {
         "hovertemplate": "fuel=Gasoline<br>cap type=%{x}<br>mode=LD Car<br>vintage=2025<br>capacity=%{y}<extra></extra>",
         "legendgroup": "Gasoline, retired cap",
         "marker": {
          "color": "rgb(127, 60, 141)",
          "pattern": {
           "shape": "/"
          }
         },
         "name": "Gasoline",
         "orientation": "v",
         "showlegend": false,
         "textfont": {
          "size": 11
         },
         "textposition": "auto",
         "texttemplate": "%{y:.2f}",
         "type": "bar",
         "x": [
          "retired cap"
         ],
         "xaxis": "x9",
         "y": {
          "bdata": "8hT3Jwrv6L8=",
          "dtype": "f8"
         },
         "yaxis": "y9"
        },
        {
         "hovertemplate": "fuel=Gasoline<br>cap type=%{x}<br>mode=LD Car<br>vintage=2030<br>capacity=%{y}<extra></extra>",
         "legendgroup": "Gasoline, retired cap",
         "marker": {
          "color": "rgb(127, 60, 141)",
          "pattern": {
           "shape": "/"
          }
         },
         "name": "Gasoline",
         "orientation": "v",
         "showlegend": false,
         "textfont": {
          "size": 11
         },
         "textposition": "auto",
         "texttemplate": "%{y:.2f}",
         "type": "bar",
         "x": [
          "retired cap"
         ],
         "xaxis": "x10",
         "y": {
          "bdata": "+q7DzGh98b8=",
          "dtype": "f8"
         },
         "yaxis": "y10"
        },
        {
         "hovertemplate": "fuel=Gasoline<br>cap type=%{x}<br>mode=LD Car<br>vintage=2035<br>capacity=%{y}<extra></extra>",
         "legendgroup": "Gasoline, retired cap",
         "marker": {
          "color": "rgb(127, 60, 141)",
          "pattern": {
           "shape": "/"
          }
         },
         "name": "Gasoline",
         "orientation": "v",
         "showlegend": false,
         "textfont": {
          "size": 11
         },
         "textposition": "auto",
         "texttemplate": "%{y:.2f}",
         "type": "bar",
         "x": [
          "retired cap"
         ],
         "xaxis": "x11",
         "y": {
          "bdata": "MQWVFTo5778=",
          "dtype": "f8"
         },
         "yaxis": "y11"
        },
        {
         "hovertemplate": "fuel=Gasoline<br>cap type=%{x}<br>mode=LD Car<br>vintage=2040<br>capacity=%{y}<extra></extra>",
         "legendgroup": "Gasoline, retired cap",
         "marker": {
          "color": "rgb(127, 60, 141)",
          "pattern": {
           "shape": "/"
          }
         },
         "name": "Gasoline",
         "orientation": "v",
         "showlegend": false,
         "textfont": {
          "size": 11
         },
         "textposition": "auto",
         "texttemplate": "%{y:.2f}",
         "type": "bar",
         "x": [
          "retired cap"
         ],
         "xaxis": "x12",
         "y": {
          "bdata": "8vV3Jda21b8=",
          "dtype": "f8"
         },
         "yaxis": "y12"
        },
        {
         "hovertemplate": "fuel=Gasoline<br>cap type=%{x}<br>mode=LD Car<br>vintage=2045<br>capacity=%{y}<extra></extra>",
         "legendgroup": "Gasoline, retired cap",
         "marker": {
          "color": "rgb(127, 60, 141)",
          "pattern": {
           "shape": "/"
          }
         },
         "name": "Gasoline",
         "orientation": "v",
         "showlegend": false,
         "textfont": {
          "size": 11
         },
         "textposition": "auto",
         "texttemplate": "%{y:.2f}",
         "type": "bar",
         "x": [
          "retired cap"
         ],
         "xaxis": "x13",
         "y": {
          "bdata": "f/elqwWI2r8=",
          "dtype": "f8"
         },
         "yaxis": "y13"
        },
        {
         "hovertemplate": "fuel=Gasoline<br>cap type=%{x}<br>mode=LD Truck<br>vintage=2025<br>capacity=%{y}<extra></extra>",
         "legendgroup": "Gasoline, retired cap",
         "marker": {
          "color": "rgb(127, 60, 141)",
          "pattern": {
           "shape": "/"
          }
         },
         "name": "Gasoline",
         "orientation": "v",
         "showlegend": false,
         "textfont": {
          "size": 11
         },
         "textposition": "auto",
         "texttemplate": "%{y:.2f}",
         "type": "bar",
         "x": [
          "retired cap"
         ],
         "xaxis": "x2",
         "y": {
          "bdata": "9nAj4VLw2L8=",
          "dtype": "f8"
         },
         "yaxis": "y2"
        },
        {
         "hovertemplate": "fuel=Gasoline<br>cap type=%{x}<br>mode=LD Truck<br>vintage=2030<br>capacity=%{y}<extra></extra>",
         "legendgroup": "Gasoline, retired cap",
         "marker": {
          "color": "rgb(127, 60, 141)",
          "pattern": {
           "shape": "/"
          }
         },
         "name": "Gasoline",
         "orientation": "v",
         "showlegend": false,
         "textfont": {
          "size": 11
         },
         "textposition": "auto",
         "texttemplate": "%{y:.2f}",
         "type": "bar",
         "x": [
          "retired cap"
         ],
         "xaxis": "x3",
         "y": {
          "bdata": "nP8KHhxY9L8=",
          "dtype": "f8"
         },
         "yaxis": "y3"
        },
        {
         "hovertemplate": "fuel=Gasoline<br>cap type=%{x}<br>mode=LD Truck<br>vintage=2035<br>capacity=%{y}<extra></extra>",
         "legendgroup": "Gasoline, retired cap",
         "marker": {
          "color": "rgb(127, 60, 141)",
          "pattern": {
           "shape": "/"
          }
         },
         "name": "Gasoline",
         "orientation": "v",
         "showlegend": false,
         "textfont": {
          "size": 11
         },
         "textposition": "auto",
         "texttemplate": "%{y:.2f}",
         "type": "bar",
         "x": [
          "retired cap"
         ],
         "xaxis": "x4",
         "y": {
          "bdata": "nGKoGFbw6L8=",
          "dtype": "f8"
         },
         "yaxis": "y4"
        },
        {
         "hovertemplate": "fuel=Gasoline<br>cap type=%{x}<br>mode=LD Truck<br>vintage=2040<br>capacity=%{y}<extra></extra>",
         "legendgroup": "Gasoline, retired cap",
         "marker": {
          "color": "rgb(127, 60, 141)",
          "pattern": {
           "shape": "/"
          }
         },
         "name": "Gasoline",
         "orientation": "v",
         "showlegend": false,
         "textfont": {
          "size": 11
         },
         "textposition": "auto",
         "texttemplate": "%{y:.2f}",
         "type": "bar",
         "x": [
          "retired cap"
         ],
         "xaxis": "x5",
         "y": {
          "bdata": "32JkUQRk9L8=",
          "dtype": "f8"
         },
         "yaxis": "y5"
        },
        {
         "hovertemplate": "fuel=Gasoline<br>cap type=%{x}<br>mode=LD Truck<br>vintage=2045<br>capacity=%{y}<extra></extra>",
         "legendgroup": "Gasoline, retired cap",
         "marker": {
          "color": "rgb(127, 60, 141)",
          "pattern": {
           "shape": "/"
          }
         },
         "name": "Gasoline",
         "orientation": "v",
         "showlegend": false,
         "textfont": {
          "size": 11
         },
         "textposition": "auto",
         "texttemplate": "%{y:.2f}",
         "type": "bar",
         "x": [
          "retired cap"
         ],
         "xaxis": "x6",
         "y": {
          "bdata": "E4dSrGPw2L8=",
          "dtype": "f8"
         },
         "yaxis": "y6"
        },
        {
         "hovertemplate": "fuel=Gasoline<br>cap type=%{x}<br>mode=LD Truck<br>vintage=2050<br>capacity=%{y}<extra></extra>",
         "legendgroup": "Gasoline, retired cap",
         "marker": {
          "color": "rgb(127, 60, 141)",
          "pattern": {
           "shape": "/"
          }
         },
         "name": "Gasoline",
         "orientation": "v",
         "showlegend": false,
         "textfont": {
          "size": 11
         },
         "textposition": "auto",
         "texttemplate": "%{y:.2f}",
         "type": "bar",
         "x": [
          "retired cap"
         ],
         "xaxis": "x7",
         "y": {
          "bdata": "twVsEsxU4L8=",
          "dtype": "f8"
         },
         "yaxis": "y7"
        },
        {
         "hovertemplate": "fuel=Diesel<br>cap type=%{x}<br>mode=LD Car<br>vintage=2025<br>capacity=%{y}<extra></extra>",
         "legendgroup": "Diesel, retired cap",
         "marker": {
          "color": "rgb(17, 165, 121)",
          "pattern": {
           "shape": "/"
          }
         },
         "name": "Diesel",
         "orientation": "v",
         "showlegend": false,
         "textfont": {
          "size": 11
         },
         "textposition": "auto",
         "texttemplate": "%{y:.2f}",
         "type": "bar",
         "x": [
          "retired cap"
         ],
         "xaxis": "x9",
         "y": {
          "bdata": "sk8y/wmqnb8=",
          "dtype": "f8"
         },
         "yaxis": "y9"
        },
        {
         "hovertemplate": "fuel=Diesel<br>cap type=%{x}<br>mode=LD Car<br>vintage=2030<br>capacity=%{y}<extra></extra>",
         "legendgroup": "Diesel, retired cap",
         "marker": {
          "color": "rgb(17, 165, 121)",
          "pattern": {
           "shape": "/"
          }
         },
         "name": "Diesel",
         "orientation": "v",
         "showlegend": false,
         "textfont": {
          "size": 11
         },
         "textposition": "auto",
         "texttemplate": "%{y:.2f}",
         "type": "bar",
         "x": [
          "retired cap"
         ],
         "xaxis": "x10",
         "y": {
          "bdata": "T7JXuFGIlb8=",
          "dtype": "f8"
         },
         "yaxis": "y10"
        },
        {
         "hovertemplate": "fuel=Diesel<br>cap type=%{x}<br>mode=LD Car<br>vintage=2035<br>capacity=%{y}<extra></extra>",
         "legendgroup": "Diesel, retired cap",
         "marker": {
          "color": "rgb(17, 165, 121)",
          "pattern": {
           "shape": "/"
          }
         },
         "name": "Diesel",
         "orientation": "v",
         "showlegend": false,
         "textfont": {
          "size": 11
         },
         "textposition": "auto",
         "texttemplate": "%{y:.2f}",
         "type": "bar",
         "x": [
          "retired cap"
         ],
         "xaxis": "x11",
         "y": {
          "bdata": "KEzhMczVgL8=",
          "dtype": "f8"
         },
         "yaxis": "y11"
        },
        {
         "hovertemplate": "fuel=Diesel<br>cap type=%{x}<br>mode=LD Car<br>vintage=2040<br>capacity=%{y}<extra></extra>",
         "legendgroup": "Diesel, retired cap",
         "marker": {
          "color": "rgb(17, 165, 121)",
          "pattern": {
           "shape": "/"
          }
         },
         "name": "Diesel",
         "orientation": "v",
         "showlegend": false,
         "textfont": {
          "size": 11
         },
         "textposition": "auto",
         "texttemplate": "%{y:.2f}",
         "type": "bar",
         "x": [
          "retired cap"
         ],
         "xaxis": "x12",
         "y": {
          "bdata": "BvBNSeCOhL8=",
          "dtype": "f8"
         },
         "yaxis": "y12"
        },
        {
         "hovertemplate": "fuel=Diesel<br>cap type=%{x}<br>mode=LD Truck<br>vintage=2025<br>capacity=%{y}<extra></extra>",
         "legendgroup": "Diesel, retired cap",
         "marker": {
          "color": "rgb(17, 165, 121)",
          "pattern": {
           "shape": "/"
          }
         },
         "name": "Diesel",
         "orientation": "v",
         "showlegend": false,
         "textfont": {
          "size": 11
         },
         "textposition": "auto",
         "texttemplate": "%{y:.2f}",
         "type": "bar",
         "x": [
          "retired cap"
         ],
         "xaxis": "x2",
         "y": {
          "bdata": "ENQRPJU+k78=",
          "dtype": "f8"
         },
         "yaxis": "y2"
        },
        {
         "hovertemplate": "fuel=Diesel<br>cap type=%{x}<br>mode=LD Truck<br>vintage=2030<br>capacity=%{y}<extra></extra>",
         "legendgroup": "Diesel, retired cap",
         "marker": {
          "color": "rgb(17, 165, 121)",
          "pattern": {
           "shape": "/"
          }
         },
         "name": "Diesel",
         "orientation": "v",
         "showlegend": false,
         "textfont": {
          "size": 11
         },
         "textposition": "auto",
         "texttemplate": "%{y:.2f}",
         "type": "bar",
         "x": [
          "retired cap"
         ],
         "xaxis": "x3",
         "y": {
          "bdata": "rqmIGJpvrL8=",
          "dtype": "f8"
         },
         "yaxis": "y3"
        },
        {
         "hovertemplate": "fuel=Diesel<br>cap type=%{x}<br>mode=LD Truck<br>vintage=2035<br>capacity=%{y}<extra></extra>",
         "legendgroup": "Diesel, retired cap",
         "marker": {
          "color": "rgb(17, 165, 121)",
          "pattern": {
           "shape": "/"
          }
         },
         "name": "Diesel",
         "orientation": "v",
         "showlegend": false,
         "textfont": {
          "size": 11
         },
         "textposition": "auto",
         "texttemplate": "%{y:.2f}",
         "type": "bar",
         "x": [
          "retired cap"
         ],
         "xaxis": "x4",
         "y": {
          "bdata": "Yr0rzsk+o78=",
          "dtype": "f8"
         },
         "yaxis": "y4"
        },
        {
         "hovertemplate": "fuel=Diesel<br>cap type=%{x}<br>mode=LD Truck<br>vintage=2040<br>capacity=%{y}<extra></extra>",
         "legendgroup": "Diesel, retired cap",
         "marker": {
          "color": "rgb(17, 165, 121)",
          "pattern": {
           "shape": "/"
          }
         },
         "name": "Diesel",
         "orientation": "v",
         "showlegend": false,
         "textfont": {
          "size": 11
         },
         "textposition": "auto",
         "texttemplate": "%{y:.2f}",
         "type": "bar",
         "x": [
          "retired cap"
         ],
         "xaxis": "x5",
         "y": {
          "bdata": "VstA0I6ur78=",
          "dtype": "f8"
         },
         "yaxis": "y5"
        },
        {
         "hovertemplate": "fuel=Diesel<br>cap type=%{x}<br>mode=LD Truck<br>vintage=2045<br>capacity=%{y}<extra></extra>",
         "legendgroup": "Diesel, retired cap",
         "marker": {
          "color": "rgb(17, 165, 121)",
          "pattern": {
           "shape": "/"
          }
         },
         "name": "Diesel",
         "orientation": "v",
         "showlegend": false,
         "textfont": {
          "size": 11
         },
         "textposition": "auto",
         "texttemplate": "%{y:.2f}",
         "type": "bar",
         "x": [
          "retired cap"
         ],
         "xaxis": "x6",
         "y": {
          "bdata": "gcIKha0/k78=",
          "dtype": "f8"
         },
         "yaxis": "y6"
        },
        {
         "hovertemplate": "fuel=Diesel<br>cap type=%{x}<br>mode=LD Truck<br>vintage=2050<br>capacity=%{y}<extra></extra>",
         "legendgroup": "Diesel, retired cap",
         "marker": {
          "color": "rgb(17, 165, 121)",
          "pattern": {
           "shape": "/"
          }
         },
         "name": "Diesel",
         "orientation": "v",
         "showlegend": false,
         "textfont": {
          "size": 11
         },
         "textposition": "auto",
         "texttemplate": "%{y:.2f}",
         "type": "bar",
         "x": [
          "retired cap"
         ],
         "xaxis": "x7",
         "y": {
          "bdata": "PaT/w4mlmr8=",
          "dtype": "f8"
         },
         "yaxis": "y7"
        },
        {
         "hovertemplate": "fuel=BEV150<br>cap type=%{x}<br>mode=LD Car<br>vintage=2030<br>capacity=%{y}<extra></extra>",
         "legendgroup": "BEV150, retired cap",
         "marker": {
          "color": "rgb(242, 183, 1)",
          "pattern": {
           "shape": "/"
          }
         },
         "name": "BEV150",
         "orientation": "v",
         "showlegend": false,
         "textfont": {
          "size": 11
         },
         "textposition": "auto",
         "texttemplate": "%{y:.2f}",
         "type": "bar",
         "x": [
          "retired cap"
         ],
         "xaxis": "x10",
         "y": {
          "bdata": "33eZeL1kx78=",
          "dtype": "f8"
         },
         "yaxis": "y10"
        },
        {
         "hovertemplate": "fuel=BEV150<br>cap type=%{x}<br>mode=LD Car<br>vintage=2035<br>capacity=%{y}<extra></extra>",
         "legendgroup": "BEV150, retired cap",
         "marker": {
          "color": "rgb(242, 183, 1)",
          "pattern": {
           "shape": "/"
          }
         },
         "name": "BEV150",
         "orientation": "v",
         "showlegend": false,
         "textfont": {
          "size": 11
         },
         "textposition": "auto",
         "texttemplate": "%{y:.2f}",
         "type": "bar",
         "x": [
          "retired cap"
         ],
         "xaxis": "x11",
         "y": {
          "bdata": "eekVjqfH7L8=",
          "dtype": "f8"
         },
         "yaxis": "y11"
        },
        {
         "hovertemplate": "fuel=BEV150<br>cap type=%{x}<br>mode=LD Car<br>vintage=2040<br>capacity=%{y}<extra></extra>",
         "legendgroup": "BEV150, retired cap",
         "marker": {
          "color": "rgb(242, 183, 1)",
          "pattern": {
           "shape": "/"
          }
         },
         "name": "BEV150",
         "orientation": "v",
         "showlegend": false,
         "textfont": {
          "size": 11
         },
         "textposition": "auto",
         "texttemplate": "%{y:.2f}",
         "type": "bar",
         "x": [
          "retired cap"
         ],
         "xaxis": "x12",
         "y": {
          "bdata": "aMmP/L2W9r8=",
          "dtype": "f8"
         },
         "yaxis": "y12"
        },
        {
         "hovertemplate": "fuel=BEV150<br>cap type=%{x}<br>mode=LD Car<br>vintage=2045<br>capacity=%{y}<extra></extra>",
         "legendgroup": "BEV150, retired cap",
         "marker": {
          "color": "rgb(242, 183, 1)",
          "pattern": {
           "shape": "/"
          }
         },
         "name": "BEV150",
         "orientation": "v",
         "showlegend": false,
         "textfont": {
          "size": 11
         },
         "textposition": "auto",
         "texttemplate": "%{y:.2f}",
         "type": "bar",
         "x": [
          "retired cap"
         ],
         "xaxis": "x13",
         "y": {
          "bdata": "M5FXPRjo9r8=",
          "dtype": "f8"
         },
         "yaxis": "y13"
        },
        {
         "hovertemplate": "fuel=BEV150<br>cap type=%{x}<br>mode=LD Car<br>vintage=2050<br>capacity=%{y}<extra></extra>",
         "legendgroup": "BEV150, retired cap",
         "marker": {
          "color": "rgb(242, 183, 1)",
          "pattern": {
           "shape": "/"
          }
         },
         "name": "BEV150",
         "orientation": "v",
         "showlegend": false,
         "textfont": {
          "size": 11
         },
         "textposition": "auto",
         "texttemplate": "%{y:.2f}",
         "type": "bar",
         "x": [
          "retired cap"
         ],
         "xaxis": "x14",
         "y": {
          "bdata": "un1/+tC7BcA=",
          "dtype": "f8"
         },
         "yaxis": "y14"
        },
        {
         "hovertemplate": "fuel=BEV150<br>cap type=%{x}<br>mode=LD Truck<br>vintage=2030<br>capacity=%{y}<extra></extra>",
         "legendgroup": "BEV150, retired cap",
         "marker": {
          "color": "rgb(242, 183, 1)",
          "pattern": {
           "shape": "/"
          }
         },
         "name": "BEV150",
         "orientation": "v",
         "showlegend": false,
         "textfont": {
          "size": 11
         },
         "textposition": "auto",
         "texttemplate": "%{y:.2f}",
         "type": "bar",
         "x": [
          "retired cap"
         ],
         "xaxis": "x3",
         "y": {
          "bdata": "Gxe3mZo9w78=",
          "dtype": "f8"
         },
         "yaxis": "y3"
        },
        {
         "hovertemplate": "fuel=BEV150<br>cap type=%{x}<br>mode=LD Truck<br>vintage=2035<br>capacity=%{y}<extra></extra>",
         "legendgroup": "BEV150, retired cap",
         "marker": {
          "color": "rgb(242, 183, 1)",
          "pattern": {
           "shape": "/"
          }
         },
         "name": "BEV150",
         "orientation": "v",
         "showlegend": false,
         "textfont": {
          "size": 11
         },
         "textposition": "auto",
         "texttemplate": "%{y:.2f}",
         "type": "bar",
         "x": [
          "retired cap"
         ],
         "xaxis": "x4",
         "y": {
          "bdata": "LSKfMvUS378=",
          "dtype": "f8"
         },
         "yaxis": "y4"
        },
        {
         "hovertemplate": "fuel=BEV150<br>cap type=%{x}<br>mode=LD Truck<br>vintage=2040<br>capacity=%{y}<extra></extra>",
         "legendgroup": "BEV150, retired cap",
         "marker": {
          "color": "rgb(242, 183, 1)",
          "pattern": {
           "shape": "/"
          }
         },
         "name": "BEV150",
         "orientation": "v",
         "showlegend": false,
         "textfont": {
          "size": 11
         },
         "textposition": "auto",
         "texttemplate": "%{y:.2f}",
         "type": "bar",
         "x": [
          "retired cap"
         ],
         "xaxis": "x5",
         "y": {
          "bdata": "O/uXk/Tk5b8=",
          "dtype": "f8"
         },
         "yaxis": "y5"
        },
        {
         "hovertemplate": "fuel=BEV150<br>cap type=%{x}<br>mode=LD Truck<br>vintage=2045<br>capacity=%{y}<extra></extra>",
         "legendgroup": "BEV150, retired cap",
         "marker": {
          "color": "rgb(242, 183, 1)",
          "pattern": {
           "shape": "/"
          }
         },
         "name": "BEV150",
         "orientation": "v",
         "showlegend": false,
         "textfont": {
          "size": 11
         },
         "textposition": "auto",
         "texttemplate": "%{y:.2f}",
         "type": "bar",
         "x": [
          "retired cap"
         ],
         "xaxis": "x6",
         "y": {
          "bdata": "unHlEDS3+L8=",
          "dtype": "f8"
         },
         "yaxis": "y6"
        },
        {
         "hovertemplate": "fuel=BEV150<br>cap type=%{x}<br>mode=LD Truck<br>vintage=2050<br>capacity=%{y}<extra></extra>",
         "legendgroup": "BEV150, retired cap",
         "marker": {
          "color": "rgb(242, 183, 1)",
          "pattern": {
           "shape": "/"
          }
         },
         "name": "BEV150",
         "orientation": "v",
         "showlegend": false,
         "textfont": {
          "size": 11
         },
         "textposition": "auto",
         "texttemplate": "%{y:.2f}",
         "type": "bar",
         "x": [
          "retired cap"
         ],
         "xaxis": "x7",
         "y": {
          "bdata": "WoDX7P4L+78=",
          "dtype": "f8"
         },
         "yaxis": "y7"
        },
        {
         "hovertemplate": "fuel=BEV300<br>cap type=%{x}<br>mode=LD Truck<br>vintage=2030<br>capacity=%{y}<extra></extra>",
         "legendgroup": "BEV300, retired cap",
         "marker": {
          "color": "rgb(128, 186, 90)",
          "pattern": {
           "shape": "/"
          }
         },
         "name": "BEV300",
         "orientation": "v",
         "showlegend": false,
         "textfont": {
          "size": 11
         },
         "textposition": "auto",
         "texttemplate": "%{y:.2f}",
         "type": "bar",
         "x": [
          "retired cap"
         ],
         "xaxis": "x3",
         "y": {
          "bdata": "jwMiQWrxUb8=",
          "dtype": "f8"
         },
         "yaxis": "y3"
        },
        {
         "hovertemplate": "fuel=BEV300<br>cap type=%{x}<br>mode=LD Truck<br>vintage=2040<br>capacity=%{y}<extra></extra>",
         "legendgroup": "BEV300, retired cap",
         "marker": {
          "color": "rgb(128, 186, 90)",
          "pattern": {
           "shape": "/"
          }
         },
         "name": "BEV300",
         "orientation": "v",
         "showlegend": false,
         "textfont": {
          "size": 11
         },
         "textposition": "auto",
         "texttemplate": "%{y:.2f}",
         "type": "bar",
         "x": [
          "retired cap"
         ],
         "xaxis": "x5",
         "y": {
          "bdata": "77dD8FP0Yb8=",
          "dtype": "f8"
         },
         "yaxis": "y5"
        },
        {
         "hovertemplate": "fuel=BEV300<br>cap type=%{x}<br>mode=LD Truck<br>vintage=2050<br>capacity=%{y}<extra></extra>",
         "legendgroup": "BEV300, retired cap",
         "marker": {
          "color": "rgb(128, 186, 90)",
          "pattern": {
           "shape": "/"
          }
         },
         "name": "BEV300",
         "orientation": "v",
         "showlegend": false,
         "textfont": {
          "size": 11
         },
         "textposition": "auto",
         "texttemplate": "%{y:.2f}",
         "type": "bar",
         "x": [
          "retired cap"
         ],
         "xaxis": "x7",
         "y": {
          "bdata": "RtPf6K0DUr8=",
          "dtype": "f8"
         },
         "yaxis": "y7"
        },
        {
         "hovertemplate": "fuel=HEV<br>cap type=%{x}<br>mode=LD Car<br>vintage=2025<br>capacity=%{y}<extra></extra>",
         "legendgroup": "HEV, retired cap",
         "marker": {
          "color": "rgb(0, 134, 149)",
          "pattern": {
           "shape": "/"
          }
         },
         "name": "HEV",
         "orientation": "v",
         "showlegend": false,
         "textfont": {
          "size": 11
         },
         "textposition": "auto",
         "texttemplate": "%{y:.2f}",
         "type": "bar",
         "x": [
          "retired cap"
         ],
         "xaxis": "x9",
         "y": {
          "bdata": "JQ5E3L1Yf78=",
          "dtype": "f8"
         },
         "yaxis": "y9"
        },
        {
         "hovertemplate": "fuel=HEV<br>cap type=%{x}<br>mode=LD Car<br>vintage=2030<br>capacity=%{y}<extra></extra>",
         "legendgroup": "HEV, retired cap",
         "marker": {
          "color": "rgb(0, 134, 149)",
          "pattern": {
           "shape": "/"
          }
         },
         "name": "HEV",
         "orientation": "v",
         "showlegend": false,
         "textfont": {
          "size": 11
         },
         "textposition": "auto",
         "texttemplate": "%{y:.2f}",
         "type": "bar",
         "x": [
          "retired cap"
         ],
         "xaxis": "x10",
         "y": {
          "bdata": "qhWPRvncm78=",
          "dtype": "f8"
         },
         "yaxis": "y10"
        },
        {
         "hovertemplate": "fuel=HEV<br>cap type=%{x}<br>mode=LD Car<br>vintage=2035<br>capacity=%{y}<extra></extra>",
         "legendgroup": "HEV, retired cap",
         "marker": {
          "color": "rgb(0, 134, 149)",
          "pattern": {
           "shape": "/"
          }
         },
         "name": "HEV",
         "orientation": "v",
         "showlegend": false,
         "textfont": {
          "size": 11
         },
         "textposition": "auto",
         "texttemplate": "%{y:.2f}",
         "type": "bar",
         "x": [
          "retired cap"
         ],
         "xaxis": "x11",
         "y": {
          "bdata": "JLLtt4ZhmL8=",
          "dtype": "f8"
         },
         "yaxis": "y11"
        },
        {
         "hovertemplate": "fuel=HEV<br>cap type=%{x}<br>mode=LD Car<br>vintage=2040<br>capacity=%{y}<extra></extra>",
         "legendgroup": "HEV, retired cap",
         "marker": {
          "color": "rgb(0, 134, 149)",
          "pattern": {
           "shape": "/"
          }
         },
         "name": "HEV",
         "orientation": "v",
         "showlegend": false,
         "textfont": {
          "size": 11
         },
         "textposition": "auto",
         "texttemplate": "%{y:.2f}",
         "type": "bar",
         "x": [
          "retired cap"
         ],
         "xaxis": "x12",
         "y": {
          "bdata": "ZmH8n3hcf78=",
          "dtype": "f8"
         },
         "yaxis": "y12"
        },
        {
         "hovertemplate": "fuel=HEV<br>cap type=%{x}<br>mode=LD Car<br>vintage=2045<br>capacity=%{y}<extra></extra>",
         "legendgroup": "HEV, retired cap",
         "marker": {
          "color": "rgb(0, 134, 149)",
          "pattern": {
           "shape": "/"
          }
         },
         "name": "HEV",
         "orientation": "v",
         "showlegend": false,
         "textfont": {
          "size": 11
         },
         "textposition": "auto",
         "texttemplate": "%{y:.2f}",
         "type": "bar",
         "x": [
          "retired cap"
         ],
         "xaxis": "x13",
         "y": {
          "bdata": "YvB/UFVhiL8=",
          "dtype": "f8"
         },
         "yaxis": "y13"
        },
        {
         "hovertemplate": "fuel=HEV<br>cap type=%{x}<br>mode=LD Truck<br>vintage=2030<br>capacity=%{y}<extra></extra>",
         "legendgroup": "HEV, retired cap",
         "marker": {
          "color": "rgb(0, 134, 149)",
          "pattern": {
           "shape": "/"
          }
         },
         "name": "HEV",
         "orientation": "v",
         "showlegend": false,
         "textfont": {
          "size": 11
         },
         "textposition": "auto",
         "texttemplate": "%{y:.2f}",
         "type": "bar",
         "x": [
          "retired cap"
         ],
         "xaxis": "x3",
         "y": {
          "bdata": "xYBcC0SZcr8=",
          "dtype": "f8"
         },
         "yaxis": "y3"
        },
        {
         "hovertemplate": "fuel=HEV<br>cap type=%{x}<br>mode=LD Truck<br>vintage=2035<br>capacity=%{y}<extra></extra>",
         "legendgroup": "HEV, retired cap",
         "marker": {
          "color": "rgb(0, 134, 149)",
          "pattern": {
           "shape": "/"
          }
         },
         "name": "HEV",
         "orientation": "v",
         "showlegend": false,
         "textfont": {
          "size": 11
         },
         "textposition": "auto",
         "texttemplate": "%{y:.2f}",
         "type": "bar",
         "x": [
          "retired cap"
         ],
         "xaxis": "x4",
         "y": {
          "bdata": "oEpOgNeVW78=",
          "dtype": "f8"
         },
         "yaxis": "y4"
        },
        {
         "hovertemplate": "fuel=HEV<br>cap type=%{x}<br>mode=LD Truck<br>vintage=2040<br>capacity=%{y}<extra></extra>",
         "legendgroup": "HEV, retired cap",
         "marker": {
          "color": "rgb(0, 134, 149)",
          "pattern": {
           "shape": "/"
          }
         },
         "name": "HEV",
         "orientation": "v",
         "showlegend": false,
         "textfont": {
          "size": 11
         },
         "textposition": "auto",
         "texttemplate": "%{y:.2f}",
         "type": "bar",
         "x": [
          "retired cap"
         ],
         "xaxis": "x5",
         "y": {
          "bdata": "si+hKg6cgr8=",
          "dtype": "f8"
         },
         "yaxis": "y5"
        },
        {
         "hovertemplate": "fuel=HEV<br>cap type=%{x}<br>mode=LD Truck<br>vintage=2050<br>capacity=%{y}<extra></extra>",
         "legendgroup": "HEV, retired cap",
         "marker": {
          "color": "rgb(0, 134, 149)",
          "pattern": {
           "shape": "/"
          }
         },
         "name": "HEV",
         "orientation": "v",
         "showlegend": false,
         "textfont": {
          "size": 11
         },
         "textposition": "auto",
         "texttemplate": "%{y:.2f}",
         "type": "bar",
         "x": [
          "retired cap"
         ],
         "xaxis": "x7",
         "y": {
          "bdata": "SHrGYXiqcr8=",
          "dtype": "f8"
         },
         "yaxis": "y7"
        },
        {
         "hovertemplate": "fuel=PHEV35<br>cap type=%{x}<br>mode=LD Car<br>vintage=2030<br>capacity=%{y}<extra></extra>",
         "legendgroup": "PHEV35, retired cap",
         "marker": {
          "color": "rgb(207, 28, 144)",
          "pattern": {
           "shape": "/"
          }
         },
         "name": "PHEV35",
         "orientation": "v",
         "showlegend": false,
         "textfont": {
          "size": 11
         },
         "textposition": "auto",
         "texttemplate": "%{y:.2f}",
         "type": "bar",
         "x": [
          "retired cap"
         ],
         "xaxis": "x10",
         "y": {
          "bdata": "opNu6uXHfL8=",
          "dtype": "f8"
         },
         "yaxis": "y10"
        },
        {
         "hovertemplate": "fuel=PHEV35<br>cap type=%{x}<br>mode=LD Car<br>vintage=2035<br>capacity=%{y}<extra></extra>",
         "legendgroup": "PHEV35, retired cap",
         "marker": {
          "color": "rgb(207, 28, 144)",
          "pattern": {
           "shape": "/"
          }
         },
         "name": "PHEV35",
         "orientation": "v",
         "showlegend": false,
         "textfont": {
          "size": 11
         },
         "textposition": "auto",
         "texttemplate": "%{y:.2f}",
         "type": "bar",
         "x": [
          "retired cap"
         ],
         "xaxis": "x11",
         "y": {
          "bdata": "igA/ruJKh78=",
          "dtype": "f8"
         },
         "yaxis": "y11"
        },
        {
         "hovertemplate": "fuel=PHEV35<br>cap type=%{x}<br>mode=LD Car<br>vintage=2045<br>capacity=%{y}<extra></extra>",
         "legendgroup": "PHEV35, retired cap",
         "marker": {
          "color": "rgb(207, 28, 144)",
          "pattern": {
           "shape": "/"
          }
         },
         "name": "PHEV35",
         "orientation": "v",
         "showlegend": false,
         "textfont": {
          "size": 11
         },
         "textposition": "auto",
         "texttemplate": "%{y:.2f}",
         "type": "bar",
         "x": [
          "retired cap"
         ],
         "xaxis": "x13",
         "y": {
          "bdata": "jW8PUbxLd78=",
          "dtype": "f8"
         },
         "yaxis": "y13"
        },
        {
         "hovertemplate": "fuel=PHEV35<br>cap type=%{x}<br>mode=LD Truck<br>vintage=2030<br>capacity=%{y}<extra></extra>",
         "legendgroup": "PHEV35, retired cap",
         "marker": {
          "color": "rgb(207, 28, 144)",
          "pattern": {
           "shape": "/"
          }
         },
         "name": "PHEV35",
         "orientation": "v",
         "showlegend": false,
         "textfont": {
          "size": 11
         },
         "textposition": "auto",
         "texttemplate": "%{y:.2f}",
         "type": "bar",
         "x": [
          "retired cap"
         ],
         "xaxis": "x3",
         "y": {
          "bdata": "ul0gvoXdVb8=",
          "dtype": "f8"
         },
         "yaxis": "y3"
        },
        {
         "hovertemplate": "fuel=PHEV35<br>cap type=%{x}<br>mode=LD Truck<br>vintage=2040<br>capacity=%{y}<extra></extra>",
         "legendgroup": "PHEV35, retired cap",
         "marker": {
          "color": "rgb(207, 28, 144)",
          "pattern": {
           "shape": "/"
          }
         },
         "name": "PHEV35",
         "orientation": "v",
         "showlegend": false,
         "textfont": {
          "size": 11
         },
         "textposition": "auto",
         "texttemplate": "%{y:.2f}",
         "type": "bar",
         "x": [
          "retired cap"
         ],
         "xaxis": "x5",
         "y": {
          "bdata": "rZM60/zhZb8=",
          "dtype": "f8"
         },
         "yaxis": "y5"
        },
        {
         "hovertemplate": "fuel=PHEV35<br>cap type=%{x}<br>mode=LD Truck<br>vintage=2050<br>capacity=%{y}<extra></extra>",
         "legendgroup": "PHEV35, retired cap",
         "marker": {
          "color": "rgb(207, 28, 144)",
          "pattern": {
           "shape": "/"
          }
         },
         "name": "PHEV35",
         "orientation": "v",
         "showlegend": false,
         "textfont": {
          "size": 11
         },
         "textposition": "auto",
         "texttemplate": "%{y:.2f}",
         "type": "bar",
         "x": [
          "retired cap"
         ],
         "xaxis": "x7",
         "y": {
          "bdata": "AtX8QQz1Vb8=",
          "dtype": "f8"
         },
         "yaxis": "y7"
        },
        {
         "legendgroup": "Blank",
         "marker": {
          "color": "rgba(0,0,0,0)"
         },
         "name": "",
         "showlegend": true,
         "textfont": {
          "size": 11
         },
         "type": "bar",
         "x": [
          null
         ],
         "y": [
          null
         ]
        },
        {
         "legendgroup": "Capacity type",
         "legendgrouptitle": {
          "text": "Capacity type"
         },
         "marker": {
          "color": "rgba(0,0,0,0)",
          "line": {
           "color": "black",
           "width": 1
          },
          "pattern": {
           "shape": ""
          }
         },
         "name": "Net capacity",
         "showlegend": true,
         "textfont": {
          "size": 11
         },
         "type": "bar",
         "x": [
          null
         ],
         "y": [
          null
         ]
        },
        {
         "legendgroup": "Capacity type",
         "marker": {
          "color": "rgba(0,0,0,0)",
          "line": {
           "color": "black",
           "width": 1
          },
          "pattern": {
           "shape": "."
          }
         },
         "name": "New capacity",
         "showlegend": true,
         "textfont": {
          "size": 11
         },
         "type": "bar",
         "x": [
          null
         ],
         "y": [
          null
         ]
        },
        {
         "legendgroup": "Capacity type",
         "marker": {
          "color": "rgba(0,0,0,0)",
          "line": {
           "color": "black",
           "width": 1
          },
          "pattern": {
           "shape": "/"
          }
         },
         "name": "Retired capacity",
         "showlegend": true,
         "textfont": {
          "size": 11
         },
         "type": "bar",
         "x": [
          null
         ],
         "y": [
          null
         ]
        }
       ],
       "layout": {
        "annotations": [
         {
          "showarrow": false,
          "text": "2021",
          "x": 0.06142857142857142,
          "xanchor": "center",
          "xref": "paper",
          "y": 0.005,
          "yanchor": "top",
          "yref": "paper"
         },
         {
          "showarrow": false,
          "text": "2025",
          "x": 0.20428571428571426,
          "xanchor": "center",
          "xref": "paper",
          "y": 0.005,
          "yanchor": "top",
          "yref": "paper"
         },
         {
          "showarrow": false,
          "text": "2030",
          "x": 0.3471428571428571,
          "xanchor": "center",
          "xref": "paper",
          "y": 0.005,
          "yanchor": "top",
          "yref": "paper"
         },
         {
          "showarrow": false,
          "text": "2035",
          "x": 0.49,
          "xanchor": "center",
          "xref": "paper",
          "y": 0.005,
          "yanchor": "top",
          "yref": "paper"
         },
         {
          "showarrow": false,
          "text": "2040",
          "x": 0.6328571428571428,
          "xanchor": "center",
          "xref": "paper",
          "y": 0.005,
          "yanchor": "top",
          "yref": "paper"
         },
         {
          "showarrow": false,
          "text": "2045",
          "x": 0.7757142857142856,
          "xanchor": "center",
          "xref": "paper",
          "y": 0.005,
          "yanchor": "top",
          "yref": "paper"
         },
         {
          "showarrow": false,
          "text": "2050",
          "x": 0.9185714285714286,
          "xanchor": "center",
          "xref": "paper",
          "y": 0.005,
          "yanchor": "top",
          "yref": "paper"
         },
         {
          "font": {
           "size": 16
          },
          "showarrow": false,
          "text": "Class: LD Truck",
          "textangle": 90,
          "x": 1.01,
          "xanchor": "center",
          "xref": "paper",
          "y": 0.2475,
          "yanchor": "middle",
          "yref": "paper"
         },
         {
          "font": {
           "size": 16
          },
          "showarrow": false,
          "text": "Class: LD Car",
          "textangle": 90,
          "x": 1.01,
          "xanchor": "center",
          "xref": "paper",
          "y": 0.7525,
          "yanchor": "middle",
          "yref": "paper"
         },
         {
          "font": {
           "size": 17
          },
          "showarrow": false,
          "text": "Fleet capacity (M units)",
          "textangle": -90,
          "x": -0.07,
          "xref": "paper",
          "y": 0.5,
          "yref": "paper"
         }
        ],
        "bargap": 0.1,
        "barmode": "relative",
        "font": {
         "size": 15
        },
        "height": 800,
        "legend": {
         "orientation": "v",
         "title": {
          "text": "Fuel type"
         },
         "tracegroupgap": 0,
         "x": 1.15,
         "xanchor": "center",
         "y": 0.8,
         "yanchor": "top"
        },
        "margin": {
         "b": 10,
         "t": 10
        },
        "template": {
         "data": {
          "bar": [
           {
            "error_x": {
             "color": "#2a3f5f"
            },
            "error_y": {
             "color": "#2a3f5f"
            },
            "marker": {
             "line": {
              "color": "white",
              "width": 0.5
             },
             "pattern": {
              "fillmode": "overlay",
              "size": 10,
              "solidity": 0.2
             }
            },
            "type": "bar"
           }
          ],
          "barpolar": [
           {
            "marker": {
             "line": {
              "color": "white",
              "width": 0.5
             },
             "pattern": {
              "fillmode": "overlay",
              "size": 10,
              "solidity": 0.2
             }
            },
            "type": "barpolar"
           }
          ],
          "carpet": [
           {
            "aaxis": {
             "endlinecolor": "#2a3f5f",
             "gridcolor": "#C8D4E3",
             "linecolor": "#C8D4E3",
             "minorgridcolor": "#C8D4E3",
             "startlinecolor": "#2a3f5f"
            },
            "baxis": {
             "endlinecolor": "#2a3f5f",
             "gridcolor": "#C8D4E3",
             "linecolor": "#C8D4E3",
             "minorgridcolor": "#C8D4E3",
             "startlinecolor": "#2a3f5f"
            },
            "type": "carpet"
           }
          ],
          "choropleth": [
           {
            "colorbar": {
             "outlinewidth": 0,
             "ticks": ""
            },
            "type": "choropleth"
           }
          ],
          "contour": [
           {
            "colorbar": {
             "outlinewidth": 0,
             "ticks": ""
            },
            "colorscale": [
             [
              0,
              "#0d0887"
             ],
             [
              0.1111111111111111,
              "#46039f"
             ],
             [
              0.2222222222222222,
              "#7201a8"
             ],
             [
              0.3333333333333333,
              "#9c179e"
             ],
             [
              0.4444444444444444,
              "#bd3786"
             ],
             [
              0.5555555555555556,
              "#d8576b"
             ],
             [
              0.6666666666666666,
              "#ed7953"
             ],
             [
              0.7777777777777778,
              "#fb9f3a"
             ],
             [
              0.8888888888888888,
              "#fdca26"
             ],
             [
              1,
              "#f0f921"
             ]
            ],
            "type": "contour"
           }
          ],
          "contourcarpet": [
           {
            "colorbar": {
             "outlinewidth": 0,
             "ticks": ""
            },
            "type": "contourcarpet"
           }
          ],
          "heatmap": [
           {
            "colorbar": {
             "outlinewidth": 0,
             "ticks": ""
            },
            "colorscale": [
             [
              0,
              "#0d0887"
             ],
             [
              0.1111111111111111,
              "#46039f"
             ],
             [
              0.2222222222222222,
              "#7201a8"
             ],
             [
              0.3333333333333333,
              "#9c179e"
             ],
             [
              0.4444444444444444,
              "#bd3786"
             ],
             [
              0.5555555555555556,
              "#d8576b"
             ],
             [
              0.6666666666666666,
              "#ed7953"
             ],
             [
              0.7777777777777778,
              "#fb9f3a"
             ],
             [
              0.8888888888888888,
              "#fdca26"
             ],
             [
              1,
              "#f0f921"
             ]
            ],
            "type": "heatmap"
           }
          ],
          "histogram": [
           {
            "marker": {
             "pattern": {
              "fillmode": "overlay",
              "size": 10,
              "solidity": 0.2
             }
            },
            "type": "histogram"
           }
          ],
          "histogram2d": [
           {
            "colorbar": {
             "outlinewidth": 0,
             "ticks": ""
            },
            "colorscale": [
             [
              0,
              "#0d0887"
             ],
             [
              0.1111111111111111,
              "#46039f"
             ],
             [
              0.2222222222222222,
              "#7201a8"
             ],
             [
              0.3333333333333333,
              "#9c179e"
             ],
             [
              0.4444444444444444,
              "#bd3786"
             ],
             [
              0.5555555555555556,
              "#d8576b"
             ],
             [
              0.6666666666666666,
              "#ed7953"
             ],
             [
              0.7777777777777778,
              "#fb9f3a"
             ],
             [
              0.8888888888888888,
              "#fdca26"
             ],
             [
              1,
              "#f0f921"
             ]
            ],
            "type": "histogram2d"
           }
          ],
          "histogram2dcontour": [
           {
            "colorbar": {
             "outlinewidth": 0,
             "ticks": ""
            },
            "colorscale": [
             [
              0,
              "#0d0887"
             ],
             [
              0.1111111111111111,
              "#46039f"
             ],
             [
              0.2222222222222222,
              "#7201a8"
             ],
             [
              0.3333333333333333,
              "#9c179e"
             ],
             [
              0.4444444444444444,
              "#bd3786"
             ],
             [
              0.5555555555555556,
              "#d8576b"
             ],
             [
              0.6666666666666666,
              "#ed7953"
             ],
             [
              0.7777777777777778,
              "#fb9f3a"
             ],
             [
              0.8888888888888888,
              "#fdca26"
             ],
             [
              1,
              "#f0f921"
             ]
            ],
            "type": "histogram2dcontour"
           }
          ],
          "mesh3d": [
           {
            "colorbar": {
             "outlinewidth": 0,
             "ticks": ""
            },
            "type": "mesh3d"
           }
          ],
          "parcoords": [
           {
            "line": {
             "colorbar": {
              "outlinewidth": 0,
              "ticks": ""
             }
            },
            "type": "parcoords"
           }
          ],
          "pie": [
           {
            "automargin": true,
            "type": "pie"
           }
          ],
          "scatter": [
           {
            "fillpattern": {
             "fillmode": "overlay",
             "size": 10,
             "solidity": 0.2
            },
            "type": "scatter"
           }
          ],
          "scatter3d": [
           {
            "line": {
             "colorbar": {
              "outlinewidth": 0,
              "ticks": ""
             }
            },
            "marker": {
             "colorbar": {
              "outlinewidth": 0,
              "ticks": ""
             }
            },
            "type": "scatter3d"
           }
          ],
          "scattercarpet": [
           {
            "marker": {
             "colorbar": {
              "outlinewidth": 0,
              "ticks": ""
             }
            },
            "type": "scattercarpet"
           }
          ],
          "scattergeo": [
           {
            "marker": {
             "colorbar": {
              "outlinewidth": 0,
              "ticks": ""
             }
            },
            "type": "scattergeo"
           }
          ],
          "scattergl": [
           {
            "marker": {
             "colorbar": {
              "outlinewidth": 0,
              "ticks": ""
             }
            },
            "type": "scattergl"
           }
          ],
          "scattermap": [
           {
            "marker": {
             "colorbar": {
              "outlinewidth": 0,
              "ticks": ""
             }
            },
            "type": "scattermap"
           }
          ],
          "scattermapbox": [
           {
            "marker": {
             "colorbar": {
              "outlinewidth": 0,
              "ticks": ""
             }
            },
            "type": "scattermapbox"
           }
          ],
          "scatterpolar": [
           {
            "marker": {
             "colorbar": {
              "outlinewidth": 0,
              "ticks": ""
             }
            },
            "type": "scatterpolar"
           }
          ],
          "scatterpolargl": [
           {
            "marker": {
             "colorbar": {
              "outlinewidth": 0,
              "ticks": ""
             }
            },
            "type": "scatterpolargl"
           }
          ],
          "scatterternary": [
           {
            "marker": {
             "colorbar": {
              "outlinewidth": 0,
              "ticks": ""
             }
            },
            "type": "scatterternary"
           }
          ],
          "surface": [
           {
            "colorbar": {
             "outlinewidth": 0,
             "ticks": ""
            },
            "colorscale": [
             [
              0,
              "#0d0887"
             ],
             [
              0.1111111111111111,
              "#46039f"
             ],
             [
              0.2222222222222222,
              "#7201a8"
             ],
             [
              0.3333333333333333,
              "#9c179e"
             ],
             [
              0.4444444444444444,
              "#bd3786"
             ],
             [
              0.5555555555555556,
              "#d8576b"
             ],
             [
              0.6666666666666666,
              "#ed7953"
             ],
             [
              0.7777777777777778,
              "#fb9f3a"
             ],
             [
              0.8888888888888888,
              "#fdca26"
             ],
             [
              1,
              "#f0f921"
             ]
            ],
            "type": "surface"
           }
          ],
          "table": [
           {
            "cells": {
             "fill": {
              "color": "#EBF0F8"
             },
             "line": {
              "color": "white"
             }
            },
            "header": {
             "fill": {
              "color": "#C8D4E3"
             },
             "line": {
              "color": "white"
             }
            },
            "type": "table"
           }
          ]
         },
         "layout": {
          "annotationdefaults": {
           "arrowcolor": "#2a3f5f",
           "arrowhead": 0,
           "arrowwidth": 1
          },
          "autotypenumbers": "strict",
          "coloraxis": {
           "colorbar": {
            "outlinewidth": 0,
            "ticks": ""
           }
          },
          "colorscale": {
           "diverging": [
            [
             0,
             "#8e0152"
            ],
            [
             0.1,
             "#c51b7d"
            ],
            [
             0.2,
             "#de77ae"
            ],
            [
             0.3,
             "#f1b6da"
            ],
            [
             0.4,
             "#fde0ef"
            ],
            [
             0.5,
             "#f7f7f7"
            ],
            [
             0.6,
             "#e6f5d0"
            ],
            [
             0.7,
             "#b8e186"
            ],
            [
             0.8,
             "#7fbc41"
            ],
            [
             0.9,
             "#4d9221"
            ],
            [
             1,
             "#276419"
            ]
           ],
           "sequential": [
            [
             0,
             "#0d0887"
            ],
            [
             0.1111111111111111,
             "#46039f"
            ],
            [
             0.2222222222222222,
             "#7201a8"
            ],
            [
             0.3333333333333333,
             "#9c179e"
            ],
            [
             0.4444444444444444,
             "#bd3786"
            ],
            [
             0.5555555555555556,
             "#d8576b"
            ],
            [
             0.6666666666666666,
             "#ed7953"
            ],
            [
             0.7777777777777778,
             "#fb9f3a"
            ],
            [
             0.8888888888888888,
             "#fdca26"
            ],
            [
             1,
             "#f0f921"
            ]
           ],
           "sequentialminus": [
            [
             0,
             "#0d0887"
            ],
            [
             0.1111111111111111,
             "#46039f"
            ],
            [
             0.2222222222222222,
             "#7201a8"
            ],
            [
             0.3333333333333333,
             "#9c179e"
            ],
            [
             0.4444444444444444,
             "#bd3786"
            ],
            [
             0.5555555555555556,
             "#d8576b"
            ],
            [
             0.6666666666666666,
             "#ed7953"
            ],
            [
             0.7777777777777778,
             "#fb9f3a"
            ],
            [
             0.8888888888888888,
             "#fdca26"
            ],
            [
             1,
             "#f0f921"
            ]
           ]
          },
          "colorway": [
           "#636efa",
           "#EF553B",
           "#00cc96",
           "#ab63fa",
           "#FFA15A",
           "#19d3f3",
           "#FF6692",
           "#B6E880",
           "#FF97FF",
           "#FECB52"
          ],
          "font": {
           "color": "#2a3f5f"
          },
          "geo": {
           "bgcolor": "white",
           "lakecolor": "white",
           "landcolor": "white",
           "showlakes": true,
           "showland": true,
           "subunitcolor": "#C8D4E3"
          },
          "hoverlabel": {
           "align": "left"
          },
          "hovermode": "closest",
          "mapbox": {
           "style": "light"
          },
          "paper_bgcolor": "white",
          "plot_bgcolor": "white",
          "polar": {
           "angularaxis": {
            "gridcolor": "#EBF0F8",
            "linecolor": "#EBF0F8",
            "ticks": ""
           },
           "bgcolor": "white",
           "radialaxis": {
            "gridcolor": "#EBF0F8",
            "linecolor": "#EBF0F8",
            "ticks": ""
           }
          },
          "scene": {
           "xaxis": {
            "backgroundcolor": "white",
            "gridcolor": "#DFE8F3",
            "gridwidth": 2,
            "linecolor": "#EBF0F8",
            "showbackground": true,
            "ticks": "",
            "zerolinecolor": "#EBF0F8"
           },
           "yaxis": {
            "backgroundcolor": "white",
            "gridcolor": "#DFE8F3",
            "gridwidth": 2,
            "linecolor": "#EBF0F8",
            "showbackground": true,
            "ticks": "",
            "zerolinecolor": "#EBF0F8"
           },
           "zaxis": {
            "backgroundcolor": "white",
            "gridcolor": "#DFE8F3",
            "gridwidth": 2,
            "linecolor": "#EBF0F8",
            "showbackground": true,
            "ticks": "",
            "zerolinecolor": "#EBF0F8"
           }
          },
          "shapedefaults": {
           "line": {
            "color": "#2a3f5f"
           }
          },
          "ternary": {
           "aaxis": {
            "gridcolor": "#DFE8F3",
            "linecolor": "#A2B1C6",
            "ticks": ""
           },
           "baxis": {
            "gridcolor": "#DFE8F3",
            "linecolor": "#A2B1C6",
            "ticks": ""
           },
           "bgcolor": "white",
           "caxis": {
            "gridcolor": "#DFE8F3",
            "linecolor": "#A2B1C6",
            "ticks": ""
           }
          },
          "title": {
           "x": 0.05
          },
          "xaxis": {
           "automargin": true,
           "gridcolor": "#EBF0F8",
           "linecolor": "#EBF0F8",
           "ticks": "",
           "title": {
            "standoff": 15
           },
           "zerolinecolor": "#EBF0F8",
           "zerolinewidth": 2
          },
          "yaxis": {
           "automargin": true,
           "gridcolor": "#EBF0F8",
           "linecolor": "#EBF0F8",
           "ticks": "",
           "title": {
            "standoff": 15
           },
           "zerolinecolor": "#EBF0F8",
           "zerolinewidth": 2
          }
         }
        },
        "title": {
         "text": "Transport LDV fleet stock and flow in ON by vehicle class and drivetrain",
         "x": 0.5,
         "xanchor": "center",
         "y": 0.98,
         "yanchor": "top"
        },
        "width": 1200,
        "xaxis": {
         "anchor": "y",
         "categoryarray": [
          "net capacity",
          "new capacity",
          "retired cap"
         ],
         "categoryorder": "array",
         "domain": [
          0,
          0.12285714285714285
         ],
         "showticklabels": false,
         "title": {
          "text": ""
         }
        },
        "xaxis10": {
         "anchor": "y10",
         "domain": [
          0.2857142857142857,
          0.40857142857142853
         ],
         "matches": "x",
         "showticklabels": false,
         "title": {
          "text": ""
         }
        },
        "xaxis11": {
         "anchor": "y11",
         "domain": [
          0.42857142857142855,
          0.5514285714285714
         ],
         "matches": "x",
         "showticklabels": false,
         "title": {
          "text": ""
         }
        },
        "xaxis12": {
         "anchor": "y12",
         "domain": [
          0.5714285714285714,
          0.6942857142857143
         ],
         "matches": "x",
         "showticklabels": false,
         "title": {
          "text": ""
         }
        },
        "xaxis13": {
         "anchor": "y13",
         "domain": [
          0.7142857142857142,
          0.8371428571428571
         ],
         "matches": "x",
         "showticklabels": false,
         "title": {
          "text": ""
         }
        },
        "xaxis14": {
         "anchor": "y14",
         "domain": [
          0.8571428571428571,
          0.98
         ],
         "matches": "x",
         "showticklabels": false,
         "title": {
          "text": ""
         }
        },
        "xaxis2": {
         "anchor": "y2",
         "categoryarray": [
          "net capacity",
          "new capacity",
          "retired cap"
         ],
         "categoryorder": "array",
         "domain": [
          0.14285714285714285,
          0.2657142857142857
         ],
         "matches": "x",
         "showticklabels": false,
         "title": {
          "text": ""
         }
        },
        "xaxis3": {
         "anchor": "y3",
         "categoryarray": [
          "net capacity",
          "new capacity",
          "retired cap"
         ],
         "categoryorder": "array",
         "domain": [
          0.2857142857142857,
          0.40857142857142853
         ],
         "matches": "x",
         "showticklabels": false,
         "title": {
          "text": ""
         }
        },
        "xaxis4": {
         "anchor": "y4",
         "categoryarray": [
          "net capacity",
          "new capacity",
          "retired cap"
         ],
         "categoryorder": "array",
         "domain": [
          0.42857142857142855,
          0.5514285714285714
         ],
         "matches": "x",
         "showticklabels": false,
         "title": {
          "text": ""
         }
        },
        "xaxis5": {
         "anchor": "y5",
         "categoryarray": [
          "net capacity",
          "new capacity",
          "retired cap"
         ],
         "categoryorder": "array",
         "domain": [
          0.5714285714285714,
          0.6942857142857143
         ],
         "matches": "x",
         "showticklabels": false,
         "title": {
          "text": ""
         }
        },
        "xaxis6": {
         "anchor": "y6",
         "categoryarray": [
          "net capacity",
          "new capacity",
          "retired cap"
         ],
         "categoryorder": "array",
         "domain": [
          0.7142857142857142,
          0.8371428571428571
         ],
         "matches": "x",
         "showticklabels": false,
         "title": {
          "text": ""
         }
        },
        "xaxis7": {
         "anchor": "y7",
         "categoryarray": [
          "net capacity",
          "new capacity",
          "retired cap"
         ],
         "categoryorder": "array",
         "domain": [
          0.8571428571428571,
          0.98
         ],
         "matches": "x",
         "showticklabels": false,
         "title": {
          "text": ""
         }
        },
        "xaxis8": {
         "anchor": "y8",
         "domain": [
          0,
          0.12285714285714285
         ],
         "matches": "x",
         "showticklabels": false,
         "title": {
          "text": ""
         }
        },
        "xaxis9": {
         "anchor": "y9",
         "domain": [
          0.14285714285714285,
          0.2657142857142857
         ],
         "matches": "x",
         "showticklabels": false,
         "title": {
          "text": ""
         }
        },
        "yaxis": {
         "anchor": "x",
         "domain": [
          0,
          0.495
         ],
         "title": {
          "standoff": 0,
          "text": ""
         }
        },
        "yaxis10": {
         "anchor": "x10",
         "domain": [
          0.505,
          1
         ],
         "matches": "y",
         "showticklabels": false,
         "title": {
          "text": ""
         }
        },
        "yaxis11": {
         "anchor": "x11",
         "domain": [
          0.505,
          1
         ],
         "matches": "y",
         "showticklabels": false,
         "title": {
          "text": ""
         }
        },
        "yaxis12": {
         "anchor": "x12",
         "domain": [
          0.505,
          1
         ],
         "matches": "y",
         "showticklabels": false,
         "title": {
          "text": ""
         }
        },
        "yaxis13": {
         "anchor": "x13",
         "domain": [
          0.505,
          1
         ],
         "matches": "y",
         "showticklabels": false,
         "title": {
          "text": ""
         }
        },
        "yaxis14": {
         "anchor": "x14",
         "domain": [
          0.505,
          1
         ],
         "matches": "y",
         "showticklabels": false,
         "title": {
          "text": ""
         }
        },
        "yaxis2": {
         "anchor": "x2",
         "domain": [
          0,
          0.495
         ],
         "matches": "y",
         "showticklabels": false,
         "title": {
          "text": ""
         }
        },
        "yaxis3": {
         "anchor": "x3",
         "domain": [
          0,
          0.495
         ],
         "matches": "y",
         "showticklabels": false,
         "title": {
          "text": ""
         }
        },
        "yaxis4": {
         "anchor": "x4",
         "domain": [
          0,
          0.495
         ],
         "matches": "y",
         "showticklabels": false,
         "title": {
          "text": ""
         }
        },
        "yaxis5": {
         "anchor": "x5",
         "domain": [
          0,
          0.495
         ],
         "matches": "y",
         "showticklabels": false,
         "title": {
          "text": ""
         }
        },
        "yaxis6": {
         "anchor": "x6",
         "domain": [
          0,
          0.495
         ],
         "matches": "y",
         "showticklabels": false,
         "title": {
          "text": ""
         }
        },
        "yaxis7": {
         "anchor": "x7",
         "domain": [
          0,
          0.495
         ],
         "matches": "y",
         "showticklabels": false,
         "title": {
          "text": ""
         }
        },
        "yaxis8": {
         "anchor": "x8",
         "domain": [
          0.505,
          1
         ],
         "matches": "y",
         "title": {
          "text": ""
         }
        },
        "yaxis9": {
         "anchor": "x9",
         "domain": [
          0.505,
          1
         ],
         "matches": "y",
         "showticklabels": false,
         "title": {
          "text": ""
         }
        }
       }
      }
     },
     "metadata": {},
     "output_type": "display_data"
    }
   ],
   "source": [
    "fig = px.bar(cap, x='cap type', y='capacity', color='fuel', \n",
    "            pattern_shape='cap type', pattern_shape_sequence=[\"\", \".\", \"/\"],\n",
    "            facet_col='vintage', facet_col_spacing=2E-2, \n",
    "            facet_row='mode', facet_row_spacing=1E-2,\n",
    "            category_orders={\"cap type\": [\"net capacity\", \"new capacity\", \"retired cap\"],\n",
    "                             \"fuel\": ['Gasoline', 'Diesel', 'CNG', 'BEV150', 'BEV200', 'BEV300', 'BEV400', 'HEV', 'PHEV35', 'PHEV50', 'FCEV']},\n",
    "            # labels={'capacity': 'Fleet capacity (M units)', 'fuel': 'Fuel type'},\n",
    "            template='plotly_white', orientation='v', color_discrete_sequence=px.colors.qualitative.Bold,\n",
    "            text_auto='.2f',\n",
    "            width=1200, height=800\n",
    "            )\n",
    "\n",
    "dummy_traces = [\n",
    "    dict(\n",
    "        name='',  # Empty legend\n",
    "        x=[None], \n",
    "        y=[None], \n",
    "        marker=dict(color='rgba(0,0,0,0)'),\n",
    "        showlegend=True,\n",
    "        legendgroup='Blank',\n",
    "        legendgrouptitle=None\n",
    "    ),\n",
    "    # dict(\n",
    "    #     name=' ',  # Another empty legend\n",
    "    #     x=[None], \n",
    "    #     y=[None], \n",
    "    #     marker=dict(color='rgba(0,0,0,0)'),\n",
    "    #     showlegend=True,\n",
    "    #     legendgroup='Blank',\n",
    "    #     legendgrouptitle=None   \n",
    "    # ),\n",
    "    dict(\n",
    "        name='Net capacity',\n",
    "        x=[None], \n",
    "        y=[None], \n",
    "        marker=dict(\n",
    "            color='rgba(0,0,0,0)',\n",
    "            line=dict(color='black', width=1),  # Thin black border\n",
    "            pattern_shape=\"\"\n",
    "        ),\n",
    "        showlegend=True,\n",
    "        legendgroup='Capacity type',\n",
    "        legendgrouptitle=dict(text=\"Capacity type\"),\n",
    "    ),\n",
    "    dict(\n",
    "        name='New capacity',\n",
    "        x=[None], \n",
    "        y=[None], \n",
    "        marker=dict(\n",
    "            color='rgba(0,0,0,0)',\n",
    "            line=dict(color='black', width=1),  # Thin black border\n",
    "            pattern_shape=\".\"\n",
    "        ),\n",
    "        showlegend=True,\n",
    "        legendgroup='Capacity type',\n",
    "        legendgrouptitle=None\n",
    "    ),\n",
    "    dict(\n",
    "        name='Retired capacity',\n",
    "        x=[None], \n",
    "        y=[None], \n",
    "        marker=dict(\n",
    "            color='rgba(0,0,0,0)',\n",
    "            line=dict(color='black', width=1),  # Thin black border\n",
    "            pattern_shape=\"/\"\n",
    "        ),\n",
    "        showlegend=True,\n",
    "        legendgroup='Capacity type',\n",
    "        legendgrouptitle=None\n",
    "    )\n",
    "]\n",
    "\n",
    "for trace in dummy_traces:\n",
    "    fig.add_bar(\n",
    "        x=trace['x'], \n",
    "        y=trace['y'], \n",
    "        name=trace['name'], \n",
    "        marker=trace['marker'], \n",
    "        showlegend=trace['showlegend'],\n",
    "        legendgroup=trace['legendgroup'],\n",
    "        legendgrouptitle=trace['legendgrouptitle']\n",
    "    )\n",
    "\n",
    "fig.update_layout(\n",
    "    margin=dict(\n",
    "        t=10, b=10\n",
    "    ),\n",
    "    title=dict(\n",
    "        text='Transport LDV fleet stock and flow in ON by vehicle class and drivetrain',\n",
    "        x=0.5, \n",
    "        y=0.98,\n",
    "        xanchor='center',\n",
    "        yanchor='top'\n",
    "    ),\n",
    "    yaxis_title_standoff=0,\n",
    "    legend_title_text='Fuel type',\n",
    "    bargap=0.1,\n",
    "    legend=dict(\n",
    "        orientation='v',\n",
    "        # entrywidth=50,\n",
    "        yanchor='top',\n",
    "        y=0.8,  \n",
    "        xanchor='center',\n",
    "        x=1.15),\n",
    "    font=dict(\n",
    "        size=15)\n",
    "    )\n",
    "\n",
    "fig.for_each_trace(lambda trace: trace.update(textfont=dict(size=11)))\n",
    "\n",
    "for axis in fig.layout:\n",
    "    if axis.startswith('xaxis'):\n",
    "        fig.layout[axis].title.text = ''\n",
    "        fig.layout[axis].showticklabels = False\n",
    "    if axis.startswith('yaxis'):\n",
    "        fig.layout[axis].title.text = ''\n",
    "        # fig.layout[axis].dtick = 2\n",
    "\n",
    "for annotation in fig.layout.annotations:\n",
    "    if 'mode' in annotation.text:\n",
    "        annotation.text = 'Class: ' + annotation.text.split('=')[1]\n",
    "        annotation.font.size = 16\n",
    "        annotation.x = 1.01\n",
    "        annotation.xanchor = 'center'\n",
    "    else:\n",
    "        annotation.text = annotation.text.split('=')[1]\n",
    "        annotation.y = 0.005\n",
    "        annotation.yanchor = 'top' \n",
    "\n",
    "shown_legends = set()\n",
    "for trace in fig.data:\n",
    "    trace.name = trace.name.split(\",\")[0]\n",
    "    if trace.name not in shown_legends:\n",
    "        trace.showlegend = True\n",
    "        shown_legends.add(trace.name)\n",
    "    else:\n",
    "        trace.showlegend = False\n",
    "\n",
    "fig.add_annotation(\n",
    "    text=\"Fleet capacity (M units)\",\n",
    "    x=-0.07,\n",
    "    y=0.5,\n",
    "    xref=\"paper\",\n",
    "    yref=\"paper\",\n",
    "    showarrow=False,\n",
    "    textangle=-90,\n",
    "    font=dict(size=17))\n",
    "\n",
    "fig.show()\n",
    "\n",
    "# fig.write_image(\"vanilla2_fleet_flow.svg\", scale=1, engine='kaleido')"
   ]
  },
  {
   "cell_type": "code",
   "execution_count": 22,
   "metadata": {},
   "outputs": [
    {
     "data": {
      "application/vnd.plotly.v1+json": {
       "config": {
        "plotlyServerURL": "https://plot.ly"
       },
       "data": [
        {
         "hovertemplate": "life=Survival Q1<br>cap type=%{x}<br>mode=LD Car<br>vintage=2025<br>capacity=%{y}<extra></extra>",
         "legendgroup": "Survival Q1, net capacity",
         "marker": {
          "color": "rgb(127, 60, 141)",
          "pattern": {
           "shape": ""
          }
         },
         "name": "Survival Q1",
         "orientation": "v",
         "showlegend": true,
         "textfont": {
          "size": 11
         },
         "textposition": "auto",
         "texttemplate": "%{y:.2f}",
         "type": "bar",
         "x": [
          "net capacity"
         ],
         "xaxis": "x7",
         "y": {
          "bdata": "Z0fCnL5o8j8=",
          "dtype": "f8"
         },
         "yaxis": "y7"
        },
        {
         "hovertemplate": "life=Survival Q1<br>cap type=%{x}<br>mode=LD Car<br>vintage=2030<br>capacity=%{y}<extra></extra>",
         "legendgroup": "Survival Q1, net capacity",
         "marker": {
          "color": "rgb(127, 60, 141)",
          "pattern": {
           "shape": ""
          }
         },
         "name": "Survival Q1",
         "orientation": "v",
         "showlegend": false,
         "textfont": {
          "size": 11
         },
         "textposition": "auto",
         "texttemplate": "%{y:.2f}",
         "type": "bar",
         "x": [
          "net capacity"
         ],
         "xaxis": "x8",
         "y": {
          "bdata": "Ob+CSPfy6z8=",
          "dtype": "f8"
         },
         "yaxis": "y8"
        },
        {
         "hovertemplate": "life=Survival Q1<br>cap type=%{x}<br>mode=LD Car<br>vintage=2035<br>capacity=%{y}<extra></extra>",
         "legendgroup": "Survival Q1, net capacity",
         "marker": {
          "color": "rgb(127, 60, 141)",
          "pattern": {
           "shape": ""
          }
         },
         "name": "Survival Q1",
         "orientation": "v",
         "showlegend": false,
         "textfont": {
          "size": 11
         },
         "textposition": "auto",
         "texttemplate": "%{y:.2f}",
         "type": "bar",
         "x": [
          "net capacity"
         ],
         "xaxis": "x9",
         "y": {
          "bdata": "2IjuCBNi8T8=",
          "dtype": "f8"
         },
         "yaxis": "y9"
        },
        {
         "hovertemplate": "life=Survival Q1<br>cap type=%{x}<br>mode=LD Car<br>vintage=2040<br>capacity=%{y}<extra></extra>",
         "legendgroup": "Survival Q1, net capacity",
         "marker": {
          "color": "rgb(127, 60, 141)",
          "pattern": {
           "shape": ""
          }
         },
         "name": "Survival Q1",
         "orientation": "v",
         "showlegend": false,
         "textfont": {
          "size": 11
         },
         "textposition": "auto",
         "texttemplate": "%{y:.2f}",
         "type": "bar",
         "x": [
          "net capacity"
         ],
         "xaxis": "x10",
         "y": {
          "bdata": "RPK9qOUc9D8=",
          "dtype": "f8"
         },
         "yaxis": "y10"
        },
        {
         "hovertemplate": "life=Survival Q1<br>cap type=%{x}<br>mode=LD Car<br>vintage=2045<br>capacity=%{y}<extra></extra>",
         "legendgroup": "Survival Q1, net capacity",
         "marker": {
          "color": "rgb(127, 60, 141)",
          "pattern": {
           "shape": ""
          }
         },
         "name": "Survival Q1",
         "orientation": "v",
         "showlegend": false,
         "textfont": {
          "size": 11
         },
         "textposition": "auto",
         "texttemplate": "%{y:.2f}",
         "type": "bar",
         "x": [
          "net capacity"
         ],
         "xaxis": "x11",
         "y": {
          "bdata": "K2TYQ9wd8D8=",
          "dtype": "f8"
         },
         "yaxis": "y11"
        },
        {
         "hovertemplate": "life=Survival Q1<br>cap type=%{x}<br>mode=LD Car<br>vintage=2050<br>capacity=%{y}<extra></extra>",
         "legendgroup": "Survival Q1, net capacity",
         "marker": {
          "color": "rgb(127, 60, 141)",
          "pattern": {
           "shape": ""
          }
         },
         "name": "Survival Q1",
         "orientation": "v",
         "showlegend": false,
         "textfont": {
          "size": 11
         },
         "textposition": "auto",
         "texttemplate": "%{y:.2f}",
         "type": "bar",
         "x": [
          "net capacity"
         ],
         "xaxis": "x12",
         "y": {
          "bdata": "dikixTnK8z8=",
          "dtype": "f8"
         },
         "yaxis": "y12"
        },
        {
         "hovertemplate": "life=Survival Q1<br>cap type=%{x}<br>mode=LD Truck<br>vintage=2025<br>capacity=%{y}<extra></extra>",
         "legendgroup": "Survival Q1, net capacity",
         "marker": {
          "color": "rgb(127, 60, 141)",
          "pattern": {
           "shape": ""
          }
         },
         "name": "Survival Q1",
         "orientation": "v",
         "showlegend": false,
         "textfont": {
          "size": 11
         },
         "textposition": "auto",
         "texttemplate": "%{y:.2f}",
         "type": "bar",
         "x": [
          "net capacity"
         ],
         "xaxis": "x",
         "y": {
          "bdata": "+b6+NwHe8j8=",
          "dtype": "f8"
         },
         "yaxis": "y"
        },
        {
         "hovertemplate": "life=Survival Q1<br>cap type=%{x}<br>mode=LD Truck<br>vintage=2030<br>capacity=%{y}<extra></extra>",
         "legendgroup": "Survival Q1, net capacity",
         "marker": {
          "color": "rgb(127, 60, 141)",
          "pattern": {
           "shape": ""
          }
         },
         "name": "Survival Q1",
         "orientation": "v",
         "showlegend": false,
         "textfont": {
          "size": 11
         },
         "textposition": "auto",
         "texttemplate": "%{y:.2f}",
         "type": "bar",
         "x": [
          "net capacity"
         ],
         "xaxis": "x2",
         "y": {
          "bdata": "vBQN4KHP6z8=",
          "dtype": "f8"
         },
         "yaxis": "y2"
        },
        {
         "hovertemplate": "life=Survival Q1<br>cap type=%{x}<br>mode=LD Truck<br>vintage=2035<br>capacity=%{y}<extra></extra>",
         "legendgroup": "Survival Q1, net capacity",
         "marker": {
          "color": "rgb(127, 60, 141)",
          "pattern": {
           "shape": ""
          }
         },
         "name": "Survival Q1",
         "orientation": "v",
         "showlegend": false,
         "textfont": {
          "size": 11
         },
         "textposition": "auto",
         "texttemplate": "%{y:.2f}",
         "type": "bar",
         "x": [
          "net capacity"
         ],
         "xaxis": "x3",
         "y": {
          "bdata": "2MzsNZqh7j8=",
          "dtype": "f8"
         },
         "yaxis": "y3"
        },
        {
         "hovertemplate": "life=Survival Q1<br>cap type=%{x}<br>mode=LD Truck<br>vintage=2040<br>capacity=%{y}<extra></extra>",
         "legendgroup": "Survival Q1, net capacity",
         "marker": {
          "color": "rgb(127, 60, 141)",
          "pattern": {
           "shape": ""
          }
         },
         "name": "Survival Q1",
         "orientation": "v",
         "showlegend": false,
         "textfont": {
          "size": 11
         },
         "textposition": "auto",
         "texttemplate": "%{y:.2f}",
         "type": "bar",
         "x": [
          "net capacity"
         ],
         "xaxis": "x4",
         "y": {
          "bdata": "Sbx8yt2L9T8=",
          "dtype": "f8"
         },
         "yaxis": "y4"
        },
        {
         "hovertemplate": "life=Survival Q1<br>cap type=%{x}<br>mode=LD Truck<br>vintage=2045<br>capacity=%{y}<extra></extra>",
         "legendgroup": "Survival Q1, net capacity",
         "marker": {
          "color": "rgb(127, 60, 141)",
          "pattern": {
           "shape": ""
          }
         },
         "name": "Survival Q1",
         "orientation": "v",
         "showlegend": false,
         "textfont": {
          "size": 11
         },
         "textposition": "auto",
         "texttemplate": "%{y:.2f}",
         "type": "bar",
         "x": [
          "net capacity"
         ],
         "xaxis": "x5",
         "y": {
          "bdata": "KkoZp9KQ8z8=",
          "dtype": "f8"
         },
         "yaxis": "y5"
        },
        {
         "hovertemplate": "life=Survival Q1<br>cap type=%{x}<br>mode=LD Truck<br>vintage=2050<br>capacity=%{y}<extra></extra>",
         "legendgroup": "Survival Q1, net capacity",
         "marker": {
          "color": "rgb(127, 60, 141)",
          "pattern": {
           "shape": ""
          }
         },
         "name": "Survival Q1",
         "orientation": "v",
         "showlegend": false,
         "textfont": {
          "size": 11
         },
         "textposition": "auto",
         "texttemplate": "%{y:.2f}",
         "type": "bar",
         "x": [
          "net capacity"
         ],
         "xaxis": "x6",
         "y": {
          "bdata": "0GSteHyd8j8=",
          "dtype": "f8"
         },
         "yaxis": "y6"
        },
        {
         "hovertemplate": "life=Survival Q2-3<br>cap type=%{x}<br>mode=LD Car<br>vintage=2025<br>capacity=%{y}<extra></extra>",
         "legendgroup": "Survival Q2-3, net capacity",
         "marker": {
          "color": "rgb(17, 165, 121)",
          "pattern": {
           "shape": ""
          }
         },
         "name": "Survival Q2-3",
         "orientation": "v",
         "showlegend": true,
         "textfont": {
          "size": 11
         },
         "textposition": "auto",
         "texttemplate": "%{y:.2f}",
         "type": "bar",
         "x": [
          "net capacity"
         ],
         "xaxis": "x7",
         "y": {
          "bdata": "MC/nz0gpCEA=",
          "dtype": "f8"
         },
         "yaxis": "y7"
        },
        {
         "hovertemplate": "life=Survival Q2-3<br>cap type=%{x}<br>mode=LD Car<br>vintage=2030<br>capacity=%{y}<extra></extra>",
         "legendgroup": "Survival Q2-3, net capacity",
         "marker": {
          "color": "rgb(17, 165, 121)",
          "pattern": {
           "shape": ""
          }
         },
         "name": "Survival Q2-3",
         "orientation": "v",
         "showlegend": false,
         "textfont": {
          "size": 11
         },
         "textposition": "auto",
         "texttemplate": "%{y:.2f}",
         "type": "bar",
         "x": [
          "net capacity"
         ],
         "xaxis": "x8",
         "y": {
          "bdata": "DkLRX53MB0A=",
          "dtype": "f8"
         },
         "yaxis": "y8"
        },
        {
         "hovertemplate": "life=Survival Q2-3<br>cap type=%{x}<br>mode=LD Car<br>vintage=2035<br>capacity=%{y}<extra></extra>",
         "legendgroup": "Survival Q2-3, net capacity",
         "marker": {
          "color": "rgb(17, 165, 121)",
          "pattern": {
           "shape": ""
          }
         },
         "name": "Survival Q2-3",
         "orientation": "v",
         "showlegend": false,
         "textfont": {
          "size": 11
         },
         "textposition": "auto",
         "texttemplate": "%{y:.2f}",
         "type": "bar",
         "x": [
          "net capacity"
         ],
         "xaxis": "x9",
         "y": {
          "bdata": "Qc9aMZz7CUA=",
          "dtype": "f8"
         },
         "yaxis": "y9"
        },
        {
         "hovertemplate": "life=Survival Q2-3<br>cap type=%{x}<br>mode=LD Car<br>vintage=2040<br>capacity=%{y}<extra></extra>",
         "legendgroup": "Survival Q2-3, net capacity",
         "marker": {
          "color": "rgb(17, 165, 121)",
          "pattern": {
           "shape": ""
          }
         },
         "name": "Survival Q2-3",
         "orientation": "v",
         "showlegend": false,
         "textfont": {
          "size": 11
         },
         "textposition": "auto",
         "texttemplate": "%{y:.2f}",
         "type": "bar",
         "x": [
          "net capacity"
         ],
         "xaxis": "x10",
         "y": {
          "bdata": "ireSJNh8CUA=",
          "dtype": "f8"
         },
         "yaxis": "y10"
        },
        {
         "hovertemplate": "life=Survival Q2-3<br>cap type=%{x}<br>mode=LD Car<br>vintage=2045<br>capacity=%{y}<extra></extra>",
         "legendgroup": "Survival Q2-3, net capacity",
         "marker": {
          "color": "rgb(17, 165, 121)",
          "pattern": {
           "shape": ""
          }
         },
         "name": "Survival Q2-3",
         "orientation": "v",
         "showlegend": false,
         "textfont": {
          "size": 11
         },
         "textposition": "auto",
         "texttemplate": "%{y:.2f}",
         "type": "bar",
         "x": [
          "net capacity"
         ],
         "xaxis": "x11",
         "y": {
          "bdata": "CG/x0PwfDEA=",
          "dtype": "f8"
         },
         "yaxis": "y11"
        },
        {
         "hovertemplate": "life=Survival Q2-3<br>cap type=%{x}<br>mode=LD Car<br>vintage=2050<br>capacity=%{y}<extra></extra>",
         "legendgroup": "Survival Q2-3, net capacity",
         "marker": {
          "color": "rgb(17, 165, 121)",
          "pattern": {
           "shape": ""
          }
         },
         "name": "Survival Q2-3",
         "orientation": "v",
         "showlegend": false,
         "textfont": {
          "size": 11
         },
         "textposition": "auto",
         "texttemplate": "%{y:.2f}",
         "type": "bar",
         "x": [
          "net capacity"
         ],
         "xaxis": "x12",
         "y": {
          "bdata": "uFbG4P7kC0A=",
          "dtype": "f8"
         },
         "yaxis": "y12"
        },
        {
         "hovertemplate": "life=Survival Q2-3<br>cap type=%{x}<br>mode=LD Truck<br>vintage=2025<br>capacity=%{y}<extra></extra>",
         "legendgroup": "Survival Q2-3, net capacity",
         "marker": {
          "color": "rgb(17, 165, 121)",
          "pattern": {
           "shape": ""
          }
         },
         "name": "Survival Q2-3",
         "orientation": "v",
         "showlegend": false,
         "textfont": {
          "size": 11
         },
         "textposition": "auto",
         "texttemplate": "%{y:.2f}",
         "type": "bar",
         "x": [
          "net capacity"
         ],
         "xaxis": "x",
         "y": {
          "bdata": "UH+/ifm9D0A=",
          "dtype": "f8"
         },
         "yaxis": "y"
        },
        {
         "hovertemplate": "life=Survival Q2-3<br>cap type=%{x}<br>mode=LD Truck<br>vintage=2030<br>capacity=%{y}<extra></extra>",
         "legendgroup": "Survival Q2-3, net capacity",
         "marker": {
          "color": "rgb(17, 165, 121)",
          "pattern": {
           "shape": ""
          }
         },
         "name": "Survival Q2-3",
         "orientation": "v",
         "showlegend": false,
         "textfont": {
          "size": 11
         },
         "textposition": "auto",
         "texttemplate": "%{y:.2f}",
         "type": "bar",
         "x": [
          "net capacity"
         ],
         "xaxis": "x2",
         "y": {
          "bdata": "XBSRMMeND0A=",
          "dtype": "f8"
         },
         "yaxis": "y2"
        },
        {
         "hovertemplate": "life=Survival Q2-3<br>cap type=%{x}<br>mode=LD Truck<br>vintage=2035<br>capacity=%{y}<extra></extra>",
         "legendgroup": "Survival Q2-3, net capacity",
         "marker": {
          "color": "rgb(17, 165, 121)",
          "pattern": {
           "shape": ""
          }
         },
         "name": "Survival Q2-3",
         "orientation": "v",
         "showlegend": false,
         "textfont": {
          "size": 11
         },
         "textposition": "auto",
         "texttemplate": "%{y:.2f}",
         "type": "bar",
         "x": [
          "net capacity"
         ],
         "xaxis": "x3",
         "y": {
          "bdata": "dbT3yXIXEUA=",
          "dtype": "f8"
         },
         "yaxis": "y3"
        },
        {
         "hovertemplate": "life=Survival Q2-3<br>cap type=%{x}<br>mode=LD Truck<br>vintage=2040<br>capacity=%{y}<extra></extra>",
         "legendgroup": "Survival Q2-3, net capacity",
         "marker": {
          "color": "rgb(17, 165, 121)",
          "pattern": {
           "shape": ""
          }
         },
         "name": "Survival Q2-3",
         "orientation": "v",
         "showlegend": false,
         "textfont": {
          "size": 11
         },
         "textposition": "auto",
         "texttemplate": "%{y:.2f}",
         "type": "bar",
         "x": [
          "net capacity"
         ],
         "xaxis": "x4",
         "y": {
          "bdata": "Pes/Xde5EUA=",
          "dtype": "f8"
         },
         "yaxis": "y4"
        },
        {
         "hovertemplate": "life=Survival Q2-3<br>cap type=%{x}<br>mode=LD Truck<br>vintage=2045<br>capacity=%{y}<extra></extra>",
         "legendgroup": "Survival Q2-3, net capacity",
         "marker": {
          "color": "rgb(17, 165, 121)",
          "pattern": {
           "shape": ""
          }
         },
         "name": "Survival Q2-3",
         "orientation": "v",
         "showlegend": false,
         "textfont": {
          "size": 11
         },
         "textposition": "auto",
         "texttemplate": "%{y:.2f}",
         "type": "bar",
         "x": [
          "net capacity"
         ],
         "xaxis": "x5",
         "y": {
          "bdata": "Uo4G4c9wEUA=",
          "dtype": "f8"
         },
         "yaxis": "y5"
        },
        {
         "hovertemplate": "life=Survival Q2-3<br>cap type=%{x}<br>mode=LD Truck<br>vintage=2050<br>capacity=%{y}<extra></extra>",
         "legendgroup": "Survival Q2-3, net capacity",
         "marker": {
          "color": "rgb(17, 165, 121)",
          "pattern": {
           "shape": ""
          }
         },
         "name": "Survival Q2-3",
         "orientation": "v",
         "showlegend": false,
         "textfont": {
          "size": 11
         },
         "textposition": "auto",
         "texttemplate": "%{y:.2f}",
         "type": "bar",
         "x": [
          "net capacity"
         ],
         "xaxis": "x6",
         "y": {
          "bdata": "BNqTIa0UFEA=",
          "dtype": "f8"
         },
         "yaxis": "y6"
        },
        {
         "hovertemplate": "life=Survival Q4<br>cap type=%{x}<br>mode=LD Car<br>vintage=2025<br>capacity=%{y}<extra></extra>",
         "legendgroup": "Survival Q4, net capacity",
         "marker": {
          "color": "rgb(57, 105, 172)",
          "pattern": {
           "shape": ""
          }
         },
         "name": "Survival Q4",
         "orientation": "v",
         "showlegend": true,
         "textfont": {
          "size": 11
         },
         "textposition": "auto",
         "texttemplate": "%{y:.2f}",
         "type": "bar",
         "x": [
          "net capacity"
         ],
         "xaxis": "x7",
         "y": {
          "bdata": "J2t8Jr2b+j8=",
          "dtype": "f8"
         },
         "yaxis": "y7"
        },
        {
         "hovertemplate": "life=Survival Q4<br>cap type=%{x}<br>mode=LD Car<br>vintage=2030<br>capacity=%{y}<extra></extra>",
         "legendgroup": "Survival Q4, net capacity",
         "marker": {
          "color": "rgb(57, 105, 172)",
          "pattern": {
           "shape": ""
          }
         },
         "name": "Survival Q4",
         "orientation": "v",
         "showlegend": false,
         "textfont": {
          "size": 11
         },
         "textposition": "auto",
         "texttemplate": "%{y:.2f}",
         "type": "bar",
         "x": [
          "net capacity"
         ],
         "xaxis": "x8",
         "y": {
          "bdata": "+UhShLL7/z8=",
          "dtype": "f8"
         },
         "yaxis": "y8"
        },
        {
         "hovertemplate": "life=Survival Q4<br>cap type=%{x}<br>mode=LD Car<br>vintage=2035<br>capacity=%{y}<extra></extra>",
         "legendgroup": "Survival Q4, net capacity",
         "marker": {
          "color": "rgb(57, 105, 172)",
          "pattern": {
           "shape": ""
          }
         },
         "name": "Survival Q4",
         "orientation": "v",
         "showlegend": false,
         "textfont": {
          "size": 11
         },
         "textposition": "auto",
         "texttemplate": "%{y:.2f}",
         "type": "bar",
         "x": [
          "net capacity"
         ],
         "xaxis": "x9",
         "y": {
          "bdata": "nWHTgbDFBEA=",
          "dtype": "f8"
         },
         "yaxis": "y9"
        },
        {
         "hovertemplate": "life=Survival Q4<br>cap type=%{x}<br>mode=LD Car<br>vintage=2040<br>capacity=%{y}<extra></extra>",
         "legendgroup": "Survival Q4, net capacity",
         "marker": {
          "color": "rgb(57, 105, 172)",
          "pattern": {
           "shape": ""
          }
         },
         "name": "Survival Q4",
         "orientation": "v",
         "showlegend": false,
         "textfont": {
          "size": 11
         },
         "textposition": "auto",
         "texttemplate": "%{y:.2f}",
         "type": "bar",
         "x": [
          "net capacity"
         ],
         "xaxis": "x10",
         "y": {
          "bdata": "gCgkYs7yBUA=",
          "dtype": "f8"
         },
         "yaxis": "y10"
        },
        {
         "hovertemplate": "life=Survival Q4<br>cap type=%{x}<br>mode=LD Car<br>vintage=2045<br>capacity=%{y}<extra></extra>",
         "legendgroup": "Survival Q4, net capacity",
         "marker": {
          "color": "rgb(57, 105, 172)",
          "pattern": {
           "shape": ""
          }
         },
         "name": "Survival Q4",
         "orientation": "v",
         "showlegend": false,
         "textfont": {
          "size": 11
         },
         "textposition": "auto",
         "texttemplate": "%{y:.2f}",
         "type": "bar",
         "x": [
          "net capacity"
         ],
         "xaxis": "x11",
         "y": {
          "bdata": "0e72hUVsBkA=",
          "dtype": "f8"
         },
         "yaxis": "y11"
        },
        {
         "hovertemplate": "life=Survival Q4<br>cap type=%{x}<br>mode=LD Car<br>vintage=2050<br>capacity=%{y}<extra></extra>",
         "legendgroup": "Survival Q4, net capacity",
         "marker": {
          "color": "rgb(57, 105, 172)",
          "pattern": {
           "shape": ""
          }
         },
         "name": "Survival Q4",
         "orientation": "v",
         "showlegend": false,
         "textfont": {
          "size": 11
         },
         "textposition": "auto",
         "texttemplate": "%{y:.2f}",
         "type": "bar",
         "x": [
          "net capacity"
         ],
         "xaxis": "x12",
         "y": {
          "bdata": "Rlva9IijBkA=",
          "dtype": "f8"
         },
         "yaxis": "y12"
        },
        {
         "hovertemplate": "life=Survival Q4<br>cap type=%{x}<br>mode=LD Truck<br>vintage=2025<br>capacity=%{y}<extra></extra>",
         "legendgroup": "Survival Q4, net capacity",
         "marker": {
          "color": "rgb(57, 105, 172)",
          "pattern": {
           "shape": ""
          }
         },
         "name": "Survival Q4",
         "orientation": "v",
         "showlegend": false,
         "textfont": {
          "size": 11
         },
         "textposition": "auto",
         "texttemplate": "%{y:.2f}",
         "type": "bar",
         "x": [
          "net capacity"
         ],
         "xaxis": "x",
         "y": {
          "bdata": "HD/8jzOi/T8=",
          "dtype": "f8"
         },
         "yaxis": "y"
        },
        {
         "hovertemplate": "life=Survival Q4<br>cap type=%{x}<br>mode=LD Truck<br>vintage=2030<br>capacity=%{y}<extra></extra>",
         "legendgroup": "Survival Q4, net capacity",
         "marker": {
          "color": "rgb(57, 105, 172)",
          "pattern": {
           "shape": ""
          }
         },
         "name": "Survival Q4",
         "orientation": "v",
         "showlegend": false,
         "textfont": {
          "size": 11
         },
         "textposition": "auto",
         "texttemplate": "%{y:.2f}",
         "type": "bar",
         "x": [
          "net capacity"
         ],
         "xaxis": "x2",
         "y": {
          "bdata": "9JQWkqniAUA=",
          "dtype": "f8"
         },
         "yaxis": "y2"
        },
        {
         "hovertemplate": "life=Survival Q4<br>cap type=%{x}<br>mode=LD Truck<br>vintage=2035<br>capacity=%{y}<extra></extra>",
         "legendgroup": "Survival Q4, net capacity",
         "marker": {
          "color": "rgb(57, 105, 172)",
          "pattern": {
           "shape": ""
          }
         },
         "name": "Survival Q4",
         "orientation": "v",
         "showlegend": false,
         "textfont": {
          "size": 11
         },
         "textposition": "auto",
         "texttemplate": "%{y:.2f}",
         "type": "bar",
         "x": [
          "net capacity"
         ],
         "xaxis": "x3",
         "y": {
          "bdata": "cxIe9ot5BkA=",
          "dtype": "f8"
         },
         "yaxis": "y3"
        },
        {
         "hovertemplate": "life=Survival Q4<br>cap type=%{x}<br>mode=LD Truck<br>vintage=2040<br>capacity=%{y}<extra></extra>",
         "legendgroup": "Survival Q4, net capacity",
         "marker": {
          "color": "rgb(57, 105, 172)",
          "pattern": {
           "shape": ""
          }
         },
         "name": "Survival Q4",
         "orientation": "v",
         "showlegend": false,
         "textfont": {
          "size": 11
         },
         "textposition": "auto",
         "texttemplate": "%{y:.2f}",
         "type": "bar",
         "x": [
          "net capacity"
         ],
         "xaxis": "x4",
         "y": {
          "bdata": "4Wl+lt2MCkA=",
          "dtype": "f8"
         },
         "yaxis": "y4"
        },
        {
         "hovertemplate": "life=Survival Q4<br>cap type=%{x}<br>mode=LD Truck<br>vintage=2045<br>capacity=%{y}<extra></extra>",
         "legendgroup": "Survival Q4, net capacity",
         "marker": {
          "color": "rgb(57, 105, 172)",
          "pattern": {
           "shape": ""
          }
         },
         "name": "Survival Q4",
         "orientation": "v",
         "showlegend": false,
         "textfont": {
          "size": 11
         },
         "textposition": "auto",
         "texttemplate": "%{y:.2f}",
         "type": "bar",
         "x": [
          "net capacity"
         ],
         "xaxis": "x5",
         "y": {
          "bdata": "c8IGuubfCkA=",
          "dtype": "f8"
         },
         "yaxis": "y5"
        },
        {
         "hovertemplate": "life=Survival Q4<br>cap type=%{x}<br>mode=LD Truck<br>vintage=2050<br>capacity=%{y}<extra></extra>",
         "legendgroup": "Survival Q4, net capacity",
         "marker": {
          "color": "rgb(57, 105, 172)",
          "pattern": {
           "shape": ""
          }
         },
         "name": "Survival Q4",
         "orientation": "v",
         "showlegend": false,
         "textfont": {
          "size": 11
         },
         "textposition": "auto",
         "texttemplate": "%{y:.2f}",
         "type": "bar",
         "x": [
          "net capacity"
         ],
         "xaxis": "x6",
         "y": {
          "bdata": "7pGXmZUIC0A=",
          "dtype": "f8"
         },
         "yaxis": "y6"
        },
        {
         "hovertemplate": "life=Survival Q1<br>cap type=%{x}<br>mode=LD Car<br>vintage=2025<br>capacity=%{y}<extra></extra>",
         "legendgroup": "Survival Q1, new capacity",
         "marker": {
          "color": "rgb(127, 60, 141)",
          "pattern": {
           "shape": "."
          }
         },
         "name": "Survival Q1",
         "orientation": "v",
         "showlegend": false,
         "textfont": {
          "size": 11
         },
         "textposition": "auto",
         "texttemplate": "%{y:.2f}",
         "type": "bar",
         "x": [
          "new capacity"
         ],
         "xaxis": "x7",
         "y": {
          "bdata": "nJXYUBIz4T8=",
          "dtype": "f8"
         },
         "yaxis": "y7"
        },
        {
         "hovertemplate": "life=Survival Q1<br>cap type=%{x}<br>mode=LD Car<br>vintage=2030<br>capacity=%{y}<extra></extra>",
         "legendgroup": "Survival Q1, new capacity",
         "marker": {
          "color": "rgb(127, 60, 141)",
          "pattern": {
           "shape": "."
          }
         },
         "name": "Survival Q1",
         "orientation": "v",
         "showlegend": false,
         "textfont": {
          "size": 11
         },
         "textposition": "auto",
         "texttemplate": "%{y:.2f}",
         "type": "bar",
         "x": [
          "new capacity"
         ],
         "xaxis": "x8",
         "y": {
          "bdata": "PFNU78l/1T8=",
          "dtype": "f8"
         },
         "yaxis": "y8"
        },
        {
         "hovertemplate": "life=Survival Q1<br>cap type=%{x}<br>mode=LD Car<br>vintage=2035<br>capacity=%{y}<extra></extra>",
         "legendgroup": "Survival Q1, new capacity",
         "marker": {
          "color": "rgb(127, 60, 141)",
          "pattern": {
           "shape": "."
          }
         },
         "name": "Survival Q1",
         "orientation": "v",
         "showlegend": false,
         "textfont": {
          "size": 11
         },
         "textposition": "auto",
         "texttemplate": "%{y:.2f}",
         "type": "bar",
         "x": [
          "new capacity"
         ],
         "xaxis": "x9",
         "y": {
          "bdata": "EegyGkEE6D8=",
          "dtype": "f8"
         },
         "yaxis": "y9"
        },
        {
         "hovertemplate": "life=Survival Q1<br>cap type=%{x}<br>mode=LD Car<br>vintage=2040<br>capacity=%{y}<extra></extra>",
         "legendgroup": "Survival Q1, new capacity",
         "marker": {
          "color": "rgb(127, 60, 141)",
          "pattern": {
           "shape": "."
          }
         },
         "name": "Survival Q1",
         "orientation": "v",
         "showlegend": false,
         "textfont": {
          "size": 11
         },
         "textposition": "auto",
         "texttemplate": "%{y:.2f}",
         "type": "bar",
         "x": [
          "new capacity"
         ],
         "xaxis": "x10",
         "y": {
          "bdata": "d/xIN4o14D8=",
          "dtype": "f8"
         },
         "yaxis": "y10"
        },
        {
         "hovertemplate": "life=Survival Q1<br>cap type=%{x}<br>mode=LD Car<br>vintage=2045<br>capacity=%{y}<extra></extra>",
         "legendgroup": "Survival Q1, new capacity",
         "marker": {
          "color": "rgb(127, 60, 141)",
          "pattern": {
           "shape": "."
          }
         },
         "name": "Survival Q1",
         "orientation": "v",
         "showlegend": false,
         "textfont": {
          "size": 11
         },
         "textposition": "auto",
         "texttemplate": "%{y:.2f}",
         "type": "bar",
         "x": [
          "new capacity"
         ],
         "xaxis": "x11",
         "y": {
          "bdata": "38tnUC4G4D8=",
          "dtype": "f8"
         },
         "yaxis": "y11"
        },
        {
         "hovertemplate": "life=Survival Q1<br>cap type=%{x}<br>mode=LD Car<br>vintage=2050<br>capacity=%{y}<extra></extra>",
         "legendgroup": "Survival Q1, new capacity",
         "marker": {
          "color": "rgb(127, 60, 141)",
          "pattern": {
           "shape": "."
          }
         },
         "name": "Survival Q1",
         "orientation": "v",
         "showlegend": false,
         "textfont": {
          "size": 11
         },
         "textposition": "auto",
         "texttemplate": "%{y:.2f}",
         "type": "bar",
         "x": [
          "new capacity"
         ],
         "xaxis": "x12",
         "y": {
          "bdata": "DIfcOUWO5z8=",
          "dtype": "f8"
         },
         "yaxis": "y12"
        },
        {
         "hovertemplate": "life=Survival Q1<br>cap type=%{x}<br>mode=LD Truck<br>vintage=2025<br>capacity=%{y}<extra></extra>",
         "legendgroup": "Survival Q1, new capacity",
         "marker": {
          "color": "rgb(127, 60, 141)",
          "pattern": {
           "shape": "."
          }
         },
         "name": "Survival Q1",
         "orientation": "v",
         "showlegend": false,
         "textfont": {
          "size": 11
         },
         "textposition": "auto",
         "texttemplate": "%{y:.2f}",
         "type": "bar",
         "x": [
          "new capacity"
         ],
         "xaxis": "x",
         "y": {
          "bdata": "MSKfMvUS3z8=",
          "dtype": "f8"
         },
         "yaxis": "y"
        },
        {
         "hovertemplate": "life=Survival Q1<br>cap type=%{x}<br>mode=LD Truck<br>vintage=2030<br>capacity=%{y}<extra></extra>",
         "legendgroup": "Survival Q1, new capacity",
         "marker": {
          "color": "rgb(127, 60, 141)",
          "pattern": {
           "shape": "."
          }
         },
         "name": "Survival Q1",
         "orientation": "v",
         "showlegend": false,
         "textfont": {
          "size": 11
         },
         "textposition": "auto",
         "texttemplate": "%{y:.2f}",
         "type": "bar",
         "x": [
          "new capacity"
         ],
         "xaxis": "x2",
         "y": {
          "bdata": "Sgd7jU6M2D8=",
          "dtype": "f8"
         },
         "yaxis": "y2"
        },
        {
         "hovertemplate": "life=Survival Q1<br>cap type=%{x}<br>mode=LD Truck<br>vintage=2035<br>capacity=%{y}<extra></extra>",
         "legendgroup": "Survival Q1, new capacity",
         "marker": {
          "color": "rgb(127, 60, 141)",
          "pattern": {
           "shape": "."
          }
         },
         "name": "Survival Q1",
         "orientation": "v",
         "showlegend": false,
         "textfont": {
          "size": 11
         },
         "textposition": "auto",
         "texttemplate": "%{y:.2f}",
         "type": "bar",
         "x": [
          "new capacity"
         ],
         "xaxis": "x3",
         "y": {
          "bdata": "M0kv73Jb4j8=",
          "dtype": "f8"
         },
         "yaxis": "y3"
        },
        {
         "hovertemplate": "life=Survival Q1<br>cap type=%{x}<br>mode=LD Truck<br>vintage=2040<br>capacity=%{y}<extra></extra>",
         "legendgroup": "Survival Q1, new capacity",
         "marker": {
          "color": "rgb(127, 60, 141)",
          "pattern": {
           "shape": "."
          }
         },
         "name": "Survival Q1",
         "orientation": "v",
         "showlegend": false,
         "textfont": {
          "size": 11
         },
         "textposition": "auto",
         "texttemplate": "%{y:.2f}",
         "type": "bar",
         "x": [
          "new capacity"
         ],
         "xaxis": "x4",
         "y": {
          "bdata": "Xi/KpUi86D8=",
          "dtype": "f8"
         },
         "yaxis": "y4"
        },
        {
         "hovertemplate": "life=Survival Q1<br>cap type=%{x}<br>mode=LD Truck<br>vintage=2045<br>capacity=%{y}<extra></extra>",
         "legendgroup": "Survival Q1, new capacity",
         "marker": {
          "color": "rgb(127, 60, 141)",
          "pattern": {
           "shape": "."
          }
         },
         "name": "Survival Q1",
         "orientation": "v",
         "showlegend": false,
         "textfont": {
          "size": 11
         },
         "textposition": "auto",
         "texttemplate": "%{y:.2f}",
         "type": "bar",
         "x": [
          "new capacity"
         ],
         "xaxis": "x5",
         "y": {
          "bdata": "7MnQULnK3D8=",
          "dtype": "f8"
         },
         "yaxis": "y5"
        },
        {
         "hovertemplate": "life=Survival Q1<br>cap type=%{x}<br>mode=LD Truck<br>vintage=2050<br>capacity=%{y}<extra></extra>",
         "legendgroup": "Survival Q1, new capacity",
         "marker": {
          "color": "rgb(127, 60, 141)",
          "pattern": {
           "shape": "."
          }
         },
         "name": "Survival Q1",
         "orientation": "v",
         "showlegend": false,
         "textfont": {
          "size": 11
         },
         "textposition": "auto",
         "texttemplate": "%{y:.2f}",
         "type": "bar",
         "x": [
          "new capacity"
         ],
         "xaxis": "x6",
         "y": {
          "bdata": "qmTySJzV5j8=",
          "dtype": "f8"
         },
         "yaxis": "y6"
        },
        {
         "hovertemplate": "life=Survival Q2-3<br>cap type=%{x}<br>mode=LD Car<br>vintage=2025<br>capacity=%{y}<extra></extra>",
         "legendgroup": "Survival Q2-3, new capacity",
         "marker": {
          "color": "rgb(17, 165, 121)",
          "pattern": {
           "shape": "."
          }
         },
         "name": "Survival Q2-3",
         "orientation": "v",
         "showlegend": false,
         "textfont": {
          "size": 11
         },
         "textposition": "auto",
         "texttemplate": "%{y:.2f}",
         "type": "bar",
         "x": [
          "new capacity"
         ],
         "xaxis": "x7",
         "y": {
          "bdata": "pcTYUBIz8T8=",
          "dtype": "f8"
         },
         "yaxis": "y7"
        },
        {
         "hovertemplate": "life=Survival Q2-3<br>cap type=%{x}<br>mode=LD Car<br>vintage=2030<br>capacity=%{y}<extra></extra>",
         "legendgroup": "Survival Q2-3, new capacity",
         "marker": {
          "color": "rgb(17, 165, 121)",
          "pattern": {
           "shape": "."
          }
         },
         "name": "Survival Q2-3",
         "orientation": "v",
         "showlegend": false,
         "textfont": {
          "size": 11
         },
         "textposition": "auto",
         "texttemplate": "%{y:.2f}",
         "type": "bar",
         "x": [
          "new capacity"
         ],
         "xaxis": "x8",
         "y": {
          "bdata": "JINT78l/5T8=",
          "dtype": "f8"
         },
         "yaxis": "y8"
        },
        {
         "hovertemplate": "life=Survival Q2-3<br>cap type=%{x}<br>mode=LD Car<br>vintage=2035<br>capacity=%{y}<extra></extra>",
         "legendgroup": "Survival Q2-3, new capacity",
         "marker": {
          "color": "rgb(17, 165, 121)",
          "pattern": {
           "shape": "."
          }
         },
         "name": "Survival Q2-3",
         "orientation": "v",
         "showlegend": false,
         "textfont": {
          "size": 11
         },
         "textposition": "auto",
         "texttemplate": "%{y:.2f}",
         "type": "bar",
         "x": [
          "new capacity"
         ],
         "xaxis": "x9",
         "y": {
          "bdata": "SxgzGkEE+D8=",
          "dtype": "f8"
         },
         "yaxis": "y9"
        },
        {
         "hovertemplate": "life=Survival Q2-3<br>cap type=%{x}<br>mode=LD Car<br>vintage=2040<br>capacity=%{y}<extra></extra>",
         "legendgroup": "Survival Q2-3, new capacity",
         "marker": {
          "color": "rgb(17, 165, 121)",
          "pattern": {
           "shape": "."
          }
         },
         "name": "Survival Q2-3",
         "orientation": "v",
         "showlegend": false,
         "textfont": {
          "size": 11
         },
         "textposition": "auto",
         "texttemplate": "%{y:.2f}",
         "type": "bar",
         "x": [
          "new capacity"
         ],
         "xaxis": "x10",
         "y": {
          "bdata": "OJVIN4o18D8=",
          "dtype": "f8"
         },
         "yaxis": "y10"
        },
        {
         "hovertemplate": "life=Survival Q2-3<br>cap type=%{x}<br>mode=LD Car<br>vintage=2045<br>capacity=%{y}<extra></extra>",
         "legendgroup": "Survival Q2-3, new capacity",
         "marker": {
          "color": "rgb(17, 165, 121)",
          "pattern": {
           "shape": "."
          }
         },
         "name": "Survival Q2-3",
         "orientation": "v",
         "showlegend": false,
         "textfont": {
          "size": 11
         },
         "textposition": "auto",
         "texttemplate": "%{y:.2f}",
         "type": "bar",
         "x": [
          "new capacity"
         ],
         "xaxis": "x11",
         "y": {
          "bdata": "jTBnUC4G8D8=",
          "dtype": "f8"
         },
         "yaxis": "y11"
        },
        {
         "hovertemplate": "life=Survival Q2-3<br>cap type=%{x}<br>mode=LD Car<br>vintage=2050<br>capacity=%{y}<extra></extra>",
         "legendgroup": "Survival Q2-3, new capacity",
         "marker": {
          "color": "rgb(17, 165, 121)",
          "pattern": {
           "shape": "."
          }
         },
         "name": "Survival Q2-3",
         "orientation": "v",
         "showlegend": false,
         "textfont": {
          "size": 11
         },
         "textposition": "auto",
         "texttemplate": "%{y:.2f}",
         "type": "bar",
         "x": [
          "new capacity"
         ],
         "xaxis": "x12",
         "y": {
          "bdata": "q+fcOUWO9z8=",
          "dtype": "f8"
         },
         "yaxis": "y12"
        },
        {
         "hovertemplate": "life=Survival Q2-3<br>cap type=%{x}<br>mode=LD Truck<br>vintage=2025<br>capacity=%{y}<extra></extra>",
         "legendgroup": "Survival Q2-3, new capacity",
         "marker": {
          "color": "rgb(17, 165, 121)",
          "pattern": {
           "shape": "."
          }
         },
         "name": "Survival Q2-3",
         "orientation": "v",
         "showlegend": false,
         "textfont": {
          "size": 11
         },
         "textposition": "auto",
         "texttemplate": "%{y:.2f}",
         "type": "bar",
         "x": [
          "new capacity"
         ],
         "xaxis": "x",
         "y": {
          "bdata": "OJqbMvUS7z8=",
          "dtype": "f8"
         },
         "yaxis": "y"
        },
        {
         "hovertemplate": "life=Survival Q2-3<br>cap type=%{x}<br>mode=LD Truck<br>vintage=2030<br>capacity=%{y}<extra></extra>",
         "legendgroup": "Survival Q2-3, new capacity",
         "marker": {
          "color": "rgb(17, 165, 121)",
          "pattern": {
           "shape": "."
          }
         },
         "name": "Survival Q2-3",
         "orientation": "v",
         "showlegend": false,
         "textfont": {
          "size": 11
         },
         "textposition": "auto",
         "texttemplate": "%{y:.2f}",
         "type": "bar",
         "x": [
          "new capacity"
         ],
         "xaxis": "x2",
         "y": {
          "bdata": "haN3jU6M6D8=",
          "dtype": "f8"
         },
         "yaxis": "y2"
        },
        {
         "hovertemplate": "life=Survival Q2-3<br>cap type=%{x}<br>mode=LD Truck<br>vintage=2035<br>capacity=%{y}<extra></extra>",
         "legendgroup": "Survival Q2-3, new capacity",
         "marker": {
          "color": "rgb(17, 165, 121)",
          "pattern": {
           "shape": "."
          }
         },
         "name": "Survival Q2-3",
         "orientation": "v",
         "showlegend": false,
         "textfont": {
          "size": 11
         },
         "textposition": "auto",
         "texttemplate": "%{y:.2f}",
         "type": "bar",
         "x": [
          "new capacity"
         ],
         "xaxis": "x3",
         "y": {
          "bdata": "MC4v73Jb8j8=",
          "dtype": "f8"
         },
         "yaxis": "y3"
        },
        {
         "hovertemplate": "life=Survival Q2-3<br>cap type=%{x}<br>mode=LD Truck<br>vintage=2040<br>capacity=%{y}<extra></extra>",
         "legendgroup": "Survival Q2-3, new capacity",
         "marker": {
          "color": "rgb(17, 165, 121)",
          "pattern": {
           "shape": "."
          }
         },
         "name": "Survival Q2-3",
         "orientation": "v",
         "showlegend": false,
         "textfont": {
          "size": 11
         },
         "textposition": "auto",
         "texttemplate": "%{y:.2f}",
         "type": "bar",
         "x": [
          "new capacity"
         ],
         "xaxis": "x4",
         "y": {
          "bdata": "5t/GpUi8+D8=",
          "dtype": "f8"
         },
         "yaxis": "y4"
        },
        {
         "hovertemplate": "life=Survival Q2-3<br>cap type=%{x}<br>mode=LD Truck<br>vintage=2045<br>capacity=%{y}<extra></extra>",
         "legendgroup": "Survival Q2-3, new capacity",
         "marker": {
          "color": "rgb(17, 165, 121)",
          "pattern": {
           "shape": "."
          }
         },
         "name": "Survival Q2-3",
         "orientation": "v",
         "showlegend": false,
         "textfont": {
          "size": 11
         },
         "textposition": "auto",
         "texttemplate": "%{y:.2f}",
         "type": "bar",
         "x": [
          "new capacity"
         ],
         "xaxis": "x5",
         "y": {
          "bdata": "27LQULnK7D8=",
          "dtype": "f8"
         },
         "yaxis": "y5"
        },
        {
         "hovertemplate": "life=Survival Q2-3<br>cap type=%{x}<br>mode=LD Truck<br>vintage=2050<br>capacity=%{y}<extra></extra>",
         "legendgroup": "Survival Q2-3, new capacity",
         "marker": {
          "color": "rgb(17, 165, 121)",
          "pattern": {
           "shape": "."
          }
         },
         "name": "Survival Q2-3",
         "orientation": "v",
         "showlegend": false,
         "textfont": {
          "size": 11
         },
         "textposition": "auto",
         "texttemplate": "%{y:.2f}",
         "type": "bar",
         "x": [
          "new capacity"
         ],
         "xaxis": "x6",
         "y": {
          "bdata": "iwDxSJzV9j8=",
          "dtype": "f8"
         },
         "yaxis": "y6"
        },
        {
         "hovertemplate": "life=Survival Q4<br>cap type=%{x}<br>mode=LD Car<br>vintage=2025<br>capacity=%{y}<extra></extra>",
         "legendgroup": "Survival Q4, new capacity",
         "marker": {
          "color": "rgb(57, 105, 172)",
          "pattern": {
           "shape": "."
          }
         },
         "name": "Survival Q4",
         "orientation": "v",
         "showlegend": false,
         "textfont": {
          "size": 11
         },
         "textposition": "auto",
         "texttemplate": "%{y:.2f}",
         "type": "bar",
         "x": [
          "new capacity"
         ],
         "xaxis": "x7",
         "y": {
          "bdata": "D+XYUBIz4T8=",
          "dtype": "f8"
         },
         "yaxis": "y7"
        },
        {
         "hovertemplate": "life=Survival Q4<br>cap type=%{x}<br>mode=LD Car<br>vintage=2030<br>capacity=%{y}<extra></extra>",
         "legendgroup": "Survival Q4, new capacity",
         "marker": {
          "color": "rgb(57, 105, 172)",
          "pattern": {
           "shape": "."
          }
         },
         "name": "Survival Q4",
         "orientation": "v",
         "showlegend": false,
         "textfont": {
          "size": 11
         },
         "textposition": "auto",
         "texttemplate": "%{y:.2f}",
         "type": "bar",
         "x": [
          "new capacity"
         ],
         "xaxis": "x8",
         "y": {
          "bdata": "2ohT78l/1T8=",
          "dtype": "f8"
         },
         "yaxis": "y8"
        },
        {
         "hovertemplate": "life=Survival Q4<br>cap type=%{x}<br>mode=LD Car<br>vintage=2035<br>capacity=%{y}<extra></extra>",
         "legendgroup": "Survival Q4, new capacity",
         "marker": {
          "color": "rgb(57, 105, 172)",
          "pattern": {
           "shape": "."
          }
         },
         "name": "Survival Q4",
         "orientation": "v",
         "showlegend": false,
         "textfont": {
          "size": 11
         },
         "textposition": "auto",
         "texttemplate": "%{y:.2f}",
         "type": "bar",
         "x": [
          "new capacity"
         ],
         "xaxis": "x9",
         "y": {
          "bdata": "7zQzGkEE6D8=",
          "dtype": "f8"
         },
         "yaxis": "y9"
        },
        {
         "hovertemplate": "life=Survival Q4<br>cap type=%{x}<br>mode=LD Car<br>vintage=2040<br>capacity=%{y}<extra></extra>",
         "legendgroup": "Survival Q4, new capacity",
         "marker": {
          "color": "rgb(57, 105, 172)",
          "pattern": {
           "shape": "."
          }
         },
         "name": "Survival Q4",
         "orientation": "v",
         "showlegend": false,
         "textfont": {
          "size": 11
         },
         "textposition": "auto",
         "texttemplate": "%{y:.2f}",
         "type": "bar",
         "x": [
          "new capacity"
         ],
         "xaxis": "x10",
         "y": {
          "bdata": "w5NIN4o14D8=",
          "dtype": "f8"
         },
         "yaxis": "y10"
        },
        {
         "hovertemplate": "life=Survival Q4<br>cap type=%{x}<br>mode=LD Car<br>vintage=2045<br>capacity=%{y}<extra></extra>",
         "legendgroup": "Survival Q4, new capacity",
         "marker": {
          "color": "rgb(57, 105, 172)",
          "pattern": {
           "shape": "."
          }
         },
         "name": "Survival Q4",
         "orientation": "v",
         "showlegend": false,
         "textfont": {
          "size": 11
         },
         "textposition": "auto",
         "texttemplate": "%{y:.2f}",
         "type": "bar",
         "x": [
          "new capacity"
         ],
         "xaxis": "x11",
         "y": {
          "bdata": "O2RnUC4G4D8=",
          "dtype": "f8"
         },
         "yaxis": "y11"
        },
        {
         "hovertemplate": "life=Survival Q4<br>cap type=%{x}<br>mode=LD Car<br>vintage=2050<br>capacity=%{y}<extra></extra>",
         "legendgroup": "Survival Q4, new capacity",
         "marker": {
          "color": "rgb(57, 105, 172)",
          "pattern": {
           "shape": "."
          }
         },
         "name": "Survival Q4",
         "orientation": "v",
         "showlegend": false,
         "textfont": {
          "size": 11
         },
         "textposition": "auto",
         "texttemplate": "%{y:.2f}",
         "type": "bar",
         "x": [
          "new capacity"
         ],
         "xaxis": "x12",
         "y": {
          "bdata": "unvcOUWO5z8=",
          "dtype": "f8"
         },
         "yaxis": "y12"
        },
        {
         "hovertemplate": "life=Survival Q4<br>cap type=%{x}<br>mode=LD Truck<br>vintage=2025<br>capacity=%{y}<extra></extra>",
         "legendgroup": "Survival Q4, new capacity",
         "marker": {
          "color": "rgb(57, 105, 172)",
          "pattern": {
           "shape": "."
          }
         },
         "name": "Survival Q4",
         "orientation": "v",
         "showlegend": false,
         "textfont": {
          "size": 11
         },
         "textposition": "auto",
         "texttemplate": "%{y:.2f}",
         "type": "bar",
         "x": [
          "new capacity"
         ],
         "xaxis": "x",
         "y": {
          "bdata": "gPWeMvUS3z8=",
          "dtype": "f8"
         },
         "yaxis": "y"
        },
        {
         "hovertemplate": "life=Survival Q4<br>cap type=%{x}<br>mode=LD Truck<br>vintage=2030<br>capacity=%{y}<extra></extra>",
         "legendgroup": "Survival Q4, new capacity",
         "marker": {
          "color": "rgb(57, 105, 172)",
          "pattern": {
           "shape": "."
          }
         },
         "name": "Survival Q4",
         "orientation": "v",
         "showlegend": false,
         "textfont": {
          "size": 11
         },
         "textposition": "auto",
         "texttemplate": "%{y:.2f}",
         "type": "bar",
         "x": [
          "new capacity"
         ],
         "xaxis": "x2",
         "y": {
          "bdata": "xxZ5jU6M2D8=",
          "dtype": "f8"
         },
         "yaxis": "y2"
        },
        {
         "hovertemplate": "life=Survival Q4<br>cap type=%{x}<br>mode=LD Truck<br>vintage=2035<br>capacity=%{y}<extra></extra>",
         "legendgroup": "Survival Q4, new capacity",
         "marker": {
          "color": "rgb(57, 105, 172)",
          "pattern": {
           "shape": "."
          }
         },
         "name": "Survival Q4",
         "orientation": "v",
         "showlegend": false,
         "textfont": {
          "size": 11
         },
         "textposition": "auto",
         "texttemplate": "%{y:.2f}",
         "type": "bar",
         "x": [
          "new capacity"
         ],
         "xaxis": "x3",
         "y": {
          "bdata": "lrov73Jb4j8=",
          "dtype": "f8"
         },
         "yaxis": "y3"
        },
        {
         "hovertemplate": "life=Survival Q4<br>cap type=%{x}<br>mode=LD Truck<br>vintage=2040<br>capacity=%{y}<extra></extra>",
         "legendgroup": "Survival Q4, new capacity",
         "marker": {
          "color": "rgb(57, 105, 172)",
          "pattern": {
           "shape": "."
          }
         },
         "name": "Survival Q4",
         "orientation": "v",
         "showlegend": false,
         "textfont": {
          "size": 11
         },
         "textposition": "auto",
         "texttemplate": "%{y:.2f}",
         "type": "bar",
         "x": [
          "new capacity"
         ],
         "xaxis": "x4",
         "y": {
          "bdata": "sybIpUi86D8=",
          "dtype": "f8"
         },
         "yaxis": "y4"
        },
        {
         "hovertemplate": "life=Survival Q4<br>cap type=%{x}<br>mode=LD Truck<br>vintage=2045<br>capacity=%{y}<extra></extra>",
         "legendgroup": "Survival Q4, new capacity",
         "marker": {
          "color": "rgb(57, 105, 172)",
          "pattern": {
           "shape": "."
          }
         },
         "name": "Survival Q4",
         "orientation": "v",
         "showlegend": false,
         "textfont": {
          "size": 11
         },
         "textposition": "auto",
         "texttemplate": "%{y:.2f}",
         "type": "bar",
         "x": [
          "new capacity"
         ],
         "xaxis": "x5",
         "y": {
          "bdata": "b/HQULnK3D8=",
          "dtype": "f8"
         },
         "yaxis": "y5"
        },
        {
         "hovertemplate": "life=Survival Q4<br>cap type=%{x}<br>mode=LD Truck<br>vintage=2050<br>capacity=%{y}<extra></extra>",
         "legendgroup": "Survival Q4, new capacity",
         "marker": {
          "color": "rgb(57, 105, 172)",
          "pattern": {
           "shape": "."
          }
         },
         "name": "Survival Q4",
         "orientation": "v",
         "showlegend": false,
         "textfont": {
          "size": 11
         },
         "textposition": "auto",
         "texttemplate": "%{y:.2f}",
         "type": "bar",
         "x": [
          "new capacity"
         ],
         "xaxis": "x6",
         "y": {
          "bdata": "kufxSJzV5j8=",
          "dtype": "f8"
         },
         "yaxis": "y6"
        },
        {
         "hovertemplate": "life=Survival Q1<br>cap type=%{x}<br>mode=LD Car<br>vintage=2025<br>capacity=%{y}<extra></extra>",
         "legendgroup": "Survival Q1, retired cap",
         "marker": {
          "color": "rgb(127, 60, 141)",
          "pattern": {
           "shape": "/"
          }
         },
         "name": "Survival Q1",
         "orientation": "v",
         "showlegend": false,
         "textfont": {
          "size": 11
         },
         "textposition": "auto",
         "texttemplate": "%{y:.2f}",
         "type": "bar",
         "x": [
          "retired cap"
         ],
         "xaxis": "x7",
         "y": {
          "bdata": "X9Zh2KPY1r8=",
          "dtype": "f8"
         },
         "yaxis": "y7"
        },
        {
         "hovertemplate": "life=Survival Q1<br>cap type=%{x}<br>mode=LD Car<br>vintage=2030<br>capacity=%{y}<extra></extra>",
         "legendgroup": "Survival Q1, retired cap",
         "marker": {
          "color": "rgb(127, 60, 141)",
          "pattern": {
           "shape": "/"
          }
         },
         "name": "Survival Q1",
         "orientation": "v",
         "showlegend": false,
         "textfont": {
          "size": 11
         },
         "textposition": "auto",
         "texttemplate": "%{y:.2f}",
         "type": "bar",
         "x": [
          "retired cap"
         ],
         "xaxis": "x8",
         "y": {
          "bdata": "tvb3IGae478=",
          "dtype": "f8"
         },
         "yaxis": "y8"
        },
        {
         "hovertemplate": "life=Survival Q1<br>cap type=%{x}<br>mode=LD Car<br>vintage=2035<br>capacity=%{y}<extra></extra>",
         "legendgroup": "Survival Q1, retired cap",
         "marker": {
          "color": "rgb(127, 60, 141)",
          "pattern": {
           "shape": "/"
          }
         },
         "name": "Survival Q1",
         "orientation": "v",
         "showlegend": false,
         "textfont": {
          "size": 11
         },
         "textposition": "auto",
         "texttemplate": "%{y:.2f}",
         "type": "bar",
         "x": [
          "retired cap"
         ],
         "xaxis": "x9",
         "y": {
          "bdata": "nJXYUBIz4b8=",
          "dtype": "f8"
         },
         "yaxis": "y9"
        },
        {
         "hovertemplate": "life=Survival Q1<br>cap type=%{x}<br>mode=LD Car<br>vintage=2040<br>capacity=%{y}<extra></extra>",
         "legendgroup": "Survival Q1, retired cap",
         "marker": {
          "color": "rgb(127, 60, 141)",
          "pattern": {
           "shape": "/"
          }
         },
         "name": "Survival Q1",
         "orientation": "v",
         "showlegend": false,
         "textfont": {
          "size": 11
         },
         "textposition": "auto",
         "texttemplate": "%{y:.2f}",
         "type": "bar",
         "x": [
          "retired cap"
         ],
         "xaxis": "x10",
         "y": {
          "bdata": "P1NU78l/1b8=",
          "dtype": "f8"
         },
         "yaxis": "y10"
        },
        {
         "hovertemplate": "life=Survival Q1<br>cap type=%{x}<br>mode=LD Car<br>vintage=2045<br>capacity=%{y}<extra></extra>",
         "legendgroup": "Survival Q1, retired cap",
         "marker": {
          "color": "rgb(127, 60, 141)",
          "pattern": {
           "shape": "/"
          }
         },
         "name": "Survival Q1",
         "orientation": "v",
         "showlegend": false,
         "textfont": {
          "size": 11
         },
         "textposition": "auto",
         "texttemplate": "%{y:.2f}",
         "type": "bar",
         "x": [
          "retired cap"
         ],
         "xaxis": "x11",
         "y": {
          "bdata": "EOgyGkEE6L8=",
          "dtype": "f8"
         },
         "yaxis": "y11"
        },
        {
         "hovertemplate": "life=Survival Q1<br>cap type=%{x}<br>mode=LD Car<br>vintage=2050<br>capacity=%{y}<extra></extra>",
         "legendgroup": "Survival Q1, retired cap",
         "marker": {
          "color": "rgb(127, 60, 141)",
          "pattern": {
           "shape": "/"
          }
         },
         "name": "Survival Q1",
         "orientation": "v",
         "showlegend": false,
         "textfont": {
          "size": 11
         },
         "textposition": "auto",
         "texttemplate": "%{y:.2f}",
         "type": "bar",
         "x": [
          "retired cap"
         ],
         "xaxis": "x12",
         "y": {
          "bdata": "d/xIN4o14L8=",
          "dtype": "f8"
         },
         "yaxis": "y12"
        },
        {
         "hovertemplate": "life=Survival Q1<br>cap type=%{x}<br>mode=LD Truck<br>vintage=2025<br>capacity=%{y}<extra></extra>",
         "legendgroup": "Survival Q1, retired cap",
         "marker": {
          "color": "rgb(127, 60, 141)",
          "pattern": {
           "shape": "/"
          }
         },
         "name": "Survival Q1",
         "orientation": "v",
         "showlegend": false,
         "textfont": {
          "size": 11
         },
         "textposition": "auto",
         "texttemplate": "%{y:.2f}",
         "type": "bar",
         "x": [
          "retired cap"
         ],
         "xaxis": "x",
         "y": {
          "bdata": "N47kNDwk2r8=",
          "dtype": "f8"
         },
         "yaxis": "y"
        },
        {
         "hovertemplate": "life=Survival Q1<br>cap type=%{x}<br>mode=LD Truck<br>vintage=2030<br>capacity=%{y}<extra></extra>",
         "legendgroup": "Survival Q1, retired cap",
         "marker": {
          "color": "rgb(127, 60, 141)",
          "pattern": {
           "shape": "/"
          }
         },
         "name": "Survival Q1",
         "orientation": "v",
         "showlegend": false,
         "textfont": {
          "size": 11
         },
         "textposition": "auto",
         "texttemplate": "%{y:.2f}",
         "type": "bar",
         "x": [
          "retired cap"
         ],
         "xaxis": "x2",
         "y": {
          "bdata": "0WWszmoy5r8=",
          "dtype": "f8"
         },
         "yaxis": "y2"
        },
        {
         "hovertemplate": "life=Survival Q1<br>cap type=%{x}<br>mode=LD Truck<br>vintage=2035<br>capacity=%{y}<extra></extra>",
         "legendgroup": "Survival Q1, retired cap",
         "marker": {
          "color": "rgb(127, 60, 141)",
          "pattern": {
           "shape": "/"
          }
         },
         "name": "Survival Q1",
         "orientation": "v",
         "showlegend": false,
         "textfont": {
          "size": 11
         },
         "textposition": "auto",
         "texttemplate": "%{y:.2f}",
         "type": "bar",
         "x": [
          "retired cap"
         ],
         "xaxis": "x3",
         "y": {
          "bdata": "LyKfMvUS378=",
          "dtype": "f8"
         },
         "yaxis": "y3"
        },
        {
         "hovertemplate": "life=Survival Q1<br>cap type=%{x}<br>mode=LD Truck<br>vintage=2040<br>capacity=%{y}<extra></extra>",
         "legendgroup": "Survival Q1, retired cap",
         "marker": {
          "color": "rgb(127, 60, 141)",
          "pattern": {
           "shape": "/"
          }
         },
         "name": "Survival Q1",
         "orientation": "v",
         "showlegend": false,
         "textfont": {
          "size": 11
         },
         "textposition": "auto",
         "texttemplate": "%{y:.2f}",
         "type": "bar",
         "x": [
          "retired cap"
         ],
         "xaxis": "x4",
         "y": {
          "bdata": "SAd7jU6M2L8=",
          "dtype": "f8"
         },
         "yaxis": "y4"
        },
        {
         "hovertemplate": "life=Survival Q1<br>cap type=%{x}<br>mode=LD Truck<br>vintage=2045<br>capacity=%{y}<extra></extra>",
         "legendgroup": "Survival Q1, retired cap",
         "marker": {
          "color": "rgb(127, 60, 141)",
          "pattern": {
           "shape": "/"
          }
         },
         "name": "Survival Q1",
         "orientation": "v",
         "showlegend": false,
         "textfont": {
          "size": 11
         },
         "textposition": "auto",
         "texttemplate": "%{y:.2f}",
         "type": "bar",
         "x": [
          "retired cap"
         ],
         "xaxis": "x5",
         "y": {
          "bdata": "M0kv73Jb4r8=",
          "dtype": "f8"
         },
         "yaxis": "y5"
        },
        {
         "hovertemplate": "life=Survival Q1<br>cap type=%{x}<br>mode=LD Truck<br>vintage=2050<br>capacity=%{y}<extra></extra>",
         "legendgroup": "Survival Q1, retired cap",
         "marker": {
          "color": "rgb(127, 60, 141)",
          "pattern": {
           "shape": "/"
          }
         },
         "name": "Survival Q1",
         "orientation": "v",
         "showlegend": false,
         "textfont": {
          "size": 11
         },
         "textposition": "auto",
         "texttemplate": "%{y:.2f}",
         "type": "bar",
         "x": [
          "retired cap"
         ],
         "xaxis": "x6",
         "y": {
          "bdata": "Xi/KpUi86L8=",
          "dtype": "f8"
         },
         "yaxis": "y6"
        },
        {
         "hovertemplate": "life=Survival Q2-3<br>cap type=%{x}<br>mode=LD Car<br>vintage=2025<br>capacity=%{y}<extra></extra>",
         "legendgroup": "Survival Q2-3, retired cap",
         "marker": {
          "color": "rgb(17, 165, 121)",
          "pattern": {
           "shape": "/"
          }
         },
         "name": "Survival Q2-3",
         "orientation": "v",
         "showlegend": false,
         "textfont": {
          "size": 11
         },
         "textposition": "auto",
         "texttemplate": "%{y:.2f}",
         "type": "bar",
         "x": [
          "retired cap"
         ],
         "xaxis": "x7",
         "y": {
          "bdata": "v4jwDnRd3b8=",
          "dtype": "f8"
         },
         "yaxis": "y7"
        },
        {
         "hovertemplate": "life=Survival Q2-3<br>cap type=%{x}<br>mode=LD Car<br>vintage=2030<br>capacity=%{y}<extra></extra>",
         "legendgroup": "Survival Q2-3, retired cap",
         "marker": {
          "color": "rgb(17, 165, 121)",
          "pattern": {
           "shape": "/"
          }
         },
         "name": "Survival Q2-3",
         "orientation": "v",
         "showlegend": false,
         "textfont": {
          "size": 11
         },
         "textposition": "auto",
         "texttemplate": "%{y:.2f}",
         "type": "bar",
         "x": [
          "retired cap"
         ],
         "xaxis": "x8",
         "y": {
          "bdata": "XWutN4Py5r8=",
          "dtype": "f8"
         },
         "yaxis": "y8"
        },
        {
         "hovertemplate": "life=Survival Q2-3<br>cap type=%{x}<br>mode=LD Car<br>vintage=2035<br>capacity=%{y}<extra></extra>",
         "legendgroup": "Survival Q2-3, retired cap",
         "marker": {
          "color": "rgb(17, 165, 121)",
          "pattern": {
           "shape": "/"
          }
         },
         "name": "Survival Q2-3",
         "orientation": "v",
         "showlegend": false,
         "textfont": {
          "size": 11
         },
         "textposition": "auto",
         "texttemplate": "%{y:.2f}",
         "type": "bar",
         "x": [
          "retired cap"
         ],
         "xaxis": "x9",
         "y": {
          "bdata": "8DnM4zem878=",
          "dtype": "f8"
         },
         "yaxis": "y9"
        },
        {
         "hovertemplate": "life=Survival Q2-3<br>cap type=%{x}<br>mode=LD Car<br>vintage=2040<br>capacity=%{y}<extra></extra>",
         "legendgroup": "Survival Q2-3, retired cap",
         "marker": {
          "color": "rgb(17, 165, 121)",
          "pattern": {
           "shape": "/"
          }
         },
         "name": "Survival Q2-3",
         "orientation": "v",
         "showlegend": false,
         "textfont": {
          "size": 11
         },
         "textposition": "auto",
         "texttemplate": "%{y:.2f}",
         "type": "bar",
         "x": [
          "retired cap"
         ],
         "xaxis": "x10",
         "y": {
          "bdata": "psTYUBIz8b8=",
          "dtype": "f8"
         },
         "yaxis": "y10"
        },
        {
         "hovertemplate": "life=Survival Q2-3<br>cap type=%{x}<br>mode=LD Car<br>vintage=2045<br>capacity=%{y}<extra></extra>",
         "legendgroup": "Survival Q2-3, retired cap",
         "marker": {
          "color": "rgb(17, 165, 121)",
          "pattern": {
           "shape": "/"
          }
         },
         "name": "Survival Q2-3",
         "orientation": "v",
         "showlegend": false,
         "textfont": {
          "size": 11
         },
         "textposition": "auto",
         "texttemplate": "%{y:.2f}",
         "type": "bar",
         "x": [
          "retired cap"
         ],
         "xaxis": "x11",
         "y": {
          "bdata": "I4NT78l/5b8=",
          "dtype": "f8"
         },
         "yaxis": "y11"
        },
        {
         "hovertemplate": "life=Survival Q2-3<br>cap type=%{x}<br>mode=LD Car<br>vintage=2050<br>capacity=%{y}<extra></extra>",
         "legendgroup": "Survival Q2-3, retired cap",
         "marker": {
          "color": "rgb(17, 165, 121)",
          "pattern": {
           "shape": "/"
          }
         },
         "name": "Survival Q2-3",
         "orientation": "v",
         "showlegend": false,
         "textfont": {
          "size": 11
         },
         "textposition": "auto",
         "texttemplate": "%{y:.2f}",
         "type": "bar",
         "x": [
          "retired cap"
         ],
         "xaxis": "x12",
         "y": {
          "bdata": "ShgzGkEE+L8=",
          "dtype": "f8"
         },
         "yaxis": "y12"
        },
        {
         "hovertemplate": "life=Survival Q2-3<br>cap type=%{x}<br>mode=LD Truck<br>vintage=2030<br>capacity=%{y}<extra></extra>",
         "legendgroup": "Survival Q2-3, retired cap",
         "marker": {
          "color": "rgb(17, 165, 121)",
          "pattern": {
           "shape": "/"
          }
         },
         "name": "Survival Q2-3",
         "orientation": "v",
         "showlegend": false,
         "textfont": {
          "size": 11
         },
         "textposition": "auto",
         "texttemplate": "%{y:.2f}",
         "type": "bar",
         "x": [
          "retired cap"
         ],
         "xaxis": "x2",
         "y": {
          "bdata": "/0N2tUdN6b8=",
          "dtype": "f8"
         },
         "yaxis": "y2"
        },
        {
         "hovertemplate": "life=Survival Q2-3<br>cap type=%{x}<br>mode=LD Truck<br>vintage=2035<br>capacity=%{y}<extra></extra>",
         "legendgroup": "Survival Q2-3, retired cap",
         "marker": {
          "color": "rgb(17, 165, 121)",
          "pattern": {
           "shape": "/"
          }
         },
         "name": "Survival Q2-3",
         "orientation": "v",
         "showlegend": false,
         "textfont": {
          "size": 11
         },
         "textposition": "auto",
         "texttemplate": "%{y:.2f}",
         "type": "bar",
         "x": [
          "retired cap"
         ],
         "xaxis": "x3",
         "y": {
          "bdata": "FbPSYvgx6r8=",
          "dtype": "f8"
         },
         "yaxis": "y3"
        },
        {
         "hovertemplate": "life=Survival Q2-3<br>cap type=%{x}<br>mode=LD Truck<br>vintage=2040<br>capacity=%{y}<extra></extra>",
         "legendgroup": "Survival Q2-3, retired cap",
         "marker": {
          "color": "rgb(17, 165, 121)",
          "pattern": {
           "shape": "/"
          }
         },
         "name": "Survival Q2-3",
         "orientation": "v",
         "showlegend": false,
         "textfont": {
          "size": 11
         },
         "textposition": "auto",
         "texttemplate": "%{y:.2f}",
         "type": "bar",
         "x": [
          "retired cap"
         ],
         "xaxis": "x4",
         "y": {
          "bdata": "pWmhzmoy9r8=",
          "dtype": "f8"
         },
         "yaxis": "y4"
        },
        {
         "hovertemplate": "life=Survival Q2-3<br>cap type=%{x}<br>mode=LD Truck<br>vintage=2045<br>capacity=%{y}<extra></extra>",
         "legendgroup": "Survival Q2-3, retired cap",
         "marker": {
          "color": "rgb(17, 165, 121)",
          "pattern": {
           "shape": "/"
          }
         },
         "name": "Survival Q2-3",
         "orientation": "v",
         "showlegend": false,
         "textfont": {
          "size": 11
         },
         "textposition": "auto",
         "texttemplate": "%{y:.2f}",
         "type": "bar",
         "x": [
          "retired cap"
         ],
         "xaxis": "x5",
         "y": {
          "bdata": "NZqbMvUS778=",
          "dtype": "f8"
         },
         "yaxis": "y5"
        },
        {
         "hovertemplate": "life=Survival Q2-3<br>cap type=%{x}<br>mode=LD Truck<br>vintage=2050<br>capacity=%{y}<extra></extra>",
         "legendgroup": "Survival Q2-3, retired cap",
         "marker": {
          "color": "rgb(17, 165, 121)",
          "pattern": {
           "shape": "/"
          }
         },
         "name": "Survival Q2-3",
         "orientation": "v",
         "showlegend": false,
         "textfont": {
          "size": 11
         },
         "textposition": "auto",
         "texttemplate": "%{y:.2f}",
         "type": "bar",
         "x": [
          "retired cap"
         ],
         "xaxis": "x6",
         "y": {
          "bdata": "haN3jU6M6L8=",
          "dtype": "f8"
         },
         "yaxis": "y6"
        },
        {
         "hovertemplate": "life=Survival Q4<br>cap type=%{x}<br>mode=LD Car<br>vintage=2035<br>capacity=%{y}<extra></extra>",
         "legendgroup": "Survival Q4, retired cap",
         "marker": {
          "color": "rgb(57, 105, 172)",
          "pattern": {
           "shape": "/"
          }
         },
         "name": "Survival Q4",
         "orientation": "v",
         "showlegend": false,
         "textfont": {
          "size": 11
         },
         "textposition": "auto",
         "texttemplate": "%{y:.2f}",
         "type": "bar",
         "x": [
          "retired cap"
         ],
         "xaxis": "x9",
         "y": {
          "bdata": "J1ugtKKTw78=",
          "dtype": "f8"
         },
         "yaxis": "y9"
        },
        {
         "hovertemplate": "life=Survival Q4<br>cap type=%{x}<br>mode=LD Car<br>vintage=2040<br>capacity=%{y}<extra></extra>",
         "legendgroup": "Survival Q4, retired cap",
         "marker": {
          "color": "rgb(57, 105, 172)",
          "pattern": {
           "shape": "/"
          }
         },
         "name": "Survival Q4",
         "orientation": "v",
         "showlegend": false,
         "textfont": {
          "size": 11
         },
         "textposition": "auto",
         "texttemplate": "%{y:.2f}",
         "type": "bar",
         "x": [
          "retired cap"
         ],
         "xaxis": "x10",
         "y": {
          "bdata": "YNZh2KPY1r8=",
          "dtype": "f8"
         },
         "yaxis": "y10"
        },
        {
         "hovertemplate": "life=Survival Q4<br>cap type=%{x}<br>mode=LD Car<br>vintage=2045<br>capacity=%{y}<extra></extra>",
         "legendgroup": "Survival Q4, retired cap",
         "marker": {
          "color": "rgb(57, 105, 172)",
          "pattern": {
           "shape": "/"
          }
         },
         "name": "Survival Q4",
         "orientation": "v",
         "showlegend": false,
         "textfont": {
          "size": 11
         },
         "textposition": "auto",
         "texttemplate": "%{y:.2f}",
         "type": "bar",
         "x": [
          "retired cap"
         ],
         "xaxis": "x11",
         "y": {
          "bdata": "W/LM7G9A3L8=",
          "dtype": "f8"
         },
         "yaxis": "y11"
        },
        {
         "hovertemplate": "life=Survival Q4<br>cap type=%{x}<br>mode=LD Car<br>vintage=2050<br>capacity=%{y}<extra></extra>",
         "legendgroup": "Survival Q4, retired cap",
         "marker": {
          "color": "rgb(57, 105, 172)",
          "pattern": {
           "shape": "/"
          }
         },
         "name": "Survival Q4",
         "orientation": "v",
         "showlegend": false,
         "textfont": {
          "size": 11
         },
         "textposition": "auto",
         "texttemplate": "%{y:.2f}",
         "type": "bar",
         "x": [
          "retired cap"
         ],
         "xaxis": "x12",
         "y": {
          "bdata": "58lOfjex5r8=",
          "dtype": "f8"
         },
         "yaxis": "y12"
        },
        {
         "hovertemplate": "life=Survival Q4<br>cap type=%{x}<br>mode=LD Truck<br>vintage=2040<br>capacity=%{y}<extra></extra>",
         "legendgroup": "Survival Q4, retired cap",
         "marker": {
          "color": "rgb(57, 105, 172)",
          "pattern": {
           "shape": "/"
          }
         },
         "name": "Survival Q4",
         "orientation": "v",
         "showlegend": false,
         "textfont": {
          "size": 11
         },
         "textposition": "auto",
         "texttemplate": "%{y:.2f}",
         "type": "bar",
         "x": [
          "retired cap"
         ],
         "xaxis": "x4",
         "y": {
          "bdata": "/NdOzi/e0L8=",
          "dtype": "f8"
         },
         "yaxis": "y4"
        },
        {
         "hovertemplate": "life=Survival Q4<br>cap type=%{x}<br>mode=LD Truck<br>vintage=2045<br>capacity=%{y}<extra></extra>",
         "legendgroup": "Survival Q4, retired cap",
         "marker": {
          "color": "rgb(57, 105, 172)",
          "pattern": {
           "shape": "/"
          }
         },
         "name": "Survival Q4",
         "orientation": "v",
         "showlegend": false,
         "textfont": {
          "size": 11
         },
         "textposition": "auto",
         "texttemplate": "%{y:.2f}",
         "type": "bar",
         "x": [
          "retired cap"
         ],
         "xaxis": "x5",
         "y": {
          "bdata": "NY7kNDwk2r8=",
          "dtype": "f8"
         },
         "yaxis": "y5"
        },
        {
         "hovertemplate": "life=Survival Q4<br>cap type=%{x}<br>mode=LD Truck<br>vintage=2050<br>capacity=%{y}<extra></extra>",
         "legendgroup": "Survival Q4, retired cap",
         "marker": {
          "color": "rgb(57, 105, 172)",
          "pattern": {
           "shape": "/"
          }
         },
         "name": "Survival Q4",
         "orientation": "v",
         "showlegend": false,
         "textfont": {
          "size": 11
         },
         "textposition": "auto",
         "texttemplate": "%{y:.2f}",
         "type": "bar",
         "x": [
          "retired cap"
         ],
         "xaxis": "x6",
         "y": {
          "bdata": "xV+nzmoy5r8=",
          "dtype": "f8"
         },
         "yaxis": "y6"
        },
        {
         "legendgroup": "Blank",
         "marker": {
          "color": "rgba(0,0,0,0)"
         },
         "name": "",
         "showlegend": true,
         "textfont": {
          "size": 11
         },
         "type": "bar",
         "x": [
          null
         ],
         "y": [
          null
         ]
        },
        {
         "legendgroup": "Capacity type",
         "legendgrouptitle": {
          "text": "Capacity type"
         },
         "marker": {
          "color": "rgba(0,0,0,0)",
          "line": {
           "color": "black",
           "width": 1
          },
          "pattern": {
           "shape": ""
          }
         },
         "name": "Net capacity",
         "showlegend": true,
         "textfont": {
          "size": 11
         },
         "type": "bar",
         "x": [
          null
         ],
         "y": [
          null
         ]
        },
        {
         "legendgroup": "Capacity type",
         "marker": {
          "color": "rgba(0,0,0,0)",
          "line": {
           "color": "black",
           "width": 1
          },
          "pattern": {
           "shape": "."
          }
         },
         "name": "New capacity",
         "showlegend": true,
         "textfont": {
          "size": 11
         },
         "type": "bar",
         "x": [
          null
         ],
         "y": [
          null
         ]
        },
        {
         "legendgroup": "Capacity type",
         "marker": {
          "color": "rgba(0,0,0,0)",
          "line": {
           "color": "black",
           "width": 1
          },
          "pattern": {
           "shape": "/"
          }
         },
         "name": "Retired capacity",
         "showlegend": true,
         "textfont": {
          "size": 11
         },
         "type": "bar",
         "x": [
          null
         ],
         "y": [
          null
         ]
        }
       ],
       "layout": {
        "annotations": [
         {
          "showarrow": false,
          "text": "2025",
          "x": 0.07333333333333333,
          "xanchor": "center",
          "xref": "paper",
          "y": 0.005,
          "yanchor": "top",
          "yref": "paper"
         },
         {
          "showarrow": false,
          "text": "2030",
          "x": 0.24,
          "xanchor": "center",
          "xref": "paper",
          "y": 0.005,
          "yanchor": "top",
          "yref": "paper"
         },
         {
          "showarrow": false,
          "text": "2035",
          "x": 0.4066666666666666,
          "xanchor": "center",
          "xref": "paper",
          "y": 0.005,
          "yanchor": "top",
          "yref": "paper"
         },
         {
          "showarrow": false,
          "text": "2040",
          "x": 0.5733333333333334,
          "xanchor": "center",
          "xref": "paper",
          "y": 0.005,
          "yanchor": "top",
          "yref": "paper"
         },
         {
          "showarrow": false,
          "text": "2045",
          "x": 0.74,
          "xanchor": "center",
          "xref": "paper",
          "y": 0.005,
          "yanchor": "top",
          "yref": "paper"
         },
         {
          "showarrow": false,
          "text": "2050",
          "x": 0.9066666666666667,
          "xanchor": "center",
          "xref": "paper",
          "y": 0.005,
          "yanchor": "top",
          "yref": "paper"
         },
         {
          "font": {
           "size": 16
          },
          "showarrow": false,
          "text": "Class: LD Truck",
          "textangle": 90,
          "x": 1.01,
          "xanchor": "center",
          "xref": "paper",
          "y": 0.2475,
          "yanchor": "middle",
          "yref": "paper"
         },
         {
          "font": {
           "size": 16
          },
          "showarrow": false,
          "text": "Class: LD Car",
          "textangle": 90,
          "x": 1.01,
          "xanchor": "center",
          "xref": "paper",
          "y": 0.7525,
          "yanchor": "middle",
          "yref": "paper"
         },
         {
          "font": {
           "size": 17
          },
          "showarrow": false,
          "text": "Fleet capacity (M units)",
          "textangle": -90,
          "x": -0.07,
          "xref": "paper",
          "y": 0.5,
          "yref": "paper"
         }
        ],
        "bargap": 0.1,
        "barmode": "relative",
        "font": {
         "size": 15
        },
        "height": 800,
        "legend": {
         "orientation": "v",
         "title": {
          "text": "Survival rate class"
         },
         "tracegroupgap": 0,
         "x": 1.15,
         "xanchor": "center",
         "y": 0.8,
         "yanchor": "top"
        },
        "margin": {
         "b": 10,
         "t": 10
        },
        "template": {
         "data": {
          "bar": [
           {
            "error_x": {
             "color": "#2a3f5f"
            },
            "error_y": {
             "color": "#2a3f5f"
            },
            "marker": {
             "line": {
              "color": "white",
              "width": 0.5
             },
             "pattern": {
              "fillmode": "overlay",
              "size": 10,
              "solidity": 0.2
             }
            },
            "type": "bar"
           }
          ],
          "barpolar": [
           {
            "marker": {
             "line": {
              "color": "white",
              "width": 0.5
             },
             "pattern": {
              "fillmode": "overlay",
              "size": 10,
              "solidity": 0.2
             }
            },
            "type": "barpolar"
           }
          ],
          "carpet": [
           {
            "aaxis": {
             "endlinecolor": "#2a3f5f",
             "gridcolor": "#C8D4E3",
             "linecolor": "#C8D4E3",
             "minorgridcolor": "#C8D4E3",
             "startlinecolor": "#2a3f5f"
            },
            "baxis": {
             "endlinecolor": "#2a3f5f",
             "gridcolor": "#C8D4E3",
             "linecolor": "#C8D4E3",
             "minorgridcolor": "#C8D4E3",
             "startlinecolor": "#2a3f5f"
            },
            "type": "carpet"
           }
          ],
          "choropleth": [
           {
            "colorbar": {
             "outlinewidth": 0,
             "ticks": ""
            },
            "type": "choropleth"
           }
          ],
          "contour": [
           {
            "colorbar": {
             "outlinewidth": 0,
             "ticks": ""
            },
            "colorscale": [
             [
              0,
              "#0d0887"
             ],
             [
              0.1111111111111111,
              "#46039f"
             ],
             [
              0.2222222222222222,
              "#7201a8"
             ],
             [
              0.3333333333333333,
              "#9c179e"
             ],
             [
              0.4444444444444444,
              "#bd3786"
             ],
             [
              0.5555555555555556,
              "#d8576b"
             ],
             [
              0.6666666666666666,
              "#ed7953"
             ],
             [
              0.7777777777777778,
              "#fb9f3a"
             ],
             [
              0.8888888888888888,
              "#fdca26"
             ],
             [
              1,
              "#f0f921"
             ]
            ],
            "type": "contour"
           }
          ],
          "contourcarpet": [
           {
            "colorbar": {
             "outlinewidth": 0,
             "ticks": ""
            },
            "type": "contourcarpet"
           }
          ],
          "heatmap": [
           {
            "colorbar": {
             "outlinewidth": 0,
             "ticks": ""
            },
            "colorscale": [
             [
              0,
              "#0d0887"
             ],
             [
              0.1111111111111111,
              "#46039f"
             ],
             [
              0.2222222222222222,
              "#7201a8"
             ],
             [
              0.3333333333333333,
              "#9c179e"
             ],
             [
              0.4444444444444444,
              "#bd3786"
             ],
             [
              0.5555555555555556,
              "#d8576b"
             ],
             [
              0.6666666666666666,
              "#ed7953"
             ],
             [
              0.7777777777777778,
              "#fb9f3a"
             ],
             [
              0.8888888888888888,
              "#fdca26"
             ],
             [
              1,
              "#f0f921"
             ]
            ],
            "type": "heatmap"
           }
          ],
          "histogram": [
           {
            "marker": {
             "pattern": {
              "fillmode": "overlay",
              "size": 10,
              "solidity": 0.2
             }
            },
            "type": "histogram"
           }
          ],
          "histogram2d": [
           {
            "colorbar": {
             "outlinewidth": 0,
             "ticks": ""
            },
            "colorscale": [
             [
              0,
              "#0d0887"
             ],
             [
              0.1111111111111111,
              "#46039f"
             ],
             [
              0.2222222222222222,
              "#7201a8"
             ],
             [
              0.3333333333333333,
              "#9c179e"
             ],
             [
              0.4444444444444444,
              "#bd3786"
             ],
             [
              0.5555555555555556,
              "#d8576b"
             ],
             [
              0.6666666666666666,
              "#ed7953"
             ],
             [
              0.7777777777777778,
              "#fb9f3a"
             ],
             [
              0.8888888888888888,
              "#fdca26"
             ],
             [
              1,
              "#f0f921"
             ]
            ],
            "type": "histogram2d"
           }
          ],
          "histogram2dcontour": [
           {
            "colorbar": {
             "outlinewidth": 0,
             "ticks": ""
            },
            "colorscale": [
             [
              0,
              "#0d0887"
             ],
             [
              0.1111111111111111,
              "#46039f"
             ],
             [
              0.2222222222222222,
              "#7201a8"
             ],
             [
              0.3333333333333333,
              "#9c179e"
             ],
             [
              0.4444444444444444,
              "#bd3786"
             ],
             [
              0.5555555555555556,
              "#d8576b"
             ],
             [
              0.6666666666666666,
              "#ed7953"
             ],
             [
              0.7777777777777778,
              "#fb9f3a"
             ],
             [
              0.8888888888888888,
              "#fdca26"
             ],
             [
              1,
              "#f0f921"
             ]
            ],
            "type": "histogram2dcontour"
           }
          ],
          "mesh3d": [
           {
            "colorbar": {
             "outlinewidth": 0,
             "ticks": ""
            },
            "type": "mesh3d"
           }
          ],
          "parcoords": [
           {
            "line": {
             "colorbar": {
              "outlinewidth": 0,
              "ticks": ""
             }
            },
            "type": "parcoords"
           }
          ],
          "pie": [
           {
            "automargin": true,
            "type": "pie"
           }
          ],
          "scatter": [
           {
            "fillpattern": {
             "fillmode": "overlay",
             "size": 10,
             "solidity": 0.2
            },
            "type": "scatter"
           }
          ],
          "scatter3d": [
           {
            "line": {
             "colorbar": {
              "outlinewidth": 0,
              "ticks": ""
             }
            },
            "marker": {
             "colorbar": {
              "outlinewidth": 0,
              "ticks": ""
             }
            },
            "type": "scatter3d"
           }
          ],
          "scattercarpet": [
           {
            "marker": {
             "colorbar": {
              "outlinewidth": 0,
              "ticks": ""
             }
            },
            "type": "scattercarpet"
           }
          ],
          "scattergeo": [
           {
            "marker": {
             "colorbar": {
              "outlinewidth": 0,
              "ticks": ""
             }
            },
            "type": "scattergeo"
           }
          ],
          "scattergl": [
           {
            "marker": {
             "colorbar": {
              "outlinewidth": 0,
              "ticks": ""
             }
            },
            "type": "scattergl"
           }
          ],
          "scattermap": [
           {
            "marker": {
             "colorbar": {
              "outlinewidth": 0,
              "ticks": ""
             }
            },
            "type": "scattermap"
           }
          ],
          "scattermapbox": [
           {
            "marker": {
             "colorbar": {
              "outlinewidth": 0,
              "ticks": ""
             }
            },
            "type": "scattermapbox"
           }
          ],
          "scatterpolar": [
           {
            "marker": {
             "colorbar": {
              "outlinewidth": 0,
              "ticks": ""
             }
            },
            "type": "scatterpolar"
           }
          ],
          "scatterpolargl": [
           {
            "marker": {
             "colorbar": {
              "outlinewidth": 0,
              "ticks": ""
             }
            },
            "type": "scatterpolargl"
           }
          ],
          "scatterternary": [
           {
            "marker": {
             "colorbar": {
              "outlinewidth": 0,
              "ticks": ""
             }
            },
            "type": "scatterternary"
           }
          ],
          "surface": [
           {
            "colorbar": {
             "outlinewidth": 0,
             "ticks": ""
            },
            "colorscale": [
             [
              0,
              "#0d0887"
             ],
             [
              0.1111111111111111,
              "#46039f"
             ],
             [
              0.2222222222222222,
              "#7201a8"
             ],
             [
              0.3333333333333333,
              "#9c179e"
             ],
             [
              0.4444444444444444,
              "#bd3786"
             ],
             [
              0.5555555555555556,
              "#d8576b"
             ],
             [
              0.6666666666666666,
              "#ed7953"
             ],
             [
              0.7777777777777778,
              "#fb9f3a"
             ],
             [
              0.8888888888888888,
              "#fdca26"
             ],
             [
              1,
              "#f0f921"
             ]
            ],
            "type": "surface"
           }
          ],
          "table": [
           {
            "cells": {
             "fill": {
              "color": "#EBF0F8"
             },
             "line": {
              "color": "white"
             }
            },
            "header": {
             "fill": {
              "color": "#C8D4E3"
             },
             "line": {
              "color": "white"
             }
            },
            "type": "table"
           }
          ]
         },
         "layout": {
          "annotationdefaults": {
           "arrowcolor": "#2a3f5f",
           "arrowhead": 0,
           "arrowwidth": 1
          },
          "autotypenumbers": "strict",
          "coloraxis": {
           "colorbar": {
            "outlinewidth": 0,
            "ticks": ""
           }
          },
          "colorscale": {
           "diverging": [
            [
             0,
             "#8e0152"
            ],
            [
             0.1,
             "#c51b7d"
            ],
            [
             0.2,
             "#de77ae"
            ],
            [
             0.3,
             "#f1b6da"
            ],
            [
             0.4,
             "#fde0ef"
            ],
            [
             0.5,
             "#f7f7f7"
            ],
            [
             0.6,
             "#e6f5d0"
            ],
            [
             0.7,
             "#b8e186"
            ],
            [
             0.8,
             "#7fbc41"
            ],
            [
             0.9,
             "#4d9221"
            ],
            [
             1,
             "#276419"
            ]
           ],
           "sequential": [
            [
             0,
             "#0d0887"
            ],
            [
             0.1111111111111111,
             "#46039f"
            ],
            [
             0.2222222222222222,
             "#7201a8"
            ],
            [
             0.3333333333333333,
             "#9c179e"
            ],
            [
             0.4444444444444444,
             "#bd3786"
            ],
            [
             0.5555555555555556,
             "#d8576b"
            ],
            [
             0.6666666666666666,
             "#ed7953"
            ],
            [
             0.7777777777777778,
             "#fb9f3a"
            ],
            [
             0.8888888888888888,
             "#fdca26"
            ],
            [
             1,
             "#f0f921"
            ]
           ],
           "sequentialminus": [
            [
             0,
             "#0d0887"
            ],
            [
             0.1111111111111111,
             "#46039f"
            ],
            [
             0.2222222222222222,
             "#7201a8"
            ],
            [
             0.3333333333333333,
             "#9c179e"
            ],
            [
             0.4444444444444444,
             "#bd3786"
            ],
            [
             0.5555555555555556,
             "#d8576b"
            ],
            [
             0.6666666666666666,
             "#ed7953"
            ],
            [
             0.7777777777777778,
             "#fb9f3a"
            ],
            [
             0.8888888888888888,
             "#fdca26"
            ],
            [
             1,
             "#f0f921"
            ]
           ]
          },
          "colorway": [
           "#636efa",
           "#EF553B",
           "#00cc96",
           "#ab63fa",
           "#FFA15A",
           "#19d3f3",
           "#FF6692",
           "#B6E880",
           "#FF97FF",
           "#FECB52"
          ],
          "font": {
           "color": "#2a3f5f"
          },
          "geo": {
           "bgcolor": "white",
           "lakecolor": "white",
           "landcolor": "white",
           "showlakes": true,
           "showland": true,
           "subunitcolor": "#C8D4E3"
          },
          "hoverlabel": {
           "align": "left"
          },
          "hovermode": "closest",
          "mapbox": {
           "style": "light"
          },
          "paper_bgcolor": "white",
          "plot_bgcolor": "white",
          "polar": {
           "angularaxis": {
            "gridcolor": "#EBF0F8",
            "linecolor": "#EBF0F8",
            "ticks": ""
           },
           "bgcolor": "white",
           "radialaxis": {
            "gridcolor": "#EBF0F8",
            "linecolor": "#EBF0F8",
            "ticks": ""
           }
          },
          "scene": {
           "xaxis": {
            "backgroundcolor": "white",
            "gridcolor": "#DFE8F3",
            "gridwidth": 2,
            "linecolor": "#EBF0F8",
            "showbackground": true,
            "ticks": "",
            "zerolinecolor": "#EBF0F8"
           },
           "yaxis": {
            "backgroundcolor": "white",
            "gridcolor": "#DFE8F3",
            "gridwidth": 2,
            "linecolor": "#EBF0F8",
            "showbackground": true,
            "ticks": "",
            "zerolinecolor": "#EBF0F8"
           },
           "zaxis": {
            "backgroundcolor": "white",
            "gridcolor": "#DFE8F3",
            "gridwidth": 2,
            "linecolor": "#EBF0F8",
            "showbackground": true,
            "ticks": "",
            "zerolinecolor": "#EBF0F8"
           }
          },
          "shapedefaults": {
           "line": {
            "color": "#2a3f5f"
           }
          },
          "ternary": {
           "aaxis": {
            "gridcolor": "#DFE8F3",
            "linecolor": "#A2B1C6",
            "ticks": ""
           },
           "baxis": {
            "gridcolor": "#DFE8F3",
            "linecolor": "#A2B1C6",
            "ticks": ""
           },
           "bgcolor": "white",
           "caxis": {
            "gridcolor": "#DFE8F3",
            "linecolor": "#A2B1C6",
            "ticks": ""
           }
          },
          "title": {
           "x": 0.05
          },
          "xaxis": {
           "automargin": true,
           "gridcolor": "#EBF0F8",
           "linecolor": "#EBF0F8",
           "ticks": "",
           "title": {
            "standoff": 15
           },
           "zerolinecolor": "#EBF0F8",
           "zerolinewidth": 2
          },
          "yaxis": {
           "automargin": true,
           "gridcolor": "#EBF0F8",
           "linecolor": "#EBF0F8",
           "ticks": "",
           "title": {
            "standoff": 15
           },
           "zerolinecolor": "#EBF0F8",
           "zerolinewidth": 2
          }
         }
        },
        "title": {
         "text": "Transport LDV fleet stock and flow in ON by vehicle class and lifetime",
         "x": 0.5,
         "xanchor": "center",
         "y": 0.97,
         "yanchor": "top"
        },
        "width": 1200,
        "xaxis": {
         "anchor": "y",
         "categoryarray": [
          "net capacity",
          "new capacity",
          "retired cap"
         ],
         "categoryorder": "array",
         "domain": [
          0,
          0.14666666666666667
         ],
         "showticklabels": false,
         "title": {
          "text": ""
         }
        },
        "xaxis10": {
         "anchor": "y10",
         "domain": [
          0.5,
          0.6466666666666667
         ],
         "matches": "x",
         "showticklabels": false,
         "title": {
          "text": ""
         }
        },
        "xaxis11": {
         "anchor": "y11",
         "domain": [
          0.6666666666666666,
          0.8133333333333332
         ],
         "matches": "x",
         "showticklabels": false,
         "title": {
          "text": ""
         }
        },
        "xaxis12": {
         "anchor": "y12",
         "domain": [
          0.8333333333333334,
          0.98
         ],
         "matches": "x",
         "showticklabels": false,
         "title": {
          "text": ""
         }
        },
        "xaxis2": {
         "anchor": "y2",
         "categoryarray": [
          "net capacity",
          "new capacity",
          "retired cap"
         ],
         "categoryorder": "array",
         "domain": [
          0.16666666666666666,
          0.31333333333333335
         ],
         "matches": "x",
         "showticklabels": false,
         "title": {
          "text": ""
         }
        },
        "xaxis3": {
         "anchor": "y3",
         "categoryarray": [
          "net capacity",
          "new capacity",
          "retired cap"
         ],
         "categoryorder": "array",
         "domain": [
          0.3333333333333333,
          0.48
         ],
         "matches": "x",
         "showticklabels": false,
         "title": {
          "text": ""
         }
        },
        "xaxis4": {
         "anchor": "y4",
         "categoryarray": [
          "net capacity",
          "new capacity",
          "retired cap"
         ],
         "categoryorder": "array",
         "domain": [
          0.5,
          0.6466666666666667
         ],
         "matches": "x",
         "showticklabels": false,
         "title": {
          "text": ""
         }
        },
        "xaxis5": {
         "anchor": "y5",
         "categoryarray": [
          "net capacity",
          "new capacity",
          "retired cap"
         ],
         "categoryorder": "array",
         "domain": [
          0.6666666666666666,
          0.8133333333333332
         ],
         "matches": "x",
         "showticklabels": false,
         "title": {
          "text": ""
         }
        },
        "xaxis6": {
         "anchor": "y6",
         "categoryarray": [
          "net capacity",
          "new capacity",
          "retired cap"
         ],
         "categoryorder": "array",
         "domain": [
          0.8333333333333334,
          0.98
         ],
         "matches": "x",
         "showticklabels": false,
         "title": {
          "text": ""
         }
        },
        "xaxis7": {
         "anchor": "y7",
         "domain": [
          0,
          0.14666666666666667
         ],
         "matches": "x",
         "showticklabels": false,
         "title": {
          "text": ""
         }
        },
        "xaxis8": {
         "anchor": "y8",
         "domain": [
          0.16666666666666666,
          0.31333333333333335
         ],
         "matches": "x",
         "showticklabels": false,
         "title": {
          "text": ""
         }
        },
        "xaxis9": {
         "anchor": "y9",
         "domain": [
          0.3333333333333333,
          0.48
         ],
         "matches": "x",
         "showticklabels": false,
         "title": {
          "text": ""
         }
        },
        "yaxis": {
         "anchor": "x",
         "domain": [
          0,
          0.495
         ],
         "dtick": 2,
         "title": {
          "standoff": 0,
          "text": ""
         }
        },
        "yaxis10": {
         "anchor": "x10",
         "domain": [
          0.505,
          1
         ],
         "dtick": 2,
         "matches": "y",
         "showticklabels": false,
         "title": {
          "text": ""
         }
        },
        "yaxis11": {
         "anchor": "x11",
         "domain": [
          0.505,
          1
         ],
         "dtick": 2,
         "matches": "y",
         "showticklabels": false,
         "title": {
          "text": ""
         }
        },
        "yaxis12": {
         "anchor": "x12",
         "domain": [
          0.505,
          1
         ],
         "dtick": 2,
         "matches": "y",
         "showticklabels": false,
         "title": {
          "text": ""
         }
        },
        "yaxis2": {
         "anchor": "x2",
         "domain": [
          0,
          0.495
         ],
         "dtick": 2,
         "matches": "y",
         "showticklabels": false,
         "title": {
          "text": ""
         }
        },
        "yaxis3": {
         "anchor": "x3",
         "domain": [
          0,
          0.495
         ],
         "dtick": 2,
         "matches": "y",
         "showticklabels": false,
         "title": {
          "text": ""
         }
        },
        "yaxis4": {
         "anchor": "x4",
         "domain": [
          0,
          0.495
         ],
         "dtick": 2,
         "matches": "y",
         "showticklabels": false,
         "title": {
          "text": ""
         }
        },
        "yaxis5": {
         "anchor": "x5",
         "domain": [
          0,
          0.495
         ],
         "dtick": 2,
         "matches": "y",
         "showticklabels": false,
         "title": {
          "text": ""
         }
        },
        "yaxis6": {
         "anchor": "x6",
         "domain": [
          0,
          0.495
         ],
         "dtick": 2,
         "matches": "y",
         "showticklabels": false,
         "title": {
          "text": ""
         }
        },
        "yaxis7": {
         "anchor": "x7",
         "domain": [
          0.505,
          1
         ],
         "dtick": 2,
         "matches": "y",
         "title": {
          "text": ""
         }
        },
        "yaxis8": {
         "anchor": "x8",
         "domain": [
          0.505,
          1
         ],
         "dtick": 2,
         "matches": "y",
         "showticklabels": false,
         "title": {
          "text": ""
         }
        },
        "yaxis9": {
         "anchor": "x9",
         "domain": [
          0.505,
          1
         ],
         "dtick": 2,
         "matches": "y",
         "showticklabels": false,
         "title": {
          "text": ""
         }
        }
       }
      }
     },
     "metadata": {},
     "output_type": "display_data"
    }
   ],
   "source": [
    "def map_tech_survival(tech):\n",
    "    if '_S25' in tech:\n",
    "        return 'Survival Q1'\n",
    "    if '_S75' in tech:\n",
    "        return 'Survival Q4'\n",
    "    else: return 'Survival Q2-3'\n",
    "\n",
    "if 'lifetime' in db_name:\n",
    "    net_cap['life'] = net_cap['tech'].apply(map_tech_survival)\n",
    "    new_cap['life'] = new_cap['tech'].apply(map_tech_survival)\n",
    "    ex_cap['life'] = ex_cap['tech'].apply(map_tech_survival)\n",
    "    net_cap_group = net_cap.groupby(['mode', 'fuel', 'life', 'period'], as_index=False).sum('capacity').drop(columns='vintage').rename(columns={'period': 'vintage'})\n",
    "    ex_cap_group = ex_cap.copy()\n",
    "    ex_cap_group['vintage'] = 2021\n",
    "    ex_cap_group = ex_cap_group.groupby(['mode', 'fuel', 'life', 'vintage', 'units'], as_index=False).sum('capacity')\n",
    "    new_cap_group = new_cap.groupby(['mode', 'fuel', 'life', 'vintage'], as_index=False).sum('capacity')\n",
    "    net_cap_group = net_cap_group[['mode', 'fuel', 'life', 'vintage', 'capacity']].rename(columns={'capacity': 'net capacity'})\n",
    "    new_cap_group = new_cap_group[['mode', 'fuel', 'life', 'vintage', 'capacity']].rename(columns={'capacity': 'new capacity'})\n",
    "    ex_cap_group = ex_cap_group[['mode', 'fuel', 'life', 'vintage', 'capacity']].rename(columns={'capacity': 'ex capacity'})\n",
    "\n",
    "    merged_cap = net_cap_group.merge(new_cap_group, on=['mode', 'fuel', 'life', 'vintage'], how='left').merge(ex_cap_group, on=['mode', 'fuel', 'life', 'vintage'], how='left').fillna(0.)\n",
    "    merged_cap = merged_cap.sort_values(by=['mode', 'fuel', 'life', 'vintage'])\n",
    "    merged_cap['retired cap'] = 0.\n",
    "\n",
    "    for _, group in merged_cap.groupby(['mode', 'fuel', 'life']):\n",
    "        for i in range(1, len(group)):\n",
    "            current_idx = group.index[i]\n",
    "            previous_idx = group.index[i-1]\n",
    "\n",
    "            # Calculate retired capacity as existing capacity + new capacity - net capacity of previous vintage\n",
    "            merged_cap.loc[current_idx, 'retired cap'] = (\n",
    "                merged_cap.loc[previous_idx, 'net capacity'] + \n",
    "                merged_cap.loc[current_idx, 'new capacity'] - \n",
    "                merged_cap.loc[current_idx, 'net capacity']\n",
    "            )\n",
    "\n",
    "    for _, group in merged_cap.groupby(['mode', 'fuel', 'life']):\n",
    "        for i in range(1, len(group)):\n",
    "            current_idx = group.index[i]\n",
    "            previous_idx = group.index[i-1]\n",
    "\n",
    "            # Fill the \"ex capacity\" for years after 2021 using the \"net capacity\" from the previous year\n",
    "            merged_cap.loc[current_idx, 'ex capacity'] = merged_cap.loc[previous_idx, 'net capacity']\n",
    "\n",
    "    merged_cap['retired cap'] = -merged_cap['retired cap']\n",
    "\n",
    "    cap = merged_cap.melt(id_vars=['mode', 'fuel', 'life', 'vintage'],\n",
    "                       value_vars=['net capacity', 'ex capacity', 'new capacity', 'retired cap'],\n",
    "                       var_name='cap type', value_name='capacity')\n",
    "\n",
    "    cap['capacity'] = cap['capacity'] / 1E3\n",
    "    cap = cap[(abs(cap['capacity']) > 1e-3) & (\n",
    "                                                (cap['mode'] == 'LD Car') |\n",
    "                                                (cap['mode'] == 'LD Truck')\n",
    "                                                ) & (cap['cap type'] != 'ex capacity')].reset_index(drop=True)\n",
    "    cap['vintage'] = cap['vintage'].astype('str')\n",
    "\n",
    "cap = cap.groupby(['mode', 'life', 'vintage', 'cap type'], as_index=False).sum('capacity')\n",
    "fig = px.bar(cap[cap['vintage'] != \"2021\"], x='cap type', y='capacity', color='life', \n",
    "            pattern_shape='cap type', pattern_shape_sequence=[\"\", \".\", \"/\"],\n",
    "            facet_col='vintage', facet_col_spacing=2E-2, \n",
    "            facet_row='mode', facet_row_spacing=1E-2,\n",
    "            category_orders={\"cap type\": [\"net capacity\", \"new capacity\", \"retired cap\"],\n",
    "                             \"fuel\": ['Gasoline', 'Diesel', 'CNG', 'BEV200', 'BEV300', 'BEV400', 'BEV500', 'HEV', 'PHEV20', 'PHEV50', 'FCEV'],\n",
    "                             \"life\": ['Survival Q1', 'Survival Q2-3', 'Survival Q4']},\n",
    "            # labels={'capacity': 'Fleet capacity (M units)', 'fuel': 'Fuel type'},\n",
    "            template='plotly_white', orientation='v', color_discrete_sequence=px.colors.qualitative.Bold,\n",
    "            text_auto='.2f',\n",
    "            width=1200, height=800\n",
    "            )\n",
    "\n",
    "dummy_traces = [\n",
    "    dict(\n",
    "        name='',  # Empty legend\n",
    "        x=[None], \n",
    "        y=[None], \n",
    "        marker=dict(color='rgba(0,0,0,0)'),\n",
    "        showlegend=True,\n",
    "        legendgroup='Blank',\n",
    "        legendgrouptitle=None\n",
    "    ),\n",
    "    # dict(\n",
    "    #     name=' ',  # Another empty legend\n",
    "    #     x=[None], \n",
    "    #     y=[None], \n",
    "    #     marker=dict(color='rgba(0,0,0,0)'),\n",
    "    #     showlegend=True,\n",
    "    #     legendgroup='Blank',\n",
    "    #     legendgrouptitle=None   \n",
    "    # ),\n",
    "    dict(\n",
    "        name='Net capacity',\n",
    "        x=[None], \n",
    "        y=[None], \n",
    "        marker=dict(\n",
    "            color='rgba(0,0,0,0)',\n",
    "            line=dict(color='black', width=1),  # Thin black border\n",
    "            pattern_shape=\"\"\n",
    "        ),\n",
    "        showlegend=True,\n",
    "        legendgroup='Capacity type',\n",
    "        legendgrouptitle=dict(text=\"Capacity type\"),\n",
    "    ),\n",
    "    dict(\n",
    "        name='New capacity',\n",
    "        x=[None], \n",
    "        y=[None], \n",
    "        marker=dict(\n",
    "            color='rgba(0,0,0,0)',\n",
    "            line=dict(color='black', width=1),  # Thin black border\n",
    "            pattern_shape=\".\"\n",
    "        ),\n",
    "        showlegend=True,\n",
    "        legendgroup='Capacity type',\n",
    "        legendgrouptitle=None\n",
    "    ),\n",
    "    dict(\n",
    "        name='Retired capacity',\n",
    "        x=[None], \n",
    "        y=[None], \n",
    "        marker=dict(\n",
    "            color='rgba(0,0,0,0)',\n",
    "            line=dict(color='black', width=1),  # Thin black border\n",
    "            pattern_shape=\"/\"\n",
    "        ),\n",
    "        showlegend=True,\n",
    "        legendgroup='Capacity type',\n",
    "        legendgrouptitle=None\n",
    "    )\n",
    "]\n",
    "\n",
    "for trace in dummy_traces:\n",
    "    fig.add_bar(\n",
    "        x=trace['x'], \n",
    "        y=trace['y'], \n",
    "        name=trace['name'], \n",
    "        marker=trace['marker'], \n",
    "        showlegend=trace['showlegend'],\n",
    "        legendgroup=trace['legendgroup'],\n",
    "        legendgrouptitle=trace['legendgrouptitle']\n",
    "    )\n",
    "\n",
    "fig.update_layout(\n",
    "    margin=dict(\n",
    "        t=10, b=10\n",
    "    ),\n",
    "    title=dict(\n",
    "        text='Transport LDV fleet stock and flow in ON by vehicle class and lifetime',\n",
    "        x=0.5, \n",
    "        y=0.97,\n",
    "        xanchor='center',\n",
    "        yanchor='top'\n",
    "    ),\n",
    "    yaxis_title_standoff=0,\n",
    "    legend_title_text='Survival rate class',\n",
    "    bargap=0.1,\n",
    "    legend=dict(\n",
    "        orientation='v',\n",
    "        # entrywidth=50,\n",
    "        yanchor='top',\n",
    "        y=0.8,  \n",
    "        xanchor='center',\n",
    "        x=1.15),\n",
    "    font=dict(\n",
    "        size=15)\n",
    "    )\n",
    "\n",
    "fig.for_each_trace(lambda trace: trace.update(textfont=dict(size=11)))\n",
    "\n",
    "# fig.update_xaxes(tickvals=[\"net capacity\", \"new capacity\", \"retired cap\"],\n",
    "#                  ticktext=[\"Net\", \"New\", \"Retired\"], \n",
    "#                  tickangle=45\n",
    "#                  )\n",
    "\n",
    "for axis in fig.layout:\n",
    "    if axis.startswith('xaxis'):\n",
    "        fig.layout[axis].title.text = ''\n",
    "        fig.layout[axis].showticklabels = False\n",
    "    if axis.startswith('yaxis'):\n",
    "        fig.layout[axis].title.text = ''\n",
    "        fig.layout[axis].dtick = 2\n",
    "\n",
    "for annotation in fig.layout.annotations:\n",
    "    if 'mode' in annotation.text:\n",
    "        annotation.text = 'Class: ' + annotation.text.split('=')[1]\n",
    "        annotation.font.size = 16\n",
    "        annotation.x = 1.01\n",
    "        annotation.xanchor = 'center'\n",
    "    else:\n",
    "        annotation.text = annotation.text.split('=')[1]\n",
    "        annotation.y = 0.005\n",
    "        annotation.yanchor = 'top' \n",
    "\n",
    "shown_legends = set()\n",
    "for trace in fig.data:\n",
    "    trace.name = trace.name.split(\",\")[0]\n",
    "    if trace.name not in shown_legends:\n",
    "        trace.showlegend = True\n",
    "        shown_legends.add(trace.name)\n",
    "    else:\n",
    "        trace.showlegend = False\n",
    "\n",
    "fig.add_annotation(\n",
    "    text=\"Fleet capacity (M units)\",\n",
    "    x=-0.07,\n",
    "    y=0.5,\n",
    "    xref=\"paper\",\n",
    "    yref=\"paper\",\n",
    "    showarrow=False,\n",
    "    textangle=-90,\n",
    "    font=dict(size=17))\n",
    "\n",
    "fig.show()\n",
    "\n",
    "fig.write_image(\"lifetimes_fleet_flow.svg\", scale=1, engine='kaleido')"
   ]
  }
 ],
 "metadata": {
  "kernelspec": {
   "display_name": "main",
   "language": "python",
   "name": "python3"
  },
  "language_info": {
   "codemirror_mode": {
    "name": "ipython",
    "version": 3
   },
   "file_extension": ".py",
   "mimetype": "text/x-python",
   "name": "python",
   "nbconvert_exporter": "python",
   "pygments_lexer": "ipython3",
   "version": "3.12.9"
  }
 },
 "nbformat": 4,
 "nbformat_minor": 2
}
