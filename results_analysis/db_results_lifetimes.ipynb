{
 "cells": [
  {
   "cell_type": "code",
   "execution_count": 87,
   "metadata": {},
   "outputs": [],
   "source": [
    "import pandas as pd\n",
    "import numpy as np\n",
    "import plotly.express as px\n",
    "import plotly.graph_objects as go\n",
    "from plotly.subplots import make_subplots\n",
    "import seaborn as sns\n",
    "import matplotlib.pyplot as plt\n",
    "import sqlite3\n",
    "import plotly.io as pio"
   ]
  },
  {
   "cell_type": "code",
   "execution_count": 88,
   "metadata": {},
   "outputs": [],
   "source": [
    "def map_tech_to_mode(tech):\n",
    "    class_mapping = {\n",
    "    'T_HDV_AJ': 'Air jet',\n",
    "    'T_HDV_B': 'Bus',\n",
    "    'T_HDV_R': 'Rail',\n",
    "    'T_HDV_T': 'HD Truck',\n",
    "    'T_HDV_W': 'Marine vessel',\n",
    "    'T_MDV_T': 'MD Truck',\n",
    "    'T_LDV_C_': 'LD Car',\n",
    "    'T_LDV_LT': 'LD Truck',\n",
    "    'T_LDV_M': 'Motorcycle',\n",
    "    'T_IMP_': 'Fuel use',\n",
    "    'H2_COMP_100_700': 'Fuel use'\n",
    "    }\n",
    "\n",
    "    for prefix, class_name in class_mapping.items():\n",
    "        if tech.startswith(prefix):\n",
    "            return class_name\n",
    "    return 'Other'\n",
    "\n",
    "def map_tech_to_fuel(tech):\n",
    "    carrier_mapping = {\n",
    "        'BEV': 'Battery electric',\n",
    "        'GSL': 'Gasoline',\n",
    "        'DSL': 'Diesel',\n",
    "        'CNG': 'Compressed NG',\n",
    "        'LNG': 'Liquified NG',\n",
    "        'JTF': 'Jet Fuel',\n",
    "        'SPK': 'Synth. Jet Fuel',\n",
    "        'HFO': 'Heavy Fuel Oil',\n",
    "        'MDO': 'Marine Diesel Oil',\n",
    "        'ELC': 'Electricity',\n",
    "        'ETH': 'Ethanol',\t\n",
    "        'RDSL': 'Ren. Diesel',\n",
    "    }\n",
    "    # Order matters \n",
    "    if 'PHEV35' in tech:\n",
    "        return 'PHEV (35-mile AER)'\n",
    "    if 'PHEV50' in tech:\n",
    "        return 'PHEV (50-mile AER)'\n",
    "    if 'PHEV' in tech:\n",
    "        return 'Plug-in hybrid'\n",
    "    if 'BEV150' in tech:\n",
    "        return 'BEV (150-mile AER)'\n",
    "    if 'BEV200' in tech:\n",
    "        return 'BEV (200-mile AER)'\n",
    "    if 'BEV300' in tech:\n",
    "        return 'BEV (300-mile AER)'\n",
    "    if 'BEV400' in tech:\n",
    "        return 'BEV (400-mile AER)'\n",
    "    if 'FC' in tech:\n",
    "        return 'Fuel-cell electric'\n",
    "    if 'HEV' in tech:\n",
    "        return 'Hybrid'\n",
    "    if 'H2' in tech:\n",
    "        return 'Hydrogen'\n",
    "    if 'BEV_CHRG' in tech:\n",
    "        return 'LD BEV charger'\n",
    "    if 'CHRG' in tech:\n",
    "        return 'Other charger'\n",
    "    for prefix, carrier in carrier_mapping.items():\n",
    "        if prefix in tech:\n",
    "            return carrier \n",
    "    return 'Other'"
   ]
  },
  {
   "cell_type": "code",
   "execution_count": 89,
   "metadata": {},
   "outputs": [],
   "source": [
    "def import_db_capacity_data(db_variant='lifetimes', scenario='trn_lifetimes', path='C:/Users/rashi/ESM_databases/temoa/data_files/'):\n",
    "    db_file = path + f'canoe_on_12d_{db_variant}.sqlite'\n",
    "    conn = sqlite3.connect(db_file)\n",
    "\n",
    "    # filter db tables\n",
    "    query_net_capacity = f\"SELECT * FROM OutputNetCapacity WHERE sector = 'Transport' AND scenario = '{scenario}'\"\n",
    "    query_built_capacity = f\"SELECT * FROM OutputBuiltCapacity WHERE sector = 'Transport' AND scenario = '{scenario}'\"\n",
    "    query_existing_capacity = \"SELECT * FROM ExistingCapacity WHERE tech like 'T_%'\"\n",
    "\n",
    "    net_cap = pd.read_sql_query(query_net_capacity, conn).drop(columns=['region', 'sector'])\n",
    "    new_cap = pd.read_sql_query(query_built_capacity, conn).drop(columns=['region', 'sector'])\n",
    "    ex_cap =  pd.read_sql_query(query_existing_capacity, conn)[['tech', 'vintage', 'capacity', 'units']]\n",
    "    conn.close()\n",
    "\n",
    "    # label mode fuel and lifetime classes\n",
    "    net_cap['mode'] = net_cap['tech'].apply(map_tech_to_mode)\n",
    "    new_cap['mode'] = new_cap['tech'].apply(map_tech_to_mode)\n",
    "    ex_cap['mode'] = ex_cap['tech'].apply(map_tech_to_mode)\n",
    "\n",
    "    net_cap['fuel'] = net_cap['tech'].apply(map_tech_to_fuel)\n",
    "    new_cap['fuel'] = new_cap['tech'].apply(map_tech_to_fuel)\n",
    "    ex_cap['fuel'] = ex_cap['tech'].apply(map_tech_to_fuel)\n",
    "\n",
    "    # extract the last two digits (if present), else NaN - fill NaN with 50 to denote median parent class\n",
    "    percentile = net_cap['tech'].str.extract(r'_S(\\d{2})$')[0]\n",
    "    net_cap['life'] = 'Survival P' + percentile.fillna('50')\n",
    "    percentile = new_cap['tech'].str.extract(r'_S(\\d{2})$')[0]\n",
    "    new_cap['life'] = 'Survival P' + percentile.fillna('50')\n",
    "    percentile = ex_cap['tech'].str.extract(r'_S(\\d{2})$')[0]\n",
    "    ex_cap['life'] = 'Survival P' + percentile.fillna('50')\n",
    "\n",
    "    # prepare capacity dfs\n",
    "    net_cap_group = net_cap.groupby(['mode', 'fuel', 'life', 'period'], as_index=False).sum('capacity').drop(columns='vintage').rename(columns={'period': 'vintage'})\n",
    "    ex_cap_group = ex_cap.copy()\n",
    "    ex_cap_group['vintage'] = 2021\n",
    "    ex_cap_group = ex_cap_group.groupby(['mode', 'fuel', 'life', 'vintage', 'units'], as_index=False).sum('capacity')\n",
    "    new_cap_group = new_cap.groupby(['mode', 'fuel', 'life', 'vintage'], as_index=False).sum('capacity')\n",
    "\n",
    "    # brand capacity types and merge, filling empty values with 0\n",
    "    net_cap_group = net_cap_group[['mode', 'fuel', 'life', 'vintage', 'capacity']].rename(columns={'capacity': 'net capacity'})\n",
    "    new_cap_group = new_cap_group[['mode', 'fuel', 'life', 'vintage', 'capacity']].rename(columns={'capacity': 'new capacity'})\n",
    "    ex_cap_group = ex_cap_group[['mode', 'fuel', 'life', 'vintage', 'capacity']].rename(columns={'capacity': 'ex capacity'})\n",
    "    merged_cap = net_cap_group.merge(new_cap_group, on=['mode', 'fuel', 'life', 'vintage'], how='left').merge(ex_cap_group, on=['mode', 'fuel', 'life', 'vintage'], how='left').fillna(0.)\n",
    "\n",
    "    # sort and calculate retired capacity\n",
    "    merged_cap = merged_cap.sort_values(by=['mode', 'fuel', 'life', 'vintage'])\n",
    "    merged_cap['retired cap'] = 0.\n",
    "\n",
    "    for _, group in merged_cap.groupby(['mode', 'fuel', 'life']):\n",
    "        for i in range(1, len(group)):\n",
    "            current_idx = group.index[i]\n",
    "            previous_idx = group.index[i-1]\n",
    "\n",
    "            # calculate retired capacity as netcap_i + newcap_i - netcap_{i-1}, where excap_i = netcap_{i-1}\n",
    "            merged_cap.loc[current_idx, 'retired cap'] = (\n",
    "                merged_cap.loc[previous_idx, 'net capacity'] + \n",
    "                merged_cap.loc[current_idx, 'new capacity'] - \n",
    "                merged_cap.loc[current_idx, 'net capacity']\n",
    "            )\n",
    "\n",
    "    for _, group in merged_cap.groupby(['mode', 'fuel', 'life']):\n",
    "        for i in range(1, len(group)):\n",
    "            current_idx = group.index[i]\n",
    "            previous_idx = group.index[i-1]\n",
    "\n",
    "            # fill the \"ex capacity\" for years after 2021 using the \"net capacity\" from the previous year\n",
    "            merged_cap.loc[current_idx, 'ex capacity'] = merged_cap.loc[previous_idx, 'net capacity']\n",
    "\n",
    "    merged_cap['retired cap'] = -merged_cap['retired cap']  # negative values for retired capacity\n",
    "    merged_cap = merged_cap.round(2)\n",
    "    return merged_cap"
   ]
  },
  {
   "cell_type": "code",
   "execution_count": 90,
   "metadata": {},
   "outputs": [
    {
     "data": {
      "text/html": [
       "<div>\n",
       "<style scoped>\n",
       "    .dataframe tbody tr th:only-of-type {\n",
       "        vertical-align: middle;\n",
       "    }\n",
       "\n",
       "    .dataframe tbody tr th {\n",
       "        vertical-align: top;\n",
       "    }\n",
       "\n",
       "    .dataframe thead th {\n",
       "        text-align: right;\n",
       "    }\n",
       "</style>\n",
       "<table border=\"1\" class=\"dataframe\">\n",
       "  <thead>\n",
       "    <tr style=\"text-align: right;\">\n",
       "      <th></th>\n",
       "      <th>mode</th>\n",
       "      <th>fuel</th>\n",
       "      <th>life</th>\n",
       "      <th>vintage</th>\n",
       "      <th>net capacity</th>\n",
       "      <th>new capacity</th>\n",
       "      <th>ex capacity</th>\n",
       "      <th>retired cap</th>\n",
       "    </tr>\n",
       "  </thead>\n",
       "  <tbody>\n",
       "    <tr>\n",
       "      <th>0</th>\n",
       "      <td>Air jet</td>\n",
       "      <td>Other</td>\n",
       "      <td>Survival P50</td>\n",
       "      <td>2021</td>\n",
       "      <td>70.23</td>\n",
       "      <td>1.39</td>\n",
       "      <td>67.90</td>\n",
       "      <td>-0.00</td>\n",
       "    </tr>\n",
       "    <tr>\n",
       "      <th>1</th>\n",
       "      <td>Air jet</td>\n",
       "      <td>Other</td>\n",
       "      <td>Survival P50</td>\n",
       "      <td>2021</td>\n",
       "      <td>70.23</td>\n",
       "      <td>1.39</td>\n",
       "      <td>70.23</td>\n",
       "      <td>-1.39</td>\n",
       "    </tr>\n",
       "    <tr>\n",
       "      <th>2</th>\n",
       "      <td>Air jet</td>\n",
       "      <td>Other</td>\n",
       "      <td>Survival P50</td>\n",
       "      <td>2025</td>\n",
       "      <td>80.89</td>\n",
       "      <td>10.66</td>\n",
       "      <td>70.23</td>\n",
       "      <td>-0.00</td>\n",
       "    </tr>\n",
       "    <tr>\n",
       "      <th>3</th>\n",
       "      <td>Air jet</td>\n",
       "      <td>Other</td>\n",
       "      <td>Survival P50</td>\n",
       "      <td>2030</td>\n",
       "      <td>89.21</td>\n",
       "      <td>19.57</td>\n",
       "      <td>80.89</td>\n",
       "      <td>-11.25</td>\n",
       "    </tr>\n",
       "    <tr>\n",
       "      <th>4</th>\n",
       "      <td>Air jet</td>\n",
       "      <td>Other</td>\n",
       "      <td>Survival P50</td>\n",
       "      <td>2035</td>\n",
       "      <td>97.07</td>\n",
       "      <td>18.38</td>\n",
       "      <td>89.21</td>\n",
       "      <td>-10.52</td>\n",
       "    </tr>\n",
       "    <tr>\n",
       "      <th>...</th>\n",
       "      <td>...</td>\n",
       "      <td>...</td>\n",
       "      <td>...</td>\n",
       "      <td>...</td>\n",
       "      <td>...</td>\n",
       "      <td>...</td>\n",
       "      <td>...</td>\n",
       "      <td>...</td>\n",
       "    </tr>\n",
       "    <tr>\n",
       "      <th>688</th>\n",
       "      <td>Rail</td>\n",
       "      <td>Liquified NG</td>\n",
       "      <td>Survival P50</td>\n",
       "      <td>2030</td>\n",
       "      <td>0.00</td>\n",
       "      <td>0.00</td>\n",
       "      <td>0.00</td>\n",
       "      <td>-0.00</td>\n",
       "    </tr>\n",
       "    <tr>\n",
       "      <th>689</th>\n",
       "      <td>Rail</td>\n",
       "      <td>Liquified NG</td>\n",
       "      <td>Survival P50</td>\n",
       "      <td>2035</td>\n",
       "      <td>0.00</td>\n",
       "      <td>0.00</td>\n",
       "      <td>0.00</td>\n",
       "      <td>-0.00</td>\n",
       "    </tr>\n",
       "    <tr>\n",
       "      <th>690</th>\n",
       "      <td>Rail</td>\n",
       "      <td>Liquified NG</td>\n",
       "      <td>Survival P50</td>\n",
       "      <td>2040</td>\n",
       "      <td>0.00</td>\n",
       "      <td>0.00</td>\n",
       "      <td>0.00</td>\n",
       "      <td>-0.00</td>\n",
       "    </tr>\n",
       "    <tr>\n",
       "      <th>691</th>\n",
       "      <td>Rail</td>\n",
       "      <td>Liquified NG</td>\n",
       "      <td>Survival P50</td>\n",
       "      <td>2045</td>\n",
       "      <td>0.00</td>\n",
       "      <td>0.00</td>\n",
       "      <td>0.00</td>\n",
       "      <td>-0.00</td>\n",
       "    </tr>\n",
       "    <tr>\n",
       "      <th>692</th>\n",
       "      <td>Rail</td>\n",
       "      <td>Liquified NG</td>\n",
       "      <td>Survival P50</td>\n",
       "      <td>2050</td>\n",
       "      <td>0.00</td>\n",
       "      <td>0.00</td>\n",
       "      <td>0.00</td>\n",
       "      <td>-0.00</td>\n",
       "    </tr>\n",
       "  </tbody>\n",
       "</table>\n",
       "<p>693 rows × 8 columns</p>\n",
       "</div>"
      ],
      "text/plain": [
       "        mode          fuel          life  vintage  net capacity  new capacity  \\\n",
       "0    Air jet         Other  Survival P50     2021         70.23          1.39   \n",
       "1    Air jet         Other  Survival P50     2021         70.23          1.39   \n",
       "2    Air jet         Other  Survival P50     2025         80.89         10.66   \n",
       "3    Air jet         Other  Survival P50     2030         89.21         19.57   \n",
       "4    Air jet         Other  Survival P50     2035         97.07         18.38   \n",
       "..       ...           ...           ...      ...           ...           ...   \n",
       "688     Rail  Liquified NG  Survival P50     2030          0.00          0.00   \n",
       "689     Rail  Liquified NG  Survival P50     2035          0.00          0.00   \n",
       "690     Rail  Liquified NG  Survival P50     2040          0.00          0.00   \n",
       "691     Rail  Liquified NG  Survival P50     2045          0.00          0.00   \n",
       "692     Rail  Liquified NG  Survival P50     2050          0.00          0.00   \n",
       "\n",
       "     ex capacity  retired cap  \n",
       "0          67.90        -0.00  \n",
       "1          70.23        -1.39  \n",
       "2          70.23        -0.00  \n",
       "3          80.89       -11.25  \n",
       "4          89.21       -10.52  \n",
       "..           ...          ...  \n",
       "688         0.00        -0.00  \n",
       "689         0.00        -0.00  \n",
       "690         0.00        -0.00  \n",
       "691         0.00        -0.00  \n",
       "692         0.00        -0.00  \n",
       "\n",
       "[693 rows x 8 columns]"
      ]
     },
     "execution_count": 90,
     "metadata": {},
     "output_type": "execute_result"
    }
   ],
   "source": [
    "import_db_capacity_data()"
   ]
  },
  {
   "cell_type": "code",
   "execution_count": 91,
   "metadata": {},
   "outputs": [],
   "source": [
    "color_fuel_map = {\n",
    "    'Gasoline': 'red',\n",
    "    'Diesel': 'brown',\n",
    "    'Compressed NG': 'tomato',\n",
    "    'Hybrid': 'darkorange',\n",
    "    'PHEV (35-mile AER)': 'dodgerblue',\n",
    "    'PHEV (50-mile AER)': 'darkblue',\n",
    "    'BEV (150-mile AER)': 'limegreen',\n",
    "    'BEV (200-mile AER)': 'seagreen',\n",
    "    'BEV (300-mile AER)': 'olive',\n",
    "    'BEV (400-mile AER)': 'darkgreen',\n",
    "    'Plug-in hybrid': 'blue',\n",
    "    'Battery electric': 'green',\n",
    "    'Fuel-cell electric': 'mediumvioletred'\n",
    "}"
   ]
  },
  {
   "cell_type": "code",
   "execution_count": 92,
   "metadata": {},
   "outputs": [],
   "source": [
    "def plot_capacity_flow(db_variant='lifetimes', scenario='trn_lifetimes', lifetime_classes=None, scenario_title=None,\n",
    "                        modes=['LD Car', 'LD Truck', 'MD Truck', 'HD Truck'], color_map=color_fuel_map):\n",
    "    df = import_db_capacity_data(db_variant=db_variant, scenario=scenario)\n",
    "    df = df.melt(id_vars=['mode', 'fuel', 'life', 'vintage'],\n",
    "                       value_vars=['net capacity', 'ex capacity', 'new capacity', 'retired cap'],\n",
    "                       var_name='cap type', value_name='capacity')\n",
    "\n",
    "    # df['capacity'] = df['capacity'] / 1E3     # convert to million units\n",
    "    df['vintage'] = df['vintage'].astype('str')\n",
    "    df_filtered = df[(abs(df['capacity']) > 1e-3) & (df['mode'].isin(modes)) & (df['cap type'] != 'ex capacity')].reset_index(drop=True)\n",
    "    if lifetime_classes is None:\n",
    "        df_filtered = df_filtered.groupby(['mode', 'fuel', 'vintage', 'cap type'], as_index=False).sum('capacity')\n",
    "    else:\n",
    "        df_filtered = df_filtered.groupby(['mode', 'life', 'vintage', 'cap type'], as_index=False).sum('capacity')\n",
    "\n",
    "    \n",
    "    fig = px.bar(df_filtered, x='cap type', y='capacity', color='fuel' if lifetime_classes is None else 'life', \n",
    "            pattern_shape='cap type', pattern_shape_sequence=[\"\", \".\", \"/\"],\n",
    "            facet_col='vintage', facet_col_spacing=2E-2, \n",
    "            facet_row='mode', facet_row_spacing=1.5E-2,\n",
    "            category_orders={\"cap type\": [\"net capacity\", \"new capacity\", \"retired cap\"],\n",
    "                             'vintage': sorted(df['vintage'].unique()),\n",
    "                             \"fuel\": list(color_map.keys()) if lifetime_classes is None else [],\n",
    "                             'life': sorted(df['life'].unique()) if lifetime_classes is not None else [],\n",
    "                             'mode': modes},\n",
    "            template='plotly_white', orientation='v', \n",
    "            color_discrete_map = color_map if lifetime_classes is None else {},\n",
    "            color_discrete_sequence=px.colors.qualitative.Bold if lifetime_classes is not None else [],\n",
    "            text_auto='.2s', width=1200, height=900\n",
    "            )\n",
    "\n",
    "    fig.update_layout(\n",
    "        margin=dict(\n",
    "            t=65, b=30),\n",
    "        title=dict(\n",
    "            text=f'<b>Vehicle fleet stock and flow in ON by vehicle class ({scenario_title})</b>',\n",
    "            x=0.5, y=0.98, xanchor='center', yanchor='top'),\n",
    "        yaxis_title_standoff=0,\n",
    "        legend_title=dict(\n",
    "            text='<b>Fuel/powertrain type</b>' if lifetime_classes is None else '<b>Lifetime class</b>', \n",
    "            font=dict(size=16)),\n",
    "        bargap=0.1,\n",
    "        legend=dict(\n",
    "            traceorder='grouped', orientation='v', yanchor='top', y=0.8, xanchor='center', x=1.15),\n",
    "        font=dict(\n",
    "            size=15)\n",
    "        )\n",
    "\n",
    "    fig.for_each_trace(lambda trace: trace.update(textfont=dict(size=11)))\n",
    "    fig.for_each_xaxis(lambda axis: axis.update(title_text='', showticklabels=False))\n",
    "    fig.for_each_yaxis(lambda axis: axis.update(title_text=''))\n",
    "\n",
    "    unique_xdomains = sorted(set(fig.layout[axis].domain[0] for axis in fig.layout if axis.startswith('yaxis')))\n",
    "    n_vintages = df['vintage'].nunique()\n",
    "    for row_i, _ in enumerate(unique_xdomains, start=1):\n",
    "        anchor_i = (row_i - 1) * n_vintages + 1   # left-most col in that row\n",
    "        match_anchor = 'y' if row_i == 1 else f'y{anchor_i}'\n",
    "        fig.update_yaxes(matches=match_anchor, row=row_i, col=None, nticks=8, zeroline=True, zerolinecolor='black', tickformat='~s')\n",
    "    \n",
    "    for annotation in fig.layout.annotations:           # Fix facet cols and facet row annotations\n",
    "        if 'mode' in annotation.text:\n",
    "            annotation.text = f'<b>{annotation.text.split('=')[1]}</b>'\n",
    "            annotation.font.size = 16\n",
    "            annotation.x = 1.01\n",
    "            annotation.xanchor = 'center'\n",
    "        else:\n",
    "            annotation.text = f'<b>{annotation.text.split('=')[1]}</b>'\n",
    "            annotation.font.size = 16\n",
    "            annotation.y = 0\n",
    "            annotation.yanchor = 'top' \n",
    "\n",
    "    shown_legends = set()\n",
    "    for trace in fig.data:                              # Show only one legend for each fuel type\n",
    "        trace.name = trace.name.split(\",\")[0]\n",
    "        if trace.name not in shown_legends:\n",
    "            trace.showlegend = True\n",
    "            shown_legends.add(trace.name)\n",
    "        else:\n",
    "            trace.showlegend = False\n",
    "    \n",
    "    # enforce fuel/life order in legend\n",
    "    if lifetime_classes is None:\n",
    "        _order = list(color_map.keys())\n",
    "    else: \n",
    "        _order = sorted(df['life'].unique())\n",
    "    fig.data = tuple(\n",
    "        sorted(fig.data, key=lambda t: (_order.index(t.name) if t.name in _order else len(_order)))\n",
    "    )\n",
    "\n",
    "    # add capacity type legends separated by a blank entry\n",
    "    fig.add_trace(go.Bar(\n",
    "        x=[None], y=[None],\n",
    "        showlegend=True,\n",
    "        legendgroup='Blank',\n",
    "        legendgrouptitle=None,\n",
    "        name='',\n",
    "        marker_color='rgba(0,0,0,0)'\n",
    "    ))\n",
    "\n",
    "    for i, (name, pat) in enumerate([\n",
    "        (\"Net capacity\",   \"\"),\n",
    "        (\"New capacity\",   \".\"),\n",
    "        (\"Retired capacity\", \"/\"),\n",
    "    ]):\n",
    "        fig.add_trace(go.Bar(\n",
    "            x=[None], y=[None],\n",
    "            name=name,\n",
    "            showlegend=True,\n",
    "            legendgroup='Capacity type',\n",
    "            legendgrouptitle=dict(text=\"<b>Capacity type</b>\", font=dict(size=16)) if i == 0 else None,\n",
    "            marker=dict(\n",
    "                color='rgba(0,0,0,0)',\n",
    "                line=dict(color='black', width=1),\n",
    "                pattern_shape=pat\n",
    "            )\n",
    "        ))\n",
    "\n",
    "    fig.add_annotation(\n",
    "        text='<b>Fleet capacity (k vehicles)</b>',\n",
    "        x=-0.08, y=0.5, xref=\"paper\", yref=\"paper\", showarrow=False, textangle=-90, font=dict(size=17))\n",
    "        \n",
    "    fig.show()"
   ]
  },
  {
   "cell_type": "code",
   "execution_count": 117,
   "metadata": {},
   "outputs": [],
   "source": [
    "def plot_capacity_flow(db_variant='lifetimes', scenario='trn_lifetimes', lifetime_classes=None, scenario_title=None,\n",
    "                        modes=['LD Car', 'LD Truck', 'MD Truck', 'HD Truck'],\n",
    "                        cap_types=['net capacity', 'new capacity', 'retired cap'],\n",
    "                        color_map=color_fuel_map):\n",
    "    df = import_db_capacity_data(db_variant=db_variant, scenario=scenario)\n",
    "    df = df.melt(id_vars=['mode', 'fuel', 'life', 'vintage'],\n",
    "                       value_vars=['net capacity', 'ex capacity', 'new capacity', 'retired cap'],\n",
    "                       var_name='cap type', value_name='capacity')\n",
    "\n",
    "    df['capacity'] = df['capacity'] * 1E3     # convert to normal units\n",
    "    df['vintage'] = df['vintage'].astype('str')\n",
    "    df_filtered = df[(abs(df['capacity']) > 1e-3) & (df['mode'].isin(modes)) & (df['cap type'].isin(cap_types))].reset_index(drop=True)\n",
    "    df_filtered = df_filtered[df_filtered['vintage'] != '2021'].copy()\n",
    "    if lifetime_classes is None:\n",
    "        df_filtered = df_filtered.groupby(['mode', 'fuel', 'vintage', 'cap type'], as_index=False).sum('capacity')\n",
    "    else:\n",
    "        df_filtered = df_filtered.groupby(['mode', 'life', 'vintage', 'cap type'], as_index=False).sum('capacity')\n",
    "\n",
    "    \n",
    "    fig = px.bar(df_filtered, x='cap type', y='capacity', color='fuel' if lifetime_classes is None else 'life', \n",
    "            pattern_shape='cap type', \n",
    "            pattern_shape_sequence=[\"\", \".\", \"/\"] if len(cap_types) == 3 else [\"\", \"/\"],\n",
    "            facet_col='vintage', facet_col_spacing=2E-2, \n",
    "            facet_row='mode', facet_row_spacing=0.04,\n",
    "            category_orders={\"cap type\": cap_types,\n",
    "                             'vintage': sorted(df_filtered['vintage'].unique()),\n",
    "                             \"fuel\": list(color_map.keys()) if lifetime_classes is None else [],\n",
    "                             'life': sorted(df_filtered['life'].unique()) if lifetime_classes is not None else [],\n",
    "                             'mode': modes},\n",
    "            template='plotly_white', orientation='v', \n",
    "            color_discrete_map = color_map if lifetime_classes is None else {},\n",
    "            color_discrete_sequence=px.colors.qualitative.Bold if lifetime_classes is not None else [],\n",
    "            text_auto='.2s', width=1200, height=450\n",
    "            )\n",
    "\n",
    "    fig.update_layout(\n",
    "        margin=dict(\n",
    "            t=65, b=30),\n",
    "        title=dict(\n",
    "            text=f'<b>Vehicle fleet stock and flow in ON by vehicle class ({scenario_title})</b>',\n",
    "            x=0.08, y=0.94, xanchor='left', yanchor='top'),\n",
    "        yaxis_title_standoff=0,\n",
    "        legend_title=dict(\n",
    "            text='<b>Fuel/powertrain type</b>' if lifetime_classes is None else '<b>Lifetime class</b>', \n",
    "            font=dict(size=16)),\n",
    "        bargap=0.1,\n",
    "        legend=dict(\n",
    "            traceorder='grouped', orientation='v', yanchor='top', y=1.0, xanchor='center', x=1.15),\n",
    "        font=dict(\n",
    "            size=15)\n",
    "        )\n",
    "\n",
    "    fig.for_each_trace(lambda trace: trace.update(textfont=dict(size=11)))\n",
    "    fig.for_each_xaxis(lambda axis: axis.update(title_text='', showticklabels=False))\n",
    "    fig.for_each_yaxis(lambda axis: axis.update(title_text=''))\n",
    "\n",
    "    unique_xdomains = sorted(set(fig.layout[axis].domain[0] for axis in fig.layout if axis.startswith('yaxis')))\n",
    "    n_vintages = df['vintage'].nunique()\n",
    "    for row_i, _ in enumerate(unique_xdomains, start=1):\n",
    "        anchor_i = (row_i - 1) * n_vintages + 1   # left-most col in that row\n",
    "        match_anchor = 'y' if row_i == 1 else f'y{anchor_i}'\n",
    "        fig.update_yaxes(matches=match_anchor, row=row_i, col=None, nticks=8, zeroline=True, zerolinecolor='black', tickformat='~s')\n",
    "    \n",
    "    for annotation in fig.layout.annotations:           # Fix facet cols and facet row annotations\n",
    "        if 'mode' in annotation.text:\n",
    "            annotation.text = f'<b>{annotation.text.split('=')[1]}</b>'\n",
    "            annotation.font.size = 16\n",
    "            annotation.x = 1.01\n",
    "            annotation.xanchor = 'center'\n",
    "        else:\n",
    "            annotation.text = f'<b>{annotation.text.split('=')[1]}</b>'\n",
    "            annotation.font.size = 16\n",
    "            annotation.y = 0\n",
    "            annotation.yanchor = 'top' \n",
    "\n",
    "    shown_legends = set()\n",
    "    for trace in fig.data:                              # Show only one legend for each fuel type\n",
    "        trace.name = trace.name.split(\",\")[0]\n",
    "        if trace.name not in shown_legends:\n",
    "            trace.showlegend = True\n",
    "            shown_legends.add(trace.name)\n",
    "        else:\n",
    "            trace.showlegend = False\n",
    "    \n",
    "    # enforce fuel/life order in legend\n",
    "    if lifetime_classes is None:\n",
    "        _order = list(color_map.keys())\n",
    "    else: \n",
    "        _order = sorted(df['life'].unique())\n",
    "    fig.data = tuple(\n",
    "        sorted(fig.data, key=lambda t: (_order.index(t.name) if t.name in _order else len(_order)))\n",
    "    )\n",
    "\n",
    "    # add capacity type legends separated by a blank entry\n",
    "    fig.add_trace(go.Bar(\n",
    "        x=[None], y=[None],\n",
    "        showlegend=True,\n",
    "        legendgroup='Blank',\n",
    "        legendgrouptitle=None,\n",
    "        name='',\n",
    "        marker_color='rgba(0,0,0,0)'\n",
    "    ))\n",
    "\n",
    "    for i, (name, pat) in enumerate([\n",
    "        # (\"Net capacity\",   \"\"),\n",
    "        (\"New capacity\",   \"\"),\n",
    "        (\"Retired capacity\", \"/\"),\n",
    "    ]):\n",
    "        fig.add_trace(go.Bar(\n",
    "            x=[None], y=[None],\n",
    "            name=name,\n",
    "            showlegend=True,\n",
    "            legendgroup='Capacity type',\n",
    "            legendgrouptitle=dict(text=\"<b>Capacity type</b>\", font=dict(size=16)) if i == 0 else None,\n",
    "            marker=dict(\n",
    "                color='rgba(0,0,0,0)',\n",
    "                line=dict(color='black', width=1),\n",
    "                pattern_shape=pat\n",
    "            )\n",
    "        ))\n",
    "\n",
    "    fig.add_annotation(\n",
    "        text='<b>Fleet capacity (vehicle units)</b>',\n",
    "        x=-0.08, y=0.5, xref=\"paper\", yref=\"paper\", showarrow=False, textangle=-90, font=dict(size=17))\n",
    "\n",
    "    fig.show()\n",
    "    fig.write_image(\"vanilla4.svg\", scale=1, engine='kaleido')"
   ]
  },
  {
   "cell_type": "code",
   "execution_count": 118,
   "metadata": {},
   "outputs": [
    {
     "data": {
      "application/vnd.plotly.v1+json": {
       "config": {
        "plotlyServerURL": "https://plot.ly"
       },
       "data": [
        {
         "hovertemplate": "fuel=Gasoline<br>cap type=%{x}<br>mode=LD Truck<br>vintage=2030<br>capacity=%{y}<extra></extra>",
         "legendgroup": "Gasoline, retired cap",
         "marker": {
          "color": "red",
          "pattern": {
           "shape": "/"
          }
         },
         "name": "Gasoline",
         "orientation": "v",
         "showlegend": true,
         "textfont": {
          "size": 11
         },
         "textposition": "auto",
         "texttemplate": "%{y:.2s}",
         "type": "bar",
         "x": [
          "retired cap"
         ],
         "xaxis": "x8",
         "y": {
          "bdata": "AAAAAHSQLsE=",
          "dtype": "f8"
         },
         "yaxis": "y8"
        },
        {
         "hovertemplate": "fuel=Gasoline<br>cap type=%{x}<br>mode=LD Truck<br>vintage=2035<br>capacity=%{y}<extra></extra>",
         "legendgroup": "Gasoline, retired cap",
         "marker": {
          "color": "red",
          "pattern": {
           "shape": "/"
          }
         },
         "name": "Gasoline",
         "orientation": "v",
         "showlegend": false,
         "textfont": {
          "size": 11
         },
         "textposition": "auto",
         "texttemplate": "%{y:.2s}",
         "type": "bar",
         "x": [
          "retired cap"
         ],
         "xaxis": "x9",
         "y": {
          "bdata": "AAAAAI7IN8E=",
          "dtype": "f8"
         },
         "yaxis": "y9"
        },
        {
         "hovertemplate": "fuel=Gasoline<br>cap type=%{x}<br>mode=LD Truck<br>vintage=2040<br>capacity=%{y}<extra></extra>",
         "legendgroup": "Gasoline, retired cap",
         "marker": {
          "color": "red",
          "pattern": {
           "shape": "/"
          }
         },
         "name": "Gasoline",
         "orientation": "v",
         "showlegend": false,
         "textfont": {
          "size": 11
         },
         "textposition": "auto",
         "texttemplate": "%{y:.2s}",
         "type": "bar",
         "x": [
          "retired cap"
         ],
         "xaxis": "x10",
         "y": {
          "bdata": "AAAAACQmP8E=",
          "dtype": "f8"
         },
         "yaxis": "y10"
        },
        {
         "hovertemplate": "fuel=Diesel<br>cap type=%{x}<br>mode=HD Truck<br>vintage=2025<br>capacity=%{y}<extra></extra>",
         "legendgroup": "Diesel, retired cap",
         "marker": {
          "color": "brown",
          "pattern": {
           "shape": "/"
          }
         },
         "name": "Diesel",
         "orientation": "v",
         "showlegend": true,
         "textfont": {
          "size": 11
         },
         "textposition": "auto",
         "texttemplate": "%{y:.2s}",
         "type": "bar",
         "x": [
          "retired cap"
         ],
         "xaxis": "x",
         "y": {
          "bdata": "AAAAAAABw8A=",
          "dtype": "f8"
         },
         "yaxis": "y"
        },
        {
         "hovertemplate": "fuel=Diesel<br>cap type=%{x}<br>mode=LD Truck<br>vintage=2030<br>capacity=%{y}<extra></extra>",
         "legendgroup": "Diesel, retired cap",
         "marker": {
          "color": "brown",
          "pattern": {
           "shape": "/"
          }
         },
         "name": "Diesel",
         "orientation": "v",
         "showlegend": false,
         "textfont": {
          "size": 11
         },
         "textposition": "auto",
         "texttemplate": "%{y:.2s}",
         "type": "bar",
         "x": [
          "retired cap"
         ],
         "xaxis": "x8",
         "y": {
          "bdata": "AAAAAECH4MA=",
          "dtype": "f8"
         },
         "yaxis": "y8"
        },
        {
         "hovertemplate": "fuel=Diesel<br>cap type=%{x}<br>mode=HD Truck<br>vintage=2030<br>capacity=%{y}<extra></extra>",
         "legendgroup": "Diesel, retired cap",
         "marker": {
          "color": "brown",
          "pattern": {
           "shape": "/"
          }
         },
         "name": "Diesel",
         "orientation": "v",
         "showlegend": false,
         "textfont": {
          "size": 11
         },
         "textposition": "auto",
         "texttemplate": "%{y:.2s}",
         "type": "bar",
         "x": [
          "retired cap"
         ],
         "xaxis": "x2",
         "y": {
          "bdata": "AAAAAAAi2sA=",
          "dtype": "f8"
         },
         "yaxis": "y2"
        },
        {
         "hovertemplate": "fuel=Diesel<br>cap type=%{x}<br>mode=LD Truck<br>vintage=2035<br>capacity=%{y}<extra></extra>",
         "legendgroup": "Diesel, retired cap",
         "marker": {
          "color": "brown",
          "pattern": {
           "shape": "/"
          }
         },
         "name": "Diesel",
         "orientation": "v",
         "showlegend": false,
         "textfont": {
          "size": 11
         },
         "textposition": "auto",
         "texttemplate": "%{y:.2s}",
         "type": "bar",
         "x": [
          "retired cap"
         ],
         "xaxis": "x9",
         "y": {
          "bdata": "AAAAACBa8sA=",
          "dtype": "f8"
         },
         "yaxis": "y9"
        },
        {
         "hovertemplate": "fuel=Diesel<br>cap type=%{x}<br>mode=HD Truck<br>vintage=2035<br>capacity=%{y}<extra></extra>",
         "legendgroup": "Diesel, retired cap",
         "marker": {
          "color": "brown",
          "pattern": {
           "shape": "/"
          }
         },
         "name": "Diesel",
         "orientation": "v",
         "showlegend": false,
         "textfont": {
          "size": 11
         },
         "textposition": "auto",
         "texttemplate": "%{y:.2s}",
         "type": "bar",
         "x": [
          "retired cap"
         ],
         "xaxis": "x3",
         "y": {
          "bdata": "AAAAAIBp4cA=",
          "dtype": "f8"
         },
         "yaxis": "y3"
        },
        {
         "hovertemplate": "fuel=Diesel<br>cap type=%{x}<br>mode=LD Truck<br>vintage=2040<br>capacity=%{y}<extra></extra>",
         "legendgroup": "Diesel, retired cap",
         "marker": {
          "color": "brown",
          "pattern": {
           "shape": "/"
          }
         },
         "name": "Diesel",
         "orientation": "v",
         "showlegend": false,
         "textfont": {
          "size": 11
         },
         "textposition": "auto",
         "texttemplate": "%{y:.2s}",
         "type": "bar",
         "x": [
          "retired cap"
         ],
         "xaxis": "x10",
         "y": {
          "bdata": "AAAAAMBn+cA=",
          "dtype": "f8"
         },
         "yaxis": "y10"
        },
        {
         "hovertemplate": "fuel=Diesel<br>cap type=%{x}<br>mode=HD Truck<br>vintage=2040<br>capacity=%{y}<extra></extra>",
         "legendgroup": "Diesel, retired cap",
         "marker": {
          "color": "brown",
          "pattern": {
           "shape": "/"
          }
         },
         "name": "Diesel",
         "orientation": "v",
         "showlegend": false,
         "textfont": {
          "size": 11
         },
         "textposition": "auto",
         "texttemplate": "%{y:.2s}",
         "type": "bar",
         "x": [
          "retired cap"
         ],
         "xaxis": "x4",
         "y": {
          "bdata": "AAAAAAB47sA=",
          "dtype": "f8"
         },
         "yaxis": "y4"
        },
        {
         "hovertemplate": "fuel=Hybrid<br>cap type=%{x}<br>mode=HD Truck<br>vintage=2025<br>capacity=%{y}<extra></extra>",
         "legendgroup": "Hybrid, new capacity",
         "marker": {
          "color": "darkorange",
          "pattern": {
           "shape": ""
          }
         },
         "name": "Hybrid",
         "orientation": "v",
         "showlegend": true,
         "textfont": {
          "size": 11
         },
         "textposition": "auto",
         "texttemplate": "%{y:.2s}",
         "type": "bar",
         "x": [
          "new capacity"
         ],
         "xaxis": "x",
         "y": {
          "bdata": "AAAAAAB5yEA=",
          "dtype": "f8"
         },
         "yaxis": "y"
        },
        {
         "hovertemplate": "fuel=Hybrid<br>cap type=%{x}<br>mode=HD Truck<br>vintage=2030<br>capacity=%{y}<extra></extra>",
         "legendgroup": "Hybrid, new capacity",
         "marker": {
          "color": "darkorange",
          "pattern": {
           "shape": ""
          }
         },
         "name": "Hybrid",
         "orientation": "v",
         "showlegend": false,
         "textfont": {
          "size": 11
         },
         "textposition": "auto",
         "texttemplate": "%{y:.2s}",
         "type": "bar",
         "x": [
          "new capacity"
         ],
         "xaxis": "x2",
         "y": {
          "bdata": "AAAAAAAEwEA=",
          "dtype": "f8"
         },
         "yaxis": "y2"
        },
        {
         "hovertemplate": "fuel=Hybrid<br>cap type=%{x}<br>mode=HD Truck<br>vintage=2035<br>capacity=%{y}<extra></extra>",
         "legendgroup": "Hybrid, new capacity",
         "marker": {
          "color": "darkorange",
          "pattern": {
           "shape": ""
          }
         },
         "name": "Hybrid",
         "orientation": "v",
         "showlegend": false,
         "textfont": {
          "size": 11
         },
         "textposition": "auto",
         "texttemplate": "%{y:.2s}",
         "type": "bar",
         "x": [
          "new capacity"
         ],
         "xaxis": "x3",
         "y": {
          "bdata": "AAAAAACgxEA=",
          "dtype": "f8"
         },
         "yaxis": "y3"
        },
        {
         "hovertemplate": "fuel=Hybrid<br>cap type=%{x}<br>mode=HD Truck<br>vintage=2040<br>capacity=%{y}<extra></extra>",
         "legendgroup": "Hybrid, new capacity",
         "marker": {
          "color": "darkorange",
          "pattern": {
           "shape": ""
          }
         },
         "name": "Hybrid",
         "orientation": "v",
         "showlegend": false,
         "textfont": {
          "size": 11
         },
         "textposition": "auto",
         "texttemplate": "%{y:.2s}",
         "type": "bar",
         "x": [
          "new capacity"
         ],
         "xaxis": "x4",
         "y": {
          "bdata": "AAAAAAAswEA=",
          "dtype": "f8"
         },
         "yaxis": "y4"
        },
        {
         "hovertemplate": "fuel=Hybrid<br>cap type=%{x}<br>mode=HD Truck<br>vintage=2050<br>capacity=%{y}<extra></extra>",
         "legendgroup": "Hybrid, new capacity",
         "marker": {
          "color": "darkorange",
          "pattern": {
           "shape": ""
          }
         },
         "name": "Hybrid",
         "orientation": "v",
         "showlegend": false,
         "textfont": {
          "size": 11
         },
         "textposition": "auto",
         "texttemplate": "%{y:.2s}",
         "type": "bar",
         "x": [
          "new capacity"
         ],
         "xaxis": "x6",
         "y": {
          "bdata": "AAAAAADKskA=",
          "dtype": "f8"
         },
         "yaxis": "y6"
        },
        {
         "hovertemplate": "fuel=Hybrid<br>cap type=%{x}<br>mode=LD Truck<br>vintage=2035<br>capacity=%{y}<extra></extra>",
         "legendgroup": "Hybrid, retired cap",
         "marker": {
          "color": "darkorange",
          "pattern": {
           "shape": "/"
          }
         },
         "name": "Hybrid",
         "orientation": "v",
         "showlegend": false,
         "textfont": {
          "size": 11
         },
         "textposition": "auto",
         "texttemplate": "%{y:.2s}",
         "type": "bar",
         "x": [
          "retired cap"
         ],
         "xaxis": "x9",
         "y": {
          "bdata": "AAAAAAAsqsA=",
          "dtype": "f8"
         },
         "yaxis": "y9"
        },
        {
         "hovertemplate": "fuel=Hybrid<br>cap type=%{x}<br>mode=LD Truck<br>vintage=2040<br>capacity=%{y}<extra></extra>",
         "legendgroup": "Hybrid, retired cap",
         "marker": {
          "color": "darkorange",
          "pattern": {
           "shape": "/"
          }
         },
         "name": "Hybrid",
         "orientation": "v",
         "showlegend": false,
         "textfont": {
          "size": 11
         },
         "textposition": "auto",
         "texttemplate": "%{y:.2s}",
         "type": "bar",
         "x": [
          "retired cap"
         ],
         "xaxis": "x10",
         "y": {
          "bdata": "AAAAAAB20cA=",
          "dtype": "f8"
         },
         "yaxis": "y10"
        },
        {
         "hovertemplate": "fuel=Hybrid<br>cap type=%{x}<br>mode=HD Truck<br>vintage=2040<br>capacity=%{y}<extra></extra>",
         "legendgroup": "Hybrid, retired cap",
         "marker": {
          "color": "darkorange",
          "pattern": {
           "shape": "/"
          }
         },
         "name": "Hybrid",
         "orientation": "v",
         "showlegend": false,
         "textfont": {
          "size": 11
         },
         "textposition": "auto",
         "texttemplate": "%{y:.2s}",
         "type": "bar",
         "x": [
          "retired cap"
         ],
         "xaxis": "x4",
         "y": {
          "bdata": "AAAAAAA2z8A=",
          "dtype": "f8"
         },
         "yaxis": "y4"
        },
        {
         "hovertemplate": "fuel=Hybrid<br>cap type=%{x}<br>mode=HD Truck<br>vintage=2045<br>capacity=%{y}<extra></extra>",
         "legendgroup": "Hybrid, retired cap",
         "marker": {
          "color": "darkorange",
          "pattern": {
           "shape": "/"
          }
         },
         "name": "Hybrid",
         "orientation": "v",
         "showlegend": false,
         "textfont": {
          "size": 11
         },
         "textposition": "auto",
         "texttemplate": "%{y:.2s}",
         "type": "bar",
         "x": [
          "retired cap"
         ],
         "xaxis": "x5",
         "y": {
          "bdata": "AAAAAAB5yMA=",
          "dtype": "f8"
         },
         "yaxis": "y5"
        },
        {
         "hovertemplate": "fuel=Hybrid<br>cap type=%{x}<br>mode=HD Truck<br>vintage=2050<br>capacity=%{y}<extra></extra>",
         "legendgroup": "Hybrid, retired cap",
         "marker": {
          "color": "darkorange",
          "pattern": {
           "shape": "/"
          }
         },
         "name": "Hybrid",
         "orientation": "v",
         "showlegend": false,
         "textfont": {
          "size": 11
         },
         "textposition": "auto",
         "texttemplate": "%{y:.2s}",
         "type": "bar",
         "x": [
          "retired cap"
         ],
         "xaxis": "x6",
         "y": {
          "bdata": "AAAAAAAEwMA=",
          "dtype": "f8"
         },
         "yaxis": "y6"
        },
        {
         "hovertemplate": "fuel=PHEV (35-mile AER)<br>cap type=%{x}<br>mode=LD Truck<br>vintage=2025<br>capacity=%{y}<extra></extra>",
         "legendgroup": "PHEV (35-mile AER), new capacity",
         "marker": {
          "color": "dodgerblue",
          "pattern": {
           "shape": ""
          }
         },
         "name": "PHEV (35-mile AER)",
         "orientation": "v",
         "showlegend": true,
         "textfont": {
          "size": 11
         },
         "textposition": "auto",
         "texttemplate": "%{y:.2s}",
         "type": "bar",
         "x": [
          "new capacity"
         ],
         "xaxis": "x7",
         "y": {
          "bdata": "AAAAAADpwUA=",
          "dtype": "f8"
         },
         "yaxis": "y7"
        },
        {
         "hovertemplate": "fuel=PHEV (35-mile AER)<br>cap type=%{x}<br>mode=LD Truck<br>vintage=2030<br>capacity=%{y}<extra></extra>",
         "legendgroup": "PHEV (35-mile AER), new capacity",
         "marker": {
          "color": "dodgerblue",
          "pattern": {
           "shape": ""
          }
         },
         "name": "PHEV (35-mile AER)",
         "orientation": "v",
         "showlegend": false,
         "textfont": {
          "size": 11
         },
         "textposition": "auto",
         "texttemplate": "%{y:.2s}",
         "type": "bar",
         "x": [
          "new capacity"
         ],
         "xaxis": "x8",
         "y": {
          "bdata": "AAAAAAAyxEA=",
          "dtype": "f8"
         },
         "yaxis": "y8"
        },
        {
         "hovertemplate": "fuel=PHEV (35-mile AER)<br>cap type=%{x}<br>mode=LD Truck<br>vintage=2035<br>capacity=%{y}<extra></extra>",
         "legendgroup": "PHEV (35-mile AER), new capacity",
         "marker": {
          "color": "dodgerblue",
          "pattern": {
           "shape": ""
          }
         },
         "name": "PHEV (35-mile AER)",
         "orientation": "v",
         "showlegend": false,
         "textfont": {
          "size": 11
         },
         "textposition": "auto",
         "texttemplate": "%{y:.2s}",
         "type": "bar",
         "x": [
          "new capacity"
         ],
         "xaxis": "x9",
         "y": {
          "bdata": "AAAAAADasUA=",
          "dtype": "f8"
         },
         "yaxis": "y9"
        },
        {
         "hovertemplate": "fuel=PHEV (35-mile AER)<br>cap type=%{x}<br>mode=LD Truck<br>vintage=2040<br>capacity=%{y}<extra></extra>",
         "legendgroup": "PHEV (35-mile AER), new capacity",
         "marker": {
          "color": "dodgerblue",
          "pattern": {
           "shape": ""
          }
         },
         "name": "PHEV (35-mile AER)",
         "orientation": "v",
         "showlegend": false,
         "textfont": {
          "size": 11
         },
         "textposition": "auto",
         "texttemplate": "%{y:.2s}",
         "type": "bar",
         "x": [
          "new capacity"
         ],
         "xaxis": "x10",
         "y": {
          "bdata": "AAAAAADAfEA=",
          "dtype": "f8"
         },
         "yaxis": "y10"
        },
        {
         "hovertemplate": "fuel=PHEV (35-mile AER)<br>cap type=%{x}<br>mode=LD Truck<br>vintage=2045<br>capacity=%{y}<extra></extra>",
         "legendgroup": "PHEV (35-mile AER), new capacity",
         "marker": {
          "color": "dodgerblue",
          "pattern": {
           "shape": ""
          }
         },
         "name": "PHEV (35-mile AER)",
         "orientation": "v",
         "showlegend": false,
         "textfont": {
          "size": 11
         },
         "textposition": "auto",
         "texttemplate": "%{y:.2s}",
         "type": "bar",
         "x": [
          "new capacity"
         ],
         "xaxis": "x11",
         "y": {
          "bdata": "AAAAAAAAaUA=",
          "dtype": "f8"
         },
         "yaxis": "y11"
        },
        {
         "hovertemplate": "fuel=PHEV (35-mile AER)<br>cap type=%{x}<br>mode=LD Truck<br>vintage=2050<br>capacity=%{y}<extra></extra>",
         "legendgroup": "PHEV (35-mile AER), new capacity",
         "marker": {
          "color": "dodgerblue",
          "pattern": {
           "shape": ""
          }
         },
         "name": "PHEV (35-mile AER)",
         "orientation": "v",
         "showlegend": false,
         "textfont": {
          "size": 11
         },
         "textposition": "auto",
         "texttemplate": "%{y:.2s}",
         "type": "bar",
         "x": [
          "new capacity"
         ],
         "xaxis": "x12",
         "y": {
          "bdata": "AAAAAAAASUA=",
          "dtype": "f8"
         },
         "yaxis": "y12"
        },
        {
         "hovertemplate": "fuel=PHEV (35-mile AER)<br>cap type=%{x}<br>mode=LD Truck<br>vintage=2035<br>capacity=%{y}<extra></extra>",
         "legendgroup": "PHEV (35-mile AER), retired cap",
         "marker": {
          "color": "dodgerblue",
          "pattern": {
           "shape": "/"
          }
         },
         "name": "PHEV (35-mile AER)",
         "orientation": "v",
         "showlegend": false,
         "textfont": {
          "size": 11
         },
         "textposition": "auto",
         "texttemplate": "%{y:.2s}",
         "type": "bar",
         "x": [
          "retired cap"
         ],
         "xaxis": "x9",
         "y": {
          "bdata": "AAAAAAAAVMA=",
          "dtype": "f8"
         },
         "yaxis": "y9"
        },
        {
         "hovertemplate": "fuel=PHEV (35-mile AER)<br>cap type=%{x}<br>mode=LD Truck<br>vintage=2040<br>capacity=%{y}<extra></extra>",
         "legendgroup": "PHEV (35-mile AER), retired cap",
         "marker": {
          "color": "dodgerblue",
          "pattern": {
           "shape": "/"
          }
         },
         "name": "PHEV (35-mile AER)",
         "orientation": "v",
         "showlegend": false,
         "textfont": {
          "size": 11
         },
         "textposition": "auto",
         "texttemplate": "%{y:.2s}",
         "type": "bar",
         "x": [
          "retired cap"
         ],
         "xaxis": "x10",
         "y": {
          "bdata": "AAAAAIiuGcE=",
          "dtype": "f8"
         },
         "yaxis": "y10"
        },
        {
         "hovertemplate": "fuel=PHEV (35-mile AER)<br>cap type=%{x}<br>mode=LD Truck<br>vintage=2045<br>capacity=%{y}<extra></extra>",
         "legendgroup": "PHEV (35-mile AER), retired cap",
         "marker": {
          "color": "dodgerblue",
          "pattern": {
           "shape": "/"
          }
         },
         "name": "PHEV (35-mile AER)",
         "orientation": "v",
         "showlegend": false,
         "textfont": {
          "size": 11
         },
         "textposition": "auto",
         "texttemplate": "%{y:.2s}",
         "type": "bar",
         "x": [
          "retired cap"
         ],
         "xaxis": "x11",
         "y": {
          "bdata": "AAAAAADpwcA=",
          "dtype": "f8"
         },
         "yaxis": "y11"
        },
        {
         "hovertemplate": "fuel=PHEV (35-mile AER)<br>cap type=%{x}<br>mode=LD Truck<br>vintage=2050<br>capacity=%{y}<extra></extra>",
         "legendgroup": "PHEV (35-mile AER), retired cap",
         "marker": {
          "color": "dodgerblue",
          "pattern": {
           "shape": "/"
          }
         },
         "name": "PHEV (35-mile AER)",
         "orientation": "v",
         "showlegend": false,
         "textfont": {
          "size": 11
         },
         "textposition": "auto",
         "texttemplate": "%{y:.2s}",
         "type": "bar",
         "x": [
          "retired cap"
         ],
         "xaxis": "x12",
         "y": {
          "bdata": "AAAAAAAyxMA=",
          "dtype": "f8"
         },
         "yaxis": "y12"
        },
        {
         "hovertemplate": "fuel=BEV (150-mile AER)<br>cap type=%{x}<br>mode=LD Truck<br>vintage=2025<br>capacity=%{y}<extra></extra>",
         "legendgroup": "BEV (150-mile AER), new capacity",
         "marker": {
          "color": "limegreen",
          "pattern": {
           "shape": ""
          }
         },
         "name": "BEV (150-mile AER)",
         "orientation": "v",
         "showlegend": true,
         "textfont": {
          "size": 11
         },
         "textposition": "auto",
         "texttemplate": "%{y:.2s}",
         "type": "bar",
         "x": [
          "new capacity"
         ],
         "xaxis": "x7",
         "y": {
          "bdata": "AAAAAACROUE=",
          "dtype": "f8"
         },
         "yaxis": "y7"
        },
        {
         "hovertemplate": "fuel=BEV (150-mile AER)<br>cap type=%{x}<br>mode=LD Truck<br>vintage=2030<br>capacity=%{y}<extra></extra>",
         "legendgroup": "BEV (150-mile AER), new capacity",
         "marker": {
          "color": "limegreen",
          "pattern": {
           "shape": ""
          }
         },
         "name": "BEV (150-mile AER)",
         "orientation": "v",
         "showlegend": false,
         "textfont": {
          "size": 11
         },
         "textposition": "auto",
         "texttemplate": "%{y:.2s}",
         "type": "bar",
         "x": [
          "new capacity"
         ],
         "xaxis": "x8",
         "y": {
          "bdata": "AAAAAAxAOEE=",
          "dtype": "f8"
         },
         "yaxis": "y8"
        },
        {
         "hovertemplate": "fuel=BEV (150-mile AER)<br>cap type=%{x}<br>mode=LD Truck<br>vintage=2035<br>capacity=%{y}<extra></extra>",
         "legendgroup": "BEV (150-mile AER), new capacity",
         "marker": {
          "color": "limegreen",
          "pattern": {
           "shape": ""
          }
         },
         "name": "BEV (150-mile AER)",
         "orientation": "v",
         "showlegend": false,
         "textfont": {
          "size": 11
         },
         "textposition": "auto",
         "texttemplate": "%{y:.2s}",
         "type": "bar",
         "x": [
          "new capacity"
         ],
         "xaxis": "x9",
         "y": {
          "bdata": "AAAAAMFHRUE=",
          "dtype": "f8"
         },
         "yaxis": "y9"
        },
        {
         "hovertemplate": "fuel=BEV (150-mile AER)<br>cap type=%{x}<br>mode=LD Truck<br>vintage=2040<br>capacity=%{y}<extra></extra>",
         "legendgroup": "BEV (150-mile AER), new capacity",
         "marker": {
          "color": "limegreen",
          "pattern": {
           "shape": ""
          }
         },
         "name": "BEV (150-mile AER)",
         "orientation": "v",
         "showlegend": false,
         "textfont": {
          "size": 11
         },
         "textposition": "auto",
         "texttemplate": "%{y:.2s}",
         "type": "bar",
         "x": [
          "new capacity"
         ],
         "xaxis": "x10",
         "y": {
          "bdata": "AAAAAPaIQkE=",
          "dtype": "f8"
         },
         "yaxis": "y10"
        },
        {
         "hovertemplate": "fuel=BEV (150-mile AER)<br>cap type=%{x}<br>mode=LD Truck<br>vintage=2045<br>capacity=%{y}<extra></extra>",
         "legendgroup": "BEV (150-mile AER), new capacity",
         "marker": {
          "color": "limegreen",
          "pattern": {
           "shape": ""
          }
         },
         "name": "BEV (150-mile AER)",
         "orientation": "v",
         "showlegend": false,
         "textfont": {
          "size": 11
         },
         "textposition": "auto",
         "texttemplate": "%{y:.2s}",
         "type": "bar",
         "x": [
          "new capacity"
         ],
         "xaxis": "x11",
         "y": {
          "bdata": "AAAAAATmP0E=",
          "dtype": "f8"
         },
         "yaxis": "y11"
        },
        {
         "hovertemplate": "fuel=BEV (150-mile AER)<br>cap type=%{x}<br>mode=LD Truck<br>vintage=2050<br>capacity=%{y}<extra></extra>",
         "legendgroup": "BEV (150-mile AER), new capacity",
         "marker": {
          "color": "limegreen",
          "pattern": {
           "shape": ""
          }
         },
         "name": "BEV (150-mile AER)",
         "orientation": "v",
         "showlegend": false,
         "textfont": {
          "size": 11
         },
         "textposition": "auto",
         "texttemplate": "%{y:.2s}",
         "type": "bar",
         "x": [
          "new capacity"
         ],
         "xaxis": "x12",
         "y": {
          "bdata": "AAAAAKqdR0E=",
          "dtype": "f8"
         },
         "yaxis": "y12"
        },
        {
         "hovertemplate": "fuel=BEV (150-mile AER)<br>cap type=%{x}<br>mode=LD Truck<br>vintage=2040<br>capacity=%{y}<extra></extra>",
         "legendgroup": "BEV (150-mile AER), retired cap",
         "marker": {
          "color": "limegreen",
          "pattern": {
           "shape": "/"
          }
         },
         "name": "BEV (150-mile AER)",
         "orientation": "v",
         "showlegend": false,
         "textfont": {
          "size": 11
         },
         "textposition": "auto",
         "texttemplate": "%{y:.2s}",
         "type": "bar",
         "x": [
          "retired cap"
         ],
         "xaxis": "x10",
         "y": {
          "bdata": "AAAAAADgesA=",
          "dtype": "f8"
         },
         "yaxis": "y10"
        },
        {
         "hovertemplate": "fuel=BEV (150-mile AER)<br>cap type=%{x}<br>mode=LD Truck<br>vintage=2045<br>capacity=%{y}<extra></extra>",
         "legendgroup": "BEV (150-mile AER), retired cap",
         "marker": {
          "color": "limegreen",
          "pattern": {
           "shape": "/"
          }
         },
         "name": "BEV (150-mile AER)",
         "orientation": "v",
         "showlegend": false,
         "textfont": {
          "size": 11
         },
         "textposition": "auto",
         "texttemplate": "%{y:.2s}",
         "type": "bar",
         "x": [
          "retired cap"
         ],
         "xaxis": "x11",
         "y": {
          "bdata": "AAAAAACROcE=",
          "dtype": "f8"
         },
         "yaxis": "y11"
        },
        {
         "hovertemplate": "fuel=BEV (150-mile AER)<br>cap type=%{x}<br>mode=LD Truck<br>vintage=2050<br>capacity=%{y}<extra></extra>",
         "legendgroup": "BEV (150-mile AER), retired cap",
         "marker": {
          "color": "limegreen",
          "pattern": {
           "shape": "/"
          }
         },
         "name": "BEV (150-mile AER)",
         "orientation": "v",
         "showlegend": false,
         "textfont": {
          "size": 11
         },
         "textposition": "auto",
         "texttemplate": "%{y:.2s}",
         "type": "bar",
         "x": [
          "retired cap"
         ],
         "xaxis": "x12",
         "y": {
          "bdata": "AAAAAAxAOME=",
          "dtype": "f8"
         },
         "yaxis": "y12"
        },
        {
         "hovertemplate": "fuel=BEV (200-mile AER)<br>cap type=%{x}<br>mode=LD Truck<br>vintage=2025<br>capacity=%{y}<extra></extra>",
         "legendgroup": "BEV (200-mile AER), new capacity",
         "marker": {
          "color": "seagreen",
          "pattern": {
           "shape": ""
          }
         },
         "name": "BEV (200-mile AER)",
         "orientation": "v",
         "showlegend": true,
         "textfont": {
          "size": 11
         },
         "textposition": "auto",
         "texttemplate": "%{y:.2s}",
         "type": "bar",
         "x": [
          "new capacity"
         ],
         "xaxis": "x7",
         "y": {
          "bdata": "AAAAAAAAPkA=",
          "dtype": "f8"
         },
         "yaxis": "y7"
        },
        {
         "hovertemplate": "fuel=BEV (200-mile AER)<br>cap type=%{x}<br>mode=LD Truck<br>vintage=2030<br>capacity=%{y}<extra></extra>",
         "legendgroup": "BEV (200-mile AER), new capacity",
         "marker": {
          "color": "seagreen",
          "pattern": {
           "shape": ""
          }
         },
         "name": "BEV (200-mile AER)",
         "orientation": "v",
         "showlegend": false,
         "textfont": {
          "size": 11
         },
         "textposition": "auto",
         "texttemplate": "%{y:.2s}",
         "type": "bar",
         "x": [
          "new capacity"
         ],
         "xaxis": "x8",
         "y": {
          "bdata": "AAAAAAAAPkA=",
          "dtype": "f8"
         },
         "yaxis": "y8"
        },
        {
         "hovertemplate": "fuel=BEV (200-mile AER)<br>cap type=%{x}<br>mode=LD Truck<br>vintage=2035<br>capacity=%{y}<extra></extra>",
         "legendgroup": "BEV (200-mile AER), new capacity",
         "marker": {
          "color": "seagreen",
          "pattern": {
           "shape": ""
          }
         },
         "name": "BEV (200-mile AER)",
         "orientation": "v",
         "showlegend": false,
         "textfont": {
          "size": 11
         },
         "textposition": "auto",
         "texttemplate": "%{y:.2s}",
         "type": "bar",
         "x": [
          "new capacity"
         ],
         "xaxis": "x9",
         "y": {
          "bdata": "AAAAAAAAREA=",
          "dtype": "f8"
         },
         "yaxis": "y9"
        },
        {
         "hovertemplate": "fuel=BEV (200-mile AER)<br>cap type=%{x}<br>mode=LD Truck<br>vintage=2040<br>capacity=%{y}<extra></extra>",
         "legendgroup": "BEV (200-mile AER), new capacity",
         "marker": {
          "color": "seagreen",
          "pattern": {
           "shape": ""
          }
         },
         "name": "BEV (200-mile AER)",
         "orientation": "v",
         "showlegend": false,
         "textfont": {
          "size": 11
         },
         "textposition": "auto",
         "texttemplate": "%{y:.2s}",
         "type": "bar",
         "x": [
          "new capacity"
         ],
         "xaxis": "x10",
         "y": {
          "bdata": "AAAAAAAAREA=",
          "dtype": "f8"
         },
         "yaxis": "y10"
        },
        {
         "hovertemplate": "fuel=BEV (200-mile AER)<br>cap type=%{x}<br>mode=LD Truck<br>vintage=2045<br>capacity=%{y}<extra></extra>",
         "legendgroup": "BEV (200-mile AER), new capacity",
         "marker": {
          "color": "seagreen",
          "pattern": {
           "shape": ""
          }
         },
         "name": "BEV (200-mile AER)",
         "orientation": "v",
         "showlegend": false,
         "textfont": {
          "size": 11
         },
         "textposition": "auto",
         "texttemplate": "%{y:.2s}",
         "type": "bar",
         "x": [
          "new capacity"
         ],
         "xaxis": "x11",
         "y": {
          "bdata": "AAAAAAAASUA=",
          "dtype": "f8"
         },
         "yaxis": "y11"
        },
        {
         "hovertemplate": "fuel=BEV (200-mile AER)<br>cap type=%{x}<br>mode=LD Truck<br>vintage=2050<br>capacity=%{y}<extra></extra>",
         "legendgroup": "BEV (200-mile AER), new capacity",
         "marker": {
          "color": "seagreen",
          "pattern": {
           "shape": ""
          }
         },
         "name": "BEV (200-mile AER)",
         "orientation": "v",
         "showlegend": false,
         "textfont": {
          "size": 11
         },
         "textposition": "auto",
         "texttemplate": "%{y:.2s}",
         "type": "bar",
         "x": [
          "new capacity"
         ],
         "xaxis": "x12",
         "y": {
          "bdata": "AAAAAACAUUA=",
          "dtype": "f8"
         },
         "yaxis": "y12"
        },
        {
         "hovertemplate": "fuel=BEV (200-mile AER)<br>cap type=%{x}<br>mode=LD Truck<br>vintage=2040<br>capacity=%{y}<extra></extra>",
         "legendgroup": "BEV (200-mile AER), retired cap",
         "marker": {
          "color": "seagreen",
          "pattern": {
           "shape": "/"
          }
         },
         "name": "BEV (200-mile AER)",
         "orientation": "v",
         "showlegend": false,
         "textfont": {
          "size": 11
         },
         "textposition": "auto",
         "texttemplate": "%{y:.2s}",
         "type": "bar",
         "x": [
          "retired cap"
         ],
         "xaxis": "x10",
         "y": {
          "bdata": "AAAAAAAANMA=",
          "dtype": "f8"
         },
         "yaxis": "y10"
        },
        {
         "hovertemplate": "fuel=BEV (200-mile AER)<br>cap type=%{x}<br>mode=LD Truck<br>vintage=2045<br>capacity=%{y}<extra></extra>",
         "legendgroup": "BEV (200-mile AER), retired cap",
         "marker": {
          "color": "seagreen",
          "pattern": {
           "shape": "/"
          }
         },
         "name": "BEV (200-mile AER)",
         "orientation": "v",
         "showlegend": false,
         "textfont": {
          "size": 11
         },
         "textposition": "auto",
         "texttemplate": "%{y:.2s}",
         "type": "bar",
         "x": [
          "retired cap"
         ],
         "xaxis": "x11",
         "y": {
          "bdata": "AAAAAAAAPsA=",
          "dtype": "f8"
         },
         "yaxis": "y11"
        },
        {
         "hovertemplate": "fuel=BEV (200-mile AER)<br>cap type=%{x}<br>mode=LD Truck<br>vintage=2050<br>capacity=%{y}<extra></extra>",
         "legendgroup": "BEV (200-mile AER), retired cap",
         "marker": {
          "color": "seagreen",
          "pattern": {
           "shape": "/"
          }
         },
         "name": "BEV (200-mile AER)",
         "orientation": "v",
         "showlegend": false,
         "textfont": {
          "size": 11
         },
         "textposition": "auto",
         "texttemplate": "%{y:.2s}",
         "type": "bar",
         "x": [
          "retired cap"
         ],
         "xaxis": "x12",
         "y": {
          "bdata": "AAAAAAAAPsA=",
          "dtype": "f8"
         },
         "yaxis": "y12"
        },
        {
         "hovertemplate": "fuel=BEV (300-mile AER)<br>cap type=%{x}<br>mode=LD Truck<br>vintage=2025<br>capacity=%{y}<extra></extra>",
         "legendgroup": "BEV (300-mile AER), new capacity",
         "marker": {
          "color": "olive",
          "pattern": {
           "shape": ""
          }
         },
         "name": "BEV (300-mile AER)",
         "orientation": "v",
         "showlegend": true,
         "textfont": {
          "size": 11
         },
         "textposition": "auto",
         "texttemplate": "%{y:.2s}",
         "type": "bar",
         "x": [
          "new capacity"
         ],
         "xaxis": "x7",
         "y": {
          "bdata": "AAAAAAAAJEA=",
          "dtype": "f8"
         },
         "yaxis": "y7"
        },
        {
         "hovertemplate": "fuel=BEV (300-mile AER)<br>cap type=%{x}<br>mode=LD Truck<br>vintage=2030<br>capacity=%{y}<extra></extra>",
         "legendgroup": "BEV (300-mile AER), new capacity",
         "marker": {
          "color": "olive",
          "pattern": {
           "shape": ""
          }
         },
         "name": "BEV (300-mile AER)",
         "orientation": "v",
         "showlegend": false,
         "textfont": {
          "size": 11
         },
         "textposition": "auto",
         "texttemplate": "%{y:.2s}",
         "type": "bar",
         "x": [
          "new capacity"
         ],
         "xaxis": "x8",
         "y": {
          "bdata": "AAAAAAAAJEA=",
          "dtype": "f8"
         },
         "yaxis": "y8"
        },
        {
         "hovertemplate": "fuel=BEV (300-mile AER)<br>cap type=%{x}<br>mode=LD Truck<br>vintage=2035<br>capacity=%{y}<extra></extra>",
         "legendgroup": "BEV (300-mile AER), new capacity",
         "marker": {
          "color": "olive",
          "pattern": {
           "shape": ""
          }
         },
         "name": "BEV (300-mile AER)",
         "orientation": "v",
         "showlegend": false,
         "textfont": {
          "size": 11
         },
         "textposition": "auto",
         "texttemplate": "%{y:.2s}",
         "type": "bar",
         "x": [
          "new capacity"
         ],
         "xaxis": "x9",
         "y": {
          "bdata": "AAAAAAAANEA=",
          "dtype": "f8"
         },
         "yaxis": "y9"
        },
        {
         "hovertemplate": "fuel=BEV (300-mile AER)<br>cap type=%{x}<br>mode=LD Truck<br>vintage=2040<br>capacity=%{y}<extra></extra>",
         "legendgroup": "BEV (300-mile AER), new capacity",
         "marker": {
          "color": "olive",
          "pattern": {
           "shape": ""
          }
         },
         "name": "BEV (300-mile AER)",
         "orientation": "v",
         "showlegend": false,
         "textfont": {
          "size": 11
         },
         "textposition": "auto",
         "texttemplate": "%{y:.2s}",
         "type": "bar",
         "x": [
          "new capacity"
         ],
         "xaxis": "x10",
         "y": {
          "bdata": "AAAAAAAAJEA=",
          "dtype": "f8"
         },
         "yaxis": "y10"
        },
        {
         "hovertemplate": "fuel=BEV (300-mile AER)<br>cap type=%{x}<br>mode=LD Truck<br>vintage=2045<br>capacity=%{y}<extra></extra>",
         "legendgroup": "BEV (300-mile AER), new capacity",
         "marker": {
          "color": "olive",
          "pattern": {
           "shape": ""
          }
         },
         "name": "BEV (300-mile AER)",
         "orientation": "v",
         "showlegend": false,
         "textfont": {
          "size": 11
         },
         "textposition": "auto",
         "texttemplate": "%{y:.2s}",
         "type": "bar",
         "x": [
          "new capacity"
         ],
         "xaxis": "x11",
         "y": {
          "bdata": "AAAAAAAANEA=",
          "dtype": "f8"
         },
         "yaxis": "y11"
        },
        {
         "hovertemplate": "fuel=BEV (300-mile AER)<br>cap type=%{x}<br>mode=LD Truck<br>vintage=2050<br>capacity=%{y}<extra></extra>",
         "legendgroup": "BEV (300-mile AER), new capacity",
         "marker": {
          "color": "olive",
          "pattern": {
           "shape": ""
          }
         },
         "name": "BEV (300-mile AER)",
         "orientation": "v",
         "showlegend": false,
         "textfont": {
          "size": 11
         },
         "textposition": "auto",
         "texttemplate": "%{y:.2s}",
         "type": "bar",
         "x": [
          "new capacity"
         ],
         "xaxis": "x12",
         "y": {
          "bdata": "AAAAAAAANEA=",
          "dtype": "f8"
         },
         "yaxis": "y12"
        },
        {
         "hovertemplate": "fuel=BEV (300-mile AER)<br>cap type=%{x}<br>mode=LD Truck<br>vintage=2035<br>capacity=%{y}<extra></extra>",
         "legendgroup": "BEV (300-mile AER), retired cap",
         "marker": {
          "color": "olive",
          "pattern": {
           "shape": "/"
          }
         },
         "name": "BEV (300-mile AER)",
         "orientation": "v",
         "showlegend": false,
         "textfont": {
          "size": 11
         },
         "textposition": "auto",
         "texttemplate": "%{y:.2s}",
         "type": "bar",
         "x": [
          "retired cap"
         ],
         "xaxis": "x9",
         "y": {
          "bdata": "AAAAAACAUcA=",
          "dtype": "f8"
         },
         "yaxis": "y9"
        },
        {
         "hovertemplate": "fuel=BEV (300-mile AER)<br>cap type=%{x}<br>mode=LD Truck<br>vintage=2040<br>capacity=%{y}<extra></extra>",
         "legendgroup": "BEV (300-mile AER), retired cap",
         "marker": {
          "color": "olive",
          "pattern": {
           "shape": "/"
          }
         },
         "name": "BEV (300-mile AER)",
         "orientation": "v",
         "showlegend": false,
         "textfont": {
          "size": 11
         },
         "textposition": "auto",
         "texttemplate": "%{y:.2s}",
         "type": "bar",
         "x": [
          "retired cap"
         ],
         "xaxis": "x10",
         "y": {
          "bdata": "AAAAAAAcscA=",
          "dtype": "f8"
         },
         "yaxis": "y10"
        },
        {
         "hovertemplate": "fuel=BEV (300-mile AER)<br>cap type=%{x}<br>mode=LD Truck<br>vintage=2045<br>capacity=%{y}<extra></extra>",
         "legendgroup": "BEV (300-mile AER), retired cap",
         "marker": {
          "color": "olive",
          "pattern": {
           "shape": "/"
          }
         },
         "name": "BEV (300-mile AER)",
         "orientation": "v",
         "showlegend": false,
         "textfont": {
          "size": 11
         },
         "textposition": "auto",
         "texttemplate": "%{y:.2s}",
         "type": "bar",
         "x": [
          "retired cap"
         ],
         "xaxis": "x11",
         "y": {
          "bdata": "AAAAAAAAJMA=",
          "dtype": "f8"
         },
         "yaxis": "y11"
        },
        {
         "hovertemplate": "fuel=BEV (300-mile AER)<br>cap type=%{x}<br>mode=LD Truck<br>vintage=2050<br>capacity=%{y}<extra></extra>",
         "legendgroup": "BEV (300-mile AER), retired cap",
         "marker": {
          "color": "olive",
          "pattern": {
           "shape": "/"
          }
         },
         "name": "BEV (300-mile AER)",
         "orientation": "v",
         "showlegend": false,
         "textfont": {
          "size": 11
         },
         "textposition": "auto",
         "texttemplate": "%{y:.2s}",
         "type": "bar",
         "x": [
          "retired cap"
         ],
         "xaxis": "x12",
         "y": {
          "bdata": "AAAAAAAAJMA=",
          "dtype": "f8"
         },
         "yaxis": "y12"
        },
        {
         "hovertemplate": "fuel=BEV (400-mile AER)<br>cap type=%{x}<br>mode=LD Truck<br>vintage=2030<br>capacity=%{y}<extra></extra>",
         "legendgroup": "BEV (400-mile AER), new capacity",
         "marker": {
          "color": "darkgreen",
          "pattern": {
           "shape": ""
          }
         },
         "name": "BEV (400-mile AER)",
         "orientation": "v",
         "showlegend": true,
         "textfont": {
          "size": 11
         },
         "textposition": "auto",
         "texttemplate": "%{y:.2s}",
         "type": "bar",
         "x": [
          "new capacity"
         ],
         "xaxis": "x8",
         "y": {
          "bdata": "AAAAAAAAJEA=",
          "dtype": "f8"
         },
         "yaxis": "y8"
        },
        {
         "hovertemplate": "fuel=BEV (400-mile AER)<br>cap type=%{x}<br>mode=LD Truck<br>vintage=2035<br>capacity=%{y}<extra></extra>",
         "legendgroup": "BEV (400-mile AER), new capacity",
         "marker": {
          "color": "darkgreen",
          "pattern": {
           "shape": ""
          }
         },
         "name": "BEV (400-mile AER)",
         "orientation": "v",
         "showlegend": false,
         "textfont": {
          "size": 11
         },
         "textposition": "auto",
         "texttemplate": "%{y:.2s}",
         "type": "bar",
         "x": [
          "new capacity"
         ],
         "xaxis": "x9",
         "y": {
          "bdata": "AAAAAAAAJEA=",
          "dtype": "f8"
         },
         "yaxis": "y9"
        },
        {
         "hovertemplate": "fuel=BEV (400-mile AER)<br>cap type=%{x}<br>mode=LD Truck<br>vintage=2040<br>capacity=%{y}<extra></extra>",
         "legendgroup": "BEV (400-mile AER), new capacity",
         "marker": {
          "color": "darkgreen",
          "pattern": {
           "shape": ""
          }
         },
         "name": "BEV (400-mile AER)",
         "orientation": "v",
         "showlegend": false,
         "textfont": {
          "size": 11
         },
         "textposition": "auto",
         "texttemplate": "%{y:.2s}",
         "type": "bar",
         "x": [
          "new capacity"
         ],
         "xaxis": "x10",
         "y": {
          "bdata": "AAAAAAAAJEA=",
          "dtype": "f8"
         },
         "yaxis": "y10"
        },
        {
         "hovertemplate": "fuel=BEV (400-mile AER)<br>cap type=%{x}<br>mode=LD Truck<br>vintage=2045<br>capacity=%{y}<extra></extra>",
         "legendgroup": "BEV (400-mile AER), new capacity",
         "marker": {
          "color": "darkgreen",
          "pattern": {
           "shape": ""
          }
         },
         "name": "BEV (400-mile AER)",
         "orientation": "v",
         "showlegend": false,
         "textfont": {
          "size": 11
         },
         "textposition": "auto",
         "texttemplate": "%{y:.2s}",
         "type": "bar",
         "x": [
          "new capacity"
         ],
         "xaxis": "x11",
         "y": {
          "bdata": "AAAAAAAAJEA=",
          "dtype": "f8"
         },
         "yaxis": "y11"
        },
        {
         "hovertemplate": "fuel=BEV (400-mile AER)<br>cap type=%{x}<br>mode=LD Truck<br>vintage=2050<br>capacity=%{y}<extra></extra>",
         "legendgroup": "BEV (400-mile AER), new capacity",
         "marker": {
          "color": "darkgreen",
          "pattern": {
           "shape": ""
          }
         },
         "name": "BEV (400-mile AER)",
         "orientation": "v",
         "showlegend": false,
         "textfont": {
          "size": 11
         },
         "textposition": "auto",
         "texttemplate": "%{y:.2s}",
         "type": "bar",
         "x": [
          "new capacity"
         ],
         "xaxis": "x12",
         "y": {
          "bdata": "AAAAAAAAJEA=",
          "dtype": "f8"
         },
         "yaxis": "y12"
        },
        {
         "hovertemplate": "fuel=BEV (400-mile AER)<br>cap type=%{x}<br>mode=LD Truck<br>vintage=2050<br>capacity=%{y}<extra></extra>",
         "legendgroup": "BEV (400-mile AER), retired cap",
         "marker": {
          "color": "darkgreen",
          "pattern": {
           "shape": "/"
          }
         },
         "name": "BEV (400-mile AER)",
         "orientation": "v",
         "showlegend": false,
         "textfont": {
          "size": 11
         },
         "textposition": "auto",
         "texttemplate": "%{y:.2s}",
         "type": "bar",
         "x": [
          "retired cap"
         ],
         "xaxis": "x12",
         "y": {
          "bdata": "AAAAAAAAJMA=",
          "dtype": "f8"
         },
         "yaxis": "y12"
        },
        {
         "hovertemplate": "fuel=Battery electric<br>cap type=%{x}<br>mode=HD Truck<br>vintage=2050<br>capacity=%{y}<extra></extra>",
         "legendgroup": "Battery electric, new capacity",
         "marker": {
          "color": "green",
          "pattern": {
           "shape": ""
          }
         },
         "name": "Battery electric",
         "orientation": "v",
         "showlegend": true,
         "textfont": {
          "size": 11
         },
         "textposition": "auto",
         "texttemplate": "%{y:.2s}",
         "type": "bar",
         "x": [
          "new capacity"
         ],
         "xaxis": "x6",
         "y": {
          "bdata": "AAAAAAD4sUA=",
          "dtype": "f8"
         },
         "yaxis": "y6"
        },
        {
         "hovertemplate": "fuel=Fuel-cell electric<br>cap type=%{x}<br>mode=HD Truck<br>vintage=2030<br>capacity=%{y}<extra></extra>",
         "legendgroup": "Fuel-cell electric, new capacity",
         "marker": {
          "color": "mediumvioletred",
          "pattern": {
           "shape": ""
          }
         },
         "name": "Fuel-cell electric",
         "orientation": "v",
         "showlegend": true,
         "textfont": {
          "size": 11
         },
         "textposition": "auto",
         "texttemplate": "%{y:.2s}",
         "type": "bar",
         "x": [
          "new capacity"
         ],
         "xaxis": "x2",
         "y": {
          "bdata": "AAAAAABC2EA=",
          "dtype": "f8"
         },
         "yaxis": "y2"
        },
        {
         "hovertemplate": "fuel=Fuel-cell electric<br>cap type=%{x}<br>mode=HD Truck<br>vintage=2035<br>capacity=%{y}<extra></extra>",
         "legendgroup": "Fuel-cell electric, new capacity",
         "marker": {
          "color": "mediumvioletred",
          "pattern": {
           "shape": ""
          }
         },
         "name": "Fuel-cell electric",
         "orientation": "v",
         "showlegend": false,
         "textfont": {
          "size": 11
         },
         "textposition": "auto",
         "texttemplate": "%{y:.2s}",
         "type": "bar",
         "x": [
          "new capacity"
         ],
         "xaxis": "x3",
         "y": {
          "bdata": "AAAAAEBg5EA=",
          "dtype": "f8"
         },
         "yaxis": "y3"
        },
        {
         "hovertemplate": "fuel=Fuel-cell electric<br>cap type=%{x}<br>mode=HD Truck<br>vintage=2040<br>capacity=%{y}<extra></extra>",
         "legendgroup": "Fuel-cell electric, new capacity",
         "marker": {
          "color": "mediumvioletred",
          "pattern": {
           "shape": ""
          }
         },
         "name": "Fuel-cell electric",
         "orientation": "v",
         "showlegend": false,
         "textfont": {
          "size": 11
         },
         "textposition": "auto",
         "texttemplate": "%{y:.2s}",
         "type": "bar",
         "x": [
          "new capacity"
         ],
         "xaxis": "x4",
         "y": {
          "bdata": "AAAAAOBt8UA=",
          "dtype": "f8"
         },
         "yaxis": "y4"
        },
        {
         "hovertemplate": "fuel=Fuel-cell electric<br>cap type=%{x}<br>mode=HD Truck<br>vintage=2045<br>capacity=%{y}<extra></extra>",
         "legendgroup": "Fuel-cell electric, new capacity",
         "marker": {
          "color": "mediumvioletred",
          "pattern": {
           "shape": ""
          }
         },
         "name": "Fuel-cell electric",
         "orientation": "v",
         "showlegend": false,
         "textfont": {
          "size": 11
         },
         "textposition": "auto",
         "texttemplate": "%{y:.2s}",
         "type": "bar",
         "x": [
          "new capacity"
         ],
         "xaxis": "x5",
         "y": {
          "bdata": "AAAAAIBn3UA=",
          "dtype": "f8"
         },
         "yaxis": "y5"
        },
        {
         "hovertemplate": "fuel=Fuel-cell electric<br>cap type=%{x}<br>mode=HD Truck<br>vintage=2050<br>capacity=%{y}<extra></extra>",
         "legendgroup": "Fuel-cell electric, new capacity",
         "marker": {
          "color": "mediumvioletred",
          "pattern": {
           "shape": ""
          }
         },
         "name": "Fuel-cell electric",
         "orientation": "v",
         "showlegend": false,
         "textfont": {
          "size": 11
         },
         "textposition": "auto",
         "texttemplate": "%{y:.2s}",
         "type": "bar",
         "x": [
          "new capacity"
         ],
         "xaxis": "x6",
         "y": {
          "bdata": "AAAAAADy4kA=",
          "dtype": "f8"
         },
         "yaxis": "y6"
        },
        {
         "hovertemplate": "fuel=Fuel-cell electric<br>cap type=%{x}<br>mode=HD Truck<br>vintage=2050<br>capacity=%{y}<extra></extra>",
         "legendgroup": "Fuel-cell electric, retired cap",
         "marker": {
          "color": "mediumvioletred",
          "pattern": {
           "shape": "/"
          }
         },
         "name": "Fuel-cell electric",
         "orientation": "v",
         "showlegend": false,
         "textfont": {
          "size": 11
         },
         "textposition": "auto",
         "texttemplate": "%{y:.2s}",
         "type": "bar",
         "x": [
          "retired cap"
         ],
         "xaxis": "x6",
         "y": {
          "bdata": "AAAAAABC2MA=",
          "dtype": "f8"
         },
         "yaxis": "y6"
        },
        {
         "legendgroup": "Blank",
         "marker": {
          "color": "rgba(0,0,0,0)"
         },
         "name": "",
         "showlegend": true,
         "type": "bar",
         "x": [
          null
         ],
         "y": [
          null
         ]
        },
        {
         "legendgroup": "Capacity type",
         "legendgrouptitle": {
          "font": {
           "size": 16
          },
          "text": "<b>Capacity type</b>"
         },
         "marker": {
          "color": "rgba(0,0,0,0)",
          "line": {
           "color": "black",
           "width": 1
          },
          "pattern": {
           "shape": ""
          }
         },
         "name": "New capacity",
         "showlegend": true,
         "type": "bar",
         "x": [
          null
         ],
         "y": [
          null
         ]
        },
        {
         "legendgroup": "Capacity type",
         "marker": {
          "color": "rgba(0,0,0,0)",
          "line": {
           "color": "black",
           "width": 1
          },
          "pattern": {
           "shape": "/"
          }
         },
         "name": "Retired capacity",
         "showlegend": true,
         "type": "bar",
         "x": [
          null
         ],
         "y": [
          null
         ]
        }
       ],
       "layout": {
        "annotations": [
         {
          "font": {
           "size": 16
          },
          "showarrow": false,
          "text": "<b>2025</b>",
          "x": 0.07333333333333333,
          "xanchor": "center",
          "xref": "paper",
          "y": 0,
          "yanchor": "top",
          "yref": "paper"
         },
         {
          "font": {
           "size": 16
          },
          "showarrow": false,
          "text": "<b>2030</b>",
          "x": 0.24,
          "xanchor": "center",
          "xref": "paper",
          "y": 0,
          "yanchor": "top",
          "yref": "paper"
         },
         {
          "font": {
           "size": 16
          },
          "showarrow": false,
          "text": "<b>2035</b>",
          "x": 0.4066666666666666,
          "xanchor": "center",
          "xref": "paper",
          "y": 0,
          "yanchor": "top",
          "yref": "paper"
         },
         {
          "font": {
           "size": 16
          },
          "showarrow": false,
          "text": "<b>2040</b>",
          "x": 0.5733333333333334,
          "xanchor": "center",
          "xref": "paper",
          "y": 0,
          "yanchor": "top",
          "yref": "paper"
         },
         {
          "font": {
           "size": 16
          },
          "showarrow": false,
          "text": "<b>2045</b>",
          "x": 0.74,
          "xanchor": "center",
          "xref": "paper",
          "y": 0,
          "yanchor": "top",
          "yref": "paper"
         },
         {
          "font": {
           "size": 16
          },
          "showarrow": false,
          "text": "<b>2050</b>",
          "x": 0.9066666666666667,
          "xanchor": "center",
          "xref": "paper",
          "y": 0,
          "yanchor": "top",
          "yref": "paper"
         },
         {
          "font": {
           "size": 16
          },
          "showarrow": false,
          "text": "<b>HD Truck</b>",
          "textangle": 90,
          "x": 1.01,
          "xanchor": "center",
          "xref": "paper",
          "y": 0.24,
          "yanchor": "middle",
          "yref": "paper"
         },
         {
          "font": {
           "size": 16
          },
          "showarrow": false,
          "text": "<b>LD Truck</b>",
          "textangle": 90,
          "x": 1.01,
          "xanchor": "center",
          "xref": "paper",
          "y": 0.76,
          "yanchor": "middle",
          "yref": "paper"
         },
         {
          "font": {
           "size": 17
          },
          "showarrow": false,
          "text": "<b>Fleet capacity (vehicle units)</b>",
          "textangle": -90,
          "x": -0.08,
          "xref": "paper",
          "y": 0.5,
          "yref": "paper"
         }
        ],
        "bargap": 0.1,
        "barmode": "relative",
        "font": {
         "size": 15
        },
        "height": 450,
        "legend": {
         "orientation": "v",
         "title": {
          "font": {
           "size": 16
          },
          "text": "<b>Fuel/powertrain type</b>"
         },
         "tracegroupgap": 0,
         "traceorder": "grouped",
         "x": 1.15,
         "xanchor": "center",
         "y": 1,
         "yanchor": "top"
        },
        "margin": {
         "b": 30,
         "t": 65
        },
        "template": {
         "data": {
          "bar": [
           {
            "error_x": {
             "color": "#2a3f5f"
            },
            "error_y": {
             "color": "#2a3f5f"
            },
            "marker": {
             "line": {
              "color": "white",
              "width": 0.5
             },
             "pattern": {
              "fillmode": "overlay",
              "size": 10,
              "solidity": 0.2
             }
            },
            "type": "bar"
           }
          ],
          "barpolar": [
           {
            "marker": {
             "line": {
              "color": "white",
              "width": 0.5
             },
             "pattern": {
              "fillmode": "overlay",
              "size": 10,
              "solidity": 0.2
             }
            },
            "type": "barpolar"
           }
          ],
          "carpet": [
           {
            "aaxis": {
             "endlinecolor": "#2a3f5f",
             "gridcolor": "#C8D4E3",
             "linecolor": "#C8D4E3",
             "minorgridcolor": "#C8D4E3",
             "startlinecolor": "#2a3f5f"
            },
            "baxis": {
             "endlinecolor": "#2a3f5f",
             "gridcolor": "#C8D4E3",
             "linecolor": "#C8D4E3",
             "minorgridcolor": "#C8D4E3",
             "startlinecolor": "#2a3f5f"
            },
            "type": "carpet"
           }
          ],
          "choropleth": [
           {
            "colorbar": {
             "outlinewidth": 0,
             "ticks": ""
            },
            "type": "choropleth"
           }
          ],
          "contour": [
           {
            "colorbar": {
             "outlinewidth": 0,
             "ticks": ""
            },
            "colorscale": [
             [
              0,
              "#0d0887"
             ],
             [
              0.1111111111111111,
              "#46039f"
             ],
             [
              0.2222222222222222,
              "#7201a8"
             ],
             [
              0.3333333333333333,
              "#9c179e"
             ],
             [
              0.4444444444444444,
              "#bd3786"
             ],
             [
              0.5555555555555556,
              "#d8576b"
             ],
             [
              0.6666666666666666,
              "#ed7953"
             ],
             [
              0.7777777777777778,
              "#fb9f3a"
             ],
             [
              0.8888888888888888,
              "#fdca26"
             ],
             [
              1,
              "#f0f921"
             ]
            ],
            "type": "contour"
           }
          ],
          "contourcarpet": [
           {
            "colorbar": {
             "outlinewidth": 0,
             "ticks": ""
            },
            "type": "contourcarpet"
           }
          ],
          "heatmap": [
           {
            "colorbar": {
             "outlinewidth": 0,
             "ticks": ""
            },
            "colorscale": [
             [
              0,
              "#0d0887"
             ],
             [
              0.1111111111111111,
              "#46039f"
             ],
             [
              0.2222222222222222,
              "#7201a8"
             ],
             [
              0.3333333333333333,
              "#9c179e"
             ],
             [
              0.4444444444444444,
              "#bd3786"
             ],
             [
              0.5555555555555556,
              "#d8576b"
             ],
             [
              0.6666666666666666,
              "#ed7953"
             ],
             [
              0.7777777777777778,
              "#fb9f3a"
             ],
             [
              0.8888888888888888,
              "#fdca26"
             ],
             [
              1,
              "#f0f921"
             ]
            ],
            "type": "heatmap"
           }
          ],
          "histogram": [
           {
            "marker": {
             "pattern": {
              "fillmode": "overlay",
              "size": 10,
              "solidity": 0.2
             }
            },
            "type": "histogram"
           }
          ],
          "histogram2d": [
           {
            "colorbar": {
             "outlinewidth": 0,
             "ticks": ""
            },
            "colorscale": [
             [
              0,
              "#0d0887"
             ],
             [
              0.1111111111111111,
              "#46039f"
             ],
             [
              0.2222222222222222,
              "#7201a8"
             ],
             [
              0.3333333333333333,
              "#9c179e"
             ],
             [
              0.4444444444444444,
              "#bd3786"
             ],
             [
              0.5555555555555556,
              "#d8576b"
             ],
             [
              0.6666666666666666,
              "#ed7953"
             ],
             [
              0.7777777777777778,
              "#fb9f3a"
             ],
             [
              0.8888888888888888,
              "#fdca26"
             ],
             [
              1,
              "#f0f921"
             ]
            ],
            "type": "histogram2d"
           }
          ],
          "histogram2dcontour": [
           {
            "colorbar": {
             "outlinewidth": 0,
             "ticks": ""
            },
            "colorscale": [
             [
              0,
              "#0d0887"
             ],
             [
              0.1111111111111111,
              "#46039f"
             ],
             [
              0.2222222222222222,
              "#7201a8"
             ],
             [
              0.3333333333333333,
              "#9c179e"
             ],
             [
              0.4444444444444444,
              "#bd3786"
             ],
             [
              0.5555555555555556,
              "#d8576b"
             ],
             [
              0.6666666666666666,
              "#ed7953"
             ],
             [
              0.7777777777777778,
              "#fb9f3a"
             ],
             [
              0.8888888888888888,
              "#fdca26"
             ],
             [
              1,
              "#f0f921"
             ]
            ],
            "type": "histogram2dcontour"
           }
          ],
          "mesh3d": [
           {
            "colorbar": {
             "outlinewidth": 0,
             "ticks": ""
            },
            "type": "mesh3d"
           }
          ],
          "parcoords": [
           {
            "line": {
             "colorbar": {
              "outlinewidth": 0,
              "ticks": ""
             }
            },
            "type": "parcoords"
           }
          ],
          "pie": [
           {
            "automargin": true,
            "type": "pie"
           }
          ],
          "scatter": [
           {
            "fillpattern": {
             "fillmode": "overlay",
             "size": 10,
             "solidity": 0.2
            },
            "type": "scatter"
           }
          ],
          "scatter3d": [
           {
            "line": {
             "colorbar": {
              "outlinewidth": 0,
              "ticks": ""
             }
            },
            "marker": {
             "colorbar": {
              "outlinewidth": 0,
              "ticks": ""
             }
            },
            "type": "scatter3d"
           }
          ],
          "scattercarpet": [
           {
            "marker": {
             "colorbar": {
              "outlinewidth": 0,
              "ticks": ""
             }
            },
            "type": "scattercarpet"
           }
          ],
          "scattergeo": [
           {
            "marker": {
             "colorbar": {
              "outlinewidth": 0,
              "ticks": ""
             }
            },
            "type": "scattergeo"
           }
          ],
          "scattergl": [
           {
            "marker": {
             "colorbar": {
              "outlinewidth": 0,
              "ticks": ""
             }
            },
            "type": "scattergl"
           }
          ],
          "scattermap": [
           {
            "marker": {
             "colorbar": {
              "outlinewidth": 0,
              "ticks": ""
             }
            },
            "type": "scattermap"
           }
          ],
          "scattermapbox": [
           {
            "marker": {
             "colorbar": {
              "outlinewidth": 0,
              "ticks": ""
             }
            },
            "type": "scattermapbox"
           }
          ],
          "scatterpolar": [
           {
            "marker": {
             "colorbar": {
              "outlinewidth": 0,
              "ticks": ""
             }
            },
            "type": "scatterpolar"
           }
          ],
          "scatterpolargl": [
           {
            "marker": {
             "colorbar": {
              "outlinewidth": 0,
              "ticks": ""
             }
            },
            "type": "scatterpolargl"
           }
          ],
          "scatterternary": [
           {
            "marker": {
             "colorbar": {
              "outlinewidth": 0,
              "ticks": ""
             }
            },
            "type": "scatterternary"
           }
          ],
          "surface": [
           {
            "colorbar": {
             "outlinewidth": 0,
             "ticks": ""
            },
            "colorscale": [
             [
              0,
              "#0d0887"
             ],
             [
              0.1111111111111111,
              "#46039f"
             ],
             [
              0.2222222222222222,
              "#7201a8"
             ],
             [
              0.3333333333333333,
              "#9c179e"
             ],
             [
              0.4444444444444444,
              "#bd3786"
             ],
             [
              0.5555555555555556,
              "#d8576b"
             ],
             [
              0.6666666666666666,
              "#ed7953"
             ],
             [
              0.7777777777777778,
              "#fb9f3a"
             ],
             [
              0.8888888888888888,
              "#fdca26"
             ],
             [
              1,
              "#f0f921"
             ]
            ],
            "type": "surface"
           }
          ],
          "table": [
           {
            "cells": {
             "fill": {
              "color": "#EBF0F8"
             },
             "line": {
              "color": "white"
             }
            },
            "header": {
             "fill": {
              "color": "#C8D4E3"
             },
             "line": {
              "color": "white"
             }
            },
            "type": "table"
           }
          ]
         },
         "layout": {
          "annotationdefaults": {
           "arrowcolor": "#2a3f5f",
           "arrowhead": 0,
           "arrowwidth": 1
          },
          "autotypenumbers": "strict",
          "coloraxis": {
           "colorbar": {
            "outlinewidth": 0,
            "ticks": ""
           }
          },
          "colorscale": {
           "diverging": [
            [
             0,
             "#8e0152"
            ],
            [
             0.1,
             "#c51b7d"
            ],
            [
             0.2,
             "#de77ae"
            ],
            [
             0.3,
             "#f1b6da"
            ],
            [
             0.4,
             "#fde0ef"
            ],
            [
             0.5,
             "#f7f7f7"
            ],
            [
             0.6,
             "#e6f5d0"
            ],
            [
             0.7,
             "#b8e186"
            ],
            [
             0.8,
             "#7fbc41"
            ],
            [
             0.9,
             "#4d9221"
            ],
            [
             1,
             "#276419"
            ]
           ],
           "sequential": [
            [
             0,
             "#0d0887"
            ],
            [
             0.1111111111111111,
             "#46039f"
            ],
            [
             0.2222222222222222,
             "#7201a8"
            ],
            [
             0.3333333333333333,
             "#9c179e"
            ],
            [
             0.4444444444444444,
             "#bd3786"
            ],
            [
             0.5555555555555556,
             "#d8576b"
            ],
            [
             0.6666666666666666,
             "#ed7953"
            ],
            [
             0.7777777777777778,
             "#fb9f3a"
            ],
            [
             0.8888888888888888,
             "#fdca26"
            ],
            [
             1,
             "#f0f921"
            ]
           ],
           "sequentialminus": [
            [
             0,
             "#0d0887"
            ],
            [
             0.1111111111111111,
             "#46039f"
            ],
            [
             0.2222222222222222,
             "#7201a8"
            ],
            [
             0.3333333333333333,
             "#9c179e"
            ],
            [
             0.4444444444444444,
             "#bd3786"
            ],
            [
             0.5555555555555556,
             "#d8576b"
            ],
            [
             0.6666666666666666,
             "#ed7953"
            ],
            [
             0.7777777777777778,
             "#fb9f3a"
            ],
            [
             0.8888888888888888,
             "#fdca26"
            ],
            [
             1,
             "#f0f921"
            ]
           ]
          },
          "colorway": [
           "#636efa",
           "#EF553B",
           "#00cc96",
           "#ab63fa",
           "#FFA15A",
           "#19d3f3",
           "#FF6692",
           "#B6E880",
           "#FF97FF",
           "#FECB52"
          ],
          "font": {
           "color": "#2a3f5f"
          },
          "geo": {
           "bgcolor": "white",
           "lakecolor": "white",
           "landcolor": "white",
           "showlakes": true,
           "showland": true,
           "subunitcolor": "#C8D4E3"
          },
          "hoverlabel": {
           "align": "left"
          },
          "hovermode": "closest",
          "mapbox": {
           "style": "light"
          },
          "paper_bgcolor": "white",
          "plot_bgcolor": "white",
          "polar": {
           "angularaxis": {
            "gridcolor": "#EBF0F8",
            "linecolor": "#EBF0F8",
            "ticks": ""
           },
           "bgcolor": "white",
           "radialaxis": {
            "gridcolor": "#EBF0F8",
            "linecolor": "#EBF0F8",
            "ticks": ""
           }
          },
          "scene": {
           "xaxis": {
            "backgroundcolor": "white",
            "gridcolor": "#DFE8F3",
            "gridwidth": 2,
            "linecolor": "#EBF0F8",
            "showbackground": true,
            "ticks": "",
            "zerolinecolor": "#EBF0F8"
           },
           "yaxis": {
            "backgroundcolor": "white",
            "gridcolor": "#DFE8F3",
            "gridwidth": 2,
            "linecolor": "#EBF0F8",
            "showbackground": true,
            "ticks": "",
            "zerolinecolor": "#EBF0F8"
           },
           "zaxis": {
            "backgroundcolor": "white",
            "gridcolor": "#DFE8F3",
            "gridwidth": 2,
            "linecolor": "#EBF0F8",
            "showbackground": true,
            "ticks": "",
            "zerolinecolor": "#EBF0F8"
           }
          },
          "shapedefaults": {
           "line": {
            "color": "#2a3f5f"
           }
          },
          "ternary": {
           "aaxis": {
            "gridcolor": "#DFE8F3",
            "linecolor": "#A2B1C6",
            "ticks": ""
           },
           "baxis": {
            "gridcolor": "#DFE8F3",
            "linecolor": "#A2B1C6",
            "ticks": ""
           },
           "bgcolor": "white",
           "caxis": {
            "gridcolor": "#DFE8F3",
            "linecolor": "#A2B1C6",
            "ticks": ""
           }
          },
          "title": {
           "x": 0.05
          },
          "xaxis": {
           "automargin": true,
           "gridcolor": "#EBF0F8",
           "linecolor": "#EBF0F8",
           "ticks": "",
           "title": {
            "standoff": 15
           },
           "zerolinecolor": "#EBF0F8",
           "zerolinewidth": 2
          },
          "yaxis": {
           "automargin": true,
           "gridcolor": "#EBF0F8",
           "linecolor": "#EBF0F8",
           "ticks": "",
           "title": {
            "standoff": 15
           },
           "zerolinecolor": "#EBF0F8",
           "zerolinewidth": 2
          }
         }
        },
        "title": {
         "text": "<b>Vehicle fleet stock and flow in ON by vehicle class (vanilla model)</b>",
         "x": 0.08,
         "xanchor": "left",
         "y": 0.94,
         "yanchor": "top"
        },
        "width": 1200,
        "xaxis": {
         "anchor": "y",
         "categoryarray": [
          "new capacity",
          "retired cap"
         ],
         "categoryorder": "array",
         "domain": [
          0,
          0.14666666666666667
         ],
         "showticklabels": false,
         "title": {
          "text": ""
         }
        },
        "xaxis10": {
         "anchor": "y10",
         "domain": [
          0.5,
          0.6466666666666667
         ],
         "matches": "x",
         "showticklabels": false,
         "title": {
          "text": ""
         }
        },
        "xaxis11": {
         "anchor": "y11",
         "domain": [
          0.6666666666666666,
          0.8133333333333332
         ],
         "matches": "x",
         "showticklabels": false,
         "title": {
          "text": ""
         }
        },
        "xaxis12": {
         "anchor": "y12",
         "domain": [
          0.8333333333333334,
          0.98
         ],
         "matches": "x",
         "showticklabels": false,
         "title": {
          "text": ""
         }
        },
        "xaxis2": {
         "anchor": "y2",
         "categoryarray": [
          "new capacity",
          "retired cap"
         ],
         "categoryorder": "array",
         "domain": [
          0.16666666666666666,
          0.31333333333333335
         ],
         "matches": "x",
         "showticklabels": false,
         "title": {
          "text": ""
         }
        },
        "xaxis3": {
         "anchor": "y3",
         "categoryarray": [
          "new capacity",
          "retired cap"
         ],
         "categoryorder": "array",
         "domain": [
          0.3333333333333333,
          0.48
         ],
         "matches": "x",
         "showticklabels": false,
         "title": {
          "text": ""
         }
        },
        "xaxis4": {
         "anchor": "y4",
         "categoryarray": [
          "new capacity",
          "retired cap"
         ],
         "categoryorder": "array",
         "domain": [
          0.5,
          0.6466666666666667
         ],
         "matches": "x",
         "showticklabels": false,
         "title": {
          "text": ""
         }
        },
        "xaxis5": {
         "anchor": "y5",
         "categoryarray": [
          "new capacity",
          "retired cap"
         ],
         "categoryorder": "array",
         "domain": [
          0.6666666666666666,
          0.8133333333333332
         ],
         "matches": "x",
         "showticklabels": false,
         "title": {
          "text": ""
         }
        },
        "xaxis6": {
         "anchor": "y6",
         "categoryarray": [
          "new capacity",
          "retired cap"
         ],
         "categoryorder": "array",
         "domain": [
          0.8333333333333334,
          0.98
         ],
         "matches": "x",
         "showticklabels": false,
         "title": {
          "text": ""
         }
        },
        "xaxis7": {
         "anchor": "y7",
         "domain": [
          0,
          0.14666666666666667
         ],
         "matches": "x",
         "showticklabels": false,
         "title": {
          "text": ""
         }
        },
        "xaxis8": {
         "anchor": "y8",
         "domain": [
          0.16666666666666666,
          0.31333333333333335
         ],
         "matches": "x",
         "showticklabels": false,
         "title": {
          "text": ""
         }
        },
        "xaxis9": {
         "anchor": "y9",
         "domain": [
          0.3333333333333333,
          0.48
         ],
         "matches": "x",
         "showticklabels": false,
         "title": {
          "text": ""
         }
        },
        "yaxis": {
         "anchor": "x",
         "domain": [
          0,
          0.48
         ],
         "matches": "y",
         "nticks": 8,
         "tickformat": "~s",
         "title": {
          "standoff": 0,
          "text": ""
         },
         "zeroline": true,
         "zerolinecolor": "black"
        },
        "yaxis10": {
         "anchor": "x10",
         "domain": [
          0.52,
          1
         ],
         "matches": "y8",
         "nticks": 8,
         "showticklabels": false,
         "tickformat": "~s",
         "title": {
          "text": ""
         },
         "zeroline": true,
         "zerolinecolor": "black"
        },
        "yaxis11": {
         "anchor": "x11",
         "domain": [
          0.52,
          1
         ],
         "matches": "y8",
         "nticks": 8,
         "showticklabels": false,
         "tickformat": "~s",
         "title": {
          "text": ""
         },
         "zeroline": true,
         "zerolinecolor": "black"
        },
        "yaxis12": {
         "anchor": "x12",
         "domain": [
          0.52,
          1
         ],
         "matches": "y8",
         "nticks": 8,
         "showticklabels": false,
         "tickformat": "~s",
         "title": {
          "text": ""
         },
         "zeroline": true,
         "zerolinecolor": "black"
        },
        "yaxis2": {
         "anchor": "x2",
         "domain": [
          0,
          0.48
         ],
         "matches": "y",
         "nticks": 8,
         "showticklabels": false,
         "tickformat": "~s",
         "title": {
          "text": ""
         },
         "zeroline": true,
         "zerolinecolor": "black"
        },
        "yaxis3": {
         "anchor": "x3",
         "domain": [
          0,
          0.48
         ],
         "matches": "y",
         "nticks": 8,
         "showticklabels": false,
         "tickformat": "~s",
         "title": {
          "text": ""
         },
         "zeroline": true,
         "zerolinecolor": "black"
        },
        "yaxis4": {
         "anchor": "x4",
         "domain": [
          0,
          0.48
         ],
         "matches": "y",
         "nticks": 8,
         "showticklabels": false,
         "tickformat": "~s",
         "title": {
          "text": ""
         },
         "zeroline": true,
         "zerolinecolor": "black"
        },
        "yaxis5": {
         "anchor": "x5",
         "domain": [
          0,
          0.48
         ],
         "matches": "y",
         "nticks": 8,
         "showticklabels": false,
         "tickformat": "~s",
         "title": {
          "text": ""
         },
         "zeroline": true,
         "zerolinecolor": "black"
        },
        "yaxis6": {
         "anchor": "x6",
         "domain": [
          0,
          0.48
         ],
         "matches": "y",
         "nticks": 8,
         "showticklabels": false,
         "tickformat": "~s",
         "title": {
          "text": ""
         },
         "zeroline": true,
         "zerolinecolor": "black"
        },
        "yaxis7": {
         "anchor": "x7",
         "domain": [
          0.52,
          1
         ],
         "matches": "y8",
         "nticks": 8,
         "tickformat": "~s",
         "title": {
          "text": ""
         },
         "zeroline": true,
         "zerolinecolor": "black"
        },
        "yaxis8": {
         "anchor": "x8",
         "domain": [
          0.52,
          1
         ],
         "matches": "y8",
         "nticks": 8,
         "showticklabels": false,
         "tickformat": "~s",
         "title": {
          "text": ""
         },
         "zeroline": true,
         "zerolinecolor": "black"
        },
        "yaxis9": {
         "anchor": "x9",
         "domain": [
          0.52,
          1
         ],
         "matches": "y8",
         "nticks": 8,
         "showticklabels": false,
         "tickformat": "~s",
         "title": {
          "text": ""
         },
         "zeroline": true,
         "zerolinecolor": "black"
        }
       }
      }
     },
     "metadata": {},
     "output_type": "display_data"
    }
   ],
   "source": [
    "fig = plot_capacity_flow(db_variant='vanilla4', \n",
    "                   scenario='vanilla4_cftnorm',\n",
    "                   modes=['LD Truck', 'HD Truck'],\n",
    "                   cap_types=['new capacity', 'retired cap'], \n",
    "                #    lifetime_classes='yes',\n",
    "                   scenario_title='vanilla model')"
   ]
  },
  {
   "cell_type": "code",
   "execution_count": 119,
   "metadata": {},
   "outputs": [
    {
     "data": {
      "application/vnd.plotly.v1+json": {
       "config": {
        "plotlyServerURL": "https://plot.ly"
       },
       "data": [
        {
         "hovertemplate": "fuel=Gasoline<br>cap type=%{x}<br>mode=LD Truck<br>vintage=2025<br>capacity=%{y}<extra></extra>",
         "legendgroup": "Gasoline, retired cap",
         "marker": {
          "color": "red",
          "pattern": {
           "shape": "/"
          }
         },
         "name": "Gasoline",
         "orientation": "v",
         "showlegend": true,
         "textfont": {
          "size": 11
         },
         "textposition": "auto",
         "texttemplate": "%{y:.2s}",
         "type": "bar",
         "x": [
          "retired cap"
         ],
         "xaxis": "x7",
         "y": {
          "bdata": "AAAAAJjIF8E=",
          "dtype": "f8"
         },
         "yaxis": "y7"
        },
        {
         "hovertemplate": "fuel=Gasoline<br>cap type=%{x}<br>mode=LD Truck<br>vintage=2030<br>capacity=%{y}<extra></extra>",
         "legendgroup": "Gasoline, retired cap",
         "marker": {
          "color": "red",
          "pattern": {
           "shape": "/"
          }
         },
         "name": "Gasoline",
         "orientation": "v",
         "showlegend": false,
         "textfont": {
          "size": 11
         },
         "textposition": "auto",
         "texttemplate": "%{y:.2s}",
         "type": "bar",
         "x": [
          "retired cap"
         ],
         "xaxis": "x8",
         "y": {
          "bdata": "AAAAALw/M8E=",
          "dtype": "f8"
         },
         "yaxis": "y8"
        },
        {
         "hovertemplate": "fuel=Gasoline<br>cap type=%{x}<br>mode=LD Truck<br>vintage=2035<br>capacity=%{y}<extra></extra>",
         "legendgroup": "Gasoline, retired cap",
         "marker": {
          "color": "red",
          "pattern": {
           "shape": "/"
          }
         },
         "name": "Gasoline",
         "orientation": "v",
         "showlegend": false,
         "textfont": {
          "size": 11
         },
         "textposition": "auto",
         "texttemplate": "%{y:.2s}",
         "type": "bar",
         "x": [
          "retired cap"
         ],
         "xaxis": "x9",
         "y": {
          "bdata": "AAAAAJjIJ8E=",
          "dtype": "f8"
         },
         "yaxis": "y9"
        },
        {
         "hovertemplate": "fuel=Gasoline<br>cap type=%{x}<br>mode=LD Truck<br>vintage=2040<br>capacity=%{y}<extra></extra>",
         "legendgroup": "Gasoline, retired cap",
         "marker": {
          "color": "red",
          "pattern": {
           "shape": "/"
          }
         },
         "name": "Gasoline",
         "orientation": "v",
         "showlegend": false,
         "textfont": {
          "size": 11
         },
         "textposition": "auto",
         "texttemplate": "%{y:.2s}",
         "type": "bar",
         "x": [
          "retired cap"
         ],
         "xaxis": "x10",
         "y": {
          "bdata": "AAAAAB5lM8E=",
          "dtype": "f8"
         },
         "yaxis": "y10"
        },
        {
         "hovertemplate": "fuel=Gasoline<br>cap type=%{x}<br>mode=LD Truck<br>vintage=2045<br>capacity=%{y}<extra></extra>",
         "legendgroup": "Gasoline, retired cap",
         "marker": {
          "color": "red",
          "pattern": {
           "shape": "/"
          }
         },
         "name": "Gasoline",
         "orientation": "v",
         "showlegend": false,
         "textfont": {
          "size": 11
         },
         "textposition": "auto",
         "texttemplate": "%{y:.2s}",
         "type": "bar",
         "x": [
          "retired cap"
         ],
         "xaxis": "x11",
         "y": {
          "bdata": "AAAAAJjIF8E=",
          "dtype": "f8"
         },
         "yaxis": "y11"
        },
        {
         "hovertemplate": "fuel=Gasoline<br>cap type=%{x}<br>mode=LD Truck<br>vintage=2050<br>capacity=%{y}<extra></extra>",
         "legendgroup": "Gasoline, retired cap",
         "marker": {
          "color": "red",
          "pattern": {
           "shape": "/"
          }
         },
         "name": "Gasoline",
         "orientation": "v",
         "showlegend": false,
         "textfont": {
          "size": 11
         },
         "textposition": "auto",
         "texttemplate": "%{y:.2s}",
         "type": "bar",
         "x": [
          "retired cap"
         ],
         "xaxis": "x12",
         "y": {
          "bdata": "AAAAADgmH8E=",
          "dtype": "f8"
         },
         "yaxis": "y12"
        },
        {
         "hovertemplate": "fuel=Diesel<br>cap type=%{x}<br>mode=LD Truck<br>vintage=2025<br>capacity=%{y}<extra></extra>",
         "legendgroup": "Diesel, retired cap",
         "marker": {
          "color": "brown",
          "pattern": {
           "shape": "/"
          }
         },
         "name": "Diesel",
         "orientation": "v",
         "showlegend": true,
         "textfont": {
          "size": 11
         },
         "textposition": "auto",
         "texttemplate": "%{y:.2s}",
         "type": "bar",
         "x": [
          "retired cap"
         ],
         "xaxis": "x7",
         "y": {
          "bdata": "AAAAAIBZ0sA=",
          "dtype": "f8"
         },
         "yaxis": "y7"
        },
        {
         "hovertemplate": "fuel=Diesel<br>cap type=%{x}<br>mode=HD Truck<br>vintage=2025<br>capacity=%{y}<extra></extra>",
         "legendgroup": "Diesel, retired cap",
         "marker": {
          "color": "brown",
          "pattern": {
           "shape": "/"
          }
         },
         "name": "Diesel",
         "orientation": "v",
         "showlegend": false,
         "textfont": {
          "size": 11
         },
         "textposition": "auto",
         "texttemplate": "%{y:.2s}",
         "type": "bar",
         "x": [
          "retired cap"
         ],
         "xaxis": "x",
         "y": {
          "bdata": "AAAAAACuz8A=",
          "dtype": "f8"
         },
         "yaxis": "y"
        },
        {
         "hovertemplate": "fuel=Diesel<br>cap type=%{x}<br>mode=LD Truck<br>vintage=2030<br>capacity=%{y}<extra></extra>",
         "legendgroup": "Diesel, retired cap",
         "marker": {
          "color": "brown",
          "pattern": {
           "shape": "/"
          }
         },
         "name": "Diesel",
         "orientation": "v",
         "showlegend": false,
         "textfont": {
          "size": 11
         },
         "textposition": "auto",
         "texttemplate": "%{y:.2s}",
         "type": "bar",
         "x": [
          "retired cap"
         ],
         "xaxis": "x8",
         "y": {
          "bdata": "AAAAAEAa6cA=",
          "dtype": "f8"
         },
         "yaxis": "y8"
        },
        {
         "hovertemplate": "fuel=Diesel<br>cap type=%{x}<br>mode=HD Truck<br>vintage=2030<br>capacity=%{y}<extra></extra>",
         "legendgroup": "Diesel, retired cap",
         "marker": {
          "color": "brown",
          "pattern": {
           "shape": "/"
          }
         },
         "name": "Diesel",
         "orientation": "v",
         "showlegend": false,
         "textfont": {
          "size": 11
         },
         "textposition": "auto",
         "texttemplate": "%{y:.2s}",
         "type": "bar",
         "x": [
          "retired cap"
         ],
         "xaxis": "x2",
         "y": {
          "bdata": "AAAAAICZ08A=",
          "dtype": "f8"
         },
         "yaxis": "y2"
        },
        {
         "hovertemplate": "fuel=Diesel<br>cap type=%{x}<br>mode=LD Truck<br>vintage=2035<br>capacity=%{y}<extra></extra>",
         "legendgroup": "Diesel, retired cap",
         "marker": {
          "color": "brown",
          "pattern": {
           "shape": "/"
          }
         },
         "name": "Diesel",
         "orientation": "v",
         "showlegend": false,
         "textfont": {
          "size": 11
         },
         "textposition": "auto",
         "texttemplate": "%{y:.2s}",
         "type": "bar",
         "x": [
          "retired cap"
         ],
         "xaxis": "x9",
         "y": {
          "bdata": "AAAAAMBa4sA=",
          "dtype": "f8"
         },
         "yaxis": "y9"
        },
        {
         "hovertemplate": "fuel=Diesel<br>cap type=%{x}<br>mode=HD Truck<br>vintage=2035<br>capacity=%{y}<extra></extra>",
         "legendgroup": "Diesel, retired cap",
         "marker": {
          "color": "brown",
          "pattern": {
           "shape": "/"
          }
         },
         "name": "Diesel",
         "orientation": "v",
         "showlegend": false,
         "textfont": {
          "size": 11
         },
         "textposition": "auto",
         "texttemplate": "%{y:.2s}",
         "type": "bar",
         "x": [
          "retired cap"
         ],
         "xaxis": "x3",
         "y": {
          "bdata": "AAAAAADJ08A=",
          "dtype": "f8"
         },
         "yaxis": "y3"
        },
        {
         "hovertemplate": "fuel=Diesel<br>cap type=%{x}<br>mode=LD Truck<br>vintage=2040<br>capacity=%{y}<extra></extra>",
         "legendgroup": "Diesel, retired cap",
         "marker": {
          "color": "brown",
          "pattern": {
           "shape": "/"
          }
         },
         "name": "Diesel",
         "orientation": "v",
         "showlegend": false,
         "textfont": {
          "size": 11
         },
         "textposition": "auto",
         "texttemplate": "%{y:.2s}",
         "type": "bar",
         "x": [
          "retired cap"
         ],
         "xaxis": "x10",
         "y": {
          "bdata": "AAAAAECJ7cA=",
          "dtype": "f8"
         },
         "yaxis": "y10"
        },
        {
         "hovertemplate": "fuel=Diesel<br>cap type=%{x}<br>mode=HD Truck<br>vintage=2040<br>capacity=%{y}<extra></extra>",
         "legendgroup": "Diesel, retired cap",
         "marker": {
          "color": "brown",
          "pattern": {
           "shape": "/"
          }
         },
         "name": "Diesel",
         "orientation": "v",
         "showlegend": false,
         "textfont": {
          "size": 11
         },
         "textposition": "auto",
         "texttemplate": "%{y:.2s}",
         "type": "bar",
         "x": [
          "retired cap"
         ],
         "xaxis": "x4",
         "y": {
          "bdata": "AAAAAAAiusA=",
          "dtype": "f8"
         },
         "yaxis": "y4"
        },
        {
         "hovertemplate": "fuel=Diesel<br>cap type=%{x}<br>mode=LD Truck<br>vintage=2045<br>capacity=%{y}<extra></extra>",
         "legendgroup": "Diesel, retired cap",
         "marker": {
          "color": "brown",
          "pattern": {
           "shape": "/"
          }
         },
         "name": "Diesel",
         "orientation": "v",
         "showlegend": false,
         "textfont": {
          "size": 11
         },
         "textposition": "auto",
         "texttemplate": "%{y:.2s}",
         "type": "bar",
         "x": [
          "retired cap"
         ],
         "xaxis": "x11",
         "y": {
          "bdata": "AAAAAIBZ0sA=",
          "dtype": "f8"
         },
         "yaxis": "y11"
        },
        {
         "hovertemplate": "fuel=Diesel<br>cap type=%{x}<br>mode=HD Truck<br>vintage=2045<br>capacity=%{y}<extra></extra>",
         "legendgroup": "Diesel, retired cap",
         "marker": {
          "color": "brown",
          "pattern": {
           "shape": "/"
          }
         },
         "name": "Diesel",
         "orientation": "v",
         "showlegend": false,
         "textfont": {
          "size": 11
         },
         "textposition": "auto",
         "texttemplate": "%{y:.2s}",
         "type": "bar",
         "x": [
          "retired cap"
         ],
         "xaxis": "x5",
         "y": {
          "bdata": "AAAAAABswcA=",
          "dtype": "f8"
         },
         "yaxis": "y5"
        },
        {
         "hovertemplate": "fuel=Diesel<br>cap type=%{x}<br>mode=LD Truck<br>vintage=2050<br>capacity=%{y}<extra></extra>",
         "legendgroup": "Diesel, retired cap",
         "marker": {
          "color": "brown",
          "pattern": {
           "shape": "/"
          }
         },
         "name": "Diesel",
         "orientation": "v",
         "showlegend": false,
         "textfont": {
          "size": 11
         },
         "textposition": "auto",
         "texttemplate": "%{y:.2s}",
         "type": "bar",
         "x": [
          "retired cap"
         ],
         "xaxis": "x12",
         "y": {
          "bdata": "AAAAAABp2cA=",
          "dtype": "f8"
         },
         "yaxis": "y12"
        },
        {
         "hovertemplate": "fuel=Hybrid<br>cap type=%{x}<br>mode=HD Truck<br>vintage=2025<br>capacity=%{y}<extra></extra>",
         "legendgroup": "Hybrid, new capacity",
         "marker": {
          "color": "darkorange",
          "pattern": {
           "shape": ""
          }
         },
         "name": "Hybrid",
         "orientation": "v",
         "showlegend": true,
         "textfont": {
          "size": 11
         },
         "textposition": "auto",
         "texttemplate": "%{y:.2s}",
         "type": "bar",
         "x": [
          "new capacity"
         ],
         "xaxis": "x",
         "y": {
          "bdata": "AAAAAICM0UA=",
          "dtype": "f8"
         },
         "yaxis": "y"
        },
        {
         "hovertemplate": "fuel=Hybrid<br>cap type=%{x}<br>mode=HD Truck<br>vintage=2030<br>capacity=%{y}<extra></extra>",
         "legendgroup": "Hybrid, new capacity",
         "marker": {
          "color": "darkorange",
          "pattern": {
           "shape": ""
          }
         },
         "name": "Hybrid",
         "orientation": "v",
         "showlegend": false,
         "textfont": {
          "size": 11
         },
         "textposition": "auto",
         "texttemplate": "%{y:.2s}",
         "type": "bar",
         "x": [
          "new capacity"
         ],
         "xaxis": "x2",
         "y": {
          "bdata": "AAAAAAAAxEA=",
          "dtype": "f8"
         },
         "yaxis": "y2"
        },
        {
         "hovertemplate": "fuel=Hybrid<br>cap type=%{x}<br>mode=HD Truck<br>vintage=2035<br>capacity=%{y}<extra></extra>",
         "legendgroup": "Hybrid, new capacity",
         "marker": {
          "color": "darkorange",
          "pattern": {
           "shape": ""
          }
         },
         "name": "Hybrid",
         "orientation": "v",
         "showlegend": false,
         "textfont": {
          "size": 11
         },
         "textposition": "auto",
         "texttemplate": "%{y:.2s}",
         "type": "bar",
         "x": [
          "new capacity"
         ],
         "xaxis": "x3",
         "y": {
          "bdata": "AAAAAAC5yUA=",
          "dtype": "f8"
         },
         "yaxis": "y3"
        },
        {
         "hovertemplate": "fuel=Hybrid<br>cap type=%{x}<br>mode=HD Truck<br>vintage=2040<br>capacity=%{y}<extra></extra>",
         "legendgroup": "Hybrid, new capacity",
         "marker": {
          "color": "darkorange",
          "pattern": {
           "shape": ""
          }
         },
         "name": "Hybrid",
         "orientation": "v",
         "showlegend": false,
         "textfont": {
          "size": 11
         },
         "textposition": "auto",
         "texttemplate": "%{y:.2s}",
         "type": "bar",
         "x": [
          "new capacity"
         ],
         "xaxis": "x4",
         "y": {
          "bdata": "AAAAAABAxUA=",
          "dtype": "f8"
         },
         "yaxis": "y4"
        },
        {
         "hovertemplate": "fuel=Hybrid<br>cap type=%{x}<br>mode=HD Truck<br>vintage=2045<br>capacity=%{y}<extra></extra>",
         "legendgroup": "Hybrid, new capacity",
         "marker": {
          "color": "darkorange",
          "pattern": {
           "shape": ""
          }
         },
         "name": "Hybrid",
         "orientation": "v",
         "showlegend": false,
         "textfont": {
          "size": 11
         },
         "textposition": "auto",
         "texttemplate": "%{y:.2s}",
         "type": "bar",
         "x": [
          "new capacity"
         ],
         "xaxis": "x5",
         "y": {
          "bdata": "AAAAAAAgwkA=",
          "dtype": "f8"
         },
         "yaxis": "y5"
        },
        {
         "hovertemplate": "fuel=Hybrid<br>cap type=%{x}<br>mode=HD Truck<br>vintage=2050<br>capacity=%{y}<extra></extra>",
         "legendgroup": "Hybrid, new capacity",
         "marker": {
          "color": "darkorange",
          "pattern": {
           "shape": ""
          }
         },
         "name": "Hybrid",
         "orientation": "v",
         "showlegend": false,
         "textfont": {
          "size": 11
         },
         "textposition": "auto",
         "texttemplate": "%{y:.2s}",
         "type": "bar",
         "x": [
          "new capacity"
         ],
         "xaxis": "x6",
         "y": {
          "bdata": "AAAAAAA/wUA=",
          "dtype": "f8"
         },
         "yaxis": "y6"
        },
        {
         "hovertemplate": "fuel=Hybrid<br>cap type=%{x}<br>mode=LD Truck<br>vintage=2025<br>capacity=%{y}<extra></extra>",
         "legendgroup": "Hybrid, retired cap",
         "marker": {
          "color": "darkorange",
          "pattern": {
           "shape": "/"
          }
         },
         "name": "Hybrid",
         "orientation": "v",
         "showlegend": false,
         "textfont": {
          "size": 11
         },
         "textposition": "auto",
         "texttemplate": "%{y:.2s}",
         "type": "bar",
         "x": [
          "retired cap"
         ],
         "xaxis": "x7",
         "y": {
          "bdata": "AAAAAABAisA=",
          "dtype": "f8"
         },
         "yaxis": "y7"
        },
        {
         "hovertemplate": "fuel=Hybrid<br>cap type=%{x}<br>mode=LD Truck<br>vintage=2030<br>capacity=%{y}<extra></extra>",
         "legendgroup": "Hybrid, retired cap",
         "marker": {
          "color": "darkorange",
          "pattern": {
           "shape": "/"
          }
         },
         "name": "Hybrid",
         "orientation": "v",
         "showlegend": false,
         "textfont": {
          "size": 11
         },
         "textposition": "auto",
         "texttemplate": "%{y:.2s}",
         "type": "bar",
         "x": [
          "retired cap"
         ],
         "xaxis": "x8",
         "y": {
          "bdata": "AAAAAAB2scA=",
          "dtype": "f8"
         },
         "yaxis": "y8"
        },
        {
         "hovertemplate": "fuel=Hybrid<br>cap type=%{x}<br>mode=HD Truck<br>vintage=2030<br>capacity=%{y}<extra></extra>",
         "legendgroup": "Hybrid, retired cap",
         "marker": {
          "color": "darkorange",
          "pattern": {
           "shape": "/"
          }
         },
         "name": "Hybrid",
         "orientation": "v",
         "showlegend": false,
         "textfont": {
          "size": 11
         },
         "textposition": "auto",
         "texttemplate": "%{y:.2s}",
         "type": "bar",
         "x": [
          "retired cap"
         ],
         "xaxis": "x2",
         "y": {
          "bdata": "AAAAAAAwscA=",
          "dtype": "f8"
         },
         "yaxis": "y2"
        },
        {
         "hovertemplate": "fuel=Hybrid<br>cap type=%{x}<br>mode=LD Truck<br>vintage=2035<br>capacity=%{y}<extra></extra>",
         "legendgroup": "Hybrid, retired cap",
         "marker": {
          "color": "darkorange",
          "pattern": {
           "shape": "/"
          }
         },
         "name": "Hybrid",
         "orientation": "v",
         "showlegend": false,
         "textfont": {
          "size": 11
         },
         "textposition": "auto",
         "texttemplate": "%{y:.2s}",
         "type": "bar",
         "x": [
          "retired cap"
         ],
         "xaxis": "x9",
         "y": {
          "bdata": "AAAAAABAmsA=",
          "dtype": "f8"
         },
         "yaxis": "y9"
        },
        {
         "hovertemplate": "fuel=Hybrid<br>cap type=%{x}<br>mode=HD Truck<br>vintage=2035<br>capacity=%{y}<extra></extra>",
         "legendgroup": "Hybrid, retired cap",
         "marker": {
          "color": "darkorange",
          "pattern": {
           "shape": "/"
          }
         },
         "name": "Hybrid",
         "orientation": "v",
         "showlegend": false,
         "textfont": {
          "size": 11
         },
         "textposition": "auto",
         "texttemplate": "%{y:.2s}",
         "type": "bar",
         "x": [
          "retired cap"
         ],
         "xaxis": "x3",
         "y": {
          "bdata": "AAAAAACKscA=",
          "dtype": "f8"
         },
         "yaxis": "y3"
        },
        {
         "hovertemplate": "fuel=Hybrid<br>cap type=%{x}<br>mode=LD Truck<br>vintage=2040<br>capacity=%{y}<extra></extra>",
         "legendgroup": "Hybrid, retired cap",
         "marker": {
          "color": "darkorange",
          "pattern": {
           "shape": "/"
          }
         },
         "name": "Hybrid",
         "orientation": "v",
         "showlegend": false,
         "textfont": {
          "size": 11
         },
         "textposition": "auto",
         "texttemplate": "%{y:.2s}",
         "type": "bar",
         "x": [
          "retired cap"
         ],
         "xaxis": "x10",
         "y": {
          "bdata": "AAAAAAB2wcA=",
          "dtype": "f8"
         },
         "yaxis": "y10"
        },
        {
         "hovertemplate": "fuel=Hybrid<br>cap type=%{x}<br>mode=HD Truck<br>vintage=2040<br>capacity=%{y}<extra></extra>",
         "legendgroup": "Hybrid, retired cap",
         "marker": {
          "color": "darkorange",
          "pattern": {
           "shape": "/"
          }
         },
         "name": "Hybrid",
         "orientation": "v",
         "showlegend": false,
         "textfont": {
          "size": 11
         },
         "textposition": "auto",
         "texttemplate": "%{y:.2s}",
         "type": "bar",
         "x": [
          "retired cap"
         ],
         "xaxis": "x4",
         "y": {
          "bdata": "AAAAAAAwxsA=",
          "dtype": "f8"
         },
         "yaxis": "y4"
        },
        {
         "hovertemplate": "fuel=Hybrid<br>cap type=%{x}<br>mode=LD Truck<br>vintage=2045<br>capacity=%{y}<extra></extra>",
         "legendgroup": "Hybrid, retired cap",
         "marker": {
          "color": "darkorange",
          "pattern": {
           "shape": "/"
          }
         },
         "name": "Hybrid",
         "orientation": "v",
         "showlegend": false,
         "textfont": {
          "size": 11
         },
         "textposition": "auto",
         "texttemplate": "%{y:.2s}",
         "type": "bar",
         "x": [
          "retired cap"
         ],
         "xaxis": "x11",
         "y": {
          "bdata": "AAAAAABAisA=",
          "dtype": "f8"
         },
         "yaxis": "y11"
        },
        {
         "hovertemplate": "fuel=Hybrid<br>cap type=%{x}<br>mode=HD Truck<br>vintage=2045<br>capacity=%{y}<extra></extra>",
         "legendgroup": "Hybrid, retired cap",
         "marker": {
          "color": "darkorange",
          "pattern": {
           "shape": "/"
          }
         },
         "name": "Hybrid",
         "orientation": "v",
         "showlegend": false,
         "textfont": {
          "size": 11
         },
         "textposition": "auto",
         "texttemplate": "%{y:.2s}",
         "type": "bar",
         "x": [
          "retired cap"
         ],
         "xaxis": "x5",
         "y": {
          "bdata": "AAAAAAD8x8A=",
          "dtype": "f8"
         },
         "yaxis": "y5"
        },
        {
         "hovertemplate": "fuel=Hybrid<br>cap type=%{x}<br>mode=LD Truck<br>vintage=2050<br>capacity=%{y}<extra></extra>",
         "legendgroup": "Hybrid, retired cap",
         "marker": {
          "color": "darkorange",
          "pattern": {
           "shape": "/"
          }
         },
         "name": "Hybrid",
         "orientation": "v",
         "showlegend": false,
         "textfont": {
          "size": 11
         },
         "textposition": "auto",
         "texttemplate": "%{y:.2s}",
         "type": "bar",
         "x": [
          "retired cap"
         ],
         "xaxis": "x12",
         "y": {
          "bdata": "AAAAAAB2scA=",
          "dtype": "f8"
         },
         "yaxis": "y12"
        },
        {
         "hovertemplate": "fuel=Hybrid<br>cap type=%{x}<br>mode=HD Truck<br>vintage=2050<br>capacity=%{y}<extra></extra>",
         "legendgroup": "Hybrid, retired cap",
         "marker": {
          "color": "darkorange",
          "pattern": {
           "shape": "/"
          }
         },
         "name": "Hybrid",
         "orientation": "v",
         "showlegend": false,
         "textfont": {
          "size": 11
         },
         "textposition": "auto",
         "texttemplate": "%{y:.2s}",
         "type": "bar",
         "x": [
          "retired cap"
         ],
         "xaxis": "x6",
         "y": {
          "bdata": "AAAAAACgvsA=",
          "dtype": "f8"
         },
         "yaxis": "y6"
        },
        {
         "hovertemplate": "fuel=PHEV (35-mile AER)<br>cap type=%{x}<br>mode=LD Truck<br>vintage=2025<br>capacity=%{y}<extra></extra>",
         "legendgroup": "PHEV (35-mile AER), new capacity",
         "marker": {
          "color": "dodgerblue",
          "pattern": {
           "shape": ""
          }
         },
         "name": "PHEV (35-mile AER)",
         "orientation": "v",
         "showlegend": true,
         "textfont": {
          "size": 11
         },
         "textposition": "auto",
         "texttemplate": "%{y:.2s}",
         "type": "bar",
         "x": [
          "new capacity"
         ],
         "xaxis": "x7",
         "y": {
          "bdata": "AAAAAABatEA=",
          "dtype": "f8"
         },
         "yaxis": "y7"
        },
        {
         "hovertemplate": "fuel=PHEV (35-mile AER)<br>cap type=%{x}<br>mode=LD Truck<br>vintage=2030<br>capacity=%{y}<extra></extra>",
         "legendgroup": "PHEV (35-mile AER), new capacity",
         "marker": {
          "color": "dodgerblue",
          "pattern": {
           "shape": ""
          }
         },
         "name": "PHEV (35-mile AER)",
         "orientation": "v",
         "showlegend": false,
         "textfont": {
          "size": 11
         },
         "textposition": "auto",
         "texttemplate": "%{y:.2s}",
         "type": "bar",
         "x": [
          "new capacity"
         ],
         "xaxis": "x8",
         "y": {
          "bdata": "AAAAAAAqt0A=",
          "dtype": "f8"
         },
         "yaxis": "y8"
        },
        {
         "hovertemplate": "fuel=PHEV (35-mile AER)<br>cap type=%{x}<br>mode=LD Truck<br>vintage=2035<br>capacity=%{y}<extra></extra>",
         "legendgroup": "PHEV (35-mile AER), new capacity",
         "marker": {
          "color": "dodgerblue",
          "pattern": {
           "shape": ""
          }
         },
         "name": "PHEV (35-mile AER)",
         "orientation": "v",
         "showlegend": false,
         "textfont": {
          "size": 11
         },
         "textposition": "auto",
         "texttemplate": "%{y:.2s}",
         "type": "bar",
         "x": [
          "new capacity"
         ],
         "xaxis": "x9",
         "y": {
          "bdata": "AAAAAAAQuEA=",
          "dtype": "f8"
         },
         "yaxis": "y9"
        },
        {
         "hovertemplate": "fuel=PHEV (35-mile AER)<br>cap type=%{x}<br>mode=LD Truck<br>vintage=2040<br>capacity=%{y}<extra></extra>",
         "legendgroup": "PHEV (35-mile AER), new capacity",
         "marker": {
          "color": "dodgerblue",
          "pattern": {
           "shape": ""
          }
         },
         "name": "PHEV (35-mile AER)",
         "orientation": "v",
         "showlegend": false,
         "textfont": {
          "size": 11
         },
         "textposition": "auto",
         "texttemplate": "%{y:.2s}",
         "type": "bar",
         "x": [
          "new capacity"
         ],
         "xaxis": "x10",
         "y": {
          "bdata": "AAAAAAAAuUA=",
          "dtype": "f8"
         },
         "yaxis": "y10"
        },
        {
         "hovertemplate": "fuel=PHEV (35-mile AER)<br>cap type=%{x}<br>mode=LD Truck<br>vintage=2045<br>capacity=%{y}<extra></extra>",
         "legendgroup": "PHEV (35-mile AER), new capacity",
         "marker": {
          "color": "dodgerblue",
          "pattern": {
           "shape": ""
          }
         },
         "name": "PHEV (35-mile AER)",
         "orientation": "v",
         "showlegend": false,
         "textfont": {
          "size": 11
         },
         "textposition": "auto",
         "texttemplate": "%{y:.2s}",
         "type": "bar",
         "x": [
          "new capacity"
         ],
         "xaxis": "x11",
         "y": {
          "bdata": "AAAAAAD+sEA=",
          "dtype": "f8"
         },
         "yaxis": "y11"
        },
        {
         "hovertemplate": "fuel=PHEV (35-mile AER)<br>cap type=%{x}<br>mode=LD Truck<br>vintage=2050<br>capacity=%{y}<extra></extra>",
         "legendgroup": "PHEV (35-mile AER), new capacity",
         "marker": {
          "color": "dodgerblue",
          "pattern": {
           "shape": ""
          }
         },
         "name": "PHEV (35-mile AER)",
         "orientation": "v",
         "showlegend": false,
         "textfont": {
          "size": 11
         },
         "textposition": "auto",
         "texttemplate": "%{y:.2s}",
         "type": "bar",
         "x": [
          "new capacity"
         ],
         "xaxis": "x12",
         "y": {
          "bdata": "AAAAAACwjUA=",
          "dtype": "f8"
         },
         "yaxis": "y12"
        },
        {
         "hovertemplate": "fuel=PHEV (35-mile AER)<br>cap type=%{x}<br>mode=LD Truck<br>vintage=2025<br>capacity=%{y}<extra></extra>",
         "legendgroup": "PHEV (35-mile AER), retired cap",
         "marker": {
          "color": "dodgerblue",
          "pattern": {
           "shape": "/"
          }
         },
         "name": "PHEV (35-mile AER)",
         "orientation": "v",
         "showlegend": false,
         "textfont": {
          "size": 11
         },
         "textposition": "auto",
         "texttemplate": "%{y:.2s}",
         "type": "bar",
         "x": [
          "retired cap"
         ],
         "xaxis": "x7",
         "y": {
          "bdata": "AAAAAAAANMA=",
          "dtype": "f8"
         },
         "yaxis": "y7"
        },
        {
         "hovertemplate": "fuel=PHEV (35-mile AER)<br>cap type=%{x}<br>mode=LD Truck<br>vintage=2030<br>capacity=%{y}<extra></extra>",
         "legendgroup": "PHEV (35-mile AER), retired cap",
         "marker": {
          "color": "dodgerblue",
          "pattern": {
           "shape": "/"
          }
         },
         "name": "PHEV (35-mile AER)",
         "orientation": "v",
         "showlegend": false,
         "textfont": {
          "size": 11
         },
         "textposition": "auto",
         "texttemplate": "%{y:.2s}",
         "type": "bar",
         "x": [
          "retired cap"
         ],
         "xaxis": "x8",
         "y": {
          "bdata": "AAAAAIAr48A=",
          "dtype": "f8"
         },
         "yaxis": "y8"
        },
        {
         "hovertemplate": "fuel=PHEV (35-mile AER)<br>cap type=%{x}<br>mode=LD Truck<br>vintage=2035<br>capacity=%{y}<extra></extra>",
         "legendgroup": "PHEV (35-mile AER), retired cap",
         "marker": {
          "color": "dodgerblue",
          "pattern": {
           "shape": "/"
          }
         },
         "name": "PHEV (35-mile AER)",
         "orientation": "v",
         "showlegend": false,
         "textfont": {
          "size": 11
         },
         "textposition": "auto",
         "texttemplate": "%{y:.2s}",
         "type": "bar",
         "x": [
          "retired cap"
         ],
         "xaxis": "x9",
         "y": {
          "bdata": "AAAAAADwlMA=",
          "dtype": "f8"
         },
         "yaxis": "y9"
        },
        {
         "hovertemplate": "fuel=PHEV (35-mile AER)<br>cap type=%{x}<br>mode=LD Truck<br>vintage=2040<br>capacity=%{y}<extra></extra>",
         "legendgroup": "PHEV (35-mile AER), retired cap",
         "marker": {
          "color": "dodgerblue",
          "pattern": {
           "shape": "/"
          }
         },
         "name": "PHEV (35-mile AER)",
         "orientation": "v",
         "showlegend": false,
         "textfont": {
          "size": 11
         },
         "textposition": "auto",
         "texttemplate": "%{y:.2s}",
         "type": "bar",
         "x": [
          "retired cap"
         ],
         "xaxis": "x10",
         "y": {
          "bdata": "AAAAAACI88A=",
          "dtype": "f8"
         },
         "yaxis": "y10"
        },
        {
         "hovertemplate": "fuel=PHEV (35-mile AER)<br>cap type=%{x}<br>mode=LD Truck<br>vintage=2045<br>capacity=%{y}<extra></extra>",
         "legendgroup": "PHEV (35-mile AER), retired cap",
         "marker": {
          "color": "dodgerblue",
          "pattern": {
           "shape": "/"
          }
         },
         "name": "PHEV (35-mile AER)",
         "orientation": "v",
         "showlegend": false,
         "textfont": {
          "size": 11
         },
         "textposition": "auto",
         "texttemplate": "%{y:.2s}",
         "type": "bar",
         "x": [
          "retired cap"
         ],
         "xaxis": "x11",
         "y": {
          "bdata": "AAAAAABKsMA=",
          "dtype": "f8"
         },
         "yaxis": "y11"
        },
        {
         "hovertemplate": "fuel=PHEV (35-mile AER)<br>cap type=%{x}<br>mode=LD Truck<br>vintage=2050<br>capacity=%{y}<extra></extra>",
         "legendgroup": "PHEV (35-mile AER), retired cap",
         "marker": {
          "color": "dodgerblue",
          "pattern": {
           "shape": "/"
          }
         },
         "name": "PHEV (35-mile AER)",
         "orientation": "v",
         "showlegend": false,
         "textfont": {
          "size": 11
         },
         "textposition": "auto",
         "texttemplate": "%{y:.2s}",
         "type": "bar",
         "x": [
          "retired cap"
         ],
         "xaxis": "x12",
         "y": {
          "bdata": "AAAAAMBm5cA=",
          "dtype": "f8"
         },
         "yaxis": "y12"
        },
        {
         "hovertemplate": "fuel=BEV (150-mile AER)<br>cap type=%{x}<br>mode=LD Truck<br>vintage=2025<br>capacity=%{y}<extra></extra>",
         "legendgroup": "BEV (150-mile AER), new capacity",
         "marker": {
          "color": "limegreen",
          "pattern": {
           "shape": ""
          }
         },
         "name": "BEV (150-mile AER)",
         "orientation": "v",
         "showlegend": true,
         "textfont": {
          "size": 11
         },
         "textposition": "auto",
         "texttemplate": "%{y:.2s}",
         "type": "bar",
         "x": [
          "new capacity"
         ],
         "xaxis": "x7",
         "y": {
          "bdata": "AAAAAA5hPUE=",
          "dtype": "f8"
         },
         "yaxis": "y7"
        },
        {
         "hovertemplate": "fuel=BEV (150-mile AER)<br>cap type=%{x}<br>mode=LD Truck<br>vintage=2030<br>capacity=%{y}<extra></extra>",
         "legendgroup": "BEV (150-mile AER), new capacity",
         "marker": {
          "color": "limegreen",
          "pattern": {
           "shape": ""
          }
         },
         "name": "BEV (150-mile AER)",
         "orientation": "v",
         "showlegend": false,
         "textfont": {
          "size": 11
         },
         "textposition": "auto",
         "texttemplate": "%{y:.2s}",
         "type": "bar",
         "x": [
          "new capacity"
         ],
         "xaxis": "x8",
         "y": {
          "bdata": "AAAAAOBYN0E=",
          "dtype": "f8"
         },
         "yaxis": "y8"
        },
        {
         "hovertemplate": "fuel=BEV (150-mile AER)<br>cap type=%{x}<br>mode=LD Truck<br>vintage=2035<br>capacity=%{y}<extra></extra>",
         "legendgroup": "BEV (150-mile AER), new capacity",
         "marker": {
          "color": "limegreen",
          "pattern": {
           "shape": ""
          }
         },
         "name": "BEV (150-mile AER)",
         "orientation": "v",
         "showlegend": false,
         "textfont": {
          "size": 11
         },
         "textposition": "auto",
         "texttemplate": "%{y:.2s}",
         "type": "bar",
         "x": [
          "new capacity"
         ],
         "xaxis": "x9",
         "y": {
          "bdata": "AAAAAFh4QUE=",
          "dtype": "f8"
         },
         "yaxis": "y9"
        },
        {
         "hovertemplate": "fuel=BEV (150-mile AER)<br>cap type=%{x}<br>mode=LD Truck<br>vintage=2040<br>capacity=%{y}<extra></extra>",
         "legendgroup": "BEV (150-mile AER), new capacity",
         "marker": {
          "color": "limegreen",
          "pattern": {
           "shape": ""
          }
         },
         "name": "BEV (150-mile AER)",
         "orientation": "v",
         "showlegend": false,
         "textfont": {
          "size": 11
         },
         "textposition": "auto",
         "texttemplate": "%{y:.2s}",
         "type": "bar",
         "x": [
          "new capacity"
         ],
         "xaxis": "x10",
         "y": {
          "bdata": "AAAAALdKQkE=",
          "dtype": "f8"
         },
         "yaxis": "y10"
        },
        {
         "hovertemplate": "fuel=BEV (150-mile AER)<br>cap type=%{x}<br>mode=LD Truck<br>vintage=2045<br>capacity=%{y}<extra></extra>",
         "legendgroup": "BEV (150-mile AER), new capacity",
         "marker": {
          "color": "limegreen",
          "pattern": {
           "shape": ""
          }
         },
         "name": "BEV (150-mile AER)",
         "orientation": "v",
         "showlegend": false,
         "textfont": {
          "size": 11
         },
         "textposition": "auto",
         "texttemplate": "%{y:.2s}",
         "type": "bar",
         "x": [
          "new capacity"
         ],
         "xaxis": "x11",
         "y": {
          "bdata": "AAAAAExqQkE=",
          "dtype": "f8"
         },
         "yaxis": "y11"
        },
        {
         "hovertemplate": "fuel=BEV (150-mile AER)<br>cap type=%{x}<br>mode=LD Truck<br>vintage=2050<br>capacity=%{y}<extra></extra>",
         "legendgroup": "BEV (150-mile AER), new capacity",
         "marker": {
          "color": "limegreen",
          "pattern": {
           "shape": ""
          }
         },
         "name": "BEV (150-mile AER)",
         "orientation": "v",
         "showlegend": false,
         "textfont": {
          "size": 11
         },
         "textposition": "auto",
         "texttemplate": "%{y:.2s}",
         "type": "bar",
         "x": [
          "new capacity"
         ],
         "xaxis": "x12",
         "y": {
          "bdata": "AAAAANd3RUE=",
          "dtype": "f8"
         },
         "yaxis": "y12"
        },
        {
         "hovertemplate": "fuel=BEV (150-mile AER)<br>cap type=%{x}<br>mode=LD Truck<br>vintage=2030<br>capacity=%{y}<extra></extra>",
         "legendgroup": "BEV (150-mile AER), retired cap",
         "marker": {
          "color": "limegreen",
          "pattern": {
           "shape": "/"
          }
         },
         "name": "BEV (150-mile AER)",
         "orientation": "v",
         "showlegend": false,
         "textfont": {
          "size": 11
         },
         "textposition": "auto",
         "texttemplate": "%{y:.2s}",
         "type": "bar",
         "x": [
          "retired cap"
         ],
         "xaxis": "x8",
         "y": {
          "bdata": "AAAAAACd/MA=",
          "dtype": "f8"
         },
         "yaxis": "y8"
        },
        {
         "hovertemplate": "fuel=BEV (150-mile AER)<br>cap type=%{x}<br>mode=LD Truck<br>vintage=2035<br>capacity=%{y}<extra></extra>",
         "legendgroup": "BEV (150-mile AER), retired cap",
         "marker": {
          "color": "limegreen",
          "pattern": {
           "shape": "/"
          }
         },
         "name": "BEV (150-mile AER)",
         "orientation": "v",
         "showlegend": false,
         "textfont": {
          "size": 11
         },
         "textposition": "auto",
         "texttemplate": "%{y:.2s}",
         "type": "bar",
         "x": [
          "retired cap"
         ],
         "xaxis": "x9",
         "y": {
          "bdata": "AAAAABhhHcE=",
          "dtype": "f8"
         },
         "yaxis": "y9"
        },
        {
         "hovertemplate": "fuel=BEV (150-mile AER)<br>cap type=%{x}<br>mode=LD Truck<br>vintage=2040<br>capacity=%{y}<extra></extra>",
         "legendgroup": "BEV (150-mile AER), retired cap",
         "marker": {
          "color": "limegreen",
          "pattern": {
           "shape": "/"
          }
         },
         "name": "BEV (150-mile AER)",
         "orientation": "v",
         "showlegend": false,
         "textfont": {
          "size": 11
         },
         "textposition": "auto",
         "texttemplate": "%{y:.2s}",
         "type": "bar",
         "x": [
          "retired cap"
         ],
         "xaxis": "x10",
         "y": {
          "bdata": "AAAAALDTIsE=",
          "dtype": "f8"
         },
         "yaxis": "y10"
        },
        {
         "hovertemplate": "fuel=BEV (150-mile AER)<br>cap type=%{x}<br>mode=LD Truck<br>vintage=2045<br>capacity=%{y}<extra></extra>",
         "legendgroup": "BEV (150-mile AER), retired cap",
         "marker": {
          "color": "limegreen",
          "pattern": {
           "shape": "/"
          }
         },
         "name": "BEV (150-mile AER)",
         "orientation": "v",
         "showlegend": false,
         "textfont": {
          "size": 11
         },
         "textposition": "auto",
         "texttemplate": "%{y:.2s}",
         "type": "bar",
         "x": [
          "retired cap"
         ],
         "xaxis": "x11",
         "y": {
          "bdata": "AAAAAK5sN8E=",
          "dtype": "f8"
         },
         "yaxis": "y11"
        },
        {
         "hovertemplate": "fuel=BEV (150-mile AER)<br>cap type=%{x}<br>mode=LD Truck<br>vintage=2050<br>capacity=%{y}<extra></extra>",
         "legendgroup": "BEV (150-mile AER), retired cap",
         "marker": {
          "color": "limegreen",
          "pattern": {
           "shape": "/"
          }
         },
         "name": "BEV (150-mile AER)",
         "orientation": "v",
         "showlegend": false,
         "textfont": {
          "size": 11
         },
         "textposition": "auto",
         "texttemplate": "%{y:.2s}",
         "type": "bar",
         "x": [
          "retired cap"
         ],
         "xaxis": "x12",
         "y": {
          "bdata": "AAAAAJ6bNsE=",
          "dtype": "f8"
         },
         "yaxis": "y12"
        },
        {
         "hovertemplate": "fuel=BEV (200-mile AER)<br>cap type=%{x}<br>mode=LD Truck<br>vintage=2025<br>capacity=%{y}<extra></extra>",
         "legendgroup": "BEV (200-mile AER), new capacity",
         "marker": {
          "color": "seagreen",
          "pattern": {
           "shape": ""
          }
         },
         "name": "BEV (200-mile AER)",
         "orientation": "v",
         "showlegend": true,
         "textfont": {
          "size": 11
         },
         "textposition": "auto",
         "texttemplate": "%{y:.2s}",
         "type": "bar",
         "x": [
          "new capacity"
         ],
         "xaxis": "x7",
         "y": {
          "bdata": "AAAAAAAAREA=",
          "dtype": "f8"
         },
         "yaxis": "y7"
        },
        {
         "hovertemplate": "fuel=BEV (200-mile AER)<br>cap type=%{x}<br>mode=LD Truck<br>vintage=2030<br>capacity=%{y}<extra></extra>",
         "legendgroup": "BEV (200-mile AER), new capacity",
         "marker": {
          "color": "seagreen",
          "pattern": {
           "shape": ""
          }
         },
         "name": "BEV (200-mile AER)",
         "orientation": "v",
         "showlegend": false,
         "textfont": {
          "size": 11
         },
         "textposition": "auto",
         "texttemplate": "%{y:.2s}",
         "type": "bar",
         "x": [
          "new capacity"
         ],
         "xaxis": "x8",
         "y": {
          "bdata": "AAAAAAAAREA=",
          "dtype": "f8"
         },
         "yaxis": "y8"
        },
        {
         "hovertemplate": "fuel=BEV (200-mile AER)<br>cap type=%{x}<br>mode=LD Truck<br>vintage=2035<br>capacity=%{y}<extra></extra>",
         "legendgroup": "BEV (200-mile AER), new capacity",
         "marker": {
          "color": "seagreen",
          "pattern": {
           "shape": ""
          }
         },
         "name": "BEV (200-mile AER)",
         "orientation": "v",
         "showlegend": false,
         "textfont": {
          "size": 11
         },
         "textposition": "auto",
         "texttemplate": "%{y:.2s}",
         "type": "bar",
         "x": [
          "new capacity"
         ],
         "xaxis": "x9",
         "y": {
          "bdata": "AAAAAAAAREA=",
          "dtype": "f8"
         },
         "yaxis": "y9"
        },
        {
         "hovertemplate": "fuel=BEV (200-mile AER)<br>cap type=%{x}<br>mode=LD Truck<br>vintage=2040<br>capacity=%{y}<extra></extra>",
         "legendgroup": "BEV (200-mile AER), new capacity",
         "marker": {
          "color": "seagreen",
          "pattern": {
           "shape": ""
          }
         },
         "name": "BEV (200-mile AER)",
         "orientation": "v",
         "showlegend": false,
         "textfont": {
          "size": 11
         },
         "textposition": "auto",
         "texttemplate": "%{y:.2s}",
         "type": "bar",
         "x": [
          "new capacity"
         ],
         "xaxis": "x10",
         "y": {
          "bdata": "AAAAAAAASUA=",
          "dtype": "f8"
         },
         "yaxis": "y10"
        },
        {
         "hovertemplate": "fuel=BEV (200-mile AER)<br>cap type=%{x}<br>mode=LD Truck<br>vintage=2045<br>capacity=%{y}<extra></extra>",
         "legendgroup": "BEV (200-mile AER), new capacity",
         "marker": {
          "color": "seagreen",
          "pattern": {
           "shape": ""
          }
         },
         "name": "BEV (200-mile AER)",
         "orientation": "v",
         "showlegend": false,
         "textfont": {
          "size": 11
         },
         "textposition": "auto",
         "texttemplate": "%{y:.2s}",
         "type": "bar",
         "x": [
          "new capacity"
         ],
         "xaxis": "x11",
         "y": {
          "bdata": "AAAAAAAAVEA=",
          "dtype": "f8"
         },
         "yaxis": "y11"
        },
        {
         "hovertemplate": "fuel=BEV (200-mile AER)<br>cap type=%{x}<br>mode=LD Truck<br>vintage=2050<br>capacity=%{y}<extra></extra>",
         "legendgroup": "BEV (200-mile AER), new capacity",
         "marker": {
          "color": "seagreen",
          "pattern": {
           "shape": ""
          }
         },
         "name": "BEV (200-mile AER)",
         "orientation": "v",
         "showlegend": false,
         "textfont": {
          "size": 11
         },
         "textposition": "auto",
         "texttemplate": "%{y:.2s}",
         "type": "bar",
         "x": [
          "new capacity"
         ],
         "xaxis": "x12",
         "y": {
          "bdata": "AAAAAAAAVEA=",
          "dtype": "f8"
         },
         "yaxis": "y12"
        },
        {
         "hovertemplate": "fuel=BEV (200-mile AER)<br>cap type=%{x}<br>mode=LD Truck<br>vintage=2030<br>capacity=%{y}<extra></extra>",
         "legendgroup": "BEV (200-mile AER), retired cap",
         "marker": {
          "color": "seagreen",
          "pattern": {
           "shape": "/"
          }
         },
         "name": "BEV (200-mile AER)",
         "orientation": "v",
         "showlegend": false,
         "textfont": {
          "size": 11
         },
         "textposition": "auto",
         "texttemplate": "%{y:.2s}",
         "type": "bar",
         "x": [
          "retired cap"
         ],
         "xaxis": "x8",
         "y": {
          "bdata": "AAAAAAAAJMA=",
          "dtype": "f8"
         },
         "yaxis": "y8"
        },
        {
         "hovertemplate": "fuel=BEV (200-mile AER)<br>cap type=%{x}<br>mode=LD Truck<br>vintage=2035<br>capacity=%{y}<extra></extra>",
         "legendgroup": "BEV (200-mile AER), retired cap",
         "marker": {
          "color": "seagreen",
          "pattern": {
           "shape": "/"
          }
         },
         "name": "BEV (200-mile AER)",
         "orientation": "v",
         "showlegend": false,
         "textfont": {
          "size": 11
         },
         "textposition": "auto",
         "texttemplate": "%{y:.2s}",
         "type": "bar",
         "x": [
          "retired cap"
         ],
         "xaxis": "x9",
         "y": {
          "bdata": "AAAAAAAAJMA=",
          "dtype": "f8"
         },
         "yaxis": "y9"
        },
        {
         "hovertemplate": "fuel=BEV (200-mile AER)<br>cap type=%{x}<br>mode=LD Truck<br>vintage=2040<br>capacity=%{y}<extra></extra>",
         "legendgroup": "BEV (200-mile AER), retired cap",
         "marker": {
          "color": "seagreen",
          "pattern": {
           "shape": "/"
          }
         },
         "name": "BEV (200-mile AER)",
         "orientation": "v",
         "showlegend": false,
         "textfont": {
          "size": 11
         },
         "textposition": "auto",
         "texttemplate": "%{y:.2s}",
         "type": "bar",
         "x": [
          "retired cap"
         ],
         "xaxis": "x10",
         "y": {
          "bdata": "AAAAAAAANMA=",
          "dtype": "f8"
         },
         "yaxis": "y10"
        },
        {
         "hovertemplate": "fuel=BEV (200-mile AER)<br>cap type=%{x}<br>mode=LD Truck<br>vintage=2045<br>capacity=%{y}<extra></extra>",
         "legendgroup": "BEV (200-mile AER), retired cap",
         "marker": {
          "color": "seagreen",
          "pattern": {
           "shape": "/"
          }
         },
         "name": "BEV (200-mile AER)",
         "orientation": "v",
         "showlegend": false,
         "textfont": {
          "size": 11
         },
         "textposition": "auto",
         "texttemplate": "%{y:.2s}",
         "type": "bar",
         "x": [
          "retired cap"
         ],
         "xaxis": "x11",
         "y": {
          "bdata": "AAAAAAAAPsA=",
          "dtype": "f8"
         },
         "yaxis": "y11"
        },
        {
         "hovertemplate": "fuel=BEV (200-mile AER)<br>cap type=%{x}<br>mode=LD Truck<br>vintage=2050<br>capacity=%{y}<extra></extra>",
         "legendgroup": "BEV (200-mile AER), retired cap",
         "marker": {
          "color": "seagreen",
          "pattern": {
           "shape": "/"
          }
         },
         "name": "BEV (200-mile AER)",
         "orientation": "v",
         "showlegend": false,
         "textfont": {
          "size": 11
         },
         "textposition": "auto",
         "texttemplate": "%{y:.2s}",
         "type": "bar",
         "x": [
          "retired cap"
         ],
         "xaxis": "x12",
         "y": {
          "bdata": "AAAAAAAARMA=",
          "dtype": "f8"
         },
         "yaxis": "y12"
        },
        {
         "hovertemplate": "fuel=BEV (300-mile AER)<br>cap type=%{x}<br>mode=LD Truck<br>vintage=2025<br>capacity=%{y}<extra></extra>",
         "legendgroup": "BEV (300-mile AER), new capacity",
         "marker": {
          "color": "olive",
          "pattern": {
           "shape": ""
          }
         },
         "name": "BEV (300-mile AER)",
         "orientation": "v",
         "showlegend": true,
         "textfont": {
          "size": 11
         },
         "textposition": "auto",
         "texttemplate": "%{y:.2s}",
         "type": "bar",
         "x": [
          "new capacity"
         ],
         "xaxis": "x7",
         "y": {
          "bdata": "AAAAAAAAJEA=",
          "dtype": "f8"
         },
         "yaxis": "y7"
        },
        {
         "hovertemplate": "fuel=BEV (300-mile AER)<br>cap type=%{x}<br>mode=LD Truck<br>vintage=2030<br>capacity=%{y}<extra></extra>",
         "legendgroup": "BEV (300-mile AER), new capacity",
         "marker": {
          "color": "olive",
          "pattern": {
           "shape": ""
          }
         },
         "name": "BEV (300-mile AER)",
         "orientation": "v",
         "showlegend": false,
         "textfont": {
          "size": 11
         },
         "textposition": "auto",
         "texttemplate": "%{y:.2s}",
         "type": "bar",
         "x": [
          "new capacity"
         ],
         "xaxis": "x8",
         "y": {
          "bdata": "AAAAAAAAJEA=",
          "dtype": "f8"
         },
         "yaxis": "y8"
        },
        {
         "hovertemplate": "fuel=BEV (300-mile AER)<br>cap type=%{x}<br>mode=LD Truck<br>vintage=2035<br>capacity=%{y}<extra></extra>",
         "legendgroup": "BEV (300-mile AER), new capacity",
         "marker": {
          "color": "olive",
          "pattern": {
           "shape": ""
          }
         },
         "name": "BEV (300-mile AER)",
         "orientation": "v",
         "showlegend": false,
         "textfont": {
          "size": 11
         },
         "textposition": "auto",
         "texttemplate": "%{y:.2s}",
         "type": "bar",
         "x": [
          "new capacity"
         ],
         "xaxis": "x9",
         "y": {
          "bdata": "AAAAAAAAJEA=",
          "dtype": "f8"
         },
         "yaxis": "y9"
        },
        {
         "hovertemplate": "fuel=BEV (300-mile AER)<br>cap type=%{x}<br>mode=LD Truck<br>vintage=2040<br>capacity=%{y}<extra></extra>",
         "legendgroup": "BEV (300-mile AER), new capacity",
         "marker": {
          "color": "olive",
          "pattern": {
           "shape": ""
          }
         },
         "name": "BEV (300-mile AER)",
         "orientation": "v",
         "showlegend": false,
         "textfont": {
          "size": 11
         },
         "textposition": "auto",
         "texttemplate": "%{y:.2s}",
         "type": "bar",
         "x": [
          "new capacity"
         ],
         "xaxis": "x10",
         "y": {
          "bdata": "AAAAAAAAJEA=",
          "dtype": "f8"
         },
         "yaxis": "y10"
        },
        {
         "hovertemplate": "fuel=BEV (300-mile AER)<br>cap type=%{x}<br>mode=LD Truck<br>vintage=2045<br>capacity=%{y}<extra></extra>",
         "legendgroup": "BEV (300-mile AER), new capacity",
         "marker": {
          "color": "olive",
          "pattern": {
           "shape": ""
          }
         },
         "name": "BEV (300-mile AER)",
         "orientation": "v",
         "showlegend": false,
         "textfont": {
          "size": 11
         },
         "textposition": "auto",
         "texttemplate": "%{y:.2s}",
         "type": "bar",
         "x": [
          "new capacity"
         ],
         "xaxis": "x11",
         "y": {
          "bdata": "AAAAAAAAPkA=",
          "dtype": "f8"
         },
         "yaxis": "y11"
        },
        {
         "hovertemplate": "fuel=BEV (300-mile AER)<br>cap type=%{x}<br>mode=LD Truck<br>vintage=2050<br>capacity=%{y}<extra></extra>",
         "legendgroup": "BEV (300-mile AER), new capacity",
         "marker": {
          "color": "olive",
          "pattern": {
           "shape": ""
          }
         },
         "name": "BEV (300-mile AER)",
         "orientation": "v",
         "showlegend": false,
         "textfont": {
          "size": 11
         },
         "textposition": "auto",
         "texttemplate": "%{y:.2s}",
         "type": "bar",
         "x": [
          "new capacity"
         ],
         "xaxis": "x12",
         "y": {
          "bdata": "AAAAAAAAPkA=",
          "dtype": "f8"
         },
         "yaxis": "y12"
        },
        {
         "hovertemplate": "fuel=BEV (300-mile AER)<br>cap type=%{x}<br>mode=LD Truck<br>vintage=2025<br>capacity=%{y}<extra></extra>",
         "legendgroup": "BEV (300-mile AER), retired cap",
         "marker": {
          "color": "olive",
          "pattern": {
           "shape": "/"
          }
         },
         "name": "BEV (300-mile AER)",
         "orientation": "v",
         "showlegend": false,
         "textfont": {
          "size": 11
         },
         "textposition": "auto",
         "texttemplate": "%{y:.2s}",
         "type": "bar",
         "x": [
          "retired cap"
         ],
         "xaxis": "x7",
         "y": {
          "bdata": "AAAAAAAANMA=",
          "dtype": "f8"
         },
         "yaxis": "y7"
        },
        {
         "hovertemplate": "fuel=BEV (300-mile AER)<br>cap type=%{x}<br>mode=LD Truck<br>vintage=2030<br>capacity=%{y}<extra></extra>",
         "legendgroup": "BEV (300-mile AER), retired cap",
         "marker": {
          "color": "olive",
          "pattern": {
           "shape": "/"
          }
         },
         "name": "BEV (300-mile AER)",
         "orientation": "v",
         "showlegend": false,
         "textfont": {
          "size": 11
         },
         "textposition": "auto",
         "texttemplate": "%{y:.2s}",
         "type": "bar",
         "x": [
          "retired cap"
         ],
         "xaxis": "x8",
         "y": {
          "bdata": "AAAAAAAwkcA=",
          "dtype": "f8"
         },
         "yaxis": "y8"
        },
        {
         "hovertemplate": "fuel=BEV (300-mile AER)<br>cap type=%{x}<br>mode=LD Truck<br>vintage=2035<br>capacity=%{y}<extra></extra>",
         "legendgroup": "BEV (300-mile AER), retired cap",
         "marker": {
          "color": "olive",
          "pattern": {
           "shape": "/"
          }
         },
         "name": "BEV (300-mile AER)",
         "orientation": "v",
         "showlegend": false,
         "textfont": {
          "size": 11
         },
         "textposition": "auto",
         "texttemplate": "%{y:.2s}",
         "type": "bar",
         "x": [
          "retired cap"
         ],
         "xaxis": "x9",
         "y": {
          "bdata": "AAAAAAAARMA=",
          "dtype": "f8"
         },
         "yaxis": "y9"
        },
        {
         "hovertemplate": "fuel=BEV (300-mile AER)<br>cap type=%{x}<br>mode=LD Truck<br>vintage=2040<br>capacity=%{y}<extra></extra>",
         "legendgroup": "BEV (300-mile AER), retired cap",
         "marker": {
          "color": "olive",
          "pattern": {
           "shape": "/"
          }
         },
         "name": "BEV (300-mile AER)",
         "orientation": "v",
         "showlegend": false,
         "textfont": {
          "size": 11
         },
         "textposition": "auto",
         "texttemplate": "%{y:.2s}",
         "type": "bar",
         "x": [
          "retired cap"
         ],
         "xaxis": "x10",
         "y": {
          "bdata": "AAAAAAAcocA=",
          "dtype": "f8"
         },
         "yaxis": "y10"
        },
        {
         "hovertemplate": "fuel=BEV (300-mile AER)<br>cap type=%{x}<br>mode=LD Truck<br>vintage=2045<br>capacity=%{y}<extra></extra>",
         "legendgroup": "BEV (300-mile AER), retired cap",
         "marker": {
          "color": "olive",
          "pattern": {
           "shape": "/"
          }
         },
         "name": "BEV (300-mile AER)",
         "orientation": "v",
         "showlegend": false,
         "textfont": {
          "size": 11
         },
         "textposition": "auto",
         "texttemplate": "%{y:.2s}",
         "type": "bar",
         "x": [
          "retired cap"
         ],
         "xaxis": "x11",
         "y": {
          "bdata": "AAAAAAAAPsA=",
          "dtype": "f8"
         },
         "yaxis": "y11"
        },
        {
         "hovertemplate": "fuel=BEV (300-mile AER)<br>cap type=%{x}<br>mode=LD Truck<br>vintage=2050<br>capacity=%{y}<extra></extra>",
         "legendgroup": "BEV (300-mile AER), retired cap",
         "marker": {
          "color": "olive",
          "pattern": {
           "shape": "/"
          }
         },
         "name": "BEV (300-mile AER)",
         "orientation": "v",
         "showlegend": false,
         "textfont": {
          "size": 11
         },
         "textposition": "auto",
         "texttemplate": "%{y:.2s}",
         "type": "bar",
         "x": [
          "retired cap"
         ],
         "xaxis": "x12",
         "y": {
          "bdata": "AAAAAABYkcA=",
          "dtype": "f8"
         },
         "yaxis": "y12"
        },
        {
         "hovertemplate": "fuel=BEV (400-mile AER)<br>cap type=%{x}<br>mode=LD Truck<br>vintage=2040<br>capacity=%{y}<extra></extra>",
         "legendgroup": "BEV (400-mile AER), new capacity",
         "marker": {
          "color": "darkgreen",
          "pattern": {
           "shape": ""
          }
         },
         "name": "BEV (400-mile AER)",
         "orientation": "v",
         "showlegend": true,
         "textfont": {
          "size": 11
         },
         "textposition": "auto",
         "texttemplate": "%{y:.2s}",
         "type": "bar",
         "x": [
          "new capacity"
         ],
         "xaxis": "x10",
         "y": {
          "bdata": "AAAAAAAAJEA=",
          "dtype": "f8"
         },
         "yaxis": "y10"
        },
        {
         "hovertemplate": "fuel=BEV (400-mile AER)<br>cap type=%{x}<br>mode=LD Truck<br>vintage=2045<br>capacity=%{y}<extra></extra>",
         "legendgroup": "BEV (400-mile AER), new capacity",
         "marker": {
          "color": "darkgreen",
          "pattern": {
           "shape": ""
          }
         },
         "name": "BEV (400-mile AER)",
         "orientation": "v",
         "showlegend": false,
         "textfont": {
          "size": 11
         },
         "textposition": "auto",
         "texttemplate": "%{y:.2s}",
         "type": "bar",
         "x": [
          "new capacity"
         ],
         "xaxis": "x11",
         "y": {
          "bdata": "AAAAAAAAJEA=",
          "dtype": "f8"
         },
         "yaxis": "y11"
        },
        {
         "hovertemplate": "fuel=BEV (400-mile AER)<br>cap type=%{x}<br>mode=LD Truck<br>vintage=2050<br>capacity=%{y}<extra></extra>",
         "legendgroup": "BEV (400-mile AER), new capacity",
         "marker": {
          "color": "darkgreen",
          "pattern": {
           "shape": ""
          }
         },
         "name": "BEV (400-mile AER)",
         "orientation": "v",
         "showlegend": false,
         "textfont": {
          "size": 11
         },
         "textposition": "auto",
         "texttemplate": "%{y:.2s}",
         "type": "bar",
         "x": [
          "new capacity"
         ],
         "xaxis": "x12",
         "y": {
          "bdata": "AAAAAAAAJEA=",
          "dtype": "f8"
         },
         "yaxis": "y12"
        },
        {
         "hovertemplate": "fuel=Fuel-cell electric<br>cap type=%{x}<br>mode=HD Truck<br>vintage=2030<br>capacity=%{y}<extra></extra>",
         "legendgroup": "Fuel-cell electric, new capacity",
         "marker": {
          "color": "mediumvioletred",
          "pattern": {
           "shape": ""
          }
         },
         "name": "Fuel-cell electric",
         "orientation": "v",
         "showlegend": true,
         "textfont": {
          "size": 11
         },
         "textposition": "auto",
         "texttemplate": "%{y:.2s}",
         "type": "bar",
         "x": [
          "new capacity"
         ],
         "xaxis": "x2",
         "y": {
          "bdata": "AAAAAID730A=",
          "dtype": "f8"
         },
         "yaxis": "y2"
        },
        {
         "hovertemplate": "fuel=Fuel-cell electric<br>cap type=%{x}<br>mode=HD Truck<br>vintage=2035<br>capacity=%{y}<extra></extra>",
         "legendgroup": "Fuel-cell electric, new capacity",
         "marker": {
          "color": "mediumvioletred",
          "pattern": {
           "shape": ""
          }
         },
         "name": "Fuel-cell electric",
         "orientation": "v",
         "showlegend": false,
         "textfont": {
          "size": 11
         },
         "textposition": "auto",
         "texttemplate": "%{y:.2s}",
         "type": "bar",
         "x": [
          "new capacity"
         ],
         "xaxis": "x3",
         "y": {
          "bdata": "AAAAAABU2kA=",
          "dtype": "f8"
         },
         "yaxis": "y3"
        },
        {
         "hovertemplate": "fuel=Fuel-cell electric<br>cap type=%{x}<br>mode=HD Truck<br>vintage=2040<br>capacity=%{y}<extra></extra>",
         "legendgroup": "Fuel-cell electric, new capacity",
         "marker": {
          "color": "mediumvioletred",
          "pattern": {
           "shape": ""
          }
         },
         "name": "Fuel-cell electric",
         "orientation": "v",
         "showlegend": false,
         "textfont": {
          "size": 11
         },
         "textposition": "auto",
         "texttemplate": "%{y:.2s}",
         "type": "bar",
         "x": [
          "new capacity"
         ],
         "xaxis": "x4",
         "y": {
          "bdata": "AAAAAMAW6kA=",
          "dtype": "f8"
         },
         "yaxis": "y4"
        },
        {
         "hovertemplate": "fuel=Fuel-cell electric<br>cap type=%{x}<br>mode=HD Truck<br>vintage=2045<br>capacity=%{y}<extra></extra>",
         "legendgroup": "Fuel-cell electric, new capacity",
         "marker": {
          "color": "mediumvioletred",
          "pattern": {
           "shape": ""
          }
         },
         "name": "Fuel-cell electric",
         "orientation": "v",
         "showlegend": false,
         "textfont": {
          "size": 11
         },
         "textposition": "auto",
         "texttemplate": "%{y:.2s}",
         "type": "bar",
         "x": [
          "new capacity"
         ],
         "xaxis": "x5",
         "y": {
          "bdata": "AAAAAACL4EA=",
          "dtype": "f8"
         },
         "yaxis": "y5"
        },
        {
         "hovertemplate": "fuel=Fuel-cell electric<br>cap type=%{x}<br>mode=HD Truck<br>vintage=2050<br>capacity=%{y}<extra></extra>",
         "legendgroup": "Fuel-cell electric, new capacity",
         "marker": {
          "color": "mediumvioletred",
          "pattern": {
           "shape": ""
          }
         },
         "name": "Fuel-cell electric",
         "orientation": "v",
         "showlegend": false,
         "textfont": {
          "size": 11
         },
         "textposition": "auto",
         "texttemplate": "%{y:.2s}",
         "type": "bar",
         "x": [
          "new capacity"
         ],
         "xaxis": "x6",
         "y": {
          "bdata": "AAAAAAAV7UA=",
          "dtype": "f8"
         },
         "yaxis": "y6"
        },
        {
         "hovertemplate": "fuel=Fuel-cell electric<br>cap type=%{x}<br>mode=HD Truck<br>vintage=2040<br>capacity=%{y}<extra></extra>",
         "legendgroup": "Fuel-cell electric, retired cap",
         "marker": {
          "color": "mediumvioletred",
          "pattern": {
           "shape": "/"
          }
         },
         "name": "Fuel-cell electric",
         "orientation": "v",
         "showlegend": false,
         "textfont": {
          "size": 11
         },
         "textposition": "auto",
         "texttemplate": "%{y:.2s}",
         "type": "bar",
         "x": [
          "retired cap"
         ],
         "xaxis": "x4",
         "y": {
          "bdata": "///////9v8A=",
          "dtype": "f8"
         },
         "yaxis": "y4"
        },
        {
         "hovertemplate": "fuel=Fuel-cell electric<br>cap type=%{x}<br>mode=HD Truck<br>vintage=2045<br>capacity=%{y}<extra></extra>",
         "legendgroup": "Fuel-cell electric, retired cap",
         "marker": {
          "color": "mediumvioletred",
          "pattern": {
           "shape": "/"
          }
         },
         "name": "Fuel-cell electric",
         "orientation": "v",
         "showlegend": false,
         "textfont": {
          "size": 11
         },
         "textposition": "auto",
         "texttemplate": "%{y:.2s}",
         "type": "bar",
         "x": [
          "retired cap"
         ],
         "xaxis": "x5",
         "y": {
          "bdata": "AAAAAABUusA=",
          "dtype": "f8"
         },
         "yaxis": "y5"
        },
        {
         "hovertemplate": "fuel=Fuel-cell electric<br>cap type=%{x}<br>mode=HD Truck<br>vintage=2050<br>capacity=%{y}<extra></extra>",
         "legendgroup": "Fuel-cell electric, retired cap",
         "marker": {
          "color": "mediumvioletred",
          "pattern": {
           "shape": "/"
          }
         },
         "name": "Fuel-cell electric",
         "orientation": "v",
         "showlegend": false,
         "textfont": {
          "size": 11
         },
         "textposition": "auto",
         "texttemplate": "%{y:.2s}",
         "type": "bar",
         "x": [
          "retired cap"
         ],
         "xaxis": "x6",
         "y": {
          "bdata": "AAAAAIAI3cA=",
          "dtype": "f8"
         },
         "yaxis": "y6"
        },
        {
         "legendgroup": "Blank",
         "marker": {
          "color": "rgba(0,0,0,0)"
         },
         "name": "",
         "showlegend": true,
         "type": "bar",
         "x": [
          null
         ],
         "y": [
          null
         ]
        },
        {
         "legendgroup": "Capacity type",
         "legendgrouptitle": {
          "font": {
           "size": 16
          },
          "text": "<b>Capacity type</b>"
         },
         "marker": {
          "color": "rgba(0,0,0,0)",
          "line": {
           "color": "black",
           "width": 1
          },
          "pattern": {
           "shape": ""
          }
         },
         "name": "New capacity",
         "showlegend": true,
         "type": "bar",
         "x": [
          null
         ],
         "y": [
          null
         ]
        },
        {
         "legendgroup": "Capacity type",
         "marker": {
          "color": "rgba(0,0,0,0)",
          "line": {
           "color": "black",
           "width": 1
          },
          "pattern": {
           "shape": "/"
          }
         },
         "name": "Retired capacity",
         "showlegend": true,
         "type": "bar",
         "x": [
          null
         ],
         "y": [
          null
         ]
        }
       ],
       "layout": {
        "annotations": [
         {
          "font": {
           "size": 16
          },
          "showarrow": false,
          "text": "<b>2025</b>",
          "x": 0.07333333333333333,
          "xanchor": "center",
          "xref": "paper",
          "y": 0,
          "yanchor": "top",
          "yref": "paper"
         },
         {
          "font": {
           "size": 16
          },
          "showarrow": false,
          "text": "<b>2030</b>",
          "x": 0.24,
          "xanchor": "center",
          "xref": "paper",
          "y": 0,
          "yanchor": "top",
          "yref": "paper"
         },
         {
          "font": {
           "size": 16
          },
          "showarrow": false,
          "text": "<b>2035</b>",
          "x": 0.4066666666666666,
          "xanchor": "center",
          "xref": "paper",
          "y": 0,
          "yanchor": "top",
          "yref": "paper"
         },
         {
          "font": {
           "size": 16
          },
          "showarrow": false,
          "text": "<b>2040</b>",
          "x": 0.5733333333333334,
          "xanchor": "center",
          "xref": "paper",
          "y": 0,
          "yanchor": "top",
          "yref": "paper"
         },
         {
          "font": {
           "size": 16
          },
          "showarrow": false,
          "text": "<b>2045</b>",
          "x": 0.74,
          "xanchor": "center",
          "xref": "paper",
          "y": 0,
          "yanchor": "top",
          "yref": "paper"
         },
         {
          "font": {
           "size": 16
          },
          "showarrow": false,
          "text": "<b>2050</b>",
          "x": 0.9066666666666667,
          "xanchor": "center",
          "xref": "paper",
          "y": 0,
          "yanchor": "top",
          "yref": "paper"
         },
         {
          "font": {
           "size": 16
          },
          "showarrow": false,
          "text": "<b>HD Truck</b>",
          "textangle": 90,
          "x": 1.01,
          "xanchor": "center",
          "xref": "paper",
          "y": 0.24,
          "yanchor": "middle",
          "yref": "paper"
         },
         {
          "font": {
           "size": 16
          },
          "showarrow": false,
          "text": "<b>LD Truck</b>",
          "textangle": 90,
          "x": 1.01,
          "xanchor": "center",
          "xref": "paper",
          "y": 0.76,
          "yanchor": "middle",
          "yref": "paper"
         },
         {
          "font": {
           "size": 17
          },
          "showarrow": false,
          "text": "<b>Fleet capacity (vehicle units)</b>",
          "textangle": -90,
          "x": -0.08,
          "xref": "paper",
          "y": 0.5,
          "yref": "paper"
         }
        ],
        "bargap": 0.1,
        "barmode": "relative",
        "font": {
         "size": 15
        },
        "height": 450,
        "legend": {
         "orientation": "v",
         "title": {
          "font": {
           "size": 16
          },
          "text": "<b>Fuel/powertrain type</b>"
         },
         "tracegroupgap": 0,
         "traceorder": "grouped",
         "x": 1.15,
         "xanchor": "center",
         "y": 1,
         "yanchor": "top"
        },
        "margin": {
         "b": 30,
         "t": 65
        },
        "template": {
         "data": {
          "bar": [
           {
            "error_x": {
             "color": "#2a3f5f"
            },
            "error_y": {
             "color": "#2a3f5f"
            },
            "marker": {
             "line": {
              "color": "white",
              "width": 0.5
             },
             "pattern": {
              "fillmode": "overlay",
              "size": 10,
              "solidity": 0.2
             }
            },
            "type": "bar"
           }
          ],
          "barpolar": [
           {
            "marker": {
             "line": {
              "color": "white",
              "width": 0.5
             },
             "pattern": {
              "fillmode": "overlay",
              "size": 10,
              "solidity": 0.2
             }
            },
            "type": "barpolar"
           }
          ],
          "carpet": [
           {
            "aaxis": {
             "endlinecolor": "#2a3f5f",
             "gridcolor": "#C8D4E3",
             "linecolor": "#C8D4E3",
             "minorgridcolor": "#C8D4E3",
             "startlinecolor": "#2a3f5f"
            },
            "baxis": {
             "endlinecolor": "#2a3f5f",
             "gridcolor": "#C8D4E3",
             "linecolor": "#C8D4E3",
             "minorgridcolor": "#C8D4E3",
             "startlinecolor": "#2a3f5f"
            },
            "type": "carpet"
           }
          ],
          "choropleth": [
           {
            "colorbar": {
             "outlinewidth": 0,
             "ticks": ""
            },
            "type": "choropleth"
           }
          ],
          "contour": [
           {
            "colorbar": {
             "outlinewidth": 0,
             "ticks": ""
            },
            "colorscale": [
             [
              0,
              "#0d0887"
             ],
             [
              0.1111111111111111,
              "#46039f"
             ],
             [
              0.2222222222222222,
              "#7201a8"
             ],
             [
              0.3333333333333333,
              "#9c179e"
             ],
             [
              0.4444444444444444,
              "#bd3786"
             ],
             [
              0.5555555555555556,
              "#d8576b"
             ],
             [
              0.6666666666666666,
              "#ed7953"
             ],
             [
              0.7777777777777778,
              "#fb9f3a"
             ],
             [
              0.8888888888888888,
              "#fdca26"
             ],
             [
              1,
              "#f0f921"
             ]
            ],
            "type": "contour"
           }
          ],
          "contourcarpet": [
           {
            "colorbar": {
             "outlinewidth": 0,
             "ticks": ""
            },
            "type": "contourcarpet"
           }
          ],
          "heatmap": [
           {
            "colorbar": {
             "outlinewidth": 0,
             "ticks": ""
            },
            "colorscale": [
             [
              0,
              "#0d0887"
             ],
             [
              0.1111111111111111,
              "#46039f"
             ],
             [
              0.2222222222222222,
              "#7201a8"
             ],
             [
              0.3333333333333333,
              "#9c179e"
             ],
             [
              0.4444444444444444,
              "#bd3786"
             ],
             [
              0.5555555555555556,
              "#d8576b"
             ],
             [
              0.6666666666666666,
              "#ed7953"
             ],
             [
              0.7777777777777778,
              "#fb9f3a"
             ],
             [
              0.8888888888888888,
              "#fdca26"
             ],
             [
              1,
              "#f0f921"
             ]
            ],
            "type": "heatmap"
           }
          ],
          "histogram": [
           {
            "marker": {
             "pattern": {
              "fillmode": "overlay",
              "size": 10,
              "solidity": 0.2
             }
            },
            "type": "histogram"
           }
          ],
          "histogram2d": [
           {
            "colorbar": {
             "outlinewidth": 0,
             "ticks": ""
            },
            "colorscale": [
             [
              0,
              "#0d0887"
             ],
             [
              0.1111111111111111,
              "#46039f"
             ],
             [
              0.2222222222222222,
              "#7201a8"
             ],
             [
              0.3333333333333333,
              "#9c179e"
             ],
             [
              0.4444444444444444,
              "#bd3786"
             ],
             [
              0.5555555555555556,
              "#d8576b"
             ],
             [
              0.6666666666666666,
              "#ed7953"
             ],
             [
              0.7777777777777778,
              "#fb9f3a"
             ],
             [
              0.8888888888888888,
              "#fdca26"
             ],
             [
              1,
              "#f0f921"
             ]
            ],
            "type": "histogram2d"
           }
          ],
          "histogram2dcontour": [
           {
            "colorbar": {
             "outlinewidth": 0,
             "ticks": ""
            },
            "colorscale": [
             [
              0,
              "#0d0887"
             ],
             [
              0.1111111111111111,
              "#46039f"
             ],
             [
              0.2222222222222222,
              "#7201a8"
             ],
             [
              0.3333333333333333,
              "#9c179e"
             ],
             [
              0.4444444444444444,
              "#bd3786"
             ],
             [
              0.5555555555555556,
              "#d8576b"
             ],
             [
              0.6666666666666666,
              "#ed7953"
             ],
             [
              0.7777777777777778,
              "#fb9f3a"
             ],
             [
              0.8888888888888888,
              "#fdca26"
             ],
             [
              1,
              "#f0f921"
             ]
            ],
            "type": "histogram2dcontour"
           }
          ],
          "mesh3d": [
           {
            "colorbar": {
             "outlinewidth": 0,
             "ticks": ""
            },
            "type": "mesh3d"
           }
          ],
          "parcoords": [
           {
            "line": {
             "colorbar": {
              "outlinewidth": 0,
              "ticks": ""
             }
            },
            "type": "parcoords"
           }
          ],
          "pie": [
           {
            "automargin": true,
            "type": "pie"
           }
          ],
          "scatter": [
           {
            "fillpattern": {
             "fillmode": "overlay",
             "size": 10,
             "solidity": 0.2
            },
            "type": "scatter"
           }
          ],
          "scatter3d": [
           {
            "line": {
             "colorbar": {
              "outlinewidth": 0,
              "ticks": ""
             }
            },
            "marker": {
             "colorbar": {
              "outlinewidth": 0,
              "ticks": ""
             }
            },
            "type": "scatter3d"
           }
          ],
          "scattercarpet": [
           {
            "marker": {
             "colorbar": {
              "outlinewidth": 0,
              "ticks": ""
             }
            },
            "type": "scattercarpet"
           }
          ],
          "scattergeo": [
           {
            "marker": {
             "colorbar": {
              "outlinewidth": 0,
              "ticks": ""
             }
            },
            "type": "scattergeo"
           }
          ],
          "scattergl": [
           {
            "marker": {
             "colorbar": {
              "outlinewidth": 0,
              "ticks": ""
             }
            },
            "type": "scattergl"
           }
          ],
          "scattermap": [
           {
            "marker": {
             "colorbar": {
              "outlinewidth": 0,
              "ticks": ""
             }
            },
            "type": "scattermap"
           }
          ],
          "scattermapbox": [
           {
            "marker": {
             "colorbar": {
              "outlinewidth": 0,
              "ticks": ""
             }
            },
            "type": "scattermapbox"
           }
          ],
          "scatterpolar": [
           {
            "marker": {
             "colorbar": {
              "outlinewidth": 0,
              "ticks": ""
             }
            },
            "type": "scatterpolar"
           }
          ],
          "scatterpolargl": [
           {
            "marker": {
             "colorbar": {
              "outlinewidth": 0,
              "ticks": ""
             }
            },
            "type": "scatterpolargl"
           }
          ],
          "scatterternary": [
           {
            "marker": {
             "colorbar": {
              "outlinewidth": 0,
              "ticks": ""
             }
            },
            "type": "scatterternary"
           }
          ],
          "surface": [
           {
            "colorbar": {
             "outlinewidth": 0,
             "ticks": ""
            },
            "colorscale": [
             [
              0,
              "#0d0887"
             ],
             [
              0.1111111111111111,
              "#46039f"
             ],
             [
              0.2222222222222222,
              "#7201a8"
             ],
             [
              0.3333333333333333,
              "#9c179e"
             ],
             [
              0.4444444444444444,
              "#bd3786"
             ],
             [
              0.5555555555555556,
              "#d8576b"
             ],
             [
              0.6666666666666666,
              "#ed7953"
             ],
             [
              0.7777777777777778,
              "#fb9f3a"
             ],
             [
              0.8888888888888888,
              "#fdca26"
             ],
             [
              1,
              "#f0f921"
             ]
            ],
            "type": "surface"
           }
          ],
          "table": [
           {
            "cells": {
             "fill": {
              "color": "#EBF0F8"
             },
             "line": {
              "color": "white"
             }
            },
            "header": {
             "fill": {
              "color": "#C8D4E3"
             },
             "line": {
              "color": "white"
             }
            },
            "type": "table"
           }
          ]
         },
         "layout": {
          "annotationdefaults": {
           "arrowcolor": "#2a3f5f",
           "arrowhead": 0,
           "arrowwidth": 1
          },
          "autotypenumbers": "strict",
          "coloraxis": {
           "colorbar": {
            "outlinewidth": 0,
            "ticks": ""
           }
          },
          "colorscale": {
           "diverging": [
            [
             0,
             "#8e0152"
            ],
            [
             0.1,
             "#c51b7d"
            ],
            [
             0.2,
             "#de77ae"
            ],
            [
             0.3,
             "#f1b6da"
            ],
            [
             0.4,
             "#fde0ef"
            ],
            [
             0.5,
             "#f7f7f7"
            ],
            [
             0.6,
             "#e6f5d0"
            ],
            [
             0.7,
             "#b8e186"
            ],
            [
             0.8,
             "#7fbc41"
            ],
            [
             0.9,
             "#4d9221"
            ],
            [
             1,
             "#276419"
            ]
           ],
           "sequential": [
            [
             0,
             "#0d0887"
            ],
            [
             0.1111111111111111,
             "#46039f"
            ],
            [
             0.2222222222222222,
             "#7201a8"
            ],
            [
             0.3333333333333333,
             "#9c179e"
            ],
            [
             0.4444444444444444,
             "#bd3786"
            ],
            [
             0.5555555555555556,
             "#d8576b"
            ],
            [
             0.6666666666666666,
             "#ed7953"
            ],
            [
             0.7777777777777778,
             "#fb9f3a"
            ],
            [
             0.8888888888888888,
             "#fdca26"
            ],
            [
             1,
             "#f0f921"
            ]
           ],
           "sequentialminus": [
            [
             0,
             "#0d0887"
            ],
            [
             0.1111111111111111,
             "#46039f"
            ],
            [
             0.2222222222222222,
             "#7201a8"
            ],
            [
             0.3333333333333333,
             "#9c179e"
            ],
            [
             0.4444444444444444,
             "#bd3786"
            ],
            [
             0.5555555555555556,
             "#d8576b"
            ],
            [
             0.6666666666666666,
             "#ed7953"
            ],
            [
             0.7777777777777778,
             "#fb9f3a"
            ],
            [
             0.8888888888888888,
             "#fdca26"
            ],
            [
             1,
             "#f0f921"
            ]
           ]
          },
          "colorway": [
           "#636efa",
           "#EF553B",
           "#00cc96",
           "#ab63fa",
           "#FFA15A",
           "#19d3f3",
           "#FF6692",
           "#B6E880",
           "#FF97FF",
           "#FECB52"
          ],
          "font": {
           "color": "#2a3f5f"
          },
          "geo": {
           "bgcolor": "white",
           "lakecolor": "white",
           "landcolor": "white",
           "showlakes": true,
           "showland": true,
           "subunitcolor": "#C8D4E3"
          },
          "hoverlabel": {
           "align": "left"
          },
          "hovermode": "closest",
          "mapbox": {
           "style": "light"
          },
          "paper_bgcolor": "white",
          "plot_bgcolor": "white",
          "polar": {
           "angularaxis": {
            "gridcolor": "#EBF0F8",
            "linecolor": "#EBF0F8",
            "ticks": ""
           },
           "bgcolor": "white",
           "radialaxis": {
            "gridcolor": "#EBF0F8",
            "linecolor": "#EBF0F8",
            "ticks": ""
           }
          },
          "scene": {
           "xaxis": {
            "backgroundcolor": "white",
            "gridcolor": "#DFE8F3",
            "gridwidth": 2,
            "linecolor": "#EBF0F8",
            "showbackground": true,
            "ticks": "",
            "zerolinecolor": "#EBF0F8"
           },
           "yaxis": {
            "backgroundcolor": "white",
            "gridcolor": "#DFE8F3",
            "gridwidth": 2,
            "linecolor": "#EBF0F8",
            "showbackground": true,
            "ticks": "",
            "zerolinecolor": "#EBF0F8"
           },
           "zaxis": {
            "backgroundcolor": "white",
            "gridcolor": "#DFE8F3",
            "gridwidth": 2,
            "linecolor": "#EBF0F8",
            "showbackground": true,
            "ticks": "",
            "zerolinecolor": "#EBF0F8"
           }
          },
          "shapedefaults": {
           "line": {
            "color": "#2a3f5f"
           }
          },
          "ternary": {
           "aaxis": {
            "gridcolor": "#DFE8F3",
            "linecolor": "#A2B1C6",
            "ticks": ""
           },
           "baxis": {
            "gridcolor": "#DFE8F3",
            "linecolor": "#A2B1C6",
            "ticks": ""
           },
           "bgcolor": "white",
           "caxis": {
            "gridcolor": "#DFE8F3",
            "linecolor": "#A2B1C6",
            "ticks": ""
           }
          },
          "title": {
           "x": 0.05
          },
          "xaxis": {
           "automargin": true,
           "gridcolor": "#EBF0F8",
           "linecolor": "#EBF0F8",
           "ticks": "",
           "title": {
            "standoff": 15
           },
           "zerolinecolor": "#EBF0F8",
           "zerolinewidth": 2
          },
          "yaxis": {
           "automargin": true,
           "gridcolor": "#EBF0F8",
           "linecolor": "#EBF0F8",
           "ticks": "",
           "title": {
            "standoff": 15
           },
           "zerolinecolor": "#EBF0F8",
           "zerolinewidth": 2
          }
         }
        },
        "title": {
         "text": "<b>Vehicle fleet stock and flow in ON by vehicle class (3 lifetime classes)</b>",
         "x": 0.08,
         "xanchor": "left",
         "y": 0.94,
         "yanchor": "top"
        },
        "width": 1200,
        "xaxis": {
         "anchor": "y",
         "categoryarray": [
          "new capacity",
          "retired cap"
         ],
         "categoryorder": "array",
         "domain": [
          0,
          0.14666666666666667
         ],
         "showticklabels": false,
         "title": {
          "text": ""
         }
        },
        "xaxis10": {
         "anchor": "y10",
         "domain": [
          0.5,
          0.6466666666666667
         ],
         "matches": "x",
         "showticklabels": false,
         "title": {
          "text": ""
         }
        },
        "xaxis11": {
         "anchor": "y11",
         "domain": [
          0.6666666666666666,
          0.8133333333333332
         ],
         "matches": "x",
         "showticklabels": false,
         "title": {
          "text": ""
         }
        },
        "xaxis12": {
         "anchor": "y12",
         "domain": [
          0.8333333333333334,
          0.98
         ],
         "matches": "x",
         "showticklabels": false,
         "title": {
          "text": ""
         }
        },
        "xaxis2": {
         "anchor": "y2",
         "categoryarray": [
          "new capacity",
          "retired cap"
         ],
         "categoryorder": "array",
         "domain": [
          0.16666666666666666,
          0.31333333333333335
         ],
         "matches": "x",
         "showticklabels": false,
         "title": {
          "text": ""
         }
        },
        "xaxis3": {
         "anchor": "y3",
         "categoryarray": [
          "new capacity",
          "retired cap"
         ],
         "categoryorder": "array",
         "domain": [
          0.3333333333333333,
          0.48
         ],
         "matches": "x",
         "showticklabels": false,
         "title": {
          "text": ""
         }
        },
        "xaxis4": {
         "anchor": "y4",
         "categoryarray": [
          "new capacity",
          "retired cap"
         ],
         "categoryorder": "array",
         "domain": [
          0.5,
          0.6466666666666667
         ],
         "matches": "x",
         "showticklabels": false,
         "title": {
          "text": ""
         }
        },
        "xaxis5": {
         "anchor": "y5",
         "categoryarray": [
          "new capacity",
          "retired cap"
         ],
         "categoryorder": "array",
         "domain": [
          0.6666666666666666,
          0.8133333333333332
         ],
         "matches": "x",
         "showticklabels": false,
         "title": {
          "text": ""
         }
        },
        "xaxis6": {
         "anchor": "y6",
         "categoryarray": [
          "new capacity",
          "retired cap"
         ],
         "categoryorder": "array",
         "domain": [
          0.8333333333333334,
          0.98
         ],
         "matches": "x",
         "showticklabels": false,
         "title": {
          "text": ""
         }
        },
        "xaxis7": {
         "anchor": "y7",
         "domain": [
          0,
          0.14666666666666667
         ],
         "matches": "x",
         "showticklabels": false,
         "title": {
          "text": ""
         }
        },
        "xaxis8": {
         "anchor": "y8",
         "domain": [
          0.16666666666666666,
          0.31333333333333335
         ],
         "matches": "x",
         "showticklabels": false,
         "title": {
          "text": ""
         }
        },
        "xaxis9": {
         "anchor": "y9",
         "domain": [
          0.3333333333333333,
          0.48
         ],
         "matches": "x",
         "showticklabels": false,
         "title": {
          "text": ""
         }
        },
        "yaxis": {
         "anchor": "x",
         "domain": [
          0,
          0.48
         ],
         "matches": "y",
         "nticks": 8,
         "tickformat": "~s",
         "title": {
          "standoff": 0,
          "text": ""
         },
         "zeroline": true,
         "zerolinecolor": "black"
        },
        "yaxis10": {
         "anchor": "x10",
         "domain": [
          0.52,
          1
         ],
         "matches": "y8",
         "nticks": 8,
         "showticklabels": false,
         "tickformat": "~s",
         "title": {
          "text": ""
         },
         "zeroline": true,
         "zerolinecolor": "black"
        },
        "yaxis11": {
         "anchor": "x11",
         "domain": [
          0.52,
          1
         ],
         "matches": "y8",
         "nticks": 8,
         "showticklabels": false,
         "tickformat": "~s",
         "title": {
          "text": ""
         },
         "zeroline": true,
         "zerolinecolor": "black"
        },
        "yaxis12": {
         "anchor": "x12",
         "domain": [
          0.52,
          1
         ],
         "matches": "y8",
         "nticks": 8,
         "showticklabels": false,
         "tickformat": "~s",
         "title": {
          "text": ""
         },
         "zeroline": true,
         "zerolinecolor": "black"
        },
        "yaxis2": {
         "anchor": "x2",
         "domain": [
          0,
          0.48
         ],
         "matches": "y",
         "nticks": 8,
         "showticklabels": false,
         "tickformat": "~s",
         "title": {
          "text": ""
         },
         "zeroline": true,
         "zerolinecolor": "black"
        },
        "yaxis3": {
         "anchor": "x3",
         "domain": [
          0,
          0.48
         ],
         "matches": "y",
         "nticks": 8,
         "showticklabels": false,
         "tickformat": "~s",
         "title": {
          "text": ""
         },
         "zeroline": true,
         "zerolinecolor": "black"
        },
        "yaxis4": {
         "anchor": "x4",
         "domain": [
          0,
          0.48
         ],
         "matches": "y",
         "nticks": 8,
         "showticklabels": false,
         "tickformat": "~s",
         "title": {
          "text": ""
         },
         "zeroline": true,
         "zerolinecolor": "black"
        },
        "yaxis5": {
         "anchor": "x5",
         "domain": [
          0,
          0.48
         ],
         "matches": "y",
         "nticks": 8,
         "showticklabels": false,
         "tickformat": "~s",
         "title": {
          "text": ""
         },
         "zeroline": true,
         "zerolinecolor": "black"
        },
        "yaxis6": {
         "anchor": "x6",
         "domain": [
          0,
          0.48
         ],
         "matches": "y",
         "nticks": 8,
         "showticklabels": false,
         "tickformat": "~s",
         "title": {
          "text": ""
         },
         "zeroline": true,
         "zerolinecolor": "black"
        },
        "yaxis7": {
         "anchor": "x7",
         "domain": [
          0.52,
          1
         ],
         "matches": "y8",
         "nticks": 8,
         "tickformat": "~s",
         "title": {
          "text": ""
         },
         "zeroline": true,
         "zerolinecolor": "black"
        },
        "yaxis8": {
         "anchor": "x8",
         "domain": [
          0.52,
          1
         ],
         "matches": "y8",
         "nticks": 8,
         "showticklabels": false,
         "tickformat": "~s",
         "title": {
          "text": ""
         },
         "zeroline": true,
         "zerolinecolor": "black"
        },
        "yaxis9": {
         "anchor": "x9",
         "domain": [
          0.52,
          1
         ],
         "matches": "y8",
         "nticks": 8,
         "showticklabels": false,
         "tickformat": "~s",
         "title": {
          "text": ""
         },
         "zeroline": true,
         "zerolinecolor": "black"
        }
       }
      }
     },
     "metadata": {},
     "output_type": "display_data"
    }
   ],
   "source": [
    "plot_capacity_flow(db_variant='life_3', \n",
    "                   scenario='life_3',\n",
    "                   modes=['LD Truck', 'HD Truck'],\n",
    "                   cap_types=['new capacity', 'retired cap'], \n",
    "                #    lifetime_classes='yes',\n",
    "                   scenario_title='3 lifetime classes')"
   ]
  },
  {
   "cell_type": "code",
   "execution_count": 116,
   "metadata": {},
   "outputs": [
    {
     "data": {
      "application/vnd.plotly.v1+json": {
       "config": {
        "plotlyServerURL": "https://plot.ly"
       },
       "data": [
        {
         "hovertemplate": "fuel=Gasoline<br>cap type=%{x}<br>mode=LD Truck<br>vintage=2025<br>capacity=%{y}<extra></extra>",
         "legendgroup": "Gasoline, retired cap",
         "marker": {
          "color": "red",
          "pattern": {
           "shape": "/"
          }
         },
         "name": "Gasoline",
         "orientation": "v",
         "showlegend": true,
         "textfont": {
          "size": 11
         },
         "textposition": "auto",
         "texttemplate": "%{y:.2s}",
         "type": "bar",
         "x": [
          "retired cap"
         ],
         "xaxis": "x7",
         "y": {
          "bdata": "AAAAAPzZIME=",
          "dtype": "f8"
         },
         "yaxis": "y7"
        },
        {
         "hovertemplate": "fuel=Gasoline<br>cap type=%{x}<br>mode=LD Truck<br>vintage=2030<br>capacity=%{y}<extra></extra>",
         "legendgroup": "Gasoline, retired cap",
         "marker": {
          "color": "red",
          "pattern": {
           "shape": "/"
          }
         },
         "name": "Gasoline",
         "orientation": "v",
         "showlegend": false,
         "textfont": {
          "size": 11
         },
         "textposition": "auto",
         "texttemplate": "%{y:.2s}",
         "type": "bar",
         "x": [
          "retired cap"
         ],
         "xaxis": "x8",
         "y": {
          "bdata": "AAAAAF5fMME=",
          "dtype": "f8"
         },
         "yaxis": "y8"
        },
        {
         "hovertemplate": "fuel=Gasoline<br>cap type=%{x}<br>mode=LD Truck<br>vintage=2035<br>capacity=%{y}<extra></extra>",
         "legendgroup": "Gasoline, retired cap",
         "marker": {
          "color": "red",
          "pattern": {
           "shape": "/"
          }
         },
         "name": "Gasoline",
         "orientation": "v",
         "showlegend": false,
         "textfont": {
          "size": 11
         },
         "textposition": "auto",
         "texttemplate": "%{y:.2s}",
         "type": "bar",
         "x": [
          "retired cap"
         ],
         "xaxis": "x9",
         "y": {
          "bdata": "AAAAAGzwMcE=",
          "dtype": "f8"
         },
         "yaxis": "y9"
        },
        {
         "hovertemplate": "fuel=Gasoline<br>cap type=%{x}<br>mode=LD Truck<br>vintage=2040<br>capacity=%{y}<extra></extra>",
         "legendgroup": "Gasoline, retired cap",
         "marker": {
          "color": "red",
          "pattern": {
           "shape": "/"
          }
         },
         "name": "Gasoline",
         "orientation": "v",
         "showlegend": false,
         "textfont": {
          "size": 11
         },
         "textposition": "auto",
         "texttemplate": "%{y:.2s}",
         "type": "bar",
         "x": [
          "retired cap"
         ],
         "xaxis": "x10",
         "y": {
          "bdata": "AAAAAKCgLsE=",
          "dtype": "f8"
         },
         "yaxis": "y10"
        },
        {
         "hovertemplate": "fuel=Gasoline<br>cap type=%{x}<br>mode=LD Truck<br>vintage=2045<br>capacity=%{y}<extra></extra>",
         "legendgroup": "Gasoline, retired cap",
         "marker": {
          "color": "red",
          "pattern": {
           "shape": "/"
          }
         },
         "name": "Gasoline",
         "orientation": "v",
         "showlegend": false,
         "textfont": {
          "size": 11
         },
         "textposition": "auto",
         "texttemplate": "%{y:.2s}",
         "type": "bar",
         "x": [
          "retired cap"
         ],
         "xaxis": "x11",
         "y": {
          "bdata": "AAAAAHhJFsE=",
          "dtype": "f8"
         },
         "yaxis": "y11"
        },
        {
         "hovertemplate": "fuel=Gasoline<br>cap type=%{x}<br>mode=LD Truck<br>vintage=2050<br>capacity=%{y}<extra></extra>",
         "legendgroup": "Gasoline, retired cap",
         "marker": {
          "color": "red",
          "pattern": {
           "shape": "/"
          }
         },
         "name": "Gasoline",
         "orientation": "v",
         "showlegend": false,
         "textfont": {
          "size": 11
         },
         "textposition": "auto",
         "texttemplate": "%{y:.2s}",
         "type": "bar",
         "x": [
          "retired cap"
         ],
         "xaxis": "x12",
         "y": {
          "bdata": "AAAAAADVBsE=",
          "dtype": "f8"
         },
         "yaxis": "y12"
        },
        {
         "hovertemplate": "fuel=Diesel<br>cap type=%{x}<br>mode=LD Truck<br>vintage=2025<br>capacity=%{y}<extra></extra>",
         "legendgroup": "Diesel, retired cap",
         "marker": {
          "color": "brown",
          "pattern": {
           "shape": "/"
          }
         },
         "name": "Diesel",
         "orientation": "v",
         "showlegend": true,
         "textfont": {
          "size": 11
         },
         "textposition": "auto",
         "texttemplate": "%{y:.2s}",
         "type": "bar",
         "x": [
          "retired cap"
         ],
         "xaxis": "x7",
         "y": {
          "bdata": "AAAAAID42MA=",
          "dtype": "f8"
         },
         "yaxis": "y7"
        },
        {
         "hovertemplate": "fuel=Diesel<br>cap type=%{x}<br>mode=HD Truck<br>vintage=2025<br>capacity=%{y}<extra></extra>",
         "legendgroup": "Diesel, retired cap",
         "marker": {
          "color": "brown",
          "pattern": {
           "shape": "/"
          }
         },
         "name": "Diesel",
         "orientation": "v",
         "showlegend": false,
         "textfont": {
          "size": 11
         },
         "textposition": "auto",
         "texttemplate": "%{y:.2s}",
         "type": "bar",
         "x": [
          "retired cap"
         ],
         "xaxis": "x",
         "y": {
          "bdata": "AAAAAICI0MA=",
          "dtype": "f8"
         },
         "yaxis": "y"
        },
        {
         "hovertemplate": "fuel=Diesel<br>cap type=%{x}<br>mode=LD Truck<br>vintage=2030<br>capacity=%{y}<extra></extra>",
         "legendgroup": "Diesel, retired cap",
         "marker": {
          "color": "brown",
          "pattern": {
           "shape": "/"
          }
         },
         "name": "Diesel",
         "orientation": "v",
         "showlegend": false,
         "textfont": {
          "size": 11
         },
         "textposition": "auto",
         "texttemplate": "%{y:.2s}",
         "type": "bar",
         "x": [
          "retired cap"
         ],
         "xaxis": "x8",
         "y": {
          "bdata": "AAAAAEAU5cA=",
          "dtype": "f8"
         },
         "yaxis": "y8"
        },
        {
         "hovertemplate": "fuel=Diesel<br>cap type=%{x}<br>mode=HD Truck<br>vintage=2030<br>capacity=%{y}<extra></extra>",
         "legendgroup": "Diesel, retired cap",
         "marker": {
          "color": "brown",
          "pattern": {
           "shape": "/"
          }
         },
         "name": "Diesel",
         "orientation": "v",
         "showlegend": false,
         "textfont": {
          "size": 11
         },
         "textposition": "auto",
         "texttemplate": "%{y:.2s}",
         "type": "bar",
         "x": [
          "retired cap"
         ],
         "xaxis": "x2",
         "y": {
          "bdata": "AAAAAIDz08A=",
          "dtype": "f8"
         },
         "yaxis": "y2"
        },
        {
         "hovertemplate": "fuel=Diesel<br>cap type=%{x}<br>mode=LD Truck<br>vintage=2035<br>capacity=%{y}<extra></extra>",
         "legendgroup": "Diesel, retired cap",
         "marker": {
          "color": "brown",
          "pattern": {
           "shape": "/"
          }
         },
         "name": "Diesel",
         "orientation": "v",
         "showlegend": false,
         "textfont": {
          "size": 11
         },
         "textposition": "auto",
         "texttemplate": "%{y:.2s}",
         "type": "bar",
         "x": [
          "retired cap"
         ],
         "xaxis": "x9",
         "y": {
          "bdata": "AAAAAAAr68A=",
          "dtype": "f8"
         },
         "yaxis": "y9"
        },
        {
         "hovertemplate": "fuel=Diesel<br>cap type=%{x}<br>mode=HD Truck<br>vintage=2035<br>capacity=%{y}<extra></extra>",
         "legendgroup": "Diesel, retired cap",
         "marker": {
          "color": "brown",
          "pattern": {
           "shape": "/"
          }
         },
         "name": "Diesel",
         "orientation": "v",
         "showlegend": false,
         "textfont": {
          "size": 11
         },
         "textposition": "auto",
         "texttemplate": "%{y:.2s}",
         "type": "bar",
         "x": [
          "retired cap"
         ],
         "xaxis": "x3",
         "y": {
          "bdata": "AAAAAABZ1cA=",
          "dtype": "f8"
         },
         "yaxis": "y3"
        },
        {
         "hovertemplate": "fuel=Diesel<br>cap type=%{x}<br>mode=LD Truck<br>vintage=2040<br>capacity=%{y}<extra></extra>",
         "legendgroup": "Diesel, retired cap",
         "marker": {
          "color": "brown",
          "pattern": {
           "shape": "/"
          }
         },
         "name": "Diesel",
         "orientation": "v",
         "showlegend": false,
         "textfont": {
          "size": 11
         },
         "textposition": "auto",
         "texttemplate": "%{y:.2s}",
         "type": "bar",
         "x": [
          "retired cap"
         ],
         "xaxis": "x10",
         "y": {
          "bdata": "AAAAAEC76MA=",
          "dtype": "f8"
         },
         "yaxis": "y10"
        },
        {
         "hovertemplate": "fuel=Diesel<br>cap type=%{x}<br>mode=HD Truck<br>vintage=2040<br>capacity=%{y}<extra></extra>",
         "legendgroup": "Diesel, retired cap",
         "marker": {
          "color": "brown",
          "pattern": {
           "shape": "/"
          }
         },
         "name": "Diesel",
         "orientation": "v",
         "showlegend": false,
         "textfont": {
          "size": 11
         },
         "textposition": "auto",
         "texttemplate": "%{y:.2s}",
         "type": "bar",
         "x": [
          "retired cap"
         ],
         "xaxis": "x4",
         "y": {
          "bdata": "AAAAAICE2cA=",
          "dtype": "f8"
         },
         "yaxis": "y4"
        },
        {
         "hovertemplate": "fuel=Diesel<br>cap type=%{x}<br>mode=LD Truck<br>vintage=2045<br>capacity=%{y}<extra></extra>",
         "legendgroup": "Diesel, retired cap",
         "marker": {
          "color": "brown",
          "pattern": {
           "shape": "/"
          }
         },
         "name": "Diesel",
         "orientation": "v",
         "showlegend": false,
         "textfont": {
          "size": 11
         },
         "textposition": "auto",
         "texttemplate": "%{y:.2s}",
         "type": "bar",
         "x": [
          "retired cap"
         ],
         "xaxis": "x11",
         "y": {
          "bdata": "AAAAAIAp0MA=",
          "dtype": "f8"
         },
         "yaxis": "y11"
        },
        {
         "hovertemplate": "fuel=Diesel<br>cap type=%{x}<br>mode=HD Truck<br>vintage=2045<br>capacity=%{y}<extra></extra>",
         "legendgroup": "Diesel, retired cap",
         "marker": {
          "color": "brown",
          "pattern": {
           "shape": "/"
          }
         },
         "name": "Diesel",
         "orientation": "v",
         "showlegend": false,
         "textfont": {
          "size": 11
         },
         "textposition": "auto",
         "texttemplate": "%{y:.2s}",
         "type": "bar",
         "x": [
          "retired cap"
         ],
         "xaxis": "x5",
         "y": {
          "bdata": "AAAAAABCvcA=",
          "dtype": "f8"
         },
         "yaxis": "y5"
        },
        {
         "hovertemplate": "fuel=Diesel<br>cap type=%{x}<br>mode=LD Truck<br>vintage=2050<br>capacity=%{y}<extra></extra>",
         "legendgroup": "Diesel, retired cap",
         "marker": {
          "color": "brown",
          "pattern": {
           "shape": "/"
          }
         },
         "name": "Diesel",
         "orientation": "v",
         "showlegend": false,
         "textfont": {
          "size": 11
         },
         "textposition": "auto",
         "texttemplate": "%{y:.2s}",
         "type": "bar",
         "x": [
          "retired cap"
         ],
         "xaxis": "x12",
         "y": {
          "bdata": "AAAAAACewcA=",
          "dtype": "f8"
         },
         "yaxis": "y12"
        },
        {
         "hovertemplate": "fuel=Diesel<br>cap type=%{x}<br>mode=HD Truck<br>vintage=2050<br>capacity=%{y}<extra></extra>",
         "legendgroup": "Diesel, retired cap",
         "marker": {
          "color": "brown",
          "pattern": {
           "shape": "/"
          }
         },
         "name": "Diesel",
         "orientation": "v",
         "showlegend": false,
         "textfont": {
          "size": 11
         },
         "textposition": "auto",
         "texttemplate": "%{y:.2s}",
         "type": "bar",
         "x": [
          "retired cap"
         ],
         "xaxis": "x6",
         "y": {
          "bdata": "AAAAAAC4sMA=",
          "dtype": "f8"
         },
         "yaxis": "y6"
        },
        {
         "hovertemplate": "fuel=Hybrid<br>cap type=%{x}<br>mode=HD Truck<br>vintage=2025<br>capacity=%{y}<extra></extra>",
         "legendgroup": "Hybrid, new capacity",
         "marker": {
          "color": "darkorange",
          "pattern": {
           "shape": ""
          }
         },
         "name": "Hybrid",
         "orientation": "v",
         "showlegend": true,
         "textfont": {
          "size": 11
         },
         "textposition": "auto",
         "texttemplate": "%{y:.2s}",
         "type": "bar",
         "x": [
          "new capacity"
         ],
         "xaxis": "x",
         "y": {
          "bdata": "AAAAAABm0kA=",
          "dtype": "f8"
         },
         "yaxis": "y"
        },
        {
         "hovertemplate": "fuel=Hybrid<br>cap type=%{x}<br>mode=HD Truck<br>vintage=2030<br>capacity=%{y}<extra></extra>",
         "legendgroup": "Hybrid, new capacity",
         "marker": {
          "color": "darkorange",
          "pattern": {
           "shape": ""
          }
         },
         "name": "Hybrid",
         "orientation": "v",
         "showlegend": false,
         "textfont": {
          "size": 11
         },
         "textposition": "auto",
         "texttemplate": "%{y:.2s}",
         "type": "bar",
         "x": [
          "new capacity"
         ],
         "xaxis": "x2",
         "y": {
          "bdata": "AAAAAABJxkA=",
          "dtype": "f8"
         },
         "yaxis": "y2"
        },
        {
         "hovertemplate": "fuel=Hybrid<br>cap type=%{x}<br>mode=HD Truck<br>vintage=2035<br>capacity=%{y}<extra></extra>",
         "legendgroup": "Hybrid, new capacity",
         "marker": {
          "color": "darkorange",
          "pattern": {
           "shape": ""
          }
         },
         "name": "Hybrid",
         "orientation": "v",
         "showlegend": false,
         "textfont": {
          "size": 11
         },
         "textposition": "auto",
         "texttemplate": "%{y:.2s}",
         "type": "bar",
         "x": [
          "new capacity"
         ],
         "xaxis": "x3",
         "y": {
          "bdata": "AAAAAACnzEA=",
          "dtype": "f8"
         },
         "yaxis": "y3"
        },
        {
         "hovertemplate": "fuel=Hybrid<br>cap type=%{x}<br>mode=HD Truck<br>vintage=2040<br>capacity=%{y}<extra></extra>",
         "legendgroup": "Hybrid, new capacity",
         "marker": {
          "color": "darkorange",
          "pattern": {
           "shape": ""
          }
         },
         "name": "Hybrid",
         "orientation": "v",
         "showlegend": false,
         "textfont": {
          "size": 11
         },
         "textposition": "auto",
         "texttemplate": "%{y:.2s}",
         "type": "bar",
         "x": [
          "new capacity"
         ],
         "xaxis": "x4",
         "y": {
          "bdata": "AAAAAAAbx0A=",
          "dtype": "f8"
         },
         "yaxis": "y4"
        },
        {
         "hovertemplate": "fuel=Hybrid<br>cap type=%{x}<br>mode=HD Truck<br>vintage=2045<br>capacity=%{y}<extra></extra>",
         "legendgroup": "Hybrid, new capacity",
         "marker": {
          "color": "darkorange",
          "pattern": {
           "shape": ""
          }
         },
         "name": "Hybrid",
         "orientation": "v",
         "showlegend": false,
         "textfont": {
          "size": 11
         },
         "textposition": "auto",
         "texttemplate": "%{y:.2s}",
         "type": "bar",
         "x": [
          "new capacity"
         ],
         "xaxis": "x5",
         "y": {
          "bdata": "AAAAAAAFxEA=",
          "dtype": "f8"
         },
         "yaxis": "y5"
        },
        {
         "hovertemplate": "fuel=Hybrid<br>cap type=%{x}<br>mode=HD Truck<br>vintage=2050<br>capacity=%{y}<extra></extra>",
         "legendgroup": "Hybrid, new capacity",
         "marker": {
          "color": "darkorange",
          "pattern": {
           "shape": ""
          }
         },
         "name": "Hybrid",
         "orientation": "v",
         "showlegend": false,
         "textfont": {
          "size": 11
         },
         "textposition": "auto",
         "texttemplate": "%{y:.2s}",
         "type": "bar",
         "x": [
          "new capacity"
         ],
         "xaxis": "x6",
         "y": {
          "bdata": "AAAAAAC5yUA=",
          "dtype": "f8"
         },
         "yaxis": "y6"
        },
        {
         "hovertemplate": "fuel=Hybrid<br>cap type=%{x}<br>mode=LD Truck<br>vintage=2025<br>capacity=%{y}<extra></extra>",
         "legendgroup": "Hybrid, retired cap",
         "marker": {
          "color": "darkorange",
          "pattern": {
           "shape": "/"
          }
         },
         "name": "Hybrid",
         "orientation": "v",
         "showlegend": false,
         "textfont": {
          "size": 11
         },
         "textposition": "auto",
         "texttemplate": "%{y:.2s}",
         "type": "bar",
         "x": [
          "retired cap"
         ],
         "xaxis": "x7",
         "y": {
          "bdata": "AAAAAADYo8A=",
          "dtype": "f8"
         },
         "yaxis": "y7"
        },
        {
         "hovertemplate": "fuel=Hybrid<br>cap type=%{x}<br>mode=LD Truck<br>vintage=2030<br>capacity=%{y}<extra></extra>",
         "legendgroup": "Hybrid, retired cap",
         "marker": {
          "color": "darkorange",
          "pattern": {
           "shape": "/"
          }
         },
         "name": "Hybrid",
         "orientation": "v",
         "showlegend": false,
         "textfont": {
          "size": 11
         },
         "textposition": "auto",
         "texttemplate": "%{y:.2s}",
         "type": "bar",
         "x": [
          "retired cap"
         ],
         "xaxis": "x8",
         "y": {
          "bdata": "AAAAAADYo8A=",
          "dtype": "f8"
         },
         "yaxis": "y8"
        },
        {
         "hovertemplate": "fuel=Hybrid<br>cap type=%{x}<br>mode=HD Truck<br>vintage=2030<br>capacity=%{y}<extra></extra>",
         "legendgroup": "Hybrid, retired cap",
         "marker": {
          "color": "darkorange",
          "pattern": {
           "shape": "/"
          }
         },
         "name": "Hybrid",
         "orientation": "v",
         "showlegend": false,
         "textfont": {
          "size": 11
         },
         "textposition": "auto",
         "texttemplate": "%{y:.2s}",
         "type": "bar",
         "x": [
          "retired cap"
         ],
         "xaxis": "x2",
         "y": {
          "bdata": "AAAAAAB0o8A=",
          "dtype": "f8"
         },
         "yaxis": "y2"
        },
        {
         "hovertemplate": "fuel=Hybrid<br>cap type=%{x}<br>mode=LD Truck<br>vintage=2035<br>capacity=%{y}<extra></extra>",
         "legendgroup": "Hybrid, retired cap",
         "marker": {
          "color": "darkorange",
          "pattern": {
           "shape": "/"
          }
         },
         "name": "Hybrid",
         "orientation": "v",
         "showlegend": false,
         "textfont": {
          "size": 11
         },
         "textposition": "auto",
         "texttemplate": "%{y:.2s}",
         "type": "bar",
         "x": [
          "retired cap"
         ],
         "xaxis": "x9",
         "y": {
          "bdata": "AAAAAABkrsA=",
          "dtype": "f8"
         },
         "yaxis": "y9"
        },
        {
         "hovertemplate": "fuel=Hybrid<br>cap type=%{x}<br>mode=HD Truck<br>vintage=2035<br>capacity=%{y}<extra></extra>",
         "legendgroup": "Hybrid, retired cap",
         "marker": {
          "color": "darkorange",
          "pattern": {
           "shape": "/"
          }
         },
         "name": "Hybrid",
         "orientation": "v",
         "showlegend": false,
         "textfont": {
          "size": 11
         },
         "textposition": "auto",
         "texttemplate": "%{y:.2s}",
         "type": "bar",
         "x": [
          "retired cap"
         ],
         "xaxis": "x3",
         "y": {
          "bdata": "AAAAAACOssA=",
          "dtype": "f8"
         },
         "yaxis": "y3"
        },
        {
         "hovertemplate": "fuel=Hybrid<br>cap type=%{x}<br>mode=LD Truck<br>vintage=2040<br>capacity=%{y}<extra></extra>",
         "legendgroup": "Hybrid, retired cap",
         "marker": {
          "color": "darkorange",
          "pattern": {
           "shape": "/"
          }
         },
         "name": "Hybrid",
         "orientation": "v",
         "showlegend": false,
         "textfont": {
          "size": 11
         },
         "textposition": "auto",
         "texttemplate": "%{y:.2s}",
         "type": "bar",
         "x": [
          "retired cap"
         ],
         "xaxis": "x10",
         "y": {
          "bdata": "AAAAAACIvcA=",
          "dtype": "f8"
         },
         "yaxis": "y10"
        },
        {
         "hovertemplate": "fuel=Hybrid<br>cap type=%{x}<br>mode=HD Truck<br>vintage=2040<br>capacity=%{y}<extra></extra>",
         "legendgroup": "Hybrid, retired cap",
         "marker": {
          "color": "darkorange",
          "pattern": {
           "shape": "/"
          }
         },
         "name": "Hybrid",
         "orientation": "v",
         "showlegend": false,
         "textfont": {
          "size": 11
         },
         "textposition": "auto",
         "texttemplate": "%{y:.2s}",
         "type": "bar",
         "x": [
          "retired cap"
         ],
         "xaxis": "x4",
         "y": {
          "bdata": "AAAAAACyy8A=",
          "dtype": "f8"
         },
         "yaxis": "y4"
        },
        {
         "hovertemplate": "fuel=Hybrid<br>cap type=%{x}<br>mode=LD Truck<br>vintage=2045<br>capacity=%{y}<extra></extra>",
         "legendgroup": "Hybrid, retired cap",
         "marker": {
          "color": "darkorange",
          "pattern": {
           "shape": "/"
          }
         },
         "name": "Hybrid",
         "orientation": "v",
         "showlegend": false,
         "textfont": {
          "size": 11
         },
         "textposition": "auto",
         "texttemplate": "%{y:.2s}",
         "type": "bar",
         "x": [
          "retired cap"
         ],
         "xaxis": "x11",
         "y": {
          "bdata": "AAAAAADMoMA=",
          "dtype": "f8"
         },
         "yaxis": "y11"
        },
        {
         "hovertemplate": "fuel=Hybrid<br>cap type=%{x}<br>mode=HD Truck<br>vintage=2045<br>capacity=%{y}<extra></extra>",
         "legendgroup": "Hybrid, retired cap",
         "marker": {
          "color": "darkorange",
          "pattern": {
           "shape": "/"
          }
         },
         "name": "Hybrid",
         "orientation": "v",
         "showlegend": false,
         "textfont": {
          "size": 11
         },
         "textposition": "auto",
         "texttemplate": "%{y:.2s}",
         "type": "bar",
         "x": [
          "retired cap"
         ],
         "xaxis": "x5",
         "y": {
          "bdata": "AAAAAAD3x8A=",
          "dtype": "f8"
         },
         "yaxis": "y5"
        },
        {
         "hovertemplate": "fuel=Hybrid<br>cap type=%{x}<br>mode=LD Truck<br>vintage=2050<br>capacity=%{y}<extra></extra>",
         "legendgroup": "Hybrid, retired cap",
         "marker": {
          "color": "darkorange",
          "pattern": {
           "shape": "/"
          }
         },
         "name": "Hybrid",
         "orientation": "v",
         "showlegend": false,
         "textfont": {
          "size": 11
         },
         "textposition": "auto",
         "texttemplate": "%{y:.2s}",
         "type": "bar",
         "x": [
          "retired cap"
         ],
         "xaxis": "x12",
         "y": {
          "bdata": "AAAAAAAAecA=",
          "dtype": "f8"
         },
         "yaxis": "y12"
        },
        {
         "hovertemplate": "fuel=Hybrid<br>cap type=%{x}<br>mode=HD Truck<br>vintage=2050<br>capacity=%{y}<extra></extra>",
         "legendgroup": "Hybrid, retired cap",
         "marker": {
          "color": "darkorange",
          "pattern": {
           "shape": "/"
          }
         },
         "name": "Hybrid",
         "orientation": "v",
         "showlegend": false,
         "textfont": {
          "size": 11
         },
         "textposition": "auto",
         "texttemplate": "%{y:.2s}",
         "type": "bar",
         "x": [
          "retired cap"
         ],
         "xaxis": "x6",
         "y": {
          "bdata": "AAAAAAAoycA=",
          "dtype": "f8"
         },
         "yaxis": "y6"
        },
        {
         "hovertemplate": "fuel=PHEV (35-mile AER)<br>cap type=%{x}<br>mode=LD Truck<br>vintage=2025<br>capacity=%{y}<extra></extra>",
         "legendgroup": "PHEV (35-mile AER), new capacity",
         "marker": {
          "color": "dodgerblue",
          "pattern": {
           "shape": ""
          }
         },
         "name": "PHEV (35-mile AER)",
         "orientation": "v",
         "showlegend": true,
         "textfont": {
          "size": 11
         },
         "textposition": "auto",
         "texttemplate": "%{y:.2s}",
         "type": "bar",
         "x": [
          "new capacity"
         ],
         "xaxis": "x7",
         "y": {
          "bdata": "AAAAAACMvkA=",
          "dtype": "f8"
         },
         "yaxis": "y7"
        },
        {
         "hovertemplate": "fuel=PHEV (35-mile AER)<br>cap type=%{x}<br>mode=LD Truck<br>vintage=2030<br>capacity=%{y}<extra></extra>",
         "legendgroup": "PHEV (35-mile AER), new capacity",
         "marker": {
          "color": "dodgerblue",
          "pattern": {
           "shape": ""
          }
         },
         "name": "PHEV (35-mile AER)",
         "orientation": "v",
         "showlegend": false,
         "textfont": {
          "size": 11
         },
         "textposition": "auto",
         "texttemplate": "%{y:.2s}",
         "type": "bar",
         "x": [
          "new capacity"
         ],
         "xaxis": "x8",
         "y": {
          "bdata": "AAAAAAAitUA=",
          "dtype": "f8"
         },
         "yaxis": "y8"
        },
        {
         "hovertemplate": "fuel=PHEV (35-mile AER)<br>cap type=%{x}<br>mode=LD Truck<br>vintage=2035<br>capacity=%{y}<extra></extra>",
         "legendgroup": "PHEV (35-mile AER), new capacity",
         "marker": {
          "color": "dodgerblue",
          "pattern": {
           "shape": ""
          }
         },
         "name": "PHEV (35-mile AER)",
         "orientation": "v",
         "showlegend": false,
         "textfont": {
          "size": 11
         },
         "textposition": "auto",
         "texttemplate": "%{y:.2s}",
         "type": "bar",
         "x": [
          "new capacity"
         ],
         "xaxis": "x9",
         "y": {
          "bdata": "AAAAAADMtUA=",
          "dtype": "f8"
         },
         "yaxis": "y9"
        },
        {
         "hovertemplate": "fuel=PHEV (35-mile AER)<br>cap type=%{x}<br>mode=LD Truck<br>vintage=2040<br>capacity=%{y}<extra></extra>",
         "legendgroup": "PHEV (35-mile AER), new capacity",
         "marker": {
          "color": "dodgerblue",
          "pattern": {
           "shape": ""
          }
         },
         "name": "PHEV (35-mile AER)",
         "orientation": "v",
         "showlegend": false,
         "textfont": {
          "size": 11
         },
         "textposition": "auto",
         "texttemplate": "%{y:.2s}",
         "type": "bar",
         "x": [
          "new capacity"
         ],
         "xaxis": "x10",
         "y": {
          "bdata": "AAAAAAC8tkA=",
          "dtype": "f8"
         },
         "yaxis": "y10"
        },
        {
         "hovertemplate": "fuel=PHEV (35-mile AER)<br>cap type=%{x}<br>mode=LD Truck<br>vintage=2045<br>capacity=%{y}<extra></extra>",
         "legendgroup": "PHEV (35-mile AER), new capacity",
         "marker": {
          "color": "dodgerblue",
          "pattern": {
           "shape": ""
          }
         },
         "name": "PHEV (35-mile AER)",
         "orientation": "v",
         "showlegend": false,
         "textfont": {
          "size": 11
         },
         "textposition": "auto",
         "texttemplate": "%{y:.2s}",
         "type": "bar",
         "x": [
          "new capacity"
         ],
         "xaxis": "x11",
         "y": {
          "bdata": "AAAAAABwt0A=",
          "dtype": "f8"
         },
         "yaxis": "y11"
        },
        {
         "hovertemplate": "fuel=PHEV (35-mile AER)<br>cap type=%{x}<br>mode=LD Truck<br>vintage=2050<br>capacity=%{y}<extra></extra>",
         "legendgroup": "PHEV (35-mile AER), new capacity",
         "marker": {
          "color": "dodgerblue",
          "pattern": {
           "shape": ""
          }
         },
         "name": "PHEV (35-mile AER)",
         "orientation": "v",
         "showlegend": false,
         "textfont": {
          "size": 11
         },
         "textposition": "auto",
         "texttemplate": "%{y:.2s}",
         "type": "bar",
         "x": [
          "new capacity"
         ],
         "xaxis": "x12",
         "y": {
          "bdata": "AAAAAABUsEA=",
          "dtype": "f8"
         },
         "yaxis": "y12"
        },
        {
         "hovertemplate": "fuel=PHEV (35-mile AER)<br>cap type=%{x}<br>mode=LD Truck<br>vintage=2025<br>capacity=%{y}<extra></extra>",
         "legendgroup": "PHEV (35-mile AER), retired cap",
         "marker": {
          "color": "dodgerblue",
          "pattern": {
           "shape": "/"
          }
         },
         "name": "PHEV (35-mile AER)",
         "orientation": "v",
         "showlegend": false,
         "textfont": {
          "size": 11
         },
         "textposition": "auto",
         "texttemplate": "%{y:.2s}",
         "type": "bar",
         "x": [
          "retired cap"
         ],
         "xaxis": "x7",
         "y": {
          "bdata": "AAAAAABQhMA=",
          "dtype": "f8"
         },
         "yaxis": "y7"
        },
        {
         "hovertemplate": "fuel=PHEV (35-mile AER)<br>cap type=%{x}<br>mode=LD Truck<br>vintage=2030<br>capacity=%{y}<extra></extra>",
         "legendgroup": "PHEV (35-mile AER), retired cap",
         "marker": {
          "color": "dodgerblue",
          "pattern": {
           "shape": "/"
          }
         },
         "name": "PHEV (35-mile AER)",
         "orientation": "v",
         "showlegend": false,
         "textfont": {
          "size": 11
         },
         "textposition": "auto",
         "texttemplate": "%{y:.2s}",
         "type": "bar",
         "x": [
          "retired cap"
         ],
         "xaxis": "x8",
         "y": {
          "bdata": "AAAAAABO0cA=",
          "dtype": "f8"
         },
         "yaxis": "y8"
        },
        {
         "hovertemplate": "fuel=PHEV (35-mile AER)<br>cap type=%{x}<br>mode=LD Truck<br>vintage=2035<br>capacity=%{y}<extra></extra>",
         "legendgroup": "PHEV (35-mile AER), retired cap",
         "marker": {
          "color": "dodgerblue",
          "pattern": {
           "shape": "/"
          }
         },
         "name": "PHEV (35-mile AER)",
         "orientation": "v",
         "showlegend": false,
         "textfont": {
          "size": 11
         },
         "textposition": "auto",
         "texttemplate": "%{y:.2s}",
         "type": "bar",
         "x": [
          "retired cap"
         ],
         "xaxis": "x9",
         "y": {
          "bdata": "AAAAAEDc4MA=",
          "dtype": "f8"
         },
         "yaxis": "y9"
        },
        {
         "hovertemplate": "fuel=PHEV (35-mile AER)<br>cap type=%{x}<br>mode=LD Truck<br>vintage=2040<br>capacity=%{y}<extra></extra>",
         "legendgroup": "PHEV (35-mile AER), retired cap",
         "marker": {
          "color": "dodgerblue",
          "pattern": {
           "shape": "/"
          }
         },
         "name": "PHEV (35-mile AER)",
         "orientation": "v",
         "showlegend": false,
         "textfont": {
          "size": 11
         },
         "textposition": "auto",
         "texttemplate": "%{y:.2s}",
         "type": "bar",
         "x": [
          "retired cap"
         ],
         "xaxis": "x10",
         "y": {
          "bdata": "AAAAAEBn7MA=",
          "dtype": "f8"
         },
         "yaxis": "y10"
        },
        {
         "hovertemplate": "fuel=PHEV (35-mile AER)<br>cap type=%{x}<br>mode=LD Truck<br>vintage=2045<br>capacity=%{y}<extra></extra>",
         "legendgroup": "PHEV (35-mile AER), retired cap",
         "marker": {
          "color": "dodgerblue",
          "pattern": {
           "shape": "/"
          }
         },
         "name": "PHEV (35-mile AER)",
         "orientation": "v",
         "showlegend": false,
         "textfont": {
          "size": 11
         },
         "textposition": "auto",
         "texttemplate": "%{y:.2s}",
         "type": "bar",
         "x": [
          "retired cap"
         ],
         "xaxis": "x11",
         "y": {
          "bdata": "AAAAAIBl1cA=",
          "dtype": "f8"
         },
         "yaxis": "y11"
        },
        {
         "hovertemplate": "fuel=PHEV (35-mile AER)<br>cap type=%{x}<br>mode=LD Truck<br>vintage=2050<br>capacity=%{y}<extra></extra>",
         "legendgroup": "PHEV (35-mile AER), retired cap",
         "marker": {
          "color": "dodgerblue",
          "pattern": {
           "shape": "/"
          }
         },
         "name": "PHEV (35-mile AER)",
         "orientation": "v",
         "showlegend": false,
         "textfont": {
          "size": 11
         },
         "textposition": "auto",
         "texttemplate": "%{y:.2s}",
         "type": "bar",
         "x": [
          "retired cap"
         ],
         "xaxis": "x12",
         "y": {
          "bdata": "AAAAAABQtMA=",
          "dtype": "f8"
         },
         "yaxis": "y12"
        },
        {
         "hovertemplate": "fuel=BEV (150-mile AER)<br>cap type=%{x}<br>mode=LD Truck<br>vintage=2025<br>capacity=%{y}<extra></extra>",
         "legendgroup": "BEV (150-mile AER), new capacity",
         "marker": {
          "color": "limegreen",
          "pattern": {
           "shape": ""
          }
         },
         "name": "BEV (150-mile AER)",
         "orientation": "v",
         "showlegend": true,
         "textfont": {
          "size": 11
         },
         "textposition": "auto",
         "texttemplate": "%{y:.2s}",
         "type": "bar",
         "x": [
          "new capacity"
         ],
         "xaxis": "x7",
         "y": {
          "bdata": "AAAAAPjkPUE=",
          "dtype": "f8"
         },
         "yaxis": "y7"
        },
        {
         "hovertemplate": "fuel=BEV (150-mile AER)<br>cap type=%{x}<br>mode=LD Truck<br>vintage=2030<br>capacity=%{y}<extra></extra>",
         "legendgroup": "BEV (150-mile AER), new capacity",
         "marker": {
          "color": "limegreen",
          "pattern": {
           "shape": ""
          }
         },
         "name": "BEV (150-mile AER)",
         "orientation": "v",
         "showlegend": false,
         "textfont": {
          "size": 11
         },
         "textposition": "auto",
         "texttemplate": "%{y:.2s}",
         "type": "bar",
         "x": [
          "new capacity"
         ],
         "xaxis": "x8",
         "y": {
          "bdata": "AAAAAIbJOUE=",
          "dtype": "f8"
         },
         "yaxis": "y8"
        },
        {
         "hovertemplate": "fuel=BEV (150-mile AER)<br>cap type=%{x}<br>mode=LD Truck<br>vintage=2035<br>capacity=%{y}<extra></extra>",
         "legendgroup": "BEV (150-mile AER), new capacity",
         "marker": {
          "color": "limegreen",
          "pattern": {
           "shape": ""
          }
         },
         "name": "BEV (150-mile AER)",
         "orientation": "v",
         "showlegend": false,
         "textfont": {
          "size": 11
         },
         "textposition": "auto",
         "texttemplate": "%{y:.2s}",
         "type": "bar",
         "x": [
          "new capacity"
         ],
         "xaxis": "x9",
         "y": {
          "bdata": "AAAAAFA6QUE=",
          "dtype": "f8"
         },
         "yaxis": "y9"
        },
        {
         "hovertemplate": "fuel=BEV (150-mile AER)<br>cap type=%{x}<br>mode=LD Truck<br>vintage=2040<br>capacity=%{y}<extra></extra>",
         "legendgroup": "BEV (150-mile AER), new capacity",
         "marker": {
          "color": "limegreen",
          "pattern": {
           "shape": ""
          }
         },
         "name": "BEV (150-mile AER)",
         "orientation": "v",
         "showlegend": false,
         "textfont": {
          "size": 11
         },
         "textposition": "auto",
         "texttemplate": "%{y:.2s}",
         "type": "bar",
         "x": [
          "new capacity"
         ],
         "xaxis": "x10",
         "y": {
          "bdata": "AAAAAPQ1QkE=",
          "dtype": "f8"
         },
         "yaxis": "y10"
        },
        {
         "hovertemplate": "fuel=BEV (150-mile AER)<br>cap type=%{x}<br>mode=LD Truck<br>vintage=2045<br>capacity=%{y}<extra></extra>",
         "legendgroup": "BEV (150-mile AER), new capacity",
         "marker": {
          "color": "limegreen",
          "pattern": {
           "shape": ""
          }
         },
         "name": "BEV (150-mile AER)",
         "orientation": "v",
         "showlegend": false,
         "textfont": {
          "size": 11
         },
         "textposition": "auto",
         "texttemplate": "%{y:.2s}",
         "type": "bar",
         "x": [
          "new capacity"
         ],
         "xaxis": "x11",
         "y": {
          "bdata": "AAAAAAHiQkE=",
          "dtype": "f8"
         },
         "yaxis": "y11"
        },
        {
         "hovertemplate": "fuel=BEV (150-mile AER)<br>cap type=%{x}<br>mode=LD Truck<br>vintage=2050<br>capacity=%{y}<extra></extra>",
         "legendgroup": "BEV (150-mile AER), new capacity",
         "marker": {
          "color": "limegreen",
          "pattern": {
           "shape": ""
          }
         },
         "name": "BEV (150-mile AER)",
         "orientation": "v",
         "showlegend": false,
         "textfont": {
          "size": 11
         },
         "textposition": "auto",
         "texttemplate": "%{y:.2s}",
         "type": "bar",
         "x": [
          "new capacity"
         ],
         "xaxis": "x12",
         "y": {
          "bdata": "AAAAAP2sREE=",
          "dtype": "f8"
         },
         "yaxis": "y12"
        },
        {
         "hovertemplate": "fuel=BEV (150-mile AER)<br>cap type=%{x}<br>mode=LD Truck<br>vintage=2030<br>capacity=%{y}<extra></extra>",
         "legendgroup": "BEV (150-mile AER), retired cap",
         "marker": {
          "color": "limegreen",
          "pattern": {
           "shape": "/"
          }
         },
         "name": "BEV (150-mile AER)",
         "orientation": "v",
         "showlegend": false,
         "textfont": {
          "size": 11
         },
         "textposition": "auto",
         "texttemplate": "%{y:.2s}",
         "type": "bar",
         "x": [
          "retired cap"
         ],
         "xaxis": "x8",
         "y": {
          "bdata": "AAAAAMgXEcE=",
          "dtype": "f8"
         },
         "yaxis": "y8"
        },
        {
         "hovertemplate": "fuel=BEV (150-mile AER)<br>cap type=%{x}<br>mode=LD Truck<br>vintage=2035<br>capacity=%{y}<extra></extra>",
         "legendgroup": "BEV (150-mile AER), retired cap",
         "marker": {
          "color": "limegreen",
          "pattern": {
           "shape": "/"
          }
         },
         "name": "BEV (150-mile AER)",
         "orientation": "v",
         "showlegend": false,
         "textfont": {
          "size": 11
         },
         "textposition": "auto",
         "texttemplate": "%{y:.2s}",
         "type": "bar",
         "x": [
          "retired cap"
         ],
         "xaxis": "x9",
         "y": {
          "bdata": "AAAAAHAbIME=",
          "dtype": "f8"
         },
         "yaxis": "y9"
        },
        {
         "hovertemplate": "fuel=BEV (150-mile AER)<br>cap type=%{x}<br>mode=LD Truck<br>vintage=2040<br>capacity=%{y}<extra></extra>",
         "legendgroup": "BEV (150-mile AER), retired cap",
         "marker": {
          "color": "limegreen",
          "pattern": {
           "shape": "/"
          }
         },
         "name": "BEV (150-mile AER)",
         "orientation": "v",
         "showlegend": false,
         "textfont": {
          "size": 11
         },
         "textposition": "auto",
         "texttemplate": "%{y:.2s}",
         "type": "bar",
         "x": [
          "retired cap"
         ],
         "xaxis": "x10",
         "y": {
          "bdata": "AAAAAJg0KsE=",
          "dtype": "f8"
         },
         "yaxis": "y10"
        },
        {
         "hovertemplate": "fuel=BEV (150-mile AER)<br>cap type=%{x}<br>mode=LD Truck<br>vintage=2045<br>capacity=%{y}<extra></extra>",
         "legendgroup": "BEV (150-mile AER), retired cap",
         "marker": {
          "color": "limegreen",
          "pattern": {
           "shape": "/"
          }
         },
         "name": "BEV (150-mile AER)",
         "orientation": "v",
         "showlegend": false,
         "textfont": {
          "size": 11
         },
         "textposition": "auto",
         "texttemplate": "%{y:.2s}",
         "type": "bar",
         "x": [
          "retired cap"
         ],
         "xaxis": "x11",
         "y": {
          "bdata": "AAAAAEo+OME=",
          "dtype": "f8"
         },
         "yaxis": "y11"
        },
        {
         "hovertemplate": "fuel=BEV (150-mile AER)<br>cap type=%{x}<br>mode=LD Truck<br>vintage=2050<br>capacity=%{y}<extra></extra>",
         "legendgroup": "BEV (150-mile AER), retired cap",
         "marker": {
          "color": "limegreen",
          "pattern": {
           "shape": "/"
          }
         },
         "name": "BEV (150-mile AER)",
         "orientation": "v",
         "showlegend": false,
         "textfont": {
          "size": 11
         },
         "textposition": "auto",
         "texttemplate": "%{y:.2s}",
         "type": "bar",
         "x": [
          "retired cap"
         ],
         "xaxis": "x12",
         "y": {
          "bdata": "AAAAAHLwOsE=",
          "dtype": "f8"
         },
         "yaxis": "y12"
        },
        {
         "hovertemplate": "fuel=BEV (200-mile AER)<br>cap type=%{x}<br>mode=LD Truck<br>vintage=2025<br>capacity=%{y}<extra></extra>",
         "legendgroup": "BEV (200-mile AER), new capacity",
         "marker": {
          "color": "seagreen",
          "pattern": {
           "shape": ""
          }
         },
         "name": "BEV (200-mile AER)",
         "orientation": "v",
         "showlegend": true,
         "textfont": {
          "size": 11
         },
         "textposition": "auto",
         "texttemplate": "%{y:.2s}",
         "type": "bar",
         "x": [
          "new capacity"
         ],
         "xaxis": "x7",
         "y": {
          "bdata": "AAAAAAAAVEA=",
          "dtype": "f8"
         },
         "yaxis": "y7"
        },
        {
         "hovertemplate": "fuel=BEV (200-mile AER)<br>cap type=%{x}<br>mode=LD Truck<br>vintage=2030<br>capacity=%{y}<extra></extra>",
         "legendgroup": "BEV (200-mile AER), new capacity",
         "marker": {
          "color": "seagreen",
          "pattern": {
           "shape": ""
          }
         },
         "name": "BEV (200-mile AER)",
         "orientation": "v",
         "showlegend": false,
         "textfont": {
          "size": 11
         },
         "textposition": "auto",
         "texttemplate": "%{y:.2s}",
         "type": "bar",
         "x": [
          "new capacity"
         ],
         "xaxis": "x8",
         "y": {
          "bdata": "AAAAAAAAVEA=",
          "dtype": "f8"
         },
         "yaxis": "y8"
        },
        {
         "hovertemplate": "fuel=BEV (200-mile AER)<br>cap type=%{x}<br>mode=LD Truck<br>vintage=2035<br>capacity=%{y}<extra></extra>",
         "legendgroup": "BEV (200-mile AER), new capacity",
         "marker": {
          "color": "seagreen",
          "pattern": {
           "shape": ""
          }
         },
         "name": "BEV (200-mile AER)",
         "orientation": "v",
         "showlegend": false,
         "textfont": {
          "size": 11
         },
         "textposition": "auto",
         "texttemplate": "%{y:.2s}",
         "type": "bar",
         "x": [
          "new capacity"
         ],
         "xaxis": "x9",
         "y": {
          "bdata": "AAAAAACAVkA=",
          "dtype": "f8"
         },
         "yaxis": "y9"
        },
        {
         "hovertemplate": "fuel=BEV (200-mile AER)<br>cap type=%{x}<br>mode=LD Truck<br>vintage=2040<br>capacity=%{y}<extra></extra>",
         "legendgroup": "BEV (200-mile AER), new capacity",
         "marker": {
          "color": "seagreen",
          "pattern": {
           "shape": ""
          }
         },
         "name": "BEV (200-mile AER)",
         "orientation": "v",
         "showlegend": false,
         "textfont": {
          "size": 11
         },
         "textposition": "auto",
         "texttemplate": "%{y:.2s}",
         "type": "bar",
         "x": [
          "new capacity"
         ],
         "xaxis": "x10",
         "y": {
          "bdata": "AAAAAACAVkA=",
          "dtype": "f8"
         },
         "yaxis": "y10"
        },
        {
         "hovertemplate": "fuel=BEV (200-mile AER)<br>cap type=%{x}<br>mode=LD Truck<br>vintage=2045<br>capacity=%{y}<extra></extra>",
         "legendgroup": "BEV (200-mile AER), new capacity",
         "marker": {
          "color": "seagreen",
          "pattern": {
           "shape": ""
          }
         },
         "name": "BEV (200-mile AER)",
         "orientation": "v",
         "showlegend": false,
         "textfont": {
          "size": 11
         },
         "textposition": "auto",
         "texttemplate": "%{y:.2s}",
         "type": "bar",
         "x": [
          "new capacity"
         ],
         "xaxis": "x11",
         "y": {
          "bdata": "AAAAAAAAZEA=",
          "dtype": "f8"
         },
         "yaxis": "y11"
        },
        {
         "hovertemplate": "fuel=BEV (200-mile AER)<br>cap type=%{x}<br>mode=LD Truck<br>vintage=2050<br>capacity=%{y}<extra></extra>",
         "legendgroup": "BEV (200-mile AER), new capacity",
         "marker": {
          "color": "seagreen",
          "pattern": {
           "shape": ""
          }
         },
         "name": "BEV (200-mile AER)",
         "orientation": "v",
         "showlegend": false,
         "textfont": {
          "size": 11
         },
         "textposition": "auto",
         "texttemplate": "%{y:.2s}",
         "type": "bar",
         "x": [
          "new capacity"
         ],
         "xaxis": "x12",
         "y": {
          "bdata": "AAAAAABAZUA=",
          "dtype": "f8"
         },
         "yaxis": "y12"
        },
        {
         "hovertemplate": "fuel=BEV (200-mile AER)<br>cap type=%{x}<br>mode=LD Truck<br>vintage=2030<br>capacity=%{y}<extra></extra>",
         "legendgroup": "BEV (200-mile AER), retired cap",
         "marker": {
          "color": "seagreen",
          "pattern": {
           "shape": "/"
          }
         },
         "name": "BEV (200-mile AER)",
         "orientation": "v",
         "showlegend": false,
         "textfont": {
          "size": 11
         },
         "textposition": "auto",
         "texttemplate": "%{y:.2s}",
         "type": "bar",
         "x": [
          "retired cap"
         ],
         "xaxis": "x8",
         "y": {
          "bdata": "AAAAAAAAJMA=",
          "dtype": "f8"
         },
         "yaxis": "y8"
        },
        {
         "hovertemplate": "fuel=BEV (200-mile AER)<br>cap type=%{x}<br>mode=LD Truck<br>vintage=2035<br>capacity=%{y}<extra></extra>",
         "legendgroup": "BEV (200-mile AER), retired cap",
         "marker": {
          "color": "seagreen",
          "pattern": {
           "shape": "/"
          }
         },
         "name": "BEV (200-mile AER)",
         "orientation": "v",
         "showlegend": false,
         "textfont": {
          "size": 11
         },
         "textposition": "auto",
         "texttemplate": "%{y:.2s}",
         "type": "bar",
         "x": [
          "retired cap"
         ],
         "xaxis": "x9",
         "y": {
          "bdata": "AAAAAAAAPsA=",
          "dtype": "f8"
         },
         "yaxis": "y9"
        },
        {
         "hovertemplate": "fuel=BEV (200-mile AER)<br>cap type=%{x}<br>mode=LD Truck<br>vintage=2040<br>capacity=%{y}<extra></extra>",
         "legendgroup": "BEV (200-mile AER), retired cap",
         "marker": {
          "color": "seagreen",
          "pattern": {
           "shape": "/"
          }
         },
         "name": "BEV (200-mile AER)",
         "orientation": "v",
         "showlegend": false,
         "textfont": {
          "size": 11
         },
         "textposition": "auto",
         "texttemplate": "%{y:.2s}",
         "type": "bar",
         "x": [
          "retired cap"
         ],
         "xaxis": "x10",
         "y": {
          "bdata": "AAAAAAAAScA=",
          "dtype": "f8"
         },
         "yaxis": "y10"
        },
        {
         "hovertemplate": "fuel=BEV (200-mile AER)<br>cap type=%{x}<br>mode=LD Truck<br>vintage=2045<br>capacity=%{y}<extra></extra>",
         "legendgroup": "BEV (200-mile AER), retired cap",
         "marker": {
          "color": "seagreen",
          "pattern": {
           "shape": "/"
          }
         },
         "name": "BEV (200-mile AER)",
         "orientation": "v",
         "showlegend": false,
         "textfont": {
          "size": 11
         },
         "textposition": "auto",
         "texttemplate": "%{y:.2s}",
         "type": "bar",
         "x": [
          "retired cap"
         ],
         "xaxis": "x11",
         "y": {
          "bdata": "AAAAAACAUcA=",
          "dtype": "f8"
         },
         "yaxis": "y11"
        },
        {
         "hovertemplate": "fuel=BEV (200-mile AER)<br>cap type=%{x}<br>mode=LD Truck<br>vintage=2050<br>capacity=%{y}<extra></extra>",
         "legendgroup": "BEV (200-mile AER), retired cap",
         "marker": {
          "color": "seagreen",
          "pattern": {
           "shape": "/"
          }
         },
         "name": "BEV (200-mile AER)",
         "orientation": "v",
         "showlegend": false,
         "textfont": {
          "size": 11
         },
         "textposition": "auto",
         "texttemplate": "%{y:.2s}",
         "type": "bar",
         "x": [
          "retired cap"
         ],
         "xaxis": "x12",
         "y": {
          "bdata": "AAAAAAAAVMA=",
          "dtype": "f8"
         },
         "yaxis": "y12"
        },
        {
         "hovertemplate": "fuel=BEV (300-mile AER)<br>cap type=%{x}<br>mode=LD Truck<br>vintage=2025<br>capacity=%{y}<extra></extra>",
         "legendgroup": "BEV (300-mile AER), new capacity",
         "marker": {
          "color": "olive",
          "pattern": {
           "shape": ""
          }
         },
         "name": "BEV (300-mile AER)",
         "orientation": "v",
         "showlegend": true,
         "textfont": {
          "size": 11
         },
         "textposition": "auto",
         "texttemplate": "%{y:.2s}",
         "type": "bar",
         "x": [
          "new capacity"
         ],
         "xaxis": "x7",
         "y": {
          "bdata": "AAAAAAAAJEA=",
          "dtype": "f8"
         },
         "yaxis": "y7"
        },
        {
         "hovertemplate": "fuel=BEV (300-mile AER)<br>cap type=%{x}<br>mode=LD Truck<br>vintage=2030<br>capacity=%{y}<extra></extra>",
         "legendgroup": "BEV (300-mile AER), new capacity",
         "marker": {
          "color": "olive",
          "pattern": {
           "shape": ""
          }
         },
         "name": "BEV (300-mile AER)",
         "orientation": "v",
         "showlegend": false,
         "textfont": {
          "size": 11
         },
         "textposition": "auto",
         "texttemplate": "%{y:.2s}",
         "type": "bar",
         "x": [
          "new capacity"
         ],
         "xaxis": "x8",
         "y": {
          "bdata": "AAAAAAAAJEA=",
          "dtype": "f8"
         },
         "yaxis": "y8"
        },
        {
         "hovertemplate": "fuel=BEV (300-mile AER)<br>cap type=%{x}<br>mode=LD Truck<br>vintage=2035<br>capacity=%{y}<extra></extra>",
         "legendgroup": "BEV (300-mile AER), new capacity",
         "marker": {
          "color": "olive",
          "pattern": {
           "shape": ""
          }
         },
         "name": "BEV (300-mile AER)",
         "orientation": "v",
         "showlegend": false,
         "textfont": {
          "size": 11
         },
         "textposition": "auto",
         "texttemplate": "%{y:.2s}",
         "type": "bar",
         "x": [
          "new capacity"
         ],
         "xaxis": "x9",
         "y": {
          "bdata": "AAAAAACAUUA=",
          "dtype": "f8"
         },
         "yaxis": "y9"
        },
        {
         "hovertemplate": "fuel=BEV (300-mile AER)<br>cap type=%{x}<br>mode=LD Truck<br>vintage=2040<br>capacity=%{y}<extra></extra>",
         "legendgroup": "BEV (300-mile AER), new capacity",
         "marker": {
          "color": "olive",
          "pattern": {
           "shape": ""
          }
         },
         "name": "BEV (300-mile AER)",
         "orientation": "v",
         "showlegend": false,
         "textfont": {
          "size": 11
         },
         "textposition": "auto",
         "texttemplate": "%{y:.2s}",
         "type": "bar",
         "x": [
          "new capacity"
         ],
         "xaxis": "x10",
         "y": {
          "bdata": "AAAAAACAUUA=",
          "dtype": "f8"
         },
         "yaxis": "y10"
        },
        {
         "hovertemplate": "fuel=BEV (300-mile AER)<br>cap type=%{x}<br>mode=LD Truck<br>vintage=2045<br>capacity=%{y}<extra></extra>",
         "legendgroup": "BEV (300-mile AER), new capacity",
         "marker": {
          "color": "olive",
          "pattern": {
           "shape": ""
          }
         },
         "name": "BEV (300-mile AER)",
         "orientation": "v",
         "showlegend": false,
         "textfont": {
          "size": 11
         },
         "textposition": "auto",
         "texttemplate": "%{y:.2s}",
         "type": "bar",
         "x": [
          "new capacity"
         ],
         "xaxis": "x11",
         "y": {
          "bdata": "AAAAAAAAVEA=",
          "dtype": "f8"
         },
         "yaxis": "y11"
        },
        {
         "hovertemplate": "fuel=BEV (300-mile AER)<br>cap type=%{x}<br>mode=LD Truck<br>vintage=2050<br>capacity=%{y}<extra></extra>",
         "legendgroup": "BEV (300-mile AER), new capacity",
         "marker": {
          "color": "olive",
          "pattern": {
           "shape": ""
          }
         },
         "name": "BEV (300-mile AER)",
         "orientation": "v",
         "showlegend": false,
         "textfont": {
          "size": 11
         },
         "textposition": "auto",
         "texttemplate": "%{y:.2s}",
         "type": "bar",
         "x": [
          "new capacity"
         ],
         "xaxis": "x12",
         "y": {
          "bdata": "AAAAAAAAVEA=",
          "dtype": "f8"
         },
         "yaxis": "y12"
        },
        {
         "hovertemplate": "fuel=BEV (300-mile AER)<br>cap type=%{x}<br>mode=LD Truck<br>vintage=2025<br>capacity=%{y}<extra></extra>",
         "legendgroup": "BEV (300-mile AER), retired cap",
         "marker": {
          "color": "olive",
          "pattern": {
           "shape": "/"
          }
         },
         "name": "BEV (300-mile AER)",
         "orientation": "v",
         "showlegend": false,
         "textfont": {
          "size": 11
         },
         "textposition": "auto",
         "texttemplate": "%{y:.2s}",
         "type": "bar",
         "x": [
          "retired cap"
         ],
         "xaxis": "x7",
         "y": {
          "bdata": "AAAAAADggMA=",
          "dtype": "f8"
         },
         "yaxis": "y7"
        },
        {
         "hovertemplate": "fuel=BEV (300-mile AER)<br>cap type=%{x}<br>mode=LD Truck<br>vintage=2030<br>capacity=%{y}<extra></extra>",
         "legendgroup": "BEV (300-mile AER), retired cap",
         "marker": {
          "color": "olive",
          "pattern": {
           "shape": "/"
          }
         },
         "name": "BEV (300-mile AER)",
         "orientation": "v",
         "showlegend": false,
         "textfont": {
          "size": 11
         },
         "textposition": "auto",
         "texttemplate": "%{y:.2s}",
         "type": "bar",
         "x": [
          "retired cap"
         ],
         "xaxis": "x8",
         "y": {
          "bdata": "AAAAAAAwgcA=",
          "dtype": "f8"
         },
         "yaxis": "y8"
        },
        {
         "hovertemplate": "fuel=BEV (300-mile AER)<br>cap type=%{x}<br>mode=LD Truck<br>vintage=2035<br>capacity=%{y}<extra></extra>",
         "legendgroup": "BEV (300-mile AER), retired cap",
         "marker": {
          "color": "olive",
          "pattern": {
           "shape": "/"
          }
         },
         "name": "BEV (300-mile AER)",
         "orientation": "v",
         "showlegend": false,
         "textfont": {
          "size": 11
         },
         "textposition": "auto",
         "texttemplate": "%{y:.2s}",
         "type": "bar",
         "x": [
          "retired cap"
         ],
         "xaxis": "x9",
         "y": {
          "bdata": "AAAAAAAggsA=",
          "dtype": "f8"
         },
         "yaxis": "y9"
        },
        {
         "hovertemplate": "fuel=BEV (300-mile AER)<br>cap type=%{x}<br>mode=LD Truck<br>vintage=2040<br>capacity=%{y}<extra></extra>",
         "legendgroup": "BEV (300-mile AER), retired cap",
         "marker": {
          "color": "olive",
          "pattern": {
           "shape": "/"
          }
         },
         "name": "BEV (300-mile AER)",
         "orientation": "v",
         "showlegend": false,
         "textfont": {
          "size": 11
         },
         "textposition": "auto",
         "texttemplate": "%{y:.2s}",
         "type": "bar",
         "x": [
          "retired cap"
         ],
         "xaxis": "x10",
         "y": {
          "bdata": "AAAAAADQm8A=",
          "dtype": "f8"
         },
         "yaxis": "y10"
        },
        {
         "hovertemplate": "fuel=BEV (300-mile AER)<br>cap type=%{x}<br>mode=LD Truck<br>vintage=2045<br>capacity=%{y}<extra></extra>",
         "legendgroup": "BEV (300-mile AER), retired cap",
         "marker": {
          "color": "olive",
          "pattern": {
           "shape": "/"
          }
         },
         "name": "BEV (300-mile AER)",
         "orientation": "v",
         "showlegend": false,
         "textfont": {
          "size": 11
         },
         "textposition": "auto",
         "texttemplate": "%{y:.2s}",
         "type": "bar",
         "x": [
          "retired cap"
         ],
         "xaxis": "x11",
         "y": {
          "bdata": "AAAAAACAgcA=",
          "dtype": "f8"
         },
         "yaxis": "y11"
        },
        {
         "hovertemplate": "fuel=BEV (300-mile AER)<br>cap type=%{x}<br>mode=LD Truck<br>vintage=2050<br>capacity=%{y}<extra></extra>",
         "legendgroup": "BEV (300-mile AER), retired cap",
         "marker": {
          "color": "olive",
          "pattern": {
           "shape": "/"
          }
         },
         "name": "BEV (300-mile AER)",
         "orientation": "v",
         "showlegend": false,
         "textfont": {
          "size": 11
         },
         "textposition": "auto",
         "texttemplate": "%{y:.2s}",
         "type": "bar",
         "x": [
          "retired cap"
         ],
         "xaxis": "x12",
         "y": {
          "bdata": "AAAAAAAAScA=",
          "dtype": "f8"
         },
         "yaxis": "y12"
        },
        {
         "hovertemplate": "fuel=BEV (400-mile AER)<br>cap type=%{x}<br>mode=LD Truck<br>vintage=2030<br>capacity=%{y}<extra></extra>",
         "legendgroup": "BEV (400-mile AER), new capacity",
         "marker": {
          "color": "darkgreen",
          "pattern": {
           "shape": ""
          }
         },
         "name": "BEV (400-mile AER)",
         "orientation": "v",
         "showlegend": true,
         "textfont": {
          "size": 11
         },
         "textposition": "auto",
         "texttemplate": "%{y:.2s}",
         "type": "bar",
         "x": [
          "new capacity"
         ],
         "xaxis": "x8",
         "y": {
          "bdata": "AAAAAAAAJEA=",
          "dtype": "f8"
         },
         "yaxis": "y8"
        },
        {
         "hovertemplate": "fuel=BEV (400-mile AER)<br>cap type=%{x}<br>mode=LD Truck<br>vintage=2035<br>capacity=%{y}<extra></extra>",
         "legendgroup": "BEV (400-mile AER), new capacity",
         "marker": {
          "color": "darkgreen",
          "pattern": {
           "shape": ""
          }
         },
         "name": "BEV (400-mile AER)",
         "orientation": "v",
         "showlegend": false,
         "textfont": {
          "size": 11
         },
         "textposition": "auto",
         "texttemplate": "%{y:.2s}",
         "type": "bar",
         "x": [
          "new capacity"
         ],
         "xaxis": "x9",
         "y": {
          "bdata": "AAAAAAAAJEA=",
          "dtype": "f8"
         },
         "yaxis": "y9"
        },
        {
         "hovertemplate": "fuel=BEV (400-mile AER)<br>cap type=%{x}<br>mode=LD Truck<br>vintage=2040<br>capacity=%{y}<extra></extra>",
         "legendgroup": "BEV (400-mile AER), new capacity",
         "marker": {
          "color": "darkgreen",
          "pattern": {
           "shape": ""
          }
         },
         "name": "BEV (400-mile AER)",
         "orientation": "v",
         "showlegend": false,
         "textfont": {
          "size": 11
         },
         "textposition": "auto",
         "texttemplate": "%{y:.2s}",
         "type": "bar",
         "x": [
          "new capacity"
         ],
         "xaxis": "x10",
         "y": {
          "bdata": "AAAAAAAAJEA=",
          "dtype": "f8"
         },
         "yaxis": "y10"
        },
        {
         "hovertemplate": "fuel=BEV (400-mile AER)<br>cap type=%{x}<br>mode=LD Truck<br>vintage=2045<br>capacity=%{y}<extra></extra>",
         "legendgroup": "BEV (400-mile AER), new capacity",
         "marker": {
          "color": "darkgreen",
          "pattern": {
           "shape": ""
          }
         },
         "name": "BEV (400-mile AER)",
         "orientation": "v",
         "showlegend": false,
         "textfont": {
          "size": 11
         },
         "textposition": "auto",
         "texttemplate": "%{y:.2s}",
         "type": "bar",
         "x": [
          "new capacity"
         ],
         "xaxis": "x11",
         "y": {
          "bdata": "AAAAAAAAJEA=",
          "dtype": "f8"
         },
         "yaxis": "y11"
        },
        {
         "hovertemplate": "fuel=BEV (400-mile AER)<br>cap type=%{x}<br>mode=LD Truck<br>vintage=2050<br>capacity=%{y}<extra></extra>",
         "legendgroup": "BEV (400-mile AER), new capacity",
         "marker": {
          "color": "darkgreen",
          "pattern": {
           "shape": ""
          }
         },
         "name": "BEV (400-mile AER)",
         "orientation": "v",
         "showlegend": false,
         "textfont": {
          "size": 11
         },
         "textposition": "auto",
         "texttemplate": "%{y:.2s}",
         "type": "bar",
         "x": [
          "new capacity"
         ],
         "xaxis": "x12",
         "y": {
          "bdata": "AAAAAAAAJEA=",
          "dtype": "f8"
         },
         "yaxis": "y12"
        },
        {
         "hovertemplate": "fuel=BEV (400-mile AER)<br>cap type=%{x}<br>mode=LD Truck<br>vintage=2050<br>capacity=%{y}<extra></extra>",
         "legendgroup": "BEV (400-mile AER), retired cap",
         "marker": {
          "color": "darkgreen",
          "pattern": {
           "shape": "/"
          }
         },
         "name": "BEV (400-mile AER)",
         "orientation": "v",
         "showlegend": false,
         "textfont": {
          "size": 11
         },
         "textposition": "auto",
         "texttemplate": "%{y:.2s}",
         "type": "bar",
         "x": [
          "retired cap"
         ],
         "xaxis": "x12",
         "y": {
          "bdata": "AAAAAAAAJMA=",
          "dtype": "f8"
         },
         "yaxis": "y12"
        },
        {
         "hovertemplate": "fuel=Fuel-cell electric<br>cap type=%{x}<br>mode=HD Truck<br>vintage=2030<br>capacity=%{y}<extra></extra>",
         "legendgroup": "Fuel-cell electric, new capacity",
         "marker": {
          "color": "mediumvioletred",
          "pattern": {
           "shape": ""
          }
         },
         "name": "Fuel-cell electric",
         "orientation": "v",
         "showlegend": true,
         "textfont": {
          "size": 11
         },
         "textposition": "auto",
         "texttemplate": "%{y:.2s}",
         "type": "bar",
         "x": [
          "new capacity"
         ],
         "xaxis": "x2",
         "y": {
          "bdata": "AAAAAIDW10A=",
          "dtype": "f8"
         },
         "yaxis": "y2"
        },
        {
         "hovertemplate": "fuel=Fuel-cell electric<br>cap type=%{x}<br>mode=HD Truck<br>vintage=2035<br>capacity=%{y}<extra></extra>",
         "legendgroup": "Fuel-cell electric, new capacity",
         "marker": {
          "color": "mediumvioletred",
          "pattern": {
           "shape": ""
          }
         },
         "name": "Fuel-cell electric",
         "orientation": "v",
         "showlegend": false,
         "textfont": {
          "size": 11
         },
         "textposition": "auto",
         "texttemplate": "%{y:.2s}",
         "type": "bar",
         "x": [
          "new capacity"
         ],
         "xaxis": "x3",
         "y": {
          "bdata": "AAAAAEBk4EA=",
          "dtype": "f8"
         },
         "yaxis": "y3"
        },
        {
         "hovertemplate": "fuel=Fuel-cell electric<br>cap type=%{x}<br>mode=HD Truck<br>vintage=2040<br>capacity=%{y}<extra></extra>",
         "legendgroup": "Fuel-cell electric, new capacity",
         "marker": {
          "color": "mediumvioletred",
          "pattern": {
           "shape": ""
          }
         },
         "name": "Fuel-cell electric",
         "orientation": "v",
         "showlegend": false,
         "textfont": {
          "size": 11
         },
         "textposition": "auto",
         "texttemplate": "%{y:.2s}",
         "type": "bar",
         "x": [
          "new capacity"
         ],
         "xaxis": "x4",
         "y": {
          "bdata": "AAAAAEAK5UA=",
          "dtype": "f8"
         },
         "yaxis": "y4"
        },
        {
         "hovertemplate": "fuel=Fuel-cell electric<br>cap type=%{x}<br>mode=HD Truck<br>vintage=2045<br>capacity=%{y}<extra></extra>",
         "legendgroup": "Fuel-cell electric, new capacity",
         "marker": {
          "color": "mediumvioletred",
          "pattern": {
           "shape": ""
          }
         },
         "name": "Fuel-cell electric",
         "orientation": "v",
         "showlegend": false,
         "textfont": {
          "size": 11
         },
         "textposition": "auto",
         "texttemplate": "%{y:.2s}",
         "type": "bar",
         "x": [
          "new capacity"
         ],
         "xaxis": "x5",
         "y": {
          "bdata": "AAAAAAAT5UA=",
          "dtype": "f8"
         },
         "yaxis": "y5"
        },
        {
         "hovertemplate": "fuel=Fuel-cell electric<br>cap type=%{x}<br>mode=HD Truck<br>vintage=2050<br>capacity=%{y}<extra></extra>",
         "legendgroup": "Fuel-cell electric, new capacity",
         "marker": {
          "color": "mediumvioletred",
          "pattern": {
           "shape": ""
          }
         },
         "name": "Fuel-cell electric",
         "orientation": "v",
         "showlegend": false,
         "textfont": {
          "size": 11
         },
         "textposition": "auto",
         "texttemplate": "%{y:.2s}",
         "type": "bar",
         "x": [
          "new capacity"
         ],
         "xaxis": "x6",
         "y": {
          "bdata": "AAAAAMDt5UA=",
          "dtype": "f8"
         },
         "yaxis": "y6"
        },
        {
         "hovertemplate": "fuel=Fuel-cell electric<br>cap type=%{x}<br>mode=HD Truck<br>vintage=2040<br>capacity=%{y}<extra></extra>",
         "legendgroup": "Fuel-cell electric, retired cap",
         "marker": {
          "color": "mediumvioletred",
          "pattern": {
           "shape": "/"
          }
         },
         "name": "Fuel-cell electric",
         "orientation": "v",
         "showlegend": false,
         "textfont": {
          "size": 11
         },
         "textposition": "auto",
         "texttemplate": "%{y:.2s}",
         "type": "bar",
         "x": [
          "retired cap"
         ],
         "xaxis": "x4",
         "y": {
          "bdata": "AAAAAADkpsA=",
          "dtype": "f8"
         },
         "yaxis": "y4"
        },
        {
         "hovertemplate": "fuel=Fuel-cell electric<br>cap type=%{x}<br>mode=HD Truck<br>vintage=2045<br>capacity=%{y}<extra></extra>",
         "legendgroup": "Fuel-cell electric, retired cap",
         "marker": {
          "color": "mediumvioletred",
          "pattern": {
           "shape": "/"
          }
         },
         "name": "Fuel-cell electric",
         "orientation": "v",
         "showlegend": false,
         "textfont": {
          "size": 11
         },
         "textposition": "auto",
         "texttemplate": "%{y:.2s}",
         "type": "bar",
         "x": [
          "retired cap"
         ],
         "xaxis": "x5",
         "y": {
          "bdata": "AAAAAABRw8A=",
          "dtype": "f8"
         },
         "yaxis": "y5"
        },
        {
         "hovertemplate": "fuel=Fuel-cell electric<br>cap type=%{x}<br>mode=HD Truck<br>vintage=2050<br>capacity=%{y}<extra></extra>",
         "legendgroup": "Fuel-cell electric, retired cap",
         "marker": {
          "color": "mediumvioletred",
          "pattern": {
           "shape": "/"
          }
         },
         "name": "Fuel-cell electric",
         "orientation": "v",
         "showlegend": false,
         "textfont": {
          "size": 11
         },
         "textposition": "auto",
         "texttemplate": "%{y:.2s}",
         "type": "bar",
         "x": [
          "retired cap"
         ],
         "xaxis": "x6",
         "y": {
          "bdata": "AAAAAACX08A=",
          "dtype": "f8"
         },
         "yaxis": "y6"
        },
        {
         "legendgroup": "Blank",
         "marker": {
          "color": "rgba(0,0,0,0)"
         },
         "name": "",
         "showlegend": true,
         "type": "bar",
         "x": [
          null
         ],
         "y": [
          null
         ]
        },
        {
         "legendgroup": "Capacity type",
         "legendgrouptitle": {
          "font": {
           "size": 16
          },
          "text": "<b>Capacity type</b>"
         },
         "marker": {
          "color": "rgba(0,0,0,0)",
          "line": {
           "color": "black",
           "width": 1
          },
          "pattern": {
           "shape": ""
          }
         },
         "name": "New capacity",
         "showlegend": true,
         "type": "bar",
         "x": [
          null
         ],
         "y": [
          null
         ]
        },
        {
         "legendgroup": "Capacity type",
         "marker": {
          "color": "rgba(0,0,0,0)",
          "line": {
           "color": "black",
           "width": 1
          },
          "pattern": {
           "shape": "/"
          }
         },
         "name": "Retired capacity",
         "showlegend": true,
         "type": "bar",
         "x": [
          null
         ],
         "y": [
          null
         ]
        }
       ],
       "layout": {
        "annotations": [
         {
          "font": {
           "size": 16
          },
          "showarrow": false,
          "text": "<b>2025</b>",
          "x": 0.07333333333333333,
          "xanchor": "center",
          "xref": "paper",
          "y": 0,
          "yanchor": "top",
          "yref": "paper"
         },
         {
          "font": {
           "size": 16
          },
          "showarrow": false,
          "text": "<b>2030</b>",
          "x": 0.24,
          "xanchor": "center",
          "xref": "paper",
          "y": 0,
          "yanchor": "top",
          "yref": "paper"
         },
         {
          "font": {
           "size": 16
          },
          "showarrow": false,
          "text": "<b>2035</b>",
          "x": 0.4066666666666666,
          "xanchor": "center",
          "xref": "paper",
          "y": 0,
          "yanchor": "top",
          "yref": "paper"
         },
         {
          "font": {
           "size": 16
          },
          "showarrow": false,
          "text": "<b>2040</b>",
          "x": 0.5733333333333334,
          "xanchor": "center",
          "xref": "paper",
          "y": 0,
          "yanchor": "top",
          "yref": "paper"
         },
         {
          "font": {
           "size": 16
          },
          "showarrow": false,
          "text": "<b>2045</b>",
          "x": 0.74,
          "xanchor": "center",
          "xref": "paper",
          "y": 0,
          "yanchor": "top",
          "yref": "paper"
         },
         {
          "font": {
           "size": 16
          },
          "showarrow": false,
          "text": "<b>2050</b>",
          "x": 0.9066666666666667,
          "xanchor": "center",
          "xref": "paper",
          "y": 0,
          "yanchor": "top",
          "yref": "paper"
         },
         {
          "font": {
           "size": 16
          },
          "showarrow": false,
          "text": "<b>HD Truck</b>",
          "textangle": 90,
          "x": 1.01,
          "xanchor": "center",
          "xref": "paper",
          "y": 0.24,
          "yanchor": "middle",
          "yref": "paper"
         },
         {
          "font": {
           "size": 16
          },
          "showarrow": false,
          "text": "<b>LD Truck</b>",
          "textangle": 90,
          "x": 1.01,
          "xanchor": "center",
          "xref": "paper",
          "y": 0.76,
          "yanchor": "middle",
          "yref": "paper"
         },
         {
          "font": {
           "size": 17
          },
          "showarrow": false,
          "text": "<b>Fleet capacity (vehicle units)</b>",
          "textangle": -90,
          "x": -0.08,
          "xref": "paper",
          "y": 0.5,
          "yref": "paper"
         }
        ],
        "bargap": 0.1,
        "barmode": "relative",
        "font": {
         "size": 15
        },
        "height": 450,
        "legend": {
         "orientation": "v",
         "title": {
          "font": {
           "size": 16
          },
          "text": "<b>Fuel/powertrain type</b>"
         },
         "tracegroupgap": 0,
         "traceorder": "grouped",
         "x": 1.15,
         "xanchor": "center",
         "y": 1,
         "yanchor": "top"
        },
        "margin": {
         "b": 30,
         "t": 65
        },
        "template": {
         "data": {
          "bar": [
           {
            "error_x": {
             "color": "#2a3f5f"
            },
            "error_y": {
             "color": "#2a3f5f"
            },
            "marker": {
             "line": {
              "color": "white",
              "width": 0.5
             },
             "pattern": {
              "fillmode": "overlay",
              "size": 10,
              "solidity": 0.2
             }
            },
            "type": "bar"
           }
          ],
          "barpolar": [
           {
            "marker": {
             "line": {
              "color": "white",
              "width": 0.5
             },
             "pattern": {
              "fillmode": "overlay",
              "size": 10,
              "solidity": 0.2
             }
            },
            "type": "barpolar"
           }
          ],
          "carpet": [
           {
            "aaxis": {
             "endlinecolor": "#2a3f5f",
             "gridcolor": "#C8D4E3",
             "linecolor": "#C8D4E3",
             "minorgridcolor": "#C8D4E3",
             "startlinecolor": "#2a3f5f"
            },
            "baxis": {
             "endlinecolor": "#2a3f5f",
             "gridcolor": "#C8D4E3",
             "linecolor": "#C8D4E3",
             "minorgridcolor": "#C8D4E3",
             "startlinecolor": "#2a3f5f"
            },
            "type": "carpet"
           }
          ],
          "choropleth": [
           {
            "colorbar": {
             "outlinewidth": 0,
             "ticks": ""
            },
            "type": "choropleth"
           }
          ],
          "contour": [
           {
            "colorbar": {
             "outlinewidth": 0,
             "ticks": ""
            },
            "colorscale": [
             [
              0,
              "#0d0887"
             ],
             [
              0.1111111111111111,
              "#46039f"
             ],
             [
              0.2222222222222222,
              "#7201a8"
             ],
             [
              0.3333333333333333,
              "#9c179e"
             ],
             [
              0.4444444444444444,
              "#bd3786"
             ],
             [
              0.5555555555555556,
              "#d8576b"
             ],
             [
              0.6666666666666666,
              "#ed7953"
             ],
             [
              0.7777777777777778,
              "#fb9f3a"
             ],
             [
              0.8888888888888888,
              "#fdca26"
             ],
             [
              1,
              "#f0f921"
             ]
            ],
            "type": "contour"
           }
          ],
          "contourcarpet": [
           {
            "colorbar": {
             "outlinewidth": 0,
             "ticks": ""
            },
            "type": "contourcarpet"
           }
          ],
          "heatmap": [
           {
            "colorbar": {
             "outlinewidth": 0,
             "ticks": ""
            },
            "colorscale": [
             [
              0,
              "#0d0887"
             ],
             [
              0.1111111111111111,
              "#46039f"
             ],
             [
              0.2222222222222222,
              "#7201a8"
             ],
             [
              0.3333333333333333,
              "#9c179e"
             ],
             [
              0.4444444444444444,
              "#bd3786"
             ],
             [
              0.5555555555555556,
              "#d8576b"
             ],
             [
              0.6666666666666666,
              "#ed7953"
             ],
             [
              0.7777777777777778,
              "#fb9f3a"
             ],
             [
              0.8888888888888888,
              "#fdca26"
             ],
             [
              1,
              "#f0f921"
             ]
            ],
            "type": "heatmap"
           }
          ],
          "histogram": [
           {
            "marker": {
             "pattern": {
              "fillmode": "overlay",
              "size": 10,
              "solidity": 0.2
             }
            },
            "type": "histogram"
           }
          ],
          "histogram2d": [
           {
            "colorbar": {
             "outlinewidth": 0,
             "ticks": ""
            },
            "colorscale": [
             [
              0,
              "#0d0887"
             ],
             [
              0.1111111111111111,
              "#46039f"
             ],
             [
              0.2222222222222222,
              "#7201a8"
             ],
             [
              0.3333333333333333,
              "#9c179e"
             ],
             [
              0.4444444444444444,
              "#bd3786"
             ],
             [
              0.5555555555555556,
              "#d8576b"
             ],
             [
              0.6666666666666666,
              "#ed7953"
             ],
             [
              0.7777777777777778,
              "#fb9f3a"
             ],
             [
              0.8888888888888888,
              "#fdca26"
             ],
             [
              1,
              "#f0f921"
             ]
            ],
            "type": "histogram2d"
           }
          ],
          "histogram2dcontour": [
           {
            "colorbar": {
             "outlinewidth": 0,
             "ticks": ""
            },
            "colorscale": [
             [
              0,
              "#0d0887"
             ],
             [
              0.1111111111111111,
              "#46039f"
             ],
             [
              0.2222222222222222,
              "#7201a8"
             ],
             [
              0.3333333333333333,
              "#9c179e"
             ],
             [
              0.4444444444444444,
              "#bd3786"
             ],
             [
              0.5555555555555556,
              "#d8576b"
             ],
             [
              0.6666666666666666,
              "#ed7953"
             ],
             [
              0.7777777777777778,
              "#fb9f3a"
             ],
             [
              0.8888888888888888,
              "#fdca26"
             ],
             [
              1,
              "#f0f921"
             ]
            ],
            "type": "histogram2dcontour"
           }
          ],
          "mesh3d": [
           {
            "colorbar": {
             "outlinewidth": 0,
             "ticks": ""
            },
            "type": "mesh3d"
           }
          ],
          "parcoords": [
           {
            "line": {
             "colorbar": {
              "outlinewidth": 0,
              "ticks": ""
             }
            },
            "type": "parcoords"
           }
          ],
          "pie": [
           {
            "automargin": true,
            "type": "pie"
           }
          ],
          "scatter": [
           {
            "fillpattern": {
             "fillmode": "overlay",
             "size": 10,
             "solidity": 0.2
            },
            "type": "scatter"
           }
          ],
          "scatter3d": [
           {
            "line": {
             "colorbar": {
              "outlinewidth": 0,
              "ticks": ""
             }
            },
            "marker": {
             "colorbar": {
              "outlinewidth": 0,
              "ticks": ""
             }
            },
            "type": "scatter3d"
           }
          ],
          "scattercarpet": [
           {
            "marker": {
             "colorbar": {
              "outlinewidth": 0,
              "ticks": ""
             }
            },
            "type": "scattercarpet"
           }
          ],
          "scattergeo": [
           {
            "marker": {
             "colorbar": {
              "outlinewidth": 0,
              "ticks": ""
             }
            },
            "type": "scattergeo"
           }
          ],
          "scattergl": [
           {
            "marker": {
             "colorbar": {
              "outlinewidth": 0,
              "ticks": ""
             }
            },
            "type": "scattergl"
           }
          ],
          "scattermap": [
           {
            "marker": {
             "colorbar": {
              "outlinewidth": 0,
              "ticks": ""
             }
            },
            "type": "scattermap"
           }
          ],
          "scattermapbox": [
           {
            "marker": {
             "colorbar": {
              "outlinewidth": 0,
              "ticks": ""
             }
            },
            "type": "scattermapbox"
           }
          ],
          "scatterpolar": [
           {
            "marker": {
             "colorbar": {
              "outlinewidth": 0,
              "ticks": ""
             }
            },
            "type": "scatterpolar"
           }
          ],
          "scatterpolargl": [
           {
            "marker": {
             "colorbar": {
              "outlinewidth": 0,
              "ticks": ""
             }
            },
            "type": "scatterpolargl"
           }
          ],
          "scatterternary": [
           {
            "marker": {
             "colorbar": {
              "outlinewidth": 0,
              "ticks": ""
             }
            },
            "type": "scatterternary"
           }
          ],
          "surface": [
           {
            "colorbar": {
             "outlinewidth": 0,
             "ticks": ""
            },
            "colorscale": [
             [
              0,
              "#0d0887"
             ],
             [
              0.1111111111111111,
              "#46039f"
             ],
             [
              0.2222222222222222,
              "#7201a8"
             ],
             [
              0.3333333333333333,
              "#9c179e"
             ],
             [
              0.4444444444444444,
              "#bd3786"
             ],
             [
              0.5555555555555556,
              "#d8576b"
             ],
             [
              0.6666666666666666,
              "#ed7953"
             ],
             [
              0.7777777777777778,
              "#fb9f3a"
             ],
             [
              0.8888888888888888,
              "#fdca26"
             ],
             [
              1,
              "#f0f921"
             ]
            ],
            "type": "surface"
           }
          ],
          "table": [
           {
            "cells": {
             "fill": {
              "color": "#EBF0F8"
             },
             "line": {
              "color": "white"
             }
            },
            "header": {
             "fill": {
              "color": "#C8D4E3"
             },
             "line": {
              "color": "white"
             }
            },
            "type": "table"
           }
          ]
         },
         "layout": {
          "annotationdefaults": {
           "arrowcolor": "#2a3f5f",
           "arrowhead": 0,
           "arrowwidth": 1
          },
          "autotypenumbers": "strict",
          "coloraxis": {
           "colorbar": {
            "outlinewidth": 0,
            "ticks": ""
           }
          },
          "colorscale": {
           "diverging": [
            [
             0,
             "#8e0152"
            ],
            [
             0.1,
             "#c51b7d"
            ],
            [
             0.2,
             "#de77ae"
            ],
            [
             0.3,
             "#f1b6da"
            ],
            [
             0.4,
             "#fde0ef"
            ],
            [
             0.5,
             "#f7f7f7"
            ],
            [
             0.6,
             "#e6f5d0"
            ],
            [
             0.7,
             "#b8e186"
            ],
            [
             0.8,
             "#7fbc41"
            ],
            [
             0.9,
             "#4d9221"
            ],
            [
             1,
             "#276419"
            ]
           ],
           "sequential": [
            [
             0,
             "#0d0887"
            ],
            [
             0.1111111111111111,
             "#46039f"
            ],
            [
             0.2222222222222222,
             "#7201a8"
            ],
            [
             0.3333333333333333,
             "#9c179e"
            ],
            [
             0.4444444444444444,
             "#bd3786"
            ],
            [
             0.5555555555555556,
             "#d8576b"
            ],
            [
             0.6666666666666666,
             "#ed7953"
            ],
            [
             0.7777777777777778,
             "#fb9f3a"
            ],
            [
             0.8888888888888888,
             "#fdca26"
            ],
            [
             1,
             "#f0f921"
            ]
           ],
           "sequentialminus": [
            [
             0,
             "#0d0887"
            ],
            [
             0.1111111111111111,
             "#46039f"
            ],
            [
             0.2222222222222222,
             "#7201a8"
            ],
            [
             0.3333333333333333,
             "#9c179e"
            ],
            [
             0.4444444444444444,
             "#bd3786"
            ],
            [
             0.5555555555555556,
             "#d8576b"
            ],
            [
             0.6666666666666666,
             "#ed7953"
            ],
            [
             0.7777777777777778,
             "#fb9f3a"
            ],
            [
             0.8888888888888888,
             "#fdca26"
            ],
            [
             1,
             "#f0f921"
            ]
           ]
          },
          "colorway": [
           "#636efa",
           "#EF553B",
           "#00cc96",
           "#ab63fa",
           "#FFA15A",
           "#19d3f3",
           "#FF6692",
           "#B6E880",
           "#FF97FF",
           "#FECB52"
          ],
          "font": {
           "color": "#2a3f5f"
          },
          "geo": {
           "bgcolor": "white",
           "lakecolor": "white",
           "landcolor": "white",
           "showlakes": true,
           "showland": true,
           "subunitcolor": "#C8D4E3"
          },
          "hoverlabel": {
           "align": "left"
          },
          "hovermode": "closest",
          "mapbox": {
           "style": "light"
          },
          "paper_bgcolor": "white",
          "plot_bgcolor": "white",
          "polar": {
           "angularaxis": {
            "gridcolor": "#EBF0F8",
            "linecolor": "#EBF0F8",
            "ticks": ""
           },
           "bgcolor": "white",
           "radialaxis": {
            "gridcolor": "#EBF0F8",
            "linecolor": "#EBF0F8",
            "ticks": ""
           }
          },
          "scene": {
           "xaxis": {
            "backgroundcolor": "white",
            "gridcolor": "#DFE8F3",
            "gridwidth": 2,
            "linecolor": "#EBF0F8",
            "showbackground": true,
            "ticks": "",
            "zerolinecolor": "#EBF0F8"
           },
           "yaxis": {
            "backgroundcolor": "white",
            "gridcolor": "#DFE8F3",
            "gridwidth": 2,
            "linecolor": "#EBF0F8",
            "showbackground": true,
            "ticks": "",
            "zerolinecolor": "#EBF0F8"
           },
           "zaxis": {
            "backgroundcolor": "white",
            "gridcolor": "#DFE8F3",
            "gridwidth": 2,
            "linecolor": "#EBF0F8",
            "showbackground": true,
            "ticks": "",
            "zerolinecolor": "#EBF0F8"
           }
          },
          "shapedefaults": {
           "line": {
            "color": "#2a3f5f"
           }
          },
          "ternary": {
           "aaxis": {
            "gridcolor": "#DFE8F3",
            "linecolor": "#A2B1C6",
            "ticks": ""
           },
           "baxis": {
            "gridcolor": "#DFE8F3",
            "linecolor": "#A2B1C6",
            "ticks": ""
           },
           "bgcolor": "white",
           "caxis": {
            "gridcolor": "#DFE8F3",
            "linecolor": "#A2B1C6",
            "ticks": ""
           }
          },
          "title": {
           "x": 0.05
          },
          "xaxis": {
           "automargin": true,
           "gridcolor": "#EBF0F8",
           "linecolor": "#EBF0F8",
           "ticks": "",
           "title": {
            "standoff": 15
           },
           "zerolinecolor": "#EBF0F8",
           "zerolinewidth": 2
          },
          "yaxis": {
           "automargin": true,
           "gridcolor": "#EBF0F8",
           "linecolor": "#EBF0F8",
           "ticks": "",
           "title": {
            "standoff": 15
           },
           "zerolinecolor": "#EBF0F8",
           "zerolinewidth": 2
          }
         }
        },
        "title": {
         "text": "<b>Vehicle fleet stock and flow in ON by vehicle class (7 lifetime classes)</b>",
         "x": 0.08,
         "xanchor": "left",
         "y": 0.94,
         "yanchor": "top"
        },
        "width": 1200,
        "xaxis": {
         "anchor": "y",
         "categoryarray": [
          "new capacity",
          "retired cap"
         ],
         "categoryorder": "array",
         "domain": [
          0,
          0.14666666666666667
         ],
         "showticklabels": false,
         "title": {
          "text": ""
         }
        },
        "xaxis10": {
         "anchor": "y10",
         "domain": [
          0.5,
          0.6466666666666667
         ],
         "matches": "x",
         "showticklabels": false,
         "title": {
          "text": ""
         }
        },
        "xaxis11": {
         "anchor": "y11",
         "domain": [
          0.6666666666666666,
          0.8133333333333332
         ],
         "matches": "x",
         "showticklabels": false,
         "title": {
          "text": ""
         }
        },
        "xaxis12": {
         "anchor": "y12",
         "domain": [
          0.8333333333333334,
          0.98
         ],
         "matches": "x",
         "showticklabels": false,
         "title": {
          "text": ""
         }
        },
        "xaxis2": {
         "anchor": "y2",
         "categoryarray": [
          "new capacity",
          "retired cap"
         ],
         "categoryorder": "array",
         "domain": [
          0.16666666666666666,
          0.31333333333333335
         ],
         "matches": "x",
         "showticklabels": false,
         "title": {
          "text": ""
         }
        },
        "xaxis3": {
         "anchor": "y3",
         "categoryarray": [
          "new capacity",
          "retired cap"
         ],
         "categoryorder": "array",
         "domain": [
          0.3333333333333333,
          0.48
         ],
         "matches": "x",
         "showticklabels": false,
         "title": {
          "text": ""
         }
        },
        "xaxis4": {
         "anchor": "y4",
         "categoryarray": [
          "new capacity",
          "retired cap"
         ],
         "categoryorder": "array",
         "domain": [
          0.5,
          0.6466666666666667
         ],
         "matches": "x",
         "showticklabels": false,
         "title": {
          "text": ""
         }
        },
        "xaxis5": {
         "anchor": "y5",
         "categoryarray": [
          "new capacity",
          "retired cap"
         ],
         "categoryorder": "array",
         "domain": [
          0.6666666666666666,
          0.8133333333333332
         ],
         "matches": "x",
         "showticklabels": false,
         "title": {
          "text": ""
         }
        },
        "xaxis6": {
         "anchor": "y6",
         "categoryarray": [
          "new capacity",
          "retired cap"
         ],
         "categoryorder": "array",
         "domain": [
          0.8333333333333334,
          0.98
         ],
         "matches": "x",
         "showticklabels": false,
         "title": {
          "text": ""
         }
        },
        "xaxis7": {
         "anchor": "y7",
         "domain": [
          0,
          0.14666666666666667
         ],
         "matches": "x",
         "showticklabels": false,
         "title": {
          "text": ""
         }
        },
        "xaxis8": {
         "anchor": "y8",
         "domain": [
          0.16666666666666666,
          0.31333333333333335
         ],
         "matches": "x",
         "showticklabels": false,
         "title": {
          "text": ""
         }
        },
        "xaxis9": {
         "anchor": "y9",
         "domain": [
          0.3333333333333333,
          0.48
         ],
         "matches": "x",
         "showticklabels": false,
         "title": {
          "text": ""
         }
        },
        "yaxis": {
         "anchor": "x",
         "domain": [
          0,
          0.48
         ],
         "matches": "y",
         "nticks": 8,
         "tickformat": "~s",
         "title": {
          "standoff": 0,
          "text": ""
         },
         "zeroline": true,
         "zerolinecolor": "black"
        },
        "yaxis10": {
         "anchor": "x10",
         "domain": [
          0.52,
          1
         ],
         "matches": "y8",
         "nticks": 8,
         "showticklabels": false,
         "tickformat": "~s",
         "title": {
          "text": ""
         },
         "zeroline": true,
         "zerolinecolor": "black"
        },
        "yaxis11": {
         "anchor": "x11",
         "domain": [
          0.52,
          1
         ],
         "matches": "y8",
         "nticks": 8,
         "showticklabels": false,
         "tickformat": "~s",
         "title": {
          "text": ""
         },
         "zeroline": true,
         "zerolinecolor": "black"
        },
        "yaxis12": {
         "anchor": "x12",
         "domain": [
          0.52,
          1
         ],
         "matches": "y8",
         "nticks": 8,
         "showticklabels": false,
         "tickformat": "~s",
         "title": {
          "text": ""
         },
         "zeroline": true,
         "zerolinecolor": "black"
        },
        "yaxis2": {
         "anchor": "x2",
         "domain": [
          0,
          0.48
         ],
         "matches": "y",
         "nticks": 8,
         "showticklabels": false,
         "tickformat": "~s",
         "title": {
          "text": ""
         },
         "zeroline": true,
         "zerolinecolor": "black"
        },
        "yaxis3": {
         "anchor": "x3",
         "domain": [
          0,
          0.48
         ],
         "matches": "y",
         "nticks": 8,
         "showticklabels": false,
         "tickformat": "~s",
         "title": {
          "text": ""
         },
         "zeroline": true,
         "zerolinecolor": "black"
        },
        "yaxis4": {
         "anchor": "x4",
         "domain": [
          0,
          0.48
         ],
         "matches": "y",
         "nticks": 8,
         "showticklabels": false,
         "tickformat": "~s",
         "title": {
          "text": ""
         },
         "zeroline": true,
         "zerolinecolor": "black"
        },
        "yaxis5": {
         "anchor": "x5",
         "domain": [
          0,
          0.48
         ],
         "matches": "y",
         "nticks": 8,
         "showticklabels": false,
         "tickformat": "~s",
         "title": {
          "text": ""
         },
         "zeroline": true,
         "zerolinecolor": "black"
        },
        "yaxis6": {
         "anchor": "x6",
         "domain": [
          0,
          0.48
         ],
         "matches": "y",
         "nticks": 8,
         "showticklabels": false,
         "tickformat": "~s",
         "title": {
          "text": ""
         },
         "zeroline": true,
         "zerolinecolor": "black"
        },
        "yaxis7": {
         "anchor": "x7",
         "domain": [
          0.52,
          1
         ],
         "matches": "y8",
         "nticks": 8,
         "tickformat": "~s",
         "title": {
          "text": ""
         },
         "zeroline": true,
         "zerolinecolor": "black"
        },
        "yaxis8": {
         "anchor": "x8",
         "domain": [
          0.52,
          1
         ],
         "matches": "y8",
         "nticks": 8,
         "showticklabels": false,
         "tickformat": "~s",
         "title": {
          "text": ""
         },
         "zeroline": true,
         "zerolinecolor": "black"
        },
        "yaxis9": {
         "anchor": "x9",
         "domain": [
          0.52,
          1
         ],
         "matches": "y8",
         "nticks": 8,
         "showticklabels": false,
         "tickformat": "~s",
         "title": {
          "text": ""
         },
         "zeroline": true,
         "zerolinecolor": "black"
        }
       }
      }
     },
     "metadata": {},
     "output_type": "display_data"
    },
    {
     "data": {
      "application/vnd.plotly.v1+json": {
       "config": {
        "plotlyServerURL": "https://plot.ly"
       },
       "data": [
        {
         "hovertemplate": "fuel=Gasoline<br>cap type=%{x}<br>mode=LD Truck<br>vintage=2025<br>capacity=%{y}<extra></extra>",
         "legendgroup": "Gasoline, retired cap",
         "marker": {
          "color": "red",
          "pattern": {
           "shape": "/"
          }
         },
         "name": "Gasoline",
         "orientation": "v",
         "showlegend": true,
         "textfont": {
          "size": 11
         },
         "textposition": "auto",
         "texttemplate": "%{y:.2s}",
         "type": "bar",
         "x": [
          "retired cap"
         ],
         "xaxis": "x7",
         "y": {
          "bdata": "AAAAAPzZIME=",
          "dtype": "f8"
         },
         "yaxis": "y7"
        },
        {
         "hovertemplate": "fuel=Gasoline<br>cap type=%{x}<br>mode=LD Truck<br>vintage=2030<br>capacity=%{y}<extra></extra>",
         "legendgroup": "Gasoline, retired cap",
         "marker": {
          "color": "red",
          "pattern": {
           "shape": "/"
          }
         },
         "name": "Gasoline",
         "orientation": "v",
         "showlegend": false,
         "textfont": {
          "size": 11
         },
         "textposition": "auto",
         "texttemplate": "%{y:.2s}",
         "type": "bar",
         "x": [
          "retired cap"
         ],
         "xaxis": "x8",
         "y": {
          "bdata": "AAAAAF5fMME=",
          "dtype": "f8"
         },
         "yaxis": "y8"
        },
        {
         "hovertemplate": "fuel=Gasoline<br>cap type=%{x}<br>mode=LD Truck<br>vintage=2035<br>capacity=%{y}<extra></extra>",
         "legendgroup": "Gasoline, retired cap",
         "marker": {
          "color": "red",
          "pattern": {
           "shape": "/"
          }
         },
         "name": "Gasoline",
         "orientation": "v",
         "showlegend": false,
         "textfont": {
          "size": 11
         },
         "textposition": "auto",
         "texttemplate": "%{y:.2s}",
         "type": "bar",
         "x": [
          "retired cap"
         ],
         "xaxis": "x9",
         "y": {
          "bdata": "AAAAAGzwMcE=",
          "dtype": "f8"
         },
         "yaxis": "y9"
        },
        {
         "hovertemplate": "fuel=Gasoline<br>cap type=%{x}<br>mode=LD Truck<br>vintage=2040<br>capacity=%{y}<extra></extra>",
         "legendgroup": "Gasoline, retired cap",
         "marker": {
          "color": "red",
          "pattern": {
           "shape": "/"
          }
         },
         "name": "Gasoline",
         "orientation": "v",
         "showlegend": false,
         "textfont": {
          "size": 11
         },
         "textposition": "auto",
         "texttemplate": "%{y:.2s}",
         "type": "bar",
         "x": [
          "retired cap"
         ],
         "xaxis": "x10",
         "y": {
          "bdata": "AAAAAKCgLsE=",
          "dtype": "f8"
         },
         "yaxis": "y10"
        },
        {
         "hovertemplate": "fuel=Gasoline<br>cap type=%{x}<br>mode=LD Truck<br>vintage=2045<br>capacity=%{y}<extra></extra>",
         "legendgroup": "Gasoline, retired cap",
         "marker": {
          "color": "red",
          "pattern": {
           "shape": "/"
          }
         },
         "name": "Gasoline",
         "orientation": "v",
         "showlegend": false,
         "textfont": {
          "size": 11
         },
         "textposition": "auto",
         "texttemplate": "%{y:.2s}",
         "type": "bar",
         "x": [
          "retired cap"
         ],
         "xaxis": "x11",
         "y": {
          "bdata": "AAAAAHhJFsE=",
          "dtype": "f8"
         },
         "yaxis": "y11"
        },
        {
         "hovertemplate": "fuel=Gasoline<br>cap type=%{x}<br>mode=LD Truck<br>vintage=2050<br>capacity=%{y}<extra></extra>",
         "legendgroup": "Gasoline, retired cap",
         "marker": {
          "color": "red",
          "pattern": {
           "shape": "/"
          }
         },
         "name": "Gasoline",
         "orientation": "v",
         "showlegend": false,
         "textfont": {
          "size": 11
         },
         "textposition": "auto",
         "texttemplate": "%{y:.2s}",
         "type": "bar",
         "x": [
          "retired cap"
         ],
         "xaxis": "x12",
         "y": {
          "bdata": "AAAAAADVBsE=",
          "dtype": "f8"
         },
         "yaxis": "y12"
        },
        {
         "hovertemplate": "fuel=Diesel<br>cap type=%{x}<br>mode=LD Truck<br>vintage=2025<br>capacity=%{y}<extra></extra>",
         "legendgroup": "Diesel, retired cap",
         "marker": {
          "color": "brown",
          "pattern": {
           "shape": "/"
          }
         },
         "name": "Diesel",
         "orientation": "v",
         "showlegend": true,
         "textfont": {
          "size": 11
         },
         "textposition": "auto",
         "texttemplate": "%{y:.2s}",
         "type": "bar",
         "x": [
          "retired cap"
         ],
         "xaxis": "x7",
         "y": {
          "bdata": "AAAAAID42MA=",
          "dtype": "f8"
         },
         "yaxis": "y7"
        },
        {
         "hovertemplate": "fuel=Diesel<br>cap type=%{x}<br>mode=HD Truck<br>vintage=2025<br>capacity=%{y}<extra></extra>",
         "legendgroup": "Diesel, retired cap",
         "marker": {
          "color": "brown",
          "pattern": {
           "shape": "/"
          }
         },
         "name": "Diesel",
         "orientation": "v",
         "showlegend": false,
         "textfont": {
          "size": 11
         },
         "textposition": "auto",
         "texttemplate": "%{y:.2s}",
         "type": "bar",
         "x": [
          "retired cap"
         ],
         "xaxis": "x",
         "y": {
          "bdata": "AAAAAICI0MA=",
          "dtype": "f8"
         },
         "yaxis": "y"
        },
        {
         "hovertemplate": "fuel=Diesel<br>cap type=%{x}<br>mode=LD Truck<br>vintage=2030<br>capacity=%{y}<extra></extra>",
         "legendgroup": "Diesel, retired cap",
         "marker": {
          "color": "brown",
          "pattern": {
           "shape": "/"
          }
         },
         "name": "Diesel",
         "orientation": "v",
         "showlegend": false,
         "textfont": {
          "size": 11
         },
         "textposition": "auto",
         "texttemplate": "%{y:.2s}",
         "type": "bar",
         "x": [
          "retired cap"
         ],
         "xaxis": "x8",
         "y": {
          "bdata": "AAAAAEAU5cA=",
          "dtype": "f8"
         },
         "yaxis": "y8"
        },
        {
         "hovertemplate": "fuel=Diesel<br>cap type=%{x}<br>mode=HD Truck<br>vintage=2030<br>capacity=%{y}<extra></extra>",
         "legendgroup": "Diesel, retired cap",
         "marker": {
          "color": "brown",
          "pattern": {
           "shape": "/"
          }
         },
         "name": "Diesel",
         "orientation": "v",
         "showlegend": false,
         "textfont": {
          "size": 11
         },
         "textposition": "auto",
         "texttemplate": "%{y:.2s}",
         "type": "bar",
         "x": [
          "retired cap"
         ],
         "xaxis": "x2",
         "y": {
          "bdata": "AAAAAIDz08A=",
          "dtype": "f8"
         },
         "yaxis": "y2"
        },
        {
         "hovertemplate": "fuel=Diesel<br>cap type=%{x}<br>mode=LD Truck<br>vintage=2035<br>capacity=%{y}<extra></extra>",
         "legendgroup": "Diesel, retired cap",
         "marker": {
          "color": "brown",
          "pattern": {
           "shape": "/"
          }
         },
         "name": "Diesel",
         "orientation": "v",
         "showlegend": false,
         "textfont": {
          "size": 11
         },
         "textposition": "auto",
         "texttemplate": "%{y:.2s}",
         "type": "bar",
         "x": [
          "retired cap"
         ],
         "xaxis": "x9",
         "y": {
          "bdata": "AAAAAAAr68A=",
          "dtype": "f8"
         },
         "yaxis": "y9"
        },
        {
         "hovertemplate": "fuel=Diesel<br>cap type=%{x}<br>mode=HD Truck<br>vintage=2035<br>capacity=%{y}<extra></extra>",
         "legendgroup": "Diesel, retired cap",
         "marker": {
          "color": "brown",
          "pattern": {
           "shape": "/"
          }
         },
         "name": "Diesel",
         "orientation": "v",
         "showlegend": false,
         "textfont": {
          "size": 11
         },
         "textposition": "auto",
         "texttemplate": "%{y:.2s}",
         "type": "bar",
         "x": [
          "retired cap"
         ],
         "xaxis": "x3",
         "y": {
          "bdata": "AAAAAABZ1cA=",
          "dtype": "f8"
         },
         "yaxis": "y3"
        },
        {
         "hovertemplate": "fuel=Diesel<br>cap type=%{x}<br>mode=LD Truck<br>vintage=2040<br>capacity=%{y}<extra></extra>",
         "legendgroup": "Diesel, retired cap",
         "marker": {
          "color": "brown",
          "pattern": {
           "shape": "/"
          }
         },
         "name": "Diesel",
         "orientation": "v",
         "showlegend": false,
         "textfont": {
          "size": 11
         },
         "textposition": "auto",
         "texttemplate": "%{y:.2s}",
         "type": "bar",
         "x": [
          "retired cap"
         ],
         "xaxis": "x10",
         "y": {
          "bdata": "AAAAAEC76MA=",
          "dtype": "f8"
         },
         "yaxis": "y10"
        },
        {
         "hovertemplate": "fuel=Diesel<br>cap type=%{x}<br>mode=HD Truck<br>vintage=2040<br>capacity=%{y}<extra></extra>",
         "legendgroup": "Diesel, retired cap",
         "marker": {
          "color": "brown",
          "pattern": {
           "shape": "/"
          }
         },
         "name": "Diesel",
         "orientation": "v",
         "showlegend": false,
         "textfont": {
          "size": 11
         },
         "textposition": "auto",
         "texttemplate": "%{y:.2s}",
         "type": "bar",
         "x": [
          "retired cap"
         ],
         "xaxis": "x4",
         "y": {
          "bdata": "AAAAAICE2cA=",
          "dtype": "f8"
         },
         "yaxis": "y4"
        },
        {
         "hovertemplate": "fuel=Diesel<br>cap type=%{x}<br>mode=LD Truck<br>vintage=2045<br>capacity=%{y}<extra></extra>",
         "legendgroup": "Diesel, retired cap",
         "marker": {
          "color": "brown",
          "pattern": {
           "shape": "/"
          }
         },
         "name": "Diesel",
         "orientation": "v",
         "showlegend": false,
         "textfont": {
          "size": 11
         },
         "textposition": "auto",
         "texttemplate": "%{y:.2s}",
         "type": "bar",
         "x": [
          "retired cap"
         ],
         "xaxis": "x11",
         "y": {
          "bdata": "AAAAAIAp0MA=",
          "dtype": "f8"
         },
         "yaxis": "y11"
        },
        {
         "hovertemplate": "fuel=Diesel<br>cap type=%{x}<br>mode=HD Truck<br>vintage=2045<br>capacity=%{y}<extra></extra>",
         "legendgroup": "Diesel, retired cap",
         "marker": {
          "color": "brown",
          "pattern": {
           "shape": "/"
          }
         },
         "name": "Diesel",
         "orientation": "v",
         "showlegend": false,
         "textfont": {
          "size": 11
         },
         "textposition": "auto",
         "texttemplate": "%{y:.2s}",
         "type": "bar",
         "x": [
          "retired cap"
         ],
         "xaxis": "x5",
         "y": {
          "bdata": "AAAAAABCvcA=",
          "dtype": "f8"
         },
         "yaxis": "y5"
        },
        {
         "hovertemplate": "fuel=Diesel<br>cap type=%{x}<br>mode=LD Truck<br>vintage=2050<br>capacity=%{y}<extra></extra>",
         "legendgroup": "Diesel, retired cap",
         "marker": {
          "color": "brown",
          "pattern": {
           "shape": "/"
          }
         },
         "name": "Diesel",
         "orientation": "v",
         "showlegend": false,
         "textfont": {
          "size": 11
         },
         "textposition": "auto",
         "texttemplate": "%{y:.2s}",
         "type": "bar",
         "x": [
          "retired cap"
         ],
         "xaxis": "x12",
         "y": {
          "bdata": "AAAAAACewcA=",
          "dtype": "f8"
         },
         "yaxis": "y12"
        },
        {
         "hovertemplate": "fuel=Diesel<br>cap type=%{x}<br>mode=HD Truck<br>vintage=2050<br>capacity=%{y}<extra></extra>",
         "legendgroup": "Diesel, retired cap",
         "marker": {
          "color": "brown",
          "pattern": {
           "shape": "/"
          }
         },
         "name": "Diesel",
         "orientation": "v",
         "showlegend": false,
         "textfont": {
          "size": 11
         },
         "textposition": "auto",
         "texttemplate": "%{y:.2s}",
         "type": "bar",
         "x": [
          "retired cap"
         ],
         "xaxis": "x6",
         "y": {
          "bdata": "AAAAAAC4sMA=",
          "dtype": "f8"
         },
         "yaxis": "y6"
        },
        {
         "hovertemplate": "fuel=Hybrid<br>cap type=%{x}<br>mode=HD Truck<br>vintage=2025<br>capacity=%{y}<extra></extra>",
         "legendgroup": "Hybrid, new capacity",
         "marker": {
          "color": "darkorange",
          "pattern": {
           "shape": ""
          }
         },
         "name": "Hybrid",
         "orientation": "v",
         "showlegend": true,
         "textfont": {
          "size": 11
         },
         "textposition": "auto",
         "texttemplate": "%{y:.2s}",
         "type": "bar",
         "x": [
          "new capacity"
         ],
         "xaxis": "x",
         "y": {
          "bdata": "AAAAAABm0kA=",
          "dtype": "f8"
         },
         "yaxis": "y"
        },
        {
         "hovertemplate": "fuel=Hybrid<br>cap type=%{x}<br>mode=HD Truck<br>vintage=2030<br>capacity=%{y}<extra></extra>",
         "legendgroup": "Hybrid, new capacity",
         "marker": {
          "color": "darkorange",
          "pattern": {
           "shape": ""
          }
         },
         "name": "Hybrid",
         "orientation": "v",
         "showlegend": false,
         "textfont": {
          "size": 11
         },
         "textposition": "auto",
         "texttemplate": "%{y:.2s}",
         "type": "bar",
         "x": [
          "new capacity"
         ],
         "xaxis": "x2",
         "y": {
          "bdata": "AAAAAABJxkA=",
          "dtype": "f8"
         },
         "yaxis": "y2"
        },
        {
         "hovertemplate": "fuel=Hybrid<br>cap type=%{x}<br>mode=HD Truck<br>vintage=2035<br>capacity=%{y}<extra></extra>",
         "legendgroup": "Hybrid, new capacity",
         "marker": {
          "color": "darkorange",
          "pattern": {
           "shape": ""
          }
         },
         "name": "Hybrid",
         "orientation": "v",
         "showlegend": false,
         "textfont": {
          "size": 11
         },
         "textposition": "auto",
         "texttemplate": "%{y:.2s}",
         "type": "bar",
         "x": [
          "new capacity"
         ],
         "xaxis": "x3",
         "y": {
          "bdata": "AAAAAACnzEA=",
          "dtype": "f8"
         },
         "yaxis": "y3"
        },
        {
         "hovertemplate": "fuel=Hybrid<br>cap type=%{x}<br>mode=HD Truck<br>vintage=2040<br>capacity=%{y}<extra></extra>",
         "legendgroup": "Hybrid, new capacity",
         "marker": {
          "color": "darkorange",
          "pattern": {
           "shape": ""
          }
         },
         "name": "Hybrid",
         "orientation": "v",
         "showlegend": false,
         "textfont": {
          "size": 11
         },
         "textposition": "auto",
         "texttemplate": "%{y:.2s}",
         "type": "bar",
         "x": [
          "new capacity"
         ],
         "xaxis": "x4",
         "y": {
          "bdata": "AAAAAAAbx0A=",
          "dtype": "f8"
         },
         "yaxis": "y4"
        },
        {
         "hovertemplate": "fuel=Hybrid<br>cap type=%{x}<br>mode=HD Truck<br>vintage=2045<br>capacity=%{y}<extra></extra>",
         "legendgroup": "Hybrid, new capacity",
         "marker": {
          "color": "darkorange",
          "pattern": {
           "shape": ""
          }
         },
         "name": "Hybrid",
         "orientation": "v",
         "showlegend": false,
         "textfont": {
          "size": 11
         },
         "textposition": "auto",
         "texttemplate": "%{y:.2s}",
         "type": "bar",
         "x": [
          "new capacity"
         ],
         "xaxis": "x5",
         "y": {
          "bdata": "AAAAAAAFxEA=",
          "dtype": "f8"
         },
         "yaxis": "y5"
        },
        {
         "hovertemplate": "fuel=Hybrid<br>cap type=%{x}<br>mode=HD Truck<br>vintage=2050<br>capacity=%{y}<extra></extra>",
         "legendgroup": "Hybrid, new capacity",
         "marker": {
          "color": "darkorange",
          "pattern": {
           "shape": ""
          }
         },
         "name": "Hybrid",
         "orientation": "v",
         "showlegend": false,
         "textfont": {
          "size": 11
         },
         "textposition": "auto",
         "texttemplate": "%{y:.2s}",
         "type": "bar",
         "x": [
          "new capacity"
         ],
         "xaxis": "x6",
         "y": {
          "bdata": "AAAAAAC5yUA=",
          "dtype": "f8"
         },
         "yaxis": "y6"
        },
        {
         "hovertemplate": "fuel=Hybrid<br>cap type=%{x}<br>mode=LD Truck<br>vintage=2025<br>capacity=%{y}<extra></extra>",
         "legendgroup": "Hybrid, retired cap",
         "marker": {
          "color": "darkorange",
          "pattern": {
           "shape": "/"
          }
         },
         "name": "Hybrid",
         "orientation": "v",
         "showlegend": false,
         "textfont": {
          "size": 11
         },
         "textposition": "auto",
         "texttemplate": "%{y:.2s}",
         "type": "bar",
         "x": [
          "retired cap"
         ],
         "xaxis": "x7",
         "y": {
          "bdata": "AAAAAADYo8A=",
          "dtype": "f8"
         },
         "yaxis": "y7"
        },
        {
         "hovertemplate": "fuel=Hybrid<br>cap type=%{x}<br>mode=LD Truck<br>vintage=2030<br>capacity=%{y}<extra></extra>",
         "legendgroup": "Hybrid, retired cap",
         "marker": {
          "color": "darkorange",
          "pattern": {
           "shape": "/"
          }
         },
         "name": "Hybrid",
         "orientation": "v",
         "showlegend": false,
         "textfont": {
          "size": 11
         },
         "textposition": "auto",
         "texttemplate": "%{y:.2s}",
         "type": "bar",
         "x": [
          "retired cap"
         ],
         "xaxis": "x8",
         "y": {
          "bdata": "AAAAAADYo8A=",
          "dtype": "f8"
         },
         "yaxis": "y8"
        },
        {
         "hovertemplate": "fuel=Hybrid<br>cap type=%{x}<br>mode=HD Truck<br>vintage=2030<br>capacity=%{y}<extra></extra>",
         "legendgroup": "Hybrid, retired cap",
         "marker": {
          "color": "darkorange",
          "pattern": {
           "shape": "/"
          }
         },
         "name": "Hybrid",
         "orientation": "v",
         "showlegend": false,
         "textfont": {
          "size": 11
         },
         "textposition": "auto",
         "texttemplate": "%{y:.2s}",
         "type": "bar",
         "x": [
          "retired cap"
         ],
         "xaxis": "x2",
         "y": {
          "bdata": "AAAAAAB0o8A=",
          "dtype": "f8"
         },
         "yaxis": "y2"
        },
        {
         "hovertemplate": "fuel=Hybrid<br>cap type=%{x}<br>mode=LD Truck<br>vintage=2035<br>capacity=%{y}<extra></extra>",
         "legendgroup": "Hybrid, retired cap",
         "marker": {
          "color": "darkorange",
          "pattern": {
           "shape": "/"
          }
         },
         "name": "Hybrid",
         "orientation": "v",
         "showlegend": false,
         "textfont": {
          "size": 11
         },
         "textposition": "auto",
         "texttemplate": "%{y:.2s}",
         "type": "bar",
         "x": [
          "retired cap"
         ],
         "xaxis": "x9",
         "y": {
          "bdata": "AAAAAABkrsA=",
          "dtype": "f8"
         },
         "yaxis": "y9"
        },
        {
         "hovertemplate": "fuel=Hybrid<br>cap type=%{x}<br>mode=HD Truck<br>vintage=2035<br>capacity=%{y}<extra></extra>",
         "legendgroup": "Hybrid, retired cap",
         "marker": {
          "color": "darkorange",
          "pattern": {
           "shape": "/"
          }
         },
         "name": "Hybrid",
         "orientation": "v",
         "showlegend": false,
         "textfont": {
          "size": 11
         },
         "textposition": "auto",
         "texttemplate": "%{y:.2s}",
         "type": "bar",
         "x": [
          "retired cap"
         ],
         "xaxis": "x3",
         "y": {
          "bdata": "AAAAAACOssA=",
          "dtype": "f8"
         },
         "yaxis": "y3"
        },
        {
         "hovertemplate": "fuel=Hybrid<br>cap type=%{x}<br>mode=LD Truck<br>vintage=2040<br>capacity=%{y}<extra></extra>",
         "legendgroup": "Hybrid, retired cap",
         "marker": {
          "color": "darkorange",
          "pattern": {
           "shape": "/"
          }
         },
         "name": "Hybrid",
         "orientation": "v",
         "showlegend": false,
         "textfont": {
          "size": 11
         },
         "textposition": "auto",
         "texttemplate": "%{y:.2s}",
         "type": "bar",
         "x": [
          "retired cap"
         ],
         "xaxis": "x10",
         "y": {
          "bdata": "AAAAAACIvcA=",
          "dtype": "f8"
         },
         "yaxis": "y10"
        },
        {
         "hovertemplate": "fuel=Hybrid<br>cap type=%{x}<br>mode=HD Truck<br>vintage=2040<br>capacity=%{y}<extra></extra>",
         "legendgroup": "Hybrid, retired cap",
         "marker": {
          "color": "darkorange",
          "pattern": {
           "shape": "/"
          }
         },
         "name": "Hybrid",
         "orientation": "v",
         "showlegend": false,
         "textfont": {
          "size": 11
         },
         "textposition": "auto",
         "texttemplate": "%{y:.2s}",
         "type": "bar",
         "x": [
          "retired cap"
         ],
         "xaxis": "x4",
         "y": {
          "bdata": "AAAAAACyy8A=",
          "dtype": "f8"
         },
         "yaxis": "y4"
        },
        {
         "hovertemplate": "fuel=Hybrid<br>cap type=%{x}<br>mode=LD Truck<br>vintage=2045<br>capacity=%{y}<extra></extra>",
         "legendgroup": "Hybrid, retired cap",
         "marker": {
          "color": "darkorange",
          "pattern": {
           "shape": "/"
          }
         },
         "name": "Hybrid",
         "orientation": "v",
         "showlegend": false,
         "textfont": {
          "size": 11
         },
         "textposition": "auto",
         "texttemplate": "%{y:.2s}",
         "type": "bar",
         "x": [
          "retired cap"
         ],
         "xaxis": "x11",
         "y": {
          "bdata": "AAAAAADMoMA=",
          "dtype": "f8"
         },
         "yaxis": "y11"
        },
        {
         "hovertemplate": "fuel=Hybrid<br>cap type=%{x}<br>mode=HD Truck<br>vintage=2045<br>capacity=%{y}<extra></extra>",
         "legendgroup": "Hybrid, retired cap",
         "marker": {
          "color": "darkorange",
          "pattern": {
           "shape": "/"
          }
         },
         "name": "Hybrid",
         "orientation": "v",
         "showlegend": false,
         "textfont": {
          "size": 11
         },
         "textposition": "auto",
         "texttemplate": "%{y:.2s}",
         "type": "bar",
         "x": [
          "retired cap"
         ],
         "xaxis": "x5",
         "y": {
          "bdata": "AAAAAAD3x8A=",
          "dtype": "f8"
         },
         "yaxis": "y5"
        },
        {
         "hovertemplate": "fuel=Hybrid<br>cap type=%{x}<br>mode=LD Truck<br>vintage=2050<br>capacity=%{y}<extra></extra>",
         "legendgroup": "Hybrid, retired cap",
         "marker": {
          "color": "darkorange",
          "pattern": {
           "shape": "/"
          }
         },
         "name": "Hybrid",
         "orientation": "v",
         "showlegend": false,
         "textfont": {
          "size": 11
         },
         "textposition": "auto",
         "texttemplate": "%{y:.2s}",
         "type": "bar",
         "x": [
          "retired cap"
         ],
         "xaxis": "x12",
         "y": {
          "bdata": "AAAAAAAAecA=",
          "dtype": "f8"
         },
         "yaxis": "y12"
        },
        {
         "hovertemplate": "fuel=Hybrid<br>cap type=%{x}<br>mode=HD Truck<br>vintage=2050<br>capacity=%{y}<extra></extra>",
         "legendgroup": "Hybrid, retired cap",
         "marker": {
          "color": "darkorange",
          "pattern": {
           "shape": "/"
          }
         },
         "name": "Hybrid",
         "orientation": "v",
         "showlegend": false,
         "textfont": {
          "size": 11
         },
         "textposition": "auto",
         "texttemplate": "%{y:.2s}",
         "type": "bar",
         "x": [
          "retired cap"
         ],
         "xaxis": "x6",
         "y": {
          "bdata": "AAAAAAAoycA=",
          "dtype": "f8"
         },
         "yaxis": "y6"
        },
        {
         "hovertemplate": "fuel=PHEV (35-mile AER)<br>cap type=%{x}<br>mode=LD Truck<br>vintage=2025<br>capacity=%{y}<extra></extra>",
         "legendgroup": "PHEV (35-mile AER), new capacity",
         "marker": {
          "color": "dodgerblue",
          "pattern": {
           "shape": ""
          }
         },
         "name": "PHEV (35-mile AER)",
         "orientation": "v",
         "showlegend": true,
         "textfont": {
          "size": 11
         },
         "textposition": "auto",
         "texttemplate": "%{y:.2s}",
         "type": "bar",
         "x": [
          "new capacity"
         ],
         "xaxis": "x7",
         "y": {
          "bdata": "AAAAAACMvkA=",
          "dtype": "f8"
         },
         "yaxis": "y7"
        },
        {
         "hovertemplate": "fuel=PHEV (35-mile AER)<br>cap type=%{x}<br>mode=LD Truck<br>vintage=2030<br>capacity=%{y}<extra></extra>",
         "legendgroup": "PHEV (35-mile AER), new capacity",
         "marker": {
          "color": "dodgerblue",
          "pattern": {
           "shape": ""
          }
         },
         "name": "PHEV (35-mile AER)",
         "orientation": "v",
         "showlegend": false,
         "textfont": {
          "size": 11
         },
         "textposition": "auto",
         "texttemplate": "%{y:.2s}",
         "type": "bar",
         "x": [
          "new capacity"
         ],
         "xaxis": "x8",
         "y": {
          "bdata": "AAAAAAAitUA=",
          "dtype": "f8"
         },
         "yaxis": "y8"
        },
        {
         "hovertemplate": "fuel=PHEV (35-mile AER)<br>cap type=%{x}<br>mode=LD Truck<br>vintage=2035<br>capacity=%{y}<extra></extra>",
         "legendgroup": "PHEV (35-mile AER), new capacity",
         "marker": {
          "color": "dodgerblue",
          "pattern": {
           "shape": ""
          }
         },
         "name": "PHEV (35-mile AER)",
         "orientation": "v",
         "showlegend": false,
         "textfont": {
          "size": 11
         },
         "textposition": "auto",
         "texttemplate": "%{y:.2s}",
         "type": "bar",
         "x": [
          "new capacity"
         ],
         "xaxis": "x9",
         "y": {
          "bdata": "AAAAAADMtUA=",
          "dtype": "f8"
         },
         "yaxis": "y9"
        },
        {
         "hovertemplate": "fuel=PHEV (35-mile AER)<br>cap type=%{x}<br>mode=LD Truck<br>vintage=2040<br>capacity=%{y}<extra></extra>",
         "legendgroup": "PHEV (35-mile AER), new capacity",
         "marker": {
          "color": "dodgerblue",
          "pattern": {
           "shape": ""
          }
         },
         "name": "PHEV (35-mile AER)",
         "orientation": "v",
         "showlegend": false,
         "textfont": {
          "size": 11
         },
         "textposition": "auto",
         "texttemplate": "%{y:.2s}",
         "type": "bar",
         "x": [
          "new capacity"
         ],
         "xaxis": "x10",
         "y": {
          "bdata": "AAAAAAC8tkA=",
          "dtype": "f8"
         },
         "yaxis": "y10"
        },
        {
         "hovertemplate": "fuel=PHEV (35-mile AER)<br>cap type=%{x}<br>mode=LD Truck<br>vintage=2045<br>capacity=%{y}<extra></extra>",
         "legendgroup": "PHEV (35-mile AER), new capacity",
         "marker": {
          "color": "dodgerblue",
          "pattern": {
           "shape": ""
          }
         },
         "name": "PHEV (35-mile AER)",
         "orientation": "v",
         "showlegend": false,
         "textfont": {
          "size": 11
         },
         "textposition": "auto",
         "texttemplate": "%{y:.2s}",
         "type": "bar",
         "x": [
          "new capacity"
         ],
         "xaxis": "x11",
         "y": {
          "bdata": "AAAAAABwt0A=",
          "dtype": "f8"
         },
         "yaxis": "y11"
        },
        {
         "hovertemplate": "fuel=PHEV (35-mile AER)<br>cap type=%{x}<br>mode=LD Truck<br>vintage=2050<br>capacity=%{y}<extra></extra>",
         "legendgroup": "PHEV (35-mile AER), new capacity",
         "marker": {
          "color": "dodgerblue",
          "pattern": {
           "shape": ""
          }
         },
         "name": "PHEV (35-mile AER)",
         "orientation": "v",
         "showlegend": false,
         "textfont": {
          "size": 11
         },
         "textposition": "auto",
         "texttemplate": "%{y:.2s}",
         "type": "bar",
         "x": [
          "new capacity"
         ],
         "xaxis": "x12",
         "y": {
          "bdata": "AAAAAABUsEA=",
          "dtype": "f8"
         },
         "yaxis": "y12"
        },
        {
         "hovertemplate": "fuel=PHEV (35-mile AER)<br>cap type=%{x}<br>mode=LD Truck<br>vintage=2025<br>capacity=%{y}<extra></extra>",
         "legendgroup": "PHEV (35-mile AER), retired cap",
         "marker": {
          "color": "dodgerblue",
          "pattern": {
           "shape": "/"
          }
         },
         "name": "PHEV (35-mile AER)",
         "orientation": "v",
         "showlegend": false,
         "textfont": {
          "size": 11
         },
         "textposition": "auto",
         "texttemplate": "%{y:.2s}",
         "type": "bar",
         "x": [
          "retired cap"
         ],
         "xaxis": "x7",
         "y": {
          "bdata": "AAAAAABQhMA=",
          "dtype": "f8"
         },
         "yaxis": "y7"
        },
        {
         "hovertemplate": "fuel=PHEV (35-mile AER)<br>cap type=%{x}<br>mode=LD Truck<br>vintage=2030<br>capacity=%{y}<extra></extra>",
         "legendgroup": "PHEV (35-mile AER), retired cap",
         "marker": {
          "color": "dodgerblue",
          "pattern": {
           "shape": "/"
          }
         },
         "name": "PHEV (35-mile AER)",
         "orientation": "v",
         "showlegend": false,
         "textfont": {
          "size": 11
         },
         "textposition": "auto",
         "texttemplate": "%{y:.2s}",
         "type": "bar",
         "x": [
          "retired cap"
         ],
         "xaxis": "x8",
         "y": {
          "bdata": "AAAAAABO0cA=",
          "dtype": "f8"
         },
         "yaxis": "y8"
        },
        {
         "hovertemplate": "fuel=PHEV (35-mile AER)<br>cap type=%{x}<br>mode=LD Truck<br>vintage=2035<br>capacity=%{y}<extra></extra>",
         "legendgroup": "PHEV (35-mile AER), retired cap",
         "marker": {
          "color": "dodgerblue",
          "pattern": {
           "shape": "/"
          }
         },
         "name": "PHEV (35-mile AER)",
         "orientation": "v",
         "showlegend": false,
         "textfont": {
          "size": 11
         },
         "textposition": "auto",
         "texttemplate": "%{y:.2s}",
         "type": "bar",
         "x": [
          "retired cap"
         ],
         "xaxis": "x9",
         "y": {
          "bdata": "AAAAAEDc4MA=",
          "dtype": "f8"
         },
         "yaxis": "y9"
        },
        {
         "hovertemplate": "fuel=PHEV (35-mile AER)<br>cap type=%{x}<br>mode=LD Truck<br>vintage=2040<br>capacity=%{y}<extra></extra>",
         "legendgroup": "PHEV (35-mile AER), retired cap",
         "marker": {
          "color": "dodgerblue",
          "pattern": {
           "shape": "/"
          }
         },
         "name": "PHEV (35-mile AER)",
         "orientation": "v",
         "showlegend": false,
         "textfont": {
          "size": 11
         },
         "textposition": "auto",
         "texttemplate": "%{y:.2s}",
         "type": "bar",
         "x": [
          "retired cap"
         ],
         "xaxis": "x10",
         "y": {
          "bdata": "AAAAAEBn7MA=",
          "dtype": "f8"
         },
         "yaxis": "y10"
        },
        {
         "hovertemplate": "fuel=PHEV (35-mile AER)<br>cap type=%{x}<br>mode=LD Truck<br>vintage=2045<br>capacity=%{y}<extra></extra>",
         "legendgroup": "PHEV (35-mile AER), retired cap",
         "marker": {
          "color": "dodgerblue",
          "pattern": {
           "shape": "/"
          }
         },
         "name": "PHEV (35-mile AER)",
         "orientation": "v",
         "showlegend": false,
         "textfont": {
          "size": 11
         },
         "textposition": "auto",
         "texttemplate": "%{y:.2s}",
         "type": "bar",
         "x": [
          "retired cap"
         ],
         "xaxis": "x11",
         "y": {
          "bdata": "AAAAAIBl1cA=",
          "dtype": "f8"
         },
         "yaxis": "y11"
        },
        {
         "hovertemplate": "fuel=PHEV (35-mile AER)<br>cap type=%{x}<br>mode=LD Truck<br>vintage=2050<br>capacity=%{y}<extra></extra>",
         "legendgroup": "PHEV (35-mile AER), retired cap",
         "marker": {
          "color": "dodgerblue",
          "pattern": {
           "shape": "/"
          }
         },
         "name": "PHEV (35-mile AER)",
         "orientation": "v",
         "showlegend": false,
         "textfont": {
          "size": 11
         },
         "textposition": "auto",
         "texttemplate": "%{y:.2s}",
         "type": "bar",
         "x": [
          "retired cap"
         ],
         "xaxis": "x12",
         "y": {
          "bdata": "AAAAAABQtMA=",
          "dtype": "f8"
         },
         "yaxis": "y12"
        },
        {
         "hovertemplate": "fuel=BEV (150-mile AER)<br>cap type=%{x}<br>mode=LD Truck<br>vintage=2025<br>capacity=%{y}<extra></extra>",
         "legendgroup": "BEV (150-mile AER), new capacity",
         "marker": {
          "color": "limegreen",
          "pattern": {
           "shape": ""
          }
         },
         "name": "BEV (150-mile AER)",
         "orientation": "v",
         "showlegend": true,
         "textfont": {
          "size": 11
         },
         "textposition": "auto",
         "texttemplate": "%{y:.2s}",
         "type": "bar",
         "x": [
          "new capacity"
         ],
         "xaxis": "x7",
         "y": {
          "bdata": "AAAAAPjkPUE=",
          "dtype": "f8"
         },
         "yaxis": "y7"
        },
        {
         "hovertemplate": "fuel=BEV (150-mile AER)<br>cap type=%{x}<br>mode=LD Truck<br>vintage=2030<br>capacity=%{y}<extra></extra>",
         "legendgroup": "BEV (150-mile AER), new capacity",
         "marker": {
          "color": "limegreen",
          "pattern": {
           "shape": ""
          }
         },
         "name": "BEV (150-mile AER)",
         "orientation": "v",
         "showlegend": false,
         "textfont": {
          "size": 11
         },
         "textposition": "auto",
         "texttemplate": "%{y:.2s}",
         "type": "bar",
         "x": [
          "new capacity"
         ],
         "xaxis": "x8",
         "y": {
          "bdata": "AAAAAIbJOUE=",
          "dtype": "f8"
         },
         "yaxis": "y8"
        },
        {
         "hovertemplate": "fuel=BEV (150-mile AER)<br>cap type=%{x}<br>mode=LD Truck<br>vintage=2035<br>capacity=%{y}<extra></extra>",
         "legendgroup": "BEV (150-mile AER), new capacity",
         "marker": {
          "color": "limegreen",
          "pattern": {
           "shape": ""
          }
         },
         "name": "BEV (150-mile AER)",
         "orientation": "v",
         "showlegend": false,
         "textfont": {
          "size": 11
         },
         "textposition": "auto",
         "texttemplate": "%{y:.2s}",
         "type": "bar",
         "x": [
          "new capacity"
         ],
         "xaxis": "x9",
         "y": {
          "bdata": "AAAAAFA6QUE=",
          "dtype": "f8"
         },
         "yaxis": "y9"
        },
        {
         "hovertemplate": "fuel=BEV (150-mile AER)<br>cap type=%{x}<br>mode=LD Truck<br>vintage=2040<br>capacity=%{y}<extra></extra>",
         "legendgroup": "BEV (150-mile AER), new capacity",
         "marker": {
          "color": "limegreen",
          "pattern": {
           "shape": ""
          }
         },
         "name": "BEV (150-mile AER)",
         "orientation": "v",
         "showlegend": false,
         "textfont": {
          "size": 11
         },
         "textposition": "auto",
         "texttemplate": "%{y:.2s}",
         "type": "bar",
         "x": [
          "new capacity"
         ],
         "xaxis": "x10",
         "y": {
          "bdata": "AAAAAPQ1QkE=",
          "dtype": "f8"
         },
         "yaxis": "y10"
        },
        {
         "hovertemplate": "fuel=BEV (150-mile AER)<br>cap type=%{x}<br>mode=LD Truck<br>vintage=2045<br>capacity=%{y}<extra></extra>",
         "legendgroup": "BEV (150-mile AER), new capacity",
         "marker": {
          "color": "limegreen",
          "pattern": {
           "shape": ""
          }
         },
         "name": "BEV (150-mile AER)",
         "orientation": "v",
         "showlegend": false,
         "textfont": {
          "size": 11
         },
         "textposition": "auto",
         "texttemplate": "%{y:.2s}",
         "type": "bar",
         "x": [
          "new capacity"
         ],
         "xaxis": "x11",
         "y": {
          "bdata": "AAAAAAHiQkE=",
          "dtype": "f8"
         },
         "yaxis": "y11"
        },
        {
         "hovertemplate": "fuel=BEV (150-mile AER)<br>cap type=%{x}<br>mode=LD Truck<br>vintage=2050<br>capacity=%{y}<extra></extra>",
         "legendgroup": "BEV (150-mile AER), new capacity",
         "marker": {
          "color": "limegreen",
          "pattern": {
           "shape": ""
          }
         },
         "name": "BEV (150-mile AER)",
         "orientation": "v",
         "showlegend": false,
         "textfont": {
          "size": 11
         },
         "textposition": "auto",
         "texttemplate": "%{y:.2s}",
         "type": "bar",
         "x": [
          "new capacity"
         ],
         "xaxis": "x12",
         "y": {
          "bdata": "AAAAAP2sREE=",
          "dtype": "f8"
         },
         "yaxis": "y12"
        },
        {
         "hovertemplate": "fuel=BEV (150-mile AER)<br>cap type=%{x}<br>mode=LD Truck<br>vintage=2030<br>capacity=%{y}<extra></extra>",
         "legendgroup": "BEV (150-mile AER), retired cap",
         "marker": {
          "color": "limegreen",
          "pattern": {
           "shape": "/"
          }
         },
         "name": "BEV (150-mile AER)",
         "orientation": "v",
         "showlegend": false,
         "textfont": {
          "size": 11
         },
         "textposition": "auto",
         "texttemplate": "%{y:.2s}",
         "type": "bar",
         "x": [
          "retired cap"
         ],
         "xaxis": "x8",
         "y": {
          "bdata": "AAAAAMgXEcE=",
          "dtype": "f8"
         },
         "yaxis": "y8"
        },
        {
         "hovertemplate": "fuel=BEV (150-mile AER)<br>cap type=%{x}<br>mode=LD Truck<br>vintage=2035<br>capacity=%{y}<extra></extra>",
         "legendgroup": "BEV (150-mile AER), retired cap",
         "marker": {
          "color": "limegreen",
          "pattern": {
           "shape": "/"
          }
         },
         "name": "BEV (150-mile AER)",
         "orientation": "v",
         "showlegend": false,
         "textfont": {
          "size": 11
         },
         "textposition": "auto",
         "texttemplate": "%{y:.2s}",
         "type": "bar",
         "x": [
          "retired cap"
         ],
         "xaxis": "x9",
         "y": {
          "bdata": "AAAAAHAbIME=",
          "dtype": "f8"
         },
         "yaxis": "y9"
        },
        {
         "hovertemplate": "fuel=BEV (150-mile AER)<br>cap type=%{x}<br>mode=LD Truck<br>vintage=2040<br>capacity=%{y}<extra></extra>",
         "legendgroup": "BEV (150-mile AER), retired cap",
         "marker": {
          "color": "limegreen",
          "pattern": {
           "shape": "/"
          }
         },
         "name": "BEV (150-mile AER)",
         "orientation": "v",
         "showlegend": false,
         "textfont": {
          "size": 11
         },
         "textposition": "auto",
         "texttemplate": "%{y:.2s}",
         "type": "bar",
         "x": [
          "retired cap"
         ],
         "xaxis": "x10",
         "y": {
          "bdata": "AAAAAJg0KsE=",
          "dtype": "f8"
         },
         "yaxis": "y10"
        },
        {
         "hovertemplate": "fuel=BEV (150-mile AER)<br>cap type=%{x}<br>mode=LD Truck<br>vintage=2045<br>capacity=%{y}<extra></extra>",
         "legendgroup": "BEV (150-mile AER), retired cap",
         "marker": {
          "color": "limegreen",
          "pattern": {
           "shape": "/"
          }
         },
         "name": "BEV (150-mile AER)",
         "orientation": "v",
         "showlegend": false,
         "textfont": {
          "size": 11
         },
         "textposition": "auto",
         "texttemplate": "%{y:.2s}",
         "type": "bar",
         "x": [
          "retired cap"
         ],
         "xaxis": "x11",
         "y": {
          "bdata": "AAAAAEo+OME=",
          "dtype": "f8"
         },
         "yaxis": "y11"
        },
        {
         "hovertemplate": "fuel=BEV (150-mile AER)<br>cap type=%{x}<br>mode=LD Truck<br>vintage=2050<br>capacity=%{y}<extra></extra>",
         "legendgroup": "BEV (150-mile AER), retired cap",
         "marker": {
          "color": "limegreen",
          "pattern": {
           "shape": "/"
          }
         },
         "name": "BEV (150-mile AER)",
         "orientation": "v",
         "showlegend": false,
         "textfont": {
          "size": 11
         },
         "textposition": "auto",
         "texttemplate": "%{y:.2s}",
         "type": "bar",
         "x": [
          "retired cap"
         ],
         "xaxis": "x12",
         "y": {
          "bdata": "AAAAAHLwOsE=",
          "dtype": "f8"
         },
         "yaxis": "y12"
        },
        {
         "hovertemplate": "fuel=BEV (200-mile AER)<br>cap type=%{x}<br>mode=LD Truck<br>vintage=2025<br>capacity=%{y}<extra></extra>",
         "legendgroup": "BEV (200-mile AER), new capacity",
         "marker": {
          "color": "seagreen",
          "pattern": {
           "shape": ""
          }
         },
         "name": "BEV (200-mile AER)",
         "orientation": "v",
         "showlegend": true,
         "textfont": {
          "size": 11
         },
         "textposition": "auto",
         "texttemplate": "%{y:.2s}",
         "type": "bar",
         "x": [
          "new capacity"
         ],
         "xaxis": "x7",
         "y": {
          "bdata": "AAAAAAAAVEA=",
          "dtype": "f8"
         },
         "yaxis": "y7"
        },
        {
         "hovertemplate": "fuel=BEV (200-mile AER)<br>cap type=%{x}<br>mode=LD Truck<br>vintage=2030<br>capacity=%{y}<extra></extra>",
         "legendgroup": "BEV (200-mile AER), new capacity",
         "marker": {
          "color": "seagreen",
          "pattern": {
           "shape": ""
          }
         },
         "name": "BEV (200-mile AER)",
         "orientation": "v",
         "showlegend": false,
         "textfont": {
          "size": 11
         },
         "textposition": "auto",
         "texttemplate": "%{y:.2s}",
         "type": "bar",
         "x": [
          "new capacity"
         ],
         "xaxis": "x8",
         "y": {
          "bdata": "AAAAAAAAVEA=",
          "dtype": "f8"
         },
         "yaxis": "y8"
        },
        {
         "hovertemplate": "fuel=BEV (200-mile AER)<br>cap type=%{x}<br>mode=LD Truck<br>vintage=2035<br>capacity=%{y}<extra></extra>",
         "legendgroup": "BEV (200-mile AER), new capacity",
         "marker": {
          "color": "seagreen",
          "pattern": {
           "shape": ""
          }
         },
         "name": "BEV (200-mile AER)",
         "orientation": "v",
         "showlegend": false,
         "textfont": {
          "size": 11
         },
         "textposition": "auto",
         "texttemplate": "%{y:.2s}",
         "type": "bar",
         "x": [
          "new capacity"
         ],
         "xaxis": "x9",
         "y": {
          "bdata": "AAAAAACAVkA=",
          "dtype": "f8"
         },
         "yaxis": "y9"
        },
        {
         "hovertemplate": "fuel=BEV (200-mile AER)<br>cap type=%{x}<br>mode=LD Truck<br>vintage=2040<br>capacity=%{y}<extra></extra>",
         "legendgroup": "BEV (200-mile AER), new capacity",
         "marker": {
          "color": "seagreen",
          "pattern": {
           "shape": ""
          }
         },
         "name": "BEV (200-mile AER)",
         "orientation": "v",
         "showlegend": false,
         "textfont": {
          "size": 11
         },
         "textposition": "auto",
         "texttemplate": "%{y:.2s}",
         "type": "bar",
         "x": [
          "new capacity"
         ],
         "xaxis": "x10",
         "y": {
          "bdata": "AAAAAACAVkA=",
          "dtype": "f8"
         },
         "yaxis": "y10"
        },
        {
         "hovertemplate": "fuel=BEV (200-mile AER)<br>cap type=%{x}<br>mode=LD Truck<br>vintage=2045<br>capacity=%{y}<extra></extra>",
         "legendgroup": "BEV (200-mile AER), new capacity",
         "marker": {
          "color": "seagreen",
          "pattern": {
           "shape": ""
          }
         },
         "name": "BEV (200-mile AER)",
         "orientation": "v",
         "showlegend": false,
         "textfont": {
          "size": 11
         },
         "textposition": "auto",
         "texttemplate": "%{y:.2s}",
         "type": "bar",
         "x": [
          "new capacity"
         ],
         "xaxis": "x11",
         "y": {
          "bdata": "AAAAAAAAZEA=",
          "dtype": "f8"
         },
         "yaxis": "y11"
        },
        {
         "hovertemplate": "fuel=BEV (200-mile AER)<br>cap type=%{x}<br>mode=LD Truck<br>vintage=2050<br>capacity=%{y}<extra></extra>",
         "legendgroup": "BEV (200-mile AER), new capacity",
         "marker": {
          "color": "seagreen",
          "pattern": {
           "shape": ""
          }
         },
         "name": "BEV (200-mile AER)",
         "orientation": "v",
         "showlegend": false,
         "textfont": {
          "size": 11
         },
         "textposition": "auto",
         "texttemplate": "%{y:.2s}",
         "type": "bar",
         "x": [
          "new capacity"
         ],
         "xaxis": "x12",
         "y": {
          "bdata": "AAAAAABAZUA=",
          "dtype": "f8"
         },
         "yaxis": "y12"
        },
        {
         "hovertemplate": "fuel=BEV (200-mile AER)<br>cap type=%{x}<br>mode=LD Truck<br>vintage=2030<br>capacity=%{y}<extra></extra>",
         "legendgroup": "BEV (200-mile AER), retired cap",
         "marker": {
          "color": "seagreen",
          "pattern": {
           "shape": "/"
          }
         },
         "name": "BEV (200-mile AER)",
         "orientation": "v",
         "showlegend": false,
         "textfont": {
          "size": 11
         },
         "textposition": "auto",
         "texttemplate": "%{y:.2s}",
         "type": "bar",
         "x": [
          "retired cap"
         ],
         "xaxis": "x8",
         "y": {
          "bdata": "AAAAAAAAJMA=",
          "dtype": "f8"
         },
         "yaxis": "y8"
        },
        {
         "hovertemplate": "fuel=BEV (200-mile AER)<br>cap type=%{x}<br>mode=LD Truck<br>vintage=2035<br>capacity=%{y}<extra></extra>",
         "legendgroup": "BEV (200-mile AER), retired cap",
         "marker": {
          "color": "seagreen",
          "pattern": {
           "shape": "/"
          }
         },
         "name": "BEV (200-mile AER)",
         "orientation": "v",
         "showlegend": false,
         "textfont": {
          "size": 11
         },
         "textposition": "auto",
         "texttemplate": "%{y:.2s}",
         "type": "bar",
         "x": [
          "retired cap"
         ],
         "xaxis": "x9",
         "y": {
          "bdata": "AAAAAAAAPsA=",
          "dtype": "f8"
         },
         "yaxis": "y9"
        },
        {
         "hovertemplate": "fuel=BEV (200-mile AER)<br>cap type=%{x}<br>mode=LD Truck<br>vintage=2040<br>capacity=%{y}<extra></extra>",
         "legendgroup": "BEV (200-mile AER), retired cap",
         "marker": {
          "color": "seagreen",
          "pattern": {
           "shape": "/"
          }
         },
         "name": "BEV (200-mile AER)",
         "orientation": "v",
         "showlegend": false,
         "textfont": {
          "size": 11
         },
         "textposition": "auto",
         "texttemplate": "%{y:.2s}",
         "type": "bar",
         "x": [
          "retired cap"
         ],
         "xaxis": "x10",
         "y": {
          "bdata": "AAAAAAAAScA=",
          "dtype": "f8"
         },
         "yaxis": "y10"
        },
        {
         "hovertemplate": "fuel=BEV (200-mile AER)<br>cap type=%{x}<br>mode=LD Truck<br>vintage=2045<br>capacity=%{y}<extra></extra>",
         "legendgroup": "BEV (200-mile AER), retired cap",
         "marker": {
          "color": "seagreen",
          "pattern": {
           "shape": "/"
          }
         },
         "name": "BEV (200-mile AER)",
         "orientation": "v",
         "showlegend": false,
         "textfont": {
          "size": 11
         },
         "textposition": "auto",
         "texttemplate": "%{y:.2s}",
         "type": "bar",
         "x": [
          "retired cap"
         ],
         "xaxis": "x11",
         "y": {
          "bdata": "AAAAAACAUcA=",
          "dtype": "f8"
         },
         "yaxis": "y11"
        },
        {
         "hovertemplate": "fuel=BEV (200-mile AER)<br>cap type=%{x}<br>mode=LD Truck<br>vintage=2050<br>capacity=%{y}<extra></extra>",
         "legendgroup": "BEV (200-mile AER), retired cap",
         "marker": {
          "color": "seagreen",
          "pattern": {
           "shape": "/"
          }
         },
         "name": "BEV (200-mile AER)",
         "orientation": "v",
         "showlegend": false,
         "textfont": {
          "size": 11
         },
         "textposition": "auto",
         "texttemplate": "%{y:.2s}",
         "type": "bar",
         "x": [
          "retired cap"
         ],
         "xaxis": "x12",
         "y": {
          "bdata": "AAAAAAAAVMA=",
          "dtype": "f8"
         },
         "yaxis": "y12"
        },
        {
         "hovertemplate": "fuel=BEV (300-mile AER)<br>cap type=%{x}<br>mode=LD Truck<br>vintage=2025<br>capacity=%{y}<extra></extra>",
         "legendgroup": "BEV (300-mile AER), new capacity",
         "marker": {
          "color": "olive",
          "pattern": {
           "shape": ""
          }
         },
         "name": "BEV (300-mile AER)",
         "orientation": "v",
         "showlegend": true,
         "textfont": {
          "size": 11
         },
         "textposition": "auto",
         "texttemplate": "%{y:.2s}",
         "type": "bar",
         "x": [
          "new capacity"
         ],
         "xaxis": "x7",
         "y": {
          "bdata": "AAAAAAAAJEA=",
          "dtype": "f8"
         },
         "yaxis": "y7"
        },
        {
         "hovertemplate": "fuel=BEV (300-mile AER)<br>cap type=%{x}<br>mode=LD Truck<br>vintage=2030<br>capacity=%{y}<extra></extra>",
         "legendgroup": "BEV (300-mile AER), new capacity",
         "marker": {
          "color": "olive",
          "pattern": {
           "shape": ""
          }
         },
         "name": "BEV (300-mile AER)",
         "orientation": "v",
         "showlegend": false,
         "textfont": {
          "size": 11
         },
         "textposition": "auto",
         "texttemplate": "%{y:.2s}",
         "type": "bar",
         "x": [
          "new capacity"
         ],
         "xaxis": "x8",
         "y": {
          "bdata": "AAAAAAAAJEA=",
          "dtype": "f8"
         },
         "yaxis": "y8"
        },
        {
         "hovertemplate": "fuel=BEV (300-mile AER)<br>cap type=%{x}<br>mode=LD Truck<br>vintage=2035<br>capacity=%{y}<extra></extra>",
         "legendgroup": "BEV (300-mile AER), new capacity",
         "marker": {
          "color": "olive",
          "pattern": {
           "shape": ""
          }
         },
         "name": "BEV (300-mile AER)",
         "orientation": "v",
         "showlegend": false,
         "textfont": {
          "size": 11
         },
         "textposition": "auto",
         "texttemplate": "%{y:.2s}",
         "type": "bar",
         "x": [
          "new capacity"
         ],
         "xaxis": "x9",
         "y": {
          "bdata": "AAAAAACAUUA=",
          "dtype": "f8"
         },
         "yaxis": "y9"
        },
        {
         "hovertemplate": "fuel=BEV (300-mile AER)<br>cap type=%{x}<br>mode=LD Truck<br>vintage=2040<br>capacity=%{y}<extra></extra>",
         "legendgroup": "BEV (300-mile AER), new capacity",
         "marker": {
          "color": "olive",
          "pattern": {
           "shape": ""
          }
         },
         "name": "BEV (300-mile AER)",
         "orientation": "v",
         "showlegend": false,
         "textfont": {
          "size": 11
         },
         "textposition": "auto",
         "texttemplate": "%{y:.2s}",
         "type": "bar",
         "x": [
          "new capacity"
         ],
         "xaxis": "x10",
         "y": {
          "bdata": "AAAAAACAUUA=",
          "dtype": "f8"
         },
         "yaxis": "y10"
        },
        {
         "hovertemplate": "fuel=BEV (300-mile AER)<br>cap type=%{x}<br>mode=LD Truck<br>vintage=2045<br>capacity=%{y}<extra></extra>",
         "legendgroup": "BEV (300-mile AER), new capacity",
         "marker": {
          "color": "olive",
          "pattern": {
           "shape": ""
          }
         },
         "name": "BEV (300-mile AER)",
         "orientation": "v",
         "showlegend": false,
         "textfont": {
          "size": 11
         },
         "textposition": "auto",
         "texttemplate": "%{y:.2s}",
         "type": "bar",
         "x": [
          "new capacity"
         ],
         "xaxis": "x11",
         "y": {
          "bdata": "AAAAAAAAVEA=",
          "dtype": "f8"
         },
         "yaxis": "y11"
        },
        {
         "hovertemplate": "fuel=BEV (300-mile AER)<br>cap type=%{x}<br>mode=LD Truck<br>vintage=2050<br>capacity=%{y}<extra></extra>",
         "legendgroup": "BEV (300-mile AER), new capacity",
         "marker": {
          "color": "olive",
          "pattern": {
           "shape": ""
          }
         },
         "name": "BEV (300-mile AER)",
         "orientation": "v",
         "showlegend": false,
         "textfont": {
          "size": 11
         },
         "textposition": "auto",
         "texttemplate": "%{y:.2s}",
         "type": "bar",
         "x": [
          "new capacity"
         ],
         "xaxis": "x12",
         "y": {
          "bdata": "AAAAAAAAVEA=",
          "dtype": "f8"
         },
         "yaxis": "y12"
        },
        {
         "hovertemplate": "fuel=BEV (300-mile AER)<br>cap type=%{x}<br>mode=LD Truck<br>vintage=2025<br>capacity=%{y}<extra></extra>",
         "legendgroup": "BEV (300-mile AER), retired cap",
         "marker": {
          "color": "olive",
          "pattern": {
           "shape": "/"
          }
         },
         "name": "BEV (300-mile AER)",
         "orientation": "v",
         "showlegend": false,
         "textfont": {
          "size": 11
         },
         "textposition": "auto",
         "texttemplate": "%{y:.2s}",
         "type": "bar",
         "x": [
          "retired cap"
         ],
         "xaxis": "x7",
         "y": {
          "bdata": "AAAAAADggMA=",
          "dtype": "f8"
         },
         "yaxis": "y7"
        },
        {
         "hovertemplate": "fuel=BEV (300-mile AER)<br>cap type=%{x}<br>mode=LD Truck<br>vintage=2030<br>capacity=%{y}<extra></extra>",
         "legendgroup": "BEV (300-mile AER), retired cap",
         "marker": {
          "color": "olive",
          "pattern": {
           "shape": "/"
          }
         },
         "name": "BEV (300-mile AER)",
         "orientation": "v",
         "showlegend": false,
         "textfont": {
          "size": 11
         },
         "textposition": "auto",
         "texttemplate": "%{y:.2s}",
         "type": "bar",
         "x": [
          "retired cap"
         ],
         "xaxis": "x8",
         "y": {
          "bdata": "AAAAAAAwgcA=",
          "dtype": "f8"
         },
         "yaxis": "y8"
        },
        {
         "hovertemplate": "fuel=BEV (300-mile AER)<br>cap type=%{x}<br>mode=LD Truck<br>vintage=2035<br>capacity=%{y}<extra></extra>",
         "legendgroup": "BEV (300-mile AER), retired cap",
         "marker": {
          "color": "olive",
          "pattern": {
           "shape": "/"
          }
         },
         "name": "BEV (300-mile AER)",
         "orientation": "v",
         "showlegend": false,
         "textfont": {
          "size": 11
         },
         "textposition": "auto",
         "texttemplate": "%{y:.2s}",
         "type": "bar",
         "x": [
          "retired cap"
         ],
         "xaxis": "x9",
         "y": {
          "bdata": "AAAAAAAggsA=",
          "dtype": "f8"
         },
         "yaxis": "y9"
        },
        {
         "hovertemplate": "fuel=BEV (300-mile AER)<br>cap type=%{x}<br>mode=LD Truck<br>vintage=2040<br>capacity=%{y}<extra></extra>",
         "legendgroup": "BEV (300-mile AER), retired cap",
         "marker": {
          "color": "olive",
          "pattern": {
           "shape": "/"
          }
         },
         "name": "BEV (300-mile AER)",
         "orientation": "v",
         "showlegend": false,
         "textfont": {
          "size": 11
         },
         "textposition": "auto",
         "texttemplate": "%{y:.2s}",
         "type": "bar",
         "x": [
          "retired cap"
         ],
         "xaxis": "x10",
         "y": {
          "bdata": "AAAAAADQm8A=",
          "dtype": "f8"
         },
         "yaxis": "y10"
        },
        {
         "hovertemplate": "fuel=BEV (300-mile AER)<br>cap type=%{x}<br>mode=LD Truck<br>vintage=2045<br>capacity=%{y}<extra></extra>",
         "legendgroup": "BEV (300-mile AER), retired cap",
         "marker": {
          "color": "olive",
          "pattern": {
           "shape": "/"
          }
         },
         "name": "BEV (300-mile AER)",
         "orientation": "v",
         "showlegend": false,
         "textfont": {
          "size": 11
         },
         "textposition": "auto",
         "texttemplate": "%{y:.2s}",
         "type": "bar",
         "x": [
          "retired cap"
         ],
         "xaxis": "x11",
         "y": {
          "bdata": "AAAAAACAgcA=",
          "dtype": "f8"
         },
         "yaxis": "y11"
        },
        {
         "hovertemplate": "fuel=BEV (300-mile AER)<br>cap type=%{x}<br>mode=LD Truck<br>vintage=2050<br>capacity=%{y}<extra></extra>",
         "legendgroup": "BEV (300-mile AER), retired cap",
         "marker": {
          "color": "olive",
          "pattern": {
           "shape": "/"
          }
         },
         "name": "BEV (300-mile AER)",
         "orientation": "v",
         "showlegend": false,
         "textfont": {
          "size": 11
         },
         "textposition": "auto",
         "texttemplate": "%{y:.2s}",
         "type": "bar",
         "x": [
          "retired cap"
         ],
         "xaxis": "x12",
         "y": {
          "bdata": "AAAAAAAAScA=",
          "dtype": "f8"
         },
         "yaxis": "y12"
        },
        {
         "hovertemplate": "fuel=BEV (400-mile AER)<br>cap type=%{x}<br>mode=LD Truck<br>vintage=2030<br>capacity=%{y}<extra></extra>",
         "legendgroup": "BEV (400-mile AER), new capacity",
         "marker": {
          "color": "darkgreen",
          "pattern": {
           "shape": ""
          }
         },
         "name": "BEV (400-mile AER)",
         "orientation": "v",
         "showlegend": true,
         "textfont": {
          "size": 11
         },
         "textposition": "auto",
         "texttemplate": "%{y:.2s}",
         "type": "bar",
         "x": [
          "new capacity"
         ],
         "xaxis": "x8",
         "y": {
          "bdata": "AAAAAAAAJEA=",
          "dtype": "f8"
         },
         "yaxis": "y8"
        },
        {
         "hovertemplate": "fuel=BEV (400-mile AER)<br>cap type=%{x}<br>mode=LD Truck<br>vintage=2035<br>capacity=%{y}<extra></extra>",
         "legendgroup": "BEV (400-mile AER), new capacity",
         "marker": {
          "color": "darkgreen",
          "pattern": {
           "shape": ""
          }
         },
         "name": "BEV (400-mile AER)",
         "orientation": "v",
         "showlegend": false,
         "textfont": {
          "size": 11
         },
         "textposition": "auto",
         "texttemplate": "%{y:.2s}",
         "type": "bar",
         "x": [
          "new capacity"
         ],
         "xaxis": "x9",
         "y": {
          "bdata": "AAAAAAAAJEA=",
          "dtype": "f8"
         },
         "yaxis": "y9"
        },
        {
         "hovertemplate": "fuel=BEV (400-mile AER)<br>cap type=%{x}<br>mode=LD Truck<br>vintage=2040<br>capacity=%{y}<extra></extra>",
         "legendgroup": "BEV (400-mile AER), new capacity",
         "marker": {
          "color": "darkgreen",
          "pattern": {
           "shape": ""
          }
         },
         "name": "BEV (400-mile AER)",
         "orientation": "v",
         "showlegend": false,
         "textfont": {
          "size": 11
         },
         "textposition": "auto",
         "texttemplate": "%{y:.2s}",
         "type": "bar",
         "x": [
          "new capacity"
         ],
         "xaxis": "x10",
         "y": {
          "bdata": "AAAAAAAAJEA=",
          "dtype": "f8"
         },
         "yaxis": "y10"
        },
        {
         "hovertemplate": "fuel=BEV (400-mile AER)<br>cap type=%{x}<br>mode=LD Truck<br>vintage=2045<br>capacity=%{y}<extra></extra>",
         "legendgroup": "BEV (400-mile AER), new capacity",
         "marker": {
          "color": "darkgreen",
          "pattern": {
           "shape": ""
          }
         },
         "name": "BEV (400-mile AER)",
         "orientation": "v",
         "showlegend": false,
         "textfont": {
          "size": 11
         },
         "textposition": "auto",
         "texttemplate": "%{y:.2s}",
         "type": "bar",
         "x": [
          "new capacity"
         ],
         "xaxis": "x11",
         "y": {
          "bdata": "AAAAAAAAJEA=",
          "dtype": "f8"
         },
         "yaxis": "y11"
        },
        {
         "hovertemplate": "fuel=BEV (400-mile AER)<br>cap type=%{x}<br>mode=LD Truck<br>vintage=2050<br>capacity=%{y}<extra></extra>",
         "legendgroup": "BEV (400-mile AER), new capacity",
         "marker": {
          "color": "darkgreen",
          "pattern": {
           "shape": ""
          }
         },
         "name": "BEV (400-mile AER)",
         "orientation": "v",
         "showlegend": false,
         "textfont": {
          "size": 11
         },
         "textposition": "auto",
         "texttemplate": "%{y:.2s}",
         "type": "bar",
         "x": [
          "new capacity"
         ],
         "xaxis": "x12",
         "y": {
          "bdata": "AAAAAAAAJEA=",
          "dtype": "f8"
         },
         "yaxis": "y12"
        },
        {
         "hovertemplate": "fuel=BEV (400-mile AER)<br>cap type=%{x}<br>mode=LD Truck<br>vintage=2050<br>capacity=%{y}<extra></extra>",
         "legendgroup": "BEV (400-mile AER), retired cap",
         "marker": {
          "color": "darkgreen",
          "pattern": {
           "shape": "/"
          }
         },
         "name": "BEV (400-mile AER)",
         "orientation": "v",
         "showlegend": false,
         "textfont": {
          "size": 11
         },
         "textposition": "auto",
         "texttemplate": "%{y:.2s}",
         "type": "bar",
         "x": [
          "retired cap"
         ],
         "xaxis": "x12",
         "y": {
          "bdata": "AAAAAAAAJMA=",
          "dtype": "f8"
         },
         "yaxis": "y12"
        },
        {
         "hovertemplate": "fuel=Fuel-cell electric<br>cap type=%{x}<br>mode=HD Truck<br>vintage=2030<br>capacity=%{y}<extra></extra>",
         "legendgroup": "Fuel-cell electric, new capacity",
         "marker": {
          "color": "mediumvioletred",
          "pattern": {
           "shape": ""
          }
         },
         "name": "Fuel-cell electric",
         "orientation": "v",
         "showlegend": true,
         "textfont": {
          "size": 11
         },
         "textposition": "auto",
         "texttemplate": "%{y:.2s}",
         "type": "bar",
         "x": [
          "new capacity"
         ],
         "xaxis": "x2",
         "y": {
          "bdata": "AAAAAIDW10A=",
          "dtype": "f8"
         },
         "yaxis": "y2"
        },
        {
         "hovertemplate": "fuel=Fuel-cell electric<br>cap type=%{x}<br>mode=HD Truck<br>vintage=2035<br>capacity=%{y}<extra></extra>",
         "legendgroup": "Fuel-cell electric, new capacity",
         "marker": {
          "color": "mediumvioletred",
          "pattern": {
           "shape": ""
          }
         },
         "name": "Fuel-cell electric",
         "orientation": "v",
         "showlegend": false,
         "textfont": {
          "size": 11
         },
         "textposition": "auto",
         "texttemplate": "%{y:.2s}",
         "type": "bar",
         "x": [
          "new capacity"
         ],
         "xaxis": "x3",
         "y": {
          "bdata": "AAAAAEBk4EA=",
          "dtype": "f8"
         },
         "yaxis": "y3"
        },
        {
         "hovertemplate": "fuel=Fuel-cell electric<br>cap type=%{x}<br>mode=HD Truck<br>vintage=2040<br>capacity=%{y}<extra></extra>",
         "legendgroup": "Fuel-cell electric, new capacity",
         "marker": {
          "color": "mediumvioletred",
          "pattern": {
           "shape": ""
          }
         },
         "name": "Fuel-cell electric",
         "orientation": "v",
         "showlegend": false,
         "textfont": {
          "size": 11
         },
         "textposition": "auto",
         "texttemplate": "%{y:.2s}",
         "type": "bar",
         "x": [
          "new capacity"
         ],
         "xaxis": "x4",
         "y": {
          "bdata": "AAAAAEAK5UA=",
          "dtype": "f8"
         },
         "yaxis": "y4"
        },
        {
         "hovertemplate": "fuel=Fuel-cell electric<br>cap type=%{x}<br>mode=HD Truck<br>vintage=2045<br>capacity=%{y}<extra></extra>",
         "legendgroup": "Fuel-cell electric, new capacity",
         "marker": {
          "color": "mediumvioletred",
          "pattern": {
           "shape": ""
          }
         },
         "name": "Fuel-cell electric",
         "orientation": "v",
         "showlegend": false,
         "textfont": {
          "size": 11
         },
         "textposition": "auto",
         "texttemplate": "%{y:.2s}",
         "type": "bar",
         "x": [
          "new capacity"
         ],
         "xaxis": "x5",
         "y": {
          "bdata": "AAAAAAAT5UA=",
          "dtype": "f8"
         },
         "yaxis": "y5"
        },
        {
         "hovertemplate": "fuel=Fuel-cell electric<br>cap type=%{x}<br>mode=HD Truck<br>vintage=2050<br>capacity=%{y}<extra></extra>",
         "legendgroup": "Fuel-cell electric, new capacity",
         "marker": {
          "color": "mediumvioletred",
          "pattern": {
           "shape": ""
          }
         },
         "name": "Fuel-cell electric",
         "orientation": "v",
         "showlegend": false,
         "textfont": {
          "size": 11
         },
         "textposition": "auto",
         "texttemplate": "%{y:.2s}",
         "type": "bar",
         "x": [
          "new capacity"
         ],
         "xaxis": "x6",
         "y": {
          "bdata": "AAAAAMDt5UA=",
          "dtype": "f8"
         },
         "yaxis": "y6"
        },
        {
         "hovertemplate": "fuel=Fuel-cell electric<br>cap type=%{x}<br>mode=HD Truck<br>vintage=2040<br>capacity=%{y}<extra></extra>",
         "legendgroup": "Fuel-cell electric, retired cap",
         "marker": {
          "color": "mediumvioletred",
          "pattern": {
           "shape": "/"
          }
         },
         "name": "Fuel-cell electric",
         "orientation": "v",
         "showlegend": false,
         "textfont": {
          "size": 11
         },
         "textposition": "auto",
         "texttemplate": "%{y:.2s}",
         "type": "bar",
         "x": [
          "retired cap"
         ],
         "xaxis": "x4",
         "y": {
          "bdata": "AAAAAADkpsA=",
          "dtype": "f8"
         },
         "yaxis": "y4"
        },
        {
         "hovertemplate": "fuel=Fuel-cell electric<br>cap type=%{x}<br>mode=HD Truck<br>vintage=2045<br>capacity=%{y}<extra></extra>",
         "legendgroup": "Fuel-cell electric, retired cap",
         "marker": {
          "color": "mediumvioletred",
          "pattern": {
           "shape": "/"
          }
         },
         "name": "Fuel-cell electric",
         "orientation": "v",
         "showlegend": false,
         "textfont": {
          "size": 11
         },
         "textposition": "auto",
         "texttemplate": "%{y:.2s}",
         "type": "bar",
         "x": [
          "retired cap"
         ],
         "xaxis": "x5",
         "y": {
          "bdata": "AAAAAABRw8A=",
          "dtype": "f8"
         },
         "yaxis": "y5"
        },
        {
         "hovertemplate": "fuel=Fuel-cell electric<br>cap type=%{x}<br>mode=HD Truck<br>vintage=2050<br>capacity=%{y}<extra></extra>",
         "legendgroup": "Fuel-cell electric, retired cap",
         "marker": {
          "color": "mediumvioletred",
          "pattern": {
           "shape": "/"
          }
         },
         "name": "Fuel-cell electric",
         "orientation": "v",
         "showlegend": false,
         "textfont": {
          "size": 11
         },
         "textposition": "auto",
         "texttemplate": "%{y:.2s}",
         "type": "bar",
         "x": [
          "retired cap"
         ],
         "xaxis": "x6",
         "y": {
          "bdata": "AAAAAACX08A=",
          "dtype": "f8"
         },
         "yaxis": "y6"
        },
        {
         "legendgroup": "Blank",
         "marker": {
          "color": "rgba(0,0,0,0)"
         },
         "name": "",
         "showlegend": true,
         "type": "bar",
         "x": [
          null
         ],
         "y": [
          null
         ]
        },
        {
         "legendgroup": "Capacity type",
         "legendgrouptitle": {
          "font": {
           "size": 16
          },
          "text": "<b>Capacity type</b>"
         },
         "marker": {
          "color": "rgba(0,0,0,0)",
          "line": {
           "color": "black",
           "width": 1
          },
          "pattern": {
           "shape": ""
          }
         },
         "name": "New capacity",
         "showlegend": true,
         "type": "bar",
         "x": [
          null
         ],
         "y": [
          null
         ]
        },
        {
         "legendgroup": "Capacity type",
         "marker": {
          "color": "rgba(0,0,0,0)",
          "line": {
           "color": "black",
           "width": 1
          },
          "pattern": {
           "shape": "/"
          }
         },
         "name": "Retired capacity",
         "showlegend": true,
         "type": "bar",
         "x": [
          null
         ],
         "y": [
          null
         ]
        }
       ],
       "layout": {
        "annotations": [
         {
          "font": {
           "size": 16
          },
          "showarrow": false,
          "text": "<b>2025</b>",
          "x": 0.07333333333333333,
          "xanchor": "center",
          "xref": "paper",
          "y": 0,
          "yanchor": "top",
          "yref": "paper"
         },
         {
          "font": {
           "size": 16
          },
          "showarrow": false,
          "text": "<b>2030</b>",
          "x": 0.24,
          "xanchor": "center",
          "xref": "paper",
          "y": 0,
          "yanchor": "top",
          "yref": "paper"
         },
         {
          "font": {
           "size": 16
          },
          "showarrow": false,
          "text": "<b>2035</b>",
          "x": 0.4066666666666666,
          "xanchor": "center",
          "xref": "paper",
          "y": 0,
          "yanchor": "top",
          "yref": "paper"
         },
         {
          "font": {
           "size": 16
          },
          "showarrow": false,
          "text": "<b>2040</b>",
          "x": 0.5733333333333334,
          "xanchor": "center",
          "xref": "paper",
          "y": 0,
          "yanchor": "top",
          "yref": "paper"
         },
         {
          "font": {
           "size": 16
          },
          "showarrow": false,
          "text": "<b>2045</b>",
          "x": 0.74,
          "xanchor": "center",
          "xref": "paper",
          "y": 0,
          "yanchor": "top",
          "yref": "paper"
         },
         {
          "font": {
           "size": 16
          },
          "showarrow": false,
          "text": "<b>2050</b>",
          "x": 0.9066666666666667,
          "xanchor": "center",
          "xref": "paper",
          "y": 0,
          "yanchor": "top",
          "yref": "paper"
         },
         {
          "font": {
           "size": 16
          },
          "showarrow": false,
          "text": "<b>HD Truck</b>",
          "textangle": 90,
          "x": 1.01,
          "xanchor": "center",
          "xref": "paper",
          "y": 0.24,
          "yanchor": "middle",
          "yref": "paper"
         },
         {
          "font": {
           "size": 16
          },
          "showarrow": false,
          "text": "<b>LD Truck</b>",
          "textangle": 90,
          "x": 1.01,
          "xanchor": "center",
          "xref": "paper",
          "y": 0.76,
          "yanchor": "middle",
          "yref": "paper"
         },
         {
          "font": {
           "size": 17
          },
          "showarrow": false,
          "text": "<b>Fleet capacity (vehicle units)</b>",
          "textangle": -90,
          "x": -0.08,
          "xref": "paper",
          "y": 0.5,
          "yref": "paper"
         }
        ],
        "bargap": 0.1,
        "barmode": "relative",
        "font": {
         "size": 15
        },
        "height": 450,
        "legend": {
         "orientation": "v",
         "title": {
          "font": {
           "size": 16
          },
          "text": "<b>Fuel/powertrain type</b>"
         },
         "tracegroupgap": 0,
         "traceorder": "grouped",
         "x": 1.15,
         "xanchor": "center",
         "y": 1,
         "yanchor": "top"
        },
        "margin": {
         "b": 30,
         "t": 65
        },
        "template": {
         "data": {
          "bar": [
           {
            "error_x": {
             "color": "#2a3f5f"
            },
            "error_y": {
             "color": "#2a3f5f"
            },
            "marker": {
             "line": {
              "color": "white",
              "width": 0.5
             },
             "pattern": {
              "fillmode": "overlay",
              "size": 10,
              "solidity": 0.2
             }
            },
            "type": "bar"
           }
          ],
          "barpolar": [
           {
            "marker": {
             "line": {
              "color": "white",
              "width": 0.5
             },
             "pattern": {
              "fillmode": "overlay",
              "size": 10,
              "solidity": 0.2
             }
            },
            "type": "barpolar"
           }
          ],
          "carpet": [
           {
            "aaxis": {
             "endlinecolor": "#2a3f5f",
             "gridcolor": "#C8D4E3",
             "linecolor": "#C8D4E3",
             "minorgridcolor": "#C8D4E3",
             "startlinecolor": "#2a3f5f"
            },
            "baxis": {
             "endlinecolor": "#2a3f5f",
             "gridcolor": "#C8D4E3",
             "linecolor": "#C8D4E3",
             "minorgridcolor": "#C8D4E3",
             "startlinecolor": "#2a3f5f"
            },
            "type": "carpet"
           }
          ],
          "choropleth": [
           {
            "colorbar": {
             "outlinewidth": 0,
             "ticks": ""
            },
            "type": "choropleth"
           }
          ],
          "contour": [
           {
            "colorbar": {
             "outlinewidth": 0,
             "ticks": ""
            },
            "colorscale": [
             [
              0,
              "#0d0887"
             ],
             [
              0.1111111111111111,
              "#46039f"
             ],
             [
              0.2222222222222222,
              "#7201a8"
             ],
             [
              0.3333333333333333,
              "#9c179e"
             ],
             [
              0.4444444444444444,
              "#bd3786"
             ],
             [
              0.5555555555555556,
              "#d8576b"
             ],
             [
              0.6666666666666666,
              "#ed7953"
             ],
             [
              0.7777777777777778,
              "#fb9f3a"
             ],
             [
              0.8888888888888888,
              "#fdca26"
             ],
             [
              1,
              "#f0f921"
             ]
            ],
            "type": "contour"
           }
          ],
          "contourcarpet": [
           {
            "colorbar": {
             "outlinewidth": 0,
             "ticks": ""
            },
            "type": "contourcarpet"
           }
          ],
          "heatmap": [
           {
            "colorbar": {
             "outlinewidth": 0,
             "ticks": ""
            },
            "colorscale": [
             [
              0,
              "#0d0887"
             ],
             [
              0.1111111111111111,
              "#46039f"
             ],
             [
              0.2222222222222222,
              "#7201a8"
             ],
             [
              0.3333333333333333,
              "#9c179e"
             ],
             [
              0.4444444444444444,
              "#bd3786"
             ],
             [
              0.5555555555555556,
              "#d8576b"
             ],
             [
              0.6666666666666666,
              "#ed7953"
             ],
             [
              0.7777777777777778,
              "#fb9f3a"
             ],
             [
              0.8888888888888888,
              "#fdca26"
             ],
             [
              1,
              "#f0f921"
             ]
            ],
            "type": "heatmap"
           }
          ],
          "histogram": [
           {
            "marker": {
             "pattern": {
              "fillmode": "overlay",
              "size": 10,
              "solidity": 0.2
             }
            },
            "type": "histogram"
           }
          ],
          "histogram2d": [
           {
            "colorbar": {
             "outlinewidth": 0,
             "ticks": ""
            },
            "colorscale": [
             [
              0,
              "#0d0887"
             ],
             [
              0.1111111111111111,
              "#46039f"
             ],
             [
              0.2222222222222222,
              "#7201a8"
             ],
             [
              0.3333333333333333,
              "#9c179e"
             ],
             [
              0.4444444444444444,
              "#bd3786"
             ],
             [
              0.5555555555555556,
              "#d8576b"
             ],
             [
              0.6666666666666666,
              "#ed7953"
             ],
             [
              0.7777777777777778,
              "#fb9f3a"
             ],
             [
              0.8888888888888888,
              "#fdca26"
             ],
             [
              1,
              "#f0f921"
             ]
            ],
            "type": "histogram2d"
           }
          ],
          "histogram2dcontour": [
           {
            "colorbar": {
             "outlinewidth": 0,
             "ticks": ""
            },
            "colorscale": [
             [
              0,
              "#0d0887"
             ],
             [
              0.1111111111111111,
              "#46039f"
             ],
             [
              0.2222222222222222,
              "#7201a8"
             ],
             [
              0.3333333333333333,
              "#9c179e"
             ],
             [
              0.4444444444444444,
              "#bd3786"
             ],
             [
              0.5555555555555556,
              "#d8576b"
             ],
             [
              0.6666666666666666,
              "#ed7953"
             ],
             [
              0.7777777777777778,
              "#fb9f3a"
             ],
             [
              0.8888888888888888,
              "#fdca26"
             ],
             [
              1,
              "#f0f921"
             ]
            ],
            "type": "histogram2dcontour"
           }
          ],
          "mesh3d": [
           {
            "colorbar": {
             "outlinewidth": 0,
             "ticks": ""
            },
            "type": "mesh3d"
           }
          ],
          "parcoords": [
           {
            "line": {
             "colorbar": {
              "outlinewidth": 0,
              "ticks": ""
             }
            },
            "type": "parcoords"
           }
          ],
          "pie": [
           {
            "automargin": true,
            "type": "pie"
           }
          ],
          "scatter": [
           {
            "fillpattern": {
             "fillmode": "overlay",
             "size": 10,
             "solidity": 0.2
            },
            "type": "scatter"
           }
          ],
          "scatter3d": [
           {
            "line": {
             "colorbar": {
              "outlinewidth": 0,
              "ticks": ""
             }
            },
            "marker": {
             "colorbar": {
              "outlinewidth": 0,
              "ticks": ""
             }
            },
            "type": "scatter3d"
           }
          ],
          "scattercarpet": [
           {
            "marker": {
             "colorbar": {
              "outlinewidth": 0,
              "ticks": ""
             }
            },
            "type": "scattercarpet"
           }
          ],
          "scattergeo": [
           {
            "marker": {
             "colorbar": {
              "outlinewidth": 0,
              "ticks": ""
             }
            },
            "type": "scattergeo"
           }
          ],
          "scattergl": [
           {
            "marker": {
             "colorbar": {
              "outlinewidth": 0,
              "ticks": ""
             }
            },
            "type": "scattergl"
           }
          ],
          "scattermap": [
           {
            "marker": {
             "colorbar": {
              "outlinewidth": 0,
              "ticks": ""
             }
            },
            "type": "scattermap"
           }
          ],
          "scattermapbox": [
           {
            "marker": {
             "colorbar": {
              "outlinewidth": 0,
              "ticks": ""
             }
            },
            "type": "scattermapbox"
           }
          ],
          "scatterpolar": [
           {
            "marker": {
             "colorbar": {
              "outlinewidth": 0,
              "ticks": ""
             }
            },
            "type": "scatterpolar"
           }
          ],
          "scatterpolargl": [
           {
            "marker": {
             "colorbar": {
              "outlinewidth": 0,
              "ticks": ""
             }
            },
            "type": "scatterpolargl"
           }
          ],
          "scatterternary": [
           {
            "marker": {
             "colorbar": {
              "outlinewidth": 0,
              "ticks": ""
             }
            },
            "type": "scatterternary"
           }
          ],
          "surface": [
           {
            "colorbar": {
             "outlinewidth": 0,
             "ticks": ""
            },
            "colorscale": [
             [
              0,
              "#0d0887"
             ],
             [
              0.1111111111111111,
              "#46039f"
             ],
             [
              0.2222222222222222,
              "#7201a8"
             ],
             [
              0.3333333333333333,
              "#9c179e"
             ],
             [
              0.4444444444444444,
              "#bd3786"
             ],
             [
              0.5555555555555556,
              "#d8576b"
             ],
             [
              0.6666666666666666,
              "#ed7953"
             ],
             [
              0.7777777777777778,
              "#fb9f3a"
             ],
             [
              0.8888888888888888,
              "#fdca26"
             ],
             [
              1,
              "#f0f921"
             ]
            ],
            "type": "surface"
           }
          ],
          "table": [
           {
            "cells": {
             "fill": {
              "color": "#EBF0F8"
             },
             "line": {
              "color": "white"
             }
            },
            "header": {
             "fill": {
              "color": "#C8D4E3"
             },
             "line": {
              "color": "white"
             }
            },
            "type": "table"
           }
          ]
         },
         "layout": {
          "annotationdefaults": {
           "arrowcolor": "#2a3f5f",
           "arrowhead": 0,
           "arrowwidth": 1
          },
          "autotypenumbers": "strict",
          "coloraxis": {
           "colorbar": {
            "outlinewidth": 0,
            "ticks": ""
           }
          },
          "colorscale": {
           "diverging": [
            [
             0,
             "#8e0152"
            ],
            [
             0.1,
             "#c51b7d"
            ],
            [
             0.2,
             "#de77ae"
            ],
            [
             0.3,
             "#f1b6da"
            ],
            [
             0.4,
             "#fde0ef"
            ],
            [
             0.5,
             "#f7f7f7"
            ],
            [
             0.6,
             "#e6f5d0"
            ],
            [
             0.7,
             "#b8e186"
            ],
            [
             0.8,
             "#7fbc41"
            ],
            [
             0.9,
             "#4d9221"
            ],
            [
             1,
             "#276419"
            ]
           ],
           "sequential": [
            [
             0,
             "#0d0887"
            ],
            [
             0.1111111111111111,
             "#46039f"
            ],
            [
             0.2222222222222222,
             "#7201a8"
            ],
            [
             0.3333333333333333,
             "#9c179e"
            ],
            [
             0.4444444444444444,
             "#bd3786"
            ],
            [
             0.5555555555555556,
             "#d8576b"
            ],
            [
             0.6666666666666666,
             "#ed7953"
            ],
            [
             0.7777777777777778,
             "#fb9f3a"
            ],
            [
             0.8888888888888888,
             "#fdca26"
            ],
            [
             1,
             "#f0f921"
            ]
           ],
           "sequentialminus": [
            [
             0,
             "#0d0887"
            ],
            [
             0.1111111111111111,
             "#46039f"
            ],
            [
             0.2222222222222222,
             "#7201a8"
            ],
            [
             0.3333333333333333,
             "#9c179e"
            ],
            [
             0.4444444444444444,
             "#bd3786"
            ],
            [
             0.5555555555555556,
             "#d8576b"
            ],
            [
             0.6666666666666666,
             "#ed7953"
            ],
            [
             0.7777777777777778,
             "#fb9f3a"
            ],
            [
             0.8888888888888888,
             "#fdca26"
            ],
            [
             1,
             "#f0f921"
            ]
           ]
          },
          "colorway": [
           "#636efa",
           "#EF553B",
           "#00cc96",
           "#ab63fa",
           "#FFA15A",
           "#19d3f3",
           "#FF6692",
           "#B6E880",
           "#FF97FF",
           "#FECB52"
          ],
          "font": {
           "color": "#2a3f5f"
          },
          "geo": {
           "bgcolor": "white",
           "lakecolor": "white",
           "landcolor": "white",
           "showlakes": true,
           "showland": true,
           "subunitcolor": "#C8D4E3"
          },
          "hoverlabel": {
           "align": "left"
          },
          "hovermode": "closest",
          "mapbox": {
           "style": "light"
          },
          "paper_bgcolor": "white",
          "plot_bgcolor": "white",
          "polar": {
           "angularaxis": {
            "gridcolor": "#EBF0F8",
            "linecolor": "#EBF0F8",
            "ticks": ""
           },
           "bgcolor": "white",
           "radialaxis": {
            "gridcolor": "#EBF0F8",
            "linecolor": "#EBF0F8",
            "ticks": ""
           }
          },
          "scene": {
           "xaxis": {
            "backgroundcolor": "white",
            "gridcolor": "#DFE8F3",
            "gridwidth": 2,
            "linecolor": "#EBF0F8",
            "showbackground": true,
            "ticks": "",
            "zerolinecolor": "#EBF0F8"
           },
           "yaxis": {
            "backgroundcolor": "white",
            "gridcolor": "#DFE8F3",
            "gridwidth": 2,
            "linecolor": "#EBF0F8",
            "showbackground": true,
            "ticks": "",
            "zerolinecolor": "#EBF0F8"
           },
           "zaxis": {
            "backgroundcolor": "white",
            "gridcolor": "#DFE8F3",
            "gridwidth": 2,
            "linecolor": "#EBF0F8",
            "showbackground": true,
            "ticks": "",
            "zerolinecolor": "#EBF0F8"
           }
          },
          "shapedefaults": {
           "line": {
            "color": "#2a3f5f"
           }
          },
          "ternary": {
           "aaxis": {
            "gridcolor": "#DFE8F3",
            "linecolor": "#A2B1C6",
            "ticks": ""
           },
           "baxis": {
            "gridcolor": "#DFE8F3",
            "linecolor": "#A2B1C6",
            "ticks": ""
           },
           "bgcolor": "white",
           "caxis": {
            "gridcolor": "#DFE8F3",
            "linecolor": "#A2B1C6",
            "ticks": ""
           }
          },
          "title": {
           "x": 0.05
          },
          "xaxis": {
           "automargin": true,
           "gridcolor": "#EBF0F8",
           "linecolor": "#EBF0F8",
           "ticks": "",
           "title": {
            "standoff": 15
           },
           "zerolinecolor": "#EBF0F8",
           "zerolinewidth": 2
          },
          "yaxis": {
           "automargin": true,
           "gridcolor": "#EBF0F8",
           "linecolor": "#EBF0F8",
           "ticks": "",
           "title": {
            "standoff": 15
           },
           "zerolinecolor": "#EBF0F8",
           "zerolinewidth": 2
          }
         }
        },
        "title": {
         "text": "<b>Vehicle fleet stock and flow in ON by vehicle class (7 lifetime classes)</b>",
         "x": 0.08,
         "xanchor": "left",
         "y": 0.94,
         "yanchor": "top"
        },
        "width": 1200,
        "xaxis": {
         "anchor": "y",
         "categoryarray": [
          "new capacity",
          "retired cap"
         ],
         "categoryorder": "array",
         "domain": [
          0,
          0.14666666666666667
         ],
         "showticklabels": false,
         "title": {
          "text": ""
         }
        },
        "xaxis10": {
         "anchor": "y10",
         "domain": [
          0.5,
          0.6466666666666667
         ],
         "matches": "x",
         "showticklabels": false,
         "title": {
          "text": ""
         }
        },
        "xaxis11": {
         "anchor": "y11",
         "domain": [
          0.6666666666666666,
          0.8133333333333332
         ],
         "matches": "x",
         "showticklabels": false,
         "title": {
          "text": ""
         }
        },
        "xaxis12": {
         "anchor": "y12",
         "domain": [
          0.8333333333333334,
          0.98
         ],
         "matches": "x",
         "showticklabels": false,
         "title": {
          "text": ""
         }
        },
        "xaxis2": {
         "anchor": "y2",
         "categoryarray": [
          "new capacity",
          "retired cap"
         ],
         "categoryorder": "array",
         "domain": [
          0.16666666666666666,
          0.31333333333333335
         ],
         "matches": "x",
         "showticklabels": false,
         "title": {
          "text": ""
         }
        },
        "xaxis3": {
         "anchor": "y3",
         "categoryarray": [
          "new capacity",
          "retired cap"
         ],
         "categoryorder": "array",
         "domain": [
          0.3333333333333333,
          0.48
         ],
         "matches": "x",
         "showticklabels": false,
         "title": {
          "text": ""
         }
        },
        "xaxis4": {
         "anchor": "y4",
         "categoryarray": [
          "new capacity",
          "retired cap"
         ],
         "categoryorder": "array",
         "domain": [
          0.5,
          0.6466666666666667
         ],
         "matches": "x",
         "showticklabels": false,
         "title": {
          "text": ""
         }
        },
        "xaxis5": {
         "anchor": "y5",
         "categoryarray": [
          "new capacity",
          "retired cap"
         ],
         "categoryorder": "array",
         "domain": [
          0.6666666666666666,
          0.8133333333333332
         ],
         "matches": "x",
         "showticklabels": false,
         "title": {
          "text": ""
         }
        },
        "xaxis6": {
         "anchor": "y6",
         "categoryarray": [
          "new capacity",
          "retired cap"
         ],
         "categoryorder": "array",
         "domain": [
          0.8333333333333334,
          0.98
         ],
         "matches": "x",
         "showticklabels": false,
         "title": {
          "text": ""
         }
        },
        "xaxis7": {
         "anchor": "y7",
         "domain": [
          0,
          0.14666666666666667
         ],
         "matches": "x",
         "showticklabels": false,
         "title": {
          "text": ""
         }
        },
        "xaxis8": {
         "anchor": "y8",
         "domain": [
          0.16666666666666666,
          0.31333333333333335
         ],
         "matches": "x",
         "showticklabels": false,
         "title": {
          "text": ""
         }
        },
        "xaxis9": {
         "anchor": "y9",
         "domain": [
          0.3333333333333333,
          0.48
         ],
         "matches": "x",
         "showticklabels": false,
         "title": {
          "text": ""
         }
        },
        "yaxis": {
         "anchor": "x",
         "domain": [
          0,
          0.48
         ],
         "matches": "y",
         "nticks": 8,
         "tickformat": "~s",
         "title": {
          "standoff": 0,
          "text": ""
         },
         "zeroline": true,
         "zerolinecolor": "black"
        },
        "yaxis10": {
         "anchor": "x10",
         "domain": [
          0.52,
          1
         ],
         "matches": "y8",
         "nticks": 8,
         "showticklabels": false,
         "tickformat": "~s",
         "title": {
          "text": ""
         },
         "zeroline": true,
         "zerolinecolor": "black"
        },
        "yaxis11": {
         "anchor": "x11",
         "domain": [
          0.52,
          1
         ],
         "matches": "y8",
         "nticks": 8,
         "showticklabels": false,
         "tickformat": "~s",
         "title": {
          "text": ""
         },
         "zeroline": true,
         "zerolinecolor": "black"
        },
        "yaxis12": {
         "anchor": "x12",
         "domain": [
          0.52,
          1
         ],
         "matches": "y8",
         "nticks": 8,
         "showticklabels": false,
         "tickformat": "~s",
         "title": {
          "text": ""
         },
         "zeroline": true,
         "zerolinecolor": "black"
        },
        "yaxis2": {
         "anchor": "x2",
         "domain": [
          0,
          0.48
         ],
         "matches": "y",
         "nticks": 8,
         "showticklabels": false,
         "tickformat": "~s",
         "title": {
          "text": ""
         },
         "zeroline": true,
         "zerolinecolor": "black"
        },
        "yaxis3": {
         "anchor": "x3",
         "domain": [
          0,
          0.48
         ],
         "matches": "y",
         "nticks": 8,
         "showticklabels": false,
         "tickformat": "~s",
         "title": {
          "text": ""
         },
         "zeroline": true,
         "zerolinecolor": "black"
        },
        "yaxis4": {
         "anchor": "x4",
         "domain": [
          0,
          0.48
         ],
         "matches": "y",
         "nticks": 8,
         "showticklabels": false,
         "tickformat": "~s",
         "title": {
          "text": ""
         },
         "zeroline": true,
         "zerolinecolor": "black"
        },
        "yaxis5": {
         "anchor": "x5",
         "domain": [
          0,
          0.48
         ],
         "matches": "y",
         "nticks": 8,
         "showticklabels": false,
         "tickformat": "~s",
         "title": {
          "text": ""
         },
         "zeroline": true,
         "zerolinecolor": "black"
        },
        "yaxis6": {
         "anchor": "x6",
         "domain": [
          0,
          0.48
         ],
         "matches": "y",
         "nticks": 8,
         "showticklabels": false,
         "tickformat": "~s",
         "title": {
          "text": ""
         },
         "zeroline": true,
         "zerolinecolor": "black"
        },
        "yaxis7": {
         "anchor": "x7",
         "domain": [
          0.52,
          1
         ],
         "matches": "y8",
         "nticks": 8,
         "tickformat": "~s",
         "title": {
          "text": ""
         },
         "zeroline": true,
         "zerolinecolor": "black"
        },
        "yaxis8": {
         "anchor": "x8",
         "domain": [
          0.52,
          1
         ],
         "matches": "y8",
         "nticks": 8,
         "showticklabels": false,
         "tickformat": "~s",
         "title": {
          "text": ""
         },
         "zeroline": true,
         "zerolinecolor": "black"
        },
        "yaxis9": {
         "anchor": "x9",
         "domain": [
          0.52,
          1
         ],
         "matches": "y8",
         "nticks": 8,
         "showticklabels": false,
         "tickformat": "~s",
         "title": {
          "text": ""
         },
         "zeroline": true,
         "zerolinecolor": "black"
        }
       }
      }
     },
     "metadata": {},
     "output_type": "display_data"
    }
   ],
   "source": [
    "plot_capacity_flow(db_variant='life_7', \n",
    "                   scenario='life_7',\n",
    "                   modes=['LD Truck', 'HD Truck'],\n",
    "                   cap_types=['new capacity', 'retired cap'], \n",
    "                #    lifetime_classes='yes',\n",
    "                   scenario_title='7 lifetime classes')"
   ]
  },
  {
   "cell_type": "code",
   "execution_count": null,
   "metadata": {},
   "outputs": [],
   "source": []
  },
  {
   "cell_type": "code",
   "execution_count": null,
   "metadata": {},
   "outputs": [],
   "source": []
  }
 ],
 "metadata": {
  "kernelspec": {
   "display_name": "main",
   "language": "python",
   "name": "python3"
  },
  "language_info": {
   "codemirror_mode": {
    "name": "ipython",
    "version": 3
   },
   "file_extension": ".py",
   "mimetype": "text/x-python",
   "name": "python",
   "nbconvert_exporter": "python",
   "pygments_lexer": "ipython3",
   "version": "3.12.9"
  }
 },
 "nbformat": 4,
 "nbformat_minor": 2
}
