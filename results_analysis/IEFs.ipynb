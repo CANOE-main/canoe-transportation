{
 "cells": [
  {
   "cell_type": "code",
   "execution_count": 51,
   "metadata": {},
   "outputs": [],
   "source": [
    "import pandas as pd\n",
    "import numpy as np\n",
    "import plotly.express as px\n",
    "import plotly.graph_objects as go\n",
    "from plotly.subplots import make_subplots\n",
    "import seaborn as sns\n",
    "import matplotlib.pyplot as plt"
   ]
  },
  {
   "cell_type": "markdown",
   "metadata": {},
   "source": [
    "# Import CEF2023 tables\n",
    "https://open.canada.ca/data/en/dataset/7643c948-d661-4d90-ab91-e9ac732fc737"
   ]
  },
  {
   "cell_type": "code",
   "execution_count": 52,
   "metadata": {},
   "outputs": [],
   "source": [
    "model_years = [2021, 2025, 2030, 2035, 2040, 2045, 2050]\n",
    "\n",
    "cef23_demand = pd.read_csv('cef2023_data/end-use-demand-2023.csv', index_col=0) #   Energy in PJ\n",
    "bau23_demand = cef23_demand[(cef23_demand['Region'] == 'Ontario') & (cef23_demand['Scenario'] == 'Current Measures') &\n",
    "                            (cef23_demand['Year'].isin(model_years))].sort_values(['Sector', 'Variable', 'Year'])\n",
    "bau23_demand.rename(columns={'Value': 'Demand (PJ)', 'Variable': 'Carrier', 'Year': 'Period'}, inplace=True)\n",
    "bau23_demand['Carrier'].replace({'Motor Gasoline': 'Gasoline', 'Hydrogen': 'H2'}, inplace=True)\n",
    "bau23_demand['Period'] = bau23_demand['Period'].astype(str)\n",
    "\n",
    "cef23_h2 = pd.read_csv('cef2023_data/hydrogen-production-2023.csv', index_col=0)\n",
    "bau23_h2 = cef23_h2[(cef23_h2['Region'] == 'Ontario') & (cef23_h2['Scenario'] == 'Current Measures') &\n",
    "                            (cef23_h2['Year'].isin(model_years))].sort_values(['Variable', 'Year'])\n",
    "bau23_h2.rename(columns={'Value': 'Production (Mt)', 'Variable': 'Pathway', 'Year': 'Period'}, inplace=True)\n",
    "bau23_h2['Period'] = bau23_h2['Period'].astype(str)\n",
    "bau23_h2['Pathway'] = bau23_h2['Pathway'].replace({'Natural gas with CCS': 'SMR w CCS'})\n",
    "\n",
    "cef23_gen = pd.read_csv('cef2023_data/electricity-generation-2023.csv', index_col=0)\n",
    "bau23_gen = cef23_gen[(cef23_gen['Region'] == 'Ontario') & (cef23_gen['Scenario'] == 'Current Measures') &\n",
    "                            (cef23_gen['Year'].isin(model_years))].sort_values(['Variable', 'Year'])\n",
    "bau23_gen.rename(columns={'Value': 'Generation (GWh)', 'Variable': 'Plant Type', 'Year': 'Period'}, inplace=True)\n",
    "bau23_gen['Period'] = bau23_gen['Period'].astype(str)\n",
    "\n",
    "cef23_cap = pd.read_csv('cef2023_data/electricity-capacity-2023.csv')\n",
    "bau23_cap = cef23_cap[(cef23_cap['Region'] == 'Ontario') & (cef23_cap['Scenario'] == 'Current Measures') &\n",
    "                            (cef23_cap['Year'].isin(model_years))].sort_values(['Variable', 'Year'])\n",
    "bau23_cap.rename(columns={'Value': 'Capacity (MW)', 'Variable': 'Plant Type', 'Year': 'Period'}, inplace=True)\n",
    "bau23_cap['Period'] = bau23_cap['Period'].astype(str)"
   ]
  },
  {
   "cell_type": "markdown",
   "metadata": {},
   "source": [
    "# Import gTech-IESD results"
   ]
  },
  {
   "cell_type": "code",
   "execution_count": 53,
   "metadata": {},
   "outputs": [],
   "source": [
    "years = pd.DataFrame({'year': range(2020, 2051)})\n",
    "\n",
    "def import_navius_data(df):\n",
    "    df = df[(df['policy'] == 'legislated') & (df['swb'] == 'ref') & (df['ccs'] == 'ref') & (df['hyd'] == 'ref') & \n",
    "            (df['oil'] == 'ref') & (df['dac'] == 'no')].drop(columns=['region', 'policy', 'swb', 'ccs', 'hyd', 'oil', 'dac', 'lul']).reset_index(drop='index')\n",
    "    labels = list(set(df.columns.to_list()) - set(['year', 'value']))\n",
    "    unique_combinations = df[labels].drop_duplicates()\n",
    "    expanded_df = unique_combinations.assign(key=1).merge(years.assign(key=1), on='key').drop('key', axis=1)\n",
    "    merged_df = expanded_df.merge(df, on=['year'] + labels, how='left')\n",
    "    merged_df = merged_df.sort_values(by=labels + ['year'])\n",
    "    merged_df['value'] = merged_df.groupby(labels, as_index=False)['value'].apply(lambda group: group.interpolate()).reset_index(level=0, drop=True)\n",
    "    interpolated_2021 = merged_df[merged_df['year'] == 2021]\n",
    "    df = pd.concat([df, interpolated_2021]).sort_values(by=['year'] + labels).reset_index(drop=True)\n",
    "    return df[df['year'] != 2020]"
   ]
  },
  {
   "cell_type": "code",
   "execution_count": 54,
   "metadata": {},
   "outputs": [],
   "source": [
    "gtech23_vehshare = pd.read_csv('navius_regional_data_on/total market share of vehicles by type (%).csv', usecols=lambda column: column != 'id')\n",
    "gtech23_ref_vehshare = import_navius_data(gtech23_vehshare)\n",
    "gtech23_ref_vehshare.rename(columns={'year': 'Period', 'value': 'Market Share (%)', 'eu_name': 'Class', 'technology': 'Drivetrain'}, inplace=True)\n",
    "gtech23_ref_vehshare['Class'] = gtech23_ref_vehshare['Class'].replace({'light-duty': 'LDV', 'heavy-duty': 'HDV'})\n",
    "gtech23_ref_vehshare['Drivetrain'] = gtech23_ref_vehshare['Drivetrain'].replace({'fcev': 'FCEV', 'ice': 'ICEV', 'bev': 'BEV'})\n",
    "\n",
    "gtech23_demand = pd.read_csv('navius_regional_data_on/energy consumption by sector (PJ).csv', usecols=lambda column: column != 'id')\n",
    "gtech23_ref_demand = import_navius_data(gtech23_demand)\n",
    "gtech23_ref_demand.rename(columns={'year': 'Period', 'value': 'Demand (PJ)', 'sector': 'Sector'}, inplace=True)\n",
    "\n",
    "gtech23_ghg = pd.read_csv('navius_regional_data_on/emissions by sector (Mt).csv', usecols=lambda column: column != 'id')\n",
    "gtech23_ref_ghg = import_navius_data(gtech23_ghg)\n",
    "gtech23_ref_ghg.rename(columns={'year': 'Period', 'value': 'CO2e (Mt)', 'sector': 'Sector'}, inplace=True)\n",
    "\n",
    "gtech23_gen = pd.read_csv('navius_regional_data_on/electricity generation by source (TWh).csv', usecols=lambda column: column != 'id')\n",
    "gtech23_ref_gen = import_navius_data(gtech23_gen)\n",
    "gtech23_ref_gen.rename(columns={'year': 'Period', 'value': 'Generation (TWh)', 'type': 'Plant Type'}, inplace=True)\n",
    "\n",
    "gtech23_cap = pd.read_csv('navius_regional_data_on/electricity capacity by source (MW).csv', usecols=lambda column: column != 'id')\n",
    "gtech23_ref_cap = import_navius_data(gtech23_cap)\n",
    "gtech23_ref_cap.rename(columns={'year': 'Period', 'value': 'Capacity (MW)', 'type': 'Plant Type'}, inplace=True)\n",
    "gtech23_ref_cap['Plant Type'] = gtech23_ref_cap['Plant Type'].replace({'fcev': 'FCEV', 'ice': 'ICEV', 'bev': 'BEV'})\n",
    "\n",
    "gtech23_h2 = pd.read_csv('navius_regional_data_on/hydrogen production by type (PJ).csv', usecols=lambda column: column != 'id')\n",
    "gtech23_ref_h2 = import_navius_data(gtech23_h2)\n",
    "gtech23_ref_h2.rename(columns={'year': 'Period', 'value': 'Production (PJ)', 'prod_type': 'Pathway'}, inplace=True)\n",
    "gtech23_ref_h2['Pathway'] = gtech23_ref_h2['Pathway'].replace({'electrolysis': 'Electrolysis', 'smr with ccs': 'SMR w CCS'})"
   ]
  },
  {
   "cell_type": "code",
   "execution_count": 55,
   "metadata": {},
   "outputs": [],
   "source": [
    "gtech23_ref_demand['Sector'].replace({'agriculture & waste': 'Agriculture', 'commercial buildings': 'Commercial', 'residential buildings': 'Residential', \n",
    "                                      'industry': 'Industrial', 'oil and gas': 'Oil & Gas', 'direct air capture': 'Industrial', 'Utilities': 'Utilities',\n",
    "                                      'light-duty transport': 'Transportation', 'medium & heavy-duty transport': 'Transportation', 'other transport': 'Transportation'}, inplace=True)\n",
    "gtech23_ref_demand = gtech23_ref_demand.groupby(['Period', 'Sector'], as_index=False).sum()[['Period', 'Sector', 'Demand (PJ)']]"
   ]
  },
  {
   "cell_type": "markdown",
   "metadata": {},
   "source": [
    "# Import Canoe results"
   ]
  },
  {
   "cell_type": "code",
   "execution_count": 56,
   "metadata": {},
   "outputs": [],
   "source": [
    "canoe_results = 'canoe_trn_noevs'\n",
    "scenario_name = 'trn_noevs'"
   ]
  },
  {
   "cell_type": "code",
   "execution_count": 57,
   "metadata": {},
   "outputs": [],
   "source": [
    "vanilla_file = canoe_results + '/' + scenario_name + '.xlsx'\n",
    "\n",
    "vanilla_trnact = pd.read_excel(vanilla_file, sheet_name='Activity_Transport').fillna(0)\n",
    "vanilla_trncap = pd.read_excel(vanilla_file, sheet_name='Capacity_Transport').fillna(0)\n",
    "vanilla_trnnewcap = pd.read_excel(vanilla_file, sheet_name='NewCapacity_Transport').fillna(0)\n",
    "\n",
    "vanilla_trnact = pd.read_excel(vanilla_file, sheet_name='Activity_Transport').fillna(0)\n",
    "vanilla_resact = pd.read_excel(vanilla_file, sheet_name='Activity_residential').fillna(0)\n",
    "vanilla_commact = pd.read_excel(vanilla_file, sheet_name='Activity_commercial').fillna(0)\n",
    "vanilla_indact = pd.read_excel(vanilla_file, sheet_name='Activity_industrial').fillna(0)\n",
    "\n",
    "vanilla_elcact = pd.read_excel(vanilla_file, sheet_name='Activity_electricity').fillna(0)\n",
    "vanilla_elccap = pd.read_excel(vanilla_file, sheet_name='Capacity_electricity').fillna(0)\n",
    "vanilla_elcnewcap = pd.read_excel(vanilla_file, sheet_name='NewCapacity_electricity').fillna(0)\n",
    "\n",
    "vanilla_ghg = pd.read_excel(vanilla_file, sheet_name='Emissions').fillna(0)\n",
    "vanilla_costs = pd.read_excel(vanilla_file, sheet_name='Costs').fillna(0)"
   ]
  },
  {
   "cell_type": "code",
   "execution_count": 58,
   "metadata": {},
   "outputs": [],
   "source": [
    "canoe_results = 'canoe_trn_zev'\n",
    "scenario_name = 'trn_zev'"
   ]
  },
  {
   "cell_type": "code",
   "execution_count": 59,
   "metadata": {},
   "outputs": [],
   "source": [
    "ref_file = canoe_results + '/' + scenario_name + '.xlsx'\n",
    "\n",
    "ref_trnact = pd.read_excel(ref_file, sheet_name='Activity_Transport').fillna(0)\n",
    "ref_trncap = pd.read_excel(ref_file, sheet_name='Capacity_Transport').fillna(0)\n",
    "ref_trnnewcap = pd.read_excel(ref_file, sheet_name='NewCapacity_Transport').fillna(0)\n",
    "\n",
    "ref_trnact = pd.read_excel(ref_file, sheet_name='Activity_Transport').fillna(0)\n",
    "ref_resact = pd.read_excel(ref_file, sheet_name='Activity_residential').fillna(0)\n",
    "ref_commact = pd.read_excel(ref_file, sheet_name='Activity_commercial').fillna(0)\n",
    "ref_indact = pd.read_excel(ref_file, sheet_name='Activity_industrial').fillna(0)\n",
    "\n",
    "ref_elcact = pd.read_excel(ref_file, sheet_name='Activity_electricity').fillna(0)\n",
    "ref_elccap = pd.read_excel(ref_file, sheet_name='Capacity_electricity').fillna(0)\n",
    "ref_elcnewcap = pd.read_excel(ref_file, sheet_name='NewCapacity_electricity').fillna(0)\n",
    "\n",
    "ref_ghg = pd.read_excel(ref_file, sheet_name='Emissions').fillna(0)\n",
    "ref_costs = pd.read_excel(ref_file, sheet_name='Costs').fillna(0)"
   ]
  },
  {
   "cell_type": "code",
   "execution_count": 60,
   "metadata": {},
   "outputs": [],
   "source": [
    "canoe_results = 'canoe_trn_zev_nhts'\n",
    "scenario_name = 'trn_zev_nhts'"
   ]
  },
  {
   "cell_type": "code",
   "execution_count": 61,
   "metadata": {},
   "outputs": [],
   "source": [
    "nhts_file = canoe_results + '/' + scenario_name + '.xlsx'\n",
    "\n",
    "nhts_trnact = pd.read_excel(nhts_file, sheet_name='Activity_Transport').fillna(0)\n",
    "nhts_trncap = pd.read_excel(nhts_file, sheet_name='Capacity_Transport').fillna(0)\n",
    "nhts_trnnewcap = pd.read_excel(nhts_file, sheet_name='NewCapacity_Transport').fillna(0)\n",
    "\n",
    "nhts_trnact = pd.read_excel(nhts_file, sheet_name='Activity_Transport').fillna(0)\n",
    "nhts_resact = pd.read_excel(nhts_file, sheet_name='Activity_residential').fillna(0)\n",
    "nhts_commact = pd.read_excel(nhts_file, sheet_name='Activity_commercial').fillna(0)\n",
    "nhts_indact = pd.read_excel(nhts_file, sheet_name='Activity_industrial').fillna(0)\n",
    "\n",
    "nhts_elcact = pd.read_excel(nhts_file, sheet_name='Activity_electricity').fillna(0)\n",
    "nhts_elccap = pd.read_excel(nhts_file, sheet_name='Capacity_electricity').fillna(0)\n",
    "nhts_elcnewcap = pd.read_excel(nhts_file, sheet_name='NewCapacity_electricity').fillna(0)\n",
    "\n",
    "nhts_ghg = pd.read_excel(nhts_file, sheet_name='Emissions').fillna(0)\n",
    "nhts_costs = pd.read_excel(nhts_file, sheet_name='Costs').fillna(0)"
   ]
  },
  {
   "cell_type": "code",
   "execution_count": 62,
   "metadata": {},
   "outputs": [],
   "source": [
    "canoe_results = 'canoe_trn_zev_nhts_fixed'\n",
    "scenario_name = 'trn_zev_nhts_fixed'"
   ]
  },
  {
   "cell_type": "code",
   "execution_count": 63,
   "metadata": {},
   "outputs": [],
   "source": [
    "nhts_fixed_file = canoe_results + '/' + scenario_name + '.xlsx'\n",
    "\n",
    "nhts_fixed_trnact = pd.read_excel(nhts_fixed_file, sheet_name='Activity_Transport').fillna(0)\n",
    "nhts_fixed_trncap = pd.read_excel(nhts_fixed_file, sheet_name='Capacity_Transport').fillna(0)\n",
    "nhts_fixed_trnnewcap = pd.read_excel(nhts_fixed_file, sheet_name='NewCapacity_Transport').fillna(0)\n",
    "\n",
    "nhts_fixed_trnact = pd.read_excel(nhts_fixed_file, sheet_name='Activity_Transport').fillna(0)\n",
    "nhts_fixed_resact = pd.read_excel(nhts_fixed_file, sheet_name='Activity_residential').fillna(0)\n",
    "nhts_fixed_commact = pd.read_excel(nhts_fixed_file, sheet_name='Activity_commercial').fillna(0)\n",
    "nhts_fixed_indact = pd.read_excel(nhts_fixed_file, sheet_name='Activity_industrial').fillna(0)\n",
    "\n",
    "nhts_fixed_elcact = pd.read_excel(nhts_fixed_file, sheet_name='Activity_electricity').fillna(0)\n",
    "nhts_fixed_elccap = pd.read_excel(nhts_fixed_file, sheet_name='Capacity_electricity').fillna(0)\n",
    "nhts_fixed_elcnewcap = pd.read_excel(nhts_fixed_file, sheet_name='NewCapacity_electricity').fillna(0)\n",
    "\n",
    "nhts_fixed_ghg = pd.read_excel(nhts_fixed_file, sheet_name='Emissions').fillna(0)\n",
    "nhts_fixed_costs = pd.read_excel(nhts_fixed_file, sheet_name='Costs').fillna(0)"
   ]
  },
  {
   "cell_type": "code",
   "execution_count": 64,
   "metadata": {},
   "outputs": [],
   "source": [
    "class_mapping = {\n",
    "    'T_HDV_AJ': 'Air jet',\n",
    "    'T_HDV_B': 'Bus',\n",
    "    'T_HDV_R': 'Rail',\n",
    "    'T_HDV_T': 'HD Truck',\n",
    "    'T_HDV_W': 'Marine vessel',\n",
    "    'T_MDV_T': 'MD Truck',\n",
    "    'T_LDV_C_': 'LD Car',\n",
    "    'T_LDV_LT': 'LD Truck',\n",
    "    'T_LDV_M': 'Motorcycle',\n",
    "    'T_IMP_': 'Fuel use',\n",
    "    'H2_distribution': 'Fuel use'\n",
    "}\n",
    "\n",
    "def map_tech_to_mode(tech):\n",
    "    for prefix, class_name in class_mapping.items():\n",
    "        if tech.startswith(prefix):\n",
    "            return class_name\n",
    "    return 'Other'\n",
    "\n",
    "ref_trnact['Mode'] = ref_trnact['Technology'].apply(map_tech_to_mode)\n",
    "ref_trncap['Mode'] = ref_trncap['Technology'].apply(map_tech_to_mode)\n",
    "ref_trnnewcap['Mode'] = ref_trnnewcap['Technology'].apply(map_tech_to_mode)\n",
    "\n",
    "vanilla_trnact['Mode'] = vanilla_trnact['Technology'].apply(map_tech_to_mode)\n",
    "vanilla_trncap['Mode'] = vanilla_trncap['Technology'].apply(map_tech_to_mode)\n",
    "vanilla_trnnewcap['Mode'] = vanilla_trnnewcap['Technology'].apply(map_tech_to_mode)"
   ]
  },
  {
   "cell_type": "code",
   "execution_count": 65,
   "metadata": {},
   "outputs": [],
   "source": [
    "carrier_mapping = {\n",
    "        'BEV': 'BEV',\n",
    "        'GSL': 'Gasoline',\n",
    "        'DSL': 'Diesel',\n",
    "        'CNG': 'CNG',\n",
    "        'LNG': 'LNG',\n",
    "        'JTF': 'Aviation Fuel',\n",
    "        'SPK': 'Synthetic Kerosene', #  Might change for SAF\n",
    "        'HFO': 'Heavy Fuel Oil',\n",
    "        'MDO': 'Marine Diesel Oil',\n",
    "        'H2': 'H2',\n",
    "        'ELC': 'Electricity'\n",
    "    }\n",
    "\n",
    "def map_tech_to_drivetrain(tech):\n",
    "    # Check hybrids first\n",
    "    if 'PHEV' in tech:\n",
    "        return 'PHEV'\n",
    "    if 'FC' in tech:\n",
    "        return 'FCEV'\n",
    "    if 'HEV' in tech:\n",
    "        return 'HEV'\n",
    "    if 'RDSL' in tech:\n",
    "            return 'Renewable Diesel' #     Might differentiate\n",
    "    if 'ETH' in tech:\n",
    "        return 'Ethanol' #                  Might differentiate\n",
    "    for prefix, carrier in carrier_mapping.items():\n",
    "        if prefix in tech:\n",
    "            return carrier \n",
    "    return 'Other'\n",
    "\n",
    "ref_trnact['Carrier'] = ref_trnact['Technology'].apply(map_tech_to_drivetrain)\n",
    "ref_trncap['Carrier'] = ref_trncap['Technology'].apply(map_tech_to_drivetrain)\n",
    "ref_trnnewcap['Carrier'] = ref_trnnewcap['Technology'].apply(map_tech_to_drivetrain)\n",
    "\n",
    "vanilla_trnact['Carrier'] = vanilla_trnact['Technology'].apply(map_tech_to_drivetrain)\n",
    "vanilla_trncap['Carrier'] = vanilla_trncap['Technology'].apply(map_tech_to_drivetrain)\n",
    "vanilla_trnnewcap['Carrier'] = vanilla_trnnewcap['Technology'].apply(map_tech_to_drivetrain)\n",
    "\n",
    "nhts_trnact['Carrier'] = nhts_trnact['Technology'].apply(map_tech_to_drivetrain)\n",
    "nhts_trncap['Carrier'] = nhts_trncap['Technology'].apply(map_tech_to_drivetrain)\n",
    "nhts_trnnewcap['Carrier'] = nhts_trnnewcap['Technology'].apply(map_tech_to_drivetrain)\n",
    "\n",
    "nhts_fixed_trnact['Carrier'] = nhts_fixed_trnact['Technology'].apply(map_tech_to_drivetrain)\n",
    "nhts_fixed_trncap['Carrier'] = nhts_fixed_trncap['Technology'].apply(map_tech_to_drivetrain)\n",
    "nhts_fixed_trnnewcap['Carrier'] = nhts_fixed_trnnewcap['Technology'].apply(map_tech_to_drivetrain)"
   ]
  },
  {
   "cell_type": "markdown",
   "metadata": {},
   "source": [
    "# Demand graph template"
   ]
  },
  {
   "cell_type": "markdown",
   "metadata": {},
   "source": [
    "## CANOE ref vs CEF 2023 current policies - transport energy demand by carrier"
   ]
  },
  {
   "cell_type": "code",
   "execution_count": 66,
   "metadata": {},
   "outputs": [],
   "source": [
    "def carrier_grouping(carrier):\n",
    "    if carrier == 'CNG':\n",
    "        return 'Natural Gas'\n",
    "    if carrier == 'LNG':\n",
    "        return 'Natural Gas'\n",
    "    if carrier == 'Ethanol':\n",
    "        return 'Biofuels'\n",
    "    if carrier == 'Renewable Diesel':\n",
    "        return 'Biofuels'\n",
    "    if carrier == 'Synthetic Kerosene':\n",
    "        return 'Biofuels'\n",
    "    if carrier == 'Heavy Fuel Oil':\n",
    "        return 'Marine Fuels'\n",
    "    if carrier == 'Marine Diesel Oil':\n",
    "        return 'Marine Fuels'\n",
    "    if carrier == 'LPG':\n",
    "        return 'Other'\n",
    "    if carrier == 'Lubricants':\n",
    "        return 'Other'\n",
    "    else: return carrier"
   ]
  },
  {
   "cell_type": "code",
   "execution_count": 67,
   "metadata": {},
   "outputs": [],
   "source": [
    "ref_trnact.columns = ref_trnact.columns.astype(str)\n",
    "vanilla_trnact.columns = vanilla_trnact.columns.astype(str)\n",
    "\n",
    "periods = [col for col in ref_trnact.columns if col.isdigit()]\n",
    "params = [col for col in ref_trnact.columns if not col.isdigit()]\n",
    "\n",
    "ref_trnact = pd.melt(ref_trnact, id_vars=params, var_name='Period', value_name='Demand (PJ)', value_vars=periods)\n",
    "vanilla_trnact = pd.melt(vanilla_trnact, id_vars=params, var_name='Period', value_name='Demand (PJ)', value_vars=periods)"
   ]
  },
  {
   "cell_type": "code",
   "execution_count": 68,
   "metadata": {},
   "outputs": [
    {
     "data": {
      "application/vnd.plotly.v1+json": {
       "config": {
        "plotlyServerURL": "https://plot.ly"
       },
       "data": [
        {
         "alignmentgroup": "True",
         "hovertemplate": "Carrier=Gasoline<br>Period=2021<br>Source=%{x}<br>Demand (PJ)=%{y}<extra></extra>",
         "legendgroup": "Gasoline",
         "marker": {
          "color": "#3366CC",
          "pattern": {
           "shape": ""
          }
         },
         "name": "Gasoline",
         "offsetgroup": "Gasoline",
         "orientation": "v",
         "showlegend": true,
         "textfont": {
          "size": 9
         },
         "textposition": "auto",
         "texttemplate": "%{y:.1f}",
         "type": "bar",
         "x": [
          "CANOE (vanilla)",
          "CANOE (ref)",
          "CEF2023"
         ],
         "xaxis": "x",
         "y": [
          506.1746113466481,
          502.8673362177067,
          438.127
         ],
         "yaxis": "y"
        },
        {
         "alignmentgroup": "True",
         "hovertemplate": "Carrier=Gasoline<br>Period=2025<br>Source=%{x}<br>Demand (PJ)=%{y}<extra></extra>",
         "legendgroup": "Gasoline",
         "marker": {
          "color": "#3366CC",
          "pattern": {
           "shape": ""
          }
         },
         "name": "Gasoline",
         "offsetgroup": "Gasoline",
         "orientation": "v",
         "showlegend": false,
         "textfont": {
          "size": 9
         },
         "textposition": "auto",
         "texttemplate": "%{y:.1f}",
         "type": "bar",
         "x": [
          "CANOE (vanilla)",
          "CANOE (ref)",
          "CEF2023"
         ],
         "xaxis": "x2",
         "y": [
          593.3408621963827,
          531.4444629855624,
          459.5522
         ],
         "yaxis": "y2"
        },
        {
         "alignmentgroup": "True",
         "hovertemplate": "Carrier=Gasoline<br>Period=2030<br>Source=%{x}<br>Demand (PJ)=%{y}<extra></extra>",
         "legendgroup": "Gasoline",
         "marker": {
          "color": "#3366CC",
          "pattern": {
           "shape": ""
          }
         },
         "name": "Gasoline",
         "offsetgroup": "Gasoline",
         "orientation": "v",
         "showlegend": false,
         "textfont": {
          "size": 9
         },
         "textposition": "auto",
         "texttemplate": "%{y:.1f}",
         "type": "bar",
         "x": [
          "CANOE (vanilla)",
          "CANOE (ref)",
          "CEF2023"
         ],
         "xaxis": "x3",
         "y": [
          492.9977561840946,
          337.3990843030609,
          439.8523
         ],
         "yaxis": "y3"
        },
        {
         "alignmentgroup": "True",
         "hovertemplate": "Carrier=Gasoline<br>Period=2035<br>Source=%{x}<br>Demand (PJ)=%{y}<extra></extra>",
         "legendgroup": "Gasoline",
         "marker": {
          "color": "#3366CC",
          "pattern": {
           "shape": ""
          }
         },
         "name": "Gasoline",
         "offsetgroup": "Gasoline",
         "orientation": "v",
         "showlegend": false,
         "textfont": {
          "size": 9
         },
         "textposition": "auto",
         "texttemplate": "%{y:.1f}",
         "type": "bar",
         "x": [
          "CANOE (vanilla)",
          "CANOE (ref)",
          "CEF2023"
         ],
         "xaxis": "x4",
         "y": [
          408.386813422699,
          105.3473371564945,
          404.2377
         ],
         "yaxis": "y4"
        },
        {
         "alignmentgroup": "True",
         "hovertemplate": "Carrier=Gasoline<br>Period=2040<br>Source=%{x}<br>Demand (PJ)=%{y}<extra></extra>",
         "legendgroup": "Gasoline",
         "marker": {
          "color": "#3366CC",
          "pattern": {
           "shape": ""
          }
         },
         "name": "Gasoline",
         "offsetgroup": "Gasoline",
         "orientation": "v",
         "showlegend": false,
         "textfont": {
          "size": 9
         },
         "textposition": "auto",
         "texttemplate": "%{y:.1f}",
         "type": "bar",
         "x": [
          "CANOE (vanilla)",
          "CANOE (ref)",
          "CEF2023"
         ],
         "xaxis": "x5",
         "y": [
          449.9630050832623,
          49.74491720213634,
          364.9183
         ],
         "yaxis": "y5"
        },
        {
         "alignmentgroup": "True",
         "hovertemplate": "Carrier=Gasoline<br>Period=2045<br>Source=%{x}<br>Demand (PJ)=%{y}<extra></extra>",
         "legendgroup": "Gasoline",
         "marker": {
          "color": "#3366CC",
          "pattern": {
           "shape": ""
          }
         },
         "name": "Gasoline",
         "offsetgroup": "Gasoline",
         "orientation": "v",
         "showlegend": false,
         "textfont": {
          "size": 9
         },
         "textposition": "auto",
         "texttemplate": "%{y:.1f}",
         "type": "bar",
         "x": [
          "CANOE (vanilla)",
          "CANOE (ref)",
          "CEF2023"
         ],
         "xaxis": "x6",
         "y": [
          443.4560825562643,
          29.81398889862469,
          332.7972
         ],
         "yaxis": "y6"
        },
        {
         "alignmentgroup": "True",
         "hovertemplate": "Carrier=Gasoline<br>Period=2050<br>Source=%{x}<br>Demand (PJ)=%{y}<extra></extra>",
         "legendgroup": "Gasoline",
         "marker": {
          "color": "#3366CC",
          "pattern": {
           "shape": ""
          }
         },
         "name": "Gasoline",
         "offsetgroup": "Gasoline",
         "orientation": "v",
         "showlegend": false,
         "textfont": {
          "size": 9
         },
         "textposition": "auto",
         "texttemplate": "%{y:.1f}",
         "type": "bar",
         "x": [
          "CANOE (vanilla)",
          "CANOE (ref)",
          "CEF2023"
         ],
         "xaxis": "x7",
         "y": [
          441.6458562818429,
          6.2289029719608,
          314.2554
         ],
         "yaxis": "y7"
        },
        {
         "alignmentgroup": "True",
         "hovertemplate": "Carrier=Diesel<br>Period=2021<br>Source=%{x}<br>Demand (PJ)=%{y}<extra></extra>",
         "legendgroup": "Diesel",
         "marker": {
          "color": "#DC3912",
          "pattern": {
           "shape": ""
          }
         },
         "name": "Diesel",
         "offsetgroup": "Diesel",
         "orientation": "v",
         "showlegend": true,
         "textfont": {
          "size": 9
         },
         "textposition": "auto",
         "texttemplate": "%{y:.1f}",
         "type": "bar",
         "x": [
          "CANOE (vanilla)",
          "CANOE (ref)",
          "CEF2023"
         ],
         "xaxis": "x",
         "y": [
          267.362749554536,
          267.0086348363782,
          207.0607
         ],
         "yaxis": "y"
        },
        {
         "alignmentgroup": "True",
         "hovertemplate": "Carrier=Diesel<br>Period=2025<br>Source=%{x}<br>Demand (PJ)=%{y}<extra></extra>",
         "legendgroup": "Diesel",
         "marker": {
          "color": "#DC3912",
          "pattern": {
           "shape": ""
          }
         },
         "name": "Diesel",
         "offsetgroup": "Diesel",
         "orientation": "v",
         "showlegend": false,
         "textfont": {
          "size": 9
         },
         "textposition": "auto",
         "texttemplate": "%{y:.1f}",
         "type": "bar",
         "x": [
          "CANOE (vanilla)",
          "CANOE (ref)",
          "CEF2023"
         ],
         "xaxis": "x2",
         "y": [
          286.6755838314215,
          290.6744714437207,
          224.1973
         ],
         "yaxis": "y2"
        },
        {
         "alignmentgroup": "True",
         "hovertemplate": "Carrier=Diesel<br>Period=2030<br>Source=%{x}<br>Demand (PJ)=%{y}<extra></extra>",
         "legendgroup": "Diesel",
         "marker": {
          "color": "#DC3912",
          "pattern": {
           "shape": ""
          }
         },
         "name": "Diesel",
         "offsetgroup": "Diesel",
         "orientation": "v",
         "showlegend": false,
         "textfont": {
          "size": 9
         },
         "textposition": "auto",
         "texttemplate": "%{y:.1f}",
         "type": "bar",
         "x": [
          "CANOE (vanilla)",
          "CANOE (ref)",
          "CEF2023"
         ],
         "xaxis": "x3",
         "y": [
          280.161802607425,
          267.585977098999,
          235.6683
         ],
         "yaxis": "y3"
        },
        {
         "alignmentgroup": "True",
         "hovertemplate": "Carrier=Diesel<br>Period=2035<br>Source=%{x}<br>Demand (PJ)=%{y}<extra></extra>",
         "legendgroup": "Diesel",
         "marker": {
          "color": "#DC3912",
          "pattern": {
           "shape": ""
          }
         },
         "name": "Diesel",
         "offsetgroup": "Diesel",
         "orientation": "v",
         "showlegend": false,
         "textfont": {
          "size": 9
         },
         "textposition": "auto",
         "texttemplate": "%{y:.1f}",
         "type": "bar",
         "x": [
          "CANOE (vanilla)",
          "CANOE (ref)",
          "CEF2023"
         ],
         "xaxis": "x4",
         "y": [
          243.7801173053694,
          210.0572944138174,
          241.1286
         ],
         "yaxis": "y4"
        },
        {
         "alignmentgroup": "True",
         "hovertemplate": "Carrier=Diesel<br>Period=2040<br>Source=%{x}<br>Demand (PJ)=%{y}<extra></extra>",
         "legendgroup": "Diesel",
         "marker": {
          "color": "#DC3912",
          "pattern": {
           "shape": ""
          }
         },
         "name": "Diesel",
         "offsetgroup": "Diesel",
         "orientation": "v",
         "showlegend": false,
         "textfont": {
          "size": 9
         },
         "textposition": "auto",
         "texttemplate": "%{y:.1f}",
         "type": "bar",
         "x": [
          "CANOE (vanilla)",
          "CANOE (ref)",
          "CEF2023"
         ],
         "xaxis": "x5",
         "y": [
          234.3398342883037,
          158.6614414342586,
          251.0106
         ],
         "yaxis": "y5"
        },
        {
         "alignmentgroup": "True",
         "hovertemplate": "Carrier=Diesel<br>Period=2045<br>Source=%{x}<br>Demand (PJ)=%{y}<extra></extra>",
         "legendgroup": "Diesel",
         "marker": {
          "color": "#DC3912",
          "pattern": {
           "shape": ""
          }
         },
         "name": "Diesel",
         "offsetgroup": "Diesel",
         "orientation": "v",
         "showlegend": false,
         "textfont": {
          "size": 9
         },
         "textposition": "auto",
         "texttemplate": "%{y:.1f}",
         "type": "bar",
         "x": [
          "CANOE (vanilla)",
          "CANOE (ref)",
          "CEF2023"
         ],
         "xaxis": "x6",
         "y": [
          239.0431367831189,
          145.7740783967609,
          263.7726
         ],
         "yaxis": "y6"
        },
        {
         "alignmentgroup": "True",
         "hovertemplate": "Carrier=Diesel<br>Period=2050<br>Source=%{x}<br>Demand (PJ)=%{y}<extra></extra>",
         "legendgroup": "Diesel",
         "marker": {
          "color": "#DC3912",
          "pattern": {
           "shape": ""
          }
         },
         "name": "Diesel",
         "offsetgroup": "Diesel",
         "orientation": "v",
         "showlegend": false,
         "textfont": {
          "size": 9
         },
         "textposition": "auto",
         "texttemplate": "%{y:.1f}",
         "type": "bar",
         "x": [
          "CANOE (vanilla)",
          "CANOE (ref)",
          "CEF2023"
         ],
         "xaxis": "x7",
         "y": [
          233.0702073305097,
          129.8096674382412,
          282.0967
         ],
         "yaxis": "y7"
        },
        {
         "alignmentgroup": "True",
         "hovertemplate": "Carrier=Biofuels<br>Period=2021<br>Source=%{x}<br>Demand (PJ)=%{y}<extra></extra>",
         "legendgroup": "Biofuels",
         "marker": {
          "color": "#FF9900",
          "pattern": {
           "shape": ""
          }
         },
         "name": "Biofuels",
         "offsetgroup": "Biofuels",
         "orientation": "v",
         "showlegend": true,
         "textfont": {
          "size": 9
         },
         "textposition": "auto",
         "texttemplate": "%{y:.1f}",
         "type": "bar",
         "x": [
          "CANOE (vanilla)",
          "CANOE (ref)",
          "CEF2023"
         ],
         "xaxis": "x",
         "y": [
          67.38173804773324,
          66.99950825348319,
          54.6721
         ],
         "yaxis": "y"
        },
        {
         "alignmentgroup": "True",
         "hovertemplate": "Carrier=Biofuels<br>Period=2025<br>Source=%{x}<br>Demand (PJ)=%{y}<extra></extra>",
         "legendgroup": "Biofuels",
         "marker": {
          "color": "#FF9900",
          "pattern": {
           "shape": ""
          }
         },
         "name": "Biofuels",
         "offsetgroup": "Biofuels",
         "orientation": "v",
         "showlegend": false,
         "textfont": {
          "size": 9
         },
         "textposition": "auto",
         "texttemplate": "%{y:.1f}",
         "type": "bar",
         "x": [
          "CANOE (vanilla)",
          "CANOE (ref)",
          "CEF2023"
         ],
         "xaxis": "x2",
         "y": [
          85.27907985994453,
          77.79558342073017,
          66.1605
         ],
         "yaxis": "y2"
        },
        {
         "alignmentgroup": "True",
         "hovertemplate": "Carrier=Biofuels<br>Period=2030<br>Source=%{x}<br>Demand (PJ)=%{y}<extra></extra>",
         "legendgroup": "Biofuels",
         "marker": {
          "color": "#FF9900",
          "pattern": {
           "shape": ""
          }
         },
         "name": "Biofuels",
         "offsetgroup": "Biofuels",
         "orientation": "v",
         "showlegend": false,
         "textfont": {
          "size": 9
         },
         "textposition": "auto",
         "texttemplate": "%{y:.1f}",
         "type": "bar",
         "x": [
          "CANOE (vanilla)",
          "CANOE (ref)",
          "CEF2023"
         ],
         "xaxis": "x3",
         "y": [
          98.67301247446332,
          70.69043058946905,
          67.8602
         ],
         "yaxis": "y3"
        },
        {
         "alignmentgroup": "True",
         "hovertemplate": "Carrier=Biofuels<br>Period=2035<br>Source=%{x}<br>Demand (PJ)=%{y}<extra></extra>",
         "legendgroup": "Biofuels",
         "marker": {
          "color": "#FF9900",
          "pattern": {
           "shape": ""
          }
         },
         "name": "Biofuels",
         "offsetgroup": "Biofuels",
         "orientation": "v",
         "showlegend": false,
         "textfont": {
          "size": 9
         },
         "textposition": "auto",
         "texttemplate": "%{y:.1f}",
         "type": "bar",
         "x": [
          "CANOE (vanilla)",
          "CANOE (ref)",
          "CEF2023"
         ],
         "xaxis": "x4",
         "y": [
          82.22576607996473,
          27.343093824270838,
          72.0742
         ],
         "yaxis": "y4"
        },
        {
         "alignmentgroup": "True",
         "hovertemplate": "Carrier=Biofuels<br>Period=2040<br>Source=%{x}<br>Demand (PJ)=%{y}<extra></extra>",
         "legendgroup": "Biofuels",
         "marker": {
          "color": "#FF9900",
          "pattern": {
           "shape": ""
          }
         },
         "name": "Biofuels",
         "offsetgroup": "Biofuels",
         "orientation": "v",
         "showlegend": false,
         "textfont": {
          "size": 9
         },
         "textposition": "auto",
         "texttemplate": "%{y:.1f}",
         "type": "bar",
         "x": [
          "CANOE (vanilla)",
          "CANOE (ref)",
          "CEF2023"
         ],
         "xaxis": "x5",
         "y": [
          89.16939595317659,
          15.389408193471118,
          70.0468
         ],
         "yaxis": "y5"
        },
        {
         "alignmentgroup": "True",
         "hovertemplate": "Carrier=Biofuels<br>Period=2045<br>Source=%{x}<br>Demand (PJ)=%{y}<extra></extra>",
         "legendgroup": "Biofuels",
         "marker": {
          "color": "#FF9900",
          "pattern": {
           "shape": ""
          }
         },
         "name": "Biofuels",
         "offsetgroup": "Biofuels",
         "orientation": "v",
         "showlegend": false,
         "textfont": {
          "size": 9
         },
         "textposition": "auto",
         "texttemplate": "%{y:.1f}",
         "type": "bar",
         "x": [
          "CANOE (vanilla)",
          "CANOE (ref)",
          "CEF2023"
         ],
         "xaxis": "x6",
         "y": [
          88.21708644451974,
          11.3352120917792,
          68.8381
         ],
         "yaxis": "y6"
        },
        {
         "alignmentgroup": "True",
         "hovertemplate": "Carrier=Biofuels<br>Period=2050<br>Source=%{x}<br>Demand (PJ)=%{y}<extra></extra>",
         "legendgroup": "Biofuels",
         "marker": {
          "color": "#FF9900",
          "pattern": {
           "shape": ""
          }
         },
         "name": "Biofuels",
         "offsetgroup": "Biofuels",
         "orientation": "v",
         "showlegend": false,
         "textfont": {
          "size": 9
         },
         "textposition": "auto",
         "texttemplate": "%{y:.1f}",
         "type": "bar",
         "x": [
          "CANOE (vanilla)",
          "CANOE (ref)",
          "CEF2023"
         ],
         "xaxis": "x7",
         "y": [
          87.64876268850823,
          6.50795431478255,
          69.208
         ],
         "yaxis": "y7"
        },
        {
         "alignmentgroup": "True",
         "hovertemplate": "Carrier=Electricity<br>Period=2021<br>Source=%{x}<br>Demand (PJ)=%{y}<extra></extra>",
         "legendgroup": "Electricity",
         "marker": {
          "color": "#109618",
          "pattern": {
           "shape": ""
          }
         },
         "name": "Electricity",
         "offsetgroup": "Electricity",
         "orientation": "v",
         "showlegend": true,
         "textfont": {
          "size": 9
         },
         "textposition": "auto",
         "texttemplate": "%{y:.1f}",
         "type": "bar",
         "x": [
          "CANOE (vanilla)",
          "CANOE (ref)",
          "CEF2023"
         ],
         "xaxis": "x",
         "y": [
          2.291463845385597,
          2.664825740545328,
          1.2878
         ],
         "yaxis": "y"
        },
        {
         "alignmentgroup": "True",
         "hovertemplate": "Carrier=Electricity<br>Period=2025<br>Source=%{x}<br>Demand (PJ)=%{y}<extra></extra>",
         "legendgroup": "Electricity",
         "marker": {
          "color": "#109618",
          "pattern": {
           "shape": ""
          }
         },
         "name": "Electricity",
         "offsetgroup": "Electricity",
         "orientation": "v",
         "showlegend": false,
         "textfont": {
          "size": 9
         },
         "textposition": "auto",
         "texttemplate": "%{y:.1f}",
         "type": "bar",
         "x": [
          "CANOE (vanilla)",
          "CANOE (ref)",
          "CEF2023"
         ],
         "xaxis": "x2",
         "y": [
          2.2781876104242,
          17.67694540420275,
          4.4457
         ],
         "yaxis": "y2"
        },
        {
         "alignmentgroup": "True",
         "hovertemplate": "Carrier=Electricity<br>Period=2030<br>Source=%{x}<br>Demand (PJ)=%{y}<extra></extra>",
         "legendgroup": "Electricity",
         "marker": {
          "color": "#109618",
          "pattern": {
           "shape": ""
          }
         },
         "name": "Electricity",
         "offsetgroup": "Electricity",
         "orientation": "v",
         "showlegend": false,
         "textfont": {
          "size": 9
         },
         "textposition": "auto",
         "texttemplate": "%{y:.1f}",
         "type": "bar",
         "x": [
          "CANOE (vanilla)",
          "CANOE (ref)",
          "CEF2023"
         ],
         "xaxis": "x3",
         "y": [
          1.898614952026978,
          56.39017403623559,
          13.2973
         ],
         "yaxis": "y3"
        },
        {
         "alignmentgroup": "True",
         "hovertemplate": "Carrier=Electricity<br>Period=2035<br>Source=%{x}<br>Demand (PJ)=%{y}<extra></extra>",
         "legendgroup": "Electricity",
         "marker": {
          "color": "#109618",
          "pattern": {
           "shape": ""
          }
         },
         "name": "Electricity",
         "offsetgroup": "Electricity",
         "orientation": "v",
         "showlegend": false,
         "textfont": {
          "size": 9
         },
         "textposition": "auto",
         "texttemplate": "%{y:.1f}",
         "type": "bar",
         "x": [
          "CANOE (vanilla)",
          "CANOE (ref)",
          "CEF2023"
         ],
         "xaxis": "x4",
         "y": [
          0.2805621627110957,
          121.3354905716759,
          27.0058
         ],
         "yaxis": "y4"
        },
        {
         "alignmentgroup": "True",
         "hovertemplate": "Carrier=Electricity<br>Period=2040<br>Source=%{x}<br>Demand (PJ)=%{y}<extra></extra>",
         "legendgroup": "Electricity",
         "marker": {
          "color": "#109618",
          "pattern": {
           "shape": ""
          }
         },
         "name": "Electricity",
         "offsetgroup": "Electricity",
         "orientation": "v",
         "showlegend": false,
         "textfont": {
          "size": 9
         },
         "textposition": "auto",
         "texttemplate": "%{y:.1f}",
         "type": "bar",
         "x": [
          "CANOE (vanilla)",
          "CANOE (ref)",
          "CEF2023"
         ],
         "xaxis": "x5",
         "y": [
          0,
          161.8890174717547,
          46.0383
         ],
         "yaxis": "y5"
        },
        {
         "alignmentgroup": "True",
         "hovertemplate": "Carrier=Electricity<br>Period=2045<br>Source=%{x}<br>Demand (PJ)=%{y}<extra></extra>",
         "legendgroup": "Electricity",
         "marker": {
          "color": "#109618",
          "pattern": {
           "shape": ""
          }
         },
         "name": "Electricity",
         "offsetgroup": "Electricity",
         "orientation": "v",
         "showlegend": false,
         "textfont": {
          "size": 9
         },
         "textposition": "auto",
         "texttemplate": "%{y:.1f}",
         "type": "bar",
         "x": [
          "CANOE (vanilla)",
          "CANOE (ref)",
          "CEF2023"
         ],
         "xaxis": "x6",
         "y": [
          0,
          187.305053042744,
          62.5818
         ],
         "yaxis": "y6"
        },
        {
         "alignmentgroup": "True",
         "hovertemplate": "Carrier=Electricity<br>Period=2050<br>Source=%{x}<br>Demand (PJ)=%{y}<extra></extra>",
         "legendgroup": "Electricity",
         "marker": {
          "color": "#109618",
          "pattern": {
           "shape": ""
          }
         },
         "name": "Electricity",
         "offsetgroup": "Electricity",
         "orientation": "v",
         "showlegend": false,
         "textfont": {
          "size": 9
         },
         "textposition": "auto",
         "texttemplate": "%{y:.1f}",
         "type": "bar",
         "x": [
          "CANOE (vanilla)",
          "CANOE (ref)",
          "CEF2023"
         ],
         "xaxis": "x7",
         "y": [
          0,
          206.7835043296387,
          74.5335
         ],
         "yaxis": "y7"
        },
        {
         "alignmentgroup": "True",
         "hovertemplate": "Carrier=H2<br>Period=2021<br>Source=%{x}<br>Demand (PJ)=%{y}<extra></extra>",
         "legendgroup": "H2",
         "marker": {
          "color": "#990099",
          "pattern": {
           "shape": ""
          }
         },
         "name": "H2",
         "offsetgroup": "H2",
         "orientation": "v",
         "showlegend": true,
         "textfont": {
          "size": 9
         },
         "textposition": "auto",
         "texttemplate": "%{y:.1f}",
         "type": "bar",
         "x": [
          "CANOE (vanilla)",
          "CANOE (ref)",
          "CEF2023"
         ],
         "xaxis": "x",
         "y": [
          0,
          0,
          0.0001
         ],
         "yaxis": "y"
        },
        {
         "alignmentgroup": "True",
         "hovertemplate": "Carrier=H2<br>Period=2025<br>Source=%{x}<br>Demand (PJ)=%{y}<extra></extra>",
         "legendgroup": "H2",
         "marker": {
          "color": "#990099",
          "pattern": {
           "shape": ""
          }
         },
         "name": "H2",
         "offsetgroup": "H2",
         "orientation": "v",
         "showlegend": false,
         "textfont": {
          "size": 9
         },
         "textposition": "auto",
         "texttemplate": "%{y:.1f}",
         "type": "bar",
         "x": [
          "CANOE (vanilla)",
          "CANOE (ref)",
          "CEF2023"
         ],
         "xaxis": "x2",
         "y": [
          2.816477696884626,
          4.168359564137265,
          0.0001
         ],
         "yaxis": "y2"
        },
        {
         "alignmentgroup": "True",
         "hovertemplate": "Carrier=H2<br>Period=2030<br>Source=%{x}<br>Demand (PJ)=%{y}<extra></extra>",
         "legendgroup": "H2",
         "marker": {
          "color": "#990099",
          "pattern": {
           "shape": ""
          }
         },
         "name": "H2",
         "offsetgroup": "H2",
         "orientation": "v",
         "showlegend": false,
         "textfont": {
          "size": 9
         },
         "textposition": "auto",
         "texttemplate": "%{y:.1f}",
         "type": "bar",
         "x": [
          "CANOE (vanilla)",
          "CANOE (ref)",
          "CEF2023"
         ],
         "xaxis": "x3",
         "y": [
          7.852359096647661,
          13.24098123949242,
          0.0001
         ],
         "yaxis": "y3"
        },
        {
         "alignmentgroup": "True",
         "hovertemplate": "Carrier=H2<br>Period=2035<br>Source=%{x}<br>Demand (PJ)=%{y}<extra></extra>",
         "legendgroup": "H2",
         "marker": {
          "color": "#990099",
          "pattern": {
           "shape": ""
          }
         },
         "name": "H2",
         "offsetgroup": "H2",
         "orientation": "v",
         "showlegend": false,
         "textfont": {
          "size": 9
         },
         "textposition": "auto",
         "texttemplate": "%{y:.1f}",
         "type": "bar",
         "x": [
          "CANOE (vanilla)",
          "CANOE (ref)",
          "CEF2023"
         ],
         "xaxis": "x4",
         "y": [
          28.42751720790643,
          29.50644958738915,
          0.0001
         ],
         "yaxis": "y4"
        },
        {
         "alignmentgroup": "True",
         "hovertemplate": "Carrier=H2<br>Period=2040<br>Source=%{x}<br>Demand (PJ)=%{y}<extra></extra>",
         "legendgroup": "H2",
         "marker": {
          "color": "#990099",
          "pattern": {
           "shape": ""
          }
         },
         "name": "H2",
         "offsetgroup": "H2",
         "orientation": "v",
         "showlegend": false,
         "textfont": {
          "size": 9
         },
         "textposition": "auto",
         "texttemplate": "%{y:.1f}",
         "type": "bar",
         "x": [
          "CANOE (vanilla)",
          "CANOE (ref)",
          "CEF2023"
         ],
         "xaxis": "x5",
         "y": [
          43.35864129230885,
          50.90152701077131,
          0.0001
         ],
         "yaxis": "y5"
        },
        {
         "alignmentgroup": "True",
         "hovertemplate": "Carrier=H2<br>Period=2045<br>Source=%{x}<br>Demand (PJ)=%{y}<extra></extra>",
         "legendgroup": "H2",
         "marker": {
          "color": "#990099",
          "pattern": {
           "shape": ""
          }
         },
         "name": "H2",
         "offsetgroup": "H2",
         "orientation": "v",
         "showlegend": false,
         "textfont": {
          "size": 9
         },
         "textposition": "auto",
         "texttemplate": "%{y:.1f}",
         "type": "bar",
         "x": [
          "CANOE (vanilla)",
          "CANOE (ref)",
          "CEF2023"
         ],
         "xaxis": "x6",
         "y": [
          48.56183641399692,
          61.45870315661451,
          0.0001
         ],
         "yaxis": "y6"
        },
        {
         "alignmentgroup": "True",
         "hovertemplate": "Carrier=H2<br>Period=2050<br>Source=%{x}<br>Demand (PJ)=%{y}<extra></extra>",
         "legendgroup": "H2",
         "marker": {
          "color": "#990099",
          "pattern": {
           "shape": ""
          }
         },
         "name": "H2",
         "offsetgroup": "H2",
         "orientation": "v",
         "showlegend": false,
         "textfont": {
          "size": 9
         },
         "textposition": "auto",
         "texttemplate": "%{y:.1f}",
         "type": "bar",
         "x": [
          "CANOE (vanilla)",
          "CANOE (ref)",
          "CEF2023"
         ],
         "xaxis": "x7",
         "y": [
          60.43171137606804,
          72.27630614111507,
          0.0001
         ],
         "yaxis": "y7"
        },
        {
         "alignmentgroup": "True",
         "hovertemplate": "Carrier=Natural Gas<br>Period=2021<br>Source=%{x}<br>Demand (PJ)=%{y}<extra></extra>",
         "legendgroup": "Natural Gas",
         "marker": {
          "color": "#0099C6",
          "pattern": {
           "shape": ""
          }
         },
         "name": "Natural Gas",
         "offsetgroup": "Natural Gas",
         "orientation": "v",
         "showlegend": true,
         "textfont": {
          "size": 9
         },
         "textposition": "auto",
         "texttemplate": "%{y:.1f}",
         "type": "bar",
         "x": [
          "CANOE (vanilla)",
          "CANOE (ref)",
          "CEF2023"
         ],
         "xaxis": "x",
         "y": [
          0.3488237947404325,
          0.3488241956158459,
          0.6612
         ],
         "yaxis": "y"
        },
        {
         "alignmentgroup": "True",
         "hovertemplate": "Carrier=Natural Gas<br>Period=2025<br>Source=%{x}<br>Demand (PJ)=%{y}<extra></extra>",
         "legendgroup": "Natural Gas",
         "marker": {
          "color": "#0099C6",
          "pattern": {
           "shape": ""
          }
         },
         "name": "Natural Gas",
         "offsetgroup": "Natural Gas",
         "orientation": "v",
         "showlegend": false,
         "textfont": {
          "size": 9
         },
         "textposition": "auto",
         "texttemplate": "%{y:.1f}",
         "type": "bar",
         "x": [
          "CANOE (vanilla)",
          "CANOE (ref)",
          "CEF2023"
         ],
         "xaxis": "x2",
         "y": [
          1.0810060216578325,
          1.0779516769142896,
          0.7773
         ],
         "yaxis": "y2"
        },
        {
         "alignmentgroup": "True",
         "hovertemplate": "Carrier=Natural Gas<br>Period=2030<br>Source=%{x}<br>Demand (PJ)=%{y}<extra></extra>",
         "legendgroup": "Natural Gas",
         "marker": {
          "color": "#0099C6",
          "pattern": {
           "shape": ""
          }
         },
         "name": "Natural Gas",
         "offsetgroup": "Natural Gas",
         "orientation": "v",
         "showlegend": false,
         "textfont": {
          "size": 9
         },
         "textposition": "auto",
         "texttemplate": "%{y:.1f}",
         "type": "bar",
         "x": [
          "CANOE (vanilla)",
          "CANOE (ref)",
          "CEF2023"
         ],
         "xaxis": "x3",
         "y": [
          2.746209834065758,
          2.740551761257849,
          0.8382
         ],
         "yaxis": "y3"
        },
        {
         "alignmentgroup": "True",
         "hovertemplate": "Carrier=Natural Gas<br>Period=2035<br>Source=%{x}<br>Demand (PJ)=%{y}<extra></extra>",
         "legendgroup": "Natural Gas",
         "marker": {
          "color": "#0099C6",
          "pattern": {
           "shape": ""
          }
         },
         "name": "Natural Gas",
         "offsetgroup": "Natural Gas",
         "orientation": "v",
         "showlegend": false,
         "textfont": {
          "size": 9
         },
         "textposition": "auto",
         "texttemplate": "%{y:.1f}",
         "type": "bar",
         "x": [
          "CANOE (vanilla)",
          "CANOE (ref)",
          "CEF2023"
         ],
         "xaxis": "x4",
         "y": [
          3.5291397998972105,
          3.5193543756704555,
          0.8741
         ],
         "yaxis": "y4"
        },
        {
         "alignmentgroup": "True",
         "hovertemplate": "Carrier=Natural Gas<br>Period=2040<br>Source=%{x}<br>Demand (PJ)=%{y}<extra></extra>",
         "legendgroup": "Natural Gas",
         "marker": {
          "color": "#0099C6",
          "pattern": {
           "shape": ""
          }
         },
         "name": "Natural Gas",
         "offsetgroup": "Natural Gas",
         "orientation": "v",
         "showlegend": false,
         "textfont": {
          "size": 9
         },
         "textposition": "auto",
         "texttemplate": "%{y:.1f}",
         "type": "bar",
         "x": [
          "CANOE (vanilla)",
          "CANOE (ref)",
          "CEF2023"
         ],
         "xaxis": "x5",
         "y": [
          5.3479222893296,
          5.321121983288974,
          0.8821
         ],
         "yaxis": "y5"
        },
        {
         "alignmentgroup": "True",
         "hovertemplate": "Carrier=Natural Gas<br>Period=2045<br>Source=%{x}<br>Demand (PJ)=%{y}<extra></extra>",
         "legendgroup": "Natural Gas",
         "marker": {
          "color": "#0099C6",
          "pattern": {
           "shape": ""
          }
         },
         "name": "Natural Gas",
         "offsetgroup": "Natural Gas",
         "orientation": "v",
         "showlegend": false,
         "textfont": {
          "size": 9
         },
         "textposition": "auto",
         "texttemplate": "%{y:.1f}",
         "type": "bar",
         "x": [
          "CANOE (vanilla)",
          "CANOE (ref)",
          "CEF2023"
         ],
         "xaxis": "x6",
         "y": [
          5.342958941665865,
          5.321130464722962,
          0.883
         ],
         "yaxis": "y6"
        },
        {
         "alignmentgroup": "True",
         "hovertemplate": "Carrier=Natural Gas<br>Period=2050<br>Source=%{x}<br>Demand (PJ)=%{y}<extra></extra>",
         "legendgroup": "Natural Gas",
         "marker": {
          "color": "#0099C6",
          "pattern": {
           "shape": ""
          }
         },
         "name": "Natural Gas",
         "offsetgroup": "Natural Gas",
         "orientation": "v",
         "showlegend": false,
         "textfont": {
          "size": 9
         },
         "textposition": "auto",
         "texttemplate": "%{y:.1f}",
         "type": "bar",
         "x": [
          "CANOE (vanilla)",
          "CANOE (ref)",
          "CEF2023"
         ],
         "xaxis": "x7",
         "y": [
          5.342052894628667,
          5.32112939978636,
          0.8844
         ],
         "yaxis": "y7"
        },
        {
         "alignmentgroup": "True",
         "hovertemplate": "Carrier=Aviation Fuel<br>Period=2021<br>Source=%{x}<br>Demand (PJ)=%{y}<extra></extra>",
         "legendgroup": "Aviation Fuel",
         "marker": {
          "color": "#DD4477",
          "pattern": {
           "shape": ""
          }
         },
         "name": "Aviation Fuel",
         "offsetgroup": "Aviation Fuel",
         "orientation": "v",
         "showlegend": true,
         "textfont": {
          "size": 9
         },
         "textposition": "auto",
         "texttemplate": "%{y:.1f}",
         "type": "bar",
         "x": [
          "CANOE (vanilla)",
          "CANOE (ref)",
          "CEF2023"
         ],
         "xaxis": "x",
         "y": [
          78.60133097835342,
          78.60133091539018,
          49.6219
         ],
         "yaxis": "y"
        },
        {
         "alignmentgroup": "True",
         "hovertemplate": "Carrier=Aviation Fuel<br>Period=2025<br>Source=%{x}<br>Demand (PJ)=%{y}<extra></extra>",
         "legendgroup": "Aviation Fuel",
         "marker": {
          "color": "#DD4477",
          "pattern": {
           "shape": ""
          }
         },
         "name": "Aviation Fuel",
         "offsetgroup": "Aviation Fuel",
         "orientation": "v",
         "showlegend": false,
         "textfont": {
          "size": 9
         },
         "textposition": "auto",
         "texttemplate": "%{y:.1f}",
         "type": "bar",
         "x": [
          "CANOE (vanilla)",
          "CANOE (ref)",
          "CEF2023"
         ],
         "xaxis": "x2",
         "y": [
          89.23148267066541,
          89.23148263740397,
          106.7396
         ],
         "yaxis": "y2"
        },
        {
         "alignmentgroup": "True",
         "hovertemplate": "Carrier=Aviation Fuel<br>Period=2030<br>Source=%{x}<br>Demand (PJ)=%{y}<extra></extra>",
         "legendgroup": "Aviation Fuel",
         "marker": {
          "color": "#DD4477",
          "pattern": {
           "shape": ""
          }
         },
         "name": "Aviation Fuel",
         "offsetgroup": "Aviation Fuel",
         "orientation": "v",
         "showlegend": false,
         "textfont": {
          "size": 9
         },
         "textposition": "auto",
         "texttemplate": "%{y:.1f}",
         "type": "bar",
         "x": [
          "CANOE (vanilla)",
          "CANOE (ref)",
          "CEF2023"
         ],
         "xaxis": "x3",
         "y": [
          92.36973903374185,
          92.36973896069634,
          117.9412
         ],
         "yaxis": "y3"
        },
        {
         "alignmentgroup": "True",
         "hovertemplate": "Carrier=Aviation Fuel<br>Period=2035<br>Source=%{x}<br>Demand (PJ)=%{y}<extra></extra>",
         "legendgroup": "Aviation Fuel",
         "marker": {
          "color": "#DD4477",
          "pattern": {
           "shape": ""
          }
         },
         "name": "Aviation Fuel",
         "offsetgroup": "Aviation Fuel",
         "orientation": "v",
         "showlegend": false,
         "textfont": {
          "size": 9
         },
         "textposition": "auto",
         "texttemplate": "%{y:.1f}",
         "type": "bar",
         "x": [
          "CANOE (vanilla)",
          "CANOE (ref)",
          "CEF2023"
         ],
         "xaxis": "x4",
         "y": [
          96.64765486197933,
          96.64765480379994,
          126.9966
         ],
         "yaxis": "y4"
        },
        {
         "alignmentgroup": "True",
         "hovertemplate": "Carrier=Aviation Fuel<br>Period=2040<br>Source=%{x}<br>Demand (PJ)=%{y}<extra></extra>",
         "legendgroup": "Aviation Fuel",
         "marker": {
          "color": "#DD4477",
          "pattern": {
           "shape": ""
          }
         },
         "name": "Aviation Fuel",
         "offsetgroup": "Aviation Fuel",
         "orientation": "v",
         "showlegend": false,
         "textfont": {
          "size": 9
         },
         "textposition": "auto",
         "texttemplate": "%{y:.1f}",
         "type": "bar",
         "x": [
          "CANOE (vanilla)",
          "CANOE (ref)",
          "CEF2023"
         ],
         "xaxis": "x5",
         "y": [
          104.466134255706,
          104.4661341802834,
          133.7623
         ],
         "yaxis": "y5"
        },
        {
         "alignmentgroup": "True",
         "hovertemplate": "Carrier=Aviation Fuel<br>Period=2045<br>Source=%{x}<br>Demand (PJ)=%{y}<extra></extra>",
         "legendgroup": "Aviation Fuel",
         "marker": {
          "color": "#DD4477",
          "pattern": {
           "shape": ""
          }
         },
         "name": "Aviation Fuel",
         "offsetgroup": "Aviation Fuel",
         "orientation": "v",
         "showlegend": false,
         "textfont": {
          "size": 9
         },
         "textposition": "auto",
         "texttemplate": "%{y:.1f}",
         "type": "bar",
         "x": [
          "CANOE (vanilla)",
          "CANOE (ref)",
          "CEF2023"
         ],
         "xaxis": "x6",
         "y": [
          115.9387805582488,
          115.938780357625,
          138.7778
         ],
         "yaxis": "y6"
        },
        {
         "alignmentgroup": "True",
         "hovertemplate": "Carrier=Aviation Fuel<br>Period=2050<br>Source=%{x}<br>Demand (PJ)=%{y}<extra></extra>",
         "legendgroup": "Aviation Fuel",
         "marker": {
          "color": "#DD4477",
          "pattern": {
           "shape": ""
          }
         },
         "name": "Aviation Fuel",
         "offsetgroup": "Aviation Fuel",
         "orientation": "v",
         "showlegend": false,
         "textfont": {
          "size": 9
         },
         "textposition": "auto",
         "texttemplate": "%{y:.1f}",
         "type": "bar",
         "x": [
          "CANOE (vanilla)",
          "CANOE (ref)",
          "CEF2023"
         ],
         "xaxis": "x7",
         "y": [
          124.5193006547192,
          124.5193004978461,
          142.8996
         ],
         "yaxis": "y7"
        },
        {
         "alignmentgroup": "True",
         "hovertemplate": "Carrier=Marine Fuels<br>Period=2021<br>Source=%{x}<br>Demand (PJ)=%{y}<extra></extra>",
         "legendgroup": "Marine Fuels",
         "marker": {
          "color": "#B82E2E",
          "pattern": {
           "shape": ""
          }
         },
         "name": "Marine Fuels",
         "offsetgroup": "Marine Fuels",
         "orientation": "v",
         "showlegend": true,
         "textfont": {
          "size": 9
         },
         "textposition": "auto",
         "texttemplate": "%{y:.1f}",
         "type": "bar",
         "x": [
          "CANOE (vanilla)",
          "CANOE (ref)",
          "CEF2023"
         ],
         "xaxis": "x",
         "y": [
          8.0284157304725,
          8.028415754639333,
          15.9492
         ],
         "yaxis": "y"
        },
        {
         "alignmentgroup": "True",
         "hovertemplate": "Carrier=Marine Fuels<br>Period=2025<br>Source=%{x}<br>Demand (PJ)=%{y}<extra></extra>",
         "legendgroup": "Marine Fuels",
         "marker": {
          "color": "#B82E2E",
          "pattern": {
           "shape": ""
          }
         },
         "name": "Marine Fuels",
         "offsetgroup": "Marine Fuels",
         "orientation": "v",
         "showlegend": false,
         "textfont": {
          "size": 9
         },
         "textposition": "auto",
         "texttemplate": "%{y:.1f}",
         "type": "bar",
         "x": [
          "CANOE (vanilla)",
          "CANOE (ref)",
          "CEF2023"
         ],
         "xaxis": "x2",
         "y": [
          8.028428449736335,
          8.028429090245831,
          14.0341
         ],
         "yaxis": "y2"
        },
        {
         "alignmentgroup": "True",
         "hovertemplate": "Carrier=Marine Fuels<br>Period=2030<br>Source=%{x}<br>Demand (PJ)=%{y}<extra></extra>",
         "legendgroup": "Marine Fuels",
         "marker": {
          "color": "#B82E2E",
          "pattern": {
           "shape": ""
          }
         },
         "name": "Marine Fuels",
         "offsetgroup": "Marine Fuels",
         "orientation": "v",
         "showlegend": false,
         "textfont": {
          "size": 9
         },
         "textposition": "auto",
         "texttemplate": "%{y:.1f}",
         "type": "bar",
         "x": [
          "CANOE (vanilla)",
          "CANOE (ref)",
          "CEF2023"
         ],
         "xaxis": "x3",
         "y": [
          6.772439170218181,
          6.772439084719929,
          10.8613
         ],
         "yaxis": "y3"
        },
        {
         "alignmentgroup": "True",
         "hovertemplate": "Carrier=Marine Fuels<br>Period=2035<br>Source=%{x}<br>Demand (PJ)=%{y}<extra></extra>",
         "legendgroup": "Marine Fuels",
         "marker": {
          "color": "#B82E2E",
          "pattern": {
           "shape": ""
          }
         },
         "name": "Marine Fuels",
         "offsetgroup": "Marine Fuels",
         "orientation": "v",
         "showlegend": false,
         "textfont": {
          "size": 9
         },
         "textposition": "auto",
         "texttemplate": "%{y:.1f}",
         "type": "bar",
         "x": [
          "CANOE (vanilla)",
          "CANOE (ref)",
          "CEF2023"
         ],
         "xaxis": "x4",
         "y": [
          6.435894399161254,
          6.435892927922766,
          8.401
         ],
         "yaxis": "y4"
        },
        {
         "alignmentgroup": "True",
         "hovertemplate": "Carrier=Marine Fuels<br>Period=2040<br>Source=%{x}<br>Demand (PJ)=%{y}<extra></extra>",
         "legendgroup": "Marine Fuels",
         "marker": {
          "color": "#B82E2E",
          "pattern": {
           "shape": ""
          }
         },
         "name": "Marine Fuels",
         "offsetgroup": "Marine Fuels",
         "orientation": "v",
         "showlegend": false,
         "textfont": {
          "size": 9
         },
         "textposition": "auto",
         "texttemplate": "%{y:.1f}",
         "type": "bar",
         "x": [
          "CANOE (vanilla)",
          "CANOE (ref)",
          "CEF2023"
         ],
         "xaxis": "x5",
         "y": [
          5.069711565281938,
          5.069710153023453,
          6.8611
         ],
         "yaxis": "y5"
        },
        {
         "alignmentgroup": "True",
         "hovertemplate": "Carrier=Marine Fuels<br>Period=2045<br>Source=%{x}<br>Demand (PJ)=%{y}<extra></extra>",
         "legendgroup": "Marine Fuels",
         "marker": {
          "color": "#B82E2E",
          "pattern": {
           "shape": ""
          }
         },
         "name": "Marine Fuels",
         "offsetgroup": "Marine Fuels",
         "orientation": "v",
         "showlegend": false,
         "textfont": {
          "size": 9
         },
         "textposition": "auto",
         "texttemplate": "%{y:.1f}",
         "type": "bar",
         "x": [
          "CANOE (vanilla)",
          "CANOE (ref)",
          "CEF2023"
         ],
         "xaxis": "x6",
         "y": [
          5.170188653572466,
          5.170185938387821,
          6.0186
         ],
         "yaxis": "y6"
        },
        {
         "alignmentgroup": "True",
         "hovertemplate": "Carrier=Marine Fuels<br>Period=2050<br>Source=%{x}<br>Demand (PJ)=%{y}<extra></extra>",
         "legendgroup": "Marine Fuels",
         "marker": {
          "color": "#B82E2E",
          "pattern": {
           "shape": ""
          }
         },
         "name": "Marine Fuels",
         "offsetgroup": "Marine Fuels",
         "orientation": "v",
         "showlegend": false,
         "textfont": {
          "size": 9
         },
         "textposition": "auto",
         "texttemplate": "%{y:.1f}",
         "type": "bar",
         "x": [
          "CANOE (vanilla)",
          "CANOE (ref)",
          "CEF2023"
         ],
         "xaxis": "x7",
         "y": [
          5.458985561384053,
          5.4589828789344095,
          5.71
         ],
         "yaxis": "y7"
        },
        {
         "alignmentgroup": "True",
         "hovertemplate": "Carrier=Other<br>Period=2021<br>Source=%{x}<br>Demand (PJ)=%{y}<extra></extra>",
         "legendgroup": "Other",
         "marker": {
          "color": "#316395",
          "pattern": {
           "shape": ""
          }
         },
         "name": "Other",
         "offsetgroup": "Other",
         "orientation": "v",
         "showlegend": true,
         "textfont": {
          "size": 9
         },
         "textposition": "auto",
         "texttemplate": "%{y:.1f}",
         "type": "bar",
         "x": [
          "CEF2023"
         ],
         "xaxis": "x",
         "y": [
          6.2623
         ],
         "yaxis": "y"
        },
        {
         "alignmentgroup": "True",
         "hovertemplate": "Carrier=Other<br>Period=2025<br>Source=%{x}<br>Demand (PJ)=%{y}<extra></extra>",
         "legendgroup": "Other",
         "marker": {
          "color": "#316395",
          "pattern": {
           "shape": ""
          }
         },
         "name": "Other",
         "offsetgroup": "Other",
         "orientation": "v",
         "showlegend": false,
         "textfont": {
          "size": 9
         },
         "textposition": "auto",
         "texttemplate": "%{y:.1f}",
         "type": "bar",
         "x": [
          "CEF2023"
         ],
         "xaxis": "x2",
         "y": [
          6.1236
         ],
         "yaxis": "y2"
        },
        {
         "alignmentgroup": "True",
         "hovertemplate": "Carrier=Other<br>Period=2030<br>Source=%{x}<br>Demand (PJ)=%{y}<extra></extra>",
         "legendgroup": "Other",
         "marker": {
          "color": "#316395",
          "pattern": {
           "shape": ""
          }
         },
         "name": "Other",
         "offsetgroup": "Other",
         "orientation": "v",
         "showlegend": false,
         "textfont": {
          "size": 9
         },
         "textposition": "auto",
         "texttemplate": "%{y:.1f}",
         "type": "bar",
         "x": [
          "CEF2023"
         ],
         "xaxis": "x3",
         "y": [
          5.6739
         ],
         "yaxis": "y3"
        },
        {
         "alignmentgroup": "True",
         "hovertemplate": "Carrier=Other<br>Period=2035<br>Source=%{x}<br>Demand (PJ)=%{y}<extra></extra>",
         "legendgroup": "Other",
         "marker": {
          "color": "#316395",
          "pattern": {
           "shape": ""
          }
         },
         "name": "Other",
         "offsetgroup": "Other",
         "orientation": "v",
         "showlegend": false,
         "textfont": {
          "size": 9
         },
         "textposition": "auto",
         "texttemplate": "%{y:.1f}",
         "type": "bar",
         "x": [
          "CEF2023"
         ],
         "xaxis": "x4",
         "y": [
          5.2496
         ],
         "yaxis": "y4"
        },
        {
         "alignmentgroup": "True",
         "hovertemplate": "Carrier=Other<br>Period=2040<br>Source=%{x}<br>Demand (PJ)=%{y}<extra></extra>",
         "legendgroup": "Other",
         "marker": {
          "color": "#316395",
          "pattern": {
           "shape": ""
          }
         },
         "name": "Other",
         "offsetgroup": "Other",
         "orientation": "v",
         "showlegend": false,
         "textfont": {
          "size": 9
         },
         "textposition": "auto",
         "texttemplate": "%{y:.1f}",
         "type": "bar",
         "x": [
          "CEF2023"
         ],
         "xaxis": "x5",
         "y": [
          4.829000000000001
         ],
         "yaxis": "y5"
        },
        {
         "alignmentgroup": "True",
         "hovertemplate": "Carrier=Other<br>Period=2045<br>Source=%{x}<br>Demand (PJ)=%{y}<extra></extra>",
         "legendgroup": "Other",
         "marker": {
          "color": "#316395",
          "pattern": {
           "shape": ""
          }
         },
         "name": "Other",
         "offsetgroup": "Other",
         "orientation": "v",
         "showlegend": false,
         "textfont": {
          "size": 9
         },
         "textposition": "auto",
         "texttemplate": "%{y:.1f}",
         "type": "bar",
         "x": [
          "CEF2023"
         ],
         "xaxis": "x6",
         "y": [
          4.507
         ],
         "yaxis": "y6"
        },
        {
         "alignmentgroup": "True",
         "hovertemplate": "Carrier=Other<br>Period=2050<br>Source=%{x}<br>Demand (PJ)=%{y}<extra></extra>",
         "legendgroup": "Other",
         "marker": {
          "color": "#316395",
          "pattern": {
           "shape": ""
          }
         },
         "name": "Other",
         "offsetgroup": "Other",
         "orientation": "v",
         "showlegend": false,
         "textfont": {
          "size": 9
         },
         "textposition": "auto",
         "texttemplate": "%{y:.1f}",
         "type": "bar",
         "x": [
          "CEF2023"
         ],
         "xaxis": "x7",
         "y": [
          4.318
         ],
         "yaxis": "y7"
        }
       ],
       "layout": {
        "annotations": [
         {
          "font": {},
          "showarrow": false,
          "text": "2021",
          "x": 0.06285714285714285,
          "xanchor": "center",
          "xref": "paper",
          "y": -0.13,
          "yanchor": "top",
          "yref": "paper"
         },
         {
          "font": {},
          "showarrow": false,
          "text": "2025",
          "x": 0.20857142857142852,
          "xanchor": "center",
          "xref": "paper",
          "y": -0.13,
          "yanchor": "top",
          "yref": "paper"
         },
         {
          "font": {},
          "showarrow": false,
          "text": "2030",
          "x": 0.3542857142857142,
          "xanchor": "center",
          "xref": "paper",
          "y": -0.13,
          "yanchor": "top",
          "yref": "paper"
         },
         {
          "font": {},
          "showarrow": false,
          "text": "2035",
          "x": 0.5,
          "xanchor": "center",
          "xref": "paper",
          "y": -0.13,
          "yanchor": "top",
          "yref": "paper"
         },
         {
          "font": {},
          "showarrow": false,
          "text": "2040",
          "x": 0.6457142857142856,
          "xanchor": "center",
          "xref": "paper",
          "y": -0.13,
          "yanchor": "top",
          "yref": "paper"
         },
         {
          "font": {},
          "showarrow": false,
          "text": "2045",
          "x": 0.7914285714285713,
          "xanchor": "center",
          "xref": "paper",
          "y": -0.13,
          "yanchor": "top",
          "yref": "paper"
         },
         {
          "font": {},
          "showarrow": false,
          "text": "2050",
          "x": 0.937142857142857,
          "xanchor": "center",
          "xref": "paper",
          "y": -0.13,
          "yanchor": "top",
          "yref": "paper"
         }
        ],
        "bargap": 0.1,
        "barmode": "stack",
        "font": {
         "size": 16
        },
        "height": 650,
        "legend": {
         "orientation": "h",
         "title": {
          "text": ""
         },
         "tracegroupgap": 0,
         "x": 0.5,
         "xanchor": "center",
         "y": 1.04,
         "yanchor": "top"
        },
        "margin": {
         "t": 60
        },
        "template": {
         "data": {
          "bar": [
           {
            "error_x": {
             "color": "#2a3f5f"
            },
            "error_y": {
             "color": "#2a3f5f"
            },
            "marker": {
             "line": {
              "color": "white",
              "width": 0.5
             },
             "pattern": {
              "fillmode": "overlay",
              "size": 10,
              "solidity": 0.2
             }
            },
            "type": "bar"
           }
          ],
          "barpolar": [
           {
            "marker": {
             "line": {
              "color": "white",
              "width": 0.5
             },
             "pattern": {
              "fillmode": "overlay",
              "size": 10,
              "solidity": 0.2
             }
            },
            "type": "barpolar"
           }
          ],
          "carpet": [
           {
            "aaxis": {
             "endlinecolor": "#2a3f5f",
             "gridcolor": "#C8D4E3",
             "linecolor": "#C8D4E3",
             "minorgridcolor": "#C8D4E3",
             "startlinecolor": "#2a3f5f"
            },
            "baxis": {
             "endlinecolor": "#2a3f5f",
             "gridcolor": "#C8D4E3",
             "linecolor": "#C8D4E3",
             "minorgridcolor": "#C8D4E3",
             "startlinecolor": "#2a3f5f"
            },
            "type": "carpet"
           }
          ],
          "choropleth": [
           {
            "colorbar": {
             "outlinewidth": 0,
             "ticks": ""
            },
            "type": "choropleth"
           }
          ],
          "contour": [
           {
            "colorbar": {
             "outlinewidth": 0,
             "ticks": ""
            },
            "colorscale": [
             [
              0,
              "#0d0887"
             ],
             [
              0.1111111111111111,
              "#46039f"
             ],
             [
              0.2222222222222222,
              "#7201a8"
             ],
             [
              0.3333333333333333,
              "#9c179e"
             ],
             [
              0.4444444444444444,
              "#bd3786"
             ],
             [
              0.5555555555555556,
              "#d8576b"
             ],
             [
              0.6666666666666666,
              "#ed7953"
             ],
             [
              0.7777777777777778,
              "#fb9f3a"
             ],
             [
              0.8888888888888888,
              "#fdca26"
             ],
             [
              1,
              "#f0f921"
             ]
            ],
            "type": "contour"
           }
          ],
          "contourcarpet": [
           {
            "colorbar": {
             "outlinewidth": 0,
             "ticks": ""
            },
            "type": "contourcarpet"
           }
          ],
          "heatmap": [
           {
            "colorbar": {
             "outlinewidth": 0,
             "ticks": ""
            },
            "colorscale": [
             [
              0,
              "#0d0887"
             ],
             [
              0.1111111111111111,
              "#46039f"
             ],
             [
              0.2222222222222222,
              "#7201a8"
             ],
             [
              0.3333333333333333,
              "#9c179e"
             ],
             [
              0.4444444444444444,
              "#bd3786"
             ],
             [
              0.5555555555555556,
              "#d8576b"
             ],
             [
              0.6666666666666666,
              "#ed7953"
             ],
             [
              0.7777777777777778,
              "#fb9f3a"
             ],
             [
              0.8888888888888888,
              "#fdca26"
             ],
             [
              1,
              "#f0f921"
             ]
            ],
            "type": "heatmap"
           }
          ],
          "heatmapgl": [
           {
            "colorbar": {
             "outlinewidth": 0,
             "ticks": ""
            },
            "colorscale": [
             [
              0,
              "#0d0887"
             ],
             [
              0.1111111111111111,
              "#46039f"
             ],
             [
              0.2222222222222222,
              "#7201a8"
             ],
             [
              0.3333333333333333,
              "#9c179e"
             ],
             [
              0.4444444444444444,
              "#bd3786"
             ],
             [
              0.5555555555555556,
              "#d8576b"
             ],
             [
              0.6666666666666666,
              "#ed7953"
             ],
             [
              0.7777777777777778,
              "#fb9f3a"
             ],
             [
              0.8888888888888888,
              "#fdca26"
             ],
             [
              1,
              "#f0f921"
             ]
            ],
            "type": "heatmapgl"
           }
          ],
          "histogram": [
           {
            "marker": {
             "pattern": {
              "fillmode": "overlay",
              "size": 10,
              "solidity": 0.2
             }
            },
            "type": "histogram"
           }
          ],
          "histogram2d": [
           {
            "colorbar": {
             "outlinewidth": 0,
             "ticks": ""
            },
            "colorscale": [
             [
              0,
              "#0d0887"
             ],
             [
              0.1111111111111111,
              "#46039f"
             ],
             [
              0.2222222222222222,
              "#7201a8"
             ],
             [
              0.3333333333333333,
              "#9c179e"
             ],
             [
              0.4444444444444444,
              "#bd3786"
             ],
             [
              0.5555555555555556,
              "#d8576b"
             ],
             [
              0.6666666666666666,
              "#ed7953"
             ],
             [
              0.7777777777777778,
              "#fb9f3a"
             ],
             [
              0.8888888888888888,
              "#fdca26"
             ],
             [
              1,
              "#f0f921"
             ]
            ],
            "type": "histogram2d"
           }
          ],
          "histogram2dcontour": [
           {
            "colorbar": {
             "outlinewidth": 0,
             "ticks": ""
            },
            "colorscale": [
             [
              0,
              "#0d0887"
             ],
             [
              0.1111111111111111,
              "#46039f"
             ],
             [
              0.2222222222222222,
              "#7201a8"
             ],
             [
              0.3333333333333333,
              "#9c179e"
             ],
             [
              0.4444444444444444,
              "#bd3786"
             ],
             [
              0.5555555555555556,
              "#d8576b"
             ],
             [
              0.6666666666666666,
              "#ed7953"
             ],
             [
              0.7777777777777778,
              "#fb9f3a"
             ],
             [
              0.8888888888888888,
              "#fdca26"
             ],
             [
              1,
              "#f0f921"
             ]
            ],
            "type": "histogram2dcontour"
           }
          ],
          "mesh3d": [
           {
            "colorbar": {
             "outlinewidth": 0,
             "ticks": ""
            },
            "type": "mesh3d"
           }
          ],
          "parcoords": [
           {
            "line": {
             "colorbar": {
              "outlinewidth": 0,
              "ticks": ""
             }
            },
            "type": "parcoords"
           }
          ],
          "pie": [
           {
            "automargin": true,
            "type": "pie"
           }
          ],
          "scatter": [
           {
            "fillpattern": {
             "fillmode": "overlay",
             "size": 10,
             "solidity": 0.2
            },
            "type": "scatter"
           }
          ],
          "scatter3d": [
           {
            "line": {
             "colorbar": {
              "outlinewidth": 0,
              "ticks": ""
             }
            },
            "marker": {
             "colorbar": {
              "outlinewidth": 0,
              "ticks": ""
             }
            },
            "type": "scatter3d"
           }
          ],
          "scattercarpet": [
           {
            "marker": {
             "colorbar": {
              "outlinewidth": 0,
              "ticks": ""
             }
            },
            "type": "scattercarpet"
           }
          ],
          "scattergeo": [
           {
            "marker": {
             "colorbar": {
              "outlinewidth": 0,
              "ticks": ""
             }
            },
            "type": "scattergeo"
           }
          ],
          "scattergl": [
           {
            "marker": {
             "colorbar": {
              "outlinewidth": 0,
              "ticks": ""
             }
            },
            "type": "scattergl"
           }
          ],
          "scattermapbox": [
           {
            "marker": {
             "colorbar": {
              "outlinewidth": 0,
              "ticks": ""
             }
            },
            "type": "scattermapbox"
           }
          ],
          "scatterpolar": [
           {
            "marker": {
             "colorbar": {
              "outlinewidth": 0,
              "ticks": ""
             }
            },
            "type": "scatterpolar"
           }
          ],
          "scatterpolargl": [
           {
            "marker": {
             "colorbar": {
              "outlinewidth": 0,
              "ticks": ""
             }
            },
            "type": "scatterpolargl"
           }
          ],
          "scatterternary": [
           {
            "marker": {
             "colorbar": {
              "outlinewidth": 0,
              "ticks": ""
             }
            },
            "type": "scatterternary"
           }
          ],
          "surface": [
           {
            "colorbar": {
             "outlinewidth": 0,
             "ticks": ""
            },
            "colorscale": [
             [
              0,
              "#0d0887"
             ],
             [
              0.1111111111111111,
              "#46039f"
             ],
             [
              0.2222222222222222,
              "#7201a8"
             ],
             [
              0.3333333333333333,
              "#9c179e"
             ],
             [
              0.4444444444444444,
              "#bd3786"
             ],
             [
              0.5555555555555556,
              "#d8576b"
             ],
             [
              0.6666666666666666,
              "#ed7953"
             ],
             [
              0.7777777777777778,
              "#fb9f3a"
             ],
             [
              0.8888888888888888,
              "#fdca26"
             ],
             [
              1,
              "#f0f921"
             ]
            ],
            "type": "surface"
           }
          ],
          "table": [
           {
            "cells": {
             "fill": {
              "color": "#EBF0F8"
             },
             "line": {
              "color": "white"
             }
            },
            "header": {
             "fill": {
              "color": "#C8D4E3"
             },
             "line": {
              "color": "white"
             }
            },
            "type": "table"
           }
          ]
         },
         "layout": {
          "annotationdefaults": {
           "arrowcolor": "#2a3f5f",
           "arrowhead": 0,
           "arrowwidth": 1
          },
          "autotypenumbers": "strict",
          "coloraxis": {
           "colorbar": {
            "outlinewidth": 0,
            "ticks": ""
           }
          },
          "colorscale": {
           "diverging": [
            [
             0,
             "#8e0152"
            ],
            [
             0.1,
             "#c51b7d"
            ],
            [
             0.2,
             "#de77ae"
            ],
            [
             0.3,
             "#f1b6da"
            ],
            [
             0.4,
             "#fde0ef"
            ],
            [
             0.5,
             "#f7f7f7"
            ],
            [
             0.6,
             "#e6f5d0"
            ],
            [
             0.7,
             "#b8e186"
            ],
            [
             0.8,
             "#7fbc41"
            ],
            [
             0.9,
             "#4d9221"
            ],
            [
             1,
             "#276419"
            ]
           ],
           "sequential": [
            [
             0,
             "#0d0887"
            ],
            [
             0.1111111111111111,
             "#46039f"
            ],
            [
             0.2222222222222222,
             "#7201a8"
            ],
            [
             0.3333333333333333,
             "#9c179e"
            ],
            [
             0.4444444444444444,
             "#bd3786"
            ],
            [
             0.5555555555555556,
             "#d8576b"
            ],
            [
             0.6666666666666666,
             "#ed7953"
            ],
            [
             0.7777777777777778,
             "#fb9f3a"
            ],
            [
             0.8888888888888888,
             "#fdca26"
            ],
            [
             1,
             "#f0f921"
            ]
           ],
           "sequentialminus": [
            [
             0,
             "#0d0887"
            ],
            [
             0.1111111111111111,
             "#46039f"
            ],
            [
             0.2222222222222222,
             "#7201a8"
            ],
            [
             0.3333333333333333,
             "#9c179e"
            ],
            [
             0.4444444444444444,
             "#bd3786"
            ],
            [
             0.5555555555555556,
             "#d8576b"
            ],
            [
             0.6666666666666666,
             "#ed7953"
            ],
            [
             0.7777777777777778,
             "#fb9f3a"
            ],
            [
             0.8888888888888888,
             "#fdca26"
            ],
            [
             1,
             "#f0f921"
            ]
           ]
          },
          "colorway": [
           "#636efa",
           "#EF553B",
           "#00cc96",
           "#ab63fa",
           "#FFA15A",
           "#19d3f3",
           "#FF6692",
           "#B6E880",
           "#FF97FF",
           "#FECB52"
          ],
          "font": {
           "color": "#2a3f5f"
          },
          "geo": {
           "bgcolor": "white",
           "lakecolor": "white",
           "landcolor": "white",
           "showlakes": true,
           "showland": true,
           "subunitcolor": "#C8D4E3"
          },
          "hoverlabel": {
           "align": "left"
          },
          "hovermode": "closest",
          "mapbox": {
           "style": "light"
          },
          "paper_bgcolor": "white",
          "plot_bgcolor": "white",
          "polar": {
           "angularaxis": {
            "gridcolor": "#EBF0F8",
            "linecolor": "#EBF0F8",
            "ticks": ""
           },
           "bgcolor": "white",
           "radialaxis": {
            "gridcolor": "#EBF0F8",
            "linecolor": "#EBF0F8",
            "ticks": ""
           }
          },
          "scene": {
           "xaxis": {
            "backgroundcolor": "white",
            "gridcolor": "#DFE8F3",
            "gridwidth": 2,
            "linecolor": "#EBF0F8",
            "showbackground": true,
            "ticks": "",
            "zerolinecolor": "#EBF0F8"
           },
           "yaxis": {
            "backgroundcolor": "white",
            "gridcolor": "#DFE8F3",
            "gridwidth": 2,
            "linecolor": "#EBF0F8",
            "showbackground": true,
            "ticks": "",
            "zerolinecolor": "#EBF0F8"
           },
           "zaxis": {
            "backgroundcolor": "white",
            "gridcolor": "#DFE8F3",
            "gridwidth": 2,
            "linecolor": "#EBF0F8",
            "showbackground": true,
            "ticks": "",
            "zerolinecolor": "#EBF0F8"
           }
          },
          "shapedefaults": {
           "line": {
            "color": "#2a3f5f"
           }
          },
          "ternary": {
           "aaxis": {
            "gridcolor": "#DFE8F3",
            "linecolor": "#A2B1C6",
            "ticks": ""
           },
           "baxis": {
            "gridcolor": "#DFE8F3",
            "linecolor": "#A2B1C6",
            "ticks": ""
           },
           "bgcolor": "white",
           "caxis": {
            "gridcolor": "#DFE8F3",
            "linecolor": "#A2B1C6",
            "ticks": ""
           }
          },
          "title": {
           "x": 0.05
          },
          "xaxis": {
           "automargin": true,
           "gridcolor": "#EBF0F8",
           "linecolor": "#EBF0F8",
           "ticks": "",
           "title": {
            "standoff": 15
           },
           "zerolinecolor": "#EBF0F8",
           "zerolinewidth": 2
          },
          "yaxis": {
           "automargin": true,
           "gridcolor": "#EBF0F8",
           "linecolor": "#EBF0F8",
           "ticks": "",
           "title": {
            "standoff": 15
           },
           "zerolinecolor": "#EBF0F8",
           "zerolinewidth": 2
          }
         }
        },
        "title": {
         "text": "Transportation secondary energy demand in ON by carrier and energy model",
         "x": 0.5,
         "xanchor": "center",
         "y": 0.97,
         "yanchor": "top"
        },
        "width": 1200,
        "xaxis": {
         "anchor": "y",
         "domain": [
          0,
          0.1257142857142857
         ],
         "title": {
          "text": ""
         }
        },
        "xaxis2": {
         "anchor": "y2",
         "domain": [
          0.14571428571428569,
          0.27142857142857135
         ],
         "matches": "x",
         "title": {
          "text": ""
         }
        },
        "xaxis3": {
         "anchor": "y3",
         "domain": [
          0.29142857142857137,
          0.41714285714285704
         ],
         "matches": "x",
         "title": {
          "text": ""
         }
        },
        "xaxis4": {
         "anchor": "y4",
         "domain": [
          0.4371428571428571,
          0.5628571428571428
         ],
         "matches": "x",
         "title": {
          "text": ""
         }
        },
        "xaxis5": {
         "anchor": "y5",
         "domain": [
          0.5828571428571427,
          0.7085714285714284
         ],
         "matches": "x",
         "title": {
          "text": ""
         }
        },
        "xaxis6": {
         "anchor": "y6",
         "domain": [
          0.7285714285714284,
          0.8542857142857141
         ],
         "matches": "x",
         "title": {
          "text": ""
         }
        },
        "xaxis7": {
         "anchor": "y7",
         "domain": [
          0.8742857142857142,
          0.9999999999999999
         ],
         "matches": "x",
         "title": {
          "text": ""
         }
        },
        "yaxis": {
         "anchor": "x",
         "domain": [
          0,
          1
         ],
         "dtick": 100,
         "title": {
          "standoff": 0,
          "text": "Demand (PJ)"
         }
        },
        "yaxis2": {
         "anchor": "x2",
         "domain": [
          0,
          1
         ],
         "dtick": 100,
         "matches": "y",
         "showticklabels": false
        },
        "yaxis3": {
         "anchor": "x3",
         "domain": [
          0,
          1
         ],
         "dtick": 100,
         "matches": "y",
         "showticklabels": false
        },
        "yaxis4": {
         "anchor": "x4",
         "domain": [
          0,
          1
         ],
         "dtick": 100,
         "matches": "y",
         "showticklabels": false
        },
        "yaxis5": {
         "anchor": "x5",
         "domain": [
          0,
          1
         ],
         "dtick": 100,
         "matches": "y",
         "showticklabels": false
        },
        "yaxis6": {
         "anchor": "x6",
         "domain": [
          0,
          1
         ],
         "dtick": 100,
         "matches": "y",
         "showticklabels": false
        },
        "yaxis7": {
         "anchor": "x7",
         "domain": [
          0,
          1
         ],
         "dtick": 100,
         "matches": "y",
         "showticklabels": false
        }
       }
      }
     },
     "metadata": {},
     "output_type": "display_data"
    }
   ],
   "source": [
    "bau23_fig = bau23_demand[(bau23_demand['Sector'] == 'Transportation') & (bau23_demand['Carrier'] != 'Total End-Use')].copy()\n",
    "ref_fig = ref_trnact[(ref_trnact['Mode'] == 'Fuel use') & (ref_trnact['Carrier'] != 'Other')].copy()\n",
    "vanilla_fig = vanilla_trnact[(vanilla_trnact['Mode'] == 'Fuel use') & (vanilla_trnact['Carrier'] != 'Other')].copy()\n",
    "\n",
    "carrier_order = ['Gasoline', 'Diesel', 'Biofuels', 'Electricity', 'H2', 'Natural Gas', 'Aviation Fuel', 'Marine Fuels', 'Other']\n",
    "\n",
    "bau23_fig['Source'] = 'CEF2023'\n",
    "ref_fig['Source'] = 'CANOE (ref)'\n",
    "vanilla_fig['Source'] = 'CANOE (vanilla)'\n",
    "\n",
    "fig_df = pd.concat([vanilla_fig[['Period', 'Demand (PJ)', 'Carrier', 'Source']], ref_fig[['Period', 'Demand (PJ)', 'Carrier', 'Source']], bau23_fig[['Period', 'Demand (PJ)', 'Carrier', 'Source']]])\n",
    "\n",
    "fig_df['Carrier'] = fig_df['Carrier'].apply(carrier_grouping)\n",
    "fig_df = fig_df.groupby(['Period', 'Carrier', 'Source'], as_index=False).sum('Demand (PJ)')\n",
    "\n",
    "fig_df['Carrier'] = pd.Categorical(fig_df['Carrier'], categories=carrier_order, ordered=True)\n",
    "fig_df['Source'] = pd.Categorical(fig_df['Source'], categories=['CANOE (vanilla)', 'CANOE (ref)', 'CEF2023'], ordered=True)\n",
    "fig_df = fig_df.sort_values(['Source', 'Carrier', 'Period'])\n",
    "\n",
    "fig = px.bar(fig_df, \n",
    "             x='Source', \n",
    "             y='Demand (PJ)', \n",
    "             color='Carrier', \n",
    "             barmode='stack', \n",
    "             facet_col='Period',\n",
    "             facet_col_spacing=2E-2,\n",
    "             template='plotly_white',\n",
    "             color_discrete_sequence=px.colors.qualitative.G10[:7] + px.colors.qualitative.G10[8:],\n",
    "             text_auto='.1f',\n",
    "            #  text='Demand (PJ)_sum'\n",
    "             width=1200, height=650,\n",
    "             )\n",
    "\n",
    "fig.update_layout(title=dict(\n",
    "        text='Transportation secondary energy demand in ON by carrier and energy model',\n",
    "        x=0.5, \n",
    "        y=0.97,\n",
    "        xanchor='center',\n",
    "        yanchor='top'\n",
    "    ),\n",
    "    xaxis=dict(title='Period'),\n",
    "    yaxis=dict(title='Demand (PJ)',\n",
    "               dtick=100),\n",
    "    yaxis_title_standoff=0,\n",
    "    legend_title_text='',\n",
    "    bargap=0.1,\n",
    "    legend=dict(\n",
    "        orientation='h',  \n",
    "        yanchor='top',\n",
    "        y=1.04,  \n",
    "        xanchor='center',\n",
    "        x=0.5),\n",
    "    font=dict(\n",
    "        # family=\"Open Sans\",\n",
    "        size=16)\n",
    "    )\n",
    "\n",
    "for annotation in fig.layout.annotations:\n",
    "    annotation.text = annotation.text.split('=')[1]\n",
    "    annotation.y = -0.13  \n",
    "    annotation.yanchor = 'top' \n",
    "\n",
    "for axis in fig.layout:\n",
    "    if axis.startswith('yaxis'):\n",
    "        fig.layout[axis].dtick = 100\n",
    "\n",
    "for axis in fig.layout:\n",
    "    if axis.startswith('xaxis'):\n",
    "        fig.layout[axis].title.text = ''\n",
    "\n",
    "fig.for_each_trace(lambda trace: trace.update(textfont=dict(size=9)))\n",
    "\n",
    "fig.show()"
   ]
  },
  {
   "cell_type": "markdown",
   "metadata": {},
   "source": [
    "# CANOE vs CEF2023 vs gTech-IESD - transportation secondary energy demand"
   ]
  },
  {
   "cell_type": "code",
   "execution_count": 69,
   "metadata": {},
   "outputs": [],
   "source": [
    "gtech23_ref_demand['Sector'].replace({'agriculture & waste': 'AFOLU', 'commercial buildings': 'Commercial', 'residential buildings': 'Residential', 'land use & forestry': 'AFOLU',\n",
    "                                      'industry': 'Industrial', 'oil and gas': 'Oil & Gas', 'direct air capture': 'Industrial', 'utilities': 'Utilities',\n",
    "                                      'light-duty transport': 'Transportation', 'medium & heavy-duty transport': 'Transportation', 'other transport': 'Transportation'}, inplace=True)\n",
    "gtech23_ref_demand = gtech23_ref_demand.groupby(['Period', 'Sector'], as_index=False).sum()[['Period', 'Sector', 'Demand (PJ)']]"
   ]
  },
  {
   "cell_type": "code",
   "execution_count": 70,
   "metadata": {},
   "outputs": [
    {
     "data": {
      "application/vnd.plotly.v1+json": {
       "config": {
        "plotlyServerURL": "https://plot.ly"
       },
       "data": [
        {
         "hovertemplate": "Source=CANOE (vanilla)<br>Period=%{x}<br>Demand (PJ)=%{y}<extra></extra>",
         "legendgroup": "CANOE (vanilla)",
         "line": {
          "color": "red",
          "dash": "dash"
         },
         "marker": {
          "symbol": "circle"
         },
         "mode": "lines",
         "name": "CANOE (vanilla)",
         "orientation": "v",
         "showlegend": true,
         "type": "scatter",
         "x": [
          "2021",
          "2025",
          "2030",
          "2035",
          "2040",
          "2045",
          "2050"
         ],
         "xaxis": "x",
         "y": [
          930.1891332978691,
          1068.7311083371171,
          983.4719333526834,
          869.7134652396884,
          931.714644727369,
          945.730070351387,
          958.1168767876608
         ],
         "yaxis": "y"
        },
        {
         "hovertemplate": "Source=CANOE (ref)<br>Period=%{x}<br>Demand (PJ)=%{y}<extra></extra>",
         "legendgroup": "CANOE (ref)",
         "line": {
          "color": "red",
          "dash": "solid"
         },
         "marker": {
          "symbol": "circle"
         },
         "mode": "lines",
         "name": "CANOE (ref)",
         "orientation": "v",
         "showlegend": true,
         "type": "scatter",
         "x": [
          "2021",
          "2025",
          "2030",
          "2035",
          "2040",
          "2045",
          "2050"
         ],
         "xaxis": "x",
         "y": [
          926.5188759137587,
          1020.0976862229173,
          847.189377073931,
          600.1925676610409,
          551.4432776289879,
          562.117132347259,
          556.9057479723052
         ],
         "yaxis": "y"
        },
        {
         "hovertemplate": "Source=CEF 2023 (ref)<br>Period=%{x}<br>Demand (PJ)=%{y}<extra></extra>",
         "legendgroup": "CEF 2023 (ref)",
         "line": {
          "color": "#00cc96",
          "dash": "solid"
         },
         "marker": {
          "symbol": "circle"
         },
         "mode": "lines",
         "name": "CEF 2023 (ref)",
         "orientation": "v",
         "showlegend": true,
         "type": "scatter",
         "x": [
          "2021",
          "2025",
          "2030",
          "2035",
          "2040",
          "2045",
          "2050"
         ],
         "xaxis": "x",
         "y": [
          773.6423,
          882.0304,
          891.9928,
          885.9677,
          878.3486,
          878.1762,
          893.9057
         ],
         "yaxis": "y"
        },
        {
         "hovertemplate": "Source=gTech-IESD (ref)<br>Period=%{x}<br>Demand (PJ)=%{y}<extra></extra>",
         "legendgroup": "gTech-IESD (ref)",
         "line": {
          "color": "#ab63fa",
          "dash": "solid"
         },
         "marker": {
          "symbol": "circle"
         },
         "mode": "lines",
         "name": "gTech-IESD (ref)",
         "orientation": "v",
         "showlegend": true,
         "type": "scatter",
         "x": [
          2021,
          2025,
          2030,
          2035,
          2040,
          2045,
          2050
         ],
         "xaxis": "x",
         "y": [
          944.9145178639999,
          988.611015,
          966.8769606999999,
          924.4334725,
          900.0283629,
          907.3242778,
          947.2453959
         ],
         "yaxis": "y"
        }
       ],
       "layout": {
        "bargap": 0.1,
        "font": {
         "size": 16
        },
        "height": 500,
        "legend": {
         "orientation": "h",
         "title": {
          "text": ""
         },
         "tracegroupgap": 0,
         "x": 0.5,
         "xanchor": "center",
         "y": -0.16,
         "yanchor": "bottom"
        },
        "margin": {
         "t": 60
        },
        "template": {
         "data": {
          "bar": [
           {
            "error_x": {
             "color": "#2a3f5f"
            },
            "error_y": {
             "color": "#2a3f5f"
            },
            "marker": {
             "line": {
              "color": "white",
              "width": 0.5
             },
             "pattern": {
              "fillmode": "overlay",
              "size": 10,
              "solidity": 0.2
             }
            },
            "type": "bar"
           }
          ],
          "barpolar": [
           {
            "marker": {
             "line": {
              "color": "white",
              "width": 0.5
             },
             "pattern": {
              "fillmode": "overlay",
              "size": 10,
              "solidity": 0.2
             }
            },
            "type": "barpolar"
           }
          ],
          "carpet": [
           {
            "aaxis": {
             "endlinecolor": "#2a3f5f",
             "gridcolor": "#C8D4E3",
             "linecolor": "#C8D4E3",
             "minorgridcolor": "#C8D4E3",
             "startlinecolor": "#2a3f5f"
            },
            "baxis": {
             "endlinecolor": "#2a3f5f",
             "gridcolor": "#C8D4E3",
             "linecolor": "#C8D4E3",
             "minorgridcolor": "#C8D4E3",
             "startlinecolor": "#2a3f5f"
            },
            "type": "carpet"
           }
          ],
          "choropleth": [
           {
            "colorbar": {
             "outlinewidth": 0,
             "ticks": ""
            },
            "type": "choropleth"
           }
          ],
          "contour": [
           {
            "colorbar": {
             "outlinewidth": 0,
             "ticks": ""
            },
            "colorscale": [
             [
              0,
              "#0d0887"
             ],
             [
              0.1111111111111111,
              "#46039f"
             ],
             [
              0.2222222222222222,
              "#7201a8"
             ],
             [
              0.3333333333333333,
              "#9c179e"
             ],
             [
              0.4444444444444444,
              "#bd3786"
             ],
             [
              0.5555555555555556,
              "#d8576b"
             ],
             [
              0.6666666666666666,
              "#ed7953"
             ],
             [
              0.7777777777777778,
              "#fb9f3a"
             ],
             [
              0.8888888888888888,
              "#fdca26"
             ],
             [
              1,
              "#f0f921"
             ]
            ],
            "type": "contour"
           }
          ],
          "contourcarpet": [
           {
            "colorbar": {
             "outlinewidth": 0,
             "ticks": ""
            },
            "type": "contourcarpet"
           }
          ],
          "heatmap": [
           {
            "colorbar": {
             "outlinewidth": 0,
             "ticks": ""
            },
            "colorscale": [
             [
              0,
              "#0d0887"
             ],
             [
              0.1111111111111111,
              "#46039f"
             ],
             [
              0.2222222222222222,
              "#7201a8"
             ],
             [
              0.3333333333333333,
              "#9c179e"
             ],
             [
              0.4444444444444444,
              "#bd3786"
             ],
             [
              0.5555555555555556,
              "#d8576b"
             ],
             [
              0.6666666666666666,
              "#ed7953"
             ],
             [
              0.7777777777777778,
              "#fb9f3a"
             ],
             [
              0.8888888888888888,
              "#fdca26"
             ],
             [
              1,
              "#f0f921"
             ]
            ],
            "type": "heatmap"
           }
          ],
          "heatmapgl": [
           {
            "colorbar": {
             "outlinewidth": 0,
             "ticks": ""
            },
            "colorscale": [
             [
              0,
              "#0d0887"
             ],
             [
              0.1111111111111111,
              "#46039f"
             ],
             [
              0.2222222222222222,
              "#7201a8"
             ],
             [
              0.3333333333333333,
              "#9c179e"
             ],
             [
              0.4444444444444444,
              "#bd3786"
             ],
             [
              0.5555555555555556,
              "#d8576b"
             ],
             [
              0.6666666666666666,
              "#ed7953"
             ],
             [
              0.7777777777777778,
              "#fb9f3a"
             ],
             [
              0.8888888888888888,
              "#fdca26"
             ],
             [
              1,
              "#f0f921"
             ]
            ],
            "type": "heatmapgl"
           }
          ],
          "histogram": [
           {
            "marker": {
             "pattern": {
              "fillmode": "overlay",
              "size": 10,
              "solidity": 0.2
             }
            },
            "type": "histogram"
           }
          ],
          "histogram2d": [
           {
            "colorbar": {
             "outlinewidth": 0,
             "ticks": ""
            },
            "colorscale": [
             [
              0,
              "#0d0887"
             ],
             [
              0.1111111111111111,
              "#46039f"
             ],
             [
              0.2222222222222222,
              "#7201a8"
             ],
             [
              0.3333333333333333,
              "#9c179e"
             ],
             [
              0.4444444444444444,
              "#bd3786"
             ],
             [
              0.5555555555555556,
              "#d8576b"
             ],
             [
              0.6666666666666666,
              "#ed7953"
             ],
             [
              0.7777777777777778,
              "#fb9f3a"
             ],
             [
              0.8888888888888888,
              "#fdca26"
             ],
             [
              1,
              "#f0f921"
             ]
            ],
            "type": "histogram2d"
           }
          ],
          "histogram2dcontour": [
           {
            "colorbar": {
             "outlinewidth": 0,
             "ticks": ""
            },
            "colorscale": [
             [
              0,
              "#0d0887"
             ],
             [
              0.1111111111111111,
              "#46039f"
             ],
             [
              0.2222222222222222,
              "#7201a8"
             ],
             [
              0.3333333333333333,
              "#9c179e"
             ],
             [
              0.4444444444444444,
              "#bd3786"
             ],
             [
              0.5555555555555556,
              "#d8576b"
             ],
             [
              0.6666666666666666,
              "#ed7953"
             ],
             [
              0.7777777777777778,
              "#fb9f3a"
             ],
             [
              0.8888888888888888,
              "#fdca26"
             ],
             [
              1,
              "#f0f921"
             ]
            ],
            "type": "histogram2dcontour"
           }
          ],
          "mesh3d": [
           {
            "colorbar": {
             "outlinewidth": 0,
             "ticks": ""
            },
            "type": "mesh3d"
           }
          ],
          "parcoords": [
           {
            "line": {
             "colorbar": {
              "outlinewidth": 0,
              "ticks": ""
             }
            },
            "type": "parcoords"
           }
          ],
          "pie": [
           {
            "automargin": true,
            "type": "pie"
           }
          ],
          "scatter": [
           {
            "fillpattern": {
             "fillmode": "overlay",
             "size": 10,
             "solidity": 0.2
            },
            "type": "scatter"
           }
          ],
          "scatter3d": [
           {
            "line": {
             "colorbar": {
              "outlinewidth": 0,
              "ticks": ""
             }
            },
            "marker": {
             "colorbar": {
              "outlinewidth": 0,
              "ticks": ""
             }
            },
            "type": "scatter3d"
           }
          ],
          "scattercarpet": [
           {
            "marker": {
             "colorbar": {
              "outlinewidth": 0,
              "ticks": ""
             }
            },
            "type": "scattercarpet"
           }
          ],
          "scattergeo": [
           {
            "marker": {
             "colorbar": {
              "outlinewidth": 0,
              "ticks": ""
             }
            },
            "type": "scattergeo"
           }
          ],
          "scattergl": [
           {
            "marker": {
             "colorbar": {
              "outlinewidth": 0,
              "ticks": ""
             }
            },
            "type": "scattergl"
           }
          ],
          "scattermapbox": [
           {
            "marker": {
             "colorbar": {
              "outlinewidth": 0,
              "ticks": ""
             }
            },
            "type": "scattermapbox"
           }
          ],
          "scatterpolar": [
           {
            "marker": {
             "colorbar": {
              "outlinewidth": 0,
              "ticks": ""
             }
            },
            "type": "scatterpolar"
           }
          ],
          "scatterpolargl": [
           {
            "marker": {
             "colorbar": {
              "outlinewidth": 0,
              "ticks": ""
             }
            },
            "type": "scatterpolargl"
           }
          ],
          "scatterternary": [
           {
            "marker": {
             "colorbar": {
              "outlinewidth": 0,
              "ticks": ""
             }
            },
            "type": "scatterternary"
           }
          ],
          "surface": [
           {
            "colorbar": {
             "outlinewidth": 0,
             "ticks": ""
            },
            "colorscale": [
             [
              0,
              "#0d0887"
             ],
             [
              0.1111111111111111,
              "#46039f"
             ],
             [
              0.2222222222222222,
              "#7201a8"
             ],
             [
              0.3333333333333333,
              "#9c179e"
             ],
             [
              0.4444444444444444,
              "#bd3786"
             ],
             [
              0.5555555555555556,
              "#d8576b"
             ],
             [
              0.6666666666666666,
              "#ed7953"
             ],
             [
              0.7777777777777778,
              "#fb9f3a"
             ],
             [
              0.8888888888888888,
              "#fdca26"
             ],
             [
              1,
              "#f0f921"
             ]
            ],
            "type": "surface"
           }
          ],
          "table": [
           {
            "cells": {
             "fill": {
              "color": "#EBF0F8"
             },
             "line": {
              "color": "white"
             }
            },
            "header": {
             "fill": {
              "color": "#C8D4E3"
             },
             "line": {
              "color": "white"
             }
            },
            "type": "table"
           }
          ]
         },
         "layout": {
          "annotationdefaults": {
           "arrowcolor": "#2a3f5f",
           "arrowhead": 0,
           "arrowwidth": 1
          },
          "autotypenumbers": "strict",
          "coloraxis": {
           "colorbar": {
            "outlinewidth": 0,
            "ticks": ""
           }
          },
          "colorscale": {
           "diverging": [
            [
             0,
             "#8e0152"
            ],
            [
             0.1,
             "#c51b7d"
            ],
            [
             0.2,
             "#de77ae"
            ],
            [
             0.3,
             "#f1b6da"
            ],
            [
             0.4,
             "#fde0ef"
            ],
            [
             0.5,
             "#f7f7f7"
            ],
            [
             0.6,
             "#e6f5d0"
            ],
            [
             0.7,
             "#b8e186"
            ],
            [
             0.8,
             "#7fbc41"
            ],
            [
             0.9,
             "#4d9221"
            ],
            [
             1,
             "#276419"
            ]
           ],
           "sequential": [
            [
             0,
             "#0d0887"
            ],
            [
             0.1111111111111111,
             "#46039f"
            ],
            [
             0.2222222222222222,
             "#7201a8"
            ],
            [
             0.3333333333333333,
             "#9c179e"
            ],
            [
             0.4444444444444444,
             "#bd3786"
            ],
            [
             0.5555555555555556,
             "#d8576b"
            ],
            [
             0.6666666666666666,
             "#ed7953"
            ],
            [
             0.7777777777777778,
             "#fb9f3a"
            ],
            [
             0.8888888888888888,
             "#fdca26"
            ],
            [
             1,
             "#f0f921"
            ]
           ],
           "sequentialminus": [
            [
             0,
             "#0d0887"
            ],
            [
             0.1111111111111111,
             "#46039f"
            ],
            [
             0.2222222222222222,
             "#7201a8"
            ],
            [
             0.3333333333333333,
             "#9c179e"
            ],
            [
             0.4444444444444444,
             "#bd3786"
            ],
            [
             0.5555555555555556,
             "#d8576b"
            ],
            [
             0.6666666666666666,
             "#ed7953"
            ],
            [
             0.7777777777777778,
             "#fb9f3a"
            ],
            [
             0.8888888888888888,
             "#fdca26"
            ],
            [
             1,
             "#f0f921"
            ]
           ]
          },
          "colorway": [
           "#636efa",
           "#EF553B",
           "#00cc96",
           "#ab63fa",
           "#FFA15A",
           "#19d3f3",
           "#FF6692",
           "#B6E880",
           "#FF97FF",
           "#FECB52"
          ],
          "font": {
           "color": "#2a3f5f"
          },
          "geo": {
           "bgcolor": "white",
           "lakecolor": "white",
           "landcolor": "white",
           "showlakes": true,
           "showland": true,
           "subunitcolor": "#C8D4E3"
          },
          "hoverlabel": {
           "align": "left"
          },
          "hovermode": "closest",
          "mapbox": {
           "style": "light"
          },
          "paper_bgcolor": "white",
          "plot_bgcolor": "white",
          "polar": {
           "angularaxis": {
            "gridcolor": "#EBF0F8",
            "linecolor": "#EBF0F8",
            "ticks": ""
           },
           "bgcolor": "white",
           "radialaxis": {
            "gridcolor": "#EBF0F8",
            "linecolor": "#EBF0F8",
            "ticks": ""
           }
          },
          "scene": {
           "xaxis": {
            "backgroundcolor": "white",
            "gridcolor": "#DFE8F3",
            "gridwidth": 2,
            "linecolor": "#EBF0F8",
            "showbackground": true,
            "ticks": "",
            "zerolinecolor": "#EBF0F8"
           },
           "yaxis": {
            "backgroundcolor": "white",
            "gridcolor": "#DFE8F3",
            "gridwidth": 2,
            "linecolor": "#EBF0F8",
            "showbackground": true,
            "ticks": "",
            "zerolinecolor": "#EBF0F8"
           },
           "zaxis": {
            "backgroundcolor": "white",
            "gridcolor": "#DFE8F3",
            "gridwidth": 2,
            "linecolor": "#EBF0F8",
            "showbackground": true,
            "ticks": "",
            "zerolinecolor": "#EBF0F8"
           }
          },
          "shapedefaults": {
           "line": {
            "color": "#2a3f5f"
           }
          },
          "ternary": {
           "aaxis": {
            "gridcolor": "#DFE8F3",
            "linecolor": "#A2B1C6",
            "ticks": ""
           },
           "baxis": {
            "gridcolor": "#DFE8F3",
            "linecolor": "#A2B1C6",
            "ticks": ""
           },
           "bgcolor": "white",
           "caxis": {
            "gridcolor": "#DFE8F3",
            "linecolor": "#A2B1C6",
            "ticks": ""
           }
          },
          "title": {
           "x": 0.05
          },
          "xaxis": {
           "automargin": true,
           "gridcolor": "#EBF0F8",
           "linecolor": "#EBF0F8",
           "ticks": "",
           "title": {
            "standoff": 15
           },
           "zerolinecolor": "#EBF0F8",
           "zerolinewidth": 2
          },
          "yaxis": {
           "automargin": true,
           "gridcolor": "#EBF0F8",
           "linecolor": "#EBF0F8",
           "ticks": "",
           "title": {
            "standoff": 15
           },
           "zerolinecolor": "#EBF0F8",
           "zerolinewidth": 2
          }
         }
        },
        "title": {
         "text": "Transportation total secondary energy demand in ON by energy model",
         "x": 0.5,
         "xanchor": "center",
         "y": 0.95,
         "yanchor": "top"
        },
        "width": 900,
        "xaxis": {
         "anchor": "y",
         "domain": [
          0,
          1
         ],
         "title": {
          "text": ""
         }
        },
        "yaxis": {
         "anchor": "x",
         "domain": [
          0,
          1
         ],
         "title": {
          "standoff": 0,
          "text": "Demand (PJ)"
         }
        }
       }
      }
     },
     "metadata": {},
     "output_type": "display_data"
    }
   ],
   "source": [
    "bau23_fig = bau23_demand[(bau23_demand['Sector'] == 'Transportation') & (bau23_demand['Carrier'] == 'Total End-Use')].copy()\n",
    "ref_fig = ref_trnact[(ref_trnact['Mode'] == 'Fuel use') & (ref_trnact['Carrier'] != 'Other')].groupby('Period', as_index=False).sum('Demand (PJ)')\n",
    "vanilla_fig = vanilla_trnact[(vanilla_trnact['Mode'] == 'Fuel use') & (vanilla_trnact['Carrier'] != 'Other')].groupby('Period', as_index=False).sum('Demand (PJ)')\n",
    "gtech_fig = gtech23_ref_demand[gtech23_ref_demand['Sector'] == 'Transportation'].copy()\n",
    "\n",
    "bau23_fig['Source'] = 'CEF 2023 (ref)'\n",
    "ref_fig['Source'] = 'CANOE (ref)'\n",
    "vanilla_fig['Source'] = 'CANOE (vanilla)'\n",
    "gtech_fig['Source'] = 'gTech-IESD (ref)'\n",
    "\n",
    "fig_df = pd.concat([vanilla_fig[['Period', 'Demand (PJ)', 'Source']], ref_fig[['Period', 'Demand (PJ)', 'Source']], bau23_fig[['Period', 'Demand (PJ)', 'Source']], gtech_fig[['Period', 'Demand (PJ)', 'Source']]]).reset_index(drop=True)\n",
    "\n",
    "fig = px.line(fig_df, x='Period', y='Demand (PJ)', color='Source',\n",
    "              template='plotly_white',\n",
    "              width=900, height=500\n",
    "              )\n",
    "\n",
    "fig.update_traces(\n",
    "    line=dict(color=\"red\", dash='solid'),  # Change 'Source' to your specific source name\n",
    "    selector=dict(name='CANOE (ref)')  # Replace 'Source A' with the actual name\n",
    ")\n",
    "fig.update_traces(\n",
    "    line=dict(color=\"red\", dash='dash'),  # Change 'Source' to your specific source name\n",
    "    selector=dict(name='CANOE (vanilla)')  # Replace 'Source A' with the actual name\n",
    ")\n",
    "\n",
    "fig.update_layout(\n",
    "    title=dict(text='Transportation total secondary energy demand in ON by energy model',\n",
    "               x=0.5,\n",
    "               y=0.95,\n",
    "               xanchor='center',\n",
    "               yanchor='top'\n",
    "               ),\n",
    "    xaxis=dict(title='Period'),\n",
    "    yaxis=dict(title='Demand (PJ)'),\n",
    "    yaxis_title_standoff=0,\n",
    "    legend_title_text='',\n",
    "    bargap=0.1,\n",
    "    legend=dict(orientation='h',\n",
    "                yanchor='bottom',\n",
    "                y=-0.16,\n",
    "                xanchor='center',\n",
    "                x=0.5),\n",
    "    font=dict(size=16,\n",
    "              # family=\"Open Sans\"\n",
    "              ))\n",
    "\n",
    "for annotation in fig.layout.annotations:\n",
    "    annotation.text = annotation.text.split('=')[1]\n",
    "    annotation.y = -0.05  \n",
    "    annotation.yanchor = 'top' \n",
    "\n",
    "for axis in fig.layout:\n",
    "    if axis.startswith('xaxis'):\n",
    "        fig.layout[axis].title.text = ''\n",
    "\n",
    "fig.show()"
   ]
  },
  {
   "cell_type": "markdown",
   "metadata": {},
   "source": [
    "# CANOE - transportation vehicle capacity"
   ]
  },
  {
   "cell_type": "code",
   "execution_count": 71,
   "metadata": {},
   "outputs": [],
   "source": [
    "ref_trncap.columns = ref_trncap.columns.astype(str)\n",
    "periods = [col for col in ref_trncap.columns if col.isdigit()]\n",
    "params = [col for col in ref_trncap.columns if not col.isdigit()]\n",
    "ref_trncap = pd.melt(ref_trncap, id_vars=params, var_name='Period', value_name='Capacity (M units)', value_vars=periods)\n",
    "ref_trncap['Capacity (M units)'] = ref_trncap['Capacity (M units)']/1E3"
   ]
  },
  {
   "cell_type": "code",
   "execution_count": 72,
   "metadata": {},
   "outputs": [],
   "source": [
    "def veh_class_mapping(veh_class):\n",
    "    if veh_class == 'Air jet':\n",
    "        return 'Other'\n",
    "    if veh_class == 'Rail':\n",
    "        return 'Other'\n",
    "    if veh_class == 'Marine vessel':\n",
    "        return 'Other'\n",
    "    if veh_class == 'Motorcycle':\n",
    "        return 'Other'\n",
    "    if veh_class == 'Fuel use':\n",
    "        return 'Other'\n",
    "    else: return veh_class\n",
    "    \n",
    "ref_trncap['Vehicle Class'] = ref_trncap['Mode'].apply(veh_class_mapping)\n",
    "\n",
    "drivetrain_order = ['Gasoline', 'Diesel', 'CNG', 'HEV', 'PHEV', 'BEV', 'FCEV']"
   ]
  },
  {
   "cell_type": "code",
   "execution_count": 73,
   "metadata": {},
   "outputs": [
    {
     "data": {
      "application/vnd.plotly.v1+json": {
       "config": {
        "plotlyServerURL": "https://plot.ly"
       },
       "data": [
        {
         "alignmentgroup": "True",
         "hovertemplate": "Carrier=Gasoline<br>Period=2021<br>Vehicle Class=%{x}<br>Capacity (M units)=%{y}<extra></extra>",
         "legendgroup": "Gasoline",
         "marker": {
          "color": "#3366CC",
          "pattern": {
           "shape": ""
          }
         },
         "name": "Gasoline",
         "offsetgroup": "Gasoline",
         "orientation": "v",
         "showlegend": true,
         "textfont": {
          "size": 9
         },
         "textposition": "auto",
         "texttemplate": "%{y:.2f}",
         "type": "bar",
         "x": [
          "LD Car",
          "LD Truck"
         ],
         "xaxis": "x",
         "y": [
          4.642429089733209,
          4.67702412658211
         ],
         "yaxis": "y"
        },
        {
         "alignmentgroup": "True",
         "hovertemplate": "Carrier=Gasoline<br>Period=2025<br>Vehicle Class=%{x}<br>Capacity (M units)=%{y}<extra></extra>",
         "legendgroup": "Gasoline",
         "marker": {
          "color": "#3366CC",
          "pattern": {
           "shape": ""
          }
         },
         "name": "Gasoline",
         "offsetgroup": "Gasoline",
         "orientation": "v",
         "showlegend": false,
         "textfont": {
          "size": 9
         },
         "textposition": "auto",
         "texttemplate": "%{y:.2f}",
         "type": "bar",
         "x": [
          "LD Car",
          "LD Truck"
         ],
         "xaxis": "x2",
         "y": [
          3.4182986641500492,
          4.685454296041792
         ],
         "yaxis": "y2"
        },
        {
         "alignmentgroup": "True",
         "hovertemplate": "Carrier=Gasoline<br>Period=2030<br>Vehicle Class=%{x}<br>Capacity (M units)=%{y}<extra></extra>",
         "legendgroup": "Gasoline",
         "marker": {
          "color": "#3366CC",
          "pattern": {
           "shape": ""
          }
         },
         "name": "Gasoline",
         "offsetgroup": "Gasoline",
         "orientation": "v",
         "showlegend": false,
         "textfont": {
          "size": 9
         },
         "textposition": "auto",
         "texttemplate": "%{y:.2f}",
         "type": "bar",
         "x": [
          "LD Car",
          "LD Truck"
         ],
         "xaxis": "x3",
         "y": [
          1.8283794087261396,
          3.8043198742778523
         ],
         "yaxis": "y3"
        },
        {
         "alignmentgroup": "True",
         "hovertemplate": "Carrier=Gasoline<br>Period=2035<br>Vehicle Class=%{x}<br>Capacity (M units)=%{y}<extra></extra>",
         "legendgroup": "Gasoline",
         "marker": {
          "color": "#3366CC",
          "pattern": {
           "shape": ""
          }
         },
         "name": "Gasoline",
         "offsetgroup": "Gasoline",
         "orientation": "v",
         "showlegend": false,
         "textfont": {
          "size": 9
         },
         "textposition": "auto",
         "texttemplate": "%{y:.2f}",
         "type": "bar",
         "x": [
          "LD Car",
          "LD Truck"
         ],
         "xaxis": "x4",
         "y": [
          0.02066563899292969,
          2.5056386942778524
         ],
         "yaxis": "y4"
        },
        {
         "alignmentgroup": "True",
         "hovertemplate": "Carrier=Gasoline<br>Period=2040<br>Vehicle Class=%{x}<br>Capacity (M units)=%{y}<extra></extra>",
         "legendgroup": "Gasoline",
         "marker": {
          "color": "#3366CC",
          "pattern": {
           "shape": ""
          }
         },
         "name": "Gasoline",
         "offsetgroup": "Gasoline",
         "orientation": "v",
         "showlegend": false,
         "textfont": {
          "size": 9
         },
         "textposition": "auto",
         "texttemplate": "%{y:.2f}",
         "type": "bar",
         "x": [
          "LD Car",
          "LD Truck"
         ],
         "xaxis": "x5",
         "y": [
          0.010976354576090041,
          0.017783177695742385
         ],
         "yaxis": "y5"
        },
        {
         "alignmentgroup": "True",
         "hovertemplate": "Carrier=Gasoline<br>Period=2045<br>Vehicle Class=%{x}<br>Capacity (M units)=%{y}<extra></extra>",
         "legendgroup": "Gasoline",
         "marker": {
          "color": "#3366CC",
          "pattern": {
           "shape": ""
          }
         },
         "name": "Gasoline",
         "offsetgroup": "Gasoline",
         "orientation": "v",
         "showlegend": false,
         "textfont": {
          "size": 9
         },
         "textposition": "auto",
         "texttemplate": "%{y:.2f}",
         "type": "bar",
         "x": [
          "LD Car",
          "LD Truck"
         ],
         "xaxis": "x6",
         "y": [
          0,
          0.009353008236060922
         ],
         "yaxis": "y6"
        },
        {
         "alignmentgroup": "True",
         "hovertemplate": "Carrier=Gasoline<br>Period=2050<br>Vehicle Class=%{x}<br>Capacity (M units)=%{y}<extra></extra>",
         "legendgroup": "Gasoline",
         "marker": {
          "color": "#3366CC",
          "pattern": {
           "shape": ""
          }
         },
         "name": "Gasoline",
         "offsetgroup": "Gasoline",
         "orientation": "v",
         "showlegend": false,
         "textfont": {
          "size": 9
         },
         "textposition": "auto",
         "texttemplate": "%{y:.2f}",
         "type": "bar",
         "x": [
          "LD Car",
          "LD Truck"
         ],
         "xaxis": "x7",
         "y": [
          0,
          0
         ],
         "yaxis": "y7"
        },
        {
         "alignmentgroup": "True",
         "hovertemplate": "Carrier=Diesel<br>Period=2021<br>Vehicle Class=%{x}<br>Capacity (M units)=%{y}<extra></extra>",
         "legendgroup": "Diesel",
         "marker": {
          "color": "#DC3912",
          "pattern": {
           "shape": ""
          }
         },
         "name": "Diesel",
         "offsetgroup": "Diesel",
         "orientation": "v",
         "showlegend": true,
         "textfont": {
          "size": 9
         },
         "textposition": "auto",
         "texttemplate": "%{y:.2f}",
         "type": "bar",
         "x": [
          "LD Car",
          "LD Truck"
         ],
         "xaxis": "x",
         "y": [
          0.10403001,
          0.23286081779665624
         ],
         "yaxis": "y"
        },
        {
         "alignmentgroup": "True",
         "hovertemplate": "Carrier=Diesel<br>Period=2025<br>Vehicle Class=%{x}<br>Capacity (M units)=%{y}<extra></extra>",
         "legendgroup": "Diesel",
         "marker": {
          "color": "#DC3912",
          "pattern": {
           "shape": ""
          }
         },
         "name": "Diesel",
         "offsetgroup": "Diesel",
         "orientation": "v",
         "showlegend": false,
         "textfont": {
          "size": 9
         },
         "textposition": "auto",
         "texttemplate": "%{y:.2f}",
         "type": "bar",
         "x": [
          "LD Car",
          "LD Truck"
         ],
         "xaxis": "x2",
         "y": [
          0.05093178408655421,
          0.4729766496736058
         ],
         "yaxis": "y2"
        },
        {
         "alignmentgroup": "True",
         "hovertemplate": "Carrier=Diesel<br>Period=2030<br>Vehicle Class=%{x}<br>Capacity (M units)=%{y}<extra></extra>",
         "legendgroup": "Diesel",
         "marker": {
          "color": "#DC3912",
          "pattern": {
           "shape": ""
          }
         },
         "name": "Diesel",
         "offsetgroup": "Diesel",
         "orientation": "v",
         "showlegend": false,
         "textfont": {
          "size": 9
         },
         "textposition": "auto",
         "texttemplate": "%{y:.2f}",
         "type": "bar",
         "x": [
          "LD Car",
          "LD Truck"
         ],
         "xaxis": "x3",
         "y": [
          0.003280649974210866,
          0.464294820040369
         ],
         "yaxis": "y3"
        },
        {
         "alignmentgroup": "True",
         "hovertemplate": "Carrier=Diesel<br>Period=2035<br>Vehicle Class=%{x}<br>Capacity (M units)=%{y}<extra></extra>",
         "legendgroup": "Diesel",
         "marker": {
          "color": "#DC3912",
          "pattern": {
           "shape": ""
          }
         },
         "name": "Diesel",
         "offsetgroup": "Diesel",
         "orientation": "v",
         "showlegend": false,
         "textfont": {
          "size": 9
         },
         "textposition": "auto",
         "texttemplate": "%{y:.2f}",
         "type": "bar",
         "x": [
          "LD Car",
          "LD Truck"
         ],
         "xaxis": "x4",
         "y": [
          0.000004409974210865822,
          0.400838010040369
         ],
         "yaxis": "y4"
        },
        {
         "alignmentgroup": "True",
         "hovertemplate": "Carrier=Diesel<br>Period=2040<br>Vehicle Class=%{x}<br>Capacity (M units)=%{y}<extra></extra>",
         "legendgroup": "Diesel",
         "marker": {
          "color": "#DC3912",
          "pattern": {
           "shape": ""
          }
         },
         "name": "Diesel",
         "offsetgroup": "Diesel",
         "orientation": "v",
         "showlegend": false,
         "textfont": {
          "size": 9
         },
         "textposition": "auto",
         "texttemplate": "%{y:.2f}",
         "type": "bar",
         "x": [
          "LD Car",
          "LD Truck"
         ],
         "xaxis": "x5",
         "y": [
          0.0000014158876566581859,
          0.2660875122437128
         ],
         "yaxis": "y5"
        },
        {
         "alignmentgroup": "True",
         "hovertemplate": "Carrier=Diesel<br>Period=2045<br>Vehicle Class=%{x}<br>Capacity (M units)=%{y}<extra></extra>",
         "legendgroup": "Diesel",
         "marker": {
          "color": "#DC3912",
          "pattern": {
           "shape": ""
          }
         },
         "name": "Diesel",
         "offsetgroup": "Diesel",
         "orientation": "v",
         "showlegend": false,
         "textfont": {
          "size": 9
         },
         "textposition": "auto",
         "texttemplate": "%{y:.2f}",
         "type": "bar",
         "x": [
          "LD Car",
          "LD Truck"
         ],
         "xaxis": "x6",
         "y": [
          0,
          0.02597168036676316
         ],
         "yaxis": "y6"
        },
        {
         "alignmentgroup": "True",
         "hovertemplate": "Carrier=Diesel<br>Period=2050<br>Vehicle Class=%{x}<br>Capacity (M units)=%{y}<extra></extra>",
         "legendgroup": "Diesel",
         "marker": {
          "color": "#DC3912",
          "pattern": {
           "shape": ""
          }
         },
         "name": "Diesel",
         "offsetgroup": "Diesel",
         "orientation": "v",
         "showlegend": false,
         "textfont": {
          "size": 9
         },
         "textposition": "auto",
         "texttemplate": "%{y:.2f}",
         "type": "bar",
         "x": [
          "LD Car",
          "LD Truck"
         ],
         "xaxis": "x7",
         "y": [
          0,
          0
         ],
         "yaxis": "y7"
        },
        {
         "alignmentgroup": "True",
         "hovertemplate": "Carrier=CNG<br>Period=2021<br>Vehicle Class=%{x}<br>Capacity (M units)=%{y}<extra></extra>",
         "legendgroup": "CNG",
         "marker": {
          "color": "#FF9900",
          "pattern": {
           "shape": ""
          }
         },
         "name": "CNG",
         "offsetgroup": "CNG",
         "orientation": "v",
         "showlegend": true,
         "textfont": {
          "size": 9
         },
         "textposition": "auto",
         "texttemplate": "%{y:.2f}",
         "type": "bar",
         "x": [
          "LD Car",
          "LD Truck"
         ],
         "xaxis": "x",
         "y": [
          0,
          0
         ],
         "yaxis": "y"
        },
        {
         "alignmentgroup": "True",
         "hovertemplate": "Carrier=CNG<br>Period=2025<br>Vehicle Class=%{x}<br>Capacity (M units)=%{y}<extra></extra>",
         "legendgroup": "CNG",
         "marker": {
          "color": "#FF9900",
          "pattern": {
           "shape": ""
          }
         },
         "name": "CNG",
         "offsetgroup": "CNG",
         "orientation": "v",
         "showlegend": false,
         "textfont": {
          "size": 9
         },
         "textposition": "auto",
         "texttemplate": "%{y:.2f}",
         "type": "bar",
         "x": [
          "LD Car",
          "LD Truck"
         ],
         "xaxis": "x2",
         "y": [
          0.000002640831149168603,
          0.000005117539996776915
         ],
         "yaxis": "y2"
        },
        {
         "alignmentgroup": "True",
         "hovertemplate": "Carrier=CNG<br>Period=2030<br>Vehicle Class=%{x}<br>Capacity (M units)=%{y}<extra></extra>",
         "legendgroup": "CNG",
         "marker": {
          "color": "#FF9900",
          "pattern": {
           "shape": ""
          }
         },
         "name": "CNG",
         "offsetgroup": "CNG",
         "orientation": "v",
         "showlegend": false,
         "textfont": {
          "size": 9
         },
         "textposition": "auto",
         "texttemplate": "%{y:.2f}",
         "type": "bar",
         "x": [
          "LD Car",
          "LD Truck"
         ],
         "xaxis": "x3",
         "y": [
          0.000004024686615602091,
          0.00001059625362311085
         ],
         "yaxis": "y3"
        },
        {
         "alignmentgroup": "True",
         "hovertemplate": "Carrier=CNG<br>Period=2035<br>Vehicle Class=%{x}<br>Capacity (M units)=%{y}<extra></extra>",
         "legendgroup": "CNG",
         "marker": {
          "color": "#FF9900",
          "pattern": {
           "shape": ""
          }
         },
         "name": "CNG",
         "offsetgroup": "CNG",
         "orientation": "v",
         "showlegend": false,
         "textfont": {
          "size": 9
         },
         "textposition": "auto",
         "texttemplate": "%{y:.2f}",
         "type": "bar",
         "x": [
          "LD Car",
          "LD Truck"
         ],
         "xaxis": "x4",
         "y": [
          0.000004024686615602091,
          0.00001059625362311085
         ],
         "yaxis": "y4"
        },
        {
         "alignmentgroup": "True",
         "hovertemplate": "Carrier=CNG<br>Period=2040<br>Vehicle Class=%{x}<br>Capacity (M units)=%{y}<extra></extra>",
         "legendgroup": "CNG",
         "marker": {
          "color": "#FF9900",
          "pattern": {
           "shape": ""
          }
         },
         "name": "CNG",
         "offsetgroup": "CNG",
         "orientation": "v",
         "showlegend": false,
         "textfont": {
          "size": 9
         },
         "textposition": "auto",
         "texttemplate": "%{y:.2f}",
         "type": "bar",
         "x": [
          "LD Car",
          "LD Truck"
         ],
         "xaxis": "x5",
         "y": [
          0.000001383855466433488,
          0.00001059625362311085
         ],
         "yaxis": "y5"
        },
        {
         "alignmentgroup": "True",
         "hovertemplate": "Carrier=CNG<br>Period=2045<br>Vehicle Class=%{x}<br>Capacity (M units)=%{y}<extra></extra>",
         "legendgroup": "CNG",
         "marker": {
          "color": "#FF9900",
          "pattern": {
           "shape": ""
          }
         },
         "name": "CNG",
         "offsetgroup": "CNG",
         "orientation": "v",
         "showlegend": false,
         "textfont": {
          "size": 9
         },
         "textposition": "auto",
         "texttemplate": "%{y:.2f}",
         "type": "bar",
         "x": [
          "LD Car",
          "LD Truck"
         ],
         "xaxis": "x6",
         "y": [
          0,
          0.000005478713626333935
         ],
         "yaxis": "y6"
        },
        {
         "alignmentgroup": "True",
         "hovertemplate": "Carrier=CNG<br>Period=2050<br>Vehicle Class=%{x}<br>Capacity (M units)=%{y}<extra></extra>",
         "legendgroup": "CNG",
         "marker": {
          "color": "#FF9900",
          "pattern": {
           "shape": ""
          }
         },
         "name": "CNG",
         "offsetgroup": "CNG",
         "orientation": "v",
         "showlegend": false,
         "textfont": {
          "size": 9
         },
         "textposition": "auto",
         "texttemplate": "%{y:.2f}",
         "type": "bar",
         "x": [
          "LD Car",
          "LD Truck"
         ],
         "xaxis": "x7",
         "y": [
          0,
          0
         ],
         "yaxis": "y7"
        },
        {
         "alignmentgroup": "True",
         "hovertemplate": "Carrier=HEV<br>Period=2021<br>Vehicle Class=%{x}<br>Capacity (M units)=%{y}<extra></extra>",
         "legendgroup": "HEV",
         "marker": {
          "color": "#109618",
          "pattern": {
           "shape": ""
          }
         },
         "name": "HEV",
         "offsetgroup": "HEV",
         "orientation": "v",
         "showlegend": true,
         "textfont": {
          "size": 9
         },
         "textposition": "auto",
         "texttemplate": "%{y:.2f}",
         "type": "bar",
         "x": [
          "LD Car",
          "LD Truck"
         ],
         "xaxis": "x",
         "y": [
          0.13304955245869773,
          0.06559985539794704
         ],
         "yaxis": "y"
        },
        {
         "alignmentgroup": "True",
         "hovertemplate": "Carrier=HEV<br>Period=2025<br>Vehicle Class=%{x}<br>Capacity (M units)=%{y}<extra></extra>",
         "legendgroup": "HEV",
         "marker": {
          "color": "#109618",
          "pattern": {
           "shape": ""
          }
         },
         "name": "HEV",
         "offsetgroup": "HEV",
         "orientation": "v",
         "showlegend": false,
         "textfont": {
          "size": 9
         },
         "textposition": "auto",
         "texttemplate": "%{y:.2f}",
         "type": "bar",
         "x": [
          "LD Car",
          "LD Truck"
         ],
         "xaxis": "x2",
         "y": [
          0.36294781878936255,
          0.17271487829393317
         ],
         "yaxis": "y2"
        },
        {
         "alignmentgroup": "True",
         "hovertemplate": "Carrier=HEV<br>Period=2030<br>Vehicle Class=%{x}<br>Capacity (M units)=%{y}<extra></extra>",
         "legendgroup": "HEV",
         "marker": {
          "color": "#109618",
          "pattern": {
           "shape": ""
          }
         },
         "name": "HEV",
         "offsetgroup": "HEV",
         "orientation": "v",
         "showlegend": false,
         "textfont": {
          "size": 9
         },
         "textposition": "auto",
         "texttemplate": "%{y:.2f}",
         "type": "bar",
         "x": [
          "LD Car",
          "LD Truck"
         ],
         "xaxis": "x3",
         "y": [
          0.3634225974840407,
          0.39591215598803053
         ],
         "yaxis": "y3"
        },
        {
         "alignmentgroup": "True",
         "hovertemplate": "Carrier=HEV<br>Period=2035<br>Vehicle Class=%{x}<br>Capacity (M units)=%{y}<extra></extra>",
         "legendgroup": "HEV",
         "marker": {
          "color": "#109618",
          "pattern": {
           "shape": ""
          }
         },
         "name": "HEV",
         "offsetgroup": "HEV",
         "orientation": "v",
         "showlegend": false,
         "textfont": {
          "size": 9
         },
         "textposition": "auto",
         "texttemplate": "%{y:.2f}",
         "type": "bar",
         "x": [
          "LD Car",
          "LD Truck"
         ],
         "xaxis": "x4",
         "y": [
          0.266208685025343,
          0.3932433259880305
         ],
         "yaxis": "y4"
        },
        {
         "alignmentgroup": "True",
         "hovertemplate": "Carrier=HEV<br>Period=2040<br>Vehicle Class=%{x}<br>Capacity (M units)=%{y}<extra></extra>",
         "legendgroup": "HEV",
         "marker": {
          "color": "#109618",
          "pattern": {
           "shape": ""
          }
         },
         "name": "HEV",
         "offsetgroup": "HEV",
         "orientation": "v",
         "showlegend": false,
         "textfont": {
          "size": 9
         },
         "textposition": "auto",
         "texttemplate": "%{y:.2f}",
         "type": "bar",
         "x": [
          "LD Car",
          "LD Truck"
         ],
         "xaxis": "x5",
         "y": [
          0.03631041869467817,
          0.33031230059008354
         ],
         "yaxis": "y5"
        },
        {
         "alignmentgroup": "True",
         "hovertemplate": "Carrier=HEV<br>Period=2045<br>Vehicle Class=%{x}<br>Capacity (M units)=%{y}<extra></extra>",
         "legendgroup": "HEV",
         "marker": {
          "color": "#109618",
          "pattern": {
           "shape": ""
          }
         },
         "name": "HEV",
         "offsetgroup": "HEV",
         "orientation": "v",
         "showlegend": false,
         "textfont": {
          "size": 9
         },
         "textposition": "auto",
         "texttemplate": "%{y:.2f}",
         "type": "bar",
         "x": [
          "LD Car",
          "LD Truck"
         ],
         "xaxis": "x6",
         "y": [
          0,
          0.2231972776940974
         ],
         "yaxis": "y6"
        },
        {
         "alignmentgroup": "True",
         "hovertemplate": "Carrier=HEV<br>Period=2050<br>Vehicle Class=%{x}<br>Capacity (M units)=%{y}<extra></extra>",
         "legendgroup": "HEV",
         "marker": {
          "color": "#109618",
          "pattern": {
           "shape": ""
          }
         },
         "name": "HEV",
         "offsetgroup": "HEV",
         "orientation": "v",
         "showlegend": false,
         "textfont": {
          "size": 9
         },
         "textposition": "auto",
         "texttemplate": "%{y:.2f}",
         "type": "bar",
         "x": [
          "LD Car",
          "LD Truck"
         ],
         "xaxis": "x7",
         "y": [
          0,
          0
         ],
         "yaxis": "y7"
        },
        {
         "alignmentgroup": "True",
         "hovertemplate": "Carrier=PHEV<br>Period=2021<br>Vehicle Class=%{x}<br>Capacity (M units)=%{y}<extra></extra>",
         "legendgroup": "PHEV",
         "marker": {
          "color": "#990099",
          "pattern": {
           "shape": ""
          }
         },
         "name": "PHEV",
         "offsetgroup": "PHEV",
         "orientation": "v",
         "showlegend": true,
         "textfont": {
          "size": 9
         },
         "textposition": "auto",
         "texttemplate": "%{y:.2f}",
         "type": "bar",
         "x": [
          "LD Car",
          "LD Truck"
         ],
         "xaxis": "x",
         "y": [
          0.025644986246220376,
          0.012586548910665577
         ],
         "yaxis": "y"
        },
        {
         "alignmentgroup": "True",
         "hovertemplate": "Carrier=PHEV<br>Period=2025<br>Vehicle Class=%{x}<br>Capacity (M units)=%{y}<extra></extra>",
         "legendgroup": "PHEV",
         "marker": {
          "color": "#990099",
          "pattern": {
           "shape": ""
          }
         },
         "name": "PHEV",
         "offsetgroup": "PHEV",
         "orientation": "v",
         "showlegend": false,
         "textfont": {
          "size": 9
         },
         "textposition": "auto",
         "texttemplate": "%{y:.2f}",
         "type": "bar",
         "x": [
          "LD Car",
          "LD Truck"
         ],
         "xaxis": "x2",
         "y": [
          0.2014744329545532,
          0.15766760581848507
         ],
         "yaxis": "y2"
        },
        {
         "alignmentgroup": "True",
         "hovertemplate": "Carrier=PHEV<br>Period=2030<br>Vehicle Class=%{x}<br>Capacity (M units)=%{y}<extra></extra>",
         "legendgroup": "PHEV",
         "marker": {
          "color": "#990099",
          "pattern": {
           "shape": ""
          }
         },
         "name": "PHEV",
         "offsetgroup": "PHEV",
         "orientation": "v",
         "showlegend": false,
         "textfont": {
          "size": 9
         },
         "textposition": "auto",
         "texttemplate": "%{y:.2f}",
         "type": "bar",
         "x": [
          "LD Car",
          "LD Truck"
         ],
         "xaxis": "x3",
         "y": [
          0.6250427417047488,
          0.5354131723520784
         ],
         "yaxis": "y3"
        },
        {
         "alignmentgroup": "True",
         "hovertemplate": "Carrier=PHEV<br>Period=2035<br>Vehicle Class=%{x}<br>Capacity (M units)=%{y}<extra></extra>",
         "legendgroup": "PHEV",
         "marker": {
          "color": "#990099",
          "pattern": {
           "shape": ""
          }
         },
         "name": "PHEV",
         "offsetgroup": "PHEV",
         "orientation": "v",
         "showlegend": false,
         "textfont": {
          "size": 9
         },
         "textposition": "auto",
         "texttemplate": "%{y:.2f}",
         "type": "bar",
         "x": [
          "LD Car",
          "LD Truck"
         ],
         "xaxis": "x4",
         "y": [
          1.3010084556786878,
          1.4325650305170365
         ],
         "yaxis": "y4"
        },
        {
         "alignmentgroup": "True",
         "hovertemplate": "Carrier=PHEV<br>Period=2040<br>Vehicle Class=%{x}<br>Capacity (M units)=%{y}<extra></extra>",
         "legendgroup": "PHEV",
         "marker": {
          "color": "#990099",
          "pattern": {
           "shape": ""
          }
         },
         "name": "PHEV",
         "offsetgroup": "PHEV",
         "orientation": "v",
         "showlegend": false,
         "textfont": {
          "size": 9
         },
         "textposition": "auto",
         "texttemplate": "%{y:.2f}",
         "type": "bar",
         "x": [
          "LD Car",
          "LD Truck"
         ],
         "xaxis": "x5",
         "y": [
          1.145340911061513,
          1.4231980554754453
         ],
         "yaxis": "y5"
        },
        {
         "alignmentgroup": "True",
         "hovertemplate": "Carrier=PHEV<br>Period=2045<br>Vehicle Class=%{x}<br>Capacity (M units)=%{y}<extra></extra>",
         "legendgroup": "PHEV",
         "marker": {
          "color": "#990099",
          "pattern": {
           "shape": ""
          }
         },
         "name": "PHEV",
         "offsetgroup": "PHEV",
         "orientation": "v",
         "showlegend": false,
         "textfont": {
          "size": 9
         },
         "textposition": "auto",
         "texttemplate": "%{y:.2f}",
         "type": "bar",
         "x": [
          "LD Car",
          "LD Truck"
         ],
         "xaxis": "x6",
         "y": [
          0.8177422488482697,
          1.294924629518778
         ],
         "yaxis": "y6"
        },
        {
         "alignmentgroup": "True",
         "hovertemplate": "Carrier=PHEV<br>Period=2050<br>Vehicle Class=%{x}<br>Capacity (M units)=%{y}<extra></extra>",
         "legendgroup": "PHEV",
         "marker": {
          "color": "#990099",
          "pattern": {
           "shape": ""
          }
         },
         "name": "PHEV",
         "offsetgroup": "PHEV",
         "orientation": "v",
         "showlegend": false,
         "textfont": {
          "size": 9
         },
         "textposition": "auto",
         "texttemplate": "%{y:.2f}",
         "type": "bar",
         "x": [
          "LD Car",
          "LD Truck"
         ],
         "xaxis": "x7",
         "y": [
          0.12139612793832767,
          0.9171958209407891
         ],
         "yaxis": "y7"
        },
        {
         "alignmentgroup": "True",
         "hovertemplate": "Carrier=BEV<br>Period=2021<br>Vehicle Class=%{x}<br>Capacity (M units)=%{y}<extra></extra>",
         "legendgroup": "BEV",
         "marker": {
          "color": "#0099C6",
          "pattern": {
           "shape": ""
          }
         },
         "name": "BEV",
         "offsetgroup": "BEV",
         "orientation": "v",
         "showlegend": true,
         "textfont": {
          "size": 9
         },
         "textposition": "auto",
         "texttemplate": "%{y:.2f}",
         "type": "bar",
         "x": [
          "LD Car",
          "LD Truck"
         ],
         "xaxis": "x",
         "y": [
          0.09052015806434548,
          0.02807864218093078
         ],
         "yaxis": "y"
        },
        {
         "alignmentgroup": "True",
         "hovertemplate": "Carrier=BEV<br>Period=2025<br>Vehicle Class=%{x}<br>Capacity (M units)=%{y}<extra></extra>",
         "legendgroup": "BEV",
         "marker": {
          "color": "#0099C6",
          "pattern": {
           "shape": ""
          }
         },
         "name": "BEV",
         "offsetgroup": "BEV",
         "orientation": "v",
         "showlegend": false,
         "textfont": {
          "size": 9
         },
         "textposition": "auto",
         "texttemplate": "%{y:.2f}",
         "type": "bar",
         "x": [
          "LD Car",
          "LD Truck"
         ],
         "xaxis": "x2",
         "y": [
          0.541275976809099,
          0.3113850552924912
         ],
         "yaxis": "y2"
        },
        {
         "alignmentgroup": "True",
         "hovertemplate": "Carrier=BEV<br>Period=2030<br>Vehicle Class=%{x}<br>Capacity (M units)=%{y}<extra></extra>",
         "legendgroup": "BEV",
         "marker": {
          "color": "#0099C6",
          "pattern": {
           "shape": ""
          }
         },
         "name": "BEV",
         "offsetgroup": "BEV",
         "orientation": "v",
         "showlegend": false,
         "textfont": {
          "size": 9
         },
         "textposition": "auto",
         "texttemplate": "%{y:.2f}",
         "type": "bar",
         "x": [
          "LD Car",
          "LD Truck"
         ],
         "xaxis": "x3",
         "y": [
          1.5138272915820676,
          1.0581278584134248
         ],
         "yaxis": "y3"
        },
        {
         "alignmentgroup": "True",
         "hovertemplate": "Carrier=BEV<br>Period=2035<br>Vehicle Class=%{x}<br>Capacity (M units)=%{y}<extra></extra>",
         "legendgroup": "BEV",
         "marker": {
          "color": "#0099C6",
          "pattern": {
           "shape": ""
          }
         },
         "name": "BEV",
         "offsetgroup": "BEV",
         "orientation": "v",
         "showlegend": false,
         "textfont": {
          "size": 9
         },
         "textposition": "auto",
         "texttemplate": "%{y:.2f}",
         "type": "bar",
         "x": [
          "LD Car",
          "LD Truck"
         ],
         "xaxis": "x4",
         "y": [
          2.953657323410627,
          2.837726203420835
         ],
         "yaxis": "y4"
        },
        {
         "alignmentgroup": "True",
         "hovertemplate": "Carrier=BEV<br>Period=2040<br>Vehicle Class=%{x}<br>Capacity (M units)=%{y}<extra></extra>",
         "legendgroup": "BEV",
         "marker": {
          "color": "#0099C6",
          "pattern": {
           "shape": ""
          }
         },
         "name": "BEV",
         "offsetgroup": "BEV",
         "orientation": "v",
         "showlegend": false,
         "textfont": {
          "size": 9
         },
         "textposition": "auto",
         "texttemplate": "%{y:.2f}",
         "type": "bar",
         "x": [
          "LD Car",
          "LD Truck"
         ],
         "xaxis": "x5",
         "y": [
          3.859529623277984,
          4.537570904027349
         ],
         "yaxis": "y5"
        },
        {
         "alignmentgroup": "True",
         "hovertemplate": "Carrier=BEV<br>Period=2045<br>Vehicle Class=%{x}<br>Capacity (M units)=%{y}<extra></extra>",
         "legendgroup": "BEV",
         "marker": {
          "color": "#0099C6",
          "pattern": {
           "shape": ""
          }
         },
         "name": "BEV",
         "offsetgroup": "BEV",
         "orientation": "v",
         "showlegend": false,
         "textfont": {
          "size": 9
         },
         "textposition": "auto",
         "texttemplate": "%{y:.2f}",
         "type": "bar",
         "x": [
          "LD Car",
          "LD Truck"
         ],
         "xaxis": "x6",
         "y": [
          4.734966774116309,
          5.982244565651246
         ],
         "yaxis": "y6"
        },
        {
         "alignmentgroup": "True",
         "hovertemplate": "Carrier=BEV<br>Period=2050<br>Vehicle Class=%{x}<br>Capacity (M units)=%{y}<extra></extra>",
         "legendgroup": "BEV",
         "marker": {
          "color": "#0099C6",
          "pattern": {
           "shape": ""
          }
         },
         "name": "BEV",
         "offsetgroup": "BEV",
         "orientation": "v",
         "showlegend": false,
         "textfont": {
          "size": 9
         },
         "textposition": "auto",
         "texttemplate": "%{y:.2f}",
         "type": "bar",
         "x": [
          "LD Car",
          "LD Truck"
         ],
         "xaxis": "x7",
         "y": [
          5.639633106945318,
          8.13059581881504
         ],
         "yaxis": "y7"
        },
        {
         "alignmentgroup": "True",
         "hovertemplate": "Carrier=FCEV<br>Period=2021<br>Vehicle Class=%{x}<br>Capacity (M units)=%{y}<extra></extra>",
         "legendgroup": "FCEV",
         "marker": {
          "color": "#DD4477",
          "pattern": {
           "shape": ""
          }
         },
         "name": "FCEV",
         "offsetgroup": "FCEV",
         "orientation": "v",
         "showlegend": true,
         "textfont": {
          "size": 9
         },
         "textposition": "auto",
         "texttemplate": "%{y:.2f}",
         "type": "bar",
         "x": [
          "LD Car",
          "LD Truck"
         ],
         "xaxis": "x",
         "y": [
          0,
          0
         ],
         "yaxis": "y"
        },
        {
         "alignmentgroup": "True",
         "hovertemplate": "Carrier=FCEV<br>Period=2025<br>Vehicle Class=%{x}<br>Capacity (M units)=%{y}<extra></extra>",
         "legendgroup": "FCEV",
         "marker": {
          "color": "#DD4477",
          "pattern": {
           "shape": ""
          }
         },
         "name": "FCEV",
         "offsetgroup": "FCEV",
         "orientation": "v",
         "showlegend": false,
         "textfont": {
          "size": 9
         },
         "textposition": "auto",
         "texttemplate": "%{y:.2f}",
         "type": "bar",
         "x": [
          "LD Car",
          "LD Truck"
         ],
         "xaxis": "x2",
         "y": [
          0.00000284809851693653,
          0.000007053153593200573
         ],
         "yaxis": "y2"
        },
        {
         "alignmentgroup": "True",
         "hovertemplate": "Carrier=FCEV<br>Period=2030<br>Vehicle Class=%{x}<br>Capacity (M units)=%{y}<extra></extra>",
         "legendgroup": "FCEV",
         "marker": {
          "color": "#DD4477",
          "pattern": {
           "shape": ""
          }
         },
         "name": "FCEV",
         "offsetgroup": "FCEV",
         "orientation": "v",
         "showlegend": false,
         "textfont": {
          "size": 9
         },
         "textposition": "auto",
         "texttemplate": "%{y:.2f}",
         "type": "bar",
         "x": [
          "LD Car",
          "LD Truck"
         ],
         "xaxis": "x3",
         "y": [
          0.000007718627416904744,
          0.0001945016808921224
         ],
         "yaxis": "y3"
        },
        {
         "alignmentgroup": "True",
         "hovertemplate": "Carrier=FCEV<br>Period=2035<br>Vehicle Class=%{x}<br>Capacity (M units)=%{y}<extra></extra>",
         "legendgroup": "FCEV",
         "marker": {
          "color": "#DD4477",
          "pattern": {
           "shape": ""
          }
         },
         "name": "FCEV",
         "offsetgroup": "FCEV",
         "orientation": "v",
         "showlegend": false,
         "textfont": {
          "size": 9
         },
         "textposition": "auto",
         "texttemplate": "%{y:.2f}",
         "type": "bar",
         "x": [
          "LD Car",
          "LD Truck"
         ],
         "xaxis": "x4",
         "y": [
          0.00000995156064827559,
          0.001465474189807731
         ],
         "yaxis": "y4"
        },
        {
         "alignmentgroup": "True",
         "hovertemplate": "Carrier=FCEV<br>Period=2040<br>Vehicle Class=%{x}<br>Capacity (M units)=%{y}<extra></extra>",
         "legendgroup": "FCEV",
         "marker": {
          "color": "#DD4477",
          "pattern": {
           "shape": ""
          }
         },
         "name": "FCEV",
         "offsetgroup": "FCEV",
         "orientation": "v",
         "showlegend": false,
         "textfont": {
          "size": 9
         },
         "textposition": "auto",
         "texttemplate": "%{y:.2f}",
         "type": "bar",
         "x": [
          "LD Car",
          "LD Truck"
         ],
         "xaxis": "x5",
         "y": [
          0.000009028553967526845,
          0.0015154319780183688
         ],
         "yaxis": "y5"
        },
        {
         "alignmentgroup": "True",
         "hovertemplate": "Carrier=FCEV<br>Period=2045<br>Vehicle Class=%{x}<br>Capacity (M units)=%{y}<extra></extra>",
         "legendgroup": "FCEV",
         "marker": {
          "color": "#DD4477",
          "pattern": {
           "shape": ""
          }
         },
         "name": "FCEV",
         "offsetgroup": "FCEV",
         "orientation": "v",
         "showlegend": false,
         "textfont": {
          "size": 9
         },
         "textposition": "auto",
         "texttemplate": "%{y:.2f}",
         "type": "bar",
         "x": [
          "LD Car",
          "LD Truck"
         ],
         "xaxis": "x6",
         "y": [
          0.000006969147775149113,
          0.0015169108736627591
         ],
         "yaxis": "y6"
        },
        {
         "alignmentgroup": "True",
         "hovertemplate": "Carrier=FCEV<br>Period=2050<br>Vehicle Class=%{x}<br>Capacity (M units)=%{y}<extra></extra>",
         "legendgroup": "FCEV",
         "marker": {
          "color": "#DD4477",
          "pattern": {
           "shape": ""
          }
         },
         "name": "FCEV",
         "offsetgroup": "FCEV",
         "orientation": "v",
         "showlegend": false,
         "textfont": {
          "size": 9
         },
         "textposition": "auto",
         "texttemplate": "%{y:.2f}",
         "type": "bar",
         "x": [
          "LD Car",
          "LD Truck"
         ],
         "xaxis": "x7",
         "y": [
          0.00001019967954599985,
          0.001354031240403128
         ],
         "yaxis": "y7"
        }
       ],
       "layout": {
        "annotations": [
         {
          "font": {},
          "showarrow": false,
          "text": "2021",
          "x": 0.06285714285714285,
          "xanchor": "center",
          "xref": "paper",
          "y": -0.08,
          "yanchor": "top",
          "yref": "paper"
         },
         {
          "font": {},
          "showarrow": false,
          "text": "2025",
          "x": 0.20857142857142852,
          "xanchor": "center",
          "xref": "paper",
          "y": -0.08,
          "yanchor": "top",
          "yref": "paper"
         },
         {
          "font": {},
          "showarrow": false,
          "text": "2030",
          "x": 0.3542857142857142,
          "xanchor": "center",
          "xref": "paper",
          "y": -0.08,
          "yanchor": "top",
          "yref": "paper"
         },
         {
          "font": {},
          "showarrow": false,
          "text": "2035",
          "x": 0.5,
          "xanchor": "center",
          "xref": "paper",
          "y": -0.08,
          "yanchor": "top",
          "yref": "paper"
         },
         {
          "font": {},
          "showarrow": false,
          "text": "2040",
          "x": 0.6457142857142856,
          "xanchor": "center",
          "xref": "paper",
          "y": -0.08,
          "yanchor": "top",
          "yref": "paper"
         },
         {
          "font": {},
          "showarrow": false,
          "text": "2045",
          "x": 0.7914285714285713,
          "xanchor": "center",
          "xref": "paper",
          "y": -0.08,
          "yanchor": "top",
          "yref": "paper"
         },
         {
          "font": {},
          "showarrow": false,
          "text": "2050",
          "x": 0.937142857142857,
          "xanchor": "center",
          "xref": "paper",
          "y": -0.08,
          "yanchor": "top",
          "yref": "paper"
         }
        ],
        "bargap": 0.1,
        "barmode": "stack",
        "font": {
         "size": 14
        },
        "height": 650,
        "legend": {
         "orientation": "h",
         "title": {
          "text": ""
         },
         "tracegroupgap": 0,
         "x": 0.5,
         "xanchor": "center",
         "y": 1.03,
         "yanchor": "top"
        },
        "margin": {
         "t": 60
        },
        "template": {
         "data": {
          "bar": [
           {
            "error_x": {
             "color": "#2a3f5f"
            },
            "error_y": {
             "color": "#2a3f5f"
            },
            "marker": {
             "line": {
              "color": "white",
              "width": 0.5
             },
             "pattern": {
              "fillmode": "overlay",
              "size": 10,
              "solidity": 0.2
             }
            },
            "type": "bar"
           }
          ],
          "barpolar": [
           {
            "marker": {
             "line": {
              "color": "white",
              "width": 0.5
             },
             "pattern": {
              "fillmode": "overlay",
              "size": 10,
              "solidity": 0.2
             }
            },
            "type": "barpolar"
           }
          ],
          "carpet": [
           {
            "aaxis": {
             "endlinecolor": "#2a3f5f",
             "gridcolor": "#C8D4E3",
             "linecolor": "#C8D4E3",
             "minorgridcolor": "#C8D4E3",
             "startlinecolor": "#2a3f5f"
            },
            "baxis": {
             "endlinecolor": "#2a3f5f",
             "gridcolor": "#C8D4E3",
             "linecolor": "#C8D4E3",
             "minorgridcolor": "#C8D4E3",
             "startlinecolor": "#2a3f5f"
            },
            "type": "carpet"
           }
          ],
          "choropleth": [
           {
            "colorbar": {
             "outlinewidth": 0,
             "ticks": ""
            },
            "type": "choropleth"
           }
          ],
          "contour": [
           {
            "colorbar": {
             "outlinewidth": 0,
             "ticks": ""
            },
            "colorscale": [
             [
              0,
              "#0d0887"
             ],
             [
              0.1111111111111111,
              "#46039f"
             ],
             [
              0.2222222222222222,
              "#7201a8"
             ],
             [
              0.3333333333333333,
              "#9c179e"
             ],
             [
              0.4444444444444444,
              "#bd3786"
             ],
             [
              0.5555555555555556,
              "#d8576b"
             ],
             [
              0.6666666666666666,
              "#ed7953"
             ],
             [
              0.7777777777777778,
              "#fb9f3a"
             ],
             [
              0.8888888888888888,
              "#fdca26"
             ],
             [
              1,
              "#f0f921"
             ]
            ],
            "type": "contour"
           }
          ],
          "contourcarpet": [
           {
            "colorbar": {
             "outlinewidth": 0,
             "ticks": ""
            },
            "type": "contourcarpet"
           }
          ],
          "heatmap": [
           {
            "colorbar": {
             "outlinewidth": 0,
             "ticks": ""
            },
            "colorscale": [
             [
              0,
              "#0d0887"
             ],
             [
              0.1111111111111111,
              "#46039f"
             ],
             [
              0.2222222222222222,
              "#7201a8"
             ],
             [
              0.3333333333333333,
              "#9c179e"
             ],
             [
              0.4444444444444444,
              "#bd3786"
             ],
             [
              0.5555555555555556,
              "#d8576b"
             ],
             [
              0.6666666666666666,
              "#ed7953"
             ],
             [
              0.7777777777777778,
              "#fb9f3a"
             ],
             [
              0.8888888888888888,
              "#fdca26"
             ],
             [
              1,
              "#f0f921"
             ]
            ],
            "type": "heatmap"
           }
          ],
          "heatmapgl": [
           {
            "colorbar": {
             "outlinewidth": 0,
             "ticks": ""
            },
            "colorscale": [
             [
              0,
              "#0d0887"
             ],
             [
              0.1111111111111111,
              "#46039f"
             ],
             [
              0.2222222222222222,
              "#7201a8"
             ],
             [
              0.3333333333333333,
              "#9c179e"
             ],
             [
              0.4444444444444444,
              "#bd3786"
             ],
             [
              0.5555555555555556,
              "#d8576b"
             ],
             [
              0.6666666666666666,
              "#ed7953"
             ],
             [
              0.7777777777777778,
              "#fb9f3a"
             ],
             [
              0.8888888888888888,
              "#fdca26"
             ],
             [
              1,
              "#f0f921"
             ]
            ],
            "type": "heatmapgl"
           }
          ],
          "histogram": [
           {
            "marker": {
             "pattern": {
              "fillmode": "overlay",
              "size": 10,
              "solidity": 0.2
             }
            },
            "type": "histogram"
           }
          ],
          "histogram2d": [
           {
            "colorbar": {
             "outlinewidth": 0,
             "ticks": ""
            },
            "colorscale": [
             [
              0,
              "#0d0887"
             ],
             [
              0.1111111111111111,
              "#46039f"
             ],
             [
              0.2222222222222222,
              "#7201a8"
             ],
             [
              0.3333333333333333,
              "#9c179e"
             ],
             [
              0.4444444444444444,
              "#bd3786"
             ],
             [
              0.5555555555555556,
              "#d8576b"
             ],
             [
              0.6666666666666666,
              "#ed7953"
             ],
             [
              0.7777777777777778,
              "#fb9f3a"
             ],
             [
              0.8888888888888888,
              "#fdca26"
             ],
             [
              1,
              "#f0f921"
             ]
            ],
            "type": "histogram2d"
           }
          ],
          "histogram2dcontour": [
           {
            "colorbar": {
             "outlinewidth": 0,
             "ticks": ""
            },
            "colorscale": [
             [
              0,
              "#0d0887"
             ],
             [
              0.1111111111111111,
              "#46039f"
             ],
             [
              0.2222222222222222,
              "#7201a8"
             ],
             [
              0.3333333333333333,
              "#9c179e"
             ],
             [
              0.4444444444444444,
              "#bd3786"
             ],
             [
              0.5555555555555556,
              "#d8576b"
             ],
             [
              0.6666666666666666,
              "#ed7953"
             ],
             [
              0.7777777777777778,
              "#fb9f3a"
             ],
             [
              0.8888888888888888,
              "#fdca26"
             ],
             [
              1,
              "#f0f921"
             ]
            ],
            "type": "histogram2dcontour"
           }
          ],
          "mesh3d": [
           {
            "colorbar": {
             "outlinewidth": 0,
             "ticks": ""
            },
            "type": "mesh3d"
           }
          ],
          "parcoords": [
           {
            "line": {
             "colorbar": {
              "outlinewidth": 0,
              "ticks": ""
             }
            },
            "type": "parcoords"
           }
          ],
          "pie": [
           {
            "automargin": true,
            "type": "pie"
           }
          ],
          "scatter": [
           {
            "fillpattern": {
             "fillmode": "overlay",
             "size": 10,
             "solidity": 0.2
            },
            "type": "scatter"
           }
          ],
          "scatter3d": [
           {
            "line": {
             "colorbar": {
              "outlinewidth": 0,
              "ticks": ""
             }
            },
            "marker": {
             "colorbar": {
              "outlinewidth": 0,
              "ticks": ""
             }
            },
            "type": "scatter3d"
           }
          ],
          "scattercarpet": [
           {
            "marker": {
             "colorbar": {
              "outlinewidth": 0,
              "ticks": ""
             }
            },
            "type": "scattercarpet"
           }
          ],
          "scattergeo": [
           {
            "marker": {
             "colorbar": {
              "outlinewidth": 0,
              "ticks": ""
             }
            },
            "type": "scattergeo"
           }
          ],
          "scattergl": [
           {
            "marker": {
             "colorbar": {
              "outlinewidth": 0,
              "ticks": ""
             }
            },
            "type": "scattergl"
           }
          ],
          "scattermapbox": [
           {
            "marker": {
             "colorbar": {
              "outlinewidth": 0,
              "ticks": ""
             }
            },
            "type": "scattermapbox"
           }
          ],
          "scatterpolar": [
           {
            "marker": {
             "colorbar": {
              "outlinewidth": 0,
              "ticks": ""
             }
            },
            "type": "scatterpolar"
           }
          ],
          "scatterpolargl": [
           {
            "marker": {
             "colorbar": {
              "outlinewidth": 0,
              "ticks": ""
             }
            },
            "type": "scatterpolargl"
           }
          ],
          "scatterternary": [
           {
            "marker": {
             "colorbar": {
              "outlinewidth": 0,
              "ticks": ""
             }
            },
            "type": "scatterternary"
           }
          ],
          "surface": [
           {
            "colorbar": {
             "outlinewidth": 0,
             "ticks": ""
            },
            "colorscale": [
             [
              0,
              "#0d0887"
             ],
             [
              0.1111111111111111,
              "#46039f"
             ],
             [
              0.2222222222222222,
              "#7201a8"
             ],
             [
              0.3333333333333333,
              "#9c179e"
             ],
             [
              0.4444444444444444,
              "#bd3786"
             ],
             [
              0.5555555555555556,
              "#d8576b"
             ],
             [
              0.6666666666666666,
              "#ed7953"
             ],
             [
              0.7777777777777778,
              "#fb9f3a"
             ],
             [
              0.8888888888888888,
              "#fdca26"
             ],
             [
              1,
              "#f0f921"
             ]
            ],
            "type": "surface"
           }
          ],
          "table": [
           {
            "cells": {
             "fill": {
              "color": "#EBF0F8"
             },
             "line": {
              "color": "white"
             }
            },
            "header": {
             "fill": {
              "color": "#C8D4E3"
             },
             "line": {
              "color": "white"
             }
            },
            "type": "table"
           }
          ]
         },
         "layout": {
          "annotationdefaults": {
           "arrowcolor": "#2a3f5f",
           "arrowhead": 0,
           "arrowwidth": 1
          },
          "autotypenumbers": "strict",
          "coloraxis": {
           "colorbar": {
            "outlinewidth": 0,
            "ticks": ""
           }
          },
          "colorscale": {
           "diverging": [
            [
             0,
             "#8e0152"
            ],
            [
             0.1,
             "#c51b7d"
            ],
            [
             0.2,
             "#de77ae"
            ],
            [
             0.3,
             "#f1b6da"
            ],
            [
             0.4,
             "#fde0ef"
            ],
            [
             0.5,
             "#f7f7f7"
            ],
            [
             0.6,
             "#e6f5d0"
            ],
            [
             0.7,
             "#b8e186"
            ],
            [
             0.8,
             "#7fbc41"
            ],
            [
             0.9,
             "#4d9221"
            ],
            [
             1,
             "#276419"
            ]
           ],
           "sequential": [
            [
             0,
             "#0d0887"
            ],
            [
             0.1111111111111111,
             "#46039f"
            ],
            [
             0.2222222222222222,
             "#7201a8"
            ],
            [
             0.3333333333333333,
             "#9c179e"
            ],
            [
             0.4444444444444444,
             "#bd3786"
            ],
            [
             0.5555555555555556,
             "#d8576b"
            ],
            [
             0.6666666666666666,
             "#ed7953"
            ],
            [
             0.7777777777777778,
             "#fb9f3a"
            ],
            [
             0.8888888888888888,
             "#fdca26"
            ],
            [
             1,
             "#f0f921"
            ]
           ],
           "sequentialminus": [
            [
             0,
             "#0d0887"
            ],
            [
             0.1111111111111111,
             "#46039f"
            ],
            [
             0.2222222222222222,
             "#7201a8"
            ],
            [
             0.3333333333333333,
             "#9c179e"
            ],
            [
             0.4444444444444444,
             "#bd3786"
            ],
            [
             0.5555555555555556,
             "#d8576b"
            ],
            [
             0.6666666666666666,
             "#ed7953"
            ],
            [
             0.7777777777777778,
             "#fb9f3a"
            ],
            [
             0.8888888888888888,
             "#fdca26"
            ],
            [
             1,
             "#f0f921"
            ]
           ]
          },
          "colorway": [
           "#636efa",
           "#EF553B",
           "#00cc96",
           "#ab63fa",
           "#FFA15A",
           "#19d3f3",
           "#FF6692",
           "#B6E880",
           "#FF97FF",
           "#FECB52"
          ],
          "font": {
           "color": "#2a3f5f"
          },
          "geo": {
           "bgcolor": "white",
           "lakecolor": "white",
           "landcolor": "white",
           "showlakes": true,
           "showland": true,
           "subunitcolor": "#C8D4E3"
          },
          "hoverlabel": {
           "align": "left"
          },
          "hovermode": "closest",
          "mapbox": {
           "style": "light"
          },
          "paper_bgcolor": "white",
          "plot_bgcolor": "white",
          "polar": {
           "angularaxis": {
            "gridcolor": "#EBF0F8",
            "linecolor": "#EBF0F8",
            "ticks": ""
           },
           "bgcolor": "white",
           "radialaxis": {
            "gridcolor": "#EBF0F8",
            "linecolor": "#EBF0F8",
            "ticks": ""
           }
          },
          "scene": {
           "xaxis": {
            "backgroundcolor": "white",
            "gridcolor": "#DFE8F3",
            "gridwidth": 2,
            "linecolor": "#EBF0F8",
            "showbackground": true,
            "ticks": "",
            "zerolinecolor": "#EBF0F8"
           },
           "yaxis": {
            "backgroundcolor": "white",
            "gridcolor": "#DFE8F3",
            "gridwidth": 2,
            "linecolor": "#EBF0F8",
            "showbackground": true,
            "ticks": "",
            "zerolinecolor": "#EBF0F8"
           },
           "zaxis": {
            "backgroundcolor": "white",
            "gridcolor": "#DFE8F3",
            "gridwidth": 2,
            "linecolor": "#EBF0F8",
            "showbackground": true,
            "ticks": "",
            "zerolinecolor": "#EBF0F8"
           }
          },
          "shapedefaults": {
           "line": {
            "color": "#2a3f5f"
           }
          },
          "ternary": {
           "aaxis": {
            "gridcolor": "#DFE8F3",
            "linecolor": "#A2B1C6",
            "ticks": ""
           },
           "baxis": {
            "gridcolor": "#DFE8F3",
            "linecolor": "#A2B1C6",
            "ticks": ""
           },
           "bgcolor": "white",
           "caxis": {
            "gridcolor": "#DFE8F3",
            "linecolor": "#A2B1C6",
            "ticks": ""
           }
          },
          "title": {
           "x": 0.05
          },
          "xaxis": {
           "automargin": true,
           "gridcolor": "#EBF0F8",
           "linecolor": "#EBF0F8",
           "ticks": "",
           "title": {
            "standoff": 15
           },
           "zerolinecolor": "#EBF0F8",
           "zerolinewidth": 2
          },
          "yaxis": {
           "automargin": true,
           "gridcolor": "#EBF0F8",
           "linecolor": "#EBF0F8",
           "ticks": "",
           "title": {
            "standoff": 15
           },
           "zerolinecolor": "#EBF0F8",
           "zerolinewidth": 2
          }
         }
        },
        "title": {
         "text": "Transportation LDV fleet stock in ON by vehicle class and drivetrain",
         "x": 0.5,
         "xanchor": "center",
         "y": 0.97,
         "yanchor": "top"
        },
        "width": 1000,
        "xaxis": {
         "anchor": "y",
         "domain": [
          0,
          0.1257142857142857
         ],
         "title": {
          "text": ""
         }
        },
        "xaxis2": {
         "anchor": "y2",
         "domain": [
          0.14571428571428569,
          0.27142857142857135
         ],
         "matches": "x",
         "title": {
          "text": ""
         }
        },
        "xaxis3": {
         "anchor": "y3",
         "domain": [
          0.29142857142857137,
          0.41714285714285704
         ],
         "matches": "x",
         "title": {
          "text": ""
         }
        },
        "xaxis4": {
         "anchor": "y4",
         "domain": [
          0.4371428571428571,
          0.5628571428571428
         ],
         "matches": "x",
         "title": {
          "text": ""
         }
        },
        "xaxis5": {
         "anchor": "y5",
         "domain": [
          0.5828571428571427,
          0.7085714285714284
         ],
         "matches": "x",
         "title": {
          "text": ""
         }
        },
        "xaxis6": {
         "anchor": "y6",
         "domain": [
          0.7285714285714284,
          0.8542857142857141
         ],
         "matches": "x",
         "title": {
          "text": ""
         }
        },
        "xaxis7": {
         "anchor": "y7",
         "domain": [
          0.8742857142857142,
          0.9999999999999999
         ],
         "matches": "x",
         "title": {
          "text": ""
         }
        },
        "yaxis": {
         "anchor": "x",
         "domain": [
          0,
          1
         ],
         "dtick": 1,
         "title": {
          "standoff": 0,
          "text": "Fleet stock (M units)"
         }
        },
        "yaxis2": {
         "anchor": "x2",
         "domain": [
          0,
          1
         ],
         "dtick": 1,
         "matches": "y",
         "showticklabels": false
        },
        "yaxis3": {
         "anchor": "x3",
         "domain": [
          0,
          1
         ],
         "dtick": 1,
         "matches": "y",
         "showticklabels": false
        },
        "yaxis4": {
         "anchor": "x4",
         "domain": [
          0,
          1
         ],
         "dtick": 1,
         "matches": "y",
         "showticklabels": false
        },
        "yaxis5": {
         "anchor": "x5",
         "domain": [
          0,
          1
         ],
         "dtick": 1,
         "matches": "y",
         "showticklabels": false
        },
        "yaxis6": {
         "anchor": "x6",
         "domain": [
          0,
          1
         ],
         "dtick": 1,
         "matches": "y",
         "showticklabels": false
        },
        "yaxis7": {
         "anchor": "x7",
         "domain": [
          0,
          1
         ],
         "dtick": 1,
         "matches": "y",
         "showticklabels": false
        }
       }
      }
     },
     "metadata": {},
     "output_type": "display_data"
    }
   ],
   "source": [
    "ref_fig = ref_trncap[ref_trncap['Vehicle Class'].isin(['LD Car', 'LD Truck'])][['Period', 'Vehicle Class', 'Capacity (M units)', 'Carrier']].groupby(['Period', 'Vehicle Class', 'Carrier'], as_index=False).sum()\n",
    "\n",
    "ref_fig['Carrier'] = pd.Categorical(ref_fig['Carrier'], categories=drivetrain_order, ordered=True)\n",
    "ref_fig = ref_fig.sort_values(['Carrier', 'Period'])\n",
    "\n",
    "fig = px.bar(ref_fig, \n",
    "             x='Vehicle Class', \n",
    "             y='Capacity (M units)', \n",
    "             color='Carrier', \n",
    "             barmode='stack', \n",
    "             facet_col='Period',\n",
    "             facet_col_spacing=2E-2,\n",
    "             template='plotly_white',\n",
    "             color_discrete_sequence=px.colors.qualitative.G10[:7] + px.colors.qualitative.G10[8:],\n",
    "             text_auto='.2f',\n",
    "            #  text='Demand (PJ)_sum'\n",
    "             width=1000, height=650,\n",
    "             )\n",
    "\n",
    "fig.update_layout(title=dict(\n",
    "        text='Transportation LDV fleet stock in ON by vehicle class and drivetrain',\n",
    "        x=0.5, \n",
    "        y=0.97,\n",
    "        xanchor='center',\n",
    "        yanchor='top'\n",
    "    ),\n",
    "    xaxis=dict(title='Period'),\n",
    "    yaxis=dict(title='Fleet stock (M units)',\n",
    "               dtick=1),\n",
    "    yaxis_title_standoff=0,\n",
    "    legend_title_text='',\n",
    "    bargap=0.1,\n",
    "    legend=dict(\n",
    "        orientation='h',  \n",
    "        yanchor='top',\n",
    "        y=1.03,  \n",
    "        xanchor='center',\n",
    "        x=0.5),\n",
    "    font=dict(\n",
    "        # family=\"Open Sans\",\n",
    "        size=14)\n",
    "    )\n",
    "\n",
    "for annotation in fig.layout.annotations:\n",
    "    annotation.text = annotation.text.split('=')[1]\n",
    "    annotation.y = -0.08  \n",
    "    annotation.yanchor = 'top' \n",
    "\n",
    "for axis in fig.layout:\n",
    "    if axis.startswith('yaxis'):\n",
    "        fig.layout[axis].dtick = 1\n",
    "\n",
    "for axis in fig.layout:\n",
    "    if axis.startswith('xaxis'):\n",
    "        fig.layout[axis].title.text = ''\n",
    "\n",
    "fig.for_each_trace(lambda trace: trace.update(textfont=dict(size=9)))\n",
    "\n",
    "fig.show()"
   ]
  },
  {
   "cell_type": "code",
   "execution_count": 74,
   "metadata": {},
   "outputs": [
    {
     "data": {
      "application/vnd.plotly.v1+json": {
       "config": {
        "plotlyServerURL": "https://plot.ly"
       },
       "data": [
        {
         "alignmentgroup": "True",
         "hovertemplate": "Carrier=Gasoline<br>Period=2021<br>Vehicle Class=%{x}<br>Capacity (k units)=%{y}<extra></extra>",
         "legendgroup": "Gasoline",
         "marker": {
          "color": "#3366CC",
          "pattern": {
           "shape": ""
          }
         },
         "name": "Gasoline",
         "offsetgroup": "Gasoline",
         "orientation": "v",
         "showlegend": true,
         "textfont": {
          "size": 9
         },
         "textposition": "auto",
         "texttemplate": "%{y:.1f}",
         "type": "bar",
         "x": [
          "Bus",
          "MD Truck"
         ],
         "xaxis": "x",
         "y": [
          1.5148409126184623,
          150.78349818210032
         ],
         "yaxis": "y"
        },
        {
         "alignmentgroup": "True",
         "hovertemplate": "Carrier=Gasoline<br>Period=2025<br>Vehicle Class=%{x}<br>Capacity (k units)=%{y}<extra></extra>",
         "legendgroup": "Gasoline",
         "marker": {
          "color": "#3366CC",
          "pattern": {
           "shape": ""
          }
         },
         "name": "Gasoline",
         "offsetgroup": "Gasoline",
         "orientation": "v",
         "showlegend": false,
         "textfont": {
          "size": 9
         },
         "textposition": "auto",
         "texttemplate": "%{y:.1f}",
         "type": "bar",
         "x": [
          "Bus",
          "MD Truck"
         ],
         "xaxis": "x2",
         "y": [
          1.4515367024286496,
          157.95297479493883
         ],
         "yaxis": "y2"
        },
        {
         "alignmentgroup": "True",
         "hovertemplate": "Carrier=Gasoline<br>Period=2030<br>Vehicle Class=%{x}<br>Capacity (k units)=%{y}<extra></extra>",
         "legendgroup": "Gasoline",
         "marker": {
          "color": "#3366CC",
          "pattern": {
           "shape": ""
          }
         },
         "name": "Gasoline",
         "offsetgroup": "Gasoline",
         "orientation": "v",
         "showlegend": false,
         "textfont": {
          "size": 9
         },
         "textposition": "auto",
         "texttemplate": "%{y:.1f}",
         "type": "bar",
         "x": [
          "Bus",
          "MD Truck"
         ],
         "xaxis": "x3",
         "y": [
          1.1102349327875554,
          142.61899023128717
         ],
         "yaxis": "y3"
        },
        {
         "alignmentgroup": "True",
         "hovertemplate": "Carrier=Gasoline<br>Period=2035<br>Vehicle Class=%{x}<br>Capacity (k units)=%{y}<extra></extra>",
         "legendgroup": "Gasoline",
         "marker": {
          "color": "#3366CC",
          "pattern": {
           "shape": ""
          }
         },
         "name": "Gasoline",
         "offsetgroup": "Gasoline",
         "orientation": "v",
         "showlegend": false,
         "textfont": {
          "size": 9
         },
         "textposition": "auto",
         "texttemplate": "%{y:.1f}",
         "type": "bar",
         "x": [
          "Bus",
          "MD Truck"
         ],
         "xaxis": "x4",
         "y": [
          0.005537963512038116,
          177.0886821057282
         ],
         "yaxis": "y4"
        },
        {
         "alignmentgroup": "True",
         "hovertemplate": "Carrier=Gasoline<br>Period=2040<br>Vehicle Class=%{x}<br>Capacity (k units)=%{y}<extra></extra>",
         "legendgroup": "Gasoline",
         "marker": {
          "color": "#3366CC",
          "pattern": {
           "shape": ""
          }
         },
         "name": "Gasoline",
         "offsetgroup": "Gasoline",
         "orientation": "v",
         "showlegend": false,
         "textfont": {
          "size": 9
         },
         "textposition": "auto",
         "texttemplate": "%{y:.1f}",
         "type": "bar",
         "x": [
          "Bus",
          "MD Truck"
         ],
         "xaxis": "x5",
         "y": [
          0.0026359098029345098,
          95.41007392362783
         ],
         "yaxis": "y5"
        },
        {
         "alignmentgroup": "True",
         "hovertemplate": "Carrier=Gasoline<br>Period=2045<br>Vehicle Class=%{x}<br>Capacity (k units)=%{y}<extra></extra>",
         "legendgroup": "Gasoline",
         "marker": {
          "color": "#3366CC",
          "pattern": {
           "shape": ""
          }
         },
         "name": "Gasoline",
         "offsetgroup": "Gasoline",
         "orientation": "v",
         "showlegend": false,
         "textfont": {
          "size": 9
         },
         "textposition": "auto",
         "texttemplate": "%{y:.1f}",
         "type": "bar",
         "x": [
          "Bus",
          "MD Truck"
         ],
         "xaxis": "x6",
         "y": [
          1.3116675050364186,
          88.24059731078934
         ],
         "yaxis": "y6"
        },
        {
         "alignmentgroup": "True",
         "hovertemplate": "Carrier=Gasoline<br>Period=2050<br>Vehicle Class=%{x}<br>Capacity (k units)=%{y}<extra></extra>",
         "legendgroup": "Gasoline",
         "marker": {
          "color": "#3366CC",
          "pattern": {
           "shape": ""
          }
         },
         "name": "Gasoline",
         "offsetgroup": "Gasoline",
         "orientation": "v",
         "showlegend": false,
         "textfont": {
          "size": 9
         },
         "textposition": "auto",
         "texttemplate": "%{y:.1f}",
         "type": "bar",
         "x": [
          "Bus",
          "MD Truck"
         ],
         "xaxis": "x7",
         "y": [
          2.3048160302373795,
          75.02024187444103
         ],
         "yaxis": "y7"
        },
        {
         "alignmentgroup": "True",
         "hovertemplate": "Carrier=Diesel<br>Period=2021<br>Vehicle Class=%{x}<br>Capacity (k units)=%{y}<extra></extra>",
         "legendgroup": "Diesel",
         "marker": {
          "color": "#DC3912",
          "pattern": {
           "shape": ""
          }
         },
         "name": "Diesel",
         "offsetgroup": "Diesel",
         "orientation": "v",
         "showlegend": true,
         "textfont": {
          "size": 9
         },
         "textposition": "auto",
         "texttemplate": "%{y:.1f}",
         "type": "bar",
         "x": [
          "Bus",
          "HD Truck",
          "MD Truck"
         ],
         "xaxis": "x",
         "y": [
          21.94471088564351,
          139.67157425932172,
          257.48591749291666
         ],
         "yaxis": "y"
        },
        {
         "alignmentgroup": "True",
         "hovertemplate": "Carrier=Diesel<br>Period=2025<br>Vehicle Class=%{x}<br>Capacity (k units)=%{y}<extra></extra>",
         "legendgroup": "Diesel",
         "marker": {
          "color": "#DC3912",
          "pattern": {
           "shape": ""
          }
         },
         "name": "Diesel",
         "offsetgroup": "Diesel",
         "orientation": "v",
         "showlegend": false,
         "textfont": {
          "size": 9
         },
         "textposition": "auto",
         "texttemplate": "%{y:.1f}",
         "type": "bar",
         "x": [
          "Bus",
          "HD Truck",
          "MD Truck"
         ],
         "xaxis": "x2",
         "y": [
          19.69721334792182,
          139.65175455258424,
          257.72842697485123
         ],
         "yaxis": "y2"
        },
        {
         "alignmentgroup": "True",
         "hovertemplate": "Carrier=Diesel<br>Period=2030<br>Vehicle Class=%{x}<br>Capacity (k units)=%{y}<extra></extra>",
         "legendgroup": "Diesel",
         "marker": {
          "color": "#DC3912",
          "pattern": {
           "shape": ""
          }
         },
         "name": "Diesel",
         "offsetgroup": "Diesel",
         "orientation": "v",
         "showlegend": false,
         "textfont": {
          "size": 9
         },
         "textposition": "auto",
         "texttemplate": "%{y:.1f}",
         "type": "bar",
         "x": [
          "Bus",
          "HD Truck",
          "MD Truck"
         ],
         "xaxis": "x3",
         "y": [
          12.618034381206561,
          137.01974904505465,
          207.70709902398346
         ],
         "yaxis": "y3"
        },
        {
         "alignmentgroup": "True",
         "hovertemplate": "Carrier=Diesel<br>Period=2035<br>Vehicle Class=%{x}<br>Capacity (k units)=%{y}<extra></extra>",
         "legendgroup": "Diesel",
         "marker": {
          "color": "#DC3912",
          "pattern": {
           "shape": ""
          }
         },
         "name": "Diesel",
         "offsetgroup": "Diesel",
         "orientation": "v",
         "showlegend": false,
         "textfont": {
          "size": 9
         },
         "textposition": "auto",
         "texttemplate": "%{y:.1f}",
         "type": "bar",
         "x": [
          "Bus",
          "HD Truck",
          "MD Truck"
         ],
         "xaxis": "x4",
         "y": [
          2.8068031505570796,
          116.20853164640585,
          136.33694209539038
         ],
         "yaxis": "y4"
        },
        {
         "alignmentgroup": "True",
         "hovertemplate": "Carrier=Diesel<br>Period=2040<br>Vehicle Class=%{x}<br>Capacity (k units)=%{y}<extra></extra>",
         "legendgroup": "Diesel",
         "marker": {
          "color": "#DC3912",
          "pattern": {
           "shape": ""
          }
         },
         "name": "Diesel",
         "offsetgroup": "Diesel",
         "orientation": "v",
         "showlegend": false,
         "textfont": {
          "size": 9
         },
         "textposition": "auto",
         "texttemplate": "%{y:.1f}",
         "type": "bar",
         "x": [
          "Bus",
          "HD Truck",
          "MD Truck"
         ],
         "xaxis": "x5",
         "y": [
          2.3387263761356496,
          60.62710416826319,
          0.7193446024737301
         ],
         "yaxis": "y5"
        },
        {
         "alignmentgroup": "True",
         "hovertemplate": "Carrier=Diesel<br>Period=2045<br>Vehicle Class=%{x}<br>Capacity (k units)=%{y}<extra></extra>",
         "legendgroup": "Diesel",
         "marker": {
          "color": "#DC3912",
          "pattern": {
           "shape": ""
          }
         },
         "name": "Diesel",
         "offsetgroup": "Diesel",
         "orientation": "v",
         "showlegend": false,
         "textfont": {
          "size": 9
         },
         "textposition": "auto",
         "texttemplate": "%{y:.1f}",
         "type": "bar",
         "x": [
          "Bus",
          "HD Truck",
          "MD Truck"
         ],
         "xaxis": "x6",
         "y": [
          1.0951605108157574,
          45.31203387500067,
          0.4768351205391555
         ],
         "yaxis": "y6"
        },
        {
         "alignmentgroup": "True",
         "hovertemplate": "Carrier=Diesel<br>Period=2050<br>Vehicle Class=%{x}<br>Capacity (k units)=%{y}<extra></extra>",
         "legendgroup": "Diesel",
         "marker": {
          "color": "#DC3912",
          "pattern": {
           "shape": ""
          }
         },
         "name": "Diesel",
         "offsetgroup": "Diesel",
         "orientation": "v",
         "showlegend": false,
         "textfont": {
          "size": 9
         },
         "textposition": "auto",
         "texttemplate": "%{y:.1f}",
         "type": "bar",
         "x": [
          "Bus",
          "HD Truck",
          "MD Truck"
         ],
         "xaxis": "x7",
         "y": [
          0.05897906569802213,
          21.73235938253028,
          0.1418230714069201
         ],
         "yaxis": "y7"
        },
        {
         "alignmentgroup": "True",
         "hovertemplate": "Carrier=CNG<br>Period=2021<br>Vehicle Class=%{x}<br>Capacity (k units)=%{y}<extra></extra>",
         "legendgroup": "CNG",
         "marker": {
          "color": "#FF9900",
          "pattern": {
           "shape": ""
          }
         },
         "name": "CNG",
         "offsetgroup": "CNG",
         "orientation": "v",
         "showlegend": true,
         "textfont": {
          "size": 9
         },
         "textposition": "auto",
         "texttemplate": "%{y:.1f}",
         "type": "bar",
         "x": [
          "Bus"
         ],
         "xaxis": "x",
         "y": [
          0.8922654785488463
         ],
         "yaxis": "y"
        },
        {
         "alignmentgroup": "True",
         "hovertemplate": "Carrier=CNG<br>Period=2025<br>Vehicle Class=%{x}<br>Capacity (k units)=%{y}<extra></extra>",
         "legendgroup": "CNG",
         "marker": {
          "color": "#FF9900",
          "pattern": {
           "shape": ""
          }
         },
         "name": "CNG",
         "offsetgroup": "CNG",
         "orientation": "v",
         "showlegend": false,
         "textfont": {
          "size": 9
         },
         "textposition": "auto",
         "texttemplate": "%{y:.1f}",
         "type": "bar",
         "x": [
          "Bus"
         ],
         "xaxis": "x2",
         "y": [
          0.8773161027828233
         ],
         "yaxis": "y2"
        },
        {
         "alignmentgroup": "True",
         "hovertemplate": "Carrier=CNG<br>Period=2030<br>Vehicle Class=%{x}<br>Capacity (k units)=%{y}<extra></extra>",
         "legendgroup": "CNG",
         "marker": {
          "color": "#FF9900",
          "pattern": {
           "shape": ""
          }
         },
         "name": "CNG",
         "offsetgroup": "CNG",
         "orientation": "v",
         "showlegend": false,
         "textfont": {
          "size": 9
         },
         "textposition": "auto",
         "texttemplate": "%{y:.1f}",
         "type": "bar",
         "x": [
          "Bus"
         ],
         "xaxis": "x3",
         "y": [
          0.8095255876270817
         ],
         "yaxis": "y3"
        },
        {
         "alignmentgroup": "True",
         "hovertemplate": "Carrier=CNG<br>Period=2035<br>Vehicle Class=%{x}<br>Capacity (k units)=%{y}<extra></extra>",
         "legendgroup": "CNG",
         "marker": {
          "color": "#FF9900",
          "pattern": {
           "shape": ""
          }
         },
         "name": "CNG",
         "offsetgroup": "CNG",
         "orientation": "v",
         "showlegend": false,
         "textfont": {
          "size": 9
         },
         "textposition": "auto",
         "texttemplate": "%{y:.1f}",
         "type": "bar",
         "x": [
          "Bus"
         ],
         "xaxis": "x4",
         "y": [
          0.004710109078235434
         ],
         "yaxis": "y4"
        },
        {
         "alignmentgroup": "True",
         "hovertemplate": "Carrier=CNG<br>Period=2040<br>Vehicle Class=%{x}<br>Capacity (k units)=%{y}<extra></extra>",
         "legendgroup": "CNG",
         "marker": {
          "color": "#FF9900",
          "pattern": {
           "shape": ""
          }
         },
         "name": "CNG",
         "offsetgroup": "CNG",
         "orientation": "v",
         "showlegend": false,
         "textfont": {
          "size": 9
         },
         "textposition": "auto",
         "texttemplate": "%{y:.1f}",
         "type": "bar",
         "x": [
          "Bus"
         ],
         "xaxis": "x5",
         "y": [
          0.001789484844258447
         ],
         "yaxis": "y5"
        },
        {
         "alignmentgroup": "True",
         "hovertemplate": "Carrier=CNG<br>Period=2045<br>Vehicle Class=%{x}<br>Capacity (k units)=%{y}<extra></extra>",
         "legendgroup": "CNG",
         "marker": {
          "color": "#FF9900",
          "pattern": {
           "shape": ""
          }
         },
         "name": "CNG",
         "offsetgroup": "CNG",
         "orientation": "v",
         "showlegend": false,
         "textfont": {
          "size": 9
         },
         "textposition": "auto",
         "texttemplate": "%{y:.1f}",
         "type": "bar",
         "x": [
          "Bus"
         ],
         "xaxis": "x6",
         "y": [
          0
         ],
         "yaxis": "y6"
        },
        {
         "alignmentgroup": "True",
         "hovertemplate": "Carrier=CNG<br>Period=2050<br>Vehicle Class=%{x}<br>Capacity (k units)=%{y}<extra></extra>",
         "legendgroup": "CNG",
         "marker": {
          "color": "#FF9900",
          "pattern": {
           "shape": ""
          }
         },
         "name": "CNG",
         "offsetgroup": "CNG",
         "orientation": "v",
         "showlegend": false,
         "textfont": {
          "size": 9
         },
         "textposition": "auto",
         "texttemplate": "%{y:.1f}",
         "type": "bar",
         "x": [
          "Bus"
         ],
         "xaxis": "x7",
         "y": [
          0
         ],
         "yaxis": "y7"
        },
        {
         "alignmentgroup": "True",
         "hovertemplate": "Carrier=HEV<br>Period=2021<br>Vehicle Class=%{x}<br>Capacity (k units)=%{y}<extra></extra>",
         "legendgroup": "HEV",
         "marker": {
          "color": "#109618",
          "pattern": {
           "shape": ""
          }
         },
         "name": "HEV",
         "offsetgroup": "HEV",
         "orientation": "v",
         "showlegend": true,
         "textfont": {
          "size": 9
         },
         "textposition": "auto",
         "texttemplate": "%{y:.1f}",
         "type": "bar",
         "x": [
          "Bus",
          "HD Truck",
          "MD Truck"
         ],
         "xaxis": "x",
         "y": [
          0.2310651382883904,
          0,
          0
         ],
         "yaxis": "y"
        },
        {
         "alignmentgroup": "True",
         "hovertemplate": "Carrier=HEV<br>Period=2025<br>Vehicle Class=%{x}<br>Capacity (k units)=%{y}<extra></extra>",
         "legendgroup": "HEV",
         "marker": {
          "color": "#109618",
          "pattern": {
           "shape": ""
          }
         },
         "name": "HEV",
         "offsetgroup": "HEV",
         "orientation": "v",
         "showlegend": false,
         "textfont": {
          "size": 9
         },
         "textposition": "auto",
         "texttemplate": "%{y:.1f}",
         "type": "bar",
         "x": [
          "Bus",
          "HD Truck",
          "MD Truck"
         ],
         "xaxis": "x2",
         "y": [
          0.2339871202120215,
          1.970000043446612,
          0.3838107203170292
         ],
         "yaxis": "y2"
        },
        {
         "alignmentgroup": "True",
         "hovertemplate": "Carrier=HEV<br>Period=2030<br>Vehicle Class=%{x}<br>Capacity (k units)=%{y}<extra></extra>",
         "legendgroup": "HEV",
         "marker": {
          "color": "#109618",
          "pattern": {
           "shape": ""
          }
         },
         "name": "HEV",
         "offsetgroup": "HEV",
         "orientation": "v",
         "showlegend": false,
         "textfont": {
          "size": 9
         },
         "textposition": "auto",
         "texttemplate": "%{y:.1f}",
         "type": "bar",
         "x": [
          "Bus",
          "HD Truck",
          "MD Truck"
         ],
         "xaxis": "x3",
         "y": [
          0.2363614070482351,
          6.764979532128727,
          0.7387947237159602
         ],
         "yaxis": "y3"
        },
        {
         "alignmentgroup": "True",
         "hovertemplate": "Carrier=HEV<br>Period=2035<br>Vehicle Class=%{x}<br>Capacity (k units)=%{y}<extra></extra>",
         "legendgroup": "HEV",
         "marker": {
          "color": "#109618",
          "pattern": {
           "shape": ""
          }
         },
         "name": "HEV",
         "offsetgroup": "HEV",
         "orientation": "v",
         "showlegend": false,
         "textfont": {
          "size": 9
         },
         "textposition": "auto",
         "texttemplate": "%{y:.1f}",
         "type": "bar",
         "x": [
          "Bus",
          "HD Truck",
          "MD Truck"
         ],
         "xaxis": "x4",
         "y": [
          0.00538140506263292,
          14.8293973029155,
          5.107680221103937
         ],
         "yaxis": "y4"
        },
        {
         "alignmentgroup": "True",
         "hovertemplate": "Carrier=HEV<br>Period=2040<br>Vehicle Class=%{x}<br>Capacity (k units)=%{y}<extra></extra>",
         "legendgroup": "HEV",
         "marker": {
          "color": "#109618",
          "pattern": {
           "shape": ""
          }
         },
         "name": "HEV",
         "offsetgroup": "HEV",
         "orientation": "v",
         "showlegend": false,
         "textfont": {
          "size": 9
         },
         "textposition": "auto",
         "texttemplate": "%{y:.1f}",
         "type": "bar",
         "x": [
          "Bus",
          "HD Truck",
          "MD Truck"
         ],
         "xaxis": "x5",
         "y": [
          0.00250506667531026,
          24.93304351033607,
          5.107680221103937
         ],
         "yaxis": "y5"
        },
        {
         "alignmentgroup": "True",
         "hovertemplate": "Carrier=HEV<br>Period=2045<br>Vehicle Class=%{x}<br>Capacity (k units)=%{y}<extra></extra>",
         "legendgroup": "HEV",
         "marker": {
          "color": "#109618",
          "pattern": {
           "shape": ""
          }
         },
         "name": "HEV",
         "offsetgroup": "HEV",
         "orientation": "v",
         "showlegend": false,
         "textfont": {
          "size": 9
         },
         "textposition": "auto",
         "texttemplate": "%{y:.1f}",
         "type": "bar",
         "x": [
          "Bus",
          "HD Truck",
          "MD Truck"
         ],
         "xaxis": "x6",
         "y": [
          0.0001307798390967,
          22.96304346688946,
          4.723869500786908
         ],
         "yaxis": "y6"
        },
        {
         "alignmentgroup": "True",
         "hovertemplate": "Carrier=HEV<br>Period=2050<br>Vehicle Class=%{x}<br>Capacity (k units)=%{y}<extra></extra>",
         "legendgroup": "HEV",
         "marker": {
          "color": "#109618",
          "pattern": {
           "shape": ""
          }
         },
         "name": "HEV",
         "offsetgroup": "HEV",
         "orientation": "v",
         "showlegend": false,
         "textfont": {
          "size": 9
         },
         "textposition": "auto",
         "texttemplate": "%{y:.1f}",
         "type": "bar",
         "x": [
          "Bus",
          "HD Truck",
          "MD Truck"
         ],
         "xaxis": "x7",
         "y": [
          0.00004564353630847358,
          18.16806397820735,
          4.368885497387977
         ],
         "yaxis": "y7"
        },
        {
         "alignmentgroup": "True",
         "hovertemplate": "Carrier=PHEV<br>Period=2021<br>Vehicle Class=%{x}<br>Capacity (k units)=%{y}<extra></extra>",
         "legendgroup": "PHEV",
         "marker": {
          "color": "#990099",
          "pattern": {
           "shape": ""
          }
         },
         "name": "PHEV",
         "offsetgroup": "PHEV",
         "orientation": "v",
         "showlegend": true,
         "textfont": {
          "size": 9
         },
         "textposition": "auto",
         "texttemplate": "%{y:.1f}",
         "type": "bar",
         "x": [
          "Bus",
          "HD Truck",
          "MD Truck"
         ],
         "xaxis": "x",
         "y": [
          0,
          0,
          0
         ],
         "yaxis": "y"
        },
        {
         "alignmentgroup": "True",
         "hovertemplate": "Carrier=PHEV<br>Period=2025<br>Vehicle Class=%{x}<br>Capacity (k units)=%{y}<extra></extra>",
         "legendgroup": "PHEV",
         "marker": {
          "color": "#990099",
          "pattern": {
           "shape": ""
          }
         },
         "name": "PHEV",
         "offsetgroup": "PHEV",
         "orientation": "v",
         "showlegend": false,
         "textfont": {
          "size": 9
         },
         "textposition": "auto",
         "texttemplate": "%{y:.1f}",
         "type": "bar",
         "x": [
          "Bus",
          "HD Truck",
          "MD Truck"
         ],
         "xaxis": "x2",
         "y": [
          0,
          0,
          3.249999481025406
         ],
         "yaxis": "y2"
        },
        {
         "alignmentgroup": "True",
         "hovertemplate": "Carrier=PHEV<br>Period=2030<br>Vehicle Class=%{x}<br>Capacity (k units)=%{y}<extra></extra>",
         "legendgroup": "PHEV",
         "marker": {
          "color": "#990099",
          "pattern": {
           "shape": ""
          }
         },
         "name": "PHEV",
         "offsetgroup": "PHEV",
         "orientation": "v",
         "showlegend": false,
         "textfont": {
          "size": 9
         },
         "textposition": "auto",
         "texttemplate": "%{y:.1f}",
         "type": "bar",
         "x": [
          "Bus",
          "HD Truck",
          "MD Truck"
         ],
         "xaxis": "x3",
         "y": [
          0,
          0,
          12.10125523965439
         ],
         "yaxis": "y3"
        },
        {
         "alignmentgroup": "True",
         "hovertemplate": "Carrier=PHEV<br>Period=2035<br>Vehicle Class=%{x}<br>Capacity (k units)=%{y}<extra></extra>",
         "legendgroup": "PHEV",
         "marker": {
          "color": "#990099",
          "pattern": {
           "shape": ""
          }
         },
         "name": "PHEV",
         "offsetgroup": "PHEV",
         "orientation": "v",
         "showlegend": false,
         "textfont": {
          "size": 9
         },
         "textposition": "auto",
         "texttemplate": "%{y:.1f}",
         "type": "bar",
         "x": [
          "Bus",
          "HD Truck",
          "MD Truck"
         ],
         "xaxis": "x4",
         "y": [
          0,
          1.9700083326520639,
          43.25040467355947
         ],
         "yaxis": "y4"
        },
        {
         "alignmentgroup": "True",
         "hovertemplate": "Carrier=PHEV<br>Period=2040<br>Vehicle Class=%{x}<br>Capacity (k units)=%{y}<extra></extra>",
         "legendgroup": "PHEV",
         "marker": {
          "color": "#990099",
          "pattern": {
           "shape": ""
          }
         },
         "name": "PHEV",
         "offsetgroup": "PHEV",
         "orientation": "v",
         "showlegend": false,
         "textfont": {
          "size": 9
         },
         "textposition": "auto",
         "texttemplate": "%{y:.1f}",
         "type": "bar",
         "x": [
          "Bus",
          "HD Truck",
          "MD Truck"
         ],
         "xaxis": "x5",
         "y": [
          0,
          6.759090095504359,
          43.25044461084151
         ],
         "yaxis": "y5"
        },
        {
         "alignmentgroup": "True",
         "hovertemplate": "Carrier=PHEV<br>Period=2045<br>Vehicle Class=%{x}<br>Capacity (k units)=%{y}<extra></extra>",
         "legendgroup": "PHEV",
         "marker": {
          "color": "#990099",
          "pattern": {
           "shape": ""
          }
         },
         "name": "PHEV",
         "offsetgroup": "PHEV",
         "orientation": "v",
         "showlegend": false,
         "textfont": {
          "size": 9
         },
         "textposition": "auto",
         "texttemplate": "%{y:.1f}",
         "type": "bar",
         "x": [
          "Bus",
          "HD Truck",
          "MD Truck"
         ],
         "xaxis": "x6",
         "y": [
          0,
          7.402437059690476,
          40.0004451298161
         ],
         "yaxis": "y6"
        },
        {
         "alignmentgroup": "True",
         "hovertemplate": "Carrier=PHEV<br>Period=2050<br>Vehicle Class=%{x}<br>Capacity (k units)=%{y}<extra></extra>",
         "legendgroup": "PHEV",
         "marker": {
          "color": "#990099",
          "pattern": {
           "shape": ""
          }
         },
         "name": "PHEV",
         "offsetgroup": "PHEV",
         "orientation": "v",
         "showlegend": false,
         "textfont": {
          "size": 9
         },
         "textposition": "auto",
         "texttemplate": "%{y:.1f}",
         "type": "bar",
         "x": [
          "Bus",
          "HD Truck",
          "MD Truck"
         ],
         "xaxis": "x7",
         "y": [
          0,
          8.859199760394933,
          34.39918482584831
         ],
         "yaxis": "y7"
        },
        {
         "alignmentgroup": "True",
         "hovertemplate": "Carrier=BEV<br>Period=2021<br>Vehicle Class=%{x}<br>Capacity (k units)=%{y}<extra></extra>",
         "legendgroup": "BEV",
         "marker": {
          "color": "#0099C6",
          "pattern": {
           "shape": ""
          }
         },
         "name": "BEV",
         "offsetgroup": "BEV",
         "orientation": "v",
         "showlegend": true,
         "textfont": {
          "size": 9
         },
         "textposition": "auto",
         "texttemplate": "%{y:.1f}",
         "type": "bar",
         "x": [
          "Bus",
          "HD Truck",
          "MD Truck"
         ],
         "xaxis": "x",
         "y": [
          2.821575811780707,
          0,
          0
         ],
         "yaxis": "y"
        },
        {
         "alignmentgroup": "True",
         "hovertemplate": "Carrier=BEV<br>Period=2025<br>Vehicle Class=%{x}<br>Capacity (k units)=%{y}<extra></extra>",
         "legendgroup": "BEV",
         "marker": {
          "color": "#0099C6",
          "pattern": {
           "shape": ""
          }
         },
         "name": "BEV",
         "offsetgroup": "BEV",
         "orientation": "v",
         "showlegend": false,
         "textfont": {
          "size": 9
         },
         "textposition": "auto",
         "texttemplate": "%{y:.1f}",
         "type": "bar",
         "x": [
          "Bus",
          "HD Truck",
          "MD Truck"
         ],
         "xaxis": "x2",
         "y": [
          5.316389035309717,
          1.9700001149015982,
          3.249999952484961
         ],
         "yaxis": "y2"
        },
        {
         "alignmentgroup": "True",
         "hovertemplate": "Carrier=BEV<br>Period=2030<br>Vehicle Class=%{x}<br>Capacity (k units)=%{y}<extra></extra>",
         "legendgroup": "BEV",
         "marker": {
          "color": "#0099C6",
          "pattern": {
           "shape": ""
          }
         },
         "name": "BEV",
         "offsetgroup": "BEV",
         "orientation": "v",
         "showlegend": false,
         "textfont": {
          "size": 9
         },
         "textposition": "auto",
         "texttemplate": "%{y:.1f}",
         "type": "bar",
         "x": [
          "Bus",
          "HD Truck",
          "MD Truck"
         ],
         "xaxis": "x3",
         "y": [
          16.88442245160914,
          6.764980209099367,
          13.04224973231844
         ],
         "yaxis": "y3"
        },
        {
         "alignmentgroup": "True",
         "hovertemplate": "Carrier=BEV<br>Period=2035<br>Vehicle Class=%{x}<br>Capacity (k units)=%{y}<extra></extra>",
         "legendgroup": "BEV",
         "marker": {
          "color": "#0099C6",
          "pattern": {
           "shape": ""
          }
         },
         "name": "BEV",
         "offsetgroup": "BEV",
         "orientation": "v",
         "showlegend": false,
         "textfont": {
          "size": 9
         },
         "textposition": "auto",
         "texttemplate": "%{y:.1f}",
         "type": "bar",
         "x": [
          "Bus",
          "HD Truck",
          "MD Truck"
         ],
         "xaxis": "x4",
         "y": [
          24.00726371652674,
          14.82939980903685,
          47.1574201958536
         ],
         "yaxis": "y4"
        },
        {
         "alignmentgroup": "True",
         "hovertemplate": "Carrier=BEV<br>Period=2040<br>Vehicle Class=%{x}<br>Capacity (k units)=%{y}<extra></extra>",
         "legendgroup": "BEV",
         "marker": {
          "color": "#0099C6",
          "pattern": {
           "shape": ""
          }
         },
         "name": "BEV",
         "offsetgroup": "BEV",
         "orientation": "v",
         "showlegend": false,
         "textfont": {
          "size": 9
         },
         "textposition": "auto",
         "texttemplate": "%{y:.1f}",
         "type": "bar",
         "x": [
          "Bus",
          "HD Truck",
          "MD Truck"
         ],
         "xaxis": "x5",
         "y": [
          28.88565322425566,
          28.33958406631181,
          90.76566436079456
         ],
         "yaxis": "y5"
        },
        {
         "alignmentgroup": "True",
         "hovertemplate": "Carrier=BEV<br>Period=2045<br>Vehicle Class=%{x}<br>Capacity (k units)=%{y}<extra></extra>",
         "legendgroup": "BEV",
         "marker": {
          "color": "#0099C6",
          "pattern": {
           "shape": ""
          }
         },
         "name": "BEV",
         "offsetgroup": "BEV",
         "orientation": "v",
         "showlegend": false,
         "textfont": {
          "size": 9
         },
         "textposition": "auto",
         "texttemplate": "%{y:.1f}",
         "type": "bar",
         "x": [
          "Bus",
          "HD Truck",
          "MD Truck"
         ],
         "xaxis": "x6",
         "y": [
          29.50393657508791,
          42.70090940998999,
          142.354113684949
         ],
         "yaxis": "y6"
        },
        {
         "alignmentgroup": "True",
         "hovertemplate": "Carrier=BEV<br>Period=2050<br>Vehicle Class=%{x}<br>Capacity (k units)=%{y}<extra></extra>",
         "legendgroup": "BEV",
         "marker": {
          "color": "#0099C6",
          "pattern": {
           "shape": ""
          }
         },
         "name": "BEV",
         "offsetgroup": "BEV",
         "orientation": "v",
         "showlegend": false,
         "textfont": {
          "size": 9
         },
         "textposition": "auto",
         "texttemplate": "%{y:.1f}",
         "type": "bar",
         "x": [
          "Bus",
          "HD Truck",
          "MD Truck"
         ],
         "xaxis": "x7",
         "y": [
          30.951082045682803,
          60.40440399524061,
          263.8596410179632
         ],
         "yaxis": "y7"
        },
        {
         "alignmentgroup": "True",
         "hovertemplate": "Carrier=FCEV<br>Period=2021<br>Vehicle Class=%{x}<br>Capacity (k units)=%{y}<extra></extra>",
         "legendgroup": "FCEV",
         "marker": {
          "color": "#DD4477",
          "pattern": {
           "shape": ""
          }
         },
         "name": "FCEV",
         "offsetgroup": "FCEV",
         "orientation": "v",
         "showlegend": true,
         "textfont": {
          "size": 9
         },
         "textposition": "auto",
         "texttemplate": "%{y:.1f}",
         "type": "bar",
         "x": [
          "Bus",
          "HD Truck",
          "MD Truck"
         ],
         "xaxis": "x",
         "y": [
          0,
          0,
          0
         ],
         "yaxis": "y"
        },
        {
         "alignmentgroup": "True",
         "hovertemplate": "Carrier=FCEV<br>Period=2025<br>Vehicle Class=%{x}<br>Capacity (k units)=%{y}<extra></extra>",
         "legendgroup": "FCEV",
         "marker": {
          "color": "#DD4477",
          "pattern": {
           "shape": ""
          }
         },
         "name": "FCEV",
         "offsetgroup": "FCEV",
         "orientation": "v",
         "showlegend": false,
         "textfont": {
          "size": 9
         },
         "textposition": "auto",
         "texttemplate": "%{y:.1f}",
         "type": "bar",
         "x": [
          "Bus",
          "HD Truck",
          "MD Truck"
         ],
         "xaxis": "x2",
         "y": [
          4.557562303151737,
          3.939999613699924,
          6.499999725816556
         ],
         "yaxis": "y2"
        },
        {
         "alignmentgroup": "True",
         "hovertemplate": "Carrier=FCEV<br>Period=2030<br>Vehicle Class=%{x}<br>Capacity (k units)=%{y}<extra></extra>",
         "legendgroup": "FCEV",
         "marker": {
          "color": "#DD4477",
          "pattern": {
           "shape": ""
          }
         },
         "name": "FCEV",
         "offsetgroup": "FCEV",
         "orientation": "v",
         "showlegend": false,
         "textfont": {
          "size": 9
         },
         "textposition": "auto",
         "texttemplate": "%{y:.1f}",
         "type": "bar",
         "x": [
          "Bus",
          "HD Truck",
          "MD Truck"
         ],
         "xaxis": "x3",
         "y": [
          4.615180787663211,
          13.529958718578973,
          26.08449827988802
         ],
         "yaxis": "y3"
        },
        {
         "alignmentgroup": "True",
         "hovertemplate": "Carrier=FCEV<br>Period=2035<br>Vehicle Class=%{x}<br>Capacity (k units)=%{y}<extra></extra>",
         "legendgroup": "FCEV",
         "marker": {
          "color": "#DD4477",
          "pattern": {
           "shape": ""
          }
         },
         "name": "FCEV",
         "offsetgroup": "FCEV",
         "orientation": "v",
         "showlegend": false,
         "textfont": {
          "size": 9
         },
         "textposition": "auto",
         "texttemplate": "%{y:.1f}",
         "type": "bar",
         "x": [
          "Bus",
          "HD Truck",
          "MD Truck"
         ],
         "xaxis": "x4",
         "y": [
          4.657542841288796,
          29.658796398094253,
          94.31482607282726
         ],
         "yaxis": "y4"
        },
        {
         "alignmentgroup": "True",
         "hovertemplate": "Carrier=FCEV<br>Period=2040<br>Vehicle Class=%{x}<br>Capacity (k units)=%{y}<extra></extra>",
         "legendgroup": "FCEV",
         "marker": {
          "color": "#DD4477",
          "pattern": {
           "shape": ""
          }
         },
         "name": "FCEV",
         "offsetgroup": "FCEV",
         "orientation": "v",
         "showlegend": false,
         "textfont": {
          "size": 9
         },
         "textposition": "auto",
         "texttemplate": "%{y:.1f}",
         "type": "bar",
         "x": [
          "Bus",
          "HD Truck",
          "MD Truck"
         ],
         "xaxis": "x5",
         "y": [
          0.553030591849159,
          56.679161735570425,
          144.86903502311972
         ],
         "yaxis": "y5"
        },
        {
         "alignmentgroup": "True",
         "hovertemplate": "Carrier=FCEV<br>Period=2045<br>Vehicle Class=%{x}<br>Capacity (k units)=%{y}<extra></extra>",
         "legendgroup": "FCEV",
         "marker": {
          "color": "#DD4477",
          "pattern": {
           "shape": ""
          }
         },
         "name": "FCEV",
         "offsetgroup": "FCEV",
         "orientation": "v",
         "showlegend": false,
         "textfont": {
          "size": 9
         },
         "textposition": "auto",
         "texttemplate": "%{y:.1f}",
         "type": "bar",
         "x": [
          "Bus",
          "HD Truck",
          "MD Truck"
         ],
         "xaxis": "x6",
         "y": [
          0.5065724982310325,
          76.86039680072597,
          165.1614454100476
         ],
         "yaxis": "y6"
        },
        {
         "alignmentgroup": "True",
         "hovertemplate": "Carrier=FCEV<br>Period=2050<br>Vehicle Class=%{x}<br>Capacity (k units)=%{y}<extra></extra>",
         "legendgroup": "FCEV",
         "marker": {
          "color": "#DD4477",
          "pattern": {
           "shape": ""
          }
         },
         "name": "FCEV",
         "offsetgroup": "FCEV",
         "orientation": "v",
         "showlegend": false,
         "textfont": {
          "size": 9
         },
         "textposition": "auto",
         "texttemplate": "%{y:.1f}",
         "type": "bar",
         "x": [
          "Bus",
          "HD Truck",
          "MD Truck"
         ],
         "xaxis": "x7",
         "y": [
          0.47090652238953556,
          101.53079838134116,
          214.63722645230666
         ],
         "yaxis": "y7"
        }
       ],
       "layout": {
        "annotations": [
         {
          "font": {},
          "showarrow": false,
          "text": "2021",
          "x": 0.06285714285714285,
          "xanchor": "center",
          "xref": "paper",
          "y": -0.1,
          "yanchor": "top",
          "yref": "paper"
         },
         {
          "font": {},
          "showarrow": false,
          "text": "2025",
          "x": 0.20857142857142852,
          "xanchor": "center",
          "xref": "paper",
          "y": -0.1,
          "yanchor": "top",
          "yref": "paper"
         },
         {
          "font": {},
          "showarrow": false,
          "text": "2030",
          "x": 0.3542857142857142,
          "xanchor": "center",
          "xref": "paper",
          "y": -0.1,
          "yanchor": "top",
          "yref": "paper"
         },
         {
          "font": {},
          "showarrow": false,
          "text": "2035",
          "x": 0.5,
          "xanchor": "center",
          "xref": "paper",
          "y": -0.1,
          "yanchor": "top",
          "yref": "paper"
         },
         {
          "font": {},
          "showarrow": false,
          "text": "2040",
          "x": 0.6457142857142856,
          "xanchor": "center",
          "xref": "paper",
          "y": -0.1,
          "yanchor": "top",
          "yref": "paper"
         },
         {
          "font": {},
          "showarrow": false,
          "text": "2045",
          "x": 0.7914285714285713,
          "xanchor": "center",
          "xref": "paper",
          "y": -0.1,
          "yanchor": "top",
          "yref": "paper"
         },
         {
          "font": {},
          "showarrow": false,
          "text": "2050",
          "x": 0.937142857142857,
          "xanchor": "center",
          "xref": "paper",
          "y": -0.1,
          "yanchor": "top",
          "yref": "paper"
         }
        ],
        "bargap": 0.1,
        "barmode": "stack",
        "font": {
         "size": 14
        },
        "height": 650,
        "legend": {
         "orientation": "h",
         "title": {
          "text": ""
         },
         "tracegroupgap": 0,
         "x": 0.5,
         "xanchor": "center",
         "y": 1.02,
         "yanchor": "top"
        },
        "margin": {
         "t": 60
        },
        "template": {
         "data": {
          "bar": [
           {
            "error_x": {
             "color": "#2a3f5f"
            },
            "error_y": {
             "color": "#2a3f5f"
            },
            "marker": {
             "line": {
              "color": "white",
              "width": 0.5
             },
             "pattern": {
              "fillmode": "overlay",
              "size": 10,
              "solidity": 0.2
             }
            },
            "type": "bar"
           }
          ],
          "barpolar": [
           {
            "marker": {
             "line": {
              "color": "white",
              "width": 0.5
             },
             "pattern": {
              "fillmode": "overlay",
              "size": 10,
              "solidity": 0.2
             }
            },
            "type": "barpolar"
           }
          ],
          "carpet": [
           {
            "aaxis": {
             "endlinecolor": "#2a3f5f",
             "gridcolor": "#C8D4E3",
             "linecolor": "#C8D4E3",
             "minorgridcolor": "#C8D4E3",
             "startlinecolor": "#2a3f5f"
            },
            "baxis": {
             "endlinecolor": "#2a3f5f",
             "gridcolor": "#C8D4E3",
             "linecolor": "#C8D4E3",
             "minorgridcolor": "#C8D4E3",
             "startlinecolor": "#2a3f5f"
            },
            "type": "carpet"
           }
          ],
          "choropleth": [
           {
            "colorbar": {
             "outlinewidth": 0,
             "ticks": ""
            },
            "type": "choropleth"
           }
          ],
          "contour": [
           {
            "colorbar": {
             "outlinewidth": 0,
             "ticks": ""
            },
            "colorscale": [
             [
              0,
              "#0d0887"
             ],
             [
              0.1111111111111111,
              "#46039f"
             ],
             [
              0.2222222222222222,
              "#7201a8"
             ],
             [
              0.3333333333333333,
              "#9c179e"
             ],
             [
              0.4444444444444444,
              "#bd3786"
             ],
             [
              0.5555555555555556,
              "#d8576b"
             ],
             [
              0.6666666666666666,
              "#ed7953"
             ],
             [
              0.7777777777777778,
              "#fb9f3a"
             ],
             [
              0.8888888888888888,
              "#fdca26"
             ],
             [
              1,
              "#f0f921"
             ]
            ],
            "type": "contour"
           }
          ],
          "contourcarpet": [
           {
            "colorbar": {
             "outlinewidth": 0,
             "ticks": ""
            },
            "type": "contourcarpet"
           }
          ],
          "heatmap": [
           {
            "colorbar": {
             "outlinewidth": 0,
             "ticks": ""
            },
            "colorscale": [
             [
              0,
              "#0d0887"
             ],
             [
              0.1111111111111111,
              "#46039f"
             ],
             [
              0.2222222222222222,
              "#7201a8"
             ],
             [
              0.3333333333333333,
              "#9c179e"
             ],
             [
              0.4444444444444444,
              "#bd3786"
             ],
             [
              0.5555555555555556,
              "#d8576b"
             ],
             [
              0.6666666666666666,
              "#ed7953"
             ],
             [
              0.7777777777777778,
              "#fb9f3a"
             ],
             [
              0.8888888888888888,
              "#fdca26"
             ],
             [
              1,
              "#f0f921"
             ]
            ],
            "type": "heatmap"
           }
          ],
          "heatmapgl": [
           {
            "colorbar": {
             "outlinewidth": 0,
             "ticks": ""
            },
            "colorscale": [
             [
              0,
              "#0d0887"
             ],
             [
              0.1111111111111111,
              "#46039f"
             ],
             [
              0.2222222222222222,
              "#7201a8"
             ],
             [
              0.3333333333333333,
              "#9c179e"
             ],
             [
              0.4444444444444444,
              "#bd3786"
             ],
             [
              0.5555555555555556,
              "#d8576b"
             ],
             [
              0.6666666666666666,
              "#ed7953"
             ],
             [
              0.7777777777777778,
              "#fb9f3a"
             ],
             [
              0.8888888888888888,
              "#fdca26"
             ],
             [
              1,
              "#f0f921"
             ]
            ],
            "type": "heatmapgl"
           }
          ],
          "histogram": [
           {
            "marker": {
             "pattern": {
              "fillmode": "overlay",
              "size": 10,
              "solidity": 0.2
             }
            },
            "type": "histogram"
           }
          ],
          "histogram2d": [
           {
            "colorbar": {
             "outlinewidth": 0,
             "ticks": ""
            },
            "colorscale": [
             [
              0,
              "#0d0887"
             ],
             [
              0.1111111111111111,
              "#46039f"
             ],
             [
              0.2222222222222222,
              "#7201a8"
             ],
             [
              0.3333333333333333,
              "#9c179e"
             ],
             [
              0.4444444444444444,
              "#bd3786"
             ],
             [
              0.5555555555555556,
              "#d8576b"
             ],
             [
              0.6666666666666666,
              "#ed7953"
             ],
             [
              0.7777777777777778,
              "#fb9f3a"
             ],
             [
              0.8888888888888888,
              "#fdca26"
             ],
             [
              1,
              "#f0f921"
             ]
            ],
            "type": "histogram2d"
           }
          ],
          "histogram2dcontour": [
           {
            "colorbar": {
             "outlinewidth": 0,
             "ticks": ""
            },
            "colorscale": [
             [
              0,
              "#0d0887"
             ],
             [
              0.1111111111111111,
              "#46039f"
             ],
             [
              0.2222222222222222,
              "#7201a8"
             ],
             [
              0.3333333333333333,
              "#9c179e"
             ],
             [
              0.4444444444444444,
              "#bd3786"
             ],
             [
              0.5555555555555556,
              "#d8576b"
             ],
             [
              0.6666666666666666,
              "#ed7953"
             ],
             [
              0.7777777777777778,
              "#fb9f3a"
             ],
             [
              0.8888888888888888,
              "#fdca26"
             ],
             [
              1,
              "#f0f921"
             ]
            ],
            "type": "histogram2dcontour"
           }
          ],
          "mesh3d": [
           {
            "colorbar": {
             "outlinewidth": 0,
             "ticks": ""
            },
            "type": "mesh3d"
           }
          ],
          "parcoords": [
           {
            "line": {
             "colorbar": {
              "outlinewidth": 0,
              "ticks": ""
             }
            },
            "type": "parcoords"
           }
          ],
          "pie": [
           {
            "automargin": true,
            "type": "pie"
           }
          ],
          "scatter": [
           {
            "fillpattern": {
             "fillmode": "overlay",
             "size": 10,
             "solidity": 0.2
            },
            "type": "scatter"
           }
          ],
          "scatter3d": [
           {
            "line": {
             "colorbar": {
              "outlinewidth": 0,
              "ticks": ""
             }
            },
            "marker": {
             "colorbar": {
              "outlinewidth": 0,
              "ticks": ""
             }
            },
            "type": "scatter3d"
           }
          ],
          "scattercarpet": [
           {
            "marker": {
             "colorbar": {
              "outlinewidth": 0,
              "ticks": ""
             }
            },
            "type": "scattercarpet"
           }
          ],
          "scattergeo": [
           {
            "marker": {
             "colorbar": {
              "outlinewidth": 0,
              "ticks": ""
             }
            },
            "type": "scattergeo"
           }
          ],
          "scattergl": [
           {
            "marker": {
             "colorbar": {
              "outlinewidth": 0,
              "ticks": ""
             }
            },
            "type": "scattergl"
           }
          ],
          "scattermapbox": [
           {
            "marker": {
             "colorbar": {
              "outlinewidth": 0,
              "ticks": ""
             }
            },
            "type": "scattermapbox"
           }
          ],
          "scatterpolar": [
           {
            "marker": {
             "colorbar": {
              "outlinewidth": 0,
              "ticks": ""
             }
            },
            "type": "scatterpolar"
           }
          ],
          "scatterpolargl": [
           {
            "marker": {
             "colorbar": {
              "outlinewidth": 0,
              "ticks": ""
             }
            },
            "type": "scatterpolargl"
           }
          ],
          "scatterternary": [
           {
            "marker": {
             "colorbar": {
              "outlinewidth": 0,
              "ticks": ""
             }
            },
            "type": "scatterternary"
           }
          ],
          "surface": [
           {
            "colorbar": {
             "outlinewidth": 0,
             "ticks": ""
            },
            "colorscale": [
             [
              0,
              "#0d0887"
             ],
             [
              0.1111111111111111,
              "#46039f"
             ],
             [
              0.2222222222222222,
              "#7201a8"
             ],
             [
              0.3333333333333333,
              "#9c179e"
             ],
             [
              0.4444444444444444,
              "#bd3786"
             ],
             [
              0.5555555555555556,
              "#d8576b"
             ],
             [
              0.6666666666666666,
              "#ed7953"
             ],
             [
              0.7777777777777778,
              "#fb9f3a"
             ],
             [
              0.8888888888888888,
              "#fdca26"
             ],
             [
              1,
              "#f0f921"
             ]
            ],
            "type": "surface"
           }
          ],
          "table": [
           {
            "cells": {
             "fill": {
              "color": "#EBF0F8"
             },
             "line": {
              "color": "white"
             }
            },
            "header": {
             "fill": {
              "color": "#C8D4E3"
             },
             "line": {
              "color": "white"
             }
            },
            "type": "table"
           }
          ]
         },
         "layout": {
          "annotationdefaults": {
           "arrowcolor": "#2a3f5f",
           "arrowhead": 0,
           "arrowwidth": 1
          },
          "autotypenumbers": "strict",
          "coloraxis": {
           "colorbar": {
            "outlinewidth": 0,
            "ticks": ""
           }
          },
          "colorscale": {
           "diverging": [
            [
             0,
             "#8e0152"
            ],
            [
             0.1,
             "#c51b7d"
            ],
            [
             0.2,
             "#de77ae"
            ],
            [
             0.3,
             "#f1b6da"
            ],
            [
             0.4,
             "#fde0ef"
            ],
            [
             0.5,
             "#f7f7f7"
            ],
            [
             0.6,
             "#e6f5d0"
            ],
            [
             0.7,
             "#b8e186"
            ],
            [
             0.8,
             "#7fbc41"
            ],
            [
             0.9,
             "#4d9221"
            ],
            [
             1,
             "#276419"
            ]
           ],
           "sequential": [
            [
             0,
             "#0d0887"
            ],
            [
             0.1111111111111111,
             "#46039f"
            ],
            [
             0.2222222222222222,
             "#7201a8"
            ],
            [
             0.3333333333333333,
             "#9c179e"
            ],
            [
             0.4444444444444444,
             "#bd3786"
            ],
            [
             0.5555555555555556,
             "#d8576b"
            ],
            [
             0.6666666666666666,
             "#ed7953"
            ],
            [
             0.7777777777777778,
             "#fb9f3a"
            ],
            [
             0.8888888888888888,
             "#fdca26"
            ],
            [
             1,
             "#f0f921"
            ]
           ],
           "sequentialminus": [
            [
             0,
             "#0d0887"
            ],
            [
             0.1111111111111111,
             "#46039f"
            ],
            [
             0.2222222222222222,
             "#7201a8"
            ],
            [
             0.3333333333333333,
             "#9c179e"
            ],
            [
             0.4444444444444444,
             "#bd3786"
            ],
            [
             0.5555555555555556,
             "#d8576b"
            ],
            [
             0.6666666666666666,
             "#ed7953"
            ],
            [
             0.7777777777777778,
             "#fb9f3a"
            ],
            [
             0.8888888888888888,
             "#fdca26"
            ],
            [
             1,
             "#f0f921"
            ]
           ]
          },
          "colorway": [
           "#636efa",
           "#EF553B",
           "#00cc96",
           "#ab63fa",
           "#FFA15A",
           "#19d3f3",
           "#FF6692",
           "#B6E880",
           "#FF97FF",
           "#FECB52"
          ],
          "font": {
           "color": "#2a3f5f"
          },
          "geo": {
           "bgcolor": "white",
           "lakecolor": "white",
           "landcolor": "white",
           "showlakes": true,
           "showland": true,
           "subunitcolor": "#C8D4E3"
          },
          "hoverlabel": {
           "align": "left"
          },
          "hovermode": "closest",
          "mapbox": {
           "style": "light"
          },
          "paper_bgcolor": "white",
          "plot_bgcolor": "white",
          "polar": {
           "angularaxis": {
            "gridcolor": "#EBF0F8",
            "linecolor": "#EBF0F8",
            "ticks": ""
           },
           "bgcolor": "white",
           "radialaxis": {
            "gridcolor": "#EBF0F8",
            "linecolor": "#EBF0F8",
            "ticks": ""
           }
          },
          "scene": {
           "xaxis": {
            "backgroundcolor": "white",
            "gridcolor": "#DFE8F3",
            "gridwidth": 2,
            "linecolor": "#EBF0F8",
            "showbackground": true,
            "ticks": "",
            "zerolinecolor": "#EBF0F8"
           },
           "yaxis": {
            "backgroundcolor": "white",
            "gridcolor": "#DFE8F3",
            "gridwidth": 2,
            "linecolor": "#EBF0F8",
            "showbackground": true,
            "ticks": "",
            "zerolinecolor": "#EBF0F8"
           },
           "zaxis": {
            "backgroundcolor": "white",
            "gridcolor": "#DFE8F3",
            "gridwidth": 2,
            "linecolor": "#EBF0F8",
            "showbackground": true,
            "ticks": "",
            "zerolinecolor": "#EBF0F8"
           }
          },
          "shapedefaults": {
           "line": {
            "color": "#2a3f5f"
           }
          },
          "ternary": {
           "aaxis": {
            "gridcolor": "#DFE8F3",
            "linecolor": "#A2B1C6",
            "ticks": ""
           },
           "baxis": {
            "gridcolor": "#DFE8F3",
            "linecolor": "#A2B1C6",
            "ticks": ""
           },
           "bgcolor": "white",
           "caxis": {
            "gridcolor": "#DFE8F3",
            "linecolor": "#A2B1C6",
            "ticks": ""
           }
          },
          "title": {
           "x": 0.05
          },
          "xaxis": {
           "automargin": true,
           "gridcolor": "#EBF0F8",
           "linecolor": "#EBF0F8",
           "ticks": "",
           "title": {
            "standoff": 15
           },
           "zerolinecolor": "#EBF0F8",
           "zerolinewidth": 2
          },
          "yaxis": {
           "automargin": true,
           "gridcolor": "#EBF0F8",
           "linecolor": "#EBF0F8",
           "ticks": "",
           "title": {
            "standoff": 15
           },
           "zerolinecolor": "#EBF0F8",
           "zerolinewidth": 2
          }
         }
        },
        "title": {
         "text": "Transportation MHDV fleet stock in ON by vehicle class and drivetrain",
         "x": 0.5,
         "xanchor": "center",
         "y": 0.97,
         "yanchor": "top"
        },
        "width": 1150,
        "xaxis": {
         "anchor": "y",
         "domain": [
          0,
          0.1257142857142857
         ],
         "title": {
          "text": ""
         }
        },
        "xaxis2": {
         "anchor": "y2",
         "domain": [
          0.14571428571428569,
          0.27142857142857135
         ],
         "matches": "x",
         "title": {
          "text": ""
         }
        },
        "xaxis3": {
         "anchor": "y3",
         "domain": [
          0.29142857142857137,
          0.41714285714285704
         ],
         "matches": "x",
         "title": {
          "text": ""
         }
        },
        "xaxis4": {
         "anchor": "y4",
         "domain": [
          0.4371428571428571,
          0.5628571428571428
         ],
         "matches": "x",
         "title": {
          "text": ""
         }
        },
        "xaxis5": {
         "anchor": "y5",
         "domain": [
          0.5828571428571427,
          0.7085714285714284
         ],
         "matches": "x",
         "title": {
          "text": ""
         }
        },
        "xaxis6": {
         "anchor": "y6",
         "domain": [
          0.7285714285714284,
          0.8542857142857141
         ],
         "matches": "x",
         "title": {
          "text": ""
         }
        },
        "xaxis7": {
         "anchor": "y7",
         "domain": [
          0.8742857142857142,
          0.9999999999999999
         ],
         "matches": "x",
         "title": {
          "text": ""
         }
        },
        "yaxis": {
         "anchor": "x",
         "domain": [
          0,
          1
         ],
         "dtick": 100,
         "title": {
          "standoff": 0,
          "text": "Fleet stock (k units)"
         }
        },
        "yaxis2": {
         "anchor": "x2",
         "domain": [
          0,
          1
         ],
         "matches": "y",
         "showticklabels": false
        },
        "yaxis3": {
         "anchor": "x3",
         "domain": [
          0,
          1
         ],
         "matches": "y",
         "showticklabels": false
        },
        "yaxis4": {
         "anchor": "x4",
         "domain": [
          0,
          1
         ],
         "matches": "y",
         "showticklabels": false
        },
        "yaxis5": {
         "anchor": "x5",
         "domain": [
          0,
          1
         ],
         "matches": "y",
         "showticklabels": false
        },
        "yaxis6": {
         "anchor": "x6",
         "domain": [
          0,
          1
         ],
         "matches": "y",
         "showticklabels": false
        },
        "yaxis7": {
         "anchor": "x7",
         "domain": [
          0,
          1
         ],
         "matches": "y",
         "showticklabels": false
        }
       }
      }
     },
     "metadata": {},
     "output_type": "display_data"
    }
   ],
   "source": [
    "ref_fig = ref_trncap[ref_trncap['Vehicle Class'].isin(['MD Truck', 'HD Truck', 'Bus'])][['Period', 'Vehicle Class', 'Capacity (M units)', 'Carrier']].groupby(['Period', 'Vehicle Class', 'Carrier'], as_index=False).sum()\n",
    "ref_fig['Capacity (k units)'] = ref_fig['Capacity (M units)']*1E3\n",
    "\n",
    "ref_fig['Carrier'] = pd.Categorical(ref_fig['Carrier'], categories=drivetrain_order, ordered=True)\n",
    "ref_fig = ref_fig.sort_values(['Carrier', 'Period'])\n",
    "\n",
    "fig = px.bar(ref_fig, \n",
    "             x='Vehicle Class', \n",
    "             y='Capacity (k units)', \n",
    "             color='Carrier', \n",
    "             barmode='stack', \n",
    "             facet_col='Period',\n",
    "             facet_col_spacing=2E-2,\n",
    "             template='plotly_white',\n",
    "             color_discrete_sequence=px.colors.qualitative.G10[:7] + px.colors.qualitative.G10[8:],\n",
    "             text_auto='.1f',\n",
    "            #  text='Demand (PJ)_sum'\n",
    "             width=1150, height=650,\n",
    "             )\n",
    "\n",
    "fig.update_layout(title=dict(\n",
    "        text='Transportation MHDV fleet stock in ON by vehicle class and drivetrain',\n",
    "        x=0.5, \n",
    "        y=0.97,\n",
    "        xanchor='center',\n",
    "        yanchor='top'\n",
    "    ),\n",
    "    xaxis=dict(title='Period'),\n",
    "    yaxis=dict(title='Fleet stock (k units)',\n",
    "               dtick=100),\n",
    "    yaxis_title_standoff=0,\n",
    "    legend_title_text='',\n",
    "    bargap=0.1,\n",
    "    legend=dict(\n",
    "        orientation='h',  \n",
    "        yanchor='top',\n",
    "        y=1.02,  \n",
    "        xanchor='center',\n",
    "        x=0.5),\n",
    "    font=dict(\n",
    "        # family=\"Open Sans\",\n",
    "        size=14)\n",
    "    )\n",
    "\n",
    "for annotation in fig.layout.annotations:\n",
    "    annotation.text = annotation.text.split('=')[1]\n",
    "    annotation.y = -0.1  \n",
    "    annotation.yanchor = 'top' \n",
    "\n",
    "for axis in fig.layout:\n",
    "    if axis.startswith('xaxis'):\n",
    "        fig.layout[axis].title.text = ''\n",
    "\n",
    "fig.for_each_trace(lambda trace: trace.update(textfont=dict(size=9)))\n",
    "\n",
    "fig.show()"
   ]
  },
  {
   "cell_type": "markdown",
   "metadata": {},
   "source": [
    "# Added Capacity"
   ]
  },
  {
   "cell_type": "code",
   "execution_count": 75,
   "metadata": {},
   "outputs": [],
   "source": [
    "# ref_file = canoe_results + '/builtcapacity.csv'\n",
    "# ref_newcap = pd.read_csv(ref_file)\n",
    "# ref_newcap.rename(columns={'sector': 'Sector', 'tech': 'Technology', 'vintage': 'Period', 'capacity': 'New Capacity'}, inplace=True)\n",
    "\n",
    "# ref_newcap_trn = ref_newcap[(ref_newcap['Sector'] == 'Transport')].copy()\n",
    "# ref_newcap_trn['Mode'] = ref_newcap_trn['Technology'].apply(map_tech_to_mode)\n",
    "# ref_newcap_trn['Carrier'] = ref_newcap_trn['Technology'].apply(map_tech_to_drivetrain)\n",
    "# ref_newcap_trn['Vehicle Class'] = ref_newcap_trn['Mode'].apply(veh_class_mapping)"
   ]
  },
  {
   "cell_type": "code",
   "execution_count": 76,
   "metadata": {},
   "outputs": [],
   "source": [
    "ref_trnnewcap.columns = ref_trnnewcap.columns.astype(str)\n",
    "periods = [col for col in ref_trnnewcap.columns if col.isdigit()]\n",
    "params = [col for col in ref_trnnewcap.columns if not col.isdigit()]\n",
    "ref_trnnewcap = pd.melt(ref_trnnewcap, id_vars=params, var_name='Period', value_name='New Capacity', value_vars=periods)\n",
    "\n",
    "ref_trnnewcap['Vehicle Class'] = ref_trnnewcap['Mode'].apply(veh_class_mapping)"
   ]
  },
  {
   "cell_type": "code",
   "execution_count": 77,
   "metadata": {},
   "outputs": [
    {
     "data": {
      "application/vnd.plotly.v1+json": {
       "config": {
        "plotlyServerURL": "https://plot.ly"
       },
       "data": [
        {
         "alignmentgroup": "True",
         "hovertemplate": "Carrier=Gasoline<br>Period=2021<br>Vehicle Class=%{x}<br>New Capacity=%{y}<extra></extra>",
         "legendgroup": "Gasoline",
         "marker": {
          "color": "#3366CC",
          "pattern": {
           "shape": ""
          }
         },
         "name": "Gasoline",
         "offsetgroup": "Gasoline",
         "orientation": "v",
         "showlegend": true,
         "textfont": {
          "size": 9
         },
         "textposition": "auto",
         "texttemplate": "%{y:.1f}",
         "type": "bar",
         "x": [
          "LD Car",
          "LD Truck"
         ],
         "xaxis": "x",
         "y": [
          538.2501597332098,
          437.31589658211027
         ],
         "yaxis": "y"
        },
        {
         "alignmentgroup": "True",
         "hovertemplate": "Carrier=Gasoline<br>Period=2025<br>Vehicle Class=%{x}<br>New Capacity=%{y}<extra></extra>",
         "legendgroup": "Gasoline",
         "marker": {
          "color": "#3366CC",
          "pattern": {
           "shape": ""
          }
         },
         "name": "Gasoline",
         "offsetgroup": "Gasoline",
         "orientation": "v",
         "showlegend": false,
         "textfont": {
          "size": 9
         },
         "textposition": "auto",
         "texttemplate": "%{y:.1f}",
         "type": "bar",
         "x": [
          "LD Car",
          "LD Truck"
         ],
         "xaxis": "x2",
         "y": [
          9.689284416839644,
          8.430169459681462
         ],
         "yaxis": "y2"
        },
        {
         "alignmentgroup": "True",
         "hovertemplate": "Carrier=Gasoline<br>Period=2030<br>Vehicle Class=%{x}<br>New Capacity=%{y}<extra></extra>",
         "legendgroup": "Gasoline",
         "marker": {
          "color": "#3366CC",
          "pattern": {
           "shape": ""
          }
         },
         "name": "Gasoline",
         "offsetgroup": "Gasoline",
         "orientation": "v",
         "showlegend": false,
         "textfont": {
          "size": 9
         },
         "textposition": "auto",
         "texttemplate": "%{y:.1f}",
         "type": "bar",
         "x": [
          "LD Car",
          "LD Truck"
         ],
         "xaxis": "x3",
         "y": [
          10.97635457609004,
          9.353008236060923
         ],
         "yaxis": "y3"
        },
        {
         "alignmentgroup": "True",
         "hovertemplate": "Carrier=Gasoline<br>Period=2035<br>Vehicle Class=%{x}<br>New Capacity=%{y}<extra></extra>",
         "legendgroup": "Gasoline",
         "marker": {
          "color": "#3366CC",
          "pattern": {
           "shape": ""
          }
         },
         "name": "Gasoline",
         "offsetgroup": "Gasoline",
         "orientation": "v",
         "showlegend": false,
         "textfont": {
          "size": 9
         },
         "textposition": "auto",
         "texttemplate": "%{y:.1f}",
         "type": "bar",
         "x": [
          "LD Car",
          "LD Truck"
         ],
         "xaxis": "x4",
         "y": [
          0,
          0
         ],
         "yaxis": "y4"
        },
        {
         "alignmentgroup": "True",
         "hovertemplate": "Carrier=Gasoline<br>Period=2040<br>Vehicle Class=%{x}<br>New Capacity=%{y}<extra></extra>",
         "legendgroup": "Gasoline",
         "marker": {
          "color": "#3366CC",
          "pattern": {
           "shape": ""
          }
         },
         "name": "Gasoline",
         "offsetgroup": "Gasoline",
         "orientation": "v",
         "showlegend": false,
         "textfont": {
          "size": 9
         },
         "textposition": "auto",
         "texttemplate": "%{y:.1f}",
         "type": "bar",
         "x": [
          "LD Car",
          "LD Truck"
         ],
         "xaxis": "x5",
         "y": [
          0,
          0
         ],
         "yaxis": "y5"
        },
        {
         "alignmentgroup": "True",
         "hovertemplate": "Carrier=Gasoline<br>Period=2045<br>Vehicle Class=%{x}<br>New Capacity=%{y}<extra></extra>",
         "legendgroup": "Gasoline",
         "marker": {
          "color": "#3366CC",
          "pattern": {
           "shape": ""
          }
         },
         "name": "Gasoline",
         "offsetgroup": "Gasoline",
         "orientation": "v",
         "showlegend": false,
         "textfont": {
          "size": 9
         },
         "textposition": "auto",
         "texttemplate": "%{y:.1f}",
         "type": "bar",
         "x": [
          "LD Car",
          "LD Truck"
         ],
         "xaxis": "x6",
         "y": [
          0,
          0
         ],
         "yaxis": "y6"
        },
        {
         "alignmentgroup": "True",
         "hovertemplate": "Carrier=Gasoline<br>Period=2050<br>Vehicle Class=%{x}<br>New Capacity=%{y}<extra></extra>",
         "legendgroup": "Gasoline",
         "marker": {
          "color": "#3366CC",
          "pattern": {
           "shape": ""
          }
         },
         "name": "Gasoline",
         "offsetgroup": "Gasoline",
         "orientation": "v",
         "showlegend": false,
         "textfont": {
          "size": 9
         },
         "textposition": "auto",
         "texttemplate": "%{y:.1f}",
         "type": "bar",
         "x": [
          "LD Car",
          "LD Truck"
         ],
         "xaxis": "x7",
         "y": [
          0,
          0
         ],
         "yaxis": "y7"
        },
        {
         "alignmentgroup": "True",
         "hovertemplate": "Carrier=Diesel<br>Period=2021<br>Vehicle Class=%{x}<br>New Capacity=%{y}<extra></extra>",
         "legendgroup": "Diesel",
         "marker": {
          "color": "#DC3912",
          "pattern": {
           "shape": ""
          }
         },
         "name": "Diesel",
         "offsetgroup": "Diesel",
         "orientation": "v",
         "showlegend": true,
         "textfont": {
          "size": 9
         },
         "textposition": "auto",
         "texttemplate": "%{y:.1f}",
         "type": "bar",
         "x": [
          "LD Car",
          "LD Truck"
         ],
         "xaxis": "x",
         "y": [
          0,
          32.94347779665621
         ],
         "yaxis": "y"
        },
        {
         "alignmentgroup": "True",
         "hovertemplate": "Carrier=Diesel<br>Period=2025<br>Vehicle Class=%{x}<br>New Capacity=%{y}<extra></extra>",
         "legendgroup": "Diesel",
         "marker": {
          "color": "#DC3912",
          "pattern": {
           "shape": ""
          }
         },
         "name": "Diesel",
         "offsetgroup": "Diesel",
         "orientation": "v",
         "showlegend": false,
         "textfont": {
          "size": 9
         },
         "textposition": "auto",
         "texttemplate": "%{y:.1f}",
         "type": "bar",
         "x": [
          "LD Car",
          "LD Truck"
         ],
         "xaxis": "x2",
         "y": [
          0.002994086554207635,
          240.1158318769496
         ],
         "yaxis": "y2"
        },
        {
         "alignmentgroup": "True",
         "hovertemplate": "Carrier=Diesel<br>Period=2030<br>Vehicle Class=%{x}<br>New Capacity=%{y}<extra></extra>",
         "legendgroup": "Diesel",
         "marker": {
          "color": "#DC3912",
          "pattern": {
           "shape": ""
          }
         },
         "name": "Diesel",
         "offsetgroup": "Diesel",
         "orientation": "v",
         "showlegend": false,
         "textfont": {
          "size": 9
         },
         "textposition": "auto",
         "texttemplate": "%{y:.1f}",
         "type": "bar",
         "x": [
          "LD Car",
          "LD Truck"
         ],
         "xaxis": "x3",
         "y": [
          0.001415887656658186,
          25.97168036676316
         ],
         "yaxis": "y3"
        },
        {
         "alignmentgroup": "True",
         "hovertemplate": "Carrier=Diesel<br>Period=2035<br>Vehicle Class=%{x}<br>New Capacity=%{y}<extra></extra>",
         "legendgroup": "Diesel",
         "marker": {
          "color": "#DC3912",
          "pattern": {
           "shape": ""
          }
         },
         "name": "Diesel",
         "offsetgroup": "Diesel",
         "orientation": "v",
         "showlegend": false,
         "textfont": {
          "size": 9
         },
         "textposition": "auto",
         "texttemplate": "%{y:.1f}",
         "type": "bar",
         "x": [
          "LD Car",
          "LD Truck"
         ],
         "xaxis": "x4",
         "y": [
          0,
          0
         ],
         "yaxis": "y4"
        },
        {
         "alignmentgroup": "True",
         "hovertemplate": "Carrier=Diesel<br>Period=2040<br>Vehicle Class=%{x}<br>New Capacity=%{y}<extra></extra>",
         "legendgroup": "Diesel",
         "marker": {
          "color": "#DC3912",
          "pattern": {
           "shape": ""
          }
         },
         "name": "Diesel",
         "offsetgroup": "Diesel",
         "orientation": "v",
         "showlegend": false,
         "textfont": {
          "size": 9
         },
         "textposition": "auto",
         "texttemplate": "%{y:.1f}",
         "type": "bar",
         "x": [
          "LD Car",
          "LD Truck"
         ],
         "xaxis": "x5",
         "y": [
          0,
          0
         ],
         "yaxis": "y5"
        },
        {
         "alignmentgroup": "True",
         "hovertemplate": "Carrier=Diesel<br>Period=2045<br>Vehicle Class=%{x}<br>New Capacity=%{y}<extra></extra>",
         "legendgroup": "Diesel",
         "marker": {
          "color": "#DC3912",
          "pattern": {
           "shape": ""
          }
         },
         "name": "Diesel",
         "offsetgroup": "Diesel",
         "orientation": "v",
         "showlegend": false,
         "textfont": {
          "size": 9
         },
         "textposition": "auto",
         "texttemplate": "%{y:.1f}",
         "type": "bar",
         "x": [
          "LD Car",
          "LD Truck"
         ],
         "xaxis": "x6",
         "y": [
          0,
          0
         ],
         "yaxis": "y6"
        },
        {
         "alignmentgroup": "True",
         "hovertemplate": "Carrier=Diesel<br>Period=2050<br>Vehicle Class=%{x}<br>New Capacity=%{y}<extra></extra>",
         "legendgroup": "Diesel",
         "marker": {
          "color": "#DC3912",
          "pattern": {
           "shape": ""
          }
         },
         "name": "Diesel",
         "offsetgroup": "Diesel",
         "orientation": "v",
         "showlegend": false,
         "textfont": {
          "size": 9
         },
         "textposition": "auto",
         "texttemplate": "%{y:.1f}",
         "type": "bar",
         "x": [
          "LD Car",
          "LD Truck"
         ],
         "xaxis": "x7",
         "y": [
          0,
          0
         ],
         "yaxis": "y7"
        },
        {
         "alignmentgroup": "True",
         "hovertemplate": "Carrier=CNG<br>Period=2021<br>Vehicle Class=%{x}<br>New Capacity=%{y}<extra></extra>",
         "legendgroup": "CNG",
         "marker": {
          "color": "#FF9900",
          "pattern": {
           "shape": ""
          }
         },
         "name": "CNG",
         "offsetgroup": "CNG",
         "orientation": "v",
         "showlegend": true,
         "textfont": {
          "size": 9
         },
         "textposition": "auto",
         "texttemplate": "%{y:.1f}",
         "type": "bar",
         "x": [
          "LD Car",
          "LD Truck"
         ],
         "xaxis": "x",
         "y": [
          0,
          0
         ],
         "yaxis": "y"
        },
        {
         "alignmentgroup": "True",
         "hovertemplate": "Carrier=CNG<br>Period=2025<br>Vehicle Class=%{x}<br>New Capacity=%{y}<extra></extra>",
         "legendgroup": "CNG",
         "marker": {
          "color": "#FF9900",
          "pattern": {
           "shape": ""
          }
         },
         "name": "CNG",
         "offsetgroup": "CNG",
         "orientation": "v",
         "showlegend": false,
         "textfont": {
          "size": 9
         },
         "textposition": "auto",
         "texttemplate": "%{y:.1f}",
         "type": "bar",
         "x": [
          "LD Car",
          "LD Truck"
         ],
         "xaxis": "x2",
         "y": [
          0.002640831149168603,
          0.005117539996776915
         ],
         "yaxis": "y2"
        },
        {
         "alignmentgroup": "True",
         "hovertemplate": "Carrier=CNG<br>Period=2030<br>Vehicle Class=%{x}<br>New Capacity=%{y}<extra></extra>",
         "legendgroup": "CNG",
         "marker": {
          "color": "#FF9900",
          "pattern": {
           "shape": ""
          }
         },
         "name": "CNG",
         "offsetgroup": "CNG",
         "orientation": "v",
         "showlegend": false,
         "textfont": {
          "size": 9
         },
         "textposition": "auto",
         "texttemplate": "%{y:.1f}",
         "type": "bar",
         "x": [
          "LD Car",
          "LD Truck"
         ],
         "xaxis": "x3",
         "y": [
          0.001383855466433488,
          0.005478713626333935
         ],
         "yaxis": "y3"
        },
        {
         "alignmentgroup": "True",
         "hovertemplate": "Carrier=CNG<br>Period=2035<br>Vehicle Class=%{x}<br>New Capacity=%{y}<extra></extra>",
         "legendgroup": "CNG",
         "marker": {
          "color": "#FF9900",
          "pattern": {
           "shape": ""
          }
         },
         "name": "CNG",
         "offsetgroup": "CNG",
         "orientation": "v",
         "showlegend": false,
         "textfont": {
          "size": 9
         },
         "textposition": "auto",
         "texttemplate": "%{y:.1f}",
         "type": "bar",
         "x": [
          "LD Car",
          "LD Truck"
         ],
         "xaxis": "x4",
         "y": [
          0,
          0
         ],
         "yaxis": "y4"
        },
        {
         "alignmentgroup": "True",
         "hovertemplate": "Carrier=CNG<br>Period=2040<br>Vehicle Class=%{x}<br>New Capacity=%{y}<extra></extra>",
         "legendgroup": "CNG",
         "marker": {
          "color": "#FF9900",
          "pattern": {
           "shape": ""
          }
         },
         "name": "CNG",
         "offsetgroup": "CNG",
         "orientation": "v",
         "showlegend": false,
         "textfont": {
          "size": 9
         },
         "textposition": "auto",
         "texttemplate": "%{y:.1f}",
         "type": "bar",
         "x": [
          "LD Car",
          "LD Truck"
         ],
         "xaxis": "x5",
         "y": [
          0,
          0
         ],
         "yaxis": "y5"
        },
        {
         "alignmentgroup": "True",
         "hovertemplate": "Carrier=CNG<br>Period=2045<br>Vehicle Class=%{x}<br>New Capacity=%{y}<extra></extra>",
         "legendgroup": "CNG",
         "marker": {
          "color": "#FF9900",
          "pattern": {
           "shape": ""
          }
         },
         "name": "CNG",
         "offsetgroup": "CNG",
         "orientation": "v",
         "showlegend": false,
         "textfont": {
          "size": 9
         },
         "textposition": "auto",
         "texttemplate": "%{y:.1f}",
         "type": "bar",
         "x": [
          "LD Car",
          "LD Truck"
         ],
         "xaxis": "x6",
         "y": [
          0,
          0
         ],
         "yaxis": "y6"
        },
        {
         "alignmentgroup": "True",
         "hovertemplate": "Carrier=CNG<br>Period=2050<br>Vehicle Class=%{x}<br>New Capacity=%{y}<extra></extra>",
         "legendgroup": "CNG",
         "marker": {
          "color": "#FF9900",
          "pattern": {
           "shape": ""
          }
         },
         "name": "CNG",
         "offsetgroup": "CNG",
         "orientation": "v",
         "showlegend": false,
         "textfont": {
          "size": 9
         },
         "textposition": "auto",
         "texttemplate": "%{y:.1f}",
         "type": "bar",
         "x": [
          "LD Car",
          "LD Truck"
         ],
         "xaxis": "x7",
         "y": [
          0,
          0
         ],
         "yaxis": "y7"
        },
        {
         "alignmentgroup": "True",
         "hovertemplate": "Carrier=HEV<br>Period=2021<br>Vehicle Class=%{x}<br>New Capacity=%{y}<extra></extra>",
         "legendgroup": "HEV",
         "marker": {
          "color": "#109618",
          "pattern": {
           "shape": ""
          }
         },
         "name": "HEV",
         "offsetgroup": "HEV",
         "orientation": "v",
         "showlegend": true,
         "textfont": {
          "size": 9
         },
         "textposition": "auto",
         "texttemplate": "%{y:.1f}",
         "type": "bar",
         "x": [
          "LD Car",
          "LD Truck"
         ],
         "xaxis": "x",
         "y": [
          63.38957245869774,
          44.02781539794703
         ],
         "yaxis": "y"
        },
        {
         "alignmentgroup": "True",
         "hovertemplate": "Carrier=HEV<br>Period=2025<br>Vehicle Class=%{x}<br>New Capacity=%{y}<extra></extra>",
         "legendgroup": "HEV",
         "marker": {
          "color": "#109618",
          "pattern": {
           "shape": ""
          }
         },
         "name": "HEV",
         "offsetgroup": "HEV",
         "orientation": "v",
         "showlegend": false,
         "textfont": {
          "size": 9
         },
         "textposition": "auto",
         "texttemplate": "%{y:.1f}",
         "type": "bar",
         "x": [
          "LD Car",
          "LD Truck"
         ],
         "xaxis": "x2",
         "y": [
          229.8982663306648,
          107.11502289598613
         ],
         "yaxis": "y2"
        },
        {
         "alignmentgroup": "True",
         "hovertemplate": "Carrier=HEV<br>Period=2030<br>Vehicle Class=%{x}<br>New Capacity=%{y}<extra></extra>",
         "legendgroup": "HEV",
         "marker": {
          "color": "#109618",
          "pattern": {
           "shape": ""
          }
         },
         "name": "HEV",
         "offsetgroup": "HEV",
         "orientation": "v",
         "showlegend": false,
         "textfont": {
          "size": 9
         },
         "textposition": "auto",
         "texttemplate": "%{y:.1f}",
         "type": "bar",
         "x": [
          "LD Car",
          "LD Truck"
         ],
         "xaxis": "x3",
         "y": [
          36.31041869467818,
          223.19727769409738
         ],
         "yaxis": "y3"
        },
        {
         "alignmentgroup": "True",
         "hovertemplate": "Carrier=HEV<br>Period=2035<br>Vehicle Class=%{x}<br>New Capacity=%{y}<extra></extra>",
         "legendgroup": "HEV",
         "marker": {
          "color": "#109618",
          "pattern": {
           "shape": ""
          }
         },
         "name": "HEV",
         "offsetgroup": "HEV",
         "orientation": "v",
         "showlegend": false,
         "textfont": {
          "size": 9
         },
         "textposition": "auto",
         "texttemplate": "%{y:.1f}",
         "type": "bar",
         "x": [
          "LD Car",
          "LD Truck"
         ],
         "xaxis": "x4",
         "y": [
          0,
          0
         ],
         "yaxis": "y4"
        },
        {
         "alignmentgroup": "True",
         "hovertemplate": "Carrier=HEV<br>Period=2040<br>Vehicle Class=%{x}<br>New Capacity=%{y}<extra></extra>",
         "legendgroup": "HEV",
         "marker": {
          "color": "#109618",
          "pattern": {
           "shape": ""
          }
         },
         "name": "HEV",
         "offsetgroup": "HEV",
         "orientation": "v",
         "showlegend": false,
         "textfont": {
          "size": 9
         },
         "textposition": "auto",
         "texttemplate": "%{y:.1f}",
         "type": "bar",
         "x": [
          "LD Car",
          "LD Truck"
         ],
         "xaxis": "x5",
         "y": [
          0,
          0
         ],
         "yaxis": "y5"
        },
        {
         "alignmentgroup": "True",
         "hovertemplate": "Carrier=HEV<br>Period=2045<br>Vehicle Class=%{x}<br>New Capacity=%{y}<extra></extra>",
         "legendgroup": "HEV",
         "marker": {
          "color": "#109618",
          "pattern": {
           "shape": ""
          }
         },
         "name": "HEV",
         "offsetgroup": "HEV",
         "orientation": "v",
         "showlegend": false,
         "textfont": {
          "size": 9
         },
         "textposition": "auto",
         "texttemplate": "%{y:.1f}",
         "type": "bar",
         "x": [
          "LD Car",
          "LD Truck"
         ],
         "xaxis": "x6",
         "y": [
          0,
          0
         ],
         "yaxis": "y6"
        },
        {
         "alignmentgroup": "True",
         "hovertemplate": "Carrier=HEV<br>Period=2050<br>Vehicle Class=%{x}<br>New Capacity=%{y}<extra></extra>",
         "legendgroup": "HEV",
         "marker": {
          "color": "#109618",
          "pattern": {
           "shape": ""
          }
         },
         "name": "HEV",
         "offsetgroup": "HEV",
         "orientation": "v",
         "showlegend": false,
         "textfont": {
          "size": 9
         },
         "textposition": "auto",
         "texttemplate": "%{y:.1f}",
         "type": "bar",
         "x": [
          "LD Car",
          "LD Truck"
         ],
         "xaxis": "x7",
         "y": [
          0,
          0
         ],
         "yaxis": "y7"
        },
        {
         "alignmentgroup": "True",
         "hovertemplate": "Carrier=PHEV<br>Period=2021<br>Vehicle Class=%{x}<br>New Capacity=%{y}<extra></extra>",
         "legendgroup": "PHEV",
         "marker": {
          "color": "#990099",
          "pattern": {
           "shape": ""
          }
         },
         "name": "PHEV",
         "offsetgroup": "PHEV",
         "orientation": "v",
         "showlegend": true,
         "textfont": {
          "size": 9
         },
         "textposition": "auto",
         "texttemplate": "%{y:.1f}",
         "type": "bar",
         "x": [
          "LD Car",
          "LD Truck"
         ],
         "xaxis": "x",
         "y": [
          4.990726246220375,
          7.970648910665578
         ],
         "yaxis": "y"
        },
        {
         "alignmentgroup": "True",
         "hovertemplate": "Carrier=PHEV<br>Period=2025<br>Vehicle Class=%{x}<br>New Capacity=%{y}<extra></extra>",
         "legendgroup": "PHEV",
         "marker": {
          "color": "#990099",
          "pattern": {
           "shape": ""
          }
         },
         "name": "PHEV",
         "offsetgroup": "PHEV",
         "orientation": "v",
         "showlegend": false,
         "textfont": {
          "size": 9
         },
         "textposition": "auto",
         "texttemplate": "%{y:.1f}",
         "type": "bar",
         "x": [
          "LD Car",
          "LD Truck"
         ],
         "xaxis": "x2",
         "y": [
          175.8294467083328,
          145.0810569078195
         ],
         "yaxis": "y2"
        },
        {
         "alignmentgroup": "True",
         "hovertemplate": "Carrier=PHEV<br>Period=2030<br>Vehicle Class=%{x}<br>New Capacity=%{y}<extra></extra>",
         "legendgroup": "PHEV",
         "marker": {
          "color": "#990099",
          "pattern": {
           "shape": ""
          }
         },
         "name": "PHEV",
         "offsetgroup": "PHEV",
         "orientation": "v",
         "showlegend": false,
         "textfont": {
          "size": 9
         },
         "textposition": "auto",
         "texttemplate": "%{y:.1f}",
         "type": "bar",
         "x": [
          "LD Car",
          "LD Truck"
         ],
         "xaxis": "x3",
         "y": [
          426.5274787501956,
          377.7455665335934
         ],
         "yaxis": "y3"
        },
        {
         "alignmentgroup": "True",
         "hovertemplate": "Carrier=PHEV<br>Period=2035<br>Vehicle Class=%{x}<br>New Capacity=%{y}<extra></extra>",
         "legendgroup": "PHEV",
         "marker": {
          "color": "#990099",
          "pattern": {
           "shape": ""
          }
         },
         "name": "PHEV",
         "offsetgroup": "PHEV",
         "orientation": "v",
         "showlegend": false,
         "textfont": {
          "size": 9
         },
         "textposition": "auto",
         "texttemplate": "%{y:.1f}",
         "type": "bar",
         "x": [
          "LD Car",
          "LD Truck"
         ],
         "xaxis": "x4",
         "y": [
          698.6515302201597,
          897.281208164958
         ],
         "yaxis": "y4"
        },
        {
         "alignmentgroup": "True",
         "hovertemplate": "Carrier=PHEV<br>Period=2040<br>Vehicle Class=%{x}<br>New Capacity=%{y}<extra></extra>",
         "legendgroup": "PHEV",
         "marker": {
          "color": "#990099",
          "pattern": {
           "shape": ""
          }
         },
         "name": "PHEV",
         "offsetgroup": "PHEV",
         "orientation": "v",
         "showlegend": false,
         "textfont": {
          "size": 9
         },
         "textposition": "auto",
         "texttemplate": "%{y:.1f}",
         "type": "bar",
         "x": [
          "LD Car",
          "LD Truck"
         ],
         "xaxis": "x5",
         "y": [
          20.161902091157764,
          3.090223869074328
         ],
         "yaxis": "y5"
        },
        {
         "alignmentgroup": "True",
         "hovertemplate": "Carrier=PHEV<br>Period=2045<br>Vehicle Class=%{x}<br>New Capacity=%{y}<extra></extra>",
         "legendgroup": "PHEV",
         "marker": {
          "color": "#990099",
          "pattern": {
           "shape": ""
          }
         },
         "name": "PHEV",
         "offsetgroup": "PHEV",
         "orientation": "v",
         "showlegend": false,
         "textfont": {
          "size": 9
         },
         "textposition": "auto",
         "texttemplate": "%{y:.1f}",
         "type": "bar",
         "x": [
          "LD Car",
          "LD Truck"
         ],
         "xaxis": "x6",
         "y": [
          98.92881653695233,
          16.807630951152273
         ],
         "yaxis": "y6"
        },
        {
         "alignmentgroup": "True",
         "hovertemplate": "Carrier=PHEV<br>Period=2050<br>Vehicle Class=%{x}<br>New Capacity=%{y}<extra></extra>",
         "legendgroup": "PHEV",
         "marker": {
          "color": "#990099",
          "pattern": {
           "shape": ""
          }
         },
         "name": "PHEV",
         "offsetgroup": "PHEV",
         "orientation": "v",
         "showlegend": false,
         "textfont": {
          "size": 9
         },
         "textposition": "auto",
         "texttemplate": "%{y:.1f}",
         "type": "bar",
         "x": [
          "LD Car",
          "LD Truck"
         ],
         "xaxis": "x7",
         "y": [
          2.305409310217604,
          0.01675795560451352
         ],
         "yaxis": "y7"
        },
        {
         "alignmentgroup": "True",
         "hovertemplate": "Carrier=BEV<br>Period=2021<br>Vehicle Class=%{x}<br>New Capacity=%{y}<extra></extra>",
         "legendgroup": "BEV",
         "marker": {
          "color": "#0099C6",
          "pattern": {
           "shape": ""
          }
         },
         "name": "BEV",
         "offsetgroup": "BEV",
         "orientation": "v",
         "showlegend": true,
         "textfont": {
          "size": 9
         },
         "textposition": "auto",
         "texttemplate": "%{y:.1f}",
         "type": "bar",
         "x": [
          "LD Car",
          "LD Truck"
         ],
         "xaxis": "x",
         "y": [
          61.47211806434548,
          23.343162180930783
         ],
         "yaxis": "y"
        },
        {
         "alignmentgroup": "True",
         "hovertemplate": "Carrier=BEV<br>Period=2025<br>Vehicle Class=%{x}<br>New Capacity=%{y}<extra></extra>",
         "legendgroup": "BEV",
         "marker": {
          "color": "#0099C6",
          "pattern": {
           "shape": ""
          }
         },
         "name": "BEV",
         "offsetgroup": "BEV",
         "orientation": "v",
         "showlegend": false,
         "textfont": {
          "size": 9
         },
         "textposition": "auto",
         "texttemplate": "%{y:.1f}",
         "type": "bar",
         "x": [
          "LD Car",
          "LD Truck"
         ],
         "xaxis": "x2",
         "y": [
          450.75581874475364,
          283.3064131115604
         ],
         "yaxis": "y2"
        },
        {
         "alignmentgroup": "True",
         "hovertemplate": "Carrier=BEV<br>Period=2030<br>Vehicle Class=%{x}<br>New Capacity=%{y}<extra></extra>",
         "legendgroup": "BEV",
         "marker": {
          "color": "#0099C6",
          "pattern": {
           "shape": ""
          }
         },
         "name": "BEV",
         "offsetgroup": "BEV",
         "orientation": "v",
         "showlegend": false,
         "textfont": {
          "size": 9
         },
         "textposition": "auto",
         "texttemplate": "%{y:.1f}",
         "type": "bar",
         "x": [
          "LD Car",
          "LD Truck"
         ],
         "xaxis": "x3",
         "y": [
          976.3162047729684,
          746.7428031209336
         ],
         "yaxis": "y3"
        },
        {
         "alignmentgroup": "True",
         "hovertemplate": "Carrier=BEV<br>Period=2035<br>Vehicle Class=%{x}<br>New Capacity=%{y}<extra></extra>",
         "legendgroup": "BEV",
         "marker": {
          "color": "#0099C6",
          "pattern": {
           "shape": ""
          }
         },
         "name": "BEV",
         "offsetgroup": "BEV",
         "orientation": "v",
         "showlegend": false,
         "textfont": {
          "size": 9
         },
         "textposition": "auto",
         "texttemplate": "%{y:.1f}",
         "type": "bar",
         "x": [
          "LD Car",
          "LD Truck"
         ],
         "xaxis": "x4",
         "y": [
          1526.5852998929051,
          1779.65868500741
         ],
         "yaxis": "y4"
        },
        {
         "alignmentgroup": "True",
         "hovertemplate": "Carrier=BEV<br>Period=2040<br>Vehicle Class=%{x}<br>New Capacity=%{y}<extra></extra>",
         "legendgroup": "BEV",
         "marker": {
          "color": "#0099C6",
          "pattern": {
           "shape": ""
          }
         },
         "name": "BEV",
         "offsetgroup": "BEV",
         "orientation": "v",
         "showlegend": false,
         "textfont": {
          "size": 9
         },
         "textposition": "auto",
         "texttemplate": "%{y:.1f}",
         "type": "bar",
         "x": [
          "LD Car",
          "LD Truck"
         ],
         "xaxis": "x5",
         "y": [
          1356.6281186121105,
          1727.8630027874444
         ],
         "yaxis": "y5"
        },
        {
         "alignmentgroup": "True",
         "hovertemplate": "Carrier=BEV<br>Period=2045<br>Vehicle Class=%{x}<br>New Capacity=%{y}<extra></extra>",
         "legendgroup": "BEV",
         "marker": {
          "color": "#0099C6",
          "pattern": {
           "shape": ""
          }
         },
         "name": "BEV",
         "offsetgroup": "BEV",
         "orientation": "v",
         "showlegend": false,
         "textfont": {
          "size": 9
         },
         "textposition": "auto",
         "texttemplate": "%{y:.1f}",
         "type": "bar",
         "x": [
          "LD Car",
          "LD Truck"
         ],
         "xaxis": "x6",
         "y": [
          1851.753355611294,
          1727.9800747354586
         ],
         "yaxis": "y6"
        },
        {
         "alignmentgroup": "True",
         "hovertemplate": "Carrier=BEV<br>Period=2050<br>Vehicle Class=%{x}<br>New Capacity=%{y}<extra></extra>",
         "legendgroup": "BEV",
         "marker": {
          "color": "#0099C6",
          "pattern": {
           "shape": ""
          }
         },
         "name": "BEV",
         "offsetgroup": "BEV",
         "orientation": "v",
         "showlegend": false,
         "textfont": {
          "size": 9
         },
         "textposition": "auto",
         "texttemplate": "%{y:.1f}",
         "type": "bar",
         "x": [
          "LD Car",
          "LD Truck"
         ],
         "xaxis": "x7",
         "y": [
          2431.2516327219128,
          2895.0940562847263
         ],
         "yaxis": "y7"
        },
        {
         "alignmentgroup": "True",
         "hovertemplate": "Carrier=FCEV<br>Period=2021<br>Vehicle Class=%{x}<br>New Capacity=%{y}<extra></extra>",
         "legendgroup": "FCEV",
         "marker": {
          "color": "#DD4477",
          "pattern": {
           "shape": ""
          }
         },
         "name": "FCEV",
         "offsetgroup": "FCEV",
         "orientation": "v",
         "showlegend": true,
         "textfont": {
          "size": 9
         },
         "textposition": "auto",
         "texttemplate": "%{y:.1f}",
         "type": "bar",
         "x": [
          "LD Car",
          "LD Truck"
         ],
         "xaxis": "x",
         "y": [
          0,
          0
         ],
         "yaxis": "y"
        },
        {
         "alignmentgroup": "True",
         "hovertemplate": "Carrier=FCEV<br>Period=2025<br>Vehicle Class=%{x}<br>New Capacity=%{y}<extra></extra>",
         "legendgroup": "FCEV",
         "marker": {
          "color": "#DD4477",
          "pattern": {
           "shape": ""
          }
         },
         "name": "FCEV",
         "offsetgroup": "FCEV",
         "orientation": "v",
         "showlegend": false,
         "textfont": {
          "size": 9
         },
         "textposition": "auto",
         "texttemplate": "%{y:.1f}",
         "type": "bar",
         "x": [
          "LD Car",
          "LD Truck"
         ],
         "xaxis": "x2",
         "y": [
          0.00284809851693653,
          0.007053153593200574
         ],
         "yaxis": "y2"
        },
        {
         "alignmentgroup": "True",
         "hovertemplate": "Carrier=FCEV<br>Period=2030<br>Vehicle Class=%{x}<br>New Capacity=%{y}<extra></extra>",
         "legendgroup": "FCEV",
         "marker": {
          "color": "#DD4477",
          "pattern": {
           "shape": ""
          }
         },
         "name": "FCEV",
         "offsetgroup": "FCEV",
         "orientation": "v",
         "showlegend": false,
         "textfont": {
          "size": 9
         },
         "textposition": "auto",
         "texttemplate": "%{y:.1f}",
         "type": "bar",
         "x": [
          "LD Car",
          "LD Truck"
         ],
         "xaxis": "x3",
         "y": [
          0.004870528899968214,
          0.18744852729892184
         ],
         "yaxis": "y3"
        },
        {
         "alignmentgroup": "True",
         "hovertemplate": "Carrier=FCEV<br>Period=2035<br>Vehicle Class=%{x}<br>New Capacity=%{y}<extra></extra>",
         "legendgroup": "FCEV",
         "marker": {
          "color": "#DD4477",
          "pattern": {
           "shape": ""
          }
         },
         "name": "FCEV",
         "offsetgroup": "FCEV",
         "orientation": "v",
         "showlegend": false,
         "textfont": {
          "size": 9
         },
         "textposition": "auto",
         "texttemplate": "%{y:.1f}",
         "type": "bar",
         "x": [
          "LD Car",
          "LD Truck"
         ],
         "xaxis": "x4",
         "y": [
          0.002232933231370846,
          1.2709725089156088
         ],
         "yaxis": "y4"
        },
        {
         "alignmentgroup": "True",
         "hovertemplate": "Carrier=FCEV<br>Period=2040<br>Vehicle Class=%{x}<br>New Capacity=%{y}<extra></extra>",
         "legendgroup": "FCEV",
         "marker": {
          "color": "#DD4477",
          "pattern": {
           "shape": ""
          }
         },
         "name": "FCEV",
         "offsetgroup": "FCEV",
         "orientation": "v",
         "showlegend": false,
         "textfont": {
          "size": 9
         },
         "textposition": "auto",
         "texttemplate": "%{y:.1f}",
         "type": "bar",
         "x": [
          "LD Car",
          "LD Truck"
         ],
         "xaxis": "x5",
         "y": [
          0.001925091836187785,
          0.049957788210637295
         ],
         "yaxis": "y5"
        },
        {
         "alignmentgroup": "True",
         "hovertemplate": "Carrier=FCEV<br>Period=2045<br>Vehicle Class=%{x}<br>New Capacity=%{y}<extra></extra>",
         "legendgroup": "FCEV",
         "marker": {
          "color": "#DD4477",
          "pattern": {
           "shape": ""
          }
         },
         "name": "FCEV",
         "offsetgroup": "FCEV",
         "orientation": "v",
         "showlegend": false,
         "textfont": {
          "size": 9
         },
         "textposition": "auto",
         "texttemplate": "%{y:.1f}",
         "type": "bar",
         "x": [
          "LD Car",
          "LD Truck"
         ],
         "xaxis": "x6",
         "y": [
          0.002811122707590481,
          0.008532049237591384
         ],
         "yaxis": "y6"
        },
        {
         "alignmentgroup": "True",
         "hovertemplate": "Carrier=FCEV<br>Period=2050<br>Vehicle Class=%{x}<br>New Capacity=%{y}<extra></extra>",
         "legendgroup": "FCEV",
         "marker": {
          "color": "#DD4477",
          "pattern": {
           "shape": ""
          }
         },
         "name": "FCEV",
         "offsetgroup": "FCEV",
         "orientation": "v",
         "showlegend": false,
         "textfont": {
          "size": 9
         },
         "textposition": "auto",
         "texttemplate": "%{y:.1f}",
         "type": "bar",
         "x": [
          "LD Car",
          "LD Truck"
         ],
         "xaxis": "x7",
         "y": [
          0.005463465002221583,
          0.02456889403929041
         ],
         "yaxis": "y7"
        }
       ],
       "layout": {
        "annotations": [
         {
          "font": {},
          "showarrow": false,
          "text": "2021",
          "x": 0.06285714285714285,
          "xanchor": "center",
          "xref": "paper",
          "y": -0.08,
          "yanchor": "top",
          "yref": "paper"
         },
         {
          "font": {},
          "showarrow": false,
          "text": "2025",
          "x": 0.20857142857142852,
          "xanchor": "center",
          "xref": "paper",
          "y": -0.08,
          "yanchor": "top",
          "yref": "paper"
         },
         {
          "font": {},
          "showarrow": false,
          "text": "2030",
          "x": 0.3542857142857142,
          "xanchor": "center",
          "xref": "paper",
          "y": -0.08,
          "yanchor": "top",
          "yref": "paper"
         },
         {
          "font": {},
          "showarrow": false,
          "text": "2035",
          "x": 0.5,
          "xanchor": "center",
          "xref": "paper",
          "y": -0.08,
          "yanchor": "top",
          "yref": "paper"
         },
         {
          "font": {},
          "showarrow": false,
          "text": "2040",
          "x": 0.6457142857142856,
          "xanchor": "center",
          "xref": "paper",
          "y": -0.08,
          "yanchor": "top",
          "yref": "paper"
         },
         {
          "font": {},
          "showarrow": false,
          "text": "2045",
          "x": 0.7914285714285713,
          "xanchor": "center",
          "xref": "paper",
          "y": -0.08,
          "yanchor": "top",
          "yref": "paper"
         },
         {
          "font": {},
          "showarrow": false,
          "text": "2050",
          "x": 0.937142857142857,
          "xanchor": "center",
          "xref": "paper",
          "y": -0.08,
          "yanchor": "top",
          "yref": "paper"
         }
        ],
        "bargap": 0.1,
        "barmode": "stack",
        "font": {
         "size": 14
        },
        "height": 650,
        "legend": {
         "orientation": "h",
         "title": {
          "text": ""
         },
         "tracegroupgap": 0,
         "x": 0.5,
         "xanchor": "center",
         "y": 1.03,
         "yanchor": "top"
        },
        "margin": {
         "t": 60
        },
        "template": {
         "data": {
          "bar": [
           {
            "error_x": {
             "color": "#2a3f5f"
            },
            "error_y": {
             "color": "#2a3f5f"
            },
            "marker": {
             "line": {
              "color": "white",
              "width": 0.5
             },
             "pattern": {
              "fillmode": "overlay",
              "size": 10,
              "solidity": 0.2
             }
            },
            "type": "bar"
           }
          ],
          "barpolar": [
           {
            "marker": {
             "line": {
              "color": "white",
              "width": 0.5
             },
             "pattern": {
              "fillmode": "overlay",
              "size": 10,
              "solidity": 0.2
             }
            },
            "type": "barpolar"
           }
          ],
          "carpet": [
           {
            "aaxis": {
             "endlinecolor": "#2a3f5f",
             "gridcolor": "#C8D4E3",
             "linecolor": "#C8D4E3",
             "minorgridcolor": "#C8D4E3",
             "startlinecolor": "#2a3f5f"
            },
            "baxis": {
             "endlinecolor": "#2a3f5f",
             "gridcolor": "#C8D4E3",
             "linecolor": "#C8D4E3",
             "minorgridcolor": "#C8D4E3",
             "startlinecolor": "#2a3f5f"
            },
            "type": "carpet"
           }
          ],
          "choropleth": [
           {
            "colorbar": {
             "outlinewidth": 0,
             "ticks": ""
            },
            "type": "choropleth"
           }
          ],
          "contour": [
           {
            "colorbar": {
             "outlinewidth": 0,
             "ticks": ""
            },
            "colorscale": [
             [
              0,
              "#0d0887"
             ],
             [
              0.1111111111111111,
              "#46039f"
             ],
             [
              0.2222222222222222,
              "#7201a8"
             ],
             [
              0.3333333333333333,
              "#9c179e"
             ],
             [
              0.4444444444444444,
              "#bd3786"
             ],
             [
              0.5555555555555556,
              "#d8576b"
             ],
             [
              0.6666666666666666,
              "#ed7953"
             ],
             [
              0.7777777777777778,
              "#fb9f3a"
             ],
             [
              0.8888888888888888,
              "#fdca26"
             ],
             [
              1,
              "#f0f921"
             ]
            ],
            "type": "contour"
           }
          ],
          "contourcarpet": [
           {
            "colorbar": {
             "outlinewidth": 0,
             "ticks": ""
            },
            "type": "contourcarpet"
           }
          ],
          "heatmap": [
           {
            "colorbar": {
             "outlinewidth": 0,
             "ticks": ""
            },
            "colorscale": [
             [
              0,
              "#0d0887"
             ],
             [
              0.1111111111111111,
              "#46039f"
             ],
             [
              0.2222222222222222,
              "#7201a8"
             ],
             [
              0.3333333333333333,
              "#9c179e"
             ],
             [
              0.4444444444444444,
              "#bd3786"
             ],
             [
              0.5555555555555556,
              "#d8576b"
             ],
             [
              0.6666666666666666,
              "#ed7953"
             ],
             [
              0.7777777777777778,
              "#fb9f3a"
             ],
             [
              0.8888888888888888,
              "#fdca26"
             ],
             [
              1,
              "#f0f921"
             ]
            ],
            "type": "heatmap"
           }
          ],
          "heatmapgl": [
           {
            "colorbar": {
             "outlinewidth": 0,
             "ticks": ""
            },
            "colorscale": [
             [
              0,
              "#0d0887"
             ],
             [
              0.1111111111111111,
              "#46039f"
             ],
             [
              0.2222222222222222,
              "#7201a8"
             ],
             [
              0.3333333333333333,
              "#9c179e"
             ],
             [
              0.4444444444444444,
              "#bd3786"
             ],
             [
              0.5555555555555556,
              "#d8576b"
             ],
             [
              0.6666666666666666,
              "#ed7953"
             ],
             [
              0.7777777777777778,
              "#fb9f3a"
             ],
             [
              0.8888888888888888,
              "#fdca26"
             ],
             [
              1,
              "#f0f921"
             ]
            ],
            "type": "heatmapgl"
           }
          ],
          "histogram": [
           {
            "marker": {
             "pattern": {
              "fillmode": "overlay",
              "size": 10,
              "solidity": 0.2
             }
            },
            "type": "histogram"
           }
          ],
          "histogram2d": [
           {
            "colorbar": {
             "outlinewidth": 0,
             "ticks": ""
            },
            "colorscale": [
             [
              0,
              "#0d0887"
             ],
             [
              0.1111111111111111,
              "#46039f"
             ],
             [
              0.2222222222222222,
              "#7201a8"
             ],
             [
              0.3333333333333333,
              "#9c179e"
             ],
             [
              0.4444444444444444,
              "#bd3786"
             ],
             [
              0.5555555555555556,
              "#d8576b"
             ],
             [
              0.6666666666666666,
              "#ed7953"
             ],
             [
              0.7777777777777778,
              "#fb9f3a"
             ],
             [
              0.8888888888888888,
              "#fdca26"
             ],
             [
              1,
              "#f0f921"
             ]
            ],
            "type": "histogram2d"
           }
          ],
          "histogram2dcontour": [
           {
            "colorbar": {
             "outlinewidth": 0,
             "ticks": ""
            },
            "colorscale": [
             [
              0,
              "#0d0887"
             ],
             [
              0.1111111111111111,
              "#46039f"
             ],
             [
              0.2222222222222222,
              "#7201a8"
             ],
             [
              0.3333333333333333,
              "#9c179e"
             ],
             [
              0.4444444444444444,
              "#bd3786"
             ],
             [
              0.5555555555555556,
              "#d8576b"
             ],
             [
              0.6666666666666666,
              "#ed7953"
             ],
             [
              0.7777777777777778,
              "#fb9f3a"
             ],
             [
              0.8888888888888888,
              "#fdca26"
             ],
             [
              1,
              "#f0f921"
             ]
            ],
            "type": "histogram2dcontour"
           }
          ],
          "mesh3d": [
           {
            "colorbar": {
             "outlinewidth": 0,
             "ticks": ""
            },
            "type": "mesh3d"
           }
          ],
          "parcoords": [
           {
            "line": {
             "colorbar": {
              "outlinewidth": 0,
              "ticks": ""
             }
            },
            "type": "parcoords"
           }
          ],
          "pie": [
           {
            "automargin": true,
            "type": "pie"
           }
          ],
          "scatter": [
           {
            "fillpattern": {
             "fillmode": "overlay",
             "size": 10,
             "solidity": 0.2
            },
            "type": "scatter"
           }
          ],
          "scatter3d": [
           {
            "line": {
             "colorbar": {
              "outlinewidth": 0,
              "ticks": ""
             }
            },
            "marker": {
             "colorbar": {
              "outlinewidth": 0,
              "ticks": ""
             }
            },
            "type": "scatter3d"
           }
          ],
          "scattercarpet": [
           {
            "marker": {
             "colorbar": {
              "outlinewidth": 0,
              "ticks": ""
             }
            },
            "type": "scattercarpet"
           }
          ],
          "scattergeo": [
           {
            "marker": {
             "colorbar": {
              "outlinewidth": 0,
              "ticks": ""
             }
            },
            "type": "scattergeo"
           }
          ],
          "scattergl": [
           {
            "marker": {
             "colorbar": {
              "outlinewidth": 0,
              "ticks": ""
             }
            },
            "type": "scattergl"
           }
          ],
          "scattermapbox": [
           {
            "marker": {
             "colorbar": {
              "outlinewidth": 0,
              "ticks": ""
             }
            },
            "type": "scattermapbox"
           }
          ],
          "scatterpolar": [
           {
            "marker": {
             "colorbar": {
              "outlinewidth": 0,
              "ticks": ""
             }
            },
            "type": "scatterpolar"
           }
          ],
          "scatterpolargl": [
           {
            "marker": {
             "colorbar": {
              "outlinewidth": 0,
              "ticks": ""
             }
            },
            "type": "scatterpolargl"
           }
          ],
          "scatterternary": [
           {
            "marker": {
             "colorbar": {
              "outlinewidth": 0,
              "ticks": ""
             }
            },
            "type": "scatterternary"
           }
          ],
          "surface": [
           {
            "colorbar": {
             "outlinewidth": 0,
             "ticks": ""
            },
            "colorscale": [
             [
              0,
              "#0d0887"
             ],
             [
              0.1111111111111111,
              "#46039f"
             ],
             [
              0.2222222222222222,
              "#7201a8"
             ],
             [
              0.3333333333333333,
              "#9c179e"
             ],
             [
              0.4444444444444444,
              "#bd3786"
             ],
             [
              0.5555555555555556,
              "#d8576b"
             ],
             [
              0.6666666666666666,
              "#ed7953"
             ],
             [
              0.7777777777777778,
              "#fb9f3a"
             ],
             [
              0.8888888888888888,
              "#fdca26"
             ],
             [
              1,
              "#f0f921"
             ]
            ],
            "type": "surface"
           }
          ],
          "table": [
           {
            "cells": {
             "fill": {
              "color": "#EBF0F8"
             },
             "line": {
              "color": "white"
             }
            },
            "header": {
             "fill": {
              "color": "#C8D4E3"
             },
             "line": {
              "color": "white"
             }
            },
            "type": "table"
           }
          ]
         },
         "layout": {
          "annotationdefaults": {
           "arrowcolor": "#2a3f5f",
           "arrowhead": 0,
           "arrowwidth": 1
          },
          "autotypenumbers": "strict",
          "coloraxis": {
           "colorbar": {
            "outlinewidth": 0,
            "ticks": ""
           }
          },
          "colorscale": {
           "diverging": [
            [
             0,
             "#8e0152"
            ],
            [
             0.1,
             "#c51b7d"
            ],
            [
             0.2,
             "#de77ae"
            ],
            [
             0.3,
             "#f1b6da"
            ],
            [
             0.4,
             "#fde0ef"
            ],
            [
             0.5,
             "#f7f7f7"
            ],
            [
             0.6,
             "#e6f5d0"
            ],
            [
             0.7,
             "#b8e186"
            ],
            [
             0.8,
             "#7fbc41"
            ],
            [
             0.9,
             "#4d9221"
            ],
            [
             1,
             "#276419"
            ]
           ],
           "sequential": [
            [
             0,
             "#0d0887"
            ],
            [
             0.1111111111111111,
             "#46039f"
            ],
            [
             0.2222222222222222,
             "#7201a8"
            ],
            [
             0.3333333333333333,
             "#9c179e"
            ],
            [
             0.4444444444444444,
             "#bd3786"
            ],
            [
             0.5555555555555556,
             "#d8576b"
            ],
            [
             0.6666666666666666,
             "#ed7953"
            ],
            [
             0.7777777777777778,
             "#fb9f3a"
            ],
            [
             0.8888888888888888,
             "#fdca26"
            ],
            [
             1,
             "#f0f921"
            ]
           ],
           "sequentialminus": [
            [
             0,
             "#0d0887"
            ],
            [
             0.1111111111111111,
             "#46039f"
            ],
            [
             0.2222222222222222,
             "#7201a8"
            ],
            [
             0.3333333333333333,
             "#9c179e"
            ],
            [
             0.4444444444444444,
             "#bd3786"
            ],
            [
             0.5555555555555556,
             "#d8576b"
            ],
            [
             0.6666666666666666,
             "#ed7953"
            ],
            [
             0.7777777777777778,
             "#fb9f3a"
            ],
            [
             0.8888888888888888,
             "#fdca26"
            ],
            [
             1,
             "#f0f921"
            ]
           ]
          },
          "colorway": [
           "#636efa",
           "#EF553B",
           "#00cc96",
           "#ab63fa",
           "#FFA15A",
           "#19d3f3",
           "#FF6692",
           "#B6E880",
           "#FF97FF",
           "#FECB52"
          ],
          "font": {
           "color": "#2a3f5f"
          },
          "geo": {
           "bgcolor": "white",
           "lakecolor": "white",
           "landcolor": "white",
           "showlakes": true,
           "showland": true,
           "subunitcolor": "#C8D4E3"
          },
          "hoverlabel": {
           "align": "left"
          },
          "hovermode": "closest",
          "mapbox": {
           "style": "light"
          },
          "paper_bgcolor": "white",
          "plot_bgcolor": "white",
          "polar": {
           "angularaxis": {
            "gridcolor": "#EBF0F8",
            "linecolor": "#EBF0F8",
            "ticks": ""
           },
           "bgcolor": "white",
           "radialaxis": {
            "gridcolor": "#EBF0F8",
            "linecolor": "#EBF0F8",
            "ticks": ""
           }
          },
          "scene": {
           "xaxis": {
            "backgroundcolor": "white",
            "gridcolor": "#DFE8F3",
            "gridwidth": 2,
            "linecolor": "#EBF0F8",
            "showbackground": true,
            "ticks": "",
            "zerolinecolor": "#EBF0F8"
           },
           "yaxis": {
            "backgroundcolor": "white",
            "gridcolor": "#DFE8F3",
            "gridwidth": 2,
            "linecolor": "#EBF0F8",
            "showbackground": true,
            "ticks": "",
            "zerolinecolor": "#EBF0F8"
           },
           "zaxis": {
            "backgroundcolor": "white",
            "gridcolor": "#DFE8F3",
            "gridwidth": 2,
            "linecolor": "#EBF0F8",
            "showbackground": true,
            "ticks": "",
            "zerolinecolor": "#EBF0F8"
           }
          },
          "shapedefaults": {
           "line": {
            "color": "#2a3f5f"
           }
          },
          "ternary": {
           "aaxis": {
            "gridcolor": "#DFE8F3",
            "linecolor": "#A2B1C6",
            "ticks": ""
           },
           "baxis": {
            "gridcolor": "#DFE8F3",
            "linecolor": "#A2B1C6",
            "ticks": ""
           },
           "bgcolor": "white",
           "caxis": {
            "gridcolor": "#DFE8F3",
            "linecolor": "#A2B1C6",
            "ticks": ""
           }
          },
          "title": {
           "x": 0.05
          },
          "xaxis": {
           "automargin": true,
           "gridcolor": "#EBF0F8",
           "linecolor": "#EBF0F8",
           "ticks": "",
           "title": {
            "standoff": 15
           },
           "zerolinecolor": "#EBF0F8",
           "zerolinewidth": 2
          },
          "yaxis": {
           "automargin": true,
           "gridcolor": "#EBF0F8",
           "linecolor": "#EBF0F8",
           "ticks": "",
           "title": {
            "standoff": 15
           },
           "zerolinecolor": "#EBF0F8",
           "zerolinewidth": 2
          }
         }
        },
        "title": {
         "text": "Transportation fleet expansion in ON by vehicle class and drivetrain",
         "x": 0.5,
         "xanchor": "center",
         "y": 0.97,
         "yanchor": "top"
        },
        "width": 1000,
        "xaxis": {
         "anchor": "y",
         "domain": [
          0,
          0.1257142857142857
         ],
         "title": {
          "text": ""
         }
        },
        "xaxis2": {
         "anchor": "y2",
         "domain": [
          0.14571428571428569,
          0.27142857142857135
         ],
         "matches": "x",
         "title": {
          "text": ""
         }
        },
        "xaxis3": {
         "anchor": "y3",
         "domain": [
          0.29142857142857137,
          0.41714285714285704
         ],
         "matches": "x",
         "title": {
          "text": ""
         }
        },
        "xaxis4": {
         "anchor": "y4",
         "domain": [
          0.4371428571428571,
          0.5628571428571428
         ],
         "matches": "x",
         "title": {
          "text": ""
         }
        },
        "xaxis5": {
         "anchor": "y5",
         "domain": [
          0.5828571428571427,
          0.7085714285714284
         ],
         "matches": "x",
         "title": {
          "text": ""
         }
        },
        "xaxis6": {
         "anchor": "y6",
         "domain": [
          0.7285714285714284,
          0.8542857142857141
         ],
         "matches": "x",
         "title": {
          "text": ""
         }
        },
        "xaxis7": {
         "anchor": "y7",
         "domain": [
          0.8742857142857142,
          0.9999999999999999
         ],
         "matches": "x",
         "title": {
          "text": ""
         }
        },
        "yaxis": {
         "anchor": "x",
         "domain": [
          0,
          1
         ],
         "dtick": 500,
         "title": {
          "standoff": 0,
          "text": "New vehicles (k units)"
         }
        },
        "yaxis2": {
         "anchor": "x2",
         "domain": [
          0,
          1
         ],
         "matches": "y",
         "showticklabels": false
        },
        "yaxis3": {
         "anchor": "x3",
         "domain": [
          0,
          1
         ],
         "matches": "y",
         "showticklabels": false
        },
        "yaxis4": {
         "anchor": "x4",
         "domain": [
          0,
          1
         ],
         "matches": "y",
         "showticklabels": false
        },
        "yaxis5": {
         "anchor": "x5",
         "domain": [
          0,
          1
         ],
         "matches": "y",
         "showticklabels": false
        },
        "yaxis6": {
         "anchor": "x6",
         "domain": [
          0,
          1
         ],
         "matches": "y",
         "showticklabels": false
        },
        "yaxis7": {
         "anchor": "x7",
         "domain": [
          0,
          1
         ],
         "matches": "y",
         "showticklabels": false
        }
       }
      }
     },
     "metadata": {},
     "output_type": "display_data"
    }
   ],
   "source": [
    "ref_fig = ref_trnnewcap[ref_trnnewcap['Vehicle Class'].isin(['LD Car', 'LD Truck'])][['Period', 'Vehicle Class', 'New Capacity', 'Carrier']].groupby(['Period', 'Vehicle Class', 'Carrier'], as_index=False).sum()\n",
    "ref_fig['New Capacity (M units)'] = ref_fig['New Capacity']/1E3\n",
    "\n",
    "ref_fig['Carrier'] = pd.Categorical(ref_fig['Carrier'], categories=drivetrain_order, ordered=True)\n",
    "ref_fig = ref_fig.sort_values(['Carrier', 'Period'])\n",
    "\n",
    "fig = px.bar(ref_fig, \n",
    "             x='Vehicle Class', \n",
    "             y='New Capacity', \n",
    "             color='Carrier', \n",
    "             barmode='stack', \n",
    "             facet_col='Period',\n",
    "             facet_col_spacing=2E-2,\n",
    "             template='plotly_white',\n",
    "             color_discrete_sequence=px.colors.qualitative.G10[:7] + px.colors.qualitative.G10[8:],\n",
    "             text_auto='.1f',\n",
    "             width=1000, height=650,\n",
    "             )\n",
    "\n",
    "fig.update_layout(title=dict(\n",
    "        text='Transportation fleet expansion in ON by vehicle class and drivetrain',\n",
    "        x=0.5, \n",
    "        y=0.97,\n",
    "        xanchor='center',\n",
    "        yanchor='top'\n",
    "    ),\n",
    "    xaxis=dict(title='Period'),\n",
    "    yaxis=dict(title='New vehicles (k units)',\n",
    "               dtick=500),\n",
    "    yaxis_title_standoff=0,\n",
    "    legend_title_text='',\n",
    "    bargap=0.1,\n",
    "    legend=dict(\n",
    "        orientation='h',  \n",
    "        yanchor='top',\n",
    "        y=1.03,  \n",
    "        xanchor='center',\n",
    "        x=0.5),\n",
    "    font=dict(\n",
    "        # family=\"Open Sans\",\n",
    "        size=14)\n",
    "    )\n",
    "\n",
    "for annotation in fig.layout.annotations:\n",
    "    annotation.text = annotation.text.split('=')[1]\n",
    "    annotation.y = -0.08  \n",
    "    annotation.yanchor = 'top' \n",
    "\n",
    "for axis in fig.layout:\n",
    "    if axis.startswith('xaxis'):\n",
    "        fig.layout[axis].title.text = ''\n",
    "\n",
    "fig.for_each_trace(lambda trace: trace.update(textfont=dict(size=9)))\n",
    "\n",
    "fig.show()"
   ]
  },
  {
   "cell_type": "code",
   "execution_count": 78,
   "metadata": {},
   "outputs": [
    {
     "data": {
      "application/vnd.plotly.v1+json": {
       "config": {
        "plotlyServerURL": "https://plot.ly"
       },
       "data": [
        {
         "alignmentgroup": "True",
         "hovertemplate": "Carrier=Gasoline<br>Period=2021<br>Vehicle Class=%{x}<br>New Capacity=%{y}<extra></extra>",
         "legendgroup": "Gasoline",
         "marker": {
          "color": "#3366CC",
          "pattern": {
           "shape": ""
          }
         },
         "name": "Gasoline",
         "offsetgroup": "Gasoline",
         "orientation": "v",
         "showlegend": true,
         "textfont": {
          "size": 9
         },
         "textposition": "auto",
         "texttemplate": "%{y:.1f}",
         "type": "bar",
         "x": [
          "Bus",
          "MD Truck"
         ],
         "xaxis": "x",
         "y": [
          0.2310809126184621,
          12.77908818210034
         ],
         "yaxis": "y"
        },
        {
         "alignmentgroup": "True",
         "hovertemplate": "Carrier=Gasoline<br>Period=2025<br>Vehicle Class=%{x}<br>New Capacity=%{y}<extra></extra>",
         "legendgroup": "Gasoline",
         "marker": {
          "color": "#3366CC",
          "pattern": {
           "shape": ""
          }
         },
         "name": "Gasoline",
         "offsetgroup": "Gasoline",
         "orientation": "v",
         "showlegend": false,
         "textfont": {
          "size": 9
         },
         "textposition": "auto",
         "texttemplate": "%{y:.1f}",
         "type": "bar",
         "x": [
          "Bus",
          "MD Truck"
         ],
         "xaxis": "x2",
         "y": [
          0.0029557898101875597,
          7.169476612838491
         ],
         "yaxis": "y2"
        },
        {
         "alignmentgroup": "True",
         "hovertemplate": "Carrier=Gasoline<br>Period=2030<br>Vehicle Class=%{x}<br>New Capacity=%{y}<extra></extra>",
         "legendgroup": "Gasoline",
         "marker": {
          "color": "#3366CC",
          "pattern": {
           "shape": ""
          }
         },
         "name": "Gasoline",
         "offsetgroup": "Gasoline",
         "orientation": "v",
         "showlegend": false,
         "textfont": {
          "size": 9
         },
         "textposition": "auto",
         "texttemplate": "%{y:.1f}",
         "type": "bar",
         "x": [
          "Bus",
          "MD Truck"
         ],
         "xaxis": "x3",
         "y": [
          0.0023882303589058064,
          13.22035543634832
         ],
         "yaxis": "y3"
        },
        {
         "alignmentgroup": "True",
         "hovertemplate": "Carrier=Gasoline<br>Period=2035<br>Vehicle Class=%{x}<br>New Capacity=%{y}<extra></extra>",
         "legendgroup": "Gasoline",
         "marker": {
          "color": "#3366CC",
          "pattern": {
           "shape": ""
          }
         },
         "name": "Gasoline",
         "offsetgroup": "Gasoline",
         "orientation": "v",
         "showlegend": false,
         "textfont": {
          "size": 9
         },
         "textposition": "auto",
         "texttemplate": "%{y:.1f}",
         "type": "bar",
         "x": [
          "Bus",
          "MD Truck"
         ],
         "xaxis": "x4",
         "y": [
          0.00019394334294474804,
          75.02024187444103
         ],
         "yaxis": "y4"
        },
        {
         "alignmentgroup": "True",
         "hovertemplate": "Carrier=Gasoline<br>Period=2040<br>Vehicle Class=%{x}<br>New Capacity=%{y}<extra></extra>",
         "legendgroup": "Gasoline",
         "marker": {
          "color": "#3366CC",
          "pattern": {
           "shape": ""
          }
         },
         "name": "Gasoline",
         "offsetgroup": "Gasoline",
         "orientation": "v",
         "showlegend": false,
         "textfont": {
          "size": 9
         },
         "textposition": "auto",
         "texttemplate": "%{y:.1f}",
         "type": "bar",
         "x": [
          "Bus",
          "MD Truck"
         ],
         "xaxis": "x5",
         "y": [
          0.00005373610108395465,
          0
         ],
         "yaxis": "y5"
        },
        {
         "alignmentgroup": "True",
         "hovertemplate": "Carrier=Gasoline<br>Period=2045<br>Vehicle Class=%{x}<br>New Capacity=%{y}<extra></extra>",
         "legendgroup": "Gasoline",
         "marker": {
          "color": "#3366CC",
          "pattern": {
           "shape": ""
          }
         },
         "name": "Gasoline",
         "offsetgroup": "Gasoline",
         "orientation": "v",
         "showlegend": false,
         "textfont": {
          "size": 9
         },
         "textposition": "auto",
         "texttemplate": "%{y:.1f}",
         "type": "bar",
         "x": [
          "Bus",
          "MD Truck"
         ],
         "xaxis": "x6",
         "y": [
          1.31141982559239,
          0
         ],
         "yaxis": "y6"
        },
        {
         "alignmentgroup": "True",
         "hovertemplate": "Carrier=Gasoline<br>Period=2050<br>Vehicle Class=%{x}<br>New Capacity=%{y}<extra></extra>",
         "legendgroup": "Gasoline",
         "marker": {
          "color": "#3366CC",
          "pattern": {
           "shape": ""
          }
         },
         "name": "Gasoline",
         "offsetgroup": "Gasoline",
         "orientation": "v",
         "showlegend": false,
         "textfont": {
          "size": 9
         },
         "textposition": "auto",
         "texttemplate": "%{y:.1f}",
         "type": "bar",
         "x": [
          "Bus",
          "MD Truck"
         ],
         "xaxis": "x7",
         "y": [
          0.9933424685439052,
          0
         ],
         "yaxis": "y7"
        },
        {
         "alignmentgroup": "True",
         "hovertemplate": "Carrier=Diesel<br>Period=2021<br>Vehicle Class=%{x}<br>New Capacity=%{y}<extra></extra>",
         "legendgroup": "Diesel",
         "marker": {
          "color": "#DC3912",
          "pattern": {
           "shape": ""
          }
         },
         "name": "Diesel",
         "offsetgroup": "Diesel",
         "orientation": "v",
         "showlegend": true,
         "textfont": {
          "size": 9
         },
         "textposition": "auto",
         "texttemplate": "%{y:.1f}",
         "type": "bar",
         "x": [
          "Bus",
          "HD Truck",
          "MD Truck"
         ],
         "xaxis": "x",
         "y": [
          2.4117708856435067,
          10.32669425932172,
          20.37373749291664
         ],
         "yaxis": "y"
        },
        {
         "alignmentgroup": "True",
         "hovertemplate": "Carrier=Diesel<br>Period=2025<br>Vehicle Class=%{x}<br>New Capacity=%{y}<extra></extra>",
         "legendgroup": "Diesel",
         "marker": {
          "color": "#DC3912",
          "pattern": {
           "shape": ""
          }
         },
         "name": "Diesel",
         "offsetgroup": "Diesel",
         "orientation": "v",
         "showlegend": false,
         "textfont": {
          "size": 9
         },
         "textposition": "auto",
         "texttemplate": "%{y:.1f}",
         "type": "bar",
         "x": [
          "Bus",
          "HD Truck",
          "MD Truck"
         ],
         "xaxis": "x2",
         "y": [
          0.510372462278312,
          15.31507029326252,
          0.2425094819345746
         ],
         "yaxis": "y2"
        },
        {
         "alignmentgroup": "True",
         "hovertemplate": "Carrier=Diesel<br>Period=2030<br>Vehicle Class=%{x}<br>New Capacity=%{y}<extra></extra>",
         "legendgroup": "Diesel",
         "marker": {
          "color": "#DC3912",
          "pattern": {
           "shape": ""
          }
         },
         "name": "Diesel",
         "offsetgroup": "Diesel",
         "orientation": "v",
         "showlegend": false,
         "textfont": {
          "size": 9
         },
         "textposition": "auto",
         "texttemplate": "%{y:.1f}",
         "type": "bar",
         "x": [
          "Bus",
          "HD Truck",
          "MD Truck"
         ],
         "xaxis": "x3",
         "y": [
          1.2592710332847412,
          23.5796744924704,
          0.3350120491322354
         ],
         "yaxis": "y3"
        },
        {
         "alignmentgroup": "True",
         "hovertemplate": "Carrier=Diesel<br>Period=2035<br>Vehicle Class=%{x}<br>New Capacity=%{y}<extra></extra>",
         "legendgroup": "Diesel",
         "marker": {
          "color": "#DC3912",
          "pattern": {
           "shape": ""
          }
         },
         "name": "Diesel",
         "offsetgroup": "Diesel",
         "orientation": "v",
         "showlegend": false,
         "textfont": {
          "size": 9
         },
         "textposition": "auto",
         "texttemplate": "%{y:.1f}",
         "type": "bar",
         "x": [
          "Bus",
          "HD Truck",
          "MD Truck"
         ],
         "xaxis": "x4",
         "y": [
          1.0371596549940267,
          16.72946260135122,
          0.1418230714069201
         ],
         "yaxis": "y4"
        },
        {
         "alignmentgroup": "True",
         "hovertemplate": "Carrier=Diesel<br>Period=2040<br>Vehicle Class=%{x}<br>New Capacity=%{y}<extra></extra>",
         "legendgroup": "Diesel",
         "marker": {
          "color": "#DC3912",
          "pattern": {
           "shape": ""
          }
         },
         "name": "Diesel",
         "offsetgroup": "Diesel",
         "orientation": "v",
         "showlegend": false,
         "textfont": {
          "size": 9
         },
         "textposition": "auto",
         "texttemplate": "%{y:.1f}",
         "type": "bar",
         "x": [
          "Bus",
          "HD Truck",
          "MD Truck"
         ],
         "xaxis": "x5",
         "y": [
          0.04229568785688137,
          5.002896781179061,
          0
         ],
         "yaxis": "y5"
        },
        {
         "alignmentgroup": "True",
         "hovertemplate": "Carrier=Diesel<br>Period=2045<br>Vehicle Class=%{x}<br>New Capacity=%{y}<extra></extra>",
         "legendgroup": "Diesel",
         "marker": {
          "color": "#DC3912",
          "pattern": {
           "shape": ""
          }
         },
         "name": "Diesel",
         "offsetgroup": "Diesel",
         "orientation": "v",
         "showlegend": false,
         "textfont": {
          "size": 9
         },
         "textposition": "auto",
         "texttemplate": "%{y:.1f}",
         "type": "bar",
         "x": [
          "Bus",
          "HD Truck",
          "MD Truck"
         ],
         "xaxis": "x6",
         "y": [
          0.01570516796484876,
          0,
          0
         ],
         "yaxis": "y6"
        },
        {
         "alignmentgroup": "True",
         "hovertemplate": "Carrier=Diesel<br>Period=2050<br>Vehicle Class=%{x}<br>New Capacity=%{y}<extra></extra>",
         "legendgroup": "Diesel",
         "marker": {
          "color": "#DC3912",
          "pattern": {
           "shape": ""
          }
         },
         "name": "Diesel",
         "offsetgroup": "Diesel",
         "orientation": "v",
         "showlegend": false,
         "textfont": {
          "size": 9
         },
         "textposition": "auto",
         "texttemplate": "%{y:.1f}",
         "type": "bar",
         "x": [
          "Bus",
          "HD Truck",
          "MD Truck"
         ],
         "xaxis": "x7",
         "y": [
          0.000978209876292005,
          0,
          0
         ],
         "yaxis": "y7"
        },
        {
         "alignmentgroup": "True",
         "hovertemplate": "Carrier=CNG<br>Period=2021<br>Vehicle Class=%{x}<br>New Capacity=%{y}<extra></extra>",
         "legendgroup": "CNG",
         "marker": {
          "color": "#FF9900",
          "pattern": {
           "shape": ""
          }
         },
         "name": "CNG",
         "offsetgroup": "CNG",
         "orientation": "v",
         "showlegend": true,
         "textfont": {
          "size": 9
         },
         "textposition": "auto",
         "texttemplate": "%{y:.1f}",
         "type": "bar",
         "x": [
          "Bus"
         ],
         "xaxis": "x",
         "y": [
          0.2310754785488463
         ],
         "yaxis": "y"
        },
        {
         "alignmentgroup": "True",
         "hovertemplate": "Carrier=CNG<br>Period=2025<br>Vehicle Class=%{x}<br>New Capacity=%{y}<extra></extra>",
         "legendgroup": "CNG",
         "marker": {
          "color": "#FF9900",
          "pattern": {
           "shape": ""
          }
         },
         "name": "CNG",
         "offsetgroup": "CNG",
         "orientation": "v",
         "showlegend": false,
         "textfont": {
          "size": 9
         },
         "textposition": "auto",
         "texttemplate": "%{y:.1f}",
         "type": "bar",
         "x": [
          "Bus"
         ],
         "xaxis": "x2",
         "y": [
          0.002920624233976987
         ],
         "yaxis": "y2"
        },
        {
         "alignmentgroup": "True",
         "hovertemplate": "Carrier=CNG<br>Period=2030<br>Vehicle Class=%{x}<br>New Capacity=%{y}<extra></extra>",
         "legendgroup": "CNG",
         "marker": {
          "color": "#FF9900",
          "pattern": {
           "shape": ""
          }
         },
         "name": "CNG",
         "offsetgroup": "CNG",
         "orientation": "v",
         "showlegend": false,
         "textfont": {
          "size": 9
         },
         "textposition": "auto",
         "texttemplate": "%{y:.1f}",
         "type": "bar",
         "x": [
          "Bus"
         ],
         "xaxis": "x3",
         "y": [
          0.001789484844258447
         ],
         "yaxis": "y3"
        },
        {
         "alignmentgroup": "True",
         "hovertemplate": "Carrier=CNG<br>Period=2035<br>Vehicle Class=%{x}<br>New Capacity=%{y}<extra></extra>",
         "legendgroup": "CNG",
         "marker": {
          "color": "#FF9900",
          "pattern": {
           "shape": ""
          }
         },
         "name": "CNG",
         "offsetgroup": "CNG",
         "orientation": "v",
         "showlegend": false,
         "textfont": {
          "size": 9
         },
         "textposition": "auto",
         "texttemplate": "%{y:.1f}",
         "type": "bar",
         "x": [
          "Bus"
         ],
         "xaxis": "x4",
         "y": [
          0
         ],
         "yaxis": "y4"
        },
        {
         "alignmentgroup": "True",
         "hovertemplate": "Carrier=CNG<br>Period=2040<br>Vehicle Class=%{x}<br>New Capacity=%{y}<extra></extra>",
         "legendgroup": "CNG",
         "marker": {
          "color": "#FF9900",
          "pattern": {
           "shape": ""
          }
         },
         "name": "CNG",
         "offsetgroup": "CNG",
         "orientation": "v",
         "showlegend": false,
         "textfont": {
          "size": 9
         },
         "textposition": "auto",
         "texttemplate": "%{y:.1f}",
         "type": "bar",
         "x": [
          "Bus"
         ],
         "xaxis": "x5",
         "y": [
          0
         ],
         "yaxis": "y5"
        },
        {
         "alignmentgroup": "True",
         "hovertemplate": "Carrier=CNG<br>Period=2045<br>Vehicle Class=%{x}<br>New Capacity=%{y}<extra></extra>",
         "legendgroup": "CNG",
         "marker": {
          "color": "#FF9900",
          "pattern": {
           "shape": ""
          }
         },
         "name": "CNG",
         "offsetgroup": "CNG",
         "orientation": "v",
         "showlegend": false,
         "textfont": {
          "size": 9
         },
         "textposition": "auto",
         "texttemplate": "%{y:.1f}",
         "type": "bar",
         "x": [
          "Bus"
         ],
         "xaxis": "x6",
         "y": [
          0
         ],
         "yaxis": "y6"
        },
        {
         "alignmentgroup": "True",
         "hovertemplate": "Carrier=CNG<br>Period=2050<br>Vehicle Class=%{x}<br>New Capacity=%{y}<extra></extra>",
         "legendgroup": "CNG",
         "marker": {
          "color": "#FF9900",
          "pattern": {
           "shape": ""
          }
         },
         "name": "CNG",
         "offsetgroup": "CNG",
         "orientation": "v",
         "showlegend": false,
         "textfont": {
          "size": 9
         },
         "textposition": "auto",
         "texttemplate": "%{y:.1f}",
         "type": "bar",
         "x": [
          "Bus"
         ],
         "xaxis": "x7",
         "y": [
          0
         ],
         "yaxis": "y7"
        },
        {
         "alignmentgroup": "True",
         "hovertemplate": "Carrier=HEV<br>Period=2021<br>Vehicle Class=%{x}<br>New Capacity=%{y}<extra></extra>",
         "legendgroup": "HEV",
         "marker": {
          "color": "#109618",
          "pattern": {
           "shape": ""
          }
         },
         "name": "HEV",
         "offsetgroup": "HEV",
         "orientation": "v",
         "showlegend": true,
         "textfont": {
          "size": 9
         },
         "textposition": "auto",
         "texttemplate": "%{y:.1f}",
         "type": "bar",
         "x": [
          "Bus",
          "HD Truck",
          "MD Truck"
         ],
         "xaxis": "x",
         "y": [
          0.2310651382883904,
          0,
          0
         ],
         "yaxis": "y"
        },
        {
         "alignmentgroup": "True",
         "hovertemplate": "Carrier=HEV<br>Period=2025<br>Vehicle Class=%{x}<br>New Capacity=%{y}<extra></extra>",
         "legendgroup": "HEV",
         "marker": {
          "color": "#109618",
          "pattern": {
           "shape": ""
          }
         },
         "name": "HEV",
         "offsetgroup": "HEV",
         "orientation": "v",
         "showlegend": false,
         "textfont": {
          "size": 9
         },
         "textposition": "auto",
         "texttemplate": "%{y:.1f}",
         "type": "bar",
         "x": [
          "Bus",
          "HD Truck",
          "MD Truck"
         ],
         "xaxis": "x2",
         "y": [
          0.002921981923631134,
          1.970000043446612,
          0.3838107203170292
         ],
         "yaxis": "y2"
        },
        {
         "alignmentgroup": "True",
         "hovertemplate": "Carrier=HEV<br>Period=2030<br>Vehicle Class=%{x}<br>New Capacity=%{y}<extra></extra>",
         "legendgroup": "HEV",
         "marker": {
          "color": "#109618",
          "pattern": {
           "shape": ""
          }
         },
         "name": "HEV",
         "offsetgroup": "HEV",
         "orientation": "v",
         "showlegend": false,
         "textfont": {
          "size": 9
         },
         "textposition": "auto",
         "texttemplate": "%{y:.1f}",
         "type": "bar",
         "x": [
          "Bus",
          "HD Truck",
          "MD Truck"
         ],
         "xaxis": "x3",
         "y": [
          0.00237428683621356,
          4.794979488682115,
          0.354984003398931
         ],
         "yaxis": "y3"
        },
        {
         "alignmentgroup": "True",
         "hovertemplate": "Carrier=HEV<br>Period=2035<br>Vehicle Class=%{x}<br>New Capacity=%{y}<extra></extra>",
         "legendgroup": "HEV",
         "marker": {
          "color": "#109618",
          "pattern": {
           "shape": ""
          }
         },
         "name": "HEV",
         "offsetgroup": "HEV",
         "orientation": "v",
         "showlegend": false,
         "textfont": {
          "size": 9
         },
         "textposition": "auto",
         "texttemplate": "%{y:.1f}",
         "type": "bar",
         "x": [
          "Bus",
          "HD Truck",
          "MD Truck"
         ],
         "xaxis": "x4",
         "y": [
          0.00008513630278822644,
          8.064417770786777,
          4.368885497387977
         ],
         "yaxis": "y4"
        },
        {
         "alignmentgroup": "True",
         "hovertemplate": "Carrier=HEV<br>Period=2040<br>Vehicle Class=%{x}<br>New Capacity=%{y}<extra></extra>",
         "legendgroup": "HEV",
         "marker": {
          "color": "#109618",
          "pattern": {
           "shape": ""
          }
         },
         "name": "HEV",
         "offsetgroup": "HEV",
         "orientation": "v",
         "showlegend": false,
         "textfont": {
          "size": 9
         },
         "textposition": "auto",
         "texttemplate": "%{y:.1f}",
         "type": "bar",
         "x": [
          "Bus",
          "HD Truck",
          "MD Truck"
         ],
         "xaxis": "x5",
         "y": [
          0.00004564353630847358,
          10.10364620742057,
          0
         ],
         "yaxis": "y5"
        },
        {
         "alignmentgroup": "True",
         "hovertemplate": "Carrier=HEV<br>Period=2045<br>Vehicle Class=%{x}<br>New Capacity=%{y}<extra></extra>",
         "legendgroup": "HEV",
         "marker": {
          "color": "#109618",
          "pattern": {
           "shape": ""
          }
         },
         "name": "HEV",
         "offsetgroup": "HEV",
         "orientation": "v",
         "showlegend": false,
         "textfont": {
          "size": 9
         },
         "textposition": "auto",
         "texttemplate": "%{y:.1f}",
         "type": "bar",
         "x": [
          "Bus",
          "HD Truck",
          "MD Truck"
         ],
         "xaxis": "x6",
         "y": [
          0,
          0,
          0
         ],
         "yaxis": "y6"
        },
        {
         "alignmentgroup": "True",
         "hovertemplate": "Carrier=HEV<br>Period=2050<br>Vehicle Class=%{x}<br>New Capacity=%{y}<extra></extra>",
         "legendgroup": "HEV",
         "marker": {
          "color": "#109618",
          "pattern": {
           "shape": ""
          }
         },
         "name": "HEV",
         "offsetgroup": "HEV",
         "orientation": "v",
         "showlegend": false,
         "textfont": {
          "size": 9
         },
         "textposition": "auto",
         "texttemplate": "%{y:.1f}",
         "type": "bar",
         "x": [
          "Bus",
          "HD Truck",
          "MD Truck"
         ],
         "xaxis": "x7",
         "y": [
          0,
          0,
          0
         ],
         "yaxis": "y7"
        },
        {
         "alignmentgroup": "True",
         "hovertemplate": "Carrier=PHEV<br>Period=2021<br>Vehicle Class=%{x}<br>New Capacity=%{y}<extra></extra>",
         "legendgroup": "PHEV",
         "marker": {
          "color": "#990099",
          "pattern": {
           "shape": ""
          }
         },
         "name": "PHEV",
         "offsetgroup": "PHEV",
         "orientation": "v",
         "showlegend": true,
         "textfont": {
          "size": 9
         },
         "textposition": "auto",
         "texttemplate": "%{y:.1f}",
         "type": "bar",
         "x": [
          "Bus",
          "HD Truck",
          "MD Truck"
         ],
         "xaxis": "x",
         "y": [
          0,
          0,
          0
         ],
         "yaxis": "y"
        },
        {
         "alignmentgroup": "True",
         "hovertemplate": "Carrier=PHEV<br>Period=2025<br>Vehicle Class=%{x}<br>New Capacity=%{y}<extra></extra>",
         "legendgroup": "PHEV",
         "marker": {
          "color": "#990099",
          "pattern": {
           "shape": ""
          }
         },
         "name": "PHEV",
         "offsetgroup": "PHEV",
         "orientation": "v",
         "showlegend": false,
         "textfont": {
          "size": 9
         },
         "textposition": "auto",
         "texttemplate": "%{y:.1f}",
         "type": "bar",
         "x": [
          "Bus",
          "HD Truck",
          "MD Truck"
         ],
         "xaxis": "x2",
         "y": [
          0,
          0,
          3.249999481025406
         ],
         "yaxis": "y2"
        },
        {
         "alignmentgroup": "True",
         "hovertemplate": "Carrier=PHEV<br>Period=2030<br>Vehicle Class=%{x}<br>New Capacity=%{y}<extra></extra>",
         "legendgroup": "PHEV",
         "marker": {
          "color": "#990099",
          "pattern": {
           "shape": ""
          }
         },
         "name": "PHEV",
         "offsetgroup": "PHEV",
         "orientation": "v",
         "showlegend": false,
         "textfont": {
          "size": 9
         },
         "textposition": "auto",
         "texttemplate": "%{y:.1f}",
         "type": "bar",
         "x": [
          "Bus",
          "HD Truck",
          "MD Truck"
         ],
         "xaxis": "x3",
         "y": [
          0,
          0,
          8.851255758628986
         ],
         "yaxis": "y3"
        },
        {
         "alignmentgroup": "True",
         "hovertemplate": "Carrier=PHEV<br>Period=2035<br>Vehicle Class=%{x}<br>New Capacity=%{y}<extra></extra>",
         "legendgroup": "PHEV",
         "marker": {
          "color": "#990099",
          "pattern": {
           "shape": ""
          }
         },
         "name": "PHEV",
         "offsetgroup": "PHEV",
         "orientation": "v",
         "showlegend": false,
         "textfont": {
          "size": 9
         },
         "textposition": "auto",
         "texttemplate": "%{y:.1f}",
         "type": "bar",
         "x": [
          "Bus",
          "HD Truck",
          "MD Truck"
         ],
         "xaxis": "x4",
         "y": [
          0,
          1.970008332652064,
          31.14914943390508
         ],
         "yaxis": "y4"
        },
        {
         "alignmentgroup": "True",
         "hovertemplate": "Carrier=PHEV<br>Period=2040<br>Vehicle Class=%{x}<br>New Capacity=%{y}<extra></extra>",
         "legendgroup": "PHEV",
         "marker": {
          "color": "#990099",
          "pattern": {
           "shape": ""
          }
         },
         "name": "PHEV",
         "offsetgroup": "PHEV",
         "orientation": "v",
         "showlegend": false,
         "textfont": {
          "size": 9
         },
         "textposition": "auto",
         "texttemplate": "%{y:.1f}",
         "type": "bar",
         "x": [
          "Bus",
          "HD Truck",
          "MD Truck"
         ],
         "xaxis": "x5",
         "y": [
          0,
          4.789081762852295,
          0.00003993728203092412
         ],
         "yaxis": "y5"
        },
        {
         "alignmentgroup": "True",
         "hovertemplate": "Carrier=PHEV<br>Period=2045<br>Vehicle Class=%{x}<br>New Capacity=%{y}<extra></extra>",
         "legendgroup": "PHEV",
         "marker": {
          "color": "#990099",
          "pattern": {
           "shape": ""
          }
         },
         "name": "PHEV",
         "offsetgroup": "PHEV",
         "orientation": "v",
         "showlegend": false,
         "textfont": {
          "size": 9
         },
         "textposition": "auto",
         "texttemplate": "%{y:.1f}",
         "type": "bar",
         "x": [
          "Bus",
          "HD Truck",
          "MD Truck"
         ],
         "xaxis": "x6",
         "y": [
          0,
          0.6433469641861173,
          0
         ],
         "yaxis": "y6"
        },
        {
         "alignmentgroup": "True",
         "hovertemplate": "Carrier=PHEV<br>Period=2050<br>Vehicle Class=%{x}<br>New Capacity=%{y}<extra></extra>",
         "legendgroup": "PHEV",
         "marker": {
          "color": "#990099",
          "pattern": {
           "shape": ""
          }
         },
         "name": "PHEV",
         "offsetgroup": "PHEV",
         "orientation": "v",
         "showlegend": false,
         "textfont": {
          "size": 9
         },
         "textposition": "auto",
         "texttemplate": "%{y:.1f}",
         "type": "bar",
         "x": [
          "Bus",
          "HD Truck",
          "MD Truck"
         ],
         "xaxis": "x7",
         "y": [
          0,
          1.456762700704458,
          3.249995454661194
         ],
         "yaxis": "y7"
        },
        {
         "alignmentgroup": "True",
         "hovertemplate": "Carrier=BEV<br>Period=2021<br>Vehicle Class=%{x}<br>New Capacity=%{y}<extra></extra>",
         "legendgroup": "BEV",
         "marker": {
          "color": "#0099C6",
          "pattern": {
           "shape": ""
          }
         },
         "name": "BEV",
         "offsetgroup": "BEV",
         "orientation": "v",
         "showlegend": true,
         "textfont": {
          "size": 9
         },
         "textposition": "auto",
         "texttemplate": "%{y:.1f}",
         "type": "bar",
         "x": [
          "Bus",
          "HD Truck",
          "MD Truck"
         ],
         "xaxis": "x",
         "y": [
          0.7942358117807062,
          0,
          0
         ],
         "yaxis": "y"
        },
        {
         "alignmentgroup": "True",
         "hovertemplate": "Carrier=BEV<br>Period=2025<br>Vehicle Class=%{x}<br>New Capacity=%{y}<extra></extra>",
         "legendgroup": "BEV",
         "marker": {
          "color": "#0099C6",
          "pattern": {
           "shape": ""
          }
         },
         "name": "BEV",
         "offsetgroup": "BEV",
         "orientation": "v",
         "showlegend": false,
         "textfont": {
          "size": 9
         },
         "textposition": "auto",
         "texttemplate": "%{y:.1f}",
         "type": "bar",
         "x": [
          "Bus",
          "HD Truck",
          "MD Truck"
         ],
         "xaxis": "x2",
         "y": [
          2.7486332235290107,
          1.970000114901598,
          3.249999952484961
         ],
         "yaxis": "y2"
        },
        {
         "alignmentgroup": "True",
         "hovertemplate": "Carrier=BEV<br>Period=2030<br>Vehicle Class=%{x}<br>New Capacity=%{y}<extra></extra>",
         "legendgroup": "BEV",
         "marker": {
          "color": "#0099C6",
          "pattern": {
           "shape": ""
          }
         },
         "name": "BEV",
         "offsetgroup": "BEV",
         "orientation": "v",
         "showlegend": false,
         "textfont": {
          "size": 9
         },
         "textposition": "auto",
         "texttemplate": "%{y:.1f}",
         "type": "bar",
         "x": [
          "Bus",
          "HD Truck",
          "MD Truck"
         ],
         "xaxis": "x3",
         "y": [
          12.37623341629942,
          4.794980094197768,
          9.79224977983348
         ],
         "yaxis": "y3"
        },
        {
         "alignmentgroup": "True",
         "hovertemplate": "Carrier=BEV<br>Period=2035<br>Vehicle Class=%{x}<br>New Capacity=%{y}<extra></extra>",
         "legendgroup": "BEV",
         "marker": {
          "color": "#0099C6",
          "pattern": {
           "shape": ""
          }
         },
         "name": "BEV",
         "offsetgroup": "BEV",
         "orientation": "v",
         "showlegend": false,
         "textfont": {
          "size": 9
         },
         "textposition": "auto",
         "texttemplate": "%{y:.1f}",
         "type": "bar",
         "x": [
          "Bus",
          "HD Truck",
          "MD Truck"
         ],
         "xaxis": "x4",
         "y": [
          8.8823970766983,
          8.064419599937482,
          34.11517046353516
         ],
         "yaxis": "y4"
        },
        {
         "alignmentgroup": "True",
         "hovertemplate": "Carrier=BEV<br>Period=2040<br>Vehicle Class=%{x}<br>New Capacity=%{y}<extra></extra>",
         "legendgroup": "BEV",
         "marker": {
          "color": "#0099C6",
          "pattern": {
           "shape": ""
          }
         },
         "name": "BEV",
         "offsetgroup": "BEV",
         "orientation": "v",
         "showlegend": false,
         "textfont": {
          "size": 9
         },
         "textposition": "auto",
         "texttemplate": "%{y:.1f}",
         "type": "bar",
         "x": [
          "Bus",
          "HD Truck",
          "MD Truck"
         ],
         "xaxis": "x5",
         "y": [
          7.627022731257941,
          13.51018425727496,
          43.60824416494096
         ],
         "yaxis": "y5"
        },
        {
         "alignmentgroup": "True",
         "hovertemplate": "Carrier=BEV<br>Period=2045<br>Vehicle Class=%{x}<br>New Capacity=%{y}<extra></extra>",
         "legendgroup": "BEV",
         "marker": {
          "color": "#0099C6",
          "pattern": {
           "shape": ""
          }
         },
         "name": "BEV",
         "offsetgroup": "BEV",
         "orientation": "v",
         "showlegend": false,
         "textfont": {
          "size": 9
         },
         "textposition": "auto",
         "texttemplate": "%{y:.1f}",
         "type": "bar",
         "x": [
          "Bus",
          "HD Truck",
          "MD Truck"
         ],
         "xaxis": "x6",
         "y": [
          12.994516767131666,
          16.33132545857978,
          54.83844927663939
         ],
         "yaxis": "y6"
        },
        {
         "alignmentgroup": "True",
         "hovertemplate": "Carrier=BEV<br>Period=2050<br>Vehicle Class=%{x}<br>New Capacity=%{y}<extra></extra>",
         "legendgroup": "BEV",
         "marker": {
          "color": "#0099C6",
          "pattern": {
           "shape": ""
          }
         },
         "name": "BEV",
         "offsetgroup": "BEV",
         "orientation": "v",
         "showlegend": false,
         "textfont": {
          "size": 9
         },
         "textposition": "auto",
         "texttemplate": "%{y:.1f}",
         "type": "bar",
         "x": [
          "Bus",
          "HD Truck",
          "MD Truck"
         ],
         "xaxis": "x7",
         "y": [
          10.329542547293194,
          22.49847467944838,
          131.2977771128477
         ],
         "yaxis": "y7"
        },
        {
         "alignmentgroup": "True",
         "hovertemplate": "Carrier=FCEV<br>Period=2021<br>Vehicle Class=%{x}<br>New Capacity=%{y}<extra></extra>",
         "legendgroup": "FCEV",
         "marker": {
          "color": "#DD4477",
          "pattern": {
           "shape": ""
          }
         },
         "name": "FCEV",
         "offsetgroup": "FCEV",
         "orientation": "v",
         "showlegend": true,
         "textfont": {
          "size": 9
         },
         "textposition": "auto",
         "texttemplate": "%{y:.1f}",
         "type": "bar",
         "x": [
          "Bus",
          "HD Truck",
          "MD Truck"
         ],
         "xaxis": "x",
         "y": [
          0,
          0,
          0
         ],
         "yaxis": "y"
        },
        {
         "alignmentgroup": "True",
         "hovertemplate": "Carrier=FCEV<br>Period=2025<br>Vehicle Class=%{x}<br>New Capacity=%{y}<extra></extra>",
         "legendgroup": "FCEV",
         "marker": {
          "color": "#DD4477",
          "pattern": {
           "shape": ""
          }
         },
         "name": "FCEV",
         "offsetgroup": "FCEV",
         "orientation": "v",
         "showlegend": false,
         "textfont": {
          "size": 9
         },
         "textposition": "auto",
         "texttemplate": "%{y:.1f}",
         "type": "bar",
         "x": [
          "Bus",
          "HD Truck",
          "MD Truck"
         ],
         "xaxis": "x2",
         "y": [
          4.5575623031517365,
          3.939999613699924,
          6.499999725816556
         ],
         "yaxis": "y2"
        },
        {
         "alignmentgroup": "True",
         "hovertemplate": "Carrier=FCEV<br>Period=2030<br>Vehicle Class=%{x}<br>New Capacity=%{y}<extra></extra>",
         "legendgroup": "FCEV",
         "marker": {
          "color": "#DD4477",
          "pattern": {
           "shape": ""
          }
         },
         "name": "FCEV",
         "offsetgroup": "FCEV",
         "orientation": "v",
         "showlegend": false,
         "textfont": {
          "size": 9
         },
         "textposition": "auto",
         "texttemplate": "%{y:.1f}",
         "type": "bar",
         "x": [
          "Bus",
          "HD Truck",
          "MD Truck"
         ],
         "xaxis": "x3",
         "y": [
          0.0576184845114733,
          9.589959104879046,
          19.584498554071466
         ],
         "yaxis": "y3"
        },
        {
         "alignmentgroup": "True",
         "hovertemplate": "Carrier=FCEV<br>Period=2035<br>Vehicle Class=%{x}<br>New Capacity=%{y}<extra></extra>",
         "legendgroup": "FCEV",
         "marker": {
          "color": "#DD4477",
          "pattern": {
           "shape": ""
          }
         },
         "name": "FCEV",
         "offsetgroup": "FCEV",
         "orientation": "v",
         "showlegend": false,
         "textfont": {
          "size": 9
         },
         "textposition": "auto",
         "texttemplate": "%{y:.1f}",
         "type": "bar",
         "x": [
          "Bus",
          "HD Truck",
          "MD Truck"
         ],
         "xaxis": "x4",
         "y": [
          0.042362053625586434,
          16.128837679515275,
          68.23032779293924
         ],
         "yaxis": "y4"
        },
        {
         "alignmentgroup": "True",
         "hovertemplate": "Carrier=FCEV<br>Period=2040<br>Vehicle Class=%{x}<br>New Capacity=%{y}<extra></extra>",
         "legendgroup": "FCEV",
         "marker": {
          "color": "#DD4477",
          "pattern": {
           "shape": ""
          }
         },
         "name": "FCEV",
         "offsetgroup": "FCEV",
         "orientation": "v",
         "showlegend": false,
         "textfont": {
          "size": 9
         },
         "textposition": "auto",
         "texttemplate": "%{y:.1f}",
         "type": "bar",
         "x": [
          "Bus",
          "HD Truck",
          "MD Truck"
         ],
         "xaxis": "x5",
         "y": [
          0.4530500537120993,
          27.02036533747618,
          50.554208950292505
         ],
         "yaxis": "y5"
        },
        {
         "alignmentgroup": "True",
         "hovertemplate": "Carrier=FCEV<br>Period=2045<br>Vehicle Class=%{x}<br>New Capacity=%{y}<extra></extra>",
         "legendgroup": "FCEV",
         "marker": {
          "color": "#DD4477",
          "pattern": {
           "shape": ""
          }
         },
         "name": "FCEV",
         "offsetgroup": "FCEV",
         "orientation": "v",
         "showlegend": false,
         "textfont": {
          "size": 9
         },
         "textposition": "auto",
         "texttemplate": "%{y:.1f}",
         "type": "bar",
         "x": [
          "Bus",
          "HD Truck",
          "MD Truck"
         ],
         "xaxis": "x6",
         "y": [
          0.011160390893346642,
          24.12123467885548,
          26.79241011274437
         ],
         "yaxis": "y6"
        },
        {
         "alignmentgroup": "True",
         "hovertemplate": "Carrier=FCEV<br>Period=2050<br>Vehicle Class=%{x}<br>New Capacity=%{y}<extra></extra>",
         "legendgroup": "FCEV",
         "marker": {
          "color": "#DD4477",
          "pattern": {
           "shape": ""
          }
         },
         "name": "FCEV",
         "offsetgroup": "FCEV",
         "orientation": "v",
         "showlegend": false,
         "textfont": {
          "size": 9
         },
         "textposition": "auto",
         "texttemplate": "%{y:.1f}",
         "type": "bar",
         "x": [
          "Bus",
          "HD Truck",
          "MD Truck"
         ],
         "xaxis": "x7",
         "y": [
          0.0066960777840896065,
          34.26036068549422,
          69.06027959633056
         ],
         "yaxis": "y7"
        }
       ],
       "layout": {
        "annotations": [
         {
          "font": {},
          "showarrow": false,
          "text": "2021",
          "x": 0.06285714285714285,
          "xanchor": "center",
          "xref": "paper",
          "y": -0.08,
          "yanchor": "top",
          "yref": "paper"
         },
         {
          "font": {},
          "showarrow": false,
          "text": "2025",
          "x": 0.20857142857142852,
          "xanchor": "center",
          "xref": "paper",
          "y": -0.08,
          "yanchor": "top",
          "yref": "paper"
         },
         {
          "font": {},
          "showarrow": false,
          "text": "2030",
          "x": 0.3542857142857142,
          "xanchor": "center",
          "xref": "paper",
          "y": -0.08,
          "yanchor": "top",
          "yref": "paper"
         },
         {
          "font": {},
          "showarrow": false,
          "text": "2035",
          "x": 0.5,
          "xanchor": "center",
          "xref": "paper",
          "y": -0.08,
          "yanchor": "top",
          "yref": "paper"
         },
         {
          "font": {},
          "showarrow": false,
          "text": "2040",
          "x": 0.6457142857142856,
          "xanchor": "center",
          "xref": "paper",
          "y": -0.08,
          "yanchor": "top",
          "yref": "paper"
         },
         {
          "font": {},
          "showarrow": false,
          "text": "2045",
          "x": 0.7914285714285713,
          "xanchor": "center",
          "xref": "paper",
          "y": -0.08,
          "yanchor": "top",
          "yref": "paper"
         },
         {
          "font": {},
          "showarrow": false,
          "text": "2050",
          "x": 0.937142857142857,
          "xanchor": "center",
          "xref": "paper",
          "y": -0.08,
          "yanchor": "top",
          "yref": "paper"
         }
        ],
        "bargap": 0.1,
        "barmode": "stack",
        "font": {
         "size": 14
        },
        "height": 650,
        "legend": {
         "orientation": "h",
         "title": {
          "text": ""
         },
         "tracegroupgap": 0,
         "x": 0.5,
         "xanchor": "center",
         "y": 1.03,
         "yanchor": "top"
        },
        "margin": {
         "t": 60
        },
        "template": {
         "data": {
          "bar": [
           {
            "error_x": {
             "color": "#2a3f5f"
            },
            "error_y": {
             "color": "#2a3f5f"
            },
            "marker": {
             "line": {
              "color": "white",
              "width": 0.5
             },
             "pattern": {
              "fillmode": "overlay",
              "size": 10,
              "solidity": 0.2
             }
            },
            "type": "bar"
           }
          ],
          "barpolar": [
           {
            "marker": {
             "line": {
              "color": "white",
              "width": 0.5
             },
             "pattern": {
              "fillmode": "overlay",
              "size": 10,
              "solidity": 0.2
             }
            },
            "type": "barpolar"
           }
          ],
          "carpet": [
           {
            "aaxis": {
             "endlinecolor": "#2a3f5f",
             "gridcolor": "#C8D4E3",
             "linecolor": "#C8D4E3",
             "minorgridcolor": "#C8D4E3",
             "startlinecolor": "#2a3f5f"
            },
            "baxis": {
             "endlinecolor": "#2a3f5f",
             "gridcolor": "#C8D4E3",
             "linecolor": "#C8D4E3",
             "minorgridcolor": "#C8D4E3",
             "startlinecolor": "#2a3f5f"
            },
            "type": "carpet"
           }
          ],
          "choropleth": [
           {
            "colorbar": {
             "outlinewidth": 0,
             "ticks": ""
            },
            "type": "choropleth"
           }
          ],
          "contour": [
           {
            "colorbar": {
             "outlinewidth": 0,
             "ticks": ""
            },
            "colorscale": [
             [
              0,
              "#0d0887"
             ],
             [
              0.1111111111111111,
              "#46039f"
             ],
             [
              0.2222222222222222,
              "#7201a8"
             ],
             [
              0.3333333333333333,
              "#9c179e"
             ],
             [
              0.4444444444444444,
              "#bd3786"
             ],
             [
              0.5555555555555556,
              "#d8576b"
             ],
             [
              0.6666666666666666,
              "#ed7953"
             ],
             [
              0.7777777777777778,
              "#fb9f3a"
             ],
             [
              0.8888888888888888,
              "#fdca26"
             ],
             [
              1,
              "#f0f921"
             ]
            ],
            "type": "contour"
           }
          ],
          "contourcarpet": [
           {
            "colorbar": {
             "outlinewidth": 0,
             "ticks": ""
            },
            "type": "contourcarpet"
           }
          ],
          "heatmap": [
           {
            "colorbar": {
             "outlinewidth": 0,
             "ticks": ""
            },
            "colorscale": [
             [
              0,
              "#0d0887"
             ],
             [
              0.1111111111111111,
              "#46039f"
             ],
             [
              0.2222222222222222,
              "#7201a8"
             ],
             [
              0.3333333333333333,
              "#9c179e"
             ],
             [
              0.4444444444444444,
              "#bd3786"
             ],
             [
              0.5555555555555556,
              "#d8576b"
             ],
             [
              0.6666666666666666,
              "#ed7953"
             ],
             [
              0.7777777777777778,
              "#fb9f3a"
             ],
             [
              0.8888888888888888,
              "#fdca26"
             ],
             [
              1,
              "#f0f921"
             ]
            ],
            "type": "heatmap"
           }
          ],
          "heatmapgl": [
           {
            "colorbar": {
             "outlinewidth": 0,
             "ticks": ""
            },
            "colorscale": [
             [
              0,
              "#0d0887"
             ],
             [
              0.1111111111111111,
              "#46039f"
             ],
             [
              0.2222222222222222,
              "#7201a8"
             ],
             [
              0.3333333333333333,
              "#9c179e"
             ],
             [
              0.4444444444444444,
              "#bd3786"
             ],
             [
              0.5555555555555556,
              "#d8576b"
             ],
             [
              0.6666666666666666,
              "#ed7953"
             ],
             [
              0.7777777777777778,
              "#fb9f3a"
             ],
             [
              0.8888888888888888,
              "#fdca26"
             ],
             [
              1,
              "#f0f921"
             ]
            ],
            "type": "heatmapgl"
           }
          ],
          "histogram": [
           {
            "marker": {
             "pattern": {
              "fillmode": "overlay",
              "size": 10,
              "solidity": 0.2
             }
            },
            "type": "histogram"
           }
          ],
          "histogram2d": [
           {
            "colorbar": {
             "outlinewidth": 0,
             "ticks": ""
            },
            "colorscale": [
             [
              0,
              "#0d0887"
             ],
             [
              0.1111111111111111,
              "#46039f"
             ],
             [
              0.2222222222222222,
              "#7201a8"
             ],
             [
              0.3333333333333333,
              "#9c179e"
             ],
             [
              0.4444444444444444,
              "#bd3786"
             ],
             [
              0.5555555555555556,
              "#d8576b"
             ],
             [
              0.6666666666666666,
              "#ed7953"
             ],
             [
              0.7777777777777778,
              "#fb9f3a"
             ],
             [
              0.8888888888888888,
              "#fdca26"
             ],
             [
              1,
              "#f0f921"
             ]
            ],
            "type": "histogram2d"
           }
          ],
          "histogram2dcontour": [
           {
            "colorbar": {
             "outlinewidth": 0,
             "ticks": ""
            },
            "colorscale": [
             [
              0,
              "#0d0887"
             ],
             [
              0.1111111111111111,
              "#46039f"
             ],
             [
              0.2222222222222222,
              "#7201a8"
             ],
             [
              0.3333333333333333,
              "#9c179e"
             ],
             [
              0.4444444444444444,
              "#bd3786"
             ],
             [
              0.5555555555555556,
              "#d8576b"
             ],
             [
              0.6666666666666666,
              "#ed7953"
             ],
             [
              0.7777777777777778,
              "#fb9f3a"
             ],
             [
              0.8888888888888888,
              "#fdca26"
             ],
             [
              1,
              "#f0f921"
             ]
            ],
            "type": "histogram2dcontour"
           }
          ],
          "mesh3d": [
           {
            "colorbar": {
             "outlinewidth": 0,
             "ticks": ""
            },
            "type": "mesh3d"
           }
          ],
          "parcoords": [
           {
            "line": {
             "colorbar": {
              "outlinewidth": 0,
              "ticks": ""
             }
            },
            "type": "parcoords"
           }
          ],
          "pie": [
           {
            "automargin": true,
            "type": "pie"
           }
          ],
          "scatter": [
           {
            "fillpattern": {
             "fillmode": "overlay",
             "size": 10,
             "solidity": 0.2
            },
            "type": "scatter"
           }
          ],
          "scatter3d": [
           {
            "line": {
             "colorbar": {
              "outlinewidth": 0,
              "ticks": ""
             }
            },
            "marker": {
             "colorbar": {
              "outlinewidth": 0,
              "ticks": ""
             }
            },
            "type": "scatter3d"
           }
          ],
          "scattercarpet": [
           {
            "marker": {
             "colorbar": {
              "outlinewidth": 0,
              "ticks": ""
             }
            },
            "type": "scattercarpet"
           }
          ],
          "scattergeo": [
           {
            "marker": {
             "colorbar": {
              "outlinewidth": 0,
              "ticks": ""
             }
            },
            "type": "scattergeo"
           }
          ],
          "scattergl": [
           {
            "marker": {
             "colorbar": {
              "outlinewidth": 0,
              "ticks": ""
             }
            },
            "type": "scattergl"
           }
          ],
          "scattermapbox": [
           {
            "marker": {
             "colorbar": {
              "outlinewidth": 0,
              "ticks": ""
             }
            },
            "type": "scattermapbox"
           }
          ],
          "scatterpolar": [
           {
            "marker": {
             "colorbar": {
              "outlinewidth": 0,
              "ticks": ""
             }
            },
            "type": "scatterpolar"
           }
          ],
          "scatterpolargl": [
           {
            "marker": {
             "colorbar": {
              "outlinewidth": 0,
              "ticks": ""
             }
            },
            "type": "scatterpolargl"
           }
          ],
          "scatterternary": [
           {
            "marker": {
             "colorbar": {
              "outlinewidth": 0,
              "ticks": ""
             }
            },
            "type": "scatterternary"
           }
          ],
          "surface": [
           {
            "colorbar": {
             "outlinewidth": 0,
             "ticks": ""
            },
            "colorscale": [
             [
              0,
              "#0d0887"
             ],
             [
              0.1111111111111111,
              "#46039f"
             ],
             [
              0.2222222222222222,
              "#7201a8"
             ],
             [
              0.3333333333333333,
              "#9c179e"
             ],
             [
              0.4444444444444444,
              "#bd3786"
             ],
             [
              0.5555555555555556,
              "#d8576b"
             ],
             [
              0.6666666666666666,
              "#ed7953"
             ],
             [
              0.7777777777777778,
              "#fb9f3a"
             ],
             [
              0.8888888888888888,
              "#fdca26"
             ],
             [
              1,
              "#f0f921"
             ]
            ],
            "type": "surface"
           }
          ],
          "table": [
           {
            "cells": {
             "fill": {
              "color": "#EBF0F8"
             },
             "line": {
              "color": "white"
             }
            },
            "header": {
             "fill": {
              "color": "#C8D4E3"
             },
             "line": {
              "color": "white"
             }
            },
            "type": "table"
           }
          ]
         },
         "layout": {
          "annotationdefaults": {
           "arrowcolor": "#2a3f5f",
           "arrowhead": 0,
           "arrowwidth": 1
          },
          "autotypenumbers": "strict",
          "coloraxis": {
           "colorbar": {
            "outlinewidth": 0,
            "ticks": ""
           }
          },
          "colorscale": {
           "diverging": [
            [
             0,
             "#8e0152"
            ],
            [
             0.1,
             "#c51b7d"
            ],
            [
             0.2,
             "#de77ae"
            ],
            [
             0.3,
             "#f1b6da"
            ],
            [
             0.4,
             "#fde0ef"
            ],
            [
             0.5,
             "#f7f7f7"
            ],
            [
             0.6,
             "#e6f5d0"
            ],
            [
             0.7,
             "#b8e186"
            ],
            [
             0.8,
             "#7fbc41"
            ],
            [
             0.9,
             "#4d9221"
            ],
            [
             1,
             "#276419"
            ]
           ],
           "sequential": [
            [
             0,
             "#0d0887"
            ],
            [
             0.1111111111111111,
             "#46039f"
            ],
            [
             0.2222222222222222,
             "#7201a8"
            ],
            [
             0.3333333333333333,
             "#9c179e"
            ],
            [
             0.4444444444444444,
             "#bd3786"
            ],
            [
             0.5555555555555556,
             "#d8576b"
            ],
            [
             0.6666666666666666,
             "#ed7953"
            ],
            [
             0.7777777777777778,
             "#fb9f3a"
            ],
            [
             0.8888888888888888,
             "#fdca26"
            ],
            [
             1,
             "#f0f921"
            ]
           ],
           "sequentialminus": [
            [
             0,
             "#0d0887"
            ],
            [
             0.1111111111111111,
             "#46039f"
            ],
            [
             0.2222222222222222,
             "#7201a8"
            ],
            [
             0.3333333333333333,
             "#9c179e"
            ],
            [
             0.4444444444444444,
             "#bd3786"
            ],
            [
             0.5555555555555556,
             "#d8576b"
            ],
            [
             0.6666666666666666,
             "#ed7953"
            ],
            [
             0.7777777777777778,
             "#fb9f3a"
            ],
            [
             0.8888888888888888,
             "#fdca26"
            ],
            [
             1,
             "#f0f921"
            ]
           ]
          },
          "colorway": [
           "#636efa",
           "#EF553B",
           "#00cc96",
           "#ab63fa",
           "#FFA15A",
           "#19d3f3",
           "#FF6692",
           "#B6E880",
           "#FF97FF",
           "#FECB52"
          ],
          "font": {
           "color": "#2a3f5f"
          },
          "geo": {
           "bgcolor": "white",
           "lakecolor": "white",
           "landcolor": "white",
           "showlakes": true,
           "showland": true,
           "subunitcolor": "#C8D4E3"
          },
          "hoverlabel": {
           "align": "left"
          },
          "hovermode": "closest",
          "mapbox": {
           "style": "light"
          },
          "paper_bgcolor": "white",
          "plot_bgcolor": "white",
          "polar": {
           "angularaxis": {
            "gridcolor": "#EBF0F8",
            "linecolor": "#EBF0F8",
            "ticks": ""
           },
           "bgcolor": "white",
           "radialaxis": {
            "gridcolor": "#EBF0F8",
            "linecolor": "#EBF0F8",
            "ticks": ""
           }
          },
          "scene": {
           "xaxis": {
            "backgroundcolor": "white",
            "gridcolor": "#DFE8F3",
            "gridwidth": 2,
            "linecolor": "#EBF0F8",
            "showbackground": true,
            "ticks": "",
            "zerolinecolor": "#EBF0F8"
           },
           "yaxis": {
            "backgroundcolor": "white",
            "gridcolor": "#DFE8F3",
            "gridwidth": 2,
            "linecolor": "#EBF0F8",
            "showbackground": true,
            "ticks": "",
            "zerolinecolor": "#EBF0F8"
           },
           "zaxis": {
            "backgroundcolor": "white",
            "gridcolor": "#DFE8F3",
            "gridwidth": 2,
            "linecolor": "#EBF0F8",
            "showbackground": true,
            "ticks": "",
            "zerolinecolor": "#EBF0F8"
           }
          },
          "shapedefaults": {
           "line": {
            "color": "#2a3f5f"
           }
          },
          "ternary": {
           "aaxis": {
            "gridcolor": "#DFE8F3",
            "linecolor": "#A2B1C6",
            "ticks": ""
           },
           "baxis": {
            "gridcolor": "#DFE8F3",
            "linecolor": "#A2B1C6",
            "ticks": ""
           },
           "bgcolor": "white",
           "caxis": {
            "gridcolor": "#DFE8F3",
            "linecolor": "#A2B1C6",
            "ticks": ""
           }
          },
          "title": {
           "x": 0.05
          },
          "xaxis": {
           "automargin": true,
           "gridcolor": "#EBF0F8",
           "linecolor": "#EBF0F8",
           "ticks": "",
           "title": {
            "standoff": 15
           },
           "zerolinecolor": "#EBF0F8",
           "zerolinewidth": 2
          },
          "yaxis": {
           "automargin": true,
           "gridcolor": "#EBF0F8",
           "linecolor": "#EBF0F8",
           "ticks": "",
           "title": {
            "standoff": 15
           },
           "zerolinecolor": "#EBF0F8",
           "zerolinewidth": 2
          }
         }
        },
        "title": {
         "text": "Transportation fleet expansion in ON by vehicle class and drivetrain",
         "x": 0.5,
         "xanchor": "center",
         "y": 0.97,
         "yanchor": "top"
        },
        "width": 1000,
        "xaxis": {
         "anchor": "y",
         "domain": [
          0,
          0.1257142857142857
         ],
         "title": {
          "text": ""
         }
        },
        "xaxis2": {
         "anchor": "y2",
         "domain": [
          0.14571428571428569,
          0.27142857142857135
         ],
         "matches": "x",
         "title": {
          "text": ""
         }
        },
        "xaxis3": {
         "anchor": "y3",
         "domain": [
          0.29142857142857137,
          0.41714285714285704
         ],
         "matches": "x",
         "title": {
          "text": ""
         }
        },
        "xaxis4": {
         "anchor": "y4",
         "domain": [
          0.4371428571428571,
          0.5628571428571428
         ],
         "matches": "x",
         "title": {
          "text": ""
         }
        },
        "xaxis5": {
         "anchor": "y5",
         "domain": [
          0.5828571428571427,
          0.7085714285714284
         ],
         "matches": "x",
         "title": {
          "text": ""
         }
        },
        "xaxis6": {
         "anchor": "y6",
         "domain": [
          0.7285714285714284,
          0.8542857142857141
         ],
         "matches": "x",
         "title": {
          "text": ""
         }
        },
        "xaxis7": {
         "anchor": "y7",
         "domain": [
          0.8742857142857142,
          0.9999999999999999
         ],
         "matches": "x",
         "title": {
          "text": ""
         }
        },
        "yaxis": {
         "anchor": "x",
         "domain": [
          0,
          1
         ],
         "dtick": 20,
         "title": {
          "standoff": 0,
          "text": "New vehicles (k units)"
         }
        },
        "yaxis2": {
         "anchor": "x2",
         "domain": [
          0,
          1
         ],
         "dtick": 20,
         "matches": "y",
         "showticklabels": false
        },
        "yaxis3": {
         "anchor": "x3",
         "domain": [
          0,
          1
         ],
         "dtick": 20,
         "matches": "y",
         "showticklabels": false
        },
        "yaxis4": {
         "anchor": "x4",
         "domain": [
          0,
          1
         ],
         "dtick": 20,
         "matches": "y",
         "showticklabels": false
        },
        "yaxis5": {
         "anchor": "x5",
         "domain": [
          0,
          1
         ],
         "dtick": 20,
         "matches": "y",
         "showticklabels": false
        },
        "yaxis6": {
         "anchor": "x6",
         "domain": [
          0,
          1
         ],
         "dtick": 20,
         "matches": "y",
         "showticklabels": false
        },
        "yaxis7": {
         "anchor": "x7",
         "domain": [
          0,
          1
         ],
         "dtick": 20,
         "matches": "y",
         "showticklabels": false
        }
       }
      }
     },
     "metadata": {},
     "output_type": "display_data"
    }
   ],
   "source": [
    "ref_fig = ref_trnnewcap[ref_trnnewcap['Vehicle Class'].isin(['Bus', 'MD Truck', 'HD Truck'])][['Period', 'Vehicle Class', 'New Capacity', 'Carrier']].groupby(['Period', 'Vehicle Class', 'Carrier'], as_index=False).sum()\n",
    "ref_fig['New Capacity (M units)'] = ref_fig['New Capacity']/1E3\n",
    "\n",
    "ref_fig['Carrier'] = pd.Categorical(ref_fig['Carrier'], categories=drivetrain_order, ordered=True)\n",
    "ref_fig = ref_fig.sort_values(['Carrier', 'Period'])\n",
    "\n",
    "fig = px.bar(ref_fig, \n",
    "             x='Vehicle Class', \n",
    "             y='New Capacity', \n",
    "             color='Carrier', \n",
    "             barmode='stack', \n",
    "             facet_col='Period',\n",
    "             facet_col_spacing=2E-2,\n",
    "             template='plotly_white',\n",
    "             color_discrete_sequence=px.colors.qualitative.G10[:7] + px.colors.qualitative.G10[8:],\n",
    "             text_auto='.1f',\n",
    "             width=1000, height=650,\n",
    "             )\n",
    "\n",
    "fig.update_layout(title=dict(\n",
    "        text='Transportation fleet expansion in ON by vehicle class and drivetrain',\n",
    "        x=0.5, \n",
    "        y=0.97,\n",
    "        xanchor='center',\n",
    "        yanchor='top'\n",
    "    ),\n",
    "    xaxis=dict(title='Period'),\n",
    "    yaxis=dict(title='New vehicles (k units)',\n",
    "               dtick=20),\n",
    "    yaxis_title_standoff=0,\n",
    "    legend_title_text='',\n",
    "    bargap=0.1,\n",
    "    legend=dict(\n",
    "        orientation='h',  \n",
    "        yanchor='top',\n",
    "        y=1.03,  \n",
    "        xanchor='center',\n",
    "        x=0.5),\n",
    "    font=dict(\n",
    "        # family=\"Open Sans\",\n",
    "        size=14)\n",
    "    )\n",
    "\n",
    "for annotation in fig.layout.annotations:\n",
    "    annotation.text = annotation.text.split('=')[1]\n",
    "    annotation.y = -0.08  \n",
    "    annotation.yanchor = 'top' \n",
    "\n",
    "for axis in fig.layout:\n",
    "    if axis.startswith('yaxis'):\n",
    "        fig.layout[axis].dtick = 20\n",
    "\n",
    "for axis in fig.layout:\n",
    "    if axis.startswith('xaxis'):\n",
    "        fig.layout[axis].title.text = ''\n",
    "\n",
    "fig.for_each_trace(lambda trace: trace.update(textfont=dict(size=9)))\n",
    "\n",
    "fig.show()"
   ]
  },
  {
   "cell_type": "code",
   "execution_count": 79,
   "metadata": {},
   "outputs": [],
   "source": [
    "gtech_class_mapping = {\n",
    "    'LD Car': 'LDV',\n",
    "    'LD Truck': 'LDV',\n",
    "    'HD Truck': 'HDV',\n",
    "}\n",
    "\n",
    "gtech_carrier_mapping = {\n",
    "    'CNG': 'ICEV',\n",
    "    'HEV': 'ICEV',\n",
    "    'PHEV': 'ICEV',\n",
    "    'Diesel': 'ICEV',\n",
    "    'Gasoline': 'ICEV',\n",
    "    'BEV': 'BEV',\n",
    "    'FCEV': 'FCEV',\n",
    "}"
   ]
  },
  {
   "cell_type": "code",
   "execution_count": 80,
   "metadata": {},
   "outputs": [
    {
     "data": {
      "application/vnd.plotly.v1+json": {
       "config": {
        "plotlyServerURL": "https://plot.ly"
       },
       "data": [
        {
         "fillpattern": {
          "shape": ""
         },
         "hovertemplate": "Drivetrain=BEV<br>Class=LDV<br>Source=CANOE<br>Period=%{x}<br>Market Share (%)=%{y}<extra></extra>",
         "legendgroup": "BEV",
         "line": {
          "color": "#636efa"
         },
         "marker": {
          "symbol": "circle"
         },
         "mode": "lines",
         "name": "BEV",
         "orientation": "v",
         "showlegend": true,
         "stackgroup": "1",
         "type": "scatter",
         "x": [
          "2021",
          "2025",
          "2030",
          "2035",
          "2040",
          "2045",
          "2050"
         ],
         "xaxis": "x3",
         "y": [
          6.98813794625287,
          44.48209703774542,
          60.813674406415345,
          67.426893981933,
          99.2501433375217,
          96.86785607238141,
          99.95585789110166
         ],
         "yaxis": "y3"
        },
        {
         "fillpattern": {
          "shape": ""
         },
         "hovertemplate": "Drivetrain=BEV<br>Class=LDV<br>Source=gTech-IESD<br>Period=%{x}<br>Market Share (%)=%{y}<extra></extra>",
         "legendgroup": "BEV",
         "line": {
          "color": "#636efa"
         },
         "marker": {
          "symbol": "circle"
         },
         "mode": "lines",
         "name": "BEV",
         "orientation": "v",
         "showlegend": false,
         "stackgroup": "1",
         "type": "scatter",
         "x": [
          "2021",
          "2025",
          "2030",
          "2035",
          "2040",
          "2045",
          "2050"
         ],
         "xaxis": "x4",
         "y": [
          1.6048756384,
          3.290410276,
          9.122431832,
          24.21289582,
          37.77109615,
          48.85986564,
          54.22833528
         ],
         "yaxis": "y4"
        },
        {
         "fillpattern": {
          "shape": ""
         },
         "hovertemplate": "Drivetrain=BEV<br>Class=HDV<br>Source=CANOE<br>Period=%{x}<br>Market Share (%)=%{y}<extra></extra>",
         "legendgroup": "BEV",
         "line": {
          "color": "#636efa"
         },
         "marker": {
          "symbol": "circle"
         },
         "mode": "lines",
         "name": "BEV",
         "orientation": "v",
         "showlegend": false,
         "stackgroup": "1",
         "type": "scatter",
         "x": [
          "2021",
          "2025",
          "2030",
          "2035",
          "2040",
          "2045",
          "2050"
         ],
         "xaxis": "x",
         "y": [
          0,
          8.493184583425027,
          11.21381130542377,
          15.825885543965112,
          22.358165817134648,
          39.739542476081404,
          38.646815333027895
         ],
         "yaxis": "y"
        },
        {
         "fillpattern": {
          "shape": ""
         },
         "hovertemplate": "Drivetrain=BEV<br>Class=HDV<br>Source=gTech-IESD<br>Period=%{x}<br>Market Share (%)=%{y}<extra></extra>",
         "legendgroup": "BEV",
         "line": {
          "color": "#636efa"
         },
         "marker": {
          "symbol": "circle"
         },
         "mode": "lines",
         "name": "BEV",
         "orientation": "v",
         "showlegend": false,
         "stackgroup": "1",
         "type": "scatter",
         "x": [
          "2021",
          "2025",
          "2030",
          "2035",
          "2040",
          "2045",
          "2050"
         ],
         "xaxis": "x2",
         "y": [
          0,
          0,
          1.175884875,
          2.455146146,
          3.654034012,
          4.38461547,
          4.567742631
         ],
         "yaxis": "y2"
        },
        {
         "fillpattern": {
          "shape": ""
         },
         "hovertemplate": "Drivetrain=FCEV<br>Class=LDV<br>Source=CANOE<br>Period=%{x}<br>Market Share (%)=%{y}<extra></extra>",
         "legendgroup": "FCEV",
         "line": {
          "color": "#EF553B"
         },
         "marker": {
          "symbol": "circle"
         },
         "mode": "lines",
         "name": "FCEV",
         "orientation": "v",
         "showlegend": true,
         "stackgroup": "1",
         "type": "scatter",
         "x": [
          "2021",
          "2025",
          "2030",
          "2035",
          "2040",
          "2045",
          "2050"
         ],
         "xaxis": "x3",
         "y": [
          0,
          0.0005999879002690743,
          0.006787712093577097,
          0.025965503077490792,
          0.0016694433793910087,
          0.00030694708663927444,
          0.0005635965796744538
         ],
         "yaxis": "y3"
        },
        {
         "fillpattern": {
          "shape": ""
         },
         "hovertemplate": "Drivetrain=FCEV<br>Class=LDV<br>Source=gTech-IESD<br>Period=%{x}<br>Market Share (%)=%{y}<extra></extra>",
         "legendgroup": "FCEV",
         "line": {
          "color": "#EF553B"
         },
         "marker": {
          "symbol": "circle"
         },
         "mode": "lines",
         "name": "FCEV",
         "orientation": "v",
         "showlegend": false,
         "stackgroup": "1",
         "type": "scatter",
         "x": [
          "2021",
          "2025",
          "2030",
          "2035",
          "2040",
          "2045",
          "2050"
         ],
         "xaxis": "x4",
         "y": [
          0.000038726,
          0.00019363,
          0.000269259,
          0.000338545,
          0.000383179,
          0.000457183,
          0.000593939
         ],
         "yaxis": "y4"
        },
        {
         "fillpattern": {
          "shape": ""
         },
         "hovertemplate": "Drivetrain=FCEV<br>Class=HDV<br>Source=CANOE<br>Period=%{x}<br>Market Share (%)=%{y}<extra></extra>",
         "legendgroup": "FCEV",
         "line": {
          "color": "#EF553B"
         },
         "marker": {
          "symbol": "circle"
         },
         "mode": "lines",
         "name": "FCEV",
         "orientation": "v",
         "showlegend": false,
         "stackgroup": "1",
         "type": "scatter",
         "x": [
          "2021",
          "2025",
          "2030",
          "2035",
          "2040",
          "2045",
          "2050"
         ],
         "xaxis": "x",
         "y": [
          0,
          16.98636651066807,
          22.42762007687467,
          31.651768104325743,
          44.71632637649189,
          58.69498054686768,
          58.85082662358013
         ],
         "yaxis": "y"
        },
        {
         "fillpattern": {
          "shape": ""
         },
         "hovertemplate": "Drivetrain=FCEV<br>Class=HDV<br>Source=gTech-IESD<br>Period=%{x}<br>Market Share (%)=%{y}<extra></extra>",
         "legendgroup": "FCEV",
         "line": {
          "color": "#EF553B"
         },
         "marker": {
          "symbol": "circle"
         },
         "mode": "lines",
         "name": "FCEV",
         "orientation": "v",
         "showlegend": false,
         "stackgroup": "1",
         "type": "scatter",
         "x": [
          "2021",
          "2025",
          "2030",
          "2035",
          "2040",
          "2045",
          "2050"
         ],
         "xaxis": "x2",
         "y": [
          0,
          0,
          0.714838827,
          1.986843545,
          3.254556205,
          4.200529189,
          4.594587849
         ],
         "yaxis": "y2"
        },
        {
         "fillpattern": {
          "shape": ""
         },
         "hovertemplate": "Drivetrain=ICEV<br>Class=LDV<br>Source=CANOE<br>Period=%{x}<br>Market Share (%)=%{y}<extra></extra>",
         "legendgroup": "ICEV",
         "line": {
          "color": "#00cc96"
         },
         "marker": {
          "symbol": "circle"
         },
         "mode": "lines",
         "name": "ICEV",
         "orientation": "v",
         "showlegend": true,
         "stackgroup": "1",
         "type": "scatter",
         "x": [
          "2021",
          "2025",
          "2030",
          "2035",
          "2040",
          "2045",
          "2050"
         ],
         "xaxis": "x3",
         "y": [
          93.01186205374714,
          55.51730297435431,
          39.179537881491086,
          32.5471405149895,
          0.7481872190988885,
          3.1318369805319475,
          0.043578512318672435
         ],
         "yaxis": "y3"
        },
        {
         "fillpattern": {
          "shape": ""
         },
         "hovertemplate": "Drivetrain=ICEV<br>Class=LDV<br>Source=gTech-IESD<br>Period=%{x}<br>Market Share (%)=%{y}<extra></extra>",
         "legendgroup": "ICEV",
         "line": {
          "color": "#00cc96"
         },
         "marker": {
          "symbol": "circle"
         },
         "mode": "lines",
         "name": "ICEV",
         "orientation": "v",
         "showlegend": false,
         "stackgroup": "1",
         "type": "scatter",
         "x": [
          "2021",
          "2025",
          "2030",
          "2035",
          "2040",
          "2045",
          "2050"
         ],
         "xaxis": "x4",
         "y": [
          98.395085634,
          96.70939609,
          90.87729891,
          75.78676564,
          62.22852067,
          51.13967718,
          45.77107078
         ],
         "yaxis": "y4"
        },
        {
         "fillpattern": {
          "shape": ""
         },
         "hovertemplate": "Drivetrain=ICEV<br>Class=HDV<br>Source=CANOE<br>Period=%{x}<br>Market Share (%)=%{y}<extra></extra>",
         "legendgroup": "ICEV",
         "line": {
          "color": "#00cc96"
         },
         "marker": {
          "symbol": "circle"
         },
         "mode": "lines",
         "name": "ICEV",
         "orientation": "v",
         "showlegend": false,
         "stackgroup": "1",
         "type": "scatter",
         "x": [
          "2021",
          "2025",
          "2030",
          "2035",
          "2040",
          "2045",
          "2050"
         ],
         "xaxis": "x",
         "y": [
          100,
          74.5204489059069,
          66.35856861770155,
          52.522346351709146,
          32.92550780637346,
          1.5654769770509214,
          2.502358043391968
         ],
         "yaxis": "y"
        },
        {
         "fillpattern": {
          "shape": ""
         },
         "hovertemplate": "Drivetrain=ICEV<br>Class=HDV<br>Source=gTech-IESD<br>Period=%{x}<br>Market Share (%)=%{y}<extra></extra>",
         "legendgroup": "ICEV",
         "line": {
          "color": "#00cc96"
         },
         "marker": {
          "symbol": "circle"
         },
         "mode": "lines",
         "name": "ICEV",
         "orientation": "v",
         "showlegend": false,
         "stackgroup": "1",
         "type": "scatter",
         "x": [
          "2021",
          "2025",
          "2030",
          "2035",
          "2040",
          "2045",
          "2050"
         ],
         "xaxis": "x2",
         "y": [
          100,
          100,
          98.1092763,
          95.55801031,
          93.09140978,
          91.41485534,
          90.83766952
         ],
         "yaxis": "y2"
        }
       ],
       "layout": {
        "annotations": [
         {
          "showarrow": false,
          "text": "Source=CANOE",
          "x": 0.24,
          "xanchor": "center",
          "xref": "paper",
          "y": 1,
          "yanchor": "bottom",
          "yref": "paper"
         },
         {
          "showarrow": false,
          "text": "Source=gTech-IESD",
          "x": 0.74,
          "xanchor": "center",
          "xref": "paper",
          "y": 1,
          "yanchor": "bottom",
          "yref": "paper"
         },
         {
          "showarrow": false,
          "text": "Class=HDV",
          "textangle": 90,
          "x": 0.98,
          "xanchor": "left",
          "xref": "paper",
          "y": 0.2475,
          "yanchor": "middle",
          "yref": "paper"
         },
         {
          "showarrow": false,
          "text": "Class=LDV",
          "textangle": 90,
          "x": 0.98,
          "xanchor": "left",
          "xref": "paper",
          "y": 0.7525,
          "yanchor": "middle",
          "yref": "paper"
         },
         {
          "font": {
           "size": 14
          },
          "showarrow": false,
          "text": "Market Share (%)",
          "textangle": -90,
          "x": -0.05,
          "xref": "paper",
          "y": 0.5,
          "yref": "paper"
         }
        ],
        "bargap": 0.1,
        "font": {
         "size": 13
        },
        "height": 600,
        "legend": {
         "orientation": "h",
         "title": {
          "text": ""
         },
         "tracegroupgap": 0,
         "x": 0.5,
         "xanchor": "center",
         "y": 1.05,
         "yanchor": "top"
        },
        "margin": {
         "t": 60
        },
        "template": {
         "data": {
          "bar": [
           {
            "error_x": {
             "color": "#2a3f5f"
            },
            "error_y": {
             "color": "#2a3f5f"
            },
            "marker": {
             "line": {
              "color": "white",
              "width": 0.5
             },
             "pattern": {
              "fillmode": "overlay",
              "size": 10,
              "solidity": 0.2
             }
            },
            "type": "bar"
           }
          ],
          "barpolar": [
           {
            "marker": {
             "line": {
              "color": "white",
              "width": 0.5
             },
             "pattern": {
              "fillmode": "overlay",
              "size": 10,
              "solidity": 0.2
             }
            },
            "type": "barpolar"
           }
          ],
          "carpet": [
           {
            "aaxis": {
             "endlinecolor": "#2a3f5f",
             "gridcolor": "#C8D4E3",
             "linecolor": "#C8D4E3",
             "minorgridcolor": "#C8D4E3",
             "startlinecolor": "#2a3f5f"
            },
            "baxis": {
             "endlinecolor": "#2a3f5f",
             "gridcolor": "#C8D4E3",
             "linecolor": "#C8D4E3",
             "minorgridcolor": "#C8D4E3",
             "startlinecolor": "#2a3f5f"
            },
            "type": "carpet"
           }
          ],
          "choropleth": [
           {
            "colorbar": {
             "outlinewidth": 0,
             "ticks": ""
            },
            "type": "choropleth"
           }
          ],
          "contour": [
           {
            "colorbar": {
             "outlinewidth": 0,
             "ticks": ""
            },
            "colorscale": [
             [
              0,
              "#0d0887"
             ],
             [
              0.1111111111111111,
              "#46039f"
             ],
             [
              0.2222222222222222,
              "#7201a8"
             ],
             [
              0.3333333333333333,
              "#9c179e"
             ],
             [
              0.4444444444444444,
              "#bd3786"
             ],
             [
              0.5555555555555556,
              "#d8576b"
             ],
             [
              0.6666666666666666,
              "#ed7953"
             ],
             [
              0.7777777777777778,
              "#fb9f3a"
             ],
             [
              0.8888888888888888,
              "#fdca26"
             ],
             [
              1,
              "#f0f921"
             ]
            ],
            "type": "contour"
           }
          ],
          "contourcarpet": [
           {
            "colorbar": {
             "outlinewidth": 0,
             "ticks": ""
            },
            "type": "contourcarpet"
           }
          ],
          "heatmap": [
           {
            "colorbar": {
             "outlinewidth": 0,
             "ticks": ""
            },
            "colorscale": [
             [
              0,
              "#0d0887"
             ],
             [
              0.1111111111111111,
              "#46039f"
             ],
             [
              0.2222222222222222,
              "#7201a8"
             ],
             [
              0.3333333333333333,
              "#9c179e"
             ],
             [
              0.4444444444444444,
              "#bd3786"
             ],
             [
              0.5555555555555556,
              "#d8576b"
             ],
             [
              0.6666666666666666,
              "#ed7953"
             ],
             [
              0.7777777777777778,
              "#fb9f3a"
             ],
             [
              0.8888888888888888,
              "#fdca26"
             ],
             [
              1,
              "#f0f921"
             ]
            ],
            "type": "heatmap"
           }
          ],
          "heatmapgl": [
           {
            "colorbar": {
             "outlinewidth": 0,
             "ticks": ""
            },
            "colorscale": [
             [
              0,
              "#0d0887"
             ],
             [
              0.1111111111111111,
              "#46039f"
             ],
             [
              0.2222222222222222,
              "#7201a8"
             ],
             [
              0.3333333333333333,
              "#9c179e"
             ],
             [
              0.4444444444444444,
              "#bd3786"
             ],
             [
              0.5555555555555556,
              "#d8576b"
             ],
             [
              0.6666666666666666,
              "#ed7953"
             ],
             [
              0.7777777777777778,
              "#fb9f3a"
             ],
             [
              0.8888888888888888,
              "#fdca26"
             ],
             [
              1,
              "#f0f921"
             ]
            ],
            "type": "heatmapgl"
           }
          ],
          "histogram": [
           {
            "marker": {
             "pattern": {
              "fillmode": "overlay",
              "size": 10,
              "solidity": 0.2
             }
            },
            "type": "histogram"
           }
          ],
          "histogram2d": [
           {
            "colorbar": {
             "outlinewidth": 0,
             "ticks": ""
            },
            "colorscale": [
             [
              0,
              "#0d0887"
             ],
             [
              0.1111111111111111,
              "#46039f"
             ],
             [
              0.2222222222222222,
              "#7201a8"
             ],
             [
              0.3333333333333333,
              "#9c179e"
             ],
             [
              0.4444444444444444,
              "#bd3786"
             ],
             [
              0.5555555555555556,
              "#d8576b"
             ],
             [
              0.6666666666666666,
              "#ed7953"
             ],
             [
              0.7777777777777778,
              "#fb9f3a"
             ],
             [
              0.8888888888888888,
              "#fdca26"
             ],
             [
              1,
              "#f0f921"
             ]
            ],
            "type": "histogram2d"
           }
          ],
          "histogram2dcontour": [
           {
            "colorbar": {
             "outlinewidth": 0,
             "ticks": ""
            },
            "colorscale": [
             [
              0,
              "#0d0887"
             ],
             [
              0.1111111111111111,
              "#46039f"
             ],
             [
              0.2222222222222222,
              "#7201a8"
             ],
             [
              0.3333333333333333,
              "#9c179e"
             ],
             [
              0.4444444444444444,
              "#bd3786"
             ],
             [
              0.5555555555555556,
              "#d8576b"
             ],
             [
              0.6666666666666666,
              "#ed7953"
             ],
             [
              0.7777777777777778,
              "#fb9f3a"
             ],
             [
              0.8888888888888888,
              "#fdca26"
             ],
             [
              1,
              "#f0f921"
             ]
            ],
            "type": "histogram2dcontour"
           }
          ],
          "mesh3d": [
           {
            "colorbar": {
             "outlinewidth": 0,
             "ticks": ""
            },
            "type": "mesh3d"
           }
          ],
          "parcoords": [
           {
            "line": {
             "colorbar": {
              "outlinewidth": 0,
              "ticks": ""
             }
            },
            "type": "parcoords"
           }
          ],
          "pie": [
           {
            "automargin": true,
            "type": "pie"
           }
          ],
          "scatter": [
           {
            "fillpattern": {
             "fillmode": "overlay",
             "size": 10,
             "solidity": 0.2
            },
            "type": "scatter"
           }
          ],
          "scatter3d": [
           {
            "line": {
             "colorbar": {
              "outlinewidth": 0,
              "ticks": ""
             }
            },
            "marker": {
             "colorbar": {
              "outlinewidth": 0,
              "ticks": ""
             }
            },
            "type": "scatter3d"
           }
          ],
          "scattercarpet": [
           {
            "marker": {
             "colorbar": {
              "outlinewidth": 0,
              "ticks": ""
             }
            },
            "type": "scattercarpet"
           }
          ],
          "scattergeo": [
           {
            "marker": {
             "colorbar": {
              "outlinewidth": 0,
              "ticks": ""
             }
            },
            "type": "scattergeo"
           }
          ],
          "scattergl": [
           {
            "marker": {
             "colorbar": {
              "outlinewidth": 0,
              "ticks": ""
             }
            },
            "type": "scattergl"
           }
          ],
          "scattermapbox": [
           {
            "marker": {
             "colorbar": {
              "outlinewidth": 0,
              "ticks": ""
             }
            },
            "type": "scattermapbox"
           }
          ],
          "scatterpolar": [
           {
            "marker": {
             "colorbar": {
              "outlinewidth": 0,
              "ticks": ""
             }
            },
            "type": "scatterpolar"
           }
          ],
          "scatterpolargl": [
           {
            "marker": {
             "colorbar": {
              "outlinewidth": 0,
              "ticks": ""
             }
            },
            "type": "scatterpolargl"
           }
          ],
          "scatterternary": [
           {
            "marker": {
             "colorbar": {
              "outlinewidth": 0,
              "ticks": ""
             }
            },
            "type": "scatterternary"
           }
          ],
          "surface": [
           {
            "colorbar": {
             "outlinewidth": 0,
             "ticks": ""
            },
            "colorscale": [
             [
              0,
              "#0d0887"
             ],
             [
              0.1111111111111111,
              "#46039f"
             ],
             [
              0.2222222222222222,
              "#7201a8"
             ],
             [
              0.3333333333333333,
              "#9c179e"
             ],
             [
              0.4444444444444444,
              "#bd3786"
             ],
             [
              0.5555555555555556,
              "#d8576b"
             ],
             [
              0.6666666666666666,
              "#ed7953"
             ],
             [
              0.7777777777777778,
              "#fb9f3a"
             ],
             [
              0.8888888888888888,
              "#fdca26"
             ],
             [
              1,
              "#f0f921"
             ]
            ],
            "type": "surface"
           }
          ],
          "table": [
           {
            "cells": {
             "fill": {
              "color": "#EBF0F8"
             },
             "line": {
              "color": "white"
             }
            },
            "header": {
             "fill": {
              "color": "#C8D4E3"
             },
             "line": {
              "color": "white"
             }
            },
            "type": "table"
           }
          ]
         },
         "layout": {
          "annotationdefaults": {
           "arrowcolor": "#2a3f5f",
           "arrowhead": 0,
           "arrowwidth": 1
          },
          "autotypenumbers": "strict",
          "coloraxis": {
           "colorbar": {
            "outlinewidth": 0,
            "ticks": ""
           }
          },
          "colorscale": {
           "diverging": [
            [
             0,
             "#8e0152"
            ],
            [
             0.1,
             "#c51b7d"
            ],
            [
             0.2,
             "#de77ae"
            ],
            [
             0.3,
             "#f1b6da"
            ],
            [
             0.4,
             "#fde0ef"
            ],
            [
             0.5,
             "#f7f7f7"
            ],
            [
             0.6,
             "#e6f5d0"
            ],
            [
             0.7,
             "#b8e186"
            ],
            [
             0.8,
             "#7fbc41"
            ],
            [
             0.9,
             "#4d9221"
            ],
            [
             1,
             "#276419"
            ]
           ],
           "sequential": [
            [
             0,
             "#0d0887"
            ],
            [
             0.1111111111111111,
             "#46039f"
            ],
            [
             0.2222222222222222,
             "#7201a8"
            ],
            [
             0.3333333333333333,
             "#9c179e"
            ],
            [
             0.4444444444444444,
             "#bd3786"
            ],
            [
             0.5555555555555556,
             "#d8576b"
            ],
            [
             0.6666666666666666,
             "#ed7953"
            ],
            [
             0.7777777777777778,
             "#fb9f3a"
            ],
            [
             0.8888888888888888,
             "#fdca26"
            ],
            [
             1,
             "#f0f921"
            ]
           ],
           "sequentialminus": [
            [
             0,
             "#0d0887"
            ],
            [
             0.1111111111111111,
             "#46039f"
            ],
            [
             0.2222222222222222,
             "#7201a8"
            ],
            [
             0.3333333333333333,
             "#9c179e"
            ],
            [
             0.4444444444444444,
             "#bd3786"
            ],
            [
             0.5555555555555556,
             "#d8576b"
            ],
            [
             0.6666666666666666,
             "#ed7953"
            ],
            [
             0.7777777777777778,
             "#fb9f3a"
            ],
            [
             0.8888888888888888,
             "#fdca26"
            ],
            [
             1,
             "#f0f921"
            ]
           ]
          },
          "colorway": [
           "#636efa",
           "#EF553B",
           "#00cc96",
           "#ab63fa",
           "#FFA15A",
           "#19d3f3",
           "#FF6692",
           "#B6E880",
           "#FF97FF",
           "#FECB52"
          ],
          "font": {
           "color": "#2a3f5f"
          },
          "geo": {
           "bgcolor": "white",
           "lakecolor": "white",
           "landcolor": "white",
           "showlakes": true,
           "showland": true,
           "subunitcolor": "#C8D4E3"
          },
          "hoverlabel": {
           "align": "left"
          },
          "hovermode": "closest",
          "mapbox": {
           "style": "light"
          },
          "paper_bgcolor": "white",
          "plot_bgcolor": "white",
          "polar": {
           "angularaxis": {
            "gridcolor": "#EBF0F8",
            "linecolor": "#EBF0F8",
            "ticks": ""
           },
           "bgcolor": "white",
           "radialaxis": {
            "gridcolor": "#EBF0F8",
            "linecolor": "#EBF0F8",
            "ticks": ""
           }
          },
          "scene": {
           "xaxis": {
            "backgroundcolor": "white",
            "gridcolor": "#DFE8F3",
            "gridwidth": 2,
            "linecolor": "#EBF0F8",
            "showbackground": true,
            "ticks": "",
            "zerolinecolor": "#EBF0F8"
           },
           "yaxis": {
            "backgroundcolor": "white",
            "gridcolor": "#DFE8F3",
            "gridwidth": 2,
            "linecolor": "#EBF0F8",
            "showbackground": true,
            "ticks": "",
            "zerolinecolor": "#EBF0F8"
           },
           "zaxis": {
            "backgroundcolor": "white",
            "gridcolor": "#DFE8F3",
            "gridwidth": 2,
            "linecolor": "#EBF0F8",
            "showbackground": true,
            "ticks": "",
            "zerolinecolor": "#EBF0F8"
           }
          },
          "shapedefaults": {
           "line": {
            "color": "#2a3f5f"
           }
          },
          "ternary": {
           "aaxis": {
            "gridcolor": "#DFE8F3",
            "linecolor": "#A2B1C6",
            "ticks": ""
           },
           "baxis": {
            "gridcolor": "#DFE8F3",
            "linecolor": "#A2B1C6",
            "ticks": ""
           },
           "bgcolor": "white",
           "caxis": {
            "gridcolor": "#DFE8F3",
            "linecolor": "#A2B1C6",
            "ticks": ""
           }
          },
          "title": {
           "x": 0.05
          },
          "xaxis": {
           "automargin": true,
           "gridcolor": "#EBF0F8",
           "linecolor": "#EBF0F8",
           "ticks": "",
           "title": {
            "standoff": 15
           },
           "zerolinecolor": "#EBF0F8",
           "zerolinewidth": 2
          },
          "yaxis": {
           "automargin": true,
           "gridcolor": "#EBF0F8",
           "linecolor": "#EBF0F8",
           "ticks": "",
           "title": {
            "standoff": 15
           },
           "zerolinecolor": "#EBF0F8",
           "zerolinewidth": 2
          }
         }
        },
        "title": {
         "text": "On road vehicle market share by weight class, drivetrain and energy model in ON",
         "x": 0.5,
         "xanchor": "center",
         "y": 0.97,
         "yanchor": "top"
        },
        "width": 1100,
        "xaxis": {
         "anchor": "y",
         "domain": [
          0,
          0.48
         ],
         "tickangle": 45,
         "title": {
          "text": ""
         }
        },
        "xaxis2": {
         "anchor": "y2",
         "domain": [
          0.5,
          0.98
         ],
         "matches": "x",
         "tickangle": 45,
         "title": {
          "text": ""
         }
        },
        "xaxis3": {
         "anchor": "y3",
         "domain": [
          0,
          0.48
         ],
         "matches": "x",
         "showticklabels": false,
         "tickangle": 45,
         "title": {
          "text": ""
         }
        },
        "xaxis4": {
         "anchor": "y4",
         "domain": [
          0.5,
          0.98
         ],
         "matches": "x",
         "showticklabels": false,
         "tickangle": 45,
         "title": {
          "text": ""
         }
        },
        "yaxis": {
         "anchor": "x",
         "domain": [
          0,
          0.495
         ],
         "title": {
          "standoff": 0,
          "text": ""
         }
        },
        "yaxis2": {
         "anchor": "x2",
         "domain": [
          0,
          0.495
         ],
         "matches": "y",
         "showticklabels": false,
         "title": {
          "text": ""
         }
        },
        "yaxis3": {
         "anchor": "x3",
         "domain": [
          0.505,
          1
         ],
         "matches": "y",
         "title": {
          "text": ""
         }
        },
        "yaxis4": {
         "anchor": "x4",
         "domain": [
          0.505,
          1
         ],
         "matches": "y",
         "showticklabels": false,
         "title": {
          "text": ""
         }
        }
       }
      }
     },
     "metadata": {},
     "output_type": "display_data"
    }
   ],
   "source": [
    "ref_fig = ref_trnnewcap[ref_trnnewcap['Vehicle Class'].isin(['LD Car', 'LD Truck', 'HD Truck'])][['Period', 'Carrier', 'Vehicle Class', 'New Capacity']]\n",
    "ref_fig['Carrier'] = ref_fig.Carrier.map(gtech_carrier_mapping)\n",
    "ref_fig['Vehicle Class'] = ref_fig['Vehicle Class'].map(gtech_class_mapping)\n",
    "ref_fig = ref_fig.groupby(['Period', 'Carrier', 'Vehicle Class'], as_index=False).sum()\n",
    "\n",
    "veh_tot_cap = ref_fig.groupby(['Period', 'Vehicle Class'], as_index=False).sum('New Capacity')\n",
    "ref_fig = pd.merge(ref_fig, veh_tot_cap, on=['Period', 'Vehicle Class'], suffixes=('', '_sum'))\n",
    "ref_fig['Market Share (%)'] = ref_fig['New Capacity'] / ref_fig['New Capacity_sum'] * 100\n",
    "ref_fig.rename(columns={'Vehicle Class': 'Class', 'Carrier': 'Drivetrain'}, inplace=True)\n",
    "\n",
    "ref_fig['Source'] = 'CANOE'\n",
    "gtech23_ref_vehshare['Source'] = 'gTech-IESD'\n",
    "gtech23_ref_vehshare['Period'] = gtech23_ref_vehshare['Period'].astype(str)\n",
    "fig_df = pd.concat([ref_fig[['Period', 'Class', 'Drivetrain', 'Source', 'Market Share (%)']], gtech23_ref_vehshare[['Period', 'Class', 'Drivetrain', 'Source', 'Market Share (%)']]]).reset_index(drop=True)\n",
    "fig_df['Class'] = pd.Categorical(fig_df['Class'], categories=['LDV', 'HDV'], ordered=True)\n",
    "fig_df = fig_df.sort_values(['Class', 'Period'])\n",
    "\n",
    "fig = px.area(fig_df, x='Period', y='Market Share (%)', color='Drivetrain', facet_col='Source', facet_row='Class',\n",
    "              template='plotly_white',\n",
    "              facet_col_spacing=0.02,\n",
    "              facet_row_spacing=0.01,\n",
    "              width=1100, height=600\n",
    "              )\n",
    "\n",
    "fig.update_layout(\n",
    "    title=dict(text='On road vehicle market share by weight class, drivetrain and energy model in ON',\n",
    "               x=0.5,\n",
    "               y=0.97,\n",
    "               xanchor='center',\n",
    "               yanchor='top'\n",
    "               ),\n",
    "    xaxis=dict(title='Period'),\n",
    "    yaxis=dict(title='Market Share (%)'),\n",
    "    yaxis_title_standoff=0,\n",
    "    legend_title_text='',\n",
    "    bargap=0.1,\n",
    "    legend=dict(orientation='h',\n",
    "                yanchor='top',\n",
    "                y=1.05,\n",
    "                xanchor='center',\n",
    "                x=0.5),\n",
    "    font=dict(size=13,\n",
    "              # family=\"Open Sans\"\n",
    "              ))\n",
    "\n",
    "for axis in fig.layout:\n",
    "    if axis.startswith('yaxis'):\n",
    "        fig.layout[axis].title.text = ''\n",
    "    if axis.startswith('xaxis'):\n",
    "        fig.layout[axis].title.text = ''\n",
    "\n",
    "fig.update_xaxes(tickangle=45)\n",
    "\n",
    "fig.add_annotation(\n",
    "    text=\"Market Share (%)\",\n",
    "    x=-0.05,  # Adjust x position as needed\n",
    "    y=0.5,\n",
    "    xref=\"paper\",\n",
    "    yref=\"paper\",\n",
    "    showarrow=False,\n",
    "    textangle=-90,\n",
    "    font=dict(size=14))\n",
    "\n",
    "fig.show()"
   ]
  },
  {
   "cell_type": "code",
   "execution_count": 81,
   "metadata": {},
   "outputs": [],
   "source": [
    "# from scipy.optimize import curve_fit\n",
    "\n",
    "# # Data\n",
    "# df = pd.read_csv('logistic_growth.csv')\n",
    "# df.drop(df.columns[1], axis=1, inplace=True)\n",
    "\n",
    "# # Ensure all data is numeric\n",
    "# df.iloc[:, 1:] = df.iloc[:, 1:].apply(pd.to_numeric)\n",
    "\n",
    "# # Polynomial fit (automatic) and extracting fitted arrays\n",
    "# years = np.array([2025, 2030, 2035, 2040, 2045, 2050], dtype=np.float64)\n",
    "\n",
    "# fitted_data = {}\n",
    "\n",
    "# # Determine the number of rows and columns for subplots\n",
    "# n_technologies = len(df)\n",
    "# n_cols = 2\n",
    "# n_rows = (n_technologies + 1) // n_cols\n",
    "\n",
    "# fig, axes = plt.subplots(n_rows, n_cols, figsize=(15, 10))\n",
    "# axes = axes.flatten()\n",
    "\n",
    "# for idx, row in df.iterrows():\n",
    "#     technology = row['Technology']\n",
    "#     capacities = row[1:].astype(np.float64).values  # Convert capacities to float64\n",
    "    \n",
    "#     # Fit a cubic polynomial to the data\n",
    "#     poly_coeffs = np.polyfit(years, capacities, deg=3)  # Degree 3 polynomial\n",
    "#     poly_fit = np.polyval(poly_coeffs, years)\n",
    "    \n",
    "#     fitted_data[technology] = poly_fit\n",
    "\n",
    "#     # Plotting in a subplot\n",
    "#     ax = axes[idx]\n",
    "#     ax.plot(years, capacities, 'o', label='Original Data')\n",
    "#     ax.plot(years, poly_fit, '-', label='Fitted Polynomial')\n",
    "#     ax.set_title(f'{technology}')\n",
    "#     ax.set_xlabel('Year')\n",
    "#     ax.set_ylabel('Capacity')\n",
    "#     ax.legend()\n",
    "#     ax.grid(True)\n",
    "\n",
    "# # Adjust layout and show the figure\n",
    "# plt.tight_layout()\n",
    "# plt.show()\n",
    "\n",
    "# # Convert fitted data to DataFrame\n",
    "# fitted_df = pd.DataFrame(fitted_data).T  # Transpose to have technologies as rows\n",
    "# fitted_df.columns = years\n",
    "# fitted_df.index.name = 'Technology'\n",
    "\n",
    "# # Copy the DataFrame to clipboard for easy export\n",
    "# fitted_df.to_clipboard()"
   ]
  },
  {
   "cell_type": "markdown",
   "metadata": {},
   "source": [
    "# CANOE vs CEF 2023 vs gTech-IESD - power generation capacity and activity"
   ]
  },
  {
   "cell_type": "code",
   "execution_count": 82,
   "metadata": {},
   "outputs": [],
   "source": [
    "plant_mapping = {\n",
    "    'E_BIO': 'Biomass',\n",
    "    'E_NG': 'Natural Gas',\n",
    "    'E_HYD': 'Hydro',\n",
    "    'E_SOL': 'Solar',\n",
    "    'E_WND': 'Wind',\n",
    "    'E_NUC': 'Nuclear',\n",
    "}\n",
    "\n",
    "def map_tech_to_plant(tech):\n",
    "    for prefix, plant_name in plant_mapping.items():\n",
    "        if tech.startswith(prefix):\n",
    "            return plant_name\n",
    "    return 'Other'\n",
    "\n",
    "ref_elcact['Plant Type'] = ref_elcact['Technology'].apply(map_tech_to_plant)\n",
    "ref_elccap['Plant Type'] = ref_elccap['Technology'].apply(map_tech_to_plant)\n",
    "vanilla_elcact['Plant Type'] = vanilla_elcact['Technology'].apply(map_tech_to_plant)\n",
    "vanilla_elccap['Plant Type'] = vanilla_elccap['Technology'].apply(map_tech_to_plant)\n",
    "nhts_elcact['Plant Type'] = nhts_elcact['Technology'].apply(map_tech_to_plant)\n",
    "nhts_elccap['Plant Type'] = nhts_elccap['Technology'].apply(map_tech_to_plant)\n",
    "nhts_fixed_elcact['Plant Type'] = nhts_fixed_elcact['Technology'].apply(map_tech_to_plant)\n",
    "nhts_fixed_elccap['Plant Type'] = nhts_fixed_elccap['Technology'].apply(map_tech_to_plant)"
   ]
  },
  {
   "cell_type": "code",
   "execution_count": 83,
   "metadata": {},
   "outputs": [],
   "source": [
    "ref_elccap.columns = ref_elccap.columns.astype(str)\n",
    "vanilla_elccap.columns = vanilla_elccap.columns.astype(str)\n",
    "nhts_elccap.columns = nhts_elccap.columns.astype(str)\n",
    "nhts_fixed_elccap.columns = nhts_fixed_elccap.columns.astype(str)\n",
    "\n",
    "periods = [col for col in ref_elccap.columns if col.isdigit()]\n",
    "params = [col for col in ref_elccap.columns if not col.isdigit()]\n",
    "\n",
    "ref_elccap = pd.melt(ref_elccap, id_vars=params, var_name='Period', value_name='Capacity (GW)', value_vars=periods)\n",
    "vanilla_elccap = pd.melt(vanilla_elccap, id_vars=params, var_name='Period', value_name='Capacity (GW)', value_vars=periods)\n",
    "nhts_elccap = pd.melt(nhts_elccap, id_vars=params, var_name='Period', value_name='Capacity (GW)', value_vars=periods)\n",
    "nhts_fixed_elccap = pd.melt(nhts_fixed_elccap, id_vars=params, var_name='Period', value_name='Capacity (GW)', value_vars=periods)"
   ]
  },
  {
   "cell_type": "code",
   "execution_count": 84,
   "metadata": {},
   "outputs": [],
   "source": [
    "def plant_rename(type):\n",
    "    if type == 'hydro':\n",
    "        return 'Hydro'\n",
    "    if type == 'natural gas':\n",
    "        return 'Natural Gas'\n",
    "    if type == 'natural gas w ccs':\n",
    "        return 'Natural Gas'\n",
    "    if type == 'nuclear':\n",
    "        return 'Nuclear'\n",
    "    if type == 'solar':\n",
    "        return 'Solar'\n",
    "    if type == 'wind':\n",
    "        return 'Wind'\n",
    "    else: return 'Other'\n",
    "    \n",
    "gtech23_ref_cap['Plant Type'] = gtech23_ref_cap['Plant Type'].apply(plant_rename)\n",
    "gtech23_ref_cap = gtech23_ref_cap.groupby(['Period', 'Plant Type'], as_index=False).sum()"
   ]
  },
  {
   "cell_type": "code",
   "execution_count": 85,
   "metadata": {},
   "outputs": [
    {
     "data": {
      "application/vnd.plotly.v1+json": {
       "config": {
        "plotlyServerURL": "https://plot.ly"
       },
       "data": [
        {
         "alignmentgroup": "True",
         "hovertemplate": "Plant Type=Biomass<br>Period=2021<br>Source=%{x}<br>Capacity (GW)=%{y}<extra></extra>",
         "legendgroup": "Biomass",
         "marker": {
          "color": "#3366CC",
          "pattern": {
           "shape": ""
          }
         },
         "name": "Biomass",
         "offsetgroup": "Biomass",
         "orientation": "v",
         "showlegend": true,
         "textfont": {
          "size": 9
         },
         "textposition": "auto",
         "texttemplate": "%{y:.1f}",
         "type": "bar",
         "x": [
          "CANOE (vanilla)",
          "CANOE (ref)",
          "CEF2023"
         ],
         "xaxis": "x",
         "y": [
          0.298,
          0.298,
          0.69862
         ],
         "yaxis": "y"
        },
        {
         "alignmentgroup": "True",
         "hovertemplate": "Plant Type=Biomass<br>Period=2025<br>Source=%{x}<br>Capacity (GW)=%{y}<extra></extra>",
         "legendgroup": "Biomass",
         "marker": {
          "color": "#3366CC",
          "pattern": {
           "shape": ""
          }
         },
         "name": "Biomass",
         "offsetgroup": "Biomass",
         "orientation": "v",
         "showlegend": false,
         "textfont": {
          "size": 9
         },
         "textposition": "auto",
         "texttemplate": "%{y:.1f}",
         "type": "bar",
         "x": [
          "CANOE (vanilla)",
          "CANOE (ref)",
          "CEF2023"
         ],
         "xaxis": "x2",
         "y": [
          0.298,
          0.298,
          0.69862
         ],
         "yaxis": "y2"
        },
        {
         "alignmentgroup": "True",
         "hovertemplate": "Plant Type=Biomass<br>Period=2030<br>Source=%{x}<br>Capacity (GW)=%{y}<extra></extra>",
         "legendgroup": "Biomass",
         "marker": {
          "color": "#3366CC",
          "pattern": {
           "shape": ""
          }
         },
         "name": "Biomass",
         "offsetgroup": "Biomass",
         "orientation": "v",
         "showlegend": false,
         "textfont": {
          "size": 9
         },
         "textposition": "auto",
         "texttemplate": "%{y:.1f}",
         "type": "bar",
         "x": [
          "CANOE (vanilla)",
          "CANOE (ref)",
          "CEF2023"
         ],
         "xaxis": "x3",
         "y": [
          0.298,
          0.298,
          0.69862
         ],
         "yaxis": "y3"
        },
        {
         "alignmentgroup": "True",
         "hovertemplate": "Plant Type=Biomass<br>Period=2035<br>Source=%{x}<br>Capacity (GW)=%{y}<extra></extra>",
         "legendgroup": "Biomass",
         "marker": {
          "color": "#3366CC",
          "pattern": {
           "shape": ""
          }
         },
         "name": "Biomass",
         "offsetgroup": "Biomass",
         "orientation": "v",
         "showlegend": false,
         "textfont": {
          "size": 9
         },
         "textposition": "auto",
         "texttemplate": "%{y:.1f}",
         "type": "bar",
         "x": [
          "CANOE (vanilla)",
          "CANOE (ref)",
          "CEF2023"
         ],
         "xaxis": "x4",
         "y": [
          0.298,
          0.298,
          0.69862
         ],
         "yaxis": "y4"
        },
        {
         "alignmentgroup": "True",
         "hovertemplate": "Plant Type=Biomass<br>Period=2040<br>Source=%{x}<br>Capacity (GW)=%{y}<extra></extra>",
         "legendgroup": "Biomass",
         "marker": {
          "color": "#3366CC",
          "pattern": {
           "shape": ""
          }
         },
         "name": "Biomass",
         "offsetgroup": "Biomass",
         "orientation": "v",
         "showlegend": false,
         "textfont": {
          "size": 9
         },
         "textposition": "auto",
         "texttemplate": "%{y:.1f}",
         "type": "bar",
         "x": [
          "CANOE (vanilla)",
          "CANOE (ref)",
          "CEF2023"
         ],
         "xaxis": "x5",
         "y": [
          0.298,
          0.298,
          0.69862
         ],
         "yaxis": "y5"
        },
        {
         "alignmentgroup": "True",
         "hovertemplate": "Plant Type=Biomass<br>Period=2045<br>Source=%{x}<br>Capacity (GW)=%{y}<extra></extra>",
         "legendgroup": "Biomass",
         "marker": {
          "color": "#3366CC",
          "pattern": {
           "shape": ""
          }
         },
         "name": "Biomass",
         "offsetgroup": "Biomass",
         "orientation": "v",
         "showlegend": false,
         "textfont": {
          "size": 9
         },
         "textposition": "auto",
         "texttemplate": "%{y:.1f}",
         "type": "bar",
         "x": [
          "CANOE (vanilla)",
          "CANOE (ref)",
          "CEF2023"
         ],
         "xaxis": "x6",
         "y": [
          0.26,
          0.26,
          0.69862
         ],
         "yaxis": "y6"
        },
        {
         "alignmentgroup": "True",
         "hovertemplate": "Plant Type=Biomass<br>Period=2050<br>Source=%{x}<br>Capacity (GW)=%{y}<extra></extra>",
         "legendgroup": "Biomass",
         "marker": {
          "color": "#3366CC",
          "pattern": {
           "shape": ""
          }
         },
         "name": "Biomass",
         "offsetgroup": "Biomass",
         "orientation": "v",
         "showlegend": false,
         "textfont": {
          "size": 9
         },
         "textposition": "auto",
         "texttemplate": "%{y:.1f}",
         "type": "bar",
         "x": [
          "CANOE (vanilla)",
          "CANOE (ref)",
          "CEF2023"
         ],
         "xaxis": "x7",
         "y": [
          0.26,
          0.26,
          0.69862
         ],
         "yaxis": "y7"
        },
        {
         "alignmentgroup": "True",
         "hovertemplate": "Plant Type=Hydro<br>Period=2021<br>Source=%{x}<br>Capacity (GW)=%{y}<extra></extra>",
         "legendgroup": "Hydro",
         "marker": {
          "color": "#DC3912",
          "pattern": {
           "shape": ""
          }
         },
         "name": "Hydro",
         "offsetgroup": "Hydro",
         "orientation": "v",
         "showlegend": true,
         "textfont": {
          "size": 9
         },
         "textposition": "auto",
         "texttemplate": "%{y:.1f}",
         "type": "bar",
         "x": [
          "CANOE (vanilla)",
          "CANOE (ref)",
          "CEF2023",
          "gTech-IESD"
         ],
         "xaxis": "x",
         "y": [
          6.882899999999999,
          6.882899999999999,
          9.26368,
          9.022917
         ],
         "yaxis": "y"
        },
        {
         "alignmentgroup": "True",
         "hovertemplate": "Plant Type=Hydro<br>Period=2025<br>Source=%{x}<br>Capacity (GW)=%{y}<extra></extra>",
         "legendgroup": "Hydro",
         "marker": {
          "color": "#DC3912",
          "pattern": {
           "shape": ""
          }
         },
         "name": "Hydro",
         "offsetgroup": "Hydro",
         "orientation": "v",
         "showlegend": false,
         "textfont": {
          "size": 9
         },
         "textposition": "auto",
         "texttemplate": "%{y:.1f}",
         "type": "bar",
         "x": [
          "CANOE (vanilla)",
          "CANOE (ref)",
          "CEF2023",
          "gTech-IESD"
         ],
         "xaxis": "x2",
         "y": [
          6.882899999999999,
          6.882899999999999,
          9.26368,
          9.022917
         ],
         "yaxis": "y2"
        },
        {
         "alignmentgroup": "True",
         "hovertemplate": "Plant Type=Hydro<br>Period=2030<br>Source=%{x}<br>Capacity (GW)=%{y}<extra></extra>",
         "legendgroup": "Hydro",
         "marker": {
          "color": "#DC3912",
          "pattern": {
           "shape": ""
          }
         },
         "name": "Hydro",
         "offsetgroup": "Hydro",
         "orientation": "v",
         "showlegend": false,
         "textfont": {
          "size": 9
         },
         "textposition": "auto",
         "texttemplate": "%{y:.1f}",
         "type": "bar",
         "x": [
          "CANOE (vanilla)",
          "CANOE (ref)",
          "CEF2023",
          "gTech-IESD"
         ],
         "xaxis": "x3",
         "y": [
          6.882899999999999,
          6.882899999999999,
          9.26368,
          9.022917
         ],
         "yaxis": "y3"
        },
        {
         "alignmentgroup": "True",
         "hovertemplate": "Plant Type=Hydro<br>Period=2035<br>Source=%{x}<br>Capacity (GW)=%{y}<extra></extra>",
         "legendgroup": "Hydro",
         "marker": {
          "color": "#DC3912",
          "pattern": {
           "shape": ""
          }
         },
         "name": "Hydro",
         "offsetgroup": "Hydro",
         "orientation": "v",
         "showlegend": false,
         "textfont": {
          "size": 9
         },
         "textposition": "auto",
         "texttemplate": "%{y:.1f}",
         "type": "bar",
         "x": [
          "CANOE (vanilla)",
          "CANOE (ref)",
          "CEF2023",
          "gTech-IESD"
         ],
         "xaxis": "x4",
         "y": [
          6.882899999999999,
          6.882899999999999,
          9.26368,
          9.022917
         ],
         "yaxis": "y4"
        },
        {
         "alignmentgroup": "True",
         "hovertemplate": "Plant Type=Hydro<br>Period=2040<br>Source=%{x}<br>Capacity (GW)=%{y}<extra></extra>",
         "legendgroup": "Hydro",
         "marker": {
          "color": "#DC3912",
          "pattern": {
           "shape": ""
          }
         },
         "name": "Hydro",
         "offsetgroup": "Hydro",
         "orientation": "v",
         "showlegend": false,
         "textfont": {
          "size": 9
         },
         "textposition": "auto",
         "texttemplate": "%{y:.1f}",
         "type": "bar",
         "x": [
          "CANOE (vanilla)",
          "CANOE (ref)",
          "CEF2023",
          "gTech-IESD"
         ],
         "xaxis": "x5",
         "y": [
          6.882899999999999,
          6.882899999999999,
          9.26368,
          9.022917
         ],
         "yaxis": "y5"
        },
        {
         "alignmentgroup": "True",
         "hovertemplate": "Plant Type=Hydro<br>Period=2045<br>Source=%{x}<br>Capacity (GW)=%{y}<extra></extra>",
         "legendgroup": "Hydro",
         "marker": {
          "color": "#DC3912",
          "pattern": {
           "shape": ""
          }
         },
         "name": "Hydro",
         "offsetgroup": "Hydro",
         "orientation": "v",
         "showlegend": false,
         "textfont": {
          "size": 9
         },
         "textposition": "auto",
         "texttemplate": "%{y:.1f}",
         "type": "bar",
         "x": [
          "CANOE (vanilla)",
          "CANOE (ref)",
          "CEF2023",
          "gTech-IESD"
         ],
         "xaxis": "x6",
         "y": [
          6.882899999999999,
          6.882899999999999,
          9.26368,
          9.022917
         ],
         "yaxis": "y6"
        },
        {
         "alignmentgroup": "True",
         "hovertemplate": "Plant Type=Hydro<br>Period=2050<br>Source=%{x}<br>Capacity (GW)=%{y}<extra></extra>",
         "legendgroup": "Hydro",
         "marker": {
          "color": "#DC3912",
          "pattern": {
           "shape": ""
          }
         },
         "name": "Hydro",
         "offsetgroup": "Hydro",
         "orientation": "v",
         "showlegend": false,
         "textfont": {
          "size": 9
         },
         "textposition": "auto",
         "texttemplate": "%{y:.1f}",
         "type": "bar",
         "x": [
          "CANOE (vanilla)",
          "CANOE (ref)",
          "CEF2023",
          "gTech-IESD"
         ],
         "xaxis": "x7",
         "y": [
          6.882899999999999,
          6.882899999999999,
          9.26368,
          9.022917
         ],
         "yaxis": "y7"
        },
        {
         "alignmentgroup": "True",
         "hovertemplate": "Plant Type=Natural Gas<br>Period=2021<br>Source=%{x}<br>Capacity (GW)=%{y}<extra></extra>",
         "legendgroup": "Natural Gas",
         "marker": {
          "color": "#FF9900",
          "pattern": {
           "shape": ""
          }
         },
         "name": "Natural Gas",
         "offsetgroup": "Natural Gas",
         "orientation": "v",
         "showlegend": true,
         "textfont": {
          "size": 9
         },
         "textposition": "auto",
         "texttemplate": "%{y:.1f}",
         "type": "bar",
         "x": [
          "CANOE (vanilla)",
          "CANOE (ref)",
          "CEF2023",
          "gTech-IESD"
         ],
         "xaxis": "x",
         "y": [
          25.36376689031948,
          26.305962106243985,
          8.73091,
          8.881363495
         ],
         "yaxis": "y"
        },
        {
         "alignmentgroup": "True",
         "hovertemplate": "Plant Type=Natural Gas<br>Period=2025<br>Source=%{x}<br>Capacity (GW)=%{y}<extra></extra>",
         "legendgroup": "Natural Gas",
         "marker": {
          "color": "#FF9900",
          "pattern": {
           "shape": ""
          }
         },
         "name": "Natural Gas",
         "offsetgroup": "Natural Gas",
         "orientation": "v",
         "showlegend": false,
         "textfont": {
          "size": 9
         },
         "textposition": "auto",
         "texttemplate": "%{y:.1f}",
         "type": "bar",
         "x": [
          "CANOE (vanilla)",
          "CANOE (ref)",
          "CEF2023",
          "gTech-IESD"
         ],
         "xaxis": "x2",
         "y": [
          31.235987480234684,
          33.098896574270455,
          9.242164715000001,
          8.881363495
         ],
         "yaxis": "y2"
        },
        {
         "alignmentgroup": "True",
         "hovertemplate": "Plant Type=Natural Gas<br>Period=2030<br>Source=%{x}<br>Capacity (GW)=%{y}<extra></extra>",
         "legendgroup": "Natural Gas",
         "marker": {
          "color": "#FF9900",
          "pattern": {
           "shape": ""
          }
         },
         "name": "Natural Gas",
         "offsetgroup": "Natural Gas",
         "orientation": "v",
         "showlegend": false,
         "textfont": {
          "size": 9
         },
         "textposition": "auto",
         "texttemplate": "%{y:.1f}",
         "type": "bar",
         "x": [
          "CANOE (vanilla)",
          "CANOE (ref)",
          "CEF2023",
          "gTech-IESD"
         ],
         "xaxis": "x3",
         "y": [
          37.1083866757256,
          41.19645083080086,
          11.9296617061111,
          7.562232888
         ],
         "yaxis": "y3"
        },
        {
         "alignmentgroup": "True",
         "hovertemplate": "Plant Type=Natural Gas<br>Period=2035<br>Source=%{x}<br>Capacity (GW)=%{y}<extra></extra>",
         "legendgroup": "Natural Gas",
         "marker": {
          "color": "#FF9900",
          "pattern": {
           "shape": ""
          }
         },
         "name": "Natural Gas",
         "offsetgroup": "Natural Gas",
         "orientation": "v",
         "showlegend": false,
         "textfont": {
          "size": 9
         },
         "textposition": "auto",
         "texttemplate": "%{y:.1f}",
         "type": "bar",
         "x": [
          "CANOE (vanilla)",
          "CANOE (ref)",
          "CEF2023",
          "gTech-IESD"
         ],
         "xaxis": "x4",
         "y": [
          42.98037523146426,
          47.989110158015436,
          15.5057674794444,
          7.562232888
         ],
         "yaxis": "y4"
        },
        {
         "alignmentgroup": "True",
         "hovertemplate": "Plant Type=Natural Gas<br>Period=2040<br>Source=%{x}<br>Capacity (GW)=%{y}<extra></extra>",
         "legendgroup": "Natural Gas",
         "marker": {
          "color": "#FF9900",
          "pattern": {
           "shape": ""
          }
         },
         "name": "Natural Gas",
         "offsetgroup": "Natural Gas",
         "orientation": "v",
         "showlegend": false,
         "textfont": {
          "size": 9
         },
         "textposition": "auto",
         "texttemplate": "%{y:.1f}",
         "type": "bar",
         "x": [
          "CANOE (vanilla)",
          "CANOE (ref)",
          "CEF2023",
          "gTech-IESD"
         ],
         "xaxis": "x5",
         "y": [
          48.71227430726124,
          54.64142331137633,
          16.2570033405556,
          7.562232888
         ],
         "yaxis": "y5"
        },
        {
         "alignmentgroup": "True",
         "hovertemplate": "Plant Type=Natural Gas<br>Period=2045<br>Source=%{x}<br>Capacity (GW)=%{y}<extra></extra>",
         "legendgroup": "Natural Gas",
         "marker": {
          "color": "#FF9900",
          "pattern": {
           "shape": ""
          }
         },
         "name": "Natural Gas",
         "offsetgroup": "Natural Gas",
         "orientation": "v",
         "showlegend": false,
         "textfont": {
          "size": 9
         },
         "textposition": "auto",
         "texttemplate": "%{y:.1f}",
         "type": "bar",
         "x": [
          "CANOE (vanilla)",
          "CANOE (ref)",
          "CEF2023",
          "gTech-IESD"
         ],
         "xaxis": "x6",
         "y": [
          54.52810769638772,
          61.37764115899524,
          17.750986388,
          7.618583859999999
         ],
         "yaxis": "y6"
        },
        {
         "alignmentgroup": "True",
         "hovertemplate": "Plant Type=Natural Gas<br>Period=2050<br>Source=%{x}<br>Capacity (GW)=%{y}<extra></extra>",
         "legendgroup": "Natural Gas",
         "marker": {
          "color": "#FF9900",
          "pattern": {
           "shape": ""
          }
         },
         "name": "Natural Gas",
         "offsetgroup": "Natural Gas",
         "orientation": "v",
         "showlegend": false,
         "textfont": {
          "size": 9
         },
         "textposition": "auto",
         "texttemplate": "%{y:.1f}",
         "type": "bar",
         "x": [
          "CANOE (vanilla)",
          "CANOE (ref)",
          "CEF2023",
          "gTech-IESD"
         ],
         "xaxis": "x7",
         "y": [
          60.28296667433235,
          68.05305199363099,
          16.4962699274444,
          8.526166019
         ],
         "yaxis": "y7"
        },
        {
         "alignmentgroup": "True",
         "hovertemplate": "Plant Type=Nuclear<br>Period=2021<br>Source=%{x}<br>Capacity (GW)=%{y}<extra></extra>",
         "legendgroup": "Nuclear",
         "marker": {
          "color": "#109618",
          "pattern": {
           "shape": ""
          }
         },
         "name": "Nuclear",
         "offsetgroup": "Nuclear",
         "orientation": "v",
         "showlegend": true,
         "textfont": {
          "size": 9
         },
         "textposition": "auto",
         "texttemplate": "%{y:.1f}",
         "type": "bar",
         "x": [
          "CANOE (vanilla)",
          "CANOE (ref)",
          "CEF2023",
          "gTech-IESD"
         ],
         "xaxis": "x",
         "y": [
          10.377,
          10.377,
          12.38,
          12.343
         ],
         "yaxis": "y"
        },
        {
         "alignmentgroup": "True",
         "hovertemplate": "Plant Type=Nuclear<br>Period=2025<br>Source=%{x}<br>Capacity (GW)=%{y}<extra></extra>",
         "legendgroup": "Nuclear",
         "marker": {
          "color": "#109618",
          "pattern": {
           "shape": ""
          }
         },
         "name": "Nuclear",
         "offsetgroup": "Nuclear",
         "orientation": "v",
         "showlegend": false,
         "textfont": {
          "size": 9
         },
         "textposition": "auto",
         "texttemplate": "%{y:.1f}",
         "type": "bar",
         "x": [
          "CANOE (vanilla)",
          "CANOE (ref)",
          "CEF2023",
          "gTech-IESD"
         ],
         "xaxis": "x2",
         "y": [
          10.377,
          10.377,
          11.445,
          10.675
         ],
         "yaxis": "y2"
        },
        {
         "alignmentgroup": "True",
         "hovertemplate": "Plant Type=Nuclear<br>Period=2030<br>Source=%{x}<br>Capacity (GW)=%{y}<extra></extra>",
         "legendgroup": "Nuclear",
         "marker": {
          "color": "#109618",
          "pattern": {
           "shape": ""
          }
         },
         "name": "Nuclear",
         "offsetgroup": "Nuclear",
         "orientation": "v",
         "showlegend": false,
         "textfont": {
          "size": 9
         },
         "textposition": "auto",
         "texttemplate": "%{y:.1f}",
         "type": "bar",
         "x": [
          "CANOE (vanilla)",
          "CANOE (ref)",
          "CEF2023",
          "gTech-IESD"
         ],
         "xaxis": "x3",
         "y": [
          7.275,
          7.275,
          10.36,
          9.542
         ],
         "yaxis": "y3"
        },
        {
         "alignmentgroup": "True",
         "hovertemplate": "Plant Type=Nuclear<br>Period=2035<br>Source=%{x}<br>Capacity (GW)=%{y}<extra></extra>",
         "legendgroup": "Nuclear",
         "marker": {
          "color": "#109618",
          "pattern": {
           "shape": ""
          }
         },
         "name": "Nuclear",
         "offsetgroup": "Nuclear",
         "orientation": "v",
         "showlegend": false,
         "textfont": {
          "size": 9
         },
         "textposition": "auto",
         "texttemplate": "%{y:.1f}",
         "type": "bar",
         "x": [
          "CANOE (vanilla)",
          "CANOE (ref)",
          "CEF2023",
          "gTech-IESD"
         ],
         "xaxis": "x4",
         "y": [
          5.717,
          5.717,
          11.2,
          9.971
         ],
         "yaxis": "y4"
        },
        {
         "alignmentgroup": "True",
         "hovertemplate": "Plant Type=Nuclear<br>Period=2040<br>Source=%{x}<br>Capacity (GW)=%{y}<extra></extra>",
         "legendgroup": "Nuclear",
         "marker": {
          "color": "#109618",
          "pattern": {
           "shape": ""
          }
         },
         "name": "Nuclear",
         "offsetgroup": "Nuclear",
         "orientation": "v",
         "showlegend": false,
         "textfont": {
          "size": 9
         },
         "textposition": "auto",
         "texttemplate": "%{y:.1f}",
         "type": "bar",
         "x": [
          "CANOE (vanilla)",
          "CANOE (ref)",
          "CEF2023",
          "gTech-IESD"
         ],
         "xaxis": "x5",
         "y": [
          4.149,
          4.149,
          11.2,
          10.4
         ],
         "yaxis": "y5"
        },
        {
         "alignmentgroup": "True",
         "hovertemplate": "Plant Type=Nuclear<br>Period=2045<br>Source=%{x}<br>Capacity (GW)=%{y}<extra></extra>",
         "legendgroup": "Nuclear",
         "marker": {
          "color": "#109618",
          "pattern": {
           "shape": ""
          }
         },
         "name": "Nuclear",
         "offsetgroup": "Nuclear",
         "orientation": "v",
         "showlegend": false,
         "textfont": {
          "size": 9
         },
         "textposition": "auto",
         "texttemplate": "%{y:.1f}",
         "type": "bar",
         "x": [
          "CANOE (vanilla)",
          "CANOE (ref)",
          "CEF2023",
          "gTech-IESD"
         ],
         "xaxis": "x6",
         "y": [
          0.881,
          0.881,
          11.2,
          10.4
         ],
         "yaxis": "y6"
        },
        {
         "alignmentgroup": "True",
         "hovertemplate": "Plant Type=Nuclear<br>Period=2050<br>Source=%{x}<br>Capacity (GW)=%{y}<extra></extra>",
         "legendgroup": "Nuclear",
         "marker": {
          "color": "#109618",
          "pattern": {
           "shape": ""
          }
         },
         "name": "Nuclear",
         "offsetgroup": "Nuclear",
         "orientation": "v",
         "showlegend": false,
         "textfont": {
          "size": 9
         },
         "textposition": "auto",
         "texttemplate": "%{y:.1f}",
         "type": "bar",
         "x": [
          "CANOE (vanilla)",
          "CANOE (ref)",
          "CEF2023",
          "gTech-IESD"
         ],
         "xaxis": "x7",
         "y": [
          0.881,
          0.881,
          11.2,
          10.4
         ],
         "yaxis": "y7"
        },
        {
         "alignmentgroup": "True",
         "hovertemplate": "Plant Type=Solar<br>Period=2021<br>Source=%{x}<br>Capacity (GW)=%{y}<extra></extra>",
         "legendgroup": "Solar",
         "marker": {
          "color": "#990099",
          "pattern": {
           "shape": ""
          }
         },
         "name": "Solar",
         "offsetgroup": "Solar",
         "orientation": "v",
         "showlegend": true,
         "textfont": {
          "size": 9
         },
         "textposition": "auto",
         "texttemplate": "%{y:.1f}",
         "type": "bar",
         "x": [
          "CANOE (vanilla)",
          "CANOE (ref)",
          "CEF2023",
          "gTech-IESD"
         ],
         "xaxis": "x",
         "y": [
          0.47835288161636286,
          0.47838346292820827,
          2.66946,
          2.3167115776
         ],
         "yaxis": "y"
        },
        {
         "alignmentgroup": "True",
         "hovertemplate": "Plant Type=Solar<br>Period=2025<br>Source=%{x}<br>Capacity (GW)=%{y}<extra></extra>",
         "legendgroup": "Solar",
         "marker": {
          "color": "#990099",
          "pattern": {
           "shape": ""
          }
         },
         "name": "Solar",
         "offsetgroup": "Solar",
         "orientation": "v",
         "showlegend": false,
         "textfont": {
          "size": 9
         },
         "textposition": "auto",
         "texttemplate": "%{y:.1f}",
         "type": "bar",
         "x": [
          "CANOE (vanilla)",
          "CANOE (ref)",
          "CEF2023",
          "gTech-IESD"
         ],
         "xaxis": "x2",
         "y": [
          0.4787990471637855,
          0.4788713221557059,
          2.66946,
          4.100269888
         ],
         "yaxis": "y2"
        },
        {
         "alignmentgroup": "True",
         "hovertemplate": "Plant Type=Solar<br>Period=2030<br>Source=%{x}<br>Capacity (GW)=%{y}<extra></extra>",
         "legendgroup": "Solar",
         "marker": {
          "color": "#990099",
          "pattern": {
           "shape": ""
          }
         },
         "name": "Solar",
         "offsetgroup": "Solar",
         "orientation": "v",
         "showlegend": false,
         "textfont": {
          "size": 9
         },
         "textposition": "auto",
         "texttemplate": "%{y:.1f}",
         "type": "bar",
         "x": [
          "CANOE (vanilla)",
          "CANOE (ref)",
          "CEF2023",
          "gTech-IESD"
         ],
         "xaxis": "x3",
         "y": [
          0.4798675093184269,
          0.48001179839977653,
          2.66946,
          11.120774509999999
         ],
         "yaxis": "y3"
        },
        {
         "alignmentgroup": "True",
         "hovertemplate": "Plant Type=Solar<br>Period=2035<br>Source=%{x}<br>Capacity (GW)=%{y}<extra></extra>",
         "legendgroup": "Solar",
         "marker": {
          "color": "#990099",
          "pattern": {
           "shape": ""
          }
         },
         "name": "Solar",
         "offsetgroup": "Solar",
         "orientation": "v",
         "showlegend": false,
         "textfont": {
          "size": 9
         },
         "textposition": "auto",
         "texttemplate": "%{y:.1f}",
         "type": "bar",
         "x": [
          "CANOE (vanilla)",
          "CANOE (ref)",
          "CEF2023",
          "gTech-IESD"
         ],
         "xaxis": "x4",
         "y": [
          18.87727330396047,
          22.72368247323574,
          2.66946,
          14.697619940000001
         ],
         "yaxis": "y4"
        },
        {
         "alignmentgroup": "True",
         "hovertemplate": "Plant Type=Solar<br>Period=2040<br>Source=%{x}<br>Capacity (GW)=%{y}<extra></extra>",
         "legendgroup": "Solar",
         "marker": {
          "color": "#990099",
          "pattern": {
           "shape": ""
          }
         },
         "name": "Solar",
         "offsetgroup": "Solar",
         "orientation": "v",
         "showlegend": false,
         "textfont": {
          "size": 9
         },
         "textposition": "auto",
         "texttemplate": "%{y:.1f}",
         "type": "bar",
         "x": [
          "CANOE (vanilla)",
          "CANOE (ref)",
          "CEF2023",
          "gTech-IESD"
         ],
         "xaxis": "x5",
         "y": [
          20.72152291057928,
          25.589707542253603,
          2.66946,
          20.029194070000003
         ],
         "yaxis": "y5"
        },
        {
         "alignmentgroup": "True",
         "hovertemplate": "Plant Type=Solar<br>Period=2045<br>Source=%{x}<br>Capacity (GW)=%{y}<extra></extra>",
         "legendgroup": "Solar",
         "marker": {
          "color": "#990099",
          "pattern": {
           "shape": ""
          }
         },
         "name": "Solar",
         "offsetgroup": "Solar",
         "orientation": "v",
         "showlegend": false,
         "textfont": {
          "size": 9
         },
         "textposition": "auto",
         "texttemplate": "%{y:.1f}",
         "type": "bar",
         "x": [
          "CANOE (vanilla)",
          "CANOE (ref)",
          "CEF2023",
          "gTech-IESD"
         ],
         "xaxis": "x6",
         "y": [
          20.342099634405553,
          25.210354804310285,
          5.587364752,
          29.639810320000002
         ],
         "yaxis": "y6"
        },
        {
         "alignmentgroup": "True",
         "hovertemplate": "Plant Type=Solar<br>Period=2050<br>Source=%{x}<br>Capacity (GW)=%{y}<extra></extra>",
         "legendgroup": "Solar",
         "marker": {
          "color": "#990099",
          "pattern": {
           "shape": ""
          }
         },
         "name": "Solar",
         "offsetgroup": "Solar",
         "orientation": "v",
         "showlegend": false,
         "textfont": {
          "size": 9
         },
         "textposition": "auto",
         "texttemplate": "%{y:.1f}",
         "type": "bar",
         "x": [
          "CANOE (vanilla)",
          "CANOE (ref)",
          "CEF2023",
          "gTech-IESD"
         ],
         "xaxis": "x7",
         "y": [
          20.880510881157495,
          25.11707588950813,
          7.4267687605,
          38.6497786
         ],
         "yaxis": "y7"
        },
        {
         "alignmentgroup": "True",
         "hovertemplate": "Plant Type=Wind<br>Period=2021<br>Source=%{x}<br>Capacity (GW)=%{y}<extra></extra>",
         "legendgroup": "Wind",
         "marker": {
          "color": "#0099C6",
          "pattern": {
           "shape": ""
          }
         },
         "name": "Wind",
         "offsetgroup": "Wind",
         "orientation": "v",
         "showlegend": true,
         "textfont": {
          "size": 9
         },
         "textposition": "auto",
         "texttemplate": "%{y:.1f}",
         "type": "bar",
         "x": [
          "CANOE (vanilla)",
          "CANOE (ref)",
          "CEF2023",
          "gTech-IESD"
         ],
         "xaxis": "x",
         "y": [
          4.566195392478258,
          4.566241598311894,
          5.57545,
          5.43582
         ],
         "yaxis": "y"
        },
        {
         "alignmentgroup": "True",
         "hovertemplate": "Plant Type=Wind<br>Period=2025<br>Source=%{x}<br>Capacity (GW)=%{y}<extra></extra>",
         "legendgroup": "Wind",
         "marker": {
          "color": "#0099C6",
          "pattern": {
           "shape": ""
          }
         },
         "name": "Wind",
         "offsetgroup": "Wind",
         "orientation": "v",
         "showlegend": false,
         "textfont": {
          "size": 9
         },
         "textposition": "auto",
         "texttemplate": "%{y:.1f}",
         "type": "bar",
         "x": [
          "CANOE (vanilla)",
          "CANOE (ref)",
          "CEF2023",
          "gTech-IESD"
         ],
         "xaxis": "x2",
         "y": [
          10.351494984011886,
          11.268572891590306,
          5.57545,
          5.43582
         ],
         "yaxis": "y2"
        },
        {
         "alignmentgroup": "True",
         "hovertemplate": "Plant Type=Wind<br>Period=2030<br>Source=%{x}<br>Capacity (GW)=%{y}<extra></extra>",
         "legendgroup": "Wind",
         "marker": {
          "color": "#0099C6",
          "pattern": {
           "shape": ""
          }
         },
         "name": "Wind",
         "offsetgroup": "Wind",
         "orientation": "v",
         "showlegend": false,
         "textfont": {
          "size": 9
         },
         "textposition": "auto",
         "texttemplate": "%{y:.1f}",
         "type": "bar",
         "x": [
          "CANOE (vanilla)",
          "CANOE (ref)",
          "CEF2023",
          "gTech-IESD"
         ],
         "xaxis": "x3",
         "y": [
          24.50942666273877,
          27.92143378494805,
          7.79152011157895,
          8.179162204999999
         ],
         "yaxis": "y3"
        },
        {
         "alignmentgroup": "True",
         "hovertemplate": "Plant Type=Wind<br>Period=2035<br>Source=%{x}<br>Capacity (GW)=%{y}<extra></extra>",
         "legendgroup": "Wind",
         "marker": {
          "color": "#0099C6",
          "pattern": {
           "shape": ""
          }
         },
         "name": "Wind",
         "offsetgroup": "Wind",
         "orientation": "v",
         "showlegend": false,
         "textfont": {
          "size": 9
         },
         "textposition": "auto",
         "texttemplate": "%{y:.1f}",
         "type": "bar",
         "x": [
          "CANOE (vanilla)",
          "CANOE (ref)",
          "CEF2023",
          "gTech-IESD"
         ],
         "xaxis": "x4",
         "y": [
          24.108517130924763,
          30.204777755756123,
          10.067508317894701,
          10.29066386
         ],
         "yaxis": "y4"
        },
        {
         "alignmentgroup": "True",
         "hovertemplate": "Plant Type=Wind<br>Period=2040<br>Source=%{x}<br>Capacity (GW)=%{y}<extra></extra>",
         "legendgroup": "Wind",
         "marker": {
          "color": "#0099C6",
          "pattern": {
           "shape": ""
          }
         },
         "name": "Wind",
         "offsetgroup": "Wind",
         "orientation": "v",
         "showlegend": false,
         "textfont": {
          "size": 9
         },
         "textposition": "auto",
         "texttemplate": "%{y:.1f}",
         "type": "bar",
         "x": [
          "CANOE (vanilla)",
          "CANOE (ref)",
          "CEF2023",
          "gTech-IESD"
         ],
         "xaxis": "x5",
         "y": [
          27.864378087467887,
          35.795951767463976,
          19.2692200705263,
          13.09773267
         ],
         "yaxis": "y5"
        },
        {
         "alignmentgroup": "True",
         "hovertemplate": "Plant Type=Wind<br>Period=2045<br>Source=%{x}<br>Capacity (GW)=%{y}<extra></extra>",
         "legendgroup": "Wind",
         "marker": {
          "color": "#0099C6",
          "pattern": {
           "shape": ""
          }
         },
         "name": "Wind",
         "offsetgroup": "Wind",
         "orientation": "v",
         "showlegend": false,
         "textfont": {
          "size": 9
         },
         "textposition": "auto",
         "texttemplate": "%{y:.1f}",
         "type": "bar",
         "x": [
          "CANOE (vanilla)",
          "CANOE (ref)",
          "CEF2023",
          "gTech-IESD"
         ],
         "xaxis": "x6",
         "y": [
          25.258780962181913,
          33.190351641237825,
          24.1232753363158,
          15.64583755
         ],
         "yaxis": "y6"
        },
        {
         "alignmentgroup": "True",
         "hovertemplate": "Plant Type=Wind<br>Period=2050<br>Source=%{x}<br>Capacity (GW)=%{y}<extra></extra>",
         "legendgroup": "Wind",
         "marker": {
          "color": "#0099C6",
          "pattern": {
           "shape": ""
          }
         },
         "name": "Wind",
         "offsetgroup": "Wind",
         "orientation": "v",
         "showlegend": false,
         "textfont": {
          "size": 9
         },
         "textposition": "auto",
         "texttemplate": "%{y:.1f}",
         "type": "bar",
         "x": [
          "CANOE (vanilla)",
          "CANOE (ref)",
          "CEF2023",
          "gTech-IESD"
         ],
         "xaxis": "x7",
         "y": [
          25.028033707794933,
          32.959760178165254,
          26.539631432631598,
          17.41537143
         ],
         "yaxis": "y7"
        },
        {
         "alignmentgroup": "True",
         "hovertemplate": "Plant Type=Oil<br>Period=2021<br>Source=%{x}<br>Capacity (GW)=%{y}<extra></extra>",
         "legendgroup": "Oil",
         "marker": {
          "color": "#DD4477",
          "pattern": {
           "shape": ""
          }
         },
         "name": "Oil",
         "offsetgroup": "Oil",
         "orientation": "v",
         "showlegend": true,
         "textfont": {
          "size": 9
         },
         "textposition": "auto",
         "texttemplate": "%{y:.1f}",
         "type": "bar",
         "x": [
          "CEF2023"
         ],
         "xaxis": "x",
         "y": [
          0.25045
         ],
         "yaxis": "y"
        },
        {
         "alignmentgroup": "True",
         "hovertemplate": "Plant Type=Oil<br>Period=2025<br>Source=%{x}<br>Capacity (GW)=%{y}<extra></extra>",
         "legendgroup": "Oil",
         "marker": {
          "color": "#DD4477",
          "pattern": {
           "shape": ""
          }
         },
         "name": "Oil",
         "offsetgroup": "Oil",
         "orientation": "v",
         "showlegend": false,
         "textfont": {
          "size": 9
         },
         "textposition": "auto",
         "texttemplate": "%{y:.1f}",
         "type": "bar",
         "x": [
          "CEF2023"
         ],
         "xaxis": "x2",
         "y": [
          0.25045
         ],
         "yaxis": "y2"
        },
        {
         "alignmentgroup": "True",
         "hovertemplate": "Plant Type=Oil<br>Period=2030<br>Source=%{x}<br>Capacity (GW)=%{y}<extra></extra>",
         "legendgroup": "Oil",
         "marker": {
          "color": "#DD4477",
          "pattern": {
           "shape": ""
          }
         },
         "name": "Oil",
         "offsetgroup": "Oil",
         "orientation": "v",
         "showlegend": false,
         "textfont": {
          "size": 9
         },
         "textposition": "auto",
         "texttemplate": "%{y:.1f}",
         "type": "bar",
         "x": [
          "CEF2023"
         ],
         "xaxis": "x3",
         "y": [
          0.25045
         ],
         "yaxis": "y3"
        },
        {
         "alignmentgroup": "True",
         "hovertemplate": "Plant Type=Oil<br>Period=2035<br>Source=%{x}<br>Capacity (GW)=%{y}<extra></extra>",
         "legendgroup": "Oil",
         "marker": {
          "color": "#DD4477",
          "pattern": {
           "shape": ""
          }
         },
         "name": "Oil",
         "offsetgroup": "Oil",
         "orientation": "v",
         "showlegend": false,
         "textfont": {
          "size": 9
         },
         "textposition": "auto",
         "texttemplate": "%{y:.1f}",
         "type": "bar",
         "x": [
          "CEF2023"
         ],
         "xaxis": "x4",
         "y": [
          0.22845
         ],
         "yaxis": "y4"
        },
        {
         "alignmentgroup": "True",
         "hovertemplate": "Plant Type=Oil<br>Period=2040<br>Source=%{x}<br>Capacity (GW)=%{y}<extra></extra>",
         "legendgroup": "Oil",
         "marker": {
          "color": "#DD4477",
          "pattern": {
           "shape": ""
          }
         },
         "name": "Oil",
         "offsetgroup": "Oil",
         "orientation": "v",
         "showlegend": false,
         "textfont": {
          "size": 9
         },
         "textposition": "auto",
         "texttemplate": "%{y:.1f}",
         "type": "bar",
         "x": [
          "CEF2023"
         ],
         "xaxis": "x5",
         "y": [
          0.22845
         ],
         "yaxis": "y5"
        },
        {
         "alignmentgroup": "True",
         "hovertemplate": "Plant Type=Oil<br>Period=2045<br>Source=%{x}<br>Capacity (GW)=%{y}<extra></extra>",
         "legendgroup": "Oil",
         "marker": {
          "color": "#DD4477",
          "pattern": {
           "shape": ""
          }
         },
         "name": "Oil",
         "offsetgroup": "Oil",
         "orientation": "v",
         "showlegend": false,
         "textfont": {
          "size": 9
         },
         "textposition": "auto",
         "texttemplate": "%{y:.1f}",
         "type": "bar",
         "x": [
          "CEF2023"
         ],
         "xaxis": "x6",
         "y": [
          0.22845
         ],
         "yaxis": "y6"
        },
        {
         "alignmentgroup": "True",
         "hovertemplate": "Plant Type=Oil<br>Period=2050<br>Source=%{x}<br>Capacity (GW)=%{y}<extra></extra>",
         "legendgroup": "Oil",
         "marker": {
          "color": "#DD4477",
          "pattern": {
           "shape": ""
          }
         },
         "name": "Oil",
         "offsetgroup": "Oil",
         "orientation": "v",
         "showlegend": false,
         "textfont": {
          "size": 9
         },
         "textposition": "auto",
         "texttemplate": "%{y:.1f}",
         "type": "bar",
         "x": [
          "CEF2023"
         ],
         "xaxis": "x7",
         "y": [
          0.22845
         ],
         "yaxis": "y7"
        },
        {
         "alignmentgroup": "True",
         "hovertemplate": "Plant Type=Other<br>Period=2021<br>Source=%{x}<br>Capacity (GW)=%{y}<extra></extra>",
         "legendgroup": "Other",
         "marker": {
          "color": "#B82E2E",
          "pattern": {
           "shape": ""
          }
         },
         "name": "Other",
         "offsetgroup": "Other",
         "orientation": "v",
         "showlegend": true,
         "textfont": {
          "size": 9
         },
         "textposition": "auto",
         "texttemplate": "%{y:.1f}",
         "type": "bar",
         "x": [
          "gTech-IESD"
         ],
         "xaxis": "x",
         "y": [
          0.68374261086
         ],
         "yaxis": "y"
        },
        {
         "alignmentgroup": "True",
         "hovertemplate": "Plant Type=Other<br>Period=2025<br>Source=%{x}<br>Capacity (GW)=%{y}<extra></extra>",
         "legendgroup": "Other",
         "marker": {
          "color": "#B82E2E",
          "pattern": {
           "shape": ""
          }
         },
         "name": "Other",
         "offsetgroup": "Other",
         "orientation": "v",
         "showlegend": false,
         "textfont": {
          "size": 9
         },
         "textposition": "auto",
         "texttemplate": "%{y:.1f}",
         "type": "bar",
         "x": [
          "gTech-IESD"
         ],
         "xaxis": "x2",
         "y": [
          1.5073112239000002
         ],
         "yaxis": "y2"
        },
        {
         "alignmentgroup": "True",
         "hovertemplate": "Plant Type=Other<br>Period=2030<br>Source=%{x}<br>Capacity (GW)=%{y}<extra></extra>",
         "legendgroup": "Other",
         "marker": {
          "color": "#B82E2E",
          "pattern": {
           "shape": ""
          }
         },
         "name": "Other",
         "offsetgroup": "Other",
         "orientation": "v",
         "showlegend": false,
         "textfont": {
          "size": 9
         },
         "textposition": "auto",
         "texttemplate": "%{y:.1f}",
         "type": "bar",
         "x": [
          "gTech-IESD"
         ],
         "xaxis": "x3",
         "y": [
          1.4825382378000003
         ],
         "yaxis": "y3"
        },
        {
         "alignmentgroup": "True",
         "hovertemplate": "Plant Type=Other<br>Period=2035<br>Source=%{x}<br>Capacity (GW)=%{y}<extra></extra>",
         "legendgroup": "Other",
         "marker": {
          "color": "#B82E2E",
          "pattern": {
           "shape": ""
          }
         },
         "name": "Other",
         "offsetgroup": "Other",
         "orientation": "v",
         "showlegend": false,
         "textfont": {
          "size": 9
         },
         "textposition": "auto",
         "texttemplate": "%{y:.1f}",
         "type": "bar",
         "x": [
          "gTech-IESD"
         ],
         "xaxis": "x4",
         "y": [
          2.0369806674
         ],
         "yaxis": "y4"
        },
        {
         "alignmentgroup": "True",
         "hovertemplate": "Plant Type=Other<br>Period=2040<br>Source=%{x}<br>Capacity (GW)=%{y}<extra></extra>",
         "legendgroup": "Other",
         "marker": {
          "color": "#B82E2E",
          "pattern": {
           "shape": ""
          }
         },
         "name": "Other",
         "offsetgroup": "Other",
         "orientation": "v",
         "showlegend": false,
         "textfont": {
          "size": 9
         },
         "textposition": "auto",
         "texttemplate": "%{y:.1f}",
         "type": "bar",
         "x": [
          "gTech-IESD"
         ],
         "xaxis": "x5",
         "y": [
          3.4268413391
         ],
         "yaxis": "y5"
        },
        {
         "alignmentgroup": "True",
         "hovertemplate": "Plant Type=Other<br>Period=2045<br>Source=%{x}<br>Capacity (GW)=%{y}<extra></extra>",
         "legendgroup": "Other",
         "marker": {
          "color": "#B82E2E",
          "pattern": {
           "shape": ""
          }
         },
         "name": "Other",
         "offsetgroup": "Other",
         "orientation": "v",
         "showlegend": false,
         "textfont": {
          "size": 9
         },
         "textposition": "auto",
         "texttemplate": "%{y:.1f}",
         "type": "bar",
         "x": [
          "gTech-IESD"
         ],
         "xaxis": "x6",
         "y": [
          4.0651297081
         ],
         "yaxis": "y6"
        },
        {
         "alignmentgroup": "True",
         "hovertemplate": "Plant Type=Other<br>Period=2050<br>Source=%{x}<br>Capacity (GW)=%{y}<extra></extra>",
         "legendgroup": "Other",
         "marker": {
          "color": "#B82E2E",
          "pattern": {
           "shape": ""
          }
         },
         "name": "Other",
         "offsetgroup": "Other",
         "orientation": "v",
         "showlegend": false,
         "textfont": {
          "size": 9
         },
         "textposition": "auto",
         "texttemplate": "%{y:.1f}",
         "type": "bar",
         "x": [
          "gTech-IESD"
         ],
         "xaxis": "x7",
         "y": [
          4.093922925799999
         ],
         "yaxis": "y7"
        }
       ],
       "layout": {
        "annotations": [
         {
          "font": {},
          "showarrow": false,
          "text": "2021",
          "x": 0.06285714285714285,
          "xanchor": "center",
          "xref": "paper",
          "y": -0.15,
          "yanchor": "top",
          "yref": "paper"
         },
         {
          "font": {},
          "showarrow": false,
          "text": "2025",
          "x": 0.20857142857142852,
          "xanchor": "center",
          "xref": "paper",
          "y": -0.15,
          "yanchor": "top",
          "yref": "paper"
         },
         {
          "font": {},
          "showarrow": false,
          "text": "2030",
          "x": 0.3542857142857142,
          "xanchor": "center",
          "xref": "paper",
          "y": -0.15,
          "yanchor": "top",
          "yref": "paper"
         },
         {
          "font": {},
          "showarrow": false,
          "text": "2035",
          "x": 0.5,
          "xanchor": "center",
          "xref": "paper",
          "y": -0.15,
          "yanchor": "top",
          "yref": "paper"
         },
         {
          "font": {},
          "showarrow": false,
          "text": "2040",
          "x": 0.6457142857142856,
          "xanchor": "center",
          "xref": "paper",
          "y": -0.15,
          "yanchor": "top",
          "yref": "paper"
         },
         {
          "font": {},
          "showarrow": false,
          "text": "2045",
          "x": 0.7914285714285713,
          "xanchor": "center",
          "xref": "paper",
          "y": -0.15,
          "yanchor": "top",
          "yref": "paper"
         },
         {
          "font": {},
          "showarrow": false,
          "text": "2050",
          "x": 0.937142857142857,
          "xanchor": "center",
          "xref": "paper",
          "y": -0.15,
          "yanchor": "top",
          "yref": "paper"
         }
        ],
        "bargap": 0.1,
        "barmode": "stack",
        "font": {
         "size": 14
        },
        "height": 650,
        "legend": {
         "orientation": "h",
         "title": {
          "text": ""
         },
         "tracegroupgap": 0,
         "x": 0.5,
         "xanchor": "center",
         "y": 1.04,
         "yanchor": "top"
        },
        "margin": {
         "t": 60
        },
        "template": {
         "data": {
          "bar": [
           {
            "error_x": {
             "color": "#2a3f5f"
            },
            "error_y": {
             "color": "#2a3f5f"
            },
            "marker": {
             "line": {
              "color": "white",
              "width": 0.5
             },
             "pattern": {
              "fillmode": "overlay",
              "size": 10,
              "solidity": 0.2
             }
            },
            "type": "bar"
           }
          ],
          "barpolar": [
           {
            "marker": {
             "line": {
              "color": "white",
              "width": 0.5
             },
             "pattern": {
              "fillmode": "overlay",
              "size": 10,
              "solidity": 0.2
             }
            },
            "type": "barpolar"
           }
          ],
          "carpet": [
           {
            "aaxis": {
             "endlinecolor": "#2a3f5f",
             "gridcolor": "#C8D4E3",
             "linecolor": "#C8D4E3",
             "minorgridcolor": "#C8D4E3",
             "startlinecolor": "#2a3f5f"
            },
            "baxis": {
             "endlinecolor": "#2a3f5f",
             "gridcolor": "#C8D4E3",
             "linecolor": "#C8D4E3",
             "minorgridcolor": "#C8D4E3",
             "startlinecolor": "#2a3f5f"
            },
            "type": "carpet"
           }
          ],
          "choropleth": [
           {
            "colorbar": {
             "outlinewidth": 0,
             "ticks": ""
            },
            "type": "choropleth"
           }
          ],
          "contour": [
           {
            "colorbar": {
             "outlinewidth": 0,
             "ticks": ""
            },
            "colorscale": [
             [
              0,
              "#0d0887"
             ],
             [
              0.1111111111111111,
              "#46039f"
             ],
             [
              0.2222222222222222,
              "#7201a8"
             ],
             [
              0.3333333333333333,
              "#9c179e"
             ],
             [
              0.4444444444444444,
              "#bd3786"
             ],
             [
              0.5555555555555556,
              "#d8576b"
             ],
             [
              0.6666666666666666,
              "#ed7953"
             ],
             [
              0.7777777777777778,
              "#fb9f3a"
             ],
             [
              0.8888888888888888,
              "#fdca26"
             ],
             [
              1,
              "#f0f921"
             ]
            ],
            "type": "contour"
           }
          ],
          "contourcarpet": [
           {
            "colorbar": {
             "outlinewidth": 0,
             "ticks": ""
            },
            "type": "contourcarpet"
           }
          ],
          "heatmap": [
           {
            "colorbar": {
             "outlinewidth": 0,
             "ticks": ""
            },
            "colorscale": [
             [
              0,
              "#0d0887"
             ],
             [
              0.1111111111111111,
              "#46039f"
             ],
             [
              0.2222222222222222,
              "#7201a8"
             ],
             [
              0.3333333333333333,
              "#9c179e"
             ],
             [
              0.4444444444444444,
              "#bd3786"
             ],
             [
              0.5555555555555556,
              "#d8576b"
             ],
             [
              0.6666666666666666,
              "#ed7953"
             ],
             [
              0.7777777777777778,
              "#fb9f3a"
             ],
             [
              0.8888888888888888,
              "#fdca26"
             ],
             [
              1,
              "#f0f921"
             ]
            ],
            "type": "heatmap"
           }
          ],
          "heatmapgl": [
           {
            "colorbar": {
             "outlinewidth": 0,
             "ticks": ""
            },
            "colorscale": [
             [
              0,
              "#0d0887"
             ],
             [
              0.1111111111111111,
              "#46039f"
             ],
             [
              0.2222222222222222,
              "#7201a8"
             ],
             [
              0.3333333333333333,
              "#9c179e"
             ],
             [
              0.4444444444444444,
              "#bd3786"
             ],
             [
              0.5555555555555556,
              "#d8576b"
             ],
             [
              0.6666666666666666,
              "#ed7953"
             ],
             [
              0.7777777777777778,
              "#fb9f3a"
             ],
             [
              0.8888888888888888,
              "#fdca26"
             ],
             [
              1,
              "#f0f921"
             ]
            ],
            "type": "heatmapgl"
           }
          ],
          "histogram": [
           {
            "marker": {
             "pattern": {
              "fillmode": "overlay",
              "size": 10,
              "solidity": 0.2
             }
            },
            "type": "histogram"
           }
          ],
          "histogram2d": [
           {
            "colorbar": {
             "outlinewidth": 0,
             "ticks": ""
            },
            "colorscale": [
             [
              0,
              "#0d0887"
             ],
             [
              0.1111111111111111,
              "#46039f"
             ],
             [
              0.2222222222222222,
              "#7201a8"
             ],
             [
              0.3333333333333333,
              "#9c179e"
             ],
             [
              0.4444444444444444,
              "#bd3786"
             ],
             [
              0.5555555555555556,
              "#d8576b"
             ],
             [
              0.6666666666666666,
              "#ed7953"
             ],
             [
              0.7777777777777778,
              "#fb9f3a"
             ],
             [
              0.8888888888888888,
              "#fdca26"
             ],
             [
              1,
              "#f0f921"
             ]
            ],
            "type": "histogram2d"
           }
          ],
          "histogram2dcontour": [
           {
            "colorbar": {
             "outlinewidth": 0,
             "ticks": ""
            },
            "colorscale": [
             [
              0,
              "#0d0887"
             ],
             [
              0.1111111111111111,
              "#46039f"
             ],
             [
              0.2222222222222222,
              "#7201a8"
             ],
             [
              0.3333333333333333,
              "#9c179e"
             ],
             [
              0.4444444444444444,
              "#bd3786"
             ],
             [
              0.5555555555555556,
              "#d8576b"
             ],
             [
              0.6666666666666666,
              "#ed7953"
             ],
             [
              0.7777777777777778,
              "#fb9f3a"
             ],
             [
              0.8888888888888888,
              "#fdca26"
             ],
             [
              1,
              "#f0f921"
             ]
            ],
            "type": "histogram2dcontour"
           }
          ],
          "mesh3d": [
           {
            "colorbar": {
             "outlinewidth": 0,
             "ticks": ""
            },
            "type": "mesh3d"
           }
          ],
          "parcoords": [
           {
            "line": {
             "colorbar": {
              "outlinewidth": 0,
              "ticks": ""
             }
            },
            "type": "parcoords"
           }
          ],
          "pie": [
           {
            "automargin": true,
            "type": "pie"
           }
          ],
          "scatter": [
           {
            "fillpattern": {
             "fillmode": "overlay",
             "size": 10,
             "solidity": 0.2
            },
            "type": "scatter"
           }
          ],
          "scatter3d": [
           {
            "line": {
             "colorbar": {
              "outlinewidth": 0,
              "ticks": ""
             }
            },
            "marker": {
             "colorbar": {
              "outlinewidth": 0,
              "ticks": ""
             }
            },
            "type": "scatter3d"
           }
          ],
          "scattercarpet": [
           {
            "marker": {
             "colorbar": {
              "outlinewidth": 0,
              "ticks": ""
             }
            },
            "type": "scattercarpet"
           }
          ],
          "scattergeo": [
           {
            "marker": {
             "colorbar": {
              "outlinewidth": 0,
              "ticks": ""
             }
            },
            "type": "scattergeo"
           }
          ],
          "scattergl": [
           {
            "marker": {
             "colorbar": {
              "outlinewidth": 0,
              "ticks": ""
             }
            },
            "type": "scattergl"
           }
          ],
          "scattermapbox": [
           {
            "marker": {
             "colorbar": {
              "outlinewidth": 0,
              "ticks": ""
             }
            },
            "type": "scattermapbox"
           }
          ],
          "scatterpolar": [
           {
            "marker": {
             "colorbar": {
              "outlinewidth": 0,
              "ticks": ""
             }
            },
            "type": "scatterpolar"
           }
          ],
          "scatterpolargl": [
           {
            "marker": {
             "colorbar": {
              "outlinewidth": 0,
              "ticks": ""
             }
            },
            "type": "scatterpolargl"
           }
          ],
          "scatterternary": [
           {
            "marker": {
             "colorbar": {
              "outlinewidth": 0,
              "ticks": ""
             }
            },
            "type": "scatterternary"
           }
          ],
          "surface": [
           {
            "colorbar": {
             "outlinewidth": 0,
             "ticks": ""
            },
            "colorscale": [
             [
              0,
              "#0d0887"
             ],
             [
              0.1111111111111111,
              "#46039f"
             ],
             [
              0.2222222222222222,
              "#7201a8"
             ],
             [
              0.3333333333333333,
              "#9c179e"
             ],
             [
              0.4444444444444444,
              "#bd3786"
             ],
             [
              0.5555555555555556,
              "#d8576b"
             ],
             [
              0.6666666666666666,
              "#ed7953"
             ],
             [
              0.7777777777777778,
              "#fb9f3a"
             ],
             [
              0.8888888888888888,
              "#fdca26"
             ],
             [
              1,
              "#f0f921"
             ]
            ],
            "type": "surface"
           }
          ],
          "table": [
           {
            "cells": {
             "fill": {
              "color": "#EBF0F8"
             },
             "line": {
              "color": "white"
             }
            },
            "header": {
             "fill": {
              "color": "#C8D4E3"
             },
             "line": {
              "color": "white"
             }
            },
            "type": "table"
           }
          ]
         },
         "layout": {
          "annotationdefaults": {
           "arrowcolor": "#2a3f5f",
           "arrowhead": 0,
           "arrowwidth": 1
          },
          "autotypenumbers": "strict",
          "coloraxis": {
           "colorbar": {
            "outlinewidth": 0,
            "ticks": ""
           }
          },
          "colorscale": {
           "diverging": [
            [
             0,
             "#8e0152"
            ],
            [
             0.1,
             "#c51b7d"
            ],
            [
             0.2,
             "#de77ae"
            ],
            [
             0.3,
             "#f1b6da"
            ],
            [
             0.4,
             "#fde0ef"
            ],
            [
             0.5,
             "#f7f7f7"
            ],
            [
             0.6,
             "#e6f5d0"
            ],
            [
             0.7,
             "#b8e186"
            ],
            [
             0.8,
             "#7fbc41"
            ],
            [
             0.9,
             "#4d9221"
            ],
            [
             1,
             "#276419"
            ]
           ],
           "sequential": [
            [
             0,
             "#0d0887"
            ],
            [
             0.1111111111111111,
             "#46039f"
            ],
            [
             0.2222222222222222,
             "#7201a8"
            ],
            [
             0.3333333333333333,
             "#9c179e"
            ],
            [
             0.4444444444444444,
             "#bd3786"
            ],
            [
             0.5555555555555556,
             "#d8576b"
            ],
            [
             0.6666666666666666,
             "#ed7953"
            ],
            [
             0.7777777777777778,
             "#fb9f3a"
            ],
            [
             0.8888888888888888,
             "#fdca26"
            ],
            [
             1,
             "#f0f921"
            ]
           ],
           "sequentialminus": [
            [
             0,
             "#0d0887"
            ],
            [
             0.1111111111111111,
             "#46039f"
            ],
            [
             0.2222222222222222,
             "#7201a8"
            ],
            [
             0.3333333333333333,
             "#9c179e"
            ],
            [
             0.4444444444444444,
             "#bd3786"
            ],
            [
             0.5555555555555556,
             "#d8576b"
            ],
            [
             0.6666666666666666,
             "#ed7953"
            ],
            [
             0.7777777777777778,
             "#fb9f3a"
            ],
            [
             0.8888888888888888,
             "#fdca26"
            ],
            [
             1,
             "#f0f921"
            ]
           ]
          },
          "colorway": [
           "#636efa",
           "#EF553B",
           "#00cc96",
           "#ab63fa",
           "#FFA15A",
           "#19d3f3",
           "#FF6692",
           "#B6E880",
           "#FF97FF",
           "#FECB52"
          ],
          "font": {
           "color": "#2a3f5f"
          },
          "geo": {
           "bgcolor": "white",
           "lakecolor": "white",
           "landcolor": "white",
           "showlakes": true,
           "showland": true,
           "subunitcolor": "#C8D4E3"
          },
          "hoverlabel": {
           "align": "left"
          },
          "hovermode": "closest",
          "mapbox": {
           "style": "light"
          },
          "paper_bgcolor": "white",
          "plot_bgcolor": "white",
          "polar": {
           "angularaxis": {
            "gridcolor": "#EBF0F8",
            "linecolor": "#EBF0F8",
            "ticks": ""
           },
           "bgcolor": "white",
           "radialaxis": {
            "gridcolor": "#EBF0F8",
            "linecolor": "#EBF0F8",
            "ticks": ""
           }
          },
          "scene": {
           "xaxis": {
            "backgroundcolor": "white",
            "gridcolor": "#DFE8F3",
            "gridwidth": 2,
            "linecolor": "#EBF0F8",
            "showbackground": true,
            "ticks": "",
            "zerolinecolor": "#EBF0F8"
           },
           "yaxis": {
            "backgroundcolor": "white",
            "gridcolor": "#DFE8F3",
            "gridwidth": 2,
            "linecolor": "#EBF0F8",
            "showbackground": true,
            "ticks": "",
            "zerolinecolor": "#EBF0F8"
           },
           "zaxis": {
            "backgroundcolor": "white",
            "gridcolor": "#DFE8F3",
            "gridwidth": 2,
            "linecolor": "#EBF0F8",
            "showbackground": true,
            "ticks": "",
            "zerolinecolor": "#EBF0F8"
           }
          },
          "shapedefaults": {
           "line": {
            "color": "#2a3f5f"
           }
          },
          "ternary": {
           "aaxis": {
            "gridcolor": "#DFE8F3",
            "linecolor": "#A2B1C6",
            "ticks": ""
           },
           "baxis": {
            "gridcolor": "#DFE8F3",
            "linecolor": "#A2B1C6",
            "ticks": ""
           },
           "bgcolor": "white",
           "caxis": {
            "gridcolor": "#DFE8F3",
            "linecolor": "#A2B1C6",
            "ticks": ""
           }
          },
          "title": {
           "x": 0.05
          },
          "xaxis": {
           "automargin": true,
           "gridcolor": "#EBF0F8",
           "linecolor": "#EBF0F8",
           "ticks": "",
           "title": {
            "standoff": 15
           },
           "zerolinecolor": "#EBF0F8",
           "zerolinewidth": 2
          },
          "yaxis": {
           "automargin": true,
           "gridcolor": "#EBF0F8",
           "linecolor": "#EBF0F8",
           "ticks": "",
           "title": {
            "standoff": 15
           },
           "zerolinecolor": "#EBF0F8",
           "zerolinewidth": 2
          }
         }
        },
        "title": {
         "text": "Electricity generation capacity in ON by plant type and energy model",
         "x": 0.5,
         "xanchor": "center",
         "y": 0.97,
         "yanchor": "top"
        },
        "width": 1200,
        "xaxis": {
         "anchor": "y",
         "domain": [
          0,
          0.1257142857142857
         ],
         "title": {
          "text": ""
         }
        },
        "xaxis2": {
         "anchor": "y2",
         "domain": [
          0.14571428571428569,
          0.27142857142857135
         ],
         "matches": "x",
         "title": {
          "text": ""
         }
        },
        "xaxis3": {
         "anchor": "y3",
         "domain": [
          0.29142857142857137,
          0.41714285714285704
         ],
         "matches": "x",
         "title": {
          "text": ""
         }
        },
        "xaxis4": {
         "anchor": "y4",
         "domain": [
          0.4371428571428571,
          0.5628571428571428
         ],
         "matches": "x",
         "title": {
          "text": ""
         }
        },
        "xaxis5": {
         "anchor": "y5",
         "domain": [
          0.5828571428571427,
          0.7085714285714284
         ],
         "matches": "x",
         "title": {
          "text": ""
         }
        },
        "xaxis6": {
         "anchor": "y6",
         "domain": [
          0.7285714285714284,
          0.8542857142857141
         ],
         "matches": "x",
         "title": {
          "text": ""
         }
        },
        "xaxis7": {
         "anchor": "y7",
         "domain": [
          0.8742857142857142,
          0.9999999999999999
         ],
         "matches": "x",
         "title": {
          "text": ""
         }
        },
        "yaxis": {
         "anchor": "x",
         "domain": [
          0,
          1
         ],
         "dtick": 20,
         "title": {
          "standoff": 0,
          "text": "Capacity (GW)"
         }
        },
        "yaxis2": {
         "anchor": "x2",
         "domain": [
          0,
          1
         ],
         "dtick": 20,
         "matches": "y",
         "showticklabels": false
        },
        "yaxis3": {
         "anchor": "x3",
         "domain": [
          0,
          1
         ],
         "dtick": 20,
         "matches": "y",
         "showticklabels": false
        },
        "yaxis4": {
         "anchor": "x4",
         "domain": [
          0,
          1
         ],
         "dtick": 20,
         "matches": "y",
         "showticklabels": false
        },
        "yaxis5": {
         "anchor": "x5",
         "domain": [
          0,
          1
         ],
         "dtick": 20,
         "matches": "y",
         "showticklabels": false
        },
        "yaxis6": {
         "anchor": "x6",
         "domain": [
          0,
          1
         ],
         "dtick": 20,
         "matches": "y",
         "showticklabels": false
        },
        "yaxis7": {
         "anchor": "x7",
         "domain": [
          0,
          1
         ],
         "dtick": 20,
         "matches": "y",
         "showticklabels": false
        }
       }
      }
     },
     "metadata": {},
     "output_type": "display_data"
    }
   ],
   "source": [
    "bau23_cap['Capacity (GW)'] = bau23_cap['Capacity (MW)'] / 1E3\n",
    "bau23_fig = bau23_cap[['Period', 'Plant Type', 'Capacity (GW)']].copy()\n",
    "bau23_fig['Plant Type'] = bau23_fig['Plant Type'].replace({'Hydro / Wave / Tidal': 'Hydro', 'Biomass / Geothermal': 'Biomass', 'Uranium': 'Nuclear'})\n",
    "ref_fig = ref_elccap[ref_elccap['Plant Type'] != 'Other'].groupby(['Period', 'Plant Type'], as_index=False).sum('Capacity (GW)')\n",
    "vanilla_fig = vanilla_elccap[vanilla_elccap['Plant Type'] != 'Other'].groupby(['Period', 'Plant Type'], as_index=False).sum('Capacity (GW)')\n",
    "gtech23_ref_cap['Capacity (GW)'] = gtech23_ref_cap['Capacity (MW)'] / 1E3\n",
    "gtech23_fig = gtech23_ref_cap.copy()\n",
    "gtech23_fig['Period'] = gtech23_fig['Period'].astype(str)\n",
    "\n",
    "gtech23_fig['Source'] = 'gTech-IESD'\n",
    "bau23_fig['Source'] = 'CEF2023'\n",
    "ref_fig['Source'] = 'CANOE (ref)'\n",
    "vanilla_fig['Source'] = 'CANOE (vanilla)'\n",
    "\n",
    "fig_df = pd.concat([vanilla_fig[['Period', 'Plant Type', 'Capacity (GW)', 'Source']], ref_fig[['Period', 'Plant Type', 'Capacity (GW)', 'Source']], bau23_fig[['Period', 'Plant Type', 'Capacity (GW)', 'Source']], gtech23_fig[['Period', 'Plant Type', 'Capacity (GW)', 'Source']]])\n",
    "\n",
    "fig = px.bar(fig_df, \n",
    "             x='Source', \n",
    "             y='Capacity (GW)', \n",
    "             color='Plant Type', \n",
    "             barmode='stack', \n",
    "             facet_col='Period',\n",
    "             facet_col_spacing=2E-2,\n",
    "             template='plotly_white',\n",
    "             color_discrete_sequence=px.colors.qualitative.G10[:7] + px.colors.qualitative.G10[8:],\n",
    "             text_auto='.1f',\n",
    "             width=1200, height=650,\n",
    "             )\n",
    "\n",
    "fig.update_layout(title=dict(\n",
    "        text='Electricity generation capacity in ON by plant type and energy model',\n",
    "        x=0.5, \n",
    "        y=0.97,\n",
    "        xanchor='center',\n",
    "        yanchor='top'\n",
    "    ),\n",
    "    xaxis=dict(title='Period'),\n",
    "    yaxis=dict(title='Capacity (GW)',\n",
    "               dtick=20),\n",
    "    yaxis_title_standoff=0,\n",
    "    legend_title_text='',\n",
    "    bargap=0.1,\n",
    "    legend=dict(\n",
    "        orientation='h',  \n",
    "        yanchor='top',\n",
    "        y=1.04,  \n",
    "        xanchor='center',\n",
    "        x=0.5),\n",
    "    font=dict(\n",
    "        # family=\"Open Sans\",\n",
    "        size=14)\n",
    "    )\n",
    "\n",
    "for annotation in fig.layout.annotations:\n",
    "    annotation.text = annotation.text.split('=')[1]\n",
    "    annotation.y = -0.15  \n",
    "    annotation.yanchor = 'top' \n",
    "\n",
    "for axis in fig.layout:\n",
    "    if axis.startswith('yaxis'):\n",
    "        fig.layout[axis].dtick = 20\n",
    "\n",
    "for axis in fig.layout:\n",
    "    if axis.startswith('xaxis'):\n",
    "        fig.layout[axis].title.text = ''\n",
    "\n",
    "fig.for_each_trace(lambda trace: trace.update(textfont=dict(size=9)))\n",
    "\n",
    "fig.show()"
   ]
  },
  {
   "cell_type": "code",
   "execution_count": 86,
   "metadata": {},
   "outputs": [],
   "source": [
    "ref_elcact.columns = ref_elcact.columns.astype(str)\n",
    "vanilla_elcact.columns = vanilla_elcact.columns.astype(str)\n",
    "nhts_elcact.columns = nhts_elcact.columns.astype(str)\n",
    "nhts_fixed_elcact.columns = nhts_fixed_elcact.columns.astype(str)\n",
    "\n",
    "periods = [col for col in ref_elcact.columns if col.isdigit()]\n",
    "params = [col for col in ref_elcact.columns if not col.isdigit()]\n",
    "\n",
    "ref_elcact = pd.melt(ref_elcact, id_vars=params, var_name='Period', value_name='Generation (PJ)', value_vars=periods)\n",
    "vanilla_elcact = pd.melt(vanilla_elcact, id_vars=params, var_name='Period', value_name='Generation (PJ)', value_vars=periods)\n",
    "nhts_elcact = pd.melt(nhts_elcact, id_vars=params, var_name='Period', value_name='Generation (PJ)', value_vars=periods)\n",
    "nhts_fixed_elcact = pd.melt(nhts_fixed_elcact, id_vars=params, var_name='Period', value_name='Generation (PJ)', value_vars=periods)\n",
    "\n",
    "gtech23_ref_gen['Plant Type'] = gtech23_ref_gen['Plant Type'].apply(plant_rename)\n",
    "gtech23_ref_gen = gtech23_ref_gen.groupby(['Period', 'Plant Type'], as_index=False).sum()"
   ]
  },
  {
   "cell_type": "code",
   "execution_count": 106,
   "metadata": {},
   "outputs": [
    {
     "data": {
      "application/vnd.plotly.v1+json": {
       "config": {
        "plotlyServerURL": "https://plot.ly"
       },
       "data": [
        {
         "alignmentgroup": "True",
         "hovertemplate": "Plant Type=Biomass<br>Period=2021<br>Source=%{x}<br>Generation (PJ)=%{y}<extra></extra>",
         "legendgroup": "Biomass",
         "marker": {
          "color": "#3366CC",
          "pattern": {
           "shape": ""
          }
         },
         "name": "Biomass",
         "offsetgroup": "Biomass",
         "orientation": "v",
         "showlegend": true,
         "textfont": {
          "size": 9
         },
         "textposition": "auto",
         "texttemplate": "%{y:.1f}",
         "type": "bar",
         "x": [
          "CANOE (No EVs)",
          "CANOE (ZEV)",
          "CANOE (ZEV, NHTS)",
          "CANOE (ZEV, NHTS, fixed)"
         ],
         "xaxis": "x",
         "y": [
          0,
          0,
          0,
          0
         ],
         "yaxis": "y"
        },
        {
         "alignmentgroup": "True",
         "hovertemplate": "Plant Type=Biomass<br>Period=2025<br>Source=%{x}<br>Generation (PJ)=%{y}<extra></extra>",
         "legendgroup": "Biomass",
         "marker": {
          "color": "#3366CC",
          "pattern": {
           "shape": ""
          }
         },
         "name": "Biomass",
         "offsetgroup": "Biomass",
         "orientation": "v",
         "showlegend": false,
         "textfont": {
          "size": 9
         },
         "textposition": "auto",
         "texttemplate": "%{y:.1f}",
         "type": "bar",
         "x": [
          "CANOE (No EVs)",
          "CANOE (ZEV)",
          "CANOE (ZEV, NHTS)",
          "CANOE (ZEV, NHTS, fixed)"
         ],
         "xaxis": "x2",
         "y": [
          0,
          0,
          0,
          0
         ],
         "yaxis": "y2"
        },
        {
         "alignmentgroup": "True",
         "hovertemplate": "Plant Type=Biomass<br>Period=2030<br>Source=%{x}<br>Generation (PJ)=%{y}<extra></extra>",
         "legendgroup": "Biomass",
         "marker": {
          "color": "#3366CC",
          "pattern": {
           "shape": ""
          }
         },
         "name": "Biomass",
         "offsetgroup": "Biomass",
         "orientation": "v",
         "showlegend": false,
         "textfont": {
          "size": 9
         },
         "textposition": "auto",
         "texttemplate": "%{y:.1f}",
         "type": "bar",
         "x": [
          "CANOE (No EVs)",
          "CANOE (ZEV)",
          "CANOE (ZEV, NHTS)",
          "CANOE (ZEV, NHTS, fixed)"
         ],
         "xaxis": "x3",
         "y": [
          0,
          0,
          0,
          0
         ],
         "yaxis": "y3"
        },
        {
         "alignmentgroup": "True",
         "hovertemplate": "Plant Type=Biomass<br>Period=2035<br>Source=%{x}<br>Generation (PJ)=%{y}<extra></extra>",
         "legendgroup": "Biomass",
         "marker": {
          "color": "#3366CC",
          "pattern": {
           "shape": ""
          }
         },
         "name": "Biomass",
         "offsetgroup": "Biomass",
         "orientation": "v",
         "showlegend": false,
         "textfont": {
          "size": 9
         },
         "textposition": "auto",
         "texttemplate": "%{y:.1f}",
         "type": "bar",
         "x": [
          "CANOE (No EVs)",
          "CANOE (ZEV)",
          "CANOE (ZEV, NHTS)",
          "CANOE (ZEV, NHTS, fixed)"
         ],
         "xaxis": "x4",
         "y": [
          0,
          0,
          0,
          0
         ],
         "yaxis": "y4"
        },
        {
         "alignmentgroup": "True",
         "hovertemplate": "Plant Type=Biomass<br>Period=2040<br>Source=%{x}<br>Generation (PJ)=%{y}<extra></extra>",
         "legendgroup": "Biomass",
         "marker": {
          "color": "#3366CC",
          "pattern": {
           "shape": ""
          }
         },
         "name": "Biomass",
         "offsetgroup": "Biomass",
         "orientation": "v",
         "showlegend": false,
         "textfont": {
          "size": 9
         },
         "textposition": "auto",
         "texttemplate": "%{y:.1f}",
         "type": "bar",
         "x": [
          "CANOE (No EVs)",
          "CANOE (ZEV)",
          "CANOE (ZEV, NHTS)",
          "CANOE (ZEV, NHTS, fixed)"
         ],
         "xaxis": "x5",
         "y": [
          0,
          0,
          0,
          0
         ],
         "yaxis": "y5"
        },
        {
         "alignmentgroup": "True",
         "hovertemplate": "Plant Type=Biomass<br>Period=2045<br>Source=%{x}<br>Generation (PJ)=%{y}<extra></extra>",
         "legendgroup": "Biomass",
         "marker": {
          "color": "#3366CC",
          "pattern": {
           "shape": ""
          }
         },
         "name": "Biomass",
         "offsetgroup": "Biomass",
         "orientation": "v",
         "showlegend": false,
         "textfont": {
          "size": 9
         },
         "textposition": "auto",
         "texttemplate": "%{y:.1f}",
         "type": "bar",
         "x": [
          "CANOE (No EVs)",
          "CANOE (ZEV)",
          "CANOE (ZEV, NHTS)",
          "CANOE (ZEV, NHTS, fixed)"
         ],
         "xaxis": "x6",
         "y": [
          0,
          0,
          0.2581790184353466,
          0.05082209859839663
         ],
         "yaxis": "y6"
        },
        {
         "alignmentgroup": "True",
         "hovertemplate": "Plant Type=Biomass<br>Period=2050<br>Source=%{x}<br>Generation (PJ)=%{y}<extra></extra>",
         "legendgroup": "Biomass",
         "marker": {
          "color": "#3366CC",
          "pattern": {
           "shape": ""
          }
         },
         "name": "Biomass",
         "offsetgroup": "Biomass",
         "orientation": "v",
         "showlegend": false,
         "textfont": {
          "size": 9
         },
         "textposition": "auto",
         "texttemplate": "%{y:.1f}",
         "type": "bar",
         "x": [
          "CANOE (No EVs)",
          "CANOE (ZEV)",
          "CANOE (ZEV, NHTS)",
          "CANOE (ZEV, NHTS, fixed)"
         ],
         "xaxis": "x7",
         "y": [
          0,
          0,
          0.4818646425674083,
          0.05082204727372455
         ],
         "yaxis": "y7"
        },
        {
         "alignmentgroup": "True",
         "hovertemplate": "Plant Type=Hydro<br>Period=2021<br>Source=%{x}<br>Generation (PJ)=%{y}<extra></extra>",
         "legendgroup": "Hydro",
         "marker": {
          "color": "#DC3912",
          "pattern": {
           "shape": ""
          }
         },
         "name": "Hydro",
         "offsetgroup": "Hydro",
         "orientation": "v",
         "showlegend": true,
         "textfont": {
          "size": 9
         },
         "textposition": "auto",
         "texttemplate": "%{y:.1f}",
         "type": "bar",
         "x": [
          "CANOE (No EVs)",
          "CANOE (ZEV)",
          "CANOE (ZEV, NHTS)",
          "CANOE (ZEV, NHTS, fixed)"
         ],
         "xaxis": "x",
         "y": [
          116.93916700057387,
          116.93917753485948,
          115.77635839695691,
          116.939229812381
         ],
         "yaxis": "y"
        },
        {
         "alignmentgroup": "True",
         "hovertemplate": "Plant Type=Hydro<br>Period=2025<br>Source=%{x}<br>Generation (PJ)=%{y}<extra></extra>",
         "legendgroup": "Hydro",
         "marker": {
          "color": "#DC3912",
          "pattern": {
           "shape": ""
          }
         },
         "name": "Hydro",
         "offsetgroup": "Hydro",
         "orientation": "v",
         "showlegend": false,
         "textfont": {
          "size": 9
         },
         "textposition": "auto",
         "texttemplate": "%{y:.1f}",
         "type": "bar",
         "x": [
          "CANOE (No EVs)",
          "CANOE (ZEV)",
          "CANOE (ZEV, NHTS)",
          "CANOE (ZEV, NHTS, fixed)"
         ],
         "xaxis": "x2",
         "y": [
          115.17760613794164,
          115.14639409847359,
          114.51256569826003,
          115.16780047142927
         ],
         "yaxis": "y2"
        },
        {
         "alignmentgroup": "True",
         "hovertemplate": "Plant Type=Hydro<br>Period=2030<br>Source=%{x}<br>Generation (PJ)=%{y}<extra></extra>",
         "legendgroup": "Hydro",
         "marker": {
          "color": "#DC3912",
          "pattern": {
           "shape": ""
          }
         },
         "name": "Hydro",
         "offsetgroup": "Hydro",
         "orientation": "v",
         "showlegend": false,
         "textfont": {
          "size": 9
         },
         "textposition": "auto",
         "texttemplate": "%{y:.1f}",
         "type": "bar",
         "x": [
          "CANOE (No EVs)",
          "CANOE (ZEV)",
          "CANOE (ZEV, NHTS)",
          "CANOE (ZEV, NHTS, fixed)"
         ],
         "xaxis": "x3",
         "y": [
          108.95383733996465,
          109.35806345451357,
          112.45619431557557,
          104.67051260946783
         ],
         "yaxis": "y3"
        },
        {
         "alignmentgroup": "True",
         "hovertemplate": "Plant Type=Hydro<br>Period=2035<br>Source=%{x}<br>Generation (PJ)=%{y}<extra></extra>",
         "legendgroup": "Hydro",
         "marker": {
          "color": "#DC3912",
          "pattern": {
           "shape": ""
          }
         },
         "name": "Hydro",
         "offsetgroup": "Hydro",
         "orientation": "v",
         "showlegend": false,
         "textfont": {
          "size": 9
         },
         "textposition": "auto",
         "texttemplate": "%{y:.1f}",
         "type": "bar",
         "x": [
          "CANOE (No EVs)",
          "CANOE (ZEV)",
          "CANOE (ZEV, NHTS)",
          "CANOE (ZEV, NHTS, fixed)"
         ],
         "xaxis": "x4",
         "y": [
          110.09682389672537,
          109.95408649982738,
          112.49630579788581,
          111.90445591870035
         ],
         "yaxis": "y4"
        },
        {
         "alignmentgroup": "True",
         "hovertemplate": "Plant Type=Hydro<br>Period=2040<br>Source=%{x}<br>Generation (PJ)=%{y}<extra></extra>",
         "legendgroup": "Hydro",
         "marker": {
          "color": "#DC3912",
          "pattern": {
           "shape": ""
          }
         },
         "name": "Hydro",
         "offsetgroup": "Hydro",
         "orientation": "v",
         "showlegend": false,
         "textfont": {
          "size": 9
         },
         "textposition": "auto",
         "texttemplate": "%{y:.1f}",
         "type": "bar",
         "x": [
          "CANOE (No EVs)",
          "CANOE (ZEV)",
          "CANOE (ZEV, NHTS)",
          "CANOE (ZEV, NHTS, fixed)"
         ],
         "xaxis": "x5",
         "y": [
          111.66307163115854,
          111.56011541005458,
          112.38444632035709,
          111.90457877613055
         ],
         "yaxis": "y5"
        },
        {
         "alignmentgroup": "True",
         "hovertemplate": "Plant Type=Hydro<br>Period=2045<br>Source=%{x}<br>Generation (PJ)=%{y}<extra></extra>",
         "legendgroup": "Hydro",
         "marker": {
          "color": "#DC3912",
          "pattern": {
           "shape": ""
          }
         },
         "name": "Hydro",
         "offsetgroup": "Hydro",
         "orientation": "v",
         "showlegend": false,
         "textfont": {
          "size": 9
         },
         "textposition": "auto",
         "texttemplate": "%{y:.1f}",
         "type": "bar",
         "x": [
          "CANOE (No EVs)",
          "CANOE (ZEV)",
          "CANOE (ZEV, NHTS)",
          "CANOE (ZEV, NHTS, fixed)"
         ],
         "xaxis": "x6",
         "y": [
          111.90511583444294,
          112.16310645995492,
          115.77635715972005,
          112.2415011648591
         ],
         "yaxis": "y6"
        },
        {
         "alignmentgroup": "True",
         "hovertemplate": "Plant Type=Hydro<br>Period=2050<br>Source=%{x}<br>Generation (PJ)=%{y}<extra></extra>",
         "legendgroup": "Hydro",
         "marker": {
          "color": "#DC3912",
          "pattern": {
           "shape": ""
          }
         },
         "name": "Hydro",
         "offsetgroup": "Hydro",
         "orientation": "v",
         "showlegend": false,
         "textfont": {
          "size": 9
         },
         "textposition": "auto",
         "texttemplate": "%{y:.1f}",
         "type": "bar",
         "x": [
          "CANOE (No EVs)",
          "CANOE (ZEV)",
          "CANOE (ZEV, NHTS)",
          "CANOE (ZEV, NHTS, fixed)"
         ],
         "xaxis": "x7",
         "y": [
          111.90554735742741,
          113.10740708024616,
          115.77633940869569,
          115.776072457603
         ],
         "yaxis": "y7"
        },
        {
         "alignmentgroup": "True",
         "hovertemplate": "Plant Type=Natural Gas<br>Period=2021<br>Source=%{x}<br>Generation (PJ)=%{y}<extra></extra>",
         "legendgroup": "Natural Gas",
         "marker": {
          "color": "#FF9900",
          "pattern": {
           "shape": ""
          }
         },
         "name": "Natural Gas",
         "offsetgroup": "Natural Gas",
         "orientation": "v",
         "showlegend": true,
         "textfont": {
          "size": 9
         },
         "textposition": "auto",
         "texttemplate": "%{y:.1f}",
         "type": "bar",
         "x": [
          "CANOE (No EVs)",
          "CANOE (ZEV)",
          "CANOE (ZEV, NHTS)",
          "CANOE (ZEV, NHTS, fixed)"
         ],
         "xaxis": "x",
         "y": [
          180.62512019524743,
          181.46119903912802,
          185.31514409550604,
          180.75551617398273
         ],
         "yaxis": "y"
        },
        {
         "alignmentgroup": "True",
         "hovertemplate": "Plant Type=Natural Gas<br>Period=2025<br>Source=%{x}<br>Generation (PJ)=%{y}<extra></extra>",
         "legendgroup": "Natural Gas",
         "marker": {
          "color": "#FF9900",
          "pattern": {
           "shape": ""
          }
         },
         "name": "Natural Gas",
         "offsetgroup": "Natural Gas",
         "orientation": "v",
         "showlegend": false,
         "textfont": {
          "size": 9
         },
         "textposition": "auto",
         "texttemplate": "%{y:.1f}",
         "type": "bar",
         "x": [
          "CANOE (No EVs)",
          "CANOE (ZEV)",
          "CANOE (ZEV, NHTS)",
          "CANOE (ZEV, NHTS, fixed)"
         ],
         "xaxis": "x2",
         "y": [
          119.94316770755333,
          130.2814408443022,
          154.53478955945081,
          144.71029708521087
         ],
         "yaxis": "y2"
        },
        {
         "alignmentgroup": "True",
         "hovertemplate": "Plant Type=Natural Gas<br>Period=2030<br>Source=%{x}<br>Generation (PJ)=%{y}<extra></extra>",
         "legendgroup": "Natural Gas",
         "marker": {
          "color": "#FF9900",
          "pattern": {
           "shape": ""
          }
         },
         "name": "Natural Gas",
         "offsetgroup": "Natural Gas",
         "orientation": "v",
         "showlegend": false,
         "textfont": {
          "size": 9
         },
         "textposition": "auto",
         "texttemplate": "%{y:.1f}",
         "type": "bar",
         "x": [
          "CANOE (No EVs)",
          "CANOE (ZEV)",
          "CANOE (ZEV, NHTS)",
          "CANOE (ZEV, NHTS, fixed)"
         ],
         "xaxis": "x3",
         "y": [
          150.40562028075308,
          169.19394461091764,
          172.13694322885826,
          192.8550528397694
         ],
         "yaxis": "y3"
        },
        {
         "alignmentgroup": "True",
         "hovertemplate": "Plant Type=Natural Gas<br>Period=2035<br>Source=%{x}<br>Generation (PJ)=%{y}<extra></extra>",
         "legendgroup": "Natural Gas",
         "marker": {
          "color": "#FF9900",
          "pattern": {
           "shape": ""
          }
         },
         "name": "Natural Gas",
         "offsetgroup": "Natural Gas",
         "orientation": "v",
         "showlegend": false,
         "textfont": {
          "size": 9
         },
         "textposition": "auto",
         "texttemplate": "%{y:.1f}",
         "type": "bar",
         "x": [
          "CANOE (No EVs)",
          "CANOE (ZEV)",
          "CANOE (ZEV, NHTS)",
          "CANOE (ZEV, NHTS, fixed)"
         ],
         "xaxis": "x4",
         "y": [
          80.44080934959817,
          119.80765431357568,
          186.78117377487914,
          101.59355577407256
         ],
         "yaxis": "y4"
        },
        {
         "alignmentgroup": "True",
         "hovertemplate": "Plant Type=Natural Gas<br>Period=2040<br>Source=%{x}<br>Generation (PJ)=%{y}<extra></extra>",
         "legendgroup": "Natural Gas",
         "marker": {
          "color": "#FF9900",
          "pattern": {
           "shape": ""
          }
         },
         "name": "Natural Gas",
         "offsetgroup": "Natural Gas",
         "orientation": "v",
         "showlegend": false,
         "textfont": {
          "size": 9
         },
         "textposition": "auto",
         "texttemplate": "%{y:.1f}",
         "type": "bar",
         "x": [
          "CANOE (No EVs)",
          "CANOE (ZEV)",
          "CANOE (ZEV, NHTS)",
          "CANOE (ZEV, NHTS, fixed)"
         ],
         "xaxis": "x5",
         "y": [
          139.00621785050444,
          195.71043194891882,
          233.0999462067107,
          133.02742297411677
         ],
         "yaxis": "y5"
        },
        {
         "alignmentgroup": "True",
         "hovertemplate": "Plant Type=Natural Gas<br>Period=2045<br>Source=%{x}<br>Generation (PJ)=%{y}<extra></extra>",
         "legendgroup": "Natural Gas",
         "marker": {
          "color": "#FF9900",
          "pattern": {
           "shape": ""
          }
         },
         "name": "Natural Gas",
         "offsetgroup": "Natural Gas",
         "orientation": "v",
         "showlegend": false,
         "textfont": {
          "size": 9
         },
         "textposition": "auto",
         "texttemplate": "%{y:.1f}",
         "type": "bar",
         "x": [
          "CANOE (No EVs)",
          "CANOE (ZEV)",
          "CANOE (ZEV, NHTS)",
          "CANOE (ZEV, NHTS, fixed)"
         ],
         "xaxis": "x6",
         "y": [
          342.90415586757376,
          432.2548089929968,
          449.17088827321083,
          418.98771211596164
         ],
         "yaxis": "y6"
        },
        {
         "alignmentgroup": "True",
         "hovertemplate": "Plant Type=Natural Gas<br>Period=2050<br>Source=%{x}<br>Generation (PJ)=%{y}<extra></extra>",
         "legendgroup": "Natural Gas",
         "marker": {
          "color": "#FF9900",
          "pattern": {
           "shape": ""
          }
         },
         "name": "Natural Gas",
         "offsetgroup": "Natural Gas",
         "orientation": "v",
         "showlegend": false,
         "textfont": {
          "size": 9
         },
         "textposition": "auto",
         "texttemplate": "%{y:.1f}",
         "type": "bar",
         "x": [
          "CANOE (No EVs)",
          "CANOE (ZEV)",
          "CANOE (ZEV, NHTS)",
          "CANOE (ZEV, NHTS, fixed)"
         ],
         "xaxis": "x7",
         "y": [
          369.8657104981044,
          491.1378246320919,
          444.5365729050123,
          487.54532801896556
         ],
         "yaxis": "y7"
        },
        {
         "alignmentgroup": "True",
         "hovertemplate": "Plant Type=Nuclear<br>Period=2021<br>Source=%{x}<br>Generation (PJ)=%{y}<extra></extra>",
         "legendgroup": "Nuclear",
         "marker": {
          "color": "#109618",
          "pattern": {
           "shape": ""
          }
         },
         "name": "Nuclear",
         "offsetgroup": "Nuclear",
         "orientation": "v",
         "showlegend": true,
         "textfont": {
          "size": 9
         },
         "textposition": "auto",
         "texttemplate": "%{y:.1f}",
         "type": "bar",
         "x": [
          "CANOE (No EVs)",
          "CANOE (ZEV)",
          "CANOE (ZEV, NHTS)",
          "CANOE (ZEV, NHTS, fixed)"
         ],
         "xaxis": "x",
         "y": [
          327.2490438563237,
          327.2490642964233,
          327.2490687492857,
          327.2490656556817
         ],
         "yaxis": "y"
        },
        {
         "alignmentgroup": "True",
         "hovertemplate": "Plant Type=Nuclear<br>Period=2025<br>Source=%{x}<br>Generation (PJ)=%{y}<extra></extra>",
         "legendgroup": "Nuclear",
         "marker": {
          "color": "#109618",
          "pattern": {
           "shape": ""
          }
         },
         "name": "Nuclear",
         "offsetgroup": "Nuclear",
         "orientation": "v",
         "showlegend": false,
         "textfont": {
          "size": 9
         },
         "textposition": "auto",
         "texttemplate": "%{y:.1f}",
         "type": "bar",
         "x": [
          "CANOE (No EVs)",
          "CANOE (ZEV)",
          "CANOE (ZEV, NHTS)",
          "CANOE (ZEV, NHTS, fixed)"
         ],
         "xaxis": "x2",
         "y": [
          320.4418765645171,
          320.0521779563412,
          327.2490661644834,
          322.0274985437244
         ],
         "yaxis": "y2"
        },
        {
         "alignmentgroup": "True",
         "hovertemplate": "Plant Type=Nuclear<br>Period=2030<br>Source=%{x}<br>Generation (PJ)=%{y}<extra></extra>",
         "legendgroup": "Nuclear",
         "marker": {
          "color": "#109618",
          "pattern": {
           "shape": ""
          }
         },
         "name": "Nuclear",
         "offsetgroup": "Nuclear",
         "orientation": "v",
         "showlegend": false,
         "textfont": {
          "size": 9
         },
         "textposition": "auto",
         "texttemplate": "%{y:.1f}",
         "type": "bar",
         "x": [
          "CANOE (No EVs)",
          "CANOE (ZEV)",
          "CANOE (ZEV, NHTS)",
          "CANOE (ZEV, NHTS, fixed)"
         ],
         "xaxis": "x3",
         "y": [
          191.68511656621,
          188.7069951217959,
          210.0190753856411,
          192.2968844498723
         ],
         "yaxis": "y3"
        },
        {
         "alignmentgroup": "True",
         "hovertemplate": "Plant Type=Nuclear<br>Period=2035<br>Source=%{x}<br>Generation (PJ)=%{y}<extra></extra>",
         "legendgroup": "Nuclear",
         "marker": {
          "color": "#109618",
          "pattern": {
           "shape": ""
          }
         },
         "name": "Nuclear",
         "offsetgroup": "Nuclear",
         "orientation": "v",
         "showlegend": false,
         "textfont": {
          "size": 9
         },
         "textposition": "auto",
         "texttemplate": "%{y:.1f}",
         "type": "bar",
         "x": [
          "CANOE (No EVs)",
          "CANOE (ZEV)",
          "CANOE (ZEV, NHTS)",
          "CANOE (ZEV, NHTS, fixed)"
         ],
         "xaxis": "x4",
         "y": [
          161.9503649972214,
          160.9329886361062,
          178.4054708584603,
          164.4032139477138
         ],
         "yaxis": "y4"
        },
        {
         "alignmentgroup": "True",
         "hovertemplate": "Plant Type=Nuclear<br>Period=2040<br>Source=%{x}<br>Generation (PJ)=%{y}<extra></extra>",
         "legendgroup": "Nuclear",
         "marker": {
          "color": "#109618",
          "pattern": {
           "shape": ""
          }
         },
         "name": "Nuclear",
         "offsetgroup": "Nuclear",
         "orientation": "v",
         "showlegend": false,
         "textfont": {
          "size": 9
         },
         "textposition": "auto",
         "texttemplate": "%{y:.1f}",
         "type": "bar",
         "x": [
          "CANOE (No EVs)",
          "CANOE (ZEV)",
          "CANOE (ZEV, NHTS)",
          "CANOE (ZEV, NHTS, fixed)"
         ],
         "xaxis": "x5",
         "y": [
          117.4386878266807,
          117.4789063537686,
          130.8428493322953,
          119.6689473959205
         ],
         "yaxis": "y5"
        },
        {
         "alignmentgroup": "True",
         "hovertemplate": "Plant Type=Nuclear<br>Period=2045<br>Source=%{x}<br>Generation (PJ)=%{y}<extra></extra>",
         "legendgroup": "Nuclear",
         "marker": {
          "color": "#109618",
          "pattern": {
           "shape": ""
          }
         },
         "name": "Nuclear",
         "offsetgroup": "Nuclear",
         "orientation": "v",
         "showlegend": false,
         "textfont": {
          "size": 9
         },
         "textposition": "auto",
         "texttemplate": "%{y:.1f}",
         "type": "bar",
         "x": [
          "CANOE (No EVs)",
          "CANOE (ZEV)",
          "CANOE (ZEV, NHTS)",
          "CANOE (ZEV, NHTS, fixed)"
         ],
         "xaxis": "x6",
         "y": [
          25.41053504074703,
          25.41054019827354,
          27.78321228990618,
          25.41054125710539
         ],
         "yaxis": "y6"
        },
        {
         "alignmentgroup": "True",
         "hovertemplate": "Plant Type=Nuclear<br>Period=2050<br>Source=%{x}<br>Generation (PJ)=%{y}<extra></extra>",
         "legendgroup": "Nuclear",
         "marker": {
          "color": "#109618",
          "pattern": {
           "shape": ""
          }
         },
         "name": "Nuclear",
         "offsetgroup": "Nuclear",
         "orientation": "v",
         "showlegend": false,
         "textfont": {
          "size": 9
         },
         "textposition": "auto",
         "texttemplate": "%{y:.1f}",
         "type": "bar",
         "x": [
          "CANOE (No EVs)",
          "CANOE (ZEV)",
          "CANOE (ZEV, NHTS)",
          "CANOE (ZEV, NHTS, fixed)"
         ],
         "xaxis": "x7",
         "y": [
          25.41053767106091,
          25.41053961012959,
          27.78321313472706,
          25.41054096477482
         ],
         "yaxis": "y7"
        },
        {
         "alignmentgroup": "True",
         "hovertemplate": "Plant Type=Solar<br>Period=2021<br>Source=%{x}<br>Generation (PJ)=%{y}<extra></extra>",
         "legendgroup": "Solar",
         "marker": {
          "color": "#990099",
          "pattern": {
           "shape": ""
          }
         },
         "name": "Solar",
         "offsetgroup": "Solar",
         "orientation": "v",
         "showlegend": true,
         "textfont": {
          "size": 9
         },
         "textposition": "auto",
         "texttemplate": "%{y:.1f}",
         "type": "bar",
         "x": [
          "CANOE (No EVs)",
          "CANOE (ZEV)",
          "CANOE (ZEV, NHTS)",
          "CANOE (ZEV, NHTS, fixed)"
         ],
         "xaxis": "x",
         "y": [
          2.437420983559932,
          2.437421600889372,
          2.513734405126477,
          2.437424805641472
         ],
         "yaxis": "y"
        },
        {
         "alignmentgroup": "True",
         "hovertemplate": "Plant Type=Solar<br>Period=2025<br>Source=%{x}<br>Generation (PJ)=%{y}<extra></extra>",
         "legendgroup": "Solar",
         "marker": {
          "color": "#990099",
          "pattern": {
           "shape": ""
          }
         },
         "name": "Solar",
         "offsetgroup": "Solar",
         "orientation": "v",
         "showlegend": false,
         "textfont": {
          "size": 9
         },
         "textposition": "auto",
         "texttemplate": "%{y:.1f}",
         "type": "bar",
         "x": [
          "CANOE (No EVs)",
          "CANOE (ZEV)",
          "CANOE (ZEV, NHTS)",
          "CANOE (ZEV, NHTS, fixed)"
         ],
         "xaxis": "x2",
         "y": [
          2.4375438895204264,
          2.437561373817967,
          2.513736038912942,
          2.437423624721687
         ],
         "yaxis": "y2"
        },
        {
         "alignmentgroup": "True",
         "hovertemplate": "Plant Type=Solar<br>Period=2030<br>Source=%{x}<br>Generation (PJ)=%{y}<extra></extra>",
         "legendgroup": "Solar",
         "marker": {
          "color": "#990099",
          "pattern": {
           "shape": ""
          }
         },
         "name": "Solar",
         "offsetgroup": "Solar",
         "orientation": "v",
         "showlegend": false,
         "textfont": {
          "size": 9
         },
         "textposition": "auto",
         "texttemplate": "%{y:.1f}",
         "type": "bar",
         "x": [
          "CANOE (No EVs)",
          "CANOE (ZEV)",
          "CANOE (ZEV, NHTS)",
          "CANOE (ZEV, NHTS, fixed)"
         ],
         "xaxis": "x3",
         "y": [
          2.4376601870972534,
          2.389282846550797,
          2.5149938625591934,
          2.390209089796212
         ],
         "yaxis": "y3"
        },
        {
         "alignmentgroup": "True",
         "hovertemplate": "Plant Type=Solar<br>Period=2035<br>Source=%{x}<br>Generation (PJ)=%{y}<extra></extra>",
         "legendgroup": "Solar",
         "marker": {
          "color": "#990099",
          "pattern": {
           "shape": ""
          }
         },
         "name": "Solar",
         "offsetgroup": "Solar",
         "orientation": "v",
         "showlegend": false,
         "textfont": {
          "size": 9
         },
         "textposition": "auto",
         "texttemplate": "%{y:.1f}",
         "type": "bar",
         "x": [
          "CANOE (No EVs)",
          "CANOE (ZEV)",
          "CANOE (ZEV, NHTS)",
          "CANOE (ZEV, NHTS, fixed)"
         ],
         "xaxis": "x4",
         "y": [
          135.11086902291052,
          162.81558845964614,
          122.99811088691911,
          138.236897721744
         ],
         "yaxis": "y4"
        },
        {
         "alignmentgroup": "True",
         "hovertemplate": "Plant Type=Solar<br>Period=2040<br>Source=%{x}<br>Generation (PJ)=%{y}<extra></extra>",
         "legendgroup": "Solar",
         "marker": {
          "color": "#990099",
          "pattern": {
           "shape": ""
          }
         },
         "name": "Solar",
         "offsetgroup": "Solar",
         "orientation": "v",
         "showlegend": false,
         "textfont": {
          "size": 9
         },
         "textposition": "auto",
         "texttemplate": "%{y:.1f}",
         "type": "bar",
         "x": [
          "CANOE (No EVs)",
          "CANOE (ZEV)",
          "CANOE (ZEV, NHTS)",
          "CANOE (ZEV, NHTS, fixed)"
         ],
         "xaxis": "x5",
         "y": [
          148.05516131246674,
          183.43120462027485,
          159.47416792514053,
          172.233281859264
         ],
         "yaxis": "y5"
        },
        {
         "alignmentgroup": "True",
         "hovertemplate": "Plant Type=Solar<br>Period=2045<br>Source=%{x}<br>Generation (PJ)=%{y}<extra></extra>",
         "legendgroup": "Solar",
         "marker": {
          "color": "#990099",
          "pattern": {
           "shape": ""
          }
         },
         "name": "Solar",
         "offsetgroup": "Solar",
         "orientation": "v",
         "showlegend": false,
         "textfont": {
          "size": 9
         },
         "textposition": "auto",
         "texttemplate": "%{y:.1f}",
         "type": "bar",
         "x": [
          "CANOE (No EVs)",
          "CANOE (ZEV)",
          "CANOE (ZEV, NHTS)",
          "CANOE (ZEV, NHTS, fixed)"
         ],
         "xaxis": "x6",
         "y": [
          146.822009581844,
          182.7065182180264,
          157.4771147903105,
          171.43858551707467
         ],
         "yaxis": "y6"
        },
        {
         "alignmentgroup": "True",
         "hovertemplate": "Plant Type=Solar<br>Period=2050<br>Source=%{x}<br>Generation (PJ)=%{y}<extra></extra>",
         "legendgroup": "Solar",
         "marker": {
          "color": "#990099",
          "pattern": {
           "shape": ""
          }
         },
         "name": "Solar",
         "offsetgroup": "Solar",
         "orientation": "v",
         "showlegend": false,
         "textfont": {
          "size": 9
         },
         "textposition": "auto",
         "texttemplate": "%{y:.1f}",
         "type": "bar",
         "x": [
          "CANOE (No EVs)",
          "CANOE (ZEV)",
          "CANOE (ZEV, NHTS)",
          "CANOE (ZEV, NHTS, fixed)"
         ],
         "xaxis": "x7",
         "y": [
          151.51371946437348,
          182.93952304841446,
          232.0972292873073,
          184.45659042171414
         ],
         "yaxis": "y7"
        },
        {
         "alignmentgroup": "True",
         "hovertemplate": "Plant Type=Wind<br>Period=2021<br>Source=%{x}<br>Generation (PJ)=%{y}<extra></extra>",
         "legendgroup": "Wind",
         "marker": {
          "color": "#0099C6",
          "pattern": {
           "shape": ""
          }
         },
         "name": "Wind",
         "offsetgroup": "Wind",
         "orientation": "v",
         "showlegend": true,
         "textfont": {
          "size": 9
         },
         "textposition": "auto",
         "texttemplate": "%{y:.1f}",
         "type": "bar",
         "x": [
          "CANOE (No EVs)",
          "CANOE (ZEV)",
          "CANOE (ZEV, NHTS)",
          "CANOE (ZEV, NHTS, fixed)"
         ],
         "xaxis": "x",
         "y": [
          44.69692132125635,
          44.69726825453718,
          40.02166987742793,
          44.690078200760404
         ],
         "yaxis": "y"
        },
        {
         "alignmentgroup": "True",
         "hovertemplate": "Plant Type=Wind<br>Period=2025<br>Source=%{x}<br>Generation (PJ)=%{y}<extra></extra>",
         "legendgroup": "Wind",
         "marker": {
          "color": "#0099C6",
          "pattern": {
           "shape": ""
          }
         },
         "name": "Wind",
         "offsetgroup": "Wind",
         "orientation": "v",
         "showlegend": false,
         "textfont": {
          "size": 9
         },
         "textposition": "auto",
         "texttemplate": "%{y:.1f}",
         "type": "bar",
         "x": [
          "CANOE (No EVs)",
          "CANOE (ZEV)",
          "CANOE (ZEV, NHTS)",
          "CANOE (ZEV, NHTS, fixed)"
         ],
         "xaxis": "x2",
         "y": [
          126.15592495705448,
          137.66324645713632,
          111.39859816419201,
          122.70851398899673
         ],
         "yaxis": "y2"
        },
        {
         "alignmentgroup": "True",
         "hovertemplate": "Plant Type=Wind<br>Period=2030<br>Source=%{x}<br>Generation (PJ)=%{y}<extra></extra>",
         "legendgroup": "Wind",
         "marker": {
          "color": "#0099C6",
          "pattern": {
           "shape": ""
          }
         },
         "name": "Wind",
         "offsetgroup": "Wind",
         "orientation": "v",
         "showlegend": false,
         "textfont": {
          "size": 9
         },
         "textposition": "auto",
         "texttemplate": "%{y:.1f}",
         "type": "bar",
         "x": [
          "CANOE (No EVs)",
          "CANOE (ZEV)",
          "CANOE (ZEV, NHTS)",
          "CANOE (ZEV, NHTS, fixed)"
         ],
         "xaxis": "x3",
         "y": [
          303.05855083062374,
          344.7357598673028,
          286.86050004373305,
          328.87780295577204
         ],
         "yaxis": "y3"
        },
        {
         "alignmentgroup": "True",
         "hovertemplate": "Plant Type=Wind<br>Period=2035<br>Source=%{x}<br>Generation (PJ)=%{y}<extra></extra>",
         "legendgroup": "Wind",
         "marker": {
          "color": "#0099C6",
          "pattern": {
           "shape": ""
          }
         },
         "name": "Wind",
         "offsetgroup": "Wind",
         "orientation": "v",
         "showlegend": false,
         "textfont": {
          "size": 9
         },
         "textposition": "auto",
         "texttemplate": "%{y:.1f}",
         "type": "bar",
         "x": [
          "CANOE (No EVs)",
          "CANOE (ZEV)",
          "CANOE (ZEV, NHTS)",
          "CANOE (ZEV, NHTS, fixed)"
         ],
         "xaxis": "x4",
         "y": [
          296.43525816301224,
          372.9509045080184,
          318.651770836759,
          379.92120189219423
         ],
         "yaxis": "y4"
        },
        {
         "alignmentgroup": "True",
         "hovertemplate": "Plant Type=Wind<br>Period=2040<br>Source=%{x}<br>Generation (PJ)=%{y}<extra></extra>",
         "legendgroup": "Wind",
         "marker": {
          "color": "#0099C6",
          "pattern": {
           "shape": ""
          }
         },
         "name": "Wind",
         "offsetgroup": "Wind",
         "orientation": "v",
         "showlegend": false,
         "textfont": {
          "size": 9
         },
         "textposition": "auto",
         "texttemplate": "%{y:.1f}",
         "type": "bar",
         "x": [
          "CANOE (No EVs)",
          "CANOE (ZEV)",
          "CANOE (ZEV, NHTS)",
          "CANOE (ZEV, NHTS, fixed)"
         ],
         "xaxis": "x5",
         "y": [
          346.28919461498907,
          443.76900573949536,
          393.52179609728665,
          465.92065283125
         ],
         "yaxis": "y5"
        },
        {
         "alignmentgroup": "True",
         "hovertemplate": "Plant Type=Wind<br>Period=2045<br>Source=%{x}<br>Generation (PJ)=%{y}<extra></extra>",
         "legendgroup": "Wind",
         "marker": {
          "color": "#0099C6",
          "pattern": {
           "shape": ""
          }
         },
         "name": "Wind",
         "offsetgroup": "Wind",
         "orientation": "v",
         "showlegend": false,
         "textfont": {
          "size": 9
         },
         "textposition": "auto",
         "texttemplate": "%{y:.1f}",
         "type": "bar",
         "x": [
          "CANOE (No EVs)",
          "CANOE (ZEV)",
          "CANOE (ZEV, NHTS)",
          "CANOE (ZEV, NHTS, fixed)"
         ],
         "xaxis": "x6",
         "y": [
          323.1536479952951,
          422.3300176898768,
          370.6739699316765,
          447.8034461262948
         ],
         "yaxis": "y6"
        },
        {
         "alignmentgroup": "True",
         "hovertemplate": "Plant Type=Wind<br>Period=2050<br>Source=%{x}<br>Generation (PJ)=%{y}<extra></extra>",
         "legendgroup": "Wind",
         "marker": {
          "color": "#0099C6",
          "pattern": {
           "shape": ""
          }
         },
         "name": "Wind",
         "offsetgroup": "Wind",
         "orientation": "v",
         "showlegend": false,
         "textfont": {
          "size": 9
         },
         "textposition": "auto",
         "texttemplate": "%{y:.1f}",
         "type": "bar",
         "x": [
          "CANOE (No EVs)",
          "CANOE (ZEV)",
          "CANOE (ZEV, NHTS)",
          "CANOE (ZEV, NHTS, fixed)"
         ],
         "xaxis": "x7",
         "y": [
          322.2543048419614,
          422.2551677788596,
          368.6398530643659,
          445.53655948451836
         ],
         "yaxis": "y7"
        }
       ],
       "layout": {
        "annotations": [
         {
          "font": {},
          "showarrow": false,
          "text": "2021",
          "x": 0.06285714285714285,
          "xanchor": "center",
          "xref": "paper",
          "y": -0.5,
          "yanchor": "top",
          "yref": "paper"
         },
         {
          "font": {},
          "showarrow": false,
          "text": "2025",
          "x": 0.20857142857142852,
          "xanchor": "center",
          "xref": "paper",
          "y": -0.5,
          "yanchor": "top",
          "yref": "paper"
         },
         {
          "font": {},
          "showarrow": false,
          "text": "2030",
          "x": 0.3542857142857142,
          "xanchor": "center",
          "xref": "paper",
          "y": -0.5,
          "yanchor": "top",
          "yref": "paper"
         },
         {
          "font": {},
          "showarrow": false,
          "text": "2035",
          "x": 0.5,
          "xanchor": "center",
          "xref": "paper",
          "y": -0.5,
          "yanchor": "top",
          "yref": "paper"
         },
         {
          "font": {},
          "showarrow": false,
          "text": "2040",
          "x": 0.6457142857142856,
          "xanchor": "center",
          "xref": "paper",
          "y": -0.5,
          "yanchor": "top",
          "yref": "paper"
         },
         {
          "font": {},
          "showarrow": false,
          "text": "2045",
          "x": 0.7914285714285713,
          "xanchor": "center",
          "xref": "paper",
          "y": -0.5,
          "yanchor": "top",
          "yref": "paper"
         },
         {
          "font": {},
          "showarrow": false,
          "text": "2050",
          "x": 0.937142857142857,
          "xanchor": "center",
          "xref": "paper",
          "y": -0.5,
          "yanchor": "top",
          "yref": "paper"
         }
        ],
        "bargap": 0.1,
        "barmode": "stack",
        "font": {
         "size": 14
        },
        "height": 650,
        "legend": {
         "orientation": "h",
         "title": {
          "text": ""
         },
         "tracegroupgap": 0,
         "x": 0.5,
         "xanchor": "center",
         "y": 1.04,
         "yanchor": "top"
        },
        "margin": {
         "t": 60
        },
        "template": {
         "data": {
          "bar": [
           {
            "error_x": {
             "color": "#2a3f5f"
            },
            "error_y": {
             "color": "#2a3f5f"
            },
            "marker": {
             "line": {
              "color": "white",
              "width": 0.5
             },
             "pattern": {
              "fillmode": "overlay",
              "size": 10,
              "solidity": 0.2
             }
            },
            "type": "bar"
           }
          ],
          "barpolar": [
           {
            "marker": {
             "line": {
              "color": "white",
              "width": 0.5
             },
             "pattern": {
              "fillmode": "overlay",
              "size": 10,
              "solidity": 0.2
             }
            },
            "type": "barpolar"
           }
          ],
          "carpet": [
           {
            "aaxis": {
             "endlinecolor": "#2a3f5f",
             "gridcolor": "#C8D4E3",
             "linecolor": "#C8D4E3",
             "minorgridcolor": "#C8D4E3",
             "startlinecolor": "#2a3f5f"
            },
            "baxis": {
             "endlinecolor": "#2a3f5f",
             "gridcolor": "#C8D4E3",
             "linecolor": "#C8D4E3",
             "minorgridcolor": "#C8D4E3",
             "startlinecolor": "#2a3f5f"
            },
            "type": "carpet"
           }
          ],
          "choropleth": [
           {
            "colorbar": {
             "outlinewidth": 0,
             "ticks": ""
            },
            "type": "choropleth"
           }
          ],
          "contour": [
           {
            "colorbar": {
             "outlinewidth": 0,
             "ticks": ""
            },
            "colorscale": [
             [
              0,
              "#0d0887"
             ],
             [
              0.1111111111111111,
              "#46039f"
             ],
             [
              0.2222222222222222,
              "#7201a8"
             ],
             [
              0.3333333333333333,
              "#9c179e"
             ],
             [
              0.4444444444444444,
              "#bd3786"
             ],
             [
              0.5555555555555556,
              "#d8576b"
             ],
             [
              0.6666666666666666,
              "#ed7953"
             ],
             [
              0.7777777777777778,
              "#fb9f3a"
             ],
             [
              0.8888888888888888,
              "#fdca26"
             ],
             [
              1,
              "#f0f921"
             ]
            ],
            "type": "contour"
           }
          ],
          "contourcarpet": [
           {
            "colorbar": {
             "outlinewidth": 0,
             "ticks": ""
            },
            "type": "contourcarpet"
           }
          ],
          "heatmap": [
           {
            "colorbar": {
             "outlinewidth": 0,
             "ticks": ""
            },
            "colorscale": [
             [
              0,
              "#0d0887"
             ],
             [
              0.1111111111111111,
              "#46039f"
             ],
             [
              0.2222222222222222,
              "#7201a8"
             ],
             [
              0.3333333333333333,
              "#9c179e"
             ],
             [
              0.4444444444444444,
              "#bd3786"
             ],
             [
              0.5555555555555556,
              "#d8576b"
             ],
             [
              0.6666666666666666,
              "#ed7953"
             ],
             [
              0.7777777777777778,
              "#fb9f3a"
             ],
             [
              0.8888888888888888,
              "#fdca26"
             ],
             [
              1,
              "#f0f921"
             ]
            ],
            "type": "heatmap"
           }
          ],
          "heatmapgl": [
           {
            "colorbar": {
             "outlinewidth": 0,
             "ticks": ""
            },
            "colorscale": [
             [
              0,
              "#0d0887"
             ],
             [
              0.1111111111111111,
              "#46039f"
             ],
             [
              0.2222222222222222,
              "#7201a8"
             ],
             [
              0.3333333333333333,
              "#9c179e"
             ],
             [
              0.4444444444444444,
              "#bd3786"
             ],
             [
              0.5555555555555556,
              "#d8576b"
             ],
             [
              0.6666666666666666,
              "#ed7953"
             ],
             [
              0.7777777777777778,
              "#fb9f3a"
             ],
             [
              0.8888888888888888,
              "#fdca26"
             ],
             [
              1,
              "#f0f921"
             ]
            ],
            "type": "heatmapgl"
           }
          ],
          "histogram": [
           {
            "marker": {
             "pattern": {
              "fillmode": "overlay",
              "size": 10,
              "solidity": 0.2
             }
            },
            "type": "histogram"
           }
          ],
          "histogram2d": [
           {
            "colorbar": {
             "outlinewidth": 0,
             "ticks": ""
            },
            "colorscale": [
             [
              0,
              "#0d0887"
             ],
             [
              0.1111111111111111,
              "#46039f"
             ],
             [
              0.2222222222222222,
              "#7201a8"
             ],
             [
              0.3333333333333333,
              "#9c179e"
             ],
             [
              0.4444444444444444,
              "#bd3786"
             ],
             [
              0.5555555555555556,
              "#d8576b"
             ],
             [
              0.6666666666666666,
              "#ed7953"
             ],
             [
              0.7777777777777778,
              "#fb9f3a"
             ],
             [
              0.8888888888888888,
              "#fdca26"
             ],
             [
              1,
              "#f0f921"
             ]
            ],
            "type": "histogram2d"
           }
          ],
          "histogram2dcontour": [
           {
            "colorbar": {
             "outlinewidth": 0,
             "ticks": ""
            },
            "colorscale": [
             [
              0,
              "#0d0887"
             ],
             [
              0.1111111111111111,
              "#46039f"
             ],
             [
              0.2222222222222222,
              "#7201a8"
             ],
             [
              0.3333333333333333,
              "#9c179e"
             ],
             [
              0.4444444444444444,
              "#bd3786"
             ],
             [
              0.5555555555555556,
              "#d8576b"
             ],
             [
              0.6666666666666666,
              "#ed7953"
             ],
             [
              0.7777777777777778,
              "#fb9f3a"
             ],
             [
              0.8888888888888888,
              "#fdca26"
             ],
             [
              1,
              "#f0f921"
             ]
            ],
            "type": "histogram2dcontour"
           }
          ],
          "mesh3d": [
           {
            "colorbar": {
             "outlinewidth": 0,
             "ticks": ""
            },
            "type": "mesh3d"
           }
          ],
          "parcoords": [
           {
            "line": {
             "colorbar": {
              "outlinewidth": 0,
              "ticks": ""
             }
            },
            "type": "parcoords"
           }
          ],
          "pie": [
           {
            "automargin": true,
            "type": "pie"
           }
          ],
          "scatter": [
           {
            "fillpattern": {
             "fillmode": "overlay",
             "size": 10,
             "solidity": 0.2
            },
            "type": "scatter"
           }
          ],
          "scatter3d": [
           {
            "line": {
             "colorbar": {
              "outlinewidth": 0,
              "ticks": ""
             }
            },
            "marker": {
             "colorbar": {
              "outlinewidth": 0,
              "ticks": ""
             }
            },
            "type": "scatter3d"
           }
          ],
          "scattercarpet": [
           {
            "marker": {
             "colorbar": {
              "outlinewidth": 0,
              "ticks": ""
             }
            },
            "type": "scattercarpet"
           }
          ],
          "scattergeo": [
           {
            "marker": {
             "colorbar": {
              "outlinewidth": 0,
              "ticks": ""
             }
            },
            "type": "scattergeo"
           }
          ],
          "scattergl": [
           {
            "marker": {
             "colorbar": {
              "outlinewidth": 0,
              "ticks": ""
             }
            },
            "type": "scattergl"
           }
          ],
          "scattermapbox": [
           {
            "marker": {
             "colorbar": {
              "outlinewidth": 0,
              "ticks": ""
             }
            },
            "type": "scattermapbox"
           }
          ],
          "scatterpolar": [
           {
            "marker": {
             "colorbar": {
              "outlinewidth": 0,
              "ticks": ""
             }
            },
            "type": "scatterpolar"
           }
          ],
          "scatterpolargl": [
           {
            "marker": {
             "colorbar": {
              "outlinewidth": 0,
              "ticks": ""
             }
            },
            "type": "scatterpolargl"
           }
          ],
          "scatterternary": [
           {
            "marker": {
             "colorbar": {
              "outlinewidth": 0,
              "ticks": ""
             }
            },
            "type": "scatterternary"
           }
          ],
          "surface": [
           {
            "colorbar": {
             "outlinewidth": 0,
             "ticks": ""
            },
            "colorscale": [
             [
              0,
              "#0d0887"
             ],
             [
              0.1111111111111111,
              "#46039f"
             ],
             [
              0.2222222222222222,
              "#7201a8"
             ],
             [
              0.3333333333333333,
              "#9c179e"
             ],
             [
              0.4444444444444444,
              "#bd3786"
             ],
             [
              0.5555555555555556,
              "#d8576b"
             ],
             [
              0.6666666666666666,
              "#ed7953"
             ],
             [
              0.7777777777777778,
              "#fb9f3a"
             ],
             [
              0.8888888888888888,
              "#fdca26"
             ],
             [
              1,
              "#f0f921"
             ]
            ],
            "type": "surface"
           }
          ],
          "table": [
           {
            "cells": {
             "fill": {
              "color": "#EBF0F8"
             },
             "line": {
              "color": "white"
             }
            },
            "header": {
             "fill": {
              "color": "#C8D4E3"
             },
             "line": {
              "color": "white"
             }
            },
            "type": "table"
           }
          ]
         },
         "layout": {
          "annotationdefaults": {
           "arrowcolor": "#2a3f5f",
           "arrowhead": 0,
           "arrowwidth": 1
          },
          "autotypenumbers": "strict",
          "coloraxis": {
           "colorbar": {
            "outlinewidth": 0,
            "ticks": ""
           }
          },
          "colorscale": {
           "diverging": [
            [
             0,
             "#8e0152"
            ],
            [
             0.1,
             "#c51b7d"
            ],
            [
             0.2,
             "#de77ae"
            ],
            [
             0.3,
             "#f1b6da"
            ],
            [
             0.4,
             "#fde0ef"
            ],
            [
             0.5,
             "#f7f7f7"
            ],
            [
             0.6,
             "#e6f5d0"
            ],
            [
             0.7,
             "#b8e186"
            ],
            [
             0.8,
             "#7fbc41"
            ],
            [
             0.9,
             "#4d9221"
            ],
            [
             1,
             "#276419"
            ]
           ],
           "sequential": [
            [
             0,
             "#0d0887"
            ],
            [
             0.1111111111111111,
             "#46039f"
            ],
            [
             0.2222222222222222,
             "#7201a8"
            ],
            [
             0.3333333333333333,
             "#9c179e"
            ],
            [
             0.4444444444444444,
             "#bd3786"
            ],
            [
             0.5555555555555556,
             "#d8576b"
            ],
            [
             0.6666666666666666,
             "#ed7953"
            ],
            [
             0.7777777777777778,
             "#fb9f3a"
            ],
            [
             0.8888888888888888,
             "#fdca26"
            ],
            [
             1,
             "#f0f921"
            ]
           ],
           "sequentialminus": [
            [
             0,
             "#0d0887"
            ],
            [
             0.1111111111111111,
             "#46039f"
            ],
            [
             0.2222222222222222,
             "#7201a8"
            ],
            [
             0.3333333333333333,
             "#9c179e"
            ],
            [
             0.4444444444444444,
             "#bd3786"
            ],
            [
             0.5555555555555556,
             "#d8576b"
            ],
            [
             0.6666666666666666,
             "#ed7953"
            ],
            [
             0.7777777777777778,
             "#fb9f3a"
            ],
            [
             0.8888888888888888,
             "#fdca26"
            ],
            [
             1,
             "#f0f921"
            ]
           ]
          },
          "colorway": [
           "#636efa",
           "#EF553B",
           "#00cc96",
           "#ab63fa",
           "#FFA15A",
           "#19d3f3",
           "#FF6692",
           "#B6E880",
           "#FF97FF",
           "#FECB52"
          ],
          "font": {
           "color": "#2a3f5f"
          },
          "geo": {
           "bgcolor": "white",
           "lakecolor": "white",
           "landcolor": "white",
           "showlakes": true,
           "showland": true,
           "subunitcolor": "#C8D4E3"
          },
          "hoverlabel": {
           "align": "left"
          },
          "hovermode": "closest",
          "mapbox": {
           "style": "light"
          },
          "paper_bgcolor": "white",
          "plot_bgcolor": "white",
          "polar": {
           "angularaxis": {
            "gridcolor": "#EBF0F8",
            "linecolor": "#EBF0F8",
            "ticks": ""
           },
           "bgcolor": "white",
           "radialaxis": {
            "gridcolor": "#EBF0F8",
            "linecolor": "#EBF0F8",
            "ticks": ""
           }
          },
          "scene": {
           "xaxis": {
            "backgroundcolor": "white",
            "gridcolor": "#DFE8F3",
            "gridwidth": 2,
            "linecolor": "#EBF0F8",
            "showbackground": true,
            "ticks": "",
            "zerolinecolor": "#EBF0F8"
           },
           "yaxis": {
            "backgroundcolor": "white",
            "gridcolor": "#DFE8F3",
            "gridwidth": 2,
            "linecolor": "#EBF0F8",
            "showbackground": true,
            "ticks": "",
            "zerolinecolor": "#EBF0F8"
           },
           "zaxis": {
            "backgroundcolor": "white",
            "gridcolor": "#DFE8F3",
            "gridwidth": 2,
            "linecolor": "#EBF0F8",
            "showbackground": true,
            "ticks": "",
            "zerolinecolor": "#EBF0F8"
           }
          },
          "shapedefaults": {
           "line": {
            "color": "#2a3f5f"
           }
          },
          "ternary": {
           "aaxis": {
            "gridcolor": "#DFE8F3",
            "linecolor": "#A2B1C6",
            "ticks": ""
           },
           "baxis": {
            "gridcolor": "#DFE8F3",
            "linecolor": "#A2B1C6",
            "ticks": ""
           },
           "bgcolor": "white",
           "caxis": {
            "gridcolor": "#DFE8F3",
            "linecolor": "#A2B1C6",
            "ticks": ""
           }
          },
          "title": {
           "x": 0.05
          },
          "xaxis": {
           "automargin": true,
           "gridcolor": "#EBF0F8",
           "linecolor": "#EBF0F8",
           "ticks": "",
           "title": {
            "standoff": 15
           },
           "zerolinecolor": "#EBF0F8",
           "zerolinewidth": 2
          },
          "yaxis": {
           "automargin": true,
           "gridcolor": "#EBF0F8",
           "linecolor": "#EBF0F8",
           "ticks": "",
           "title": {
            "standoff": 15
           },
           "zerolinecolor": "#EBF0F8",
           "zerolinewidth": 2
          }
         }
        },
        "title": {
         "text": "Electricity generation in ON by plant type",
         "x": 0.5,
         "xanchor": "center",
         "y": 0.97,
         "yanchor": "top"
        },
        "width": 1200,
        "xaxis": {
         "anchor": "y",
         "domain": [
          0,
          0.1257142857142857
         ],
         "title": {
          "text": ""
         }
        },
        "xaxis2": {
         "anchor": "y2",
         "domain": [
          0.14571428571428569,
          0.27142857142857135
         ],
         "matches": "x",
         "title": {
          "text": ""
         }
        },
        "xaxis3": {
         "anchor": "y3",
         "domain": [
          0.29142857142857137,
          0.41714285714285704
         ],
         "matches": "x",
         "title": {
          "text": ""
         }
        },
        "xaxis4": {
         "anchor": "y4",
         "domain": [
          0.4371428571428571,
          0.5628571428571428
         ],
         "matches": "x",
         "title": {
          "text": ""
         }
        },
        "xaxis5": {
         "anchor": "y5",
         "domain": [
          0.5828571428571427,
          0.7085714285714284
         ],
         "matches": "x",
         "title": {
          "text": ""
         }
        },
        "xaxis6": {
         "anchor": "y6",
         "domain": [
          0.7285714285714284,
          0.8542857142857141
         ],
         "matches": "x",
         "title": {
          "text": ""
         }
        },
        "xaxis7": {
         "anchor": "y7",
         "domain": [
          0.8742857142857142,
          0.9999999999999999
         ],
         "matches": "x",
         "title": {
          "text": ""
         }
        },
        "yaxis": {
         "anchor": "x",
         "domain": [
          0,
          1
         ],
         "dtick": 200,
         "title": {
          "standoff": 0,
          "text": "Generation (PJ)"
         }
        },
        "yaxis2": {
         "anchor": "x2",
         "domain": [
          0,
          1
         ],
         "matches": "y",
         "showticklabels": false
        },
        "yaxis3": {
         "anchor": "x3",
         "domain": [
          0,
          1
         ],
         "matches": "y",
         "showticklabels": false
        },
        "yaxis4": {
         "anchor": "x4",
         "domain": [
          0,
          1
         ],
         "matches": "y",
         "showticklabels": false
        },
        "yaxis5": {
         "anchor": "x5",
         "domain": [
          0,
          1
         ],
         "matches": "y",
         "showticklabels": false
        },
        "yaxis6": {
         "anchor": "x6",
         "domain": [
          0,
          1
         ],
         "matches": "y",
         "showticklabels": false
        },
        "yaxis7": {
         "anchor": "x7",
         "domain": [
          0,
          1
         ],
         "matches": "y",
         "showticklabels": false
        }
       }
      }
     },
     "metadata": {},
     "output_type": "display_data"
    }
   ],
   "source": [
    "# bau23_gen['Generation (PJ)'] = bau23_gen['Generation (GWh)'] * 0.0036\n",
    "# bau23_fig = bau23_gen[['Period', 'Plant Type', 'Generation (PJ)']].copy()\n",
    "# bau23_fig['Plant Type'] = bau23_fig['Plant Type'].replace({'Hydro / Wave / Tidal': 'Hydro', 'Biomass / Geothermal': 'Biomass', 'Uranium': 'Nuclear'})\n",
    "ref_fig = ref_elcact[ref_elcact['Plant Type'] != 'Other'].groupby(['Period', 'Plant Type'], as_index=False).sum('Generation (PJ)')\n",
    "vanilla_fig = vanilla_elcact[vanilla_elcact['Plant Type'] != 'Other'].groupby(['Period', 'Plant Type'], as_index=False).sum('Generation (PJ)')\n",
    "nhts_fig = nhts_elcact[nhts_elcact['Plant Type'] != 'Other'].groupby(['Period', 'Plant Type'], as_index=False).sum('Generation (PJ)')\n",
    "nhts_fixed_fig = nhts_fixed_elcact[nhts_fixed_elcact['Plant Type'] != 'Other'].groupby(['Period', 'Plant Type'], as_index=False).sum('Generation (PJ)')\n",
    "\n",
    "# gtech23_ref_gen['Generation (PJ)'] = gtech23_ref_gen['Generation (TWh)'] * 3.6\n",
    "# gtech23_fig = gtech23_ref_gen.copy()\n",
    "# gtech23_fig['Period'] = gtech23_fig['Period'].astype(str)\n",
    "\n",
    "# gtech23_fig['Source'] = 'gTech-IESD'\n",
    "# bau23_fig['Source'] = 'CEF2023'\n",
    "ref_fig['Source'] = 'CANOE (ZEV)'\n",
    "vanilla_fig['Source'] = 'CANOE (No EVs)'\n",
    "nhts_fig['Source'] = 'CANOE (ZEV, NHTS)'\n",
    "nhts_fixed_fig['Source'] = 'CANOE (ZEV, NHTS, fixed)'\n",
    "\n",
    "fig_df = pd.concat([vanilla_fig[['Period', 'Plant Type', 'Generation (PJ)', 'Source']], ref_fig[['Period', 'Plant Type', 'Generation (PJ)', 'Source']], nhts_fig[['Period', 'Plant Type', 'Generation (PJ)', 'Source']], nhts_fixed_fig[['Period', 'Plant Type', 'Generation (PJ)', 'Source']]])\n",
    "fig_df_elc = pd.concat([vanilla_fig[['Period', 'Plant Type', 'Generation (PJ)', 'Source']], ref_fig[['Period', 'Plant Type', 'Generation (PJ)', 'Source']], nhts_fig[['Period', 'Plant Type', 'Generation (PJ)', 'Source']], nhts_fixed_fig[['Period', 'Plant Type', 'Generation (PJ)', 'Source']]])\n",
    "\n",
    "fig = px.bar(fig_df, \n",
    "             x='Source', \n",
    "             y='Generation (PJ)', \n",
    "             color='Plant Type', \n",
    "             barmode='stack', \n",
    "             facet_col='Period',\n",
    "             facet_col_spacing=2E-2,\n",
    "             template='plotly_white',\n",
    "             color_discrete_sequence=px.colors.qualitative.G10[:7] + px.colors.qualitative.G10[8:],\n",
    "             text_auto='.1f',\n",
    "             width=1200, height=650,\n",
    "             )\n",
    "\n",
    "fig.update_layout(title=dict(\n",
    "        text='Electricity generation in ON by plant type',\n",
    "        x=0.5, \n",
    "        y=0.97,\n",
    "        xanchor='center',\n",
    "        yanchor='top'\n",
    "    ),\n",
    "    xaxis=dict(title='Period'),\n",
    "    yaxis=dict(title='Generation (PJ)',\n",
    "               dtick=200),\n",
    "    yaxis_title_standoff=0,\n",
    "    legend_title_text='',\n",
    "    bargap=0.1,\n",
    "    legend=dict(\n",
    "        orientation='h',  \n",
    "        yanchor='top',\n",
    "        y=1.04,  \n",
    "        xanchor='center',\n",
    "        x=0.5),\n",
    "    font=dict(\n",
    "        # family=\"Open Sans\",\n",
    "        size=14)\n",
    "    )\n",
    "\n",
    "for annotation in fig.layout.annotations:\n",
    "    annotation.text = annotation.text.split('=')[1]\n",
    "    annotation.y = -0.5  \n",
    "    annotation.yanchor = 'top' \n",
    "\n",
    "for axis in fig.layout:\n",
    "    if axis.startswith('xaxis'):\n",
    "        fig.layout[axis].title.text = ''\n",
    "\n",
    "fig.for_each_trace(lambda trace: trace.update(textfont=dict(size=9)))\n",
    "\n",
    "fig.show()"
   ]
  },
  {
   "cell_type": "markdown",
   "metadata": {},
   "source": [
    "# Added capacity"
   ]
  },
  {
   "cell_type": "code",
   "execution_count": 88,
   "metadata": {},
   "outputs": [],
   "source": [
    "# ref_newcap_elc = ref_newcap[(ref_newcap['Sector'] == 'electricity')].copy()\n",
    "# ref_newcap_elc['Plant Type'] = ref_newcap_elc['Technology'].apply(map_tech_to_plant)"
   ]
  },
  {
   "cell_type": "code",
   "execution_count": 89,
   "metadata": {},
   "outputs": [],
   "source": [
    "ref_elcnewcap.columns = ref_elcnewcap.columns.astype(str)\n",
    "periods = [col for col in ref_elcnewcap.columns if col.isdigit()]\n",
    "params = [col for col in ref_elcnewcap.columns if not col.isdigit()]\n",
    "ref_elcnewcap = pd.melt(ref_elcnewcap, id_vars=params, var_name='Period', value_name='New Capacity', value_vars=periods)\n",
    "\n",
    "ref_elcnewcap['Plant Type'] = ref_elcnewcap['Technology'].apply(map_tech_to_plant)"
   ]
  },
  {
   "cell_type": "code",
   "execution_count": 90,
   "metadata": {},
   "outputs": [
    {
     "data": {
      "application/vnd.plotly.v1+json": {
       "config": {
        "plotlyServerURL": "https://plot.ly"
       },
       "data": [
        {
         "alignmentgroup": "True",
         "hovertemplate": "Plant Type=Biomass<br>Period=%{x}<br>New Capacity=%{y}<extra></extra>",
         "legendgroup": "Biomass",
         "marker": {
          "color": "#3366CC",
          "pattern": {
           "shape": ""
          }
         },
         "name": "Biomass",
         "offsetgroup": "Biomass",
         "orientation": "v",
         "showlegend": true,
         "textfont": {
          "size": 9
         },
         "textposition": "auto",
         "texttemplate": "%{y:.1f}",
         "type": "bar",
         "x": [
          "2021",
          "2025",
          "2030",
          "2035",
          "2040",
          "2045",
          "2050"
         ],
         "xaxis": "x",
         "y": [
          0,
          0,
          0,
          0,
          0,
          0,
          0
         ],
         "yaxis": "y"
        },
        {
         "alignmentgroup": "True",
         "hovertemplate": "Plant Type=Hydro<br>Period=%{x}<br>New Capacity=%{y}<extra></extra>",
         "legendgroup": "Hydro",
         "marker": {
          "color": "#DC3912",
          "pattern": {
           "shape": ""
          }
         },
         "name": "Hydro",
         "offsetgroup": "Hydro",
         "orientation": "v",
         "showlegend": true,
         "textfont": {
          "size": 9
         },
         "textposition": "auto",
         "texttemplate": "%{y:.1f}",
         "type": "bar",
         "x": [
          "2021",
          "2025",
          "2030",
          "2035",
          "2040",
          "2045",
          "2050"
         ],
         "xaxis": "x",
         "y": [
          0,
          0,
          0,
          0,
          0,
          0,
          0
         ],
         "yaxis": "y"
        },
        {
         "alignmentgroup": "True",
         "hovertemplate": "Plant Type=Natural Gas<br>Period=%{x}<br>New Capacity=%{y}<extra></extra>",
         "legendgroup": "Natural Gas",
         "marker": {
          "color": "#FF9900",
          "pattern": {
           "shape": ""
          }
         },
         "name": "Natural Gas",
         "offsetgroup": "Natural Gas",
         "orientation": "v",
         "showlegend": true,
         "textfont": {
          "size": 9
         },
         "textposition": "auto",
         "texttemplate": "%{y:.1f}",
         "type": "bar",
         "x": [
          "2021",
          "2025",
          "2030",
          "2035",
          "2040",
          "2045",
          "2050"
         ],
         "xaxis": "x",
         "y": [
          15.841162106243985,
          6.792934468026466,
          8.09755425653041,
          6.792659327214576,
          6.792313153360898,
          6.7922634170075264,
          6.79247102497623
         ],
         "yaxis": "y"
        },
        {
         "alignmentgroup": "True",
         "hovertemplate": "Plant Type=Nuclear<br>Period=%{x}<br>New Capacity=%{y}<extra></extra>",
         "legendgroup": "Nuclear",
         "marker": {
          "color": "#109618",
          "pattern": {
           "shape": ""
          }
         },
         "name": "Nuclear",
         "offsetgroup": "Nuclear",
         "orientation": "v",
         "showlegend": true,
         "textfont": {
          "size": 9
         },
         "textposition": "auto",
         "texttemplate": "%{y:.1f}",
         "type": "bar",
         "x": [
          "2021",
          "2025",
          "2030",
          "2035",
          "2040",
          "2045",
          "2050"
         ],
         "xaxis": "x",
         "y": [
          0,
          0,
          0,
          0,
          0,
          0,
          0
         ],
         "yaxis": "y"
        },
        {
         "alignmentgroup": "True",
         "hovertemplate": "Plant Type=Solar<br>Period=%{x}<br>New Capacity=%{y}<extra></extra>",
         "legendgroup": "Solar",
         "marker": {
          "color": "#990099",
          "pattern": {
           "shape": ""
          }
         },
         "name": "Solar",
         "offsetgroup": "Solar",
         "orientation": "v",
         "showlegend": true,
         "textfont": {
          "size": 9
         },
         "textposition": "auto",
         "texttemplate": "%{y:.1f}",
         "type": "bar",
         "x": [
          "2021",
          "2025",
          "2030",
          "2035",
          "2040",
          "2045",
          "2050"
         ],
         "xaxis": "x",
         "y": [
          0.00038346292820828047,
          0.0004878592274976207,
          0.0011404762440706596,
          22.24367067483597,
          2.8660250690178617,
          0.0006472620566787775,
          0.00472108519784878
         ],
         "yaxis": "y"
        },
        {
         "alignmentgroup": "True",
         "hovertemplate": "Plant Type=Wind<br>Period=%{x}<br>New Capacity=%{y}<extra></extra>",
         "legendgroup": "Wind",
         "marker": {
          "color": "#0099C6",
          "pattern": {
           "shape": ""
          }
         },
         "name": "Wind",
         "offsetgroup": "Wind",
         "orientation": "v",
         "showlegend": true,
         "textfont": {
          "size": 9
         },
         "textposition": "auto",
         "texttemplate": "%{y:.1f}",
         "type": "bar",
         "x": [
          "2021",
          "2025",
          "2030",
          "2035",
          "2040",
          "2045",
          "2050"
         ],
         "xaxis": "x",
         "y": [
          0.0016215983118943772,
          6.7023312932784105,
          16.65286089335774,
          2.686943970808076,
          6.913774011707851,
          0.0006998737738523443,
          0.0015285369274338938
         ],
         "yaxis": "y"
        }
       ],
       "layout": {
        "bargap": 0.2,
        "barmode": "stack",
        "font": {
         "size": 14
        },
        "height": 650,
        "legend": {
         "orientation": "h",
         "title": {
          "text": ""
         },
         "tracegroupgap": 0,
         "x": 0.5,
         "xanchor": "center",
         "y": 1.04,
         "yanchor": "top"
        },
        "margin": {
         "t": 60
        },
        "template": {
         "data": {
          "bar": [
           {
            "error_x": {
             "color": "#2a3f5f"
            },
            "error_y": {
             "color": "#2a3f5f"
            },
            "marker": {
             "line": {
              "color": "white",
              "width": 0.5
             },
             "pattern": {
              "fillmode": "overlay",
              "size": 10,
              "solidity": 0.2
             }
            },
            "type": "bar"
           }
          ],
          "barpolar": [
           {
            "marker": {
             "line": {
              "color": "white",
              "width": 0.5
             },
             "pattern": {
              "fillmode": "overlay",
              "size": 10,
              "solidity": 0.2
             }
            },
            "type": "barpolar"
           }
          ],
          "carpet": [
           {
            "aaxis": {
             "endlinecolor": "#2a3f5f",
             "gridcolor": "#C8D4E3",
             "linecolor": "#C8D4E3",
             "minorgridcolor": "#C8D4E3",
             "startlinecolor": "#2a3f5f"
            },
            "baxis": {
             "endlinecolor": "#2a3f5f",
             "gridcolor": "#C8D4E3",
             "linecolor": "#C8D4E3",
             "minorgridcolor": "#C8D4E3",
             "startlinecolor": "#2a3f5f"
            },
            "type": "carpet"
           }
          ],
          "choropleth": [
           {
            "colorbar": {
             "outlinewidth": 0,
             "ticks": ""
            },
            "type": "choropleth"
           }
          ],
          "contour": [
           {
            "colorbar": {
             "outlinewidth": 0,
             "ticks": ""
            },
            "colorscale": [
             [
              0,
              "#0d0887"
             ],
             [
              0.1111111111111111,
              "#46039f"
             ],
             [
              0.2222222222222222,
              "#7201a8"
             ],
             [
              0.3333333333333333,
              "#9c179e"
             ],
             [
              0.4444444444444444,
              "#bd3786"
             ],
             [
              0.5555555555555556,
              "#d8576b"
             ],
             [
              0.6666666666666666,
              "#ed7953"
             ],
             [
              0.7777777777777778,
              "#fb9f3a"
             ],
             [
              0.8888888888888888,
              "#fdca26"
             ],
             [
              1,
              "#f0f921"
             ]
            ],
            "type": "contour"
           }
          ],
          "contourcarpet": [
           {
            "colorbar": {
             "outlinewidth": 0,
             "ticks": ""
            },
            "type": "contourcarpet"
           }
          ],
          "heatmap": [
           {
            "colorbar": {
             "outlinewidth": 0,
             "ticks": ""
            },
            "colorscale": [
             [
              0,
              "#0d0887"
             ],
             [
              0.1111111111111111,
              "#46039f"
             ],
             [
              0.2222222222222222,
              "#7201a8"
             ],
             [
              0.3333333333333333,
              "#9c179e"
             ],
             [
              0.4444444444444444,
              "#bd3786"
             ],
             [
              0.5555555555555556,
              "#d8576b"
             ],
             [
              0.6666666666666666,
              "#ed7953"
             ],
             [
              0.7777777777777778,
              "#fb9f3a"
             ],
             [
              0.8888888888888888,
              "#fdca26"
             ],
             [
              1,
              "#f0f921"
             ]
            ],
            "type": "heatmap"
           }
          ],
          "heatmapgl": [
           {
            "colorbar": {
             "outlinewidth": 0,
             "ticks": ""
            },
            "colorscale": [
             [
              0,
              "#0d0887"
             ],
             [
              0.1111111111111111,
              "#46039f"
             ],
             [
              0.2222222222222222,
              "#7201a8"
             ],
             [
              0.3333333333333333,
              "#9c179e"
             ],
             [
              0.4444444444444444,
              "#bd3786"
             ],
             [
              0.5555555555555556,
              "#d8576b"
             ],
             [
              0.6666666666666666,
              "#ed7953"
             ],
             [
              0.7777777777777778,
              "#fb9f3a"
             ],
             [
              0.8888888888888888,
              "#fdca26"
             ],
             [
              1,
              "#f0f921"
             ]
            ],
            "type": "heatmapgl"
           }
          ],
          "histogram": [
           {
            "marker": {
             "pattern": {
              "fillmode": "overlay",
              "size": 10,
              "solidity": 0.2
             }
            },
            "type": "histogram"
           }
          ],
          "histogram2d": [
           {
            "colorbar": {
             "outlinewidth": 0,
             "ticks": ""
            },
            "colorscale": [
             [
              0,
              "#0d0887"
             ],
             [
              0.1111111111111111,
              "#46039f"
             ],
             [
              0.2222222222222222,
              "#7201a8"
             ],
             [
              0.3333333333333333,
              "#9c179e"
             ],
             [
              0.4444444444444444,
              "#bd3786"
             ],
             [
              0.5555555555555556,
              "#d8576b"
             ],
             [
              0.6666666666666666,
              "#ed7953"
             ],
             [
              0.7777777777777778,
              "#fb9f3a"
             ],
             [
              0.8888888888888888,
              "#fdca26"
             ],
             [
              1,
              "#f0f921"
             ]
            ],
            "type": "histogram2d"
           }
          ],
          "histogram2dcontour": [
           {
            "colorbar": {
             "outlinewidth": 0,
             "ticks": ""
            },
            "colorscale": [
             [
              0,
              "#0d0887"
             ],
             [
              0.1111111111111111,
              "#46039f"
             ],
             [
              0.2222222222222222,
              "#7201a8"
             ],
             [
              0.3333333333333333,
              "#9c179e"
             ],
             [
              0.4444444444444444,
              "#bd3786"
             ],
             [
              0.5555555555555556,
              "#d8576b"
             ],
             [
              0.6666666666666666,
              "#ed7953"
             ],
             [
              0.7777777777777778,
              "#fb9f3a"
             ],
             [
              0.8888888888888888,
              "#fdca26"
             ],
             [
              1,
              "#f0f921"
             ]
            ],
            "type": "histogram2dcontour"
           }
          ],
          "mesh3d": [
           {
            "colorbar": {
             "outlinewidth": 0,
             "ticks": ""
            },
            "type": "mesh3d"
           }
          ],
          "parcoords": [
           {
            "line": {
             "colorbar": {
              "outlinewidth": 0,
              "ticks": ""
             }
            },
            "type": "parcoords"
           }
          ],
          "pie": [
           {
            "automargin": true,
            "type": "pie"
           }
          ],
          "scatter": [
           {
            "fillpattern": {
             "fillmode": "overlay",
             "size": 10,
             "solidity": 0.2
            },
            "type": "scatter"
           }
          ],
          "scatter3d": [
           {
            "line": {
             "colorbar": {
              "outlinewidth": 0,
              "ticks": ""
             }
            },
            "marker": {
             "colorbar": {
              "outlinewidth": 0,
              "ticks": ""
             }
            },
            "type": "scatter3d"
           }
          ],
          "scattercarpet": [
           {
            "marker": {
             "colorbar": {
              "outlinewidth": 0,
              "ticks": ""
             }
            },
            "type": "scattercarpet"
           }
          ],
          "scattergeo": [
           {
            "marker": {
             "colorbar": {
              "outlinewidth": 0,
              "ticks": ""
             }
            },
            "type": "scattergeo"
           }
          ],
          "scattergl": [
           {
            "marker": {
             "colorbar": {
              "outlinewidth": 0,
              "ticks": ""
             }
            },
            "type": "scattergl"
           }
          ],
          "scattermapbox": [
           {
            "marker": {
             "colorbar": {
              "outlinewidth": 0,
              "ticks": ""
             }
            },
            "type": "scattermapbox"
           }
          ],
          "scatterpolar": [
           {
            "marker": {
             "colorbar": {
              "outlinewidth": 0,
              "ticks": ""
             }
            },
            "type": "scatterpolar"
           }
          ],
          "scatterpolargl": [
           {
            "marker": {
             "colorbar": {
              "outlinewidth": 0,
              "ticks": ""
             }
            },
            "type": "scatterpolargl"
           }
          ],
          "scatterternary": [
           {
            "marker": {
             "colorbar": {
              "outlinewidth": 0,
              "ticks": ""
             }
            },
            "type": "scatterternary"
           }
          ],
          "surface": [
           {
            "colorbar": {
             "outlinewidth": 0,
             "ticks": ""
            },
            "colorscale": [
             [
              0,
              "#0d0887"
             ],
             [
              0.1111111111111111,
              "#46039f"
             ],
             [
              0.2222222222222222,
              "#7201a8"
             ],
             [
              0.3333333333333333,
              "#9c179e"
             ],
             [
              0.4444444444444444,
              "#bd3786"
             ],
             [
              0.5555555555555556,
              "#d8576b"
             ],
             [
              0.6666666666666666,
              "#ed7953"
             ],
             [
              0.7777777777777778,
              "#fb9f3a"
             ],
             [
              0.8888888888888888,
              "#fdca26"
             ],
             [
              1,
              "#f0f921"
             ]
            ],
            "type": "surface"
           }
          ],
          "table": [
           {
            "cells": {
             "fill": {
              "color": "#EBF0F8"
             },
             "line": {
              "color": "white"
             }
            },
            "header": {
             "fill": {
              "color": "#C8D4E3"
             },
             "line": {
              "color": "white"
             }
            },
            "type": "table"
           }
          ]
         },
         "layout": {
          "annotationdefaults": {
           "arrowcolor": "#2a3f5f",
           "arrowhead": 0,
           "arrowwidth": 1
          },
          "autotypenumbers": "strict",
          "coloraxis": {
           "colorbar": {
            "outlinewidth": 0,
            "ticks": ""
           }
          },
          "colorscale": {
           "diverging": [
            [
             0,
             "#8e0152"
            ],
            [
             0.1,
             "#c51b7d"
            ],
            [
             0.2,
             "#de77ae"
            ],
            [
             0.3,
             "#f1b6da"
            ],
            [
             0.4,
             "#fde0ef"
            ],
            [
             0.5,
             "#f7f7f7"
            ],
            [
             0.6,
             "#e6f5d0"
            ],
            [
             0.7,
             "#b8e186"
            ],
            [
             0.8,
             "#7fbc41"
            ],
            [
             0.9,
             "#4d9221"
            ],
            [
             1,
             "#276419"
            ]
           ],
           "sequential": [
            [
             0,
             "#0d0887"
            ],
            [
             0.1111111111111111,
             "#46039f"
            ],
            [
             0.2222222222222222,
             "#7201a8"
            ],
            [
             0.3333333333333333,
             "#9c179e"
            ],
            [
             0.4444444444444444,
             "#bd3786"
            ],
            [
             0.5555555555555556,
             "#d8576b"
            ],
            [
             0.6666666666666666,
             "#ed7953"
            ],
            [
             0.7777777777777778,
             "#fb9f3a"
            ],
            [
             0.8888888888888888,
             "#fdca26"
            ],
            [
             1,
             "#f0f921"
            ]
           ],
           "sequentialminus": [
            [
             0,
             "#0d0887"
            ],
            [
             0.1111111111111111,
             "#46039f"
            ],
            [
             0.2222222222222222,
             "#7201a8"
            ],
            [
             0.3333333333333333,
             "#9c179e"
            ],
            [
             0.4444444444444444,
             "#bd3786"
            ],
            [
             0.5555555555555556,
             "#d8576b"
            ],
            [
             0.6666666666666666,
             "#ed7953"
            ],
            [
             0.7777777777777778,
             "#fb9f3a"
            ],
            [
             0.8888888888888888,
             "#fdca26"
            ],
            [
             1,
             "#f0f921"
            ]
           ]
          },
          "colorway": [
           "#636efa",
           "#EF553B",
           "#00cc96",
           "#ab63fa",
           "#FFA15A",
           "#19d3f3",
           "#FF6692",
           "#B6E880",
           "#FF97FF",
           "#FECB52"
          ],
          "font": {
           "color": "#2a3f5f"
          },
          "geo": {
           "bgcolor": "white",
           "lakecolor": "white",
           "landcolor": "white",
           "showlakes": true,
           "showland": true,
           "subunitcolor": "#C8D4E3"
          },
          "hoverlabel": {
           "align": "left"
          },
          "hovermode": "closest",
          "mapbox": {
           "style": "light"
          },
          "paper_bgcolor": "white",
          "plot_bgcolor": "white",
          "polar": {
           "angularaxis": {
            "gridcolor": "#EBF0F8",
            "linecolor": "#EBF0F8",
            "ticks": ""
           },
           "bgcolor": "white",
           "radialaxis": {
            "gridcolor": "#EBF0F8",
            "linecolor": "#EBF0F8",
            "ticks": ""
           }
          },
          "scene": {
           "xaxis": {
            "backgroundcolor": "white",
            "gridcolor": "#DFE8F3",
            "gridwidth": 2,
            "linecolor": "#EBF0F8",
            "showbackground": true,
            "ticks": "",
            "zerolinecolor": "#EBF0F8"
           },
           "yaxis": {
            "backgroundcolor": "white",
            "gridcolor": "#DFE8F3",
            "gridwidth": 2,
            "linecolor": "#EBF0F8",
            "showbackground": true,
            "ticks": "",
            "zerolinecolor": "#EBF0F8"
           },
           "zaxis": {
            "backgroundcolor": "white",
            "gridcolor": "#DFE8F3",
            "gridwidth": 2,
            "linecolor": "#EBF0F8",
            "showbackground": true,
            "ticks": "",
            "zerolinecolor": "#EBF0F8"
           }
          },
          "shapedefaults": {
           "line": {
            "color": "#2a3f5f"
           }
          },
          "ternary": {
           "aaxis": {
            "gridcolor": "#DFE8F3",
            "linecolor": "#A2B1C6",
            "ticks": ""
           },
           "baxis": {
            "gridcolor": "#DFE8F3",
            "linecolor": "#A2B1C6",
            "ticks": ""
           },
           "bgcolor": "white",
           "caxis": {
            "gridcolor": "#DFE8F3",
            "linecolor": "#A2B1C6",
            "ticks": ""
           }
          },
          "title": {
           "x": 0.05
          },
          "xaxis": {
           "automargin": true,
           "gridcolor": "#EBF0F8",
           "linecolor": "#EBF0F8",
           "ticks": "",
           "title": {
            "standoff": 15
           },
           "zerolinecolor": "#EBF0F8",
           "zerolinewidth": 2
          },
          "yaxis": {
           "automargin": true,
           "gridcolor": "#EBF0F8",
           "linecolor": "#EBF0F8",
           "ticks": "",
           "title": {
            "standoff": 15
           },
           "zerolinecolor": "#EBF0F8",
           "zerolinewidth": 2
          }
         }
        },
        "title": {
         "text": "Electricity capacity expansion in ON by plant type",
         "x": 0.5,
         "xanchor": "center",
         "y": 0.97,
         "yanchor": "top"
        },
        "width": 1200,
        "xaxis": {
         "anchor": "y",
         "domain": [
          0,
          1
         ],
         "title": {
          "text": ""
         }
        },
        "yaxis": {
         "anchor": "x",
         "domain": [
          0,
          1
         ],
         "dtick": 5,
         "title": {
          "standoff": 0,
          "text": "New Capacity (GW)"
         }
        }
       }
      }
     },
     "metadata": {},
     "output_type": "display_data"
    }
   ],
   "source": [
    "ref_fig = ref_elcnewcap[ref_elcnewcap['Plant Type'] != 'Other'].groupby(['Period', 'Plant Type'], as_index=False).sum('New Capacity')\n",
    "ref_fig['Period'] = ref_fig['Period'].astype(str)\n",
    "\n",
    "fig = px.bar(ref_fig, \n",
    "             x='Period', \n",
    "             y='New Capacity', \n",
    "             color='Plant Type', \n",
    "             barmode='stack', \n",
    "             template='plotly_white',\n",
    "             color_discrete_sequence=px.colors.qualitative.G10[:7] + px.colors.qualitative.G10[8:],\n",
    "             text_auto='.1f',\n",
    "             width=1200, height=650,\n",
    "             )\n",
    "\n",
    "fig.update_layout(title=dict(\n",
    "        text='Electricity capacity expansion in ON by plant type',\n",
    "        x=0.5, \n",
    "        y=0.97,\n",
    "        xanchor='center',\n",
    "        yanchor='top'\n",
    "    ),\n",
    "    xaxis=dict(title='Period'),\n",
    "    yaxis=dict(title='New Capacity (GW)',\n",
    "               dtick=5),\n",
    "    yaxis_title_standoff=0,\n",
    "    legend_title_text='',\n",
    "    bargap=0.2,\n",
    "    legend=dict(\n",
    "        orientation='h',  \n",
    "        yanchor='top',\n",
    "        y=1.04,  \n",
    "        xanchor='center',\n",
    "        x=0.5),\n",
    "    font=dict(\n",
    "        # family=\"Open Sans\",\n",
    "        size=14)\n",
    "    )\n",
    "\n",
    "for annotation in fig.layout.annotations:\n",
    "    annotation.text = annotation.text.split('=')[1]\n",
    "    annotation.y = -0.1  \n",
    "    annotation.yanchor = 'top' \n",
    "\n",
    "for axis in fig.layout:\n",
    "    if axis.startswith('xaxis'):\n",
    "        fig.layout[axis].title.text = ''\n",
    "\n",
    "fig.for_each_trace(lambda trace: trace.update(textfont=dict(size=9)))\n",
    "\n",
    "fig.show()"
   ]
  },
  {
   "cell_type": "markdown",
   "metadata": {},
   "source": [
    "# CANOE vs gTech-IESD - GHG emissions"
   ]
  },
  {
   "cell_type": "code",
   "execution_count": 91,
   "metadata": {},
   "outputs": [],
   "source": [
    "ref_ghg.columns = ref_ghg.columns.astype(str)\n",
    "vanilla_ghg.columns = vanilla_ghg.columns.astype(str)\n",
    "nhts_ghg.columns = nhts_ghg.columns.astype(str)\n",
    "nhts_fixed_ghg.columns = nhts_fixed_ghg.columns.astype(str)\n",
    "\n",
    "periods = [col for col in ref_ghg.columns if col.isdigit()]\n",
    "params = [col for col in ref_ghg.columns if not col.isdigit()]\n",
    "\n",
    "ref_ghg = pd.melt(ref_ghg, id_vars=params, var_name='Period', value_name='Total GHG Emissions', value_vars=periods)\n",
    "vanilla_ghg = pd.melt(vanilla_ghg, id_vars=params, var_name='Period', value_name='Total GHG Emissions', value_vars=periods)\n",
    "nhts_ghg = pd.melt(nhts_ghg, id_vars=params, var_name='Period', value_name='Total GHG Emissions', value_vars=periods)\n",
    "nhts_fixed_ghg = pd.melt(nhts_fixed_ghg, id_vars=params, var_name='Period', value_name='Total GHG Emissions', value_vars=periods)"
   ]
  },
  {
   "cell_type": "code",
   "execution_count": 92,
   "metadata": {},
   "outputs": [],
   "source": [
    "gtech23_ref_ghg['Sector'].replace({'agriculture & waste': 'AFOLU', 'commercial buildings': 'Commercial', 'residential buildings': 'Residential', 'land use & forestry': 'AFOLU',\n",
    "                                      'industry': 'Industrial', 'oil and gas': 'Oil & Gas', 'direct air capture': 'Industrial', 'utilities': 'Utilities',\n",
    "                                      'light-duty transport': 'Transportation', 'medium & heavy-duty transport': 'Transportation', 'other transport': 'Transportation'}, inplace=True)\n",
    "gtech23_ref_ghg = gtech23_ref_ghg.groupby(['Period', 'Sector'], as_index=False).sum()"
   ]
  },
  {
   "cell_type": "code",
   "execution_count": 93,
   "metadata": {},
   "outputs": [
    {
     "data": {
      "application/vnd.plotly.v1+json": {
       "config": {
        "plotlyServerURL": "https://plot.ly"
       },
       "data": [
        {
         "fillpattern": {
          "shape": ""
         },
         "hovertemplate": "Sector=Transportation<br>Source=CANOE (ZEV)<br>Period=%{x}<br>Total GHG Emissions (Mt CO2e)=%{y}<extra></extra>",
         "legendgroup": "Transportation",
         "line": {
          "color": "#636efa"
         },
         "marker": {
          "symbol": "circle"
         },
         "mode": "lines",
         "name": "Transportation",
         "orientation": "v",
         "showlegend": true,
         "stackgroup": "1",
         "type": "scatter",
         "x": [
          "2021",
          "2025",
          "2030",
          "2035",
          "2040",
          "2045",
          "2050"
         ],
         "xaxis": "x",
         "y": [
          80.94273605839543,
          87.46557895518998,
          68.1103687704248,
          41.28159175847977,
          33.33291371329316,
          31.950494765532962,
          29.7181280143057
         ],
         "yaxis": "y"
        },
        {
         "fillpattern": {
          "shape": ""
         },
         "hovertemplate": "Sector=Transportation<br>Source=CANOE (No EVs)<br>Period=%{x}<br>Total GHG Emissions (Mt CO2e)=%{y}<extra></extra>",
         "legendgroup": "Transportation",
         "line": {
          "color": "#636efa"
         },
         "marker": {
          "symbol": "circle"
         },
         "mode": "lines",
         "name": "Transportation",
         "orientation": "v",
         "showlegend": false,
         "stackgroup": "1",
         "type": "scatter",
         "x": [
          "2021",
          "2025",
          "2030",
          "2035",
          "2040",
          "2045",
          "2050"
         ],
         "xaxis": "x2",
         "y": [
          81.2968872926868,
          93.03489138525488,
          84.39033894105695,
          74.58978940517022,
          79.7209252214486,
          80.88274744674588,
          81.8340043833409
         ],
         "yaxis": "y2"
        },
        {
         "fillpattern": {
          "shape": ""
         },
         "hovertemplate": "Sector=Transportation<br>Source=CANOE (ZEV, NHTS)<br>Period=%{x}<br>Total GHG Emissions (Mt CO2e)=%{y}<extra></extra>",
         "legendgroup": "Transportation",
         "line": {
          "color": "#636efa"
         },
         "marker": {
          "symbol": "circle"
         },
         "mode": "lines",
         "name": "Transportation",
         "orientation": "v",
         "showlegend": false,
         "stackgroup": "1",
         "type": "scatter",
         "x": [
          "2021",
          "2025",
          "2030",
          "2035",
          "2040",
          "2045",
          "2050"
         ],
         "xaxis": "x3",
         "y": [
          80.94274408274921,
          87.43935939160791,
          68.11895265669153,
          41.13224249235629,
          33.21488690006717,
          31.927095487277025,
          29.717030854780152
         ],
         "yaxis": "y3"
        },
        {
         "fillpattern": {
          "shape": ""
         },
         "hovertemplate": "Sector=Transportation<br>Source=CANOE (ZEV, NHTS, fixed)<br>Period=%{x}<br>Total GHG Emissions (Mt CO2e)=%{y}<extra></extra>",
         "legendgroup": "Transportation",
         "line": {
          "color": "#636efa"
         },
         "marker": {
          "symbol": "circle"
         },
         "mode": "lines",
         "name": "Transportation",
         "orientation": "v",
         "showlegend": false,
         "stackgroup": "1",
         "type": "scatter",
         "x": [
          "2021",
          "2025",
          "2030",
          "2035",
          "2040",
          "2045",
          "2050"
         ],
         "xaxis": "x4",
         "y": [
          81.3565727911974,
          86.61056464837893,
          74.47949420884773,
          53.530745657551634,
          39.604522123779205,
          36.45513106078846,
          36.89331289704624
         ],
         "yaxis": "y4"
        },
        {
         "fillpattern": {
          "shape": ""
         },
         "hovertemplate": "Sector=Commercial<br>Source=CANOE (ZEV)<br>Period=%{x}<br>Total GHG Emissions (Mt CO2e)=%{y}<extra></extra>",
         "legendgroup": "Commercial",
         "line": {
          "color": "#EF553B"
         },
         "marker": {
          "symbol": "circle"
         },
         "mode": "lines",
         "name": "Commercial",
         "orientation": "v",
         "showlegend": true,
         "stackgroup": "1",
         "type": "scatter",
         "x": [
          "2021",
          "2025",
          "2030",
          "2035",
          "2040",
          "2045",
          "2050"
         ],
         "xaxis": "x",
         "y": [
          18.443034704488404,
          18.52997588004205,
          18.55925947906166,
          18.25104950358711,
          18.22507498324221,
          19.332916205548024,
          20.326787726621493
         ],
         "yaxis": "y"
        },
        {
         "fillpattern": {
          "shape": ""
         },
         "hovertemplate": "Sector=Commercial<br>Source=CANOE (No EVs)<br>Period=%{x}<br>Total GHG Emissions (Mt CO2e)=%{y}<extra></extra>",
         "legendgroup": "Commercial",
         "line": {
          "color": "#EF553B"
         },
         "marker": {
          "symbol": "circle"
         },
         "mode": "lines",
         "name": "Commercial",
         "orientation": "v",
         "showlegend": false,
         "stackgroup": "1",
         "type": "scatter",
         "x": [
          "2021",
          "2025",
          "2030",
          "2035",
          "2040",
          "2045",
          "2050"
         ],
         "xaxis": "x2",
         "y": [
          18.44303290631316,
          18.52996631908358,
          18.55921951969346,
          18.250998770118972,
          18.22502896376407,
          19.33285833143455,
          20.32671145649187
         ],
         "yaxis": "y2"
        },
        {
         "fillpattern": {
          "shape": ""
         },
         "hovertemplate": "Sector=Commercial<br>Source=CANOE (ZEV, NHTS)<br>Period=%{x}<br>Total GHG Emissions (Mt CO2e)=%{y}<extra></extra>",
         "legendgroup": "Commercial",
         "line": {
          "color": "#EF553B"
         },
         "marker": {
          "symbol": "circle"
         },
         "mode": "lines",
         "name": "Commercial",
         "orientation": "v",
         "showlegend": false,
         "stackgroup": "1",
         "type": "scatter",
         "x": [
          "2021",
          "2025",
          "2030",
          "2035",
          "2040",
          "2045",
          "2050"
         ],
         "xaxis": "x3",
         "y": [
          18.459873145693393,
          18.54410130704693,
          18.56997597149936,
          18.258349425924703,
          18.228959787279287,
          19.333392657299694,
          20.32658588243505
         ],
         "yaxis": "y3"
        },
        {
         "fillpattern": {
          "shape": ""
         },
         "hovertemplate": "Sector=Commercial<br>Source=CANOE (ZEV, NHTS, fixed)<br>Period=%{x}<br>Total GHG Emissions (Mt CO2e)=%{y}<extra></extra>",
         "legendgroup": "Commercial",
         "line": {
          "color": "#EF553B"
         },
         "marker": {
          "symbol": "circle"
         },
         "mode": "lines",
         "name": "Commercial",
         "orientation": "v",
         "showlegend": false,
         "stackgroup": "1",
         "type": "scatter",
         "x": [
          "2021",
          "2025",
          "2030",
          "2035",
          "2040",
          "2045",
          "2050"
         ],
         "xaxis": "x4",
         "y": [
          18.443029964667083,
          18.52995010274294,
          17.803176597245397,
          14.802029457233727,
          16.43031288222645,
          19.332694821822436,
          20.326573830475294
         ],
         "yaxis": "y4"
        },
        {
         "fillpattern": {
          "shape": ""
         },
         "hovertemplate": "Sector=Electricity<br>Source=CANOE (ZEV)<br>Period=%{x}<br>Total GHG Emissions (Mt CO2e)=%{y}<extra></extra>",
         "legendgroup": "Electricity",
         "line": {
          "color": "#00cc96"
         },
         "marker": {
          "symbol": "circle"
         },
         "mode": "lines",
         "name": "Electricity",
         "orientation": "v",
         "showlegend": true,
         "stackgroup": "1",
         "type": "scatter",
         "x": [
          "2021",
          "2025",
          "2030",
          "2035",
          "2040",
          "2045",
          "2050"
         ],
         "xaxis": "x",
         "y": [
          5.612914826623949,
          3.8091831385186676,
          4.061726754412058,
          2.5312512040068866,
          4.391198372518797,
          11.717885148050806,
          14.21475829913855
         ],
         "yaxis": "y"
        },
        {
         "fillpattern": {
          "shape": ""
         },
         "hovertemplate": "Sector=Electricity<br>Source=CANOE (No EVs)<br>Period=%{x}<br>Total GHG Emissions (Mt CO2e)=%{y}<extra></extra>",
         "legendgroup": "Electricity",
         "line": {
          "color": "#00cc96"
         },
         "marker": {
          "symbol": "circle"
         },
         "mode": "lines",
         "name": "Electricity",
         "orientation": "v",
         "showlegend": false,
         "stackgroup": "1",
         "type": "scatter",
         "x": [
          "2021",
          "2025",
          "2030",
          "2035",
          "2040",
          "2045",
          "2050"
         ],
         "xaxis": "x2",
         "y": [
          5.59599257634646,
          3.501632528635866,
          4.227346023118607,
          2.0606144272529296,
          3.609113076960964,
          9.822584471614617,
          11.005059514703943
         ],
         "yaxis": "y2"
        },
        {
         "fillpattern": {
          "shape": ""
         },
         "hovertemplate": "Sector=Electricity<br>Source=CANOE (ZEV, NHTS)<br>Period=%{x}<br>Total GHG Emissions (Mt CO2e)=%{y}<extra></extra>",
         "legendgroup": "Electricity",
         "line": {
          "color": "#00cc96"
         },
         "marker": {
          "symbol": "circle"
         },
         "mode": "lines",
         "name": "Electricity",
         "orientation": "v",
         "showlegend": false,
         "stackgroup": "1",
         "type": "scatter",
         "x": [
          "2021",
          "2025",
          "2030",
          "2035",
          "2040",
          "2045",
          "2050"
         ],
         "xaxis": "x3",
         "y": [
          5.981910460416457,
          4.7855230755699285,
          4.094699518526087,
          3.318423462095557,
          4.778632939644828,
          10.721009027890323,
          10.604163747426416
         ],
         "yaxis": "y3"
        },
        {
         "fillpattern": {
          "shape": ""
         },
         "hovertemplate": "Sector=Electricity<br>Source=CANOE (ZEV, NHTS, fixed)<br>Period=%{x}<br>Total GHG Emissions (Mt CO2e)=%{y}<extra></extra>",
         "legendgroup": "Electricity",
         "line": {
          "color": "#00cc96"
         },
         "marker": {
          "symbol": "circle"
         },
         "mode": "lines",
         "name": "Electricity",
         "orientation": "v",
         "showlegend": false,
         "stackgroup": "1",
         "type": "scatter",
         "x": [
          "2021",
          "2025",
          "2030",
          "2035",
          "2040",
          "2045",
          "2050"
         ],
         "xaxis": "x4",
         "y": [
          5.595787340596275,
          4.0753525775742645,
          5.164463993485283,
          2.755483495533327,
          3.645815606997761,
          11.631208039559594,
          13.658317482906188
         ],
         "yaxis": "y4"
        },
        {
         "fillpattern": {
          "shape": ""
         },
         "hovertemplate": "Sector=Industrial<br>Source=CANOE (ZEV)<br>Period=%{x}<br>Total GHG Emissions (Mt CO2e)=%{y}<extra></extra>",
         "legendgroup": "Industrial",
         "line": {
          "color": "#ab63fa"
         },
         "marker": {
          "symbol": "circle"
         },
         "mode": "lines",
         "name": "Industrial",
         "orientation": "v",
         "showlegend": true,
         "stackgroup": "1",
         "type": "scatter",
         "x": [
          "2021",
          "2025",
          "2030",
          "2035",
          "2040",
          "2045",
          "2050"
         ],
         "xaxis": "x",
         "y": [
          24.0010644315856,
          25.20469753247178,
          26.54987637321146,
          27.635777420386454,
          28.604756295761305,
          29.478246533118618,
          30.26138221336346
         ],
         "yaxis": "y"
        },
        {
         "fillpattern": {
          "shape": ""
         },
         "hovertemplate": "Sector=Industrial<br>Source=CANOE (No EVs)<br>Period=%{x}<br>Total GHG Emissions (Mt CO2e)=%{y}<extra></extra>",
         "legendgroup": "Industrial",
         "line": {
          "color": "#ab63fa"
         },
         "marker": {
          "symbol": "circle"
         },
         "mode": "lines",
         "name": "Industrial",
         "orientation": "v",
         "showlegend": false,
         "stackgroup": "1",
         "type": "scatter",
         "x": [
          "2021",
          "2025",
          "2030",
          "2035",
          "2040",
          "2045",
          "2050"
         ],
         "xaxis": "x2",
         "y": [
          24.001063251998396,
          25.204696127577204,
          26.549874811268115,
          27.635775445393417,
          28.60475372931482,
          29.478243725956958,
          30.26138054274667
         ],
         "yaxis": "y2"
        },
        {
         "fillpattern": {
          "shape": ""
         },
         "hovertemplate": "Sector=Industrial<br>Source=CANOE (ZEV, NHTS)<br>Period=%{x}<br>Total GHG Emissions (Mt CO2e)=%{y}<extra></extra>",
         "legendgroup": "Industrial",
         "line": {
          "color": "#ab63fa"
         },
         "marker": {
          "symbol": "circle"
         },
         "mode": "lines",
         "name": "Industrial",
         "orientation": "v",
         "showlegend": false,
         "stackgroup": "1",
         "type": "scatter",
         "x": [
          "2021",
          "2025",
          "2030",
          "2035",
          "2040",
          "2045",
          "2050"
         ],
         "xaxis": "x3",
         "y": [
          24.00105702860169,
          25.20468827858818,
          26.549865085789996,
          27.635762308761937,
          28.604739171327104,
          29.478231192816637,
          30.261373597251175
         ],
         "yaxis": "y3"
        },
        {
         "fillpattern": {
          "shape": ""
         },
         "hovertemplate": "Sector=Industrial<br>Source=CANOE (ZEV, NHTS, fixed)<br>Period=%{x}<br>Total GHG Emissions (Mt CO2e)=%{y}<extra></extra>",
         "legendgroup": "Industrial",
         "line": {
          "color": "#ab63fa"
         },
         "marker": {
          "symbol": "circle"
         },
         "mode": "lines",
         "name": "Industrial",
         "orientation": "v",
         "showlegend": false,
         "stackgroup": "1",
         "type": "scatter",
         "x": [
          "2021",
          "2025",
          "2030",
          "2035",
          "2040",
          "2045",
          "2050"
         ],
         "xaxis": "x4",
         "y": [
          24.00106209864682,
          25.204695170939456,
          26.549874170261415,
          27.635775717616735,
          28.604756736566074,
          29.478253207591756,
          30.261405427706674
         ],
         "yaxis": "y4"
        },
        {
         "fillpattern": {
          "shape": ""
         },
         "hovertemplate": "Sector=Residential<br>Source=CANOE (ZEV)<br>Period=%{x}<br>Total GHG Emissions (Mt CO2e)=%{y}<extra></extra>",
         "legendgroup": "Residential",
         "line": {
          "color": "#FFA15A"
         },
         "marker": {
          "symbol": "circle"
         },
         "mode": "lines",
         "name": "Residential",
         "orientation": "v",
         "showlegend": true,
         "stackgroup": "1",
         "type": "scatter",
         "x": [
          "2021",
          "2025",
          "2030",
          "2035",
          "2040",
          "2045",
          "2050"
         ],
         "xaxis": "x",
         "y": [
          16.553221549315026,
          16.09017602928168,
          13.356861627748229,
          10.001106662588567,
          9.967483598565494,
          16.838458589135733,
          21.02541146188058
         ],
         "yaxis": "y"
        },
        {
         "fillpattern": {
          "shape": ""
         },
         "hovertemplate": "Sector=Residential<br>Source=CANOE (No EVs)<br>Period=%{x}<br>Total GHG Emissions (Mt CO2e)=%{y}<extra></extra>",
         "legendgroup": "Residential",
         "line": {
          "color": "#FFA15A"
         },
         "marker": {
          "symbol": "circle"
         },
         "mode": "lines",
         "name": "Residential",
         "orientation": "v",
         "showlegend": false,
         "stackgroup": "1",
         "type": "scatter",
         "x": [
          "2021",
          "2025",
          "2030",
          "2035",
          "2040",
          "2045",
          "2050"
         ],
         "xaxis": "x2",
         "y": [
          16.55320499184886,
          16.090198629885215,
          13.355707622600384,
          9.997907756013747,
          9.964806910637527,
          16.83677881100464,
          21.00721855424749
         ],
         "yaxis": "y2"
        },
        {
         "fillpattern": {
          "shape": ""
         },
         "hovertemplate": "Sector=Residential<br>Source=CANOE (ZEV, NHTS)<br>Period=%{x}<br>Total GHG Emissions (Mt CO2e)=%{y}<extra></extra>",
         "legendgroup": "Residential",
         "line": {
          "color": "#FFA15A"
         },
         "marker": {
          "symbol": "circle"
         },
         "mode": "lines",
         "name": "Residential",
         "orientation": "v",
         "showlegend": false,
         "stackgroup": "1",
         "type": "scatter",
         "x": [
          "2021",
          "2025",
          "2030",
          "2035",
          "2040",
          "2045",
          "2050"
         ],
         "xaxis": "x3",
         "y": [
          16.537805585315212,
          16.091532339241205,
          13.370745141437984,
          10.002622132417601,
          9.966588474974303,
          15.496624717268112,
          17.08639514037244
         ],
         "yaxis": "y3"
        },
        {
         "fillpattern": {
          "shape": ""
         },
         "hovertemplate": "Sector=Residential<br>Source=CANOE (ZEV, NHTS, fixed)<br>Period=%{x}<br>Total GHG Emissions (Mt CO2e)=%{y}<extra></extra>",
         "legendgroup": "Residential",
         "line": {
          "color": "#FFA15A"
         },
         "marker": {
          "symbol": "circle"
         },
         "mode": "lines",
         "name": "Residential",
         "orientation": "v",
         "showlegend": false,
         "stackgroup": "1",
         "type": "scatter",
         "x": [
          "2021",
          "2025",
          "2030",
          "2035",
          "2040",
          "2045",
          "2050"
         ],
         "xaxis": "x4",
         "y": [
          16.55324482533947,
          16.090674958424373,
          13.228501228490503,
          12.500222355828802,
          12.464953875457907,
          14.430400774962834,
          14.91644475938255
         ],
         "yaxis": "y4"
        }
       ],
       "layout": {
        "annotations": [
         {
          "showarrow": false,
          "text": "Source=CANOE (ZEV)",
          "x": 0.11375,
          "xanchor": "center",
          "xref": "paper",
          "y": 1,
          "yanchor": "bottom",
          "yref": "paper"
         },
         {
          "showarrow": false,
          "text": "Source=CANOE (No EVs)",
          "x": 0.37124999999999997,
          "xanchor": "center",
          "xref": "paper",
          "y": 1,
          "yanchor": "bottom",
          "yref": "paper"
         },
         {
          "showarrow": false,
          "text": "Source=CANOE (ZEV, NHTS)",
          "x": 0.62875,
          "xanchor": "center",
          "xref": "paper",
          "y": 1,
          "yanchor": "bottom",
          "yref": "paper"
         },
         {
          "showarrow": false,
          "text": "Source=CANOE (ZEV, NHTS, fixed)",
          "x": 0.88625,
          "xanchor": "center",
          "xref": "paper",
          "y": 1,
          "yanchor": "bottom",
          "yref": "paper"
         },
         {
          "font": {
           "size": 11
          },
          "showarrow": false,
          "text": "*Upstream emissions are accounted for in each sector, except for Oil & Gas",
          "x": 1,
          "xref": "paper",
          "y": 0.98,
          "yref": "paper"
         }
        ],
        "font": {
         "size": 13
        },
        "height": 600,
        "legend": {
         "orientation": "h",
         "title": {
          "text": ""
         },
         "tracegroupgap": 0,
         "x": 0.5,
         "xanchor": "center",
         "y": -0.15,
         "yanchor": "bottom"
        },
        "margin": {
         "t": 60
        },
        "template": {
         "data": {
          "bar": [
           {
            "error_x": {
             "color": "#2a3f5f"
            },
            "error_y": {
             "color": "#2a3f5f"
            },
            "marker": {
             "line": {
              "color": "white",
              "width": 0.5
             },
             "pattern": {
              "fillmode": "overlay",
              "size": 10,
              "solidity": 0.2
             }
            },
            "type": "bar"
           }
          ],
          "barpolar": [
           {
            "marker": {
             "line": {
              "color": "white",
              "width": 0.5
             },
             "pattern": {
              "fillmode": "overlay",
              "size": 10,
              "solidity": 0.2
             }
            },
            "type": "barpolar"
           }
          ],
          "carpet": [
           {
            "aaxis": {
             "endlinecolor": "#2a3f5f",
             "gridcolor": "#C8D4E3",
             "linecolor": "#C8D4E3",
             "minorgridcolor": "#C8D4E3",
             "startlinecolor": "#2a3f5f"
            },
            "baxis": {
             "endlinecolor": "#2a3f5f",
             "gridcolor": "#C8D4E3",
             "linecolor": "#C8D4E3",
             "minorgridcolor": "#C8D4E3",
             "startlinecolor": "#2a3f5f"
            },
            "type": "carpet"
           }
          ],
          "choropleth": [
           {
            "colorbar": {
             "outlinewidth": 0,
             "ticks": ""
            },
            "type": "choropleth"
           }
          ],
          "contour": [
           {
            "colorbar": {
             "outlinewidth": 0,
             "ticks": ""
            },
            "colorscale": [
             [
              0,
              "#0d0887"
             ],
             [
              0.1111111111111111,
              "#46039f"
             ],
             [
              0.2222222222222222,
              "#7201a8"
             ],
             [
              0.3333333333333333,
              "#9c179e"
             ],
             [
              0.4444444444444444,
              "#bd3786"
             ],
             [
              0.5555555555555556,
              "#d8576b"
             ],
             [
              0.6666666666666666,
              "#ed7953"
             ],
             [
              0.7777777777777778,
              "#fb9f3a"
             ],
             [
              0.8888888888888888,
              "#fdca26"
             ],
             [
              1,
              "#f0f921"
             ]
            ],
            "type": "contour"
           }
          ],
          "contourcarpet": [
           {
            "colorbar": {
             "outlinewidth": 0,
             "ticks": ""
            },
            "type": "contourcarpet"
           }
          ],
          "heatmap": [
           {
            "colorbar": {
             "outlinewidth": 0,
             "ticks": ""
            },
            "colorscale": [
             [
              0,
              "#0d0887"
             ],
             [
              0.1111111111111111,
              "#46039f"
             ],
             [
              0.2222222222222222,
              "#7201a8"
             ],
             [
              0.3333333333333333,
              "#9c179e"
             ],
             [
              0.4444444444444444,
              "#bd3786"
             ],
             [
              0.5555555555555556,
              "#d8576b"
             ],
             [
              0.6666666666666666,
              "#ed7953"
             ],
             [
              0.7777777777777778,
              "#fb9f3a"
             ],
             [
              0.8888888888888888,
              "#fdca26"
             ],
             [
              1,
              "#f0f921"
             ]
            ],
            "type": "heatmap"
           }
          ],
          "heatmapgl": [
           {
            "colorbar": {
             "outlinewidth": 0,
             "ticks": ""
            },
            "colorscale": [
             [
              0,
              "#0d0887"
             ],
             [
              0.1111111111111111,
              "#46039f"
             ],
             [
              0.2222222222222222,
              "#7201a8"
             ],
             [
              0.3333333333333333,
              "#9c179e"
             ],
             [
              0.4444444444444444,
              "#bd3786"
             ],
             [
              0.5555555555555556,
              "#d8576b"
             ],
             [
              0.6666666666666666,
              "#ed7953"
             ],
             [
              0.7777777777777778,
              "#fb9f3a"
             ],
             [
              0.8888888888888888,
              "#fdca26"
             ],
             [
              1,
              "#f0f921"
             ]
            ],
            "type": "heatmapgl"
           }
          ],
          "histogram": [
           {
            "marker": {
             "pattern": {
              "fillmode": "overlay",
              "size": 10,
              "solidity": 0.2
             }
            },
            "type": "histogram"
           }
          ],
          "histogram2d": [
           {
            "colorbar": {
             "outlinewidth": 0,
             "ticks": ""
            },
            "colorscale": [
             [
              0,
              "#0d0887"
             ],
             [
              0.1111111111111111,
              "#46039f"
             ],
             [
              0.2222222222222222,
              "#7201a8"
             ],
             [
              0.3333333333333333,
              "#9c179e"
             ],
             [
              0.4444444444444444,
              "#bd3786"
             ],
             [
              0.5555555555555556,
              "#d8576b"
             ],
             [
              0.6666666666666666,
              "#ed7953"
             ],
             [
              0.7777777777777778,
              "#fb9f3a"
             ],
             [
              0.8888888888888888,
              "#fdca26"
             ],
             [
              1,
              "#f0f921"
             ]
            ],
            "type": "histogram2d"
           }
          ],
          "histogram2dcontour": [
           {
            "colorbar": {
             "outlinewidth": 0,
             "ticks": ""
            },
            "colorscale": [
             [
              0,
              "#0d0887"
             ],
             [
              0.1111111111111111,
              "#46039f"
             ],
             [
              0.2222222222222222,
              "#7201a8"
             ],
             [
              0.3333333333333333,
              "#9c179e"
             ],
             [
              0.4444444444444444,
              "#bd3786"
             ],
             [
              0.5555555555555556,
              "#d8576b"
             ],
             [
              0.6666666666666666,
              "#ed7953"
             ],
             [
              0.7777777777777778,
              "#fb9f3a"
             ],
             [
              0.8888888888888888,
              "#fdca26"
             ],
             [
              1,
              "#f0f921"
             ]
            ],
            "type": "histogram2dcontour"
           }
          ],
          "mesh3d": [
           {
            "colorbar": {
             "outlinewidth": 0,
             "ticks": ""
            },
            "type": "mesh3d"
           }
          ],
          "parcoords": [
           {
            "line": {
             "colorbar": {
              "outlinewidth": 0,
              "ticks": ""
             }
            },
            "type": "parcoords"
           }
          ],
          "pie": [
           {
            "automargin": true,
            "type": "pie"
           }
          ],
          "scatter": [
           {
            "fillpattern": {
             "fillmode": "overlay",
             "size": 10,
             "solidity": 0.2
            },
            "type": "scatter"
           }
          ],
          "scatter3d": [
           {
            "line": {
             "colorbar": {
              "outlinewidth": 0,
              "ticks": ""
             }
            },
            "marker": {
             "colorbar": {
              "outlinewidth": 0,
              "ticks": ""
             }
            },
            "type": "scatter3d"
           }
          ],
          "scattercarpet": [
           {
            "marker": {
             "colorbar": {
              "outlinewidth": 0,
              "ticks": ""
             }
            },
            "type": "scattercarpet"
           }
          ],
          "scattergeo": [
           {
            "marker": {
             "colorbar": {
              "outlinewidth": 0,
              "ticks": ""
             }
            },
            "type": "scattergeo"
           }
          ],
          "scattergl": [
           {
            "marker": {
             "colorbar": {
              "outlinewidth": 0,
              "ticks": ""
             }
            },
            "type": "scattergl"
           }
          ],
          "scattermapbox": [
           {
            "marker": {
             "colorbar": {
              "outlinewidth": 0,
              "ticks": ""
             }
            },
            "type": "scattermapbox"
           }
          ],
          "scatterpolar": [
           {
            "marker": {
             "colorbar": {
              "outlinewidth": 0,
              "ticks": ""
             }
            },
            "type": "scatterpolar"
           }
          ],
          "scatterpolargl": [
           {
            "marker": {
             "colorbar": {
              "outlinewidth": 0,
              "ticks": ""
             }
            },
            "type": "scatterpolargl"
           }
          ],
          "scatterternary": [
           {
            "marker": {
             "colorbar": {
              "outlinewidth": 0,
              "ticks": ""
             }
            },
            "type": "scatterternary"
           }
          ],
          "surface": [
           {
            "colorbar": {
             "outlinewidth": 0,
             "ticks": ""
            },
            "colorscale": [
             [
              0,
              "#0d0887"
             ],
             [
              0.1111111111111111,
              "#46039f"
             ],
             [
              0.2222222222222222,
              "#7201a8"
             ],
             [
              0.3333333333333333,
              "#9c179e"
             ],
             [
              0.4444444444444444,
              "#bd3786"
             ],
             [
              0.5555555555555556,
              "#d8576b"
             ],
             [
              0.6666666666666666,
              "#ed7953"
             ],
             [
              0.7777777777777778,
              "#fb9f3a"
             ],
             [
              0.8888888888888888,
              "#fdca26"
             ],
             [
              1,
              "#f0f921"
             ]
            ],
            "type": "surface"
           }
          ],
          "table": [
           {
            "cells": {
             "fill": {
              "color": "#EBF0F8"
             },
             "line": {
              "color": "white"
             }
            },
            "header": {
             "fill": {
              "color": "#C8D4E3"
             },
             "line": {
              "color": "white"
             }
            },
            "type": "table"
           }
          ]
         },
         "layout": {
          "annotationdefaults": {
           "arrowcolor": "#2a3f5f",
           "arrowhead": 0,
           "arrowwidth": 1
          },
          "autotypenumbers": "strict",
          "coloraxis": {
           "colorbar": {
            "outlinewidth": 0,
            "ticks": ""
           }
          },
          "colorscale": {
           "diverging": [
            [
             0,
             "#8e0152"
            ],
            [
             0.1,
             "#c51b7d"
            ],
            [
             0.2,
             "#de77ae"
            ],
            [
             0.3,
             "#f1b6da"
            ],
            [
             0.4,
             "#fde0ef"
            ],
            [
             0.5,
             "#f7f7f7"
            ],
            [
             0.6,
             "#e6f5d0"
            ],
            [
             0.7,
             "#b8e186"
            ],
            [
             0.8,
             "#7fbc41"
            ],
            [
             0.9,
             "#4d9221"
            ],
            [
             1,
             "#276419"
            ]
           ],
           "sequential": [
            [
             0,
             "#0d0887"
            ],
            [
             0.1111111111111111,
             "#46039f"
            ],
            [
             0.2222222222222222,
             "#7201a8"
            ],
            [
             0.3333333333333333,
             "#9c179e"
            ],
            [
             0.4444444444444444,
             "#bd3786"
            ],
            [
             0.5555555555555556,
             "#d8576b"
            ],
            [
             0.6666666666666666,
             "#ed7953"
            ],
            [
             0.7777777777777778,
             "#fb9f3a"
            ],
            [
             0.8888888888888888,
             "#fdca26"
            ],
            [
             1,
             "#f0f921"
            ]
           ],
           "sequentialminus": [
            [
             0,
             "#0d0887"
            ],
            [
             0.1111111111111111,
             "#46039f"
            ],
            [
             0.2222222222222222,
             "#7201a8"
            ],
            [
             0.3333333333333333,
             "#9c179e"
            ],
            [
             0.4444444444444444,
             "#bd3786"
            ],
            [
             0.5555555555555556,
             "#d8576b"
            ],
            [
             0.6666666666666666,
             "#ed7953"
            ],
            [
             0.7777777777777778,
             "#fb9f3a"
            ],
            [
             0.8888888888888888,
             "#fdca26"
            ],
            [
             1,
             "#f0f921"
            ]
           ]
          },
          "colorway": [
           "#636efa",
           "#EF553B",
           "#00cc96",
           "#ab63fa",
           "#FFA15A",
           "#19d3f3",
           "#FF6692",
           "#B6E880",
           "#FF97FF",
           "#FECB52"
          ],
          "font": {
           "color": "#2a3f5f"
          },
          "geo": {
           "bgcolor": "white",
           "lakecolor": "white",
           "landcolor": "white",
           "showlakes": true,
           "showland": true,
           "subunitcolor": "#C8D4E3"
          },
          "hoverlabel": {
           "align": "left"
          },
          "hovermode": "closest",
          "mapbox": {
           "style": "light"
          },
          "paper_bgcolor": "white",
          "plot_bgcolor": "white",
          "polar": {
           "angularaxis": {
            "gridcolor": "#EBF0F8",
            "linecolor": "#EBF0F8",
            "ticks": ""
           },
           "bgcolor": "white",
           "radialaxis": {
            "gridcolor": "#EBF0F8",
            "linecolor": "#EBF0F8",
            "ticks": ""
           }
          },
          "scene": {
           "xaxis": {
            "backgroundcolor": "white",
            "gridcolor": "#DFE8F3",
            "gridwidth": 2,
            "linecolor": "#EBF0F8",
            "showbackground": true,
            "ticks": "",
            "zerolinecolor": "#EBF0F8"
           },
           "yaxis": {
            "backgroundcolor": "white",
            "gridcolor": "#DFE8F3",
            "gridwidth": 2,
            "linecolor": "#EBF0F8",
            "showbackground": true,
            "ticks": "",
            "zerolinecolor": "#EBF0F8"
           },
           "zaxis": {
            "backgroundcolor": "white",
            "gridcolor": "#DFE8F3",
            "gridwidth": 2,
            "linecolor": "#EBF0F8",
            "showbackground": true,
            "ticks": "",
            "zerolinecolor": "#EBF0F8"
           }
          },
          "shapedefaults": {
           "line": {
            "color": "#2a3f5f"
           }
          },
          "ternary": {
           "aaxis": {
            "gridcolor": "#DFE8F3",
            "linecolor": "#A2B1C6",
            "ticks": ""
           },
           "baxis": {
            "gridcolor": "#DFE8F3",
            "linecolor": "#A2B1C6",
            "ticks": ""
           },
           "bgcolor": "white",
           "caxis": {
            "gridcolor": "#DFE8F3",
            "linecolor": "#A2B1C6",
            "ticks": ""
           }
          },
          "title": {
           "x": 0.05
          },
          "xaxis": {
           "automargin": true,
           "gridcolor": "#EBF0F8",
           "linecolor": "#EBF0F8",
           "ticks": "",
           "title": {
            "standoff": 15
           },
           "zerolinecolor": "#EBF0F8",
           "zerolinewidth": 2
          },
          "yaxis": {
           "automargin": true,
           "gridcolor": "#EBF0F8",
           "linecolor": "#EBF0F8",
           "ticks": "",
           "title": {
            "standoff": 15
           },
           "zerolinecolor": "#EBF0F8",
           "zerolinewidth": 2
          }
         }
        },
        "title": {
         "text": "Total GHG emissions by sector and energy model, excluding AFOLU",
         "x": 0.5,
         "xanchor": "center",
         "y": 0.97,
         "yanchor": "top"
        },
        "width": 1100,
        "xaxis": {
         "anchor": "y",
         "domain": [
          0,
          0.2275
         ],
         "tickangle": 45,
         "title": {
          "text": ""
         }
        },
        "xaxis2": {
         "anchor": "y2",
         "domain": [
          0.2575,
          0.485
         ],
         "matches": "x",
         "tickangle": 45,
         "title": {
          "text": ""
         }
        },
        "xaxis3": {
         "anchor": "y3",
         "domain": [
          0.515,
          0.7425
         ],
         "matches": "x",
         "tickangle": 45,
         "title": {
          "text": ""
         }
        },
        "xaxis4": {
         "anchor": "y4",
         "domain": [
          0.7725,
          1
         ],
         "matches": "x",
         "tickangle": 45,
         "title": {
          "text": ""
         }
        },
        "yaxis": {
         "anchor": "x",
         "domain": [
          0,
          1
         ],
         "title": {
          "standoff": 0,
          "text": "Total GHG Emissions (M tonne CO2e)"
         }
        },
        "yaxis2": {
         "anchor": "x2",
         "domain": [
          0,
          1
         ],
         "matches": "y",
         "showticklabels": false
        },
        "yaxis3": {
         "anchor": "x3",
         "domain": [
          0,
          1
         ],
         "matches": "y",
         "showticklabels": false
        },
        "yaxis4": {
         "anchor": "x4",
         "domain": [
          0,
          1
         ],
         "matches": "y",
         "showticklabels": false
        }
       }
      }
     },
     "metadata": {},
     "output_type": "display_data"
    }
   ],
   "source": [
    "ref_fig = ref_ghg[ref_ghg['Emission Commodity'] == 'co2e'][['Period', 'Sector', 'Total GHG Emissions']].groupby(['Period', 'Sector'], as_index=False).sum()\n",
    "ref_fig['Sector'] = ref_fig['Sector'].replace({'Transport': 'Transportation', 'commercial': 'Commercial', 'residential': 'Residential', 'industrial': 'Industrial', 'electricity': 'Electricity'})\n",
    "ref_fig['Total GHG Emissions (Mt CO2e)'] = ref_fig['Total GHG Emissions'] / 1E3\n",
    "ref_fig['Period'] = ref_fig['Period'].astype(str)\n",
    "\n",
    "vanilla_fig = vanilla_ghg[vanilla_ghg['Emission Commodity'] == 'co2e'][['Period', 'Sector', 'Total GHG Emissions']].groupby(['Period', 'Sector'], as_index=False).sum()\n",
    "vanilla_fig['Sector'] = vanilla_fig['Sector'].replace({'Transport': 'Transportation', 'commercial': 'Commercial', 'residential': 'Residential', 'industrial': 'Industrial', 'electricity': 'Electricity'})\n",
    "vanilla_fig['Total GHG Emissions (Mt CO2e)'] = vanilla_fig['Total GHG Emissions'] / 1E3\n",
    "vanilla_fig['Period'] = vanilla_fig['Period'].astype(str)\n",
    "\n",
    "nhts_fig = nhts_ghg[nhts_ghg['Emission Commodity'] == 'co2e'][['Period', 'Sector', 'Total GHG Emissions']].groupby(['Period', 'Sector'], as_index=False).sum()\n",
    "nhts_fig['Sector'] = nhts_fig['Sector'].replace({'Transport': 'Transportation', 'commercial': 'Commercial', 'residential': 'Residential', 'industrial': 'Industrial', 'electricity': 'Electricity'})\n",
    "nhts_fig['Total GHG Emissions (Mt CO2e)'] = nhts_fig['Total GHG Emissions'] / 1E3\n",
    "nhts_fig['Period'] = nhts_fig['Period'].astype(str)\n",
    "\n",
    "nhts_fixed_fig = nhts_fixed_ghg[nhts_fixed_ghg['Emission Commodity'] == 'co2e'][['Period', 'Sector', 'Total GHG Emissions']].groupby(['Period', 'Sector'], as_index=False).sum()\n",
    "nhts_fixed_fig['Sector'] = nhts_fixed_fig['Sector'].replace({'Transport': 'Transportation', 'commercial': 'Commercial', 'residential': 'Residential', 'industrial': 'Industrial', 'electricity': 'Electricity'})\n",
    "nhts_fixed_fig['Total GHG Emissions (Mt CO2e)'] = nhts_fixed_fig['Total GHG Emissions'] / 1E3\n",
    "nhts_fixed_fig['Period'] = nhts_fixed_fig['Period'].astype(str)\n",
    "\n",
    "# gtech23_fig = gtech23_ref_ghg[gtech23_ref_ghg['Sector'] != 'AFOLU']\n",
    "# gtech23_fig = gtech23_fig.rename(columns={'CO2e (Mt)': 'Total GHG Emissions (Mt CO2e)'})\n",
    "\n",
    "ref_fig['Source'] = 'CANOE (ZEV)'\n",
    "vanilla_fig['Source'] = 'CANOE (No EVs)'\n",
    "nhts_fig['Source'] = 'CANOE (ZEV, NHTS)'\n",
    "nhts_fixed_fig['Source'] = 'CANOE (ZEV, NHTS, fixed)'\n",
    "\n",
    "# gtech23_fig['Source'] = 'gTech-IESD'\n",
    "# gtech23_fig['Period'] = gtech23_fig['Period'].astype(str)\n",
    "fig_df = pd.concat([ref_fig[['Period', 'Sector', 'Total GHG Emissions (Mt CO2e)', 'Source']], vanilla_fig[['Period', 'Sector', 'Total GHG Emissions (Mt CO2e)', 'Source']], nhts_fig[['Period', 'Sector', 'Total GHG Emissions (Mt CO2e)', 'Source']], nhts_fixed_fig[['Period', 'Sector', 'Total GHG Emissions (Mt CO2e)', 'Source']]]).reset_index(drop=True)\n",
    "fig_df_ghg = pd.concat([ref_fig[['Period', 'Sector', 'Total GHG Emissions (Mt CO2e)', 'Source']], vanilla_fig[['Period', 'Sector', 'Total GHG Emissions (Mt CO2e)', 'Source']], nhts_fig[['Period', 'Sector', 'Total GHG Emissions (Mt CO2e)', 'Source']], nhts_fixed_fig[['Period', 'Sector', 'Total GHG Emissions (Mt CO2e)', 'Source']]]).reset_index(drop=True)\n",
    "\n",
    "fig = px.area(fig_df, x='Period', y='Total GHG Emissions (Mt CO2e)', color='Sector', facet_col='Source',\n",
    "              template='plotly_white',\n",
    "              facet_col_spacing=0.03,\n",
    "              width=1100, height=600\n",
    "              )\n",
    "\n",
    "fig.update_layout(\n",
    "    title=dict(text='Total GHG emissions by sector and energy model, excluding AFOLU',\n",
    "               x=0.5,\n",
    "               y=0.97,\n",
    "               xanchor='center',\n",
    "               yanchor='top'\n",
    "               ),\n",
    "    xaxis=dict(title='Period'),\n",
    "    yaxis=dict(title='Total GHG Emissions (M tonne CO2e)'),\n",
    "    yaxis_title_standoff=0,\n",
    "    legend_title_text='',\n",
    "    # bargap=0.1,\n",
    "    legend=dict(orientation='h',\n",
    "                yanchor='bottom',\n",
    "                y=-0.15,\n",
    "                xanchor='center',\n",
    "                x=0.5),\n",
    "    font=dict(size=13,\n",
    "              # family=\"Open Sans\"\n",
    "              ))\n",
    "\n",
    "for axis in fig.layout:\n",
    "    if axis.startswith('xaxis'):\n",
    "        fig.layout[axis].title.text = ''\n",
    "\n",
    "fig.update_xaxes(tickangle=45)\n",
    "\n",
    "fig.add_annotation(\n",
    "    text=\"*Upstream emissions are accounted for in each sector, except for Oil & Gas\",\n",
    "    x=1,  # Adjust x position as needed\n",
    "    y=0.98,\n",
    "    xref=\"paper\",\n",
    "    yref=\"paper\",\n",
    "    showarrow=False,\n",
    "    # textangle=-90,\n",
    "    font=dict(size=11))\n",
    "\n",
    "\n",
    "fig.show()"
   ]
  },
  {
   "cell_type": "markdown",
   "metadata": {},
   "source": [
    "# IEFs"
   ]
  },
  {
   "cell_type": "code",
   "execution_count": 94,
   "metadata": {},
   "outputs": [],
   "source": [
    "elc_act = fig_df_elc.groupby(['Period', 'Source']).sum('Generation (PJ)').reset_index()"
   ]
  },
  {
   "cell_type": "code",
   "execution_count": 95,
   "metadata": {},
   "outputs": [],
   "source": [
    "elc_ghg = fig_df_ghg[fig_df_ghg['Sector'] == 'Electricity'].reset_index(drop=True)"
   ]
  },
  {
   "cell_type": "code",
   "execution_count": 96,
   "metadata": {},
   "outputs": [],
   "source": [
    "ief_df = pd.merge(left=elc_act, right=elc_ghg, on=['Period', 'Source'])"
   ]
  },
  {
   "cell_type": "code",
   "execution_count": 97,
   "metadata": {},
   "outputs": [
    {
     "data": {
      "text/html": [
       "<div>\n",
       "<style scoped>\n",
       "    .dataframe tbody tr th:only-of-type {\n",
       "        vertical-align: middle;\n",
       "    }\n",
       "\n",
       "    .dataframe tbody tr th {\n",
       "        vertical-align: top;\n",
       "    }\n",
       "\n",
       "    .dataframe thead th {\n",
       "        text-align: right;\n",
       "    }\n",
       "</style>\n",
       "<table border=\"1\" class=\"dataframe\">\n",
       "  <thead>\n",
       "    <tr style=\"text-align: right;\">\n",
       "      <th></th>\n",
       "      <th>Period</th>\n",
       "      <th>Source</th>\n",
       "      <th>Generation (PJ)</th>\n",
       "      <th>Sector</th>\n",
       "      <th>Total GHG Emissions (Mt CO2e)</th>\n",
       "    </tr>\n",
       "  </thead>\n",
       "  <tbody>\n",
       "    <tr>\n",
       "      <th>3</th>\n",
       "      <td>2021</td>\n",
       "      <td>CANOE (ZEV, NHTS, fixed)</td>\n",
       "      <td>672.071315</td>\n",
       "      <td>Electricity</td>\n",
       "      <td>5.595787</td>\n",
       "    </tr>\n",
       "    <tr>\n",
       "      <th>7</th>\n",
       "      <td>2025</td>\n",
       "      <td>CANOE (ZEV, NHTS, fixed)</td>\n",
       "      <td>707.051534</td>\n",
       "      <td>Electricity</td>\n",
       "      <td>4.075353</td>\n",
       "    </tr>\n",
       "    <tr>\n",
       "      <th>11</th>\n",
       "      <td>2030</td>\n",
       "      <td>CANOE (ZEV, NHTS, fixed)</td>\n",
       "      <td>821.090462</td>\n",
       "      <td>Electricity</td>\n",
       "      <td>5.164464</td>\n",
       "    </tr>\n",
       "    <tr>\n",
       "      <th>15</th>\n",
       "      <td>2035</td>\n",
       "      <td>CANOE (ZEV, NHTS, fixed)</td>\n",
       "      <td>896.059325</td>\n",
       "      <td>Electricity</td>\n",
       "      <td>2.755483</td>\n",
       "    </tr>\n",
       "    <tr>\n",
       "      <th>19</th>\n",
       "      <td>2040</td>\n",
       "      <td>CANOE (ZEV, NHTS, fixed)</td>\n",
       "      <td>1002.754884</td>\n",
       "      <td>Electricity</td>\n",
       "      <td>3.645816</td>\n",
       "    </tr>\n",
       "    <tr>\n",
       "      <th>23</th>\n",
       "      <td>2045</td>\n",
       "      <td>CANOE (ZEV, NHTS, fixed)</td>\n",
       "      <td>1175.932608</td>\n",
       "      <td>Electricity</td>\n",
       "      <td>11.631208</td>\n",
       "    </tr>\n",
       "    <tr>\n",
       "      <th>27</th>\n",
       "      <td>2050</td>\n",
       "      <td>CANOE (ZEV, NHTS, fixed)</td>\n",
       "      <td>1258.775913</td>\n",
       "      <td>Electricity</td>\n",
       "      <td>13.658317</td>\n",
       "    </tr>\n",
       "  </tbody>\n",
       "</table>\n",
       "</div>"
      ],
      "text/plain": [
       "   Period                    Source  Generation (PJ)       Sector  \\\n",
       "3    2021  CANOE (ZEV, NHTS, fixed)       672.071315  Electricity   \n",
       "7    2025  CANOE (ZEV, NHTS, fixed)       707.051534  Electricity   \n",
       "11   2030  CANOE (ZEV, NHTS, fixed)       821.090462  Electricity   \n",
       "15   2035  CANOE (ZEV, NHTS, fixed)       896.059325  Electricity   \n",
       "19   2040  CANOE (ZEV, NHTS, fixed)      1002.754884  Electricity   \n",
       "23   2045  CANOE (ZEV, NHTS, fixed)      1175.932608  Electricity   \n",
       "27   2050  CANOE (ZEV, NHTS, fixed)      1258.775913  Electricity   \n",
       "\n",
       "    Total GHG Emissions (Mt CO2e)  \n",
       "3                        5.595787  \n",
       "7                        4.075353  \n",
       "11                       5.164464  \n",
       "15                       2.755483  \n",
       "19                       3.645816  \n",
       "23                      11.631208  \n",
       "27                      13.658317  "
      ]
     },
     "execution_count": 97,
     "metadata": {},
     "output_type": "execute_result"
    }
   ],
   "source": [
    "ief_noevs = ief_df[ief_df['Source'] == 'CANOE (No EVs)']\n",
    "ief_tts = ief_df[ief_df['Source'] == 'CANOE (ZEV)']\n",
    "ief_nhts = ief_df[ief_df['Source'] == 'CANOE (ZEV, NHTS)']\n",
    "ief_nhts_fixed = ief_df[ief_df['Source'] == 'CANOE (ZEV, NHTS, fixed)']\n",
    "\n",
    "ief_nhts_fixed"
   ]
  },
  {
   "cell_type": "code",
   "execution_count": 98,
   "metadata": {},
   "outputs": [
    {
     "name": "stderr",
     "output_type": "stream",
     "text": [
      "C:\\Users\\rashi\\AppData\\Local\\Temp\\ipykernel_4448\\73460126.py:1: SettingWithCopyWarning:\n",
      "\n",
      "\n",
      "A value is trying to be set on a copy of a slice from a DataFrame.\n",
      "Try using .loc[row_indexer,col_indexer] = value instead\n",
      "\n",
      "See the caveats in the documentation: https://pandas.pydata.org/pandas-docs/stable/user_guide/indexing.html#returning-a-view-versus-a-copy\n",
      "\n",
      "C:\\Users\\rashi\\AppData\\Local\\Temp\\ipykernel_4448\\73460126.py:2: SettingWithCopyWarning:\n",
      "\n",
      "\n",
      "A value is trying to be set on a copy of a slice from a DataFrame.\n",
      "Try using .loc[row_indexer,col_indexer] = value instead\n",
      "\n",
      "See the caveats in the documentation: https://pandas.pydata.org/pandas-docs/stable/user_guide/indexing.html#returning-a-view-versus-a-copy\n",
      "\n",
      "C:\\Users\\rashi\\AppData\\Local\\Temp\\ipykernel_4448\\73460126.py:3: SettingWithCopyWarning:\n",
      "\n",
      "\n",
      "A value is trying to be set on a copy of a slice from a DataFrame.\n",
      "Try using .loc[row_indexer,col_indexer] = value instead\n",
      "\n",
      "See the caveats in the documentation: https://pandas.pydata.org/pandas-docs/stable/user_guide/indexing.html#returning-a-view-versus-a-copy\n",
      "\n"
     ]
    }
   ],
   "source": [
    "ief_tts['IEF (g CO2e/kWh)'] = (ief_tts['Total GHG Emissions (Mt CO2e)'].values * 1E3 - ief_noevs['Total GHG Emissions (Mt CO2e)'].values * 1E3)*3.6 / (ief_tts['Generation (PJ)'].values - ief_noevs['Generation (PJ)'].values)\n",
    "ief_nhts['IEF (g CO2e/kWh)'] = (ief_nhts['Total GHG Emissions (Mt CO2e)'].values * 1E3 - ief_noevs['Total GHG Emissions (Mt CO2e)'].values * 1E3)*3.6 / (ief_nhts['Generation (PJ)'].values - ief_noevs['Generation (PJ)'].values)\n",
    "ief_nhts_fixed['IEF (g CO2e/kWh)'] = (ief_nhts_fixed['Total GHG Emissions (Mt CO2e)'].values * 1E3 - ief_noevs['Total GHG Emissions (Mt CO2e)'].values * 1E3)*3.6 / (ief_nhts_fixed['Generation (PJ)'].values - ief_noevs['Generation (PJ)'].values)"
   ]
  },
  {
   "cell_type": "code",
   "execution_count": 99,
   "metadata": {},
   "outputs": [
    {
     "data": {
      "text/html": [
       "<div>\n",
       "<style scoped>\n",
       "    .dataframe tbody tr th:only-of-type {\n",
       "        vertical-align: middle;\n",
       "    }\n",
       "\n",
       "    .dataframe tbody tr th {\n",
       "        vertical-align: top;\n",
       "    }\n",
       "\n",
       "    .dataframe thead th {\n",
       "        text-align: right;\n",
       "    }\n",
       "</style>\n",
       "<table border=\"1\" class=\"dataframe\">\n",
       "  <thead>\n",
       "    <tr style=\"text-align: right;\">\n",
       "      <th></th>\n",
       "      <th>Period</th>\n",
       "      <th>IEF (g CO2e/kWh)</th>\n",
       "      <th>Source</th>\n",
       "    </tr>\n",
       "  </thead>\n",
       "  <tbody>\n",
       "    <tr>\n",
       "      <th>0</th>\n",
       "      <td>2021</td>\n",
       "      <td>72.831089</td>\n",
       "      <td>CANOE (ZEV)</td>\n",
       "    </tr>\n",
       "    <tr>\n",
       "      <th>1</th>\n",
       "      <td>2025</td>\n",
       "      <td>51.677835</td>\n",
       "      <td>CANOE (ZEV)</td>\n",
       "    </tr>\n",
       "    <tr>\n",
       "      <th>2</th>\n",
       "      <td>2030</td>\n",
       "      <td>-10.307672</td>\n",
       "      <td>CANOE (ZEV)</td>\n",
       "    </tr>\n",
       "    <tr>\n",
       "      <th>3</th>\n",
       "      <td>2035</td>\n",
       "      <td>11.895857</td>\n",
       "      <td>CANOE (ZEV)</td>\n",
       "    </tr>\n",
       "    <tr>\n",
       "      <th>4</th>\n",
       "      <td>2040</td>\n",
       "      <td>14.857766</td>\n",
       "      <td>CANOE (ZEV)</td>\n",
       "    </tr>\n",
       "    <tr>\n",
       "      <th>5</th>\n",
       "      <td>2045</td>\n",
       "      <td>30.369416</td>\n",
       "      <td>CANOE (ZEV)</td>\n",
       "    </tr>\n",
       "    <tr>\n",
       "      <th>6</th>\n",
       "      <td>2050</td>\n",
       "      <td>45.509596</td>\n",
       "      <td>CANOE (ZEV)</td>\n",
       "    </tr>\n",
       "    <tr>\n",
       "      <th>7</th>\n",
       "      <td>2021</td>\n",
       "      <td>-1296.358302</td>\n",
       "      <td>CANOE (ZEV, NHTS)</td>\n",
       "    </tr>\n",
       "    <tr>\n",
       "      <th>8</th>\n",
       "      <td>2025</td>\n",
       "      <td>177.410298</td>\n",
       "      <td>CANOE (ZEV, NHTS)</td>\n",
       "    </tr>\n",
       "    <tr>\n",
       "      <th>9</th>\n",
       "      <td>2030</td>\n",
       "      <td>-17.398214</td>\n",
       "      <td>CANOE (ZEV, NHTS)</td>\n",
       "    </tr>\n",
       "    <tr>\n",
       "      <th>10</th>\n",
       "      <td>2035</td>\n",
       "      <td>33.467523</td>\n",
       "      <td>CANOE (ZEV, NHTS)</td>\n",
       "    </tr>\n",
       "    <tr>\n",
       "      <th>11</th>\n",
       "      <td>2040</td>\n",
       "      <td>25.230715</td>\n",
       "      <td>CANOE (ZEV, NHTS)</td>\n",
       "    </tr>\n",
       "    <tr>\n",
       "      <th>12</th>\n",
       "      <td>2045</td>\n",
       "      <td>18.920369</td>\n",
       "      <td>CANOE (ZEV, NHTS)</td>\n",
       "    </tr>\n",
       "    <tr>\n",
       "      <th>13</th>\n",
       "      <td>2050</td>\n",
       "      <td>-6.926418</td>\n",
       "      <td>CANOE (ZEV, NHTS)</td>\n",
       "    </tr>\n",
       "    <tr>\n",
       "      <th>14</th>\n",
       "      <td>2021</td>\n",
       "      <td>-5.975744</td>\n",
       "      <td>CANOE (ZEV, NHTS, fixed)</td>\n",
       "    </tr>\n",
       "    <tr>\n",
       "      <th>15</th>\n",
       "      <td>2025</td>\n",
       "      <td>90.209862</td>\n",
       "      <td>CANOE (ZEV, NHTS, fixed)</td>\n",
       "    </tr>\n",
       "    <tr>\n",
       "      <th>16</th>\n",
       "      <td>2030</td>\n",
       "      <td>52.264006</td>\n",
       "      <td>CANOE (ZEV, NHTS, fixed)</td>\n",
       "    </tr>\n",
       "    <tr>\n",
       "      <th>17</th>\n",
       "      <td>2035</td>\n",
       "      <td>22.330053</td>\n",
       "      <td>CANOE (ZEV, NHTS, fixed)</td>\n",
       "    </tr>\n",
       "    <tr>\n",
       "      <th>18</th>\n",
       "      <td>2040</td>\n",
       "      <td>0.941744</td>\n",
       "      <td>CANOE (ZEV, NHTS, fixed)</td>\n",
       "    </tr>\n",
       "    <tr>\n",
       "      <th>19</th>\n",
       "      <td>2045</td>\n",
       "      <td>28.843480</td>\n",
       "      <td>CANOE (ZEV, NHTS, fixed)</td>\n",
       "    </tr>\n",
       "    <tr>\n",
       "      <th>20</th>\n",
       "      <td>2050</td>\n",
       "      <td>34.380243</td>\n",
       "      <td>CANOE (ZEV, NHTS, fixed)</td>\n",
       "    </tr>\n",
       "  </tbody>\n",
       "</table>\n",
       "</div>"
      ],
      "text/plain": [
       "   Period  IEF (g CO2e/kWh)                    Source\n",
       "0    2021         72.831089               CANOE (ZEV)\n",
       "1    2025         51.677835               CANOE (ZEV)\n",
       "2    2030        -10.307672               CANOE (ZEV)\n",
       "3    2035         11.895857               CANOE (ZEV)\n",
       "4    2040         14.857766               CANOE (ZEV)\n",
       "5    2045         30.369416               CANOE (ZEV)\n",
       "6    2050         45.509596               CANOE (ZEV)\n",
       "7    2021      -1296.358302         CANOE (ZEV, NHTS)\n",
       "8    2025        177.410298         CANOE (ZEV, NHTS)\n",
       "9    2030        -17.398214         CANOE (ZEV, NHTS)\n",
       "10   2035         33.467523         CANOE (ZEV, NHTS)\n",
       "11   2040         25.230715         CANOE (ZEV, NHTS)\n",
       "12   2045         18.920369         CANOE (ZEV, NHTS)\n",
       "13   2050         -6.926418         CANOE (ZEV, NHTS)\n",
       "14   2021         -5.975744  CANOE (ZEV, NHTS, fixed)\n",
       "15   2025         90.209862  CANOE (ZEV, NHTS, fixed)\n",
       "16   2030         52.264006  CANOE (ZEV, NHTS, fixed)\n",
       "17   2035         22.330053  CANOE (ZEV, NHTS, fixed)\n",
       "18   2040          0.941744  CANOE (ZEV, NHTS, fixed)\n",
       "19   2045         28.843480  CANOE (ZEV, NHTS, fixed)\n",
       "20   2050         34.380243  CANOE (ZEV, NHTS, fixed)"
      ]
     },
     "execution_count": 99,
     "metadata": {},
     "output_type": "execute_result"
    }
   ],
   "source": [
    "pd.concat([ief_tts[['Period', 'IEF (g CO2e/kWh)', 'Source']], ief_nhts[['Period', 'IEF (g CO2e/kWh)', 'Source']], ief_nhts_fixed[['Period', 'IEF (g CO2e/kWh)', 'Source']]]).reset_index(drop=True)"
   ]
  },
  {
   "cell_type": "code",
   "execution_count": 109,
   "metadata": {},
   "outputs": [
    {
     "data": {
      "application/vnd.plotly.v1+json": {
       "config": {
        "plotlyServerURL": "https://plot.ly"
       },
       "data": [
        {
         "hovertemplate": "Source=CANOE (ZEV, w/TTS)<br>Period=%{x}<br>IEF (g CO2e/kWh)=%{y}<extra></extra>",
         "legendgroup": "CANOE (ZEV, w/TTS)",
         "line": {
          "color": "#636efa",
          "dash": "solid"
         },
         "marker": {
          "symbol": "circle"
         },
         "mode": "lines",
         "name": "CANOE (ZEV, w/TTS)",
         "orientation": "v",
         "showlegend": true,
         "type": "scatter",
         "x": [
          "2025",
          "2030",
          "2035",
          "2040",
          "2045",
          "2050"
         ],
         "xaxis": "x",
         "y": [
          51.67783536906487,
          -10.307672149961528,
          11.89585712373604,
          14.857766342019275,
          30.369416444737254,
          45.509595873910804
         ],
         "yaxis": "y"
        },
        {
         "hovertemplate": "Source=CANOE (ZEV, w/NHTS)<br>Period=%{x}<br>IEF (g CO2e/kWh)=%{y}<extra></extra>",
         "legendgroup": "CANOE (ZEV, w/NHTS)",
         "line": {
          "color": "#EF553B",
          "dash": "solid"
         },
         "marker": {
          "symbol": "circle"
         },
         "mode": "lines",
         "name": "CANOE (ZEV, w/NHTS)",
         "orientation": "v",
         "showlegend": true,
         "type": "scatter",
         "x": [
          "2025",
          "2030",
          "2035",
          "2040",
          "2045",
          "2050"
         ],
         "xaxis": "x",
         "y": [
          177.41029750499254,
          -17.39821401250438,
          33.467522602580736,
          25.230715456218743,
          18.92036887720764,
          -6.926417644606734
         ],
         "yaxis": "y"
        },
        {
         "hovertemplate": "Source=CANOE (ZEV, w/NHTS, TTS days)<br>Period=%{x}<br>IEF (g CO2e/kWh)=%{y}<extra></extra>",
         "legendgroup": "CANOE (ZEV, w/NHTS, TTS days)",
         "line": {
          "color": "#00cc96",
          "dash": "solid"
         },
         "marker": {
          "symbol": "circle"
         },
         "mode": "lines",
         "name": "CANOE (ZEV, w/NHTS, TTS days)",
         "orientation": "v",
         "showlegend": true,
         "type": "scatter",
         "x": [
          "2025",
          "2030",
          "2035",
          "2040",
          "2045",
          "2050"
         ],
         "xaxis": "x",
         "y": [
          90.20986189232444,
          52.26400601364982,
          22.33005296770857,
          0.9417441633569229,
          28.84348021057586,
          34.38024327761423
         ],
         "yaxis": "y"
        }
       ],
       "layout": {
        "bargap": 0.1,
        "font": {
         "size": 15
        },
        "height": 500,
        "legend": {
         "orientation": "h",
         "title": {
          "text": ""
         },
         "tracegroupgap": 0,
         "x": 0.5,
         "xanchor": "center",
         "y": -0.16,
         "yanchor": "bottom"
        },
        "margin": {
         "t": 60
        },
        "template": {
         "data": {
          "bar": [
           {
            "error_x": {
             "color": "#2a3f5f"
            },
            "error_y": {
             "color": "#2a3f5f"
            },
            "marker": {
             "line": {
              "color": "white",
              "width": 0.5
             },
             "pattern": {
              "fillmode": "overlay",
              "size": 10,
              "solidity": 0.2
             }
            },
            "type": "bar"
           }
          ],
          "barpolar": [
           {
            "marker": {
             "line": {
              "color": "white",
              "width": 0.5
             },
             "pattern": {
              "fillmode": "overlay",
              "size": 10,
              "solidity": 0.2
             }
            },
            "type": "barpolar"
           }
          ],
          "carpet": [
           {
            "aaxis": {
             "endlinecolor": "#2a3f5f",
             "gridcolor": "#C8D4E3",
             "linecolor": "#C8D4E3",
             "minorgridcolor": "#C8D4E3",
             "startlinecolor": "#2a3f5f"
            },
            "baxis": {
             "endlinecolor": "#2a3f5f",
             "gridcolor": "#C8D4E3",
             "linecolor": "#C8D4E3",
             "minorgridcolor": "#C8D4E3",
             "startlinecolor": "#2a3f5f"
            },
            "type": "carpet"
           }
          ],
          "choropleth": [
           {
            "colorbar": {
             "outlinewidth": 0,
             "ticks": ""
            },
            "type": "choropleth"
           }
          ],
          "contour": [
           {
            "colorbar": {
             "outlinewidth": 0,
             "ticks": ""
            },
            "colorscale": [
             [
              0,
              "#0d0887"
             ],
             [
              0.1111111111111111,
              "#46039f"
             ],
             [
              0.2222222222222222,
              "#7201a8"
             ],
             [
              0.3333333333333333,
              "#9c179e"
             ],
             [
              0.4444444444444444,
              "#bd3786"
             ],
             [
              0.5555555555555556,
              "#d8576b"
             ],
             [
              0.6666666666666666,
              "#ed7953"
             ],
             [
              0.7777777777777778,
              "#fb9f3a"
             ],
             [
              0.8888888888888888,
              "#fdca26"
             ],
             [
              1,
              "#f0f921"
             ]
            ],
            "type": "contour"
           }
          ],
          "contourcarpet": [
           {
            "colorbar": {
             "outlinewidth": 0,
             "ticks": ""
            },
            "type": "contourcarpet"
           }
          ],
          "heatmap": [
           {
            "colorbar": {
             "outlinewidth": 0,
             "ticks": ""
            },
            "colorscale": [
             [
              0,
              "#0d0887"
             ],
             [
              0.1111111111111111,
              "#46039f"
             ],
             [
              0.2222222222222222,
              "#7201a8"
             ],
             [
              0.3333333333333333,
              "#9c179e"
             ],
             [
              0.4444444444444444,
              "#bd3786"
             ],
             [
              0.5555555555555556,
              "#d8576b"
             ],
             [
              0.6666666666666666,
              "#ed7953"
             ],
             [
              0.7777777777777778,
              "#fb9f3a"
             ],
             [
              0.8888888888888888,
              "#fdca26"
             ],
             [
              1,
              "#f0f921"
             ]
            ],
            "type": "heatmap"
           }
          ],
          "heatmapgl": [
           {
            "colorbar": {
             "outlinewidth": 0,
             "ticks": ""
            },
            "colorscale": [
             [
              0,
              "#0d0887"
             ],
             [
              0.1111111111111111,
              "#46039f"
             ],
             [
              0.2222222222222222,
              "#7201a8"
             ],
             [
              0.3333333333333333,
              "#9c179e"
             ],
             [
              0.4444444444444444,
              "#bd3786"
             ],
             [
              0.5555555555555556,
              "#d8576b"
             ],
             [
              0.6666666666666666,
              "#ed7953"
             ],
             [
              0.7777777777777778,
              "#fb9f3a"
             ],
             [
              0.8888888888888888,
              "#fdca26"
             ],
             [
              1,
              "#f0f921"
             ]
            ],
            "type": "heatmapgl"
           }
          ],
          "histogram": [
           {
            "marker": {
             "pattern": {
              "fillmode": "overlay",
              "size": 10,
              "solidity": 0.2
             }
            },
            "type": "histogram"
           }
          ],
          "histogram2d": [
           {
            "colorbar": {
             "outlinewidth": 0,
             "ticks": ""
            },
            "colorscale": [
             [
              0,
              "#0d0887"
             ],
             [
              0.1111111111111111,
              "#46039f"
             ],
             [
              0.2222222222222222,
              "#7201a8"
             ],
             [
              0.3333333333333333,
              "#9c179e"
             ],
             [
              0.4444444444444444,
              "#bd3786"
             ],
             [
              0.5555555555555556,
              "#d8576b"
             ],
             [
              0.6666666666666666,
              "#ed7953"
             ],
             [
              0.7777777777777778,
              "#fb9f3a"
             ],
             [
              0.8888888888888888,
              "#fdca26"
             ],
             [
              1,
              "#f0f921"
             ]
            ],
            "type": "histogram2d"
           }
          ],
          "histogram2dcontour": [
           {
            "colorbar": {
             "outlinewidth": 0,
             "ticks": ""
            },
            "colorscale": [
             [
              0,
              "#0d0887"
             ],
             [
              0.1111111111111111,
              "#46039f"
             ],
             [
              0.2222222222222222,
              "#7201a8"
             ],
             [
              0.3333333333333333,
              "#9c179e"
             ],
             [
              0.4444444444444444,
              "#bd3786"
             ],
             [
              0.5555555555555556,
              "#d8576b"
             ],
             [
              0.6666666666666666,
              "#ed7953"
             ],
             [
              0.7777777777777778,
              "#fb9f3a"
             ],
             [
              0.8888888888888888,
              "#fdca26"
             ],
             [
              1,
              "#f0f921"
             ]
            ],
            "type": "histogram2dcontour"
           }
          ],
          "mesh3d": [
           {
            "colorbar": {
             "outlinewidth": 0,
             "ticks": ""
            },
            "type": "mesh3d"
           }
          ],
          "parcoords": [
           {
            "line": {
             "colorbar": {
              "outlinewidth": 0,
              "ticks": ""
             }
            },
            "type": "parcoords"
           }
          ],
          "pie": [
           {
            "automargin": true,
            "type": "pie"
           }
          ],
          "scatter": [
           {
            "fillpattern": {
             "fillmode": "overlay",
             "size": 10,
             "solidity": 0.2
            },
            "type": "scatter"
           }
          ],
          "scatter3d": [
           {
            "line": {
             "colorbar": {
              "outlinewidth": 0,
              "ticks": ""
             }
            },
            "marker": {
             "colorbar": {
              "outlinewidth": 0,
              "ticks": ""
             }
            },
            "type": "scatter3d"
           }
          ],
          "scattercarpet": [
           {
            "marker": {
             "colorbar": {
              "outlinewidth": 0,
              "ticks": ""
             }
            },
            "type": "scattercarpet"
           }
          ],
          "scattergeo": [
           {
            "marker": {
             "colorbar": {
              "outlinewidth": 0,
              "ticks": ""
             }
            },
            "type": "scattergeo"
           }
          ],
          "scattergl": [
           {
            "marker": {
             "colorbar": {
              "outlinewidth": 0,
              "ticks": ""
             }
            },
            "type": "scattergl"
           }
          ],
          "scattermapbox": [
           {
            "marker": {
             "colorbar": {
              "outlinewidth": 0,
              "ticks": ""
             }
            },
            "type": "scattermapbox"
           }
          ],
          "scatterpolar": [
           {
            "marker": {
             "colorbar": {
              "outlinewidth": 0,
              "ticks": ""
             }
            },
            "type": "scatterpolar"
           }
          ],
          "scatterpolargl": [
           {
            "marker": {
             "colorbar": {
              "outlinewidth": 0,
              "ticks": ""
             }
            },
            "type": "scatterpolargl"
           }
          ],
          "scatterternary": [
           {
            "marker": {
             "colorbar": {
              "outlinewidth": 0,
              "ticks": ""
             }
            },
            "type": "scatterternary"
           }
          ],
          "surface": [
           {
            "colorbar": {
             "outlinewidth": 0,
             "ticks": ""
            },
            "colorscale": [
             [
              0,
              "#0d0887"
             ],
             [
              0.1111111111111111,
              "#46039f"
             ],
             [
              0.2222222222222222,
              "#7201a8"
             ],
             [
              0.3333333333333333,
              "#9c179e"
             ],
             [
              0.4444444444444444,
              "#bd3786"
             ],
             [
              0.5555555555555556,
              "#d8576b"
             ],
             [
              0.6666666666666666,
              "#ed7953"
             ],
             [
              0.7777777777777778,
              "#fb9f3a"
             ],
             [
              0.8888888888888888,
              "#fdca26"
             ],
             [
              1,
              "#f0f921"
             ]
            ],
            "type": "surface"
           }
          ],
          "table": [
           {
            "cells": {
             "fill": {
              "color": "#EBF0F8"
             },
             "line": {
              "color": "white"
             }
            },
            "header": {
             "fill": {
              "color": "#C8D4E3"
             },
             "line": {
              "color": "white"
             }
            },
            "type": "table"
           }
          ]
         },
         "layout": {
          "annotationdefaults": {
           "arrowcolor": "#2a3f5f",
           "arrowhead": 0,
           "arrowwidth": 1
          },
          "autotypenumbers": "strict",
          "coloraxis": {
           "colorbar": {
            "outlinewidth": 0,
            "ticks": ""
           }
          },
          "colorscale": {
           "diverging": [
            [
             0,
             "#8e0152"
            ],
            [
             0.1,
             "#c51b7d"
            ],
            [
             0.2,
             "#de77ae"
            ],
            [
             0.3,
             "#f1b6da"
            ],
            [
             0.4,
             "#fde0ef"
            ],
            [
             0.5,
             "#f7f7f7"
            ],
            [
             0.6,
             "#e6f5d0"
            ],
            [
             0.7,
             "#b8e186"
            ],
            [
             0.8,
             "#7fbc41"
            ],
            [
             0.9,
             "#4d9221"
            ],
            [
             1,
             "#276419"
            ]
           ],
           "sequential": [
            [
             0,
             "#0d0887"
            ],
            [
             0.1111111111111111,
             "#46039f"
            ],
            [
             0.2222222222222222,
             "#7201a8"
            ],
            [
             0.3333333333333333,
             "#9c179e"
            ],
            [
             0.4444444444444444,
             "#bd3786"
            ],
            [
             0.5555555555555556,
             "#d8576b"
            ],
            [
             0.6666666666666666,
             "#ed7953"
            ],
            [
             0.7777777777777778,
             "#fb9f3a"
            ],
            [
             0.8888888888888888,
             "#fdca26"
            ],
            [
             1,
             "#f0f921"
            ]
           ],
           "sequentialminus": [
            [
             0,
             "#0d0887"
            ],
            [
             0.1111111111111111,
             "#46039f"
            ],
            [
             0.2222222222222222,
             "#7201a8"
            ],
            [
             0.3333333333333333,
             "#9c179e"
            ],
            [
             0.4444444444444444,
             "#bd3786"
            ],
            [
             0.5555555555555556,
             "#d8576b"
            ],
            [
             0.6666666666666666,
             "#ed7953"
            ],
            [
             0.7777777777777778,
             "#fb9f3a"
            ],
            [
             0.8888888888888888,
             "#fdca26"
            ],
            [
             1,
             "#f0f921"
            ]
           ]
          },
          "colorway": [
           "#636efa",
           "#EF553B",
           "#00cc96",
           "#ab63fa",
           "#FFA15A",
           "#19d3f3",
           "#FF6692",
           "#B6E880",
           "#FF97FF",
           "#FECB52"
          ],
          "font": {
           "color": "#2a3f5f"
          },
          "geo": {
           "bgcolor": "white",
           "lakecolor": "white",
           "landcolor": "white",
           "showlakes": true,
           "showland": true,
           "subunitcolor": "#C8D4E3"
          },
          "hoverlabel": {
           "align": "left"
          },
          "hovermode": "closest",
          "mapbox": {
           "style": "light"
          },
          "paper_bgcolor": "white",
          "plot_bgcolor": "white",
          "polar": {
           "angularaxis": {
            "gridcolor": "#EBF0F8",
            "linecolor": "#EBF0F8",
            "ticks": ""
           },
           "bgcolor": "white",
           "radialaxis": {
            "gridcolor": "#EBF0F8",
            "linecolor": "#EBF0F8",
            "ticks": ""
           }
          },
          "scene": {
           "xaxis": {
            "backgroundcolor": "white",
            "gridcolor": "#DFE8F3",
            "gridwidth": 2,
            "linecolor": "#EBF0F8",
            "showbackground": true,
            "ticks": "",
            "zerolinecolor": "#EBF0F8"
           },
           "yaxis": {
            "backgroundcolor": "white",
            "gridcolor": "#DFE8F3",
            "gridwidth": 2,
            "linecolor": "#EBF0F8",
            "showbackground": true,
            "ticks": "",
            "zerolinecolor": "#EBF0F8"
           },
           "zaxis": {
            "backgroundcolor": "white",
            "gridcolor": "#DFE8F3",
            "gridwidth": 2,
            "linecolor": "#EBF0F8",
            "showbackground": true,
            "ticks": "",
            "zerolinecolor": "#EBF0F8"
           }
          },
          "shapedefaults": {
           "line": {
            "color": "#2a3f5f"
           }
          },
          "ternary": {
           "aaxis": {
            "gridcolor": "#DFE8F3",
            "linecolor": "#A2B1C6",
            "ticks": ""
           },
           "baxis": {
            "gridcolor": "#DFE8F3",
            "linecolor": "#A2B1C6",
            "ticks": ""
           },
           "bgcolor": "white",
           "caxis": {
            "gridcolor": "#DFE8F3",
            "linecolor": "#A2B1C6",
            "ticks": ""
           }
          },
          "title": {
           "x": 0.05
          },
          "xaxis": {
           "automargin": true,
           "gridcolor": "#EBF0F8",
           "linecolor": "#EBF0F8",
           "ticks": "",
           "title": {
            "standoff": 15
           },
           "zerolinecolor": "#EBF0F8",
           "zerolinewidth": 2
          },
          "yaxis": {
           "automargin": true,
           "gridcolor": "#EBF0F8",
           "linecolor": "#EBF0F8",
           "ticks": "",
           "title": {
            "standoff": 15
           },
           "zerolinecolor": "#EBF0F8",
           "zerolinewidth": 2
          }
         }
        },
        "title": {
         "text": "Incremental emission factors by ZEV scenario (w/different travel surveys)",
         "x": 0.5,
         "xanchor": "center",
         "y": 0.95,
         "yanchor": "top"
        },
        "width": 900,
        "xaxis": {
         "anchor": "y",
         "domain": [
          0,
          1
         ],
         "title": {
          "text": ""
         }
        },
        "yaxis": {
         "anchor": "x",
         "domain": [
          0,
          1
         ],
         "dtick": 30,
         "title": {
          "standoff": 0,
          "text": "IEF (g CO2e/kWh)"
         }
        }
       }
      }
     },
     "metadata": {},
     "output_type": "display_data"
    }
   ],
   "source": [
    "fig_df = pd.concat([ief_tts[['Period', 'IEF (g CO2e/kWh)', 'Source']], ief_nhts[['Period', 'IEF (g CO2e/kWh)', 'Source']], ief_nhts_fixed[['Period', 'IEF (g CO2e/kWh)', 'Source']]]).reset_index(drop=True)\n",
    "fig_df = fig_df[fig_df['Period'] != '2021']\n",
    "\n",
    "fig_df.loc[fig_df['Source'] == 'CANOE (ZEV)', 'Source'] = 'CANOE (ZEV, w/TTS)'\n",
    "fig_df.loc[fig_df['Source'] == 'CANOE (ZEV, NHTS)', 'Source'] = 'CANOE (ZEV, w/NHTS)'\n",
    "fig_df.loc[fig_df['Source'] == 'CANOE (ZEV, NHTS, fixed)', 'Source'] = 'CANOE (ZEV, w/NHTS, TTS days)'\n",
    "\n",
    "\n",
    "fig = px.line(fig_df, x='Period', y='IEF (g CO2e/kWh)', color='Source',\n",
    "              template='plotly_white',\n",
    "              width=900, height=500\n",
    "              )\n",
    "\n",
    "# fig.update_traces(\n",
    "#     line=dict(color=\"red\", dash='solid'),  # Change 'Source' to your specific source name\n",
    "#     selector=dict(name='CANOE (ref)')  # Replace 'Source A' with the actual name\n",
    "# )\n",
    "# fig.update_traces(\n",
    "#     line=dict(color=\"red\", dash='dash'),  # Change 'Source' to your specific source name\n",
    "#     selector=dict(name='CANOE (vanilla)')  # Replace 'Source A' with the actual name\n",
    "# )\n",
    "\n",
    "fig.update_layout(\n",
    "    title=dict(text='Incremental emission factors by ZEV scenario (w/different travel surveys)',\n",
    "               x=0.5,\n",
    "               y=0.95,\n",
    "               xanchor='center',\n",
    "               yanchor='top'\n",
    "               ),\n",
    "    xaxis=dict(title='Period'),\n",
    "    yaxis=dict(title='IEF (g CO2e/kWh)', dtick=30),\n",
    "    yaxis_title_standoff=0,\n",
    "    legend_title_text='',\n",
    "    bargap=0.1,\n",
    "    legend=dict(orientation='h',\n",
    "                yanchor='bottom',\n",
    "                y=-0.16,\n",
    "                xanchor='center',\n",
    "                x=0.5),\n",
    "    font=dict(size=15,\n",
    "              # family=\"Open Sans\"\n",
    "              ))\n",
    "\n",
    "for annotation in fig.layout.annotations:\n",
    "    annotation.text = annotation.text.split('=')[1]\n",
    "    annotation.y = -0.05  \n",
    "    annotation.yanchor = 'top' \n",
    "\n",
    "for axis in fig.layout:\n",
    "    if axis.startswith('xaxis'):\n",
    "        fig.layout[axis].title.text = ''\n",
    "\n",
    "fig.show()\n",
    "fig.write_image(\"IEFs.svg\", scale=1, engine='kaleido')"
   ]
  },
  {
   "cell_type": "markdown",
   "metadata": {},
   "source": [
    "# CANOE vs CEF2023 vs gTech - H2 production"
   ]
  },
  {
   "cell_type": "code",
   "execution_count": 101,
   "metadata": {},
   "outputs": [
    {
     "data": {
      "application/vnd.plotly.v1+json": {
       "config": {
        "plotlyServerURL": "https://plot.ly"
       },
       "data": [
        {
         "alignmentgroup": "True",
         "hovertemplate": "Pathway=Electrolysis<br>Period=2021<br>Source=%{x}<br>Production (PJ)=%{y}<extra></extra>",
         "legendgroup": "Electrolysis",
         "marker": {
          "color": "#3366CC",
          "pattern": {
           "shape": ""
          }
         },
         "name": "Electrolysis",
         "offsetgroup": "Electrolysis",
         "orientation": "v",
         "showlegend": true,
         "textfont": {
          "size": 9
         },
         "textposition": "auto",
         "texttemplate": "%{y:.3f}",
         "type": "bar",
         "x": [
          "CANOE",
          "CEF2023",
          "gTech-IESD"
         ],
         "xaxis": "x",
         "y": [
          0,
          0.056618100000000005,
          0
         ],
         "yaxis": "y"
        },
        {
         "alignmentgroup": "True",
         "hovertemplate": "Pathway=Electrolysis<br>Period=2025<br>Source=%{x}<br>Production (PJ)=%{y}<extra></extra>",
         "legendgroup": "Electrolysis",
         "marker": {
          "color": "#3366CC",
          "pattern": {
           "shape": ""
          }
         },
         "name": "Electrolysis",
         "offsetgroup": "Electrolysis",
         "orientation": "v",
         "showlegend": false,
         "textfont": {
          "size": 9
         },
         "textposition": "auto",
         "texttemplate": "%{y:.3f}",
         "type": "bar",
         "x": [
          "CANOE",
          "CEF2023",
          "gTech-IESD"
         ],
         "xaxis": "x2",
         "y": [
          0,
          0.0796059,
          0.054504795
         ],
         "yaxis": "y2"
        },
        {
         "alignmentgroup": "True",
         "hovertemplate": "Pathway=Electrolysis<br>Period=2030<br>Source=%{x}<br>Production (PJ)=%{y}<extra></extra>",
         "legendgroup": "Electrolysis",
         "marker": {
          "color": "#3366CC",
          "pattern": {
           "shape": ""
          }
         },
         "name": "Electrolysis",
         "offsetgroup": "Electrolysis",
         "orientation": "v",
         "showlegend": false,
         "textfont": {
          "size": 9
         },
         "textposition": "auto",
         "texttemplate": "%{y:.3f}",
         "type": "bar",
         "x": [
          "CANOE",
          "CEF2023",
          "gTech-IESD"
         ],
         "xaxis": "x3",
         "y": [
          0,
          0.09322830000000001,
          1.339339342
         ],
         "yaxis": "y3"
        },
        {
         "alignmentgroup": "True",
         "hovertemplate": "Pathway=Electrolysis<br>Period=2035<br>Source=%{x}<br>Production (PJ)=%{y}<extra></extra>",
         "legendgroup": "Electrolysis",
         "marker": {
          "color": "#3366CC",
          "pattern": {
           "shape": ""
          }
         },
         "name": "Electrolysis",
         "offsetgroup": "Electrolysis",
         "orientation": "v",
         "showlegend": false,
         "textfont": {
          "size": 9
         },
         "textposition": "auto",
         "texttemplate": "%{y:.3f}",
         "type": "bar",
         "x": [
          "CANOE",
          "CEF2023",
          "gTech-IESD"
         ],
         "xaxis": "x4",
         "y": [
          0,
          0.2544267,
          0
         ],
         "yaxis": "y4"
        },
        {
         "alignmentgroup": "True",
         "hovertemplate": "Pathway=Electrolysis<br>Period=2040<br>Source=%{x}<br>Production (PJ)=%{y}<extra></extra>",
         "legendgroup": "Electrolysis",
         "marker": {
          "color": "#3366CC",
          "pattern": {
           "shape": ""
          }
         },
         "name": "Electrolysis",
         "offsetgroup": "Electrolysis",
         "orientation": "v",
         "showlegend": false,
         "textfont": {
          "size": 9
         },
         "textposition": "auto",
         "texttemplate": "%{y:.3f}",
         "type": "bar",
         "x": [
          "CANOE",
          "CEF2023",
          "gTech-IESD"
         ],
         "xaxis": "x5",
         "y": [
          0,
          0.5050221,
          0
         ],
         "yaxis": "y5"
        },
        {
         "alignmentgroup": "True",
         "hovertemplate": "Pathway=Electrolysis<br>Period=2045<br>Source=%{x}<br>Production (PJ)=%{y}<extra></extra>",
         "legendgroup": "Electrolysis",
         "marker": {
          "color": "#3366CC",
          "pattern": {
           "shape": ""
          }
         },
         "name": "Electrolysis",
         "offsetgroup": "Electrolysis",
         "orientation": "v",
         "showlegend": false,
         "textfont": {
          "size": 9
         },
         "textposition": "auto",
         "texttemplate": "%{y:.3f}",
         "type": "bar",
         "x": [
          "CANOE",
          "CEF2023",
          "gTech-IESD"
         ],
         "xaxis": "x6",
         "y": [
          0,
          0.7710846,
          0
         ],
         "yaxis": "y6"
        },
        {
         "alignmentgroup": "True",
         "hovertemplate": "Pathway=Electrolysis<br>Period=2050<br>Source=%{x}<br>Production (PJ)=%{y}<extra></extra>",
         "legendgroup": "Electrolysis",
         "marker": {
          "color": "#3366CC",
          "pattern": {
           "shape": ""
          }
         },
         "name": "Electrolysis",
         "offsetgroup": "Electrolysis",
         "orientation": "v",
         "showlegend": false,
         "textfont": {
          "size": 9
         },
         "textposition": "auto",
         "texttemplate": "%{y:.3f}",
         "type": "bar",
         "x": [
          "CANOE",
          "CEF2023",
          "gTech-IESD"
         ],
         "xaxis": "x7",
         "y": [
          0,
          0.9775491000000001,
          0
         ],
         "yaxis": "y7"
        },
        {
         "alignmentgroup": "True",
         "hovertemplate": "Pathway=SMR w/o CCS<br>Period=2021<br>Source=%{x}<br>Production (PJ)=%{y}<extra></extra>",
         "legendgroup": "SMR w/o CCS",
         "marker": {
          "color": "#DC3912",
          "pattern": {
           "shape": ""
          }
         },
         "name": "SMR w/o CCS",
         "offsetgroup": "SMR w/o CCS",
         "orientation": "v",
         "showlegend": true,
         "textfont": {
          "size": 9
         },
         "textposition": "auto",
         "texttemplate": "%{y:.3f}",
         "type": "bar",
         "x": [
          "CANOE"
         ],
         "xaxis": "x",
         "y": [
          0
         ],
         "yaxis": "y"
        },
        {
         "alignmentgroup": "True",
         "hovertemplate": "Pathway=SMR w/o CCS<br>Period=2025<br>Source=%{x}<br>Production (PJ)=%{y}<extra></extra>",
         "legendgroup": "SMR w/o CCS",
         "marker": {
          "color": "#DC3912",
          "pattern": {
           "shape": ""
          }
         },
         "name": "SMR w/o CCS",
         "offsetgroup": "SMR w/o CCS",
         "orientation": "v",
         "showlegend": false,
         "textfont": {
          "size": 9
         },
         "textposition": "auto",
         "texttemplate": "%{y:.3f}",
         "type": "bar",
         "x": [
          "CANOE"
         ],
         "xaxis": "x2",
         "y": [
          4.167050860443615
         ],
         "yaxis": "y2"
        },
        {
         "alignmentgroup": "True",
         "hovertemplate": "Pathway=SMR w/o CCS<br>Period=2030<br>Source=%{x}<br>Production (PJ)=%{y}<extra></extra>",
         "legendgroup": "SMR w/o CCS",
         "marker": {
          "color": "#DC3912",
          "pattern": {
           "shape": ""
          }
         },
         "name": "SMR w/o CCS",
         "offsetgroup": "SMR w/o CCS",
         "orientation": "v",
         "showlegend": false,
         "textfont": {
          "size": 9
         },
         "textposition": "auto",
         "texttemplate": "%{y:.3f}",
         "type": "bar",
         "x": [
          "CANOE"
         ],
         "xaxis": "x3",
         "y": [
          13.23950638036661
         ],
         "yaxis": "y3"
        },
        {
         "alignmentgroup": "True",
         "hovertemplate": "Pathway=SMR w/o CCS<br>Period=2035<br>Source=%{x}<br>Production (PJ)=%{y}<extra></extra>",
         "legendgroup": "SMR w/o CCS",
         "marker": {
          "color": "#DC3912",
          "pattern": {
           "shape": ""
          }
         },
         "name": "SMR w/o CCS",
         "offsetgroup": "SMR w/o CCS",
         "orientation": "v",
         "showlegend": false,
         "textfont": {
          "size": 9
         },
         "textposition": "auto",
         "texttemplate": "%{y:.3f}",
         "type": "bar",
         "x": [
          "CANOE"
         ],
         "xaxis": "x4",
         "y": [
          29.50457607728805
         ],
         "yaxis": "y4"
        },
        {
         "alignmentgroup": "True",
         "hovertemplate": "Pathway=SMR w/o CCS<br>Period=2040<br>Source=%{x}<br>Production (PJ)=%{y}<extra></extra>",
         "legendgroup": "SMR w/o CCS",
         "marker": {
          "color": "#DC3912",
          "pattern": {
           "shape": ""
          }
         },
         "name": "SMR w/o CCS",
         "offsetgroup": "SMR w/o CCS",
         "orientation": "v",
         "showlegend": false,
         "textfont": {
          "size": 9
         },
         "textposition": "auto",
         "texttemplate": "%{y:.3f}",
         "type": "bar",
         "x": [
          "CANOE"
         ],
         "xaxis": "x5",
         "y": [
          50.8996575381022
         ],
         "yaxis": "y5"
        },
        {
         "alignmentgroup": "True",
         "hovertemplate": "Pathway=SMR w/o CCS<br>Period=2045<br>Source=%{x}<br>Production (PJ)=%{y}<extra></extra>",
         "legendgroup": "SMR w/o CCS",
         "marker": {
          "color": "#DC3912",
          "pattern": {
           "shape": ""
          }
         },
         "name": "SMR w/o CCS",
         "offsetgroup": "SMR w/o CCS",
         "orientation": "v",
         "showlegend": false,
         "textfont": {
          "size": 9
         },
         "textposition": "auto",
         "texttemplate": "%{y:.3f}",
         "type": "bar",
         "x": [
          "CANOE"
         ],
         "xaxis": "x6",
         "y": [
          61.45755336046578
         ],
         "yaxis": "y6"
        },
        {
         "alignmentgroup": "True",
         "hovertemplate": "Pathway=SMR w/o CCS<br>Period=2050<br>Source=%{x}<br>Production (PJ)=%{y}<extra></extra>",
         "legendgroup": "SMR w/o CCS",
         "marker": {
          "color": "#DC3912",
          "pattern": {
           "shape": ""
          }
         },
         "name": "SMR w/o CCS",
         "offsetgroup": "SMR w/o CCS",
         "orientation": "v",
         "showlegend": false,
         "textfont": {
          "size": 9
         },
         "textposition": "auto",
         "texttemplate": "%{y:.3f}",
         "type": "bar",
         "x": [
          "CANOE"
         ],
         "xaxis": "x7",
         "y": [
          72.27550338573322
         ],
         "yaxis": "y7"
        },
        {
         "alignmentgroup": "True",
         "hovertemplate": "Pathway=Biomass<br>Period=2021<br>Source=%{x}<br>Production (PJ)=%{y}<extra></extra>",
         "legendgroup": "Biomass",
         "marker": {
          "color": "#FF9900",
          "pattern": {
           "shape": ""
          }
         },
         "name": "Biomass",
         "offsetgroup": "Biomass",
         "orientation": "v",
         "showlegend": true,
         "textfont": {
          "size": 9
         },
         "textposition": "auto",
         "texttemplate": "%{y:.3f}",
         "type": "bar",
         "x": [
          "CEF2023"
         ],
         "xaxis": "x",
         "y": [
          0
         ],
         "yaxis": "y"
        },
        {
         "alignmentgroup": "True",
         "hovertemplate": "Pathway=Biomass<br>Period=2025<br>Source=%{x}<br>Production (PJ)=%{y}<extra></extra>",
         "legendgroup": "Biomass",
         "marker": {
          "color": "#FF9900",
          "pattern": {
           "shape": ""
          }
         },
         "name": "Biomass",
         "offsetgroup": "Biomass",
         "orientation": "v",
         "showlegend": false,
         "textfont": {
          "size": 9
         },
         "textposition": "auto",
         "texttemplate": "%{y:.3f}",
         "type": "bar",
         "x": [
          "CEF2023"
         ],
         "xaxis": "x2",
         "y": [
          0
         ],
         "yaxis": "y2"
        },
        {
         "alignmentgroup": "True",
         "hovertemplate": "Pathway=Biomass<br>Period=2030<br>Source=%{x}<br>Production (PJ)=%{y}<extra></extra>",
         "legendgroup": "Biomass",
         "marker": {
          "color": "#FF9900",
          "pattern": {
           "shape": ""
          }
         },
         "name": "Biomass",
         "offsetgroup": "Biomass",
         "orientation": "v",
         "showlegend": false,
         "textfont": {
          "size": 9
         },
         "textposition": "auto",
         "texttemplate": "%{y:.3f}",
         "type": "bar",
         "x": [
          "CEF2023"
         ],
         "xaxis": "x3",
         "y": [
          0
         ],
         "yaxis": "y3"
        },
        {
         "alignmentgroup": "True",
         "hovertemplate": "Pathway=Biomass<br>Period=2035<br>Source=%{x}<br>Production (PJ)=%{y}<extra></extra>",
         "legendgroup": "Biomass",
         "marker": {
          "color": "#FF9900",
          "pattern": {
           "shape": ""
          }
         },
         "name": "Biomass",
         "offsetgroup": "Biomass",
         "orientation": "v",
         "showlegend": false,
         "textfont": {
          "size": 9
         },
         "textposition": "auto",
         "texttemplate": "%{y:.3f}",
         "type": "bar",
         "x": [
          "CEF2023"
         ],
         "xaxis": "x4",
         "y": [
          0
         ],
         "yaxis": "y4"
        },
        {
         "alignmentgroup": "True",
         "hovertemplate": "Pathway=Biomass<br>Period=2040<br>Source=%{x}<br>Production (PJ)=%{y}<extra></extra>",
         "legendgroup": "Biomass",
         "marker": {
          "color": "#FF9900",
          "pattern": {
           "shape": ""
          }
         },
         "name": "Biomass",
         "offsetgroup": "Biomass",
         "orientation": "v",
         "showlegend": false,
         "textfont": {
          "size": 9
         },
         "textposition": "auto",
         "texttemplate": "%{y:.3f}",
         "type": "bar",
         "x": [
          "CEF2023"
         ],
         "xaxis": "x5",
         "y": [
          0
         ],
         "yaxis": "y5"
        },
        {
         "alignmentgroup": "True",
         "hovertemplate": "Pathway=Biomass<br>Period=2045<br>Source=%{x}<br>Production (PJ)=%{y}<extra></extra>",
         "legendgroup": "Biomass",
         "marker": {
          "color": "#FF9900",
          "pattern": {
           "shape": ""
          }
         },
         "name": "Biomass",
         "offsetgroup": "Biomass",
         "orientation": "v",
         "showlegend": false,
         "textfont": {
          "size": 9
         },
         "textposition": "auto",
         "texttemplate": "%{y:.3f}",
         "type": "bar",
         "x": [
          "CEF2023"
         ],
         "xaxis": "x6",
         "y": [
          0
         ],
         "yaxis": "y6"
        },
        {
         "alignmentgroup": "True",
         "hovertemplate": "Pathway=Biomass<br>Period=2050<br>Source=%{x}<br>Production (PJ)=%{y}<extra></extra>",
         "legendgroup": "Biomass",
         "marker": {
          "color": "#FF9900",
          "pattern": {
           "shape": ""
          }
         },
         "name": "Biomass",
         "offsetgroup": "Biomass",
         "orientation": "v",
         "showlegend": false,
         "textfont": {
          "size": 9
         },
         "textposition": "auto",
         "texttemplate": "%{y:.3f}",
         "type": "bar",
         "x": [
          "CEF2023"
         ],
         "xaxis": "x7",
         "y": [
          0
         ],
         "yaxis": "y7"
        },
        {
         "alignmentgroup": "True",
         "hovertemplate": "Pathway=SMR w CCS<br>Period=2021<br>Source=%{x}<br>Production (PJ)=%{y}<extra></extra>",
         "legendgroup": "SMR w CCS",
         "marker": {
          "color": "#109618",
          "pattern": {
           "shape": ""
          }
         },
         "name": "SMR w CCS",
         "offsetgroup": "SMR w CCS",
         "orientation": "v",
         "showlegend": true,
         "textfont": {
          "size": 9
         },
         "textposition": "auto",
         "texttemplate": "%{y:.3f}",
         "type": "bar",
         "x": [
          "CEF2023",
          "gTech-IESD"
         ],
         "xaxis": "x",
         "y": [
          0,
          0
         ],
         "yaxis": "y"
        },
        {
         "alignmentgroup": "True",
         "hovertemplate": "Pathway=SMR w CCS<br>Period=2025<br>Source=%{x}<br>Production (PJ)=%{y}<extra></extra>",
         "legendgroup": "SMR w CCS",
         "marker": {
          "color": "#109618",
          "pattern": {
           "shape": ""
          }
         },
         "name": "SMR w CCS",
         "offsetgroup": "SMR w CCS",
         "orientation": "v",
         "showlegend": false,
         "textfont": {
          "size": 9
         },
         "textposition": "auto",
         "texttemplate": "%{y:.3f}",
         "type": "bar",
         "x": [
          "CEF2023",
          "gTech-IESD"
         ],
         "xaxis": "x2",
         "y": [
          0,
          0
         ],
         "yaxis": "y2"
        },
        {
         "alignmentgroup": "True",
         "hovertemplate": "Pathway=SMR w CCS<br>Period=2030<br>Source=%{x}<br>Production (PJ)=%{y}<extra></extra>",
         "legendgroup": "SMR w CCS",
         "marker": {
          "color": "#109618",
          "pattern": {
           "shape": ""
          }
         },
         "name": "SMR w CCS",
         "offsetgroup": "SMR w CCS",
         "orientation": "v",
         "showlegend": false,
         "textfont": {
          "size": 9
         },
         "textposition": "auto",
         "texttemplate": "%{y:.3f}",
         "type": "bar",
         "x": [
          "CEF2023",
          "gTech-IESD"
         ],
         "xaxis": "x3",
         "y": [
          0,
          0
         ],
         "yaxis": "y3"
        },
        {
         "alignmentgroup": "True",
         "hovertemplate": "Pathway=SMR w CCS<br>Period=2035<br>Source=%{x}<br>Production (PJ)=%{y}<extra></extra>",
         "legendgroup": "SMR w CCS",
         "marker": {
          "color": "#109618",
          "pattern": {
           "shape": ""
          }
         },
         "name": "SMR w CCS",
         "offsetgroup": "SMR w CCS",
         "orientation": "v",
         "showlegend": false,
         "textfont": {
          "size": 9
         },
         "textposition": "auto",
         "texttemplate": "%{y:.3f}",
         "type": "bar",
         "x": [
          "CEF2023",
          "gTech-IESD"
         ],
         "xaxis": "x4",
         "y": [
          0,
          3.785101746
         ],
         "yaxis": "y4"
        },
        {
         "alignmentgroup": "True",
         "hovertemplate": "Pathway=SMR w CCS<br>Period=2040<br>Source=%{x}<br>Production (PJ)=%{y}<extra></extra>",
         "legendgroup": "SMR w CCS",
         "marker": {
          "color": "#109618",
          "pattern": {
           "shape": ""
          }
         },
         "name": "SMR w CCS",
         "offsetgroup": "SMR w CCS",
         "orientation": "v",
         "showlegend": false,
         "textfont": {
          "size": 9
         },
         "textposition": "auto",
         "texttemplate": "%{y:.3f}",
         "type": "bar",
         "x": [
          "CEF2023",
          "gTech-IESD"
         ],
         "xaxis": "x5",
         "y": [
          0,
          6.59848512
         ],
         "yaxis": "y5"
        },
        {
         "alignmentgroup": "True",
         "hovertemplate": "Pathway=SMR w CCS<br>Period=2045<br>Source=%{x}<br>Production (PJ)=%{y}<extra></extra>",
         "legendgroup": "SMR w CCS",
         "marker": {
          "color": "#109618",
          "pattern": {
           "shape": ""
          }
         },
         "name": "SMR w CCS",
         "offsetgroup": "SMR w CCS",
         "orientation": "v",
         "showlegend": false,
         "textfont": {
          "size": 9
         },
         "textposition": "auto",
         "texttemplate": "%{y:.3f}",
         "type": "bar",
         "x": [
          "CEF2023",
          "gTech-IESD"
         ],
         "xaxis": "x6",
         "y": [
          0,
          9.077010615
         ],
         "yaxis": "y6"
        },
        {
         "alignmentgroup": "True",
         "hovertemplate": "Pathway=SMR w CCS<br>Period=2050<br>Source=%{x}<br>Production (PJ)=%{y}<extra></extra>",
         "legendgroup": "SMR w CCS",
         "marker": {
          "color": "#109618",
          "pattern": {
           "shape": ""
          }
         },
         "name": "SMR w CCS",
         "offsetgroup": "SMR w CCS",
         "orientation": "v",
         "showlegend": false,
         "textfont": {
          "size": 9
         },
         "textposition": "auto",
         "texttemplate": "%{y:.3f}",
         "type": "bar",
         "x": [
          "CEF2023",
          "gTech-IESD"
         ],
         "xaxis": "x7",
         "y": [
          0,
          10.58961938
         ],
         "yaxis": "y7"
        }
       ],
       "layout": {
        "annotations": [
         {
          "font": {},
          "showarrow": false,
          "text": "2021",
          "x": 0.06285714285714285,
          "xanchor": "center",
          "xref": "paper",
          "y": -0.1,
          "yanchor": "top",
          "yref": "paper"
         },
         {
          "font": {},
          "showarrow": false,
          "text": "2025",
          "x": 0.20857142857142852,
          "xanchor": "center",
          "xref": "paper",
          "y": -0.1,
          "yanchor": "top",
          "yref": "paper"
         },
         {
          "font": {},
          "showarrow": false,
          "text": "2030",
          "x": 0.3542857142857142,
          "xanchor": "center",
          "xref": "paper",
          "y": -0.1,
          "yanchor": "top",
          "yref": "paper"
         },
         {
          "font": {},
          "showarrow": false,
          "text": "2035",
          "x": 0.5,
          "xanchor": "center",
          "xref": "paper",
          "y": -0.1,
          "yanchor": "top",
          "yref": "paper"
         },
         {
          "font": {},
          "showarrow": false,
          "text": "2040",
          "x": 0.6457142857142856,
          "xanchor": "center",
          "xref": "paper",
          "y": -0.1,
          "yanchor": "top",
          "yref": "paper"
         },
         {
          "font": {},
          "showarrow": false,
          "text": "2045",
          "x": 0.7914285714285713,
          "xanchor": "center",
          "xref": "paper",
          "y": -0.1,
          "yanchor": "top",
          "yref": "paper"
         },
         {
          "font": {},
          "showarrow": false,
          "text": "2050",
          "x": 0.937142857142857,
          "xanchor": "center",
          "xref": "paper",
          "y": -0.1,
          "yanchor": "top",
          "yref": "paper"
         }
        ],
        "bargap": 0.1,
        "barmode": "stack",
        "font": {
         "size": 14
        },
        "height": 650,
        "legend": {
         "orientation": "h",
         "title": {
          "text": ""
         },
         "tracegroupgap": 0,
         "x": 0.5,
         "xanchor": "center",
         "y": 1.04,
         "yanchor": "top"
        },
        "margin": {
         "t": 60
        },
        "template": {
         "data": {
          "bar": [
           {
            "error_x": {
             "color": "#2a3f5f"
            },
            "error_y": {
             "color": "#2a3f5f"
            },
            "marker": {
             "line": {
              "color": "white",
              "width": 0.5
             },
             "pattern": {
              "fillmode": "overlay",
              "size": 10,
              "solidity": 0.2
             }
            },
            "type": "bar"
           }
          ],
          "barpolar": [
           {
            "marker": {
             "line": {
              "color": "white",
              "width": 0.5
             },
             "pattern": {
              "fillmode": "overlay",
              "size": 10,
              "solidity": 0.2
             }
            },
            "type": "barpolar"
           }
          ],
          "carpet": [
           {
            "aaxis": {
             "endlinecolor": "#2a3f5f",
             "gridcolor": "#C8D4E3",
             "linecolor": "#C8D4E3",
             "minorgridcolor": "#C8D4E3",
             "startlinecolor": "#2a3f5f"
            },
            "baxis": {
             "endlinecolor": "#2a3f5f",
             "gridcolor": "#C8D4E3",
             "linecolor": "#C8D4E3",
             "minorgridcolor": "#C8D4E3",
             "startlinecolor": "#2a3f5f"
            },
            "type": "carpet"
           }
          ],
          "choropleth": [
           {
            "colorbar": {
             "outlinewidth": 0,
             "ticks": ""
            },
            "type": "choropleth"
           }
          ],
          "contour": [
           {
            "colorbar": {
             "outlinewidth": 0,
             "ticks": ""
            },
            "colorscale": [
             [
              0,
              "#0d0887"
             ],
             [
              0.1111111111111111,
              "#46039f"
             ],
             [
              0.2222222222222222,
              "#7201a8"
             ],
             [
              0.3333333333333333,
              "#9c179e"
             ],
             [
              0.4444444444444444,
              "#bd3786"
             ],
             [
              0.5555555555555556,
              "#d8576b"
             ],
             [
              0.6666666666666666,
              "#ed7953"
             ],
             [
              0.7777777777777778,
              "#fb9f3a"
             ],
             [
              0.8888888888888888,
              "#fdca26"
             ],
             [
              1,
              "#f0f921"
             ]
            ],
            "type": "contour"
           }
          ],
          "contourcarpet": [
           {
            "colorbar": {
             "outlinewidth": 0,
             "ticks": ""
            },
            "type": "contourcarpet"
           }
          ],
          "heatmap": [
           {
            "colorbar": {
             "outlinewidth": 0,
             "ticks": ""
            },
            "colorscale": [
             [
              0,
              "#0d0887"
             ],
             [
              0.1111111111111111,
              "#46039f"
             ],
             [
              0.2222222222222222,
              "#7201a8"
             ],
             [
              0.3333333333333333,
              "#9c179e"
             ],
             [
              0.4444444444444444,
              "#bd3786"
             ],
             [
              0.5555555555555556,
              "#d8576b"
             ],
             [
              0.6666666666666666,
              "#ed7953"
             ],
             [
              0.7777777777777778,
              "#fb9f3a"
             ],
             [
              0.8888888888888888,
              "#fdca26"
             ],
             [
              1,
              "#f0f921"
             ]
            ],
            "type": "heatmap"
           }
          ],
          "heatmapgl": [
           {
            "colorbar": {
             "outlinewidth": 0,
             "ticks": ""
            },
            "colorscale": [
             [
              0,
              "#0d0887"
             ],
             [
              0.1111111111111111,
              "#46039f"
             ],
             [
              0.2222222222222222,
              "#7201a8"
             ],
             [
              0.3333333333333333,
              "#9c179e"
             ],
             [
              0.4444444444444444,
              "#bd3786"
             ],
             [
              0.5555555555555556,
              "#d8576b"
             ],
             [
              0.6666666666666666,
              "#ed7953"
             ],
             [
              0.7777777777777778,
              "#fb9f3a"
             ],
             [
              0.8888888888888888,
              "#fdca26"
             ],
             [
              1,
              "#f0f921"
             ]
            ],
            "type": "heatmapgl"
           }
          ],
          "histogram": [
           {
            "marker": {
             "pattern": {
              "fillmode": "overlay",
              "size": 10,
              "solidity": 0.2
             }
            },
            "type": "histogram"
           }
          ],
          "histogram2d": [
           {
            "colorbar": {
             "outlinewidth": 0,
             "ticks": ""
            },
            "colorscale": [
             [
              0,
              "#0d0887"
             ],
             [
              0.1111111111111111,
              "#46039f"
             ],
             [
              0.2222222222222222,
              "#7201a8"
             ],
             [
              0.3333333333333333,
              "#9c179e"
             ],
             [
              0.4444444444444444,
              "#bd3786"
             ],
             [
              0.5555555555555556,
              "#d8576b"
             ],
             [
              0.6666666666666666,
              "#ed7953"
             ],
             [
              0.7777777777777778,
              "#fb9f3a"
             ],
             [
              0.8888888888888888,
              "#fdca26"
             ],
             [
              1,
              "#f0f921"
             ]
            ],
            "type": "histogram2d"
           }
          ],
          "histogram2dcontour": [
           {
            "colorbar": {
             "outlinewidth": 0,
             "ticks": ""
            },
            "colorscale": [
             [
              0,
              "#0d0887"
             ],
             [
              0.1111111111111111,
              "#46039f"
             ],
             [
              0.2222222222222222,
              "#7201a8"
             ],
             [
              0.3333333333333333,
              "#9c179e"
             ],
             [
              0.4444444444444444,
              "#bd3786"
             ],
             [
              0.5555555555555556,
              "#d8576b"
             ],
             [
              0.6666666666666666,
              "#ed7953"
             ],
             [
              0.7777777777777778,
              "#fb9f3a"
             ],
             [
              0.8888888888888888,
              "#fdca26"
             ],
             [
              1,
              "#f0f921"
             ]
            ],
            "type": "histogram2dcontour"
           }
          ],
          "mesh3d": [
           {
            "colorbar": {
             "outlinewidth": 0,
             "ticks": ""
            },
            "type": "mesh3d"
           }
          ],
          "parcoords": [
           {
            "line": {
             "colorbar": {
              "outlinewidth": 0,
              "ticks": ""
             }
            },
            "type": "parcoords"
           }
          ],
          "pie": [
           {
            "automargin": true,
            "type": "pie"
           }
          ],
          "scatter": [
           {
            "fillpattern": {
             "fillmode": "overlay",
             "size": 10,
             "solidity": 0.2
            },
            "type": "scatter"
           }
          ],
          "scatter3d": [
           {
            "line": {
             "colorbar": {
              "outlinewidth": 0,
              "ticks": ""
             }
            },
            "marker": {
             "colorbar": {
              "outlinewidth": 0,
              "ticks": ""
             }
            },
            "type": "scatter3d"
           }
          ],
          "scattercarpet": [
           {
            "marker": {
             "colorbar": {
              "outlinewidth": 0,
              "ticks": ""
             }
            },
            "type": "scattercarpet"
           }
          ],
          "scattergeo": [
           {
            "marker": {
             "colorbar": {
              "outlinewidth": 0,
              "ticks": ""
             }
            },
            "type": "scattergeo"
           }
          ],
          "scattergl": [
           {
            "marker": {
             "colorbar": {
              "outlinewidth": 0,
              "ticks": ""
             }
            },
            "type": "scattergl"
           }
          ],
          "scattermapbox": [
           {
            "marker": {
             "colorbar": {
              "outlinewidth": 0,
              "ticks": ""
             }
            },
            "type": "scattermapbox"
           }
          ],
          "scatterpolar": [
           {
            "marker": {
             "colorbar": {
              "outlinewidth": 0,
              "ticks": ""
             }
            },
            "type": "scatterpolar"
           }
          ],
          "scatterpolargl": [
           {
            "marker": {
             "colorbar": {
              "outlinewidth": 0,
              "ticks": ""
             }
            },
            "type": "scatterpolargl"
           }
          ],
          "scatterternary": [
           {
            "marker": {
             "colorbar": {
              "outlinewidth": 0,
              "ticks": ""
             }
            },
            "type": "scatterternary"
           }
          ],
          "surface": [
           {
            "colorbar": {
             "outlinewidth": 0,
             "ticks": ""
            },
            "colorscale": [
             [
              0,
              "#0d0887"
             ],
             [
              0.1111111111111111,
              "#46039f"
             ],
             [
              0.2222222222222222,
              "#7201a8"
             ],
             [
              0.3333333333333333,
              "#9c179e"
             ],
             [
              0.4444444444444444,
              "#bd3786"
             ],
             [
              0.5555555555555556,
              "#d8576b"
             ],
             [
              0.6666666666666666,
              "#ed7953"
             ],
             [
              0.7777777777777778,
              "#fb9f3a"
             ],
             [
              0.8888888888888888,
              "#fdca26"
             ],
             [
              1,
              "#f0f921"
             ]
            ],
            "type": "surface"
           }
          ],
          "table": [
           {
            "cells": {
             "fill": {
              "color": "#EBF0F8"
             },
             "line": {
              "color": "white"
             }
            },
            "header": {
             "fill": {
              "color": "#C8D4E3"
             },
             "line": {
              "color": "white"
             }
            },
            "type": "table"
           }
          ]
         },
         "layout": {
          "annotationdefaults": {
           "arrowcolor": "#2a3f5f",
           "arrowhead": 0,
           "arrowwidth": 1
          },
          "autotypenumbers": "strict",
          "coloraxis": {
           "colorbar": {
            "outlinewidth": 0,
            "ticks": ""
           }
          },
          "colorscale": {
           "diverging": [
            [
             0,
             "#8e0152"
            ],
            [
             0.1,
             "#c51b7d"
            ],
            [
             0.2,
             "#de77ae"
            ],
            [
             0.3,
             "#f1b6da"
            ],
            [
             0.4,
             "#fde0ef"
            ],
            [
             0.5,
             "#f7f7f7"
            ],
            [
             0.6,
             "#e6f5d0"
            ],
            [
             0.7,
             "#b8e186"
            ],
            [
             0.8,
             "#7fbc41"
            ],
            [
             0.9,
             "#4d9221"
            ],
            [
             1,
             "#276419"
            ]
           ],
           "sequential": [
            [
             0,
             "#0d0887"
            ],
            [
             0.1111111111111111,
             "#46039f"
            ],
            [
             0.2222222222222222,
             "#7201a8"
            ],
            [
             0.3333333333333333,
             "#9c179e"
            ],
            [
             0.4444444444444444,
             "#bd3786"
            ],
            [
             0.5555555555555556,
             "#d8576b"
            ],
            [
             0.6666666666666666,
             "#ed7953"
            ],
            [
             0.7777777777777778,
             "#fb9f3a"
            ],
            [
             0.8888888888888888,
             "#fdca26"
            ],
            [
             1,
             "#f0f921"
            ]
           ],
           "sequentialminus": [
            [
             0,
             "#0d0887"
            ],
            [
             0.1111111111111111,
             "#46039f"
            ],
            [
             0.2222222222222222,
             "#7201a8"
            ],
            [
             0.3333333333333333,
             "#9c179e"
            ],
            [
             0.4444444444444444,
             "#bd3786"
            ],
            [
             0.5555555555555556,
             "#d8576b"
            ],
            [
             0.6666666666666666,
             "#ed7953"
            ],
            [
             0.7777777777777778,
             "#fb9f3a"
            ],
            [
             0.8888888888888888,
             "#fdca26"
            ],
            [
             1,
             "#f0f921"
            ]
           ]
          },
          "colorway": [
           "#636efa",
           "#EF553B",
           "#00cc96",
           "#ab63fa",
           "#FFA15A",
           "#19d3f3",
           "#FF6692",
           "#B6E880",
           "#FF97FF",
           "#FECB52"
          ],
          "font": {
           "color": "#2a3f5f"
          },
          "geo": {
           "bgcolor": "white",
           "lakecolor": "white",
           "landcolor": "white",
           "showlakes": true,
           "showland": true,
           "subunitcolor": "#C8D4E3"
          },
          "hoverlabel": {
           "align": "left"
          },
          "hovermode": "closest",
          "mapbox": {
           "style": "light"
          },
          "paper_bgcolor": "white",
          "plot_bgcolor": "white",
          "polar": {
           "angularaxis": {
            "gridcolor": "#EBF0F8",
            "linecolor": "#EBF0F8",
            "ticks": ""
           },
           "bgcolor": "white",
           "radialaxis": {
            "gridcolor": "#EBF0F8",
            "linecolor": "#EBF0F8",
            "ticks": ""
           }
          },
          "scene": {
           "xaxis": {
            "backgroundcolor": "white",
            "gridcolor": "#DFE8F3",
            "gridwidth": 2,
            "linecolor": "#EBF0F8",
            "showbackground": true,
            "ticks": "",
            "zerolinecolor": "#EBF0F8"
           },
           "yaxis": {
            "backgroundcolor": "white",
            "gridcolor": "#DFE8F3",
            "gridwidth": 2,
            "linecolor": "#EBF0F8",
            "showbackground": true,
            "ticks": "",
            "zerolinecolor": "#EBF0F8"
           },
           "zaxis": {
            "backgroundcolor": "white",
            "gridcolor": "#DFE8F3",
            "gridwidth": 2,
            "linecolor": "#EBF0F8",
            "showbackground": true,
            "ticks": "",
            "zerolinecolor": "#EBF0F8"
           }
          },
          "shapedefaults": {
           "line": {
            "color": "#2a3f5f"
           }
          },
          "ternary": {
           "aaxis": {
            "gridcolor": "#DFE8F3",
            "linecolor": "#A2B1C6",
            "ticks": ""
           },
           "baxis": {
            "gridcolor": "#DFE8F3",
            "linecolor": "#A2B1C6",
            "ticks": ""
           },
           "bgcolor": "white",
           "caxis": {
            "gridcolor": "#DFE8F3",
            "linecolor": "#A2B1C6",
            "ticks": ""
           }
          },
          "title": {
           "x": 0.05
          },
          "xaxis": {
           "automargin": true,
           "gridcolor": "#EBF0F8",
           "linecolor": "#EBF0F8",
           "ticks": "",
           "title": {
            "standoff": 15
           },
           "zerolinecolor": "#EBF0F8",
           "zerolinewidth": 2
          },
          "yaxis": {
           "automargin": true,
           "gridcolor": "#EBF0F8",
           "linecolor": "#EBF0F8",
           "ticks": "",
           "title": {
            "standoff": 15
           },
           "zerolinecolor": "#EBF0F8",
           "zerolinewidth": 2
          }
         }
        },
        "title": {
         "text": "H2 production in ON by pathway and energy model",
         "x": 0.5,
         "xanchor": "center",
         "y": 0.97,
         "yanchor": "top"
        },
        "width": 1150,
        "xaxis": {
         "anchor": "y",
         "domain": [
          0,
          0.1257142857142857
         ],
         "title": {
          "text": ""
         }
        },
        "xaxis2": {
         "anchor": "y2",
         "domain": [
          0.14571428571428569,
          0.27142857142857135
         ],
         "matches": "x",
         "title": {
          "text": ""
         }
        },
        "xaxis3": {
         "anchor": "y3",
         "domain": [
          0.29142857142857137,
          0.41714285714285704
         ],
         "matches": "x",
         "title": {
          "text": ""
         }
        },
        "xaxis4": {
         "anchor": "y4",
         "domain": [
          0.4371428571428571,
          0.5628571428571428
         ],
         "matches": "x",
         "title": {
          "text": ""
         }
        },
        "xaxis5": {
         "anchor": "y5",
         "domain": [
          0.5828571428571427,
          0.7085714285714284
         ],
         "matches": "x",
         "title": {
          "text": ""
         }
        },
        "xaxis6": {
         "anchor": "y6",
         "domain": [
          0.7285714285714284,
          0.8542857142857141
         ],
         "matches": "x",
         "title": {
          "text": ""
         }
        },
        "xaxis7": {
         "anchor": "y7",
         "domain": [
          0.8742857142857142,
          0.9999999999999999
         ],
         "matches": "x",
         "title": {
          "text": ""
         }
        },
        "yaxis": {
         "anchor": "x",
         "domain": [
          0,
          1
         ],
         "title": {
          "standoff": 0,
          "text": "log(Production [PJ])"
         },
         "type": "log"
        },
        "yaxis2": {
         "anchor": "x2",
         "domain": [
          0,
          1
         ],
         "matches": "y",
         "showticklabels": false,
         "type": "log"
        },
        "yaxis3": {
         "anchor": "x3",
         "domain": [
          0,
          1
         ],
         "matches": "y",
         "showticklabels": false,
         "type": "log"
        },
        "yaxis4": {
         "anchor": "x4",
         "domain": [
          0,
          1
         ],
         "matches": "y",
         "showticklabels": false,
         "type": "log"
        },
        "yaxis5": {
         "anchor": "x5",
         "domain": [
          0,
          1
         ],
         "matches": "y",
         "showticklabels": false,
         "type": "log"
        },
        "yaxis6": {
         "anchor": "x6",
         "domain": [
          0,
          1
         ],
         "matches": "y",
         "showticklabels": false,
         "type": "log"
        },
        "yaxis7": {
         "anchor": "x7",
         "domain": [
          0,
          1
         ],
         "matches": "y",
         "showticklabels": false,
         "type": "log"
        }
       }
      }
     },
     "metadata": {},
     "output_type": "display_data"
    }
   ],
   "source": [
    "ref_fig = ref_trnact[(ref_trnact['Technology'] == 'I_H2_ELEC') | (ref_trnact['Technology'] == 'I_H2_SMR')][['Period', 'Technology', 'Demand (PJ)']].copy()\n",
    "ref_fig['Technology'] = ref_fig['Technology'].replace({'I_H2_ELEC': 'Electrolysis', 'I_H2_SMR': 'SMR w/o CCS'})\n",
    "ref_fig = ref_fig.rename(columns={'Technology': 'Pathway', 'Demand (PJ)': 'Production (PJ)'})\n",
    "\n",
    "# HHV of H2 from Table A - https://archives.bape.gouv.qc.ca/sections/mandats/becancour/documents/DC4.pdf\n",
    "bau23_h2['Production (PJ)'] = bau23_h2['Production (Mt)'] * 141.9 # PJ/Mt = MJ/kg\n",
    "bau23_fig = bau23_h2[['Period', 'Pathway', 'Production (PJ)']].copy()\n",
    "\n",
    "gtech23_fig = gtech23_ref_h2.fillna(0.)\n",
    "gtech23_fig['Period'] = gtech23_fig['Period'].astype(str)\n",
    "\n",
    "bau23_fig['Source'] = 'CEF2023'\n",
    "ref_fig['Source'] = 'CANOE'\n",
    "gtech23_fig['Source'] = 'gTech-IESD'\n",
    "\n",
    "fig_df = pd.concat([ref_fig, bau23_fig, gtech23_fig])\n",
    "\n",
    "fig = px.bar(fig_df, \n",
    "             x='Source', \n",
    "             y='Production (PJ)', \n",
    "             color='Pathway', \n",
    "             barmode='stack', \n",
    "             facet_col='Period',\n",
    "             facet_col_spacing=2E-2,\n",
    "             template='plotly_white',\n",
    "             color_discrete_sequence=px.colors.qualitative.G10[:7] + px.colors.qualitative.G10[8:],\n",
    "             text_auto='.3f',\n",
    "            #  text='Demand (PJ)_sum'\n",
    "             width=1150, height=650,\n",
    "             )\n",
    "\n",
    "fig.update_layout(title=dict(\n",
    "        text='H2 production in ON by pathway and energy model',\n",
    "        x=0.5, \n",
    "        y=0.97,\n",
    "        xanchor='center',\n",
    "        yanchor='top'\n",
    "    ),\n",
    "    xaxis=dict(title='Period'),\n",
    "    yaxis=dict(title='log(Production [PJ])',\n",
    "            #    dtick=2,\n",
    "               type='log'\n",
    "               ),\n",
    "    yaxis_title_standoff=0,\n",
    "    legend_title_text='',\n",
    "    bargap=0.1,\n",
    "    legend=dict(\n",
    "        orientation='h',  \n",
    "        yanchor='top',\n",
    "        y=1.04,  \n",
    "        xanchor='center',\n",
    "        x=0.5),\n",
    "    font=dict(\n",
    "        # family=\"Open Sans\",\n",
    "        size=14)\n",
    "    )\n",
    "\n",
    "for axis in fig.layout:\n",
    "    if axis.startswith('yaxis'):\n",
    "        fig.layout[axis].type = 'log'\n",
    "\n",
    "for annotation in fig.layout.annotations:\n",
    "    annotation.text = annotation.text.split('=')[1]\n",
    "    annotation.y = -0.1  \n",
    "    annotation.yanchor = 'top' \n",
    "\n",
    "for axis in fig.layout:\n",
    "    if axis.startswith('xaxis'):\n",
    "        fig.layout[axis].title.text = ''\n",
    "\n",
    "fig.for_each_trace(lambda trace: trace.update(textfont=dict(size=9)))\n",
    "\n",
    "fig.show()"
   ]
  }
 ],
 "metadata": {
  "kernelspec": {
   "display_name": "new_base",
   "language": "python",
   "name": "python3"
  },
  "language_info": {
   "codemirror_mode": {
    "name": "ipython",
    "version": 3
   },
   "file_extension": ".py",
   "mimetype": "text/x-python",
   "name": "python",
   "nbconvert_exporter": "python",
   "pygments_lexer": "ipython3",
   "version": "3.12.2"
  }
 },
 "nbformat": 4,
 "nbformat_minor": 2
}
