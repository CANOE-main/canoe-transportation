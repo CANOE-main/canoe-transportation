{
 "cells": [
  {
   "cell_type": "code",
   "execution_count": 118,
   "metadata": {},
   "outputs": [],
   "source": [
    "import pandas as pd\n",
    "import numpy as np\n",
    "import plotly.express as px\n",
    "import plotly.graph_objects as go\n",
    "from plotly.subplots import make_subplots\n",
    "import seaborn as sns\n",
    "import matplotlib.pyplot as plt"
   ]
  },
  {
   "cell_type": "markdown",
   "metadata": {},
   "source": [
    "# Import CEF2023 tables\n",
    "https://open.canada.ca/data/en/dataset/7643c948-d661-4d90-ab91-e9ac732fc737"
   ]
  },
  {
   "cell_type": "code",
   "execution_count": 119,
   "metadata": {},
   "outputs": [],
   "source": [
    "model_years = [2021, 2025, 2030, 2035, 2040, 2045, 2050]\n",
    "\n",
    "cef23_demand = pd.read_csv('cef2023_data/end-use-demand-2023.csv', index_col=0) #   Energy in PJ\n",
    "bau23_demand = cef23_demand[(cef23_demand['Region'] == 'Ontario') & (cef23_demand['Scenario'] == 'Current Measures') &\n",
    "                            (cef23_demand['Year'].isin(model_years))].sort_values(['Sector', 'Variable', 'Year'])\n",
    "bau23_demand.rename(columns={'Value': 'Demand (PJ)', 'Variable': 'Carrier', 'Year': 'Period'}, inplace=True)\n",
    "bau23_demand['Carrier'].replace({'Motor Gasoline': 'Gasoline', 'Hydrogen': 'H2'}, inplace=True)\n",
    "bau23_demand['Period'] = bau23_demand['Period'].astype(str)\n",
    "\n",
    "cef23_h2 = pd.read_csv('cef2023_data/hydrogen-production-2023.csv', index_col=0)\n",
    "bau23_h2 = cef23_h2[(cef23_h2['Region'] == 'Ontario') & (cef23_h2['Scenario'] == 'Current Measures') &\n",
    "                            (cef23_h2['Year'].isin(model_years))].sort_values(['Variable', 'Year'])\n",
    "bau23_h2.rename(columns={'Value': 'Production (Mt)', 'Variable': 'Pathway', 'Year': 'Period'}, inplace=True)\n",
    "bau23_h2['Period'] = bau23_h2['Period'].astype(str)\n",
    "bau23_h2['Pathway'] = bau23_h2['Pathway'].replace({'Natural gas with CCS': 'SMR w CCS'})\n",
    "\n",
    "cef23_gen = pd.read_csv('cef2023_data/electricity-generation-2023.csv', index_col=0)\n",
    "bau23_gen = cef23_gen[(cef23_gen['Region'] == 'Ontario') & (cef23_gen['Scenario'] == 'Current Measures') &\n",
    "                            (cef23_gen['Year'].isin(model_years))].sort_values(['Variable', 'Year'])\n",
    "bau23_gen.rename(columns={'Value': 'Generation (GWh)', 'Variable': 'Plant Type', 'Year': 'Period'}, inplace=True)\n",
    "bau23_gen['Period'] = bau23_gen['Period'].astype(str)\n",
    "\n",
    "cef23_cap = pd.read_csv('cef2023_data/electricity-capacity-2023.csv')\n",
    "bau23_cap = cef23_cap[(cef23_cap['Region'] == 'Ontario') & (cef23_cap['Scenario'] == 'Current Measures') &\n",
    "                            (cef23_cap['Year'].isin(model_years))].sort_values(['Variable', 'Year'])\n",
    "bau23_cap.rename(columns={'Value': 'Capacity (MW)', 'Variable': 'Plant Type', 'Year': 'Period'}, inplace=True)\n",
    "bau23_cap['Period'] = bau23_cap['Period'].astype(str)"
   ]
  },
  {
   "cell_type": "markdown",
   "metadata": {},
   "source": [
    "# Import gTech-IESD results"
   ]
  },
  {
   "cell_type": "code",
   "execution_count": 120,
   "metadata": {},
   "outputs": [],
   "source": [
    "years = pd.DataFrame({'year': range(2020, 2051)})\n",
    "\n",
    "def import_navius_data(df):\n",
    "    df = df[(df['policy'] == 'legislated') & (df['swb'] == 'ref') & (df['ccs'] == 'ref') & (df['hyd'] == 'ref') & \n",
    "            (df['oil'] == 'ref') & (df['dac'] == 'no')].drop(columns=['region', 'policy', 'swb', 'ccs', 'hyd', 'oil', 'dac', 'lul']).reset_index(drop='index')\n",
    "    labels = list(set(df.columns.to_list()) - set(['year', 'value']))\n",
    "    unique_combinations = df[labels].drop_duplicates()\n",
    "    expanded_df = unique_combinations.assign(key=1).merge(years.assign(key=1), on='key').drop('key', axis=1)\n",
    "    merged_df = expanded_df.merge(df, on=['year'] + labels, how='left')\n",
    "    merged_df = merged_df.sort_values(by=labels + ['year'])\n",
    "    merged_df['value'] = merged_df.groupby(labels, as_index=False)['value'].apply(lambda group: group.interpolate()).reset_index(level=0, drop=True)\n",
    "    interpolated_2021 = merged_df[merged_df['year'] == 2021]\n",
    "    df = pd.concat([df, interpolated_2021]).sort_values(by=['year'] + labels).reset_index(drop=True)\n",
    "    return df[df['year'] != 2020]"
   ]
  },
  {
   "cell_type": "code",
   "execution_count": 121,
   "metadata": {},
   "outputs": [],
   "source": [
    "gtech23_vehshare = pd.read_csv('navius_regional_data_on/total market share of vehicles by type (%).csv', usecols=lambda column: column != 'id')\n",
    "gtech23_ref_vehshare = import_navius_data(gtech23_vehshare)\n",
    "gtech23_ref_vehshare.rename(columns={'year': 'Period', 'value': 'Market Share (%)', 'eu_name': 'Class', 'technology': 'Drivetrain'}, inplace=True)\n",
    "gtech23_ref_vehshare['Class'] = gtech23_ref_vehshare['Class'].replace({'light-duty': 'LDV', 'heavy-duty': 'HDV'})\n",
    "gtech23_ref_vehshare['Drivetrain'] = gtech23_ref_vehshare['Drivetrain'].replace({'fcev': 'FCEV', 'ice': 'ICEV', 'bev': 'BEV'})\n",
    "\n",
    "gtech23_demand = pd.read_csv('navius_regional_data_on/energy consumption by sector (PJ).csv', usecols=lambda column: column != 'id')\n",
    "gtech23_ref_demand = import_navius_data(gtech23_demand)\n",
    "gtech23_ref_demand.rename(columns={'year': 'Period', 'value': 'Demand (PJ)', 'sector': 'Sector'}, inplace=True)\n",
    "\n",
    "gtech23_ghg = pd.read_csv('navius_regional_data_on/emissions by sector (Mt).csv', usecols=lambda column: column != 'id')\n",
    "gtech23_ref_ghg = import_navius_data(gtech23_ghg)\n",
    "gtech23_ref_ghg.rename(columns={'year': 'Period', 'value': 'CO2e (Mt)', 'sector': 'Sector'}, inplace=True)\n",
    "\n",
    "gtech23_gen = pd.read_csv('navius_regional_data_on/electricity generation by source (TWh).csv', usecols=lambda column: column != 'id')\n",
    "gtech23_ref_gen = import_navius_data(gtech23_gen)\n",
    "gtech23_ref_gen.rename(columns={'year': 'Period', 'value': 'Generation (TWh)', 'type': 'Plant Type'}, inplace=True)\n",
    "\n",
    "gtech23_cap = pd.read_csv('navius_regional_data_on/electricity capacity by source (MW).csv', usecols=lambda column: column != 'id')\n",
    "gtech23_ref_cap = import_navius_data(gtech23_cap)\n",
    "gtech23_ref_cap.rename(columns={'year': 'Period', 'value': 'Capacity (MW)', 'type': 'Plant Type'}, inplace=True)\n",
    "gtech23_ref_cap['Plant Type'] = gtech23_ref_cap['Plant Type'].replace({'fcev': 'FCEV', 'ice': 'ICEV', 'bev': 'BEV'})\n",
    "\n",
    "gtech23_h2 = pd.read_csv('navius_regional_data_on/hydrogen production by type (PJ).csv', usecols=lambda column: column != 'id')\n",
    "gtech23_ref_h2 = import_navius_data(gtech23_h2)\n",
    "gtech23_ref_h2.rename(columns={'year': 'Period', 'value': 'Production (PJ)', 'prod_type': 'Pathway'}, inplace=True)\n",
    "gtech23_ref_h2['Pathway'] = gtech23_ref_h2['Pathway'].replace({'electrolysis': 'Electrolysis', 'smr with ccs': 'SMR w CCS'})"
   ]
  },
  {
   "cell_type": "code",
   "execution_count": 122,
   "metadata": {},
   "outputs": [],
   "source": [
    "gtech23_ref_demand['Sector'].replace({'agriculture & waste': 'Agriculture', 'commercial buildings': 'Commercial', 'residential buildings': 'Residential', \n",
    "                                      'industry': 'Industrial', 'oil and gas': 'Oil & Gas', 'direct air capture': 'Industrial', 'Utilities': 'Utilities',\n",
    "                                      'light-duty transport': 'Transportation', 'medium & heavy-duty transport': 'Transportation', 'other transport': 'Transportation'}, inplace=True)\n",
    "gtech23_ref_demand = gtech23_ref_demand.groupby(['Period', 'Sector'], as_index=False).sum()[['Period', 'Sector', 'Demand (PJ)']]"
   ]
  },
  {
   "cell_type": "markdown",
   "metadata": {},
   "source": [
    "# Import Canoe results"
   ]
  },
  {
   "cell_type": "code",
   "execution_count": 123,
   "metadata": {},
   "outputs": [],
   "source": [
    "canoe_results = 'canoe_trn_vanilla'\n",
    "scenario_name = 'trn_vanilla'"
   ]
  },
  {
   "cell_type": "code",
   "execution_count": 124,
   "metadata": {},
   "outputs": [],
   "source": [
    "vanilla_file = canoe_results + '/' + scenario_name + '.xlsx'\n",
    "\n",
    "vanilla_trnact = pd.read_excel(vanilla_file, sheet_name='Activity_Transport').fillna(0)\n",
    "vanilla_trncap = pd.read_excel(vanilla_file, sheet_name='Capacity_Transport').fillna(0)\n",
    "vanilla_trnnewcap = pd.read_excel(vanilla_file, sheet_name='NewCapacity_Transport').fillna(0)\n",
    "\n",
    "vanilla_trnact = pd.read_excel(vanilla_file, sheet_name='Activity_Transport').fillna(0)\n",
    "vanilla_resact = pd.read_excel(vanilla_file, sheet_name='Activity_residential').fillna(0)\n",
    "vanilla_commact = pd.read_excel(vanilla_file, sheet_name='Activity_commercial').fillna(0)\n",
    "vanilla_indact = pd.read_excel(vanilla_file, sheet_name='Activity_industrial').fillna(0)\n",
    "\n",
    "vanilla_elcact = pd.read_excel(vanilla_file, sheet_name='Activity_electricity').fillna(0)\n",
    "vanilla_elccap = pd.read_excel(vanilla_file, sheet_name='Capacity_electricity').fillna(0)\n",
    "vanilla_elcnewcap = pd.read_excel(vanilla_file, sheet_name='NewCapacity_electricity').fillna(0)\n",
    "\n",
    "vanilla_ghg = pd.read_excel(vanilla_file, sheet_name='Emissions').fillna(0)\n",
    "vanilla_costs = pd.read_excel(vanilla_file, sheet_name='Costs').fillna(0)"
   ]
  },
  {
   "cell_type": "code",
   "execution_count": 125,
   "metadata": {},
   "outputs": [],
   "source": [
    "canoe_results = 'canoe_trn_ref'\n",
    "scenario_name = 'trn_ref'"
   ]
  },
  {
   "cell_type": "code",
   "execution_count": 126,
   "metadata": {},
   "outputs": [],
   "source": [
    "ref_file = canoe_results + '/' + scenario_name + '.xlsx'\n",
    "\n",
    "ref_trnact = pd.read_excel(ref_file, sheet_name='Activity_Transport').fillna(0)\n",
    "ref_trncap = pd.read_excel(ref_file, sheet_name='Capacity_Transport').fillna(0)\n",
    "ref_trnnewcap = pd.read_excel(ref_file, sheet_name='NewCapacity_Transport').fillna(0)\n",
    "\n",
    "ref_trnact = pd.read_excel(ref_file, sheet_name='Activity_Transport').fillna(0)\n",
    "ref_resact = pd.read_excel(ref_file, sheet_name='Activity_residential').fillna(0)\n",
    "ref_commact = pd.read_excel(ref_file, sheet_name='Activity_commercial').fillna(0)\n",
    "ref_indact = pd.read_excel(ref_file, sheet_name='Activity_industrial').fillna(0)\n",
    "\n",
    "ref_elcact = pd.read_excel(ref_file, sheet_name='Activity_electricity').fillna(0)\n",
    "ref_elccap = pd.read_excel(ref_file, sheet_name='Capacity_electricity').fillna(0)\n",
    "ref_elcnewcap = pd.read_excel(ref_file, sheet_name='NewCapacity_electricity').fillna(0)\n",
    "\n",
    "ref_ghg = pd.read_excel(ref_file, sheet_name='Emissions').fillna(0)\n",
    "ref_costs = pd.read_excel(ref_file, sheet_name='Costs').fillna(0)"
   ]
  },
  {
   "cell_type": "code",
   "execution_count": 127,
   "metadata": {},
   "outputs": [],
   "source": [
    "class_mapping = {\n",
    "    'T_HDV_AJ': 'Air jet',\n",
    "    'T_HDV_B': 'Bus',\n",
    "    'T_HDV_R': 'Rail',\n",
    "    'T_HDV_T': 'HD Truck',\n",
    "    'T_HDV_W': 'Marine vessel',\n",
    "    'T_MDV_T': 'MD Truck',\n",
    "    'T_LDV_C_': 'LD Car',\n",
    "    'T_LDV_LT': 'LD Truck',\n",
    "    'T_LDV_M': 'Motorcycle',\n",
    "    'T_IMP_': 'Fuel use',\n",
    "    'H2_distribution': 'Fuel use'\n",
    "}\n",
    "\n",
    "def map_tech_to_mode(tech):\n",
    "    for prefix, class_name in class_mapping.items():\n",
    "        if tech.startswith(prefix):\n",
    "            return class_name\n",
    "    return 'Other'\n",
    "\n",
    "ref_trnact['Mode'] = ref_trnact['Technology'].apply(map_tech_to_mode)\n",
    "ref_trncap['Mode'] = ref_trncap['Technology'].apply(map_tech_to_mode)\n",
    "ref_trnnewcap['Mode'] = ref_trnnewcap['Technology'].apply(map_tech_to_mode)\n",
    "\n",
    "vanilla_trnact['Mode'] = vanilla_trnact['Technology'].apply(map_tech_to_mode)\n",
    "vanilla_trncap['Mode'] = vanilla_trncap['Technology'].apply(map_tech_to_mode)\n",
    "vanilla_trnnewcap['Mode'] = vanilla_trnnewcap['Technology'].apply(map_tech_to_mode)"
   ]
  },
  {
   "cell_type": "code",
   "execution_count": 128,
   "metadata": {},
   "outputs": [],
   "source": [
    "carrier_mapping = {\n",
    "        'BEV': 'BEV',\n",
    "        'GSL': 'Gasoline',\n",
    "        'DSL': 'Diesel',\n",
    "        'CNG': 'CNG',\n",
    "        'LNG': 'LNG',\n",
    "        'JTF': 'Aviation Fuel',\n",
    "        'SPK': 'Synthetic Kerosene', #  Might change for SAF\n",
    "        'HFO': 'Heavy Fuel Oil',\n",
    "        'MDO': 'Marine Diesel Oil',\n",
    "        'H2': 'H2',\n",
    "        'ELC': 'Electricity'\n",
    "    }\n",
    "\n",
    "def map_tech_to_drivetrain(tech):\n",
    "    # Check hybrids first\n",
    "    if 'PHEV' in tech:\n",
    "        return 'PHEV'\n",
    "    if 'FC' in tech:\n",
    "        return 'FCEV'\n",
    "    if 'HEV' in tech:\n",
    "        return 'HEV'\n",
    "    if 'RDSL' in tech:\n",
    "            return 'Renewable Diesel' #     Might differentiate\n",
    "    if 'ETH' in tech:\n",
    "        return 'Ethanol' #                  Might differentiate\n",
    "    for prefix, carrier in carrier_mapping.items():\n",
    "        if prefix in tech:\n",
    "            return carrier \n",
    "    return 'Other'\n",
    "\n",
    "ref_trnact['Carrier'] = ref_trnact['Technology'].apply(map_tech_to_drivetrain)\n",
    "ref_trncap['Carrier'] = ref_trncap['Technology'].apply(map_tech_to_drivetrain)\n",
    "ref_trnnewcap['Carrier'] = ref_trnnewcap['Technology'].apply(map_tech_to_drivetrain)\n",
    "\n",
    "vanilla_trnact['Carrier'] = vanilla_trnact['Technology'].apply(map_tech_to_drivetrain)\n",
    "vanilla_trncap['Carrier'] = vanilla_trncap['Technology'].apply(map_tech_to_drivetrain)\n",
    "vanilla_trnnewcap['Carrier'] = vanilla_trnnewcap['Technology'].apply(map_tech_to_drivetrain)"
   ]
  },
  {
   "cell_type": "markdown",
   "metadata": {},
   "source": [
    "# Demand graph template"
   ]
  },
  {
   "cell_type": "markdown",
   "metadata": {},
   "source": [
    "## CANOE ref vs CEF 2023 current policies - transport energy demand by carrier"
   ]
  },
  {
   "cell_type": "code",
   "execution_count": 129,
   "metadata": {},
   "outputs": [],
   "source": [
    "def carrier_grouping(carrier):\n",
    "    if carrier == 'CNG':\n",
    "        return 'Natural Gas'\n",
    "    if carrier == 'LNG':\n",
    "        return 'Natural Gas'\n",
    "    if carrier == 'Ethanol':\n",
    "        return 'Biofuels'\n",
    "    if carrier == 'Renewable Diesel':\n",
    "        return 'Biofuels'\n",
    "    if carrier == 'Synthetic Kerosene':\n",
    "        return 'Biofuels'\n",
    "    if carrier == 'Heavy Fuel Oil':\n",
    "        return 'Marine Fuels'\n",
    "    if carrier == 'Marine Diesel Oil':\n",
    "        return 'Marine Fuels'\n",
    "    if carrier == 'LPG':\n",
    "        return 'Other'\n",
    "    if carrier == 'Lubricants':\n",
    "        return 'Other'\n",
    "    else: return carrier"
   ]
  },
  {
   "cell_type": "code",
   "execution_count": 130,
   "metadata": {},
   "outputs": [],
   "source": [
    "ref_trnact.columns = ref_trnact.columns.astype(str)\n",
    "vanilla_trnact.columns = vanilla_trnact.columns.astype(str)\n",
    "\n",
    "periods = [col for col in ref_trnact.columns if col.isdigit()]\n",
    "params = [col for col in ref_trnact.columns if not col.isdigit()]\n",
    "\n",
    "ref_trnact = pd.melt(ref_trnact, id_vars=params, var_name='Period', value_name='Demand (PJ)', value_vars=periods)\n",
    "vanilla_trnact = pd.melt(vanilla_trnact, id_vars=params, var_name='Period', value_name='Demand (PJ)', value_vars=periods)"
   ]
  },
  {
   "cell_type": "code",
   "execution_count": 131,
   "metadata": {},
   "outputs": [
    {
     "data": {
      "application/vnd.plotly.v1+json": {
       "config": {
        "plotlyServerURL": "https://plot.ly"
       },
       "data": [
        {
         "alignmentgroup": "True",
         "hovertemplate": "Carrier=Gasoline<br>Period=2021<br>Source=%{x}<br>Demand (PJ)=%{y}<extra></extra>",
         "legendgroup": "Gasoline",
         "marker": {
          "color": "#3366CC",
          "pattern": {
           "shape": ""
          }
         },
         "name": "Gasoline",
         "offsetgroup": "Gasoline",
         "orientation": "v",
         "showlegend": true,
         "textfont": {
          "size": 9
         },
         "textposition": "auto",
         "texttemplate": "%{y:.1f}",
         "type": "bar",
         "x": [
          "CANOE (vanilla)",
          "CANOE (ref)",
          "CEF2023"
         ],
         "xaxis": "x",
         "y": [
          469.7211411424727,
          505.5237743661867,
          438.127
         ],
         "yaxis": "y"
        },
        {
         "alignmentgroup": "True",
         "hovertemplate": "Carrier=Gasoline<br>Period=2025<br>Source=%{x}<br>Demand (PJ)=%{y}<extra></extra>",
         "legendgroup": "Gasoline",
         "marker": {
          "color": "#3366CC",
          "pattern": {
           "shape": ""
          }
         },
         "name": "Gasoline",
         "offsetgroup": "Gasoline",
         "orientation": "v",
         "showlegend": false,
         "textfont": {
          "size": 9
         },
         "textposition": "auto",
         "texttemplate": "%{y:.1f}",
         "type": "bar",
         "x": [
          "CANOE (vanilla)",
          "CANOE (ref)",
          "CEF2023"
         ],
         "xaxis": "x2",
         "y": [
          445.7655923613068,
          579.0760613565641,
          459.5522
         ],
         "yaxis": "y2"
        },
        {
         "alignmentgroup": "True",
         "hovertemplate": "Carrier=Gasoline<br>Period=2030<br>Source=%{x}<br>Demand (PJ)=%{y}<extra></extra>",
         "legendgroup": "Gasoline",
         "marker": {
          "color": "#3366CC",
          "pattern": {
           "shape": ""
          }
         },
         "name": "Gasoline",
         "offsetgroup": "Gasoline",
         "orientation": "v",
         "showlegend": false,
         "textfont": {
          "size": 9
         },
         "textposition": "auto",
         "texttemplate": "%{y:.1f}",
         "type": "bar",
         "x": [
          "CANOE (vanilla)",
          "CANOE (ref)",
          "CEF2023"
         ],
         "xaxis": "x3",
         "y": [
          251.5325015037051,
          445.1100568205251,
          439.8523
         ],
         "yaxis": "y3"
        },
        {
         "alignmentgroup": "True",
         "hovertemplate": "Carrier=Gasoline<br>Period=2035<br>Source=%{x}<br>Demand (PJ)=%{y}<extra></extra>",
         "legendgroup": "Gasoline",
         "marker": {
          "color": "#3366CC",
          "pattern": {
           "shape": ""
          }
         },
         "name": "Gasoline",
         "offsetgroup": "Gasoline",
         "orientation": "v",
         "showlegend": false,
         "textfont": {
          "size": 9
         },
         "textposition": "auto",
         "texttemplate": "%{y:.1f}",
         "type": "bar",
         "x": [
          "CANOE (vanilla)",
          "CANOE (ref)",
          "CEF2023"
         ],
         "xaxis": "x4",
         "y": [
          32.11474861409878,
          305.146760807607,
          404.2377
         ],
         "yaxis": "y4"
        },
        {
         "alignmentgroup": "True",
         "hovertemplate": "Carrier=Gasoline<br>Period=2040<br>Source=%{x}<br>Demand (PJ)=%{y}<extra></extra>",
         "legendgroup": "Gasoline",
         "marker": {
          "color": "#3366CC",
          "pattern": {
           "shape": ""
          }
         },
         "name": "Gasoline",
         "offsetgroup": "Gasoline",
         "orientation": "v",
         "showlegend": false,
         "textfont": {
          "size": 9
         },
         "textposition": "auto",
         "texttemplate": "%{y:.1f}",
         "type": "bar",
         "x": [
          "CANOE (vanilla)",
          "CANOE (ref)",
          "CEF2023"
         ],
         "xaxis": "x5",
         "y": [
          0.006633720658908108,
          306.9617263945394,
          364.9183
         ],
         "yaxis": "y5"
        },
        {
         "alignmentgroup": "True",
         "hovertemplate": "Carrier=Gasoline<br>Period=2045<br>Source=%{x}<br>Demand (PJ)=%{y}<extra></extra>",
         "legendgroup": "Gasoline",
         "marker": {
          "color": "#3366CC",
          "pattern": {
           "shape": ""
          }
         },
         "name": "Gasoline",
         "offsetgroup": "Gasoline",
         "orientation": "v",
         "showlegend": false,
         "textfont": {
          "size": 9
         },
         "textposition": "auto",
         "texttemplate": "%{y:.1f}",
         "type": "bar",
         "x": [
          "CANOE (vanilla)",
          "CANOE (ref)",
          "CEF2023"
         ],
         "xaxis": "x6",
         "y": [
          0.001785722995853179,
          276.5807719283648,
          332.7972
         ],
         "yaxis": "y6"
        },
        {
         "alignmentgroup": "True",
         "hovertemplate": "Carrier=Gasoline<br>Period=2050<br>Source=%{x}<br>Demand (PJ)=%{y}<extra></extra>",
         "legendgroup": "Gasoline",
         "marker": {
          "color": "#3366CC",
          "pattern": {
           "shape": ""
          }
         },
         "name": "Gasoline",
         "offsetgroup": "Gasoline",
         "orientation": "v",
         "showlegend": false,
         "textfont": {
          "size": 9
         },
         "textposition": "auto",
         "texttemplate": "%{y:.1f}",
         "type": "bar",
         "x": [
          "CANOE (vanilla)",
          "CANOE (ref)",
          "CEF2023"
         ],
         "xaxis": "x7",
         "y": [
          0,
          254.5546269533989,
          314.2554
         ],
         "yaxis": "y7"
        },
        {
         "alignmentgroup": "True",
         "hovertemplate": "Carrier=Diesel<br>Period=2021<br>Source=%{x}<br>Demand (PJ)=%{y}<extra></extra>",
         "legendgroup": "Diesel",
         "marker": {
          "color": "#DC3912",
          "pattern": {
           "shape": ""
          }
         },
         "name": "Diesel",
         "offsetgroup": "Diesel",
         "orientation": "v",
         "showlegend": true,
         "textfont": {
          "size": 9
         },
         "textposition": "auto",
         "texttemplate": "%{y:.1f}",
         "type": "bar",
         "x": [
          "CANOE (vanilla)",
          "CANOE (ref)",
          "CEF2023"
         ],
         "xaxis": "x",
         "y": [
          261.8583404432984,
          267.3362734489401,
          207.0607
         ],
         "yaxis": "y"
        },
        {
         "alignmentgroup": "True",
         "hovertemplate": "Carrier=Diesel<br>Period=2025<br>Source=%{x}<br>Demand (PJ)=%{y}<extra></extra>",
         "legendgroup": "Diesel",
         "marker": {
          "color": "#DC3912",
          "pattern": {
           "shape": ""
          }
         },
         "name": "Diesel",
         "offsetgroup": "Diesel",
         "orientation": "v",
         "showlegend": false,
         "textfont": {
          "size": 9
         },
         "textposition": "auto",
         "texttemplate": "%{y:.1f}",
         "type": "bar",
         "x": [
          "CANOE (vanilla)",
          "CANOE (ref)",
          "CEF2023"
         ],
         "xaxis": "x2",
         "y": [
          277.2838081973903,
          285.5156152857994,
          224.1973
         ],
         "yaxis": "y2"
        },
        {
         "alignmentgroup": "True",
         "hovertemplate": "Carrier=Diesel<br>Period=2030<br>Source=%{x}<br>Demand (PJ)=%{y}<extra></extra>",
         "legendgroup": "Diesel",
         "marker": {
          "color": "#DC3912",
          "pattern": {
           "shape": ""
          }
         },
         "name": "Diesel",
         "offsetgroup": "Diesel",
         "orientation": "v",
         "showlegend": false,
         "textfont": {
          "size": 9
         },
         "textposition": "auto",
         "texttemplate": "%{y:.1f}",
         "type": "bar",
         "x": [
          "CANOE (vanilla)",
          "CANOE (ref)",
          "CEF2023"
         ],
         "xaxis": "x3",
         "y": [
          266.6063941433657,
          275.9172066923928,
          235.6683
         ],
         "yaxis": "y3"
        },
        {
         "alignmentgroup": "True",
         "hovertemplate": "Carrier=Diesel<br>Period=2035<br>Source=%{x}<br>Demand (PJ)=%{y}<extra></extra>",
         "legendgroup": "Diesel",
         "marker": {
          "color": "#DC3912",
          "pattern": {
           "shape": ""
          }
         },
         "name": "Diesel",
         "offsetgroup": "Diesel",
         "orientation": "v",
         "showlegend": false,
         "textfont": {
          "size": 9
         },
         "textposition": "auto",
         "texttemplate": "%{y:.1f}",
         "type": "bar",
         "x": [
          "CANOE (vanilla)",
          "CANOE (ref)",
          "CEF2023"
         ],
         "xaxis": "x4",
         "y": [
          184.2837111925948,
          247.2680963934933,
          241.1286
         ],
         "yaxis": "y4"
        },
        {
         "alignmentgroup": "True",
         "hovertemplate": "Carrier=Diesel<br>Period=2040<br>Source=%{x}<br>Demand (PJ)=%{y}<extra></extra>",
         "legendgroup": "Diesel",
         "marker": {
          "color": "#DC3912",
          "pattern": {
           "shape": ""
          }
         },
         "name": "Diesel",
         "offsetgroup": "Diesel",
         "orientation": "v",
         "showlegend": false,
         "textfont": {
          "size": 9
         },
         "textposition": "auto",
         "texttemplate": "%{y:.1f}",
         "type": "bar",
         "x": [
          "CANOE (vanilla)",
          "CANOE (ref)",
          "CEF2023"
         ],
         "xaxis": "x5",
         "y": [
          134.568200899968,
          235.6781011457641,
          251.0106
         ],
         "yaxis": "y5"
        },
        {
         "alignmentgroup": "True",
         "hovertemplate": "Carrier=Diesel<br>Period=2045<br>Source=%{x}<br>Demand (PJ)=%{y}<extra></extra>",
         "legendgroup": "Diesel",
         "marker": {
          "color": "#DC3912",
          "pattern": {
           "shape": ""
          }
         },
         "name": "Diesel",
         "offsetgroup": "Diesel",
         "orientation": "v",
         "showlegend": false,
         "textfont": {
          "size": 9
         },
         "textposition": "auto",
         "texttemplate": "%{y:.1f}",
         "type": "bar",
         "x": [
          "CANOE (vanilla)",
          "CANOE (ref)",
          "CEF2023"
         ],
         "xaxis": "x6",
         "y": [
          124.6506228763591,
          236.2001201506042,
          263.7726
         ],
         "yaxis": "y6"
        },
        {
         "alignmentgroup": "True",
         "hovertemplate": "Carrier=Diesel<br>Period=2050<br>Source=%{x}<br>Demand (PJ)=%{y}<extra></extra>",
         "legendgroup": "Diesel",
         "marker": {
          "color": "#DC3912",
          "pattern": {
           "shape": ""
          }
         },
         "name": "Diesel",
         "offsetgroup": "Diesel",
         "orientation": "v",
         "showlegend": false,
         "textfont": {
          "size": 9
         },
         "textposition": "auto",
         "texttemplate": "%{y:.1f}",
         "type": "bar",
         "x": [
          "CANOE (vanilla)",
          "CANOE (ref)",
          "CEF2023"
         ],
         "xaxis": "x7",
         "y": [
          111.1045707193355,
          234.9207348591343,
          282.0967
         ],
         "yaxis": "y7"
        },
        {
         "alignmentgroup": "True",
         "hovertemplate": "Carrier=Biofuels<br>Period=2021<br>Source=%{x}<br>Demand (PJ)=%{y}<extra></extra>",
         "legendgroup": "Biofuels",
         "marker": {
          "color": "#FF9900",
          "pattern": {
           "shape": ""
          }
         },
         "name": "Biofuels",
         "offsetgroup": "Biofuels",
         "orientation": "v",
         "showlegend": true,
         "textfont": {
          "size": 9
         },
         "textposition": "auto",
         "texttemplate": "%{y:.1f}",
         "type": "bar",
         "x": [
          "CANOE (vanilla)",
          "CANOE (ref)",
          "CEF2023"
         ],
         "xaxis": "x",
         "y": [
          63.102002089856605,
          67.30831965661548,
          54.6721
         ],
         "yaxis": "y"
        },
        {
         "alignmentgroup": "True",
         "hovertemplate": "Carrier=Biofuels<br>Period=2025<br>Source=%{x}<br>Demand (PJ)=%{y}<extra></extra>",
         "legendgroup": "Biofuels",
         "marker": {
          "color": "#FF9900",
          "pattern": {
           "shape": ""
          }
         },
         "name": "Biofuels",
         "offsetgroup": "Biofuels",
         "orientation": "v",
         "showlegend": false,
         "textfont": {
          "size": 9
         },
         "textposition": "auto",
         "texttemplate": "%{y:.1f}",
         "type": "bar",
         "x": [
          "CANOE (vanilla)",
          "CANOE (ref)",
          "CEF2023"
         ],
         "xaxis": "x2",
         "y": [
          66.64811578321758,
          83.46768256487316,
          66.1605
         ],
         "yaxis": "y2"
        },
        {
         "alignmentgroup": "True",
         "hovertemplate": "Carrier=Biofuels<br>Period=2030<br>Source=%{x}<br>Demand (PJ)=%{y}<extra></extra>",
         "legendgroup": "Biofuels",
         "marker": {
          "color": "#FF9900",
          "pattern": {
           "shape": ""
          }
         },
         "name": "Biofuels",
         "offsetgroup": "Biofuels",
         "orientation": "v",
         "showlegend": false,
         "textfont": {
          "size": 9
         },
         "textposition": "auto",
         "texttemplate": "%{y:.1f}",
         "type": "bar",
         "x": [
          "CANOE (vanilla)",
          "CANOE (ref)",
          "CEF2023"
         ],
         "xaxis": "x3",
         "y": [
          55.496688256627415,
          90.04538383541295,
          67.8602
         ],
         "yaxis": "y3"
        },
        {
         "alignmentgroup": "True",
         "hovertemplate": "Carrier=Biofuels<br>Period=2035<br>Source=%{x}<br>Demand (PJ)=%{y}<extra></extra>",
         "legendgroup": "Biofuels",
         "marker": {
          "color": "#FF9900",
          "pattern": {
           "shape": ""
          }
         },
         "name": "Biofuels",
         "offsetgroup": "Biofuels",
         "orientation": "v",
         "showlegend": false,
         "textfont": {
          "size": 9
         },
         "textposition": "auto",
         "texttemplate": "%{y:.1f}",
         "type": "bar",
         "x": [
          "CANOE (vanilla)",
          "CANOE (ref)",
          "CEF2023"
         ],
         "xaxis": "x4",
         "y": [
          13.34579654531673,
          64.1522657275419,
          72.0742
         ],
         "yaxis": "y4"
        },
        {
         "alignmentgroup": "True",
         "hovertemplate": "Carrier=Biofuels<br>Period=2040<br>Source=%{x}<br>Demand (PJ)=%{y}<extra></extra>",
         "legendgroup": "Biofuels",
         "marker": {
          "color": "#FF9900",
          "pattern": {
           "shape": ""
          }
         },
         "name": "Biofuels",
         "offsetgroup": "Biofuels",
         "orientation": "v",
         "showlegend": false,
         "textfont": {
          "size": 9
         },
         "textposition": "auto",
         "texttemplate": "%{y:.1f}",
         "type": "bar",
         "x": [
          "CANOE (vanilla)",
          "CANOE (ref)",
          "CEF2023"
         ],
         "xaxis": "x5",
         "y": [
          5.607251709560737,
          63.989637303639284,
          70.0468
         ],
         "yaxis": "y5"
        },
        {
         "alignmentgroup": "True",
         "hovertemplate": "Carrier=Biofuels<br>Period=2045<br>Source=%{x}<br>Demand (PJ)=%{y}<extra></extra>",
         "legendgroup": "Biofuels",
         "marker": {
          "color": "#FF9900",
          "pattern": {
           "shape": ""
          }
         },
         "name": "Biofuels",
         "offsetgroup": "Biofuels",
         "orientation": "v",
         "showlegend": false,
         "textfont": {
          "size": 9
         },
         "textposition": "auto",
         "texttemplate": "%{y:.1f}",
         "type": "bar",
         "x": [
          "CANOE (vanilla)",
          "CANOE (ref)",
          "CEF2023"
         ],
         "xaxis": "x6",
         "y": [
          5.193775953181633,
          58.65004318971212,
          68.8381
         ],
         "yaxis": "y6"
        },
        {
         "alignmentgroup": "True",
         "hovertemplate": "Carrier=Biofuels<br>Period=2050<br>Source=%{x}<br>Demand (PJ)=%{y}<extra></extra>",
         "legendgroup": "Biofuels",
         "marker": {
          "color": "#FF9900",
          "pattern": {
           "shape": ""
          }
         },
         "name": "Biofuels",
         "offsetgroup": "Biofuels",
         "orientation": "v",
         "showlegend": false,
         "textfont": {
          "size": 9
         },
         "textposition": "auto",
         "texttemplate": "%{y:.1f}",
         "type": "bar",
         "x": [
          "CANOE (vanilla)",
          "CANOE (ref)",
          "CEF2023"
         ],
         "xaxis": "x7",
         "y": [
          4.629357113305647,
          54.70976870894611,
          69.208
         ],
         "yaxis": "y7"
        },
        {
         "alignmentgroup": "True",
         "hovertemplate": "Carrier=Electricity<br>Period=2021<br>Source=%{x}<br>Demand (PJ)=%{y}<extra></extra>",
         "legendgroup": "Electricity",
         "marker": {
          "color": "#109618",
          "pattern": {
           "shape": ""
          }
         },
         "name": "Electricity",
         "offsetgroup": "Electricity",
         "orientation": "v",
         "showlegend": true,
         "textfont": {
          "size": 9
         },
         "textposition": "auto",
         "texttemplate": "%{y:.1f}",
         "type": "bar",
         "x": [
          "CANOE (vanilla)",
          "CANOE (ref)",
          "CEF2023"
         ],
         "xaxis": "x",
         "y": [
          11.51609087832171,
          2.38175195200109,
          1.2878
         ],
         "yaxis": "y"
        },
        {
         "alignmentgroup": "True",
         "hovertemplate": "Carrier=Electricity<br>Period=2025<br>Source=%{x}<br>Demand (PJ)=%{y}<extra></extra>",
         "legendgroup": "Electricity",
         "marker": {
          "color": "#109618",
          "pattern": {
           "shape": ""
          }
         },
         "name": "Electricity",
         "offsetgroup": "Electricity",
         "orientation": "v",
         "showlegend": false,
         "textfont": {
          "size": 9
         },
         "textposition": "auto",
         "texttemplate": "%{y:.1f}",
         "type": "bar",
         "x": [
          "CANOE (vanilla)",
          "CANOE (ref)",
          "CEF2023"
         ],
         "xaxis": "x2",
         "y": [
          41.01600979257603,
          9.395272550985462,
          4.4457
         ],
         "yaxis": "y2"
        },
        {
         "alignmentgroup": "True",
         "hovertemplate": "Carrier=Electricity<br>Period=2030<br>Source=%{x}<br>Demand (PJ)=%{y}<extra></extra>",
         "legendgroup": "Electricity",
         "marker": {
          "color": "#109618",
          "pattern": {
           "shape": ""
          }
         },
         "name": "Electricity",
         "offsetgroup": "Electricity",
         "orientation": "v",
         "showlegend": false,
         "textfont": {
          "size": 9
         },
         "textposition": "auto",
         "texttemplate": "%{y:.1f}",
         "type": "bar",
         "x": [
          "CANOE (vanilla)",
          "CANOE (ref)",
          "CEF2023"
         ],
         "xaxis": "x3",
         "y": [
          80.99429724870403,
          27.35521612394792,
          13.2973
         ],
         "yaxis": "y3"
        },
        {
         "alignmentgroup": "True",
         "hovertemplate": "Carrier=Electricity<br>Period=2035<br>Source=%{x}<br>Demand (PJ)=%{y}<extra></extra>",
         "legendgroup": "Electricity",
         "marker": {
          "color": "#109618",
          "pattern": {
           "shape": ""
          }
         },
         "name": "Electricity",
         "offsetgroup": "Electricity",
         "orientation": "v",
         "showlegend": false,
         "textfont": {
          "size": 9
         },
         "textposition": "auto",
         "texttemplate": "%{y:.1f}",
         "type": "bar",
         "x": [
          "CANOE (vanilla)",
          "CANOE (ref)",
          "CEF2023"
         ],
         "xaxis": "x4",
         "y": [
          140.4385643082625,
          55.17547805045918,
          27.0058
         ],
         "yaxis": "y4"
        },
        {
         "alignmentgroup": "True",
         "hovertemplate": "Carrier=Electricity<br>Period=2040<br>Source=%{x}<br>Demand (PJ)=%{y}<extra></extra>",
         "legendgroup": "Electricity",
         "marker": {
          "color": "#109618",
          "pattern": {
           "shape": ""
          }
         },
         "name": "Electricity",
         "offsetgroup": "Electricity",
         "orientation": "v",
         "showlegend": false,
         "textfont": {
          "size": 9
         },
         "textposition": "auto",
         "texttemplate": "%{y:.1f}",
         "type": "bar",
         "x": [
          "CANOE (vanilla)",
          "CANOE (ref)",
          "CEF2023"
         ],
         "xaxis": "x5",
         "y": [
          154.4830907865998,
          76.064673421237,
          46.0383
         ],
         "yaxis": "y5"
        },
        {
         "alignmentgroup": "True",
         "hovertemplate": "Carrier=Electricity<br>Period=2045<br>Source=%{x}<br>Demand (PJ)=%{y}<extra></extra>",
         "legendgroup": "Electricity",
         "marker": {
          "color": "#109618",
          "pattern": {
           "shape": ""
          }
         },
         "name": "Electricity",
         "offsetgroup": "Electricity",
         "orientation": "v",
         "showlegend": false,
         "textfont": {
          "size": 9
         },
         "textposition": "auto",
         "texttemplate": "%{y:.1f}",
         "type": "bar",
         "x": [
          "CANOE (vanilla)",
          "CANOE (ref)",
          "CEF2023"
         ],
         "xaxis": "x6",
         "y": [
          162.5874055483825,
          90.69165213814382,
          62.5818
         ],
         "yaxis": "y6"
        },
        {
         "alignmentgroup": "True",
         "hovertemplate": "Carrier=Electricity<br>Period=2050<br>Source=%{x}<br>Demand (PJ)=%{y}<extra></extra>",
         "legendgroup": "Electricity",
         "marker": {
          "color": "#109618",
          "pattern": {
           "shape": ""
          }
         },
         "name": "Electricity",
         "offsetgroup": "Electricity",
         "orientation": "v",
         "showlegend": false,
         "textfont": {
          "size": 9
         },
         "textposition": "auto",
         "texttemplate": "%{y:.1f}",
         "type": "bar",
         "x": [
          "CANOE (vanilla)",
          "CANOE (ref)",
          "CEF2023"
         ],
         "xaxis": "x7",
         "y": [
          177.9925380966664,
          101.3742579360259,
          74.5335
         ],
         "yaxis": "y7"
        },
        {
         "alignmentgroup": "True",
         "hovertemplate": "Carrier=H2<br>Period=2021<br>Source=%{x}<br>Demand (PJ)=%{y}<extra></extra>",
         "legendgroup": "H2",
         "marker": {
          "color": "#990099",
          "pattern": {
           "shape": ""
          }
         },
         "name": "H2",
         "offsetgroup": "H2",
         "orientation": "v",
         "showlegend": true,
         "textfont": {
          "size": 9
         },
         "textposition": "auto",
         "texttemplate": "%{y:.1f}",
         "type": "bar",
         "x": [
          "CANOE (vanilla)",
          "CANOE (ref)",
          "CEF2023"
         ],
         "xaxis": "x",
         "y": [
          4.313629631094308,
          0,
          0.0001
         ],
         "yaxis": "y"
        },
        {
         "alignmentgroup": "True",
         "hovertemplate": "Carrier=H2<br>Period=2025<br>Source=%{x}<br>Demand (PJ)=%{y}<extra></extra>",
         "legendgroup": "H2",
         "marker": {
          "color": "#990099",
          "pattern": {
           "shape": ""
          }
         },
         "name": "H2",
         "offsetgroup": "H2",
         "orientation": "v",
         "showlegend": false,
         "textfont": {
          "size": 9
         },
         "textposition": "auto",
         "texttemplate": "%{y:.1f}",
         "type": "bar",
         "x": [
          "CANOE (vanilla)",
          "CANOE (ref)",
          "CEF2023"
         ],
         "xaxis": "x2",
         "y": [
          9.887599653559095,
          1.384509645256387,
          0.0001
         ],
         "yaxis": "y2"
        },
        {
         "alignmentgroup": "True",
         "hovertemplate": "Carrier=H2<br>Period=2030<br>Source=%{x}<br>Demand (PJ)=%{y}<extra></extra>",
         "legendgroup": "H2",
         "marker": {
          "color": "#990099",
          "pattern": {
           "shape": ""
          }
         },
         "name": "H2",
         "offsetgroup": "H2",
         "orientation": "v",
         "showlegend": false,
         "textfont": {
          "size": 9
         },
         "textposition": "auto",
         "texttemplate": "%{y:.1f}",
         "type": "bar",
         "x": [
          "CANOE (vanilla)",
          "CANOE (ref)",
          "CEF2023"
         ],
         "xaxis": "x3",
         "y": [
          18.90623522305422,
          3.849415678596185,
          0.0001
         ],
         "yaxis": "y3"
        },
        {
         "alignmentgroup": "True",
         "hovertemplate": "Carrier=H2<br>Period=2035<br>Source=%{x}<br>Demand (PJ)=%{y}<extra></extra>",
         "legendgroup": "H2",
         "marker": {
          "color": "#990099",
          "pattern": {
           "shape": ""
          }
         },
         "name": "H2",
         "offsetgroup": "H2",
         "orientation": "v",
         "showlegend": false,
         "textfont": {
          "size": 9
         },
         "textposition": "auto",
         "texttemplate": "%{y:.1f}",
         "type": "bar",
         "x": [
          "CANOE (vanilla)",
          "CANOE (ref)",
          "CEF2023"
         ],
         "xaxis": "x4",
         "y": [
          71.01155465663996,
          8.768565001800921,
          0.0001
         ],
         "yaxis": "y4"
        },
        {
         "alignmentgroup": "True",
         "hovertemplate": "Carrier=H2<br>Period=2040<br>Source=%{x}<br>Demand (PJ)=%{y}<extra></extra>",
         "legendgroup": "H2",
         "marker": {
          "color": "#990099",
          "pattern": {
           "shape": ""
          }
         },
         "name": "H2",
         "offsetgroup": "H2",
         "orientation": "v",
         "showlegend": false,
         "textfont": {
          "size": 9
         },
         "textposition": "auto",
         "texttemplate": "%{y:.1f}",
         "type": "bar",
         "x": [
          "CANOE (vanilla)",
          "CANOE (ref)",
          "CEF2023"
         ],
         "xaxis": "x5",
         "y": [
          120.6864353155514,
          15.02708689399084,
          0.0001
         ],
         "yaxis": "y5"
        },
        {
         "alignmentgroup": "True",
         "hovertemplate": "Carrier=H2<br>Period=2045<br>Source=%{x}<br>Demand (PJ)=%{y}<extra></extra>",
         "legendgroup": "H2",
         "marker": {
          "color": "#990099",
          "pattern": {
           "shape": ""
          }
         },
         "name": "H2",
         "offsetgroup": "H2",
         "orientation": "v",
         "showlegend": false,
         "textfont": {
          "size": 9
         },
         "textposition": "auto",
         "texttemplate": "%{y:.1f}",
         "type": "bar",
         "x": [
          "CANOE (vanilla)",
          "CANOE (ref)",
          "CEF2023"
         ],
         "xaxis": "x6",
         "y": [
          138.2046228753819,
          19.69722371711239,
          0.0001
         ],
         "yaxis": "y6"
        },
        {
         "alignmentgroup": "True",
         "hovertemplate": "Carrier=H2<br>Period=2050<br>Source=%{x}<br>Demand (PJ)=%{y}<extra></extra>",
         "legendgroup": "H2",
         "marker": {
          "color": "#990099",
          "pattern": {
           "shape": ""
          }
         },
         "name": "H2",
         "offsetgroup": "H2",
         "orientation": "v",
         "showlegend": false,
         "textfont": {
          "size": 9
         },
         "textposition": "auto",
         "texttemplate": "%{y:.1f}",
         "type": "bar",
         "x": [
          "CANOE (vanilla)",
          "CANOE (ref)",
          "CEF2023"
         ],
         "xaxis": "x7",
         "y": [
          135.8120843499424,
          22.96330108022967,
          0.0001
         ],
         "yaxis": "y7"
        },
        {
         "alignmentgroup": "True",
         "hovertemplate": "Carrier=Natural Gas<br>Period=2021<br>Source=%{x}<br>Demand (PJ)=%{y}<extra></extra>",
         "legendgroup": "Natural Gas",
         "marker": {
          "color": "#0099C6",
          "pattern": {
           "shape": ""
          }
         },
         "name": "Natural Gas",
         "offsetgroup": "Natural Gas",
         "orientation": "v",
         "showlegend": true,
         "textfont": {
          "size": 9
         },
         "textposition": "auto",
         "texttemplate": "%{y:.1f}",
         "type": "bar",
         "x": [
          "CANOE (vanilla)",
          "CANOE (ref)",
          "CEF2023"
         ],
         "xaxis": "x",
         "y": [
          0.2896289404853268,
          0.348825451877419,
          0.6612
         ],
         "yaxis": "y"
        },
        {
         "alignmentgroup": "True",
         "hovertemplate": "Carrier=Natural Gas<br>Period=2025<br>Source=%{x}<br>Demand (PJ)=%{y}<extra></extra>",
         "legendgroup": "Natural Gas",
         "marker": {
          "color": "#0099C6",
          "pattern": {
           "shape": ""
          }
         },
         "name": "Natural Gas",
         "offsetgroup": "Natural Gas",
         "orientation": "v",
         "showlegend": false,
         "textfont": {
          "size": 9
         },
         "textposition": "auto",
         "texttemplate": "%{y:.1f}",
         "type": "bar",
         "x": [
          "CANOE (vanilla)",
          "CANOE (ref)",
          "CEF2023"
         ],
         "xaxis": "x2",
         "y": [
          0.2494002033729039,
          1.0779470114787195,
          0.7773
         ],
         "yaxis": "y2"
        },
        {
         "alignmentgroup": "True",
         "hovertemplate": "Carrier=Natural Gas<br>Period=2030<br>Source=%{x}<br>Demand (PJ)=%{y}<extra></extra>",
         "legendgroup": "Natural Gas",
         "marker": {
          "color": "#0099C6",
          "pattern": {
           "shape": ""
          }
         },
         "name": "Natural Gas",
         "offsetgroup": "Natural Gas",
         "orientation": "v",
         "showlegend": false,
         "textfont": {
          "size": 9
         },
         "textposition": "auto",
         "texttemplate": "%{y:.1f}",
         "type": "bar",
         "x": [
          "CANOE (vanilla)",
          "CANOE (ref)",
          "CEF2023"
         ],
         "xaxis": "x3",
         "y": [
          0.8499270338101276,
          2.74064658378138,
          0.8382
         ],
         "yaxis": "y3"
        },
        {
         "alignmentgroup": "True",
         "hovertemplate": "Carrier=Natural Gas<br>Period=2035<br>Source=%{x}<br>Demand (PJ)=%{y}<extra></extra>",
         "legendgroup": "Natural Gas",
         "marker": {
          "color": "#0099C6",
          "pattern": {
           "shape": ""
          }
         },
         "name": "Natural Gas",
         "offsetgroup": "Natural Gas",
         "orientation": "v",
         "showlegend": false,
         "textfont": {
          "size": 9
         },
         "textposition": "auto",
         "texttemplate": "%{y:.1f}",
         "type": "bar",
         "x": [
          "CANOE (vanilla)",
          "CANOE (ref)",
          "CEF2023"
         ],
         "xaxis": "x4",
         "y": [
          2.694982887148611,
          3.5203110746250763,
          0.8741
         ],
         "yaxis": "y4"
        },
        {
         "alignmentgroup": "True",
         "hovertemplate": "Carrier=Natural Gas<br>Period=2040<br>Source=%{x}<br>Demand (PJ)=%{y}<extra></extra>",
         "legendgroup": "Natural Gas",
         "marker": {
          "color": "#0099C6",
          "pattern": {
           "shape": ""
          }
         },
         "name": "Natural Gas",
         "offsetgroup": "Natural Gas",
         "orientation": "v",
         "showlegend": false,
         "textfont": {
          "size": 9
         },
         "textposition": "auto",
         "texttemplate": "%{y:.1f}",
         "type": "bar",
         "x": [
          "CANOE (vanilla)",
          "CANOE (ref)",
          "CEF2023"
         ],
         "xaxis": "x5",
         "y": [
          4.497129842668768,
          5.322041595291456,
          0.8821
         ],
         "yaxis": "y5"
        },
        {
         "alignmentgroup": "True",
         "hovertemplate": "Carrier=Natural Gas<br>Period=2045<br>Source=%{x}<br>Demand (PJ)=%{y}<extra></extra>",
         "legendgroup": "Natural Gas",
         "marker": {
          "color": "#0099C6",
          "pattern": {
           "shape": ""
          }
         },
         "name": "Natural Gas",
         "offsetgroup": "Natural Gas",
         "orientation": "v",
         "showlegend": false,
         "textfont": {
          "size": 9
         },
         "textposition": "auto",
         "texttemplate": "%{y:.1f}",
         "type": "bar",
         "x": [
          "CANOE (vanilla)",
          "CANOE (ref)",
          "CEF2023"
         ],
         "xaxis": "x6",
         "y": [
          7.783292385766369,
          5.321450332957165,
          0.883
         ],
         "yaxis": "y6"
        },
        {
         "alignmentgroup": "True",
         "hovertemplate": "Carrier=Natural Gas<br>Period=2050<br>Source=%{x}<br>Demand (PJ)=%{y}<extra></extra>",
         "legendgroup": "Natural Gas",
         "marker": {
          "color": "#0099C6",
          "pattern": {
           "shape": ""
          }
         },
         "name": "Natural Gas",
         "offsetgroup": "Natural Gas",
         "orientation": "v",
         "showlegend": false,
         "textfont": {
          "size": 9
         },
         "textposition": "auto",
         "texttemplate": "%{y:.1f}",
         "type": "bar",
         "x": [
          "CANOE (vanilla)",
          "CANOE (ref)",
          "CEF2023"
         ],
         "xaxis": "x7",
         "y": [
          10.158369753969,
          5.321409649276279,
          0.8844
         ],
         "yaxis": "y7"
        },
        {
         "alignmentgroup": "True",
         "hovertemplate": "Carrier=Aviation Fuel<br>Period=2021<br>Source=%{x}<br>Demand (PJ)=%{y}<extra></extra>",
         "legendgroup": "Aviation Fuel",
         "marker": {
          "color": "#DD4477",
          "pattern": {
           "shape": ""
          }
         },
         "name": "Aviation Fuel",
         "offsetgroup": "Aviation Fuel",
         "orientation": "v",
         "showlegend": true,
         "textfont": {
          "size": 9
         },
         "textposition": "auto",
         "texttemplate": "%{y:.1f}",
         "type": "bar",
         "x": [
          "CANOE (vanilla)",
          "CANOE (ref)",
          "CEF2023"
         ],
         "xaxis": "x",
         "y": [
          78.6013309647413,
          78.60133094287413,
          49.6219
         ],
         "yaxis": "y"
        },
        {
         "alignmentgroup": "True",
         "hovertemplate": "Carrier=Aviation Fuel<br>Period=2025<br>Source=%{x}<br>Demand (PJ)=%{y}<extra></extra>",
         "legendgroup": "Aviation Fuel",
         "marker": {
          "color": "#DD4477",
          "pattern": {
           "shape": ""
          }
         },
         "name": "Aviation Fuel",
         "offsetgroup": "Aviation Fuel",
         "orientation": "v",
         "showlegend": false,
         "textfont": {
          "size": 9
         },
         "textposition": "auto",
         "texttemplate": "%{y:.1f}",
         "type": "bar",
         "x": [
          "CANOE (vanilla)",
          "CANOE (ref)",
          "CEF2023"
         ],
         "xaxis": "x2",
         "y": [
          89.23148290559551,
          89.23148251555499,
          106.7396
         ],
         "yaxis": "y2"
        },
        {
         "alignmentgroup": "True",
         "hovertemplate": "Carrier=Aviation Fuel<br>Period=2030<br>Source=%{x}<br>Demand (PJ)=%{y}<extra></extra>",
         "legendgroup": "Aviation Fuel",
         "marker": {
          "color": "#DD4477",
          "pattern": {
           "shape": ""
          }
         },
         "name": "Aviation Fuel",
         "offsetgroup": "Aviation Fuel",
         "orientation": "v",
         "showlegend": false,
         "textfont": {
          "size": 9
         },
         "textposition": "auto",
         "texttemplate": "%{y:.1f}",
         "type": "bar",
         "x": [
          "CANOE (vanilla)",
          "CANOE (ref)",
          "CEF2023"
         ],
         "xaxis": "x3",
         "y": [
          92.36973929606798,
          92.36973871430398,
          117.9412
         ],
         "yaxis": "y3"
        },
        {
         "alignmentgroup": "True",
         "hovertemplate": "Carrier=Aviation Fuel<br>Period=2035<br>Source=%{x}<br>Demand (PJ)=%{y}<extra></extra>",
         "legendgroup": "Aviation Fuel",
         "marker": {
          "color": "#DD4477",
          "pattern": {
           "shape": ""
          }
         },
         "name": "Aviation Fuel",
         "offsetgroup": "Aviation Fuel",
         "orientation": "v",
         "showlegend": false,
         "textfont": {
          "size": 9
         },
         "textposition": "auto",
         "texttemplate": "%{y:.1f}",
         "type": "bar",
         "x": [
          "CANOE (vanilla)",
          "CANOE (ref)",
          "CEF2023"
         ],
         "xaxis": "x4",
         "y": [
          96.64765516373402,
          96.6476545575975,
          126.9966
         ],
         "yaxis": "y4"
        },
        {
         "alignmentgroup": "True",
         "hovertemplate": "Carrier=Aviation Fuel<br>Period=2040<br>Source=%{x}<br>Demand (PJ)=%{y}<extra></extra>",
         "legendgroup": "Aviation Fuel",
         "marker": {
          "color": "#DD4477",
          "pattern": {
           "shape": ""
          }
         },
         "name": "Aviation Fuel",
         "offsetgroup": "Aviation Fuel",
         "orientation": "v",
         "showlegend": false,
         "textfont": {
          "size": 9
         },
         "textposition": "auto",
         "texttemplate": "%{y:.1f}",
         "type": "bar",
         "x": [
          "CANOE (vanilla)",
          "CANOE (ref)",
          "CEF2023"
         ],
         "xaxis": "x5",
         "y": [
          104.4661346224019,
          104.4661338996324,
          133.7623
         ],
         "yaxis": "y5"
        },
        {
         "alignmentgroup": "True",
         "hovertemplate": "Carrier=Aviation Fuel<br>Period=2045<br>Source=%{x}<br>Demand (PJ)=%{y}<extra></extra>",
         "legendgroup": "Aviation Fuel",
         "marker": {
          "color": "#DD4477",
          "pattern": {
           "shape": ""
          }
         },
         "name": "Aviation Fuel",
         "offsetgroup": "Aviation Fuel",
         "orientation": "v",
         "showlegend": false,
         "textfont": {
          "size": 9
         },
         "textposition": "auto",
         "texttemplate": "%{y:.1f}",
         "type": "bar",
         "x": [
          "CANOE (vanilla)",
          "CANOE (ref)",
          "CEF2023"
         ],
         "xaxis": "x6",
         "y": [
          115.938780979899,
          115.9387797481138,
          138.7778
         ],
         "yaxis": "y6"
        },
        {
         "alignmentgroup": "True",
         "hovertemplate": "Carrier=Aviation Fuel<br>Period=2050<br>Source=%{x}<br>Demand (PJ)=%{y}<extra></extra>",
         "legendgroup": "Aviation Fuel",
         "marker": {
          "color": "#DD4477",
          "pattern": {
           "shape": ""
          }
         },
         "name": "Aviation Fuel",
         "offsetgroup": "Aviation Fuel",
         "orientation": "v",
         "showlegend": false,
         "textfont": {
          "size": 9
         },
         "textposition": "auto",
         "texttemplate": "%{y:.1f}",
         "type": "bar",
         "x": [
          "CANOE (vanilla)",
          "CANOE (ref)",
          "CEF2023"
         ],
         "xaxis": "x7",
         "y": [
          124.5193009731644,
          124.5193000230279,
          142.8996
         ],
         "yaxis": "y7"
        },
        {
         "alignmentgroup": "True",
         "hovertemplate": "Carrier=Marine Fuels<br>Period=2021<br>Source=%{x}<br>Demand (PJ)=%{y}<extra></extra>",
         "legendgroup": "Marine Fuels",
         "marker": {
          "color": "#B82E2E",
          "pattern": {
           "shape": ""
          }
         },
         "name": "Marine Fuels",
         "offsetgroup": "Marine Fuels",
         "orientation": "v",
         "showlegend": true,
         "textfont": {
          "size": 9
         },
         "textposition": "auto",
         "texttemplate": "%{y:.1f}",
         "type": "bar",
         "x": [
          "CANOE (vanilla)",
          "CANOE (ref)",
          "CEF2023"
         ],
         "xaxis": "x",
         "y": [
          7.984132906421829,
          8.028415638209403,
          15.9492
         ],
         "yaxis": "y"
        },
        {
         "alignmentgroup": "True",
         "hovertemplate": "Carrier=Marine Fuels<br>Period=2025<br>Source=%{x}<br>Demand (PJ)=%{y}<extra></extra>",
         "legendgroup": "Marine Fuels",
         "marker": {
          "color": "#B82E2E",
          "pattern": {
           "shape": ""
          }
         },
         "name": "Marine Fuels",
         "offsetgroup": "Marine Fuels",
         "orientation": "v",
         "showlegend": false,
         "textfont": {
          "size": 9
         },
         "textposition": "auto",
         "texttemplate": "%{y:.1f}",
         "type": "bar",
         "x": [
          "CANOE (vanilla)",
          "CANOE (ref)",
          "CEF2023"
         ],
         "xaxis": "x2",
         "y": [
          8.829542317168697,
          8.028435244349303,
          14.0341
         ],
         "yaxis": "y2"
        },
        {
         "alignmentgroup": "True",
         "hovertemplate": "Carrier=Marine Fuels<br>Period=2030<br>Source=%{x}<br>Demand (PJ)=%{y}<extra></extra>",
         "legendgroup": "Marine Fuels",
         "marker": {
          "color": "#B82E2E",
          "pattern": {
           "shape": ""
          }
         },
         "name": "Marine Fuels",
         "offsetgroup": "Marine Fuels",
         "orientation": "v",
         "showlegend": false,
         "textfont": {
          "size": 9
         },
         "textposition": "auto",
         "texttemplate": "%{y:.1f}",
         "type": "bar",
         "x": [
          "CANOE (vanilla)",
          "CANOE (ref)",
          "CEF2023"
         ],
         "xaxis": "x3",
         "y": [
          8.829546173240987,
          6.772446114126409,
          10.8613
         ],
         "yaxis": "y3"
        },
        {
         "alignmentgroup": "True",
         "hovertemplate": "Carrier=Marine Fuels<br>Period=2035<br>Source=%{x}<br>Demand (PJ)=%{y}<extra></extra>",
         "legendgroup": "Marine Fuels",
         "marker": {
          "color": "#B82E2E",
          "pattern": {
           "shape": ""
          }
         },
         "name": "Marine Fuels",
         "offsetgroup": "Marine Fuels",
         "orientation": "v",
         "showlegend": false,
         "textfont": {
          "size": 9
         },
         "textposition": "auto",
         "texttemplate": "%{y:.1f}",
         "type": "bar",
         "x": [
          "CANOE (vanilla)",
          "CANOE (ref)",
          "CEF2023"
         ],
         "xaxis": "x4",
         "y": [
          7.237009744400377,
          6.435899611070812,
          8.401
         ],
         "yaxis": "y4"
        },
        {
         "alignmentgroup": "True",
         "hovertemplate": "Carrier=Marine Fuels<br>Period=2040<br>Source=%{x}<br>Demand (PJ)=%{y}<extra></extra>",
         "legendgroup": "Marine Fuels",
         "marker": {
          "color": "#B82E2E",
          "pattern": {
           "shape": ""
          }
         },
         "name": "Marine Fuels",
         "offsetgroup": "Marine Fuels",
         "orientation": "v",
         "showlegend": false,
         "textfont": {
          "size": 9
         },
         "textposition": "auto",
         "texttemplate": "%{y:.1f}",
         "type": "bar",
         "x": [
          "CANOE (vanilla)",
          "CANOE (ref)",
          "CEF2023"
         ],
         "xaxis": "x5",
         "y": [
          5.870816469545339,
          5.069720252067299,
          6.8611
         ],
         "yaxis": "y5"
        },
        {
         "alignmentgroup": "True",
         "hovertemplate": "Carrier=Marine Fuels<br>Period=2045<br>Source=%{x}<br>Demand (PJ)=%{y}<extra></extra>",
         "legendgroup": "Marine Fuels",
         "marker": {
          "color": "#B82E2E",
          "pattern": {
           "shape": ""
          }
         },
         "name": "Marine Fuels",
         "offsetgroup": "Marine Fuels",
         "orientation": "v",
         "showlegend": false,
         "textfont": {
          "size": 9
         },
         "textposition": "auto",
         "texttemplate": "%{y:.1f}",
         "type": "bar",
         "x": [
          "CANOE (vanilla)",
          "CANOE (ref)",
          "CEF2023"
         ],
         "xaxis": "x6",
         "y": [
          2.5423987429902617,
          5.170197211298707,
          6.0186
         ],
         "yaxis": "y6"
        },
        {
         "alignmentgroup": "True",
         "hovertemplate": "Carrier=Marine Fuels<br>Period=2050<br>Source=%{x}<br>Demand (PJ)=%{y}<extra></extra>",
         "legendgroup": "Marine Fuels",
         "marker": {
          "color": "#B82E2E",
          "pattern": {
           "shape": ""
          }
         },
         "name": "Marine Fuels",
         "offsetgroup": "Marine Fuels",
         "orientation": "v",
         "showlegend": false,
         "textfont": {
          "size": 9
         },
         "textposition": "auto",
         "texttemplate": "%{y:.1f}",
         "type": "bar",
         "x": [
          "CANOE (vanilla)",
          "CANOE (ref)",
          "CEF2023"
         ],
         "xaxis": "x7",
         "y": [
          0.2092222207697549,
          5.458993750863557,
          5.71
         ],
         "yaxis": "y7"
        },
        {
         "alignmentgroup": "True",
         "hovertemplate": "Carrier=Other<br>Period=2021<br>Source=%{x}<br>Demand (PJ)=%{y}<extra></extra>",
         "legendgroup": "Other",
         "marker": {
          "color": "#316395",
          "pattern": {
           "shape": ""
          }
         },
         "name": "Other",
         "offsetgroup": "Other",
         "orientation": "v",
         "showlegend": true,
         "textfont": {
          "size": 9
         },
         "textposition": "auto",
         "texttemplate": "%{y:.1f}",
         "type": "bar",
         "x": [
          "CEF2023"
         ],
         "xaxis": "x",
         "y": [
          6.2623
         ],
         "yaxis": "y"
        },
        {
         "alignmentgroup": "True",
         "hovertemplate": "Carrier=Other<br>Period=2025<br>Source=%{x}<br>Demand (PJ)=%{y}<extra></extra>",
         "legendgroup": "Other",
         "marker": {
          "color": "#316395",
          "pattern": {
           "shape": ""
          }
         },
         "name": "Other",
         "offsetgroup": "Other",
         "orientation": "v",
         "showlegend": false,
         "textfont": {
          "size": 9
         },
         "textposition": "auto",
         "texttemplate": "%{y:.1f}",
         "type": "bar",
         "x": [
          "CEF2023"
         ],
         "xaxis": "x2",
         "y": [
          6.1236
         ],
         "yaxis": "y2"
        },
        {
         "alignmentgroup": "True",
         "hovertemplate": "Carrier=Other<br>Period=2030<br>Source=%{x}<br>Demand (PJ)=%{y}<extra></extra>",
         "legendgroup": "Other",
         "marker": {
          "color": "#316395",
          "pattern": {
           "shape": ""
          }
         },
         "name": "Other",
         "offsetgroup": "Other",
         "orientation": "v",
         "showlegend": false,
         "textfont": {
          "size": 9
         },
         "textposition": "auto",
         "texttemplate": "%{y:.1f}",
         "type": "bar",
         "x": [
          "CEF2023"
         ],
         "xaxis": "x3",
         "y": [
          5.6739
         ],
         "yaxis": "y3"
        },
        {
         "alignmentgroup": "True",
         "hovertemplate": "Carrier=Other<br>Period=2035<br>Source=%{x}<br>Demand (PJ)=%{y}<extra></extra>",
         "legendgroup": "Other",
         "marker": {
          "color": "#316395",
          "pattern": {
           "shape": ""
          }
         },
         "name": "Other",
         "offsetgroup": "Other",
         "orientation": "v",
         "showlegend": false,
         "textfont": {
          "size": 9
         },
         "textposition": "auto",
         "texttemplate": "%{y:.1f}",
         "type": "bar",
         "x": [
          "CEF2023"
         ],
         "xaxis": "x4",
         "y": [
          5.2496
         ],
         "yaxis": "y4"
        },
        {
         "alignmentgroup": "True",
         "hovertemplate": "Carrier=Other<br>Period=2040<br>Source=%{x}<br>Demand (PJ)=%{y}<extra></extra>",
         "legendgroup": "Other",
         "marker": {
          "color": "#316395",
          "pattern": {
           "shape": ""
          }
         },
         "name": "Other",
         "offsetgroup": "Other",
         "orientation": "v",
         "showlegend": false,
         "textfont": {
          "size": 9
         },
         "textposition": "auto",
         "texttemplate": "%{y:.1f}",
         "type": "bar",
         "x": [
          "CEF2023"
         ],
         "xaxis": "x5",
         "y": [
          4.829000000000001
         ],
         "yaxis": "y5"
        },
        {
         "alignmentgroup": "True",
         "hovertemplate": "Carrier=Other<br>Period=2045<br>Source=%{x}<br>Demand (PJ)=%{y}<extra></extra>",
         "legendgroup": "Other",
         "marker": {
          "color": "#316395",
          "pattern": {
           "shape": ""
          }
         },
         "name": "Other",
         "offsetgroup": "Other",
         "orientation": "v",
         "showlegend": false,
         "textfont": {
          "size": 9
         },
         "textposition": "auto",
         "texttemplate": "%{y:.1f}",
         "type": "bar",
         "x": [
          "CEF2023"
         ],
         "xaxis": "x6",
         "y": [
          4.507
         ],
         "yaxis": "y6"
        },
        {
         "alignmentgroup": "True",
         "hovertemplate": "Carrier=Other<br>Period=2050<br>Source=%{x}<br>Demand (PJ)=%{y}<extra></extra>",
         "legendgroup": "Other",
         "marker": {
          "color": "#316395",
          "pattern": {
           "shape": ""
          }
         },
         "name": "Other",
         "offsetgroup": "Other",
         "orientation": "v",
         "showlegend": false,
         "textfont": {
          "size": 9
         },
         "textposition": "auto",
         "texttemplate": "%{y:.1f}",
         "type": "bar",
         "x": [
          "CEF2023"
         ],
         "xaxis": "x7",
         "y": [
          4.318
         ],
         "yaxis": "y7"
        }
       ],
       "layout": {
        "annotations": [
         {
          "font": {},
          "showarrow": false,
          "text": "2021",
          "x": 0.06285714285714285,
          "xanchor": "center",
          "xref": "paper",
          "y": -0.13,
          "yanchor": "top",
          "yref": "paper"
         },
         {
          "font": {},
          "showarrow": false,
          "text": "2025",
          "x": 0.20857142857142852,
          "xanchor": "center",
          "xref": "paper",
          "y": -0.13,
          "yanchor": "top",
          "yref": "paper"
         },
         {
          "font": {},
          "showarrow": false,
          "text": "2030",
          "x": 0.3542857142857142,
          "xanchor": "center",
          "xref": "paper",
          "y": -0.13,
          "yanchor": "top",
          "yref": "paper"
         },
         {
          "font": {},
          "showarrow": false,
          "text": "2035",
          "x": 0.5,
          "xanchor": "center",
          "xref": "paper",
          "y": -0.13,
          "yanchor": "top",
          "yref": "paper"
         },
         {
          "font": {},
          "showarrow": false,
          "text": "2040",
          "x": 0.6457142857142856,
          "xanchor": "center",
          "xref": "paper",
          "y": -0.13,
          "yanchor": "top",
          "yref": "paper"
         },
         {
          "font": {},
          "showarrow": false,
          "text": "2045",
          "x": 0.7914285714285713,
          "xanchor": "center",
          "xref": "paper",
          "y": -0.13,
          "yanchor": "top",
          "yref": "paper"
         },
         {
          "font": {},
          "showarrow": false,
          "text": "2050",
          "x": 0.937142857142857,
          "xanchor": "center",
          "xref": "paper",
          "y": -0.13,
          "yanchor": "top",
          "yref": "paper"
         }
        ],
        "bargap": 0.1,
        "barmode": "stack",
        "font": {
         "size": 16
        },
        "height": 650,
        "legend": {
         "orientation": "h",
         "title": {
          "text": ""
         },
         "tracegroupgap": 0,
         "x": 0.5,
         "xanchor": "center",
         "y": 1.04,
         "yanchor": "top"
        },
        "margin": {
         "t": 60
        },
        "template": {
         "data": {
          "bar": [
           {
            "error_x": {
             "color": "#2a3f5f"
            },
            "error_y": {
             "color": "#2a3f5f"
            },
            "marker": {
             "line": {
              "color": "white",
              "width": 0.5
             },
             "pattern": {
              "fillmode": "overlay",
              "size": 10,
              "solidity": 0.2
             }
            },
            "type": "bar"
           }
          ],
          "barpolar": [
           {
            "marker": {
             "line": {
              "color": "white",
              "width": 0.5
             },
             "pattern": {
              "fillmode": "overlay",
              "size": 10,
              "solidity": 0.2
             }
            },
            "type": "barpolar"
           }
          ],
          "carpet": [
           {
            "aaxis": {
             "endlinecolor": "#2a3f5f",
             "gridcolor": "#C8D4E3",
             "linecolor": "#C8D4E3",
             "minorgridcolor": "#C8D4E3",
             "startlinecolor": "#2a3f5f"
            },
            "baxis": {
             "endlinecolor": "#2a3f5f",
             "gridcolor": "#C8D4E3",
             "linecolor": "#C8D4E3",
             "minorgridcolor": "#C8D4E3",
             "startlinecolor": "#2a3f5f"
            },
            "type": "carpet"
           }
          ],
          "choropleth": [
           {
            "colorbar": {
             "outlinewidth": 0,
             "ticks": ""
            },
            "type": "choropleth"
           }
          ],
          "contour": [
           {
            "colorbar": {
             "outlinewidth": 0,
             "ticks": ""
            },
            "colorscale": [
             [
              0,
              "#0d0887"
             ],
             [
              0.1111111111111111,
              "#46039f"
             ],
             [
              0.2222222222222222,
              "#7201a8"
             ],
             [
              0.3333333333333333,
              "#9c179e"
             ],
             [
              0.4444444444444444,
              "#bd3786"
             ],
             [
              0.5555555555555556,
              "#d8576b"
             ],
             [
              0.6666666666666666,
              "#ed7953"
             ],
             [
              0.7777777777777778,
              "#fb9f3a"
             ],
             [
              0.8888888888888888,
              "#fdca26"
             ],
             [
              1,
              "#f0f921"
             ]
            ],
            "type": "contour"
           }
          ],
          "contourcarpet": [
           {
            "colorbar": {
             "outlinewidth": 0,
             "ticks": ""
            },
            "type": "contourcarpet"
           }
          ],
          "heatmap": [
           {
            "colorbar": {
             "outlinewidth": 0,
             "ticks": ""
            },
            "colorscale": [
             [
              0,
              "#0d0887"
             ],
             [
              0.1111111111111111,
              "#46039f"
             ],
             [
              0.2222222222222222,
              "#7201a8"
             ],
             [
              0.3333333333333333,
              "#9c179e"
             ],
             [
              0.4444444444444444,
              "#bd3786"
             ],
             [
              0.5555555555555556,
              "#d8576b"
             ],
             [
              0.6666666666666666,
              "#ed7953"
             ],
             [
              0.7777777777777778,
              "#fb9f3a"
             ],
             [
              0.8888888888888888,
              "#fdca26"
             ],
             [
              1,
              "#f0f921"
             ]
            ],
            "type": "heatmap"
           }
          ],
          "heatmapgl": [
           {
            "colorbar": {
             "outlinewidth": 0,
             "ticks": ""
            },
            "colorscale": [
             [
              0,
              "#0d0887"
             ],
             [
              0.1111111111111111,
              "#46039f"
             ],
             [
              0.2222222222222222,
              "#7201a8"
             ],
             [
              0.3333333333333333,
              "#9c179e"
             ],
             [
              0.4444444444444444,
              "#bd3786"
             ],
             [
              0.5555555555555556,
              "#d8576b"
             ],
             [
              0.6666666666666666,
              "#ed7953"
             ],
             [
              0.7777777777777778,
              "#fb9f3a"
             ],
             [
              0.8888888888888888,
              "#fdca26"
             ],
             [
              1,
              "#f0f921"
             ]
            ],
            "type": "heatmapgl"
           }
          ],
          "histogram": [
           {
            "marker": {
             "pattern": {
              "fillmode": "overlay",
              "size": 10,
              "solidity": 0.2
             }
            },
            "type": "histogram"
           }
          ],
          "histogram2d": [
           {
            "colorbar": {
             "outlinewidth": 0,
             "ticks": ""
            },
            "colorscale": [
             [
              0,
              "#0d0887"
             ],
             [
              0.1111111111111111,
              "#46039f"
             ],
             [
              0.2222222222222222,
              "#7201a8"
             ],
             [
              0.3333333333333333,
              "#9c179e"
             ],
             [
              0.4444444444444444,
              "#bd3786"
             ],
             [
              0.5555555555555556,
              "#d8576b"
             ],
             [
              0.6666666666666666,
              "#ed7953"
             ],
             [
              0.7777777777777778,
              "#fb9f3a"
             ],
             [
              0.8888888888888888,
              "#fdca26"
             ],
             [
              1,
              "#f0f921"
             ]
            ],
            "type": "histogram2d"
           }
          ],
          "histogram2dcontour": [
           {
            "colorbar": {
             "outlinewidth": 0,
             "ticks": ""
            },
            "colorscale": [
             [
              0,
              "#0d0887"
             ],
             [
              0.1111111111111111,
              "#46039f"
             ],
             [
              0.2222222222222222,
              "#7201a8"
             ],
             [
              0.3333333333333333,
              "#9c179e"
             ],
             [
              0.4444444444444444,
              "#bd3786"
             ],
             [
              0.5555555555555556,
              "#d8576b"
             ],
             [
              0.6666666666666666,
              "#ed7953"
             ],
             [
              0.7777777777777778,
              "#fb9f3a"
             ],
             [
              0.8888888888888888,
              "#fdca26"
             ],
             [
              1,
              "#f0f921"
             ]
            ],
            "type": "histogram2dcontour"
           }
          ],
          "mesh3d": [
           {
            "colorbar": {
             "outlinewidth": 0,
             "ticks": ""
            },
            "type": "mesh3d"
           }
          ],
          "parcoords": [
           {
            "line": {
             "colorbar": {
              "outlinewidth": 0,
              "ticks": ""
             }
            },
            "type": "parcoords"
           }
          ],
          "pie": [
           {
            "automargin": true,
            "type": "pie"
           }
          ],
          "scatter": [
           {
            "fillpattern": {
             "fillmode": "overlay",
             "size": 10,
             "solidity": 0.2
            },
            "type": "scatter"
           }
          ],
          "scatter3d": [
           {
            "line": {
             "colorbar": {
              "outlinewidth": 0,
              "ticks": ""
             }
            },
            "marker": {
             "colorbar": {
              "outlinewidth": 0,
              "ticks": ""
             }
            },
            "type": "scatter3d"
           }
          ],
          "scattercarpet": [
           {
            "marker": {
             "colorbar": {
              "outlinewidth": 0,
              "ticks": ""
             }
            },
            "type": "scattercarpet"
           }
          ],
          "scattergeo": [
           {
            "marker": {
             "colorbar": {
              "outlinewidth": 0,
              "ticks": ""
             }
            },
            "type": "scattergeo"
           }
          ],
          "scattergl": [
           {
            "marker": {
             "colorbar": {
              "outlinewidth": 0,
              "ticks": ""
             }
            },
            "type": "scattergl"
           }
          ],
          "scattermapbox": [
           {
            "marker": {
             "colorbar": {
              "outlinewidth": 0,
              "ticks": ""
             }
            },
            "type": "scattermapbox"
           }
          ],
          "scatterpolar": [
           {
            "marker": {
             "colorbar": {
              "outlinewidth": 0,
              "ticks": ""
             }
            },
            "type": "scatterpolar"
           }
          ],
          "scatterpolargl": [
           {
            "marker": {
             "colorbar": {
              "outlinewidth": 0,
              "ticks": ""
             }
            },
            "type": "scatterpolargl"
           }
          ],
          "scatterternary": [
           {
            "marker": {
             "colorbar": {
              "outlinewidth": 0,
              "ticks": ""
             }
            },
            "type": "scatterternary"
           }
          ],
          "surface": [
           {
            "colorbar": {
             "outlinewidth": 0,
             "ticks": ""
            },
            "colorscale": [
             [
              0,
              "#0d0887"
             ],
             [
              0.1111111111111111,
              "#46039f"
             ],
             [
              0.2222222222222222,
              "#7201a8"
             ],
             [
              0.3333333333333333,
              "#9c179e"
             ],
             [
              0.4444444444444444,
              "#bd3786"
             ],
             [
              0.5555555555555556,
              "#d8576b"
             ],
             [
              0.6666666666666666,
              "#ed7953"
             ],
             [
              0.7777777777777778,
              "#fb9f3a"
             ],
             [
              0.8888888888888888,
              "#fdca26"
             ],
             [
              1,
              "#f0f921"
             ]
            ],
            "type": "surface"
           }
          ],
          "table": [
           {
            "cells": {
             "fill": {
              "color": "#EBF0F8"
             },
             "line": {
              "color": "white"
             }
            },
            "header": {
             "fill": {
              "color": "#C8D4E3"
             },
             "line": {
              "color": "white"
             }
            },
            "type": "table"
           }
          ]
         },
         "layout": {
          "annotationdefaults": {
           "arrowcolor": "#2a3f5f",
           "arrowhead": 0,
           "arrowwidth": 1
          },
          "autotypenumbers": "strict",
          "coloraxis": {
           "colorbar": {
            "outlinewidth": 0,
            "ticks": ""
           }
          },
          "colorscale": {
           "diverging": [
            [
             0,
             "#8e0152"
            ],
            [
             0.1,
             "#c51b7d"
            ],
            [
             0.2,
             "#de77ae"
            ],
            [
             0.3,
             "#f1b6da"
            ],
            [
             0.4,
             "#fde0ef"
            ],
            [
             0.5,
             "#f7f7f7"
            ],
            [
             0.6,
             "#e6f5d0"
            ],
            [
             0.7,
             "#b8e186"
            ],
            [
             0.8,
             "#7fbc41"
            ],
            [
             0.9,
             "#4d9221"
            ],
            [
             1,
             "#276419"
            ]
           ],
           "sequential": [
            [
             0,
             "#0d0887"
            ],
            [
             0.1111111111111111,
             "#46039f"
            ],
            [
             0.2222222222222222,
             "#7201a8"
            ],
            [
             0.3333333333333333,
             "#9c179e"
            ],
            [
             0.4444444444444444,
             "#bd3786"
            ],
            [
             0.5555555555555556,
             "#d8576b"
            ],
            [
             0.6666666666666666,
             "#ed7953"
            ],
            [
             0.7777777777777778,
             "#fb9f3a"
            ],
            [
             0.8888888888888888,
             "#fdca26"
            ],
            [
             1,
             "#f0f921"
            ]
           ],
           "sequentialminus": [
            [
             0,
             "#0d0887"
            ],
            [
             0.1111111111111111,
             "#46039f"
            ],
            [
             0.2222222222222222,
             "#7201a8"
            ],
            [
             0.3333333333333333,
             "#9c179e"
            ],
            [
             0.4444444444444444,
             "#bd3786"
            ],
            [
             0.5555555555555556,
             "#d8576b"
            ],
            [
             0.6666666666666666,
             "#ed7953"
            ],
            [
             0.7777777777777778,
             "#fb9f3a"
            ],
            [
             0.8888888888888888,
             "#fdca26"
            ],
            [
             1,
             "#f0f921"
            ]
           ]
          },
          "colorway": [
           "#636efa",
           "#EF553B",
           "#00cc96",
           "#ab63fa",
           "#FFA15A",
           "#19d3f3",
           "#FF6692",
           "#B6E880",
           "#FF97FF",
           "#FECB52"
          ],
          "font": {
           "color": "#2a3f5f"
          },
          "geo": {
           "bgcolor": "white",
           "lakecolor": "white",
           "landcolor": "white",
           "showlakes": true,
           "showland": true,
           "subunitcolor": "#C8D4E3"
          },
          "hoverlabel": {
           "align": "left"
          },
          "hovermode": "closest",
          "mapbox": {
           "style": "light"
          },
          "paper_bgcolor": "white",
          "plot_bgcolor": "white",
          "polar": {
           "angularaxis": {
            "gridcolor": "#EBF0F8",
            "linecolor": "#EBF0F8",
            "ticks": ""
           },
           "bgcolor": "white",
           "radialaxis": {
            "gridcolor": "#EBF0F8",
            "linecolor": "#EBF0F8",
            "ticks": ""
           }
          },
          "scene": {
           "xaxis": {
            "backgroundcolor": "white",
            "gridcolor": "#DFE8F3",
            "gridwidth": 2,
            "linecolor": "#EBF0F8",
            "showbackground": true,
            "ticks": "",
            "zerolinecolor": "#EBF0F8"
           },
           "yaxis": {
            "backgroundcolor": "white",
            "gridcolor": "#DFE8F3",
            "gridwidth": 2,
            "linecolor": "#EBF0F8",
            "showbackground": true,
            "ticks": "",
            "zerolinecolor": "#EBF0F8"
           },
           "zaxis": {
            "backgroundcolor": "white",
            "gridcolor": "#DFE8F3",
            "gridwidth": 2,
            "linecolor": "#EBF0F8",
            "showbackground": true,
            "ticks": "",
            "zerolinecolor": "#EBF0F8"
           }
          },
          "shapedefaults": {
           "line": {
            "color": "#2a3f5f"
           }
          },
          "ternary": {
           "aaxis": {
            "gridcolor": "#DFE8F3",
            "linecolor": "#A2B1C6",
            "ticks": ""
           },
           "baxis": {
            "gridcolor": "#DFE8F3",
            "linecolor": "#A2B1C6",
            "ticks": ""
           },
           "bgcolor": "white",
           "caxis": {
            "gridcolor": "#DFE8F3",
            "linecolor": "#A2B1C6",
            "ticks": ""
           }
          },
          "title": {
           "x": 0.05
          },
          "xaxis": {
           "automargin": true,
           "gridcolor": "#EBF0F8",
           "linecolor": "#EBF0F8",
           "ticks": "",
           "title": {
            "standoff": 15
           },
           "zerolinecolor": "#EBF0F8",
           "zerolinewidth": 2
          },
          "yaxis": {
           "automargin": true,
           "gridcolor": "#EBF0F8",
           "linecolor": "#EBF0F8",
           "ticks": "",
           "title": {
            "standoff": 15
           },
           "zerolinecolor": "#EBF0F8",
           "zerolinewidth": 2
          }
         }
        },
        "title": {
         "text": "Transportation secondary energy demand in ON by carrier and energy model",
         "x": 0.5,
         "xanchor": "center",
         "y": 0.97,
         "yanchor": "top"
        },
        "width": 1200,
        "xaxis": {
         "anchor": "y",
         "domain": [
          0,
          0.1257142857142857
         ],
         "title": {
          "text": ""
         }
        },
        "xaxis2": {
         "anchor": "y2",
         "domain": [
          0.14571428571428569,
          0.27142857142857135
         ],
         "matches": "x",
         "title": {
          "text": ""
         }
        },
        "xaxis3": {
         "anchor": "y3",
         "domain": [
          0.29142857142857137,
          0.41714285714285704
         ],
         "matches": "x",
         "title": {
          "text": ""
         }
        },
        "xaxis4": {
         "anchor": "y4",
         "domain": [
          0.4371428571428571,
          0.5628571428571428
         ],
         "matches": "x",
         "title": {
          "text": ""
         }
        },
        "xaxis5": {
         "anchor": "y5",
         "domain": [
          0.5828571428571427,
          0.7085714285714284
         ],
         "matches": "x",
         "title": {
          "text": ""
         }
        },
        "xaxis6": {
         "anchor": "y6",
         "domain": [
          0.7285714285714284,
          0.8542857142857141
         ],
         "matches": "x",
         "title": {
          "text": ""
         }
        },
        "xaxis7": {
         "anchor": "y7",
         "domain": [
          0.8742857142857142,
          0.9999999999999999
         ],
         "matches": "x",
         "title": {
          "text": ""
         }
        },
        "yaxis": {
         "anchor": "x",
         "domain": [
          0,
          1
         ],
         "dtick": 100,
         "title": {
          "standoff": 0,
          "text": "Demand (PJ)"
         }
        },
        "yaxis2": {
         "anchor": "x2",
         "domain": [
          0,
          1
         ],
         "dtick": 100,
         "matches": "y",
         "showticklabels": false
        },
        "yaxis3": {
         "anchor": "x3",
         "domain": [
          0,
          1
         ],
         "dtick": 100,
         "matches": "y",
         "showticklabels": false
        },
        "yaxis4": {
         "anchor": "x4",
         "domain": [
          0,
          1
         ],
         "dtick": 100,
         "matches": "y",
         "showticklabels": false
        },
        "yaxis5": {
         "anchor": "x5",
         "domain": [
          0,
          1
         ],
         "dtick": 100,
         "matches": "y",
         "showticklabels": false
        },
        "yaxis6": {
         "anchor": "x6",
         "domain": [
          0,
          1
         ],
         "dtick": 100,
         "matches": "y",
         "showticklabels": false
        },
        "yaxis7": {
         "anchor": "x7",
         "domain": [
          0,
          1
         ],
         "dtick": 100,
         "matches": "y",
         "showticklabels": false
        }
       }
      }
     },
     "metadata": {},
     "output_type": "display_data"
    }
   ],
   "source": [
    "bau23_fig = bau23_demand[(bau23_demand['Sector'] == 'Transportation') & (bau23_demand['Carrier'] != 'Total End-Use')].copy()\n",
    "ref_fig = ref_trnact[(ref_trnact['Mode'] == 'Fuel use') & (ref_trnact['Carrier'] != 'Other')].copy()\n",
    "vanilla_fig = vanilla_trnact[(vanilla_trnact['Mode'] == 'Fuel use') & (vanilla_trnact['Carrier'] != 'Other')].copy()\n",
    "\n",
    "carrier_order = ['Gasoline', 'Diesel', 'Biofuels', 'Electricity', 'H2', 'Natural Gas', 'Aviation Fuel', 'Marine Fuels', 'Other']\n",
    "\n",
    "bau23_fig['Source'] = 'CEF2023'\n",
    "ref_fig['Source'] = 'CANOE (ref)'\n",
    "vanilla_fig['Source'] = 'CANOE (vanilla)'\n",
    "\n",
    "fig_df = pd.concat([vanilla_fig[['Period', 'Demand (PJ)', 'Carrier', 'Source']], ref_fig[['Period', 'Demand (PJ)', 'Carrier', 'Source']], bau23_fig[['Period', 'Demand (PJ)', 'Carrier', 'Source']]])\n",
    "\n",
    "fig_df['Carrier'] = fig_df['Carrier'].apply(carrier_grouping)\n",
    "fig_df = fig_df.groupby(['Period', 'Carrier', 'Source'], as_index=False).sum('Demand (PJ)')\n",
    "\n",
    "fig_df['Carrier'] = pd.Categorical(fig_df['Carrier'], categories=carrier_order, ordered=True)\n",
    "fig_df['Source'] = pd.Categorical(fig_df['Source'], categories=['CANOE (vanilla)', 'CANOE (ref)', 'CEF2023'], ordered=True)\n",
    "fig_df = fig_df.sort_values(['Source', 'Carrier', 'Period'])\n",
    "\n",
    "fig = px.bar(fig_df, \n",
    "             x='Source', \n",
    "             y='Demand (PJ)', \n",
    "             color='Carrier', \n",
    "             barmode='stack', \n",
    "             facet_col='Period',\n",
    "             facet_col_spacing=2E-2,\n",
    "             template='plotly_white',\n",
    "             color_discrete_sequence=px.colors.qualitative.G10[:7] + px.colors.qualitative.G10[8:],\n",
    "             text_auto='.1f',\n",
    "            #  text='Demand (PJ)_sum'\n",
    "             width=1200, height=650,\n",
    "             )\n",
    "\n",
    "fig.update_layout(title=dict(\n",
    "        text='Transportation secondary energy demand in ON by carrier and energy model',\n",
    "        x=0.5, \n",
    "        y=0.97,\n",
    "        xanchor='center',\n",
    "        yanchor='top'\n",
    "    ),\n",
    "    xaxis=dict(title='Period'),\n",
    "    yaxis=dict(title='Demand (PJ)',\n",
    "               dtick=100),\n",
    "    yaxis_title_standoff=0,\n",
    "    legend_title_text='',\n",
    "    bargap=0.1,\n",
    "    legend=dict(\n",
    "        orientation='h',  \n",
    "        yanchor='top',\n",
    "        y=1.04,  \n",
    "        xanchor='center',\n",
    "        x=0.5),\n",
    "    font=dict(\n",
    "        # family=\"Open Sans\",\n",
    "        size=16)\n",
    "    )\n",
    "\n",
    "for annotation in fig.layout.annotations:\n",
    "    annotation.text = annotation.text.split('=')[1]\n",
    "    annotation.y = -0.13  \n",
    "    annotation.yanchor = 'top' \n",
    "\n",
    "for axis in fig.layout:\n",
    "    if axis.startswith('yaxis'):\n",
    "        fig.layout[axis].dtick = 100\n",
    "\n",
    "for axis in fig.layout:\n",
    "    if axis.startswith('xaxis'):\n",
    "        fig.layout[axis].title.text = ''\n",
    "\n",
    "fig.for_each_trace(lambda trace: trace.update(textfont=dict(size=9)))\n",
    "\n",
    "fig.show()"
   ]
  },
  {
   "cell_type": "markdown",
   "metadata": {},
   "source": [
    "# CANOE vs CEF2023 vs gTech-IESD - transportation secondary energy demand"
   ]
  },
  {
   "cell_type": "code",
   "execution_count": 132,
   "metadata": {},
   "outputs": [],
   "source": [
    "gtech23_ref_demand['Sector'].replace({'agriculture & waste': 'AFOLU', 'commercial buildings': 'Commercial', 'residential buildings': 'Residential', 'land use & forestry': 'AFOLU',\n",
    "                                      'industry': 'Industrial', 'oil and gas': 'Oil & Gas', 'direct air capture': 'Industrial', 'utilities': 'Utilities',\n",
    "                                      'light-duty transport': 'Transportation', 'medium & heavy-duty transport': 'Transportation', 'other transport': 'Transportation'}, inplace=True)\n",
    "gtech23_ref_demand = gtech23_ref_demand.groupby(['Period', 'Sector'], as_index=False).sum()[['Period', 'Sector', 'Demand (PJ)']]"
   ]
  },
  {
   "cell_type": "code",
   "execution_count": 133,
   "metadata": {},
   "outputs": [
    {
     "data": {
      "application/vnd.plotly.v1+json": {
       "config": {
        "plotlyServerURL": "https://plot.ly"
       },
       "data": [
        {
         "hovertemplate": "Source=CANOE (vanilla)<br>Period=%{x}<br>Demand (PJ)=%{y}<extra></extra>",
         "legendgroup": "CANOE (vanilla)",
         "line": {
          "color": "red",
          "dash": "dash"
         },
         "marker": {
          "symbol": "circle"
         },
         "mode": "lines",
         "name": "CANOE (vanilla)",
         "orientation": "v",
         "showlegend": true,
         "type": "scatter",
         "x": [
          "2021",
          "2025",
          "2030",
          "2035",
          "2040",
          "2045",
          "2050"
         ],
         "xaxis": "x",
         "y": [
          897.3862969966922,
          938.9115512141869,
          775.5853288785755,
          547.7740231121958,
          530.1856933669549,
          556.9026850849566,
          564.4254432271531
         ],
         "yaxis": "y"
        },
        {
         "hovertemplate": "Source=CANOE (ref)<br>Period=%{x}<br>Demand (PJ)=%{y}<extra></extra>",
         "legendgroup": "CANOE (ref)",
         "line": {
          "color": "red",
          "dash": "solid"
         },
         "marker": {
          "symbol": "circle"
         },
         "mode": "lines",
         "name": "CANOE (ref)",
         "orientation": "v",
         "showlegend": true,
         "type": "scatter",
         "x": [
          "2021",
          "2025",
          "2030",
          "2035",
          "2040",
          "2045",
          "2050"
         ],
         "xaxis": "x",
         "y": [
          929.5286914567043,
          1057.1770061748616,
          944.1601105630867,
          787.1150312241957,
          812.5791209061617,
          808.250238416307,
          803.8223929609026
         ],
         "yaxis": "y"
        },
        {
         "hovertemplate": "Source=CEF 2023 (ref)<br>Period=%{x}<br>Demand (PJ)=%{y}<extra></extra>",
         "legendgroup": "CEF 2023 (ref)",
         "line": {
          "color": "#00cc96",
          "dash": "solid"
         },
         "marker": {
          "symbol": "circle"
         },
         "mode": "lines",
         "name": "CEF 2023 (ref)",
         "orientation": "v",
         "showlegend": true,
         "type": "scatter",
         "x": [
          "2021",
          "2025",
          "2030",
          "2035",
          "2040",
          "2045",
          "2050"
         ],
         "xaxis": "x",
         "y": [
          773.6423,
          882.0304,
          891.9928,
          885.9677,
          878.3486,
          878.1762,
          893.9057
         ],
         "yaxis": "y"
        },
        {
         "hovertemplate": "Source=gTech-IESD (ref)<br>Period=%{x}<br>Demand (PJ)=%{y}<extra></extra>",
         "legendgroup": "gTech-IESD (ref)",
         "line": {
          "color": "#ab63fa",
          "dash": "solid"
         },
         "marker": {
          "symbol": "circle"
         },
         "mode": "lines",
         "name": "gTech-IESD (ref)",
         "orientation": "v",
         "showlegend": true,
         "type": "scatter",
         "x": [
          2021,
          2025,
          2030,
          2035,
          2040,
          2045,
          2050
         ],
         "xaxis": "x",
         "y": [
          944.9145178639999,
          988.611015,
          966.8769606999999,
          924.4334725,
          900.0283629,
          907.3242778,
          947.2453959
         ],
         "yaxis": "y"
        }
       ],
       "layout": {
        "bargap": 0.1,
        "font": {
         "size": 16
        },
        "height": 500,
        "legend": {
         "orientation": "h",
         "title": {
          "text": ""
         },
         "tracegroupgap": 0,
         "x": 0.5,
         "xanchor": "center",
         "y": -0.16,
         "yanchor": "bottom"
        },
        "margin": {
         "t": 60
        },
        "template": {
         "data": {
          "bar": [
           {
            "error_x": {
             "color": "#2a3f5f"
            },
            "error_y": {
             "color": "#2a3f5f"
            },
            "marker": {
             "line": {
              "color": "white",
              "width": 0.5
             },
             "pattern": {
              "fillmode": "overlay",
              "size": 10,
              "solidity": 0.2
             }
            },
            "type": "bar"
           }
          ],
          "barpolar": [
           {
            "marker": {
             "line": {
              "color": "white",
              "width": 0.5
             },
             "pattern": {
              "fillmode": "overlay",
              "size": 10,
              "solidity": 0.2
             }
            },
            "type": "barpolar"
           }
          ],
          "carpet": [
           {
            "aaxis": {
             "endlinecolor": "#2a3f5f",
             "gridcolor": "#C8D4E3",
             "linecolor": "#C8D4E3",
             "minorgridcolor": "#C8D4E3",
             "startlinecolor": "#2a3f5f"
            },
            "baxis": {
             "endlinecolor": "#2a3f5f",
             "gridcolor": "#C8D4E3",
             "linecolor": "#C8D4E3",
             "minorgridcolor": "#C8D4E3",
             "startlinecolor": "#2a3f5f"
            },
            "type": "carpet"
           }
          ],
          "choropleth": [
           {
            "colorbar": {
             "outlinewidth": 0,
             "ticks": ""
            },
            "type": "choropleth"
           }
          ],
          "contour": [
           {
            "colorbar": {
             "outlinewidth": 0,
             "ticks": ""
            },
            "colorscale": [
             [
              0,
              "#0d0887"
             ],
             [
              0.1111111111111111,
              "#46039f"
             ],
             [
              0.2222222222222222,
              "#7201a8"
             ],
             [
              0.3333333333333333,
              "#9c179e"
             ],
             [
              0.4444444444444444,
              "#bd3786"
             ],
             [
              0.5555555555555556,
              "#d8576b"
             ],
             [
              0.6666666666666666,
              "#ed7953"
             ],
             [
              0.7777777777777778,
              "#fb9f3a"
             ],
             [
              0.8888888888888888,
              "#fdca26"
             ],
             [
              1,
              "#f0f921"
             ]
            ],
            "type": "contour"
           }
          ],
          "contourcarpet": [
           {
            "colorbar": {
             "outlinewidth": 0,
             "ticks": ""
            },
            "type": "contourcarpet"
           }
          ],
          "heatmap": [
           {
            "colorbar": {
             "outlinewidth": 0,
             "ticks": ""
            },
            "colorscale": [
             [
              0,
              "#0d0887"
             ],
             [
              0.1111111111111111,
              "#46039f"
             ],
             [
              0.2222222222222222,
              "#7201a8"
             ],
             [
              0.3333333333333333,
              "#9c179e"
             ],
             [
              0.4444444444444444,
              "#bd3786"
             ],
             [
              0.5555555555555556,
              "#d8576b"
             ],
             [
              0.6666666666666666,
              "#ed7953"
             ],
             [
              0.7777777777777778,
              "#fb9f3a"
             ],
             [
              0.8888888888888888,
              "#fdca26"
             ],
             [
              1,
              "#f0f921"
             ]
            ],
            "type": "heatmap"
           }
          ],
          "heatmapgl": [
           {
            "colorbar": {
             "outlinewidth": 0,
             "ticks": ""
            },
            "colorscale": [
             [
              0,
              "#0d0887"
             ],
             [
              0.1111111111111111,
              "#46039f"
             ],
             [
              0.2222222222222222,
              "#7201a8"
             ],
             [
              0.3333333333333333,
              "#9c179e"
             ],
             [
              0.4444444444444444,
              "#bd3786"
             ],
             [
              0.5555555555555556,
              "#d8576b"
             ],
             [
              0.6666666666666666,
              "#ed7953"
             ],
             [
              0.7777777777777778,
              "#fb9f3a"
             ],
             [
              0.8888888888888888,
              "#fdca26"
             ],
             [
              1,
              "#f0f921"
             ]
            ],
            "type": "heatmapgl"
           }
          ],
          "histogram": [
           {
            "marker": {
             "pattern": {
              "fillmode": "overlay",
              "size": 10,
              "solidity": 0.2
             }
            },
            "type": "histogram"
           }
          ],
          "histogram2d": [
           {
            "colorbar": {
             "outlinewidth": 0,
             "ticks": ""
            },
            "colorscale": [
             [
              0,
              "#0d0887"
             ],
             [
              0.1111111111111111,
              "#46039f"
             ],
             [
              0.2222222222222222,
              "#7201a8"
             ],
             [
              0.3333333333333333,
              "#9c179e"
             ],
             [
              0.4444444444444444,
              "#bd3786"
             ],
             [
              0.5555555555555556,
              "#d8576b"
             ],
             [
              0.6666666666666666,
              "#ed7953"
             ],
             [
              0.7777777777777778,
              "#fb9f3a"
             ],
             [
              0.8888888888888888,
              "#fdca26"
             ],
             [
              1,
              "#f0f921"
             ]
            ],
            "type": "histogram2d"
           }
          ],
          "histogram2dcontour": [
           {
            "colorbar": {
             "outlinewidth": 0,
             "ticks": ""
            },
            "colorscale": [
             [
              0,
              "#0d0887"
             ],
             [
              0.1111111111111111,
              "#46039f"
             ],
             [
              0.2222222222222222,
              "#7201a8"
             ],
             [
              0.3333333333333333,
              "#9c179e"
             ],
             [
              0.4444444444444444,
              "#bd3786"
             ],
             [
              0.5555555555555556,
              "#d8576b"
             ],
             [
              0.6666666666666666,
              "#ed7953"
             ],
             [
              0.7777777777777778,
              "#fb9f3a"
             ],
             [
              0.8888888888888888,
              "#fdca26"
             ],
             [
              1,
              "#f0f921"
             ]
            ],
            "type": "histogram2dcontour"
           }
          ],
          "mesh3d": [
           {
            "colorbar": {
             "outlinewidth": 0,
             "ticks": ""
            },
            "type": "mesh3d"
           }
          ],
          "parcoords": [
           {
            "line": {
             "colorbar": {
              "outlinewidth": 0,
              "ticks": ""
             }
            },
            "type": "parcoords"
           }
          ],
          "pie": [
           {
            "automargin": true,
            "type": "pie"
           }
          ],
          "scatter": [
           {
            "fillpattern": {
             "fillmode": "overlay",
             "size": 10,
             "solidity": 0.2
            },
            "type": "scatter"
           }
          ],
          "scatter3d": [
           {
            "line": {
             "colorbar": {
              "outlinewidth": 0,
              "ticks": ""
             }
            },
            "marker": {
             "colorbar": {
              "outlinewidth": 0,
              "ticks": ""
             }
            },
            "type": "scatter3d"
           }
          ],
          "scattercarpet": [
           {
            "marker": {
             "colorbar": {
              "outlinewidth": 0,
              "ticks": ""
             }
            },
            "type": "scattercarpet"
           }
          ],
          "scattergeo": [
           {
            "marker": {
             "colorbar": {
              "outlinewidth": 0,
              "ticks": ""
             }
            },
            "type": "scattergeo"
           }
          ],
          "scattergl": [
           {
            "marker": {
             "colorbar": {
              "outlinewidth": 0,
              "ticks": ""
             }
            },
            "type": "scattergl"
           }
          ],
          "scattermapbox": [
           {
            "marker": {
             "colorbar": {
              "outlinewidth": 0,
              "ticks": ""
             }
            },
            "type": "scattermapbox"
           }
          ],
          "scatterpolar": [
           {
            "marker": {
             "colorbar": {
              "outlinewidth": 0,
              "ticks": ""
             }
            },
            "type": "scatterpolar"
           }
          ],
          "scatterpolargl": [
           {
            "marker": {
             "colorbar": {
              "outlinewidth": 0,
              "ticks": ""
             }
            },
            "type": "scatterpolargl"
           }
          ],
          "scatterternary": [
           {
            "marker": {
             "colorbar": {
              "outlinewidth": 0,
              "ticks": ""
             }
            },
            "type": "scatterternary"
           }
          ],
          "surface": [
           {
            "colorbar": {
             "outlinewidth": 0,
             "ticks": ""
            },
            "colorscale": [
             [
              0,
              "#0d0887"
             ],
             [
              0.1111111111111111,
              "#46039f"
             ],
             [
              0.2222222222222222,
              "#7201a8"
             ],
             [
              0.3333333333333333,
              "#9c179e"
             ],
             [
              0.4444444444444444,
              "#bd3786"
             ],
             [
              0.5555555555555556,
              "#d8576b"
             ],
             [
              0.6666666666666666,
              "#ed7953"
             ],
             [
              0.7777777777777778,
              "#fb9f3a"
             ],
             [
              0.8888888888888888,
              "#fdca26"
             ],
             [
              1,
              "#f0f921"
             ]
            ],
            "type": "surface"
           }
          ],
          "table": [
           {
            "cells": {
             "fill": {
              "color": "#EBF0F8"
             },
             "line": {
              "color": "white"
             }
            },
            "header": {
             "fill": {
              "color": "#C8D4E3"
             },
             "line": {
              "color": "white"
             }
            },
            "type": "table"
           }
          ]
         },
         "layout": {
          "annotationdefaults": {
           "arrowcolor": "#2a3f5f",
           "arrowhead": 0,
           "arrowwidth": 1
          },
          "autotypenumbers": "strict",
          "coloraxis": {
           "colorbar": {
            "outlinewidth": 0,
            "ticks": ""
           }
          },
          "colorscale": {
           "diverging": [
            [
             0,
             "#8e0152"
            ],
            [
             0.1,
             "#c51b7d"
            ],
            [
             0.2,
             "#de77ae"
            ],
            [
             0.3,
             "#f1b6da"
            ],
            [
             0.4,
             "#fde0ef"
            ],
            [
             0.5,
             "#f7f7f7"
            ],
            [
             0.6,
             "#e6f5d0"
            ],
            [
             0.7,
             "#b8e186"
            ],
            [
             0.8,
             "#7fbc41"
            ],
            [
             0.9,
             "#4d9221"
            ],
            [
             1,
             "#276419"
            ]
           ],
           "sequential": [
            [
             0,
             "#0d0887"
            ],
            [
             0.1111111111111111,
             "#46039f"
            ],
            [
             0.2222222222222222,
             "#7201a8"
            ],
            [
             0.3333333333333333,
             "#9c179e"
            ],
            [
             0.4444444444444444,
             "#bd3786"
            ],
            [
             0.5555555555555556,
             "#d8576b"
            ],
            [
             0.6666666666666666,
             "#ed7953"
            ],
            [
             0.7777777777777778,
             "#fb9f3a"
            ],
            [
             0.8888888888888888,
             "#fdca26"
            ],
            [
             1,
             "#f0f921"
            ]
           ],
           "sequentialminus": [
            [
             0,
             "#0d0887"
            ],
            [
             0.1111111111111111,
             "#46039f"
            ],
            [
             0.2222222222222222,
             "#7201a8"
            ],
            [
             0.3333333333333333,
             "#9c179e"
            ],
            [
             0.4444444444444444,
             "#bd3786"
            ],
            [
             0.5555555555555556,
             "#d8576b"
            ],
            [
             0.6666666666666666,
             "#ed7953"
            ],
            [
             0.7777777777777778,
             "#fb9f3a"
            ],
            [
             0.8888888888888888,
             "#fdca26"
            ],
            [
             1,
             "#f0f921"
            ]
           ]
          },
          "colorway": [
           "#636efa",
           "#EF553B",
           "#00cc96",
           "#ab63fa",
           "#FFA15A",
           "#19d3f3",
           "#FF6692",
           "#B6E880",
           "#FF97FF",
           "#FECB52"
          ],
          "font": {
           "color": "#2a3f5f"
          },
          "geo": {
           "bgcolor": "white",
           "lakecolor": "white",
           "landcolor": "white",
           "showlakes": true,
           "showland": true,
           "subunitcolor": "#C8D4E3"
          },
          "hoverlabel": {
           "align": "left"
          },
          "hovermode": "closest",
          "mapbox": {
           "style": "light"
          },
          "paper_bgcolor": "white",
          "plot_bgcolor": "white",
          "polar": {
           "angularaxis": {
            "gridcolor": "#EBF0F8",
            "linecolor": "#EBF0F8",
            "ticks": ""
           },
           "bgcolor": "white",
           "radialaxis": {
            "gridcolor": "#EBF0F8",
            "linecolor": "#EBF0F8",
            "ticks": ""
           }
          },
          "scene": {
           "xaxis": {
            "backgroundcolor": "white",
            "gridcolor": "#DFE8F3",
            "gridwidth": 2,
            "linecolor": "#EBF0F8",
            "showbackground": true,
            "ticks": "",
            "zerolinecolor": "#EBF0F8"
           },
           "yaxis": {
            "backgroundcolor": "white",
            "gridcolor": "#DFE8F3",
            "gridwidth": 2,
            "linecolor": "#EBF0F8",
            "showbackground": true,
            "ticks": "",
            "zerolinecolor": "#EBF0F8"
           },
           "zaxis": {
            "backgroundcolor": "white",
            "gridcolor": "#DFE8F3",
            "gridwidth": 2,
            "linecolor": "#EBF0F8",
            "showbackground": true,
            "ticks": "",
            "zerolinecolor": "#EBF0F8"
           }
          },
          "shapedefaults": {
           "line": {
            "color": "#2a3f5f"
           }
          },
          "ternary": {
           "aaxis": {
            "gridcolor": "#DFE8F3",
            "linecolor": "#A2B1C6",
            "ticks": ""
           },
           "baxis": {
            "gridcolor": "#DFE8F3",
            "linecolor": "#A2B1C6",
            "ticks": ""
           },
           "bgcolor": "white",
           "caxis": {
            "gridcolor": "#DFE8F3",
            "linecolor": "#A2B1C6",
            "ticks": ""
           }
          },
          "title": {
           "x": 0.05
          },
          "xaxis": {
           "automargin": true,
           "gridcolor": "#EBF0F8",
           "linecolor": "#EBF0F8",
           "ticks": "",
           "title": {
            "standoff": 15
           },
           "zerolinecolor": "#EBF0F8",
           "zerolinewidth": 2
          },
          "yaxis": {
           "automargin": true,
           "gridcolor": "#EBF0F8",
           "linecolor": "#EBF0F8",
           "ticks": "",
           "title": {
            "standoff": 15
           },
           "zerolinecolor": "#EBF0F8",
           "zerolinewidth": 2
          }
         }
        },
        "title": {
         "text": "Total transportation secondary energy demand in ON by energy model",
         "x": 0.5,
         "xanchor": "center",
         "y": 0.95,
         "yanchor": "top"
        },
        "width": 900,
        "xaxis": {
         "anchor": "y",
         "domain": [
          0,
          1
         ],
         "title": {
          "text": ""
         }
        },
        "yaxis": {
         "anchor": "x",
         "domain": [
          0,
          1
         ],
         "title": {
          "standoff": 0,
          "text": "Demand (PJ)"
         }
        }
       }
      }
     },
     "metadata": {},
     "output_type": "display_data"
    }
   ],
   "source": [
    "bau23_fig = bau23_demand[(bau23_demand['Sector'] == 'Transportation') & (bau23_demand['Carrier'] == 'Total End-Use')].copy()\n",
    "ref_fig = ref_trnact[(ref_trnact['Mode'] == 'Fuel use') & (ref_trnact['Carrier'] != 'Other')].groupby('Period', as_index=False).sum('Demand (PJ)')\n",
    "vanilla_fig = vanilla_trnact[(vanilla_trnact['Mode'] == 'Fuel use') & (vanilla_trnact['Carrier'] != 'Other')].groupby('Period', as_index=False).sum('Demand (PJ)')\n",
    "gtech_fig = gtech23_ref_demand[gtech23_ref_demand['Sector'] == 'Transportation'].copy()\n",
    "\n",
    "bau23_fig['Source'] = 'CEF 2023 (ref)'\n",
    "ref_fig['Source'] = 'CANOE (ref)'\n",
    "vanilla_fig['Source'] = 'CANOE (vanilla)'\n",
    "gtech_fig['Source'] = 'gTech-IESD (ref)'\n",
    "\n",
    "fig_df = pd.concat([vanilla_fig[['Period', 'Demand (PJ)', 'Source']], ref_fig[['Period', 'Demand (PJ)', 'Source']], bau23_fig[['Period', 'Demand (PJ)', 'Source']], gtech_fig[['Period', 'Demand (PJ)', 'Source']]]).reset_index(drop=True)\n",
    "\n",
    "fig = px.line(fig_df, x='Period', y='Demand (PJ)', color='Source',\n",
    "              template='plotly_white',\n",
    "              width=900, height=500\n",
    "              )\n",
    "\n",
    "fig.update_traces(\n",
    "    line=dict(color=\"red\", dash='solid'),  # Change 'Source' to your specific source name\n",
    "    selector=dict(name='CANOE (ref)')  # Replace 'Source A' with the actual name\n",
    ")\n",
    "fig.update_traces(\n",
    "    line=dict(color=\"red\", dash='dash'),  # Change 'Source' to your specific source name\n",
    "    selector=dict(name='CANOE (vanilla)')  # Replace 'Source A' with the actual name\n",
    ")\n",
    "\n",
    "fig.update_layout(\n",
    "    title=dict(text='Total transportation secondary energy demand in ON by energy model',\n",
    "               x=0.5,\n",
    "               y=0.95,\n",
    "               xanchor='center',\n",
    "               yanchor='top'\n",
    "               ),\n",
    "    xaxis=dict(title='Period'),\n",
    "    yaxis=dict(title='Demand (PJ)'),\n",
    "    yaxis_title_standoff=0,\n",
    "    legend_title_text='',\n",
    "    bargap=0.1,\n",
    "    legend=dict(orientation='h',\n",
    "                yanchor='bottom',\n",
    "                y=-0.16,\n",
    "                xanchor='center',\n",
    "                x=0.5),\n",
    "    font=dict(size=16,\n",
    "              # family=\"Open Sans\"\n",
    "              ))\n",
    "\n",
    "for annotation in fig.layout.annotations:\n",
    "    annotation.text = annotation.text.split('=')[1]\n",
    "    annotation.y = -0.05  \n",
    "    annotation.yanchor = 'top' \n",
    "\n",
    "for axis in fig.layout:\n",
    "    if axis.startswith('xaxis'):\n",
    "        fig.layout[axis].title.text = ''\n",
    "\n",
    "fig.show()\n",
    "fig.write_image(\"vanilla_ref_demand.svg\", scale=1, engine='kaleido')"
   ]
  },
  {
   "cell_type": "markdown",
   "metadata": {},
   "source": [
    "# CANOE - transportation vehicle capacity"
   ]
  },
  {
   "cell_type": "code",
   "execution_count": 134,
   "metadata": {},
   "outputs": [],
   "source": [
    "ref_trncap.columns = ref_trncap.columns.astype(str)\n",
    "periods = [col for col in ref_trncap.columns if col.isdigit()]\n",
    "params = [col for col in ref_trncap.columns if not col.isdigit()]\n",
    "ref_trncap = pd.melt(ref_trncap, id_vars=params, var_name='Period', value_name='Capacity (M units)', value_vars=periods)\n",
    "ref_trncap['Capacity (M units)'] = ref_trncap['Capacity (M units)']/1E3"
   ]
  },
  {
   "cell_type": "code",
   "execution_count": 135,
   "metadata": {},
   "outputs": [],
   "source": [
    "def veh_class_mapping(veh_class):\n",
    "    if veh_class == 'Air jet':\n",
    "        return 'Other'\n",
    "    if veh_class == 'Rail':\n",
    "        return 'Other'\n",
    "    if veh_class == 'Marine vessel':\n",
    "        return 'Other'\n",
    "    if veh_class == 'Motorcycle':\n",
    "        return 'Other'\n",
    "    if veh_class == 'Fuel use':\n",
    "        return 'Other'\n",
    "    else: return veh_class\n",
    "    \n",
    "ref_trncap['Vehicle Class'] = ref_trncap['Mode'].apply(veh_class_mapping)\n",
    "\n",
    "drivetrain_order = ['Gasoline', 'Diesel', 'CNG', 'HEV', 'PHEV', 'BEV', 'FCEV']"
   ]
  },
  {
   "cell_type": "code",
   "execution_count": 136,
   "metadata": {},
   "outputs": [
    {
     "data": {
      "application/vnd.plotly.v1+json": {
       "config": {
        "plotlyServerURL": "https://plot.ly"
       },
       "data": [
        {
         "alignmentgroup": "True",
         "hovertemplate": "Carrier=Gasoline<br>Period=2021<br>Vehicle Class=%{x}<br>Capacity (M units)=%{y}<extra></extra>",
         "legendgroup": "Gasoline",
         "marker": {
          "color": "#3366CC",
          "pattern": {
           "shape": ""
          }
         },
         "name": "Gasoline",
         "offsetgroup": "Gasoline",
         "orientation": "v",
         "showlegend": true,
         "textfont": {
          "size": 9
         },
         "textposition": "auto",
         "texttemplate": "%{y:.2f}",
         "type": "bar",
         "x": [
          "LD Car",
          "LD Truck"
         ],
         "xaxis": "x",
         "y": [
          4.314120200535914,
          4.677023873929955
         ],
         "yaxis": "y"
        },
        {
         "alignmentgroup": "True",
         "hovertemplate": "Carrier=Gasoline<br>Period=2025<br>Vehicle Class=%{x}<br>Capacity (M units)=%{y}<extra></extra>",
         "legendgroup": "Gasoline",
         "marker": {
          "color": "#3366CC",
          "pattern": {
           "shape": ""
          }
         },
         "name": "Gasoline",
         "offsetgroup": "Gasoline",
         "orientation": "v",
         "showlegend": false,
         "textfont": {
          "size": 9
         },
         "textposition": "auto",
         "texttemplate": "%{y:.2f}",
         "type": "bar",
         "x": [
          "LD Car",
          "LD Truck"
         ],
         "xaxis": "x2",
         "y": [
          3.8418130367720464,
          5.157176289934916
         ],
         "yaxis": "y2"
        },
        {
         "alignmentgroup": "True",
         "hovertemplate": "Carrier=Gasoline<br>Period=2030<br>Vehicle Class=%{x}<br>Capacity (M units)=%{y}<extra></extra>",
         "legendgroup": "Gasoline",
         "marker": {
          "color": "#3366CC",
          "pattern": {
           "shape": ""
          }
         },
         "name": "Gasoline",
         "offsetgroup": "Gasoline",
         "orientation": "v",
         "showlegend": false,
         "textfont": {
          "size": 9
         },
         "textposition": "auto",
         "texttemplate": "%{y:.2f}",
         "type": "bar",
         "x": [
          "LD Car",
          "LD Truck"
         ],
         "xaxis": "x3",
         "y": [
          3.00669642129158,
          4.93194066587498
         ],
         "yaxis": "y3"
        },
        {
         "alignmentgroup": "True",
         "hovertemplate": "Carrier=Gasoline<br>Period=2035<br>Vehicle Class=%{x}<br>Capacity (M units)=%{y}<extra></extra>",
         "legendgroup": "Gasoline",
         "marker": {
          "color": "#3366CC",
          "pattern": {
           "shape": ""
          }
         },
         "name": "Gasoline",
         "offsetgroup": "Gasoline",
         "orientation": "v",
         "showlegend": false,
         "textfont": {
          "size": 9
         },
         "textposition": "auto",
         "texttemplate": "%{y:.2f}",
         "type": "bar",
         "x": [
          "LD Car",
          "LD Truck"
         ],
         "xaxis": "x4",
         "y": [
          2.31374836801407,
          4.9065552042307194
         ],
         "yaxis": "y4"
        },
        {
         "alignmentgroup": "True",
         "hovertemplate": "Carrier=Gasoline<br>Period=2040<br>Vehicle Class=%{x}<br>Capacity (M units)=%{y}<extra></extra>",
         "legendgroup": "Gasoline",
         "marker": {
          "color": "#3366CC",
          "pattern": {
           "shape": ""
          }
         },
         "name": "Gasoline",
         "offsetgroup": "Gasoline",
         "orientation": "v",
         "showlegend": false,
         "textfont": {
          "size": 9
         },
         "textposition": "auto",
         "texttemplate": "%{y:.2f}",
         "type": "bar",
         "x": [
          "LD Car",
          "LD Truck"
         ],
         "xaxis": "x5",
         "y": [
          2.1400037600688853,
          3.0120312510976417
         ],
         "yaxis": "y5"
        },
        {
         "alignmentgroup": "True",
         "hovertemplate": "Carrier=Gasoline<br>Period=2045<br>Vehicle Class=%{x}<br>Capacity (M units)=%{y}<extra></extra>",
         "legendgroup": "Gasoline",
         "marker": {
          "color": "#3366CC",
          "pattern": {
           "shape": ""
          }
         },
         "name": "Gasoline",
         "offsetgroup": "Gasoline",
         "orientation": "v",
         "showlegend": false,
         "textfont": {
          "size": 9
         },
         "textposition": "auto",
         "texttemplate": "%{y:.2f}",
         "type": "bar",
         "x": [
          "LD Car",
          "LD Truck"
         ],
         "xaxis": "x6",
         "y": [
          1.983282941821622,
          2.9838934359061757
         ],
         "yaxis": "y6"
        },
        {
         "alignmentgroup": "True",
         "hovertemplate": "Carrier=Gasoline<br>Period=2050<br>Vehicle Class=%{x}<br>Capacity (M units)=%{y}<extra></extra>",
         "legendgroup": "Gasoline",
         "marker": {
          "color": "#3366CC",
          "pattern": {
           "shape": ""
          }
         },
         "name": "Gasoline",
         "offsetgroup": "Gasoline",
         "orientation": "v",
         "showlegend": false,
         "textfont": {
          "size": 9
         },
         "textposition": "auto",
         "texttemplate": "%{y:.2f}",
         "type": "bar",
         "x": [
          "LD Car",
          "LD Truck"
         ],
         "xaxis": "x7",
         "y": [
          1.78410370549091,
          3.2921702569327795
         ],
         "yaxis": "y7"
        },
        {
         "alignmentgroup": "True",
         "hovertemplate": "Carrier=Diesel<br>Period=2021<br>Vehicle Class=%{x}<br>Capacity (M units)=%{y}<extra></extra>",
         "legendgroup": "Diesel",
         "marker": {
          "color": "#DC3912",
          "pattern": {
           "shape": ""
          }
         },
         "name": "Diesel",
         "offsetgroup": "Diesel",
         "orientation": "v",
         "showlegend": true,
         "textfont": {
          "size": 9
         },
         "textposition": "auto",
         "texttemplate": "%{y:.2f}",
         "type": "bar",
         "x": [
          "LD Car",
          "LD Truck"
         ],
         "xaxis": "x",
         "y": [
          0.10403001,
          0.23286079472781882
         ],
         "yaxis": "y"
        },
        {
         "alignmentgroup": "True",
         "hovertemplate": "Carrier=Diesel<br>Period=2025<br>Vehicle Class=%{x}<br>Capacity (M units)=%{y}<extra></extra>",
         "legendgroup": "Diesel",
         "marker": {
          "color": "#DC3912",
          "pattern": {
           "shape": ""
          }
         },
         "name": "Diesel",
         "offsetgroup": "Diesel",
         "orientation": "v",
         "showlegend": false,
         "textfont": {
          "size": 9
         },
         "textposition": "auto",
         "texttemplate": "%{y:.2f}",
         "type": "bar",
         "x": [
          "LD Car",
          "LD Truck"
         ],
         "xaxis": "x2",
         "y": [
          0.05093085103983624,
          0.26920733040914746
         ],
         "yaxis": "y2"
        },
        {
         "alignmentgroup": "True",
         "hovertemplate": "Carrier=Diesel<br>Period=2030<br>Vehicle Class=%{x}<br>Capacity (M units)=%{y}<extra></extra>",
         "legendgroup": "Diesel",
         "marker": {
          "color": "#DC3912",
          "pattern": {
           "shape": ""
          }
         },
         "name": "Diesel",
         "offsetgroup": "Diesel",
         "orientation": "v",
         "showlegend": false,
         "textfont": {
          "size": 9
         },
         "textposition": "auto",
         "texttemplate": "%{y:.2f}",
         "type": "bar",
         "x": [
          "LD Car",
          "LD Truck"
         ],
         "xaxis": "x3",
         "y": [
          0.003280243330794684,
          0.28647867416512435
         ],
         "yaxis": "y3"
        },
        {
         "alignmentgroup": "True",
         "hovertemplate": "Carrier=Diesel<br>Period=2035<br>Vehicle Class=%{x}<br>Capacity (M units)=%{y}<extra></extra>",
         "legendgroup": "Diesel",
         "marker": {
          "color": "#DC3912",
          "pattern": {
           "shape": ""
          }
         },
         "name": "Diesel",
         "offsetgroup": "Diesel",
         "orientation": "v",
         "showlegend": false,
         "textfont": {
          "size": 9
         },
         "textposition": "auto",
         "texttemplate": "%{y:.2f}",
         "type": "bar",
         "x": [
          "LD Car",
          "LD Truck"
         ],
         "xaxis": "x4",
         "y": [
          0.0000059899539386540575,
          0.3235937399938623
         ],
         "yaxis": "y4"
        },
        {
         "alignmentgroup": "True",
         "hovertemplate": "Carrier=Diesel<br>Period=2040<br>Vehicle Class=%{x}<br>Capacity (M units)=%{y}<extra></extra>",
         "legendgroup": "Diesel",
         "marker": {
          "color": "#DC3912",
          "pattern": {
           "shape": ""
          }
         },
         "name": "Diesel",
         "offsetgroup": "Diesel",
         "orientation": "v",
         "showlegend": false,
         "textfont": {
          "size": 9
         },
         "textposition": "auto",
         "texttemplate": "%{y:.2f}",
         "type": "bar",
         "x": [
          "LD Car",
          "LD Truck"
         ],
         "xaxis": "x5",
         "y": [
          0.000005620245807504668,
          0.2371912997621449
         ],
         "yaxis": "y5"
        },
        {
         "alignmentgroup": "True",
         "hovertemplate": "Carrier=Diesel<br>Period=2045<br>Vehicle Class=%{x}<br>Capacity (M units)=%{y}<extra></extra>",
         "legendgroup": "Diesel",
         "marker": {
          "color": "#DC3912",
          "pattern": {
           "shape": ""
          }
         },
         "name": "Diesel",
         "offsetgroup": "Diesel",
         "orientation": "v",
         "showlegend": false,
         "textfont": {
          "size": 9
         },
         "textposition": "auto",
         "texttemplate": "%{y:.2f}",
         "type": "bar",
         "x": [
          "LD Car",
          "LD Truck"
         ],
         "xaxis": "x6",
         "y": [
          0.0000054710410787568595,
          0.2387858928040138
         ],
         "yaxis": "y6"
        },
        {
         "alignmentgroup": "True",
         "hovertemplate": "Carrier=Diesel<br>Period=2050<br>Vehicle Class=%{x}<br>Capacity (M units)=%{y}<extra></extra>",
         "legendgroup": "Diesel",
         "marker": {
          "color": "#DC3912",
          "pattern": {
           "shape": ""
          }
         },
         "name": "Diesel",
         "offsetgroup": "Diesel",
         "orientation": "v",
         "showlegend": false,
         "textfont": {
          "size": 9
         },
         "textposition": "auto",
         "texttemplate": "%{y:.2f}",
         "type": "bar",
         "x": [
          "LD Car",
          "LD Truck"
         ],
         "xaxis": "x7",
         "y": [
          0.000005242258501027256,
          0.2665760752634939
         ],
         "yaxis": "y7"
        },
        {
         "alignmentgroup": "True",
         "hovertemplate": "Carrier=CNG<br>Period=2021<br>Vehicle Class=%{x}<br>Capacity (M units)=%{y}<extra></extra>",
         "legendgroup": "CNG",
         "marker": {
          "color": "#FF9900",
          "pattern": {
           "shape": ""
          }
         },
         "name": "CNG",
         "offsetgroup": "CNG",
         "orientation": "v",
         "showlegend": true,
         "textfont": {
          "size": 9
         },
         "textposition": "auto",
         "texttemplate": "%{y:.2f}",
         "type": "bar",
         "x": [
          "LD Car",
          "LD Truck"
         ],
         "xaxis": "x",
         "y": [
          0,
          0
         ],
         "yaxis": "y"
        },
        {
         "alignmentgroup": "True",
         "hovertemplate": "Carrier=CNG<br>Period=2025<br>Vehicle Class=%{x}<br>Capacity (M units)=%{y}<extra></extra>",
         "legendgroup": "CNG",
         "marker": {
          "color": "#FF9900",
          "pattern": {
           "shape": ""
          }
         },
         "name": "CNG",
         "offsetgroup": "CNG",
         "orientation": "v",
         "showlegend": false,
         "textfont": {
          "size": 9
         },
         "textposition": "auto",
         "texttemplate": "%{y:.2f}",
         "type": "bar",
         "x": [
          "LD Car",
          "LD Truck"
         ],
         "xaxis": "x2",
         "y": [
          0.000001951912280221594,
          0.000005815184133914308
         ],
         "yaxis": "y2"
        },
        {
         "alignmentgroup": "True",
         "hovertemplate": "Carrier=CNG<br>Period=2030<br>Vehicle Class=%{x}<br>Capacity (M units)=%{y}<extra></extra>",
         "legendgroup": "CNG",
         "marker": {
          "color": "#FF9900",
          "pattern": {
           "shape": ""
          }
         },
         "name": "CNG",
         "offsetgroup": "CNG",
         "orientation": "v",
         "showlegend": false,
         "textfont": {
          "size": 9
         },
         "textposition": "auto",
         "texttemplate": "%{y:.2f}",
         "type": "bar",
         "x": [
          "LD Car",
          "LD Truck"
         ],
         "xaxis": "x3",
         "y": [
          0.000003928205277467777,
          0.000012656281443091963
         ],
         "yaxis": "y3"
        },
        {
         "alignmentgroup": "True",
         "hovertemplate": "Carrier=CNG<br>Period=2035<br>Vehicle Class=%{x}<br>Capacity (M units)=%{y}<extra></extra>",
         "legendgroup": "CNG",
         "marker": {
          "color": "#FF9900",
          "pattern": {
           "shape": ""
          }
         },
         "name": "CNG",
         "offsetgroup": "CNG",
         "orientation": "v",
         "showlegend": false,
         "textfont": {
          "size": 9
         },
         "textposition": "auto",
         "texttemplate": "%{y:.2f}",
         "type": "bar",
         "x": [
          "LD Car",
          "LD Truck"
         ],
         "xaxis": "x4",
         "y": [
          0.000006050433899461073,
          0.00001999573242844326
         ],
         "yaxis": "y4"
        },
        {
         "alignmentgroup": "True",
         "hovertemplate": "Carrier=CNG<br>Period=2040<br>Vehicle Class=%{x}<br>Capacity (M units)=%{y}<extra></extra>",
         "legendgroup": "CNG",
         "marker": {
          "color": "#FF9900",
          "pattern": {
           "shape": ""
          }
         },
         "name": "CNG",
         "offsetgroup": "CNG",
         "orientation": "v",
         "showlegend": false,
         "textfont": {
          "size": 9
         },
         "textposition": "auto",
         "texttemplate": "%{y:.2f}",
         "type": "bar",
         "x": [
          "LD Car",
          "LD Truck"
         ],
         "xaxis": "x5",
         "y": [
          0.000005951111571967817,
          0.000025876899357668742
         ],
         "yaxis": "y5"
        },
        {
         "alignmentgroup": "True",
         "hovertemplate": "Carrier=CNG<br>Period=2045<br>Vehicle Class=%{x}<br>Capacity (M units)=%{y}<extra></extra>",
         "legendgroup": "CNG",
         "marker": {
          "color": "#FF9900",
          "pattern": {
           "shape": ""
          }
         },
         "name": "CNG",
         "offsetgroup": "CNG",
         "orientation": "v",
         "showlegend": false,
         "textfont": {
          "size": 9
         },
         "textposition": "auto",
         "texttemplate": "%{y:.2f}",
         "type": "bar",
         "x": [
          "LD Car",
          "LD Truck"
         ],
         "xaxis": "x6",
         "y": [
          0.000005837988403332852,
          0.00002638528939699861
         ],
         "yaxis": "y6"
        },
        {
         "alignmentgroup": "True",
         "hovertemplate": "Carrier=CNG<br>Period=2050<br>Vehicle Class=%{x}<br>Capacity (M units)=%{y}<extra></extra>",
         "legendgroup": "CNG",
         "marker": {
          "color": "#FF9900",
          "pattern": {
           "shape": ""
          }
         },
         "name": "CNG",
         "offsetgroup": "CNG",
         "orientation": "v",
         "showlegend": false,
         "textfont": {
          "size": 9
         },
         "textposition": "auto",
         "texttemplate": "%{y:.2f}",
         "type": "bar",
         "x": [
          "LD Car",
          "LD Truck"
         ],
         "xaxis": "x7",
         "y": [
          0.000005570278310023432,
          0.00002501447277977775
         ],
         "yaxis": "y7"
        },
        {
         "alignmentgroup": "True",
         "hovertemplate": "Carrier=HEV<br>Period=2021<br>Vehicle Class=%{x}<br>Capacity (M units)=%{y}<extra></extra>",
         "legendgroup": "HEV",
         "marker": {
          "color": "#109618",
          "pattern": {
           "shape": ""
          }
         },
         "name": "HEV",
         "offsetgroup": "HEV",
         "orientation": "v",
         "showlegend": true,
         "textfont": {
          "size": 9
         },
         "textposition": "auto",
         "texttemplate": "%{y:.2f}",
         "type": "bar",
         "x": [
          "LD Car",
          "LD Truck"
         ],
         "xaxis": "x",
         "y": [
          0.09438470537061358,
          0.06559982498699957
         ],
         "yaxis": "y"
        },
        {
         "alignmentgroup": "True",
         "hovertemplate": "Carrier=HEV<br>Period=2025<br>Vehicle Class=%{x}<br>Capacity (M units)=%{y}<extra></extra>",
         "legendgroup": "HEV",
         "marker": {
          "color": "#109618",
          "pattern": {
           "shape": ""
          }
         },
         "name": "HEV",
         "offsetgroup": "HEV",
         "orientation": "v",
         "showlegend": false,
         "textfont": {
          "size": 9
         },
         "textposition": "auto",
         "texttemplate": "%{y:.2f}",
         "type": "bar",
         "x": [
          "LD Car",
          "LD Truck"
         ],
         "xaxis": "x2",
         "y": [
          0.2177613110842665,
          0.15094550436345164
         ],
         "yaxis": "y2"
        },
        {
         "alignmentgroup": "True",
         "hovertemplate": "Carrier=HEV<br>Period=2030<br>Vehicle Class=%{x}<br>Capacity (M units)=%{y}<extra></extra>",
         "legendgroup": "HEV",
         "marker": {
          "color": "#109618",
          "pattern": {
           "shape": ""
          }
         },
         "name": "HEV",
         "offsetgroup": "HEV",
         "orientation": "v",
         "showlegend": false,
         "textfont": {
          "size": 9
         },
         "textposition": "auto",
         "texttemplate": "%{y:.2f}",
         "type": "bar",
         "x": [
          "LD Car",
          "LD Truck"
         ],
         "xaxis": "x3",
         "y": [
          0.376436053146241,
          0.3231900396513279
         ],
         "yaxis": "y3"
        },
        {
         "alignmentgroup": "True",
         "hovertemplate": "Carrier=HEV<br>Period=2035<br>Vehicle Class=%{x}<br>Capacity (M units)=%{y}<extra></extra>",
         "legendgroup": "HEV",
         "marker": {
          "color": "#109618",
          "pattern": {
           "shape": ""
          }
         },
         "name": "HEV",
         "offsetgroup": "HEV",
         "orientation": "v",
         "showlegend": false,
         "textfont": {
          "size": 9
         },
         "textposition": "auto",
         "texttemplate": "%{y:.2f}",
         "type": "bar",
         "x": [
          "LD Car",
          "LD Truck"
         ],
         "xaxis": "x4",
         "y": [
          0.5881714133681245,
          0.6203491812084823
         ],
         "yaxis": "y4"
        },
        {
         "alignmentgroup": "True",
         "hovertemplate": "Carrier=HEV<br>Period=2040<br>Vehicle Class=%{x}<br>Capacity (M units)=%{y}<extra></extra>",
         "legendgroup": "HEV",
         "marker": {
          "color": "#109618",
          "pattern": {
           "shape": ""
          }
         },
         "name": "HEV",
         "offsetgroup": "HEV",
         "orientation": "v",
         "showlegend": false,
         "textfont": {
          "size": 9
         },
         "textposition": "auto",
         "texttemplate": "%{y:.2f}",
         "type": "bar",
         "x": [
          "LD Car",
          "LD Truck"
         ],
         "xaxis": "x5",
         "y": [
          0.6951997578872586,
          0.774589668226796
         ],
         "yaxis": "y5"
        },
        {
         "alignmentgroup": "True",
         "hovertemplate": "Carrier=HEV<br>Period=2045<br>Vehicle Class=%{x}<br>Capacity (M units)=%{y}<extra></extra>",
         "legendgroup": "HEV",
         "marker": {
          "color": "#109618",
          "pattern": {
           "shape": ""
          }
         },
         "name": "HEV",
         "offsetgroup": "HEV",
         "orientation": "v",
         "showlegend": false,
         "textfont": {
          "size": 9
         },
         "textposition": "auto",
         "texttemplate": "%{y:.2f}",
         "type": "bar",
         "x": [
          "LD Car",
          "LD Truck"
         ],
         "xaxis": "x6",
         "y": [
          0.8345086108223165,
          0.9779769500336948
         ],
         "yaxis": "y6"
        },
        {
         "alignmentgroup": "True",
         "hovertemplate": "Carrier=HEV<br>Period=2050<br>Vehicle Class=%{x}<br>Capacity (M units)=%{y}<extra></extra>",
         "legendgroup": "HEV",
         "marker": {
          "color": "#109618",
          "pattern": {
           "shape": ""
          }
         },
         "name": "HEV",
         "offsetgroup": "HEV",
         "orientation": "v",
         "showlegend": false,
         "textfont": {
          "size": 9
         },
         "textposition": "auto",
         "texttemplate": "%{y:.2f}",
         "type": "bar",
         "x": [
          "LD Car",
          "LD Truck"
         ],
         "xaxis": "x7",
         "y": [
          0.968224114162795,
          1.2323413039765592
         ],
         "yaxis": "y7"
        },
        {
         "alignmentgroup": "True",
         "hovertemplate": "Carrier=PHEV<br>Period=2021<br>Vehicle Class=%{x}<br>Capacity (M units)=%{y}<extra></extra>",
         "legendgroup": "PHEV",
         "marker": {
          "color": "#990099",
          "pattern": {
           "shape": ""
          }
         },
         "name": "PHEV",
         "offsetgroup": "PHEV",
         "orientation": "v",
         "showlegend": true,
         "textfont": {
          "size": 9
         },
         "textposition": "auto",
         "texttemplate": "%{y:.2f}",
         "type": "bar",
         "x": [
          "LD Car",
          "LD Truck"
         ],
         "xaxis": "x",
         "y": [
          0.02260086306311262,
          0.012586546590703138
         ],
         "yaxis": "y"
        },
        {
         "alignmentgroup": "True",
         "hovertemplate": "Carrier=PHEV<br>Period=2025<br>Vehicle Class=%{x}<br>Capacity (M units)=%{y}<extra></extra>",
         "legendgroup": "PHEV",
         "marker": {
          "color": "#990099",
          "pattern": {
           "shape": ""
          }
         },
         "name": "PHEV",
         "offsetgroup": "PHEV",
         "orientation": "v",
         "showlegend": false,
         "textfont": {
          "size": 9
         },
         "textposition": "auto",
         "texttemplate": "%{y:.2f}",
         "type": "bar",
         "x": [
          "LD Car",
          "LD Truck"
         ],
         "xaxis": "x2",
         "y": [
          0.033023096840757264,
          0.03234990046541122
         ],
         "yaxis": "y2"
        },
        {
         "alignmentgroup": "True",
         "hovertemplate": "Carrier=PHEV<br>Period=2030<br>Vehicle Class=%{x}<br>Capacity (M units)=%{y}<extra></extra>",
         "legendgroup": "PHEV",
         "marker": {
          "color": "#990099",
          "pattern": {
           "shape": ""
          }
         },
         "name": "PHEV",
         "offsetgroup": "PHEV",
         "orientation": "v",
         "showlegend": false,
         "textfont": {
          "size": 9
         },
         "textposition": "auto",
         "texttemplate": "%{y:.2f}",
         "type": "bar",
         "x": [
          "LD Car",
          "LD Truck"
         ],
         "xaxis": "x3",
         "y": [
          0.051985802507836965,
          0.07017571197422695
         ],
         "yaxis": "y3"
        },
        {
         "alignmentgroup": "True",
         "hovertemplate": "Carrier=PHEV<br>Period=2035<br>Vehicle Class=%{x}<br>Capacity (M units)=%{y}<extra></extra>",
         "legendgroup": "PHEV",
         "marker": {
          "color": "#990099",
          "pattern": {
           "shape": ""
          }
         },
         "name": "PHEV",
         "offsetgroup": "PHEV",
         "orientation": "v",
         "showlegend": false,
         "textfont": {
          "size": 9
         },
         "textposition": "auto",
         "texttemplate": "%{y:.2f}",
         "type": "bar",
         "x": [
          "LD Car",
          "LD Truck"
         ],
         "xaxis": "x4",
         "y": [
          0.07117920336785727,
          0.17643363101320061
         ],
         "yaxis": "y4"
        },
        {
         "alignmentgroup": "True",
         "hovertemplate": "Carrier=PHEV<br>Period=2040<br>Vehicle Class=%{x}<br>Capacity (M units)=%{y}<extra></extra>",
         "legendgroup": "PHEV",
         "marker": {
          "color": "#990099",
          "pattern": {
           "shape": ""
          }
         },
         "name": "PHEV",
         "offsetgroup": "PHEV",
         "orientation": "v",
         "showlegend": false,
         "textfont": {
          "size": 9
         },
         "textposition": "auto",
         "texttemplate": "%{y:.2f}",
         "type": "bar",
         "x": [
          "LD Car",
          "LD Truck"
         ],
         "xaxis": "x5",
         "y": [
          0.10640875276033626,
          0.2543578711574604
         ],
         "yaxis": "y5"
        },
        {
         "alignmentgroup": "True",
         "hovertemplate": "Carrier=PHEV<br>Period=2045<br>Vehicle Class=%{x}<br>Capacity (M units)=%{y}<extra></extra>",
         "legendgroup": "PHEV",
         "marker": {
          "color": "#990099",
          "pattern": {
           "shape": ""
          }
         },
         "name": "PHEV",
         "offsetgroup": "PHEV",
         "orientation": "v",
         "showlegend": false,
         "textfont": {
          "size": 9
         },
         "textposition": "auto",
         "texttemplate": "%{y:.2f}",
         "type": "bar",
         "x": [
          "LD Car",
          "LD Truck"
         ],
         "xaxis": "x6",
         "y": [
          0.15807422931596965,
          0.3471837674338277
         ],
         "yaxis": "y6"
        },
        {
         "alignmentgroup": "True",
         "hovertemplate": "Carrier=PHEV<br>Period=2050<br>Vehicle Class=%{x}<br>Capacity (M units)=%{y}<extra></extra>",
         "legendgroup": "PHEV",
         "marker": {
          "color": "#990099",
          "pattern": {
           "shape": ""
          }
         },
         "name": "PHEV",
         "offsetgroup": "PHEV",
         "orientation": "v",
         "showlegend": false,
         "textfont": {
          "size": 9
         },
         "textposition": "auto",
         "texttemplate": "%{y:.2f}",
         "type": "bar",
         "x": [
          "LD Car",
          "LD Truck"
         ],
         "xaxis": "x7",
         "y": [
          0.21595680767811237,
          0.5403749730256774
         ],
         "yaxis": "y7"
        },
        {
         "alignmentgroup": "True",
         "hovertemplate": "Carrier=BEV<br>Period=2021<br>Vehicle Class=%{x}<br>Capacity (M units)=%{y}<extra></extra>",
         "legendgroup": "BEV",
         "marker": {
          "color": "#0099C6",
          "pattern": {
           "shape": ""
          }
         },
         "name": "BEV",
         "offsetgroup": "BEV",
         "orientation": "v",
         "showlegend": true,
         "textfont": {
          "size": 9
         },
         "textposition": "auto",
         "texttemplate": "%{y:.2f}",
         "type": "bar",
         "x": [
          "LD Car",
          "LD Truck"
         ],
         "xaxis": "x",
         "y": [
          0.05302487369881051,
          0.0280786727582278
         ],
         "yaxis": "y"
        },
        {
         "alignmentgroup": "True",
         "hovertemplate": "Carrier=BEV<br>Period=2025<br>Vehicle Class=%{x}<br>Capacity (M units)=%{y}<extra></extra>",
         "legendgroup": "BEV",
         "marker": {
          "color": "#0099C6",
          "pattern": {
           "shape": ""
          }
         },
         "name": "BEV",
         "offsetgroup": "BEV",
         "orientation": "v",
         "showlegend": false,
         "textfont": {
          "size": 9
         },
         "textposition": "auto",
         "texttemplate": "%{y:.2f}",
         "type": "bar",
         "x": [
          "LD Car",
          "LD Truck"
         ],
         "xaxis": "x2",
         "y": [
          0.31571225846333084,
          0.1905170356458466
         ],
         "yaxis": "y2"
        },
        {
         "alignmentgroup": "True",
         "hovertemplate": "Carrier=BEV<br>Period=2030<br>Vehicle Class=%{x}<br>Capacity (M units)=%{y}<extra></extra>",
         "legendgroup": "BEV",
         "marker": {
          "color": "#0099C6",
          "pattern": {
           "shape": ""
          }
         },
         "name": "BEV",
         "offsetgroup": "BEV",
         "orientation": "v",
         "showlegend": false,
         "textfont": {
          "size": 9
         },
         "textposition": "auto",
         "texttemplate": "%{y:.2f}",
         "type": "bar",
         "x": [
          "LD Car",
          "LD Truck"
         ],
         "xaxis": "x3",
         "y": [
          0.8955550020177315,
          0.5969133831363823
         ],
         "yaxis": "y3"
        },
        {
         "alignmentgroup": "True",
         "hovertemplate": "Carrier=BEV<br>Period=2035<br>Vehicle Class=%{x}<br>Capacity (M units)=%{y}<extra></extra>",
         "legendgroup": "BEV",
         "marker": {
          "color": "#0099C6",
          "pattern": {
           "shape": ""
          }
         },
         "name": "BEV",
         "offsetgroup": "BEV",
         "orientation": "v",
         "showlegend": false,
         "textfont": {
          "size": 9
         },
         "textposition": "auto",
         "texttemplate": "%{y:.2f}",
         "type": "bar",
         "x": [
          "LD Car",
          "LD Truck"
         ],
         "xaxis": "x4",
         "y": [
          1.6268005952634208,
          1.5445227837549982
         ],
         "yaxis": "y4"
        },
        {
         "alignmentgroup": "True",
         "hovertemplate": "Carrier=BEV<br>Period=2040<br>Vehicle Class=%{x}<br>Capacity (M units)=%{y}<extra></extra>",
         "legendgroup": "BEV",
         "marker": {
          "color": "#0099C6",
          "pattern": {
           "shape": ""
          }
         },
         "name": "BEV",
         "offsetgroup": "BEV",
         "orientation": "v",
         "showlegend": false,
         "textfont": {
          "size": 9
         },
         "textposition": "auto",
         "texttemplate": "%{y:.2f}",
         "type": "bar",
         "x": [
          "LD Car",
          "LD Truck"
         ],
         "xaxis": "x5",
         "y": [
          2.09649485264214,
          2.2978489895723233
         ],
         "yaxis": "y5"
        },
        {
         "alignmentgroup": "True",
         "hovertemplate": "Carrier=BEV<br>Period=2045<br>Vehicle Class=%{x}<br>Capacity (M units)=%{y}<extra></extra>",
         "legendgroup": "BEV",
         "marker": {
          "color": "#0099C6",
          "pattern": {
           "shape": ""
          }
         },
         "name": "BEV",
         "offsetgroup": "BEV",
         "orientation": "v",
         "showlegend": false,
         "textfont": {
          "size": 9
         },
         "textposition": "auto",
         "texttemplate": "%{y:.2f}",
         "type": "bar",
         "x": [
          "LD Car",
          "LD Truck"
         ],
         "xaxis": "x6",
         "y": [
          2.506998676893583,
          2.949686057284685
         ],
         "yaxis": "y6"
        },
        {
         "alignmentgroup": "True",
         "hovertemplate": "Carrier=BEV<br>Period=2050<br>Vehicle Class=%{x}<br>Capacity (M units)=%{y}<extra></extra>",
         "legendgroup": "BEV",
         "marker": {
          "color": "#0099C6",
          "pattern": {
           "shape": ""
          }
         },
         "name": "BEV",
         "offsetgroup": "BEV",
         "orientation": "v",
         "showlegend": false,
         "textfont": {
          "size": 9
         },
         "textposition": "auto",
         "texttemplate": "%{y:.2f}",
         "type": "bar",
         "x": [
          "LD Car",
          "LD Truck"
         ],
         "xaxis": "x7",
         "y": [
          2.8366187498843947,
          3.7572777569010776
         ],
         "yaxis": "y7"
        },
        {
         "alignmentgroup": "True",
         "hovertemplate": "Carrier=FCEV<br>Period=2021<br>Vehicle Class=%{x}<br>Capacity (M units)=%{y}<extra></extra>",
         "legendgroup": "FCEV",
         "marker": {
          "color": "#DD4477",
          "pattern": {
           "shape": ""
          }
         },
         "name": "FCEV",
         "offsetgroup": "FCEV",
         "orientation": "v",
         "showlegend": true,
         "textfont": {
          "size": 9
         },
         "textposition": "auto",
         "texttemplate": "%{y:.2f}",
         "type": "bar",
         "x": [
          "LD Car",
          "LD Truck"
         ],
         "xaxis": "x",
         "y": [
          0,
          0
         ],
         "yaxis": "y"
        },
        {
         "alignmentgroup": "True",
         "hovertemplate": "Carrier=FCEV<br>Period=2025<br>Vehicle Class=%{x}<br>Capacity (M units)=%{y}<extra></extra>",
         "legendgroup": "FCEV",
         "marker": {
          "color": "#DD4477",
          "pattern": {
           "shape": ""
          }
         },
         "name": "FCEV",
         "offsetgroup": "FCEV",
         "orientation": "v",
         "showlegend": false,
         "textfont": {
          "size": 9
         },
         "textposition": "auto",
         "texttemplate": "%{y:.2f}",
         "type": "bar",
         "x": [
          "LD Car",
          "LD Truck"
         ],
         "xaxis": "x2",
         "y": [
          0.000002696761666547941,
          0.000004203982578841092
         ],
         "yaxis": "y2"
        },
        {
         "alignmentgroup": "True",
         "hovertemplate": "Carrier=FCEV<br>Period=2030<br>Vehicle Class=%{x}<br>Capacity (M units)=%{y}<extra></extra>",
         "legendgroup": "FCEV",
         "marker": {
          "color": "#DD4477",
          "pattern": {
           "shape": ""
          }
         },
         "name": "FCEV",
         "offsetgroup": "FCEV",
         "orientation": "v",
         "showlegend": false,
         "textfont": {
          "size": 9
         },
         "textposition": "auto",
         "texttemplate": "%{y:.2f}",
         "type": "bar",
         "x": [
          "LD Car",
          "LD Truck"
         ],
         "xaxis": "x3",
         "y": [
          0.000007234915984403229,
          0.000009966681963676965
         ],
         "yaxis": "y3"
        },
        {
         "alignmentgroup": "True",
         "hovertemplate": "Carrier=FCEV<br>Period=2035<br>Vehicle Class=%{x}<br>Capacity (M units)=%{y}<extra></extra>",
         "legendgroup": "FCEV",
         "marker": {
          "color": "#DD4477",
          "pattern": {
           "shape": ""
          }
         },
         "name": "FCEV",
         "offsetgroup": "FCEV",
         "orientation": "v",
         "showlegend": false,
         "textfont": {
          "size": 9
         },
         "textposition": "auto",
         "texttemplate": "%{y:.2f}",
         "type": "bar",
         "x": [
          "LD Car",
          "LD Truck"
         ],
         "xaxis": "x4",
         "y": [
          0.00001161149135972888,
          0.00001665275335828343
         ],
         "yaxis": "y4"
        },
        {
         "alignmentgroup": "True",
         "hovertemplate": "Carrier=FCEV<br>Period=2040<br>Vehicle Class=%{x}<br>Capacity (M units)=%{y}<extra></extra>",
         "legendgroup": "FCEV",
         "marker": {
          "color": "#DD4477",
          "pattern": {
           "shape": ""
          }
         },
         "name": "FCEV",
         "offsetgroup": "FCEV",
         "orientation": "v",
         "showlegend": false,
         "textfont": {
          "size": 9
         },
         "textposition": "auto",
         "texttemplate": "%{y:.2f}",
         "type": "bar",
         "x": [
          "LD Car",
          "LD Truck"
         ],
         "xaxis": "x5",
         "y": [
          0.00001197817847952436,
          0.000021967926811490477
         ],
         "yaxis": "y5"
        },
        {
         "alignmentgroup": "True",
         "hovertemplate": "Carrier=FCEV<br>Period=2045<br>Vehicle Class=%{x}<br>Capacity (M units)=%{y}<extra></extra>",
         "legendgroup": "FCEV",
         "marker": {
          "color": "#DD4477",
          "pattern": {
           "shape": ""
          }
         },
         "name": "FCEV",
         "offsetgroup": "FCEV",
         "orientation": "v",
         "showlegend": false,
         "textfont": {
          "size": 9
         },
         "textposition": "auto",
         "texttemplate": "%{y:.2f}",
         "type": "bar",
         "x": [
          "LD Car",
          "LD Truck"
         ],
         "xaxis": "x6",
         "y": [
          0.00001050571542040383,
          0.000023247825061314838
         ],
         "yaxis": "y6"
        },
        {
         "alignmentgroup": "True",
         "hovertemplate": "Carrier=FCEV<br>Period=2050<br>Vehicle Class=%{x}<br>Capacity (M units)=%{y}<extra></extra>",
         "legendgroup": "FCEV",
         "marker": {
          "color": "#DD4477",
          "pattern": {
           "shape": ""
          }
         },
         "name": "FCEV",
         "offsetgroup": "FCEV",
         "orientation": "v",
         "showlegend": false,
         "textfont": {
          "size": 9
         },
         "textposition": "auto",
         "texttemplate": "%{y:.2f}",
         "type": "bar",
         "x": [
          "LD Car",
          "LD Truck"
         ],
         "xaxis": "x7",
         "y": [
          0.00001010574171073472,
          0.00002490463074787377
         ],
         "yaxis": "y7"
        }
       ],
       "layout": {
        "annotations": [
         {
          "font": {},
          "showarrow": false,
          "text": "2021",
          "x": 0.06285714285714285,
          "xanchor": "center",
          "xref": "paper",
          "y": -0.08,
          "yanchor": "top",
          "yref": "paper"
         },
         {
          "font": {},
          "showarrow": false,
          "text": "2025",
          "x": 0.20857142857142852,
          "xanchor": "center",
          "xref": "paper",
          "y": -0.08,
          "yanchor": "top",
          "yref": "paper"
         },
         {
          "font": {},
          "showarrow": false,
          "text": "2030",
          "x": 0.3542857142857142,
          "xanchor": "center",
          "xref": "paper",
          "y": -0.08,
          "yanchor": "top",
          "yref": "paper"
         },
         {
          "font": {},
          "showarrow": false,
          "text": "2035",
          "x": 0.5,
          "xanchor": "center",
          "xref": "paper",
          "y": -0.08,
          "yanchor": "top",
          "yref": "paper"
         },
         {
          "font": {},
          "showarrow": false,
          "text": "2040",
          "x": 0.6457142857142856,
          "xanchor": "center",
          "xref": "paper",
          "y": -0.08,
          "yanchor": "top",
          "yref": "paper"
         },
         {
          "font": {},
          "showarrow": false,
          "text": "2045",
          "x": 0.7914285714285713,
          "xanchor": "center",
          "xref": "paper",
          "y": -0.08,
          "yanchor": "top",
          "yref": "paper"
         },
         {
          "font": {},
          "showarrow": false,
          "text": "2050",
          "x": 0.937142857142857,
          "xanchor": "center",
          "xref": "paper",
          "y": -0.08,
          "yanchor": "top",
          "yref": "paper"
         }
        ],
        "bargap": 0.1,
        "barmode": "stack",
        "font": {
         "size": 14
        },
        "height": 650,
        "legend": {
         "orientation": "h",
         "title": {
          "text": ""
         },
         "tracegroupgap": 0,
         "x": 0.5,
         "xanchor": "center",
         "y": 1.03,
         "yanchor": "top"
        },
        "margin": {
         "t": 60
        },
        "template": {
         "data": {
          "bar": [
           {
            "error_x": {
             "color": "#2a3f5f"
            },
            "error_y": {
             "color": "#2a3f5f"
            },
            "marker": {
             "line": {
              "color": "white",
              "width": 0.5
             },
             "pattern": {
              "fillmode": "overlay",
              "size": 10,
              "solidity": 0.2
             }
            },
            "type": "bar"
           }
          ],
          "barpolar": [
           {
            "marker": {
             "line": {
              "color": "white",
              "width": 0.5
             },
             "pattern": {
              "fillmode": "overlay",
              "size": 10,
              "solidity": 0.2
             }
            },
            "type": "barpolar"
           }
          ],
          "carpet": [
           {
            "aaxis": {
             "endlinecolor": "#2a3f5f",
             "gridcolor": "#C8D4E3",
             "linecolor": "#C8D4E3",
             "minorgridcolor": "#C8D4E3",
             "startlinecolor": "#2a3f5f"
            },
            "baxis": {
             "endlinecolor": "#2a3f5f",
             "gridcolor": "#C8D4E3",
             "linecolor": "#C8D4E3",
             "minorgridcolor": "#C8D4E3",
             "startlinecolor": "#2a3f5f"
            },
            "type": "carpet"
           }
          ],
          "choropleth": [
           {
            "colorbar": {
             "outlinewidth": 0,
             "ticks": ""
            },
            "type": "choropleth"
           }
          ],
          "contour": [
           {
            "colorbar": {
             "outlinewidth": 0,
             "ticks": ""
            },
            "colorscale": [
             [
              0,
              "#0d0887"
             ],
             [
              0.1111111111111111,
              "#46039f"
             ],
             [
              0.2222222222222222,
              "#7201a8"
             ],
             [
              0.3333333333333333,
              "#9c179e"
             ],
             [
              0.4444444444444444,
              "#bd3786"
             ],
             [
              0.5555555555555556,
              "#d8576b"
             ],
             [
              0.6666666666666666,
              "#ed7953"
             ],
             [
              0.7777777777777778,
              "#fb9f3a"
             ],
             [
              0.8888888888888888,
              "#fdca26"
             ],
             [
              1,
              "#f0f921"
             ]
            ],
            "type": "contour"
           }
          ],
          "contourcarpet": [
           {
            "colorbar": {
             "outlinewidth": 0,
             "ticks": ""
            },
            "type": "contourcarpet"
           }
          ],
          "heatmap": [
           {
            "colorbar": {
             "outlinewidth": 0,
             "ticks": ""
            },
            "colorscale": [
             [
              0,
              "#0d0887"
             ],
             [
              0.1111111111111111,
              "#46039f"
             ],
             [
              0.2222222222222222,
              "#7201a8"
             ],
             [
              0.3333333333333333,
              "#9c179e"
             ],
             [
              0.4444444444444444,
              "#bd3786"
             ],
             [
              0.5555555555555556,
              "#d8576b"
             ],
             [
              0.6666666666666666,
              "#ed7953"
             ],
             [
              0.7777777777777778,
              "#fb9f3a"
             ],
             [
              0.8888888888888888,
              "#fdca26"
             ],
             [
              1,
              "#f0f921"
             ]
            ],
            "type": "heatmap"
           }
          ],
          "heatmapgl": [
           {
            "colorbar": {
             "outlinewidth": 0,
             "ticks": ""
            },
            "colorscale": [
             [
              0,
              "#0d0887"
             ],
             [
              0.1111111111111111,
              "#46039f"
             ],
             [
              0.2222222222222222,
              "#7201a8"
             ],
             [
              0.3333333333333333,
              "#9c179e"
             ],
             [
              0.4444444444444444,
              "#bd3786"
             ],
             [
              0.5555555555555556,
              "#d8576b"
             ],
             [
              0.6666666666666666,
              "#ed7953"
             ],
             [
              0.7777777777777778,
              "#fb9f3a"
             ],
             [
              0.8888888888888888,
              "#fdca26"
             ],
             [
              1,
              "#f0f921"
             ]
            ],
            "type": "heatmapgl"
           }
          ],
          "histogram": [
           {
            "marker": {
             "pattern": {
              "fillmode": "overlay",
              "size": 10,
              "solidity": 0.2
             }
            },
            "type": "histogram"
           }
          ],
          "histogram2d": [
           {
            "colorbar": {
             "outlinewidth": 0,
             "ticks": ""
            },
            "colorscale": [
             [
              0,
              "#0d0887"
             ],
             [
              0.1111111111111111,
              "#46039f"
             ],
             [
              0.2222222222222222,
              "#7201a8"
             ],
             [
              0.3333333333333333,
              "#9c179e"
             ],
             [
              0.4444444444444444,
              "#bd3786"
             ],
             [
              0.5555555555555556,
              "#d8576b"
             ],
             [
              0.6666666666666666,
              "#ed7953"
             ],
             [
              0.7777777777777778,
              "#fb9f3a"
             ],
             [
              0.8888888888888888,
              "#fdca26"
             ],
             [
              1,
              "#f0f921"
             ]
            ],
            "type": "histogram2d"
           }
          ],
          "histogram2dcontour": [
           {
            "colorbar": {
             "outlinewidth": 0,
             "ticks": ""
            },
            "colorscale": [
             [
              0,
              "#0d0887"
             ],
             [
              0.1111111111111111,
              "#46039f"
             ],
             [
              0.2222222222222222,
              "#7201a8"
             ],
             [
              0.3333333333333333,
              "#9c179e"
             ],
             [
              0.4444444444444444,
              "#bd3786"
             ],
             [
              0.5555555555555556,
              "#d8576b"
             ],
             [
              0.6666666666666666,
              "#ed7953"
             ],
             [
              0.7777777777777778,
              "#fb9f3a"
             ],
             [
              0.8888888888888888,
              "#fdca26"
             ],
             [
              1,
              "#f0f921"
             ]
            ],
            "type": "histogram2dcontour"
           }
          ],
          "mesh3d": [
           {
            "colorbar": {
             "outlinewidth": 0,
             "ticks": ""
            },
            "type": "mesh3d"
           }
          ],
          "parcoords": [
           {
            "line": {
             "colorbar": {
              "outlinewidth": 0,
              "ticks": ""
             }
            },
            "type": "parcoords"
           }
          ],
          "pie": [
           {
            "automargin": true,
            "type": "pie"
           }
          ],
          "scatter": [
           {
            "fillpattern": {
             "fillmode": "overlay",
             "size": 10,
             "solidity": 0.2
            },
            "type": "scatter"
           }
          ],
          "scatter3d": [
           {
            "line": {
             "colorbar": {
              "outlinewidth": 0,
              "ticks": ""
             }
            },
            "marker": {
             "colorbar": {
              "outlinewidth": 0,
              "ticks": ""
             }
            },
            "type": "scatter3d"
           }
          ],
          "scattercarpet": [
           {
            "marker": {
             "colorbar": {
              "outlinewidth": 0,
              "ticks": ""
             }
            },
            "type": "scattercarpet"
           }
          ],
          "scattergeo": [
           {
            "marker": {
             "colorbar": {
              "outlinewidth": 0,
              "ticks": ""
             }
            },
            "type": "scattergeo"
           }
          ],
          "scattergl": [
           {
            "marker": {
             "colorbar": {
              "outlinewidth": 0,
              "ticks": ""
             }
            },
            "type": "scattergl"
           }
          ],
          "scattermapbox": [
           {
            "marker": {
             "colorbar": {
              "outlinewidth": 0,
              "ticks": ""
             }
            },
            "type": "scattermapbox"
           }
          ],
          "scatterpolar": [
           {
            "marker": {
             "colorbar": {
              "outlinewidth": 0,
              "ticks": ""
             }
            },
            "type": "scatterpolar"
           }
          ],
          "scatterpolargl": [
           {
            "marker": {
             "colorbar": {
              "outlinewidth": 0,
              "ticks": ""
             }
            },
            "type": "scatterpolargl"
           }
          ],
          "scatterternary": [
           {
            "marker": {
             "colorbar": {
              "outlinewidth": 0,
              "ticks": ""
             }
            },
            "type": "scatterternary"
           }
          ],
          "surface": [
           {
            "colorbar": {
             "outlinewidth": 0,
             "ticks": ""
            },
            "colorscale": [
             [
              0,
              "#0d0887"
             ],
             [
              0.1111111111111111,
              "#46039f"
             ],
             [
              0.2222222222222222,
              "#7201a8"
             ],
             [
              0.3333333333333333,
              "#9c179e"
             ],
             [
              0.4444444444444444,
              "#bd3786"
             ],
             [
              0.5555555555555556,
              "#d8576b"
             ],
             [
              0.6666666666666666,
              "#ed7953"
             ],
             [
              0.7777777777777778,
              "#fb9f3a"
             ],
             [
              0.8888888888888888,
              "#fdca26"
             ],
             [
              1,
              "#f0f921"
             ]
            ],
            "type": "surface"
           }
          ],
          "table": [
           {
            "cells": {
             "fill": {
              "color": "#EBF0F8"
             },
             "line": {
              "color": "white"
             }
            },
            "header": {
             "fill": {
              "color": "#C8D4E3"
             },
             "line": {
              "color": "white"
             }
            },
            "type": "table"
           }
          ]
         },
         "layout": {
          "annotationdefaults": {
           "arrowcolor": "#2a3f5f",
           "arrowhead": 0,
           "arrowwidth": 1
          },
          "autotypenumbers": "strict",
          "coloraxis": {
           "colorbar": {
            "outlinewidth": 0,
            "ticks": ""
           }
          },
          "colorscale": {
           "diverging": [
            [
             0,
             "#8e0152"
            ],
            [
             0.1,
             "#c51b7d"
            ],
            [
             0.2,
             "#de77ae"
            ],
            [
             0.3,
             "#f1b6da"
            ],
            [
             0.4,
             "#fde0ef"
            ],
            [
             0.5,
             "#f7f7f7"
            ],
            [
             0.6,
             "#e6f5d0"
            ],
            [
             0.7,
             "#b8e186"
            ],
            [
             0.8,
             "#7fbc41"
            ],
            [
             0.9,
             "#4d9221"
            ],
            [
             1,
             "#276419"
            ]
           ],
           "sequential": [
            [
             0,
             "#0d0887"
            ],
            [
             0.1111111111111111,
             "#46039f"
            ],
            [
             0.2222222222222222,
             "#7201a8"
            ],
            [
             0.3333333333333333,
             "#9c179e"
            ],
            [
             0.4444444444444444,
             "#bd3786"
            ],
            [
             0.5555555555555556,
             "#d8576b"
            ],
            [
             0.6666666666666666,
             "#ed7953"
            ],
            [
             0.7777777777777778,
             "#fb9f3a"
            ],
            [
             0.8888888888888888,
             "#fdca26"
            ],
            [
             1,
             "#f0f921"
            ]
           ],
           "sequentialminus": [
            [
             0,
             "#0d0887"
            ],
            [
             0.1111111111111111,
             "#46039f"
            ],
            [
             0.2222222222222222,
             "#7201a8"
            ],
            [
             0.3333333333333333,
             "#9c179e"
            ],
            [
             0.4444444444444444,
             "#bd3786"
            ],
            [
             0.5555555555555556,
             "#d8576b"
            ],
            [
             0.6666666666666666,
             "#ed7953"
            ],
            [
             0.7777777777777778,
             "#fb9f3a"
            ],
            [
             0.8888888888888888,
             "#fdca26"
            ],
            [
             1,
             "#f0f921"
            ]
           ]
          },
          "colorway": [
           "#636efa",
           "#EF553B",
           "#00cc96",
           "#ab63fa",
           "#FFA15A",
           "#19d3f3",
           "#FF6692",
           "#B6E880",
           "#FF97FF",
           "#FECB52"
          ],
          "font": {
           "color": "#2a3f5f"
          },
          "geo": {
           "bgcolor": "white",
           "lakecolor": "white",
           "landcolor": "white",
           "showlakes": true,
           "showland": true,
           "subunitcolor": "#C8D4E3"
          },
          "hoverlabel": {
           "align": "left"
          },
          "hovermode": "closest",
          "mapbox": {
           "style": "light"
          },
          "paper_bgcolor": "white",
          "plot_bgcolor": "white",
          "polar": {
           "angularaxis": {
            "gridcolor": "#EBF0F8",
            "linecolor": "#EBF0F8",
            "ticks": ""
           },
           "bgcolor": "white",
           "radialaxis": {
            "gridcolor": "#EBF0F8",
            "linecolor": "#EBF0F8",
            "ticks": ""
           }
          },
          "scene": {
           "xaxis": {
            "backgroundcolor": "white",
            "gridcolor": "#DFE8F3",
            "gridwidth": 2,
            "linecolor": "#EBF0F8",
            "showbackground": true,
            "ticks": "",
            "zerolinecolor": "#EBF0F8"
           },
           "yaxis": {
            "backgroundcolor": "white",
            "gridcolor": "#DFE8F3",
            "gridwidth": 2,
            "linecolor": "#EBF0F8",
            "showbackground": true,
            "ticks": "",
            "zerolinecolor": "#EBF0F8"
           },
           "zaxis": {
            "backgroundcolor": "white",
            "gridcolor": "#DFE8F3",
            "gridwidth": 2,
            "linecolor": "#EBF0F8",
            "showbackground": true,
            "ticks": "",
            "zerolinecolor": "#EBF0F8"
           }
          },
          "shapedefaults": {
           "line": {
            "color": "#2a3f5f"
           }
          },
          "ternary": {
           "aaxis": {
            "gridcolor": "#DFE8F3",
            "linecolor": "#A2B1C6",
            "ticks": ""
           },
           "baxis": {
            "gridcolor": "#DFE8F3",
            "linecolor": "#A2B1C6",
            "ticks": ""
           },
           "bgcolor": "white",
           "caxis": {
            "gridcolor": "#DFE8F3",
            "linecolor": "#A2B1C6",
            "ticks": ""
           }
          },
          "title": {
           "x": 0.05
          },
          "xaxis": {
           "automargin": true,
           "gridcolor": "#EBF0F8",
           "linecolor": "#EBF0F8",
           "ticks": "",
           "title": {
            "standoff": 15
           },
           "zerolinecolor": "#EBF0F8",
           "zerolinewidth": 2
          },
          "yaxis": {
           "automargin": true,
           "gridcolor": "#EBF0F8",
           "linecolor": "#EBF0F8",
           "ticks": "",
           "title": {
            "standoff": 15
           },
           "zerolinecolor": "#EBF0F8",
           "zerolinewidth": 2
          }
         }
        },
        "title": {
         "text": "Transportation LDV fleet stock in ON by vehicle class and drivetrain",
         "x": 0.5,
         "xanchor": "center",
         "y": 0.97,
         "yanchor": "top"
        },
        "width": 1000,
        "xaxis": {
         "anchor": "y",
         "domain": [
          0,
          0.1257142857142857
         ],
         "title": {
          "text": ""
         }
        },
        "xaxis2": {
         "anchor": "y2",
         "domain": [
          0.14571428571428569,
          0.27142857142857135
         ],
         "matches": "x",
         "title": {
          "text": ""
         }
        },
        "xaxis3": {
         "anchor": "y3",
         "domain": [
          0.29142857142857137,
          0.41714285714285704
         ],
         "matches": "x",
         "title": {
          "text": ""
         }
        },
        "xaxis4": {
         "anchor": "y4",
         "domain": [
          0.4371428571428571,
          0.5628571428571428
         ],
         "matches": "x",
         "title": {
          "text": ""
         }
        },
        "xaxis5": {
         "anchor": "y5",
         "domain": [
          0.5828571428571427,
          0.7085714285714284
         ],
         "matches": "x",
         "title": {
          "text": ""
         }
        },
        "xaxis6": {
         "anchor": "y6",
         "domain": [
          0.7285714285714284,
          0.8542857142857141
         ],
         "matches": "x",
         "title": {
          "text": ""
         }
        },
        "xaxis7": {
         "anchor": "y7",
         "domain": [
          0.8742857142857142,
          0.9999999999999999
         ],
         "matches": "x",
         "title": {
          "text": ""
         }
        },
        "yaxis": {
         "anchor": "x",
         "domain": [
          0,
          1
         ],
         "dtick": 1,
         "title": {
          "standoff": 0,
          "text": "Fleet stock (M units)"
         }
        },
        "yaxis2": {
         "anchor": "x2",
         "domain": [
          0,
          1
         ],
         "dtick": 1,
         "matches": "y",
         "showticklabels": false
        },
        "yaxis3": {
         "anchor": "x3",
         "domain": [
          0,
          1
         ],
         "dtick": 1,
         "matches": "y",
         "showticklabels": false
        },
        "yaxis4": {
         "anchor": "x4",
         "domain": [
          0,
          1
         ],
         "dtick": 1,
         "matches": "y",
         "showticklabels": false
        },
        "yaxis5": {
         "anchor": "x5",
         "domain": [
          0,
          1
         ],
         "dtick": 1,
         "matches": "y",
         "showticklabels": false
        },
        "yaxis6": {
         "anchor": "x6",
         "domain": [
          0,
          1
         ],
         "dtick": 1,
         "matches": "y",
         "showticklabels": false
        },
        "yaxis7": {
         "anchor": "x7",
         "domain": [
          0,
          1
         ],
         "dtick": 1,
         "matches": "y",
         "showticklabels": false
        }
       }
      }
     },
     "metadata": {},
     "output_type": "display_data"
    }
   ],
   "source": [
    "ref_fig = ref_trncap[ref_trncap['Vehicle Class'].isin(['LD Car', 'LD Truck'])][['Period', 'Vehicle Class', 'Capacity (M units)', 'Carrier']].groupby(['Period', 'Vehicle Class', 'Carrier'], as_index=False).sum()\n",
    "\n",
    "ref_fig['Carrier'] = pd.Categorical(ref_fig['Carrier'], categories=drivetrain_order, ordered=True)\n",
    "ref_fig = ref_fig.sort_values(['Carrier', 'Period'])\n",
    "\n",
    "fig = px.bar(ref_fig, \n",
    "             x='Vehicle Class', \n",
    "             y='Capacity (M units)', \n",
    "             color='Carrier', \n",
    "             barmode='stack', \n",
    "             facet_col='Period',\n",
    "             facet_col_spacing=2E-2,\n",
    "             template='plotly_white',\n",
    "             color_discrete_sequence=px.colors.qualitative.G10[:7] + px.colors.qualitative.G10[8:],\n",
    "             text_auto='.2f',\n",
    "            #  text='Demand (PJ)_sum'\n",
    "             width=1000, height=650,\n",
    "             )\n",
    "\n",
    "fig.update_layout(title=dict(\n",
    "        text='Transportation LDV fleet stock in ON by vehicle class and drivetrain',\n",
    "        x=0.5, \n",
    "        y=0.97,\n",
    "        xanchor='center',\n",
    "        yanchor='top'\n",
    "    ),\n",
    "    xaxis=dict(title='Period'),\n",
    "    yaxis=dict(title='Fleet stock (M units)',\n",
    "               dtick=1),\n",
    "    yaxis_title_standoff=0,\n",
    "    legend_title_text='',\n",
    "    bargap=0.1,\n",
    "    legend=dict(\n",
    "        orientation='h',  \n",
    "        yanchor='top',\n",
    "        y=1.03,  \n",
    "        xanchor='center',\n",
    "        x=0.5),\n",
    "    font=dict(\n",
    "        # family=\"Open Sans\",\n",
    "        size=14)\n",
    "    )\n",
    "\n",
    "for annotation in fig.layout.annotations:\n",
    "    annotation.text = annotation.text.split('=')[1]\n",
    "    annotation.y = -0.08  \n",
    "    annotation.yanchor = 'top' \n",
    "\n",
    "for axis in fig.layout:\n",
    "    if axis.startswith('yaxis'):\n",
    "        fig.layout[axis].dtick = 1\n",
    "\n",
    "for axis in fig.layout:\n",
    "    if axis.startswith('xaxis'):\n",
    "        fig.layout[axis].title.text = ''\n",
    "\n",
    "fig.for_each_trace(lambda trace: trace.update(textfont=dict(size=9)))\n",
    "\n",
    "fig.show()"
   ]
  },
  {
   "cell_type": "code",
   "execution_count": 137,
   "metadata": {},
   "outputs": [
    {
     "data": {
      "application/vnd.plotly.v1+json": {
       "config": {
        "plotlyServerURL": "https://plot.ly"
       },
       "data": [
        {
         "alignmentgroup": "True",
         "hovertemplate": "Carrier=Gasoline<br>Period=2021<br>Vehicle Class=%{x}<br>Capacity (k units)=%{y}<extra></extra>",
         "legendgroup": "Gasoline",
         "marker": {
          "color": "#3366CC",
          "pattern": {
           "shape": ""
          }
         },
         "name": "Gasoline",
         "offsetgroup": "Gasoline",
         "orientation": "v",
         "showlegend": true,
         "textfont": {
          "size": 9
         },
         "textposition": "auto",
         "texttemplate": "%{y:.1f}",
         "type": "bar",
         "x": [
          "Bus",
          "MD Truck"
         ],
         "xaxis": "x",
         "y": [
          1.5148426757139433,
          150.78349622858622
         ],
         "yaxis": "y"
        },
        {
         "alignmentgroup": "True",
         "hovertemplate": "Carrier=Gasoline<br>Period=2025<br>Vehicle Class=%{x}<br>Capacity (k units)=%{y}<extra></extra>",
         "legendgroup": "Gasoline",
         "marker": {
          "color": "#3366CC",
          "pattern": {
           "shape": ""
          }
         },
         "name": "Gasoline",
         "offsetgroup": "Gasoline",
         "orientation": "v",
         "showlegend": false,
         "textfont": {
          "size": 9
         },
         "textposition": "auto",
         "texttemplate": "%{y:.1f}",
         "type": "bar",
         "x": [
          "Bus",
          "MD Truck"
         ],
         "xaxis": "x2",
         "y": [
          1.4515569248669218,
          158.1334888660178
         ],
         "yaxis": "y2"
        },
        {
         "alignmentgroup": "True",
         "hovertemplate": "Carrier=Gasoline<br>Period=2030<br>Vehicle Class=%{x}<br>Capacity (k units)=%{y}<extra></extra>",
         "legendgroup": "Gasoline",
         "marker": {
          "color": "#3366CC",
          "pattern": {
           "shape": ""
          }
         },
         "name": "Gasoline",
         "offsetgroup": "Gasoline",
         "orientation": "v",
         "showlegend": false,
         "textfont": {
          "size": 9
         },
         "textposition": "auto",
         "texttemplate": "%{y:.1f}",
         "type": "bar",
         "x": [
          "Bus",
          "MD Truck"
         ],
         "xaxis": "x3",
         "y": [
          1.1102513034515384,
          142.57045141265797
         ],
         "yaxis": "y3"
        },
        {
         "alignmentgroup": "True",
         "hovertemplate": "Carrier=Gasoline<br>Period=2035<br>Vehicle Class=%{x}<br>Capacity (k units)=%{y}<extra></extra>",
         "legendgroup": "Gasoline",
         "marker": {
          "color": "#3366CC",
          "pattern": {
           "shape": ""
          }
         },
         "name": "Gasoline",
         "offsetgroup": "Gasoline",
         "orientation": "v",
         "showlegend": false,
         "textfont": {
          "size": 9
         },
         "textposition": "auto",
         "texttemplate": "%{y:.1f}",
         "type": "bar",
         "x": [
          "Bus",
          "MD Truck"
         ],
         "xaxis": "x4",
         "y": [
          0.005514863533824764,
          166.59077752756428
         ],
         "yaxis": "y4"
        },
        {
         "alignmentgroup": "True",
         "hovertemplate": "Carrier=Gasoline<br>Period=2040<br>Vehicle Class=%{x}<br>Capacity (k units)=%{y}<extra></extra>",
         "legendgroup": "Gasoline",
         "marker": {
          "color": "#3366CC",
          "pattern": {
           "shape": ""
          }
         },
         "name": "Gasoline",
         "offsetgroup": "Gasoline",
         "orientation": "v",
         "showlegend": false,
         "textfont": {
          "size": 9
         },
         "textposition": "auto",
         "texttemplate": "%{y:.1f}",
         "type": "bar",
         "x": [
          "Bus",
          "MD Truck"
         ],
         "xaxis": "x5",
         "y": [
          0.0025920430850880304,
          97.80552021195867
         ],
         "yaxis": "y5"
        },
        {
         "alignmentgroup": "True",
         "hovertemplate": "Carrier=Gasoline<br>Period=2045<br>Vehicle Class=%{x}<br>Capacity (k units)=%{y}<extra></extra>",
         "legendgroup": "Gasoline",
         "marker": {
          "color": "#3366CC",
          "pattern": {
           "shape": ""
          }
         },
         "name": "Gasoline",
         "offsetgroup": "Gasoline",
         "orientation": "v",
         "showlegend": false,
         "textfont": {
          "size": 9
         },
         "textposition": "auto",
         "texttemplate": "%{y:.1f}",
         "type": "bar",
         "x": [
          "Bus",
          "MD Truck"
         ],
         "xaxis": "x6",
         "y": [
          1.3116196738144075,
          99.823141319188
         ],
         "yaxis": "y6"
        },
        {
         "alignmentgroup": "True",
         "hovertemplate": "Carrier=Gasoline<br>Period=2050<br>Vehicle Class=%{x}<br>Capacity (k units)=%{y}<extra></extra>",
         "legendgroup": "Gasoline",
         "marker": {
          "color": "#3366CC",
          "pattern": {
           "shape": ""
          }
         },
         "name": "Gasoline",
         "offsetgroup": "Gasoline",
         "orientation": "v",
         "showlegend": false,
         "textfont": {
          "size": 9
         },
         "textposition": "auto",
         "texttemplate": "%{y:.1f}",
         "type": "bar",
         "x": [
          "Bus",
          "MD Truck"
         ],
         "xaxis": "x7",
         "y": [
          2.3048003818535867,
          138.0836598410328
         ],
         "yaxis": "y7"
        },
        {
         "alignmentgroup": "True",
         "hovertemplate": "Carrier=Diesel<br>Period=2021<br>Vehicle Class=%{x}<br>Capacity (k units)=%{y}<extra></extra>",
         "legendgroup": "Diesel",
         "marker": {
          "color": "#DC3912",
          "pattern": {
           "shape": ""
          }
         },
         "name": "Diesel",
         "offsetgroup": "Diesel",
         "orientation": "v",
         "showlegend": true,
         "textfont": {
          "size": 9
         },
         "textposition": "auto",
         "texttemplate": "%{y:.1f}",
         "type": "bar",
         "x": [
          "Bus",
          "HD Truck",
          "MD Truck"
         ],
         "xaxis": "x",
         "y": [
          21.944712958636295,
          139.67157561610915,
          257.4859143729115
         ],
         "yaxis": "y"
        },
        {
         "alignmentgroup": "True",
         "hovertemplate": "Carrier=Diesel<br>Period=2025<br>Vehicle Class=%{x}<br>Capacity (k units)=%{y}<extra></extra>",
         "legendgroup": "Diesel",
         "marker": {
          "color": "#DC3912",
          "pattern": {
           "shape": ""
          }
         },
         "name": "Diesel",
         "offsetgroup": "Diesel",
         "orientation": "v",
         "showlegend": false,
         "textfont": {
          "size": 9
         },
         "textposition": "auto",
         "texttemplate": "%{y:.1f}",
         "type": "bar",
         "x": [
          "Bus",
          "HD Truck",
          "MD Truck"
         ],
         "xaxis": "x2",
         "y": [
          19.697187836837813,
          146.21200045440293,
          269.20033392346267
         ],
         "yaxis": "y2"
        },
        {
         "alignmentgroup": "True",
         "hovertemplate": "Carrier=Diesel<br>Period=2030<br>Vehicle Class=%{x}<br>Capacity (k units)=%{y}<extra></extra>",
         "legendgroup": "Diesel",
         "marker": {
          "color": "#DC3912",
          "pattern": {
           "shape": ""
          }
         },
         "name": "Diesel",
         "offsetgroup": "Diesel",
         "orientation": "v",
         "showlegend": false,
         "textfont": {
          "size": 9
         },
         "textposition": "auto",
         "texttemplate": "%{y:.1f}",
         "type": "bar",
         "x": [
          "Bus",
          "HD Truck",
          "MD Truck"
         ],
         "xaxis": "x3",
         "y": [
          12.617963945035902,
          156.642321990878,
          239.55537103083137
         ],
         "yaxis": "y3"
        },
        {
         "alignmentgroup": "True",
         "hovertemplate": "Carrier=Diesel<br>Period=2035<br>Vehicle Class=%{x}<br>Capacity (k units)=%{y}<extra></extra>",
         "legendgroup": "Diesel",
         "marker": {
          "color": "#DC3912",
          "pattern": {
           "shape": ""
          }
         },
         "name": "Diesel",
         "offsetgroup": "Diesel",
         "orientation": "v",
         "showlegend": false,
         "textfont": {
          "size": 9
         },
         "textposition": "auto",
         "texttemplate": "%{y:.1f}",
         "type": "bar",
         "x": [
          "Bus",
          "HD Truck",
          "MD Truck"
         ],
         "xaxis": "x4",
         "y": [
          2.806722963761346,
          156.1295725607757,
          261.4891382601162
         ],
         "yaxis": "y4"
        },
        {
         "alignmentgroup": "True",
         "hovertemplate": "Carrier=Diesel<br>Period=2040<br>Vehicle Class=%{x}<br>Capacity (k units)=%{y}<extra></extra>",
         "legendgroup": "Diesel",
         "marker": {
          "color": "#DC3912",
          "pattern": {
           "shape": ""
          }
         },
         "name": "Diesel",
         "offsetgroup": "Diesel",
         "orientation": "v",
         "showlegend": false,
         "textfont": {
          "size": 9
         },
         "textposition": "auto",
         "texttemplate": "%{y:.1f}",
         "type": "bar",
         "x": [
          "Bus",
          "HD Truck",
          "MD Truck"
         ],
         "xaxis": "x5",
         "y": [
          2.338673014109941,
          145.0383922391825,
          155.8926029868092
         ],
         "yaxis": "y5"
        },
        {
         "alignmentgroup": "True",
         "hovertemplate": "Carrier=Diesel<br>Period=2045<br>Vehicle Class=%{x}<br>Capacity (k units)=%{y}<extra></extra>",
         "legendgroup": "Diesel",
         "marker": {
          "color": "#DC3912",
          "pattern": {
           "shape": ""
          }
         },
         "name": "Diesel",
         "offsetgroup": "Diesel",
         "orientation": "v",
         "showlegend": false,
         "textfont": {
          "size": 9
         },
         "textposition": "auto",
         "texttemplate": "%{y:.1f}",
         "type": "bar",
         "x": [
          "Bus",
          "HD Truck",
          "MD Truck"
         ],
         "xaxis": "x6",
         "y": [
          1.0951526484710061,
          151.9738552747814,
          159.1228867807691
         ],
         "yaxis": "y6"
        },
        {
         "alignmentgroup": "True",
         "hovertemplate": "Carrier=Diesel<br>Period=2050<br>Vehicle Class=%{x}<br>Capacity (k units)=%{y}<extra></extra>",
         "legendgroup": "Diesel",
         "marker": {
          "color": "#DC3912",
          "pattern": {
           "shape": ""
          }
         },
         "name": "Diesel",
         "offsetgroup": "Diesel",
         "orientation": "v",
         "showlegend": false,
         "textfont": {
          "size": 9
         },
         "textposition": "auto",
         "texttemplate": "%{y:.1f}",
         "type": "bar",
         "x": [
          "Bus",
          "HD Truck",
          "MD Truck"
         ],
         "xaxis": "x7",
         "y": [
          0.058983763157923384,
          154.7956409237646,
          212.5417624894227
         ],
         "yaxis": "y7"
        },
        {
         "alignmentgroup": "True",
         "hovertemplate": "Carrier=CNG<br>Period=2021<br>Vehicle Class=%{x}<br>Capacity (k units)=%{y}<extra></extra>",
         "legendgroup": "CNG",
         "marker": {
          "color": "#FF9900",
          "pattern": {
           "shape": ""
          }
         },
         "name": "CNG",
         "offsetgroup": "CNG",
         "orientation": "v",
         "showlegend": true,
         "textfont": {
          "size": 9
         },
         "textposition": "auto",
         "texttemplate": "%{y:.1f}",
         "type": "bar",
         "x": [
          "Bus"
         ],
         "xaxis": "x",
         "y": [
          0.8922657662598868
         ],
         "yaxis": "y"
        },
        {
         "alignmentgroup": "True",
         "hovertemplate": "Carrier=CNG<br>Period=2025<br>Vehicle Class=%{x}<br>Capacity (k units)=%{y}<extra></extra>",
         "legendgroup": "CNG",
         "marker": {
          "color": "#FF9900",
          "pattern": {
           "shape": ""
          }
         },
         "name": "CNG",
         "offsetgroup": "CNG",
         "orientation": "v",
         "showlegend": false,
         "textfont": {
          "size": 9
         },
         "textposition": "auto",
         "texttemplate": "%{y:.1f}",
         "type": "bar",
         "x": [
          "Bus"
         ],
         "xaxis": "x2",
         "y": [
          0.877316664177141
         ],
         "yaxis": "y2"
        },
        {
         "alignmentgroup": "True",
         "hovertemplate": "Carrier=CNG<br>Period=2030<br>Vehicle Class=%{x}<br>Capacity (k units)=%{y}<extra></extra>",
         "legendgroup": "CNG",
         "marker": {
          "color": "#FF9900",
          "pattern": {
           "shape": ""
          }
         },
         "name": "CNG",
         "offsetgroup": "CNG",
         "orientation": "v",
         "showlegend": false,
         "textfont": {
          "size": 9
         },
         "textposition": "auto",
         "texttemplate": "%{y:.1f}",
         "type": "bar",
         "x": [
          "Bus"
         ],
         "xaxis": "x3",
         "y": [
          0.8095261380888388
         ],
         "yaxis": "y3"
        },
        {
         "alignmentgroup": "True",
         "hovertemplate": "Carrier=CNG<br>Period=2035<br>Vehicle Class=%{x}<br>Capacity (k units)=%{y}<extra></extra>",
         "legendgroup": "CNG",
         "marker": {
          "color": "#FF9900",
          "pattern": {
           "shape": ""
          }
         },
         "name": "CNG",
         "offsetgroup": "CNG",
         "orientation": "v",
         "showlegend": false,
         "textfont": {
          "size": 9
         },
         "textposition": "auto",
         "texttemplate": "%{y:.1f}",
         "type": "bar",
         "x": [
          "Bus"
         ],
         "xaxis": "x4",
         "y": [
          0.004710371828951787
         ],
         "yaxis": "y4"
        },
        {
         "alignmentgroup": "True",
         "hovertemplate": "Carrier=CNG<br>Period=2040<br>Vehicle Class=%{x}<br>Capacity (k units)=%{y}<extra></extra>",
         "legendgroup": "CNG",
         "marker": {
          "color": "#FF9900",
          "pattern": {
           "shape": ""
          }
         },
         "name": "CNG",
         "offsetgroup": "CNG",
         "orientation": "v",
         "showlegend": false,
         "textfont": {
          "size": 9
         },
         "textposition": "auto",
         "texttemplate": "%{y:.1f}",
         "type": "bar",
         "x": [
          "Bus"
         ],
         "xaxis": "x5",
         "y": [
          0.001789473911697537
         ],
         "yaxis": "y5"
        },
        {
         "alignmentgroup": "True",
         "hovertemplate": "Carrier=CNG<br>Period=2045<br>Vehicle Class=%{x}<br>Capacity (k units)=%{y}<extra></extra>",
         "legendgroup": "CNG",
         "marker": {
          "color": "#FF9900",
          "pattern": {
           "shape": ""
          }
         },
         "name": "CNG",
         "offsetgroup": "CNG",
         "orientation": "v",
         "showlegend": false,
         "textfont": {
          "size": 9
         },
         "textposition": "auto",
         "texttemplate": "%{y:.1f}",
         "type": "bar",
         "x": [
          "Bus"
         ],
         "xaxis": "x6",
         "y": [
          0
         ],
         "yaxis": "y6"
        },
        {
         "alignmentgroup": "True",
         "hovertemplate": "Carrier=CNG<br>Period=2050<br>Vehicle Class=%{x}<br>Capacity (k units)=%{y}<extra></extra>",
         "legendgroup": "CNG",
         "marker": {
          "color": "#FF9900",
          "pattern": {
           "shape": ""
          }
         },
         "name": "CNG",
         "offsetgroup": "CNG",
         "orientation": "v",
         "showlegend": false,
         "textfont": {
          "size": 9
         },
         "textposition": "auto",
         "texttemplate": "%{y:.1f}",
         "type": "bar",
         "x": [
          "Bus"
         ],
         "xaxis": "x7",
         "y": [
          0
         ],
         "yaxis": "y7"
        },
        {
         "alignmentgroup": "True",
         "hovertemplate": "Carrier=HEV<br>Period=2021<br>Vehicle Class=%{x}<br>Capacity (k units)=%{y}<extra></extra>",
         "legendgroup": "HEV",
         "marker": {
          "color": "#109618",
          "pattern": {
           "shape": ""
          }
         },
         "name": "HEV",
         "offsetgroup": "HEV",
         "orientation": "v",
         "showlegend": true,
         "textfont": {
          "size": 9
         },
         "textposition": "auto",
         "texttemplate": "%{y:.1f}",
         "type": "bar",
         "x": [
          "Bus",
          "HD Truck",
          "MD Truck"
         ],
         "xaxis": "x",
         "y": [
          0.2310625334891252,
          0,
          0
         ],
         "yaxis": "y"
        },
        {
         "alignmentgroup": "True",
         "hovertemplate": "Carrier=HEV<br>Period=2025<br>Vehicle Class=%{x}<br>Capacity (k units)=%{y}<extra></extra>",
         "legendgroup": "HEV",
         "marker": {
          "color": "#109618",
          "pattern": {
           "shape": ""
          }
         },
         "name": "HEV",
         "offsetgroup": "HEV",
         "orientation": "v",
         "showlegend": false,
         "textfont": {
          "size": 9
         },
         "textposition": "auto",
         "texttemplate": "%{y:.1f}",
         "type": "bar",
         "x": [
          "Bus",
          "HD Truck",
          "MD Truck"
         ],
         "xaxis": "x2",
         "y": [
          0.23399614981827532,
          0.4484259929120508,
          0
         ],
         "yaxis": "y2"
        },
        {
         "alignmentgroup": "True",
         "hovertemplate": "Carrier=HEV<br>Period=2030<br>Vehicle Class=%{x}<br>Capacity (k units)=%{y}<extra></extra>",
         "legendgroup": "HEV",
         "marker": {
          "color": "#109618",
          "pattern": {
           "shape": ""
          }
         },
         "name": "HEV",
         "offsetgroup": "HEV",
         "orientation": "v",
         "showlegend": false,
         "textfont": {
          "size": 9
         },
         "textposition": "auto",
         "texttemplate": "%{y:.1f}",
         "type": "bar",
         "x": [
          "Bus",
          "HD Truck",
          "MD Truck"
         ],
         "xaxis": "x3",
         "y": [
          0.23637042693432872,
          2.496194201372901,
          0
         ],
         "yaxis": "y3"
        },
        {
         "alignmentgroup": "True",
         "hovertemplate": "Carrier=HEV<br>Period=2035<br>Vehicle Class=%{x}<br>Capacity (k units)=%{y}<extra></extra>",
         "legendgroup": "HEV",
         "marker": {
          "color": "#109618",
          "pattern": {
           "shape": ""
          }
         },
         "name": "HEV",
         "offsetgroup": "HEV",
         "orientation": "v",
         "showlegend": false,
         "textfont": {
          "size": 9
         },
         "textposition": "auto",
         "texttemplate": "%{y:.1f}",
         "type": "bar",
         "x": [
          "Bus",
          "HD Truck",
          "MD Truck"
         ],
         "xaxis": "x4",
         "y": [
          0.005389287543739577,
          4.672443310496565,
          0.00002865573546508725
         ],
         "yaxis": "y4"
        },
        {
         "alignmentgroup": "True",
         "hovertemplate": "Carrier=HEV<br>Period=2040<br>Vehicle Class=%{x}<br>Capacity (k units)=%{y}<extra></extra>",
         "legendgroup": "HEV",
         "marker": {
          "color": "#109618",
          "pattern": {
           "shape": ""
          }
         },
         "name": "HEV",
         "offsetgroup": "HEV",
         "orientation": "v",
         "showlegend": false,
         "textfont": {
          "size": 9
         },
         "textposition": "auto",
         "texttemplate": "%{y:.1f}",
         "type": "bar",
         "x": [
          "Bus",
          "HD Truck",
          "MD Truck"
         ],
         "xaxis": "x5",
         "y": [
          0.0025103822497797093,
          5.10864361511934,
          0.00004125387934565694
         ],
         "yaxis": "y5"
        },
        {
         "alignmentgroup": "True",
         "hovertemplate": "Carrier=HEV<br>Period=2045<br>Vehicle Class=%{x}<br>Capacity (k units)=%{y}<extra></extra>",
         "legendgroup": "HEV",
         "marker": {
          "color": "#109618",
          "pattern": {
           "shape": ""
          }
         },
         "name": "HEV",
         "offsetgroup": "HEV",
         "orientation": "v",
         "showlegend": false,
         "textfont": {
          "size": 9
         },
         "textposition": "auto",
         "texttemplate": "%{y:.1f}",
         "type": "bar",
         "x": [
          "Bus",
          "HD Truck",
          "MD Truck"
         ],
         "xaxis": "x6",
         "y": [
          0.00014742927082685077,
          5.064813922792037,
          0.00005171436241443435
         ],
         "yaxis": "y6"
        },
        {
         "alignmentgroup": "True",
         "hovertemplate": "Carrier=HEV<br>Period=2050<br>Vehicle Class=%{x}<br>Capacity (k units)=%{y}<extra></extra>",
         "legendgroup": "HEV",
         "marker": {
          "color": "#109618",
          "pattern": {
           "shape": ""
          }
         },
         "name": "HEV",
         "offsetgroup": "HEV",
         "orientation": "v",
         "showlegend": false,
         "textfont": {
          "size": 9
         },
         "textposition": "auto",
         "texttemplate": "%{y:.1f}",
         "type": "bar",
         "x": [
          "Bus",
          "HD Truck",
          "MD Truck"
         ],
         "xaxis": "x7",
         "y": [
          0.0000777571125829835,
          3.262794434306101,
          0.00005171436241443435
         ],
         "yaxis": "y7"
        },
        {
         "alignmentgroup": "True",
         "hovertemplate": "Carrier=PHEV<br>Period=2021<br>Vehicle Class=%{x}<br>Capacity (k units)=%{y}<extra></extra>",
         "legendgroup": "PHEV",
         "marker": {
          "color": "#990099",
          "pattern": {
           "shape": ""
          }
         },
         "name": "PHEV",
         "offsetgroup": "PHEV",
         "orientation": "v",
         "showlegend": true,
         "textfont": {
          "size": 9
         },
         "textposition": "auto",
         "texttemplate": "%{y:.1f}",
         "type": "bar",
         "x": [
          "Bus",
          "HD Truck",
          "MD Truck"
         ],
         "xaxis": "x",
         "y": [
          0,
          0,
          0
         ],
         "yaxis": "y"
        },
        {
         "alignmentgroup": "True",
         "hovertemplate": "Carrier=PHEV<br>Period=2025<br>Vehicle Class=%{x}<br>Capacity (k units)=%{y}<extra></extra>",
         "legendgroup": "PHEV",
         "marker": {
          "color": "#990099",
          "pattern": {
           "shape": ""
          }
         },
         "name": "PHEV",
         "offsetgroup": "PHEV",
         "orientation": "v",
         "showlegend": false,
         "textfont": {
          "size": 9
         },
         "textposition": "auto",
         "texttemplate": "%{y:.1f}",
         "type": "bar",
         "x": [
          "Bus",
          "HD Truck",
          "MD Truck"
         ],
         "xaxis": "x2",
         "y": [
          0,
          0,
          0
         ],
         "yaxis": "y2"
        },
        {
         "alignmentgroup": "True",
         "hovertemplate": "Carrier=PHEV<br>Period=2030<br>Vehicle Class=%{x}<br>Capacity (k units)=%{y}<extra></extra>",
         "legendgroup": "PHEV",
         "marker": {
          "color": "#990099",
          "pattern": {
           "shape": ""
          }
         },
         "name": "PHEV",
         "offsetgroup": "PHEV",
         "orientation": "v",
         "showlegend": false,
         "textfont": {
          "size": 9
         },
         "textposition": "auto",
         "texttemplate": "%{y:.1f}",
         "type": "bar",
         "x": [
          "Bus",
          "HD Truck",
          "MD Truck"
         ],
         "xaxis": "x3",
         "y": [
          0.0000108169428319598,
          0,
          0
         ],
         "yaxis": "y3"
        },
        {
         "alignmentgroup": "True",
         "hovertemplate": "Carrier=PHEV<br>Period=2035<br>Vehicle Class=%{x}<br>Capacity (k units)=%{y}<extra></extra>",
         "legendgroup": "PHEV",
         "marker": {
          "color": "#990099",
          "pattern": {
           "shape": ""
          }
         },
         "name": "PHEV",
         "offsetgroup": "PHEV",
         "orientation": "v",
         "showlegend": false,
         "textfont": {
          "size": 9
         },
         "textposition": "auto",
         "texttemplate": "%{y:.1f}",
         "type": "bar",
         "x": [
          "Bus",
          "HD Truck",
          "MD Truck"
         ],
         "xaxis": "x4",
         "y": [
          0.0000108169428319598,
          0,
          0.00005612256114905854
         ],
         "yaxis": "y4"
        },
        {
         "alignmentgroup": "True",
         "hovertemplate": "Carrier=PHEV<br>Period=2040<br>Vehicle Class=%{x}<br>Capacity (k units)=%{y}<extra></extra>",
         "legendgroup": "PHEV",
         "marker": {
          "color": "#990099",
          "pattern": {
           "shape": ""
          }
         },
         "name": "PHEV",
         "offsetgroup": "PHEV",
         "orientation": "v",
         "showlegend": false,
         "textfont": {
          "size": 9
         },
         "textposition": "auto",
         "texttemplate": "%{y:.1f}",
         "type": "bar",
         "x": [
          "Bus",
          "HD Truck",
          "MD Truck"
         ],
         "xaxis": "x5",
         "y": [
          0.00002168733438832015,
          0,
          0.00007414403627768835
         ],
         "yaxis": "y5"
        },
        {
         "alignmentgroup": "True",
         "hovertemplate": "Carrier=PHEV<br>Period=2045<br>Vehicle Class=%{x}<br>Capacity (k units)=%{y}<extra></extra>",
         "legendgroup": "PHEV",
         "marker": {
          "color": "#990099",
          "pattern": {
           "shape": ""
          }
         },
         "name": "PHEV",
         "offsetgroup": "PHEV",
         "orientation": "v",
         "showlegend": false,
         "textfont": {
          "size": 9
         },
         "textposition": "auto",
         "texttemplate": "%{y:.1f}",
         "type": "bar",
         "x": [
          "Bus",
          "HD Truck",
          "MD Truck"
         ],
         "xaxis": "x6",
         "y": [
          0.00002088858870320074,
          0,
          0.0000886684539197119
         ],
         "yaxis": "y6"
        },
        {
         "alignmentgroup": "True",
         "hovertemplate": "Carrier=PHEV<br>Period=2050<br>Vehicle Class=%{x}<br>Capacity (k units)=%{y}<extra></extra>",
         "legendgroup": "PHEV",
         "marker": {
          "color": "#990099",
          "pattern": {
           "shape": ""
          }
         },
         "name": "PHEV",
         "offsetgroup": "PHEV",
         "orientation": "v",
         "showlegend": false,
         "textfont": {
          "size": 9
         },
         "textposition": "auto",
         "texttemplate": "%{y:.1f}",
         "type": "bar",
         "x": [
          "Bus",
          "HD Truck",
          "MD Truck"
         ],
         "xaxis": "x7",
         "y": [
          0.00003272598381694272,
          0,
          0.0001007478161906203
         ],
         "yaxis": "y7"
        },
        {
         "alignmentgroup": "True",
         "hovertemplate": "Carrier=BEV<br>Period=2021<br>Vehicle Class=%{x}<br>Capacity (k units)=%{y}<extra></extra>",
         "legendgroup": "BEV",
         "marker": {
          "color": "#0099C6",
          "pattern": {
           "shape": ""
          }
         },
         "name": "BEV",
         "offsetgroup": "BEV",
         "orientation": "v",
         "showlegend": true,
         "textfont": {
          "size": 9
         },
         "textposition": "auto",
         "texttemplate": "%{y:.1f}",
         "type": "bar",
         "x": [
          "Bus",
          "HD Truck",
          "MD Truck"
         ],
         "xaxis": "x",
         "y": [
          2.8215736299068976,
          0,
          0
         ],
         "yaxis": "y"
        },
        {
         "alignmentgroup": "True",
         "hovertemplate": "Carrier=BEV<br>Period=2025<br>Vehicle Class=%{x}<br>Capacity (k units)=%{y}<extra></extra>",
         "legendgroup": "BEV",
         "marker": {
          "color": "#0099C6",
          "pattern": {
           "shape": ""
          }
         },
         "name": "BEV",
         "offsetgroup": "BEV",
         "orientation": "v",
         "showlegend": false,
         "textfont": {
          "size": 9
         },
         "textposition": "auto",
         "texttemplate": "%{y:.1f}",
         "type": "bar",
         "x": [
          "Bus",
          "HD Truck",
          "MD Truck"
         ],
         "xaxis": "x2",
         "y": [
          5.3159615759430165,
          0,
          3.249992173073575
         ],
         "yaxis": "y2"
        },
        {
         "alignmentgroup": "True",
         "hovertemplate": "Carrier=BEV<br>Period=2030<br>Vehicle Class=%{x}<br>Capacity (k units)=%{y}<extra></extra>",
         "legendgroup": "BEV",
         "marker": {
          "color": "#0099C6",
          "pattern": {
           "shape": ""
          }
         },
         "name": "BEV",
         "offsetgroup": "BEV",
         "orientation": "v",
         "showlegend": false,
         "textfont": {
          "size": 9
         },
         "textposition": "auto",
         "texttemplate": "%{y:.1f}",
         "type": "bar",
         "x": [
          "Bus",
          "HD Truck",
          "MD Truck"
         ],
         "xaxis": "x3",
         "y": [
          16.88395342626083,
          1.410003009070964,
          13.04221574430774
         ],
         "yaxis": "y3"
        },
        {
         "alignmentgroup": "True",
         "hovertemplate": "Carrier=BEV<br>Period=2035<br>Vehicle Class=%{x}<br>Capacity (k units)=%{y}<extra></extra>",
         "legendgroup": "BEV",
         "marker": {
          "color": "#0099C6",
          "pattern": {
           "shape": ""
          }
         },
         "name": "BEV",
         "offsetgroup": "BEV",
         "orientation": "v",
         "showlegend": false,
         "textfont": {
          "size": 9
         },
         "textposition": "auto",
         "texttemplate": "%{y:.1f}",
         "type": "bar",
         "x": [
          "Bus",
          "HD Truck",
          "MD Truck"
         ],
         "xaxis": "x4",
         "y": [
          24.006792197322852,
          4.612049458569016,
          47.15730174837203
         ],
         "yaxis": "y4"
        },
        {
         "alignmentgroup": "True",
         "hovertemplate": "Carrier=BEV<br>Period=2040<br>Vehicle Class=%{x}<br>Capacity (k units)=%{y}<extra></extra>",
         "legendgroup": "BEV",
         "marker": {
          "color": "#0099C6",
          "pattern": {
           "shape": ""
          }
         },
         "name": "BEV",
         "offsetgroup": "BEV",
         "orientation": "v",
         "showlegend": false,
         "textfont": {
          "size": 9
         },
         "textposition": "auto",
         "texttemplate": "%{y:.1f}",
         "type": "bar",
         "x": [
          "Bus",
          "HD Truck",
          "MD Truck"
         ],
         "xaxis": "x5",
         "y": [
          28.885593060217126,
          10.60406185026793,
          90.76544549148628
         ],
         "yaxis": "y5"
        },
        {
         "alignmentgroup": "True",
         "hovertemplate": "Carrier=BEV<br>Period=2045<br>Vehicle Class=%{x}<br>Capacity (k units)=%{y}<extra></extra>",
         "legendgroup": "BEV",
         "marker": {
          "color": "#0099C6",
          "pattern": {
           "shape": ""
          }
         },
         "name": "BEV",
         "offsetgroup": "BEV",
         "orientation": "v",
         "showlegend": false,
         "textfont": {
          "size": 9
         },
         "textposition": "auto",
         "texttemplate": "%{y:.1f}",
         "type": "bar",
         "x": [
          "Bus",
          "HD Truck",
          "MD Truck"
         ],
         "xaxis": "x6",
         "y": [
          29.50390292324543,
          12.29095874163539,
          130.3131377808883
         ],
         "yaxis": "y6"
        },
        {
         "alignmentgroup": "True",
         "hovertemplate": "Carrier=BEV<br>Period=2050<br>Vehicle Class=%{x}<br>Capacity (k units)=%{y}<extra></extra>",
         "legendgroup": "BEV",
         "marker": {
          "color": "#0099C6",
          "pattern": {
           "shape": ""
          }
         },
         "name": "BEV",
         "offsetgroup": "BEV",
         "orientation": "v",
         "showlegend": false,
         "textfont": {
          "size": 9
         },
         "textposition": "auto",
         "texttemplate": "%{y:.1f}",
         "type": "bar",
         "x": [
          "Bus",
          "HD Truck",
          "MD Truck"
         ],
         "xaxis": "x7",
         "y": [
          30.95103806531016,
          14.41138430062264,
          204.2505937449253
         ],
         "yaxis": "y7"
        },
        {
         "alignmentgroup": "True",
         "hovertemplate": "Carrier=FCEV<br>Period=2021<br>Vehicle Class=%{x}<br>Capacity (k units)=%{y}<extra></extra>",
         "legendgroup": "FCEV",
         "marker": {
          "color": "#DD4477",
          "pattern": {
           "shape": ""
          }
         },
         "name": "FCEV",
         "offsetgroup": "FCEV",
         "orientation": "v",
         "showlegend": true,
         "textfont": {
          "size": 9
         },
         "textposition": "auto",
         "texttemplate": "%{y:.1f}",
         "type": "bar",
         "x": [
          "Bus",
          "HD Truck",
          "MD Truck"
         ],
         "xaxis": "x",
         "y": [
          0,
          0,
          0
         ],
         "yaxis": "y"
        },
        {
         "alignmentgroup": "True",
         "hovertemplate": "Carrier=FCEV<br>Period=2025<br>Vehicle Class=%{x}<br>Capacity (k units)=%{y}<extra></extra>",
         "legendgroup": "FCEV",
         "marker": {
          "color": "#DD4477",
          "pattern": {
           "shape": ""
          }
         },
         "name": "FCEV",
         "offsetgroup": "FCEV",
         "orientation": "v",
         "showlegend": false,
         "textfont": {
          "size": 9
         },
         "textposition": "auto",
         "texttemplate": "%{y:.1f}",
         "type": "bar",
         "x": [
          "Bus",
          "HD Truck",
          "MD Truck"
         ],
         "xaxis": "x2",
         "y": [
          4.557983117441573,
          0.8714665517182125,
          2.5583588988640984
         ],
         "yaxis": "y2"
        },
        {
         "alignmentgroup": "True",
         "hovertemplate": "Carrier=FCEV<br>Period=2030<br>Vehicle Class=%{x}<br>Capacity (k units)=%{y}<extra></extra>",
         "legendgroup": "FCEV",
         "marker": {
          "color": "#DD4477",
          "pattern": {
           "shape": ""
          }
         },
         "name": "FCEV",
         "offsetgroup": "FCEV",
         "orientation": "v",
         "showlegend": false,
         "textfont": {
          "size": 9
         },
         "textposition": "auto",
         "texttemplate": "%{y:.1f}",
         "type": "bar",
         "x": [
          "Bus",
          "HD Truck",
          "MD Truck"
         ],
         "xaxis": "x3",
         "y": [
          4.615694107867128,
          3.531148787374848,
          7.12490872529271
         ],
         "yaxis": "y3"
        },
        {
         "alignmentgroup": "True",
         "hovertemplate": "Carrier=FCEV<br>Period=2035<br>Vehicle Class=%{x}<br>Capacity (k units)=%{y}<extra></extra>",
         "legendgroup": "FCEV",
         "marker": {
          "color": "#DD4477",
          "pattern": {
           "shape": ""
          }
         },
         "name": "FCEV",
         "offsetgroup": "FCEV",
         "orientation": "v",
         "showlegend": false,
         "textfont": {
          "size": 9
         },
         "textposition": "auto",
         "texttemplate": "%{y:.1f}",
         "type": "bar",
         "x": [
          "Bus",
          "HD Truck",
          "MD Truck"
         ],
         "xaxis": "x4",
         "y": [
          4.658118837743957,
          8.321624645809154,
          28.01862682836575
         ],
         "yaxis": "y4"
        },
        {
         "alignmentgroup": "True",
         "hovertemplate": "Carrier=FCEV<br>Period=2040<br>Vehicle Class=%{x}<br>Capacity (k units)=%{y}<extra></extra>",
         "legendgroup": "FCEV",
         "marker": {
          "color": "#DD4477",
          "pattern": {
           "shape": ""
          }
         },
         "name": "FCEV",
         "offsetgroup": "FCEV",
         "orientation": "v",
         "showlegend": false,
         "textfont": {
          "size": 9
         },
         "textposition": "auto",
         "texttemplate": "%{y:.1f}",
         "type": "bar",
         "x": [
          "Bus",
          "HD Truck",
          "MD Truck"
         ],
         "xaxis": "x5",
         "y": [
          0.5531823549344511,
          16.586910617833936,
          38.920143026556026
         ],
         "yaxis": "y5"
        },
        {
         "alignmentgroup": "True",
         "hovertemplate": "Carrier=FCEV<br>Period=2045<br>Vehicle Class=%{x}<br>Capacity (k units)=%{y}<extra></extra>",
         "legendgroup": "FCEV",
         "marker": {
          "color": "#DD4477",
          "pattern": {
           "shape": ""
          }
         },
         "name": "FCEV",
         "offsetgroup": "FCEV",
         "orientation": "v",
         "showlegend": false,
         "textfont": {
          "size": 9
         },
         "textposition": "auto",
         "texttemplate": "%{y:.1f}",
         "type": "bar",
         "x": [
          "Bus",
          "HD Truck",
          "MD Truck"
         ],
         "xaxis": "x6",
         "y": [
          0.5066364844395516,
          25.90915503832508,
          42.116427652814046
         ],
         "yaxis": "y6"
        },
        {
         "alignmentgroup": "True",
         "hovertemplate": "Carrier=FCEV<br>Period=2050<br>Vehicle Class=%{x}<br>Capacity (k units)=%{y}<extra></extra>",
         "legendgroup": "FCEV",
         "marker": {
          "color": "#DD4477",
          "pattern": {
           "shape": ""
          }
         },
         "name": "FCEV",
         "offsetgroup": "FCEV",
         "orientation": "v",
         "showlegend": false,
         "textfont": {
          "size": 9
         },
         "textposition": "auto",
         "texttemplate": "%{y:.1f}",
         "type": "bar",
         "x": [
          "Bus",
          "HD Truck",
          "MD Truck"
         ],
         "xaxis": "x7",
         "y": [
          0.47091728972208957,
          37.472903977972,
          37.55085230400677
         ],
         "yaxis": "y7"
        }
       ],
       "layout": {
        "annotations": [
         {
          "font": {},
          "showarrow": false,
          "text": "2021",
          "x": 0.06285714285714285,
          "xanchor": "center",
          "xref": "paper",
          "y": -0.1,
          "yanchor": "top",
          "yref": "paper"
         },
         {
          "font": {},
          "showarrow": false,
          "text": "2025",
          "x": 0.20857142857142852,
          "xanchor": "center",
          "xref": "paper",
          "y": -0.1,
          "yanchor": "top",
          "yref": "paper"
         },
         {
          "font": {},
          "showarrow": false,
          "text": "2030",
          "x": 0.3542857142857142,
          "xanchor": "center",
          "xref": "paper",
          "y": -0.1,
          "yanchor": "top",
          "yref": "paper"
         },
         {
          "font": {},
          "showarrow": false,
          "text": "2035",
          "x": 0.5,
          "xanchor": "center",
          "xref": "paper",
          "y": -0.1,
          "yanchor": "top",
          "yref": "paper"
         },
         {
          "font": {},
          "showarrow": false,
          "text": "2040",
          "x": 0.6457142857142856,
          "xanchor": "center",
          "xref": "paper",
          "y": -0.1,
          "yanchor": "top",
          "yref": "paper"
         },
         {
          "font": {},
          "showarrow": false,
          "text": "2045",
          "x": 0.7914285714285713,
          "xanchor": "center",
          "xref": "paper",
          "y": -0.1,
          "yanchor": "top",
          "yref": "paper"
         },
         {
          "font": {},
          "showarrow": false,
          "text": "2050",
          "x": 0.937142857142857,
          "xanchor": "center",
          "xref": "paper",
          "y": -0.1,
          "yanchor": "top",
          "yref": "paper"
         }
        ],
        "bargap": 0.1,
        "barmode": "stack",
        "font": {
         "size": 14
        },
        "height": 650,
        "legend": {
         "orientation": "h",
         "title": {
          "text": ""
         },
         "tracegroupgap": 0,
         "x": 0.5,
         "xanchor": "center",
         "y": 1.02,
         "yanchor": "top"
        },
        "margin": {
         "t": 60
        },
        "template": {
         "data": {
          "bar": [
           {
            "error_x": {
             "color": "#2a3f5f"
            },
            "error_y": {
             "color": "#2a3f5f"
            },
            "marker": {
             "line": {
              "color": "white",
              "width": 0.5
             },
             "pattern": {
              "fillmode": "overlay",
              "size": 10,
              "solidity": 0.2
             }
            },
            "type": "bar"
           }
          ],
          "barpolar": [
           {
            "marker": {
             "line": {
              "color": "white",
              "width": 0.5
             },
             "pattern": {
              "fillmode": "overlay",
              "size": 10,
              "solidity": 0.2
             }
            },
            "type": "barpolar"
           }
          ],
          "carpet": [
           {
            "aaxis": {
             "endlinecolor": "#2a3f5f",
             "gridcolor": "#C8D4E3",
             "linecolor": "#C8D4E3",
             "minorgridcolor": "#C8D4E3",
             "startlinecolor": "#2a3f5f"
            },
            "baxis": {
             "endlinecolor": "#2a3f5f",
             "gridcolor": "#C8D4E3",
             "linecolor": "#C8D4E3",
             "minorgridcolor": "#C8D4E3",
             "startlinecolor": "#2a3f5f"
            },
            "type": "carpet"
           }
          ],
          "choropleth": [
           {
            "colorbar": {
             "outlinewidth": 0,
             "ticks": ""
            },
            "type": "choropleth"
           }
          ],
          "contour": [
           {
            "colorbar": {
             "outlinewidth": 0,
             "ticks": ""
            },
            "colorscale": [
             [
              0,
              "#0d0887"
             ],
             [
              0.1111111111111111,
              "#46039f"
             ],
             [
              0.2222222222222222,
              "#7201a8"
             ],
             [
              0.3333333333333333,
              "#9c179e"
             ],
             [
              0.4444444444444444,
              "#bd3786"
             ],
             [
              0.5555555555555556,
              "#d8576b"
             ],
             [
              0.6666666666666666,
              "#ed7953"
             ],
             [
              0.7777777777777778,
              "#fb9f3a"
             ],
             [
              0.8888888888888888,
              "#fdca26"
             ],
             [
              1,
              "#f0f921"
             ]
            ],
            "type": "contour"
           }
          ],
          "contourcarpet": [
           {
            "colorbar": {
             "outlinewidth": 0,
             "ticks": ""
            },
            "type": "contourcarpet"
           }
          ],
          "heatmap": [
           {
            "colorbar": {
             "outlinewidth": 0,
             "ticks": ""
            },
            "colorscale": [
             [
              0,
              "#0d0887"
             ],
             [
              0.1111111111111111,
              "#46039f"
             ],
             [
              0.2222222222222222,
              "#7201a8"
             ],
             [
              0.3333333333333333,
              "#9c179e"
             ],
             [
              0.4444444444444444,
              "#bd3786"
             ],
             [
              0.5555555555555556,
              "#d8576b"
             ],
             [
              0.6666666666666666,
              "#ed7953"
             ],
             [
              0.7777777777777778,
              "#fb9f3a"
             ],
             [
              0.8888888888888888,
              "#fdca26"
             ],
             [
              1,
              "#f0f921"
             ]
            ],
            "type": "heatmap"
           }
          ],
          "heatmapgl": [
           {
            "colorbar": {
             "outlinewidth": 0,
             "ticks": ""
            },
            "colorscale": [
             [
              0,
              "#0d0887"
             ],
             [
              0.1111111111111111,
              "#46039f"
             ],
             [
              0.2222222222222222,
              "#7201a8"
             ],
             [
              0.3333333333333333,
              "#9c179e"
             ],
             [
              0.4444444444444444,
              "#bd3786"
             ],
             [
              0.5555555555555556,
              "#d8576b"
             ],
             [
              0.6666666666666666,
              "#ed7953"
             ],
             [
              0.7777777777777778,
              "#fb9f3a"
             ],
             [
              0.8888888888888888,
              "#fdca26"
             ],
             [
              1,
              "#f0f921"
             ]
            ],
            "type": "heatmapgl"
           }
          ],
          "histogram": [
           {
            "marker": {
             "pattern": {
              "fillmode": "overlay",
              "size": 10,
              "solidity": 0.2
             }
            },
            "type": "histogram"
           }
          ],
          "histogram2d": [
           {
            "colorbar": {
             "outlinewidth": 0,
             "ticks": ""
            },
            "colorscale": [
             [
              0,
              "#0d0887"
             ],
             [
              0.1111111111111111,
              "#46039f"
             ],
             [
              0.2222222222222222,
              "#7201a8"
             ],
             [
              0.3333333333333333,
              "#9c179e"
             ],
             [
              0.4444444444444444,
              "#bd3786"
             ],
             [
              0.5555555555555556,
              "#d8576b"
             ],
             [
              0.6666666666666666,
              "#ed7953"
             ],
             [
              0.7777777777777778,
              "#fb9f3a"
             ],
             [
              0.8888888888888888,
              "#fdca26"
             ],
             [
              1,
              "#f0f921"
             ]
            ],
            "type": "histogram2d"
           }
          ],
          "histogram2dcontour": [
           {
            "colorbar": {
             "outlinewidth": 0,
             "ticks": ""
            },
            "colorscale": [
             [
              0,
              "#0d0887"
             ],
             [
              0.1111111111111111,
              "#46039f"
             ],
             [
              0.2222222222222222,
              "#7201a8"
             ],
             [
              0.3333333333333333,
              "#9c179e"
             ],
             [
              0.4444444444444444,
              "#bd3786"
             ],
             [
              0.5555555555555556,
              "#d8576b"
             ],
             [
              0.6666666666666666,
              "#ed7953"
             ],
             [
              0.7777777777777778,
              "#fb9f3a"
             ],
             [
              0.8888888888888888,
              "#fdca26"
             ],
             [
              1,
              "#f0f921"
             ]
            ],
            "type": "histogram2dcontour"
           }
          ],
          "mesh3d": [
           {
            "colorbar": {
             "outlinewidth": 0,
             "ticks": ""
            },
            "type": "mesh3d"
           }
          ],
          "parcoords": [
           {
            "line": {
             "colorbar": {
              "outlinewidth": 0,
              "ticks": ""
             }
            },
            "type": "parcoords"
           }
          ],
          "pie": [
           {
            "automargin": true,
            "type": "pie"
           }
          ],
          "scatter": [
           {
            "fillpattern": {
             "fillmode": "overlay",
             "size": 10,
             "solidity": 0.2
            },
            "type": "scatter"
           }
          ],
          "scatter3d": [
           {
            "line": {
             "colorbar": {
              "outlinewidth": 0,
              "ticks": ""
             }
            },
            "marker": {
             "colorbar": {
              "outlinewidth": 0,
              "ticks": ""
             }
            },
            "type": "scatter3d"
           }
          ],
          "scattercarpet": [
           {
            "marker": {
             "colorbar": {
              "outlinewidth": 0,
              "ticks": ""
             }
            },
            "type": "scattercarpet"
           }
          ],
          "scattergeo": [
           {
            "marker": {
             "colorbar": {
              "outlinewidth": 0,
              "ticks": ""
             }
            },
            "type": "scattergeo"
           }
          ],
          "scattergl": [
           {
            "marker": {
             "colorbar": {
              "outlinewidth": 0,
              "ticks": ""
             }
            },
            "type": "scattergl"
           }
          ],
          "scattermapbox": [
           {
            "marker": {
             "colorbar": {
              "outlinewidth": 0,
              "ticks": ""
             }
            },
            "type": "scattermapbox"
           }
          ],
          "scatterpolar": [
           {
            "marker": {
             "colorbar": {
              "outlinewidth": 0,
              "ticks": ""
             }
            },
            "type": "scatterpolar"
           }
          ],
          "scatterpolargl": [
           {
            "marker": {
             "colorbar": {
              "outlinewidth": 0,
              "ticks": ""
             }
            },
            "type": "scatterpolargl"
           }
          ],
          "scatterternary": [
           {
            "marker": {
             "colorbar": {
              "outlinewidth": 0,
              "ticks": ""
             }
            },
            "type": "scatterternary"
           }
          ],
          "surface": [
           {
            "colorbar": {
             "outlinewidth": 0,
             "ticks": ""
            },
            "colorscale": [
             [
              0,
              "#0d0887"
             ],
             [
              0.1111111111111111,
              "#46039f"
             ],
             [
              0.2222222222222222,
              "#7201a8"
             ],
             [
              0.3333333333333333,
              "#9c179e"
             ],
             [
              0.4444444444444444,
              "#bd3786"
             ],
             [
              0.5555555555555556,
              "#d8576b"
             ],
             [
              0.6666666666666666,
              "#ed7953"
             ],
             [
              0.7777777777777778,
              "#fb9f3a"
             ],
             [
              0.8888888888888888,
              "#fdca26"
             ],
             [
              1,
              "#f0f921"
             ]
            ],
            "type": "surface"
           }
          ],
          "table": [
           {
            "cells": {
             "fill": {
              "color": "#EBF0F8"
             },
             "line": {
              "color": "white"
             }
            },
            "header": {
             "fill": {
              "color": "#C8D4E3"
             },
             "line": {
              "color": "white"
             }
            },
            "type": "table"
           }
          ]
         },
         "layout": {
          "annotationdefaults": {
           "arrowcolor": "#2a3f5f",
           "arrowhead": 0,
           "arrowwidth": 1
          },
          "autotypenumbers": "strict",
          "coloraxis": {
           "colorbar": {
            "outlinewidth": 0,
            "ticks": ""
           }
          },
          "colorscale": {
           "diverging": [
            [
             0,
             "#8e0152"
            ],
            [
             0.1,
             "#c51b7d"
            ],
            [
             0.2,
             "#de77ae"
            ],
            [
             0.3,
             "#f1b6da"
            ],
            [
             0.4,
             "#fde0ef"
            ],
            [
             0.5,
             "#f7f7f7"
            ],
            [
             0.6,
             "#e6f5d0"
            ],
            [
             0.7,
             "#b8e186"
            ],
            [
             0.8,
             "#7fbc41"
            ],
            [
             0.9,
             "#4d9221"
            ],
            [
             1,
             "#276419"
            ]
           ],
           "sequential": [
            [
             0,
             "#0d0887"
            ],
            [
             0.1111111111111111,
             "#46039f"
            ],
            [
             0.2222222222222222,
             "#7201a8"
            ],
            [
             0.3333333333333333,
             "#9c179e"
            ],
            [
             0.4444444444444444,
             "#bd3786"
            ],
            [
             0.5555555555555556,
             "#d8576b"
            ],
            [
             0.6666666666666666,
             "#ed7953"
            ],
            [
             0.7777777777777778,
             "#fb9f3a"
            ],
            [
             0.8888888888888888,
             "#fdca26"
            ],
            [
             1,
             "#f0f921"
            ]
           ],
           "sequentialminus": [
            [
             0,
             "#0d0887"
            ],
            [
             0.1111111111111111,
             "#46039f"
            ],
            [
             0.2222222222222222,
             "#7201a8"
            ],
            [
             0.3333333333333333,
             "#9c179e"
            ],
            [
             0.4444444444444444,
             "#bd3786"
            ],
            [
             0.5555555555555556,
             "#d8576b"
            ],
            [
             0.6666666666666666,
             "#ed7953"
            ],
            [
             0.7777777777777778,
             "#fb9f3a"
            ],
            [
             0.8888888888888888,
             "#fdca26"
            ],
            [
             1,
             "#f0f921"
            ]
           ]
          },
          "colorway": [
           "#636efa",
           "#EF553B",
           "#00cc96",
           "#ab63fa",
           "#FFA15A",
           "#19d3f3",
           "#FF6692",
           "#B6E880",
           "#FF97FF",
           "#FECB52"
          ],
          "font": {
           "color": "#2a3f5f"
          },
          "geo": {
           "bgcolor": "white",
           "lakecolor": "white",
           "landcolor": "white",
           "showlakes": true,
           "showland": true,
           "subunitcolor": "#C8D4E3"
          },
          "hoverlabel": {
           "align": "left"
          },
          "hovermode": "closest",
          "mapbox": {
           "style": "light"
          },
          "paper_bgcolor": "white",
          "plot_bgcolor": "white",
          "polar": {
           "angularaxis": {
            "gridcolor": "#EBF0F8",
            "linecolor": "#EBF0F8",
            "ticks": ""
           },
           "bgcolor": "white",
           "radialaxis": {
            "gridcolor": "#EBF0F8",
            "linecolor": "#EBF0F8",
            "ticks": ""
           }
          },
          "scene": {
           "xaxis": {
            "backgroundcolor": "white",
            "gridcolor": "#DFE8F3",
            "gridwidth": 2,
            "linecolor": "#EBF0F8",
            "showbackground": true,
            "ticks": "",
            "zerolinecolor": "#EBF0F8"
           },
           "yaxis": {
            "backgroundcolor": "white",
            "gridcolor": "#DFE8F3",
            "gridwidth": 2,
            "linecolor": "#EBF0F8",
            "showbackground": true,
            "ticks": "",
            "zerolinecolor": "#EBF0F8"
           },
           "zaxis": {
            "backgroundcolor": "white",
            "gridcolor": "#DFE8F3",
            "gridwidth": 2,
            "linecolor": "#EBF0F8",
            "showbackground": true,
            "ticks": "",
            "zerolinecolor": "#EBF0F8"
           }
          },
          "shapedefaults": {
           "line": {
            "color": "#2a3f5f"
           }
          },
          "ternary": {
           "aaxis": {
            "gridcolor": "#DFE8F3",
            "linecolor": "#A2B1C6",
            "ticks": ""
           },
           "baxis": {
            "gridcolor": "#DFE8F3",
            "linecolor": "#A2B1C6",
            "ticks": ""
           },
           "bgcolor": "white",
           "caxis": {
            "gridcolor": "#DFE8F3",
            "linecolor": "#A2B1C6",
            "ticks": ""
           }
          },
          "title": {
           "x": 0.05
          },
          "xaxis": {
           "automargin": true,
           "gridcolor": "#EBF0F8",
           "linecolor": "#EBF0F8",
           "ticks": "",
           "title": {
            "standoff": 15
           },
           "zerolinecolor": "#EBF0F8",
           "zerolinewidth": 2
          },
          "yaxis": {
           "automargin": true,
           "gridcolor": "#EBF0F8",
           "linecolor": "#EBF0F8",
           "ticks": "",
           "title": {
            "standoff": 15
           },
           "zerolinecolor": "#EBF0F8",
           "zerolinewidth": 2
          }
         }
        },
        "title": {
         "text": "Transportation MHDV fleet stock in ON by vehicle class and drivetrain",
         "x": 0.5,
         "xanchor": "center",
         "y": 0.97,
         "yanchor": "top"
        },
        "width": 1150,
        "xaxis": {
         "anchor": "y",
         "domain": [
          0,
          0.1257142857142857
         ],
         "title": {
          "text": ""
         }
        },
        "xaxis2": {
         "anchor": "y2",
         "domain": [
          0.14571428571428569,
          0.27142857142857135
         ],
         "matches": "x",
         "title": {
          "text": ""
         }
        },
        "xaxis3": {
         "anchor": "y3",
         "domain": [
          0.29142857142857137,
          0.41714285714285704
         ],
         "matches": "x",
         "title": {
          "text": ""
         }
        },
        "xaxis4": {
         "anchor": "y4",
         "domain": [
          0.4371428571428571,
          0.5628571428571428
         ],
         "matches": "x",
         "title": {
          "text": ""
         }
        },
        "xaxis5": {
         "anchor": "y5",
         "domain": [
          0.5828571428571427,
          0.7085714285714284
         ],
         "matches": "x",
         "title": {
          "text": ""
         }
        },
        "xaxis6": {
         "anchor": "y6",
         "domain": [
          0.7285714285714284,
          0.8542857142857141
         ],
         "matches": "x",
         "title": {
          "text": ""
         }
        },
        "xaxis7": {
         "anchor": "y7",
         "domain": [
          0.8742857142857142,
          0.9999999999999999
         ],
         "matches": "x",
         "title": {
          "text": ""
         }
        },
        "yaxis": {
         "anchor": "x",
         "domain": [
          0,
          1
         ],
         "dtick": 100,
         "title": {
          "standoff": 0,
          "text": "Fleet stock (k units)"
         }
        },
        "yaxis2": {
         "anchor": "x2",
         "domain": [
          0,
          1
         ],
         "matches": "y",
         "showticklabels": false
        },
        "yaxis3": {
         "anchor": "x3",
         "domain": [
          0,
          1
         ],
         "matches": "y",
         "showticklabels": false
        },
        "yaxis4": {
         "anchor": "x4",
         "domain": [
          0,
          1
         ],
         "matches": "y",
         "showticklabels": false
        },
        "yaxis5": {
         "anchor": "x5",
         "domain": [
          0,
          1
         ],
         "matches": "y",
         "showticklabels": false
        },
        "yaxis6": {
         "anchor": "x6",
         "domain": [
          0,
          1
         ],
         "matches": "y",
         "showticklabels": false
        },
        "yaxis7": {
         "anchor": "x7",
         "domain": [
          0,
          1
         ],
         "matches": "y",
         "showticklabels": false
        }
       }
      }
     },
     "metadata": {},
     "output_type": "display_data"
    }
   ],
   "source": [
    "ref_fig = ref_trncap[ref_trncap['Vehicle Class'].isin(['MD Truck', 'HD Truck', 'Bus'])][['Period', 'Vehicle Class', 'Capacity (M units)', 'Carrier']].groupby(['Period', 'Vehicle Class', 'Carrier'], as_index=False).sum()\n",
    "ref_fig['Capacity (k units)'] = ref_fig['Capacity (M units)']*1E3\n",
    "\n",
    "ref_fig['Carrier'] = pd.Categorical(ref_fig['Carrier'], categories=drivetrain_order, ordered=True)\n",
    "ref_fig = ref_fig.sort_values(['Carrier', 'Period'])\n",
    "\n",
    "fig = px.bar(ref_fig, \n",
    "             x='Vehicle Class', \n",
    "             y='Capacity (k units)', \n",
    "             color='Carrier', \n",
    "             barmode='stack', \n",
    "             facet_col='Period',\n",
    "             facet_col_spacing=2E-2,\n",
    "             template='plotly_white',\n",
    "             color_discrete_sequence=px.colors.qualitative.G10[:7] + px.colors.qualitative.G10[8:],\n",
    "             text_auto='.1f',\n",
    "            #  text='Demand (PJ)_sum'\n",
    "             width=1150, height=650,\n",
    "             )\n",
    "\n",
    "fig.update_layout(title=dict(\n",
    "        text='Transportation MHDV fleet stock in ON by vehicle class and drivetrain',\n",
    "        x=0.5, \n",
    "        y=0.97,\n",
    "        xanchor='center',\n",
    "        yanchor='top'\n",
    "    ),\n",
    "    xaxis=dict(title='Period'),\n",
    "    yaxis=dict(title='Fleet stock (k units)',\n",
    "               dtick=100),\n",
    "    yaxis_title_standoff=0,\n",
    "    legend_title_text='',\n",
    "    bargap=0.1,\n",
    "    legend=dict(\n",
    "        orientation='h',  \n",
    "        yanchor='top',\n",
    "        y=1.02,  \n",
    "        xanchor='center',\n",
    "        x=0.5),\n",
    "    font=dict(\n",
    "        # family=\"Open Sans\",\n",
    "        size=14)\n",
    "    )\n",
    "\n",
    "for annotation in fig.layout.annotations:\n",
    "    annotation.text = annotation.text.split('=')[1]\n",
    "    annotation.y = -0.1  \n",
    "    annotation.yanchor = 'top' \n",
    "\n",
    "for axis in fig.layout:\n",
    "    if axis.startswith('xaxis'):\n",
    "        fig.layout[axis].title.text = ''\n",
    "\n",
    "fig.for_each_trace(lambda trace: trace.update(textfont=dict(size=9)))\n",
    "\n",
    "fig.show()"
   ]
  },
  {
   "cell_type": "markdown",
   "metadata": {},
   "source": [
    "# Added Capacity"
   ]
  },
  {
   "cell_type": "code",
   "execution_count": 138,
   "metadata": {},
   "outputs": [],
   "source": [
    "# ref_file = canoe_results + '/builtcapacity.csv'\n",
    "# ref_newcap = pd.read_csv(ref_file)\n",
    "# ref_newcap.rename(columns={'sector': 'Sector', 'tech': 'Technology', 'vintage': 'Period', 'capacity': 'New Capacity'}, inplace=True)\n",
    "\n",
    "# ref_newcap_trn = ref_newcap[(ref_newcap['Sector'] == 'Transport')].copy()\n",
    "# ref_newcap_trn['Mode'] = ref_newcap_trn['Technology'].apply(map_tech_to_mode)\n",
    "# ref_newcap_trn['Carrier'] = ref_newcap_trn['Technology'].apply(map_tech_to_drivetrain)\n",
    "# ref_newcap_trn['Vehicle Class'] = ref_newcap_trn['Mode'].apply(veh_class_mapping)"
   ]
  },
  {
   "cell_type": "code",
   "execution_count": 139,
   "metadata": {},
   "outputs": [],
   "source": [
    "ref_trnnewcap.columns = ref_trnnewcap.columns.astype(str)\n",
    "periods = [col for col in ref_trnnewcap.columns if col.isdigit()]\n",
    "params = [col for col in ref_trnnewcap.columns if not col.isdigit()]\n",
    "ref_trnnewcap = pd.melt(ref_trnnewcap, id_vars=params, var_name='Period', value_name='New Capacity', value_vars=periods)\n",
    "\n",
    "ref_trnnewcap['Vehicle Class'] = ref_trnnewcap['Mode'].apply(veh_class_mapping)"
   ]
  },
  {
   "cell_type": "code",
   "execution_count": 140,
   "metadata": {},
   "outputs": [
    {
     "data": {
      "application/vnd.plotly.v1+json": {
       "config": {
        "plotlyServerURL": "https://plot.ly"
       },
       "data": [
        {
         "alignmentgroup": "True",
         "hovertemplate": "Carrier=Gasoline<br>Period=2021<br>Vehicle Class=%{x}<br>New Capacity=%{y}<extra></extra>",
         "legendgroup": "Gasoline",
         "marker": {
          "color": "#3366CC",
          "pattern": {
           "shape": ""
          }
         },
         "name": "Gasoline",
         "offsetgroup": "Gasoline",
         "orientation": "v",
         "showlegend": true,
         "textfont": {
          "size": 8
         },
         "textposition": "auto",
         "texttemplate": "%{y:.1f}",
         "type": "bar",
         "x": [
          "LD Car",
          "LD Truck"
         ],
         "xaxis": "x",
         "y": [
          209.941270535914,
          437.3156439299554
         ],
         "yaxis": "y"
        },
        {
         "alignmentgroup": "True",
         "hovertemplate": "Carrier=Gasoline<br>Period=2025<br>Vehicle Class=%{x}<br>New Capacity=%{y}<extra></extra>",
         "legendgroup": "Gasoline",
         "marker": {
          "color": "#3366CC",
          "pattern": {
           "shape": ""
          }
         },
         "name": "Gasoline",
         "offsetgroup": "Gasoline",
         "orientation": "v",
         "showlegend": false,
         "textfont": {
          "size": 8
         },
         "textposition": "auto",
         "texttemplate": "%{y:.1f}",
         "type": "bar",
         "x": [
          "LD Car",
          "LD Truck"
         ],
         "xaxis": "x2",
         "y": [
          761.512546236133,
          480.1524160049607
         ],
         "yaxis": "y2"
        },
        {
         "alignmentgroup": "True",
         "hovertemplate": "Carrier=Gasoline<br>Period=2030<br>Vehicle Class=%{x}<br>New Capacity=%{y}<extra></extra>",
         "legendgroup": "Gasoline",
         "marker": {
          "color": "#3366CC",
          "pattern": {
           "shape": ""
          }
         },
         "name": "Gasoline",
         "offsetgroup": "Gasoline",
         "orientation": "v",
         "showlegend": false,
         "textfont": {
          "size": 8
         },
         "textposition": "auto",
         "texttemplate": "%{y:.1f}",
         "type": "bar",
         "x": [
          "LD Car",
          "LD Truck"
         ],
         "xaxis": "x3",
         "y": [
          765.7789945195335,
          665.2518059400635
         ],
         "yaxis": "y3"
        },
        {
         "alignmentgroup": "True",
         "hovertemplate": "Carrier=Gasoline<br>Period=2035<br>Vehicle Class=%{x}<br>New Capacity=%{y}<extra></extra>",
         "legendgroup": "Gasoline",
         "marker": {
          "color": "#3366CC",
          "pattern": {
           "shape": ""
          }
         },
         "name": "Gasoline",
         "offsetgroup": "Gasoline",
         "orientation": "v",
         "showlegend": false,
         "textfont": {
          "size": 8
         },
         "textposition": "auto",
         "texttemplate": "%{y:.1f}",
         "type": "bar",
         "x": [
          "LD Car",
          "LD Truck"
         ],
         "xaxis": "x4",
         "y": [
          786.4568272584036,
          1273.2957183557403
         ],
         "yaxis": "y4"
        },
        {
         "alignmentgroup": "True",
         "hovertemplate": "Carrier=Gasoline<br>Period=2040<br>Vehicle Class=%{x}<br>New Capacity=%{y}<extra></extra>",
         "legendgroup": "Gasoline",
         "marker": {
          "color": "#3366CC",
          "pattern": {
           "shape": ""
          }
         },
         "name": "Gasoline",
         "offsetgroup": "Gasoline",
         "orientation": "v",
         "showlegend": false,
         "textfont": {
          "size": 8
         },
         "textposition": "auto",
         "texttemplate": "%{y:.1f}",
         "type": "bar",
         "x": [
          "LD Car",
          "LD Truck"
         ],
         "xaxis": "x5",
         "y": [
          587.7679382909481,
          593.3313107968775
         ],
         "yaxis": "y5"
        },
        {
         "alignmentgroup": "True",
         "hovertemplate": "Carrier=Gasoline<br>Period=2045<br>Vehicle Class=%{x}<br>New Capacity=%{y}<extra></extra>",
         "legendgroup": "Gasoline",
         "marker": {
          "color": "#3366CC",
          "pattern": {
           "shape": ""
          }
         },
         "name": "Gasoline",
         "offsetgroup": "Gasoline",
         "orientation": "v",
         "showlegend": false,
         "textfont": {
          "size": 8
         },
         "textposition": "auto",
         "texttemplate": "%{y:.1f}",
         "type": "bar",
         "x": [
          "LD Car",
          "LD Truck"
         ],
         "xaxis": "x6",
         "y": [
          609.0581762722703,
          452.01460081349535
         ],
         "yaxis": "y6"
        },
        {
         "alignmentgroup": "True",
         "hovertemplate": "Carrier=Gasoline<br>Period=2050<br>Vehicle Class=%{x}<br>New Capacity=%{y}<extra></extra>",
         "legendgroup": "Gasoline",
         "marker": {
          "color": "#3366CC",
          "pattern": {
           "shape": ""
          }
         },
         "name": "Gasoline",
         "offsetgroup": "Gasoline",
         "orientation": "v",
         "showlegend": false,
         "textfont": {
          "size": 8
         },
         "textposition": "auto",
         "texttemplate": "%{y:.1f}",
         "type": "bar",
         "x": [
          "LD Car",
          "LD Truck"
         ],
         "xaxis": "x7",
         "y": [
          587.2775909276916,
          973.528626966666
         ],
         "yaxis": "y7"
        },
        {
         "alignmentgroup": "True",
         "hovertemplate": "Carrier=Diesel<br>Period=2021<br>Vehicle Class=%{x}<br>New Capacity=%{y}<extra></extra>",
         "legendgroup": "Diesel",
         "marker": {
          "color": "#DC3912",
          "pattern": {
           "shape": ""
          }
         },
         "name": "Diesel",
         "offsetgroup": "Diesel",
         "orientation": "v",
         "showlegend": true,
         "textfont": {
          "size": 8
         },
         "textposition": "auto",
         "texttemplate": "%{y:.1f}",
         "type": "bar",
         "x": [
          "LD Car",
          "LD Truck"
         ],
         "xaxis": "x",
         "y": [
          0,
          32.943454727818775
         ],
         "yaxis": "y"
        },
        {
         "alignmentgroup": "True",
         "hovertemplate": "Carrier=Diesel<br>Period=2025<br>Vehicle Class=%{x}<br>New Capacity=%{y}<extra></extra>",
         "legendgroup": "Diesel",
         "marker": {
          "color": "#DC3912",
          "pattern": {
           "shape": ""
          }
         },
         "name": "Diesel",
         "offsetgroup": "Diesel",
         "orientation": "v",
         "showlegend": false,
         "textfont": {
          "size": 8
         },
         "textposition": "auto",
         "texttemplate": "%{y:.1f}",
         "type": "bar",
         "x": [
          "LD Car",
          "LD Truck"
         ],
         "xaxis": "x2",
         "y": [
          0.002061039836235066,
          36.34653568132866
         ],
         "yaxis": "y2"
        },
        {
         "alignmentgroup": "True",
         "hovertemplate": "Carrier=Diesel<br>Period=2030<br>Vehicle Class=%{x}<br>New Capacity=%{y}<extra></extra>",
         "legendgroup": "Diesel",
         "marker": {
          "color": "#DC3912",
          "pattern": {
           "shape": ""
          }
         },
         "name": "Diesel",
         "offsetgroup": "Diesel",
         "orientation": "v",
         "showlegend": false,
         "textfont": {
          "size": 8
         },
         "textposition": "auto",
         "texttemplate": "%{y:.1f}",
         "type": "bar",
         "x": [
          "LD Car",
          "LD Truck"
         ],
         "xaxis": "x3",
         "y": [
          0.001942290958449146,
          51.924853755976926
         ],
         "yaxis": "y3"
        },
        {
         "alignmentgroup": "True",
         "hovertemplate": "Carrier=Diesel<br>Period=2035<br>Vehicle Class=%{x}<br>New Capacity=%{y}<extra></extra>",
         "legendgroup": "Diesel",
         "marker": {
          "color": "#DC3912",
          "pattern": {
           "shape": ""
          }
         },
         "name": "Diesel",
         "offsetgroup": "Diesel",
         "orientation": "v",
         "showlegend": false,
         "textfont": {
          "size": 8
         },
         "textposition": "auto",
         "texttemplate": "%{y:.1f}",
         "type": "bar",
         "x": [
          "LD Car",
          "LD Truck"
         ],
         "xaxis": "x4",
         "y": [
          0.001986623143969844,
          100.57187582873792
         ],
         "yaxis": "y4"
        },
        {
         "alignmentgroup": "True",
         "hovertemplate": "Carrier=Diesel<br>Period=2040<br>Vehicle Class=%{x}<br>New Capacity=%{y}<extra></extra>",
         "legendgroup": "Diesel",
         "marker": {
          "color": "#DC3912",
          "pattern": {
           "shape": ""
          }
         },
         "name": "Diesel",
         "offsetgroup": "Diesel",
         "orientation": "v",
         "showlegend": false,
         "textfont": {
          "size": 8
         },
         "textposition": "auto",
         "texttemplate": "%{y:.1f}",
         "type": "bar",
         "x": [
          "LD Car",
          "LD Truck"
         ],
         "xaxis": "x5",
         "y": [
          0.001691331705085679,
          48.348034496101405
         ],
         "yaxis": "y5"
        },
        {
         "alignmentgroup": "True",
         "hovertemplate": "Carrier=Diesel<br>Period=2045<br>Vehicle Class=%{x}<br>New Capacity=%{y}<extra></extra>",
         "legendgroup": "Diesel",
         "marker": {
          "color": "#DC3912",
          "pattern": {
           "shape": ""
          }
         },
         "name": "Diesel",
         "offsetgroup": "Diesel",
         "orientation": "v",
         "showlegend": false,
         "textfont": {
          "size": 8
         },
         "textposition": "auto",
         "texttemplate": "%{y:.1f}",
         "type": "bar",
         "x": [
          "LD Car",
          "LD Truck"
         ],
         "xaxis": "x6",
         "y": [
          0.001793086229701338,
          37.94112872319756
         ],
         "yaxis": "y6"
        },
        {
         "alignmentgroup": "True",
         "hovertemplate": "Carrier=Diesel<br>Period=2050<br>Vehicle Class=%{x}<br>New Capacity=%{y}<extra></extra>",
         "legendgroup": "Diesel",
         "marker": {
          "color": "#DC3912",
          "pattern": {
           "shape": ""
          }
         },
         "name": "Diesel",
         "offsetgroup": "Diesel",
         "orientation": "v",
         "showlegend": false,
         "textfont": {
          "size": 8
         },
         "textposition": "auto",
         "texttemplate": "%{y:.1f}",
         "type": "bar",
         "x": [
          "LD Car",
          "LD Truck"
         ],
         "xaxis": "x7",
         "y": [
          0.001757840566240239,
          79.71503621545702
         ],
         "yaxis": "y7"
        },
        {
         "alignmentgroup": "True",
         "hovertemplate": "Carrier=CNG<br>Period=2021<br>Vehicle Class=%{x}<br>New Capacity=%{y}<extra></extra>",
         "legendgroup": "CNG",
         "marker": {
          "color": "#FF9900",
          "pattern": {
           "shape": ""
          }
         },
         "name": "CNG",
         "offsetgroup": "CNG",
         "orientation": "v",
         "showlegend": true,
         "textfont": {
          "size": 8
         },
         "textposition": "auto",
         "texttemplate": "%{y:.1f}",
         "type": "bar",
         "x": [
          "LD Car",
          "LD Truck"
         ],
         "xaxis": "x",
         "y": [
          0,
          0
         ],
         "yaxis": "y"
        },
        {
         "alignmentgroup": "True",
         "hovertemplate": "Carrier=CNG<br>Period=2025<br>Vehicle Class=%{x}<br>New Capacity=%{y}<extra></extra>",
         "legendgroup": "CNG",
         "marker": {
          "color": "#FF9900",
          "pattern": {
           "shape": ""
          }
         },
         "name": "CNG",
         "offsetgroup": "CNG",
         "orientation": "v",
         "showlegend": false,
         "textfont": {
          "size": 8
         },
         "textposition": "auto",
         "texttemplate": "%{y:.1f}",
         "type": "bar",
         "x": [
          "LD Car",
          "LD Truck"
         ],
         "xaxis": "x2",
         "y": [
          0.001951912280221594,
          0.005815184133914309
         ],
         "yaxis": "y2"
        },
        {
         "alignmentgroup": "True",
         "hovertemplate": "Carrier=CNG<br>Period=2030<br>Vehicle Class=%{x}<br>New Capacity=%{y}<extra></extra>",
         "legendgroup": "CNG",
         "marker": {
          "color": "#FF9900",
          "pattern": {
           "shape": ""
          }
         },
         "name": "CNG",
         "offsetgroup": "CNG",
         "orientation": "v",
         "showlegend": false,
         "textfont": {
          "size": 8
         },
         "textposition": "auto",
         "texttemplate": "%{y:.1f}",
         "type": "bar",
         "x": [
          "LD Car",
          "LD Truck"
         ],
         "xaxis": "x3",
         "y": [
          0.001976292997246183,
          0.006841097309177656
         ],
         "yaxis": "y3"
        },
        {
         "alignmentgroup": "True",
         "hovertemplate": "Carrier=CNG<br>Period=2035<br>Vehicle Class=%{x}<br>New Capacity=%{y}<extra></extra>",
         "legendgroup": "CNG",
         "marker": {
          "color": "#FF9900",
          "pattern": {
           "shape": ""
          }
         },
         "name": "CNG",
         "offsetgroup": "CNG",
         "orientation": "v",
         "showlegend": false,
         "textfont": {
          "size": 8
         },
         "textposition": "auto",
         "texttemplate": "%{y:.1f}",
         "type": "bar",
         "x": [
          "LD Car",
          "LD Truck"
         ],
         "xaxis": "x4",
         "y": [
          0.002122228621993296,
          0.0073394509853513
         ],
         "yaxis": "y4"
        },
        {
         "alignmentgroup": "True",
         "hovertemplate": "Carrier=CNG<br>Period=2040<br>Vehicle Class=%{x}<br>New Capacity=%{y}<extra></extra>",
         "legendgroup": "CNG",
         "marker": {
          "color": "#FF9900",
          "pattern": {
           "shape": ""
          }
         },
         "name": "CNG",
         "offsetgroup": "CNG",
         "orientation": "v",
         "showlegend": false,
         "textfont": {
          "size": 8
         },
         "textposition": "auto",
         "texttemplate": "%{y:.1f}",
         "type": "bar",
         "x": [
          "LD Car",
          "LD Truck"
         ],
         "xaxis": "x5",
         "y": [
          0.001852589952728338,
          0.0058811669292254815
         ],
         "yaxis": "y5"
        },
        {
         "alignmentgroup": "True",
         "hovertemplate": "Carrier=CNG<br>Period=2045<br>Vehicle Class=%{x}<br>New Capacity=%{y}<extra></extra>",
         "legendgroup": "CNG",
         "marker": {
          "color": "#FF9900",
          "pattern": {
           "shape": ""
          }
         },
         "name": "CNG",
         "offsetgroup": "CNG",
         "orientation": "v",
         "showlegend": false,
         "textfont": {
          "size": 8
         },
         "textposition": "auto",
         "texttemplate": "%{y:.1f}",
         "type": "bar",
         "x": [
          "LD Car",
          "LD Truck"
         ],
         "xaxis": "x6",
         "y": [
          0.001863169828611218,
          0.006323574173244171
         ],
         "yaxis": "y6"
        },
        {
         "alignmentgroup": "True",
         "hovertemplate": "Carrier=CNG<br>Period=2050<br>Vehicle Class=%{x}<br>New Capacity=%{y}<extra></extra>",
         "legendgroup": "CNG",
         "marker": {
          "color": "#FF9900",
          "pattern": {
           "shape": ""
          }
         },
         "name": "CNG",
         "offsetgroup": "CNG",
         "orientation": "v",
         "showlegend": false,
         "textfont": {
          "size": 8
         },
         "textposition": "auto",
         "texttemplate": "%{y:.1f}",
         "type": "bar",
         "x": [
          "LD Car",
          "LD Truck"
         ],
         "xaxis": "x7",
         "y": [
          0.001854518528683877,
          0.005470280691956798
         ],
         "yaxis": "y7"
        },
        {
         "alignmentgroup": "True",
         "hovertemplate": "Carrier=HEV<br>Period=2021<br>Vehicle Class=%{x}<br>New Capacity=%{y}<extra></extra>",
         "legendgroup": "HEV",
         "marker": {
          "color": "#109618",
          "pattern": {
           "shape": ""
          }
         },
         "name": "HEV",
         "offsetgroup": "HEV",
         "orientation": "v",
         "showlegend": true,
         "textfont": {
          "size": 8
         },
         "textposition": "auto",
         "texttemplate": "%{y:.1f}",
         "type": "bar",
         "x": [
          "LD Car",
          "LD Truck"
         ],
         "xaxis": "x",
         "y": [
          24.72472537061358,
          44.02778498699957
         ],
         "yaxis": "y"
        },
        {
         "alignmentgroup": "True",
         "hovertemplate": "Carrier=HEV<br>Period=2025<br>Vehicle Class=%{x}<br>New Capacity=%{y}<extra></extra>",
         "legendgroup": "HEV",
         "marker": {
          "color": "#109618",
          "pattern": {
           "shape": ""
          }
         },
         "name": "HEV",
         "offsetgroup": "HEV",
         "orientation": "v",
         "showlegend": false,
         "textfont": {
          "size": 8
         },
         "textposition": "auto",
         "texttemplate": "%{y:.1f}",
         "type": "bar",
         "x": [
          "LD Car",
          "LD Truck"
         ],
         "xaxis": "x2",
         "y": [
          123.376605713653,
          85.34567937645213
         ],
         "yaxis": "y2"
        },
        {
         "alignmentgroup": "True",
         "hovertemplate": "Carrier=HEV<br>Period=2030<br>Vehicle Class=%{x}<br>New Capacity=%{y}<extra></extra>",
         "legendgroup": "HEV",
         "marker": {
          "color": "#109618",
          "pattern": {
           "shape": ""
          }
         },
         "name": "HEV",
         "offsetgroup": "HEV",
         "orientation": "v",
         "showlegend": false,
         "textfont": {
          "size": 8
         },
         "textposition": "auto",
         "texttemplate": "%{y:.1f}",
         "type": "bar",
         "x": [
          "LD Car",
          "LD Truck"
         ],
         "xaxis": "x3",
         "y": [
          194.5103820619744,
          172.2445352878763
         ],
         "yaxis": "y3"
        },
        {
         "alignmentgroup": "True",
         "hovertemplate": "Carrier=HEV<br>Period=2035<br>Vehicle Class=%{x}<br>New Capacity=%{y}<extra></extra>",
         "legendgroup": "HEV",
         "marker": {
          "color": "#109618",
          "pattern": {
           "shape": ""
          }
         },
         "name": "HEV",
         "offsetgroup": "HEV",
         "orientation": "v",
         "showlegend": false,
         "textfont": {
          "size": 8
         },
         "textposition": "auto",
         "texttemplate": "%{y:.1f}",
         "type": "bar",
         "x": [
          "LD Car",
          "LD Truck"
         ],
         "xaxis": "x4",
         "y": [
          270.2844255924971,
          299.8279715571545
         ],
         "yaxis": "y4"
        },
        {
         "alignmentgroup": "True",
         "hovertemplate": "Carrier=HEV<br>Period=2040<br>Vehicle Class=%{x}<br>New Capacity=%{y}<extra></extra>",
         "legendgroup": "HEV",
         "marker": {
          "color": "#109618",
          "pattern": {
           "shape": ""
          }
         },
         "name": "HEV",
         "offsetgroup": "HEV",
         "orientation": "v",
         "showlegend": false,
         "textfont": {
          "size": 8
         },
         "textposition": "auto",
         "texttemplate": "%{y:.1f}",
         "type": "bar",
         "x": [
          "LD Car",
          "LD Truck"
         ],
         "xaxis": "x5",
         "y": [
          230.4049502327871,
          217.17148200531318
         ],
         "yaxis": "y5"
        },
        {
         "alignmentgroup": "True",
         "hovertemplate": "Carrier=HEV<br>Period=2045<br>Vehicle Class=%{x}<br>New Capacity=%{y}<extra></extra>",
         "legendgroup": "HEV",
         "marker": {
          "color": "#109618",
          "pattern": {
           "shape": ""
          }
         },
         "name": "HEV",
         "offsetgroup": "HEV",
         "orientation": "v",
         "showlegend": false,
         "textfont": {
          "size": 8
         },
         "textposition": "auto",
         "texttemplate": "%{y:.1f}",
         "type": "bar",
         "x": [
          "LD Car",
          "LD Truck"
         ],
         "xaxis": "x6",
         "y": [
          333.8192349970323,
          288.732961183351
         ],
         "yaxis": "y6"
        },
        {
         "alignmentgroup": "True",
         "hovertemplate": "Carrier=HEV<br>Period=2050<br>Vehicle Class=%{x}<br>New Capacity=%{y}<extra></extra>",
         "legendgroup": "HEV",
         "marker": {
          "color": "#109618",
          "pattern": {
           "shape": ""
          }
         },
         "name": "HEV",
         "offsetgroup": "HEV",
         "orientation": "v",
         "showlegend": false,
         "textfont": {
          "size": 8
         },
         "textposition": "auto",
         "texttemplate": "%{y:.1f}",
         "type": "bar",
         "x": [
          "LD Car",
          "LD Truck"
         ],
         "xaxis": "x7",
         "y": [
          403.9999289329755,
          426.60888923073975
         ],
         "yaxis": "y7"
        },
        {
         "alignmentgroup": "True",
         "hovertemplate": "Carrier=PHEV<br>Period=2021<br>Vehicle Class=%{x}<br>New Capacity=%{y}<extra></extra>",
         "legendgroup": "PHEV",
         "marker": {
          "color": "#990099",
          "pattern": {
           "shape": ""
          }
         },
         "name": "PHEV",
         "offsetgroup": "PHEV",
         "orientation": "v",
         "showlegend": true,
         "textfont": {
          "size": 8
         },
         "textposition": "auto",
         "texttemplate": "%{y:.1f}",
         "type": "bar",
         "x": [
          "LD Car",
          "LD Truck"
         ],
         "xaxis": "x",
         "y": [
          1.946603063112622,
          7.970646590703139
         ],
         "yaxis": "y"
        },
        {
         "alignmentgroup": "True",
         "hovertemplate": "Carrier=PHEV<br>Period=2025<br>Vehicle Class=%{x}<br>New Capacity=%{y}<extra></extra>",
         "legendgroup": "PHEV",
         "marker": {
          "color": "#990099",
          "pattern": {
           "shape": ""
          }
         },
         "name": "PHEV",
         "offsetgroup": "PHEV",
         "orientation": "v",
         "showlegend": false,
         "textfont": {
          "size": 8
         },
         "textposition": "auto",
         "texttemplate": "%{y:.1f}",
         "type": "bar",
         "x": [
          "LD Car",
          "LD Truck"
         ],
         "xaxis": "x2",
         "y": [
          10.422233777644644,
          19.763353874708077
         ],
         "yaxis": "y2"
        },
        {
         "alignmentgroup": "True",
         "hovertemplate": "Carrier=PHEV<br>Period=2030<br>Vehicle Class=%{x}<br>New Capacity=%{y}<extra></extra>",
         "legendgroup": "PHEV",
         "marker": {
          "color": "#990099",
          "pattern": {
           "shape": ""
          }
         },
         "name": "PHEV",
         "offsetgroup": "PHEV",
         "orientation": "v",
         "showlegend": false,
         "textfont": {
          "size": 8
         },
         "textposition": "auto",
         "texttemplate": "%{y:.1f}",
         "type": "bar",
         "x": [
          "LD Car",
          "LD Truck"
         ],
         "xaxis": "x3",
         "y": [
          21.921875667079707,
          37.82581150881573
         ],
         "yaxis": "y3"
        },
        {
         "alignmentgroup": "True",
         "hovertemplate": "Carrier=PHEV<br>Period=2035<br>Vehicle Class=%{x}<br>New Capacity=%{y}<extra></extra>",
         "legendgroup": "PHEV",
         "marker": {
          "color": "#990099",
          "pattern": {
           "shape": ""
          }
         },
         "name": "PHEV",
         "offsetgroup": "PHEV",
         "orientation": "v",
         "showlegend": false,
         "textfont": {
          "size": 8
         },
         "textposition": "auto",
         "texttemplate": "%{y:.1f}",
         "type": "bar",
         "x": [
          "LD Car",
          "LD Truck"
         ],
         "xaxis": "x4",
         "y": [
          38.835093923132916,
          106.38726903897368
         ],
         "yaxis": "y4"
        },
        {
         "alignmentgroup": "True",
         "hovertemplate": "Carrier=PHEV<br>Period=2040<br>Vehicle Class=%{x}<br>New Capacity=%{y}<extra></extra>",
         "legendgroup": "PHEV",
         "marker": {
          "color": "#990099",
          "pattern": {
           "shape": ""
          }
         },
         "name": "PHEV",
         "offsetgroup": "PHEV",
         "orientation": "v",
         "showlegend": false,
         "textfont": {
          "size": 8
         },
         "textposition": "auto",
         "texttemplate": "%{y:.1f}",
         "type": "bar",
         "x": [
          "LD Car",
          "LD Truck"
         ],
         "xaxis": "x5",
         "y": [
          45.65178317012366,
          90.38143673496292
         ],
         "yaxis": "y5"
        },
        {
         "alignmentgroup": "True",
         "hovertemplate": "Carrier=PHEV<br>Period=2045<br>Vehicle Class=%{x}<br>New Capacity=%{y}<extra></extra>",
         "legendgroup": "PHEV",
         "marker": {
          "color": "#990099",
          "pattern": {
           "shape": ""
          }
         },
         "name": "PHEV",
         "offsetgroup": "PHEV",
         "orientation": "v",
         "showlegend": false,
         "textfont": {
          "size": 8
         },
         "textposition": "auto",
         "texttemplate": "%{y:.1f}",
         "type": "bar",
         "x": [
          "LD Car",
          "LD Truck"
         ],
         "xaxis": "x6",
         "y": [
          73.58735222271302,
          112.58925015107533
         ],
         "yaxis": "y6"
        },
        {
         "alignmentgroup": "True",
         "hovertemplate": "Carrier=PHEV<br>Period=2050<br>Vehicle Class=%{x}<br>New Capacity=%{y}<extra></extra>",
         "legendgroup": "PHEV",
         "marker": {
          "color": "#990099",
          "pattern": {
           "shape": ""
          }
         },
         "name": "PHEV",
         "offsetgroup": "PHEV",
         "orientation": "v",
         "showlegend": false,
         "textfont": {
          "size": 8
         },
         "textposition": "auto",
         "texttemplate": "%{y:.1f}",
         "type": "bar",
         "x": [
          "LD Car",
          "LD Truck"
         ],
         "xaxis": "x7",
         "y": [
          96.71767228527563,
          231.01701710066544
         ],
         "yaxis": "y7"
        },
        {
         "alignmentgroup": "True",
         "hovertemplate": "Carrier=BEV<br>Period=2021<br>Vehicle Class=%{x}<br>New Capacity=%{y}<extra></extra>",
         "legendgroup": "BEV",
         "marker": {
          "color": "#0099C6",
          "pattern": {
           "shape": ""
          }
         },
         "name": "BEV",
         "offsetgroup": "BEV",
         "orientation": "v",
         "showlegend": true,
         "textfont": {
          "size": 8
         },
         "textposition": "auto",
         "texttemplate": "%{y:.1f}",
         "type": "bar",
         "x": [
          "LD Car",
          "LD Truck"
         ],
         "xaxis": "x",
         "y": [
          23.97683369881051,
          23.343192758227797
         ],
         "yaxis": "y"
        },
        {
         "alignmentgroup": "True",
         "hovertemplate": "Carrier=BEV<br>Period=2025<br>Vehicle Class=%{x}<br>New Capacity=%{y}<extra></extra>",
         "legendgroup": "BEV",
         "marker": {
          "color": "#0099C6",
          "pattern": {
           "shape": ""
          }
         },
         "name": "BEV",
         "offsetgroup": "BEV",
         "orientation": "v",
         "showlegend": false,
         "textfont": {
          "size": 8
         },
         "textposition": "auto",
         "texttemplate": "%{y:.1f}",
         "type": "bar",
         "x": [
          "LD Car",
          "LD Truck"
         ],
         "xaxis": "x2",
         "y": [
          262.6873847645204,
          162.4383628876188
         ],
         "yaxis": "y2"
        },
        {
         "alignmentgroup": "True",
         "hovertemplate": "Carrier=BEV<br>Period=2030<br>Vehicle Class=%{x}<br>New Capacity=%{y}<extra></extra>",
         "legendgroup": "BEV",
         "marker": {
          "color": "#0099C6",
          "pattern": {
           "shape": ""
          }
         },
         "name": "BEV",
         "offsetgroup": "BEV",
         "orientation": "v",
         "showlegend": false,
         "textfont": {
          "size": 8
         },
         "textposition": "auto",
         "texttemplate": "%{y:.1f}",
         "type": "bar",
         "x": [
          "LD Car",
          "LD Truck"
         ],
         "xaxis": "x3",
         "y": [
          583.6076335544009,
          406.3963474905356
         ],
         "yaxis": "y3"
        },
        {
         "alignmentgroup": "True",
         "hovertemplate": "Carrier=BEV<br>Period=2035<br>Vehicle Class=%{x}<br>New Capacity=%{y}<extra></extra>",
         "legendgroup": "BEV",
         "marker": {
          "color": "#0099C6",
          "pattern": {
           "shape": ""
          }
         },
         "name": "BEV",
         "offsetgroup": "BEV",
         "orientation": "v",
         "showlegend": false,
         "textfont": {
          "size": 8
         },
         "textposition": "auto",
         "texttemplate": "%{y:.1f}",
         "type": "bar",
         "x": [
          "LD Car",
          "LD Truck"
         ],
         "xaxis": "x4",
         "y": [
          780.5055769444996,
          947.6697406186161
         ],
         "yaxis": "y4"
        },
        {
         "alignmentgroup": "True",
         "hovertemplate": "Carrier=BEV<br>Period=2040<br>Vehicle Class=%{x}<br>New Capacity=%{y}<extra></extra>",
         "legendgroup": "BEV",
         "marker": {
          "color": "#0099C6",
          "pattern": {
           "shape": ""
          }
         },
         "name": "BEV",
         "offsetgroup": "BEV",
         "orientation": "v",
         "showlegend": false,
         "textfont": {
          "size": 8
         },
         "textposition": "auto",
         "texttemplate": "%{y:.1f}",
         "type": "bar",
         "x": [
          "LD Car",
          "LD Truck"
         ],
         "xaxis": "x5",
         "y": [
          732.3816421432396,
          781.3445385755535
         ],
         "yaxis": "y5"
        },
        {
         "alignmentgroup": "True",
         "hovertemplate": "Carrier=BEV<br>Period=2045<br>Vehicle Class=%{x}<br>New Capacity=%{y}<extra></extra>",
         "legendgroup": "BEV",
         "marker": {
          "color": "#0099C6",
          "pattern": {
           "shape": ""
          }
         },
         "name": "BEV",
         "offsetgroup": "BEV",
         "orientation": "v",
         "showlegend": false,
         "textfont": {
          "size": 8
         },
         "textposition": "auto",
         "texttemplate": "%{y:.1f}",
         "type": "bar",
         "x": [
          "LD Car",
          "LD Truck"
         ],
         "xaxis": "x6",
         "y": [
          994.1114578058435,
          814.2754305999796
         ],
         "yaxis": "y6"
        },
        {
         "alignmentgroup": "True",
         "hovertemplate": "Carrier=BEV<br>Period=2050<br>Vehicle Class=%{x}<br>New Capacity=%{y}<extra></extra>",
         "legendgroup": "BEV",
         "marker": {
          "color": "#0099C6",
          "pattern": {
           "shape": ""
          }
         },
         "name": "BEV",
         "offsetgroup": "BEV",
         "orientation": "v",
         "showlegend": false,
         "textfont": {
          "size": 8
         },
         "textposition": "auto",
         "texttemplate": "%{y:.1f}",
         "type": "bar",
         "x": [
          "LD Car",
          "LD Truck"
         ],
         "xaxis": "x7",
         "y": [
          1110.125649935312,
          1213.9880471069287
         ],
         "yaxis": "y7"
        },
        {
         "alignmentgroup": "True",
         "hovertemplate": "Carrier=FCEV<br>Period=2021<br>Vehicle Class=%{x}<br>New Capacity=%{y}<extra></extra>",
         "legendgroup": "FCEV",
         "marker": {
          "color": "#DD4477",
          "pattern": {
           "shape": ""
          }
         },
         "name": "FCEV",
         "offsetgroup": "FCEV",
         "orientation": "v",
         "showlegend": true,
         "textfont": {
          "size": 8
         },
         "textposition": "auto",
         "texttemplate": "%{y:.1f}",
         "type": "bar",
         "x": [
          "LD Car",
          "LD Truck"
         ],
         "xaxis": "x",
         "y": [
          0,
          0
         ],
         "yaxis": "y"
        },
        {
         "alignmentgroup": "True",
         "hovertemplate": "Carrier=FCEV<br>Period=2025<br>Vehicle Class=%{x}<br>New Capacity=%{y}<extra></extra>",
         "legendgroup": "FCEV",
         "marker": {
          "color": "#DD4477",
          "pattern": {
           "shape": ""
          }
         },
         "name": "FCEV",
         "offsetgroup": "FCEV",
         "orientation": "v",
         "showlegend": false,
         "textfont": {
          "size": 8
         },
         "textposition": "auto",
         "texttemplate": "%{y:.1f}",
         "type": "bar",
         "x": [
          "LD Car",
          "LD Truck"
         ],
         "xaxis": "x2",
         "y": [
          0.002696761666547941,
          0.004203982578841092
         ],
         "yaxis": "y2"
        },
        {
         "alignmentgroup": "True",
         "hovertemplate": "Carrier=FCEV<br>Period=2030<br>Vehicle Class=%{x}<br>New Capacity=%{y}<extra></extra>",
         "legendgroup": "FCEV",
         "marker": {
          "color": "#DD4477",
          "pattern": {
           "shape": ""
          }
         },
         "name": "FCEV",
         "offsetgroup": "FCEV",
         "orientation": "v",
         "showlegend": false,
         "textfont": {
          "size": 8
         },
         "textposition": "auto",
         "texttemplate": "%{y:.1f}",
         "type": "bar",
         "x": [
          "LD Car",
          "LD Truck"
         ],
         "xaxis": "x3",
         "y": [
          0.004538154317855288,
          0.005762699384835873
         ],
         "yaxis": "y3"
        },
        {
         "alignmentgroup": "True",
         "hovertemplate": "Carrier=FCEV<br>Period=2035<br>Vehicle Class=%{x}<br>New Capacity=%{y}<extra></extra>",
         "legendgroup": "FCEV",
         "marker": {
          "color": "#DD4477",
          "pattern": {
           "shape": ""
          }
         },
         "name": "FCEV",
         "offsetgroup": "FCEV",
         "orientation": "v",
         "showlegend": false,
         "textfont": {
          "size": 8
         },
         "textposition": "auto",
         "texttemplate": "%{y:.1f}",
         "type": "bar",
         "x": [
          "LD Car",
          "LD Truck"
         ],
         "xaxis": "x4",
         "y": [
          0.004376575375325652,
          0.006686071394606463
         ],
         "yaxis": "y4"
        },
        {
         "alignmentgroup": "True",
         "hovertemplate": "Carrier=FCEV<br>Period=2040<br>Vehicle Class=%{x}<br>New Capacity=%{y}<extra></extra>",
         "legendgroup": "FCEV",
         "marker": {
          "color": "#DD4477",
          "pattern": {
           "shape": ""
          }
         },
         "name": "FCEV",
         "offsetgroup": "FCEV",
         "orientation": "v",
         "showlegend": false,
         "textfont": {
          "size": 8
         },
         "textposition": "auto",
         "texttemplate": "%{y:.1f}",
         "type": "bar",
         "x": [
          "LD Car",
          "LD Truck"
         ],
         "xaxis": "x5",
         "y": [
          0.003063448786343422,
          0.005315173453207046
         ],
         "yaxis": "y5"
        },
        {
         "alignmentgroup": "True",
         "hovertemplate": "Carrier=FCEV<br>Period=2045<br>Vehicle Class=%{x}<br>New Capacity=%{y}<extra></extra>",
         "legendgroup": "FCEV",
         "marker": {
          "color": "#DD4477",
          "pattern": {
           "shape": ""
          }
         },
         "name": "FCEV",
         "offsetgroup": "FCEV",
         "orientation": "v",
         "showlegend": false,
         "textfont": {
          "size": 8
         },
         "textposition": "auto",
         "texttemplate": "%{y:.1f}",
         "type": "bar",
         "x": [
          "LD Car",
          "LD Truck"
         ],
         "xaxis": "x6",
         "y": [
          0.00306569125873476,
          0.005483880828665454
         ],
         "yaxis": "y6"
        },
        {
         "alignmentgroup": "True",
         "hovertemplate": "Carrier=FCEV<br>Period=2050<br>Vehicle Class=%{x}<br>New Capacity=%{y}<extra></extra>",
         "legendgroup": "FCEV",
         "marker": {
          "color": "#DD4477",
          "pattern": {
           "shape": ""
          }
         },
         "name": "FCEV",
         "offsetgroup": "FCEV",
         "orientation": "v",
         "showlegend": false,
         "textfont": {
          "size": 8
         },
         "textposition": "auto",
         "texttemplate": "%{y:.1f}",
         "type": "bar",
         "x": [
          "LD Car",
          "LD Truck"
         ],
         "xaxis": "x7",
         "y": [
          0.003976601665656538,
          0.007419505071394801
         ],
         "yaxis": "y7"
        }
       ],
       "layout": {
        "annotations": [
         {
          "font": {},
          "showarrow": false,
          "text": "2021",
          "x": 0.06285714285714285,
          "xanchor": "center",
          "xref": "paper",
          "y": -0.15,
          "yanchor": "top",
          "yref": "paper"
         },
         {
          "font": {},
          "showarrow": false,
          "text": "2025",
          "x": 0.20857142857142852,
          "xanchor": "center",
          "xref": "paper",
          "y": -0.15,
          "yanchor": "top",
          "yref": "paper"
         },
         {
          "font": {},
          "showarrow": false,
          "text": "2030",
          "x": 0.3542857142857142,
          "xanchor": "center",
          "xref": "paper",
          "y": -0.15,
          "yanchor": "top",
          "yref": "paper"
         },
         {
          "font": {},
          "showarrow": false,
          "text": "2035",
          "x": 0.5,
          "xanchor": "center",
          "xref": "paper",
          "y": -0.15,
          "yanchor": "top",
          "yref": "paper"
         },
         {
          "font": {},
          "showarrow": false,
          "text": "2040",
          "x": 0.6457142857142856,
          "xanchor": "center",
          "xref": "paper",
          "y": -0.15,
          "yanchor": "top",
          "yref": "paper"
         },
         {
          "font": {},
          "showarrow": false,
          "text": "2045",
          "x": 0.7914285714285713,
          "xanchor": "center",
          "xref": "paper",
          "y": -0.15,
          "yanchor": "top",
          "yref": "paper"
         },
         {
          "font": {},
          "showarrow": false,
          "text": "2050",
          "x": 0.937142857142857,
          "xanchor": "center",
          "xref": "paper",
          "y": -0.15,
          "yanchor": "top",
          "yref": "paper"
         }
        ],
        "bargap": 0.1,
        "barmode": "stack",
        "font": {
         "size": 13
        },
        "height": 400,
        "legend": {
         "font": {
          "size": 11
         },
         "orientation": "h",
         "title": {
          "text": ""
         },
         "tracegroupgap": 0,
         "x": 0.5,
         "xanchor": "center",
         "y": 1.09,
         "yanchor": "top"
        },
        "margin": {
         "t": 60
        },
        "template": {
         "data": {
          "bar": [
           {
            "error_x": {
             "color": "#2a3f5f"
            },
            "error_y": {
             "color": "#2a3f5f"
            },
            "marker": {
             "line": {
              "color": "white",
              "width": 0.5
             },
             "pattern": {
              "fillmode": "overlay",
              "size": 10,
              "solidity": 0.2
             }
            },
            "type": "bar"
           }
          ],
          "barpolar": [
           {
            "marker": {
             "line": {
              "color": "white",
              "width": 0.5
             },
             "pattern": {
              "fillmode": "overlay",
              "size": 10,
              "solidity": 0.2
             }
            },
            "type": "barpolar"
           }
          ],
          "carpet": [
           {
            "aaxis": {
             "endlinecolor": "#2a3f5f",
             "gridcolor": "#C8D4E3",
             "linecolor": "#C8D4E3",
             "minorgridcolor": "#C8D4E3",
             "startlinecolor": "#2a3f5f"
            },
            "baxis": {
             "endlinecolor": "#2a3f5f",
             "gridcolor": "#C8D4E3",
             "linecolor": "#C8D4E3",
             "minorgridcolor": "#C8D4E3",
             "startlinecolor": "#2a3f5f"
            },
            "type": "carpet"
           }
          ],
          "choropleth": [
           {
            "colorbar": {
             "outlinewidth": 0,
             "ticks": ""
            },
            "type": "choropleth"
           }
          ],
          "contour": [
           {
            "colorbar": {
             "outlinewidth": 0,
             "ticks": ""
            },
            "colorscale": [
             [
              0,
              "#0d0887"
             ],
             [
              0.1111111111111111,
              "#46039f"
             ],
             [
              0.2222222222222222,
              "#7201a8"
             ],
             [
              0.3333333333333333,
              "#9c179e"
             ],
             [
              0.4444444444444444,
              "#bd3786"
             ],
             [
              0.5555555555555556,
              "#d8576b"
             ],
             [
              0.6666666666666666,
              "#ed7953"
             ],
             [
              0.7777777777777778,
              "#fb9f3a"
             ],
             [
              0.8888888888888888,
              "#fdca26"
             ],
             [
              1,
              "#f0f921"
             ]
            ],
            "type": "contour"
           }
          ],
          "contourcarpet": [
           {
            "colorbar": {
             "outlinewidth": 0,
             "ticks": ""
            },
            "type": "contourcarpet"
           }
          ],
          "heatmap": [
           {
            "colorbar": {
             "outlinewidth": 0,
             "ticks": ""
            },
            "colorscale": [
             [
              0,
              "#0d0887"
             ],
             [
              0.1111111111111111,
              "#46039f"
             ],
             [
              0.2222222222222222,
              "#7201a8"
             ],
             [
              0.3333333333333333,
              "#9c179e"
             ],
             [
              0.4444444444444444,
              "#bd3786"
             ],
             [
              0.5555555555555556,
              "#d8576b"
             ],
             [
              0.6666666666666666,
              "#ed7953"
             ],
             [
              0.7777777777777778,
              "#fb9f3a"
             ],
             [
              0.8888888888888888,
              "#fdca26"
             ],
             [
              1,
              "#f0f921"
             ]
            ],
            "type": "heatmap"
           }
          ],
          "heatmapgl": [
           {
            "colorbar": {
             "outlinewidth": 0,
             "ticks": ""
            },
            "colorscale": [
             [
              0,
              "#0d0887"
             ],
             [
              0.1111111111111111,
              "#46039f"
             ],
             [
              0.2222222222222222,
              "#7201a8"
             ],
             [
              0.3333333333333333,
              "#9c179e"
             ],
             [
              0.4444444444444444,
              "#bd3786"
             ],
             [
              0.5555555555555556,
              "#d8576b"
             ],
             [
              0.6666666666666666,
              "#ed7953"
             ],
             [
              0.7777777777777778,
              "#fb9f3a"
             ],
             [
              0.8888888888888888,
              "#fdca26"
             ],
             [
              1,
              "#f0f921"
             ]
            ],
            "type": "heatmapgl"
           }
          ],
          "histogram": [
           {
            "marker": {
             "pattern": {
              "fillmode": "overlay",
              "size": 10,
              "solidity": 0.2
             }
            },
            "type": "histogram"
           }
          ],
          "histogram2d": [
           {
            "colorbar": {
             "outlinewidth": 0,
             "ticks": ""
            },
            "colorscale": [
             [
              0,
              "#0d0887"
             ],
             [
              0.1111111111111111,
              "#46039f"
             ],
             [
              0.2222222222222222,
              "#7201a8"
             ],
             [
              0.3333333333333333,
              "#9c179e"
             ],
             [
              0.4444444444444444,
              "#bd3786"
             ],
             [
              0.5555555555555556,
              "#d8576b"
             ],
             [
              0.6666666666666666,
              "#ed7953"
             ],
             [
              0.7777777777777778,
              "#fb9f3a"
             ],
             [
              0.8888888888888888,
              "#fdca26"
             ],
             [
              1,
              "#f0f921"
             ]
            ],
            "type": "histogram2d"
           }
          ],
          "histogram2dcontour": [
           {
            "colorbar": {
             "outlinewidth": 0,
             "ticks": ""
            },
            "colorscale": [
             [
              0,
              "#0d0887"
             ],
             [
              0.1111111111111111,
              "#46039f"
             ],
             [
              0.2222222222222222,
              "#7201a8"
             ],
             [
              0.3333333333333333,
              "#9c179e"
             ],
             [
              0.4444444444444444,
              "#bd3786"
             ],
             [
              0.5555555555555556,
              "#d8576b"
             ],
             [
              0.6666666666666666,
              "#ed7953"
             ],
             [
              0.7777777777777778,
              "#fb9f3a"
             ],
             [
              0.8888888888888888,
              "#fdca26"
             ],
             [
              1,
              "#f0f921"
             ]
            ],
            "type": "histogram2dcontour"
           }
          ],
          "mesh3d": [
           {
            "colorbar": {
             "outlinewidth": 0,
             "ticks": ""
            },
            "type": "mesh3d"
           }
          ],
          "parcoords": [
           {
            "line": {
             "colorbar": {
              "outlinewidth": 0,
              "ticks": ""
             }
            },
            "type": "parcoords"
           }
          ],
          "pie": [
           {
            "automargin": true,
            "type": "pie"
           }
          ],
          "scatter": [
           {
            "fillpattern": {
             "fillmode": "overlay",
             "size": 10,
             "solidity": 0.2
            },
            "type": "scatter"
           }
          ],
          "scatter3d": [
           {
            "line": {
             "colorbar": {
              "outlinewidth": 0,
              "ticks": ""
             }
            },
            "marker": {
             "colorbar": {
              "outlinewidth": 0,
              "ticks": ""
             }
            },
            "type": "scatter3d"
           }
          ],
          "scattercarpet": [
           {
            "marker": {
             "colorbar": {
              "outlinewidth": 0,
              "ticks": ""
             }
            },
            "type": "scattercarpet"
           }
          ],
          "scattergeo": [
           {
            "marker": {
             "colorbar": {
              "outlinewidth": 0,
              "ticks": ""
             }
            },
            "type": "scattergeo"
           }
          ],
          "scattergl": [
           {
            "marker": {
             "colorbar": {
              "outlinewidth": 0,
              "ticks": ""
             }
            },
            "type": "scattergl"
           }
          ],
          "scattermapbox": [
           {
            "marker": {
             "colorbar": {
              "outlinewidth": 0,
              "ticks": ""
             }
            },
            "type": "scattermapbox"
           }
          ],
          "scatterpolar": [
           {
            "marker": {
             "colorbar": {
              "outlinewidth": 0,
              "ticks": ""
             }
            },
            "type": "scatterpolar"
           }
          ],
          "scatterpolargl": [
           {
            "marker": {
             "colorbar": {
              "outlinewidth": 0,
              "ticks": ""
             }
            },
            "type": "scatterpolargl"
           }
          ],
          "scatterternary": [
           {
            "marker": {
             "colorbar": {
              "outlinewidth": 0,
              "ticks": ""
             }
            },
            "type": "scatterternary"
           }
          ],
          "surface": [
           {
            "colorbar": {
             "outlinewidth": 0,
             "ticks": ""
            },
            "colorscale": [
             [
              0,
              "#0d0887"
             ],
             [
              0.1111111111111111,
              "#46039f"
             ],
             [
              0.2222222222222222,
              "#7201a8"
             ],
             [
              0.3333333333333333,
              "#9c179e"
             ],
             [
              0.4444444444444444,
              "#bd3786"
             ],
             [
              0.5555555555555556,
              "#d8576b"
             ],
             [
              0.6666666666666666,
              "#ed7953"
             ],
             [
              0.7777777777777778,
              "#fb9f3a"
             ],
             [
              0.8888888888888888,
              "#fdca26"
             ],
             [
              1,
              "#f0f921"
             ]
            ],
            "type": "surface"
           }
          ],
          "table": [
           {
            "cells": {
             "fill": {
              "color": "#EBF0F8"
             },
             "line": {
              "color": "white"
             }
            },
            "header": {
             "fill": {
              "color": "#C8D4E3"
             },
             "line": {
              "color": "white"
             }
            },
            "type": "table"
           }
          ]
         },
         "layout": {
          "annotationdefaults": {
           "arrowcolor": "#2a3f5f",
           "arrowhead": 0,
           "arrowwidth": 1
          },
          "autotypenumbers": "strict",
          "coloraxis": {
           "colorbar": {
            "outlinewidth": 0,
            "ticks": ""
           }
          },
          "colorscale": {
           "diverging": [
            [
             0,
             "#8e0152"
            ],
            [
             0.1,
             "#c51b7d"
            ],
            [
             0.2,
             "#de77ae"
            ],
            [
             0.3,
             "#f1b6da"
            ],
            [
             0.4,
             "#fde0ef"
            ],
            [
             0.5,
             "#f7f7f7"
            ],
            [
             0.6,
             "#e6f5d0"
            ],
            [
             0.7,
             "#b8e186"
            ],
            [
             0.8,
             "#7fbc41"
            ],
            [
             0.9,
             "#4d9221"
            ],
            [
             1,
             "#276419"
            ]
           ],
           "sequential": [
            [
             0,
             "#0d0887"
            ],
            [
             0.1111111111111111,
             "#46039f"
            ],
            [
             0.2222222222222222,
             "#7201a8"
            ],
            [
             0.3333333333333333,
             "#9c179e"
            ],
            [
             0.4444444444444444,
             "#bd3786"
            ],
            [
             0.5555555555555556,
             "#d8576b"
            ],
            [
             0.6666666666666666,
             "#ed7953"
            ],
            [
             0.7777777777777778,
             "#fb9f3a"
            ],
            [
             0.8888888888888888,
             "#fdca26"
            ],
            [
             1,
             "#f0f921"
            ]
           ],
           "sequentialminus": [
            [
             0,
             "#0d0887"
            ],
            [
             0.1111111111111111,
             "#46039f"
            ],
            [
             0.2222222222222222,
             "#7201a8"
            ],
            [
             0.3333333333333333,
             "#9c179e"
            ],
            [
             0.4444444444444444,
             "#bd3786"
            ],
            [
             0.5555555555555556,
             "#d8576b"
            ],
            [
             0.6666666666666666,
             "#ed7953"
            ],
            [
             0.7777777777777778,
             "#fb9f3a"
            ],
            [
             0.8888888888888888,
             "#fdca26"
            ],
            [
             1,
             "#f0f921"
            ]
           ]
          },
          "colorway": [
           "#636efa",
           "#EF553B",
           "#00cc96",
           "#ab63fa",
           "#FFA15A",
           "#19d3f3",
           "#FF6692",
           "#B6E880",
           "#FF97FF",
           "#FECB52"
          ],
          "font": {
           "color": "#2a3f5f"
          },
          "geo": {
           "bgcolor": "white",
           "lakecolor": "white",
           "landcolor": "white",
           "showlakes": true,
           "showland": true,
           "subunitcolor": "#C8D4E3"
          },
          "hoverlabel": {
           "align": "left"
          },
          "hovermode": "closest",
          "mapbox": {
           "style": "light"
          },
          "paper_bgcolor": "white",
          "plot_bgcolor": "white",
          "polar": {
           "angularaxis": {
            "gridcolor": "#EBF0F8",
            "linecolor": "#EBF0F8",
            "ticks": ""
           },
           "bgcolor": "white",
           "radialaxis": {
            "gridcolor": "#EBF0F8",
            "linecolor": "#EBF0F8",
            "ticks": ""
           }
          },
          "scene": {
           "xaxis": {
            "backgroundcolor": "white",
            "gridcolor": "#DFE8F3",
            "gridwidth": 2,
            "linecolor": "#EBF0F8",
            "showbackground": true,
            "ticks": "",
            "zerolinecolor": "#EBF0F8"
           },
           "yaxis": {
            "backgroundcolor": "white",
            "gridcolor": "#DFE8F3",
            "gridwidth": 2,
            "linecolor": "#EBF0F8",
            "showbackground": true,
            "ticks": "",
            "zerolinecolor": "#EBF0F8"
           },
           "zaxis": {
            "backgroundcolor": "white",
            "gridcolor": "#DFE8F3",
            "gridwidth": 2,
            "linecolor": "#EBF0F8",
            "showbackground": true,
            "ticks": "",
            "zerolinecolor": "#EBF0F8"
           }
          },
          "shapedefaults": {
           "line": {
            "color": "#2a3f5f"
           }
          },
          "ternary": {
           "aaxis": {
            "gridcolor": "#DFE8F3",
            "linecolor": "#A2B1C6",
            "ticks": ""
           },
           "baxis": {
            "gridcolor": "#DFE8F3",
            "linecolor": "#A2B1C6",
            "ticks": ""
           },
           "bgcolor": "white",
           "caxis": {
            "gridcolor": "#DFE8F3",
            "linecolor": "#A2B1C6",
            "ticks": ""
           }
          },
          "title": {
           "x": 0.05
          },
          "xaxis": {
           "automargin": true,
           "gridcolor": "#EBF0F8",
           "linecolor": "#EBF0F8",
           "ticks": "",
           "title": {
            "standoff": 15
           },
           "zerolinecolor": "#EBF0F8",
           "zerolinewidth": 2
          },
          "yaxis": {
           "automargin": true,
           "gridcolor": "#EBF0F8",
           "linecolor": "#EBF0F8",
           "ticks": "",
           "title": {
            "standoff": 15
           },
           "zerolinecolor": "#EBF0F8",
           "zerolinewidth": 2
          }
         }
        },
        "title": {
         "text": "LDV fleet expansion in ON by vehicle class and powertrain",
         "x": 0.5,
         "xanchor": "center",
         "y": 0.96,
         "yanchor": "top"
        },
        "width": 700,
        "xaxis": {
         "anchor": "y",
         "domain": [
          0,
          0.1257142857142857
         ],
         "tickfont": {
          "size": 12
         },
         "title": {
          "text": ""
         }
        },
        "xaxis2": {
         "anchor": "y2",
         "domain": [
          0.14571428571428569,
          0.27142857142857135
         ],
         "matches": "x",
         "tickfont": {
          "size": 12
         },
         "title": {
          "text": ""
         }
        },
        "xaxis3": {
         "anchor": "y3",
         "domain": [
          0.29142857142857137,
          0.41714285714285704
         ],
         "matches": "x",
         "tickfont": {
          "size": 12
         },
         "title": {
          "text": ""
         }
        },
        "xaxis4": {
         "anchor": "y4",
         "domain": [
          0.4371428571428571,
          0.5628571428571428
         ],
         "matches": "x",
         "tickfont": {
          "size": 12
         },
         "title": {
          "text": ""
         }
        },
        "xaxis5": {
         "anchor": "y5",
         "domain": [
          0.5828571428571427,
          0.7085714285714284
         ],
         "matches": "x",
         "tickfont": {
          "size": 12
         },
         "title": {
          "text": ""
         }
        },
        "xaxis6": {
         "anchor": "y6",
         "domain": [
          0.7285714285714284,
          0.8542857142857141
         ],
         "matches": "x",
         "tickfont": {
          "size": 12
         },
         "title": {
          "text": ""
         }
        },
        "xaxis7": {
         "anchor": "y7",
         "domain": [
          0.8742857142857142,
          0.9999999999999999
         ],
         "matches": "x",
         "tickfont": {
          "size": 12
         },
         "title": {
          "text": ""
         }
        },
        "yaxis": {
         "anchor": "x",
         "domain": [
          0,
          1
         ],
         "dtick": 500,
         "title": {
          "standoff": 1,
          "text": "New vehicles (k units)"
         }
        },
        "yaxis2": {
         "anchor": "x2",
         "domain": [
          0,
          1
         ],
         "matches": "y",
         "showticklabels": false
        },
        "yaxis3": {
         "anchor": "x3",
         "domain": [
          0,
          1
         ],
         "matches": "y",
         "showticklabels": false
        },
        "yaxis4": {
         "anchor": "x4",
         "domain": [
          0,
          1
         ],
         "matches": "y",
         "showticklabels": false
        },
        "yaxis5": {
         "anchor": "x5",
         "domain": [
          0,
          1
         ],
         "matches": "y",
         "showticklabels": false
        },
        "yaxis6": {
         "anchor": "x6",
         "domain": [
          0,
          1
         ],
         "matches": "y",
         "showticklabels": false
        },
        "yaxis7": {
         "anchor": "x7",
         "domain": [
          0,
          1
         ],
         "matches": "y",
         "showticklabels": false
        }
       }
      }
     },
     "metadata": {},
     "output_type": "display_data"
    }
   ],
   "source": [
    "ref_fig = ref_trnnewcap[ref_trnnewcap['Vehicle Class'].isin(['LD Car', 'LD Truck'])][['Period', 'Vehicle Class', 'New Capacity', 'Carrier']].groupby(['Period', 'Vehicle Class', 'Carrier'], as_index=False).sum()\n",
    "ref_fig['New Capacity (M units)'] = ref_fig['New Capacity']/1E3\n",
    "\n",
    "ref_fig['Carrier'] = pd.Categorical(ref_fig['Carrier'], categories=drivetrain_order, ordered=True)\n",
    "ref_fig = ref_fig.sort_values(['Carrier', 'Period'])\n",
    "\n",
    "fig = px.bar(ref_fig, \n",
    "             x='Vehicle Class', \n",
    "             y='New Capacity', \n",
    "             color='Carrier', \n",
    "             barmode='stack', \n",
    "             facet_col='Period',\n",
    "             facet_col_spacing=2E-2,\n",
    "             template='plotly_white',\n",
    "             color_discrete_sequence=px.colors.qualitative.G10[:7] + px.colors.qualitative.G10[8:],\n",
    "             text_auto='.1f',\n",
    "             width=700, height=400,\n",
    "             )\n",
    "\n",
    "fig.update_layout(title=dict(\n",
    "        text='LDV fleet expansion in ON by vehicle class and powertrain',\n",
    "        x=0.5, \n",
    "        y=0.96,\n",
    "        xanchor='center',\n",
    "        yanchor='top'\n",
    "    ),\n",
    "    xaxis=dict(title='Period'),\n",
    "    yaxis=dict(title='New vehicles (k units)',\n",
    "               dtick=500),\n",
    "    yaxis_title_standoff=1,\n",
    "    legend_title_text='',\n",
    "    bargap=0.1,\n",
    "    legend=dict(\n",
    "        orientation='h',  \n",
    "        yanchor='top',\n",
    "        y=1.09,  \n",
    "        xanchor='center',\n",
    "        x=0.5,\n",
    "        font=dict(size=11)),\n",
    "    font=dict(\n",
    "        # family=\"Open Sans\",\n",
    "        size=13)\n",
    "    )\n",
    "\n",
    "for annotation in fig.layout.annotations:\n",
    "    annotation.text = annotation.text.split('=')[1]\n",
    "    annotation.y = -0.15  \n",
    "    annotation.yanchor = 'top' \n",
    "\n",
    "for axis in fig.layout:\n",
    "    if axis.startswith('xaxis'):\n",
    "        fig.layout[axis].title.text = ''\n",
    "        fig.layout[axis].tickfont = dict(size=12)\n",
    "\n",
    "fig.for_each_trace(lambda trace: trace.update(textfont=dict(size=8)))\n",
    "\n",
    "fig.show()\n",
    "fig.write_image(\"ref_fleet_exp.svg\", scale=1, engine='kaleido')"
   ]
  },
  {
   "cell_type": "code",
   "execution_count": 141,
   "metadata": {},
   "outputs": [
    {
     "data": {
      "application/vnd.plotly.v1+json": {
       "config": {
        "plotlyServerURL": "https://plot.ly"
       },
       "data": [
        {
         "alignmentgroup": "True",
         "hovertemplate": "Carrier=Gasoline<br>Period=2021<br>Vehicle Class=%{x}<br>New Capacity=%{y}<extra></extra>",
         "legendgroup": "Gasoline",
         "marker": {
          "color": "#3366CC",
          "pattern": {
           "shape": ""
          }
         },
         "name": "Gasoline",
         "offsetgroup": "Gasoline",
         "orientation": "v",
         "showlegend": true,
         "textfont": {
          "size": 9
         },
         "textposition": "auto",
         "texttemplate": "%{y:.1f}",
         "type": "bar",
         "x": [
          "Bus",
          "MD Truck"
         ],
         "xaxis": "x",
         "y": [
          0.2310826757139431,
          12.77908622858624
         ],
         "yaxis": "y"
        },
        {
         "alignmentgroup": "True",
         "hovertemplate": "Carrier=Gasoline<br>Period=2025<br>Vehicle Class=%{x}<br>New Capacity=%{y}<extra></extra>",
         "legendgroup": "Gasoline",
         "marker": {
          "color": "#3366CC",
          "pattern": {
           "shape": ""
          }
         },
         "name": "Gasoline",
         "offsetgroup": "Gasoline",
         "orientation": "v",
         "showlegend": false,
         "textfont": {
          "size": 9
         },
         "textposition": "auto",
         "texttemplate": "%{y:.1f}",
         "type": "bar",
         "x": [
          "Bus",
          "MD Truck"
         ],
         "xaxis": "x2",
         "y": [
          0.0029742491529788796,
          7.349992637431555
         ],
         "yaxis": "y2"
        },
        {
         "alignmentgroup": "True",
         "hovertemplate": "Carrier=Gasoline<br>Period=2030<br>Vehicle Class=%{x}<br>New Capacity=%{y}<extra></extra>",
         "legendgroup": "Gasoline",
         "marker": {
          "color": "#3366CC",
          "pattern": {
           "shape": ""
          }
         },
         "name": "Gasoline",
         "offsetgroup": "Gasoline",
         "orientation": "v",
         "showlegend": false,
         "textfont": {
          "size": 9
         },
         "textposition": "auto",
         "texttemplate": "%{y:.1f}",
         "type": "bar",
         "x": [
          "Bus",
          "MD Truck"
         ],
         "xaxis": "x3",
         "y": [
          0.002384378584616437,
          12.99130254664018
         ],
         "yaxis": "y3"
        },
        {
         "alignmentgroup": "True",
         "hovertemplate": "Carrier=Gasoline<br>Period=2035<br>Vehicle Class=%{x}<br>New Capacity=%{y}<extra></extra>",
         "legendgroup": "Gasoline",
         "marker": {
          "color": "#3366CC",
          "pattern": {
           "shape": ""
          }
         },
         "name": "Gasoline",
         "offsetgroup": "Gasoline",
         "orientation": "v",
         "showlegend": false,
         "textfont": {
          "size": 9
         },
         "textposition": "auto",
         "texttemplate": "%{y:.1f}",
         "type": "bar",
         "x": [
          "Bus",
          "MD Truck"
         ],
         "xaxis": "x4",
         "y": [
          0.00015623579622944713,
          64.57087611490631
         ],
         "yaxis": "y4"
        },
        {
         "alignmentgroup": "True",
         "hovertemplate": "Carrier=Gasoline<br>Period=2040<br>Vehicle Class=%{x}<br>New Capacity=%{y}<extra></extra>",
         "legendgroup": "Gasoline",
         "marker": {
          "color": "#3366CC",
          "pattern": {
           "shape": ""
          }
         },
         "name": "Gasoline",
         "offsetgroup": "Gasoline",
         "orientation": "v",
         "showlegend": false,
         "textfont": {
          "size": 9
         },
         "textposition": "auto",
         "texttemplate": "%{y:.1f}",
         "type": "bar",
         "x": [
          "Bus",
          "MD Truck"
         ],
         "xaxis": "x5",
         "y": [
          0.000051428704242146325,
          12.89334891298062
         ],
         "yaxis": "y5"
        },
        {
         "alignmentgroup": "True",
         "hovertemplate": "Carrier=Gasoline<br>Period=2045<br>Vehicle Class=%{x}<br>New Capacity=%{y}<extra></extra>",
         "legendgroup": "Gasoline",
         "marker": {
          "color": "#3366CC",
          "pattern": {
           "shape": ""
          }
         },
         "name": "Gasoline",
         "offsetgroup": "Gasoline",
         "orientation": "v",
         "showlegend": false,
         "textfont": {
          "size": 9
         },
         "textposition": "auto",
         "texttemplate": "%{y:.1f}",
         "type": "bar",
         "x": [
          "Bus",
          "MD Truck"
         ],
         "xaxis": "x6",
         "y": [
          1.311412009313936,
          9.367613744660883
         ],
         "yaxis": "y6"
        },
        {
         "alignmentgroup": "True",
         "hovertemplate": "Carrier=Gasoline<br>Period=2050<br>Vehicle Class=%{x}<br>New Capacity=%{y}<extra></extra>",
         "legendgroup": "Gasoline",
         "marker": {
          "color": "#3366CC",
          "pattern": {
           "shape": ""
          }
         },
         "name": "Gasoline",
         "offsetgroup": "Gasoline",
         "orientation": "v",
         "showlegend": false,
         "textfont": {
          "size": 9
         },
         "textposition": "auto",
         "texttemplate": "%{y:.1f}",
         "type": "bar",
         "x": [
          "Bus",
          "MD Truck"
         ],
         "xaxis": "x7",
         "y": [
          0.9933369438354087,
          51.25182106848501
         ],
         "yaxis": "y7"
        },
        {
         "alignmentgroup": "True",
         "hovertemplate": "Carrier=Diesel<br>Period=2021<br>Vehicle Class=%{x}<br>New Capacity=%{y}<extra></extra>",
         "legendgroup": "Diesel",
         "marker": {
          "color": "#DC3912",
          "pattern": {
           "shape": ""
          }
         },
         "name": "Diesel",
         "offsetgroup": "Diesel",
         "orientation": "v",
         "showlegend": true,
         "textfont": {
          "size": 9
         },
         "textposition": "auto",
         "texttemplate": "%{y:.1f}",
         "type": "bar",
         "x": [
          "Bus",
          "HD Truck",
          "MD Truck"
         ],
         "xaxis": "x",
         "y": [
          2.4117729586362944,
          10.32669561610915,
          20.37373437291151
         ],
         "yaxis": "y"
        },
        {
         "alignmentgroup": "True",
         "hovertemplate": "Carrier=Diesel<br>Period=2025<br>Vehicle Class=%{x}<br>New Capacity=%{y}<extra></extra>",
         "legendgroup": "Diesel",
         "marker": {
          "color": "#DC3912",
          "pattern": {
           "shape": ""
          }
         },
         "name": "Diesel",
         "offsetgroup": "Diesel",
         "orientation": "v",
         "showlegend": false,
         "textfont": {
          "size": 9
         },
         "textposition": "auto",
         "texttemplate": "%{y:.1f}",
         "type": "bar",
         "x": [
          "Bus",
          "HD Truck",
          "MD Truck"
         ],
         "xaxis": "x2",
         "y": [
          0.5103448782015155,
          21.87531483829376,
          11.71441955055112
         ],
         "yaxis": "y2"
        },
        {
         "alignmentgroup": "True",
         "hovertemplate": "Carrier=Diesel<br>Period=2030<br>Vehicle Class=%{x}<br>New Capacity=%{y}<extra></extra>",
         "legendgroup": "Diesel",
         "marker": {
          "color": "#DC3912",
          "pattern": {
           "shape": ""
          }
         },
         "name": "Diesel",
         "offsetgroup": "Diesel",
         "orientation": "v",
         "showlegend": false,
         "textfont": {
          "size": 9
         },
         "textposition": "auto",
         "texttemplate": "%{y:.1f}",
         "type": "bar",
         "x": [
          "Bus",
          "HD Truck",
          "MD Truck"
         ],
         "xaxis": "x3",
         "y": [
          1.2592261081980913,
          36.64200153647508,
          20.7113771073687
         ],
         "yaxis": "y3"
        },
        {
         "alignmentgroup": "True",
         "hovertemplate": "Carrier=Diesel<br>Period=2035<br>Vehicle Class=%{x}<br>New Capacity=%{y}<extra></extra>",
         "legendgroup": "Diesel",
         "marker": {
          "color": "#DC3912",
          "pattern": {
           "shape": ""
          }
         },
         "name": "Diesel",
         "offsetgroup": "Diesel",
         "orientation": "v",
         "showlegend": false,
         "textfont": {
          "size": 9
         },
         "textposition": "auto",
         "texttemplate": "%{y:.1f}",
         "type": "bar",
         "x": [
          "Bus",
          "HD Truck",
          "MD Truck"
         ],
         "xaxis": "x4",
         "y": [
          1.037151977361739,
          37.02793056989766,
          93.44574722928489
         ],
         "yaxis": "y4"
        },
        {
         "alignmentgroup": "True",
         "hovertemplate": "Carrier=Diesel<br>Period=2040<br>Vehicle Class=%{x}<br>New Capacity=%{y}<extra></extra>",
         "legendgroup": "Diesel",
         "marker": {
          "color": "#DC3912",
          "pattern": {
           "shape": ""
          }
         },
         "name": "Diesel",
         "offsetgroup": "Diesel",
         "orientation": "v",
         "showlegend": false,
         "textfont": {
          "size": 9
         },
         "textposition": "auto",
         "texttemplate": "%{y:.1f}",
         "type": "bar",
         "x": [
          "Bus",
          "HD Truck",
          "MD Truck"
         ],
         "xaxis": "x5",
         "y": [
          0.042294928550111084,
          49.493145294516,
          30.02105909960446
         ],
         "yaxis": "y5"
        },
        {
         "alignmentgroup": "True",
         "hovertemplate": "Carrier=Diesel<br>Period=2045<br>Vehicle Class=%{x}<br>New Capacity=%{y}<extra></extra>",
         "legendgroup": "Diesel",
         "marker": {
          "color": "#DC3912",
          "pattern": {
           "shape": ""
          }
         },
         "name": "Diesel",
         "offsetgroup": "Diesel",
         "orientation": "v",
         "showlegend": false,
         "textfont": {
          "size": 9
         },
         "textposition": "auto",
         "texttemplate": "%{y:.1f}",
         "type": "bar",
         "x": [
          "Bus",
          "HD Truck",
          "MD Truck"
         ],
         "xaxis": "x6",
         "y": [
          0.01570574255915596,
          28.81077787389268,
          14.94470334451106
         ],
         "yaxis": "y6"
        },
        {
         "alignmentgroup": "True",
         "hovertemplate": "Carrier=Diesel<br>Period=2050<br>Vehicle Class=%{x}<br>New Capacity=%{y}<extra></extra>",
         "legendgroup": "Diesel",
         "marker": {
          "color": "#DC3912",
          "pattern": {
           "shape": ""
          }
         },
         "name": "Diesel",
         "offsetgroup": "Diesel",
         "orientation": "v",
         "showlegend": false,
         "textfont": {
          "size": 9
         },
         "textposition": "auto",
         "texttemplate": "%{y:.1f}",
         "type": "bar",
         "x": [
          "Bus",
          "HD Truck",
          "MD Truck"
         ],
         "xaxis": "x7",
         "y": [
          0.0009830920486563477,
          39.46378718545832,
          74.1302528160223
         ],
         "yaxis": "y7"
        },
        {
         "alignmentgroup": "True",
         "hovertemplate": "Carrier=CNG<br>Period=2021<br>Vehicle Class=%{x}<br>New Capacity=%{y}<extra></extra>",
         "legendgroup": "CNG",
         "marker": {
          "color": "#FF9900",
          "pattern": {
           "shape": ""
          }
         },
         "name": "CNG",
         "offsetgroup": "CNG",
         "orientation": "v",
         "showlegend": true,
         "textfont": {
          "size": 9
         },
         "textposition": "auto",
         "texttemplate": "%{y:.1f}",
         "type": "bar",
         "x": [
          "Bus"
         ],
         "xaxis": "x",
         "y": [
          0.2310757662598869
         ],
         "yaxis": "y"
        },
        {
         "alignmentgroup": "True",
         "hovertemplate": "Carrier=CNG<br>Period=2025<br>Vehicle Class=%{x}<br>New Capacity=%{y}<extra></extra>",
         "legendgroup": "CNG",
         "marker": {
          "color": "#FF9900",
          "pattern": {
           "shape": ""
          }
         },
         "name": "CNG",
         "offsetgroup": "CNG",
         "orientation": "v",
         "showlegend": false,
         "textfont": {
          "size": 9
         },
         "textposition": "auto",
         "texttemplate": "%{y:.1f}",
         "type": "bar",
         "x": [
          "Bus"
         ],
         "xaxis": "x2",
         "y": [
          0.00292089791725425
         ],
         "yaxis": "y2"
        },
        {
         "alignmentgroup": "True",
         "hovertemplate": "Carrier=CNG<br>Period=2030<br>Vehicle Class=%{x}<br>New Capacity=%{y}<extra></extra>",
         "legendgroup": "CNG",
         "marker": {
          "color": "#FF9900",
          "pattern": {
           "shape": ""
          }
         },
         "name": "CNG",
         "offsetgroup": "CNG",
         "orientation": "v",
         "showlegend": false,
         "textfont": {
          "size": 9
         },
         "textposition": "auto",
         "texttemplate": "%{y:.1f}",
         "type": "bar",
         "x": [
          "Bus"
         ],
         "xaxis": "x3",
         "y": [
          0.001789473911697537
         ],
         "yaxis": "y3"
        },
        {
         "alignmentgroup": "True",
         "hovertemplate": "Carrier=CNG<br>Period=2035<br>Vehicle Class=%{x}<br>New Capacity=%{y}<extra></extra>",
         "legendgroup": "CNG",
         "marker": {
          "color": "#FF9900",
          "pattern": {
           "shape": ""
          }
         },
         "name": "CNG",
         "offsetgroup": "CNG",
         "orientation": "v",
         "showlegend": false,
         "textfont": {
          "size": 9
         },
         "textposition": "auto",
         "texttemplate": "%{y:.1f}",
         "type": "bar",
         "x": [
          "Bus"
         ],
         "xaxis": "x4",
         "y": [
          0
         ],
         "yaxis": "y4"
        },
        {
         "alignmentgroup": "True",
         "hovertemplate": "Carrier=CNG<br>Period=2040<br>Vehicle Class=%{x}<br>New Capacity=%{y}<extra></extra>",
         "legendgroup": "CNG",
         "marker": {
          "color": "#FF9900",
          "pattern": {
           "shape": ""
          }
         },
         "name": "CNG",
         "offsetgroup": "CNG",
         "orientation": "v",
         "showlegend": false,
         "textfont": {
          "size": 9
         },
         "textposition": "auto",
         "texttemplate": "%{y:.1f}",
         "type": "bar",
         "x": [
          "Bus"
         ],
         "xaxis": "x5",
         "y": [
          0
         ],
         "yaxis": "y5"
        },
        {
         "alignmentgroup": "True",
         "hovertemplate": "Carrier=CNG<br>Period=2045<br>Vehicle Class=%{x}<br>New Capacity=%{y}<extra></extra>",
         "legendgroup": "CNG",
         "marker": {
          "color": "#FF9900",
          "pattern": {
           "shape": ""
          }
         },
         "name": "CNG",
         "offsetgroup": "CNG",
         "orientation": "v",
         "showlegend": false,
         "textfont": {
          "size": 9
         },
         "textposition": "auto",
         "texttemplate": "%{y:.1f}",
         "type": "bar",
         "x": [
          "Bus"
         ],
         "xaxis": "x6",
         "y": [
          0
         ],
         "yaxis": "y6"
        },
        {
         "alignmentgroup": "True",
         "hovertemplate": "Carrier=CNG<br>Period=2050<br>Vehicle Class=%{x}<br>New Capacity=%{y}<extra></extra>",
         "legendgroup": "CNG",
         "marker": {
          "color": "#FF9900",
          "pattern": {
           "shape": ""
          }
         },
         "name": "CNG",
         "offsetgroup": "CNG",
         "orientation": "v",
         "showlegend": false,
         "textfont": {
          "size": 9
         },
         "textposition": "auto",
         "texttemplate": "%{y:.1f}",
         "type": "bar",
         "x": [
          "Bus"
         ],
         "xaxis": "x7",
         "y": [
          0
         ],
         "yaxis": "y7"
        },
        {
         "alignmentgroup": "True",
         "hovertemplate": "Carrier=HEV<br>Period=2021<br>Vehicle Class=%{x}<br>New Capacity=%{y}<extra></extra>",
         "legendgroup": "HEV",
         "marker": {
          "color": "#109618",
          "pattern": {
           "shape": ""
          }
         },
         "name": "HEV",
         "offsetgroup": "HEV",
         "orientation": "v",
         "showlegend": true,
         "textfont": {
          "size": 9
         },
         "textposition": "auto",
         "texttemplate": "%{y:.1f}",
         "type": "bar",
         "x": [
          "Bus",
          "HD Truck",
          "MD Truck"
         ],
         "xaxis": "x",
         "y": [
          0.2310625334891252,
          0,
          0
         ],
         "yaxis": "y"
        },
        {
         "alignmentgroup": "True",
         "hovertemplate": "Carrier=HEV<br>Period=2025<br>Vehicle Class=%{x}<br>New Capacity=%{y}<extra></extra>",
         "legendgroup": "HEV",
         "marker": {
          "color": "#109618",
          "pattern": {
           "shape": ""
          }
         },
         "name": "HEV",
         "offsetgroup": "HEV",
         "orientation": "v",
         "showlegend": false,
         "textfont": {
          "size": 9
         },
         "textposition": "auto",
         "texttemplate": "%{y:.1f}",
         "type": "bar",
         "x": [
          "Bus",
          "HD Truck",
          "MD Truck"
         ],
         "xaxis": "x2",
         "y": [
          0.002933616329150135,
          0.4484259929120508,
          0
         ],
         "yaxis": "y2"
        },
        {
         "alignmentgroup": "True",
         "hovertemplate": "Carrier=HEV<br>Period=2030<br>Vehicle Class=%{x}<br>New Capacity=%{y}<extra></extra>",
         "legendgroup": "HEV",
         "marker": {
          "color": "#109618",
          "pattern": {
           "shape": ""
          }
         },
         "name": "HEV",
         "offsetgroup": "HEV",
         "orientation": "v",
         "showlegend": false,
         "textfont": {
          "size": 9
         },
         "textposition": "auto",
         "texttemplate": "%{y:.1f}",
         "type": "bar",
         "x": [
          "Bus",
          "HD Truck",
          "MD Truck"
         ],
         "xaxis": "x3",
         "y": [
          0.002374277116053397,
          2.04776820846085,
          0
         ],
         "yaxis": "y3"
        },
        {
         "alignmentgroup": "True",
         "hovertemplate": "Carrier=HEV<br>Period=2035<br>Vehicle Class=%{x}<br>New Capacity=%{y}<extra></extra>",
         "legendgroup": "HEV",
         "marker": {
          "color": "#109618",
          "pattern": {
           "shape": ""
          }
         },
         "name": "HEV",
         "offsetgroup": "HEV",
         "orientation": "v",
         "showlegend": false,
         "textfont": {
          "size": 9
         },
         "textposition": "auto",
         "texttemplate": "%{y:.1f}",
         "type": "bar",
         "x": [
          "Bus",
          "HD Truck",
          "MD Truck"
         ],
         "xaxis": "x4",
         "y": [
          0.00008139409853604444,
          2.176249109123664,
          0.00002865573546508725
         ],
         "yaxis": "y4"
        },
        {
         "alignmentgroup": "True",
         "hovertemplate": "Carrier=HEV<br>Period=2040<br>Vehicle Class=%{x}<br>New Capacity=%{y}<extra></extra>",
         "legendgroup": "HEV",
         "marker": {
          "color": "#109618",
          "pattern": {
           "shape": ""
          }
         },
         "name": "HEV",
         "offsetgroup": "HEV",
         "orientation": "v",
         "showlegend": false,
         "textfont": {
          "size": 9
         },
         "textposition": "auto",
         "texttemplate": "%{y:.1f}",
         "type": "bar",
         "x": [
          "Bus",
          "HD Truck",
          "MD Truck"
         ],
         "xaxis": "x5",
         "y": [
          0.000054711035190267894,
          0.4362003046227756,
          0.00001259814388056969
         ],
         "yaxis": "y5"
        },
        {
         "alignmentgroup": "True",
         "hovertemplate": "Carrier=HEV<br>Period=2045<br>Vehicle Class=%{x}<br>New Capacity=%{y}<extra></extra>",
         "legendgroup": "HEV",
         "marker": {
          "color": "#109618",
          "pattern": {
           "shape": ""
          }
         },
         "name": "HEV",
         "offsetgroup": "HEV",
         "orientation": "v",
         "showlegend": false,
         "textfont": {
          "size": 9
         },
         "textposition": "auto",
         "texttemplate": "%{y:.1f}",
         "type": "bar",
         "x": [
          "Bus",
          "HD Truck",
          "MD Truck"
         ],
         "xaxis": "x6",
         "y": [
          0.00001132413710053843,
          0.4045963005847469,
          0.00001046048306877741
         ],
         "yaxis": "y6"
        },
        {
         "alignmentgroup": "True",
         "hovertemplate": "Carrier=HEV<br>Period=2050<br>Vehicle Class=%{x}<br>New Capacity=%{y}<extra></extra>",
         "legendgroup": "HEV",
         "marker": {
          "color": "#109618",
          "pattern": {
           "shape": ""
          }
         },
         "name": "HEV",
         "offsetgroup": "HEV",
         "orientation": "v",
         "showlegend": false,
         "textfont": {
          "size": 9
         },
         "textposition": "auto",
         "texttemplate": "%{y:.1f}",
         "type": "bar",
         "x": [
          "Bus",
          "HD Truck",
          "MD Truck"
         ],
         "xaxis": "x7",
         "y": [
          0.00001172194029217717,
          0.2457487199749144,
          0
         ],
         "yaxis": "y7"
        },
        {
         "alignmentgroup": "True",
         "hovertemplate": "Carrier=PHEV<br>Period=2021<br>Vehicle Class=%{x}<br>New Capacity=%{y}<extra></extra>",
         "legendgroup": "PHEV",
         "marker": {
          "color": "#990099",
          "pattern": {
           "shape": ""
          }
         },
         "name": "PHEV",
         "offsetgroup": "PHEV",
         "orientation": "v",
         "showlegend": true,
         "textfont": {
          "size": 9
         },
         "textposition": "auto",
         "texttemplate": "%{y:.1f}",
         "type": "bar",
         "x": [
          "Bus",
          "HD Truck",
          "MD Truck"
         ],
         "xaxis": "x",
         "y": [
          0,
          0,
          0
         ],
         "yaxis": "y"
        },
        {
         "alignmentgroup": "True",
         "hovertemplate": "Carrier=PHEV<br>Period=2025<br>Vehicle Class=%{x}<br>New Capacity=%{y}<extra></extra>",
         "legendgroup": "PHEV",
         "marker": {
          "color": "#990099",
          "pattern": {
           "shape": ""
          }
         },
         "name": "PHEV",
         "offsetgroup": "PHEV",
         "orientation": "v",
         "showlegend": false,
         "textfont": {
          "size": 9
         },
         "textposition": "auto",
         "texttemplate": "%{y:.1f}",
         "type": "bar",
         "x": [
          "Bus",
          "HD Truck",
          "MD Truck"
         ],
         "xaxis": "x2",
         "y": [
          0,
          0,
          0
         ],
         "yaxis": "y2"
        },
        {
         "alignmentgroup": "True",
         "hovertemplate": "Carrier=PHEV<br>Period=2030<br>Vehicle Class=%{x}<br>New Capacity=%{y}<extra></extra>",
         "legendgroup": "PHEV",
         "marker": {
          "color": "#990099",
          "pattern": {
           "shape": ""
          }
         },
         "name": "PHEV",
         "offsetgroup": "PHEV",
         "orientation": "v",
         "showlegend": false,
         "textfont": {
          "size": 9
         },
         "textposition": "auto",
         "texttemplate": "%{y:.1f}",
         "type": "bar",
         "x": [
          "Bus",
          "HD Truck",
          "MD Truck"
         ],
         "xaxis": "x3",
         "y": [
          0.0000108169428319598,
          0,
          0
         ],
         "yaxis": "y3"
        },
        {
         "alignmentgroup": "True",
         "hovertemplate": "Carrier=PHEV<br>Period=2035<br>Vehicle Class=%{x}<br>New Capacity=%{y}<extra></extra>",
         "legendgroup": "PHEV",
         "marker": {
          "color": "#990099",
          "pattern": {
           "shape": ""
          }
         },
         "name": "PHEV",
         "offsetgroup": "PHEV",
         "orientation": "v",
         "showlegend": false,
         "textfont": {
          "size": 9
         },
         "textposition": "auto",
         "texttemplate": "%{y:.1f}",
         "type": "bar",
         "x": [
          "Bus",
          "HD Truck",
          "MD Truck"
         ],
         "xaxis": "x4",
         "y": [
          0,
          0,
          0.00005612256114905854
         ],
         "yaxis": "y4"
        },
        {
         "alignmentgroup": "True",
         "hovertemplate": "Carrier=PHEV<br>Period=2040<br>Vehicle Class=%{x}<br>New Capacity=%{y}<extra></extra>",
         "legendgroup": "PHEV",
         "marker": {
          "color": "#990099",
          "pattern": {
           "shape": ""
          }
         },
         "name": "PHEV",
         "offsetgroup": "PHEV",
         "orientation": "v",
         "showlegend": false,
         "textfont": {
          "size": 9
         },
         "textposition": "auto",
         "texttemplate": "%{y:.1f}",
         "type": "bar",
         "x": [
          "Bus",
          "HD Truck",
          "MD Truck"
         ],
         "xaxis": "x5",
         "y": [
          0.00001087039155636035,
          0,
          0.00001802147512862981
         ],
         "yaxis": "y5"
        },
        {
         "alignmentgroup": "True",
         "hovertemplate": "Carrier=PHEV<br>Period=2045<br>Vehicle Class=%{x}<br>New Capacity=%{y}<extra></extra>",
         "legendgroup": "PHEV",
         "marker": {
          "color": "#990099",
          "pattern": {
           "shape": ""
          }
         },
         "name": "PHEV",
         "offsetgroup": "PHEV",
         "orientation": "v",
         "showlegend": false,
         "textfont": {
          "size": 9
         },
         "textposition": "auto",
         "texttemplate": "%{y:.1f}",
         "type": "bar",
         "x": [
          "Bus",
          "HD Truck",
          "MD Truck"
         ],
         "xaxis": "x6",
         "y": [
          0.0000100181971468404,
          0,
          0.00001452441764202355
         ],
         "yaxis": "y6"
        },
        {
         "alignmentgroup": "True",
         "hovertemplate": "Carrier=PHEV<br>Period=2050<br>Vehicle Class=%{x}<br>New Capacity=%{y}<extra></extra>",
         "legendgroup": "PHEV",
         "marker": {
          "color": "#990099",
          "pattern": {
           "shape": ""
          }
         },
         "name": "PHEV",
         "offsetgroup": "PHEV",
         "orientation": "v",
         "showlegend": false,
         "textfont": {
          "size": 9
         },
         "textposition": "auto",
         "texttemplate": "%{y:.1f}",
         "type": "bar",
         "x": [
          "Bus",
          "HD Truck",
          "MD Truck"
         ],
         "xaxis": "x7",
         "y": [
          0.00001183739511374197,
          0,
          0.00001207936227090839
         ],
         "yaxis": "y7"
        },
        {
         "alignmentgroup": "True",
         "hovertemplate": "Carrier=BEV<br>Period=2021<br>Vehicle Class=%{x}<br>New Capacity=%{y}<extra></extra>",
         "legendgroup": "BEV",
         "marker": {
          "color": "#0099C6",
          "pattern": {
           "shape": ""
          }
         },
         "name": "BEV",
         "offsetgroup": "BEV",
         "orientation": "v",
         "showlegend": true,
         "textfont": {
          "size": 9
         },
         "textposition": "auto",
         "texttemplate": "%{y:.1f}",
         "type": "bar",
         "x": [
          "Bus",
          "HD Truck",
          "MD Truck"
         ],
         "xaxis": "x",
         "y": [
          0.794233629906897,
          0,
          0
         ],
         "yaxis": "y"
        },
        {
         "alignmentgroup": "True",
         "hovertemplate": "Carrier=BEV<br>Period=2025<br>Vehicle Class=%{x}<br>New Capacity=%{y}<extra></extra>",
         "legendgroup": "BEV",
         "marker": {
          "color": "#0099C6",
          "pattern": {
           "shape": ""
          }
         },
         "name": "BEV",
         "offsetgroup": "BEV",
         "orientation": "v",
         "showlegend": false,
         "textfont": {
          "size": 9
         },
         "textposition": "auto",
         "texttemplate": "%{y:.1f}",
         "type": "bar",
         "x": [
          "Bus",
          "HD Truck",
          "MD Truck"
         ],
         "xaxis": "x2",
         "y": [
          2.7482079460361195,
          0,
          3.249992173073575
         ],
         "yaxis": "y2"
        },
        {
         "alignmentgroup": "True",
         "hovertemplate": "Carrier=BEV<br>Period=2030<br>Vehicle Class=%{x}<br>New Capacity=%{y}<extra></extra>",
         "legendgroup": "BEV",
         "marker": {
          "color": "#0099C6",
          "pattern": {
           "shape": ""
          }
         },
         "name": "BEV",
         "offsetgroup": "BEV",
         "orientation": "v",
         "showlegend": false,
         "textfont": {
          "size": 9
         },
         "textposition": "auto",
         "texttemplate": "%{y:.1f}",
         "type": "bar",
         "x": [
          "Bus",
          "HD Truck",
          "MD Truck"
         ],
         "xaxis": "x3",
         "y": [
          12.37619185031782,
          1.410003009070964,
          9.79222357123416
         ],
         "yaxis": "y3"
        },
        {
         "alignmentgroup": "True",
         "hovertemplate": "Carrier=BEV<br>Period=2035<br>Vehicle Class=%{x}<br>New Capacity=%{y}<extra></extra>",
         "legendgroup": "BEV",
         "marker": {
          "color": "#0099C6",
          "pattern": {
           "shape": ""
          }
         },
         "name": "BEV",
         "offsetgroup": "BEV",
         "orientation": "v",
         "showlegend": false,
         "textfont": {
          "size": 9
         },
         "textposition": "auto",
         "texttemplate": "%{y:.1f}",
         "type": "bar",
         "x": [
          "Bus",
          "HD Truck",
          "MD Truck"
         ],
         "xaxis": "x4",
         "y": [
          8.88239240096891,
          3.202046449498052,
          34.1150860040643
         ],
         "yaxis": "y4"
        },
        {
         "alignmentgroup": "True",
         "hovertemplate": "Carrier=BEV<br>Period=2040<br>Vehicle Class=%{x}<br>New Capacity=%{y}<extra></extra>",
         "legendgroup": "BEV",
         "marker": {
          "color": "#0099C6",
          "pattern": {
           "shape": ""
          }
         },
         "name": "BEV",
         "offsetgroup": "BEV",
         "orientation": "v",
         "showlegend": false,
         "textfont": {
          "size": 9
         },
         "textposition": "auto",
         "texttemplate": "%{y:.1f}",
         "type": "bar",
         "x": [
          "Bus",
          "HD Truck",
          "MD Truck"
         ],
         "xaxis": "x5",
         "y": [
          7.627008808930395,
          5.992012391698912,
          43.60814374311423
         ],
         "yaxis": "y5"
        },
        {
         "alignmentgroup": "True",
         "hovertemplate": "Carrier=BEV<br>Period=2045<br>Vehicle Class=%{x}<br>New Capacity=%{y}<extra></extra>",
         "legendgroup": "BEV",
         "marker": {
          "color": "#0099C6",
          "pattern": {
           "shape": ""
          }
         },
         "name": "BEV",
         "offsetgroup": "BEV",
         "orientation": "v",
         "showlegend": false,
         "textfont": {
          "size": 9
         },
         "textposition": "auto",
         "texttemplate": "%{y:.1f}",
         "type": "bar",
         "x": [
          "Bus",
          "HD Truck",
          "MD Truck"
         ],
         "xaxis": "x6",
         "y": [
          12.994501713346121,
          1.686896891367456,
          42.79768446247561
         ],
         "yaxis": "y6"
        },
        {
         "alignmentgroup": "True",
         "hovertemplate": "Carrier=BEV<br>Period=2050<br>Vehicle Class=%{x}<br>New Capacity=%{y}<extra></extra>",
         "legendgroup": "BEV",
         "marker": {
          "color": "#0099C6",
          "pattern": {
           "shape": ""
          }
         },
         "name": "BEV",
         "offsetgroup": "BEV",
         "orientation": "v",
         "showlegend": false,
         "textfont": {
          "size": 9
         },
         "textposition": "auto",
         "texttemplate": "%{y:.1f}",
         "type": "bar",
         "x": [
          "Bus",
          "HD Truck",
          "MD Truck"
         ],
         "xaxis": "x7",
         "y": [
          10.329527543033647,
          3.530428568058224,
          83.72967953527115
         ],
         "yaxis": "y7"
        },
        {
         "alignmentgroup": "True",
         "hovertemplate": "Carrier=FCEV<br>Period=2021<br>Vehicle Class=%{x}<br>New Capacity=%{y}<extra></extra>",
         "legendgroup": "FCEV",
         "marker": {
          "color": "#DD4477",
          "pattern": {
           "shape": ""
          }
         },
         "name": "FCEV",
         "offsetgroup": "FCEV",
         "orientation": "v",
         "showlegend": true,
         "textfont": {
          "size": 9
         },
         "textposition": "auto",
         "texttemplate": "%{y:.1f}",
         "type": "bar",
         "x": [
          "Bus",
          "HD Truck",
          "MD Truck"
         ],
         "xaxis": "x",
         "y": [
          0,
          0,
          0
         ],
         "yaxis": "y"
        },
        {
         "alignmentgroup": "True",
         "hovertemplate": "Carrier=FCEV<br>Period=2025<br>Vehicle Class=%{x}<br>New Capacity=%{y}<extra></extra>",
         "legendgroup": "FCEV",
         "marker": {
          "color": "#DD4477",
          "pattern": {
           "shape": ""
          }
         },
         "name": "FCEV",
         "offsetgroup": "FCEV",
         "orientation": "v",
         "showlegend": false,
         "textfont": {
          "size": 9
         },
         "textposition": "auto",
         "texttemplate": "%{y:.1f}",
         "type": "bar",
         "x": [
          "Bus",
          "HD Truck",
          "MD Truck"
         ],
         "xaxis": "x2",
         "y": [
          4.557983117441574,
          0.8714665517182125,
          2.5583588988640984
         ],
         "yaxis": "y2"
        },
        {
         "alignmentgroup": "True",
         "hovertemplate": "Carrier=FCEV<br>Period=2030<br>Vehicle Class=%{x}<br>New Capacity=%{y}<extra></extra>",
         "legendgroup": "FCEV",
         "marker": {
          "color": "#DD4477",
          "pattern": {
           "shape": ""
          }
         },
         "name": "FCEV",
         "offsetgroup": "FCEV",
         "orientation": "v",
         "showlegend": false,
         "textfont": {
          "size": 9
         },
         "textposition": "auto",
         "texttemplate": "%{y:.1f}",
         "type": "bar",
         "x": [
          "Bus",
          "HD Truck",
          "MD Truck"
         ],
         "xaxis": "x3",
         "y": [
          0.05771099042555428,
          2.659682235656635,
          4.566549826428612
         ],
         "yaxis": "y3"
        },
        {
         "alignmentgroup": "True",
         "hovertemplate": "Carrier=FCEV<br>Period=2035<br>Vehicle Class=%{x}<br>New Capacity=%{y}<extra></extra>",
         "legendgroup": "FCEV",
         "marker": {
          "color": "#DD4477",
          "pattern": {
           "shape": ""
          }
         },
         "name": "FCEV",
         "offsetgroup": "FCEV",
         "orientation": "v",
         "showlegend": false,
         "textfont": {
          "size": 9
         },
         "textposition": "auto",
         "texttemplate": "%{y:.1f}",
         "type": "bar",
         "x": [
          "Bus",
          "HD Truck",
          "MD Truck"
         ],
         "xaxis": "x4",
         "y": [
          0.04242472987682877,
          4.7904758584343075,
          20.89371810307304
         ],
         "yaxis": "y4"
        },
        {
         "alignmentgroup": "True",
         "hovertemplate": "Carrier=FCEV<br>Period=2040<br>Vehicle Class=%{x}<br>New Capacity=%{y}<extra></extra>",
         "legendgroup": "FCEV",
         "marker": {
          "color": "#DD4477",
          "pattern": {
           "shape": ""
          }
         },
         "name": "FCEV",
         "offsetgroup": "FCEV",
         "orientation": "v",
         "showlegend": false,
         "textfont": {
          "size": 9
         },
         "textposition": "auto",
         "texttemplate": "%{y:.1f}",
         "type": "bar",
         "x": [
          "Bus",
          "HD Truck",
          "MD Truck"
         ],
         "xaxis": "x5",
         "y": [
          0.453046634632068,
          8.265285972024786,
          10.901516198190278
         ],
         "yaxis": "y5"
        },
        {
         "alignmentgroup": "True",
         "hovertemplate": "Carrier=FCEV<br>Period=2045<br>Vehicle Class=%{x}<br>New Capacity=%{y}<extra></extra>",
         "legendgroup": "FCEV",
         "marker": {
          "color": "#DD4477",
          "pattern": {
           "shape": ""
          }
         },
         "name": "FCEV",
         "offsetgroup": "FCEV",
         "orientation": "v",
         "showlegend": false,
         "textfont": {
          "size": 9
         },
         "textposition": "auto",
         "texttemplate": "%{y:.1f}",
         "type": "bar",
         "x": [
          "Bus",
          "HD Truck",
          "MD Truck"
         ],
         "xaxis": "x6",
         "y": [
          0.011165119930654752,
          10.193710972209352,
          5.754643525122116
         ],
         "yaxis": "y6"
        },
        {
         "alignmentgroup": "True",
         "hovertemplate": "Carrier=FCEV<br>Period=2050<br>Vehicle Class=%{x}<br>New Capacity=%{y}<extra></extra>",
         "legendgroup": "FCEV",
         "marker": {
          "color": "#DD4477",
          "pattern": {
           "shape": ""
          }
         },
         "name": "FCEV",
         "offsetgroup": "FCEV",
         "orientation": "v",
         "showlegend": false,
         "textfont": {
          "size": 9
         },
         "textposition": "auto",
         "texttemplate": "%{y:.1f}",
         "type": "bar",
         "x": [
          "Bus",
          "HD Truck",
          "MD Truck"
         ],
         "xaxis": "x7",
         "y": [
          0.006705535159366898,
          14.223431175303558,
          0.0009744776213366802
         ],
         "yaxis": "y7"
        }
       ],
       "layout": {
        "annotations": [
         {
          "font": {},
          "showarrow": false,
          "text": "2021",
          "x": 0.06285714285714285,
          "xanchor": "center",
          "xref": "paper",
          "y": -0.08,
          "yanchor": "top",
          "yref": "paper"
         },
         {
          "font": {},
          "showarrow": false,
          "text": "2025",
          "x": 0.20857142857142852,
          "xanchor": "center",
          "xref": "paper",
          "y": -0.08,
          "yanchor": "top",
          "yref": "paper"
         },
         {
          "font": {},
          "showarrow": false,
          "text": "2030",
          "x": 0.3542857142857142,
          "xanchor": "center",
          "xref": "paper",
          "y": -0.08,
          "yanchor": "top",
          "yref": "paper"
         },
         {
          "font": {},
          "showarrow": false,
          "text": "2035",
          "x": 0.5,
          "xanchor": "center",
          "xref": "paper",
          "y": -0.08,
          "yanchor": "top",
          "yref": "paper"
         },
         {
          "font": {},
          "showarrow": false,
          "text": "2040",
          "x": 0.6457142857142856,
          "xanchor": "center",
          "xref": "paper",
          "y": -0.08,
          "yanchor": "top",
          "yref": "paper"
         },
         {
          "font": {},
          "showarrow": false,
          "text": "2045",
          "x": 0.7914285714285713,
          "xanchor": "center",
          "xref": "paper",
          "y": -0.08,
          "yanchor": "top",
          "yref": "paper"
         },
         {
          "font": {},
          "showarrow": false,
          "text": "2050",
          "x": 0.937142857142857,
          "xanchor": "center",
          "xref": "paper",
          "y": -0.08,
          "yanchor": "top",
          "yref": "paper"
         }
        ],
        "bargap": 0.1,
        "barmode": "stack",
        "font": {
         "size": 14
        },
        "height": 650,
        "legend": {
         "orientation": "h",
         "title": {
          "text": ""
         },
         "tracegroupgap": 0,
         "x": 0.5,
         "xanchor": "center",
         "y": 1.03,
         "yanchor": "top"
        },
        "margin": {
         "t": 60
        },
        "template": {
         "data": {
          "bar": [
           {
            "error_x": {
             "color": "#2a3f5f"
            },
            "error_y": {
             "color": "#2a3f5f"
            },
            "marker": {
             "line": {
              "color": "white",
              "width": 0.5
             },
             "pattern": {
              "fillmode": "overlay",
              "size": 10,
              "solidity": 0.2
             }
            },
            "type": "bar"
           }
          ],
          "barpolar": [
           {
            "marker": {
             "line": {
              "color": "white",
              "width": 0.5
             },
             "pattern": {
              "fillmode": "overlay",
              "size": 10,
              "solidity": 0.2
             }
            },
            "type": "barpolar"
           }
          ],
          "carpet": [
           {
            "aaxis": {
             "endlinecolor": "#2a3f5f",
             "gridcolor": "#C8D4E3",
             "linecolor": "#C8D4E3",
             "minorgridcolor": "#C8D4E3",
             "startlinecolor": "#2a3f5f"
            },
            "baxis": {
             "endlinecolor": "#2a3f5f",
             "gridcolor": "#C8D4E3",
             "linecolor": "#C8D4E3",
             "minorgridcolor": "#C8D4E3",
             "startlinecolor": "#2a3f5f"
            },
            "type": "carpet"
           }
          ],
          "choropleth": [
           {
            "colorbar": {
             "outlinewidth": 0,
             "ticks": ""
            },
            "type": "choropleth"
           }
          ],
          "contour": [
           {
            "colorbar": {
             "outlinewidth": 0,
             "ticks": ""
            },
            "colorscale": [
             [
              0,
              "#0d0887"
             ],
             [
              0.1111111111111111,
              "#46039f"
             ],
             [
              0.2222222222222222,
              "#7201a8"
             ],
             [
              0.3333333333333333,
              "#9c179e"
             ],
             [
              0.4444444444444444,
              "#bd3786"
             ],
             [
              0.5555555555555556,
              "#d8576b"
             ],
             [
              0.6666666666666666,
              "#ed7953"
             ],
             [
              0.7777777777777778,
              "#fb9f3a"
             ],
             [
              0.8888888888888888,
              "#fdca26"
             ],
             [
              1,
              "#f0f921"
             ]
            ],
            "type": "contour"
           }
          ],
          "contourcarpet": [
           {
            "colorbar": {
             "outlinewidth": 0,
             "ticks": ""
            },
            "type": "contourcarpet"
           }
          ],
          "heatmap": [
           {
            "colorbar": {
             "outlinewidth": 0,
             "ticks": ""
            },
            "colorscale": [
             [
              0,
              "#0d0887"
             ],
             [
              0.1111111111111111,
              "#46039f"
             ],
             [
              0.2222222222222222,
              "#7201a8"
             ],
             [
              0.3333333333333333,
              "#9c179e"
             ],
             [
              0.4444444444444444,
              "#bd3786"
             ],
             [
              0.5555555555555556,
              "#d8576b"
             ],
             [
              0.6666666666666666,
              "#ed7953"
             ],
             [
              0.7777777777777778,
              "#fb9f3a"
             ],
             [
              0.8888888888888888,
              "#fdca26"
             ],
             [
              1,
              "#f0f921"
             ]
            ],
            "type": "heatmap"
           }
          ],
          "heatmapgl": [
           {
            "colorbar": {
             "outlinewidth": 0,
             "ticks": ""
            },
            "colorscale": [
             [
              0,
              "#0d0887"
             ],
             [
              0.1111111111111111,
              "#46039f"
             ],
             [
              0.2222222222222222,
              "#7201a8"
             ],
             [
              0.3333333333333333,
              "#9c179e"
             ],
             [
              0.4444444444444444,
              "#bd3786"
             ],
             [
              0.5555555555555556,
              "#d8576b"
             ],
             [
              0.6666666666666666,
              "#ed7953"
             ],
             [
              0.7777777777777778,
              "#fb9f3a"
             ],
             [
              0.8888888888888888,
              "#fdca26"
             ],
             [
              1,
              "#f0f921"
             ]
            ],
            "type": "heatmapgl"
           }
          ],
          "histogram": [
           {
            "marker": {
             "pattern": {
              "fillmode": "overlay",
              "size": 10,
              "solidity": 0.2
             }
            },
            "type": "histogram"
           }
          ],
          "histogram2d": [
           {
            "colorbar": {
             "outlinewidth": 0,
             "ticks": ""
            },
            "colorscale": [
             [
              0,
              "#0d0887"
             ],
             [
              0.1111111111111111,
              "#46039f"
             ],
             [
              0.2222222222222222,
              "#7201a8"
             ],
             [
              0.3333333333333333,
              "#9c179e"
             ],
             [
              0.4444444444444444,
              "#bd3786"
             ],
             [
              0.5555555555555556,
              "#d8576b"
             ],
             [
              0.6666666666666666,
              "#ed7953"
             ],
             [
              0.7777777777777778,
              "#fb9f3a"
             ],
             [
              0.8888888888888888,
              "#fdca26"
             ],
             [
              1,
              "#f0f921"
             ]
            ],
            "type": "histogram2d"
           }
          ],
          "histogram2dcontour": [
           {
            "colorbar": {
             "outlinewidth": 0,
             "ticks": ""
            },
            "colorscale": [
             [
              0,
              "#0d0887"
             ],
             [
              0.1111111111111111,
              "#46039f"
             ],
             [
              0.2222222222222222,
              "#7201a8"
             ],
             [
              0.3333333333333333,
              "#9c179e"
             ],
             [
              0.4444444444444444,
              "#bd3786"
             ],
             [
              0.5555555555555556,
              "#d8576b"
             ],
             [
              0.6666666666666666,
              "#ed7953"
             ],
             [
              0.7777777777777778,
              "#fb9f3a"
             ],
             [
              0.8888888888888888,
              "#fdca26"
             ],
             [
              1,
              "#f0f921"
             ]
            ],
            "type": "histogram2dcontour"
           }
          ],
          "mesh3d": [
           {
            "colorbar": {
             "outlinewidth": 0,
             "ticks": ""
            },
            "type": "mesh3d"
           }
          ],
          "parcoords": [
           {
            "line": {
             "colorbar": {
              "outlinewidth": 0,
              "ticks": ""
             }
            },
            "type": "parcoords"
           }
          ],
          "pie": [
           {
            "automargin": true,
            "type": "pie"
           }
          ],
          "scatter": [
           {
            "fillpattern": {
             "fillmode": "overlay",
             "size": 10,
             "solidity": 0.2
            },
            "type": "scatter"
           }
          ],
          "scatter3d": [
           {
            "line": {
             "colorbar": {
              "outlinewidth": 0,
              "ticks": ""
             }
            },
            "marker": {
             "colorbar": {
              "outlinewidth": 0,
              "ticks": ""
             }
            },
            "type": "scatter3d"
           }
          ],
          "scattercarpet": [
           {
            "marker": {
             "colorbar": {
              "outlinewidth": 0,
              "ticks": ""
             }
            },
            "type": "scattercarpet"
           }
          ],
          "scattergeo": [
           {
            "marker": {
             "colorbar": {
              "outlinewidth": 0,
              "ticks": ""
             }
            },
            "type": "scattergeo"
           }
          ],
          "scattergl": [
           {
            "marker": {
             "colorbar": {
              "outlinewidth": 0,
              "ticks": ""
             }
            },
            "type": "scattergl"
           }
          ],
          "scattermapbox": [
           {
            "marker": {
             "colorbar": {
              "outlinewidth": 0,
              "ticks": ""
             }
            },
            "type": "scattermapbox"
           }
          ],
          "scatterpolar": [
           {
            "marker": {
             "colorbar": {
              "outlinewidth": 0,
              "ticks": ""
             }
            },
            "type": "scatterpolar"
           }
          ],
          "scatterpolargl": [
           {
            "marker": {
             "colorbar": {
              "outlinewidth": 0,
              "ticks": ""
             }
            },
            "type": "scatterpolargl"
           }
          ],
          "scatterternary": [
           {
            "marker": {
             "colorbar": {
              "outlinewidth": 0,
              "ticks": ""
             }
            },
            "type": "scatterternary"
           }
          ],
          "surface": [
           {
            "colorbar": {
             "outlinewidth": 0,
             "ticks": ""
            },
            "colorscale": [
             [
              0,
              "#0d0887"
             ],
             [
              0.1111111111111111,
              "#46039f"
             ],
             [
              0.2222222222222222,
              "#7201a8"
             ],
             [
              0.3333333333333333,
              "#9c179e"
             ],
             [
              0.4444444444444444,
              "#bd3786"
             ],
             [
              0.5555555555555556,
              "#d8576b"
             ],
             [
              0.6666666666666666,
              "#ed7953"
             ],
             [
              0.7777777777777778,
              "#fb9f3a"
             ],
             [
              0.8888888888888888,
              "#fdca26"
             ],
             [
              1,
              "#f0f921"
             ]
            ],
            "type": "surface"
           }
          ],
          "table": [
           {
            "cells": {
             "fill": {
              "color": "#EBF0F8"
             },
             "line": {
              "color": "white"
             }
            },
            "header": {
             "fill": {
              "color": "#C8D4E3"
             },
             "line": {
              "color": "white"
             }
            },
            "type": "table"
           }
          ]
         },
         "layout": {
          "annotationdefaults": {
           "arrowcolor": "#2a3f5f",
           "arrowhead": 0,
           "arrowwidth": 1
          },
          "autotypenumbers": "strict",
          "coloraxis": {
           "colorbar": {
            "outlinewidth": 0,
            "ticks": ""
           }
          },
          "colorscale": {
           "diverging": [
            [
             0,
             "#8e0152"
            ],
            [
             0.1,
             "#c51b7d"
            ],
            [
             0.2,
             "#de77ae"
            ],
            [
             0.3,
             "#f1b6da"
            ],
            [
             0.4,
             "#fde0ef"
            ],
            [
             0.5,
             "#f7f7f7"
            ],
            [
             0.6,
             "#e6f5d0"
            ],
            [
             0.7,
             "#b8e186"
            ],
            [
             0.8,
             "#7fbc41"
            ],
            [
             0.9,
             "#4d9221"
            ],
            [
             1,
             "#276419"
            ]
           ],
           "sequential": [
            [
             0,
             "#0d0887"
            ],
            [
             0.1111111111111111,
             "#46039f"
            ],
            [
             0.2222222222222222,
             "#7201a8"
            ],
            [
             0.3333333333333333,
             "#9c179e"
            ],
            [
             0.4444444444444444,
             "#bd3786"
            ],
            [
             0.5555555555555556,
             "#d8576b"
            ],
            [
             0.6666666666666666,
             "#ed7953"
            ],
            [
             0.7777777777777778,
             "#fb9f3a"
            ],
            [
             0.8888888888888888,
             "#fdca26"
            ],
            [
             1,
             "#f0f921"
            ]
           ],
           "sequentialminus": [
            [
             0,
             "#0d0887"
            ],
            [
             0.1111111111111111,
             "#46039f"
            ],
            [
             0.2222222222222222,
             "#7201a8"
            ],
            [
             0.3333333333333333,
             "#9c179e"
            ],
            [
             0.4444444444444444,
             "#bd3786"
            ],
            [
             0.5555555555555556,
             "#d8576b"
            ],
            [
             0.6666666666666666,
             "#ed7953"
            ],
            [
             0.7777777777777778,
             "#fb9f3a"
            ],
            [
             0.8888888888888888,
             "#fdca26"
            ],
            [
             1,
             "#f0f921"
            ]
           ]
          },
          "colorway": [
           "#636efa",
           "#EF553B",
           "#00cc96",
           "#ab63fa",
           "#FFA15A",
           "#19d3f3",
           "#FF6692",
           "#B6E880",
           "#FF97FF",
           "#FECB52"
          ],
          "font": {
           "color": "#2a3f5f"
          },
          "geo": {
           "bgcolor": "white",
           "lakecolor": "white",
           "landcolor": "white",
           "showlakes": true,
           "showland": true,
           "subunitcolor": "#C8D4E3"
          },
          "hoverlabel": {
           "align": "left"
          },
          "hovermode": "closest",
          "mapbox": {
           "style": "light"
          },
          "paper_bgcolor": "white",
          "plot_bgcolor": "white",
          "polar": {
           "angularaxis": {
            "gridcolor": "#EBF0F8",
            "linecolor": "#EBF0F8",
            "ticks": ""
           },
           "bgcolor": "white",
           "radialaxis": {
            "gridcolor": "#EBF0F8",
            "linecolor": "#EBF0F8",
            "ticks": ""
           }
          },
          "scene": {
           "xaxis": {
            "backgroundcolor": "white",
            "gridcolor": "#DFE8F3",
            "gridwidth": 2,
            "linecolor": "#EBF0F8",
            "showbackground": true,
            "ticks": "",
            "zerolinecolor": "#EBF0F8"
           },
           "yaxis": {
            "backgroundcolor": "white",
            "gridcolor": "#DFE8F3",
            "gridwidth": 2,
            "linecolor": "#EBF0F8",
            "showbackground": true,
            "ticks": "",
            "zerolinecolor": "#EBF0F8"
           },
           "zaxis": {
            "backgroundcolor": "white",
            "gridcolor": "#DFE8F3",
            "gridwidth": 2,
            "linecolor": "#EBF0F8",
            "showbackground": true,
            "ticks": "",
            "zerolinecolor": "#EBF0F8"
           }
          },
          "shapedefaults": {
           "line": {
            "color": "#2a3f5f"
           }
          },
          "ternary": {
           "aaxis": {
            "gridcolor": "#DFE8F3",
            "linecolor": "#A2B1C6",
            "ticks": ""
           },
           "baxis": {
            "gridcolor": "#DFE8F3",
            "linecolor": "#A2B1C6",
            "ticks": ""
           },
           "bgcolor": "white",
           "caxis": {
            "gridcolor": "#DFE8F3",
            "linecolor": "#A2B1C6",
            "ticks": ""
           }
          },
          "title": {
           "x": 0.05
          },
          "xaxis": {
           "automargin": true,
           "gridcolor": "#EBF0F8",
           "linecolor": "#EBF0F8",
           "ticks": "",
           "title": {
            "standoff": 15
           },
           "zerolinecolor": "#EBF0F8",
           "zerolinewidth": 2
          },
          "yaxis": {
           "automargin": true,
           "gridcolor": "#EBF0F8",
           "linecolor": "#EBF0F8",
           "ticks": "",
           "title": {
            "standoff": 15
           },
           "zerolinecolor": "#EBF0F8",
           "zerolinewidth": 2
          }
         }
        },
        "title": {
         "text": "Transportation fleet expansion in ON by vehicle class and drivetrain",
         "x": 0.5,
         "xanchor": "center",
         "y": 0.97,
         "yanchor": "top"
        },
        "width": 1000,
        "xaxis": {
         "anchor": "y",
         "domain": [
          0,
          0.1257142857142857
         ],
         "title": {
          "text": ""
         }
        },
        "xaxis2": {
         "anchor": "y2",
         "domain": [
          0.14571428571428569,
          0.27142857142857135
         ],
         "matches": "x",
         "title": {
          "text": ""
         }
        },
        "xaxis3": {
         "anchor": "y3",
         "domain": [
          0.29142857142857137,
          0.41714285714285704
         ],
         "matches": "x",
         "title": {
          "text": ""
         }
        },
        "xaxis4": {
         "anchor": "y4",
         "domain": [
          0.4371428571428571,
          0.5628571428571428
         ],
         "matches": "x",
         "title": {
          "text": ""
         }
        },
        "xaxis5": {
         "anchor": "y5",
         "domain": [
          0.5828571428571427,
          0.7085714285714284
         ],
         "matches": "x",
         "title": {
          "text": ""
         }
        },
        "xaxis6": {
         "anchor": "y6",
         "domain": [
          0.7285714285714284,
          0.8542857142857141
         ],
         "matches": "x",
         "title": {
          "text": ""
         }
        },
        "xaxis7": {
         "anchor": "y7",
         "domain": [
          0.8742857142857142,
          0.9999999999999999
         ],
         "matches": "x",
         "title": {
          "text": ""
         }
        },
        "yaxis": {
         "anchor": "x",
         "domain": [
          0,
          1
         ],
         "dtick": 20,
         "title": {
          "standoff": 0,
          "text": "New vehicles (k units)"
         }
        },
        "yaxis2": {
         "anchor": "x2",
         "domain": [
          0,
          1
         ],
         "dtick": 20,
         "matches": "y",
         "showticklabels": false
        },
        "yaxis3": {
         "anchor": "x3",
         "domain": [
          0,
          1
         ],
         "dtick": 20,
         "matches": "y",
         "showticklabels": false
        },
        "yaxis4": {
         "anchor": "x4",
         "domain": [
          0,
          1
         ],
         "dtick": 20,
         "matches": "y",
         "showticklabels": false
        },
        "yaxis5": {
         "anchor": "x5",
         "domain": [
          0,
          1
         ],
         "dtick": 20,
         "matches": "y",
         "showticklabels": false
        },
        "yaxis6": {
         "anchor": "x6",
         "domain": [
          0,
          1
         ],
         "dtick": 20,
         "matches": "y",
         "showticklabels": false
        },
        "yaxis7": {
         "anchor": "x7",
         "domain": [
          0,
          1
         ],
         "dtick": 20,
         "matches": "y",
         "showticklabels": false
        }
       }
      }
     },
     "metadata": {},
     "output_type": "display_data"
    }
   ],
   "source": [
    "ref_fig = ref_trnnewcap[ref_trnnewcap['Vehicle Class'].isin(['Bus', 'MD Truck', 'HD Truck'])][['Period', 'Vehicle Class', 'New Capacity', 'Carrier']].groupby(['Period', 'Vehicle Class', 'Carrier'], as_index=False).sum()\n",
    "ref_fig['New Capacity (M units)'] = ref_fig['New Capacity']/1E3\n",
    "\n",
    "ref_fig['Carrier'] = pd.Categorical(ref_fig['Carrier'], categories=drivetrain_order, ordered=True)\n",
    "ref_fig = ref_fig.sort_values(['Carrier', 'Period'])\n",
    "\n",
    "fig = px.bar(ref_fig, \n",
    "             x='Vehicle Class', \n",
    "             y='New Capacity', \n",
    "             color='Carrier', \n",
    "             barmode='stack', \n",
    "             facet_col='Period',\n",
    "             facet_col_spacing=2E-2,\n",
    "             template='plotly_white',\n",
    "             color_discrete_sequence=px.colors.qualitative.G10[:7] + px.colors.qualitative.G10[8:],\n",
    "             text_auto='.1f',\n",
    "             width=1000, height=650,\n",
    "             )\n",
    "\n",
    "fig.update_layout(title=dict(\n",
    "        text='Transportation fleet expansion in ON by vehicle class and drivetrain',\n",
    "        x=0.5, \n",
    "        y=0.97,\n",
    "        xanchor='center',\n",
    "        yanchor='top'\n",
    "    ),\n",
    "    xaxis=dict(title='Period'),\n",
    "    yaxis=dict(title='New vehicles (k units)',\n",
    "               dtick=20),\n",
    "    yaxis_title_standoff=0,\n",
    "    legend_title_text='',\n",
    "    bargap=0.1,\n",
    "    legend=dict(\n",
    "        orientation='h',  \n",
    "        yanchor='top',\n",
    "        y=1.03,  \n",
    "        xanchor='center',\n",
    "        x=0.5),\n",
    "    font=dict(\n",
    "        # family=\"Open Sans\",\n",
    "        size=14)\n",
    "    )\n",
    "\n",
    "for annotation in fig.layout.annotations:\n",
    "    annotation.text = annotation.text.split('=')[1]\n",
    "    annotation.y = -0.08  \n",
    "    annotation.yanchor = 'top' \n",
    "\n",
    "for axis in fig.layout:\n",
    "    if axis.startswith('yaxis'):\n",
    "        fig.layout[axis].dtick = 20\n",
    "\n",
    "for axis in fig.layout:\n",
    "    if axis.startswith('xaxis'):\n",
    "        fig.layout[axis].title.text = ''\n",
    "\n",
    "fig.for_each_trace(lambda trace: trace.update(textfont=dict(size=9)))\n",
    "\n",
    "fig.show()"
   ]
  },
  {
   "cell_type": "code",
   "execution_count": 142,
   "metadata": {},
   "outputs": [],
   "source": [
    "gtech_class_mapping = {\n",
    "    'LD Car': 'LDV',\n",
    "    'LD Truck': 'LDV',\n",
    "    'HD Truck': 'HDV',\n",
    "}\n",
    "\n",
    "gtech_carrier_mapping = {\n",
    "    'CNG': 'ICEV',\n",
    "    'HEV': 'ICEV',\n",
    "    'PHEV': 'ICEV',\n",
    "    'Diesel': 'ICEV',\n",
    "    'Gasoline': 'ICEV',\n",
    "    'BEV': 'BEV',\n",
    "    'FCEV': 'FCEV',\n",
    "}"
   ]
  },
  {
   "cell_type": "code",
   "execution_count": 143,
   "metadata": {},
   "outputs": [
    {
     "data": {
      "application/vnd.plotly.v1+json": {
       "config": {
        "plotlyServerURL": "https://plot.ly"
       },
       "data": [
        {
         "fillpattern": {
          "shape": ""
         },
         "hovertemplate": "Drivetrain=BEV<br>Class=LDV<br>Source=CANOE<br>Period=%{x}<br>Market Share (%)=%{y}<extra></extra>",
         "legendgroup": "BEV",
         "line": {
          "color": "#636efa"
         },
         "marker": {
          "symbol": "circle"
         },
         "mode": "lines",
         "name": "BEV",
         "orientation": "v",
         "showlegend": true,
         "stackgroup": "1",
         "type": "scatter",
         "x": [
          "2021",
          "2025",
          "2030",
          "2035",
          "2040",
          "2045",
          "2050"
         ],
         "xaxis": "x3",
         "y": [
          5.869586241495658,
          21.890433008898004,
          34.14415185406507,
          37.53755413741361,
          45.5009547324364,
          48.66293885371868,
          45.36627325946471
         ],
         "yaxis": "y3"
        },
        {
         "fillpattern": {
          "shape": ""
         },
         "hovertemplate": "Drivetrain=BEV<br>Class=LDV<br>Source=gTech-IESD<br>Period=%{x}<br>Market Share (%)=%{y}<extra></extra>",
         "legendgroup": "BEV",
         "line": {
          "color": "#636efa"
         },
         "marker": {
          "symbol": "circle"
         },
         "mode": "lines",
         "name": "BEV",
         "orientation": "v",
         "showlegend": false,
         "stackgroup": "1",
         "type": "scatter",
         "x": [
          "2021",
          "2025",
          "2030",
          "2035",
          "2040",
          "2045",
          "2050"
         ],
         "xaxis": "x4",
         "y": [
          1.6048756384,
          3.290410276,
          9.122431832,
          24.21289582,
          37.77109615,
          48.85986564,
          54.22833528
         ],
         "yaxis": "y4"
        },
        {
         "fillpattern": {
          "shape": ""
         },
         "hovertemplate": "Drivetrain=BEV<br>Class=HDV<br>Source=CANOE<br>Period=%{x}<br>Market Share (%)=%{y}<extra></extra>",
         "legendgroup": "BEV",
         "line": {
          "color": "#636efa"
         },
         "marker": {
          "symbol": "circle"
         },
         "mode": "lines",
         "name": "BEV",
         "orientation": "v",
         "showlegend": false,
         "stackgroup": "1",
         "type": "scatter",
         "x": [
          "2021",
          "2025",
          "2030",
          "2035",
          "2040",
          "2045",
          "2050"
         ],
         "xaxis": "x",
         "y": [
          0,
          0,
          3.297523341707259,
          6.7844707674345015,
          9.335294730732162,
          4.104773283688455,
          6.143786889371296
         ],
         "yaxis": "y"
        },
        {
         "fillpattern": {
          "shape": ""
         },
         "hovertemplate": "Drivetrain=BEV<br>Class=HDV<br>Source=gTech-IESD<br>Period=%{x}<br>Market Share (%)=%{y}<extra></extra>",
         "legendgroup": "BEV",
         "line": {
          "color": "#636efa"
         },
         "marker": {
          "symbol": "circle"
         },
         "mode": "lines",
         "name": "BEV",
         "orientation": "v",
         "showlegend": false,
         "stackgroup": "1",
         "type": "scatter",
         "x": [
          "2021",
          "2025",
          "2030",
          "2035",
          "2040",
          "2045",
          "2050"
         ],
         "xaxis": "x2",
         "y": [
          0,
          0,
          1.175884875,
          2.455146146,
          3.654034012,
          4.38461547,
          4.567742631
         ],
         "yaxis": "y2"
        },
        {
         "fillpattern": {
          "shape": ""
         },
         "hovertemplate": "Drivetrain=FCEV<br>Class=LDV<br>Source=CANOE<br>Period=%{x}<br>Market Share (%)=%{y}<extra></extra>",
         "legendgroup": "FCEV",
         "line": {
          "color": "#EF553B"
         },
         "marker": {
          "symbol": "circle"
         },
         "mode": "lines",
         "name": "FCEV",
         "orientation": "v",
         "showlegend": true,
         "stackgroup": "1",
         "type": "scatter",
         "x": [
          "2021",
          "2025",
          "2030",
          "2035",
          "2040",
          "2045",
          "2050"
         ],
         "xaxis": "x3",
         "y": [
          0,
          0.0003553308178803433,
          0.0003552651502269375,
          0.00024029084191236544,
          0.0002518522280303966,
          0.00023006542813489516,
          0.00022244991412642643
         ],
         "yaxis": "y3"
        },
        {
         "fillpattern": {
          "shape": ""
         },
         "hovertemplate": "Drivetrain=FCEV<br>Class=LDV<br>Source=gTech-IESD<br>Period=%{x}<br>Market Share (%)=%{y}<extra></extra>",
         "legendgroup": "FCEV",
         "line": {
          "color": "#EF553B"
         },
         "marker": {
          "symbol": "circle"
         },
         "mode": "lines",
         "name": "FCEV",
         "orientation": "v",
         "showlegend": false,
         "stackgroup": "1",
         "type": "scatter",
         "x": [
          "2021",
          "2025",
          "2030",
          "2035",
          "2040",
          "2045",
          "2050"
         ],
         "xaxis": "x4",
         "y": [
          0.000038726,
          0.00019363,
          0.000269259,
          0.000338545,
          0.000383179,
          0.000457183,
          0.000593939
         ],
         "yaxis": "y4"
        },
        {
         "fillpattern": {
          "shape": ""
         },
         "hovertemplate": "Drivetrain=FCEV<br>Class=HDV<br>Source=CANOE<br>Period=%{x}<br>Market Share (%)=%{y}<extra></extra>",
         "legendgroup": "FCEV",
         "line": {
          "color": "#EF553B"
         },
         "marker": {
          "symbol": "circle"
         },
         "mode": "lines",
         "name": "FCEV",
         "orientation": "v",
         "showlegend": false,
         "stackgroup": "1",
         "type": "scatter",
         "x": [
          "2021",
          "2025",
          "2030",
          "2035",
          "2040",
          "2045",
          "2050"
         ],
         "xaxis": "x",
         "y": [
          0,
          3.757097478506588,
          6.220103217638238,
          10.150022473516286,
          12.876956110693325,
          24.804641394796544,
          24.752159204503638
         ],
         "yaxis": "y"
        },
        {
         "fillpattern": {
          "shape": ""
         },
         "hovertemplate": "Drivetrain=FCEV<br>Class=HDV<br>Source=gTech-IESD<br>Period=%{x}<br>Market Share (%)=%{y}<extra></extra>",
         "legendgroup": "FCEV",
         "line": {
          "color": "#EF553B"
         },
         "marker": {
          "symbol": "circle"
         },
         "mode": "lines",
         "name": "FCEV",
         "orientation": "v",
         "showlegend": false,
         "stackgroup": "1",
         "type": "scatter",
         "x": [
          "2021",
          "2025",
          "2030",
          "2035",
          "2040",
          "2045",
          "2050"
         ],
         "xaxis": "x2",
         "y": [
          0,
          0,
          0.714838827,
          1.986843545,
          3.254556205,
          4.200529189,
          4.594587849
         ],
         "yaxis": "y2"
        },
        {
         "fillpattern": {
          "shape": ""
         },
         "hovertemplate": "Drivetrain=ICEV<br>Class=LDV<br>Source=CANOE<br>Period=%{x}<br>Market Share (%)=%{y}<extra></extra>",
         "legendgroup": "ICEV",
         "line": {
          "color": "#00cc96"
         },
         "marker": {
          "symbol": "circle"
         },
         "mode": "lines",
         "name": "ICEV",
         "orientation": "v",
         "showlegend": true,
         "stackgroup": "1",
         "type": "scatter",
         "x": [
          "2021",
          "2025",
          "2030",
          "2035",
          "2040",
          "2045",
          "2050"
         ],
         "xaxis": "x3",
         "y": [
          94.13041375850433,
          78.10921166028412,
          65.85549288078471,
          62.46220557174448,
          54.49879341533557,
          51.336831080853194,
          54.63350429062115
         ],
         "yaxis": "y3"
        },
        {
         "fillpattern": {
          "shape": ""
         },
         "hovertemplate": "Drivetrain=ICEV<br>Class=LDV<br>Source=gTech-IESD<br>Period=%{x}<br>Market Share (%)=%{y}<extra></extra>",
         "legendgroup": "ICEV",
         "line": {
          "color": "#00cc96"
         },
         "marker": {
          "symbol": "circle"
         },
         "mode": "lines",
         "name": "ICEV",
         "orientation": "v",
         "showlegend": false,
         "stackgroup": "1",
         "type": "scatter",
         "x": [
          "2021",
          "2025",
          "2030",
          "2035",
          "2040",
          "2045",
          "2050"
         ],
         "xaxis": "x4",
         "y": [
          98.395085634,
          96.70939609,
          90.87729891,
          75.78676564,
          62.22852067,
          51.13967718,
          45.77107078
         ],
         "yaxis": "y4"
        },
        {
         "fillpattern": {
          "shape": ""
         },
         "hovertemplate": "Drivetrain=ICEV<br>Class=HDV<br>Source=CANOE<br>Period=%{x}<br>Market Share (%)=%{y}<extra></extra>",
         "legendgroup": "ICEV",
         "line": {
          "color": "#00cc96"
         },
         "marker": {
          "symbol": "circle"
         },
         "mode": "lines",
         "name": "ICEV",
         "orientation": "v",
         "showlegend": false,
         "stackgroup": "1",
         "type": "scatter",
         "x": [
          "2021",
          "2025",
          "2030",
          "2035",
          "2040",
          "2045",
          "2050"
         ],
         "xaxis": "x",
         "y": [
          100,
          96.2429025214934,
          90.4823734406545,
          83.06550675904921,
          77.78774915857453,
          71.09058532151501,
          69.10405390612507
         ],
         "yaxis": "y"
        },
        {
         "fillpattern": {
          "shape": ""
         },
         "hovertemplate": "Drivetrain=ICEV<br>Class=HDV<br>Source=gTech-IESD<br>Period=%{x}<br>Market Share (%)=%{y}<extra></extra>",
         "legendgroup": "ICEV",
         "line": {
          "color": "#00cc96"
         },
         "marker": {
          "symbol": "circle"
         },
         "mode": "lines",
         "name": "ICEV",
         "orientation": "v",
         "showlegend": false,
         "stackgroup": "1",
         "type": "scatter",
         "x": [
          "2021",
          "2025",
          "2030",
          "2035",
          "2040",
          "2045",
          "2050"
         ],
         "xaxis": "x2",
         "y": [
          100,
          100,
          98.1092763,
          95.55801031,
          93.09140978,
          91.41485534,
          90.83766952
         ],
         "yaxis": "y2"
        }
       ],
       "layout": {
        "annotations": [
         {
          "showarrow": false,
          "text": "Source=CANOE",
          "x": 0.24,
          "xanchor": "center",
          "xref": "paper",
          "y": 1,
          "yanchor": "bottom",
          "yref": "paper"
         },
         {
          "showarrow": false,
          "text": "Source=gTech-IESD",
          "x": 0.74,
          "xanchor": "center",
          "xref": "paper",
          "y": 1,
          "yanchor": "bottom",
          "yref": "paper"
         },
         {
          "showarrow": false,
          "text": "Class=HDV",
          "textangle": 90,
          "x": 0.98,
          "xanchor": "left",
          "xref": "paper",
          "y": 0.2475,
          "yanchor": "middle",
          "yref": "paper"
         },
         {
          "showarrow": false,
          "text": "Class=LDV",
          "textangle": 90,
          "x": 0.98,
          "xanchor": "left",
          "xref": "paper",
          "y": 0.7525,
          "yanchor": "middle",
          "yref": "paper"
         },
         {
          "font": {
           "size": 14
          },
          "showarrow": false,
          "text": "Market Share (%)",
          "textangle": -90,
          "x": -0.05,
          "xref": "paper",
          "y": 0.5,
          "yref": "paper"
         }
        ],
        "bargap": 0.1,
        "font": {
         "size": 13
        },
        "height": 600,
        "legend": {
         "orientation": "h",
         "title": {
          "text": ""
         },
         "tracegroupgap": 0,
         "x": 0.5,
         "xanchor": "center",
         "y": 1.05,
         "yanchor": "top"
        },
        "margin": {
         "t": 60
        },
        "template": {
         "data": {
          "bar": [
           {
            "error_x": {
             "color": "#2a3f5f"
            },
            "error_y": {
             "color": "#2a3f5f"
            },
            "marker": {
             "line": {
              "color": "white",
              "width": 0.5
             },
             "pattern": {
              "fillmode": "overlay",
              "size": 10,
              "solidity": 0.2
             }
            },
            "type": "bar"
           }
          ],
          "barpolar": [
           {
            "marker": {
             "line": {
              "color": "white",
              "width": 0.5
             },
             "pattern": {
              "fillmode": "overlay",
              "size": 10,
              "solidity": 0.2
             }
            },
            "type": "barpolar"
           }
          ],
          "carpet": [
           {
            "aaxis": {
             "endlinecolor": "#2a3f5f",
             "gridcolor": "#C8D4E3",
             "linecolor": "#C8D4E3",
             "minorgridcolor": "#C8D4E3",
             "startlinecolor": "#2a3f5f"
            },
            "baxis": {
             "endlinecolor": "#2a3f5f",
             "gridcolor": "#C8D4E3",
             "linecolor": "#C8D4E3",
             "minorgridcolor": "#C8D4E3",
             "startlinecolor": "#2a3f5f"
            },
            "type": "carpet"
           }
          ],
          "choropleth": [
           {
            "colorbar": {
             "outlinewidth": 0,
             "ticks": ""
            },
            "type": "choropleth"
           }
          ],
          "contour": [
           {
            "colorbar": {
             "outlinewidth": 0,
             "ticks": ""
            },
            "colorscale": [
             [
              0,
              "#0d0887"
             ],
             [
              0.1111111111111111,
              "#46039f"
             ],
             [
              0.2222222222222222,
              "#7201a8"
             ],
             [
              0.3333333333333333,
              "#9c179e"
             ],
             [
              0.4444444444444444,
              "#bd3786"
             ],
             [
              0.5555555555555556,
              "#d8576b"
             ],
             [
              0.6666666666666666,
              "#ed7953"
             ],
             [
              0.7777777777777778,
              "#fb9f3a"
             ],
             [
              0.8888888888888888,
              "#fdca26"
             ],
             [
              1,
              "#f0f921"
             ]
            ],
            "type": "contour"
           }
          ],
          "contourcarpet": [
           {
            "colorbar": {
             "outlinewidth": 0,
             "ticks": ""
            },
            "type": "contourcarpet"
           }
          ],
          "heatmap": [
           {
            "colorbar": {
             "outlinewidth": 0,
             "ticks": ""
            },
            "colorscale": [
             [
              0,
              "#0d0887"
             ],
             [
              0.1111111111111111,
              "#46039f"
             ],
             [
              0.2222222222222222,
              "#7201a8"
             ],
             [
              0.3333333333333333,
              "#9c179e"
             ],
             [
              0.4444444444444444,
              "#bd3786"
             ],
             [
              0.5555555555555556,
              "#d8576b"
             ],
             [
              0.6666666666666666,
              "#ed7953"
             ],
             [
              0.7777777777777778,
              "#fb9f3a"
             ],
             [
              0.8888888888888888,
              "#fdca26"
             ],
             [
              1,
              "#f0f921"
             ]
            ],
            "type": "heatmap"
           }
          ],
          "heatmapgl": [
           {
            "colorbar": {
             "outlinewidth": 0,
             "ticks": ""
            },
            "colorscale": [
             [
              0,
              "#0d0887"
             ],
             [
              0.1111111111111111,
              "#46039f"
             ],
             [
              0.2222222222222222,
              "#7201a8"
             ],
             [
              0.3333333333333333,
              "#9c179e"
             ],
             [
              0.4444444444444444,
              "#bd3786"
             ],
             [
              0.5555555555555556,
              "#d8576b"
             ],
             [
              0.6666666666666666,
              "#ed7953"
             ],
             [
              0.7777777777777778,
              "#fb9f3a"
             ],
             [
              0.8888888888888888,
              "#fdca26"
             ],
             [
              1,
              "#f0f921"
             ]
            ],
            "type": "heatmapgl"
           }
          ],
          "histogram": [
           {
            "marker": {
             "pattern": {
              "fillmode": "overlay",
              "size": 10,
              "solidity": 0.2
             }
            },
            "type": "histogram"
           }
          ],
          "histogram2d": [
           {
            "colorbar": {
             "outlinewidth": 0,
             "ticks": ""
            },
            "colorscale": [
             [
              0,
              "#0d0887"
             ],
             [
              0.1111111111111111,
              "#46039f"
             ],
             [
              0.2222222222222222,
              "#7201a8"
             ],
             [
              0.3333333333333333,
              "#9c179e"
             ],
             [
              0.4444444444444444,
              "#bd3786"
             ],
             [
              0.5555555555555556,
              "#d8576b"
             ],
             [
              0.6666666666666666,
              "#ed7953"
             ],
             [
              0.7777777777777778,
              "#fb9f3a"
             ],
             [
              0.8888888888888888,
              "#fdca26"
             ],
             [
              1,
              "#f0f921"
             ]
            ],
            "type": "histogram2d"
           }
          ],
          "histogram2dcontour": [
           {
            "colorbar": {
             "outlinewidth": 0,
             "ticks": ""
            },
            "colorscale": [
             [
              0,
              "#0d0887"
             ],
             [
              0.1111111111111111,
              "#46039f"
             ],
             [
              0.2222222222222222,
              "#7201a8"
             ],
             [
              0.3333333333333333,
              "#9c179e"
             ],
             [
              0.4444444444444444,
              "#bd3786"
             ],
             [
              0.5555555555555556,
              "#d8576b"
             ],
             [
              0.6666666666666666,
              "#ed7953"
             ],
             [
              0.7777777777777778,
              "#fb9f3a"
             ],
             [
              0.8888888888888888,
              "#fdca26"
             ],
             [
              1,
              "#f0f921"
             ]
            ],
            "type": "histogram2dcontour"
           }
          ],
          "mesh3d": [
           {
            "colorbar": {
             "outlinewidth": 0,
             "ticks": ""
            },
            "type": "mesh3d"
           }
          ],
          "parcoords": [
           {
            "line": {
             "colorbar": {
              "outlinewidth": 0,
              "ticks": ""
             }
            },
            "type": "parcoords"
           }
          ],
          "pie": [
           {
            "automargin": true,
            "type": "pie"
           }
          ],
          "scatter": [
           {
            "fillpattern": {
             "fillmode": "overlay",
             "size": 10,
             "solidity": 0.2
            },
            "type": "scatter"
           }
          ],
          "scatter3d": [
           {
            "line": {
             "colorbar": {
              "outlinewidth": 0,
              "ticks": ""
             }
            },
            "marker": {
             "colorbar": {
              "outlinewidth": 0,
              "ticks": ""
             }
            },
            "type": "scatter3d"
           }
          ],
          "scattercarpet": [
           {
            "marker": {
             "colorbar": {
              "outlinewidth": 0,
              "ticks": ""
             }
            },
            "type": "scattercarpet"
           }
          ],
          "scattergeo": [
           {
            "marker": {
             "colorbar": {
              "outlinewidth": 0,
              "ticks": ""
             }
            },
            "type": "scattergeo"
           }
          ],
          "scattergl": [
           {
            "marker": {
             "colorbar": {
              "outlinewidth": 0,
              "ticks": ""
             }
            },
            "type": "scattergl"
           }
          ],
          "scattermapbox": [
           {
            "marker": {
             "colorbar": {
              "outlinewidth": 0,
              "ticks": ""
             }
            },
            "type": "scattermapbox"
           }
          ],
          "scatterpolar": [
           {
            "marker": {
             "colorbar": {
              "outlinewidth": 0,
              "ticks": ""
             }
            },
            "type": "scatterpolar"
           }
          ],
          "scatterpolargl": [
           {
            "marker": {
             "colorbar": {
              "outlinewidth": 0,
              "ticks": ""
             }
            },
            "type": "scatterpolargl"
           }
          ],
          "scatterternary": [
           {
            "marker": {
             "colorbar": {
              "outlinewidth": 0,
              "ticks": ""
             }
            },
            "type": "scatterternary"
           }
          ],
          "surface": [
           {
            "colorbar": {
             "outlinewidth": 0,
             "ticks": ""
            },
            "colorscale": [
             [
              0,
              "#0d0887"
             ],
             [
              0.1111111111111111,
              "#46039f"
             ],
             [
              0.2222222222222222,
              "#7201a8"
             ],
             [
              0.3333333333333333,
              "#9c179e"
             ],
             [
              0.4444444444444444,
              "#bd3786"
             ],
             [
              0.5555555555555556,
              "#d8576b"
             ],
             [
              0.6666666666666666,
              "#ed7953"
             ],
             [
              0.7777777777777778,
              "#fb9f3a"
             ],
             [
              0.8888888888888888,
              "#fdca26"
             ],
             [
              1,
              "#f0f921"
             ]
            ],
            "type": "surface"
           }
          ],
          "table": [
           {
            "cells": {
             "fill": {
              "color": "#EBF0F8"
             },
             "line": {
              "color": "white"
             }
            },
            "header": {
             "fill": {
              "color": "#C8D4E3"
             },
             "line": {
              "color": "white"
             }
            },
            "type": "table"
           }
          ]
         },
         "layout": {
          "annotationdefaults": {
           "arrowcolor": "#2a3f5f",
           "arrowhead": 0,
           "arrowwidth": 1
          },
          "autotypenumbers": "strict",
          "coloraxis": {
           "colorbar": {
            "outlinewidth": 0,
            "ticks": ""
           }
          },
          "colorscale": {
           "diverging": [
            [
             0,
             "#8e0152"
            ],
            [
             0.1,
             "#c51b7d"
            ],
            [
             0.2,
             "#de77ae"
            ],
            [
             0.3,
             "#f1b6da"
            ],
            [
             0.4,
             "#fde0ef"
            ],
            [
             0.5,
             "#f7f7f7"
            ],
            [
             0.6,
             "#e6f5d0"
            ],
            [
             0.7,
             "#b8e186"
            ],
            [
             0.8,
             "#7fbc41"
            ],
            [
             0.9,
             "#4d9221"
            ],
            [
             1,
             "#276419"
            ]
           ],
           "sequential": [
            [
             0,
             "#0d0887"
            ],
            [
             0.1111111111111111,
             "#46039f"
            ],
            [
             0.2222222222222222,
             "#7201a8"
            ],
            [
             0.3333333333333333,
             "#9c179e"
            ],
            [
             0.4444444444444444,
             "#bd3786"
            ],
            [
             0.5555555555555556,
             "#d8576b"
            ],
            [
             0.6666666666666666,
             "#ed7953"
            ],
            [
             0.7777777777777778,
             "#fb9f3a"
            ],
            [
             0.8888888888888888,
             "#fdca26"
            ],
            [
             1,
             "#f0f921"
            ]
           ],
           "sequentialminus": [
            [
             0,
             "#0d0887"
            ],
            [
             0.1111111111111111,
             "#46039f"
            ],
            [
             0.2222222222222222,
             "#7201a8"
            ],
            [
             0.3333333333333333,
             "#9c179e"
            ],
            [
             0.4444444444444444,
             "#bd3786"
            ],
            [
             0.5555555555555556,
             "#d8576b"
            ],
            [
             0.6666666666666666,
             "#ed7953"
            ],
            [
             0.7777777777777778,
             "#fb9f3a"
            ],
            [
             0.8888888888888888,
             "#fdca26"
            ],
            [
             1,
             "#f0f921"
            ]
           ]
          },
          "colorway": [
           "#636efa",
           "#EF553B",
           "#00cc96",
           "#ab63fa",
           "#FFA15A",
           "#19d3f3",
           "#FF6692",
           "#B6E880",
           "#FF97FF",
           "#FECB52"
          ],
          "font": {
           "color": "#2a3f5f"
          },
          "geo": {
           "bgcolor": "white",
           "lakecolor": "white",
           "landcolor": "white",
           "showlakes": true,
           "showland": true,
           "subunitcolor": "#C8D4E3"
          },
          "hoverlabel": {
           "align": "left"
          },
          "hovermode": "closest",
          "mapbox": {
           "style": "light"
          },
          "paper_bgcolor": "white",
          "plot_bgcolor": "white",
          "polar": {
           "angularaxis": {
            "gridcolor": "#EBF0F8",
            "linecolor": "#EBF0F8",
            "ticks": ""
           },
           "bgcolor": "white",
           "radialaxis": {
            "gridcolor": "#EBF0F8",
            "linecolor": "#EBF0F8",
            "ticks": ""
           }
          },
          "scene": {
           "xaxis": {
            "backgroundcolor": "white",
            "gridcolor": "#DFE8F3",
            "gridwidth": 2,
            "linecolor": "#EBF0F8",
            "showbackground": true,
            "ticks": "",
            "zerolinecolor": "#EBF0F8"
           },
           "yaxis": {
            "backgroundcolor": "white",
            "gridcolor": "#DFE8F3",
            "gridwidth": 2,
            "linecolor": "#EBF0F8",
            "showbackground": true,
            "ticks": "",
            "zerolinecolor": "#EBF0F8"
           },
           "zaxis": {
            "backgroundcolor": "white",
            "gridcolor": "#DFE8F3",
            "gridwidth": 2,
            "linecolor": "#EBF0F8",
            "showbackground": true,
            "ticks": "",
            "zerolinecolor": "#EBF0F8"
           }
          },
          "shapedefaults": {
           "line": {
            "color": "#2a3f5f"
           }
          },
          "ternary": {
           "aaxis": {
            "gridcolor": "#DFE8F3",
            "linecolor": "#A2B1C6",
            "ticks": ""
           },
           "baxis": {
            "gridcolor": "#DFE8F3",
            "linecolor": "#A2B1C6",
            "ticks": ""
           },
           "bgcolor": "white",
           "caxis": {
            "gridcolor": "#DFE8F3",
            "linecolor": "#A2B1C6",
            "ticks": ""
           }
          },
          "title": {
           "x": 0.05
          },
          "xaxis": {
           "automargin": true,
           "gridcolor": "#EBF0F8",
           "linecolor": "#EBF0F8",
           "ticks": "",
           "title": {
            "standoff": 15
           },
           "zerolinecolor": "#EBF0F8",
           "zerolinewidth": 2
          },
          "yaxis": {
           "automargin": true,
           "gridcolor": "#EBF0F8",
           "linecolor": "#EBF0F8",
           "ticks": "",
           "title": {
            "standoff": 15
           },
           "zerolinecolor": "#EBF0F8",
           "zerolinewidth": 2
          }
         }
        },
        "title": {
         "text": "On road vehicle market share by weight class, drivetrain and energy model in ON",
         "x": 0.5,
         "xanchor": "center",
         "y": 0.97,
         "yanchor": "top"
        },
        "width": 1100,
        "xaxis": {
         "anchor": "y",
         "domain": [
          0,
          0.48
         ],
         "tickangle": 45,
         "title": {
          "text": ""
         }
        },
        "xaxis2": {
         "anchor": "y2",
         "domain": [
          0.5,
          0.98
         ],
         "matches": "x",
         "tickangle": 45,
         "title": {
          "text": ""
         }
        },
        "xaxis3": {
         "anchor": "y3",
         "domain": [
          0,
          0.48
         ],
         "matches": "x",
         "showticklabels": false,
         "tickangle": 45,
         "title": {
          "text": ""
         }
        },
        "xaxis4": {
         "anchor": "y4",
         "domain": [
          0.5,
          0.98
         ],
         "matches": "x",
         "showticklabels": false,
         "tickangle": 45,
         "title": {
          "text": ""
         }
        },
        "yaxis": {
         "anchor": "x",
         "domain": [
          0,
          0.495
         ],
         "title": {
          "standoff": 0,
          "text": ""
         }
        },
        "yaxis2": {
         "anchor": "x2",
         "domain": [
          0,
          0.495
         ],
         "matches": "y",
         "showticklabels": false,
         "title": {
          "text": ""
         }
        },
        "yaxis3": {
         "anchor": "x3",
         "domain": [
          0.505,
          1
         ],
         "matches": "y",
         "title": {
          "text": ""
         }
        },
        "yaxis4": {
         "anchor": "x4",
         "domain": [
          0.505,
          1
         ],
         "matches": "y",
         "showticklabels": false,
         "title": {
          "text": ""
         }
        }
       }
      }
     },
     "metadata": {},
     "output_type": "display_data"
    }
   ],
   "source": [
    "ref_fig = ref_trnnewcap[ref_trnnewcap['Vehicle Class'].isin(['LD Car', 'LD Truck', 'HD Truck'])][['Period', 'Carrier', 'Vehicle Class', 'New Capacity']]\n",
    "ref_fig['Carrier'] = ref_fig.Carrier.map(gtech_carrier_mapping)\n",
    "ref_fig['Vehicle Class'] = ref_fig['Vehicle Class'].map(gtech_class_mapping)\n",
    "ref_fig = ref_fig.groupby(['Period', 'Carrier', 'Vehicle Class'], as_index=False).sum()\n",
    "\n",
    "veh_tot_cap = ref_fig.groupby(['Period', 'Vehicle Class'], as_index=False).sum('New Capacity')\n",
    "ref_fig = pd.merge(ref_fig, veh_tot_cap, on=['Period', 'Vehicle Class'], suffixes=('', '_sum'))\n",
    "ref_fig['Market Share (%)'] = ref_fig['New Capacity'] / ref_fig['New Capacity_sum'] * 100\n",
    "ref_fig.rename(columns={'Vehicle Class': 'Class', 'Carrier': 'Drivetrain'}, inplace=True)\n",
    "\n",
    "ref_fig['Source'] = 'CANOE'\n",
    "gtech23_ref_vehshare['Source'] = 'gTech-IESD'\n",
    "gtech23_ref_vehshare['Period'] = gtech23_ref_vehshare['Period'].astype(str)\n",
    "fig_df = pd.concat([ref_fig[['Period', 'Class', 'Drivetrain', 'Source', 'Market Share (%)']], gtech23_ref_vehshare[['Period', 'Class', 'Drivetrain', 'Source', 'Market Share (%)']]]).reset_index(drop=True)\n",
    "fig_df['Class'] = pd.Categorical(fig_df['Class'], categories=['LDV', 'HDV'], ordered=True)\n",
    "fig_df = fig_df.sort_values(['Class', 'Period'])\n",
    "\n",
    "fig = px.area(fig_df, x='Period', y='Market Share (%)', color='Drivetrain', facet_col='Source', facet_row='Class',\n",
    "              template='plotly_white',\n",
    "              facet_col_spacing=0.02,\n",
    "              facet_row_spacing=0.01,\n",
    "              width=1100, height=600\n",
    "              )\n",
    "\n",
    "fig.update_layout(\n",
    "    title=dict(text='On road vehicle market share by weight class, drivetrain and energy model in ON',\n",
    "               x=0.5,\n",
    "               y=0.97,\n",
    "               xanchor='center',\n",
    "               yanchor='top'\n",
    "               ),\n",
    "    xaxis=dict(title='Period'),\n",
    "    yaxis=dict(title='Market Share (%)'),\n",
    "    yaxis_title_standoff=0,\n",
    "    legend_title_text='',\n",
    "    bargap=0.1,\n",
    "    legend=dict(orientation='h',\n",
    "                yanchor='top',\n",
    "                y=1.05,\n",
    "                xanchor='center',\n",
    "                x=0.5),\n",
    "    font=dict(size=13,\n",
    "              # family=\"Open Sans\"\n",
    "              ))\n",
    "\n",
    "for axis in fig.layout:\n",
    "    if axis.startswith('yaxis'):\n",
    "        fig.layout[axis].title.text = ''\n",
    "    if axis.startswith('xaxis'):\n",
    "        fig.layout[axis].title.text = ''\n",
    "\n",
    "fig.update_xaxes(tickangle=45)\n",
    "\n",
    "fig.add_annotation(\n",
    "    text=\"Market Share (%)\",\n",
    "    x=-0.05,  # Adjust x position as needed\n",
    "    y=0.5,\n",
    "    xref=\"paper\",\n",
    "    yref=\"paper\",\n",
    "    showarrow=False,\n",
    "    textangle=-90,\n",
    "    font=dict(size=14))\n",
    "\n",
    "fig.show()"
   ]
  },
  {
   "cell_type": "code",
   "execution_count": 144,
   "metadata": {},
   "outputs": [],
   "source": [
    "# from scipy.optimize import curve_fit\n",
    "\n",
    "# # Data\n",
    "# df = pd.read_csv('logistic_growth.csv')\n",
    "# df.drop(df.columns[1], axis=1, inplace=True)\n",
    "\n",
    "# # Ensure all data is numeric\n",
    "# df.iloc[:, 1:] = df.iloc[:, 1:].apply(pd.to_numeric)\n",
    "\n",
    "# # Polynomial fit (automatic) and extracting fitted arrays\n",
    "# years = np.array([2025, 2030, 2035, 2040, 2045, 2050], dtype=np.float64)\n",
    "\n",
    "# fitted_data = {}\n",
    "\n",
    "# # Determine the number of rows and columns for subplots\n",
    "# n_technologies = len(df)\n",
    "# n_cols = 2\n",
    "# n_rows = (n_technologies + 1) // n_cols\n",
    "\n",
    "# fig, axes = plt.subplots(n_rows, n_cols, figsize=(15, 10))\n",
    "# axes = axes.flatten()\n",
    "\n",
    "# for idx, row in df.iterrows():\n",
    "#     technology = row['Technology']\n",
    "#     capacities = row[1:].astype(np.float64).values  # Convert capacities to float64\n",
    "    \n",
    "#     # Fit a cubic polynomial to the data\n",
    "#     poly_coeffs = np.polyfit(years, capacities, deg=3)  # Degree 3 polynomial\n",
    "#     poly_fit = np.polyval(poly_coeffs, years)\n",
    "    \n",
    "#     fitted_data[technology] = poly_fit\n",
    "\n",
    "#     # Plotting in a subplot\n",
    "#     ax = axes[idx]\n",
    "#     ax.plot(years, capacities, 'o', label='Original Data')\n",
    "#     ax.plot(years, poly_fit, '-', label='Fitted Polynomial')\n",
    "#     ax.set_title(f'{technology}')\n",
    "#     ax.set_xlabel('Year')\n",
    "#     ax.set_ylabel('Capacity')\n",
    "#     ax.legend()\n",
    "#     ax.grid(True)\n",
    "\n",
    "# # Adjust layout and show the figure\n",
    "# plt.tight_layout()\n",
    "# plt.show()\n",
    "\n",
    "# # Convert fitted data to DataFrame\n",
    "# fitted_df = pd.DataFrame(fitted_data).T  # Transpose to have technologies as rows\n",
    "# fitted_df.columns = years\n",
    "# fitted_df.index.name = 'Technology'\n",
    "\n",
    "# # Copy the DataFrame to clipboard for easy export\n",
    "# fitted_df.to_clipboard()"
   ]
  },
  {
   "cell_type": "markdown",
   "metadata": {},
   "source": [
    "# CANOE vs CEF 2023 vs gTech-IESD - power generation capacity and activity"
   ]
  },
  {
   "cell_type": "code",
   "execution_count": 145,
   "metadata": {},
   "outputs": [],
   "source": [
    "plant_mapping = {\n",
    "    'E_BIO': 'Biomass',\n",
    "    'E_NG': 'Natural Gas',\n",
    "    'E_HYD': 'Hydro',\n",
    "    'E_SOL': 'Solar',\n",
    "    'E_WND': 'Wind',\n",
    "    'E_NUC': 'Nuclear',\n",
    "}\n",
    "\n",
    "def map_tech_to_plant(tech):\n",
    "    for prefix, plant_name in plant_mapping.items():\n",
    "        if tech.startswith(prefix):\n",
    "            return plant_name\n",
    "    return 'Other'\n",
    "\n",
    "ref_elcact['Plant Type'] = ref_elcact['Technology'].apply(map_tech_to_plant)\n",
    "ref_elccap['Plant Type'] = ref_elccap['Technology'].apply(map_tech_to_plant)\n",
    "vanilla_elcact['Plant Type'] = vanilla_elcact['Technology'].apply(map_tech_to_plant)\n",
    "vanilla_elccap['Plant Type'] = vanilla_elccap['Technology'].apply(map_tech_to_plant)"
   ]
  },
  {
   "cell_type": "code",
   "execution_count": 146,
   "metadata": {},
   "outputs": [],
   "source": [
    "ref_elccap.columns = ref_elccap.columns.astype(str)\n",
    "vanilla_elccap.columns = vanilla_elccap.columns.astype(str)\n",
    "\n",
    "periods = [col for col in ref_elccap.columns if col.isdigit()]\n",
    "params = [col for col in ref_elccap.columns if not col.isdigit()]\n",
    "\n",
    "ref_elccap = pd.melt(ref_elccap, id_vars=params, var_name='Period', value_name='Capacity (GW)', value_vars=periods)\n",
    "vanilla_elccap = pd.melt(vanilla_elccap, id_vars=params, var_name='Period', value_name='Capacity (GW)', value_vars=periods)"
   ]
  },
  {
   "cell_type": "code",
   "execution_count": 147,
   "metadata": {},
   "outputs": [],
   "source": [
    "def plant_rename(type):\n",
    "    if type == 'hydro':\n",
    "        return 'Hydro'\n",
    "    if type == 'natural gas':\n",
    "        return 'Natural Gas'\n",
    "    if type == 'natural gas w ccs':\n",
    "        return 'Natural Gas'\n",
    "    if type == 'nuclear':\n",
    "        return 'Nuclear'\n",
    "    if type == 'solar':\n",
    "        return 'Solar'\n",
    "    if type == 'wind':\n",
    "        return 'Wind'\n",
    "    else: return 'Other'\n",
    "    \n",
    "gtech23_ref_cap['Plant Type'] = gtech23_ref_cap['Plant Type'].apply(plant_rename)\n",
    "gtech23_ref_cap = gtech23_ref_cap.groupby(['Period', 'Plant Type'], as_index=False).sum()"
   ]
  },
  {
   "cell_type": "code",
   "execution_count": 148,
   "metadata": {},
   "outputs": [
    {
     "data": {
      "application/vnd.plotly.v1+json": {
       "config": {
        "plotlyServerURL": "https://plot.ly"
       },
       "data": [
        {
         "alignmentgroup": "True",
         "hovertemplate": "Plant Type=Biomass<br>Period=2021<br>Source=%{x}<br>Capacity (GW)=%{y}<extra></extra>",
         "legendgroup": "Biomass",
         "marker": {
          "color": "#3366CC",
          "pattern": {
           "shape": ""
          }
         },
         "name": "Biomass",
         "offsetgroup": "Biomass",
         "orientation": "v",
         "showlegend": true,
         "textfont": {
          "size": 9
         },
         "textposition": "auto",
         "texttemplate": "%{y:.1f}",
         "type": "bar",
         "x": [
          "CANOE (vanilla)",
          "CANOE (ref)",
          "CEF2023"
         ],
         "xaxis": "x",
         "y": [
          0.298,
          0.29801040724655437,
          0.69862
         ],
         "yaxis": "y"
        },
        {
         "alignmentgroup": "True",
         "hovertemplate": "Plant Type=Biomass<br>Period=2025<br>Source=%{x}<br>Capacity (GW)=%{y}<extra></extra>",
         "legendgroup": "Biomass",
         "marker": {
          "color": "#3366CC",
          "pattern": {
           "shape": ""
          }
         },
         "name": "Biomass",
         "offsetgroup": "Biomass",
         "orientation": "v",
         "showlegend": false,
         "textfont": {
          "size": 9
         },
         "textposition": "auto",
         "texttemplate": "%{y:.1f}",
         "type": "bar",
         "x": [
          "CANOE (vanilla)",
          "CANOE (ref)",
          "CEF2023"
         ],
         "xaxis": "x2",
         "y": [
          0.298,
          0.29802133742506126,
          0.69862
         ],
         "yaxis": "y2"
        },
        {
         "alignmentgroup": "True",
         "hovertemplate": "Plant Type=Biomass<br>Period=2030<br>Source=%{x}<br>Capacity (GW)=%{y}<extra></extra>",
         "legendgroup": "Biomass",
         "marker": {
          "color": "#3366CC",
          "pattern": {
           "shape": ""
          }
         },
         "name": "Biomass",
         "offsetgroup": "Biomass",
         "orientation": "v",
         "showlegend": false,
         "textfont": {
          "size": 9
         },
         "textposition": "auto",
         "texttemplate": "%{y:.1f}",
         "type": "bar",
         "x": [
          "CANOE (vanilla)",
          "CANOE (ref)",
          "CEF2023"
         ],
         "xaxis": "x3",
         "y": [
          0.298,
          0.29803257369695824,
          0.69862
         ],
         "yaxis": "y3"
        },
        {
         "alignmentgroup": "True",
         "hovertemplate": "Plant Type=Biomass<br>Period=2035<br>Source=%{x}<br>Capacity (GW)=%{y}<extra></extra>",
         "legendgroup": "Biomass",
         "marker": {
          "color": "#3366CC",
          "pattern": {
           "shape": ""
          }
         },
         "name": "Biomass",
         "offsetgroup": "Biomass",
         "orientation": "v",
         "showlegend": false,
         "textfont": {
          "size": 9
         },
         "textposition": "auto",
         "texttemplate": "%{y:.1f}",
         "type": "bar",
         "x": [
          "CANOE (vanilla)",
          "CANOE (ref)",
          "CEF2023"
         ],
         "xaxis": "x4",
         "y": [
          0.298,
          0.29804366517864805,
          0.69862
         ],
         "yaxis": "y4"
        },
        {
         "alignmentgroup": "True",
         "hovertemplate": "Plant Type=Biomass<br>Period=2040<br>Source=%{x}<br>Capacity (GW)=%{y}<extra></extra>",
         "legendgroup": "Biomass",
         "marker": {
          "color": "#3366CC",
          "pattern": {
           "shape": ""
          }
         },
         "name": "Biomass",
         "offsetgroup": "Biomass",
         "orientation": "v",
         "showlegend": false,
         "textfont": {
          "size": 9
         },
         "textposition": "auto",
         "texttemplate": "%{y:.1f}",
         "type": "bar",
         "x": [
          "CANOE (vanilla)",
          "CANOE (ref)",
          "CEF2023"
         ],
         "xaxis": "x5",
         "y": [
          0.298,
          0.29805431101941976,
          0.69862
         ],
         "yaxis": "y5"
        },
        {
         "alignmentgroup": "True",
         "hovertemplate": "Plant Type=Biomass<br>Period=2045<br>Source=%{x}<br>Capacity (GW)=%{y}<extra></extra>",
         "legendgroup": "Biomass",
         "marker": {
          "color": "#3366CC",
          "pattern": {
           "shape": ""
          }
         },
         "name": "Biomass",
         "offsetgroup": "Biomass",
         "orientation": "v",
         "showlegend": false,
         "textfont": {
          "size": 9
         },
         "textposition": "auto",
         "texttemplate": "%{y:.1f}",
         "type": "bar",
         "x": [
          "CANOE (vanilla)",
          "CANOE (ref)",
          "CEF2023"
         ],
         "xaxis": "x6",
         "y": [
          0.26,
          0.2600543110194198,
          0.69862
         ],
         "yaxis": "y6"
        },
        {
         "alignmentgroup": "True",
         "hovertemplate": "Plant Type=Biomass<br>Period=2050<br>Source=%{x}<br>Capacity (GW)=%{y}<extra></extra>",
         "legendgroup": "Biomass",
         "marker": {
          "color": "#3366CC",
          "pattern": {
           "shape": ""
          }
         },
         "name": "Biomass",
         "offsetgroup": "Biomass",
         "orientation": "v",
         "showlegend": false,
         "textfont": {
          "size": 9
         },
         "textposition": "auto",
         "texttemplate": "%{y:.1f}",
         "type": "bar",
         "x": [
          "CANOE (vanilla)",
          "CANOE (ref)",
          "CEF2023"
         ],
         "xaxis": "x7",
         "y": [
          0.26,
          0.2600648102736162,
          0.69862
         ],
         "yaxis": "y7"
        },
        {
         "alignmentgroup": "True",
         "hovertemplate": "Plant Type=Hydro<br>Period=2021<br>Source=%{x}<br>Capacity (GW)=%{y}<extra></extra>",
         "legendgroup": "Hydro",
         "marker": {
          "color": "#DC3912",
          "pattern": {
           "shape": ""
          }
         },
         "name": "Hydro",
         "offsetgroup": "Hydro",
         "orientation": "v",
         "showlegend": true,
         "textfont": {
          "size": 9
         },
         "textposition": "auto",
         "texttemplate": "%{y:.1f}",
         "type": "bar",
         "x": [
          "CANOE (vanilla)",
          "CANOE (ref)",
          "CEF2023",
          "gTech-IESD"
         ],
         "xaxis": "x",
         "y": [
          6.882899999999999,
          6.882899999999999,
          9.26368,
          9.022917
         ],
         "yaxis": "y"
        },
        {
         "alignmentgroup": "True",
         "hovertemplate": "Plant Type=Hydro<br>Period=2025<br>Source=%{x}<br>Capacity (GW)=%{y}<extra></extra>",
         "legendgroup": "Hydro",
         "marker": {
          "color": "#DC3912",
          "pattern": {
           "shape": ""
          }
         },
         "name": "Hydro",
         "offsetgroup": "Hydro",
         "orientation": "v",
         "showlegend": false,
         "textfont": {
          "size": 9
         },
         "textposition": "auto",
         "texttemplate": "%{y:.1f}",
         "type": "bar",
         "x": [
          "CANOE (vanilla)",
          "CANOE (ref)",
          "CEF2023",
          "gTech-IESD"
         ],
         "xaxis": "x2",
         "y": [
          6.882899999999999,
          6.882899999999999,
          9.26368,
          9.022917
         ],
         "yaxis": "y2"
        },
        {
         "alignmentgroup": "True",
         "hovertemplate": "Plant Type=Hydro<br>Period=2030<br>Source=%{x}<br>Capacity (GW)=%{y}<extra></extra>",
         "legendgroup": "Hydro",
         "marker": {
          "color": "#DC3912",
          "pattern": {
           "shape": ""
          }
         },
         "name": "Hydro",
         "offsetgroup": "Hydro",
         "orientation": "v",
         "showlegend": false,
         "textfont": {
          "size": 9
         },
         "textposition": "auto",
         "texttemplate": "%{y:.1f}",
         "type": "bar",
         "x": [
          "CANOE (vanilla)",
          "CANOE (ref)",
          "CEF2023",
          "gTech-IESD"
         ],
         "xaxis": "x3",
         "y": [
          6.882899999999999,
          6.882899999999999,
          9.26368,
          9.022917
         ],
         "yaxis": "y3"
        },
        {
         "alignmentgroup": "True",
         "hovertemplate": "Plant Type=Hydro<br>Period=2035<br>Source=%{x}<br>Capacity (GW)=%{y}<extra></extra>",
         "legendgroup": "Hydro",
         "marker": {
          "color": "#DC3912",
          "pattern": {
           "shape": ""
          }
         },
         "name": "Hydro",
         "offsetgroup": "Hydro",
         "orientation": "v",
         "showlegend": false,
         "textfont": {
          "size": 9
         },
         "textposition": "auto",
         "texttemplate": "%{y:.1f}",
         "type": "bar",
         "x": [
          "CANOE (vanilla)",
          "CANOE (ref)",
          "CEF2023",
          "gTech-IESD"
         ],
         "xaxis": "x4",
         "y": [
          6.882899999999999,
          6.882899999999999,
          9.26368,
          9.022917
         ],
         "yaxis": "y4"
        },
        {
         "alignmentgroup": "True",
         "hovertemplate": "Plant Type=Hydro<br>Period=2040<br>Source=%{x}<br>Capacity (GW)=%{y}<extra></extra>",
         "legendgroup": "Hydro",
         "marker": {
          "color": "#DC3912",
          "pattern": {
           "shape": ""
          }
         },
         "name": "Hydro",
         "offsetgroup": "Hydro",
         "orientation": "v",
         "showlegend": false,
         "textfont": {
          "size": 9
         },
         "textposition": "auto",
         "texttemplate": "%{y:.1f}",
         "type": "bar",
         "x": [
          "CANOE (vanilla)",
          "CANOE (ref)",
          "CEF2023",
          "gTech-IESD"
         ],
         "xaxis": "x5",
         "y": [
          6.882899999999999,
          6.882899999999999,
          9.26368,
          9.022917
         ],
         "yaxis": "y5"
        },
        {
         "alignmentgroup": "True",
         "hovertemplate": "Plant Type=Hydro<br>Period=2045<br>Source=%{x}<br>Capacity (GW)=%{y}<extra></extra>",
         "legendgroup": "Hydro",
         "marker": {
          "color": "#DC3912",
          "pattern": {
           "shape": ""
          }
         },
         "name": "Hydro",
         "offsetgroup": "Hydro",
         "orientation": "v",
         "showlegend": false,
         "textfont": {
          "size": 9
         },
         "textposition": "auto",
         "texttemplate": "%{y:.1f}",
         "type": "bar",
         "x": [
          "CANOE (vanilla)",
          "CANOE (ref)",
          "CEF2023",
          "gTech-IESD"
         ],
         "xaxis": "x6",
         "y": [
          6.882899999999999,
          6.882899999999999,
          9.26368,
          9.022917
         ],
         "yaxis": "y6"
        },
        {
         "alignmentgroup": "True",
         "hovertemplate": "Plant Type=Hydro<br>Period=2050<br>Source=%{x}<br>Capacity (GW)=%{y}<extra></extra>",
         "legendgroup": "Hydro",
         "marker": {
          "color": "#DC3912",
          "pattern": {
           "shape": ""
          }
         },
         "name": "Hydro",
         "offsetgroup": "Hydro",
         "orientation": "v",
         "showlegend": false,
         "textfont": {
          "size": 9
         },
         "textposition": "auto",
         "texttemplate": "%{y:.1f}",
         "type": "bar",
         "x": [
          "CANOE (vanilla)",
          "CANOE (ref)",
          "CEF2023",
          "gTech-IESD"
         ],
         "xaxis": "x7",
         "y": [
          6.882899999999999,
          6.882899999999999,
          9.26368,
          9.022917
         ],
         "yaxis": "y7"
        },
        {
         "alignmentgroup": "True",
         "hovertemplate": "Plant Type=Natural Gas<br>Period=2021<br>Source=%{x}<br>Capacity (GW)=%{y}<extra></extra>",
         "legendgroup": "Natural Gas",
         "marker": {
          "color": "#FF9900",
          "pattern": {
           "shape": ""
          }
         },
         "name": "Natural Gas",
         "offsetgroup": "Natural Gas",
         "orientation": "v",
         "showlegend": true,
         "textfont": {
          "size": 9
         },
         "textposition": "auto",
         "texttemplate": "%{y:.1f}",
         "type": "bar",
         "x": [
          "CANOE (vanilla)",
          "CANOE (ref)",
          "CEF2023",
          "gTech-IESD"
         ],
         "xaxis": "x",
         "y": [
          31.92105636286501,
          26.124642800891856,
          8.73091,
          8.881363495
         ],
         "yaxis": "y"
        },
        {
         "alignmentgroup": "True",
         "hovertemplate": "Plant Type=Natural Gas<br>Period=2025<br>Source=%{x}<br>Capacity (GW)=%{y}<extra></extra>",
         "legendgroup": "Natural Gas",
         "marker": {
          "color": "#FF9900",
          "pattern": {
           "shape": ""
          }
         },
         "name": "Natural Gas",
         "offsetgroup": "Natural Gas",
         "orientation": "v",
         "showlegend": false,
         "textfont": {
          "size": 9
         },
         "textposition": "auto",
         "texttemplate": "%{y:.1f}",
         "type": "bar",
         "x": [
          "CANOE (vanilla)",
          "CANOE (ref)",
          "CEF2023",
          "gTech-IESD"
         ],
         "xaxis": "x2",
         "y": [
          46.690247738830394,
          32.75451414315566,
          9.242164715000001,
          8.881363495
         ],
         "yaxis": "y2"
        },
        {
         "alignmentgroup": "True",
         "hovertemplate": "Plant Type=Natural Gas<br>Period=2030<br>Source=%{x}<br>Capacity (GW)=%{y}<extra></extra>",
         "legendgroup": "Natural Gas",
         "marker": {
          "color": "#FF9900",
          "pattern": {
           "shape": ""
          }
         },
         "name": "Natural Gas",
         "offsetgroup": "Natural Gas",
         "orientation": "v",
         "showlegend": false,
         "textfont": {
          "size": 9
         },
         "textposition": "auto",
         "texttemplate": "%{y:.1f}",
         "type": "bar",
         "x": [
          "CANOE (vanilla)",
          "CANOE (ref)",
          "CEF2023",
          "gTech-IESD"
         ],
         "xaxis": "x3",
         "y": [
          65.1648900052958,
          39.39271035965448,
          11.9296617061111,
          7.562232888
         ],
         "yaxis": "y3"
        },
        {
         "alignmentgroup": "True",
         "hovertemplate": "Plant Type=Natural Gas<br>Period=2035<br>Source=%{x}<br>Capacity (GW)=%{y}<extra></extra>",
         "legendgroup": "Natural Gas",
         "marker": {
          "color": "#FF9900",
          "pattern": {
           "shape": ""
          }
         },
         "name": "Natural Gas",
         "offsetgroup": "Natural Gas",
         "orientation": "v",
         "showlegend": false,
         "textfont": {
          "size": 9
         },
         "textposition": "auto",
         "texttemplate": "%{y:.1f}",
         "type": "bar",
         "x": [
          "CANOE (vanilla)",
          "CANOE (ref)",
          "CEF2023",
          "gTech-IESD"
         ],
         "xaxis": "x4",
         "y": [
          77.83417244125934,
          46.022136704300834,
          15.5057674794444,
          7.562232888
         ],
         "yaxis": "y4"
        },
        {
         "alignmentgroup": "True",
         "hovertemplate": "Plant Type=Natural Gas<br>Period=2040<br>Source=%{x}<br>Capacity (GW)=%{y}<extra></extra>",
         "legendgroup": "Natural Gas",
         "marker": {
          "color": "#FF9900",
          "pattern": {
           "shape": ""
          }
         },
         "name": "Natural Gas",
         "offsetgroup": "Natural Gas",
         "orientation": "v",
         "showlegend": false,
         "textfont": {
          "size": 9
         },
         "textposition": "auto",
         "texttemplate": "%{y:.1f}",
         "type": "bar",
         "x": [
          "CANOE (vanilla)",
          "CANOE (ref)",
          "CEF2023",
          "gTech-IESD"
         ],
         "xaxis": "x5",
         "y": [
          89.52307623000777,
          52.511256573709055,
          16.2570033405556,
          7.562232888
         ],
         "yaxis": "y5"
        },
        {
         "alignmentgroup": "True",
         "hovertemplate": "Plant Type=Natural Gas<br>Period=2045<br>Source=%{x}<br>Capacity (GW)=%{y}<extra></extra>",
         "legendgroup": "Natural Gas",
         "marker": {
          "color": "#FF9900",
          "pattern": {
           "shape": ""
          }
         },
         "name": "Natural Gas",
         "offsetgroup": "Natural Gas",
         "orientation": "v",
         "showlegend": false,
         "textfont": {
          "size": 9
         },
         "textposition": "auto",
         "texttemplate": "%{y:.1f}",
         "type": "bar",
         "x": [
          "CANOE (vanilla)",
          "CANOE (ref)",
          "CEF2023",
          "gTech-IESD"
         ],
         "xaxis": "x6",
         "y": [
          101.29581275860211,
          59.08418797992478,
          17.750986388,
          7.618583859999999
         ],
         "yaxis": "y6"
        },
        {
         "alignmentgroup": "True",
         "hovertemplate": "Plant Type=Natural Gas<br>Period=2050<br>Source=%{x}<br>Capacity (GW)=%{y}<extra></extra>",
         "legendgroup": "Natural Gas",
         "marker": {
          "color": "#FF9900",
          "pattern": {
           "shape": ""
          }
         },
         "name": "Natural Gas",
         "offsetgroup": "Natural Gas",
         "orientation": "v",
         "showlegend": false,
         "textfont": {
          "size": 9
         },
         "textposition": "auto",
         "texttemplate": "%{y:.1f}",
         "type": "bar",
         "x": [
          "CANOE (vanilla)",
          "CANOE (ref)",
          "CEF2023",
          "gTech-IESD"
         ],
         "xaxis": "x7",
         "y": [
          113.00761623972508,
          65.59618952477868,
          16.4962699274444,
          8.526166019
         ],
         "yaxis": "y7"
        },
        {
         "alignmentgroup": "True",
         "hovertemplate": "Plant Type=Nuclear<br>Period=2021<br>Source=%{x}<br>Capacity (GW)=%{y}<extra></extra>",
         "legendgroup": "Nuclear",
         "marker": {
          "color": "#109618",
          "pattern": {
           "shape": ""
          }
         },
         "name": "Nuclear",
         "offsetgroup": "Nuclear",
         "orientation": "v",
         "showlegend": true,
         "textfont": {
          "size": 9
         },
         "textposition": "auto",
         "texttemplate": "%{y:.1f}",
         "type": "bar",
         "x": [
          "CANOE (vanilla)",
          "CANOE (ref)",
          "CEF2023",
          "gTech-IESD"
         ],
         "xaxis": "x",
         "y": [
          10.377,
          10.377,
          12.38,
          12.343
         ],
         "yaxis": "y"
        },
        {
         "alignmentgroup": "True",
         "hovertemplate": "Plant Type=Nuclear<br>Period=2025<br>Source=%{x}<br>Capacity (GW)=%{y}<extra></extra>",
         "legendgroup": "Nuclear",
         "marker": {
          "color": "#109618",
          "pattern": {
           "shape": ""
          }
         },
         "name": "Nuclear",
         "offsetgroup": "Nuclear",
         "orientation": "v",
         "showlegend": false,
         "textfont": {
          "size": 9
         },
         "textposition": "auto",
         "texttemplate": "%{y:.1f}",
         "type": "bar",
         "x": [
          "CANOE (vanilla)",
          "CANOE (ref)",
          "CEF2023",
          "gTech-IESD"
         ],
         "xaxis": "x2",
         "y": [
          10.377,
          10.377,
          11.445,
          10.675
         ],
         "yaxis": "y2"
        },
        {
         "alignmentgroup": "True",
         "hovertemplate": "Plant Type=Nuclear<br>Period=2030<br>Source=%{x}<br>Capacity (GW)=%{y}<extra></extra>",
         "legendgroup": "Nuclear",
         "marker": {
          "color": "#109618",
          "pattern": {
           "shape": ""
          }
         },
         "name": "Nuclear",
         "offsetgroup": "Nuclear",
         "orientation": "v",
         "showlegend": false,
         "textfont": {
          "size": 9
         },
         "textposition": "auto",
         "texttemplate": "%{y:.1f}",
         "type": "bar",
         "x": [
          "CANOE (vanilla)",
          "CANOE (ref)",
          "CEF2023",
          "gTech-IESD"
         ],
         "xaxis": "x3",
         "y": [
          7.275,
          7.275,
          10.36,
          9.542
         ],
         "yaxis": "y3"
        },
        {
         "alignmentgroup": "True",
         "hovertemplate": "Plant Type=Nuclear<br>Period=2035<br>Source=%{x}<br>Capacity (GW)=%{y}<extra></extra>",
         "legendgroup": "Nuclear",
         "marker": {
          "color": "#109618",
          "pattern": {
           "shape": ""
          }
         },
         "name": "Nuclear",
         "offsetgroup": "Nuclear",
         "orientation": "v",
         "showlegend": false,
         "textfont": {
          "size": 9
         },
         "textposition": "auto",
         "texttemplate": "%{y:.1f}",
         "type": "bar",
         "x": [
          "CANOE (vanilla)",
          "CANOE (ref)",
          "CEF2023",
          "gTech-IESD"
         ],
         "xaxis": "x4",
         "y": [
          5.717,
          5.717,
          11.2,
          9.971
         ],
         "yaxis": "y4"
        },
        {
         "alignmentgroup": "True",
         "hovertemplate": "Plant Type=Nuclear<br>Period=2040<br>Source=%{x}<br>Capacity (GW)=%{y}<extra></extra>",
         "legendgroup": "Nuclear",
         "marker": {
          "color": "#109618",
          "pattern": {
           "shape": ""
          }
         },
         "name": "Nuclear",
         "offsetgroup": "Nuclear",
         "orientation": "v",
         "showlegend": false,
         "textfont": {
          "size": 9
         },
         "textposition": "auto",
         "texttemplate": "%{y:.1f}",
         "type": "bar",
         "x": [
          "CANOE (vanilla)",
          "CANOE (ref)",
          "CEF2023",
          "gTech-IESD"
         ],
         "xaxis": "x5",
         "y": [
          4.149,
          4.149,
          11.2,
          10.4
         ],
         "yaxis": "y5"
        },
        {
         "alignmentgroup": "True",
         "hovertemplate": "Plant Type=Nuclear<br>Period=2045<br>Source=%{x}<br>Capacity (GW)=%{y}<extra></extra>",
         "legendgroup": "Nuclear",
         "marker": {
          "color": "#109618",
          "pattern": {
           "shape": ""
          }
         },
         "name": "Nuclear",
         "offsetgroup": "Nuclear",
         "orientation": "v",
         "showlegend": false,
         "textfont": {
          "size": 9
         },
         "textposition": "auto",
         "texttemplate": "%{y:.1f}",
         "type": "bar",
         "x": [
          "CANOE (vanilla)",
          "CANOE (ref)",
          "CEF2023",
          "gTech-IESD"
         ],
         "xaxis": "x6",
         "y": [
          0.881,
          0.881,
          11.2,
          10.4
         ],
         "yaxis": "y6"
        },
        {
         "alignmentgroup": "True",
         "hovertemplate": "Plant Type=Nuclear<br>Period=2050<br>Source=%{x}<br>Capacity (GW)=%{y}<extra></extra>",
         "legendgroup": "Nuclear",
         "marker": {
          "color": "#109618",
          "pattern": {
           "shape": ""
          }
         },
         "name": "Nuclear",
         "offsetgroup": "Nuclear",
         "orientation": "v",
         "showlegend": false,
         "textfont": {
          "size": 9
         },
         "textposition": "auto",
         "texttemplate": "%{y:.1f}",
         "type": "bar",
         "x": [
          "CANOE (vanilla)",
          "CANOE (ref)",
          "CEF2023",
          "gTech-IESD"
         ],
         "xaxis": "x7",
         "y": [
          0.881,
          0.881,
          11.2,
          10.4
         ],
         "yaxis": "y7"
        },
        {
         "alignmentgroup": "True",
         "hovertemplate": "Plant Type=Solar<br>Period=2021<br>Source=%{x}<br>Capacity (GW)=%{y}<extra></extra>",
         "legendgroup": "Solar",
         "marker": {
          "color": "#990099",
          "pattern": {
           "shape": ""
          }
         },
         "name": "Solar",
         "offsetgroup": "Solar",
         "orientation": "v",
         "showlegend": true,
         "textfont": {
          "size": 9
         },
         "textposition": "auto",
         "texttemplate": "%{y:.1f}",
         "type": "bar",
         "x": [
          "CANOE (vanilla)",
          "CANOE (ref)",
          "CEF2023",
          "gTech-IESD"
         ],
         "xaxis": "x",
         "y": [
          0.4781158974186128,
          0.4785183133956457,
          2.66946,
          2.3167115776
         ],
         "yaxis": "y"
        },
        {
         "alignmentgroup": "True",
         "hovertemplate": "Plant Type=Solar<br>Period=2025<br>Source=%{x}<br>Capacity (GW)=%{y}<extra></extra>",
         "legendgroup": "Solar",
         "marker": {
          "color": "#990099",
          "pattern": {
           "shape": ""
          }
         },
         "name": "Solar",
         "offsetgroup": "Solar",
         "orientation": "v",
         "showlegend": false,
         "textfont": {
          "size": 9
         },
         "textposition": "auto",
         "texttemplate": "%{y:.1f}",
         "type": "bar",
         "x": [
          "CANOE (vanilla)",
          "CANOE (ref)",
          "CEF2023",
          "gTech-IESD"
         ],
         "xaxis": "x2",
         "y": [
          0.4782509560674828,
          0.47918851095371334,
          2.66946,
          4.100269888
         ],
         "yaxis": "y2"
        },
        {
         "alignmentgroup": "True",
         "hovertemplate": "Plant Type=Solar<br>Period=2030<br>Source=%{x}<br>Capacity (GW)=%{y}<extra></extra>",
         "legendgroup": "Solar",
         "marker": {
          "color": "#990099",
          "pattern": {
           "shape": ""
          }
         },
         "name": "Solar",
         "offsetgroup": "Solar",
         "orientation": "v",
         "showlegend": false,
         "textfont": {
          "size": 9
         },
         "textposition": "auto",
         "texttemplate": "%{y:.1f}",
         "type": "bar",
         "x": [
          "CANOE (vanilla)",
          "CANOE (ref)",
          "CEF2023",
          "gTech-IESD"
         ],
         "xaxis": "x3",
         "y": [
          0.47847259270565407,
          0.4807616144061945,
          2.66946,
          11.120774509999999
         ],
         "yaxis": "y3"
        },
        {
         "alignmentgroup": "True",
         "hovertemplate": "Plant Type=Solar<br>Period=2035<br>Source=%{x}<br>Capacity (GW)=%{y}<extra></extra>",
         "legendgroup": "Solar",
         "marker": {
          "color": "#990099",
          "pattern": {
           "shape": ""
          }
         },
         "name": "Solar",
         "offsetgroup": "Solar",
         "orientation": "v",
         "showlegend": false,
         "textfont": {
          "size": 9
         },
         "textposition": "auto",
         "texttemplate": "%{y:.1f}",
         "type": "bar",
         "x": [
          "CANOE (vanilla)",
          "CANOE (ref)",
          "CEF2023",
          "gTech-IESD"
         ],
         "xaxis": "x4",
         "y": [
          8.540016048760227,
          20.666463626935446,
          2.66946,
          14.697619940000001
         ],
         "yaxis": "y4"
        },
        {
         "alignmentgroup": "True",
         "hovertemplate": "Plant Type=Solar<br>Period=2040<br>Source=%{x}<br>Capacity (GW)=%{y}<extra></extra>",
         "legendgroup": "Solar",
         "marker": {
          "color": "#990099",
          "pattern": {
           "shape": ""
          }
         },
         "name": "Solar",
         "offsetgroup": "Solar",
         "orientation": "v",
         "showlegend": false,
         "textfont": {
          "size": 9
         },
         "textposition": "auto",
         "texttemplate": "%{y:.1f}",
         "type": "bar",
         "x": [
          "CANOE (vanilla)",
          "CANOE (ref)",
          "CEF2023",
          "gTech-IESD"
         ],
         "xaxis": "x5",
         "y": [
          8.540642000760343,
          24.289269089309453,
          2.66946,
          20.029194070000003
         ],
         "yaxis": "y5"
        },
        {
         "alignmentgroup": "True",
         "hovertemplate": "Plant Type=Solar<br>Period=2045<br>Source=%{x}<br>Capacity (GW)=%{y}<extra></extra>",
         "legendgroup": "Solar",
         "marker": {
          "color": "#990099",
          "pattern": {
           "shape": ""
          }
         },
         "name": "Solar",
         "offsetgroup": "Solar",
         "orientation": "v",
         "showlegend": false,
         "textfont": {
          "size": 9
         },
         "textposition": "auto",
         "texttemplate": "%{y:.1f}",
         "type": "bar",
         "x": [
          "CANOE (vanilla)",
          "CANOE (ref)",
          "CEF2023",
          "gTech-IESD"
         ],
         "xaxis": "x6",
         "y": [
          8.161030019104155,
          23.9101883788788,
          5.587364752,
          29.639810320000002
         ],
         "yaxis": "y6"
        },
        {
         "alignmentgroup": "True",
         "hovertemplate": "Plant Type=Solar<br>Period=2050<br>Source=%{x}<br>Capacity (GW)=%{y}<extra></extra>",
         "legendgroup": "Solar",
         "marker": {
          "color": "#990099",
          "pattern": {
           "shape": ""
          }
         },
         "name": "Solar",
         "offsetgroup": "Solar",
         "orientation": "v",
         "showlegend": false,
         "textfont": {
          "size": 9
         },
         "textposition": "auto",
         "texttemplate": "%{y:.1f}",
         "type": "bar",
         "x": [
          "CANOE (vanilla)",
          "CANOE (ref)",
          "CEF2023",
          "gTech-IESD"
         ],
         "xaxis": "x7",
         "y": [
          11.76580111208345,
          24.155684986120814,
          7.4267687605,
          38.6497786
         ],
         "yaxis": "y7"
        },
        {
         "alignmentgroup": "True",
         "hovertemplate": "Plant Type=Wind<br>Period=2021<br>Source=%{x}<br>Capacity (GW)=%{y}<extra></extra>",
         "legendgroup": "Wind",
         "marker": {
          "color": "#0099C6",
          "pattern": {
           "shape": ""
          }
         },
         "name": "Wind",
         "offsetgroup": "Wind",
         "orientation": "v",
         "showlegend": true,
         "textfont": {
          "size": 9
         },
         "textposition": "auto",
         "texttemplate": "%{y:.1f}",
         "type": "bar",
         "x": [
          "CANOE (vanilla)",
          "CANOE (ref)",
          "CEF2023",
          "gTech-IESD"
         ],
         "xaxis": "x",
         "y": [
          4.565115267569617,
          4.566802151466115,
          5.57545,
          5.43582
         ],
         "yaxis": "y"
        },
        {
         "alignmentgroup": "True",
         "hovertemplate": "Plant Type=Wind<br>Period=2025<br>Source=%{x}<br>Capacity (GW)=%{y}<extra></extra>",
         "legendgroup": "Wind",
         "marker": {
          "color": "#0099C6",
          "pattern": {
           "shape": ""
          }
         },
         "name": "Wind",
         "offsetgroup": "Wind",
         "orientation": "v",
         "showlegend": false,
         "textfont": {
          "size": 9
         },
         "textposition": "auto",
         "texttemplate": "%{y:.1f}",
         "type": "bar",
         "x": [
          "CANOE (vanilla)",
          "CANOE (ref)",
          "CEF2023",
          "gTech-IESD"
         ],
         "xaxis": "x2",
         "y": [
          6.933982561928767,
          10.762361837265138,
          5.57545,
          5.43582
         ],
         "yaxis": "y2"
        },
        {
         "alignmentgroup": "True",
         "hovertemplate": "Plant Type=Wind<br>Period=2030<br>Source=%{x}<br>Capacity (GW)=%{y}<extra></extra>",
         "legendgroup": "Wind",
         "marker": {
          "color": "#0099C6",
          "pattern": {
           "shape": ""
          }
         },
         "name": "Wind",
         "offsetgroup": "Wind",
         "orientation": "v",
         "showlegend": false,
         "textfont": {
          "size": 9
         },
         "textposition": "auto",
         "texttemplate": "%{y:.1f}",
         "type": "bar",
         "x": [
          "CANOE (vanilla)",
          "CANOE (ref)",
          "CEF2023",
          "gTech-IESD"
         ],
         "xaxis": "x3",
         "y": [
          17.332555127156635,
          26.39908834668288,
          7.79152011157895,
          8.179162204999999
         ],
         "yaxis": "y3"
        },
        {
         "alignmentgroup": "True",
         "hovertemplate": "Plant Type=Wind<br>Period=2035<br>Source=%{x}<br>Capacity (GW)=%{y}<extra></extra>",
         "legendgroup": "Wind",
         "marker": {
          "color": "#0099C6",
          "pattern": {
           "shape": ""
          }
         },
         "name": "Wind",
         "offsetgroup": "Wind",
         "orientation": "v",
         "showlegend": false,
         "textfont": {
          "size": 9
         },
         "textposition": "auto",
         "texttemplate": "%{y:.1f}",
         "type": "bar",
         "x": [
          "CANOE (vanilla)",
          "CANOE (ref)",
          "CEF2023",
          "gTech-IESD"
         ],
         "xaxis": "x4",
         "y": [
          18.5273435801008,
          26.708438654014678,
          10.067508317894701,
          10.29066386
         ],
         "yaxis": "y4"
        },
        {
         "alignmentgroup": "True",
         "hovertemplate": "Plant Type=Wind<br>Period=2040<br>Source=%{x}<br>Capacity (GW)=%{y}<extra></extra>",
         "legendgroup": "Wind",
         "marker": {
          "color": "#0099C6",
          "pattern": {
           "shape": ""
          }
         },
         "name": "Wind",
         "offsetgroup": "Wind",
         "orientation": "v",
         "showlegend": false,
         "textfont": {
          "size": 9
         },
         "textposition": "auto",
         "texttemplate": "%{y:.1f}",
         "type": "bar",
         "x": [
          "CANOE (vanilla)",
          "CANOE (ref)",
          "CEF2023",
          "gTech-IESD"
         ],
         "xaxis": "x5",
         "y": [
          17.205588672885852,
          31.24493571605266,
          19.2692200705263,
          13.09773267
         ],
         "yaxis": "y5"
        },
        {
         "alignmentgroup": "True",
         "hovertemplate": "Plant Type=Wind<br>Period=2045<br>Source=%{x}<br>Capacity (GW)=%{y}<extra></extra>",
         "legendgroup": "Wind",
         "marker": {
          "color": "#0099C6",
          "pattern": {
           "shape": ""
          }
         },
         "name": "Wind",
         "offsetgroup": "Wind",
         "orientation": "v",
         "showlegend": false,
         "textfont": {
          "size": 9
         },
         "textposition": "auto",
         "texttemplate": "%{y:.1f}",
         "type": "bar",
         "x": [
          "CANOE (vanilla)",
          "CANOE (ref)",
          "CEF2023",
          "gTech-IESD"
         ],
         "xaxis": "x6",
         "y": [
          14.599618870380175,
          28.639684657718778,
          24.1232753363158,
          15.64583755
         ],
         "yaxis": "y6"
        },
        {
         "alignmentgroup": "True",
         "hovertemplate": "Plant Type=Wind<br>Period=2050<br>Source=%{x}<br>Capacity (GW)=%{y}<extra></extra>",
         "legendgroup": "Wind",
         "marker": {
          "color": "#0099C6",
          "pattern": {
           "shape": ""
          }
         },
         "name": "Wind",
         "offsetgroup": "Wind",
         "orientation": "v",
         "showlegend": false,
         "textfont": {
          "size": 9
         },
         "textposition": "auto",
         "texttemplate": "%{y:.1f}",
         "type": "bar",
         "x": [
          "CANOE (vanilla)",
          "CANOE (ref)",
          "CEF2023",
          "gTech-IESD"
         ],
         "xaxis": "x7",
         "y": [
          14.368030728936626,
          28.40946498068575,
          26.539631432631598,
          17.41537143
         ],
         "yaxis": "y7"
        },
        {
         "alignmentgroup": "True",
         "hovertemplate": "Plant Type=Oil<br>Period=2021<br>Source=%{x}<br>Capacity (GW)=%{y}<extra></extra>",
         "legendgroup": "Oil",
         "marker": {
          "color": "#DD4477",
          "pattern": {
           "shape": ""
          }
         },
         "name": "Oil",
         "offsetgroup": "Oil",
         "orientation": "v",
         "showlegend": true,
         "textfont": {
          "size": 9
         },
         "textposition": "auto",
         "texttemplate": "%{y:.1f}",
         "type": "bar",
         "x": [
          "CEF2023"
         ],
         "xaxis": "x",
         "y": [
          0.25045
         ],
         "yaxis": "y"
        },
        {
         "alignmentgroup": "True",
         "hovertemplate": "Plant Type=Oil<br>Period=2025<br>Source=%{x}<br>Capacity (GW)=%{y}<extra></extra>",
         "legendgroup": "Oil",
         "marker": {
          "color": "#DD4477",
          "pattern": {
           "shape": ""
          }
         },
         "name": "Oil",
         "offsetgroup": "Oil",
         "orientation": "v",
         "showlegend": false,
         "textfont": {
          "size": 9
         },
         "textposition": "auto",
         "texttemplate": "%{y:.1f}",
         "type": "bar",
         "x": [
          "CEF2023"
         ],
         "xaxis": "x2",
         "y": [
          0.25045
         ],
         "yaxis": "y2"
        },
        {
         "alignmentgroup": "True",
         "hovertemplate": "Plant Type=Oil<br>Period=2030<br>Source=%{x}<br>Capacity (GW)=%{y}<extra></extra>",
         "legendgroup": "Oil",
         "marker": {
          "color": "#DD4477",
          "pattern": {
           "shape": ""
          }
         },
         "name": "Oil",
         "offsetgroup": "Oil",
         "orientation": "v",
         "showlegend": false,
         "textfont": {
          "size": 9
         },
         "textposition": "auto",
         "texttemplate": "%{y:.1f}",
         "type": "bar",
         "x": [
          "CEF2023"
         ],
         "xaxis": "x3",
         "y": [
          0.25045
         ],
         "yaxis": "y3"
        },
        {
         "alignmentgroup": "True",
         "hovertemplate": "Plant Type=Oil<br>Period=2035<br>Source=%{x}<br>Capacity (GW)=%{y}<extra></extra>",
         "legendgroup": "Oil",
         "marker": {
          "color": "#DD4477",
          "pattern": {
           "shape": ""
          }
         },
         "name": "Oil",
         "offsetgroup": "Oil",
         "orientation": "v",
         "showlegend": false,
         "textfont": {
          "size": 9
         },
         "textposition": "auto",
         "texttemplate": "%{y:.1f}",
         "type": "bar",
         "x": [
          "CEF2023"
         ],
         "xaxis": "x4",
         "y": [
          0.22845
         ],
         "yaxis": "y4"
        },
        {
         "alignmentgroup": "True",
         "hovertemplate": "Plant Type=Oil<br>Period=2040<br>Source=%{x}<br>Capacity (GW)=%{y}<extra></extra>",
         "legendgroup": "Oil",
         "marker": {
          "color": "#DD4477",
          "pattern": {
           "shape": ""
          }
         },
         "name": "Oil",
         "offsetgroup": "Oil",
         "orientation": "v",
         "showlegend": false,
         "textfont": {
          "size": 9
         },
         "textposition": "auto",
         "texttemplate": "%{y:.1f}",
         "type": "bar",
         "x": [
          "CEF2023"
         ],
         "xaxis": "x5",
         "y": [
          0.22845
         ],
         "yaxis": "y5"
        },
        {
         "alignmentgroup": "True",
         "hovertemplate": "Plant Type=Oil<br>Period=2045<br>Source=%{x}<br>Capacity (GW)=%{y}<extra></extra>",
         "legendgroup": "Oil",
         "marker": {
          "color": "#DD4477",
          "pattern": {
           "shape": ""
          }
         },
         "name": "Oil",
         "offsetgroup": "Oil",
         "orientation": "v",
         "showlegend": false,
         "textfont": {
          "size": 9
         },
         "textposition": "auto",
         "texttemplate": "%{y:.1f}",
         "type": "bar",
         "x": [
          "CEF2023"
         ],
         "xaxis": "x6",
         "y": [
          0.22845
         ],
         "yaxis": "y6"
        },
        {
         "alignmentgroup": "True",
         "hovertemplate": "Plant Type=Oil<br>Period=2050<br>Source=%{x}<br>Capacity (GW)=%{y}<extra></extra>",
         "legendgroup": "Oil",
         "marker": {
          "color": "#DD4477",
          "pattern": {
           "shape": ""
          }
         },
         "name": "Oil",
         "offsetgroup": "Oil",
         "orientation": "v",
         "showlegend": false,
         "textfont": {
          "size": 9
         },
         "textposition": "auto",
         "texttemplate": "%{y:.1f}",
         "type": "bar",
         "x": [
          "CEF2023"
         ],
         "xaxis": "x7",
         "y": [
          0.22845
         ],
         "yaxis": "y7"
        },
        {
         "alignmentgroup": "True",
         "hovertemplate": "Plant Type=Other<br>Period=2021<br>Source=%{x}<br>Capacity (GW)=%{y}<extra></extra>",
         "legendgroup": "Other",
         "marker": {
          "color": "#B82E2E",
          "pattern": {
           "shape": ""
          }
         },
         "name": "Other",
         "offsetgroup": "Other",
         "orientation": "v",
         "showlegend": true,
         "textfont": {
          "size": 9
         },
         "textposition": "auto",
         "texttemplate": "%{y:.1f}",
         "type": "bar",
         "x": [
          "gTech-IESD"
         ],
         "xaxis": "x",
         "y": [
          0.68374261086
         ],
         "yaxis": "y"
        },
        {
         "alignmentgroup": "True",
         "hovertemplate": "Plant Type=Other<br>Period=2025<br>Source=%{x}<br>Capacity (GW)=%{y}<extra></extra>",
         "legendgroup": "Other",
         "marker": {
          "color": "#B82E2E",
          "pattern": {
           "shape": ""
          }
         },
         "name": "Other",
         "offsetgroup": "Other",
         "orientation": "v",
         "showlegend": false,
         "textfont": {
          "size": 9
         },
         "textposition": "auto",
         "texttemplate": "%{y:.1f}",
         "type": "bar",
         "x": [
          "gTech-IESD"
         ],
         "xaxis": "x2",
         "y": [
          1.5073112239000002
         ],
         "yaxis": "y2"
        },
        {
         "alignmentgroup": "True",
         "hovertemplate": "Plant Type=Other<br>Period=2030<br>Source=%{x}<br>Capacity (GW)=%{y}<extra></extra>",
         "legendgroup": "Other",
         "marker": {
          "color": "#B82E2E",
          "pattern": {
           "shape": ""
          }
         },
         "name": "Other",
         "offsetgroup": "Other",
         "orientation": "v",
         "showlegend": false,
         "textfont": {
          "size": 9
         },
         "textposition": "auto",
         "texttemplate": "%{y:.1f}",
         "type": "bar",
         "x": [
          "gTech-IESD"
         ],
         "xaxis": "x3",
         "y": [
          1.4825382378000003
         ],
         "yaxis": "y3"
        },
        {
         "alignmentgroup": "True",
         "hovertemplate": "Plant Type=Other<br>Period=2035<br>Source=%{x}<br>Capacity (GW)=%{y}<extra></extra>",
         "legendgroup": "Other",
         "marker": {
          "color": "#B82E2E",
          "pattern": {
           "shape": ""
          }
         },
         "name": "Other",
         "offsetgroup": "Other",
         "orientation": "v",
         "showlegend": false,
         "textfont": {
          "size": 9
         },
         "textposition": "auto",
         "texttemplate": "%{y:.1f}",
         "type": "bar",
         "x": [
          "gTech-IESD"
         ],
         "xaxis": "x4",
         "y": [
          2.0369806674
         ],
         "yaxis": "y4"
        },
        {
         "alignmentgroup": "True",
         "hovertemplate": "Plant Type=Other<br>Period=2040<br>Source=%{x}<br>Capacity (GW)=%{y}<extra></extra>",
         "legendgroup": "Other",
         "marker": {
          "color": "#B82E2E",
          "pattern": {
           "shape": ""
          }
         },
         "name": "Other",
         "offsetgroup": "Other",
         "orientation": "v",
         "showlegend": false,
         "textfont": {
          "size": 9
         },
         "textposition": "auto",
         "texttemplate": "%{y:.1f}",
         "type": "bar",
         "x": [
          "gTech-IESD"
         ],
         "xaxis": "x5",
         "y": [
          3.4268413391
         ],
         "yaxis": "y5"
        },
        {
         "alignmentgroup": "True",
         "hovertemplate": "Plant Type=Other<br>Period=2045<br>Source=%{x}<br>Capacity (GW)=%{y}<extra></extra>",
         "legendgroup": "Other",
         "marker": {
          "color": "#B82E2E",
          "pattern": {
           "shape": ""
          }
         },
         "name": "Other",
         "offsetgroup": "Other",
         "orientation": "v",
         "showlegend": false,
         "textfont": {
          "size": 9
         },
         "textposition": "auto",
         "texttemplate": "%{y:.1f}",
         "type": "bar",
         "x": [
          "gTech-IESD"
         ],
         "xaxis": "x6",
         "y": [
          4.0651297081
         ],
         "yaxis": "y6"
        },
        {
         "alignmentgroup": "True",
         "hovertemplate": "Plant Type=Other<br>Period=2050<br>Source=%{x}<br>Capacity (GW)=%{y}<extra></extra>",
         "legendgroup": "Other",
         "marker": {
          "color": "#B82E2E",
          "pattern": {
           "shape": ""
          }
         },
         "name": "Other",
         "offsetgroup": "Other",
         "orientation": "v",
         "showlegend": false,
         "textfont": {
          "size": 9
         },
         "textposition": "auto",
         "texttemplate": "%{y:.1f}",
         "type": "bar",
         "x": [
          "gTech-IESD"
         ],
         "xaxis": "x7",
         "y": [
          4.093922925799999
         ],
         "yaxis": "y7"
        }
       ],
       "layout": {
        "annotations": [
         {
          "font": {},
          "showarrow": false,
          "text": "2021",
          "x": 0.06285714285714285,
          "xanchor": "center",
          "xref": "paper",
          "y": -0.15,
          "yanchor": "top",
          "yref": "paper"
         },
         {
          "font": {},
          "showarrow": false,
          "text": "2025",
          "x": 0.20857142857142852,
          "xanchor": "center",
          "xref": "paper",
          "y": -0.15,
          "yanchor": "top",
          "yref": "paper"
         },
         {
          "font": {},
          "showarrow": false,
          "text": "2030",
          "x": 0.3542857142857142,
          "xanchor": "center",
          "xref": "paper",
          "y": -0.15,
          "yanchor": "top",
          "yref": "paper"
         },
         {
          "font": {},
          "showarrow": false,
          "text": "2035",
          "x": 0.5,
          "xanchor": "center",
          "xref": "paper",
          "y": -0.15,
          "yanchor": "top",
          "yref": "paper"
         },
         {
          "font": {},
          "showarrow": false,
          "text": "2040",
          "x": 0.6457142857142856,
          "xanchor": "center",
          "xref": "paper",
          "y": -0.15,
          "yanchor": "top",
          "yref": "paper"
         },
         {
          "font": {},
          "showarrow": false,
          "text": "2045",
          "x": 0.7914285714285713,
          "xanchor": "center",
          "xref": "paper",
          "y": -0.15,
          "yanchor": "top",
          "yref": "paper"
         },
         {
          "font": {},
          "showarrow": false,
          "text": "2050",
          "x": 0.937142857142857,
          "xanchor": "center",
          "xref": "paper",
          "y": -0.15,
          "yanchor": "top",
          "yref": "paper"
         }
        ],
        "bargap": 0.1,
        "barmode": "stack",
        "font": {
         "size": 14
        },
        "height": 650,
        "legend": {
         "orientation": "h",
         "title": {
          "text": ""
         },
         "tracegroupgap": 0,
         "x": 0.5,
         "xanchor": "center",
         "y": 1.04,
         "yanchor": "top"
        },
        "margin": {
         "t": 60
        },
        "template": {
         "data": {
          "bar": [
           {
            "error_x": {
             "color": "#2a3f5f"
            },
            "error_y": {
             "color": "#2a3f5f"
            },
            "marker": {
             "line": {
              "color": "white",
              "width": 0.5
             },
             "pattern": {
              "fillmode": "overlay",
              "size": 10,
              "solidity": 0.2
             }
            },
            "type": "bar"
           }
          ],
          "barpolar": [
           {
            "marker": {
             "line": {
              "color": "white",
              "width": 0.5
             },
             "pattern": {
              "fillmode": "overlay",
              "size": 10,
              "solidity": 0.2
             }
            },
            "type": "barpolar"
           }
          ],
          "carpet": [
           {
            "aaxis": {
             "endlinecolor": "#2a3f5f",
             "gridcolor": "#C8D4E3",
             "linecolor": "#C8D4E3",
             "minorgridcolor": "#C8D4E3",
             "startlinecolor": "#2a3f5f"
            },
            "baxis": {
             "endlinecolor": "#2a3f5f",
             "gridcolor": "#C8D4E3",
             "linecolor": "#C8D4E3",
             "minorgridcolor": "#C8D4E3",
             "startlinecolor": "#2a3f5f"
            },
            "type": "carpet"
           }
          ],
          "choropleth": [
           {
            "colorbar": {
             "outlinewidth": 0,
             "ticks": ""
            },
            "type": "choropleth"
           }
          ],
          "contour": [
           {
            "colorbar": {
             "outlinewidth": 0,
             "ticks": ""
            },
            "colorscale": [
             [
              0,
              "#0d0887"
             ],
             [
              0.1111111111111111,
              "#46039f"
             ],
             [
              0.2222222222222222,
              "#7201a8"
             ],
             [
              0.3333333333333333,
              "#9c179e"
             ],
             [
              0.4444444444444444,
              "#bd3786"
             ],
             [
              0.5555555555555556,
              "#d8576b"
             ],
             [
              0.6666666666666666,
              "#ed7953"
             ],
             [
              0.7777777777777778,
              "#fb9f3a"
             ],
             [
              0.8888888888888888,
              "#fdca26"
             ],
             [
              1,
              "#f0f921"
             ]
            ],
            "type": "contour"
           }
          ],
          "contourcarpet": [
           {
            "colorbar": {
             "outlinewidth": 0,
             "ticks": ""
            },
            "type": "contourcarpet"
           }
          ],
          "heatmap": [
           {
            "colorbar": {
             "outlinewidth": 0,
             "ticks": ""
            },
            "colorscale": [
             [
              0,
              "#0d0887"
             ],
             [
              0.1111111111111111,
              "#46039f"
             ],
             [
              0.2222222222222222,
              "#7201a8"
             ],
             [
              0.3333333333333333,
              "#9c179e"
             ],
             [
              0.4444444444444444,
              "#bd3786"
             ],
             [
              0.5555555555555556,
              "#d8576b"
             ],
             [
              0.6666666666666666,
              "#ed7953"
             ],
             [
              0.7777777777777778,
              "#fb9f3a"
             ],
             [
              0.8888888888888888,
              "#fdca26"
             ],
             [
              1,
              "#f0f921"
             ]
            ],
            "type": "heatmap"
           }
          ],
          "heatmapgl": [
           {
            "colorbar": {
             "outlinewidth": 0,
             "ticks": ""
            },
            "colorscale": [
             [
              0,
              "#0d0887"
             ],
             [
              0.1111111111111111,
              "#46039f"
             ],
             [
              0.2222222222222222,
              "#7201a8"
             ],
             [
              0.3333333333333333,
              "#9c179e"
             ],
             [
              0.4444444444444444,
              "#bd3786"
             ],
             [
              0.5555555555555556,
              "#d8576b"
             ],
             [
              0.6666666666666666,
              "#ed7953"
             ],
             [
              0.7777777777777778,
              "#fb9f3a"
             ],
             [
              0.8888888888888888,
              "#fdca26"
             ],
             [
              1,
              "#f0f921"
             ]
            ],
            "type": "heatmapgl"
           }
          ],
          "histogram": [
           {
            "marker": {
             "pattern": {
              "fillmode": "overlay",
              "size": 10,
              "solidity": 0.2
             }
            },
            "type": "histogram"
           }
          ],
          "histogram2d": [
           {
            "colorbar": {
             "outlinewidth": 0,
             "ticks": ""
            },
            "colorscale": [
             [
              0,
              "#0d0887"
             ],
             [
              0.1111111111111111,
              "#46039f"
             ],
             [
              0.2222222222222222,
              "#7201a8"
             ],
             [
              0.3333333333333333,
              "#9c179e"
             ],
             [
              0.4444444444444444,
              "#bd3786"
             ],
             [
              0.5555555555555556,
              "#d8576b"
             ],
             [
              0.6666666666666666,
              "#ed7953"
             ],
             [
              0.7777777777777778,
              "#fb9f3a"
             ],
             [
              0.8888888888888888,
              "#fdca26"
             ],
             [
              1,
              "#f0f921"
             ]
            ],
            "type": "histogram2d"
           }
          ],
          "histogram2dcontour": [
           {
            "colorbar": {
             "outlinewidth": 0,
             "ticks": ""
            },
            "colorscale": [
             [
              0,
              "#0d0887"
             ],
             [
              0.1111111111111111,
              "#46039f"
             ],
             [
              0.2222222222222222,
              "#7201a8"
             ],
             [
              0.3333333333333333,
              "#9c179e"
             ],
             [
              0.4444444444444444,
              "#bd3786"
             ],
             [
              0.5555555555555556,
              "#d8576b"
             ],
             [
              0.6666666666666666,
              "#ed7953"
             ],
             [
              0.7777777777777778,
              "#fb9f3a"
             ],
             [
              0.8888888888888888,
              "#fdca26"
             ],
             [
              1,
              "#f0f921"
             ]
            ],
            "type": "histogram2dcontour"
           }
          ],
          "mesh3d": [
           {
            "colorbar": {
             "outlinewidth": 0,
             "ticks": ""
            },
            "type": "mesh3d"
           }
          ],
          "parcoords": [
           {
            "line": {
             "colorbar": {
              "outlinewidth": 0,
              "ticks": ""
             }
            },
            "type": "parcoords"
           }
          ],
          "pie": [
           {
            "automargin": true,
            "type": "pie"
           }
          ],
          "scatter": [
           {
            "fillpattern": {
             "fillmode": "overlay",
             "size": 10,
             "solidity": 0.2
            },
            "type": "scatter"
           }
          ],
          "scatter3d": [
           {
            "line": {
             "colorbar": {
              "outlinewidth": 0,
              "ticks": ""
             }
            },
            "marker": {
             "colorbar": {
              "outlinewidth": 0,
              "ticks": ""
             }
            },
            "type": "scatter3d"
           }
          ],
          "scattercarpet": [
           {
            "marker": {
             "colorbar": {
              "outlinewidth": 0,
              "ticks": ""
             }
            },
            "type": "scattercarpet"
           }
          ],
          "scattergeo": [
           {
            "marker": {
             "colorbar": {
              "outlinewidth": 0,
              "ticks": ""
             }
            },
            "type": "scattergeo"
           }
          ],
          "scattergl": [
           {
            "marker": {
             "colorbar": {
              "outlinewidth": 0,
              "ticks": ""
             }
            },
            "type": "scattergl"
           }
          ],
          "scattermapbox": [
           {
            "marker": {
             "colorbar": {
              "outlinewidth": 0,
              "ticks": ""
             }
            },
            "type": "scattermapbox"
           }
          ],
          "scatterpolar": [
           {
            "marker": {
             "colorbar": {
              "outlinewidth": 0,
              "ticks": ""
             }
            },
            "type": "scatterpolar"
           }
          ],
          "scatterpolargl": [
           {
            "marker": {
             "colorbar": {
              "outlinewidth": 0,
              "ticks": ""
             }
            },
            "type": "scatterpolargl"
           }
          ],
          "scatterternary": [
           {
            "marker": {
             "colorbar": {
              "outlinewidth": 0,
              "ticks": ""
             }
            },
            "type": "scatterternary"
           }
          ],
          "surface": [
           {
            "colorbar": {
             "outlinewidth": 0,
             "ticks": ""
            },
            "colorscale": [
             [
              0,
              "#0d0887"
             ],
             [
              0.1111111111111111,
              "#46039f"
             ],
             [
              0.2222222222222222,
              "#7201a8"
             ],
             [
              0.3333333333333333,
              "#9c179e"
             ],
             [
              0.4444444444444444,
              "#bd3786"
             ],
             [
              0.5555555555555556,
              "#d8576b"
             ],
             [
              0.6666666666666666,
              "#ed7953"
             ],
             [
              0.7777777777777778,
              "#fb9f3a"
             ],
             [
              0.8888888888888888,
              "#fdca26"
             ],
             [
              1,
              "#f0f921"
             ]
            ],
            "type": "surface"
           }
          ],
          "table": [
           {
            "cells": {
             "fill": {
              "color": "#EBF0F8"
             },
             "line": {
              "color": "white"
             }
            },
            "header": {
             "fill": {
              "color": "#C8D4E3"
             },
             "line": {
              "color": "white"
             }
            },
            "type": "table"
           }
          ]
         },
         "layout": {
          "annotationdefaults": {
           "arrowcolor": "#2a3f5f",
           "arrowhead": 0,
           "arrowwidth": 1
          },
          "autotypenumbers": "strict",
          "coloraxis": {
           "colorbar": {
            "outlinewidth": 0,
            "ticks": ""
           }
          },
          "colorscale": {
           "diverging": [
            [
             0,
             "#8e0152"
            ],
            [
             0.1,
             "#c51b7d"
            ],
            [
             0.2,
             "#de77ae"
            ],
            [
             0.3,
             "#f1b6da"
            ],
            [
             0.4,
             "#fde0ef"
            ],
            [
             0.5,
             "#f7f7f7"
            ],
            [
             0.6,
             "#e6f5d0"
            ],
            [
             0.7,
             "#b8e186"
            ],
            [
             0.8,
             "#7fbc41"
            ],
            [
             0.9,
             "#4d9221"
            ],
            [
             1,
             "#276419"
            ]
           ],
           "sequential": [
            [
             0,
             "#0d0887"
            ],
            [
             0.1111111111111111,
             "#46039f"
            ],
            [
             0.2222222222222222,
             "#7201a8"
            ],
            [
             0.3333333333333333,
             "#9c179e"
            ],
            [
             0.4444444444444444,
             "#bd3786"
            ],
            [
             0.5555555555555556,
             "#d8576b"
            ],
            [
             0.6666666666666666,
             "#ed7953"
            ],
            [
             0.7777777777777778,
             "#fb9f3a"
            ],
            [
             0.8888888888888888,
             "#fdca26"
            ],
            [
             1,
             "#f0f921"
            ]
           ],
           "sequentialminus": [
            [
             0,
             "#0d0887"
            ],
            [
             0.1111111111111111,
             "#46039f"
            ],
            [
             0.2222222222222222,
             "#7201a8"
            ],
            [
             0.3333333333333333,
             "#9c179e"
            ],
            [
             0.4444444444444444,
             "#bd3786"
            ],
            [
             0.5555555555555556,
             "#d8576b"
            ],
            [
             0.6666666666666666,
             "#ed7953"
            ],
            [
             0.7777777777777778,
             "#fb9f3a"
            ],
            [
             0.8888888888888888,
             "#fdca26"
            ],
            [
             1,
             "#f0f921"
            ]
           ]
          },
          "colorway": [
           "#636efa",
           "#EF553B",
           "#00cc96",
           "#ab63fa",
           "#FFA15A",
           "#19d3f3",
           "#FF6692",
           "#B6E880",
           "#FF97FF",
           "#FECB52"
          ],
          "font": {
           "color": "#2a3f5f"
          },
          "geo": {
           "bgcolor": "white",
           "lakecolor": "white",
           "landcolor": "white",
           "showlakes": true,
           "showland": true,
           "subunitcolor": "#C8D4E3"
          },
          "hoverlabel": {
           "align": "left"
          },
          "hovermode": "closest",
          "mapbox": {
           "style": "light"
          },
          "paper_bgcolor": "white",
          "plot_bgcolor": "white",
          "polar": {
           "angularaxis": {
            "gridcolor": "#EBF0F8",
            "linecolor": "#EBF0F8",
            "ticks": ""
           },
           "bgcolor": "white",
           "radialaxis": {
            "gridcolor": "#EBF0F8",
            "linecolor": "#EBF0F8",
            "ticks": ""
           }
          },
          "scene": {
           "xaxis": {
            "backgroundcolor": "white",
            "gridcolor": "#DFE8F3",
            "gridwidth": 2,
            "linecolor": "#EBF0F8",
            "showbackground": true,
            "ticks": "",
            "zerolinecolor": "#EBF0F8"
           },
           "yaxis": {
            "backgroundcolor": "white",
            "gridcolor": "#DFE8F3",
            "gridwidth": 2,
            "linecolor": "#EBF0F8",
            "showbackground": true,
            "ticks": "",
            "zerolinecolor": "#EBF0F8"
           },
           "zaxis": {
            "backgroundcolor": "white",
            "gridcolor": "#DFE8F3",
            "gridwidth": 2,
            "linecolor": "#EBF0F8",
            "showbackground": true,
            "ticks": "",
            "zerolinecolor": "#EBF0F8"
           }
          },
          "shapedefaults": {
           "line": {
            "color": "#2a3f5f"
           }
          },
          "ternary": {
           "aaxis": {
            "gridcolor": "#DFE8F3",
            "linecolor": "#A2B1C6",
            "ticks": ""
           },
           "baxis": {
            "gridcolor": "#DFE8F3",
            "linecolor": "#A2B1C6",
            "ticks": ""
           },
           "bgcolor": "white",
           "caxis": {
            "gridcolor": "#DFE8F3",
            "linecolor": "#A2B1C6",
            "ticks": ""
           }
          },
          "title": {
           "x": 0.05
          },
          "xaxis": {
           "automargin": true,
           "gridcolor": "#EBF0F8",
           "linecolor": "#EBF0F8",
           "ticks": "",
           "title": {
            "standoff": 15
           },
           "zerolinecolor": "#EBF0F8",
           "zerolinewidth": 2
          },
          "yaxis": {
           "automargin": true,
           "gridcolor": "#EBF0F8",
           "linecolor": "#EBF0F8",
           "ticks": "",
           "title": {
            "standoff": 15
           },
           "zerolinecolor": "#EBF0F8",
           "zerolinewidth": 2
          }
         }
        },
        "title": {
         "text": "Electricity generation capacity in ON by plant type and energy model",
         "x": 0.5,
         "xanchor": "center",
         "y": 0.97,
         "yanchor": "top"
        },
        "width": 1200,
        "xaxis": {
         "anchor": "y",
         "domain": [
          0,
          0.1257142857142857
         ],
         "title": {
          "text": ""
         }
        },
        "xaxis2": {
         "anchor": "y2",
         "domain": [
          0.14571428571428569,
          0.27142857142857135
         ],
         "matches": "x",
         "title": {
          "text": ""
         }
        },
        "xaxis3": {
         "anchor": "y3",
         "domain": [
          0.29142857142857137,
          0.41714285714285704
         ],
         "matches": "x",
         "title": {
          "text": ""
         }
        },
        "xaxis4": {
         "anchor": "y4",
         "domain": [
          0.4371428571428571,
          0.5628571428571428
         ],
         "matches": "x",
         "title": {
          "text": ""
         }
        },
        "xaxis5": {
         "anchor": "y5",
         "domain": [
          0.5828571428571427,
          0.7085714285714284
         ],
         "matches": "x",
         "title": {
          "text": ""
         }
        },
        "xaxis6": {
         "anchor": "y6",
         "domain": [
          0.7285714285714284,
          0.8542857142857141
         ],
         "matches": "x",
         "title": {
          "text": ""
         }
        },
        "xaxis7": {
         "anchor": "y7",
         "domain": [
          0.8742857142857142,
          0.9999999999999999
         ],
         "matches": "x",
         "title": {
          "text": ""
         }
        },
        "yaxis": {
         "anchor": "x",
         "domain": [
          0,
          1
         ],
         "dtick": 20,
         "title": {
          "standoff": 0,
          "text": "Capacity (GW)"
         }
        },
        "yaxis2": {
         "anchor": "x2",
         "domain": [
          0,
          1
         ],
         "dtick": 20,
         "matches": "y",
         "showticklabels": false
        },
        "yaxis3": {
         "anchor": "x3",
         "domain": [
          0,
          1
         ],
         "dtick": 20,
         "matches": "y",
         "showticklabels": false
        },
        "yaxis4": {
         "anchor": "x4",
         "domain": [
          0,
          1
         ],
         "dtick": 20,
         "matches": "y",
         "showticklabels": false
        },
        "yaxis5": {
         "anchor": "x5",
         "domain": [
          0,
          1
         ],
         "dtick": 20,
         "matches": "y",
         "showticklabels": false
        },
        "yaxis6": {
         "anchor": "x6",
         "domain": [
          0,
          1
         ],
         "dtick": 20,
         "matches": "y",
         "showticklabels": false
        },
        "yaxis7": {
         "anchor": "x7",
         "domain": [
          0,
          1
         ],
         "dtick": 20,
         "matches": "y",
         "showticklabels": false
        }
       }
      }
     },
     "metadata": {},
     "output_type": "display_data"
    }
   ],
   "source": [
    "bau23_cap['Capacity (GW)'] = bau23_cap['Capacity (MW)'] / 1E3\n",
    "bau23_fig = bau23_cap[['Period', 'Plant Type', 'Capacity (GW)']].copy()\n",
    "bau23_fig['Plant Type'] = bau23_fig['Plant Type'].replace({'Hydro / Wave / Tidal': 'Hydro', 'Biomass / Geothermal': 'Biomass', 'Uranium': 'Nuclear'})\n",
    "ref_fig = ref_elccap[ref_elccap['Plant Type'] != 'Other'].groupby(['Period', 'Plant Type'], as_index=False).sum('Capacity (GW)')\n",
    "vanilla_fig = vanilla_elccap[vanilla_elccap['Plant Type'] != 'Other'].groupby(['Period', 'Plant Type'], as_index=False).sum('Capacity (GW)')\n",
    "gtech23_ref_cap['Capacity (GW)'] = gtech23_ref_cap['Capacity (MW)'] / 1E3\n",
    "gtech23_fig = gtech23_ref_cap.copy()\n",
    "gtech23_fig['Period'] = gtech23_fig['Period'].astype(str)\n",
    "\n",
    "gtech23_fig['Source'] = 'gTech-IESD'\n",
    "bau23_fig['Source'] = 'CEF2023'\n",
    "ref_fig['Source'] = 'CANOE (ref)'\n",
    "vanilla_fig['Source'] = 'CANOE (vanilla)'\n",
    "\n",
    "fig_df = pd.concat([vanilla_fig[['Period', 'Plant Type', 'Capacity (GW)', 'Source']], ref_fig[['Period', 'Plant Type', 'Capacity (GW)', 'Source']], bau23_fig[['Period', 'Plant Type', 'Capacity (GW)', 'Source']], gtech23_fig[['Period', 'Plant Type', 'Capacity (GW)', 'Source']]])\n",
    "\n",
    "fig = px.bar(fig_df, \n",
    "             x='Source', \n",
    "             y='Capacity (GW)', \n",
    "             color='Plant Type', \n",
    "             barmode='stack', \n",
    "             facet_col='Period',\n",
    "             facet_col_spacing=2E-2,\n",
    "             template='plotly_white',\n",
    "             color_discrete_sequence=px.colors.qualitative.G10[:7] + px.colors.qualitative.G10[8:],\n",
    "             text_auto='.1f',\n",
    "             width=1200, height=650,\n",
    "             )\n",
    "\n",
    "fig.update_layout(title=dict(\n",
    "        text='Electricity generation capacity in ON by plant type and energy model',\n",
    "        x=0.5, \n",
    "        y=0.97,\n",
    "        xanchor='center',\n",
    "        yanchor='top'\n",
    "    ),\n",
    "    xaxis=dict(title='Period'),\n",
    "    yaxis=dict(title='Capacity (GW)',\n",
    "               dtick=20),\n",
    "    yaxis_title_standoff=0,\n",
    "    legend_title_text='',\n",
    "    bargap=0.1,\n",
    "    legend=dict(\n",
    "        orientation='h',  \n",
    "        yanchor='top',\n",
    "        y=1.04,  \n",
    "        xanchor='center',\n",
    "        x=0.5),\n",
    "    font=dict(\n",
    "        # family=\"Open Sans\",\n",
    "        size=14)\n",
    "    )\n",
    "\n",
    "for annotation in fig.layout.annotations:\n",
    "    annotation.text = annotation.text.split('=')[1]\n",
    "    annotation.y = -0.15  \n",
    "    annotation.yanchor = 'top' \n",
    "\n",
    "for axis in fig.layout:\n",
    "    if axis.startswith('yaxis'):\n",
    "        fig.layout[axis].dtick = 20\n",
    "\n",
    "for axis in fig.layout:\n",
    "    if axis.startswith('xaxis'):\n",
    "        fig.layout[axis].title.text = ''\n",
    "\n",
    "fig.for_each_trace(lambda trace: trace.update(textfont=dict(size=9)))\n",
    "\n",
    "fig.show()"
   ]
  },
  {
   "cell_type": "code",
   "execution_count": 149,
   "metadata": {},
   "outputs": [],
   "source": [
    "ref_elcact.columns = ref_elcact.columns.astype(str)\n",
    "vanilla_elcact.columns = vanilla_elcact.columns.astype(str)\n",
    "\n",
    "periods = [col for col in ref_elcact.columns if col.isdigit()]\n",
    "params = [col for col in ref_elcact.columns if not col.isdigit()]\n",
    "ref_elcact = pd.melt(ref_elcact, id_vars=params, var_name='Period', value_name='Generation (PJ)', value_vars=periods)\n",
    "vanilla_elcact = pd.melt(vanilla_elcact, id_vars=params, var_name='Period', value_name='Generation (PJ)', value_vars=periods)\n",
    "\n",
    "gtech23_ref_gen['Plant Type'] = gtech23_ref_gen['Plant Type'].apply(plant_rename)\n",
    "gtech23_ref_gen = gtech23_ref_gen.groupby(['Period', 'Plant Type'], as_index=False).sum()"
   ]
  },
  {
   "cell_type": "code",
   "execution_count": 150,
   "metadata": {},
   "outputs": [
    {
     "data": {
      "application/vnd.plotly.v1+json": {
       "config": {
        "plotlyServerURL": "https://plot.ly"
       },
       "data": [
        {
         "alignmentgroup": "True",
         "hovertemplate": "Plant Type=Biomass<br>Period=2021<br>Source=%{x}<br>Generation (PJ)=%{y}<extra></extra>",
         "legendgroup": "Biomass",
         "marker": {
          "color": "#3366CC",
          "pattern": {
           "shape": ""
          }
         },
         "name": "Biomass",
         "offsetgroup": "Biomass",
         "orientation": "v",
         "showlegend": true,
         "textfont": {
          "size": 9
         },
         "textposition": "auto",
         "texttemplate": "%{y:.1f}",
         "type": "bar",
         "x": [
          "CANOE (vanilla)",
          "CANOE (ref)",
          "CEF2023"
         ],
         "xaxis": "x",
         "y": [
          0,
          0,
          4.3015713287544
         ],
         "yaxis": "y"
        },
        {
         "alignmentgroup": "True",
         "hovertemplate": "Plant Type=Biomass<br>Period=2025<br>Source=%{x}<br>Generation (PJ)=%{y}<extra></extra>",
         "legendgroup": "Biomass",
         "marker": {
          "color": "#3366CC",
          "pattern": {
           "shape": ""
          }
         },
         "name": "Biomass",
         "offsetgroup": "Biomass",
         "orientation": "v",
         "showlegend": false,
         "textfont": {
          "size": 9
         },
         "textposition": "auto",
         "texttemplate": "%{y:.1f}",
         "type": "bar",
         "x": [
          "CANOE (vanilla)",
          "CANOE (ref)",
          "CEF2023"
         ],
         "xaxis": "x2",
         "y": [
          0,
          0,
          4.1386093236
         ],
         "yaxis": "y2"
        },
        {
         "alignmentgroup": "True",
         "hovertemplate": "Plant Type=Biomass<br>Period=2030<br>Source=%{x}<br>Generation (PJ)=%{y}<extra></extra>",
         "legendgroup": "Biomass",
         "marker": {
          "color": "#3366CC",
          "pattern": {
           "shape": ""
          }
         },
         "name": "Biomass",
         "offsetgroup": "Biomass",
         "orientation": "v",
         "showlegend": false,
         "textfont": {
          "size": 9
         },
         "textposition": "auto",
         "texttemplate": "%{y:.1f}",
         "type": "bar",
         "x": [
          "CANOE (vanilla)",
          "CANOE (ref)",
          "CEF2023"
         ],
         "xaxis": "x3",
         "y": [
          0,
          0,
          4.3822057463999995
         ],
         "yaxis": "y3"
        },
        {
         "alignmentgroup": "True",
         "hovertemplate": "Plant Type=Biomass<br>Period=2035<br>Source=%{x}<br>Generation (PJ)=%{y}<extra></extra>",
         "legendgroup": "Biomass",
         "marker": {
          "color": "#3366CC",
          "pattern": {
           "shape": ""
          }
         },
         "name": "Biomass",
         "offsetgroup": "Biomass",
         "orientation": "v",
         "showlegend": false,
         "textfont": {
          "size": 9
         },
         "textposition": "auto",
         "texttemplate": "%{y:.1f}",
         "type": "bar",
         "x": [
          "CANOE (vanilla)",
          "CANOE (ref)",
          "CEF2023"
         ],
         "xaxis": "x4",
         "y": [
          0,
          0,
          6.8214275639999995
         ],
         "yaxis": "y4"
        },
        {
         "alignmentgroup": "True",
         "hovertemplate": "Plant Type=Biomass<br>Period=2040<br>Source=%{x}<br>Generation (PJ)=%{y}<extra></extra>",
         "legendgroup": "Biomass",
         "marker": {
          "color": "#3366CC",
          "pattern": {
           "shape": ""
          }
         },
         "name": "Biomass",
         "offsetgroup": "Biomass",
         "orientation": "v",
         "showlegend": false,
         "textfont": {
          "size": 9
         },
         "textposition": "auto",
         "texttemplate": "%{y:.1f}",
         "type": "bar",
         "x": [
          "CANOE (vanilla)",
          "CANOE (ref)",
          "CEF2023"
         ],
         "xaxis": "x5",
         "y": [
          0,
          0,
          7.010796646799999
         ],
         "yaxis": "y5"
        },
        {
         "alignmentgroup": "True",
         "hovertemplate": "Plant Type=Biomass<br>Period=2045<br>Source=%{x}<br>Generation (PJ)=%{y}<extra></extra>",
         "legendgroup": "Biomass",
         "marker": {
          "color": "#3366CC",
          "pattern": {
           "shape": ""
          }
         },
         "name": "Biomass",
         "offsetgroup": "Biomass",
         "orientation": "v",
         "showlegend": false,
         "textfont": {
          "size": 9
         },
         "textposition": "auto",
         "texttemplate": "%{y:.1f}",
         "type": "bar",
         "x": [
          "CANOE (vanilla)",
          "CANOE (ref)",
          "CEF2023"
         ],
         "xaxis": "x6",
         "y": [
          0.2202286132698462,
          0,
          6.698494429199999
         ],
         "yaxis": "y6"
        },
        {
         "alignmentgroup": "True",
         "hovertemplate": "Plant Type=Biomass<br>Period=2050<br>Source=%{x}<br>Generation (PJ)=%{y}<extra></extra>",
         "legendgroup": "Biomass",
         "marker": {
          "color": "#3366CC",
          "pattern": {
           "shape": ""
          }
         },
         "name": "Biomass",
         "offsetgroup": "Biomass",
         "orientation": "v",
         "showlegend": false,
         "textfont": {
          "size": 9
         },
         "textposition": "auto",
         "texttemplate": "%{y:.1f}",
         "type": "bar",
         "x": [
          "CANOE (vanilla)",
          "CANOE (ref)",
          "CEF2023"
         ],
         "xaxis": "x7",
         "y": [
          0.2202286735548418,
          0,
          7.2196892892
         ],
         "yaxis": "y7"
        },
        {
         "alignmentgroup": "True",
         "hovertemplate": "Plant Type=Hydro<br>Period=2021<br>Source=%{x}<br>Generation (PJ)=%{y}<extra></extra>",
         "legendgroup": "Hydro",
         "marker": {
          "color": "#DC3912",
          "pattern": {
           "shape": ""
          }
         },
         "name": "Hydro",
         "offsetgroup": "Hydro",
         "orientation": "v",
         "showlegend": true,
         "textfont": {
          "size": 9
         },
         "textposition": "auto",
         "texttemplate": "%{y:.1f}",
         "type": "bar",
         "x": [
          "CANOE (vanilla)",
          "CANOE (ref)",
          "CEF2023",
          "gTech-IESD"
         ],
         "xaxis": "x",
         "y": [
          116.93924841977764,
          116.93911235173685,
          126.83786202,
          136.8541162728
         ],
         "yaxis": "y"
        },
        {
         "alignmentgroup": "True",
         "hovertemplate": "Plant Type=Hydro<br>Period=2025<br>Source=%{x}<br>Generation (PJ)=%{y}<extra></extra>",
         "legendgroup": "Hydro",
         "marker": {
          "color": "#DC3912",
          "pattern": {
           "shape": ""
          }
         },
         "name": "Hydro",
         "offsetgroup": "Hydro",
         "orientation": "v",
         "showlegend": false,
         "textfont": {
          "size": 9
         },
         "textposition": "auto",
         "texttemplate": "%{y:.1f}",
         "type": "bar",
         "x": [
          "CANOE (vanilla)",
          "CANOE (ref)",
          "CEF2023",
          "gTech-IESD"
         ],
         "xaxis": "x2",
         "y": [
          116.91912928624492,
          115.17172826360348,
          128.893166676,
          134.474275332
         ],
         "yaxis": "y2"
        },
        {
         "alignmentgroup": "True",
         "hovertemplate": "Plant Type=Hydro<br>Period=2030<br>Source=%{x}<br>Generation (PJ)=%{y}<extra></extra>",
         "legendgroup": "Hydro",
         "marker": {
          "color": "#DC3912",
          "pattern": {
           "shape": ""
          }
         },
         "name": "Hydro",
         "offsetgroup": "Hydro",
         "orientation": "v",
         "showlegend": false,
         "textfont": {
          "size": 9
         },
         "textposition": "auto",
         "texttemplate": "%{y:.1f}",
         "type": "bar",
         "x": [
          "CANOE (vanilla)",
          "CANOE (ref)",
          "CEF2023",
          "gTech-IESD"
         ],
         "xaxis": "x3",
         "y": [
          114.83170606293005,
          108.68572312702568,
          135.178452036,
          134.13612535200002
         ],
         "yaxis": "y3"
        },
        {
         "alignmentgroup": "True",
         "hovertemplate": "Plant Type=Hydro<br>Period=2035<br>Source=%{x}<br>Generation (PJ)=%{y}<extra></extra>",
         "legendgroup": "Hydro",
         "marker": {
          "color": "#DC3912",
          "pattern": {
           "shape": ""
          }
         },
         "name": "Hydro",
         "offsetgroup": "Hydro",
         "orientation": "v",
         "showlegend": false,
         "textfont": {
          "size": 9
         },
         "textposition": "auto",
         "texttemplate": "%{y:.1f}",
         "type": "bar",
         "x": [
          "CANOE (vanilla)",
          "CANOE (ref)",
          "CEF2023",
          "gTech-IESD"
         ],
         "xaxis": "x4",
         "y": [
          116.62704215767033,
          110.19726119457826,
          135.701060328,
          133.35906459600002
         ],
         "yaxis": "y4"
        },
        {
         "alignmentgroup": "True",
         "hovertemplate": "Plant Type=Hydro<br>Period=2040<br>Source=%{x}<br>Generation (PJ)=%{y}<extra></extra>",
         "legendgroup": "Hydro",
         "marker": {
          "color": "#DC3912",
          "pattern": {
           "shape": ""
          }
         },
         "name": "Hydro",
         "offsetgroup": "Hydro",
         "orientation": "v",
         "showlegend": false,
         "textfont": {
          "size": 9
         },
         "textposition": "auto",
         "texttemplate": "%{y:.1f}",
         "type": "bar",
         "x": [
          "CANOE (vanilla)",
          "CANOE (ref)",
          "CEF2023",
          "gTech-IESD"
         ],
         "xaxis": "x5",
         "y": [
          116.93921552307734,
          111.60167480090033,
          134.285007348,
          132.9763464
         ],
         "yaxis": "y5"
        },
        {
         "alignmentgroup": "True",
         "hovertemplate": "Plant Type=Hydro<br>Period=2045<br>Source=%{x}<br>Generation (PJ)=%{y}<extra></extra>",
         "legendgroup": "Hydro",
         "marker": {
          "color": "#DC3912",
          "pattern": {
           "shape": ""
          }
         },
         "name": "Hydro",
         "offsetgroup": "Hydro",
         "orientation": "v",
         "showlegend": false,
         "textfont": {
          "size": 9
         },
         "textposition": "auto",
         "texttemplate": "%{y:.1f}",
         "type": "bar",
         "x": [
          "CANOE (vanilla)",
          "CANOE (ref)",
          "CEF2023",
          "gTech-IESD"
         ],
         "xaxis": "x6",
         "y": [
          116.93920591020947,
          111.90512763734088,
          133.969748868,
          131.967125856
         ],
         "yaxis": "y6"
        },
        {
         "alignmentgroup": "True",
         "hovertemplate": "Plant Type=Hydro<br>Period=2050<br>Source=%{x}<br>Generation (PJ)=%{y}<extra></extra>",
         "legendgroup": "Hydro",
         "marker": {
          "color": "#DC3912",
          "pattern": {
           "shape": ""
          }
         },
         "name": "Hydro",
         "offsetgroup": "Hydro",
         "orientation": "v",
         "showlegend": false,
         "textfont": {
          "size": 9
         },
         "textposition": "auto",
         "texttemplate": "%{y:.1f}",
         "type": "bar",
         "x": [
          "CANOE (vanilla)",
          "CANOE (ref)",
          "CEF2023",
          "gTech-IESD"
         ],
         "xaxis": "x7",
         "y": [
          116.9391947062456,
          112.13650657894732,
          133.63550427599998,
          131.252061996
         ],
         "yaxis": "y7"
        },
        {
         "alignmentgroup": "True",
         "hovertemplate": "Plant Type=Natural Gas<br>Period=2021<br>Source=%{x}<br>Generation (PJ)=%{y}<extra></extra>",
         "legendgroup": "Natural Gas",
         "marker": {
          "color": "#FF9900",
          "pattern": {
           "shape": ""
          }
         },
         "name": "Natural Gas",
         "offsetgroup": "Natural Gas",
         "orientation": "v",
         "showlegend": true,
         "textfont": {
          "size": 9
         },
         "textposition": "auto",
         "texttemplate": "%{y:.1f}",
         "type": "bar",
         "x": [
          "CANOE (vanilla)",
          "CANOE (ref)",
          "CEF2023",
          "gTech-IESD"
         ],
         "xaxis": "x",
         "y": [
          190.25290720579386,
          180.93833551854257,
          40.989921804,
          37.90939256064
         ],
         "yaxis": "y"
        },
        {
         "alignmentgroup": "True",
         "hovertemplate": "Plant Type=Natural Gas<br>Period=2025<br>Source=%{x}<br>Generation (PJ)=%{y}<extra></extra>",
         "legendgroup": "Natural Gas",
         "marker": {
          "color": "#FF9900",
          "pattern": {
           "shape": ""
          }
         },
         "name": "Natural Gas",
         "offsetgroup": "Natural Gas",
         "orientation": "v",
         "showlegend": false,
         "textfont": {
          "size": 9
         },
         "textposition": "auto",
         "texttemplate": "%{y:.1f}",
         "type": "bar",
         "x": [
          "CANOE (vanilla)",
          "CANOE (ref)",
          "CEF2023",
          "gTech-IESD"
         ],
         "xaxis": "x2",
         "y": [
          247.09225085037627,
          124.71620909232699,
          41.546230632,
          23.1730196832
         ],
         "yaxis": "y2"
        },
        {
         "alignmentgroup": "True",
         "hovertemplate": "Plant Type=Natural Gas<br>Period=2030<br>Source=%{x}<br>Generation (PJ)=%{y}<extra></extra>",
         "legendgroup": "Natural Gas",
         "marker": {
          "color": "#FF9900",
          "pattern": {
           "shape": ""
          }
         },
         "name": "Natural Gas",
         "offsetgroup": "Natural Gas",
         "orientation": "v",
         "showlegend": false,
         "textfont": {
          "size": 9
         },
         "textposition": "auto",
         "texttemplate": "%{y:.1f}",
         "type": "bar",
         "x": [
          "CANOE (vanilla)",
          "CANOE (ref)",
          "CEF2023",
          "gTech-IESD"
         ],
         "xaxis": "x3",
         "y": [
          311.6157360764921,
          164.9699213286364,
          49.535112168,
          9.247029282
         ],
         "yaxis": "y3"
        },
        {
         "alignmentgroup": "True",
         "hovertemplate": "Plant Type=Natural Gas<br>Period=2035<br>Source=%{x}<br>Generation (PJ)=%{y}<extra></extra>",
         "legendgroup": "Natural Gas",
         "marker": {
          "color": "#FF9900",
          "pattern": {
           "shape": ""
          }
         },
         "name": "Natural Gas",
         "offsetgroup": "Natural Gas",
         "orientation": "v",
         "showlegend": false,
         "textfont": {
          "size": 9
         },
         "textposition": "auto",
         "texttemplate": "%{y:.1f}",
         "type": "bar",
         "x": [
          "CANOE (vanilla)",
          "CANOE (ref)",
          "CEF2023",
          "gTech-IESD"
         ],
         "xaxis": "x4",
         "y": [
          446.457719119899,
          104.97950140067542,
          53.12777814,
          12.3058195488
         ],
         "yaxis": "y4"
        },
        {
         "alignmentgroup": "True",
         "hovertemplate": "Plant Type=Natural Gas<br>Period=2040<br>Source=%{x}<br>Generation (PJ)=%{y}<extra></extra>",
         "legendgroup": "Natural Gas",
         "marker": {
          "color": "#FF9900",
          "pattern": {
           "shape": ""
          }
         },
         "name": "Natural Gas",
         "offsetgroup": "Natural Gas",
         "orientation": "v",
         "showlegend": false,
         "textfont": {
          "size": 9
         },
         "textposition": "auto",
         "texttemplate": "%{y:.1f}",
         "type": "bar",
         "x": [
          "CANOE (vanilla)",
          "CANOE (ref)",
          "CEF2023",
          "gTech-IESD"
         ],
         "xaxis": "x5",
         "y": [
          730.4950244983315,
          165.1571815332911,
          40.501778184,
          18.4878536616
         ],
         "yaxis": "y5"
        },
        {
         "alignmentgroup": "True",
         "hovertemplate": "Plant Type=Natural Gas<br>Period=2045<br>Source=%{x}<br>Generation (PJ)=%{y}<extra></extra>",
         "legendgroup": "Natural Gas",
         "marker": {
          "color": "#FF9900",
          "pattern": {
           "shape": ""
          }
         },
         "name": "Natural Gas",
         "offsetgroup": "Natural Gas",
         "orientation": "v",
         "showlegend": false,
         "textfont": {
          "size": 9
         },
         "textposition": "auto",
         "texttemplate": "%{y:.1f}",
         "type": "bar",
         "x": [
          "CANOE (vanilla)",
          "CANOE (ref)",
          "CEF2023",
          "gTech-IESD"
         ],
         "xaxis": "x6",
         "y": [
          867.9608152912099,
          390.86441512423823,
          38.198321532,
          32.664768951599996
         ],
         "yaxis": "y6"
        },
        {
         "alignmentgroup": "True",
         "hovertemplate": "Plant Type=Natural Gas<br>Period=2050<br>Source=%{x}<br>Generation (PJ)=%{y}<extra></extra>",
         "legendgroup": "Natural Gas",
         "marker": {
          "color": "#FF9900",
          "pattern": {
           "shape": ""
          }
         },
         "name": "Natural Gas",
         "offsetgroup": "Natural Gas",
         "orientation": "v",
         "showlegend": false,
         "textfont": {
          "size": 9
         },
         "textposition": "auto",
         "texttemplate": "%{y:.1f}",
         "type": "bar",
         "x": [
          "CANOE (vanilla)",
          "CANOE (ref)",
          "CEF2023",
          "gTech-IESD"
         ],
         "xaxis": "x7",
         "y": [
          907.6391461055389,
          430.8892409193387,
          47.558179692,
          44.856261
         ],
         "yaxis": "y7"
        },
        {
         "alignmentgroup": "True",
         "hovertemplate": "Plant Type=Nuclear<br>Period=2021<br>Source=%{x}<br>Generation (PJ)=%{y}<extra></extra>",
         "legendgroup": "Nuclear",
         "marker": {
          "color": "#109618",
          "pattern": {
           "shape": ""
          }
         },
         "name": "Nuclear",
         "offsetgroup": "Nuclear",
         "orientation": "v",
         "showlegend": true,
         "textfont": {
          "size": 9
         },
         "textposition": "auto",
         "texttemplate": "%{y:.1f}",
         "type": "bar",
         "x": [
          "CANOE (vanilla)",
          "CANOE (ref)",
          "CEF2023",
          "gTech-IESD"
         ],
         "xaxis": "x",
         "y": [
          327.2490659633773,
          327.2490615176341,
          296.213000436,
          305.94959452800003
         ],
         "yaxis": "y"
        },
        {
         "alignmentgroup": "True",
         "hovertemplate": "Plant Type=Nuclear<br>Period=2025<br>Source=%{x}<br>Generation (PJ)=%{y}<extra></extra>",
         "legendgroup": "Nuclear",
         "marker": {
          "color": "#109618",
          "pattern": {
           "shape": ""
          }
         },
         "name": "Nuclear",
         "offsetgroup": "Nuclear",
         "orientation": "v",
         "showlegend": false,
         "textfont": {
          "size": 9
         },
         "textposition": "auto",
         "texttemplate": "%{y:.1f}",
         "type": "bar",
         "x": [
          "CANOE (vanilla)",
          "CANOE (ref)",
          "CEF2023",
          "gTech-IESD"
         ],
         "xaxis": "x2",
         "y": [
          327.249063987466,
          320.2646644243974,
          265.366189872,
          264.6043848
         ],
         "yaxis": "y2"
        },
        {
         "alignmentgroup": "True",
         "hovertemplate": "Plant Type=Nuclear<br>Period=2030<br>Source=%{x}<br>Generation (PJ)=%{y}<extra></extra>",
         "legendgroup": "Nuclear",
         "marker": {
          "color": "#109618",
          "pattern": {
           "shape": ""
          }
         },
         "name": "Nuclear",
         "offsetgroup": "Nuclear",
         "orientation": "v",
         "showlegend": false,
         "textfont": {
          "size": 9
         },
         "textposition": "auto",
         "texttemplate": "%{y:.1f}",
         "type": "bar",
         "x": [
          "CANOE (vanilla)",
          "CANOE (ref)",
          "CEF2023",
          "gTech-IESD"
         ],
         "xaxis": "x3",
         "y": [
          225.237999980797,
          189.493985145193,
          276.2515249884,
          236.52037843200003
         ],
         "yaxis": "y3"
        },
        {
         "alignmentgroup": "True",
         "hovertemplate": "Plant Type=Nuclear<br>Period=2035<br>Source=%{x}<br>Generation (PJ)=%{y}<extra></extra>",
         "legendgroup": "Nuclear",
         "marker": {
          "color": "#109618",
          "pattern": {
           "shape": ""
          }
         },
         "name": "Nuclear",
         "offsetgroup": "Nuclear",
         "orientation": "v",
         "showlegend": false,
         "textfont": {
          "size": 9
         },
         "textposition": "auto",
         "texttemplate": "%{y:.1f}",
         "type": "bar",
         "x": [
          "CANOE (vanilla)",
          "CANOE (ref)",
          "CEF2023",
          "gTech-IESD"
         ],
         "xaxis": "x4",
         "y": [
          178.9947597897939,
          162.091093512307,
          306.196932744,
          248.696428032
         ],
         "yaxis": "y4"
        },
        {
         "alignmentgroup": "True",
         "hovertemplate": "Plant Type=Nuclear<br>Period=2040<br>Source=%{x}<br>Generation (PJ)=%{y}<extra></extra>",
         "legendgroup": "Nuclear",
         "marker": {
          "color": "#109618",
          "pattern": {
           "shape": ""
          }
         },
         "name": "Nuclear",
         "offsetgroup": "Nuclear",
         "orientation": "v",
         "showlegend": false,
         "textfont": {
          "size": 9
         },
         "textposition": "auto",
         "texttemplate": "%{y:.1f}",
         "type": "bar",
         "x": [
          "CANOE (vanilla)",
          "CANOE (ref)",
          "CEF2023",
          "gTech-IESD"
         ],
         "xaxis": "x5",
         "y": [
          130.842855183838,
          117.1665570312699,
          301.56017690159996,
          260.872477632
         ],
         "yaxis": "y5"
        },
        {
         "alignmentgroup": "True",
         "hovertemplate": "Plant Type=Nuclear<br>Period=2045<br>Source=%{x}<br>Generation (PJ)=%{y}<extra></extra>",
         "legendgroup": "Nuclear",
         "marker": {
          "color": "#109618",
          "pattern": {
           "shape": ""
          }
         },
         "name": "Nuclear",
         "offsetgroup": "Nuclear",
         "orientation": "v",
         "showlegend": false,
         "textfont": {
          "size": 9
         },
         "textposition": "auto",
         "texttemplate": "%{y:.1f}",
         "type": "bar",
         "x": [
          "CANOE (vanilla)",
          "CANOE (ref)",
          "CEF2023",
          "gTech-IESD"
         ],
         "xaxis": "x6",
         "y": [
          27.78320922642828,
          25.41053709429244,
          298.3283116704,
          260.872477632
         ],
         "yaxis": "y6"
        },
        {
         "alignmentgroup": "True",
         "hovertemplate": "Plant Type=Nuclear<br>Period=2050<br>Source=%{x}<br>Generation (PJ)=%{y}<extra></extra>",
         "legendgroup": "Nuclear",
         "marker": {
          "color": "#109618",
          "pattern": {
           "shape": ""
          }
         },
         "name": "Nuclear",
         "offsetgroup": "Nuclear",
         "orientation": "v",
         "showlegend": false,
         "textfont": {
          "size": 9
         },
         "textposition": "auto",
         "texttemplate": "%{y:.1f}",
         "type": "bar",
         "x": [
          "CANOE (vanilla)",
          "CANOE (ref)",
          "CEF2023",
          "gTech-IESD"
         ],
         "xaxis": "x7",
         "y": [
          27.78321102619637,
          25.41053754678871,
          297.6317148564,
          260.872477632
         ],
         "yaxis": "y7"
        },
        {
         "alignmentgroup": "True",
         "hovertemplate": "Plant Type=Solar<br>Period=2021<br>Source=%{x}<br>Generation (PJ)=%{y}<extra></extra>",
         "legendgroup": "Solar",
         "marker": {
          "color": "#990099",
          "pattern": {
           "shape": ""
          }
         },
         "name": "Solar",
         "offsetgroup": "Solar",
         "orientation": "v",
         "showlegend": true,
         "textfont": {
          "size": 9
         },
         "textposition": "auto",
         "texttemplate": "%{y:.1f}",
         "type": "bar",
         "x": [
          "CANOE (vanilla)",
          "CANOE (ref)",
          "CEF2023",
          "gTech-IESD"
         ],
         "xaxis": "x",
         "y": [
          2.437427844183253,
          2.4375799844326167,
          20.6137995912,
          11.3669509824
         ],
         "yaxis": "y"
        },
        {
         "alignmentgroup": "True",
         "hovertemplate": "Plant Type=Solar<br>Period=2025<br>Source=%{x}<br>Generation (PJ)=%{y}<extra></extra>",
         "legendgroup": "Solar",
         "marker": {
          "color": "#990099",
          "pattern": {
           "shape": ""
          }
         },
         "name": "Solar",
         "offsetgroup": "Solar",
         "orientation": "v",
         "showlegend": false,
         "textfont": {
          "size": 9
         },
         "textposition": "auto",
         "texttemplate": "%{y:.1f}",
         "type": "bar",
         "x": [
          "CANOE (vanilla)",
          "CANOE (ref)",
          "CEF2023",
          "gTech-IESD"
         ],
         "xaxis": "x2",
         "y": [
          2.437428971147819,
          2.4380753696289,
          29.735262356400003,
          22.0667340096
         ],
         "yaxis": "y2"
        },
        {
         "alignmentgroup": "True",
         "hovertemplate": "Plant Type=Solar<br>Period=2030<br>Source=%{x}<br>Generation (PJ)=%{y}<extra></extra>",
         "legendgroup": "Solar",
         "marker": {
          "color": "#990099",
          "pattern": {
           "shape": ""
          }
         },
         "name": "Solar",
         "offsetgroup": "Solar",
         "orientation": "v",
         "showlegend": false,
         "textfont": {
          "size": 9
         },
         "textposition": "auto",
         "texttemplate": "%{y:.1f}",
         "type": "bar",
         "x": [
          "CANOE (vanilla)",
          "CANOE (ref)",
          "CEF2023",
          "gTech-IESD"
         ],
         "xaxis": "x3",
         "y": [
          2.437426230906397,
          2.3918252237928153,
          31.3453825776,
          64.166060592
         ],
         "yaxis": "y3"
        },
        {
         "alignmentgroup": "True",
         "hovertemplate": "Plant Type=Solar<br>Period=2035<br>Source=%{x}<br>Generation (PJ)=%{y}<extra></extra>",
         "legendgroup": "Solar",
         "marker": {
          "color": "#990099",
          "pattern": {
           "shape": ""
          }
         },
         "name": "Solar",
         "offsetgroup": "Solar",
         "orientation": "v",
         "showlegend": false,
         "textfont": {
          "size": 9
         },
         "textposition": "auto",
         "texttemplate": "%{y:.1f}",
         "type": "bar",
         "x": [
          "CANOE (vanilla)",
          "CANOE (ref)",
          "CEF2023",
          "gTech-IESD"
         ],
         "xaxis": "x4",
         "y": [
          59.25133205734567,
          147.98396657369142,
          31.3642013832,
          85.48500636
         ],
         "yaxis": "y4"
        },
        {
         "alignmentgroup": "True",
         "hovertemplate": "Plant Type=Solar<br>Period=2040<br>Source=%{x}<br>Generation (PJ)=%{y}<extra></extra>",
         "legendgroup": "Solar",
         "marker": {
          "color": "#990099",
          "pattern": {
           "shape": ""
          }
         },
         "name": "Solar",
         "offsetgroup": "Solar",
         "orientation": "v",
         "showlegend": false,
         "textfont": {
          "size": 9
         },
         "textposition": "auto",
         "texttemplate": "%{y:.1f}",
         "type": "bar",
         "x": [
          "CANOE (vanilla)",
          "CANOE (ref)",
          "CEF2023",
          "gTech-IESD"
         ],
         "xaxis": "x5",
         "y": [
          59.25197613001006,
          174.22619090724146,
          31.3830201924,
          117.479702304
         ],
         "yaxis": "y5"
        },
        {
         "alignmentgroup": "True",
         "hovertemplate": "Plant Type=Solar<br>Period=2045<br>Source=%{x}<br>Generation (PJ)=%{y}<extra></extra>",
         "legendgroup": "Solar",
         "marker": {
          "color": "#990099",
          "pattern": {
           "shape": ""
          }
         },
         "name": "Solar",
         "offsetgroup": "Solar",
         "orientation": "v",
         "showlegend": false,
         "textfont": {
          "size": 9
         },
         "textposition": "auto",
         "texttemplate": "%{y:.1f}",
         "type": "bar",
         "x": [
          "CANOE (vanilla)",
          "CANOE (ref)",
          "CEF2023",
          "gTech-IESD"
         ],
         "xaxis": "x6",
         "y": [
          57.31432193232974,
          173.31709647616427,
          53.8268294592,
          174.839314104
         ],
         "yaxis": "y6"
        },
        {
         "alignmentgroup": "True",
         "hovertemplate": "Plant Type=Solar<br>Period=2050<br>Source=%{x}<br>Generation (PJ)=%{y}<extra></extra>",
         "legendgroup": "Solar",
         "marker": {
          "color": "#990099",
          "pattern": {
           "shape": ""
          }
         },
         "name": "Solar",
         "offsetgroup": "Solar",
         "orientation": "v",
         "showlegend": false,
         "textfont": {
          "size": 9
         },
         "textposition": "auto",
         "texttemplate": "%{y:.1f}",
         "type": "bar",
         "x": [
          "CANOE (vanilla)",
          "CANOE (ref)",
          "CEF2023",
          "gTech-IESD"
         ],
         "xaxis": "x7",
         "y": [
          84.46484934753114,
          175.935067100067,
          68.5338113664,
          227.902210884
         ],
         "yaxis": "y7"
        },
        {
         "alignmentgroup": "True",
         "hovertemplate": "Plant Type=Wind<br>Period=2021<br>Source=%{x}<br>Generation (PJ)=%{y}<extra></extra>",
         "legendgroup": "Wind",
         "marker": {
          "color": "#0099C6",
          "pattern": {
           "shape": ""
          }
         },
         "name": "Wind",
         "offsetgroup": "Wind",
         "orientation": "v",
         "showlegend": true,
         "textfont": {
          "size": 9
         },
         "textposition": "auto",
         "texttemplate": "%{y:.1f}",
         "type": "bar",
         "x": [
          "CANOE (vanilla)",
          "CANOE (ref)",
          "CEF2023",
          "gTech-IESD"
         ],
         "xaxis": "x",
         "y": [
          44.68575819625388,
          44.70346726790067,
          44.710470756,
          52.2300186576
         ],
         "yaxis": "y"
        },
        {
         "alignmentgroup": "True",
         "hovertemplate": "Plant Type=Wind<br>Period=2025<br>Source=%{x}<br>Generation (PJ)=%{y}<extra></extra>",
         "legendgroup": "Wind",
         "marker": {
          "color": "#0099C6",
          "pattern": {
           "shape": ""
          }
         },
         "name": "Wind",
         "offsetgroup": "Wind",
         "orientation": "v",
         "showlegend": false,
         "textfont": {
          "size": 9
         },
         "textposition": "auto",
         "texttemplate": "%{y:.1f}",
         "type": "bar",
         "x": [
          "CANOE (vanilla)",
          "CANOE (ref)",
          "CEF2023",
          "gTech-IESD"
         ],
         "xaxis": "x2",
         "y": [
          80.0057676282403,
          131.30695486953258,
          64.275587496,
          53.186522184000005
         ],
         "yaxis": "y2"
        },
        {
         "alignmentgroup": "True",
         "hovertemplate": "Plant Type=Wind<br>Period=2030<br>Source=%{x}<br>Generation (PJ)=%{y}<extra></extra>",
         "legendgroup": "Wind",
         "marker": {
          "color": "#0099C6",
          "pattern": {
           "shape": ""
          }
         },
         "name": "Wind",
         "offsetgroup": "Wind",
         "orientation": "v",
         "showlegend": false,
         "textfont": {
          "size": 9
         },
         "textposition": "auto",
         "texttemplate": "%{y:.1f}",
         "type": "bar",
         "x": [
          "CANOE (vanilla)",
          "CANOE (ref)",
          "CEF2023",
          "gTech-IESD"
         ],
         "xaxis": "x3",
         "y": [
          217.9742618829162,
          325.88503104302424,
          94.81870425599999,
          87.48069174000001
         ],
         "yaxis": "y3"
        },
        {
         "alignmentgroup": "True",
         "hovertemplate": "Plant Type=Wind<br>Period=2035<br>Source=%{x}<br>Generation (PJ)=%{y}<extra></extra>",
         "legendgroup": "Wind",
         "marker": {
          "color": "#0099C6",
          "pattern": {
           "shape": ""
          }
         },
         "name": "Wind",
         "offsetgroup": "Wind",
         "orientation": "v",
         "showlegend": false,
         "textfont": {
          "size": 9
         },
         "textposition": "auto",
         "texttemplate": "%{y:.1f}",
         "type": "bar",
         "x": [
          "CANOE (vanilla)",
          "CANOE (ref)",
          "CEF2023",
          "gTech-IESD"
         ],
         "xaxis": "x4",
         "y": [
          235.66855084365787,
          329.28942807789235,
          122.27765472,
          114.348825828
         ],
         "yaxis": "y4"
        },
        {
         "alignmentgroup": "True",
         "hovertemplate": "Plant Type=Wind<br>Period=2040<br>Source=%{x}<br>Generation (PJ)=%{y}<extra></extra>",
         "legendgroup": "Wind",
         "marker": {
          "color": "#0099C6",
          "pattern": {
           "shape": ""
          }
         },
         "name": "Wind",
         "offsetgroup": "Wind",
         "orientation": "v",
         "showlegend": false,
         "textfont": {
          "size": 9
         },
         "textposition": "auto",
         "texttemplate": "%{y:.1f}",
         "type": "bar",
         "x": [
          "CANOE (vanilla)",
          "CANOE (ref)",
          "CEF2023",
          "gTech-IESD"
         ],
         "xaxis": "x5",
         "y": [
          222.7253009357597,
          387.65617114396525,
          229.4615997,
          149.010886692
         ],
         "yaxis": "y5"
        },
        {
         "alignmentgroup": "True",
         "hovertemplate": "Plant Type=Wind<br>Period=2045<br>Source=%{x}<br>Generation (PJ)=%{y}<extra></extra>",
         "legendgroup": "Wind",
         "marker": {
          "color": "#0099C6",
          "pattern": {
           "shape": ""
          }
         },
         "name": "Wind",
         "offsetgroup": "Wind",
         "orientation": "v",
         "showlegend": false,
         "textfont": {
          "size": 9
         },
         "textposition": "auto",
         "texttemplate": "%{y:.1f}",
         "type": "bar",
         "x": [
          "CANOE (vanilla)",
          "CANOE (ref)",
          "CEF2023",
          "gTech-IESD"
         ],
         "xaxis": "x6",
         "y": [
          197.21119897820617,
          365.5639894434903,
          290.14034219999996,
          177.75034829999998
         ],
         "yaxis": "y6"
        },
        {
         "alignmentgroup": "True",
         "hovertemplate": "Plant Type=Wind<br>Period=2050<br>Source=%{x}<br>Generation (PJ)=%{y}<extra></extra>",
         "legendgroup": "Wind",
         "marker": {
          "color": "#0099C6",
          "pattern": {
           "shape": ""
          }
         },
         "name": "Wind",
         "offsetgroup": "Wind",
         "orientation": "v",
         "showlegend": false,
         "textfont": {
          "size": 9
         },
         "textposition": "auto",
         "texttemplate": "%{y:.1f}",
         "type": "bar",
         "x": [
          "CANOE (vanilla)",
          "CANOE (ref)",
          "CEF2023",
          "gTech-IESD"
         ],
         "xaxis": "x7",
         "y": [
          194.9384399141472,
          365.11559965946435,
          328.99283229599996,
          198.384590448
         ],
         "yaxis": "y7"
        },
        {
         "alignmentgroup": "True",
         "hovertemplate": "Plant Type=Oil<br>Period=2021<br>Source=%{x}<br>Generation (PJ)=%{y}<extra></extra>",
         "legendgroup": "Oil",
         "marker": {
          "color": "#DD4477",
          "pattern": {
           "shape": ""
          }
         },
         "name": "Oil",
         "offsetgroup": "Oil",
         "orientation": "v",
         "showlegend": true,
         "textfont": {
          "size": 9
         },
         "textposition": "auto",
         "texttemplate": "%{y:.1f}",
         "type": "bar",
         "x": [
          "CEF2023"
         ],
         "xaxis": "x",
         "y": [
          0.33609492
         ],
         "yaxis": "y"
        },
        {
         "alignmentgroup": "True",
         "hovertemplate": "Plant Type=Oil<br>Period=2025<br>Source=%{x}<br>Generation (PJ)=%{y}<extra></extra>",
         "legendgroup": "Oil",
         "marker": {
          "color": "#DD4477",
          "pattern": {
           "shape": ""
          }
         },
         "name": "Oil",
         "offsetgroup": "Oil",
         "orientation": "v",
         "showlegend": false,
         "textfont": {
          "size": 9
         },
         "textposition": "auto",
         "texttemplate": "%{y:.1f}",
         "type": "bar",
         "x": [
          "CEF2023"
         ],
         "xaxis": "x2",
         "y": [
          0.293773608
         ],
         "yaxis": "y2"
        },
        {
         "alignmentgroup": "True",
         "hovertemplate": "Plant Type=Oil<br>Period=2030<br>Source=%{x}<br>Generation (PJ)=%{y}<extra></extra>",
         "legendgroup": "Oil",
         "marker": {
          "color": "#DD4477",
          "pattern": {
           "shape": ""
          }
         },
         "name": "Oil",
         "offsetgroup": "Oil",
         "orientation": "v",
         "showlegend": false,
         "textfont": {
          "size": 9
         },
         "textposition": "auto",
         "texttemplate": "%{y:.1f}",
         "type": "bar",
         "x": [
          "CEF2023"
         ],
         "xaxis": "x3",
         "y": [
          0.049183419456
         ],
         "yaxis": "y3"
        },
        {
         "alignmentgroup": "True",
         "hovertemplate": "Plant Type=Oil<br>Period=2035<br>Source=%{x}<br>Generation (PJ)=%{y}<extra></extra>",
         "legendgroup": "Oil",
         "marker": {
          "color": "#DD4477",
          "pattern": {
           "shape": ""
          }
         },
         "name": "Oil",
         "offsetgroup": "Oil",
         "orientation": "v",
         "showlegend": false,
         "textfont": {
          "size": 9
         },
         "textposition": "auto",
         "texttemplate": "%{y:.1f}",
         "type": "bar",
         "x": [
          "CEF2023"
         ],
         "xaxis": "x4",
         "y": [
          0.049183419456
         ],
         "yaxis": "y4"
        },
        {
         "alignmentgroup": "True",
         "hovertemplate": "Plant Type=Oil<br>Period=2040<br>Source=%{x}<br>Generation (PJ)=%{y}<extra></extra>",
         "legendgroup": "Oil",
         "marker": {
          "color": "#DD4477",
          "pattern": {
           "shape": ""
          }
         },
         "name": "Oil",
         "offsetgroup": "Oil",
         "orientation": "v",
         "showlegend": false,
         "textfont": {
          "size": 9
         },
         "textposition": "auto",
         "texttemplate": "%{y:.1f}",
         "type": "bar",
         "x": [
          "CEF2023"
         ],
         "xaxis": "x5",
         "y": [
          0
         ],
         "yaxis": "y5"
        },
        {
         "alignmentgroup": "True",
         "hovertemplate": "Plant Type=Oil<br>Period=2045<br>Source=%{x}<br>Generation (PJ)=%{y}<extra></extra>",
         "legendgroup": "Oil",
         "marker": {
          "color": "#DD4477",
          "pattern": {
           "shape": ""
          }
         },
         "name": "Oil",
         "offsetgroup": "Oil",
         "orientation": "v",
         "showlegend": false,
         "textfont": {
          "size": 9
         },
         "textposition": "auto",
         "texttemplate": "%{y:.1f}",
         "type": "bar",
         "x": [
          "CEF2023"
         ],
         "xaxis": "x6",
         "y": [
          0
         ],
         "yaxis": "y6"
        },
        {
         "alignmentgroup": "True",
         "hovertemplate": "Plant Type=Oil<br>Period=2050<br>Source=%{x}<br>Generation (PJ)=%{y}<extra></extra>",
         "legendgroup": "Oil",
         "marker": {
          "color": "#DD4477",
          "pattern": {
           "shape": ""
          }
         },
         "name": "Oil",
         "offsetgroup": "Oil",
         "orientation": "v",
         "showlegend": false,
         "textfont": {
          "size": 9
         },
         "textposition": "auto",
         "texttemplate": "%{y:.1f}",
         "type": "bar",
         "x": [
          "CEF2023"
         ],
         "xaxis": "x7",
         "y": [
          0
         ],
         "yaxis": "y7"
        },
        {
         "alignmentgroup": "True",
         "hovertemplate": "Plant Type=Other<br>Period=2021<br>Source=%{x}<br>Generation (PJ)=%{y}<extra></extra>",
         "legendgroup": "Other",
         "marker": {
          "color": "#B82E2E",
          "pattern": {
           "shape": ""
          }
         },
         "name": "Other",
         "offsetgroup": "Other",
         "orientation": "v",
         "showlegend": true,
         "textfont": {
          "size": 9
         },
         "textposition": "auto",
         "texttemplate": "%{y:.1f}",
         "type": "bar",
         "x": [
          "gTech-IESD"
         ],
         "xaxis": "x",
         "y": [
          11.7506862252
         ],
         "yaxis": "y"
        },
        {
         "alignmentgroup": "True",
         "hovertemplate": "Plant Type=Other<br>Period=2025<br>Source=%{x}<br>Generation (PJ)=%{y}<extra></extra>",
         "legendgroup": "Other",
         "marker": {
          "color": "#B82E2E",
          "pattern": {
           "shape": ""
          }
         },
         "name": "Other",
         "offsetgroup": "Other",
         "orientation": "v",
         "showlegend": false,
         "textfont": {
          "size": 9
         },
         "textposition": "auto",
         "texttemplate": "%{y:.1f}",
         "type": "bar",
         "x": [
          "gTech-IESD"
         ],
         "xaxis": "x2",
         "y": [
          11.0450424492
         ],
         "yaxis": "y2"
        },
        {
         "alignmentgroup": "True",
         "hovertemplate": "Plant Type=Other<br>Period=2030<br>Source=%{x}<br>Generation (PJ)=%{y}<extra></extra>",
         "legendgroup": "Other",
         "marker": {
          "color": "#B82E2E",
          "pattern": {
           "shape": ""
          }
         },
         "name": "Other",
         "offsetgroup": "Other",
         "orientation": "v",
         "showlegend": false,
         "textfont": {
          "size": 9
         },
         "textposition": "auto",
         "texttemplate": "%{y:.1f}",
         "type": "bar",
         "x": [
          "gTech-IESD"
         ],
         "xaxis": "x3",
         "y": [
          10.3935607416
         ],
         "yaxis": "y3"
        },
        {
         "alignmentgroup": "True",
         "hovertemplate": "Plant Type=Other<br>Period=2035<br>Source=%{x}<br>Generation (PJ)=%{y}<extra></extra>",
         "legendgroup": "Other",
         "marker": {
          "color": "#B82E2E",
          "pattern": {
           "shape": ""
          }
         },
         "name": "Other",
         "offsetgroup": "Other",
         "orientation": "v",
         "showlegend": false,
         "textfont": {
          "size": 9
         },
         "textposition": "auto",
         "texttemplate": "%{y:.1f}",
         "type": "bar",
         "x": [
          "gTech-IESD"
         ],
         "xaxis": "x4",
         "y": [
          11.053449115200001
         ],
         "yaxis": "y4"
        },
        {
         "alignmentgroup": "True",
         "hovertemplate": "Plant Type=Other<br>Period=2040<br>Source=%{x}<br>Generation (PJ)=%{y}<extra></extra>",
         "legendgroup": "Other",
         "marker": {
          "color": "#B82E2E",
          "pattern": {
           "shape": ""
          }
         },
         "name": "Other",
         "offsetgroup": "Other",
         "orientation": "v",
         "showlegend": false,
         "textfont": {
          "size": 9
         },
         "textposition": "auto",
         "texttemplate": "%{y:.1f}",
         "type": "bar",
         "x": [
          "gTech-IESD"
         ],
         "xaxis": "x5",
         "y": [
          11.9596665132
         ],
         "yaxis": "y5"
        },
        {
         "alignmentgroup": "True",
         "hovertemplate": "Plant Type=Other<br>Period=2045<br>Source=%{x}<br>Generation (PJ)=%{y}<extra></extra>",
         "legendgroup": "Other",
         "marker": {
          "color": "#B82E2E",
          "pattern": {
           "shape": ""
          }
         },
         "name": "Other",
         "offsetgroup": "Other",
         "orientation": "v",
         "showlegend": false,
         "textfont": {
          "size": 9
         },
         "textposition": "auto",
         "texttemplate": "%{y:.1f}",
         "type": "bar",
         "x": [
          "gTech-IESD"
         ],
         "xaxis": "x6",
         "y": [
          12.8794867884
         ],
         "yaxis": "y6"
        },
        {
         "alignmentgroup": "True",
         "hovertemplate": "Plant Type=Other<br>Period=2050<br>Source=%{x}<br>Generation (PJ)=%{y}<extra></extra>",
         "legendgroup": "Other",
         "marker": {
          "color": "#B82E2E",
          "pattern": {
           "shape": ""
          }
         },
         "name": "Other",
         "offsetgroup": "Other",
         "orientation": "v",
         "showlegend": false,
         "textfont": {
          "size": 9
         },
         "textposition": "auto",
         "texttemplate": "%{y:.1f}",
         "type": "bar",
         "x": [
          "gTech-IESD"
         ],
         "xaxis": "x7",
         "y": [
          13.6907542188
         ],
         "yaxis": "y7"
        }
       ],
       "layout": {
        "annotations": [
         {
          "font": {},
          "showarrow": false,
          "text": "2021",
          "x": 0.06285714285714285,
          "xanchor": "center",
          "xref": "paper",
          "y": -0.15,
          "yanchor": "top",
          "yref": "paper"
         },
         {
          "font": {},
          "showarrow": false,
          "text": "2025",
          "x": 0.20857142857142852,
          "xanchor": "center",
          "xref": "paper",
          "y": -0.15,
          "yanchor": "top",
          "yref": "paper"
         },
         {
          "font": {},
          "showarrow": false,
          "text": "2030",
          "x": 0.3542857142857142,
          "xanchor": "center",
          "xref": "paper",
          "y": -0.15,
          "yanchor": "top",
          "yref": "paper"
         },
         {
          "font": {},
          "showarrow": false,
          "text": "2035",
          "x": 0.5,
          "xanchor": "center",
          "xref": "paper",
          "y": -0.15,
          "yanchor": "top",
          "yref": "paper"
         },
         {
          "font": {},
          "showarrow": false,
          "text": "2040",
          "x": 0.6457142857142856,
          "xanchor": "center",
          "xref": "paper",
          "y": -0.15,
          "yanchor": "top",
          "yref": "paper"
         },
         {
          "font": {},
          "showarrow": false,
          "text": "2045",
          "x": 0.7914285714285713,
          "xanchor": "center",
          "xref": "paper",
          "y": -0.15,
          "yanchor": "top",
          "yref": "paper"
         },
         {
          "font": {},
          "showarrow": false,
          "text": "2050",
          "x": 0.937142857142857,
          "xanchor": "center",
          "xref": "paper",
          "y": -0.15,
          "yanchor": "top",
          "yref": "paper"
         }
        ],
        "bargap": 0.1,
        "barmode": "stack",
        "font": {
         "size": 14
        },
        "height": 650,
        "legend": {
         "orientation": "h",
         "title": {
          "text": ""
         },
         "tracegroupgap": 0,
         "x": 0.5,
         "xanchor": "center",
         "y": 1.04,
         "yanchor": "top"
        },
        "margin": {
         "t": 60
        },
        "template": {
         "data": {
          "bar": [
           {
            "error_x": {
             "color": "#2a3f5f"
            },
            "error_y": {
             "color": "#2a3f5f"
            },
            "marker": {
             "line": {
              "color": "white",
              "width": 0.5
             },
             "pattern": {
              "fillmode": "overlay",
              "size": 10,
              "solidity": 0.2
             }
            },
            "type": "bar"
           }
          ],
          "barpolar": [
           {
            "marker": {
             "line": {
              "color": "white",
              "width": 0.5
             },
             "pattern": {
              "fillmode": "overlay",
              "size": 10,
              "solidity": 0.2
             }
            },
            "type": "barpolar"
           }
          ],
          "carpet": [
           {
            "aaxis": {
             "endlinecolor": "#2a3f5f",
             "gridcolor": "#C8D4E3",
             "linecolor": "#C8D4E3",
             "minorgridcolor": "#C8D4E3",
             "startlinecolor": "#2a3f5f"
            },
            "baxis": {
             "endlinecolor": "#2a3f5f",
             "gridcolor": "#C8D4E3",
             "linecolor": "#C8D4E3",
             "minorgridcolor": "#C8D4E3",
             "startlinecolor": "#2a3f5f"
            },
            "type": "carpet"
           }
          ],
          "choropleth": [
           {
            "colorbar": {
             "outlinewidth": 0,
             "ticks": ""
            },
            "type": "choropleth"
           }
          ],
          "contour": [
           {
            "colorbar": {
             "outlinewidth": 0,
             "ticks": ""
            },
            "colorscale": [
             [
              0,
              "#0d0887"
             ],
             [
              0.1111111111111111,
              "#46039f"
             ],
             [
              0.2222222222222222,
              "#7201a8"
             ],
             [
              0.3333333333333333,
              "#9c179e"
             ],
             [
              0.4444444444444444,
              "#bd3786"
             ],
             [
              0.5555555555555556,
              "#d8576b"
             ],
             [
              0.6666666666666666,
              "#ed7953"
             ],
             [
              0.7777777777777778,
              "#fb9f3a"
             ],
             [
              0.8888888888888888,
              "#fdca26"
             ],
             [
              1,
              "#f0f921"
             ]
            ],
            "type": "contour"
           }
          ],
          "contourcarpet": [
           {
            "colorbar": {
             "outlinewidth": 0,
             "ticks": ""
            },
            "type": "contourcarpet"
           }
          ],
          "heatmap": [
           {
            "colorbar": {
             "outlinewidth": 0,
             "ticks": ""
            },
            "colorscale": [
             [
              0,
              "#0d0887"
             ],
             [
              0.1111111111111111,
              "#46039f"
             ],
             [
              0.2222222222222222,
              "#7201a8"
             ],
             [
              0.3333333333333333,
              "#9c179e"
             ],
             [
              0.4444444444444444,
              "#bd3786"
             ],
             [
              0.5555555555555556,
              "#d8576b"
             ],
             [
              0.6666666666666666,
              "#ed7953"
             ],
             [
              0.7777777777777778,
              "#fb9f3a"
             ],
             [
              0.8888888888888888,
              "#fdca26"
             ],
             [
              1,
              "#f0f921"
             ]
            ],
            "type": "heatmap"
           }
          ],
          "heatmapgl": [
           {
            "colorbar": {
             "outlinewidth": 0,
             "ticks": ""
            },
            "colorscale": [
             [
              0,
              "#0d0887"
             ],
             [
              0.1111111111111111,
              "#46039f"
             ],
             [
              0.2222222222222222,
              "#7201a8"
             ],
             [
              0.3333333333333333,
              "#9c179e"
             ],
             [
              0.4444444444444444,
              "#bd3786"
             ],
             [
              0.5555555555555556,
              "#d8576b"
             ],
             [
              0.6666666666666666,
              "#ed7953"
             ],
             [
              0.7777777777777778,
              "#fb9f3a"
             ],
             [
              0.8888888888888888,
              "#fdca26"
             ],
             [
              1,
              "#f0f921"
             ]
            ],
            "type": "heatmapgl"
           }
          ],
          "histogram": [
           {
            "marker": {
             "pattern": {
              "fillmode": "overlay",
              "size": 10,
              "solidity": 0.2
             }
            },
            "type": "histogram"
           }
          ],
          "histogram2d": [
           {
            "colorbar": {
             "outlinewidth": 0,
             "ticks": ""
            },
            "colorscale": [
             [
              0,
              "#0d0887"
             ],
             [
              0.1111111111111111,
              "#46039f"
             ],
             [
              0.2222222222222222,
              "#7201a8"
             ],
             [
              0.3333333333333333,
              "#9c179e"
             ],
             [
              0.4444444444444444,
              "#bd3786"
             ],
             [
              0.5555555555555556,
              "#d8576b"
             ],
             [
              0.6666666666666666,
              "#ed7953"
             ],
             [
              0.7777777777777778,
              "#fb9f3a"
             ],
             [
              0.8888888888888888,
              "#fdca26"
             ],
             [
              1,
              "#f0f921"
             ]
            ],
            "type": "histogram2d"
           }
          ],
          "histogram2dcontour": [
           {
            "colorbar": {
             "outlinewidth": 0,
             "ticks": ""
            },
            "colorscale": [
             [
              0,
              "#0d0887"
             ],
             [
              0.1111111111111111,
              "#46039f"
             ],
             [
              0.2222222222222222,
              "#7201a8"
             ],
             [
              0.3333333333333333,
              "#9c179e"
             ],
             [
              0.4444444444444444,
              "#bd3786"
             ],
             [
              0.5555555555555556,
              "#d8576b"
             ],
             [
              0.6666666666666666,
              "#ed7953"
             ],
             [
              0.7777777777777778,
              "#fb9f3a"
             ],
             [
              0.8888888888888888,
              "#fdca26"
             ],
             [
              1,
              "#f0f921"
             ]
            ],
            "type": "histogram2dcontour"
           }
          ],
          "mesh3d": [
           {
            "colorbar": {
             "outlinewidth": 0,
             "ticks": ""
            },
            "type": "mesh3d"
           }
          ],
          "parcoords": [
           {
            "line": {
             "colorbar": {
              "outlinewidth": 0,
              "ticks": ""
             }
            },
            "type": "parcoords"
           }
          ],
          "pie": [
           {
            "automargin": true,
            "type": "pie"
           }
          ],
          "scatter": [
           {
            "fillpattern": {
             "fillmode": "overlay",
             "size": 10,
             "solidity": 0.2
            },
            "type": "scatter"
           }
          ],
          "scatter3d": [
           {
            "line": {
             "colorbar": {
              "outlinewidth": 0,
              "ticks": ""
             }
            },
            "marker": {
             "colorbar": {
              "outlinewidth": 0,
              "ticks": ""
             }
            },
            "type": "scatter3d"
           }
          ],
          "scattercarpet": [
           {
            "marker": {
             "colorbar": {
              "outlinewidth": 0,
              "ticks": ""
             }
            },
            "type": "scattercarpet"
           }
          ],
          "scattergeo": [
           {
            "marker": {
             "colorbar": {
              "outlinewidth": 0,
              "ticks": ""
             }
            },
            "type": "scattergeo"
           }
          ],
          "scattergl": [
           {
            "marker": {
             "colorbar": {
              "outlinewidth": 0,
              "ticks": ""
             }
            },
            "type": "scattergl"
           }
          ],
          "scattermapbox": [
           {
            "marker": {
             "colorbar": {
              "outlinewidth": 0,
              "ticks": ""
             }
            },
            "type": "scattermapbox"
           }
          ],
          "scatterpolar": [
           {
            "marker": {
             "colorbar": {
              "outlinewidth": 0,
              "ticks": ""
             }
            },
            "type": "scatterpolar"
           }
          ],
          "scatterpolargl": [
           {
            "marker": {
             "colorbar": {
              "outlinewidth": 0,
              "ticks": ""
             }
            },
            "type": "scatterpolargl"
           }
          ],
          "scatterternary": [
           {
            "marker": {
             "colorbar": {
              "outlinewidth": 0,
              "ticks": ""
             }
            },
            "type": "scatterternary"
           }
          ],
          "surface": [
           {
            "colorbar": {
             "outlinewidth": 0,
             "ticks": ""
            },
            "colorscale": [
             [
              0,
              "#0d0887"
             ],
             [
              0.1111111111111111,
              "#46039f"
             ],
             [
              0.2222222222222222,
              "#7201a8"
             ],
             [
              0.3333333333333333,
              "#9c179e"
             ],
             [
              0.4444444444444444,
              "#bd3786"
             ],
             [
              0.5555555555555556,
              "#d8576b"
             ],
             [
              0.6666666666666666,
              "#ed7953"
             ],
             [
              0.7777777777777778,
              "#fb9f3a"
             ],
             [
              0.8888888888888888,
              "#fdca26"
             ],
             [
              1,
              "#f0f921"
             ]
            ],
            "type": "surface"
           }
          ],
          "table": [
           {
            "cells": {
             "fill": {
              "color": "#EBF0F8"
             },
             "line": {
              "color": "white"
             }
            },
            "header": {
             "fill": {
              "color": "#C8D4E3"
             },
             "line": {
              "color": "white"
             }
            },
            "type": "table"
           }
          ]
         },
         "layout": {
          "annotationdefaults": {
           "arrowcolor": "#2a3f5f",
           "arrowhead": 0,
           "arrowwidth": 1
          },
          "autotypenumbers": "strict",
          "coloraxis": {
           "colorbar": {
            "outlinewidth": 0,
            "ticks": ""
           }
          },
          "colorscale": {
           "diverging": [
            [
             0,
             "#8e0152"
            ],
            [
             0.1,
             "#c51b7d"
            ],
            [
             0.2,
             "#de77ae"
            ],
            [
             0.3,
             "#f1b6da"
            ],
            [
             0.4,
             "#fde0ef"
            ],
            [
             0.5,
             "#f7f7f7"
            ],
            [
             0.6,
             "#e6f5d0"
            ],
            [
             0.7,
             "#b8e186"
            ],
            [
             0.8,
             "#7fbc41"
            ],
            [
             0.9,
             "#4d9221"
            ],
            [
             1,
             "#276419"
            ]
           ],
           "sequential": [
            [
             0,
             "#0d0887"
            ],
            [
             0.1111111111111111,
             "#46039f"
            ],
            [
             0.2222222222222222,
             "#7201a8"
            ],
            [
             0.3333333333333333,
             "#9c179e"
            ],
            [
             0.4444444444444444,
             "#bd3786"
            ],
            [
             0.5555555555555556,
             "#d8576b"
            ],
            [
             0.6666666666666666,
             "#ed7953"
            ],
            [
             0.7777777777777778,
             "#fb9f3a"
            ],
            [
             0.8888888888888888,
             "#fdca26"
            ],
            [
             1,
             "#f0f921"
            ]
           ],
           "sequentialminus": [
            [
             0,
             "#0d0887"
            ],
            [
             0.1111111111111111,
             "#46039f"
            ],
            [
             0.2222222222222222,
             "#7201a8"
            ],
            [
             0.3333333333333333,
             "#9c179e"
            ],
            [
             0.4444444444444444,
             "#bd3786"
            ],
            [
             0.5555555555555556,
             "#d8576b"
            ],
            [
             0.6666666666666666,
             "#ed7953"
            ],
            [
             0.7777777777777778,
             "#fb9f3a"
            ],
            [
             0.8888888888888888,
             "#fdca26"
            ],
            [
             1,
             "#f0f921"
            ]
           ]
          },
          "colorway": [
           "#636efa",
           "#EF553B",
           "#00cc96",
           "#ab63fa",
           "#FFA15A",
           "#19d3f3",
           "#FF6692",
           "#B6E880",
           "#FF97FF",
           "#FECB52"
          ],
          "font": {
           "color": "#2a3f5f"
          },
          "geo": {
           "bgcolor": "white",
           "lakecolor": "white",
           "landcolor": "white",
           "showlakes": true,
           "showland": true,
           "subunitcolor": "#C8D4E3"
          },
          "hoverlabel": {
           "align": "left"
          },
          "hovermode": "closest",
          "mapbox": {
           "style": "light"
          },
          "paper_bgcolor": "white",
          "plot_bgcolor": "white",
          "polar": {
           "angularaxis": {
            "gridcolor": "#EBF0F8",
            "linecolor": "#EBF0F8",
            "ticks": ""
           },
           "bgcolor": "white",
           "radialaxis": {
            "gridcolor": "#EBF0F8",
            "linecolor": "#EBF0F8",
            "ticks": ""
           }
          },
          "scene": {
           "xaxis": {
            "backgroundcolor": "white",
            "gridcolor": "#DFE8F3",
            "gridwidth": 2,
            "linecolor": "#EBF0F8",
            "showbackground": true,
            "ticks": "",
            "zerolinecolor": "#EBF0F8"
           },
           "yaxis": {
            "backgroundcolor": "white",
            "gridcolor": "#DFE8F3",
            "gridwidth": 2,
            "linecolor": "#EBF0F8",
            "showbackground": true,
            "ticks": "",
            "zerolinecolor": "#EBF0F8"
           },
           "zaxis": {
            "backgroundcolor": "white",
            "gridcolor": "#DFE8F3",
            "gridwidth": 2,
            "linecolor": "#EBF0F8",
            "showbackground": true,
            "ticks": "",
            "zerolinecolor": "#EBF0F8"
           }
          },
          "shapedefaults": {
           "line": {
            "color": "#2a3f5f"
           }
          },
          "ternary": {
           "aaxis": {
            "gridcolor": "#DFE8F3",
            "linecolor": "#A2B1C6",
            "ticks": ""
           },
           "baxis": {
            "gridcolor": "#DFE8F3",
            "linecolor": "#A2B1C6",
            "ticks": ""
           },
           "bgcolor": "white",
           "caxis": {
            "gridcolor": "#DFE8F3",
            "linecolor": "#A2B1C6",
            "ticks": ""
           }
          },
          "title": {
           "x": 0.05
          },
          "xaxis": {
           "automargin": true,
           "gridcolor": "#EBF0F8",
           "linecolor": "#EBF0F8",
           "ticks": "",
           "title": {
            "standoff": 15
           },
           "zerolinecolor": "#EBF0F8",
           "zerolinewidth": 2
          },
          "yaxis": {
           "automargin": true,
           "gridcolor": "#EBF0F8",
           "linecolor": "#EBF0F8",
           "ticks": "",
           "title": {
            "standoff": 15
           },
           "zerolinecolor": "#EBF0F8",
           "zerolinewidth": 2
          }
         }
        },
        "title": {
         "text": "Electricity generation in ON by plant type",
         "x": 0.5,
         "xanchor": "center",
         "y": 0.97,
         "yanchor": "top"
        },
        "width": 1200,
        "xaxis": {
         "anchor": "y",
         "domain": [
          0,
          0.1257142857142857
         ],
         "title": {
          "text": ""
         }
        },
        "xaxis2": {
         "anchor": "y2",
         "domain": [
          0.14571428571428569,
          0.27142857142857135
         ],
         "matches": "x",
         "title": {
          "text": ""
         }
        },
        "xaxis3": {
         "anchor": "y3",
         "domain": [
          0.29142857142857137,
          0.41714285714285704
         ],
         "matches": "x",
         "title": {
          "text": ""
         }
        },
        "xaxis4": {
         "anchor": "y4",
         "domain": [
          0.4371428571428571,
          0.5628571428571428
         ],
         "matches": "x",
         "title": {
          "text": ""
         }
        },
        "xaxis5": {
         "anchor": "y5",
         "domain": [
          0.5828571428571427,
          0.7085714285714284
         ],
         "matches": "x",
         "title": {
          "text": ""
         }
        },
        "xaxis6": {
         "anchor": "y6",
         "domain": [
          0.7285714285714284,
          0.8542857142857141
         ],
         "matches": "x",
         "title": {
          "text": ""
         }
        },
        "xaxis7": {
         "anchor": "y7",
         "domain": [
          0.8742857142857142,
          0.9999999999999999
         ],
         "matches": "x",
         "title": {
          "text": ""
         }
        },
        "yaxis": {
         "anchor": "x",
         "domain": [
          0,
          1
         ],
         "dtick": 200,
         "title": {
          "standoff": 0,
          "text": "Generation (PJ)"
         }
        },
        "yaxis2": {
         "anchor": "x2",
         "domain": [
          0,
          1
         ],
         "matches": "y",
         "showticklabels": false
        },
        "yaxis3": {
         "anchor": "x3",
         "domain": [
          0,
          1
         ],
         "matches": "y",
         "showticklabels": false
        },
        "yaxis4": {
         "anchor": "x4",
         "domain": [
          0,
          1
         ],
         "matches": "y",
         "showticklabels": false
        },
        "yaxis5": {
         "anchor": "x5",
         "domain": [
          0,
          1
         ],
         "matches": "y",
         "showticklabels": false
        },
        "yaxis6": {
         "anchor": "x6",
         "domain": [
          0,
          1
         ],
         "matches": "y",
         "showticklabels": false
        },
        "yaxis7": {
         "anchor": "x7",
         "domain": [
          0,
          1
         ],
         "matches": "y",
         "showticklabels": false
        }
       }
      }
     },
     "metadata": {},
     "output_type": "display_data"
    }
   ],
   "source": [
    "bau23_gen['Generation (PJ)'] = bau23_gen['Generation (GWh)'] * 0.0036\n",
    "bau23_fig = bau23_gen[['Period', 'Plant Type', 'Generation (PJ)']].copy()\n",
    "bau23_fig['Plant Type'] = bau23_fig['Plant Type'].replace({'Hydro / Wave / Tidal': 'Hydro', 'Biomass / Geothermal': 'Biomass', 'Uranium': 'Nuclear'})\n",
    "ref_fig = ref_elcact[ref_elcact['Plant Type'] != 'Other'].groupby(['Period', 'Plant Type'], as_index=False).sum('Generation (PJ)')\n",
    "vanilla_fig = vanilla_elcact[vanilla_elcact['Plant Type'] != 'Other'].groupby(['Period', 'Plant Type'], as_index=False).sum('Generation (PJ)')\n",
    "\n",
    "gtech23_ref_gen['Generation (PJ)'] = gtech23_ref_gen['Generation (TWh)'] * 3.6\n",
    "gtech23_fig = gtech23_ref_gen.copy()\n",
    "gtech23_fig['Period'] = gtech23_fig['Period'].astype(str)\n",
    "\n",
    "gtech23_fig['Source'] = 'gTech-IESD'\n",
    "bau23_fig['Source'] = 'CEF2023'\n",
    "ref_fig['Source'] = 'CANOE (ref)'\n",
    "vanilla_fig['Source'] = 'CANOE (vanilla)'\n",
    "\n",
    "fig_df = pd.concat([vanilla_fig[['Period', 'Plant Type', 'Generation (PJ)', 'Source']], ref_fig[['Period', 'Plant Type', 'Generation (PJ)', 'Source']], bau23_fig[['Period', 'Plant Type', 'Generation (PJ)', 'Source']], gtech23_fig[['Period', 'Plant Type', 'Generation (PJ)', 'Source']]])\n",
    "\n",
    "fig = px.bar(fig_df, \n",
    "             x='Source', \n",
    "             y='Generation (PJ)', \n",
    "             color='Plant Type', \n",
    "             barmode='stack', \n",
    "             facet_col='Period',\n",
    "             facet_col_spacing=2E-2,\n",
    "             template='plotly_white',\n",
    "             color_discrete_sequence=px.colors.qualitative.G10[:7] + px.colors.qualitative.G10[8:],\n",
    "             text_auto='.1f',\n",
    "             width=1200, height=650,\n",
    "             )\n",
    "\n",
    "fig.update_layout(title=dict(\n",
    "        text='Electricity generation in ON by plant type',\n",
    "        x=0.5, \n",
    "        y=0.97,\n",
    "        xanchor='center',\n",
    "        yanchor='top'\n",
    "    ),\n",
    "    xaxis=dict(title='Period'),\n",
    "    yaxis=dict(title='Generation (PJ)',\n",
    "               dtick=200),\n",
    "    yaxis_title_standoff=0,\n",
    "    legend_title_text='',\n",
    "    bargap=0.1,\n",
    "    legend=dict(\n",
    "        orientation='h',  \n",
    "        yanchor='top',\n",
    "        y=1.04,  \n",
    "        xanchor='center',\n",
    "        x=0.5),\n",
    "    font=dict(\n",
    "        # family=\"Open Sans\",\n",
    "        size=14)\n",
    "    )\n",
    "\n",
    "for annotation in fig.layout.annotations:\n",
    "    annotation.text = annotation.text.split('=')[1]\n",
    "    annotation.y = -0.15  \n",
    "    annotation.yanchor = 'top' \n",
    "\n",
    "for axis in fig.layout:\n",
    "    if axis.startswith('xaxis'):\n",
    "        fig.layout[axis].title.text = ''\n",
    "\n",
    "fig.for_each_trace(lambda trace: trace.update(textfont=dict(size=9)))\n",
    "\n",
    "fig.show()"
   ]
  },
  {
   "cell_type": "markdown",
   "metadata": {},
   "source": [
    "# Added capacity"
   ]
  },
  {
   "cell_type": "code",
   "execution_count": 151,
   "metadata": {},
   "outputs": [],
   "source": [
    "# ref_newcap_elc = ref_newcap[(ref_newcap['Sector'] == 'electricity')].copy()\n",
    "# ref_newcap_elc['Plant Type'] = ref_newcap_elc['Technology'].apply(map_tech_to_plant)"
   ]
  },
  {
   "cell_type": "code",
   "execution_count": 152,
   "metadata": {},
   "outputs": [],
   "source": [
    "ref_elcnewcap.columns = ref_elcnewcap.columns.astype(str)\n",
    "periods = [col for col in ref_elcnewcap.columns if col.isdigit()]\n",
    "params = [col for col in ref_elcnewcap.columns if not col.isdigit()]\n",
    "ref_elcnewcap = pd.melt(ref_elcnewcap, id_vars=params, var_name='Period', value_name='New Capacity', value_vars=periods)\n",
    "\n",
    "ref_elcnewcap['Plant Type'] = ref_elcnewcap['Technology'].apply(map_tech_to_plant)"
   ]
  },
  {
   "cell_type": "code",
   "execution_count": 153,
   "metadata": {},
   "outputs": [
    {
     "data": {
      "application/vnd.plotly.v1+json": {
       "config": {
        "plotlyServerURL": "https://plot.ly"
       },
       "data": [
        {
         "alignmentgroup": "True",
         "hovertemplate": "Plant Type=Biomass<br>Period=%{x}<br>New Capacity=%{y}<extra></extra>",
         "legendgroup": "Biomass",
         "marker": {
          "color": "#3366CC",
          "pattern": {
           "shape": ""
          }
         },
         "name": "Biomass",
         "offsetgroup": "Biomass",
         "orientation": "v",
         "showlegend": true,
         "textfont": {
          "size": 9
         },
         "textposition": "auto",
         "texttemplate": "%{y:.1f}",
         "type": "bar",
         "x": [
          "2021",
          "2025",
          "2030",
          "2035",
          "2040",
          "2045",
          "2050"
         ],
         "xaxis": "x",
         "y": [
          0.00001040724655435163,
          0.00001093017850690451,
          0.00001123627189701269,
          0.00001109148168978449,
          0.00001064584077170792,
          0,
          0.00001049925419646086
         ],
         "yaxis": "y"
        },
        {
         "alignmentgroup": "True",
         "hovertemplate": "Plant Type=Hydro<br>Period=%{x}<br>New Capacity=%{y}<extra></extra>",
         "legendgroup": "Hydro",
         "marker": {
          "color": "#DC3912",
          "pattern": {
           "shape": ""
          }
         },
         "name": "Hydro",
         "offsetgroup": "Hydro",
         "orientation": "v",
         "showlegend": true,
         "textfont": {
          "size": 9
         },
         "textposition": "auto",
         "texttemplate": "%{y:.1f}",
         "type": "bar",
         "x": [
          "2021",
          "2025",
          "2030",
          "2035",
          "2040",
          "2045",
          "2050"
         ],
         "xaxis": "x",
         "y": [
          0,
          0,
          0,
          0,
          0,
          0,
          0
         ],
         "yaxis": "y"
        },
        {
         "alignmentgroup": "True",
         "hovertemplate": "Plant Type=Natural Gas<br>Period=%{x}<br>New Capacity=%{y}<extra></extra>",
         "legendgroup": "Natural Gas",
         "marker": {
          "color": "#FF9900",
          "pattern": {
           "shape": ""
          }
         },
         "name": "Natural Gas",
         "offsetgroup": "Natural Gas",
         "orientation": "v",
         "showlegend": true,
         "textfont": {
          "size": 9
         },
         "textposition": "auto",
         "texttemplate": "%{y:.1f}",
         "type": "bar",
         "x": [
          "2021",
          "2025",
          "2030",
          "2035",
          "2040",
          "2045",
          "2050"
         ],
         "xaxis": "x",
         "y": [
          15.659842800891855,
          6.629871342263806,
          6.638196216498814,
          6.629426344646355,
          6.629119869408221,
          6.628997673121502,
          6.629089066173761
         ],
         "yaxis": "y"
        },
        {
         "alignmentgroup": "True",
         "hovertemplate": "Plant Type=Nuclear<br>Period=%{x}<br>New Capacity=%{y}<extra></extra>",
         "legendgroup": "Nuclear",
         "marker": {
          "color": "#109618",
          "pattern": {
           "shape": ""
          }
         },
         "name": "Nuclear",
         "offsetgroup": "Nuclear",
         "orientation": "v",
         "showlegend": true,
         "textfont": {
          "size": 9
         },
         "textposition": "auto",
         "texttemplate": "%{y:.1f}",
         "type": "bar",
         "x": [
          "2021",
          "2025",
          "2030",
          "2035",
          "2040",
          "2045",
          "2050"
         ],
         "xaxis": "x",
         "y": [
          0,
          0,
          0,
          0,
          0,
          0,
          0
         ],
         "yaxis": "y"
        },
        {
         "alignmentgroup": "True",
         "hovertemplate": "Plant Type=Solar<br>Period=%{x}<br>New Capacity=%{y}<extra></extra>",
         "legendgroup": "Solar",
         "marker": {
          "color": "#990099",
          "pattern": {
           "shape": ""
          }
         },
         "name": "Solar",
         "offsetgroup": "Solar",
         "orientation": "v",
         "showlegend": true,
         "textfont": {
          "size": 9
         },
         "textposition": "auto",
         "texttemplate": "%{y:.1f}",
         "type": "bar",
         "x": [
          "2021",
          "2025",
          "2030",
          "2035",
          "2040",
          "2045",
          "2050"
         ],
         "xaxis": "x",
         "y": [
          0.0005183133956457104,
          0.0006701975580676643,
          0.0015731034524811482,
          20.185702012529248,
          3.622805462374006,
          0.0009192895693475104,
          0.34349660724201714
         ],
         "yaxis": "y"
        },
        {
         "alignmentgroup": "True",
         "hovertemplate": "Plant Type=Wind<br>Period=%{x}<br>New Capacity=%{y}<extra></extra>",
         "legendgroup": "Wind",
         "marker": {
          "color": "#0099C6",
          "pattern": {
           "shape": ""
          }
         },
         "name": "Wind",
         "offsetgroup": "Wind",
         "orientation": "v",
         "showlegend": true,
         "textfont": {
          "size": 9
         },
         "textposition": "auto",
         "texttemplate": "%{y:.1f}",
         "type": "bar",
         "x": [
          "2021",
          "2025",
          "2030",
          "2035",
          "2040",
          "2045",
          "2050"
         ],
         "xaxis": "x",
         "y": [
          0.002182151466115654,
          6.195559685799023,
          15.636726509417747,
          0.7129503073317979,
          5.859097062037977,
          0.0010489416661239234,
          0.001900322966968928
         ],
         "yaxis": "y"
        }
       ],
       "layout": {
        "bargap": 0.2,
        "barmode": "stack",
        "font": {
         "size": 14
        },
        "height": 650,
        "legend": {
         "orientation": "h",
         "title": {
          "text": ""
         },
         "tracegroupgap": 0,
         "x": 0.5,
         "xanchor": "center",
         "y": 1.04,
         "yanchor": "top"
        },
        "margin": {
         "t": 60
        },
        "template": {
         "data": {
          "bar": [
           {
            "error_x": {
             "color": "#2a3f5f"
            },
            "error_y": {
             "color": "#2a3f5f"
            },
            "marker": {
             "line": {
              "color": "white",
              "width": 0.5
             },
             "pattern": {
              "fillmode": "overlay",
              "size": 10,
              "solidity": 0.2
             }
            },
            "type": "bar"
           }
          ],
          "barpolar": [
           {
            "marker": {
             "line": {
              "color": "white",
              "width": 0.5
             },
             "pattern": {
              "fillmode": "overlay",
              "size": 10,
              "solidity": 0.2
             }
            },
            "type": "barpolar"
           }
          ],
          "carpet": [
           {
            "aaxis": {
             "endlinecolor": "#2a3f5f",
             "gridcolor": "#C8D4E3",
             "linecolor": "#C8D4E3",
             "minorgridcolor": "#C8D4E3",
             "startlinecolor": "#2a3f5f"
            },
            "baxis": {
             "endlinecolor": "#2a3f5f",
             "gridcolor": "#C8D4E3",
             "linecolor": "#C8D4E3",
             "minorgridcolor": "#C8D4E3",
             "startlinecolor": "#2a3f5f"
            },
            "type": "carpet"
           }
          ],
          "choropleth": [
           {
            "colorbar": {
             "outlinewidth": 0,
             "ticks": ""
            },
            "type": "choropleth"
           }
          ],
          "contour": [
           {
            "colorbar": {
             "outlinewidth": 0,
             "ticks": ""
            },
            "colorscale": [
             [
              0,
              "#0d0887"
             ],
             [
              0.1111111111111111,
              "#46039f"
             ],
             [
              0.2222222222222222,
              "#7201a8"
             ],
             [
              0.3333333333333333,
              "#9c179e"
             ],
             [
              0.4444444444444444,
              "#bd3786"
             ],
             [
              0.5555555555555556,
              "#d8576b"
             ],
             [
              0.6666666666666666,
              "#ed7953"
             ],
             [
              0.7777777777777778,
              "#fb9f3a"
             ],
             [
              0.8888888888888888,
              "#fdca26"
             ],
             [
              1,
              "#f0f921"
             ]
            ],
            "type": "contour"
           }
          ],
          "contourcarpet": [
           {
            "colorbar": {
             "outlinewidth": 0,
             "ticks": ""
            },
            "type": "contourcarpet"
           }
          ],
          "heatmap": [
           {
            "colorbar": {
             "outlinewidth": 0,
             "ticks": ""
            },
            "colorscale": [
             [
              0,
              "#0d0887"
             ],
             [
              0.1111111111111111,
              "#46039f"
             ],
             [
              0.2222222222222222,
              "#7201a8"
             ],
             [
              0.3333333333333333,
              "#9c179e"
             ],
             [
              0.4444444444444444,
              "#bd3786"
             ],
             [
              0.5555555555555556,
              "#d8576b"
             ],
             [
              0.6666666666666666,
              "#ed7953"
             ],
             [
              0.7777777777777778,
              "#fb9f3a"
             ],
             [
              0.8888888888888888,
              "#fdca26"
             ],
             [
              1,
              "#f0f921"
             ]
            ],
            "type": "heatmap"
           }
          ],
          "heatmapgl": [
           {
            "colorbar": {
             "outlinewidth": 0,
             "ticks": ""
            },
            "colorscale": [
             [
              0,
              "#0d0887"
             ],
             [
              0.1111111111111111,
              "#46039f"
             ],
             [
              0.2222222222222222,
              "#7201a8"
             ],
             [
              0.3333333333333333,
              "#9c179e"
             ],
             [
              0.4444444444444444,
              "#bd3786"
             ],
             [
              0.5555555555555556,
              "#d8576b"
             ],
             [
              0.6666666666666666,
              "#ed7953"
             ],
             [
              0.7777777777777778,
              "#fb9f3a"
             ],
             [
              0.8888888888888888,
              "#fdca26"
             ],
             [
              1,
              "#f0f921"
             ]
            ],
            "type": "heatmapgl"
           }
          ],
          "histogram": [
           {
            "marker": {
             "pattern": {
              "fillmode": "overlay",
              "size": 10,
              "solidity": 0.2
             }
            },
            "type": "histogram"
           }
          ],
          "histogram2d": [
           {
            "colorbar": {
             "outlinewidth": 0,
             "ticks": ""
            },
            "colorscale": [
             [
              0,
              "#0d0887"
             ],
             [
              0.1111111111111111,
              "#46039f"
             ],
             [
              0.2222222222222222,
              "#7201a8"
             ],
             [
              0.3333333333333333,
              "#9c179e"
             ],
             [
              0.4444444444444444,
              "#bd3786"
             ],
             [
              0.5555555555555556,
              "#d8576b"
             ],
             [
              0.6666666666666666,
              "#ed7953"
             ],
             [
              0.7777777777777778,
              "#fb9f3a"
             ],
             [
              0.8888888888888888,
              "#fdca26"
             ],
             [
              1,
              "#f0f921"
             ]
            ],
            "type": "histogram2d"
           }
          ],
          "histogram2dcontour": [
           {
            "colorbar": {
             "outlinewidth": 0,
             "ticks": ""
            },
            "colorscale": [
             [
              0,
              "#0d0887"
             ],
             [
              0.1111111111111111,
              "#46039f"
             ],
             [
              0.2222222222222222,
              "#7201a8"
             ],
             [
              0.3333333333333333,
              "#9c179e"
             ],
             [
              0.4444444444444444,
              "#bd3786"
             ],
             [
              0.5555555555555556,
              "#d8576b"
             ],
             [
              0.6666666666666666,
              "#ed7953"
             ],
             [
              0.7777777777777778,
              "#fb9f3a"
             ],
             [
              0.8888888888888888,
              "#fdca26"
             ],
             [
              1,
              "#f0f921"
             ]
            ],
            "type": "histogram2dcontour"
           }
          ],
          "mesh3d": [
           {
            "colorbar": {
             "outlinewidth": 0,
             "ticks": ""
            },
            "type": "mesh3d"
           }
          ],
          "parcoords": [
           {
            "line": {
             "colorbar": {
              "outlinewidth": 0,
              "ticks": ""
             }
            },
            "type": "parcoords"
           }
          ],
          "pie": [
           {
            "automargin": true,
            "type": "pie"
           }
          ],
          "scatter": [
           {
            "fillpattern": {
             "fillmode": "overlay",
             "size": 10,
             "solidity": 0.2
            },
            "type": "scatter"
           }
          ],
          "scatter3d": [
           {
            "line": {
             "colorbar": {
              "outlinewidth": 0,
              "ticks": ""
             }
            },
            "marker": {
             "colorbar": {
              "outlinewidth": 0,
              "ticks": ""
             }
            },
            "type": "scatter3d"
           }
          ],
          "scattercarpet": [
           {
            "marker": {
             "colorbar": {
              "outlinewidth": 0,
              "ticks": ""
             }
            },
            "type": "scattercarpet"
           }
          ],
          "scattergeo": [
           {
            "marker": {
             "colorbar": {
              "outlinewidth": 0,
              "ticks": ""
             }
            },
            "type": "scattergeo"
           }
          ],
          "scattergl": [
           {
            "marker": {
             "colorbar": {
              "outlinewidth": 0,
              "ticks": ""
             }
            },
            "type": "scattergl"
           }
          ],
          "scattermapbox": [
           {
            "marker": {
             "colorbar": {
              "outlinewidth": 0,
              "ticks": ""
             }
            },
            "type": "scattermapbox"
           }
          ],
          "scatterpolar": [
           {
            "marker": {
             "colorbar": {
              "outlinewidth": 0,
              "ticks": ""
             }
            },
            "type": "scatterpolar"
           }
          ],
          "scatterpolargl": [
           {
            "marker": {
             "colorbar": {
              "outlinewidth": 0,
              "ticks": ""
             }
            },
            "type": "scatterpolargl"
           }
          ],
          "scatterternary": [
           {
            "marker": {
             "colorbar": {
              "outlinewidth": 0,
              "ticks": ""
             }
            },
            "type": "scatterternary"
           }
          ],
          "surface": [
           {
            "colorbar": {
             "outlinewidth": 0,
             "ticks": ""
            },
            "colorscale": [
             [
              0,
              "#0d0887"
             ],
             [
              0.1111111111111111,
              "#46039f"
             ],
             [
              0.2222222222222222,
              "#7201a8"
             ],
             [
              0.3333333333333333,
              "#9c179e"
             ],
             [
              0.4444444444444444,
              "#bd3786"
             ],
             [
              0.5555555555555556,
              "#d8576b"
             ],
             [
              0.6666666666666666,
              "#ed7953"
             ],
             [
              0.7777777777777778,
              "#fb9f3a"
             ],
             [
              0.8888888888888888,
              "#fdca26"
             ],
             [
              1,
              "#f0f921"
             ]
            ],
            "type": "surface"
           }
          ],
          "table": [
           {
            "cells": {
             "fill": {
              "color": "#EBF0F8"
             },
             "line": {
              "color": "white"
             }
            },
            "header": {
             "fill": {
              "color": "#C8D4E3"
             },
             "line": {
              "color": "white"
             }
            },
            "type": "table"
           }
          ]
         },
         "layout": {
          "annotationdefaults": {
           "arrowcolor": "#2a3f5f",
           "arrowhead": 0,
           "arrowwidth": 1
          },
          "autotypenumbers": "strict",
          "coloraxis": {
           "colorbar": {
            "outlinewidth": 0,
            "ticks": ""
           }
          },
          "colorscale": {
           "diverging": [
            [
             0,
             "#8e0152"
            ],
            [
             0.1,
             "#c51b7d"
            ],
            [
             0.2,
             "#de77ae"
            ],
            [
             0.3,
             "#f1b6da"
            ],
            [
             0.4,
             "#fde0ef"
            ],
            [
             0.5,
             "#f7f7f7"
            ],
            [
             0.6,
             "#e6f5d0"
            ],
            [
             0.7,
             "#b8e186"
            ],
            [
             0.8,
             "#7fbc41"
            ],
            [
             0.9,
             "#4d9221"
            ],
            [
             1,
             "#276419"
            ]
           ],
           "sequential": [
            [
             0,
             "#0d0887"
            ],
            [
             0.1111111111111111,
             "#46039f"
            ],
            [
             0.2222222222222222,
             "#7201a8"
            ],
            [
             0.3333333333333333,
             "#9c179e"
            ],
            [
             0.4444444444444444,
             "#bd3786"
            ],
            [
             0.5555555555555556,
             "#d8576b"
            ],
            [
             0.6666666666666666,
             "#ed7953"
            ],
            [
             0.7777777777777778,
             "#fb9f3a"
            ],
            [
             0.8888888888888888,
             "#fdca26"
            ],
            [
             1,
             "#f0f921"
            ]
           ],
           "sequentialminus": [
            [
             0,
             "#0d0887"
            ],
            [
             0.1111111111111111,
             "#46039f"
            ],
            [
             0.2222222222222222,
             "#7201a8"
            ],
            [
             0.3333333333333333,
             "#9c179e"
            ],
            [
             0.4444444444444444,
             "#bd3786"
            ],
            [
             0.5555555555555556,
             "#d8576b"
            ],
            [
             0.6666666666666666,
             "#ed7953"
            ],
            [
             0.7777777777777778,
             "#fb9f3a"
            ],
            [
             0.8888888888888888,
             "#fdca26"
            ],
            [
             1,
             "#f0f921"
            ]
           ]
          },
          "colorway": [
           "#636efa",
           "#EF553B",
           "#00cc96",
           "#ab63fa",
           "#FFA15A",
           "#19d3f3",
           "#FF6692",
           "#B6E880",
           "#FF97FF",
           "#FECB52"
          ],
          "font": {
           "color": "#2a3f5f"
          },
          "geo": {
           "bgcolor": "white",
           "lakecolor": "white",
           "landcolor": "white",
           "showlakes": true,
           "showland": true,
           "subunitcolor": "#C8D4E3"
          },
          "hoverlabel": {
           "align": "left"
          },
          "hovermode": "closest",
          "mapbox": {
           "style": "light"
          },
          "paper_bgcolor": "white",
          "plot_bgcolor": "white",
          "polar": {
           "angularaxis": {
            "gridcolor": "#EBF0F8",
            "linecolor": "#EBF0F8",
            "ticks": ""
           },
           "bgcolor": "white",
           "radialaxis": {
            "gridcolor": "#EBF0F8",
            "linecolor": "#EBF0F8",
            "ticks": ""
           }
          },
          "scene": {
           "xaxis": {
            "backgroundcolor": "white",
            "gridcolor": "#DFE8F3",
            "gridwidth": 2,
            "linecolor": "#EBF0F8",
            "showbackground": true,
            "ticks": "",
            "zerolinecolor": "#EBF0F8"
           },
           "yaxis": {
            "backgroundcolor": "white",
            "gridcolor": "#DFE8F3",
            "gridwidth": 2,
            "linecolor": "#EBF0F8",
            "showbackground": true,
            "ticks": "",
            "zerolinecolor": "#EBF0F8"
           },
           "zaxis": {
            "backgroundcolor": "white",
            "gridcolor": "#DFE8F3",
            "gridwidth": 2,
            "linecolor": "#EBF0F8",
            "showbackground": true,
            "ticks": "",
            "zerolinecolor": "#EBF0F8"
           }
          },
          "shapedefaults": {
           "line": {
            "color": "#2a3f5f"
           }
          },
          "ternary": {
           "aaxis": {
            "gridcolor": "#DFE8F3",
            "linecolor": "#A2B1C6",
            "ticks": ""
           },
           "baxis": {
            "gridcolor": "#DFE8F3",
            "linecolor": "#A2B1C6",
            "ticks": ""
           },
           "bgcolor": "white",
           "caxis": {
            "gridcolor": "#DFE8F3",
            "linecolor": "#A2B1C6",
            "ticks": ""
           }
          },
          "title": {
           "x": 0.05
          },
          "xaxis": {
           "automargin": true,
           "gridcolor": "#EBF0F8",
           "linecolor": "#EBF0F8",
           "ticks": "",
           "title": {
            "standoff": 15
           },
           "zerolinecolor": "#EBF0F8",
           "zerolinewidth": 2
          },
          "yaxis": {
           "automargin": true,
           "gridcolor": "#EBF0F8",
           "linecolor": "#EBF0F8",
           "ticks": "",
           "title": {
            "standoff": 15
           },
           "zerolinecolor": "#EBF0F8",
           "zerolinewidth": 2
          }
         }
        },
        "title": {
         "text": "Electricity capacity expansion in ON by plant type",
         "x": 0.5,
         "xanchor": "center",
         "y": 0.97,
         "yanchor": "top"
        },
        "width": 1200,
        "xaxis": {
         "anchor": "y",
         "domain": [
          0,
          1
         ],
         "title": {
          "text": ""
         }
        },
        "yaxis": {
         "anchor": "x",
         "domain": [
          0,
          1
         ],
         "dtick": 5,
         "title": {
          "standoff": 0,
          "text": "New Capacity (GW)"
         }
        }
       }
      }
     },
     "metadata": {},
     "output_type": "display_data"
    }
   ],
   "source": [
    "ref_fig = ref_elcnewcap[ref_elcnewcap['Plant Type'] != 'Other'].groupby(['Period', 'Plant Type'], as_index=False).sum('New Capacity')\n",
    "ref_fig['Period'] = ref_fig['Period'].astype(str)\n",
    "\n",
    "fig = px.bar(ref_fig, \n",
    "             x='Period', \n",
    "             y='New Capacity', \n",
    "             color='Plant Type', \n",
    "             barmode='stack', \n",
    "             template='plotly_white',\n",
    "             color_discrete_sequence=px.colors.qualitative.G10[:7] + px.colors.qualitative.G10[8:],\n",
    "             text_auto='.1f',\n",
    "             width=1200, height=650,\n",
    "             )\n",
    "\n",
    "fig.update_layout(title=dict(\n",
    "        text='Electricity capacity expansion in ON by plant type',\n",
    "        x=0.5, \n",
    "        y=0.97,\n",
    "        xanchor='center',\n",
    "        yanchor='top'\n",
    "    ),\n",
    "    xaxis=dict(title='Period'),\n",
    "    yaxis=dict(title='New Capacity (GW)',\n",
    "               dtick=5),\n",
    "    yaxis_title_standoff=0,\n",
    "    legend_title_text='',\n",
    "    bargap=0.2,\n",
    "    legend=dict(\n",
    "        orientation='h',  \n",
    "        yanchor='top',\n",
    "        y=1.04,  \n",
    "        xanchor='center',\n",
    "        x=0.5),\n",
    "    font=dict(\n",
    "        # family=\"Open Sans\",\n",
    "        size=14)\n",
    "    )\n",
    "\n",
    "for annotation in fig.layout.annotations:\n",
    "    annotation.text = annotation.text.split('=')[1]\n",
    "    annotation.y = -0.1  \n",
    "    annotation.yanchor = 'top' \n",
    "\n",
    "for axis in fig.layout:\n",
    "    if axis.startswith('xaxis'):\n",
    "        fig.layout[axis].title.text = ''\n",
    "\n",
    "fig.for_each_trace(lambda trace: trace.update(textfont=dict(size=9)))\n",
    "\n",
    "fig.show()"
   ]
  },
  {
   "cell_type": "markdown",
   "metadata": {},
   "source": [
    "# CANOE vs gTech-IESD - GHG emissions"
   ]
  },
  {
   "cell_type": "code",
   "execution_count": 154,
   "metadata": {},
   "outputs": [],
   "source": [
    "ref_ghg.columns = ref_ghg.columns.astype(str)\n",
    "periods = [col for col in ref_ghg.columns if col.isdigit()]\n",
    "params = [col for col in ref_ghg.columns if not col.isdigit()]\n",
    "ref_ghg = pd.melt(ref_ghg, id_vars=params, var_name='Period', value_name='Total GHG Emissions', value_vars=periods)"
   ]
  },
  {
   "cell_type": "code",
   "execution_count": 155,
   "metadata": {},
   "outputs": [],
   "source": [
    "gtech23_ref_ghg['Sector'].replace({'agriculture & waste': 'AFOLU', 'commercial buildings': 'Commercial', 'residential buildings': 'Residential', 'land use & forestry': 'AFOLU',\n",
    "                                      'industry': 'Industrial', 'oil and gas': 'Oil & Gas', 'direct air capture': 'Industrial', 'utilities': 'Utilities',\n",
    "                                      'light-duty transport': 'Transportation', 'medium & heavy-duty transport': 'Transportation', 'other transport': 'Transportation'}, inplace=True)\n",
    "gtech23_ref_ghg = gtech23_ref_ghg.groupby(['Period', 'Sector'], as_index=False).sum()"
   ]
  },
  {
   "cell_type": "code",
   "execution_count": 156,
   "metadata": {},
   "outputs": [
    {
     "data": {
      "application/vnd.plotly.v1+json": {
       "config": {
        "plotlyServerURL": "https://plot.ly"
       },
       "data": [
        {
         "fillpattern": {
          "shape": ""
         },
         "hovertemplate": "Sector=Transportation<br>Source=CANOE<br>Period=%{x}<br>Total GHG Emissions (Mt CO2e)=%{y}<extra></extra>",
         "legendgroup": "Transportation",
         "line": {
          "color": "#636efa"
         },
         "marker": {
          "symbol": "circle"
         },
         "mode": "lines",
         "name": "Transportation",
         "orientation": "v",
         "showlegend": true,
         "stackgroup": "1",
         "type": "scatter",
         "x": [
          "2021",
          "2025",
          "2030",
          "2035",
          "2040",
          "2045",
          "2050"
         ],
         "xaxis": "x",
         "y": [
          81.2311946187872,
          91.42008781047909,
          78.89562661364494,
          63.03882061351992,
          63.30950313248095,
          61.65739076931724,
          60.34087850456316
         ],
         "yaxis": "y"
        },
        {
         "fillpattern": {
          "shape": ""
         },
         "hovertemplate": "Sector=Transportation<br>Source=gTech-IESD<br>Period=%{x}<br>Total GHG Emissions (Mt CO2e)=%{y}<extra></extra>",
         "legendgroup": "Transportation",
         "line": {
          "color": "#636efa"
         },
         "marker": {
          "symbol": "circle"
         },
         "mode": "lines",
         "name": "Transportation",
         "orientation": "v",
         "showlegend": false,
         "stackgroup": "1",
         "type": "scatter",
         "x": [
          "2021",
          "2025",
          "2030",
          "2035",
          "2040",
          "2045",
          "2050"
         ],
         "xaxis": "x2",
         "y": [
          59.3337479,
          60.758277992,
          55.512872352,
          52.140340988,
          48.515804656,
          46.101021826,
          46.344159796999996
         ],
         "yaxis": "y2"
        },
        {
         "fillpattern": {
          "shape": ""
         },
         "hovertemplate": "Sector=Commercial<br>Source=CANOE<br>Period=%{x}<br>Total GHG Emissions (Mt CO2e)=%{y}<extra></extra>",
         "legendgroup": "Commercial",
         "line": {
          "color": "#EF553B"
         },
         "marker": {
          "symbol": "circle"
         },
         "mode": "lines",
         "name": "Commercial",
         "orientation": "v",
         "showlegend": true,
         "stackgroup": "1",
         "type": "scatter",
         "x": [
          "2021",
          "2025",
          "2030",
          "2035",
          "2040",
          "2045",
          "2050"
         ],
         "xaxis": "x",
         "y": [
          18.443041240204682,
          18.52999822803953,
          18.55928597689493,
          18.25111009046868,
          18.22515255416921,
          19.333056525801094,
          20.32693150247019
         ],
         "yaxis": "y"
        },
        {
         "fillpattern": {
          "shape": ""
         },
         "hovertemplate": "Sector=Commercial<br>Source=gTech-IESD<br>Period=%{x}<br>Total GHG Emissions (Mt CO2e)=%{y}<extra></extra>",
         "legendgroup": "Commercial",
         "line": {
          "color": "#EF553B"
         },
         "marker": {
          "symbol": "circle"
         },
         "mode": "lines",
         "name": "Commercial",
         "orientation": "v",
         "showlegend": false,
         "stackgroup": "1",
         "type": "scatter",
         "x": [
          "2021",
          "2025",
          "2030",
          "2035",
          "2040",
          "2045",
          "2050"
         ],
         "xaxis": "x2",
         "y": [
          14.87398338,
          13.51692502,
          12.34058006,
          12.07001,
          12.36142145,
          12.86639316,
          13.4358197
         ],
         "yaxis": "y2"
        },
        {
         "fillpattern": {
          "shape": ""
         },
         "hovertemplate": "Sector=Electricity<br>Source=CANOE<br>Period=%{x}<br>Total GHG Emissions (Mt CO2e)=%{y}<extra></extra>",
         "legendgroup": "Electricity",
         "line": {
          "color": "#00cc96"
         },
         "marker": {
          "symbol": "circle"
         },
         "mode": "lines",
         "name": "Electricity",
         "orientation": "v",
         "showlegend": true,
         "stackgroup": "1",
         "type": "scatter",
         "x": [
          "2021",
          "2025",
          "2030",
          "2035",
          "2040",
          "2045",
          "2050"
         ],
         "xaxis": "x",
         "y": [
          5.594242214061258,
          3.63870149064141,
          4.608683839544758,
          2.676476298655171,
          4.297753188842976,
          11.227244323883987,
          12.97555365161411
         ],
         "yaxis": "y"
        },
        {
         "fillpattern": {
          "shape": ""
         },
         "hovertemplate": "Sector=Industrial<br>Source=CANOE<br>Period=%{x}<br>Total GHG Emissions (Mt CO2e)=%{y}<extra></extra>",
         "legendgroup": "Industrial",
         "line": {
          "color": "#ab63fa"
         },
         "marker": {
          "symbol": "circle"
         },
         "mode": "lines",
         "name": "Industrial",
         "orientation": "v",
         "showlegend": true,
         "stackgroup": "1",
         "type": "scatter",
         "x": [
          "2021",
          "2025",
          "2030",
          "2035",
          "2040",
          "2045",
          "2050"
         ],
         "xaxis": "x",
         "y": [
          24.001076109997754,
          25.20471182650966,
          26.549893238999548,
          27.63579872466704,
          28.604782166304577,
          29.47827757587233,
          30.261420509078548
         ],
         "yaxis": "y"
        },
        {
         "fillpattern": {
          "shape": ""
         },
         "hovertemplate": "Sector=Industrial<br>Source=gTech-IESD<br>Period=%{x}<br>Total GHG Emissions (Mt CO2e)=%{y}<extra></extra>",
         "legendgroup": "Industrial",
         "line": {
          "color": "#ab63fa"
         },
         "marker": {
          "symbol": "circle"
         },
         "mode": "lines",
         "name": "Industrial",
         "orientation": "v",
         "showlegend": false,
         "stackgroup": "1",
         "type": "scatter",
         "x": [
          "2021",
          "2025",
          "2030",
          "2035",
          "2040",
          "2045",
          "2050"
         ],
         "xaxis": "x2",
         "y": [
          37.875307373999995,
          37.90229711,
          33.84077446,
          35.69818713,
          37.85750927,
          39.87872961,
          42.16648898
         ],
         "yaxis": "y2"
        },
        {
         "fillpattern": {
          "shape": ""
         },
         "hovertemplate": "Sector=Residential<br>Source=CANOE<br>Period=%{x}<br>Total GHG Emissions (Mt CO2e)=%{y}<extra></extra>",
         "legendgroup": "Residential",
         "line": {
          "color": "#FFA15A"
         },
         "marker": {
          "symbol": "circle"
         },
         "mode": "lines",
         "name": "Residential",
         "orientation": "v",
         "showlegend": true,
         "stackgroup": "1",
         "type": "scatter",
         "x": [
          "2021",
          "2025",
          "2030",
          "2035",
          "2040",
          "2045",
          "2050"
         ],
         "xaxis": "x",
         "y": [
          16.553191779882113,
          16.090070921586598,
          13.355658583466408,
          10.000168018699986,
          9.966545100040703,
          16.837630651508704,
          21.126419095157203
         ],
         "yaxis": "y"
        },
        {
         "fillpattern": {
          "shape": ""
         },
         "hovertemplate": "Sector=Residential<br>Source=gTech-IESD<br>Period=%{x}<br>Total GHG Emissions (Mt CO2e)=%{y}<extra></extra>",
         "legendgroup": "Residential",
         "line": {
          "color": "#FFA15A"
         },
         "marker": {
          "symbol": "circle"
         },
         "mode": "lines",
         "name": "Residential",
         "orientation": "v",
         "showlegend": false,
         "stackgroup": "1",
         "type": "scatter",
         "x": [
          "2021",
          "2025",
          "2030",
          "2035",
          "2040",
          "2045",
          "2050"
         ],
         "xaxis": "x2",
         "y": [
          17.822376966,
          16.79111807,
          16.26714696,
          16.35710771,
          16.82923943,
          17.54487313,
          18.38989798
         ],
         "yaxis": "y2"
        },
        {
         "fillpattern": {
          "shape": ""
         },
         "hovertemplate": "Sector=Oil & Gas<br>Source=gTech-IESD<br>Period=%{x}<br>Total GHG Emissions (Mt CO2e)=%{y}<extra></extra>",
         "legendgroup": "Oil & Gas",
         "line": {
          "color": "#19d3f3"
         },
         "marker": {
          "symbol": "circle"
         },
         "mode": "lines",
         "name": "Oil & Gas",
         "orientation": "v",
         "showlegend": true,
         "stackgroup": "1",
         "type": "scatter",
         "x": [
          "2021",
          "2025",
          "2030",
          "2035",
          "2040",
          "2045",
          "2050"
         ],
         "xaxis": "x2",
         "y": [
          8.9496383376,
          7.963400128,
          8.075161641,
          8.553685278,
          8.284682975,
          8.738982107,
          9.264163676
         ],
         "yaxis": "y2"
        },
        {
         "fillpattern": {
          "shape": ""
         },
         "hovertemplate": "Sector=Utilities<br>Source=gTech-IESD<br>Period=%{x}<br>Total GHG Emissions (Mt CO2e)=%{y}<extra></extra>",
         "legendgroup": "Utilities",
         "line": {
          "color": "#FF6692"
         },
         "marker": {
          "symbol": "circle"
         },
         "mode": "lines",
         "name": "Utilities",
         "orientation": "v",
         "showlegend": true,
         "stackgroup": "1",
         "type": "scatter",
         "x": [
          "2021",
          "2025",
          "2030",
          "2035",
          "2040",
          "2045",
          "2050"
         ],
         "xaxis": "x2",
         "y": [
          3.7773608392000004,
          2.5169914,
          1.253003913,
          1.368543943,
          2.074538082,
          3.653330428,
          5.154365046
         ],
         "yaxis": "y2"
        }
       ],
       "layout": {
        "annotations": [
         {
          "showarrow": false,
          "text": "Source=CANOE",
          "x": 0.2425,
          "xanchor": "center",
          "xref": "paper",
          "y": 1,
          "yanchor": "bottom",
          "yref": "paper"
         },
         {
          "showarrow": false,
          "text": "Source=gTech-IESD",
          "x": 0.7575000000000001,
          "xanchor": "center",
          "xref": "paper",
          "y": 1,
          "yanchor": "bottom",
          "yref": "paper"
         },
         {
          "font": {
           "size": 11
          },
          "showarrow": false,
          "text": "*Upstream emissions are accounted for in each sector, except for Oil & Gas",
          "x": 1,
          "xref": "paper",
          "y": 0.98,
          "yref": "paper"
         }
        ],
        "font": {
         "size": 13
        },
        "height": 600,
        "legend": {
         "orientation": "h",
         "title": {
          "text": ""
         },
         "tracegroupgap": 0,
         "x": 0.5,
         "xanchor": "center",
         "y": -0.15,
         "yanchor": "bottom"
        },
        "margin": {
         "t": 60
        },
        "template": {
         "data": {
          "bar": [
           {
            "error_x": {
             "color": "#2a3f5f"
            },
            "error_y": {
             "color": "#2a3f5f"
            },
            "marker": {
             "line": {
              "color": "white",
              "width": 0.5
             },
             "pattern": {
              "fillmode": "overlay",
              "size": 10,
              "solidity": 0.2
             }
            },
            "type": "bar"
           }
          ],
          "barpolar": [
           {
            "marker": {
             "line": {
              "color": "white",
              "width": 0.5
             },
             "pattern": {
              "fillmode": "overlay",
              "size": 10,
              "solidity": 0.2
             }
            },
            "type": "barpolar"
           }
          ],
          "carpet": [
           {
            "aaxis": {
             "endlinecolor": "#2a3f5f",
             "gridcolor": "#C8D4E3",
             "linecolor": "#C8D4E3",
             "minorgridcolor": "#C8D4E3",
             "startlinecolor": "#2a3f5f"
            },
            "baxis": {
             "endlinecolor": "#2a3f5f",
             "gridcolor": "#C8D4E3",
             "linecolor": "#C8D4E3",
             "minorgridcolor": "#C8D4E3",
             "startlinecolor": "#2a3f5f"
            },
            "type": "carpet"
           }
          ],
          "choropleth": [
           {
            "colorbar": {
             "outlinewidth": 0,
             "ticks": ""
            },
            "type": "choropleth"
           }
          ],
          "contour": [
           {
            "colorbar": {
             "outlinewidth": 0,
             "ticks": ""
            },
            "colorscale": [
             [
              0,
              "#0d0887"
             ],
             [
              0.1111111111111111,
              "#46039f"
             ],
             [
              0.2222222222222222,
              "#7201a8"
             ],
             [
              0.3333333333333333,
              "#9c179e"
             ],
             [
              0.4444444444444444,
              "#bd3786"
             ],
             [
              0.5555555555555556,
              "#d8576b"
             ],
             [
              0.6666666666666666,
              "#ed7953"
             ],
             [
              0.7777777777777778,
              "#fb9f3a"
             ],
             [
              0.8888888888888888,
              "#fdca26"
             ],
             [
              1,
              "#f0f921"
             ]
            ],
            "type": "contour"
           }
          ],
          "contourcarpet": [
           {
            "colorbar": {
             "outlinewidth": 0,
             "ticks": ""
            },
            "type": "contourcarpet"
           }
          ],
          "heatmap": [
           {
            "colorbar": {
             "outlinewidth": 0,
             "ticks": ""
            },
            "colorscale": [
             [
              0,
              "#0d0887"
             ],
             [
              0.1111111111111111,
              "#46039f"
             ],
             [
              0.2222222222222222,
              "#7201a8"
             ],
             [
              0.3333333333333333,
              "#9c179e"
             ],
             [
              0.4444444444444444,
              "#bd3786"
             ],
             [
              0.5555555555555556,
              "#d8576b"
             ],
             [
              0.6666666666666666,
              "#ed7953"
             ],
             [
              0.7777777777777778,
              "#fb9f3a"
             ],
             [
              0.8888888888888888,
              "#fdca26"
             ],
             [
              1,
              "#f0f921"
             ]
            ],
            "type": "heatmap"
           }
          ],
          "heatmapgl": [
           {
            "colorbar": {
             "outlinewidth": 0,
             "ticks": ""
            },
            "colorscale": [
             [
              0,
              "#0d0887"
             ],
             [
              0.1111111111111111,
              "#46039f"
             ],
             [
              0.2222222222222222,
              "#7201a8"
             ],
             [
              0.3333333333333333,
              "#9c179e"
             ],
             [
              0.4444444444444444,
              "#bd3786"
             ],
             [
              0.5555555555555556,
              "#d8576b"
             ],
             [
              0.6666666666666666,
              "#ed7953"
             ],
             [
              0.7777777777777778,
              "#fb9f3a"
             ],
             [
              0.8888888888888888,
              "#fdca26"
             ],
             [
              1,
              "#f0f921"
             ]
            ],
            "type": "heatmapgl"
           }
          ],
          "histogram": [
           {
            "marker": {
             "pattern": {
              "fillmode": "overlay",
              "size": 10,
              "solidity": 0.2
             }
            },
            "type": "histogram"
           }
          ],
          "histogram2d": [
           {
            "colorbar": {
             "outlinewidth": 0,
             "ticks": ""
            },
            "colorscale": [
             [
              0,
              "#0d0887"
             ],
             [
              0.1111111111111111,
              "#46039f"
             ],
             [
              0.2222222222222222,
              "#7201a8"
             ],
             [
              0.3333333333333333,
              "#9c179e"
             ],
             [
              0.4444444444444444,
              "#bd3786"
             ],
             [
              0.5555555555555556,
              "#d8576b"
             ],
             [
              0.6666666666666666,
              "#ed7953"
             ],
             [
              0.7777777777777778,
              "#fb9f3a"
             ],
             [
              0.8888888888888888,
              "#fdca26"
             ],
             [
              1,
              "#f0f921"
             ]
            ],
            "type": "histogram2d"
           }
          ],
          "histogram2dcontour": [
           {
            "colorbar": {
             "outlinewidth": 0,
             "ticks": ""
            },
            "colorscale": [
             [
              0,
              "#0d0887"
             ],
             [
              0.1111111111111111,
              "#46039f"
             ],
             [
              0.2222222222222222,
              "#7201a8"
             ],
             [
              0.3333333333333333,
              "#9c179e"
             ],
             [
              0.4444444444444444,
              "#bd3786"
             ],
             [
              0.5555555555555556,
              "#d8576b"
             ],
             [
              0.6666666666666666,
              "#ed7953"
             ],
             [
              0.7777777777777778,
              "#fb9f3a"
             ],
             [
              0.8888888888888888,
              "#fdca26"
             ],
             [
              1,
              "#f0f921"
             ]
            ],
            "type": "histogram2dcontour"
           }
          ],
          "mesh3d": [
           {
            "colorbar": {
             "outlinewidth": 0,
             "ticks": ""
            },
            "type": "mesh3d"
           }
          ],
          "parcoords": [
           {
            "line": {
             "colorbar": {
              "outlinewidth": 0,
              "ticks": ""
             }
            },
            "type": "parcoords"
           }
          ],
          "pie": [
           {
            "automargin": true,
            "type": "pie"
           }
          ],
          "scatter": [
           {
            "fillpattern": {
             "fillmode": "overlay",
             "size": 10,
             "solidity": 0.2
            },
            "type": "scatter"
           }
          ],
          "scatter3d": [
           {
            "line": {
             "colorbar": {
              "outlinewidth": 0,
              "ticks": ""
             }
            },
            "marker": {
             "colorbar": {
              "outlinewidth": 0,
              "ticks": ""
             }
            },
            "type": "scatter3d"
           }
          ],
          "scattercarpet": [
           {
            "marker": {
             "colorbar": {
              "outlinewidth": 0,
              "ticks": ""
             }
            },
            "type": "scattercarpet"
           }
          ],
          "scattergeo": [
           {
            "marker": {
             "colorbar": {
              "outlinewidth": 0,
              "ticks": ""
             }
            },
            "type": "scattergeo"
           }
          ],
          "scattergl": [
           {
            "marker": {
             "colorbar": {
              "outlinewidth": 0,
              "ticks": ""
             }
            },
            "type": "scattergl"
           }
          ],
          "scattermapbox": [
           {
            "marker": {
             "colorbar": {
              "outlinewidth": 0,
              "ticks": ""
             }
            },
            "type": "scattermapbox"
           }
          ],
          "scatterpolar": [
           {
            "marker": {
             "colorbar": {
              "outlinewidth": 0,
              "ticks": ""
             }
            },
            "type": "scatterpolar"
           }
          ],
          "scatterpolargl": [
           {
            "marker": {
             "colorbar": {
              "outlinewidth": 0,
              "ticks": ""
             }
            },
            "type": "scatterpolargl"
           }
          ],
          "scatterternary": [
           {
            "marker": {
             "colorbar": {
              "outlinewidth": 0,
              "ticks": ""
             }
            },
            "type": "scatterternary"
           }
          ],
          "surface": [
           {
            "colorbar": {
             "outlinewidth": 0,
             "ticks": ""
            },
            "colorscale": [
             [
              0,
              "#0d0887"
             ],
             [
              0.1111111111111111,
              "#46039f"
             ],
             [
              0.2222222222222222,
              "#7201a8"
             ],
             [
              0.3333333333333333,
              "#9c179e"
             ],
             [
              0.4444444444444444,
              "#bd3786"
             ],
             [
              0.5555555555555556,
              "#d8576b"
             ],
             [
              0.6666666666666666,
              "#ed7953"
             ],
             [
              0.7777777777777778,
              "#fb9f3a"
             ],
             [
              0.8888888888888888,
              "#fdca26"
             ],
             [
              1,
              "#f0f921"
             ]
            ],
            "type": "surface"
           }
          ],
          "table": [
           {
            "cells": {
             "fill": {
              "color": "#EBF0F8"
             },
             "line": {
              "color": "white"
             }
            },
            "header": {
             "fill": {
              "color": "#C8D4E3"
             },
             "line": {
              "color": "white"
             }
            },
            "type": "table"
           }
          ]
         },
         "layout": {
          "annotationdefaults": {
           "arrowcolor": "#2a3f5f",
           "arrowhead": 0,
           "arrowwidth": 1
          },
          "autotypenumbers": "strict",
          "coloraxis": {
           "colorbar": {
            "outlinewidth": 0,
            "ticks": ""
           }
          },
          "colorscale": {
           "diverging": [
            [
             0,
             "#8e0152"
            ],
            [
             0.1,
             "#c51b7d"
            ],
            [
             0.2,
             "#de77ae"
            ],
            [
             0.3,
             "#f1b6da"
            ],
            [
             0.4,
             "#fde0ef"
            ],
            [
             0.5,
             "#f7f7f7"
            ],
            [
             0.6,
             "#e6f5d0"
            ],
            [
             0.7,
             "#b8e186"
            ],
            [
             0.8,
             "#7fbc41"
            ],
            [
             0.9,
             "#4d9221"
            ],
            [
             1,
             "#276419"
            ]
           ],
           "sequential": [
            [
             0,
             "#0d0887"
            ],
            [
             0.1111111111111111,
             "#46039f"
            ],
            [
             0.2222222222222222,
             "#7201a8"
            ],
            [
             0.3333333333333333,
             "#9c179e"
            ],
            [
             0.4444444444444444,
             "#bd3786"
            ],
            [
             0.5555555555555556,
             "#d8576b"
            ],
            [
             0.6666666666666666,
             "#ed7953"
            ],
            [
             0.7777777777777778,
             "#fb9f3a"
            ],
            [
             0.8888888888888888,
             "#fdca26"
            ],
            [
             1,
             "#f0f921"
            ]
           ],
           "sequentialminus": [
            [
             0,
             "#0d0887"
            ],
            [
             0.1111111111111111,
             "#46039f"
            ],
            [
             0.2222222222222222,
             "#7201a8"
            ],
            [
             0.3333333333333333,
             "#9c179e"
            ],
            [
             0.4444444444444444,
             "#bd3786"
            ],
            [
             0.5555555555555556,
             "#d8576b"
            ],
            [
             0.6666666666666666,
             "#ed7953"
            ],
            [
             0.7777777777777778,
             "#fb9f3a"
            ],
            [
             0.8888888888888888,
             "#fdca26"
            ],
            [
             1,
             "#f0f921"
            ]
           ]
          },
          "colorway": [
           "#636efa",
           "#EF553B",
           "#00cc96",
           "#ab63fa",
           "#FFA15A",
           "#19d3f3",
           "#FF6692",
           "#B6E880",
           "#FF97FF",
           "#FECB52"
          ],
          "font": {
           "color": "#2a3f5f"
          },
          "geo": {
           "bgcolor": "white",
           "lakecolor": "white",
           "landcolor": "white",
           "showlakes": true,
           "showland": true,
           "subunitcolor": "#C8D4E3"
          },
          "hoverlabel": {
           "align": "left"
          },
          "hovermode": "closest",
          "mapbox": {
           "style": "light"
          },
          "paper_bgcolor": "white",
          "plot_bgcolor": "white",
          "polar": {
           "angularaxis": {
            "gridcolor": "#EBF0F8",
            "linecolor": "#EBF0F8",
            "ticks": ""
           },
           "bgcolor": "white",
           "radialaxis": {
            "gridcolor": "#EBF0F8",
            "linecolor": "#EBF0F8",
            "ticks": ""
           }
          },
          "scene": {
           "xaxis": {
            "backgroundcolor": "white",
            "gridcolor": "#DFE8F3",
            "gridwidth": 2,
            "linecolor": "#EBF0F8",
            "showbackground": true,
            "ticks": "",
            "zerolinecolor": "#EBF0F8"
           },
           "yaxis": {
            "backgroundcolor": "white",
            "gridcolor": "#DFE8F3",
            "gridwidth": 2,
            "linecolor": "#EBF0F8",
            "showbackground": true,
            "ticks": "",
            "zerolinecolor": "#EBF0F8"
           },
           "zaxis": {
            "backgroundcolor": "white",
            "gridcolor": "#DFE8F3",
            "gridwidth": 2,
            "linecolor": "#EBF0F8",
            "showbackground": true,
            "ticks": "",
            "zerolinecolor": "#EBF0F8"
           }
          },
          "shapedefaults": {
           "line": {
            "color": "#2a3f5f"
           }
          },
          "ternary": {
           "aaxis": {
            "gridcolor": "#DFE8F3",
            "linecolor": "#A2B1C6",
            "ticks": ""
           },
           "baxis": {
            "gridcolor": "#DFE8F3",
            "linecolor": "#A2B1C6",
            "ticks": ""
           },
           "bgcolor": "white",
           "caxis": {
            "gridcolor": "#DFE8F3",
            "linecolor": "#A2B1C6",
            "ticks": ""
           }
          },
          "title": {
           "x": 0.05
          },
          "xaxis": {
           "automargin": true,
           "gridcolor": "#EBF0F8",
           "linecolor": "#EBF0F8",
           "ticks": "",
           "title": {
            "standoff": 15
           },
           "zerolinecolor": "#EBF0F8",
           "zerolinewidth": 2
          },
          "yaxis": {
           "automargin": true,
           "gridcolor": "#EBF0F8",
           "linecolor": "#EBF0F8",
           "ticks": "",
           "title": {
            "standoff": 15
           },
           "zerolinecolor": "#EBF0F8",
           "zerolinewidth": 2
          }
         }
        },
        "title": {
         "text": "Total GHG emissions by sector and energy model, excluding AFOLU",
         "x": 0.5,
         "xanchor": "center",
         "y": 0.97,
         "yanchor": "top"
        },
        "width": 1100,
        "xaxis": {
         "anchor": "y",
         "domain": [
          0,
          0.485
         ],
         "tickangle": 45,
         "title": {
          "text": ""
         }
        },
        "xaxis2": {
         "anchor": "y2",
         "domain": [
          0.515,
          1
         ],
         "matches": "x",
         "tickangle": 45,
         "title": {
          "text": ""
         }
        },
        "yaxis": {
         "anchor": "x",
         "domain": [
          0,
          1
         ],
         "title": {
          "standoff": 0,
          "text": "Total GHG Emissions (M tonne CO2e)"
         }
        },
        "yaxis2": {
         "anchor": "x2",
         "domain": [
          0,
          1
         ],
         "matches": "y",
         "showticklabels": false
        }
       }
      }
     },
     "metadata": {},
     "output_type": "display_data"
    }
   ],
   "source": [
    "ref_fig = ref_ghg[ref_ghg['Emission Commodity'] == 'co2e'][['Period', 'Sector', 'Total GHG Emissions']].groupby(['Period', 'Sector'], as_index=False).sum()\n",
    "ref_fig['Sector'] = ref_fig['Sector'].replace({'Transport': 'Transportation', 'commercial': 'Commercial', 'residential': 'Residential', 'industrial': 'Industrial', 'electricity': 'Electricity'})\n",
    "ref_fig['Total GHG Emissions (Mt CO2e)'] = ref_fig['Total GHG Emissions'] / 1E3\n",
    "ref_fig['Period'] = ref_fig['Period'].astype(str)\n",
    "\n",
    "gtech23_fig = gtech23_ref_ghg[gtech23_ref_ghg['Sector'] != 'AFOLU']\n",
    "gtech23_fig = gtech23_fig.rename(columns={'CO2e (Mt)': 'Total GHG Emissions (Mt CO2e)'})\n",
    "\n",
    "ref_fig['Source'] = 'CANOE'\n",
    "gtech23_fig['Source'] = 'gTech-IESD'\n",
    "gtech23_fig['Period'] = gtech23_fig['Period'].astype(str)\n",
    "fig_df = pd.concat([ref_fig[['Period', 'Sector', 'Total GHG Emissions (Mt CO2e)', 'Source']], gtech23_fig]).reset_index(drop=True)\n",
    "\n",
    "fig = px.area(fig_df, x='Period', y='Total GHG Emissions (Mt CO2e)', color='Sector', facet_col='Source',\n",
    "              template='plotly_white',\n",
    "              facet_col_spacing=0.03,\n",
    "              width=1100, height=600\n",
    "              )\n",
    "\n",
    "fig.update_layout(\n",
    "    title=dict(text='Total GHG emissions by sector and energy model, excluding AFOLU',\n",
    "               x=0.5,\n",
    "               y=0.97,\n",
    "               xanchor='center',\n",
    "               yanchor='top'\n",
    "               ),\n",
    "    xaxis=dict(title='Period'),\n",
    "    yaxis=dict(title='Total GHG Emissions (M tonne CO2e)'),\n",
    "    yaxis_title_standoff=0,\n",
    "    legend_title_text='',\n",
    "    # bargap=0.1,\n",
    "    legend=dict(orientation='h',\n",
    "                yanchor='bottom',\n",
    "                y=-0.15,\n",
    "                xanchor='center',\n",
    "                x=0.5),\n",
    "    font=dict(size=13,\n",
    "              # family=\"Open Sans\"\n",
    "              ))\n",
    "\n",
    "for axis in fig.layout:\n",
    "    if axis.startswith('xaxis'):\n",
    "        fig.layout[axis].title.text = ''\n",
    "\n",
    "fig.update_xaxes(tickangle=45)\n",
    "\n",
    "fig.add_annotation(\n",
    "    text=\"*Upstream emissions are accounted for in each sector, except for Oil & Gas\",\n",
    "    x=1,  # Adjust x position as needed\n",
    "    y=0.98,\n",
    "    xref=\"paper\",\n",
    "    yref=\"paper\",\n",
    "    showarrow=False,\n",
    "    # textangle=-90,\n",
    "    font=dict(size=11))\n",
    "\n",
    "\n",
    "fig.show()"
   ]
  },
  {
   "cell_type": "markdown",
   "metadata": {},
   "source": [
    "# CANOE vs CEF2023 vs gTech - H2 production"
   ]
  },
  {
   "cell_type": "code",
   "execution_count": 157,
   "metadata": {},
   "outputs": [
    {
     "data": {
      "application/vnd.plotly.v1+json": {
       "config": {
        "plotlyServerURL": "https://plot.ly"
       },
       "data": [
        {
         "alignmentgroup": "True",
         "hovertemplate": "Pathway=Electrolysis<br>Period=2021<br>Source=%{x}<br>Production (PJ)=%{y}<extra></extra>",
         "legendgroup": "Electrolysis",
         "marker": {
          "color": "#3366CC",
          "pattern": {
           "shape": ""
          }
         },
         "name": "Electrolysis",
         "offsetgroup": "Electrolysis",
         "orientation": "v",
         "showlegend": true,
         "textfont": {
          "size": 9
         },
         "textposition": "auto",
         "texttemplate": "%{y:.3f}",
         "type": "bar",
         "x": [
          "CANOE",
          "CEF2023",
          "gTech-IESD"
         ],
         "xaxis": "x",
         "y": [
          0,
          0.056618100000000005,
          0
         ],
         "yaxis": "y"
        },
        {
         "alignmentgroup": "True",
         "hovertemplate": "Pathway=Electrolysis<br>Period=2025<br>Source=%{x}<br>Production (PJ)=%{y}<extra></extra>",
         "legendgroup": "Electrolysis",
         "marker": {
          "color": "#3366CC",
          "pattern": {
           "shape": ""
          }
         },
         "name": "Electrolysis",
         "offsetgroup": "Electrolysis",
         "orientation": "v",
         "showlegend": false,
         "textfont": {
          "size": 9
         },
         "textposition": "auto",
         "texttemplate": "%{y:.3f}",
         "type": "bar",
         "x": [
          "CANOE",
          "CEF2023",
          "gTech-IESD"
         ],
         "xaxis": "x2",
         "y": [
          0,
          0.0796059,
          0.054504795
         ],
         "yaxis": "y2"
        },
        {
         "alignmentgroup": "True",
         "hovertemplate": "Pathway=Electrolysis<br>Period=2030<br>Source=%{x}<br>Production (PJ)=%{y}<extra></extra>",
         "legendgroup": "Electrolysis",
         "marker": {
          "color": "#3366CC",
          "pattern": {
           "shape": ""
          }
         },
         "name": "Electrolysis",
         "offsetgroup": "Electrolysis",
         "orientation": "v",
         "showlegend": false,
         "textfont": {
          "size": 9
         },
         "textposition": "auto",
         "texttemplate": "%{y:.3f}",
         "type": "bar",
         "x": [
          "CANOE",
          "CEF2023",
          "gTech-IESD"
         ],
         "xaxis": "x3",
         "y": [
          0,
          0.09322830000000001,
          1.339339342
         ],
         "yaxis": "y3"
        },
        {
         "alignmentgroup": "True",
         "hovertemplate": "Pathway=Electrolysis<br>Period=2035<br>Source=%{x}<br>Production (PJ)=%{y}<extra></extra>",
         "legendgroup": "Electrolysis",
         "marker": {
          "color": "#3366CC",
          "pattern": {
           "shape": ""
          }
         },
         "name": "Electrolysis",
         "offsetgroup": "Electrolysis",
         "orientation": "v",
         "showlegend": false,
         "textfont": {
          "size": 9
         },
         "textposition": "auto",
         "texttemplate": "%{y:.3f}",
         "type": "bar",
         "x": [
          "CANOE",
          "CEF2023",
          "gTech-IESD"
         ],
         "xaxis": "x4",
         "y": [
          0,
          0.2544267,
          0
         ],
         "yaxis": "y4"
        },
        {
         "alignmentgroup": "True",
         "hovertemplate": "Pathway=Electrolysis<br>Period=2040<br>Source=%{x}<br>Production (PJ)=%{y}<extra></extra>",
         "legendgroup": "Electrolysis",
         "marker": {
          "color": "#3366CC",
          "pattern": {
           "shape": ""
          }
         },
         "name": "Electrolysis",
         "offsetgroup": "Electrolysis",
         "orientation": "v",
         "showlegend": false,
         "textfont": {
          "size": 9
         },
         "textposition": "auto",
         "texttemplate": "%{y:.3f}",
         "type": "bar",
         "x": [
          "CANOE",
          "CEF2023",
          "gTech-IESD"
         ],
         "xaxis": "x5",
         "y": [
          0,
          0.5050221,
          0
         ],
         "yaxis": "y5"
        },
        {
         "alignmentgroup": "True",
         "hovertemplate": "Pathway=Electrolysis<br>Period=2045<br>Source=%{x}<br>Production (PJ)=%{y}<extra></extra>",
         "legendgroup": "Electrolysis",
         "marker": {
          "color": "#3366CC",
          "pattern": {
           "shape": ""
          }
         },
         "name": "Electrolysis",
         "offsetgroup": "Electrolysis",
         "orientation": "v",
         "showlegend": false,
         "textfont": {
          "size": 9
         },
         "textposition": "auto",
         "texttemplate": "%{y:.3f}",
         "type": "bar",
         "x": [
          "CANOE",
          "CEF2023",
          "gTech-IESD"
         ],
         "xaxis": "x6",
         "y": [
          0,
          0.7710846,
          0
         ],
         "yaxis": "y6"
        },
        {
         "alignmentgroup": "True",
         "hovertemplate": "Pathway=Electrolysis<br>Period=2050<br>Source=%{x}<br>Production (PJ)=%{y}<extra></extra>",
         "legendgroup": "Electrolysis",
         "marker": {
          "color": "#3366CC",
          "pattern": {
           "shape": ""
          }
         },
         "name": "Electrolysis",
         "offsetgroup": "Electrolysis",
         "orientation": "v",
         "showlegend": false,
         "textfont": {
          "size": 9
         },
         "textposition": "auto",
         "texttemplate": "%{y:.3f}",
         "type": "bar",
         "x": [
          "CANOE",
          "CEF2023",
          "gTech-IESD"
         ],
         "xaxis": "x7",
         "y": [
          0,
          0.9775491000000001,
          0
         ],
         "yaxis": "y7"
        },
        {
         "alignmentgroup": "True",
         "hovertemplate": "Pathway=SMR w/o CCS<br>Period=2021<br>Source=%{x}<br>Production (PJ)=%{y}<extra></extra>",
         "legendgroup": "SMR w/o CCS",
         "marker": {
          "color": "#DC3912",
          "pattern": {
           "shape": ""
          }
         },
         "name": "SMR w/o CCS",
         "offsetgroup": "SMR w/o CCS",
         "orientation": "v",
         "showlegend": true,
         "textfont": {
          "size": 9
         },
         "textposition": "auto",
         "texttemplate": "%{y:.3f}",
         "type": "bar",
         "x": [
          "CANOE"
         ],
         "xaxis": "x",
         "y": [
          0
         ],
         "yaxis": "y"
        },
        {
         "alignmentgroup": "True",
         "hovertemplate": "Pathway=SMR w/o CCS<br>Period=2025<br>Source=%{x}<br>Production (PJ)=%{y}<extra></extra>",
         "legendgroup": "SMR w/o CCS",
         "marker": {
          "color": "#DC3912",
          "pattern": {
           "shape": ""
          }
         },
         "name": "SMR w/o CCS",
         "offsetgroup": "SMR w/o CCS",
         "orientation": "v",
         "showlegend": false,
         "textfont": {
          "size": 9
         },
         "textposition": "auto",
         "texttemplate": "%{y:.3f}",
         "type": "bar",
         "x": [
          "CANOE"
         ],
         "xaxis": "x2",
         "y": [
          1.38351819253108
         ],
         "yaxis": "y2"
        },
        {
         "alignmentgroup": "True",
         "hovertemplate": "Pathway=SMR w/o CCS<br>Period=2030<br>Source=%{x}<br>Production (PJ)=%{y}<extra></extra>",
         "legendgroup": "SMR w/o CCS",
         "marker": {
          "color": "#DC3912",
          "pattern": {
           "shape": ""
          }
         },
         "name": "SMR w/o CCS",
         "offsetgroup": "SMR w/o CCS",
         "orientation": "v",
         "showlegend": false,
         "textfont": {
          "size": 9
         },
         "textposition": "auto",
         "texttemplate": "%{y:.3f}",
         "type": "bar",
         "x": [
          "CANOE"
         ],
         "xaxis": "x3",
         "y": [
          3.84793172918585
         ],
         "yaxis": "y3"
        },
        {
         "alignmentgroup": "True",
         "hovertemplate": "Pathway=SMR w/o CCS<br>Period=2035<br>Source=%{x}<br>Production (PJ)=%{y}<extra></extra>",
         "legendgroup": "SMR w/o CCS",
         "marker": {
          "color": "#DC3912",
          "pattern": {
           "shape": ""
          }
         },
         "name": "SMR w/o CCS",
         "offsetgroup": "SMR w/o CCS",
         "orientation": "v",
         "showlegend": false,
         "textfont": {
          "size": 9
         },
         "textposition": "auto",
         "texttemplate": "%{y:.3f}",
         "type": "bar",
         "x": [
          "CANOE"
         ],
         "xaxis": "x4",
         "y": [
          8.766870309153461
         ],
         "yaxis": "y4"
        },
        {
         "alignmentgroup": "True",
         "hovertemplate": "Pathway=SMR w/o CCS<br>Period=2040<br>Source=%{x}<br>Production (PJ)=%{y}<extra></extra>",
         "legendgroup": "SMR w/o CCS",
         "marker": {
          "color": "#DC3912",
          "pattern": {
           "shape": ""
          }
         },
         "name": "SMR w/o CCS",
         "offsetgroup": "SMR w/o CCS",
         "orientation": "v",
         "showlegend": false,
         "textfont": {
          "size": 9
         },
         "textposition": "auto",
         "texttemplate": "%{y:.3f}",
         "type": "bar",
         "x": [
          "CANOE"
         ],
         "xaxis": "x5",
         "y": [
          15.02531334701231
         ],
         "yaxis": "y5"
        },
        {
         "alignmentgroup": "True",
         "hovertemplate": "Pathway=SMR w/o CCS<br>Period=2045<br>Source=%{x}<br>Production (PJ)=%{y}<extra></extra>",
         "legendgroup": "SMR w/o CCS",
         "marker": {
          "color": "#DC3912",
          "pattern": {
           "shape": ""
          }
         },
         "name": "SMR w/o CCS",
         "offsetgroup": "SMR w/o CCS",
         "orientation": "v",
         "showlegend": false,
         "textfont": {
          "size": 9
         },
         "textposition": "auto",
         "texttemplate": "%{y:.3f}",
         "type": "bar",
         "x": [
          "CANOE"
         ],
         "xaxis": "x6",
         "y": [
          19.69564293809688
         ],
         "yaxis": "y6"
        },
        {
         "alignmentgroup": "True",
         "hovertemplate": "Pathway=SMR w/o CCS<br>Period=2050<br>Source=%{x}<br>Production (PJ)=%{y}<extra></extra>",
         "legendgroup": "SMR w/o CCS",
         "marker": {
          "color": "#DC3912",
          "pattern": {
           "shape": ""
          }
         },
         "name": "SMR w/o CCS",
         "offsetgroup": "SMR w/o CCS",
         "orientation": "v",
         "showlegend": false,
         "textfont": {
          "size": 9
         },
         "textposition": "auto",
         "texttemplate": "%{y:.3f}",
         "type": "bar",
         "x": [
          "CANOE"
         ],
         "xaxis": "x7",
         "y": [
          22.96212786643989
         ],
         "yaxis": "y7"
        },
        {
         "alignmentgroup": "True",
         "hovertemplate": "Pathway=Biomass<br>Period=2021<br>Source=%{x}<br>Production (PJ)=%{y}<extra></extra>",
         "legendgroup": "Biomass",
         "marker": {
          "color": "#FF9900",
          "pattern": {
           "shape": ""
          }
         },
         "name": "Biomass",
         "offsetgroup": "Biomass",
         "orientation": "v",
         "showlegend": true,
         "textfont": {
          "size": 9
         },
         "textposition": "auto",
         "texttemplate": "%{y:.3f}",
         "type": "bar",
         "x": [
          "CEF2023"
         ],
         "xaxis": "x",
         "y": [
          0
         ],
         "yaxis": "y"
        },
        {
         "alignmentgroup": "True",
         "hovertemplate": "Pathway=Biomass<br>Period=2025<br>Source=%{x}<br>Production (PJ)=%{y}<extra></extra>",
         "legendgroup": "Biomass",
         "marker": {
          "color": "#FF9900",
          "pattern": {
           "shape": ""
          }
         },
         "name": "Biomass",
         "offsetgroup": "Biomass",
         "orientation": "v",
         "showlegend": false,
         "textfont": {
          "size": 9
         },
         "textposition": "auto",
         "texttemplate": "%{y:.3f}",
         "type": "bar",
         "x": [
          "CEF2023"
         ],
         "xaxis": "x2",
         "y": [
          0
         ],
         "yaxis": "y2"
        },
        {
         "alignmentgroup": "True",
         "hovertemplate": "Pathway=Biomass<br>Period=2030<br>Source=%{x}<br>Production (PJ)=%{y}<extra></extra>",
         "legendgroup": "Biomass",
         "marker": {
          "color": "#FF9900",
          "pattern": {
           "shape": ""
          }
         },
         "name": "Biomass",
         "offsetgroup": "Biomass",
         "orientation": "v",
         "showlegend": false,
         "textfont": {
          "size": 9
         },
         "textposition": "auto",
         "texttemplate": "%{y:.3f}",
         "type": "bar",
         "x": [
          "CEF2023"
         ],
         "xaxis": "x3",
         "y": [
          0
         ],
         "yaxis": "y3"
        },
        {
         "alignmentgroup": "True",
         "hovertemplate": "Pathway=Biomass<br>Period=2035<br>Source=%{x}<br>Production (PJ)=%{y}<extra></extra>",
         "legendgroup": "Biomass",
         "marker": {
          "color": "#FF9900",
          "pattern": {
           "shape": ""
          }
         },
         "name": "Biomass",
         "offsetgroup": "Biomass",
         "orientation": "v",
         "showlegend": false,
         "textfont": {
          "size": 9
         },
         "textposition": "auto",
         "texttemplate": "%{y:.3f}",
         "type": "bar",
         "x": [
          "CEF2023"
         ],
         "xaxis": "x4",
         "y": [
          0
         ],
         "yaxis": "y4"
        },
        {
         "alignmentgroup": "True",
         "hovertemplate": "Pathway=Biomass<br>Period=2040<br>Source=%{x}<br>Production (PJ)=%{y}<extra></extra>",
         "legendgroup": "Biomass",
         "marker": {
          "color": "#FF9900",
          "pattern": {
           "shape": ""
          }
         },
         "name": "Biomass",
         "offsetgroup": "Biomass",
         "orientation": "v",
         "showlegend": false,
         "textfont": {
          "size": 9
         },
         "textposition": "auto",
         "texttemplate": "%{y:.3f}",
         "type": "bar",
         "x": [
          "CEF2023"
         ],
         "xaxis": "x5",
         "y": [
          0
         ],
         "yaxis": "y5"
        },
        {
         "alignmentgroup": "True",
         "hovertemplate": "Pathway=Biomass<br>Period=2045<br>Source=%{x}<br>Production (PJ)=%{y}<extra></extra>",
         "legendgroup": "Biomass",
         "marker": {
          "color": "#FF9900",
          "pattern": {
           "shape": ""
          }
         },
         "name": "Biomass",
         "offsetgroup": "Biomass",
         "orientation": "v",
         "showlegend": false,
         "textfont": {
          "size": 9
         },
         "textposition": "auto",
         "texttemplate": "%{y:.3f}",
         "type": "bar",
         "x": [
          "CEF2023"
         ],
         "xaxis": "x6",
         "y": [
          0
         ],
         "yaxis": "y6"
        },
        {
         "alignmentgroup": "True",
         "hovertemplate": "Pathway=Biomass<br>Period=2050<br>Source=%{x}<br>Production (PJ)=%{y}<extra></extra>",
         "legendgroup": "Biomass",
         "marker": {
          "color": "#FF9900",
          "pattern": {
           "shape": ""
          }
         },
         "name": "Biomass",
         "offsetgroup": "Biomass",
         "orientation": "v",
         "showlegend": false,
         "textfont": {
          "size": 9
         },
         "textposition": "auto",
         "texttemplate": "%{y:.3f}",
         "type": "bar",
         "x": [
          "CEF2023"
         ],
         "xaxis": "x7",
         "y": [
          0
         ],
         "yaxis": "y7"
        },
        {
         "alignmentgroup": "True",
         "hovertemplate": "Pathway=SMR w CCS<br>Period=2021<br>Source=%{x}<br>Production (PJ)=%{y}<extra></extra>",
         "legendgroup": "SMR w CCS",
         "marker": {
          "color": "#109618",
          "pattern": {
           "shape": ""
          }
         },
         "name": "SMR w CCS",
         "offsetgroup": "SMR w CCS",
         "orientation": "v",
         "showlegend": true,
         "textfont": {
          "size": 9
         },
         "textposition": "auto",
         "texttemplate": "%{y:.3f}",
         "type": "bar",
         "x": [
          "CEF2023",
          "gTech-IESD"
         ],
         "xaxis": "x",
         "y": [
          0,
          0
         ],
         "yaxis": "y"
        },
        {
         "alignmentgroup": "True",
         "hovertemplate": "Pathway=SMR w CCS<br>Period=2025<br>Source=%{x}<br>Production (PJ)=%{y}<extra></extra>",
         "legendgroup": "SMR w CCS",
         "marker": {
          "color": "#109618",
          "pattern": {
           "shape": ""
          }
         },
         "name": "SMR w CCS",
         "offsetgroup": "SMR w CCS",
         "orientation": "v",
         "showlegend": false,
         "textfont": {
          "size": 9
         },
         "textposition": "auto",
         "texttemplate": "%{y:.3f}",
         "type": "bar",
         "x": [
          "CEF2023",
          "gTech-IESD"
         ],
         "xaxis": "x2",
         "y": [
          0,
          0
         ],
         "yaxis": "y2"
        },
        {
         "alignmentgroup": "True",
         "hovertemplate": "Pathway=SMR w CCS<br>Period=2030<br>Source=%{x}<br>Production (PJ)=%{y}<extra></extra>",
         "legendgroup": "SMR w CCS",
         "marker": {
          "color": "#109618",
          "pattern": {
           "shape": ""
          }
         },
         "name": "SMR w CCS",
         "offsetgroup": "SMR w CCS",
         "orientation": "v",
         "showlegend": false,
         "textfont": {
          "size": 9
         },
         "textposition": "auto",
         "texttemplate": "%{y:.3f}",
         "type": "bar",
         "x": [
          "CEF2023",
          "gTech-IESD"
         ],
         "xaxis": "x3",
         "y": [
          0,
          0
         ],
         "yaxis": "y3"
        },
        {
         "alignmentgroup": "True",
         "hovertemplate": "Pathway=SMR w CCS<br>Period=2035<br>Source=%{x}<br>Production (PJ)=%{y}<extra></extra>",
         "legendgroup": "SMR w CCS",
         "marker": {
          "color": "#109618",
          "pattern": {
           "shape": ""
          }
         },
         "name": "SMR w CCS",
         "offsetgroup": "SMR w CCS",
         "orientation": "v",
         "showlegend": false,
         "textfont": {
          "size": 9
         },
         "textposition": "auto",
         "texttemplate": "%{y:.3f}",
         "type": "bar",
         "x": [
          "CEF2023",
          "gTech-IESD"
         ],
         "xaxis": "x4",
         "y": [
          0,
          3.785101746
         ],
         "yaxis": "y4"
        },
        {
         "alignmentgroup": "True",
         "hovertemplate": "Pathway=SMR w CCS<br>Period=2040<br>Source=%{x}<br>Production (PJ)=%{y}<extra></extra>",
         "legendgroup": "SMR w CCS",
         "marker": {
          "color": "#109618",
          "pattern": {
           "shape": ""
          }
         },
         "name": "SMR w CCS",
         "offsetgroup": "SMR w CCS",
         "orientation": "v",
         "showlegend": false,
         "textfont": {
          "size": 9
         },
         "textposition": "auto",
         "texttemplate": "%{y:.3f}",
         "type": "bar",
         "x": [
          "CEF2023",
          "gTech-IESD"
         ],
         "xaxis": "x5",
         "y": [
          0,
          6.59848512
         ],
         "yaxis": "y5"
        },
        {
         "alignmentgroup": "True",
         "hovertemplate": "Pathway=SMR w CCS<br>Period=2045<br>Source=%{x}<br>Production (PJ)=%{y}<extra></extra>",
         "legendgroup": "SMR w CCS",
         "marker": {
          "color": "#109618",
          "pattern": {
           "shape": ""
          }
         },
         "name": "SMR w CCS",
         "offsetgroup": "SMR w CCS",
         "orientation": "v",
         "showlegend": false,
         "textfont": {
          "size": 9
         },
         "textposition": "auto",
         "texttemplate": "%{y:.3f}",
         "type": "bar",
         "x": [
          "CEF2023",
          "gTech-IESD"
         ],
         "xaxis": "x6",
         "y": [
          0,
          9.077010615
         ],
         "yaxis": "y6"
        },
        {
         "alignmentgroup": "True",
         "hovertemplate": "Pathway=SMR w CCS<br>Period=2050<br>Source=%{x}<br>Production (PJ)=%{y}<extra></extra>",
         "legendgroup": "SMR w CCS",
         "marker": {
          "color": "#109618",
          "pattern": {
           "shape": ""
          }
         },
         "name": "SMR w CCS",
         "offsetgroup": "SMR w CCS",
         "orientation": "v",
         "showlegend": false,
         "textfont": {
          "size": 9
         },
         "textposition": "auto",
         "texttemplate": "%{y:.3f}",
         "type": "bar",
         "x": [
          "CEF2023",
          "gTech-IESD"
         ],
         "xaxis": "x7",
         "y": [
          0,
          10.58961938
         ],
         "yaxis": "y7"
        }
       ],
       "layout": {
        "annotations": [
         {
          "font": {},
          "showarrow": false,
          "text": "2021",
          "x": 0.06285714285714285,
          "xanchor": "center",
          "xref": "paper",
          "y": -0.1,
          "yanchor": "top",
          "yref": "paper"
         },
         {
          "font": {},
          "showarrow": false,
          "text": "2025",
          "x": 0.20857142857142852,
          "xanchor": "center",
          "xref": "paper",
          "y": -0.1,
          "yanchor": "top",
          "yref": "paper"
         },
         {
          "font": {},
          "showarrow": false,
          "text": "2030",
          "x": 0.3542857142857142,
          "xanchor": "center",
          "xref": "paper",
          "y": -0.1,
          "yanchor": "top",
          "yref": "paper"
         },
         {
          "font": {},
          "showarrow": false,
          "text": "2035",
          "x": 0.5,
          "xanchor": "center",
          "xref": "paper",
          "y": -0.1,
          "yanchor": "top",
          "yref": "paper"
         },
         {
          "font": {},
          "showarrow": false,
          "text": "2040",
          "x": 0.6457142857142856,
          "xanchor": "center",
          "xref": "paper",
          "y": -0.1,
          "yanchor": "top",
          "yref": "paper"
         },
         {
          "font": {},
          "showarrow": false,
          "text": "2045",
          "x": 0.7914285714285713,
          "xanchor": "center",
          "xref": "paper",
          "y": -0.1,
          "yanchor": "top",
          "yref": "paper"
         },
         {
          "font": {},
          "showarrow": false,
          "text": "2050",
          "x": 0.937142857142857,
          "xanchor": "center",
          "xref": "paper",
          "y": -0.1,
          "yanchor": "top",
          "yref": "paper"
         }
        ],
        "bargap": 0.1,
        "barmode": "stack",
        "font": {
         "size": 14
        },
        "height": 650,
        "legend": {
         "orientation": "h",
         "title": {
          "text": ""
         },
         "tracegroupgap": 0,
         "x": 0.5,
         "xanchor": "center",
         "y": 1.04,
         "yanchor": "top"
        },
        "margin": {
         "t": 60
        },
        "template": {
         "data": {
          "bar": [
           {
            "error_x": {
             "color": "#2a3f5f"
            },
            "error_y": {
             "color": "#2a3f5f"
            },
            "marker": {
             "line": {
              "color": "white",
              "width": 0.5
             },
             "pattern": {
              "fillmode": "overlay",
              "size": 10,
              "solidity": 0.2
             }
            },
            "type": "bar"
           }
          ],
          "barpolar": [
           {
            "marker": {
             "line": {
              "color": "white",
              "width": 0.5
             },
             "pattern": {
              "fillmode": "overlay",
              "size": 10,
              "solidity": 0.2
             }
            },
            "type": "barpolar"
           }
          ],
          "carpet": [
           {
            "aaxis": {
             "endlinecolor": "#2a3f5f",
             "gridcolor": "#C8D4E3",
             "linecolor": "#C8D4E3",
             "minorgridcolor": "#C8D4E3",
             "startlinecolor": "#2a3f5f"
            },
            "baxis": {
             "endlinecolor": "#2a3f5f",
             "gridcolor": "#C8D4E3",
             "linecolor": "#C8D4E3",
             "minorgridcolor": "#C8D4E3",
             "startlinecolor": "#2a3f5f"
            },
            "type": "carpet"
           }
          ],
          "choropleth": [
           {
            "colorbar": {
             "outlinewidth": 0,
             "ticks": ""
            },
            "type": "choropleth"
           }
          ],
          "contour": [
           {
            "colorbar": {
             "outlinewidth": 0,
             "ticks": ""
            },
            "colorscale": [
             [
              0,
              "#0d0887"
             ],
             [
              0.1111111111111111,
              "#46039f"
             ],
             [
              0.2222222222222222,
              "#7201a8"
             ],
             [
              0.3333333333333333,
              "#9c179e"
             ],
             [
              0.4444444444444444,
              "#bd3786"
             ],
             [
              0.5555555555555556,
              "#d8576b"
             ],
             [
              0.6666666666666666,
              "#ed7953"
             ],
             [
              0.7777777777777778,
              "#fb9f3a"
             ],
             [
              0.8888888888888888,
              "#fdca26"
             ],
             [
              1,
              "#f0f921"
             ]
            ],
            "type": "contour"
           }
          ],
          "contourcarpet": [
           {
            "colorbar": {
             "outlinewidth": 0,
             "ticks": ""
            },
            "type": "contourcarpet"
           }
          ],
          "heatmap": [
           {
            "colorbar": {
             "outlinewidth": 0,
             "ticks": ""
            },
            "colorscale": [
             [
              0,
              "#0d0887"
             ],
             [
              0.1111111111111111,
              "#46039f"
             ],
             [
              0.2222222222222222,
              "#7201a8"
             ],
             [
              0.3333333333333333,
              "#9c179e"
             ],
             [
              0.4444444444444444,
              "#bd3786"
             ],
             [
              0.5555555555555556,
              "#d8576b"
             ],
             [
              0.6666666666666666,
              "#ed7953"
             ],
             [
              0.7777777777777778,
              "#fb9f3a"
             ],
             [
              0.8888888888888888,
              "#fdca26"
             ],
             [
              1,
              "#f0f921"
             ]
            ],
            "type": "heatmap"
           }
          ],
          "heatmapgl": [
           {
            "colorbar": {
             "outlinewidth": 0,
             "ticks": ""
            },
            "colorscale": [
             [
              0,
              "#0d0887"
             ],
             [
              0.1111111111111111,
              "#46039f"
             ],
             [
              0.2222222222222222,
              "#7201a8"
             ],
             [
              0.3333333333333333,
              "#9c179e"
             ],
             [
              0.4444444444444444,
              "#bd3786"
             ],
             [
              0.5555555555555556,
              "#d8576b"
             ],
             [
              0.6666666666666666,
              "#ed7953"
             ],
             [
              0.7777777777777778,
              "#fb9f3a"
             ],
             [
              0.8888888888888888,
              "#fdca26"
             ],
             [
              1,
              "#f0f921"
             ]
            ],
            "type": "heatmapgl"
           }
          ],
          "histogram": [
           {
            "marker": {
             "pattern": {
              "fillmode": "overlay",
              "size": 10,
              "solidity": 0.2
             }
            },
            "type": "histogram"
           }
          ],
          "histogram2d": [
           {
            "colorbar": {
             "outlinewidth": 0,
             "ticks": ""
            },
            "colorscale": [
             [
              0,
              "#0d0887"
             ],
             [
              0.1111111111111111,
              "#46039f"
             ],
             [
              0.2222222222222222,
              "#7201a8"
             ],
             [
              0.3333333333333333,
              "#9c179e"
             ],
             [
              0.4444444444444444,
              "#bd3786"
             ],
             [
              0.5555555555555556,
              "#d8576b"
             ],
             [
              0.6666666666666666,
              "#ed7953"
             ],
             [
              0.7777777777777778,
              "#fb9f3a"
             ],
             [
              0.8888888888888888,
              "#fdca26"
             ],
             [
              1,
              "#f0f921"
             ]
            ],
            "type": "histogram2d"
           }
          ],
          "histogram2dcontour": [
           {
            "colorbar": {
             "outlinewidth": 0,
             "ticks": ""
            },
            "colorscale": [
             [
              0,
              "#0d0887"
             ],
             [
              0.1111111111111111,
              "#46039f"
             ],
             [
              0.2222222222222222,
              "#7201a8"
             ],
             [
              0.3333333333333333,
              "#9c179e"
             ],
             [
              0.4444444444444444,
              "#bd3786"
             ],
             [
              0.5555555555555556,
              "#d8576b"
             ],
             [
              0.6666666666666666,
              "#ed7953"
             ],
             [
              0.7777777777777778,
              "#fb9f3a"
             ],
             [
              0.8888888888888888,
              "#fdca26"
             ],
             [
              1,
              "#f0f921"
             ]
            ],
            "type": "histogram2dcontour"
           }
          ],
          "mesh3d": [
           {
            "colorbar": {
             "outlinewidth": 0,
             "ticks": ""
            },
            "type": "mesh3d"
           }
          ],
          "parcoords": [
           {
            "line": {
             "colorbar": {
              "outlinewidth": 0,
              "ticks": ""
             }
            },
            "type": "parcoords"
           }
          ],
          "pie": [
           {
            "automargin": true,
            "type": "pie"
           }
          ],
          "scatter": [
           {
            "fillpattern": {
             "fillmode": "overlay",
             "size": 10,
             "solidity": 0.2
            },
            "type": "scatter"
           }
          ],
          "scatter3d": [
           {
            "line": {
             "colorbar": {
              "outlinewidth": 0,
              "ticks": ""
             }
            },
            "marker": {
             "colorbar": {
              "outlinewidth": 0,
              "ticks": ""
             }
            },
            "type": "scatter3d"
           }
          ],
          "scattercarpet": [
           {
            "marker": {
             "colorbar": {
              "outlinewidth": 0,
              "ticks": ""
             }
            },
            "type": "scattercarpet"
           }
          ],
          "scattergeo": [
           {
            "marker": {
             "colorbar": {
              "outlinewidth": 0,
              "ticks": ""
             }
            },
            "type": "scattergeo"
           }
          ],
          "scattergl": [
           {
            "marker": {
             "colorbar": {
              "outlinewidth": 0,
              "ticks": ""
             }
            },
            "type": "scattergl"
           }
          ],
          "scattermapbox": [
           {
            "marker": {
             "colorbar": {
              "outlinewidth": 0,
              "ticks": ""
             }
            },
            "type": "scattermapbox"
           }
          ],
          "scatterpolar": [
           {
            "marker": {
             "colorbar": {
              "outlinewidth": 0,
              "ticks": ""
             }
            },
            "type": "scatterpolar"
           }
          ],
          "scatterpolargl": [
           {
            "marker": {
             "colorbar": {
              "outlinewidth": 0,
              "ticks": ""
             }
            },
            "type": "scatterpolargl"
           }
          ],
          "scatterternary": [
           {
            "marker": {
             "colorbar": {
              "outlinewidth": 0,
              "ticks": ""
             }
            },
            "type": "scatterternary"
           }
          ],
          "surface": [
           {
            "colorbar": {
             "outlinewidth": 0,
             "ticks": ""
            },
            "colorscale": [
             [
              0,
              "#0d0887"
             ],
             [
              0.1111111111111111,
              "#46039f"
             ],
             [
              0.2222222222222222,
              "#7201a8"
             ],
             [
              0.3333333333333333,
              "#9c179e"
             ],
             [
              0.4444444444444444,
              "#bd3786"
             ],
             [
              0.5555555555555556,
              "#d8576b"
             ],
             [
              0.6666666666666666,
              "#ed7953"
             ],
             [
              0.7777777777777778,
              "#fb9f3a"
             ],
             [
              0.8888888888888888,
              "#fdca26"
             ],
             [
              1,
              "#f0f921"
             ]
            ],
            "type": "surface"
           }
          ],
          "table": [
           {
            "cells": {
             "fill": {
              "color": "#EBF0F8"
             },
             "line": {
              "color": "white"
             }
            },
            "header": {
             "fill": {
              "color": "#C8D4E3"
             },
             "line": {
              "color": "white"
             }
            },
            "type": "table"
           }
          ]
         },
         "layout": {
          "annotationdefaults": {
           "arrowcolor": "#2a3f5f",
           "arrowhead": 0,
           "arrowwidth": 1
          },
          "autotypenumbers": "strict",
          "coloraxis": {
           "colorbar": {
            "outlinewidth": 0,
            "ticks": ""
           }
          },
          "colorscale": {
           "diverging": [
            [
             0,
             "#8e0152"
            ],
            [
             0.1,
             "#c51b7d"
            ],
            [
             0.2,
             "#de77ae"
            ],
            [
             0.3,
             "#f1b6da"
            ],
            [
             0.4,
             "#fde0ef"
            ],
            [
             0.5,
             "#f7f7f7"
            ],
            [
             0.6,
             "#e6f5d0"
            ],
            [
             0.7,
             "#b8e186"
            ],
            [
             0.8,
             "#7fbc41"
            ],
            [
             0.9,
             "#4d9221"
            ],
            [
             1,
             "#276419"
            ]
           ],
           "sequential": [
            [
             0,
             "#0d0887"
            ],
            [
             0.1111111111111111,
             "#46039f"
            ],
            [
             0.2222222222222222,
             "#7201a8"
            ],
            [
             0.3333333333333333,
             "#9c179e"
            ],
            [
             0.4444444444444444,
             "#bd3786"
            ],
            [
             0.5555555555555556,
             "#d8576b"
            ],
            [
             0.6666666666666666,
             "#ed7953"
            ],
            [
             0.7777777777777778,
             "#fb9f3a"
            ],
            [
             0.8888888888888888,
             "#fdca26"
            ],
            [
             1,
             "#f0f921"
            ]
           ],
           "sequentialminus": [
            [
             0,
             "#0d0887"
            ],
            [
             0.1111111111111111,
             "#46039f"
            ],
            [
             0.2222222222222222,
             "#7201a8"
            ],
            [
             0.3333333333333333,
             "#9c179e"
            ],
            [
             0.4444444444444444,
             "#bd3786"
            ],
            [
             0.5555555555555556,
             "#d8576b"
            ],
            [
             0.6666666666666666,
             "#ed7953"
            ],
            [
             0.7777777777777778,
             "#fb9f3a"
            ],
            [
             0.8888888888888888,
             "#fdca26"
            ],
            [
             1,
             "#f0f921"
            ]
           ]
          },
          "colorway": [
           "#636efa",
           "#EF553B",
           "#00cc96",
           "#ab63fa",
           "#FFA15A",
           "#19d3f3",
           "#FF6692",
           "#B6E880",
           "#FF97FF",
           "#FECB52"
          ],
          "font": {
           "color": "#2a3f5f"
          },
          "geo": {
           "bgcolor": "white",
           "lakecolor": "white",
           "landcolor": "white",
           "showlakes": true,
           "showland": true,
           "subunitcolor": "#C8D4E3"
          },
          "hoverlabel": {
           "align": "left"
          },
          "hovermode": "closest",
          "mapbox": {
           "style": "light"
          },
          "paper_bgcolor": "white",
          "plot_bgcolor": "white",
          "polar": {
           "angularaxis": {
            "gridcolor": "#EBF0F8",
            "linecolor": "#EBF0F8",
            "ticks": ""
           },
           "bgcolor": "white",
           "radialaxis": {
            "gridcolor": "#EBF0F8",
            "linecolor": "#EBF0F8",
            "ticks": ""
           }
          },
          "scene": {
           "xaxis": {
            "backgroundcolor": "white",
            "gridcolor": "#DFE8F3",
            "gridwidth": 2,
            "linecolor": "#EBF0F8",
            "showbackground": true,
            "ticks": "",
            "zerolinecolor": "#EBF0F8"
           },
           "yaxis": {
            "backgroundcolor": "white",
            "gridcolor": "#DFE8F3",
            "gridwidth": 2,
            "linecolor": "#EBF0F8",
            "showbackground": true,
            "ticks": "",
            "zerolinecolor": "#EBF0F8"
           },
           "zaxis": {
            "backgroundcolor": "white",
            "gridcolor": "#DFE8F3",
            "gridwidth": 2,
            "linecolor": "#EBF0F8",
            "showbackground": true,
            "ticks": "",
            "zerolinecolor": "#EBF0F8"
           }
          },
          "shapedefaults": {
           "line": {
            "color": "#2a3f5f"
           }
          },
          "ternary": {
           "aaxis": {
            "gridcolor": "#DFE8F3",
            "linecolor": "#A2B1C6",
            "ticks": ""
           },
           "baxis": {
            "gridcolor": "#DFE8F3",
            "linecolor": "#A2B1C6",
            "ticks": ""
           },
           "bgcolor": "white",
           "caxis": {
            "gridcolor": "#DFE8F3",
            "linecolor": "#A2B1C6",
            "ticks": ""
           }
          },
          "title": {
           "x": 0.05
          },
          "xaxis": {
           "automargin": true,
           "gridcolor": "#EBF0F8",
           "linecolor": "#EBF0F8",
           "ticks": "",
           "title": {
            "standoff": 15
           },
           "zerolinecolor": "#EBF0F8",
           "zerolinewidth": 2
          },
          "yaxis": {
           "automargin": true,
           "gridcolor": "#EBF0F8",
           "linecolor": "#EBF0F8",
           "ticks": "",
           "title": {
            "standoff": 15
           },
           "zerolinecolor": "#EBF0F8",
           "zerolinewidth": 2
          }
         }
        },
        "title": {
         "text": "H2 production in ON by pathway and energy model",
         "x": 0.5,
         "xanchor": "center",
         "y": 0.97,
         "yanchor": "top"
        },
        "width": 1150,
        "xaxis": {
         "anchor": "y",
         "domain": [
          0,
          0.1257142857142857
         ],
         "title": {
          "text": ""
         }
        },
        "xaxis2": {
         "anchor": "y2",
         "domain": [
          0.14571428571428569,
          0.27142857142857135
         ],
         "matches": "x",
         "title": {
          "text": ""
         }
        },
        "xaxis3": {
         "anchor": "y3",
         "domain": [
          0.29142857142857137,
          0.41714285714285704
         ],
         "matches": "x",
         "title": {
          "text": ""
         }
        },
        "xaxis4": {
         "anchor": "y4",
         "domain": [
          0.4371428571428571,
          0.5628571428571428
         ],
         "matches": "x",
         "title": {
          "text": ""
         }
        },
        "xaxis5": {
         "anchor": "y5",
         "domain": [
          0.5828571428571427,
          0.7085714285714284
         ],
         "matches": "x",
         "title": {
          "text": ""
         }
        },
        "xaxis6": {
         "anchor": "y6",
         "domain": [
          0.7285714285714284,
          0.8542857142857141
         ],
         "matches": "x",
         "title": {
          "text": ""
         }
        },
        "xaxis7": {
         "anchor": "y7",
         "domain": [
          0.8742857142857142,
          0.9999999999999999
         ],
         "matches": "x",
         "title": {
          "text": ""
         }
        },
        "yaxis": {
         "anchor": "x",
         "domain": [
          0,
          1
         ],
         "title": {
          "standoff": 0,
          "text": "log(Production [PJ])"
         },
         "type": "log"
        },
        "yaxis2": {
         "anchor": "x2",
         "domain": [
          0,
          1
         ],
         "matches": "y",
         "showticklabels": false,
         "type": "log"
        },
        "yaxis3": {
         "anchor": "x3",
         "domain": [
          0,
          1
         ],
         "matches": "y",
         "showticklabels": false,
         "type": "log"
        },
        "yaxis4": {
         "anchor": "x4",
         "domain": [
          0,
          1
         ],
         "matches": "y",
         "showticklabels": false,
         "type": "log"
        },
        "yaxis5": {
         "anchor": "x5",
         "domain": [
          0,
          1
         ],
         "matches": "y",
         "showticklabels": false,
         "type": "log"
        },
        "yaxis6": {
         "anchor": "x6",
         "domain": [
          0,
          1
         ],
         "matches": "y",
         "showticklabels": false,
         "type": "log"
        },
        "yaxis7": {
         "anchor": "x7",
         "domain": [
          0,
          1
         ],
         "matches": "y",
         "showticklabels": false,
         "type": "log"
        }
       }
      }
     },
     "metadata": {},
     "output_type": "display_data"
    }
   ],
   "source": [
    "ref_fig = ref_trnact[(ref_trnact['Technology'] == 'I_H2_ELEC') | (ref_trnact['Technology'] == 'I_H2_SMR')][['Period', 'Technology', 'Demand (PJ)']].copy()\n",
    "ref_fig['Technology'] = ref_fig['Technology'].replace({'I_H2_ELEC': 'Electrolysis', 'I_H2_SMR': 'SMR w/o CCS'})\n",
    "ref_fig = ref_fig.rename(columns={'Technology': 'Pathway', 'Demand (PJ)': 'Production (PJ)'})\n",
    "\n",
    "# HHV of H2 from Table A - https://archives.bape.gouv.qc.ca/sections/mandats/becancour/documents/DC4.pdf\n",
    "bau23_h2['Production (PJ)'] = bau23_h2['Production (Mt)'] * 141.9 # PJ/Mt = MJ/kg\n",
    "bau23_fig = bau23_h2[['Period', 'Pathway', 'Production (PJ)']].copy()\n",
    "\n",
    "gtech23_fig = gtech23_ref_h2.fillna(0.)\n",
    "gtech23_fig['Period'] = gtech23_fig['Period'].astype(str)\n",
    "\n",
    "bau23_fig['Source'] = 'CEF2023'\n",
    "ref_fig['Source'] = 'CANOE'\n",
    "gtech23_fig['Source'] = 'gTech-IESD'\n",
    "\n",
    "fig_df = pd.concat([ref_fig, bau23_fig, gtech23_fig])\n",
    "\n",
    "fig = px.bar(fig_df, \n",
    "             x='Source', \n",
    "             y='Production (PJ)', \n",
    "             color='Pathway', \n",
    "             barmode='stack', \n",
    "             facet_col='Period',\n",
    "             facet_col_spacing=2E-2,\n",
    "             template='plotly_white',\n",
    "             color_discrete_sequence=px.colors.qualitative.G10[:7] + px.colors.qualitative.G10[8:],\n",
    "             text_auto='.3f',\n",
    "            #  text='Demand (PJ)_sum'\n",
    "             width=1150, height=650,\n",
    "             )\n",
    "\n",
    "fig.update_layout(title=dict(\n",
    "        text='H2 production in ON by pathway and energy model',\n",
    "        x=0.5, \n",
    "        y=0.97,\n",
    "        xanchor='center',\n",
    "        yanchor='top'\n",
    "    ),\n",
    "    xaxis=dict(title='Period'),\n",
    "    yaxis=dict(title='log(Production [PJ])',\n",
    "            #    dtick=2,\n",
    "               type='log'\n",
    "               ),\n",
    "    yaxis_title_standoff=0,\n",
    "    legend_title_text='',\n",
    "    bargap=0.1,\n",
    "    legend=dict(\n",
    "        orientation='h',  \n",
    "        yanchor='top',\n",
    "        y=1.04,  \n",
    "        xanchor='center',\n",
    "        x=0.5),\n",
    "    font=dict(\n",
    "        # family=\"Open Sans\",\n",
    "        size=14)\n",
    "    )\n",
    "\n",
    "for axis in fig.layout:\n",
    "    if axis.startswith('yaxis'):\n",
    "        fig.layout[axis].type = 'log'\n",
    "\n",
    "for annotation in fig.layout.annotations:\n",
    "    annotation.text = annotation.text.split('=')[1]\n",
    "    annotation.y = -0.1  \n",
    "    annotation.yanchor = 'top' \n",
    "\n",
    "for axis in fig.layout:\n",
    "    if axis.startswith('xaxis'):\n",
    "        fig.layout[axis].title.text = ''\n",
    "\n",
    "fig.for_each_trace(lambda trace: trace.update(textfont=dict(size=9)))\n",
    "\n",
    "fig.show()"
   ]
  }
 ],
 "metadata": {
  "kernelspec": {
   "display_name": "new_base",
   "language": "python",
   "name": "python3"
  },
  "language_info": {
   "codemirror_mode": {
    "name": "ipython",
    "version": 3
   },
   "file_extension": ".py",
   "mimetype": "text/x-python",
   "name": "python",
   "nbconvert_exporter": "python",
   "pygments_lexer": "ipython3",
   "version": "3.12.2"
  }
 },
 "nbformat": 4,
 "nbformat_minor": 2
}
