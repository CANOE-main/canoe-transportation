{
 "cells": [
  {
   "cell_type": "code",
   "execution_count": 1,
   "metadata": {},
   "outputs": [],
   "source": [
    "import pandas as pd\n",
    "import numpy as np\n",
    "import plotly.express as px\n",
    "import plotly.graph_objects as go\n",
    "from plotly.subplots import make_subplots\n",
    "import seaborn as sns\n",
    "import matplotlib.pyplot as plt\n",
    "import sqlite3"
   ]
  },
  {
   "cell_type": "code",
   "execution_count": 2,
   "metadata": {},
   "outputs": [],
   "source": [
    "db_path = 'C:/Users/rashi/ESM_databases/temoa/data_files/'\n",
    "db_name = 'canoe_on_12d_vanilla3' + '.sqlite'"
   ]
  },
  {
   "cell_type": "code",
   "execution_count": 3,
   "metadata": {},
   "outputs": [],
   "source": [
    "db_file = db_path + db_name\n",
    "\n",
    "conn = sqlite3.connect(db_file)\n",
    "query_net_capacity = \"SELECT * FROM OutputNetCapacity WHERE sector = 'Transport'\"\n",
    "query_built_capacity = \"SELECT * FROM OutputBuiltCapacity WHERE sector = 'Transport'\"\n",
    "query_existing_capacity = \"SELECT * FROM ExistingCapacity WHERE tech like 'T_%'\"\n",
    "\n",
    "net_cap = pd.read_sql_query(query_net_capacity, conn).drop(columns=['scenario', 'region', 'sector'])\n",
    "new_cap = pd.read_sql_query(query_built_capacity, conn).drop(columns=['scenario', 'region', 'sector'])\n",
    "ex_cap =  pd.read_sql_query(query_existing_capacity, conn)[['tech', 'vintage', 'capacity', 'units']]\n",
    "\n",
    "conn.close()"
   ]
  },
  {
   "cell_type": "code",
   "execution_count": 4,
   "metadata": {},
   "outputs": [],
   "source": [
    "class_mapping = {\n",
    "    'T_HDV_AJ': 'Air jet',\n",
    "    'T_HDV_B': 'Bus',\n",
    "    'T_HDV_R': 'Rail',\n",
    "    'T_HDV_T': 'HD Truck',\n",
    "    'T_HDV_W': 'Marine vessel',\n",
    "    'T_MDV_T': 'MD Truck',\n",
    "    'T_LDV_C_': 'LD Car',\n",
    "    'T_LDV_LT': 'LD Truck',\n",
    "    'T_LDV_M': 'Motorcycle',\n",
    "    'T_IMP_': 'Fuel use',\n",
    "    'H2_distribution': 'Fuel use'\n",
    "}\n",
    "\n",
    "def map_tech_to_mode(tech):\n",
    "    for prefix, class_name in class_mapping.items():\n",
    "        if tech.startswith(prefix):\n",
    "            return class_name\n",
    "    return 'Other'\n",
    "\n",
    "carrier_mapping = {\n",
    "        'BEV': 'BEV',\n",
    "        'GSL': 'Gasoline',\n",
    "        'DSL': 'Diesel',\n",
    "        'CNG': 'CNG',\n",
    "        'LNG': 'LNG',\n",
    "        'JTF': 'Jet Fuel',\n",
    "        'SPK': 'Synthetic Jet Fuel', #      Might change for SAF\n",
    "        'HFO': 'Heavy Fuel Oil',\n",
    "        'MDO': 'Marine Diesel Oil',\n",
    "        'H2': 'H2',\n",
    "        'ELC': 'Electricity'\n",
    "    }\n",
    "\n",
    "def map_tech_to_fuel(tech):\n",
    "    # Check hybrids first\n",
    "    if 'PHEV35' in tech:\n",
    "        return 'PHEV35'\n",
    "    if 'PHEV50' in tech:\n",
    "        return 'PHEV50'\n",
    "    if 'PHEV' in tech:\n",
    "        return 'PHEV'\n",
    "    if 'BEV150' in tech:\n",
    "        return 'BEV150'\n",
    "    if 'BEV200' in tech:\n",
    "        return 'BEV200'\n",
    "    if 'BEV300' in tech:\n",
    "        return 'BEV300'\n",
    "    if 'BEV400' in tech:\n",
    "        return 'BEV400'\n",
    "    if 'FC' in tech:\n",
    "        return 'FCEV'\n",
    "    if 'HEV' in tech:\n",
    "        return 'HEV'\n",
    "    if 'RDSL' in tech:\n",
    "            return 'Biodiesel' #            Might differentiate\n",
    "    if 'ETH' in tech:\n",
    "        return 'Ethanol' #                  Might differentiate\n",
    "    for prefix, carrier in carrier_mapping.items():\n",
    "        if prefix in tech:\n",
    "            return carrier \n",
    "    return 'Other'"
   ]
  },
  {
   "cell_type": "code",
   "execution_count": 5,
   "metadata": {},
   "outputs": [],
   "source": [
    "net_cap['mode'] = net_cap['tech'].apply(map_tech_to_mode)\n",
    "new_cap['mode'] = new_cap['tech'].apply(map_tech_to_mode)\n",
    "ex_cap['mode'] = ex_cap['tech'].apply(map_tech_to_mode)\n",
    "\n",
    "net_cap['fuel'] = net_cap['tech'].apply(map_tech_to_fuel)\n",
    "new_cap['fuel'] = new_cap['tech'].apply(map_tech_to_fuel)\n",
    "ex_cap['fuel'] = ex_cap['tech'].apply(map_tech_to_fuel)"
   ]
  },
  {
   "cell_type": "code",
   "execution_count": 6,
   "metadata": {},
   "outputs": [
    {
     "data": {
      "text/html": [
       "<div>\n",
       "<style scoped>\n",
       "    .dataframe tbody tr th:only-of-type {\n",
       "        vertical-align: middle;\n",
       "    }\n",
       "\n",
       "    .dataframe tbody tr th {\n",
       "        vertical-align: top;\n",
       "    }\n",
       "\n",
       "    .dataframe thead th {\n",
       "        text-align: right;\n",
       "    }\n",
       "</style>\n",
       "<table border=\"1\" class=\"dataframe\">\n",
       "  <thead>\n",
       "    <tr style=\"text-align: right;\">\n",
       "      <th></th>\n",
       "      <th>mode</th>\n",
       "      <th>fuel</th>\n",
       "      <th>vintage</th>\n",
       "      <th>capacity</th>\n",
       "    </tr>\n",
       "  </thead>\n",
       "  <tbody>\n",
       "    <tr>\n",
       "      <th>101</th>\n",
       "      <td>LD Car</td>\n",
       "      <td>Gasoline</td>\n",
       "      <td>2021</td>\n",
       "      <td>3601.864504</td>\n",
       "    </tr>\n",
       "    <tr>\n",
       "      <th>102</th>\n",
       "      <td>LD Car</td>\n",
       "      <td>Gasoline</td>\n",
       "      <td>2025</td>\n",
       "      <td>3015.336018</td>\n",
       "    </tr>\n",
       "    <tr>\n",
       "      <th>103</th>\n",
       "      <td>LD Car</td>\n",
       "      <td>Gasoline</td>\n",
       "      <td>2030</td>\n",
       "      <td>1658.204303</td>\n",
       "    </tr>\n",
       "    <tr>\n",
       "      <th>104</th>\n",
       "      <td>LD Car</td>\n",
       "      <td>Gasoline</td>\n",
       "      <td>2035</td>\n",
       "      <td>0.000987</td>\n",
       "    </tr>\n",
       "    <tr>\n",
       "      <th>105</th>\n",
       "      <td>LD Car</td>\n",
       "      <td>Gasoline</td>\n",
       "      <td>2040</td>\n",
       "      <td>0.000956</td>\n",
       "    </tr>\n",
       "    <tr>\n",
       "      <th>106</th>\n",
       "      <td>LD Car</td>\n",
       "      <td>Gasoline</td>\n",
       "      <td>2045</td>\n",
       "      <td>0.000976</td>\n",
       "    </tr>\n",
       "    <tr>\n",
       "      <th>107</th>\n",
       "      <td>LD Car</td>\n",
       "      <td>Gasoline</td>\n",
       "      <td>2050</td>\n",
       "      <td>0.001023</td>\n",
       "    </tr>\n",
       "  </tbody>\n",
       "</table>\n",
       "</div>"
      ],
      "text/plain": [
       "       mode      fuel  vintage     capacity\n",
       "101  LD Car  Gasoline     2021  3601.864504\n",
       "102  LD Car  Gasoline     2025  3015.336018\n",
       "103  LD Car  Gasoline     2030  1658.204303\n",
       "104  LD Car  Gasoline     2035     0.000987\n",
       "105  LD Car  Gasoline     2040     0.000956\n",
       "106  LD Car  Gasoline     2045     0.000976\n",
       "107  LD Car  Gasoline     2050     0.001023"
      ]
     },
     "execution_count": 6,
     "metadata": {},
     "output_type": "execute_result"
    }
   ],
   "source": [
    "net_cap_group = net_cap.groupby(['mode', 'fuel', 'period'], as_index=False).sum('capacity').drop(columns='vintage').rename(columns={'period': 'vintage'})\n",
    "net_cap_group[(net_cap_group['mode'] == 'LD Car') & (net_cap_group['fuel'] == 'Gasoline')].sort_values(by=['fuel', 'vintage'])"
   ]
  },
  {
   "cell_type": "code",
   "execution_count": 7,
   "metadata": {},
   "outputs": [],
   "source": [
    "ex_cap_group = ex_cap.copy()\n",
    "ex_cap_group['vintage'] = 2021\n",
    "ex_cap_group = ex_cap_group.groupby(['mode', 'fuel', 'vintage', 'units'], as_index=False).sum('capacity')"
   ]
  },
  {
   "cell_type": "code",
   "execution_count": 8,
   "metadata": {},
   "outputs": [
    {
     "data": {
      "text/html": [
       "<div>\n",
       "<style scoped>\n",
       "    .dataframe tbody tr th:only-of-type {\n",
       "        vertical-align: middle;\n",
       "    }\n",
       "\n",
       "    .dataframe tbody tr th {\n",
       "        vertical-align: top;\n",
       "    }\n",
       "\n",
       "    .dataframe thead th {\n",
       "        text-align: right;\n",
       "    }\n",
       "</style>\n",
       "<table border=\"1\" class=\"dataframe\">\n",
       "  <thead>\n",
       "    <tr style=\"text-align: right;\">\n",
       "      <th></th>\n",
       "      <th>mode</th>\n",
       "      <th>fuel</th>\n",
       "      <th>vintage</th>\n",
       "      <th>capacity</th>\n",
       "    </tr>\n",
       "  </thead>\n",
       "  <tbody>\n",
       "    <tr>\n",
       "      <th>88</th>\n",
       "      <td>LD Car</td>\n",
       "      <td>Gasoline</td>\n",
       "      <td>2021</td>\n",
       "      <td>0.000414</td>\n",
       "    </tr>\n",
       "    <tr>\n",
       "      <th>89</th>\n",
       "      <td>LD Car</td>\n",
       "      <td>Gasoline</td>\n",
       "      <td>2025</td>\n",
       "      <td>0.000365</td>\n",
       "    </tr>\n",
       "    <tr>\n",
       "      <th>90</th>\n",
       "      <td>LD Car</td>\n",
       "      <td>Gasoline</td>\n",
       "      <td>2030</td>\n",
       "      <td>0.000325</td>\n",
       "    </tr>\n",
       "    <tr>\n",
       "      <th>91</th>\n",
       "      <td>LD Car</td>\n",
       "      <td>Gasoline</td>\n",
       "      <td>2035</td>\n",
       "      <td>0.000297</td>\n",
       "    </tr>\n",
       "    <tr>\n",
       "      <th>92</th>\n",
       "      <td>LD Car</td>\n",
       "      <td>Gasoline</td>\n",
       "      <td>2040</td>\n",
       "      <td>0.000334</td>\n",
       "    </tr>\n",
       "    <tr>\n",
       "      <th>93</th>\n",
       "      <td>LD Car</td>\n",
       "      <td>Gasoline</td>\n",
       "      <td>2045</td>\n",
       "      <td>0.000346</td>\n",
       "    </tr>\n",
       "    <tr>\n",
       "      <th>94</th>\n",
       "      <td>LD Car</td>\n",
       "      <td>Gasoline</td>\n",
       "      <td>2050</td>\n",
       "      <td>0.000344</td>\n",
       "    </tr>\n",
       "  </tbody>\n",
       "</table>\n",
       "</div>"
      ],
      "text/plain": [
       "      mode      fuel  vintage  capacity\n",
       "88  LD Car  Gasoline     2021  0.000414\n",
       "89  LD Car  Gasoline     2025  0.000365\n",
       "90  LD Car  Gasoline     2030  0.000325\n",
       "91  LD Car  Gasoline     2035  0.000297\n",
       "92  LD Car  Gasoline     2040  0.000334\n",
       "93  LD Car  Gasoline     2045  0.000346\n",
       "94  LD Car  Gasoline     2050  0.000344"
      ]
     },
     "execution_count": 8,
     "metadata": {},
     "output_type": "execute_result"
    }
   ],
   "source": [
    "new_cap_group = new_cap.groupby(['mode', 'fuel', 'vintage'], as_index=False).sum('capacity')\n",
    "new_cap_group[(new_cap_group['mode'] == 'LD Car') & (new_cap_group['fuel'] == 'Gasoline')].sort_values(by=['vintage'])"
   ]
  },
  {
   "cell_type": "code",
   "execution_count": 9,
   "metadata": {},
   "outputs": [],
   "source": [
    "net_cap_group = net_cap_group[['mode', 'fuel', 'vintage', 'capacity']].rename(columns={'capacity': 'net capacity'})\n",
    "new_cap_group = new_cap_group[['mode', 'fuel', 'vintage', 'capacity']].rename(columns={'capacity': 'new capacity'})\n",
    "ex_cap_group = ex_cap_group[['mode', 'fuel', 'vintage', 'capacity']].rename(columns={'capacity': 'ex capacity'})\n",
    "\n",
    "merged_cap = net_cap_group.merge(new_cap_group, on=['mode', 'fuel', 'vintage'], how='left').merge(ex_cap_group, on=['mode', 'fuel', 'vintage'], how='left').fillna(0.)"
   ]
  },
  {
   "cell_type": "code",
   "execution_count": 10,
   "metadata": {},
   "outputs": [
    {
     "data": {
      "text/html": [
       "<div>\n",
       "<style scoped>\n",
       "    .dataframe tbody tr th:only-of-type {\n",
       "        vertical-align: middle;\n",
       "    }\n",
       "\n",
       "    .dataframe tbody tr th {\n",
       "        vertical-align: top;\n",
       "    }\n",
       "\n",
       "    .dataframe thead th {\n",
       "        text-align: right;\n",
       "    }\n",
       "</style>\n",
       "<table border=\"1\" class=\"dataframe\">\n",
       "  <thead>\n",
       "    <tr style=\"text-align: right;\">\n",
       "      <th></th>\n",
       "      <th>mode</th>\n",
       "      <th>fuel</th>\n",
       "      <th>vintage</th>\n",
       "      <th>net capacity</th>\n",
       "      <th>new capacity</th>\n",
       "      <th>ex capacity</th>\n",
       "    </tr>\n",
       "  </thead>\n",
       "  <tbody>\n",
       "    <tr>\n",
       "      <th>102</th>\n",
       "      <td>LD Car</td>\n",
       "      <td>Gasoline</td>\n",
       "      <td>2021</td>\n",
       "      <td>3601.864504</td>\n",
       "      <td>0.000414</td>\n",
       "      <td>3601.86409</td>\n",
       "    </tr>\n",
       "    <tr>\n",
       "      <th>103</th>\n",
       "      <td>LD Car</td>\n",
       "      <td>Gasoline</td>\n",
       "      <td>2025</td>\n",
       "      <td>3015.336018</td>\n",
       "      <td>0.000365</td>\n",
       "      <td>0.00000</td>\n",
       "    </tr>\n",
       "    <tr>\n",
       "      <th>104</th>\n",
       "      <td>LD Car</td>\n",
       "      <td>Gasoline</td>\n",
       "      <td>2030</td>\n",
       "      <td>1658.204303</td>\n",
       "      <td>0.000325</td>\n",
       "      <td>0.00000</td>\n",
       "    </tr>\n",
       "    <tr>\n",
       "      <th>105</th>\n",
       "      <td>LD Car</td>\n",
       "      <td>Gasoline</td>\n",
       "      <td>2035</td>\n",
       "      <td>0.000987</td>\n",
       "      <td>0.000297</td>\n",
       "      <td>0.00000</td>\n",
       "    </tr>\n",
       "    <tr>\n",
       "      <th>106</th>\n",
       "      <td>LD Car</td>\n",
       "      <td>Gasoline</td>\n",
       "      <td>2040</td>\n",
       "      <td>0.000956</td>\n",
       "      <td>0.000334</td>\n",
       "      <td>0.00000</td>\n",
       "    </tr>\n",
       "    <tr>\n",
       "      <th>107</th>\n",
       "      <td>LD Car</td>\n",
       "      <td>Gasoline</td>\n",
       "      <td>2045</td>\n",
       "      <td>0.000976</td>\n",
       "      <td>0.000346</td>\n",
       "      <td>0.00000</td>\n",
       "    </tr>\n",
       "    <tr>\n",
       "      <th>108</th>\n",
       "      <td>LD Car</td>\n",
       "      <td>Gasoline</td>\n",
       "      <td>2050</td>\n",
       "      <td>0.001023</td>\n",
       "      <td>0.000344</td>\n",
       "      <td>0.00000</td>\n",
       "    </tr>\n",
       "  </tbody>\n",
       "</table>\n",
       "</div>"
      ],
      "text/plain": [
       "       mode      fuel  vintage  net capacity  new capacity  ex capacity\n",
       "102  LD Car  Gasoline     2021   3601.864504      0.000414   3601.86409\n",
       "103  LD Car  Gasoline     2025   3015.336018      0.000365      0.00000\n",
       "104  LD Car  Gasoline     2030   1658.204303      0.000325      0.00000\n",
       "105  LD Car  Gasoline     2035      0.000987      0.000297      0.00000\n",
       "106  LD Car  Gasoline     2040      0.000956      0.000334      0.00000\n",
       "107  LD Car  Gasoline     2045      0.000976      0.000346      0.00000\n",
       "108  LD Car  Gasoline     2050      0.001023      0.000344      0.00000"
      ]
     },
     "execution_count": 10,
     "metadata": {},
     "output_type": "execute_result"
    }
   ],
   "source": [
    "merged_cap[(merged_cap['mode'] == 'LD Car') & (merged_cap['fuel'] == 'Gasoline')].sort_values(by=['fuel', 'vintage'])"
   ]
  },
  {
   "cell_type": "code",
   "execution_count": 11,
   "metadata": {},
   "outputs": [],
   "source": [
    "merged_cap = merged_cap.sort_values(by=['mode', 'fuel', 'vintage'])\n",
    "merged_cap['retired cap'] = 0.\n",
    "\n",
    "for _, group in merged_cap.groupby(['mode', 'fuel']):\n",
    "    for i in range(1, len(group)):\n",
    "        current_idx = group.index[i]\n",
    "        previous_idx = group.index[i-1]\n",
    "\n",
    "        # Calculate retired capacity as existing capacity + new capacity - net capacity of previous vintage\n",
    "        merged_cap.loc[current_idx, 'retired cap'] = (\n",
    "            merged_cap.loc[previous_idx, 'net capacity'] + \n",
    "            merged_cap.loc[current_idx, 'new capacity'] - \n",
    "            merged_cap.loc[current_idx, 'net capacity']\n",
    "        )\n",
    "\n",
    "for _, group in merged_cap.groupby(['mode', 'fuel']):\n",
    "    for i in range(1, len(group)):\n",
    "        current_idx = group.index[i]\n",
    "        previous_idx = group.index[i-1]\n",
    "\n",
    "        # Fill the \"ex capacity\" for years after 2021 using the \"net capacity\" from the previous year\n",
    "        merged_cap.loc[current_idx, 'ex capacity'] = merged_cap.loc[previous_idx, 'net capacity']\n",
    "\n",
    "merged_cap['retired cap'] = -merged_cap['retired cap']"
   ]
  },
  {
   "cell_type": "code",
   "execution_count": 12,
   "metadata": {},
   "outputs": [
    {
     "data": {
      "text/html": [
       "<div>\n",
       "<style scoped>\n",
       "    .dataframe tbody tr th:only-of-type {\n",
       "        vertical-align: middle;\n",
       "    }\n",
       "\n",
       "    .dataframe tbody tr th {\n",
       "        vertical-align: top;\n",
       "    }\n",
       "\n",
       "    .dataframe thead th {\n",
       "        text-align: right;\n",
       "    }\n",
       "</style>\n",
       "<table border=\"1\" class=\"dataframe\">\n",
       "  <thead>\n",
       "    <tr style=\"text-align: right;\">\n",
       "      <th></th>\n",
       "      <th>mode</th>\n",
       "      <th>fuel</th>\n",
       "      <th>vintage</th>\n",
       "      <th>net capacity</th>\n",
       "      <th>new capacity</th>\n",
       "      <th>ex capacity</th>\n",
       "      <th>retired cap</th>\n",
       "    </tr>\n",
       "  </thead>\n",
       "  <tbody>\n",
       "    <tr>\n",
       "      <th>53</th>\n",
       "      <td>LD Car</td>\n",
       "      <td>BEV150</td>\n",
       "      <td>2021</td>\n",
       "      <td>496.766162</td>\n",
       "      <td>455.949252</td>\n",
       "      <td>40.816910</td>\n",
       "      <td>-0.000000</td>\n",
       "    </tr>\n",
       "    <tr>\n",
       "      <th>54</th>\n",
       "      <td>LD Car</td>\n",
       "      <td>BEV150</td>\n",
       "      <td>2025</td>\n",
       "      <td>2481.119297</td>\n",
       "      <td>1984.353135</td>\n",
       "      <td>496.766162</td>\n",
       "      <td>-0.000000</td>\n",
       "    </tr>\n",
       "    <tr>\n",
       "      <th>55</th>\n",
       "      <td>LD Car</td>\n",
       "      <td>BEV150</td>\n",
       "      <td>2030</td>\n",
       "      <td>3969.402850</td>\n",
       "      <td>1491.919673</td>\n",
       "      <td>2481.119297</td>\n",
       "      <td>-3.636120</td>\n",
       "    </tr>\n",
       "    <tr>\n",
       "      <th>56</th>\n",
       "      <td>LD Car</td>\n",
       "      <td>BEV150</td>\n",
       "      <td>2035</td>\n",
       "      <td>6157.373846</td>\n",
       "      <td>2681.101039</td>\n",
       "      <td>3969.402850</td>\n",
       "      <td>-493.130042</td>\n",
       "    </tr>\n",
       "    <tr>\n",
       "      <th>57</th>\n",
       "      <td>LD Car</td>\n",
       "      <td>BEV150</td>\n",
       "      <td>2040</td>\n",
       "      <td>6473.889380</td>\n",
       "      <td>2300.868669</td>\n",
       "      <td>6157.373846</td>\n",
       "      <td>-1984.353135</td>\n",
       "    </tr>\n",
       "    <tr>\n",
       "      <th>58</th>\n",
       "      <td>LD Car</td>\n",
       "      <td>BEV150</td>\n",
       "      <td>2045</td>\n",
       "      <td>7120.629901</td>\n",
       "      <td>2138.660193</td>\n",
       "      <td>6473.889380</td>\n",
       "      <td>-1491.919673</td>\n",
       "    </tr>\n",
       "    <tr>\n",
       "      <th>59</th>\n",
       "      <td>LD Car</td>\n",
       "      <td>BEV150</td>\n",
       "      <td>2050</td>\n",
       "      <td>7510.732132</td>\n",
       "      <td>3071.203270</td>\n",
       "      <td>7120.629901</td>\n",
       "      <td>-2681.101039</td>\n",
       "    </tr>\n",
       "  </tbody>\n",
       "</table>\n",
       "</div>"
      ],
      "text/plain": [
       "      mode    fuel  vintage  net capacity  new capacity  ex capacity  \\\n",
       "53  LD Car  BEV150     2021    496.766162    455.949252    40.816910   \n",
       "54  LD Car  BEV150     2025   2481.119297   1984.353135   496.766162   \n",
       "55  LD Car  BEV150     2030   3969.402850   1491.919673  2481.119297   \n",
       "56  LD Car  BEV150     2035   6157.373846   2681.101039  3969.402850   \n",
       "57  LD Car  BEV150     2040   6473.889380   2300.868669  6157.373846   \n",
       "58  LD Car  BEV150     2045   7120.629901   2138.660193  6473.889380   \n",
       "59  LD Car  BEV150     2050   7510.732132   3071.203270  7120.629901   \n",
       "\n",
       "    retired cap  \n",
       "53    -0.000000  \n",
       "54    -0.000000  \n",
       "55    -3.636120  \n",
       "56  -493.130042  \n",
       "57 -1984.353135  \n",
       "58 -1491.919673  \n",
       "59 -2681.101039  "
      ]
     },
     "execution_count": 12,
     "metadata": {},
     "output_type": "execute_result"
    }
   ],
   "source": [
    "merged_cap[(merged_cap['mode'] == 'LD Car') & (merged_cap['fuel'] == 'BEV150')]"
   ]
  },
  {
   "cell_type": "code",
   "execution_count": 13,
   "metadata": {},
   "outputs": [
    {
     "data": {
      "text/html": [
       "<div>\n",
       "<style scoped>\n",
       "    .dataframe tbody tr th:only-of-type {\n",
       "        vertical-align: middle;\n",
       "    }\n",
       "\n",
       "    .dataframe tbody tr th {\n",
       "        vertical-align: top;\n",
       "    }\n",
       "\n",
       "    .dataframe thead th {\n",
       "        text-align: right;\n",
       "    }\n",
       "</style>\n",
       "<table border=\"1\" class=\"dataframe\">\n",
       "  <thead>\n",
       "    <tr style=\"text-align: right;\">\n",
       "      <th></th>\n",
       "      <th>mode</th>\n",
       "      <th>fuel</th>\n",
       "      <th>vintage</th>\n",
       "      <th>net capacity</th>\n",
       "      <th>new capacity</th>\n",
       "      <th>ex capacity</th>\n",
       "      <th>retired cap</th>\n",
       "    </tr>\n",
       "  </thead>\n",
       "  <tbody>\n",
       "    <tr>\n",
       "      <th>102</th>\n",
       "      <td>LD Car</td>\n",
       "      <td>Gasoline</td>\n",
       "      <td>2021</td>\n",
       "      <td>3601.864504</td>\n",
       "      <td>0.000414</td>\n",
       "      <td>3601.864090</td>\n",
       "      <td>-0.000000</td>\n",
       "    </tr>\n",
       "    <tr>\n",
       "      <th>103</th>\n",
       "      <td>LD Car</td>\n",
       "      <td>Gasoline</td>\n",
       "      <td>2025</td>\n",
       "      <td>3015.336018</td>\n",
       "      <td>0.000365</td>\n",
       "      <td>3601.864504</td>\n",
       "      <td>-586.528850</td>\n",
       "    </tr>\n",
       "    <tr>\n",
       "      <th>104</th>\n",
       "      <td>LD Car</td>\n",
       "      <td>Gasoline</td>\n",
       "      <td>2030</td>\n",
       "      <td>1658.204303</td>\n",
       "      <td>0.000325</td>\n",
       "      <td>3015.336018</td>\n",
       "      <td>-1357.132040</td>\n",
       "    </tr>\n",
       "    <tr>\n",
       "      <th>105</th>\n",
       "      <td>LD Car</td>\n",
       "      <td>Gasoline</td>\n",
       "      <td>2035</td>\n",
       "      <td>0.000987</td>\n",
       "      <td>0.000297</td>\n",
       "      <td>1658.204303</td>\n",
       "      <td>-1658.203614</td>\n",
       "    </tr>\n",
       "    <tr>\n",
       "      <th>106</th>\n",
       "      <td>LD Car</td>\n",
       "      <td>Gasoline</td>\n",
       "      <td>2040</td>\n",
       "      <td>0.000956</td>\n",
       "      <td>0.000334</td>\n",
       "      <td>0.000987</td>\n",
       "      <td>-0.000365</td>\n",
       "    </tr>\n",
       "    <tr>\n",
       "      <th>107</th>\n",
       "      <td>LD Car</td>\n",
       "      <td>Gasoline</td>\n",
       "      <td>2045</td>\n",
       "      <td>0.000976</td>\n",
       "      <td>0.000346</td>\n",
       "      <td>0.000956</td>\n",
       "      <td>-0.000325</td>\n",
       "    </tr>\n",
       "    <tr>\n",
       "      <th>108</th>\n",
       "      <td>LD Car</td>\n",
       "      <td>Gasoline</td>\n",
       "      <td>2050</td>\n",
       "      <td>0.001023</td>\n",
       "      <td>0.000344</td>\n",
       "      <td>0.000976</td>\n",
       "      <td>-0.000297</td>\n",
       "    </tr>\n",
       "  </tbody>\n",
       "</table>\n",
       "</div>"
      ],
      "text/plain": [
       "       mode      fuel  vintage  net capacity  new capacity  ex capacity  \\\n",
       "102  LD Car  Gasoline     2021   3601.864504      0.000414  3601.864090   \n",
       "103  LD Car  Gasoline     2025   3015.336018      0.000365  3601.864504   \n",
       "104  LD Car  Gasoline     2030   1658.204303      0.000325  3015.336018   \n",
       "105  LD Car  Gasoline     2035      0.000987      0.000297  1658.204303   \n",
       "106  LD Car  Gasoline     2040      0.000956      0.000334     0.000987   \n",
       "107  LD Car  Gasoline     2045      0.000976      0.000346     0.000956   \n",
       "108  LD Car  Gasoline     2050      0.001023      0.000344     0.000976   \n",
       "\n",
       "     retired cap  \n",
       "102    -0.000000  \n",
       "103  -586.528850  \n",
       "104 -1357.132040  \n",
       "105 -1658.203614  \n",
       "106    -0.000365  \n",
       "107    -0.000325  \n",
       "108    -0.000297  "
      ]
     },
     "execution_count": 13,
     "metadata": {},
     "output_type": "execute_result"
    }
   ],
   "source": [
    "merged_cap[(merged_cap['mode'] == 'LD Car') & (merged_cap['fuel'] == 'Gasoline')]"
   ]
  },
  {
   "cell_type": "code",
   "execution_count": 14,
   "metadata": {},
   "outputs": [
    {
     "data": {
      "text/html": [
       "<div>\n",
       "<style scoped>\n",
       "    .dataframe tbody tr th:only-of-type {\n",
       "        vertical-align: middle;\n",
       "    }\n",
       "\n",
       "    .dataframe tbody tr th {\n",
       "        vertical-align: top;\n",
       "    }\n",
       "\n",
       "    .dataframe thead th {\n",
       "        text-align: right;\n",
       "    }\n",
       "</style>\n",
       "<table border=\"1\" class=\"dataframe\">\n",
       "  <thead>\n",
       "    <tr style=\"text-align: right;\">\n",
       "      <th></th>\n",
       "      <th></th>\n",
       "      <th>net capacity</th>\n",
       "      <th>new capacity</th>\n",
       "      <th>ex capacity</th>\n",
       "      <th>retired cap</th>\n",
       "    </tr>\n",
       "    <tr>\n",
       "      <th>mode</th>\n",
       "      <th>vintage</th>\n",
       "      <th></th>\n",
       "      <th></th>\n",
       "      <th></th>\n",
       "      <th></th>\n",
       "    </tr>\n",
       "  </thead>\n",
       "  <tbody>\n",
       "    <tr>\n",
       "      <th rowspan=\"7\" valign=\"top\">LD Car</th>\n",
       "      <th>2021</th>\n",
       "      <td>4271.480563</td>\n",
       "      <td>455.954883</td>\n",
       "      <td>3815.525680</td>\n",
       "      <td>0.000000</td>\n",
       "    </tr>\n",
       "    <tr>\n",
       "      <th>2025</th>\n",
       "      <td>5644.066769</td>\n",
       "      <td>1984.358126</td>\n",
       "      <td>4271.480563</td>\n",
       "      <td>-611.771920</td>\n",
       "    </tr>\n",
       "    <tr>\n",
       "      <th>2030</th>\n",
       "      <td>5701.785259</td>\n",
       "      <td>1491.925660</td>\n",
       "      <td>5644.066769</td>\n",
       "      <td>-1434.207170</td>\n",
       "    </tr>\n",
       "    <tr>\n",
       "      <th>2035</th>\n",
       "      <td>6157.391406</td>\n",
       "      <td>2681.107619</td>\n",
       "      <td>5701.785259</td>\n",
       "      <td>-2225.501473</td>\n",
       "    </tr>\n",
       "    <tr>\n",
       "      <th>2040</th>\n",
       "      <td>6473.909866</td>\n",
       "      <td>2300.876587</td>\n",
       "      <td>6157.391406</td>\n",
       "      <td>-1984.358126</td>\n",
       "    </tr>\n",
       "    <tr>\n",
       "      <th>2045</th>\n",
       "      <td>7120.651834</td>\n",
       "      <td>2138.667628</td>\n",
       "      <td>6473.909866</td>\n",
       "      <td>-1491.925660</td>\n",
       "    </tr>\n",
       "    <tr>\n",
       "      <th>2050</th>\n",
       "      <td>7510.755818</td>\n",
       "      <td>3071.211603</td>\n",
       "      <td>7120.651834</td>\n",
       "      <td>-2681.107619</td>\n",
       "    </tr>\n",
       "  </tbody>\n",
       "</table>\n",
       "</div>"
      ],
      "text/plain": [
       "                net capacity  new capacity  ex capacity  retired cap\n",
       "mode   vintage                                                      \n",
       "LD Car 2021      4271.480563    455.954883  3815.525680     0.000000\n",
       "       2025      5644.066769   1984.358126  4271.480563  -611.771920\n",
       "       2030      5701.785259   1491.925660  5644.066769 -1434.207170\n",
       "       2035      6157.391406   2681.107619  5701.785259 -2225.501473\n",
       "       2040      6473.909866   2300.876587  6157.391406 -1984.358126\n",
       "       2045      7120.651834   2138.667628  6473.909866 -1491.925660\n",
       "       2050      7510.755818   3071.211603  7120.651834 -2681.107619"
      ]
     },
     "execution_count": 14,
     "metadata": {},
     "output_type": "execute_result"
    }
   ],
   "source": [
    "merged_cap[merged_cap['mode'] == 'LD Car'].groupby(['mode', 'vintage']).sum(['net capacity', 'new capacity', 'ex capacity', 'retired cap'])"
   ]
  },
  {
   "cell_type": "code",
   "execution_count": 15,
   "metadata": {},
   "outputs": [],
   "source": [
    "cap = merged_cap.melt(id_vars=['mode', 'fuel', 'vintage'],\n",
    "                       value_vars=['net capacity', 'ex capacity', 'new capacity', 'retired cap'],\n",
    "                       var_name='cap type', value_name='capacity')\n",
    "\n",
    "cap['capacity'] = cap['capacity'] / 1E3\n",
    "cap = cap[(abs(cap['capacity']) > 1e-3) & (\n",
    "                                            (cap['mode'] == 'MD Truck') |\n",
    "                                            (cap['mode'] == 'HD Truck')\n",
    "                                            ) & (cap['cap type'] != 'ex capacity')].reset_index(drop=True)\n",
    "cap['vintage'] = cap['vintage'].astype('str')\n",
    "\n",
    "# cap.to_csv('car_cap.csv', index=False)\n",
    "# cap.to_clipboard()"
   ]
  },
  {
   "cell_type": "code",
   "execution_count": 16,
   "metadata": {},
   "outputs": [
    {
     "data": {
      "application/vnd.plotly.v1+json": {
       "config": {
        "plotlyServerURL": "https://plot.ly"
       },
       "data": [
        {
         "alignmentgroup": "True",
         "hovertemplate": "fuel=Gasoline<br>cap type=%{x}<br>mode=MD Truck<br>vintage=2021<br>capacity=%{y}<extra></extra>",
         "legendgroup": "Gasoline, net capacity",
         "marker": {
          "color": "rgb(127, 60, 141)",
          "pattern": {
           "shape": ""
          }
         },
         "name": "Gasoline",
         "offsetgroup": "Gasoline, net capacity",
         "orientation": "v",
         "showlegend": true,
         "textfont": {
          "size": 11
         },
         "textposition": "auto",
         "texttemplate": "%{y:.2f}",
         "type": "bar",
         "x": [
          "net capacity"
         ],
         "xaxis": "x",
         "y": [
          0.14077993
         ],
         "yaxis": "y"
        },
        {
         "alignmentgroup": "True",
         "hovertemplate": "fuel=Gasoline<br>cap type=%{x}<br>mode=MD Truck<br>vintage=2025<br>capacity=%{y}<extra></extra>",
         "legendgroup": "Gasoline, net capacity",
         "marker": {
          "color": "rgb(127, 60, 141)",
          "pattern": {
           "shape": ""
          }
         },
         "name": "Gasoline",
         "offsetgroup": "Gasoline, net capacity",
         "orientation": "v",
         "showlegend": false,
         "textfont": {
          "size": 11
         },
         "textposition": "auto",
         "texttemplate": "%{y:.2f}",
         "type": "bar",
         "x": [
          "net capacity"
         ],
         "xaxis": "x2",
         "y": [
          0.13349707
         ],
         "yaxis": "y2"
        },
        {
         "alignmentgroup": "True",
         "hovertemplate": "fuel=Gasoline<br>cap type=%{x}<br>mode=MD Truck<br>vintage=2030<br>capacity=%{y}<extra></extra>",
         "legendgroup": "Gasoline, net capacity",
         "marker": {
          "color": "rgb(127, 60, 141)",
          "pattern": {
           "shape": ""
          }
         },
         "name": "Gasoline",
         "offsetgroup": "Gasoline, net capacity",
         "orientation": "v",
         "showlegend": false,
         "textfont": {
          "size": 11
         },
         "textposition": "auto",
         "texttemplate": "%{y:.2f}",
         "type": "bar",
         "x": [
          "net capacity"
         ],
         "xaxis": "x3",
         "y": [
          0.10533087999999999
         ],
         "yaxis": "y3"
        },
        {
         "alignmentgroup": "True",
         "hovertemplate": "fuel=Gasoline<br>cap type=%{x}<br>mode=MD Truck<br>vintage=2035<br>capacity=%{y}<extra></extra>",
         "legendgroup": "Gasoline, net capacity",
         "marker": {
          "color": "rgb(127, 60, 141)",
          "pattern": {
           "shape": ""
          }
         },
         "name": "Gasoline",
         "offsetgroup": "Gasoline, net capacity",
         "orientation": "v",
         "showlegend": false,
         "textfont": {
          "size": 11
         },
         "textposition": "auto",
         "texttemplate": "%{y:.2f}",
         "type": "bar",
         "x": [
          "net capacity"
         ],
         "xaxis": "x4",
         "y": [
          0.06779565
         ],
         "yaxis": "y4"
        },
        {
         "alignmentgroup": "True",
         "hovertemplate": "fuel=Gasoline<br>cap type=%{x}<br>mode=MD Truck<br>vintage=2025<br>capacity=%{y}<extra></extra>",
         "legendgroup": "Gasoline, retired cap",
         "marker": {
          "color": "rgb(127, 60, 141)",
          "pattern": {
           "shape": "/"
          }
         },
         "name": "Gasoline",
         "offsetgroup": "Gasoline, retired cap",
         "orientation": "v",
         "showlegend": false,
         "textfont": {
          "size": 11
         },
         "textposition": "auto",
         "texttemplate": "%{y:.2f}",
         "type": "bar",
         "x": [
          "retired cap"
         ],
         "xaxis": "x2",
         "y": [
          -0.0072828599999999995
         ],
         "yaxis": "y2"
        },
        {
         "alignmentgroup": "True",
         "hovertemplate": "fuel=Gasoline<br>cap type=%{x}<br>mode=MD Truck<br>vintage=2030<br>capacity=%{y}<extra></extra>",
         "legendgroup": "Gasoline, retired cap",
         "marker": {
          "color": "rgb(127, 60, 141)",
          "pattern": {
           "shape": "/"
          }
         },
         "name": "Gasoline",
         "offsetgroup": "Gasoline, retired cap",
         "orientation": "v",
         "showlegend": false,
         "textfont": {
          "size": 11
         },
         "textposition": "auto",
         "texttemplate": "%{y:.2f}",
         "type": "bar",
         "x": [
          "retired cap"
         ],
         "xaxis": "x3",
         "y": [
          -0.028166190000000015
         ],
         "yaxis": "y3"
        },
        {
         "alignmentgroup": "True",
         "hovertemplate": "fuel=Gasoline<br>cap type=%{x}<br>mode=MD Truck<br>vintage=2035<br>capacity=%{y}<extra></extra>",
         "legendgroup": "Gasoline, retired cap",
         "marker": {
          "color": "rgb(127, 60, 141)",
          "pattern": {
           "shape": "/"
          }
         },
         "name": "Gasoline",
         "offsetgroup": "Gasoline, retired cap",
         "orientation": "v",
         "showlegend": false,
         "textfont": {
          "size": 11
         },
         "textposition": "auto",
         "texttemplate": "%{y:.2f}",
         "type": "bar",
         "x": [
          "retired cap"
         ],
         "xaxis": "x4",
         "y": [
          -0.037535229999999996
         ],
         "yaxis": "y4"
        },
        {
         "alignmentgroup": "True",
         "hovertemplate": "fuel=Diesel<br>cap type=%{x}<br>mode=HD Truck<br>vintage=2021<br>capacity=%{y}<extra></extra>",
         "legendgroup": "Diesel, net capacity",
         "marker": {
          "color": "rgb(17, 165, 121)",
          "pattern": {
           "shape": ""
          }
         },
         "name": "Diesel",
         "offsetgroup": "Diesel, net capacity",
         "orientation": "v",
         "showlegend": true,
         "textfont": {
          "size": 11
         },
         "textposition": "auto",
         "texttemplate": "%{y:.2f}",
         "type": "bar",
         "x": [
          "net capacity"
         ],
         "xaxis": "x8",
         "y": [
          0.13455009
         ],
         "yaxis": "y8"
        },
        {
         "alignmentgroup": "True",
         "hovertemplate": "fuel=Diesel<br>cap type=%{x}<br>mode=HD Truck<br>vintage=2025<br>capacity=%{y}<extra></extra>",
         "legendgroup": "Diesel, net capacity",
         "marker": {
          "color": "rgb(17, 165, 121)",
          "pattern": {
           "shape": ""
          }
         },
         "name": "Diesel",
         "offsetgroup": "Diesel, net capacity",
         "orientation": "v",
         "showlegend": false,
         "textfont": {
          "size": 11
         },
         "textposition": "auto",
         "texttemplate": "%{y:.2f}",
         "type": "bar",
         "x": [
          "net capacity"
         ],
         "xaxis": "x9",
         "y": [
          0.12481974
         ],
         "yaxis": "y9"
        },
        {
         "alignmentgroup": "True",
         "hovertemplate": "fuel=Diesel<br>cap type=%{x}<br>mode=HD Truck<br>vintage=2030<br>capacity=%{y}<extra></extra>",
         "legendgroup": "Diesel, net capacity",
         "marker": {
          "color": "rgb(17, 165, 121)",
          "pattern": {
           "shape": ""
          }
         },
         "name": "Diesel",
         "offsetgroup": "Diesel, net capacity",
         "orientation": "v",
         "showlegend": false,
         "textfont": {
          "size": 11
         },
         "textposition": "auto",
         "texttemplate": "%{y:.2f}",
         "type": "bar",
         "x": [
          "net capacity"
         ],
         "xaxis": "x10",
         "y": [
          0.09805985000000002
         ],
         "yaxis": "y10"
        },
        {
         "alignmentgroup": "True",
         "hovertemplate": "fuel=Diesel<br>cap type=%{x}<br>mode=HD Truck<br>vintage=2035<br>capacity=%{y}<extra></extra>",
         "legendgroup": "Diesel, net capacity",
         "marker": {
          "color": "rgb(17, 165, 121)",
          "pattern": {
           "shape": ""
          }
         },
         "name": "Diesel",
         "offsetgroup": "Diesel, net capacity",
         "orientation": "v",
         "showlegend": false,
         "textfont": {
          "size": 11
         },
         "textposition": "auto",
         "texttemplate": "%{y:.2f}",
         "type": "bar",
         "x": [
          "net capacity"
         ],
         "xaxis": "x11",
         "y": [
          0.06239871
         ],
         "yaxis": "y11"
        },
        {
         "alignmentgroup": "True",
         "hovertemplate": "fuel=Diesel<br>cap type=%{x}<br>mode=MD Truck<br>vintage=2021<br>capacity=%{y}<extra></extra>",
         "legendgroup": "Diesel, net capacity",
         "marker": {
          "color": "rgb(17, 165, 121)",
          "pattern": {
           "shape": ""
          }
         },
         "name": "Diesel",
         "offsetgroup": "Diesel, net capacity",
         "orientation": "v",
         "showlegend": false,
         "textfont": {
          "size": 11
         },
         "textposition": "auto",
         "texttemplate": "%{y:.2f}",
         "type": "bar",
         "x": [
          "net capacity"
         ],
         "xaxis": "x",
         "y": [
          0.24241132
         ],
         "yaxis": "y"
        },
        {
         "alignmentgroup": "True",
         "hovertemplate": "fuel=Diesel<br>cap type=%{x}<br>mode=MD Truck<br>vintage=2025<br>capacity=%{y}<extra></extra>",
         "legendgroup": "Diesel, net capacity",
         "marker": {
          "color": "rgb(17, 165, 121)",
          "pattern": {
           "shape": ""
          }
         },
         "name": "Diesel",
         "offsetgroup": "Diesel, net capacity",
         "orientation": "v",
         "showlegend": false,
         "textfont": {
          "size": 11
         },
         "textposition": "auto",
         "texttemplate": "%{y:.2f}",
         "type": "bar",
         "x": [
          "net capacity"
         ],
         "xaxis": "x2",
         "y": [
          0.22956781
         ],
         "yaxis": "y2"
        },
        {
         "alignmentgroup": "True",
         "hovertemplate": "fuel=Diesel<br>cap type=%{x}<br>mode=MD Truck<br>vintage=2030<br>capacity=%{y}<extra></extra>",
         "legendgroup": "Diesel, net capacity",
         "marker": {
          "color": "rgb(17, 165, 121)",
          "pattern": {
           "shape": ""
          }
         },
         "name": "Diesel",
         "offsetgroup": "Diesel, net capacity",
         "orientation": "v",
         "showlegend": false,
         "textfont": {
          "size": 11
         },
         "textposition": "auto",
         "texttemplate": "%{y:.2f}",
         "type": "bar",
         "x": [
          "net capacity"
         ],
         "xaxis": "x3",
         "y": [
          0.17989599
         ],
         "yaxis": "y3"
        },
        {
         "alignmentgroup": "True",
         "hovertemplate": "fuel=Diesel<br>cap type=%{x}<br>mode=MD Truck<br>vintage=2035<br>capacity=%{y}<extra></extra>",
         "legendgroup": "Diesel, net capacity",
         "marker": {
          "color": "rgb(17, 165, 121)",
          "pattern": {
           "shape": ""
          }
         },
         "name": "Diesel",
         "offsetgroup": "Diesel, net capacity",
         "orientation": "v",
         "showlegend": false,
         "textfont": {
          "size": 11
         },
         "textposition": "auto",
         "texttemplate": "%{y:.2f}",
         "type": "bar",
         "x": [
          "net capacity"
         ],
         "xaxis": "x4",
         "y": [
          0.11370162
         ],
         "yaxis": "y4"
        },
        {
         "alignmentgroup": "True",
         "hovertemplate": "fuel=Diesel<br>cap type=%{x}<br>mode=HD Truck<br>vintage=2025<br>capacity=%{y}<extra></extra>",
         "legendgroup": "Diesel, retired cap",
         "marker": {
          "color": "rgb(17, 165, 121)",
          "pattern": {
           "shape": "/"
          }
         },
         "name": "Diesel",
         "offsetgroup": "Diesel, retired cap",
         "orientation": "v",
         "showlegend": false,
         "textfont": {
          "size": 11
         },
         "textposition": "auto",
         "texttemplate": "%{y:.2f}",
         "type": "bar",
         "x": [
          "retired cap"
         ],
         "xaxis": "x9",
         "y": [
          -0.009730350000000016
         ],
         "yaxis": "y9"
        },
        {
         "alignmentgroup": "True",
         "hovertemplate": "fuel=Diesel<br>cap type=%{x}<br>mode=HD Truck<br>vintage=2030<br>capacity=%{y}<extra></extra>",
         "legendgroup": "Diesel, retired cap",
         "marker": {
          "color": "rgb(17, 165, 121)",
          "pattern": {
           "shape": "/"
          }
         },
         "name": "Diesel",
         "offsetgroup": "Diesel, retired cap",
         "orientation": "v",
         "showlegend": false,
         "textfont": {
          "size": 11
         },
         "textposition": "auto",
         "texttemplate": "%{y:.2f}",
         "type": "bar",
         "x": [
          "retired cap"
         ],
         "xaxis": "x10",
         "y": [
          -0.026759889999999984
         ],
         "yaxis": "y10"
        },
        {
         "alignmentgroup": "True",
         "hovertemplate": "fuel=Diesel<br>cap type=%{x}<br>mode=HD Truck<br>vintage=2035<br>capacity=%{y}<extra></extra>",
         "legendgroup": "Diesel, retired cap",
         "marker": {
          "color": "rgb(17, 165, 121)",
          "pattern": {
           "shape": "/"
          }
         },
         "name": "Diesel",
         "offsetgroup": "Diesel, retired cap",
         "orientation": "v",
         "showlegend": false,
         "textfont": {
          "size": 11
         },
         "textposition": "auto",
         "texttemplate": "%{y:.2f}",
         "type": "bar",
         "x": [
          "retired cap"
         ],
         "xaxis": "x11",
         "y": [
          -0.03566114000000001
         ],
         "yaxis": "y11"
        },
        {
         "alignmentgroup": "True",
         "hovertemplate": "fuel=Diesel<br>cap type=%{x}<br>mode=MD Truck<br>vintage=2025<br>capacity=%{y}<extra></extra>",
         "legendgroup": "Diesel, retired cap",
         "marker": {
          "color": "rgb(17, 165, 121)",
          "pattern": {
           "shape": "/"
          }
         },
         "name": "Diesel",
         "offsetgroup": "Diesel, retired cap",
         "orientation": "v",
         "showlegend": false,
         "textfont": {
          "size": 11
         },
         "textposition": "auto",
         "texttemplate": "%{y:.2f}",
         "type": "bar",
         "x": [
          "retired cap"
         ],
         "xaxis": "x2",
         "y": [
          -0.01284351000000001
         ],
         "yaxis": "y2"
        },
        {
         "alignmentgroup": "True",
         "hovertemplate": "fuel=Diesel<br>cap type=%{x}<br>mode=MD Truck<br>vintage=2030<br>capacity=%{y}<extra></extra>",
         "legendgroup": "Diesel, retired cap",
         "marker": {
          "color": "rgb(17, 165, 121)",
          "pattern": {
           "shape": "/"
          }
         },
         "name": "Diesel",
         "offsetgroup": "Diesel, retired cap",
         "orientation": "v",
         "showlegend": false,
         "textfont": {
          "size": 11
         },
         "textposition": "auto",
         "texttemplate": "%{y:.2f}",
         "type": "bar",
         "x": [
          "retired cap"
         ],
         "xaxis": "x3",
         "y": [
          -0.04967182
         ],
         "yaxis": "y3"
        },
        {
         "alignmentgroup": "True",
         "hovertemplate": "fuel=Diesel<br>cap type=%{x}<br>mode=MD Truck<br>vintage=2035<br>capacity=%{y}<extra></extra>",
         "legendgroup": "Diesel, retired cap",
         "marker": {
          "color": "rgb(17, 165, 121)",
          "pattern": {
           "shape": "/"
          }
         },
         "name": "Diesel",
         "offsetgroup": "Diesel, retired cap",
         "orientation": "v",
         "showlegend": false,
         "textfont": {
          "size": 11
         },
         "textposition": "auto",
         "texttemplate": "%{y:.2f}",
         "type": "bar",
         "x": [
          "retired cap"
         ],
         "xaxis": "x4",
         "y": [
          -0.06619437
         ],
         "yaxis": "y4"
        },
        {
         "alignmentgroup": "True",
         "hovertemplate": "fuel=HEV<br>cap type=%{x}<br>mode=HD Truck<br>vintage=2021<br>capacity=%{y}<extra></extra>",
         "legendgroup": "HEV, net capacity",
         "marker": {
          "color": "rgb(0, 134, 149)",
          "pattern": {
           "shape": ""
          }
         },
         "name": "HEV",
         "offsetgroup": "HEV, net capacity",
         "orientation": "v",
         "showlegend": true,
         "textfont": {
          "size": 11
         },
         "textposition": "auto",
         "texttemplate": "%{y:.2f}",
         "type": "bar",
         "x": [
          "net capacity"
         ],
         "xaxis": "x8",
         "y": [
          0.015977694667541044
         ],
         "yaxis": "y8"
        },
        {
         "alignmentgroup": "True",
         "hovertemplate": "fuel=HEV<br>cap type=%{x}<br>mode=HD Truck<br>vintage=2025<br>capacity=%{y}<extra></extra>",
         "legendgroup": "HEV, net capacity",
         "marker": {
          "color": "rgb(0, 134, 149)",
          "pattern": {
           "shape": ""
          }
         },
         "name": "HEV",
         "offsetgroup": "HEV, net capacity",
         "orientation": "v",
         "showlegend": false,
         "textfont": {
          "size": 11
         },
         "textposition": "auto",
         "texttemplate": "%{y:.2f}",
         "type": "bar",
         "x": [
          "net capacity"
         ],
         "xaxis": "x9",
         "y": [
          0.028513158843854684
         ],
         "yaxis": "y9"
        },
        {
         "alignmentgroup": "True",
         "hovertemplate": "fuel=HEV<br>cap type=%{x}<br>mode=HD Truck<br>vintage=2030<br>capacity=%{y}<extra></extra>",
         "legendgroup": "HEV, net capacity",
         "marker": {
          "color": "rgb(0, 134, 149)",
          "pattern": {
           "shape": ""
          }
         },
         "name": "HEV",
         "offsetgroup": "HEV, net capacity",
         "orientation": "v",
         "showlegend": false,
         "textfont": {
          "size": 11
         },
         "textposition": "auto",
         "texttemplate": "%{y:.2f}",
         "type": "bar",
         "x": [
          "net capacity"
         ],
         "xaxis": "x10",
         "y": [
          0.036715374251894334
         ],
         "yaxis": "y10"
        },
        {
         "alignmentgroup": "True",
         "hovertemplate": "fuel=HEV<br>cap type=%{x}<br>mode=HD Truck<br>vintage=2035<br>capacity=%{y}<extra></extra>",
         "legendgroup": "HEV, net capacity",
         "marker": {
          "color": "rgb(0, 134, 149)",
          "pattern": {
           "shape": ""
          }
         },
         "name": "HEV",
         "offsetgroup": "HEV, net capacity",
         "orientation": "v",
         "showlegend": false,
         "textfont": {
          "size": 11
         },
         "textposition": "auto",
         "texttemplate": "%{y:.2f}",
         "type": "bar",
         "x": [
          "net capacity"
         ],
         "xaxis": "x11",
         "y": [
          0.04727707220603078
         ],
         "yaxis": "y11"
        },
        {
         "alignmentgroup": "True",
         "hovertemplate": "fuel=HEV<br>cap type=%{x}<br>mode=HD Truck<br>vintage=2040<br>capacity=%{y}<extra></extra>",
         "legendgroup": "HEV, net capacity",
         "marker": {
          "color": "rgb(0, 134, 149)",
          "pattern": {
           "shape": ""
          }
         },
         "name": "HEV",
         "offsetgroup": "HEV, net capacity",
         "orientation": "v",
         "showlegend": false,
         "textfont": {
          "size": 11
         },
         "textposition": "auto",
         "texttemplate": "%{y:.2f}",
         "type": "bar",
         "x": [
          "net capacity"
         ],
         "xaxis": "x12",
         "y": [
          0.03958188652759793
         ],
         "yaxis": "y12"
        },
        {
         "alignmentgroup": "True",
         "hovertemplate": "fuel=HEV<br>cap type=%{x}<br>mode=HD Truck<br>vintage=2045<br>capacity=%{y}<extra></extra>",
         "legendgroup": "HEV, net capacity",
         "marker": {
          "color": "rgb(0, 134, 149)",
          "pattern": {
           "shape": ""
          }
         },
         "name": "HEV",
         "offsetgroup": "HEV, net capacity",
         "orientation": "v",
         "showlegend": false,
         "textfont": {
          "size": 11
         },
         "textposition": "auto",
         "texttemplate": "%{y:.2f}",
         "type": "bar",
         "x": [
          "net capacity"
         ],
         "xaxis": "x13",
         "y": [
          0.03426097436481903
         ],
         "yaxis": "y13"
        },
        {
         "alignmentgroup": "True",
         "hovertemplate": "fuel=HEV<br>cap type=%{x}<br>mode=HD Truck<br>vintage=2050<br>capacity=%{y}<extra></extra>",
         "legendgroup": "HEV, net capacity",
         "marker": {
          "color": "rgb(0, 134, 149)",
          "pattern": {
           "shape": ""
          }
         },
         "name": "HEV",
         "offsetgroup": "HEV, net capacity",
         "orientation": "v",
         "showlegend": false,
         "textfont": {
          "size": 11
         },
         "textposition": "auto",
         "texttemplate": "%{y:.2f}",
         "type": "bar",
         "x": [
          "net capacity"
         ],
         "xaxis": "x14",
         "y": [
          0.03294728630054162
         ],
         "yaxis": "y14"
        },
        {
         "alignmentgroup": "True",
         "hovertemplate": "fuel=HEV<br>cap type=%{x}<br>mode=HD Truck<br>vintage=2021<br>capacity=%{y}<extra></extra>",
         "legendgroup": "HEV, new capacity",
         "marker": {
          "color": "rgb(0, 134, 149)",
          "pattern": {
           "shape": "."
          }
         },
         "name": "HEV",
         "offsetgroup": "HEV, new capacity",
         "orientation": "v",
         "showlegend": false,
         "textfont": {
          "size": 11
         },
         "textposition": "auto",
         "texttemplate": "%{y:.2f}",
         "type": "bar",
         "x": [
          "new capacity"
         ],
         "xaxis": "x8",
         "y": [
          0.015977694667541044
         ],
         "yaxis": "y8"
        },
        {
         "alignmentgroup": "True",
         "hovertemplate": "fuel=HEV<br>cap type=%{x}<br>mode=HD Truck<br>vintage=2025<br>capacity=%{y}<extra></extra>",
         "legendgroup": "HEV, new capacity",
         "marker": {
          "color": "rgb(0, 134, 149)",
          "pattern": {
           "shape": "."
          }
         },
         "name": "HEV",
         "offsetgroup": "HEV, new capacity",
         "orientation": "v",
         "showlegend": false,
         "textfont": {
          "size": 11
         },
         "textposition": "auto",
         "texttemplate": "%{y:.2f}",
         "type": "bar",
         "x": [
          "new capacity"
         ],
         "xaxis": "x9",
         "y": [
          0.01253546417631364
         ],
         "yaxis": "y9"
        },
        {
         "alignmentgroup": "True",
         "hovertemplate": "fuel=HEV<br>cap type=%{x}<br>mode=HD Truck<br>vintage=2030<br>capacity=%{y}<extra></extra>",
         "legendgroup": "HEV, new capacity",
         "marker": {
          "color": "rgb(0, 134, 149)",
          "pattern": {
           "shape": "."
          }
         },
         "name": "HEV",
         "offsetgroup": "HEV, new capacity",
         "orientation": "v",
         "showlegend": false,
         "textfont": {
          "size": 11
         },
         "textposition": "auto",
         "texttemplate": "%{y:.2f}",
         "type": "bar",
         "x": [
          "new capacity"
         ],
         "xaxis": "x10",
         "y": [
          0.008202215408039648
         ],
         "yaxis": "y10"
        },
        {
         "alignmentgroup": "True",
         "hovertemplate": "fuel=HEV<br>cap type=%{x}<br>mode=HD Truck<br>vintage=2035<br>capacity=%{y}<extra></extra>",
         "legendgroup": "HEV, new capacity",
         "marker": {
          "color": "rgb(0, 134, 149)",
          "pattern": {
           "shape": "."
          }
         },
         "name": "HEV",
         "offsetgroup": "HEV, new capacity",
         "orientation": "v",
         "showlegend": false,
         "textfont": {
          "size": 11
         },
         "textposition": "auto",
         "texttemplate": "%{y:.2f}",
         "type": "bar",
         "x": [
          "new capacity"
         ],
         "xaxis": "x11",
         "y": [
          0.01056169795413645
         ],
         "yaxis": "y11"
        },
        {
         "alignmentgroup": "True",
         "hovertemplate": "fuel=HEV<br>cap type=%{x}<br>mode=HD Truck<br>vintage=2040<br>capacity=%{y}<extra></extra>",
         "legendgroup": "HEV, new capacity",
         "marker": {
          "color": "rgb(0, 134, 149)",
          "pattern": {
           "shape": "."
          }
         },
         "name": "HEV",
         "offsetgroup": "HEV, new capacity",
         "orientation": "v",
         "showlegend": false,
         "textfont": {
          "size": 11
         },
         "textposition": "auto",
         "texttemplate": "%{y:.2f}",
         "type": "bar",
         "x": [
          "new capacity"
         ],
         "xaxis": "x12",
         "y": [
          0.008282508989108194
         ],
         "yaxis": "y12"
        },
        {
         "alignmentgroup": "True",
         "hovertemplate": "fuel=HEV<br>cap type=%{x}<br>mode=HD Truck<br>vintage=2045<br>capacity=%{y}<extra></extra>",
         "legendgroup": "HEV, new capacity",
         "marker": {
          "color": "rgb(0, 134, 149)",
          "pattern": {
           "shape": "."
          }
         },
         "name": "HEV",
         "offsetgroup": "HEV, new capacity",
         "orientation": "v",
         "showlegend": false,
         "textfont": {
          "size": 11
         },
         "textposition": "auto",
         "texttemplate": "%{y:.2f}",
         "type": "bar",
         "x": [
          "new capacity"
         ],
         "xaxis": "x13",
         "y": [
          0.0072145520135347375
         ],
         "yaxis": "y13"
        },
        {
         "alignmentgroup": "True",
         "hovertemplate": "fuel=HEV<br>cap type=%{x}<br>mode=HD Truck<br>vintage=2050<br>capacity=%{y}<extra></extra>",
         "legendgroup": "HEV, new capacity",
         "marker": {
          "color": "rgb(0, 134, 149)",
          "pattern": {
           "shape": "."
          }
         },
         "name": "HEV",
         "offsetgroup": "HEV, new capacity",
         "orientation": "v",
         "showlegend": false,
         "textfont": {
          "size": 11
         },
         "textposition": "auto",
         "texttemplate": "%{y:.2f}",
         "type": "bar",
         "x": [
          "new capacity"
         ],
         "xaxis": "x14",
         "y": [
          0.00688852734376224
         ],
         "yaxis": "y14"
        },
        {
         "alignmentgroup": "True",
         "hovertemplate": "fuel=HEV<br>cap type=%{x}<br>mode=HD Truck<br>vintage=2040<br>capacity=%{y}<extra></extra>",
         "legendgroup": "HEV, retired cap",
         "marker": {
          "color": "rgb(0, 134, 149)",
          "pattern": {
           "shape": "/"
          }
         },
         "name": "HEV",
         "offsetgroup": "HEV, retired cap",
         "orientation": "v",
         "showlegend": false,
         "textfont": {
          "size": 11
         },
         "textposition": "auto",
         "texttemplate": "%{y:.2f}",
         "type": "bar",
         "x": [
          "retired cap"
         ],
         "xaxis": "x12",
         "y": [
          -0.015977694667541044
         ],
         "yaxis": "y12"
        },
        {
         "alignmentgroup": "True",
         "hovertemplate": "fuel=HEV<br>cap type=%{x}<br>mode=HD Truck<br>vintage=2045<br>capacity=%{y}<extra></extra>",
         "legendgroup": "HEV, retired cap",
         "marker": {
          "color": "rgb(0, 134, 149)",
          "pattern": {
           "shape": "/"
          }
         },
         "name": "HEV",
         "offsetgroup": "HEV, retired cap",
         "orientation": "v",
         "showlegend": false,
         "textfont": {
          "size": 11
         },
         "textposition": "auto",
         "texttemplate": "%{y:.2f}",
         "type": "bar",
         "x": [
          "retired cap"
         ],
         "xaxis": "x13",
         "y": [
          -0.012535464176313639
         ],
         "yaxis": "y13"
        },
        {
         "alignmentgroup": "True",
         "hovertemplate": "fuel=HEV<br>cap type=%{x}<br>mode=HD Truck<br>vintage=2050<br>capacity=%{y}<extra></extra>",
         "legendgroup": "HEV, retired cap",
         "marker": {
          "color": "rgb(0, 134, 149)",
          "pattern": {
           "shape": "/"
          }
         },
         "name": "HEV",
         "offsetgroup": "HEV, retired cap",
         "orientation": "v",
         "showlegend": false,
         "textfont": {
          "size": 11
         },
         "textposition": "auto",
         "texttemplate": "%{y:.2f}",
         "type": "bar",
         "x": [
          "retired cap"
         ],
         "xaxis": "x14",
         "y": [
          -0.00820221540803965
         ],
         "yaxis": "y14"
        },
        {
         "alignmentgroup": "True",
         "hovertemplate": "fuel=FCEV<br>cap type=%{x}<br>mode=HD Truck<br>vintage=2030<br>capacity=%{y}<extra></extra>",
         "legendgroup": "FCEV, net capacity",
         "marker": {
          "color": "rgb(165, 170, 153)",
          "pattern": {
           "shape": ""
          }
         },
         "name": "FCEV",
         "offsetgroup": "FCEV, net capacity",
         "orientation": "v",
         "showlegend": true,
         "textfont": {
          "size": 11
         },
         "textposition": "auto",
         "texttemplate": "%{y:.2f}",
         "type": "bar",
         "x": [
          "net capacity"
         ],
         "xaxis": "x10",
         "y": [
          0.024836841285394127
         ],
         "yaxis": "y10"
        },
        {
         "alignmentgroup": "True",
         "hovertemplate": "fuel=FCEV<br>cap type=%{x}<br>mode=HD Truck<br>vintage=2035<br>capacity=%{y}<extra></extra>",
         "legendgroup": "FCEV, net capacity",
         "marker": {
          "color": "rgb(165, 170, 153)",
          "pattern": {
           "shape": ""
          }
         },
         "name": "FCEV",
         "offsetgroup": "FCEV, net capacity",
         "orientation": "v",
         "showlegend": false,
         "textfont": {
          "size": 11
         },
         "textposition": "auto",
         "texttemplate": "%{y:.2f}",
         "type": "bar",
         "x": [
          "net capacity"
         ],
         "xaxis": "x11",
         "y": [
          0.06656893497504732
         ],
         "yaxis": "y11"
        },
        {
         "alignmentgroup": "True",
         "hovertemplate": "fuel=FCEV<br>cap type=%{x}<br>mode=HD Truck<br>vintage=2040<br>capacity=%{y}<extra></extra>",
         "legendgroup": "FCEV, net capacity",
         "marker": {
          "color": "rgb(165, 170, 153)",
          "pattern": {
           "shape": ""
          }
         },
         "name": "FCEV",
         "offsetgroup": "FCEV, net capacity",
         "orientation": "v",
         "showlegend": false,
         "textfont": {
          "size": 11
         },
         "textposition": "auto",
         "texttemplate": "%{y:.2f}",
         "type": "bar",
         "x": [
          "net capacity"
         ],
         "xaxis": "x12",
         "y": [
          0.13795314695825783
         ],
         "yaxis": "y12"
        },
        {
         "alignmentgroup": "True",
         "hovertemplate": "fuel=FCEV<br>cap type=%{x}<br>mode=HD Truck<br>vintage=2045<br>capacity=%{y}<extra></extra>",
         "legendgroup": "FCEV, net capacity",
         "marker": {
          "color": "rgb(165, 170, 153)",
          "pattern": {
           "shape": ""
          }
         },
         "name": "FCEV",
         "offsetgroup": "FCEV, net capacity",
         "orientation": "v",
         "showlegend": false,
         "textfont": {
          "size": 11
         },
         "textposition": "auto",
         "texttemplate": "%{y:.2f}",
         "type": "bar",
         "x": [
          "net capacity"
         ],
         "xaxis": "x13",
         "y": [
          0.1592902540728119
         ],
         "yaxis": "y13"
        },
        {
         "alignmentgroup": "True",
         "hovertemplate": "fuel=FCEV<br>cap type=%{x}<br>mode=HD Truck<br>vintage=2050<br>capacity=%{y}<extra></extra>",
         "legendgroup": "FCEV, net capacity",
         "marker": {
          "color": "rgb(165, 170, 153)",
          "pattern": {
           "shape": ""
          }
         },
         "name": "FCEV",
         "offsetgroup": "FCEV, net capacity",
         "orientation": "v",
         "showlegend": false,
         "textfont": {
          "size": 11
         },
         "textposition": "auto",
         "texttemplate": "%{y:.2f}",
         "type": "bar",
         "x": [
          "net capacity"
         ],
         "xaxis": "x14",
         "y": [
          0.1773404133085521
         ],
         "yaxis": "y14"
        },
        {
         "alignmentgroup": "True",
         "hovertemplate": "fuel=FCEV<br>cap type=%{x}<br>mode=MD Truck<br>vintage=2021<br>capacity=%{y}<extra></extra>",
         "legendgroup": "FCEV, net capacity",
         "marker": {
          "color": "rgb(165, 170, 153)",
          "pattern": {
           "shape": ""
          }
         },
         "name": "FCEV",
         "offsetgroup": "FCEV, net capacity",
         "orientation": "v",
         "showlegend": false,
         "textfont": {
          "size": 11
         },
         "textposition": "auto",
         "texttemplate": "%{y:.2f}",
         "type": "bar",
         "x": [
          "net capacity"
         ],
         "xaxis": "x",
         "y": [
          0.04955594892996495
         ],
         "yaxis": "y"
        },
        {
         "alignmentgroup": "True",
         "hovertemplate": "fuel=FCEV<br>cap type=%{x}<br>mode=MD Truck<br>vintage=2025<br>capacity=%{y}<extra></extra>",
         "legendgroup": "FCEV, net capacity",
         "marker": {
          "color": "rgb(165, 170, 153)",
          "pattern": {
           "shape": ""
          }
         },
         "name": "FCEV",
         "offsetgroup": "FCEV, net capacity",
         "orientation": "v",
         "showlegend": false,
         "textfont": {
          "size": 11
         },
         "textposition": "auto",
         "texttemplate": "%{y:.2f}",
         "type": "bar",
         "x": [
          "net capacity"
         ],
         "xaxis": "x2",
         "y": [
          0.13168636175330703
         ],
         "yaxis": "y2"
        },
        {
         "alignmentgroup": "True",
         "hovertemplate": "fuel=FCEV<br>cap type=%{x}<br>mode=MD Truck<br>vintage=2030<br>capacity=%{y}<extra></extra>",
         "legendgroup": "FCEV, net capacity",
         "marker": {
          "color": "rgb(165, 170, 153)",
          "pattern": {
           "shape": ""
          }
         },
         "name": "FCEV",
         "offsetgroup": "FCEV, net capacity",
         "orientation": "v",
         "showlegend": false,
         "textfont": {
          "size": 11
         },
         "textposition": "auto",
         "texttemplate": "%{y:.2f}",
         "type": "bar",
         "x": [
          "net capacity"
         ],
         "xaxis": "x3",
         "y": [
          0.2447957733551093
         ],
         "yaxis": "y3"
        },
        {
         "alignmentgroup": "True",
         "hovertemplate": "fuel=FCEV<br>cap type=%{x}<br>mode=MD Truck<br>vintage=2035<br>capacity=%{y}<extra></extra>",
         "legendgroup": "FCEV, net capacity",
         "marker": {
          "color": "rgb(165, 170, 153)",
          "pattern": {
           "shape": ""
          }
         },
         "name": "FCEV",
         "offsetgroup": "FCEV, net capacity",
         "orientation": "v",
         "showlegend": false,
         "textfont": {
          "size": 11
         },
         "textposition": "auto",
         "texttemplate": "%{y:.2f}",
         "type": "bar",
         "x": [
          "net capacity"
         ],
         "xaxis": "x4",
         "y": [
          0.42667328951539546
         ],
         "yaxis": "y4"
        },
        {
         "alignmentgroup": "True",
         "hovertemplate": "fuel=FCEV<br>cap type=%{x}<br>mode=MD Truck<br>vintage=2040<br>capacity=%{y}<extra></extra>",
         "legendgroup": "FCEV, net capacity",
         "marker": {
          "color": "rgb(165, 170, 153)",
          "pattern": {
           "shape": ""
          }
         },
         "name": "FCEV",
         "offsetgroup": "FCEV, net capacity",
         "orientation": "v",
         "showlegend": false,
         "textfont": {
          "size": 11
         },
         "textposition": "auto",
         "texttemplate": "%{y:.2f}",
         "type": "bar",
         "x": [
          "net capacity"
         ],
         "xaxis": "x5",
         "y": [
          0.5952136843017337
         ],
         "yaxis": "y5"
        },
        {
         "alignmentgroup": "True",
         "hovertemplate": "fuel=FCEV<br>cap type=%{x}<br>mode=MD Truck<br>vintage=2045<br>capacity=%{y}<extra></extra>",
         "legendgroup": "FCEV, net capacity",
         "marker": {
          "color": "rgb(165, 170, 153)",
          "pattern": {
           "shape": ""
          }
         },
         "name": "FCEV",
         "offsetgroup": "FCEV, net capacity",
         "orientation": "v",
         "showlegend": false,
         "textfont": {
          "size": 11
         },
         "textposition": "auto",
         "texttemplate": "%{y:.2f}",
         "type": "bar",
         "x": [
          "net capacity"
         ],
         "xaxis": "x6",
         "y": [
          0.6448418475157416
         ],
         "yaxis": "y6"
        },
        {
         "alignmentgroup": "True",
         "hovertemplate": "fuel=FCEV<br>cap type=%{x}<br>mode=MD Truck<br>vintage=2050<br>capacity=%{y}<extra></extra>",
         "legendgroup": "FCEV, net capacity",
         "marker": {
          "color": "rgb(165, 170, 153)",
          "pattern": {
           "shape": ""
          }
         },
         "name": "FCEV",
         "offsetgroup": "FCEV, net capacity",
         "orientation": "v",
         "showlegend": false,
         "textfont": {
          "size": 11
         },
         "textposition": "auto",
         "texttemplate": "%{y:.2f}",
         "type": "bar",
         "x": [
          "net capacity"
         ],
         "xaxis": "x7",
         "y": [
          0.7147937242064304
         ],
         "yaxis": "y7"
        },
        {
         "alignmentgroup": "True",
         "hovertemplate": "fuel=FCEV<br>cap type=%{x}<br>mode=HD Truck<br>vintage=2030<br>capacity=%{y}<extra></extra>",
         "legendgroup": "FCEV, new capacity",
         "marker": {
          "color": "rgb(165, 170, 153)",
          "pattern": {
           "shape": "."
          }
         },
         "name": "FCEV",
         "offsetgroup": "FCEV, new capacity",
         "orientation": "v",
         "showlegend": false,
         "textfont": {
          "size": 11
         },
         "textposition": "auto",
         "texttemplate": "%{y:.2f}",
         "type": "bar",
         "x": [
          "new capacity"
         ],
         "xaxis": "x10",
         "y": [
          0.024836800982253267
         ],
         "yaxis": "y10"
        },
        {
         "alignmentgroup": "True",
         "hovertemplate": "fuel=FCEV<br>cap type=%{x}<br>mode=HD Truck<br>vintage=2035<br>capacity=%{y}<extra></extra>",
         "legendgroup": "FCEV, new capacity",
         "marker": {
          "color": "rgb(165, 170, 153)",
          "pattern": {
           "shape": "."
          }
         },
         "name": "FCEV",
         "offsetgroup": "FCEV, new capacity",
         "orientation": "v",
         "showlegend": false,
         "textfont": {
          "size": 11
         },
         "textposition": "auto",
         "texttemplate": "%{y:.2f}",
         "type": "bar",
         "x": [
          "new capacity"
         ],
         "xaxis": "x11",
         "y": [
          0.04173209368965319
         ],
         "yaxis": "y11"
        },
        {
         "alignmentgroup": "True",
         "hovertemplate": "fuel=FCEV<br>cap type=%{x}<br>mode=HD Truck<br>vintage=2040<br>capacity=%{y}<extra></extra>",
         "legendgroup": "FCEV, new capacity",
         "marker": {
          "color": "rgb(165, 170, 153)",
          "pattern": {
           "shape": "."
          }
         },
         "name": "FCEV",
         "offsetgroup": "FCEV, new capacity",
         "orientation": "v",
         "showlegend": false,
         "textfont": {
          "size": 11
         },
         "textposition": "auto",
         "texttemplate": "%{y:.2f}",
         "type": "bar",
         "x": [
          "new capacity"
         ],
         "xaxis": "x12",
         "y": [
          0.07138422229434664
         ],
         "yaxis": "y12"
        },
        {
         "alignmentgroup": "True",
         "hovertemplate": "fuel=FCEV<br>cap type=%{x}<br>mode=HD Truck<br>vintage=2045<br>capacity=%{y}<extra></extra>",
         "legendgroup": "FCEV, new capacity",
         "marker": {
          "color": "rgb(165, 170, 153)",
          "pattern": {
           "shape": "."
          }
         },
         "name": "FCEV",
         "offsetgroup": "FCEV, new capacity",
         "orientation": "v",
         "showlegend": false,
         "textfont": {
          "size": 11
         },
         "textposition": "auto",
         "texttemplate": "%{y:.2f}",
         "type": "bar",
         "x": [
          "new capacity"
         ],
         "xaxis": "x13",
         "y": [
          0.0213371371065588
         ],
         "yaxis": "y13"
        },
        {
         "alignmentgroup": "True",
         "hovertemplate": "fuel=FCEV<br>cap type=%{x}<br>mode=HD Truck<br>vintage=2050<br>capacity=%{y}<extra></extra>",
         "legendgroup": "FCEV, new capacity",
         "marker": {
          "color": "rgb(165, 170, 153)",
          "pattern": {
           "shape": "."
          }
         },
         "name": "FCEV",
         "offsetgroup": "FCEV, new capacity",
         "orientation": "v",
         "showlegend": false,
         "textfont": {
          "size": 11
         },
         "textposition": "auto",
         "texttemplate": "%{y:.2f}",
         "type": "bar",
         "x": [
          "new capacity"
         ],
         "xaxis": "x14",
         "y": [
          0.04288696021799348
         ],
         "yaxis": "y14"
        },
        {
         "alignmentgroup": "True",
         "hovertemplate": "fuel=FCEV<br>cap type=%{x}<br>mode=MD Truck<br>vintage=2021<br>capacity=%{y}<extra></extra>",
         "legendgroup": "FCEV, new capacity",
         "marker": {
          "color": "rgb(165, 170, 153)",
          "pattern": {
           "shape": "."
          }
         },
         "name": "FCEV",
         "offsetgroup": "FCEV, new capacity",
         "orientation": "v",
         "showlegend": false,
         "textfont": {
          "size": 11
         },
         "textposition": "auto",
         "texttemplate": "%{y:.2f}",
         "type": "bar",
         "x": [
          "new capacity"
         ],
         "xaxis": "x",
         "y": [
          0.04955594892996495
         ],
         "yaxis": "y"
        },
        {
         "alignmentgroup": "True",
         "hovertemplate": "fuel=FCEV<br>cap type=%{x}<br>mode=MD Truck<br>vintage=2025<br>capacity=%{y}<extra></extra>",
         "legendgroup": "FCEV, new capacity",
         "marker": {
          "color": "rgb(165, 170, 153)",
          "pattern": {
           "shape": "."
          }
         },
         "name": "FCEV",
         "offsetgroup": "FCEV, new capacity",
         "orientation": "v",
         "showlegend": false,
         "textfont": {
          "size": 11
         },
         "textposition": "auto",
         "texttemplate": "%{y:.2f}",
         "type": "bar",
         "x": [
          "new capacity"
         ],
         "xaxis": "x2",
         "y": [
          0.08213041282334209
         ],
         "yaxis": "y2"
        },
        {
         "alignmentgroup": "True",
         "hovertemplate": "fuel=FCEV<br>cap type=%{x}<br>mode=MD Truck<br>vintage=2030<br>capacity=%{y}<extra></extra>",
         "legendgroup": "FCEV, new capacity",
         "marker": {
          "color": "rgb(165, 170, 153)",
          "pattern": {
           "shape": "."
          }
         },
         "name": "FCEV",
         "offsetgroup": "FCEV, new capacity",
         "orientation": "v",
         "showlegend": false,
         "textfont": {
          "size": 11
         },
         "textposition": "auto",
         "texttemplate": "%{y:.2f}",
         "type": "bar",
         "x": [
          "new capacity"
         ],
         "xaxis": "x3",
         "y": [
          0.11310941160180228
         ],
         "yaxis": "y3"
        },
        {
         "alignmentgroup": "True",
         "hovertemplate": "fuel=FCEV<br>cap type=%{x}<br>mode=MD Truck<br>vintage=2035<br>capacity=%{y}<extra></extra>",
         "legendgroup": "FCEV, new capacity",
         "marker": {
          "color": "rgb(165, 170, 153)",
          "pattern": {
           "shape": "."
          }
         },
         "name": "FCEV",
         "offsetgroup": "FCEV, new capacity",
         "orientation": "v",
         "showlegend": false,
         "textfont": {
          "size": 11
         },
         "textposition": "auto",
         "texttemplate": "%{y:.2f}",
         "type": "bar",
         "x": [
          "new capacity"
         ],
         "xaxis": "x4",
         "y": [
          0.1818775161602861
         ],
         "yaxis": "y4"
        },
        {
         "alignmentgroup": "True",
         "hovertemplate": "fuel=FCEV<br>cap type=%{x}<br>mode=MD Truck<br>vintage=2040<br>capacity=%{y}<extra></extra>",
         "legendgroup": "FCEV, new capacity",
         "marker": {
          "color": "rgb(165, 170, 153)",
          "pattern": {
           "shape": "."
          }
         },
         "name": "FCEV",
         "offsetgroup": "FCEV, new capacity",
         "orientation": "v",
         "showlegend": false,
         "textfont": {
          "size": 11
         },
         "textposition": "auto",
         "texttemplate": "%{y:.2f}",
         "type": "bar",
         "x": [
          "new capacity"
         ],
         "xaxis": "x5",
         "y": [
          0.21809634371630324
         ],
         "yaxis": "y5"
        },
        {
         "alignmentgroup": "True",
         "hovertemplate": "fuel=FCEV<br>cap type=%{x}<br>mode=MD Truck<br>vintage=2045<br>capacity=%{y}<extra></extra>",
         "legendgroup": "FCEV, new capacity",
         "marker": {
          "color": "rgb(165, 170, 153)",
          "pattern": {
           "shape": "."
          }
         },
         "name": "FCEV",
         "offsetgroup": "FCEV, new capacity",
         "orientation": "v",
         "showlegend": false,
         "textfont": {
          "size": 11
         },
         "textposition": "auto",
         "texttemplate": "%{y:.2f}",
         "type": "bar",
         "x": [
          "new capacity"
         ],
         "xaxis": "x6",
         "y": [
          0.13175857603735006
         ],
         "yaxis": "y6"
        },
        {
         "alignmentgroup": "True",
         "hovertemplate": "fuel=FCEV<br>cap type=%{x}<br>mode=MD Truck<br>vintage=2050<br>capacity=%{y}<extra></extra>",
         "legendgroup": "FCEV, new capacity",
         "marker": {
          "color": "rgb(165, 170, 153)",
          "pattern": {
           "shape": "."
          }
         },
         "name": "FCEV",
         "offsetgroup": "FCEV, new capacity",
         "orientation": "v",
         "showlegend": false,
         "textfont": {
          "size": 11
         },
         "textposition": "auto",
         "texttemplate": "%{y:.2f}",
         "type": "bar",
         "x": [
          "new capacity"
         ],
         "xaxis": "x7",
         "y": [
          0.18306128829249094
         ],
         "yaxis": "y7"
        },
        {
         "alignmentgroup": "True",
         "hovertemplate": "fuel=FCEV<br>cap type=%{x}<br>mode=HD Truck<br>vintage=2050<br>capacity=%{y}<extra></extra>",
         "legendgroup": "FCEV, retired cap",
         "marker": {
          "color": "rgb(165, 170, 153)",
          "pattern": {
           "shape": "/"
          }
         },
         "name": "FCEV",
         "offsetgroup": "FCEV, retired cap",
         "orientation": "v",
         "showlegend": false,
         "textfont": {
          "size": 11
         },
         "textposition": "auto",
         "texttemplate": "%{y:.2f}",
         "type": "bar",
         "x": [
          "retired cap"
         ],
         "xaxis": "x14",
         "y": [
          -0.024836800982253236
         ],
         "yaxis": "y14"
        },
        {
         "alignmentgroup": "True",
         "hovertemplate": "fuel=FCEV<br>cap type=%{x}<br>mode=MD Truck<br>vintage=2040<br>capacity=%{y}<extra></extra>",
         "legendgroup": "FCEV, retired cap",
         "marker": {
          "color": "rgb(165, 170, 153)",
          "pattern": {
           "shape": "/"
          }
         },
         "name": "FCEV",
         "offsetgroup": "FCEV, retired cap",
         "orientation": "v",
         "showlegend": false,
         "textfont": {
          "size": 11
         },
         "textposition": "auto",
         "texttemplate": "%{y:.2f}",
         "type": "bar",
         "x": [
          "retired cap"
         ],
         "xaxis": "x5",
         "y": [
          -0.04955594892996498
         ],
         "yaxis": "y5"
        },
        {
         "alignmentgroup": "True",
         "hovertemplate": "fuel=FCEV<br>cap type=%{x}<br>mode=MD Truck<br>vintage=2045<br>capacity=%{y}<extra></extra>",
         "legendgroup": "FCEV, retired cap",
         "marker": {
          "color": "rgb(165, 170, 153)",
          "pattern": {
           "shape": "/"
          }
         },
         "name": "FCEV",
         "offsetgroup": "FCEV, retired cap",
         "orientation": "v",
         "showlegend": false,
         "textfont": {
          "size": 11
         },
         "textposition": "auto",
         "texttemplate": "%{y:.2f}",
         "type": "bar",
         "x": [
          "retired cap"
         ],
         "xaxis": "x6",
         "y": [
          -0.08213041282334212
         ],
         "yaxis": "y6"
        },
        {
         "alignmentgroup": "True",
         "hovertemplate": "fuel=FCEV<br>cap type=%{x}<br>mode=MD Truck<br>vintage=2050<br>capacity=%{y}<extra></extra>",
         "legendgroup": "FCEV, retired cap",
         "marker": {
          "color": "rgb(165, 170, 153)",
          "pattern": {
           "shape": "/"
          }
         },
         "name": "FCEV",
         "offsetgroup": "FCEV, retired cap",
         "orientation": "v",
         "showlegend": false,
         "textfont": {
          "size": 11
         },
         "textposition": "auto",
         "texttemplate": "%{y:.2f}",
         "type": "bar",
         "x": [
          "retired cap"
         ],
         "xaxis": "x7",
         "y": [
          -0.11310941160180209
         ],
         "yaxis": "y7"
        },
        {
         "legendgroup": "Blank",
         "marker": {
          "color": "rgba(0,0,0,0)"
         },
         "name": "",
         "showlegend": true,
         "textfont": {
          "size": 11
         },
         "type": "bar",
         "x": [
          null
         ],
         "y": [
          null
         ]
        },
        {
         "legendgroup": "Capacity type",
         "legendgrouptitle": {
          "text": "Capacity type"
         },
         "marker": {
          "color": "rgba(0,0,0,0)",
          "line": {
           "color": "black",
           "width": 1
          },
          "pattern": {
           "shape": ""
          }
         },
         "name": "Net capacity",
         "showlegend": true,
         "textfont": {
          "size": 11
         },
         "type": "bar",
         "x": [
          null
         ],
         "y": [
          null
         ]
        },
        {
         "legendgroup": "Capacity type",
         "marker": {
          "color": "rgba(0,0,0,0)",
          "line": {
           "color": "black",
           "width": 1
          },
          "pattern": {
           "shape": "."
          }
         },
         "name": "New capacity",
         "showlegend": true,
         "textfont": {
          "size": 11
         },
         "type": "bar",
         "x": [
          null
         ],
         "y": [
          null
         ]
        },
        {
         "legendgroup": "Capacity type",
         "marker": {
          "color": "rgba(0,0,0,0)",
          "line": {
           "color": "black",
           "width": 1
          },
          "pattern": {
           "shape": "/"
          }
         },
         "name": "Retired capacity",
         "showlegend": true,
         "textfont": {
          "size": 11
         },
         "type": "bar",
         "x": [
          null
         ],
         "y": [
          null
         ]
        }
       ],
       "layout": {
        "annotations": [
         {
          "showarrow": false,
          "text": "2021",
          "x": 0.06142857142857142,
          "xanchor": "center",
          "xref": "paper",
          "y": 0.005,
          "yanchor": "top",
          "yref": "paper"
         },
         {
          "showarrow": false,
          "text": "2025",
          "x": 0.20428571428571426,
          "xanchor": "center",
          "xref": "paper",
          "y": 0.005,
          "yanchor": "top",
          "yref": "paper"
         },
         {
          "showarrow": false,
          "text": "2030",
          "x": 0.3471428571428571,
          "xanchor": "center",
          "xref": "paper",
          "y": 0.005,
          "yanchor": "top",
          "yref": "paper"
         },
         {
          "showarrow": false,
          "text": "2035",
          "x": 0.49,
          "xanchor": "center",
          "xref": "paper",
          "y": 0.005,
          "yanchor": "top",
          "yref": "paper"
         },
         {
          "showarrow": false,
          "text": "2040",
          "x": 0.6328571428571428,
          "xanchor": "center",
          "xref": "paper",
          "y": 0.005,
          "yanchor": "top",
          "yref": "paper"
         },
         {
          "showarrow": false,
          "text": "2045",
          "x": 0.7757142857142856,
          "xanchor": "center",
          "xref": "paper",
          "y": 0.005,
          "yanchor": "top",
          "yref": "paper"
         },
         {
          "showarrow": false,
          "text": "2050",
          "x": 0.9185714285714286,
          "xanchor": "center",
          "xref": "paper",
          "y": 0.005,
          "yanchor": "top",
          "yref": "paper"
         },
         {
          "font": {
           "size": 16
          },
          "showarrow": false,
          "text": "Class: MD Truck",
          "textangle": 90,
          "x": 1.01,
          "xanchor": "center",
          "xref": "paper",
          "y": 0.2475,
          "yanchor": "middle",
          "yref": "paper"
         },
         {
          "font": {
           "size": 16
          },
          "showarrow": false,
          "text": "Class: HD Truck",
          "textangle": 90,
          "x": 1.01,
          "xanchor": "center",
          "xref": "paper",
          "y": 0.7525,
          "yanchor": "middle",
          "yref": "paper"
         },
         {
          "font": {
           "size": 17
          },
          "showarrow": false,
          "text": "Fleet capacity (M units)",
          "textangle": -90,
          "x": -0.07,
          "xref": "paper",
          "y": 0.5,
          "yref": "paper"
         }
        ],
        "bargap": 0.1,
        "barmode": "relative",
        "font": {
         "size": 15
        },
        "height": 800,
        "legend": {
         "orientation": "v",
         "title": {
          "text": "Fuel type"
         },
         "tracegroupgap": 0,
         "x": 1.15,
         "xanchor": "center",
         "y": 0.8,
         "yanchor": "top"
        },
        "margin": {
         "b": 10,
         "t": 10
        },
        "template": {
         "data": {
          "bar": [
           {
            "error_x": {
             "color": "#2a3f5f"
            },
            "error_y": {
             "color": "#2a3f5f"
            },
            "marker": {
             "line": {
              "color": "white",
              "width": 0.5
             },
             "pattern": {
              "fillmode": "overlay",
              "size": 10,
              "solidity": 0.2
             }
            },
            "type": "bar"
           }
          ],
          "barpolar": [
           {
            "marker": {
             "line": {
              "color": "white",
              "width": 0.5
             },
             "pattern": {
              "fillmode": "overlay",
              "size": 10,
              "solidity": 0.2
             }
            },
            "type": "barpolar"
           }
          ],
          "carpet": [
           {
            "aaxis": {
             "endlinecolor": "#2a3f5f",
             "gridcolor": "#C8D4E3",
             "linecolor": "#C8D4E3",
             "minorgridcolor": "#C8D4E3",
             "startlinecolor": "#2a3f5f"
            },
            "baxis": {
             "endlinecolor": "#2a3f5f",
             "gridcolor": "#C8D4E3",
             "linecolor": "#C8D4E3",
             "minorgridcolor": "#C8D4E3",
             "startlinecolor": "#2a3f5f"
            },
            "type": "carpet"
           }
          ],
          "choropleth": [
           {
            "colorbar": {
             "outlinewidth": 0,
             "ticks": ""
            },
            "type": "choropleth"
           }
          ],
          "contour": [
           {
            "colorbar": {
             "outlinewidth": 0,
             "ticks": ""
            },
            "colorscale": [
             [
              0,
              "#0d0887"
             ],
             [
              0.1111111111111111,
              "#46039f"
             ],
             [
              0.2222222222222222,
              "#7201a8"
             ],
             [
              0.3333333333333333,
              "#9c179e"
             ],
             [
              0.4444444444444444,
              "#bd3786"
             ],
             [
              0.5555555555555556,
              "#d8576b"
             ],
             [
              0.6666666666666666,
              "#ed7953"
             ],
             [
              0.7777777777777778,
              "#fb9f3a"
             ],
             [
              0.8888888888888888,
              "#fdca26"
             ],
             [
              1,
              "#f0f921"
             ]
            ],
            "type": "contour"
           }
          ],
          "contourcarpet": [
           {
            "colorbar": {
             "outlinewidth": 0,
             "ticks": ""
            },
            "type": "contourcarpet"
           }
          ],
          "heatmap": [
           {
            "colorbar": {
             "outlinewidth": 0,
             "ticks": ""
            },
            "colorscale": [
             [
              0,
              "#0d0887"
             ],
             [
              0.1111111111111111,
              "#46039f"
             ],
             [
              0.2222222222222222,
              "#7201a8"
             ],
             [
              0.3333333333333333,
              "#9c179e"
             ],
             [
              0.4444444444444444,
              "#bd3786"
             ],
             [
              0.5555555555555556,
              "#d8576b"
             ],
             [
              0.6666666666666666,
              "#ed7953"
             ],
             [
              0.7777777777777778,
              "#fb9f3a"
             ],
             [
              0.8888888888888888,
              "#fdca26"
             ],
             [
              1,
              "#f0f921"
             ]
            ],
            "type": "heatmap"
           }
          ],
          "heatmapgl": [
           {
            "colorbar": {
             "outlinewidth": 0,
             "ticks": ""
            },
            "colorscale": [
             [
              0,
              "#0d0887"
             ],
             [
              0.1111111111111111,
              "#46039f"
             ],
             [
              0.2222222222222222,
              "#7201a8"
             ],
             [
              0.3333333333333333,
              "#9c179e"
             ],
             [
              0.4444444444444444,
              "#bd3786"
             ],
             [
              0.5555555555555556,
              "#d8576b"
             ],
             [
              0.6666666666666666,
              "#ed7953"
             ],
             [
              0.7777777777777778,
              "#fb9f3a"
             ],
             [
              0.8888888888888888,
              "#fdca26"
             ],
             [
              1,
              "#f0f921"
             ]
            ],
            "type": "heatmapgl"
           }
          ],
          "histogram": [
           {
            "marker": {
             "pattern": {
              "fillmode": "overlay",
              "size": 10,
              "solidity": 0.2
             }
            },
            "type": "histogram"
           }
          ],
          "histogram2d": [
           {
            "colorbar": {
             "outlinewidth": 0,
             "ticks": ""
            },
            "colorscale": [
             [
              0,
              "#0d0887"
             ],
             [
              0.1111111111111111,
              "#46039f"
             ],
             [
              0.2222222222222222,
              "#7201a8"
             ],
             [
              0.3333333333333333,
              "#9c179e"
             ],
             [
              0.4444444444444444,
              "#bd3786"
             ],
             [
              0.5555555555555556,
              "#d8576b"
             ],
             [
              0.6666666666666666,
              "#ed7953"
             ],
             [
              0.7777777777777778,
              "#fb9f3a"
             ],
             [
              0.8888888888888888,
              "#fdca26"
             ],
             [
              1,
              "#f0f921"
             ]
            ],
            "type": "histogram2d"
           }
          ],
          "histogram2dcontour": [
           {
            "colorbar": {
             "outlinewidth": 0,
             "ticks": ""
            },
            "colorscale": [
             [
              0,
              "#0d0887"
             ],
             [
              0.1111111111111111,
              "#46039f"
             ],
             [
              0.2222222222222222,
              "#7201a8"
             ],
             [
              0.3333333333333333,
              "#9c179e"
             ],
             [
              0.4444444444444444,
              "#bd3786"
             ],
             [
              0.5555555555555556,
              "#d8576b"
             ],
             [
              0.6666666666666666,
              "#ed7953"
             ],
             [
              0.7777777777777778,
              "#fb9f3a"
             ],
             [
              0.8888888888888888,
              "#fdca26"
             ],
             [
              1,
              "#f0f921"
             ]
            ],
            "type": "histogram2dcontour"
           }
          ],
          "mesh3d": [
           {
            "colorbar": {
             "outlinewidth": 0,
             "ticks": ""
            },
            "type": "mesh3d"
           }
          ],
          "parcoords": [
           {
            "line": {
             "colorbar": {
              "outlinewidth": 0,
              "ticks": ""
             }
            },
            "type": "parcoords"
           }
          ],
          "pie": [
           {
            "automargin": true,
            "type": "pie"
           }
          ],
          "scatter": [
           {
            "fillpattern": {
             "fillmode": "overlay",
             "size": 10,
             "solidity": 0.2
            },
            "type": "scatter"
           }
          ],
          "scatter3d": [
           {
            "line": {
             "colorbar": {
              "outlinewidth": 0,
              "ticks": ""
             }
            },
            "marker": {
             "colorbar": {
              "outlinewidth": 0,
              "ticks": ""
             }
            },
            "type": "scatter3d"
           }
          ],
          "scattercarpet": [
           {
            "marker": {
             "colorbar": {
              "outlinewidth": 0,
              "ticks": ""
             }
            },
            "type": "scattercarpet"
           }
          ],
          "scattergeo": [
           {
            "marker": {
             "colorbar": {
              "outlinewidth": 0,
              "ticks": ""
             }
            },
            "type": "scattergeo"
           }
          ],
          "scattergl": [
           {
            "marker": {
             "colorbar": {
              "outlinewidth": 0,
              "ticks": ""
             }
            },
            "type": "scattergl"
           }
          ],
          "scattermapbox": [
           {
            "marker": {
             "colorbar": {
              "outlinewidth": 0,
              "ticks": ""
             }
            },
            "type": "scattermapbox"
           }
          ],
          "scatterpolar": [
           {
            "marker": {
             "colorbar": {
              "outlinewidth": 0,
              "ticks": ""
             }
            },
            "type": "scatterpolar"
           }
          ],
          "scatterpolargl": [
           {
            "marker": {
             "colorbar": {
              "outlinewidth": 0,
              "ticks": ""
             }
            },
            "type": "scatterpolargl"
           }
          ],
          "scatterternary": [
           {
            "marker": {
             "colorbar": {
              "outlinewidth": 0,
              "ticks": ""
             }
            },
            "type": "scatterternary"
           }
          ],
          "surface": [
           {
            "colorbar": {
             "outlinewidth": 0,
             "ticks": ""
            },
            "colorscale": [
             [
              0,
              "#0d0887"
             ],
             [
              0.1111111111111111,
              "#46039f"
             ],
             [
              0.2222222222222222,
              "#7201a8"
             ],
             [
              0.3333333333333333,
              "#9c179e"
             ],
             [
              0.4444444444444444,
              "#bd3786"
             ],
             [
              0.5555555555555556,
              "#d8576b"
             ],
             [
              0.6666666666666666,
              "#ed7953"
             ],
             [
              0.7777777777777778,
              "#fb9f3a"
             ],
             [
              0.8888888888888888,
              "#fdca26"
             ],
             [
              1,
              "#f0f921"
             ]
            ],
            "type": "surface"
           }
          ],
          "table": [
           {
            "cells": {
             "fill": {
              "color": "#EBF0F8"
             },
             "line": {
              "color": "white"
             }
            },
            "header": {
             "fill": {
              "color": "#C8D4E3"
             },
             "line": {
              "color": "white"
             }
            },
            "type": "table"
           }
          ]
         },
         "layout": {
          "annotationdefaults": {
           "arrowcolor": "#2a3f5f",
           "arrowhead": 0,
           "arrowwidth": 1
          },
          "autotypenumbers": "strict",
          "coloraxis": {
           "colorbar": {
            "outlinewidth": 0,
            "ticks": ""
           }
          },
          "colorscale": {
           "diverging": [
            [
             0,
             "#8e0152"
            ],
            [
             0.1,
             "#c51b7d"
            ],
            [
             0.2,
             "#de77ae"
            ],
            [
             0.3,
             "#f1b6da"
            ],
            [
             0.4,
             "#fde0ef"
            ],
            [
             0.5,
             "#f7f7f7"
            ],
            [
             0.6,
             "#e6f5d0"
            ],
            [
             0.7,
             "#b8e186"
            ],
            [
             0.8,
             "#7fbc41"
            ],
            [
             0.9,
             "#4d9221"
            ],
            [
             1,
             "#276419"
            ]
           ],
           "sequential": [
            [
             0,
             "#0d0887"
            ],
            [
             0.1111111111111111,
             "#46039f"
            ],
            [
             0.2222222222222222,
             "#7201a8"
            ],
            [
             0.3333333333333333,
             "#9c179e"
            ],
            [
             0.4444444444444444,
             "#bd3786"
            ],
            [
             0.5555555555555556,
             "#d8576b"
            ],
            [
             0.6666666666666666,
             "#ed7953"
            ],
            [
             0.7777777777777778,
             "#fb9f3a"
            ],
            [
             0.8888888888888888,
             "#fdca26"
            ],
            [
             1,
             "#f0f921"
            ]
           ],
           "sequentialminus": [
            [
             0,
             "#0d0887"
            ],
            [
             0.1111111111111111,
             "#46039f"
            ],
            [
             0.2222222222222222,
             "#7201a8"
            ],
            [
             0.3333333333333333,
             "#9c179e"
            ],
            [
             0.4444444444444444,
             "#bd3786"
            ],
            [
             0.5555555555555556,
             "#d8576b"
            ],
            [
             0.6666666666666666,
             "#ed7953"
            ],
            [
             0.7777777777777778,
             "#fb9f3a"
            ],
            [
             0.8888888888888888,
             "#fdca26"
            ],
            [
             1,
             "#f0f921"
            ]
           ]
          },
          "colorway": [
           "#636efa",
           "#EF553B",
           "#00cc96",
           "#ab63fa",
           "#FFA15A",
           "#19d3f3",
           "#FF6692",
           "#B6E880",
           "#FF97FF",
           "#FECB52"
          ],
          "font": {
           "color": "#2a3f5f"
          },
          "geo": {
           "bgcolor": "white",
           "lakecolor": "white",
           "landcolor": "white",
           "showlakes": true,
           "showland": true,
           "subunitcolor": "#C8D4E3"
          },
          "hoverlabel": {
           "align": "left"
          },
          "hovermode": "closest",
          "mapbox": {
           "style": "light"
          },
          "paper_bgcolor": "white",
          "plot_bgcolor": "white",
          "polar": {
           "angularaxis": {
            "gridcolor": "#EBF0F8",
            "linecolor": "#EBF0F8",
            "ticks": ""
           },
           "bgcolor": "white",
           "radialaxis": {
            "gridcolor": "#EBF0F8",
            "linecolor": "#EBF0F8",
            "ticks": ""
           }
          },
          "scene": {
           "xaxis": {
            "backgroundcolor": "white",
            "gridcolor": "#DFE8F3",
            "gridwidth": 2,
            "linecolor": "#EBF0F8",
            "showbackground": true,
            "ticks": "",
            "zerolinecolor": "#EBF0F8"
           },
           "yaxis": {
            "backgroundcolor": "white",
            "gridcolor": "#DFE8F3",
            "gridwidth": 2,
            "linecolor": "#EBF0F8",
            "showbackground": true,
            "ticks": "",
            "zerolinecolor": "#EBF0F8"
           },
           "zaxis": {
            "backgroundcolor": "white",
            "gridcolor": "#DFE8F3",
            "gridwidth": 2,
            "linecolor": "#EBF0F8",
            "showbackground": true,
            "ticks": "",
            "zerolinecolor": "#EBF0F8"
           }
          },
          "shapedefaults": {
           "line": {
            "color": "#2a3f5f"
           }
          },
          "ternary": {
           "aaxis": {
            "gridcolor": "#DFE8F3",
            "linecolor": "#A2B1C6",
            "ticks": ""
           },
           "baxis": {
            "gridcolor": "#DFE8F3",
            "linecolor": "#A2B1C6",
            "ticks": ""
           },
           "bgcolor": "white",
           "caxis": {
            "gridcolor": "#DFE8F3",
            "linecolor": "#A2B1C6",
            "ticks": ""
           }
          },
          "title": {
           "x": 0.05
          },
          "xaxis": {
           "automargin": true,
           "gridcolor": "#EBF0F8",
           "linecolor": "#EBF0F8",
           "ticks": "",
           "title": {
            "standoff": 15
           },
           "zerolinecolor": "#EBF0F8",
           "zerolinewidth": 2
          },
          "yaxis": {
           "automargin": true,
           "gridcolor": "#EBF0F8",
           "linecolor": "#EBF0F8",
           "ticks": "",
           "title": {
            "standoff": 15
           },
           "zerolinecolor": "#EBF0F8",
           "zerolinewidth": 2
          }
         }
        },
        "title": {
         "text": "Transport LDV fleet stock and flow in ON by vehicle class and drivetrain",
         "x": 0.5,
         "xanchor": "center",
         "y": 0.97,
         "yanchor": "top"
        },
        "width": 1200,
        "xaxis": {
         "anchor": "y",
         "categoryarray": [
          "net capacity",
          "new capacity",
          "retired cap"
         ],
         "categoryorder": "array",
         "domain": [
          0,
          0.12285714285714285
         ],
         "showticklabels": false,
         "title": {
          "text": ""
         }
        },
        "xaxis10": {
         "anchor": "y10",
         "domain": [
          0.2857142857142857,
          0.40857142857142853
         ],
         "matches": "x",
         "showticklabels": false,
         "title": {
          "text": ""
         }
        },
        "xaxis11": {
         "anchor": "y11",
         "domain": [
          0.42857142857142855,
          0.5514285714285714
         ],
         "matches": "x",
         "showticklabels": false,
         "title": {
          "text": ""
         }
        },
        "xaxis12": {
         "anchor": "y12",
         "domain": [
          0.5714285714285714,
          0.6942857142857143
         ],
         "matches": "x",
         "showticklabels": false,
         "title": {
          "text": ""
         }
        },
        "xaxis13": {
         "anchor": "y13",
         "domain": [
          0.7142857142857142,
          0.8371428571428571
         ],
         "matches": "x",
         "showticklabels": false,
         "title": {
          "text": ""
         }
        },
        "xaxis14": {
         "anchor": "y14",
         "domain": [
          0.8571428571428571,
          0.98
         ],
         "matches": "x",
         "showticklabels": false,
         "title": {
          "text": ""
         }
        },
        "xaxis2": {
         "anchor": "y2",
         "categoryarray": [
          "net capacity",
          "new capacity",
          "retired cap"
         ],
         "categoryorder": "array",
         "domain": [
          0.14285714285714285,
          0.2657142857142857
         ],
         "matches": "x",
         "showticklabels": false,
         "title": {
          "text": ""
         }
        },
        "xaxis3": {
         "anchor": "y3",
         "categoryarray": [
          "net capacity",
          "new capacity",
          "retired cap"
         ],
         "categoryorder": "array",
         "domain": [
          0.2857142857142857,
          0.40857142857142853
         ],
         "matches": "x",
         "showticklabels": false,
         "title": {
          "text": ""
         }
        },
        "xaxis4": {
         "anchor": "y4",
         "categoryarray": [
          "net capacity",
          "new capacity",
          "retired cap"
         ],
         "categoryorder": "array",
         "domain": [
          0.42857142857142855,
          0.5514285714285714
         ],
         "matches": "x",
         "showticklabels": false,
         "title": {
          "text": ""
         }
        },
        "xaxis5": {
         "anchor": "y5",
         "categoryarray": [
          "net capacity",
          "new capacity",
          "retired cap"
         ],
         "categoryorder": "array",
         "domain": [
          0.5714285714285714,
          0.6942857142857143
         ],
         "matches": "x",
         "showticklabels": false,
         "title": {
          "text": ""
         }
        },
        "xaxis6": {
         "anchor": "y6",
         "categoryarray": [
          "net capacity",
          "new capacity",
          "retired cap"
         ],
         "categoryorder": "array",
         "domain": [
          0.7142857142857142,
          0.8371428571428571
         ],
         "matches": "x",
         "showticklabels": false,
         "title": {
          "text": ""
         }
        },
        "xaxis7": {
         "anchor": "y7",
         "categoryarray": [
          "net capacity",
          "new capacity",
          "retired cap"
         ],
         "categoryorder": "array",
         "domain": [
          0.8571428571428571,
          0.98
         ],
         "matches": "x",
         "showticklabels": false,
         "title": {
          "text": ""
         }
        },
        "xaxis8": {
         "anchor": "y8",
         "domain": [
          0,
          0.12285714285714285
         ],
         "matches": "x",
         "showticklabels": false,
         "title": {
          "text": ""
         }
        },
        "xaxis9": {
         "anchor": "y9",
         "domain": [
          0.14285714285714285,
          0.2657142857142857
         ],
         "matches": "x",
         "showticklabels": false,
         "title": {
          "text": ""
         }
        },
        "yaxis": {
         "anchor": "x",
         "domain": [
          0,
          0.495
         ],
         "dtick": 2,
         "title": {
          "standoff": 0,
          "text": ""
         }
        },
        "yaxis10": {
         "anchor": "x10",
         "domain": [
          0.505,
          1
         ],
         "dtick": 2,
         "matches": "y",
         "showticklabels": false,
         "title": {
          "text": ""
         }
        },
        "yaxis11": {
         "anchor": "x11",
         "domain": [
          0.505,
          1
         ],
         "dtick": 2,
         "matches": "y",
         "showticklabels": false,
         "title": {
          "text": ""
         }
        },
        "yaxis12": {
         "anchor": "x12",
         "domain": [
          0.505,
          1
         ],
         "dtick": 2,
         "matches": "y",
         "showticklabels": false,
         "title": {
          "text": ""
         }
        },
        "yaxis13": {
         "anchor": "x13",
         "domain": [
          0.505,
          1
         ],
         "dtick": 2,
         "matches": "y",
         "showticklabels": false,
         "title": {
          "text": ""
         }
        },
        "yaxis14": {
         "anchor": "x14",
         "domain": [
          0.505,
          1
         ],
         "dtick": 2,
         "matches": "y",
         "showticklabels": false,
         "title": {
          "text": ""
         }
        },
        "yaxis2": {
         "anchor": "x2",
         "domain": [
          0,
          0.495
         ],
         "dtick": 2,
         "matches": "y",
         "showticklabels": false,
         "title": {
          "text": ""
         }
        },
        "yaxis3": {
         "anchor": "x3",
         "domain": [
          0,
          0.495
         ],
         "dtick": 2,
         "matches": "y",
         "showticklabels": false,
         "title": {
          "text": ""
         }
        },
        "yaxis4": {
         "anchor": "x4",
         "domain": [
          0,
          0.495
         ],
         "dtick": 2,
         "matches": "y",
         "showticklabels": false,
         "title": {
          "text": ""
         }
        },
        "yaxis5": {
         "anchor": "x5",
         "domain": [
          0,
          0.495
         ],
         "dtick": 2,
         "matches": "y",
         "showticklabels": false,
         "title": {
          "text": ""
         }
        },
        "yaxis6": {
         "anchor": "x6",
         "domain": [
          0,
          0.495
         ],
         "dtick": 2,
         "matches": "y",
         "showticklabels": false,
         "title": {
          "text": ""
         }
        },
        "yaxis7": {
         "anchor": "x7",
         "domain": [
          0,
          0.495
         ],
         "dtick": 2,
         "matches": "y",
         "showticklabels": false,
         "title": {
          "text": ""
         }
        },
        "yaxis8": {
         "anchor": "x8",
         "domain": [
          0.505,
          1
         ],
         "dtick": 2,
         "matches": "y",
         "title": {
          "text": ""
         }
        },
        "yaxis9": {
         "anchor": "x9",
         "domain": [
          0.505,
          1
         ],
         "dtick": 2,
         "matches": "y",
         "showticklabels": false,
         "title": {
          "text": ""
         }
        }
       }
      }
     },
     "metadata": {},
     "output_type": "display_data"
    }
   ],
   "source": [
    "fig = px.bar(cap, x='cap type', y='capacity', color='fuel', \n",
    "            pattern_shape='cap type', pattern_shape_sequence=[\"\", \".\", \"/\"],\n",
    "            facet_col='vintage', facet_col_spacing=2E-2, \n",
    "            facet_row='mode', facet_row_spacing=1E-2,\n",
    "            category_orders={\"cap type\": [\"net capacity\", \"new capacity\", \"retired cap\"],\n",
    "                             \"fuel\": ['Gasoline', 'Diesel', 'CNG', 'BEV150', 'BEV200', 'BEV300', 'BEV400', 'HEV', 'PHEV35', 'PHEV50', 'FCEV']},\n",
    "            # labels={'capacity': 'Fleet capacity (M units)', 'fuel': 'Fuel type'},\n",
    "            template='plotly_white', orientation='v', color_discrete_sequence=px.colors.qualitative.Bold,\n",
    "            text_auto='.2f',\n",
    "            width=1200, height=800\n",
    "            )\n",
    "\n",
    "dummy_traces = [\n",
    "    dict(\n",
    "        name='',  # Empty legend\n",
    "        x=[None], \n",
    "        y=[None], \n",
    "        marker=dict(color='rgba(0,0,0,0)'),\n",
    "        showlegend=True,\n",
    "        legendgroup='Blank',\n",
    "        legendgrouptitle=None\n",
    "    ),\n",
    "    # dict(\n",
    "    #     name=' ',  # Another empty legend\n",
    "    #     x=[None], \n",
    "    #     y=[None], \n",
    "    #     marker=dict(color='rgba(0,0,0,0)'),\n",
    "    #     showlegend=True,\n",
    "    #     legendgroup='Blank',\n",
    "    #     legendgrouptitle=None   \n",
    "    # ),\n",
    "    dict(\n",
    "        name='Net capacity',\n",
    "        x=[None], \n",
    "        y=[None], \n",
    "        marker=dict(\n",
    "            color='rgba(0,0,0,0)',\n",
    "            line=dict(color='black', width=1),  # Thin black border\n",
    "            pattern_shape=\"\"\n",
    "        ),\n",
    "        showlegend=True,\n",
    "        legendgroup='Capacity type',\n",
    "        legendgrouptitle=dict(text=\"Capacity type\"),\n",
    "    ),\n",
    "    dict(\n",
    "        name='New capacity',\n",
    "        x=[None], \n",
    "        y=[None], \n",
    "        marker=dict(\n",
    "            color='rgba(0,0,0,0)',\n",
    "            line=dict(color='black', width=1),  # Thin black border\n",
    "            pattern_shape=\".\"\n",
    "        ),\n",
    "        showlegend=True,\n",
    "        legendgroup='Capacity type',\n",
    "        legendgrouptitle=None\n",
    "    ),\n",
    "    dict(\n",
    "        name='Retired capacity',\n",
    "        x=[None], \n",
    "        y=[None], \n",
    "        marker=dict(\n",
    "            color='rgba(0,0,0,0)',\n",
    "            line=dict(color='black', width=1),  # Thin black border\n",
    "            pattern_shape=\"/\"\n",
    "        ),\n",
    "        showlegend=True,\n",
    "        legendgroup='Capacity type',\n",
    "        legendgrouptitle=None\n",
    "    )\n",
    "]\n",
    "\n",
    "for trace in dummy_traces:\n",
    "    fig.add_bar(\n",
    "        x=trace['x'], \n",
    "        y=trace['y'], \n",
    "        name=trace['name'], \n",
    "        marker=trace['marker'], \n",
    "        showlegend=trace['showlegend'],\n",
    "        legendgroup=trace['legendgroup'],\n",
    "        legendgrouptitle=trace['legendgrouptitle']\n",
    "    )\n",
    "\n",
    "fig.update_layout(\n",
    "    margin=dict(\n",
    "        t=10, b=10\n",
    "    ),\n",
    "    title=dict(\n",
    "        text='Transport LDV fleet stock and flow in ON by vehicle class and drivetrain',\n",
    "        x=0.5, \n",
    "        y=0.97,\n",
    "        xanchor='center',\n",
    "        yanchor='top'\n",
    "    ),\n",
    "    yaxis_title_standoff=0,\n",
    "    legend_title_text='Fuel type',\n",
    "    bargap=0.1,\n",
    "    legend=dict(\n",
    "        orientation='v',\n",
    "        # entrywidth=50,\n",
    "        yanchor='top',\n",
    "        y=0.8,  \n",
    "        xanchor='center',\n",
    "        x=1.15),\n",
    "    font=dict(\n",
    "        size=15)\n",
    "    )\n",
    "\n",
    "fig.for_each_trace(lambda trace: trace.update(textfont=dict(size=11)))\n",
    "\n",
    "# fig.update_xaxes(tickvals=[\"net capacity\", \"new capacity\", \"retired cap\"],\n",
    "#                  ticktext=[\"Net\", \"New\", \"Retired\"], \n",
    "#                  tickangle=45\n",
    "#                  )\n",
    "\n",
    "for axis in fig.layout:\n",
    "    if axis.startswith('xaxis'):\n",
    "        fig.layout[axis].title.text = ''\n",
    "        fig.layout[axis].showticklabels = False\n",
    "    if axis.startswith('yaxis'):\n",
    "        fig.layout[axis].title.text = ''\n",
    "        fig.layout[axis].dtick = 2\n",
    "\n",
    "for annotation in fig.layout.annotations:\n",
    "    if 'mode' in annotation.text:\n",
    "        annotation.text = 'Class: ' + annotation.text.split('=')[1]\n",
    "        annotation.font.size = 16\n",
    "        annotation.x = 1.01\n",
    "        annotation.xanchor = 'center'\n",
    "    else:\n",
    "        annotation.text = annotation.text.split('=')[1]\n",
    "        annotation.y = 0.005\n",
    "        annotation.yanchor = 'top' \n",
    "\n",
    "shown_legends = set()\n",
    "for trace in fig.data:\n",
    "    trace.name = trace.name.split(\",\")[0]\n",
    "    if trace.name not in shown_legends:\n",
    "        trace.showlegend = True\n",
    "        shown_legends.add(trace.name)\n",
    "    else:\n",
    "        trace.showlegend = False\n",
    "\n",
    "fig.add_annotation(\n",
    "    text=\"Fleet capacity (M units)\",\n",
    "    x=-0.07,\n",
    "    y=0.5,\n",
    "    xref=\"paper\",\n",
    "    yref=\"paper\",\n",
    "    showarrow=False,\n",
    "    textangle=-90,\n",
    "    font=dict(size=17))\n",
    "\n",
    "fig.show()\n",
    "\n",
    "# fig.write_image(\"vanilla2_fleet_flow.svg\", scale=1, engine='kaleido')"
   ]
  },
  {
   "cell_type": "code",
   "execution_count": 17,
   "metadata": {},
   "outputs": [],
   "source": [
    "# fig = px.bar(cap[cap['cap type'] != 'net capacity'], x='vintage', y='capacity', color='fuel', pattern_shape='cap type', \n",
    "#             #  facet_col='vintage', facet_col_spacing=2E-2,\n",
    "#              pattern_shape_sequence=[\"\", \".\", \"/\"],\n",
    "#              labels={'vintage':'Period', 'capacity':'Capacity (M units)'},\n",
    "#              template='plotly_white', orientation='v', color_discrete_sequence=px.colors.qualitative.Bold,\n",
    "#              text_auto='.3f',\n",
    "#             #  category_orders={\"scenario\": ['CP', 'CP TM', 'NZ', 'NZ TM']},\n",
    "#             width=1100, height=750\n",
    "#             )\n",
    "\n",
    "# total_cap = cap[cap['cap type'] == 'net capacity'].groupby('vintage', as_index=False).sum('capacity')\n",
    "# fig.add_trace(go.Scatter(x=total_cap['vintage'], y=total_cap['capacity'],\n",
    "#                          name='Net capacity', mode='lines+markers',\n",
    "#                          line=dict(color='black', width=2),\n",
    "#                          marker=dict(size=6)\n",
    "#                          ))\n",
    "\n",
    "# fig.update_layout(title=dict(\n",
    "#         text='Transport LDV fleet stock and flow in ON by vehicle class and drivetrain',\n",
    "#         x=0.5, \n",
    "#         y=0.97,\n",
    "#         xanchor='center',\n",
    "#         yanchor='top'\n",
    "#     ),\n",
    "#     # xaxis=dict(title='Period'),\n",
    "#     yaxis=dict(\n",
    "#         # title='Capacity (k units)',\n",
    "#             #    dtick=1\n",
    "#                ),\n",
    "#     yaxis_title_standoff=0,\n",
    "#     legend_title_text='Fuel type',\n",
    "#     bargap=0.25,\n",
    "#     # legend=dict(\n",
    "#     #     orientation='h',  \n",
    "#     #     yanchor='top',\n",
    "#     #     y=1.03,  \n",
    "#     #     xanchor='center',\n",
    "#     #     x=0.5),\n",
    "#     font=dict(\n",
    "#         # family=\"Open Sans\",\n",
    "#         size=14)\n",
    "#     )\n",
    "\n",
    "# for annotation in fig.layout.annotations:\n",
    "#     annotation.text = annotation.text.split('=')[1]\n",
    "#     annotation.y = -0.08  \n",
    "#     annotation.yanchor = 'top' \n",
    "\n",
    "# # for axis in fig.layout:\n",
    "# #     if axis.startswith('yaxis'):\n",
    "# #         fig.layout[axis].dtick = 1\n",
    "\n",
    "# # for axis in fig.layout:\n",
    "# #     if axis.startswith('xaxis'):\n",
    "# #         fig.layout[axis].title.text = ''\n",
    "\n",
    "# fig.for_each_trace(lambda trace: trace.update(textfont=dict(size=9)))\n",
    "\n",
    "# fig.show()"
   ]
  },
  {
   "cell_type": "code",
   "execution_count": 18,
   "metadata": {},
   "outputs": [],
   "source": [
    "# periods = ld_cap['vintage'].unique()\n",
    "# fuels = ld_cap['fuel'].unique()\n",
    "\n",
    "# # Prepare positions for the bars and assign colors for each fuel type\n",
    "# bar_width = 0.25\n",
    "# positions = np.arange(len(periods))\n",
    "# colors = plt.cm.get_cmap('tab20', len(fuels))\n",
    "\n",
    "# # Sorting and calculating cumulative sums separately for each capacity flow type (existing, retired, new)\n",
    "# cumulative_data = pd.DataFrame()\n",
    "\n",
    "# for vintage in periods:\n",
    "#     # Filter data for the current vintage\n",
    "#     vintage_data = ld_cap[ld_cap['vintage'] == vintage].copy()\n",
    "    \n",
    "#     # Ensure all fuels are present, reindex to match all fuel types\n",
    "#     vintage_data = vintage_data.set_index('fuel').reindex(fuels).fillna(0)\n",
    "    \n",
    "#     # Reset index back to fuel\n",
    "#     vintage_data = vintage_data.reset_index()\n",
    "    \n",
    "#     # Sort each capacity flow type (existing, retired, and new) in descending order separately\n",
    "#     vintage_data['ex capacity'] = vintage_data['ex capacity'].sort_values(ascending=False).values\n",
    "#     vintage_data['cumulative_ex_capacity'] = vintage_data['ex capacity'].cumsum()\n",
    "\n",
    "#     vintage_data['retired cap'] = vintage_data['retired cap'].sort_values(ascending=False).values\n",
    "#     vintage_data['cumulative_retired_capacity'] = vintage_data['retired cap'].cumsum()\n",
    "\n",
    "#     vintage_data['new capacity'] = vintage_data['new capacity'].sort_values(ascending=False).values\n",
    "#     vintage_data['cumulative_new_capacity'] = vintage_data['new capacity'].cumsum()\n",
    "    \n",
    "#     # Append to the cumulative dataframe\n",
    "#     cumulative_data = pd.concat([cumulative_data, vintage_data])\n",
    "\n",
    "# # Plot the waterfall chart\n",
    "# fig, ax = plt.subplots(figsize=(12, 7))\n",
    "\n",
    "# for i, fuel in enumerate(fuels):\n",
    "#     fuel_data = cumulative_data[cumulative_data['fuel'] == fuel]\n",
    "    \n",
    "#     # Plot existing capacity (stacked cumulatively)\n",
    "#     ax.bar(positions - bar_width - 0.05, fuel_data['cumulative_ex_capacity'], bar_width, label=f'{fuel}', color=colors(i))\n",
    "    \n",
    "#     # Plot retired capacity (negative and cumulative)\n",
    "#     retired_position = fuel_data['cumulative_ex_capacity']\n",
    "#     ax.bar(positions, -fuel_data['cumulative_retired_capacity'], bar_width, bottom=retired_position, color=colors(i))\n",
    "    \n",
    "#     # Plot new capacity (cumulative)\n",
    "#     new_position = retired_position - fuel_data['cumulative_retired_capacity']\n",
    "#     ax.bar(positions + bar_width + 0.05, fuel_data['cumulative_new_capacity'], bar_width, bottom=new_position, color=colors(i))\n",
    "\n",
    "# # Chart formatting\n",
    "# ax.set_title('Car Fleet Capacity (Cumulative) by Vintage and Fuel Type')\n",
    "# ax.set_xlabel('Vintage (Year)')\n",
    "# ax.set_ylabel('Cumulative Capacity')\n",
    "# ax.set_xticks(positions)\n",
    "# ax.set_xticklabels(periods)\n",
    "# ax.legend(loc='upper left', bbox_to_anchor=(1, 1), title=\"Fuel Type\")\n",
    "# # plt.grid(True)\n",
    "# plt.tight_layout()\n",
    "\n",
    "# # Show the final cumulative waterfall chart\n",
    "# plt.show()"
   ]
  },
  {
   "cell_type": "code",
   "execution_count": 19,
   "metadata": {},
   "outputs": [],
   "source": [
    "# fig = go.Figure()\n",
    "\n",
    "# # Handle the two stackgroups: positive for 'ex capacity' + 'new capacity' and negative for 'retired cap'\n",
    "# for fuel_type in car_cap['fuel'].unique():\n",
    "#     # Separate positive and negative capacities\n",
    "#     df_fuel_pos = car_cap[(car_cap['fuel'] == fuel_type) & (car_cap['capacity'] > 0)]\n",
    "#     df_fuel_neg = car_cap[(car_cap['fuel'] == fuel_type) & (car_cap['capacity'] < 0)]\n",
    "\n",
    "#     # Add positive capacities to the 'positive' stackgroup\n",
    "#     fig.add_trace(go.Scatter(\n",
    "#         x=df_fuel_pos['vintage'],\n",
    "#         y=df_fuel_pos['capacity'],\n",
    "#         mode='lines',\n",
    "#         name=f'{fuel_type} (positive)',\n",
    "#         stackgroup='positive',  # Positive stackgroup\n",
    "#         line=dict(width=0.5),\n",
    "#         fill='tonexty'\n",
    "#     ))\n",
    "\n",
    "#     # Add negative capacities to the 'negative' stackgroup\n",
    "#     fig.add_trace(go.Scatter(\n",
    "#         x=df_fuel_neg['vintage'],\n",
    "#         y=df_fuel_neg['capacity'],\n",
    "#         mode='lines',\n",
    "#         name=f'{fuel_type} (negative)',\n",
    "#         stackgroup='negative',  # Negative stackgroup\n",
    "#         line=dict(width=0.5),\n",
    "#         fill='tonexty'\n",
    "#     ))\n",
    "\n",
    "# # Update the layout for proper visualization\n",
    "# fig.update_layout(\n",
    "#     title=\"Stacked Capacity by Fuel and Vintage (Positive and Negative Values)\",\n",
    "#     xaxis_title=\"Vintage\",\n",
    "#     yaxis_title=\"Capacity\",\n",
    "#     yaxis_rangemode=\"normal\",  # Ensures negative values are displayed correctly\n",
    "#     showlegend=True,\n",
    "#     barmode='group'  # Ensures positive and negative stackgroups are separate\n",
    "# )\n",
    "\n",
    "# fig.update_xaxes(showgrid=False)\n",
    "# fig.update_layout(width=800,\n",
    "#                   height=600,\n",
    "#                   # title={'x':0.5,\n",
    "#                   #        'y':0.88},\n",
    "#                   # legend=dict(orientation='v',\n",
    "#                   #             y=1,\n",
    "#                   #             x=0.8)\n",
    "#                  )\n",
    "\n",
    "# fig.show()"
   ]
  },
  {
   "cell_type": "code",
   "execution_count": 20,
   "metadata": {},
   "outputs": [],
   "source": [
    "# pivoted_data = car_cap.pivot_table(index=['vintage', 'fuel', 'cap type'], values='capacity', aggfunc='sum').fillna(0).reset_index()\n",
    "\n",
    "# # Initialize a figure object\n",
    "# fig = go.Figure()\n",
    "\n",
    "# # Define a fillpattern for each capacity type\n",
    "# fill_patterns = {\n",
    "#     'ex capacity': None,  # No pattern for existing capacity\n",
    "#     'new capacity': {'shape': '/'},  # Diagonal stripes for new capacity\n",
    "#     'retired cap': {'shape': '.'}   # Dots for retired capacity\n",
    "# }\n",
    "\n",
    "# # Separate stackgroups for positive and negative values\n",
    "# for fuel in pivoted_data['fuel'].unique():\n",
    "#     # Loop for positive values (new and ex capacity)\n",
    "#     for cap_type, pattern in fill_patterns.items():\n",
    "#         if cap_type != 'retired cap':  # Only positive stackgroup for non-retired capacities\n",
    "#             fuel_data = pivoted_data[(pivoted_data['fuel'] == fuel) & (pivoted_data['cap type'] == cap_type)]\n",
    "#             fig.add_trace(go.Scatter(\n",
    "#                 x=fuel_data['vintage'],\n",
    "#                 y=fuel_data['capacity'],\n",
    "#                 stackgroup='positive',  # Positive stackgroup\n",
    "#                 name=f\"{fuel}\",\n",
    "#                 showlegend=(cap_type == 'ex capacity'),  # Show legend only once per fuel\n",
    "#                 fill='tonexty',\n",
    "#                 fillpattern=pattern if pattern else None,\n",
    "#                 hoverinfo='x+y+name'\n",
    "#             ))\n",
    "    \n",
    "#     # Loop for negative values (retired capacity)\n",
    "#     retired_data = pivoted_data[(pivoted_data['fuel'] == fuel) & (pivoted_data['cap type'] == 'retired cap')]\n",
    "#     fig.add_trace(go.Scatter(\n",
    "#         x=retired_data['vintage'],\n",
    "#         y=retired_data['capacity'],  # Negative values handled separately\n",
    "#         stackgroup='negative',  # Negative stackgroup for retired capacities\n",
    "#         name=f\"{fuel}\",\n",
    "#         fill='tonexty',\n",
    "#         fillpattern=fill_patterns['retired cap'],\n",
    "#         hoverinfo='x+y+name',\n",
    "#         showlegend=False  # Legend already added for the fuel\n",
    "#     ))\n",
    "\n",
    "# # Add a custom legend for the capacity type patterns using empty filled areas\n",
    "# pattern_legend_items = [\n",
    "#     go.Scatter(\n",
    "#         x=[None], y=[None],\n",
    "#         mode='lines',\n",
    "#         fill='toself',\n",
    "#         fillpattern=fill_patterns[cap_type],\n",
    "#         name=cap_type\n",
    "#     ) for cap_type in fill_patterns.keys() if fill_patterns[cap_type]  # Only create a legend item if there's a pattern\n",
    "# ]\n",
    "\n",
    "# # Add pattern legend items to the figure\n",
    "# for item in pattern_legend_items:\n",
    "#     fig.add_trace(item)\n",
    "\n",
    "# # Customize the layout\n",
    "# fig.update_layout(\n",
    "#     title=\"Stacked Area Plot with Patterns for Capacity Types\",\n",
    "#     xaxis_title=\"Vintage\",\n",
    "#     yaxis_title=\"Capacity\",\n",
    "#     showlegend=True,\n",
    "#     legend=dict(title=\"Fuel Type and Capacity Type\"),\n",
    "#     barmode='group',  # Grouped mode for the bar stacks\n",
    "#     yaxis=dict(rangemode=\"normal\")  # Ensure y-axis includes negative values\n",
    "# )\n",
    "\n",
    "# # Show or save the plot\n",
    "# # For displaying:\n",
    "# fig.show()"
   ]
  },
  {
   "cell_type": "code",
   "execution_count": 21,
   "metadata": {},
   "outputs": [
    {
     "ename": "KeyError",
     "evalue": "'life'",
     "output_type": "error",
     "traceback": [
      "\u001b[1;31m---------------------------------------------------------------------------\u001b[0m",
      "\u001b[1;31mKeyError\u001b[0m                                  Traceback (most recent call last)",
      "Cell \u001b[1;32mIn[21], line 58\u001b[0m\n\u001b[0;32m     52\u001b[0m     cap \u001b[38;5;241m=\u001b[39m cap[(\u001b[38;5;28mabs\u001b[39m(cap[\u001b[38;5;124m'\u001b[39m\u001b[38;5;124mcapacity\u001b[39m\u001b[38;5;124m'\u001b[39m]) \u001b[38;5;241m>\u001b[39m \u001b[38;5;241m1e-3\u001b[39m) \u001b[38;5;241m&\u001b[39m (\n\u001b[0;32m     53\u001b[0m                                                 (cap[\u001b[38;5;124m'\u001b[39m\u001b[38;5;124mmode\u001b[39m\u001b[38;5;124m'\u001b[39m] \u001b[38;5;241m==\u001b[39m \u001b[38;5;124m'\u001b[39m\u001b[38;5;124mLD Car\u001b[39m\u001b[38;5;124m'\u001b[39m) \u001b[38;5;241m|\u001b[39m\n\u001b[0;32m     54\u001b[0m                                                 (cap[\u001b[38;5;124m'\u001b[39m\u001b[38;5;124mmode\u001b[39m\u001b[38;5;124m'\u001b[39m] \u001b[38;5;241m==\u001b[39m \u001b[38;5;124m'\u001b[39m\u001b[38;5;124mLD Truck\u001b[39m\u001b[38;5;124m'\u001b[39m)\n\u001b[0;32m     55\u001b[0m                                                 ) \u001b[38;5;241m&\u001b[39m (cap[\u001b[38;5;124m'\u001b[39m\u001b[38;5;124mcap type\u001b[39m\u001b[38;5;124m'\u001b[39m] \u001b[38;5;241m!=\u001b[39m \u001b[38;5;124m'\u001b[39m\u001b[38;5;124mex capacity\u001b[39m\u001b[38;5;124m'\u001b[39m)]\u001b[38;5;241m.\u001b[39mreset_index(drop\u001b[38;5;241m=\u001b[39m\u001b[38;5;28;01mTrue\u001b[39;00m)\n\u001b[0;32m     56\u001b[0m     cap[\u001b[38;5;124m'\u001b[39m\u001b[38;5;124mvintage\u001b[39m\u001b[38;5;124m'\u001b[39m] \u001b[38;5;241m=\u001b[39m cap[\u001b[38;5;124m'\u001b[39m\u001b[38;5;124mvintage\u001b[39m\u001b[38;5;124m'\u001b[39m]\u001b[38;5;241m.\u001b[39mastype(\u001b[38;5;124m'\u001b[39m\u001b[38;5;124mstr\u001b[39m\u001b[38;5;124m'\u001b[39m)\n\u001b[1;32m---> 58\u001b[0m cap \u001b[38;5;241m=\u001b[39m \u001b[43mcap\u001b[49m\u001b[38;5;241;43m.\u001b[39;49m\u001b[43mgroupby\u001b[49m\u001b[43m(\u001b[49m\u001b[43m[\u001b[49m\u001b[38;5;124;43m'\u001b[39;49m\u001b[38;5;124;43mmode\u001b[39;49m\u001b[38;5;124;43m'\u001b[39;49m\u001b[43m,\u001b[49m\u001b[43m \u001b[49m\u001b[38;5;124;43m'\u001b[39;49m\u001b[38;5;124;43mlife\u001b[39;49m\u001b[38;5;124;43m'\u001b[39;49m\u001b[43m,\u001b[49m\u001b[43m \u001b[49m\u001b[38;5;124;43m'\u001b[39;49m\u001b[38;5;124;43mvintage\u001b[39;49m\u001b[38;5;124;43m'\u001b[39;49m\u001b[43m,\u001b[49m\u001b[43m \u001b[49m\u001b[38;5;124;43m'\u001b[39;49m\u001b[38;5;124;43mcap type\u001b[39;49m\u001b[38;5;124;43m'\u001b[39;49m\u001b[43m]\u001b[49m\u001b[43m,\u001b[49m\u001b[43m \u001b[49m\u001b[43mas_index\u001b[49m\u001b[38;5;241;43m=\u001b[39;49m\u001b[38;5;28;43;01mFalse\u001b[39;49;00m\u001b[43m)\u001b[49m\u001b[38;5;241m.\u001b[39msum(\u001b[38;5;124m'\u001b[39m\u001b[38;5;124mcapacity\u001b[39m\u001b[38;5;124m'\u001b[39m)\n\u001b[0;32m     59\u001b[0m fig \u001b[38;5;241m=\u001b[39m px\u001b[38;5;241m.\u001b[39mbar(cap, x\u001b[38;5;241m=\u001b[39m\u001b[38;5;124m'\u001b[39m\u001b[38;5;124mcap type\u001b[39m\u001b[38;5;124m'\u001b[39m, y\u001b[38;5;241m=\u001b[39m\u001b[38;5;124m'\u001b[39m\u001b[38;5;124mcapacity\u001b[39m\u001b[38;5;124m'\u001b[39m, color\u001b[38;5;241m=\u001b[39m\u001b[38;5;124m'\u001b[39m\u001b[38;5;124mlife\u001b[39m\u001b[38;5;124m'\u001b[39m, \n\u001b[0;32m     60\u001b[0m             pattern_shape\u001b[38;5;241m=\u001b[39m\u001b[38;5;124m'\u001b[39m\u001b[38;5;124mcap type\u001b[39m\u001b[38;5;124m'\u001b[39m, pattern_shape_sequence\u001b[38;5;241m=\u001b[39m[\u001b[38;5;124m\"\u001b[39m\u001b[38;5;124m\"\u001b[39m, \u001b[38;5;124m\"\u001b[39m\u001b[38;5;124m.\u001b[39m\u001b[38;5;124m\"\u001b[39m, \u001b[38;5;124m\"\u001b[39m\u001b[38;5;124m/\u001b[39m\u001b[38;5;124m\"\u001b[39m],\n\u001b[0;32m     61\u001b[0m             facet_col\u001b[38;5;241m=\u001b[39m\u001b[38;5;124m'\u001b[39m\u001b[38;5;124mvintage\u001b[39m\u001b[38;5;124m'\u001b[39m, facet_col_spacing\u001b[38;5;241m=\u001b[39m\u001b[38;5;241m2E-2\u001b[39m, \n\u001b[1;32m   (...)\u001b[0m\n\u001b[0;32m     69\u001b[0m             width\u001b[38;5;241m=\u001b[39m\u001b[38;5;241m1200\u001b[39m, height\u001b[38;5;241m=\u001b[39m\u001b[38;5;241m800\u001b[39m\n\u001b[0;32m     70\u001b[0m             )\n\u001b[0;32m     72\u001b[0m dummy_traces \u001b[38;5;241m=\u001b[39m [\n\u001b[0;32m     73\u001b[0m     \u001b[38;5;28mdict\u001b[39m(\n\u001b[0;32m     74\u001b[0m         name\u001b[38;5;241m=\u001b[39m\u001b[38;5;124m'\u001b[39m\u001b[38;5;124m'\u001b[39m,  \u001b[38;5;66;03m# Empty legend\u001b[39;00m\n\u001b[1;32m   (...)\u001b[0m\n\u001b[0;32m    129\u001b[0m     )\n\u001b[0;32m    130\u001b[0m ]\n",
      "File \u001b[1;32mc:\\Users\\rashi\\anaconda3\\envs\\new_base\\Lib\\site-packages\\pandas\\core\\frame.py:9183\u001b[0m, in \u001b[0;36mDataFrame.groupby\u001b[1;34m(self, by, axis, level, as_index, sort, group_keys, observed, dropna)\u001b[0m\n\u001b[0;32m   9180\u001b[0m \u001b[38;5;28;01mif\u001b[39;00m level \u001b[38;5;129;01mis\u001b[39;00m \u001b[38;5;28;01mNone\u001b[39;00m \u001b[38;5;129;01mand\u001b[39;00m by \u001b[38;5;129;01mis\u001b[39;00m \u001b[38;5;28;01mNone\u001b[39;00m:\n\u001b[0;32m   9181\u001b[0m     \u001b[38;5;28;01mraise\u001b[39;00m \u001b[38;5;167;01mTypeError\u001b[39;00m(\u001b[38;5;124m\"\u001b[39m\u001b[38;5;124mYou have to supply one of \u001b[39m\u001b[38;5;124m'\u001b[39m\u001b[38;5;124mby\u001b[39m\u001b[38;5;124m'\u001b[39m\u001b[38;5;124m and \u001b[39m\u001b[38;5;124m'\u001b[39m\u001b[38;5;124mlevel\u001b[39m\u001b[38;5;124m'\u001b[39m\u001b[38;5;124m\"\u001b[39m)\n\u001b[1;32m-> 9183\u001b[0m \u001b[38;5;28;01mreturn\u001b[39;00m \u001b[43mDataFrameGroupBy\u001b[49m\u001b[43m(\u001b[49m\n\u001b[0;32m   9184\u001b[0m \u001b[43m    \u001b[49m\u001b[43mobj\u001b[49m\u001b[38;5;241;43m=\u001b[39;49m\u001b[38;5;28;43mself\u001b[39;49m\u001b[43m,\u001b[49m\n\u001b[0;32m   9185\u001b[0m \u001b[43m    \u001b[49m\u001b[43mkeys\u001b[49m\u001b[38;5;241;43m=\u001b[39;49m\u001b[43mby\u001b[49m\u001b[43m,\u001b[49m\n\u001b[0;32m   9186\u001b[0m \u001b[43m    \u001b[49m\u001b[43maxis\u001b[49m\u001b[38;5;241;43m=\u001b[39;49m\u001b[43maxis\u001b[49m\u001b[43m,\u001b[49m\n\u001b[0;32m   9187\u001b[0m \u001b[43m    \u001b[49m\u001b[43mlevel\u001b[49m\u001b[38;5;241;43m=\u001b[39;49m\u001b[43mlevel\u001b[49m\u001b[43m,\u001b[49m\n\u001b[0;32m   9188\u001b[0m \u001b[43m    \u001b[49m\u001b[43mas_index\u001b[49m\u001b[38;5;241;43m=\u001b[39;49m\u001b[43mas_index\u001b[49m\u001b[43m,\u001b[49m\n\u001b[0;32m   9189\u001b[0m \u001b[43m    \u001b[49m\u001b[43msort\u001b[49m\u001b[38;5;241;43m=\u001b[39;49m\u001b[43msort\u001b[49m\u001b[43m,\u001b[49m\n\u001b[0;32m   9190\u001b[0m \u001b[43m    \u001b[49m\u001b[43mgroup_keys\u001b[49m\u001b[38;5;241;43m=\u001b[39;49m\u001b[43mgroup_keys\u001b[49m\u001b[43m,\u001b[49m\n\u001b[0;32m   9191\u001b[0m \u001b[43m    \u001b[49m\u001b[43mobserved\u001b[49m\u001b[38;5;241;43m=\u001b[39;49m\u001b[43mobserved\u001b[49m\u001b[43m,\u001b[49m\n\u001b[0;32m   9192\u001b[0m \u001b[43m    \u001b[49m\u001b[43mdropna\u001b[49m\u001b[38;5;241;43m=\u001b[39;49m\u001b[43mdropna\u001b[49m\u001b[43m,\u001b[49m\n\u001b[0;32m   9193\u001b[0m \u001b[43m\u001b[49m\u001b[43m)\u001b[49m\n",
      "File \u001b[1;32mc:\\Users\\rashi\\anaconda3\\envs\\new_base\\Lib\\site-packages\\pandas\\core\\groupby\\groupby.py:1329\u001b[0m, in \u001b[0;36mGroupBy.__init__\u001b[1;34m(self, obj, keys, axis, level, grouper, exclusions, selection, as_index, sort, group_keys, observed, dropna)\u001b[0m\n\u001b[0;32m   1326\u001b[0m \u001b[38;5;28mself\u001b[39m\u001b[38;5;241m.\u001b[39mdropna \u001b[38;5;241m=\u001b[39m dropna\n\u001b[0;32m   1328\u001b[0m \u001b[38;5;28;01mif\u001b[39;00m grouper \u001b[38;5;129;01mis\u001b[39;00m \u001b[38;5;28;01mNone\u001b[39;00m:\n\u001b[1;32m-> 1329\u001b[0m     grouper, exclusions, obj \u001b[38;5;241m=\u001b[39m \u001b[43mget_grouper\u001b[49m\u001b[43m(\u001b[49m\n\u001b[0;32m   1330\u001b[0m \u001b[43m        \u001b[49m\u001b[43mobj\u001b[49m\u001b[43m,\u001b[49m\n\u001b[0;32m   1331\u001b[0m \u001b[43m        \u001b[49m\u001b[43mkeys\u001b[49m\u001b[43m,\u001b[49m\n\u001b[0;32m   1332\u001b[0m \u001b[43m        \u001b[49m\u001b[43maxis\u001b[49m\u001b[38;5;241;43m=\u001b[39;49m\u001b[43maxis\u001b[49m\u001b[43m,\u001b[49m\n\u001b[0;32m   1333\u001b[0m \u001b[43m        \u001b[49m\u001b[43mlevel\u001b[49m\u001b[38;5;241;43m=\u001b[39;49m\u001b[43mlevel\u001b[49m\u001b[43m,\u001b[49m\n\u001b[0;32m   1334\u001b[0m \u001b[43m        \u001b[49m\u001b[43msort\u001b[49m\u001b[38;5;241;43m=\u001b[39;49m\u001b[43msort\u001b[49m\u001b[43m,\u001b[49m\n\u001b[0;32m   1335\u001b[0m \u001b[43m        \u001b[49m\u001b[43mobserved\u001b[49m\u001b[38;5;241;43m=\u001b[39;49m\u001b[38;5;28;43;01mFalse\u001b[39;49;00m\u001b[43m \u001b[49m\u001b[38;5;28;43;01mif\u001b[39;49;00m\u001b[43m \u001b[49m\u001b[43mobserved\u001b[49m\u001b[43m \u001b[49m\u001b[38;5;129;43;01mis\u001b[39;49;00m\u001b[43m \u001b[49m\u001b[43mlib\u001b[49m\u001b[38;5;241;43m.\u001b[39;49m\u001b[43mno_default\u001b[49m\u001b[43m \u001b[49m\u001b[38;5;28;43;01melse\u001b[39;49;00m\u001b[43m \u001b[49m\u001b[43mobserved\u001b[49m\u001b[43m,\u001b[49m\n\u001b[0;32m   1336\u001b[0m \u001b[43m        \u001b[49m\u001b[43mdropna\u001b[49m\u001b[38;5;241;43m=\u001b[39;49m\u001b[38;5;28;43mself\u001b[39;49m\u001b[38;5;241;43m.\u001b[39;49m\u001b[43mdropna\u001b[49m\u001b[43m,\u001b[49m\n\u001b[0;32m   1337\u001b[0m \u001b[43m    \u001b[49m\u001b[43m)\u001b[49m\n\u001b[0;32m   1339\u001b[0m \u001b[38;5;28;01mif\u001b[39;00m observed \u001b[38;5;129;01mis\u001b[39;00m lib\u001b[38;5;241m.\u001b[39mno_default:\n\u001b[0;32m   1340\u001b[0m     \u001b[38;5;28;01mif\u001b[39;00m \u001b[38;5;28many\u001b[39m(ping\u001b[38;5;241m.\u001b[39m_passed_categorical \u001b[38;5;28;01mfor\u001b[39;00m ping \u001b[38;5;129;01min\u001b[39;00m grouper\u001b[38;5;241m.\u001b[39mgroupings):\n",
      "File \u001b[1;32mc:\\Users\\rashi\\anaconda3\\envs\\new_base\\Lib\\site-packages\\pandas\\core\\groupby\\grouper.py:1043\u001b[0m, in \u001b[0;36mget_grouper\u001b[1;34m(obj, key, axis, level, sort, observed, validate, dropna)\u001b[0m\n\u001b[0;32m   1041\u001b[0m         in_axis, level, gpr \u001b[38;5;241m=\u001b[39m \u001b[38;5;28;01mFalse\u001b[39;00m, gpr, \u001b[38;5;28;01mNone\u001b[39;00m\n\u001b[0;32m   1042\u001b[0m     \u001b[38;5;28;01melse\u001b[39;00m:\n\u001b[1;32m-> 1043\u001b[0m         \u001b[38;5;28;01mraise\u001b[39;00m \u001b[38;5;167;01mKeyError\u001b[39;00m(gpr)\n\u001b[0;32m   1044\u001b[0m \u001b[38;5;28;01melif\u001b[39;00m \u001b[38;5;28misinstance\u001b[39m(gpr, Grouper) \u001b[38;5;129;01mand\u001b[39;00m gpr\u001b[38;5;241m.\u001b[39mkey \u001b[38;5;129;01mis\u001b[39;00m \u001b[38;5;129;01mnot\u001b[39;00m \u001b[38;5;28;01mNone\u001b[39;00m:\n\u001b[0;32m   1045\u001b[0m     \u001b[38;5;66;03m# Add key to exclusions\u001b[39;00m\n\u001b[0;32m   1046\u001b[0m     exclusions\u001b[38;5;241m.\u001b[39madd(gpr\u001b[38;5;241m.\u001b[39mkey)\n",
      "\u001b[1;31mKeyError\u001b[0m: 'life'"
     ]
    }
   ],
   "source": [
    "def map_tech_survival(tech):\n",
    "    if '_S25' in tech:\n",
    "        return 'Survival Q1'\n",
    "    if '_S75' in tech:\n",
    "        return 'Survival Q4'\n",
    "    else: return 'Survival Q2-3'\n",
    "\n",
    "if 'lifetime' in db_name:\n",
    "    net_cap['life'] = net_cap['tech'].apply(map_tech_survival)\n",
    "    new_cap['life'] = new_cap['tech'].apply(map_tech_survival)\n",
    "    ex_cap['life'] = ex_cap['tech'].apply(map_tech_survival)\n",
    "    net_cap_group = net_cap.groupby(['mode', 'fuel', 'life', 'period'], as_index=False).sum('capacity').drop(columns='vintage').rename(columns={'period': 'vintage'})\n",
    "    ex_cap_group = ex_cap.copy()\n",
    "    ex_cap_group['vintage'] = 2021\n",
    "    ex_cap_group = ex_cap_group.groupby(['mode', 'fuel', 'life', 'vintage', 'units'], as_index=False).sum('capacity')\n",
    "    new_cap_group = new_cap.groupby(['mode', 'fuel', 'life', 'vintage'], as_index=False).sum('capacity')\n",
    "    net_cap_group = net_cap_group[['mode', 'fuel', 'life', 'vintage', 'capacity']].rename(columns={'capacity': 'net capacity'})\n",
    "    new_cap_group = new_cap_group[['mode', 'fuel', 'life', 'vintage', 'capacity']].rename(columns={'capacity': 'new capacity'})\n",
    "    ex_cap_group = ex_cap_group[['mode', 'fuel', 'life', 'vintage', 'capacity']].rename(columns={'capacity': 'ex capacity'})\n",
    "\n",
    "    merged_cap = net_cap_group.merge(new_cap_group, on=['mode', 'fuel', 'life', 'vintage'], how='left').merge(ex_cap_group, on=['mode', 'fuel', 'life', 'vintage'], how='left').fillna(0.)\n",
    "    merged_cap = merged_cap.sort_values(by=['mode', 'fuel', 'life', 'vintage'])\n",
    "    merged_cap['retired cap'] = 0.\n",
    "\n",
    "    for _, group in merged_cap.groupby(['mode', 'fuel', 'life']):\n",
    "        for i in range(1, len(group)):\n",
    "            current_idx = group.index[i]\n",
    "            previous_idx = group.index[i-1]\n",
    "\n",
    "            # Calculate retired capacity as existing capacity + new capacity - net capacity of previous vintage\n",
    "            merged_cap.loc[current_idx, 'retired cap'] = (\n",
    "                merged_cap.loc[previous_idx, 'net capacity'] + \n",
    "                merged_cap.loc[current_idx, 'new capacity'] - \n",
    "                merged_cap.loc[current_idx, 'net capacity']\n",
    "            )\n",
    "\n",
    "    for _, group in merged_cap.groupby(['mode', 'fuel', 'life']):\n",
    "        for i in range(1, len(group)):\n",
    "            current_idx = group.index[i]\n",
    "            previous_idx = group.index[i-1]\n",
    "\n",
    "            # Fill the \"ex capacity\" for years after 2021 using the \"net capacity\" from the previous year\n",
    "            merged_cap.loc[current_idx, 'ex capacity'] = merged_cap.loc[previous_idx, 'net capacity']\n",
    "\n",
    "    merged_cap['retired cap'] = -merged_cap['retired cap']\n",
    "\n",
    "    cap = merged_cap.melt(id_vars=['mode', 'fuel', 'life', 'vintage'],\n",
    "                       value_vars=['net capacity', 'ex capacity', 'new capacity', 'retired cap'],\n",
    "                       var_name='cap type', value_name='capacity')\n",
    "\n",
    "    cap['capacity'] = cap['capacity'] / 1E3\n",
    "    cap = cap[(abs(cap['capacity']) > 1e-3) & (\n",
    "                                                (cap['mode'] == 'LD Car') |\n",
    "                                                (cap['mode'] == 'LD Truck')\n",
    "                                                ) & (cap['cap type'] != 'ex capacity')].reset_index(drop=True)\n",
    "    cap['vintage'] = cap['vintage'].astype('str')\n",
    "\n",
    "cap = cap.groupby(['mode', 'life', 'vintage', 'cap type'], as_index=False).sum('capacity')\n",
    "fig = px.bar(cap, x='cap type', y='capacity', color='life', \n",
    "            pattern_shape='cap type', pattern_shape_sequence=[\"\", \".\", \"/\"],\n",
    "            facet_col='vintage', facet_col_spacing=2E-2, \n",
    "            facet_row='mode', facet_row_spacing=1E-2,\n",
    "            category_orders={\"cap type\": [\"net capacity\", \"new capacity\", \"retired cap\"],\n",
    "                             \"fuel\": ['Gasoline', 'Diesel', 'CNG', 'BEV200', 'BEV300', 'BEV400', 'BEV500', 'HEV', 'PHEV20', 'PHEV50', 'FCEV'],\n",
    "                             \"life\": ['Survival Q1', 'Survival Q2-3', 'Survival Q4']},\n",
    "            # labels={'capacity': 'Fleet capacity (M units)', 'fuel': 'Fuel type'},\n",
    "            template='plotly_white', orientation='v', color_discrete_sequence=px.colors.qualitative.Bold,\n",
    "            text_auto='.2f',\n",
    "            width=1200, height=800\n",
    "            )\n",
    "\n",
    "dummy_traces = [\n",
    "    dict(\n",
    "        name='',  # Empty legend\n",
    "        x=[None], \n",
    "        y=[None], \n",
    "        marker=dict(color='rgba(0,0,0,0)'),\n",
    "        showlegend=True,\n",
    "        legendgroup='Blank',\n",
    "        legendgrouptitle=None\n",
    "    ),\n",
    "    # dict(\n",
    "    #     name=' ',  # Another empty legend\n",
    "    #     x=[None], \n",
    "    #     y=[None], \n",
    "    #     marker=dict(color='rgba(0,0,0,0)'),\n",
    "    #     showlegend=True,\n",
    "    #     legendgroup='Blank',\n",
    "    #     legendgrouptitle=None   \n",
    "    # ),\n",
    "    dict(\n",
    "        name='Net capacity',\n",
    "        x=[None], \n",
    "        y=[None], \n",
    "        marker=dict(\n",
    "            color='rgba(0,0,0,0)',\n",
    "            line=dict(color='black', width=1),  # Thin black border\n",
    "            pattern_shape=\"\"\n",
    "        ),\n",
    "        showlegend=True,\n",
    "        legendgroup='Capacity type',\n",
    "        legendgrouptitle=dict(text=\"Capacity type\"),\n",
    "    ),\n",
    "    dict(\n",
    "        name='New capacity',\n",
    "        x=[None], \n",
    "        y=[None], \n",
    "        marker=dict(\n",
    "            color='rgba(0,0,0,0)',\n",
    "            line=dict(color='black', width=1),  # Thin black border\n",
    "            pattern_shape=\".\"\n",
    "        ),\n",
    "        showlegend=True,\n",
    "        legendgroup='Capacity type',\n",
    "        legendgrouptitle=None\n",
    "    ),\n",
    "    dict(\n",
    "        name='Retired capacity',\n",
    "        x=[None], \n",
    "        y=[None], \n",
    "        marker=dict(\n",
    "            color='rgba(0,0,0,0)',\n",
    "            line=dict(color='black', width=1),  # Thin black border\n",
    "            pattern_shape=\"/\"\n",
    "        ),\n",
    "        showlegend=True,\n",
    "        legendgroup='Capacity type',\n",
    "        legendgrouptitle=None\n",
    "    )\n",
    "]\n",
    "\n",
    "for trace in dummy_traces:\n",
    "    fig.add_bar(\n",
    "        x=trace['x'], \n",
    "        y=trace['y'], \n",
    "        name=trace['name'], \n",
    "        marker=trace['marker'], \n",
    "        showlegend=trace['showlegend'],\n",
    "        legendgroup=trace['legendgroup'],\n",
    "        legendgrouptitle=trace['legendgrouptitle']\n",
    "    )\n",
    "\n",
    "fig.update_layout(\n",
    "    margin=dict(\n",
    "        t=10, b=10\n",
    "    ),\n",
    "    title=dict(\n",
    "        text='Transport LDV fleet stock and flow in ON by vehicle class and lifetime',\n",
    "        x=0.5, \n",
    "        y=0.97,\n",
    "        xanchor='center',\n",
    "        yanchor='top'\n",
    "    ),\n",
    "    yaxis_title_standoff=0,\n",
    "    legend_title_text='Survival rate class',\n",
    "    bargap=0.1,\n",
    "    legend=dict(\n",
    "        orientation='v',\n",
    "        # entrywidth=50,\n",
    "        yanchor='top',\n",
    "        y=0.8,  \n",
    "        xanchor='center',\n",
    "        x=1.15),\n",
    "    font=dict(\n",
    "        size=15)\n",
    "    )\n",
    "\n",
    "fig.for_each_trace(lambda trace: trace.update(textfont=dict(size=11)))\n",
    "\n",
    "# fig.update_xaxes(tickvals=[\"net capacity\", \"new capacity\", \"retired cap\"],\n",
    "#                  ticktext=[\"Net\", \"New\", \"Retired\"], \n",
    "#                  tickangle=45\n",
    "#                  )\n",
    "\n",
    "for axis in fig.layout:\n",
    "    if axis.startswith('xaxis'):\n",
    "        fig.layout[axis].title.text = ''\n",
    "        fig.layout[axis].showticklabels = False\n",
    "    if axis.startswith('yaxis'):\n",
    "        fig.layout[axis].title.text = ''\n",
    "        fig.layout[axis].dtick = 2\n",
    "\n",
    "for annotation in fig.layout.annotations:\n",
    "    if 'mode' in annotation.text:\n",
    "        annotation.text = 'Class: ' + annotation.text.split('=')[1]\n",
    "        annotation.font.size = 16\n",
    "        annotation.x = 1.01\n",
    "        annotation.xanchor = 'center'\n",
    "    else:\n",
    "        annotation.text = annotation.text.split('=')[1]\n",
    "        annotation.y = 0.005\n",
    "        annotation.yanchor = 'top' \n",
    "\n",
    "shown_legends = set()\n",
    "for trace in fig.data:\n",
    "    trace.name = trace.name.split(\",\")[0]\n",
    "    if trace.name not in shown_legends:\n",
    "        trace.showlegend = True\n",
    "        shown_legends.add(trace.name)\n",
    "    else:\n",
    "        trace.showlegend = False\n",
    "\n",
    "fig.add_annotation(\n",
    "    text=\"Fleet capacity (M units)\",\n",
    "    x=-0.07,\n",
    "    y=0.5,\n",
    "    xref=\"paper\",\n",
    "    yref=\"paper\",\n",
    "    showarrow=False,\n",
    "    textangle=-90,\n",
    "    font=dict(size=17))\n",
    "\n",
    "fig.show()\n",
    "\n",
    "fig.write_image(\"lifetimes_fleet_flow.svg\", scale=1, engine='kaleido')"
   ]
  }
 ],
 "metadata": {
  "kernelspec": {
   "display_name": "new_base",
   "language": "python",
   "name": "python3"
  },
  "language_info": {
   "codemirror_mode": {
    "name": "ipython",
    "version": 3
   },
   "file_extension": ".py",
   "mimetype": "text/x-python",
   "name": "python",
   "nbconvert_exporter": "python",
   "pygments_lexer": "ipython3",
   "version": "3.12.7"
  }
 },
 "nbformat": 4,
 "nbformat_minor": 2
}
