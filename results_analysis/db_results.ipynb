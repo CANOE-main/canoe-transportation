{
 "cells": [
  {
   "cell_type": "code",
   "execution_count": 128,
   "metadata": {},
   "outputs": [],
   "source": [
    "import pandas as pd\n",
    "import numpy as np\n",
    "import plotly.express as px\n",
    "import plotly.graph_objects as go\n",
    "from plotly.subplots import make_subplots\n",
    "import seaborn as sns\n",
    "import matplotlib.pyplot as plt\n",
    "import sqlite3"
   ]
  },
  {
   "cell_type": "code",
   "execution_count": 129,
   "metadata": {},
   "outputs": [],
   "source": [
    "db_path = 'C:/Users/rashi/ESM_databases/temoa/data_files/'\n",
    "db_name = 'canoe_on_12d_lifetimes' + '.sqlite'"
   ]
  },
  {
   "cell_type": "code",
   "execution_count": 130,
   "metadata": {},
   "outputs": [],
   "source": [
    "db_file = db_path + db_name\n",
    "\n",
    "conn = sqlite3.connect(db_file)\n",
    "query_net_capacity = \"SELECT * FROM OutputNetCapacity WHERE sector = 'Transport'\"\n",
    "query_built_capacity = \"SELECT * FROM OutputBuiltCapacity WHERE sector = 'Transport'\"\n",
    "query_existing_capacity = \"SELECT * FROM ExistingCapacity WHERE tech like 'T_%'\"\n",
    "\n",
    "net_cap = pd.read_sql_query(query_net_capacity, conn).drop(columns=['scenario', 'region', 'sector'])\n",
    "new_cap = pd.read_sql_query(query_built_capacity, conn).drop(columns=['scenario', 'region', 'sector'])\n",
    "ex_cap =  pd.read_sql_query(query_existing_capacity, conn)[['tech', 'vintage', 'capacity', 'units']]\n",
    "\n",
    "conn.close()"
   ]
  },
  {
   "cell_type": "code",
   "execution_count": 131,
   "metadata": {},
   "outputs": [],
   "source": [
    "class_mapping = {\n",
    "    'T_HDV_AJ': 'Air jet',\n",
    "    'T_HDV_B': 'Bus',\n",
    "    'T_HDV_R': 'Rail',\n",
    "    'T_HDV_T': 'HD Truck',\n",
    "    'T_HDV_W': 'Marine vessel',\n",
    "    'T_MDV_T': 'MD Truck',\n",
    "    'T_LDV_C_': 'LD Car',\n",
    "    'T_LDV_LT': 'LD Truck',\n",
    "    'T_LDV_M': 'Motorcycle',\n",
    "    'T_IMP_': 'Fuel use',\n",
    "    'H2_distribution': 'Fuel use'\n",
    "}\n",
    "\n",
    "def map_tech_to_mode(tech):\n",
    "    for prefix, class_name in class_mapping.items():\n",
    "        if tech.startswith(prefix):\n",
    "            return class_name\n",
    "    return 'Other'\n",
    "\n",
    "carrier_mapping = {\n",
    "        'BEV': 'BEV',\n",
    "        'GSL': 'Gasoline',\n",
    "        'DSL': 'Diesel',\n",
    "        'CNG': 'CNG',\n",
    "        'LNG': 'LNG',\n",
    "        'JTF': 'Jet Fuel',\n",
    "        'SPK': 'Synthetic Jet Fuel', #      Might change for SAF\n",
    "        'HFO': 'Heavy Fuel Oil',\n",
    "        'MDO': 'Marine Diesel Oil',\n",
    "        'H2': 'H2',\n",
    "        'ELC': 'Electricity'\n",
    "    }\n",
    "\n",
    "def map_tech_to_fuel(tech):\n",
    "    # Check hybrids first\n",
    "    if 'PHEV35' in tech:\n",
    "        return 'PHEV35'\n",
    "    if 'PHEV50' in tech:\n",
    "        return 'PHEV50'\n",
    "    if 'PHEV' in tech:\n",
    "        return 'PHEV'\n",
    "    if 'BEV150' in tech:\n",
    "        return 'BEV150'\n",
    "    if 'BEV200' in tech:\n",
    "        return 'BEV200'\n",
    "    if 'BEV300' in tech:\n",
    "        return 'BEV300'\n",
    "    if 'BEV400' in tech:\n",
    "        return 'BEV400'\n",
    "    if 'FC' in tech:\n",
    "        return 'FCEV'\n",
    "    if 'HEV' in tech:\n",
    "        return 'HEV'\n",
    "    if 'RDSL' in tech:\n",
    "            return 'Biodiesel' #            Might differentiate\n",
    "    if 'ETH' in tech:\n",
    "        return 'Ethanol' #                  Might differentiate\n",
    "    for prefix, carrier in carrier_mapping.items():\n",
    "        if prefix in tech:\n",
    "            return carrier \n",
    "    return 'Other'"
   ]
  },
  {
   "cell_type": "code",
   "execution_count": 132,
   "metadata": {},
   "outputs": [],
   "source": [
    "net_cap['mode'] = net_cap['tech'].apply(map_tech_to_mode)\n",
    "new_cap['mode'] = new_cap['tech'].apply(map_tech_to_mode)\n",
    "ex_cap['mode'] = ex_cap['tech'].apply(map_tech_to_mode)\n",
    "\n",
    "net_cap['fuel'] = net_cap['tech'].apply(map_tech_to_fuel)\n",
    "new_cap['fuel'] = new_cap['tech'].apply(map_tech_to_fuel)\n",
    "ex_cap['fuel'] = ex_cap['tech'].apply(map_tech_to_fuel)"
   ]
  },
  {
   "cell_type": "code",
   "execution_count": 133,
   "metadata": {},
   "outputs": [
    {
     "data": {
      "text/html": [
       "<div>\n",
       "<style scoped>\n",
       "    .dataframe tbody tr th:only-of-type {\n",
       "        vertical-align: middle;\n",
       "    }\n",
       "\n",
       "    .dataframe tbody tr th {\n",
       "        vertical-align: top;\n",
       "    }\n",
       "\n",
       "    .dataframe thead th {\n",
       "        text-align: right;\n",
       "    }\n",
       "</style>\n",
       "<table border=\"1\" class=\"dataframe\">\n",
       "  <thead>\n",
       "    <tr style=\"text-align: right;\">\n",
       "      <th></th>\n",
       "      <th>mode</th>\n",
       "      <th>fuel</th>\n",
       "      <th>vintage</th>\n",
       "      <th>capacity</th>\n",
       "    </tr>\n",
       "  </thead>\n",
       "  <tbody>\n",
       "    <tr>\n",
       "      <th>105</th>\n",
       "      <td>LD Car</td>\n",
       "      <td>Gasoline</td>\n",
       "      <td>2021</td>\n",
       "      <td>3601.866902</td>\n",
       "    </tr>\n",
       "    <tr>\n",
       "      <th>106</th>\n",
       "      <td>LD Car</td>\n",
       "      <td>Gasoline</td>\n",
       "      <td>2025</td>\n",
       "      <td>2822.689199</td>\n",
       "    </tr>\n",
       "    <tr>\n",
       "      <th>107</th>\n",
       "      <td>LD Car</td>\n",
       "      <td>Gasoline</td>\n",
       "      <td>2030</td>\n",
       "      <td>1729.573568</td>\n",
       "    </tr>\n",
       "    <tr>\n",
       "      <th>108</th>\n",
       "      <td>LD Car</td>\n",
       "      <td>Gasoline</td>\n",
       "      <td>2035</td>\n",
       "      <td>753.839412</td>\n",
       "    </tr>\n",
       "    <tr>\n",
       "      <th>109</th>\n",
       "      <td>LD Car</td>\n",
       "      <td>Gasoline</td>\n",
       "      <td>2040</td>\n",
       "      <td>414.556514</td>\n",
       "    </tr>\n",
       "    <tr>\n",
       "      <th>110</th>\n",
       "      <td>LD Car</td>\n",
       "      <td>Gasoline</td>\n",
       "      <td>2045</td>\n",
       "      <td>0.006146</td>\n",
       "    </tr>\n",
       "    <tr>\n",
       "      <th>111</th>\n",
       "      <td>LD Car</td>\n",
       "      <td>Gasoline</td>\n",
       "      <td>2050</td>\n",
       "      <td>0.005629</td>\n",
       "    </tr>\n",
       "  </tbody>\n",
       "</table>\n",
       "</div>"
      ],
      "text/plain": [
       "       mode      fuel  vintage     capacity\n",
       "105  LD Car  Gasoline     2021  3601.866902\n",
       "106  LD Car  Gasoline     2025  2822.689199\n",
       "107  LD Car  Gasoline     2030  1729.573568\n",
       "108  LD Car  Gasoline     2035   753.839412\n",
       "109  LD Car  Gasoline     2040   414.556514\n",
       "110  LD Car  Gasoline     2045     0.006146\n",
       "111  LD Car  Gasoline     2050     0.005629"
      ]
     },
     "execution_count": 133,
     "metadata": {},
     "output_type": "execute_result"
    }
   ],
   "source": [
    "net_cap_group = net_cap.groupby(['mode', 'fuel', 'period'], as_index=False).sum('capacity').drop(columns='vintage').rename(columns={'period': 'vintage'})\n",
    "net_cap_group[(net_cap_group['mode'] == 'LD Car') & (net_cap_group['fuel'] == 'Gasoline')].sort_values(by=['fuel', 'vintage'])"
   ]
  },
  {
   "cell_type": "code",
   "execution_count": 134,
   "metadata": {},
   "outputs": [],
   "source": [
    "ex_cap_group = ex_cap.copy()\n",
    "ex_cap_group['vintage'] = 2021\n",
    "ex_cap_group = ex_cap_group.groupby(['mode', 'fuel', 'vintage', 'units'], as_index=False).sum('capacity')"
   ]
  },
  {
   "cell_type": "code",
   "execution_count": 135,
   "metadata": {},
   "outputs": [
    {
     "data": {
      "text/html": [
       "<div>\n",
       "<style scoped>\n",
       "    .dataframe tbody tr th:only-of-type {\n",
       "        vertical-align: middle;\n",
       "    }\n",
       "\n",
       "    .dataframe tbody tr th {\n",
       "        vertical-align: top;\n",
       "    }\n",
       "\n",
       "    .dataframe thead th {\n",
       "        text-align: right;\n",
       "    }\n",
       "</style>\n",
       "<table border=\"1\" class=\"dataframe\">\n",
       "  <thead>\n",
       "    <tr style=\"text-align: right;\">\n",
       "      <th></th>\n",
       "      <th>mode</th>\n",
       "      <th>fuel</th>\n",
       "      <th>vintage</th>\n",
       "      <th>capacity</th>\n",
       "    </tr>\n",
       "  </thead>\n",
       "  <tbody>\n",
       "    <tr>\n",
       "      <th>90</th>\n",
       "      <td>LD Car</td>\n",
       "      <td>Gasoline</td>\n",
       "      <td>2021</td>\n",
       "      <td>0.002812</td>\n",
       "    </tr>\n",
       "    <tr>\n",
       "      <th>91</th>\n",
       "      <td>LD Car</td>\n",
       "      <td>Gasoline</td>\n",
       "      <td>2025</td>\n",
       "      <td>0.001944</td>\n",
       "    </tr>\n",
       "    <tr>\n",
       "      <th>92</th>\n",
       "      <td>LD Car</td>\n",
       "      <td>Gasoline</td>\n",
       "      <td>2030</td>\n",
       "      <td>0.001892</td>\n",
       "    </tr>\n",
       "    <tr>\n",
       "      <th>93</th>\n",
       "      <td>LD Car</td>\n",
       "      <td>Gasoline</td>\n",
       "      <td>2035</td>\n",
       "      <td>0.001549</td>\n",
       "    </tr>\n",
       "    <tr>\n",
       "      <th>94</th>\n",
       "      <td>LD Car</td>\n",
       "      <td>Gasoline</td>\n",
       "      <td>2040</td>\n",
       "      <td>0.001557</td>\n",
       "    </tr>\n",
       "    <tr>\n",
       "      <th>95</th>\n",
       "      <td>LD Car</td>\n",
       "      <td>Gasoline</td>\n",
       "      <td>2045</td>\n",
       "      <td>0.001765</td>\n",
       "    </tr>\n",
       "    <tr>\n",
       "      <th>96</th>\n",
       "      <td>LD Car</td>\n",
       "      <td>Gasoline</td>\n",
       "      <td>2050</td>\n",
       "      <td>0.001836</td>\n",
       "    </tr>\n",
       "  </tbody>\n",
       "</table>\n",
       "</div>"
      ],
      "text/plain": [
       "      mode      fuel  vintage  capacity\n",
       "90  LD Car  Gasoline     2021  0.002812\n",
       "91  LD Car  Gasoline     2025  0.001944\n",
       "92  LD Car  Gasoline     2030  0.001892\n",
       "93  LD Car  Gasoline     2035  0.001549\n",
       "94  LD Car  Gasoline     2040  0.001557\n",
       "95  LD Car  Gasoline     2045  0.001765\n",
       "96  LD Car  Gasoline     2050  0.001836"
      ]
     },
     "execution_count": 135,
     "metadata": {},
     "output_type": "execute_result"
    }
   ],
   "source": [
    "new_cap_group = new_cap.groupby(['mode', 'fuel', 'vintage'], as_index=False).sum('capacity')\n",
    "new_cap_group[(new_cap_group['mode'] == 'LD Car') & (new_cap_group['fuel'] == 'Gasoline')].sort_values(by=['vintage'])"
   ]
  },
  {
   "cell_type": "code",
   "execution_count": 136,
   "metadata": {},
   "outputs": [],
   "source": [
    "net_cap_group = net_cap_group[['mode', 'fuel', 'vintage', 'capacity']].rename(columns={'capacity': 'net capacity'})\n",
    "new_cap_group = new_cap_group[['mode', 'fuel', 'vintage', 'capacity']].rename(columns={'capacity': 'new capacity'})\n",
    "ex_cap_group = ex_cap_group[['mode', 'fuel', 'vintage', 'capacity']].rename(columns={'capacity': 'ex capacity'})\n",
    "\n",
    "merged_cap = net_cap_group.merge(new_cap_group, on=['mode', 'fuel', 'vintage'], how='left').merge(ex_cap_group, on=['mode', 'fuel', 'vintage'], how='left').fillna(0.)"
   ]
  },
  {
   "cell_type": "code",
   "execution_count": 137,
   "metadata": {},
   "outputs": [
    {
     "data": {
      "text/html": [
       "<div>\n",
       "<style scoped>\n",
       "    .dataframe tbody tr th:only-of-type {\n",
       "        vertical-align: middle;\n",
       "    }\n",
       "\n",
       "    .dataframe tbody tr th {\n",
       "        vertical-align: top;\n",
       "    }\n",
       "\n",
       "    .dataframe thead th {\n",
       "        text-align: right;\n",
       "    }\n",
       "</style>\n",
       "<table border=\"1\" class=\"dataframe\">\n",
       "  <thead>\n",
       "    <tr style=\"text-align: right;\">\n",
       "      <th></th>\n",
       "      <th>mode</th>\n",
       "      <th>fuel</th>\n",
       "      <th>vintage</th>\n",
       "      <th>net capacity</th>\n",
       "      <th>new capacity</th>\n",
       "      <th>ex capacity</th>\n",
       "    </tr>\n",
       "  </thead>\n",
       "  <tbody>\n",
       "    <tr>\n",
       "      <th>106</th>\n",
       "      <td>LD Car</td>\n",
       "      <td>Gasoline</td>\n",
       "      <td>2021</td>\n",
       "      <td>3601.866902</td>\n",
       "      <td>0.002812</td>\n",
       "      <td>3601.86409</td>\n",
       "    </tr>\n",
       "    <tr>\n",
       "      <th>107</th>\n",
       "      <td>LD Car</td>\n",
       "      <td>Gasoline</td>\n",
       "      <td>2025</td>\n",
       "      <td>2822.689199</td>\n",
       "      <td>0.001944</td>\n",
       "      <td>0.00000</td>\n",
       "    </tr>\n",
       "    <tr>\n",
       "      <th>108</th>\n",
       "      <td>LD Car</td>\n",
       "      <td>Gasoline</td>\n",
       "      <td>2030</td>\n",
       "      <td>1729.573568</td>\n",
       "      <td>0.001892</td>\n",
       "      <td>0.00000</td>\n",
       "    </tr>\n",
       "    <tr>\n",
       "      <th>109</th>\n",
       "      <td>LD Car</td>\n",
       "      <td>Gasoline</td>\n",
       "      <td>2035</td>\n",
       "      <td>753.839412</td>\n",
       "      <td>0.001549</td>\n",
       "      <td>0.00000</td>\n",
       "    </tr>\n",
       "    <tr>\n",
       "      <th>110</th>\n",
       "      <td>LD Car</td>\n",
       "      <td>Gasoline</td>\n",
       "      <td>2040</td>\n",
       "      <td>414.556514</td>\n",
       "      <td>0.001557</td>\n",
       "      <td>0.00000</td>\n",
       "    </tr>\n",
       "    <tr>\n",
       "      <th>111</th>\n",
       "      <td>LD Car</td>\n",
       "      <td>Gasoline</td>\n",
       "      <td>2045</td>\n",
       "      <td>0.006146</td>\n",
       "      <td>0.001765</td>\n",
       "      <td>0.00000</td>\n",
       "    </tr>\n",
       "    <tr>\n",
       "      <th>112</th>\n",
       "      <td>LD Car</td>\n",
       "      <td>Gasoline</td>\n",
       "      <td>2050</td>\n",
       "      <td>0.005629</td>\n",
       "      <td>0.001836</td>\n",
       "      <td>0.00000</td>\n",
       "    </tr>\n",
       "  </tbody>\n",
       "</table>\n",
       "</div>"
      ],
      "text/plain": [
       "       mode      fuel  vintage  net capacity  new capacity  ex capacity\n",
       "106  LD Car  Gasoline     2021   3601.866902      0.002812   3601.86409\n",
       "107  LD Car  Gasoline     2025   2822.689199      0.001944      0.00000\n",
       "108  LD Car  Gasoline     2030   1729.573568      0.001892      0.00000\n",
       "109  LD Car  Gasoline     2035    753.839412      0.001549      0.00000\n",
       "110  LD Car  Gasoline     2040    414.556514      0.001557      0.00000\n",
       "111  LD Car  Gasoline     2045      0.006146      0.001765      0.00000\n",
       "112  LD Car  Gasoline     2050      0.005629      0.001836      0.00000"
      ]
     },
     "execution_count": 137,
     "metadata": {},
     "output_type": "execute_result"
    }
   ],
   "source": [
    "merged_cap[(merged_cap['mode'] == 'LD Car') & (merged_cap['fuel'] == 'Gasoline')].sort_values(by=['fuel', 'vintage'])"
   ]
  },
  {
   "cell_type": "code",
   "execution_count": 138,
   "metadata": {},
   "outputs": [],
   "source": [
    "merged_cap = merged_cap.sort_values(by=['mode', 'fuel', 'vintage'])\n",
    "merged_cap['retired cap'] = 0.\n",
    "\n",
    "for _, group in merged_cap.groupby(['mode', 'fuel']):\n",
    "    for i in range(1, len(group)):\n",
    "        current_idx = group.index[i]\n",
    "        previous_idx = group.index[i-1]\n",
    "\n",
    "        # Calculate retired capacity as existing capacity + new capacity - net capacity of previous vintage\n",
    "        merged_cap.loc[current_idx, 'retired cap'] = (\n",
    "            merged_cap.loc[previous_idx, 'net capacity'] + \n",
    "            merged_cap.loc[current_idx, 'new capacity'] - \n",
    "            merged_cap.loc[current_idx, 'net capacity']\n",
    "        )\n",
    "\n",
    "for _, group in merged_cap.groupby(['mode', 'fuel']):\n",
    "    for i in range(1, len(group)):\n",
    "        current_idx = group.index[i]\n",
    "        previous_idx = group.index[i-1]\n",
    "\n",
    "        # Fill the \"ex capacity\" for years after 2021 using the \"net capacity\" from the previous year\n",
    "        merged_cap.loc[current_idx, 'ex capacity'] = merged_cap.loc[previous_idx, 'net capacity']\n",
    "\n",
    "merged_cap['retired cap'] = -merged_cap['retired cap']"
   ]
  },
  {
   "cell_type": "code",
   "execution_count": 139,
   "metadata": {},
   "outputs": [
    {
     "data": {
      "text/html": [
       "<div>\n",
       "<style scoped>\n",
       "    .dataframe tbody tr th:only-of-type {\n",
       "        vertical-align: middle;\n",
       "    }\n",
       "\n",
       "    .dataframe tbody tr th {\n",
       "        vertical-align: top;\n",
       "    }\n",
       "\n",
       "    .dataframe thead th {\n",
       "        text-align: right;\n",
       "    }\n",
       "</style>\n",
       "<table border=\"1\" class=\"dataframe\">\n",
       "  <thead>\n",
       "    <tr style=\"text-align: right;\">\n",
       "      <th></th>\n",
       "      <th>mode</th>\n",
       "      <th>fuel</th>\n",
       "      <th>vintage</th>\n",
       "      <th>net capacity</th>\n",
       "      <th>new capacity</th>\n",
       "      <th>ex capacity</th>\n",
       "      <th>retired cap</th>\n",
       "    </tr>\n",
       "  </thead>\n",
       "  <tbody>\n",
       "    <tr>\n",
       "      <th>57</th>\n",
       "      <td>LD Car</td>\n",
       "      <td>BEV150</td>\n",
       "      <td>2021</td>\n",
       "      <td>727.411258</td>\n",
       "      <td>686.594348</td>\n",
       "      <td>40.816910</td>\n",
       "      <td>-0.000000</td>\n",
       "    </tr>\n",
       "    <tr>\n",
       "      <th>58</th>\n",
       "      <td>LD Car</td>\n",
       "      <td>BEV150</td>\n",
       "      <td>2025</td>\n",
       "      <td>2876.439506</td>\n",
       "      <td>2149.937278</td>\n",
       "      <td>727.411258</td>\n",
       "      <td>-0.909030</td>\n",
       "    </tr>\n",
       "    <tr>\n",
       "      <th>59</th>\n",
       "      <td>LD Car</td>\n",
       "      <td>BEV150</td>\n",
       "      <td>2030</td>\n",
       "      <td>4037.376101</td>\n",
       "      <td>1343.698439</td>\n",
       "      <td>2876.439506</td>\n",
       "      <td>-182.761845</td>\n",
       "    </tr>\n",
       "    <tr>\n",
       "      <th>60</th>\n",
       "      <td>LD Car</td>\n",
       "      <td>BEV150</td>\n",
       "      <td>2035</td>\n",
       "      <td>6140.081511</td>\n",
       "      <td>3002.077298</td>\n",
       "      <td>4037.376101</td>\n",
       "      <td>-899.371889</td>\n",
       "    </tr>\n",
       "    <tr>\n",
       "      <th>61</th>\n",
       "      <td>LD Car</td>\n",
       "      <td>BEV150</td>\n",
       "      <td>2040</td>\n",
       "      <td>6754.421764</td>\n",
       "      <td>2026.142532</td>\n",
       "      <td>6140.081511</td>\n",
       "      <td>-1411.802279</td>\n",
       "    </tr>\n",
       "    <tr>\n",
       "      <th>62</th>\n",
       "      <td>LD Car</td>\n",
       "      <td>BEV150</td>\n",
       "      <td>2045</td>\n",
       "      <td>7325.776047</td>\n",
       "      <td>2003.018025</td>\n",
       "      <td>6754.421764</td>\n",
       "      <td>-1431.663742</td>\n",
       "    </tr>\n",
       "    <tr>\n",
       "      <th>63</th>\n",
       "      <td>LD Car</td>\n",
       "      <td>BEV150</td>\n",
       "      <td>2050</td>\n",
       "      <td>7553.536834</td>\n",
       "      <td>2944.467976</td>\n",
       "      <td>7325.776047</td>\n",
       "      <td>-2716.707189</td>\n",
       "    </tr>\n",
       "  </tbody>\n",
       "</table>\n",
       "</div>"
      ],
      "text/plain": [
       "      mode    fuel  vintage  net capacity  new capacity  ex capacity  \\\n",
       "57  LD Car  BEV150     2021    727.411258    686.594348    40.816910   \n",
       "58  LD Car  BEV150     2025   2876.439506   2149.937278   727.411258   \n",
       "59  LD Car  BEV150     2030   4037.376101   1343.698439  2876.439506   \n",
       "60  LD Car  BEV150     2035   6140.081511   3002.077298  4037.376101   \n",
       "61  LD Car  BEV150     2040   6754.421764   2026.142532  6140.081511   \n",
       "62  LD Car  BEV150     2045   7325.776047   2003.018025  6754.421764   \n",
       "63  LD Car  BEV150     2050   7553.536834   2944.467976  7325.776047   \n",
       "\n",
       "    retired cap  \n",
       "57    -0.000000  \n",
       "58    -0.909030  \n",
       "59  -182.761845  \n",
       "60  -899.371889  \n",
       "61 -1411.802279  \n",
       "62 -1431.663742  \n",
       "63 -2716.707189  "
      ]
     },
     "execution_count": 139,
     "metadata": {},
     "output_type": "execute_result"
    }
   ],
   "source": [
    "merged_cap[(merged_cap['mode'] == 'LD Car') & (merged_cap['fuel'] == 'BEV150')]"
   ]
  },
  {
   "cell_type": "code",
   "execution_count": 140,
   "metadata": {},
   "outputs": [
    {
     "data": {
      "text/html": [
       "<div>\n",
       "<style scoped>\n",
       "    .dataframe tbody tr th:only-of-type {\n",
       "        vertical-align: middle;\n",
       "    }\n",
       "\n",
       "    .dataframe tbody tr th {\n",
       "        vertical-align: top;\n",
       "    }\n",
       "\n",
       "    .dataframe thead th {\n",
       "        text-align: right;\n",
       "    }\n",
       "</style>\n",
       "<table border=\"1\" class=\"dataframe\">\n",
       "  <thead>\n",
       "    <tr style=\"text-align: right;\">\n",
       "      <th></th>\n",
       "      <th>mode</th>\n",
       "      <th>fuel</th>\n",
       "      <th>vintage</th>\n",
       "      <th>net capacity</th>\n",
       "      <th>new capacity</th>\n",
       "      <th>ex capacity</th>\n",
       "      <th>retired cap</th>\n",
       "    </tr>\n",
       "  </thead>\n",
       "  <tbody>\n",
       "    <tr>\n",
       "      <th>106</th>\n",
       "      <td>LD Car</td>\n",
       "      <td>Gasoline</td>\n",
       "      <td>2021</td>\n",
       "      <td>3601.866902</td>\n",
       "      <td>0.002812</td>\n",
       "      <td>3601.864090</td>\n",
       "      <td>-0.000000</td>\n",
       "    </tr>\n",
       "    <tr>\n",
       "      <th>107</th>\n",
       "      <td>LD Car</td>\n",
       "      <td>Gasoline</td>\n",
       "      <td>2025</td>\n",
       "      <td>2822.689199</td>\n",
       "      <td>0.001944</td>\n",
       "      <td>3601.866902</td>\n",
       "      <td>-779.179647</td>\n",
       "    </tr>\n",
       "    <tr>\n",
       "      <th>108</th>\n",
       "      <td>LD Car</td>\n",
       "      <td>Gasoline</td>\n",
       "      <td>2030</td>\n",
       "      <td>1729.573568</td>\n",
       "      <td>0.001892</td>\n",
       "      <td>2822.689199</td>\n",
       "      <td>-1093.117523</td>\n",
       "    </tr>\n",
       "    <tr>\n",
       "      <th>109</th>\n",
       "      <td>LD Car</td>\n",
       "      <td>Gasoline</td>\n",
       "      <td>2035</td>\n",
       "      <td>753.839412</td>\n",
       "      <td>0.001549</td>\n",
       "      <td>1729.573568</td>\n",
       "      <td>-975.735705</td>\n",
       "    </tr>\n",
       "    <tr>\n",
       "      <th>110</th>\n",
       "      <td>LD Car</td>\n",
       "      <td>Gasoline</td>\n",
       "      <td>2040</td>\n",
       "      <td>414.556514</td>\n",
       "      <td>0.001557</td>\n",
       "      <td>753.839412</td>\n",
       "      <td>-339.284455</td>\n",
       "    </tr>\n",
       "    <tr>\n",
       "      <th>111</th>\n",
       "      <td>LD Car</td>\n",
       "      <td>Gasoline</td>\n",
       "      <td>2045</td>\n",
       "      <td>0.006146</td>\n",
       "      <td>0.001765</td>\n",
       "      <td>414.556514</td>\n",
       "      <td>-414.552133</td>\n",
       "    </tr>\n",
       "    <tr>\n",
       "      <th>112</th>\n",
       "      <td>LD Car</td>\n",
       "      <td>Gasoline</td>\n",
       "      <td>2050</td>\n",
       "      <td>0.005629</td>\n",
       "      <td>0.001836</td>\n",
       "      <td>0.006146</td>\n",
       "      <td>-0.002353</td>\n",
       "    </tr>\n",
       "  </tbody>\n",
       "</table>\n",
       "</div>"
      ],
      "text/plain": [
       "       mode      fuel  vintage  net capacity  new capacity  ex capacity  \\\n",
       "106  LD Car  Gasoline     2021   3601.866902      0.002812  3601.864090   \n",
       "107  LD Car  Gasoline     2025   2822.689199      0.001944  3601.866902   \n",
       "108  LD Car  Gasoline     2030   1729.573568      0.001892  2822.689199   \n",
       "109  LD Car  Gasoline     2035    753.839412      0.001549  1729.573568   \n",
       "110  LD Car  Gasoline     2040    414.556514      0.001557   753.839412   \n",
       "111  LD Car  Gasoline     2045      0.006146      0.001765   414.556514   \n",
       "112  LD Car  Gasoline     2050      0.005629      0.001836     0.006146   \n",
       "\n",
       "     retired cap  \n",
       "106    -0.000000  \n",
       "107  -779.179647  \n",
       "108 -1093.117523  \n",
       "109  -975.735705  \n",
       "110  -339.284455  \n",
       "111  -414.552133  \n",
       "112    -0.002353  "
      ]
     },
     "execution_count": 140,
     "metadata": {},
     "output_type": "execute_result"
    }
   ],
   "source": [
    "merged_cap[(merged_cap['mode'] == 'LD Car') & (merged_cap['fuel'] == 'Gasoline')]"
   ]
  },
  {
   "cell_type": "code",
   "execution_count": 141,
   "metadata": {},
   "outputs": [
    {
     "data": {
      "text/html": [
       "<div>\n",
       "<style scoped>\n",
       "    .dataframe tbody tr th:only-of-type {\n",
       "        vertical-align: middle;\n",
       "    }\n",
       "\n",
       "    .dataframe tbody tr th {\n",
       "        vertical-align: top;\n",
       "    }\n",
       "\n",
       "    .dataframe thead th {\n",
       "        text-align: right;\n",
       "    }\n",
       "</style>\n",
       "<table border=\"1\" class=\"dataframe\">\n",
       "  <thead>\n",
       "    <tr style=\"text-align: right;\">\n",
       "      <th></th>\n",
       "      <th></th>\n",
       "      <th>net capacity</th>\n",
       "      <th>new capacity</th>\n",
       "      <th>ex capacity</th>\n",
       "      <th>retired cap</th>\n",
       "    </tr>\n",
       "    <tr>\n",
       "      <th>mode</th>\n",
       "      <th>vintage</th>\n",
       "      <th></th>\n",
       "      <th></th>\n",
       "      <th></th>\n",
       "      <th></th>\n",
       "    </tr>\n",
       "  </thead>\n",
       "  <tbody>\n",
       "    <tr>\n",
       "      <th rowspan=\"7\" valign=\"top\">LD Car</th>\n",
       "      <th>2021</th>\n",
       "      <td>4502.158719</td>\n",
       "      <td>686.633039</td>\n",
       "      <td>3815.525680</td>\n",
       "      <td>0.000000</td>\n",
       "    </tr>\n",
       "    <tr>\n",
       "      <th>2025</th>\n",
       "      <td>5834.741455</td>\n",
       "      <td>2149.963468</td>\n",
       "      <td>4502.158719</td>\n",
       "      <td>-817.380732</td>\n",
       "    </tr>\n",
       "    <tr>\n",
       "      <th>2030</th>\n",
       "      <td>5847.325209</td>\n",
       "      <td>1343.732246</td>\n",
       "      <td>5834.741455</td>\n",
       "      <td>-1331.148492</td>\n",
       "    </tr>\n",
       "    <tr>\n",
       "      <th>2035</th>\n",
       "      <td>6930.909535</td>\n",
       "      <td>3002.107988</td>\n",
       "      <td>5847.325209</td>\n",
       "      <td>-1918.523662</td>\n",
       "    </tr>\n",
       "    <tr>\n",
       "      <th>2040</th>\n",
       "      <td>7187.619789</td>\n",
       "      <td>2026.176842</td>\n",
       "      <td>6930.909535</td>\n",
       "      <td>-1769.466588</td>\n",
       "    </tr>\n",
       "    <tr>\n",
       "      <th>2045</th>\n",
       "      <td>7325.894291</td>\n",
       "      <td>2003.054270</td>\n",
       "      <td>7187.619789</td>\n",
       "      <td>-1864.779767</td>\n",
       "    </tr>\n",
       "    <tr>\n",
       "      <th>2050</th>\n",
       "      <td>7553.656396</td>\n",
       "      <td>2944.509436</td>\n",
       "      <td>7325.894291</td>\n",
       "      <td>-2716.747331</td>\n",
       "    </tr>\n",
       "  </tbody>\n",
       "</table>\n",
       "</div>"
      ],
      "text/plain": [
       "                net capacity  new capacity  ex capacity  retired cap\n",
       "mode   vintage                                                      \n",
       "LD Car 2021      4502.158719    686.633039  3815.525680     0.000000\n",
       "       2025      5834.741455   2149.963468  4502.158719  -817.380732\n",
       "       2030      5847.325209   1343.732246  5834.741455 -1331.148492\n",
       "       2035      6930.909535   3002.107988  5847.325209 -1918.523662\n",
       "       2040      7187.619789   2026.176842  6930.909535 -1769.466588\n",
       "       2045      7325.894291   2003.054270  7187.619789 -1864.779767\n",
       "       2050      7553.656396   2944.509436  7325.894291 -2716.747331"
      ]
     },
     "execution_count": 141,
     "metadata": {},
     "output_type": "execute_result"
    }
   ],
   "source": [
    "merged_cap[merged_cap['mode'] == 'LD Car'].groupby(['mode', 'vintage']).sum(['net capacity', 'new capacity', 'ex capacity', 'retired cap'])"
   ]
  },
  {
   "cell_type": "code",
   "execution_count": 142,
   "metadata": {},
   "outputs": [],
   "source": [
    "cap = merged_cap.melt(id_vars=['mode', 'fuel', 'vintage'],\n",
    "                       value_vars=['net capacity', 'ex capacity', 'new capacity', 'retired cap'],\n",
    "                       var_name='cap type', value_name='capacity')\n",
    "\n",
    "cap['capacity'] = cap['capacity'] / 1E3\n",
    "cap = cap[(abs(cap['capacity']) > 1e-3) & (\n",
    "                                            (cap['mode'] == 'LD Car') |\n",
    "                                            (cap['mode'] == 'LD Truck')\n",
    "                                            ) & (cap['cap type'] != 'ex capacity')].reset_index(drop=True)\n",
    "cap['vintage'] = cap['vintage'].astype('str')\n",
    "\n",
    "# cap.to_csv('car_cap.csv', index=False)\n",
    "# cap.to_clipboard()"
   ]
  },
  {
   "cell_type": "code",
   "execution_count": 143,
   "metadata": {},
   "outputs": [
    {
     "data": {
      "application/vnd.plotly.v1+json": {
       "config": {
        "plotlyServerURL": "https://plot.ly"
       },
       "data": [
        {
         "alignmentgroup": "True",
         "hovertemplate": "fuel=Gasoline<br>cap type=%{x}<br>mode=LD Car<br>vintage=2021<br>capacity=%{y}<extra></extra>",
         "legendgroup": "Gasoline, net capacity",
         "marker": {
          "color": "rgb(127, 60, 141)",
          "pattern": {
           "shape": ""
          }
         },
         "name": "Gasoline",
         "offsetgroup": "Gasoline, net capacity",
         "orientation": "v",
         "showlegend": true,
         "textfont": {
          "size": 11
         },
         "textposition": "auto",
         "texttemplate": "%{y:.2f}",
         "type": "bar",
         "x": [
          "net capacity"
         ],
         "xaxis": "x8",
         "y": [
          3.601866902243763
         ],
         "yaxis": "y8"
        },
        {
         "alignmentgroup": "True",
         "hovertemplate": "fuel=Gasoline<br>cap type=%{x}<br>mode=LD Car<br>vintage=2025<br>capacity=%{y}<extra></extra>",
         "legendgroup": "Gasoline, net capacity",
         "marker": {
          "color": "rgb(127, 60, 141)",
          "pattern": {
           "shape": ""
          }
         },
         "name": "Gasoline",
         "offsetgroup": "Gasoline, net capacity",
         "orientation": "v",
         "showlegend": false,
         "textfont": {
          "size": 11
         },
         "textposition": "auto",
         "texttemplate": "%{y:.2f}",
         "type": "bar",
         "x": [
          "net capacity"
         ],
         "xaxis": "x9",
         "y": [
          2.822689198531544
         ],
         "yaxis": "y9"
        },
        {
         "alignmentgroup": "True",
         "hovertemplate": "fuel=Gasoline<br>cap type=%{x}<br>mode=LD Car<br>vintage=2030<br>capacity=%{y}<extra></extra>",
         "legendgroup": "Gasoline, net capacity",
         "marker": {
          "color": "rgb(127, 60, 141)",
          "pattern": {
           "shape": ""
          }
         },
         "name": "Gasoline",
         "offsetgroup": "Gasoline, net capacity",
         "orientation": "v",
         "showlegend": false,
         "textfont": {
          "size": 11
         },
         "textposition": "auto",
         "texttemplate": "%{y:.2f}",
         "type": "bar",
         "x": [
          "net capacity"
         ],
         "xaxis": "x10",
         "y": [
          1.7295735675235195
         ],
         "yaxis": "y10"
        },
        {
         "alignmentgroup": "True",
         "hovertemplate": "fuel=Gasoline<br>cap type=%{x}<br>mode=LD Car<br>vintage=2035<br>capacity=%{y}<extra></extra>",
         "legendgroup": "Gasoline, net capacity",
         "marker": {
          "color": "rgb(127, 60, 141)",
          "pattern": {
           "shape": ""
          }
         },
         "name": "Gasoline",
         "offsetgroup": "Gasoline, net capacity",
         "orientation": "v",
         "showlegend": false,
         "textfont": {
          "size": 11
         },
         "textposition": "auto",
         "texttemplate": "%{y:.2f}",
         "type": "bar",
         "x": [
          "net capacity"
         ],
         "xaxis": "x11",
         "y": [
          0.7538394116722518
         ],
         "yaxis": "y11"
        },
        {
         "alignmentgroup": "True",
         "hovertemplate": "fuel=Gasoline<br>cap type=%{x}<br>mode=LD Car<br>vintage=2040<br>capacity=%{y}<extra></extra>",
         "legendgroup": "Gasoline, net capacity",
         "marker": {
          "color": "rgb(127, 60, 141)",
          "pattern": {
           "shape": ""
          }
         },
         "name": "Gasoline",
         "offsetgroup": "Gasoline, net capacity",
         "orientation": "v",
         "showlegend": false,
         "textfont": {
          "size": 11
         },
         "textposition": "auto",
         "texttemplate": "%{y:.2f}",
         "type": "bar",
         "x": [
          "net capacity"
         ],
         "xaxis": "x12",
         "y": [
          0.4145565139540856
         ],
         "yaxis": "y12"
        },
        {
         "alignmentgroup": "True",
         "hovertemplate": "fuel=Gasoline<br>cap type=%{x}<br>mode=LD Truck<br>vintage=2021<br>capacity=%{y}<extra></extra>",
         "legendgroup": "Gasoline, net capacity",
         "marker": {
          "color": "rgb(127, 60, 141)",
          "pattern": {
           "shape": ""
          }
         },
         "name": "Gasoline",
         "offsetgroup": "Gasoline, net capacity",
         "orientation": "v",
         "showlegend": false,
         "textfont": {
          "size": 11
         },
         "textposition": "auto",
         "texttemplate": "%{y:.2f}",
         "type": "bar",
         "x": [
          "net capacity"
         ],
         "xaxis": "x",
         "y": [
          4.614948849153972
         ],
         "yaxis": "y"
        },
        {
         "alignmentgroup": "True",
         "hovertemplate": "fuel=Gasoline<br>cap type=%{x}<br>mode=LD Truck<br>vintage=2025<br>capacity=%{y}<extra></extra>",
         "legendgroup": "Gasoline, net capacity",
         "marker": {
          "color": "rgb(127, 60, 141)",
          "pattern": {
           "shape": ""
          }
         },
         "name": "Gasoline",
         "offsetgroup": "Gasoline, net capacity",
         "orientation": "v",
         "showlegend": false,
         "textfont": {
          "size": 11
         },
         "textposition": "auto",
         "texttemplate": "%{y:.2f}",
         "type": "bar",
         "x": [
          "net capacity"
         ],
         "xaxis": "x2",
         "y": [
          4.225286787321771
         ],
         "yaxis": "y2"
        },
        {
         "alignmentgroup": "True",
         "hovertemplate": "fuel=Gasoline<br>cap type=%{x}<br>mode=LD Truck<br>vintage=2030<br>capacity=%{y}<extra></extra>",
         "legendgroup": "Gasoline, net capacity",
         "marker": {
          "color": "rgb(127, 60, 141)",
          "pattern": {
           "shape": ""
          }
         },
         "name": "Gasoline",
         "offsetgroup": "Gasoline, net capacity",
         "orientation": "v",
         "showlegend": false,
         "textfont": {
          "size": 11
         },
         "textposition": "auto",
         "texttemplate": "%{y:.2f}",
         "type": "bar",
         "x": [
          "net capacity"
         ],
         "xaxis": "x3",
         "y": [
          2.9537805508670556
         ],
         "yaxis": "y3"
        },
        {
         "alignmentgroup": "True",
         "hovertemplate": "fuel=Gasoline<br>cap type=%{x}<br>mode=LD Truck<br>vintage=2035<br>capacity=%{y}<extra></extra>",
         "legendgroup": "Gasoline, net capacity",
         "marker": {
          "color": "rgb(127, 60, 141)",
          "pattern": {
           "shape": ""
          }
         },
         "name": "Gasoline",
         "offsetgroup": "Gasoline, net capacity",
         "orientation": "v",
         "showlegend": false,
         "textfont": {
          "size": 11
         },
         "textposition": "auto",
         "texttemplate": "%{y:.2f}",
         "type": "bar",
         "x": [
          "net capacity"
         ],
         "xaxis": "x4",
         "y": [
          2.174446366313247
         ],
         "yaxis": "y4"
        },
        {
         "alignmentgroup": "True",
         "hovertemplate": "fuel=Gasoline<br>cap type=%{x}<br>mode=LD Truck<br>vintage=2040<br>capacity=%{y}<extra></extra>",
         "legendgroup": "Gasoline, net capacity",
         "marker": {
          "color": "rgb(127, 60, 141)",
          "pattern": {
           "shape": ""
          }
         },
         "name": "Gasoline",
         "offsetgroup": "Gasoline, net capacity",
         "orientation": "v",
         "showlegend": false,
         "textfont": {
          "size": 11
         },
         "textposition": "auto",
         "texttemplate": "%{y:.2f}",
         "type": "bar",
         "x": [
          "net capacity"
         ],
         "xaxis": "x5",
         "y": [
          0.9000314314294643
         ],
         "yaxis": "y5"
        },
        {
         "alignmentgroup": "True",
         "hovertemplate": "fuel=Gasoline<br>cap type=%{x}<br>mode=LD Truck<br>vintage=2045<br>capacity=%{y}<extra></extra>",
         "legendgroup": "Gasoline, net capacity",
         "marker": {
          "color": "rgb(127, 60, 141)",
          "pattern": {
           "shape": ""
          }
         },
         "name": "Gasoline",
         "offsetgroup": "Gasoline, net capacity",
         "orientation": "v",
         "showlegend": false,
         "textfont": {
          "size": 11
         },
         "textposition": "auto",
         "texttemplate": "%{y:.2f}",
         "type": "bar",
         "x": [
          "net capacity"
         ],
         "xaxis": "x6",
         "y": [
          0.5103633532740545
         ],
         "yaxis": "y6"
        },
        {
         "alignmentgroup": "True",
         "hovertemplate": "fuel=Gasoline<br>cap type=%{x}<br>mode=LD Car<br>vintage=2025<br>capacity=%{y}<extra></extra>",
         "legendgroup": "Gasoline, retired cap",
         "marker": {
          "color": "rgb(127, 60, 141)",
          "pattern": {
           "shape": "/"
          }
         },
         "name": "Gasoline",
         "offsetgroup": "Gasoline, retired cap",
         "orientation": "v",
         "showlegend": false,
         "textfont": {
          "size": 11
         },
         "textposition": "auto",
         "texttemplate": "%{y:.2f}",
         "type": "bar",
         "x": [
          "retired cap"
         ],
         "xaxis": "x9",
         "y": [
          -0.7791796474999997
         ],
         "yaxis": "y9"
        },
        {
         "alignmentgroup": "True",
         "hovertemplate": "fuel=Gasoline<br>cap type=%{x}<br>mode=LD Car<br>vintage=2030<br>capacity=%{y}<extra></extra>",
         "legendgroup": "Gasoline, retired cap",
         "marker": {
          "color": "rgb(127, 60, 141)",
          "pattern": {
           "shape": "/"
          }
         },
         "name": "Gasoline",
         "offsetgroup": "Gasoline, retired cap",
         "orientation": "v",
         "showlegend": false,
         "textfont": {
          "size": 11
         },
         "textposition": "auto",
         "texttemplate": "%{y:.2f}",
         "type": "bar",
         "x": [
          "retired cap"
         ],
         "xaxis": "x10",
         "y": [
          -1.0931175230606969
         ],
         "yaxis": "y10"
        },
        {
         "alignmentgroup": "True",
         "hovertemplate": "fuel=Gasoline<br>cap type=%{x}<br>mode=LD Car<br>vintage=2035<br>capacity=%{y}<extra></extra>",
         "legendgroup": "Gasoline, retired cap",
         "marker": {
          "color": "rgb(127, 60, 141)",
          "pattern": {
           "shape": "/"
          }
         },
         "name": "Gasoline",
         "offsetgroup": "Gasoline, retired cap",
         "orientation": "v",
         "showlegend": false,
         "textfont": {
          "size": 11
         },
         "textposition": "auto",
         "texttemplate": "%{y:.2f}",
         "type": "bar",
         "x": [
          "retired cap"
         ],
         "xaxis": "x11",
         "y": [
          -0.9757357045674891
         ],
         "yaxis": "y11"
        },
        {
         "alignmentgroup": "True",
         "hovertemplate": "fuel=Gasoline<br>cap type=%{x}<br>mode=LD Car<br>vintage=2040<br>capacity=%{y}<extra></extra>",
         "legendgroup": "Gasoline, retired cap",
         "marker": {
          "color": "rgb(127, 60, 141)",
          "pattern": {
           "shape": "/"
          }
         },
         "name": "Gasoline",
         "offsetgroup": "Gasoline, retired cap",
         "orientation": "v",
         "showlegend": false,
         "textfont": {
          "size": 11
         },
         "textposition": "auto",
         "texttemplate": "%{y:.2f}",
         "type": "bar",
         "x": [
          "retired cap"
         ],
         "xaxis": "x12",
         "y": [
          -0.33928445490877757
         ],
         "yaxis": "y12"
        },
        {
         "alignmentgroup": "True",
         "hovertemplate": "fuel=Gasoline<br>cap type=%{x}<br>mode=LD Car<br>vintage=2045<br>capacity=%{y}<extra></extra>",
         "legendgroup": "Gasoline, retired cap",
         "marker": {
          "color": "rgb(127, 60, 141)",
          "pattern": {
           "shape": "/"
          }
         },
         "name": "Gasoline",
         "offsetgroup": "Gasoline, retired cap",
         "orientation": "v",
         "showlegend": false,
         "textfont": {
          "size": 11
         },
         "textposition": "auto",
         "texttemplate": "%{y:.2f}",
         "type": "bar",
         "x": [
          "retired cap"
         ],
         "xaxis": "x13",
         "y": [
          -0.4145521332028394
         ],
         "yaxis": "y13"
        },
        {
         "alignmentgroup": "True",
         "hovertemplate": "fuel=Gasoline<br>cap type=%{x}<br>mode=LD Truck<br>vintage=2025<br>capacity=%{y}<extra></extra>",
         "legendgroup": "Gasoline, retired cap",
         "marker": {
          "color": "rgb(127, 60, 141)",
          "pattern": {
           "shape": "/"
          }
         },
         "name": "Gasoline",
         "offsetgroup": "Gasoline, retired cap",
         "orientation": "v",
         "showlegend": false,
         "textfont": {
          "size": 11
         },
         "textposition": "auto",
         "texttemplate": "%{y:.2f}",
         "type": "bar",
         "x": [
          "retired cap"
         ],
         "xaxis": "x2",
         "y": [
          -0.38966819750000015
         ],
         "yaxis": "y2"
        },
        {
         "alignmentgroup": "True",
         "hovertemplate": "fuel=Gasoline<br>cap type=%{x}<br>mode=LD Truck<br>vintage=2030<br>capacity=%{y}<extra></extra>",
         "legendgroup": "Gasoline, retired cap",
         "marker": {
          "color": "rgb(127, 60, 141)",
          "pattern": {
           "shape": "/"
          }
         },
         "name": "Gasoline",
         "offsetgroup": "Gasoline, retired cap",
         "orientation": "v",
         "showlegend": false,
         "textfont": {
          "size": 11
         },
         "textposition": "auto",
         "texttemplate": "%{y:.2f}",
         "type": "bar",
         "x": [
          "retired cap"
         ],
         "xaxis": "x3",
         "y": [
          -1.2715111897996172
         ],
         "yaxis": "y3"
        },
        {
         "alignmentgroup": "True",
         "hovertemplate": "fuel=Gasoline<br>cap type=%{x}<br>mode=LD Truck<br>vintage=2035<br>capacity=%{y}<extra></extra>",
         "legendgroup": "Gasoline, retired cap",
         "marker": {
          "color": "rgb(127, 60, 141)",
          "pattern": {
           "shape": "/"
          }
         },
         "name": "Gasoline",
         "offsetgroup": "Gasoline, retired cap",
         "orientation": "v",
         "showlegend": false,
         "textfont": {
          "size": 11
         },
         "textposition": "auto",
         "texttemplate": "%{y:.2f}",
         "type": "bar",
         "x": [
          "retired cap"
         ],
         "xaxis": "x4",
         "y": [
          -0.7793379289242526
         ],
         "yaxis": "y4"
        },
        {
         "alignmentgroup": "True",
         "hovertemplate": "fuel=Gasoline<br>cap type=%{x}<br>mode=LD Truck<br>vintage=2040<br>capacity=%{y}<extra></extra>",
         "legendgroup": "Gasoline, retired cap",
         "marker": {
          "color": "rgb(127, 60, 141)",
          "pattern": {
           "shape": "/"
          }
         },
         "name": "Gasoline",
         "offsetgroup": "Gasoline, retired cap",
         "orientation": "v",
         "showlegend": false,
         "textfont": {
          "size": 11
         },
         "textposition": "auto",
         "texttemplate": "%{y:.2f}",
         "type": "bar",
         "x": [
          "retired cap"
         ],
         "xaxis": "x5",
         "y": [
          -1.2744181804065915
         ],
         "yaxis": "y5"
        },
        {
         "alignmentgroup": "True",
         "hovertemplate": "fuel=Gasoline<br>cap type=%{x}<br>mode=LD Truck<br>vintage=2045<br>capacity=%{y}<extra></extra>",
         "legendgroup": "Gasoline, retired cap",
         "marker": {
          "color": "rgb(127, 60, 141)",
          "pattern": {
           "shape": "/"
          }
         },
         "name": "Gasoline",
         "offsetgroup": "Gasoline, retired cap",
         "orientation": "v",
         "showlegend": false,
         "textfont": {
          "size": 11
         },
         "textposition": "auto",
         "texttemplate": "%{y:.2f}",
         "type": "bar",
         "x": [
          "retired cap"
         ],
         "xaxis": "x6",
         "y": [
          -0.38967220142704767
         ],
         "yaxis": "y6"
        },
        {
         "alignmentgroup": "True",
         "hovertemplate": "fuel=Gasoline<br>cap type=%{x}<br>mode=LD Truck<br>vintage=2050<br>capacity=%{y}<extra></extra>",
         "legendgroup": "Gasoline, retired cap",
         "marker": {
          "color": "rgb(127, 60, 141)",
          "pattern": {
           "shape": "/"
          }
         },
         "name": "Gasoline",
         "offsetgroup": "Gasoline, retired cap",
         "orientation": "v",
         "showlegend": false,
         "textfont": {
          "size": 11
         },
         "textposition": "auto",
         "texttemplate": "%{y:.2f}",
         "type": "bar",
         "x": [
          "retired cap"
         ],
         "xaxis": "x7",
         "y": [
          -0.510351215343852
         ],
         "yaxis": "y7"
        },
        {
         "alignmentgroup": "True",
         "hovertemplate": "fuel=Diesel<br>cap type=%{x}<br>mode=LD Car<br>vintage=2021<br>capacity=%{y}<extra></extra>",
         "legendgroup": "Diesel, net capacity",
         "marker": {
          "color": "rgb(17, 165, 121)",
          "pattern": {
           "shape": ""
          }
         },
         "name": "Diesel",
         "offsetgroup": "Diesel, net capacity",
         "orientation": "v",
         "showlegend": true,
         "textfont": {
          "size": 11
         },
         "textposition": "auto",
         "texttemplate": "%{y:.2f}",
         "type": "bar",
         "x": [
          "net capacity"
         ],
         "xaxis": "x8",
         "y": [
          0.06920775621035073
         ],
         "yaxis": "y8"
        },
        {
         "alignmentgroup": "True",
         "hovertemplate": "fuel=Diesel<br>cap type=%{x}<br>mode=LD Car<br>vintage=2025<br>capacity=%{y}<extra></extra>",
         "legendgroup": "Diesel, net capacity",
         "marker": {
          "color": "rgb(17, 165, 121)",
          "pattern": {
           "shape": ""
          }
         },
         "name": "Diesel",
         "offsetgroup": "Diesel, net capacity",
         "orientation": "v",
         "showlegend": false,
         "textfont": {
          "size": 11
         },
         "textposition": "auto",
         "texttemplate": "%{y:.2f}",
         "type": "bar",
         "x": [
          "net capacity"
         ],
         "xaxis": "x9",
         "y": [
          0.04024076031073857
         ],
         "yaxis": "y9"
        },
        {
         "alignmentgroup": "True",
         "hovertemplate": "fuel=Diesel<br>cap type=%{x}<br>mode=LD Car<br>vintage=2030<br>capacity=%{y}<extra></extra>",
         "legendgroup": "Diesel, net capacity",
         "marker": {
          "color": "rgb(17, 165, 121)",
          "pattern": {
           "shape": ""
          }
         },
         "name": "Diesel",
         "offsetgroup": "Diesel, net capacity",
         "orientation": "v",
         "showlegend": false,
         "textfont": {
          "size": 11
         },
         "textposition": "auto",
         "texttemplate": "%{y:.2f}",
         "type": "bar",
         "x": [
          "net capacity"
         ],
         "xaxis": "x10",
         "y": [
          0.019214931328176834
         ],
         "yaxis": "y10"
        },
        {
         "alignmentgroup": "True",
         "hovertemplate": "fuel=Diesel<br>cap type=%{x}<br>mode=LD Car<br>vintage=2035<br>capacity=%{y}<extra></extra>",
         "legendgroup": "Diesel, net capacity",
         "marker": {
          "color": "rgb(17, 165, 121)",
          "pattern": {
           "shape": ""
          }
         },
         "name": "Diesel",
         "offsetgroup": "Diesel, net capacity",
         "orientation": "v",
         "showlegend": false,
         "textfont": {
          "size": 11
         },
         "textposition": "auto",
         "texttemplate": "%{y:.2f}",
         "type": "bar",
         "x": [
          "net capacity"
         ],
         "xaxis": "x11",
         "y": [
          0.010996330429553582
         ],
         "yaxis": "y11"
        },
        {
         "alignmentgroup": "True",
         "hovertemplate": "fuel=Diesel<br>cap type=%{x}<br>mode=LD Truck<br>vintage=2021<br>capacity=%{y}<extra></extra>",
         "legendgroup": "Diesel, net capacity",
         "marker": {
          "color": "rgb(17, 165, 121)",
          "pattern": {
           "shape": ""
          }
         },
         "name": "Diesel",
         "offsetgroup": "Diesel, net capacity",
         "orientation": "v",
         "showlegend": false,
         "textfont": {
          "size": 11
         },
         "textposition": "auto",
         "texttemplate": "%{y:.2f}",
         "type": "bar",
         "x": [
          "net capacity"
         ],
         "xaxis": "x",
         "y": [
          0.21860859078261108
         ],
         "yaxis": "y"
        },
        {
         "alignmentgroup": "True",
         "hovertemplate": "fuel=Diesel<br>cap type=%{x}<br>mode=LD Truck<br>vintage=2025<br>capacity=%{y}<extra></extra>",
         "legendgroup": "Diesel, net capacity",
         "marker": {
          "color": "rgb(17, 165, 121)",
          "pattern": {
           "shape": ""
          }
         },
         "name": "Diesel",
         "offsetgroup": "Diesel, net capacity",
         "orientation": "v",
         "showlegend": false,
         "textfont": {
          "size": 11
         },
         "textposition": "auto",
         "texttemplate": "%{y:.2f}",
         "type": "bar",
         "x": [
          "net capacity"
         ],
         "xaxis": "x2",
         "y": [
          0.1998214351703291
         ],
         "yaxis": "y2"
        },
        {
         "alignmentgroup": "True",
         "hovertemplate": "fuel=Diesel<br>cap type=%{x}<br>mode=LD Truck<br>vintage=2030<br>capacity=%{y}<extra></extra>",
         "legendgroup": "Diesel, net capacity",
         "marker": {
          "color": "rgb(17, 165, 121)",
          "pattern": {
           "shape": ""
          }
         },
         "name": "Diesel",
         "offsetgroup": "Diesel, net capacity",
         "orientation": "v",
         "showlegend": false,
         "textfont": {
          "size": 11
         },
         "textposition": "auto",
         "texttemplate": "%{y:.2f}",
         "type": "bar",
         "x": [
          "net capacity"
         ],
         "xaxis": "x3",
         "y": [
          0.14428772171314164
         ],
         "yaxis": "y3"
        },
        {
         "alignmentgroup": "True",
         "hovertemplate": "fuel=Diesel<br>cap type=%{x}<br>mode=LD Truck<br>vintage=2035<br>capacity=%{y}<extra></extra>",
         "legendgroup": "Diesel, net capacity",
         "marker": {
          "color": "rgb(17, 165, 121)",
          "pattern": {
           "shape": ""
          }
         },
         "name": "Diesel",
         "offsetgroup": "Diesel, net capacity",
         "orientation": "v",
         "showlegend": false,
         "textfont": {
          "size": 11
         },
         "textposition": "auto",
         "texttemplate": "%{y:.2f}",
         "type": "bar",
         "x": [
          "net capacity"
         ],
         "xaxis": "x4",
         "y": [
          0.10670348249715149
         ],
         "yaxis": "y4"
        },
        {
         "alignmentgroup": "True",
         "hovertemplate": "fuel=Diesel<br>cap type=%{x}<br>mode=LD Truck<br>vintage=2040<br>capacity=%{y}<extra></extra>",
         "legendgroup": "Diesel, net capacity",
         "marker": {
          "color": "rgb(17, 165, 121)",
          "pattern": {
           "shape": ""
          }
         },
         "name": "Diesel",
         "offsetgroup": "Diesel, net capacity",
         "orientation": "v",
         "showlegend": false,
         "textfont": {
          "size": 11
         },
         "textposition": "auto",
         "texttemplate": "%{y:.2f}",
         "type": "bar",
         "x": [
          "net capacity"
         ],
         "xaxis": "x5",
         "y": [
          0.0448283240506173
         ],
         "yaxis": "y5"
        },
        {
         "alignmentgroup": "True",
         "hovertemplate": "fuel=Diesel<br>cap type=%{x}<br>mode=LD Truck<br>vintage=2045<br>capacity=%{y}<extra></extra>",
         "legendgroup": "Diesel, net capacity",
         "marker": {
          "color": "rgb(17, 165, 121)",
          "pattern": {
           "shape": ""
          }
         },
         "name": "Diesel",
         "offsetgroup": "Diesel, net capacity",
         "orientation": "v",
         "showlegend": false,
         "textfont": {
          "size": 11
         },
         "textposition": "auto",
         "texttemplate": "%{y:.2f}",
         "type": "bar",
         "x": [
          "net capacity"
         ],
         "xaxis": "x6",
         "y": [
          0.026034909894937237
         ],
         "yaxis": "y6"
        },
        {
         "alignmentgroup": "True",
         "hovertemplate": "fuel=Diesel<br>cap type=%{x}<br>mode=LD Car<br>vintage=2025<br>capacity=%{y}<extra></extra>",
         "legendgroup": "Diesel, retired cap",
         "marker": {
          "color": "rgb(17, 165, 121)",
          "pattern": {
           "shape": "/"
          }
         },
         "name": "Diesel",
         "offsetgroup": "Diesel, retired cap",
         "orientation": "v",
         "showlegend": false,
         "textfont": {
          "size": 11
         },
         "textposition": "auto",
         "texttemplate": "%{y:.2f}",
         "type": "bar",
         "x": [
          "retired cap"
         ],
         "xaxis": "x9",
         "y": [
          -0.028968959999999995
         ],
         "yaxis": "y9"
        },
        {
         "alignmentgroup": "True",
         "hovertemplate": "fuel=Diesel<br>cap type=%{x}<br>mode=LD Car<br>vintage=2030<br>capacity=%{y}<extra></extra>",
         "legendgroup": "Diesel, retired cap",
         "marker": {
          "color": "rgb(17, 165, 121)",
          "pattern": {
           "shape": "/"
          }
         },
         "name": "Diesel",
         "offsetgroup": "Diesel, retired cap",
         "orientation": "v",
         "showlegend": false,
         "textfont": {
          "size": 11
         },
         "textposition": "auto",
         "texttemplate": "%{y:.2f}",
         "type": "bar",
         "x": [
          "retired cap"
         ],
         "xaxis": "x10",
         "y": [
          -0.02102782905233119
         ],
         "yaxis": "y10"
        },
        {
         "alignmentgroup": "True",
         "hovertemplate": "fuel=Diesel<br>cap type=%{x}<br>mode=LD Car<br>vintage=2035<br>capacity=%{y}<extra></extra>",
         "legendgroup": "Diesel, retired cap",
         "marker": {
          "color": "rgb(17, 165, 121)",
          "pattern": {
           "shape": "/"
          }
         },
         "name": "Diesel",
         "offsetgroup": "Diesel, retired cap",
         "orientation": "v",
         "showlegend": false,
         "textfont": {
          "size": 11
         },
         "textposition": "auto",
         "texttemplate": "%{y:.2f}",
         "type": "bar",
         "x": [
          "retired cap"
         ],
         "xaxis": "x11",
         "y": [
          -0.008220286628931886
         ],
         "yaxis": "y11"
        },
        {
         "alignmentgroup": "True",
         "hovertemplate": "fuel=Diesel<br>cap type=%{x}<br>mode=LD Car<br>vintage=2040<br>capacity=%{y}<extra></extra>",
         "legendgroup": "Diesel, retired cap",
         "marker": {
          "color": "rgb(17, 165, 121)",
          "pattern": {
           "shape": "/"
          }
         },
         "name": "Diesel",
         "offsetgroup": "Diesel, retired cap",
         "orientation": "v",
         "showlegend": false,
         "textfont": {
          "size": 11
         },
         "textposition": "auto",
         "texttemplate": "%{y:.2f}",
         "type": "bar",
         "x": [
          "retired cap"
         ],
         "xaxis": "x12",
         "y": [
          -0.010038139569353188
         ],
         "yaxis": "y12"
        },
        {
         "alignmentgroup": "True",
         "hovertemplate": "fuel=Diesel<br>cap type=%{x}<br>mode=LD Truck<br>vintage=2025<br>capacity=%{y}<extra></extra>",
         "legendgroup": "Diesel, retired cap",
         "marker": {
          "color": "rgb(17, 165, 121)",
          "pattern": {
           "shape": "/"
          }
         },
         "name": "Diesel",
         "offsetgroup": "Diesel, retired cap",
         "orientation": "v",
         "showlegend": false,
         "textfont": {
          "size": 11
         },
         "textposition": "auto",
         "texttemplate": "%{y:.2f}",
         "type": "bar",
         "x": [
          "retired cap"
         ],
         "xaxis": "x2",
         "y": [
          -0.01879342249999999
         ],
         "yaxis": "y2"
        },
        {
         "alignmentgroup": "True",
         "hovertemplate": "fuel=Diesel<br>cap type=%{x}<br>mode=LD Truck<br>vintage=2030<br>capacity=%{y}<extra></extra>",
         "legendgroup": "Diesel, retired cap",
         "marker": {
          "color": "rgb(17, 165, 121)",
          "pattern": {
           "shape": "/"
          }
         },
         "name": "Diesel",
         "offsetgroup": "Diesel, retired cap",
         "orientation": "v",
         "showlegend": false,
         "textfont": {
          "size": 11
         },
         "textposition": "auto",
         "texttemplate": "%{y:.2f}",
         "type": "bar",
         "x": [
          "retired cap"
         ],
         "xaxis": "x3",
         "y": [
          -0.05553895520673123
         ],
         "yaxis": "y3"
        },
        {
         "alignmentgroup": "True",
         "hovertemplate": "fuel=Diesel<br>cap type=%{x}<br>mode=LD Truck<br>vintage=2035<br>capacity=%{y}<extra></extra>",
         "legendgroup": "Diesel, retired cap",
         "marker": {
          "color": "rgb(17, 165, 121)",
          "pattern": {
           "shape": "/"
          }
         },
         "name": "Diesel",
         "offsetgroup": "Diesel, retired cap",
         "orientation": "v",
         "showlegend": false,
         "textfont": {
          "size": 11
         },
         "textposition": "auto",
         "texttemplate": "%{y:.2f}",
         "type": "bar",
         "x": [
          "retired cap"
         ],
         "xaxis": "x4",
         "y": [
          -0.03758841172918427
         ],
         "yaxis": "y4"
        },
        {
         "alignmentgroup": "True",
         "hovertemplate": "fuel=Diesel<br>cap type=%{x}<br>mode=LD Truck<br>vintage=2040<br>capacity=%{y}<extra></extra>",
         "legendgroup": "Diesel, retired cap",
         "marker": {
          "color": "rgb(17, 165, 121)",
          "pattern": {
           "shape": "/"
          }
         },
         "name": "Diesel",
         "offsetgroup": "Diesel, retired cap",
         "orientation": "v",
         "showlegend": false,
         "textfont": {
          "size": 11
         },
         "textposition": "auto",
         "texttemplate": "%{y:.2f}",
         "type": "bar",
         "x": [
          "retired cap"
         ],
         "xaxis": "x5",
         "y": [
          -0.06187864582206852
         ],
         "yaxis": "y5"
        },
        {
         "alignmentgroup": "True",
         "hovertemplate": "fuel=Diesel<br>cap type=%{x}<br>mode=LD Truck<br>vintage=2045<br>capacity=%{y}<extra></extra>",
         "legendgroup": "Diesel, retired cap",
         "marker": {
          "color": "rgb(17, 165, 121)",
          "pattern": {
           "shape": "/"
          }
         },
         "name": "Diesel",
         "offsetgroup": "Diesel, retired cap",
         "orientation": "v",
         "showlegend": false,
         "textfont": {
          "size": 11
         },
         "textposition": "auto",
         "texttemplate": "%{y:.2f}",
         "type": "bar",
         "x": [
          "retired cap"
         ],
         "xaxis": "x6",
         "y": [
          -0.018797599072686303
         ],
         "yaxis": "y6"
        },
        {
         "alignmentgroup": "True",
         "hovertemplate": "fuel=Diesel<br>cap type=%{x}<br>mode=LD Truck<br>vintage=2050<br>capacity=%{y}<extra></extra>",
         "legendgroup": "Diesel, retired cap",
         "marker": {
          "color": "rgb(17, 165, 121)",
          "pattern": {
           "shape": "/"
          }
         },
         "name": "Diesel",
         "offsetgroup": "Diesel, retired cap",
         "orientation": "v",
         "showlegend": false,
         "textfont": {
          "size": 11
         },
         "textposition": "auto",
         "texttemplate": "%{y:.2f}",
         "type": "bar",
         "x": [
          "retired cap"
         ],
         "xaxis": "x7",
         "y": [
          -0.02602210291653172
         ],
         "yaxis": "y7"
        },
        {
         "alignmentgroup": "True",
         "hovertemplate": "fuel=BEV150<br>cap type=%{x}<br>mode=LD Car<br>vintage=2021<br>capacity=%{y}<extra></extra>",
         "legendgroup": "BEV150, net capacity",
         "marker": {
          "color": "rgb(242, 183, 1)",
          "pattern": {
           "shape": ""
          }
         },
         "name": "BEV150",
         "offsetgroup": "BEV150, net capacity",
         "orientation": "v",
         "showlegend": true,
         "textfont": {
          "size": 11
         },
         "textposition": "auto",
         "texttemplate": "%{y:.2f}",
         "type": "bar",
         "x": [
          "net capacity"
         ],
         "xaxis": "x8",
         "y": [
          0.7274112581075564
         ],
         "yaxis": "y8"
        },
        {
         "alignmentgroup": "True",
         "hovertemplate": "fuel=BEV150<br>cap type=%{x}<br>mode=LD Car<br>vintage=2025<br>capacity=%{y}<extra></extra>",
         "legendgroup": "BEV150, net capacity",
         "marker": {
          "color": "rgb(242, 183, 1)",
          "pattern": {
           "shape": ""
          }
         },
         "name": "BEV150",
         "offsetgroup": "BEV150, net capacity",
         "orientation": "v",
         "showlegend": false,
         "textfont": {
          "size": 11
         },
         "textposition": "auto",
         "texttemplate": "%{y:.2f}",
         "type": "bar",
         "x": [
          "net capacity"
         ],
         "xaxis": "x9",
         "y": [
          2.876439506487763
         ],
         "yaxis": "y9"
        },
        {
         "alignmentgroup": "True",
         "hovertemplate": "fuel=BEV150<br>cap type=%{x}<br>mode=LD Car<br>vintage=2030<br>capacity=%{y}<extra></extra>",
         "legendgroup": "BEV150, net capacity",
         "marker": {
          "color": "rgb(242, 183, 1)",
          "pattern": {
           "shape": ""
          }
         },
         "name": "BEV150",
         "offsetgroup": "BEV150, net capacity",
         "orientation": "v",
         "showlegend": false,
         "textfont": {
          "size": 11
         },
         "textposition": "auto",
         "texttemplate": "%{y:.2f}",
         "type": "bar",
         "x": [
          "net capacity"
         ],
         "xaxis": "x10",
         "y": [
          4.0373761014363065
         ],
         "yaxis": "y10"
        },
        {
         "alignmentgroup": "True",
         "hovertemplate": "fuel=BEV150<br>cap type=%{x}<br>mode=LD Car<br>vintage=2035<br>capacity=%{y}<extra></extra>",
         "legendgroup": "BEV150, net capacity",
         "marker": {
          "color": "rgb(242, 183, 1)",
          "pattern": {
           "shape": ""
          }
         },
         "name": "BEV150",
         "offsetgroup": "BEV150, net capacity",
         "orientation": "v",
         "showlegend": false,
         "textfont": {
          "size": 11
         },
         "textposition": "auto",
         "texttemplate": "%{y:.2f}",
         "type": "bar",
         "x": [
          "net capacity"
         ],
         "xaxis": "x11",
         "y": [
          6.140081510651074
         ],
         "yaxis": "y11"
        },
        {
         "alignmentgroup": "True",
         "hovertemplate": "fuel=BEV150<br>cap type=%{x}<br>mode=LD Car<br>vintage=2040<br>capacity=%{y}<extra></extra>",
         "legendgroup": "BEV150, net capacity",
         "marker": {
          "color": "rgb(242, 183, 1)",
          "pattern": {
           "shape": ""
          }
         },
         "name": "BEV150",
         "offsetgroup": "BEV150, net capacity",
         "orientation": "v",
         "showlegend": false,
         "textfont": {
          "size": 11
         },
         "textposition": "auto",
         "texttemplate": "%{y:.2f}",
         "type": "bar",
         "x": [
          "net capacity"
         ],
         "xaxis": "x12",
         "y": [
          6.754421763848339
         ],
         "yaxis": "y12"
        },
        {
         "alignmentgroup": "True",
         "hovertemplate": "fuel=BEV150<br>cap type=%{x}<br>mode=LD Car<br>vintage=2045<br>capacity=%{y}<extra></extra>",
         "legendgroup": "BEV150, net capacity",
         "marker": {
          "color": "rgb(242, 183, 1)",
          "pattern": {
           "shape": ""
          }
         },
         "name": "BEV150",
         "offsetgroup": "BEV150, net capacity",
         "orientation": "v",
         "showlegend": false,
         "textfont": {
          "size": 11
         },
         "textposition": "auto",
         "texttemplate": "%{y:.2f}",
         "type": "bar",
         "x": [
          "net capacity"
         ],
         "xaxis": "x13",
         "y": [
          7.325776046740422
         ],
         "yaxis": "y13"
        },
        {
         "alignmentgroup": "True",
         "hovertemplate": "fuel=BEV150<br>cap type=%{x}<br>mode=LD Car<br>vintage=2050<br>capacity=%{y}<extra></extra>",
         "legendgroup": "BEV150, net capacity",
         "marker": {
          "color": "rgb(242, 183, 1)",
          "pattern": {
           "shape": ""
          }
         },
         "name": "BEV150",
         "offsetgroup": "BEV150, net capacity",
         "orientation": "v",
         "showlegend": false,
         "textfont": {
          "size": 11
         },
         "textposition": "auto",
         "texttemplate": "%{y:.2f}",
         "type": "bar",
         "x": [
          "net capacity"
         ],
         "xaxis": "x14",
         "y": [
          7.5535368337812905
         ],
         "yaxis": "y14"
        },
        {
         "alignmentgroup": "True",
         "hovertemplate": "fuel=BEV150<br>cap type=%{x}<br>mode=LD Truck<br>vintage=2021<br>capacity=%{y}<extra></extra>",
         "legendgroup": "BEV150, net capacity",
         "marker": {
          "color": "rgb(242, 183, 1)",
          "pattern": {
           "shape": ""
          }
         },
         "name": "BEV150",
         "offsetgroup": "BEV150, net capacity",
         "orientation": "v",
         "showlegend": false,
         "textfont": {
          "size": 11
         },
         "textposition": "auto",
         "texttemplate": "%{y:.2f}",
         "type": "bar",
         "x": [
          "net capacity"
         ],
         "xaxis": "x",
         "y": [
          0.6012700082895671
         ],
         "yaxis": "y"
        },
        {
         "alignmentgroup": "True",
         "hovertemplate": "fuel=BEV150<br>cap type=%{x}<br>mode=LD Truck<br>vintage=2025<br>capacity=%{y}<extra></extra>",
         "legendgroup": "BEV150, net capacity",
         "marker": {
          "color": "rgb(242, 183, 1)",
          "pattern": {
           "shape": ""
          }
         },
         "name": "BEV150",
         "offsetgroup": "BEV150, net capacity",
         "orientation": "v",
         "showlegend": false,
         "textfont": {
          "size": 11
         },
         "textposition": "auto",
         "texttemplate": "%{y:.2f}",
         "type": "bar",
         "x": [
          "net capacity"
         ],
         "xaxis": "x2",
         "y": [
          2.543398378300972
         ],
         "yaxis": "y2"
        },
        {
         "alignmentgroup": "True",
         "hovertemplate": "fuel=BEV150<br>cap type=%{x}<br>mode=LD Truck<br>vintage=2030<br>capacity=%{y}<extra></extra>",
         "legendgroup": "BEV150, net capacity",
         "marker": {
          "color": "rgb(242, 183, 1)",
          "pattern": {
           "shape": ""
          }
         },
         "name": "BEV150",
         "offsetgroup": "BEV150, net capacity",
         "orientation": "v",
         "showlegend": false,
         "textfont": {
          "size": 11
         },
         "textposition": "auto",
         "texttemplate": "%{y:.2f}",
         "type": "bar",
         "x": [
          "net capacity"
         ],
         "xaxis": "x3",
         "y": [
          3.927335477346732
         ],
         "yaxis": "y3"
        },
        {
         "alignmentgroup": "True",
         "hovertemplate": "fuel=BEV150<br>cap type=%{x}<br>mode=LD Truck<br>vintage=2035<br>capacity=%{y}<extra></extra>",
         "legendgroup": "BEV150, net capacity",
         "marker": {
          "color": "rgb(242, 183, 1)",
          "pattern": {
           "shape": ""
          }
         },
         "name": "BEV150",
         "offsetgroup": "BEV150, net capacity",
         "orientation": "v",
         "showlegend": false,
         "textfont": {
          "size": 11
         },
         "textposition": "auto",
         "texttemplate": "%{y:.2f}",
         "type": "bar",
         "x": [
          "net capacity"
         ],
         "xaxis": "x4",
         "y": [
          5.736456198398091
         ],
         "yaxis": "y4"
        },
        {
         "alignmentgroup": "True",
         "hovertemplate": "fuel=BEV150<br>cap type=%{x}<br>mode=LD Truck<br>vintage=2040<br>capacity=%{y}<extra></extra>",
         "legendgroup": "BEV150, net capacity",
         "marker": {
          "color": "rgb(242, 183, 1)",
          "pattern": {
           "shape": ""
          }
         },
         "name": "BEV150",
         "offsetgroup": "BEV150, net capacity",
         "orientation": "v",
         "showlegend": false,
         "textfont": {
          "size": 11
         },
         "textposition": "auto",
         "texttemplate": "%{y:.2f}",
         "type": "bar",
         "x": [
          "net capacity"
         ],
         "xaxis": "x5",
         "y": [
          8.144192983235591
         ],
         "yaxis": "y5"
        },
        {
         "alignmentgroup": "True",
         "hovertemplate": "fuel=BEV150<br>cap type=%{x}<br>mode=LD Truck<br>vintage=2045<br>capacity=%{y}<extra></extra>",
         "legendgroup": "BEV150, net capacity",
         "marker": {
          "color": "rgb(242, 183, 1)",
          "pattern": {
           "shape": ""
          }
         },
         "name": "BEV150",
         "offsetgroup": "BEV150, net capacity",
         "orientation": "v",
         "showlegend": false,
         "textfont": {
          "size": 11
         },
         "textposition": "auto",
         "texttemplate": "%{y:.2f}",
         "type": "bar",
         "x": [
          "net capacity"
         ],
         "xaxis": "x6",
         "y": [
          8.398958731912582
         ],
         "yaxis": "y6"
        },
        {
         "alignmentgroup": "True",
         "hovertemplate": "fuel=BEV150<br>cap type=%{x}<br>mode=LD Truck<br>vintage=2050<br>capacity=%{y}<extra></extra>",
         "legendgroup": "BEV150, net capacity",
         "marker": {
          "color": "rgb(242, 183, 1)",
          "pattern": {
           "shape": ""
          }
         },
         "name": "BEV150",
         "offsetgroup": "BEV150, net capacity",
         "orientation": "v",
         "showlegend": false,
         "textfont": {
          "size": 11
         },
         "textposition": "auto",
         "texttemplate": "%{y:.2f}",
         "type": "bar",
         "x": [
          "net capacity"
         ],
         "xaxis": "x7",
         "y": [
          9.562832065566042
         ],
         "yaxis": "y7"
        },
        {
         "alignmentgroup": "True",
         "hovertemplate": "fuel=BEV150<br>cap type=%{x}<br>mode=LD Car<br>vintage=2021<br>capacity=%{y}<extra></extra>",
         "legendgroup": "BEV150, new capacity",
         "marker": {
          "color": "rgb(242, 183, 1)",
          "pattern": {
           "shape": "."
          }
         },
         "name": "BEV150",
         "offsetgroup": "BEV150, new capacity",
         "orientation": "v",
         "showlegend": false,
         "textfont": {
          "size": 11
         },
         "textposition": "auto",
         "texttemplate": "%{y:.2f}",
         "type": "bar",
         "x": [
          "new capacity"
         ],
         "xaxis": "x8",
         "y": [
          0.6865943481075564
         ],
         "yaxis": "y8"
        },
        {
         "alignmentgroup": "True",
         "hovertemplate": "fuel=BEV150<br>cap type=%{x}<br>mode=LD Car<br>vintage=2025<br>capacity=%{y}<extra></extra>",
         "legendgroup": "BEV150, new capacity",
         "marker": {
          "color": "rgb(242, 183, 1)",
          "pattern": {
           "shape": "."
          }
         },
         "name": "BEV150",
         "offsetgroup": "BEV150, new capacity",
         "orientation": "v",
         "showlegend": false,
         "textfont": {
          "size": 11
         },
         "textposition": "auto",
         "texttemplate": "%{y:.2f}",
         "type": "bar",
         "x": [
          "new capacity"
         ],
         "xaxis": "x9",
         "y": [
          2.149937278380206
         ],
         "yaxis": "y9"
        },
        {
         "alignmentgroup": "True",
         "hovertemplate": "fuel=BEV150<br>cap type=%{x}<br>mode=LD Car<br>vintage=2030<br>capacity=%{y}<extra></extra>",
         "legendgroup": "BEV150, new capacity",
         "marker": {
          "color": "rgb(242, 183, 1)",
          "pattern": {
           "shape": "."
          }
         },
         "name": "BEV150",
         "offsetgroup": "BEV150, new capacity",
         "orientation": "v",
         "showlegend": false,
         "textfont": {
          "size": 11
         },
         "textposition": "auto",
         "texttemplate": "%{y:.2f}",
         "type": "bar",
         "x": [
          "new capacity"
         ],
         "xaxis": "x10",
         "y": [
          1.343698439475281
         ],
         "yaxis": "y10"
        },
        {
         "alignmentgroup": "True",
         "hovertemplate": "fuel=BEV150<br>cap type=%{x}<br>mode=LD Car<br>vintage=2035<br>capacity=%{y}<extra></extra>",
         "legendgroup": "BEV150, new capacity",
         "marker": {
          "color": "rgb(242, 183, 1)",
          "pattern": {
           "shape": "."
          }
         },
         "name": "BEV150",
         "offsetgroup": "BEV150, new capacity",
         "orientation": "v",
         "showlegend": false,
         "textfont": {
          "size": 11
         },
         "textposition": "auto",
         "texttemplate": "%{y:.2f}",
         "type": "bar",
         "x": [
          "new capacity"
         ],
         "xaxis": "x11",
         "y": [
          3.0020772978627286
         ],
         "yaxis": "y11"
        },
        {
         "alignmentgroup": "True",
         "hovertemplate": "fuel=BEV150<br>cap type=%{x}<br>mode=LD Car<br>vintage=2040<br>capacity=%{y}<extra></extra>",
         "legendgroup": "BEV150, new capacity",
         "marker": {
          "color": "rgb(242, 183, 1)",
          "pattern": {
           "shape": "."
          }
         },
         "name": "BEV150",
         "offsetgroup": "BEV150, new capacity",
         "orientation": "v",
         "showlegend": false,
         "textfont": {
          "size": 11
         },
         "textposition": "auto",
         "texttemplate": "%{y:.2f}",
         "type": "bar",
         "x": [
          "new capacity"
         ],
         "xaxis": "x12",
         "y": [
          2.0261425322585938
         ],
         "yaxis": "y12"
        },
        {
         "alignmentgroup": "True",
         "hovertemplate": "fuel=BEV150<br>cap type=%{x}<br>mode=LD Car<br>vintage=2045<br>capacity=%{y}<extra></extra>",
         "legendgroup": "BEV150, new capacity",
         "marker": {
          "color": "rgb(242, 183, 1)",
          "pattern": {
           "shape": "."
          }
         },
         "name": "BEV150",
         "offsetgroup": "BEV150, new capacity",
         "orientation": "v",
         "showlegend": false,
         "textfont": {
          "size": 11
         },
         "textposition": "auto",
         "texttemplate": "%{y:.2f}",
         "type": "bar",
         "x": [
          "new capacity"
         ],
         "xaxis": "x13",
         "y": [
          2.0030180245926545
         ],
         "yaxis": "y13"
        },
        {
         "alignmentgroup": "True",
         "hovertemplate": "fuel=BEV150<br>cap type=%{x}<br>mode=LD Car<br>vintage=2050<br>capacity=%{y}<extra></extra>",
         "legendgroup": "BEV150, new capacity",
         "marker": {
          "color": "rgb(242, 183, 1)",
          "pattern": {
           "shape": "."
          }
         },
         "name": "BEV150",
         "offsetgroup": "BEV150, new capacity",
         "orientation": "v",
         "showlegend": false,
         "textfont": {
          "size": 11
         },
         "textposition": "auto",
         "texttemplate": "%{y:.2f}",
         "type": "bar",
         "x": [
          "new capacity"
         ],
         "xaxis": "x14",
         "y": [
          2.9444679756621244
         ],
         "yaxis": "y14"
        },
        {
         "alignmentgroup": "True",
         "hovertemplate": "fuel=BEV150<br>cap type=%{x}<br>mode=LD Truck<br>vintage=2021<br>capacity=%{y}<extra></extra>",
         "legendgroup": "BEV150, new capacity",
         "marker": {
          "color": "rgb(242, 183, 1)",
          "pattern": {
           "shape": "."
          }
         },
         "name": "BEV150",
         "offsetgroup": "BEV150, new capacity",
         "orientation": "v",
         "showlegend": false,
         "textfont": {
          "size": 11
         },
         "textposition": "auto",
         "texttemplate": "%{y:.2f}",
         "type": "bar",
         "x": [
          "new capacity"
         ],
         "xaxis": "x",
         "y": [
          0.6012700082895671
         ],
         "yaxis": "y"
        },
        {
         "alignmentgroup": "True",
         "hovertemplate": "fuel=BEV150<br>cap type=%{x}<br>mode=LD Truck<br>vintage=2025<br>capacity=%{y}<extra></extra>",
         "legendgroup": "BEV150, new capacity",
         "marker": {
          "color": "rgb(242, 183, 1)",
          "pattern": {
           "shape": "."
          }
         },
         "name": "BEV150",
         "offsetgroup": "BEV150, new capacity",
         "orientation": "v",
         "showlegend": false,
         "textfont": {
          "size": 11
         },
         "textposition": "auto",
         "texttemplate": "%{y:.2f}",
         "type": "bar",
         "x": [
          "new capacity"
         ],
         "xaxis": "x2",
         "y": [
          1.942128370011405
         ],
         "yaxis": "y2"
        },
        {
         "alignmentgroup": "True",
         "hovertemplate": "fuel=BEV150<br>cap type=%{x}<br>mode=LD Truck<br>vintage=2030<br>capacity=%{y}<extra></extra>",
         "legendgroup": "BEV150, new capacity",
         "marker": {
          "color": "rgb(242, 183, 1)",
          "pattern": {
           "shape": "."
          }
         },
         "name": "BEV150",
         "offsetgroup": "BEV150, new capacity",
         "orientation": "v",
         "showlegend": false,
         "textfont": {
          "size": 11
         },
         "textposition": "auto",
         "texttemplate": "%{y:.2f}",
         "type": "bar",
         "x": [
          "new capacity"
         ],
         "xaxis": "x3",
         "y": [
          1.5342546011211924
         ],
         "yaxis": "y3"
        },
        {
         "alignmentgroup": "True",
         "hovertemplate": "fuel=BEV150<br>cap type=%{x}<br>mode=LD Truck<br>vintage=2035<br>capacity=%{y}<extra></extra>",
         "legendgroup": "BEV150, new capacity",
         "marker": {
          "color": "rgb(242, 183, 1)",
          "pattern": {
           "shape": "."
          }
         },
         "name": "BEV150",
         "offsetgroup": "BEV150, new capacity",
         "orientation": "v",
         "showlegend": false,
         "textfont": {
          "size": 11
         },
         "textposition": "auto",
         "texttemplate": "%{y:.2f}",
         "type": "bar",
         "x": [
          "new capacity"
         ],
         "xaxis": "x4",
         "y": [
          2.294652813560792
         ],
         "yaxis": "y4"
        },
        {
         "alignmentgroup": "True",
         "hovertemplate": "fuel=BEV150<br>cap type=%{x}<br>mode=LD Truck<br>vintage=2040<br>capacity=%{y}<extra></extra>",
         "legendgroup": "BEV150, new capacity",
         "marker": {
          "color": "rgb(242, 183, 1)",
          "pattern": {
           "shape": "."
          }
         },
         "name": "BEV150",
         "offsetgroup": "BEV150, new capacity",
         "orientation": "v",
         "showlegend": false,
         "textfont": {
          "size": 11
         },
         "textposition": "auto",
         "texttemplate": "%{y:.2f}",
         "type": "bar",
         "x": [
          "new capacity"
         ],
         "xaxis": "x5",
         "y": [
          3.091935439268749
         ],
         "yaxis": "y5"
        },
        {
         "alignmentgroup": "True",
         "hovertemplate": "fuel=BEV150<br>cap type=%{x}<br>mode=LD Truck<br>vintage=2045<br>capacity=%{y}<extra></extra>",
         "legendgroup": "BEV150, new capacity",
         "marker": {
          "color": "rgb(242, 183, 1)",
          "pattern": {
           "shape": "."
          }
         },
         "name": "BEV150",
         "offsetgroup": "BEV150, new capacity",
         "orientation": "v",
         "showlegend": false,
         "textfont": {
          "size": 11
         },
         "textposition": "auto",
         "texttemplate": "%{y:.2f}",
         "type": "bar",
         "x": [
          "new capacity"
         ],
         "xaxis": "x6",
         "y": [
          1.7994931370599412
         ],
         "yaxis": "y6"
        },
        {
         "alignmentgroup": "True",
         "hovertemplate": "fuel=BEV150<br>cap type=%{x}<br>mode=LD Truck<br>vintage=2050<br>capacity=%{y}<extra></extra>",
         "legendgroup": "BEV150, new capacity",
         "marker": {
          "color": "rgb(242, 183, 1)",
          "pattern": {
           "shape": "."
          }
         },
         "name": "BEV150",
         "offsetgroup": "BEV150, new capacity",
         "orientation": "v",
         "showlegend": false,
         "textfont": {
          "size": 11
         },
         "textposition": "auto",
         "texttemplate": "%{y:.2f}",
         "type": "bar",
         "x": [
          "new capacity"
         ],
         "xaxis": "x7",
         "y": [
          2.8543019961092946
         ],
         "yaxis": "y7"
        },
        {
         "alignmentgroup": "True",
         "hovertemplate": "fuel=BEV150<br>cap type=%{x}<br>mode=LD Car<br>vintage=2030<br>capacity=%{y}<extra></extra>",
         "legendgroup": "BEV150, retired cap",
         "marker": {
          "color": "rgb(242, 183, 1)",
          "pattern": {
           "shape": "/"
          }
         },
         "name": "BEV150",
         "offsetgroup": "BEV150, retired cap",
         "orientation": "v",
         "showlegend": false,
         "textfont": {
          "size": 11
         },
         "textposition": "auto",
         "texttemplate": "%{y:.2f}",
         "type": "bar",
         "x": [
          "retired cap"
         ],
         "xaxis": "x10",
         "y": [
          -0.1827618445267367
         ],
         "yaxis": "y10"
        },
        {
         "alignmentgroup": "True",
         "hovertemplate": "fuel=BEV150<br>cap type=%{x}<br>mode=LD Car<br>vintage=2035<br>capacity=%{y}<extra></extra>",
         "legendgroup": "BEV150, retired cap",
         "marker": {
          "color": "rgb(242, 183, 1)",
          "pattern": {
           "shape": "/"
          }
         },
         "name": "BEV150",
         "offsetgroup": "BEV150, retired cap",
         "orientation": "v",
         "showlegend": false,
         "textfont": {
          "size": 11
         },
         "textposition": "auto",
         "texttemplate": "%{y:.2f}",
         "type": "bar",
         "x": [
          "retired cap"
         ],
         "xaxis": "x11",
         "y": [
          -0.8993718886479619
         ],
         "yaxis": "y11"
        },
        {
         "alignmentgroup": "True",
         "hovertemplate": "fuel=BEV150<br>cap type=%{x}<br>mode=LD Car<br>vintage=2040<br>capacity=%{y}<extra></extra>",
         "legendgroup": "BEV150, retired cap",
         "marker": {
          "color": "rgb(242, 183, 1)",
          "pattern": {
           "shape": "/"
          }
         },
         "name": "BEV150",
         "offsetgroup": "BEV150, retired cap",
         "orientation": "v",
         "showlegend": false,
         "textfont": {
          "size": 11
         },
         "textposition": "auto",
         "texttemplate": "%{y:.2f}",
         "type": "bar",
         "x": [
          "retired cap"
         ],
         "xaxis": "x12",
         "y": [
          -1.4118022790613285
         ],
         "yaxis": "y12"
        },
        {
         "alignmentgroup": "True",
         "hovertemplate": "fuel=BEV150<br>cap type=%{x}<br>mode=LD Car<br>vintage=2045<br>capacity=%{y}<extra></extra>",
         "legendgroup": "BEV150, retired cap",
         "marker": {
          "color": "rgb(242, 183, 1)",
          "pattern": {
           "shape": "/"
          }
         },
         "name": "BEV150",
         "offsetgroup": "BEV150, retired cap",
         "orientation": "v",
         "showlegend": false,
         "textfont": {
          "size": 11
         },
         "textposition": "auto",
         "texttemplate": "%{y:.2f}",
         "type": "bar",
         "x": [
          "retired cap"
         ],
         "xaxis": "x13",
         "y": [
          -1.4316637417005722
         ],
         "yaxis": "y13"
        },
        {
         "alignmentgroup": "True",
         "hovertemplate": "fuel=BEV150<br>cap type=%{x}<br>mode=LD Car<br>vintage=2050<br>capacity=%{y}<extra></extra>",
         "legendgroup": "BEV150, retired cap",
         "marker": {
          "color": "rgb(242, 183, 1)",
          "pattern": {
           "shape": "/"
          }
         },
         "name": "BEV150",
         "offsetgroup": "BEV150, retired cap",
         "orientation": "v",
         "showlegend": false,
         "textfont": {
          "size": 11
         },
         "textposition": "auto",
         "texttemplate": "%{y:.2f}",
         "type": "bar",
         "x": [
          "retired cap"
         ],
         "xaxis": "x14",
         "y": [
          -2.716707188621254
         ],
         "yaxis": "y14"
        },
        {
         "alignmentgroup": "True",
         "hovertemplate": "fuel=BEV150<br>cap type=%{x}<br>mode=LD Truck<br>vintage=2030<br>capacity=%{y}<extra></extra>",
         "legendgroup": "BEV150, retired cap",
         "marker": {
          "color": "rgb(242, 183, 1)",
          "pattern": {
           "shape": "/"
          }
         },
         "name": "BEV150",
         "offsetgroup": "BEV150, retired cap",
         "orientation": "v",
         "showlegend": false,
         "textfont": {
          "size": 11
         },
         "textposition": "auto",
         "texttemplate": "%{y:.2f}",
         "type": "bar",
         "x": [
          "retired cap"
         ],
         "xaxis": "x3",
         "y": [
          -0.150317502075432
         ],
         "yaxis": "y3"
        },
        {
         "alignmentgroup": "True",
         "hovertemplate": "fuel=BEV150<br>cap type=%{x}<br>mode=LD Truck<br>vintage=2035<br>capacity=%{y}<extra></extra>",
         "legendgroup": "BEV150, retired cap",
         "marker": {
          "color": "rgb(242, 183, 1)",
          "pattern": {
           "shape": "/"
          }
         },
         "name": "BEV150",
         "offsetgroup": "BEV150, retired cap",
         "orientation": "v",
         "showlegend": false,
         "textfont": {
          "size": 11
         },
         "textposition": "auto",
         "texttemplate": "%{y:.2f}",
         "type": "bar",
         "x": [
          "retired cap"
         ],
         "xaxis": "x4",
         "y": [
          -0.4855320925094329
         ],
         "yaxis": "y4"
        },
        {
         "alignmentgroup": "True",
         "hovertemplate": "fuel=BEV150<br>cap type=%{x}<br>mode=LD Truck<br>vintage=2040<br>capacity=%{y}<extra></extra>",
         "legendgroup": "BEV150, retired cap",
         "marker": {
          "color": "rgb(242, 183, 1)",
          "pattern": {
           "shape": "/"
          }
         },
         "name": "BEV150",
         "offsetgroup": "BEV150, retired cap",
         "orientation": "v",
         "showlegend": false,
         "textfont": {
          "size": 11
         },
         "textposition": "auto",
         "texttemplate": "%{y:.2f}",
         "type": "bar",
         "x": [
          "retired cap"
         ],
         "xaxis": "x5",
         "y": [
          -0.6841986544312485
         ],
         "yaxis": "y5"
        },
        {
         "alignmentgroup": "True",
         "hovertemplate": "fuel=BEV150<br>cap type=%{x}<br>mode=LD Truck<br>vintage=2045<br>capacity=%{y}<extra></extra>",
         "legendgroup": "BEV150, retired cap",
         "marker": {
          "color": "rgb(242, 183, 1)",
          "pattern": {
           "shape": "/"
          }
         },
         "name": "BEV150",
         "offsetgroup": "BEV150, retired cap",
         "orientation": "v",
         "showlegend": false,
         "textfont": {
          "size": 11
         },
         "textposition": "auto",
         "texttemplate": "%{y:.2f}",
         "type": "bar",
         "x": [
          "retired cap"
         ],
         "xaxis": "x6",
         "y": [
          -1.544727388382951
         ],
         "yaxis": "y6"
        },
        {
         "alignmentgroup": "True",
         "hovertemplate": "fuel=BEV150<br>cap type=%{x}<br>mode=LD Truck<br>vintage=2050<br>capacity=%{y}<extra></extra>",
         "legendgroup": "BEV150, retired cap",
         "marker": {
          "color": "rgb(242, 183, 1)",
          "pattern": {
           "shape": "/"
          }
         },
         "name": "BEV150",
         "offsetgroup": "BEV150, retired cap",
         "orientation": "v",
         "showlegend": false,
         "textfont": {
          "size": 11
         },
         "textposition": "auto",
         "texttemplate": "%{y:.2f}",
         "type": "bar",
         "x": [
          "retired cap"
         ],
         "xaxis": "x7",
         "y": [
          -1.6904286624558353
         ],
         "yaxis": "y7"
        },
        {
         "alignmentgroup": "True",
         "hovertemplate": "fuel=BEV300<br>cap type=%{x}<br>mode=LD Truck<br>vintage=2021<br>capacity=%{y}<extra></extra>",
         "legendgroup": "BEV300, net capacity",
         "marker": {
          "color": "rgb(128, 186, 90)",
          "pattern": {
           "shape": ""
          }
         },
         "name": "BEV300",
         "offsetgroup": "BEV300, net capacity",
         "orientation": "v",
         "showlegend": true,
         "textfont": {
          "size": 11
         },
         "textposition": "auto",
         "texttemplate": "%{y:.2f}",
         "type": "bar",
         "x": [
          "net capacity"
         ],
         "xaxis": "x",
         "y": [
          0.0044524819512292025
         ],
         "yaxis": "y"
        },
        {
         "alignmentgroup": "True",
         "hovertemplate": "fuel=BEV300<br>cap type=%{x}<br>mode=LD Truck<br>vintage=2025<br>capacity=%{y}<extra></extra>",
         "legendgroup": "BEV300, net capacity",
         "marker": {
          "color": "rgb(128, 186, 90)",
          "pattern": {
           "shape": ""
          }
         },
         "name": "BEV300",
         "offsetgroup": "BEV300, net capacity",
         "orientation": "v",
         "showlegend": false,
         "textfont": {
          "size": 11
         },
         "textposition": "auto",
         "texttemplate": "%{y:.2f}",
         "type": "bar",
         "x": [
          "net capacity"
         ],
         "xaxis": "x2",
         "y": [
          0.0044390828675788755
         ],
         "yaxis": "y2"
        },
        {
         "alignmentgroup": "True",
         "hovertemplate": "fuel=BEV300<br>cap type=%{x}<br>mode=LD Truck<br>vintage=2030<br>capacity=%{y}<extra></extra>",
         "legendgroup": "BEV300, net capacity",
         "marker": {
          "color": "rgb(128, 186, 90)",
          "pattern": {
           "shape": ""
          }
         },
         "name": "BEV300",
         "offsetgroup": "BEV300, net capacity",
         "orientation": "v",
         "showlegend": false,
         "textfont": {
          "size": 11
         },
         "textposition": "auto",
         "texttemplate": "%{y:.2f}",
         "type": "bar",
         "x": [
          "net capacity"
         ],
         "xaxis": "x3",
         "y": [
          0.003349483156330433
         ],
         "yaxis": "y3"
        },
        {
         "alignmentgroup": "True",
         "hovertemplate": "fuel=BEV300<br>cap type=%{x}<br>mode=LD Truck<br>vintage=2035<br>capacity=%{y}<extra></extra>",
         "legendgroup": "BEV300, net capacity",
         "marker": {
          "color": "rgb(128, 186, 90)",
          "pattern": {
           "shape": ""
          }
         },
         "name": "BEV300",
         "offsetgroup": "BEV300, net capacity",
         "orientation": "v",
         "showlegend": false,
         "textfont": {
          "size": 11
         },
         "textposition": "auto",
         "texttemplate": "%{y:.2f}",
         "type": "bar",
         "x": [
          "net capacity"
         ],
         "xaxis": "x4",
         "y": [
          0.003319048639497069
         ],
         "yaxis": "y4"
        },
        {
         "alignmentgroup": "True",
         "hovertemplate": "fuel=BEV300<br>cap type=%{x}<br>mode=LD Truck<br>vintage=2040<br>capacity=%{y}<extra></extra>",
         "legendgroup": "BEV300, net capacity",
         "marker": {
          "color": "rgb(128, 186, 90)",
          "pattern": {
           "shape": ""
          }
         },
         "name": "BEV300",
         "offsetgroup": "BEV300, net capacity",
         "orientation": "v",
         "showlegend": false,
         "textfont": {
          "size": 11
         },
         "textposition": "auto",
         "texttemplate": "%{y:.2f}",
         "type": "bar",
         "x": [
          "net capacity"
         ],
         "xaxis": "x5",
         "y": [
          0.0011336553176151236
         ],
         "yaxis": "y5"
        },
        {
         "alignmentgroup": "True",
         "hovertemplate": "fuel=BEV300<br>cap type=%{x}<br>mode=LD Truck<br>vintage=2045<br>capacity=%{y}<extra></extra>",
         "legendgroup": "BEV300, net capacity",
         "marker": {
          "color": "rgb(128, 186, 90)",
          "pattern": {
           "shape": ""
          }
         },
         "name": "BEV300",
         "offsetgroup": "BEV300, net capacity",
         "orientation": "v",
         "showlegend": false,
         "textfont": {
          "size": 11
         },
         "textposition": "auto",
         "texttemplate": "%{y:.2f}",
         "type": "bar",
         "x": [
          "net capacity"
         ],
         "xaxis": "x6",
         "y": [
          0.0011180791812033894
         ],
         "yaxis": "y6"
        },
        {
         "alignmentgroup": "True",
         "hovertemplate": "fuel=BEV300<br>cap type=%{x}<br>mode=LD Truck<br>vintage=2030<br>capacity=%{y}<extra></extra>",
         "legendgroup": "BEV300, retired cap",
         "marker": {
          "color": "rgb(128, 186, 90)",
          "pattern": {
           "shape": "/"
          }
         },
         "name": "BEV300",
         "offsetgroup": "BEV300, retired cap",
         "orientation": "v",
         "showlegend": false,
         "textfont": {
          "size": 11
         },
         "textposition": "auto",
         "texttemplate": "%{y:.2f}",
         "type": "bar",
         "x": [
          "retired cap"
         ],
         "xaxis": "x3",
         "y": [
          -0.0010951554909583749
         ],
         "yaxis": "y3"
        },
        {
         "alignmentgroup": "True",
         "hovertemplate": "fuel=BEV300<br>cap type=%{x}<br>mode=LD Truck<br>vintage=2040<br>capacity=%{y}<extra></extra>",
         "legendgroup": "BEV300, retired cap",
         "marker": {
          "color": "rgb(128, 186, 90)",
          "pattern": {
           "shape": "/"
          }
         },
         "name": "BEV300",
         "offsetgroup": "BEV300, retired cap",
         "orientation": "v",
         "showlegend": false,
         "textfont": {
          "size": 11
         },
         "textposition": "auto",
         "texttemplate": "%{y:.2f}",
         "type": "bar",
         "x": [
          "retired cap"
         ],
         "xaxis": "x5",
         "y": [
          -0.0021916999268034513
         ],
         "yaxis": "y5"
        },
        {
         "alignmentgroup": "True",
         "hovertemplate": "fuel=BEV300<br>cap type=%{x}<br>mode=LD Truck<br>vintage=2050<br>capacity=%{y}<extra></extra>",
         "legendgroup": "BEV300, retired cap",
         "marker": {
          "color": "rgb(128, 186, 90)",
          "pattern": {
           "shape": "/"
          }
         },
         "name": "BEV300",
         "offsetgroup": "BEV300, retired cap",
         "orientation": "v",
         "showlegend": false,
         "textfont": {
          "size": 11
         },
         "textposition": "auto",
         "texttemplate": "%{y:.2f}",
         "type": "bar",
         "x": [
          "retired cap"
         ],
         "xaxis": "x7",
         "y": [
          -0.001099510034234545
         ],
         "yaxis": "y7"
        },
        {
         "alignmentgroup": "True",
         "hovertemplate": "fuel=HEV<br>cap type=%{x}<br>mode=LD Car<br>vintage=2021<br>capacity=%{y}<extra></extra>",
         "legendgroup": "HEV, net capacity",
         "marker": {
          "color": "rgb(0, 134, 149)",
          "pattern": {
           "shape": ""
          }
         },
         "name": "HEV",
         "offsetgroup": "HEV, net capacity",
         "orientation": "v",
         "showlegend": true,
         "textfont": {
          "size": 11
         },
         "textposition": "auto",
         "texttemplate": "%{y:.2f}",
         "type": "bar",
         "x": [
          "net capacity"
         ],
         "xaxis": "x8",
         "y": [
          0.07822858157959073
         ],
         "yaxis": "y8"
        },
        {
         "alignmentgroup": "True",
         "hovertemplate": "fuel=HEV<br>cap type=%{x}<br>mode=LD Car<br>vintage=2025<br>capacity=%{y}<extra></extra>",
         "legendgroup": "HEV, net capacity",
         "marker": {
          "color": "rgb(0, 134, 149)",
          "pattern": {
           "shape": ""
          }
         },
         "name": "HEV",
         "offsetgroup": "HEV, net capacity",
         "orientation": "v",
         "showlegend": false,
         "textfont": {
          "size": 11
         },
         "textposition": "auto",
         "texttemplate": "%{y:.2f}",
         "type": "bar",
         "x": [
          "net capacity"
         ],
         "xaxis": "x9",
         "y": [
          0.0705804808113473
         ],
         "yaxis": "y9"
        },
        {
         "alignmentgroup": "True",
         "hovertemplate": "fuel=HEV<br>cap type=%{x}<br>mode=LD Car<br>vintage=2030<br>capacity=%{y}<extra></extra>",
         "legendgroup": "HEV, net capacity",
         "marker": {
          "color": "rgb(0, 134, 149)",
          "pattern": {
           "shape": ""
          }
         },
         "name": "HEV",
         "offsetgroup": "HEV, net capacity",
         "orientation": "v",
         "showlegend": false,
         "textfont": {
          "size": 11
         },
         "textposition": "auto",
         "texttemplate": "%{y:.2f}",
         "type": "bar",
         "x": [
          "net capacity"
         ],
         "xaxis": "x10",
         "y": [
          0.04337479404647399
         ],
         "yaxis": "y10"
        },
        {
         "alignmentgroup": "True",
         "hovertemplate": "fuel=HEV<br>cap type=%{x}<br>mode=LD Car<br>vintage=2035<br>capacity=%{y}<extra></extra>",
         "legendgroup": "HEV, net capacity",
         "marker": {
          "color": "rgb(0, 134, 149)",
          "pattern": {
           "shape": ""
          }
         },
         "name": "HEV",
         "offsetgroup": "HEV, net capacity",
         "orientation": "v",
         "showlegend": false,
         "textfont": {
          "size": 11
         },
         "textposition": "auto",
         "texttemplate": "%{y:.2f}",
         "type": "bar",
         "x": [
          "net capacity"
         ],
         "xaxis": "x11",
         "y": [
          0.019568517539061407
         ],
         "yaxis": "y11"
        },
        {
         "alignmentgroup": "True",
         "hovertemplate": "fuel=HEV<br>cap type=%{x}<br>mode=LD Car<br>vintage=2040<br>capacity=%{y}<extra></extra>",
         "legendgroup": "HEV, net capacity",
         "marker": {
          "color": "rgb(0, 134, 149)",
          "pattern": {
           "shape": ""
          }
         },
         "name": "HEV",
         "offsetgroup": "HEV, net capacity",
         "orientation": "v",
         "showlegend": false,
         "textfont": {
          "size": 11
         },
         "textposition": "auto",
         "texttemplate": "%{y:.2f}",
         "type": "bar",
         "x": [
          "net capacity"
         ],
         "xaxis": "x12",
         "y": [
          0.011915053337389486
         ],
         "yaxis": "y12"
        },
        {
         "alignmentgroup": "True",
         "hovertemplate": "fuel=HEV<br>cap type=%{x}<br>mode=LD Truck<br>vintage=2021<br>capacity=%{y}<extra></extra>",
         "legendgroup": "HEV, net capacity",
         "marker": {
          "color": "rgb(0, 134, 149)",
          "pattern": {
           "shape": ""
          }
         },
         "name": "HEV",
         "offsetgroup": "HEV, net capacity",
         "orientation": "v",
         "showlegend": false,
         "textfont": {
          "size": 11
         },
         "textposition": "auto",
         "texttemplate": "%{y:.2f}",
         "type": "bar",
         "x": [
          "net capacity"
         ],
         "xaxis": "x",
         "y": [
          0.021516077577154014
         ],
         "yaxis": "y"
        },
        {
         "alignmentgroup": "True",
         "hovertemplate": "fuel=HEV<br>cap type=%{x}<br>mode=LD Truck<br>vintage=2025<br>capacity=%{y}<extra></extra>",
         "legendgroup": "HEV, net capacity",
         "marker": {
          "color": "rgb(0, 134, 149)",
          "pattern": {
           "shape": ""
          }
         },
         "name": "HEV",
         "offsetgroup": "HEV, net capacity",
         "orientation": "v",
         "showlegend": false,
         "textfont": {
          "size": 11
         },
         "textposition": "auto",
         "texttemplate": "%{y:.2f}",
         "type": "bar",
         "x": [
          "net capacity"
         ],
         "xaxis": "x2",
         "y": [
          0.02070587220069972
         ],
         "yaxis": "y2"
        },
        {
         "alignmentgroup": "True",
         "hovertemplate": "fuel=HEV<br>cap type=%{x}<br>mode=LD Truck<br>vintage=2030<br>capacity=%{y}<extra></extra>",
         "legendgroup": "HEV, net capacity",
         "marker": {
          "color": "rgb(0, 134, 149)",
          "pattern": {
           "shape": ""
          }
         },
         "name": "HEV",
         "offsetgroup": "HEV, net capacity",
         "orientation": "v",
         "showlegend": false,
         "textfont": {
          "size": 11
         },
         "textposition": "auto",
         "texttemplate": "%{y:.2f}",
         "type": "bar",
         "x": [
          "net capacity"
         ],
         "xaxis": "x3",
         "y": [
          0.016186457909688843
         ],
         "yaxis": "y3"
        },
        {
         "alignmentgroup": "True",
         "hovertemplate": "fuel=HEV<br>cap type=%{x}<br>mode=LD Truck<br>vintage=2035<br>capacity=%{y}<extra></extra>",
         "legendgroup": "HEV, net capacity",
         "marker": {
          "color": "rgb(0, 134, 149)",
          "pattern": {
           "shape": ""
          }
         },
         "name": "HEV",
         "offsetgroup": "HEV, net capacity",
         "orientation": "v",
         "showlegend": false,
         "textfont": {
          "size": 11
         },
         "textposition": "auto",
         "texttemplate": "%{y:.2f}",
         "type": "bar",
         "x": [
          "net capacity"
         ],
         "xaxis": "x4",
         "y": [
          0.014524803955380949
         ],
         "yaxis": "y4"
        },
        {
         "alignmentgroup": "True",
         "hovertemplate": "fuel=HEV<br>cap type=%{x}<br>mode=LD Truck<br>vintage=2040<br>capacity=%{y}<extra></extra>",
         "legendgroup": "HEV, net capacity",
         "marker": {
          "color": "rgb(0, 134, 149)",
          "pattern": {
           "shape": ""
          }
         },
         "name": "HEV",
         "offsetgroup": "HEV, net capacity",
         "orientation": "v",
         "showlegend": false,
         "textfont": {
          "size": 11
         },
         "textposition": "auto",
         "texttemplate": "%{y:.2f}",
         "type": "bar",
         "x": [
          "net capacity"
         ],
         "xaxis": "x5",
         "y": [
          0.0054611540708809775
         ],
         "yaxis": "y5"
        },
        {
         "alignmentgroup": "True",
         "hovertemplate": "fuel=HEV<br>cap type=%{x}<br>mode=LD Truck<br>vintage=2045<br>capacity=%{y}<extra></extra>",
         "legendgroup": "HEV, net capacity",
         "marker": {
          "color": "rgb(0, 134, 149)",
          "pattern": {
           "shape": ""
          }
         },
         "name": "HEV",
         "offsetgroup": "HEV, net capacity",
         "orientation": "v",
         "showlegend": false,
         "textfont": {
          "size": 11
         },
         "textposition": "auto",
         "texttemplate": "%{y:.2f}",
         "type": "bar",
         "x": [
          "net capacity"
         ],
         "xaxis": "x6",
         "y": [
          0.0046222694908910145
         ],
         "yaxis": "y6"
        },
        {
         "alignmentgroup": "True",
         "hovertemplate": "fuel=HEV<br>cap type=%{x}<br>mode=LD Car<br>vintage=2025<br>capacity=%{y}<extra></extra>",
         "legendgroup": "HEV, retired cap",
         "marker": {
          "color": "rgb(0, 134, 149)",
          "pattern": {
           "shape": "/"
          }
         },
         "name": "HEV",
         "offsetgroup": "HEV, retired cap",
         "orientation": "v",
         "showlegend": false,
         "textfont": {
          "size": 11
         },
         "textposition": "auto",
         "texttemplate": "%{y:.2f}",
         "type": "bar",
         "x": [
          "retired cap"
         ],
         "xaxis": "x9",
         "y": [
          -0.007652990000000003
         ],
         "yaxis": "y9"
        },
        {
         "alignmentgroup": "True",
         "hovertemplate": "fuel=HEV<br>cap type=%{x}<br>mode=LD Car<br>vintage=2030<br>capacity=%{y}<extra></extra>",
         "legendgroup": "HEV, retired cap",
         "marker": {
          "color": "rgb(0, 134, 149)",
          "pattern": {
           "shape": "/"
          }
         },
         "name": "HEV",
         "offsetgroup": "HEV, retired cap",
         "orientation": "v",
         "showlegend": false,
         "textfont": {
          "size": 11
         },
         "textposition": "auto",
         "texttemplate": "%{y:.2f}",
         "type": "bar",
         "x": [
          "retired cap"
         ],
         "xaxis": "x10",
         "y": [
          -0.02721013539464471
         ],
         "yaxis": "y10"
        },
        {
         "alignmentgroup": "True",
         "hovertemplate": "fuel=HEV<br>cap type=%{x}<br>mode=LD Car<br>vintage=2035<br>capacity=%{y}<extra></extra>",
         "legendgroup": "HEV, retired cap",
         "marker": {
          "color": "rgb(0, 134, 149)",
          "pattern": {
           "shape": "/"
          }
         },
         "name": "HEV",
         "offsetgroup": "HEV, retired cap",
         "orientation": "v",
         "showlegend": false,
         "textfont": {
          "size": 11
         },
         "textposition": "auto",
         "texttemplate": "%{y:.2f}",
         "type": "bar",
         "x": [
          "retired cap"
         ],
         "xaxis": "x11",
         "y": [
          -0.02380953309641333
         ],
         "yaxis": "y11"
        },
        {
         "alignmentgroup": "True",
         "hovertemplate": "fuel=HEV<br>cap type=%{x}<br>mode=LD Car<br>vintage=2040<br>capacity=%{y}<extra></extra>",
         "legendgroup": "HEV, retired cap",
         "marker": {
          "color": "rgb(0, 134, 149)",
          "pattern": {
           "shape": "/"
          }
         },
         "name": "HEV",
         "offsetgroup": "HEV, retired cap",
         "orientation": "v",
         "showlegend": false,
         "textfont": {
          "size": 11
         },
         "textposition": "auto",
         "texttemplate": "%{y:.2f}",
         "type": "bar",
         "x": [
          "retired cap"
         ],
         "xaxis": "x12",
         "y": [
          -0.00765654677504588
         ],
         "yaxis": "y12"
        },
        {
         "alignmentgroup": "True",
         "hovertemplate": "fuel=HEV<br>cap type=%{x}<br>mode=LD Car<br>vintage=2045<br>capacity=%{y}<extra></extra>",
         "legendgroup": "HEV, retired cap",
         "marker": {
          "color": "rgb(0, 134, 149)",
          "pattern": {
           "shape": "/"
          }
         },
         "name": "HEV",
         "offsetgroup": "HEV, retired cap",
         "orientation": "v",
         "showlegend": false,
         "textfont": {
          "size": 11
         },
         "textposition": "auto",
         "texttemplate": "%{y:.2f}",
         "type": "bar",
         "x": [
          "retired cap"
         ],
         "xaxis": "x13",
         "y": [
          -0.011904398459584967
         ],
         "yaxis": "y13"
        },
        {
         "alignmentgroup": "True",
         "hovertemplate": "fuel=HEV<br>cap type=%{x}<br>mode=LD Truck<br>vintage=2030<br>capacity=%{y}<extra></extra>",
         "legendgroup": "HEV, retired cap",
         "marker": {
          "color": "rgb(0, 134, 149)",
          "pattern": {
           "shape": "/"
          }
         },
         "name": "HEV",
         "offsetgroup": "HEV, retired cap",
         "orientation": "v",
         "showlegend": false,
         "textfont": {
          "size": 11
         },
         "textposition": "auto",
         "texttemplate": "%{y:.2f}",
         "type": "bar",
         "x": [
          "retired cap"
         ],
         "xaxis": "x3",
         "y": [
          -0.004540696905479706
         ],
         "yaxis": "y3"
        },
        {
         "alignmentgroup": "True",
         "hovertemplate": "fuel=HEV<br>cap type=%{x}<br>mode=LD Truck<br>vintage=2035<br>capacity=%{y}<extra></extra>",
         "legendgroup": "HEV, retired cap",
         "marker": {
          "color": "rgb(0, 134, 149)",
          "pattern": {
           "shape": "/"
          }
         },
         "name": "HEV",
         "offsetgroup": "HEV, retired cap",
         "orientation": "v",
         "showlegend": false,
         "textfont": {
          "size": 11
         },
         "textposition": "auto",
         "texttemplate": "%{y:.2f}",
         "type": "bar",
         "x": [
          "retired cap"
         ],
         "xaxis": "x4",
         "y": [
          -0.0016836742881635516
         ],
         "yaxis": "y4"
        },
        {
         "alignmentgroup": "True",
         "hovertemplate": "fuel=HEV<br>cap type=%{x}<br>mode=LD Truck<br>vintage=2040<br>capacity=%{y}<extra></extra>",
         "legendgroup": "HEV, retired cap",
         "marker": {
          "color": "rgb(0, 134, 149)",
          "pattern": {
           "shape": "/"
          }
         },
         "name": "HEV",
         "offsetgroup": "HEV, retired cap",
         "orientation": "v",
         "showlegend": false,
         "textfont": {
          "size": 11
         },
         "textposition": "auto",
         "texttemplate": "%{y:.2f}",
         "type": "bar",
         "x": [
          "retired cap"
         ],
         "xaxis": "x5",
         "y": [
          -0.009086714435532748
         ],
         "yaxis": "y5"
        },
        {
         "alignmentgroup": "True",
         "hovertemplate": "fuel=HEV<br>cap type=%{x}<br>mode=LD Truck<br>vintage=2050<br>capacity=%{y}<extra></extra>",
         "legendgroup": "HEV, retired cap",
         "marker": {
          "color": "rgb(0, 134, 149)",
          "pattern": {
           "shape": "/"
          }
         },
         "name": "HEV",
         "offsetgroup": "HEV, retired cap",
         "orientation": "v",
         "showlegend": false,
         "textfont": {
          "size": 11
         },
         "textposition": "auto",
         "texttemplate": "%{y:.2f}",
         "type": "bar",
         "x": [
          "retired cap"
         ],
         "xaxis": "x7",
         "y": [
          -0.004557104341442804
         ],
         "yaxis": "y7"
        },
        {
         "alignmentgroup": "True",
         "hovertemplate": "fuel=PHEV35<br>cap type=%{x}<br>mode=LD Car<br>vintage=2021<br>capacity=%{y}<extra></extra>",
         "legendgroup": "PHEV35, net capacity",
         "marker": {
          "color": "rgb(207, 28, 144)",
          "pattern": {
           "shape": ""
          }
         },
         "name": "PHEV35",
         "offsetgroup": "PHEV35, net capacity",
         "orientation": "v",
         "showlegend": true,
         "textfont": {
          "size": 11
         },
         "textposition": "auto",
         "texttemplate": "%{y:.2f}",
         "type": "bar",
         "x": [
          "net capacity"
         ],
         "xaxis": "x8",
         "y": [
          0.025425880767475546
         ],
         "yaxis": "y8"
        },
        {
         "alignmentgroup": "True",
         "hovertemplate": "fuel=PHEV35<br>cap type=%{x}<br>mode=LD Car<br>vintage=2025<br>capacity=%{y}<extra></extra>",
         "legendgroup": "PHEV35, net capacity",
         "marker": {
          "color": "rgb(207, 28, 144)",
          "pattern": {
           "shape": ""
          }
         },
         "name": "PHEV35",
         "offsetgroup": "PHEV35, net capacity",
         "orientation": "v",
         "showlegend": false,
         "textfont": {
          "size": 11
         },
         "textposition": "auto",
         "texttemplate": "%{y:.2f}",
         "type": "bar",
         "x": [
          "net capacity"
         ],
         "xaxis": "x9",
         "y": [
          0.024758060069233288
         ],
         "yaxis": "y9"
        },
        {
         "alignmentgroup": "True",
         "hovertemplate": "fuel=PHEV35<br>cap type=%{x}<br>mode=LD Car<br>vintage=2030<br>capacity=%{y}<extra></extra>",
         "legendgroup": "PHEV35, net capacity",
         "marker": {
          "color": "rgb(207, 28, 144)",
          "pattern": {
           "shape": ""
          }
         },
         "name": "PHEV35",
         "offsetgroup": "PHEV35, net capacity",
         "orientation": "v",
         "showlegend": false,
         "textfont": {
          "size": 11
         },
         "textposition": "auto",
         "texttemplate": "%{y:.2f}",
         "type": "bar",
         "x": [
          "net capacity"
         ],
         "xaxis": "x10",
         "y": [
          0.017734141226842623
         ],
         "yaxis": "y10"
        },
        {
         "alignmentgroup": "True",
         "hovertemplate": "fuel=PHEV35<br>cap type=%{x}<br>mode=LD Car<br>vintage=2035<br>capacity=%{y}<extra></extra>",
         "legendgroup": "PHEV35, net capacity",
         "marker": {
          "color": "rgb(207, 28, 144)",
          "pattern": {
           "shape": ""
          }
         },
         "name": "PHEV35",
         "offsetgroup": "PHEV35, net capacity",
         "orientation": "v",
         "showlegend": false,
         "textfont": {
          "size": 11
         },
         "textposition": "auto",
         "texttemplate": "%{y:.2f}",
         "type": "bar",
         "x": [
          "net capacity"
         ],
         "xaxis": "x11",
         "y": [
          0.00636306302177425
         ],
         "yaxis": "y11"
        },
        {
         "alignmentgroup": "True",
         "hovertemplate": "fuel=PHEV35<br>cap type=%{x}<br>mode=LD Car<br>vintage=2040<br>capacity=%{y}<extra></extra>",
         "legendgroup": "PHEV35, net capacity",
         "marker": {
          "color": "rgb(207, 28, 144)",
          "pattern": {
           "shape": ""
          }
         },
         "name": "PHEV35",
         "offsetgroup": "PHEV35, net capacity",
         "orientation": "v",
         "showlegend": false,
         "textfont": {
          "size": 11
         },
         "textposition": "auto",
         "texttemplate": "%{y:.2f}",
         "type": "bar",
         "x": [
          "net capacity"
         ],
         "xaxis": "x12",
         "y": [
          0.005693418441974284
         ],
         "yaxis": "y12"
        },
        {
         "alignmentgroup": "True",
         "hovertemplate": "fuel=PHEV35<br>cap type=%{x}<br>mode=LD Truck<br>vintage=2021<br>capacity=%{y}<extra></extra>",
         "legendgroup": "PHEV35, net capacity",
         "marker": {
          "color": "rgb(207, 28, 144)",
          "pattern": {
           "shape": ""
          }
         },
         "name": "PHEV35",
         "offsetgroup": "PHEV35, net capacity",
         "orientation": "v",
         "showlegend": false,
         "textfont": {
          "size": 11
         },
         "textposition": "auto",
         "texttemplate": "%{y:.2f}",
         "type": "bar",
         "x": [
          "net capacity"
         ],
         "xaxis": "x",
         "y": [
          0.005420073341177216
         ],
         "yaxis": "y"
        },
        {
         "alignmentgroup": "True",
         "hovertemplate": "fuel=PHEV35<br>cap type=%{x}<br>mode=LD Truck<br>vintage=2025<br>capacity=%{y}<extra></extra>",
         "legendgroup": "PHEV35, net capacity",
         "marker": {
          "color": "rgb(207, 28, 144)",
          "pattern": {
           "shape": ""
          }
         },
         "name": "PHEV35",
         "offsetgroup": "PHEV35, net capacity",
         "orientation": "v",
         "showlegend": false,
         "textfont": {
          "size": 11
         },
         "textposition": "auto",
         "texttemplate": "%{y:.2f}",
         "type": "bar",
         "x": [
          "net capacity"
         ],
         "xaxis": "x2",
         "y": [
          0.005409891619388759
         ],
         "yaxis": "y2"
        },
        {
         "alignmentgroup": "True",
         "hovertemplate": "fuel=PHEV35<br>cap type=%{x}<br>mode=LD Truck<br>vintage=2030<br>capacity=%{y}<extra></extra>",
         "legendgroup": "PHEV35, net capacity",
         "marker": {
          "color": "rgb(207, 28, 144)",
          "pattern": {
           "shape": ""
          }
         },
         "name": "PHEV35",
         "offsetgroup": "PHEV35, net capacity",
         "orientation": "v",
         "showlegend": false,
         "textfont": {
          "size": 11
         },
         "textposition": "auto",
         "texttemplate": "%{y:.2f}",
         "type": "bar",
         "x": [
          "net capacity"
         ],
         "xaxis": "x3",
         "y": [
          0.00408385499672955
         ],
         "yaxis": "y3"
        },
        {
         "alignmentgroup": "True",
         "hovertemplate": "fuel=PHEV35<br>cap type=%{x}<br>mode=LD Truck<br>vintage=2035<br>capacity=%{y}<extra></extra>",
         "legendgroup": "PHEV35, net capacity",
         "marker": {
          "color": "rgb(207, 28, 144)",
          "pattern": {
           "shape": ""
          }
         },
         "name": "PHEV35",
         "offsetgroup": "PHEV35, net capacity",
         "orientation": "v",
         "showlegend": false,
         "textfont": {
          "size": 11
         },
         "textposition": "auto",
         "texttemplate": "%{y:.2f}",
         "type": "bar",
         "x": [
          "net capacity"
         ],
         "xaxis": "x4",
         "y": [
          0.0040469406433796115
         ],
         "yaxis": "y4"
        },
        {
         "alignmentgroup": "True",
         "hovertemplate": "fuel=PHEV35<br>cap type=%{x}<br>mode=LD Truck<br>vintage=2040<br>capacity=%{y}<extra></extra>",
         "legendgroup": "PHEV35, net capacity",
         "marker": {
          "color": "rgb(207, 28, 144)",
          "pattern": {
           "shape": ""
          }
         },
         "name": "PHEV35",
         "offsetgroup": "PHEV35, net capacity",
         "orientation": "v",
         "showlegend": false,
         "textfont": {
          "size": 11
         },
         "textposition": "auto",
         "texttemplate": "%{y:.2f}",
         "type": "bar",
         "x": [
          "net capacity"
         ],
         "xaxis": "x5",
         "y": [
          0.0013811069709955652
         ],
         "yaxis": "y5"
        },
        {
         "alignmentgroup": "True",
         "hovertemplate": "fuel=PHEV35<br>cap type=%{x}<br>mode=LD Truck<br>vintage=2045<br>capacity=%{y}<extra></extra>",
         "legendgroup": "PHEV35, net capacity",
         "marker": {
          "color": "rgb(207, 28, 144)",
          "pattern": {
           "shape": ""
          }
         },
         "name": "PHEV35",
         "offsetgroup": "PHEV35, net capacity",
         "orientation": "v",
         "showlegend": false,
         "textfont": {
          "size": 11
         },
         "textposition": "auto",
         "texttemplate": "%{y:.2f}",
         "type": "bar",
         "x": [
          "net capacity"
         ],
         "xaxis": "x6",
         "y": [
          0.0013596642830318488
         ],
         "yaxis": "y6"
        },
        {
         "alignmentgroup": "True",
         "hovertemplate": "fuel=PHEV35<br>cap type=%{x}<br>mode=LD Car<br>vintage=2030<br>capacity=%{y}<extra></extra>",
         "legendgroup": "PHEV35, retired cap",
         "marker": {
          "color": "rgb(207, 28, 144)",
          "pattern": {
           "shape": "/"
          }
         },
         "name": "PHEV35",
         "offsetgroup": "PHEV35, retired cap",
         "orientation": "v",
         "showlegend": false,
         "textfont": {
          "size": 11
         },
         "textposition": "auto",
         "texttemplate": "%{y:.2f}",
         "type": "bar",
         "x": [
          "retired cap"
         ],
         "xaxis": "x10",
         "y": [
          -0.007026575191876912
         ],
         "yaxis": "y10"
        },
        {
         "alignmentgroup": "True",
         "hovertemplate": "fuel=PHEV35<br>cap type=%{x}<br>mode=LD Car<br>vintage=2035<br>capacity=%{y}<extra></extra>",
         "legendgroup": "PHEV35, retired cap",
         "marker": {
          "color": "rgb(207, 28, 144)",
          "pattern": {
           "shape": "/"
          }
         },
         "name": "PHEV35",
         "offsetgroup": "PHEV35, retired cap",
         "orientation": "v",
         "showlegend": false,
         "textfont": {
          "size": 11
         },
         "textposition": "auto",
         "texttemplate": "%{y:.2f}",
         "type": "bar",
         "x": [
          "retired cap"
         ],
         "xaxis": "x11",
         "y": [
          -0.01137330145127204
         ],
         "yaxis": "y11"
        },
        {
         "alignmentgroup": "True",
         "hovertemplate": "fuel=PHEV35<br>cap type=%{x}<br>mode=LD Car<br>vintage=2045<br>capacity=%{y}<extra></extra>",
         "legendgroup": "PHEV35, retired cap",
         "marker": {
          "color": "rgb(207, 28, 144)",
          "pattern": {
           "shape": "/"
          }
         },
         "name": "PHEV35",
         "offsetgroup": "PHEV35, retired cap",
         "orientation": "v",
         "showlegend": false,
         "textfont": {
          "size": 11
         },
         "textposition": "auto",
         "texttemplate": "%{y:.2f}",
         "type": "bar",
         "x": [
          "retired cap"
         ],
         "xaxis": "x13",
         "y": [
          -0.005687461482889134
         ],
         "yaxis": "y13"
        },
        {
         "alignmentgroup": "True",
         "hovertemplate": "fuel=PHEV35<br>cap type=%{x}<br>mode=LD Truck<br>vintage=2030<br>capacity=%{y}<extra></extra>",
         "legendgroup": "PHEV35, retired cap",
         "marker": {
          "color": "rgb(207, 28, 144)",
          "pattern": {
           "shape": "/"
          }
         },
         "name": "PHEV35",
         "offsetgroup": "PHEV35, retired cap",
         "orientation": "v",
         "showlegend": false,
         "textfont": {
          "size": 11
         },
         "textposition": "auto",
         "texttemplate": "%{y:.2f}",
         "type": "bar",
         "x": [
          "retired cap"
         ],
         "xaxis": "x3",
         "y": [
          -0.0013345533448097927
         ],
         "yaxis": "y3"
        },
        {
         "alignmentgroup": "True",
         "hovertemplate": "fuel=PHEV35<br>cap type=%{x}<br>mode=LD Truck<br>vintage=2040<br>capacity=%{y}<extra></extra>",
         "legendgroup": "PHEV35, retired cap",
         "marker": {
          "color": "rgb(207, 28, 144)",
          "pattern": {
           "shape": "/"
          }
         },
         "name": "PHEV35",
         "offsetgroup": "PHEV35, retired cap",
         "orientation": "v",
         "showlegend": false,
         "textfont": {
          "size": 11
         },
         "textposition": "auto",
         "texttemplate": "%{y:.2f}",
         "type": "bar",
         "x": [
          "retired cap"
         ],
         "xaxis": "x5",
         "y": [
          -0.0026712358465652204
         ],
         "yaxis": "y5"
        },
        {
         "alignmentgroup": "True",
         "hovertemplate": "fuel=PHEV35<br>cap type=%{x}<br>mode=LD Truck<br>vintage=2050<br>capacity=%{y}<extra></extra>",
         "legendgroup": "PHEV35, retired cap",
         "marker": {
          "color": "rgb(207, 28, 144)",
          "pattern": {
           "shape": "/"
          }
         },
         "name": "PHEV35",
         "offsetgroup": "PHEV35, retired cap",
         "orientation": "v",
         "showlegend": false,
         "textfont": {
          "size": 11
         },
         "textposition": "auto",
         "texttemplate": "%{y:.2f}",
         "type": "bar",
         "x": [
          "retired cap"
         ],
         "xaxis": "x7",
         "y": [
          -0.0013401622490623604
         ],
         "yaxis": "y7"
        },
        {
         "legendgroup": "Blank",
         "marker": {
          "color": "rgba(0,0,0,0)"
         },
         "name": "",
         "showlegend": true,
         "textfont": {
          "size": 11
         },
         "type": "bar",
         "x": [
          null
         ],
         "y": [
          null
         ]
        },
        {
         "legendgroup": "Capacity type",
         "legendgrouptitle": {
          "text": "Capacity type"
         },
         "marker": {
          "color": "rgba(0,0,0,0)",
          "line": {
           "color": "black",
           "width": 1
          },
          "pattern": {
           "shape": ""
          }
         },
         "name": "Net capacity",
         "showlegend": true,
         "textfont": {
          "size": 11
         },
         "type": "bar",
         "x": [
          null
         ],
         "y": [
          null
         ]
        },
        {
         "legendgroup": "Capacity type",
         "marker": {
          "color": "rgba(0,0,0,0)",
          "line": {
           "color": "black",
           "width": 1
          },
          "pattern": {
           "shape": "."
          }
         },
         "name": "New capacity",
         "showlegend": true,
         "textfont": {
          "size": 11
         },
         "type": "bar",
         "x": [
          null
         ],
         "y": [
          null
         ]
        },
        {
         "legendgroup": "Capacity type",
         "marker": {
          "color": "rgba(0,0,0,0)",
          "line": {
           "color": "black",
           "width": 1
          },
          "pattern": {
           "shape": "/"
          }
         },
         "name": "Retired capacity",
         "showlegend": true,
         "textfont": {
          "size": 11
         },
         "type": "bar",
         "x": [
          null
         ],
         "y": [
          null
         ]
        }
       ],
       "layout": {
        "annotations": [
         {
          "showarrow": false,
          "text": "2021",
          "x": 0.06142857142857142,
          "xanchor": "center",
          "xref": "paper",
          "y": 0.005,
          "yanchor": "top",
          "yref": "paper"
         },
         {
          "showarrow": false,
          "text": "2025",
          "x": 0.20428571428571426,
          "xanchor": "center",
          "xref": "paper",
          "y": 0.005,
          "yanchor": "top",
          "yref": "paper"
         },
         {
          "showarrow": false,
          "text": "2030",
          "x": 0.3471428571428571,
          "xanchor": "center",
          "xref": "paper",
          "y": 0.005,
          "yanchor": "top",
          "yref": "paper"
         },
         {
          "showarrow": false,
          "text": "2035",
          "x": 0.49,
          "xanchor": "center",
          "xref": "paper",
          "y": 0.005,
          "yanchor": "top",
          "yref": "paper"
         },
         {
          "showarrow": false,
          "text": "2040",
          "x": 0.6328571428571428,
          "xanchor": "center",
          "xref": "paper",
          "y": 0.005,
          "yanchor": "top",
          "yref": "paper"
         },
         {
          "showarrow": false,
          "text": "2045",
          "x": 0.7757142857142856,
          "xanchor": "center",
          "xref": "paper",
          "y": 0.005,
          "yanchor": "top",
          "yref": "paper"
         },
         {
          "showarrow": false,
          "text": "2050",
          "x": 0.9185714285714286,
          "xanchor": "center",
          "xref": "paper",
          "y": 0.005,
          "yanchor": "top",
          "yref": "paper"
         },
         {
          "font": {
           "size": 16
          },
          "showarrow": false,
          "text": "Class: LD Truck",
          "textangle": 90,
          "x": 1.01,
          "xanchor": "center",
          "xref": "paper",
          "y": 0.2475,
          "yanchor": "middle",
          "yref": "paper"
         },
         {
          "font": {
           "size": 16
          },
          "showarrow": false,
          "text": "Class: LD Car",
          "textangle": 90,
          "x": 1.01,
          "xanchor": "center",
          "xref": "paper",
          "y": 0.7525,
          "yanchor": "middle",
          "yref": "paper"
         },
         {
          "font": {
           "size": 17
          },
          "showarrow": false,
          "text": "Fleet capacity (M units)",
          "textangle": -90,
          "x": -0.07,
          "xref": "paper",
          "y": 0.5,
          "yref": "paper"
         }
        ],
        "bargap": 0.1,
        "barmode": "relative",
        "font": {
         "size": 15
        },
        "height": 800,
        "legend": {
         "orientation": "v",
         "title": {
          "text": "Fuel type"
         },
         "tracegroupgap": 0,
         "x": 1.15,
         "xanchor": "center",
         "y": 0.8,
         "yanchor": "top"
        },
        "margin": {
         "b": 10,
         "t": 10
        },
        "template": {
         "data": {
          "bar": [
           {
            "error_x": {
             "color": "#2a3f5f"
            },
            "error_y": {
             "color": "#2a3f5f"
            },
            "marker": {
             "line": {
              "color": "white",
              "width": 0.5
             },
             "pattern": {
              "fillmode": "overlay",
              "size": 10,
              "solidity": 0.2
             }
            },
            "type": "bar"
           }
          ],
          "barpolar": [
           {
            "marker": {
             "line": {
              "color": "white",
              "width": 0.5
             },
             "pattern": {
              "fillmode": "overlay",
              "size": 10,
              "solidity": 0.2
             }
            },
            "type": "barpolar"
           }
          ],
          "carpet": [
           {
            "aaxis": {
             "endlinecolor": "#2a3f5f",
             "gridcolor": "#C8D4E3",
             "linecolor": "#C8D4E3",
             "minorgridcolor": "#C8D4E3",
             "startlinecolor": "#2a3f5f"
            },
            "baxis": {
             "endlinecolor": "#2a3f5f",
             "gridcolor": "#C8D4E3",
             "linecolor": "#C8D4E3",
             "minorgridcolor": "#C8D4E3",
             "startlinecolor": "#2a3f5f"
            },
            "type": "carpet"
           }
          ],
          "choropleth": [
           {
            "colorbar": {
             "outlinewidth": 0,
             "ticks": ""
            },
            "type": "choropleth"
           }
          ],
          "contour": [
           {
            "colorbar": {
             "outlinewidth": 0,
             "ticks": ""
            },
            "colorscale": [
             [
              0,
              "#0d0887"
             ],
             [
              0.1111111111111111,
              "#46039f"
             ],
             [
              0.2222222222222222,
              "#7201a8"
             ],
             [
              0.3333333333333333,
              "#9c179e"
             ],
             [
              0.4444444444444444,
              "#bd3786"
             ],
             [
              0.5555555555555556,
              "#d8576b"
             ],
             [
              0.6666666666666666,
              "#ed7953"
             ],
             [
              0.7777777777777778,
              "#fb9f3a"
             ],
             [
              0.8888888888888888,
              "#fdca26"
             ],
             [
              1,
              "#f0f921"
             ]
            ],
            "type": "contour"
           }
          ],
          "contourcarpet": [
           {
            "colorbar": {
             "outlinewidth": 0,
             "ticks": ""
            },
            "type": "contourcarpet"
           }
          ],
          "heatmap": [
           {
            "colorbar": {
             "outlinewidth": 0,
             "ticks": ""
            },
            "colorscale": [
             [
              0,
              "#0d0887"
             ],
             [
              0.1111111111111111,
              "#46039f"
             ],
             [
              0.2222222222222222,
              "#7201a8"
             ],
             [
              0.3333333333333333,
              "#9c179e"
             ],
             [
              0.4444444444444444,
              "#bd3786"
             ],
             [
              0.5555555555555556,
              "#d8576b"
             ],
             [
              0.6666666666666666,
              "#ed7953"
             ],
             [
              0.7777777777777778,
              "#fb9f3a"
             ],
             [
              0.8888888888888888,
              "#fdca26"
             ],
             [
              1,
              "#f0f921"
             ]
            ],
            "type": "heatmap"
           }
          ],
          "heatmapgl": [
           {
            "colorbar": {
             "outlinewidth": 0,
             "ticks": ""
            },
            "colorscale": [
             [
              0,
              "#0d0887"
             ],
             [
              0.1111111111111111,
              "#46039f"
             ],
             [
              0.2222222222222222,
              "#7201a8"
             ],
             [
              0.3333333333333333,
              "#9c179e"
             ],
             [
              0.4444444444444444,
              "#bd3786"
             ],
             [
              0.5555555555555556,
              "#d8576b"
             ],
             [
              0.6666666666666666,
              "#ed7953"
             ],
             [
              0.7777777777777778,
              "#fb9f3a"
             ],
             [
              0.8888888888888888,
              "#fdca26"
             ],
             [
              1,
              "#f0f921"
             ]
            ],
            "type": "heatmapgl"
           }
          ],
          "histogram": [
           {
            "marker": {
             "pattern": {
              "fillmode": "overlay",
              "size": 10,
              "solidity": 0.2
             }
            },
            "type": "histogram"
           }
          ],
          "histogram2d": [
           {
            "colorbar": {
             "outlinewidth": 0,
             "ticks": ""
            },
            "colorscale": [
             [
              0,
              "#0d0887"
             ],
             [
              0.1111111111111111,
              "#46039f"
             ],
             [
              0.2222222222222222,
              "#7201a8"
             ],
             [
              0.3333333333333333,
              "#9c179e"
             ],
             [
              0.4444444444444444,
              "#bd3786"
             ],
             [
              0.5555555555555556,
              "#d8576b"
             ],
             [
              0.6666666666666666,
              "#ed7953"
             ],
             [
              0.7777777777777778,
              "#fb9f3a"
             ],
             [
              0.8888888888888888,
              "#fdca26"
             ],
             [
              1,
              "#f0f921"
             ]
            ],
            "type": "histogram2d"
           }
          ],
          "histogram2dcontour": [
           {
            "colorbar": {
             "outlinewidth": 0,
             "ticks": ""
            },
            "colorscale": [
             [
              0,
              "#0d0887"
             ],
             [
              0.1111111111111111,
              "#46039f"
             ],
             [
              0.2222222222222222,
              "#7201a8"
             ],
             [
              0.3333333333333333,
              "#9c179e"
             ],
             [
              0.4444444444444444,
              "#bd3786"
             ],
             [
              0.5555555555555556,
              "#d8576b"
             ],
             [
              0.6666666666666666,
              "#ed7953"
             ],
             [
              0.7777777777777778,
              "#fb9f3a"
             ],
             [
              0.8888888888888888,
              "#fdca26"
             ],
             [
              1,
              "#f0f921"
             ]
            ],
            "type": "histogram2dcontour"
           }
          ],
          "mesh3d": [
           {
            "colorbar": {
             "outlinewidth": 0,
             "ticks": ""
            },
            "type": "mesh3d"
           }
          ],
          "parcoords": [
           {
            "line": {
             "colorbar": {
              "outlinewidth": 0,
              "ticks": ""
             }
            },
            "type": "parcoords"
           }
          ],
          "pie": [
           {
            "automargin": true,
            "type": "pie"
           }
          ],
          "scatter": [
           {
            "fillpattern": {
             "fillmode": "overlay",
             "size": 10,
             "solidity": 0.2
            },
            "type": "scatter"
           }
          ],
          "scatter3d": [
           {
            "line": {
             "colorbar": {
              "outlinewidth": 0,
              "ticks": ""
             }
            },
            "marker": {
             "colorbar": {
              "outlinewidth": 0,
              "ticks": ""
             }
            },
            "type": "scatter3d"
           }
          ],
          "scattercarpet": [
           {
            "marker": {
             "colorbar": {
              "outlinewidth": 0,
              "ticks": ""
             }
            },
            "type": "scattercarpet"
           }
          ],
          "scattergeo": [
           {
            "marker": {
             "colorbar": {
              "outlinewidth": 0,
              "ticks": ""
             }
            },
            "type": "scattergeo"
           }
          ],
          "scattergl": [
           {
            "marker": {
             "colorbar": {
              "outlinewidth": 0,
              "ticks": ""
             }
            },
            "type": "scattergl"
           }
          ],
          "scattermapbox": [
           {
            "marker": {
             "colorbar": {
              "outlinewidth": 0,
              "ticks": ""
             }
            },
            "type": "scattermapbox"
           }
          ],
          "scatterpolar": [
           {
            "marker": {
             "colorbar": {
              "outlinewidth": 0,
              "ticks": ""
             }
            },
            "type": "scatterpolar"
           }
          ],
          "scatterpolargl": [
           {
            "marker": {
             "colorbar": {
              "outlinewidth": 0,
              "ticks": ""
             }
            },
            "type": "scatterpolargl"
           }
          ],
          "scatterternary": [
           {
            "marker": {
             "colorbar": {
              "outlinewidth": 0,
              "ticks": ""
             }
            },
            "type": "scatterternary"
           }
          ],
          "surface": [
           {
            "colorbar": {
             "outlinewidth": 0,
             "ticks": ""
            },
            "colorscale": [
             [
              0,
              "#0d0887"
             ],
             [
              0.1111111111111111,
              "#46039f"
             ],
             [
              0.2222222222222222,
              "#7201a8"
             ],
             [
              0.3333333333333333,
              "#9c179e"
             ],
             [
              0.4444444444444444,
              "#bd3786"
             ],
             [
              0.5555555555555556,
              "#d8576b"
             ],
             [
              0.6666666666666666,
              "#ed7953"
             ],
             [
              0.7777777777777778,
              "#fb9f3a"
             ],
             [
              0.8888888888888888,
              "#fdca26"
             ],
             [
              1,
              "#f0f921"
             ]
            ],
            "type": "surface"
           }
          ],
          "table": [
           {
            "cells": {
             "fill": {
              "color": "#EBF0F8"
             },
             "line": {
              "color": "white"
             }
            },
            "header": {
             "fill": {
              "color": "#C8D4E3"
             },
             "line": {
              "color": "white"
             }
            },
            "type": "table"
           }
          ]
         },
         "layout": {
          "annotationdefaults": {
           "arrowcolor": "#2a3f5f",
           "arrowhead": 0,
           "arrowwidth": 1
          },
          "autotypenumbers": "strict",
          "coloraxis": {
           "colorbar": {
            "outlinewidth": 0,
            "ticks": ""
           }
          },
          "colorscale": {
           "diverging": [
            [
             0,
             "#8e0152"
            ],
            [
             0.1,
             "#c51b7d"
            ],
            [
             0.2,
             "#de77ae"
            ],
            [
             0.3,
             "#f1b6da"
            ],
            [
             0.4,
             "#fde0ef"
            ],
            [
             0.5,
             "#f7f7f7"
            ],
            [
             0.6,
             "#e6f5d0"
            ],
            [
             0.7,
             "#b8e186"
            ],
            [
             0.8,
             "#7fbc41"
            ],
            [
             0.9,
             "#4d9221"
            ],
            [
             1,
             "#276419"
            ]
           ],
           "sequential": [
            [
             0,
             "#0d0887"
            ],
            [
             0.1111111111111111,
             "#46039f"
            ],
            [
             0.2222222222222222,
             "#7201a8"
            ],
            [
             0.3333333333333333,
             "#9c179e"
            ],
            [
             0.4444444444444444,
             "#bd3786"
            ],
            [
             0.5555555555555556,
             "#d8576b"
            ],
            [
             0.6666666666666666,
             "#ed7953"
            ],
            [
             0.7777777777777778,
             "#fb9f3a"
            ],
            [
             0.8888888888888888,
             "#fdca26"
            ],
            [
             1,
             "#f0f921"
            ]
           ],
           "sequentialminus": [
            [
             0,
             "#0d0887"
            ],
            [
             0.1111111111111111,
             "#46039f"
            ],
            [
             0.2222222222222222,
             "#7201a8"
            ],
            [
             0.3333333333333333,
             "#9c179e"
            ],
            [
             0.4444444444444444,
             "#bd3786"
            ],
            [
             0.5555555555555556,
             "#d8576b"
            ],
            [
             0.6666666666666666,
             "#ed7953"
            ],
            [
             0.7777777777777778,
             "#fb9f3a"
            ],
            [
             0.8888888888888888,
             "#fdca26"
            ],
            [
             1,
             "#f0f921"
            ]
           ]
          },
          "colorway": [
           "#636efa",
           "#EF553B",
           "#00cc96",
           "#ab63fa",
           "#FFA15A",
           "#19d3f3",
           "#FF6692",
           "#B6E880",
           "#FF97FF",
           "#FECB52"
          ],
          "font": {
           "color": "#2a3f5f"
          },
          "geo": {
           "bgcolor": "white",
           "lakecolor": "white",
           "landcolor": "white",
           "showlakes": true,
           "showland": true,
           "subunitcolor": "#C8D4E3"
          },
          "hoverlabel": {
           "align": "left"
          },
          "hovermode": "closest",
          "mapbox": {
           "style": "light"
          },
          "paper_bgcolor": "white",
          "plot_bgcolor": "white",
          "polar": {
           "angularaxis": {
            "gridcolor": "#EBF0F8",
            "linecolor": "#EBF0F8",
            "ticks": ""
           },
           "bgcolor": "white",
           "radialaxis": {
            "gridcolor": "#EBF0F8",
            "linecolor": "#EBF0F8",
            "ticks": ""
           }
          },
          "scene": {
           "xaxis": {
            "backgroundcolor": "white",
            "gridcolor": "#DFE8F3",
            "gridwidth": 2,
            "linecolor": "#EBF0F8",
            "showbackground": true,
            "ticks": "",
            "zerolinecolor": "#EBF0F8"
           },
           "yaxis": {
            "backgroundcolor": "white",
            "gridcolor": "#DFE8F3",
            "gridwidth": 2,
            "linecolor": "#EBF0F8",
            "showbackground": true,
            "ticks": "",
            "zerolinecolor": "#EBF0F8"
           },
           "zaxis": {
            "backgroundcolor": "white",
            "gridcolor": "#DFE8F3",
            "gridwidth": 2,
            "linecolor": "#EBF0F8",
            "showbackground": true,
            "ticks": "",
            "zerolinecolor": "#EBF0F8"
           }
          },
          "shapedefaults": {
           "line": {
            "color": "#2a3f5f"
           }
          },
          "ternary": {
           "aaxis": {
            "gridcolor": "#DFE8F3",
            "linecolor": "#A2B1C6",
            "ticks": ""
           },
           "baxis": {
            "gridcolor": "#DFE8F3",
            "linecolor": "#A2B1C6",
            "ticks": ""
           },
           "bgcolor": "white",
           "caxis": {
            "gridcolor": "#DFE8F3",
            "linecolor": "#A2B1C6",
            "ticks": ""
           }
          },
          "title": {
           "x": 0.05
          },
          "xaxis": {
           "automargin": true,
           "gridcolor": "#EBF0F8",
           "linecolor": "#EBF0F8",
           "ticks": "",
           "title": {
            "standoff": 15
           },
           "zerolinecolor": "#EBF0F8",
           "zerolinewidth": 2
          },
          "yaxis": {
           "automargin": true,
           "gridcolor": "#EBF0F8",
           "linecolor": "#EBF0F8",
           "ticks": "",
           "title": {
            "standoff": 15
           },
           "zerolinecolor": "#EBF0F8",
           "zerolinewidth": 2
          }
         }
        },
        "title": {
         "text": "Transport LDV fleet stock and flow in ON by vehicle class and drivetrain",
         "x": 0.5,
         "xanchor": "center",
         "y": 0.97,
         "yanchor": "top"
        },
        "width": 1200,
        "xaxis": {
         "anchor": "y",
         "categoryarray": [
          "net capacity",
          "new capacity",
          "retired cap"
         ],
         "categoryorder": "array",
         "domain": [
          0,
          0.12285714285714285
         ],
         "showticklabels": false,
         "title": {
          "text": ""
         }
        },
        "xaxis10": {
         "anchor": "y10",
         "domain": [
          0.2857142857142857,
          0.40857142857142853
         ],
         "matches": "x",
         "showticklabels": false,
         "title": {
          "text": ""
         }
        },
        "xaxis11": {
         "anchor": "y11",
         "domain": [
          0.42857142857142855,
          0.5514285714285714
         ],
         "matches": "x",
         "showticklabels": false,
         "title": {
          "text": ""
         }
        },
        "xaxis12": {
         "anchor": "y12",
         "domain": [
          0.5714285714285714,
          0.6942857142857143
         ],
         "matches": "x",
         "showticklabels": false,
         "title": {
          "text": ""
         }
        },
        "xaxis13": {
         "anchor": "y13",
         "domain": [
          0.7142857142857142,
          0.8371428571428571
         ],
         "matches": "x",
         "showticklabels": false,
         "title": {
          "text": ""
         }
        },
        "xaxis14": {
         "anchor": "y14",
         "domain": [
          0.8571428571428571,
          0.98
         ],
         "matches": "x",
         "showticklabels": false,
         "title": {
          "text": ""
         }
        },
        "xaxis2": {
         "anchor": "y2",
         "categoryarray": [
          "net capacity",
          "new capacity",
          "retired cap"
         ],
         "categoryorder": "array",
         "domain": [
          0.14285714285714285,
          0.2657142857142857
         ],
         "matches": "x",
         "showticklabels": false,
         "title": {
          "text": ""
         }
        },
        "xaxis3": {
         "anchor": "y3",
         "categoryarray": [
          "net capacity",
          "new capacity",
          "retired cap"
         ],
         "categoryorder": "array",
         "domain": [
          0.2857142857142857,
          0.40857142857142853
         ],
         "matches": "x",
         "showticklabels": false,
         "title": {
          "text": ""
         }
        },
        "xaxis4": {
         "anchor": "y4",
         "categoryarray": [
          "net capacity",
          "new capacity",
          "retired cap"
         ],
         "categoryorder": "array",
         "domain": [
          0.42857142857142855,
          0.5514285714285714
         ],
         "matches": "x",
         "showticklabels": false,
         "title": {
          "text": ""
         }
        },
        "xaxis5": {
         "anchor": "y5",
         "categoryarray": [
          "net capacity",
          "new capacity",
          "retired cap"
         ],
         "categoryorder": "array",
         "domain": [
          0.5714285714285714,
          0.6942857142857143
         ],
         "matches": "x",
         "showticklabels": false,
         "title": {
          "text": ""
         }
        },
        "xaxis6": {
         "anchor": "y6",
         "categoryarray": [
          "net capacity",
          "new capacity",
          "retired cap"
         ],
         "categoryorder": "array",
         "domain": [
          0.7142857142857142,
          0.8371428571428571
         ],
         "matches": "x",
         "showticklabels": false,
         "title": {
          "text": ""
         }
        },
        "xaxis7": {
         "anchor": "y7",
         "categoryarray": [
          "net capacity",
          "new capacity",
          "retired cap"
         ],
         "categoryorder": "array",
         "domain": [
          0.8571428571428571,
          0.98
         ],
         "matches": "x",
         "showticklabels": false,
         "title": {
          "text": ""
         }
        },
        "xaxis8": {
         "anchor": "y8",
         "domain": [
          0,
          0.12285714285714285
         ],
         "matches": "x",
         "showticklabels": false,
         "title": {
          "text": ""
         }
        },
        "xaxis9": {
         "anchor": "y9",
         "domain": [
          0.14285714285714285,
          0.2657142857142857
         ],
         "matches": "x",
         "showticklabels": false,
         "title": {
          "text": ""
         }
        },
        "yaxis": {
         "anchor": "x",
         "domain": [
          0,
          0.495
         ],
         "dtick": 2,
         "title": {
          "standoff": 0,
          "text": ""
         }
        },
        "yaxis10": {
         "anchor": "x10",
         "domain": [
          0.505,
          1
         ],
         "dtick": 2,
         "matches": "y",
         "showticklabels": false,
         "title": {
          "text": ""
         }
        },
        "yaxis11": {
         "anchor": "x11",
         "domain": [
          0.505,
          1
         ],
         "dtick": 2,
         "matches": "y",
         "showticklabels": false,
         "title": {
          "text": ""
         }
        },
        "yaxis12": {
         "anchor": "x12",
         "domain": [
          0.505,
          1
         ],
         "dtick": 2,
         "matches": "y",
         "showticklabels": false,
         "title": {
          "text": ""
         }
        },
        "yaxis13": {
         "anchor": "x13",
         "domain": [
          0.505,
          1
         ],
         "dtick": 2,
         "matches": "y",
         "showticklabels": false,
         "title": {
          "text": ""
         }
        },
        "yaxis14": {
         "anchor": "x14",
         "domain": [
          0.505,
          1
         ],
         "dtick": 2,
         "matches": "y",
         "showticklabels": false,
         "title": {
          "text": ""
         }
        },
        "yaxis2": {
         "anchor": "x2",
         "domain": [
          0,
          0.495
         ],
         "dtick": 2,
         "matches": "y",
         "showticklabels": false,
         "title": {
          "text": ""
         }
        },
        "yaxis3": {
         "anchor": "x3",
         "domain": [
          0,
          0.495
         ],
         "dtick": 2,
         "matches": "y",
         "showticklabels": false,
         "title": {
          "text": ""
         }
        },
        "yaxis4": {
         "anchor": "x4",
         "domain": [
          0,
          0.495
         ],
         "dtick": 2,
         "matches": "y",
         "showticklabels": false,
         "title": {
          "text": ""
         }
        },
        "yaxis5": {
         "anchor": "x5",
         "domain": [
          0,
          0.495
         ],
         "dtick": 2,
         "matches": "y",
         "showticklabels": false,
         "title": {
          "text": ""
         }
        },
        "yaxis6": {
         "anchor": "x6",
         "domain": [
          0,
          0.495
         ],
         "dtick": 2,
         "matches": "y",
         "showticklabels": false,
         "title": {
          "text": ""
         }
        },
        "yaxis7": {
         "anchor": "x7",
         "domain": [
          0,
          0.495
         ],
         "dtick": 2,
         "matches": "y",
         "showticklabels": false,
         "title": {
          "text": ""
         }
        },
        "yaxis8": {
         "anchor": "x8",
         "domain": [
          0.505,
          1
         ],
         "dtick": 2,
         "matches": "y",
         "title": {
          "text": ""
         }
        },
        "yaxis9": {
         "anchor": "x9",
         "domain": [
          0.505,
          1
         ],
         "dtick": 2,
         "matches": "y",
         "showticklabels": false,
         "title": {
          "text": ""
         }
        }
       }
      }
     },
     "metadata": {},
     "output_type": "display_data"
    }
   ],
   "source": [
    "fig = px.bar(cap, x='cap type', y='capacity', color='fuel', \n",
    "            pattern_shape='cap type', pattern_shape_sequence=[\"\", \".\", \"/\"],\n",
    "            facet_col='vintage', facet_col_spacing=2E-2, \n",
    "            facet_row='mode', facet_row_spacing=1E-2,\n",
    "            category_orders={\"cap type\": [\"net capacity\", \"new capacity\", \"retired cap\"],\n",
    "                             \"fuel\": ['Gasoline', 'Diesel', 'CNG', 'BEV150', 'BEV200', 'BEV300', 'BEV400', 'HEV', 'PHEV35', 'PHEV50', 'FCEV']},\n",
    "            # labels={'capacity': 'Fleet capacity (M units)', 'fuel': 'Fuel type'},\n",
    "            template='plotly_white', orientation='v', color_discrete_sequence=px.colors.qualitative.Bold,\n",
    "            text_auto='.2f',\n",
    "            width=1200, height=800\n",
    "            )\n",
    "\n",
    "dummy_traces = [\n",
    "    dict(\n",
    "        name='',  # Empty legend\n",
    "        x=[None], \n",
    "        y=[None], \n",
    "        marker=dict(color='rgba(0,0,0,0)'),\n",
    "        showlegend=True,\n",
    "        legendgroup='Blank',\n",
    "        legendgrouptitle=None\n",
    "    ),\n",
    "    # dict(\n",
    "    #     name=' ',  # Another empty legend\n",
    "    #     x=[None], \n",
    "    #     y=[None], \n",
    "    #     marker=dict(color='rgba(0,0,0,0)'),\n",
    "    #     showlegend=True,\n",
    "    #     legendgroup='Blank',\n",
    "    #     legendgrouptitle=None   \n",
    "    # ),\n",
    "    dict(\n",
    "        name='Net capacity',\n",
    "        x=[None], \n",
    "        y=[None], \n",
    "        marker=dict(\n",
    "            color='rgba(0,0,0,0)',\n",
    "            line=dict(color='black', width=1),  # Thin black border\n",
    "            pattern_shape=\"\"\n",
    "        ),\n",
    "        showlegend=True,\n",
    "        legendgroup='Capacity type',\n",
    "        legendgrouptitle=dict(text=\"Capacity type\"),\n",
    "    ),\n",
    "    dict(\n",
    "        name='New capacity',\n",
    "        x=[None], \n",
    "        y=[None], \n",
    "        marker=dict(\n",
    "            color='rgba(0,0,0,0)',\n",
    "            line=dict(color='black', width=1),  # Thin black border\n",
    "            pattern_shape=\".\"\n",
    "        ),\n",
    "        showlegend=True,\n",
    "        legendgroup='Capacity type',\n",
    "        legendgrouptitle=None\n",
    "    ),\n",
    "    dict(\n",
    "        name='Retired capacity',\n",
    "        x=[None], \n",
    "        y=[None], \n",
    "        marker=dict(\n",
    "            color='rgba(0,0,0,0)',\n",
    "            line=dict(color='black', width=1),  # Thin black border\n",
    "            pattern_shape=\"/\"\n",
    "        ),\n",
    "        showlegend=True,\n",
    "        legendgroup='Capacity type',\n",
    "        legendgrouptitle=None\n",
    "    )\n",
    "]\n",
    "\n",
    "for trace in dummy_traces:\n",
    "    fig.add_bar(\n",
    "        x=trace['x'], \n",
    "        y=trace['y'], \n",
    "        name=trace['name'], \n",
    "        marker=trace['marker'], \n",
    "        showlegend=trace['showlegend'],\n",
    "        legendgroup=trace['legendgroup'],\n",
    "        legendgrouptitle=trace['legendgrouptitle']\n",
    "    )\n",
    "\n",
    "fig.update_layout(\n",
    "    margin=dict(\n",
    "        t=10, b=10\n",
    "    ),\n",
    "    title=dict(\n",
    "        text='Transport LDV fleet stock and flow in ON by vehicle class and drivetrain',\n",
    "        x=0.5, \n",
    "        y=0.97,\n",
    "        xanchor='center',\n",
    "        yanchor='top'\n",
    "    ),\n",
    "    yaxis_title_standoff=0,\n",
    "    legend_title_text='Fuel type',\n",
    "    bargap=0.1,\n",
    "    legend=dict(\n",
    "        orientation='v',\n",
    "        # entrywidth=50,\n",
    "        yanchor='top',\n",
    "        y=0.8,  \n",
    "        xanchor='center',\n",
    "        x=1.15),\n",
    "    font=dict(\n",
    "        size=15)\n",
    "    )\n",
    "\n",
    "fig.for_each_trace(lambda trace: trace.update(textfont=dict(size=11)))\n",
    "\n",
    "# fig.update_xaxes(tickvals=[\"net capacity\", \"new capacity\", \"retired cap\"],\n",
    "#                  ticktext=[\"Net\", \"New\", \"Retired\"], \n",
    "#                  tickangle=45\n",
    "#                  )\n",
    "\n",
    "for axis in fig.layout:\n",
    "    if axis.startswith('xaxis'):\n",
    "        fig.layout[axis].title.text = ''\n",
    "        fig.layout[axis].showticklabels = False\n",
    "    if axis.startswith('yaxis'):\n",
    "        fig.layout[axis].title.text = ''\n",
    "        fig.layout[axis].dtick = 2\n",
    "\n",
    "for annotation in fig.layout.annotations:\n",
    "    if 'mode' in annotation.text:\n",
    "        annotation.text = 'Class: ' + annotation.text.split('=')[1]\n",
    "        annotation.font.size = 16\n",
    "        annotation.x = 1.01\n",
    "        annotation.xanchor = 'center'\n",
    "    else:\n",
    "        annotation.text = annotation.text.split('=')[1]\n",
    "        annotation.y = 0.005\n",
    "        annotation.yanchor = 'top' \n",
    "\n",
    "shown_legends = set()\n",
    "for trace in fig.data:\n",
    "    trace.name = trace.name.split(\",\")[0]\n",
    "    if trace.name not in shown_legends:\n",
    "        trace.showlegend = True\n",
    "        shown_legends.add(trace.name)\n",
    "    else:\n",
    "        trace.showlegend = False\n",
    "\n",
    "fig.add_annotation(\n",
    "    text=\"Fleet capacity (M units)\",\n",
    "    x=-0.07,\n",
    "    y=0.5,\n",
    "    xref=\"paper\",\n",
    "    yref=\"paper\",\n",
    "    showarrow=False,\n",
    "    textangle=-90,\n",
    "    font=dict(size=17))\n",
    "\n",
    "fig.show()\n",
    "\n",
    "# fig.write_image(\"vanilla2_fleet_flow.svg\", scale=1, engine='kaleido')"
   ]
  },
  {
   "cell_type": "code",
   "execution_count": 144,
   "metadata": {},
   "outputs": [],
   "source": [
    "# fig = px.bar(cap[cap['cap type'] != 'net capacity'], x='vintage', y='capacity', color='fuel', pattern_shape='cap type', \n",
    "#             #  facet_col='vintage', facet_col_spacing=2E-2,\n",
    "#              pattern_shape_sequence=[\"\", \".\", \"/\"],\n",
    "#              labels={'vintage':'Period', 'capacity':'Capacity (M units)'},\n",
    "#              template='plotly_white', orientation='v', color_discrete_sequence=px.colors.qualitative.Bold,\n",
    "#              text_auto='.3f',\n",
    "#             #  category_orders={\"scenario\": ['CP', 'CP TM', 'NZ', 'NZ TM']},\n",
    "#             width=1100, height=750\n",
    "#             )\n",
    "\n",
    "# total_cap = cap[cap['cap type'] == 'net capacity'].groupby('vintage', as_index=False).sum('capacity')\n",
    "# fig.add_trace(go.Scatter(x=total_cap['vintage'], y=total_cap['capacity'],\n",
    "#                          name='Net capacity', mode='lines+markers',\n",
    "#                          line=dict(color='black', width=2),\n",
    "#                          marker=dict(size=6)\n",
    "#                          ))\n",
    "\n",
    "# fig.update_layout(title=dict(\n",
    "#         text='Transport LDV fleet stock and flow in ON by vehicle class and drivetrain',\n",
    "#         x=0.5, \n",
    "#         y=0.97,\n",
    "#         xanchor='center',\n",
    "#         yanchor='top'\n",
    "#     ),\n",
    "#     # xaxis=dict(title='Period'),\n",
    "#     yaxis=dict(\n",
    "#         # title='Capacity (k units)',\n",
    "#             #    dtick=1\n",
    "#                ),\n",
    "#     yaxis_title_standoff=0,\n",
    "#     legend_title_text='Fuel type',\n",
    "#     bargap=0.25,\n",
    "#     # legend=dict(\n",
    "#     #     orientation='h',  \n",
    "#     #     yanchor='top',\n",
    "#     #     y=1.03,  \n",
    "#     #     xanchor='center',\n",
    "#     #     x=0.5),\n",
    "#     font=dict(\n",
    "#         # family=\"Open Sans\",\n",
    "#         size=14)\n",
    "#     )\n",
    "\n",
    "# for annotation in fig.layout.annotations:\n",
    "#     annotation.text = annotation.text.split('=')[1]\n",
    "#     annotation.y = -0.08  \n",
    "#     annotation.yanchor = 'top' \n",
    "\n",
    "# # for axis in fig.layout:\n",
    "# #     if axis.startswith('yaxis'):\n",
    "# #         fig.layout[axis].dtick = 1\n",
    "\n",
    "# # for axis in fig.layout:\n",
    "# #     if axis.startswith('xaxis'):\n",
    "# #         fig.layout[axis].title.text = ''\n",
    "\n",
    "# fig.for_each_trace(lambda trace: trace.update(textfont=dict(size=9)))\n",
    "\n",
    "# fig.show()"
   ]
  },
  {
   "cell_type": "code",
   "execution_count": 145,
   "metadata": {},
   "outputs": [],
   "source": [
    "# periods = ld_cap['vintage'].unique()\n",
    "# fuels = ld_cap['fuel'].unique()\n",
    "\n",
    "# # Prepare positions for the bars and assign colors for each fuel type\n",
    "# bar_width = 0.25\n",
    "# positions = np.arange(len(periods))\n",
    "# colors = plt.cm.get_cmap('tab20', len(fuels))\n",
    "\n",
    "# # Sorting and calculating cumulative sums separately for each capacity flow type (existing, retired, new)\n",
    "# cumulative_data = pd.DataFrame()\n",
    "\n",
    "# for vintage in periods:\n",
    "#     # Filter data for the current vintage\n",
    "#     vintage_data = ld_cap[ld_cap['vintage'] == vintage].copy()\n",
    "    \n",
    "#     # Ensure all fuels are present, reindex to match all fuel types\n",
    "#     vintage_data = vintage_data.set_index('fuel').reindex(fuels).fillna(0)\n",
    "    \n",
    "#     # Reset index back to fuel\n",
    "#     vintage_data = vintage_data.reset_index()\n",
    "    \n",
    "#     # Sort each capacity flow type (existing, retired, and new) in descending order separately\n",
    "#     vintage_data['ex capacity'] = vintage_data['ex capacity'].sort_values(ascending=False).values\n",
    "#     vintage_data['cumulative_ex_capacity'] = vintage_data['ex capacity'].cumsum()\n",
    "\n",
    "#     vintage_data['retired cap'] = vintage_data['retired cap'].sort_values(ascending=False).values\n",
    "#     vintage_data['cumulative_retired_capacity'] = vintage_data['retired cap'].cumsum()\n",
    "\n",
    "#     vintage_data['new capacity'] = vintage_data['new capacity'].sort_values(ascending=False).values\n",
    "#     vintage_data['cumulative_new_capacity'] = vintage_data['new capacity'].cumsum()\n",
    "    \n",
    "#     # Append to the cumulative dataframe\n",
    "#     cumulative_data = pd.concat([cumulative_data, vintage_data])\n",
    "\n",
    "# # Plot the waterfall chart\n",
    "# fig, ax = plt.subplots(figsize=(12, 7))\n",
    "\n",
    "# for i, fuel in enumerate(fuels):\n",
    "#     fuel_data = cumulative_data[cumulative_data['fuel'] == fuel]\n",
    "    \n",
    "#     # Plot existing capacity (stacked cumulatively)\n",
    "#     ax.bar(positions - bar_width - 0.05, fuel_data['cumulative_ex_capacity'], bar_width, label=f'{fuel}', color=colors(i))\n",
    "    \n",
    "#     # Plot retired capacity (negative and cumulative)\n",
    "#     retired_position = fuel_data['cumulative_ex_capacity']\n",
    "#     ax.bar(positions, -fuel_data['cumulative_retired_capacity'], bar_width, bottom=retired_position, color=colors(i))\n",
    "    \n",
    "#     # Plot new capacity (cumulative)\n",
    "#     new_position = retired_position - fuel_data['cumulative_retired_capacity']\n",
    "#     ax.bar(positions + bar_width + 0.05, fuel_data['cumulative_new_capacity'], bar_width, bottom=new_position, color=colors(i))\n",
    "\n",
    "# # Chart formatting\n",
    "# ax.set_title('Car Fleet Capacity (Cumulative) by Vintage and Fuel Type')\n",
    "# ax.set_xlabel('Vintage (Year)')\n",
    "# ax.set_ylabel('Cumulative Capacity')\n",
    "# ax.set_xticks(positions)\n",
    "# ax.set_xticklabels(periods)\n",
    "# ax.legend(loc='upper left', bbox_to_anchor=(1, 1), title=\"Fuel Type\")\n",
    "# # plt.grid(True)\n",
    "# plt.tight_layout()\n",
    "\n",
    "# # Show the final cumulative waterfall chart\n",
    "# plt.show()"
   ]
  },
  {
   "cell_type": "code",
   "execution_count": 146,
   "metadata": {},
   "outputs": [],
   "source": [
    "# fig = go.Figure()\n",
    "\n",
    "# # Handle the two stackgroups: positive for 'ex capacity' + 'new capacity' and negative for 'retired cap'\n",
    "# for fuel_type in car_cap['fuel'].unique():\n",
    "#     # Separate positive and negative capacities\n",
    "#     df_fuel_pos = car_cap[(car_cap['fuel'] == fuel_type) & (car_cap['capacity'] > 0)]\n",
    "#     df_fuel_neg = car_cap[(car_cap['fuel'] == fuel_type) & (car_cap['capacity'] < 0)]\n",
    "\n",
    "#     # Add positive capacities to the 'positive' stackgroup\n",
    "#     fig.add_trace(go.Scatter(\n",
    "#         x=df_fuel_pos['vintage'],\n",
    "#         y=df_fuel_pos['capacity'],\n",
    "#         mode='lines',\n",
    "#         name=f'{fuel_type} (positive)',\n",
    "#         stackgroup='positive',  # Positive stackgroup\n",
    "#         line=dict(width=0.5),\n",
    "#         fill='tonexty'\n",
    "#     ))\n",
    "\n",
    "#     # Add negative capacities to the 'negative' stackgroup\n",
    "#     fig.add_trace(go.Scatter(\n",
    "#         x=df_fuel_neg['vintage'],\n",
    "#         y=df_fuel_neg['capacity'],\n",
    "#         mode='lines',\n",
    "#         name=f'{fuel_type} (negative)',\n",
    "#         stackgroup='negative',  # Negative stackgroup\n",
    "#         line=dict(width=0.5),\n",
    "#         fill='tonexty'\n",
    "#     ))\n",
    "\n",
    "# # Update the layout for proper visualization\n",
    "# fig.update_layout(\n",
    "#     title=\"Stacked Capacity by Fuel and Vintage (Positive and Negative Values)\",\n",
    "#     xaxis_title=\"Vintage\",\n",
    "#     yaxis_title=\"Capacity\",\n",
    "#     yaxis_rangemode=\"normal\",  # Ensures negative values are displayed correctly\n",
    "#     showlegend=True,\n",
    "#     barmode='group'  # Ensures positive and negative stackgroups are separate\n",
    "# )\n",
    "\n",
    "# fig.update_xaxes(showgrid=False)\n",
    "# fig.update_layout(width=800,\n",
    "#                   height=600,\n",
    "#                   # title={'x':0.5,\n",
    "#                   #        'y':0.88},\n",
    "#                   # legend=dict(orientation='v',\n",
    "#                   #             y=1,\n",
    "#                   #             x=0.8)\n",
    "#                  )\n",
    "\n",
    "# fig.show()"
   ]
  },
  {
   "cell_type": "code",
   "execution_count": 147,
   "metadata": {},
   "outputs": [],
   "source": [
    "# pivoted_data = car_cap.pivot_table(index=['vintage', 'fuel', 'cap type'], values='capacity', aggfunc='sum').fillna(0).reset_index()\n",
    "\n",
    "# # Initialize a figure object\n",
    "# fig = go.Figure()\n",
    "\n",
    "# # Define a fillpattern for each capacity type\n",
    "# fill_patterns = {\n",
    "#     'ex capacity': None,  # No pattern for existing capacity\n",
    "#     'new capacity': {'shape': '/'},  # Diagonal stripes for new capacity\n",
    "#     'retired cap': {'shape': '.'}   # Dots for retired capacity\n",
    "# }\n",
    "\n",
    "# # Separate stackgroups for positive and negative values\n",
    "# for fuel in pivoted_data['fuel'].unique():\n",
    "#     # Loop for positive values (new and ex capacity)\n",
    "#     for cap_type, pattern in fill_patterns.items():\n",
    "#         if cap_type != 'retired cap':  # Only positive stackgroup for non-retired capacities\n",
    "#             fuel_data = pivoted_data[(pivoted_data['fuel'] == fuel) & (pivoted_data['cap type'] == cap_type)]\n",
    "#             fig.add_trace(go.Scatter(\n",
    "#                 x=fuel_data['vintage'],\n",
    "#                 y=fuel_data['capacity'],\n",
    "#                 stackgroup='positive',  # Positive stackgroup\n",
    "#                 name=f\"{fuel}\",\n",
    "#                 showlegend=(cap_type == 'ex capacity'),  # Show legend only once per fuel\n",
    "#                 fill='tonexty',\n",
    "#                 fillpattern=pattern if pattern else None,\n",
    "#                 hoverinfo='x+y+name'\n",
    "#             ))\n",
    "    \n",
    "#     # Loop for negative values (retired capacity)\n",
    "#     retired_data = pivoted_data[(pivoted_data['fuel'] == fuel) & (pivoted_data['cap type'] == 'retired cap')]\n",
    "#     fig.add_trace(go.Scatter(\n",
    "#         x=retired_data['vintage'],\n",
    "#         y=retired_data['capacity'],  # Negative values handled separately\n",
    "#         stackgroup='negative',  # Negative stackgroup for retired capacities\n",
    "#         name=f\"{fuel}\",\n",
    "#         fill='tonexty',\n",
    "#         fillpattern=fill_patterns['retired cap'],\n",
    "#         hoverinfo='x+y+name',\n",
    "#         showlegend=False  # Legend already added for the fuel\n",
    "#     ))\n",
    "\n",
    "# # Add a custom legend for the capacity type patterns using empty filled areas\n",
    "# pattern_legend_items = [\n",
    "#     go.Scatter(\n",
    "#         x=[None], y=[None],\n",
    "#         mode='lines',\n",
    "#         fill='toself',\n",
    "#         fillpattern=fill_patterns[cap_type],\n",
    "#         name=cap_type\n",
    "#     ) for cap_type in fill_patterns.keys() if fill_patterns[cap_type]  # Only create a legend item if there's a pattern\n",
    "# ]\n",
    "\n",
    "# # Add pattern legend items to the figure\n",
    "# for item in pattern_legend_items:\n",
    "#     fig.add_trace(item)\n",
    "\n",
    "# # Customize the layout\n",
    "# fig.update_layout(\n",
    "#     title=\"Stacked Area Plot with Patterns for Capacity Types\",\n",
    "#     xaxis_title=\"Vintage\",\n",
    "#     yaxis_title=\"Capacity\",\n",
    "#     showlegend=True,\n",
    "#     legend=dict(title=\"Fuel Type and Capacity Type\"),\n",
    "#     barmode='group',  # Grouped mode for the bar stacks\n",
    "#     yaxis=dict(rangemode=\"normal\")  # Ensure y-axis includes negative values\n",
    "# )\n",
    "\n",
    "# # Show or save the plot\n",
    "# # For displaying:\n",
    "# fig.show()"
   ]
  },
  {
   "cell_type": "code",
   "execution_count": 148,
   "metadata": {},
   "outputs": [
    {
     "data": {
      "application/vnd.plotly.v1+json": {
       "config": {
        "plotlyServerURL": "https://plot.ly"
       },
       "data": [
        {
         "alignmentgroup": "True",
         "hovertemplate": "life=Survival Q1<br>cap type=%{x}<br>mode=LD Car<br>vintage=2021<br>capacity=%{y}<extra></extra>",
         "legendgroup": "Survival Q1, net capacity",
         "marker": {
          "color": "rgb(127, 60, 141)",
          "pattern": {
           "shape": ""
          }
         },
         "name": "Survival Q1",
         "offsetgroup": "Survival Q1, net capacity",
         "orientation": "v",
         "showlegend": true,
         "textfont": {
          "size": 11
         },
         "textposition": "auto",
         "texttemplate": "%{y:.2f}",
         "type": "bar",
         "x": [
          "net capacity"
         ],
         "xaxis": "x8",
         "y": [
          0.972592114726286
         ],
         "yaxis": "y8"
        },
        {
         "alignmentgroup": "True",
         "hovertemplate": "life=Survival Q1<br>cap type=%{x}<br>mode=LD Car<br>vintage=2025<br>capacity=%{y}<extra></extra>",
         "legendgroup": "Survival Q1, net capacity",
         "marker": {
          "color": "rgb(127, 60, 141)",
          "pattern": {
           "shape": ""
          }
         },
         "name": "Survival Q1",
         "offsetgroup": "Survival Q1, net capacity",
         "orientation": "v",
         "showlegend": false,
         "textfont": {
          "size": 11
         },
         "textposition": "auto",
         "texttemplate": "%{y:.2f}",
         "type": "bar",
         "x": [
          "net capacity"
         ],
         "xaxis": "x9",
         "y": [
          1.150572407092534
         ],
         "yaxis": "y9"
        },
        {
         "alignmentgroup": "True",
         "hovertemplate": "life=Survival Q1<br>cap type=%{x}<br>mode=LD Car<br>vintage=2030<br>capacity=%{y}<extra></extra>",
         "legendgroup": "Survival Q1, net capacity",
         "marker": {
          "color": "rgb(127, 60, 141)",
          "pattern": {
           "shape": ""
          }
         },
         "name": "Survival Q1",
         "offsetgroup": "Survival Q1, net capacity",
         "orientation": "v",
         "showlegend": false,
         "textfont": {
          "size": 11
         },
         "textposition": "auto",
         "texttemplate": "%{y:.2f}",
         "type": "bar",
         "x": [
          "net capacity"
         ],
         "xaxis": "x10",
         "y": [
          0.8734089294648363
         ],
         "yaxis": "y10"
        },
        {
         "alignmentgroup": "True",
         "hovertemplate": "life=Survival Q1<br>cap type=%{x}<br>mode=LD Car<br>vintage=2035<br>capacity=%{y}<extra></extra>",
         "legendgroup": "Survival Q1, net capacity",
         "marker": {
          "color": "rgb(127, 60, 141)",
          "pattern": {
           "shape": ""
          }
         },
         "name": "Survival Q1",
         "offsetgroup": "Survival Q1, net capacity",
         "orientation": "v",
         "showlegend": false,
         "textfont": {
          "size": 11
         },
         "textposition": "auto",
         "texttemplate": "%{y:.2f}",
         "type": "bar",
         "x": [
          "net capacity"
         ],
         "xaxis": "x11",
         "y": [
          1.0864439343354686
         ],
         "yaxis": "y11"
        },
        {
         "alignmentgroup": "True",
         "hovertemplate": "life=Survival Q1<br>cap type=%{x}<br>mode=LD Car<br>vintage=2040<br>capacity=%{y}<extra></extra>",
         "legendgroup": "Survival Q1, net capacity",
         "marker": {
          "color": "rgb(127, 60, 141)",
          "pattern": {
           "shape": ""
          }
         },
         "name": "Survival Q1",
         "offsetgroup": "Survival Q1, net capacity",
         "orientation": "v",
         "showlegend": false,
         "textfont": {
          "size": 11
         },
         "textposition": "auto",
         "texttemplate": "%{y:.2f}",
         "type": "bar",
         "x": [
          "net capacity"
         ],
         "xaxis": "x12",
         "y": [
          1.2570549575313104
         ],
         "yaxis": "y12"
        },
        {
         "alignmentgroup": "True",
         "hovertemplate": "life=Survival Q1<br>cap type=%{x}<br>mode=LD Car<br>vintage=2045<br>capacity=%{y}<extra></extra>",
         "legendgroup": "Survival Q1, net capacity",
         "marker": {
          "color": "rgb(127, 60, 141)",
          "pattern": {
           "shape": ""
          }
         },
         "name": "Survival Q1",
         "offsetgroup": "Survival Q1, net capacity",
         "orientation": "v",
         "showlegend": false,
         "textfont": {
          "size": 11
         },
         "textposition": "auto",
         "texttemplate": "%{y:.2f}",
         "type": "bar",
         "x": [
          "net capacity"
         ],
         "xaxis": "x13",
         "y": [
          1.007290139217967
         ],
         "yaxis": "y13"
        },
        {
         "alignmentgroup": "True",
         "hovertemplate": "life=Survival Q1<br>cap type=%{x}<br>mode=LD Car<br>vintage=2050<br>capacity=%{y}<extra></extra>",
         "legendgroup": "Survival Q1, net capacity",
         "marker": {
          "color": "rgb(127, 60, 141)",
          "pattern": {
           "shape": ""
          }
         },
         "name": "Survival Q1",
         "offsetgroup": "Survival Q1, net capacity",
         "orientation": "v",
         "showlegend": false,
         "textfont": {
          "size": 11
         },
         "textposition": "auto",
         "texttemplate": "%{y:.2f}",
         "type": "bar",
         "x": [
          "net capacity"
         ],
         "xaxis": "x14",
         "y": [
          1.2368715000653459
         ],
         "yaxis": "y14"
        },
        {
         "alignmentgroup": "True",
         "hovertemplate": "life=Survival Q1<br>cap type=%{x}<br>mode=LD Truck<br>vintage=2021<br>capacity=%{y}<extra></extra>",
         "legendgroup": "Survival Q1, net capacity",
         "marker": {
          "color": "rgb(127, 60, 141)",
          "pattern": {
           "shape": ""
          }
         },
         "name": "Survival Q1",
         "offsetgroup": "Survival Q1, net capacity",
         "orientation": "v",
         "showlegend": false,
         "textfont": {
          "size": 11
         },
         "textposition": "auto",
         "texttemplate": "%{y:.2f}",
         "type": "bar",
         "x": [
          "net capacity"
         ],
         "xaxis": "x",
         "y": [
          1.1029928178230288
         ],
         "yaxis": "y"
        },
        {
         "alignmentgroup": "True",
         "hovertemplate": "life=Survival Q1<br>cap type=%{x}<br>mode=LD Truck<br>vintage=2025<br>capacity=%{y}<extra></extra>",
         "legendgroup": "Survival Q1, net capacity",
         "marker": {
          "color": "rgb(127, 60, 141)",
          "pattern": {
           "shape": ""
          }
         },
         "name": "Survival Q1",
         "offsetgroup": "Survival Q1, net capacity",
         "orientation": "v",
         "showlegend": false,
         "textfont": {
          "size": 11
         },
         "textposition": "auto",
         "texttemplate": "%{y:.2f}",
         "type": "bar",
         "x": [
          "net capacity"
         ],
         "xaxis": "x2",
         "y": [
          1.1792003800910023
         ],
         "yaxis": "y2"
        },
        {
         "alignmentgroup": "True",
         "hovertemplate": "life=Survival Q1<br>cap type=%{x}<br>mode=LD Truck<br>vintage=2030<br>capacity=%{y}<extra></extra>",
         "legendgroup": "Survival Q1, net capacity",
         "marker": {
          "color": "rgb(127, 60, 141)",
          "pattern": {
           "shape": ""
          }
         },
         "name": "Survival Q1",
         "offsetgroup": "Survival Q1, net capacity",
         "orientation": "v",
         "showlegend": false,
         "textfont": {
          "size": 11
         },
         "textposition": "auto",
         "texttemplate": "%{y:.2f}",
         "type": "bar",
         "x": [
          "net capacity"
         ],
         "xaxis": "x3",
         "y": [
          0.8690957427976609
         ],
         "yaxis": "y3"
        },
        {
         "alignmentgroup": "True",
         "hovertemplate": "life=Survival Q1<br>cap type=%{x}<br>mode=LD Truck<br>vintage=2035<br>capacity=%{y}<extra></extra>",
         "legendgroup": "Survival Q1, net capacity",
         "marker": {
          "color": "rgb(127, 60, 141)",
          "pattern": {
           "shape": ""
          }
         },
         "name": "Survival Q1",
         "offsetgroup": "Survival Q1, net capacity",
         "orientation": "v",
         "showlegend": false,
         "textfont": {
          "size": 11
         },
         "textposition": "auto",
         "texttemplate": "%{y:.2f}",
         "type": "bar",
         "x": [
          "net capacity"
         ],
         "xaxis": "x4",
         "y": [
          0.9572268536780042
         ],
         "yaxis": "y4"
        },
        {
         "alignmentgroup": "True",
         "hovertemplate": "life=Survival Q1<br>cap type=%{x}<br>mode=LD Truck<br>vintage=2040<br>capacity=%{y}<extra></extra>",
         "legendgroup": "Survival Q1, net capacity",
         "marker": {
          "color": "rgb(127, 60, 141)",
          "pattern": {
           "shape": ""
          }
         },
         "name": "Survival Q1",
         "offsetgroup": "Survival Q1, net capacity",
         "orientation": "v",
         "showlegend": false,
         "textfont": {
          "size": 11
         },
         "textposition": "auto",
         "texttemplate": "%{y:.2f}",
         "type": "bar",
         "x": [
          "net capacity"
         ],
         "xaxis": "x5",
         "y": [
          1.3466470632227063
         ],
         "yaxis": "y5"
        },
        {
         "alignmentgroup": "True",
         "hovertemplate": "life=Survival Q1<br>cap type=%{x}<br>mode=LD Truck<br>vintage=2045<br>capacity=%{y}<extra></extra>",
         "legendgroup": "Survival Q1, net capacity",
         "marker": {
          "color": "rgb(127, 60, 141)",
          "pattern": {
           "shape": ""
          }
         },
         "name": "Survival Q1",
         "offsetgroup": "Survival Q1, net capacity",
         "orientation": "v",
         "showlegend": false,
         "textfont": {
          "size": 11
         },
         "textposition": "auto",
         "texttemplate": "%{y:.2f}",
         "type": "bar",
         "x": [
          "net capacity"
         ],
         "xaxis": "x6",
         "y": [
          1.2228571440979388
         ],
         "yaxis": "y6"
        },
        {
         "alignmentgroup": "True",
         "hovertemplate": "life=Survival Q1<br>cap type=%{x}<br>mode=LD Truck<br>vintage=2050<br>capacity=%{y}<extra></extra>",
         "legendgroup": "Survival Q1, net capacity",
         "marker": {
          "color": "rgb(127, 60, 141)",
          "pattern": {
           "shape": ""
          }
         },
         "name": "Survival Q1",
         "offsetgroup": "Survival Q1, net capacity",
         "orientation": "v",
         "showlegend": false,
         "textfont": {
          "size": 11
         },
         "textposition": "auto",
         "texttemplate": "%{y:.2f}",
         "type": "bar",
         "x": [
          "net capacity"
         ],
         "xaxis": "x7",
         "y": [
          1.163448783298282
         ],
         "yaxis": "y7"
        },
        {
         "alignmentgroup": "True",
         "hovertemplate": "life=Survival Q1<br>cap type=%{x}<br>mode=LD Car<br>vintage=2021<br>capacity=%{y}<extra></extra>",
         "legendgroup": "Survival Q1, new capacity",
         "marker": {
          "color": "rgb(127, 60, 141)",
          "pattern": {
           "shape": "."
          }
         },
         "name": "Survival Q1",
         "offsetgroup": "Survival Q1, new capacity",
         "orientation": "v",
         "showlegend": false,
         "textfont": {
          "size": 11
         },
         "textposition": "auto",
         "texttemplate": "%{y:.2f}",
         "type": "bar",
         "x": [
          "new capacity"
         ],
         "xaxis": "x8",
         "y": [
          0.1716485870267367
         ],
         "yaxis": "y8"
        },
        {
         "alignmentgroup": "True",
         "hovertemplate": "life=Survival Q1<br>cap type=%{x}<br>mode=LD Car<br>vintage=2025<br>capacity=%{y}<extra></extra>",
         "legendgroup": "Survival Q1, new capacity",
         "marker": {
          "color": "rgb(127, 60, 141)",
          "pattern": {
           "shape": "."
          }
         },
         "name": "Survival Q1",
         "offsetgroup": "Survival Q1, new capacity",
         "orientation": "v",
         "showlegend": false,
         "textfont": {
          "size": 11
         },
         "textposition": "auto",
         "texttemplate": "%{y:.2f}",
         "type": "bar",
         "x": [
          "new capacity"
         ],
         "xaxis": "x9",
         "y": [
          0.5374843195938186
         ],
         "yaxis": "y9"
        },
        {
         "alignmentgroup": "True",
         "hovertemplate": "life=Survival Q1<br>cap type=%{x}<br>mode=LD Car<br>vintage=2030<br>capacity=%{y}<extra></extra>",
         "legendgroup": "Survival Q1, new capacity",
         "marker": {
          "color": "rgb(127, 60, 141)",
          "pattern": {
           "shape": "."
          }
         },
         "name": "Survival Q1",
         "offsetgroup": "Survival Q1, new capacity",
         "orientation": "v",
         "showlegend": false,
         "textfont": {
          "size": 11
         },
         "textposition": "auto",
         "texttemplate": "%{y:.2f}",
         "type": "bar",
         "x": [
          "new capacity"
         ],
         "xaxis": "x10",
         "y": [
          0.3359246098710178
         ],
         "yaxis": "y10"
        },
        {
         "alignmentgroup": "True",
         "hovertemplate": "life=Survival Q1<br>cap type=%{x}<br>mode=LD Car<br>vintage=2035<br>capacity=%{y}<extra></extra>",
         "legendgroup": "Survival Q1, new capacity",
         "marker": {
          "color": "rgb(127, 60, 141)",
          "pattern": {
           "shape": "."
          }
         },
         "name": "Survival Q1",
         "offsetgroup": "Survival Q1, new capacity",
         "orientation": "v",
         "showlegend": false,
         "textfont": {
          "size": 11
         },
         "textposition": "auto",
         "texttemplate": "%{y:.2f}",
         "type": "bar",
         "x": [
          "new capacity"
         ],
         "xaxis": "x11",
         "y": [
          0.7505193244644507
         ],
         "yaxis": "y11"
        },
        {
         "alignmentgroup": "True",
         "hovertemplate": "life=Survival Q1<br>cap type=%{x}<br>mode=LD Car<br>vintage=2040<br>capacity=%{y}<extra></extra>",
         "legendgroup": "Survival Q1, new capacity",
         "marker": {
          "color": "rgb(127, 60, 141)",
          "pattern": {
           "shape": "."
          }
         },
         "name": "Survival Q1",
         "offsetgroup": "Survival Q1, new capacity",
         "orientation": "v",
         "showlegend": false,
         "textfont": {
          "size": 11
         },
         "textposition": "auto",
         "texttemplate": "%{y:.2f}",
         "type": "bar",
         "x": [
          "new capacity"
         ],
         "xaxis": "x12",
         "y": [
          0.5065356330668597
         ],
         "yaxis": "y12"
        },
        {
         "alignmentgroup": "True",
         "hovertemplate": "life=Survival Q1<br>cap type=%{x}<br>mode=LD Car<br>vintage=2045<br>capacity=%{y}<extra></extra>",
         "legendgroup": "Survival Q1, new capacity",
         "marker": {
          "color": "rgb(127, 60, 141)",
          "pattern": {
           "shape": "."
          }
         },
         "name": "Survival Q1",
         "offsetgroup": "Survival Q1, new capacity",
         "orientation": "v",
         "showlegend": false,
         "textfont": {
          "size": 11
         },
         "textposition": "auto",
         "texttemplate": "%{y:.2f}",
         "type": "bar",
         "x": [
          "new capacity"
         ],
         "xaxis": "x13",
         "y": [
          0.5007545061511073
         ],
         "yaxis": "y13"
        },
        {
         "alignmentgroup": "True",
         "hovertemplate": "life=Survival Q1<br>cap type=%{x}<br>mode=LD Car<br>vintage=2050<br>capacity=%{y}<extra></extra>",
         "legendgroup": "Survival Q1, new capacity",
         "marker": {
          "color": "rgb(127, 60, 141)",
          "pattern": {
           "shape": "."
          }
         },
         "name": "Survival Q1",
         "offsetgroup": "Survival Q1, new capacity",
         "orientation": "v",
         "showlegend": false,
         "textfont": {
          "size": 11
         },
         "textposition": "auto",
         "texttemplate": "%{y:.2f}",
         "type": "bar",
         "x": [
          "new capacity"
         ],
         "xaxis": "x14",
         "y": [
          0.7361169939142385
         ],
         "yaxis": "y14"
        },
        {
         "alignmentgroup": "True",
         "hovertemplate": "life=Survival Q1<br>cap type=%{x}<br>mode=LD Truck<br>vintage=2021<br>capacity=%{y}<extra></extra>",
         "legendgroup": "Survival Q1, new capacity",
         "marker": {
          "color": "rgb(127, 60, 141)",
          "pattern": {
           "shape": "."
          }
         },
         "name": "Survival Q1",
         "offsetgroup": "Survival Q1, new capacity",
         "orientation": "v",
         "showlegend": false,
         "textfont": {
          "size": 11
         },
         "textposition": "auto",
         "texttemplate": "%{y:.2f}",
         "type": "bar",
         "x": [
          "new capacity"
         ],
         "xaxis": "x",
         "y": [
          0.15031750207543235
         ],
         "yaxis": "y"
        },
        {
         "alignmentgroup": "True",
         "hovertemplate": "life=Survival Q1<br>cap type=%{x}<br>mode=LD Truck<br>vintage=2025<br>capacity=%{y}<extra></extra>",
         "legendgroup": "Survival Q1, new capacity",
         "marker": {
          "color": "rgb(127, 60, 141)",
          "pattern": {
           "shape": "."
          }
         },
         "name": "Survival Q1",
         "offsetgroup": "Survival Q1, new capacity",
         "orientation": "v",
         "showlegend": false,
         "textfont": {
          "size": 11
         },
         "textposition": "auto",
         "texttemplate": "%{y:.2f}",
         "type": "bar",
         "x": [
          "new capacity"
         ],
         "xaxis": "x2",
         "y": [
          0.48553209250943313
         ],
         "yaxis": "y2"
        },
        {
         "alignmentgroup": "True",
         "hovertemplate": "life=Survival Q1<br>cap type=%{x}<br>mode=LD Truck<br>vintage=2030<br>capacity=%{y}<extra></extra>",
         "legendgroup": "Survival Q1, new capacity",
         "marker": {
          "color": "rgb(127, 60, 141)",
          "pattern": {
           "shape": "."
          }
         },
         "name": "Survival Q1",
         "offsetgroup": "Survival Q1, new capacity",
         "orientation": "v",
         "showlegend": false,
         "textfont": {
          "size": 11
         },
         "textposition": "auto",
         "texttemplate": "%{y:.2f}",
         "type": "bar",
         "x": [
          "new capacity"
         ],
         "xaxis": "x3",
         "y": [
          0.3835636502882279
         ],
         "yaxis": "y3"
        },
        {
         "alignmentgroup": "True",
         "hovertemplate": "life=Survival Q1<br>cap type=%{x}<br>mode=LD Truck<br>vintage=2035<br>capacity=%{y}<extra></extra>",
         "legendgroup": "Survival Q1, new capacity",
         "marker": {
          "color": "rgb(127, 60, 141)",
          "pattern": {
           "shape": "."
          }
         },
         "name": "Survival Q1",
         "offsetgroup": "Survival Q1, new capacity",
         "orientation": "v",
         "showlegend": false,
         "textfont": {
          "size": 11
         },
         "textposition": "auto",
         "texttemplate": "%{y:.2f}",
         "type": "bar",
         "x": [
          "new capacity"
         ],
         "xaxis": "x4",
         "y": [
          0.5736632033897763
         ],
         "yaxis": "y4"
        },
        {
         "alignmentgroup": "True",
         "hovertemplate": "life=Survival Q1<br>cap type=%{x}<br>mode=LD Truck<br>vintage=2040<br>capacity=%{y}<extra></extra>",
         "legendgroup": "Survival Q1, new capacity",
         "marker": {
          "color": "rgb(127, 60, 141)",
          "pattern": {
           "shape": "."
          }
         },
         "name": "Survival Q1",
         "offsetgroup": "Survival Q1, new capacity",
         "orientation": "v",
         "showlegend": false,
         "textfont": {
          "size": 11
         },
         "textposition": "auto",
         "texttemplate": "%{y:.2f}",
         "type": "bar",
         "x": [
          "new capacity"
         ],
         "xaxis": "x5",
         "y": [
          0.7729838598329299
         ],
         "yaxis": "y5"
        },
        {
         "alignmentgroup": "True",
         "hovertemplate": "life=Survival Q1<br>cap type=%{x}<br>mode=LD Truck<br>vintage=2045<br>capacity=%{y}<extra></extra>",
         "legendgroup": "Survival Q1, new capacity",
         "marker": {
          "color": "rgb(127, 60, 141)",
          "pattern": {
           "shape": "."
          }
         },
         "name": "Survival Q1",
         "offsetgroup": "Survival Q1, new capacity",
         "orientation": "v",
         "showlegend": false,
         "textfont": {
          "size": 11
         },
         "textposition": "auto",
         "texttemplate": "%{y:.2f}",
         "type": "bar",
         "x": [
          "new capacity"
         ],
         "xaxis": "x6",
         "y": [
          0.44987328426500883
         ],
         "yaxis": "y6"
        },
        {
         "alignmentgroup": "True",
         "hovertemplate": "life=Survival Q1<br>cap type=%{x}<br>mode=LD Truck<br>vintage=2050<br>capacity=%{y}<extra></extra>",
         "legendgroup": "Survival Q1, new capacity",
         "marker": {
          "color": "rgb(127, 60, 141)",
          "pattern": {
           "shape": "."
          }
         },
         "name": "Survival Q1",
         "offsetgroup": "Survival Q1, new capacity",
         "orientation": "v",
         "showlegend": false,
         "textfont": {
          "size": 11
         },
         "textposition": "auto",
         "texttemplate": "%{y:.2f}",
         "type": "bar",
         "x": [
          "new capacity"
         ],
         "xaxis": "x7",
         "y": [
          0.7135754990332732
         ],
         "yaxis": "y7"
        },
        {
         "alignmentgroup": "True",
         "hovertemplate": "life=Survival Q1<br>cap type=%{x}<br>mode=LD Car<br>vintage=2025<br>capacity=%{y}<extra></extra>",
         "legendgroup": "Survival Q1, retired cap",
         "marker": {
          "color": "rgb(127, 60, 141)",
          "pattern": {
           "shape": "/"
          }
         },
         "name": "Survival Q1",
         "offsetgroup": "Survival Q1, retired cap",
         "orientation": "v",
         "showlegend": false,
         "textfont": {
          "size": 11
         },
         "textposition": "auto",
         "texttemplate": "%{y:.2f}",
         "type": "bar",
         "x": [
          "retired cap"
         ],
         "xaxis": "x9",
         "y": [
          -0.3569726575
         ],
         "yaxis": "y9"
        },
        {
         "alignmentgroup": "True",
         "hovertemplate": "life=Survival Q1<br>cap type=%{x}<br>mode=LD Car<br>vintage=2030<br>capacity=%{y}<extra></extra>",
         "legendgroup": "Survival Q1, retired cap",
         "marker": {
          "color": "rgb(127, 60, 141)",
          "pattern": {
           "shape": "/"
          }
         },
         "name": "Survival Q1",
         "offsetgroup": "Survival Q1, retired cap",
         "orientation": "v",
         "showlegend": false,
         "textfont": {
          "size": 11
         },
         "textposition": "auto",
         "texttemplate": "%{y:.2f}",
         "type": "bar",
         "x": [
          "retired cap"
         ],
         "xaxis": "x10",
         "y": [
          -0.613085808173955
         ],
         "yaxis": "y10"
        },
        {
         "alignmentgroup": "True",
         "hovertemplate": "life=Survival Q1<br>cap type=%{x}<br>mode=LD Car<br>vintage=2035<br>capacity=%{y}<extra></extra>",
         "legendgroup": "Survival Q1, retired cap",
         "marker": {
          "color": "rgb(127, 60, 141)",
          "pattern": {
           "shape": "/"
          }
         },
         "name": "Survival Q1",
         "offsetgroup": "Survival Q1, retired cap",
         "orientation": "v",
         "showlegend": false,
         "textfont": {
          "size": 11
         },
         "textposition": "auto",
         "texttemplate": "%{y:.2f}",
         "type": "bar",
         "x": [
          "retired cap"
         ],
         "xaxis": "x11",
         "y": [
          -0.5374843195938186
         ],
         "yaxis": "y11"
        },
        {
         "alignmentgroup": "True",
         "hovertemplate": "life=Survival Q1<br>cap type=%{x}<br>mode=LD Car<br>vintage=2040<br>capacity=%{y}<extra></extra>",
         "legendgroup": "Survival Q1, retired cap",
         "marker": {
          "color": "rgb(127, 60, 141)",
          "pattern": {
           "shape": "/"
          }
         },
         "name": "Survival Q1",
         "offsetgroup": "Survival Q1, retired cap",
         "orientation": "v",
         "showlegend": false,
         "textfont": {
          "size": 11
         },
         "textposition": "auto",
         "texttemplate": "%{y:.2f}",
         "type": "bar",
         "x": [
          "retired cap"
         ],
         "xaxis": "x12",
         "y": [
          -0.33592460987101797
         ],
         "yaxis": "y12"
        },
        {
         "alignmentgroup": "True",
         "hovertemplate": "life=Survival Q1<br>cap type=%{x}<br>mode=LD Car<br>vintage=2045<br>capacity=%{y}<extra></extra>",
         "legendgroup": "Survival Q1, retired cap",
         "marker": {
          "color": "rgb(127, 60, 141)",
          "pattern": {
           "shape": "/"
          }
         },
         "name": "Survival Q1",
         "offsetgroup": "Survival Q1, retired cap",
         "orientation": "v",
         "showlegend": false,
         "textfont": {
          "size": 11
         },
         "textposition": "auto",
         "texttemplate": "%{y:.2f}",
         "type": "bar",
         "x": [
          "retired cap"
         ],
         "xaxis": "x13",
         "y": [
          -0.7505193244644506
         ],
         "yaxis": "y13"
        },
        {
         "alignmentgroup": "True",
         "hovertemplate": "life=Survival Q1<br>cap type=%{x}<br>mode=LD Car<br>vintage=2050<br>capacity=%{y}<extra></extra>",
         "legendgroup": "Survival Q1, retired cap",
         "marker": {
          "color": "rgb(127, 60, 141)",
          "pattern": {
           "shape": "/"
          }
         },
         "name": "Survival Q1",
         "offsetgroup": "Survival Q1, retired cap",
         "orientation": "v",
         "showlegend": false,
         "textfont": {
          "size": 11
         },
         "textposition": "auto",
         "texttemplate": "%{y:.2f}",
         "type": "bar",
         "x": [
          "retired cap"
         ],
         "xaxis": "x14",
         "y": [
          -0.5065356330668597
         ],
         "yaxis": "y14"
        },
        {
         "alignmentgroup": "True",
         "hovertemplate": "life=Survival Q1<br>cap type=%{x}<br>mode=LD Truck<br>vintage=2025<br>capacity=%{y}<extra></extra>",
         "legendgroup": "Survival Q1, retired cap",
         "marker": {
          "color": "rgb(127, 60, 141)",
          "pattern": {
           "shape": "/"
          }
         },
         "name": "Survival Q1",
         "offsetgroup": "Survival Q1, retired cap",
         "orientation": "v",
         "showlegend": false,
         "textfont": {
          "size": 11
         },
         "textposition": "auto",
         "texttemplate": "%{y:.2f}",
         "type": "bar",
         "x": [
          "retired cap"
         ],
         "xaxis": "x2",
         "y": [
          -0.40846162000000014
         ],
         "yaxis": "y2"
        },
        {
         "alignmentgroup": "True",
         "hovertemplate": "life=Survival Q1<br>cap type=%{x}<br>mode=LD Truck<br>vintage=2030<br>capacity=%{y}<extra></extra>",
         "legendgroup": "Survival Q1, retired cap",
         "marker": {
          "color": "rgb(127, 60, 141)",
          "pattern": {
           "shape": "/"
          }
         },
         "name": "Survival Q1",
         "offsetgroup": "Survival Q1, retired cap",
         "orientation": "v",
         "showlegend": false,
         "textfont": {
          "size": 11
         },
         "textposition": "auto",
         "texttemplate": "%{y:.2f}",
         "type": "bar",
         "x": [
          "retired cap"
         ],
         "xaxis": "x3",
         "y": [
          -0.6936544453230288
         ],
         "yaxis": "y3"
        },
        {
         "alignmentgroup": "True",
         "hovertemplate": "life=Survival Q1<br>cap type=%{x}<br>mode=LD Truck<br>vintage=2035<br>capacity=%{y}<extra></extra>",
         "legendgroup": "Survival Q1, retired cap",
         "marker": {
          "color": "rgb(127, 60, 141)",
          "pattern": {
           "shape": "/"
          }
         },
         "name": "Survival Q1",
         "offsetgroup": "Survival Q1, retired cap",
         "orientation": "v",
         "showlegend": false,
         "textfont": {
          "size": 11
         },
         "textposition": "auto",
         "texttemplate": "%{y:.2f}",
         "type": "bar",
         "x": [
          "retired cap"
         ],
         "xaxis": "x4",
         "y": [
          -0.485532092509433
         ],
         "yaxis": "y4"
        },
        {
         "alignmentgroup": "True",
         "hovertemplate": "life=Survival Q1<br>cap type=%{x}<br>mode=LD Truck<br>vintage=2040<br>capacity=%{y}<extra></extra>",
         "legendgroup": "Survival Q1, retired cap",
         "marker": {
          "color": "rgb(127, 60, 141)",
          "pattern": {
           "shape": "/"
          }
         },
         "name": "Survival Q1",
         "offsetgroup": "Survival Q1, retired cap",
         "orientation": "v",
         "showlegend": false,
         "textfont": {
          "size": 11
         },
         "textposition": "auto",
         "texttemplate": "%{y:.2f}",
         "type": "bar",
         "x": [
          "retired cap"
         ],
         "xaxis": "x5",
         "y": [
          -0.3835636502882278
         ],
         "yaxis": "y5"
        },
        {
         "alignmentgroup": "True",
         "hovertemplate": "life=Survival Q1<br>cap type=%{x}<br>mode=LD Truck<br>vintage=2045<br>capacity=%{y}<extra></extra>",
         "legendgroup": "Survival Q1, retired cap",
         "marker": {
          "color": "rgb(127, 60, 141)",
          "pattern": {
           "shape": "/"
          }
         },
         "name": "Survival Q1",
         "offsetgroup": "Survival Q1, retired cap",
         "orientation": "v",
         "showlegend": false,
         "textfont": {
          "size": 11
         },
         "textposition": "auto",
         "texttemplate": "%{y:.2f}",
         "type": "bar",
         "x": [
          "retired cap"
         ],
         "xaxis": "x6",
         "y": [
          -0.5736632033897763
         ],
         "yaxis": "y6"
        },
        {
         "alignmentgroup": "True",
         "hovertemplate": "life=Survival Q1<br>cap type=%{x}<br>mode=LD Truck<br>vintage=2050<br>capacity=%{y}<extra></extra>",
         "legendgroup": "Survival Q1, retired cap",
         "marker": {
          "color": "rgb(127, 60, 141)",
          "pattern": {
           "shape": "/"
          }
         },
         "name": "Survival Q1",
         "offsetgroup": "Survival Q1, retired cap",
         "orientation": "v",
         "showlegend": false,
         "textfont": {
          "size": 11
         },
         "textposition": "auto",
         "texttemplate": "%{y:.2f}",
         "type": "bar",
         "x": [
          "retired cap"
         ],
         "xaxis": "x7",
         "y": [
          -0.7729838598329299
         ],
         "yaxis": "y7"
        },
        {
         "alignmentgroup": "True",
         "hovertemplate": "life=Survival Q2-3<br>cap type=%{x}<br>mode=LD Car<br>vintage=2021<br>capacity=%{y}<extra></extra>",
         "legendgroup": "Survival Q2-3, net capacity",
         "marker": {
          "color": "rgb(17, 165, 121)",
          "pattern": {
           "shape": ""
          }
         },
         "name": "Survival Q2-3",
         "offsetgroup": "Survival Q2-3, net capacity",
         "orientation": "v",
         "showlegend": true,
         "textfont": {
          "size": 11
         },
         "textposition": "auto",
         "texttemplate": "%{y:.2f}",
         "type": "bar",
         "x": [
          "net capacity"
         ],
         "xaxis": "x8",
         "y": [
          2.4040131694501845
         ],
         "yaxis": "y8"
        },
        {
         "alignmentgroup": "True",
         "hovertemplate": "life=Survival Q2-3<br>cap type=%{x}<br>mode=LD Car<br>vintage=2025<br>capacity=%{y}<extra></extra>",
         "legendgroup": "Survival Q2-3, net capacity",
         "marker": {
          "color": "rgb(17, 165, 121)",
          "pattern": {
           "shape": ""
          }
         },
         "name": "Survival Q2-3",
         "offsetgroup": "Survival Q2-3, net capacity",
         "orientation": "v",
         "showlegend": false,
         "textfont": {
          "size": 11
         },
         "textposition": "auto",
         "texttemplate": "%{y:.2f}",
         "type": "bar",
         "x": [
          "net capacity"
         ],
         "xaxis": "x9",
         "y": [
          3.0201584093500955
         ],
         "yaxis": "y9"
        },
        {
         "alignmentgroup": "True",
         "hovertemplate": "life=Survival Q2-3<br>cap type=%{x}<br>mode=LD Car<br>vintage=2030<br>capacity=%{y}<extra></extra>",
         "legendgroup": "Survival Q2-3, net capacity",
         "marker": {
          "color": "rgb(17, 165, 121)",
          "pattern": {
           "shape": ""
          }
         },
         "name": "Survival Q2-3",
         "offsetgroup": "Survival Q2-3, net capacity",
         "orientation": "v",
         "showlegend": false,
         "textfont": {
          "size": 11
         },
         "textposition": "auto",
         "texttemplate": "%{y:.2f}",
         "type": "bar",
         "x": [
          "net capacity"
         ],
         "xaxis": "x10",
         "y": [
          2.9749095426307184
         ],
         "yaxis": "y10"
        },
        {
         "alignmentgroup": "True",
         "hovertemplate": "life=Survival Q2-3<br>cap type=%{x}<br>mode=LD Car<br>vintage=2035<br>capacity=%{y}<extra></extra>",
         "legendgroup": "Survival Q2-3, net capacity",
         "marker": {
          "color": "rgb(17, 165, 121)",
          "pattern": {
           "shape": ""
          }
         },
         "name": "Survival Q2-3",
         "offsetgroup": "Survival Q2-3, net capacity",
         "orientation": "v",
         "showlegend": false,
         "textfont": {
          "size": 11
         },
         "textposition": "auto",
         "texttemplate": "%{y:.2f}",
         "type": "bar",
         "x": [
          "net capacity"
         ],
         "xaxis": "x11",
         "y": [
          3.247856507858075
         ],
         "yaxis": "y11"
        },
        {
         "alignmentgroup": "True",
         "hovertemplate": "life=Survival Q2-3<br>cap type=%{x}<br>mode=LD Car<br>vintage=2040<br>capacity=%{y}<extra></extra>",
         "legendgroup": "Survival Q2-3, net capacity",
         "marker": {
          "color": "rgb(17, 165, 121)",
          "pattern": {
           "shape": ""
          }
         },
         "name": "Survival Q2-3",
         "offsetgroup": "Survival Q2-3, net capacity",
         "orientation": "v",
         "showlegend": false,
         "textfont": {
          "size": 11
         },
         "textposition": "auto",
         "texttemplate": "%{y:.2f}",
         "type": "bar",
         "x": [
          "net capacity"
         ],
         "xaxis": "x12",
         "y": [
          3.185959134795614
         ],
         "yaxis": "y12"
        },
        {
         "alignmentgroup": "True",
         "hovertemplate": "life=Survival Q2-3<br>cap type=%{x}<br>mode=LD Car<br>vintage=2045<br>capacity=%{y}<extra></extra>",
         "legendgroup": "Survival Q2-3, net capacity",
         "marker": {
          "color": "rgb(17, 165, 121)",
          "pattern": {
           "shape": ""
          }
         },
         "name": "Survival Q2-3",
         "offsetgroup": "Survival Q2-3, net capacity",
         "orientation": "v",
         "showlegend": false,
         "textfont": {
          "size": 11
         },
         "textposition": "auto",
         "texttemplate": "%{y:.2f}",
         "type": "bar",
         "x": [
          "net capacity"
         ],
         "xaxis": "x13",
         "y": [
          3.515618927352879
         ],
         "yaxis": "y13"
        },
        {
         "alignmentgroup": "True",
         "hovertemplate": "life=Survival Q2-3<br>cap type=%{x}<br>mode=LD Car<br>vintage=2050<br>capacity=%{y}<extra></extra>",
         "legendgroup": "Survival Q2-3, net capacity",
         "marker": {
          "color": "rgb(17, 165, 121)",
          "pattern": {
           "shape": ""
          }
         },
         "name": "Survival Q2-3",
         "offsetgroup": "Survival Q2-3, net capacity",
         "orientation": "v",
         "showlegend": false,
         "textfont": {
          "size": 11
         },
         "textposition": "auto",
         "texttemplate": "%{y:.2f}",
         "type": "bar",
         "x": [
          "net capacity"
         ],
         "xaxis": "x14",
         "y": [
          3.4868142662552053
         ],
         "yaxis": "y14"
        },
        {
         "alignmentgroup": "True",
         "hovertemplate": "life=Survival Q2-3<br>cap type=%{x}<br>mode=LD Truck<br>vintage=2021<br>capacity=%{y}<extra></extra>",
         "legendgroup": "Survival Q2-3, net capacity",
         "marker": {
          "color": "rgb(17, 165, 121)",
          "pattern": {
           "shape": ""
          }
         },
         "name": "Survival Q2-3",
         "offsetgroup": "Survival Q2-3, net capacity",
         "orientation": "v",
         "showlegend": false,
         "textfont": {
          "size": 11
         },
         "textposition": "auto",
         "texttemplate": "%{y:.2f}",
         "type": "bar",
         "x": [
          "net capacity"
         ],
         "xaxis": "x",
         "y": [
          2.996669242986204
         ],
         "yaxis": "y"
        },
        {
         "alignmentgroup": "True",
         "hovertemplate": "life=Survival Q2-3<br>cap type=%{x}<br>mode=LD Truck<br>vintage=2025<br>capacity=%{y}<extra></extra>",
         "legendgroup": "Survival Q2-3, net capacity",
         "marker": {
          "color": "rgb(17, 165, 121)",
          "pattern": {
           "shape": ""
          }
         },
         "name": "Survival Q2-3",
         "offsetgroup": "Survival Q2-3, net capacity",
         "orientation": "v",
         "showlegend": false,
         "textfont": {
          "size": 11
         },
         "textposition": "auto",
         "texttemplate": "%{y:.2f}",
         "type": "bar",
         "x": [
          "net capacity"
         ],
         "xaxis": "x2",
         "y": [
          3.9677611123624175
         ],
         "yaxis": "y2"
        },
        {
         "alignmentgroup": "True",
         "hovertemplate": "life=Survival Q2-3<br>cap type=%{x}<br>mode=LD Truck<br>vintage=2030<br>capacity=%{y}<extra></extra>",
         "legendgroup": "Survival Q2-3, net capacity",
         "marker": {
          "color": "rgb(17, 165, 121)",
          "pattern": {
           "shape": ""
          }
         },
         "name": "Survival Q2-3",
         "offsetgroup": "Survival Q2-3, net capacity",
         "orientation": "v",
         "showlegend": false,
         "textfont": {
          "size": 11
         },
         "textposition": "auto",
         "texttemplate": "%{y:.2f}",
         "type": "bar",
         "x": [
          "net capacity"
         ],
         "xaxis": "x3",
         "y": [
          3.9442275804781683
         ],
         "yaxis": "y3"
        },
        {
         "alignmentgroup": "True",
         "hovertemplate": "life=Survival Q2-3<br>cap type=%{x}<br>mode=LD Truck<br>vintage=2035<br>capacity=%{y}<extra></extra>",
         "legendgroup": "Survival Q2-3, net capacity",
         "marker": {
          "color": "rgb(17, 165, 121)",
          "pattern": {
           "shape": ""
          }
         },
         "name": "Survival Q2-3",
         "offsetgroup": "Survival Q2-3, net capacity",
         "orientation": "v",
         "showlegend": false,
         "textfont": {
          "size": 11
         },
         "textposition": "auto",
         "texttemplate": "%{y:.2f}",
         "type": "bar",
         "x": [
          "net capacity"
         ],
         "xaxis": "x4",
         "y": [
          4.272898822540005
         ],
         "yaxis": "y4"
        },
        {
         "alignmentgroup": "True",
         "hovertemplate": "life=Survival Q2-3<br>cap type=%{x}<br>mode=LD Truck<br>vintage=2040<br>capacity=%{y}<extra></extra>",
         "legendgroup": "Survival Q2-3, net capacity",
         "marker": {
          "color": "rgb(17, 165, 121)",
          "pattern": {
           "shape": ""
          }
         },
         "name": "Survival Q2-3",
         "offsetgroup": "Survival Q2-3, net capacity",
         "orientation": "v",
         "showlegend": false,
         "textfont": {
          "size": 11
         },
         "textposition": "auto",
         "texttemplate": "%{y:.2f}",
         "type": "bar",
         "x": [
          "net capacity"
         ],
         "xaxis": "x5",
         "y": [
          4.43148561194067
         ],
         "yaxis": "y5"
        },
        {
         "alignmentgroup": "True",
         "hovertemplate": "life=Survival Q2-3<br>cap type=%{x}<br>mode=LD Truck<br>vintage=2045<br>capacity=%{y}<extra></extra>",
         "legendgroup": "Survival Q2-3, net capacity",
         "marker": {
          "color": "rgb(17, 165, 121)",
          "pattern": {
           "shape": ""
          }
         },
         "name": "Survival Q2-3",
         "offsetgroup": "Survival Q2-3, net capacity",
         "orientation": "v",
         "showlegend": false,
         "textfont": {
          "size": 11
         },
         "textposition": "auto",
         "texttemplate": "%{y:.2f}",
         "type": "bar",
         "x": [
          "net capacity"
         ],
         "xaxis": "x6",
         "y": [
          4.360167995476859
         ],
         "yaxis": "y6"
        },
        {
         "alignmentgroup": "True",
         "hovertemplate": "life=Survival Q2-3<br>cap type=%{x}<br>mode=LD Truck<br>vintage=2050<br>capacity=%{y}<extra></extra>",
         "legendgroup": "Survival Q2-3, net capacity",
         "marker": {
          "color": "rgb(17, 165, 121)",
          "pattern": {
           "shape": ""
          }
         },
         "name": "Survival Q2-3",
         "offsetgroup": "Survival Q2-3, net capacity",
         "orientation": "v",
         "showlegend": false,
         "textfont": {
          "size": 11
         },
         "textposition": "auto",
         "texttemplate": "%{y:.2f}",
         "type": "bar",
         "x": [
          "net capacity"
         ],
         "xaxis": "x7",
         "y": [
          5.02019169297137
         ],
         "yaxis": "y7"
        },
        {
         "alignmentgroup": "True",
         "hovertemplate": "life=Survival Q2-3<br>cap type=%{x}<br>mode=LD Car<br>vintage=2021<br>capacity=%{y}<extra></extra>",
         "legendgroup": "Survival Q2-3, new capacity",
         "marker": {
          "color": "rgb(17, 165, 121)",
          "pattern": {
           "shape": "."
          }
         },
         "name": "Survival Q2-3",
         "offsetgroup": "Survival Q2-3, new capacity",
         "orientation": "v",
         "showlegend": false,
         "textfont": {
          "size": 11
         },
         "textposition": "auto",
         "texttemplate": "%{y:.2f}",
         "type": "bar",
         "x": [
          "new capacity"
         ],
         "xaxis": "x8",
         "y": [
          0.34329717405414334
         ],
         "yaxis": "y8"
        },
        {
         "alignmentgroup": "True",
         "hovertemplate": "life=Survival Q2-3<br>cap type=%{x}<br>mode=LD Car<br>vintage=2025<br>capacity=%{y}<extra></extra>",
         "legendgroup": "Survival Q2-3, new capacity",
         "marker": {
          "color": "rgb(17, 165, 121)",
          "pattern": {
           "shape": "."
          }
         },
         "name": "Survival Q2-3",
         "offsetgroup": "Survival Q2-3, new capacity",
         "orientation": "v",
         "showlegend": false,
         "textfont": {
          "size": 11
         },
         "textposition": "auto",
         "texttemplate": "%{y:.2f}",
         "type": "bar",
         "x": [
          "new capacity"
         ],
         "xaxis": "x9",
         "y": [
          1.0749686391903108
         ],
         "yaxis": "y9"
        },
        {
         "alignmentgroup": "True",
         "hovertemplate": "life=Survival Q2-3<br>cap type=%{x}<br>mode=LD Car<br>vintage=2030<br>capacity=%{y}<extra></extra>",
         "legendgroup": "Survival Q2-3, new capacity",
         "marker": {
          "color": "rgb(17, 165, 121)",
          "pattern": {
           "shape": "."
          }
         },
         "name": "Survival Q2-3",
         "offsetgroup": "Survival Q2-3, new capacity",
         "orientation": "v",
         "showlegend": false,
         "textfont": {
          "size": 11
         },
         "textposition": "auto",
         "texttemplate": "%{y:.2f}",
         "type": "bar",
         "x": [
          "new capacity"
         ],
         "xaxis": "x10",
         "y": [
          0.6718492197361212
         ],
         "yaxis": "y10"
        },
        {
         "alignmentgroup": "True",
         "hovertemplate": "life=Survival Q2-3<br>cap type=%{x}<br>mode=LD Car<br>vintage=2035<br>capacity=%{y}<extra></extra>",
         "legendgroup": "Survival Q2-3, new capacity",
         "marker": {
          "color": "rgb(17, 165, 121)",
          "pattern": {
           "shape": "."
          }
         },
         "name": "Survival Q2-3",
         "offsetgroup": "Survival Q2-3, new capacity",
         "orientation": "v",
         "showlegend": false,
         "textfont": {
          "size": 11
         },
         "textposition": "auto",
         "texttemplate": "%{y:.2f}",
         "type": "bar",
         "x": [
          "new capacity"
         ],
         "xaxis": "x11",
         "y": [
          1.5010386489316427
         ],
         "yaxis": "y11"
        },
        {
         "alignmentgroup": "True",
         "hovertemplate": "life=Survival Q2-3<br>cap type=%{x}<br>mode=LD Car<br>vintage=2040<br>capacity=%{y}<extra></extra>",
         "legendgroup": "Survival Q2-3, new capacity",
         "marker": {
          "color": "rgb(17, 165, 121)",
          "pattern": {
           "shape": "."
          }
         },
         "name": "Survival Q2-3",
         "offsetgroup": "Survival Q2-3, new capacity",
         "orientation": "v",
         "showlegend": false,
         "textfont": {
          "size": 11
         },
         "textposition": "auto",
         "texttemplate": "%{y:.2f}",
         "type": "bar",
         "x": [
          "new capacity"
         ],
         "xaxis": "x12",
         "y": [
          1.0130712661278505
         ],
         "yaxis": "y12"
        },
        {
         "alignmentgroup": "True",
         "hovertemplate": "life=Survival Q2-3<br>cap type=%{x}<br>mode=LD Car<br>vintage=2045<br>capacity=%{y}<extra></extra>",
         "legendgroup": "Survival Q2-3, new capacity",
         "marker": {
          "color": "rgb(17, 165, 121)",
          "pattern": {
           "shape": "."
          }
         },
         "name": "Survival Q2-3",
         "offsetgroup": "Survival Q2-3, new capacity",
         "orientation": "v",
         "showlegend": false,
         "textfont": {
          "size": 11
         },
         "textposition": "auto",
         "texttemplate": "%{y:.2f}",
         "type": "bar",
         "x": [
          "new capacity"
         ],
         "xaxis": "x13",
         "y": [
          1.0015090122933856
         ],
         "yaxis": "y13"
        },
        {
         "alignmentgroup": "True",
         "hovertemplate": "life=Survival Q2-3<br>cap type=%{x}<br>mode=LD Car<br>vintage=2050<br>capacity=%{y}<extra></extra>",
         "legendgroup": "Survival Q2-3, new capacity",
         "marker": {
          "color": "rgb(17, 165, 121)",
          "pattern": {
           "shape": "."
          }
         },
         "name": "Survival Q2-3",
         "offsetgroup": "Survival Q2-3, new capacity",
         "orientation": "v",
         "showlegend": false,
         "textfont": {
          "size": 11
         },
         "textposition": "auto",
         "texttemplate": "%{y:.2f}",
         "type": "bar",
         "x": [
          "new capacity"
         ],
         "xaxis": "x14",
         "y": [
          1.4722339878339692
         ],
         "yaxis": "y14"
        },
        {
         "alignmentgroup": "True",
         "hovertemplate": "life=Survival Q2-3<br>cap type=%{x}<br>mode=LD Truck<br>vintage=2021<br>capacity=%{y}<extra></extra>",
         "legendgroup": "Survival Q2-3, new capacity",
         "marker": {
          "color": "rgb(17, 165, 121)",
          "pattern": {
           "shape": "."
          }
         },
         "name": "Survival Q2-3",
         "offsetgroup": "Survival Q2-3, new capacity",
         "orientation": "v",
         "showlegend": false,
         "textfont": {
          "size": 11
         },
         "textposition": "auto",
         "texttemplate": "%{y:.2f}",
         "type": "bar",
         "x": [
          "new capacity"
         ],
         "xaxis": "x",
         "y": [
          0.3006350041430207
         ],
         "yaxis": "y"
        },
        {
         "alignmentgroup": "True",
         "hovertemplate": "life=Survival Q2-3<br>cap type=%{x}<br>mode=LD Truck<br>vintage=2025<br>capacity=%{y}<extra></extra>",
         "legendgroup": "Survival Q2-3, new capacity",
         "marker": {
          "color": "rgb(17, 165, 121)",
          "pattern": {
           "shape": "."
          }
         },
         "name": "Survival Q2-3",
         "offsetgroup": "Survival Q2-3, new capacity",
         "orientation": "v",
         "showlegend": false,
         "textfont": {
          "size": 11
         },
         "textposition": "auto",
         "texttemplate": "%{y:.2f}",
         "type": "bar",
         "x": [
          "new capacity"
         ],
         "xaxis": "x2",
         "y": [
          0.9710641849931738
         ],
         "yaxis": "y2"
        },
        {
         "alignmentgroup": "True",
         "hovertemplate": "life=Survival Q2-3<br>cap type=%{x}<br>mode=LD Truck<br>vintage=2030<br>capacity=%{y}<extra></extra>",
         "legendgroup": "Survival Q2-3, new capacity",
         "marker": {
          "color": "rgb(17, 165, 121)",
          "pattern": {
           "shape": "."
          }
         },
         "name": "Survival Q2-3",
         "offsetgroup": "Survival Q2-3, new capacity",
         "orientation": "v",
         "showlegend": false,
         "textfont": {
          "size": 11
         },
         "textposition": "auto",
         "texttemplate": "%{y:.2f}",
         "type": "bar",
         "x": [
          "new capacity"
         ],
         "xaxis": "x3",
         "y": [
          0.7671273005517923
         ],
         "yaxis": "y3"
        },
        {
         "alignmentgroup": "True",
         "hovertemplate": "life=Survival Q2-3<br>cap type=%{x}<br>mode=LD Truck<br>vintage=2035<br>capacity=%{y}<extra></extra>",
         "legendgroup": "Survival Q2-3, new capacity",
         "marker": {
          "color": "rgb(17, 165, 121)",
          "pattern": {
           "shape": "."
          }
         },
         "name": "Survival Q2-3",
         "offsetgroup": "Survival Q2-3, new capacity",
         "orientation": "v",
         "showlegend": false,
         "textfont": {
          "size": 11
         },
         "textposition": "auto",
         "texttemplate": "%{y:.2f}",
         "type": "bar",
         "x": [
          "new capacity"
         ],
         "xaxis": "x4",
         "y": [
          1.1473264067780171
         ],
         "yaxis": "y4"
        },
        {
         "alignmentgroup": "True",
         "hovertemplate": "life=Survival Q2-3<br>cap type=%{x}<br>mode=LD Truck<br>vintage=2040<br>capacity=%{y}<extra></extra>",
         "legendgroup": "Survival Q2-3, new capacity",
         "marker": {
          "color": "rgb(17, 165, 121)",
          "pattern": {
           "shape": "."
          }
         },
         "name": "Survival Q2-3",
         "offsetgroup": "Survival Q2-3, new capacity",
         "orientation": "v",
         "showlegend": false,
         "textfont": {
          "size": 11
         },
         "textposition": "auto",
         "texttemplate": "%{y:.2f}",
         "type": "bar",
         "x": [
          "new capacity"
         ],
         "xaxis": "x5",
         "y": [
          1.5459677196176869
         ],
         "yaxis": "y5"
        },
        {
         "alignmentgroup": "True",
         "hovertemplate": "life=Survival Q2-3<br>cap type=%{x}<br>mode=LD Truck<br>vintage=2045<br>capacity=%{y}<extra></extra>",
         "legendgroup": "Survival Q2-3, new capacity",
         "marker": {
          "color": "rgb(17, 165, 121)",
          "pattern": {
           "shape": "."
          }
         },
         "name": "Survival Q2-3",
         "offsetgroup": "Survival Q2-3, new capacity",
         "orientation": "v",
         "showlegend": false,
         "textfont": {
          "size": 11
         },
         "textposition": "auto",
         "texttemplate": "%{y:.2f}",
         "type": "bar",
         "x": [
          "new capacity"
         ],
         "xaxis": "x6",
         "y": [
          0.8997465685293621
         ],
         "yaxis": "y6"
        },
        {
         "alignmentgroup": "True",
         "hovertemplate": "life=Survival Q2-3<br>cap type=%{x}<br>mode=LD Truck<br>vintage=2050<br>capacity=%{y}<extra></extra>",
         "legendgroup": "Survival Q2-3, new capacity",
         "marker": {
          "color": "rgb(17, 165, 121)",
          "pattern": {
           "shape": "."
          }
         },
         "name": "Survival Q2-3",
         "offsetgroup": "Survival Q2-3, new capacity",
         "orientation": "v",
         "showlegend": false,
         "textfont": {
          "size": 11
         },
         "textposition": "auto",
         "texttemplate": "%{y:.2f}",
         "type": "bar",
         "x": [
          "new capacity"
         ],
         "xaxis": "x7",
         "y": [
          1.4271509980463033
         ],
         "yaxis": "y7"
        },
        {
         "alignmentgroup": "True",
         "hovertemplate": "life=Survival Q2-3<br>cap type=%{x}<br>mode=LD Car<br>vintage=2025<br>capacity=%{y}<extra></extra>",
         "legendgroup": "Survival Q2-3, retired cap",
         "marker": {
          "color": "rgb(17, 165, 121)",
          "pattern": {
           "shape": "/"
          }
         },
         "name": "Survival Q2-3",
         "offsetgroup": "Survival Q2-3, retired cap",
         "orientation": "v",
         "showlegend": false,
         "textfont": {
          "size": 11
         },
         "textposition": "auto",
         "texttemplate": "%{y:.2f}",
         "type": "bar",
         "x": [
          "retired cap"
         ],
         "xaxis": "x9",
         "y": [
          -0.45882894
         ],
         "yaxis": "y9"
        },
        {
         "alignmentgroup": "True",
         "hovertemplate": "life=Survival Q2-3<br>cap type=%{x}<br>mode=LD Car<br>vintage=2030<br>capacity=%{y}<extra></extra>",
         "legendgroup": "Survival Q2-3, retired cap",
         "marker": {
          "color": "rgb(17, 165, 121)",
          "pattern": {
           "shape": "/"
          }
         },
         "name": "Survival Q2-3",
         "offsetgroup": "Survival Q2-3, retired cap",
         "orientation": "v",
         "showlegend": false,
         "textfont": {
          "size": 11
         },
         "textposition": "auto",
         "texttemplate": "%{y:.2f}",
         "type": "bar",
         "x": [
          "retired cap"
         ],
         "xaxis": "x10",
         "y": [
          -0.7171035849999999
         ],
         "yaxis": "y10"
        },
        {
         "alignmentgroup": "True",
         "hovertemplate": "life=Survival Q2-3<br>cap type=%{x}<br>mode=LD Car<br>vintage=2035<br>capacity=%{y}<extra></extra>",
         "legendgroup": "Survival Q2-3, retired cap",
         "marker": {
          "color": "rgb(17, 165, 121)",
          "pattern": {
           "shape": "/"
          }
         },
         "name": "Survival Q2-3",
         "offsetgroup": "Survival Q2-3, retired cap",
         "orientation": "v",
         "showlegend": false,
         "textfont": {
          "size": 11
         },
         "textposition": "auto",
         "texttemplate": "%{y:.2f}",
         "type": "bar",
         "x": [
          "retired cap"
         ],
         "xaxis": "x11",
         "y": [
          -1.2280806444501842
         ],
         "yaxis": "y11"
        },
        {
         "alignmentgroup": "True",
         "hovertemplate": "life=Survival Q2-3<br>cap type=%{x}<br>mode=LD Car<br>vintage=2040<br>capacity=%{y}<extra></extra>",
         "legendgroup": "Survival Q2-3, retired cap",
         "marker": {
          "color": "rgb(17, 165, 121)",
          "pattern": {
           "shape": "/"
          }
         },
         "name": "Survival Q2-3",
         "offsetgroup": "Survival Q2-3, retired cap",
         "orientation": "v",
         "showlegend": false,
         "textfont": {
          "size": 11
         },
         "textposition": "auto",
         "texttemplate": "%{y:.2f}",
         "type": "bar",
         "x": [
          "retired cap"
         ],
         "xaxis": "x12",
         "y": [
          -1.074968639190311
         ],
         "yaxis": "y12"
        },
        {
         "alignmentgroup": "True",
         "hovertemplate": "life=Survival Q2-3<br>cap type=%{x}<br>mode=LD Car<br>vintage=2045<br>capacity=%{y}<extra></extra>",
         "legendgroup": "Survival Q2-3, retired cap",
         "marker": {
          "color": "rgb(17, 165, 121)",
          "pattern": {
           "shape": "/"
          }
         },
         "name": "Survival Q2-3",
         "offsetgroup": "Survival Q2-3, retired cap",
         "orientation": "v",
         "showlegend": false,
         "textfont": {
          "size": 11
         },
         "textposition": "auto",
         "texttemplate": "%{y:.2f}",
         "type": "bar",
         "x": [
          "retired cap"
         ],
         "xaxis": "x13",
         "y": [
          -0.6718492197361211
         ],
         "yaxis": "y13"
        },
        {
         "alignmentgroup": "True",
         "hovertemplate": "life=Survival Q2-3<br>cap type=%{x}<br>mode=LD Car<br>vintage=2050<br>capacity=%{y}<extra></extra>",
         "legendgroup": "Survival Q2-3, retired cap",
         "marker": {
          "color": "rgb(17, 165, 121)",
          "pattern": {
           "shape": "/"
          }
         },
         "name": "Survival Q2-3",
         "offsetgroup": "Survival Q2-3, retired cap",
         "orientation": "v",
         "showlegend": false,
         "textfont": {
          "size": 11
         },
         "textposition": "auto",
         "texttemplate": "%{y:.2f}",
         "type": "bar",
         "x": [
          "retired cap"
         ],
         "xaxis": "x14",
         "y": [
          -1.5010386489316425
         ],
         "yaxis": "y14"
        },
        {
         "alignmentgroup": "True",
         "hovertemplate": "life=Survival Q2-3<br>cap type=%{x}<br>mode=LD Truck<br>vintage=2030<br>capacity=%{y}<extra></extra>",
         "legendgroup": "Survival Q2-3, retired cap",
         "marker": {
          "color": "rgb(17, 165, 121)",
          "pattern": {
           "shape": "/"
          }
         },
         "name": "Survival Q2-3",
         "offsetgroup": "Survival Q2-3, retired cap",
         "orientation": "v",
         "showlegend": false,
         "textfont": {
          "size": 11
         },
         "textposition": "auto",
         "texttemplate": "%{y:.2f}",
         "type": "bar",
         "x": [
          "retired cap"
         ],
         "xaxis": "x3",
         "y": [
          -0.7906836075
         ],
         "yaxis": "y3"
        },
        {
         "alignmentgroup": "True",
         "hovertemplate": "life=Survival Q2-3<br>cap type=%{x}<br>mode=LD Truck<br>vintage=2035<br>capacity=%{y}<extra></extra>",
         "legendgroup": "Survival Q2-3, retired cap",
         "marker": {
          "color": "rgb(17, 165, 121)",
          "pattern": {
           "shape": "/"
          }
         },
         "name": "Survival Q2-3",
         "offsetgroup": "Survival Q2-3, retired cap",
         "orientation": "v",
         "showlegend": false,
         "textfont": {
          "size": 11
         },
         "textposition": "auto",
         "texttemplate": "%{y:.2f}",
         "type": "bar",
         "x": [
          "retired cap"
         ],
         "xaxis": "x4",
         "y": [
          -0.8185998849999999
         ],
         "yaxis": "y4"
        },
        {
         "alignmentgroup": "True",
         "hovertemplate": "life=Survival Q2-3<br>cap type=%{x}<br>mode=LD Truck<br>vintage=2040<br>capacity=%{y}<extra></extra>",
         "legendgroup": "Survival Q2-3, retired cap",
         "marker": {
          "color": "rgb(17, 165, 121)",
          "pattern": {
           "shape": "/"
          }
         },
         "name": "Survival Q2-3",
         "offsetgroup": "Survival Q2-3, retired cap",
         "orientation": "v",
         "showlegend": false,
         "textfont": {
          "size": 11
         },
         "textposition": "auto",
         "texttemplate": "%{y:.2f}",
         "type": "bar",
         "x": [
          "retired cap"
         ],
         "xaxis": "x5",
         "y": [
          -1.387308890486204
         ],
         "yaxis": "y5"
        },
        {
         "alignmentgroup": "True",
         "hovertemplate": "life=Survival Q2-3<br>cap type=%{x}<br>mode=LD Truck<br>vintage=2045<br>capacity=%{y}<extra></extra>",
         "legendgroup": "Survival Q2-3, retired cap",
         "marker": {
          "color": "rgb(17, 165, 121)",
          "pattern": {
           "shape": "/"
          }
         },
         "name": "Survival Q2-3",
         "offsetgroup": "Survival Q2-3, retired cap",
         "orientation": "v",
         "showlegend": false,
         "textfont": {
          "size": 11
         },
         "textposition": "auto",
         "texttemplate": "%{y:.2f}",
         "type": "bar",
         "x": [
          "retired cap"
         ],
         "xaxis": "x6",
         "y": [
          -0.9710641849931735
         ],
         "yaxis": "y6"
        },
        {
         "alignmentgroup": "True",
         "hovertemplate": "life=Survival Q2-3<br>cap type=%{x}<br>mode=LD Truck<br>vintage=2050<br>capacity=%{y}<extra></extra>",
         "legendgroup": "Survival Q2-3, retired cap",
         "marker": {
          "color": "rgb(17, 165, 121)",
          "pattern": {
           "shape": "/"
          }
         },
         "name": "Survival Q2-3",
         "offsetgroup": "Survival Q2-3, retired cap",
         "orientation": "v",
         "showlegend": false,
         "textfont": {
          "size": 11
         },
         "textposition": "auto",
         "texttemplate": "%{y:.2f}",
         "type": "bar",
         "x": [
          "retired cap"
         ],
         "xaxis": "x7",
         "y": [
          -0.7671273005517923
         ],
         "yaxis": "y7"
        },
        {
         "alignmentgroup": "True",
         "hovertemplate": "life=Survival Q4<br>cap type=%{x}<br>mode=LD Car<br>vintage=2021<br>capacity=%{y}<extra></extra>",
         "legendgroup": "Survival Q4, net capacity",
         "marker": {
          "color": "rgb(57, 105, 172)",
          "pattern": {
           "shape": ""
          }
         },
         "name": "Survival Q4",
         "offsetgroup": "Survival Q4, net capacity",
         "orientation": "v",
         "showlegend": true,
         "textfont": {
          "size": 11
         },
         "textposition": "auto",
         "texttemplate": "%{y:.2f}",
         "type": "bar",
         "x": [
          "net capacity"
         ],
         "xaxis": "x8",
         "y": [
          1.125535094732266
         ],
         "yaxis": "y8"
        },
        {
         "alignmentgroup": "True",
         "hovertemplate": "life=Survival Q4<br>cap type=%{x}<br>mode=LD Car<br>vintage=2025<br>capacity=%{y}<extra></extra>",
         "legendgroup": "Survival Q4, net capacity",
         "marker": {
          "color": "rgb(57, 105, 172)",
          "pattern": {
           "shape": ""
          }
         },
         "name": "Survival Q4",
         "offsetgroup": "Survival Q4, net capacity",
         "orientation": "v",
         "showlegend": false,
         "textfont": {
          "size": 11
         },
         "textposition": "auto",
         "texttemplate": "%{y:.2f}",
         "type": "bar",
         "x": [
          "net capacity"
         ],
         "xaxis": "x9",
         "y": [
          1.6630221846923605
         ],
         "yaxis": "y9"
        },
        {
         "alignmentgroup": "True",
         "hovertemplate": "life=Survival Q4<br>cap type=%{x}<br>mode=LD Car<br>vintage=2030<br>capacity=%{y}<extra></extra>",
         "legendgroup": "Survival Q4, net capacity",
         "marker": {
          "color": "rgb(57, 105, 172)",
          "pattern": {
           "shape": ""
          }
         },
         "name": "Survival Q4",
         "offsetgroup": "Survival Q4, net capacity",
         "orientation": "v",
         "showlegend": false,
         "textfont": {
          "size": 11
         },
         "textposition": "auto",
         "texttemplate": "%{y:.2f}",
         "type": "bar",
         "x": [
          "net capacity"
         ],
         "xaxis": "x10",
         "y": [
          1.9989495438390448
         ],
         "yaxis": "y10"
        },
        {
         "alignmentgroup": "True",
         "hovertemplate": "life=Survival Q4<br>cap type=%{x}<br>mode=LD Car<br>vintage=2035<br>capacity=%{y}<extra></extra>",
         "legendgroup": "Survival Q4, net capacity",
         "marker": {
          "color": "rgb(57, 105, 172)",
          "pattern": {
           "shape": ""
          }
         },
         "name": "Survival Q4",
         "offsetgroup": "Survival Q4, net capacity",
         "orientation": "v",
         "showlegend": false,
         "textfont": {
          "size": 11
         },
         "textposition": "auto",
         "texttemplate": "%{y:.2f}",
         "type": "bar",
         "x": [
          "net capacity"
         ],
         "xaxis": "x11",
         "y": [
          2.5965280668862776
         ],
         "yaxis": "y11"
        },
        {
         "alignmentgroup": "True",
         "hovertemplate": "life=Survival Q4<br>cap type=%{x}<br>mode=LD Car<br>vintage=2040<br>capacity=%{y}<extra></extra>",
         "legendgroup": "Survival Q4, net capacity",
         "marker": {
          "color": "rgb(57, 105, 172)",
          "pattern": {
           "shape": ""
          }
         },
         "name": "Survival Q4",
         "offsetgroup": "Survival Q4, net capacity",
         "orientation": "v",
         "showlegend": false,
         "textfont": {
          "size": 11
         },
         "textposition": "auto",
         "texttemplate": "%{y:.2f}",
         "type": "bar",
         "x": [
          "net capacity"
         ],
         "xaxis": "x12",
         "y": [
          2.7435577075276
         ],
         "yaxis": "y12"
        },
        {
         "alignmentgroup": "True",
         "hovertemplate": "life=Survival Q4<br>cap type=%{x}<br>mode=LD Car<br>vintage=2045<br>capacity=%{y}<extra></extra>",
         "legendgroup": "Survival Q4, net capacity",
         "marker": {
          "color": "rgb(57, 105, 172)",
          "pattern": {
           "shape": ""
          }
         },
         "name": "Survival Q4",
         "offsetgroup": "Survival Q4, net capacity",
         "orientation": "v",
         "showlegend": false,
         "textfont": {
          "size": 11
         },
         "textposition": "auto",
         "texttemplate": "%{y:.2f}",
         "type": "bar",
         "x": [
          "net capacity"
         ],
         "xaxis": "x13",
         "y": [
          2.802866980169576
         ],
         "yaxis": "y13"
        },
        {
         "alignmentgroup": "True",
         "hovertemplate": "life=Survival Q4<br>cap type=%{x}<br>mode=LD Car<br>vintage=2050<br>capacity=%{y}<extra></extra>",
         "legendgroup": "Survival Q4, net capacity",
         "marker": {
          "color": "rgb(57, 105, 172)",
          "pattern": {
           "shape": ""
          }
         },
         "name": "Survival Q4",
         "offsetgroup": "Survival Q4, net capacity",
         "orientation": "v",
         "showlegend": false,
         "textfont": {
          "size": 11
         },
         "textposition": "auto",
         "texttemplate": "%{y:.2f}",
         "type": "bar",
         "x": [
          "net capacity"
         ],
         "xaxis": "x14",
         "y": [
          2.8298510674607398
         ],
         "yaxis": "y14"
        },
        {
         "alignmentgroup": "True",
         "hovertemplate": "life=Survival Q4<br>cap type=%{x}<br>mode=LD Truck<br>vintage=2021<br>capacity=%{y}<extra></extra>",
         "legendgroup": "Survival Q4, net capacity",
         "marker": {
          "color": "rgb(57, 105, 172)",
          "pattern": {
           "shape": ""
          }
         },
         "name": "Survival Q4",
         "offsetgroup": "Survival Q4, net capacity",
         "orientation": "v",
         "showlegend": false,
         "textfont": {
          "size": 11
         },
         "textposition": "auto",
         "texttemplate": "%{y:.2f}",
         "type": "bar",
         "x": [
          "net capacity"
         ],
         "xaxis": "x",
         "y": [
          1.3665540202864777
         ],
         "yaxis": "y"
        },
        {
         "alignmentgroup": "True",
         "hovertemplate": "life=Survival Q4<br>cap type=%{x}<br>mode=LD Truck<br>vintage=2025<br>capacity=%{y}<extra></extra>",
         "legendgroup": "Survival Q4, net capacity",
         "marker": {
          "color": "rgb(57, 105, 172)",
          "pattern": {
           "shape": ""
          }
         },
         "name": "Survival Q4",
         "offsetgroup": "Survival Q4, net capacity",
         "orientation": "v",
         "showlegend": false,
         "textfont": {
          "size": 11
         },
         "textposition": "auto",
         "texttemplate": "%{y:.2f}",
         "type": "bar",
         "x": [
          "net capacity"
         ],
         "xaxis": "x2",
         "y": [
          1.8520999550273194
         ],
         "yaxis": "y2"
        },
        {
         "alignmentgroup": "True",
         "hovertemplate": "life=Survival Q4<br>cap type=%{x}<br>mode=LD Truck<br>vintage=2030<br>capacity=%{y}<extra></extra>",
         "legendgroup": "Survival Q4, net capacity",
         "marker": {
          "color": "rgb(57, 105, 172)",
          "pattern": {
           "shape": ""
          }
         },
         "name": "Survival Q4",
         "offsetgroup": "Survival Q4, net capacity",
         "orientation": "v",
         "showlegend": false,
         "textfont": {
          "size": 11
         },
         "textposition": "auto",
         "texttemplate": "%{y:.2f}",
         "type": "bar",
         "x": [
          "net capacity"
         ],
         "xaxis": "x3",
         "y": [
          2.2356749928609307
         ],
         "yaxis": "y3"
        },
        {
         "alignmentgroup": "True",
         "hovertemplate": "life=Survival Q4<br>cap type=%{x}<br>mode=LD Truck<br>vintage=2035<br>capacity=%{y}<extra></extra>",
         "legendgroup": "Survival Q4, net capacity",
         "marker": {
          "color": "rgb(57, 105, 172)",
          "pattern": {
           "shape": ""
          }
         },
         "name": "Survival Q4",
         "offsetgroup": "Survival Q4, net capacity",
         "orientation": "v",
         "showlegend": false,
         "textfont": {
          "size": 11
         },
         "textposition": "auto",
         "texttemplate": "%{y:.2f}",
         "type": "bar",
         "x": [
          "net capacity"
         ],
         "xaxis": "x4",
         "y": [
          2.809348986428
         ],
         "yaxis": "y4"
        },
        {
         "alignmentgroup": "True",
         "hovertemplate": "life=Survival Q4<br>cap type=%{x}<br>mode=LD Truck<br>vintage=2040<br>capacity=%{y}<extra></extra>",
         "legendgroup": "Survival Q4, net capacity",
         "marker": {
          "color": "rgb(57, 105, 172)",
          "pattern": {
           "shape": ""
          }
         },
         "name": "Survival Q4",
         "offsetgroup": "Survival Q4, net capacity",
         "orientation": "v",
         "showlegend": false,
         "textfont": {
          "size": 11
         },
         "textposition": "auto",
         "texttemplate": "%{y:.2f}",
         "type": "bar",
         "x": [
          "net capacity"
         ],
         "xaxis": "x5",
         "y": [
          3.3187820203140608
         ],
         "yaxis": "y5"
        },
        {
         "alignmentgroup": "True",
         "hovertemplate": "life=Survival Q4<br>cap type=%{x}<br>mode=LD Truck<br>vintage=2045<br>capacity=%{y}<extra></extra>",
         "legendgroup": "Survival Q4, net capacity",
         "marker": {
          "color": "rgb(57, 105, 172)",
          "pattern": {
           "shape": ""
          }
         },
         "name": "Survival Q4",
         "offsetgroup": "Survival Q4, net capacity",
         "orientation": "v",
         "showlegend": false,
         "textfont": {
          "size": 11
         },
         "textposition": "auto",
         "texttemplate": "%{y:.2f}",
         "type": "bar",
         "x": [
          "net capacity"
         ],
         "xaxis": "x6",
         "y": [
          3.359326794940267
         ],
         "yaxis": "y6"
        },
        {
         "alignmentgroup": "True",
         "hovertemplate": "life=Survival Q4<br>cap type=%{x}<br>mode=LD Truck<br>vintage=2050<br>capacity=%{y}<extra></extra>",
         "legendgroup": "Survival Q4, net capacity",
         "marker": {
          "color": "rgb(57, 105, 172)",
          "pattern": {
           "shape": ""
          }
         },
         "name": "Survival Q4",
         "offsetgroup": "Survival Q4, net capacity",
         "orientation": "v",
         "showlegend": false,
         "textfont": {
          "size": 11
         },
         "textposition": "auto",
         "texttemplate": "%{y:.2f}",
         "type": "bar",
         "x": [
          "net capacity"
         ],
         "xaxis": "x7",
         "y": [
          3.379191589296389
         ],
         "yaxis": "y7"
        },
        {
         "alignmentgroup": "True",
         "hovertemplate": "life=Survival Q4<br>cap type=%{x}<br>mode=LD Car<br>vintage=2021<br>capacity=%{y}<extra></extra>",
         "legendgroup": "Survival Q4, new capacity",
         "marker": {
          "color": "rgb(57, 105, 172)",
          "pattern": {
           "shape": "."
          }
         },
         "name": "Survival Q4",
         "offsetgroup": "Survival Q4, new capacity",
         "orientation": "v",
         "showlegend": false,
         "textfont": {
          "size": 11
         },
         "textposition": "auto",
         "texttemplate": "%{y:.2f}",
         "type": "bar",
         "x": [
          "new capacity"
         ],
         "xaxis": "x8",
         "y": [
          0.17164858702667637
         ],
         "yaxis": "y8"
        },
        {
         "alignmentgroup": "True",
         "hovertemplate": "life=Survival Q4<br>cap type=%{x}<br>mode=LD Car<br>vintage=2025<br>capacity=%{y}<extra></extra>",
         "legendgroup": "Survival Q4, new capacity",
         "marker": {
          "color": "rgb(57, 105, 172)",
          "pattern": {
           "shape": "."
          }
         },
         "name": "Survival Q4",
         "offsetgroup": "Survival Q4, new capacity",
         "orientation": "v",
         "showlegend": false,
         "textfont": {
          "size": 11
         },
         "textposition": "auto",
         "texttemplate": "%{y:.2f}",
         "type": "bar",
         "x": [
          "new capacity"
         ],
         "xaxis": "x9",
         "y": [
          0.5374843195960767
         ],
         "yaxis": "y9"
        },
        {
         "alignmentgroup": "True",
         "hovertemplate": "life=Survival Q4<br>cap type=%{x}<br>mode=LD Car<br>vintage=2030<br>capacity=%{y}<extra></extra>",
         "legendgroup": "Survival Q4, new capacity",
         "marker": {
          "color": "rgb(57, 105, 172)",
          "pattern": {
           "shape": "."
          }
         },
         "name": "Survival Q4",
         "offsetgroup": "Survival Q4, new capacity",
         "orientation": "v",
         "showlegend": false,
         "textfont": {
          "size": 11
         },
         "textposition": "auto",
         "texttemplate": "%{y:.2f}",
         "type": "bar",
         "x": [
          "new capacity"
         ],
         "xaxis": "x10",
         "y": [
          0.33592460986814177
         ],
         "yaxis": "y10"
        },
        {
         "alignmentgroup": "True",
         "hovertemplate": "life=Survival Q4<br>cap type=%{x}<br>mode=LD Car<br>vintage=2035<br>capacity=%{y}<extra></extra>",
         "legendgroup": "Survival Q4, new capacity",
         "marker": {
          "color": "rgb(57, 105, 172)",
          "pattern": {
           "shape": "."
          }
         },
         "name": "Survival Q4",
         "offsetgroup": "Survival Q4, new capacity",
         "orientation": "v",
         "showlegend": false,
         "textfont": {
          "size": 11
         },
         "textposition": "auto",
         "texttemplate": "%{y:.2f}",
         "type": "bar",
         "x": [
          "new capacity"
         ],
         "xaxis": "x11",
         "y": [
          0.7505193244666354
         ],
         "yaxis": "y11"
        },
        {
         "alignmentgroup": "True",
         "hovertemplate": "life=Survival Q4<br>cap type=%{x}<br>mode=LD Car<br>vintage=2040<br>capacity=%{y}<extra></extra>",
         "legendgroup": "Survival Q4, new capacity",
         "marker": {
          "color": "rgb(57, 105, 172)",
          "pattern": {
           "shape": "."
          }
         },
         "name": "Survival Q4",
         "offsetgroup": "Survival Q4, new capacity",
         "orientation": "v",
         "showlegend": false,
         "textfont": {
          "size": 11
         },
         "textposition": "auto",
         "texttemplate": "%{y:.2f}",
         "type": "bar",
         "x": [
          "new capacity"
         ],
         "xaxis": "x12",
         "y": [
          0.5065356330638838
         ],
         "yaxis": "y12"
        },
        {
         "alignmentgroup": "True",
         "hovertemplate": "life=Survival Q4<br>cap type=%{x}<br>mode=LD Car<br>vintage=2045<br>capacity=%{y}<extra></extra>",
         "legendgroup": "Survival Q4, new capacity",
         "marker": {
          "color": "rgb(57, 105, 172)",
          "pattern": {
           "shape": "."
          }
         },
         "name": "Survival Q4",
         "offsetgroup": "Survival Q4, new capacity",
         "orientation": "v",
         "showlegend": false,
         "textfont": {
          "size": 11
         },
         "textposition": "auto",
         "texttemplate": "%{y:.2f}",
         "type": "bar",
         "x": [
          "new capacity"
         ],
         "xaxis": "x13",
         "y": [
          0.5007545061481616
         ],
         "yaxis": "y13"
        },
        {
         "alignmentgroup": "True",
         "hovertemplate": "life=Survival Q4<br>cap type=%{x}<br>mode=LD Car<br>vintage=2050<br>capacity=%{y}<extra></extra>",
         "legendgroup": "Survival Q4, new capacity",
         "marker": {
          "color": "rgb(57, 105, 172)",
          "pattern": {
           "shape": "."
          }
         },
         "name": "Survival Q4",
         "offsetgroup": "Survival Q4, new capacity",
         "orientation": "v",
         "showlegend": false,
         "textfont": {
          "size": 11
         },
         "textposition": "auto",
         "texttemplate": "%{y:.2f}",
         "type": "bar",
         "x": [
          "new capacity"
         ],
         "xaxis": "x14",
         "y": [
          0.7361169939139167
         ],
         "yaxis": "y14"
        },
        {
         "alignmentgroup": "True",
         "hovertemplate": "life=Survival Q4<br>cap type=%{x}<br>mode=LD Truck<br>vintage=2021<br>capacity=%{y}<extra></extra>",
         "legendgroup": "Survival Q4, new capacity",
         "marker": {
          "color": "rgb(57, 105, 172)",
          "pattern": {
           "shape": "."
          }
         },
         "name": "Survival Q4",
         "offsetgroup": "Survival Q4, new capacity",
         "orientation": "v",
         "showlegend": false,
         "textfont": {
          "size": 11
         },
         "textposition": "auto",
         "texttemplate": "%{y:.2f}",
         "type": "bar",
         "x": [
          "new capacity"
         ],
         "xaxis": "x",
         "y": [
          0.1503175020711142
         ],
         "yaxis": "y"
        },
        {
         "alignmentgroup": "True",
         "hovertemplate": "life=Survival Q4<br>cap type=%{x}<br>mode=LD Truck<br>vintage=2025<br>capacity=%{y}<extra></extra>",
         "legendgroup": "Survival Q4, new capacity",
         "marker": {
          "color": "rgb(57, 105, 172)",
          "pattern": {
           "shape": "."
          }
         },
         "name": "Survival Q4",
         "offsetgroup": "Survival Q4, new capacity",
         "orientation": "v",
         "showlegend": false,
         "textfont": {
          "size": 11
         },
         "textposition": "auto",
         "texttemplate": "%{y:.2f}",
         "type": "bar",
         "x": [
          "new capacity"
         ],
         "xaxis": "x2",
         "y": [
          0.48553209250879803
         ],
         "yaxis": "y2"
        },
        {
         "alignmentgroup": "True",
         "hovertemplate": "life=Survival Q4<br>cap type=%{x}<br>mode=LD Truck<br>vintage=2030<br>capacity=%{y}<extra></extra>",
         "legendgroup": "Survival Q4, new capacity",
         "marker": {
          "color": "rgb(57, 105, 172)",
          "pattern": {
           "shape": "."
          }
         },
         "name": "Survival Q4",
         "offsetgroup": "Survival Q4, new capacity",
         "orientation": "v",
         "showlegend": false,
         "textfont": {
          "size": 11
         },
         "textposition": "auto",
         "texttemplate": "%{y:.2f}",
         "type": "bar",
         "x": [
          "new capacity"
         ],
         "xaxis": "x3",
         "y": [
          0.38356365028117206
         ],
         "yaxis": "y3"
        },
        {
         "alignmentgroup": "True",
         "hovertemplate": "life=Survival Q4<br>cap type=%{x}<br>mode=LD Truck<br>vintage=2035<br>capacity=%{y}<extra></extra>",
         "legendgroup": "Survival Q4, new capacity",
         "marker": {
          "color": "rgb(57, 105, 172)",
          "pattern": {
           "shape": "."
          }
         },
         "name": "Survival Q4",
         "offsetgroup": "Survival Q4, new capacity",
         "orientation": "v",
         "showlegend": false,
         "textfont": {
          "size": 11
         },
         "textposition": "auto",
         "texttemplate": "%{y:.2f}",
         "type": "bar",
         "x": [
          "new capacity"
         ],
         "xaxis": "x4",
         "y": [
          0.5736632033929989
         ],
         "yaxis": "y4"
        },
        {
         "alignmentgroup": "True",
         "hovertemplate": "life=Survival Q4<br>cap type=%{x}<br>mode=LD Truck<br>vintage=2040<br>capacity=%{y}<extra></extra>",
         "legendgroup": "Survival Q4, new capacity",
         "marker": {
          "color": "rgb(57, 105, 172)",
          "pattern": {
           "shape": "."
          }
         },
         "name": "Survival Q4",
         "offsetgroup": "Survival Q4, new capacity",
         "orientation": "v",
         "showlegend": false,
         "textfont": {
          "size": 11
         },
         "textposition": "auto",
         "texttemplate": "%{y:.2f}",
         "type": "bar",
         "x": [
          "new capacity"
         ],
         "xaxis": "x5",
         "y": [
          0.7729838598181317
         ],
         "yaxis": "y5"
        },
        {
         "alignmentgroup": "True",
         "hovertemplate": "life=Survival Q4<br>cap type=%{x}<br>mode=LD Truck<br>vintage=2045<br>capacity=%{y}<extra></extra>",
         "legendgroup": "Survival Q4, new capacity",
         "marker": {
          "color": "rgb(57, 105, 172)",
          "pattern": {
           "shape": "."
          }
         },
         "name": "Survival Q4",
         "offsetgroup": "Survival Q4, new capacity",
         "orientation": "v",
         "showlegend": false,
         "textfont": {
          "size": 11
         },
         "textposition": "auto",
         "texttemplate": "%{y:.2f}",
         "type": "bar",
         "x": [
          "new capacity"
         ],
         "xaxis": "x6",
         "y": [
          0.44987328426557033
         ],
         "yaxis": "y6"
        },
        {
         "alignmentgroup": "True",
         "hovertemplate": "life=Survival Q4<br>cap type=%{x}<br>mode=LD Truck<br>vintage=2050<br>capacity=%{y}<extra></extra>",
         "legendgroup": "Survival Q4, new capacity",
         "marker": {
          "color": "rgb(57, 105, 172)",
          "pattern": {
           "shape": "."
          }
         },
         "name": "Survival Q4",
         "offsetgroup": "Survival Q4, new capacity",
         "orientation": "v",
         "showlegend": false,
         "textfont": {
          "size": 11
         },
         "textposition": "auto",
         "texttemplate": "%{y:.2f}",
         "type": "bar",
         "x": [
          "new capacity"
         ],
         "xaxis": "x7",
         "y": [
          0.7135754990297178
         ],
         "yaxis": "y7"
        },
        {
         "alignmentgroup": "True",
         "hovertemplate": "life=Survival Q4<br>cap type=%{x}<br>mode=LD Car<br>vintage=2035<br>capacity=%{y}<extra></extra>",
         "legendgroup": "Survival Q4, retired cap",
         "marker": {
          "color": "rgb(57, 105, 172)",
          "pattern": {
           "shape": "/"
          }
         },
         "name": "Survival Q4",
         "offsetgroup": "Survival Q4, retired cap",
         "orientation": "v",
         "showlegend": false,
         "textfont": {
          "size": 11
         },
         "textposition": "auto",
         "texttemplate": "%{y:.2f}",
         "type": "bar",
         "x": [
          "retired cap"
         ],
         "xaxis": "x11",
         "y": [
          -0.15294297999999992
         ],
         "yaxis": "y11"
        },
        {
         "alignmentgroup": "True",
         "hovertemplate": "life=Survival Q4<br>cap type=%{x}<br>mode=LD Car<br>vintage=2040<br>capacity=%{y}<extra></extra>",
         "legendgroup": "Survival Q4, retired cap",
         "marker": {
          "color": "rgb(57, 105, 172)",
          "pattern": {
           "shape": "/"
          }
         },
         "name": "Survival Q4",
         "offsetgroup": "Survival Q4, retired cap",
         "orientation": "v",
         "showlegend": false,
         "textfont": {
          "size": 11
         },
         "textposition": "auto",
         "texttemplate": "%{y:.2f}",
         "type": "bar",
         "x": [
          "retired cap"
         ],
         "xaxis": "x12",
         "y": [
          -0.35697265750000007
         ],
         "yaxis": "y12"
        },
        {
         "alignmentgroup": "True",
         "hovertemplate": "life=Survival Q4<br>cap type=%{x}<br>mode=LD Car<br>vintage=2045<br>capacity=%{y}<extra></extra>",
         "legendgroup": "Survival Q4, retired cap",
         "marker": {
          "color": "rgb(57, 105, 172)",
          "pattern": {
           "shape": "/"
          }
         },
         "name": "Survival Q4",
         "offsetgroup": "Survival Q4, retired cap",
         "orientation": "v",
         "showlegend": false,
         "textfont": {
          "size": 11
         },
         "textposition": "auto",
         "texttemplate": "%{y:.2f}",
         "type": "bar",
         "x": [
          "retired cap"
         ],
         "xaxis": "x13",
         "y": [
          -0.44143293499999964
         ],
         "yaxis": "y13"
        },
        {
         "alignmentgroup": "True",
         "hovertemplate": "life=Survival Q4<br>cap type=%{x}<br>mode=LD Car<br>vintage=2050<br>capacity=%{y}<extra></extra>",
         "legendgroup": "Survival Q4, retired cap",
         "marker": {
          "color": "rgb(57, 105, 172)",
          "pattern": {
           "shape": "/"
          }
         },
         "name": "Survival Q4",
         "offsetgroup": "Survival Q4, retired cap",
         "orientation": "v",
         "showlegend": false,
         "textfont": {
          "size": 11
         },
         "textposition": "auto",
         "texttemplate": "%{y:.2f}",
         "type": "bar",
         "x": [
          "retired cap"
         ],
         "xaxis": "x14",
         "y": [
          -0.7091329066227531
         ],
         "yaxis": "y14"
        },
        {
         "alignmentgroup": "True",
         "hovertemplate": "life=Survival Q4<br>cap type=%{x}<br>mode=LD Truck<br>vintage=2040<br>capacity=%{y}<extra></extra>",
         "legendgroup": "Survival Q4, retired cap",
         "marker": {
          "color": "rgb(57, 105, 172)",
          "pattern": {
           "shape": "/"
          }
         },
         "name": "Survival Q4",
         "offsetgroup": "Survival Q4, retired cap",
         "orientation": "v",
         "showlegend": false,
         "textfont": {
          "size": 11
         },
         "textposition": "auto",
         "texttemplate": "%{y:.2f}",
         "type": "bar",
         "x": [
          "retired cap"
         ],
         "xaxis": "x5",
         "y": [
          -0.2635612024999998
         ],
         "yaxis": "y5"
        },
        {
         "alignmentgroup": "True",
         "hovertemplate": "life=Survival Q4<br>cap type=%{x}<br>mode=LD Truck<br>vintage=2045<br>capacity=%{y}<extra></extra>",
         "legendgroup": "Survival Q4, retired cap",
         "marker": {
          "color": "rgb(57, 105, 172)",
          "pattern": {
           "shape": "/"
          }
         },
         "name": "Survival Q4",
         "offsetgroup": "Survival Q4, retired cap",
         "orientation": "v",
         "showlegend": false,
         "textfont": {
          "size": 11
         },
         "textposition": "auto",
         "texttemplate": "%{y:.2f}",
         "type": "bar",
         "x": [
          "retired cap"
         ],
         "xaxis": "x6",
         "y": [
          -0.40846162
         ],
         "yaxis": "y6"
        },
        {
         "alignmentgroup": "True",
         "hovertemplate": "life=Survival Q4<br>cap type=%{x}<br>mode=LD Truck<br>vintage=2050<br>capacity=%{y}<extra></extra>",
         "legendgroup": "Survival Q4, retired cap",
         "marker": {
          "color": "rgb(57, 105, 172)",
          "pattern": {
           "shape": "/"
          }
         },
         "name": "Survival Q4",
         "offsetgroup": "Survival Q4, retired cap",
         "orientation": "v",
         "showlegend": false,
         "textfont": {
          "size": 11
         },
         "textposition": "auto",
         "texttemplate": "%{y:.2f}",
         "type": "bar",
         "x": [
          "retired cap"
         ],
         "xaxis": "x7",
         "y": [
          -0.6936544452864771
         ],
         "yaxis": "y7"
        },
        {
         "legendgroup": "Blank",
         "marker": {
          "color": "rgba(0,0,0,0)"
         },
         "name": "",
         "showlegend": true,
         "textfont": {
          "size": 11
         },
         "type": "bar",
         "x": [
          null
         ],
         "y": [
          null
         ]
        },
        {
         "legendgroup": "Capacity type",
         "legendgrouptitle": {
          "text": "Capacity type"
         },
         "marker": {
          "color": "rgba(0,0,0,0)",
          "line": {
           "color": "black",
           "width": 1
          },
          "pattern": {
           "shape": ""
          }
         },
         "name": "Net capacity",
         "showlegend": true,
         "textfont": {
          "size": 11
         },
         "type": "bar",
         "x": [
          null
         ],
         "y": [
          null
         ]
        },
        {
         "legendgroup": "Capacity type",
         "marker": {
          "color": "rgba(0,0,0,0)",
          "line": {
           "color": "black",
           "width": 1
          },
          "pattern": {
           "shape": "."
          }
         },
         "name": "New capacity",
         "showlegend": true,
         "textfont": {
          "size": 11
         },
         "type": "bar",
         "x": [
          null
         ],
         "y": [
          null
         ]
        },
        {
         "legendgroup": "Capacity type",
         "marker": {
          "color": "rgba(0,0,0,0)",
          "line": {
           "color": "black",
           "width": 1
          },
          "pattern": {
           "shape": "/"
          }
         },
         "name": "Retired capacity",
         "showlegend": true,
         "textfont": {
          "size": 11
         },
         "type": "bar",
         "x": [
          null
         ],
         "y": [
          null
         ]
        }
       ],
       "layout": {
        "annotations": [
         {
          "showarrow": false,
          "text": "2021",
          "x": 0.06142857142857142,
          "xanchor": "center",
          "xref": "paper",
          "y": 0.005,
          "yanchor": "top",
          "yref": "paper"
         },
         {
          "showarrow": false,
          "text": "2025",
          "x": 0.20428571428571426,
          "xanchor": "center",
          "xref": "paper",
          "y": 0.005,
          "yanchor": "top",
          "yref": "paper"
         },
         {
          "showarrow": false,
          "text": "2030",
          "x": 0.3471428571428571,
          "xanchor": "center",
          "xref": "paper",
          "y": 0.005,
          "yanchor": "top",
          "yref": "paper"
         },
         {
          "showarrow": false,
          "text": "2035",
          "x": 0.49,
          "xanchor": "center",
          "xref": "paper",
          "y": 0.005,
          "yanchor": "top",
          "yref": "paper"
         },
         {
          "showarrow": false,
          "text": "2040",
          "x": 0.6328571428571428,
          "xanchor": "center",
          "xref": "paper",
          "y": 0.005,
          "yanchor": "top",
          "yref": "paper"
         },
         {
          "showarrow": false,
          "text": "2045",
          "x": 0.7757142857142856,
          "xanchor": "center",
          "xref": "paper",
          "y": 0.005,
          "yanchor": "top",
          "yref": "paper"
         },
         {
          "showarrow": false,
          "text": "2050",
          "x": 0.9185714285714286,
          "xanchor": "center",
          "xref": "paper",
          "y": 0.005,
          "yanchor": "top",
          "yref": "paper"
         },
         {
          "font": {
           "size": 16
          },
          "showarrow": false,
          "text": "Class: LD Truck",
          "textangle": 90,
          "x": 1.01,
          "xanchor": "center",
          "xref": "paper",
          "y": 0.2475,
          "yanchor": "middle",
          "yref": "paper"
         },
         {
          "font": {
           "size": 16
          },
          "showarrow": false,
          "text": "Class: LD Car",
          "textangle": 90,
          "x": 1.01,
          "xanchor": "center",
          "xref": "paper",
          "y": 0.7525,
          "yanchor": "middle",
          "yref": "paper"
         },
         {
          "font": {
           "size": 17
          },
          "showarrow": false,
          "text": "Fleet capacity (M units)",
          "textangle": -90,
          "x": -0.07,
          "xref": "paper",
          "y": 0.5,
          "yref": "paper"
         }
        ],
        "bargap": 0.1,
        "barmode": "relative",
        "font": {
         "size": 15
        },
        "height": 800,
        "legend": {
         "orientation": "v",
         "title": {
          "text": "Survival rate class"
         },
         "tracegroupgap": 0,
         "x": 1.15,
         "xanchor": "center",
         "y": 0.8,
         "yanchor": "top"
        },
        "margin": {
         "b": 10,
         "t": 10
        },
        "template": {
         "data": {
          "bar": [
           {
            "error_x": {
             "color": "#2a3f5f"
            },
            "error_y": {
             "color": "#2a3f5f"
            },
            "marker": {
             "line": {
              "color": "white",
              "width": 0.5
             },
             "pattern": {
              "fillmode": "overlay",
              "size": 10,
              "solidity": 0.2
             }
            },
            "type": "bar"
           }
          ],
          "barpolar": [
           {
            "marker": {
             "line": {
              "color": "white",
              "width": 0.5
             },
             "pattern": {
              "fillmode": "overlay",
              "size": 10,
              "solidity": 0.2
             }
            },
            "type": "barpolar"
           }
          ],
          "carpet": [
           {
            "aaxis": {
             "endlinecolor": "#2a3f5f",
             "gridcolor": "#C8D4E3",
             "linecolor": "#C8D4E3",
             "minorgridcolor": "#C8D4E3",
             "startlinecolor": "#2a3f5f"
            },
            "baxis": {
             "endlinecolor": "#2a3f5f",
             "gridcolor": "#C8D4E3",
             "linecolor": "#C8D4E3",
             "minorgridcolor": "#C8D4E3",
             "startlinecolor": "#2a3f5f"
            },
            "type": "carpet"
           }
          ],
          "choropleth": [
           {
            "colorbar": {
             "outlinewidth": 0,
             "ticks": ""
            },
            "type": "choropleth"
           }
          ],
          "contour": [
           {
            "colorbar": {
             "outlinewidth": 0,
             "ticks": ""
            },
            "colorscale": [
             [
              0,
              "#0d0887"
             ],
             [
              0.1111111111111111,
              "#46039f"
             ],
             [
              0.2222222222222222,
              "#7201a8"
             ],
             [
              0.3333333333333333,
              "#9c179e"
             ],
             [
              0.4444444444444444,
              "#bd3786"
             ],
             [
              0.5555555555555556,
              "#d8576b"
             ],
             [
              0.6666666666666666,
              "#ed7953"
             ],
             [
              0.7777777777777778,
              "#fb9f3a"
             ],
             [
              0.8888888888888888,
              "#fdca26"
             ],
             [
              1,
              "#f0f921"
             ]
            ],
            "type": "contour"
           }
          ],
          "contourcarpet": [
           {
            "colorbar": {
             "outlinewidth": 0,
             "ticks": ""
            },
            "type": "contourcarpet"
           }
          ],
          "heatmap": [
           {
            "colorbar": {
             "outlinewidth": 0,
             "ticks": ""
            },
            "colorscale": [
             [
              0,
              "#0d0887"
             ],
             [
              0.1111111111111111,
              "#46039f"
             ],
             [
              0.2222222222222222,
              "#7201a8"
             ],
             [
              0.3333333333333333,
              "#9c179e"
             ],
             [
              0.4444444444444444,
              "#bd3786"
             ],
             [
              0.5555555555555556,
              "#d8576b"
             ],
             [
              0.6666666666666666,
              "#ed7953"
             ],
             [
              0.7777777777777778,
              "#fb9f3a"
             ],
             [
              0.8888888888888888,
              "#fdca26"
             ],
             [
              1,
              "#f0f921"
             ]
            ],
            "type": "heatmap"
           }
          ],
          "heatmapgl": [
           {
            "colorbar": {
             "outlinewidth": 0,
             "ticks": ""
            },
            "colorscale": [
             [
              0,
              "#0d0887"
             ],
             [
              0.1111111111111111,
              "#46039f"
             ],
             [
              0.2222222222222222,
              "#7201a8"
             ],
             [
              0.3333333333333333,
              "#9c179e"
             ],
             [
              0.4444444444444444,
              "#bd3786"
             ],
             [
              0.5555555555555556,
              "#d8576b"
             ],
             [
              0.6666666666666666,
              "#ed7953"
             ],
             [
              0.7777777777777778,
              "#fb9f3a"
             ],
             [
              0.8888888888888888,
              "#fdca26"
             ],
             [
              1,
              "#f0f921"
             ]
            ],
            "type": "heatmapgl"
           }
          ],
          "histogram": [
           {
            "marker": {
             "pattern": {
              "fillmode": "overlay",
              "size": 10,
              "solidity": 0.2
             }
            },
            "type": "histogram"
           }
          ],
          "histogram2d": [
           {
            "colorbar": {
             "outlinewidth": 0,
             "ticks": ""
            },
            "colorscale": [
             [
              0,
              "#0d0887"
             ],
             [
              0.1111111111111111,
              "#46039f"
             ],
             [
              0.2222222222222222,
              "#7201a8"
             ],
             [
              0.3333333333333333,
              "#9c179e"
             ],
             [
              0.4444444444444444,
              "#bd3786"
             ],
             [
              0.5555555555555556,
              "#d8576b"
             ],
             [
              0.6666666666666666,
              "#ed7953"
             ],
             [
              0.7777777777777778,
              "#fb9f3a"
             ],
             [
              0.8888888888888888,
              "#fdca26"
             ],
             [
              1,
              "#f0f921"
             ]
            ],
            "type": "histogram2d"
           }
          ],
          "histogram2dcontour": [
           {
            "colorbar": {
             "outlinewidth": 0,
             "ticks": ""
            },
            "colorscale": [
             [
              0,
              "#0d0887"
             ],
             [
              0.1111111111111111,
              "#46039f"
             ],
             [
              0.2222222222222222,
              "#7201a8"
             ],
             [
              0.3333333333333333,
              "#9c179e"
             ],
             [
              0.4444444444444444,
              "#bd3786"
             ],
             [
              0.5555555555555556,
              "#d8576b"
             ],
             [
              0.6666666666666666,
              "#ed7953"
             ],
             [
              0.7777777777777778,
              "#fb9f3a"
             ],
             [
              0.8888888888888888,
              "#fdca26"
             ],
             [
              1,
              "#f0f921"
             ]
            ],
            "type": "histogram2dcontour"
           }
          ],
          "mesh3d": [
           {
            "colorbar": {
             "outlinewidth": 0,
             "ticks": ""
            },
            "type": "mesh3d"
           }
          ],
          "parcoords": [
           {
            "line": {
             "colorbar": {
              "outlinewidth": 0,
              "ticks": ""
             }
            },
            "type": "parcoords"
           }
          ],
          "pie": [
           {
            "automargin": true,
            "type": "pie"
           }
          ],
          "scatter": [
           {
            "fillpattern": {
             "fillmode": "overlay",
             "size": 10,
             "solidity": 0.2
            },
            "type": "scatter"
           }
          ],
          "scatter3d": [
           {
            "line": {
             "colorbar": {
              "outlinewidth": 0,
              "ticks": ""
             }
            },
            "marker": {
             "colorbar": {
              "outlinewidth": 0,
              "ticks": ""
             }
            },
            "type": "scatter3d"
           }
          ],
          "scattercarpet": [
           {
            "marker": {
             "colorbar": {
              "outlinewidth": 0,
              "ticks": ""
             }
            },
            "type": "scattercarpet"
           }
          ],
          "scattergeo": [
           {
            "marker": {
             "colorbar": {
              "outlinewidth": 0,
              "ticks": ""
             }
            },
            "type": "scattergeo"
           }
          ],
          "scattergl": [
           {
            "marker": {
             "colorbar": {
              "outlinewidth": 0,
              "ticks": ""
             }
            },
            "type": "scattergl"
           }
          ],
          "scattermapbox": [
           {
            "marker": {
             "colorbar": {
              "outlinewidth": 0,
              "ticks": ""
             }
            },
            "type": "scattermapbox"
           }
          ],
          "scatterpolar": [
           {
            "marker": {
             "colorbar": {
              "outlinewidth": 0,
              "ticks": ""
             }
            },
            "type": "scatterpolar"
           }
          ],
          "scatterpolargl": [
           {
            "marker": {
             "colorbar": {
              "outlinewidth": 0,
              "ticks": ""
             }
            },
            "type": "scatterpolargl"
           }
          ],
          "scatterternary": [
           {
            "marker": {
             "colorbar": {
              "outlinewidth": 0,
              "ticks": ""
             }
            },
            "type": "scatterternary"
           }
          ],
          "surface": [
           {
            "colorbar": {
             "outlinewidth": 0,
             "ticks": ""
            },
            "colorscale": [
             [
              0,
              "#0d0887"
             ],
             [
              0.1111111111111111,
              "#46039f"
             ],
             [
              0.2222222222222222,
              "#7201a8"
             ],
             [
              0.3333333333333333,
              "#9c179e"
             ],
             [
              0.4444444444444444,
              "#bd3786"
             ],
             [
              0.5555555555555556,
              "#d8576b"
             ],
             [
              0.6666666666666666,
              "#ed7953"
             ],
             [
              0.7777777777777778,
              "#fb9f3a"
             ],
             [
              0.8888888888888888,
              "#fdca26"
             ],
             [
              1,
              "#f0f921"
             ]
            ],
            "type": "surface"
           }
          ],
          "table": [
           {
            "cells": {
             "fill": {
              "color": "#EBF0F8"
             },
             "line": {
              "color": "white"
             }
            },
            "header": {
             "fill": {
              "color": "#C8D4E3"
             },
             "line": {
              "color": "white"
             }
            },
            "type": "table"
           }
          ]
         },
         "layout": {
          "annotationdefaults": {
           "arrowcolor": "#2a3f5f",
           "arrowhead": 0,
           "arrowwidth": 1
          },
          "autotypenumbers": "strict",
          "coloraxis": {
           "colorbar": {
            "outlinewidth": 0,
            "ticks": ""
           }
          },
          "colorscale": {
           "diverging": [
            [
             0,
             "#8e0152"
            ],
            [
             0.1,
             "#c51b7d"
            ],
            [
             0.2,
             "#de77ae"
            ],
            [
             0.3,
             "#f1b6da"
            ],
            [
             0.4,
             "#fde0ef"
            ],
            [
             0.5,
             "#f7f7f7"
            ],
            [
             0.6,
             "#e6f5d0"
            ],
            [
             0.7,
             "#b8e186"
            ],
            [
             0.8,
             "#7fbc41"
            ],
            [
             0.9,
             "#4d9221"
            ],
            [
             1,
             "#276419"
            ]
           ],
           "sequential": [
            [
             0,
             "#0d0887"
            ],
            [
             0.1111111111111111,
             "#46039f"
            ],
            [
             0.2222222222222222,
             "#7201a8"
            ],
            [
             0.3333333333333333,
             "#9c179e"
            ],
            [
             0.4444444444444444,
             "#bd3786"
            ],
            [
             0.5555555555555556,
             "#d8576b"
            ],
            [
             0.6666666666666666,
             "#ed7953"
            ],
            [
             0.7777777777777778,
             "#fb9f3a"
            ],
            [
             0.8888888888888888,
             "#fdca26"
            ],
            [
             1,
             "#f0f921"
            ]
           ],
           "sequentialminus": [
            [
             0,
             "#0d0887"
            ],
            [
             0.1111111111111111,
             "#46039f"
            ],
            [
             0.2222222222222222,
             "#7201a8"
            ],
            [
             0.3333333333333333,
             "#9c179e"
            ],
            [
             0.4444444444444444,
             "#bd3786"
            ],
            [
             0.5555555555555556,
             "#d8576b"
            ],
            [
             0.6666666666666666,
             "#ed7953"
            ],
            [
             0.7777777777777778,
             "#fb9f3a"
            ],
            [
             0.8888888888888888,
             "#fdca26"
            ],
            [
             1,
             "#f0f921"
            ]
           ]
          },
          "colorway": [
           "#636efa",
           "#EF553B",
           "#00cc96",
           "#ab63fa",
           "#FFA15A",
           "#19d3f3",
           "#FF6692",
           "#B6E880",
           "#FF97FF",
           "#FECB52"
          ],
          "font": {
           "color": "#2a3f5f"
          },
          "geo": {
           "bgcolor": "white",
           "lakecolor": "white",
           "landcolor": "white",
           "showlakes": true,
           "showland": true,
           "subunitcolor": "#C8D4E3"
          },
          "hoverlabel": {
           "align": "left"
          },
          "hovermode": "closest",
          "mapbox": {
           "style": "light"
          },
          "paper_bgcolor": "white",
          "plot_bgcolor": "white",
          "polar": {
           "angularaxis": {
            "gridcolor": "#EBF0F8",
            "linecolor": "#EBF0F8",
            "ticks": ""
           },
           "bgcolor": "white",
           "radialaxis": {
            "gridcolor": "#EBF0F8",
            "linecolor": "#EBF0F8",
            "ticks": ""
           }
          },
          "scene": {
           "xaxis": {
            "backgroundcolor": "white",
            "gridcolor": "#DFE8F3",
            "gridwidth": 2,
            "linecolor": "#EBF0F8",
            "showbackground": true,
            "ticks": "",
            "zerolinecolor": "#EBF0F8"
           },
           "yaxis": {
            "backgroundcolor": "white",
            "gridcolor": "#DFE8F3",
            "gridwidth": 2,
            "linecolor": "#EBF0F8",
            "showbackground": true,
            "ticks": "",
            "zerolinecolor": "#EBF0F8"
           },
           "zaxis": {
            "backgroundcolor": "white",
            "gridcolor": "#DFE8F3",
            "gridwidth": 2,
            "linecolor": "#EBF0F8",
            "showbackground": true,
            "ticks": "",
            "zerolinecolor": "#EBF0F8"
           }
          },
          "shapedefaults": {
           "line": {
            "color": "#2a3f5f"
           }
          },
          "ternary": {
           "aaxis": {
            "gridcolor": "#DFE8F3",
            "linecolor": "#A2B1C6",
            "ticks": ""
           },
           "baxis": {
            "gridcolor": "#DFE8F3",
            "linecolor": "#A2B1C6",
            "ticks": ""
           },
           "bgcolor": "white",
           "caxis": {
            "gridcolor": "#DFE8F3",
            "linecolor": "#A2B1C6",
            "ticks": ""
           }
          },
          "title": {
           "x": 0.05
          },
          "xaxis": {
           "automargin": true,
           "gridcolor": "#EBF0F8",
           "linecolor": "#EBF0F8",
           "ticks": "",
           "title": {
            "standoff": 15
           },
           "zerolinecolor": "#EBF0F8",
           "zerolinewidth": 2
          },
          "yaxis": {
           "automargin": true,
           "gridcolor": "#EBF0F8",
           "linecolor": "#EBF0F8",
           "ticks": "",
           "title": {
            "standoff": 15
           },
           "zerolinecolor": "#EBF0F8",
           "zerolinewidth": 2
          }
         }
        },
        "title": {
         "text": "Transport LDV fleet stock and flow in ON by vehicle class and lifetime",
         "x": 0.5,
         "xanchor": "center",
         "y": 0.97,
         "yanchor": "top"
        },
        "width": 1200,
        "xaxis": {
         "anchor": "y",
         "categoryarray": [
          "net capacity",
          "new capacity",
          "retired cap"
         ],
         "categoryorder": "array",
         "domain": [
          0,
          0.12285714285714285
         ],
         "showticklabels": false,
         "title": {
          "text": ""
         }
        },
        "xaxis10": {
         "anchor": "y10",
         "domain": [
          0.2857142857142857,
          0.40857142857142853
         ],
         "matches": "x",
         "showticklabels": false,
         "title": {
          "text": ""
         }
        },
        "xaxis11": {
         "anchor": "y11",
         "domain": [
          0.42857142857142855,
          0.5514285714285714
         ],
         "matches": "x",
         "showticklabels": false,
         "title": {
          "text": ""
         }
        },
        "xaxis12": {
         "anchor": "y12",
         "domain": [
          0.5714285714285714,
          0.6942857142857143
         ],
         "matches": "x",
         "showticklabels": false,
         "title": {
          "text": ""
         }
        },
        "xaxis13": {
         "anchor": "y13",
         "domain": [
          0.7142857142857142,
          0.8371428571428571
         ],
         "matches": "x",
         "showticklabels": false,
         "title": {
          "text": ""
         }
        },
        "xaxis14": {
         "anchor": "y14",
         "domain": [
          0.8571428571428571,
          0.98
         ],
         "matches": "x",
         "showticklabels": false,
         "title": {
          "text": ""
         }
        },
        "xaxis2": {
         "anchor": "y2",
         "categoryarray": [
          "net capacity",
          "new capacity",
          "retired cap"
         ],
         "categoryorder": "array",
         "domain": [
          0.14285714285714285,
          0.2657142857142857
         ],
         "matches": "x",
         "showticklabels": false,
         "title": {
          "text": ""
         }
        },
        "xaxis3": {
         "anchor": "y3",
         "categoryarray": [
          "net capacity",
          "new capacity",
          "retired cap"
         ],
         "categoryorder": "array",
         "domain": [
          0.2857142857142857,
          0.40857142857142853
         ],
         "matches": "x",
         "showticklabels": false,
         "title": {
          "text": ""
         }
        },
        "xaxis4": {
         "anchor": "y4",
         "categoryarray": [
          "net capacity",
          "new capacity",
          "retired cap"
         ],
         "categoryorder": "array",
         "domain": [
          0.42857142857142855,
          0.5514285714285714
         ],
         "matches": "x",
         "showticklabels": false,
         "title": {
          "text": ""
         }
        },
        "xaxis5": {
         "anchor": "y5",
         "categoryarray": [
          "net capacity",
          "new capacity",
          "retired cap"
         ],
         "categoryorder": "array",
         "domain": [
          0.5714285714285714,
          0.6942857142857143
         ],
         "matches": "x",
         "showticklabels": false,
         "title": {
          "text": ""
         }
        },
        "xaxis6": {
         "anchor": "y6",
         "categoryarray": [
          "net capacity",
          "new capacity",
          "retired cap"
         ],
         "categoryorder": "array",
         "domain": [
          0.7142857142857142,
          0.8371428571428571
         ],
         "matches": "x",
         "showticklabels": false,
         "title": {
          "text": ""
         }
        },
        "xaxis7": {
         "anchor": "y7",
         "categoryarray": [
          "net capacity",
          "new capacity",
          "retired cap"
         ],
         "categoryorder": "array",
         "domain": [
          0.8571428571428571,
          0.98
         ],
         "matches": "x",
         "showticklabels": false,
         "title": {
          "text": ""
         }
        },
        "xaxis8": {
         "anchor": "y8",
         "domain": [
          0,
          0.12285714285714285
         ],
         "matches": "x",
         "showticklabels": false,
         "title": {
          "text": ""
         }
        },
        "xaxis9": {
         "anchor": "y9",
         "domain": [
          0.14285714285714285,
          0.2657142857142857
         ],
         "matches": "x",
         "showticklabels": false,
         "title": {
          "text": ""
         }
        },
        "yaxis": {
         "anchor": "x",
         "domain": [
          0,
          0.495
         ],
         "dtick": 2,
         "title": {
          "standoff": 0,
          "text": ""
         }
        },
        "yaxis10": {
         "anchor": "x10",
         "domain": [
          0.505,
          1
         ],
         "dtick": 2,
         "matches": "y",
         "showticklabels": false,
         "title": {
          "text": ""
         }
        },
        "yaxis11": {
         "anchor": "x11",
         "domain": [
          0.505,
          1
         ],
         "dtick": 2,
         "matches": "y",
         "showticklabels": false,
         "title": {
          "text": ""
         }
        },
        "yaxis12": {
         "anchor": "x12",
         "domain": [
          0.505,
          1
         ],
         "dtick": 2,
         "matches": "y",
         "showticklabels": false,
         "title": {
          "text": ""
         }
        },
        "yaxis13": {
         "anchor": "x13",
         "domain": [
          0.505,
          1
         ],
         "dtick": 2,
         "matches": "y",
         "showticklabels": false,
         "title": {
          "text": ""
         }
        },
        "yaxis14": {
         "anchor": "x14",
         "domain": [
          0.505,
          1
         ],
         "dtick": 2,
         "matches": "y",
         "showticklabels": false,
         "title": {
          "text": ""
         }
        },
        "yaxis2": {
         "anchor": "x2",
         "domain": [
          0,
          0.495
         ],
         "dtick": 2,
         "matches": "y",
         "showticklabels": false,
         "title": {
          "text": ""
         }
        },
        "yaxis3": {
         "anchor": "x3",
         "domain": [
          0,
          0.495
         ],
         "dtick": 2,
         "matches": "y",
         "showticklabels": false,
         "title": {
          "text": ""
         }
        },
        "yaxis4": {
         "anchor": "x4",
         "domain": [
          0,
          0.495
         ],
         "dtick": 2,
         "matches": "y",
         "showticklabels": false,
         "title": {
          "text": ""
         }
        },
        "yaxis5": {
         "anchor": "x5",
         "domain": [
          0,
          0.495
         ],
         "dtick": 2,
         "matches": "y",
         "showticklabels": false,
         "title": {
          "text": ""
         }
        },
        "yaxis6": {
         "anchor": "x6",
         "domain": [
          0,
          0.495
         ],
         "dtick": 2,
         "matches": "y",
         "showticklabels": false,
         "title": {
          "text": ""
         }
        },
        "yaxis7": {
         "anchor": "x7",
         "domain": [
          0,
          0.495
         ],
         "dtick": 2,
         "matches": "y",
         "showticklabels": false,
         "title": {
          "text": ""
         }
        },
        "yaxis8": {
         "anchor": "x8",
         "domain": [
          0.505,
          1
         ],
         "dtick": 2,
         "matches": "y",
         "title": {
          "text": ""
         }
        },
        "yaxis9": {
         "anchor": "x9",
         "domain": [
          0.505,
          1
         ],
         "dtick": 2,
         "matches": "y",
         "showticklabels": false,
         "title": {
          "text": ""
         }
        }
       }
      }
     },
     "metadata": {},
     "output_type": "display_data"
    }
   ],
   "source": [
    "def map_tech_survival(tech):\n",
    "    if '_S25' in tech:\n",
    "        return 'Survival Q1'\n",
    "    if '_S75' in tech:\n",
    "        return 'Survival Q4'\n",
    "    else: return 'Survival Q2-3'\n",
    "\n",
    "if 'lifetime' in db_name:\n",
    "    net_cap['life'] = net_cap['tech'].apply(map_tech_survival)\n",
    "    new_cap['life'] = new_cap['tech'].apply(map_tech_survival)\n",
    "    ex_cap['life'] = ex_cap['tech'].apply(map_tech_survival)\n",
    "    net_cap_group = net_cap.groupby(['mode', 'fuel', 'life', 'period'], as_index=False).sum('capacity').drop(columns='vintage').rename(columns={'period': 'vintage'})\n",
    "    ex_cap_group = ex_cap.copy()\n",
    "    ex_cap_group['vintage'] = 2021\n",
    "    ex_cap_group = ex_cap_group.groupby(['mode', 'fuel', 'life', 'vintage', 'units'], as_index=False).sum('capacity')\n",
    "    new_cap_group = new_cap.groupby(['mode', 'fuel', 'life', 'vintage'], as_index=False).sum('capacity')\n",
    "    net_cap_group = net_cap_group[['mode', 'fuel', 'life', 'vintage', 'capacity']].rename(columns={'capacity': 'net capacity'})\n",
    "    new_cap_group = new_cap_group[['mode', 'fuel', 'life', 'vintage', 'capacity']].rename(columns={'capacity': 'new capacity'})\n",
    "    ex_cap_group = ex_cap_group[['mode', 'fuel', 'life', 'vintage', 'capacity']].rename(columns={'capacity': 'ex capacity'})\n",
    "\n",
    "    merged_cap = net_cap_group.merge(new_cap_group, on=['mode', 'fuel', 'life', 'vintage'], how='left').merge(ex_cap_group, on=['mode', 'fuel', 'life', 'vintage'], how='left').fillna(0.)\n",
    "    merged_cap = merged_cap.sort_values(by=['mode', 'fuel', 'life', 'vintage'])\n",
    "    merged_cap['retired cap'] = 0.\n",
    "\n",
    "    for _, group in merged_cap.groupby(['mode', 'fuel', 'life']):\n",
    "        for i in range(1, len(group)):\n",
    "            current_idx = group.index[i]\n",
    "            previous_idx = group.index[i-1]\n",
    "\n",
    "            # Calculate retired capacity as existing capacity + new capacity - net capacity of previous vintage\n",
    "            merged_cap.loc[current_idx, 'retired cap'] = (\n",
    "                merged_cap.loc[previous_idx, 'net capacity'] + \n",
    "                merged_cap.loc[current_idx, 'new capacity'] - \n",
    "                merged_cap.loc[current_idx, 'net capacity']\n",
    "            )\n",
    "\n",
    "    for _, group in merged_cap.groupby(['mode', 'fuel', 'life']):\n",
    "        for i in range(1, len(group)):\n",
    "            current_idx = group.index[i]\n",
    "            previous_idx = group.index[i-1]\n",
    "\n",
    "            # Fill the \"ex capacity\" for years after 2021 using the \"net capacity\" from the previous year\n",
    "            merged_cap.loc[current_idx, 'ex capacity'] = merged_cap.loc[previous_idx, 'net capacity']\n",
    "\n",
    "    merged_cap['retired cap'] = -merged_cap['retired cap']\n",
    "\n",
    "    cap = merged_cap.melt(id_vars=['mode', 'fuel', 'life', 'vintage'],\n",
    "                       value_vars=['net capacity', 'ex capacity', 'new capacity', 'retired cap'],\n",
    "                       var_name='cap type', value_name='capacity')\n",
    "\n",
    "    cap['capacity'] = cap['capacity'] / 1E3\n",
    "    cap = cap[(abs(cap['capacity']) > 1e-3) & (\n",
    "                                                (cap['mode'] == 'LD Car') |\n",
    "                                                (cap['mode'] == 'LD Truck')\n",
    "                                                ) & (cap['cap type'] != 'ex capacity')].reset_index(drop=True)\n",
    "    cap['vintage'] = cap['vintage'].astype('str')\n",
    "\n",
    "cap = cap.groupby(['mode', 'life', 'vintage', 'cap type'], as_index=False).sum('capacity')\n",
    "fig = px.bar(cap, x='cap type', y='capacity', color='life', \n",
    "            pattern_shape='cap type', pattern_shape_sequence=[\"\", \".\", \"/\"],\n",
    "            facet_col='vintage', facet_col_spacing=2E-2, \n",
    "            facet_row='mode', facet_row_spacing=1E-2,\n",
    "            category_orders={\"cap type\": [\"net capacity\", \"new capacity\", \"retired cap\"],\n",
    "                             \"fuel\": ['Gasoline', 'Diesel', 'CNG', 'BEV200', 'BEV300', 'BEV400', 'BEV500', 'HEV', 'PHEV20', 'PHEV50', 'FCEV'],\n",
    "                             \"life\": ['Survival Q1', 'Survival Q2-3', 'Survival Q4']},\n",
    "            # labels={'capacity': 'Fleet capacity (M units)', 'fuel': 'Fuel type'},\n",
    "            template='plotly_white', orientation='v', color_discrete_sequence=px.colors.qualitative.Bold,\n",
    "            text_auto='.2f',\n",
    "            width=1200, height=800\n",
    "            )\n",
    "\n",
    "dummy_traces = [\n",
    "    dict(\n",
    "        name='',  # Empty legend\n",
    "        x=[None], \n",
    "        y=[None], \n",
    "        marker=dict(color='rgba(0,0,0,0)'),\n",
    "        showlegend=True,\n",
    "        legendgroup='Blank',\n",
    "        legendgrouptitle=None\n",
    "    ),\n",
    "    # dict(\n",
    "    #     name=' ',  # Another empty legend\n",
    "    #     x=[None], \n",
    "    #     y=[None], \n",
    "    #     marker=dict(color='rgba(0,0,0,0)'),\n",
    "    #     showlegend=True,\n",
    "    #     legendgroup='Blank',\n",
    "    #     legendgrouptitle=None   \n",
    "    # ),\n",
    "    dict(\n",
    "        name='Net capacity',\n",
    "        x=[None], \n",
    "        y=[None], \n",
    "        marker=dict(\n",
    "            color='rgba(0,0,0,0)',\n",
    "            line=dict(color='black', width=1),  # Thin black border\n",
    "            pattern_shape=\"\"\n",
    "        ),\n",
    "        showlegend=True,\n",
    "        legendgroup='Capacity type',\n",
    "        legendgrouptitle=dict(text=\"Capacity type\"),\n",
    "    ),\n",
    "    dict(\n",
    "        name='New capacity',\n",
    "        x=[None], \n",
    "        y=[None], \n",
    "        marker=dict(\n",
    "            color='rgba(0,0,0,0)',\n",
    "            line=dict(color='black', width=1),  # Thin black border\n",
    "            pattern_shape=\".\"\n",
    "        ),\n",
    "        showlegend=True,\n",
    "        legendgroup='Capacity type',\n",
    "        legendgrouptitle=None\n",
    "    ),\n",
    "    dict(\n",
    "        name='Retired capacity',\n",
    "        x=[None], \n",
    "        y=[None], \n",
    "        marker=dict(\n",
    "            color='rgba(0,0,0,0)',\n",
    "            line=dict(color='black', width=1),  # Thin black border\n",
    "            pattern_shape=\"/\"\n",
    "        ),\n",
    "        showlegend=True,\n",
    "        legendgroup='Capacity type',\n",
    "        legendgrouptitle=None\n",
    "    )\n",
    "]\n",
    "\n",
    "for trace in dummy_traces:\n",
    "    fig.add_bar(\n",
    "        x=trace['x'], \n",
    "        y=trace['y'], \n",
    "        name=trace['name'], \n",
    "        marker=trace['marker'], \n",
    "        showlegend=trace['showlegend'],\n",
    "        legendgroup=trace['legendgroup'],\n",
    "        legendgrouptitle=trace['legendgrouptitle']\n",
    "    )\n",
    "\n",
    "fig.update_layout(\n",
    "    margin=dict(\n",
    "        t=10, b=10\n",
    "    ),\n",
    "    title=dict(\n",
    "        text='Transport LDV fleet stock and flow in ON by vehicle class and lifetime',\n",
    "        x=0.5, \n",
    "        y=0.97,\n",
    "        xanchor='center',\n",
    "        yanchor='top'\n",
    "    ),\n",
    "    yaxis_title_standoff=0,\n",
    "    legend_title_text='Survival rate class',\n",
    "    bargap=0.1,\n",
    "    legend=dict(\n",
    "        orientation='v',\n",
    "        # entrywidth=50,\n",
    "        yanchor='top',\n",
    "        y=0.8,  \n",
    "        xanchor='center',\n",
    "        x=1.15),\n",
    "    font=dict(\n",
    "        size=15)\n",
    "    )\n",
    "\n",
    "fig.for_each_trace(lambda trace: trace.update(textfont=dict(size=11)))\n",
    "\n",
    "# fig.update_xaxes(tickvals=[\"net capacity\", \"new capacity\", \"retired cap\"],\n",
    "#                  ticktext=[\"Net\", \"New\", \"Retired\"], \n",
    "#                  tickangle=45\n",
    "#                  )\n",
    "\n",
    "for axis in fig.layout:\n",
    "    if axis.startswith('xaxis'):\n",
    "        fig.layout[axis].title.text = ''\n",
    "        fig.layout[axis].showticklabels = False\n",
    "    if axis.startswith('yaxis'):\n",
    "        fig.layout[axis].title.text = ''\n",
    "        fig.layout[axis].dtick = 2\n",
    "\n",
    "for annotation in fig.layout.annotations:\n",
    "    if 'mode' in annotation.text:\n",
    "        annotation.text = 'Class: ' + annotation.text.split('=')[1]\n",
    "        annotation.font.size = 16\n",
    "        annotation.x = 1.01\n",
    "        annotation.xanchor = 'center'\n",
    "    else:\n",
    "        annotation.text = annotation.text.split('=')[1]\n",
    "        annotation.y = 0.005\n",
    "        annotation.yanchor = 'top' \n",
    "\n",
    "shown_legends = set()\n",
    "for trace in fig.data:\n",
    "    trace.name = trace.name.split(\",\")[0]\n",
    "    if trace.name not in shown_legends:\n",
    "        trace.showlegend = True\n",
    "        shown_legends.add(trace.name)\n",
    "    else:\n",
    "        trace.showlegend = False\n",
    "\n",
    "fig.add_annotation(\n",
    "    text=\"Fleet capacity (M units)\",\n",
    "    x=-0.07,\n",
    "    y=0.5,\n",
    "    xref=\"paper\",\n",
    "    yref=\"paper\",\n",
    "    showarrow=False,\n",
    "    textangle=-90,\n",
    "    font=dict(size=17))\n",
    "\n",
    "fig.show()\n",
    "\n",
    "fig.write_image(\"lifetimes_fleet_flow.svg\", scale=1, engine='kaleido')"
   ]
  }
 ],
 "metadata": {
  "kernelspec": {
   "display_name": "new_base",
   "language": "python",
   "name": "python3"
  },
  "language_info": {
   "codemirror_mode": {
    "name": "ipython",
    "version": 3
   },
   "file_extension": ".py",
   "mimetype": "text/x-python",
   "name": "python",
   "nbconvert_exporter": "python",
   "pygments_lexer": "ipython3",
   "version": "3.12.7"
  }
 },
 "nbformat": 4,
 "nbformat_minor": 2
}
