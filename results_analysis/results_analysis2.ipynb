{
 "cells": [
  {
   "cell_type": "code",
   "execution_count": 236,
   "metadata": {},
   "outputs": [],
   "source": [
    "import pandas as pd\n",
    "import numpy as np\n",
    "import plotly.express as px\n",
    "import plotly.graph_objects as go\n",
    "from plotly.subplots import make_subplots\n",
    "import seaborn as sns\n",
    "import matplotlib.pyplot as plt"
   ]
  },
  {
   "cell_type": "code",
   "execution_count": 237,
   "metadata": {},
   "outputs": [],
   "source": [
    "canoe_results = 'canoe_trn_lifetimes'\n",
    "scenario_name = 'trn_lifetimes'"
   ]
  },
  {
   "cell_type": "markdown",
   "metadata": {},
   "source": [
    "# Import CEF2023 tables\n",
    "https://open.canada.ca/data/en/dataset/7643c948-d661-4d90-ab91-e9ac732fc737"
   ]
  },
  {
   "cell_type": "code",
   "execution_count": 238,
   "metadata": {},
   "outputs": [
    {
     "name": "stderr",
     "output_type": "stream",
     "text": [
      "C:\\Users\\rashi\\AppData\\Local\\Temp\\ipykernel_31072\\1259712670.py:7: FutureWarning:\n",
      "\n",
      "A value is trying to be set on a copy of a DataFrame or Series through chained assignment using an inplace method.\n",
      "The behavior will change in pandas 3.0. This inplace method will never work because the intermediate object on which we are setting values always behaves as a copy.\n",
      "\n",
      "For example, when doing 'df[col].method(value, inplace=True)', try using 'df.method({col: value}, inplace=True)' or df[col] = df[col].method(value) instead, to perform the operation inplace on the original object.\n",
      "\n",
      "\n",
      "\n"
     ]
    }
   ],
   "source": [
    "model_years = [2021, 2025, 2030, 2035, 2040, 2045, 2050]\n",
    "\n",
    "cef23_demand = pd.read_csv('cef2023_data/end-use-demand-2023.csv', index_col=0) #   Energy in PJ\n",
    "bau23_demand = cef23_demand[(cef23_demand['Region'] == 'Ontario') & (cef23_demand['Scenario'] == 'Current Measures') &\n",
    "                            (cef23_demand['Year'].isin(model_years))].sort_values(['Sector', 'Variable', 'Year'])\n",
    "bau23_demand.rename(columns={'Value': 'Demand (PJ)', 'Variable': 'Carrier', 'Year': 'Period'}, inplace=True)\n",
    "bau23_demand['Carrier'].replace({'Motor Gasoline': 'Gasoline', 'Hydrogen': 'H2'}, inplace=True)\n",
    "bau23_demand['Period'] = bau23_demand['Period'].astype(str)\n",
    "\n",
    "cef23_h2 = pd.read_csv('cef2023_data/hydrogen-production-2023.csv', index_col=0)\n",
    "bau23_h2 = cef23_h2[(cef23_h2['Region'] == 'Ontario') & (cef23_h2['Scenario'] == 'Current Measures') &\n",
    "                            (cef23_h2['Year'].isin(model_years))].sort_values(['Variable', 'Year'])\n",
    "bau23_h2.rename(columns={'Value': 'Production (Mt)', 'Variable': 'Pathway', 'Year': 'Period'}, inplace=True)\n",
    "bau23_h2['Period'] = bau23_h2['Period'].astype(str)\n",
    "bau23_h2['Pathway'] = bau23_h2['Pathway'].replace({'Natural gas with CCS': 'SMR w CCS'})\n",
    "\n",
    "cef23_gen = pd.read_csv('cef2023_data/electricity-generation-2023.csv', index_col=0)\n",
    "bau23_gen = cef23_gen[(cef23_gen['Region'] == 'Ontario') & (cef23_gen['Scenario'] == 'Current Measures') &\n",
    "                            (cef23_gen['Year'].isin(model_years))].sort_values(['Variable', 'Year'])\n",
    "bau23_gen.rename(columns={'Value': 'Generation (GWh)', 'Variable': 'Plant Type', 'Year': 'Period'}, inplace=True)\n",
    "bau23_gen['Period'] = bau23_gen['Period'].astype(str)\n",
    "\n",
    "cef23_cap = pd.read_csv('cef2023_data/electricity-capacity-2023.csv')\n",
    "bau23_cap = cef23_cap[(cef23_cap['Region'] == 'Ontario') & (cef23_cap['Scenario'] == 'Current Measures') &\n",
    "                            (cef23_cap['Year'].isin(model_years))].sort_values(['Variable', 'Year'])\n",
    "bau23_cap.rename(columns={'Value': 'Capacity (MW)', 'Variable': 'Plant Type', 'Year': 'Period'}, inplace=True)\n",
    "bau23_cap['Period'] = bau23_cap['Period'].astype(str)"
   ]
  },
  {
   "cell_type": "markdown",
   "metadata": {},
   "source": [
    "# Import gTech-IESD results"
   ]
  },
  {
   "cell_type": "code",
   "execution_count": 239,
   "metadata": {},
   "outputs": [],
   "source": [
    "years = pd.DataFrame({'year': range(2020, 2051)})\n",
    "\n",
    "def import_navius_data(df):\n",
    "    df = df[(df['policy'] == 'legislated') & (df['swb'] == 'ref') & (df['ccs'] == 'ref') & (df['hyd'] == 'ref') & \n",
    "            (df['oil'] == 'ref') & (df['dac'] == 'no')].drop(columns=['region', 'policy', 'swb', 'ccs', 'hyd', 'oil', 'dac', 'lul']).reset_index(drop='index')\n",
    "    labels = list(set(df.columns.to_list()) - set(['year', 'value']))\n",
    "    unique_combinations = df[labels].drop_duplicates()\n",
    "    expanded_df = unique_combinations.assign(key=1).merge(years.assign(key=1), on='key').drop('key', axis=1)\n",
    "    merged_df = expanded_df.merge(df, on=['year'] + labels, how='left')\n",
    "    merged_df = merged_df.sort_values(by=labels + ['year'])\n",
    "    merged_df['value'] = merged_df.groupby(labels, as_index=False)['value'].apply(lambda group: group.interpolate()).reset_index(level=0, drop=True)\n",
    "    interpolated_2021 = merged_df[merged_df['year'] == 2021]\n",
    "    df = pd.concat([df, interpolated_2021]).sort_values(by=['year'] + labels).reset_index(drop=True)\n",
    "    return df[df['year'] != 2020]"
   ]
  },
  {
   "cell_type": "code",
   "execution_count": 240,
   "metadata": {},
   "outputs": [],
   "source": [
    "gtech23_vehshare = pd.read_csv('navius_regional_data_on/total market share of vehicles by type (%).csv', usecols=lambda column: column != 'id')\n",
    "gtech23_ref_vehshare = import_navius_data(gtech23_vehshare)\n",
    "gtech23_ref_vehshare.rename(columns={'year': 'Period', 'value': 'Market Share (%)', 'eu_name': 'Class', 'technology': 'Drivetrain'}, inplace=True)\n",
    "gtech23_ref_vehshare['Class'] = gtech23_ref_vehshare['Class'].replace({'light-duty': 'LDV', 'heavy-duty': 'HDV'})\n",
    "gtech23_ref_vehshare['Drivetrain'] = gtech23_ref_vehshare['Drivetrain'].replace({'fcev': 'FCEV', 'ice': 'ICEV', 'bev': 'BEV'})\n",
    "\n",
    "gtech23_demand = pd.read_csv('navius_regional_data_on/energy consumption by sector (PJ).csv', usecols=lambda column: column != 'id')\n",
    "gtech23_ref_demand = import_navius_data(gtech23_demand)\n",
    "gtech23_ref_demand.rename(columns={'year': 'Period', 'value': 'Demand (PJ)', 'sector': 'Sector'}, inplace=True)\n",
    "\n",
    "gtech23_ghg = pd.read_csv('navius_regional_data_on/emissions by sector (Mt).csv', usecols=lambda column: column != 'id')\n",
    "gtech23_ref_ghg = import_navius_data(gtech23_ghg)\n",
    "gtech23_ref_ghg.rename(columns={'year': 'Period', 'value': 'CO2e (Mt)', 'sector': 'Sector'}, inplace=True)\n",
    "\n",
    "gtech23_gen = pd.read_csv('navius_regional_data_on/electricity generation by source (TWh).csv', usecols=lambda column: column != 'id')\n",
    "gtech23_ref_gen = import_navius_data(gtech23_gen)\n",
    "gtech23_ref_gen.rename(columns={'year': 'Period', 'value': 'Generation (TWh)', 'type': 'Plant Type'}, inplace=True)\n",
    "\n",
    "gtech23_cap = pd.read_csv('navius_regional_data_on/electricity capacity by source (MW).csv', usecols=lambda column: column != 'id')\n",
    "gtech23_ref_cap = import_navius_data(gtech23_cap)\n",
    "gtech23_ref_cap.rename(columns={'year': 'Period', 'value': 'Capacity (MW)', 'type': 'Plant Type'}, inplace=True)\n",
    "gtech23_ref_cap['Plant Type'] = gtech23_ref_cap['Plant Type'].replace({'fcev': 'FCEV', 'ice': 'ICEV', 'bev': 'BEV'})\n",
    "\n",
    "gtech23_h2 = pd.read_csv('navius_regional_data_on/hydrogen production by type (PJ).csv', usecols=lambda column: column != 'id')\n",
    "gtech23_ref_h2 = import_navius_data(gtech23_h2)\n",
    "gtech23_ref_h2.rename(columns={'year': 'Period', 'value': 'Production (PJ)', 'prod_type': 'Pathway'}, inplace=True)\n",
    "gtech23_ref_h2['Pathway'] = gtech23_ref_h2['Pathway'].replace({'electrolysis': 'Electrolysis', 'smr with ccs': 'SMR w CCS'})"
   ]
  },
  {
   "cell_type": "code",
   "execution_count": 241,
   "metadata": {},
   "outputs": [
    {
     "name": "stderr",
     "output_type": "stream",
     "text": [
      "C:\\Users\\rashi\\AppData\\Local\\Temp\\ipykernel_31072\\2137638342.py:1: FutureWarning:\n",
      "\n",
      "A value is trying to be set on a copy of a DataFrame or Series through chained assignment using an inplace method.\n",
      "The behavior will change in pandas 3.0. This inplace method will never work because the intermediate object on which we are setting values always behaves as a copy.\n",
      "\n",
      "For example, when doing 'df[col].method(value, inplace=True)', try using 'df.method({col: value}, inplace=True)' or df[col] = df[col].method(value) instead, to perform the operation inplace on the original object.\n",
      "\n",
      "\n",
      "\n"
     ]
    }
   ],
   "source": [
    "gtech23_ref_demand['Sector'].replace({'agriculture & waste': 'Agriculture', 'commercial buildings': 'Commercial', 'residential buildings': 'Residential', \n",
    "                                      'industry': 'Industrial', 'oil and gas': 'Oil & Gas', 'direct air capture': 'Industrial', 'Utilities': 'Utilities',\n",
    "                                      'light-duty transport': 'Transportation', 'medium & heavy-duty transport': 'Transportation', 'other transport': 'Transportation'}, inplace=True)\n",
    "gtech23_ref_demand = gtech23_ref_demand.groupby(['Period', 'Sector'], as_index=False).sum()[['Period', 'Sector', 'Demand (PJ)']]"
   ]
  },
  {
   "cell_type": "markdown",
   "metadata": {},
   "source": [
    "# Import Canoe results"
   ]
  },
  {
   "cell_type": "code",
   "execution_count": 242,
   "metadata": {},
   "outputs": [],
   "source": [
    "ref_file = canoe_results + '/' + scenario_name + '.xlsx'\n",
    "\n",
    "ref_trnact = pd.read_excel(ref_file, sheet_name='Activity_Transport').fillna(0)\n",
    "ref_trncap = pd.read_excel(ref_file, sheet_name='Capacity_Transport').fillna(0)\n",
    "ref_trnnewcap = pd.read_excel(ref_file, sheet_name='NewCapacity_Transport').fillna(0)\n",
    "\n",
    "ref_trnact = pd.read_excel(ref_file, sheet_name='Activity_Transport').fillna(0)\n",
    "ref_resact = pd.read_excel(ref_file, sheet_name='Activity_residential').fillna(0)\n",
    "ref_commact = pd.read_excel(ref_file, sheet_name='Activity_commercial').fillna(0)\n",
    "ref_indact = pd.read_excel(ref_file, sheet_name='Activity_industrial').fillna(0)\n",
    "\n",
    "ref_elcact = pd.read_excel(ref_file, sheet_name='Activity_electricity').fillna(0)\n",
    "ref_elccap = pd.read_excel(ref_file, sheet_name='Capacity_electricity').fillna(0)\n",
    "ref_elcnewcap = pd.read_excel(ref_file, sheet_name='NewCapacity_electricity').fillna(0)\n",
    "\n",
    "ref_ghg = pd.read_excel(ref_file, sheet_name='Emissions').fillna(0)\n",
    "ref_costs = pd.read_excel(ref_file, sheet_name='Costs').fillna(0)"
   ]
  },
  {
   "cell_type": "code",
   "execution_count": 243,
   "metadata": {},
   "outputs": [],
   "source": [
    "class_mapping = {\n",
    "    'T_HDV_AJ': 'Air jet',\n",
    "    'T_HDV_B': 'Bus',\n",
    "    'T_HDV_R': 'Rail',\n",
    "    'T_HDV_T': 'HD Truck',\n",
    "    'T_HDV_W': 'Marine vessel',\n",
    "    'T_MDV_T': 'MD Truck',\n",
    "    'T_LDV_C_': 'LD Car',\n",
    "    'T_LDV_LT': 'LD Truck',\n",
    "    'T_LDV_M': 'Motorcycle',\n",
    "    'T_IMP_': 'Fuel use',\n",
    "    'H2_distribution': 'Fuel use'\n",
    "}\n",
    "\n",
    "def map_tech_to_mode(tech):\n",
    "    for prefix, class_name in class_mapping.items():\n",
    "        if tech.startswith(prefix):\n",
    "            return class_name\n",
    "    return 'Other'\n",
    "\n",
    "ref_trnact['Mode'] = ref_trnact['Technology'].apply(map_tech_to_mode)\n",
    "ref_trncap['Mode'] = ref_trncap['Technology'].apply(map_tech_to_mode)\n",
    "ref_trnnewcap['Mode'] = ref_trnnewcap['Technology'].apply(map_tech_to_mode)"
   ]
  },
  {
   "cell_type": "code",
   "execution_count": 244,
   "metadata": {},
   "outputs": [],
   "source": [
    "carrier_mapping = {\n",
    "        'BEV': 'BEV',\n",
    "        'GSL': 'Gasoline',\n",
    "        'DSL': 'Diesel',\n",
    "        'CNG': 'CNG',\n",
    "        'LNG': 'LNG',\n",
    "        'JTF': 'Aviation Fuel',\n",
    "        'SPK': 'Synthetic Kerosene', #  Might change for SAF\n",
    "        'HFO': 'Heavy Fuel Oil',\n",
    "        'MDO': 'Marine Diesel Oil',\n",
    "        'H2': 'H2',\n",
    "        'ELC': 'Electricity'\n",
    "    }\n",
    "\n",
    "def map_tech_to_drivetrain(tech):\n",
    "    # Check hybrids first\n",
    "    if 'PHEV' in tech:\n",
    "        return 'PHEV'\n",
    "    if 'FC' in tech:\n",
    "        return 'FCEV'\n",
    "    if 'HEV' in tech:\n",
    "        return 'HEV'\n",
    "    if 'RDSL' in tech:\n",
    "            return 'Renewable Diesel' #     Might differentiate\n",
    "    if 'ETH' in tech:\n",
    "        return 'Ethanol' #                  Might differentiate\n",
    "    for prefix, carrier in carrier_mapping.items():\n",
    "        if prefix in tech:\n",
    "            return carrier \n",
    "    return 'Other'\n",
    "\n",
    "ref_trnact['Carrier'] = ref_trnact['Technology'].apply(map_tech_to_drivetrain)\n",
    "ref_trncap['Carrier'] = ref_trncap['Technology'].apply(map_tech_to_drivetrain)\n",
    "ref_trnnewcap['Carrier'] = ref_trnnewcap['Technology'].apply(map_tech_to_drivetrain)"
   ]
  },
  {
   "cell_type": "markdown",
   "metadata": {},
   "source": [
    "# Demand graph template"
   ]
  },
  {
   "cell_type": "markdown",
   "metadata": {},
   "source": [
    "## CANOE ref vs CEF 2023 current policies - transport energy demand by carrier"
   ]
  },
  {
   "cell_type": "code",
   "execution_count": 245,
   "metadata": {},
   "outputs": [],
   "source": [
    "def carrier_grouping(carrier):\n",
    "    if carrier == 'CNG':\n",
    "        return 'Natural Gas'\n",
    "    if carrier == 'LNG':\n",
    "        return 'Natural Gas'\n",
    "    if carrier == 'Ethanol':\n",
    "        return 'Biofuels'\n",
    "    if carrier == 'Renewable Diesel':\n",
    "        return 'Biofuels'\n",
    "    if carrier == 'Synthetic Kerosene':\n",
    "        return 'Biofuels'\n",
    "    if carrier == 'Heavy Fuel Oil':\n",
    "        return 'Marine Fuels'\n",
    "    if carrier == 'Marine Diesel Oil':\n",
    "        return 'Marine Fuels'\n",
    "    if carrier == 'LPG':\n",
    "        return 'Other'\n",
    "    if carrier == 'Lubricants':\n",
    "        return 'Other'\n",
    "    else: return carrier"
   ]
  },
  {
   "cell_type": "code",
   "execution_count": 246,
   "metadata": {},
   "outputs": [],
   "source": [
    "ref_trnact.columns = ref_trnact.columns.astype(str)\n",
    "periods = [col for col in ref_trnact.columns if col.isdigit()]\n",
    "params = [col for col in ref_trnact.columns if not col.isdigit()]\n",
    "ref_trnact = pd.melt(ref_trnact, id_vars=params, var_name='Period', value_name='Demand (PJ)', value_vars=periods)"
   ]
  },
  {
   "cell_type": "code",
   "execution_count": 247,
   "metadata": {},
   "outputs": [
    {
     "data": {
      "application/vnd.plotly.v1+json": {
       "config": {
        "plotlyServerURL": "https://plot.ly"
       },
       "data": [
        {
         "hovertemplate": "Carrier=Gasoline<br>Period=2021<br>Source=%{x}<br>Demand (PJ)=%{y}<extra></extra>",
         "legendgroup": "Gasoline",
         "marker": {
          "color": "#3366CC",
          "pattern": {
           "shape": ""
          }
         },
         "name": "Gasoline",
         "orientation": "v",
         "showlegend": true,
         "textfont": {
          "size": 9
         },
         "textposition": "auto",
         "texttemplate": "%{y:.1f}",
         "type": "bar",
         "x": [
          "CANOE",
          "CEF2023"
         ],
         "xaxis": "x",
         "y": {
          "bdata": "5fYnYAW1d0B56SYxCGJ7QA==",
          "dtype": "f8"
         },
         "yaxis": "y"
        },
        {
         "hovertemplate": "Carrier=Gasoline<br>Period=2025<br>Source=%{x}<br>Demand (PJ)=%{y}<extra></extra>",
         "legendgroup": "Gasoline",
         "marker": {
          "color": "#3366CC",
          "pattern": {
           "shape": ""
          }
         },
         "name": "Gasoline",
         "orientation": "v",
         "showlegend": false,
         "textfont": {
          "size": 9
         },
         "textposition": "auto",
         "texttemplate": "%{y:.1f}",
         "type": "bar",
         "x": [
          "CANOE",
          "CEF2023"
         ],
         "xaxis": "x2",
         "y": {
          "bdata": "SxdZDSkMd0CfzarP1bh8QA==",
          "dtype": "f8"
         },
         "yaxis": "y2"
        },
        {
         "hovertemplate": "Carrier=Gasoline<br>Period=2030<br>Source=%{x}<br>Demand (PJ)=%{y}<extra></extra>",
         "legendgroup": "Gasoline",
         "marker": {
          "color": "#3366CC",
          "pattern": {
           "shape": ""
          }
         },
         "name": "Gasoline",
         "orientation": "v",
         "showlegend": false,
         "textfont": {
          "size": 9
         },
         "textposition": "auto",
         "texttemplate": "%{y:.1f}",
         "type": "bar",
         "x": [
          "CANOE",
          "CEF2023"
         ],
         "xaxis": "x3",
         "y": {
          "bdata": "zHF14AaVbUAYJlMFo317QA==",
          "dtype": "f8"
         },
         "yaxis": "y3"
        },
        {
         "hovertemplate": "Carrier=Gasoline<br>Period=2035<br>Source=%{x}<br>Demand (PJ)=%{y}<extra></extra>",
         "legendgroup": "Gasoline",
         "marker": {
          "color": "#3366CC",
          "pattern": {
           "shape": ""
          }
         },
         "name": "Gasoline",
         "orientation": "v",
         "showlegend": false,
         "textfont": {
          "size": 9
         },
         "textposition": "auto",
         "texttemplate": "%{y:.1f}",
         "type": "bar",
         "x": [
          "CANOE",
          "CEF2023"
         ],
         "xaxis": "x4",
         "y": {
          "bdata": "PGwuoFHKV0Am5IOezUN5QA==",
          "dtype": "f8"
         },
         "yaxis": "y4"
        },
        {
         "hovertemplate": "Carrier=Gasoline<br>Period=2040<br>Source=%{x}<br>Demand (PJ)=%{y}<extra></extra>",
         "legendgroup": "Gasoline",
         "marker": {
          "color": "#3366CC",
          "pattern": {
           "shape": ""
          }
         },
         "name": "Gasoline",
         "orientation": "v",
         "showlegend": false,
         "textfont": {
          "size": 9
         },
         "textposition": "auto",
         "texttemplate": "%{y:.1f}",
         "type": "bar",
         "x": [
          "CANOE",
          "CEF2023"
         ],
         "xaxis": "x5",
         "y": {
          "bdata": "VSa9qfl4QECrPldbsc52QA==",
          "dtype": "f8"
         },
         "yaxis": "y5"
        },
        {
         "hovertemplate": "Carrier=Gasoline<br>Period=2045<br>Source=%{x}<br>Demand (PJ)=%{y}<extra></extra>",
         "legendgroup": "Gasoline",
         "marker": {
          "color": "#3366CC",
          "pattern": {
           "shape": ""
          }
         },
         "name": "Gasoline",
         "orientation": "v",
         "showlegend": false,
         "textfont": {
          "size": 9
         },
         "textposition": "auto",
         "texttemplate": "%{y:.1f}",
         "type": "bar",
         "x": [
          "CANOE",
          "CEF2023"
         ],
         "xaxis": "x6",
         "y": {
          "bdata": "0aP0+sD/LEDwhclUwcx0QA==",
          "dtype": "f8"
         },
         "yaxis": "y6"
        },
        {
         "hovertemplate": "Carrier=Gasoline<br>Period=2050<br>Source=%{x}<br>Demand (PJ)=%{y}<extra></extra>",
         "legendgroup": "Gasoline",
         "marker": {
          "color": "#3366CC",
          "pattern": {
           "shape": ""
          }
         },
         "name": "Gasoline",
         "orientation": "v",
         "showlegend": false,
         "textfont": {
          "size": 9
         },
         "textposition": "auto",
         "texttemplate": "%{y:.1f}",
         "type": "bar",
         "x": [
          "CANOE",
          "CEF2023"
         ],
         "xaxis": "x7",
         "y": {
          "bdata": "q5Aya4aC1z9gdk8eFqRzQA==",
          "dtype": "f8"
         },
         "yaxis": "y7"
        },
        {
         "hovertemplate": "Carrier=Diesel<br>Period=2021<br>Source=%{x}<br>Demand (PJ)=%{y}<extra></extra>",
         "legendgroup": "Diesel",
         "marker": {
          "color": "#DC3912",
          "pattern": {
           "shape": ""
          }
         },
         "name": "Diesel",
         "orientation": "v",
         "showlegend": true,
         "textfont": {
          "size": 9
         },
         "textposition": "auto",
         "texttemplate": "%{y:.1f}",
         "type": "bar",
         "x": [
          "CANOE",
          "CEF2023"
         ],
         "xaxis": "x",
         "y": {
          "bdata": "gAKHlFC5bkDAWyBB8eFpQA==",
          "dtype": "f8"
         },
         "yaxis": "y"
        },
        {
         "hovertemplate": "Carrier=Diesel<br>Period=2025<br>Source=%{x}<br>Demand (PJ)=%{y}<extra></extra>",
         "legendgroup": "Diesel",
         "marker": {
          "color": "#DC3912",
          "pattern": {
           "shape": ""
          }
         },
         "name": "Diesel",
         "orientation": "v",
         "showlegend": false,
         "textfont": {
          "size": 9
         },
         "textposition": "auto",
         "texttemplate": "%{y:.1f}",
         "type": "bar",
         "x": [
          "CANOE",
          "CEF2023"
         ],
         "xaxis": "x2",
         "y": {
          "bdata": "tcFDMwYecEAH8BZIUAZsQA==",
          "dtype": "f8"
         },
         "yaxis": "y2"
        },
        {
         "hovertemplate": "Carrier=Diesel<br>Period=2030<br>Source=%{x}<br>Demand (PJ)=%{y}<extra></extra>",
         "legendgroup": "Diesel",
         "marker": {
          "color": "#DC3912",
          "pattern": {
           "shape": ""
          }
         },
         "name": "Diesel",
         "orientation": "v",
         "showlegend": false,
         "textfont": {
          "size": 9
         },
         "textposition": "auto",
         "texttemplate": "%{y:.1f}",
         "type": "bar",
         "x": [
          "CANOE",
          "CEF2023"
         ],
         "xaxis": "x3",
         "y": {
          "bdata": "n8L2g6gXb0BWfa62YnVtQA==",
          "dtype": "f8"
         },
         "yaxis": "y3"
        },
        {
         "hovertemplate": "Carrier=Diesel<br>Period=2035<br>Source=%{x}<br>Demand (PJ)=%{y}<extra></extra>",
         "legendgroup": "Diesel",
         "marker": {
          "color": "#DC3912",
          "pattern": {
           "shape": ""
          }
         },
         "name": "Diesel",
         "orientation": "v",
         "showlegend": false,
         "textfont": {
          "size": 9
         },
         "textposition": "auto",
         "texttemplate": "%{y:.1f}",
         "type": "bar",
         "x": [
          "CANOE",
          "CEF2023"
         ],
         "xaxis": "x4",
         "y": {
          "bdata": "9IFgR0Pna0CASL99HSRuQA==",
          "dtype": "f8"
         },
         "yaxis": "y4"
        },
        {
         "hovertemplate": "Carrier=Diesel<br>Period=2040<br>Source=%{x}<br>Demand (PJ)=%{y}<extra></extra>",
         "legendgroup": "Diesel",
         "marker": {
          "color": "#DC3912",
          "pattern": {
           "shape": ""
          }
         },
         "name": "Diesel",
         "orientation": "v",
         "showlegend": false,
         "textfont": {
          "size": 9
         },
         "textposition": "auto",
         "texttemplate": "%{y:.1f}",
         "type": "bar",
         "x": [
          "CANOE",
          "CEF2023"
         ],
         "xaxis": "x5",
         "y": {
          "bdata": "ITc5OYqNZEDOqs/VVmBvQA==",
          "dtype": "f8"
         },
         "yaxis": "y5"
        },
        {
         "hovertemplate": "Carrier=Diesel<br>Period=2045<br>Source=%{x}<br>Demand (PJ)=%{y}<extra></extra>",
         "legendgroup": "Diesel",
         "marker": {
          "color": "#DC3912",
          "pattern": {
           "shape": ""
          }
         },
         "name": "Diesel",
         "orientation": "v",
         "showlegend": false,
         "textfont": {
          "size": 9
         },
         "textposition": "auto",
         "texttemplate": "%{y:.1f}",
         "type": "bar",
         "x": [
          "CANOE",
          "CEF2023"
         ],
         "xaxis": "x6",
         "y": {
          "bdata": "of9cgTydZUA8TtGRXHxwQA==",
          "dtype": "f8"
         },
         "yaxis": "y6"
        },
        {
         "hovertemplate": "Carrier=Diesel<br>Period=2050<br>Source=%{x}<br>Demand (PJ)=%{y}<extra></extra>",
         "legendgroup": "Diesel",
         "marker": {
          "color": "#DC3912",
          "pattern": {
           "shape": ""
          }
         },
         "name": "Diesel",
         "orientation": "v",
         "showlegend": false,
         "textfont": {
          "size": 9
         },
         "textposition": "auto",
         "texttemplate": "%{y:.1f}",
         "type": "bar",
         "x": [
          "CANOE",
          "CEF2023"
         ],
         "xaxis": "x7",
         "y": {
          "bdata": "H16GopHZZUBfmEwVjKFxQA==",
          "dtype": "f8"
         },
         "yaxis": "y7"
        },
        {
         "hovertemplate": "Carrier=Biofuels<br>Period=2021<br>Source=%{x}<br>Demand (PJ)=%{y}<extra></extra>",
         "legendgroup": "Biofuels",
         "marker": {
          "color": "#FF9900",
          "pattern": {
           "shape": ""
          }
         },
         "name": "Biofuels",
         "orientation": "v",
         "showlegend": true,
         "textfont": {
          "size": 9
         },
         "textposition": "auto",
         "texttemplate": "%{y:.1f}",
         "type": "bar",
         "x": [
          "CANOE",
          "CEF2023"
         ],
         "xaxis": "x",
         "y": {
          "bdata": "VnhWNZIxSkAg0m9fB1ZLQA==",
          "dtype": "f8"
         },
         "yaxis": "y"
        },
        {
         "hovertemplate": "Carrier=Biofuels<br>Period=2025<br>Source=%{x}<br>Demand (PJ)=%{y}<extra></extra>",
         "legendgroup": "Biofuels",
         "marker": {
          "color": "#FF9900",
          "pattern": {
           "shape": ""
          }
         },
         "name": "Biofuels",
         "orientation": "v",
         "showlegend": false,
         "textfont": {
          "size": 9
         },
         "textposition": "auto",
         "texttemplate": "%{y:.1f}",
         "type": "bar",
         "x": [
          "CANOE",
          "CEF2023"
         ],
         "xaxis": "x2",
         "y": {
          "bdata": "mrRWNDUpTECDwMqhRYpQQA==",
          "dtype": "f8"
         },
         "yaxis": "y2"
        },
        {
         "hovertemplate": "Carrier=Biofuels<br>Period=2030<br>Source=%{x}<br>Demand (PJ)=%{y}<extra></extra>",
         "legendgroup": "Biofuels",
         "marker": {
          "color": "#FF9900",
          "pattern": {
           "shape": ""
          }
         },
         "name": "Biofuels",
         "orientation": "v",
         "showlegend": false,
         "textfont": {
          "size": 9
         },
         "textposition": "auto",
         "texttemplate": "%{y:.1f}",
         "type": "bar",
         "x": [
          "CANOE",
          "CEF2023"
         ],
         "xaxis": "x3",
         "y": {
          "bdata": "rlxRlkYQSkA7AU2EDfdQQA==",
          "dtype": "f8"
         },
         "yaxis": "y3"
        },
        {
         "hovertemplate": "Carrier=Biofuels<br>Period=2035<br>Source=%{x}<br>Demand (PJ)=%{y}<extra></extra>",
         "legendgroup": "Biofuels",
         "marker": {
          "color": "#FF9900",
          "pattern": {
           "shape": ""
          }
         },
         "name": "Biofuels",
         "orientation": "v",
         "showlegend": false,
         "textfont": {
          "size": 9
         },
         "textposition": "auto",
         "texttemplate": "%{y:.1f}",
         "type": "bar",
         "x": [
          "CANOE",
          "CEF2023"
         ],
         "xaxis": "x4",
         "y": {
          "bdata": "JeEx3iIYOkA/V1uxvwRSQA==",
          "dtype": "f8"
         },
         "yaxis": "y4"
        },
        {
         "hovertemplate": "Carrier=Biofuels<br>Period=2040<br>Source=%{x}<br>Demand (PJ)=%{y}<extra></extra>",
         "legendgroup": "Biofuels",
         "marker": {
          "color": "#FF9900",
          "pattern": {
           "shape": ""
          }
         },
         "name": "Biofuels",
         "orientation": "v",
         "showlegend": false,
         "textfont": {
          "size": 9
         },
         "textposition": "auto",
         "texttemplate": "%{y:.1f}",
         "type": "bar",
         "x": [
          "CANOE",
          "CEF2023"
         ],
         "xaxis": "x5",
         "y": {
          "bdata": "nw0Qt2FUKUD7XG3F/oJRQA==",
          "dtype": "f8"
         },
         "yaxis": "y5"
        },
        {
         "hovertemplate": "Carrier=Biofuels<br>Period=2045<br>Source=%{x}<br>Demand (PJ)=%{y}<extra></extra>",
         "legendgroup": "Biofuels",
         "marker": {
          "color": "#FF9900",
          "pattern": {
           "shape": ""
          }
         },
         "name": "Biofuels",
         "orientation": "v",
         "showlegend": false,
         "textfont": {
          "size": 9
         },
         "textposition": "auto",
         "texttemplate": "%{y:.1f}",
         "type": "bar",
         "x": [
          "CANOE",
          "CEF2023"
         ],
         "xaxis": "x6",
         "y": {
          "bdata": "VMcEAOaGI0DEsS5uozVRQA==",
          "dtype": "f8"
         },
         "yaxis": "y6"
        },
        {
         "hovertemplate": "Carrier=Biofuels<br>Period=2050<br>Source=%{x}<br>Demand (PJ)=%{y}<extra></extra>",
         "legendgroup": "Biofuels",
         "marker": {
          "color": "#FF9900",
          "pattern": {
           "shape": ""
          }
         },
         "name": "Biofuels",
         "orientation": "v",
         "showlegend": false,
         "textfont": {
          "size": 9
         },
         "textposition": "auto",
         "texttemplate": "%{y:.1f}",
         "type": "bar",
         "x": [
          "CANOE",
          "CEF2023"
         ],
         "xaxis": "x7",
         "y": {
          "bdata": "GNrm/nhkHUBaZDvfT01RQA==",
          "dtype": "f8"
         },
         "yaxis": "y7"
        },
        {
         "hovertemplate": "Carrier=Electricity<br>Period=2021<br>Source=%{x}<br>Demand (PJ)=%{y}<extra></extra>",
         "legendgroup": "Electricity",
         "marker": {
          "color": "#109618",
          "pattern": {
           "shape": ""
          }
         },
         "name": "Electricity",
         "orientation": "v",
         "showlegend": true,
         "textfont": {
          "size": 9
         },
         "textposition": "auto",
         "texttemplate": "%{y:.1f}",
         "type": "bar",
         "x": [
          "CANOE",
          "CEF2023"
         ],
         "xaxis": "x",
         "y": {
          "bdata": "3dohGLDCLEDtnjws1Jr0Pw==",
          "dtype": "f8"
         },
         "yaxis": "y"
        },
        {
         "hovertemplate": "Carrier=Electricity<br>Period=2025<br>Source=%{x}<br>Demand (PJ)=%{y}<extra></extra>",
         "legendgroup": "Electricity",
         "marker": {
          "color": "#109618",
          "pattern": {
           "shape": ""
          }
         },
         "name": "Electricity",
         "orientation": "v",
         "showlegend": false,
         "textfont": {
          "size": 9
         },
         "textposition": "auto",
         "texttemplate": "%{y:.1f}",
         "type": "bar",
         "x": [
          "CANOE",
          "CEF2023"
         ],
         "xaxis": "x2",
         "y": {
          "bdata": "A+DUIJS8QUAOT6+UZcgRQA==",
          "dtype": "f8"
         },
         "yaxis": "y2"
        },
        {
         "hovertemplate": "Carrier=Electricity<br>Period=2030<br>Source=%{x}<br>Demand (PJ)=%{y}<extra></extra>",
         "legendgroup": "Electricity",
         "marker": {
          "color": "#109618",
          "pattern": {
           "shape": ""
          }
         },
         "name": "Electricity",
         "orientation": "v",
         "showlegend": false,
         "textfont": {
          "size": 9
         },
         "textposition": "auto",
         "texttemplate": "%{y:.1f}",
         "type": "bar",
         "x": [
          "CANOE",
          "CEF2023"
         ],
         "xaxis": "x3",
         "y": {
          "bdata": "yKL3zZN2T0CcM6K0N5gqQA==",
          "dtype": "f8"
         },
         "yaxis": "y3"
        },
        {
         "hovertemplate": "Carrier=Electricity<br>Period=2035<br>Source=%{x}<br>Demand (PJ)=%{y}<extra></extra>",
         "legendgroup": "Electricity",
         "marker": {
          "color": "#109618",
          "pattern": {
           "shape": ""
          }
         },
         "name": "Electricity",
         "orientation": "v",
         "showlegend": false,
         "textfont": {
          "size": 9
         },
         "textposition": "auto",
         "texttemplate": "%{y:.1f}",
         "type": "bar",
         "x": [
          "CANOE",
          "CEF2023"
         ],
         "xaxis": "x4",
         "y": {
          "bdata": "m0kT8pd4WUAaUdobfAE7QA==",
          "dtype": "f8"
         },
         "yaxis": "y4"
        },
        {
         "hovertemplate": "Carrier=Electricity<br>Period=2040<br>Source=%{x}<br>Demand (PJ)=%{y}<extra></extra>",
         "legendgroup": "Electricity",
         "marker": {
          "color": "#109618",
          "pattern": {
           "shape": ""
          }
         },
         "name": "Electricity",
         "orientation": "v",
         "showlegend": false,
         "textfont": {
          "size": 9
         },
         "textposition": "auto",
         "texttemplate": "%{y:.1f}",
         "type": "bar",
         "x": [
          "CANOE",
          "CEF2023"
         ],
         "xaxis": "x5",
         "y": {
          "bdata": "5HhFJNhtXUDpt68D5wRHQA==",
          "dtype": "f8"
         },
         "yaxis": "y5"
        },
        {
         "hovertemplate": "Carrier=Electricity<br>Period=2045<br>Source=%{x}<br>Demand (PJ)=%{y}<extra></extra>",
         "legendgroup": "Electricity",
         "marker": {
          "color": "#109618",
          "pattern": {
           "shape": ""
          }
         },
         "name": "Electricity",
         "orientation": "v",
         "showlegend": false,
         "textfont": {
          "size": 9
         },
         "textposition": "auto",
         "texttemplate": "%{y:.1f}",
         "type": "bar",
         "x": [
          "CANOE",
          "CEF2023"
         ],
         "xaxis": "x6",
         "y": {
          "bdata": "tVPGUTI5YEAKaCJseEpPQA==",
          "dtype": "f8"
         },
         "yaxis": "y6"
        },
        {
         "hovertemplate": "Carrier=Electricity<br>Period=2050<br>Source=%{x}<br>Demand (PJ)=%{y}<extra></extra>",
         "legendgroup": "Electricity",
         "marker": {
          "color": "#109618",
          "pattern": {
           "shape": ""
          }
         },
         "name": "Electricity",
         "orientation": "v",
         "showlegend": false,
         "textfont": {
          "size": 9
         },
         "textposition": "auto",
         "texttemplate": "%{y:.1f}",
         "type": "bar",
         "x": [
          "CANOE",
          "CEF2023"
         ],
         "xaxis": "x7",
         "y": {
          "bdata": "lgcanfWtYUCgGi/dJKJSQA==",
          "dtype": "f8"
         },
         "yaxis": "y7"
        },
        {
         "hovertemplate": "Carrier=H2<br>Period=2021<br>Source=%{x}<br>Demand (PJ)=%{y}<extra></extra>",
         "legendgroup": "H2",
         "marker": {
          "color": "#990099",
          "pattern": {
           "shape": ""
          }
         },
         "name": "H2",
         "orientation": "v",
         "showlegend": true,
         "textfont": {
          "size": 9
         },
         "textposition": "auto",
         "texttemplate": "%{y:.1f}",
         "type": "bar",
         "x": [
          "CANOE",
          "CEF2023"
         ],
         "xaxis": "x",
         "y": {
          "bdata": "2n30HkByF0AtQxzr4jYaPw==",
          "dtype": "f8"
         },
         "yaxis": "y"
        },
        {
         "hovertemplate": "Carrier=H2<br>Period=2025<br>Source=%{x}<br>Demand (PJ)=%{y}<extra></extra>",
         "legendgroup": "H2",
         "marker": {
          "color": "#990099",
          "pattern": {
           "shape": ""
          }
         },
         "name": "H2",
         "orientation": "v",
         "showlegend": false,
         "textfont": {
          "size": 9
         },
         "textposition": "auto",
         "texttemplate": "%{y:.1f}",
         "type": "bar",
         "x": [
          "CANOE",
          "CEF2023"
         ],
         "xaxis": "x2",
         "y": {
          "bdata": "9V/xgB3dJ0AtQxzr4jYaPw==",
          "dtype": "f8"
         },
         "yaxis": "y2"
        },
        {
         "hovertemplate": "Carrier=H2<br>Period=2030<br>Source=%{x}<br>Demand (PJ)=%{y}<extra></extra>",
         "legendgroup": "H2",
         "marker": {
          "color": "#990099",
          "pattern": {
           "shape": ""
          }
         },
         "name": "H2",
         "orientation": "v",
         "showlegend": false,
         "textfont": {
          "size": 9
         },
         "textposition": "auto",
         "texttemplate": "%{y:.1f}",
         "type": "bar",
         "x": [
          "CANOE",
          "CEF2023"
         ],
         "xaxis": "x3",
         "y": {
          "bdata": "HBwHzSHUNUAtQxzr4jYaPw==",
          "dtype": "f8"
         },
         "yaxis": "y3"
        },
        {
         "hovertemplate": "Carrier=H2<br>Period=2035<br>Source=%{x}<br>Demand (PJ)=%{y}<extra></extra>",
         "legendgroup": "H2",
         "marker": {
          "color": "#990099",
          "pattern": {
           "shape": ""
          }
         },
         "name": "H2",
         "orientation": "v",
         "showlegend": false,
         "textfont": {
          "size": 9
         },
         "textposition": "auto",
         "texttemplate": "%{y:.1f}",
         "type": "bar",
         "x": [
          "CANOE",
          "CEF2023"
         ],
         "xaxis": "x4",
         "y": {
          "bdata": "wtbOfOv5Q0AtQxzr4jYaPw==",
          "dtype": "f8"
         },
         "yaxis": "y4"
        },
        {
         "hovertemplate": "Carrier=H2<br>Period=2040<br>Source=%{x}<br>Demand (PJ)=%{y}<extra></extra>",
         "legendgroup": "H2",
         "marker": {
          "color": "#990099",
          "pattern": {
           "shape": ""
          }
         },
         "name": "H2",
         "orientation": "v",
         "showlegend": false,
         "textfont": {
          "size": 9
         },
         "textposition": "auto",
         "texttemplate": "%{y:.1f}",
         "type": "bar",
         "x": [
          "CANOE",
          "CEF2023"
         ],
         "xaxis": "x5",
         "y": {
          "bdata": "kYu4y567VEAtQxzr4jYaPw==",
          "dtype": "f8"
         },
         "yaxis": "y5"
        },
        {
         "hovertemplate": "Carrier=H2<br>Period=2045<br>Source=%{x}<br>Demand (PJ)=%{y}<extra></extra>",
         "legendgroup": "H2",
         "marker": {
          "color": "#990099",
          "pattern": {
           "shape": ""
          }
         },
         "name": "H2",
         "orientation": "v",
         "showlegend": false,
         "textfont": {
          "size": 9
         },
         "textposition": "auto",
         "texttemplate": "%{y:.1f}",
         "type": "bar",
         "x": [
          "CANOE",
          "CEF2023"
         ],
         "xaxis": "x6",
         "y": {
          "bdata": "i92cH82MVUAtQxzr4jYaPw==",
          "dtype": "f8"
         },
         "yaxis": "y6"
        },
        {
         "hovertemplate": "Carrier=H2<br>Period=2050<br>Source=%{x}<br>Demand (PJ)=%{y}<extra></extra>",
         "legendgroup": "H2",
         "marker": {
          "color": "#990099",
          "pattern": {
           "shape": ""
          }
         },
         "name": "H2",
         "orientation": "v",
         "showlegend": false,
         "textfont": {
          "size": 9
         },
         "textposition": "auto",
         "texttemplate": "%{y:.1f}",
         "type": "bar",
         "x": [
          "CANOE",
          "CEF2023"
         ],
         "xaxis": "x7",
         "y": {
          "bdata": "J1wEBxzbVkAtQxzr4jYaPw==",
          "dtype": "f8"
         },
         "yaxis": "y7"
        },
        {
         "hovertemplate": "Carrier=Natural Gas<br>Period=2021<br>Source=%{x}<br>Demand (PJ)=%{y}<extra></extra>",
         "legendgroup": "Natural Gas",
         "marker": {
          "color": "#0099C6",
          "pattern": {
           "shape": ""
          }
         },
         "name": "Natural Gas",
         "orientation": "v",
         "showlegend": true,
         "textfont": {
          "size": 9
         },
         "textposition": "auto",
         "texttemplate": "%{y:.1f}",
         "type": "bar",
         "x": [
          "CANOE",
          "CEF2023"
         ],
         "xaxis": "x",
         "y": {
          "bdata": "26qKG8OOyj+4rwPnjCjlPw==",
          "dtype": "f8"
         },
         "yaxis": "y"
        },
        {
         "hovertemplate": "Carrier=Natural Gas<br>Period=2025<br>Source=%{x}<br>Demand (PJ)=%{y}<extra></extra>",
         "legendgroup": "Natural Gas",
         "marker": {
          "color": "#0099C6",
          "pattern": {
           "shape": ""
          }
         },
         "name": "Natural Gas",
         "orientation": "v",
         "showlegend": false,
         "textfont": {
          "size": 9
         },
         "textposition": "auto",
         "texttemplate": "%{y:.1f}",
         "type": "bar",
         "x": [
          "CANOE",
          "CEF2023"
         ],
         "xaxis": "x2",
         "y": {
          "bdata": "HQ+4aepAyz8dyeU/pN/oPw==",
          "dtype": "f8"
         },
         "yaxis": "y2"
        },
        {
         "hovertemplate": "Carrier=Natural Gas<br>Period=2030<br>Source=%{x}<br>Demand (PJ)=%{y}<extra></extra>",
         "legendgroup": "Natural Gas",
         "marker": {
          "color": "#0099C6",
          "pattern": {
           "shape": ""
          }
         },
         "name": "Natural Gas",
         "orientation": "v",
         "showlegend": false,
         "textfont": {
          "size": 9
         },
         "textposition": "auto",
         "texttemplate": "%{y:.1f}",
         "type": "bar",
         "x": [
          "CANOE",
          "CEF2023"
         ],
         "xaxis": "x3",
         "y": {
          "bdata": "0PanFdHhtz/7OnDOiNLqPw==",
          "dtype": "f8"
         },
         "yaxis": "y3"
        },
        {
         "hovertemplate": "Carrier=Natural Gas<br>Period=2035<br>Source=%{x}<br>Demand (PJ)=%{y}<extra></extra>",
         "legendgroup": "Natural Gas",
         "marker": {
          "color": "#0099C6",
          "pattern": {
           "shape": ""
          }
         },
         "name": "Natural Gas",
         "orientation": "v",
         "showlegend": false,
         "textfont": {
          "size": 9
         },
         "textposition": "auto",
         "texttemplate": "%{y:.1f}",
         "type": "bar",
         "x": [
          "CANOE",
          "CEF2023"
         ],
         "xaxis": "x4",
         "y": {
          "bdata": "AAAAAAAAAAAN4C2QoPjrPw==",
          "dtype": "f8"
         },
         "yaxis": "y4"
        },
        {
         "hovertemplate": "Carrier=Natural Gas<br>Period=2040<br>Source=%{x}<br>Demand (PJ)=%{y}<extra></extra>",
         "legendgroup": "Natural Gas",
         "marker": {
          "color": "#0099C6",
          "pattern": {
           "shape": ""
          }
         },
         "name": "Natural Gas",
         "orientation": "v",
         "showlegend": false,
         "textfont": {
          "size": 9
         },
         "textposition": "auto",
         "texttemplate": "%{y:.1f}",
         "type": "bar",
         "x": [
          "CANOE",
          "CEF2023"
         ],
         "xaxis": "x5",
         "y": {
          "bdata": "AAAAAAAAAAC1pnnHKTrsPw==",
          "dtype": "f8"
         },
         "yaxis": "y5"
        },
        {
         "hovertemplate": "Carrier=Natural Gas<br>Period=2045<br>Source=%{x}<br>Demand (PJ)=%{y}<extra></extra>",
         "legendgroup": "Natural Gas",
         "marker": {
          "color": "#0099C6",
          "pattern": {
           "shape": ""
          }
         },
         "name": "Natural Gas",
         "orientation": "v",
         "showlegend": false,
         "textfont": {
          "size": 9
         },
         "textposition": "auto",
         "texttemplate": "%{y:.1f}",
         "type": "bar",
         "x": [
          "CANOE",
          "CEF2023"
         ],
         "xaxis": "x6",
         "y": {
          "bdata": "AAAAAAAAAACoxks3iUHsPw==",
          "dtype": "f8"
         },
         "yaxis": "y6"
        },
        {
         "hovertemplate": "Carrier=Natural Gas<br>Period=2050<br>Source=%{x}<br>Demand (PJ)=%{y}<extra></extra>",
         "legendgroup": "Natural Gas",
         "marker": {
          "color": "#0099C6",
          "pattern": {
           "shape": ""
          }
         },
         "name": "Natural Gas",
         "orientation": "v",
         "showlegend": false,
         "textfont": {
          "size": 9
         },
         "textposition": "auto",
         "texttemplate": "%{y:.1f}",
         "type": "bar",
         "x": [
          "CANOE",
          "CEF2023"
         ],
         "xaxis": "x7",
         "y": {
          "bdata": "AAAAAAAAAAAFo5I6AU3sPw==",
          "dtype": "f8"
         },
         "yaxis": "y7"
        },
        {
         "hovertemplate": "Carrier=Aviation Fuel<br>Period=2021<br>Source=%{x}<br>Demand (PJ)=%{y}<extra></extra>",
         "legendgroup": "Aviation Fuel",
         "marker": {
          "color": "#DD4477",
          "pattern": {
           "shape": ""
          }
         },
         "name": "Aviation Fuel",
         "orientation": "v",
         "showlegend": true,
         "textfont": {
          "size": 9
         },
         "textposition": "auto",
         "texttemplate": "%{y:.1f}",
         "type": "bar",
         "x": [
          "CANOE",
          "CEF2023"
         ],
         "xaxis": "x",
         "y": {
          "bdata": "nEAY7kRySUDysFBrms9IQA==",
          "dtype": "f8"
         },
         "yaxis": "y"
        },
        {
         "hovertemplate": "Carrier=Aviation Fuel<br>Period=2025<br>Source=%{x}<br>Demand (PJ)=%{y}<extra></extra>",
         "legendgroup": "Aviation Fuel",
         "marker": {
          "color": "#DD4477",
          "pattern": {
           "shape": ""
          }
         },
         "name": "Aviation Fuel",
         "orientation": "v",
         "showlegend": false,
         "textfont": {
          "size": 9
         },
         "textposition": "auto",
         "texttemplate": "%{y:.1f}",
         "type": "bar",
         "x": [
          "CANOE",
          "CEF2023"
         ],
         "xaxis": "x2",
         "y": {
          "bdata": "n2KC9jpHTEDIBz2bVa9aQA==",
          "dtype": "f8"
         },
         "yaxis": "y2"
        },
        {
         "hovertemplate": "Carrier=Aviation Fuel<br>Period=2030<br>Source=%{x}<br>Demand (PJ)=%{y}<extra></extra>",
         "legendgroup": "Aviation Fuel",
         "marker": {
          "color": "#DD4477",
          "pattern": {
           "shape": ""
          }
         },
         "name": "Aviation Fuel",
         "orientation": "v",
         "showlegend": false,
         "textfont": {
          "size": 9
         },
         "textposition": "auto",
         "texttemplate": "%{y:.1f}",
         "type": "bar",
         "x": [
          "CANOE",
          "CEF2023"
         ],
         "xaxis": "x3",
         "y": {
          "bdata": "CNGnCr0tT0Cxv+yePHxdQA==",
          "dtype": "f8"
         },
         "yaxis": "y3"
        },
        {
         "hovertemplate": "Carrier=Aviation Fuel<br>Period=2035<br>Source=%{x}<br>Demand (PJ)=%{y}<extra></extra>",
         "legendgroup": "Aviation Fuel",
         "marker": {
          "color": "#DD4477",
          "pattern": {
           "shape": ""
          }
         },
         "name": "Aviation Fuel",
         "orientation": "v",
         "showlegend": false,
         "textfont": {
          "size": 9
         },
         "textposition": "auto",
         "texttemplate": "%{y:.1f}",
         "type": "bar",
         "x": [
          "CANOE",
          "CEF2023"
         ],
         "xaxis": "x4",
         "y": {
          "bdata": "mQ8CCSy1UEBkzF1LyL9fQA==",
          "dtype": "f8"
         },
         "yaxis": "y4"
        },
        {
         "hovertemplate": "Carrier=Aviation Fuel<br>Period=2040<br>Source=%{x}<br>Demand (PJ)=%{y}<extra></extra>",
         "legendgroup": "Aviation Fuel",
         "marker": {
          "color": "#DD4477",
          "pattern": {
           "shape": ""
          }
         },
         "name": "Aviation Fuel",
         "orientation": "v",
         "showlegend": false,
         "textfont": {
          "size": 9
         },
         "textposition": "auto",
         "texttemplate": "%{y:.1f}",
         "type": "bar",
         "x": [
          "CANOE",
          "CEF2023"
         ],
         "xaxis": "x5",
         "y": {
          "bdata": "XVt8eMENUkC1N/jCZLhgQA==",
          "dtype": "f8"
         },
         "yaxis": "y5"
        },
        {
         "hovertemplate": "Carrier=Aviation Fuel<br>Period=2045<br>Source=%{x}<br>Demand (PJ)=%{y}<extra></extra>",
         "legendgroup": "Aviation Fuel",
         "marker": {
          "color": "#DD4477",
          "pattern": {
           "shape": ""
          }
         },
         "name": "Aviation Fuel",
         "orientation": "v",
         "showlegend": false,
         "textfont": {
          "size": 9
         },
         "textposition": "auto",
         "texttemplate": "%{y:.1f}",
         "type": "bar",
         "x": [
          "CANOE",
          "CEF2023"
         ],
         "xaxis": "x6",
         "y": {
          "bdata": "zoV8+NJEVECGWtO841hhQA==",
          "dtype": "f8"
         },
         "yaxis": "y6"
        },
        {
         "hovertemplate": "Carrier=Aviation Fuel<br>Period=2050<br>Source=%{x}<br>Demand (PJ)=%{y}<extra></extra>",
         "legendgroup": "Aviation Fuel",
         "marker": {
          "color": "#DD4477",
          "pattern": {
           "shape": ""
          }
         },
         "name": "Aviation Fuel",
         "orientation": "v",
         "showlegend": false,
         "textfont": {
          "size": 9
         },
         "textposition": "auto",
         "texttemplate": "%{y:.1f}",
         "type": "bar",
         "x": [
          "CANOE",
          "CEF2023"
         ],
         "xaxis": "x7",
         "y": {
          "bdata": "ADi68tfEVUBpb/CFydxhQA==",
          "dtype": "f8"
         },
         "yaxis": "y7"
        },
        {
         "hovertemplate": "Carrier=Marine Fuels<br>Period=2021<br>Source=%{x}<br>Demand (PJ)=%{y}<extra></extra>",
         "legendgroup": "Marine Fuels",
         "marker": {
          "color": "#B82E2E",
          "pattern": {
           "shape": ""
          }
         },
         "name": "Marine Fuels",
         "orientation": "v",
         "showlegend": true,
         "textfont": {
          "size": 9
         },
         "textposition": "auto",
         "texttemplate": "%{y:.1f}",
         "type": "bar",
         "x": [
          "CANOE",
          "CEF2023"
         ],
         "xaxis": "x",
         "y": {
          "bdata": "p6j0y1dpG0D1udqK/eUvQA==",
          "dtype": "f8"
         },
         "yaxis": "y"
        },
        {
         "hovertemplate": "Carrier=Marine Fuels<br>Period=2025<br>Source=%{x}<br>Demand (PJ)=%{y}<extra></extra>",
         "legendgroup": "Marine Fuels",
         "marker": {
          "color": "#B82E2E",
          "pattern": {
           "shape": ""
          }
         },
         "name": "Marine Fuels",
         "orientation": "v",
         "showlegend": false,
         "textfont": {
          "size": 9
         },
         "textposition": "auto",
         "texttemplate": "%{y:.1f}",
         "type": "bar",
         "x": [
          "CANOE",
          "CEF2023"
         ],
         "xaxis": "x2",
         "y": {
          "bdata": "kgZfxldRHkBTliGOdREsQA==",
          "dtype": "f8"
         },
         "yaxis": "y2"
        },
        {
         "hovertemplate": "Carrier=Marine Fuels<br>Period=2030<br>Source=%{x}<br>Demand (PJ)=%{y}<extra></extra>",
         "legendgroup": "Marine Fuels",
         "marker": {
          "color": "#B82E2E",
          "pattern": {
           "shape": ""
          }
         },
         "name": "Marine Fuels",
         "orientation": "v",
         "showlegend": false,
         "textfont": {
          "size": 9
         },
         "textposition": "auto",
         "texttemplate": "%{y:.1f}",
         "type": "bar",
         "x": [
          "CANOE",
          "CEF2023"
         ],
         "xaxis": "x3",
         "y": {
          "bdata": "iMFUEdOZIEDwFkhQ/LglQA==",
          "dtype": "f8"
         },
         "yaxis": "y3"
        },
        {
         "hovertemplate": "Carrier=Marine Fuels<br>Period=2035<br>Source=%{x}<br>Demand (PJ)=%{y}<extra></extra>",
         "legendgroup": "Marine Fuels",
         "marker": {
          "color": "#B82E2E",
          "pattern": {
           "shape": ""
          }
         },
         "name": "Marine Fuels",
         "orientation": "v",
         "showlegend": false,
         "textfont": {
          "size": 9
         },
         "textposition": "auto",
         "texttemplate": "%{y:.1f}",
         "type": "bar",
         "x": [
          "CANOE",
          "CEF2023"
         ],
         "xaxis": "x4",
         "y": {
          "bdata": "m5yRQ/0dIUBaZDvfT80gQA==",
          "dtype": "f8"
         },
         "yaxis": "y4"
        },
        {
         "hovertemplate": "Carrier=Marine Fuels<br>Period=2040<br>Source=%{x}<br>Demand (PJ)=%{y}<extra></extra>",
         "legendgroup": "Marine Fuels",
         "marker": {
          "color": "#B82E2E",
          "pattern": {
           "shape": ""
          }
         },
         "name": "Marine Fuels",
         "orientation": "v",
         "showlegend": false,
         "textfont": {
          "size": 9
         },
         "textposition": "auto",
         "texttemplate": "%{y:.1f}",
         "type": "bar",
         "x": [
          "CANOE",
          "CEF2023"
         ],
         "xaxis": "x5",
         "y": {
          "bdata": "WrxKW+/KIUCoV8oyxHEbQA==",
          "dtype": "f8"
         },
         "yaxis": "y5"
        },
        {
         "hovertemplate": "Carrier=Marine Fuels<br>Period=2045<br>Source=%{x}<br>Demand (PJ)=%{y}<extra></extra>",
         "legendgroup": "Marine Fuels",
         "marker": {
          "color": "#B82E2E",
          "pattern": {
           "shape": ""
          }
         },
         "name": "Marine Fuels",
         "orientation": "v",
         "showlegend": false,
         "textfont": {
          "size": 9
         },
         "textposition": "auto",
         "texttemplate": "%{y:.1f}",
         "type": "bar",
         "x": [
          "CANOE",
          "CEF2023"
         ],
         "xaxis": "x6",
         "y": {
          "bdata": "kqkZmazJIUCJ0t7gCxMYQA==",
          "dtype": "f8"
         },
         "yaxis": "y6"
        },
        {
         "hovertemplate": "Carrier=Marine Fuels<br>Period=2050<br>Source=%{x}<br>Demand (PJ)=%{y}<extra></extra>",
         "legendgroup": "Marine Fuels",
         "marker": {
          "color": "#B82E2E",
          "pattern": {
           "shape": ""
          }
         },
         "name": "Marine Fuels",
         "orientation": "v",
         "showlegend": false,
         "textfont": {
          "size": 9
         },
         "textposition": "auto",
         "texttemplate": "%{y:.1f}",
         "type": "bar",
         "x": [
          "CANOE",
          "CEF2023"
         ],
         "xaxis": "x7",
         "y": {
          "bdata": "lGnqkrAkIkDXo3A9CtcWQA==",
          "dtype": "f8"
         },
         "yaxis": "y7"
        },
        {
         "hovertemplate": "Carrier=Other<br>Period=2021<br>Source=%{x}<br>Demand (PJ)=%{y}<extra></extra>",
         "legendgroup": "Other",
         "marker": {
          "color": "#316395",
          "pattern": {
           "shape": ""
          }
         },
         "name": "Other",
         "orientation": "v",
         "showlegend": true,
         "textfont": {
          "size": 9
         },
         "textposition": "auto",
         "texttemplate": "%{y:.1f}",
         "type": "bar",
         "x": [
          "CEF2023"
         ],
         "xaxis": "x",
         "y": {
          "bdata": "lPYGX5gMGUA=",
          "dtype": "f8"
         },
         "yaxis": "y"
        },
        {
         "hovertemplate": "Carrier=Other<br>Period=2025<br>Source=%{x}<br>Demand (PJ)=%{y}<extra></extra>",
         "legendgroup": "Other",
         "marker": {
          "color": "#316395",
          "pattern": {
           "shape": ""
          }
         },
         "name": "Other",
         "orientation": "v",
         "showlegend": false,
         "textfont": {
          "size": 9
         },
         "textposition": "auto",
         "texttemplate": "%{y:.1f}",
         "type": "bar",
         "x": [
          "CEF2023"
         ],
         "xaxis": "x2",
         "y": {
          "bdata": "dCSX/5B+GEA=",
          "dtype": "f8"
         },
         "yaxis": "y2"
        },
        {
         "hovertemplate": "Carrier=Other<br>Period=2030<br>Source=%{x}<br>Demand (PJ)=%{y}<extra></extra>",
         "legendgroup": "Other",
         "marker": {
          "color": "#316395",
          "pattern": {
           "shape": ""
          }
         },
         "name": "Other",
         "orientation": "v",
         "showlegend": false,
         "textfont": {
          "size": 9
         },
         "textposition": "auto",
         "texttemplate": "%{y:.1f}",
         "type": "bar",
         "x": [
          "CEF2023"
         ],
         "xaxis": "x3",
         "y": {
          "bdata": "/Bhz1xKyFkA=",
          "dtype": "f8"
         },
         "yaxis": "y3"
        },
        {
         "hovertemplate": "Carrier=Other<br>Period=2035<br>Source=%{x}<br>Demand (PJ)=%{y}<extra></extra>",
         "legendgroup": "Other",
         "marker": {
          "color": "#316395",
          "pattern": {
           "shape": ""
          }
         },
         "name": "Other",
         "orientation": "v",
         "showlegend": false,
         "textfont": {
          "size": 9
         },
         "textposition": "auto",
         "texttemplate": "%{y:.1f}",
         "type": "bar",
         "x": [
          "CEF2023"
         ],
         "xaxis": "x4",
         "y": {
          "bdata": "j1N0JJf/FEA=",
          "dtype": "f8"
         },
         "yaxis": "y4"
        },
        {
         "hovertemplate": "Carrier=Other<br>Period=2040<br>Source=%{x}<br>Demand (PJ)=%{y}<extra></extra>",
         "legendgroup": "Other",
         "marker": {
          "color": "#316395",
          "pattern": {
           "shape": ""
          }
         },
         "name": "Other",
         "orientation": "v",
         "showlegend": false,
         "textfont": {
          "size": 9
         },
         "textposition": "auto",
         "texttemplate": "%{y:.1f}",
         "type": "bar",
         "x": [
          "CEF2023"
         ],
         "xaxis": "x5",
         "y": {
          "bdata": "OIlBYOVQE0A=",
          "dtype": "f8"
         },
         "yaxis": "y5"
        },
        {
         "hovertemplate": "Carrier=Other<br>Period=2045<br>Source=%{x}<br>Demand (PJ)=%{y}<extra></extra>",
         "legendgroup": "Other",
         "marker": {
          "color": "#316395",
          "pattern": {
           "shape": ""
          }
         },
         "name": "Other",
         "orientation": "v",
         "showlegend": false,
         "textfont": {
          "size": 9
         },
         "textposition": "auto",
         "texttemplate": "%{y:.1f}",
         "type": "bar",
         "x": [
          "CEF2023"
         ],
         "xaxis": "x6",
         "y": {
          "bdata": "ukkMAisHEkA=",
          "dtype": "f8"
         },
         "yaxis": "y6"
        },
        {
         "hovertemplate": "Carrier=Other<br>Period=2050<br>Source=%{x}<br>Demand (PJ)=%{y}<extra></extra>",
         "legendgroup": "Other",
         "marker": {
          "color": "#316395",
          "pattern": {
           "shape": ""
          }
         },
         "name": "Other",
         "orientation": "v",
         "showlegend": false,
         "textfont": {
          "size": 9
         },
         "textposition": "auto",
         "texttemplate": "%{y:.1f}",
         "type": "bar",
         "x": [
          "CEF2023"
         ],
         "xaxis": "x7",
         "y": {
          "bdata": "EoPAyqFFEUA=",
          "dtype": "f8"
         },
         "yaxis": "y7"
        }
       ],
       "layout": {
        "annotations": [
         {
          "font": {},
          "showarrow": false,
          "text": "2021",
          "x": 0.06285714285714285,
          "xanchor": "center",
          "xref": "paper",
          "y": -0.05,
          "yanchor": "top",
          "yref": "paper"
         },
         {
          "font": {},
          "showarrow": false,
          "text": "2025",
          "x": 0.20857142857142852,
          "xanchor": "center",
          "xref": "paper",
          "y": -0.05,
          "yanchor": "top",
          "yref": "paper"
         },
         {
          "font": {},
          "showarrow": false,
          "text": "2030",
          "x": 0.3542857142857142,
          "xanchor": "center",
          "xref": "paper",
          "y": -0.05,
          "yanchor": "top",
          "yref": "paper"
         },
         {
          "font": {},
          "showarrow": false,
          "text": "2035",
          "x": 0.5,
          "xanchor": "center",
          "xref": "paper",
          "y": -0.05,
          "yanchor": "top",
          "yref": "paper"
         },
         {
          "font": {},
          "showarrow": false,
          "text": "2040",
          "x": 0.6457142857142856,
          "xanchor": "center",
          "xref": "paper",
          "y": -0.05,
          "yanchor": "top",
          "yref": "paper"
         },
         {
          "font": {},
          "showarrow": false,
          "text": "2045",
          "x": 0.7914285714285713,
          "xanchor": "center",
          "xref": "paper",
          "y": -0.05,
          "yanchor": "top",
          "yref": "paper"
         },
         {
          "font": {},
          "showarrow": false,
          "text": "2050",
          "x": 0.937142857142857,
          "xanchor": "center",
          "xref": "paper",
          "y": -0.05,
          "yanchor": "top",
          "yref": "paper"
         }
        ],
        "bargap": 0.1,
        "barmode": "stack",
        "font": {
         "size": 14
        },
        "height": 650,
        "legend": {
         "orientation": "h",
         "title": {
          "text": ""
         },
         "tracegroupgap": 0,
         "x": 0.5,
         "xanchor": "center",
         "y": 1.04,
         "yanchor": "top"
        },
        "margin": {
         "t": 60
        },
        "template": {
         "data": {
          "bar": [
           {
            "error_x": {
             "color": "#2a3f5f"
            },
            "error_y": {
             "color": "#2a3f5f"
            },
            "marker": {
             "line": {
              "color": "white",
              "width": 0.5
             },
             "pattern": {
              "fillmode": "overlay",
              "size": 10,
              "solidity": 0.2
             }
            },
            "type": "bar"
           }
          ],
          "barpolar": [
           {
            "marker": {
             "line": {
              "color": "white",
              "width": 0.5
             },
             "pattern": {
              "fillmode": "overlay",
              "size": 10,
              "solidity": 0.2
             }
            },
            "type": "barpolar"
           }
          ],
          "carpet": [
           {
            "aaxis": {
             "endlinecolor": "#2a3f5f",
             "gridcolor": "#C8D4E3",
             "linecolor": "#C8D4E3",
             "minorgridcolor": "#C8D4E3",
             "startlinecolor": "#2a3f5f"
            },
            "baxis": {
             "endlinecolor": "#2a3f5f",
             "gridcolor": "#C8D4E3",
             "linecolor": "#C8D4E3",
             "minorgridcolor": "#C8D4E3",
             "startlinecolor": "#2a3f5f"
            },
            "type": "carpet"
           }
          ],
          "choropleth": [
           {
            "colorbar": {
             "outlinewidth": 0,
             "ticks": ""
            },
            "type": "choropleth"
           }
          ],
          "contour": [
           {
            "colorbar": {
             "outlinewidth": 0,
             "ticks": ""
            },
            "colorscale": [
             [
              0,
              "#0d0887"
             ],
             [
              0.1111111111111111,
              "#46039f"
             ],
             [
              0.2222222222222222,
              "#7201a8"
             ],
             [
              0.3333333333333333,
              "#9c179e"
             ],
             [
              0.4444444444444444,
              "#bd3786"
             ],
             [
              0.5555555555555556,
              "#d8576b"
             ],
             [
              0.6666666666666666,
              "#ed7953"
             ],
             [
              0.7777777777777778,
              "#fb9f3a"
             ],
             [
              0.8888888888888888,
              "#fdca26"
             ],
             [
              1,
              "#f0f921"
             ]
            ],
            "type": "contour"
           }
          ],
          "contourcarpet": [
           {
            "colorbar": {
             "outlinewidth": 0,
             "ticks": ""
            },
            "type": "contourcarpet"
           }
          ],
          "heatmap": [
           {
            "colorbar": {
             "outlinewidth": 0,
             "ticks": ""
            },
            "colorscale": [
             [
              0,
              "#0d0887"
             ],
             [
              0.1111111111111111,
              "#46039f"
             ],
             [
              0.2222222222222222,
              "#7201a8"
             ],
             [
              0.3333333333333333,
              "#9c179e"
             ],
             [
              0.4444444444444444,
              "#bd3786"
             ],
             [
              0.5555555555555556,
              "#d8576b"
             ],
             [
              0.6666666666666666,
              "#ed7953"
             ],
             [
              0.7777777777777778,
              "#fb9f3a"
             ],
             [
              0.8888888888888888,
              "#fdca26"
             ],
             [
              1,
              "#f0f921"
             ]
            ],
            "type": "heatmap"
           }
          ],
          "histogram": [
           {
            "marker": {
             "pattern": {
              "fillmode": "overlay",
              "size": 10,
              "solidity": 0.2
             }
            },
            "type": "histogram"
           }
          ],
          "histogram2d": [
           {
            "colorbar": {
             "outlinewidth": 0,
             "ticks": ""
            },
            "colorscale": [
             [
              0,
              "#0d0887"
             ],
             [
              0.1111111111111111,
              "#46039f"
             ],
             [
              0.2222222222222222,
              "#7201a8"
             ],
             [
              0.3333333333333333,
              "#9c179e"
             ],
             [
              0.4444444444444444,
              "#bd3786"
             ],
             [
              0.5555555555555556,
              "#d8576b"
             ],
             [
              0.6666666666666666,
              "#ed7953"
             ],
             [
              0.7777777777777778,
              "#fb9f3a"
             ],
             [
              0.8888888888888888,
              "#fdca26"
             ],
             [
              1,
              "#f0f921"
             ]
            ],
            "type": "histogram2d"
           }
          ],
          "histogram2dcontour": [
           {
            "colorbar": {
             "outlinewidth": 0,
             "ticks": ""
            },
            "colorscale": [
             [
              0,
              "#0d0887"
             ],
             [
              0.1111111111111111,
              "#46039f"
             ],
             [
              0.2222222222222222,
              "#7201a8"
             ],
             [
              0.3333333333333333,
              "#9c179e"
             ],
             [
              0.4444444444444444,
              "#bd3786"
             ],
             [
              0.5555555555555556,
              "#d8576b"
             ],
             [
              0.6666666666666666,
              "#ed7953"
             ],
             [
              0.7777777777777778,
              "#fb9f3a"
             ],
             [
              0.8888888888888888,
              "#fdca26"
             ],
             [
              1,
              "#f0f921"
             ]
            ],
            "type": "histogram2dcontour"
           }
          ],
          "mesh3d": [
           {
            "colorbar": {
             "outlinewidth": 0,
             "ticks": ""
            },
            "type": "mesh3d"
           }
          ],
          "parcoords": [
           {
            "line": {
             "colorbar": {
              "outlinewidth": 0,
              "ticks": ""
             }
            },
            "type": "parcoords"
           }
          ],
          "pie": [
           {
            "automargin": true,
            "type": "pie"
           }
          ],
          "scatter": [
           {
            "fillpattern": {
             "fillmode": "overlay",
             "size": 10,
             "solidity": 0.2
            },
            "type": "scatter"
           }
          ],
          "scatter3d": [
           {
            "line": {
             "colorbar": {
              "outlinewidth": 0,
              "ticks": ""
             }
            },
            "marker": {
             "colorbar": {
              "outlinewidth": 0,
              "ticks": ""
             }
            },
            "type": "scatter3d"
           }
          ],
          "scattercarpet": [
           {
            "marker": {
             "colorbar": {
              "outlinewidth": 0,
              "ticks": ""
             }
            },
            "type": "scattercarpet"
           }
          ],
          "scattergeo": [
           {
            "marker": {
             "colorbar": {
              "outlinewidth": 0,
              "ticks": ""
             }
            },
            "type": "scattergeo"
           }
          ],
          "scattergl": [
           {
            "marker": {
             "colorbar": {
              "outlinewidth": 0,
              "ticks": ""
             }
            },
            "type": "scattergl"
           }
          ],
          "scattermap": [
           {
            "marker": {
             "colorbar": {
              "outlinewidth": 0,
              "ticks": ""
             }
            },
            "type": "scattermap"
           }
          ],
          "scattermapbox": [
           {
            "marker": {
             "colorbar": {
              "outlinewidth": 0,
              "ticks": ""
             }
            },
            "type": "scattermapbox"
           }
          ],
          "scatterpolar": [
           {
            "marker": {
             "colorbar": {
              "outlinewidth": 0,
              "ticks": ""
             }
            },
            "type": "scatterpolar"
           }
          ],
          "scatterpolargl": [
           {
            "marker": {
             "colorbar": {
              "outlinewidth": 0,
              "ticks": ""
             }
            },
            "type": "scatterpolargl"
           }
          ],
          "scatterternary": [
           {
            "marker": {
             "colorbar": {
              "outlinewidth": 0,
              "ticks": ""
             }
            },
            "type": "scatterternary"
           }
          ],
          "surface": [
           {
            "colorbar": {
             "outlinewidth": 0,
             "ticks": ""
            },
            "colorscale": [
             [
              0,
              "#0d0887"
             ],
             [
              0.1111111111111111,
              "#46039f"
             ],
             [
              0.2222222222222222,
              "#7201a8"
             ],
             [
              0.3333333333333333,
              "#9c179e"
             ],
             [
              0.4444444444444444,
              "#bd3786"
             ],
             [
              0.5555555555555556,
              "#d8576b"
             ],
             [
              0.6666666666666666,
              "#ed7953"
             ],
             [
              0.7777777777777778,
              "#fb9f3a"
             ],
             [
              0.8888888888888888,
              "#fdca26"
             ],
             [
              1,
              "#f0f921"
             ]
            ],
            "type": "surface"
           }
          ],
          "table": [
           {
            "cells": {
             "fill": {
              "color": "#EBF0F8"
             },
             "line": {
              "color": "white"
             }
            },
            "header": {
             "fill": {
              "color": "#C8D4E3"
             },
             "line": {
              "color": "white"
             }
            },
            "type": "table"
           }
          ]
         },
         "layout": {
          "annotationdefaults": {
           "arrowcolor": "#2a3f5f",
           "arrowhead": 0,
           "arrowwidth": 1
          },
          "autotypenumbers": "strict",
          "coloraxis": {
           "colorbar": {
            "outlinewidth": 0,
            "ticks": ""
           }
          },
          "colorscale": {
           "diverging": [
            [
             0,
             "#8e0152"
            ],
            [
             0.1,
             "#c51b7d"
            ],
            [
             0.2,
             "#de77ae"
            ],
            [
             0.3,
             "#f1b6da"
            ],
            [
             0.4,
             "#fde0ef"
            ],
            [
             0.5,
             "#f7f7f7"
            ],
            [
             0.6,
             "#e6f5d0"
            ],
            [
             0.7,
             "#b8e186"
            ],
            [
             0.8,
             "#7fbc41"
            ],
            [
             0.9,
             "#4d9221"
            ],
            [
             1,
             "#276419"
            ]
           ],
           "sequential": [
            [
             0,
             "#0d0887"
            ],
            [
             0.1111111111111111,
             "#46039f"
            ],
            [
             0.2222222222222222,
             "#7201a8"
            ],
            [
             0.3333333333333333,
             "#9c179e"
            ],
            [
             0.4444444444444444,
             "#bd3786"
            ],
            [
             0.5555555555555556,
             "#d8576b"
            ],
            [
             0.6666666666666666,
             "#ed7953"
            ],
            [
             0.7777777777777778,
             "#fb9f3a"
            ],
            [
             0.8888888888888888,
             "#fdca26"
            ],
            [
             1,
             "#f0f921"
            ]
           ],
           "sequentialminus": [
            [
             0,
             "#0d0887"
            ],
            [
             0.1111111111111111,
             "#46039f"
            ],
            [
             0.2222222222222222,
             "#7201a8"
            ],
            [
             0.3333333333333333,
             "#9c179e"
            ],
            [
             0.4444444444444444,
             "#bd3786"
            ],
            [
             0.5555555555555556,
             "#d8576b"
            ],
            [
             0.6666666666666666,
             "#ed7953"
            ],
            [
             0.7777777777777778,
             "#fb9f3a"
            ],
            [
             0.8888888888888888,
             "#fdca26"
            ],
            [
             1,
             "#f0f921"
            ]
           ]
          },
          "colorway": [
           "#636efa",
           "#EF553B",
           "#00cc96",
           "#ab63fa",
           "#FFA15A",
           "#19d3f3",
           "#FF6692",
           "#B6E880",
           "#FF97FF",
           "#FECB52"
          ],
          "font": {
           "color": "#2a3f5f"
          },
          "geo": {
           "bgcolor": "white",
           "lakecolor": "white",
           "landcolor": "white",
           "showlakes": true,
           "showland": true,
           "subunitcolor": "#C8D4E3"
          },
          "hoverlabel": {
           "align": "left"
          },
          "hovermode": "closest",
          "mapbox": {
           "style": "light"
          },
          "paper_bgcolor": "white",
          "plot_bgcolor": "white",
          "polar": {
           "angularaxis": {
            "gridcolor": "#EBF0F8",
            "linecolor": "#EBF0F8",
            "ticks": ""
           },
           "bgcolor": "white",
           "radialaxis": {
            "gridcolor": "#EBF0F8",
            "linecolor": "#EBF0F8",
            "ticks": ""
           }
          },
          "scene": {
           "xaxis": {
            "backgroundcolor": "white",
            "gridcolor": "#DFE8F3",
            "gridwidth": 2,
            "linecolor": "#EBF0F8",
            "showbackground": true,
            "ticks": "",
            "zerolinecolor": "#EBF0F8"
           },
           "yaxis": {
            "backgroundcolor": "white",
            "gridcolor": "#DFE8F3",
            "gridwidth": 2,
            "linecolor": "#EBF0F8",
            "showbackground": true,
            "ticks": "",
            "zerolinecolor": "#EBF0F8"
           },
           "zaxis": {
            "backgroundcolor": "white",
            "gridcolor": "#DFE8F3",
            "gridwidth": 2,
            "linecolor": "#EBF0F8",
            "showbackground": true,
            "ticks": "",
            "zerolinecolor": "#EBF0F8"
           }
          },
          "shapedefaults": {
           "line": {
            "color": "#2a3f5f"
           }
          },
          "ternary": {
           "aaxis": {
            "gridcolor": "#DFE8F3",
            "linecolor": "#A2B1C6",
            "ticks": ""
           },
           "baxis": {
            "gridcolor": "#DFE8F3",
            "linecolor": "#A2B1C6",
            "ticks": ""
           },
           "bgcolor": "white",
           "caxis": {
            "gridcolor": "#DFE8F3",
            "linecolor": "#A2B1C6",
            "ticks": ""
           }
          },
          "title": {
           "x": 0.05
          },
          "xaxis": {
           "automargin": true,
           "gridcolor": "#EBF0F8",
           "linecolor": "#EBF0F8",
           "ticks": "",
           "title": {
            "standoff": 15
           },
           "zerolinecolor": "#EBF0F8",
           "zerolinewidth": 2
          },
          "yaxis": {
           "automargin": true,
           "gridcolor": "#EBF0F8",
           "linecolor": "#EBF0F8",
           "ticks": "",
           "title": {
            "standoff": 15
           },
           "zerolinecolor": "#EBF0F8",
           "zerolinewidth": 2
          }
         }
        },
        "title": {
         "text": "Transportation secondary energy demand in ON by carrier and energy model",
         "x": 0.5,
         "xanchor": "center",
         "y": 0.97,
         "yanchor": "top"
        },
        "width": 1150,
        "xaxis": {
         "anchor": "y",
         "domain": [
          0,
          0.1257142857142857
         ],
         "title": {
          "text": ""
         }
        },
        "xaxis2": {
         "anchor": "y2",
         "domain": [
          0.14571428571428569,
          0.27142857142857135
         ],
         "matches": "x",
         "title": {
          "text": ""
         }
        },
        "xaxis3": {
         "anchor": "y3",
         "domain": [
          0.29142857142857137,
          0.41714285714285704
         ],
         "matches": "x",
         "title": {
          "text": ""
         }
        },
        "xaxis4": {
         "anchor": "y4",
         "domain": [
          0.4371428571428571,
          0.5628571428571428
         ],
         "matches": "x",
         "title": {
          "text": ""
         }
        },
        "xaxis5": {
         "anchor": "y5",
         "domain": [
          0.5828571428571427,
          0.7085714285714284
         ],
         "matches": "x",
         "title": {
          "text": ""
         }
        },
        "xaxis6": {
         "anchor": "y6",
         "domain": [
          0.7285714285714284,
          0.8542857142857141
         ],
         "matches": "x",
         "title": {
          "text": ""
         }
        },
        "xaxis7": {
         "anchor": "y7",
         "domain": [
          0.8742857142857142,
          0.9999999999999999
         ],
         "matches": "x",
         "title": {
          "text": ""
         }
        },
        "yaxis": {
         "anchor": "x",
         "domain": [
          0,
          1
         ],
         "dtick": 100,
         "title": {
          "standoff": 0,
          "text": "Demand (PJ)"
         }
        },
        "yaxis2": {
         "anchor": "x2",
         "domain": [
          0,
          1
         ],
         "dtick": 100,
         "matches": "y",
         "showticklabels": false
        },
        "yaxis3": {
         "anchor": "x3",
         "domain": [
          0,
          1
         ],
         "dtick": 100,
         "matches": "y",
         "showticklabels": false
        },
        "yaxis4": {
         "anchor": "x4",
         "domain": [
          0,
          1
         ],
         "dtick": 100,
         "matches": "y",
         "showticklabels": false
        },
        "yaxis5": {
         "anchor": "x5",
         "domain": [
          0,
          1
         ],
         "dtick": 100,
         "matches": "y",
         "showticklabels": false
        },
        "yaxis6": {
         "anchor": "x6",
         "domain": [
          0,
          1
         ],
         "dtick": 100,
         "matches": "y",
         "showticklabels": false
        },
        "yaxis7": {
         "anchor": "x7",
         "domain": [
          0,
          1
         ],
         "dtick": 100,
         "matches": "y",
         "showticklabels": false
        }
       }
      }
     },
     "metadata": {},
     "output_type": "display_data"
    }
   ],
   "source": [
    "bau23_fig = bau23_demand[(bau23_demand['Sector'] == 'Transportation') & (bau23_demand['Carrier'] != 'Total End-Use')].copy()\n",
    "ref_fig = ref_trnact[(ref_trnact['Mode'] == 'Fuel use') & (ref_trnact['Carrier'] != 'Other')].copy()\n",
    "carrier_order = ['Gasoline', 'Diesel', 'Biofuels', 'Electricity', 'H2', 'Natural Gas', 'Aviation Fuel', 'Marine Fuels', 'Other']\n",
    "\n",
    "bau23_fig['Source'] = 'CEF2023'\n",
    "ref_fig['Source'] = 'CANOE'\n",
    "fig_df = pd.concat([ref_fig[['Period', 'Demand (PJ)', 'Carrier', 'Source']], bau23_fig[['Period', 'Demand (PJ)', 'Carrier', 'Source']]])\n",
    "\n",
    "fig_df['Carrier'] = fig_df['Carrier'].apply(carrier_grouping)\n",
    "fig_df = fig_df.groupby(['Period', 'Carrier', 'Source'], as_index=False).sum('Demand (PJ)')\n",
    "fig_df['Carrier'] = pd.Categorical(fig_df['Carrier'], categories=carrier_order, ordered=True)\n",
    "fig_df = fig_df.sort_values(['Carrier', 'Period'])\n",
    "\n",
    "fig = px.bar(fig_df, \n",
    "             x='Source', \n",
    "             y='Demand (PJ)', \n",
    "             color='Carrier', \n",
    "             barmode='stack', \n",
    "             facet_col='Period',\n",
    "             facet_col_spacing=2E-2,\n",
    "             template='plotly_white',\n",
    "             color_discrete_sequence=px.colors.qualitative.G10[:7] + px.colors.qualitative.G10[8:],\n",
    "             text_auto='.1f',\n",
    "            #  text='Demand (PJ)_sum'\n",
    "             width=1150, height=650,\n",
    "             )\n",
    "\n",
    "fig.update_layout(title=dict(\n",
    "        text='Transportation secondary energy demand in ON by carrier and energy model',\n",
    "        x=0.5, \n",
    "        y=0.97,\n",
    "        xanchor='center',\n",
    "        yanchor='top'\n",
    "    ),\n",
    "    xaxis=dict(title='Period'),\n",
    "    yaxis=dict(title='Demand (PJ)',\n",
    "               dtick=100),\n",
    "    yaxis_title_standoff=0,\n",
    "    legend_title_text='',\n",
    "    bargap=0.1,\n",
    "    legend=dict(\n",
    "        orientation='h',  \n",
    "        yanchor='top',\n",
    "        y=1.04,  \n",
    "        xanchor='center',\n",
    "        x=0.5),\n",
    "    font=dict(\n",
    "        # family=\"Open Sans\",\n",
    "        size=14)\n",
    "    )\n",
    "\n",
    "for annotation in fig.layout.annotations:\n",
    "    annotation.text = annotation.text.split('=')[1]\n",
    "    annotation.y = -0.05  \n",
    "    annotation.yanchor = 'top' \n",
    "\n",
    "for axis in fig.layout:\n",
    "    if axis.startswith('yaxis'):\n",
    "        fig.layout[axis].dtick = 100\n",
    "\n",
    "for axis in fig.layout:\n",
    "    if axis.startswith('xaxis'):\n",
    "        fig.layout[axis].title.text = ''\n",
    "\n",
    "fig.for_each_trace(lambda trace: trace.update(textfont=dict(size=9)))\n",
    "\n",
    "fig.show()\n",
    "# fig.write_image(\"trn_demand.svg\", scale=1, engine='kaleido')"
   ]
  },
  {
   "cell_type": "markdown",
   "metadata": {},
   "source": [
    "# CANOE vs CEF2023 vs gTech-IESD - transportation secondary energy demand"
   ]
  },
  {
   "cell_type": "code",
   "execution_count": 248,
   "metadata": {},
   "outputs": [
    {
     "name": "stderr",
     "output_type": "stream",
     "text": [
      "C:\\Users\\rashi\\AppData\\Local\\Temp\\ipykernel_31072\\4239646409.py:1: FutureWarning:\n",
      "\n",
      "A value is trying to be set on a copy of a DataFrame or Series through chained assignment using an inplace method.\n",
      "The behavior will change in pandas 3.0. This inplace method will never work because the intermediate object on which we are setting values always behaves as a copy.\n",
      "\n",
      "For example, when doing 'df[col].method(value, inplace=True)', try using 'df.method({col: value}, inplace=True)' or df[col] = df[col].method(value) instead, to perform the operation inplace on the original object.\n",
      "\n",
      "\n",
      "\n"
     ]
    }
   ],
   "source": [
    "gtech23_ref_demand['Sector'].replace({'agriculture & waste': 'AFOLU', 'commercial buildings': 'Commercial', 'residential buildings': 'Residential', 'land use & forestry': 'AFOLU',\n",
    "                                      'industry': 'Industrial', 'oil and gas': 'Oil & Gas', 'direct air capture': 'Industrial', 'utilities': 'Utilities',\n",
    "                                      'light-duty transport': 'Transportation', 'medium & heavy-duty transport': 'Transportation', 'other transport': 'Transportation'}, inplace=True)\n",
    "gtech23_ref_demand = gtech23_ref_demand.groupby(['Period', 'Sector'], as_index=False).sum()[['Period', 'Sector', 'Demand (PJ)']]"
   ]
  },
  {
   "cell_type": "code",
   "execution_count": 249,
   "metadata": {},
   "outputs": [
    {
     "data": {
      "application/vnd.plotly.v1+json": {
       "config": {
        "plotlyServerURL": "https://plot.ly"
       },
       "data": [
        {
         "hovertemplate": "Source=CANOE<br>Period=%{x}<br>Demand (PJ)=%{y}<extra></extra>",
         "legendgroup": "CANOE",
         "line": {
          "color": "#636efa",
          "dash": "solid"
         },
         "marker": {
          "symbol": "circle"
         },
         "mode": "lines",
         "name": "CANOE",
         "orientation": "v",
         "showlegend": true,
         "type": "scatter",
         "x": [
          "2021",
          "2025",
          "2030",
          "2035",
          "2040",
          "2045",
          "2050"
         ],
         "xaxis": "x",
         "y": {
          "bdata": "BbrUI3+dh0ACa0AZs9WIQElTQLk8qIVAE1wNSauNgUCgroX0rLx+QCebOAwicn9APpNtqFj4f0A=",
          "dtype": "f8"
         },
         "yaxis": "y"
        },
        {
         "hovertemplate": "Source=CEF 2023<br>Period=%{x}<br>Demand (PJ)=%{y}<extra></extra>",
         "legendgroup": "CEF 2023",
         "line": {
          "color": "#EF553B",
          "dash": "solid"
         },
         "marker": {
          "symbol": "circle"
         },
         "mode": "lines",
         "name": "CEF 2023",
         "orientation": "v",
         "showlegend": true,
         "type": "scatter",
         "x": [
          "2021",
          "2025",
          "2030",
          "2035",
          "2040",
          "2045",
          "2050"
         ],
         "xaxis": "x",
         "y": {
          "bdata": "xLEubiMtiEBj7lpCPpCLQMBbIEHx34tAt2J/2b2vi0AW+8vuyXKLQHGsi9tocYtA5j+k3z7vi0A=",
          "dtype": "f8"
         },
         "yaxis": "y"
        },
        {
         "hovertemplate": "Source=gTech-IESD<br>Period=%{x}<br>Demand (PJ)=%{y}<extra></extra>",
         "legendgroup": "gTech-IESD",
         "line": {
          "color": "#00cc96",
          "dash": "solid"
         },
         "marker": {
          "symbol": "circle"
         },
         "mode": "lines",
         "name": "gTech-IESD",
         "orientation": "v",
         "showlegend": true,
         "type": "scatter",
         "x": [
          2021,
          2025,
          2030,
          2035,
          2040,
          2045,
          2050
         ],
         "xaxis": "x",
         "y": {
          "bdata": "5uu97lCHjUDsEtVb4+SOQASz+AMEN45AuRluwHfjjEBc/1MWOiCMQI2O9R6YWoxAlCggkvaZjUA=",
          "dtype": "f8"
         },
         "yaxis": "y"
        }
       ],
       "layout": {
        "bargap": 0.1,
        "font": {
         "size": 14
        },
        "height": 450,
        "legend": {
         "orientation": "h",
         "title": {
          "text": ""
         },
         "tracegroupgap": 0,
         "x": 0.5,
         "xanchor": "center",
         "y": -0.16,
         "yanchor": "bottom"
        },
        "margin": {
         "t": 60
        },
        "template": {
         "data": {
          "bar": [
           {
            "error_x": {
             "color": "#2a3f5f"
            },
            "error_y": {
             "color": "#2a3f5f"
            },
            "marker": {
             "line": {
              "color": "white",
              "width": 0.5
             },
             "pattern": {
              "fillmode": "overlay",
              "size": 10,
              "solidity": 0.2
             }
            },
            "type": "bar"
           }
          ],
          "barpolar": [
           {
            "marker": {
             "line": {
              "color": "white",
              "width": 0.5
             },
             "pattern": {
              "fillmode": "overlay",
              "size": 10,
              "solidity": 0.2
             }
            },
            "type": "barpolar"
           }
          ],
          "carpet": [
           {
            "aaxis": {
             "endlinecolor": "#2a3f5f",
             "gridcolor": "#C8D4E3",
             "linecolor": "#C8D4E3",
             "minorgridcolor": "#C8D4E3",
             "startlinecolor": "#2a3f5f"
            },
            "baxis": {
             "endlinecolor": "#2a3f5f",
             "gridcolor": "#C8D4E3",
             "linecolor": "#C8D4E3",
             "minorgridcolor": "#C8D4E3",
             "startlinecolor": "#2a3f5f"
            },
            "type": "carpet"
           }
          ],
          "choropleth": [
           {
            "colorbar": {
             "outlinewidth": 0,
             "ticks": ""
            },
            "type": "choropleth"
           }
          ],
          "contour": [
           {
            "colorbar": {
             "outlinewidth": 0,
             "ticks": ""
            },
            "colorscale": [
             [
              0,
              "#0d0887"
             ],
             [
              0.1111111111111111,
              "#46039f"
             ],
             [
              0.2222222222222222,
              "#7201a8"
             ],
             [
              0.3333333333333333,
              "#9c179e"
             ],
             [
              0.4444444444444444,
              "#bd3786"
             ],
             [
              0.5555555555555556,
              "#d8576b"
             ],
             [
              0.6666666666666666,
              "#ed7953"
             ],
             [
              0.7777777777777778,
              "#fb9f3a"
             ],
             [
              0.8888888888888888,
              "#fdca26"
             ],
             [
              1,
              "#f0f921"
             ]
            ],
            "type": "contour"
           }
          ],
          "contourcarpet": [
           {
            "colorbar": {
             "outlinewidth": 0,
             "ticks": ""
            },
            "type": "contourcarpet"
           }
          ],
          "heatmap": [
           {
            "colorbar": {
             "outlinewidth": 0,
             "ticks": ""
            },
            "colorscale": [
             [
              0,
              "#0d0887"
             ],
             [
              0.1111111111111111,
              "#46039f"
             ],
             [
              0.2222222222222222,
              "#7201a8"
             ],
             [
              0.3333333333333333,
              "#9c179e"
             ],
             [
              0.4444444444444444,
              "#bd3786"
             ],
             [
              0.5555555555555556,
              "#d8576b"
             ],
             [
              0.6666666666666666,
              "#ed7953"
             ],
             [
              0.7777777777777778,
              "#fb9f3a"
             ],
             [
              0.8888888888888888,
              "#fdca26"
             ],
             [
              1,
              "#f0f921"
             ]
            ],
            "type": "heatmap"
           }
          ],
          "histogram": [
           {
            "marker": {
             "pattern": {
              "fillmode": "overlay",
              "size": 10,
              "solidity": 0.2
             }
            },
            "type": "histogram"
           }
          ],
          "histogram2d": [
           {
            "colorbar": {
             "outlinewidth": 0,
             "ticks": ""
            },
            "colorscale": [
             [
              0,
              "#0d0887"
             ],
             [
              0.1111111111111111,
              "#46039f"
             ],
             [
              0.2222222222222222,
              "#7201a8"
             ],
             [
              0.3333333333333333,
              "#9c179e"
             ],
             [
              0.4444444444444444,
              "#bd3786"
             ],
             [
              0.5555555555555556,
              "#d8576b"
             ],
             [
              0.6666666666666666,
              "#ed7953"
             ],
             [
              0.7777777777777778,
              "#fb9f3a"
             ],
             [
              0.8888888888888888,
              "#fdca26"
             ],
             [
              1,
              "#f0f921"
             ]
            ],
            "type": "histogram2d"
           }
          ],
          "histogram2dcontour": [
           {
            "colorbar": {
             "outlinewidth": 0,
             "ticks": ""
            },
            "colorscale": [
             [
              0,
              "#0d0887"
             ],
             [
              0.1111111111111111,
              "#46039f"
             ],
             [
              0.2222222222222222,
              "#7201a8"
             ],
             [
              0.3333333333333333,
              "#9c179e"
             ],
             [
              0.4444444444444444,
              "#bd3786"
             ],
             [
              0.5555555555555556,
              "#d8576b"
             ],
             [
              0.6666666666666666,
              "#ed7953"
             ],
             [
              0.7777777777777778,
              "#fb9f3a"
             ],
             [
              0.8888888888888888,
              "#fdca26"
             ],
             [
              1,
              "#f0f921"
             ]
            ],
            "type": "histogram2dcontour"
           }
          ],
          "mesh3d": [
           {
            "colorbar": {
             "outlinewidth": 0,
             "ticks": ""
            },
            "type": "mesh3d"
           }
          ],
          "parcoords": [
           {
            "line": {
             "colorbar": {
              "outlinewidth": 0,
              "ticks": ""
             }
            },
            "type": "parcoords"
           }
          ],
          "pie": [
           {
            "automargin": true,
            "type": "pie"
           }
          ],
          "scatter": [
           {
            "fillpattern": {
             "fillmode": "overlay",
             "size": 10,
             "solidity": 0.2
            },
            "type": "scatter"
           }
          ],
          "scatter3d": [
           {
            "line": {
             "colorbar": {
              "outlinewidth": 0,
              "ticks": ""
             }
            },
            "marker": {
             "colorbar": {
              "outlinewidth": 0,
              "ticks": ""
             }
            },
            "type": "scatter3d"
           }
          ],
          "scattercarpet": [
           {
            "marker": {
             "colorbar": {
              "outlinewidth": 0,
              "ticks": ""
             }
            },
            "type": "scattercarpet"
           }
          ],
          "scattergeo": [
           {
            "marker": {
             "colorbar": {
              "outlinewidth": 0,
              "ticks": ""
             }
            },
            "type": "scattergeo"
           }
          ],
          "scattergl": [
           {
            "marker": {
             "colorbar": {
              "outlinewidth": 0,
              "ticks": ""
             }
            },
            "type": "scattergl"
           }
          ],
          "scattermap": [
           {
            "marker": {
             "colorbar": {
              "outlinewidth": 0,
              "ticks": ""
             }
            },
            "type": "scattermap"
           }
          ],
          "scattermapbox": [
           {
            "marker": {
             "colorbar": {
              "outlinewidth": 0,
              "ticks": ""
             }
            },
            "type": "scattermapbox"
           }
          ],
          "scatterpolar": [
           {
            "marker": {
             "colorbar": {
              "outlinewidth": 0,
              "ticks": ""
             }
            },
            "type": "scatterpolar"
           }
          ],
          "scatterpolargl": [
           {
            "marker": {
             "colorbar": {
              "outlinewidth": 0,
              "ticks": ""
             }
            },
            "type": "scatterpolargl"
           }
          ],
          "scatterternary": [
           {
            "marker": {
             "colorbar": {
              "outlinewidth": 0,
              "ticks": ""
             }
            },
            "type": "scatterternary"
           }
          ],
          "surface": [
           {
            "colorbar": {
             "outlinewidth": 0,
             "ticks": ""
            },
            "colorscale": [
             [
              0,
              "#0d0887"
             ],
             [
              0.1111111111111111,
              "#46039f"
             ],
             [
              0.2222222222222222,
              "#7201a8"
             ],
             [
              0.3333333333333333,
              "#9c179e"
             ],
             [
              0.4444444444444444,
              "#bd3786"
             ],
             [
              0.5555555555555556,
              "#d8576b"
             ],
             [
              0.6666666666666666,
              "#ed7953"
             ],
             [
              0.7777777777777778,
              "#fb9f3a"
             ],
             [
              0.8888888888888888,
              "#fdca26"
             ],
             [
              1,
              "#f0f921"
             ]
            ],
            "type": "surface"
           }
          ],
          "table": [
           {
            "cells": {
             "fill": {
              "color": "#EBF0F8"
             },
             "line": {
              "color": "white"
             }
            },
            "header": {
             "fill": {
              "color": "#C8D4E3"
             },
             "line": {
              "color": "white"
             }
            },
            "type": "table"
           }
          ]
         },
         "layout": {
          "annotationdefaults": {
           "arrowcolor": "#2a3f5f",
           "arrowhead": 0,
           "arrowwidth": 1
          },
          "autotypenumbers": "strict",
          "coloraxis": {
           "colorbar": {
            "outlinewidth": 0,
            "ticks": ""
           }
          },
          "colorscale": {
           "diverging": [
            [
             0,
             "#8e0152"
            ],
            [
             0.1,
             "#c51b7d"
            ],
            [
             0.2,
             "#de77ae"
            ],
            [
             0.3,
             "#f1b6da"
            ],
            [
             0.4,
             "#fde0ef"
            ],
            [
             0.5,
             "#f7f7f7"
            ],
            [
             0.6,
             "#e6f5d0"
            ],
            [
             0.7,
             "#b8e186"
            ],
            [
             0.8,
             "#7fbc41"
            ],
            [
             0.9,
             "#4d9221"
            ],
            [
             1,
             "#276419"
            ]
           ],
           "sequential": [
            [
             0,
             "#0d0887"
            ],
            [
             0.1111111111111111,
             "#46039f"
            ],
            [
             0.2222222222222222,
             "#7201a8"
            ],
            [
             0.3333333333333333,
             "#9c179e"
            ],
            [
             0.4444444444444444,
             "#bd3786"
            ],
            [
             0.5555555555555556,
             "#d8576b"
            ],
            [
             0.6666666666666666,
             "#ed7953"
            ],
            [
             0.7777777777777778,
             "#fb9f3a"
            ],
            [
             0.8888888888888888,
             "#fdca26"
            ],
            [
             1,
             "#f0f921"
            ]
           ],
           "sequentialminus": [
            [
             0,
             "#0d0887"
            ],
            [
             0.1111111111111111,
             "#46039f"
            ],
            [
             0.2222222222222222,
             "#7201a8"
            ],
            [
             0.3333333333333333,
             "#9c179e"
            ],
            [
             0.4444444444444444,
             "#bd3786"
            ],
            [
             0.5555555555555556,
             "#d8576b"
            ],
            [
             0.6666666666666666,
             "#ed7953"
            ],
            [
             0.7777777777777778,
             "#fb9f3a"
            ],
            [
             0.8888888888888888,
             "#fdca26"
            ],
            [
             1,
             "#f0f921"
            ]
           ]
          },
          "colorway": [
           "#636efa",
           "#EF553B",
           "#00cc96",
           "#ab63fa",
           "#FFA15A",
           "#19d3f3",
           "#FF6692",
           "#B6E880",
           "#FF97FF",
           "#FECB52"
          ],
          "font": {
           "color": "#2a3f5f"
          },
          "geo": {
           "bgcolor": "white",
           "lakecolor": "white",
           "landcolor": "white",
           "showlakes": true,
           "showland": true,
           "subunitcolor": "#C8D4E3"
          },
          "hoverlabel": {
           "align": "left"
          },
          "hovermode": "closest",
          "mapbox": {
           "style": "light"
          },
          "paper_bgcolor": "white",
          "plot_bgcolor": "white",
          "polar": {
           "angularaxis": {
            "gridcolor": "#EBF0F8",
            "linecolor": "#EBF0F8",
            "ticks": ""
           },
           "bgcolor": "white",
           "radialaxis": {
            "gridcolor": "#EBF0F8",
            "linecolor": "#EBF0F8",
            "ticks": ""
           }
          },
          "scene": {
           "xaxis": {
            "backgroundcolor": "white",
            "gridcolor": "#DFE8F3",
            "gridwidth": 2,
            "linecolor": "#EBF0F8",
            "showbackground": true,
            "ticks": "",
            "zerolinecolor": "#EBF0F8"
           },
           "yaxis": {
            "backgroundcolor": "white",
            "gridcolor": "#DFE8F3",
            "gridwidth": 2,
            "linecolor": "#EBF0F8",
            "showbackground": true,
            "ticks": "",
            "zerolinecolor": "#EBF0F8"
           },
           "zaxis": {
            "backgroundcolor": "white",
            "gridcolor": "#DFE8F3",
            "gridwidth": 2,
            "linecolor": "#EBF0F8",
            "showbackground": true,
            "ticks": "",
            "zerolinecolor": "#EBF0F8"
           }
          },
          "shapedefaults": {
           "line": {
            "color": "#2a3f5f"
           }
          },
          "ternary": {
           "aaxis": {
            "gridcolor": "#DFE8F3",
            "linecolor": "#A2B1C6",
            "ticks": ""
           },
           "baxis": {
            "gridcolor": "#DFE8F3",
            "linecolor": "#A2B1C6",
            "ticks": ""
           },
           "bgcolor": "white",
           "caxis": {
            "gridcolor": "#DFE8F3",
            "linecolor": "#A2B1C6",
            "ticks": ""
           }
          },
          "title": {
           "x": 0.05
          },
          "xaxis": {
           "automargin": true,
           "gridcolor": "#EBF0F8",
           "linecolor": "#EBF0F8",
           "ticks": "",
           "title": {
            "standoff": 15
           },
           "zerolinecolor": "#EBF0F8",
           "zerolinewidth": 2
          },
          "yaxis": {
           "automargin": true,
           "gridcolor": "#EBF0F8",
           "linecolor": "#EBF0F8",
           "ticks": "",
           "title": {
            "standoff": 15
           },
           "zerolinecolor": "#EBF0F8",
           "zerolinewidth": 2
          }
         }
        },
        "title": {
         "text": "Transportation total energy demand in ON by energy model",
         "x": 0.5,
         "xanchor": "center",
         "y": 0.95,
         "yanchor": "top"
        },
        "width": 800,
        "xaxis": {
         "anchor": "y",
         "domain": [
          0,
          1
         ],
         "title": {
          "text": ""
         }
        },
        "yaxis": {
         "anchor": "x",
         "domain": [
          0,
          1
         ],
         "title": {
          "standoff": 0,
          "text": "Demand (PJ)"
         }
        }
       }
      }
     },
     "metadata": {},
     "output_type": "display_data"
    }
   ],
   "source": [
    "bau23_fig = bau23_demand[(bau23_demand['Sector'] == 'Transportation') & (bau23_demand['Carrier'] == 'Total End-Use')].copy()\n",
    "ref_fig = ref_trnact[(ref_trnact['Mode'] == 'Fuel use') & (ref_trnact['Carrier'] != 'Other')].groupby('Period', as_index=False).sum('Demand (PJ)')\n",
    "gtech_fig = gtech23_ref_demand[gtech23_ref_demand['Sector'] == 'Transportation'].copy()\n",
    "\n",
    "bau23_fig['Source'] = 'CEF 2023'\n",
    "ref_fig['Source'] = 'CANOE'\n",
    "gtech_fig['Source'] = 'gTech-IESD'\n",
    "fig_df = pd.concat([ref_fig[['Period', 'Demand (PJ)', 'Source']], bau23_fig[['Period', 'Demand (PJ)', 'Source']], gtech_fig[['Period', 'Demand (PJ)', 'Source']]]).reset_index(drop=True)\n",
    "\n",
    "fig = px.line(fig_df, x='Period', y='Demand (PJ)', color='Source',\n",
    "              template='plotly_white',\n",
    "              width=800, height=450\n",
    "              )\n",
    "\n",
    "fig.update_layout(\n",
    "    title=dict(text='Transportation total energy demand in ON by energy model',\n",
    "               x=0.5,\n",
    "               y=0.95,\n",
    "               xanchor='center',\n",
    "               yanchor='top'\n",
    "               ),\n",
    "    xaxis=dict(title='Period'),\n",
    "    yaxis=dict(title='Demand (PJ)'),\n",
    "    yaxis_title_standoff=0,\n",
    "    legend_title_text='',\n",
    "    bargap=0.1,\n",
    "    legend=dict(orientation='h',\n",
    "                yanchor='bottom',\n",
    "                y=-0.16,\n",
    "                xanchor='center',\n",
    "                x=0.5),\n",
    "    font=dict(size=14,\n",
    "              # family=\"Open Sans\"\n",
    "              ))\n",
    "\n",
    "for annotation in fig.layout.annotations:\n",
    "    annotation.text = annotation.text.split('=')[1]\n",
    "    annotation.y = -0.05  \n",
    "    annotation.yanchor = 'top' \n",
    "\n",
    "for axis in fig.layout:\n",
    "    if axis.startswith('xaxis'):\n",
    "        fig.layout[axis].title.text = ''\n",
    "\n",
    "fig.show()"
   ]
  },
  {
   "cell_type": "markdown",
   "metadata": {},
   "source": [
    "# CANOE - transportation vehicle capacity"
   ]
  },
  {
   "cell_type": "code",
   "execution_count": 250,
   "metadata": {},
   "outputs": [],
   "source": [
    "ref_trncap.columns = ref_trncap.columns.astype(str)\n",
    "periods = [col for col in ref_trncap.columns if col.isdigit()]\n",
    "params = [col for col in ref_trncap.columns if not col.isdigit()]\n",
    "ref_trncap = pd.melt(ref_trncap, id_vars=params, var_name='Period', value_name='Capacity (M units)', value_vars=periods)\n",
    "ref_trncap['Capacity (M units)'] = ref_trncap['Capacity (M units)']/1E3"
   ]
  },
  {
   "cell_type": "code",
   "execution_count": 251,
   "metadata": {},
   "outputs": [],
   "source": [
    "def veh_class_mapping(veh_class):\n",
    "    if veh_class == 'Air jet':\n",
    "        return 'Other'\n",
    "    if veh_class == 'Rail':\n",
    "        return 'Other'\n",
    "    if veh_class == 'Marine vessel':\n",
    "        return 'Other'\n",
    "    if veh_class == 'Motorcycle':\n",
    "        return 'Other'\n",
    "    if veh_class == 'Fuel use':\n",
    "        return 'Other'\n",
    "    else: return veh_class\n",
    "    \n",
    "ref_trncap['Vehicle Class'] = ref_trncap['Mode'].apply(veh_class_mapping)\n",
    "\n",
    "drivetrain_order = ['Gasoline', 'Diesel', 'CNG', 'HEV', 'PHEV', 'BEV', 'FCEV']"
   ]
  },
  {
   "cell_type": "code",
   "execution_count": 252,
   "metadata": {},
   "outputs": [
    {
     "data": {
      "application/vnd.plotly.v1+json": {
       "config": {
        "plotlyServerURL": "https://plot.ly"
       },
       "data": [
        {
         "hovertemplate": "Carrier=Gasoline<br>Period=2021<br>Vehicle Class=%{x}<br>Capacity (M units)=%{y}<extra></extra>",
         "legendgroup": "Gasoline",
         "marker": {
          "color": "#3366CC",
          "pattern": {
           "shape": ""
          }
         },
         "name": "Gasoline",
         "orientation": "v",
         "showlegend": true,
         "textfont": {
          "size": 9
         },
         "textposition": "auto",
         "texttemplate": "%{y:.2f}",
         "type": "bar",
         "x": [
          "LD Car",
          "LD Truck"
         ],
         "xaxis": "x",
         "y": {
          "bdata": "/2Aw+Z7QDEAxZmEQtHUSQA==",
          "dtype": "f8"
         },
         "yaxis": "y"
        },
        {
         "hovertemplate": "Carrier=Gasoline<br>Period=2025<br>Vehicle Class=%{x}<br>Capacity (M units)=%{y}<extra></extra>",
         "legendgroup": "Gasoline",
         "marker": {
          "color": "#3366CC",
          "pattern": {
           "shape": ""
          }
         },
         "name": "Gasoline",
         "orientation": "v",
         "showlegend": false,
         "textfont": {
          "size": 9
         },
         "textposition": "auto",
         "texttemplate": "%{y:.2f}",
         "type": "bar",
         "x": [
          "LD Car",
          "LD Truck"
         ],
         "xaxis": "x2",
         "y": {
          "bdata": "OuKOLN2UBkAtivbAr+YQQA==",
          "dtype": "f8"
         },
         "yaxis": "y2"
        },
        {
         "hovertemplate": "Carrier=Gasoline<br>Period=2030<br>Vehicle Class=%{x}<br>Capacity (M units)=%{y}<extra></extra>",
         "legendgroup": "Gasoline",
         "marker": {
          "color": "#3366CC",
          "pattern": {
           "shape": ""
          }
         },
         "name": "Gasoline",
         "orientation": "v",
         "showlegend": false,
         "textfont": {
          "size": 9
         },
         "textposition": "auto",
         "texttemplate": "%{y:.2f}",
         "type": "bar",
         "x": [
          "LD Car",
          "LD Truck"
         ],
         "xaxis": "x3",
         "y": {
          "bdata": "KaC+PlOs+z/opprPU6EHQA==",
          "dtype": "f8"
         },
         "yaxis": "y3"
        },
        {
         "hovertemplate": "Carrier=Gasoline<br>Period=2035<br>Vehicle Class=%{x}<br>Capacity (M units)=%{y}<extra></extra>",
         "legendgroup": "Gasoline",
         "marker": {
          "color": "#3366CC",
          "pattern": {
           "shape": ""
          }
         },
         "name": "Gasoline",
         "orientation": "v",
         "showlegend": false,
         "textfont": {
          "size": 9
         },
         "textposition": "auto",
         "texttemplate": "%{y:.2f}",
         "type": "bar",
         "x": [
          "LD Car",
          "LD Truck"
         ],
         "xaxis": "x4",
         "y": {
          "bdata": "ysAlP3Af6D+yTYsqQGUBQA==",
          "dtype": "f8"
         },
         "yaxis": "y4"
        },
        {
         "hovertemplate": "Carrier=Gasoline<br>Period=2040<br>Vehicle Class=%{x}<br>Capacity (M units)=%{y}<extra></extra>",
         "legendgroup": "Gasoline",
         "marker": {
          "color": "#3366CC",
          "pattern": {
           "shape": ""
          }
         },
         "name": "Gasoline",
         "orientation": "v",
         "showlegend": false,
         "textfont": {
          "size": 9
         },
         "textposition": "auto",
         "texttemplate": "%{y:.2f}",
         "type": "bar",
         "x": [
          "LD Car",
          "LD Truck"
         ],
         "xaxis": "x5",
         "y": {
          "bdata": "6dcE+BCI2j8dKMGaAs3sPw==",
          "dtype": "f8"
         },
         "yaxis": "y5"
        },
        {
         "hovertemplate": "Carrier=Gasoline<br>Period=2045<br>Vehicle Class=%{x}<br>Capacity (M units)=%{y}<extra></extra>",
         "legendgroup": "Gasoline",
         "marker": {
          "color": "#3366CC",
          "pattern": {
           "shape": ""
          }
         },
         "name": "Gasoline",
         "orientation": "v",
         "showlegend": false,
         "textfont": {
          "size": 9
         },
         "textposition": "auto",
         "texttemplate": "%{y:.2f}",
         "type": "bar",
         "x": [
          "LD Car",
          "LD Truck"
         ],
         "xaxis": "x6",
         "y": {
          "bdata": "uvr7uL1C0j7o2TnG2lTgPw==",
          "dtype": "f8"
         },
         "yaxis": "y6"
        },
        {
         "hovertemplate": "Carrier=Gasoline<br>Period=2050<br>Vehicle Class=%{x}<br>Capacity (M units)=%{y}<extra></extra>",
         "legendgroup": "Gasoline",
         "marker": {
          "color": "#3366CC",
          "pattern": {
           "shape": ""
          }
         },
         "name": "Gasoline",
         "orientation": "v",
         "showlegend": false,
         "textfont": {
          "size": 9
         },
         "textposition": "auto",
         "texttemplate": "%{y:.2f}",
         "type": "bar",
         "x": [
          "LD Car",
          "LD Truck"
         ],
         "xaxis": "x7",
         "y": {
          "bdata": "YL5QucH+0D7vP9LQfIHoPg==",
          "dtype": "f8"
         },
         "yaxis": "y7"
        },
        {
         "hovertemplate": "Carrier=Diesel<br>Period=2021<br>Vehicle Class=%{x}<br>Capacity (M units)=%{y}<extra></extra>",
         "legendgroup": "Diesel",
         "marker": {
          "color": "#DC3912",
          "pattern": {
           "shape": ""
          }
         },
         "name": "Diesel",
         "orientation": "v",
         "showlegend": true,
         "textfont": {
          "size": 9
         },
         "textposition": "auto",
         "texttemplate": "%{y:.2f}",
         "type": "bar",
         "x": [
          "LD Car",
          "LD Truck"
         ],
         "xaxis": "x",
         "y": {
          "bdata": "m5WYE3+3sT9rJJeXP/vLPw==",
          "dtype": "f8"
         },
         "yaxis": "y"
        },
        {
         "hovertemplate": "Carrier=Diesel<br>Period=2025<br>Vehicle Class=%{x}<br>Capacity (M units)=%{y}<extra></extra>",
         "legendgroup": "Diesel",
         "marker": {
          "color": "#DC3912",
          "pattern": {
           "shape": ""
          }
         },
         "name": "Diesel",
         "orientation": "v",
         "showlegend": false,
         "textfont": {
          "size": 9
         },
         "textposition": "auto",
         "texttemplate": "%{y:.2f}",
         "type": "bar",
         "x": [
          "LD Car",
          "LD Truck"
         ],
         "xaxis": "x2",
         "y": {
          "bdata": "JOIspiOapD/GPEO3kJPJPw==",
          "dtype": "f8"
         },
         "yaxis": "y2"
        },
        {
         "hovertemplate": "Carrier=Diesel<br>Period=2030<br>Vehicle Class=%{x}<br>Capacity (M units)=%{y}<extra></extra>",
         "legendgroup": "Diesel",
         "marker": {
          "color": "#DC3912",
          "pattern": {
           "shape": ""
          }
         },
         "name": "Diesel",
         "orientation": "v",
         "showlegend": false,
         "textfont": {
          "size": 9
         },
         "textposition": "auto",
         "texttemplate": "%{y:.2f}",
         "type": "bar",
         "x": [
          "LD Car",
          "LD Truck"
         ],
         "xaxis": "x3",
         "y": {
          "bdata": "mY9vVGSskz8qpVtQ13fCPw==",
          "dtype": "f8"
         },
         "yaxis": "y3"
        },
        {
         "hovertemplate": "Carrier=Diesel<br>Period=2035<br>Vehicle Class=%{x}<br>Capacity (M units)=%{y}<extra></extra>",
         "legendgroup": "Diesel",
         "marker": {
          "color": "#DC3912",
          "pattern": {
           "shape": ""
          }
         },
         "name": "Diesel",
         "orientation": "v",
         "showlegend": false,
         "textfont": {
          "size": 9
         },
         "textposition": "auto",
         "texttemplate": "%{y:.2f}",
         "type": "bar",
         "x": [
          "LD Car",
          "LD Truck"
         ],
         "xaxis": "x4",
         "y": {
          "bdata": "jzcJ5hGEhj+1RoMzlFC7Pw==",
          "dtype": "f8"
         },
         "yaxis": "y4"
        },
        {
         "hovertemplate": "Carrier=Diesel<br>Period=2040<br>Vehicle Class=%{x}<br>Capacity (M units)=%{y}<extra></extra>",
         "legendgroup": "Diesel",
         "marker": {
          "color": "#DC3912",
          "pattern": {
           "shape": ""
          }
         },
         "name": "Diesel",
         "orientation": "v",
         "showlegend": false,
         "textfont": {
          "size": 9
         },
         "textposition": "auto",
         "texttemplate": "%{y:.2f}",
         "type": "bar",
         "x": [
          "LD Car",
          "LD Truck"
         ],
         "xaxis": "x5",
         "y": {
          "bdata": "aT7FKDdhTz850pehSvOmPw==",
          "dtype": "f8"
         },
         "yaxis": "y5"
        },
        {
         "hovertemplate": "Carrier=Diesel<br>Period=2045<br>Vehicle Class=%{x}<br>Capacity (M units)=%{y}<extra></extra>",
         "legendgroup": "Diesel",
         "marker": {
          "color": "#DC3912",
          "pattern": {
           "shape": ""
          }
         },
         "name": "Diesel",
         "orientation": "v",
         "showlegend": false,
         "textfont": {
          "size": 9
         },
         "textposition": "auto",
         "texttemplate": "%{y:.2f}",
         "type": "bar",
         "x": [
          "LD Car",
          "LD Truck"
         ],
         "xaxis": "x6",
         "y": {
          "bdata": "6RSAxLR40T7AuQcQJ6iaPw==",
          "dtype": "f8"
         },
         "yaxis": "y6"
        },
        {
         "hovertemplate": "Carrier=Diesel<br>Period=2050<br>Vehicle Class=%{x}<br>Capacity (M units)=%{y}<extra></extra>",
         "legendgroup": "Diesel",
         "marker": {
          "color": "#DC3912",
          "pattern": {
           "shape": ""
          }
         },
         "name": "Diesel",
         "orientation": "v",
         "showlegend": false,
         "textfont": {
          "size": 9
         },
         "textposition": "auto",
         "texttemplate": "%{y:.2f}",
         "type": "bar",
         "x": [
          "LD Car",
          "LD Truck"
         ],
         "xaxis": "x7",
         "y": {
          "bdata": "PpkgqMgO0D7vJcne2gjuPg==",
          "dtype": "f8"
         },
         "yaxis": "y7"
        },
        {
         "hovertemplate": "Carrier=CNG<br>Period=2021<br>Vehicle Class=%{x}<br>Capacity (M units)=%{y}<extra></extra>",
         "legendgroup": "CNG",
         "marker": {
          "color": "#FF9900",
          "pattern": {
           "shape": ""
          }
         },
         "name": "CNG",
         "orientation": "v",
         "showlegend": true,
         "textfont": {
          "size": 9
         },
         "textposition": "auto",
         "texttemplate": "%{y:.2f}",
         "type": "bar",
         "x": [
          "LD Car",
          "LD Truck"
         ],
         "xaxis": "x",
         "y": {
          "bdata": "KZEDUZh8tz6Oupn4VQHVPg==",
          "dtype": "f8"
         },
         "yaxis": "y"
        },
        {
         "hovertemplate": "Carrier=CNG<br>Period=2025<br>Vehicle Class=%{x}<br>Capacity (M units)=%{y}<extra></extra>",
         "legendgroup": "CNG",
         "marker": {
          "color": "#FF9900",
          "pattern": {
           "shape": ""
          }
         },
         "name": "CNG",
         "orientation": "v",
         "showlegend": false,
         "textfont": {
          "size": 9
         },
         "textposition": "auto",
         "texttemplate": "%{y:.2f}",
         "type": "bar",
         "x": [
          "LD Car",
          "LD Truck"
         ],
         "xaxis": "x2",
         "y": {
          "bdata": "r9IUw7Y4xT6YavLHlcviPg==",
          "dtype": "f8"
         },
         "yaxis": "y2"
        },
        {
         "hovertemplate": "Carrier=CNG<br>Period=2030<br>Vehicle Class=%{x}<br>Capacity (M units)=%{y}<extra></extra>",
         "legendgroup": "CNG",
         "marker": {
          "color": "#FF9900",
          "pattern": {
           "shape": ""
          }
         },
         "name": "CNG",
         "orientation": "v",
         "showlegend": false,
         "textfont": {
          "size": 9
         },
         "textposition": "auto",
         "texttemplate": "%{y:.2f}",
         "type": "bar",
         "x": [
          "LD Car",
          "LD Truck"
         ],
         "xaxis": "x3",
         "y": {
          "bdata": "+G9UcchfzD6VeWjRx5LpPg==",
          "dtype": "f8"
         },
         "yaxis": "y3"
        },
        {
         "hovertemplate": "Carrier=CNG<br>Period=2035<br>Vehicle Class=%{x}<br>Capacity (M units)=%{y}<extra></extra>",
         "legendgroup": "CNG",
         "marker": {
          "color": "#FF9900",
          "pattern": {
           "shape": ""
          }
         },
         "name": "CNG",
         "orientation": "v",
         "showlegend": false,
         "textfont": {
          "size": 9
         },
         "textposition": "auto",
         "texttemplate": "%{y:.2f}",
         "type": "bar",
         "x": [
          "LD Car",
          "LD Truck"
         ],
         "xaxis": "x4",
         "y": {
          "bdata": "36RkQH1mzT4BM2UKlBnwPg==",
          "dtype": "f8"
         },
         "yaxis": "y4"
        },
        {
         "hovertemplate": "Carrier=CNG<br>Period=2040<br>Vehicle Class=%{x}<br>Capacity (M units)=%{y}<extra></extra>",
         "legendgroup": "CNG",
         "marker": {
          "color": "#FF9900",
          "pattern": {
           "shape": ""
          }
         },
         "name": "CNG",
         "orientation": "v",
         "showlegend": false,
         "textfont": {
          "size": 9
         },
         "textposition": "auto",
         "texttemplate": "%{y:.2f}",
         "type": "bar",
         "x": [
          "LD Car",
          "LD Truck"
         ],
         "xaxis": "x5",
         "y": {
          "bdata": "0mM8qakA0D5Z0L4Xfg3wPg==",
          "dtype": "f8"
         },
         "yaxis": "y5"
        },
        {
         "hovertemplate": "Carrier=CNG<br>Period=2045<br>Vehicle Class=%{x}<br>Capacity (M units)=%{y}<extra></extra>",
         "legendgroup": "CNG",
         "marker": {
          "color": "#FF9900",
          "pattern": {
           "shape": ""
          }
         },
         "name": "CNG",
         "orientation": "v",
         "showlegend": false,
         "textfont": {
          "size": 9
         },
         "textposition": "auto",
         "texttemplate": "%{y:.2f}",
         "type": "bar",
         "x": [
          "LD Car",
          "LD Truck"
         ],
         "xaxis": "x6",
         "y": {
          "bdata": "tB1j978s0T6cjiqXPQ3xPg==",
          "dtype": "f8"
         },
         "yaxis": "y6"
        },
        {
         "hovertemplate": "Carrier=CNG<br>Period=2050<br>Vehicle Class=%{x}<br>Capacity (M units)=%{y}<extra></extra>",
         "legendgroup": "CNG",
         "marker": {
          "color": "#FF9900",
          "pattern": {
           "shape": ""
          }
         },
         "name": "CNG",
         "orientation": "v",
         "showlegend": false,
         "textfont": {
          "size": 9
         },
         "textposition": "auto",
         "texttemplate": "%{y:.2f}",
         "type": "bar",
         "x": [
          "LD Car",
          "LD Truck"
         ],
         "xaxis": "x7",
         "y": {
          "bdata": "3JgE2zxR0D40CAwCEwnwPg==",
          "dtype": "f8"
         },
         "yaxis": "y7"
        },
        {
         "hovertemplate": "Carrier=HEV<br>Period=2021<br>Vehicle Class=%{x}<br>Capacity (M units)=%{y}<extra></extra>",
         "legendgroup": "HEV",
         "marker": {
          "color": "#109618",
          "pattern": {
           "shape": ""
          }
         },
         "name": "HEV",
         "orientation": "v",
         "showlegend": true,
         "textfont": {
          "size": 9
         },
         "textposition": "auto",
         "texttemplate": "%{y:.2f}",
         "type": "bar",
         "x": [
          "LD Car",
          "LD Truck"
         ],
         "xaxis": "x",
         "y": {
          "bdata": "5ZReHEIGtD8uwEuGr76VPw==",
          "dtype": "f8"
         },
         "yaxis": "y"
        },
        {
         "hovertemplate": "Carrier=HEV<br>Period=2025<br>Vehicle Class=%{x}<br>Capacity (M units)=%{y}<extra></extra>",
         "legendgroup": "HEV",
         "marker": {
          "color": "#109618",
          "pattern": {
           "shape": ""
          }
         },
         "name": "HEV",
         "orientation": "v",
         "showlegend": false,
         "textfont": {
          "size": 9
         },
         "textposition": "auto",
         "texttemplate": "%{y:.2f}",
         "type": "bar",
         "x": [
          "LD Car",
          "LD Truck"
         ],
         "xaxis": "x2",
         "y": {
          "bdata": "NJAsc90Qsj++tr01Y+SUPw==",
          "dtype": "f8"
         },
         "yaxis": "y2"
        },
        {
         "hovertemplate": "Carrier=HEV<br>Period=2030<br>Vehicle Class=%{x}<br>Capacity (M units)=%{y}<extra></extra>",
         "legendgroup": "HEV",
         "marker": {
          "color": "#109618",
          "pattern": {
           "shape": ""
          }
         },
         "name": "HEV",
         "orientation": "v",
         "showlegend": false,
         "textfont": {
          "size": 9
         },
         "textposition": "auto",
         "texttemplate": "%{y:.2f}",
         "type": "bar",
         "x": [
          "LD Car",
          "LD Truck"
         ],
         "xaxis": "x3",
         "y": {
          "bdata": "/9jK6cszpj9khWzNE1KQPw==",
          "dtype": "f8"
         },
         "yaxis": "y3"
        },
        {
         "hovertemplate": "Carrier=HEV<br>Period=2035<br>Vehicle Class=%{x}<br>Capacity (M units)=%{y}<extra></extra>",
         "legendgroup": "HEV",
         "marker": {
          "color": "#109618",
          "pattern": {
           "shape": ""
          }
         },
         "name": "HEV",
         "orientation": "v",
         "showlegend": false,
         "textfont": {
          "size": 9
         },
         "textposition": "auto",
         "texttemplate": "%{y:.2f}",
         "type": "bar",
         "x": [
          "LD Car",
          "LD Truck"
         ],
         "xaxis": "x4",
         "y": {
          "bdata": "faqieMkHlD/QL/tgBzeNPw==",
          "dtype": "f8"
         },
         "yaxis": "y4"
        },
        {
         "hovertemplate": "Carrier=HEV<br>Period=2040<br>Vehicle Class=%{x}<br>Capacity (M units)=%{y}<extra></extra>",
         "legendgroup": "HEV",
         "marker": {
          "color": "#109618",
          "pattern": {
           "shape": ""
          }
         },
         "name": "HEV",
         "orientation": "v",
         "showlegend": false,
         "textfont": {
          "size": 9
         },
         "textposition": "auto",
         "texttemplate": "%{y:.2f}",
         "type": "bar",
         "x": [
          "LD Car",
          "LD Truck"
         ],
         "xaxis": "x5",
         "y": {
          "bdata": "uU73blRjiD9JHdZREdJ1Pw==",
          "dtype": "f8"
         },
         "yaxis": "y5"
        },
        {
         "hovertemplate": "Carrier=HEV<br>Period=2045<br>Vehicle Class=%{x}<br>Capacity (M units)=%{y}<extra></extra>",
         "legendgroup": "HEV",
         "marker": {
          "color": "#109618",
          "pattern": {
           "shape": ""
          }
         },
         "name": "HEV",
         "orientation": "v",
         "showlegend": false,
         "textfont": {
          "size": 9
         },
         "textposition": "auto",
         "texttemplate": "%{y:.2f}",
         "type": "bar",
         "x": [
          "LD Car",
          "LD Truck"
         ],
         "xaxis": "x6",
         "y": {
          "bdata": "dZPjjhCZ3z7DnlOzWmVyPw==",
          "dtype": "f8"
         },
         "yaxis": "y6"
        },
        {
         "hovertemplate": "Carrier=HEV<br>Period=2050<br>Vehicle Class=%{x}<br>Capacity (M units)=%{y}<extra></extra>",
         "legendgroup": "HEV",
         "marker": {
          "color": "#109618",
          "pattern": {
           "shape": ""
          }
         },
         "name": "HEV",
         "orientation": "v",
         "showlegend": false,
         "textfont": {
          "size": 9
         },
         "textposition": "auto",
         "texttemplate": "%{y:.2f}",
         "type": "bar",
         "x": [
          "LD Car",
          "LD Truck"
         ],
         "xaxis": "x7",
         "y": {
          "bdata": "WQoSpzjK3T6EW1gR5v/2Pg==",
          "dtype": "f8"
         },
         "yaxis": "y7"
        },
        {
         "hovertemplate": "Carrier=PHEV<br>Period=2021<br>Vehicle Class=%{x}<br>Capacity (M units)=%{y}<extra></extra>",
         "legendgroup": "PHEV",
         "marker": {
          "color": "#990099",
          "pattern": {
           "shape": ""
          }
         },
         "name": "PHEV",
         "orientation": "v",
         "showlegend": true,
         "textfont": {
          "size": 9
         },
         "textposition": "auto",
         "texttemplate": "%{y:.2f}",
         "type": "bar",
         "x": [
          "LD Car",
          "LD Truck"
         ],
         "xaxis": "x",
         "y": {
          "bdata": "nF1fgF8Jmj8qeLPvpix2Pw==",
          "dtype": "f8"
         },
         "yaxis": "y"
        },
        {
         "hovertemplate": "Carrier=PHEV<br>Period=2025<br>Vehicle Class=%{x}<br>Capacity (M units)=%{y}<extra></extra>",
         "legendgroup": "PHEV",
         "marker": {
          "color": "#990099",
          "pattern": {
           "shape": ""
          }
         },
         "name": "PHEV",
         "orientation": "v",
         "showlegend": false,
         "textfont": {
          "size": 9
         },
         "textposition": "auto",
         "texttemplate": "%{y:.2f}",
         "type": "bar",
         "x": [
          "LD Car",
          "LD Truck"
         ],
         "xaxis": "x2",
         "y": {
          "bdata": "+/e006JamT/ddw5Fnh52Pw==",
          "dtype": "f8"
         },
         "yaxis": "y2"
        },
        {
         "hovertemplate": "Carrier=PHEV<br>Period=2030<br>Vehicle Class=%{x}<br>Capacity (M units)=%{y}<extra></extra>",
         "legendgroup": "PHEV",
         "marker": {
          "color": "#990099",
          "pattern": {
           "shape": ""
          }
         },
         "name": "PHEV",
         "orientation": "v",
         "showlegend": false,
         "textfont": {
          "size": 9
         },
         "textposition": "auto",
         "texttemplate": "%{y:.2f}",
         "type": "bar",
         "x": [
          "LD Car",
          "LD Truck"
         ],
         "xaxis": "x3",
         "y": {
          "bdata": "wK6Q1bIpkj+bD5hN57FwPw==",
          "dtype": "f8"
         },
         "yaxis": "y3"
        },
        {
         "hovertemplate": "Carrier=PHEV<br>Period=2035<br>Vehicle Class=%{x}<br>Capacity (M units)=%{y}<extra></extra>",
         "legendgroup": "PHEV",
         "marker": {
          "color": "#990099",
          "pattern": {
           "shape": ""
          }
         },
         "name": "PHEV",
         "orientation": "v",
         "showlegend": false,
         "textfont": {
          "size": 9
         },
         "textposition": "auto",
         "texttemplate": "%{y:.2f}",
         "type": "bar",
         "x": [
          "LD Car",
          "LD Truck"
         ],
         "xaxis": "x4",
         "y": {
          "bdata": "wZKBTbAUej+D9hgOW45wPw==",
          "dtype": "f8"
         },
         "yaxis": "y4"
        },
        {
         "hovertemplate": "Carrier=PHEV<br>Period=2040<br>Vehicle Class=%{x}<br>Capacity (M units)=%{y}<extra></extra>",
         "legendgroup": "PHEV",
         "marker": {
          "color": "#990099",
          "pattern": {
           "shape": ""
          }
         },
         "name": "PHEV",
         "orientation": "v",
         "showlegend": false,
         "textfont": {
          "size": 9
         },
         "textposition": "auto",
         "texttemplate": "%{y:.2f}",
         "type": "bar",
         "x": [
          "LD Car",
          "LD Truck"
         ],
         "xaxis": "x5",
         "y": {
          "bdata": "eOIjhtVXdz/ZqwXMNahWPw==",
          "dtype": "f8"
         },
         "yaxis": "y5"
        },
        {
         "hovertemplate": "Carrier=PHEV<br>Period=2045<br>Vehicle Class=%{x}<br>Capacity (M units)=%{y}<extra></extra>",
         "legendgroup": "PHEV",
         "marker": {
          "color": "#990099",
          "pattern": {
           "shape": ""
          }
         },
         "name": "PHEV",
         "orientation": "v",
         "showlegend": false,
         "textfont": {
          "size": 9
         },
         "textposition": "auto",
         "texttemplate": "%{y:.2f}",
         "type": "bar",
         "x": [
          "LD Car",
          "LD Truck"
         ],
         "xaxis": "x6",
         "y": {
          "bdata": "q55mi7kS7z4WahpUZWJWPw==",
          "dtype": "f8"
         },
         "yaxis": "y6"
        },
        {
         "hovertemplate": "Carrier=PHEV<br>Period=2050<br>Vehicle Class=%{x}<br>Capacity (M units)=%{y}<extra></extra>",
         "legendgroup": "PHEV",
         "marker": {
          "color": "#990099",
          "pattern": {
           "shape": ""
          }
         },
         "name": "PHEV",
         "orientation": "v",
         "showlegend": false,
         "textfont": {
          "size": 9
         },
         "textposition": "auto",
         "texttemplate": "%{y:.2f}",
         "type": "bar",
         "x": [
          "LD Car",
          "LD Truck"
         ],
         "xaxis": "x7",
         "y": {
          "bdata": "etmuBG7g7j6jBWFbgucCPw==",
          "dtype": "f8"
         },
         "yaxis": "y7"
        },
        {
         "hovertemplate": "Carrier=BEV<br>Period=2021<br>Vehicle Class=%{x}<br>Capacity (M units)=%{y}<extra></extra>",
         "legendgroup": "BEV",
         "marker": {
          "color": "#0099C6",
          "pattern": {
           "shape": ""
          }
         },
         "name": "BEV",
         "orientation": "v",
         "showlegend": true,
         "textfont": {
          "size": 9
         },
         "textposition": "auto",
         "texttemplate": "%{y:.2f}",
         "type": "bar",
         "x": [
          "LD Car",
          "LD Truck"
         ],
         "xaxis": "x",
         "y": {
          "bdata": "NoU2sCpH5z/YZJ966WTjPw==",
          "dtype": "f8"
         },
         "yaxis": "y"
        },
        {
         "hovertemplate": "Carrier=BEV<br>Period=2025<br>Vehicle Class=%{x}<br>Capacity (M units)=%{y}<extra></extra>",
         "legendgroup": "BEV",
         "marker": {
          "color": "#0099C6",
          "pattern": {
           "shape": ""
          }
         },
         "name": "BEV",
         "orientation": "v",
         "showlegend": false,
         "textfont": {
          "size": 9
         },
         "textposition": "auto",
         "texttemplate": "%{y:.2f}",
         "type": "bar",
         "x": [
          "LD Car",
          "LD Truck"
         ],
         "xaxis": "x2",
         "y": {
          "bdata": "+K3NhzKU+D9s7Nw4YH/6Pw==",
          "dtype": "f8"
         },
         "yaxis": "y2"
        },
        {
         "hovertemplate": "Carrier=BEV<br>Period=2030<br>Vehicle Class=%{x}<br>Capacity (M units)=%{y}<extra></extra>",
         "legendgroup": "BEV",
         "marker": {
          "color": "#0099C6",
          "pattern": {
           "shape": ""
          }
         },
         "name": "BEV",
         "orientation": "v",
         "showlegend": false,
         "textfont": {
          "size": 9
         },
         "textposition": "auto",
         "texttemplate": "%{y:.2f}",
         "type": "bar",
         "x": [
          "LD Car",
          "LD Truck"
         ],
         "xaxis": "x3",
         "y": {
          "bdata": "VUn0mFWLA0Ccj7Hmt9IGQA==",
          "dtype": "f8"
         },
         "yaxis": "y3"
        },
        {
         "hovertemplate": "Carrier=BEV<br>Period=2035<br>Vehicle Class=%{x}<br>Capacity (M units)=%{y}<extra></extra>",
         "legendgroup": "BEV",
         "marker": {
          "color": "#0099C6",
          "pattern": {
           "shape": ""
          }
         },
         "name": "BEV",
         "orientation": "v",
         "showlegend": false,
         "textfont": {
          "size": 9
         },
         "textposition": "auto",
         "texttemplate": "%{y:.2f}",
         "type": "bar",
         "x": [
          "LD Car",
          "LD Truck"
         ],
         "xaxis": "x4",
         "y": {
          "bdata": "XW9U2SXLEUAXwMQI1pMSQA==",
          "dtype": "f8"
         },
         "yaxis": "y4"
        },
        {
         "hovertemplate": "Carrier=BEV<br>Period=2040<br>Vehicle Class=%{x}<br>Capacity (M units)=%{y}<extra></extra>",
         "legendgroup": "BEV",
         "marker": {
          "color": "#0099C6",
          "pattern": {
           "shape": ""
          }
         },
         "name": "BEV",
         "orientation": "v",
         "showlegend": false,
         "textfont": {
          "size": 9
         },
         "textposition": "auto",
         "texttemplate": "%{y:.2f}",
         "type": "bar",
         "x": [
          "LD Car",
          "LD Truck"
         ],
         "xaxis": "x5",
         "y": {
          "bdata": "S+9M3HtTFEBEHTWtdn8YQA==",
          "dtype": "f8"
         },
         "yaxis": "y5"
        },
        {
         "hovertemplate": "Carrier=BEV<br>Period=2045<br>Vehicle Class=%{x}<br>Capacity (M units)=%{y}<extra></extra>",
         "legendgroup": "BEV",
         "marker": {
          "color": "#0099C6",
          "pattern": {
           "shape": ""
          }
         },
         "name": "BEV",
         "orientation": "v",
         "showlegend": false,
         "textfont": {
          "size": 9
         },
         "textposition": "auto",
         "texttemplate": "%{y:.2f}",
         "type": "bar",
         "x": [
          "LD Car",
          "LD Truck"
         ],
         "xaxis": "x6",
         "y": {
          "bdata": "R0YkKtQyFkAh8h4q1JMcQA==",
          "dtype": "f8"
         },
         "yaxis": "y6"
        },
        {
         "hovertemplate": "Carrier=BEV<br>Period=2050<br>Vehicle Class=%{x}<br>Capacity (M units)=%{y}<extra></extra>",
         "legendgroup": "BEV",
         "marker": {
          "color": "#0099C6",
          "pattern": {
           "shape": ""
          }
         },
         "name": "BEV",
         "orientation": "v",
         "showlegend": false,
         "textfont": {
          "size": 9
         },
         "textposition": "auto",
         "texttemplate": "%{y:.2f}",
         "type": "bar",
         "x": [
          "LD Car",
          "LD Truck"
         ],
         "xaxis": "x7",
         "y": {
          "bdata": "2pHeHmvTFkDDxotN/m8gQA==",
          "dtype": "f8"
         },
         "yaxis": "y7"
        },
        {
         "hovertemplate": "Carrier=FCEV<br>Period=2021<br>Vehicle Class=%{x}<br>Capacity (M units)=%{y}<extra></extra>",
         "legendgroup": "FCEV",
         "marker": {
          "color": "#DD4477",
          "pattern": {
           "shape": ""
          }
         },
         "name": "FCEV",
         "orientation": "v",
         "showlegend": true,
         "textfont": {
          "size": 9
         },
         "textposition": "auto",
         "texttemplate": "%{y:.2f}",
         "type": "bar",
         "x": [
          "LD Car",
          "LD Truck"
         ],
         "xaxis": "x",
         "y": {
          "bdata": "O9PS2cs0sz7y8aqPmn3CPg==",
          "dtype": "f8"
         },
         "yaxis": "y"
        },
        {
         "hovertemplate": "Carrier=FCEV<br>Period=2025<br>Vehicle Class=%{x}<br>Capacity (M units)=%{y}<extra></extra>",
         "legendgroup": "FCEV",
         "marker": {
          "color": "#DD4477",
          "pattern": {
           "shape": ""
          }
         },
         "name": "FCEV",
         "orientation": "v",
         "showlegend": false,
         "textfont": {
          "size": 9
         },
         "textposition": "auto",
         "texttemplate": "%{y:.2f}",
         "type": "bar",
         "x": [
          "LD Car",
          "LD Truck"
         ],
         "xaxis": "x2",
         "y": {
          "bdata": "0cWUO4Ppwj6A49ErjnzSPg==",
          "dtype": "f8"
         },
         "yaxis": "y2"
        },
        {
         "hovertemplate": "Carrier=FCEV<br>Period=2030<br>Vehicle Class=%{x}<br>Capacity (M units)=%{y}<extra></extra>",
         "legendgroup": "FCEV",
         "marker": {
          "color": "#DD4477",
          "pattern": {
           "shape": ""
          }
         },
         "name": "FCEV",
         "orientation": "v",
         "showlegend": false,
         "textfont": {
          "size": 9
         },
         "textposition": "auto",
         "texttemplate": "%{y:.2f}",
         "type": "bar",
         "x": [
          "LD Car",
          "LD Truck"
         ],
         "xaxis": "x3",
         "y": {
          "bdata": "FLCRo550zz5Apj+6Qv7ePg==",
          "dtype": "f8"
         },
         "yaxis": "y3"
        },
        {
         "hovertemplate": "Carrier=FCEV<br>Period=2035<br>Vehicle Class=%{x}<br>Capacity (M units)=%{y}<extra></extra>",
         "legendgroup": "FCEV",
         "marker": {
          "color": "#DD4477",
          "pattern": {
           "shape": ""
          }
         },
         "name": "FCEV",
         "orientation": "v",
         "showlegend": false,
         "textfont": {
          "size": 9
         },
         "textposition": "auto",
         "texttemplate": "%{y:.2f}",
         "type": "bar",
         "x": [
          "LD Car",
          "LD Truck"
         ],
         "xaxis": "x4",
         "y": {
          "bdata": "0nDin3DX0z45zNPRtALmPg==",
          "dtype": "f8"
         },
         "yaxis": "y4"
        },
        {
         "hovertemplate": "Carrier=FCEV<br>Period=2040<br>Vehicle Class=%{x}<br>Capacity (M units)=%{y}<extra></extra>",
         "legendgroup": "FCEV",
         "marker": {
          "color": "#DD4477",
          "pattern": {
           "shape": ""
          }
         },
         "name": "FCEV",
         "orientation": "v",
         "showlegend": false,
         "textfont": {
          "size": 9
         },
         "textposition": "auto",
         "texttemplate": "%{y:.2f}",
         "type": "bar",
         "x": [
          "LD Car",
          "LD Truck"
         ],
         "xaxis": "x5",
         "y": {
          "bdata": "kgxMB9Ea2D5tc1ZvTlHpPg==",
          "dtype": "f8"
         },
         "yaxis": "y5"
        },
        {
         "hovertemplate": "Carrier=FCEV<br>Period=2045<br>Vehicle Class=%{x}<br>Capacity (M units)=%{y}<extra></extra>",
         "legendgroup": "FCEV",
         "marker": {
          "color": "#DD4477",
          "pattern": {
           "shape": ""
          }
         },
         "name": "FCEV",
         "orientation": "v",
         "showlegend": false,
         "textfont": {
          "size": 9
         },
         "textposition": "auto",
         "texttemplate": "%{y:.2f}",
         "type": "bar",
         "x": [
          "LD Car",
          "LD Truck"
         ],
         "xaxis": "x6",
         "y": {
          "bdata": "aV4DvqSH3D7iMfviHsTuPg==",
          "dtype": "f8"
         },
         "yaxis": "y6"
        },
        {
         "hovertemplate": "Carrier=FCEV<br>Period=2050<br>Vehicle Class=%{x}<br>Capacity (M units)=%{y}<extra></extra>",
         "legendgroup": "FCEV",
         "marker": {
          "color": "#DD4477",
          "pattern": {
           "shape": ""
          }
         },
         "name": "FCEV",
         "orientation": "v",
         "showlegend": false,
         "textfont": {
          "size": 9
         },
         "textposition": "auto",
         "texttemplate": "%{y:.2f}",
         "type": "bar",
         "x": [
          "LD Car",
          "LD Truck"
         ],
         "xaxis": "x7",
         "y": {
          "bdata": "aYsEuRII4D5JLx6PQXPxPg==",
          "dtype": "f8"
         },
         "yaxis": "y7"
        }
       ],
       "layout": {
        "annotations": [
         {
          "font": {},
          "showarrow": false,
          "text": "2021",
          "x": 0.06285714285714285,
          "xanchor": "center",
          "xref": "paper",
          "y": -0.08,
          "yanchor": "top",
          "yref": "paper"
         },
         {
          "font": {},
          "showarrow": false,
          "text": "2025",
          "x": 0.20857142857142852,
          "xanchor": "center",
          "xref": "paper",
          "y": -0.08,
          "yanchor": "top",
          "yref": "paper"
         },
         {
          "font": {},
          "showarrow": false,
          "text": "2030",
          "x": 0.3542857142857142,
          "xanchor": "center",
          "xref": "paper",
          "y": -0.08,
          "yanchor": "top",
          "yref": "paper"
         },
         {
          "font": {},
          "showarrow": false,
          "text": "2035",
          "x": 0.5,
          "xanchor": "center",
          "xref": "paper",
          "y": -0.08,
          "yanchor": "top",
          "yref": "paper"
         },
         {
          "font": {},
          "showarrow": false,
          "text": "2040",
          "x": 0.6457142857142856,
          "xanchor": "center",
          "xref": "paper",
          "y": -0.08,
          "yanchor": "top",
          "yref": "paper"
         },
         {
          "font": {},
          "showarrow": false,
          "text": "2045",
          "x": 0.7914285714285713,
          "xanchor": "center",
          "xref": "paper",
          "y": -0.08,
          "yanchor": "top",
          "yref": "paper"
         },
         {
          "font": {},
          "showarrow": false,
          "text": "2050",
          "x": 0.937142857142857,
          "xanchor": "center",
          "xref": "paper",
          "y": -0.08,
          "yanchor": "top",
          "yref": "paper"
         }
        ],
        "bargap": 0.1,
        "barmode": "stack",
        "font": {
         "size": 14
        },
        "height": 650,
        "legend": {
         "orientation": "h",
         "title": {
          "text": ""
         },
         "tracegroupgap": 0,
         "x": 0.5,
         "xanchor": "center",
         "y": 1.03,
         "yanchor": "top"
        },
        "margin": {
         "t": 60
        },
        "template": {
         "data": {
          "bar": [
           {
            "error_x": {
             "color": "#2a3f5f"
            },
            "error_y": {
             "color": "#2a3f5f"
            },
            "marker": {
             "line": {
              "color": "white",
              "width": 0.5
             },
             "pattern": {
              "fillmode": "overlay",
              "size": 10,
              "solidity": 0.2
             }
            },
            "type": "bar"
           }
          ],
          "barpolar": [
           {
            "marker": {
             "line": {
              "color": "white",
              "width": 0.5
             },
             "pattern": {
              "fillmode": "overlay",
              "size": 10,
              "solidity": 0.2
             }
            },
            "type": "barpolar"
           }
          ],
          "carpet": [
           {
            "aaxis": {
             "endlinecolor": "#2a3f5f",
             "gridcolor": "#C8D4E3",
             "linecolor": "#C8D4E3",
             "minorgridcolor": "#C8D4E3",
             "startlinecolor": "#2a3f5f"
            },
            "baxis": {
             "endlinecolor": "#2a3f5f",
             "gridcolor": "#C8D4E3",
             "linecolor": "#C8D4E3",
             "minorgridcolor": "#C8D4E3",
             "startlinecolor": "#2a3f5f"
            },
            "type": "carpet"
           }
          ],
          "choropleth": [
           {
            "colorbar": {
             "outlinewidth": 0,
             "ticks": ""
            },
            "type": "choropleth"
           }
          ],
          "contour": [
           {
            "colorbar": {
             "outlinewidth": 0,
             "ticks": ""
            },
            "colorscale": [
             [
              0,
              "#0d0887"
             ],
             [
              0.1111111111111111,
              "#46039f"
             ],
             [
              0.2222222222222222,
              "#7201a8"
             ],
             [
              0.3333333333333333,
              "#9c179e"
             ],
             [
              0.4444444444444444,
              "#bd3786"
             ],
             [
              0.5555555555555556,
              "#d8576b"
             ],
             [
              0.6666666666666666,
              "#ed7953"
             ],
             [
              0.7777777777777778,
              "#fb9f3a"
             ],
             [
              0.8888888888888888,
              "#fdca26"
             ],
             [
              1,
              "#f0f921"
             ]
            ],
            "type": "contour"
           }
          ],
          "contourcarpet": [
           {
            "colorbar": {
             "outlinewidth": 0,
             "ticks": ""
            },
            "type": "contourcarpet"
           }
          ],
          "heatmap": [
           {
            "colorbar": {
             "outlinewidth": 0,
             "ticks": ""
            },
            "colorscale": [
             [
              0,
              "#0d0887"
             ],
             [
              0.1111111111111111,
              "#46039f"
             ],
             [
              0.2222222222222222,
              "#7201a8"
             ],
             [
              0.3333333333333333,
              "#9c179e"
             ],
             [
              0.4444444444444444,
              "#bd3786"
             ],
             [
              0.5555555555555556,
              "#d8576b"
             ],
             [
              0.6666666666666666,
              "#ed7953"
             ],
             [
              0.7777777777777778,
              "#fb9f3a"
             ],
             [
              0.8888888888888888,
              "#fdca26"
             ],
             [
              1,
              "#f0f921"
             ]
            ],
            "type": "heatmap"
           }
          ],
          "histogram": [
           {
            "marker": {
             "pattern": {
              "fillmode": "overlay",
              "size": 10,
              "solidity": 0.2
             }
            },
            "type": "histogram"
           }
          ],
          "histogram2d": [
           {
            "colorbar": {
             "outlinewidth": 0,
             "ticks": ""
            },
            "colorscale": [
             [
              0,
              "#0d0887"
             ],
             [
              0.1111111111111111,
              "#46039f"
             ],
             [
              0.2222222222222222,
              "#7201a8"
             ],
             [
              0.3333333333333333,
              "#9c179e"
             ],
             [
              0.4444444444444444,
              "#bd3786"
             ],
             [
              0.5555555555555556,
              "#d8576b"
             ],
             [
              0.6666666666666666,
              "#ed7953"
             ],
             [
              0.7777777777777778,
              "#fb9f3a"
             ],
             [
              0.8888888888888888,
              "#fdca26"
             ],
             [
              1,
              "#f0f921"
             ]
            ],
            "type": "histogram2d"
           }
          ],
          "histogram2dcontour": [
           {
            "colorbar": {
             "outlinewidth": 0,
             "ticks": ""
            },
            "colorscale": [
             [
              0,
              "#0d0887"
             ],
             [
              0.1111111111111111,
              "#46039f"
             ],
             [
              0.2222222222222222,
              "#7201a8"
             ],
             [
              0.3333333333333333,
              "#9c179e"
             ],
             [
              0.4444444444444444,
              "#bd3786"
             ],
             [
              0.5555555555555556,
              "#d8576b"
             ],
             [
              0.6666666666666666,
              "#ed7953"
             ],
             [
              0.7777777777777778,
              "#fb9f3a"
             ],
             [
              0.8888888888888888,
              "#fdca26"
             ],
             [
              1,
              "#f0f921"
             ]
            ],
            "type": "histogram2dcontour"
           }
          ],
          "mesh3d": [
           {
            "colorbar": {
             "outlinewidth": 0,
             "ticks": ""
            },
            "type": "mesh3d"
           }
          ],
          "parcoords": [
           {
            "line": {
             "colorbar": {
              "outlinewidth": 0,
              "ticks": ""
             }
            },
            "type": "parcoords"
           }
          ],
          "pie": [
           {
            "automargin": true,
            "type": "pie"
           }
          ],
          "scatter": [
           {
            "fillpattern": {
             "fillmode": "overlay",
             "size": 10,
             "solidity": 0.2
            },
            "type": "scatter"
           }
          ],
          "scatter3d": [
           {
            "line": {
             "colorbar": {
              "outlinewidth": 0,
              "ticks": ""
             }
            },
            "marker": {
             "colorbar": {
              "outlinewidth": 0,
              "ticks": ""
             }
            },
            "type": "scatter3d"
           }
          ],
          "scattercarpet": [
           {
            "marker": {
             "colorbar": {
              "outlinewidth": 0,
              "ticks": ""
             }
            },
            "type": "scattercarpet"
           }
          ],
          "scattergeo": [
           {
            "marker": {
             "colorbar": {
              "outlinewidth": 0,
              "ticks": ""
             }
            },
            "type": "scattergeo"
           }
          ],
          "scattergl": [
           {
            "marker": {
             "colorbar": {
              "outlinewidth": 0,
              "ticks": ""
             }
            },
            "type": "scattergl"
           }
          ],
          "scattermap": [
           {
            "marker": {
             "colorbar": {
              "outlinewidth": 0,
              "ticks": ""
             }
            },
            "type": "scattermap"
           }
          ],
          "scattermapbox": [
           {
            "marker": {
             "colorbar": {
              "outlinewidth": 0,
              "ticks": ""
             }
            },
            "type": "scattermapbox"
           }
          ],
          "scatterpolar": [
           {
            "marker": {
             "colorbar": {
              "outlinewidth": 0,
              "ticks": ""
             }
            },
            "type": "scatterpolar"
           }
          ],
          "scatterpolargl": [
           {
            "marker": {
             "colorbar": {
              "outlinewidth": 0,
              "ticks": ""
             }
            },
            "type": "scatterpolargl"
           }
          ],
          "scatterternary": [
           {
            "marker": {
             "colorbar": {
              "outlinewidth": 0,
              "ticks": ""
             }
            },
            "type": "scatterternary"
           }
          ],
          "surface": [
           {
            "colorbar": {
             "outlinewidth": 0,
             "ticks": ""
            },
            "colorscale": [
             [
              0,
              "#0d0887"
             ],
             [
              0.1111111111111111,
              "#46039f"
             ],
             [
              0.2222222222222222,
              "#7201a8"
             ],
             [
              0.3333333333333333,
              "#9c179e"
             ],
             [
              0.4444444444444444,
              "#bd3786"
             ],
             [
              0.5555555555555556,
              "#d8576b"
             ],
             [
              0.6666666666666666,
              "#ed7953"
             ],
             [
              0.7777777777777778,
              "#fb9f3a"
             ],
             [
              0.8888888888888888,
              "#fdca26"
             ],
             [
              1,
              "#f0f921"
             ]
            ],
            "type": "surface"
           }
          ],
          "table": [
           {
            "cells": {
             "fill": {
              "color": "#EBF0F8"
             },
             "line": {
              "color": "white"
             }
            },
            "header": {
             "fill": {
              "color": "#C8D4E3"
             },
             "line": {
              "color": "white"
             }
            },
            "type": "table"
           }
          ]
         },
         "layout": {
          "annotationdefaults": {
           "arrowcolor": "#2a3f5f",
           "arrowhead": 0,
           "arrowwidth": 1
          },
          "autotypenumbers": "strict",
          "coloraxis": {
           "colorbar": {
            "outlinewidth": 0,
            "ticks": ""
           }
          },
          "colorscale": {
           "diverging": [
            [
             0,
             "#8e0152"
            ],
            [
             0.1,
             "#c51b7d"
            ],
            [
             0.2,
             "#de77ae"
            ],
            [
             0.3,
             "#f1b6da"
            ],
            [
             0.4,
             "#fde0ef"
            ],
            [
             0.5,
             "#f7f7f7"
            ],
            [
             0.6,
             "#e6f5d0"
            ],
            [
             0.7,
             "#b8e186"
            ],
            [
             0.8,
             "#7fbc41"
            ],
            [
             0.9,
             "#4d9221"
            ],
            [
             1,
             "#276419"
            ]
           ],
           "sequential": [
            [
             0,
             "#0d0887"
            ],
            [
             0.1111111111111111,
             "#46039f"
            ],
            [
             0.2222222222222222,
             "#7201a8"
            ],
            [
             0.3333333333333333,
             "#9c179e"
            ],
            [
             0.4444444444444444,
             "#bd3786"
            ],
            [
             0.5555555555555556,
             "#d8576b"
            ],
            [
             0.6666666666666666,
             "#ed7953"
            ],
            [
             0.7777777777777778,
             "#fb9f3a"
            ],
            [
             0.8888888888888888,
             "#fdca26"
            ],
            [
             1,
             "#f0f921"
            ]
           ],
           "sequentialminus": [
            [
             0,
             "#0d0887"
            ],
            [
             0.1111111111111111,
             "#46039f"
            ],
            [
             0.2222222222222222,
             "#7201a8"
            ],
            [
             0.3333333333333333,
             "#9c179e"
            ],
            [
             0.4444444444444444,
             "#bd3786"
            ],
            [
             0.5555555555555556,
             "#d8576b"
            ],
            [
             0.6666666666666666,
             "#ed7953"
            ],
            [
             0.7777777777777778,
             "#fb9f3a"
            ],
            [
             0.8888888888888888,
             "#fdca26"
            ],
            [
             1,
             "#f0f921"
            ]
           ]
          },
          "colorway": [
           "#636efa",
           "#EF553B",
           "#00cc96",
           "#ab63fa",
           "#FFA15A",
           "#19d3f3",
           "#FF6692",
           "#B6E880",
           "#FF97FF",
           "#FECB52"
          ],
          "font": {
           "color": "#2a3f5f"
          },
          "geo": {
           "bgcolor": "white",
           "lakecolor": "white",
           "landcolor": "white",
           "showlakes": true,
           "showland": true,
           "subunitcolor": "#C8D4E3"
          },
          "hoverlabel": {
           "align": "left"
          },
          "hovermode": "closest",
          "mapbox": {
           "style": "light"
          },
          "paper_bgcolor": "white",
          "plot_bgcolor": "white",
          "polar": {
           "angularaxis": {
            "gridcolor": "#EBF0F8",
            "linecolor": "#EBF0F8",
            "ticks": ""
           },
           "bgcolor": "white",
           "radialaxis": {
            "gridcolor": "#EBF0F8",
            "linecolor": "#EBF0F8",
            "ticks": ""
           }
          },
          "scene": {
           "xaxis": {
            "backgroundcolor": "white",
            "gridcolor": "#DFE8F3",
            "gridwidth": 2,
            "linecolor": "#EBF0F8",
            "showbackground": true,
            "ticks": "",
            "zerolinecolor": "#EBF0F8"
           },
           "yaxis": {
            "backgroundcolor": "white",
            "gridcolor": "#DFE8F3",
            "gridwidth": 2,
            "linecolor": "#EBF0F8",
            "showbackground": true,
            "ticks": "",
            "zerolinecolor": "#EBF0F8"
           },
           "zaxis": {
            "backgroundcolor": "white",
            "gridcolor": "#DFE8F3",
            "gridwidth": 2,
            "linecolor": "#EBF0F8",
            "showbackground": true,
            "ticks": "",
            "zerolinecolor": "#EBF0F8"
           }
          },
          "shapedefaults": {
           "line": {
            "color": "#2a3f5f"
           }
          },
          "ternary": {
           "aaxis": {
            "gridcolor": "#DFE8F3",
            "linecolor": "#A2B1C6",
            "ticks": ""
           },
           "baxis": {
            "gridcolor": "#DFE8F3",
            "linecolor": "#A2B1C6",
            "ticks": ""
           },
           "bgcolor": "white",
           "caxis": {
            "gridcolor": "#DFE8F3",
            "linecolor": "#A2B1C6",
            "ticks": ""
           }
          },
          "title": {
           "x": 0.05
          },
          "xaxis": {
           "automargin": true,
           "gridcolor": "#EBF0F8",
           "linecolor": "#EBF0F8",
           "ticks": "",
           "title": {
            "standoff": 15
           },
           "zerolinecolor": "#EBF0F8",
           "zerolinewidth": 2
          },
          "yaxis": {
           "automargin": true,
           "gridcolor": "#EBF0F8",
           "linecolor": "#EBF0F8",
           "ticks": "",
           "title": {
            "standoff": 15
           },
           "zerolinecolor": "#EBF0F8",
           "zerolinewidth": 2
          }
         }
        },
        "title": {
         "text": "Transportation LDV fleet stock in ON by vehicle class and drivetrain",
         "x": 0.5,
         "xanchor": "center",
         "y": 0.97,
         "yanchor": "top"
        },
        "width": 1000,
        "xaxis": {
         "anchor": "y",
         "domain": [
          0,
          0.1257142857142857
         ],
         "title": {
          "text": ""
         }
        },
        "xaxis2": {
         "anchor": "y2",
         "domain": [
          0.14571428571428569,
          0.27142857142857135
         ],
         "matches": "x",
         "title": {
          "text": ""
         }
        },
        "xaxis3": {
         "anchor": "y3",
         "domain": [
          0.29142857142857137,
          0.41714285714285704
         ],
         "matches": "x",
         "title": {
          "text": ""
         }
        },
        "xaxis4": {
         "anchor": "y4",
         "domain": [
          0.4371428571428571,
          0.5628571428571428
         ],
         "matches": "x",
         "title": {
          "text": ""
         }
        },
        "xaxis5": {
         "anchor": "y5",
         "domain": [
          0.5828571428571427,
          0.7085714285714284
         ],
         "matches": "x",
         "title": {
          "text": ""
         }
        },
        "xaxis6": {
         "anchor": "y6",
         "domain": [
          0.7285714285714284,
          0.8542857142857141
         ],
         "matches": "x",
         "title": {
          "text": ""
         }
        },
        "xaxis7": {
         "anchor": "y7",
         "domain": [
          0.8742857142857142,
          0.9999999999999999
         ],
         "matches": "x",
         "title": {
          "text": ""
         }
        },
        "yaxis": {
         "anchor": "x",
         "domain": [
          0,
          1
         ],
         "dtick": 1,
         "title": {
          "standoff": 0,
          "text": "Fleet stock (M units)"
         }
        },
        "yaxis2": {
         "anchor": "x2",
         "domain": [
          0,
          1
         ],
         "dtick": 1,
         "matches": "y",
         "showticklabels": false
        },
        "yaxis3": {
         "anchor": "x3",
         "domain": [
          0,
          1
         ],
         "dtick": 1,
         "matches": "y",
         "showticklabels": false
        },
        "yaxis4": {
         "anchor": "x4",
         "domain": [
          0,
          1
         ],
         "dtick": 1,
         "matches": "y",
         "showticklabels": false
        },
        "yaxis5": {
         "anchor": "x5",
         "domain": [
          0,
          1
         ],
         "dtick": 1,
         "matches": "y",
         "showticklabels": false
        },
        "yaxis6": {
         "anchor": "x6",
         "domain": [
          0,
          1
         ],
         "dtick": 1,
         "matches": "y",
         "showticklabels": false
        },
        "yaxis7": {
         "anchor": "x7",
         "domain": [
          0,
          1
         ],
         "dtick": 1,
         "matches": "y",
         "showticklabels": false
        }
       }
      }
     },
     "metadata": {},
     "output_type": "display_data"
    }
   ],
   "source": [
    "ref_fig = ref_trncap[ref_trncap['Vehicle Class'].isin(['LD Car', 'LD Truck'])][['Period', 'Vehicle Class', 'Capacity (M units)', 'Carrier']].groupby(['Period', 'Vehicle Class', 'Carrier'], as_index=False).sum()\n",
    "\n",
    "ref_fig['Carrier'] = pd.Categorical(ref_fig['Carrier'], categories=drivetrain_order, ordered=True)\n",
    "ref_fig = ref_fig.sort_values(['Carrier', 'Period'])\n",
    "\n",
    "fig = px.bar(ref_fig, \n",
    "             x='Vehicle Class', \n",
    "             y='Capacity (M units)', \n",
    "             color='Carrier', \n",
    "             barmode='stack', \n",
    "             facet_col='Period',\n",
    "             facet_col_spacing=2E-2,\n",
    "             template='plotly_white',\n",
    "             color_discrete_sequence=px.colors.qualitative.G10[:7] + px.colors.qualitative.G10[8:],\n",
    "             text_auto='.2f',\n",
    "            #  text='Demand (PJ)_sum'\n",
    "             width=1000, height=650,\n",
    "             )\n",
    "\n",
    "fig.update_layout(title=dict(\n",
    "        text='Transportation LDV fleet stock in ON by vehicle class and drivetrain',\n",
    "        x=0.5, \n",
    "        y=0.97,\n",
    "        xanchor='center',\n",
    "        yanchor='top'\n",
    "    ),\n",
    "    xaxis=dict(title='Period'),\n",
    "    yaxis=dict(title='Fleet stock (M units)',\n",
    "               dtick=1),\n",
    "    yaxis_title_standoff=0,\n",
    "    legend_title_text='',\n",
    "    bargap=0.1,\n",
    "    legend=dict(\n",
    "        orientation='h',  \n",
    "        yanchor='top',\n",
    "        y=1.03,  \n",
    "        xanchor='center',\n",
    "        x=0.5),\n",
    "    font=dict(\n",
    "        # family=\"Open Sans\",\n",
    "        size=14)\n",
    "    )\n",
    "\n",
    "for annotation in fig.layout.annotations:\n",
    "    annotation.text = annotation.text.split('=')[1]\n",
    "    annotation.y = -0.08  \n",
    "    annotation.yanchor = 'top' \n",
    "\n",
    "for axis in fig.layout:\n",
    "    if axis.startswith('yaxis'):\n",
    "        fig.layout[axis].dtick = 1\n",
    "\n",
    "for axis in fig.layout:\n",
    "    if axis.startswith('xaxis'):\n",
    "        fig.layout[axis].title.text = ''\n",
    "\n",
    "fig.for_each_trace(lambda trace: trace.update(textfont=dict(size=9)))\n",
    "\n",
    "fig.show()"
   ]
  },
  {
   "cell_type": "code",
   "execution_count": 253,
   "metadata": {},
   "outputs": [
    {
     "data": {
      "application/vnd.plotly.v1+json": {
       "config": {
        "plotlyServerURL": "https://plot.ly"
       },
       "data": [
        {
         "hovertemplate": "Carrier=Gasoline<br>Period=2021<br>Vehicle Class=%{x}<br>Capacity (k units)=%{y}<extra></extra>",
         "legendgroup": "Gasoline",
         "marker": {
          "color": "#3366CC",
          "pattern": {
           "shape": ""
          }
         },
         "name": "Gasoline",
         "orientation": "v",
         "showlegend": true,
         "textfont": {
          "size": 9
         },
         "textposition": "auto",
         "texttemplate": "%{y:.1f}",
         "type": "bar",
         "x": [
          "Bus",
          "MD Truck"
         ],
         "xaxis": "x",
         "y": {
          "bdata": "2441s04S8j+Yccnp6K9gQA==",
          "dtype": "f8"
         },
         "yaxis": "y"
        },
        {
         "hovertemplate": "Carrier=Gasoline<br>Period=2025<br>Vehicle Class=%{x}<br>Capacity (k units)=%{y}<extra></extra>",
         "legendgroup": "Gasoline",
         "marker": {
          "color": "#3366CC",
          "pattern": {
           "shape": ""
          }
         },
         "name": "Gasoline",
         "orientation": "v",
         "showlegend": false,
         "textfont": {
          "size": 9
         },
         "textposition": "auto",
         "texttemplate": "%{y:.1f}",
         "type": "bar",
         "x": [
          "Bus",
          "MD Truck"
         ],
         "xaxis": "x2",
         "y": {
          "bdata": "zovryYHX8z/IxT2GQQdfQA==",
          "dtype": "f8"
         },
         "yaxis": "y2"
        },
        {
         "hovertemplate": "Carrier=Gasoline<br>Period=2030<br>Vehicle Class=%{x}<br>Capacity (k units)=%{y}<extra></extra>",
         "legendgroup": "Gasoline",
         "marker": {
          "color": "#3366CC",
          "pattern": {
           "shape": ""
          }
         },
         "name": "Gasoline",
         "orientation": "v",
         "showlegend": false,
         "textfont": {
          "size": 9
         },
         "textposition": "auto",
         "texttemplate": "%{y:.1f}",
         "type": "bar",
         "x": [
          "Bus",
          "MD Truck"
         ],
         "xaxis": "x3",
         "y": {
          "bdata": "g+t2ZyrF9T9aR/3wi4JVQA==",
          "dtype": "f8"
         },
         "yaxis": "y3"
        },
        {
         "hovertemplate": "Carrier=Gasoline<br>Period=2035<br>Vehicle Class=%{x}<br>Capacity (k units)=%{y}<extra></extra>",
         "legendgroup": "Gasoline",
         "marker": {
          "color": "#3366CC",
          "pattern": {
           "shape": ""
          }
         },
         "name": "Gasoline",
         "orientation": "v",
         "showlegend": false,
         "textfont": {
          "size": 9
         },
         "textposition": "auto",
         "texttemplate": "%{y:.1f}",
         "type": "bar",
         "x": [
          "Bus",
          "MD Truck"
         ],
         "xaxis": "x4",
         "y": {
          "bdata": "hmZ3+KMy8T+IDFNWa9FQQA==",
          "dtype": "f8"
         },
         "yaxis": "y4"
        },
        {
         "hovertemplate": "Carrier=Gasoline<br>Period=2040<br>Vehicle Class=%{x}<br>Capacity (k units)=%{y}<extra></extra>",
         "legendgroup": "Gasoline",
         "marker": {
          "color": "#3366CC",
          "pattern": {
           "shape": ""
          }
         },
         "name": "Gasoline",
         "orientation": "v",
         "showlegend": false,
         "textfont": {
          "size": 9
         },
         "textposition": "auto",
         "texttemplate": "%{y:.1f}",
         "type": "bar",
         "x": [
          "Bus",
          "MD Truck"
         ],
         "xaxis": "x5",
         "y": {
          "bdata": "C1xbSCB37j80PjH4LlU6QA==",
          "dtype": "f8"
         },
         "yaxis": "y5"
        },
        {
         "hovertemplate": "Carrier=Gasoline<br>Period=2045<br>Vehicle Class=%{x}<br>Capacity (k units)=%{y}<extra></extra>",
         "legendgroup": "Gasoline",
         "marker": {
          "color": "#3366CC",
          "pattern": {
           "shape": ""
          }
         },
         "name": "Gasoline",
         "orientation": "v",
         "showlegend": false,
         "textfont": {
          "size": 9
         },
         "textposition": "auto",
         "texttemplate": "%{y:.1f}",
         "type": "bar",
         "x": [
          "Bus",
          "MD Truck"
         ],
         "xaxis": "x6",
         "y": {
          "bdata": "OMnLTY0Q8T+RyNzC7fIwQA==",
          "dtype": "f8"
         },
         "yaxis": "y6"
        },
        {
         "hovertemplate": "Carrier=Gasoline<br>Period=2050<br>Vehicle Class=%{x}<br>Capacity (k units)=%{y}<extra></extra>",
         "legendgroup": "Gasoline",
         "marker": {
          "color": "#3366CC",
          "pattern": {
           "shape": ""
          }
         },
         "name": "Gasoline",
         "orientation": "v",
         "showlegend": false,
         "textfont": {
          "size": 9
         },
         "textposition": "auto",
         "texttemplate": "%{y:.1f}",
         "type": "bar",
         "x": [
          "Bus",
          "MD Truck"
         ],
         "xaxis": "x7",
         "y": {
          "bdata": "KqVvWAQ98T8AAAAAAAAAAA==",
          "dtype": "f8"
         },
         "yaxis": "y7"
        },
        {
         "hovertemplate": "Carrier=Diesel<br>Period=2021<br>Vehicle Class=%{x}<br>Capacity (k units)=%{y}<extra></extra>",
         "legendgroup": "Diesel",
         "marker": {
          "color": "#DC3912",
          "pattern": {
           "shape": ""
          }
         },
         "name": "Diesel",
         "orientation": "v",
         "showlegend": true,
         "textfont": {
          "size": 9
         },
         "textposition": "auto",
         "texttemplate": "%{y:.1f}",
         "type": "bar",
         "x": [
          "Bus",
          "HD Truck",
          "MD Truck"
         ],
         "xaxis": "x",
         "y": {
          "bdata": "JQuYwK2rL0Bq+1dWmtFgQPCK4H8rsmxA",
          "dtype": "f8"
         },
         "yaxis": "y"
        },
        {
         "hovertemplate": "Carrier=Diesel<br>Period=2025<br>Vehicle Class=%{x}<br>Capacity (k units)=%{y}<extra></extra>",
         "legendgroup": "Diesel",
         "marker": {
          "color": "#DC3912",
          "pattern": {
           "shape": ""
          }
         },
         "name": "Diesel",
         "orientation": "v",
         "showlegend": false,
         "textfont": {
          "size": 9
         },
         "textposition": "auto",
         "texttemplate": "%{y:.1f}",
         "type": "bar",
         "x": [
          "Bus",
          "HD Truck",
          "MD Truck"
         ],
         "xaxis": "x2",
         "y": {
          "bdata": "7UJznUaaK0Ast7QakpVdQFnABG6doGpA",
          "dtype": "f8"
         },
         "yaxis": "y2"
        },
        {
         "hovertemplate": "Carrier=Diesel<br>Period=2030<br>Vehicle Class=%{x}<br>Capacity (k units)=%{y}<extra></extra>",
         "legendgroup": "Diesel",
         "marker": {
          "color": "#DC3912",
          "pattern": {
           "shape": ""
          }
         },
         "name": "Diesel",
         "orientation": "v",
         "showlegend": false,
         "textfont": {
          "size": 9
         },
         "textposition": "auto",
         "texttemplate": "%{y:.1f}",
         "type": "bar",
         "x": [
          "Bus",
          "HD Truck",
          "MD Truck"
         ],
         "xaxis": "x3",
         "y": {
          "bdata": "G197ZkngHEADE7h1t6pUQG1blNngamJA",
          "dtype": "f8"
         },
         "yaxis": "y3"
        },
        {
         "hovertemplate": "Carrier=Diesel<br>Period=2035<br>Vehicle Class=%{x}<br>Capacity (k units)=%{y}<extra></extra>",
         "legendgroup": "Diesel",
         "marker": {
          "color": "#DC3912",
          "pattern": {
           "shape": ""
          }
         },
         "name": "Diesel",
         "orientation": "v",
         "showlegend": false,
         "textfont": {
          "size": 9
         },
         "textposition": "auto",
         "texttemplate": "%{y:.1f}",
         "type": "bar",
         "x": [
          "Bus",
          "HD Truck",
          "MD Truck"
         ],
         "xaxis": "x4",
         "y": {
          "bdata": "AAAAAAAAAACHUKVmjzVQQH+MuWuJj1xA",
          "dtype": "f8"
         },
         "yaxis": "y4"
        },
        {
         "hovertemplate": "Carrier=Diesel<br>Period=2040<br>Vehicle Class=%{x}<br>Capacity (k units)=%{y}<extra></extra>",
         "legendgroup": "Diesel",
         "marker": {
          "color": "#DC3912",
          "pattern": {
           "shape": ""
          }
         },
         "name": "Diesel",
         "orientation": "v",
         "showlegend": false,
         "textfont": {
          "size": 9
         },
         "textposition": "auto",
         "texttemplate": "%{y:.1f}",
         "type": "bar",
         "x": [
          "Bus",
          "HD Truck",
          "MD Truck"
         ],
         "xaxis": "x5",
         "y": {
          "bdata": "AAAAAAAAAABGzsKedjQ/QGFxOPOrfEZA",
          "dtype": "f8"
         },
         "yaxis": "y5"
        },
        {
         "hovertemplate": "Carrier=Diesel<br>Period=2045<br>Vehicle Class=%{x}<br>Capacity (k units)=%{y}<extra></extra>",
         "legendgroup": "Diesel",
         "marker": {
          "color": "#DC3912",
          "pattern": {
           "shape": ""
          }
         },
         "name": "Diesel",
         "orientation": "v",
         "showlegend": false,
         "textfont": {
          "size": 9
         },
         "textposition": "auto",
         "texttemplate": "%{y:.1f}",
         "type": "bar",
         "x": [
          "Bus",
          "HD Truck",
          "MD Truck"
         ],
         "xaxis": "x6",
         "y": {
          "bdata": "AAAAAAAAAACZKhiV1IM4QA2OklfnbDxA",
          "dtype": "f8"
         },
         "yaxis": "y6"
        },
        {
         "hovertemplate": "Carrier=Diesel<br>Period=2050<br>Vehicle Class=%{x}<br>Capacity (k units)=%{y}<extra></extra>",
         "legendgroup": "Diesel",
         "marker": {
          "color": "#DC3912",
          "pattern": {
           "shape": ""
          }
         },
         "name": "Diesel",
         "orientation": "v",
         "showlegend": false,
         "textfont": {
          "size": 9
         },
         "textposition": "auto",
         "texttemplate": "%{y:.1f}",
         "type": "bar",
         "x": [
          "Bus",
          "HD Truck",
          "MD Truck"
         ],
         "xaxis": "x7",
         "y": {
          "bdata": "AAAAAAAAAABJS+XtCDMvQAAAAAAAAAAA",
          "dtype": "f8"
         },
         "yaxis": "y7"
        },
        {
         "hovertemplate": "Carrier=CNG<br>Period=2021<br>Vehicle Class=%{x}<br>Capacity (k units)=%{y}<extra></extra>",
         "legendgroup": "CNG",
         "marker": {
          "color": "#FF9900",
          "pattern": {
           "shape": ""
          }
         },
         "name": "CNG",
         "orientation": "v",
         "showlegend": true,
         "textfont": {
          "size": 9
         },
         "textposition": "auto",
         "texttemplate": "%{y:.1f}",
         "type": "bar",
         "x": [
          "Bus"
         ],
         "xaxis": "x",
         "y": {
          "bdata": "Wp4Hd2ft5D8=",
          "dtype": "f8"
         },
         "yaxis": "y"
        },
        {
         "hovertemplate": "Carrier=CNG<br>Period=2025<br>Vehicle Class=%{x}<br>Capacity (k units)=%{y}<extra></extra>",
         "legendgroup": "CNG",
         "marker": {
          "color": "#FF9900",
          "pattern": {
           "shape": ""
          }
         },
         "name": "CNG",
         "orientation": "v",
         "showlegend": false,
         "textfont": {
          "size": 9
         },
         "textposition": "auto",
         "texttemplate": "%{y:.1f}",
         "type": "bar",
         "x": [
          "Bus"
         ],
         "xaxis": "x2",
         "y": {
          "bdata": "m5SCbi9p5D8=",
          "dtype": "f8"
         },
         "yaxis": "y2"
        },
        {
         "hovertemplate": "Carrier=CNG<br>Period=2030<br>Vehicle Class=%{x}<br>Capacity (k units)=%{y}<extra></extra>",
         "legendgroup": "CNG",
         "marker": {
          "color": "#FF9900",
          "pattern": {
           "shape": ""
          }
         },
         "name": "CNG",
         "orientation": "v",
         "showlegend": false,
         "textfont": {
          "size": 9
         },
         "textposition": "auto",
         "texttemplate": "%{y:.1f}",
         "type": "bar",
         "x": [
          "Bus"
         ],
         "xaxis": "x3",
         "y": {
          "bdata": "3fRnP1JE4j8=",
          "dtype": "f8"
         },
         "yaxis": "y3"
        },
        {
         "hovertemplate": "Carrier=CNG<br>Period=2035<br>Vehicle Class=%{x}<br>Capacity (k units)=%{y}<extra></extra>",
         "legendgroup": "CNG",
         "marker": {
          "color": "#FF9900",
          "pattern": {
           "shape": ""
          }
         },
         "name": "CNG",
         "orientation": "v",
         "showlegend": false,
         "textfont": {
          "size": 9
         },
         "textposition": "auto",
         "texttemplate": "%{y:.1f}",
         "type": "bar",
         "x": [
          "Bus"
         ],
         "xaxis": "x4",
         "y": {
          "bdata": "AAAAAAAAAAA=",
          "dtype": "f8"
         },
         "yaxis": "y4"
        },
        {
         "hovertemplate": "Carrier=CNG<br>Period=2040<br>Vehicle Class=%{x}<br>Capacity (k units)=%{y}<extra></extra>",
         "legendgroup": "CNG",
         "marker": {
          "color": "#FF9900",
          "pattern": {
           "shape": ""
          }
         },
         "name": "CNG",
         "orientation": "v",
         "showlegend": false,
         "textfont": {
          "size": 9
         },
         "textposition": "auto",
         "texttemplate": "%{y:.1f}",
         "type": "bar",
         "x": [
          "Bus"
         ],
         "xaxis": "x5",
         "y": {
          "bdata": "AAAAAAAAAAA=",
          "dtype": "f8"
         },
         "yaxis": "y5"
        },
        {
         "hovertemplate": "Carrier=CNG<br>Period=2045<br>Vehicle Class=%{x}<br>Capacity (k units)=%{y}<extra></extra>",
         "legendgroup": "CNG",
         "marker": {
          "color": "#FF9900",
          "pattern": {
           "shape": ""
          }
         },
         "name": "CNG",
         "orientation": "v",
         "showlegend": false,
         "textfont": {
          "size": 9
         },
         "textposition": "auto",
         "texttemplate": "%{y:.1f}",
         "type": "bar",
         "x": [
          "Bus"
         ],
         "xaxis": "x6",
         "y": {
          "bdata": "AAAAAAAAAAA=",
          "dtype": "f8"
         },
         "yaxis": "y6"
        },
        {
         "hovertemplate": "Carrier=CNG<br>Period=2050<br>Vehicle Class=%{x}<br>Capacity (k units)=%{y}<extra></extra>",
         "legendgroup": "CNG",
         "marker": {
          "color": "#FF9900",
          "pattern": {
           "shape": ""
          }
         },
         "name": "CNG",
         "orientation": "v",
         "showlegend": false,
         "textfont": {
          "size": 9
         },
         "textposition": "auto",
         "texttemplate": "%{y:.1f}",
         "type": "bar",
         "x": [
          "Bus"
         ],
         "xaxis": "x7",
         "y": {
          "bdata": "AAAAAAAAAAA=",
          "dtype": "f8"
         },
         "yaxis": "y7"
        },
        {
         "hovertemplate": "Carrier=HEV<br>Period=2021<br>Vehicle Class=%{x}<br>Capacity (k units)=%{y}<extra></extra>",
         "legendgroup": "HEV",
         "marker": {
          "color": "#109618",
          "pattern": {
           "shape": ""
          }
         },
         "name": "HEV",
         "orientation": "v",
         "showlegend": true,
         "textfont": {
          "size": 9
         },
         "textposition": "auto",
         "texttemplate": "%{y:.1f}",
         "type": "bar",
         "x": [
          "Bus",
          "HD Truck",
          "MD Truck"
         ],
         "xaxis": "x",
         "y": {
          "bdata": "em94lp7O8z4WUUVgLZkxQAAAAAAAAAAA",
          "dtype": "f8"
         },
         "yaxis": "y"
        },
        {
         "hovertemplate": "Carrier=HEV<br>Period=2025<br>Vehicle Class=%{x}<br>Capacity (k units)=%{y}<extra></extra>",
         "legendgroup": "HEV",
         "marker": {
          "color": "#109618",
          "pattern": {
           "shape": ""
          }
         },
         "name": "HEV",
         "orientation": "v",
         "showlegend": false,
         "textfont": {
          "size": 9
         },
         "textposition": "auto",
         "texttemplate": "%{y:.1f}",
         "type": "bar",
         "x": [
          "Bus",
          "HD Truck",
          "MD Truck"
         ],
         "xaxis": "x2",
         "y": {
          "bdata": "em94lp7O8z4omKpgCBlEQAAAAAAAAAAA",
          "dtype": "f8"
         },
         "yaxis": "y2"
        },
        {
         "hovertemplate": "Carrier=HEV<br>Period=2030<br>Vehicle Class=%{x}<br>Capacity (k units)=%{y}<extra></extra>",
         "legendgroup": "HEV",
         "marker": {
          "color": "#109618",
          "pattern": {
           "shape": ""
          }
         },
         "name": "HEV",
         "orientation": "v",
         "showlegend": false,
         "textfont": {
          "size": 9
         },
         "textposition": "auto",
         "texttemplate": "%{y:.1f}",
         "type": "bar",
         "x": [
          "Bus",
          "HD Truck",
          "MD Truck"
         ],
         "xaxis": "x3",
         "y": {
          "bdata": "em94lp7O8z72epAX1edSQAAAAAAAAAAA",
          "dtype": "f8"
         },
         "yaxis": "y3"
        },
        {
         "hovertemplate": "Carrier=HEV<br>Period=2035<br>Vehicle Class=%{x}<br>Capacity (k units)=%{y}<extra></extra>",
         "legendgroup": "HEV",
         "marker": {
          "color": "#109618",
          "pattern": {
           "shape": ""
          }
         },
         "name": "HEV",
         "orientation": "v",
         "showlegend": false,
         "textfont": {
          "size": 9
         },
         "textposition": "auto",
         "texttemplate": "%{y:.1f}",
         "type": "bar",
         "x": [
          "Bus",
          "HD Truck",
          "MD Truck"
         ],
         "xaxis": "x4",
         "y": {
          "bdata": "AAAAAAAAAABspOWbhT9XQAAAAAAAAAAA",
          "dtype": "f8"
         },
         "yaxis": "y4"
        },
        {
         "hovertemplate": "Carrier=HEV<br>Period=2040<br>Vehicle Class=%{x}<br>Capacity (k units)=%{y}<extra></extra>",
         "legendgroup": "HEV",
         "marker": {
          "color": "#109618",
          "pattern": {
           "shape": ""
          }
         },
         "name": "HEV",
         "orientation": "v",
         "showlegend": false,
         "textfont": {
          "size": 9
         },
         "textposition": "auto",
         "texttemplate": "%{y:.1f}",
         "type": "bar",
         "x": [
          "Bus",
          "HD Truck",
          "MD Truck"
         ],
         "xaxis": "x5",
         "y": {
          "bdata": "AAAAAAAAAABIcd9vMvhZQAAAAAAAAAAA",
          "dtype": "f8"
         },
         "yaxis": "y5"
        },
        {
         "hovertemplate": "Carrier=HEV<br>Period=2045<br>Vehicle Class=%{x}<br>Capacity (k units)=%{y}<extra></extra>",
         "legendgroup": "HEV",
         "marker": {
          "color": "#109618",
          "pattern": {
           "shape": ""
          }
         },
         "name": "HEV",
         "orientation": "v",
         "showlegend": false,
         "textfont": {
          "size": 9
         },
         "textposition": "auto",
         "texttemplate": "%{y:.1f}",
         "type": "bar",
         "x": [
          "Bus",
          "HD Truck",
          "MD Truck"
         ],
         "xaxis": "x6",
         "y": {
          "bdata": "AAAAAAAAAADR1hQ21MhbQAAAAAAAAAAA",
          "dtype": "f8"
         },
         "yaxis": "y6"
        },
        {
         "hovertemplate": "Carrier=HEV<br>Period=2050<br>Vehicle Class=%{x}<br>Capacity (k units)=%{y}<extra></extra>",
         "legendgroup": "HEV",
         "marker": {
          "color": "#109618",
          "pattern": {
           "shape": ""
          }
         },
         "name": "HEV",
         "orientation": "v",
         "showlegend": false,
         "textfont": {
          "size": 9
         },
         "textposition": "auto",
         "texttemplate": "%{y:.1f}",
         "type": "bar",
         "x": [
          "Bus",
          "HD Truck",
          "MD Truck"
         ],
         "xaxis": "x7",
         "y": {
          "bdata": "AAAAAAAAAADrwbQVd+xdQAAAAAAAAAAA",
          "dtype": "f8"
         },
         "yaxis": "y7"
        },
        {
         "hovertemplate": "Carrier=PHEV<br>Period=2021<br>Vehicle Class=%{x}<br>Capacity (k units)=%{y}<extra></extra>",
         "legendgroup": "PHEV",
         "marker": {
          "color": "#990099",
          "pattern": {
           "shape": ""
          }
         },
         "name": "PHEV",
         "orientation": "v",
         "showlegend": true,
         "textfont": {
          "size": 9
         },
         "textposition": "auto",
         "texttemplate": "%{y:.1f}",
         "type": "bar",
         "x": [
          "Bus",
          "HD Truck",
          "MD Truck"
         ],
         "xaxis": "x",
         "y": {
          "bdata": "AAAAAAAAAAAAAAAAAAAAAAAAAAAAAAAA",
          "dtype": "f8"
         },
         "yaxis": "y"
        },
        {
         "hovertemplate": "Carrier=PHEV<br>Period=2025<br>Vehicle Class=%{x}<br>Capacity (k units)=%{y}<extra></extra>",
         "legendgroup": "PHEV",
         "marker": {
          "color": "#990099",
          "pattern": {
           "shape": ""
          }
         },
         "name": "PHEV",
         "orientation": "v",
         "showlegend": false,
         "textfont": {
          "size": 9
         },
         "textposition": "auto",
         "texttemplate": "%{y:.1f}",
         "type": "bar",
         "x": [
          "Bus",
          "HD Truck",
          "MD Truck"
         ],
         "xaxis": "x2",
         "y": {
          "bdata": "AAAAAAAAAAAAAAAAAAAAAAAAAAAAAAAA",
          "dtype": "f8"
         },
         "yaxis": "y2"
        },
        {
         "hovertemplate": "Carrier=PHEV<br>Period=2030<br>Vehicle Class=%{x}<br>Capacity (k units)=%{y}<extra></extra>",
         "legendgroup": "PHEV",
         "marker": {
          "color": "#990099",
          "pattern": {
           "shape": ""
          }
         },
         "name": "PHEV",
         "orientation": "v",
         "showlegend": false,
         "textfont": {
          "size": 9
         },
         "textposition": "auto",
         "texttemplate": "%{y:.1f}",
         "type": "bar",
         "x": [
          "Bus",
          "HD Truck",
          "MD Truck"
         ],
         "xaxis": "x3",
         "y": {
          "bdata": "AAAAAAAAAAAAAAAAAAAAAAAAAAAAAAAA",
          "dtype": "f8"
         },
         "yaxis": "y3"
        },
        {
         "hovertemplate": "Carrier=PHEV<br>Period=2035<br>Vehicle Class=%{x}<br>Capacity (k units)=%{y}<extra></extra>",
         "legendgroup": "PHEV",
         "marker": {
          "color": "#990099",
          "pattern": {
           "shape": ""
          }
         },
         "name": "PHEV",
         "orientation": "v",
         "showlegend": false,
         "textfont": {
          "size": 9
         },
         "textposition": "auto",
         "texttemplate": "%{y:.1f}",
         "type": "bar",
         "x": [
          "Bus",
          "HD Truck",
          "MD Truck"
         ],
         "xaxis": "x4",
         "y": {
          "bdata": "AAAAAAAAAAAAAAAAAAAAAAAAAAAAAAAA",
          "dtype": "f8"
         },
         "yaxis": "y4"
        },
        {
         "hovertemplate": "Carrier=PHEV<br>Period=2040<br>Vehicle Class=%{x}<br>Capacity (k units)=%{y}<extra></extra>",
         "legendgroup": "PHEV",
         "marker": {
          "color": "#990099",
          "pattern": {
           "shape": ""
          }
         },
         "name": "PHEV",
         "orientation": "v",
         "showlegend": false,
         "textfont": {
          "size": 9
         },
         "textposition": "auto",
         "texttemplate": "%{y:.1f}",
         "type": "bar",
         "x": [
          "Bus",
          "HD Truck",
          "MD Truck"
         ],
         "xaxis": "x5",
         "y": {
          "bdata": "AAAAAAAAAAAAAAAAAAAAAAAAAAAAAAAA",
          "dtype": "f8"
         },
         "yaxis": "y5"
        },
        {
         "hovertemplate": "Carrier=PHEV<br>Period=2045<br>Vehicle Class=%{x}<br>Capacity (k units)=%{y}<extra></extra>",
         "legendgroup": "PHEV",
         "marker": {
          "color": "#990099",
          "pattern": {
           "shape": ""
          }
         },
         "name": "PHEV",
         "orientation": "v",
         "showlegend": false,
         "textfont": {
          "size": 9
         },
         "textposition": "auto",
         "texttemplate": "%{y:.1f}",
         "type": "bar",
         "x": [
          "Bus",
          "HD Truck",
          "MD Truck"
         ],
         "xaxis": "x6",
         "y": {
          "bdata": "AAAAAAAAAAAAAAAAAAAAAAAAAAAAAAAA",
          "dtype": "f8"
         },
         "yaxis": "y6"
        },
        {
         "hovertemplate": "Carrier=PHEV<br>Period=2050<br>Vehicle Class=%{x}<br>Capacity (k units)=%{y}<extra></extra>",
         "legendgroup": "PHEV",
         "marker": {
          "color": "#990099",
          "pattern": {
           "shape": ""
          }
         },
         "name": "PHEV",
         "orientation": "v",
         "showlegend": false,
         "textfont": {
          "size": 9
         },
         "textposition": "auto",
         "texttemplate": "%{y:.1f}",
         "type": "bar",
         "x": [
          "Bus",
          "HD Truck",
          "MD Truck"
         ],
         "xaxis": "x7",
         "y": {
          "bdata": "AAAAAAAAAAAAAAAAAAAAAAAAAAAAAAAA",
          "dtype": "f8"
         },
         "yaxis": "y7"
        },
        {
         "hovertemplate": "Carrier=BEV<br>Period=2021<br>Vehicle Class=%{x}<br>Capacity (k units)=%{y}<extra></extra>",
         "legendgroup": "BEV",
         "marker": {
          "color": "#0099C6",
          "pattern": {
           "shape": ""
          }
         },
         "name": "BEV",
         "orientation": "v",
         "showlegend": true,
         "textfont": {
          "size": 9
         },
         "textposition": "auto",
         "texttemplate": "%{y:.1f}",
         "type": "bar",
         "x": [
          "Bus",
          "HD Truck",
          "MD Truck"
         ],
         "xaxis": "x",
         "y": {
          "bdata": "enB31m67+z8AAAAAAAAAAAAAAAAAAAAA",
          "dtype": "f8"
         },
         "yaxis": "y"
        },
        {
         "hovertemplate": "Carrier=BEV<br>Period=2025<br>Vehicle Class=%{x}<br>Capacity (k units)=%{y}<extra></extra>",
         "legendgroup": "BEV",
         "marker": {
          "color": "#0099C6",
          "pattern": {
           "shape": ""
          }
         },
         "name": "BEV",
         "orientation": "v",
         "showlegend": false,
         "textfont": {
          "size": 9
         },
         "textposition": "auto",
         "texttemplate": "%{y:.1f}",
         "type": "bar",
         "x": [
          "Bus",
          "HD Truck",
          "MD Truck"
         ],
         "xaxis": "x2",
         "y": {
          "bdata": "11HVBFH3+D8AAAAAAAAAAOxBQ+ocmjc/",
          "dtype": "f8"
         },
         "yaxis": "y2"
        },
        {
         "hovertemplate": "Carrier=BEV<br>Period=2030<br>Vehicle Class=%{x}<br>Capacity (k units)=%{y}<extra></extra>",
         "legendgroup": "BEV",
         "marker": {
          "color": "#0099C6",
          "pattern": {
           "shape": ""
          }
         },
         "name": "BEV",
         "orientation": "v",
         "showlegend": false,
         "textfont": {
          "size": 9
         },
         "textposition": "auto",
         "texttemplate": "%{y:.1f}",
         "type": "bar",
         "x": [
          "Bus",
          "HD Truck",
          "MD Truck"
         ],
         "xaxis": "x3",
         "y": {
          "bdata": "wGHS4h8L7z8AAAAAAAAAAC6lpw1G8FY/",
          "dtype": "f8"
         },
         "yaxis": "y3"
        },
        {
         "hovertemplate": "Carrier=BEV<br>Period=2035<br>Vehicle Class=%{x}<br>Capacity (k units)=%{y}<extra></extra>",
         "legendgroup": "BEV",
         "marker": {
          "color": "#0099C6",
          "pattern": {
           "shape": ""
          }
         },
         "name": "BEV",
         "orientation": "v",
         "showlegend": false,
         "textfont": {
          "size": 9
         },
         "textposition": "auto",
         "texttemplate": "%{y:.1f}",
         "type": "bar",
         "x": [
          "Bus",
          "HD Truck",
          "MD Truck"
         ],
         "xaxis": "x4",
         "y": {
          "bdata": "v8pARsK2QT8AAAAAAAAAAL5sRbw53Ww/",
          "dtype": "f8"
         },
         "yaxis": "y4"
        },
        {
         "hovertemplate": "Carrier=BEV<br>Period=2040<br>Vehicle Class=%{x}<br>Capacity (k units)=%{y}<extra></extra>",
         "legendgroup": "BEV",
         "marker": {
          "color": "#0099C6",
          "pattern": {
           "shape": ""
          }
         },
         "name": "BEV",
         "orientation": "v",
         "showlegend": false,
         "textfont": {
          "size": 9
         },
         "textposition": "auto",
         "texttemplate": "%{y:.1f}",
         "type": "bar",
         "x": [
          "Bus",
          "HD Truck",
          "MD Truck"
         ],
         "xaxis": "x5",
         "y": {
          "bdata": "CmMQj2UUYD8AAAAAAAAAADUTXFLM1XQ/",
          "dtype": "f8"
         },
         "yaxis": "y5"
        },
        {
         "hovertemplate": "Carrier=BEV<br>Period=2045<br>Vehicle Class=%{x}<br>Capacity (k units)=%{y}<extra></extra>",
         "legendgroup": "BEV",
         "marker": {
          "color": "#0099C6",
          "pattern": {
           "shape": ""
          }
         },
         "name": "BEV",
         "orientation": "v",
         "showlegend": false,
         "textfont": {
          "size": 9
         },
         "textposition": "auto",
         "texttemplate": "%{y:.1f}",
         "type": "bar",
         "x": [
          "Bus",
          "HD Truck",
          "MD Truck"
         ],
         "xaxis": "x6",
         "y": {
          "bdata": "zCu9E4cweD8AAAAAAAAAAPhUeDEv8HY/",
          "dtype": "f8"
         },
         "yaxis": "y6"
        },
        {
         "hovertemplate": "Carrier=BEV<br>Period=2050<br>Vehicle Class=%{x}<br>Capacity (k units)=%{y}<extra></extra>",
         "legendgroup": "BEV",
         "marker": {
          "color": "#0099C6",
          "pattern": {
           "shape": ""
          }
         },
         "name": "BEV",
         "orientation": "v",
         "showlegend": false,
         "textfont": {
          "size": 9
         },
         "textposition": "auto",
         "texttemplate": "%{y:.1f}",
         "type": "bar",
         "x": [
          "Bus",
          "HD Truck",
          "MD Truck"
         ],
         "xaxis": "x7",
         "y": {
          "bdata": "m6u/qhE4GEAAAAAAAAAAAIsa5x9sQ4o/",
          "dtype": "f8"
         },
         "yaxis": "y7"
        },
        {
         "hovertemplate": "Carrier=FCEV<br>Period=2021<br>Vehicle Class=%{x}<br>Capacity (k units)=%{y}<extra></extra>",
         "legendgroup": "FCEV",
         "marker": {
          "color": "#DD4477",
          "pattern": {
           "shape": ""
          }
         },
         "name": "FCEV",
         "orientation": "v",
         "showlegend": true,
         "textfont": {
          "size": 9
         },
         "textposition": "auto",
         "texttemplate": "%{y:.1f}",
         "type": "bar",
         "x": [
          "Bus",
          "HD Truck",
          "MD Truck"
         ],
         "xaxis": "x",
         "y": {
          "bdata": "7wmx6dlWAEAAAAAAAAAAABVfg4eIhlBA",
          "dtype": "f8"
         },
         "yaxis": "y"
        },
        {
         "hovertemplate": "Carrier=FCEV<br>Period=2025<br>Vehicle Class=%{x}<br>Capacity (k units)=%{y}<extra></extra>",
         "legendgroup": "FCEV",
         "marker": {
          "color": "#DD4477",
          "pattern": {
           "shape": ""
          }
         },
         "name": "FCEV",
         "orientation": "v",
         "showlegend": false,
         "textfont": {
          "size": 9
         },
         "textposition": "auto",
         "texttemplate": "%{y:.1f}",
         "type": "bar",
         "x": [
          "Bus",
          "HD Truck",
          "MD Truck"
         ],
         "xaxis": "x2",
         "y": {
          "bdata": "iXMIM486E0CFCadT8n/oPuWn3qKf/GBA",
          "dtype": "f8"
         },
         "yaxis": "y2"
        },
        {
         "hovertemplate": "Carrier=FCEV<br>Period=2030<br>Vehicle Class=%{x}<br>Capacity (k units)=%{y}<extra></extra>",
         "legendgroup": "FCEV",
         "marker": {
          "color": "#DD4477",
          "pattern": {
           "shape": ""
          }
         },
         "name": "FCEV",
         "orientation": "v",
         "showlegend": false,
         "textfont": {
          "size": 9
         },
         "textposition": "auto",
         "texttemplate": "%{y:.1f}",
         "type": "bar",
         "x": [
          "Bus",
          "HD Truck",
          "MD Truck"
         ],
         "xaxis": "x3",
         "y": {
          "bdata": "suRrrwK4KECOdEqFDAyBP6+64cSCLG9A",
          "dtype": "f8"
         },
         "yaxis": "y3"
        },
        {
         "hovertemplate": "Carrier=FCEV<br>Period=2035<br>Vehicle Class=%{x}<br>Capacity (k units)=%{y}<extra></extra>",
         "legendgroup": "FCEV",
         "marker": {
          "color": "#DD4477",
          "pattern": {
           "shape": ""
          }
         },
         "name": "FCEV",
         "orientation": "v",
         "showlegend": false,
         "textfont": {
          "size": 9
         },
         "textposition": "auto",
         "texttemplate": "%{y:.1f}",
         "type": "bar",
         "x": [
          "Bus",
          "HD Truck",
          "MD Truck"
         ],
         "xaxis": "x4",
         "y": {
          "bdata": "6T1Ft3qcM0A6dNOt/SwxQOTE5jX3wHZA",
          "dtype": "f8"
         },
         "yaxis": "y4"
        },
        {
         "hovertemplate": "Carrier=FCEV<br>Period=2040<br>Vehicle Class=%{x}<br>Capacity (k units)=%{y}<extra></extra>",
         "legendgroup": "FCEV",
         "marker": {
          "color": "#DD4477",
          "pattern": {
           "shape": ""
          }
         },
         "name": "FCEV",
         "orientation": "v",
         "showlegend": false,
         "textfont": {
          "size": 9
         },
         "textposition": "auto",
         "texttemplate": "%{y:.1f}",
         "type": "bar",
         "x": [
          "Bus",
          "HD Truck",
          "MD Truck"
         ],
         "xaxis": "x5",
         "y": {
          "bdata": "LGmKQfJWN0BemkfNswRSQCJLko+9PYFA",
          "dtype": "f8"
         },
         "yaxis": "y5"
        },
        {
         "hovertemplate": "Carrier=FCEV<br>Period=2045<br>Vehicle Class=%{x}<br>Capacity (k units)=%{y}<extra></extra>",
         "legendgroup": "FCEV",
         "marker": {
          "color": "#DD4477",
          "pattern": {
           "shape": ""
          }
         },
         "name": "FCEV",
         "orientation": "v",
         "showlegend": false,
         "textfont": {
          "size": 9
         },
         "textposition": "auto",
         "texttemplate": "%{y:.1f}",
         "type": "bar",
         "x": [
          "Bus",
          "HD Truck",
          "MD Truck"
         ],
         "xaxis": "x6",
         "y": {
          "bdata": "87GI1T6rOUCPyBFf1ElUQH+UdGI+uoJA",
          "dtype": "f8"
         },
         "yaxis": "y6"
        },
        {
         "hovertemplate": "Carrier=FCEV<br>Period=2050<br>Vehicle Class=%{x}<br>Capacity (k units)=%{y}<extra></extra>",
         "legendgroup": "FCEV",
         "marker": {
          "color": "#DD4477",
          "pattern": {
           "shape": ""
          }
         },
         "name": "FCEV",
         "orientation": "v",
         "showlegend": false,
         "textfont": {
          "size": 9
         },
         "textposition": "auto",
         "texttemplate": "%{y:.1f}",
         "type": "bar",
         "x": [
          "Bus",
          "HD Truck",
          "MD Truck"
         ],
         "xaxis": "x7",
         "y": {
          "bdata": "BJFAs0v9M0CE/pEHTgBXQDgmWdLLYoRA",
          "dtype": "f8"
         },
         "yaxis": "y7"
        }
       ],
       "layout": {
        "annotations": [
         {
          "font": {},
          "showarrow": false,
          "text": "2021",
          "x": 0.06285714285714285,
          "xanchor": "center",
          "xref": "paper",
          "y": -0.1,
          "yanchor": "top",
          "yref": "paper"
         },
         {
          "font": {},
          "showarrow": false,
          "text": "2025",
          "x": 0.20857142857142852,
          "xanchor": "center",
          "xref": "paper",
          "y": -0.1,
          "yanchor": "top",
          "yref": "paper"
         },
         {
          "font": {},
          "showarrow": false,
          "text": "2030",
          "x": 0.3542857142857142,
          "xanchor": "center",
          "xref": "paper",
          "y": -0.1,
          "yanchor": "top",
          "yref": "paper"
         },
         {
          "font": {},
          "showarrow": false,
          "text": "2035",
          "x": 0.5,
          "xanchor": "center",
          "xref": "paper",
          "y": -0.1,
          "yanchor": "top",
          "yref": "paper"
         },
         {
          "font": {},
          "showarrow": false,
          "text": "2040",
          "x": 0.6457142857142856,
          "xanchor": "center",
          "xref": "paper",
          "y": -0.1,
          "yanchor": "top",
          "yref": "paper"
         },
         {
          "font": {},
          "showarrow": false,
          "text": "2045",
          "x": 0.7914285714285713,
          "xanchor": "center",
          "xref": "paper",
          "y": -0.1,
          "yanchor": "top",
          "yref": "paper"
         },
         {
          "font": {},
          "showarrow": false,
          "text": "2050",
          "x": 0.937142857142857,
          "xanchor": "center",
          "xref": "paper",
          "y": -0.1,
          "yanchor": "top",
          "yref": "paper"
         }
        ],
        "bargap": 0.1,
        "barmode": "stack",
        "font": {
         "size": 14
        },
        "height": 650,
        "legend": {
         "orientation": "h",
         "title": {
          "text": ""
         },
         "tracegroupgap": 0,
         "x": 0.5,
         "xanchor": "center",
         "y": 1.02,
         "yanchor": "top"
        },
        "margin": {
         "t": 60
        },
        "template": {
         "data": {
          "bar": [
           {
            "error_x": {
             "color": "#2a3f5f"
            },
            "error_y": {
             "color": "#2a3f5f"
            },
            "marker": {
             "line": {
              "color": "white",
              "width": 0.5
             },
             "pattern": {
              "fillmode": "overlay",
              "size": 10,
              "solidity": 0.2
             }
            },
            "type": "bar"
           }
          ],
          "barpolar": [
           {
            "marker": {
             "line": {
              "color": "white",
              "width": 0.5
             },
             "pattern": {
              "fillmode": "overlay",
              "size": 10,
              "solidity": 0.2
             }
            },
            "type": "barpolar"
           }
          ],
          "carpet": [
           {
            "aaxis": {
             "endlinecolor": "#2a3f5f",
             "gridcolor": "#C8D4E3",
             "linecolor": "#C8D4E3",
             "minorgridcolor": "#C8D4E3",
             "startlinecolor": "#2a3f5f"
            },
            "baxis": {
             "endlinecolor": "#2a3f5f",
             "gridcolor": "#C8D4E3",
             "linecolor": "#C8D4E3",
             "minorgridcolor": "#C8D4E3",
             "startlinecolor": "#2a3f5f"
            },
            "type": "carpet"
           }
          ],
          "choropleth": [
           {
            "colorbar": {
             "outlinewidth": 0,
             "ticks": ""
            },
            "type": "choropleth"
           }
          ],
          "contour": [
           {
            "colorbar": {
             "outlinewidth": 0,
             "ticks": ""
            },
            "colorscale": [
             [
              0,
              "#0d0887"
             ],
             [
              0.1111111111111111,
              "#46039f"
             ],
             [
              0.2222222222222222,
              "#7201a8"
             ],
             [
              0.3333333333333333,
              "#9c179e"
             ],
             [
              0.4444444444444444,
              "#bd3786"
             ],
             [
              0.5555555555555556,
              "#d8576b"
             ],
             [
              0.6666666666666666,
              "#ed7953"
             ],
             [
              0.7777777777777778,
              "#fb9f3a"
             ],
             [
              0.8888888888888888,
              "#fdca26"
             ],
             [
              1,
              "#f0f921"
             ]
            ],
            "type": "contour"
           }
          ],
          "contourcarpet": [
           {
            "colorbar": {
             "outlinewidth": 0,
             "ticks": ""
            },
            "type": "contourcarpet"
           }
          ],
          "heatmap": [
           {
            "colorbar": {
             "outlinewidth": 0,
             "ticks": ""
            },
            "colorscale": [
             [
              0,
              "#0d0887"
             ],
             [
              0.1111111111111111,
              "#46039f"
             ],
             [
              0.2222222222222222,
              "#7201a8"
             ],
             [
              0.3333333333333333,
              "#9c179e"
             ],
             [
              0.4444444444444444,
              "#bd3786"
             ],
             [
              0.5555555555555556,
              "#d8576b"
             ],
             [
              0.6666666666666666,
              "#ed7953"
             ],
             [
              0.7777777777777778,
              "#fb9f3a"
             ],
             [
              0.8888888888888888,
              "#fdca26"
             ],
             [
              1,
              "#f0f921"
             ]
            ],
            "type": "heatmap"
           }
          ],
          "histogram": [
           {
            "marker": {
             "pattern": {
              "fillmode": "overlay",
              "size": 10,
              "solidity": 0.2
             }
            },
            "type": "histogram"
           }
          ],
          "histogram2d": [
           {
            "colorbar": {
             "outlinewidth": 0,
             "ticks": ""
            },
            "colorscale": [
             [
              0,
              "#0d0887"
             ],
             [
              0.1111111111111111,
              "#46039f"
             ],
             [
              0.2222222222222222,
              "#7201a8"
             ],
             [
              0.3333333333333333,
              "#9c179e"
             ],
             [
              0.4444444444444444,
              "#bd3786"
             ],
             [
              0.5555555555555556,
              "#d8576b"
             ],
             [
              0.6666666666666666,
              "#ed7953"
             ],
             [
              0.7777777777777778,
              "#fb9f3a"
             ],
             [
              0.8888888888888888,
              "#fdca26"
             ],
             [
              1,
              "#f0f921"
             ]
            ],
            "type": "histogram2d"
           }
          ],
          "histogram2dcontour": [
           {
            "colorbar": {
             "outlinewidth": 0,
             "ticks": ""
            },
            "colorscale": [
             [
              0,
              "#0d0887"
             ],
             [
              0.1111111111111111,
              "#46039f"
             ],
             [
              0.2222222222222222,
              "#7201a8"
             ],
             [
              0.3333333333333333,
              "#9c179e"
             ],
             [
              0.4444444444444444,
              "#bd3786"
             ],
             [
              0.5555555555555556,
              "#d8576b"
             ],
             [
              0.6666666666666666,
              "#ed7953"
             ],
             [
              0.7777777777777778,
              "#fb9f3a"
             ],
             [
              0.8888888888888888,
              "#fdca26"
             ],
             [
              1,
              "#f0f921"
             ]
            ],
            "type": "histogram2dcontour"
           }
          ],
          "mesh3d": [
           {
            "colorbar": {
             "outlinewidth": 0,
             "ticks": ""
            },
            "type": "mesh3d"
           }
          ],
          "parcoords": [
           {
            "line": {
             "colorbar": {
              "outlinewidth": 0,
              "ticks": ""
             }
            },
            "type": "parcoords"
           }
          ],
          "pie": [
           {
            "automargin": true,
            "type": "pie"
           }
          ],
          "scatter": [
           {
            "fillpattern": {
             "fillmode": "overlay",
             "size": 10,
             "solidity": 0.2
            },
            "type": "scatter"
           }
          ],
          "scatter3d": [
           {
            "line": {
             "colorbar": {
              "outlinewidth": 0,
              "ticks": ""
             }
            },
            "marker": {
             "colorbar": {
              "outlinewidth": 0,
              "ticks": ""
             }
            },
            "type": "scatter3d"
           }
          ],
          "scattercarpet": [
           {
            "marker": {
             "colorbar": {
              "outlinewidth": 0,
              "ticks": ""
             }
            },
            "type": "scattercarpet"
           }
          ],
          "scattergeo": [
           {
            "marker": {
             "colorbar": {
              "outlinewidth": 0,
              "ticks": ""
             }
            },
            "type": "scattergeo"
           }
          ],
          "scattergl": [
           {
            "marker": {
             "colorbar": {
              "outlinewidth": 0,
              "ticks": ""
             }
            },
            "type": "scattergl"
           }
          ],
          "scattermap": [
           {
            "marker": {
             "colorbar": {
              "outlinewidth": 0,
              "ticks": ""
             }
            },
            "type": "scattermap"
           }
          ],
          "scattermapbox": [
           {
            "marker": {
             "colorbar": {
              "outlinewidth": 0,
              "ticks": ""
             }
            },
            "type": "scattermapbox"
           }
          ],
          "scatterpolar": [
           {
            "marker": {
             "colorbar": {
              "outlinewidth": 0,
              "ticks": ""
             }
            },
            "type": "scatterpolar"
           }
          ],
          "scatterpolargl": [
           {
            "marker": {
             "colorbar": {
              "outlinewidth": 0,
              "ticks": ""
             }
            },
            "type": "scatterpolargl"
           }
          ],
          "scatterternary": [
           {
            "marker": {
             "colorbar": {
              "outlinewidth": 0,
              "ticks": ""
             }
            },
            "type": "scatterternary"
           }
          ],
          "surface": [
           {
            "colorbar": {
             "outlinewidth": 0,
             "ticks": ""
            },
            "colorscale": [
             [
              0,
              "#0d0887"
             ],
             [
              0.1111111111111111,
              "#46039f"
             ],
             [
              0.2222222222222222,
              "#7201a8"
             ],
             [
              0.3333333333333333,
              "#9c179e"
             ],
             [
              0.4444444444444444,
              "#bd3786"
             ],
             [
              0.5555555555555556,
              "#d8576b"
             ],
             [
              0.6666666666666666,
              "#ed7953"
             ],
             [
              0.7777777777777778,
              "#fb9f3a"
             ],
             [
              0.8888888888888888,
              "#fdca26"
             ],
             [
              1,
              "#f0f921"
             ]
            ],
            "type": "surface"
           }
          ],
          "table": [
           {
            "cells": {
             "fill": {
              "color": "#EBF0F8"
             },
             "line": {
              "color": "white"
             }
            },
            "header": {
             "fill": {
              "color": "#C8D4E3"
             },
             "line": {
              "color": "white"
             }
            },
            "type": "table"
           }
          ]
         },
         "layout": {
          "annotationdefaults": {
           "arrowcolor": "#2a3f5f",
           "arrowhead": 0,
           "arrowwidth": 1
          },
          "autotypenumbers": "strict",
          "coloraxis": {
           "colorbar": {
            "outlinewidth": 0,
            "ticks": ""
           }
          },
          "colorscale": {
           "diverging": [
            [
             0,
             "#8e0152"
            ],
            [
             0.1,
             "#c51b7d"
            ],
            [
             0.2,
             "#de77ae"
            ],
            [
             0.3,
             "#f1b6da"
            ],
            [
             0.4,
             "#fde0ef"
            ],
            [
             0.5,
             "#f7f7f7"
            ],
            [
             0.6,
             "#e6f5d0"
            ],
            [
             0.7,
             "#b8e186"
            ],
            [
             0.8,
             "#7fbc41"
            ],
            [
             0.9,
             "#4d9221"
            ],
            [
             1,
             "#276419"
            ]
           ],
           "sequential": [
            [
             0,
             "#0d0887"
            ],
            [
             0.1111111111111111,
             "#46039f"
            ],
            [
             0.2222222222222222,
             "#7201a8"
            ],
            [
             0.3333333333333333,
             "#9c179e"
            ],
            [
             0.4444444444444444,
             "#bd3786"
            ],
            [
             0.5555555555555556,
             "#d8576b"
            ],
            [
             0.6666666666666666,
             "#ed7953"
            ],
            [
             0.7777777777777778,
             "#fb9f3a"
            ],
            [
             0.8888888888888888,
             "#fdca26"
            ],
            [
             1,
             "#f0f921"
            ]
           ],
           "sequentialminus": [
            [
             0,
             "#0d0887"
            ],
            [
             0.1111111111111111,
             "#46039f"
            ],
            [
             0.2222222222222222,
             "#7201a8"
            ],
            [
             0.3333333333333333,
             "#9c179e"
            ],
            [
             0.4444444444444444,
             "#bd3786"
            ],
            [
             0.5555555555555556,
             "#d8576b"
            ],
            [
             0.6666666666666666,
             "#ed7953"
            ],
            [
             0.7777777777777778,
             "#fb9f3a"
            ],
            [
             0.8888888888888888,
             "#fdca26"
            ],
            [
             1,
             "#f0f921"
            ]
           ]
          },
          "colorway": [
           "#636efa",
           "#EF553B",
           "#00cc96",
           "#ab63fa",
           "#FFA15A",
           "#19d3f3",
           "#FF6692",
           "#B6E880",
           "#FF97FF",
           "#FECB52"
          ],
          "font": {
           "color": "#2a3f5f"
          },
          "geo": {
           "bgcolor": "white",
           "lakecolor": "white",
           "landcolor": "white",
           "showlakes": true,
           "showland": true,
           "subunitcolor": "#C8D4E3"
          },
          "hoverlabel": {
           "align": "left"
          },
          "hovermode": "closest",
          "mapbox": {
           "style": "light"
          },
          "paper_bgcolor": "white",
          "plot_bgcolor": "white",
          "polar": {
           "angularaxis": {
            "gridcolor": "#EBF0F8",
            "linecolor": "#EBF0F8",
            "ticks": ""
           },
           "bgcolor": "white",
           "radialaxis": {
            "gridcolor": "#EBF0F8",
            "linecolor": "#EBF0F8",
            "ticks": ""
           }
          },
          "scene": {
           "xaxis": {
            "backgroundcolor": "white",
            "gridcolor": "#DFE8F3",
            "gridwidth": 2,
            "linecolor": "#EBF0F8",
            "showbackground": true,
            "ticks": "",
            "zerolinecolor": "#EBF0F8"
           },
           "yaxis": {
            "backgroundcolor": "white",
            "gridcolor": "#DFE8F3",
            "gridwidth": 2,
            "linecolor": "#EBF0F8",
            "showbackground": true,
            "ticks": "",
            "zerolinecolor": "#EBF0F8"
           },
           "zaxis": {
            "backgroundcolor": "white",
            "gridcolor": "#DFE8F3",
            "gridwidth": 2,
            "linecolor": "#EBF0F8",
            "showbackground": true,
            "ticks": "",
            "zerolinecolor": "#EBF0F8"
           }
          },
          "shapedefaults": {
           "line": {
            "color": "#2a3f5f"
           }
          },
          "ternary": {
           "aaxis": {
            "gridcolor": "#DFE8F3",
            "linecolor": "#A2B1C6",
            "ticks": ""
           },
           "baxis": {
            "gridcolor": "#DFE8F3",
            "linecolor": "#A2B1C6",
            "ticks": ""
           },
           "bgcolor": "white",
           "caxis": {
            "gridcolor": "#DFE8F3",
            "linecolor": "#A2B1C6",
            "ticks": ""
           }
          },
          "title": {
           "x": 0.05
          },
          "xaxis": {
           "automargin": true,
           "gridcolor": "#EBF0F8",
           "linecolor": "#EBF0F8",
           "ticks": "",
           "title": {
            "standoff": 15
           },
           "zerolinecolor": "#EBF0F8",
           "zerolinewidth": 2
          },
          "yaxis": {
           "automargin": true,
           "gridcolor": "#EBF0F8",
           "linecolor": "#EBF0F8",
           "ticks": "",
           "title": {
            "standoff": 15
           },
           "zerolinecolor": "#EBF0F8",
           "zerolinewidth": 2
          }
         }
        },
        "title": {
         "text": "Transportation MHDV fleet stock in ON by vehicle class and drivetrain",
         "x": 0.5,
         "xanchor": "center",
         "y": 0.97,
         "yanchor": "top"
        },
        "width": 1150,
        "xaxis": {
         "anchor": "y",
         "domain": [
          0,
          0.1257142857142857
         ],
         "title": {
          "text": ""
         }
        },
        "xaxis2": {
         "anchor": "y2",
         "domain": [
          0.14571428571428569,
          0.27142857142857135
         ],
         "matches": "x",
         "title": {
          "text": ""
         }
        },
        "xaxis3": {
         "anchor": "y3",
         "domain": [
          0.29142857142857137,
          0.41714285714285704
         ],
         "matches": "x",
         "title": {
          "text": ""
         }
        },
        "xaxis4": {
         "anchor": "y4",
         "domain": [
          0.4371428571428571,
          0.5628571428571428
         ],
         "matches": "x",
         "title": {
          "text": ""
         }
        },
        "xaxis5": {
         "anchor": "y5",
         "domain": [
          0.5828571428571427,
          0.7085714285714284
         ],
         "matches": "x",
         "title": {
          "text": ""
         }
        },
        "xaxis6": {
         "anchor": "y6",
         "domain": [
          0.7285714285714284,
          0.8542857142857141
         ],
         "matches": "x",
         "title": {
          "text": ""
         }
        },
        "xaxis7": {
         "anchor": "y7",
         "domain": [
          0.8742857142857142,
          0.9999999999999999
         ],
         "matches": "x",
         "title": {
          "text": ""
         }
        },
        "yaxis": {
         "anchor": "x",
         "domain": [
          0,
          1
         ],
         "dtick": 100,
         "title": {
          "standoff": 0,
          "text": "Fleet stock (k units)"
         }
        },
        "yaxis2": {
         "anchor": "x2",
         "domain": [
          0,
          1
         ],
         "matches": "y",
         "showticklabels": false
        },
        "yaxis3": {
         "anchor": "x3",
         "domain": [
          0,
          1
         ],
         "matches": "y",
         "showticklabels": false
        },
        "yaxis4": {
         "anchor": "x4",
         "domain": [
          0,
          1
         ],
         "matches": "y",
         "showticklabels": false
        },
        "yaxis5": {
         "anchor": "x5",
         "domain": [
          0,
          1
         ],
         "matches": "y",
         "showticklabels": false
        },
        "yaxis6": {
         "anchor": "x6",
         "domain": [
          0,
          1
         ],
         "matches": "y",
         "showticklabels": false
        },
        "yaxis7": {
         "anchor": "x7",
         "domain": [
          0,
          1
         ],
         "matches": "y",
         "showticklabels": false
        }
       }
      }
     },
     "metadata": {},
     "output_type": "display_data"
    }
   ],
   "source": [
    "ref_fig = ref_trncap[ref_trncap['Vehicle Class'].isin(['MD Truck', 'HD Truck', 'Bus'])][['Period', 'Vehicle Class', 'Capacity (M units)', 'Carrier']].groupby(['Period', 'Vehicle Class', 'Carrier'], as_index=False).sum()\n",
    "ref_fig['Capacity (k units)'] = ref_fig['Capacity (M units)']*1E3\n",
    "\n",
    "ref_fig['Carrier'] = pd.Categorical(ref_fig['Carrier'], categories=drivetrain_order, ordered=True)\n",
    "ref_fig = ref_fig.sort_values(['Carrier', 'Period'])\n",
    "\n",
    "fig = px.bar(ref_fig, \n",
    "             x='Vehicle Class', \n",
    "             y='Capacity (k units)', \n",
    "             color='Carrier', \n",
    "             barmode='stack', \n",
    "             facet_col='Period',\n",
    "             facet_col_spacing=2E-2,\n",
    "             template='plotly_white',\n",
    "             color_discrete_sequence=px.colors.qualitative.G10[:7] + px.colors.qualitative.G10[8:],\n",
    "             text_auto='.1f',\n",
    "            #  text='Demand (PJ)_sum'\n",
    "             width=1150, height=650,\n",
    "             )\n",
    "\n",
    "fig.update_layout(title=dict(\n",
    "        text='Transportation MHDV fleet stock in ON by vehicle class and drivetrain',\n",
    "        x=0.5, \n",
    "        y=0.97,\n",
    "        xanchor='center',\n",
    "        yanchor='top'\n",
    "    ),\n",
    "    xaxis=dict(title='Period'),\n",
    "    yaxis=dict(title='Fleet stock (k units)',\n",
    "               dtick=100),\n",
    "    yaxis_title_standoff=0,\n",
    "    legend_title_text='',\n",
    "    bargap=0.1,\n",
    "    legend=dict(\n",
    "        orientation='h',  \n",
    "        yanchor='top',\n",
    "        y=1.02,  \n",
    "        xanchor='center',\n",
    "        x=0.5),\n",
    "    font=dict(\n",
    "        # family=\"Open Sans\",\n",
    "        size=14)\n",
    "    )\n",
    "\n",
    "for annotation in fig.layout.annotations:\n",
    "    annotation.text = annotation.text.split('=')[1]\n",
    "    annotation.y = -0.1  \n",
    "    annotation.yanchor = 'top' \n",
    "\n",
    "for axis in fig.layout:\n",
    "    if axis.startswith('xaxis'):\n",
    "        fig.layout[axis].title.text = ''\n",
    "\n",
    "fig.for_each_trace(lambda trace: trace.update(textfont=dict(size=9)))\n",
    "\n",
    "fig.show()"
   ]
  },
  {
   "cell_type": "markdown",
   "metadata": {},
   "source": [
    "# Added Capacity"
   ]
  },
  {
   "cell_type": "code",
   "execution_count": 254,
   "metadata": {},
   "outputs": [],
   "source": [
    "# ref_file = canoe_results + '/builtcapacity.csv'\n",
    "# ref_newcap = pd.read_csv(ref_file)\n",
    "# ref_newcap.rename(columns={'sector': 'Sector', 'tech': 'Technology', 'vintage': 'Period', 'capacity': 'New Capacity'}, inplace=True)\n",
    "\n",
    "# ref_newcap_trn = ref_newcap[(ref_newcap['Sector'] == 'Transport')].copy()\n",
    "# ref_newcap_trn['Mode'] = ref_newcap_trn['Technology'].apply(map_tech_to_mode)\n",
    "# ref_newcap_trn['Carrier'] = ref_newcap_trn['Technology'].apply(map_tech_to_drivetrain)\n",
    "# ref_newcap_trn['Vehicle Class'] = ref_newcap_trn['Mode'].apply(veh_class_mapping)"
   ]
  },
  {
   "cell_type": "code",
   "execution_count": 255,
   "metadata": {},
   "outputs": [],
   "source": [
    "ref_trnnewcap.columns = ref_trnnewcap.columns.astype(str)\n",
    "periods = [col for col in ref_trnnewcap.columns if col.isdigit()]\n",
    "params = [col for col in ref_trnnewcap.columns if not col.isdigit()]\n",
    "ref_trnnewcap = pd.melt(ref_trnnewcap, id_vars=params, var_name='Period', value_name='New Capacity', value_vars=periods)\n",
    "\n",
    "ref_trnnewcap['Vehicle Class'] = ref_trnnewcap['Mode'].apply(veh_class_mapping)"
   ]
  },
  {
   "cell_type": "code",
   "execution_count": 256,
   "metadata": {},
   "outputs": [
    {
     "data": {
      "application/vnd.plotly.v1+json": {
       "config": {
        "plotlyServerURL": "https://plot.ly"
       },
       "data": [
        {
         "hovertemplate": "Carrier=Gasoline<br>Period=2021<br>Vehicle Class=%{x}<br>New Capacity=%{y}<extra></extra>",
         "legendgroup": "Gasoline",
         "marker": {
          "color": "#3366CC",
          "pattern": {
           "shape": ""
          }
         },
         "name": "Gasoline",
         "orientation": "v",
         "showlegend": true,
         "textfont": {
          "size": 9
         },
         "textposition": "auto",
         "texttemplate": "%{y:.1f}",
         "type": "bar",
         "x": [
          "LD Car",
          "LD Truck"
         ],
         "xaxis": "x",
         "y": {
          "bdata": "IEsEJAOrWj985W1L5xxyPw==",
          "dtype": "f8"
         },
         "yaxis": "y"
        },
        {
         "hovertemplate": "Carrier=Gasoline<br>Period=2025<br>Vehicle Class=%{x}<br>New Capacity=%{y}<extra></extra>",
         "legendgroup": "Gasoline",
         "marker": {
          "color": "#3366CC",
          "pattern": {
           "shape": ""
          }
         },
         "name": "Gasoline",
         "orientation": "v",
         "showlegend": false,
         "textfont": {
          "size": 9
         },
         "textposition": "auto",
         "texttemplate": "%{y:.1f}",
         "type": "bar",
         "x": [
          "LD Car",
          "LD Truck"
         ],
         "xaxis": "x2",
         "y": {
          "bdata": "FVcTmoMdVz8jFRTd7S1rPw==",
          "dtype": "f8"
         },
         "yaxis": "y2"
        },
        {
         "hovertemplate": "Carrier=Gasoline<br>Period=2030<br>Vehicle Class=%{x}<br>New Capacity=%{y}<extra></extra>",
         "legendgroup": "Gasoline",
         "marker": {
          "color": "#3366CC",
          "pattern": {
           "shape": ""
          }
         },
         "name": "Gasoline",
         "orientation": "v",
         "showlegend": false,
         "textfont": {
          "size": 9
         },
         "textposition": "auto",
         "texttemplate": "%{y:.1f}",
         "type": "bar",
         "x": [
          "LD Car",
          "LD Truck"
         ],
         "xaxis": "x3",
         "y": {
          "bdata": "2HDm10mpVT+HTl5YMGpsPw==",
          "dtype": "f8"
         },
         "yaxis": "y3"
        },
        {
         "hovertemplate": "Carrier=Gasoline<br>Period=2035<br>Vehicle Class=%{x}<br>New Capacity=%{y}<extra></extra>",
         "legendgroup": "Gasoline",
         "marker": {
          "color": "#3366CC",
          "pattern": {
           "shape": ""
          }
         },
         "name": "Gasoline",
         "orientation": "v",
         "showlegend": false,
         "textfont": {
          "size": 9
         },
         "textposition": "auto",
         "texttemplate": "%{y:.1f}",
         "type": "bar",
         "x": [
          "LD Car",
          "LD Truck"
         ],
         "xaxis": "x4",
         "y": {
          "bdata": "V2d9cooeUj/Xtwkn4JdnPw==",
          "dtype": "f8"
         },
         "yaxis": "y4"
        },
        {
         "hovertemplate": "Carrier=Gasoline<br>Period=2040<br>Vehicle Class=%{x}<br>New Capacity=%{y}<extra></extra>",
         "legendgroup": "Gasoline",
         "marker": {
          "color": "#3366CC",
          "pattern": {
           "shape": ""
          }
         },
         "name": "Gasoline",
         "orientation": "v",
         "showlegend": false,
         "textfont": {
          "size": 9
         },
         "textposition": "auto",
         "texttemplate": "%{y:.1f}",
         "type": "bar",
         "x": [
          "LD Car",
          "LD Truck"
         ],
         "xaxis": "x5",
         "y": {
          "bdata": "ZDg52IgqUz9LgqRnsEhlPw==",
          "dtype": "f8"
         },
         "yaxis": "y5"
        },
        {
         "hovertemplate": "Carrier=Gasoline<br>Period=2045<br>Vehicle Class=%{x}<br>New Capacity=%{y}<extra></extra>",
         "legendgroup": "Gasoline",
         "marker": {
          "color": "#3366CC",
          "pattern": {
           "shape": ""
          }
         },
         "name": "Gasoline",
         "orientation": "v",
         "showlegend": false,
         "textfont": {
          "size": 9
         },
         "textposition": "auto",
         "texttemplate": "%{y:.1f}",
         "type": "bar",
         "x": [
          "LD Car",
          "LD Truck"
         ],
         "xaxis": "x6",
         "y": {
          "bdata": "hqcPv822VD93Jl20d8ZpPw==",
          "dtype": "f8"
         },
         "yaxis": "y6"
        },
        {
         "hovertemplate": "Carrier=Gasoline<br>Period=2050<br>Vehicle Class=%{x}<br>New Capacity=%{y}<extra></extra>",
         "legendgroup": "Gasoline",
         "marker": {
          "color": "#3366CC",
          "pattern": {
           "shape": ""
          }
         },
         "name": "Gasoline",
         "orientation": "v",
         "showlegend": false,
         "textfont": {
          "size": 9
         },
         "textposition": "auto",
         "texttemplate": "%{y:.1f}",
         "type": "bar",
         "x": [
          "LD Car",
          "LD Truck"
         ],
         "xaxis": "x7",
         "y": {
          "bdata": "bAKzeXhaVT8TTDUx52RmPw==",
          "dtype": "f8"
         },
         "yaxis": "y7"
        },
        {
         "hovertemplate": "Carrier=Diesel<br>Period=2021<br>Vehicle Class=%{x}<br>New Capacity=%{y}<extra></extra>",
         "legendgroup": "Diesel",
         "marker": {
          "color": "#DC3912",
          "pattern": {
           "shape": ""
          }
         },
         "name": "Diesel",
         "orientation": "v",
         "showlegend": true,
         "textfont": {
          "size": 9
         },
         "textposition": "auto",
         "texttemplate": "%{y:.1f}",
         "type": "bar",
         "x": [
          "LD Car",
          "LD Truck"
         ],
         "xaxis": "x",
         "y": {
          "bdata": "+ICz6EDAWj9XBXkAitt5Pw==",
          "dtype": "f8"
         },
         "yaxis": "y"
        },
        {
         "hovertemplate": "Carrier=Diesel<br>Period=2025<br>Vehicle Class=%{x}<br>New Capacity=%{y}<extra></extra>",
         "legendgroup": "Diesel",
         "marker": {
          "color": "#DC3912",
          "pattern": {
           "shape": ""
          }
         },
         "name": "Diesel",
         "orientation": "v",
         "showlegend": false,
         "textfont": {
          "size": 9
         },
         "textposition": "auto",
         "texttemplate": "%{y:.1f}",
         "type": "bar",
         "x": [
          "LD Car",
          "LD Truck"
         ],
         "xaxis": "x2",
         "y": {
          "bdata": "FsTHsM6/VD8t4XWeQXhxPw==",
          "dtype": "f8"
         },
         "yaxis": "y2"
        },
        {
         "hovertemplate": "Carrier=Diesel<br>Period=2030<br>Vehicle Class=%{x}<br>New Capacity=%{y}<extra></extra>",
         "legendgroup": "Diesel",
         "marker": {
          "color": "#DC3912",
          "pattern": {
           "shape": ""
          }
         },
         "name": "Diesel",
         "orientation": "v",
         "showlegend": false,
         "textfont": {
          "size": 9
         },
         "textposition": "auto",
         "texttemplate": "%{y:.1f}",
         "type": "bar",
         "x": [
          "LD Car",
          "LD Truck"
         ],
         "xaxis": "x3",
         "y": {
          "bdata": "z3lHdRaYVD9qOQRIFllyPw==",
          "dtype": "f8"
         },
         "yaxis": "y3"
        },
        {
         "hovertemplate": "Carrier=Diesel<br>Period=2035<br>Vehicle Class=%{x}<br>New Capacity=%{y}<extra></extra>",
         "legendgroup": "Diesel",
         "marker": {
          "color": "#DC3912",
          "pattern": {
           "shape": ""
          }
         },
         "name": "Diesel",
         "orientation": "v",
         "showlegend": false,
         "textfont": {
          "size": 9
         },
         "textposition": "auto",
         "texttemplate": "%{y:.1f}",
         "type": "bar",
         "x": [
          "LD Car",
          "LD Truck"
         ],
         "xaxis": "x4",
         "y": {
          "bdata": "uBu0xnceUj8l2Edo/SFwPw==",
          "dtype": "f8"
         },
         "yaxis": "y4"
        },
        {
         "hovertemplate": "Carrier=Diesel<br>Period=2040<br>Vehicle Class=%{x}<br>New Capacity=%{y}<extra></extra>",
         "legendgroup": "Diesel",
         "marker": {
          "color": "#DC3912",
          "pattern": {
           "shape": ""
          }
         },
         "name": "Diesel",
         "orientation": "v",
         "showlegend": false,
         "textfont": {
          "size": 9
         },
         "textposition": "auto",
         "texttemplate": "%{y:.1f}",
         "type": "bar",
         "x": [
          "LD Car",
          "LD Truck"
         ],
         "xaxis": "x5",
         "y": {
          "bdata": "tqzc3wXPUj+U8JyT0uxqPw==",
          "dtype": "f8"
         },
         "yaxis": "y5"
        },
        {
         "hovertemplate": "Carrier=Diesel<br>Period=2045<br>Vehicle Class=%{x}<br>New Capacity=%{y}<extra></extra>",
         "legendgroup": "Diesel",
         "marker": {
          "color": "#DC3912",
          "pattern": {
           "shape": ""
          }
         },
         "name": "Diesel",
         "orientation": "v",
         "showlegend": false,
         "textfont": {
          "size": 9
         },
         "textposition": "auto",
         "texttemplate": "%{y:.1f}",
         "type": "bar",
         "x": [
          "LD Car",
          "LD Truck"
         ],
         "xaxis": "x6",
         "y": {
          "bdata": "kJYmW5bTUj9dq0zuFk1uPw==",
          "dtype": "f8"
         },
         "yaxis": "y6"
        },
        {
         "hovertemplate": "Carrier=Diesel<br>Period=2050<br>Vehicle Class=%{x}<br>New Capacity=%{y}<extra></extra>",
         "legendgroup": "Diesel",
         "marker": {
          "color": "#DC3912",
          "pattern": {
           "shape": ""
          }
         },
         "name": "Diesel",
         "orientation": "v",
         "showlegend": false,
         "textfont": {
          "size": 9
         },
         "textposition": "auto",
         "texttemplate": "%{y:.1f}",
         "type": "bar",
         "x": [
          "LD Car",
          "LD Truck"
         ],
         "xaxis": "x7",
         "y": {
          "bdata": "zZyArz4dVD/7qfRUPbhoPw==",
          "dtype": "f8"
         },
         "yaxis": "y7"
        },
        {
         "hovertemplate": "Carrier=CNG<br>Period=2021<br>Vehicle Class=%{x}<br>New Capacity=%{y}<extra></extra>",
         "legendgroup": "CNG",
         "marker": {
          "color": "#FF9900",
          "pattern": {
           "shape": ""
          }
         },
         "name": "CNG",
         "orientation": "v",
         "showlegend": true,
         "textfont": {
          "size": 9
         },
         "textposition": "auto",
         "texttemplate": "%{y:.1f}",
         "type": "bar",
         "x": [
          "LD Car",
          "LD Truck"
         ],
         "xaxis": "x",
         "y": {
          "bdata": "wnsdv6zvVj8uIMb0TYN0Pw==",
          "dtype": "f8"
         },
         "yaxis": "y"
        },
        {
         "hovertemplate": "Carrier=CNG<br>Period=2025<br>Vehicle Class=%{x}<br>New Capacity=%{y}<extra></extra>",
         "legendgroup": "CNG",
         "marker": {
          "color": "#FF9900",
          "pattern": {
           "shape": ""
          }
         },
         "name": "CNG",
         "orientation": "v",
         "showlegend": false,
         "textfont": {
          "size": 9
         },
         "textposition": "auto",
         "texttemplate": "%{y:.1f}",
         "type": "bar",
         "x": [
          "LD Car",
          "LD Truck"
         ],
         "xaxis": "x2",
         "y": {
          "bdata": "uy/nNRiDUj8CWL+VUjJwPw==",
          "dtype": "f8"
         },
         "yaxis": "y2"
        },
        {
         "hovertemplate": "Carrier=CNG<br>Period=2030<br>Vehicle Class=%{x}<br>New Capacity=%{y}<extra></extra>",
         "legendgroup": "CNG",
         "marker": {
          "color": "#FF9900",
          "pattern": {
           "shape": ""
          }
         },
         "name": "CNG",
         "orientation": "v",
         "showlegend": false,
         "textfont": {
          "size": 9
         },
         "textposition": "auto",
         "texttemplate": "%{y:.1f}",
         "type": "bar",
         "x": [
          "LD Car",
          "LD Truck"
         ],
         "xaxis": "x3",
         "y": {
          "bdata": "0UZSejm0Uz/0gaS55V1yPw==",
          "dtype": "f8"
         },
         "yaxis": "y3"
        },
        {
         "hovertemplate": "Carrier=CNG<br>Period=2035<br>Vehicle Class=%{x}<br>New Capacity=%{y}<extra></extra>",
         "legendgroup": "CNG",
         "marker": {
          "color": "#FF9900",
          "pattern": {
           "shape": ""
          }
         },
         "name": "CNG",
         "orientation": "v",
         "showlegend": false,
         "textfont": {
          "size": 9
         },
         "textposition": "auto",
         "texttemplate": "%{y:.1f}",
         "type": "bar",
         "x": [
          "LD Car",
          "LD Truck"
         ],
         "xaxis": "x4",
         "y": {
          "bdata": "st3147QZUj/xCh+u0f1wPw==",
          "dtype": "f8"
         },
         "yaxis": "y4"
        },
        {
         "hovertemplate": "Carrier=CNG<br>Period=2040<br>Vehicle Class=%{x}<br>New Capacity=%{y}<extra></extra>",
         "legendgroup": "CNG",
         "marker": {
          "color": "#FF9900",
          "pattern": {
           "shape": ""
          }
         },
         "name": "CNG",
         "orientation": "v",
         "showlegend": false,
         "textfont": {
          "size": 9
         },
         "textposition": "auto",
         "texttemplate": "%{y:.1f}",
         "type": "bar",
         "x": [
          "LD Car",
          "LD Truck"
         ],
         "xaxis": "x5",
         "y": {
          "bdata": "oBRMkwNFUz90lyUc0FNtPw==",
          "dtype": "f8"
         },
         "yaxis": "y5"
        },
        {
         "hovertemplate": "Carrier=CNG<br>Period=2045<br>Vehicle Class=%{x}<br>New Capacity=%{y}<extra></extra>",
         "legendgroup": "CNG",
         "marker": {
          "color": "#FF9900",
          "pattern": {
           "shape": ""
          }
         },
         "name": "CNG",
         "orientation": "v",
         "showlegend": false,
         "textfont": {
          "size": 9
         },
         "textposition": "auto",
         "texttemplate": "%{y:.1f}",
         "type": "bar",
         "x": [
          "LD Car",
          "LD Truck"
         ],
         "xaxis": "x6",
         "y": {
          "bdata": "kGkqdcD0Uj/9CjrGoT9wPw==",
          "dtype": "f8"
         },
         "yaxis": "y6"
        },
        {
         "hovertemplate": "Carrier=CNG<br>Period=2050<br>Vehicle Class=%{x}<br>New Capacity=%{y}<extra></extra>",
         "legendgroup": "CNG",
         "marker": {
          "color": "#FF9900",
          "pattern": {
           "shape": ""
          }
         },
         "name": "CNG",
         "orientation": "v",
         "showlegend": false,
         "textfont": {
          "size": 9
         },
         "textposition": "auto",
         "texttemplate": "%{y:.1f}",
         "type": "bar",
         "x": [
          "LD Car",
          "LD Truck"
         ],
         "xaxis": "x7",
         "y": {
          "bdata": "scRGLFThVD/kkv528QNsPw==",
          "dtype": "f8"
         },
         "yaxis": "y7"
        },
        {
         "hovertemplate": "Carrier=HEV<br>Period=2021<br>Vehicle Class=%{x}<br>New Capacity=%{y}<extra></extra>",
         "legendgroup": "HEV",
         "marker": {
          "color": "#109618",
          "pattern": {
           "shape": ""
          }
         },
         "name": "HEV",
         "orientation": "v",
         "showlegend": true,
         "textfont": {
          "size": 9
         },
         "textposition": "auto",
         "texttemplate": "%{y:.1f}",
         "type": "bar",
         "x": [
          "LD Car",
          "LD Truck"
         ],
         "xaxis": "x",
         "y": {
          "bdata": "9u/j6QFXaT9B0u73isSEPw==",
          "dtype": "f8"
         },
         "yaxis": "y"
        },
        {
         "hovertemplate": "Carrier=HEV<br>Period=2025<br>Vehicle Class=%{x}<br>New Capacity=%{y}<extra></extra>",
         "legendgroup": "HEV",
         "marker": {
          "color": "#109618",
          "pattern": {
           "shape": ""
          }
         },
         "name": "HEV",
         "orientation": "v",
         "showlegend": false,
         "textfont": {
          "size": 9
         },
         "textposition": "auto",
         "texttemplate": "%{y:.1f}",
         "type": "bar",
         "x": [
          "LD Car",
          "LD Truck"
         ],
         "xaxis": "x2",
         "y": {
          "bdata": "WgNkZ6skYz+AdbDkb9x2Pw==",
          "dtype": "f8"
         },
         "yaxis": "y2"
        },
        {
         "hovertemplate": "Carrier=HEV<br>Period=2030<br>Vehicle Class=%{x}<br>New Capacity=%{y}<extra></extra>",
         "legendgroup": "HEV",
         "marker": {
          "color": "#109618",
          "pattern": {
           "shape": ""
          }
         },
         "name": "HEV",
         "orientation": "v",
         "showlegend": false,
         "textfont": {
          "size": 9
         },
         "textposition": "auto",
         "texttemplate": "%{y:.1f}",
         "type": "bar",
         "x": [
          "LD Car",
          "LD Truck"
         ],
         "xaxis": "x3",
         "y": {
          "bdata": "RsGnhJYEYj8HM1KcEAB5Pw==",
          "dtype": "f8"
         },
         "yaxis": "y3"
        },
        {
         "hovertemplate": "Carrier=HEV<br>Period=2035<br>Vehicle Class=%{x}<br>New Capacity=%{y}<extra></extra>",
         "legendgroup": "HEV",
         "marker": {
          "color": "#109618",
          "pattern": {
           "shape": ""
          }
         },
         "name": "HEV",
         "orientation": "v",
         "showlegend": false,
         "textfont": {
          "size": 9
         },
         "textposition": "auto",
         "texttemplate": "%{y:.1f}",
         "type": "bar",
         "x": [
          "LD Car",
          "LD Truck"
         ],
         "xaxis": "x4",
         "y": {
          "bdata": "pENhlNfLXj+A3iILDrV0Pw==",
          "dtype": "f8"
         },
         "yaxis": "y4"
        },
        {
         "hovertemplate": "Carrier=HEV<br>Period=2040<br>Vehicle Class=%{x}<br>New Capacity=%{y}<extra></extra>",
         "legendgroup": "HEV",
         "marker": {
          "color": "#109618",
          "pattern": {
           "shape": ""
          }
         },
         "name": "HEV",
         "orientation": "v",
         "showlegend": false,
         "textfont": {
          "size": 9
         },
         "textposition": "auto",
         "texttemplate": "%{y:.1f}",
         "type": "bar",
         "x": [
          "LD Car",
          "LD Truck"
         ],
         "xaxis": "x5",
         "y": {
          "bdata": "UCRqpQ8OYD8cGQeYlxtzPw==",
          "dtype": "f8"
         },
         "yaxis": "y5"
        },
        {
         "hovertemplate": "Carrier=HEV<br>Period=2045<br>Vehicle Class=%{x}<br>New Capacity=%{y}<extra></extra>",
         "legendgroup": "HEV",
         "marker": {
          "color": "#109618",
          "pattern": {
           "shape": ""
          }
         },
         "name": "HEV",
         "orientation": "v",
         "showlegend": false,
         "textfont": {
          "size": 9
         },
         "textposition": "auto",
         "texttemplate": "%{y:.1f}",
         "type": "bar",
         "x": [
          "LD Car",
          "LD Truck"
         ],
         "xaxis": "x6",
         "y": {
          "bdata": "4ru6oGF8Yj9FmG3e+rZ5Pw==",
          "dtype": "f8"
         },
         "yaxis": "y6"
        },
        {
         "hovertemplate": "Carrier=HEV<br>Period=2050<br>Vehicle Class=%{x}<br>New Capacity=%{y}<extra></extra>",
         "legendgroup": "HEV",
         "marker": {
          "color": "#109618",
          "pattern": {
           "shape": ""
          }
         },
         "name": "HEV",
         "orientation": "v",
         "showlegend": false,
         "textfont": {
          "size": 9
         },
         "textposition": "auto",
         "texttemplate": "%{y:.1f}",
         "type": "bar",
         "x": [
          "LD Car",
          "LD Truck"
         ],
         "xaxis": "x7",
         "y": {
          "bdata": "49XgTmdNYz/wkNUgBU12Pw==",
          "dtype": "f8"
         },
         "yaxis": "y7"
        },
        {
         "hovertemplate": "Carrier=PHEV<br>Period=2021<br>Vehicle Class=%{x}<br>New Capacity=%{y}<extra></extra>",
         "legendgroup": "PHEV",
         "marker": {
          "color": "#990099",
          "pattern": {
           "shape": ""
          }
         },
         "name": "PHEV",
         "orientation": "v",
         "showlegend": true,
         "textfont": {
          "size": 9
         },
         "textposition": "auto",
         "texttemplate": "%{y:.1f}",
         "type": "bar",
         "x": [
          "LD Car",
          "LD Truck"
         ],
         "xaxis": "x",
         "y": {
          "bdata": "lUX1AlvnbT9mX8XnNYd/Pw==",
          "dtype": "f8"
         },
         "yaxis": "y"
        },
        {
         "hovertemplate": "Carrier=PHEV<br>Period=2025<br>Vehicle Class=%{x}<br>New Capacity=%{y}<extra></extra>",
         "legendgroup": "PHEV",
         "marker": {
          "color": "#990099",
          "pattern": {
           "shape": ""
          }
         },
         "name": "PHEV",
         "orientation": "v",
         "showlegend": false,
         "textfont": {
          "size": 9
         },
         "textposition": "auto",
         "texttemplate": "%{y:.1f}",
         "type": "bar",
         "x": [
          "LD Car",
          "LD Truck"
         ],
         "xaxis": "x2",
         "y": {
          "bdata": "CPRyr/b3bD+8zt0GQQF9Pw==",
          "dtype": "f8"
         },
         "yaxis": "y2"
        },
        {
         "hovertemplate": "Carrier=PHEV<br>Period=2030<br>Vehicle Class=%{x}<br>New Capacity=%{y}<extra></extra>",
         "legendgroup": "PHEV",
         "marker": {
          "color": "#990099",
          "pattern": {
           "shape": ""
          }
         },
         "name": "PHEV",
         "orientation": "v",
         "showlegend": false,
         "textfont": {
          "size": 9
         },
         "textposition": "auto",
         "texttemplate": "%{y:.1f}",
         "type": "bar",
         "x": [
          "LD Car",
          "LD Truck"
         ],
         "xaxis": "x3",
         "y": {
          "bdata": "fKX/rC+3cD8kvk0zno6BPw==",
          "dtype": "f8"
         },
         "yaxis": "y3"
        },
        {
         "hovertemplate": "Carrier=PHEV<br>Period=2035<br>Vehicle Class=%{x}<br>New Capacity=%{y}<extra></extra>",
         "legendgroup": "PHEV",
         "marker": {
          "color": "#990099",
          "pattern": {
           "shape": ""
          }
         },
         "name": "PHEV",
         "orientation": "v",
         "showlegend": false,
         "textfont": {
          "size": 9
         },
         "textposition": "auto",
         "texttemplate": "%{y:.1f}",
         "type": "bar",
         "x": [
          "LD Car",
          "LD Truck"
         ],
         "xaxis": "x4",
         "y": {
          "bdata": "MlEaHXOfcD9HW6IIWQWCPw==",
          "dtype": "f8"
         },
         "yaxis": "y4"
        },
        {
         "hovertemplate": "Carrier=PHEV<br>Period=2040<br>Vehicle Class=%{x}<br>New Capacity=%{y}<extra></extra>",
         "legendgroup": "PHEV",
         "marker": {
          "color": "#990099",
          "pattern": {
           "shape": ""
          }
         },
         "name": "PHEV",
         "orientation": "v",
         "showlegend": false,
         "textfont": {
          "size": 9
         },
         "textposition": "auto",
         "texttemplate": "%{y:.1f}",
         "type": "bar",
         "x": [
          "LD Car",
          "LD Truck"
         ],
         "xaxis": "x5",
         "y": {
          "bdata": "0k64sDN1cj8nHQD6/EOCPw==",
          "dtype": "f8"
         },
         "yaxis": "y5"
        },
        {
         "hovertemplate": "Carrier=PHEV<br>Period=2045<br>Vehicle Class=%{x}<br>New Capacity=%{y}<extra></extra>",
         "legendgroup": "PHEV",
         "marker": {
          "color": "#990099",
          "pattern": {
           "shape": ""
          }
         },
         "name": "PHEV",
         "orientation": "v",
         "showlegend": false,
         "textfont": {
          "size": 9
         },
         "textposition": "auto",
         "texttemplate": "%{y:.1f}",
         "type": "bar",
         "x": [
          "LD Car",
          "LD Truck"
         ],
         "xaxis": "x6",
         "y": {
          "bdata": "nMNWWQ86cj/0dm66aZSDPw==",
          "dtype": "f8"
         },
         "yaxis": "y6"
        },
        {
         "hovertemplate": "Carrier=PHEV<br>Period=2050<br>Vehicle Class=%{x}<br>New Capacity=%{y}<extra></extra>",
         "legendgroup": "PHEV",
         "marker": {
          "color": "#990099",
          "pattern": {
           "shape": ""
          }
         },
         "name": "PHEV",
         "orientation": "v",
         "showlegend": false,
         "textfont": {
          "size": 9
         },
         "textposition": "auto",
         "texttemplate": "%{y:.1f}",
         "type": "bar",
         "x": [
          "LD Car",
          "LD Truck"
         ],
         "xaxis": "x7",
         "y": {
          "bdata": "9OyfgLjmcz+kZ35DHgmDPw==",
          "dtype": "f8"
         },
         "yaxis": "y7"
        },
        {
         "hovertemplate": "Carrier=BEV<br>Period=2021<br>Vehicle Class=%{x}<br>New Capacity=%{y}<extra></extra>",
         "legendgroup": "BEV",
         "marker": {
          "color": "#0099C6",
          "pattern": {
           "shape": ""
          }
         },
         "name": "BEV",
         "orientation": "v",
         "showlegend": true,
         "textfont": {
          "size": 9
         },
         "textposition": "auto",
         "texttemplate": "%{y:.1f}",
         "type": "bar",
         "x": [
          "LD Car",
          "LD Truck"
         ],
         "xaxis": "x",
         "y": {
          "bdata": "5A/5p/Z0hUAJx3659cyCQA==",
          "dtype": "f8"
         },
         "yaxis": "y"
        },
        {
         "hovertemplate": "Carrier=BEV<br>Period=2025<br>Vehicle Class=%{x}<br>New Capacity=%{y}<extra></extra>",
         "legendgroup": "BEV",
         "marker": {
          "color": "#0099C6",
          "pattern": {
           "shape": ""
          }
         },
         "name": "BEV",
         "orientation": "v",
         "showlegend": false,
         "textfont": {
          "size": 9
         },
         "textposition": "auto",
         "texttemplate": "%{y:.1f}",
         "type": "bar",
         "x": [
          "LD Car",
          "LD Truck"
         ],
         "xaxis": "x2",
         "y": {
          "bdata": "XMKtsjhNiUCIqBJcMGiQQA==",
          "dtype": "f8"
         },
         "yaxis": "y2"
        },
        {
         "hovertemplate": "Carrier=BEV<br>Period=2030<br>Vehicle Class=%{x}<br>New Capacity=%{y}<extra></extra>",
         "legendgroup": "BEV",
         "marker": {
          "color": "#0099C6",
          "pattern": {
           "shape": ""
          }
         },
         "name": "BEV",
         "orientation": "v",
         "showlegend": false,
         "textfont": {
          "size": 9
         },
         "textposition": "auto",
         "texttemplate": "%{y:.1f}",
         "type": "bar",
         "x": [
          "LD Car",
          "LD Truck"
         ],
         "xaxis": "x3",
         "y": {
          "bdata": "EofjpHwGkUAs9NtRKhGVQA==",
          "dtype": "f8"
         },
         "yaxis": "y3"
        },
        {
         "hovertemplate": "Carrier=BEV<br>Period=2035<br>Vehicle Class=%{x}<br>New Capacity=%{y}<extra></extra>",
         "legendgroup": "BEV",
         "marker": {
          "color": "#0099C6",
          "pattern": {
           "shape": ""
          }
         },
         "name": "BEV",
         "orientation": "v",
         "showlegend": false,
         "textfont": {
          "size": 9
         },
         "textposition": "auto",
         "texttemplate": "%{y:.1f}",
         "type": "bar",
         "x": [
          "LD Car",
          "LD Truck"
         ],
         "xaxis": "x4",
         "y": {
          "bdata": "Rx2F/VQTpEDOmcTiDgygQA==",
          "dtype": "f8"
         },
         "yaxis": "y4"
        },
        {
         "hovertemplate": "Carrier=BEV<br>Period=2040<br>Vehicle Class=%{x}<br>New Capacity=%{y}<extra></extra>",
         "legendgroup": "BEV",
         "marker": {
          "color": "#0099C6",
          "pattern": {
           "shape": ""
          }
         },
         "name": "BEV",
         "orientation": "v",
         "showlegend": false,
         "textfont": {
          "size": 9
         },
         "textposition": "auto",
         "texttemplate": "%{y:.1f}",
         "type": "bar",
         "x": [
          "LD Car",
          "LD Truck"
         ],
         "xaxis": "x5",
         "y": {
          "bdata": "X1dBKiB9lEAXxTMmWpCgQA==",
          "dtype": "f8"
         },
         "yaxis": "y5"
        },
        {
         "hovertemplate": "Carrier=BEV<br>Period=2045<br>Vehicle Class=%{x}<br>New Capacity=%{y}<extra></extra>",
         "legendgroup": "BEV",
         "marker": {
          "color": "#0099C6",
          "pattern": {
           "shape": ""
          }
         },
         "name": "BEV",
         "orientation": "v",
         "showlegend": false,
         "textfont": {
          "size": 9
         },
         "textposition": "auto",
         "texttemplate": "%{y:.1f}",
         "type": "bar",
         "x": [
          "LD Car",
          "LD Truck"
         ],
         "xaxis": "x6",
         "y": {
          "bdata": "+weGCYgCmkA5xWOa3xSgQA==",
          "dtype": "f8"
         },
         "yaxis": "y6"
        },
        {
         "hovertemplate": "Carrier=BEV<br>Period=2050<br>Vehicle Class=%{x}<br>New Capacity=%{y}<extra></extra>",
         "legendgroup": "BEV",
         "marker": {
          "color": "#0099C6",
          "pattern": {
           "shape": ""
          }
         },
         "name": "BEV",
         "orientation": "v",
         "showlegend": false,
         "textfont": {
          "size": 9
         },
         "textposition": "auto",
         "texttemplate": "%{y:.1f}",
         "type": "bar",
         "x": [
          "LD Car",
          "LD Truck"
         ],
         "xaxis": "x7",
         "y": {
          "bdata": "7wmxTxi/oECjng+oH/yiQA==",
          "dtype": "f8"
         },
         "yaxis": "y7"
        },
        {
         "hovertemplate": "Carrier=FCEV<br>Period=2021<br>Vehicle Class=%{x}<br>New Capacity=%{y}<extra></extra>",
         "legendgroup": "FCEV",
         "marker": {
          "color": "#DD4477",
          "pattern": {
           "shape": ""
          }
         },
         "name": "FCEV",
         "orientation": "v",
         "showlegend": true,
         "textfont": {
          "size": 9
         },
         "textposition": "auto",
         "texttemplate": "%{y:.1f}",
         "type": "bar",
         "x": [
          "LD Car",
          "LD Truck"
         ],
         "xaxis": "x",
         "y": {
          "bdata": "SOK3Eo/BUj9G8EzwqA5iPw==",
          "dtype": "f8"
         },
         "yaxis": "y"
        },
        {
         "hovertemplate": "Carrier=FCEV<br>Period=2025<br>Vehicle Class=%{x}<br>New Capacity=%{y}<extra></extra>",
         "legendgroup": "FCEV",
         "marker": {
          "color": "#DD4477",
          "pattern": {
           "shape": ""
          }
         },
         "name": "FCEV",
         "orientation": "v",
         "showlegend": false,
         "textfont": {
          "size": 9
         },
         "textposition": "auto",
         "texttemplate": "%{y:.1f}",
         "type": "bar",
         "x": [
          "LD Car",
          "LD Truck"
         ],
         "xaxis": "x2",
         "y": {
          "bdata": "FbCmPYUuUj8QAEm9nAxiPw==",
          "dtype": "f8"
         },
         "yaxis": "y2"
        },
        {
         "hovertemplate": "Carrier=FCEV<br>Period=2030<br>Vehicle Class=%{x}<br>New Capacity=%{y}<extra></extra>",
         "legendgroup": "FCEV",
         "marker": {
          "color": "#DD4477",
          "pattern": {
           "shape": ""
          }
         },
         "name": "FCEV",
         "orientation": "v",
         "showlegend": false,
         "textfont": {
          "size": 9
         },
         "textposition": "auto",
         "texttemplate": "%{y:.1f}",
         "type": "bar",
         "x": [
          "LD Car",
          "LD Truck"
         ],
         "xaxis": "x3",
         "y": {
          "bdata": "Fxc31BgwXT+LOMkgCPFsPw==",
          "dtype": "f8"
         },
         "yaxis": "y3"
        },
        {
         "hovertemplate": "Carrier=FCEV<br>Period=2035<br>Vehicle Class=%{x}<br>New Capacity=%{y}<extra></extra>",
         "legendgroup": "FCEV",
         "marker": {
          "color": "#DD4477",
          "pattern": {
           "shape": ""
          }
         },
         "name": "FCEV",
         "orientation": "v",
         "showlegend": false,
         "textfont": {
          "size": 9
         },
         "textposition": "auto",
         "texttemplate": "%{y:.1f}",
         "type": "bar",
         "x": [
          "LD Car",
          "LD Truck"
         ],
         "xaxis": "x4",
         "y": {
          "bdata": "TPbYvzX+XT+nzI1gHPVtPw==",
          "dtype": "f8"
         },
         "yaxis": "y4"
        },
        {
         "hovertemplate": "Carrier=FCEV<br>Period=2040<br>Vehicle Class=%{x}<br>New Capacity=%{y}<extra></extra>",
         "legendgroup": "FCEV",
         "marker": {
          "color": "#DD4477",
          "pattern": {
           "shape": ""
          }
         },
         "name": "FCEV",
         "orientation": "v",
         "showlegend": false,
         "textfont": {
          "size": 9
         },
         "textposition": "auto",
         "texttemplate": "%{y:.1f}",
         "type": "bar",
         "x": [
          "LD Car",
          "LD Truck"
         ],
         "xaxis": "x5",
         "y": {
          "bdata": "ajrWvzuFYD9GkSUOmi5tPw==",
          "dtype": "f8"
         },
         "yaxis": "y5"
        },
        {
         "hovertemplate": "Carrier=FCEV<br>Period=2045<br>Vehicle Class=%{x}<br>New Capacity=%{y}<extra></extra>",
         "legendgroup": "FCEV",
         "marker": {
          "color": "#DD4477",
          "pattern": {
           "shape": ""
          }
         },
         "name": "FCEV",
         "orientation": "v",
         "showlegend": false,
         "textfont": {
          "size": 9
         },
         "textposition": "auto",
         "texttemplate": "%{y:.1f}",
         "type": "bar",
         "x": [
          "LD Car",
          "LD Truck"
         ],
         "xaxis": "x6",
         "y": {
          "bdata": "t+WKFlewYz8/SpSHCeZyPw==",
          "dtype": "f8"
         },
         "yaxis": "y6"
        },
        {
         "hovertemplate": "Carrier=FCEV<br>Period=2050<br>Vehicle Class=%{x}<br>New Capacity=%{y}<extra></extra>",
         "legendgroup": "FCEV",
         "marker": {
          "color": "#DD4477",
          "pattern": {
           "shape": ""
          }
         },
         "name": "FCEV",
         "orientation": "v",
         "showlegend": false,
         "textfont": {
          "size": 9
         },
         "textposition": "auto",
         "texttemplate": "%{y:.1f}",
         "type": "bar",
         "x": [
          "LD Car",
          "LD Truck"
         ],
         "xaxis": "x7",
         "y": {
          "bdata": "eolDkHwlZz958HSWETd1Pw==",
          "dtype": "f8"
         },
         "yaxis": "y7"
        }
       ],
       "layout": {
        "annotations": [
         {
          "font": {},
          "showarrow": false,
          "text": "2021",
          "x": 0.06285714285714285,
          "xanchor": "center",
          "xref": "paper",
          "y": -0.08,
          "yanchor": "top",
          "yref": "paper"
         },
         {
          "font": {},
          "showarrow": false,
          "text": "2025",
          "x": 0.20857142857142852,
          "xanchor": "center",
          "xref": "paper",
          "y": -0.08,
          "yanchor": "top",
          "yref": "paper"
         },
         {
          "font": {},
          "showarrow": false,
          "text": "2030",
          "x": 0.3542857142857142,
          "xanchor": "center",
          "xref": "paper",
          "y": -0.08,
          "yanchor": "top",
          "yref": "paper"
         },
         {
          "font": {},
          "showarrow": false,
          "text": "2035",
          "x": 0.5,
          "xanchor": "center",
          "xref": "paper",
          "y": -0.08,
          "yanchor": "top",
          "yref": "paper"
         },
         {
          "font": {},
          "showarrow": false,
          "text": "2040",
          "x": 0.6457142857142856,
          "xanchor": "center",
          "xref": "paper",
          "y": -0.08,
          "yanchor": "top",
          "yref": "paper"
         },
         {
          "font": {},
          "showarrow": false,
          "text": "2045",
          "x": 0.7914285714285713,
          "xanchor": "center",
          "xref": "paper",
          "y": -0.08,
          "yanchor": "top",
          "yref": "paper"
         },
         {
          "font": {},
          "showarrow": false,
          "text": "2050",
          "x": 0.937142857142857,
          "xanchor": "center",
          "xref": "paper",
          "y": -0.08,
          "yanchor": "top",
          "yref": "paper"
         }
        ],
        "bargap": 0.1,
        "barmode": "stack",
        "font": {
         "size": 14
        },
        "height": 650,
        "legend": {
         "orientation": "h",
         "title": {
          "text": ""
         },
         "tracegroupgap": 0,
         "x": 0.5,
         "xanchor": "center",
         "y": 1.03,
         "yanchor": "top"
        },
        "margin": {
         "t": 60
        },
        "template": {
         "data": {
          "bar": [
           {
            "error_x": {
             "color": "#2a3f5f"
            },
            "error_y": {
             "color": "#2a3f5f"
            },
            "marker": {
             "line": {
              "color": "white",
              "width": 0.5
             },
             "pattern": {
              "fillmode": "overlay",
              "size": 10,
              "solidity": 0.2
             }
            },
            "type": "bar"
           }
          ],
          "barpolar": [
           {
            "marker": {
             "line": {
              "color": "white",
              "width": 0.5
             },
             "pattern": {
              "fillmode": "overlay",
              "size": 10,
              "solidity": 0.2
             }
            },
            "type": "barpolar"
           }
          ],
          "carpet": [
           {
            "aaxis": {
             "endlinecolor": "#2a3f5f",
             "gridcolor": "#C8D4E3",
             "linecolor": "#C8D4E3",
             "minorgridcolor": "#C8D4E3",
             "startlinecolor": "#2a3f5f"
            },
            "baxis": {
             "endlinecolor": "#2a3f5f",
             "gridcolor": "#C8D4E3",
             "linecolor": "#C8D4E3",
             "minorgridcolor": "#C8D4E3",
             "startlinecolor": "#2a3f5f"
            },
            "type": "carpet"
           }
          ],
          "choropleth": [
           {
            "colorbar": {
             "outlinewidth": 0,
             "ticks": ""
            },
            "type": "choropleth"
           }
          ],
          "contour": [
           {
            "colorbar": {
             "outlinewidth": 0,
             "ticks": ""
            },
            "colorscale": [
             [
              0,
              "#0d0887"
             ],
             [
              0.1111111111111111,
              "#46039f"
             ],
             [
              0.2222222222222222,
              "#7201a8"
             ],
             [
              0.3333333333333333,
              "#9c179e"
             ],
             [
              0.4444444444444444,
              "#bd3786"
             ],
             [
              0.5555555555555556,
              "#d8576b"
             ],
             [
              0.6666666666666666,
              "#ed7953"
             ],
             [
              0.7777777777777778,
              "#fb9f3a"
             ],
             [
              0.8888888888888888,
              "#fdca26"
             ],
             [
              1,
              "#f0f921"
             ]
            ],
            "type": "contour"
           }
          ],
          "contourcarpet": [
           {
            "colorbar": {
             "outlinewidth": 0,
             "ticks": ""
            },
            "type": "contourcarpet"
           }
          ],
          "heatmap": [
           {
            "colorbar": {
             "outlinewidth": 0,
             "ticks": ""
            },
            "colorscale": [
             [
              0,
              "#0d0887"
             ],
             [
              0.1111111111111111,
              "#46039f"
             ],
             [
              0.2222222222222222,
              "#7201a8"
             ],
             [
              0.3333333333333333,
              "#9c179e"
             ],
             [
              0.4444444444444444,
              "#bd3786"
             ],
             [
              0.5555555555555556,
              "#d8576b"
             ],
             [
              0.6666666666666666,
              "#ed7953"
             ],
             [
              0.7777777777777778,
              "#fb9f3a"
             ],
             [
              0.8888888888888888,
              "#fdca26"
             ],
             [
              1,
              "#f0f921"
             ]
            ],
            "type": "heatmap"
           }
          ],
          "histogram": [
           {
            "marker": {
             "pattern": {
              "fillmode": "overlay",
              "size": 10,
              "solidity": 0.2
             }
            },
            "type": "histogram"
           }
          ],
          "histogram2d": [
           {
            "colorbar": {
             "outlinewidth": 0,
             "ticks": ""
            },
            "colorscale": [
             [
              0,
              "#0d0887"
             ],
             [
              0.1111111111111111,
              "#46039f"
             ],
             [
              0.2222222222222222,
              "#7201a8"
             ],
             [
              0.3333333333333333,
              "#9c179e"
             ],
             [
              0.4444444444444444,
              "#bd3786"
             ],
             [
              0.5555555555555556,
              "#d8576b"
             ],
             [
              0.6666666666666666,
              "#ed7953"
             ],
             [
              0.7777777777777778,
              "#fb9f3a"
             ],
             [
              0.8888888888888888,
              "#fdca26"
             ],
             [
              1,
              "#f0f921"
             ]
            ],
            "type": "histogram2d"
           }
          ],
          "histogram2dcontour": [
           {
            "colorbar": {
             "outlinewidth": 0,
             "ticks": ""
            },
            "colorscale": [
             [
              0,
              "#0d0887"
             ],
             [
              0.1111111111111111,
              "#46039f"
             ],
             [
              0.2222222222222222,
              "#7201a8"
             ],
             [
              0.3333333333333333,
              "#9c179e"
             ],
             [
              0.4444444444444444,
              "#bd3786"
             ],
             [
              0.5555555555555556,
              "#d8576b"
             ],
             [
              0.6666666666666666,
              "#ed7953"
             ],
             [
              0.7777777777777778,
              "#fb9f3a"
             ],
             [
              0.8888888888888888,
              "#fdca26"
             ],
             [
              1,
              "#f0f921"
             ]
            ],
            "type": "histogram2dcontour"
           }
          ],
          "mesh3d": [
           {
            "colorbar": {
             "outlinewidth": 0,
             "ticks": ""
            },
            "type": "mesh3d"
           }
          ],
          "parcoords": [
           {
            "line": {
             "colorbar": {
              "outlinewidth": 0,
              "ticks": ""
             }
            },
            "type": "parcoords"
           }
          ],
          "pie": [
           {
            "automargin": true,
            "type": "pie"
           }
          ],
          "scatter": [
           {
            "fillpattern": {
             "fillmode": "overlay",
             "size": 10,
             "solidity": 0.2
            },
            "type": "scatter"
           }
          ],
          "scatter3d": [
           {
            "line": {
             "colorbar": {
              "outlinewidth": 0,
              "ticks": ""
             }
            },
            "marker": {
             "colorbar": {
              "outlinewidth": 0,
              "ticks": ""
             }
            },
            "type": "scatter3d"
           }
          ],
          "scattercarpet": [
           {
            "marker": {
             "colorbar": {
              "outlinewidth": 0,
              "ticks": ""
             }
            },
            "type": "scattercarpet"
           }
          ],
          "scattergeo": [
           {
            "marker": {
             "colorbar": {
              "outlinewidth": 0,
              "ticks": ""
             }
            },
            "type": "scattergeo"
           }
          ],
          "scattergl": [
           {
            "marker": {
             "colorbar": {
              "outlinewidth": 0,
              "ticks": ""
             }
            },
            "type": "scattergl"
           }
          ],
          "scattermap": [
           {
            "marker": {
             "colorbar": {
              "outlinewidth": 0,
              "ticks": ""
             }
            },
            "type": "scattermap"
           }
          ],
          "scattermapbox": [
           {
            "marker": {
             "colorbar": {
              "outlinewidth": 0,
              "ticks": ""
             }
            },
            "type": "scattermapbox"
           }
          ],
          "scatterpolar": [
           {
            "marker": {
             "colorbar": {
              "outlinewidth": 0,
              "ticks": ""
             }
            },
            "type": "scatterpolar"
           }
          ],
          "scatterpolargl": [
           {
            "marker": {
             "colorbar": {
              "outlinewidth": 0,
              "ticks": ""
             }
            },
            "type": "scatterpolargl"
           }
          ],
          "scatterternary": [
           {
            "marker": {
             "colorbar": {
              "outlinewidth": 0,
              "ticks": ""
             }
            },
            "type": "scatterternary"
           }
          ],
          "surface": [
           {
            "colorbar": {
             "outlinewidth": 0,
             "ticks": ""
            },
            "colorscale": [
             [
              0,
              "#0d0887"
             ],
             [
              0.1111111111111111,
              "#46039f"
             ],
             [
              0.2222222222222222,
              "#7201a8"
             ],
             [
              0.3333333333333333,
              "#9c179e"
             ],
             [
              0.4444444444444444,
              "#bd3786"
             ],
             [
              0.5555555555555556,
              "#d8576b"
             ],
             [
              0.6666666666666666,
              "#ed7953"
             ],
             [
              0.7777777777777778,
              "#fb9f3a"
             ],
             [
              0.8888888888888888,
              "#fdca26"
             ],
             [
              1,
              "#f0f921"
             ]
            ],
            "type": "surface"
           }
          ],
          "table": [
           {
            "cells": {
             "fill": {
              "color": "#EBF0F8"
             },
             "line": {
              "color": "white"
             }
            },
            "header": {
             "fill": {
              "color": "#C8D4E3"
             },
             "line": {
              "color": "white"
             }
            },
            "type": "table"
           }
          ]
         },
         "layout": {
          "annotationdefaults": {
           "arrowcolor": "#2a3f5f",
           "arrowhead": 0,
           "arrowwidth": 1
          },
          "autotypenumbers": "strict",
          "coloraxis": {
           "colorbar": {
            "outlinewidth": 0,
            "ticks": ""
           }
          },
          "colorscale": {
           "diverging": [
            [
             0,
             "#8e0152"
            ],
            [
             0.1,
             "#c51b7d"
            ],
            [
             0.2,
             "#de77ae"
            ],
            [
             0.3,
             "#f1b6da"
            ],
            [
             0.4,
             "#fde0ef"
            ],
            [
             0.5,
             "#f7f7f7"
            ],
            [
             0.6,
             "#e6f5d0"
            ],
            [
             0.7,
             "#b8e186"
            ],
            [
             0.8,
             "#7fbc41"
            ],
            [
             0.9,
             "#4d9221"
            ],
            [
             1,
             "#276419"
            ]
           ],
           "sequential": [
            [
             0,
             "#0d0887"
            ],
            [
             0.1111111111111111,
             "#46039f"
            ],
            [
             0.2222222222222222,
             "#7201a8"
            ],
            [
             0.3333333333333333,
             "#9c179e"
            ],
            [
             0.4444444444444444,
             "#bd3786"
            ],
            [
             0.5555555555555556,
             "#d8576b"
            ],
            [
             0.6666666666666666,
             "#ed7953"
            ],
            [
             0.7777777777777778,
             "#fb9f3a"
            ],
            [
             0.8888888888888888,
             "#fdca26"
            ],
            [
             1,
             "#f0f921"
            ]
           ],
           "sequentialminus": [
            [
             0,
             "#0d0887"
            ],
            [
             0.1111111111111111,
             "#46039f"
            ],
            [
             0.2222222222222222,
             "#7201a8"
            ],
            [
             0.3333333333333333,
             "#9c179e"
            ],
            [
             0.4444444444444444,
             "#bd3786"
            ],
            [
             0.5555555555555556,
             "#d8576b"
            ],
            [
             0.6666666666666666,
             "#ed7953"
            ],
            [
             0.7777777777777778,
             "#fb9f3a"
            ],
            [
             0.8888888888888888,
             "#fdca26"
            ],
            [
             1,
             "#f0f921"
            ]
           ]
          },
          "colorway": [
           "#636efa",
           "#EF553B",
           "#00cc96",
           "#ab63fa",
           "#FFA15A",
           "#19d3f3",
           "#FF6692",
           "#B6E880",
           "#FF97FF",
           "#FECB52"
          ],
          "font": {
           "color": "#2a3f5f"
          },
          "geo": {
           "bgcolor": "white",
           "lakecolor": "white",
           "landcolor": "white",
           "showlakes": true,
           "showland": true,
           "subunitcolor": "#C8D4E3"
          },
          "hoverlabel": {
           "align": "left"
          },
          "hovermode": "closest",
          "mapbox": {
           "style": "light"
          },
          "paper_bgcolor": "white",
          "plot_bgcolor": "white",
          "polar": {
           "angularaxis": {
            "gridcolor": "#EBF0F8",
            "linecolor": "#EBF0F8",
            "ticks": ""
           },
           "bgcolor": "white",
           "radialaxis": {
            "gridcolor": "#EBF0F8",
            "linecolor": "#EBF0F8",
            "ticks": ""
           }
          },
          "scene": {
           "xaxis": {
            "backgroundcolor": "white",
            "gridcolor": "#DFE8F3",
            "gridwidth": 2,
            "linecolor": "#EBF0F8",
            "showbackground": true,
            "ticks": "",
            "zerolinecolor": "#EBF0F8"
           },
           "yaxis": {
            "backgroundcolor": "white",
            "gridcolor": "#DFE8F3",
            "gridwidth": 2,
            "linecolor": "#EBF0F8",
            "showbackground": true,
            "ticks": "",
            "zerolinecolor": "#EBF0F8"
           },
           "zaxis": {
            "backgroundcolor": "white",
            "gridcolor": "#DFE8F3",
            "gridwidth": 2,
            "linecolor": "#EBF0F8",
            "showbackground": true,
            "ticks": "",
            "zerolinecolor": "#EBF0F8"
           }
          },
          "shapedefaults": {
           "line": {
            "color": "#2a3f5f"
           }
          },
          "ternary": {
           "aaxis": {
            "gridcolor": "#DFE8F3",
            "linecolor": "#A2B1C6",
            "ticks": ""
           },
           "baxis": {
            "gridcolor": "#DFE8F3",
            "linecolor": "#A2B1C6",
            "ticks": ""
           },
           "bgcolor": "white",
           "caxis": {
            "gridcolor": "#DFE8F3",
            "linecolor": "#A2B1C6",
            "ticks": ""
           }
          },
          "title": {
           "x": 0.05
          },
          "xaxis": {
           "automargin": true,
           "gridcolor": "#EBF0F8",
           "linecolor": "#EBF0F8",
           "ticks": "",
           "title": {
            "standoff": 15
           },
           "zerolinecolor": "#EBF0F8",
           "zerolinewidth": 2
          },
          "yaxis": {
           "automargin": true,
           "gridcolor": "#EBF0F8",
           "linecolor": "#EBF0F8",
           "ticks": "",
           "title": {
            "standoff": 15
           },
           "zerolinecolor": "#EBF0F8",
           "zerolinewidth": 2
          }
         }
        },
        "title": {
         "text": "Transportation fleet expansion in ON by vehicle class and drivetrain",
         "x": 0.5,
         "xanchor": "center",
         "y": 0.97,
         "yanchor": "top"
        },
        "width": 1000,
        "xaxis": {
         "anchor": "y",
         "domain": [
          0,
          0.1257142857142857
         ],
         "title": {
          "text": ""
         }
        },
        "xaxis2": {
         "anchor": "y2",
         "domain": [
          0.14571428571428569,
          0.27142857142857135
         ],
         "matches": "x",
         "title": {
          "text": ""
         }
        },
        "xaxis3": {
         "anchor": "y3",
         "domain": [
          0.29142857142857137,
          0.41714285714285704
         ],
         "matches": "x",
         "title": {
          "text": ""
         }
        },
        "xaxis4": {
         "anchor": "y4",
         "domain": [
          0.4371428571428571,
          0.5628571428571428
         ],
         "matches": "x",
         "title": {
          "text": ""
         }
        },
        "xaxis5": {
         "anchor": "y5",
         "domain": [
          0.5828571428571427,
          0.7085714285714284
         ],
         "matches": "x",
         "title": {
          "text": ""
         }
        },
        "xaxis6": {
         "anchor": "y6",
         "domain": [
          0.7285714285714284,
          0.8542857142857141
         ],
         "matches": "x",
         "title": {
          "text": ""
         }
        },
        "xaxis7": {
         "anchor": "y7",
         "domain": [
          0.8742857142857142,
          0.9999999999999999
         ],
         "matches": "x",
         "title": {
          "text": ""
         }
        },
        "yaxis": {
         "anchor": "x",
         "domain": [
          0,
          1
         ],
         "dtick": 500,
         "title": {
          "standoff": 0,
          "text": "New vehicles (k units)"
         }
        },
        "yaxis2": {
         "anchor": "x2",
         "domain": [
          0,
          1
         ],
         "matches": "y",
         "showticklabels": false
        },
        "yaxis3": {
         "anchor": "x3",
         "domain": [
          0,
          1
         ],
         "matches": "y",
         "showticklabels": false
        },
        "yaxis4": {
         "anchor": "x4",
         "domain": [
          0,
          1
         ],
         "matches": "y",
         "showticklabels": false
        },
        "yaxis5": {
         "anchor": "x5",
         "domain": [
          0,
          1
         ],
         "matches": "y",
         "showticklabels": false
        },
        "yaxis6": {
         "anchor": "x6",
         "domain": [
          0,
          1
         ],
         "matches": "y",
         "showticklabels": false
        },
        "yaxis7": {
         "anchor": "x7",
         "domain": [
          0,
          1
         ],
         "matches": "y",
         "showticklabels": false
        }
       }
      }
     },
     "metadata": {},
     "output_type": "display_data"
    }
   ],
   "source": [
    "ref_fig = ref_trnnewcap[ref_trnnewcap['Vehicle Class'].isin(['LD Car', 'LD Truck'])][['Period', 'Vehicle Class', 'New Capacity', 'Carrier']].groupby(['Period', 'Vehicle Class', 'Carrier'], as_index=False).sum()\n",
    "ref_fig['New Capacity (M units)'] = ref_fig['New Capacity']/1E3\n",
    "\n",
    "ref_fig['Carrier'] = pd.Categorical(ref_fig['Carrier'], categories=drivetrain_order, ordered=True)\n",
    "ref_fig = ref_fig.sort_values(['Carrier', 'Period'])\n",
    "\n",
    "fig = px.bar(ref_fig, \n",
    "             x='Vehicle Class', \n",
    "             y='New Capacity', \n",
    "             color='Carrier', \n",
    "             barmode='stack', \n",
    "             facet_col='Period',\n",
    "             facet_col_spacing=2E-2,\n",
    "             template='plotly_white',\n",
    "             color_discrete_sequence=px.colors.qualitative.G10[:7] + px.colors.qualitative.G10[8:],\n",
    "             text_auto='.1f',\n",
    "             width=1000, height=650,\n",
    "             )\n",
    "\n",
    "fig.update_layout(title=dict(\n",
    "        text='Transportation fleet expansion in ON by vehicle class and drivetrain',\n",
    "        x=0.5, \n",
    "        y=0.97,\n",
    "        xanchor='center',\n",
    "        yanchor='top'\n",
    "    ),\n",
    "    xaxis=dict(title='Period'),\n",
    "    yaxis=dict(title='New vehicles (k units)',\n",
    "               dtick=500),\n",
    "    yaxis_title_standoff=0,\n",
    "    legend_title_text='',\n",
    "    bargap=0.1,\n",
    "    legend=dict(\n",
    "        orientation='h',  \n",
    "        yanchor='top',\n",
    "        y=1.03,  \n",
    "        xanchor='center',\n",
    "        x=0.5),\n",
    "    font=dict(\n",
    "        # family=\"Open Sans\",\n",
    "        size=14)\n",
    "    )\n",
    "\n",
    "for annotation in fig.layout.annotations:\n",
    "    annotation.text = annotation.text.split('=')[1]\n",
    "    annotation.y = -0.08  \n",
    "    annotation.yanchor = 'top' \n",
    "\n",
    "for axis in fig.layout:\n",
    "    if axis.startswith('xaxis'):\n",
    "        fig.layout[axis].title.text = ''\n",
    "\n",
    "fig.for_each_trace(lambda trace: trace.update(textfont=dict(size=9)))\n",
    "\n",
    "fig.show()"
   ]
  },
  {
   "cell_type": "code",
   "execution_count": 257,
   "metadata": {},
   "outputs": [
    {
     "data": {
      "application/vnd.plotly.v1+json": {
       "config": {
        "plotlyServerURL": "https://plot.ly"
       },
       "data": [
        {
         "hovertemplate": "Carrier=Gasoline<br>Period=2021<br>Vehicle Class=%{x}<br>New Capacity=%{y}<extra></extra>",
         "legendgroup": "Gasoline",
         "marker": {
          "color": "#3366CC",
          "pattern": {
           "shape": ""
          }
         },
         "name": "Gasoline",
         "orientation": "v",
         "showlegend": true,
         "textfont": {
          "size": 9
         },
         "textposition": "auto",
         "texttemplate": "%{y:.1f}",
         "type": "bar",
         "x": [
          "Bus",
          "MD Truck"
         ],
         "xaxis": "x",
         "y": {
          "bdata": "7iETt8O+uz8TJ5/oJk4dPw==",
          "dtype": "f8"
         },
         "yaxis": "y"
        },
        {
         "hovertemplate": "Carrier=Gasoline<br>Period=2025<br>Vehicle Class=%{x}<br>New Capacity=%{y}<extra></extra>",
         "legendgroup": "Gasoline",
         "marker": {
          "color": "#3366CC",
          "pattern": {
           "shape": ""
          }
         },
         "name": "Gasoline",
         "orientation": "v",
         "showlegend": false,
         "textfont": {
          "size": 9
         },
         "textposition": "auto",
         "texttemplate": "%{y:.1f}",
         "type": "bar",
         "x": [
          "Bus",
          "MD Truck"
         ],
         "xaxis": "x2",
         "y": {
          "bdata": "pCoGbRN4xD8AAAAAAAAAAA==",
          "dtype": "f8"
         },
         "yaxis": "y2"
        },
        {
         "hovertemplate": "Carrier=Gasoline<br>Period=2030<br>Vehicle Class=%{x}<br>New Capacity=%{y}<extra></extra>",
         "legendgroup": "Gasoline",
         "marker": {
          "color": "#3366CC",
          "pattern": {
           "shape": ""
          }
         },
         "name": "Gasoline",
         "orientation": "v",
         "showlegend": false,
         "textfont": {
          "size": 9
         },
         "textposition": "auto",
         "texttemplate": "%{y:.1f}",
         "type": "bar",
         "x": [
          "Bus",
          "MD Truck"
         ],
         "xaxis": "x3",
         "y": {
          "bdata": "9cio+dEC2j8AAAAAAAAAAA==",
          "dtype": "f8"
         },
         "yaxis": "y3"
        },
        {
         "hovertemplate": "Carrier=Gasoline<br>Period=2035<br>Vehicle Class=%{x}<br>New Capacity=%{y}<extra></extra>",
         "legendgroup": "Gasoline",
         "marker": {
          "color": "#3366CC",
          "pattern": {
           "shape": ""
          }
         },
         "name": "Gasoline",
         "orientation": "v",
         "showlegend": false,
         "textfont": {
          "size": 9
         },
         "textposition": "auto",
         "texttemplate": "%{y:.1f}",
         "type": "bar",
         "x": [
          "Bus",
          "MD Truck"
         ],
         "xaxis": "x4",
         "y": {
          "bdata": "7d3YGNpF4D8AAAAAAAAAAA==",
          "dtype": "f8"
         },
         "yaxis": "y4"
        },
        {
         "hovertemplate": "Carrier=Gasoline<br>Period=2040<br>Vehicle Class=%{x}<br>New Capacity=%{y}<extra></extra>",
         "legendgroup": "Gasoline",
         "marker": {
          "color": "#3366CC",
          "pattern": {
           "shape": ""
          }
         },
         "name": "Gasoline",
         "orientation": "v",
         "showlegend": false,
         "textfont": {
          "size": 9
         },
         "textposition": "auto",
         "texttemplate": "%{y:.1f}",
         "type": "bar",
         "x": [
          "Bus",
          "MD Truck"
         ],
         "xaxis": "x5",
         "y": {
          "bdata": "O5rhKtP9oj8AAAAAAAAAAA==",
          "dtype": "f8"
         },
         "yaxis": "y5"
        },
        {
         "hovertemplate": "Carrier=Gasoline<br>Period=2045<br>Vehicle Class=%{x}<br>New Capacity=%{y}<extra></extra>",
         "legendgroup": "Gasoline",
         "marker": {
          "color": "#3366CC",
          "pattern": {
           "shape": ""
          }
         },
         "name": "Gasoline",
         "orientation": "v",
         "showlegend": false,
         "textfont": {
          "size": 9
         },
         "textposition": "auto",
         "texttemplate": "%{y:.1f}",
         "type": "bar",
         "x": [
          "Bus",
          "MD Truck"
         ],
         "xaxis": "x6",
         "y": {
          "bdata": "4poQUGOr4D8AAAAAAAAAAA==",
          "dtype": "f8"
         },
         "yaxis": "y6"
        },
        {
         "hovertemplate": "Carrier=Gasoline<br>Period=2050<br>Vehicle Class=%{x}<br>New Capacity=%{y}<extra></extra>",
         "legendgroup": "Gasoline",
         "marker": {
          "color": "#3366CC",
          "pattern": {
           "shape": ""
          }
         },
         "name": "Gasoline",
         "orientation": "v",
         "showlegend": false,
         "textfont": {
          "size": 9
         },
         "textposition": "auto",
         "texttemplate": "%{y:.1f}",
         "type": "bar",
         "x": [
          "Bus",
          "MD Truck"
         ],
         "xaxis": "x7",
         "y": {
          "bdata": "z5UgLsie4D8AAAAAAAAAAA==",
          "dtype": "f8"
         },
         "yaxis": "y7"
        },
        {
         "hovertemplate": "Carrier=Diesel<br>Period=2021<br>Vehicle Class=%{x}<br>New Capacity=%{y}<extra></extra>",
         "legendgroup": "Diesel",
         "marker": {
          "color": "#DC3912",
          "pattern": {
           "shape": ""
          }
         },
         "name": "Diesel",
         "orientation": "v",
         "showlegend": true,
         "textfont": {
          "size": 9
         },
         "textposition": "auto",
         "texttemplate": "%{y:.1f}",
         "type": "bar",
         "x": [
          "Bus",
          "HD Truck",
          "MD Truck"
         ],
         "xaxis": "x",
         "y": {
          "bdata": "AAAAAAAAAAAAAAAAAAAAAAAAAAAAAAAA",
          "dtype": "f8"
         },
         "yaxis": "y"
        },
        {
         "hovertemplate": "Carrier=Diesel<br>Period=2025<br>Vehicle Class=%{x}<br>New Capacity=%{y}<extra></extra>",
         "legendgroup": "Diesel",
         "marker": {
          "color": "#DC3912",
          "pattern": {
           "shape": ""
          }
         },
         "name": "Diesel",
         "orientation": "v",
         "showlegend": false,
         "textfont": {
          "size": 9
         },
         "textposition": "auto",
         "texttemplate": "%{y:.1f}",
         "type": "bar",
         "x": [
          "Bus",
          "HD Truck",
          "MD Truck"
         ],
         "xaxis": "x2",
         "y": {
          "bdata": "AAAAAAAAAAAAAAAAAAAAAAAAAAAAAAAA",
          "dtype": "f8"
         },
         "yaxis": "y2"
        },
        {
         "hovertemplate": "Carrier=Diesel<br>Period=2030<br>Vehicle Class=%{x}<br>New Capacity=%{y}<extra></extra>",
         "legendgroup": "Diesel",
         "marker": {
          "color": "#DC3912",
          "pattern": {
           "shape": ""
          }
         },
         "name": "Diesel",
         "orientation": "v",
         "showlegend": false,
         "textfont": {
          "size": 9
         },
         "textposition": "auto",
         "texttemplate": "%{y:.1f}",
         "type": "bar",
         "x": [
          "Bus",
          "HD Truck",
          "MD Truck"
         ],
         "xaxis": "x3",
         "y": {
          "bdata": "AAAAAAAAAAAAAAAAAAAAAAAAAAAAAAAA",
          "dtype": "f8"
         },
         "yaxis": "y3"
        },
        {
         "hovertemplate": "Carrier=Diesel<br>Period=2035<br>Vehicle Class=%{x}<br>New Capacity=%{y}<extra></extra>",
         "legendgroup": "Diesel",
         "marker": {
          "color": "#DC3912",
          "pattern": {
           "shape": ""
          }
         },
         "name": "Diesel",
         "orientation": "v",
         "showlegend": false,
         "textfont": {
          "size": 9
         },
         "textposition": "auto",
         "texttemplate": "%{y:.1f}",
         "type": "bar",
         "x": [
          "Bus",
          "HD Truck",
          "MD Truck"
         ],
         "xaxis": "x4",
         "y": {
          "bdata": "AAAAAAAAAAAAAAAAAAAAAAAAAAAAAAAA",
          "dtype": "f8"
         },
         "yaxis": "y4"
        },
        {
         "hovertemplate": "Carrier=Diesel<br>Period=2040<br>Vehicle Class=%{x}<br>New Capacity=%{y}<extra></extra>",
         "legendgroup": "Diesel",
         "marker": {
          "color": "#DC3912",
          "pattern": {
           "shape": ""
          }
         },
         "name": "Diesel",
         "orientation": "v",
         "showlegend": false,
         "textfont": {
          "size": 9
         },
         "textposition": "auto",
         "texttemplate": "%{y:.1f}",
         "type": "bar",
         "x": [
          "Bus",
          "HD Truck",
          "MD Truck"
         ],
         "xaxis": "x5",
         "y": {
          "bdata": "AAAAAAAAAAAAAAAAAAAAAAAAAAAAAAAA",
          "dtype": "f8"
         },
         "yaxis": "y5"
        },
        {
         "hovertemplate": "Carrier=Diesel<br>Period=2045<br>Vehicle Class=%{x}<br>New Capacity=%{y}<extra></extra>",
         "legendgroup": "Diesel",
         "marker": {
          "color": "#DC3912",
          "pattern": {
           "shape": ""
          }
         },
         "name": "Diesel",
         "orientation": "v",
         "showlegend": false,
         "textfont": {
          "size": 9
         },
         "textposition": "auto",
         "texttemplate": "%{y:.1f}",
         "type": "bar",
         "x": [
          "Bus",
          "HD Truck",
          "MD Truck"
         ],
         "xaxis": "x6",
         "y": {
          "bdata": "AAAAAAAAAAAAAAAAAAAAAAAAAAAAAAAA",
          "dtype": "f8"
         },
         "yaxis": "y6"
        },
        {
         "hovertemplate": "Carrier=Diesel<br>Period=2050<br>Vehicle Class=%{x}<br>New Capacity=%{y}<extra></extra>",
         "legendgroup": "Diesel",
         "marker": {
          "color": "#DC3912",
          "pattern": {
           "shape": ""
          }
         },
         "name": "Diesel",
         "orientation": "v",
         "showlegend": false,
         "textfont": {
          "size": 9
         },
         "textposition": "auto",
         "texttemplate": "%{y:.1f}",
         "type": "bar",
         "x": [
          "Bus",
          "HD Truck",
          "MD Truck"
         ],
         "xaxis": "x7",
         "y": {
          "bdata": "AAAAAAAAAAAAAAAAAAAAAAAAAAAAAAAA",
          "dtype": "f8"
         },
         "yaxis": "y7"
        },
        {
         "hovertemplate": "Carrier=CNG<br>Period=2021<br>Vehicle Class=%{x}<br>New Capacity=%{y}<extra></extra>",
         "legendgroup": "CNG",
         "marker": {
          "color": "#FF9900",
          "pattern": {
           "shape": ""
          }
         },
         "name": "CNG",
         "orientation": "v",
         "showlegend": true,
         "textfont": {
          "size": 9
         },
         "textposition": "auto",
         "texttemplate": "%{y:.1f}",
         "type": "bar",
         "x": [
          "Bus"
         ],
         "xaxis": "x",
         "y": {
          "bdata": "AAAAAAAAAAA=",
          "dtype": "f8"
         },
         "yaxis": "y"
        },
        {
         "hovertemplate": "Carrier=CNG<br>Period=2025<br>Vehicle Class=%{x}<br>New Capacity=%{y}<extra></extra>",
         "legendgroup": "CNG",
         "marker": {
          "color": "#FF9900",
          "pattern": {
           "shape": ""
          }
         },
         "name": "CNG",
         "orientation": "v",
         "showlegend": false,
         "textfont": {
          "size": 9
         },
         "textposition": "auto",
         "texttemplate": "%{y:.1f}",
         "type": "bar",
         "x": [
          "Bus"
         ],
         "xaxis": "x2",
         "y": {
          "bdata": "AAAAAAAAAAA=",
          "dtype": "f8"
         },
         "yaxis": "y2"
        },
        {
         "hovertemplate": "Carrier=CNG<br>Period=2030<br>Vehicle Class=%{x}<br>New Capacity=%{y}<extra></extra>",
         "legendgroup": "CNG",
         "marker": {
          "color": "#FF9900",
          "pattern": {
           "shape": ""
          }
         },
         "name": "CNG",
         "orientation": "v",
         "showlegend": false,
         "textfont": {
          "size": 9
         },
         "textposition": "auto",
         "texttemplate": "%{y:.1f}",
         "type": "bar",
         "x": [
          "Bus"
         ],
         "xaxis": "x3",
         "y": {
          "bdata": "AAAAAAAAAAA=",
          "dtype": "f8"
         },
         "yaxis": "y3"
        },
        {
         "hovertemplate": "Carrier=CNG<br>Period=2035<br>Vehicle Class=%{x}<br>New Capacity=%{y}<extra></extra>",
         "legendgroup": "CNG",
         "marker": {
          "color": "#FF9900",
          "pattern": {
           "shape": ""
          }
         },
         "name": "CNG",
         "orientation": "v",
         "showlegend": false,
         "textfont": {
          "size": 9
         },
         "textposition": "auto",
         "texttemplate": "%{y:.1f}",
         "type": "bar",
         "x": [
          "Bus"
         ],
         "xaxis": "x4",
         "y": {
          "bdata": "AAAAAAAAAAA=",
          "dtype": "f8"
         },
         "yaxis": "y4"
        },
        {
         "hovertemplate": "Carrier=CNG<br>Period=2040<br>Vehicle Class=%{x}<br>New Capacity=%{y}<extra></extra>",
         "legendgroup": "CNG",
         "marker": {
          "color": "#FF9900",
          "pattern": {
           "shape": ""
          }
         },
         "name": "CNG",
         "orientation": "v",
         "showlegend": false,
         "textfont": {
          "size": 9
         },
         "textposition": "auto",
         "texttemplate": "%{y:.1f}",
         "type": "bar",
         "x": [
          "Bus"
         ],
         "xaxis": "x5",
         "y": {
          "bdata": "AAAAAAAAAAA=",
          "dtype": "f8"
         },
         "yaxis": "y5"
        },
        {
         "hovertemplate": "Carrier=CNG<br>Period=2045<br>Vehicle Class=%{x}<br>New Capacity=%{y}<extra></extra>",
         "legendgroup": "CNG",
         "marker": {
          "color": "#FF9900",
          "pattern": {
           "shape": ""
          }
         },
         "name": "CNG",
         "orientation": "v",
         "showlegend": false,
         "textfont": {
          "size": 9
         },
         "textposition": "auto",
         "texttemplate": "%{y:.1f}",
         "type": "bar",
         "x": [
          "Bus"
         ],
         "xaxis": "x6",
         "y": {
          "bdata": "AAAAAAAAAAA=",
          "dtype": "f8"
         },
         "yaxis": "y6"
        },
        {
         "hovertemplate": "Carrier=CNG<br>Period=2050<br>Vehicle Class=%{x}<br>New Capacity=%{y}<extra></extra>",
         "legendgroup": "CNG",
         "marker": {
          "color": "#FF9900",
          "pattern": {
           "shape": ""
          }
         },
         "name": "CNG",
         "orientation": "v",
         "showlegend": false,
         "textfont": {
          "size": 9
         },
         "textposition": "auto",
         "texttemplate": "%{y:.1f}",
         "type": "bar",
         "x": [
          "Bus"
         ],
         "xaxis": "x7",
         "y": {
          "bdata": "AAAAAAAAAAA=",
          "dtype": "f8"
         },
         "yaxis": "y7"
        },
        {
         "hovertemplate": "Carrier=HEV<br>Period=2021<br>Vehicle Class=%{x}<br>New Capacity=%{y}<extra></extra>",
         "legendgroup": "HEV",
         "marker": {
          "color": "#109618",
          "pattern": {
           "shape": ""
          }
         },
         "name": "HEV",
         "orientation": "v",
         "showlegend": true,
         "textfont": {
          "size": 9
         },
         "textposition": "auto",
         "texttemplate": "%{y:.1f}",
         "type": "bar",
         "x": [
          "Bus",
          "HD Truck",
          "MD Truck"
         ],
         "xaxis": "x",
         "y": {
          "bdata": "em94lp7O8z4WUUVgLZkxQAAAAAAAAAAA",
          "dtype": "f8"
         },
         "yaxis": "y"
        },
        {
         "hovertemplate": "Carrier=HEV<br>Period=2025<br>Vehicle Class=%{x}<br>New Capacity=%{y}<extra></extra>",
         "legendgroup": "HEV",
         "marker": {
          "color": "#109618",
          "pattern": {
           "shape": ""
          }
         },
         "name": "HEV",
         "orientation": "v",
         "showlegend": false,
         "textfont": {
          "size": 9
         },
         "textposition": "auto",
         "texttemplate": "%{y:.1f}",
         "type": "bar",
         "x": [
          "Bus",
          "HD Truck",
          "MD Truck"
         ],
         "xaxis": "x2",
         "y": {
          "bdata": "AAAAAAAAAAA43w9h45g2QAAAAAAAAAAA",
          "dtype": "f8"
         },
         "yaxis": "y2"
        },
        {
         "hovertemplate": "Carrier=HEV<br>Period=2030<br>Vehicle Class=%{x}<br>New Capacity=%{y}<extra></extra>",
         "legendgroup": "HEV",
         "marker": {
          "color": "#109618",
          "pattern": {
           "shape": ""
          }
         },
         "name": "HEV",
         "orientation": "v",
         "showlegend": false,
         "textfont": {
          "size": 9
         },
         "textposition": "auto",
         "texttemplate": "%{y:.1f}",
         "type": "bar",
         "x": [
          "Bus",
          "HD Truck",
          "MD Truck"
         ],
         "xaxis": "x3",
         "y": {
          "bdata": "AAAAAAAAAAAZA396x+lDQAAAAAAAAAAA",
          "dtype": "f8"
         },
         "yaxis": "y3"
        },
        {
         "hovertemplate": "Carrier=HEV<br>Period=2035<br>Vehicle Class=%{x}<br>New Capacity=%{y}<extra></extra>",
         "legendgroup": "HEV",
         "marker": {
          "color": "#109618",
          "pattern": {
           "shape": ""
          }
         },
         "name": "HEV",
         "orientation": "v",
         "showlegend": false,
         "textfont": {
          "size": 9
         },
         "textposition": "auto",
         "texttemplate": "%{y:.1f}",
         "type": "bar",
         "x": [
          "Bus",
          "HD Truck",
          "MD Truck"
         ],
         "xaxis": "x4",
         "y": {
          "bdata": "AAAAAAAAAAAqlZjp+gQ3QAAAAAAAAAAA",
          "dtype": "f8"
         },
         "yaxis": "y4"
        },
        {
         "hovertemplate": "Carrier=HEV<br>Period=2040<br>Vehicle Class=%{x}<br>New Capacity=%{y}<extra></extra>",
         "legendgroup": "HEV",
         "marker": {
          "color": "#109618",
          "pattern": {
           "shape": ""
          }
         },
         "name": "HEV",
         "orientation": "v",
         "showlegend": false,
         "textfont": {
          "size": 9
         },
         "textposition": "auto",
         "texttemplate": "%{y:.1f}",
         "type": "bar",
         "x": [
          "Bus",
          "HD Truck",
          "MD Truck"
         ],
         "xaxis": "x5",
         "y": {
          "bdata": "AAAAAAAAAABQaEm9LaQ9QAAAAAAAAAAA",
          "dtype": "f8"
         },
         "yaxis": "y5"
        },
        {
         "hovertemplate": "Carrier=HEV<br>Period=2045<br>Vehicle Class=%{x}<br>New Capacity=%{y}<extra></extra>",
         "legendgroup": "HEV",
         "marker": {
          "color": "#109618",
          "pattern": {
           "shape": ""
          }
         },
         "name": "HEV",
         "orientation": "v",
         "showlegend": false,
         "textfont": {
          "size": 9
         },
         "textposition": "auto",
         "texttemplate": "%{y:.1f}",
         "type": "bar",
         "x": [
          "Bus",
          "HD Truck",
          "MD Truck"
         ],
         "xaxis": "x6",
         "y": {
          "bdata": "AAAAAAAAAAC9z8ODN1A4QAAAAAAAAAAA",
          "dtype": "f8"
         },
         "yaxis": "y6"
        },
        {
         "hovertemplate": "Carrier=HEV<br>Period=2050<br>Vehicle Class=%{x}<br>New Capacity=%{y}<extra></extra>",
         "legendgroup": "HEV",
         "marker": {
          "color": "#109618",
          "pattern": {
           "shape": ""
          }
         },
         "name": "HEV",
         "orientation": "v",
         "showlegend": false,
         "textfont": {
          "size": 9
         },
         "textposition": "auto",
         "texttemplate": "%{y:.1f}",
         "type": "bar",
         "x": [
          "Bus",
          "HD Truck",
          "MD Truck"
         ],
         "xaxis": "x7",
         "y": {
          "bdata": "AAAAAAAAAAAGiSg0r/BBQAAAAAAAAAAA",
          "dtype": "f8"
         },
         "yaxis": "y7"
        },
        {
         "hovertemplate": "Carrier=PHEV<br>Period=2021<br>Vehicle Class=%{x}<br>New Capacity=%{y}<extra></extra>",
         "legendgroup": "PHEV",
         "marker": {
          "color": "#990099",
          "pattern": {
           "shape": ""
          }
         },
         "name": "PHEV",
         "orientation": "v",
         "showlegend": true,
         "textfont": {
          "size": 9
         },
         "textposition": "auto",
         "texttemplate": "%{y:.1f}",
         "type": "bar",
         "x": [
          "Bus",
          "HD Truck",
          "MD Truck"
         ],
         "xaxis": "x",
         "y": {
          "bdata": "AAAAAAAAAAAAAAAAAAAAAAAAAAAAAAAA",
          "dtype": "f8"
         },
         "yaxis": "y"
        },
        {
         "hovertemplate": "Carrier=PHEV<br>Period=2025<br>Vehicle Class=%{x}<br>New Capacity=%{y}<extra></extra>",
         "legendgroup": "PHEV",
         "marker": {
          "color": "#990099",
          "pattern": {
           "shape": ""
          }
         },
         "name": "PHEV",
         "orientation": "v",
         "showlegend": false,
         "textfont": {
          "size": 9
         },
         "textposition": "auto",
         "texttemplate": "%{y:.1f}",
         "type": "bar",
         "x": [
          "Bus",
          "HD Truck",
          "MD Truck"
         ],
         "xaxis": "x2",
         "y": {
          "bdata": "AAAAAAAAAAAAAAAAAAAAAAAAAAAAAAAA",
          "dtype": "f8"
         },
         "yaxis": "y2"
        },
        {
         "hovertemplate": "Carrier=PHEV<br>Period=2030<br>Vehicle Class=%{x}<br>New Capacity=%{y}<extra></extra>",
         "legendgroup": "PHEV",
         "marker": {
          "color": "#990099",
          "pattern": {
           "shape": ""
          }
         },
         "name": "PHEV",
         "orientation": "v",
         "showlegend": false,
         "textfont": {
          "size": 9
         },
         "textposition": "auto",
         "texttemplate": "%{y:.1f}",
         "type": "bar",
         "x": [
          "Bus",
          "HD Truck",
          "MD Truck"
         ],
         "xaxis": "x3",
         "y": {
          "bdata": "AAAAAAAAAAAAAAAAAAAAAAAAAAAAAAAA",
          "dtype": "f8"
         },
         "yaxis": "y3"
        },
        {
         "hovertemplate": "Carrier=PHEV<br>Period=2035<br>Vehicle Class=%{x}<br>New Capacity=%{y}<extra></extra>",
         "legendgroup": "PHEV",
         "marker": {
          "color": "#990099",
          "pattern": {
           "shape": ""
          }
         },
         "name": "PHEV",
         "orientation": "v",
         "showlegend": false,
         "textfont": {
          "size": 9
         },
         "textposition": "auto",
         "texttemplate": "%{y:.1f}",
         "type": "bar",
         "x": [
          "Bus",
          "HD Truck",
          "MD Truck"
         ],
         "xaxis": "x4",
         "y": {
          "bdata": "AAAAAAAAAAAAAAAAAAAAAAAAAAAAAAAA",
          "dtype": "f8"
         },
         "yaxis": "y4"
        },
        {
         "hovertemplate": "Carrier=PHEV<br>Period=2040<br>Vehicle Class=%{x}<br>New Capacity=%{y}<extra></extra>",
         "legendgroup": "PHEV",
         "marker": {
          "color": "#990099",
          "pattern": {
           "shape": ""
          }
         },
         "name": "PHEV",
         "orientation": "v",
         "showlegend": false,
         "textfont": {
          "size": 9
         },
         "textposition": "auto",
         "texttemplate": "%{y:.1f}",
         "type": "bar",
         "x": [
          "Bus",
          "HD Truck",
          "MD Truck"
         ],
         "xaxis": "x5",
         "y": {
          "bdata": "AAAAAAAAAAAAAAAAAAAAAAAAAAAAAAAA",
          "dtype": "f8"
         },
         "yaxis": "y5"
        },
        {
         "hovertemplate": "Carrier=PHEV<br>Period=2045<br>Vehicle Class=%{x}<br>New Capacity=%{y}<extra></extra>",
         "legendgroup": "PHEV",
         "marker": {
          "color": "#990099",
          "pattern": {
           "shape": ""
          }
         },
         "name": "PHEV",
         "orientation": "v",
         "showlegend": false,
         "textfont": {
          "size": 9
         },
         "textposition": "auto",
         "texttemplate": "%{y:.1f}",
         "type": "bar",
         "x": [
          "Bus",
          "HD Truck",
          "MD Truck"
         ],
         "xaxis": "x6",
         "y": {
          "bdata": "AAAAAAAAAAAAAAAAAAAAAAAAAAAAAAAA",
          "dtype": "f8"
         },
         "yaxis": "y6"
        },
        {
         "hovertemplate": "Carrier=PHEV<br>Period=2050<br>Vehicle Class=%{x}<br>New Capacity=%{y}<extra></extra>",
         "legendgroup": "PHEV",
         "marker": {
          "color": "#990099",
          "pattern": {
           "shape": ""
          }
         },
         "name": "PHEV",
         "orientation": "v",
         "showlegend": false,
         "textfont": {
          "size": 9
         },
         "textposition": "auto",
         "texttemplate": "%{y:.1f}",
         "type": "bar",
         "x": [
          "Bus",
          "HD Truck",
          "MD Truck"
         ],
         "xaxis": "x7",
         "y": {
          "bdata": "AAAAAAAAAAAAAAAAAAAAAAAAAAAAAAAA",
          "dtype": "f8"
         },
         "yaxis": "y7"
        },
        {
         "hovertemplate": "Carrier=BEV<br>Period=2021<br>Vehicle Class=%{x}<br>New Capacity=%{y}<extra></extra>",
         "legendgroup": "BEV",
         "marker": {
          "color": "#0099C6",
          "pattern": {
           "shape": ""
          }
         },
         "name": "BEV",
         "orientation": "v",
         "showlegend": true,
         "textfont": {
          "size": 9
         },
         "textposition": "auto",
         "texttemplate": "%{y:.1f}",
         "type": "bar",
         "x": [
          "Bus",
          "HD Truck",
          "MD Truck"
         ],
         "xaxis": "x",
         "y": {
          "bdata": "AAAAAAAAAAAAAAAAAAAAAAAAAAAAAAAA",
          "dtype": "f8"
         },
         "yaxis": "y"
        },
        {
         "hovertemplate": "Carrier=BEV<br>Period=2025<br>Vehicle Class=%{x}<br>New Capacity=%{y}<extra></extra>",
         "legendgroup": "BEV",
         "marker": {
          "color": "#0099C6",
          "pattern": {
           "shape": ""
          }
         },
         "name": "BEV",
         "orientation": "v",
         "showlegend": false,
         "textfont": {
          "size": 9
         },
         "textposition": "auto",
         "texttemplate": "%{y:.1f}",
         "type": "bar",
         "x": [
          "Bus",
          "HD Truck",
          "MD Truck"
         ],
         "xaxis": "x2",
         "y": {
          "bdata": "AAAAAAAAAAAAAAAAAAAAAOxBQ+ocmjc/",
          "dtype": "f8"
         },
         "yaxis": "y2"
        },
        {
         "hovertemplate": "Carrier=BEV<br>Period=2030<br>Vehicle Class=%{x}<br>New Capacity=%{y}<extra></extra>",
         "legendgroup": "BEV",
         "marker": {
          "color": "#0099C6",
          "pattern": {
           "shape": ""
          }
         },
         "name": "BEV",
         "orientation": "v",
         "showlegend": false,
         "textfont": {
          "size": 9
         },
         "textposition": "auto",
         "texttemplate": "%{y:.1f}",
         "type": "bar",
         "x": [
          "Bus",
          "HD Truck",
          "MD Truck"
         ],
         "xaxis": "x3",
         "y": {
          "bdata": "ritbXebZ8j4AAAAAAAAAALTUFtO+CVE/",
          "dtype": "f8"
         },
         "yaxis": "y3"
        },
        {
         "hovertemplate": "Carrier=BEV<br>Period=2035<br>Vehicle Class=%{x}<br>New Capacity=%{y}<extra></extra>",
         "legendgroup": "BEV",
         "marker": {
          "color": "#0099C6",
          "pattern": {
           "shape": ""
          }
         },
         "name": "BEV",
         "orientation": "v",
         "showlegend": false,
         "textfont": {
          "size": 9
         },
         "textposition": "auto",
         "texttemplate": "%{y:.1f}",
         "type": "bar",
         "x": [
          "Bus",
          "HD Truck",
          "MD Truck"
         ],
         "xaxis": "x4",
         "y": {
          "bdata": "YPFVE/MfQT8AAAAAAAAAADSDhrjnIWI/",
          "dtype": "f8"
         },
         "yaxis": "y4"
        },
        {
         "hovertemplate": "Carrier=BEV<br>Period=2040<br>Vehicle Class=%{x}<br>New Capacity=%{y}<extra></extra>",
         "legendgroup": "BEV",
         "marker": {
          "color": "#0099C6",
          "pattern": {
           "shape": ""
          }
         },
         "name": "BEV",
         "orientation": "v",
         "showlegend": false,
         "textfont": {
          "size": 9
         },
         "textposition": "auto",
         "texttemplate": "%{y:.1f}",
         "type": "bar",
         "x": [
          "Bus",
          "HD Truck",
          "MD Truck"
         ],
         "xaxis": "x5",
         "y": {
          "bdata": "smAA+2lNVz8AAAAAAAAAAKzW+gAu310/",
          "dtype": "f8"
         },
         "yaxis": "y5"
        },
        {
         "hovertemplate": "Carrier=BEV<br>Period=2045<br>Vehicle Class=%{x}<br>New Capacity=%{y}<extra></extra>",
         "legendgroup": "BEV",
         "marker": {
          "color": "#0099C6",
          "pattern": {
           "shape": ""
          }
         },
         "name": "BEV",
         "orientation": "v",
         "showlegend": false,
         "textfont": {
          "size": 9
         },
         "textposition": "auto",
         "texttemplate": "%{y:.1f}",
         "type": "bar",
         "x": [
          "Bus",
          "HD Truck",
          "MD Truck"
         ],
         "xaxis": "x6",
         "y": {
          "bdata": "c1WSMi45cD8AAAAAAAAAAMEB7RLDbVQ/",
          "dtype": "f8"
         },
         "yaxis": "y6"
        },
        {
         "hovertemplate": "Carrier=BEV<br>Period=2050<br>Vehicle Class=%{x}<br>New Capacity=%{y}<extra></extra>",
         "legendgroup": "BEV",
         "marker": {
          "color": "#0099C6",
          "pattern": {
           "shape": ""
          }
         },
         "name": "BEV",
         "orientation": "v",
         "showlegend": false,
         "textfont": {
          "size": 9
         },
         "textposition": "auto",
         "texttemplate": "%{y:.1f}",
         "type": "bar",
         "x": [
          "Bus",
          "HD Truck",
          "MD Truck"
         ],
         "xaxis": "x7",
         "y": {
          "bdata": "AFeTiI4yGEAAAAAAAAAAAOKa0ufpyoA/",
          "dtype": "f8"
         },
         "yaxis": "y7"
        },
        {
         "hovertemplate": "Carrier=FCEV<br>Period=2021<br>Vehicle Class=%{x}<br>New Capacity=%{y}<extra></extra>",
         "legendgroup": "FCEV",
         "marker": {
          "color": "#DD4477",
          "pattern": {
           "shape": ""
          }
         },
         "name": "FCEV",
         "orientation": "v",
         "showlegend": true,
         "textfont": {
          "size": 9
         },
         "textposition": "auto",
         "texttemplate": "%{y:.1f}",
         "type": "bar",
         "x": [
          "Bus",
          "HD Truck",
          "MD Truck"
         ],
         "xaxis": "x",
         "y": {
          "bdata": "7wmx6dlWAEAAAAAAAAAAABZfg4eIhlBA",
          "dtype": "f8"
         },
         "yaxis": "y"
        },
        {
         "hovertemplate": "Carrier=FCEV<br>Period=2025<br>Vehicle Class=%{x}<br>New Capacity=%{y}<extra></extra>",
         "legendgroup": "FCEV",
         "marker": {
          "color": "#DD4477",
          "pattern": {
           "shape": ""
          }
         },
         "name": "FCEV",
         "orientation": "v",
         "showlegend": false,
         "textfont": {
          "size": 9
         },
         "textposition": "auto",
         "texttemplate": "%{y:.1f}",
         "type": "bar",
         "x": [
          "Bus",
          "HD Truck",
          "MD Truck"
         ],
         "xaxis": "x2",
         "y": {
          "bdata": "It1ffEQeBkCFCadT8n/oPrTwOb62clFA",
          "dtype": "f8"
         },
         "yaxis": "y2"
        },
        {
         "hovertemplate": "Carrier=FCEV<br>Period=2030<br>Vehicle Class=%{x}<br>New Capacity=%{y}<extra></extra>",
         "legendgroup": "FCEV",
         "marker": {
          "color": "#DD4477",
          "pattern": {
           "shape": ""
          }
         },
         "name": "FCEV",
         "orientation": "v",
         "showlegend": false,
         "textfont": {
          "size": 9
         },
         "textposition": "auto",
         "texttemplate": "%{y:.1f}",
         "type": "bar",
         "x": [
          "Bus",
          "HD Truck",
          "MD Truck"
         ],
         "xaxis": "x3",
         "y": {
          "bdata": "3VXPK3Y1HkDMirWI7AWBP4Z/0Cu0QGBA",
          "dtype": "f8"
         },
         "yaxis": "y3"
        },
        {
         "hovertemplate": "Carrier=FCEV<br>Period=2035<br>Vehicle Class=%{x}<br>New Capacity=%{y}<extra></extra>",
         "legendgroup": "FCEV",
         "marker": {
          "color": "#DD4477",
          "pattern": {
           "shape": ""
          }
         },
         "name": "FCEV",
         "orientation": "v",
         "showlegend": false,
         "textfont": {
          "size": 9
         },
         "textposition": "auto",
         "texttemplate": "%{y:.1f}",
         "type": "bar",
         "x": [
          "Bus",
          "HD Truck",
          "MD Truck"
         ],
         "xaxis": "x4",
         "y": {
          "bdata": "ntmKOamWIkDsykIs3CoxQE3VHXXCg2BA",
          "dtype": "f8"
         },
         "yaxis": "y4"
        },
        {
         "hovertemplate": "Carrier=FCEV<br>Period=2040<br>Vehicle Class=%{x}<br>New Capacity=%{y}<extra></extra>",
         "legendgroup": "FCEV",
         "marker": {
          "color": "#DD4477",
          "pattern": {
           "shape": ""
          }
         },
         "name": "FCEV",
         "orientation": "v",
         "showlegend": false,
         "textfont": {
          "size": 9
         },
         "textposition": "auto",
         "texttemplate": "%{y:.1f}",
         "type": "bar",
         "x": [
          "Bus",
          "HD Truck",
          "MD Truck"
         ],
         "xaxis": "x5",
         "y": {
          "bdata": "mZtEZwD5GUBn2VfbLHNLQGD4IwXXpm9A",
          "dtype": "f8"
         },
         "yaxis": "y5"
        },
        {
         "hovertemplate": "Carrier=FCEV<br>Period=2045<br>Vehicle Class=%{x}<br>New Capacity=%{y}<extra></extra>",
         "legendgroup": "FCEV",
         "marker": {
          "color": "#DD4477",
          "pattern": {
           "shape": ""
          }
         },
         "name": "FCEV",
         "orientation": "v",
         "showlegend": false,
         "textfont": {
          "size": 9
         },
         "textposition": "auto",
         "texttemplate": "%{y:.1f}",
         "type": "bar",
         "x": [
          "Bus",
          "HD Truck",
          "MD Truck"
         ],
         "xaxis": "x6",
         "y": {
          "bdata": "gDzkPVTDI0BE5HIsdL4qQIQ7+kND31xA",
          "dtype": "f8"
         },
         "yaxis": "y6"
        },
        {
         "hovertemplate": "Carrier=FCEV<br>Period=2050<br>Vehicle Class=%{x}<br>New Capacity=%{y}<extra></extra>",
         "legendgroup": "FCEV",
         "marker": {
          "color": "#DD4477",
          "pattern": {
           "shape": ""
          }
         },
         "name": "FCEV",
         "orientation": "v",
         "showlegend": false,
         "textfont": {
          "size": 9
         },
         "textposition": "auto",
         "texttemplate": "%{y:.1f}",
         "type": "bar",
         "x": [
          "Bus",
          "HD Truck",
          "MD Truck"
         ],
         "xaxis": "x7",
         "y": {
          "bdata": "8V7q0wvrDECdonVujZQ4QODqz6gWvWhA",
          "dtype": "f8"
         },
         "yaxis": "y7"
        }
       ],
       "layout": {
        "annotations": [
         {
          "font": {},
          "showarrow": false,
          "text": "2021",
          "x": 0.06285714285714285,
          "xanchor": "center",
          "xref": "paper",
          "y": -0.08,
          "yanchor": "top",
          "yref": "paper"
         },
         {
          "font": {},
          "showarrow": false,
          "text": "2025",
          "x": 0.20857142857142852,
          "xanchor": "center",
          "xref": "paper",
          "y": -0.08,
          "yanchor": "top",
          "yref": "paper"
         },
         {
          "font": {},
          "showarrow": false,
          "text": "2030",
          "x": 0.3542857142857142,
          "xanchor": "center",
          "xref": "paper",
          "y": -0.08,
          "yanchor": "top",
          "yref": "paper"
         },
         {
          "font": {},
          "showarrow": false,
          "text": "2035",
          "x": 0.5,
          "xanchor": "center",
          "xref": "paper",
          "y": -0.08,
          "yanchor": "top",
          "yref": "paper"
         },
         {
          "font": {},
          "showarrow": false,
          "text": "2040",
          "x": 0.6457142857142856,
          "xanchor": "center",
          "xref": "paper",
          "y": -0.08,
          "yanchor": "top",
          "yref": "paper"
         },
         {
          "font": {},
          "showarrow": false,
          "text": "2045",
          "x": 0.7914285714285713,
          "xanchor": "center",
          "xref": "paper",
          "y": -0.08,
          "yanchor": "top",
          "yref": "paper"
         },
         {
          "font": {},
          "showarrow": false,
          "text": "2050",
          "x": 0.937142857142857,
          "xanchor": "center",
          "xref": "paper",
          "y": -0.08,
          "yanchor": "top",
          "yref": "paper"
         }
        ],
        "bargap": 0.1,
        "barmode": "stack",
        "font": {
         "size": 14
        },
        "height": 650,
        "legend": {
         "orientation": "h",
         "title": {
          "text": ""
         },
         "tracegroupgap": 0,
         "x": 0.5,
         "xanchor": "center",
         "y": 1.03,
         "yanchor": "top"
        },
        "margin": {
         "t": 60
        },
        "template": {
         "data": {
          "bar": [
           {
            "error_x": {
             "color": "#2a3f5f"
            },
            "error_y": {
             "color": "#2a3f5f"
            },
            "marker": {
             "line": {
              "color": "white",
              "width": 0.5
             },
             "pattern": {
              "fillmode": "overlay",
              "size": 10,
              "solidity": 0.2
             }
            },
            "type": "bar"
           }
          ],
          "barpolar": [
           {
            "marker": {
             "line": {
              "color": "white",
              "width": 0.5
             },
             "pattern": {
              "fillmode": "overlay",
              "size": 10,
              "solidity": 0.2
             }
            },
            "type": "barpolar"
           }
          ],
          "carpet": [
           {
            "aaxis": {
             "endlinecolor": "#2a3f5f",
             "gridcolor": "#C8D4E3",
             "linecolor": "#C8D4E3",
             "minorgridcolor": "#C8D4E3",
             "startlinecolor": "#2a3f5f"
            },
            "baxis": {
             "endlinecolor": "#2a3f5f",
             "gridcolor": "#C8D4E3",
             "linecolor": "#C8D4E3",
             "minorgridcolor": "#C8D4E3",
             "startlinecolor": "#2a3f5f"
            },
            "type": "carpet"
           }
          ],
          "choropleth": [
           {
            "colorbar": {
             "outlinewidth": 0,
             "ticks": ""
            },
            "type": "choropleth"
           }
          ],
          "contour": [
           {
            "colorbar": {
             "outlinewidth": 0,
             "ticks": ""
            },
            "colorscale": [
             [
              0,
              "#0d0887"
             ],
             [
              0.1111111111111111,
              "#46039f"
             ],
             [
              0.2222222222222222,
              "#7201a8"
             ],
             [
              0.3333333333333333,
              "#9c179e"
             ],
             [
              0.4444444444444444,
              "#bd3786"
             ],
             [
              0.5555555555555556,
              "#d8576b"
             ],
             [
              0.6666666666666666,
              "#ed7953"
             ],
             [
              0.7777777777777778,
              "#fb9f3a"
             ],
             [
              0.8888888888888888,
              "#fdca26"
             ],
             [
              1,
              "#f0f921"
             ]
            ],
            "type": "contour"
           }
          ],
          "contourcarpet": [
           {
            "colorbar": {
             "outlinewidth": 0,
             "ticks": ""
            },
            "type": "contourcarpet"
           }
          ],
          "heatmap": [
           {
            "colorbar": {
             "outlinewidth": 0,
             "ticks": ""
            },
            "colorscale": [
             [
              0,
              "#0d0887"
             ],
             [
              0.1111111111111111,
              "#46039f"
             ],
             [
              0.2222222222222222,
              "#7201a8"
             ],
             [
              0.3333333333333333,
              "#9c179e"
             ],
             [
              0.4444444444444444,
              "#bd3786"
             ],
             [
              0.5555555555555556,
              "#d8576b"
             ],
             [
              0.6666666666666666,
              "#ed7953"
             ],
             [
              0.7777777777777778,
              "#fb9f3a"
             ],
             [
              0.8888888888888888,
              "#fdca26"
             ],
             [
              1,
              "#f0f921"
             ]
            ],
            "type": "heatmap"
           }
          ],
          "histogram": [
           {
            "marker": {
             "pattern": {
              "fillmode": "overlay",
              "size": 10,
              "solidity": 0.2
             }
            },
            "type": "histogram"
           }
          ],
          "histogram2d": [
           {
            "colorbar": {
             "outlinewidth": 0,
             "ticks": ""
            },
            "colorscale": [
             [
              0,
              "#0d0887"
             ],
             [
              0.1111111111111111,
              "#46039f"
             ],
             [
              0.2222222222222222,
              "#7201a8"
             ],
             [
              0.3333333333333333,
              "#9c179e"
             ],
             [
              0.4444444444444444,
              "#bd3786"
             ],
             [
              0.5555555555555556,
              "#d8576b"
             ],
             [
              0.6666666666666666,
              "#ed7953"
             ],
             [
              0.7777777777777778,
              "#fb9f3a"
             ],
             [
              0.8888888888888888,
              "#fdca26"
             ],
             [
              1,
              "#f0f921"
             ]
            ],
            "type": "histogram2d"
           }
          ],
          "histogram2dcontour": [
           {
            "colorbar": {
             "outlinewidth": 0,
             "ticks": ""
            },
            "colorscale": [
             [
              0,
              "#0d0887"
             ],
             [
              0.1111111111111111,
              "#46039f"
             ],
             [
              0.2222222222222222,
              "#7201a8"
             ],
             [
              0.3333333333333333,
              "#9c179e"
             ],
             [
              0.4444444444444444,
              "#bd3786"
             ],
             [
              0.5555555555555556,
              "#d8576b"
             ],
             [
              0.6666666666666666,
              "#ed7953"
             ],
             [
              0.7777777777777778,
              "#fb9f3a"
             ],
             [
              0.8888888888888888,
              "#fdca26"
             ],
             [
              1,
              "#f0f921"
             ]
            ],
            "type": "histogram2dcontour"
           }
          ],
          "mesh3d": [
           {
            "colorbar": {
             "outlinewidth": 0,
             "ticks": ""
            },
            "type": "mesh3d"
           }
          ],
          "parcoords": [
           {
            "line": {
             "colorbar": {
              "outlinewidth": 0,
              "ticks": ""
             }
            },
            "type": "parcoords"
           }
          ],
          "pie": [
           {
            "automargin": true,
            "type": "pie"
           }
          ],
          "scatter": [
           {
            "fillpattern": {
             "fillmode": "overlay",
             "size": 10,
             "solidity": 0.2
            },
            "type": "scatter"
           }
          ],
          "scatter3d": [
           {
            "line": {
             "colorbar": {
              "outlinewidth": 0,
              "ticks": ""
             }
            },
            "marker": {
             "colorbar": {
              "outlinewidth": 0,
              "ticks": ""
             }
            },
            "type": "scatter3d"
           }
          ],
          "scattercarpet": [
           {
            "marker": {
             "colorbar": {
              "outlinewidth": 0,
              "ticks": ""
             }
            },
            "type": "scattercarpet"
           }
          ],
          "scattergeo": [
           {
            "marker": {
             "colorbar": {
              "outlinewidth": 0,
              "ticks": ""
             }
            },
            "type": "scattergeo"
           }
          ],
          "scattergl": [
           {
            "marker": {
             "colorbar": {
              "outlinewidth": 0,
              "ticks": ""
             }
            },
            "type": "scattergl"
           }
          ],
          "scattermap": [
           {
            "marker": {
             "colorbar": {
              "outlinewidth": 0,
              "ticks": ""
             }
            },
            "type": "scattermap"
           }
          ],
          "scattermapbox": [
           {
            "marker": {
             "colorbar": {
              "outlinewidth": 0,
              "ticks": ""
             }
            },
            "type": "scattermapbox"
           }
          ],
          "scatterpolar": [
           {
            "marker": {
             "colorbar": {
              "outlinewidth": 0,
              "ticks": ""
             }
            },
            "type": "scatterpolar"
           }
          ],
          "scatterpolargl": [
           {
            "marker": {
             "colorbar": {
              "outlinewidth": 0,
              "ticks": ""
             }
            },
            "type": "scatterpolargl"
           }
          ],
          "scatterternary": [
           {
            "marker": {
             "colorbar": {
              "outlinewidth": 0,
              "ticks": ""
             }
            },
            "type": "scatterternary"
           }
          ],
          "surface": [
           {
            "colorbar": {
             "outlinewidth": 0,
             "ticks": ""
            },
            "colorscale": [
             [
              0,
              "#0d0887"
             ],
             [
              0.1111111111111111,
              "#46039f"
             ],
             [
              0.2222222222222222,
              "#7201a8"
             ],
             [
              0.3333333333333333,
              "#9c179e"
             ],
             [
              0.4444444444444444,
              "#bd3786"
             ],
             [
              0.5555555555555556,
              "#d8576b"
             ],
             [
              0.6666666666666666,
              "#ed7953"
             ],
             [
              0.7777777777777778,
              "#fb9f3a"
             ],
             [
              0.8888888888888888,
              "#fdca26"
             ],
             [
              1,
              "#f0f921"
             ]
            ],
            "type": "surface"
           }
          ],
          "table": [
           {
            "cells": {
             "fill": {
              "color": "#EBF0F8"
             },
             "line": {
              "color": "white"
             }
            },
            "header": {
             "fill": {
              "color": "#C8D4E3"
             },
             "line": {
              "color": "white"
             }
            },
            "type": "table"
           }
          ]
         },
         "layout": {
          "annotationdefaults": {
           "arrowcolor": "#2a3f5f",
           "arrowhead": 0,
           "arrowwidth": 1
          },
          "autotypenumbers": "strict",
          "coloraxis": {
           "colorbar": {
            "outlinewidth": 0,
            "ticks": ""
           }
          },
          "colorscale": {
           "diverging": [
            [
             0,
             "#8e0152"
            ],
            [
             0.1,
             "#c51b7d"
            ],
            [
             0.2,
             "#de77ae"
            ],
            [
             0.3,
             "#f1b6da"
            ],
            [
             0.4,
             "#fde0ef"
            ],
            [
             0.5,
             "#f7f7f7"
            ],
            [
             0.6,
             "#e6f5d0"
            ],
            [
             0.7,
             "#b8e186"
            ],
            [
             0.8,
             "#7fbc41"
            ],
            [
             0.9,
             "#4d9221"
            ],
            [
             1,
             "#276419"
            ]
           ],
           "sequential": [
            [
             0,
             "#0d0887"
            ],
            [
             0.1111111111111111,
             "#46039f"
            ],
            [
             0.2222222222222222,
             "#7201a8"
            ],
            [
             0.3333333333333333,
             "#9c179e"
            ],
            [
             0.4444444444444444,
             "#bd3786"
            ],
            [
             0.5555555555555556,
             "#d8576b"
            ],
            [
             0.6666666666666666,
             "#ed7953"
            ],
            [
             0.7777777777777778,
             "#fb9f3a"
            ],
            [
             0.8888888888888888,
             "#fdca26"
            ],
            [
             1,
             "#f0f921"
            ]
           ],
           "sequentialminus": [
            [
             0,
             "#0d0887"
            ],
            [
             0.1111111111111111,
             "#46039f"
            ],
            [
             0.2222222222222222,
             "#7201a8"
            ],
            [
             0.3333333333333333,
             "#9c179e"
            ],
            [
             0.4444444444444444,
             "#bd3786"
            ],
            [
             0.5555555555555556,
             "#d8576b"
            ],
            [
             0.6666666666666666,
             "#ed7953"
            ],
            [
             0.7777777777777778,
             "#fb9f3a"
            ],
            [
             0.8888888888888888,
             "#fdca26"
            ],
            [
             1,
             "#f0f921"
            ]
           ]
          },
          "colorway": [
           "#636efa",
           "#EF553B",
           "#00cc96",
           "#ab63fa",
           "#FFA15A",
           "#19d3f3",
           "#FF6692",
           "#B6E880",
           "#FF97FF",
           "#FECB52"
          ],
          "font": {
           "color": "#2a3f5f"
          },
          "geo": {
           "bgcolor": "white",
           "lakecolor": "white",
           "landcolor": "white",
           "showlakes": true,
           "showland": true,
           "subunitcolor": "#C8D4E3"
          },
          "hoverlabel": {
           "align": "left"
          },
          "hovermode": "closest",
          "mapbox": {
           "style": "light"
          },
          "paper_bgcolor": "white",
          "plot_bgcolor": "white",
          "polar": {
           "angularaxis": {
            "gridcolor": "#EBF0F8",
            "linecolor": "#EBF0F8",
            "ticks": ""
           },
           "bgcolor": "white",
           "radialaxis": {
            "gridcolor": "#EBF0F8",
            "linecolor": "#EBF0F8",
            "ticks": ""
           }
          },
          "scene": {
           "xaxis": {
            "backgroundcolor": "white",
            "gridcolor": "#DFE8F3",
            "gridwidth": 2,
            "linecolor": "#EBF0F8",
            "showbackground": true,
            "ticks": "",
            "zerolinecolor": "#EBF0F8"
           },
           "yaxis": {
            "backgroundcolor": "white",
            "gridcolor": "#DFE8F3",
            "gridwidth": 2,
            "linecolor": "#EBF0F8",
            "showbackground": true,
            "ticks": "",
            "zerolinecolor": "#EBF0F8"
           },
           "zaxis": {
            "backgroundcolor": "white",
            "gridcolor": "#DFE8F3",
            "gridwidth": 2,
            "linecolor": "#EBF0F8",
            "showbackground": true,
            "ticks": "",
            "zerolinecolor": "#EBF0F8"
           }
          },
          "shapedefaults": {
           "line": {
            "color": "#2a3f5f"
           }
          },
          "ternary": {
           "aaxis": {
            "gridcolor": "#DFE8F3",
            "linecolor": "#A2B1C6",
            "ticks": ""
           },
           "baxis": {
            "gridcolor": "#DFE8F3",
            "linecolor": "#A2B1C6",
            "ticks": ""
           },
           "bgcolor": "white",
           "caxis": {
            "gridcolor": "#DFE8F3",
            "linecolor": "#A2B1C6",
            "ticks": ""
           }
          },
          "title": {
           "x": 0.05
          },
          "xaxis": {
           "automargin": true,
           "gridcolor": "#EBF0F8",
           "linecolor": "#EBF0F8",
           "ticks": "",
           "title": {
            "standoff": 15
           },
           "zerolinecolor": "#EBF0F8",
           "zerolinewidth": 2
          },
          "yaxis": {
           "automargin": true,
           "gridcolor": "#EBF0F8",
           "linecolor": "#EBF0F8",
           "ticks": "",
           "title": {
            "standoff": 15
           },
           "zerolinecolor": "#EBF0F8",
           "zerolinewidth": 2
          }
         }
        },
        "title": {
         "text": "Transportation fleet expansion in ON by vehicle class and drivetrain",
         "x": 0.5,
         "xanchor": "center",
         "y": 0.97,
         "yanchor": "top"
        },
        "width": 1000,
        "xaxis": {
         "anchor": "y",
         "domain": [
          0,
          0.1257142857142857
         ],
         "title": {
          "text": ""
         }
        },
        "xaxis2": {
         "anchor": "y2",
         "domain": [
          0.14571428571428569,
          0.27142857142857135
         ],
         "matches": "x",
         "title": {
          "text": ""
         }
        },
        "xaxis3": {
         "anchor": "y3",
         "domain": [
          0.29142857142857137,
          0.41714285714285704
         ],
         "matches": "x",
         "title": {
          "text": ""
         }
        },
        "xaxis4": {
         "anchor": "y4",
         "domain": [
          0.4371428571428571,
          0.5628571428571428
         ],
         "matches": "x",
         "title": {
          "text": ""
         }
        },
        "xaxis5": {
         "anchor": "y5",
         "domain": [
          0.5828571428571427,
          0.7085714285714284
         ],
         "matches": "x",
         "title": {
          "text": ""
         }
        },
        "xaxis6": {
         "anchor": "y6",
         "domain": [
          0.7285714285714284,
          0.8542857142857141
         ],
         "matches": "x",
         "title": {
          "text": ""
         }
        },
        "xaxis7": {
         "anchor": "y7",
         "domain": [
          0.8742857142857142,
          0.9999999999999999
         ],
         "matches": "x",
         "title": {
          "text": ""
         }
        },
        "yaxis": {
         "anchor": "x",
         "domain": [
          0,
          1
         ],
         "dtick": 20,
         "title": {
          "standoff": 0,
          "text": "New vehicles (k units)"
         }
        },
        "yaxis2": {
         "anchor": "x2",
         "domain": [
          0,
          1
         ],
         "dtick": 20,
         "matches": "y",
         "showticklabels": false
        },
        "yaxis3": {
         "anchor": "x3",
         "domain": [
          0,
          1
         ],
         "dtick": 20,
         "matches": "y",
         "showticklabels": false
        },
        "yaxis4": {
         "anchor": "x4",
         "domain": [
          0,
          1
         ],
         "dtick": 20,
         "matches": "y",
         "showticklabels": false
        },
        "yaxis5": {
         "anchor": "x5",
         "domain": [
          0,
          1
         ],
         "dtick": 20,
         "matches": "y",
         "showticklabels": false
        },
        "yaxis6": {
         "anchor": "x6",
         "domain": [
          0,
          1
         ],
         "dtick": 20,
         "matches": "y",
         "showticklabels": false
        },
        "yaxis7": {
         "anchor": "x7",
         "domain": [
          0,
          1
         ],
         "dtick": 20,
         "matches": "y",
         "showticklabels": false
        }
       }
      }
     },
     "metadata": {},
     "output_type": "display_data"
    }
   ],
   "source": [
    "ref_fig = ref_trnnewcap[ref_trnnewcap['Vehicle Class'].isin(['Bus', 'MD Truck', 'HD Truck'])][['Period', 'Vehicle Class', 'New Capacity', 'Carrier']].groupby(['Period', 'Vehicle Class', 'Carrier'], as_index=False).sum()\n",
    "ref_fig['New Capacity (M units)'] = ref_fig['New Capacity']/1E3\n",
    "\n",
    "ref_fig['Carrier'] = pd.Categorical(ref_fig['Carrier'], categories=drivetrain_order, ordered=True)\n",
    "ref_fig = ref_fig.sort_values(['Carrier', 'Period'])\n",
    "\n",
    "fig = px.bar(ref_fig, \n",
    "             x='Vehicle Class', \n",
    "             y='New Capacity', \n",
    "             color='Carrier', \n",
    "             barmode='stack', \n",
    "             facet_col='Period',\n",
    "             facet_col_spacing=2E-2,\n",
    "             template='plotly_white',\n",
    "             color_discrete_sequence=px.colors.qualitative.G10[:7] + px.colors.qualitative.G10[8:],\n",
    "             text_auto='.1f',\n",
    "             width=1000, height=650,\n",
    "             )\n",
    "\n",
    "fig.update_layout(title=dict(\n",
    "        text='Transportation fleet expansion in ON by vehicle class and drivetrain',\n",
    "        x=0.5, \n",
    "        y=0.97,\n",
    "        xanchor='center',\n",
    "        yanchor='top'\n",
    "    ),\n",
    "    xaxis=dict(title='Period'),\n",
    "    yaxis=dict(title='New vehicles (k units)',\n",
    "               dtick=20),\n",
    "    yaxis_title_standoff=0,\n",
    "    legend_title_text='',\n",
    "    bargap=0.1,\n",
    "    legend=dict(\n",
    "        orientation='h',  \n",
    "        yanchor='top',\n",
    "        y=1.03,  \n",
    "        xanchor='center',\n",
    "        x=0.5),\n",
    "    font=dict(\n",
    "        # family=\"Open Sans\",\n",
    "        size=14)\n",
    "    )\n",
    "\n",
    "for annotation in fig.layout.annotations:\n",
    "    annotation.text = annotation.text.split('=')[1]\n",
    "    annotation.y = -0.08  \n",
    "    annotation.yanchor = 'top' \n",
    "\n",
    "for axis in fig.layout:\n",
    "    if axis.startswith('yaxis'):\n",
    "        fig.layout[axis].dtick = 20\n",
    "\n",
    "for axis in fig.layout:\n",
    "    if axis.startswith('xaxis'):\n",
    "        fig.layout[axis].title.text = ''\n",
    "\n",
    "fig.for_each_trace(lambda trace: trace.update(textfont=dict(size=9)))\n",
    "\n",
    "fig.show()"
   ]
  },
  {
   "cell_type": "code",
   "execution_count": 258,
   "metadata": {},
   "outputs": [],
   "source": [
    "gtech_class_mapping = {\n",
    "    'LD Car': 'LDV',\n",
    "    'LD Truck': 'LDV',\n",
    "    'HD Truck': 'HDV',\n",
    "}\n",
    "\n",
    "gtech_carrier_mapping = {\n",
    "    'CNG': 'ICEV',\n",
    "    'HEV': 'ICEV',\n",
    "    'PHEV': 'ICEV',\n",
    "    'Diesel': 'ICEV',\n",
    "    'Gasoline': 'ICEV',\n",
    "    'BEV': 'BEV',\n",
    "    'FCEV': 'FCEV',\n",
    "}"
   ]
  },
  {
   "cell_type": "code",
   "execution_count": 259,
   "metadata": {},
   "outputs": [
    {
     "data": {
      "application/vnd.plotly.v1+json": {
       "config": {
        "plotlyServerURL": "https://plot.ly"
       },
       "data": [
        {
         "fillpattern": {
          "shape": ""
         },
         "hovertemplate": "Drivetrain=BEV<br>Class=LDV<br>Model=CANOE (ref)<br>Period=%{x}<br>Market Share (%)=%{y}<extra></extra>",
         "legendgroup": "BEV",
         "line": {
          "color": "#636efa"
         },
         "marker": {
          "symbol": "circle"
         },
         "mode": "lines",
         "name": "BEV",
         "orientation": "v",
         "showlegend": true,
         "stackgroup": "1",
         "type": "scatter",
         "x": [
          "2021",
          "2025",
          "2030",
          "2035",
          "2040",
          "2045",
          "2050"
         ],
         "xaxis": "x3",
         "y": {
          "bdata": "GjPgh8L/WEBINM473/9YQCAty3Lj/1hAtfAQ+/H/WEASMXST7f9YQIfkXKns/1hAnE6NnvD/WEA=",
          "dtype": "f8"
         },
         "yaxis": "y3"
        },
        {
         "fillpattern": {
          "shape": ""
         },
         "hovertemplate": "Drivetrain=BEV<br>Class=LDV<br>Model=gTech-IESD (ref)<br>Period=%{x}<br>Market Share (%)=%{y}<extra></extra>",
         "legendgroup": "BEV",
         "line": {
          "color": "#636efa"
         },
         "marker": {
          "symbol": "circle"
         },
         "mode": "lines",
         "name": "BEV",
         "orientation": "v",
         "showlegend": false,
         "stackgroup": "1",
         "type": "scatter",
         "x": [
          "2021",
          "2025",
          "2030",
          "2035",
          "2040",
          "2045",
          "2050"
         ],
         "xaxis": "x4",
         "y": {
          "bdata": "szPRE5Kt+T8ZvW6fwlIKQNbblGKvPiJA6FooV4A2OEAnKVVHs+JCQIdgyRMQbkhAvw8oFzodS0A=",
          "dtype": "f8"
         },
         "yaxis": "y4"
        },
        {
         "fillpattern": {
          "shape": ""
         },
         "hovertemplate": "Drivetrain=BEV<br>Class=HDV<br>Model=CANOE (ref)<br>Period=%{x}<br>Market Share (%)=%{y}<extra></extra>",
         "legendgroup": "BEV",
         "line": {
          "color": "#636efa"
         },
         "marker": {
          "symbol": "circle"
         },
         "mode": "lines",
         "name": "BEV",
         "orientation": "v",
         "showlegend": false,
         "stackgroup": "1",
         "type": "scatter",
         "x": [
          "2021",
          "2025",
          "2030",
          "2035",
          "2040",
          "2045",
          "2050"
         ],
         "xaxis": "x",
         "y": {
          "bdata": "AAAAAAAAAAAAAAAAAAAAAAAAAAAAAAAAAAAAAAAAAAAAAAAAAAAAAAAAAAAAAAAAAAAAAAAAAAA=",
          "dtype": "f8"
         },
         "yaxis": "y"
        },
        {
         "fillpattern": {
          "shape": ""
         },
         "hovertemplate": "Drivetrain=BEV<br>Class=HDV<br>Model=gTech-IESD (ref)<br>Period=%{x}<br>Market Share (%)=%{y}<extra></extra>",
         "legendgroup": "BEV",
         "line": {
          "color": "#636efa"
         },
         "marker": {
          "symbol": "circle"
         },
         "mode": "lines",
         "name": "BEV",
         "orientation": "v",
         "showlegend": false,
         "stackgroup": "1",
         "type": "scatter",
         "x": [
          "2021",
          "2025",
          "2030",
          "2035",
          "2040",
          "2045",
          "2050"
         ],
         "xaxis": "x2",
         "y": {
          "bdata": "AAAAAAAAAAAAAAAAAAAAANrGn6hs0PI/d8OfqSOkA0DnFyAvdjsNQCC+RKPYiRFAjsICU15FEkA=",
          "dtype": "f8"
         },
         "yaxis": "y2"
        },
        {
         "fillpattern": {
          "shape": ""
         },
         "hovertemplate": "Drivetrain=FCEV<br>Class=LDV<br>Model=CANOE (ref)<br>Period=%{x}<br>Market Share (%)=%{y}<extra></extra>",
         "legendgroup": "FCEV",
         "line": {
          "color": "#EF553B"
         },
         "marker": {
          "symbol": "circle"
         },
         "mode": "lines",
         "name": "FCEV",
         "orientation": "v",
         "showlegend": true,
         "stackgroup": "1",
         "type": "scatter",
         "x": [
          "2021",
          "2025",
          "2030",
          "2035",
          "2040",
          "2045",
          "2050"
         ],
         "xaxis": "x3",
         "y": {
          "bdata": "KgvPK2gJMT+I+FRnglknPzgiG8Zgkiw/qVXPyp4cHz/9n/wFRU8lP4d/U/FYtCg/I+Soys/wJj8=",
          "dtype": "f8"
         },
         "yaxis": "y3"
        },
        {
         "fillpattern": {
          "shape": ""
         },
         "hovertemplate": "Drivetrain=FCEV<br>Class=LDV<br>Model=gTech-IESD (ref)<br>Period=%{x}<br>Market Share (%)=%{y}<extra></extra>",
         "legendgroup": "FCEV",
         "line": {
          "color": "#EF553B"
         },
         "marker": {
          "symbol": "circle"
         },
         "mode": "lines",
         "name": "FCEV",
         "orientation": "v",
         "showlegend": false,
         "stackgroup": "1",
         "type": "scatter",
         "x": [
          "2021",
          "2025",
          "2030",
          "2035",
          "2040",
          "2045",
          "2050"
         ],
         "xaxis": "x4",
         "y": {
          "bdata": "YcZgOrdNBD/59/gIJWEpP3AiYplqpTE/UIIGtNcvNj8wAwVGrRw5PwKChQhC9j0/cUZYSlJ2Qz8=",
          "dtype": "f8"
         },
         "yaxis": "y4"
        },
        {
         "fillpattern": {
          "shape": ""
         },
         "hovertemplate": "Drivetrain=FCEV<br>Class=HDV<br>Model=CANOE (ref)<br>Period=%{x}<br>Market Share (%)=%{y}<extra></extra>",
         "legendgroup": "FCEV",
         "line": {
          "color": "#EF553B"
         },
         "marker": {
          "symbol": "circle"
         },
         "mode": "lines",
         "name": "FCEV",
         "orientation": "v",
         "showlegend": false,
         "stackgroup": "1",
         "type": "scatter",
         "x": [
          "2021",
          "2025",
          "2030",
          "2035",
          "2040",
          "2045",
          "2050"
         ],
         "xaxis": "x",
         "y": {
          "bdata": "AAAAAAAAAAC1X6YX2BoLP4gbchICXpU/eprebQdcRUDogXmlETxQQOugNj7bvUFA2xh+zNdTREA=",
          "dtype": "f8"
         },
         "yaxis": "y"
        },
        {
         "fillpattern": {
          "shape": ""
         },
         "hovertemplate": "Drivetrain=FCEV<br>Class=HDV<br>Model=gTech-IESD (ref)<br>Period=%{x}<br>Market Share (%)=%{y}<extra></extra>",
         "legendgroup": "FCEV",
         "line": {
          "color": "#EF553B"
         },
         "marker": {
          "symbol": "circle"
         },
         "mode": "lines",
         "name": "FCEV",
         "orientation": "v",
         "showlegend": false,
         "stackgroup": "1",
         "type": "scatter",
         "x": [
          "2021",
          "2025",
          "2030",
          "2035",
          "2040",
          "2045",
          "2050"
         ],
         "xaxis": "x2",
         "y": {
          "bdata": "AAAAAAAAAAAAAAAAAAAAADUI/Kz13+Y/A7MAdRzK/z9AwHvDVAkKQPeXEoZXzRBASDcYo9tgEkA=",
          "dtype": "f8"
         },
         "yaxis": "y2"
        },
        {
         "fillpattern": {
          "shape": ""
         },
         "hovertemplate": "Drivetrain=ICEV<br>Class=LDV<br>Model=CANOE (ref)<br>Period=%{x}<br>Market Share (%)=%{y}<extra></extra>",
         "legendgroup": "ICEV",
         "line": {
          "color": "#00cc96"
         },
         "marker": {
          "symbol": "circle"
         },
         "mode": "lines",
         "name": "ICEV",
         "orientation": "v",
         "showlegend": true,
         "stackgroup": "1",
         "type": "scatter",
         "x": [
          "2021",
          "2025",
          "2030",
          "2035",
          "2040",
          "2045",
          "2050"
         ],
         "xaxis": "x3",
         "y": {
          "bdata": "cvX44OKabD9Ras1+AdldP5COHbro+lg/WsY8RUomSD+W8FtcRoVPP4mrTv0XQFA/8xAdcLEGST8=",
          "dtype": "f8"
         },
         "yaxis": "y3"
        },
        {
         "fillpattern": {
          "shape": ""
         },
         "hovertemplate": "Drivetrain=ICEV<br>Class=LDV<br>Model=gTech-IESD (ref)<br>Period=%{x}<br>Market Share (%)=%{y}<extra></extra>",
         "legendgroup": "ICEV",
         "line": {
          "color": "#00cc96"
         },
         "marker": {
          "symbol": "circle"
         },
         "mode": "lines",
         "name": "ICEV",
         "orientation": "v",
         "showlegend": false,
         "stackgroup": "1",
         "type": "scatter",
         "x": [
          "2021",
          "2025",
          "2030",
          "2035",
          "2040",
          "2045",
          "2050"
         ],
         "xaxis": "x4",
         "y": {
          "bdata": "kElBFUmZWEB1ndu+Zi1YQA3RU6oluFZAqFpFXlryUkAVDlIqQB1PQHsMHPHgkUlAKICDcrLiRkA=",
          "dtype": "f8"
         },
         "yaxis": "y4"
        },
        {
         "fillpattern": {
          "shape": ""
         },
         "hovertemplate": "Drivetrain=ICEV<br>Class=HDV<br>Model=CANOE (ref)<br>Period=%{x}<br>Market Share (%)=%{y}<extra></extra>",
         "legendgroup": "ICEV",
         "line": {
          "color": "#00cc96"
         },
         "marker": {
          "symbol": "circle"
         },
         "mode": "lines",
         "name": "ICEV",
         "orientation": "v",
         "showlegend": false,
         "stackgroup": "1",
         "type": "scatter",
         "x": [
          "2021",
          "2025",
          "2030",
          "2035",
          "2040",
          "2045",
          "2050"
         ],
         "xaxis": "x",
         "y": {
          "bdata": "AAAAAAAAWUBDPykn//9YQN7Y3h+q/lhAhmUhkvijTEAv/Ay13IdBQIqv5GASIVBAJeeBMyisTUA=",
          "dtype": "f8"
         },
         "yaxis": "y"
        },
        {
         "fillpattern": {
          "shape": ""
         },
         "hovertemplate": "Drivetrain=ICEV<br>Class=HDV<br>Model=gTech-IESD (ref)<br>Period=%{x}<br>Market Share (%)=%{y}<extra></extra>",
         "legendgroup": "ICEV",
         "line": {
          "color": "#00cc96"
         },
         "marker": {
          "symbol": "circle"
         },
         "mode": "lines",
         "name": "ICEV",
         "orientation": "v",
         "showlegend": false,
         "stackgroup": "1",
         "type": "scatter",
         "x": [
          "2021",
          "2025",
          "2030",
          "2035",
          "2040",
          "2045",
          "2050"
         ],
         "xaxis": "x2",
         "y": {
          "bdata": "AAAAAAAAWUAAAAAAAABZQJauBWL+hlhA+RHgcLbjV0Cd6Geo2UVXQL53af2M2lZAY1CeYJy1VkA=",
          "dtype": "f8"
         },
         "yaxis": "y2"
        }
       ],
       "layout": {
        "annotations": [
         {
          "showarrow": false,
          "text": "Model=CANOE (ref)",
          "x": 0.23249999999999998,
          "xanchor": "center",
          "xref": "paper",
          "y": 1,
          "yanchor": "bottom",
          "yref": "paper"
         },
         {
          "showarrow": false,
          "text": "Model=gTech-IESD (ref)",
          "x": 0.7475,
          "xanchor": "center",
          "xref": "paper",
          "y": 1,
          "yanchor": "bottom",
          "yref": "paper"
         },
         {
          "showarrow": false,
          "text": "Class=HDV",
          "textangle": 90,
          "x": 0.98,
          "xanchor": "left",
          "xref": "paper",
          "y": 0.2425,
          "yanchor": "middle",
          "yref": "paper"
         },
         {
          "showarrow": false,
          "text": "Class=LDV",
          "textangle": 90,
          "x": 0.98,
          "xanchor": "left",
          "xref": "paper",
          "y": 0.7575000000000001,
          "yanchor": "middle",
          "yref": "paper"
         },
         {
          "font": {
           "size": 15
          },
          "showarrow": false,
          "text": "Market Share (%)",
          "textangle": -90,
          "x": -0.08,
          "xref": "paper",
          "y": 0.5,
          "yref": "paper"
         }
        ],
        "bargap": 0.1,
        "font": {
         "size": 14
        },
        "height": 500,
        "legend": {
         "orientation": "h",
         "title": {
          "text": ""
         },
         "tracegroupgap": 0,
         "x": 0.5,
         "xanchor": "center",
         "y": 0.99,
         "yanchor": "top"
        },
        "margin": {
         "t": 60
        },
        "template": {
         "data": {
          "bar": [
           {
            "error_x": {
             "color": "#2a3f5f"
            },
            "error_y": {
             "color": "#2a3f5f"
            },
            "marker": {
             "line": {
              "color": "white",
              "width": 0.5
             },
             "pattern": {
              "fillmode": "overlay",
              "size": 10,
              "solidity": 0.2
             }
            },
            "type": "bar"
           }
          ],
          "barpolar": [
           {
            "marker": {
             "line": {
              "color": "white",
              "width": 0.5
             },
             "pattern": {
              "fillmode": "overlay",
              "size": 10,
              "solidity": 0.2
             }
            },
            "type": "barpolar"
           }
          ],
          "carpet": [
           {
            "aaxis": {
             "endlinecolor": "#2a3f5f",
             "gridcolor": "#C8D4E3",
             "linecolor": "#C8D4E3",
             "minorgridcolor": "#C8D4E3",
             "startlinecolor": "#2a3f5f"
            },
            "baxis": {
             "endlinecolor": "#2a3f5f",
             "gridcolor": "#C8D4E3",
             "linecolor": "#C8D4E3",
             "minorgridcolor": "#C8D4E3",
             "startlinecolor": "#2a3f5f"
            },
            "type": "carpet"
           }
          ],
          "choropleth": [
           {
            "colorbar": {
             "outlinewidth": 0,
             "ticks": ""
            },
            "type": "choropleth"
           }
          ],
          "contour": [
           {
            "colorbar": {
             "outlinewidth": 0,
             "ticks": ""
            },
            "colorscale": [
             [
              0,
              "#0d0887"
             ],
             [
              0.1111111111111111,
              "#46039f"
             ],
             [
              0.2222222222222222,
              "#7201a8"
             ],
             [
              0.3333333333333333,
              "#9c179e"
             ],
             [
              0.4444444444444444,
              "#bd3786"
             ],
             [
              0.5555555555555556,
              "#d8576b"
             ],
             [
              0.6666666666666666,
              "#ed7953"
             ],
             [
              0.7777777777777778,
              "#fb9f3a"
             ],
             [
              0.8888888888888888,
              "#fdca26"
             ],
             [
              1,
              "#f0f921"
             ]
            ],
            "type": "contour"
           }
          ],
          "contourcarpet": [
           {
            "colorbar": {
             "outlinewidth": 0,
             "ticks": ""
            },
            "type": "contourcarpet"
           }
          ],
          "heatmap": [
           {
            "colorbar": {
             "outlinewidth": 0,
             "ticks": ""
            },
            "colorscale": [
             [
              0,
              "#0d0887"
             ],
             [
              0.1111111111111111,
              "#46039f"
             ],
             [
              0.2222222222222222,
              "#7201a8"
             ],
             [
              0.3333333333333333,
              "#9c179e"
             ],
             [
              0.4444444444444444,
              "#bd3786"
             ],
             [
              0.5555555555555556,
              "#d8576b"
             ],
             [
              0.6666666666666666,
              "#ed7953"
             ],
             [
              0.7777777777777778,
              "#fb9f3a"
             ],
             [
              0.8888888888888888,
              "#fdca26"
             ],
             [
              1,
              "#f0f921"
             ]
            ],
            "type": "heatmap"
           }
          ],
          "histogram": [
           {
            "marker": {
             "pattern": {
              "fillmode": "overlay",
              "size": 10,
              "solidity": 0.2
             }
            },
            "type": "histogram"
           }
          ],
          "histogram2d": [
           {
            "colorbar": {
             "outlinewidth": 0,
             "ticks": ""
            },
            "colorscale": [
             [
              0,
              "#0d0887"
             ],
             [
              0.1111111111111111,
              "#46039f"
             ],
             [
              0.2222222222222222,
              "#7201a8"
             ],
             [
              0.3333333333333333,
              "#9c179e"
             ],
             [
              0.4444444444444444,
              "#bd3786"
             ],
             [
              0.5555555555555556,
              "#d8576b"
             ],
             [
              0.6666666666666666,
              "#ed7953"
             ],
             [
              0.7777777777777778,
              "#fb9f3a"
             ],
             [
              0.8888888888888888,
              "#fdca26"
             ],
             [
              1,
              "#f0f921"
             ]
            ],
            "type": "histogram2d"
           }
          ],
          "histogram2dcontour": [
           {
            "colorbar": {
             "outlinewidth": 0,
             "ticks": ""
            },
            "colorscale": [
             [
              0,
              "#0d0887"
             ],
             [
              0.1111111111111111,
              "#46039f"
             ],
             [
              0.2222222222222222,
              "#7201a8"
             ],
             [
              0.3333333333333333,
              "#9c179e"
             ],
             [
              0.4444444444444444,
              "#bd3786"
             ],
             [
              0.5555555555555556,
              "#d8576b"
             ],
             [
              0.6666666666666666,
              "#ed7953"
             ],
             [
              0.7777777777777778,
              "#fb9f3a"
             ],
             [
              0.8888888888888888,
              "#fdca26"
             ],
             [
              1,
              "#f0f921"
             ]
            ],
            "type": "histogram2dcontour"
           }
          ],
          "mesh3d": [
           {
            "colorbar": {
             "outlinewidth": 0,
             "ticks": ""
            },
            "type": "mesh3d"
           }
          ],
          "parcoords": [
           {
            "line": {
             "colorbar": {
              "outlinewidth": 0,
              "ticks": ""
             }
            },
            "type": "parcoords"
           }
          ],
          "pie": [
           {
            "automargin": true,
            "type": "pie"
           }
          ],
          "scatter": [
           {
            "fillpattern": {
             "fillmode": "overlay",
             "size": 10,
             "solidity": 0.2
            },
            "type": "scatter"
           }
          ],
          "scatter3d": [
           {
            "line": {
             "colorbar": {
              "outlinewidth": 0,
              "ticks": ""
             }
            },
            "marker": {
             "colorbar": {
              "outlinewidth": 0,
              "ticks": ""
             }
            },
            "type": "scatter3d"
           }
          ],
          "scattercarpet": [
           {
            "marker": {
             "colorbar": {
              "outlinewidth": 0,
              "ticks": ""
             }
            },
            "type": "scattercarpet"
           }
          ],
          "scattergeo": [
           {
            "marker": {
             "colorbar": {
              "outlinewidth": 0,
              "ticks": ""
             }
            },
            "type": "scattergeo"
           }
          ],
          "scattergl": [
           {
            "marker": {
             "colorbar": {
              "outlinewidth": 0,
              "ticks": ""
             }
            },
            "type": "scattergl"
           }
          ],
          "scattermap": [
           {
            "marker": {
             "colorbar": {
              "outlinewidth": 0,
              "ticks": ""
             }
            },
            "type": "scattermap"
           }
          ],
          "scattermapbox": [
           {
            "marker": {
             "colorbar": {
              "outlinewidth": 0,
              "ticks": ""
             }
            },
            "type": "scattermapbox"
           }
          ],
          "scatterpolar": [
           {
            "marker": {
             "colorbar": {
              "outlinewidth": 0,
              "ticks": ""
             }
            },
            "type": "scatterpolar"
           }
          ],
          "scatterpolargl": [
           {
            "marker": {
             "colorbar": {
              "outlinewidth": 0,
              "ticks": ""
             }
            },
            "type": "scatterpolargl"
           }
          ],
          "scatterternary": [
           {
            "marker": {
             "colorbar": {
              "outlinewidth": 0,
              "ticks": ""
             }
            },
            "type": "scatterternary"
           }
          ],
          "surface": [
           {
            "colorbar": {
             "outlinewidth": 0,
             "ticks": ""
            },
            "colorscale": [
             [
              0,
              "#0d0887"
             ],
             [
              0.1111111111111111,
              "#46039f"
             ],
             [
              0.2222222222222222,
              "#7201a8"
             ],
             [
              0.3333333333333333,
              "#9c179e"
             ],
             [
              0.4444444444444444,
              "#bd3786"
             ],
             [
              0.5555555555555556,
              "#d8576b"
             ],
             [
              0.6666666666666666,
              "#ed7953"
             ],
             [
              0.7777777777777778,
              "#fb9f3a"
             ],
             [
              0.8888888888888888,
              "#fdca26"
             ],
             [
              1,
              "#f0f921"
             ]
            ],
            "type": "surface"
           }
          ],
          "table": [
           {
            "cells": {
             "fill": {
              "color": "#EBF0F8"
             },
             "line": {
              "color": "white"
             }
            },
            "header": {
             "fill": {
              "color": "#C8D4E3"
             },
             "line": {
              "color": "white"
             }
            },
            "type": "table"
           }
          ]
         },
         "layout": {
          "annotationdefaults": {
           "arrowcolor": "#2a3f5f",
           "arrowhead": 0,
           "arrowwidth": 1
          },
          "autotypenumbers": "strict",
          "coloraxis": {
           "colorbar": {
            "outlinewidth": 0,
            "ticks": ""
           }
          },
          "colorscale": {
           "diverging": [
            [
             0,
             "#8e0152"
            ],
            [
             0.1,
             "#c51b7d"
            ],
            [
             0.2,
             "#de77ae"
            ],
            [
             0.3,
             "#f1b6da"
            ],
            [
             0.4,
             "#fde0ef"
            ],
            [
             0.5,
             "#f7f7f7"
            ],
            [
             0.6,
             "#e6f5d0"
            ],
            [
             0.7,
             "#b8e186"
            ],
            [
             0.8,
             "#7fbc41"
            ],
            [
             0.9,
             "#4d9221"
            ],
            [
             1,
             "#276419"
            ]
           ],
           "sequential": [
            [
             0,
             "#0d0887"
            ],
            [
             0.1111111111111111,
             "#46039f"
            ],
            [
             0.2222222222222222,
             "#7201a8"
            ],
            [
             0.3333333333333333,
             "#9c179e"
            ],
            [
             0.4444444444444444,
             "#bd3786"
            ],
            [
             0.5555555555555556,
             "#d8576b"
            ],
            [
             0.6666666666666666,
             "#ed7953"
            ],
            [
             0.7777777777777778,
             "#fb9f3a"
            ],
            [
             0.8888888888888888,
             "#fdca26"
            ],
            [
             1,
             "#f0f921"
            ]
           ],
           "sequentialminus": [
            [
             0,
             "#0d0887"
            ],
            [
             0.1111111111111111,
             "#46039f"
            ],
            [
             0.2222222222222222,
             "#7201a8"
            ],
            [
             0.3333333333333333,
             "#9c179e"
            ],
            [
             0.4444444444444444,
             "#bd3786"
            ],
            [
             0.5555555555555556,
             "#d8576b"
            ],
            [
             0.6666666666666666,
             "#ed7953"
            ],
            [
             0.7777777777777778,
             "#fb9f3a"
            ],
            [
             0.8888888888888888,
             "#fdca26"
            ],
            [
             1,
             "#f0f921"
            ]
           ]
          },
          "colorway": [
           "#636efa",
           "#EF553B",
           "#00cc96",
           "#ab63fa",
           "#FFA15A",
           "#19d3f3",
           "#FF6692",
           "#B6E880",
           "#FF97FF",
           "#FECB52"
          ],
          "font": {
           "color": "#2a3f5f"
          },
          "geo": {
           "bgcolor": "white",
           "lakecolor": "white",
           "landcolor": "white",
           "showlakes": true,
           "showland": true,
           "subunitcolor": "#C8D4E3"
          },
          "hoverlabel": {
           "align": "left"
          },
          "hovermode": "closest",
          "mapbox": {
           "style": "light"
          },
          "paper_bgcolor": "white",
          "plot_bgcolor": "white",
          "polar": {
           "angularaxis": {
            "gridcolor": "#EBF0F8",
            "linecolor": "#EBF0F8",
            "ticks": ""
           },
           "bgcolor": "white",
           "radialaxis": {
            "gridcolor": "#EBF0F8",
            "linecolor": "#EBF0F8",
            "ticks": ""
           }
          },
          "scene": {
           "xaxis": {
            "backgroundcolor": "white",
            "gridcolor": "#DFE8F3",
            "gridwidth": 2,
            "linecolor": "#EBF0F8",
            "showbackground": true,
            "ticks": "",
            "zerolinecolor": "#EBF0F8"
           },
           "yaxis": {
            "backgroundcolor": "white",
            "gridcolor": "#DFE8F3",
            "gridwidth": 2,
            "linecolor": "#EBF0F8",
            "showbackground": true,
            "ticks": "",
            "zerolinecolor": "#EBF0F8"
           },
           "zaxis": {
            "backgroundcolor": "white",
            "gridcolor": "#DFE8F3",
            "gridwidth": 2,
            "linecolor": "#EBF0F8",
            "showbackground": true,
            "ticks": "",
            "zerolinecolor": "#EBF0F8"
           }
          },
          "shapedefaults": {
           "line": {
            "color": "#2a3f5f"
           }
          },
          "ternary": {
           "aaxis": {
            "gridcolor": "#DFE8F3",
            "linecolor": "#A2B1C6",
            "ticks": ""
           },
           "baxis": {
            "gridcolor": "#DFE8F3",
            "linecolor": "#A2B1C6",
            "ticks": ""
           },
           "bgcolor": "white",
           "caxis": {
            "gridcolor": "#DFE8F3",
            "linecolor": "#A2B1C6",
            "ticks": ""
           }
          },
          "title": {
           "x": 0.05
          },
          "xaxis": {
           "automargin": true,
           "gridcolor": "#EBF0F8",
           "linecolor": "#EBF0F8",
           "ticks": "",
           "title": {
            "standoff": 15
           },
           "zerolinecolor": "#EBF0F8",
           "zerolinewidth": 2
          },
          "yaxis": {
           "automargin": true,
           "gridcolor": "#EBF0F8",
           "linecolor": "#EBF0F8",
           "ticks": "",
           "title": {
            "standoff": 15
           },
           "zerolinecolor": "#EBF0F8",
           "zerolinewidth": 2
          }
         }
        },
        "title": {
         "text": "RT vehicle market share by weight class, drivetrain and energy model in ON",
         "x": 0.5,
         "xanchor": "center",
         "y": 0.97,
         "yanchor": "top"
        },
        "width": 900,
        "xaxis": {
         "anchor": "y",
         "domain": [
          0,
          0.46499999999999997
         ],
         "tickangle": 45,
         "title": {
          "text": ""
         }
        },
        "xaxis2": {
         "anchor": "y2",
         "domain": [
          0.515,
          0.98
         ],
         "matches": "x",
         "tickangle": 45,
         "title": {
          "text": ""
         }
        },
        "xaxis3": {
         "anchor": "y3",
         "domain": [
          0,
          0.46499999999999997
         ],
         "matches": "x",
         "showticklabels": false,
         "tickangle": 45,
         "title": {
          "text": ""
         }
        },
        "xaxis4": {
         "anchor": "y4",
         "domain": [
          0.515,
          0.98
         ],
         "matches": "x",
         "showticklabels": false,
         "tickangle": 45,
         "title": {
          "text": ""
         }
        },
        "yaxis": {
         "anchor": "x",
         "domain": [
          0,
          0.485
         ],
         "title": {
          "standoff": 0,
          "text": ""
         }
        },
        "yaxis2": {
         "anchor": "x2",
         "domain": [
          0,
          0.485
         ],
         "matches": "y",
         "showticklabels": false,
         "title": {
          "text": ""
         }
        },
        "yaxis3": {
         "anchor": "x3",
         "domain": [
          0.515,
          1
         ],
         "matches": "y",
         "title": {
          "text": ""
         }
        },
        "yaxis4": {
         "anchor": "x4",
         "domain": [
          0.515,
          1
         ],
         "matches": "y",
         "showticklabels": false,
         "title": {
          "text": ""
         }
        }
       }
      }
     },
     "metadata": {},
     "output_type": "display_data"
    }
   ],
   "source": [
    "ref_fig = ref_trnnewcap[ref_trnnewcap['Vehicle Class'].isin(['LD Car', 'LD Truck', 'HD Truck'])][['Period', 'Carrier', 'Vehicle Class', 'New Capacity']]\n",
    "ref_fig['Carrier'] = ref_fig.Carrier.map(gtech_carrier_mapping)\n",
    "ref_fig['Vehicle Class'] = ref_fig['Vehicle Class'].map(gtech_class_mapping)\n",
    "ref_fig = ref_fig.groupby(['Period', 'Carrier', 'Vehicle Class'], as_index=False).sum()\n",
    "\n",
    "veh_tot_cap = ref_fig.groupby(['Period', 'Vehicle Class'], as_index=False).sum('New Capacity')\n",
    "ref_fig = pd.merge(ref_fig, veh_tot_cap, on=['Period', 'Vehicle Class'], suffixes=('', '_sum'))\n",
    "ref_fig['Market Share (%)'] = ref_fig['New Capacity'] / ref_fig['New Capacity_sum'] * 100\n",
    "ref_fig.rename(columns={'Vehicle Class': 'Class', 'Carrier': 'Drivetrain'}, inplace=True)\n",
    "\n",
    "ref_fig['Model'] = 'CANOE (ref)'\n",
    "gtech23_ref_vehshare['Model'] = 'gTech-IESD (ref)'\n",
    "gtech23_ref_vehshare['Period'] = gtech23_ref_vehshare['Period'].astype(str)\n",
    "fig_df = pd.concat([ref_fig[['Period', 'Class', 'Drivetrain', 'Model', 'Market Share (%)']], gtech23_ref_vehshare[['Period', 'Class', 'Drivetrain', 'Model', 'Market Share (%)']]]).reset_index(drop=True)\n",
    "fig_df['Class'] = pd.Categorical(fig_df['Class'], categories=['LDV', 'HDV'], ordered=True)\n",
    "fig_df = fig_df.sort_values(['Class', 'Period'])\n",
    "\n",
    "fig = px.area(fig_df, x='Period', y='Market Share (%)', color='Drivetrain', facet_col='Model', facet_row='Class',\n",
    "              template='plotly_white',\n",
    "              facet_col_spacing=0.05,\n",
    "              facet_row_spacing=0.03,\n",
    "              width=900, height=500\n",
    "              )\n",
    "\n",
    "fig.update_layout(\n",
    "    title=dict(text='RT vehicle market share by weight class, drivetrain and energy model in ON',\n",
    "               x=0.5,\n",
    "               y=0.97,\n",
    "               xanchor='center',\n",
    "               yanchor='top'\n",
    "               ),\n",
    "    xaxis=dict(title='Period'),\n",
    "    yaxis=dict(title='Market Share (%)'),\n",
    "    yaxis_title_standoff=0,\n",
    "    legend_title_text='',\n",
    "    bargap=0.1,\n",
    "    legend=dict(orientation='h',\n",
    "                yanchor='top',\n",
    "                y=0.99,\n",
    "                xanchor='center',\n",
    "                x=0.5),\n",
    "    font=dict(size=14,\n",
    "              # family=\"Open Sans\"\n",
    "              ))\n",
    "\n",
    "for axis in fig.layout:\n",
    "    if axis.startswith('yaxis'):\n",
    "        fig.layout[axis].title.text = ''\n",
    "    if axis.startswith('xaxis'):\n",
    "        fig.layout[axis].title.text = ''\n",
    "\n",
    "fig.update_xaxes(tickangle=45)\n",
    "\n",
    "fig.add_annotation(\n",
    "    text=\"Market Share (%)\",\n",
    "    x=-0.08,  # Adjust x position as needed\n",
    "    y=0.5,\n",
    "    xref=\"paper\",\n",
    "    yref=\"paper\",\n",
    "    showarrow=False,\n",
    "    textangle=-90,\n",
    "    font=dict(size=15))\n",
    "\n",
    "fig.show()\n",
    "fig.write_image(\"market_shares.svg\", scale=1, engine='kaleido')"
   ]
  },
  {
   "cell_type": "markdown",
   "metadata": {},
   "source": [
    "# CANOE vs CEF 2023 vs gTech-IESD - power generation capacity and activity"
   ]
  },
  {
   "cell_type": "code",
   "execution_count": 260,
   "metadata": {},
   "outputs": [],
   "source": [
    "plant_mapping = {\n",
    "    'E_BIO': 'Biomass',\n",
    "    'E_NG': 'Natural Gas',\n",
    "    'E_HYD': 'Hydro',\n",
    "    'E_SOL': 'Solar',\n",
    "    'E_WND': 'Wind',\n",
    "    'E_NUC': 'Nuclear',\n",
    "}\n",
    "\n",
    "def map_tech_to_plant(tech):\n",
    "    for prefix, plant_name in plant_mapping.items():\n",
    "        if tech.startswith(prefix):\n",
    "            return plant_name\n",
    "    return 'Other'\n",
    "\n",
    "ref_elcact['Plant Type'] = ref_elcact['Technology'].apply(map_tech_to_plant)\n",
    "ref_elccap['Plant Type'] = ref_elccap['Technology'].apply(map_tech_to_plant)"
   ]
  },
  {
   "cell_type": "code",
   "execution_count": 261,
   "metadata": {},
   "outputs": [],
   "source": [
    "ref_elccap.columns = ref_elccap.columns.astype(str)\n",
    "periods = [col for col in ref_elccap.columns if col.isdigit()]\n",
    "params = [col for col in ref_elccap.columns if not col.isdigit()]\n",
    "ref_elccap = pd.melt(ref_elccap, id_vars=params, var_name='Period', value_name='Capacity (GW)', value_vars=periods)"
   ]
  },
  {
   "cell_type": "code",
   "execution_count": 262,
   "metadata": {},
   "outputs": [],
   "source": [
    "def plant_rename(type):\n",
    "    if type == 'hydro':\n",
    "        return 'Hydro'\n",
    "    if type == 'natural gas':\n",
    "        return 'Natural Gas'\n",
    "    if type == 'natural gas w ccs':\n",
    "        return 'Natural Gas'\n",
    "    if type == 'nuclear':\n",
    "        return 'Nuclear'\n",
    "    if type == 'solar':\n",
    "        return 'Solar'\n",
    "    if type == 'wind':\n",
    "        return 'Wind'\n",
    "    else: return 'Other'\n",
    "    \n",
    "gtech23_ref_cap['Plant Type'] = gtech23_ref_cap['Plant Type'].apply(plant_rename)\n",
    "gtech23_ref_cap = gtech23_ref_cap.groupby(['Period', 'Plant Type'], as_index=False).sum()"
   ]
  },
  {
   "cell_type": "code",
   "execution_count": 263,
   "metadata": {},
   "outputs": [
    {
     "data": {
      "application/vnd.plotly.v1+json": {
       "config": {
        "plotlyServerURL": "https://plot.ly"
       },
       "data": [
        {
         "hovertemplate": "Plant Type=Biomass<br>Period=2021<br>Source=%{x}<br>Capacity (GW)=%{y}<extra></extra>",
         "legendgroup": "Biomass",
         "marker": {
          "color": "#3366CC",
          "pattern": {
           "shape": ""
          }
         },
         "name": "Biomass",
         "orientation": "v",
         "showlegend": true,
         "textfont": {
          "size": 9
         },
         "textposition": "auto",
         "texttemplate": "%{y:.1f}",
         "type": "bar",
         "x": [
          "CANOE",
          "CEF2023"
         ],
         "xaxis": "x",
         "y": {
          "bdata": "30+Nl24S0z/Qm4pUGFvmPw==",
          "dtype": "f8"
         },
         "yaxis": "y"
        },
        {
         "hovertemplate": "Plant Type=Biomass<br>Period=2025<br>Source=%{x}<br>Capacity (GW)=%{y}<extra></extra>",
         "legendgroup": "Biomass",
         "marker": {
          "color": "#3366CC",
          "pattern": {
           "shape": ""
          }
         },
         "name": "Biomass",
         "orientation": "v",
         "showlegend": false,
         "textfont": {
          "size": 9
         },
         "textposition": "auto",
         "texttemplate": "%{y:.1f}",
         "type": "bar",
         "x": [
          "CANOE",
          "CEF2023"
         ],
         "xaxis": "x2",
         "y": {
          "bdata": "30+Nl24S0z/Qm4pUGFvmPw==",
          "dtype": "f8"
         },
         "yaxis": "y2"
        },
        {
         "hovertemplate": "Plant Type=Biomass<br>Period=2030<br>Source=%{x}<br>Capacity (GW)=%{y}<extra></extra>",
         "legendgroup": "Biomass",
         "marker": {
          "color": "#3366CC",
          "pattern": {
           "shape": ""
          }
         },
         "name": "Biomass",
         "orientation": "v",
         "showlegend": false,
         "textfont": {
          "size": 9
         },
         "textposition": "auto",
         "texttemplate": "%{y:.1f}",
         "type": "bar",
         "x": [
          "CANOE",
          "CEF2023"
         ],
         "xaxis": "x3",
         "y": {
          "bdata": "30+Nl24S0z/Qm4pUGFvmPw==",
          "dtype": "f8"
         },
         "yaxis": "y3"
        },
        {
         "hovertemplate": "Plant Type=Biomass<br>Period=2035<br>Source=%{x}<br>Capacity (GW)=%{y}<extra></extra>",
         "legendgroup": "Biomass",
         "marker": {
          "color": "#3366CC",
          "pattern": {
           "shape": ""
          }
         },
         "name": "Biomass",
         "orientation": "v",
         "showlegend": false,
         "textfont": {
          "size": 9
         },
         "textposition": "auto",
         "texttemplate": "%{y:.1f}",
         "type": "bar",
         "x": [
          "CANOE",
          "CEF2023"
         ],
         "xaxis": "x4",
         "y": {
          "bdata": "30+Nl24S0z/Qm4pUGFvmPw==",
          "dtype": "f8"
         },
         "yaxis": "y4"
        },
        {
         "hovertemplate": "Plant Type=Biomass<br>Period=2040<br>Source=%{x}<br>Capacity (GW)=%{y}<extra></extra>",
         "legendgroup": "Biomass",
         "marker": {
          "color": "#3366CC",
          "pattern": {
           "shape": ""
          }
         },
         "name": "Biomass",
         "orientation": "v",
         "showlegend": false,
         "textfont": {
          "size": 9
         },
         "textposition": "auto",
         "texttemplate": "%{y:.1f}",
         "type": "bar",
         "x": [
          "CANOE",
          "CEF2023"
         ],
         "xaxis": "x5",
         "y": {
          "bdata": "30+Nl24S0z/Qm4pUGFvmPw==",
          "dtype": "f8"
         },
         "yaxis": "y5"
        },
        {
         "hovertemplate": "Plant Type=Biomass<br>Period=2045<br>Source=%{x}<br>Capacity (GW)=%{y}<extra></extra>",
         "legendgroup": "Biomass",
         "marker": {
          "color": "#3366CC",
          "pattern": {
           "shape": ""
          }
         },
         "name": "Biomass",
         "orientation": "v",
         "showlegend": false,
         "textfont": {
          "size": 9
         },
         "textposition": "auto",
         "texttemplate": "%{y:.1f}",
         "type": "bar",
         "x": [
          "CANOE",
          "CEF2023"
         ],
         "xaxis": "x6",
         "y": {
          "bdata": "pHA9Ctej0D/Qm4pUGFvmPw==",
          "dtype": "f8"
         },
         "yaxis": "y6"
        },
        {
         "hovertemplate": "Plant Type=Biomass<br>Period=2050<br>Source=%{x}<br>Capacity (GW)=%{y}<extra></extra>",
         "legendgroup": "Biomass",
         "marker": {
          "color": "#3366CC",
          "pattern": {
           "shape": ""
          }
         },
         "name": "Biomass",
         "orientation": "v",
         "showlegend": false,
         "textfont": {
          "size": 9
         },
         "textposition": "auto",
         "texttemplate": "%{y:.1f}",
         "type": "bar",
         "x": [
          "CANOE",
          "CEF2023"
         ],
         "xaxis": "x7",
         "y": {
          "bdata": "pHA9Ctej0D/Qm4pUGFvmPw==",
          "dtype": "f8"
         },
         "yaxis": "y7"
        },
        {
         "hovertemplate": "Plant Type=Hydro<br>Period=2021<br>Source=%{x}<br>Capacity (GW)=%{y}<extra></extra>",
         "legendgroup": "Hydro",
         "marker": {
          "color": "#DC3912",
          "pattern": {
           "shape": ""
          }
         },
         "name": "Hydro",
         "orientation": "v",
         "showlegend": true,
         "textfont": {
          "size": 9
         },
         "textposition": "auto",
         "texttemplate": "%{y:.1f}",
         "type": "bar",
         "x": [
          "CANOE",
          "CEF2023",
          "gTech-IESD"
         ],
         "xaxis": "x",
         "y": {
          "bdata": "uI0G8BaIG0D0N6EQAYciQHwL68a7CyJA",
          "dtype": "f8"
         },
         "yaxis": "y"
        },
        {
         "hovertemplate": "Plant Type=Hydro<br>Period=2025<br>Source=%{x}<br>Capacity (GW)=%{y}<extra></extra>",
         "legendgroup": "Hydro",
         "marker": {
          "color": "#DC3912",
          "pattern": {
           "shape": ""
          }
         },
         "name": "Hydro",
         "orientation": "v",
         "showlegend": false,
         "textfont": {
          "size": 9
         },
         "textposition": "auto",
         "texttemplate": "%{y:.1f}",
         "type": "bar",
         "x": [
          "CANOE",
          "CEF2023",
          "gTech-IESD"
         ],
         "xaxis": "x2",
         "y": {
          "bdata": "uI0G8BaIG0D0N6EQAYciQHwL68a7CyJA",
          "dtype": "f8"
         },
         "yaxis": "y2"
        },
        {
         "hovertemplate": "Plant Type=Hydro<br>Period=2030<br>Source=%{x}<br>Capacity (GW)=%{y}<extra></extra>",
         "legendgroup": "Hydro",
         "marker": {
          "color": "#DC3912",
          "pattern": {
           "shape": ""
          }
         },
         "name": "Hydro",
         "orientation": "v",
         "showlegend": false,
         "textfont": {
          "size": 9
         },
         "textposition": "auto",
         "texttemplate": "%{y:.1f}",
         "type": "bar",
         "x": [
          "CANOE",
          "CEF2023",
          "gTech-IESD"
         ],
         "xaxis": "x3",
         "y": {
          "bdata": "uI0G8BaIG0D0N6EQAYciQHwL68a7CyJA",
          "dtype": "f8"
         },
         "yaxis": "y3"
        },
        {
         "hovertemplate": "Plant Type=Hydro<br>Period=2035<br>Source=%{x}<br>Capacity (GW)=%{y}<extra></extra>",
         "legendgroup": "Hydro",
         "marker": {
          "color": "#DC3912",
          "pattern": {
           "shape": ""
          }
         },
         "name": "Hydro",
         "orientation": "v",
         "showlegend": false,
         "textfont": {
          "size": 9
         },
         "textposition": "auto",
         "texttemplate": "%{y:.1f}",
         "type": "bar",
         "x": [
          "CANOE",
          "CEF2023",
          "gTech-IESD"
         ],
         "xaxis": "x4",
         "y": {
          "bdata": "uI0G8BaIG0D0N6EQAYciQHwL68a7CyJA",
          "dtype": "f8"
         },
         "yaxis": "y4"
        },
        {
         "hovertemplate": "Plant Type=Hydro<br>Period=2040<br>Source=%{x}<br>Capacity (GW)=%{y}<extra></extra>",
         "legendgroup": "Hydro",
         "marker": {
          "color": "#DC3912",
          "pattern": {
           "shape": ""
          }
         },
         "name": "Hydro",
         "orientation": "v",
         "showlegend": false,
         "textfont": {
          "size": 9
         },
         "textposition": "auto",
         "texttemplate": "%{y:.1f}",
         "type": "bar",
         "x": [
          "CANOE",
          "CEF2023",
          "gTech-IESD"
         ],
         "xaxis": "x5",
         "y": {
          "bdata": "uI0G8BaIG0D0N6EQAYciQHwL68a7CyJA",
          "dtype": "f8"
         },
         "yaxis": "y5"
        },
        {
         "hovertemplate": "Plant Type=Hydro<br>Period=2045<br>Source=%{x}<br>Capacity (GW)=%{y}<extra></extra>",
         "legendgroup": "Hydro",
         "marker": {
          "color": "#DC3912",
          "pattern": {
           "shape": ""
          }
         },
         "name": "Hydro",
         "orientation": "v",
         "showlegend": false,
         "textfont": {
          "size": 9
         },
         "textposition": "auto",
         "texttemplate": "%{y:.1f}",
         "type": "bar",
         "x": [
          "CANOE",
          "CEF2023",
          "gTech-IESD"
         ],
         "xaxis": "x6",
         "y": {
          "bdata": "uI0G8BaIG0D0N6EQAYciQHwL68a7CyJA",
          "dtype": "f8"
         },
         "yaxis": "y6"
        },
        {
         "hovertemplate": "Plant Type=Hydro<br>Period=2050<br>Source=%{x}<br>Capacity (GW)=%{y}<extra></extra>",
         "legendgroup": "Hydro",
         "marker": {
          "color": "#DC3912",
          "pattern": {
           "shape": ""
          }
         },
         "name": "Hydro",
         "orientation": "v",
         "showlegend": false,
         "textfont": {
          "size": 9
         },
         "textposition": "auto",
         "texttemplate": "%{y:.1f}",
         "type": "bar",
         "x": [
          "CANOE",
          "CEF2023",
          "gTech-IESD"
         ],
         "xaxis": "x7",
         "y": {
          "bdata": "uI0G8BaIG0D0N6EQAYciQHwL68a7CyJA",
          "dtype": "f8"
         },
         "yaxis": "y7"
        },
        {
         "hovertemplate": "Plant Type=Natural Gas<br>Period=2021<br>Source=%{x}<br>Capacity (GW)=%{y}<extra></extra>",
         "legendgroup": "Natural Gas",
         "marker": {
          "color": "#FF9900",
          "pattern": {
           "shape": ""
          }
         },
         "name": "Natural Gas",
         "orientation": "v",
         "showlegend": true,
         "textfont": {
          "size": 9
         },
         "textposition": "auto",
         "texttemplate": "%{y:.1f}",
         "type": "bar",
         "x": [
          "CANOE",
          "CEF2023",
          "gTech-IESD"
         ],
         "xaxis": "x",
         "y": {
          "bdata": "3VLnlWkKP0CDo+TVOXYhQJfTdRNCwyFA",
          "dtype": "f8"
         },
         "yaxis": "y"
        },
        {
         "hovertemplate": "Plant Type=Natural Gas<br>Period=2025<br>Source=%{x}<br>Capacity (GW)=%{y}<extra></extra>",
         "legendgroup": "Natural Gas",
         "marker": {
          "color": "#FF9900",
          "pattern": {
           "shape": ""
          }
         },
         "name": "Natural Gas",
         "orientation": "v",
         "showlegend": false,
         "textfont": {
          "size": 9
         },
         "textposition": "auto",
         "texttemplate": "%{y:.1f}",
         "type": "bar",
         "x": [
          "CANOE",
          "CEF2023",
          "gTech-IESD"
         ],
         "xaxis": "x2",
         "y": {
          "bdata": "FhTUjCEfRkAgV3YD/XsiQJfTdRNCwyFA",
          "dtype": "f8"
         },
         "yaxis": "y2"
        },
        {
         "hovertemplate": "Plant Type=Natural Gas<br>Period=2030<br>Source=%{x}<br>Capacity (GW)=%{y}<extra></extra>",
         "legendgroup": "Natural Gas",
         "marker": {
          "color": "#FF9900",
          "pattern": {
           "shape": ""
          }
         },
         "name": "Natural Gas",
         "orientation": "v",
         "showlegend": false,
         "textfont": {
          "size": 9
         },
         "textposition": "auto",
         "texttemplate": "%{y:.1f}",
         "type": "bar",
         "x": [
          "CANOE",
          "CEF2023",
          "gTech-IESD"
         ],
         "xaxis": "x3",
         "y": {
          "bdata": "rOyB5nd0TkB1LoCe/NsnQFPIavq5Px5A",
          "dtype": "f8"
         },
         "yaxis": "y3"
        },
        {
         "hovertemplate": "Plant Type=Natural Gas<br>Period=2035<br>Source=%{x}<br>Capacity (GW)=%{y}<extra></extra>",
         "legendgroup": "Natural Gas",
         "marker": {
          "color": "#FF9900",
          "pattern": {
           "shape": ""
          }
         },
         "name": "Natural Gas",
         "orientation": "v",
         "showlegend": false,
         "textfont": {
          "size": 9
         },
         "textposition": "auto",
         "texttemplate": "%{y:.1f}",
         "type": "bar",
         "x": [
          "CANOE",
          "CEF2023",
          "gTech-IESD"
         ],
         "xaxis": "x4",
         "y": {
          "bdata": "ppYuTAgDUkAnMH/08wIvQFPIavq5Px5A",
          "dtype": "f8"
         },
         "yaxis": "y4"
        },
        {
         "hovertemplate": "Plant Type=Natural Gas<br>Period=2040<br>Source=%{x}<br>Capacity (GW)=%{y}<extra></extra>",
         "legendgroup": "Natural Gas",
         "marker": {
          "color": "#FF9900",
          "pattern": {
           "shape": ""
          }
         },
         "name": "Natural Gas",
         "orientation": "v",
         "showlegend": false,
         "textfont": {
          "size": 9
         },
         "textposition": "auto",
         "texttemplate": "%{y:.1f}",
         "type": "bar",
         "x": [
          "CANOE",
          "CEF2023",
          "gTech-IESD"
         ],
         "xaxis": "x5",
         "y": {
          "bdata": "msZg1merVEAopo74ykEwQFPIavq5Px5A",
          "dtype": "f8"
         },
         "yaxis": "y5"
        },
        {
         "hovertemplate": "Plant Type=Natural Gas<br>Period=2045<br>Source=%{x}<br>Capacity (GW)=%{y}<extra></extra>",
         "legendgroup": "Natural Gas",
         "marker": {
          "color": "#FF9900",
          "pattern": {
           "shape": ""
          }
         },
         "name": "Natural Gas",
         "orientation": "v",
         "showlegend": false,
         "textfont": {
          "size": 9
         },
         "textposition": "auto",
         "texttemplate": "%{y:.1f}",
         "type": "bar",
         "x": [
          "CANOE",
          "CEF2023",
          "gTech-IESD"
         ],
         "xaxis": "x6",
         "y": {
          "bdata": "eT+VhiZZV0CAM9ikQMAxQD4iIgxueR5A",
          "dtype": "f8"
         },
         "yaxis": "y6"
        },
        {
         "hovertemplate": "Plant Type=Natural Gas<br>Period=2050<br>Source=%{x}<br>Capacity (GW)=%{y}<extra></extra>",
         "legendgroup": "Natural Gas",
         "marker": {
          "color": "#FF9900",
          "pattern": {
           "shape": ""
          }
         },
         "name": "Natural Gas",
         "orientation": "v",
         "showlegend": false,
         "textfont": {
          "size": 9
         },
         "textposition": "auto",
         "texttemplate": "%{y:.1f}",
         "type": "bar",
         "x": [
          "CANOE",
          "CEF2023",
          "gTech-IESD"
         ],
         "xaxis": "x7",
         "y": {
          "bdata": "ytZucP8CWkCrXMSLC38wQDe+56FlDSFA",
          "dtype": "f8"
         },
         "yaxis": "y7"
        },
        {
         "hovertemplate": "Plant Type=Nuclear<br>Period=2021<br>Source=%{x}<br>Capacity (GW)=%{y}<extra></extra>",
         "legendgroup": "Nuclear",
         "marker": {
          "color": "#109618",
          "pattern": {
           "shape": ""
          }
         },
         "name": "Nuclear",
         "orientation": "v",
         "showlegend": true,
         "textfont": {
          "size": 9
         },
         "textposition": "auto",
         "texttemplate": "%{y:.1f}",
         "type": "bar",
         "x": [
          "CANOE",
          "CEF2023",
          "gTech-IESD"
         ],
         "xaxis": "x",
         "y": {
          "bdata": "Gy/dJAbBJEDD9Shcj8IoQFYOLbKdryhA",
          "dtype": "f8"
         },
         "yaxis": "y"
        },
        {
         "hovertemplate": "Plant Type=Nuclear<br>Period=2025<br>Source=%{x}<br>Capacity (GW)=%{y}<extra></extra>",
         "legendgroup": "Nuclear",
         "marker": {
          "color": "#109618",
          "pattern": {
           "shape": ""
          }
         },
         "name": "Nuclear",
         "orientation": "v",
         "showlegend": false,
         "textfont": {
          "size": 9
         },
         "textposition": "auto",
         "texttemplate": "%{y:.1f}",
         "type": "bar",
         "x": [
          "CANOE",
          "CEF2023",
          "gTech-IESD"
         ],
         "xaxis": "x2",
         "y": {
          "bdata": "Gy/dJAbBJECkcD0K1+MmQJqZmZmZWSVA",
          "dtype": "f8"
         },
         "yaxis": "y2"
        },
        {
         "hovertemplate": "Plant Type=Nuclear<br>Period=2030<br>Source=%{x}<br>Capacity (GW)=%{y}<extra></extra>",
         "legendgroup": "Nuclear",
         "marker": {
          "color": "#109618",
          "pattern": {
           "shape": ""
          }
         },
         "name": "Nuclear",
         "orientation": "v",
         "showlegend": false,
         "textfont": {
          "size": 9
         },
         "textposition": "auto",
         "texttemplate": "%{y:.1f}",
         "type": "bar",
         "x": [
          "CANOE",
          "CEF2023",
          "gTech-IESD"
         ],
         "xaxis": "x3",
         "y": {
          "bdata": "mpmZmZkZHUC4HoXrUbgkQC/dJAaBFSNA",
          "dtype": "f8"
         },
         "yaxis": "y3"
        },
        {
         "hovertemplate": "Plant Type=Nuclear<br>Period=2035<br>Source=%{x}<br>Capacity (GW)=%{y}<extra></extra>",
         "legendgroup": "Nuclear",
         "marker": {
          "color": "#109618",
          "pattern": {
           "shape": ""
          }
         },
         "name": "Nuclear",
         "orientation": "v",
         "showlegend": false,
         "textfont": {
          "size": 9
         },
         "textposition": "auto",
         "texttemplate": "%{y:.1f}",
         "type": "bar",
         "x": [
          "CANOE",
          "CEF2023",
          "gTech-IESD"
         ],
         "xaxis": "x4",
         "y": {
          "bdata": "ke18PzXeFkBmZmZmZmYmQP7UeOkm8SNA",
          "dtype": "f8"
         },
         "yaxis": "y4"
        },
        {
         "hovertemplate": "Plant Type=Nuclear<br>Period=2040<br>Source=%{x}<br>Capacity (GW)=%{y}<extra></extra>",
         "legendgroup": "Nuclear",
         "marker": {
          "color": "#109618",
          "pattern": {
           "shape": ""
          }
         },
         "name": "Nuclear",
         "orientation": "v",
         "showlegend": false,
         "textfont": {
          "size": 9
         },
         "textposition": "auto",
         "texttemplate": "%{y:.1f}",
         "type": "bar",
         "x": [
          "CANOE",
          "CEF2023",
          "gTech-IESD"
         ],
         "xaxis": "x5",
         "y": {
          "bdata": "f2q8dJOYEEBmZmZmZmYmQM3MzMzMzCRA",
          "dtype": "f8"
         },
         "yaxis": "y5"
        },
        {
         "hovertemplate": "Plant Type=Nuclear<br>Period=2045<br>Source=%{x}<br>Capacity (GW)=%{y}<extra></extra>",
         "legendgroup": "Nuclear",
         "marker": {
          "color": "#109618",
          "pattern": {
           "shape": ""
          }
         },
         "name": "Nuclear",
         "orientation": "v",
         "showlegend": false,
         "textfont": {
          "size": 9
         },
         "textposition": "auto",
         "texttemplate": "%{y:.1f}",
         "type": "bar",
         "x": [
          "CANOE",
          "CEF2023",
          "gTech-IESD"
         ],
         "xaxis": "x6",
         "y": {
          "bdata": "/tR46SYx7D9mZmZmZmYmQM3MzMzMzCRA",
          "dtype": "f8"
         },
         "yaxis": "y6"
        },
        {
         "hovertemplate": "Plant Type=Nuclear<br>Period=2050<br>Source=%{x}<br>Capacity (GW)=%{y}<extra></extra>",
         "legendgroup": "Nuclear",
         "marker": {
          "color": "#109618",
          "pattern": {
           "shape": ""
          }
         },
         "name": "Nuclear",
         "orientation": "v",
         "showlegend": false,
         "textfont": {
          "size": 9
         },
         "textposition": "auto",
         "texttemplate": "%{y:.1f}",
         "type": "bar",
         "x": [
          "CANOE",
          "CEF2023",
          "gTech-IESD"
         ],
         "xaxis": "x7",
         "y": {
          "bdata": "/tR46SYx7D9mZmZmZmYmQM3MzMzMzCRA",
          "dtype": "f8"
         },
         "yaxis": "y7"
        },
        {
         "hovertemplate": "Plant Type=Solar<br>Period=2021<br>Source=%{x}<br>Capacity (GW)=%{y}<extra></extra>",
         "legendgroup": "Solar",
         "marker": {
          "color": "#990099",
          "pattern": {
           "shape": ""
          }
         },
         "name": "Solar",
         "orientation": "v",
         "showlegend": true,
         "textfont": {
          "size": 9
         },
         "textposition": "auto",
         "texttemplate": "%{y:.1f}",
         "type": "bar",
         "x": [
          "CANOE",
          "CEF2023",
          "gTech-IESD"
         ],
         "xaxis": "x",
         "y": {
          "bdata": "/BVfxLyX3j9e1y/YDVsFQNlzYBSgiAJA",
          "dtype": "f8"
         },
         "yaxis": "y"
        },
        {
         "hovertemplate": "Plant Type=Solar<br>Period=2025<br>Source=%{x}<br>Capacity (GW)=%{y}<extra></extra>",
         "legendgroup": "Solar",
         "marker": {
          "color": "#990099",
          "pattern": {
           "shape": ""
          }
         },
         "name": "Solar",
         "orientation": "v",
         "showlegend": false,
         "textfont": {
          "size": 9
         },
         "textposition": "auto",
         "texttemplate": "%{y:.1f}",
         "type": "bar",
         "x": [
          "CANOE",
          "CEF2023",
          "gTech-IESD"
         ],
         "xaxis": "x2",
         "y": {
          "bdata": "uxgxVPSX3j9e1y/YDVsFQDDvRiatZhBA",
          "dtype": "f8"
         },
         "yaxis": "y2"
        },
        {
         "hovertemplate": "Plant Type=Solar<br>Period=2030<br>Source=%{x}<br>Capacity (GW)=%{y}<extra></extra>",
         "legendgroup": "Solar",
         "marker": {
          "color": "#990099",
          "pattern": {
           "shape": ""
          }
         },
         "name": "Solar",
         "orientation": "v",
         "showlegend": false,
         "textfont": {
          "size": 9
         },
         "textposition": "auto",
         "texttemplate": "%{y:.1f}",
         "type": "bar",
         "x": [
          "CANOE",
          "CEF2023",
          "gTech-IESD"
         ],
         "xaxis": "x3",
         "y": {
          "bdata": "arY0yESa3j9e1y/YDVsFQOVHFSjWPSZA",
          "dtype": "f8"
         },
         "yaxis": "y3"
        },
        {
         "hovertemplate": "Plant Type=Solar<br>Period=2035<br>Source=%{x}<br>Capacity (GW)=%{y}<extra></extra>",
         "legendgroup": "Solar",
         "marker": {
          "color": "#990099",
          "pattern": {
           "shape": ""
          }
         },
         "name": "Solar",
         "orientation": "v",
         "showlegend": false,
         "textfont": {
          "size": 9
         },
         "textposition": "auto",
         "texttemplate": "%{y:.1f}",
         "type": "bar",
         "x": [
          "CANOE",
          "CEF2023",
          "gTech-IESD"
         ],
         "xaxis": "x4",
         "y": {
          "bdata": "X0tV5kUUIUBe1y/YDVsFQMus1nAuZS1A",
          "dtype": "f8"
         },
         "yaxis": "y4"
        },
        {
         "hovertemplate": "Plant Type=Solar<br>Period=2040<br>Source=%{x}<br>Capacity (GW)=%{y}<extra></extra>",
         "legendgroup": "Solar",
         "marker": {
          "color": "#990099",
          "pattern": {
           "shape": ""
          }
         },
         "name": "Solar",
         "orientation": "v",
         "showlegend": false,
         "textfont": {
          "size": 9
         },
         "textposition": "auto",
         "texttemplate": "%{y:.1f}",
         "type": "bar",
         "x": [
          "CANOE",
          "CEF2023",
          "gTech-IESD"
         ],
         "xaxis": "x5",
         "y": {
          "bdata": "m0EIhnMUIUBe1y/YDVsFQBzjN0N5BzRA",
          "dtype": "f8"
         },
         "yaxis": "y5"
        },
        {
         "hovertemplate": "Plant Type=Solar<br>Period=2045<br>Source=%{x}<br>Capacity (GW)=%{y}<extra></extra>",
         "legendgroup": "Solar",
         "marker": {
          "color": "#990099",
          "pattern": {
           "shape": ""
          }
         },
         "name": "Solar",
         "orientation": "v",
         "showlegend": false,
         "textfont": {
          "size": 9
         },
         "textposition": "auto",
         "texttemplate": "%{y:.1f}",
         "type": "bar",
         "x": [
          "CANOE",
          "CEF2023",
          "gTech-IESD"
         ],
         "xaxis": "x6",
         "y": {
          "bdata": "GYYpqgFSIEARp0IldlkWQBYL8JvKoz1A",
          "dtype": "f8"
         },
         "yaxis": "y6"
        },
        {
         "hovertemplate": "Plant Type=Solar<br>Period=2050<br>Source=%{x}<br>Capacity (GW)=%{y}<extra></extra>",
         "legendgroup": "Solar",
         "marker": {
          "color": "#990099",
          "pattern": {
           "shape": ""
          }
         },
         "name": "Solar",
         "orientation": "v",
         "showlegend": false,
         "textfont": {
          "size": 9
         },
         "textposition": "auto",
         "texttemplate": "%{y:.1f}",
         "type": "bar",
         "x": [
          "CANOE",
          "CEF2023",
          "gTech-IESD"
         ],
         "xaxis": "x7",
         "y": {
          "bdata": "+qP9ACWnJUA0NbXeArUdQAFS9vErU0NA",
          "dtype": "f8"
         },
         "yaxis": "y7"
        },
        {
         "hovertemplate": "Plant Type=Wind<br>Period=2021<br>Source=%{x}<br>Capacity (GW)=%{y}<extra></extra>",
         "legendgroup": "Wind",
         "marker": {
          "color": "#0099C6",
          "pattern": {
           "shape": ""
          }
         },
         "name": "Wind",
         "orientation": "v",
         "showlegend": true,
         "textfont": {
          "size": 9
         },
         "textposition": "auto",
         "texttemplate": "%{y:.1f}",
         "type": "bar",
         "x": [
          "CANOE",
          "CEF2023",
          "gTech-IESD"
         ],
         "xaxis": "x",
         "y": {
          "bdata": "BQUw8H1CEkDM7snDQk0WQFjFG5lHvhVA",
          "dtype": "f8"
         },
         "yaxis": "y"
        },
        {
         "hovertemplate": "Plant Type=Wind<br>Period=2025<br>Source=%{x}<br>Capacity (GW)=%{y}<extra></extra>",
         "legendgroup": "Wind",
         "marker": {
          "color": "#0099C6",
          "pattern": {
           "shape": ""
          }
         },
         "name": "Wind",
         "orientation": "v",
         "showlegend": false,
         "textfont": {
          "size": 9
         },
         "textposition": "auto",
         "texttemplate": "%{y:.1f}",
         "type": "bar",
         "x": [
          "CANOE",
          "CEF2023",
          "gTech-IESD"
         ],
         "xaxis": "x2",
         "y": {
          "bdata": "YP+MPHc8G0DM7snDQk0WQFjFG5lHvhVA",
          "dtype": "f8"
         },
         "yaxis": "y2"
        },
        {
         "hovertemplate": "Plant Type=Wind<br>Period=2030<br>Source=%{x}<br>Capacity (GW)=%{y}<extra></extra>",
         "legendgroup": "Wind",
         "marker": {
          "color": "#0099C6",
          "pattern": {
           "shape": ""
          }
         },
         "name": "Wind",
         "orientation": "v",
         "showlegend": false,
         "textfont": {
          "size": 9
         },
         "textposition": "auto",
         "texttemplate": "%{y:.1f}",
         "type": "bar",
         "x": [
          "CANOE",
          "CEF2023",
          "gTech-IESD"
         ],
         "xaxis": "x3",
         "y": {
          "bdata": "g1gnmU32MEBzboU/hCofQPlOBia7WyBA",
          "dtype": "f8"
         },
         "yaxis": "y3"
        },
        {
         "hovertemplate": "Plant Type=Wind<br>Period=2035<br>Source=%{x}<br>Capacity (GW)=%{y}<extra></extra>",
         "legendgroup": "Wind",
         "marker": {
          "color": "#0099C6",
          "pattern": {
           "shape": ""
          }
         },
         "name": "Wind",
         "orientation": "v",
         "showlegend": false,
         "textfont": {
          "size": 9
         },
         "textposition": "auto",
         "texttemplate": "%{y:.1f}",
         "type": "bar",
         "x": [
          "CANOE",
          "CEF2023",
          "gTech-IESD"
         ],
         "xaxis": "x4",
         "y": {
          "bdata": "fH8V4tt7MkClIUNzkCIkQIOoueTRlCRA",
          "dtype": "f8"
         },
         "yaxis": "y4"
        },
        {
         "hovertemplate": "Plant Type=Wind<br>Period=2040<br>Source=%{x}<br>Capacity (GW)=%{y}<extra></extra>",
         "legendgroup": "Wind",
         "marker": {
          "color": "#0099C6",
          "pattern": {
           "shape": ""
          }
         },
         "name": "Wind",
         "orientation": "v",
         "showlegend": false,
         "textfont": {
          "size": 9
         },
         "textposition": "auto",
         "texttemplate": "%{y:.1f}",
         "type": "bar",
         "x": [
          "CANOE",
          "CEF2023",
          "gTech-IESD"
         ],
         "xaxis": "x5",
         "y": {
          "bdata": "c9/4/2YpMUBXVkab60QzQDDNOgQKMipA",
          "dtype": "f8"
         },
         "yaxis": "y5"
        },
        {
         "hovertemplate": "Plant Type=Wind<br>Period=2045<br>Source=%{x}<br>Capacity (GW)=%{y}<extra></extra>",
         "legendgroup": "Wind",
         "marker": {
          "color": "#0099C6",
          "pattern": {
           "shape": ""
          }
         },
         "name": "Wind",
         "orientation": "v",
         "showlegend": false,
         "textfont": {
          "size": 9
         },
         "textposition": "auto",
         "texttemplate": "%{y:.1f}",
         "type": "bar",
         "x": [
          "CANOE",
          "CEF2023",
          "gTech-IESD"
         ],
         "xaxis": "x6",
         "y": {
          "bdata": "ooffSX0cLUA44fH4jh84QLqOJzirSi9A",
          "dtype": "f8"
         },
         "yaxis": "y6"
        },
        {
         "hovertemplate": "Plant Type=Wind<br>Period=2050<br>Source=%{x}<br>Capacity (GW)=%{y}<extra></extra>",
         "legendgroup": "Wind",
         "marker": {
          "color": "#0099C6",
          "pattern": {
           "shape": ""
          }
         },
         "name": "Wind",
         "orientation": "v",
         "showlegend": false,
         "textfont": {
          "size": 9
         },
         "textposition": "auto",
         "texttemplate": "%{y:.1f}",
         "type": "bar",
         "x": [
          "CANOE",
          "CEF2023",
          "gTech-IESD"
         ],
         "xaxis": "x7",
         "y": {
          "bdata": "o3Ghl9ClLEDdCxtJJYo6QPKKM8hVajFA",
          "dtype": "f8"
         },
         "yaxis": "y7"
        },
        {
         "hovertemplate": "Plant Type=Oil<br>Period=2021<br>Source=%{x}<br>Capacity (GW)=%{y}<extra></extra>",
         "legendgroup": "Oil",
         "marker": {
          "color": "#DD4477",
          "pattern": {
           "shape": ""
          }
         },
         "name": "Oil",
         "orientation": "v",
         "showlegend": true,
         "textfont": {
          "size": 9
         },
         "textposition": "auto",
         "texttemplate": "%{y:.1f}",
         "type": "bar",
         "x": [
          "CEF2023"
         ],
         "xaxis": "x",
         "y": {
          "bdata": "8x/Sb18H0D8=",
          "dtype": "f8"
         },
         "yaxis": "y"
        },
        {
         "hovertemplate": "Plant Type=Oil<br>Period=2025<br>Source=%{x}<br>Capacity (GW)=%{y}<extra></extra>",
         "legendgroup": "Oil",
         "marker": {
          "color": "#DD4477",
          "pattern": {
           "shape": ""
          }
         },
         "name": "Oil",
         "orientation": "v",
         "showlegend": false,
         "textfont": {
          "size": 9
         },
         "textposition": "auto",
         "texttemplate": "%{y:.1f}",
         "type": "bar",
         "x": [
          "CEF2023"
         ],
         "xaxis": "x2",
         "y": {
          "bdata": "8x/Sb18H0D8=",
          "dtype": "f8"
         },
         "yaxis": "y2"
        },
        {
         "hovertemplate": "Plant Type=Oil<br>Period=2030<br>Source=%{x}<br>Capacity (GW)=%{y}<extra></extra>",
         "legendgroup": "Oil",
         "marker": {
          "color": "#DD4477",
          "pattern": {
           "shape": ""
          }
         },
         "name": "Oil",
         "orientation": "v",
         "showlegend": false,
         "textfont": {
          "size": 9
         },
         "textposition": "auto",
         "texttemplate": "%{y:.1f}",
         "type": "bar",
         "x": [
          "CEF2023"
         ],
         "xaxis": "x3",
         "y": {
          "bdata": "8x/Sb18H0D8=",
          "dtype": "f8"
         },
         "yaxis": "y3"
        },
        {
         "hovertemplate": "Plant Type=Oil<br>Period=2035<br>Source=%{x}<br>Capacity (GW)=%{y}<extra></extra>",
         "legendgroup": "Oil",
         "marker": {
          "color": "#DD4477",
          "pattern": {
           "shape": ""
          }
         },
         "name": "Oil",
         "orientation": "v",
         "showlegend": false,
         "textfont": {
          "size": 9
         },
         "textposition": "auto",
         "texttemplate": "%{y:.1f}",
         "type": "bar",
         "x": [
          "CEF2023"
         ],
         "xaxis": "x4",
         "y": {
          "bdata": "rrZif9k9zT8=",
          "dtype": "f8"
         },
         "yaxis": "y4"
        },
        {
         "hovertemplate": "Plant Type=Oil<br>Period=2040<br>Source=%{x}<br>Capacity (GW)=%{y}<extra></extra>",
         "legendgroup": "Oil",
         "marker": {
          "color": "#DD4477",
          "pattern": {
           "shape": ""
          }
         },
         "name": "Oil",
         "orientation": "v",
         "showlegend": false,
         "textfont": {
          "size": 9
         },
         "textposition": "auto",
         "texttemplate": "%{y:.1f}",
         "type": "bar",
         "x": [
          "CEF2023"
         ],
         "xaxis": "x5",
         "y": {
          "bdata": "rrZif9k9zT8=",
          "dtype": "f8"
         },
         "yaxis": "y5"
        },
        {
         "hovertemplate": "Plant Type=Oil<br>Period=2045<br>Source=%{x}<br>Capacity (GW)=%{y}<extra></extra>",
         "legendgroup": "Oil",
         "marker": {
          "color": "#DD4477",
          "pattern": {
           "shape": ""
          }
         },
         "name": "Oil",
         "orientation": "v",
         "showlegend": false,
         "textfont": {
          "size": 9
         },
         "textposition": "auto",
         "texttemplate": "%{y:.1f}",
         "type": "bar",
         "x": [
          "CEF2023"
         ],
         "xaxis": "x6",
         "y": {
          "bdata": "rrZif9k9zT8=",
          "dtype": "f8"
         },
         "yaxis": "y6"
        },
        {
         "hovertemplate": "Plant Type=Oil<br>Period=2050<br>Source=%{x}<br>Capacity (GW)=%{y}<extra></extra>",
         "legendgroup": "Oil",
         "marker": {
          "color": "#DD4477",
          "pattern": {
           "shape": ""
          }
         },
         "name": "Oil",
         "orientation": "v",
         "showlegend": false,
         "textfont": {
          "size": 9
         },
         "textposition": "auto",
         "texttemplate": "%{y:.1f}",
         "type": "bar",
         "x": [
          "CEF2023"
         ],
         "xaxis": "x7",
         "y": {
          "bdata": "rrZif9k9zT8=",
          "dtype": "f8"
         },
         "yaxis": "y7"
        },
        {
         "hovertemplate": "Plant Type=Other<br>Period=2021<br>Source=%{x}<br>Capacity (GW)=%{y}<extra></extra>",
         "legendgroup": "Other",
         "marker": {
          "color": "#B82E2E",
          "pattern": {
           "shape": ""
          }
         },
         "name": "Other",
         "orientation": "v",
         "showlegend": true,
         "textfont": {
          "size": 9
         },
         "textposition": "auto",
         "texttemplate": "%{y:.1f}",
         "type": "bar",
         "x": [
          "gTech-IESD"
         ],
         "xaxis": "x",
         "y": {
          "bdata": "tM8QLzjh5T8=",
          "dtype": "f8"
         },
         "yaxis": "y"
        },
        {
         "hovertemplate": "Plant Type=Other<br>Period=2025<br>Source=%{x}<br>Capacity (GW)=%{y}<extra></extra>",
         "legendgroup": "Other",
         "marker": {
          "color": "#B82E2E",
          "pattern": {
           "shape": ""
          }
         },
         "name": "Other",
         "orientation": "v",
         "showlegend": false,
         "textfont": {
          "size": 9
         },
         "textposition": "auto",
         "texttemplate": "%{y:.1f}",
         "type": "bar",
         "x": [
          "gTech-IESD"
         ],
         "xaxis": "x2",
         "y": {
          "bdata": "L7W4X/Id+D8=",
          "dtype": "f8"
         },
         "yaxis": "y2"
        },
        {
         "hovertemplate": "Plant Type=Other<br>Period=2030<br>Source=%{x}<br>Capacity (GW)=%{y}<extra></extra>",
         "legendgroup": "Other",
         "marker": {
          "color": "#B82E2E",
          "pattern": {
           "shape": ""
          }
         },
         "name": "Other",
         "orientation": "v",
         "showlegend": false,
         "textfont": {
          "size": 9
         },
         "textposition": "auto",
         "texttemplate": "%{y:.1f}",
         "type": "bar",
         "x": [
          "gTech-IESD"
         ],
         "xaxis": "x3",
         "y": {
          "bdata": "QbrmA3q49z8=",
          "dtype": "f8"
         },
         "yaxis": "y3"
        },
        {
         "hovertemplate": "Plant Type=Other<br>Period=2035<br>Source=%{x}<br>Capacity (GW)=%{y}<extra></extra>",
         "legendgroup": "Other",
         "marker": {
          "color": "#B82E2E",
          "pattern": {
           "shape": ""
          }
         },
         "name": "Other",
         "orientation": "v",
         "showlegend": false,
         "textfont": {
          "size": 9
         },
         "textposition": "auto",
         "texttemplate": "%{y:.1f}",
         "type": "bar",
         "x": [
          "gTech-IESD"
         ],
         "xaxis": "x4",
         "y": {
          "bdata": "vIkohbxLAEA=",
          "dtype": "f8"
         },
         "yaxis": "y4"
        },
        {
         "hovertemplate": "Plant Type=Other<br>Period=2040<br>Source=%{x}<br>Capacity (GW)=%{y}<extra></extra>",
         "legendgroup": "Other",
         "marker": {
          "color": "#B82E2E",
          "pattern": {
           "shape": ""
          }
         },
         "name": "Other",
         "orientation": "v",
         "showlegend": false,
         "textfont": {
          "size": 9
         },
         "textposition": "auto",
         "texttemplate": "%{y:.1f}",
         "type": "bar",
         "x": [
          "gTech-IESD"
         ],
         "xaxis": "x5",
         "y": {
          "bdata": "bh/AyitqC0A=",
          "dtype": "f8"
         },
         "yaxis": "y5"
        },
        {
         "hovertemplate": "Plant Type=Other<br>Period=2045<br>Source=%{x}<br>Capacity (GW)=%{y}<extra></extra>",
         "legendgroup": "Other",
         "marker": {
          "color": "#B82E2E",
          "pattern": {
           "shape": ""
          }
         },
         "name": "Other",
         "orientation": "v",
         "showlegend": false,
         "textfont": {
          "size": 9
         },
         "textposition": "auto",
         "texttemplate": "%{y:.1f}",
         "type": "bar",
         "x": [
          "gTech-IESD"
         ],
         "xaxis": "x6",
         "y": {
          "bdata": "bSa5XLFCEEA=",
          "dtype": "f8"
         },
         "yaxis": "y6"
        },
        {
         "hovertemplate": "Plant Type=Other<br>Period=2050<br>Source=%{x}<br>Capacity (GW)=%{y}<extra></extra>",
         "legendgroup": "Other",
         "marker": {
          "color": "#B82E2E",
          "pattern": {
           "shape": ""
          }
         },
         "name": "Other",
         "orientation": "v",
         "showlegend": false,
         "textfont": {
          "size": 9
         },
         "textposition": "auto",
         "texttemplate": "%{y:.1f}",
         "type": "bar",
         "x": [
          "gTech-IESD"
         ],
         "xaxis": "x7",
         "y": {
          "bdata": "Xp/aVC1gEEA=",
          "dtype": "f8"
         },
         "yaxis": "y7"
        }
       ],
       "layout": {
        "annotations": [
         {
          "font": {},
          "showarrow": false,
          "text": "2021",
          "x": 0.06285714285714285,
          "xanchor": "center",
          "xref": "paper",
          "y": -0.1,
          "yanchor": "top",
          "yref": "paper"
         },
         {
          "font": {},
          "showarrow": false,
          "text": "2025",
          "x": 0.20857142857142852,
          "xanchor": "center",
          "xref": "paper",
          "y": -0.1,
          "yanchor": "top",
          "yref": "paper"
         },
         {
          "font": {},
          "showarrow": false,
          "text": "2030",
          "x": 0.3542857142857142,
          "xanchor": "center",
          "xref": "paper",
          "y": -0.1,
          "yanchor": "top",
          "yref": "paper"
         },
         {
          "font": {},
          "showarrow": false,
          "text": "2035",
          "x": 0.5,
          "xanchor": "center",
          "xref": "paper",
          "y": -0.1,
          "yanchor": "top",
          "yref": "paper"
         },
         {
          "font": {},
          "showarrow": false,
          "text": "2040",
          "x": 0.6457142857142856,
          "xanchor": "center",
          "xref": "paper",
          "y": -0.1,
          "yanchor": "top",
          "yref": "paper"
         },
         {
          "font": {},
          "showarrow": false,
          "text": "2045",
          "x": 0.7914285714285713,
          "xanchor": "center",
          "xref": "paper",
          "y": -0.1,
          "yanchor": "top",
          "yref": "paper"
         },
         {
          "font": {},
          "showarrow": false,
          "text": "2050",
          "x": 0.937142857142857,
          "xanchor": "center",
          "xref": "paper",
          "y": -0.1,
          "yanchor": "top",
          "yref": "paper"
         }
        ],
        "bargap": 0.1,
        "barmode": "stack",
        "font": {
         "size": 14
        },
        "height": 650,
        "legend": {
         "orientation": "h",
         "title": {
          "text": ""
         },
         "tracegroupgap": 0,
         "x": 0.5,
         "xanchor": "center",
         "y": 1.04,
         "yanchor": "top"
        },
        "margin": {
         "t": 60
        },
        "template": {
         "data": {
          "bar": [
           {
            "error_x": {
             "color": "#2a3f5f"
            },
            "error_y": {
             "color": "#2a3f5f"
            },
            "marker": {
             "line": {
              "color": "white",
              "width": 0.5
             },
             "pattern": {
              "fillmode": "overlay",
              "size": 10,
              "solidity": 0.2
             }
            },
            "type": "bar"
           }
          ],
          "barpolar": [
           {
            "marker": {
             "line": {
              "color": "white",
              "width": 0.5
             },
             "pattern": {
              "fillmode": "overlay",
              "size": 10,
              "solidity": 0.2
             }
            },
            "type": "barpolar"
           }
          ],
          "carpet": [
           {
            "aaxis": {
             "endlinecolor": "#2a3f5f",
             "gridcolor": "#C8D4E3",
             "linecolor": "#C8D4E3",
             "minorgridcolor": "#C8D4E3",
             "startlinecolor": "#2a3f5f"
            },
            "baxis": {
             "endlinecolor": "#2a3f5f",
             "gridcolor": "#C8D4E3",
             "linecolor": "#C8D4E3",
             "minorgridcolor": "#C8D4E3",
             "startlinecolor": "#2a3f5f"
            },
            "type": "carpet"
           }
          ],
          "choropleth": [
           {
            "colorbar": {
             "outlinewidth": 0,
             "ticks": ""
            },
            "type": "choropleth"
           }
          ],
          "contour": [
           {
            "colorbar": {
             "outlinewidth": 0,
             "ticks": ""
            },
            "colorscale": [
             [
              0,
              "#0d0887"
             ],
             [
              0.1111111111111111,
              "#46039f"
             ],
             [
              0.2222222222222222,
              "#7201a8"
             ],
             [
              0.3333333333333333,
              "#9c179e"
             ],
             [
              0.4444444444444444,
              "#bd3786"
             ],
             [
              0.5555555555555556,
              "#d8576b"
             ],
             [
              0.6666666666666666,
              "#ed7953"
             ],
             [
              0.7777777777777778,
              "#fb9f3a"
             ],
             [
              0.8888888888888888,
              "#fdca26"
             ],
             [
              1,
              "#f0f921"
             ]
            ],
            "type": "contour"
           }
          ],
          "contourcarpet": [
           {
            "colorbar": {
             "outlinewidth": 0,
             "ticks": ""
            },
            "type": "contourcarpet"
           }
          ],
          "heatmap": [
           {
            "colorbar": {
             "outlinewidth": 0,
             "ticks": ""
            },
            "colorscale": [
             [
              0,
              "#0d0887"
             ],
             [
              0.1111111111111111,
              "#46039f"
             ],
             [
              0.2222222222222222,
              "#7201a8"
             ],
             [
              0.3333333333333333,
              "#9c179e"
             ],
             [
              0.4444444444444444,
              "#bd3786"
             ],
             [
              0.5555555555555556,
              "#d8576b"
             ],
             [
              0.6666666666666666,
              "#ed7953"
             ],
             [
              0.7777777777777778,
              "#fb9f3a"
             ],
             [
              0.8888888888888888,
              "#fdca26"
             ],
             [
              1,
              "#f0f921"
             ]
            ],
            "type": "heatmap"
           }
          ],
          "histogram": [
           {
            "marker": {
             "pattern": {
              "fillmode": "overlay",
              "size": 10,
              "solidity": 0.2
             }
            },
            "type": "histogram"
           }
          ],
          "histogram2d": [
           {
            "colorbar": {
             "outlinewidth": 0,
             "ticks": ""
            },
            "colorscale": [
             [
              0,
              "#0d0887"
             ],
             [
              0.1111111111111111,
              "#46039f"
             ],
             [
              0.2222222222222222,
              "#7201a8"
             ],
             [
              0.3333333333333333,
              "#9c179e"
             ],
             [
              0.4444444444444444,
              "#bd3786"
             ],
             [
              0.5555555555555556,
              "#d8576b"
             ],
             [
              0.6666666666666666,
              "#ed7953"
             ],
             [
              0.7777777777777778,
              "#fb9f3a"
             ],
             [
              0.8888888888888888,
              "#fdca26"
             ],
             [
              1,
              "#f0f921"
             ]
            ],
            "type": "histogram2d"
           }
          ],
          "histogram2dcontour": [
           {
            "colorbar": {
             "outlinewidth": 0,
             "ticks": ""
            },
            "colorscale": [
             [
              0,
              "#0d0887"
             ],
             [
              0.1111111111111111,
              "#46039f"
             ],
             [
              0.2222222222222222,
              "#7201a8"
             ],
             [
              0.3333333333333333,
              "#9c179e"
             ],
             [
              0.4444444444444444,
              "#bd3786"
             ],
             [
              0.5555555555555556,
              "#d8576b"
             ],
             [
              0.6666666666666666,
              "#ed7953"
             ],
             [
              0.7777777777777778,
              "#fb9f3a"
             ],
             [
              0.8888888888888888,
              "#fdca26"
             ],
             [
              1,
              "#f0f921"
             ]
            ],
            "type": "histogram2dcontour"
           }
          ],
          "mesh3d": [
           {
            "colorbar": {
             "outlinewidth": 0,
             "ticks": ""
            },
            "type": "mesh3d"
           }
          ],
          "parcoords": [
           {
            "line": {
             "colorbar": {
              "outlinewidth": 0,
              "ticks": ""
             }
            },
            "type": "parcoords"
           }
          ],
          "pie": [
           {
            "automargin": true,
            "type": "pie"
           }
          ],
          "scatter": [
           {
            "fillpattern": {
             "fillmode": "overlay",
             "size": 10,
             "solidity": 0.2
            },
            "type": "scatter"
           }
          ],
          "scatter3d": [
           {
            "line": {
             "colorbar": {
              "outlinewidth": 0,
              "ticks": ""
             }
            },
            "marker": {
             "colorbar": {
              "outlinewidth": 0,
              "ticks": ""
             }
            },
            "type": "scatter3d"
           }
          ],
          "scattercarpet": [
           {
            "marker": {
             "colorbar": {
              "outlinewidth": 0,
              "ticks": ""
             }
            },
            "type": "scattercarpet"
           }
          ],
          "scattergeo": [
           {
            "marker": {
             "colorbar": {
              "outlinewidth": 0,
              "ticks": ""
             }
            },
            "type": "scattergeo"
           }
          ],
          "scattergl": [
           {
            "marker": {
             "colorbar": {
              "outlinewidth": 0,
              "ticks": ""
             }
            },
            "type": "scattergl"
           }
          ],
          "scattermap": [
           {
            "marker": {
             "colorbar": {
              "outlinewidth": 0,
              "ticks": ""
             }
            },
            "type": "scattermap"
           }
          ],
          "scattermapbox": [
           {
            "marker": {
             "colorbar": {
              "outlinewidth": 0,
              "ticks": ""
             }
            },
            "type": "scattermapbox"
           }
          ],
          "scatterpolar": [
           {
            "marker": {
             "colorbar": {
              "outlinewidth": 0,
              "ticks": ""
             }
            },
            "type": "scatterpolar"
           }
          ],
          "scatterpolargl": [
           {
            "marker": {
             "colorbar": {
              "outlinewidth": 0,
              "ticks": ""
             }
            },
            "type": "scatterpolargl"
           }
          ],
          "scatterternary": [
           {
            "marker": {
             "colorbar": {
              "outlinewidth": 0,
              "ticks": ""
             }
            },
            "type": "scatterternary"
           }
          ],
          "surface": [
           {
            "colorbar": {
             "outlinewidth": 0,
             "ticks": ""
            },
            "colorscale": [
             [
              0,
              "#0d0887"
             ],
             [
              0.1111111111111111,
              "#46039f"
             ],
             [
              0.2222222222222222,
              "#7201a8"
             ],
             [
              0.3333333333333333,
              "#9c179e"
             ],
             [
              0.4444444444444444,
              "#bd3786"
             ],
             [
              0.5555555555555556,
              "#d8576b"
             ],
             [
              0.6666666666666666,
              "#ed7953"
             ],
             [
              0.7777777777777778,
              "#fb9f3a"
             ],
             [
              0.8888888888888888,
              "#fdca26"
             ],
             [
              1,
              "#f0f921"
             ]
            ],
            "type": "surface"
           }
          ],
          "table": [
           {
            "cells": {
             "fill": {
              "color": "#EBF0F8"
             },
             "line": {
              "color": "white"
             }
            },
            "header": {
             "fill": {
              "color": "#C8D4E3"
             },
             "line": {
              "color": "white"
             }
            },
            "type": "table"
           }
          ]
         },
         "layout": {
          "annotationdefaults": {
           "arrowcolor": "#2a3f5f",
           "arrowhead": 0,
           "arrowwidth": 1
          },
          "autotypenumbers": "strict",
          "coloraxis": {
           "colorbar": {
            "outlinewidth": 0,
            "ticks": ""
           }
          },
          "colorscale": {
           "diverging": [
            [
             0,
             "#8e0152"
            ],
            [
             0.1,
             "#c51b7d"
            ],
            [
             0.2,
             "#de77ae"
            ],
            [
             0.3,
             "#f1b6da"
            ],
            [
             0.4,
             "#fde0ef"
            ],
            [
             0.5,
             "#f7f7f7"
            ],
            [
             0.6,
             "#e6f5d0"
            ],
            [
             0.7,
             "#b8e186"
            ],
            [
             0.8,
             "#7fbc41"
            ],
            [
             0.9,
             "#4d9221"
            ],
            [
             1,
             "#276419"
            ]
           ],
           "sequential": [
            [
             0,
             "#0d0887"
            ],
            [
             0.1111111111111111,
             "#46039f"
            ],
            [
             0.2222222222222222,
             "#7201a8"
            ],
            [
             0.3333333333333333,
             "#9c179e"
            ],
            [
             0.4444444444444444,
             "#bd3786"
            ],
            [
             0.5555555555555556,
             "#d8576b"
            ],
            [
             0.6666666666666666,
             "#ed7953"
            ],
            [
             0.7777777777777778,
             "#fb9f3a"
            ],
            [
             0.8888888888888888,
             "#fdca26"
            ],
            [
             1,
             "#f0f921"
            ]
           ],
           "sequentialminus": [
            [
             0,
             "#0d0887"
            ],
            [
             0.1111111111111111,
             "#46039f"
            ],
            [
             0.2222222222222222,
             "#7201a8"
            ],
            [
             0.3333333333333333,
             "#9c179e"
            ],
            [
             0.4444444444444444,
             "#bd3786"
            ],
            [
             0.5555555555555556,
             "#d8576b"
            ],
            [
             0.6666666666666666,
             "#ed7953"
            ],
            [
             0.7777777777777778,
             "#fb9f3a"
            ],
            [
             0.8888888888888888,
             "#fdca26"
            ],
            [
             1,
             "#f0f921"
            ]
           ]
          },
          "colorway": [
           "#636efa",
           "#EF553B",
           "#00cc96",
           "#ab63fa",
           "#FFA15A",
           "#19d3f3",
           "#FF6692",
           "#B6E880",
           "#FF97FF",
           "#FECB52"
          ],
          "font": {
           "color": "#2a3f5f"
          },
          "geo": {
           "bgcolor": "white",
           "lakecolor": "white",
           "landcolor": "white",
           "showlakes": true,
           "showland": true,
           "subunitcolor": "#C8D4E3"
          },
          "hoverlabel": {
           "align": "left"
          },
          "hovermode": "closest",
          "mapbox": {
           "style": "light"
          },
          "paper_bgcolor": "white",
          "plot_bgcolor": "white",
          "polar": {
           "angularaxis": {
            "gridcolor": "#EBF0F8",
            "linecolor": "#EBF0F8",
            "ticks": ""
           },
           "bgcolor": "white",
           "radialaxis": {
            "gridcolor": "#EBF0F8",
            "linecolor": "#EBF0F8",
            "ticks": ""
           }
          },
          "scene": {
           "xaxis": {
            "backgroundcolor": "white",
            "gridcolor": "#DFE8F3",
            "gridwidth": 2,
            "linecolor": "#EBF0F8",
            "showbackground": true,
            "ticks": "",
            "zerolinecolor": "#EBF0F8"
           },
           "yaxis": {
            "backgroundcolor": "white",
            "gridcolor": "#DFE8F3",
            "gridwidth": 2,
            "linecolor": "#EBF0F8",
            "showbackground": true,
            "ticks": "",
            "zerolinecolor": "#EBF0F8"
           },
           "zaxis": {
            "backgroundcolor": "white",
            "gridcolor": "#DFE8F3",
            "gridwidth": 2,
            "linecolor": "#EBF0F8",
            "showbackground": true,
            "ticks": "",
            "zerolinecolor": "#EBF0F8"
           }
          },
          "shapedefaults": {
           "line": {
            "color": "#2a3f5f"
           }
          },
          "ternary": {
           "aaxis": {
            "gridcolor": "#DFE8F3",
            "linecolor": "#A2B1C6",
            "ticks": ""
           },
           "baxis": {
            "gridcolor": "#DFE8F3",
            "linecolor": "#A2B1C6",
            "ticks": ""
           },
           "bgcolor": "white",
           "caxis": {
            "gridcolor": "#DFE8F3",
            "linecolor": "#A2B1C6",
            "ticks": ""
           }
          },
          "title": {
           "x": 0.05
          },
          "xaxis": {
           "automargin": true,
           "gridcolor": "#EBF0F8",
           "linecolor": "#EBF0F8",
           "ticks": "",
           "title": {
            "standoff": 15
           },
           "zerolinecolor": "#EBF0F8",
           "zerolinewidth": 2
          },
          "yaxis": {
           "automargin": true,
           "gridcolor": "#EBF0F8",
           "linecolor": "#EBF0F8",
           "ticks": "",
           "title": {
            "standoff": 15
           },
           "zerolinecolor": "#EBF0F8",
           "zerolinewidth": 2
          }
         }
        },
        "title": {
         "text": "Electricity generation capacity in ON by plant type and energy model",
         "x": 0.5,
         "xanchor": "center",
         "y": 0.97,
         "yanchor": "top"
        },
        "width": 1200,
        "xaxis": {
         "anchor": "y",
         "domain": [
          0,
          0.1257142857142857
         ],
         "title": {
          "text": ""
         }
        },
        "xaxis2": {
         "anchor": "y2",
         "domain": [
          0.14571428571428569,
          0.27142857142857135
         ],
         "matches": "x",
         "title": {
          "text": ""
         }
        },
        "xaxis3": {
         "anchor": "y3",
         "domain": [
          0.29142857142857137,
          0.41714285714285704
         ],
         "matches": "x",
         "title": {
          "text": ""
         }
        },
        "xaxis4": {
         "anchor": "y4",
         "domain": [
          0.4371428571428571,
          0.5628571428571428
         ],
         "matches": "x",
         "title": {
          "text": ""
         }
        },
        "xaxis5": {
         "anchor": "y5",
         "domain": [
          0.5828571428571427,
          0.7085714285714284
         ],
         "matches": "x",
         "title": {
          "text": ""
         }
        },
        "xaxis6": {
         "anchor": "y6",
         "domain": [
          0.7285714285714284,
          0.8542857142857141
         ],
         "matches": "x",
         "title": {
          "text": ""
         }
        },
        "xaxis7": {
         "anchor": "y7",
         "domain": [
          0.8742857142857142,
          0.9999999999999999
         ],
         "matches": "x",
         "title": {
          "text": ""
         }
        },
        "yaxis": {
         "anchor": "x",
         "domain": [
          0,
          1
         ],
         "dtick": 20,
         "title": {
          "standoff": 0,
          "text": "Capacity (GW)"
         }
        },
        "yaxis2": {
         "anchor": "x2",
         "domain": [
          0,
          1
         ],
         "dtick": 20,
         "matches": "y",
         "showticklabels": false
        },
        "yaxis3": {
         "anchor": "x3",
         "domain": [
          0,
          1
         ],
         "dtick": 20,
         "matches": "y",
         "showticklabels": false
        },
        "yaxis4": {
         "anchor": "x4",
         "domain": [
          0,
          1
         ],
         "dtick": 20,
         "matches": "y",
         "showticklabels": false
        },
        "yaxis5": {
         "anchor": "x5",
         "domain": [
          0,
          1
         ],
         "dtick": 20,
         "matches": "y",
         "showticklabels": false
        },
        "yaxis6": {
         "anchor": "x6",
         "domain": [
          0,
          1
         ],
         "dtick": 20,
         "matches": "y",
         "showticklabels": false
        },
        "yaxis7": {
         "anchor": "x7",
         "domain": [
          0,
          1
         ],
         "dtick": 20,
         "matches": "y",
         "showticklabels": false
        }
       }
      }
     },
     "metadata": {},
     "output_type": "display_data"
    }
   ],
   "source": [
    "bau23_cap['Capacity (GW)'] = bau23_cap['Capacity (MW)'] / 1E3\n",
    "bau23_fig = bau23_cap[['Period', 'Plant Type', 'Capacity (GW)']].copy()\n",
    "bau23_fig['Plant Type'] = bau23_fig['Plant Type'].replace({'Hydro / Wave / Tidal': 'Hydro', 'Biomass / Geothermal': 'Biomass', 'Uranium': 'Nuclear'})\n",
    "ref_fig = ref_elccap[ref_elccap['Plant Type'] != 'Other'].groupby(['Period', 'Plant Type'], as_index=False).sum('Capacity (GW)')\n",
    "gtech23_ref_cap['Capacity (GW)'] = gtech23_ref_cap['Capacity (MW)'] / 1E3\n",
    "gtech23_fig = gtech23_ref_cap.copy()\n",
    "gtech23_fig['Period'] = gtech23_fig['Period'].astype(str)\n",
    "\n",
    "gtech23_fig['Source'] = 'gTech-IESD'\n",
    "bau23_fig['Source'] = 'CEF2023'\n",
    "ref_fig['Source'] = 'CANOE'\n",
    "fig_df = pd.concat([ref_fig[['Period', 'Plant Type', 'Capacity (GW)', 'Source']], bau23_fig[['Period', 'Plant Type', 'Capacity (GW)', 'Source']], gtech23_fig[['Period', 'Plant Type', 'Capacity (GW)', 'Source']]])\n",
    "\n",
    "fig = px.bar(fig_df, \n",
    "             x='Source', \n",
    "             y='Capacity (GW)', \n",
    "             color='Plant Type', \n",
    "             barmode='stack', \n",
    "             facet_col='Period',\n",
    "             facet_col_spacing=2E-2,\n",
    "             template='plotly_white',\n",
    "             color_discrete_sequence=px.colors.qualitative.G10[:7] + px.colors.qualitative.G10[8:],\n",
    "             text_auto='.1f',\n",
    "             width=1200, height=650,\n",
    "             )\n",
    "\n",
    "fig.update_layout(title=dict(\n",
    "        text='Electricity generation capacity in ON by plant type and energy model',\n",
    "        x=0.5, \n",
    "        y=0.97,\n",
    "        xanchor='center',\n",
    "        yanchor='top'\n",
    "    ),\n",
    "    xaxis=dict(title='Period'),\n",
    "    yaxis=dict(title='Capacity (GW)',\n",
    "               dtick=20),\n",
    "    yaxis_title_standoff=0,\n",
    "    legend_title_text='',\n",
    "    bargap=0.1,\n",
    "    legend=dict(\n",
    "        orientation='h',  \n",
    "        yanchor='top',\n",
    "        y=1.04,  \n",
    "        xanchor='center',\n",
    "        x=0.5),\n",
    "    font=dict(\n",
    "        # family=\"Open Sans\",\n",
    "        size=14)\n",
    "    )\n",
    "\n",
    "for annotation in fig.layout.annotations:\n",
    "    annotation.text = annotation.text.split('=')[1]\n",
    "    annotation.y = -0.1  \n",
    "    annotation.yanchor = 'top' \n",
    "\n",
    "for axis in fig.layout:\n",
    "    if axis.startswith('yaxis'):\n",
    "        fig.layout[axis].dtick = 20\n",
    "\n",
    "for axis in fig.layout:\n",
    "    if axis.startswith('xaxis'):\n",
    "        fig.layout[axis].title.text = ''\n",
    "\n",
    "fig.for_each_trace(lambda trace: trace.update(textfont=dict(size=9)))\n",
    "\n",
    "fig.show()"
   ]
  },
  {
   "cell_type": "code",
   "execution_count": 264,
   "metadata": {},
   "outputs": [],
   "source": [
    "ref_elcact.columns = ref_elcact.columns.astype(str)\n",
    "periods = [col for col in ref_elcact.columns if col.isdigit()]\n",
    "params = [col for col in ref_elcact.columns if not col.isdigit()]\n",
    "ref_elcact = pd.melt(ref_elcact, id_vars=params, var_name='Period', value_name='Generation (PJ)', value_vars=periods)\n",
    "\n",
    "gtech23_ref_gen['Plant Type'] = gtech23_ref_gen['Plant Type'].apply(plant_rename)\n",
    "gtech23_ref_gen = gtech23_ref_gen.groupby(['Period', 'Plant Type'], as_index=False).sum()"
   ]
  },
  {
   "cell_type": "code",
   "execution_count": 265,
   "metadata": {},
   "outputs": [
    {
     "data": {
      "application/vnd.plotly.v1+json": {
       "config": {
        "plotlyServerURL": "https://plot.ly"
       },
       "data": [
        {
         "hovertemplate": "Plant Type=Biomass<br>Period=2021<br>Source=%{x}<br>Generation (PJ)=%{y}<extra></extra>",
         "legendgroup": "Biomass",
         "marker": {
          "color": "#3366CC",
          "pattern": {
           "shape": ""
          }
         },
         "name": "Biomass",
         "orientation": "v",
         "showlegend": true,
         "textfont": {
          "size": 9
         },
         "textposition": "auto",
         "texttemplate": "%{y:.1f}",
         "type": "bar",
         "x": [
          "CANOE",
          "CEF2023"
         ],
         "xaxis": "x",
         "y": {
          "bdata": "AAAAAAAAAABJpUkdzzQRQA==",
          "dtype": "f8"
         },
         "yaxis": "y"
        },
        {
         "hovertemplate": "Plant Type=Biomass<br>Period=2025<br>Source=%{x}<br>Generation (PJ)=%{y}<extra></extra>",
         "legendgroup": "Biomass",
         "marker": {
          "color": "#3366CC",
          "pattern": {
           "shape": ""
          }
         },
         "name": "Biomass",
         "orientation": "v",
         "showlegend": false,
         "textfont": {
          "size": 9
         },
         "textposition": "auto",
         "texttemplate": "%{y:.1f}",
         "type": "bar",
         "x": [
          "CANOE",
          "CEF2023"
         ],
         "xaxis": "x2",
         "y": {
          "bdata": "AAAAAAAAAAB3IT+a740QQA==",
          "dtype": "f8"
         },
         "yaxis": "y2"
        },
        {
         "hovertemplate": "Plant Type=Biomass<br>Period=2030<br>Source=%{x}<br>Generation (PJ)=%{y}<extra></extra>",
         "legendgroup": "Biomass",
         "marker": {
          "color": "#3366CC",
          "pattern": {
           "shape": ""
          }
         },
         "name": "Biomass",
         "orientation": "v",
         "showlegend": false,
         "textfont": {
          "size": 9
         },
         "textposition": "auto",
         "texttemplate": "%{y:.1f}",
         "type": "bar",
         "x": [
          "CANOE",
          "CEF2023"
         ],
         "xaxis": "x3",
         "y": {
          "bdata": "AAAAAAAAAABrhnTxYIcRQA==",
          "dtype": "f8"
         },
         "yaxis": "y3"
        },
        {
         "hovertemplate": "Plant Type=Biomass<br>Period=2035<br>Source=%{x}<br>Generation (PJ)=%{y}<extra></extra>",
         "legendgroup": "Biomass",
         "marker": {
          "color": "#3366CC",
          "pattern": {
           "shape": ""
          }
         },
         "name": "Biomass",
         "orientation": "v",
         "showlegend": false,
         "textfont": {
          "size": 9
         },
         "textposition": "auto",
         "texttemplate": "%{y:.1f}",
         "type": "bar",
         "x": [
          "CANOE",
          "CEF2023"
         ],
         "xaxis": "x4",
         "y": {
          "bdata": "AAAAAAAAAADbpq1OJEkbQA==",
          "dtype": "f8"
         },
         "yaxis": "y4"
        },
        {
         "hovertemplate": "Plant Type=Biomass<br>Period=2040<br>Source=%{x}<br>Generation (PJ)=%{y}<extra></extra>",
         "legendgroup": "Biomass",
         "marker": {
          "color": "#3366CC",
          "pattern": {
           "shape": ""
          }
         },
         "name": "Biomass",
         "orientation": "v",
         "showlegend": false,
         "textfont": {
          "size": 9
         },
         "textposition": "auto",
         "texttemplate": "%{y:.1f}",
         "type": "bar",
         "x": [
          "CANOE",
          "CEF2023"
         ],
         "xaxis": "x5",
         "y": {
          "bdata": "AAAAAAAAAABcprNGDgscQA==",
          "dtype": "f8"
         },
         "yaxis": "y5"
        },
        {
         "hovertemplate": "Plant Type=Biomass<br>Period=2045<br>Source=%{x}<br>Generation (PJ)=%{y}<extra></extra>",
         "legendgroup": "Biomass",
         "marker": {
          "color": "#3366CC",
          "pattern": {
           "shape": ""
          }
         },
         "name": "Biomass",
         "orientation": "v",
         "showlegend": false,
         "textfont": {
          "size": 9
         },
         "textposition": "auto",
         "texttemplate": "%{y:.1f}",
         "type": "bar",
         "x": [
          "CANOE",
          "CEF2023"
         ],
         "xaxis": "x6",
         "y": {
          "bdata": "3BrYJlUFyj+jaKcfQssaQA==",
          "dtype": "f8"
         },
         "yaxis": "y6"
        },
        {
         "hovertemplate": "Plant Type=Biomass<br>Period=2050<br>Source=%{x}<br>Generation (PJ)=%{y}<extra></extra>",
         "legendgroup": "Biomass",
         "marker": {
          "color": "#3366CC",
          "pattern": {
           "shape": ""
          }
         },
         "name": "Biomass",
         "orientation": "v",
         "showlegend": false,
         "textfont": {
          "size": 9
         },
         "textposition": "auto",
         "texttemplate": "%{y:.1f}",
         "type": "bar",
         "x": [
          "CANOE",
          "CEF2023"
         ],
         "xaxis": "x7",
         "y": {
          "bdata": "JaBfwHMwzD/6lKE69uAcQA==",
          "dtype": "f8"
         },
         "yaxis": "y7"
        },
        {
         "hovertemplate": "Plant Type=Hydro<br>Period=2021<br>Source=%{x}<br>Generation (PJ)=%{y}<extra></extra>",
         "legendgroup": "Hydro",
         "marker": {
          "color": "#DC3912",
          "pattern": {
           "shape": ""
          }
         },
         "name": "Hydro",
         "orientation": "v",
         "showlegend": true,
         "textfont": {
          "size": 9
         },
         "textposition": "auto",
         "texttemplate": "%{y:.1f}",
         "type": "bar",
         "x": [
          "CANOE",
          "CEF2023",
          "gTech-IESD"
         ],
         "xaxis": "x",
         "y": {
          "bdata": "PkqFBR08XUB5nQWIn7VfQApVputUG2FA",
          "dtype": "f8"
         },
         "yaxis": "y"
        },
        {
         "hovertemplate": "Plant Type=Hydro<br>Period=2025<br>Source=%{x}<br>Generation (PJ)=%{y}<extra></extra>",
         "legendgroup": "Hydro",
         "marker": {
          "color": "#DC3912",
          "pattern": {
           "shape": ""
          }
         },
         "name": "Hydro",
         "orientation": "v",
         "showlegend": false,
         "textfont": {
          "size": 9
         },
         "textposition": "auto",
         "texttemplate": "%{y:.1f}",
         "type": "bar",
         "x": [
          "CANOE",
          "CEF2023",
          "gTech-IESD"
         ],
         "xaxis": "x2",
         "y": {
          "bdata": "XKHMRVE7XUCB6UfSlBxgQKoHdkMtz2BA",
          "dtype": "f8"
         },
         "yaxis": "y2"
        },
        {
         "hovertemplate": "Plant Type=Hydro<br>Period=2030<br>Source=%{x}<br>Generation (PJ)=%{y}<extra></extra>",
         "legendgroup": "Hydro",
         "marker": {
          "color": "#DC3912",
          "pattern": {
           "shape": ""
          }
         },
         "name": "Hydro",
         "orientation": "v",
         "showlegend": false,
         "textfont": {
          "size": 9
         },
         "textposition": "auto",
         "texttemplate": "%{y:.1f}",
         "type": "bar",
         "x": [
          "CANOE",
          "CEF2023",
          "gTech-IESD"
         ],
         "xaxis": "x3",
         "y": {
          "bdata": "wv37cRq0XEDKUAvhteVgQOTfjSNbxGBA",
          "dtype": "f8"
         },
         "yaxis": "y3"
        },
        {
         "hovertemplate": "Plant Type=Hydro<br>Period=2035<br>Source=%{x}<br>Generation (PJ)=%{y}<extra></extra>",
         "legendgroup": "Hydro",
         "marker": {
          "color": "#DC3912",
          "pattern": {
           "shape": ""
          }
         },
         "name": "Hydro",
         "orientation": "v",
         "showlegend": false,
         "textfont": {
          "size": 9
         },
         "textposition": "auto",
         "texttemplate": "%{y:.1f}",
         "type": "bar",
         "x": [
          "CANOE",
          "CEF2023",
          "gTech-IESD"
         ],
         "xaxis": "x4",
         "y": {
          "bdata": "jOpkn1QdXUAPqREWb/ZgQBcfCXV9q2BA",
          "dtype": "f8"
         },
         "yaxis": "y4"
        },
        {
         "hovertemplate": "Plant Type=Hydro<br>Period=2040<br>Source=%{x}<br>Generation (PJ)=%{y}<extra></extra>",
         "legendgroup": "Hydro",
         "marker": {
          "color": "#DC3912",
          "pattern": {
           "shape": ""
          }
         },
         "name": "Hydro",
         "orientation": "v",
         "showlegend": false,
         "textfont": {
          "size": 9
         },
         "textposition": "auto",
         "texttemplate": "%{y:.1f}",
         "type": "bar",
         "x": [
          "CANOE",
          "CEF2023",
          "gTech-IESD"
         ],
         "xaxis": "x5",
         "y": {
          "bdata": "56edoBw8XUDz2LrHHslgQCgyzjo+n2BA",
          "dtype": "f8"
         },
         "yaxis": "y5"
        },
        {
         "hovertemplate": "Plant Type=Hydro<br>Period=2045<br>Source=%{x}<br>Generation (PJ)=%{y}<extra></extra>",
         "legendgroup": "Hydro",
         "marker": {
          "color": "#DC3912",
          "pattern": {
           "shape": ""
          }
         },
         "name": "Hydro",
         "orientation": "v",
         "showlegend": false,
         "textfont": {
          "size": 9
         },
         "textposition": "auto",
         "texttemplate": "%{y:.1f}",
         "type": "bar",
         "x": [
          "CANOE",
          "CEF2023",
          "gTech-IESD"
         ],
         "xaxis": "x6",
         "y": {
          "bdata": "FtLGPRw8XUCULMcuCL9gQFpU7LHyfmBA",
          "dtype": "f8"
         },
         "yaxis": "y6"
        },
        {
         "hovertemplate": "Plant Type=Hydro<br>Period=2050<br>Source=%{x}<br>Generation (PJ)=%{y}<extra></extra>",
         "legendgroup": "Hydro",
         "marker": {
          "color": "#DC3912",
          "pattern": {
           "shape": ""
          }
         },
         "name": "Hydro",
         "orientation": "v",
         "showlegend": false,
         "textfont": {
          "size": 9
         },
         "textposition": "auto",
         "texttemplate": "%{y:.1f}",
         "type": "bar",
         "x": [
          "CANOE",
          "CEF2023",
          "gTech-IESD"
         ],
         "xaxis": "x7",
         "y": {
          "bdata": "zjC1Sxw8XUBrPBANVrRgQE6sUeQQaGBA",
          "dtype": "f8"
         },
         "yaxis": "y7"
        },
        {
         "hovertemplate": "Plant Type=Natural Gas<br>Period=2021<br>Source=%{x}<br>Generation (PJ)=%{y}<extra></extra>",
         "legendgroup": "Natural Gas",
         "marker": {
          "color": "#FF9900",
          "pattern": {
           "shape": ""
          }
         },
         "name": "Natural Gas",
         "orientation": "v",
         "showlegend": true,
         "textfont": {
          "size": 9
         },
         "textposition": "auto",
         "texttemplate": "%{y:.1f}",
         "type": "bar",
         "x": [
          "CANOE",
          "CEF2023",
          "gTech-IESD"
         ],
         "xaxis": "x",
         "y": {
          "bdata": "qq0g0B50aEB/4/bBtX5EQFaWtflm9EJA",
          "dtype": "f8"
         },
         "yaxis": "y"
        },
        {
         "hovertemplate": "Plant Type=Natural Gas<br>Period=2025<br>Source=%{x}<br>Generation (PJ)=%{y}<extra></extra>",
         "legendgroup": "Natural Gas",
         "marker": {
          "color": "#FF9900",
          "pattern": {
           "shape": ""
          }
         },
         "name": "Natural Gas",
         "orientation": "v",
         "showlegend": false,
         "textfont": {
          "size": 9
         },
         "textposition": "auto",
         "texttemplate": "%{y:.1f}",
         "type": "bar",
         "x": [
          "CANOE",
          "CEF2023",
          "gTech-IESD"
         ],
         "xaxis": "x2",
         "y": {
          "bdata": "aFhx2Sc6bkC3Qabi6sVEQIXomARLLDdA",
          "dtype": "f8"
         },
         "yaxis": "y2"
        },
        {
         "hovertemplate": "Plant Type=Natural Gas<br>Period=2030<br>Source=%{x}<br>Generation (PJ)=%{y}<extra></extra>",
         "legendgroup": "Natural Gas",
         "marker": {
          "color": "#FF9900",
          "pattern": {
           "shape": ""
          }
         },
         "name": "Natural Gas",
         "orientation": "v",
         "showlegend": false,
         "textfont": {
          "size": 9
         },
         "textposition": "auto",
         "texttemplate": "%{y:.1f}",
         "type": "bar",
         "x": [
          "CANOE",
          "CEF2023",
          "gTech-IESD"
         ],
         "xaxis": "x3",
         "y": {
          "bdata": "y1FT6AMrckA2oDaOfsRIQFCwPp96fiJA",
          "dtype": "f8"
         },
         "yaxis": "y3"
        },
        {
         "hovertemplate": "Plant Type=Natural Gas<br>Period=2035<br>Source=%{x}<br>Generation (PJ)=%{y}<extra></extra>",
         "legendgroup": "Natural Gas",
         "marker": {
          "color": "#FF9900",
          "pattern": {
           "shape": ""
          }
         },
         "name": "Natural Gas",
         "orientation": "v",
         "showlegend": false,
         "textfont": {
          "size": 9
         },
         "textposition": "auto",
         "texttemplate": "%{y:.1f}",
         "type": "bar",
         "x": [
          "CANOE",
          "CEF2023",
          "gTech-IESD"
         ],
         "xaxis": "x4",
         "y": {
          "bdata": "hkmbB7sgd0DLOLoIW5BKQJ8lQWGUnChA",
          "dtype": "f8"
         },
         "yaxis": "y4"
        },
        {
         "hovertemplate": "Plant Type=Natural Gas<br>Period=2040<br>Source=%{x}<br>Generation (PJ)=%{y}<extra></extra>",
         "legendgroup": "Natural Gas",
         "marker": {
          "color": "#FF9900",
          "pattern": {
           "shape": ""
          }
         },
         "name": "Natural Gas",
         "orientation": "v",
         "showlegend": false,
         "textfont": {
          "size": 9
         },
         "textposition": "auto",
         "texttemplate": "%{y:.1f}",
         "type": "bar",
         "x": [
          "CANOE",
          "CEF2023",
          "gTech-IESD"
         ],
         "xaxis": "x5",
         "y": {
          "bdata": "dutig6VhhEAqEH1EOkBEQEzOQfrjfDJA",
          "dtype": "f8"
         },
         "yaxis": "y5"
        },
        {
         "hovertemplate": "Plant Type=Natural Gas<br>Period=2045<br>Source=%{x}<br>Generation (PJ)=%{y}<extra></extra>",
         "legendgroup": "Natural Gas",
         "marker": {
          "color": "#FF9900",
          "pattern": {
           "shape": ""
          }
         },
         "name": "Natural Gas",
         "orientation": "v",
         "showlegend": false,
         "textfont": {
          "size": 9
         },
         "textposition": "auto",
         "texttemplate": "%{y:.1f}",
         "type": "bar",
         "x": [
          "CANOE",
          "CEF2023",
          "gTech-IESD"
         ],
         "xaxis": "x6",
         "y": {
          "bdata": "rDz8wevTiEAtBJeZYhlDQFRCJSYXVUBA",
          "dtype": "f8"
         },
         "yaxis": "y6"
        },
        {
         "hovertemplate": "Plant Type=Natural Gas<br>Period=2050<br>Source=%{x}<br>Generation (PJ)=%{y}<extra></extra>",
         "legendgroup": "Natural Gas",
         "marker": {
          "color": "#FF9900",
          "pattern": {
           "shape": ""
          }
         },
         "name": "Natural Gas",
         "orientation": "v",
         "showlegend": false,
         "textfont": {
          "size": 9
         },
         "textposition": "auto",
         "texttemplate": "%{y:.1f}",
         "type": "bar",
         "x": [
          "CANOE",
          "CEF2023",
          "gTech-IESD"
         ],
         "xaxis": "x7",
         "y": {
          "bdata": "yHME29R5ikA3N6FucsdHQI7r3/WZbUZA",
          "dtype": "f8"
         },
         "yaxis": "y7"
        },
        {
         "hovertemplate": "Plant Type=Nuclear<br>Period=2021<br>Source=%{x}<br>Generation (PJ)=%{y}<extra></extra>",
         "legendgroup": "Nuclear",
         "marker": {
          "color": "#109618",
          "pattern": {
           "shape": ""
          }
         },
         "name": "Nuclear",
         "orientation": "v",
         "showlegend": true,
         "textfont": {
          "size": 9
         },
         "textposition": "auto",
         "texttemplate": "%{y:.1f}",
         "type": "bar",
         "x": [
          "CANOE",
          "CEF2023",
          "gTech-IESD"
         ],
         "xaxis": "x",
         "y": {
          "bdata": "A0hpLfxzdEB2KiVzaINyQIgjCIoxH3NA",
          "dtype": "f8"
         },
         "yaxis": "y"
        },
        {
         "hovertemplate": "Plant Type=Nuclear<br>Period=2025<br>Source=%{x}<br>Generation (PJ)=%{y}<extra></extra>",
         "legendgroup": "Nuclear",
         "marker": {
          "color": "#109618",
          "pattern": {
           "shape": ""
          }
         },
         "name": "Nuclear",
         "orientation": "v",
         "showlegend": false,
         "textfont": {
          "size": 9
         },
         "textposition": "auto",
         "texttemplate": "%{y:.1f}",
         "type": "bar",
         "x": [
          "CANOE",
          "CEF2023",
          "gTech-IESD"
         ],
         "xaxis": "x2",
         "y": {
          "bdata": "NZCMGPxzdEDdRenp25VwQDFjZY+riXBA",
          "dtype": "f8"
         },
         "yaxis": "y2"
        },
        {
         "hovertemplate": "Plant Type=Nuclear<br>Period=2030<br>Source=%{x}<br>Generation (PJ)=%{y}<extra></extra>",
         "legendgroup": "Nuclear",
         "marker": {
          "color": "#109618",
          "pattern": {
           "shape": ""
          }
         },
         "name": "Nuclear",
         "orientation": "v",
         "showlegend": false,
         "textfont": {
          "size": 9
         },
         "textposition": "auto",
         "texttemplate": "%{y:.1f}",
         "type": "bar",
         "x": [
          "CANOE",
          "CEF2023",
          "gTech-IESD"
         ],
         "xaxis": "x3",
         "y": {
          "bdata": "p6JNgqAFbEDg9BA/BkRxQHxfq/CmkG1A",
          "dtype": "f8"
         },
         "yaxis": "y3"
        },
        {
         "hovertemplate": "Plant Type=Nuclear<br>Period=2035<br>Source=%{x}<br>Generation (PJ)=%{y}<extra></extra>",
         "legendgroup": "Nuclear",
         "marker": {
          "color": "#109618",
          "pattern": {
           "shape": ""
          }
         },
         "name": "Nuclear",
         "orientation": "v",
         "showlegend": false,
         "textfont": {
          "size": 9
         },
         "textposition": "auto",
         "texttemplate": "%{y:.1f}",
         "type": "bar",
         "x": [
          "CANOE",
          "CEF2023",
          "gTech-IESD"
         ],
         "xaxis": "x4",
         "y": {
          "bdata": "AAPoJGLfZUDd7/KiJiNzQKWucCNJFm9A",
          "dtype": "f8"
         },
         "yaxis": "y4"
        },
        {
         "hovertemplate": "Plant Type=Nuclear<br>Period=2040<br>Source=%{x}<br>Generation (PJ)=%{y}<extra></extra>",
         "legendgroup": "Nuclear",
         "marker": {
          "color": "#109618",
          "pattern": {
           "shape": ""
          }
         },
         "name": "Nuclear",
         "orientation": "v",
         "showlegend": false,
         "textfont": {
          "size": 9
         },
         "textposition": "auto",
         "texttemplate": "%{y:.1f}",
         "type": "bar",
         "x": [
          "CANOE",
          "CEF2023",
          "gTech-IESD"
         ],
         "xaxis": "x5",
         "y": {
          "bdata": "WHmLnfhaYECLBQ589thyQOj+Gqv1TXBA",
          "dtype": "f8"
         },
         "yaxis": "y5"
        },
        {
         "hovertemplate": "Plant Type=Nuclear<br>Period=2045<br>Source=%{x}<br>Generation (PJ)=%{y}<extra></extra>",
         "legendgroup": "Nuclear",
         "marker": {
          "color": "#109618",
          "pattern": {
           "shape": ""
          }
         },
         "name": "Nuclear",
         "orientation": "v",
         "showlegend": false,
         "textfont": {
          "size": 9
         },
         "textposition": "auto",
         "texttemplate": "%{y:.1f}",
         "type": "bar",
         "x": [
          "CANOE",
          "CEF2023",
          "gTech-IESD"
         ],
         "xaxis": "x6",
         "y": {
          "bdata": "Njg0iYDIO0A29LzDQKVyQOj+Gqv1TXBA",
          "dtype": "f8"
         },
         "yaxis": "y6"
        },
        {
         "hovertemplate": "Plant Type=Nuclear<br>Period=2050<br>Source=%{x}<br>Generation (PJ)=%{y}<extra></extra>",
         "legendgroup": "Nuclear",
         "marker": {
          "color": "#109618",
          "pattern": {
           "shape": ""
          }
         },
         "name": "Nuclear",
         "orientation": "v",
         "showlegend": false,
         "textfont": {
          "size": 9
         },
         "textposition": "auto",
         "texttemplate": "%{y:.1f}",
         "type": "bar",
         "x": [
          "CANOE",
          "CEF2023",
          "gTech-IESD"
         ],
         "xaxis": "x7",
         "y": {
          "bdata": "3jFEooDIO0AqigmBG5pyQOj+Gqv1TXBA",
          "dtype": "f8"
         },
         "yaxis": "y7"
        },
        {
         "hovertemplate": "Plant Type=Solar<br>Period=2021<br>Source=%{x}<br>Generation (PJ)=%{y}<extra></extra>",
         "legendgroup": "Solar",
         "marker": {
          "color": "#990099",
          "pattern": {
           "shape": ""
          }
         },
         "name": "Solar",
         "orientation": "v",
         "showlegend": true,
         "textfont": {
          "size": 9
         },
         "textposition": "auto",
         "texttemplate": "%{y:.1f}",
         "type": "bar",
         "x": [
          "CANOE",
          "CEF2023",
          "gTech-IESD"
         ],
         "xaxis": "x",
         "y": {
          "bdata": "2Tm9Ett/A0COgFL4IZ00QEFJyf/guyZA",
          "dtype": "f8"
         },
         "yaxis": "y"
        },
        {
         "hovertemplate": "Plant Type=Solar<br>Period=2025<br>Source=%{x}<br>Generation (PJ)=%{y}<extra></extra>",
         "legendgroup": "Solar",
         "marker": {
          "color": "#990099",
          "pattern": {
           "shape": ""
          }
         },
         "name": "Solar",
         "orientation": "v",
         "showlegend": false,
         "textfont": {
          "size": 9
         },
         "textposition": "auto",
         "texttemplate": "%{y:.1f}",
         "type": "bar",
         "x": [
          "CANOE",
          "CEF2023",
          "gTech-IESD"
         ],
         "xaxis": "x2",
         "y": {
          "bdata": "NbhNPdx/A0DJt14nOrw9QFHD5HoVETZA",
          "dtype": "f8"
         },
         "yaxis": "y2"
        },
        {
         "hovertemplate": "Plant Type=Solar<br>Period=2030<br>Source=%{x}<br>Generation (PJ)=%{y}<extra></extra>",
         "legendgroup": "Solar",
         "marker": {
          "color": "#990099",
          "pattern": {
           "shape": ""
          }
         },
         "name": "Solar",
         "orientation": "v",
         "showlegend": false,
         "textfont": {
          "size": 9
         },
         "textposition": "auto",
         "texttemplate": "%{y:.1f}",
         "type": "bar",
         "x": [
          "CANOE",
          "CEF2023",
          "gTech-IESD"
         ],
         "xaxis": "x3",
         "y": {
          "bdata": "7AWoVNp/A0ByZhv+alg/QNfymrygClBA",
          "dtype": "f8"
         },
         "yaxis": "y3"
        },
        {
         "hovertemplate": "Plant Type=Solar<br>Period=2035<br>Source=%{x}<br>Generation (PJ)=%{y}<extra></extra>",
         "legendgroup": "Solar",
         "marker": {
          "color": "#990099",
          "pattern": {
           "shape": ""
          }
         },
         "name": "Solar",
         "orientation": "v",
         "showlegend": false,
         "textfont": {
          "size": 9
         },
         "textposition": "auto",
         "texttemplate": "%{y:.1f}",
         "type": "bar",
         "x": [
          "CANOE",
          "CEF2023",
          "gTech-IESD"
         ],
         "xaxis": "x4",
         "y": {
          "bdata": "yWYKgDmgTUCBAEZNPF0/QFSjHVgKX1VA",
          "dtype": "f8"
         },
         "yaxis": "y4"
        },
        {
         "hovertemplate": "Plant Type=Solar<br>Period=2040<br>Source=%{x}<br>Generation (PJ)=%{y}<extra></extra>",
         "legendgroup": "Solar",
         "marker": {
          "color": "#990099",
          "pattern": {
           "shape": ""
          }
         },
         "name": "Solar",
         "orientation": "v",
         "showlegend": false,
         "textfont": {
          "size": 9
         },
         "textposition": "auto",
         "texttemplate": "%{y:.1f}",
         "type": "bar",
         "x": [
          "CANOE",
          "CEF2023",
          "gTech-IESD"
         ],
         "xaxis": "x5",
         "y": {
          "bdata": "Xn1C3zugTUDNEICcDWI/QLzfSnGzXl1A",
          "dtype": "f8"
         },
         "yaxis": "y5"
        },
        {
         "hovertemplate": "Plant Type=Solar<br>Period=2045<br>Source=%{x}<br>Generation (PJ)=%{y}<extra></extra>",
         "legendgroup": "Solar",
         "marker": {
          "color": "#990099",
          "pattern": {
           "shape": ""
          }
         },
         "name": "Solar",
         "orientation": "v",
         "showlegend": false,
         "textfont": {
          "size": 9
         },
         "textposition": "auto",
         "texttemplate": "%{y:.1f}",
         "type": "bar",
         "x": [
          "CANOE",
          "CEF2023",
          "gTech-IESD"
         ],
         "xaxis": "x6",
         "y": {
          "bdata": "4ysC2TSoTEASUTeM1elKQA14QKnb2mVA",
          "dtype": "f8"
         },
         "yaxis": "y6"
        },
        {
         "hovertemplate": "Plant Type=Solar<br>Period=2050<br>Source=%{x}<br>Generation (PJ)=%{y}<extra></extra>",
         "legendgroup": "Solar",
         "marker": {
          "color": "#990099",
          "pattern": {
           "shape": ""
          }
         },
         "name": "Solar",
         "orientation": "v",
         "showlegend": false,
         "textfont": {
          "size": 9
         },
         "textposition": "auto",
         "texttemplate": "%{y:.1f}",
         "type": "bar",
         "x": [
          "CANOE",
          "CEF2023",
          "gTech-IESD"
         ],
         "xaxis": "x7",
         "y": {
          "bdata": "hIzZlR1dU0DzOib3KSJRQAIcXOnefGxA",
          "dtype": "f8"
         },
         "yaxis": "y7"
        },
        {
         "hovertemplate": "Plant Type=Wind<br>Period=2021<br>Source=%{x}<br>Generation (PJ)=%{y}<extra></extra>",
         "legendgroup": "Wind",
         "marker": {
          "color": "#0099C6",
          "pattern": {
           "shape": ""
          }
         },
         "name": "Wind",
         "orientation": "v",
         "showlegend": true,
         "textfont": {
          "size": 9
         },
         "textposition": "auto",
         "texttemplate": "%{y:.1f}",
         "type": "bar",
         "x": [
          "CANOE",
          "CEF2023",
          "gTech-IESD"
         ],
         "xaxis": "x",
         "y": {
          "bdata": "TmoDWq5XRkBn5Kq08FpGQFDuWUBxHUpA",
          "dtype": "f8"
         },
         "yaxis": "y"
        },
        {
         "hovertemplate": "Plant Type=Wind<br>Period=2025<br>Source=%{x}<br>Generation (PJ)=%{y}<extra></extra>",
         "legendgroup": "Wind",
         "marker": {
          "color": "#0099C6",
          "pattern": {
           "shape": ""
          }
         },
         "name": "Wind",
         "orientation": "v",
         "showlegend": false,
         "textfont": {
          "size": 9
         },
         "textposition": "auto",
         "texttemplate": "%{y:.1f}",
         "type": "bar",
         "x": [
          "CANOE",
          "CEF2023",
          "gTech-IESD"
         ],
         "xaxis": "x2",
         "y": {
          "bdata": "AaWB6BuOU0BroLw5oxFQQBchfPXfl0pA",
          "dtype": "f8"
         },
         "yaxis": "y2"
        },
        {
         "hovertemplate": "Plant Type=Wind<br>Period=2030<br>Source=%{x}<br>Generation (PJ)=%{y}<extra></extra>",
         "legendgroup": "Wind",
         "marker": {
          "color": "#0099C6",
          "pattern": {
           "shape": ""
          }
         },
         "name": "Wind",
         "orientation": "v",
         "showlegend": false,
         "textfont": {
          "size": 9
         },
         "textposition": "auto",
         "texttemplate": "%{y:.1f}",
         "type": "bar",
         "x": [
          "CANOE",
          "CEF2023",
          "gTech-IESD"
         ],
         "xaxis": "x3",
         "y": {
          "bdata": "Cp7g3DawakBsJ4mmZbRXQHmwSafD3lVA",
          "dtype": "f8"
         },
         "yaxis": "y3"
        },
        {
         "hovertemplate": "Plant Type=Wind<br>Period=2035<br>Source=%{x}<br>Generation (PJ)=%{y}<extra></extra>",
         "legendgroup": "Wind",
         "marker": {
          "color": "#0099C6",
          "pattern": {
           "shape": ""
          }
         },
         "name": "Wind",
         "orientation": "v",
         "showlegend": false,
         "textfont": {
          "size": 9
         },
         "textposition": "auto",
         "texttemplate": "%{y:.1f}",
         "type": "bar",
         "x": [
          "CANOE",
          "CEF2023",
          "gTech-IESD"
         ],
         "xaxis": "x4",
         "y": {
          "bdata": "SB6ADzNmbUC5fk0YxZFeQKbQkClTllxA",
          "dtype": "f8"
         },
         "yaxis": "y4"
        },
        {
         "hovertemplate": "Plant Type=Wind<br>Period=2040<br>Source=%{x}<br>Generation (PJ)=%{y}<extra></extra>",
         "legendgroup": "Wind",
         "marker": {
          "color": "#0099C6",
          "pattern": {
           "shape": ""
          }
         },
         "name": "Wind",
         "orientation": "v",
         "showlegend": false,
         "textfont": {
          "size": 9
         },
         "textposition": "auto",
         "texttemplate": "%{y:.1f}",
         "type": "bar",
         "x": [
          "CANOE",
          "CEF2023",
          "gTech-IESD"
         ],
         "xaxis": "x5",
         "y": {
          "bdata": "DAyivevHa0D96rtsxa5sQEFDDC9ZoGJA",
          "dtype": "f8"
         },
         "yaxis": "y5"
        },
        {
         "hovertemplate": "Plant Type=Wind<br>Period=2045<br>Source=%{x}<br>Generation (PJ)=%{y}<extra></extra>",
         "legendgroup": "Wind",
         "marker": {
          "color": "#0099C6",
          "pattern": {
           "shape": ""
          }
         },
         "name": "Wind",
         "orientation": "v",
         "showlegend": false,
         "textfont": {
          "size": 9
         },
         "textposition": "auto",
         "texttemplate": "%{y:.1f}",
         "type": "bar",
         "x": [
          "CANOE",
          "CEF2023",
          "gTech-IESD"
         ],
         "xaxis": "x6",
         "y": {
          "bdata": "hUXqMniXaED6c3bXPiJyQH4jcNoCOGZA",
          "dtype": "f8"
         },
         "yaxis": "y6"
        },
        {
         "hovertemplate": "Plant Type=Wind<br>Period=2050<br>Source=%{x}<br>Generation (PJ)=%{y}<extra></extra>",
         "legendgroup": "Wind",
         "marker": {
          "color": "#0099C6",
          "pattern": {
           "shape": ""
          }
         },
         "name": "Wind",
         "orientation": "v",
         "showlegend": false,
         "textfont": {
          "size": 9
         },
         "textposition": "auto",
         "texttemplate": "%{y:.1f}",
         "type": "bar",
         "x": [
          "CANOE",
          "CEF2023",
          "gTech-IESD"
         ],
         "xaxis": "x7",
         "y": {
          "bdata": "WPVOIsBOaEC4Gx6k4o90QHOQoJBOzGhA",
          "dtype": "f8"
         },
         "yaxis": "y7"
        },
        {
         "hovertemplate": "Plant Type=Oil<br>Period=2021<br>Source=%{x}<br>Generation (PJ)=%{y}<extra></extra>",
         "legendgroup": "Oil",
         "marker": {
          "color": "#DD4477",
          "pattern": {
           "shape": ""
          }
         },
         "name": "Oil",
         "orientation": "v",
         "showlegend": true,
         "textfont": {
          "size": 9
         },
         "textposition": "auto",
         "texttemplate": "%{y:.1f}",
         "type": "bar",
         "x": [
          "CEF2023"
         ],
         "xaxis": "x",
         "y": {
          "bdata": "cxxwRJSC1T8=",
          "dtype": "f8"
         },
         "yaxis": "y"
        },
        {
         "hovertemplate": "Plant Type=Oil<br>Period=2025<br>Source=%{x}<br>Generation (PJ)=%{y}<extra></extra>",
         "legendgroup": "Oil",
         "marker": {
          "color": "#DD4477",
          "pattern": {
           "shape": ""
          }
         },
         "name": "Oil",
         "orientation": "v",
         "showlegend": false,
         "textfont": {
          "size": 9
         },
         "textposition": "auto",
         "texttemplate": "%{y:.1f}",
         "type": "bar",
         "x": [
          "CEF2023"
         ],
         "xaxis": "x2",
         "y": {
          "bdata": "WW2y0S/N0j8=",
          "dtype": "f8"
         },
         "yaxis": "y2"
        },
        {
         "hovertemplate": "Plant Type=Oil<br>Period=2030<br>Source=%{x}<br>Generation (PJ)=%{y}<extra></extra>",
         "legendgroup": "Oil",
         "marker": {
          "color": "#DD4477",
          "pattern": {
           "shape": ""
          }
         },
         "name": "Oil",
         "orientation": "v",
         "showlegend": false,
         "textfont": {
          "size": 9
         },
         "textposition": "auto",
         "texttemplate": "%{y:.1f}",
         "type": "bar",
         "x": [
          "CEF2023"
         ],
         "xaxis": "x3",
         "y": {
          "bdata": "DVAjtJEuqT8=",
          "dtype": "f8"
         },
         "yaxis": "y3"
        },
        {
         "hovertemplate": "Plant Type=Oil<br>Period=2035<br>Source=%{x}<br>Generation (PJ)=%{y}<extra></extra>",
         "legendgroup": "Oil",
         "marker": {
          "color": "#DD4477",
          "pattern": {
           "shape": ""
          }
         },
         "name": "Oil",
         "orientation": "v",
         "showlegend": false,
         "textfont": {
          "size": 9
         },
         "textposition": "auto",
         "texttemplate": "%{y:.1f}",
         "type": "bar",
         "x": [
          "CEF2023"
         ],
         "xaxis": "x4",
         "y": {
          "bdata": "DVAjtJEuqT8=",
          "dtype": "f8"
         },
         "yaxis": "y4"
        },
        {
         "hovertemplate": "Plant Type=Oil<br>Period=2040<br>Source=%{x}<br>Generation (PJ)=%{y}<extra></extra>",
         "legendgroup": "Oil",
         "marker": {
          "color": "#DD4477",
          "pattern": {
           "shape": ""
          }
         },
         "name": "Oil",
         "orientation": "v",
         "showlegend": false,
         "textfont": {
          "size": 9
         },
         "textposition": "auto",
         "texttemplate": "%{y:.1f}",
         "type": "bar",
         "x": [
          "CEF2023"
         ],
         "xaxis": "x5",
         "y": {
          "bdata": "AAAAAAAAAAA=",
          "dtype": "f8"
         },
         "yaxis": "y5"
        },
        {
         "hovertemplate": "Plant Type=Oil<br>Period=2045<br>Source=%{x}<br>Generation (PJ)=%{y}<extra></extra>",
         "legendgroup": "Oil",
         "marker": {
          "color": "#DD4477",
          "pattern": {
           "shape": ""
          }
         },
         "name": "Oil",
         "orientation": "v",
         "showlegend": false,
         "textfont": {
          "size": 9
         },
         "textposition": "auto",
         "texttemplate": "%{y:.1f}",
         "type": "bar",
         "x": [
          "CEF2023"
         ],
         "xaxis": "x6",
         "y": {
          "bdata": "AAAAAAAAAAA=",
          "dtype": "f8"
         },
         "yaxis": "y6"
        },
        {
         "hovertemplate": "Plant Type=Oil<br>Period=2050<br>Source=%{x}<br>Generation (PJ)=%{y}<extra></extra>",
         "legendgroup": "Oil",
         "marker": {
          "color": "#DD4477",
          "pattern": {
           "shape": ""
          }
         },
         "name": "Oil",
         "orientation": "v",
         "showlegend": false,
         "textfont": {
          "size": 9
         },
         "textposition": "auto",
         "texttemplate": "%{y:.1f}",
         "type": "bar",
         "x": [
          "CEF2023"
         ],
         "xaxis": "x7",
         "y": {
          "bdata": "AAAAAAAAAAA=",
          "dtype": "f8"
         },
         "yaxis": "y7"
        },
        {
         "hovertemplate": "Plant Type=Other<br>Period=2021<br>Source=%{x}<br>Generation (PJ)=%{y}<extra></extra>",
         "legendgroup": "Other",
         "marker": {
          "color": "#B82E2E",
          "pattern": {
           "shape": ""
          }
         },
         "name": "Other",
         "orientation": "v",
         "showlegend": true,
         "textfont": {
          "size": 9
         },
         "textposition": "auto",
         "texttemplate": "%{y:.1f}",
         "type": "bar",
         "x": [
          "gTech-IESD"
         ],
         "xaxis": "x",
         "y": {
          "bdata": "WZXl8VmAJ0A=",
          "dtype": "f8"
         },
         "yaxis": "y"
        },
        {
         "hovertemplate": "Plant Type=Other<br>Period=2025<br>Source=%{x}<br>Generation (PJ)=%{y}<extra></extra>",
         "legendgroup": "Other",
         "marker": {
          "color": "#B82E2E",
          "pattern": {
           "shape": ""
          }
         },
         "name": "Other",
         "orientation": "v",
         "showlegend": false,
         "textfont": {
          "size": 9
         },
         "textposition": "auto",
         "texttemplate": "%{y:.1f}",
         "type": "bar",
         "x": [
          "gTech-IESD"
         ],
         "xaxis": "x2",
         "y": {
          "bdata": "0n3MzQ8XJkA=",
          "dtype": "f8"
         },
         "yaxis": "y2"
        },
        {
         "hovertemplate": "Plant Type=Other<br>Period=2030<br>Source=%{x}<br>Generation (PJ)=%{y}<extra></extra>",
         "legendgroup": "Other",
         "marker": {
          "color": "#B82E2E",
          "pattern": {
           "shape": ""
          }
         },
         "name": "Other",
         "orientation": "v",
         "showlegend": false,
         "textfont": {
          "size": 9
         },
         "textposition": "auto",
         "texttemplate": "%{y:.1f}",
         "type": "bar",
         "x": [
          "gTech-IESD"
         ],
         "xaxis": "x3",
         "y": {
          "bdata": "sVIky4DJJEA=",
          "dtype": "f8"
         },
         "yaxis": "y3"
        },
        {
         "hovertemplate": "Plant Type=Other<br>Period=2035<br>Source=%{x}<br>Generation (PJ)=%{y}<extra></extra>",
         "legendgroup": "Other",
         "marker": {
          "color": "#B82E2E",
          "pattern": {
           "shape": ""
          }
         },
         "name": "Other",
         "orientation": "v",
         "showlegend": false,
         "textfont": {
          "size": 9
         },
         "textposition": "auto",
         "texttemplate": "%{y:.1f}",
         "type": "bar",
         "x": [
          "gTech-IESD"
         ],
         "xaxis": "x4",
         "y": {
          "bdata": "e5Gzrl0bJkA=",
          "dtype": "f8"
         },
         "yaxis": "y4"
        },
        {
         "hovertemplate": "Plant Type=Other<br>Period=2040<br>Source=%{x}<br>Generation (PJ)=%{y}<extra></extra>",
         "legendgroup": "Other",
         "marker": {
          "color": "#B82E2E",
          "pattern": {
           "shape": ""
          }
         },
         "name": "Other",
         "orientation": "v",
         "showlegend": false,
         "textfont": {
          "size": 9
         },
         "textposition": "auto",
         "texttemplate": "%{y:.1f}",
         "type": "bar",
         "x": [
          "gTech-IESD"
         ],
         "xaxis": "x5",
         "y": {
          "bdata": "TYXCaFnrJ0A=",
          "dtype": "f8"
         },
         "yaxis": "y5"
        },
        {
         "hovertemplate": "Plant Type=Other<br>Period=2045<br>Source=%{x}<br>Generation (PJ)=%{y}<extra></extra>",
         "legendgroup": "Other",
         "marker": {
          "color": "#B82E2E",
          "pattern": {
           "shape": ""
          }
         },
         "name": "Other",
         "orientation": "v",
         "showlegend": false,
         "textfont": {
          "size": 9
         },
         "textposition": "auto",
         "texttemplate": "%{y:.1f}",
         "type": "bar",
         "x": [
          "gTech-IESD"
         ],
         "xaxis": "x6",
         "y": {
          "bdata": "V+KiF0zCKUA=",
          "dtype": "f8"
         },
         "yaxis": "y6"
        },
        {
         "hovertemplate": "Plant Type=Other<br>Period=2050<br>Source=%{x}<br>Generation (PJ)=%{y}<extra></extra>",
         "legendgroup": "Other",
         "marker": {
          "color": "#B82E2E",
          "pattern": {
           "shape": ""
          }
         },
         "name": "Other",
         "orientation": "v",
         "showlegend": false,
         "textfont": {
          "size": 9
         },
         "textposition": "auto",
         "texttemplate": "%{y:.1f}",
         "type": "bar",
         "x": [
          "gTech-IESD"
         ],
         "xaxis": "x7",
         "y": {
          "bdata": "26N2iaphK0A=",
          "dtype": "f8"
         },
         "yaxis": "y7"
        }
       ],
       "layout": {
        "annotations": [
         {
          "font": {},
          "showarrow": false,
          "text": "2021",
          "x": 0.06285714285714285,
          "xanchor": "center",
          "xref": "paper",
          "y": -0.1,
          "yanchor": "top",
          "yref": "paper"
         },
         {
          "font": {},
          "showarrow": false,
          "text": "2025",
          "x": 0.20857142857142852,
          "xanchor": "center",
          "xref": "paper",
          "y": -0.1,
          "yanchor": "top",
          "yref": "paper"
         },
         {
          "font": {},
          "showarrow": false,
          "text": "2030",
          "x": 0.3542857142857142,
          "xanchor": "center",
          "xref": "paper",
          "y": -0.1,
          "yanchor": "top",
          "yref": "paper"
         },
         {
          "font": {},
          "showarrow": false,
          "text": "2035",
          "x": 0.5,
          "xanchor": "center",
          "xref": "paper",
          "y": -0.1,
          "yanchor": "top",
          "yref": "paper"
         },
         {
          "font": {},
          "showarrow": false,
          "text": "2040",
          "x": 0.6457142857142856,
          "xanchor": "center",
          "xref": "paper",
          "y": -0.1,
          "yanchor": "top",
          "yref": "paper"
         },
         {
          "font": {},
          "showarrow": false,
          "text": "2045",
          "x": 0.7914285714285713,
          "xanchor": "center",
          "xref": "paper",
          "y": -0.1,
          "yanchor": "top",
          "yref": "paper"
         },
         {
          "font": {},
          "showarrow": false,
          "text": "2050",
          "x": 0.937142857142857,
          "xanchor": "center",
          "xref": "paper",
          "y": -0.1,
          "yanchor": "top",
          "yref": "paper"
         }
        ],
        "bargap": 0.1,
        "barmode": "stack",
        "font": {
         "size": 14
        },
        "height": 650,
        "legend": {
         "orientation": "h",
         "title": {
          "text": ""
         },
         "tracegroupgap": 0,
         "x": 0.5,
         "xanchor": "center",
         "y": 1.04,
         "yanchor": "top"
        },
        "margin": {
         "t": 60
        },
        "template": {
         "data": {
          "bar": [
           {
            "error_x": {
             "color": "#2a3f5f"
            },
            "error_y": {
             "color": "#2a3f5f"
            },
            "marker": {
             "line": {
              "color": "white",
              "width": 0.5
             },
             "pattern": {
              "fillmode": "overlay",
              "size": 10,
              "solidity": 0.2
             }
            },
            "type": "bar"
           }
          ],
          "barpolar": [
           {
            "marker": {
             "line": {
              "color": "white",
              "width": 0.5
             },
             "pattern": {
              "fillmode": "overlay",
              "size": 10,
              "solidity": 0.2
             }
            },
            "type": "barpolar"
           }
          ],
          "carpet": [
           {
            "aaxis": {
             "endlinecolor": "#2a3f5f",
             "gridcolor": "#C8D4E3",
             "linecolor": "#C8D4E3",
             "minorgridcolor": "#C8D4E3",
             "startlinecolor": "#2a3f5f"
            },
            "baxis": {
             "endlinecolor": "#2a3f5f",
             "gridcolor": "#C8D4E3",
             "linecolor": "#C8D4E3",
             "minorgridcolor": "#C8D4E3",
             "startlinecolor": "#2a3f5f"
            },
            "type": "carpet"
           }
          ],
          "choropleth": [
           {
            "colorbar": {
             "outlinewidth": 0,
             "ticks": ""
            },
            "type": "choropleth"
           }
          ],
          "contour": [
           {
            "colorbar": {
             "outlinewidth": 0,
             "ticks": ""
            },
            "colorscale": [
             [
              0,
              "#0d0887"
             ],
             [
              0.1111111111111111,
              "#46039f"
             ],
             [
              0.2222222222222222,
              "#7201a8"
             ],
             [
              0.3333333333333333,
              "#9c179e"
             ],
             [
              0.4444444444444444,
              "#bd3786"
             ],
             [
              0.5555555555555556,
              "#d8576b"
             ],
             [
              0.6666666666666666,
              "#ed7953"
             ],
             [
              0.7777777777777778,
              "#fb9f3a"
             ],
             [
              0.8888888888888888,
              "#fdca26"
             ],
             [
              1,
              "#f0f921"
             ]
            ],
            "type": "contour"
           }
          ],
          "contourcarpet": [
           {
            "colorbar": {
             "outlinewidth": 0,
             "ticks": ""
            },
            "type": "contourcarpet"
           }
          ],
          "heatmap": [
           {
            "colorbar": {
             "outlinewidth": 0,
             "ticks": ""
            },
            "colorscale": [
             [
              0,
              "#0d0887"
             ],
             [
              0.1111111111111111,
              "#46039f"
             ],
             [
              0.2222222222222222,
              "#7201a8"
             ],
             [
              0.3333333333333333,
              "#9c179e"
             ],
             [
              0.4444444444444444,
              "#bd3786"
             ],
             [
              0.5555555555555556,
              "#d8576b"
             ],
             [
              0.6666666666666666,
              "#ed7953"
             ],
             [
              0.7777777777777778,
              "#fb9f3a"
             ],
             [
              0.8888888888888888,
              "#fdca26"
             ],
             [
              1,
              "#f0f921"
             ]
            ],
            "type": "heatmap"
           }
          ],
          "histogram": [
           {
            "marker": {
             "pattern": {
              "fillmode": "overlay",
              "size": 10,
              "solidity": 0.2
             }
            },
            "type": "histogram"
           }
          ],
          "histogram2d": [
           {
            "colorbar": {
             "outlinewidth": 0,
             "ticks": ""
            },
            "colorscale": [
             [
              0,
              "#0d0887"
             ],
             [
              0.1111111111111111,
              "#46039f"
             ],
             [
              0.2222222222222222,
              "#7201a8"
             ],
             [
              0.3333333333333333,
              "#9c179e"
             ],
             [
              0.4444444444444444,
              "#bd3786"
             ],
             [
              0.5555555555555556,
              "#d8576b"
             ],
             [
              0.6666666666666666,
              "#ed7953"
             ],
             [
              0.7777777777777778,
              "#fb9f3a"
             ],
             [
              0.8888888888888888,
              "#fdca26"
             ],
             [
              1,
              "#f0f921"
             ]
            ],
            "type": "histogram2d"
           }
          ],
          "histogram2dcontour": [
           {
            "colorbar": {
             "outlinewidth": 0,
             "ticks": ""
            },
            "colorscale": [
             [
              0,
              "#0d0887"
             ],
             [
              0.1111111111111111,
              "#46039f"
             ],
             [
              0.2222222222222222,
              "#7201a8"
             ],
             [
              0.3333333333333333,
              "#9c179e"
             ],
             [
              0.4444444444444444,
              "#bd3786"
             ],
             [
              0.5555555555555556,
              "#d8576b"
             ],
             [
              0.6666666666666666,
              "#ed7953"
             ],
             [
              0.7777777777777778,
              "#fb9f3a"
             ],
             [
              0.8888888888888888,
              "#fdca26"
             ],
             [
              1,
              "#f0f921"
             ]
            ],
            "type": "histogram2dcontour"
           }
          ],
          "mesh3d": [
           {
            "colorbar": {
             "outlinewidth": 0,
             "ticks": ""
            },
            "type": "mesh3d"
           }
          ],
          "parcoords": [
           {
            "line": {
             "colorbar": {
              "outlinewidth": 0,
              "ticks": ""
             }
            },
            "type": "parcoords"
           }
          ],
          "pie": [
           {
            "automargin": true,
            "type": "pie"
           }
          ],
          "scatter": [
           {
            "fillpattern": {
             "fillmode": "overlay",
             "size": 10,
             "solidity": 0.2
            },
            "type": "scatter"
           }
          ],
          "scatter3d": [
           {
            "line": {
             "colorbar": {
              "outlinewidth": 0,
              "ticks": ""
             }
            },
            "marker": {
             "colorbar": {
              "outlinewidth": 0,
              "ticks": ""
             }
            },
            "type": "scatter3d"
           }
          ],
          "scattercarpet": [
           {
            "marker": {
             "colorbar": {
              "outlinewidth": 0,
              "ticks": ""
             }
            },
            "type": "scattercarpet"
           }
          ],
          "scattergeo": [
           {
            "marker": {
             "colorbar": {
              "outlinewidth": 0,
              "ticks": ""
             }
            },
            "type": "scattergeo"
           }
          ],
          "scattergl": [
           {
            "marker": {
             "colorbar": {
              "outlinewidth": 0,
              "ticks": ""
             }
            },
            "type": "scattergl"
           }
          ],
          "scattermap": [
           {
            "marker": {
             "colorbar": {
              "outlinewidth": 0,
              "ticks": ""
             }
            },
            "type": "scattermap"
           }
          ],
          "scattermapbox": [
           {
            "marker": {
             "colorbar": {
              "outlinewidth": 0,
              "ticks": ""
             }
            },
            "type": "scattermapbox"
           }
          ],
          "scatterpolar": [
           {
            "marker": {
             "colorbar": {
              "outlinewidth": 0,
              "ticks": ""
             }
            },
            "type": "scatterpolar"
           }
          ],
          "scatterpolargl": [
           {
            "marker": {
             "colorbar": {
              "outlinewidth": 0,
              "ticks": ""
             }
            },
            "type": "scatterpolargl"
           }
          ],
          "scatterternary": [
           {
            "marker": {
             "colorbar": {
              "outlinewidth": 0,
              "ticks": ""
             }
            },
            "type": "scatterternary"
           }
          ],
          "surface": [
           {
            "colorbar": {
             "outlinewidth": 0,
             "ticks": ""
            },
            "colorscale": [
             [
              0,
              "#0d0887"
             ],
             [
              0.1111111111111111,
              "#46039f"
             ],
             [
              0.2222222222222222,
              "#7201a8"
             ],
             [
              0.3333333333333333,
              "#9c179e"
             ],
             [
              0.4444444444444444,
              "#bd3786"
             ],
             [
              0.5555555555555556,
              "#d8576b"
             ],
             [
              0.6666666666666666,
              "#ed7953"
             ],
             [
              0.7777777777777778,
              "#fb9f3a"
             ],
             [
              0.8888888888888888,
              "#fdca26"
             ],
             [
              1,
              "#f0f921"
             ]
            ],
            "type": "surface"
           }
          ],
          "table": [
           {
            "cells": {
             "fill": {
              "color": "#EBF0F8"
             },
             "line": {
              "color": "white"
             }
            },
            "header": {
             "fill": {
              "color": "#C8D4E3"
             },
             "line": {
              "color": "white"
             }
            },
            "type": "table"
           }
          ]
         },
         "layout": {
          "annotationdefaults": {
           "arrowcolor": "#2a3f5f",
           "arrowhead": 0,
           "arrowwidth": 1
          },
          "autotypenumbers": "strict",
          "coloraxis": {
           "colorbar": {
            "outlinewidth": 0,
            "ticks": ""
           }
          },
          "colorscale": {
           "diverging": [
            [
             0,
             "#8e0152"
            ],
            [
             0.1,
             "#c51b7d"
            ],
            [
             0.2,
             "#de77ae"
            ],
            [
             0.3,
             "#f1b6da"
            ],
            [
             0.4,
             "#fde0ef"
            ],
            [
             0.5,
             "#f7f7f7"
            ],
            [
             0.6,
             "#e6f5d0"
            ],
            [
             0.7,
             "#b8e186"
            ],
            [
             0.8,
             "#7fbc41"
            ],
            [
             0.9,
             "#4d9221"
            ],
            [
             1,
             "#276419"
            ]
           ],
           "sequential": [
            [
             0,
             "#0d0887"
            ],
            [
             0.1111111111111111,
             "#46039f"
            ],
            [
             0.2222222222222222,
             "#7201a8"
            ],
            [
             0.3333333333333333,
             "#9c179e"
            ],
            [
             0.4444444444444444,
             "#bd3786"
            ],
            [
             0.5555555555555556,
             "#d8576b"
            ],
            [
             0.6666666666666666,
             "#ed7953"
            ],
            [
             0.7777777777777778,
             "#fb9f3a"
            ],
            [
             0.8888888888888888,
             "#fdca26"
            ],
            [
             1,
             "#f0f921"
            ]
           ],
           "sequentialminus": [
            [
             0,
             "#0d0887"
            ],
            [
             0.1111111111111111,
             "#46039f"
            ],
            [
             0.2222222222222222,
             "#7201a8"
            ],
            [
             0.3333333333333333,
             "#9c179e"
            ],
            [
             0.4444444444444444,
             "#bd3786"
            ],
            [
             0.5555555555555556,
             "#d8576b"
            ],
            [
             0.6666666666666666,
             "#ed7953"
            ],
            [
             0.7777777777777778,
             "#fb9f3a"
            ],
            [
             0.8888888888888888,
             "#fdca26"
            ],
            [
             1,
             "#f0f921"
            ]
           ]
          },
          "colorway": [
           "#636efa",
           "#EF553B",
           "#00cc96",
           "#ab63fa",
           "#FFA15A",
           "#19d3f3",
           "#FF6692",
           "#B6E880",
           "#FF97FF",
           "#FECB52"
          ],
          "font": {
           "color": "#2a3f5f"
          },
          "geo": {
           "bgcolor": "white",
           "lakecolor": "white",
           "landcolor": "white",
           "showlakes": true,
           "showland": true,
           "subunitcolor": "#C8D4E3"
          },
          "hoverlabel": {
           "align": "left"
          },
          "hovermode": "closest",
          "mapbox": {
           "style": "light"
          },
          "paper_bgcolor": "white",
          "plot_bgcolor": "white",
          "polar": {
           "angularaxis": {
            "gridcolor": "#EBF0F8",
            "linecolor": "#EBF0F8",
            "ticks": ""
           },
           "bgcolor": "white",
           "radialaxis": {
            "gridcolor": "#EBF0F8",
            "linecolor": "#EBF0F8",
            "ticks": ""
           }
          },
          "scene": {
           "xaxis": {
            "backgroundcolor": "white",
            "gridcolor": "#DFE8F3",
            "gridwidth": 2,
            "linecolor": "#EBF0F8",
            "showbackground": true,
            "ticks": "",
            "zerolinecolor": "#EBF0F8"
           },
           "yaxis": {
            "backgroundcolor": "white",
            "gridcolor": "#DFE8F3",
            "gridwidth": 2,
            "linecolor": "#EBF0F8",
            "showbackground": true,
            "ticks": "",
            "zerolinecolor": "#EBF0F8"
           },
           "zaxis": {
            "backgroundcolor": "white",
            "gridcolor": "#DFE8F3",
            "gridwidth": 2,
            "linecolor": "#EBF0F8",
            "showbackground": true,
            "ticks": "",
            "zerolinecolor": "#EBF0F8"
           }
          },
          "shapedefaults": {
           "line": {
            "color": "#2a3f5f"
           }
          },
          "ternary": {
           "aaxis": {
            "gridcolor": "#DFE8F3",
            "linecolor": "#A2B1C6",
            "ticks": ""
           },
           "baxis": {
            "gridcolor": "#DFE8F3",
            "linecolor": "#A2B1C6",
            "ticks": ""
           },
           "bgcolor": "white",
           "caxis": {
            "gridcolor": "#DFE8F3",
            "linecolor": "#A2B1C6",
            "ticks": ""
           }
          },
          "title": {
           "x": 0.05
          },
          "xaxis": {
           "automargin": true,
           "gridcolor": "#EBF0F8",
           "linecolor": "#EBF0F8",
           "ticks": "",
           "title": {
            "standoff": 15
           },
           "zerolinecolor": "#EBF0F8",
           "zerolinewidth": 2
          },
          "yaxis": {
           "automargin": true,
           "gridcolor": "#EBF0F8",
           "linecolor": "#EBF0F8",
           "ticks": "",
           "title": {
            "standoff": 15
           },
           "zerolinecolor": "#EBF0F8",
           "zerolinewidth": 2
          }
         }
        },
        "title": {
         "text": "Electricity generation in ON by plant type",
         "x": 0.5,
         "xanchor": "center",
         "y": 0.97,
         "yanchor": "top"
        },
        "width": 1200,
        "xaxis": {
         "anchor": "y",
         "domain": [
          0,
          0.1257142857142857
         ],
         "title": {
          "text": ""
         }
        },
        "xaxis2": {
         "anchor": "y2",
         "domain": [
          0.14571428571428569,
          0.27142857142857135
         ],
         "matches": "x",
         "title": {
          "text": ""
         }
        },
        "xaxis3": {
         "anchor": "y3",
         "domain": [
          0.29142857142857137,
          0.41714285714285704
         ],
         "matches": "x",
         "title": {
          "text": ""
         }
        },
        "xaxis4": {
         "anchor": "y4",
         "domain": [
          0.4371428571428571,
          0.5628571428571428
         ],
         "matches": "x",
         "title": {
          "text": ""
         }
        },
        "xaxis5": {
         "anchor": "y5",
         "domain": [
          0.5828571428571427,
          0.7085714285714284
         ],
         "matches": "x",
         "title": {
          "text": ""
         }
        },
        "xaxis6": {
         "anchor": "y6",
         "domain": [
          0.7285714285714284,
          0.8542857142857141
         ],
         "matches": "x",
         "title": {
          "text": ""
         }
        },
        "xaxis7": {
         "anchor": "y7",
         "domain": [
          0.8742857142857142,
          0.9999999999999999
         ],
         "matches": "x",
         "title": {
          "text": ""
         }
        },
        "yaxis": {
         "anchor": "x",
         "domain": [
          0,
          1
         ],
         "dtick": 200,
         "title": {
          "standoff": 0,
          "text": "Generation (PJ)"
         }
        },
        "yaxis2": {
         "anchor": "x2",
         "domain": [
          0,
          1
         ],
         "matches": "y",
         "showticklabels": false
        },
        "yaxis3": {
         "anchor": "x3",
         "domain": [
          0,
          1
         ],
         "matches": "y",
         "showticklabels": false
        },
        "yaxis4": {
         "anchor": "x4",
         "domain": [
          0,
          1
         ],
         "matches": "y",
         "showticklabels": false
        },
        "yaxis5": {
         "anchor": "x5",
         "domain": [
          0,
          1
         ],
         "matches": "y",
         "showticklabels": false
        },
        "yaxis6": {
         "anchor": "x6",
         "domain": [
          0,
          1
         ],
         "matches": "y",
         "showticklabels": false
        },
        "yaxis7": {
         "anchor": "x7",
         "domain": [
          0,
          1
         ],
         "matches": "y",
         "showticklabels": false
        }
       }
      }
     },
     "metadata": {},
     "output_type": "display_data"
    }
   ],
   "source": [
    "bau23_gen['Generation (PJ)'] = bau23_gen['Generation (GWh)'] * 0.0036\n",
    "bau23_fig = bau23_gen[['Period', 'Plant Type', 'Generation (PJ)']].copy()\n",
    "bau23_fig['Plant Type'] = bau23_fig['Plant Type'].replace({'Hydro / Wave / Tidal': 'Hydro', 'Biomass / Geothermal': 'Biomass', 'Uranium': 'Nuclear'})\n",
    "ref_fig = ref_elcact[ref_elcact['Plant Type'] != 'Other'].groupby(['Period', 'Plant Type'], as_index=False).sum('Generation (PJ)')\n",
    "gtech23_ref_gen['Generation (PJ)'] = gtech23_ref_gen['Generation (TWh)'] * 3.6\n",
    "gtech23_fig = gtech23_ref_gen.copy()\n",
    "gtech23_fig['Period'] = gtech23_fig['Period'].astype(str)\n",
    "\n",
    "gtech23_fig['Source'] = 'gTech-IESD'\n",
    "bau23_fig['Source'] = 'CEF2023'\n",
    "ref_fig['Source'] = 'CANOE'\n",
    "fig_df = pd.concat([ref_fig[['Period', 'Plant Type', 'Generation (PJ)', 'Source']], bau23_fig[['Period', 'Plant Type', 'Generation (PJ)', 'Source']], gtech23_fig[['Period', 'Plant Type', 'Generation (PJ)', 'Source']]])\n",
    "\n",
    "fig = px.bar(fig_df, \n",
    "             x='Source', \n",
    "             y='Generation (PJ)', \n",
    "             color='Plant Type', \n",
    "             barmode='stack', \n",
    "             facet_col='Period',\n",
    "             facet_col_spacing=2E-2,\n",
    "             template='plotly_white',\n",
    "             color_discrete_sequence=px.colors.qualitative.G10[:7] + px.colors.qualitative.G10[8:],\n",
    "             text_auto='.1f',\n",
    "             width=1200, height=650,\n",
    "             )\n",
    "\n",
    "fig.update_layout(title=dict(\n",
    "        text='Electricity generation in ON by plant type',\n",
    "        x=0.5, \n",
    "        y=0.97,\n",
    "        xanchor='center',\n",
    "        yanchor='top'\n",
    "    ),\n",
    "    xaxis=dict(title='Period'),\n",
    "    yaxis=dict(title='Generation (PJ)',\n",
    "               dtick=200),\n",
    "    yaxis_title_standoff=0,\n",
    "    legend_title_text='',\n",
    "    bargap=0.1,\n",
    "    legend=dict(\n",
    "        orientation='h',  \n",
    "        yanchor='top',\n",
    "        y=1.04,  \n",
    "        xanchor='center',\n",
    "        x=0.5),\n",
    "    font=dict(\n",
    "        # family=\"Open Sans\",\n",
    "        size=14)\n",
    "    )\n",
    "\n",
    "for annotation in fig.layout.annotations:\n",
    "    annotation.text = annotation.text.split('=')[1]\n",
    "    annotation.y = -0.1  \n",
    "    annotation.yanchor = 'top' \n",
    "\n",
    "for axis in fig.layout:\n",
    "    if axis.startswith('xaxis'):\n",
    "        fig.layout[axis].title.text = ''\n",
    "\n",
    "fig.for_each_trace(lambda trace: trace.update(textfont=dict(size=9)))\n",
    "\n",
    "fig.show()"
   ]
  },
  {
   "cell_type": "markdown",
   "metadata": {},
   "source": [
    "# Added capacity"
   ]
  },
  {
   "cell_type": "code",
   "execution_count": 266,
   "metadata": {},
   "outputs": [],
   "source": [
    "# ref_newcap_elc = ref_newcap[(ref_newcap['Sector'] == 'electricity')].copy()\n",
    "# ref_newcap_elc['Plant Type'] = ref_newcap_elc['Technology'].apply(map_tech_to_plant)"
   ]
  },
  {
   "cell_type": "code",
   "execution_count": 267,
   "metadata": {},
   "outputs": [],
   "source": [
    "ref_elcnewcap.columns = ref_elcnewcap.columns.astype(str)\n",
    "periods = [col for col in ref_elcnewcap.columns if col.isdigit()]\n",
    "params = [col for col in ref_elcnewcap.columns if not col.isdigit()]\n",
    "ref_elcnewcap = pd.melt(ref_elcnewcap, id_vars=params, var_name='Period', value_name='New Capacity', value_vars=periods)\n",
    "\n",
    "ref_elcnewcap['Plant Type'] = ref_elcnewcap['Technology'].apply(map_tech_to_plant)"
   ]
  },
  {
   "cell_type": "code",
   "execution_count": 268,
   "metadata": {},
   "outputs": [
    {
     "data": {
      "application/vnd.plotly.v1+json": {
       "config": {
        "plotlyServerURL": "https://plot.ly"
       },
       "data": [
        {
         "hovertemplate": "Plant Type=Biomass<br>Period=%{x}<br>New Capacity=%{y}<extra></extra>",
         "legendgroup": "Biomass",
         "marker": {
          "color": "#3366CC",
          "pattern": {
           "shape": ""
          }
         },
         "name": "Biomass",
         "orientation": "v",
         "showlegend": true,
         "textfont": {
          "size": 9
         },
         "textposition": "auto",
         "texttemplate": "%{y:.1f}",
         "type": "bar",
         "x": [
          "2021",
          "2025",
          "2030",
          "2035",
          "2040",
          "2045",
          "2050"
         ],
         "xaxis": "x",
         "y": {
          "bdata": "AAAAAAAAAAAAAAAAAAAAAAAAAAAAAAAAAAAAAAAAAAAAAAAAAAAAAAAAAAAAAAAAAAAAAAAAAAA=",
          "dtype": "f8"
         },
         "yaxis": "y"
        },
        {
         "hovertemplate": "Plant Type=Hydro<br>Period=%{x}<br>New Capacity=%{y}<extra></extra>",
         "legendgroup": "Hydro",
         "marker": {
          "color": "#DC3912",
          "pattern": {
           "shape": ""
          }
         },
         "name": "Hydro",
         "orientation": "v",
         "showlegend": true,
         "textfont": {
          "size": 9
         },
         "textposition": "auto",
         "texttemplate": "%{y:.1f}",
         "type": "bar",
         "x": [
          "2021",
          "2025",
          "2030",
          "2035",
          "2040",
          "2045",
          "2050"
         ],
         "xaxis": "x",
         "y": {
          "bdata": "AAAAAAAAAAAAAAAAAAAAAAAAAAAAAAAAAAAAAAAAAAAAAAAAAAAAAAAAAAAAAAAAAAAAAAAAAAA=",
          "dtype": "f8"
         },
         "yaxis": "y"
        },
        {
         "hovertemplate": "Plant Type=Natural Gas<br>Period=%{x}<br>New Capacity=%{y}<extra></extra>",
         "legendgroup": "Natural Gas",
         "marker": {
          "color": "#FF9900",
          "pattern": {
           "shape": ""
          }
         },
         "name": "Natural Gas",
         "orientation": "v",
         "showlegend": true,
         "textfont": {
          "size": 9
         },
         "textposition": "auto",
         "texttemplate": "%{y:.1f}",
         "type": "bar",
         "x": [
          "2021",
          "2025",
          "2030",
          "2035",
          "2040",
          "2045",
          "2050"
         ],
         "xaxis": "x",
         "y": {
          "bdata": "lCToc2yTNECjqoEHs2cqQC+xW7OsqjBAfQJtx2JGJkDsYAxmqoolQOHt1ImhiiVAFP5Xu66KJUA=",
          "dtype": "f8"
         },
         "yaxis": "y"
        },
        {
         "hovertemplate": "Plant Type=Nuclear<br>Period=%{x}<br>New Capacity=%{y}<extra></extra>",
         "legendgroup": "Nuclear",
         "marker": {
          "color": "#109618",
          "pattern": {
           "shape": ""
          }
         },
         "name": "Nuclear",
         "orientation": "v",
         "showlegend": true,
         "textfont": {
          "size": 9
         },
         "textposition": "auto",
         "texttemplate": "%{y:.1f}",
         "type": "bar",
         "x": [
          "2021",
          "2025",
          "2030",
          "2035",
          "2040",
          "2045",
          "2050"
         ],
         "xaxis": "x",
         "y": {
          "bdata": "AAAAAAAAAAAAAAAAAAAAAAAAAAAAAAAAAAAAAAAAAAAAAAAAAAAAAAAAAAAAAAAAAAAAAAAAAAA=",
          "dtype": "f8"
         },
         "yaxis": "y"
        },
        {
         "hovertemplate": "Plant Type=Solar<br>Period=%{x}<br>New Capacity=%{y}<extra></extra>",
         "legendgroup": "Solar",
         "marker": {
          "color": "#990099",
          "pattern": {
           "shape": ""
          }
         },
         "name": "Solar",
         "orientation": "v",
         "showlegend": true,
         "textfont": {
          "size": 9
         },
         "textposition": "auto",
         "texttemplate": "%{y:.1f}",
         "type": "bar",
         "x": [
          "2021",
          "2025",
          "2030",
          "2035",
          "2040",
          "2045",
          "2050"
         ],
         "xaxis": "x",
         "y": {
          "bdata": "iehL7T+65z5gq18B6cfrPsB37RyggyI/rKUTwHMfIECLQh572c82Pw4IPzpKgC0/6IeolEEdBkA=",
          "dtype": "f8"
         },
         "yaxis": "y"
        },
        {
         "hovertemplate": "Plant Type=Wind<br>Period=%{x}<br>New Capacity=%{y}<extra></extra>",
         "legendgroup": "Wind",
         "marker": {
          "color": "#0099C6",
          "pattern": {
           "shape": ""
          }
         },
         "name": "Wind",
         "orientation": "v",
         "showlegend": true,
         "textfont": {
          "size": 9
         },
         "textposition": "auto",
         "texttemplate": "%{y:.1f}",
         "type": "bar",
         "x": [
          "2021",
          "2025",
          "2030",
          "2035",
          "2040",
          "2045",
          "2050"
         ],
         "xaxis": "x",
         "y": {
          "bdata": "p8VeVlmMND+39LmY8vMBQFYxCJRfTiRA3hXt1AnO/j9uJECI4oNAP+HE5+kMPiw/yh5etEHeNT8=",
          "dtype": "f8"
         },
         "yaxis": "y"
        }
       ],
       "layout": {
        "bargap": 0.2,
        "barmode": "stack",
        "font": {
         "size": 14
        },
        "height": 650,
        "legend": {
         "orientation": "h",
         "title": {
          "text": ""
         },
         "tracegroupgap": 0,
         "x": 0.5,
         "xanchor": "center",
         "y": 1.04,
         "yanchor": "top"
        },
        "margin": {
         "t": 60
        },
        "template": {
         "data": {
          "bar": [
           {
            "error_x": {
             "color": "#2a3f5f"
            },
            "error_y": {
             "color": "#2a3f5f"
            },
            "marker": {
             "line": {
              "color": "white",
              "width": 0.5
             },
             "pattern": {
              "fillmode": "overlay",
              "size": 10,
              "solidity": 0.2
             }
            },
            "type": "bar"
           }
          ],
          "barpolar": [
           {
            "marker": {
             "line": {
              "color": "white",
              "width": 0.5
             },
             "pattern": {
              "fillmode": "overlay",
              "size": 10,
              "solidity": 0.2
             }
            },
            "type": "barpolar"
           }
          ],
          "carpet": [
           {
            "aaxis": {
             "endlinecolor": "#2a3f5f",
             "gridcolor": "#C8D4E3",
             "linecolor": "#C8D4E3",
             "minorgridcolor": "#C8D4E3",
             "startlinecolor": "#2a3f5f"
            },
            "baxis": {
             "endlinecolor": "#2a3f5f",
             "gridcolor": "#C8D4E3",
             "linecolor": "#C8D4E3",
             "minorgridcolor": "#C8D4E3",
             "startlinecolor": "#2a3f5f"
            },
            "type": "carpet"
           }
          ],
          "choropleth": [
           {
            "colorbar": {
             "outlinewidth": 0,
             "ticks": ""
            },
            "type": "choropleth"
           }
          ],
          "contour": [
           {
            "colorbar": {
             "outlinewidth": 0,
             "ticks": ""
            },
            "colorscale": [
             [
              0,
              "#0d0887"
             ],
             [
              0.1111111111111111,
              "#46039f"
             ],
             [
              0.2222222222222222,
              "#7201a8"
             ],
             [
              0.3333333333333333,
              "#9c179e"
             ],
             [
              0.4444444444444444,
              "#bd3786"
             ],
             [
              0.5555555555555556,
              "#d8576b"
             ],
             [
              0.6666666666666666,
              "#ed7953"
             ],
             [
              0.7777777777777778,
              "#fb9f3a"
             ],
             [
              0.8888888888888888,
              "#fdca26"
             ],
             [
              1,
              "#f0f921"
             ]
            ],
            "type": "contour"
           }
          ],
          "contourcarpet": [
           {
            "colorbar": {
             "outlinewidth": 0,
             "ticks": ""
            },
            "type": "contourcarpet"
           }
          ],
          "heatmap": [
           {
            "colorbar": {
             "outlinewidth": 0,
             "ticks": ""
            },
            "colorscale": [
             [
              0,
              "#0d0887"
             ],
             [
              0.1111111111111111,
              "#46039f"
             ],
             [
              0.2222222222222222,
              "#7201a8"
             ],
             [
              0.3333333333333333,
              "#9c179e"
             ],
             [
              0.4444444444444444,
              "#bd3786"
             ],
             [
              0.5555555555555556,
              "#d8576b"
             ],
             [
              0.6666666666666666,
              "#ed7953"
             ],
             [
              0.7777777777777778,
              "#fb9f3a"
             ],
             [
              0.8888888888888888,
              "#fdca26"
             ],
             [
              1,
              "#f0f921"
             ]
            ],
            "type": "heatmap"
           }
          ],
          "histogram": [
           {
            "marker": {
             "pattern": {
              "fillmode": "overlay",
              "size": 10,
              "solidity": 0.2
             }
            },
            "type": "histogram"
           }
          ],
          "histogram2d": [
           {
            "colorbar": {
             "outlinewidth": 0,
             "ticks": ""
            },
            "colorscale": [
             [
              0,
              "#0d0887"
             ],
             [
              0.1111111111111111,
              "#46039f"
             ],
             [
              0.2222222222222222,
              "#7201a8"
             ],
             [
              0.3333333333333333,
              "#9c179e"
             ],
             [
              0.4444444444444444,
              "#bd3786"
             ],
             [
              0.5555555555555556,
              "#d8576b"
             ],
             [
              0.6666666666666666,
              "#ed7953"
             ],
             [
              0.7777777777777778,
              "#fb9f3a"
             ],
             [
              0.8888888888888888,
              "#fdca26"
             ],
             [
              1,
              "#f0f921"
             ]
            ],
            "type": "histogram2d"
           }
          ],
          "histogram2dcontour": [
           {
            "colorbar": {
             "outlinewidth": 0,
             "ticks": ""
            },
            "colorscale": [
             [
              0,
              "#0d0887"
             ],
             [
              0.1111111111111111,
              "#46039f"
             ],
             [
              0.2222222222222222,
              "#7201a8"
             ],
             [
              0.3333333333333333,
              "#9c179e"
             ],
             [
              0.4444444444444444,
              "#bd3786"
             ],
             [
              0.5555555555555556,
              "#d8576b"
             ],
             [
              0.6666666666666666,
              "#ed7953"
             ],
             [
              0.7777777777777778,
              "#fb9f3a"
             ],
             [
              0.8888888888888888,
              "#fdca26"
             ],
             [
              1,
              "#f0f921"
             ]
            ],
            "type": "histogram2dcontour"
           }
          ],
          "mesh3d": [
           {
            "colorbar": {
             "outlinewidth": 0,
             "ticks": ""
            },
            "type": "mesh3d"
           }
          ],
          "parcoords": [
           {
            "line": {
             "colorbar": {
              "outlinewidth": 0,
              "ticks": ""
             }
            },
            "type": "parcoords"
           }
          ],
          "pie": [
           {
            "automargin": true,
            "type": "pie"
           }
          ],
          "scatter": [
           {
            "fillpattern": {
             "fillmode": "overlay",
             "size": 10,
             "solidity": 0.2
            },
            "type": "scatter"
           }
          ],
          "scatter3d": [
           {
            "line": {
             "colorbar": {
              "outlinewidth": 0,
              "ticks": ""
             }
            },
            "marker": {
             "colorbar": {
              "outlinewidth": 0,
              "ticks": ""
             }
            },
            "type": "scatter3d"
           }
          ],
          "scattercarpet": [
           {
            "marker": {
             "colorbar": {
              "outlinewidth": 0,
              "ticks": ""
             }
            },
            "type": "scattercarpet"
           }
          ],
          "scattergeo": [
           {
            "marker": {
             "colorbar": {
              "outlinewidth": 0,
              "ticks": ""
             }
            },
            "type": "scattergeo"
           }
          ],
          "scattergl": [
           {
            "marker": {
             "colorbar": {
              "outlinewidth": 0,
              "ticks": ""
             }
            },
            "type": "scattergl"
           }
          ],
          "scattermap": [
           {
            "marker": {
             "colorbar": {
              "outlinewidth": 0,
              "ticks": ""
             }
            },
            "type": "scattermap"
           }
          ],
          "scattermapbox": [
           {
            "marker": {
             "colorbar": {
              "outlinewidth": 0,
              "ticks": ""
             }
            },
            "type": "scattermapbox"
           }
          ],
          "scatterpolar": [
           {
            "marker": {
             "colorbar": {
              "outlinewidth": 0,
              "ticks": ""
             }
            },
            "type": "scatterpolar"
           }
          ],
          "scatterpolargl": [
           {
            "marker": {
             "colorbar": {
              "outlinewidth": 0,
              "ticks": ""
             }
            },
            "type": "scatterpolargl"
           }
          ],
          "scatterternary": [
           {
            "marker": {
             "colorbar": {
              "outlinewidth": 0,
              "ticks": ""
             }
            },
            "type": "scatterternary"
           }
          ],
          "surface": [
           {
            "colorbar": {
             "outlinewidth": 0,
             "ticks": ""
            },
            "colorscale": [
             [
              0,
              "#0d0887"
             ],
             [
              0.1111111111111111,
              "#46039f"
             ],
             [
              0.2222222222222222,
              "#7201a8"
             ],
             [
              0.3333333333333333,
              "#9c179e"
             ],
             [
              0.4444444444444444,
              "#bd3786"
             ],
             [
              0.5555555555555556,
              "#d8576b"
             ],
             [
              0.6666666666666666,
              "#ed7953"
             ],
             [
              0.7777777777777778,
              "#fb9f3a"
             ],
             [
              0.8888888888888888,
              "#fdca26"
             ],
             [
              1,
              "#f0f921"
             ]
            ],
            "type": "surface"
           }
          ],
          "table": [
           {
            "cells": {
             "fill": {
              "color": "#EBF0F8"
             },
             "line": {
              "color": "white"
             }
            },
            "header": {
             "fill": {
              "color": "#C8D4E3"
             },
             "line": {
              "color": "white"
             }
            },
            "type": "table"
           }
          ]
         },
         "layout": {
          "annotationdefaults": {
           "arrowcolor": "#2a3f5f",
           "arrowhead": 0,
           "arrowwidth": 1
          },
          "autotypenumbers": "strict",
          "coloraxis": {
           "colorbar": {
            "outlinewidth": 0,
            "ticks": ""
           }
          },
          "colorscale": {
           "diverging": [
            [
             0,
             "#8e0152"
            ],
            [
             0.1,
             "#c51b7d"
            ],
            [
             0.2,
             "#de77ae"
            ],
            [
             0.3,
             "#f1b6da"
            ],
            [
             0.4,
             "#fde0ef"
            ],
            [
             0.5,
             "#f7f7f7"
            ],
            [
             0.6,
             "#e6f5d0"
            ],
            [
             0.7,
             "#b8e186"
            ],
            [
             0.8,
             "#7fbc41"
            ],
            [
             0.9,
             "#4d9221"
            ],
            [
             1,
             "#276419"
            ]
           ],
           "sequential": [
            [
             0,
             "#0d0887"
            ],
            [
             0.1111111111111111,
             "#46039f"
            ],
            [
             0.2222222222222222,
             "#7201a8"
            ],
            [
             0.3333333333333333,
             "#9c179e"
            ],
            [
             0.4444444444444444,
             "#bd3786"
            ],
            [
             0.5555555555555556,
             "#d8576b"
            ],
            [
             0.6666666666666666,
             "#ed7953"
            ],
            [
             0.7777777777777778,
             "#fb9f3a"
            ],
            [
             0.8888888888888888,
             "#fdca26"
            ],
            [
             1,
             "#f0f921"
            ]
           ],
           "sequentialminus": [
            [
             0,
             "#0d0887"
            ],
            [
             0.1111111111111111,
             "#46039f"
            ],
            [
             0.2222222222222222,
             "#7201a8"
            ],
            [
             0.3333333333333333,
             "#9c179e"
            ],
            [
             0.4444444444444444,
             "#bd3786"
            ],
            [
             0.5555555555555556,
             "#d8576b"
            ],
            [
             0.6666666666666666,
             "#ed7953"
            ],
            [
             0.7777777777777778,
             "#fb9f3a"
            ],
            [
             0.8888888888888888,
             "#fdca26"
            ],
            [
             1,
             "#f0f921"
            ]
           ]
          },
          "colorway": [
           "#636efa",
           "#EF553B",
           "#00cc96",
           "#ab63fa",
           "#FFA15A",
           "#19d3f3",
           "#FF6692",
           "#B6E880",
           "#FF97FF",
           "#FECB52"
          ],
          "font": {
           "color": "#2a3f5f"
          },
          "geo": {
           "bgcolor": "white",
           "lakecolor": "white",
           "landcolor": "white",
           "showlakes": true,
           "showland": true,
           "subunitcolor": "#C8D4E3"
          },
          "hoverlabel": {
           "align": "left"
          },
          "hovermode": "closest",
          "mapbox": {
           "style": "light"
          },
          "paper_bgcolor": "white",
          "plot_bgcolor": "white",
          "polar": {
           "angularaxis": {
            "gridcolor": "#EBF0F8",
            "linecolor": "#EBF0F8",
            "ticks": ""
           },
           "bgcolor": "white",
           "radialaxis": {
            "gridcolor": "#EBF0F8",
            "linecolor": "#EBF0F8",
            "ticks": ""
           }
          },
          "scene": {
           "xaxis": {
            "backgroundcolor": "white",
            "gridcolor": "#DFE8F3",
            "gridwidth": 2,
            "linecolor": "#EBF0F8",
            "showbackground": true,
            "ticks": "",
            "zerolinecolor": "#EBF0F8"
           },
           "yaxis": {
            "backgroundcolor": "white",
            "gridcolor": "#DFE8F3",
            "gridwidth": 2,
            "linecolor": "#EBF0F8",
            "showbackground": true,
            "ticks": "",
            "zerolinecolor": "#EBF0F8"
           },
           "zaxis": {
            "backgroundcolor": "white",
            "gridcolor": "#DFE8F3",
            "gridwidth": 2,
            "linecolor": "#EBF0F8",
            "showbackground": true,
            "ticks": "",
            "zerolinecolor": "#EBF0F8"
           }
          },
          "shapedefaults": {
           "line": {
            "color": "#2a3f5f"
           }
          },
          "ternary": {
           "aaxis": {
            "gridcolor": "#DFE8F3",
            "linecolor": "#A2B1C6",
            "ticks": ""
           },
           "baxis": {
            "gridcolor": "#DFE8F3",
            "linecolor": "#A2B1C6",
            "ticks": ""
           },
           "bgcolor": "white",
           "caxis": {
            "gridcolor": "#DFE8F3",
            "linecolor": "#A2B1C6",
            "ticks": ""
           }
          },
          "title": {
           "x": 0.05
          },
          "xaxis": {
           "automargin": true,
           "gridcolor": "#EBF0F8",
           "linecolor": "#EBF0F8",
           "ticks": "",
           "title": {
            "standoff": 15
           },
           "zerolinecolor": "#EBF0F8",
           "zerolinewidth": 2
          },
          "yaxis": {
           "automargin": true,
           "gridcolor": "#EBF0F8",
           "linecolor": "#EBF0F8",
           "ticks": "",
           "title": {
            "standoff": 15
           },
           "zerolinecolor": "#EBF0F8",
           "zerolinewidth": 2
          }
         }
        },
        "title": {
         "text": "Electricity capacity expansion in ON by plant type",
         "x": 0.5,
         "xanchor": "center",
         "y": 0.97,
         "yanchor": "top"
        },
        "width": 1200,
        "xaxis": {
         "anchor": "y",
         "domain": [
          0,
          1
         ],
         "title": {
          "text": ""
         }
        },
        "yaxis": {
         "anchor": "x",
         "domain": [
          0,
          1
         ],
         "dtick": 5,
         "title": {
          "standoff": 0,
          "text": "New Capacity (GW)"
         }
        }
       }
      }
     },
     "metadata": {},
     "output_type": "display_data"
    }
   ],
   "source": [
    "ref_fig = ref_elcnewcap[ref_elcnewcap['Plant Type'] != 'Other'].groupby(['Period', 'Plant Type'], as_index=False).sum('New Capacity')\n",
    "ref_fig['Period'] = ref_fig['Period'].astype(str)\n",
    "\n",
    "fig = px.bar(ref_fig, \n",
    "             x='Period', \n",
    "             y='New Capacity', \n",
    "             color='Plant Type', \n",
    "             barmode='stack', \n",
    "             template='plotly_white',\n",
    "             color_discrete_sequence=px.colors.qualitative.G10[:7] + px.colors.qualitative.G10[8:],\n",
    "             text_auto='.1f',\n",
    "             width=1200, height=650,\n",
    "             )\n",
    "\n",
    "fig.update_layout(title=dict(\n",
    "        text='Electricity capacity expansion in ON by plant type',\n",
    "        x=0.5, \n",
    "        y=0.97,\n",
    "        xanchor='center',\n",
    "        yanchor='top'\n",
    "    ),\n",
    "    xaxis=dict(title='Period'),\n",
    "    yaxis=dict(title='New Capacity (GW)',\n",
    "               dtick=5),\n",
    "    yaxis_title_standoff=0,\n",
    "    legend_title_text='',\n",
    "    bargap=0.2,\n",
    "    legend=dict(\n",
    "        orientation='h',  \n",
    "        yanchor='top',\n",
    "        y=1.04,  \n",
    "        xanchor='center',\n",
    "        x=0.5),\n",
    "    font=dict(\n",
    "        # family=\"Open Sans\",\n",
    "        size=14)\n",
    "    )\n",
    "\n",
    "for annotation in fig.layout.annotations:\n",
    "    annotation.text = annotation.text.split('=')[1]\n",
    "    annotation.y = -0.1  \n",
    "    annotation.yanchor = 'top' \n",
    "\n",
    "for axis in fig.layout:\n",
    "    if axis.startswith('xaxis'):\n",
    "        fig.layout[axis].title.text = ''\n",
    "\n",
    "fig.for_each_trace(lambda trace: trace.update(textfont=dict(size=9)))\n",
    "\n",
    "fig.show()"
   ]
  },
  {
   "cell_type": "markdown",
   "metadata": {},
   "source": [
    "# CANOE vs gTech-IESD - GHG emissions"
   ]
  },
  {
   "cell_type": "code",
   "execution_count": 269,
   "metadata": {},
   "outputs": [],
   "source": [
    "ref_ghg.columns = ref_ghg.columns.astype(str)\n",
    "periods = [col for col in ref_ghg.columns if col.isdigit()]\n",
    "params = [col for col in ref_ghg.columns if not col.isdigit()]\n",
    "ref_ghg = pd.melt(ref_ghg, id_vars=params, var_name='Period', value_name='Total GHG Emissions', value_vars=periods)"
   ]
  },
  {
   "cell_type": "code",
   "execution_count": 270,
   "metadata": {},
   "outputs": [
    {
     "name": "stderr",
     "output_type": "stream",
     "text": [
      "C:\\Users\\rashi\\AppData\\Local\\Temp\\ipykernel_31072\\3967330132.py:1: FutureWarning:\n",
      "\n",
      "A value is trying to be set on a copy of a DataFrame or Series through chained assignment using an inplace method.\n",
      "The behavior will change in pandas 3.0. This inplace method will never work because the intermediate object on which we are setting values always behaves as a copy.\n",
      "\n",
      "For example, when doing 'df[col].method(value, inplace=True)', try using 'df.method({col: value}, inplace=True)' or df[col] = df[col].method(value) instead, to perform the operation inplace on the original object.\n",
      "\n",
      "\n",
      "\n"
     ]
    }
   ],
   "source": [
    "gtech23_ref_ghg['Sector'].replace({'agriculture & waste': 'AFOLU', 'commercial buildings': 'Commercial', 'residential buildings': 'Residential', 'land use & forestry': 'AFOLU',\n",
    "                                      'industry': 'Industrial', 'oil and gas': 'Oil & Gas', 'direct air capture': 'Industrial', 'utilities': 'Utilities',\n",
    "                                      'light-duty transport': 'Transportation', 'medium & heavy-duty transport': 'Transportation', 'other transport': 'Transportation'}, inplace=True)\n",
    "gtech23_ref_ghg = gtech23_ref_ghg.groupby(['Period', 'Sector'], as_index=False).sum()"
   ]
  },
  {
   "cell_type": "code",
   "execution_count": 271,
   "metadata": {},
   "outputs": [
    {
     "data": {
      "application/vnd.plotly.v1+json": {
       "config": {
        "plotlyServerURL": "https://plot.ly"
       },
       "data": [
        {
         "fillpattern": {
          "shape": ""
         },
         "hovertemplate": "Sector=Transportation<br>Source=CANOE<br>Period=%{x}<br>Total GHG Emissions (Mt CO2e)=%{y}<extra></extra>",
         "legendgroup": "Transportation",
         "line": {
          "color": "#636efa"
         },
         "marker": {
          "symbol": "circle"
         },
         "mode": "lines",
         "name": "Transportation",
         "orientation": "v",
         "showlegend": true,
         "stackgroup": "1",
         "type": "scatter",
         "x": [
          "2021",
          "2025",
          "2030",
          "2035",
          "2040",
          "2045",
          "2050"
         ],
         "xaxis": "x",
         "y": {
          "bdata": "oWj3zf5LUEC9yr6dp6BQQIzTqQqsS0tAJWGCSmroQ0DfrudZKwBAQAlSjuWI7D9AroVeng6bP0A=",
          "dtype": "f8"
         },
         "yaxis": "y"
        },
        {
         "fillpattern": {
          "shape": ""
         },
         "hovertemplate": "Sector=Transportation<br>Source=gTech-IESD<br>Period=%{x}<br>Total GHG Emissions (Mt CO2e)=%{y}<extra></extra>",
         "legendgroup": "Transportation",
         "line": {
          "color": "#636efa"
         },
         "marker": {
          "symbol": "circle"
         },
         "mode": "lines",
         "name": "Transportation",
         "orientation": "v",
         "showlegend": false,
         "stackgroup": "1",
         "type": "scatter",
         "x": [
          "2021",
          "2025",
          "2030",
          "2035",
          "2040",
          "2045",
          "2050"
         ],
         "xaxis": "x2",
         "y": {
          "bdata": "6c1NQLiqTUBRddRAD2FOQGpuHc2lwUtAyd+IsfYRSkCAUhDjBUJIQBVtf0juDEdAQ1ugbQ0sR0A=",
          "dtype": "f8"
         },
         "yaxis": "y2"
        },
        {
         "fillpattern": {
          "shape": ""
         },
         "hovertemplate": "Sector=Commercial<br>Source=CANOE<br>Period=%{x}<br>Total GHG Emissions (Mt CO2e)=%{y}<extra></extra>",
         "legendgroup": "Commercial",
         "line": {
          "color": "#EF553B"
         },
         "marker": {
          "symbol": "circle"
         },
         "mode": "lines",
         "name": "Commercial",
         "orientation": "v",
         "showlegend": true,
         "stackgroup": "1",
         "type": "scatter",
         "x": [
          "2021",
          "2025",
          "2030",
          "2035",
          "2040",
          "2045",
          "2050"
         ],
         "xaxis": "x",
         "y": {
          "bdata": "iNA99WpxMkDDiiQ1rYcyQEPKnUgwjzJAnrA8tDxYMkDq/Uz8kV0yQDqapL2LQTVAHL5znctTNEA=",
          "dtype": "f8"
         },
         "yaxis": "y"
        },
        {
         "fillpattern": {
          "shape": ""
         },
         "hovertemplate": "Sector=Commercial<br>Source=gTech-IESD<br>Period=%{x}<br>Total GHG Emissions (Mt CO2e)=%{y}<extra></extra>",
         "legendgroup": "Commercial",
         "line": {
          "color": "#EF553B"
         },
         "marker": {
          "symbol": "circle"
         },
         "mode": "lines",
         "name": "Commercial",
         "orientation": "v",
         "showlegend": false,
         "stackgroup": "1",
         "type": "scatter",
         "x": [
          "2021",
          "2025",
          "2030",
          "2035",
          "2040",
          "2045",
          "2050"
         ],
         "xaxis": "x2",
         "y": {
          "bdata": "8bHkv3q/LUCvxG5lqggrQEy9doJgrihAMsnIWdgjKEBTpXc7DLkoQC9bX+KXuylAsud8wiPfKkA=",
          "dtype": "f8"
         },
         "yaxis": "y2"
        },
        {
         "fillpattern": {
          "shape": ""
         },
         "hovertemplate": "Sector=Electricity<br>Source=CANOE<br>Period=%{x}<br>Total GHG Emissions (Mt CO2e)=%{y}<extra></extra>",
         "legendgroup": "Electricity",
         "line": {
          "color": "#00cc96"
         },
         "marker": {
          "symbol": "circle"
         },
         "mode": "lines",
         "name": "Electricity",
         "orientation": "v",
         "showlegend": true,
         "stackgroup": "1",
         "type": "scatter",
         "x": [
          "2021",
          "2025",
          "2030",
          "2035",
          "2040",
          "2045",
          "2050"
         ],
         "xaxis": "x",
         "y": {
          "bdata": "XvDVJB8gGkATZsOM+ycgQGFZ76874CJAB0DX/9gBJ0BogHy8S0MzQH1mxwAHPDxAvQL+uoMaPkA=",
          "dtype": "f8"
         },
         "yaxis": "y"
        },
        {
         "fillpattern": {
          "shape": ""
         },
         "hovertemplate": "Sector=Industrial<br>Source=CANOE<br>Period=%{x}<br>Total GHG Emissions (Mt CO2e)=%{y}<extra></extra>",
         "legendgroup": "Industrial",
         "line": {
          "color": "#ab63fa"
         },
         "marker": {
          "symbol": "circle"
         },
         "mode": "lines",
         "name": "Industrial",
         "orientation": "v",
         "showlegend": true,
         "stackgroup": "1",
         "type": "scatter",
         "x": [
          "2021",
          "2025",
          "2030",
          "2035",
          "2040",
          "2045",
          "2050"
         ],
         "xaxis": "x",
         "y": {
          "bdata": "trCNukUAOEA1lGiPZzQ5QGaCOR3GjDpADzRIfcSiO0CWicZ51Jo8QOz0R99yej1Ahe/VMvBCPkA=",
          "dtype": "f8"
         },
         "yaxis": "y"
        },
        {
         "fillpattern": {
          "shape": ""
         },
         "hovertemplate": "Sector=Industrial<br>Source=gTech-IESD<br>Period=%{x}<br>Total GHG Emissions (Mt CO2e)=%{y}<extra></extra>",
         "legendgroup": "Industrial",
         "line": {
          "color": "#ab63fa"
         },
         "marker": {
          "symbol": "circle"
         },
         "mode": "lines",
         "name": "Industrial",
         "orientation": "v",
         "showlegend": false,
         "stackgroup": "1",
         "type": "scatter",
         "x": [
          "2021",
          "2025",
          "2030",
          "2035",
          "2040",
          "2045",
          "2050"
         ],
         "xaxis": "x2",
         "y": {
          "bdata": "iaNwEgrwQkDXXMF4fvNCQIuBXH+e60BAR+skMl7ZQUBbVR/dwu1CQAl9PDZ68ENASB/Kgk8VRUA=",
          "dtype": "f8"
         },
         "yaxis": "y2"
        },
        {
         "fillpattern": {
          "shape": ""
         },
         "hovertemplate": "Sector=Residential<br>Source=CANOE<br>Period=%{x}<br>Total GHG Emissions (Mt CO2e)=%{y}<extra></extra>",
         "legendgroup": "Residential",
         "line": {
          "color": "#FFA15A"
         },
         "marker": {
          "symbol": "circle"
         },
         "mode": "lines",
         "name": "Residential",
         "orientation": "v",
         "showlegend": true,
         "stackgroup": "1",
         "type": "scatter",
         "x": [
          "2021",
          "2025",
          "2030",
          "2035",
          "2040",
          "2045",
          "2050"
         ],
         "xaxis": "x",
         "y": {
          "bdata": "4WxTyZGmMEC3VMaSpScwQALE9MTgGzJAjiPDsmnlM0Dx4cHSg5UwQEMNV2koITNAjG6YK6mHNUA=",
          "dtype": "f8"
         },
         "yaxis": "y"
        },
        {
         "fillpattern": {
          "shape": ""
         },
         "hovertemplate": "Sector=Residential<br>Source=gTech-IESD<br>Period=%{x}<br>Total GHG Emissions (Mt CO2e)=%{y}<extra></extra>",
         "legendgroup": "Residential",
         "line": {
          "color": "#FFA15A"
         },
         "marker": {
          "symbol": "circle"
         },
         "mode": "lines",
         "name": "Residential",
         "orientation": "v",
         "showlegend": false,
         "stackgroup": "1",
         "type": "scatter",
         "x": [
          "2021",
          "2025",
          "2030",
          "2035",
          "2040",
          "2045",
          "2050"
         ],
         "xaxis": "x2",
         "y": {
          "bdata": "JvT9S4fSMUC17L22hsowQANtQL5jRDBAdpkvaWtbMEBYZwgJSdQwQLTRMc58izFAYOCgWtBjMkA=",
          "dtype": "f8"
         },
         "yaxis": "y2"
        },
        {
         "fillpattern": {
          "shape": ""
         },
         "hovertemplate": "Sector=Oil & Gas<br>Source=gTech-IESD<br>Period=%{x}<br>Total GHG Emissions (Mt CO2e)=%{y}<extra></extra>",
         "legendgroup": "Oil & Gas",
         "line": {
          "color": "#19d3f3"
         },
         "marker": {
          "symbol": "circle"
         },
         "mode": "lines",
         "name": "Oil & Gas",
         "orientation": "v",
         "showlegend": true,
         "stackgroup": "1",
         "type": "scatter",
         "x": [
          "2021",
          "2025",
          "2030",
          "2035",
          "2040",
          "2045",
          "2050"
         ],
         "xaxis": "x2",
         "y": {
          "bdata": "JAoG/zbmIUCM4yqQhdofQHMELJZ7JiBAxpICo3wbIUC7tIb3wZEgQNHJ29xbeiFAG2wadkCHIkA=",
          "dtype": "f8"
         },
         "yaxis": "y2"
        },
        {
         "fillpattern": {
          "shape": ""
         },
         "hovertemplate": "Sector=Utilities<br>Source=gTech-IESD<br>Period=%{x}<br>Total GHG Emissions (Mt CO2e)=%{y}<extra></extra>",
         "legendgroup": "Utilities",
         "line": {
          "color": "#FF6692"
         },
         "marker": {
          "symbol": "circle"
         },
         "mode": "lines",
         "name": "Utilities",
         "orientation": "v",
         "showlegend": true,
         "stackgroup": "1",
         "type": "scatter",
         "x": [
          "2021",
          "2025",
          "2030",
          "2035",
          "2040",
          "2045",
          "2050"
         ],
         "xaxis": "x2",
         "y": {
          "bdata": "4XCs9Qg4DkCMgRpjzCIEQD2FwdRNDPQ/pS5lVY7l9T/4+ANsp5gAQPfurU0FOg1Atdzg3hGeFEA=",
          "dtype": "f8"
         },
         "yaxis": "y2"
        }
       ],
       "layout": {
        "annotations": [
         {
          "showarrow": false,
          "text": "Source=CANOE",
          "x": 0.2425,
          "xanchor": "center",
          "xref": "paper",
          "y": 1,
          "yanchor": "bottom",
          "yref": "paper"
         },
         {
          "showarrow": false,
          "text": "Source=gTech-IESD",
          "x": 0.7575000000000001,
          "xanchor": "center",
          "xref": "paper",
          "y": 1,
          "yanchor": "bottom",
          "yref": "paper"
         },
         {
          "font": {
           "size": 11
          },
          "showarrow": false,
          "text": "*Upstream emissions are accounted for in each sector, except for Oil & Gas",
          "x": 1,
          "xref": "paper",
          "y": 0.98,
          "yref": "paper"
         }
        ],
        "font": {
         "size": 13
        },
        "height": 600,
        "legend": {
         "orientation": "h",
         "title": {
          "text": ""
         },
         "tracegroupgap": 0,
         "x": 0.5,
         "xanchor": "center",
         "y": -0.15,
         "yanchor": "bottom"
        },
        "margin": {
         "t": 60
        },
        "template": {
         "data": {
          "bar": [
           {
            "error_x": {
             "color": "#2a3f5f"
            },
            "error_y": {
             "color": "#2a3f5f"
            },
            "marker": {
             "line": {
              "color": "white",
              "width": 0.5
             },
             "pattern": {
              "fillmode": "overlay",
              "size": 10,
              "solidity": 0.2
             }
            },
            "type": "bar"
           }
          ],
          "barpolar": [
           {
            "marker": {
             "line": {
              "color": "white",
              "width": 0.5
             },
             "pattern": {
              "fillmode": "overlay",
              "size": 10,
              "solidity": 0.2
             }
            },
            "type": "barpolar"
           }
          ],
          "carpet": [
           {
            "aaxis": {
             "endlinecolor": "#2a3f5f",
             "gridcolor": "#C8D4E3",
             "linecolor": "#C8D4E3",
             "minorgridcolor": "#C8D4E3",
             "startlinecolor": "#2a3f5f"
            },
            "baxis": {
             "endlinecolor": "#2a3f5f",
             "gridcolor": "#C8D4E3",
             "linecolor": "#C8D4E3",
             "minorgridcolor": "#C8D4E3",
             "startlinecolor": "#2a3f5f"
            },
            "type": "carpet"
           }
          ],
          "choropleth": [
           {
            "colorbar": {
             "outlinewidth": 0,
             "ticks": ""
            },
            "type": "choropleth"
           }
          ],
          "contour": [
           {
            "colorbar": {
             "outlinewidth": 0,
             "ticks": ""
            },
            "colorscale": [
             [
              0,
              "#0d0887"
             ],
             [
              0.1111111111111111,
              "#46039f"
             ],
             [
              0.2222222222222222,
              "#7201a8"
             ],
             [
              0.3333333333333333,
              "#9c179e"
             ],
             [
              0.4444444444444444,
              "#bd3786"
             ],
             [
              0.5555555555555556,
              "#d8576b"
             ],
             [
              0.6666666666666666,
              "#ed7953"
             ],
             [
              0.7777777777777778,
              "#fb9f3a"
             ],
             [
              0.8888888888888888,
              "#fdca26"
             ],
             [
              1,
              "#f0f921"
             ]
            ],
            "type": "contour"
           }
          ],
          "contourcarpet": [
           {
            "colorbar": {
             "outlinewidth": 0,
             "ticks": ""
            },
            "type": "contourcarpet"
           }
          ],
          "heatmap": [
           {
            "colorbar": {
             "outlinewidth": 0,
             "ticks": ""
            },
            "colorscale": [
             [
              0,
              "#0d0887"
             ],
             [
              0.1111111111111111,
              "#46039f"
             ],
             [
              0.2222222222222222,
              "#7201a8"
             ],
             [
              0.3333333333333333,
              "#9c179e"
             ],
             [
              0.4444444444444444,
              "#bd3786"
             ],
             [
              0.5555555555555556,
              "#d8576b"
             ],
             [
              0.6666666666666666,
              "#ed7953"
             ],
             [
              0.7777777777777778,
              "#fb9f3a"
             ],
             [
              0.8888888888888888,
              "#fdca26"
             ],
             [
              1,
              "#f0f921"
             ]
            ],
            "type": "heatmap"
           }
          ],
          "histogram": [
           {
            "marker": {
             "pattern": {
              "fillmode": "overlay",
              "size": 10,
              "solidity": 0.2
             }
            },
            "type": "histogram"
           }
          ],
          "histogram2d": [
           {
            "colorbar": {
             "outlinewidth": 0,
             "ticks": ""
            },
            "colorscale": [
             [
              0,
              "#0d0887"
             ],
             [
              0.1111111111111111,
              "#46039f"
             ],
             [
              0.2222222222222222,
              "#7201a8"
             ],
             [
              0.3333333333333333,
              "#9c179e"
             ],
             [
              0.4444444444444444,
              "#bd3786"
             ],
             [
              0.5555555555555556,
              "#d8576b"
             ],
             [
              0.6666666666666666,
              "#ed7953"
             ],
             [
              0.7777777777777778,
              "#fb9f3a"
             ],
             [
              0.8888888888888888,
              "#fdca26"
             ],
             [
              1,
              "#f0f921"
             ]
            ],
            "type": "histogram2d"
           }
          ],
          "histogram2dcontour": [
           {
            "colorbar": {
             "outlinewidth": 0,
             "ticks": ""
            },
            "colorscale": [
             [
              0,
              "#0d0887"
             ],
             [
              0.1111111111111111,
              "#46039f"
             ],
             [
              0.2222222222222222,
              "#7201a8"
             ],
             [
              0.3333333333333333,
              "#9c179e"
             ],
             [
              0.4444444444444444,
              "#bd3786"
             ],
             [
              0.5555555555555556,
              "#d8576b"
             ],
             [
              0.6666666666666666,
              "#ed7953"
             ],
             [
              0.7777777777777778,
              "#fb9f3a"
             ],
             [
              0.8888888888888888,
              "#fdca26"
             ],
             [
              1,
              "#f0f921"
             ]
            ],
            "type": "histogram2dcontour"
           }
          ],
          "mesh3d": [
           {
            "colorbar": {
             "outlinewidth": 0,
             "ticks": ""
            },
            "type": "mesh3d"
           }
          ],
          "parcoords": [
           {
            "line": {
             "colorbar": {
              "outlinewidth": 0,
              "ticks": ""
             }
            },
            "type": "parcoords"
           }
          ],
          "pie": [
           {
            "automargin": true,
            "type": "pie"
           }
          ],
          "scatter": [
           {
            "fillpattern": {
             "fillmode": "overlay",
             "size": 10,
             "solidity": 0.2
            },
            "type": "scatter"
           }
          ],
          "scatter3d": [
           {
            "line": {
             "colorbar": {
              "outlinewidth": 0,
              "ticks": ""
             }
            },
            "marker": {
             "colorbar": {
              "outlinewidth": 0,
              "ticks": ""
             }
            },
            "type": "scatter3d"
           }
          ],
          "scattercarpet": [
           {
            "marker": {
             "colorbar": {
              "outlinewidth": 0,
              "ticks": ""
             }
            },
            "type": "scattercarpet"
           }
          ],
          "scattergeo": [
           {
            "marker": {
             "colorbar": {
              "outlinewidth": 0,
              "ticks": ""
             }
            },
            "type": "scattergeo"
           }
          ],
          "scattergl": [
           {
            "marker": {
             "colorbar": {
              "outlinewidth": 0,
              "ticks": ""
             }
            },
            "type": "scattergl"
           }
          ],
          "scattermap": [
           {
            "marker": {
             "colorbar": {
              "outlinewidth": 0,
              "ticks": ""
             }
            },
            "type": "scattermap"
           }
          ],
          "scattermapbox": [
           {
            "marker": {
             "colorbar": {
              "outlinewidth": 0,
              "ticks": ""
             }
            },
            "type": "scattermapbox"
           }
          ],
          "scatterpolar": [
           {
            "marker": {
             "colorbar": {
              "outlinewidth": 0,
              "ticks": ""
             }
            },
            "type": "scatterpolar"
           }
          ],
          "scatterpolargl": [
           {
            "marker": {
             "colorbar": {
              "outlinewidth": 0,
              "ticks": ""
             }
            },
            "type": "scatterpolargl"
           }
          ],
          "scatterternary": [
           {
            "marker": {
             "colorbar": {
              "outlinewidth": 0,
              "ticks": ""
             }
            },
            "type": "scatterternary"
           }
          ],
          "surface": [
           {
            "colorbar": {
             "outlinewidth": 0,
             "ticks": ""
            },
            "colorscale": [
             [
              0,
              "#0d0887"
             ],
             [
              0.1111111111111111,
              "#46039f"
             ],
             [
              0.2222222222222222,
              "#7201a8"
             ],
             [
              0.3333333333333333,
              "#9c179e"
             ],
             [
              0.4444444444444444,
              "#bd3786"
             ],
             [
              0.5555555555555556,
              "#d8576b"
             ],
             [
              0.6666666666666666,
              "#ed7953"
             ],
             [
              0.7777777777777778,
              "#fb9f3a"
             ],
             [
              0.8888888888888888,
              "#fdca26"
             ],
             [
              1,
              "#f0f921"
             ]
            ],
            "type": "surface"
           }
          ],
          "table": [
           {
            "cells": {
             "fill": {
              "color": "#EBF0F8"
             },
             "line": {
              "color": "white"
             }
            },
            "header": {
             "fill": {
              "color": "#C8D4E3"
             },
             "line": {
              "color": "white"
             }
            },
            "type": "table"
           }
          ]
         },
         "layout": {
          "annotationdefaults": {
           "arrowcolor": "#2a3f5f",
           "arrowhead": 0,
           "arrowwidth": 1
          },
          "autotypenumbers": "strict",
          "coloraxis": {
           "colorbar": {
            "outlinewidth": 0,
            "ticks": ""
           }
          },
          "colorscale": {
           "diverging": [
            [
             0,
             "#8e0152"
            ],
            [
             0.1,
             "#c51b7d"
            ],
            [
             0.2,
             "#de77ae"
            ],
            [
             0.3,
             "#f1b6da"
            ],
            [
             0.4,
             "#fde0ef"
            ],
            [
             0.5,
             "#f7f7f7"
            ],
            [
             0.6,
             "#e6f5d0"
            ],
            [
             0.7,
             "#b8e186"
            ],
            [
             0.8,
             "#7fbc41"
            ],
            [
             0.9,
             "#4d9221"
            ],
            [
             1,
             "#276419"
            ]
           ],
           "sequential": [
            [
             0,
             "#0d0887"
            ],
            [
             0.1111111111111111,
             "#46039f"
            ],
            [
             0.2222222222222222,
             "#7201a8"
            ],
            [
             0.3333333333333333,
             "#9c179e"
            ],
            [
             0.4444444444444444,
             "#bd3786"
            ],
            [
             0.5555555555555556,
             "#d8576b"
            ],
            [
             0.6666666666666666,
             "#ed7953"
            ],
            [
             0.7777777777777778,
             "#fb9f3a"
            ],
            [
             0.8888888888888888,
             "#fdca26"
            ],
            [
             1,
             "#f0f921"
            ]
           ],
           "sequentialminus": [
            [
             0,
             "#0d0887"
            ],
            [
             0.1111111111111111,
             "#46039f"
            ],
            [
             0.2222222222222222,
             "#7201a8"
            ],
            [
             0.3333333333333333,
             "#9c179e"
            ],
            [
             0.4444444444444444,
             "#bd3786"
            ],
            [
             0.5555555555555556,
             "#d8576b"
            ],
            [
             0.6666666666666666,
             "#ed7953"
            ],
            [
             0.7777777777777778,
             "#fb9f3a"
            ],
            [
             0.8888888888888888,
             "#fdca26"
            ],
            [
             1,
             "#f0f921"
            ]
           ]
          },
          "colorway": [
           "#636efa",
           "#EF553B",
           "#00cc96",
           "#ab63fa",
           "#FFA15A",
           "#19d3f3",
           "#FF6692",
           "#B6E880",
           "#FF97FF",
           "#FECB52"
          ],
          "font": {
           "color": "#2a3f5f"
          },
          "geo": {
           "bgcolor": "white",
           "lakecolor": "white",
           "landcolor": "white",
           "showlakes": true,
           "showland": true,
           "subunitcolor": "#C8D4E3"
          },
          "hoverlabel": {
           "align": "left"
          },
          "hovermode": "closest",
          "mapbox": {
           "style": "light"
          },
          "paper_bgcolor": "white",
          "plot_bgcolor": "white",
          "polar": {
           "angularaxis": {
            "gridcolor": "#EBF0F8",
            "linecolor": "#EBF0F8",
            "ticks": ""
           },
           "bgcolor": "white",
           "radialaxis": {
            "gridcolor": "#EBF0F8",
            "linecolor": "#EBF0F8",
            "ticks": ""
           }
          },
          "scene": {
           "xaxis": {
            "backgroundcolor": "white",
            "gridcolor": "#DFE8F3",
            "gridwidth": 2,
            "linecolor": "#EBF0F8",
            "showbackground": true,
            "ticks": "",
            "zerolinecolor": "#EBF0F8"
           },
           "yaxis": {
            "backgroundcolor": "white",
            "gridcolor": "#DFE8F3",
            "gridwidth": 2,
            "linecolor": "#EBF0F8",
            "showbackground": true,
            "ticks": "",
            "zerolinecolor": "#EBF0F8"
           },
           "zaxis": {
            "backgroundcolor": "white",
            "gridcolor": "#DFE8F3",
            "gridwidth": 2,
            "linecolor": "#EBF0F8",
            "showbackground": true,
            "ticks": "",
            "zerolinecolor": "#EBF0F8"
           }
          },
          "shapedefaults": {
           "line": {
            "color": "#2a3f5f"
           }
          },
          "ternary": {
           "aaxis": {
            "gridcolor": "#DFE8F3",
            "linecolor": "#A2B1C6",
            "ticks": ""
           },
           "baxis": {
            "gridcolor": "#DFE8F3",
            "linecolor": "#A2B1C6",
            "ticks": ""
           },
           "bgcolor": "white",
           "caxis": {
            "gridcolor": "#DFE8F3",
            "linecolor": "#A2B1C6",
            "ticks": ""
           }
          },
          "title": {
           "x": 0.05
          },
          "xaxis": {
           "automargin": true,
           "gridcolor": "#EBF0F8",
           "linecolor": "#EBF0F8",
           "ticks": "",
           "title": {
            "standoff": 15
           },
           "zerolinecolor": "#EBF0F8",
           "zerolinewidth": 2
          },
          "yaxis": {
           "automargin": true,
           "gridcolor": "#EBF0F8",
           "linecolor": "#EBF0F8",
           "ticks": "",
           "title": {
            "standoff": 15
           },
           "zerolinecolor": "#EBF0F8",
           "zerolinewidth": 2
          }
         }
        },
        "title": {
         "text": "Total GHG emissions by sector and energy model, excluding AFOLU",
         "x": 0.5,
         "xanchor": "center",
         "y": 0.97,
         "yanchor": "top"
        },
        "width": 1100,
        "xaxis": {
         "anchor": "y",
         "domain": [
          0,
          0.485
         ],
         "tickangle": 45,
         "title": {
          "text": ""
         }
        },
        "xaxis2": {
         "anchor": "y2",
         "domain": [
          0.515,
          1
         ],
         "matches": "x",
         "tickangle": 45,
         "title": {
          "text": ""
         }
        },
        "yaxis": {
         "anchor": "x",
         "domain": [
          0,
          1
         ],
         "title": {
          "standoff": 0,
          "text": "Total GHG Emissions (M tonne CO2e)"
         }
        },
        "yaxis2": {
         "anchor": "x2",
         "domain": [
          0,
          1
         ],
         "matches": "y",
         "showticklabels": false
        }
       }
      }
     },
     "metadata": {},
     "output_type": "display_data"
    }
   ],
   "source": [
    "ref_fig = ref_ghg[ref_ghg['Emission Commodity'] == 'co2e'][['Period', 'Sector', 'Total GHG Emissions']].groupby(['Period', 'Sector'], as_index=False).sum()\n",
    "ref_fig['Sector'] = ref_fig['Sector'].replace({'Transport': 'Transportation', 'commercial': 'Commercial', 'residential': 'Residential', 'industrial': 'Industrial', 'electricity': 'Electricity'})\n",
    "ref_fig['Total GHG Emissions (Mt CO2e)'] = ref_fig['Total GHG Emissions'] / 1E3\n",
    "ref_fig['Period'] = ref_fig['Period'].astype(str)\n",
    "\n",
    "gtech23_fig = gtech23_ref_ghg[gtech23_ref_ghg['Sector'] != 'AFOLU']\n",
    "gtech23_fig = gtech23_fig.rename(columns={'CO2e (Mt)': 'Total GHG Emissions (Mt CO2e)'})\n",
    "\n",
    "ref_fig['Source'] = 'CANOE'\n",
    "gtech23_fig['Source'] = 'gTech-IESD'\n",
    "gtech23_fig['Period'] = gtech23_fig['Period'].astype(str)\n",
    "fig_df = pd.concat([ref_fig[['Period', 'Sector', 'Total GHG Emissions (Mt CO2e)', 'Source']], gtech23_fig]).reset_index(drop=True)\n",
    "\n",
    "fig = px.area(fig_df, x='Period', y='Total GHG Emissions (Mt CO2e)', color='Sector', facet_col='Source',\n",
    "              template='plotly_white',\n",
    "              facet_col_spacing=0.03,\n",
    "              width=1100, height=600\n",
    "              )\n",
    "\n",
    "fig.update_layout(\n",
    "    title=dict(text='Total GHG emissions by sector and energy model, excluding AFOLU',\n",
    "               x=0.5,\n",
    "               y=0.97,\n",
    "               xanchor='center',\n",
    "               yanchor='top'\n",
    "               ),\n",
    "    xaxis=dict(title='Period'),\n",
    "    yaxis=dict(title='Total GHG Emissions (M tonne CO2e)'),\n",
    "    yaxis_title_standoff=0,\n",
    "    legend_title_text='',\n",
    "    # bargap=0.1,\n",
    "    legend=dict(orientation='h',\n",
    "                yanchor='bottom',\n",
    "                y=-0.15,\n",
    "                xanchor='center',\n",
    "                x=0.5),\n",
    "    font=dict(size=13,\n",
    "              # family=\"Open Sans\"\n",
    "              ))\n",
    "\n",
    "for axis in fig.layout:\n",
    "    if axis.startswith('xaxis'):\n",
    "        fig.layout[axis].title.text = ''\n",
    "\n",
    "fig.update_xaxes(tickangle=45)\n",
    "\n",
    "fig.add_annotation(\n",
    "    text=\"*Upstream emissions are accounted for in each sector, except for Oil & Gas\",\n",
    "    x=1,  # Adjust x position as needed\n",
    "    y=0.98,\n",
    "    xref=\"paper\",\n",
    "    yref=\"paper\",\n",
    "    showarrow=False,\n",
    "    # textangle=-90,\n",
    "    font=dict(size=11))\n",
    "\n",
    "\n",
    "fig.show()"
   ]
  },
  {
   "cell_type": "markdown",
   "metadata": {},
   "source": [
    "# CANOE vs CEF2023 vs gTech - H2 production"
   ]
  },
  {
   "cell_type": "code",
   "execution_count": 272,
   "metadata": {},
   "outputs": [
    {
     "data": {
      "application/vnd.plotly.v1+json": {
       "config": {
        "plotlyServerURL": "https://plot.ly"
       },
       "data": [
        {
         "hovertemplate": "Pathway=SMR w/o CCS<br>Period=2021<br>Source=%{x}<br>Production (PJ)=%{y}<extra></extra>",
         "legendgroup": "SMR w/o CCS",
         "marker": {
          "color": "#3366CC",
          "pattern": {
           "shape": ""
          }
         },
         "name": "SMR w/o CCS",
         "orientation": "v",
         "showlegend": true,
         "textfont": {
          "size": 9
         },
         "textposition": "auto",
         "texttemplate": "%{y:.3f}",
         "type": "bar",
         "x": [
          "CANOE"
         ],
         "xaxis": "x",
         "y": {
          "bdata": "PhNFQz1yF0A=",
          "dtype": "f8"
         },
         "yaxis": "y"
        },
        {
         "hovertemplate": "Pathway=SMR w/o CCS<br>Period=2025<br>Source=%{x}<br>Production (PJ)=%{y}<extra></extra>",
         "legendgroup": "SMR w/o CCS",
         "marker": {
          "color": "#3366CC",
          "pattern": {
           "shape": ""
          }
         },
         "name": "SMR w/o CCS",
         "orientation": "v",
         "showlegend": false,
         "textfont": {
          "size": 9
         },
         "textposition": "auto",
         "texttemplate": "%{y:.3f}",
         "type": "bar",
         "x": [
          "CANOE"
         ],
         "xaxis": "x2",
         "y": {
          "bdata": "66jNBxbdJ0A=",
          "dtype": "f8"
         },
         "yaxis": "y2"
        },
        {
         "hovertemplate": "Pathway=SMR w/o CCS<br>Period=2030<br>Source=%{x}<br>Production (PJ)=%{y}<extra></extra>",
         "legendgroup": "SMR w/o CCS",
         "marker": {
          "color": "#3366CC",
          "pattern": {
           "shape": ""
          }
         },
         "name": "SMR w/o CCS",
         "orientation": "v",
         "showlegend": false,
         "textfont": {
          "size": 9
         },
         "textposition": "auto",
         "texttemplate": "%{y:.3f}",
         "type": "bar",
         "x": [
          "CANOE"
         ],
         "xaxis": "x3",
         "y": {
          "bdata": "lUaqPBzUNUA=",
          "dtype": "f8"
         },
         "yaxis": "y3"
        },
        {
         "hovertemplate": "Pathway=SMR w/o CCS<br>Period=2035<br>Source=%{x}<br>Production (PJ)=%{y}<extra></extra>",
         "legendgroup": "SMR w/o CCS",
         "marker": {
          "color": "#3366CC",
          "pattern": {
           "shape": ""
          }
         },
         "name": "SMR w/o CCS",
         "orientation": "v",
         "showlegend": false,
         "textfont": {
          "size": 9
         },
         "textposition": "auto",
         "texttemplate": "%{y:.3f}",
         "type": "bar",
         "x": [
          "CANOE"
         ],
         "xaxis": "x4",
         "y": {
          "bdata": "LUPjmOf5Q0A=",
          "dtype": "f8"
         },
         "yaxis": "y4"
        },
        {
         "hovertemplate": "Pathway=SMR w/o CCS<br>Period=2040<br>Source=%{x}<br>Production (PJ)=%{y}<extra></extra>",
         "legendgroup": "SMR w/o CCS",
         "marker": {
          "color": "#3366CC",
          "pattern": {
           "shape": ""
          }
         },
         "name": "SMR w/o CCS",
         "orientation": "v",
         "showlegend": false,
         "textfont": {
          "size": 9
         },
         "textposition": "auto",
         "texttemplate": "%{y:.3f}",
         "type": "bar",
         "x": [
          "CANOE"
         ],
         "xaxis": "x5",
         "y": {
          "bdata": "InbPfJy7VEA=",
          "dtype": "f8"
         },
         "yaxis": "y5"
        },
        {
         "hovertemplate": "Pathway=SMR w/o CCS<br>Period=2045<br>Source=%{x}<br>Production (PJ)=%{y}<extra></extra>",
         "legendgroup": "SMR w/o CCS",
         "marker": {
          "color": "#3366CC",
          "pattern": {
           "shape": ""
          }
         },
         "name": "SMR w/o CCS",
         "orientation": "v",
         "showlegend": false,
         "textfont": {
          "size": 9
         },
         "textposition": "auto",
         "texttemplate": "%{y:.3f}",
         "type": "bar",
         "x": [
          "CANOE"
         ],
         "xaxis": "x6",
         "y": {
          "bdata": "RuQGhsqMVUA=",
          "dtype": "f8"
         },
         "yaxis": "y6"
        },
        {
         "hovertemplate": "Pathway=SMR w/o CCS<br>Period=2050<br>Source=%{x}<br>Production (PJ)=%{y}<extra></extra>",
         "legendgroup": "SMR w/o CCS",
         "marker": {
          "color": "#3366CC",
          "pattern": {
           "shape": ""
          }
         },
         "name": "SMR w/o CCS",
         "orientation": "v",
         "showlegend": false,
         "textfont": {
          "size": 9
         },
         "textposition": "auto",
         "texttemplate": "%{y:.3f}",
         "type": "bar",
         "x": [
          "CANOE"
         ],
         "xaxis": "x7",
         "y": {
          "bdata": "TP+bIBnbVkA=",
          "dtype": "f8"
         },
         "yaxis": "y7"
        },
        {
         "hovertemplate": "Pathway=Biomass<br>Period=2021<br>Source=%{x}<br>Production (PJ)=%{y}<extra></extra>",
         "legendgroup": "Biomass",
         "marker": {
          "color": "#DC3912",
          "pattern": {
           "shape": ""
          }
         },
         "name": "Biomass",
         "orientation": "v",
         "showlegend": true,
         "textfont": {
          "size": 9
         },
         "textposition": "auto",
         "texttemplate": "%{y:.3f}",
         "type": "bar",
         "x": [
          "CEF2023"
         ],
         "xaxis": "x",
         "y": {
          "bdata": "AAAAAAAAAAA=",
          "dtype": "f8"
         },
         "yaxis": "y"
        },
        {
         "hovertemplate": "Pathway=Biomass<br>Period=2025<br>Source=%{x}<br>Production (PJ)=%{y}<extra></extra>",
         "legendgroup": "Biomass",
         "marker": {
          "color": "#DC3912",
          "pattern": {
           "shape": ""
          }
         },
         "name": "Biomass",
         "orientation": "v",
         "showlegend": false,
         "textfont": {
          "size": 9
         },
         "textposition": "auto",
         "texttemplate": "%{y:.3f}",
         "type": "bar",
         "x": [
          "CEF2023"
         ],
         "xaxis": "x2",
         "y": {
          "bdata": "AAAAAAAAAAA=",
          "dtype": "f8"
         },
         "yaxis": "y2"
        },
        {
         "hovertemplate": "Pathway=Biomass<br>Period=2030<br>Source=%{x}<br>Production (PJ)=%{y}<extra></extra>",
         "legendgroup": "Biomass",
         "marker": {
          "color": "#DC3912",
          "pattern": {
           "shape": ""
          }
         },
         "name": "Biomass",
         "orientation": "v",
         "showlegend": false,
         "textfont": {
          "size": 9
         },
         "textposition": "auto",
         "texttemplate": "%{y:.3f}",
         "type": "bar",
         "x": [
          "CEF2023"
         ],
         "xaxis": "x3",
         "y": {
          "bdata": "AAAAAAAAAAA=",
          "dtype": "f8"
         },
         "yaxis": "y3"
        },
        {
         "hovertemplate": "Pathway=Biomass<br>Period=2035<br>Source=%{x}<br>Production (PJ)=%{y}<extra></extra>",
         "legendgroup": "Biomass",
         "marker": {
          "color": "#DC3912",
          "pattern": {
           "shape": ""
          }
         },
         "name": "Biomass",
         "orientation": "v",
         "showlegend": false,
         "textfont": {
          "size": 9
         },
         "textposition": "auto",
         "texttemplate": "%{y:.3f}",
         "type": "bar",
         "x": [
          "CEF2023"
         ],
         "xaxis": "x4",
         "y": {
          "bdata": "AAAAAAAAAAA=",
          "dtype": "f8"
         },
         "yaxis": "y4"
        },
        {
         "hovertemplate": "Pathway=Biomass<br>Period=2040<br>Source=%{x}<br>Production (PJ)=%{y}<extra></extra>",
         "legendgroup": "Biomass",
         "marker": {
          "color": "#DC3912",
          "pattern": {
           "shape": ""
          }
         },
         "name": "Biomass",
         "orientation": "v",
         "showlegend": false,
         "textfont": {
          "size": 9
         },
         "textposition": "auto",
         "texttemplate": "%{y:.3f}",
         "type": "bar",
         "x": [
          "CEF2023"
         ],
         "xaxis": "x5",
         "y": {
          "bdata": "AAAAAAAAAAA=",
          "dtype": "f8"
         },
         "yaxis": "y5"
        },
        {
         "hovertemplate": "Pathway=Biomass<br>Period=2045<br>Source=%{x}<br>Production (PJ)=%{y}<extra></extra>",
         "legendgroup": "Biomass",
         "marker": {
          "color": "#DC3912",
          "pattern": {
           "shape": ""
          }
         },
         "name": "Biomass",
         "orientation": "v",
         "showlegend": false,
         "textfont": {
          "size": 9
         },
         "textposition": "auto",
         "texttemplate": "%{y:.3f}",
         "type": "bar",
         "x": [
          "CEF2023"
         ],
         "xaxis": "x6",
         "y": {
          "bdata": "AAAAAAAAAAA=",
          "dtype": "f8"
         },
         "yaxis": "y6"
        },
        {
         "hovertemplate": "Pathway=Biomass<br>Period=2050<br>Source=%{x}<br>Production (PJ)=%{y}<extra></extra>",
         "legendgroup": "Biomass",
         "marker": {
          "color": "#DC3912",
          "pattern": {
           "shape": ""
          }
         },
         "name": "Biomass",
         "orientation": "v",
         "showlegend": false,
         "textfont": {
          "size": 9
         },
         "textposition": "auto",
         "texttemplate": "%{y:.3f}",
         "type": "bar",
         "x": [
          "CEF2023"
         ],
         "xaxis": "x7",
         "y": {
          "bdata": "AAAAAAAAAAA=",
          "dtype": "f8"
         },
         "yaxis": "y7"
        },
        {
         "hovertemplate": "Pathway=Electrolysis<br>Period=2021<br>Source=%{x}<br>Production (PJ)=%{y}<extra></extra>",
         "legendgroup": "Electrolysis",
         "marker": {
          "color": "#FF9900",
          "pattern": {
           "shape": ""
          }
         },
         "name": "Electrolysis",
         "orientation": "v",
         "showlegend": true,
         "textfont": {
          "size": 9
         },
         "textposition": "auto",
         "texttemplate": "%{y:.3f}",
         "type": "bar",
         "x": [
          "CEF2023",
          "gTech-IESD"
         ],
         "xaxis": "x",
         "y": {
          "bdata": "MCu5Lwz9rD8AAAAAAAAAAA==",
          "dtype": "f8"
         },
         "yaxis": "y"
        },
        {
         "hovertemplate": "Pathway=Electrolysis<br>Period=2025<br>Source=%{x}<br>Production (PJ)=%{y}<extra></extra>",
         "legendgroup": "Electrolysis",
         "marker": {
          "color": "#FF9900",
          "pattern": {
           "shape": ""
          }
         },
         "name": "Electrolysis",
         "orientation": "v",
         "showlegend": false,
         "textfont": {
          "size": 9
         },
         "textposition": "auto",
         "texttemplate": "%{y:.3f}",
         "type": "bar",
         "x": [
          "CEF2023",
          "gTech-IESD"
         ],
         "xaxis": "x2",
         "y": {
          "bdata": "z5IRYQ1htD8pGABwDeirPw==",
          "dtype": "f8"
         },
         "yaxis": "y2"
        },
        {
         "hovertemplate": "Pathway=Electrolysis<br>Period=2030<br>Source=%{x}<br>Production (PJ)=%{y}<extra></extra>",
         "legendgroup": "Electrolysis",
         "marker": {
          "color": "#FF9900",
          "pattern": {
           "shape": ""
          }
         },
         "name": "Electrolysis",
         "orientation": "v",
         "showlegend": false,
         "textfont": {
          "size": 9
         },
         "textposition": "auto",
         "texttemplate": "%{y:.3f}",
         "type": "bar",
         "x": [
          "CEF2023",
          "gTech-IESD"
         ],
         "xaxis": "x3",
         "y": {
          "bdata": "DsqPU8/dtz+1LQIX7231Pw==",
          "dtype": "f8"
         },
         "yaxis": "y3"
        },
        {
         "hovertemplate": "Pathway=Electrolysis<br>Period=2035<br>Source=%{x}<br>Production (PJ)=%{y}<extra></extra>",
         "legendgroup": "Electrolysis",
         "marker": {
          "color": "#FF9900",
          "pattern": {
           "shape": ""
          }
         },
         "name": "Electrolysis",
         "orientation": "v",
         "showlegend": false,
         "textfont": {
          "size": 9
         },
         "textposition": "auto",
         "texttemplate": "%{y:.3f}",
         "type": "bar",
         "x": [
          "CEF2023",
          "gTech-IESD"
         ],
         "xaxis": "x4",
         "y": {
          "bdata": "RKvu7IZI0D8AAAAAAAAAAA==",
          "dtype": "f8"
         },
         "yaxis": "y4"
        },
        {
         "hovertemplate": "Pathway=Electrolysis<br>Period=2040<br>Source=%{x}<br>Production (PJ)=%{y}<extra></extra>",
         "legendgroup": "Electrolysis",
         "marker": {
          "color": "#FF9900",
          "pattern": {
           "shape": ""
          }
         },
         "name": "Electrolysis",
         "orientation": "v",
         "showlegend": false,
         "textfont": {
          "size": 9
         },
         "textposition": "auto",
         "texttemplate": "%{y:.3f}",
         "type": "bar",
         "x": [
          "CEF2023",
          "gTech-IESD"
         ],
         "xaxis": "x5",
         "y": {
          "bdata": "UztoGyQp4D8AAAAAAAAAAA==",
          "dtype": "f8"
         },
         "yaxis": "y5"
        },
        {
         "hovertemplate": "Pathway=Electrolysis<br>Period=2045<br>Source=%{x}<br>Production (PJ)=%{y}<extra></extra>",
         "legendgroup": "Electrolysis",
         "marker": {
          "color": "#FF9900",
          "pattern": {
           "shape": ""
          }
         },
         "name": "Electrolysis",
         "orientation": "v",
         "showlegend": false,
         "textfont": {
          "size": 9
         },
         "textposition": "auto",
         "texttemplate": "%{y:.3f}",
         "type": "bar",
         "x": [
          "CEF2023",
          "gTech-IESD"
         ],
         "xaxis": "x6",
         "y": {
          "bdata": "MGBunLms6D8AAAAAAAAAAA==",
          "dtype": "f8"
         },
         "yaxis": "y6"
        },
        {
         "hovertemplate": "Pathway=Electrolysis<br>Period=2050<br>Source=%{x}<br>Production (PJ)=%{y}<extra></extra>",
         "legendgroup": "Electrolysis",
         "marker": {
          "color": "#FF9900",
          "pattern": {
           "shape": ""
          }
         },
         "name": "Electrolysis",
         "orientation": "v",
         "showlegend": false,
         "textfont": {
          "size": 9
         },
         "textposition": "auto",
         "texttemplate": "%{y:.3f}",
         "type": "bar",
         "x": [
          "CEF2023",
          "gTech-IESD"
         ],
         "xaxis": "x7",
         "y": {
          "bdata": "2H7XDBVI7z8AAAAAAAAAAA==",
          "dtype": "f8"
         },
         "yaxis": "y7"
        },
        {
         "hovertemplate": "Pathway=SMR w CCS<br>Period=2021<br>Source=%{x}<br>Production (PJ)=%{y}<extra></extra>",
         "legendgroup": "SMR w CCS",
         "marker": {
          "color": "#109618",
          "pattern": {
           "shape": ""
          }
         },
         "name": "SMR w CCS",
         "orientation": "v",
         "showlegend": true,
         "textfont": {
          "size": 9
         },
         "textposition": "auto",
         "texttemplate": "%{y:.3f}",
         "type": "bar",
         "x": [
          "CEF2023",
          "gTech-IESD"
         ],
         "xaxis": "x",
         "y": {
          "bdata": "AAAAAAAAAAAAAAAAAAAAAA==",
          "dtype": "f8"
         },
         "yaxis": "y"
        },
        {
         "hovertemplate": "Pathway=SMR w CCS<br>Period=2025<br>Source=%{x}<br>Production (PJ)=%{y}<extra></extra>",
         "legendgroup": "SMR w CCS",
         "marker": {
          "color": "#109618",
          "pattern": {
           "shape": ""
          }
         },
         "name": "SMR w CCS",
         "orientation": "v",
         "showlegend": false,
         "textfont": {
          "size": 9
         },
         "textposition": "auto",
         "texttemplate": "%{y:.3f}",
         "type": "bar",
         "x": [
          "CEF2023",
          "gTech-IESD"
         ],
         "xaxis": "x2",
         "y": {
          "bdata": "AAAAAAAAAAAAAAAAAAAAAA==",
          "dtype": "f8"
         },
         "yaxis": "y2"
        },
        {
         "hovertemplate": "Pathway=SMR w CCS<br>Period=2030<br>Source=%{x}<br>Production (PJ)=%{y}<extra></extra>",
         "legendgroup": "SMR w CCS",
         "marker": {
          "color": "#109618",
          "pattern": {
           "shape": ""
          }
         },
         "name": "SMR w CCS",
         "orientation": "v",
         "showlegend": false,
         "textfont": {
          "size": 9
         },
         "textposition": "auto",
         "texttemplate": "%{y:.3f}",
         "type": "bar",
         "x": [
          "CEF2023",
          "gTech-IESD"
         ],
         "xaxis": "x3",
         "y": {
          "bdata": "AAAAAAAAAAAAAAAAAAAAAA==",
          "dtype": "f8"
         },
         "yaxis": "y3"
        },
        {
         "hovertemplate": "Pathway=SMR w CCS<br>Period=2035<br>Source=%{x}<br>Production (PJ)=%{y}<extra></extra>",
         "legendgroup": "SMR w CCS",
         "marker": {
          "color": "#109618",
          "pattern": {
           "shape": ""
          }
         },
         "name": "SMR w CCS",
         "orientation": "v",
         "showlegend": false,
         "textfont": {
          "size": 9
         },
         "textposition": "auto",
         "texttemplate": "%{y:.3f}",
         "type": "bar",
         "x": [
          "CEF2023",
          "gTech-IESD"
         ],
         "xaxis": "x4",
         "y": {
          "bdata": "AAAAAAAAAADr0Zhs40cOQA==",
          "dtype": "f8"
         },
         "yaxis": "y4"
        },
        {
         "hovertemplate": "Pathway=SMR w CCS<br>Period=2040<br>Source=%{x}<br>Production (PJ)=%{y}<extra></extra>",
         "legendgroup": "SMR w CCS",
         "marker": {
          "color": "#109618",
          "pattern": {
           "shape": ""
          }
         },
         "name": "SMR w CCS",
         "orientation": "v",
         "showlegend": false,
         "textfont": {
          "size": 9
         },
         "textposition": "auto",
         "texttemplate": "%{y:.3f}",
         "type": "bar",
         "x": [
          "CEF2023",
          "gTech-IESD"
         ],
         "xaxis": "x5",
         "y": {
          "bdata": "AAAAAAAAAACpK4ZI2WQaQA==",
          "dtype": "f8"
         },
         "yaxis": "y5"
        },
        {
         "hovertemplate": "Pathway=SMR w CCS<br>Period=2045<br>Source=%{x}<br>Production (PJ)=%{y}<extra></extra>",
         "legendgroup": "SMR w CCS",
         "marker": {
          "color": "#109618",
          "pattern": {
           "shape": ""
          }
         },
         "name": "SMR w CCS",
         "orientation": "v",
         "showlegend": false,
         "textfont": {
          "size": 9
         },
         "textposition": "auto",
         "texttemplate": "%{y:.3f}",
         "type": "bar",
         "x": [
          "CEF2023",
          "gTech-IESD"
         ],
         "xaxis": "x6",
         "y": {
          "bdata": "AAAAAAAAAABdvXHvbSciQA==",
          "dtype": "f8"
         },
         "yaxis": "y6"
        },
        {
         "hovertemplate": "Pathway=SMR w CCS<br>Period=2050<br>Source=%{x}<br>Production (PJ)=%{y}<extra></extra>",
         "legendgroup": "SMR w CCS",
         "marker": {
          "color": "#109618",
          "pattern": {
           "shape": ""
          }
         },
         "name": "SMR w CCS",
         "orientation": "v",
         "showlegend": false,
         "textfont": {
          "size": 9
         },
         "textposition": "auto",
         "texttemplate": "%{y:.3f}",
         "type": "bar",
         "x": [
          "CEF2023",
          "gTech-IESD"
         ],
         "xaxis": "x7",
         "y": {
          "bdata": "AAAAAAAAAAAnYGSX4i0lQA==",
          "dtype": "f8"
         },
         "yaxis": "y7"
        }
       ],
       "layout": {
        "annotations": [
         {
          "font": {},
          "showarrow": false,
          "text": "2021",
          "x": 0.06285714285714285,
          "xanchor": "center",
          "xref": "paper",
          "y": -0.1,
          "yanchor": "top",
          "yref": "paper"
         },
         {
          "font": {},
          "showarrow": false,
          "text": "2025",
          "x": 0.20857142857142852,
          "xanchor": "center",
          "xref": "paper",
          "y": -0.1,
          "yanchor": "top",
          "yref": "paper"
         },
         {
          "font": {},
          "showarrow": false,
          "text": "2030",
          "x": 0.3542857142857142,
          "xanchor": "center",
          "xref": "paper",
          "y": -0.1,
          "yanchor": "top",
          "yref": "paper"
         },
         {
          "font": {},
          "showarrow": false,
          "text": "2035",
          "x": 0.5,
          "xanchor": "center",
          "xref": "paper",
          "y": -0.1,
          "yanchor": "top",
          "yref": "paper"
         },
         {
          "font": {},
          "showarrow": false,
          "text": "2040",
          "x": 0.6457142857142856,
          "xanchor": "center",
          "xref": "paper",
          "y": -0.1,
          "yanchor": "top",
          "yref": "paper"
         },
         {
          "font": {},
          "showarrow": false,
          "text": "2045",
          "x": 0.7914285714285713,
          "xanchor": "center",
          "xref": "paper",
          "y": -0.1,
          "yanchor": "top",
          "yref": "paper"
         },
         {
          "font": {},
          "showarrow": false,
          "text": "2050",
          "x": 0.937142857142857,
          "xanchor": "center",
          "xref": "paper",
          "y": -0.1,
          "yanchor": "top",
          "yref": "paper"
         }
        ],
        "bargap": 0.1,
        "barmode": "stack",
        "font": {
         "size": 14
        },
        "height": 650,
        "legend": {
         "orientation": "h",
         "title": {
          "text": ""
         },
         "tracegroupgap": 0,
         "x": 0.5,
         "xanchor": "center",
         "y": 1.04,
         "yanchor": "top"
        },
        "margin": {
         "t": 60
        },
        "template": {
         "data": {
          "bar": [
           {
            "error_x": {
             "color": "#2a3f5f"
            },
            "error_y": {
             "color": "#2a3f5f"
            },
            "marker": {
             "line": {
              "color": "white",
              "width": 0.5
             },
             "pattern": {
              "fillmode": "overlay",
              "size": 10,
              "solidity": 0.2
             }
            },
            "type": "bar"
           }
          ],
          "barpolar": [
           {
            "marker": {
             "line": {
              "color": "white",
              "width": 0.5
             },
             "pattern": {
              "fillmode": "overlay",
              "size": 10,
              "solidity": 0.2
             }
            },
            "type": "barpolar"
           }
          ],
          "carpet": [
           {
            "aaxis": {
             "endlinecolor": "#2a3f5f",
             "gridcolor": "#C8D4E3",
             "linecolor": "#C8D4E3",
             "minorgridcolor": "#C8D4E3",
             "startlinecolor": "#2a3f5f"
            },
            "baxis": {
             "endlinecolor": "#2a3f5f",
             "gridcolor": "#C8D4E3",
             "linecolor": "#C8D4E3",
             "minorgridcolor": "#C8D4E3",
             "startlinecolor": "#2a3f5f"
            },
            "type": "carpet"
           }
          ],
          "choropleth": [
           {
            "colorbar": {
             "outlinewidth": 0,
             "ticks": ""
            },
            "type": "choropleth"
           }
          ],
          "contour": [
           {
            "colorbar": {
             "outlinewidth": 0,
             "ticks": ""
            },
            "colorscale": [
             [
              0,
              "#0d0887"
             ],
             [
              0.1111111111111111,
              "#46039f"
             ],
             [
              0.2222222222222222,
              "#7201a8"
             ],
             [
              0.3333333333333333,
              "#9c179e"
             ],
             [
              0.4444444444444444,
              "#bd3786"
             ],
             [
              0.5555555555555556,
              "#d8576b"
             ],
             [
              0.6666666666666666,
              "#ed7953"
             ],
             [
              0.7777777777777778,
              "#fb9f3a"
             ],
             [
              0.8888888888888888,
              "#fdca26"
             ],
             [
              1,
              "#f0f921"
             ]
            ],
            "type": "contour"
           }
          ],
          "contourcarpet": [
           {
            "colorbar": {
             "outlinewidth": 0,
             "ticks": ""
            },
            "type": "contourcarpet"
           }
          ],
          "heatmap": [
           {
            "colorbar": {
             "outlinewidth": 0,
             "ticks": ""
            },
            "colorscale": [
             [
              0,
              "#0d0887"
             ],
             [
              0.1111111111111111,
              "#46039f"
             ],
             [
              0.2222222222222222,
              "#7201a8"
             ],
             [
              0.3333333333333333,
              "#9c179e"
             ],
             [
              0.4444444444444444,
              "#bd3786"
             ],
             [
              0.5555555555555556,
              "#d8576b"
             ],
             [
              0.6666666666666666,
              "#ed7953"
             ],
             [
              0.7777777777777778,
              "#fb9f3a"
             ],
             [
              0.8888888888888888,
              "#fdca26"
             ],
             [
              1,
              "#f0f921"
             ]
            ],
            "type": "heatmap"
           }
          ],
          "histogram": [
           {
            "marker": {
             "pattern": {
              "fillmode": "overlay",
              "size": 10,
              "solidity": 0.2
             }
            },
            "type": "histogram"
           }
          ],
          "histogram2d": [
           {
            "colorbar": {
             "outlinewidth": 0,
             "ticks": ""
            },
            "colorscale": [
             [
              0,
              "#0d0887"
             ],
             [
              0.1111111111111111,
              "#46039f"
             ],
             [
              0.2222222222222222,
              "#7201a8"
             ],
             [
              0.3333333333333333,
              "#9c179e"
             ],
             [
              0.4444444444444444,
              "#bd3786"
             ],
             [
              0.5555555555555556,
              "#d8576b"
             ],
             [
              0.6666666666666666,
              "#ed7953"
             ],
             [
              0.7777777777777778,
              "#fb9f3a"
             ],
             [
              0.8888888888888888,
              "#fdca26"
             ],
             [
              1,
              "#f0f921"
             ]
            ],
            "type": "histogram2d"
           }
          ],
          "histogram2dcontour": [
           {
            "colorbar": {
             "outlinewidth": 0,
             "ticks": ""
            },
            "colorscale": [
             [
              0,
              "#0d0887"
             ],
             [
              0.1111111111111111,
              "#46039f"
             ],
             [
              0.2222222222222222,
              "#7201a8"
             ],
             [
              0.3333333333333333,
              "#9c179e"
             ],
             [
              0.4444444444444444,
              "#bd3786"
             ],
             [
              0.5555555555555556,
              "#d8576b"
             ],
             [
              0.6666666666666666,
              "#ed7953"
             ],
             [
              0.7777777777777778,
              "#fb9f3a"
             ],
             [
              0.8888888888888888,
              "#fdca26"
             ],
             [
              1,
              "#f0f921"
             ]
            ],
            "type": "histogram2dcontour"
           }
          ],
          "mesh3d": [
           {
            "colorbar": {
             "outlinewidth": 0,
             "ticks": ""
            },
            "type": "mesh3d"
           }
          ],
          "parcoords": [
           {
            "line": {
             "colorbar": {
              "outlinewidth": 0,
              "ticks": ""
             }
            },
            "type": "parcoords"
           }
          ],
          "pie": [
           {
            "automargin": true,
            "type": "pie"
           }
          ],
          "scatter": [
           {
            "fillpattern": {
             "fillmode": "overlay",
             "size": 10,
             "solidity": 0.2
            },
            "type": "scatter"
           }
          ],
          "scatter3d": [
           {
            "line": {
             "colorbar": {
              "outlinewidth": 0,
              "ticks": ""
             }
            },
            "marker": {
             "colorbar": {
              "outlinewidth": 0,
              "ticks": ""
             }
            },
            "type": "scatter3d"
           }
          ],
          "scattercarpet": [
           {
            "marker": {
             "colorbar": {
              "outlinewidth": 0,
              "ticks": ""
             }
            },
            "type": "scattercarpet"
           }
          ],
          "scattergeo": [
           {
            "marker": {
             "colorbar": {
              "outlinewidth": 0,
              "ticks": ""
             }
            },
            "type": "scattergeo"
           }
          ],
          "scattergl": [
           {
            "marker": {
             "colorbar": {
              "outlinewidth": 0,
              "ticks": ""
             }
            },
            "type": "scattergl"
           }
          ],
          "scattermap": [
           {
            "marker": {
             "colorbar": {
              "outlinewidth": 0,
              "ticks": ""
             }
            },
            "type": "scattermap"
           }
          ],
          "scattermapbox": [
           {
            "marker": {
             "colorbar": {
              "outlinewidth": 0,
              "ticks": ""
             }
            },
            "type": "scattermapbox"
           }
          ],
          "scatterpolar": [
           {
            "marker": {
             "colorbar": {
              "outlinewidth": 0,
              "ticks": ""
             }
            },
            "type": "scatterpolar"
           }
          ],
          "scatterpolargl": [
           {
            "marker": {
             "colorbar": {
              "outlinewidth": 0,
              "ticks": ""
             }
            },
            "type": "scatterpolargl"
           }
          ],
          "scatterternary": [
           {
            "marker": {
             "colorbar": {
              "outlinewidth": 0,
              "ticks": ""
             }
            },
            "type": "scatterternary"
           }
          ],
          "surface": [
           {
            "colorbar": {
             "outlinewidth": 0,
             "ticks": ""
            },
            "colorscale": [
             [
              0,
              "#0d0887"
             ],
             [
              0.1111111111111111,
              "#46039f"
             ],
             [
              0.2222222222222222,
              "#7201a8"
             ],
             [
              0.3333333333333333,
              "#9c179e"
             ],
             [
              0.4444444444444444,
              "#bd3786"
             ],
             [
              0.5555555555555556,
              "#d8576b"
             ],
             [
              0.6666666666666666,
              "#ed7953"
             ],
             [
              0.7777777777777778,
              "#fb9f3a"
             ],
             [
              0.8888888888888888,
              "#fdca26"
             ],
             [
              1,
              "#f0f921"
             ]
            ],
            "type": "surface"
           }
          ],
          "table": [
           {
            "cells": {
             "fill": {
              "color": "#EBF0F8"
             },
             "line": {
              "color": "white"
             }
            },
            "header": {
             "fill": {
              "color": "#C8D4E3"
             },
             "line": {
              "color": "white"
             }
            },
            "type": "table"
           }
          ]
         },
         "layout": {
          "annotationdefaults": {
           "arrowcolor": "#2a3f5f",
           "arrowhead": 0,
           "arrowwidth": 1
          },
          "autotypenumbers": "strict",
          "coloraxis": {
           "colorbar": {
            "outlinewidth": 0,
            "ticks": ""
           }
          },
          "colorscale": {
           "diverging": [
            [
             0,
             "#8e0152"
            ],
            [
             0.1,
             "#c51b7d"
            ],
            [
             0.2,
             "#de77ae"
            ],
            [
             0.3,
             "#f1b6da"
            ],
            [
             0.4,
             "#fde0ef"
            ],
            [
             0.5,
             "#f7f7f7"
            ],
            [
             0.6,
             "#e6f5d0"
            ],
            [
             0.7,
             "#b8e186"
            ],
            [
             0.8,
             "#7fbc41"
            ],
            [
             0.9,
             "#4d9221"
            ],
            [
             1,
             "#276419"
            ]
           ],
           "sequential": [
            [
             0,
             "#0d0887"
            ],
            [
             0.1111111111111111,
             "#46039f"
            ],
            [
             0.2222222222222222,
             "#7201a8"
            ],
            [
             0.3333333333333333,
             "#9c179e"
            ],
            [
             0.4444444444444444,
             "#bd3786"
            ],
            [
             0.5555555555555556,
             "#d8576b"
            ],
            [
             0.6666666666666666,
             "#ed7953"
            ],
            [
             0.7777777777777778,
             "#fb9f3a"
            ],
            [
             0.8888888888888888,
             "#fdca26"
            ],
            [
             1,
             "#f0f921"
            ]
           ],
           "sequentialminus": [
            [
             0,
             "#0d0887"
            ],
            [
             0.1111111111111111,
             "#46039f"
            ],
            [
             0.2222222222222222,
             "#7201a8"
            ],
            [
             0.3333333333333333,
             "#9c179e"
            ],
            [
             0.4444444444444444,
             "#bd3786"
            ],
            [
             0.5555555555555556,
             "#d8576b"
            ],
            [
             0.6666666666666666,
             "#ed7953"
            ],
            [
             0.7777777777777778,
             "#fb9f3a"
            ],
            [
             0.8888888888888888,
             "#fdca26"
            ],
            [
             1,
             "#f0f921"
            ]
           ]
          },
          "colorway": [
           "#636efa",
           "#EF553B",
           "#00cc96",
           "#ab63fa",
           "#FFA15A",
           "#19d3f3",
           "#FF6692",
           "#B6E880",
           "#FF97FF",
           "#FECB52"
          ],
          "font": {
           "color": "#2a3f5f"
          },
          "geo": {
           "bgcolor": "white",
           "lakecolor": "white",
           "landcolor": "white",
           "showlakes": true,
           "showland": true,
           "subunitcolor": "#C8D4E3"
          },
          "hoverlabel": {
           "align": "left"
          },
          "hovermode": "closest",
          "mapbox": {
           "style": "light"
          },
          "paper_bgcolor": "white",
          "plot_bgcolor": "white",
          "polar": {
           "angularaxis": {
            "gridcolor": "#EBF0F8",
            "linecolor": "#EBF0F8",
            "ticks": ""
           },
           "bgcolor": "white",
           "radialaxis": {
            "gridcolor": "#EBF0F8",
            "linecolor": "#EBF0F8",
            "ticks": ""
           }
          },
          "scene": {
           "xaxis": {
            "backgroundcolor": "white",
            "gridcolor": "#DFE8F3",
            "gridwidth": 2,
            "linecolor": "#EBF0F8",
            "showbackground": true,
            "ticks": "",
            "zerolinecolor": "#EBF0F8"
           },
           "yaxis": {
            "backgroundcolor": "white",
            "gridcolor": "#DFE8F3",
            "gridwidth": 2,
            "linecolor": "#EBF0F8",
            "showbackground": true,
            "ticks": "",
            "zerolinecolor": "#EBF0F8"
           },
           "zaxis": {
            "backgroundcolor": "white",
            "gridcolor": "#DFE8F3",
            "gridwidth": 2,
            "linecolor": "#EBF0F8",
            "showbackground": true,
            "ticks": "",
            "zerolinecolor": "#EBF0F8"
           }
          },
          "shapedefaults": {
           "line": {
            "color": "#2a3f5f"
           }
          },
          "ternary": {
           "aaxis": {
            "gridcolor": "#DFE8F3",
            "linecolor": "#A2B1C6",
            "ticks": ""
           },
           "baxis": {
            "gridcolor": "#DFE8F3",
            "linecolor": "#A2B1C6",
            "ticks": ""
           },
           "bgcolor": "white",
           "caxis": {
            "gridcolor": "#DFE8F3",
            "linecolor": "#A2B1C6",
            "ticks": ""
           }
          },
          "title": {
           "x": 0.05
          },
          "xaxis": {
           "automargin": true,
           "gridcolor": "#EBF0F8",
           "linecolor": "#EBF0F8",
           "ticks": "",
           "title": {
            "standoff": 15
           },
           "zerolinecolor": "#EBF0F8",
           "zerolinewidth": 2
          },
          "yaxis": {
           "automargin": true,
           "gridcolor": "#EBF0F8",
           "linecolor": "#EBF0F8",
           "ticks": "",
           "title": {
            "standoff": 15
           },
           "zerolinecolor": "#EBF0F8",
           "zerolinewidth": 2
          }
         }
        },
        "title": {
         "text": "H2 production in ON by pathway and energy model",
         "x": 0.5,
         "xanchor": "center",
         "y": 0.97,
         "yanchor": "top"
        },
        "width": 1150,
        "xaxis": {
         "anchor": "y",
         "domain": [
          0,
          0.1257142857142857
         ],
         "title": {
          "text": ""
         }
        },
        "xaxis2": {
         "anchor": "y2",
         "domain": [
          0.14571428571428569,
          0.27142857142857135
         ],
         "matches": "x",
         "title": {
          "text": ""
         }
        },
        "xaxis3": {
         "anchor": "y3",
         "domain": [
          0.29142857142857137,
          0.41714285714285704
         ],
         "matches": "x",
         "title": {
          "text": ""
         }
        },
        "xaxis4": {
         "anchor": "y4",
         "domain": [
          0.4371428571428571,
          0.5628571428571428
         ],
         "matches": "x",
         "title": {
          "text": ""
         }
        },
        "xaxis5": {
         "anchor": "y5",
         "domain": [
          0.5828571428571427,
          0.7085714285714284
         ],
         "matches": "x",
         "title": {
          "text": ""
         }
        },
        "xaxis6": {
         "anchor": "y6",
         "domain": [
          0.7285714285714284,
          0.8542857142857141
         ],
         "matches": "x",
         "title": {
          "text": ""
         }
        },
        "xaxis7": {
         "anchor": "y7",
         "domain": [
          0.8742857142857142,
          0.9999999999999999
         ],
         "matches": "x",
         "title": {
          "text": ""
         }
        },
        "yaxis": {
         "anchor": "x",
         "domain": [
          0,
          1
         ],
         "title": {
          "standoff": 0,
          "text": "log(Production [PJ])"
         },
         "type": "log"
        },
        "yaxis2": {
         "anchor": "x2",
         "domain": [
          0,
          1
         ],
         "matches": "y",
         "showticklabels": false,
         "type": "log"
        },
        "yaxis3": {
         "anchor": "x3",
         "domain": [
          0,
          1
         ],
         "matches": "y",
         "showticklabels": false,
         "type": "log"
        },
        "yaxis4": {
         "anchor": "x4",
         "domain": [
          0,
          1
         ],
         "matches": "y",
         "showticklabels": false,
         "type": "log"
        },
        "yaxis5": {
         "anchor": "x5",
         "domain": [
          0,
          1
         ],
         "matches": "y",
         "showticklabels": false,
         "type": "log"
        },
        "yaxis6": {
         "anchor": "x6",
         "domain": [
          0,
          1
         ],
         "matches": "y",
         "showticklabels": false,
         "type": "log"
        },
        "yaxis7": {
         "anchor": "x7",
         "domain": [
          0,
          1
         ],
         "matches": "y",
         "showticklabels": false,
         "type": "log"
        }
       }
      }
     },
     "metadata": {},
     "output_type": "display_data"
    }
   ],
   "source": [
    "ref_fig = ref_trnact[(ref_trnact['Technology'].str.contains('I_H2_ELC')) | (ref_trnact['Technology'].str.contains('I_H2_SMR'))][['Period', 'Technology', 'Demand (PJ)']].copy()\n",
    "ref_fig['Technology'] = ref_fig['Technology'].replace({'I_H2_ELC_ALK': 'Electrolysis', 'I_H2_ELC_PEM': 'Electrolysis', 'I_H2_SMR': 'SMR w/o CCS', 'I_H2_SMR_CCS': 'SMR w CCS'})\n",
    "ref_fig = ref_fig.rename(columns={'Technology': 'Pathway', 'Demand (PJ)': 'Production (PJ)'})\n",
    "\n",
    "# HHV of H2 from Table A - https://archives.bape.gouv.qc.ca/sections/mandats/becancour/documents/DC4.pdf\n",
    "bau23_h2['Production (PJ)'] = bau23_h2['Production (Mt)'] * 141.9 # PJ/Mt = MJ/kg\n",
    "bau23_fig = bau23_h2[['Period', 'Pathway', 'Production (PJ)']].copy()\n",
    "\n",
    "gtech23_fig = gtech23_ref_h2.fillna(0.)\n",
    "gtech23_fig['Period'] = gtech23_fig['Period'].astype(str)\n",
    "\n",
    "bau23_fig['Source'] = 'CEF2023'\n",
    "ref_fig['Source'] = 'CANOE'\n",
    "gtech23_fig['Source'] = 'gTech-IESD'\n",
    "\n",
    "fig_df = pd.concat([ref_fig, bau23_fig, gtech23_fig])\n",
    "\n",
    "fig = px.bar(fig_df, \n",
    "             x='Source', \n",
    "             y='Production (PJ)', \n",
    "             color='Pathway', \n",
    "             barmode='stack', \n",
    "             facet_col='Period',\n",
    "             facet_col_spacing=2E-2,\n",
    "             template='plotly_white',\n",
    "             color_discrete_sequence=px.colors.qualitative.G10[:7] + px.colors.qualitative.G10[8:],\n",
    "             text_auto='.3f',\n",
    "            #  text='Demand (PJ)_sum'\n",
    "             width=1150, height=650,\n",
    "             )\n",
    "\n",
    "fig.update_layout(title=dict(\n",
    "        text='H2 production in ON by pathway and energy model',\n",
    "        x=0.5, \n",
    "        y=0.97,\n",
    "        xanchor='center',\n",
    "        yanchor='top'\n",
    "    ),\n",
    "    xaxis=dict(title='Period'),\n",
    "    yaxis=dict(title='log(Production [PJ])',\n",
    "            #    dtick=2,\n",
    "               type='log'\n",
    "               ),\n",
    "    yaxis_title_standoff=0,\n",
    "    legend_title_text='',\n",
    "    bargap=0.1,\n",
    "    legend=dict(\n",
    "        orientation='h',  \n",
    "        yanchor='top',\n",
    "        y=1.04,  \n",
    "        xanchor='center',\n",
    "        x=0.5),\n",
    "    font=dict(\n",
    "        # family=\"Open Sans\",\n",
    "        size=14)\n",
    "    )\n",
    "\n",
    "for axis in fig.layout:\n",
    "    if axis.startswith('yaxis'):\n",
    "        fig.layout[axis].type = 'log'\n",
    "\n",
    "for annotation in fig.layout.annotations:\n",
    "    annotation.text = annotation.text.split('=')[1]\n",
    "    annotation.y = -0.1  \n",
    "    annotation.yanchor = 'top' \n",
    "\n",
    "for axis in fig.layout:\n",
    "    if axis.startswith('xaxis'):\n",
    "        fig.layout[axis].title.text = ''\n",
    "\n",
    "fig.for_each_trace(lambda trace: trace.update(textfont=dict(size=9)))\n",
    "\n",
    "fig.show()"
   ]
  },
  {
   "cell_type": "code",
   "execution_count": 273,
   "metadata": {},
   "outputs": [],
   "source": [
    "morris_cost = pd.read_csv(\"canoe_trn_vanilla_mmorris/MM_outputs/cost_analysis.csv\")\n",
    "morris_co2 = pd.read_csv(\"canoe_trn_vanilla_mmorris/MM_outputs/co2_analysis.csv\")"
   ]
  },
  {
   "cell_type": "code",
   "execution_count": 274,
   "metadata": {},
   "outputs": [
    {
     "data": {
      "text/plain": [
       "array(['H2_supply_cap_cost', 'MHDV_H2_eff', 'MHDV_H2_cap_cost',\n",
       "       'LDV_BEV_cap_cost', 'LDV_BEV_eff', 'RT_fuel_cost'], dtype=object)"
      ]
     },
     "execution_count": 274,
     "metadata": {},
     "output_type": "execute_result"
    }
   ],
   "source": [
    "morris_df = pd.DataFrame({\n",
    "    'param': morris_cost['param'],\n",
    "    'cost_mu_star': morris_cost['mu_star'],\n",
    "    'cost_mu_star_conf': morris_cost['Mu_Star_Conf[0.95]'],\n",
    "    'co2_mu_star': morris_co2['mu_star'],\n",
    "    'co2_mu_star_conf': morris_co2['Mu_Star_Conf[0.95]']\n",
    "}).sort_values(by='cost_mu_star', ascending=True)\n",
    "\n",
    "morris_df.param.unique()"
   ]
  },
  {
   "cell_type": "code",
   "execution_count": 275,
   "metadata": {},
   "outputs": [],
   "source": [
    "morris_df.param = morris_df.param.replace({\n",
    "    'RT_fuel_cost': 'RT fuel costs', \n",
    "    'LDV_BEV_cap_cost': 'LD BEV capital costs', \n",
    "    'LDV_BEV_eff': 'LD BEV efficiencies',\n",
    "    'MHDV_H2_cap_cost': 'M&HD FCEV capital costs', \n",
    "    'MHDV_H2_eff': 'M&HD FCEV efficiencies', \n",
    "    'H2_supply_cap_cost': 'H2 production capital costs'})"
   ]
  },
  {
   "cell_type": "code",
   "execution_count": 276,
   "metadata": {},
   "outputs": [
    {
     "data": {
      "text/html": [
       "<div>\n",
       "<style scoped>\n",
       "    .dataframe tbody tr th:only-of-type {\n",
       "        vertical-align: middle;\n",
       "    }\n",
       "\n",
       "    .dataframe tbody tr th {\n",
       "        vertical-align: top;\n",
       "    }\n",
       "\n",
       "    .dataframe thead th {\n",
       "        text-align: right;\n",
       "    }\n",
       "</style>\n",
       "<table border=\"1\" class=\"dataframe\">\n",
       "  <thead>\n",
       "    <tr style=\"text-align: right;\">\n",
       "      <th></th>\n",
       "      <th>param</th>\n",
       "      <th>cost_mu_star</th>\n",
       "      <th>cost_mu_star_conf</th>\n",
       "      <th>co2_mu_star</th>\n",
       "      <th>co2_mu_star_conf</th>\n",
       "    </tr>\n",
       "  </thead>\n",
       "  <tbody>\n",
       "    <tr>\n",
       "      <th>3</th>\n",
       "      <td>H2 production capital costs</td>\n",
       "      <td>613.476062</td>\n",
       "      <td>395.159296</td>\n",
       "      <td>929.200205</td>\n",
       "      <td>777.218427</td>\n",
       "    </tr>\n",
       "    <tr>\n",
       "      <th>5</th>\n",
       "      <td>M&amp;HD FCEV efficiencies</td>\n",
       "      <td>1764.042379</td>\n",
       "      <td>629.276571</td>\n",
       "      <td>4872.493547</td>\n",
       "      <td>1798.710817</td>\n",
       "    </tr>\n",
       "    <tr>\n",
       "      <th>2</th>\n",
       "      <td>M&amp;HD FCEV capital costs</td>\n",
       "      <td>2419.566352</td>\n",
       "      <td>1065.781338</td>\n",
       "      <td>4517.708035</td>\n",
       "      <td>1784.213160</td>\n",
       "    </tr>\n",
       "    <tr>\n",
       "      <th>1</th>\n",
       "      <td>LD BEV capital costs</td>\n",
       "      <td>11268.555842</td>\n",
       "      <td>4846.225551</td>\n",
       "      <td>3732.336928</td>\n",
       "      <td>1488.247637</td>\n",
       "    </tr>\n",
       "    <tr>\n",
       "      <th>4</th>\n",
       "      <td>LD BEV efficiencies</td>\n",
       "      <td>11776.638125</td>\n",
       "      <td>4447.991605</td>\n",
       "      <td>3640.982059</td>\n",
       "      <td>1468.744420</td>\n",
       "    </tr>\n",
       "    <tr>\n",
       "      <th>0</th>\n",
       "      <td>RT fuel costs</td>\n",
       "      <td>21042.154109</td>\n",
       "      <td>8386.531948</td>\n",
       "      <td>4717.083469</td>\n",
       "      <td>2646.114713</td>\n",
       "    </tr>\n",
       "  </tbody>\n",
       "</table>\n",
       "</div>"
      ],
      "text/plain": [
       "                         param  cost_mu_star  cost_mu_star_conf  co2_mu_star  \\\n",
       "3  H2 production capital costs    613.476062         395.159296   929.200205   \n",
       "5       M&HD FCEV efficiencies   1764.042379         629.276571  4872.493547   \n",
       "2      M&HD FCEV capital costs   2419.566352        1065.781338  4517.708035   \n",
       "1         LD BEV capital costs  11268.555842        4846.225551  3732.336928   \n",
       "4          LD BEV efficiencies  11776.638125        4447.991605  3640.982059   \n",
       "0                RT fuel costs  21042.154109        8386.531948  4717.083469   \n",
       "\n",
       "   co2_mu_star_conf  \n",
       "3        777.218427  \n",
       "5       1798.710817  \n",
       "2       1784.213160  \n",
       "1       1488.247637  \n",
       "4       1468.744420  \n",
       "0       2646.114713  "
      ]
     },
     "execution_count": 276,
     "metadata": {},
     "output_type": "execute_result"
    }
   ],
   "source": [
    "morris_df"
   ]
  },
  {
   "cell_type": "code",
   "execution_count": 277,
   "metadata": {},
   "outputs": [
    {
     "data": {
      "text/html": [
       "\n",
       "<script src=\"https://cdnjs.cloudflare.com/ajax/libs/mathjax/2.7.5/MathJax.js?config=TeX-MML-AM_CHTML\" async></script>\n"
      ],
      "text/plain": [
       "<IPython.core.display.HTML object>"
      ]
     },
     "metadata": {},
     "output_type": "display_data"
    }
   ],
   "source": [
    "from IPython.display import display, HTML\n",
    "\n",
    "display(HTML(\"\"\"\n",
    "<script src=\"https://cdnjs.cloudflare.com/ajax/libs/mathjax/2.7.5/MathJax.js?config=TeX-MML-AM_CHTML\" async></script>\n",
    "\"\"\"))"
   ]
  },
  {
   "cell_type": "code",
   "execution_count": 278,
   "metadata": {},
   "outputs": [
    {
     "data": {
      "application/vnd.plotly.v1+json": {
       "config": {
        "plotlyServerURL": "https://plot.ly"
       },
       "data": [
        {
         "error_x": {
          "array": {
           "bdata": "0C9YeoyyeEA5g6xqNqqDQPUAGhcgp5BAdLG9vTnuskDf5NXZ/V+xQA083RZEYcBA",
           "dtype": "f8"
          },
          "type": "data",
          "visible": true
         },
         "marker": {
          "color": "green"
         },
         "name": "Average absolute change in model objective ($MM CAD)",
         "orientation": "h",
         "type": "bar",
         "x": {
          "bdata": "VHla+c4rg0Cq84BlK5CbQOG91vgh56JAUFzYJUcCxkD0BRiuUQDHQOG47dyJjNRA",
          "dtype": "f8"
         },
         "y": [
          "H2 production capital costs",
          "M&HD FCEV efficiencies",
          "M&HD FCEV capital costs",
          "LD BEV capital costs",
          "LD BEV efficiencies",
          "RT fuel costs"
         ]
        },
        {
         "error_x": {
          "array": {
           "bdata": "fGqAVr9JiEDwFlvg1xqcQBGrkUba4JtAE/GOlP1Al0DvJzpJ+vKWQNaHqbs6rKRA",
           "dtype": "f8"
          },
          "type": "data",
          "visible": true
         },
         "marker": {
          "color": "red"
         },
         "name": "Average absolute change in total emissions (ktonne CO2e)",
         "orientation": "h",
         "type": "bar",
         "x": {
          "bdata": "8OwKBZoJjUDh4RpZfgizQCOiyEG1pbFAfoPjgaworUB2Z3DQ9nGsQD+XPV4VbbJA",
          "dtype": "f8"
         },
         "y": [
          "H2 production capital costs",
          "M&HD FCEV efficiencies",
          "M&HD FCEV capital costs",
          "LD BEV capital costs",
          "LD BEV efficiencies",
          "RT fuel costs"
         ]
        }
       ],
       "layout": {
        "annotations": [
         {
          "font": {
           "size": 15
          },
          "showarrow": false,
          "text": "$(\\mu^*)$",
          "x": 0.82,
          "xref": "paper",
          "y": -0.12,
          "yref": "paper"
         }
        ],
        "bargap": 0.15,
        "barmode": "group",
        "font": {
         "size": 15
        },
        "height": 600,
        "legend": {
         "orientation": "h",
         "title": {
          "text": ""
         },
         "traceorder": "reversed",
         "x": 0.35,
         "xanchor": "center",
         "y": 1.13,
         "yanchor": "top"
        },
        "plot_bgcolor": "white",
        "template": {
         "data": {
          "bar": [
           {
            "error_x": {
             "color": "#2a3f5f"
            },
            "error_y": {
             "color": "#2a3f5f"
            },
            "marker": {
             "line": {
              "color": "#E5ECF6",
              "width": 0.5
             },
             "pattern": {
              "fillmode": "overlay",
              "size": 10,
              "solidity": 0.2
             }
            },
            "type": "bar"
           }
          ],
          "barpolar": [
           {
            "marker": {
             "line": {
              "color": "#E5ECF6",
              "width": 0.5
             },
             "pattern": {
              "fillmode": "overlay",
              "size": 10,
              "solidity": 0.2
             }
            },
            "type": "barpolar"
           }
          ],
          "carpet": [
           {
            "aaxis": {
             "endlinecolor": "#2a3f5f",
             "gridcolor": "white",
             "linecolor": "white",
             "minorgridcolor": "white",
             "startlinecolor": "#2a3f5f"
            },
            "baxis": {
             "endlinecolor": "#2a3f5f",
             "gridcolor": "white",
             "linecolor": "white",
             "minorgridcolor": "white",
             "startlinecolor": "#2a3f5f"
            },
            "type": "carpet"
           }
          ],
          "choropleth": [
           {
            "colorbar": {
             "outlinewidth": 0,
             "ticks": ""
            },
            "type": "choropleth"
           }
          ],
          "contour": [
           {
            "colorbar": {
             "outlinewidth": 0,
             "ticks": ""
            },
            "colorscale": [
             [
              0,
              "#0d0887"
             ],
             [
              0.1111111111111111,
              "#46039f"
             ],
             [
              0.2222222222222222,
              "#7201a8"
             ],
             [
              0.3333333333333333,
              "#9c179e"
             ],
             [
              0.4444444444444444,
              "#bd3786"
             ],
             [
              0.5555555555555556,
              "#d8576b"
             ],
             [
              0.6666666666666666,
              "#ed7953"
             ],
             [
              0.7777777777777778,
              "#fb9f3a"
             ],
             [
              0.8888888888888888,
              "#fdca26"
             ],
             [
              1,
              "#f0f921"
             ]
            ],
            "type": "contour"
           }
          ],
          "contourcarpet": [
           {
            "colorbar": {
             "outlinewidth": 0,
             "ticks": ""
            },
            "type": "contourcarpet"
           }
          ],
          "heatmap": [
           {
            "colorbar": {
             "outlinewidth": 0,
             "ticks": ""
            },
            "colorscale": [
             [
              0,
              "#0d0887"
             ],
             [
              0.1111111111111111,
              "#46039f"
             ],
             [
              0.2222222222222222,
              "#7201a8"
             ],
             [
              0.3333333333333333,
              "#9c179e"
             ],
             [
              0.4444444444444444,
              "#bd3786"
             ],
             [
              0.5555555555555556,
              "#d8576b"
             ],
             [
              0.6666666666666666,
              "#ed7953"
             ],
             [
              0.7777777777777778,
              "#fb9f3a"
             ],
             [
              0.8888888888888888,
              "#fdca26"
             ],
             [
              1,
              "#f0f921"
             ]
            ],
            "type": "heatmap"
           }
          ],
          "histogram": [
           {
            "marker": {
             "pattern": {
              "fillmode": "overlay",
              "size": 10,
              "solidity": 0.2
             }
            },
            "type": "histogram"
           }
          ],
          "histogram2d": [
           {
            "colorbar": {
             "outlinewidth": 0,
             "ticks": ""
            },
            "colorscale": [
             [
              0,
              "#0d0887"
             ],
             [
              0.1111111111111111,
              "#46039f"
             ],
             [
              0.2222222222222222,
              "#7201a8"
             ],
             [
              0.3333333333333333,
              "#9c179e"
             ],
             [
              0.4444444444444444,
              "#bd3786"
             ],
             [
              0.5555555555555556,
              "#d8576b"
             ],
             [
              0.6666666666666666,
              "#ed7953"
             ],
             [
              0.7777777777777778,
              "#fb9f3a"
             ],
             [
              0.8888888888888888,
              "#fdca26"
             ],
             [
              1,
              "#f0f921"
             ]
            ],
            "type": "histogram2d"
           }
          ],
          "histogram2dcontour": [
           {
            "colorbar": {
             "outlinewidth": 0,
             "ticks": ""
            },
            "colorscale": [
             [
              0,
              "#0d0887"
             ],
             [
              0.1111111111111111,
              "#46039f"
             ],
             [
              0.2222222222222222,
              "#7201a8"
             ],
             [
              0.3333333333333333,
              "#9c179e"
             ],
             [
              0.4444444444444444,
              "#bd3786"
             ],
             [
              0.5555555555555556,
              "#d8576b"
             ],
             [
              0.6666666666666666,
              "#ed7953"
             ],
             [
              0.7777777777777778,
              "#fb9f3a"
             ],
             [
              0.8888888888888888,
              "#fdca26"
             ],
             [
              1,
              "#f0f921"
             ]
            ],
            "type": "histogram2dcontour"
           }
          ],
          "mesh3d": [
           {
            "colorbar": {
             "outlinewidth": 0,
             "ticks": ""
            },
            "type": "mesh3d"
           }
          ],
          "parcoords": [
           {
            "line": {
             "colorbar": {
              "outlinewidth": 0,
              "ticks": ""
             }
            },
            "type": "parcoords"
           }
          ],
          "pie": [
           {
            "automargin": true,
            "type": "pie"
           }
          ],
          "scatter": [
           {
            "fillpattern": {
             "fillmode": "overlay",
             "size": 10,
             "solidity": 0.2
            },
            "type": "scatter"
           }
          ],
          "scatter3d": [
           {
            "line": {
             "colorbar": {
              "outlinewidth": 0,
              "ticks": ""
             }
            },
            "marker": {
             "colorbar": {
              "outlinewidth": 0,
              "ticks": ""
             }
            },
            "type": "scatter3d"
           }
          ],
          "scattercarpet": [
           {
            "marker": {
             "colorbar": {
              "outlinewidth": 0,
              "ticks": ""
             }
            },
            "type": "scattercarpet"
           }
          ],
          "scattergeo": [
           {
            "marker": {
             "colorbar": {
              "outlinewidth": 0,
              "ticks": ""
             }
            },
            "type": "scattergeo"
           }
          ],
          "scattergl": [
           {
            "marker": {
             "colorbar": {
              "outlinewidth": 0,
              "ticks": ""
             }
            },
            "type": "scattergl"
           }
          ],
          "scattermap": [
           {
            "marker": {
             "colorbar": {
              "outlinewidth": 0,
              "ticks": ""
             }
            },
            "type": "scattermap"
           }
          ],
          "scattermapbox": [
           {
            "marker": {
             "colorbar": {
              "outlinewidth": 0,
              "ticks": ""
             }
            },
            "type": "scattermapbox"
           }
          ],
          "scatterpolar": [
           {
            "marker": {
             "colorbar": {
              "outlinewidth": 0,
              "ticks": ""
             }
            },
            "type": "scatterpolar"
           }
          ],
          "scatterpolargl": [
           {
            "marker": {
             "colorbar": {
              "outlinewidth": 0,
              "ticks": ""
             }
            },
            "type": "scatterpolargl"
           }
          ],
          "scatterternary": [
           {
            "marker": {
             "colorbar": {
              "outlinewidth": 0,
              "ticks": ""
             }
            },
            "type": "scatterternary"
           }
          ],
          "surface": [
           {
            "colorbar": {
             "outlinewidth": 0,
             "ticks": ""
            },
            "colorscale": [
             [
              0,
              "#0d0887"
             ],
             [
              0.1111111111111111,
              "#46039f"
             ],
             [
              0.2222222222222222,
              "#7201a8"
             ],
             [
              0.3333333333333333,
              "#9c179e"
             ],
             [
              0.4444444444444444,
              "#bd3786"
             ],
             [
              0.5555555555555556,
              "#d8576b"
             ],
             [
              0.6666666666666666,
              "#ed7953"
             ],
             [
              0.7777777777777778,
              "#fb9f3a"
             ],
             [
              0.8888888888888888,
              "#fdca26"
             ],
             [
              1,
              "#f0f921"
             ]
            ],
            "type": "surface"
           }
          ],
          "table": [
           {
            "cells": {
             "fill": {
              "color": "#EBF0F8"
             },
             "line": {
              "color": "white"
             }
            },
            "header": {
             "fill": {
              "color": "#C8D4E3"
             },
             "line": {
              "color": "white"
             }
            },
            "type": "table"
           }
          ]
         },
         "layout": {
          "annotationdefaults": {
           "arrowcolor": "#2a3f5f",
           "arrowhead": 0,
           "arrowwidth": 1
          },
          "autotypenumbers": "strict",
          "coloraxis": {
           "colorbar": {
            "outlinewidth": 0,
            "ticks": ""
           }
          },
          "colorscale": {
           "diverging": [
            [
             0,
             "#8e0152"
            ],
            [
             0.1,
             "#c51b7d"
            ],
            [
             0.2,
             "#de77ae"
            ],
            [
             0.3,
             "#f1b6da"
            ],
            [
             0.4,
             "#fde0ef"
            ],
            [
             0.5,
             "#f7f7f7"
            ],
            [
             0.6,
             "#e6f5d0"
            ],
            [
             0.7,
             "#b8e186"
            ],
            [
             0.8,
             "#7fbc41"
            ],
            [
             0.9,
             "#4d9221"
            ],
            [
             1,
             "#276419"
            ]
           ],
           "sequential": [
            [
             0,
             "#0d0887"
            ],
            [
             0.1111111111111111,
             "#46039f"
            ],
            [
             0.2222222222222222,
             "#7201a8"
            ],
            [
             0.3333333333333333,
             "#9c179e"
            ],
            [
             0.4444444444444444,
             "#bd3786"
            ],
            [
             0.5555555555555556,
             "#d8576b"
            ],
            [
             0.6666666666666666,
             "#ed7953"
            ],
            [
             0.7777777777777778,
             "#fb9f3a"
            ],
            [
             0.8888888888888888,
             "#fdca26"
            ],
            [
             1,
             "#f0f921"
            ]
           ],
           "sequentialminus": [
            [
             0,
             "#0d0887"
            ],
            [
             0.1111111111111111,
             "#46039f"
            ],
            [
             0.2222222222222222,
             "#7201a8"
            ],
            [
             0.3333333333333333,
             "#9c179e"
            ],
            [
             0.4444444444444444,
             "#bd3786"
            ],
            [
             0.5555555555555556,
             "#d8576b"
            ],
            [
             0.6666666666666666,
             "#ed7953"
            ],
            [
             0.7777777777777778,
             "#fb9f3a"
            ],
            [
             0.8888888888888888,
             "#fdca26"
            ],
            [
             1,
             "#f0f921"
            ]
           ]
          },
          "colorway": [
           "#636efa",
           "#EF553B",
           "#00cc96",
           "#ab63fa",
           "#FFA15A",
           "#19d3f3",
           "#FF6692",
           "#B6E880",
           "#FF97FF",
           "#FECB52"
          ],
          "font": {
           "color": "#2a3f5f"
          },
          "geo": {
           "bgcolor": "white",
           "lakecolor": "white",
           "landcolor": "#E5ECF6",
           "showlakes": true,
           "showland": true,
           "subunitcolor": "white"
          },
          "hoverlabel": {
           "align": "left"
          },
          "hovermode": "closest",
          "mapbox": {
           "style": "light"
          },
          "paper_bgcolor": "white",
          "plot_bgcolor": "#E5ECF6",
          "polar": {
           "angularaxis": {
            "gridcolor": "white",
            "linecolor": "white",
            "ticks": ""
           },
           "bgcolor": "#E5ECF6",
           "radialaxis": {
            "gridcolor": "white",
            "linecolor": "white",
            "ticks": ""
           }
          },
          "scene": {
           "xaxis": {
            "backgroundcolor": "#E5ECF6",
            "gridcolor": "white",
            "gridwidth": 2,
            "linecolor": "white",
            "showbackground": true,
            "ticks": "",
            "zerolinecolor": "white"
           },
           "yaxis": {
            "backgroundcolor": "#E5ECF6",
            "gridcolor": "white",
            "gridwidth": 2,
            "linecolor": "white",
            "showbackground": true,
            "ticks": "",
            "zerolinecolor": "white"
           },
           "zaxis": {
            "backgroundcolor": "#E5ECF6",
            "gridcolor": "white",
            "gridwidth": 2,
            "linecolor": "white",
            "showbackground": true,
            "ticks": "",
            "zerolinecolor": "white"
           }
          },
          "shapedefaults": {
           "line": {
            "color": "#2a3f5f"
           }
          },
          "ternary": {
           "aaxis": {
            "gridcolor": "white",
            "linecolor": "white",
            "ticks": ""
           },
           "baxis": {
            "gridcolor": "white",
            "linecolor": "white",
            "ticks": ""
           },
           "bgcolor": "#E5ECF6",
           "caxis": {
            "gridcolor": "white",
            "linecolor": "white",
            "ticks": ""
           }
          },
          "title": {
           "x": 0.05
          },
          "xaxis": {
           "automargin": true,
           "gridcolor": "white",
           "linecolor": "white",
           "ticks": "",
           "title": {
            "standoff": 15
           },
           "zerolinecolor": "white",
           "zerolinewidth": 2
          },
          "yaxis": {
           "automargin": true,
           "gridcolor": "white",
           "linecolor": "white",
           "ticks": "",
           "title": {
            "standoff": 15
           },
           "zerolinecolor": "white",
           "zerolinewidth": 2
          }
         }
        },
        "title": {
         "text": "Global sensitivities of model results to grouped transportation parameters",
         "x": 0.5,
         "xanchor": "center",
         "y": 0.97,
         "yanchor": "top"
        },
        "width": 900,
        "xaxis": {
         "dtick": 3000,
         "gridcolor": "lightgrey",
         "showgrid": true,
         "showline": true,
         "title": {
          "text": "Expected change in model results"
         },
         "zeroline": true
        },
        "yaxis": {
         "dtick": 1,
         "showgrid": true,
         "showline": true,
         "showticklabels": true,
         "side": "left",
         "tickmode": "linear",
         "title": {
          "standoff": 0,
          "text": "Group of parameters"
         },
         "zeroline": true
        }
       }
      }
     },
     "metadata": {},
     "output_type": "display_data"
    }
   ],
   "source": [
    "fig = go.Figure()\n",
    "\n",
    "# Add primary x-axis bars (Cost Mu Star)\n",
    "fig.add_trace(go.Bar(\n",
    "    y=morris_df['param'],\n",
    "    x=morris_df['cost_mu_star'],\n",
    "    error_x=dict(type='data', array=morris_df['cost_mu_star_conf'], visible=True),\n",
    "    name='Average absolute change in model objective ($MM CAD)',\n",
    "    marker_color='green',\n",
    "    orientation='h'\n",
    "))\n",
    "\n",
    "# Add secondary x-axis bars (CO2 Emissions Mu Star)\n",
    "fig.add_trace(go.Bar(\n",
    "    y=morris_df['param'],\n",
    "    x=morris_df['co2_mu_star'],\n",
    "    error_x=dict(type='data', array=morris_df['co2_mu_star_conf'], visible=True),\n",
    "    name='Average absolute change in total emissions (ktonne CO2e)',\n",
    "    marker_color='red',\n",
    "    orientation='h'\n",
    "))\n",
    "\n",
    "# Update layout for dual-axis plot\n",
    "fig.update_layout(\n",
    "    width=900,\n",
    "    height=600,\n",
    "    title=dict(\n",
    "        text='Global sensitivities of model results to grouped transportation parameters',\n",
    "        x=0.5,\n",
    "        y=0.97,\n",
    "        xanchor='center',\n",
    "        yanchor='top'\n",
    "    ),\n",
    "    xaxis=dict(\n",
    "        title='Expected change in model results',\n",
    "        showgrid=True,\n",
    "        gridcolor='lightgrey',\n",
    "        zeroline=True,\n",
    "        showline=True,\n",
    "        dtick=3000\n",
    "    ),\n",
    "    yaxis=dict(\n",
    "        title='Group of parameters',\n",
    "        side='left',\n",
    "        showgrid=True,\n",
    "        showline=True,\n",
    "        zeroline=True,\n",
    "        showticklabels=True,\n",
    "        tickmode='linear',\n",
    "        dtick=1,\n",
    "        title_standoff=0\n",
    "    ),\n",
    "    plot_bgcolor='white',\n",
    "    barmode='group',\n",
    "    bargap=0.15,\n",
    "    legend_title_text='',\n",
    "    legend=dict(\n",
    "        orientation='h',\n",
    "        yanchor='top',\n",
    "        y=1.13,\n",
    "        xanchor='center',\n",
    "        x=0.35,\n",
    "        traceorder='reversed'\n",
    "    ),\n",
    "    font=dict(\n",
    "        size=15\n",
    "    )\n",
    ")\n",
    "\n",
    "fig.add_annotation(\n",
    "    text=r'$(\\mu^*)$',\n",
    "    x=0.82,  # Adjust x position as needed\n",
    "    y=-0.12,\n",
    "    xref=\"paper\",\n",
    "    yref=\"paper\",\n",
    "    showarrow=False,\n",
    "    # textangle=-90,\n",
    "    font=dict(size=15))\n",
    "\n",
    "fig.show()\n",
    "fig.write_image(\"mmorris_results.svg\", scale=1, engine='kaleido')"
   ]
  },
  {
   "cell_type": "code",
   "execution_count": 279,
   "metadata": {},
   "outputs": [
    {
     "data": {
      "text/html": [
       "<div>\n",
       "<style scoped>\n",
       "    .dataframe tbody tr th:only-of-type {\n",
       "        vertical-align: middle;\n",
       "    }\n",
       "\n",
       "    .dataframe tbody tr th {\n",
       "        vertical-align: top;\n",
       "    }\n",
       "\n",
       "    .dataframe thead th {\n",
       "        text-align: right;\n",
       "    }\n",
       "</style>\n",
       "<table border=\"1\" class=\"dataframe\">\n",
       "  <thead>\n",
       "    <tr style=\"text-align: right;\">\n",
       "      <th></th>\n",
       "      <th>scenario</th>\n",
       "      <th>system_costs</th>\n",
       "      <th>system_emissions</th>\n",
       "    </tr>\n",
       "  </thead>\n",
       "  <tbody>\n",
       "    <tr>\n",
       "      <th>4</th>\n",
       "      <td>Reference</td>\n",
       "      <td>2.240862e+06</td>\n",
       "      <td>9.722464e+05</td>\n",
       "    </tr>\n",
       "    <tr>\n",
       "      <th>6</th>\n",
       "      <td>Reference + ZEV</td>\n",
       "      <td>2.194300e+06</td>\n",
       "      <td>8.463773e+05</td>\n",
       "    </tr>\n",
       "    <tr>\n",
       "      <th>1</th>\n",
       "      <td>Vanilla + Carbon Price</td>\n",
       "      <td>2.092777e+06</td>\n",
       "      <td>7.960546e+05</td>\n",
       "    </tr>\n",
       "    <tr>\n",
       "      <th>2</th>\n",
       "      <td>Vanilla + Market Floor</td>\n",
       "      <td>1.907637e+06</td>\n",
       "      <td>1.070057e+06</td>\n",
       "    </tr>\n",
       "    <tr>\n",
       "      <th>3</th>\n",
       "      <td>Vanilla + Growth Rates</td>\n",
       "      <td>1.878829e+06</td>\n",
       "      <td>9.803634e+05</td>\n",
       "    </tr>\n",
       "    <tr>\n",
       "      <th>5</th>\n",
       "      <td>Vanilla + Hurdle Rates</td>\n",
       "      <td>1.859841e+06</td>\n",
       "      <td>9.325300e+05</td>\n",
       "    </tr>\n",
       "    <tr>\n",
       "      <th>0</th>\n",
       "      <td>Vanilla</td>\n",
       "      <td>1.819080e+06</td>\n",
       "      <td>9.231933e+05</td>\n",
       "    </tr>\n",
       "  </tbody>\n",
       "</table>\n",
       "</div>"
      ],
      "text/plain": [
       "                 scenario  system_costs  system_emissions\n",
       "4               Reference  2.240862e+06      9.722464e+05\n",
       "6         Reference + ZEV  2.194300e+06      8.463773e+05\n",
       "1  Vanilla + Carbon Price  2.092777e+06      7.960546e+05\n",
       "2  Vanilla + Market Floor  1.907637e+06      1.070057e+06\n",
       "3  Vanilla + Growth Rates  1.878829e+06      9.803634e+05\n",
       "5  Vanilla + Hurdle Rates  1.859841e+06      9.325300e+05\n",
       "0                 Vanilla  1.819080e+06      9.231933e+05"
      ]
     },
     "execution_count": 279,
     "metadata": {},
     "output_type": "execute_result"
    }
   ],
   "source": [
    "files = {\n",
    "    \"Vanilla\": \"canoe_trn_vanilla/trn_vanilla.xlsx\",\n",
    "    \"Vanilla + Carbon Price\": \"canoe_trn_vanilla_carbon/trn_vanilla_carbon.xlsx\",\n",
    "    \"Vanilla + Market Floor\": \"canoe_trn_vanilla_floor/trn_vanilla_floor.xlsx\",\n",
    "    \"Vanilla + Growth Rates\": \"canoe_trn_vanilla_grates/trn_vanilla_grates.xlsx\",\n",
    "    \"Reference\": \"canoe_trn_ref/trn_ref.xlsx\",\n",
    "    \"Vanilla + Hurdle Rates\": \"canoe_trn_vanilla_hrates/trn_vanilla_hrates.xlsx\",\n",
    "    \"Reference + ZEV\": \"canoe_trn_zev/trn_zev.xlsx\"\n",
    "}\n",
    "\n",
    "results = []\n",
    "\n",
    "# Extract data from each file again with corrected column handling\n",
    "for scenario, file_path in files.items():\n",
    "    # Load Costs data\n",
    "    costs_df = pd.read_excel(file_path, sheet_name='Costs')\n",
    "    total_system_cost = costs_df['Cost'].sum()\n",
    "\n",
    "    # Load Emissions data\n",
    "    emissions_df = pd.read_excel(file_path, sheet_name='Emissions')\n",
    "    co2e_emissions = emissions_df[emissions_df['Emission Commodity'] == 'co2e']\n",
    "    total_co2e_emissions = co2e_emissions.loc[:, 2021:2050].sum().sum()\n",
    "\n",
    "    # Append the results\n",
    "    results.append({\n",
    "        \"scenario\": scenario,\n",
    "        \"system_costs\": total_system_cost,\n",
    "        \"system_emissions\": total_co2e_emissions\n",
    "    })\n",
    "\n",
    "# Convert results into a DataFrame\n",
    "df_vanilla = pd.DataFrame(results).sort_values(by='system_costs', ascending=False)\n",
    "df_vanilla"
   ]
  },
  {
   "cell_type": "code",
   "execution_count": 280,
   "metadata": {},
   "outputs": [
    {
     "data": {
      "text/html": [
       "<div>\n",
       "<style scoped>\n",
       "    .dataframe tbody tr th:only-of-type {\n",
       "        vertical-align: middle;\n",
       "    }\n",
       "\n",
       "    .dataframe tbody tr th {\n",
       "        vertical-align: top;\n",
       "    }\n",
       "\n",
       "    .dataframe thead th {\n",
       "        text-align: right;\n",
       "    }\n",
       "</style>\n",
       "<table border=\"1\" class=\"dataframe\">\n",
       "  <thead>\n",
       "    <tr style=\"text-align: right;\">\n",
       "      <th></th>\n",
       "      <th>scenario</th>\n",
       "      <th>system_costs</th>\n",
       "      <th>system_emissions</th>\n",
       "    </tr>\n",
       "  </thead>\n",
       "  <tbody>\n",
       "    <tr>\n",
       "      <th>0</th>\n",
       "      <td>Vanilla</td>\n",
       "      <td>1.819080e+06</td>\n",
       "      <td>923193.315913</td>\n",
       "    </tr>\n",
       "  </tbody>\n",
       "</table>\n",
       "</div>"
      ],
      "text/plain": [
       "  scenario  system_costs  system_emissions\n",
       "0  Vanilla  1.819080e+06     923193.315913"
      ]
     },
     "execution_count": 280,
     "metadata": {},
     "output_type": "execute_result"
    }
   ],
   "source": [
    "df_vanilla[df_vanilla['scenario'] == 'Vanilla']"
   ]
  },
  {
   "cell_type": "code",
   "execution_count": 281,
   "metadata": {},
   "outputs": [
    {
     "data": {
      "image/png": "[encoded data removed]",
      "text/plain": [
       "<Figure size 900x600 with 2 Axes>"
      ]
     },
     "metadata": {},
     "output_type": "display_data"
    }
   ],
   "source": [
    "import matplotlib.pyplot as plt\n",
    "\n",
    "# Plotting the results in a horizontal orientation\n",
    "fig, ax1 = plt.subplots(figsize=(9, 6))\n",
    "\n",
    "# Bar width and positions\n",
    "bar_width = 0.4\n",
    "index = range(len(df_vanilla))\n",
    "\n",
    "# Bar plots with a horizontal orientation\n",
    "ax1.barh(index, df_vanilla['system_costs'], bar_width, label='NPV of total system costs ($MM CAD)', color='green')\n",
    "ax2 = ax1.twiny()  # Create a secondary x-axis\n",
    "ax2.barh([i + bar_width for i in index], df_vanilla['system_emissions'], bar_width, label='Total cumulative emissions through 2050 (ktonne CO2e)', color='red')\n",
    "\n",
    "# Labels, titles, and ticks adjustments\n",
    "ax1.set_ylabel('Scenario', fontsize=12)\n",
    "ax1.set_xlabel('$MM CAD', fontsize=12)\n",
    "ax2.set_xlabel('ktonne CO2e', fontsize=12, labelpad=5)\n",
    "ax1.set_title('System responses to implementing explicit constraints on the Vanilla model', pad=65, fontsize=14)\n",
    "ax1.set_yticks([i + bar_width / 2 for i in index])\n",
    "ax1.set_yticklabels(df_vanilla['scenario'], rotation=0, ha='right')\n",
    "\n",
    "# Remove duplicate grid lines by aligning the grids\n",
    "ax1.grid(False)\n",
    "ax2.grid(False)\n",
    "\n",
    "# Adding legends to the plot and adjusting placement to avoid overlap\n",
    "fig.legend(loc='upper center', bbox_to_anchor=(0.55, 0.94), ncol=2, frameon=False, fontsize=11)\n",
    "\n",
    "# Save the figure as an SVG file\n",
    "plt.tight_layout()\n",
    "plt.savefig('constraints.svg', format='svg')\n",
    "\n",
    "# Display the plot\n",
    "plt.show()\n"
   ]
  }
 ],
 "metadata": {
  "kernelspec": {
   "display_name": "main",
   "language": "python",
   "name": "python3"
  },
  "language_info": {
   "codemirror_mode": {
    "name": "ipython",
    "version": 3
   },
   "file_extension": ".py",
   "mimetype": "text/x-python",
   "name": "python",
   "nbconvert_exporter": "python",
   "pygments_lexer": "ipython3",
   "version": "3.12.9"
  }
 },
 "nbformat": 4,
 "nbformat_minor": 2
}
