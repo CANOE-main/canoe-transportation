{
 "cells": [
  {
   "cell_type": "code",
   "execution_count": 1,
   "metadata": {},
   "outputs": [],
   "source": [
    "import pandas as pd\n",
    "import numpy as np\n",
    "import plotly.express as px\n",
    "import plotly.graph_objects as go\n",
    "from plotly.subplots import make_subplots\n",
    "import seaborn as sns\n",
    "import matplotlib.pyplot as plt"
   ]
  },
  {
   "cell_type": "code",
   "execution_count": 2,
   "metadata": {},
   "outputs": [],
   "source": [
    "canoe_results = 'canoe_trn_vanilla3'\n",
    "scenario_name = 'trn_vanilla3'"
   ]
  },
  {
   "cell_type": "markdown",
   "metadata": {},
   "source": [
    "# Import CEF2023 tables\n",
    "https://open.canada.ca/data/en/dataset/7643c948-d661-4d90-ab91-e9ac732fc737"
   ]
  },
  {
   "cell_type": "code",
   "execution_count": 3,
   "metadata": {},
   "outputs": [
    {
     "name": "stderr",
     "output_type": "stream",
     "text": [
      "C:\\Users\\rashi\\AppData\\Local\\Temp\\ipykernel_40796\\1259712670.py:7: FutureWarning: A value is trying to be set on a copy of a DataFrame or Series through chained assignment using an inplace method.\n",
      "The behavior will change in pandas 3.0. This inplace method will never work because the intermediate object on which we are setting values always behaves as a copy.\n",
      "\n",
      "For example, when doing 'df[col].method(value, inplace=True)', try using 'df.method({col: value}, inplace=True)' or df[col] = df[col].method(value) instead, to perform the operation inplace on the original object.\n",
      "\n",
      "\n",
      "  bau23_demand['Carrier'].replace({'Motor Gasoline': 'Gasoline', 'Hydrogen': 'H2'}, inplace=True)\n"
     ]
    }
   ],
   "source": [
    "model_years = [2021, 2025, 2030, 2035, 2040, 2045, 2050]\n",
    "\n",
    "cef23_demand = pd.read_csv('cef2023_data/end-use-demand-2023.csv', index_col=0) #   Energy in PJ\n",
    "bau23_demand = cef23_demand[(cef23_demand['Region'] == 'Ontario') & (cef23_demand['Scenario'] == 'Current Measures') &\n",
    "                            (cef23_demand['Year'].isin(model_years))].sort_values(['Sector', 'Variable', 'Year'])\n",
    "bau23_demand.rename(columns={'Value': 'Demand (PJ)', 'Variable': 'Carrier', 'Year': 'Period'}, inplace=True)\n",
    "bau23_demand['Carrier'].replace({'Motor Gasoline': 'Gasoline', 'Hydrogen': 'H2'}, inplace=True)\n",
    "bau23_demand['Period'] = bau23_demand['Period'].astype(str)\n",
    "\n",
    "cef23_h2 = pd.read_csv('cef2023_data/hydrogen-production-2023.csv', index_col=0)\n",
    "bau23_h2 = cef23_h2[(cef23_h2['Region'] == 'Ontario') & (cef23_h2['Scenario'] == 'Current Measures') &\n",
    "                            (cef23_h2['Year'].isin(model_years))].sort_values(['Variable', 'Year'])\n",
    "bau23_h2.rename(columns={'Value': 'Production (Mt)', 'Variable': 'Pathway', 'Year': 'Period'}, inplace=True)\n",
    "bau23_h2['Period'] = bau23_h2['Period'].astype(str)\n",
    "bau23_h2['Pathway'] = bau23_h2['Pathway'].replace({'Natural gas with CCS': 'SMR w CCS'})\n",
    "\n",
    "cef23_gen = pd.read_csv('cef2023_data/electricity-generation-2023.csv', index_col=0)\n",
    "bau23_gen = cef23_gen[(cef23_gen['Region'] == 'Ontario') & (cef23_gen['Scenario'] == 'Current Measures') &\n",
    "                            (cef23_gen['Year'].isin(model_years))].sort_values(['Variable', 'Year'])\n",
    "bau23_gen.rename(columns={'Value': 'Generation (GWh)', 'Variable': 'Plant Type', 'Year': 'Period'}, inplace=True)\n",
    "bau23_gen['Period'] = bau23_gen['Period'].astype(str)\n",
    "\n",
    "cef23_cap = pd.read_csv('cef2023_data/electricity-capacity-2023.csv')\n",
    "bau23_cap = cef23_cap[(cef23_cap['Region'] == 'Ontario') & (cef23_cap['Scenario'] == 'Current Measures') &\n",
    "                            (cef23_cap['Year'].isin(model_years))].sort_values(['Variable', 'Year'])\n",
    "bau23_cap.rename(columns={'Value': 'Capacity (MW)', 'Variable': 'Plant Type', 'Year': 'Period'}, inplace=True)\n",
    "bau23_cap['Period'] = bau23_cap['Period'].astype(str)"
   ]
  },
  {
   "cell_type": "markdown",
   "metadata": {},
   "source": [
    "# Import gTech-IESD results"
   ]
  },
  {
   "cell_type": "code",
   "execution_count": 4,
   "metadata": {},
   "outputs": [],
   "source": [
    "years = pd.DataFrame({'year': range(2020, 2051)})\n",
    "\n",
    "def import_navius_data(df):\n",
    "    df = df[(df['policy'] == 'legislated') & (df['swb'] == 'ref') & (df['ccs'] == 'ref') & (df['hyd'] == 'ref') & \n",
    "            (df['oil'] == 'ref') & (df['dac'] == 'no')].drop(columns=['region', 'policy', 'swb', 'ccs', 'hyd', 'oil', 'dac', 'lul']).reset_index(drop='index')\n",
    "    labels = list(set(df.columns.to_list()) - set(['year', 'value']))\n",
    "    unique_combinations = df[labels].drop_duplicates()\n",
    "    expanded_df = unique_combinations.assign(key=1).merge(years.assign(key=1), on='key').drop('key', axis=1)\n",
    "    merged_df = expanded_df.merge(df, on=['year'] + labels, how='left')\n",
    "    merged_df = merged_df.sort_values(by=labels + ['year'])\n",
    "    merged_df['value'] = merged_df.groupby(labels, as_index=False)['value'].apply(lambda group: group.interpolate()).reset_index(level=0, drop=True)\n",
    "    interpolated_2021 = merged_df[merged_df['year'] == 2021]\n",
    "    df = pd.concat([df, interpolated_2021]).sort_values(by=['year'] + labels).reset_index(drop=True)\n",
    "    return df[df['year'] != 2020]"
   ]
  },
  {
   "cell_type": "code",
   "execution_count": 5,
   "metadata": {},
   "outputs": [],
   "source": [
    "gtech23_vehshare = pd.read_csv('navius_regional_data_on/total market share of vehicles by type (%).csv', usecols=lambda column: column != 'id')\n",
    "gtech23_ref_vehshare = import_navius_data(gtech23_vehshare)\n",
    "gtech23_ref_vehshare.rename(columns={'year': 'Period', 'value': 'Market Share (%)', 'eu_name': 'Class', 'technology': 'Drivetrain'}, inplace=True)\n",
    "gtech23_ref_vehshare['Class'] = gtech23_ref_vehshare['Class'].replace({'light-duty': 'LDV', 'heavy-duty': 'HDV'})\n",
    "gtech23_ref_vehshare['Drivetrain'] = gtech23_ref_vehshare['Drivetrain'].replace({'fcev': 'FCEV', 'ice': 'ICEV', 'bev': 'BEV'})\n",
    "\n",
    "gtech23_demand = pd.read_csv('navius_regional_data_on/energy consumption by sector (PJ).csv', usecols=lambda column: column != 'id')\n",
    "gtech23_ref_demand = import_navius_data(gtech23_demand)\n",
    "gtech23_ref_demand.rename(columns={'year': 'Period', 'value': 'Demand (PJ)', 'sector': 'Sector'}, inplace=True)\n",
    "\n",
    "gtech23_ghg = pd.read_csv('navius_regional_data_on/emissions by sector (Mt).csv', usecols=lambda column: column != 'id')\n",
    "gtech23_ref_ghg = import_navius_data(gtech23_ghg)\n",
    "gtech23_ref_ghg.rename(columns={'year': 'Period', 'value': 'CO2e (Mt)', 'sector': 'Sector'}, inplace=True)\n",
    "\n",
    "gtech23_gen = pd.read_csv('navius_regional_data_on/electricity generation by source (TWh).csv', usecols=lambda column: column != 'id')\n",
    "gtech23_ref_gen = import_navius_data(gtech23_gen)\n",
    "gtech23_ref_gen.rename(columns={'year': 'Period', 'value': 'Generation (TWh)', 'type': 'Plant Type'}, inplace=True)\n",
    "\n",
    "gtech23_cap = pd.read_csv('navius_regional_data_on/electricity capacity by source (MW).csv', usecols=lambda column: column != 'id')\n",
    "gtech23_ref_cap = import_navius_data(gtech23_cap)\n",
    "gtech23_ref_cap.rename(columns={'year': 'Period', 'value': 'Capacity (MW)', 'type': 'Plant Type'}, inplace=True)\n",
    "gtech23_ref_cap['Plant Type'] = gtech23_ref_cap['Plant Type'].replace({'fcev': 'FCEV', 'ice': 'ICEV', 'bev': 'BEV'})\n",
    "\n",
    "gtech23_h2 = pd.read_csv('navius_regional_data_on/hydrogen production by type (PJ).csv', usecols=lambda column: column != 'id')\n",
    "gtech23_ref_h2 = import_navius_data(gtech23_h2)\n",
    "gtech23_ref_h2.rename(columns={'year': 'Period', 'value': 'Production (PJ)', 'prod_type': 'Pathway'}, inplace=True)\n",
    "gtech23_ref_h2['Pathway'] = gtech23_ref_h2['Pathway'].replace({'electrolysis': 'Electrolysis', 'smr with ccs': 'SMR w CCS'})"
   ]
  },
  {
   "cell_type": "code",
   "execution_count": 6,
   "metadata": {},
   "outputs": [
    {
     "name": "stderr",
     "output_type": "stream",
     "text": [
      "C:\\Users\\rashi\\AppData\\Local\\Temp\\ipykernel_40796\\2137638342.py:1: FutureWarning: A value is trying to be set on a copy of a DataFrame or Series through chained assignment using an inplace method.\n",
      "The behavior will change in pandas 3.0. This inplace method will never work because the intermediate object on which we are setting values always behaves as a copy.\n",
      "\n",
      "For example, when doing 'df[col].method(value, inplace=True)', try using 'df.method({col: value}, inplace=True)' or df[col] = df[col].method(value) instead, to perform the operation inplace on the original object.\n",
      "\n",
      "\n",
      "  gtech23_ref_demand['Sector'].replace({'agriculture & waste': 'Agriculture', 'commercial buildings': 'Commercial', 'residential buildings': 'Residential',\n"
     ]
    }
   ],
   "source": [
    "gtech23_ref_demand['Sector'].replace({'agriculture & waste': 'Agriculture', 'commercial buildings': 'Commercial', 'residential buildings': 'Residential', \n",
    "                                      'industry': 'Industrial', 'oil and gas': 'Oil & Gas', 'direct air capture': 'Industrial', 'Utilities': 'Utilities',\n",
    "                                      'light-duty transport': 'Transportation', 'medium & heavy-duty transport': 'Transportation', 'other transport': 'Transportation'}, inplace=True)\n",
    "gtech23_ref_demand = gtech23_ref_demand.groupby(['Period', 'Sector'], as_index=False).sum()[['Period', 'Sector', 'Demand (PJ)']]"
   ]
  },
  {
   "cell_type": "markdown",
   "metadata": {},
   "source": [
    "# Import Canoe results"
   ]
  },
  {
   "cell_type": "code",
   "execution_count": 7,
   "metadata": {},
   "outputs": [],
   "source": [
    "ref_file = canoe_results + '/' + scenario_name + '.xlsx'\n",
    "\n",
    "ref_trnact = pd.read_excel(ref_file, sheet_name='Activity_Transport').fillna(0)\n",
    "ref_trncap = pd.read_excel(ref_file, sheet_name='Capacity_Transport').fillna(0)\n",
    "ref_trnnewcap = pd.read_excel(ref_file, sheet_name='NewCapacity_Transport').fillna(0)\n",
    "\n",
    "ref_trnact = pd.read_excel(ref_file, sheet_name='Activity_Transport').fillna(0)\n",
    "ref_resact = pd.read_excel(ref_file, sheet_name='Activity_residential').fillna(0)\n",
    "ref_commact = pd.read_excel(ref_file, sheet_name='Activity_commercial').fillna(0)\n",
    "ref_indact = pd.read_excel(ref_file, sheet_name='Activity_industrial').fillna(0)\n",
    "\n",
    "ref_elcact = pd.read_excel(ref_file, sheet_name='Activity_electricity').fillna(0)\n",
    "ref_elccap = pd.read_excel(ref_file, sheet_name='Capacity_electricity').fillna(0)\n",
    "ref_elcnewcap = pd.read_excel(ref_file, sheet_name='NewCapacity_electricity').fillna(0)\n",
    "\n",
    "ref_ghg = pd.read_excel(ref_file, sheet_name='Emissions').fillna(0)\n",
    "ref_costs = pd.read_excel(ref_file, sheet_name='Costs').fillna(0)"
   ]
  },
  {
   "cell_type": "code",
   "execution_count": 8,
   "metadata": {},
   "outputs": [],
   "source": [
    "class_mapping = {\n",
    "    'T_HDV_AJ': 'Air jet',\n",
    "    'T_HDV_B': 'Bus',\n",
    "    'T_HDV_R': 'Rail',\n",
    "    'T_HDV_T': 'HD Truck',\n",
    "    'T_HDV_W': 'Marine vessel',\n",
    "    'T_MDV_T': 'MD Truck',\n",
    "    'T_LDV_C_': 'LD Car',\n",
    "    'T_LDV_LT': 'LD Truck',\n",
    "    'T_LDV_M': 'Motorcycle',\n",
    "    'T_IMP_': 'Fuel use',\n",
    "    'H2_distribution': 'Fuel use'\n",
    "}\n",
    "\n",
    "def map_tech_to_mode(tech):\n",
    "    for prefix, class_name in class_mapping.items():\n",
    "        if tech.startswith(prefix):\n",
    "            return class_name\n",
    "    return 'Other'\n",
    "\n",
    "ref_trnact['Mode'] = ref_trnact['Technology'].apply(map_tech_to_mode)\n",
    "ref_trncap['Mode'] = ref_trncap['Technology'].apply(map_tech_to_mode)\n",
    "ref_trnnewcap['Mode'] = ref_trnnewcap['Technology'].apply(map_tech_to_mode)"
   ]
  },
  {
   "cell_type": "code",
   "execution_count": 9,
   "metadata": {},
   "outputs": [],
   "source": [
    "carrier_mapping = {\n",
    "        'BEV': 'BEV',\n",
    "        'GSL': 'Gasoline',\n",
    "        'DSL': 'Diesel',\n",
    "        'CNG': 'CNG',\n",
    "        'LNG': 'LNG',\n",
    "        'JTF': 'Aviation Fuel',\n",
    "        'SPK': 'Synthetic Kerosene', #  Might change for SAF\n",
    "        'HFO': 'Heavy Fuel Oil',\n",
    "        'MDO': 'Marine Diesel Oil',\n",
    "        'H2': 'H2',\n",
    "        'ELC': 'Electricity'\n",
    "    }\n",
    "\n",
    "def map_tech_to_drivetrain(tech):\n",
    "    # Check hybrids first\n",
    "    if 'PHEV' in tech:\n",
    "        return 'PHEV'\n",
    "    if 'FC' in tech:\n",
    "        return 'FCEV'\n",
    "    if 'HEV' in tech:\n",
    "        return 'HEV'\n",
    "    if 'RDSL' in tech:\n",
    "            return 'Renewable Diesel' #     Might differentiate\n",
    "    if 'ETH' in tech:\n",
    "        return 'Ethanol' #                  Might differentiate\n",
    "    for prefix, carrier in carrier_mapping.items():\n",
    "        if prefix in tech:\n",
    "            return carrier \n",
    "    return 'Other'\n",
    "\n",
    "ref_trnact['Carrier'] = ref_trnact['Technology'].apply(map_tech_to_drivetrain)\n",
    "ref_trncap['Carrier'] = ref_trncap['Technology'].apply(map_tech_to_drivetrain)\n",
    "ref_trnnewcap['Carrier'] = ref_trnnewcap['Technology'].apply(map_tech_to_drivetrain)"
   ]
  },
  {
   "cell_type": "markdown",
   "metadata": {},
   "source": [
    "# Demand graph template"
   ]
  },
  {
   "cell_type": "markdown",
   "metadata": {},
   "source": [
    "## CANOE ref vs CEF 2023 current policies - transport energy demand by carrier"
   ]
  },
  {
   "cell_type": "code",
   "execution_count": 10,
   "metadata": {},
   "outputs": [],
   "source": [
    "def carrier_grouping(carrier):\n",
    "    if carrier == 'CNG':\n",
    "        return 'Natural Gas'\n",
    "    if carrier == 'LNG':\n",
    "        return 'Natural Gas'\n",
    "    if carrier == 'Ethanol':\n",
    "        return 'Biofuels'\n",
    "    if carrier == 'Renewable Diesel':\n",
    "        return 'Biofuels'\n",
    "    if carrier == 'Synthetic Kerosene':\n",
    "        return 'Biofuels'\n",
    "    if carrier == 'Heavy Fuel Oil':\n",
    "        return 'Marine Fuels'\n",
    "    if carrier == 'Marine Diesel Oil':\n",
    "        return 'Marine Fuels'\n",
    "    if carrier == 'LPG':\n",
    "        return 'Other'\n",
    "    if carrier == 'Lubricants':\n",
    "        return 'Other'\n",
    "    else: return carrier"
   ]
  },
  {
   "cell_type": "code",
   "execution_count": 11,
   "metadata": {},
   "outputs": [],
   "source": [
    "ref_trnact.columns = ref_trnact.columns.astype(str)\n",
    "periods = [col for col in ref_trnact.columns if col.isdigit()]\n",
    "params = [col for col in ref_trnact.columns if not col.isdigit()]\n",
    "ref_trnact = pd.melt(ref_trnact, id_vars=params, var_name='Period', value_name='Demand (PJ)', value_vars=periods)"
   ]
  },
  {
   "cell_type": "code",
   "execution_count": 12,
   "metadata": {},
   "outputs": [
    {
     "data": {
      "application/vnd.plotly.v1+json": {
       "config": {
        "plotlyServerURL": "https://plot.ly"
       },
       "data": [
        {
         "alignmentgroup": "True",
         "hovertemplate": "Carrier=Gasoline<br>Period=2021<br>Source=%{x}<br>Demand (PJ)=%{y}<extra></extra>",
         "legendgroup": "Gasoline",
         "marker": {
          "color": "#3366CC",
          "pattern": {
           "shape": ""
          }
         },
         "name": "Gasoline",
         "offsetgroup": "Gasoline",
         "orientation": "v",
         "showlegend": true,
         "textfont": {
          "size": 9
         },
         "textposition": "auto",
         "texttemplate": "%{y:.1f}",
         "type": "bar",
         "x": [
          "CANOE",
          "CEF2023"
         ],
         "xaxis": "x",
         "y": [
          412.0541760319248,
          438.127
         ],
         "yaxis": "y"
        },
        {
         "alignmentgroup": "True",
         "hovertemplate": "Carrier=Gasoline<br>Period=2025<br>Source=%{x}<br>Demand (PJ)=%{y}<extra></extra>",
         "legendgroup": "Gasoline",
         "marker": {
          "color": "#3366CC",
          "pattern": {
           "shape": ""
          }
         },
         "name": "Gasoline",
         "offsetgroup": "Gasoline",
         "orientation": "v",
         "showlegend": false,
         "textfont": {
          "size": 9
         },
         "textposition": "auto",
         "texttemplate": "%{y:.1f}",
         "type": "bar",
         "x": [
          "CANOE",
          "CEF2023"
         ],
         "xaxis": "x2",
         "y": [
          428.3137322928611,
          459.5522
         ],
         "yaxis": "y2"
        },
        {
         "alignmentgroup": "True",
         "hovertemplate": "Carrier=Gasoline<br>Period=2030<br>Source=%{x}<br>Demand (PJ)=%{y}<extra></extra>",
         "legendgroup": "Gasoline",
         "marker": {
          "color": "#3366CC",
          "pattern": {
           "shape": ""
          }
         },
         "name": "Gasoline",
         "offsetgroup": "Gasoline",
         "orientation": "v",
         "showlegend": false,
         "textfont": {
          "size": 9
         },
         "textposition": "auto",
         "texttemplate": "%{y:.1f}",
         "type": "bar",
         "x": [
          "CANOE",
          "CEF2023"
         ],
         "xaxis": "x3",
         "y": [
          245.5595945940642,
          439.8523
         ],
         "yaxis": "y3"
        },
        {
         "alignmentgroup": "True",
         "hovertemplate": "Carrier=Gasoline<br>Period=2035<br>Source=%{x}<br>Demand (PJ)=%{y}<extra></extra>",
         "legendgroup": "Gasoline",
         "marker": {
          "color": "#3366CC",
          "pattern": {
           "shape": ""
          }
         },
         "name": "Gasoline",
         "offsetgroup": "Gasoline",
         "orientation": "v",
         "showlegend": false,
         "textfont": {
          "size": 9
         },
         "textposition": "auto",
         "texttemplate": "%{y:.1f}",
         "type": "bar",
         "x": [
          "CANOE",
          "CEF2023"
         ],
         "xaxis": "x4",
         "y": [
          38.28997881186636,
          404.2377
         ],
         "yaxis": "y4"
        },
        {
         "alignmentgroup": "True",
         "hovertemplate": "Carrier=Gasoline<br>Period=2040<br>Source=%{x}<br>Demand (PJ)=%{y}<extra></extra>",
         "legendgroup": "Gasoline",
         "marker": {
          "color": "#3366CC",
          "pattern": {
           "shape": ""
          }
         },
         "name": "Gasoline",
         "offsetgroup": "Gasoline",
         "orientation": "v",
         "showlegend": false,
         "textfont": {
          "size": 9
         },
         "textposition": "auto",
         "texttemplate": "%{y:.1f}",
         "type": "bar",
         "x": [
          "CANOE",
          "CEF2023"
         ],
         "xaxis": "x5",
         "y": [
          1.314382096455231,
          364.9183
         ],
         "yaxis": "y5"
        },
        {
         "alignmentgroup": "True",
         "hovertemplate": "Carrier=Gasoline<br>Period=2045<br>Source=%{x}<br>Demand (PJ)=%{y}<extra></extra>",
         "legendgroup": "Gasoline",
         "marker": {
          "color": "#3366CC",
          "pattern": {
           "shape": ""
          }
         },
         "name": "Gasoline",
         "offsetgroup": "Gasoline",
         "orientation": "v",
         "showlegend": false,
         "textfont": {
          "size": 9
         },
         "textposition": "auto",
         "texttemplate": "%{y:.1f}",
         "type": "bar",
         "x": [
          "CANOE",
          "CEF2023"
         ],
         "xaxis": "x6",
         "y": [
          0.8902198063740768,
          332.7972
         ],
         "yaxis": "y6"
        },
        {
         "alignmentgroup": "True",
         "hovertemplate": "Carrier=Gasoline<br>Period=2050<br>Source=%{x}<br>Demand (PJ)=%{y}<extra></extra>",
         "legendgroup": "Gasoline",
         "marker": {
          "color": "#3366CC",
          "pattern": {
           "shape": ""
          }
         },
         "name": "Gasoline",
         "offsetgroup": "Gasoline",
         "orientation": "v",
         "showlegend": false,
         "textfont": {
          "size": 9
         },
         "textposition": "auto",
         "texttemplate": "%{y:.1f}",
         "type": "bar",
         "x": [
          "CANOE",
          "CEF2023"
         ],
         "xaxis": "x7",
         "y": [
          1.070880448111661,
          314.2554
         ],
         "yaxis": "y7"
        },
        {
         "alignmentgroup": "True",
         "hovertemplate": "Carrier=Diesel<br>Period=2021<br>Source=%{x}<br>Demand (PJ)=%{y}<extra></extra>",
         "legendgroup": "Diesel",
         "marker": {
          "color": "#DC3912",
          "pattern": {
           "shape": ""
          }
         },
         "name": "Diesel",
         "offsetgroup": "Diesel",
         "orientation": "v",
         "showlegend": true,
         "textfont": {
          "size": 9
         },
         "textposition": "auto",
         "texttemplate": "%{y:.1f}",
         "type": "bar",
         "x": [
          "CANOE",
          "CEF2023"
         ],
         "xaxis": "x",
         "y": [
          246.6001402298975,
          207.0607
         ],
         "yaxis": "y"
        },
        {
         "alignmentgroup": "True",
         "hovertemplate": "Carrier=Diesel<br>Period=2025<br>Source=%{x}<br>Demand (PJ)=%{y}<extra></extra>",
         "legendgroup": "Diesel",
         "marker": {
          "color": "#DC3912",
          "pattern": {
           "shape": ""
          }
         },
         "name": "Diesel",
         "offsetgroup": "Diesel",
         "orientation": "v",
         "showlegend": false,
         "textfont": {
          "size": 9
         },
         "textposition": "auto",
         "texttemplate": "%{y:.1f}",
         "type": "bar",
         "x": [
          "CANOE",
          "CEF2023"
         ],
         "xaxis": "x2",
         "y": [
          254.7205816948256,
          224.1973
         ],
         "yaxis": "y2"
        },
        {
         "alignmentgroup": "True",
         "hovertemplate": "Carrier=Diesel<br>Period=2030<br>Source=%{x}<br>Demand (PJ)=%{y}<extra></extra>",
         "legendgroup": "Diesel",
         "marker": {
          "color": "#DC3912",
          "pattern": {
           "shape": ""
          }
         },
         "name": "Diesel",
         "offsetgroup": "Diesel",
         "orientation": "v",
         "showlegend": false,
         "textfont": {
          "size": 9
         },
         "textposition": "auto",
         "texttemplate": "%{y:.1f}",
         "type": "bar",
         "x": [
          "CANOE",
          "CEF2023"
         ],
         "xaxis": "x3",
         "y": [
          230.9316508579029,
          235.6683
         ],
         "yaxis": "y3"
        },
        {
         "alignmentgroup": "True",
         "hovertemplate": "Carrier=Diesel<br>Period=2035<br>Source=%{x}<br>Demand (PJ)=%{y}<extra></extra>",
         "legendgroup": "Diesel",
         "marker": {
          "color": "#DC3912",
          "pattern": {
           "shape": ""
          }
         },
         "name": "Diesel",
         "offsetgroup": "Diesel",
         "orientation": "v",
         "showlegend": false,
         "textfont": {
          "size": 9
         },
         "textposition": "auto",
         "texttemplate": "%{y:.1f}",
         "type": "bar",
         "x": [
          "CANOE",
          "CEF2023"
         ],
         "xaxis": "x4",
         "y": [
          178.0004848157183,
          241.1286
         ],
         "yaxis": "y4"
        },
        {
         "alignmentgroup": "True",
         "hovertemplate": "Carrier=Diesel<br>Period=2040<br>Source=%{x}<br>Demand (PJ)=%{y}<extra></extra>",
         "legendgroup": "Diesel",
         "marker": {
          "color": "#DC3912",
          "pattern": {
           "shape": ""
          }
         },
         "name": "Diesel",
         "offsetgroup": "Diesel",
         "orientation": "v",
         "showlegend": false,
         "textfont": {
          "size": 9
         },
         "textposition": "auto",
         "texttemplate": "%{y:.1f}",
         "type": "bar",
         "x": [
          "CANOE",
          "CEF2023"
         ],
         "xaxis": "x5",
         "y": [
          112.5549880577149,
          251.0106
         ],
         "yaxis": "y5"
        },
        {
         "alignmentgroup": "True",
         "hovertemplate": "Carrier=Diesel<br>Period=2045<br>Source=%{x}<br>Demand (PJ)=%{y}<extra></extra>",
         "legendgroup": "Diesel",
         "marker": {
          "color": "#DC3912",
          "pattern": {
           "shape": ""
          }
         },
         "name": "Diesel",
         "offsetgroup": "Diesel",
         "orientation": "v",
         "showlegend": false,
         "textfont": {
          "size": 9
         },
         "textposition": "auto",
         "texttemplate": "%{y:.1f}",
         "type": "bar",
         "x": [
          "CANOE",
          "CEF2023"
         ],
         "xaxis": "x6",
         "y": [
          113.9227883926774,
          263.7726
         ],
         "yaxis": "y6"
        },
        {
         "alignmentgroup": "True",
         "hovertemplate": "Carrier=Diesel<br>Period=2050<br>Source=%{x}<br>Demand (PJ)=%{y}<extra></extra>",
         "legendgroup": "Diesel",
         "marker": {
          "color": "#DC3912",
          "pattern": {
           "shape": ""
          }
         },
         "name": "Diesel",
         "offsetgroup": "Diesel",
         "orientation": "v",
         "showlegend": false,
         "textfont": {
          "size": 9
         },
         "textposition": "auto",
         "texttemplate": "%{y:.1f}",
         "type": "bar",
         "x": [
          "CANOE",
          "CEF2023"
         ],
         "xaxis": "x7",
         "y": [
          117.4156994444539,
          282.0967
         ],
         "yaxis": "y7"
        },
        {
         "alignmentgroup": "True",
         "hovertemplate": "Carrier=Biofuels<br>Period=2021<br>Source=%{x}<br>Demand (PJ)=%{y}<extra></extra>",
         "legendgroup": "Biofuels",
         "marker": {
          "color": "#FF9900",
          "pattern": {
           "shape": ""
          }
         },
         "name": "Biofuels",
         "offsetgroup": "Biofuels",
         "orientation": "v",
         "showlegend": true,
         "textfont": {
          "size": 9
         },
         "textposition": "auto",
         "texttemplate": "%{y:.1f}",
         "type": "bar",
         "x": [
          "CANOE",
          "CEF2023"
         ],
         "xaxis": "x",
         "y": [
          56.05880317979293,
          54.6721
         ],
         "yaxis": "y"
        },
        {
         "alignmentgroup": "True",
         "hovertemplate": "Carrier=Biofuels<br>Period=2025<br>Source=%{x}<br>Demand (PJ)=%{y}<extra></extra>",
         "legendgroup": "Biofuels",
         "marker": {
          "color": "#FF9900",
          "pattern": {
           "shape": ""
          }
         },
         "name": "Biofuels",
         "offsetgroup": "Biofuels",
         "orientation": "v",
         "showlegend": false,
         "textfont": {
          "size": 9
         },
         "textposition": "auto",
         "texttemplate": "%{y:.1f}",
         "type": "bar",
         "x": [
          "CANOE",
          "CEF2023"
         ],
         "xaxis": "x2",
         "y": [
          63.55100987647695,
          66.1605
         ],
         "yaxis": "y2"
        },
        {
         "alignmentgroup": "True",
         "hovertemplate": "Carrier=Biofuels<br>Period=2030<br>Source=%{x}<br>Demand (PJ)=%{y}<extra></extra>",
         "legendgroup": "Biofuels",
         "marker": {
          "color": "#FF9900",
          "pattern": {
           "shape": ""
          }
         },
         "name": "Biofuels",
         "offsetgroup": "Biofuels",
         "orientation": "v",
         "showlegend": false,
         "textfont": {
          "size": 9
         },
         "textposition": "auto",
         "texttemplate": "%{y:.1f}",
         "type": "bar",
         "x": [
          "CANOE",
          "CEF2023"
         ],
         "xaxis": "x3",
         "y": [
          52.95619822391415,
          67.8602
         ],
         "yaxis": "y3"
        },
        {
         "alignmentgroup": "True",
         "hovertemplate": "Carrier=Biofuels<br>Period=2035<br>Source=%{x}<br>Demand (PJ)=%{y}<extra></extra>",
         "legendgroup": "Biofuels",
         "marker": {
          "color": "#FF9900",
          "pattern": {
           "shape": ""
          }
         },
         "name": "Biofuels",
         "offsetgroup": "Biofuels",
         "orientation": "v",
         "showlegend": false,
         "textfont": {
          "size": 9
         },
         "textposition": "auto",
         "texttemplate": "%{y:.1f}",
         "type": "bar",
         "x": [
          "CANOE",
          "CEF2023"
         ],
         "xaxis": "x4",
         "y": [
          14.173741951768601,
          72.0742
         ],
         "yaxis": "y4"
        },
        {
         "alignmentgroup": "True",
         "hovertemplate": "Carrier=Biofuels<br>Period=2040<br>Source=%{x}<br>Demand (PJ)=%{y}<extra></extra>",
         "legendgroup": "Biofuels",
         "marker": {
          "color": "#FF9900",
          "pattern": {
           "shape": ""
          }
         },
         "name": "Biofuels",
         "offsetgroup": "Biofuels",
         "orientation": "v",
         "showlegend": false,
         "textfont": {
          "size": 9
         },
         "textposition": "auto",
         "texttemplate": "%{y:.1f}",
         "type": "bar",
         "x": [
          "CANOE",
          "CEF2023"
         ],
         "xaxis": "x5",
         "y": [
          4.921740950798848,
          70.0468
         ],
         "yaxis": "y5"
        },
        {
         "alignmentgroup": "True",
         "hovertemplate": "Carrier=Biofuels<br>Period=2045<br>Source=%{x}<br>Demand (PJ)=%{y}<extra></extra>",
         "legendgroup": "Biofuels",
         "marker": {
          "color": "#FF9900",
          "pattern": {
           "shape": ""
          }
         },
         "name": "Biofuels",
         "offsetgroup": "Biofuels",
         "orientation": "v",
         "showlegend": false,
         "textfont": {
          "size": 9
         },
         "textposition": "auto",
         "texttemplate": "%{y:.1f}",
         "type": "bar",
         "x": [
          "CANOE",
          "CEF2023"
         ],
         "xaxis": "x6",
         "y": [
          4.903880462584432,
          68.8381
         ],
         "yaxis": "y6"
        },
        {
         "alignmentgroup": "True",
         "hovertemplate": "Carrier=Biofuels<br>Period=2050<br>Source=%{x}<br>Demand (PJ)=%{y}<extra></extra>",
         "legendgroup": "Biofuels",
         "marker": {
          "color": "#FF9900",
          "pattern": {
           "shape": ""
          }
         },
         "name": "Biofuels",
         "offsetgroup": "Biofuels",
         "orientation": "v",
         "showlegend": false,
         "textfont": {
          "size": 9
         },
         "textposition": "auto",
         "texttemplate": "%{y:.1f}",
         "type": "bar",
         "x": [
          "CANOE",
          "CEF2023"
         ],
         "xaxis": "x7",
         "y": [
          5.081299712793518,
          69.208
         ],
         "yaxis": "y7"
        },
        {
         "alignmentgroup": "True",
         "hovertemplate": "Carrier=Electricity<br>Period=2021<br>Source=%{x}<br>Demand (PJ)=%{y}<extra></extra>",
         "legendgroup": "Electricity",
         "marker": {
          "color": "#109618",
          "pattern": {
           "shape": ""
          }
         },
         "name": "Electricity",
         "offsetgroup": "Electricity",
         "orientation": "v",
         "showlegend": true,
         "textfont": {
          "size": 9
         },
         "textposition": "auto",
         "texttemplate": "%{y:.1f}",
         "type": "bar",
         "x": [
          "CANOE",
          "CEF2023"
         ],
         "xaxis": "x",
         "y": [
          5.964871626027191,
          1.2878
         ],
         "yaxis": "y"
        },
        {
         "alignmentgroup": "True",
         "hovertemplate": "Carrier=Electricity<br>Period=2025<br>Source=%{x}<br>Demand (PJ)=%{y}<extra></extra>",
         "legendgroup": "Electricity",
         "marker": {
          "color": "#109618",
          "pattern": {
           "shape": ""
          }
         },
         "name": "Electricity",
         "offsetgroup": "Electricity",
         "orientation": "v",
         "showlegend": false,
         "textfont": {
          "size": 9
         },
         "textposition": "auto",
         "texttemplate": "%{y:.1f}",
         "type": "bar",
         "x": [
          "CANOE",
          "CEF2023"
         ],
         "xaxis": "x2",
         "y": [
          53.56922051116531,
          4.4457
         ],
         "yaxis": "y2"
        },
        {
         "alignmentgroup": "True",
         "hovertemplate": "Carrier=Electricity<br>Period=2030<br>Source=%{x}<br>Demand (PJ)=%{y}<extra></extra>",
         "legendgroup": "Electricity",
         "marker": {
          "color": "#109618",
          "pattern": {
           "shape": ""
          }
         },
         "name": "Electricity",
         "offsetgroup": "Electricity",
         "orientation": "v",
         "showlegend": false,
         "textfont": {
          "size": 9
         },
         "textposition": "auto",
         "texttemplate": "%{y:.1f}",
         "type": "bar",
         "x": [
          "CANOE",
          "CEF2023"
         ],
         "xaxis": "x3",
         "y": [
          102.3537223714069,
          13.2973
         ],
         "yaxis": "y3"
        },
        {
         "alignmentgroup": "True",
         "hovertemplate": "Carrier=Electricity<br>Period=2035<br>Source=%{x}<br>Demand (PJ)=%{y}<extra></extra>",
         "legendgroup": "Electricity",
         "marker": {
          "color": "#109618",
          "pattern": {
           "shape": ""
          }
         },
         "name": "Electricity",
         "offsetgroup": "Electricity",
         "orientation": "v",
         "showlegend": false,
         "textfont": {
          "size": 9
         },
         "textposition": "auto",
         "texttemplate": "%{y:.1f}",
         "type": "bar",
         "x": [
          "CANOE",
          "CEF2023"
         ],
         "xaxis": "x4",
         "y": [
          159.5265057954969,
          27.0058
         ],
         "yaxis": "y4"
        },
        {
         "alignmentgroup": "True",
         "hovertemplate": "Carrier=Electricity<br>Period=2040<br>Source=%{x}<br>Demand (PJ)=%{y}<extra></extra>",
         "legendgroup": "Electricity",
         "marker": {
          "color": "#109618",
          "pattern": {
           "shape": ""
          }
         },
         "name": "Electricity",
         "offsetgroup": "Electricity",
         "orientation": "v",
         "showlegend": false,
         "textfont": {
          "size": 9
         },
         "textposition": "auto",
         "texttemplate": "%{y:.1f}",
         "type": "bar",
         "x": [
          "CANOE",
          "CEF2023"
         ],
         "xaxis": "x5",
         "y": [
          175.2889235817311,
          46.0383
         ],
         "yaxis": "y5"
        },
        {
         "alignmentgroup": "True",
         "hovertemplate": "Carrier=Electricity<br>Period=2045<br>Source=%{x}<br>Demand (PJ)=%{y}<extra></extra>",
         "legendgroup": "Electricity",
         "marker": {
          "color": "#109618",
          "pattern": {
           "shape": ""
          }
         },
         "name": "Electricity",
         "offsetgroup": "Electricity",
         "orientation": "v",
         "showlegend": false,
         "textfont": {
          "size": 9
         },
         "textposition": "auto",
         "texttemplate": "%{y:.1f}",
         "type": "bar",
         "x": [
          "CANOE",
          "CEF2023"
         ],
         "xaxis": "x6",
         "y": [
          181.463611845109,
          62.5818
         ],
         "yaxis": "y6"
        },
        {
         "alignmentgroup": "True",
         "hovertemplate": "Carrier=Electricity<br>Period=2050<br>Source=%{x}<br>Demand (PJ)=%{y}<extra></extra>",
         "legendgroup": "Electricity",
         "marker": {
          "color": "#109618",
          "pattern": {
           "shape": ""
          }
         },
         "name": "Electricity",
         "offsetgroup": "Electricity",
         "orientation": "v",
         "showlegend": false,
         "textfont": {
          "size": 9
         },
         "textposition": "auto",
         "texttemplate": "%{y:.1f}",
         "type": "bar",
         "x": [
          "CANOE",
          "CEF2023"
         ],
         "xaxis": "x7",
         "y": [
          189.2066758309684,
          74.5335
         ],
         "yaxis": "y7"
        },
        {
         "alignmentgroup": "True",
         "hovertemplate": "Carrier=H2<br>Period=2021<br>Source=%{x}<br>Demand (PJ)=%{y}<extra></extra>",
         "legendgroup": "H2",
         "marker": {
          "color": "#990099",
          "pattern": {
           "shape": ""
          }
         },
         "name": "H2",
         "offsetgroup": "H2",
         "orientation": "v",
         "showlegend": true,
         "textfont": {
          "size": 9
         },
         "textposition": "auto",
         "texttemplate": "%{y:.1f}",
         "type": "bar",
         "x": [
          "CANOE",
          "CEF2023"
         ],
         "xaxis": "x",
         "y": [
          4.512800662864276,
          0.0001
         ],
         "yaxis": "y"
        },
        {
         "alignmentgroup": "True",
         "hovertemplate": "Carrier=H2<br>Period=2025<br>Source=%{x}<br>Demand (PJ)=%{y}<extra></extra>",
         "legendgroup": "H2",
         "marker": {
          "color": "#990099",
          "pattern": {
           "shape": ""
          }
         },
         "name": "H2",
         "offsetgroup": "H2",
         "orientation": "v",
         "showlegend": false,
         "textfont": {
          "size": 9
         },
         "textposition": "auto",
         "texttemplate": "%{y:.1f}",
         "type": "bar",
         "x": [
          "CANOE",
          "CEF2023"
         ],
         "xaxis": "x2",
         "y": [
          16.36767653371781,
          0.0001
         ],
         "yaxis": "y2"
        },
        {
         "alignmentgroup": "True",
         "hovertemplate": "Carrier=H2<br>Period=2030<br>Source=%{x}<br>Demand (PJ)=%{y}<extra></extra>",
         "legendgroup": "H2",
         "marker": {
          "color": "#990099",
          "pattern": {
           "shape": ""
          }
         },
         "name": "H2",
         "offsetgroup": "H2",
         "orientation": "v",
         "showlegend": false,
         "textfont": {
          "size": 9
         },
         "textposition": "auto",
         "texttemplate": "%{y:.1f}",
         "type": "bar",
         "x": [
          "CANOE",
          "CEF2023"
         ],
         "xaxis": "x3",
         "y": [
          44.299604066946,
          0.0001
         ],
         "yaxis": "y3"
        },
        {
         "alignmentgroup": "True",
         "hovertemplate": "Carrier=H2<br>Period=2035<br>Source=%{x}<br>Demand (PJ)=%{y}<extra></extra>",
         "legendgroup": "H2",
         "marker": {
          "color": "#990099",
          "pattern": {
           "shape": ""
          }
         },
         "name": "H2",
         "offsetgroup": "H2",
         "orientation": "v",
         "showlegend": false,
         "textfont": {
          "size": 9
         },
         "textposition": "auto",
         "texttemplate": "%{y:.1f}",
         "type": "bar",
         "x": [
          "CANOE",
          "CEF2023"
         ],
         "xaxis": "x4",
         "y": [
          81.06291302577664,
          0.0001
         ],
         "yaxis": "y4"
        },
        {
         "alignmentgroup": "True",
         "hovertemplate": "Carrier=H2<br>Period=2040<br>Source=%{x}<br>Demand (PJ)=%{y}<extra></extra>",
         "legendgroup": "H2",
         "marker": {
          "color": "#990099",
          "pattern": {
           "shape": ""
          }
         },
         "name": "H2",
         "offsetgroup": "H2",
         "orientation": "v",
         "showlegend": false,
         "textfont": {
          "size": 9
         },
         "textposition": "auto",
         "texttemplate": "%{y:.1f}",
         "type": "bar",
         "x": [
          "CANOE",
          "CEF2023"
         ],
         "xaxis": "x5",
         "y": [
          130.622362869673,
          0.0001
         ],
         "yaxis": "y5"
        },
        {
         "alignmentgroup": "True",
         "hovertemplate": "Carrier=H2<br>Period=2045<br>Source=%{x}<br>Demand (PJ)=%{y}<extra></extra>",
         "legendgroup": "H2",
         "marker": {
          "color": "#990099",
          "pattern": {
           "shape": ""
          }
         },
         "name": "H2",
         "offsetgroup": "H2",
         "orientation": "v",
         "showlegend": false,
         "textfont": {
          "size": 9
         },
         "textposition": "auto",
         "texttemplate": "%{y:.1f}",
         "type": "bar",
         "x": [
          "CANOE",
          "CEF2023"
         ],
         "xaxis": "x6",
         "y": [
          138.6149337376181,
          0.0001
         ],
         "yaxis": "y6"
        },
        {
         "alignmentgroup": "True",
         "hovertemplate": "Carrier=H2<br>Period=2050<br>Source=%{x}<br>Demand (PJ)=%{y}<extra></extra>",
         "legendgroup": "H2",
         "marker": {
          "color": "#990099",
          "pattern": {
           "shape": ""
          }
         },
         "name": "H2",
         "offsetgroup": "H2",
         "orientation": "v",
         "showlegend": false,
         "textfont": {
          "size": 9
         },
         "textposition": "auto",
         "texttemplate": "%{y:.1f}",
         "type": "bar",
         "x": [
          "CANOE",
          "CEF2023"
         ],
         "xaxis": "x7",
         "y": [
          140.9278700799586,
          0.0001
         ],
         "yaxis": "y7"
        },
        {
         "alignmentgroup": "True",
         "hovertemplate": "Carrier=Natural Gas<br>Period=2021<br>Source=%{x}<br>Demand (PJ)=%{y}<extra></extra>",
         "legendgroup": "Natural Gas",
         "marker": {
          "color": "#0099C6",
          "pattern": {
           "shape": ""
          }
         },
         "name": "Natural Gas",
         "offsetgroup": "Natural Gas",
         "orientation": "v",
         "showlegend": true,
         "textfont": {
          "size": 9
         },
         "textposition": "auto",
         "texttemplate": "%{y:.1f}",
         "type": "bar",
         "x": [
          "CANOE",
          "CEF2023"
         ],
         "xaxis": "x",
         "y": [
          0.2086809562119261,
          0.6612
         ],
         "yaxis": "y"
        },
        {
         "alignmentgroup": "True",
         "hovertemplate": "Carrier=Natural Gas<br>Period=2025<br>Source=%{x}<br>Demand (PJ)=%{y}<extra></extra>",
         "legendgroup": "Natural Gas",
         "marker": {
          "color": "#0099C6",
          "pattern": {
           "shape": ""
          }
         },
         "name": "Natural Gas",
         "offsetgroup": "Natural Gas",
         "orientation": "v",
         "showlegend": false,
         "textfont": {
          "size": 9
         },
         "textposition": "auto",
         "texttemplate": "%{y:.1f}",
         "type": "bar",
         "x": [
          "CANOE",
          "CEF2023"
         ],
         "xaxis": "x2",
         "y": [
          1.191872852358864,
          0.7773
         ],
         "yaxis": "y2"
        },
        {
         "alignmentgroup": "True",
         "hovertemplate": "Carrier=Natural Gas<br>Period=2030<br>Source=%{x}<br>Demand (PJ)=%{y}<extra></extra>",
         "legendgroup": "Natural Gas",
         "marker": {
          "color": "#0099C6",
          "pattern": {
           "shape": ""
          }
         },
         "name": "Natural Gas",
         "offsetgroup": "Natural Gas",
         "orientation": "v",
         "showlegend": false,
         "textfont": {
          "size": 9
         },
         "textposition": "auto",
         "texttemplate": "%{y:.1f}",
         "type": "bar",
         "x": [
          "CANOE",
          "CEF2023"
         ],
         "xaxis": "x3",
         "y": [
          1.9995686649834123,
          0.8382
         ],
         "yaxis": "y3"
        },
        {
         "alignmentgroup": "True",
         "hovertemplate": "Carrier=Natural Gas<br>Period=2035<br>Source=%{x}<br>Demand (PJ)=%{y}<extra></extra>",
         "legendgroup": "Natural Gas",
         "marker": {
          "color": "#0099C6",
          "pattern": {
           "shape": ""
          }
         },
         "name": "Natural Gas",
         "offsetgroup": "Natural Gas",
         "orientation": "v",
         "showlegend": false,
         "textfont": {
          "size": 9
         },
         "textposition": "auto",
         "texttemplate": "%{y:.1f}",
         "type": "bar",
         "x": [
          "CANOE",
          "CEF2023"
         ],
         "xaxis": "x4",
         "y": [
          3.896992923430101,
          0.8741
         ],
         "yaxis": "y4"
        },
        {
         "alignmentgroup": "True",
         "hovertemplate": "Carrier=Natural Gas<br>Period=2040<br>Source=%{x}<br>Demand (PJ)=%{y}<extra></extra>",
         "legendgroup": "Natural Gas",
         "marker": {
          "color": "#0099C6",
          "pattern": {
           "shape": ""
          }
         },
         "name": "Natural Gas",
         "offsetgroup": "Natural Gas",
         "orientation": "v",
         "showlegend": false,
         "textfont": {
          "size": 9
         },
         "textposition": "auto",
         "texttemplate": "%{y:.1f}",
         "type": "bar",
         "x": [
          "CANOE",
          "CEF2023"
         ],
         "xaxis": "x5",
         "y": [
          5.650565126279167,
          0.8821
         ],
         "yaxis": "y5"
        },
        {
         "alignmentgroup": "True",
         "hovertemplate": "Carrier=Natural Gas<br>Period=2045<br>Source=%{x}<br>Demand (PJ)=%{y}<extra></extra>",
         "legendgroup": "Natural Gas",
         "marker": {
          "color": "#0099C6",
          "pattern": {
           "shape": ""
          }
         },
         "name": "Natural Gas",
         "offsetgroup": "Natural Gas",
         "orientation": "v",
         "showlegend": false,
         "textfont": {
          "size": 9
         },
         "textposition": "auto",
         "texttemplate": "%{y:.1f}",
         "type": "bar",
         "x": [
          "CANOE",
          "CEF2023"
         ],
         "xaxis": "x6",
         "y": [
          8.833868007509205,
          0.883
         ],
         "yaxis": "y6"
        },
        {
         "alignmentgroup": "True",
         "hovertemplate": "Carrier=Natural Gas<br>Period=2050<br>Source=%{x}<br>Demand (PJ)=%{y}<extra></extra>",
         "legendgroup": "Natural Gas",
         "marker": {
          "color": "#0099C6",
          "pattern": {
           "shape": ""
          }
         },
         "name": "Natural Gas",
         "offsetgroup": "Natural Gas",
         "orientation": "v",
         "showlegend": false,
         "textfont": {
          "size": 9
         },
         "textposition": "auto",
         "texttemplate": "%{y:.1f}",
         "type": "bar",
         "x": [
          "CANOE",
          "CEF2023"
         ],
         "xaxis": "x7",
         "y": [
          10.77042550335983,
          0.8844
         ],
         "yaxis": "y7"
        },
        {
         "alignmentgroup": "True",
         "hovertemplate": "Carrier=Aviation Fuel<br>Period=2021<br>Source=%{x}<br>Demand (PJ)=%{y}<extra></extra>",
         "legendgroup": "Aviation Fuel",
         "marker": {
          "color": "#DD4477",
          "pattern": {
           "shape": ""
          }
         },
         "name": "Aviation Fuel",
         "offsetgroup": "Aviation Fuel",
         "orientation": "v",
         "showlegend": true,
         "textfont": {
          "size": 9
         },
         "textposition": "auto",
         "texttemplate": "%{y:.1f}",
         "type": "bar",
         "x": [
          "CANOE",
          "CEF2023"
         ],
         "xaxis": "x",
         "y": [
          60.45826825739686,
          49.6219
         ],
         "yaxis": "y"
        },
        {
         "alignmentgroup": "True",
         "hovertemplate": "Carrier=Aviation Fuel<br>Period=2025<br>Source=%{x}<br>Demand (PJ)=%{y}<extra></extra>",
         "legendgroup": "Aviation Fuel",
         "marker": {
          "color": "#DD4477",
          "pattern": {
           "shape": ""
          }
         },
         "name": "Aviation Fuel",
         "offsetgroup": "Aviation Fuel",
         "orientation": "v",
         "showlegend": false,
         "textfont": {
          "size": 9
         },
         "textposition": "auto",
         "texttemplate": "%{y:.1f}",
         "type": "bar",
         "x": [
          "CANOE",
          "CEF2023"
         ],
         "xaxis": "x2",
         "y": [
          120.0805878412193,
          106.7396
         ],
         "yaxis": "y2"
        },
        {
         "alignmentgroup": "True",
         "hovertemplate": "Carrier=Aviation Fuel<br>Period=2030<br>Source=%{x}<br>Demand (PJ)=%{y}<extra></extra>",
         "legendgroup": "Aviation Fuel",
         "marker": {
          "color": "#DD4477",
          "pattern": {
           "shape": ""
          }
         },
         "name": "Aviation Fuel",
         "offsetgroup": "Aviation Fuel",
         "orientation": "v",
         "showlegend": false,
         "textfont": {
          "size": 9
         },
         "textposition": "auto",
         "texttemplate": "%{y:.1f}",
         "type": "bar",
         "x": [
          "CANOE",
          "CEF2023"
         ],
         "xaxis": "x3",
         "y": [
          122.5859615126686,
          117.9412
         ],
         "yaxis": "y3"
        },
        {
         "alignmentgroup": "True",
         "hovertemplate": "Carrier=Aviation Fuel<br>Period=2035<br>Source=%{x}<br>Demand (PJ)=%{y}<extra></extra>",
         "legendgroup": "Aviation Fuel",
         "marker": {
          "color": "#DD4477",
          "pattern": {
           "shape": ""
          }
         },
         "name": "Aviation Fuel",
         "offsetgroup": "Aviation Fuel",
         "orientation": "v",
         "showlegend": false,
         "textfont": {
          "size": 9
         },
         "textposition": "auto",
         "texttemplate": "%{y:.1f}",
         "type": "bar",
         "x": [
          "CANOE",
          "CEF2023"
         ],
         "xaxis": "x4",
         "y": [
          124.9242675993473,
          126.9966
         ],
         "yaxis": "y4"
        },
        {
         "alignmentgroup": "True",
         "hovertemplate": "Carrier=Aviation Fuel<br>Period=2040<br>Source=%{x}<br>Demand (PJ)=%{y}<extra></extra>",
         "legendgroup": "Aviation Fuel",
         "marker": {
          "color": "#DD4477",
          "pattern": {
           "shape": ""
          }
         },
         "name": "Aviation Fuel",
         "offsetgroup": "Aviation Fuel",
         "orientation": "v",
         "showlegend": false,
         "textfont": {
          "size": 9
         },
         "textposition": "auto",
         "texttemplate": "%{y:.1f}",
         "type": "bar",
         "x": [
          "CANOE",
          "CEF2023"
         ],
         "xaxis": "x5",
         "y": [
          128.0737860841555,
          133.7623
         ],
         "yaxis": "y5"
        },
        {
         "alignmentgroup": "True",
         "hovertemplate": "Carrier=Aviation Fuel<br>Period=2045<br>Source=%{x}<br>Demand (PJ)=%{y}<extra></extra>",
         "legendgroup": "Aviation Fuel",
         "marker": {
          "color": "#DD4477",
          "pattern": {
           "shape": ""
          }
         },
         "name": "Aviation Fuel",
         "offsetgroup": "Aviation Fuel",
         "orientation": "v",
         "showlegend": false,
         "textfont": {
          "size": 9
         },
         "textposition": "auto",
         "texttemplate": "%{y:.1f}",
         "type": "bar",
         "x": [
          "CANOE",
          "CEF2023"
         ],
         "xaxis": "x6",
         "y": [
          133.8431713104053,
          138.7778
         ],
         "yaxis": "y6"
        },
        {
         "alignmentgroup": "True",
         "hovertemplate": "Carrier=Aviation Fuel<br>Period=2050<br>Source=%{x}<br>Demand (PJ)=%{y}<extra></extra>",
         "legendgroup": "Aviation Fuel",
         "marker": {
          "color": "#DD4477",
          "pattern": {
           "shape": ""
          }
         },
         "name": "Aviation Fuel",
         "offsetgroup": "Aviation Fuel",
         "orientation": "v",
         "showlegend": false,
         "textfont": {
          "size": 9
         },
         "textposition": "auto",
         "texttemplate": "%{y:.1f}",
         "type": "bar",
         "x": [
          "CANOE",
          "CEF2023"
         ],
         "xaxis": "x7",
         "y": [
          143.3187209062491,
          142.8996
         ],
         "yaxis": "y7"
        },
        {
         "alignmentgroup": "True",
         "hovertemplate": "Carrier=Marine Fuels<br>Period=2021<br>Source=%{x}<br>Demand (PJ)=%{y}<extra></extra>",
         "legendgroup": "Marine Fuels",
         "marker": {
          "color": "#B82E2E",
          "pattern": {
           "shape": ""
          }
         },
         "name": "Marine Fuels",
         "offsetgroup": "Marine Fuels",
         "orientation": "v",
         "showlegend": true,
         "textfont": {
          "size": 9
         },
         "textposition": "auto",
         "texttemplate": "%{y:.1f}",
         "type": "bar",
         "x": [
          "CANOE",
          "CEF2023"
         ],
         "xaxis": "x",
         "y": [
          6.852874238385964,
          15.9492
         ],
         "yaxis": "y"
        },
        {
         "alignmentgroup": "True",
         "hovertemplate": "Carrier=Marine Fuels<br>Period=2025<br>Source=%{x}<br>Demand (PJ)=%{y}<extra></extra>",
         "legendgroup": "Marine Fuels",
         "marker": {
          "color": "#B82E2E",
          "pattern": {
           "shape": ""
          }
         },
         "name": "Marine Fuels",
         "offsetgroup": "Marine Fuels",
         "orientation": "v",
         "showlegend": false,
         "textfont": {
          "size": 9
         },
         "textposition": "auto",
         "texttemplate": "%{y:.1f}",
         "type": "bar",
         "x": [
          "CANOE",
          "CEF2023"
         ],
         "xaxis": "x2",
         "y": [
          8.108870480793913,
          14.0341
         ],
         "yaxis": "y2"
        },
        {
         "alignmentgroup": "True",
         "hovertemplate": "Carrier=Marine Fuels<br>Period=2030<br>Source=%{x}<br>Demand (PJ)=%{y}<extra></extra>",
         "legendgroup": "Marine Fuels",
         "marker": {
          "color": "#B82E2E",
          "pattern": {
           "shape": ""
          }
         },
         "name": "Marine Fuels",
         "offsetgroup": "Marine Fuels",
         "orientation": "v",
         "showlegend": false,
         "textfont": {
          "size": 9
         },
         "textposition": "auto",
         "texttemplate": "%{y:.1f}",
         "type": "bar",
         "x": [
          "CANOE",
          "CEF2023"
         ],
         "xaxis": "x3",
         "y": [
          8.108871392811306,
          10.8613
         ],
         "yaxis": "y3"
        },
        {
         "alignmentgroup": "True",
         "hovertemplate": "Carrier=Marine Fuels<br>Period=2035<br>Source=%{x}<br>Demand (PJ)=%{y}<extra></extra>",
         "legendgroup": "Marine Fuels",
         "marker": {
          "color": "#B82E2E",
          "pattern": {
           "shape": ""
          }
         },
         "name": "Marine Fuels",
         "offsetgroup": "Marine Fuels",
         "orientation": "v",
         "showlegend": false,
         "textfont": {
          "size": 9
         },
         "textposition": "auto",
         "texttemplate": "%{y:.1f}",
         "type": "bar",
         "x": [
          "CANOE",
          "CEF2023"
         ],
         "xaxis": "x4",
         "y": [
          6.516335101237701,
          8.401
         ],
         "yaxis": "y4"
        },
        {
         "alignmentgroup": "True",
         "hovertemplate": "Carrier=Marine Fuels<br>Period=2040<br>Source=%{x}<br>Demand (PJ)=%{y}<extra></extra>",
         "legendgroup": "Marine Fuels",
         "marker": {
          "color": "#B82E2E",
          "pattern": {
           "shape": ""
          }
         },
         "name": "Marine Fuels",
         "offsetgroup": "Marine Fuels",
         "orientation": "v",
         "showlegend": false,
         "textfont": {
          "size": 9
         },
         "textposition": "auto",
         "texttemplate": "%{y:.1f}",
         "type": "bar",
         "x": [
          "CANOE",
          "CEF2023"
         ],
         "xaxis": "x5",
         "y": [
          5.15014376665495,
          6.8611
         ],
         "yaxis": "y5"
        },
        {
         "alignmentgroup": "True",
         "hovertemplate": "Carrier=Marine Fuels<br>Period=2045<br>Source=%{x}<br>Demand (PJ)=%{y}<extra></extra>",
         "legendgroup": "Marine Fuels",
         "marker": {
          "color": "#B82E2E",
          "pattern": {
           "shape": ""
          }
         },
         "name": "Marine Fuels",
         "offsetgroup": "Marine Fuels",
         "orientation": "v",
         "showlegend": false,
         "textfont": {
          "size": 9
         },
         "textposition": "auto",
         "texttemplate": "%{y:.1f}",
         "type": "bar",
         "x": [
          "CANOE",
          "CEF2023"
         ],
         "xaxis": "x6",
         "y": [
          1.8217152521581799,
          6.0186
         ],
         "yaxis": "y6"
        },
        {
         "alignmentgroup": "True",
         "hovertemplate": "Carrier=Marine Fuels<br>Period=2050<br>Source=%{x}<br>Demand (PJ)=%{y}<extra></extra>",
         "legendgroup": "Marine Fuels",
         "marker": {
          "color": "#B82E2E",
          "pattern": {
           "shape": ""
          }
         },
         "name": "Marine Fuels",
         "offsetgroup": "Marine Fuels",
         "orientation": "v",
         "showlegend": false,
         "textfont": {
          "size": 9
         },
         "textposition": "auto",
         "texttemplate": "%{y:.1f}",
         "type": "bar",
         "x": [
          "CANOE",
          "CEF2023"
         ],
         "xaxis": "x7",
         "y": [
          0.06508461877903532,
          5.71
         ],
         "yaxis": "y7"
        },
        {
         "alignmentgroup": "True",
         "hovertemplate": "Carrier=Other<br>Period=2021<br>Source=%{x}<br>Demand (PJ)=%{y}<extra></extra>",
         "legendgroup": "Other",
         "marker": {
          "color": "#316395",
          "pattern": {
           "shape": ""
          }
         },
         "name": "Other",
         "offsetgroup": "Other",
         "orientation": "v",
         "showlegend": true,
         "textfont": {
          "size": 9
         },
         "textposition": "auto",
         "texttemplate": "%{y:.1f}",
         "type": "bar",
         "x": [
          "CEF2023"
         ],
         "xaxis": "x",
         "y": [
          6.2623
         ],
         "yaxis": "y"
        },
        {
         "alignmentgroup": "True",
         "hovertemplate": "Carrier=Other<br>Period=2025<br>Source=%{x}<br>Demand (PJ)=%{y}<extra></extra>",
         "legendgroup": "Other",
         "marker": {
          "color": "#316395",
          "pattern": {
           "shape": ""
          }
         },
         "name": "Other",
         "offsetgroup": "Other",
         "orientation": "v",
         "showlegend": false,
         "textfont": {
          "size": 9
         },
         "textposition": "auto",
         "texttemplate": "%{y:.1f}",
         "type": "bar",
         "x": [
          "CEF2023"
         ],
         "xaxis": "x2",
         "y": [
          6.1236
         ],
         "yaxis": "y2"
        },
        {
         "alignmentgroup": "True",
         "hovertemplate": "Carrier=Other<br>Period=2030<br>Source=%{x}<br>Demand (PJ)=%{y}<extra></extra>",
         "legendgroup": "Other",
         "marker": {
          "color": "#316395",
          "pattern": {
           "shape": ""
          }
         },
         "name": "Other",
         "offsetgroup": "Other",
         "orientation": "v",
         "showlegend": false,
         "textfont": {
          "size": 9
         },
         "textposition": "auto",
         "texttemplate": "%{y:.1f}",
         "type": "bar",
         "x": [
          "CEF2023"
         ],
         "xaxis": "x3",
         "y": [
          5.6739
         ],
         "yaxis": "y3"
        },
        {
         "alignmentgroup": "True",
         "hovertemplate": "Carrier=Other<br>Period=2035<br>Source=%{x}<br>Demand (PJ)=%{y}<extra></extra>",
         "legendgroup": "Other",
         "marker": {
          "color": "#316395",
          "pattern": {
           "shape": ""
          }
         },
         "name": "Other",
         "offsetgroup": "Other",
         "orientation": "v",
         "showlegend": false,
         "textfont": {
          "size": 9
         },
         "textposition": "auto",
         "texttemplate": "%{y:.1f}",
         "type": "bar",
         "x": [
          "CEF2023"
         ],
         "xaxis": "x4",
         "y": [
          5.2496
         ],
         "yaxis": "y4"
        },
        {
         "alignmentgroup": "True",
         "hovertemplate": "Carrier=Other<br>Period=2040<br>Source=%{x}<br>Demand (PJ)=%{y}<extra></extra>",
         "legendgroup": "Other",
         "marker": {
          "color": "#316395",
          "pattern": {
           "shape": ""
          }
         },
         "name": "Other",
         "offsetgroup": "Other",
         "orientation": "v",
         "showlegend": false,
         "textfont": {
          "size": 9
         },
         "textposition": "auto",
         "texttemplate": "%{y:.1f}",
         "type": "bar",
         "x": [
          "CEF2023"
         ],
         "xaxis": "x5",
         "y": [
          4.829000000000001
         ],
         "yaxis": "y5"
        },
        {
         "alignmentgroup": "True",
         "hovertemplate": "Carrier=Other<br>Period=2045<br>Source=%{x}<br>Demand (PJ)=%{y}<extra></extra>",
         "legendgroup": "Other",
         "marker": {
          "color": "#316395",
          "pattern": {
           "shape": ""
          }
         },
         "name": "Other",
         "offsetgroup": "Other",
         "orientation": "v",
         "showlegend": false,
         "textfont": {
          "size": 9
         },
         "textposition": "auto",
         "texttemplate": "%{y:.1f}",
         "type": "bar",
         "x": [
          "CEF2023"
         ],
         "xaxis": "x6",
         "y": [
          4.507
         ],
         "yaxis": "y6"
        },
        {
         "alignmentgroup": "True",
         "hovertemplate": "Carrier=Other<br>Period=2050<br>Source=%{x}<br>Demand (PJ)=%{y}<extra></extra>",
         "legendgroup": "Other",
         "marker": {
          "color": "#316395",
          "pattern": {
           "shape": ""
          }
         },
         "name": "Other",
         "offsetgroup": "Other",
         "orientation": "v",
         "showlegend": false,
         "textfont": {
          "size": 9
         },
         "textposition": "auto",
         "texttemplate": "%{y:.1f}",
         "type": "bar",
         "x": [
          "CEF2023"
         ],
         "xaxis": "x7",
         "y": [
          4.318
         ],
         "yaxis": "y7"
        }
       ],
       "layout": {
        "annotations": [
         {
          "font": {},
          "showarrow": false,
          "text": "2021",
          "x": 0.06285714285714285,
          "xanchor": "center",
          "xref": "paper",
          "y": -0.05,
          "yanchor": "top",
          "yref": "paper"
         },
         {
          "font": {},
          "showarrow": false,
          "text": "2025",
          "x": 0.20857142857142852,
          "xanchor": "center",
          "xref": "paper",
          "y": -0.05,
          "yanchor": "top",
          "yref": "paper"
         },
         {
          "font": {},
          "showarrow": false,
          "text": "2030",
          "x": 0.3542857142857142,
          "xanchor": "center",
          "xref": "paper",
          "y": -0.05,
          "yanchor": "top",
          "yref": "paper"
         },
         {
          "font": {},
          "showarrow": false,
          "text": "2035",
          "x": 0.5,
          "xanchor": "center",
          "xref": "paper",
          "y": -0.05,
          "yanchor": "top",
          "yref": "paper"
         },
         {
          "font": {},
          "showarrow": false,
          "text": "2040",
          "x": 0.6457142857142856,
          "xanchor": "center",
          "xref": "paper",
          "y": -0.05,
          "yanchor": "top",
          "yref": "paper"
         },
         {
          "font": {},
          "showarrow": false,
          "text": "2045",
          "x": 0.7914285714285713,
          "xanchor": "center",
          "xref": "paper",
          "y": -0.05,
          "yanchor": "top",
          "yref": "paper"
         },
         {
          "font": {},
          "showarrow": false,
          "text": "2050",
          "x": 0.937142857142857,
          "xanchor": "center",
          "xref": "paper",
          "y": -0.05,
          "yanchor": "top",
          "yref": "paper"
         }
        ],
        "bargap": 0.1,
        "barmode": "stack",
        "font": {
         "size": 14
        },
        "height": 650,
        "legend": {
         "orientation": "h",
         "title": {
          "text": ""
         },
         "tracegroupgap": 0,
         "x": 0.5,
         "xanchor": "center",
         "y": 1.04,
         "yanchor": "top"
        },
        "margin": {
         "t": 60
        },
        "template": {
         "data": {
          "bar": [
           {
            "error_x": {
             "color": "#2a3f5f"
            },
            "error_y": {
             "color": "#2a3f5f"
            },
            "marker": {
             "line": {
              "color": "white",
              "width": 0.5
             },
             "pattern": {
              "fillmode": "overlay",
              "size": 10,
              "solidity": 0.2
             }
            },
            "type": "bar"
           }
          ],
          "barpolar": [
           {
            "marker": {
             "line": {
              "color": "white",
              "width": 0.5
             },
             "pattern": {
              "fillmode": "overlay",
              "size": 10,
              "solidity": 0.2
             }
            },
            "type": "barpolar"
           }
          ],
          "carpet": [
           {
            "aaxis": {
             "endlinecolor": "#2a3f5f",
             "gridcolor": "#C8D4E3",
             "linecolor": "#C8D4E3",
             "minorgridcolor": "#C8D4E3",
             "startlinecolor": "#2a3f5f"
            },
            "baxis": {
             "endlinecolor": "#2a3f5f",
             "gridcolor": "#C8D4E3",
             "linecolor": "#C8D4E3",
             "minorgridcolor": "#C8D4E3",
             "startlinecolor": "#2a3f5f"
            },
            "type": "carpet"
           }
          ],
          "choropleth": [
           {
            "colorbar": {
             "outlinewidth": 0,
             "ticks": ""
            },
            "type": "choropleth"
           }
          ],
          "contour": [
           {
            "colorbar": {
             "outlinewidth": 0,
             "ticks": ""
            },
            "colorscale": [
             [
              0,
              "#0d0887"
             ],
             [
              0.1111111111111111,
              "#46039f"
             ],
             [
              0.2222222222222222,
              "#7201a8"
             ],
             [
              0.3333333333333333,
              "#9c179e"
             ],
             [
              0.4444444444444444,
              "#bd3786"
             ],
             [
              0.5555555555555556,
              "#d8576b"
             ],
             [
              0.6666666666666666,
              "#ed7953"
             ],
             [
              0.7777777777777778,
              "#fb9f3a"
             ],
             [
              0.8888888888888888,
              "#fdca26"
             ],
             [
              1,
              "#f0f921"
             ]
            ],
            "type": "contour"
           }
          ],
          "contourcarpet": [
           {
            "colorbar": {
             "outlinewidth": 0,
             "ticks": ""
            },
            "type": "contourcarpet"
           }
          ],
          "heatmap": [
           {
            "colorbar": {
             "outlinewidth": 0,
             "ticks": ""
            },
            "colorscale": [
             [
              0,
              "#0d0887"
             ],
             [
              0.1111111111111111,
              "#46039f"
             ],
             [
              0.2222222222222222,
              "#7201a8"
             ],
             [
              0.3333333333333333,
              "#9c179e"
             ],
             [
              0.4444444444444444,
              "#bd3786"
             ],
             [
              0.5555555555555556,
              "#d8576b"
             ],
             [
              0.6666666666666666,
              "#ed7953"
             ],
             [
              0.7777777777777778,
              "#fb9f3a"
             ],
             [
              0.8888888888888888,
              "#fdca26"
             ],
             [
              1,
              "#f0f921"
             ]
            ],
            "type": "heatmap"
           }
          ],
          "heatmapgl": [
           {
            "colorbar": {
             "outlinewidth": 0,
             "ticks": ""
            },
            "colorscale": [
             [
              0,
              "#0d0887"
             ],
             [
              0.1111111111111111,
              "#46039f"
             ],
             [
              0.2222222222222222,
              "#7201a8"
             ],
             [
              0.3333333333333333,
              "#9c179e"
             ],
             [
              0.4444444444444444,
              "#bd3786"
             ],
             [
              0.5555555555555556,
              "#d8576b"
             ],
             [
              0.6666666666666666,
              "#ed7953"
             ],
             [
              0.7777777777777778,
              "#fb9f3a"
             ],
             [
              0.8888888888888888,
              "#fdca26"
             ],
             [
              1,
              "#f0f921"
             ]
            ],
            "type": "heatmapgl"
           }
          ],
          "histogram": [
           {
            "marker": {
             "pattern": {
              "fillmode": "overlay",
              "size": 10,
              "solidity": 0.2
             }
            },
            "type": "histogram"
           }
          ],
          "histogram2d": [
           {
            "colorbar": {
             "outlinewidth": 0,
             "ticks": ""
            },
            "colorscale": [
             [
              0,
              "#0d0887"
             ],
             [
              0.1111111111111111,
              "#46039f"
             ],
             [
              0.2222222222222222,
              "#7201a8"
             ],
             [
              0.3333333333333333,
              "#9c179e"
             ],
             [
              0.4444444444444444,
              "#bd3786"
             ],
             [
              0.5555555555555556,
              "#d8576b"
             ],
             [
              0.6666666666666666,
              "#ed7953"
             ],
             [
              0.7777777777777778,
              "#fb9f3a"
             ],
             [
              0.8888888888888888,
              "#fdca26"
             ],
             [
              1,
              "#f0f921"
             ]
            ],
            "type": "histogram2d"
           }
          ],
          "histogram2dcontour": [
           {
            "colorbar": {
             "outlinewidth": 0,
             "ticks": ""
            },
            "colorscale": [
             [
              0,
              "#0d0887"
             ],
             [
              0.1111111111111111,
              "#46039f"
             ],
             [
              0.2222222222222222,
              "#7201a8"
             ],
             [
              0.3333333333333333,
              "#9c179e"
             ],
             [
              0.4444444444444444,
              "#bd3786"
             ],
             [
              0.5555555555555556,
              "#d8576b"
             ],
             [
              0.6666666666666666,
              "#ed7953"
             ],
             [
              0.7777777777777778,
              "#fb9f3a"
             ],
             [
              0.8888888888888888,
              "#fdca26"
             ],
             [
              1,
              "#f0f921"
             ]
            ],
            "type": "histogram2dcontour"
           }
          ],
          "mesh3d": [
           {
            "colorbar": {
             "outlinewidth": 0,
             "ticks": ""
            },
            "type": "mesh3d"
           }
          ],
          "parcoords": [
           {
            "line": {
             "colorbar": {
              "outlinewidth": 0,
              "ticks": ""
             }
            },
            "type": "parcoords"
           }
          ],
          "pie": [
           {
            "automargin": true,
            "type": "pie"
           }
          ],
          "scatter": [
           {
            "fillpattern": {
             "fillmode": "overlay",
             "size": 10,
             "solidity": 0.2
            },
            "type": "scatter"
           }
          ],
          "scatter3d": [
           {
            "line": {
             "colorbar": {
              "outlinewidth": 0,
              "ticks": ""
             }
            },
            "marker": {
             "colorbar": {
              "outlinewidth": 0,
              "ticks": ""
             }
            },
            "type": "scatter3d"
           }
          ],
          "scattercarpet": [
           {
            "marker": {
             "colorbar": {
              "outlinewidth": 0,
              "ticks": ""
             }
            },
            "type": "scattercarpet"
           }
          ],
          "scattergeo": [
           {
            "marker": {
             "colorbar": {
              "outlinewidth": 0,
              "ticks": ""
             }
            },
            "type": "scattergeo"
           }
          ],
          "scattergl": [
           {
            "marker": {
             "colorbar": {
              "outlinewidth": 0,
              "ticks": ""
             }
            },
            "type": "scattergl"
           }
          ],
          "scattermapbox": [
           {
            "marker": {
             "colorbar": {
              "outlinewidth": 0,
              "ticks": ""
             }
            },
            "type": "scattermapbox"
           }
          ],
          "scatterpolar": [
           {
            "marker": {
             "colorbar": {
              "outlinewidth": 0,
              "ticks": ""
             }
            },
            "type": "scatterpolar"
           }
          ],
          "scatterpolargl": [
           {
            "marker": {
             "colorbar": {
              "outlinewidth": 0,
              "ticks": ""
             }
            },
            "type": "scatterpolargl"
           }
          ],
          "scatterternary": [
           {
            "marker": {
             "colorbar": {
              "outlinewidth": 0,
              "ticks": ""
             }
            },
            "type": "scatterternary"
           }
          ],
          "surface": [
           {
            "colorbar": {
             "outlinewidth": 0,
             "ticks": ""
            },
            "colorscale": [
             [
              0,
              "#0d0887"
             ],
             [
              0.1111111111111111,
              "#46039f"
             ],
             [
              0.2222222222222222,
              "#7201a8"
             ],
             [
              0.3333333333333333,
              "#9c179e"
             ],
             [
              0.4444444444444444,
              "#bd3786"
             ],
             [
              0.5555555555555556,
              "#d8576b"
             ],
             [
              0.6666666666666666,
              "#ed7953"
             ],
             [
              0.7777777777777778,
              "#fb9f3a"
             ],
             [
              0.8888888888888888,
              "#fdca26"
             ],
             [
              1,
              "#f0f921"
             ]
            ],
            "type": "surface"
           }
          ],
          "table": [
           {
            "cells": {
             "fill": {
              "color": "#EBF0F8"
             },
             "line": {
              "color": "white"
             }
            },
            "header": {
             "fill": {
              "color": "#C8D4E3"
             },
             "line": {
              "color": "white"
             }
            },
            "type": "table"
           }
          ]
         },
         "layout": {
          "annotationdefaults": {
           "arrowcolor": "#2a3f5f",
           "arrowhead": 0,
           "arrowwidth": 1
          },
          "autotypenumbers": "strict",
          "coloraxis": {
           "colorbar": {
            "outlinewidth": 0,
            "ticks": ""
           }
          },
          "colorscale": {
           "diverging": [
            [
             0,
             "#8e0152"
            ],
            [
             0.1,
             "#c51b7d"
            ],
            [
             0.2,
             "#de77ae"
            ],
            [
             0.3,
             "#f1b6da"
            ],
            [
             0.4,
             "#fde0ef"
            ],
            [
             0.5,
             "#f7f7f7"
            ],
            [
             0.6,
             "#e6f5d0"
            ],
            [
             0.7,
             "#b8e186"
            ],
            [
             0.8,
             "#7fbc41"
            ],
            [
             0.9,
             "#4d9221"
            ],
            [
             1,
             "#276419"
            ]
           ],
           "sequential": [
            [
             0,
             "#0d0887"
            ],
            [
             0.1111111111111111,
             "#46039f"
            ],
            [
             0.2222222222222222,
             "#7201a8"
            ],
            [
             0.3333333333333333,
             "#9c179e"
            ],
            [
             0.4444444444444444,
             "#bd3786"
            ],
            [
             0.5555555555555556,
             "#d8576b"
            ],
            [
             0.6666666666666666,
             "#ed7953"
            ],
            [
             0.7777777777777778,
             "#fb9f3a"
            ],
            [
             0.8888888888888888,
             "#fdca26"
            ],
            [
             1,
             "#f0f921"
            ]
           ],
           "sequentialminus": [
            [
             0,
             "#0d0887"
            ],
            [
             0.1111111111111111,
             "#46039f"
            ],
            [
             0.2222222222222222,
             "#7201a8"
            ],
            [
             0.3333333333333333,
             "#9c179e"
            ],
            [
             0.4444444444444444,
             "#bd3786"
            ],
            [
             0.5555555555555556,
             "#d8576b"
            ],
            [
             0.6666666666666666,
             "#ed7953"
            ],
            [
             0.7777777777777778,
             "#fb9f3a"
            ],
            [
             0.8888888888888888,
             "#fdca26"
            ],
            [
             1,
             "#f0f921"
            ]
           ]
          },
          "colorway": [
           "#636efa",
           "#EF553B",
           "#00cc96",
           "#ab63fa",
           "#FFA15A",
           "#19d3f3",
           "#FF6692",
           "#B6E880",
           "#FF97FF",
           "#FECB52"
          ],
          "font": {
           "color": "#2a3f5f"
          },
          "geo": {
           "bgcolor": "white",
           "lakecolor": "white",
           "landcolor": "white",
           "showlakes": true,
           "showland": true,
           "subunitcolor": "#C8D4E3"
          },
          "hoverlabel": {
           "align": "left"
          },
          "hovermode": "closest",
          "mapbox": {
           "style": "light"
          },
          "paper_bgcolor": "white",
          "plot_bgcolor": "white",
          "polar": {
           "angularaxis": {
            "gridcolor": "#EBF0F8",
            "linecolor": "#EBF0F8",
            "ticks": ""
           },
           "bgcolor": "white",
           "radialaxis": {
            "gridcolor": "#EBF0F8",
            "linecolor": "#EBF0F8",
            "ticks": ""
           }
          },
          "scene": {
           "xaxis": {
            "backgroundcolor": "white",
            "gridcolor": "#DFE8F3",
            "gridwidth": 2,
            "linecolor": "#EBF0F8",
            "showbackground": true,
            "ticks": "",
            "zerolinecolor": "#EBF0F8"
           },
           "yaxis": {
            "backgroundcolor": "white",
            "gridcolor": "#DFE8F3",
            "gridwidth": 2,
            "linecolor": "#EBF0F8",
            "showbackground": true,
            "ticks": "",
            "zerolinecolor": "#EBF0F8"
           },
           "zaxis": {
            "backgroundcolor": "white",
            "gridcolor": "#DFE8F3",
            "gridwidth": 2,
            "linecolor": "#EBF0F8",
            "showbackground": true,
            "ticks": "",
            "zerolinecolor": "#EBF0F8"
           }
          },
          "shapedefaults": {
           "line": {
            "color": "#2a3f5f"
           }
          },
          "ternary": {
           "aaxis": {
            "gridcolor": "#DFE8F3",
            "linecolor": "#A2B1C6",
            "ticks": ""
           },
           "baxis": {
            "gridcolor": "#DFE8F3",
            "linecolor": "#A2B1C6",
            "ticks": ""
           },
           "bgcolor": "white",
           "caxis": {
            "gridcolor": "#DFE8F3",
            "linecolor": "#A2B1C6",
            "ticks": ""
           }
          },
          "title": {
           "x": 0.05
          },
          "xaxis": {
           "automargin": true,
           "gridcolor": "#EBF0F8",
           "linecolor": "#EBF0F8",
           "ticks": "",
           "title": {
            "standoff": 15
           },
           "zerolinecolor": "#EBF0F8",
           "zerolinewidth": 2
          },
          "yaxis": {
           "automargin": true,
           "gridcolor": "#EBF0F8",
           "linecolor": "#EBF0F8",
           "ticks": "",
           "title": {
            "standoff": 15
           },
           "zerolinecolor": "#EBF0F8",
           "zerolinewidth": 2
          }
         }
        },
        "title": {
         "text": "Transportation secondary energy demand in ON by carrier and energy model",
         "x": 0.5,
         "xanchor": "center",
         "y": 0.97,
         "yanchor": "top"
        },
        "width": 1150,
        "xaxis": {
         "anchor": "y",
         "domain": [
          0,
          0.1257142857142857
         ],
         "title": {
          "text": ""
         }
        },
        "xaxis2": {
         "anchor": "y2",
         "domain": [
          0.14571428571428569,
          0.27142857142857135
         ],
         "matches": "x",
         "title": {
          "text": ""
         }
        },
        "xaxis3": {
         "anchor": "y3",
         "domain": [
          0.29142857142857137,
          0.41714285714285704
         ],
         "matches": "x",
         "title": {
          "text": ""
         }
        },
        "xaxis4": {
         "anchor": "y4",
         "domain": [
          0.4371428571428571,
          0.5628571428571428
         ],
         "matches": "x",
         "title": {
          "text": ""
         }
        },
        "xaxis5": {
         "anchor": "y5",
         "domain": [
          0.5828571428571427,
          0.7085714285714284
         ],
         "matches": "x",
         "title": {
          "text": ""
         }
        },
        "xaxis6": {
         "anchor": "y6",
         "domain": [
          0.7285714285714284,
          0.8542857142857141
         ],
         "matches": "x",
         "title": {
          "text": ""
         }
        },
        "xaxis7": {
         "anchor": "y7",
         "domain": [
          0.8742857142857142,
          0.9999999999999999
         ],
         "matches": "x",
         "title": {
          "text": ""
         }
        },
        "yaxis": {
         "anchor": "x",
         "domain": [
          0,
          1
         ],
         "dtick": 100,
         "title": {
          "standoff": 0,
          "text": "Demand (PJ)"
         }
        },
        "yaxis2": {
         "anchor": "x2",
         "domain": [
          0,
          1
         ],
         "dtick": 100,
         "matches": "y",
         "showticklabels": false
        },
        "yaxis3": {
         "anchor": "x3",
         "domain": [
          0,
          1
         ],
         "dtick": 100,
         "matches": "y",
         "showticklabels": false
        },
        "yaxis4": {
         "anchor": "x4",
         "domain": [
          0,
          1
         ],
         "dtick": 100,
         "matches": "y",
         "showticklabels": false
        },
        "yaxis5": {
         "anchor": "x5",
         "domain": [
          0,
          1
         ],
         "dtick": 100,
         "matches": "y",
         "showticklabels": false
        },
        "yaxis6": {
         "anchor": "x6",
         "domain": [
          0,
          1
         ],
         "dtick": 100,
         "matches": "y",
         "showticklabels": false
        },
        "yaxis7": {
         "anchor": "x7",
         "domain": [
          0,
          1
         ],
         "dtick": 100,
         "matches": "y",
         "showticklabels": false
        }
       }
      }
     },
     "metadata": {},
     "output_type": "display_data"
    }
   ],
   "source": [
    "bau23_fig = bau23_demand[(bau23_demand['Sector'] == 'Transportation') & (bau23_demand['Carrier'] != 'Total End-Use')].copy()\n",
    "ref_fig = ref_trnact[(ref_trnact['Mode'] == 'Fuel use') & (ref_trnact['Carrier'] != 'Other')].copy()\n",
    "carrier_order = ['Gasoline', 'Diesel', 'Biofuels', 'Electricity', 'H2', 'Natural Gas', 'Aviation Fuel', 'Marine Fuels', 'Other']\n",
    "\n",
    "bau23_fig['Source'] = 'CEF2023'\n",
    "ref_fig['Source'] = 'CANOE'\n",
    "fig_df = pd.concat([ref_fig[['Period', 'Demand (PJ)', 'Carrier', 'Source']], bau23_fig[['Period', 'Demand (PJ)', 'Carrier', 'Source']]])\n",
    "\n",
    "fig_df['Carrier'] = fig_df['Carrier'].apply(carrier_grouping)\n",
    "fig_df = fig_df.groupby(['Period', 'Carrier', 'Source'], as_index=False).sum('Demand (PJ)')\n",
    "fig_df['Carrier'] = pd.Categorical(fig_df['Carrier'], categories=carrier_order, ordered=True)\n",
    "fig_df = fig_df.sort_values(['Carrier', 'Period'])\n",
    "\n",
    "fig = px.bar(fig_df, \n",
    "             x='Source', \n",
    "             y='Demand (PJ)', \n",
    "             color='Carrier', \n",
    "             barmode='stack', \n",
    "             facet_col='Period',\n",
    "             facet_col_spacing=2E-2,\n",
    "             template='plotly_white',\n",
    "             color_discrete_sequence=px.colors.qualitative.G10[:7] + px.colors.qualitative.G10[8:],\n",
    "             text_auto='.1f',\n",
    "            #  text='Demand (PJ)_sum'\n",
    "             width=1150, height=650,\n",
    "             )\n",
    "\n",
    "fig.update_layout(title=dict(\n",
    "        text='Transportation secondary energy demand in ON by carrier and energy model',\n",
    "        x=0.5, \n",
    "        y=0.97,\n",
    "        xanchor='center',\n",
    "        yanchor='top'\n",
    "    ),\n",
    "    xaxis=dict(title='Period'),\n",
    "    yaxis=dict(title='Demand (PJ)',\n",
    "               dtick=100),\n",
    "    yaxis_title_standoff=0,\n",
    "    legend_title_text='',\n",
    "    bargap=0.1,\n",
    "    legend=dict(\n",
    "        orientation='h',  \n",
    "        yanchor='top',\n",
    "        y=1.04,  \n",
    "        xanchor='center',\n",
    "        x=0.5),\n",
    "    font=dict(\n",
    "        # family=\"Open Sans\",\n",
    "        size=14)\n",
    "    )\n",
    "\n",
    "for annotation in fig.layout.annotations:\n",
    "    annotation.text = annotation.text.split('=')[1]\n",
    "    annotation.y = -0.05  \n",
    "    annotation.yanchor = 'top' \n",
    "\n",
    "for axis in fig.layout:\n",
    "    if axis.startswith('yaxis'):\n",
    "        fig.layout[axis].dtick = 100\n",
    "\n",
    "for axis in fig.layout:\n",
    "    if axis.startswith('xaxis'):\n",
    "        fig.layout[axis].title.text = ''\n",
    "\n",
    "fig.for_each_trace(lambda trace: trace.update(textfont=dict(size=9)))\n",
    "\n",
    "fig.show()\n",
    "# fig.write_image(\"trn_demand.svg\", scale=1, engine='kaleido')"
   ]
  },
  {
   "cell_type": "markdown",
   "metadata": {},
   "source": [
    "# CANOE vs CEF2023 vs gTech-IESD - transportation secondary energy demand"
   ]
  },
  {
   "cell_type": "code",
   "execution_count": 13,
   "metadata": {},
   "outputs": [
    {
     "name": "stderr",
     "output_type": "stream",
     "text": [
      "C:\\Users\\rashi\\AppData\\Local\\Temp\\ipykernel_40796\\4239646409.py:1: FutureWarning:\n",
      "\n",
      "A value is trying to be set on a copy of a DataFrame or Series through chained assignment using an inplace method.\n",
      "The behavior will change in pandas 3.0. This inplace method will never work because the intermediate object on which we are setting values always behaves as a copy.\n",
      "\n",
      "For example, when doing 'df[col].method(value, inplace=True)', try using 'df.method({col: value}, inplace=True)' or df[col] = df[col].method(value) instead, to perform the operation inplace on the original object.\n",
      "\n",
      "\n",
      "\n"
     ]
    }
   ],
   "source": [
    "gtech23_ref_demand['Sector'].replace({'agriculture & waste': 'AFOLU', 'commercial buildings': 'Commercial', 'residential buildings': 'Residential', 'land use & forestry': 'AFOLU',\n",
    "                                      'industry': 'Industrial', 'oil and gas': 'Oil & Gas', 'direct air capture': 'Industrial', 'utilities': 'Utilities',\n",
    "                                      'light-duty transport': 'Transportation', 'medium & heavy-duty transport': 'Transportation', 'other transport': 'Transportation'}, inplace=True)\n",
    "gtech23_ref_demand = gtech23_ref_demand.groupby(['Period', 'Sector'], as_index=False).sum()[['Period', 'Sector', 'Demand (PJ)']]"
   ]
  },
  {
   "cell_type": "code",
   "execution_count": 14,
   "metadata": {},
   "outputs": [
    {
     "data": {
      "application/vnd.plotly.v1+json": {
       "config": {
        "plotlyServerURL": "https://plot.ly"
       },
       "data": [
        {
         "hovertemplate": "Source=CANOE<br>Period=%{x}<br>Demand (PJ)=%{y}<extra></extra>",
         "legendgroup": "CANOE",
         "line": {
          "color": "#636efa",
          "dash": "solid"
         },
         "marker": {
          "symbol": "circle"
         },
         "mode": "lines",
         "name": "CANOE",
         "orientation": "v",
         "showlegend": true,
         "type": "scatter",
         "x": [
          "2021",
          "2025",
          "2030",
          "2035",
          "2040",
          "2045",
          "2050"
         ],
         "xaxis": "x",
         "y": [
          792.7106151825014,
          945.9035520834188,
          808.7951716846975,
          606.3912200246419,
          563.5768925334627,
          584.2941888144356,
          607.856656544674
         ],
         "yaxis": "y"
        },
        {
         "hovertemplate": "Source=CEF 2023<br>Period=%{x}<br>Demand (PJ)=%{y}<extra></extra>",
         "legendgroup": "CEF 2023",
         "line": {
          "color": "#EF553B",
          "dash": "solid"
         },
         "marker": {
          "symbol": "circle"
         },
         "mode": "lines",
         "name": "CEF 2023",
         "orientation": "v",
         "showlegend": true,
         "type": "scatter",
         "x": [
          "2021",
          "2025",
          "2030",
          "2035",
          "2040",
          "2045",
          "2050"
         ],
         "xaxis": "x",
         "y": [
          773.6423,
          882.0304,
          891.9928,
          885.9677,
          878.3486,
          878.1762,
          893.9057
         ],
         "yaxis": "y"
        },
        {
         "hovertemplate": "Source=gTech-IESD<br>Period=%{x}<br>Demand (PJ)=%{y}<extra></extra>",
         "legendgroup": "gTech-IESD",
         "line": {
          "color": "#00cc96",
          "dash": "solid"
         },
         "marker": {
          "symbol": "circle"
         },
         "mode": "lines",
         "name": "gTech-IESD",
         "orientation": "v",
         "showlegend": true,
         "type": "scatter",
         "x": [
          2021,
          2025,
          2030,
          2035,
          2040,
          2045,
          2050
         ],
         "xaxis": "x",
         "y": [
          944.9145178639999,
          988.611015,
          966.8769606999999,
          924.4334725,
          900.0283629,
          907.3242778,
          947.2453959
         ],
         "yaxis": "y"
        }
       ],
       "layout": {
        "bargap": 0.1,
        "font": {
         "size": 14
        },
        "height": 450,
        "legend": {
         "orientation": "h",
         "title": {
          "text": ""
         },
         "tracegroupgap": 0,
         "x": 0.5,
         "xanchor": "center",
         "y": -0.16,
         "yanchor": "bottom"
        },
        "margin": {
         "t": 60
        },
        "template": {
         "data": {
          "bar": [
           {
            "error_x": {
             "color": "#2a3f5f"
            },
            "error_y": {
             "color": "#2a3f5f"
            },
            "marker": {
             "line": {
              "color": "white",
              "width": 0.5
             },
             "pattern": {
              "fillmode": "overlay",
              "size": 10,
              "solidity": 0.2
             }
            },
            "type": "bar"
           }
          ],
          "barpolar": [
           {
            "marker": {
             "line": {
              "color": "white",
              "width": 0.5
             },
             "pattern": {
              "fillmode": "overlay",
              "size": 10,
              "solidity": 0.2
             }
            },
            "type": "barpolar"
           }
          ],
          "carpet": [
           {
            "aaxis": {
             "endlinecolor": "#2a3f5f",
             "gridcolor": "#C8D4E3",
             "linecolor": "#C8D4E3",
             "minorgridcolor": "#C8D4E3",
             "startlinecolor": "#2a3f5f"
            },
            "baxis": {
             "endlinecolor": "#2a3f5f",
             "gridcolor": "#C8D4E3",
             "linecolor": "#C8D4E3",
             "minorgridcolor": "#C8D4E3",
             "startlinecolor": "#2a3f5f"
            },
            "type": "carpet"
           }
          ],
          "choropleth": [
           {
            "colorbar": {
             "outlinewidth": 0,
             "ticks": ""
            },
            "type": "choropleth"
           }
          ],
          "contour": [
           {
            "colorbar": {
             "outlinewidth": 0,
             "ticks": ""
            },
            "colorscale": [
             [
              0,
              "#0d0887"
             ],
             [
              0.1111111111111111,
              "#46039f"
             ],
             [
              0.2222222222222222,
              "#7201a8"
             ],
             [
              0.3333333333333333,
              "#9c179e"
             ],
             [
              0.4444444444444444,
              "#bd3786"
             ],
             [
              0.5555555555555556,
              "#d8576b"
             ],
             [
              0.6666666666666666,
              "#ed7953"
             ],
             [
              0.7777777777777778,
              "#fb9f3a"
             ],
             [
              0.8888888888888888,
              "#fdca26"
             ],
             [
              1,
              "#f0f921"
             ]
            ],
            "type": "contour"
           }
          ],
          "contourcarpet": [
           {
            "colorbar": {
             "outlinewidth": 0,
             "ticks": ""
            },
            "type": "contourcarpet"
           }
          ],
          "heatmap": [
           {
            "colorbar": {
             "outlinewidth": 0,
             "ticks": ""
            },
            "colorscale": [
             [
              0,
              "#0d0887"
             ],
             [
              0.1111111111111111,
              "#46039f"
             ],
             [
              0.2222222222222222,
              "#7201a8"
             ],
             [
              0.3333333333333333,
              "#9c179e"
             ],
             [
              0.4444444444444444,
              "#bd3786"
             ],
             [
              0.5555555555555556,
              "#d8576b"
             ],
             [
              0.6666666666666666,
              "#ed7953"
             ],
             [
              0.7777777777777778,
              "#fb9f3a"
             ],
             [
              0.8888888888888888,
              "#fdca26"
             ],
             [
              1,
              "#f0f921"
             ]
            ],
            "type": "heatmap"
           }
          ],
          "heatmapgl": [
           {
            "colorbar": {
             "outlinewidth": 0,
             "ticks": ""
            },
            "colorscale": [
             [
              0,
              "#0d0887"
             ],
             [
              0.1111111111111111,
              "#46039f"
             ],
             [
              0.2222222222222222,
              "#7201a8"
             ],
             [
              0.3333333333333333,
              "#9c179e"
             ],
             [
              0.4444444444444444,
              "#bd3786"
             ],
             [
              0.5555555555555556,
              "#d8576b"
             ],
             [
              0.6666666666666666,
              "#ed7953"
             ],
             [
              0.7777777777777778,
              "#fb9f3a"
             ],
             [
              0.8888888888888888,
              "#fdca26"
             ],
             [
              1,
              "#f0f921"
             ]
            ],
            "type": "heatmapgl"
           }
          ],
          "histogram": [
           {
            "marker": {
             "pattern": {
              "fillmode": "overlay",
              "size": 10,
              "solidity": 0.2
             }
            },
            "type": "histogram"
           }
          ],
          "histogram2d": [
           {
            "colorbar": {
             "outlinewidth": 0,
             "ticks": ""
            },
            "colorscale": [
             [
              0,
              "#0d0887"
             ],
             [
              0.1111111111111111,
              "#46039f"
             ],
             [
              0.2222222222222222,
              "#7201a8"
             ],
             [
              0.3333333333333333,
              "#9c179e"
             ],
             [
              0.4444444444444444,
              "#bd3786"
             ],
             [
              0.5555555555555556,
              "#d8576b"
             ],
             [
              0.6666666666666666,
              "#ed7953"
             ],
             [
              0.7777777777777778,
              "#fb9f3a"
             ],
             [
              0.8888888888888888,
              "#fdca26"
             ],
             [
              1,
              "#f0f921"
             ]
            ],
            "type": "histogram2d"
           }
          ],
          "histogram2dcontour": [
           {
            "colorbar": {
             "outlinewidth": 0,
             "ticks": ""
            },
            "colorscale": [
             [
              0,
              "#0d0887"
             ],
             [
              0.1111111111111111,
              "#46039f"
             ],
             [
              0.2222222222222222,
              "#7201a8"
             ],
             [
              0.3333333333333333,
              "#9c179e"
             ],
             [
              0.4444444444444444,
              "#bd3786"
             ],
             [
              0.5555555555555556,
              "#d8576b"
             ],
             [
              0.6666666666666666,
              "#ed7953"
             ],
             [
              0.7777777777777778,
              "#fb9f3a"
             ],
             [
              0.8888888888888888,
              "#fdca26"
             ],
             [
              1,
              "#f0f921"
             ]
            ],
            "type": "histogram2dcontour"
           }
          ],
          "mesh3d": [
           {
            "colorbar": {
             "outlinewidth": 0,
             "ticks": ""
            },
            "type": "mesh3d"
           }
          ],
          "parcoords": [
           {
            "line": {
             "colorbar": {
              "outlinewidth": 0,
              "ticks": ""
             }
            },
            "type": "parcoords"
           }
          ],
          "pie": [
           {
            "automargin": true,
            "type": "pie"
           }
          ],
          "scatter": [
           {
            "fillpattern": {
             "fillmode": "overlay",
             "size": 10,
             "solidity": 0.2
            },
            "type": "scatter"
           }
          ],
          "scatter3d": [
           {
            "line": {
             "colorbar": {
              "outlinewidth": 0,
              "ticks": ""
             }
            },
            "marker": {
             "colorbar": {
              "outlinewidth": 0,
              "ticks": ""
             }
            },
            "type": "scatter3d"
           }
          ],
          "scattercarpet": [
           {
            "marker": {
             "colorbar": {
              "outlinewidth": 0,
              "ticks": ""
             }
            },
            "type": "scattercarpet"
           }
          ],
          "scattergeo": [
           {
            "marker": {
             "colorbar": {
              "outlinewidth": 0,
              "ticks": ""
             }
            },
            "type": "scattergeo"
           }
          ],
          "scattergl": [
           {
            "marker": {
             "colorbar": {
              "outlinewidth": 0,
              "ticks": ""
             }
            },
            "type": "scattergl"
           }
          ],
          "scattermapbox": [
           {
            "marker": {
             "colorbar": {
              "outlinewidth": 0,
              "ticks": ""
             }
            },
            "type": "scattermapbox"
           }
          ],
          "scatterpolar": [
           {
            "marker": {
             "colorbar": {
              "outlinewidth": 0,
              "ticks": ""
             }
            },
            "type": "scatterpolar"
           }
          ],
          "scatterpolargl": [
           {
            "marker": {
             "colorbar": {
              "outlinewidth": 0,
              "ticks": ""
             }
            },
            "type": "scatterpolargl"
           }
          ],
          "scatterternary": [
           {
            "marker": {
             "colorbar": {
              "outlinewidth": 0,
              "ticks": ""
             }
            },
            "type": "scatterternary"
           }
          ],
          "surface": [
           {
            "colorbar": {
             "outlinewidth": 0,
             "ticks": ""
            },
            "colorscale": [
             [
              0,
              "#0d0887"
             ],
             [
              0.1111111111111111,
              "#46039f"
             ],
             [
              0.2222222222222222,
              "#7201a8"
             ],
             [
              0.3333333333333333,
              "#9c179e"
             ],
             [
              0.4444444444444444,
              "#bd3786"
             ],
             [
              0.5555555555555556,
              "#d8576b"
             ],
             [
              0.6666666666666666,
              "#ed7953"
             ],
             [
              0.7777777777777778,
              "#fb9f3a"
             ],
             [
              0.8888888888888888,
              "#fdca26"
             ],
             [
              1,
              "#f0f921"
             ]
            ],
            "type": "surface"
           }
          ],
          "table": [
           {
            "cells": {
             "fill": {
              "color": "#EBF0F8"
             },
             "line": {
              "color": "white"
             }
            },
            "header": {
             "fill": {
              "color": "#C8D4E3"
             },
             "line": {
              "color": "white"
             }
            },
            "type": "table"
           }
          ]
         },
         "layout": {
          "annotationdefaults": {
           "arrowcolor": "#2a3f5f",
           "arrowhead": 0,
           "arrowwidth": 1
          },
          "autotypenumbers": "strict",
          "coloraxis": {
           "colorbar": {
            "outlinewidth": 0,
            "ticks": ""
           }
          },
          "colorscale": {
           "diverging": [
            [
             0,
             "#8e0152"
            ],
            [
             0.1,
             "#c51b7d"
            ],
            [
             0.2,
             "#de77ae"
            ],
            [
             0.3,
             "#f1b6da"
            ],
            [
             0.4,
             "#fde0ef"
            ],
            [
             0.5,
             "#f7f7f7"
            ],
            [
             0.6,
             "#e6f5d0"
            ],
            [
             0.7,
             "#b8e186"
            ],
            [
             0.8,
             "#7fbc41"
            ],
            [
             0.9,
             "#4d9221"
            ],
            [
             1,
             "#276419"
            ]
           ],
           "sequential": [
            [
             0,
             "#0d0887"
            ],
            [
             0.1111111111111111,
             "#46039f"
            ],
            [
             0.2222222222222222,
             "#7201a8"
            ],
            [
             0.3333333333333333,
             "#9c179e"
            ],
            [
             0.4444444444444444,
             "#bd3786"
            ],
            [
             0.5555555555555556,
             "#d8576b"
            ],
            [
             0.6666666666666666,
             "#ed7953"
            ],
            [
             0.7777777777777778,
             "#fb9f3a"
            ],
            [
             0.8888888888888888,
             "#fdca26"
            ],
            [
             1,
             "#f0f921"
            ]
           ],
           "sequentialminus": [
            [
             0,
             "#0d0887"
            ],
            [
             0.1111111111111111,
             "#46039f"
            ],
            [
             0.2222222222222222,
             "#7201a8"
            ],
            [
             0.3333333333333333,
             "#9c179e"
            ],
            [
             0.4444444444444444,
             "#bd3786"
            ],
            [
             0.5555555555555556,
             "#d8576b"
            ],
            [
             0.6666666666666666,
             "#ed7953"
            ],
            [
             0.7777777777777778,
             "#fb9f3a"
            ],
            [
             0.8888888888888888,
             "#fdca26"
            ],
            [
             1,
             "#f0f921"
            ]
           ]
          },
          "colorway": [
           "#636efa",
           "#EF553B",
           "#00cc96",
           "#ab63fa",
           "#FFA15A",
           "#19d3f3",
           "#FF6692",
           "#B6E880",
           "#FF97FF",
           "#FECB52"
          ],
          "font": {
           "color": "#2a3f5f"
          },
          "geo": {
           "bgcolor": "white",
           "lakecolor": "white",
           "landcolor": "white",
           "showlakes": true,
           "showland": true,
           "subunitcolor": "#C8D4E3"
          },
          "hoverlabel": {
           "align": "left"
          },
          "hovermode": "closest",
          "mapbox": {
           "style": "light"
          },
          "paper_bgcolor": "white",
          "plot_bgcolor": "white",
          "polar": {
           "angularaxis": {
            "gridcolor": "#EBF0F8",
            "linecolor": "#EBF0F8",
            "ticks": ""
           },
           "bgcolor": "white",
           "radialaxis": {
            "gridcolor": "#EBF0F8",
            "linecolor": "#EBF0F8",
            "ticks": ""
           }
          },
          "scene": {
           "xaxis": {
            "backgroundcolor": "white",
            "gridcolor": "#DFE8F3",
            "gridwidth": 2,
            "linecolor": "#EBF0F8",
            "showbackground": true,
            "ticks": "",
            "zerolinecolor": "#EBF0F8"
           },
           "yaxis": {
            "backgroundcolor": "white",
            "gridcolor": "#DFE8F3",
            "gridwidth": 2,
            "linecolor": "#EBF0F8",
            "showbackground": true,
            "ticks": "",
            "zerolinecolor": "#EBF0F8"
           },
           "zaxis": {
            "backgroundcolor": "white",
            "gridcolor": "#DFE8F3",
            "gridwidth": 2,
            "linecolor": "#EBF0F8",
            "showbackground": true,
            "ticks": "",
            "zerolinecolor": "#EBF0F8"
           }
          },
          "shapedefaults": {
           "line": {
            "color": "#2a3f5f"
           }
          },
          "ternary": {
           "aaxis": {
            "gridcolor": "#DFE8F3",
            "linecolor": "#A2B1C6",
            "ticks": ""
           },
           "baxis": {
            "gridcolor": "#DFE8F3",
            "linecolor": "#A2B1C6",
            "ticks": ""
           },
           "bgcolor": "white",
           "caxis": {
            "gridcolor": "#DFE8F3",
            "linecolor": "#A2B1C6",
            "ticks": ""
           }
          },
          "title": {
           "x": 0.05
          },
          "xaxis": {
           "automargin": true,
           "gridcolor": "#EBF0F8",
           "linecolor": "#EBF0F8",
           "ticks": "",
           "title": {
            "standoff": 15
           },
           "zerolinecolor": "#EBF0F8",
           "zerolinewidth": 2
          },
          "yaxis": {
           "automargin": true,
           "gridcolor": "#EBF0F8",
           "linecolor": "#EBF0F8",
           "ticks": "",
           "title": {
            "standoff": 15
           },
           "zerolinecolor": "#EBF0F8",
           "zerolinewidth": 2
          }
         }
        },
        "title": {
         "text": "Transportation total energy demand in ON by energy model",
         "x": 0.5,
         "xanchor": "center",
         "y": 0.95,
         "yanchor": "top"
        },
        "width": 800,
        "xaxis": {
         "anchor": "y",
         "domain": [
          0,
          1
         ],
         "title": {
          "text": ""
         }
        },
        "yaxis": {
         "anchor": "x",
         "domain": [
          0,
          1
         ],
         "title": {
          "standoff": 0,
          "text": "Demand (PJ)"
         }
        }
       }
      }
     },
     "metadata": {},
     "output_type": "display_data"
    }
   ],
   "source": [
    "bau23_fig = bau23_demand[(bau23_demand['Sector'] == 'Transportation') & (bau23_demand['Carrier'] == 'Total End-Use')].copy()\n",
    "ref_fig = ref_trnact[(ref_trnact['Mode'] == 'Fuel use') & (ref_trnact['Carrier'] != 'Other')].groupby('Period', as_index=False).sum('Demand (PJ)')\n",
    "gtech_fig = gtech23_ref_demand[gtech23_ref_demand['Sector'] == 'Transportation'].copy()\n",
    "\n",
    "bau23_fig['Source'] = 'CEF 2023'\n",
    "ref_fig['Source'] = 'CANOE'\n",
    "gtech_fig['Source'] = 'gTech-IESD'\n",
    "fig_df = pd.concat([ref_fig[['Period', 'Demand (PJ)', 'Source']], bau23_fig[['Period', 'Demand (PJ)', 'Source']], gtech_fig[['Period', 'Demand (PJ)', 'Source']]]).reset_index(drop=True)\n",
    "\n",
    "fig = px.line(fig_df, x='Period', y='Demand (PJ)', color='Source',\n",
    "              template='plotly_white',\n",
    "              width=800, height=450\n",
    "              )\n",
    "\n",
    "fig.update_layout(\n",
    "    title=dict(text='Transportation total energy demand in ON by energy model',\n",
    "               x=0.5,\n",
    "               y=0.95,\n",
    "               xanchor='center',\n",
    "               yanchor='top'\n",
    "               ),\n",
    "    xaxis=dict(title='Period'),\n",
    "    yaxis=dict(title='Demand (PJ)'),\n",
    "    yaxis_title_standoff=0,\n",
    "    legend_title_text='',\n",
    "    bargap=0.1,\n",
    "    legend=dict(orientation='h',\n",
    "                yanchor='bottom',\n",
    "                y=-0.16,\n",
    "                xanchor='center',\n",
    "                x=0.5),\n",
    "    font=dict(size=14,\n",
    "              # family=\"Open Sans\"\n",
    "              ))\n",
    "\n",
    "for annotation in fig.layout.annotations:\n",
    "    annotation.text = annotation.text.split('=')[1]\n",
    "    annotation.y = -0.05  \n",
    "    annotation.yanchor = 'top' \n",
    "\n",
    "for axis in fig.layout:\n",
    "    if axis.startswith('xaxis'):\n",
    "        fig.layout[axis].title.text = ''\n",
    "\n",
    "fig.show()"
   ]
  },
  {
   "cell_type": "markdown",
   "metadata": {},
   "source": [
    "# CANOE - transportation vehicle capacity"
   ]
  },
  {
   "cell_type": "code",
   "execution_count": 15,
   "metadata": {},
   "outputs": [],
   "source": [
    "ref_trncap.columns = ref_trncap.columns.astype(str)\n",
    "periods = [col for col in ref_trncap.columns if col.isdigit()]\n",
    "params = [col for col in ref_trncap.columns if not col.isdigit()]\n",
    "ref_trncap = pd.melt(ref_trncap, id_vars=params, var_name='Period', value_name='Capacity (M units)', value_vars=periods)\n",
    "ref_trncap['Capacity (M units)'] = ref_trncap['Capacity (M units)']/1E3"
   ]
  },
  {
   "cell_type": "code",
   "execution_count": 16,
   "metadata": {},
   "outputs": [],
   "source": [
    "def veh_class_mapping(veh_class):\n",
    "    if veh_class == 'Air jet':\n",
    "        return 'Other'\n",
    "    if veh_class == 'Rail':\n",
    "        return 'Other'\n",
    "    if veh_class == 'Marine vessel':\n",
    "        return 'Other'\n",
    "    if veh_class == 'Motorcycle':\n",
    "        return 'Other'\n",
    "    if veh_class == 'Fuel use':\n",
    "        return 'Other'\n",
    "    else: return veh_class\n",
    "    \n",
    "ref_trncap['Vehicle Class'] = ref_trncap['Mode'].apply(veh_class_mapping)\n",
    "\n",
    "drivetrain_order = ['Gasoline', 'Diesel', 'CNG', 'HEV', 'PHEV', 'BEV', 'FCEV']"
   ]
  },
  {
   "cell_type": "code",
   "execution_count": 17,
   "metadata": {},
   "outputs": [
    {
     "data": {
      "application/vnd.plotly.v1+json": {
       "config": {
        "plotlyServerURL": "https://plot.ly"
       },
       "data": [
        {
         "alignmentgroup": "True",
         "hovertemplate": "Carrier=Gasoline<br>Period=2021<br>Vehicle Class=%{x}<br>Capacity (M units)=%{y}<extra></extra>",
         "legendgroup": "Gasoline",
         "marker": {
          "color": "#3366CC",
          "pattern": {
           "shape": ""
          }
         },
         "name": "Gasoline",
         "offsetgroup": "Gasoline",
         "orientation": "v",
         "showlegend": true,
         "textfont": {
          "size": 9
         },
         "textposition": "auto",
         "texttemplate": "%{y:.2f}",
         "type": "bar",
         "x": [
          "LD Car",
          "LD Truck"
         ],
         "xaxis": "x",
         "y": [
          3.6018645035621435,
          4.614941786895228
         ],
         "yaxis": "y"
        },
        {
         "alignmentgroup": "True",
         "hovertemplate": "Carrier=Gasoline<br>Period=2025<br>Vehicle Class=%{x}<br>Capacity (M units)=%{y}<extra></extra>",
         "legendgroup": "Gasoline",
         "marker": {
          "color": "#3366CC",
          "pattern": {
           "shape": ""
          }
         },
         "name": "Gasoline",
         "offsetgroup": "Gasoline",
         "orientation": "v",
         "showlegend": false,
         "textfont": {
          "size": 9
         },
         "textposition": "auto",
         "texttemplate": "%{y:.2f}",
         "type": "bar",
         "x": [
          "LD Car",
          "LD Truck"
         ],
         "xaxis": "x2",
         "y": [
          3.0153360184681546,
          4.6149429702762275
         ],
         "yaxis": "y2"
        },
        {
         "alignmentgroup": "True",
         "hovertemplate": "Carrier=Gasoline<br>Period=2030<br>Vehicle Class=%{x}<br>Capacity (M units)=%{y}<extra></extra>",
         "legendgroup": "Gasoline",
         "marker": {
          "color": "#3366CC",
          "pattern": {
           "shape": ""
          }
         },
         "name": "Gasoline",
         "offsetgroup": "Gasoline",
         "orientation": "v",
         "showlegend": false,
         "textfont": {
          "size": 9
         },
         "textposition": "auto",
         "texttemplate": "%{y:.2f}",
         "type": "bar",
         "x": [
          "LD Car",
          "LD Truck"
         ],
         "xaxis": "x3",
         "y": [
          1.6582043034327671,
          3.6000595393749135
         ],
         "yaxis": "y3"
        },
        {
         "alignmentgroup": "True",
         "hovertemplate": "Carrier=Gasoline<br>Period=2035<br>Vehicle Class=%{x}<br>Capacity (M units)=%{y}<extra></extra>",
         "legendgroup": "Gasoline",
         "marker": {
          "color": "#3366CC",
          "pattern": {
           "shape": ""
          }
         },
         "name": "Gasoline",
         "offsetgroup": "Gasoline",
         "orientation": "v",
         "showlegend": false,
         "textfont": {
          "size": 9
         },
         "textposition": "auto",
         "texttemplate": "%{y:.2f}",
         "type": "bar",
         "x": [
          "LD Car",
          "LD Truck"
         ],
         "xaxis": "x4",
         "y": [
          9.86736507541324e-7,
          2.0413875626857276
         ],
         "yaxis": "y4"
        },
        {
         "alignmentgroup": "True",
         "hovertemplate": "Carrier=Gasoline<br>Period=2040<br>Vehicle Class=%{x}<br>Capacity (M units)=%{y}<extra></extra>",
         "legendgroup": "Gasoline",
         "marker": {
          "color": "#3366CC",
          "pattern": {
           "shape": ""
          }
         },
         "name": "Gasoline",
         "offsetgroup": "Gasoline",
         "orientation": "v",
         "showlegend": false,
         "textfont": {
          "size": 9
         },
         "textposition": "auto",
         "texttemplate": "%{y:.2f}",
         "type": "bar",
         "x": [
          "LD Car",
          "LD Truck"
         ],
         "xaxis": "x5",
         "y": [
          9.55521585704387e-7,
          0.00000358499413960706
         ],
         "yaxis": "y5"
        },
        {
         "alignmentgroup": "True",
         "hovertemplate": "Carrier=Gasoline<br>Period=2045<br>Vehicle Class=%{x}<br>Capacity (M units)=%{y}<extra></extra>",
         "legendgroup": "Gasoline",
         "marker": {
          "color": "#3366CC",
          "pattern": {
           "shape": ""
          }
         },
         "name": "Gasoline",
         "offsetgroup": "Gasoline",
         "orientation": "v",
         "showlegend": false,
         "textfont": {
          "size": 9
         },
         "textposition": "auto",
         "texttemplate": "%{y:.2f}",
         "type": "bar",
         "x": [
          "LD Car",
          "LD Truck"
         ],
         "xaxis": "x6",
         "y": [
          9.762219140684618e-7,
          0.000003176467488077703
         ],
         "yaxis": "y6"
        },
        {
         "alignmentgroup": "True",
         "hovertemplate": "Carrier=Gasoline<br>Period=2050<br>Vehicle Class=%{x}<br>Capacity (M units)=%{y}<extra></extra>",
         "legendgroup": "Gasoline",
         "marker": {
          "color": "#3366CC",
          "pattern": {
           "shape": ""
          }
         },
         "name": "Gasoline",
         "offsetgroup": "Gasoline",
         "orientation": "v",
         "showlegend": false,
         "textfont": {
          "size": 9
         },
         "textposition": "auto",
         "texttemplate": "%{y:.2f}",
         "type": "bar",
         "x": [
          "LD Car",
          "LD Truck"
         ],
         "xaxis": "x7",
         "y": [
          0.000001023442336104663,
          0.000003022201259668076
         ],
         "yaxis": "y7"
        },
        {
         "alignmentgroup": "True",
         "hovertemplate": "Carrier=Diesel<br>Period=2021<br>Vehicle Class=%{x}<br>Capacity (M units)=%{y}<extra></extra>",
         "legendgroup": "Diesel",
         "marker": {
          "color": "#DC3912",
          "pattern": {
           "shape": ""
          }
         },
         "name": "Diesel",
         "offsetgroup": "Diesel",
         "orientation": "v",
         "showlegend": true,
         "textfont": {
          "size": 9
         },
         "textposition": "auto",
         "texttemplate": "%{y:.2f}",
         "type": "bar",
         "x": [
          "LD Car",
          "LD Truck"
         ],
         "xaxis": "x",
         "y": [
          0.06920502259676319,
          0.21860044971504944
         ],
         "yaxis": "y"
        },
        {
         "alignmentgroup": "True",
         "hovertemplate": "Carrier=Diesel<br>Period=2025<br>Vehicle Class=%{x}<br>Capacity (M units)=%{y}<extra></extra>",
         "legendgroup": "Diesel",
         "marker": {
          "color": "#DC3912",
          "pattern": {
           "shape": ""
          }
         },
         "name": "Diesel",
         "offsetgroup": "Diesel",
         "orientation": "v",
         "showlegend": false,
         "textfont": {
          "size": 9
         },
         "textposition": "auto",
         "texttemplate": "%{y:.2f}",
         "type": "bar",
         "x": [
          "LD Car",
          "LD Truck"
         ],
         "xaxis": "x2",
         "y": [
          0.043962321004963834,
          0.21860165985247218
         ],
         "yaxis": "y2"
        },
        {
         "alignmentgroup": "True",
         "hovertemplate": "Carrier=Diesel<br>Period=2030<br>Vehicle Class=%{x}<br>Capacity (M units)=%{y}<extra></extra>",
         "legendgroup": "Diesel",
         "marker": {
          "color": "#DC3912",
          "pattern": {
           "shape": ""
          }
         },
         "name": "Diesel",
         "offsetgroup": "Diesel",
         "orientation": "v",
         "showlegend": false,
         "textfont": {
          "size": 9
         },
         "textposition": "auto",
         "texttemplate": "%{y:.2f}",
         "type": "bar",
         "x": [
          "LD Car",
          "LD Truck"
         ],
         "xaxis": "x3",
         "y": [
          0.003816032802669643,
          0.17924217270940773
         ],
         "yaxis": "y3"
        },
        {
         "alignmentgroup": "True",
         "hovertemplate": "Carrier=Diesel<br>Period=2035<br>Vehicle Class=%{x}<br>Capacity (M units)=%{y}<extra></extra>",
         "legendgroup": "Diesel",
         "marker": {
          "color": "#DC3912",
          "pattern": {
           "shape": ""
          }
         },
         "name": "Diesel",
         "offsetgroup": "Diesel",
         "orientation": "v",
         "showlegend": false,
         "textfont": {
          "size": 9
         },
         "textposition": "auto",
         "texttemplate": "%{y:.2f}",
         "type": "bar",
         "x": [
          "LD Car",
          "LD Truck"
         ],
         "xaxis": "x4",
         "y": [
          0.0000010383870032842071,
          0.10406940224112392
         ],
         "yaxis": "y4"
        },
        {
         "alignmentgroup": "True",
         "hovertemplate": "Carrier=Diesel<br>Period=2040<br>Vehicle Class=%{x}<br>Capacity (M units)=%{y}<extra></extra>",
         "legendgroup": "Diesel",
         "marker": {
          "color": "#DC3912",
          "pattern": {
           "shape": ""
          }
         },
         "name": "Diesel",
         "offsetgroup": "Diesel",
         "orientation": "v",
         "showlegend": false,
         "textfont": {
          "size": 9
         },
         "textposition": "auto",
         "texttemplate": "%{y:.2f}",
         "type": "bar",
         "x": [
          "LD Car",
          "LD Truck"
         ],
         "xaxis": "x5",
         "y": [
          0.000001033712752767229,
          0.00000384169977733684
         ],
         "yaxis": "y5"
        },
        {
         "alignmentgroup": "True",
         "hovertemplate": "Carrier=Diesel<br>Period=2045<br>Vehicle Class=%{x}<br>Capacity (M units)=%{y}<extra></extra>",
         "legendgroup": "Diesel",
         "marker": {
          "color": "#DC3912",
          "pattern": {
           "shape": ""
          }
         },
         "name": "Diesel",
         "offsetgroup": "Diesel",
         "orientation": "v",
         "showlegend": false,
         "textfont": {
          "size": 9
         },
         "textposition": "auto",
         "texttemplate": "%{y:.2f}",
         "type": "bar",
         "x": [
          "LD Car",
          "LD Truck"
         ],
         "xaxis": "x6",
         "y": [
          0.000001039436102264756,
          0.000003427742657487178
         ],
         "yaxis": "y6"
        },
        {
         "alignmentgroup": "True",
         "hovertemplate": "Carrier=Diesel<br>Period=2050<br>Vehicle Class=%{x}<br>Capacity (M units)=%{y}<extra></extra>",
         "legendgroup": "Diesel",
         "marker": {
          "color": "#DC3912",
          "pattern": {
           "shape": ""
          }
         },
         "name": "Diesel",
         "offsetgroup": "Diesel",
         "orientation": "v",
         "showlegend": false,
         "textfont": {
          "size": 9
         },
         "textposition": "auto",
         "texttemplate": "%{y:.2f}",
         "type": "bar",
         "x": [
          "LD Car",
          "LD Truck"
         ],
         "xaxis": "x7",
         "y": [
          0.000001058191376662291,
          0.000003245741147644745
         ],
         "yaxis": "y7"
        },
        {
         "alignmentgroup": "True",
         "hovertemplate": "Carrier=CNG<br>Period=2021<br>Vehicle Class=%{x}<br>Capacity (M units)=%{y}<extra></extra>",
         "legendgroup": "CNG",
         "marker": {
          "color": "#FF9900",
          "pattern": {
           "shape": ""
          }
         },
         "name": "CNG",
         "offsetgroup": "CNG",
         "orientation": "v",
         "showlegend": true,
         "textfont": {
          "size": 9
         },
         "textposition": "auto",
         "texttemplate": "%{y:.2f}",
         "type": "bar",
         "x": [
          "LD Car",
          "LD Truck"
         ],
         "xaxis": "x",
         "y": [
          4.362201604886074e-7,
          0.000005774072136938058
         ],
         "yaxis": "y"
        },
        {
         "alignmentgroup": "True",
         "hovertemplate": "Carrier=CNG<br>Period=2025<br>Vehicle Class=%{x}<br>Capacity (M units)=%{y}<extra></extra>",
         "legendgroup": "CNG",
         "marker": {
          "color": "#FF9900",
          "pattern": {
           "shape": ""
          }
         },
         "name": "CNG",
         "offsetgroup": "CNG",
         "orientation": "v",
         "showlegend": false,
         "textfont": {
          "size": 9
         },
         "textposition": "auto",
         "texttemplate": "%{y:.2f}",
         "type": "bar",
         "x": [
          "LD Car",
          "LD Truck"
         ],
         "xaxis": "x2",
         "y": [
          7.827227032372883e-7,
          0.000008013303987568783
         ],
         "yaxis": "y2"
        },
        {
         "alignmentgroup": "True",
         "hovertemplate": "Carrier=CNG<br>Period=2030<br>Vehicle Class=%{x}<br>Capacity (M units)=%{y}<extra></extra>",
         "legendgroup": "CNG",
         "marker": {
          "color": "#FF9900",
          "pattern": {
           "shape": ""
          }
         },
         "name": "CNG",
         "offsetgroup": "CNG",
         "orientation": "v",
         "showlegend": false,
         "textfont": {
          "size": 9
         },
         "textposition": "auto",
         "texttemplate": "%{y:.2f}",
         "type": "bar",
         "x": [
          "LD Car",
          "LD Truck"
         ],
         "xaxis": "x3",
         "y": [
          0.000001131275907198481,
          0.000009706937550251452
         ],
         "yaxis": "y3"
        },
        {
         "alignmentgroup": "True",
         "hovertemplate": "Carrier=CNG<br>Period=2035<br>Vehicle Class=%{x}<br>Capacity (M units)=%{y}<extra></extra>",
         "legendgroup": "CNG",
         "marker": {
          "color": "#FF9900",
          "pattern": {
           "shape": ""
          }
         },
         "name": "CNG",
         "offsetgroup": "CNG",
         "orientation": "v",
         "showlegend": false,
         "textfont": {
          "size": 9
         },
         "textposition": "auto",
         "texttemplate": "%{y:.2f}",
         "type": "bar",
         "x": [
          "LD Car",
          "LD Truck"
         ],
         "xaxis": "x4",
         "y": [
          0.000001051220710631855,
          0.00001135929084384913
         ],
         "yaxis": "y4"
        },
        {
         "alignmentgroup": "True",
         "hovertemplate": "Carrier=CNG<br>Period=2040<br>Vehicle Class=%{x}<br>Capacity (M units)=%{y}<extra></extra>",
         "legendgroup": "CNG",
         "marker": {
          "color": "#FF9900",
          "pattern": {
           "shape": ""
          }
         },
         "name": "CNG",
         "offsetgroup": "CNG",
         "orientation": "v",
         "showlegend": false,
         "textfont": {
          "size": 9
         },
         "textposition": "auto",
         "texttemplate": "%{y:.2f}",
         "type": "bar",
         "x": [
          "LD Car",
          "LD Truck"
         ],
         "xaxis": "x5",
         "y": [
          0.0000011195302834685002,
          0.000006913957642879452
         ],
         "yaxis": "y5"
        },
        {
         "alignmentgroup": "True",
         "hovertemplate": "Carrier=CNG<br>Period=2045<br>Vehicle Class=%{x}<br>Capacity (M units)=%{y}<extra></extra>",
         "legendgroup": "CNG",
         "marker": {
          "color": "#FF9900",
          "pattern": {
           "shape": ""
          }
         },
         "name": "CNG",
         "offsetgroup": "CNG",
         "orientation": "v",
         "showlegend": false,
         "textfont": {
          "size": 9
         },
         "textposition": "auto",
         "texttemplate": "%{y:.2f}",
         "type": "bar",
         "x": [
          "LD Car",
          "LD Truck"
         ],
         "xaxis": "x6",
         "y": [
          0.0000011505610864454389,
          0.000006007450517564552
         ],
         "yaxis": "y6"
        },
        {
         "alignmentgroup": "True",
         "hovertemplate": "Carrier=CNG<br>Period=2050<br>Vehicle Class=%{x}<br>Capacity (M units)=%{y}<extra></extra>",
         "legendgroup": "CNG",
         "marker": {
          "color": "#FF9900",
          "pattern": {
           "shape": ""
          }
         },
         "name": "CNG",
         "offsetgroup": "CNG",
         "orientation": "v",
         "showlegend": false,
         "textfont": {
          "size": 9
         },
         "textposition": "auto",
         "texttemplate": "%{y:.2f}",
         "type": "bar",
         "x": [
          "LD Car",
          "LD Truck"
         ],
         "xaxis": "x7",
         "y": [
          0.000001179284039902593,
          0.000005626103407594135
         ],
         "yaxis": "y7"
        },
        {
         "alignmentgroup": "True",
         "hovertemplate": "Carrier=HEV<br>Period=2021<br>Vehicle Class=%{x}<br>Capacity (M units)=%{y}<extra></extra>",
         "legendgroup": "HEV",
         "marker": {
          "color": "#109618",
          "pattern": {
           "shape": ""
          }
         },
         "name": "HEV",
         "offsetgroup": "HEV",
         "orientation": "v",
         "showlegend": true,
         "textfont": {
          "size": 9
         },
         "textposition": "auto",
         "texttemplate": "%{y:.2f}",
         "type": "bar",
         "x": [
          "LD Car",
          "LD Truck"
         ],
         "xaxis": "x",
         "y": [
          0.07821917361623451,
          0.41814580324459344
         ],
         "yaxis": "y"
        },
        {
         "alignmentgroup": "True",
         "hovertemplate": "Carrier=HEV<br>Period=2025<br>Vehicle Class=%{x}<br>Capacity (M units)=%{y}<extra></extra>",
         "legendgroup": "HEV",
         "marker": {
          "color": "#109618",
          "pattern": {
           "shape": ""
          }
         },
         "name": "HEV",
         "offsetgroup": "HEV",
         "orientation": "v",
         "showlegend": false,
         "textfont": {
          "size": 9
         },
         "textposition": "auto",
         "texttemplate": "%{y:.2f}",
         "type": "bar",
         "x": [
          "LD Car",
          "LD Truck"
         ],
         "xaxis": "x2",
         "y": [
          0.0782201936252888,
          0.4369744458492962
         ],
         "yaxis": "y2"
        },
        {
         "alignmentgroup": "True",
         "hovertemplate": "Carrier=HEV<br>Period=2030<br>Vehicle Class=%{x}<br>Capacity (M units)=%{y}<extra></extra>",
         "legendgroup": "HEV",
         "marker": {
          "color": "#109618",
          "pattern": {
           "shape": ""
          }
         },
         "name": "HEV",
         "offsetgroup": "HEV",
         "orientation": "v",
         "showlegend": false,
         "textfont": {
          "size": 9
         },
         "textposition": "auto",
         "texttemplate": "%{y:.2f}",
         "type": "bar",
         "x": [
          "LD Car",
          "LD Truck"
         ],
         "xaxis": "x3",
         "y": [
          0.04760896822233722,
          0.4588721165392789
         ],
         "yaxis": "y3"
        },
        {
         "alignmentgroup": "True",
         "hovertemplate": "Carrier=HEV<br>Period=2035<br>Vehicle Class=%{x}<br>Capacity (M units)=%{y}<extra></extra>",
         "legendgroup": "HEV",
         "marker": {
          "color": "#109618",
          "pattern": {
           "shape": ""
          }
         },
         "name": "HEV",
         "offsetgroup": "HEV",
         "orientation": "v",
         "showlegend": false,
         "textfont": {
          "size": 9
         },
         "textposition": "auto",
         "texttemplate": "%{y:.2f}",
         "type": "bar",
         "x": [
          "LD Car",
          "LD Truck"
         ],
         "xaxis": "x4",
         "y": [
          0.0000024096873578921143,
          0.4662453985596134
         ],
         "yaxis": "y4"
        },
        {
         "alignmentgroup": "True",
         "hovertemplate": "Carrier=HEV<br>Period=2040<br>Vehicle Class=%{x}<br>Capacity (M units)=%{y}<extra></extra>",
         "legendgroup": "HEV",
         "marker": {
          "color": "#109618",
          "pattern": {
           "shape": ""
          }
         },
         "name": "HEV",
         "offsetgroup": "HEV",
         "orientation": "v",
         "showlegend": false,
         "textfont": {
          "size": 9
         },
         "textposition": "auto",
         "texttemplate": "%{y:.2f}",
         "type": "bar",
         "x": [
          "LD Car",
          "LD Truck"
         ],
         "xaxis": "x5",
         "y": [
          0.000002118609142762058,
          0.053626951973913886
         ],
         "yaxis": "y5"
        },
        {
         "alignmentgroup": "True",
         "hovertemplate": "Carrier=HEV<br>Period=2045<br>Vehicle Class=%{x}<br>Capacity (M units)=%{y}<extra></extra>",
         "legendgroup": "HEV",
         "marker": {
          "color": "#109618",
          "pattern": {
           "shape": ""
          }
         },
         "name": "HEV",
         "offsetgroup": "HEV",
         "orientation": "v",
         "showlegend": false,
         "textfont": {
          "size": 9
         },
         "textposition": "auto",
         "texttemplate": "%{y:.2f}",
         "type": "bar",
         "x": [
          "LD Car",
          "LD Truck"
         ],
         "xaxis": "x6",
         "y": [
          0.000002247306247015838,
          0.035854967555195474
         ],
         "yaxis": "y6"
        },
        {
         "alignmentgroup": "True",
         "hovertemplate": "Carrier=HEV<br>Period=2050<br>Vehicle Class=%{x}<br>Capacity (M units)=%{y}<extra></extra>",
         "legendgroup": "HEV",
         "marker": {
          "color": "#109618",
          "pattern": {
           "shape": ""
          }
         },
         "name": "HEV",
         "offsetgroup": "HEV",
         "orientation": "v",
         "showlegend": false,
         "textfont": {
          "size": 9
         },
         "textposition": "auto",
         "texttemplate": "%{y:.2f}",
         "type": "bar",
         "x": [
          "LD Car",
          "LD Truck"
         ],
         "xaxis": "x7",
         "y": [
          0.000002441568295596167,
          0.014305156071176293
         ],
         "yaxis": "y7"
        },
        {
         "alignmentgroup": "True",
         "hovertemplate": "Carrier=PHEV<br>Period=2021<br>Vehicle Class=%{x}<br>Capacity (M units)=%{y}<extra></extra>",
         "legendgroup": "PHEV",
         "marker": {
          "color": "#990099",
          "pattern": {
           "shape": ""
          }
         },
         "name": "PHEV",
         "offsetgroup": "PHEV",
         "orientation": "v",
         "showlegend": true,
         "textfont": {
          "size": 9
         },
         "textposition": "auto",
         "texttemplate": "%{y:.2f}",
         "type": "bar",
         "x": [
          "LD Car",
          "LD Truck"
         ],
         "xaxis": "x",
         "y": [
          0.025423468609334587,
          0.005409539099479235
         ],
         "yaxis": "y"
        },
        {
         "alignmentgroup": "True",
         "hovertemplate": "Carrier=PHEV<br>Period=2025<br>Vehicle Class=%{x}<br>Capacity (M units)=%{y}<extra></extra>",
         "legendgroup": "PHEV",
         "marker": {
          "color": "#990099",
          "pattern": {
           "shape": ""
          }
         },
         "name": "PHEV",
         "offsetgroup": "PHEV",
         "orientation": "v",
         "showlegend": false,
         "textfont": {
          "size": 9
         },
         "textposition": "auto",
         "texttemplate": "%{y:.2f}",
         "type": "bar",
         "x": [
          "LD Car",
          "LD Truck"
         ],
         "xaxis": "x2",
         "y": [
          0.025424194086423543,
          0.005412595756605143
         ],
         "yaxis": "y2"
        },
        {
         "alignmentgroup": "True",
         "hovertemplate": "Carrier=PHEV<br>Period=2030<br>Vehicle Class=%{x}<br>Capacity (M units)=%{y}<extra></extra>",
         "legendgroup": "PHEV",
         "marker": {
          "color": "#990099",
          "pattern": {
           "shape": ""
          }
         },
         "name": "PHEV",
         "offsetgroup": "PHEV",
         "orientation": "v",
         "showlegend": false,
         "textfont": {
          "size": 9
         },
         "textposition": "auto",
         "texttemplate": "%{y:.2f}",
         "type": "bar",
         "x": [
          "LD Car",
          "LD Truck"
         ],
         "xaxis": "x3",
         "y": [
          0.022744593042574677,
          0.005415414013138242
         ],
         "yaxis": "y3"
        },
        {
         "alignmentgroup": "True",
         "hovertemplate": "Carrier=PHEV<br>Period=2035<br>Vehicle Class=%{x}<br>Capacity (M units)=%{y}<extra></extra>",
         "legendgroup": "PHEV",
         "marker": {
          "color": "#990099",
          "pattern": {
           "shape": ""
          }
         },
         "name": "PHEV",
         "offsetgroup": "PHEV",
         "orientation": "v",
         "showlegend": false,
         "textfont": {
          "size": 9
         },
         "textposition": "auto",
         "texttemplate": "%{y:.2f}",
         "type": "bar",
         "x": [
          "LD Car",
          "LD Truck"
         ],
         "xaxis": "x4",
         "y": [
          0.0000023610342797870442,
          0.005336218593468714
         ],
         "yaxis": "y4"
        },
        {
         "alignmentgroup": "True",
         "hovertemplate": "Carrier=PHEV<br>Period=2040<br>Vehicle Class=%{x}<br>Capacity (M units)=%{y}<extra></extra>",
         "legendgroup": "PHEV",
         "marker": {
          "color": "#990099",
          "pattern": {
           "shape": ""
          }
         },
         "name": "PHEV",
         "offsetgroup": "PHEV",
         "orientation": "v",
         "showlegend": false,
         "textfont": {
          "size": 9
         },
         "textposition": "auto",
         "texttemplate": "%{y:.2f}",
         "type": "bar",
         "x": [
          "LD Car",
          "LD Truck"
         ],
         "xaxis": "x5",
         "y": [
          0.0000025619571681653415,
          0.000010720073445843868
         ],
         "yaxis": "y5"
        },
        {
         "alignmentgroup": "True",
         "hovertemplate": "Carrier=PHEV<br>Period=2045<br>Vehicle Class=%{x}<br>Capacity (M units)=%{y}<extra></extra>",
         "legendgroup": "PHEV",
         "marker": {
          "color": "#990099",
          "pattern": {
           "shape": ""
          }
         },
         "name": "PHEV",
         "offsetgroup": "PHEV",
         "orientation": "v",
         "showlegend": false,
         "textfont": {
          "size": 9
         },
         "textposition": "auto",
         "texttemplate": "%{y:.2f}",
         "type": "bar",
         "x": [
          "LD Car",
          "LD Truck"
         ],
         "xaxis": "x6",
         "y": [
          0.0000025091574751092516,
          0.000009547143386702263
         ],
         "yaxis": "y6"
        },
        {
         "alignmentgroup": "True",
         "hovertemplate": "Carrier=PHEV<br>Period=2050<br>Vehicle Class=%{x}<br>Capacity (M units)=%{y}<extra></extra>",
         "legendgroup": "PHEV",
         "marker": {
          "color": "#990099",
          "pattern": {
           "shape": ""
          }
         },
         "name": "PHEV",
         "offsetgroup": "PHEV",
         "orientation": "v",
         "showlegend": false,
         "textfont": {
          "size": 9
         },
         "textposition": "auto",
         "texttemplate": "%{y:.2f}",
         "type": "bar",
         "x": [
          "LD Car",
          "LD Truck"
         ],
         "xaxis": "x7",
         "y": [
          0.000002489730894105387,
          0.000008693531681738807
         ],
         "yaxis": "y7"
        },
        {
         "alignmentgroup": "True",
         "hovertemplate": "Carrier=BEV<br>Period=2021<br>Vehicle Class=%{x}<br>Capacity (M units)=%{y}<extra></extra>",
         "legendgroup": "BEV",
         "marker": {
          "color": "#0099C6",
          "pattern": {
           "shape": ""
          }
         },
         "name": "BEV",
         "offsetgroup": "BEV",
         "orientation": "v",
         "showlegend": true,
         "textfont": {
          "size": 9
         },
         "textposition": "auto",
         "texttemplate": "%{y:.2f}",
         "type": "bar",
         "x": [
          "LD Car",
          "LD Truck"
         ],
         "xaxis": "x",
         "y": [
          0.49676766577281867,
          0.00450085089420958
         ],
         "yaxis": "y"
        },
        {
         "alignmentgroup": "True",
         "hovertemplate": "Carrier=BEV<br>Period=2025<br>Vehicle Class=%{x}<br>Capacity (M units)=%{y}<extra></extra>",
         "legendgroup": "BEV",
         "marker": {
          "color": "#0099C6",
          "pattern": {
           "shape": ""
          }
         },
         "name": "BEV",
         "offsetgroup": "BEV",
         "orientation": "v",
         "showlegend": false,
         "textfont": {
          "size": 9
         },
         "textposition": "auto",
         "texttemplate": "%{y:.2f}",
         "type": "bar",
         "x": [
          "LD Car",
          "LD Truck"
         ],
         "xaxis": "x2",
         "y": [
          2.481122660648847,
          1.686681918040057
         ],
         "yaxis": "y2"
        },
        {
         "alignmentgroup": "True",
         "hovertemplate": "Carrier=BEV<br>Period=2030<br>Vehicle Class=%{x}<br>Capacity (M units)=%{y}<extra></extra>",
         "legendgroup": "BEV",
         "marker": {
          "color": "#0099C6",
          "pattern": {
           "shape": ""
          }
         },
         "name": "BEV",
         "offsetgroup": "BEV",
         "orientation": "v",
         "showlegend": false,
         "textfont": {
          "size": 9
         },
         "textposition": "auto",
         "texttemplate": "%{y:.2f}",
         "type": "bar",
         "x": [
          "LD Car",
          "LD Truck"
         ],
         "xaxis": "x3",
         "y": [
          3.9694090893805205,
          3.2662642351857634
         ],
         "yaxis": "y3"
        },
        {
         "alignmentgroup": "True",
         "hovertemplate": "Carrier=BEV<br>Period=2035<br>Vehicle Class=%{x}<br>Capacity (M units)=%{y}<extra></extra>",
         "legendgroup": "BEV",
         "marker": {
          "color": "#0099C6",
          "pattern": {
           "shape": ""
          }
         },
         "name": "BEV",
         "offsetgroup": "BEV",
         "orientation": "v",
         "showlegend": false,
         "textfont": {
          "size": 9
         },
         "textposition": "auto",
         "texttemplate": "%{y:.2f}",
         "type": "bar",
         "x": [
          "LD Car",
          "LD Truck"
         ],
         "xaxis": "x4",
         "y": [
          6.157382069591839,
          6.037928531636132
         ],
         "yaxis": "y4"
        },
        {
         "alignmentgroup": "True",
         "hovertemplate": "Carrier=BEV<br>Period=2040<br>Vehicle Class=%{x}<br>Capacity (M units)=%{y}<extra></extra>",
         "legendgroup": "BEV",
         "marker": {
          "color": "#0099C6",
          "pattern": {
           "shape": ""
          }
         },
         "name": "BEV",
         "offsetgroup": "BEV",
         "orientation": "v",
         "showlegend": false,
         "textfont": {
          "size": 9
         },
         "textposition": "auto",
         "texttemplate": "%{y:.2f}",
         "type": "bar",
         "x": [
          "LD Car",
          "LD Truck"
         ],
         "xaxis": "x5",
         "y": [
          6.473900142647625,
          8.466663465513848
         ],
         "yaxis": "y5"
        },
        {
         "alignmentgroup": "True",
         "hovertemplate": "Carrier=BEV<br>Period=2045<br>Vehicle Class=%{x}<br>Capacity (M units)=%{y}<extra></extra>",
         "legendgroup": "BEV",
         "marker": {
          "color": "#0099C6",
          "pattern": {
           "shape": ""
          }
         },
         "name": "BEV",
         "offsetgroup": "BEV",
         "orientation": "v",
         "showlegend": false,
         "textfont": {
          "size": 9
         },
         "textposition": "auto",
         "texttemplate": "%{y:.2f}",
         "type": "bar",
         "x": [
          "LD Car",
          "LD Truck"
         ],
         "xaxis": "x6",
         "y": [
          7.120641520818617,
          8.878871461613425
         ],
         "yaxis": "y6"
        },
        {
         "alignmentgroup": "True",
         "hovertemplate": "Carrier=BEV<br>Period=2050<br>Vehicle Class=%{x}<br>Capacity (M units)=%{y}<extra></extra>",
         "legendgroup": "BEV",
         "marker": {
          "color": "#0099C6",
          "pattern": {
           "shape": ""
          }
         },
         "name": "BEV",
         "offsetgroup": "BEV",
         "orientation": "v",
         "showlegend": false,
         "textfont": {
          "size": 9
         },
         "textposition": "auto",
         "texttemplate": "%{y:.2f}",
         "type": "bar",
         "x": [
          "LD Car",
          "LD Truck"
         ],
         "xaxis": "x7",
         "y": [
          7.5107447766525075,
          10.385632651610779
         ],
         "yaxis": "y7"
        },
        {
         "alignmentgroup": "True",
         "hovertemplate": "Carrier=FCEV<br>Period=2021<br>Vehicle Class=%{x}<br>Capacity (M units)=%{y}<extra></extra>",
         "legendgroup": "FCEV",
         "marker": {
          "color": "#DD4477",
          "pattern": {
           "shape": ""
          }
         },
         "name": "FCEV",
         "offsetgroup": "FCEV",
         "orientation": "v",
         "showlegend": true,
         "textfont": {
          "size": 9
         },
         "textposition": "auto",
         "texttemplate": "%{y:.2f}",
         "type": "bar",
         "x": [
          "LD Car",
          "LD Truck"
         ],
         "xaxis": "x",
         "y": [
          2.923267035581274e-7,
          7.759960511517107e-7
         ],
         "yaxis": "y"
        },
        {
         "alignmentgroup": "True",
         "hovertemplate": "Carrier=FCEV<br>Period=2025<br>Vehicle Class=%{x}<br>Capacity (M units)=%{y}<extra></extra>",
         "legendgroup": "FCEV",
         "marker": {
          "color": "#DD4477",
          "pattern": {
           "shape": ""
          }
         },
         "name": "FCEV",
         "offsetgroup": "FCEV",
         "orientation": "v",
         "showlegend": false,
         "textfont": {
          "size": 9
         },
         "textposition": "auto",
         "texttemplate": "%{y:.2f}",
         "type": "bar",
         "x": [
          "LD Car",
          "LD Truck"
         ],
         "xaxis": "x2",
         "y": [
          5.984724102336513e-7,
          0.0000015167849123252237
         ],
         "yaxis": "y2"
        },
        {
         "alignmentgroup": "True",
         "hovertemplate": "Carrier=FCEV<br>Period=2030<br>Vehicle Class=%{x}<br>Capacity (M units)=%{y}<extra></extra>",
         "legendgroup": "FCEV",
         "marker": {
          "color": "#DD4477",
          "pattern": {
           "shape": ""
          }
         },
         "name": "FCEV",
         "offsetgroup": "FCEV",
         "orientation": "v",
         "showlegend": false,
         "textfont": {
          "size": 9
         },
         "textposition": "auto",
         "texttemplate": "%{y:.2f}",
         "type": "bar",
         "x": [
          "LD Car",
          "LD Truck"
         ],
         "xaxis": "x3",
         "y": [
          0.000001141162380446123,
          0.000002676087752295117
         ],
         "yaxis": "y3"
        },
        {
         "alignmentgroup": "True",
         "hovertemplate": "Carrier=FCEV<br>Period=2035<br>Vehicle Class=%{x}<br>Capacity (M units)=%{y}<extra></extra>",
         "legendgroup": "FCEV",
         "marker": {
          "color": "#DD4477",
          "pattern": {
           "shape": ""
          }
         },
         "name": "FCEV",
         "offsetgroup": "FCEV",
         "orientation": "v",
         "showlegend": false,
         "textfont": {
          "size": 9
         },
         "textposition": "auto",
         "texttemplate": "%{y:.2f}",
         "type": "bar",
         "x": [
          "LD Car",
          "LD Truck"
         ],
         "xaxis": "x4",
         "y": [
          0.00000148923144569628,
          0.000003994128863862358
         ],
         "yaxis": "y4"
        },
        {
         "alignmentgroup": "True",
         "hovertemplate": "Carrier=FCEV<br>Period=2040<br>Vehicle Class=%{x}<br>Capacity (M units)=%{y}<extra></extra>",
         "legendgroup": "FCEV",
         "marker": {
          "color": "#DD4477",
          "pattern": {
           "shape": ""
          }
         },
         "name": "FCEV",
         "offsetgroup": "FCEV",
         "orientation": "v",
         "showlegend": false,
         "textfont": {
          "size": 9
         },
         "textposition": "auto",
         "texttemplate": "%{y:.2f}",
         "type": "bar",
         "x": [
          "LD Car",
          "LD Truck"
         ],
         "xaxis": "x5",
         "y": [
          0.000001934374020907114,
          0.00000434195394317807
         ],
         "yaxis": "y5"
        },
        {
         "alignmentgroup": "True",
         "hovertemplate": "Carrier=FCEV<br>Period=2045<br>Vehicle Class=%{x}<br>Capacity (M units)=%{y}<extra></extra>",
         "legendgroup": "FCEV",
         "marker": {
          "color": "#DD4477",
          "pattern": {
           "shape": ""
          }
         },
         "name": "FCEV",
         "offsetgroup": "FCEV",
         "orientation": "v",
         "showlegend": false,
         "textfont": {
          "size": 9
         },
         "textposition": "auto",
         "texttemplate": "%{y:.2f}",
         "type": "bar",
         "x": [
          "LD Car",
          "LD Truck"
         ],
         "xaxis": "x6",
         "y": [
          0.000002390926870401535,
          0.000005044433022416394
         ],
         "yaxis": "y6"
        },
        {
         "alignmentgroup": "True",
         "hovertemplate": "Carrier=FCEV<br>Period=2050<br>Vehicle Class=%{x}<br>Capacity (M units)=%{y}<extra></extra>",
         "legendgroup": "FCEV",
         "marker": {
          "color": "#DD4477",
          "pattern": {
           "shape": ""
          }
         },
         "name": "FCEV",
         "offsetgroup": "FCEV",
         "orientation": "v",
         "showlegend": false,
         "textfont": {
          "size": 9
         },
         "textposition": "auto",
         "texttemplate": "%{y:.2f}",
         "type": "bar",
         "x": [
          "LD Car",
          "LD Truck"
         ],
         "xaxis": "x7",
         "y": [
          0.000002849259407788332,
          0.000005635720096684579
         ],
         "yaxis": "y7"
        }
       ],
       "layout": {
        "annotations": [
         {
          "font": {},
          "showarrow": false,
          "text": "2021",
          "x": 0.06285714285714285,
          "xanchor": "center",
          "xref": "paper",
          "y": -0.08,
          "yanchor": "top",
          "yref": "paper"
         },
         {
          "font": {},
          "showarrow": false,
          "text": "2025",
          "x": 0.20857142857142852,
          "xanchor": "center",
          "xref": "paper",
          "y": -0.08,
          "yanchor": "top",
          "yref": "paper"
         },
         {
          "font": {},
          "showarrow": false,
          "text": "2030",
          "x": 0.3542857142857142,
          "xanchor": "center",
          "xref": "paper",
          "y": -0.08,
          "yanchor": "top",
          "yref": "paper"
         },
         {
          "font": {},
          "showarrow": false,
          "text": "2035",
          "x": 0.5,
          "xanchor": "center",
          "xref": "paper",
          "y": -0.08,
          "yanchor": "top",
          "yref": "paper"
         },
         {
          "font": {},
          "showarrow": false,
          "text": "2040",
          "x": 0.6457142857142856,
          "xanchor": "center",
          "xref": "paper",
          "y": -0.08,
          "yanchor": "top",
          "yref": "paper"
         },
         {
          "font": {},
          "showarrow": false,
          "text": "2045",
          "x": 0.7914285714285713,
          "xanchor": "center",
          "xref": "paper",
          "y": -0.08,
          "yanchor": "top",
          "yref": "paper"
         },
         {
          "font": {},
          "showarrow": false,
          "text": "2050",
          "x": 0.937142857142857,
          "xanchor": "center",
          "xref": "paper",
          "y": -0.08,
          "yanchor": "top",
          "yref": "paper"
         }
        ],
        "bargap": 0.1,
        "barmode": "stack",
        "font": {
         "size": 14
        },
        "height": 650,
        "legend": {
         "orientation": "h",
         "title": {
          "text": ""
         },
         "tracegroupgap": 0,
         "x": 0.5,
         "xanchor": "center",
         "y": 1.03,
         "yanchor": "top"
        },
        "margin": {
         "t": 60
        },
        "template": {
         "data": {
          "bar": [
           {
            "error_x": {
             "color": "#2a3f5f"
            },
            "error_y": {
             "color": "#2a3f5f"
            },
            "marker": {
             "line": {
              "color": "white",
              "width": 0.5
             },
             "pattern": {
              "fillmode": "overlay",
              "size": 10,
              "solidity": 0.2
             }
            },
            "type": "bar"
           }
          ],
          "barpolar": [
           {
            "marker": {
             "line": {
              "color": "white",
              "width": 0.5
             },
             "pattern": {
              "fillmode": "overlay",
              "size": 10,
              "solidity": 0.2
             }
            },
            "type": "barpolar"
           }
          ],
          "carpet": [
           {
            "aaxis": {
             "endlinecolor": "#2a3f5f",
             "gridcolor": "#C8D4E3",
             "linecolor": "#C8D4E3",
             "minorgridcolor": "#C8D4E3",
             "startlinecolor": "#2a3f5f"
            },
            "baxis": {
             "endlinecolor": "#2a3f5f",
             "gridcolor": "#C8D4E3",
             "linecolor": "#C8D4E3",
             "minorgridcolor": "#C8D4E3",
             "startlinecolor": "#2a3f5f"
            },
            "type": "carpet"
           }
          ],
          "choropleth": [
           {
            "colorbar": {
             "outlinewidth": 0,
             "ticks": ""
            },
            "type": "choropleth"
           }
          ],
          "contour": [
           {
            "colorbar": {
             "outlinewidth": 0,
             "ticks": ""
            },
            "colorscale": [
             [
              0,
              "#0d0887"
             ],
             [
              0.1111111111111111,
              "#46039f"
             ],
             [
              0.2222222222222222,
              "#7201a8"
             ],
             [
              0.3333333333333333,
              "#9c179e"
             ],
             [
              0.4444444444444444,
              "#bd3786"
             ],
             [
              0.5555555555555556,
              "#d8576b"
             ],
             [
              0.6666666666666666,
              "#ed7953"
             ],
             [
              0.7777777777777778,
              "#fb9f3a"
             ],
             [
              0.8888888888888888,
              "#fdca26"
             ],
             [
              1,
              "#f0f921"
             ]
            ],
            "type": "contour"
           }
          ],
          "contourcarpet": [
           {
            "colorbar": {
             "outlinewidth": 0,
             "ticks": ""
            },
            "type": "contourcarpet"
           }
          ],
          "heatmap": [
           {
            "colorbar": {
             "outlinewidth": 0,
             "ticks": ""
            },
            "colorscale": [
             [
              0,
              "#0d0887"
             ],
             [
              0.1111111111111111,
              "#46039f"
             ],
             [
              0.2222222222222222,
              "#7201a8"
             ],
             [
              0.3333333333333333,
              "#9c179e"
             ],
             [
              0.4444444444444444,
              "#bd3786"
             ],
             [
              0.5555555555555556,
              "#d8576b"
             ],
             [
              0.6666666666666666,
              "#ed7953"
             ],
             [
              0.7777777777777778,
              "#fb9f3a"
             ],
             [
              0.8888888888888888,
              "#fdca26"
             ],
             [
              1,
              "#f0f921"
             ]
            ],
            "type": "heatmap"
           }
          ],
          "heatmapgl": [
           {
            "colorbar": {
             "outlinewidth": 0,
             "ticks": ""
            },
            "colorscale": [
             [
              0,
              "#0d0887"
             ],
             [
              0.1111111111111111,
              "#46039f"
             ],
             [
              0.2222222222222222,
              "#7201a8"
             ],
             [
              0.3333333333333333,
              "#9c179e"
             ],
             [
              0.4444444444444444,
              "#bd3786"
             ],
             [
              0.5555555555555556,
              "#d8576b"
             ],
             [
              0.6666666666666666,
              "#ed7953"
             ],
             [
              0.7777777777777778,
              "#fb9f3a"
             ],
             [
              0.8888888888888888,
              "#fdca26"
             ],
             [
              1,
              "#f0f921"
             ]
            ],
            "type": "heatmapgl"
           }
          ],
          "histogram": [
           {
            "marker": {
             "pattern": {
              "fillmode": "overlay",
              "size": 10,
              "solidity": 0.2
             }
            },
            "type": "histogram"
           }
          ],
          "histogram2d": [
           {
            "colorbar": {
             "outlinewidth": 0,
             "ticks": ""
            },
            "colorscale": [
             [
              0,
              "#0d0887"
             ],
             [
              0.1111111111111111,
              "#46039f"
             ],
             [
              0.2222222222222222,
              "#7201a8"
             ],
             [
              0.3333333333333333,
              "#9c179e"
             ],
             [
              0.4444444444444444,
              "#bd3786"
             ],
             [
              0.5555555555555556,
              "#d8576b"
             ],
             [
              0.6666666666666666,
              "#ed7953"
             ],
             [
              0.7777777777777778,
              "#fb9f3a"
             ],
             [
              0.8888888888888888,
              "#fdca26"
             ],
             [
              1,
              "#f0f921"
             ]
            ],
            "type": "histogram2d"
           }
          ],
          "histogram2dcontour": [
           {
            "colorbar": {
             "outlinewidth": 0,
             "ticks": ""
            },
            "colorscale": [
             [
              0,
              "#0d0887"
             ],
             [
              0.1111111111111111,
              "#46039f"
             ],
             [
              0.2222222222222222,
              "#7201a8"
             ],
             [
              0.3333333333333333,
              "#9c179e"
             ],
             [
              0.4444444444444444,
              "#bd3786"
             ],
             [
              0.5555555555555556,
              "#d8576b"
             ],
             [
              0.6666666666666666,
              "#ed7953"
             ],
             [
              0.7777777777777778,
              "#fb9f3a"
             ],
             [
              0.8888888888888888,
              "#fdca26"
             ],
             [
              1,
              "#f0f921"
             ]
            ],
            "type": "histogram2dcontour"
           }
          ],
          "mesh3d": [
           {
            "colorbar": {
             "outlinewidth": 0,
             "ticks": ""
            },
            "type": "mesh3d"
           }
          ],
          "parcoords": [
           {
            "line": {
             "colorbar": {
              "outlinewidth": 0,
              "ticks": ""
             }
            },
            "type": "parcoords"
           }
          ],
          "pie": [
           {
            "automargin": true,
            "type": "pie"
           }
          ],
          "scatter": [
           {
            "fillpattern": {
             "fillmode": "overlay",
             "size": 10,
             "solidity": 0.2
            },
            "type": "scatter"
           }
          ],
          "scatter3d": [
           {
            "line": {
             "colorbar": {
              "outlinewidth": 0,
              "ticks": ""
             }
            },
            "marker": {
             "colorbar": {
              "outlinewidth": 0,
              "ticks": ""
             }
            },
            "type": "scatter3d"
           }
          ],
          "scattercarpet": [
           {
            "marker": {
             "colorbar": {
              "outlinewidth": 0,
              "ticks": ""
             }
            },
            "type": "scattercarpet"
           }
          ],
          "scattergeo": [
           {
            "marker": {
             "colorbar": {
              "outlinewidth": 0,
              "ticks": ""
             }
            },
            "type": "scattergeo"
           }
          ],
          "scattergl": [
           {
            "marker": {
             "colorbar": {
              "outlinewidth": 0,
              "ticks": ""
             }
            },
            "type": "scattergl"
           }
          ],
          "scattermapbox": [
           {
            "marker": {
             "colorbar": {
              "outlinewidth": 0,
              "ticks": ""
             }
            },
            "type": "scattermapbox"
           }
          ],
          "scatterpolar": [
           {
            "marker": {
             "colorbar": {
              "outlinewidth": 0,
              "ticks": ""
             }
            },
            "type": "scatterpolar"
           }
          ],
          "scatterpolargl": [
           {
            "marker": {
             "colorbar": {
              "outlinewidth": 0,
              "ticks": ""
             }
            },
            "type": "scatterpolargl"
           }
          ],
          "scatterternary": [
           {
            "marker": {
             "colorbar": {
              "outlinewidth": 0,
              "ticks": ""
             }
            },
            "type": "scatterternary"
           }
          ],
          "surface": [
           {
            "colorbar": {
             "outlinewidth": 0,
             "ticks": ""
            },
            "colorscale": [
             [
              0,
              "#0d0887"
             ],
             [
              0.1111111111111111,
              "#46039f"
             ],
             [
              0.2222222222222222,
              "#7201a8"
             ],
             [
              0.3333333333333333,
              "#9c179e"
             ],
             [
              0.4444444444444444,
              "#bd3786"
             ],
             [
              0.5555555555555556,
              "#d8576b"
             ],
             [
              0.6666666666666666,
              "#ed7953"
             ],
             [
              0.7777777777777778,
              "#fb9f3a"
             ],
             [
              0.8888888888888888,
              "#fdca26"
             ],
             [
              1,
              "#f0f921"
             ]
            ],
            "type": "surface"
           }
          ],
          "table": [
           {
            "cells": {
             "fill": {
              "color": "#EBF0F8"
             },
             "line": {
              "color": "white"
             }
            },
            "header": {
             "fill": {
              "color": "#C8D4E3"
             },
             "line": {
              "color": "white"
             }
            },
            "type": "table"
           }
          ]
         },
         "layout": {
          "annotationdefaults": {
           "arrowcolor": "#2a3f5f",
           "arrowhead": 0,
           "arrowwidth": 1
          },
          "autotypenumbers": "strict",
          "coloraxis": {
           "colorbar": {
            "outlinewidth": 0,
            "ticks": ""
           }
          },
          "colorscale": {
           "diverging": [
            [
             0,
             "#8e0152"
            ],
            [
             0.1,
             "#c51b7d"
            ],
            [
             0.2,
             "#de77ae"
            ],
            [
             0.3,
             "#f1b6da"
            ],
            [
             0.4,
             "#fde0ef"
            ],
            [
             0.5,
             "#f7f7f7"
            ],
            [
             0.6,
             "#e6f5d0"
            ],
            [
             0.7,
             "#b8e186"
            ],
            [
             0.8,
             "#7fbc41"
            ],
            [
             0.9,
             "#4d9221"
            ],
            [
             1,
             "#276419"
            ]
           ],
           "sequential": [
            [
             0,
             "#0d0887"
            ],
            [
             0.1111111111111111,
             "#46039f"
            ],
            [
             0.2222222222222222,
             "#7201a8"
            ],
            [
             0.3333333333333333,
             "#9c179e"
            ],
            [
             0.4444444444444444,
             "#bd3786"
            ],
            [
             0.5555555555555556,
             "#d8576b"
            ],
            [
             0.6666666666666666,
             "#ed7953"
            ],
            [
             0.7777777777777778,
             "#fb9f3a"
            ],
            [
             0.8888888888888888,
             "#fdca26"
            ],
            [
             1,
             "#f0f921"
            ]
           ],
           "sequentialminus": [
            [
             0,
             "#0d0887"
            ],
            [
             0.1111111111111111,
             "#46039f"
            ],
            [
             0.2222222222222222,
             "#7201a8"
            ],
            [
             0.3333333333333333,
             "#9c179e"
            ],
            [
             0.4444444444444444,
             "#bd3786"
            ],
            [
             0.5555555555555556,
             "#d8576b"
            ],
            [
             0.6666666666666666,
             "#ed7953"
            ],
            [
             0.7777777777777778,
             "#fb9f3a"
            ],
            [
             0.8888888888888888,
             "#fdca26"
            ],
            [
             1,
             "#f0f921"
            ]
           ]
          },
          "colorway": [
           "#636efa",
           "#EF553B",
           "#00cc96",
           "#ab63fa",
           "#FFA15A",
           "#19d3f3",
           "#FF6692",
           "#B6E880",
           "#FF97FF",
           "#FECB52"
          ],
          "font": {
           "color": "#2a3f5f"
          },
          "geo": {
           "bgcolor": "white",
           "lakecolor": "white",
           "landcolor": "white",
           "showlakes": true,
           "showland": true,
           "subunitcolor": "#C8D4E3"
          },
          "hoverlabel": {
           "align": "left"
          },
          "hovermode": "closest",
          "mapbox": {
           "style": "light"
          },
          "paper_bgcolor": "white",
          "plot_bgcolor": "white",
          "polar": {
           "angularaxis": {
            "gridcolor": "#EBF0F8",
            "linecolor": "#EBF0F8",
            "ticks": ""
           },
           "bgcolor": "white",
           "radialaxis": {
            "gridcolor": "#EBF0F8",
            "linecolor": "#EBF0F8",
            "ticks": ""
           }
          },
          "scene": {
           "xaxis": {
            "backgroundcolor": "white",
            "gridcolor": "#DFE8F3",
            "gridwidth": 2,
            "linecolor": "#EBF0F8",
            "showbackground": true,
            "ticks": "",
            "zerolinecolor": "#EBF0F8"
           },
           "yaxis": {
            "backgroundcolor": "white",
            "gridcolor": "#DFE8F3",
            "gridwidth": 2,
            "linecolor": "#EBF0F8",
            "showbackground": true,
            "ticks": "",
            "zerolinecolor": "#EBF0F8"
           },
           "zaxis": {
            "backgroundcolor": "white",
            "gridcolor": "#DFE8F3",
            "gridwidth": 2,
            "linecolor": "#EBF0F8",
            "showbackground": true,
            "ticks": "",
            "zerolinecolor": "#EBF0F8"
           }
          },
          "shapedefaults": {
           "line": {
            "color": "#2a3f5f"
           }
          },
          "ternary": {
           "aaxis": {
            "gridcolor": "#DFE8F3",
            "linecolor": "#A2B1C6",
            "ticks": ""
           },
           "baxis": {
            "gridcolor": "#DFE8F3",
            "linecolor": "#A2B1C6",
            "ticks": ""
           },
           "bgcolor": "white",
           "caxis": {
            "gridcolor": "#DFE8F3",
            "linecolor": "#A2B1C6",
            "ticks": ""
           }
          },
          "title": {
           "x": 0.05
          },
          "xaxis": {
           "automargin": true,
           "gridcolor": "#EBF0F8",
           "linecolor": "#EBF0F8",
           "ticks": "",
           "title": {
            "standoff": 15
           },
           "zerolinecolor": "#EBF0F8",
           "zerolinewidth": 2
          },
          "yaxis": {
           "automargin": true,
           "gridcolor": "#EBF0F8",
           "linecolor": "#EBF0F8",
           "ticks": "",
           "title": {
            "standoff": 15
           },
           "zerolinecolor": "#EBF0F8",
           "zerolinewidth": 2
          }
         }
        },
        "title": {
         "text": "Transportation LDV fleet stock in ON by vehicle class and drivetrain",
         "x": 0.5,
         "xanchor": "center",
         "y": 0.97,
         "yanchor": "top"
        },
        "width": 1000,
        "xaxis": {
         "anchor": "y",
         "domain": [
          0,
          0.1257142857142857
         ],
         "title": {
          "text": ""
         }
        },
        "xaxis2": {
         "anchor": "y2",
         "domain": [
          0.14571428571428569,
          0.27142857142857135
         ],
         "matches": "x",
         "title": {
          "text": ""
         }
        },
        "xaxis3": {
         "anchor": "y3",
         "domain": [
          0.29142857142857137,
          0.41714285714285704
         ],
         "matches": "x",
         "title": {
          "text": ""
         }
        },
        "xaxis4": {
         "anchor": "y4",
         "domain": [
          0.4371428571428571,
          0.5628571428571428
         ],
         "matches": "x",
         "title": {
          "text": ""
         }
        },
        "xaxis5": {
         "anchor": "y5",
         "domain": [
          0.5828571428571427,
          0.7085714285714284
         ],
         "matches": "x",
         "title": {
          "text": ""
         }
        },
        "xaxis6": {
         "anchor": "y6",
         "domain": [
          0.7285714285714284,
          0.8542857142857141
         ],
         "matches": "x",
         "title": {
          "text": ""
         }
        },
        "xaxis7": {
         "anchor": "y7",
         "domain": [
          0.8742857142857142,
          0.9999999999999999
         ],
         "matches": "x",
         "title": {
          "text": ""
         }
        },
        "yaxis": {
         "anchor": "x",
         "domain": [
          0,
          1
         ],
         "dtick": 1,
         "title": {
          "standoff": 0,
          "text": "Fleet stock (M units)"
         }
        },
        "yaxis2": {
         "anchor": "x2",
         "domain": [
          0,
          1
         ],
         "dtick": 1,
         "matches": "y",
         "showticklabels": false
        },
        "yaxis3": {
         "anchor": "x3",
         "domain": [
          0,
          1
         ],
         "dtick": 1,
         "matches": "y",
         "showticklabels": false
        },
        "yaxis4": {
         "anchor": "x4",
         "domain": [
          0,
          1
         ],
         "dtick": 1,
         "matches": "y",
         "showticklabels": false
        },
        "yaxis5": {
         "anchor": "x5",
         "domain": [
          0,
          1
         ],
         "dtick": 1,
         "matches": "y",
         "showticklabels": false
        },
        "yaxis6": {
         "anchor": "x6",
         "domain": [
          0,
          1
         ],
         "dtick": 1,
         "matches": "y",
         "showticklabels": false
        },
        "yaxis7": {
         "anchor": "x7",
         "domain": [
          0,
          1
         ],
         "dtick": 1,
         "matches": "y",
         "showticklabels": false
        }
       }
      }
     },
     "metadata": {},
     "output_type": "display_data"
    }
   ],
   "source": [
    "ref_fig = ref_trncap[ref_trncap['Vehicle Class'].isin(['LD Car', 'LD Truck'])][['Period', 'Vehicle Class', 'Capacity (M units)', 'Carrier']].groupby(['Period', 'Vehicle Class', 'Carrier'], as_index=False).sum()\n",
    "\n",
    "ref_fig['Carrier'] = pd.Categorical(ref_fig['Carrier'], categories=drivetrain_order, ordered=True)\n",
    "ref_fig = ref_fig.sort_values(['Carrier', 'Period'])\n",
    "\n",
    "fig = px.bar(ref_fig, \n",
    "             x='Vehicle Class', \n",
    "             y='Capacity (M units)', \n",
    "             color='Carrier', \n",
    "             barmode='stack', \n",
    "             facet_col='Period',\n",
    "             facet_col_spacing=2E-2,\n",
    "             template='plotly_white',\n",
    "             color_discrete_sequence=px.colors.qualitative.G10[:7] + px.colors.qualitative.G10[8:],\n",
    "             text_auto='.2f',\n",
    "            #  text='Demand (PJ)_sum'\n",
    "             width=1000, height=650,\n",
    "             )\n",
    "\n",
    "fig.update_layout(title=dict(\n",
    "        text='Transportation LDV fleet stock in ON by vehicle class and drivetrain',\n",
    "        x=0.5, \n",
    "        y=0.97,\n",
    "        xanchor='center',\n",
    "        yanchor='top'\n",
    "    ),\n",
    "    xaxis=dict(title='Period'),\n",
    "    yaxis=dict(title='Fleet stock (M units)',\n",
    "               dtick=1),\n",
    "    yaxis_title_standoff=0,\n",
    "    legend_title_text='',\n",
    "    bargap=0.1,\n",
    "    legend=dict(\n",
    "        orientation='h',  \n",
    "        yanchor='top',\n",
    "        y=1.03,  \n",
    "        xanchor='center',\n",
    "        x=0.5),\n",
    "    font=dict(\n",
    "        # family=\"Open Sans\",\n",
    "        size=14)\n",
    "    )\n",
    "\n",
    "for annotation in fig.layout.annotations:\n",
    "    annotation.text = annotation.text.split('=')[1]\n",
    "    annotation.y = -0.08  \n",
    "    annotation.yanchor = 'top' \n",
    "\n",
    "for axis in fig.layout:\n",
    "    if axis.startswith('yaxis'):\n",
    "        fig.layout[axis].dtick = 1\n",
    "\n",
    "for axis in fig.layout:\n",
    "    if axis.startswith('xaxis'):\n",
    "        fig.layout[axis].title.text = ''\n",
    "\n",
    "fig.for_each_trace(lambda trace: trace.update(textfont=dict(size=9)))\n",
    "\n",
    "fig.show()"
   ]
  },
  {
   "cell_type": "code",
   "execution_count": 18,
   "metadata": {},
   "outputs": [
    {
     "data": {
      "application/vnd.plotly.v1+json": {
       "config": {
        "plotlyServerURL": "https://plot.ly"
       },
       "data": [
        {
         "alignmentgroup": "True",
         "hovertemplate": "Carrier=Gasoline<br>Period=2021<br>Vehicle Class=%{x}<br>Capacity (k units)=%{y}<extra></extra>",
         "legendgroup": "Gasoline",
         "marker": {
          "color": "#3366CC",
          "pattern": {
           "shape": ""
          }
         },
         "name": "Gasoline",
         "offsetgroup": "Gasoline",
         "orientation": "v",
         "showlegend": true,
         "textfont": {
          "size": 9
         },
         "textposition": "auto",
         "texttemplate": "%{y:.1f}",
         "type": "bar",
         "x": [
          "Bus",
          "MD Truck"
         ],
         "xaxis": "x",
         "y": [
          1.1294370900714408,
          140.77993
         ],
         "yaxis": "y"
        },
        {
         "alignmentgroup": "True",
         "hovertemplate": "Carrier=Gasoline<br>Period=2025<br>Vehicle Class=%{x}<br>Capacity (k units)=%{y}<extra></extra>",
         "legendgroup": "Gasoline",
         "marker": {
          "color": "#3366CC",
          "pattern": {
           "shape": ""
          }
         },
         "name": "Gasoline",
         "offsetgroup": "Gasoline",
         "orientation": "v",
         "showlegend": false,
         "textfont": {
          "size": 9
         },
         "textposition": "auto",
         "texttemplate": "%{y:.1f}",
         "type": "bar",
         "x": [
          "Bus",
          "MD Truck"
         ],
         "xaxis": "x2",
         "y": [
          3.2085242669242295,
          133.49707
         ],
         "yaxis": "y2"
        },
        {
         "alignmentgroup": "True",
         "hovertemplate": "Carrier=Gasoline<br>Period=2030<br>Vehicle Class=%{x}<br>Capacity (k units)=%{y}<extra></extra>",
         "legendgroup": "Gasoline",
         "marker": {
          "color": "#3366CC",
          "pattern": {
           "shape": ""
          }
         },
         "name": "Gasoline",
         "offsetgroup": "Gasoline",
         "orientation": "v",
         "showlegend": false,
         "textfont": {
          "size": 9
         },
         "textposition": "auto",
         "texttemplate": "%{y:.1f}",
         "type": "bar",
         "x": [
          "Bus",
          "MD Truck"
         ],
         "xaxis": "x3",
         "y": [
          3.3025641567724184,
          105.33088
         ],
         "yaxis": "y3"
        },
        {
         "alignmentgroup": "True",
         "hovertemplate": "Carrier=Gasoline<br>Period=2035<br>Vehicle Class=%{x}<br>Capacity (k units)=%{y}<extra></extra>",
         "legendgroup": "Gasoline",
         "marker": {
          "color": "#3366CC",
          "pattern": {
           "shape": ""
          }
         },
         "name": "Gasoline",
         "offsetgroup": "Gasoline",
         "orientation": "v",
         "showlegend": false,
         "textfont": {
          "size": 9
         },
         "textposition": "auto",
         "texttemplate": "%{y:.1f}",
         "type": "bar",
         "x": [
          "Bus",
          "MD Truck"
         ],
         "xaxis": "x4",
         "y": [
          2.590035468031098,
          67.79565
         ],
         "yaxis": "y4"
        },
        {
         "alignmentgroup": "True",
         "hovertemplate": "Carrier=Gasoline<br>Period=2040<br>Vehicle Class=%{x}<br>Capacity (k units)=%{y}<extra></extra>",
         "legendgroup": "Gasoline",
         "marker": {
          "color": "#3366CC",
          "pattern": {
           "shape": ""
          }
         },
         "name": "Gasoline",
         "offsetgroup": "Gasoline",
         "orientation": "v",
         "showlegend": false,
         "textfont": {
          "size": 9
         },
         "textposition": "auto",
         "texttemplate": "%{y:.1f}",
         "type": "bar",
         "x": [
          "Bus",
          "MD Truck"
         ],
         "xaxis": "x5",
         "y": [
          0.476955937940502,
          0
         ],
         "yaxis": "y5"
        },
        {
         "alignmentgroup": "True",
         "hovertemplate": "Carrier=Gasoline<br>Period=2045<br>Vehicle Class=%{x}<br>Capacity (k units)=%{y}<extra></extra>",
         "legendgroup": "Gasoline",
         "marker": {
          "color": "#3366CC",
          "pattern": {
           "shape": ""
          }
         },
         "name": "Gasoline",
         "offsetgroup": "Gasoline",
         "orientation": "v",
         "showlegend": false,
         "textfont": {
          "size": 9
         },
         "textposition": "auto",
         "texttemplate": "%{y:.1f}",
         "type": "bar",
         "x": [
          "Bus",
          "MD Truck"
         ],
         "xaxis": "x6",
         "y": [
          1.003511541635225,
          0
         ],
         "yaxis": "y6"
        },
        {
         "alignmentgroup": "True",
         "hovertemplate": "Carrier=Gasoline<br>Period=2050<br>Vehicle Class=%{x}<br>Capacity (k units)=%{y}<extra></extra>",
         "legendgroup": "Gasoline",
         "marker": {
          "color": "#3366CC",
          "pattern": {
           "shape": ""
          }
         },
         "name": "Gasoline",
         "offsetgroup": "Gasoline",
         "orientation": "v",
         "showlegend": false,
         "textfont": {
          "size": 9
         },
         "textposition": "auto",
         "texttemplate": "%{y:.1f}",
         "type": "bar",
         "x": [
          "Bus",
          "MD Truck"
         ],
         "xaxis": "x7",
         "y": [
          2.6485502247707,
          0
         ],
         "yaxis": "y7"
        },
        {
         "alignmentgroup": "True",
         "hovertemplate": "Carrier=Diesel<br>Period=2021<br>Vehicle Class=%{x}<br>Capacity (k units)=%{y}<extra></extra>",
         "legendgroup": "Diesel",
         "marker": {
          "color": "#DC3912",
          "pattern": {
           "shape": ""
          }
         },
         "name": "Diesel",
         "offsetgroup": "Diesel",
         "orientation": "v",
         "showlegend": true,
         "textfont": {
          "size": 9
         },
         "textposition": "auto",
         "texttemplate": "%{y:.1f}",
         "type": "bar",
         "x": [
          "Bus",
          "HD Truck",
          "MD Truck"
         ],
         "xaxis": "x",
         "y": [
          15.835310000000002,
          134.55009,
          242.41132
         ],
         "yaxis": "y"
        },
        {
         "alignmentgroup": "True",
         "hovertemplate": "Carrier=Diesel<br>Period=2025<br>Vehicle Class=%{x}<br>Capacity (k units)=%{y}<extra></extra>",
         "legendgroup": "Diesel",
         "marker": {
          "color": "#DC3912",
          "pattern": {
           "shape": ""
          }
         },
         "name": "Diesel",
         "offsetgroup": "Diesel",
         "orientation": "v",
         "showlegend": false,
         "textfont": {
          "size": 9
         },
         "textposition": "auto",
         "texttemplate": "%{y:.1f}",
         "type": "bar",
         "x": [
          "Bus",
          "HD Truck",
          "MD Truck"
         ],
         "xaxis": "x2",
         "y": [
          13.801319999999999,
          124.81974,
          229.56781
         ],
         "yaxis": "y2"
        },
        {
         "alignmentgroup": "True",
         "hovertemplate": "Carrier=Diesel<br>Period=2030<br>Vehicle Class=%{x}<br>Capacity (k units)=%{y}<extra></extra>",
         "legendgroup": "Diesel",
         "marker": {
          "color": "#DC3912",
          "pattern": {
           "shape": ""
          }
         },
         "name": "Diesel",
         "offsetgroup": "Diesel",
         "orientation": "v",
         "showlegend": false,
         "textfont": {
          "size": 9
         },
         "textposition": "auto",
         "texttemplate": "%{y:.1f}",
         "type": "bar",
         "x": [
          "Bus",
          "HD Truck",
          "MD Truck"
         ],
         "xaxis": "x3",
         "y": [
          7.219029999999999,
          98.05985000000001,
          179.89599
         ],
         "yaxis": "y3"
        },
        {
         "alignmentgroup": "True",
         "hovertemplate": "Carrier=Diesel<br>Period=2035<br>Vehicle Class=%{x}<br>Capacity (k units)=%{y}<extra></extra>",
         "legendgroup": "Diesel",
         "marker": {
          "color": "#DC3912",
          "pattern": {
           "shape": ""
          }
         },
         "name": "Diesel",
         "offsetgroup": "Diesel",
         "orientation": "v",
         "showlegend": false,
         "textfont": {
          "size": 9
         },
         "textposition": "auto",
         "texttemplate": "%{y:.1f}",
         "type": "bar",
         "x": [
          "Bus",
          "HD Truck",
          "MD Truck"
         ],
         "xaxis": "x4",
         "y": [
          0,
          62.39871,
          113.70162
         ],
         "yaxis": "y4"
        },
        {
         "alignmentgroup": "True",
         "hovertemplate": "Carrier=Diesel<br>Period=2040<br>Vehicle Class=%{x}<br>Capacity (k units)=%{y}<extra></extra>",
         "legendgroup": "Diesel",
         "marker": {
          "color": "#DC3912",
          "pattern": {
           "shape": ""
          }
         },
         "name": "Diesel",
         "offsetgroup": "Diesel",
         "orientation": "v",
         "showlegend": false,
         "textfont": {
          "size": 9
         },
         "textposition": "auto",
         "texttemplate": "%{y:.1f}",
         "type": "bar",
         "x": [
          "Bus",
          "HD Truck",
          "MD Truck"
         ],
         "xaxis": "x5",
         "y": [
          0,
          0,
          0
         ],
         "yaxis": "y5"
        },
        {
         "alignmentgroup": "True",
         "hovertemplate": "Carrier=Diesel<br>Period=2045<br>Vehicle Class=%{x}<br>Capacity (k units)=%{y}<extra></extra>",
         "legendgroup": "Diesel",
         "marker": {
          "color": "#DC3912",
          "pattern": {
           "shape": ""
          }
         },
         "name": "Diesel",
         "offsetgroup": "Diesel",
         "orientation": "v",
         "showlegend": false,
         "textfont": {
          "size": 9
         },
         "textposition": "auto",
         "texttemplate": "%{y:.1f}",
         "type": "bar",
         "x": [
          "Bus",
          "HD Truck",
          "MD Truck"
         ],
         "xaxis": "x6",
         "y": [
          0,
          0,
          0
         ],
         "yaxis": "y6"
        },
        {
         "alignmentgroup": "True",
         "hovertemplate": "Carrier=Diesel<br>Period=2050<br>Vehicle Class=%{x}<br>Capacity (k units)=%{y}<extra></extra>",
         "legendgroup": "Diesel",
         "marker": {
          "color": "#DC3912",
          "pattern": {
           "shape": ""
          }
         },
         "name": "Diesel",
         "offsetgroup": "Diesel",
         "orientation": "v",
         "showlegend": false,
         "textfont": {
          "size": 9
         },
         "textposition": "auto",
         "texttemplate": "%{y:.1f}",
         "type": "bar",
         "x": [
          "Bus",
          "HD Truck",
          "MD Truck"
         ],
         "xaxis": "x7",
         "y": [
          0,
          0,
          0
         ],
         "yaxis": "y7"
        },
        {
         "alignmentgroup": "True",
         "hovertemplate": "Carrier=CNG<br>Period=2021<br>Vehicle Class=%{x}<br>Capacity (k units)=%{y}<extra></extra>",
         "legendgroup": "CNG",
         "marker": {
          "color": "#FF9900",
          "pattern": {
           "shape": ""
          }
         },
         "name": "CNG",
         "offsetgroup": "CNG",
         "orientation": "v",
         "showlegend": true,
         "textfont": {
          "size": 9
         },
         "textposition": "auto",
         "texttemplate": "%{y:.1f}",
         "type": "bar",
         "x": [
          "Bus"
         ],
         "xaxis": "x",
         "y": [
          0.65398
         ],
         "yaxis": "y"
        },
        {
         "alignmentgroup": "True",
         "hovertemplate": "Carrier=CNG<br>Period=2025<br>Vehicle Class=%{x}<br>Capacity (k units)=%{y}<extra></extra>",
         "legendgroup": "CNG",
         "marker": {
          "color": "#FF9900",
          "pattern": {
           "shape": ""
          }
         },
         "name": "CNG",
         "offsetgroup": "CNG",
         "orientation": "v",
         "showlegend": false,
         "textfont": {
          "size": 9
         },
         "textposition": "auto",
         "texttemplate": "%{y:.1f}",
         "type": "bar",
         "x": [
          "Bus"
         ],
         "xaxis": "x2",
         "y": [
          0.6378400000000001
         ],
         "yaxis": "y2"
        },
        {
         "alignmentgroup": "True",
         "hovertemplate": "Carrier=CNG<br>Period=2030<br>Vehicle Class=%{x}<br>Capacity (k units)=%{y}<extra></extra>",
         "legendgroup": "CNG",
         "marker": {
          "color": "#FF9900",
          "pattern": {
           "shape": ""
          }
         },
         "name": "CNG",
         "offsetgroup": "CNG",
         "orientation": "v",
         "showlegend": false,
         "textfont": {
          "size": 9
         },
         "textposition": "auto",
         "texttemplate": "%{y:.1f}",
         "type": "bar",
         "x": [
          "Bus"
         ],
         "xaxis": "x3",
         "y": [
          0.5708400000000001
         ],
         "yaxis": "y3"
        },
        {
         "alignmentgroup": "True",
         "hovertemplate": "Carrier=CNG<br>Period=2035<br>Vehicle Class=%{x}<br>Capacity (k units)=%{y}<extra></extra>",
         "legendgroup": "CNG",
         "marker": {
          "color": "#FF9900",
          "pattern": {
           "shape": ""
          }
         },
         "name": "CNG",
         "offsetgroup": "CNG",
         "orientation": "v",
         "showlegend": false,
         "textfont": {
          "size": 9
         },
         "textposition": "auto",
         "texttemplate": "%{y:.1f}",
         "type": "bar",
         "x": [
          "Bus"
         ],
         "xaxis": "x4",
         "y": [
          0
         ],
         "yaxis": "y4"
        },
        {
         "alignmentgroup": "True",
         "hovertemplate": "Carrier=CNG<br>Period=2040<br>Vehicle Class=%{x}<br>Capacity (k units)=%{y}<extra></extra>",
         "legendgroup": "CNG",
         "marker": {
          "color": "#FF9900",
          "pattern": {
           "shape": ""
          }
         },
         "name": "CNG",
         "offsetgroup": "CNG",
         "orientation": "v",
         "showlegend": false,
         "textfont": {
          "size": 9
         },
         "textposition": "auto",
         "texttemplate": "%{y:.1f}",
         "type": "bar",
         "x": [
          "Bus"
         ],
         "xaxis": "x5",
         "y": [
          0
         ],
         "yaxis": "y5"
        },
        {
         "alignmentgroup": "True",
         "hovertemplate": "Carrier=CNG<br>Period=2045<br>Vehicle Class=%{x}<br>Capacity (k units)=%{y}<extra></extra>",
         "legendgroup": "CNG",
         "marker": {
          "color": "#FF9900",
          "pattern": {
           "shape": ""
          }
         },
         "name": "CNG",
         "offsetgroup": "CNG",
         "orientation": "v",
         "showlegend": false,
         "textfont": {
          "size": 9
         },
         "textposition": "auto",
         "texttemplate": "%{y:.1f}",
         "type": "bar",
         "x": [
          "Bus"
         ],
         "xaxis": "x6",
         "y": [
          0
         ],
         "yaxis": "y6"
        },
        {
         "alignmentgroup": "True",
         "hovertemplate": "Carrier=CNG<br>Period=2050<br>Vehicle Class=%{x}<br>Capacity (k units)=%{y}<extra></extra>",
         "legendgroup": "CNG",
         "marker": {
          "color": "#FF9900",
          "pattern": {
           "shape": ""
          }
         },
         "name": "CNG",
         "offsetgroup": "CNG",
         "orientation": "v",
         "showlegend": false,
         "textfont": {
          "size": 9
         },
         "textposition": "auto",
         "texttemplate": "%{y:.1f}",
         "type": "bar",
         "x": [
          "Bus"
         ],
         "xaxis": "x7",
         "y": [
          0
         ],
         "yaxis": "y7"
        },
        {
         "alignmentgroup": "True",
         "hovertemplate": "Carrier=HEV<br>Period=2021<br>Vehicle Class=%{x}<br>Capacity (k units)=%{y}<extra></extra>",
         "legendgroup": "HEV",
         "marker": {
          "color": "#109618",
          "pattern": {
           "shape": ""
          }
         },
         "name": "HEV",
         "offsetgroup": "HEV",
         "orientation": "v",
         "showlegend": true,
         "textfont": {
          "size": 9
         },
         "textposition": "auto",
         "texttemplate": "%{y:.1f}",
         "type": "bar",
         "x": [
          "Bus",
          "HD Truck",
          "MD Truck"
         ],
         "xaxis": "x",
         "y": [
          0,
          15.97769466754104,
          0
         ],
         "yaxis": "y"
        },
        {
         "alignmentgroup": "True",
         "hovertemplate": "Carrier=HEV<br>Period=2025<br>Vehicle Class=%{x}<br>Capacity (k units)=%{y}<extra></extra>",
         "legendgroup": "HEV",
         "marker": {
          "color": "#109618",
          "pattern": {
           "shape": ""
          }
         },
         "name": "HEV",
         "offsetgroup": "HEV",
         "orientation": "v",
         "showlegend": false,
         "textfont": {
          "size": 9
         },
         "textposition": "auto",
         "texttemplate": "%{y:.1f}",
         "type": "bar",
         "x": [
          "Bus",
          "HD Truck",
          "MD Truck"
         ],
         "xaxis": "x2",
         "y": [
          0,
          28.51315884385468,
          0
         ],
         "yaxis": "y2"
        },
        {
         "alignmentgroup": "True",
         "hovertemplate": "Carrier=HEV<br>Period=2030<br>Vehicle Class=%{x}<br>Capacity (k units)=%{y}<extra></extra>",
         "legendgroup": "HEV",
         "marker": {
          "color": "#109618",
          "pattern": {
           "shape": ""
          }
         },
         "name": "HEV",
         "offsetgroup": "HEV",
         "orientation": "v",
         "showlegend": false,
         "textfont": {
          "size": 9
         },
         "textposition": "auto",
         "texttemplate": "%{y:.1f}",
         "type": "bar",
         "x": [
          "Bus",
          "HD Truck",
          "MD Truck"
         ],
         "xaxis": "x3",
         "y": [
          0,
          36.71537425189433,
          0
         ],
         "yaxis": "y3"
        },
        {
         "alignmentgroup": "True",
         "hovertemplate": "Carrier=HEV<br>Period=2035<br>Vehicle Class=%{x}<br>Capacity (k units)=%{y}<extra></extra>",
         "legendgroup": "HEV",
         "marker": {
          "color": "#109618",
          "pattern": {
           "shape": ""
          }
         },
         "name": "HEV",
         "offsetgroup": "HEV",
         "orientation": "v",
         "showlegend": false,
         "textfont": {
          "size": 9
         },
         "textposition": "auto",
         "texttemplate": "%{y:.1f}",
         "type": "bar",
         "x": [
          "Bus",
          "HD Truck",
          "MD Truck"
         ],
         "xaxis": "x4",
         "y": [
          0,
          47.27707220603078,
          0
         ],
         "yaxis": "y4"
        },
        {
         "alignmentgroup": "True",
         "hovertemplate": "Carrier=HEV<br>Period=2040<br>Vehicle Class=%{x}<br>Capacity (k units)=%{y}<extra></extra>",
         "legendgroup": "HEV",
         "marker": {
          "color": "#109618",
          "pattern": {
           "shape": ""
          }
         },
         "name": "HEV",
         "offsetgroup": "HEV",
         "orientation": "v",
         "showlegend": false,
         "textfont": {
          "size": 9
         },
         "textposition": "auto",
         "texttemplate": "%{y:.1f}",
         "type": "bar",
         "x": [
          "Bus",
          "HD Truck",
          "MD Truck"
         ],
         "xaxis": "x5",
         "y": [
          0,
          39.58188652759793,
          0
         ],
         "yaxis": "y5"
        },
        {
         "alignmentgroup": "True",
         "hovertemplate": "Carrier=HEV<br>Period=2045<br>Vehicle Class=%{x}<br>Capacity (k units)=%{y}<extra></extra>",
         "legendgroup": "HEV",
         "marker": {
          "color": "#109618",
          "pattern": {
           "shape": ""
          }
         },
         "name": "HEV",
         "offsetgroup": "HEV",
         "orientation": "v",
         "showlegend": false,
         "textfont": {
          "size": 9
         },
         "textposition": "auto",
         "texttemplate": "%{y:.1f}",
         "type": "bar",
         "x": [
          "Bus",
          "HD Truck",
          "MD Truck"
         ],
         "xaxis": "x6",
         "y": [
          0,
          34.26097436481903,
          0
         ],
         "yaxis": "y6"
        },
        {
         "alignmentgroup": "True",
         "hovertemplate": "Carrier=HEV<br>Period=2050<br>Vehicle Class=%{x}<br>Capacity (k units)=%{y}<extra></extra>",
         "legendgroup": "HEV",
         "marker": {
          "color": "#109618",
          "pattern": {
           "shape": ""
          }
         },
         "name": "HEV",
         "offsetgroup": "HEV",
         "orientation": "v",
         "showlegend": false,
         "textfont": {
          "size": 9
         },
         "textposition": "auto",
         "texttemplate": "%{y:.1f}",
         "type": "bar",
         "x": [
          "Bus",
          "HD Truck",
          "MD Truck"
         ],
         "xaxis": "x7",
         "y": [
          0,
          32.94728630054162,
          0
         ],
         "yaxis": "y7"
        },
        {
         "alignmentgroup": "True",
         "hovertemplate": "Carrier=PHEV<br>Period=2021<br>Vehicle Class=%{x}<br>Capacity (k units)=%{y}<extra></extra>",
         "legendgroup": "PHEV",
         "marker": {
          "color": "#990099",
          "pattern": {
           "shape": ""
          }
         },
         "name": "PHEV",
         "offsetgroup": "PHEV",
         "orientation": "v",
         "showlegend": true,
         "textfont": {
          "size": 9
         },
         "textposition": "auto",
         "texttemplate": "%{y:.1f}",
         "type": "bar",
         "x": [
          "Bus",
          "HD Truck",
          "MD Truck"
         ],
         "xaxis": "x",
         "y": [
          0,
          0,
          0
         ],
         "yaxis": "y"
        },
        {
         "alignmentgroup": "True",
         "hovertemplate": "Carrier=PHEV<br>Period=2025<br>Vehicle Class=%{x}<br>Capacity (k units)=%{y}<extra></extra>",
         "legendgroup": "PHEV",
         "marker": {
          "color": "#990099",
          "pattern": {
           "shape": ""
          }
         },
         "name": "PHEV",
         "offsetgroup": "PHEV",
         "orientation": "v",
         "showlegend": false,
         "textfont": {
          "size": 9
         },
         "textposition": "auto",
         "texttemplate": "%{y:.1f}",
         "type": "bar",
         "x": [
          "Bus",
          "HD Truck",
          "MD Truck"
         ],
         "xaxis": "x2",
         "y": [
          0,
          0,
          0
         ],
         "yaxis": "y2"
        },
        {
         "alignmentgroup": "True",
         "hovertemplate": "Carrier=PHEV<br>Period=2030<br>Vehicle Class=%{x}<br>Capacity (k units)=%{y}<extra></extra>",
         "legendgroup": "PHEV",
         "marker": {
          "color": "#990099",
          "pattern": {
           "shape": ""
          }
         },
         "name": "PHEV",
         "offsetgroup": "PHEV",
         "orientation": "v",
         "showlegend": false,
         "textfont": {
          "size": 9
         },
         "textposition": "auto",
         "texttemplate": "%{y:.1f}",
         "type": "bar",
         "x": [
          "Bus",
          "HD Truck",
          "MD Truck"
         ],
         "xaxis": "x3",
         "y": [
          0,
          0,
          0
         ],
         "yaxis": "y3"
        },
        {
         "alignmentgroup": "True",
         "hovertemplate": "Carrier=PHEV<br>Period=2035<br>Vehicle Class=%{x}<br>Capacity (k units)=%{y}<extra></extra>",
         "legendgroup": "PHEV",
         "marker": {
          "color": "#990099",
          "pattern": {
           "shape": ""
          }
         },
         "name": "PHEV",
         "offsetgroup": "PHEV",
         "orientation": "v",
         "showlegend": false,
         "textfont": {
          "size": 9
         },
         "textposition": "auto",
         "texttemplate": "%{y:.1f}",
         "type": "bar",
         "x": [
          "Bus",
          "HD Truck",
          "MD Truck"
         ],
         "xaxis": "x4",
         "y": [
          0,
          0,
          0
         ],
         "yaxis": "y4"
        },
        {
         "alignmentgroup": "True",
         "hovertemplate": "Carrier=PHEV<br>Period=2040<br>Vehicle Class=%{x}<br>Capacity (k units)=%{y}<extra></extra>",
         "legendgroup": "PHEV",
         "marker": {
          "color": "#990099",
          "pattern": {
           "shape": ""
          }
         },
         "name": "PHEV",
         "offsetgroup": "PHEV",
         "orientation": "v",
         "showlegend": false,
         "textfont": {
          "size": 9
         },
         "textposition": "auto",
         "texttemplate": "%{y:.1f}",
         "type": "bar",
         "x": [
          "Bus",
          "HD Truck",
          "MD Truck"
         ],
         "xaxis": "x5",
         "y": [
          0,
          0,
          0
         ],
         "yaxis": "y5"
        },
        {
         "alignmentgroup": "True",
         "hovertemplate": "Carrier=PHEV<br>Period=2045<br>Vehicle Class=%{x}<br>Capacity (k units)=%{y}<extra></extra>",
         "legendgroup": "PHEV",
         "marker": {
          "color": "#990099",
          "pattern": {
           "shape": ""
          }
         },
         "name": "PHEV",
         "offsetgroup": "PHEV",
         "orientation": "v",
         "showlegend": false,
         "textfont": {
          "size": 9
         },
         "textposition": "auto",
         "texttemplate": "%{y:.1f}",
         "type": "bar",
         "x": [
          "Bus",
          "HD Truck",
          "MD Truck"
         ],
         "xaxis": "x6",
         "y": [
          0,
          0,
          0
         ],
         "yaxis": "y6"
        },
        {
         "alignmentgroup": "True",
         "hovertemplate": "Carrier=PHEV<br>Period=2050<br>Vehicle Class=%{x}<br>Capacity (k units)=%{y}<extra></extra>",
         "legendgroup": "PHEV",
         "marker": {
          "color": "#990099",
          "pattern": {
           "shape": ""
          }
         },
         "name": "PHEV",
         "offsetgroup": "PHEV",
         "orientation": "v",
         "showlegend": false,
         "textfont": {
          "size": 9
         },
         "textposition": "auto",
         "texttemplate": "%{y:.1f}",
         "type": "bar",
         "x": [
          "Bus",
          "HD Truck",
          "MD Truck"
         ],
         "xaxis": "x7",
         "y": [
          0,
          0,
          0
         ],
         "yaxis": "y7"
        },
        {
         "alignmentgroup": "True",
         "hovertemplate": "Carrier=BEV<br>Period=2021<br>Vehicle Class=%{x}<br>Capacity (k units)=%{y}<extra></extra>",
         "legendgroup": "BEV",
         "marker": {
          "color": "#0099C6",
          "pattern": {
           "shape": ""
          }
         },
         "name": "BEV",
         "offsetgroup": "BEV",
         "orientation": "v",
         "showlegend": true,
         "textfont": {
          "size": 9
         },
         "textposition": "auto",
         "texttemplate": "%{y:.1f}",
         "type": "bar",
         "x": [
          "Bus",
          "HD Truck",
          "MD Truck"
         ],
         "xaxis": "x",
         "y": [
          1.73326,
          0,
          0
         ],
         "yaxis": "y"
        },
        {
         "alignmentgroup": "True",
         "hovertemplate": "Carrier=BEV<br>Period=2025<br>Vehicle Class=%{x}<br>Capacity (k units)=%{y}<extra></extra>",
         "legendgroup": "BEV",
         "marker": {
          "color": "#0099C6",
          "pattern": {
           "shape": ""
          }
         },
         "name": "BEV",
         "offsetgroup": "BEV",
         "orientation": "v",
         "showlegend": false,
         "textfont": {
          "size": 9
         },
         "textposition": "auto",
         "texttemplate": "%{y:.1f}",
         "type": "bar",
         "x": [
          "Bus",
          "HD Truck",
          "MD Truck"
         ],
         "xaxis": "x2",
         "y": [
          1.56038,
          0,
          0.0002249042624298467
         ],
         "yaxis": "y2"
        },
        {
         "alignmentgroup": "True",
         "hovertemplate": "Carrier=BEV<br>Period=2030<br>Vehicle Class=%{x}<br>Capacity (k units)=%{y}<extra></extra>",
         "legendgroup": "BEV",
         "marker": {
          "color": "#0099C6",
          "pattern": {
           "shape": ""
          }
         },
         "name": "BEV",
         "offsetgroup": "BEV",
         "orientation": "v",
         "showlegend": false,
         "textfont": {
          "size": 9
         },
         "textposition": "auto",
         "texttemplate": "%{y:.1f}",
         "type": "bar",
         "x": [
          "Bus",
          "HD Truck",
          "MD Truck"
         ],
         "xaxis": "x3",
         "y": [
          0.97009,
          0,
          0.0008912787991197796
         ],
         "yaxis": "y3"
        },
        {
         "alignmentgroup": "True",
         "hovertemplate": "Carrier=BEV<br>Period=2035<br>Vehicle Class=%{x}<br>Capacity (k units)=%{y}<extra></extra>",
         "legendgroup": "BEV",
         "marker": {
          "color": "#0099C6",
          "pattern": {
           "shape": ""
          }
         },
         "name": "BEV",
         "offsetgroup": "BEV",
         "orientation": "v",
         "showlegend": false,
         "textfont": {
          "size": 9
         },
         "textposition": "auto",
         "texttemplate": "%{y:.1f}",
         "type": "bar",
         "x": [
          "Bus",
          "HD Truck",
          "MD Truck"
         ],
         "xaxis": "x4",
         "y": [
          0.0003126087621629107,
          0,
          0.002723509052017566
         ],
         "yaxis": "y4"
        },
        {
         "alignmentgroup": "True",
         "hovertemplate": "Carrier=BEV<br>Period=2040<br>Vehicle Class=%{x}<br>Capacity (k units)=%{y}<extra></extra>",
         "legendgroup": "BEV",
         "marker": {
          "color": "#0099C6",
          "pattern": {
           "shape": ""
          }
         },
         "name": "BEV",
         "offsetgroup": "BEV",
         "orientation": "v",
         "showlegend": false,
         "textfont": {
          "size": 9
         },
         "textposition": "auto",
         "texttemplate": "%{y:.1f}",
         "type": "bar",
         "x": [
          "Bus",
          "HD Truck",
          "MD Truck"
         ],
         "xaxis": "x5",
         "y": [
          0.0024159449058209588,
          0,
          0.004767302676068484
         ],
         "yaxis": "y5"
        },
        {
         "alignmentgroup": "True",
         "hovertemplate": "Carrier=BEV<br>Period=2045<br>Vehicle Class=%{x}<br>Capacity (k units)=%{y}<extra></extra>",
         "legendgroup": "BEV",
         "marker": {
          "color": "#0099C6",
          "pattern": {
           "shape": ""
          }
         },
         "name": "BEV",
         "offsetgroup": "BEV",
         "orientation": "v",
         "showlegend": false,
         "textfont": {
          "size": 9
         },
         "textposition": "auto",
         "texttemplate": "%{y:.1f}",
         "type": "bar",
         "x": [
          "Bus",
          "HD Truck",
          "MD Truck"
         ],
         "xaxis": "x6",
         "y": [
          0.0044216250210638965,
          0,
          0.004933468468587702
         ],
         "yaxis": "y6"
        },
        {
         "alignmentgroup": "True",
         "hovertemplate": "Carrier=BEV<br>Period=2050<br>Vehicle Class=%{x}<br>Capacity (k units)=%{y}<extra></extra>",
         "legendgroup": "BEV",
         "marker": {
          "color": "#0099C6",
          "pattern": {
           "shape": ""
          }
         },
         "name": "BEV",
         "offsetgroup": "BEV",
         "orientation": "v",
         "showlegend": false,
         "textfont": {
          "size": 9
         },
         "textposition": "auto",
         "texttemplate": "%{y:.1f}",
         "type": "bar",
         "x": [
          "Bus",
          "HD Truck",
          "MD Truck"
         ],
         "xaxis": "x7",
         "y": [
          12.171650663864616,
          0,
          0.0100040885913038
         ],
         "yaxis": "y7"
        },
        {
         "alignmentgroup": "True",
         "hovertemplate": "Carrier=FCEV<br>Period=2021<br>Vehicle Class=%{x}<br>Capacity (k units)=%{y}<extra></extra>",
         "legendgroup": "FCEV",
         "marker": {
          "color": "#DD4477",
          "pattern": {
           "shape": ""
          }
         },
         "name": "FCEV",
         "offsetgroup": "FCEV",
         "orientation": "v",
         "showlegend": true,
         "textfont": {
          "size": 9
         },
         "textposition": "auto",
         "texttemplate": "%{y:.1f}",
         "type": "bar",
         "x": [
          "Bus",
          "HD Truck",
          "MD Truck"
         ],
         "xaxis": "x",
         "y": [
          2.0424640299730803,
          0.00001031113612438926,
          49.55594892996495
         ],
         "yaxis": "y"
        },
        {
         "alignmentgroup": "True",
         "hovertemplate": "Carrier=FCEV<br>Period=2025<br>Vehicle Class=%{x}<br>Capacity (k units)=%{y}<extra></extra>",
         "legendgroup": "FCEV",
         "marker": {
          "color": "#DD4477",
          "pattern": {
           "shape": ""
          }
         },
         "name": "FCEV",
         "offsetgroup": "FCEV",
         "orientation": "v",
         "showlegend": false,
         "textfont": {
          "size": 9
         },
         "textposition": "auto",
         "texttemplate": "%{y:.1f}",
         "type": "bar",
         "x": [
          "Bus",
          "HD Truck",
          "MD Truck"
         ],
         "xaxis": "x2",
         "y": [
          21.57470635976843,
          0.00004030314085820151,
          131.686361753307
         ],
         "yaxis": "y2"
        },
        {
         "alignmentgroup": "True",
         "hovertemplate": "Carrier=FCEV<br>Period=2030<br>Vehicle Class=%{x}<br>Capacity (k units)=%{y}<extra></extra>",
         "legendgroup": "FCEV",
         "marker": {
          "color": "#DD4477",
          "pattern": {
           "shape": ""
          }
         },
         "name": "FCEV",
         "offsetgroup": "FCEV",
         "orientation": "v",
         "showlegend": false,
         "textfont": {
          "size": 9
         },
         "textposition": "auto",
         "texttemplate": "%{y:.1f}",
         "type": "bar",
         "x": [
          "Bus",
          "HD Truck",
          "MD Truck"
         ],
         "xaxis": "x3",
         "y": [
          28.890255640776342,
          24.83684128539413,
          244.7957733551093
         ],
         "yaxis": "y3"
        },
        {
         "alignmentgroup": "True",
         "hovertemplate": "Carrier=FCEV<br>Period=2035<br>Vehicle Class=%{x}<br>Capacity (k units)=%{y}<extra></extra>",
         "legendgroup": "FCEV",
         "marker": {
          "color": "#DD4477",
          "pattern": {
           "shape": ""
          }
         },
         "name": "FCEV",
         "offsetgroup": "FCEV",
         "orientation": "v",
         "showlegend": false,
         "textfont": {
          "size": 9
         },
         "textposition": "auto",
         "texttemplate": "%{y:.1f}",
         "type": "bar",
         "x": [
          "Bus",
          "HD Truck",
          "MD Truck"
         ],
         "xaxis": "x4",
         "y": [
          45.53018110069771,
          66.56893497504731,
          426.67328951539554
         ],
         "yaxis": "y4"
        },
        {
         "alignmentgroup": "True",
         "hovertemplate": "Carrier=FCEV<br>Period=2040<br>Vehicle Class=%{x}<br>Capacity (k units)=%{y}<extra></extra>",
         "legendgroup": "FCEV",
         "marker": {
          "color": "#DD4477",
          "pattern": {
           "shape": ""
          }
         },
         "name": "FCEV",
         "offsetgroup": "FCEV",
         "orientation": "v",
         "showlegend": false,
         "textfont": {
          "size": 9
         },
         "textposition": "auto",
         "texttemplate": "%{y:.1f}",
         "type": "bar",
         "x": [
          "Bus",
          "HD Truck",
          "MD Truck"
         ],
         "xaxis": "x5",
         "y": [
          44.89765771717641,
          137.9531469582578,
          595.2136843017337
         ],
         "yaxis": "y5"
        },
        {
         "alignmentgroup": "True",
         "hovertemplate": "Carrier=FCEV<br>Period=2045<br>Vehicle Class=%{x}<br>Capacity (k units)=%{y}<extra></extra>",
         "legendgroup": "FCEV",
         "marker": {
          "color": "#DD4477",
          "pattern": {
           "shape": ""
          }
         },
         "name": "FCEV",
         "offsetgroup": "FCEV",
         "orientation": "v",
         "showlegend": false,
         "textfont": {
          "size": 9
         },
         "textposition": "auto",
         "texttemplate": "%{y:.1f}",
         "type": "bar",
         "x": [
          "Bus",
          "HD Truck",
          "MD Truck"
         ],
         "xaxis": "x6",
         "y": [
          51.597461049377316,
          159.2902540728119,
          644.8418475157417
         ],
         "yaxis": "y6"
        },
        {
         "alignmentgroup": "True",
         "hovertemplate": "Carrier=FCEV<br>Period=2050<br>Vehicle Class=%{x}<br>Capacity (k units)=%{y}<extra></extra>",
         "legendgroup": "FCEV",
         "marker": {
          "color": "#DD4477",
          "pattern": {
           "shape": ""
          }
         },
         "name": "FCEV",
         "offsetgroup": "FCEV",
         "orientation": "v",
         "showlegend": false,
         "textfont": {
          "size": 9
         },
         "textposition": "auto",
         "texttemplate": "%{y:.1f}",
         "type": "bar",
         "x": [
          "Bus",
          "HD Truck",
          "MD Truck"
         ],
         "xaxis": "x7",
         "y": [
          41.039138968632095,
          177.3404133085521,
          714.7937242064303
         ],
         "yaxis": "y7"
        }
       ],
       "layout": {
        "annotations": [
         {
          "font": {},
          "showarrow": false,
          "text": "2021",
          "x": 0.06285714285714285,
          "xanchor": "center",
          "xref": "paper",
          "y": -0.1,
          "yanchor": "top",
          "yref": "paper"
         },
         {
          "font": {},
          "showarrow": false,
          "text": "2025",
          "x": 0.20857142857142852,
          "xanchor": "center",
          "xref": "paper",
          "y": -0.1,
          "yanchor": "top",
          "yref": "paper"
         },
         {
          "font": {},
          "showarrow": false,
          "text": "2030",
          "x": 0.3542857142857142,
          "xanchor": "center",
          "xref": "paper",
          "y": -0.1,
          "yanchor": "top",
          "yref": "paper"
         },
         {
          "font": {},
          "showarrow": false,
          "text": "2035",
          "x": 0.5,
          "xanchor": "center",
          "xref": "paper",
          "y": -0.1,
          "yanchor": "top",
          "yref": "paper"
         },
         {
          "font": {},
          "showarrow": false,
          "text": "2040",
          "x": 0.6457142857142856,
          "xanchor": "center",
          "xref": "paper",
          "y": -0.1,
          "yanchor": "top",
          "yref": "paper"
         },
         {
          "font": {},
          "showarrow": false,
          "text": "2045",
          "x": 0.7914285714285713,
          "xanchor": "center",
          "xref": "paper",
          "y": -0.1,
          "yanchor": "top",
          "yref": "paper"
         },
         {
          "font": {},
          "showarrow": false,
          "text": "2050",
          "x": 0.937142857142857,
          "xanchor": "center",
          "xref": "paper",
          "y": -0.1,
          "yanchor": "top",
          "yref": "paper"
         }
        ],
        "bargap": 0.1,
        "barmode": "stack",
        "font": {
         "size": 14
        },
        "height": 650,
        "legend": {
         "orientation": "h",
         "title": {
          "text": ""
         },
         "tracegroupgap": 0,
         "x": 0.5,
         "xanchor": "center",
         "y": 1.02,
         "yanchor": "top"
        },
        "margin": {
         "t": 60
        },
        "template": {
         "data": {
          "bar": [
           {
            "error_x": {
             "color": "#2a3f5f"
            },
            "error_y": {
             "color": "#2a3f5f"
            },
            "marker": {
             "line": {
              "color": "white",
              "width": 0.5
             },
             "pattern": {
              "fillmode": "overlay",
              "size": 10,
              "solidity": 0.2
             }
            },
            "type": "bar"
           }
          ],
          "barpolar": [
           {
            "marker": {
             "line": {
              "color": "white",
              "width": 0.5
             },
             "pattern": {
              "fillmode": "overlay",
              "size": 10,
              "solidity": 0.2
             }
            },
            "type": "barpolar"
           }
          ],
          "carpet": [
           {
            "aaxis": {
             "endlinecolor": "#2a3f5f",
             "gridcolor": "#C8D4E3",
             "linecolor": "#C8D4E3",
             "minorgridcolor": "#C8D4E3",
             "startlinecolor": "#2a3f5f"
            },
            "baxis": {
             "endlinecolor": "#2a3f5f",
             "gridcolor": "#C8D4E3",
             "linecolor": "#C8D4E3",
             "minorgridcolor": "#C8D4E3",
             "startlinecolor": "#2a3f5f"
            },
            "type": "carpet"
           }
          ],
          "choropleth": [
           {
            "colorbar": {
             "outlinewidth": 0,
             "ticks": ""
            },
            "type": "choropleth"
           }
          ],
          "contour": [
           {
            "colorbar": {
             "outlinewidth": 0,
             "ticks": ""
            },
            "colorscale": [
             [
              0,
              "#0d0887"
             ],
             [
              0.1111111111111111,
              "#46039f"
             ],
             [
              0.2222222222222222,
              "#7201a8"
             ],
             [
              0.3333333333333333,
              "#9c179e"
             ],
             [
              0.4444444444444444,
              "#bd3786"
             ],
             [
              0.5555555555555556,
              "#d8576b"
             ],
             [
              0.6666666666666666,
              "#ed7953"
             ],
             [
              0.7777777777777778,
              "#fb9f3a"
             ],
             [
              0.8888888888888888,
              "#fdca26"
             ],
             [
              1,
              "#f0f921"
             ]
            ],
            "type": "contour"
           }
          ],
          "contourcarpet": [
           {
            "colorbar": {
             "outlinewidth": 0,
             "ticks": ""
            },
            "type": "contourcarpet"
           }
          ],
          "heatmap": [
           {
            "colorbar": {
             "outlinewidth": 0,
             "ticks": ""
            },
            "colorscale": [
             [
              0,
              "#0d0887"
             ],
             [
              0.1111111111111111,
              "#46039f"
             ],
             [
              0.2222222222222222,
              "#7201a8"
             ],
             [
              0.3333333333333333,
              "#9c179e"
             ],
             [
              0.4444444444444444,
              "#bd3786"
             ],
             [
              0.5555555555555556,
              "#d8576b"
             ],
             [
              0.6666666666666666,
              "#ed7953"
             ],
             [
              0.7777777777777778,
              "#fb9f3a"
             ],
             [
              0.8888888888888888,
              "#fdca26"
             ],
             [
              1,
              "#f0f921"
             ]
            ],
            "type": "heatmap"
           }
          ],
          "heatmapgl": [
           {
            "colorbar": {
             "outlinewidth": 0,
             "ticks": ""
            },
            "colorscale": [
             [
              0,
              "#0d0887"
             ],
             [
              0.1111111111111111,
              "#46039f"
             ],
             [
              0.2222222222222222,
              "#7201a8"
             ],
             [
              0.3333333333333333,
              "#9c179e"
             ],
             [
              0.4444444444444444,
              "#bd3786"
             ],
             [
              0.5555555555555556,
              "#d8576b"
             ],
             [
              0.6666666666666666,
              "#ed7953"
             ],
             [
              0.7777777777777778,
              "#fb9f3a"
             ],
             [
              0.8888888888888888,
              "#fdca26"
             ],
             [
              1,
              "#f0f921"
             ]
            ],
            "type": "heatmapgl"
           }
          ],
          "histogram": [
           {
            "marker": {
             "pattern": {
              "fillmode": "overlay",
              "size": 10,
              "solidity": 0.2
             }
            },
            "type": "histogram"
           }
          ],
          "histogram2d": [
           {
            "colorbar": {
             "outlinewidth": 0,
             "ticks": ""
            },
            "colorscale": [
             [
              0,
              "#0d0887"
             ],
             [
              0.1111111111111111,
              "#46039f"
             ],
             [
              0.2222222222222222,
              "#7201a8"
             ],
             [
              0.3333333333333333,
              "#9c179e"
             ],
             [
              0.4444444444444444,
              "#bd3786"
             ],
             [
              0.5555555555555556,
              "#d8576b"
             ],
             [
              0.6666666666666666,
              "#ed7953"
             ],
             [
              0.7777777777777778,
              "#fb9f3a"
             ],
             [
              0.8888888888888888,
              "#fdca26"
             ],
             [
              1,
              "#f0f921"
             ]
            ],
            "type": "histogram2d"
           }
          ],
          "histogram2dcontour": [
           {
            "colorbar": {
             "outlinewidth": 0,
             "ticks": ""
            },
            "colorscale": [
             [
              0,
              "#0d0887"
             ],
             [
              0.1111111111111111,
              "#46039f"
             ],
             [
              0.2222222222222222,
              "#7201a8"
             ],
             [
              0.3333333333333333,
              "#9c179e"
             ],
             [
              0.4444444444444444,
              "#bd3786"
             ],
             [
              0.5555555555555556,
              "#d8576b"
             ],
             [
              0.6666666666666666,
              "#ed7953"
             ],
             [
              0.7777777777777778,
              "#fb9f3a"
             ],
             [
              0.8888888888888888,
              "#fdca26"
             ],
             [
              1,
              "#f0f921"
             ]
            ],
            "type": "histogram2dcontour"
           }
          ],
          "mesh3d": [
           {
            "colorbar": {
             "outlinewidth": 0,
             "ticks": ""
            },
            "type": "mesh3d"
           }
          ],
          "parcoords": [
           {
            "line": {
             "colorbar": {
              "outlinewidth": 0,
              "ticks": ""
             }
            },
            "type": "parcoords"
           }
          ],
          "pie": [
           {
            "automargin": true,
            "type": "pie"
           }
          ],
          "scatter": [
           {
            "fillpattern": {
             "fillmode": "overlay",
             "size": 10,
             "solidity": 0.2
            },
            "type": "scatter"
           }
          ],
          "scatter3d": [
           {
            "line": {
             "colorbar": {
              "outlinewidth": 0,
              "ticks": ""
             }
            },
            "marker": {
             "colorbar": {
              "outlinewidth": 0,
              "ticks": ""
             }
            },
            "type": "scatter3d"
           }
          ],
          "scattercarpet": [
           {
            "marker": {
             "colorbar": {
              "outlinewidth": 0,
              "ticks": ""
             }
            },
            "type": "scattercarpet"
           }
          ],
          "scattergeo": [
           {
            "marker": {
             "colorbar": {
              "outlinewidth": 0,
              "ticks": ""
             }
            },
            "type": "scattergeo"
           }
          ],
          "scattergl": [
           {
            "marker": {
             "colorbar": {
              "outlinewidth": 0,
              "ticks": ""
             }
            },
            "type": "scattergl"
           }
          ],
          "scattermapbox": [
           {
            "marker": {
             "colorbar": {
              "outlinewidth": 0,
              "ticks": ""
             }
            },
            "type": "scattermapbox"
           }
          ],
          "scatterpolar": [
           {
            "marker": {
             "colorbar": {
              "outlinewidth": 0,
              "ticks": ""
             }
            },
            "type": "scatterpolar"
           }
          ],
          "scatterpolargl": [
           {
            "marker": {
             "colorbar": {
              "outlinewidth": 0,
              "ticks": ""
             }
            },
            "type": "scatterpolargl"
           }
          ],
          "scatterternary": [
           {
            "marker": {
             "colorbar": {
              "outlinewidth": 0,
              "ticks": ""
             }
            },
            "type": "scatterternary"
           }
          ],
          "surface": [
           {
            "colorbar": {
             "outlinewidth": 0,
             "ticks": ""
            },
            "colorscale": [
             [
              0,
              "#0d0887"
             ],
             [
              0.1111111111111111,
              "#46039f"
             ],
             [
              0.2222222222222222,
              "#7201a8"
             ],
             [
              0.3333333333333333,
              "#9c179e"
             ],
             [
              0.4444444444444444,
              "#bd3786"
             ],
             [
              0.5555555555555556,
              "#d8576b"
             ],
             [
              0.6666666666666666,
              "#ed7953"
             ],
             [
              0.7777777777777778,
              "#fb9f3a"
             ],
             [
              0.8888888888888888,
              "#fdca26"
             ],
             [
              1,
              "#f0f921"
             ]
            ],
            "type": "surface"
           }
          ],
          "table": [
           {
            "cells": {
             "fill": {
              "color": "#EBF0F8"
             },
             "line": {
              "color": "white"
             }
            },
            "header": {
             "fill": {
              "color": "#C8D4E3"
             },
             "line": {
              "color": "white"
             }
            },
            "type": "table"
           }
          ]
         },
         "layout": {
          "annotationdefaults": {
           "arrowcolor": "#2a3f5f",
           "arrowhead": 0,
           "arrowwidth": 1
          },
          "autotypenumbers": "strict",
          "coloraxis": {
           "colorbar": {
            "outlinewidth": 0,
            "ticks": ""
           }
          },
          "colorscale": {
           "diverging": [
            [
             0,
             "#8e0152"
            ],
            [
             0.1,
             "#c51b7d"
            ],
            [
             0.2,
             "#de77ae"
            ],
            [
             0.3,
             "#f1b6da"
            ],
            [
             0.4,
             "#fde0ef"
            ],
            [
             0.5,
             "#f7f7f7"
            ],
            [
             0.6,
             "#e6f5d0"
            ],
            [
             0.7,
             "#b8e186"
            ],
            [
             0.8,
             "#7fbc41"
            ],
            [
             0.9,
             "#4d9221"
            ],
            [
             1,
             "#276419"
            ]
           ],
           "sequential": [
            [
             0,
             "#0d0887"
            ],
            [
             0.1111111111111111,
             "#46039f"
            ],
            [
             0.2222222222222222,
             "#7201a8"
            ],
            [
             0.3333333333333333,
             "#9c179e"
            ],
            [
             0.4444444444444444,
             "#bd3786"
            ],
            [
             0.5555555555555556,
             "#d8576b"
            ],
            [
             0.6666666666666666,
             "#ed7953"
            ],
            [
             0.7777777777777778,
             "#fb9f3a"
            ],
            [
             0.8888888888888888,
             "#fdca26"
            ],
            [
             1,
             "#f0f921"
            ]
           ],
           "sequentialminus": [
            [
             0,
             "#0d0887"
            ],
            [
             0.1111111111111111,
             "#46039f"
            ],
            [
             0.2222222222222222,
             "#7201a8"
            ],
            [
             0.3333333333333333,
             "#9c179e"
            ],
            [
             0.4444444444444444,
             "#bd3786"
            ],
            [
             0.5555555555555556,
             "#d8576b"
            ],
            [
             0.6666666666666666,
             "#ed7953"
            ],
            [
             0.7777777777777778,
             "#fb9f3a"
            ],
            [
             0.8888888888888888,
             "#fdca26"
            ],
            [
             1,
             "#f0f921"
            ]
           ]
          },
          "colorway": [
           "#636efa",
           "#EF553B",
           "#00cc96",
           "#ab63fa",
           "#FFA15A",
           "#19d3f3",
           "#FF6692",
           "#B6E880",
           "#FF97FF",
           "#FECB52"
          ],
          "font": {
           "color": "#2a3f5f"
          },
          "geo": {
           "bgcolor": "white",
           "lakecolor": "white",
           "landcolor": "white",
           "showlakes": true,
           "showland": true,
           "subunitcolor": "#C8D4E3"
          },
          "hoverlabel": {
           "align": "left"
          },
          "hovermode": "closest",
          "mapbox": {
           "style": "light"
          },
          "paper_bgcolor": "white",
          "plot_bgcolor": "white",
          "polar": {
           "angularaxis": {
            "gridcolor": "#EBF0F8",
            "linecolor": "#EBF0F8",
            "ticks": ""
           },
           "bgcolor": "white",
           "radialaxis": {
            "gridcolor": "#EBF0F8",
            "linecolor": "#EBF0F8",
            "ticks": ""
           }
          },
          "scene": {
           "xaxis": {
            "backgroundcolor": "white",
            "gridcolor": "#DFE8F3",
            "gridwidth": 2,
            "linecolor": "#EBF0F8",
            "showbackground": true,
            "ticks": "",
            "zerolinecolor": "#EBF0F8"
           },
           "yaxis": {
            "backgroundcolor": "white",
            "gridcolor": "#DFE8F3",
            "gridwidth": 2,
            "linecolor": "#EBF0F8",
            "showbackground": true,
            "ticks": "",
            "zerolinecolor": "#EBF0F8"
           },
           "zaxis": {
            "backgroundcolor": "white",
            "gridcolor": "#DFE8F3",
            "gridwidth": 2,
            "linecolor": "#EBF0F8",
            "showbackground": true,
            "ticks": "",
            "zerolinecolor": "#EBF0F8"
           }
          },
          "shapedefaults": {
           "line": {
            "color": "#2a3f5f"
           }
          },
          "ternary": {
           "aaxis": {
            "gridcolor": "#DFE8F3",
            "linecolor": "#A2B1C6",
            "ticks": ""
           },
           "baxis": {
            "gridcolor": "#DFE8F3",
            "linecolor": "#A2B1C6",
            "ticks": ""
           },
           "bgcolor": "white",
           "caxis": {
            "gridcolor": "#DFE8F3",
            "linecolor": "#A2B1C6",
            "ticks": ""
           }
          },
          "title": {
           "x": 0.05
          },
          "xaxis": {
           "automargin": true,
           "gridcolor": "#EBF0F8",
           "linecolor": "#EBF0F8",
           "ticks": "",
           "title": {
            "standoff": 15
           },
           "zerolinecolor": "#EBF0F8",
           "zerolinewidth": 2
          },
          "yaxis": {
           "automargin": true,
           "gridcolor": "#EBF0F8",
           "linecolor": "#EBF0F8",
           "ticks": "",
           "title": {
            "standoff": 15
           },
           "zerolinecolor": "#EBF0F8",
           "zerolinewidth": 2
          }
         }
        },
        "title": {
         "text": "Transportation MHDV fleet stock in ON by vehicle class and drivetrain",
         "x": 0.5,
         "xanchor": "center",
         "y": 0.97,
         "yanchor": "top"
        },
        "width": 1150,
        "xaxis": {
         "anchor": "y",
         "domain": [
          0,
          0.1257142857142857
         ],
         "title": {
          "text": ""
         }
        },
        "xaxis2": {
         "anchor": "y2",
         "domain": [
          0.14571428571428569,
          0.27142857142857135
         ],
         "matches": "x",
         "title": {
          "text": ""
         }
        },
        "xaxis3": {
         "anchor": "y3",
         "domain": [
          0.29142857142857137,
          0.41714285714285704
         ],
         "matches": "x",
         "title": {
          "text": ""
         }
        },
        "xaxis4": {
         "anchor": "y4",
         "domain": [
          0.4371428571428571,
          0.5628571428571428
         ],
         "matches": "x",
         "title": {
          "text": ""
         }
        },
        "xaxis5": {
         "anchor": "y5",
         "domain": [
          0.5828571428571427,
          0.7085714285714284
         ],
         "matches": "x",
         "title": {
          "text": ""
         }
        },
        "xaxis6": {
         "anchor": "y6",
         "domain": [
          0.7285714285714284,
          0.8542857142857141
         ],
         "matches": "x",
         "title": {
          "text": ""
         }
        },
        "xaxis7": {
         "anchor": "y7",
         "domain": [
          0.8742857142857142,
          0.9999999999999999
         ],
         "matches": "x",
         "title": {
          "text": ""
         }
        },
        "yaxis": {
         "anchor": "x",
         "domain": [
          0,
          1
         ],
         "dtick": 100,
         "title": {
          "standoff": 0,
          "text": "Fleet stock (k units)"
         }
        },
        "yaxis2": {
         "anchor": "x2",
         "domain": [
          0,
          1
         ],
         "matches": "y",
         "showticklabels": false
        },
        "yaxis3": {
         "anchor": "x3",
         "domain": [
          0,
          1
         ],
         "matches": "y",
         "showticklabels": false
        },
        "yaxis4": {
         "anchor": "x4",
         "domain": [
          0,
          1
         ],
         "matches": "y",
         "showticklabels": false
        },
        "yaxis5": {
         "anchor": "x5",
         "domain": [
          0,
          1
         ],
         "matches": "y",
         "showticklabels": false
        },
        "yaxis6": {
         "anchor": "x6",
         "domain": [
          0,
          1
         ],
         "matches": "y",
         "showticklabels": false
        },
        "yaxis7": {
         "anchor": "x7",
         "domain": [
          0,
          1
         ],
         "matches": "y",
         "showticklabels": false
        }
       }
      }
     },
     "metadata": {},
     "output_type": "display_data"
    }
   ],
   "source": [
    "ref_fig = ref_trncap[ref_trncap['Vehicle Class'].isin(['MD Truck', 'HD Truck', 'Bus'])][['Period', 'Vehicle Class', 'Capacity (M units)', 'Carrier']].groupby(['Period', 'Vehicle Class', 'Carrier'], as_index=False).sum()\n",
    "ref_fig['Capacity (k units)'] = ref_fig['Capacity (M units)']*1E3\n",
    "\n",
    "ref_fig['Carrier'] = pd.Categorical(ref_fig['Carrier'], categories=drivetrain_order, ordered=True)\n",
    "ref_fig = ref_fig.sort_values(['Carrier', 'Period'])\n",
    "\n",
    "fig = px.bar(ref_fig, \n",
    "             x='Vehicle Class', \n",
    "             y='Capacity (k units)', \n",
    "             color='Carrier', \n",
    "             barmode='stack', \n",
    "             facet_col='Period',\n",
    "             facet_col_spacing=2E-2,\n",
    "             template='plotly_white',\n",
    "             color_discrete_sequence=px.colors.qualitative.G10[:7] + px.colors.qualitative.G10[8:],\n",
    "             text_auto='.1f',\n",
    "            #  text='Demand (PJ)_sum'\n",
    "             width=1150, height=650,\n",
    "             )\n",
    "\n",
    "fig.update_layout(title=dict(\n",
    "        text='Transportation MHDV fleet stock in ON by vehicle class and drivetrain',\n",
    "        x=0.5, \n",
    "        y=0.97,\n",
    "        xanchor='center',\n",
    "        yanchor='top'\n",
    "    ),\n",
    "    xaxis=dict(title='Period'),\n",
    "    yaxis=dict(title='Fleet stock (k units)',\n",
    "               dtick=100),\n",
    "    yaxis_title_standoff=0,\n",
    "    legend_title_text='',\n",
    "    bargap=0.1,\n",
    "    legend=dict(\n",
    "        orientation='h',  \n",
    "        yanchor='top',\n",
    "        y=1.02,  \n",
    "        xanchor='center',\n",
    "        x=0.5),\n",
    "    font=dict(\n",
    "        # family=\"Open Sans\",\n",
    "        size=14)\n",
    "    )\n",
    "\n",
    "for annotation in fig.layout.annotations:\n",
    "    annotation.text = annotation.text.split('=')[1]\n",
    "    annotation.y = -0.1  \n",
    "    annotation.yanchor = 'top' \n",
    "\n",
    "for axis in fig.layout:\n",
    "    if axis.startswith('xaxis'):\n",
    "        fig.layout[axis].title.text = ''\n",
    "\n",
    "fig.for_each_trace(lambda trace: trace.update(textfont=dict(size=9)))\n",
    "\n",
    "fig.show()"
   ]
  },
  {
   "cell_type": "markdown",
   "metadata": {},
   "source": [
    "# Added Capacity"
   ]
  },
  {
   "cell_type": "code",
   "execution_count": 19,
   "metadata": {},
   "outputs": [],
   "source": [
    "# ref_file = canoe_results + '/builtcapacity.csv'\n",
    "# ref_newcap = pd.read_csv(ref_file)\n",
    "# ref_newcap.rename(columns={'sector': 'Sector', 'tech': 'Technology', 'vintage': 'Period', 'capacity': 'New Capacity'}, inplace=True)\n",
    "\n",
    "# ref_newcap_trn = ref_newcap[(ref_newcap['Sector'] == 'Transport')].copy()\n",
    "# ref_newcap_trn['Mode'] = ref_newcap_trn['Technology'].apply(map_tech_to_mode)\n",
    "# ref_newcap_trn['Carrier'] = ref_newcap_trn['Technology'].apply(map_tech_to_drivetrain)\n",
    "# ref_newcap_trn['Vehicle Class'] = ref_newcap_trn['Mode'].apply(veh_class_mapping)"
   ]
  },
  {
   "cell_type": "code",
   "execution_count": 20,
   "metadata": {},
   "outputs": [],
   "source": [
    "ref_trnnewcap.columns = ref_trnnewcap.columns.astype(str)\n",
    "periods = [col for col in ref_trnnewcap.columns if col.isdigit()]\n",
    "params = [col for col in ref_trnnewcap.columns if not col.isdigit()]\n",
    "ref_trnnewcap = pd.melt(ref_trnnewcap, id_vars=params, var_name='Period', value_name='New Capacity', value_vars=periods)\n",
    "\n",
    "ref_trnnewcap['Vehicle Class'] = ref_trnnewcap['Mode'].apply(veh_class_mapping)"
   ]
  },
  {
   "cell_type": "code",
   "execution_count": 21,
   "metadata": {},
   "outputs": [
    {
     "data": {
      "application/vnd.plotly.v1+json": {
       "config": {
        "plotlyServerURL": "https://plot.ly"
       },
       "data": [
        {
         "alignmentgroup": "True",
         "hovertemplate": "Carrier=Gasoline<br>Period=2021<br>Vehicle Class=%{x}<br>New Capacity=%{y}<extra></extra>",
         "legendgroup": "Gasoline",
         "marker": {
          "color": "#3366CC",
          "pattern": {
           "shape": ""
          }
         },
         "name": "Gasoline",
         "offsetgroup": "Gasoline",
         "orientation": "v",
         "showlegend": true,
         "textfont": {
          "size": 9
         },
         "textposition": "auto",
         "texttemplate": "%{y:.1f}",
         "type": "bar",
         "x": [
          "LD Car",
          "LD Truck"
         ],
         "xaxis": "x",
         "y": [
          0.0004135621435503011,
          0.0015068952278605614
         ],
         "yaxis": "y"
        },
        {
         "alignmentgroup": "True",
         "hovertemplate": "Carrier=Gasoline<br>Period=2025<br>Vehicle Class=%{x}<br>New Capacity=%{y}<extra></extra>",
         "legendgroup": "Gasoline",
         "marker": {
          "color": "#3366CC",
          "pattern": {
           "shape": ""
          }
         },
         "name": "Gasoline",
         "offsetgroup": "Gasoline",
         "orientation": "v",
         "showlegend": false,
         "textfont": {
          "size": 9
         },
         "textposition": "auto",
         "texttemplate": "%{y:.1f}",
         "type": "bar",
         "x": [
          "LD Car",
          "LD Truck"
         ],
         "xaxis": "x2",
         "y": [
          0.0003649060114069265,
          0.0011833810000828329
         ],
         "yaxis": "y2"
        },
        {
         "alignmentgroup": "True",
         "hovertemplate": "Carrier=Gasoline<br>Period=2030<br>Vehicle Class=%{x}<br>New Capacity=%{y}<extra></extra>",
         "legendgroup": "Gasoline",
         "marker": {
          "color": "#3366CC",
          "pattern": {
           "shape": ""
          }
         },
         "name": "Gasoline",
         "offsetgroup": "Gasoline",
         "orientation": "v",
         "showlegend": false,
         "textfont": {
          "size": 9
         },
         "textposition": "auto",
         "texttemplate": "%{y:.1f}",
         "type": "bar",
         "x": [
          "LD Car",
          "LD Truck"
         ],
         "xaxis": "x3",
         "y": [
          0.0003249646122840417,
          0.000919098685524426
         ],
         "yaxis": "y3"
        },
        {
         "alignmentgroup": "True",
         "hovertemplate": "Carrier=Gasoline<br>Period=2035<br>Vehicle Class=%{x}<br>New Capacity=%{y}<extra></extra>",
         "legendgroup": "Gasoline",
         "marker": {
          "color": "#3366CC",
          "pattern": {
           "shape": ""
          }
         },
         "name": "Gasoline",
         "offsetgroup": "Gasoline",
         "orientation": "v",
         "showlegend": false,
         "textfont": {
          "size": 9
         },
         "textposition": "auto",
         "texttemplate": "%{y:.1f}",
         "type": "bar",
         "x": [
          "LD Car",
          "LD Truck"
         ],
         "xaxis": "x4",
         "y": [
          0.0002968658838503556,
          0.0008133108142747317
         ],
         "yaxis": "y4"
        },
        {
         "alignmentgroup": "True",
         "hovertemplate": "Carrier=Gasoline<br>Period=2040<br>Vehicle Class=%{x}<br>New Capacity=%{y}<extra></extra>",
         "legendgroup": "Gasoline",
         "marker": {
          "color": "#3366CC",
          "pattern": {
           "shape": ""
          }
         },
         "name": "Gasoline",
         "offsetgroup": "Gasoline",
         "orientation": "v",
         "showlegend": false,
         "textfont": {
          "size": 9
         },
         "textposition": "auto",
         "texttemplate": "%{y:.1f}",
         "type": "bar",
         "x": [
          "LD Car",
          "LD Truck"
         ],
         "xaxis": "x5",
         "y": [
          0.0003336910895699896,
          0.0006692036397250695
         ],
         "yaxis": "y5"
        },
        {
         "alignmentgroup": "True",
         "hovertemplate": "Carrier=Gasoline<br>Period=2045<br>Vehicle Class=%{x}<br>New Capacity=%{y}<extra></extra>",
         "legendgroup": "Gasoline",
         "marker": {
          "color": "#3366CC",
          "pattern": {
           "shape": ""
          }
         },
         "name": "Gasoline",
         "offsetgroup": "Gasoline",
         "orientation": "v",
         "showlegend": false,
         "textfont": {
          "size": 9
         },
         "textposition": "auto",
         "texttemplate": "%{y:.1f}",
         "type": "bar",
         "x": [
          "LD Car",
          "LD Truck"
         ],
         "xaxis": "x6",
         "y": [
          0.0003456649406481166,
          0.0007748543485534766
         ],
         "yaxis": "y6"
        },
        {
         "alignmentgroup": "True",
         "hovertemplate": "Carrier=Gasoline<br>Period=2050<br>Vehicle Class=%{x}<br>New Capacity=%{y}<extra></extra>",
         "legendgroup": "Gasoline",
         "marker": {
          "color": "#3366CC",
          "pattern": {
           "shape": ""
          }
         },
         "name": "Gasoline",
         "offsetgroup": "Gasoline",
         "orientation": "v",
         "showlegend": false,
         "textfont": {
          "size": 9
         },
         "textposition": "auto",
         "texttemplate": "%{y:.1f}",
         "type": "bar",
         "x": [
          "LD Car",
          "LD Truck"
         ],
         "xaxis": "x7",
         "y": [
          0.0003440863058865569,
          0.0007648324571147983
         ],
         "yaxis": "y7"
        },
        {
         "alignmentgroup": "True",
         "hovertemplate": "Carrier=Diesel<br>Period=2021<br>Vehicle Class=%{x}<br>New Capacity=%{y}<extra></extra>",
         "legendgroup": "Diesel",
         "marker": {
          "color": "#DC3912",
          "pattern": {
           "shape": ""
          }
         },
         "name": "Diesel",
         "offsetgroup": "Diesel",
         "orientation": "v",
         "showlegend": true,
         "textfont": {
          "size": 9
         },
         "textposition": "auto",
         "texttemplate": "%{y:.1f}",
         "type": "bar",
         "x": [
          "LD Car",
          "LD Truck"
         ],
         "xaxis": "x",
         "y": [
          0.0004725967631859247,
          0.0017697150494337243
         ],
         "yaxis": "y"
        },
        {
         "alignmentgroup": "True",
         "hovertemplate": "Carrier=Diesel<br>Period=2025<br>Vehicle Class=%{x}<br>New Capacity=%{y}<extra></extra>",
         "legendgroup": "Diesel",
         "marker": {
          "color": "#DC3912",
          "pattern": {
           "shape": ""
          }
         },
         "name": "Diesel",
         "offsetgroup": "Diesel",
         "orientation": "v",
         "showlegend": false,
         "textfont": {
          "size": 9
         },
         "textposition": "auto",
         "texttemplate": "%{y:.1f}",
         "type": "bar",
         "x": [
          "LD Car",
          "LD Truck"
         ],
         "xaxis": "x2",
         "y": [
          0.0003684082006468687,
          0.0012101374227419881
         ],
         "yaxis": "y2"
        },
        {
         "alignmentgroup": "True",
         "hovertemplate": "Carrier=Diesel<br>Period=2030<br>Vehicle Class=%{x}<br>New Capacity=%{y}<extra></extra>",
         "legendgroup": "Diesel",
         "marker": {
          "color": "#DC3912",
          "pattern": {
           "shape": ""
          }
         },
         "name": "Diesel",
         "offsetgroup": "Diesel",
         "orientation": "v",
         "showlegend": false,
         "textfont": {
          "size": 9
         },
         "textposition": "auto",
         "texttemplate": "%{y:.1f}",
         "type": "bar",
         "x": [
          "LD Car",
          "LD Truck"
         ],
         "xaxis": "x3",
         "y": [
          0.0003417977058103663,
          0.0009728569355354571
         ],
         "yaxis": "y3"
        },
        {
         "alignmentgroup": "True",
         "hovertemplate": "Carrier=Diesel<br>Period=2035<br>Vehicle Class=%{x}<br>New Capacity=%{y}<extra></extra>",
         "legendgroup": "Diesel",
         "marker": {
          "color": "#DC3912",
          "pattern": {
           "shape": ""
          }
         },
         "name": "Diesel",
         "offsetgroup": "Diesel",
         "orientation": "v",
         "showlegend": false,
         "textfont": {
          "size": 9
         },
         "textposition": "auto",
         "texttemplate": "%{y:.1f}",
         "type": "bar",
         "x": [
          "LD Car",
          "LD Truck"
         ],
         "xaxis": "x4",
         "y": [
          0.0003281810968269721,
          0.000919531716201558
         ],
         "yaxis": "y4"
        },
        {
         "alignmentgroup": "True",
         "hovertemplate": "Carrier=Diesel<br>Period=2040<br>Vehicle Class=%{x}<br>New Capacity=%{y}<extra></extra>",
         "legendgroup": "Diesel",
         "marker": {
          "color": "#DC3912",
          "pattern": {
           "shape": ""
          }
         },
         "name": "Diesel",
         "offsetgroup": "Diesel",
         "orientation": "v",
         "showlegend": false,
         "textfont": {
          "size": 9
         },
         "textposition": "auto",
         "texttemplate": "%{y:.1f}",
         "type": "bar",
         "x": [
          "LD Car",
          "LD Truck"
         ],
         "xaxis": "x5",
         "y": [
          0.0003637339501298908,
          0.0007391737028578367
         ],
         "yaxis": "y5"
        },
        {
         "alignmentgroup": "True",
         "hovertemplate": "Carrier=Diesel<br>Period=2045<br>Vehicle Class=%{x}<br>New Capacity=%{y}<extra></extra>",
         "legendgroup": "Diesel",
         "marker": {
          "color": "#DC3912",
          "pattern": {
           "shape": ""
          }
         },
         "name": "Diesel",
         "offsetgroup": "Diesel",
         "orientation": "v",
         "showlegend": false,
         "textfont": {
          "size": 9
         },
         "textposition": "auto",
         "texttemplate": "%{y:.1f}",
         "type": "bar",
         "x": [
          "LD Car",
          "LD Truck"
         ],
         "xaxis": "x6",
         "y": [
          0.0003475210553078932,
          0.0007961803028923263
         ],
         "yaxis": "y6"
        },
        {
         "alignmentgroup": "True",
         "hovertemplate": "Carrier=Diesel<br>Period=2050<br>Vehicle Class=%{x}<br>New Capacity=%{y}<extra></extra>",
         "legendgroup": "Diesel",
         "marker": {
          "color": "#DC3912",
          "pattern": {
           "shape": ""
          }
         },
         "name": "Diesel",
         "offsetgroup": "Diesel",
         "orientation": "v",
         "showlegend": false,
         "textfont": {
          "size": 9
         },
         "textposition": "auto",
         "texttemplate": "%{y:.1f}",
         "type": "bar",
         "x": [
          "LD Car",
          "LD Truck"
         ],
         "xaxis": "x7",
         "y": [
          0.0003469363712245068,
          0.0007908554256930247
         ],
         "yaxis": "y7"
        },
        {
         "alignmentgroup": "True",
         "hovertemplate": "Carrier=CNG<br>Period=2021<br>Vehicle Class=%{x}<br>New Capacity=%{y}<extra></extra>",
         "legendgroup": "CNG",
         "marker": {
          "color": "#FF9900",
          "pattern": {
           "shape": ""
          }
         },
         "name": "CNG",
         "offsetgroup": "CNG",
         "orientation": "v",
         "showlegend": true,
         "textfont": {
          "size": 9
         },
         "textposition": "auto",
         "texttemplate": "%{y:.1f}",
         "type": "bar",
         "x": [
          "LD Car",
          "LD Truck"
         ],
         "xaxis": "x",
         "y": [
          0.0004362201604886074,
          0.005774072136938057
         ],
         "yaxis": "y"
        },
        {
         "alignmentgroup": "True",
         "hovertemplate": "Carrier=CNG<br>Period=2025<br>Vehicle Class=%{x}<br>New Capacity=%{y}<extra></extra>",
         "legendgroup": "CNG",
         "marker": {
          "color": "#FF9900",
          "pattern": {
           "shape": ""
          }
         },
         "name": "CNG",
         "offsetgroup": "CNG",
         "orientation": "v",
         "showlegend": false,
         "textfont": {
          "size": 9
         },
         "textposition": "auto",
         "texttemplate": "%{y:.1f}",
         "type": "bar",
         "x": [
          "LD Car",
          "LD Truck"
         ],
         "xaxis": "x2",
         "y": [
          0.0003465025427486809,
          0.0022392318506307273
         ],
         "yaxis": "y2"
        },
        {
         "alignmentgroup": "True",
         "hovertemplate": "Carrier=CNG<br>Period=2030<br>Vehicle Class=%{x}<br>New Capacity=%{y}<extra></extra>",
         "legendgroup": "CNG",
         "marker": {
          "color": "#FF9900",
          "pattern": {
           "shape": ""
          }
         },
         "name": "CNG",
         "offsetgroup": "CNG",
         "orientation": "v",
         "showlegend": false,
         "textfont": {
          "size": 9
         },
         "textposition": "auto",
         "texttemplate": "%{y:.1f}",
         "type": "bar",
         "x": [
          "LD Car",
          "LD Truck"
         ],
         "xaxis": "x3",
         "y": [
          0.0003485532039611931,
          0.0016936335626826686
         ],
         "yaxis": "y3"
        },
        {
         "alignmentgroup": "True",
         "hovertemplate": "Carrier=CNG<br>Period=2035<br>Vehicle Class=%{x}<br>New Capacity=%{y}<extra></extra>",
         "legendgroup": "CNG",
         "marker": {
          "color": "#FF9900",
          "pattern": {
           "shape": ""
          }
         },
         "name": "CNG",
         "offsetgroup": "CNG",
         "orientation": "v",
         "showlegend": false,
         "textfont": {
          "size": 9
         },
         "textposition": "auto",
         "texttemplate": "%{y:.1f}",
         "type": "bar",
         "x": [
          "LD Car",
          "LD Truck"
         ],
         "xaxis": "x4",
         "y": [
          0.0003561649639219813,
          0.0016523532935976788
         ],
         "yaxis": "y4"
        },
        {
         "alignmentgroup": "True",
         "hovertemplate": "Carrier=CNG<br>Period=2040<br>Vehicle Class=%{x}<br>New Capacity=%{y}<extra></extra>",
         "legendgroup": "CNG",
         "marker": {
          "color": "#FF9900",
          "pattern": {
           "shape": ""
          }
         },
         "name": "CNG",
         "offsetgroup": "CNG",
         "orientation": "v",
         "showlegend": false,
         "textfont": {
          "size": 9
         },
         "textposition": "auto",
         "texttemplate": "%{y:.1f}",
         "type": "bar",
         "x": [
          "LD Car",
          "LD Truck"
         ],
         "xaxis": "x5",
         "y": [
          0.0004148121155853252,
          0.0013287389359683778
         ],
         "yaxis": "y5"
        },
        {
         "alignmentgroup": "True",
         "hovertemplate": "Carrier=CNG<br>Period=2045<br>Vehicle Class=%{x}<br>New Capacity=%{y}<extra></extra>",
         "legendgroup": "CNG",
         "marker": {
          "color": "#FF9900",
          "pattern": {
           "shape": ""
          }
         },
         "name": "CNG",
         "offsetgroup": "CNG",
         "orientation": "v",
         "showlegend": false,
         "textfont": {
          "size": 9
         },
         "textposition": "auto",
         "texttemplate": "%{y:.1f}",
         "type": "bar",
         "x": [
          "LD Car",
          "LD Truck"
         ],
         "xaxis": "x6",
         "y": [
          0.0003795840069381329,
          0.0013327247253158278
         ],
         "yaxis": "y6"
        },
        {
         "alignmentgroup": "True",
         "hovertemplate": "Carrier=CNG<br>Period=2050<br>Vehicle Class=%{x}<br>New Capacity=%{y}<extra></extra>",
         "legendgroup": "CNG",
         "marker": {
          "color": "#FF9900",
          "pattern": {
           "shape": ""
          }
         },
         "name": "CNG",
         "offsetgroup": "CNG",
         "orientation": "v",
         "showlegend": false,
         "textfont": {
          "size": 9
         },
         "textposition": "auto",
         "texttemplate": "%{y:.1f}",
         "type": "bar",
         "x": [
          "LD Car",
          "LD Truck"
         ],
         "xaxis": "x7",
         "y": [
          0.0003848879173791345,
          0.0013122864527122498
         ],
         "yaxis": "y7"
        },
        {
         "alignmentgroup": "True",
         "hovertemplate": "Carrier=HEV<br>Period=2021<br>Vehicle Class=%{x}<br>New Capacity=%{y}<extra></extra>",
         "legendgroup": "HEV",
         "marker": {
          "color": "#109618",
          "pattern": {
           "shape": ""
          }
         },
         "name": "HEV",
         "offsetgroup": "HEV",
         "orientation": "v",
         "showlegend": true,
         "textfont": {
          "size": 9
         },
         "textposition": "auto",
         "texttemplate": "%{y:.1f}",
         "type": "bar",
         "x": [
          "LD Car",
          "LD Truck"
         ],
         "xaxis": "x",
         "y": [
          0.001773616234520371,
          396.92072324459343
         ],
         "yaxis": "y"
        },
        {
         "alignmentgroup": "True",
         "hovertemplate": "Carrier=HEV<br>Period=2025<br>Vehicle Class=%{x}<br>New Capacity=%{y}<extra></extra>",
         "legendgroup": "HEV",
         "marker": {
          "color": "#109618",
          "pattern": {
           "shape": ""
          }
         },
         "name": "HEV",
         "offsetgroup": "HEV",
         "orientation": "v",
         "showlegend": false,
         "textfont": {
          "size": 9
         },
         "textposition": "auto",
         "texttemplate": "%{y:.1f}",
         "type": "bar",
         "x": [
          "LD Car",
          "LD Truck"
         ],
         "xaxis": "x2",
         "y": [
          0.001020009054280924,
          18.828642604702754
         ],
         "yaxis": "y2"
        },
        {
         "alignmentgroup": "True",
         "hovertemplate": "Carrier=HEV<br>Period=2030<br>Vehicle Class=%{x}<br>New Capacity=%{y}<extra></extra>",
         "legendgroup": "HEV",
         "marker": {
          "color": "#109618",
          "pattern": {
           "shape": ""
          }
         },
         "name": "HEV",
         "offsetgroup": "HEV",
         "orientation": "v",
         "showlegend": false,
         "textfont": {
          "size": 9
         },
         "textposition": "auto",
         "texttemplate": "%{y:.1f}",
         "type": "bar",
         "x": [
          "LD Car",
          "LD Truck"
         ],
         "xaxis": "x3",
         "y": [
          0.0007345970484181723,
          21.89767068998266
         ],
         "yaxis": "y3"
        },
        {
         "alignmentgroup": "True",
         "hovertemplate": "Carrier=HEV<br>Period=2035<br>Vehicle Class=%{x}<br>New Capacity=%{y}<extra></extra>",
         "legendgroup": "HEV",
         "marker": {
          "color": "#109618",
          "pattern": {
           "shape": ""
          }
         },
         "name": "HEV",
         "offsetgroup": "HEV",
         "orientation": "v",
         "showlegend": false,
         "textfont": {
          "size": 9
         },
         "textposition": "auto",
         "texttemplate": "%{y:.1f}",
         "type": "bar",
         "x": [
          "LD Car",
          "LD Truck"
         ],
         "xaxis": "x4",
         "y": [
          0.0006550812551930178,
          10.726572020334654
         ],
         "yaxis": "y4"
        },
        {
         "alignmentgroup": "True",
         "hovertemplate": "Carrier=HEV<br>Period=2040<br>Vehicle Class=%{x}<br>New Capacity=%{y}<extra></extra>",
         "legendgroup": "HEV",
         "marker": {
          "color": "#109618",
          "pattern": {
           "shape": ""
          }
         },
         "name": "HEV",
         "offsetgroup": "HEV",
         "orientation": "v",
         "showlegend": false,
         "textfont": {
          "size": 9
         },
         "textposition": "auto",
         "texttemplate": "%{y:.1f}",
         "type": "bar",
         "x": [
          "LD Car",
          "LD Truck"
         ],
         "xaxis": "x5",
         "y": [
          0.0007289308391508677,
          2.174066658893815
         ],
         "yaxis": "y5"
        },
        {
         "alignmentgroup": "True",
         "hovertemplate": "Carrier=HEV<br>Period=2045<br>Vehicle Class=%{x}<br>New Capacity=%{y}<extra></extra>",
         "legendgroup": "HEV",
         "marker": {
          "color": "#109618",
          "pattern": {
           "shape": ""
          }
         },
         "name": "HEV",
         "offsetgroup": "HEV",
         "orientation": "v",
         "showlegend": false,
         "textfont": {
          "size": 9
         },
         "textposition": "auto",
         "texttemplate": "%{y:.1f}",
         "type": "bar",
         "x": [
          "LD Car",
          "LD Truck"
         ],
         "xaxis": "x6",
         "y": [
          0.000863294152671952,
          1.0566581859843498
         ],
         "yaxis": "y6"
        },
        {
         "alignmentgroup": "True",
         "hovertemplate": "Carrier=HEV<br>Period=2050<br>Vehicle Class=%{x}<br>New Capacity=%{y}<extra></extra>",
         "legendgroup": "HEV",
         "marker": {
          "color": "#109618",
          "pattern": {
           "shape": ""
          }
         },
         "name": "HEV",
         "offsetgroup": "HEV",
         "orientation": "v",
         "showlegend": false,
         "textfont": {
          "size": 9
         },
         "textposition": "auto",
         "texttemplate": "%{y:.1f}",
         "type": "bar",
         "x": [
          "LD Car",
          "LD Truck"
         ],
         "xaxis": "x7",
         "y": [
          0.0008493433037733474,
          0.3478592059634743
         ],
         "yaxis": "y7"
        },
        {
         "alignmentgroup": "True",
         "hovertemplate": "Carrier=PHEV<br>Period=2021<br>Vehicle Class=%{x}<br>New Capacity=%{y}<extra></extra>",
         "legendgroup": "PHEV",
         "marker": {
          "color": "#990099",
          "pattern": {
           "shape": ""
          }
         },
         "name": "PHEV",
         "offsetgroup": "PHEV",
         "orientation": "v",
         "showlegend": true,
         "textfont": {
          "size": 9
         },
         "textposition": "auto",
         "texttemplate": "%{y:.1f}",
         "type": "bar",
         "x": [
          "LD Car",
          "LD Truck"
         ],
         "xaxis": "x",
         "y": [
          0.000738609334586512,
          0.003559099479234936
         ],
         "yaxis": "y"
        },
        {
         "alignmentgroup": "True",
         "hovertemplate": "Carrier=PHEV<br>Period=2025<br>Vehicle Class=%{x}<br>New Capacity=%{y}<extra></extra>",
         "legendgroup": "PHEV",
         "marker": {
          "color": "#990099",
          "pattern": {
           "shape": ""
          }
         },
         "name": "PHEV",
         "offsetgroup": "PHEV",
         "orientation": "v",
         "showlegend": false,
         "textfont": {
          "size": 9
         },
         "textposition": "auto",
         "texttemplate": "%{y:.1f}",
         "type": "bar",
         "x": [
          "LD Car",
          "LD Truck"
         ],
         "xaxis": "x2",
         "y": [
          0.0007254770889540347,
          0.003056657125907947
         ],
         "yaxis": "y2"
        },
        {
         "alignmentgroup": "True",
         "hovertemplate": "Carrier=PHEV<br>Period=2030<br>Vehicle Class=%{x}<br>New Capacity=%{y}<extra></extra>",
         "legendgroup": "PHEV",
         "marker": {
          "color": "#990099",
          "pattern": {
           "shape": ""
          }
         },
         "name": "PHEV",
         "offsetgroup": "PHEV",
         "orientation": "v",
         "showlegend": false,
         "textfont": {
          "size": 9
         },
         "textposition": "auto",
         "texttemplate": "%{y:.1f}",
         "type": "bar",
         "x": [
          "LD Car",
          "LD Truck"
         ],
         "xaxis": "x3",
         "y": [
          0.0008189561511379716,
          0.002818256533098716
         ],
         "yaxis": "y3"
        },
        {
         "alignmentgroup": "True",
         "hovertemplate": "Carrier=PHEV<br>Period=2035<br>Vehicle Class=%{x}<br>New Capacity=%{y}<extra></extra>",
         "legendgroup": "PHEV",
         "marker": {
          "color": "#990099",
          "pattern": {
           "shape": ""
          }
         },
         "name": "PHEV",
         "offsetgroup": "PHEV",
         "orientation": "v",
         "showlegend": false,
         "textfont": {
          "size": 9
         },
         "textposition": "auto",
         "texttemplate": "%{y:.1f}",
         "type": "bar",
         "x": [
          "LD Car",
          "LD Truck"
         ],
         "xaxis": "x4",
         "y": [
          0.0008166010396950382,
          0.0026645803304709594
         ],
         "yaxis": "y4"
        },
        {
         "alignmentgroup": "True",
         "hovertemplate": "Carrier=PHEV<br>Period=2040<br>Vehicle Class=%{x}<br>New Capacity=%{y}<extra></extra>",
         "legendgroup": "PHEV",
         "marker": {
          "color": "#990099",
          "pattern": {
           "shape": ""
          }
         },
         "name": "PHEV",
         "offsetgroup": "PHEV",
         "orientation": "v",
         "showlegend": false,
         "textfont": {
          "size": 9
         },
         "textposition": "auto",
         "texttemplate": "%{y:.1f}",
         "type": "bar",
         "x": [
          "LD Car",
          "LD Truck"
         ],
         "xaxis": "x5",
         "y": [
          0.000926399977332331,
          0.002180579456366244
         ],
         "yaxis": "y5"
        },
        {
         "alignmentgroup": "True",
         "hovertemplate": "Carrier=PHEV<br>Period=2045<br>Vehicle Class=%{x}<br>New Capacity=%{y}<extra></extra>",
         "legendgroup": "PHEV",
         "marker": {
          "color": "#990099",
          "pattern": {
           "shape": ""
          }
         },
         "name": "PHEV",
         "offsetgroup": "PHEV",
         "orientation": "v",
         "showlegend": false,
         "textfont": {
          "size": 9
         },
         "textposition": "auto",
         "texttemplate": "%{y:.1f}",
         "type": "bar",
         "x": [
          "LD Car",
          "LD Truck"
         ],
         "xaxis": "x6",
         "y": [
          0.0007661564580818824,
          0.0018837270667663416
         ],
         "yaxis": "y6"
        },
        {
         "alignmentgroup": "True",
         "hovertemplate": "Carrier=PHEV<br>Period=2050<br>Vehicle Class=%{x}<br>New Capacity=%{y}<extra></extra>",
         "legendgroup": "PHEV",
         "marker": {
          "color": "#990099",
          "pattern": {
           "shape": ""
          }
         },
         "name": "PHEV",
         "offsetgroup": "PHEV",
         "orientation": "v",
         "showlegend": false,
         "textfont": {
          "size": 9
         },
         "textposition": "auto",
         "texttemplate": "%{y:.1f}",
         "type": "bar",
         "x": [
          "LD Car",
          "LD Truck"
         ],
         "xaxis": "x7",
         "y": [
          0.0007971744586911739,
          0.001964644828135261
         ],
         "yaxis": "y7"
        },
        {
         "alignmentgroup": "True",
         "hovertemplate": "Carrier=BEV<br>Period=2021<br>Vehicle Class=%{x}<br>New Capacity=%{y}<extra></extra>",
         "legendgroup": "BEV",
         "marker": {
          "color": "#0099C6",
          "pattern": {
           "shape": ""
          }
         },
         "name": "BEV",
         "offsetgroup": "BEV",
         "orientation": "v",
         "showlegend": true,
         "textfont": {
          "size": 9
         },
         "textposition": "auto",
         "texttemplate": "%{y:.1f}",
         "type": "bar",
         "x": [
          "LD Car",
          "LD Truck"
         ],
         "xaxis": "x",
         "y": [
          455.9507557728187,
          0.05247089420958029
         ],
         "yaxis": "y"
        },
        {
         "alignmentgroup": "True",
         "hovertemplate": "Carrier=BEV<br>Period=2025<br>Vehicle Class=%{x}<br>New Capacity=%{y}<extra></extra>",
         "legendgroup": "BEV",
         "marker": {
          "color": "#0099C6",
          "pattern": {
           "shape": ""
          }
         },
         "name": "BEV",
         "offsetgroup": "BEV",
         "orientation": "v",
         "showlegend": false,
         "textfont": {
          "size": 9
         },
         "textposition": "auto",
         "texttemplate": "%{y:.1f}",
         "type": "bar",
         "x": [
          "LD Car",
          "LD Truck"
         ],
         "xaxis": "x2",
         "y": [
          1984.3549948760285,
          1682.1810671458475
         ],
         "yaxis": "y2"
        },
        {
         "alignmentgroup": "True",
         "hovertemplate": "Carrier=BEV<br>Period=2030<br>Vehicle Class=%{x}<br>New Capacity=%{y}<extra></extra>",
         "legendgroup": "BEV",
         "marker": {
          "color": "#0099C6",
          "pattern": {
           "shape": ""
          }
         },
         "name": "BEV",
         "offsetgroup": "BEV",
         "orientation": "v",
         "showlegend": false,
         "textfont": {
          "size": 9
         },
         "textposition": "auto",
         "texttemplate": "%{y:.1f}",
         "type": "bar",
         "x": [
          "LD Car",
          "LD Truck"
         ],
         "xaxis": "x3",
         "y": [
          1491.9225487316742,
          1579.5823171457066
         ],
         "yaxis": "y3"
        },
        {
         "alignmentgroup": "True",
         "hovertemplate": "Carrier=BEV<br>Period=2035<br>Vehicle Class=%{x}<br>New Capacity=%{y}<extra></extra>",
         "legendgroup": "BEV",
         "marker": {
          "color": "#0099C6",
          "pattern": {
           "shape": ""
          }
         },
         "name": "BEV",
         "offsetgroup": "BEV",
         "orientation": "v",
         "showlegend": false,
         "textfont": {
          "size": 9
         },
         "textposition": "auto",
         "texttemplate": "%{y:.1f}",
         "type": "bar",
         "x": [
          "LD Car",
          "LD Truck"
         ],
         "xaxis": "x4",
         "y": [
          2681.1045259841376,
          2771.73615645037
         ],
         "yaxis": "y4"
        },
        {
         "alignmentgroup": "True",
         "hovertemplate": "Carrier=BEV<br>Period=2040<br>Vehicle Class=%{x}<br>New Capacity=%{y}<extra></extra>",
         "legendgroup": "BEV",
         "marker": {
          "color": "#0099C6",
          "pattern": {
           "shape": ""
          }
         },
         "name": "BEV",
         "offsetgroup": "BEV",
         "orientation": "v",
         "showlegend": false,
         "textfont": {
          "size": 9
         },
         "textposition": "auto",
         "texttemplate": "%{y:.1f}",
         "type": "bar",
         "x": [
          "LD Car",
          "LD Truck"
         ],
         "xaxis": "x5",
         "y": [
          2300.873067931815,
          2433.1639247719236
         ],
         "yaxis": "y5"
        },
        {
         "alignmentgroup": "True",
         "hovertemplate": "Carrier=BEV<br>Period=2045<br>Vehicle Class=%{x}<br>New Capacity=%{y}<extra></extra>",
         "legendgroup": "BEV",
         "marker": {
          "color": "#0099C6",
          "pattern": {
           "shape": ""
          }
         },
         "name": "BEV",
         "offsetgroup": "BEV",
         "orientation": "v",
         "showlegend": false,
         "textfont": {
          "size": 9
         },
         "textposition": "auto",
         "texttemplate": "%{y:.1f}",
         "type": "bar",
         "x": [
          "LD Car",
          "LD Truck"
         ],
         "xaxis": "x6",
         "y": [
          2138.663926902665,
          2094.3890632454254
         ],
         "yaxis": "y6"
        },
        {
         "alignmentgroup": "True",
         "hovertemplate": "Carrier=BEV<br>Period=2050<br>Vehicle Class=%{x}<br>New Capacity=%{y}<extra></extra>",
         "legendgroup": "BEV",
         "marker": {
          "color": "#0099C6",
          "pattern": {
           "shape": ""
          }
         },
         "name": "BEV",
         "offsetgroup": "BEV",
         "orientation": "v",
         "showlegend": false,
         "textfont": {
          "size": 9
         },
         "textposition": "auto",
         "texttemplate": "%{y:.1f}",
         "type": "bar",
         "x": [
          "LD Car",
          "LD Truck"
         ],
         "xaxis": "x7",
         "y": [
          3071.2077818180273,
          3086.343507143061
         ],
         "yaxis": "y7"
        },
        {
         "alignmentgroup": "True",
         "hovertemplate": "Carrier=FCEV<br>Period=2021<br>Vehicle Class=%{x}<br>New Capacity=%{y}<extra></extra>",
         "legendgroup": "FCEV",
         "marker": {
          "color": "#DD4477",
          "pattern": {
           "shape": ""
          }
         },
         "name": "FCEV",
         "offsetgroup": "FCEV",
         "orientation": "v",
         "showlegend": true,
         "textfont": {
          "size": 9
         },
         "textposition": "auto",
         "texttemplate": "%{y:.1f}",
         "type": "bar",
         "x": [
          "LD Car",
          "LD Truck"
         ],
         "xaxis": "x",
         "y": [
          0.0002923267035581274,
          0.0007759960511517107
         ],
         "yaxis": "y"
        },
        {
         "alignmentgroup": "True",
         "hovertemplate": "Carrier=FCEV<br>Period=2025<br>Vehicle Class=%{x}<br>New Capacity=%{y}<extra></extra>",
         "legendgroup": "FCEV",
         "marker": {
          "color": "#DD4477",
          "pattern": {
           "shape": ""
          }
         },
         "name": "FCEV",
         "offsetgroup": "FCEV",
         "orientation": "v",
         "showlegend": false,
         "textfont": {
          "size": 9
         },
         "textposition": "auto",
         "texttemplate": "%{y:.1f}",
         "type": "bar",
         "x": [
          "LD Car",
          "LD Truck"
         ],
         "xaxis": "x2",
         "y": [
          0.0003061457066755239,
          0.0007407888611735131
         ],
         "yaxis": "y2"
        },
        {
         "alignmentgroup": "True",
         "hovertemplate": "Carrier=FCEV<br>Period=2030<br>Vehicle Class=%{x}<br>New Capacity=%{y}<extra></extra>",
         "legendgroup": "FCEV",
         "marker": {
          "color": "#DD4477",
          "pattern": {
           "shape": ""
          }
         },
         "name": "FCEV",
         "offsetgroup": "FCEV",
         "orientation": "v",
         "showlegend": false,
         "textfont": {
          "size": 9
         },
         "textposition": "auto",
         "texttemplate": "%{y:.1f}",
         "type": "bar",
         "x": [
          "LD Car",
          "LD Truck"
         ],
         "xaxis": "x3",
         "y": [
          0.0005426899702124718,
          0.0011593028399698932
         ],
         "yaxis": "y3"
        },
        {
         "alignmentgroup": "True",
         "hovertemplate": "Carrier=FCEV<br>Period=2035<br>Vehicle Class=%{x}<br>New Capacity=%{y}<extra></extra>",
         "legendgroup": "FCEV",
         "marker": {
          "color": "#DD4477",
          "pattern": {
           "shape": ""
          }
         },
         "name": "FCEV",
         "offsetgroup": "FCEV",
         "orientation": "v",
         "showlegend": false,
         "textfont": {
          "size": 9
         },
         "textposition": "auto",
         "texttemplate": "%{y:.1f}",
         "type": "bar",
         "x": [
          "LD Car",
          "LD Truck"
         ],
         "xaxis": "x4",
         "y": [
          0.0006403957688082846,
          0.0013180411115672405
         ],
         "yaxis": "y4"
        },
        {
         "alignmentgroup": "True",
         "hovertemplate": "Carrier=FCEV<br>Period=2040<br>Vehicle Class=%{x}<br>New Capacity=%{y}<extra></extra>",
         "legendgroup": "FCEV",
         "marker": {
          "color": "#DD4477",
          "pattern": {
           "shape": ""
          }
         },
         "name": "FCEV",
         "offsetgroup": "FCEV",
         "orientation": "v",
         "showlegend": false,
         "textfont": {
          "size": 9
         },
         "textposition": "auto",
         "texttemplate": "%{y:.1f}",
         "type": "bar",
         "x": [
          "LD Car",
          "LD Truck"
         ],
         "xaxis": "x5",
         "y": [
          0.0007512882818863573,
          0.0011238211304674239
         ],
         "yaxis": "y5"
        },
        {
         "alignmentgroup": "True",
         "hovertemplate": "Carrier=FCEV<br>Period=2045<br>Vehicle Class=%{x}<br>New Capacity=%{y}<extra></extra>",
         "legendgroup": "FCEV",
         "marker": {
          "color": "#DD4477",
          "pattern": {
           "shape": ""
          }
         },
         "name": "FCEV",
         "offsetgroup": "FCEV",
         "orientation": "v",
         "showlegend": false,
         "textfont": {
          "size": 9
         },
         "textposition": "auto",
         "texttemplate": "%{y:.1f}",
         "type": "bar",
         "x": [
          "LD Car",
          "LD Truck"
         ],
         "xaxis": "x6",
         "y": [
          0.0009992428197068935,
          0.0014432679404118368
         ],
         "yaxis": "y6"
        },
        {
         "alignmentgroup": "True",
         "hovertemplate": "Carrier=FCEV<br>Period=2050<br>Vehicle Class=%{x}<br>New Capacity=%{y}<extra></extra>",
         "legendgroup": "FCEV",
         "marker": {
          "color": "#DD4477",
          "pattern": {
           "shape": ""
          }
         },
         "name": "FCEV",
         "offsetgroup": "FCEV",
         "orientation": "v",
         "showlegend": false,
         "textfont": {
          "size": 9
         },
         "textposition": "auto",
         "texttemplate": "%{y:.1f}",
         "type": "bar",
         "x": [
          "LD Car",
          "LD Truck"
         ],
         "xaxis": "x7",
         "y": [
          0.001098728306195082,
          0.001750589914238078
         ],
         "yaxis": "y7"
        }
       ],
       "layout": {
        "annotations": [
         {
          "font": {},
          "showarrow": false,
          "text": "2021",
          "x": 0.06285714285714285,
          "xanchor": "center",
          "xref": "paper",
          "y": -0.08,
          "yanchor": "top",
          "yref": "paper"
         },
         {
          "font": {},
          "showarrow": false,
          "text": "2025",
          "x": 0.20857142857142852,
          "xanchor": "center",
          "xref": "paper",
          "y": -0.08,
          "yanchor": "top",
          "yref": "paper"
         },
         {
          "font": {},
          "showarrow": false,
          "text": "2030",
          "x": 0.3542857142857142,
          "xanchor": "center",
          "xref": "paper",
          "y": -0.08,
          "yanchor": "top",
          "yref": "paper"
         },
         {
          "font": {},
          "showarrow": false,
          "text": "2035",
          "x": 0.5,
          "xanchor": "center",
          "xref": "paper",
          "y": -0.08,
          "yanchor": "top",
          "yref": "paper"
         },
         {
          "font": {},
          "showarrow": false,
          "text": "2040",
          "x": 0.6457142857142856,
          "xanchor": "center",
          "xref": "paper",
          "y": -0.08,
          "yanchor": "top",
          "yref": "paper"
         },
         {
          "font": {},
          "showarrow": false,
          "text": "2045",
          "x": 0.7914285714285713,
          "xanchor": "center",
          "xref": "paper",
          "y": -0.08,
          "yanchor": "top",
          "yref": "paper"
         },
         {
          "font": {},
          "showarrow": false,
          "text": "2050",
          "x": 0.937142857142857,
          "xanchor": "center",
          "xref": "paper",
          "y": -0.08,
          "yanchor": "top",
          "yref": "paper"
         }
        ],
        "bargap": 0.1,
        "barmode": "stack",
        "font": {
         "size": 14
        },
        "height": 650,
        "legend": {
         "orientation": "h",
         "title": {
          "text": ""
         },
         "tracegroupgap": 0,
         "x": 0.5,
         "xanchor": "center",
         "y": 1.03,
         "yanchor": "top"
        },
        "margin": {
         "t": 60
        },
        "template": {
         "data": {
          "bar": [
           {
            "error_x": {
             "color": "#2a3f5f"
            },
            "error_y": {
             "color": "#2a3f5f"
            },
            "marker": {
             "line": {
              "color": "white",
              "width": 0.5
             },
             "pattern": {
              "fillmode": "overlay",
              "size": 10,
              "solidity": 0.2
             }
            },
            "type": "bar"
           }
          ],
          "barpolar": [
           {
            "marker": {
             "line": {
              "color": "white",
              "width": 0.5
             },
             "pattern": {
              "fillmode": "overlay",
              "size": 10,
              "solidity": 0.2
             }
            },
            "type": "barpolar"
           }
          ],
          "carpet": [
           {
            "aaxis": {
             "endlinecolor": "#2a3f5f",
             "gridcolor": "#C8D4E3",
             "linecolor": "#C8D4E3",
             "minorgridcolor": "#C8D4E3",
             "startlinecolor": "#2a3f5f"
            },
            "baxis": {
             "endlinecolor": "#2a3f5f",
             "gridcolor": "#C8D4E3",
             "linecolor": "#C8D4E3",
             "minorgridcolor": "#C8D4E3",
             "startlinecolor": "#2a3f5f"
            },
            "type": "carpet"
           }
          ],
          "choropleth": [
           {
            "colorbar": {
             "outlinewidth": 0,
             "ticks": ""
            },
            "type": "choropleth"
           }
          ],
          "contour": [
           {
            "colorbar": {
             "outlinewidth": 0,
             "ticks": ""
            },
            "colorscale": [
             [
              0,
              "#0d0887"
             ],
             [
              0.1111111111111111,
              "#46039f"
             ],
             [
              0.2222222222222222,
              "#7201a8"
             ],
             [
              0.3333333333333333,
              "#9c179e"
             ],
             [
              0.4444444444444444,
              "#bd3786"
             ],
             [
              0.5555555555555556,
              "#d8576b"
             ],
             [
              0.6666666666666666,
              "#ed7953"
             ],
             [
              0.7777777777777778,
              "#fb9f3a"
             ],
             [
              0.8888888888888888,
              "#fdca26"
             ],
             [
              1,
              "#f0f921"
             ]
            ],
            "type": "contour"
           }
          ],
          "contourcarpet": [
           {
            "colorbar": {
             "outlinewidth": 0,
             "ticks": ""
            },
            "type": "contourcarpet"
           }
          ],
          "heatmap": [
           {
            "colorbar": {
             "outlinewidth": 0,
             "ticks": ""
            },
            "colorscale": [
             [
              0,
              "#0d0887"
             ],
             [
              0.1111111111111111,
              "#46039f"
             ],
             [
              0.2222222222222222,
              "#7201a8"
             ],
             [
              0.3333333333333333,
              "#9c179e"
             ],
             [
              0.4444444444444444,
              "#bd3786"
             ],
             [
              0.5555555555555556,
              "#d8576b"
             ],
             [
              0.6666666666666666,
              "#ed7953"
             ],
             [
              0.7777777777777778,
              "#fb9f3a"
             ],
             [
              0.8888888888888888,
              "#fdca26"
             ],
             [
              1,
              "#f0f921"
             ]
            ],
            "type": "heatmap"
           }
          ],
          "heatmapgl": [
           {
            "colorbar": {
             "outlinewidth": 0,
             "ticks": ""
            },
            "colorscale": [
             [
              0,
              "#0d0887"
             ],
             [
              0.1111111111111111,
              "#46039f"
             ],
             [
              0.2222222222222222,
              "#7201a8"
             ],
             [
              0.3333333333333333,
              "#9c179e"
             ],
             [
              0.4444444444444444,
              "#bd3786"
             ],
             [
              0.5555555555555556,
              "#d8576b"
             ],
             [
              0.6666666666666666,
              "#ed7953"
             ],
             [
              0.7777777777777778,
              "#fb9f3a"
             ],
             [
              0.8888888888888888,
              "#fdca26"
             ],
             [
              1,
              "#f0f921"
             ]
            ],
            "type": "heatmapgl"
           }
          ],
          "histogram": [
           {
            "marker": {
             "pattern": {
              "fillmode": "overlay",
              "size": 10,
              "solidity": 0.2
             }
            },
            "type": "histogram"
           }
          ],
          "histogram2d": [
           {
            "colorbar": {
             "outlinewidth": 0,
             "ticks": ""
            },
            "colorscale": [
             [
              0,
              "#0d0887"
             ],
             [
              0.1111111111111111,
              "#46039f"
             ],
             [
              0.2222222222222222,
              "#7201a8"
             ],
             [
              0.3333333333333333,
              "#9c179e"
             ],
             [
              0.4444444444444444,
              "#bd3786"
             ],
             [
              0.5555555555555556,
              "#d8576b"
             ],
             [
              0.6666666666666666,
              "#ed7953"
             ],
             [
              0.7777777777777778,
              "#fb9f3a"
             ],
             [
              0.8888888888888888,
              "#fdca26"
             ],
             [
              1,
              "#f0f921"
             ]
            ],
            "type": "histogram2d"
           }
          ],
          "histogram2dcontour": [
           {
            "colorbar": {
             "outlinewidth": 0,
             "ticks": ""
            },
            "colorscale": [
             [
              0,
              "#0d0887"
             ],
             [
              0.1111111111111111,
              "#46039f"
             ],
             [
              0.2222222222222222,
              "#7201a8"
             ],
             [
              0.3333333333333333,
              "#9c179e"
             ],
             [
              0.4444444444444444,
              "#bd3786"
             ],
             [
              0.5555555555555556,
              "#d8576b"
             ],
             [
              0.6666666666666666,
              "#ed7953"
             ],
             [
              0.7777777777777778,
              "#fb9f3a"
             ],
             [
              0.8888888888888888,
              "#fdca26"
             ],
             [
              1,
              "#f0f921"
             ]
            ],
            "type": "histogram2dcontour"
           }
          ],
          "mesh3d": [
           {
            "colorbar": {
             "outlinewidth": 0,
             "ticks": ""
            },
            "type": "mesh3d"
           }
          ],
          "parcoords": [
           {
            "line": {
             "colorbar": {
              "outlinewidth": 0,
              "ticks": ""
             }
            },
            "type": "parcoords"
           }
          ],
          "pie": [
           {
            "automargin": true,
            "type": "pie"
           }
          ],
          "scatter": [
           {
            "fillpattern": {
             "fillmode": "overlay",
             "size": 10,
             "solidity": 0.2
            },
            "type": "scatter"
           }
          ],
          "scatter3d": [
           {
            "line": {
             "colorbar": {
              "outlinewidth": 0,
              "ticks": ""
             }
            },
            "marker": {
             "colorbar": {
              "outlinewidth": 0,
              "ticks": ""
             }
            },
            "type": "scatter3d"
           }
          ],
          "scattercarpet": [
           {
            "marker": {
             "colorbar": {
              "outlinewidth": 0,
              "ticks": ""
             }
            },
            "type": "scattercarpet"
           }
          ],
          "scattergeo": [
           {
            "marker": {
             "colorbar": {
              "outlinewidth": 0,
              "ticks": ""
             }
            },
            "type": "scattergeo"
           }
          ],
          "scattergl": [
           {
            "marker": {
             "colorbar": {
              "outlinewidth": 0,
              "ticks": ""
             }
            },
            "type": "scattergl"
           }
          ],
          "scattermapbox": [
           {
            "marker": {
             "colorbar": {
              "outlinewidth": 0,
              "ticks": ""
             }
            },
            "type": "scattermapbox"
           }
          ],
          "scatterpolar": [
           {
            "marker": {
             "colorbar": {
              "outlinewidth": 0,
              "ticks": ""
             }
            },
            "type": "scatterpolar"
           }
          ],
          "scatterpolargl": [
           {
            "marker": {
             "colorbar": {
              "outlinewidth": 0,
              "ticks": ""
             }
            },
            "type": "scatterpolargl"
           }
          ],
          "scatterternary": [
           {
            "marker": {
             "colorbar": {
              "outlinewidth": 0,
              "ticks": ""
             }
            },
            "type": "scatterternary"
           }
          ],
          "surface": [
           {
            "colorbar": {
             "outlinewidth": 0,
             "ticks": ""
            },
            "colorscale": [
             [
              0,
              "#0d0887"
             ],
             [
              0.1111111111111111,
              "#46039f"
             ],
             [
              0.2222222222222222,
              "#7201a8"
             ],
             [
              0.3333333333333333,
              "#9c179e"
             ],
             [
              0.4444444444444444,
              "#bd3786"
             ],
             [
              0.5555555555555556,
              "#d8576b"
             ],
             [
              0.6666666666666666,
              "#ed7953"
             ],
             [
              0.7777777777777778,
              "#fb9f3a"
             ],
             [
              0.8888888888888888,
              "#fdca26"
             ],
             [
              1,
              "#f0f921"
             ]
            ],
            "type": "surface"
           }
          ],
          "table": [
           {
            "cells": {
             "fill": {
              "color": "#EBF0F8"
             },
             "line": {
              "color": "white"
             }
            },
            "header": {
             "fill": {
              "color": "#C8D4E3"
             },
             "line": {
              "color": "white"
             }
            },
            "type": "table"
           }
          ]
         },
         "layout": {
          "annotationdefaults": {
           "arrowcolor": "#2a3f5f",
           "arrowhead": 0,
           "arrowwidth": 1
          },
          "autotypenumbers": "strict",
          "coloraxis": {
           "colorbar": {
            "outlinewidth": 0,
            "ticks": ""
           }
          },
          "colorscale": {
           "diverging": [
            [
             0,
             "#8e0152"
            ],
            [
             0.1,
             "#c51b7d"
            ],
            [
             0.2,
             "#de77ae"
            ],
            [
             0.3,
             "#f1b6da"
            ],
            [
             0.4,
             "#fde0ef"
            ],
            [
             0.5,
             "#f7f7f7"
            ],
            [
             0.6,
             "#e6f5d0"
            ],
            [
             0.7,
             "#b8e186"
            ],
            [
             0.8,
             "#7fbc41"
            ],
            [
             0.9,
             "#4d9221"
            ],
            [
             1,
             "#276419"
            ]
           ],
           "sequential": [
            [
             0,
             "#0d0887"
            ],
            [
             0.1111111111111111,
             "#46039f"
            ],
            [
             0.2222222222222222,
             "#7201a8"
            ],
            [
             0.3333333333333333,
             "#9c179e"
            ],
            [
             0.4444444444444444,
             "#bd3786"
            ],
            [
             0.5555555555555556,
             "#d8576b"
            ],
            [
             0.6666666666666666,
             "#ed7953"
            ],
            [
             0.7777777777777778,
             "#fb9f3a"
            ],
            [
             0.8888888888888888,
             "#fdca26"
            ],
            [
             1,
             "#f0f921"
            ]
           ],
           "sequentialminus": [
            [
             0,
             "#0d0887"
            ],
            [
             0.1111111111111111,
             "#46039f"
            ],
            [
             0.2222222222222222,
             "#7201a8"
            ],
            [
             0.3333333333333333,
             "#9c179e"
            ],
            [
             0.4444444444444444,
             "#bd3786"
            ],
            [
             0.5555555555555556,
             "#d8576b"
            ],
            [
             0.6666666666666666,
             "#ed7953"
            ],
            [
             0.7777777777777778,
             "#fb9f3a"
            ],
            [
             0.8888888888888888,
             "#fdca26"
            ],
            [
             1,
             "#f0f921"
            ]
           ]
          },
          "colorway": [
           "#636efa",
           "#EF553B",
           "#00cc96",
           "#ab63fa",
           "#FFA15A",
           "#19d3f3",
           "#FF6692",
           "#B6E880",
           "#FF97FF",
           "#FECB52"
          ],
          "font": {
           "color": "#2a3f5f"
          },
          "geo": {
           "bgcolor": "white",
           "lakecolor": "white",
           "landcolor": "white",
           "showlakes": true,
           "showland": true,
           "subunitcolor": "#C8D4E3"
          },
          "hoverlabel": {
           "align": "left"
          },
          "hovermode": "closest",
          "mapbox": {
           "style": "light"
          },
          "paper_bgcolor": "white",
          "plot_bgcolor": "white",
          "polar": {
           "angularaxis": {
            "gridcolor": "#EBF0F8",
            "linecolor": "#EBF0F8",
            "ticks": ""
           },
           "bgcolor": "white",
           "radialaxis": {
            "gridcolor": "#EBF0F8",
            "linecolor": "#EBF0F8",
            "ticks": ""
           }
          },
          "scene": {
           "xaxis": {
            "backgroundcolor": "white",
            "gridcolor": "#DFE8F3",
            "gridwidth": 2,
            "linecolor": "#EBF0F8",
            "showbackground": true,
            "ticks": "",
            "zerolinecolor": "#EBF0F8"
           },
           "yaxis": {
            "backgroundcolor": "white",
            "gridcolor": "#DFE8F3",
            "gridwidth": 2,
            "linecolor": "#EBF0F8",
            "showbackground": true,
            "ticks": "",
            "zerolinecolor": "#EBF0F8"
           },
           "zaxis": {
            "backgroundcolor": "white",
            "gridcolor": "#DFE8F3",
            "gridwidth": 2,
            "linecolor": "#EBF0F8",
            "showbackground": true,
            "ticks": "",
            "zerolinecolor": "#EBF0F8"
           }
          },
          "shapedefaults": {
           "line": {
            "color": "#2a3f5f"
           }
          },
          "ternary": {
           "aaxis": {
            "gridcolor": "#DFE8F3",
            "linecolor": "#A2B1C6",
            "ticks": ""
           },
           "baxis": {
            "gridcolor": "#DFE8F3",
            "linecolor": "#A2B1C6",
            "ticks": ""
           },
           "bgcolor": "white",
           "caxis": {
            "gridcolor": "#DFE8F3",
            "linecolor": "#A2B1C6",
            "ticks": ""
           }
          },
          "title": {
           "x": 0.05
          },
          "xaxis": {
           "automargin": true,
           "gridcolor": "#EBF0F8",
           "linecolor": "#EBF0F8",
           "ticks": "",
           "title": {
            "standoff": 15
           },
           "zerolinecolor": "#EBF0F8",
           "zerolinewidth": 2
          },
          "yaxis": {
           "automargin": true,
           "gridcolor": "#EBF0F8",
           "linecolor": "#EBF0F8",
           "ticks": "",
           "title": {
            "standoff": 15
           },
           "zerolinecolor": "#EBF0F8",
           "zerolinewidth": 2
          }
         }
        },
        "title": {
         "text": "Transportation fleet expansion in ON by vehicle class and drivetrain",
         "x": 0.5,
         "xanchor": "center",
         "y": 0.97,
         "yanchor": "top"
        },
        "width": 1000,
        "xaxis": {
         "anchor": "y",
         "domain": [
          0,
          0.1257142857142857
         ],
         "title": {
          "text": ""
         }
        },
        "xaxis2": {
         "anchor": "y2",
         "domain": [
          0.14571428571428569,
          0.27142857142857135
         ],
         "matches": "x",
         "title": {
          "text": ""
         }
        },
        "xaxis3": {
         "anchor": "y3",
         "domain": [
          0.29142857142857137,
          0.41714285714285704
         ],
         "matches": "x",
         "title": {
          "text": ""
         }
        },
        "xaxis4": {
         "anchor": "y4",
         "domain": [
          0.4371428571428571,
          0.5628571428571428
         ],
         "matches": "x",
         "title": {
          "text": ""
         }
        },
        "xaxis5": {
         "anchor": "y5",
         "domain": [
          0.5828571428571427,
          0.7085714285714284
         ],
         "matches": "x",
         "title": {
          "text": ""
         }
        },
        "xaxis6": {
         "anchor": "y6",
         "domain": [
          0.7285714285714284,
          0.8542857142857141
         ],
         "matches": "x",
         "title": {
          "text": ""
         }
        },
        "xaxis7": {
         "anchor": "y7",
         "domain": [
          0.8742857142857142,
          0.9999999999999999
         ],
         "matches": "x",
         "title": {
          "text": ""
         }
        },
        "yaxis": {
         "anchor": "x",
         "domain": [
          0,
          1
         ],
         "dtick": 500,
         "title": {
          "standoff": 0,
          "text": "New vehicles (k units)"
         }
        },
        "yaxis2": {
         "anchor": "x2",
         "domain": [
          0,
          1
         ],
         "matches": "y",
         "showticklabels": false
        },
        "yaxis3": {
         "anchor": "x3",
         "domain": [
          0,
          1
         ],
         "matches": "y",
         "showticklabels": false
        },
        "yaxis4": {
         "anchor": "x4",
         "domain": [
          0,
          1
         ],
         "matches": "y",
         "showticklabels": false
        },
        "yaxis5": {
         "anchor": "x5",
         "domain": [
          0,
          1
         ],
         "matches": "y",
         "showticklabels": false
        },
        "yaxis6": {
         "anchor": "x6",
         "domain": [
          0,
          1
         ],
         "matches": "y",
         "showticklabels": false
        },
        "yaxis7": {
         "anchor": "x7",
         "domain": [
          0,
          1
         ],
         "matches": "y",
         "showticklabels": false
        }
       }
      }
     },
     "metadata": {},
     "output_type": "display_data"
    }
   ],
   "source": [
    "ref_fig = ref_trnnewcap[ref_trnnewcap['Vehicle Class'].isin(['LD Car', 'LD Truck'])][['Period', 'Vehicle Class', 'New Capacity', 'Carrier']].groupby(['Period', 'Vehicle Class', 'Carrier'], as_index=False).sum()\n",
    "ref_fig['New Capacity (M units)'] = ref_fig['New Capacity']/1E3\n",
    "\n",
    "ref_fig['Carrier'] = pd.Categorical(ref_fig['Carrier'], categories=drivetrain_order, ordered=True)\n",
    "ref_fig = ref_fig.sort_values(['Carrier', 'Period'])\n",
    "\n",
    "fig = px.bar(ref_fig, \n",
    "             x='Vehicle Class', \n",
    "             y='New Capacity', \n",
    "             color='Carrier', \n",
    "             barmode='stack', \n",
    "             facet_col='Period',\n",
    "             facet_col_spacing=2E-2,\n",
    "             template='plotly_white',\n",
    "             color_discrete_sequence=px.colors.qualitative.G10[:7] + px.colors.qualitative.G10[8:],\n",
    "             text_auto='.1f',\n",
    "             width=1000, height=650,\n",
    "             )\n",
    "\n",
    "fig.update_layout(title=dict(\n",
    "        text='Transportation fleet expansion in ON by vehicle class and drivetrain',\n",
    "        x=0.5, \n",
    "        y=0.97,\n",
    "        xanchor='center',\n",
    "        yanchor='top'\n",
    "    ),\n",
    "    xaxis=dict(title='Period'),\n",
    "    yaxis=dict(title='New vehicles (k units)',\n",
    "               dtick=500),\n",
    "    yaxis_title_standoff=0,\n",
    "    legend_title_text='',\n",
    "    bargap=0.1,\n",
    "    legend=dict(\n",
    "        orientation='h',  \n",
    "        yanchor='top',\n",
    "        y=1.03,  \n",
    "        xanchor='center',\n",
    "        x=0.5),\n",
    "    font=dict(\n",
    "        # family=\"Open Sans\",\n",
    "        size=14)\n",
    "    )\n",
    "\n",
    "for annotation in fig.layout.annotations:\n",
    "    annotation.text = annotation.text.split('=')[1]\n",
    "    annotation.y = -0.08  \n",
    "    annotation.yanchor = 'top' \n",
    "\n",
    "for axis in fig.layout:\n",
    "    if axis.startswith('xaxis'):\n",
    "        fig.layout[axis].title.text = ''\n",
    "\n",
    "fig.for_each_trace(lambda trace: trace.update(textfont=dict(size=9)))\n",
    "\n",
    "fig.show()"
   ]
  },
  {
   "cell_type": "code",
   "execution_count": 22,
   "metadata": {},
   "outputs": [
    {
     "data": {
      "application/vnd.plotly.v1+json": {
       "config": {
        "plotlyServerURL": "https://plot.ly"
       },
       "data": [
        {
         "alignmentgroup": "True",
         "hovertemplate": "Carrier=Gasoline<br>Period=2021<br>Vehicle Class=%{x}<br>New Capacity=%{y}<extra></extra>",
         "legendgroup": "Gasoline",
         "marker": {
          "color": "#3366CC",
          "pattern": {
           "shape": ""
          }
         },
         "name": "Gasoline",
         "offsetgroup": "Gasoline",
         "orientation": "v",
         "showlegend": true,
         "textfont": {
          "size": 9
         },
         "textposition": "auto",
         "texttemplate": "%{y:.1f}",
         "type": "bar",
         "x": [
          "Bus",
          "MD Truck"
         ],
         "xaxis": "x",
         "y": [
          0.10834709007144079,
          0
         ],
         "yaxis": "y"
        },
        {
         "alignmentgroup": "True",
         "hovertemplate": "Carrier=Gasoline<br>Period=2025<br>Vehicle Class=%{x}<br>New Capacity=%{y}<extra></extra>",
         "legendgroup": "Gasoline",
         "marker": {
          "color": "#3366CC",
          "pattern": {
           "shape": ""
          }
         },
         "name": "Gasoline",
         "offsetgroup": "Gasoline",
         "orientation": "v",
         "showlegend": false,
         "textfont": {
          "size": 9
         },
         "textposition": "auto",
         "texttemplate": "%{y:.1f}",
         "type": "bar",
         "x": [
          "Bus",
          "MD Truck"
         ],
         "xaxis": "x2",
         "y": [
          2.128357176852788,
          0
         ],
         "yaxis": "y2"
        },
        {
         "alignmentgroup": "True",
         "hovertemplate": "Carrier=Gasoline<br>Period=2030<br>Vehicle Class=%{x}<br>New Capacity=%{y}<extra></extra>",
         "legendgroup": "Gasoline",
         "marker": {
          "color": "#3366CC",
          "pattern": {
           "shape": ""
          }
         },
         "name": "Gasoline",
         "offsetgroup": "Gasoline",
         "orientation": "v",
         "showlegend": false,
         "textfont": {
          "size": 9
         },
         "textposition": "auto",
         "texttemplate": "%{y:.1f}",
         "type": "bar",
         "x": [
          "Bus",
          "MD Truck"
         ],
         "xaxis": "x3",
         "y": [
          0.3799398898481896,
          0
         ],
         "yaxis": "y3"
        },
        {
         "alignmentgroup": "True",
         "hovertemplate": "Carrier=Gasoline<br>Period=2035<br>Vehicle Class=%{x}<br>New Capacity=%{y}<extra></extra>",
         "legendgroup": "Gasoline",
         "marker": {
          "color": "#3366CC",
          "pattern": {
           "shape": ""
          }
         },
         "name": "Gasoline",
         "offsetgroup": "Gasoline",
         "orientation": "v",
         "showlegend": false,
         "textfont": {
          "size": 9
         },
         "textposition": "auto",
         "texttemplate": "%{y:.1f}",
         "type": "bar",
         "x": [
          "Bus",
          "MD Truck"
         ],
         "xaxis": "x4",
         "y": [
          0.08173840133011977,
          0
         ],
         "yaxis": "y4"
        },
        {
         "alignmentgroup": "True",
         "hovertemplate": "Carrier=Gasoline<br>Period=2040<br>Vehicle Class=%{x}<br>New Capacity=%{y}<extra></extra>",
         "legendgroup": "Gasoline",
         "marker": {
          "color": "#3366CC",
          "pattern": {
           "shape": ""
          }
         },
         "name": "Gasoline",
         "offsetgroup": "Gasoline",
         "orientation": "v",
         "showlegend": false,
         "textfont": {
          "size": 9
         },
         "textposition": "auto",
         "texttemplate": "%{y:.1f}",
         "type": "bar",
         "x": [
          "Bus",
          "MD Truck"
         ],
         "xaxis": "x5",
         "y": [
          0.01527764676219255,
          0
         ],
         "yaxis": "y5"
        },
        {
         "alignmentgroup": "True",
         "hovertemplate": "Carrier=Gasoline<br>Period=2045<br>Vehicle Class=%{x}<br>New Capacity=%{y}<extra></extra>",
         "legendgroup": "Gasoline",
         "marker": {
          "color": "#3366CC",
          "pattern": {
           "shape": ""
          }
         },
         "name": "Gasoline",
         "offsetgroup": "Gasoline",
         "orientation": "v",
         "showlegend": false,
         "textfont": {
          "size": 9
         },
         "textposition": "auto",
         "texttemplate": "%{y:.1f}",
         "type": "bar",
         "x": [
          "Bus",
          "MD Truck"
         ],
         "xaxis": "x6",
         "y": [
          0.9064954935429125,
          0
         ],
         "yaxis": "y6"
        },
        {
         "alignmentgroup": "True",
         "hovertemplate": "Carrier=Gasoline<br>Period=2050<br>Vehicle Class=%{x}<br>New Capacity=%{y}<extra></extra>",
         "legendgroup": "Gasoline",
         "marker": {
          "color": "#3366CC",
          "pattern": {
           "shape": ""
          }
         },
         "name": "Gasoline",
         "offsetgroup": "Gasoline",
         "orientation": "v",
         "showlegend": false,
         "textfont": {
          "size": 9
         },
         "textposition": "auto",
         "texttemplate": "%{y:.1f}",
         "type": "bar",
         "x": [
          "Bus",
          "MD Truck"
         ],
         "xaxis": "x7",
         "y": [
          1.726777084465595,
          0
         ],
         "yaxis": "y7"
        },
        {
         "alignmentgroup": "True",
         "hovertemplate": "Carrier=Diesel<br>Period=2021<br>Vehicle Class=%{x}<br>New Capacity=%{y}<extra></extra>",
         "legendgroup": "Diesel",
         "marker": {
          "color": "#DC3912",
          "pattern": {
           "shape": ""
          }
         },
         "name": "Diesel",
         "offsetgroup": "Diesel",
         "orientation": "v",
         "showlegend": true,
         "textfont": {
          "size": 9
         },
         "textposition": "auto",
         "texttemplate": "%{y:.1f}",
         "type": "bar",
         "x": [
          "Bus",
          "HD Truck",
          "MD Truck"
         ],
         "xaxis": "x",
         "y": [
          0,
          0,
          0
         ],
         "yaxis": "y"
        },
        {
         "alignmentgroup": "True",
         "hovertemplate": "Carrier=Diesel<br>Period=2025<br>Vehicle Class=%{x}<br>New Capacity=%{y}<extra></extra>",
         "legendgroup": "Diesel",
         "marker": {
          "color": "#DC3912",
          "pattern": {
           "shape": ""
          }
         },
         "name": "Diesel",
         "offsetgroup": "Diesel",
         "orientation": "v",
         "showlegend": false,
         "textfont": {
          "size": 9
         },
         "textposition": "auto",
         "texttemplate": "%{y:.1f}",
         "type": "bar",
         "x": [
          "Bus",
          "HD Truck",
          "MD Truck"
         ],
         "xaxis": "x2",
         "y": [
          0,
          0,
          0
         ],
         "yaxis": "y2"
        },
        {
         "alignmentgroup": "True",
         "hovertemplate": "Carrier=Diesel<br>Period=2030<br>Vehicle Class=%{x}<br>New Capacity=%{y}<extra></extra>",
         "legendgroup": "Diesel",
         "marker": {
          "color": "#DC3912",
          "pattern": {
           "shape": ""
          }
         },
         "name": "Diesel",
         "offsetgroup": "Diesel",
         "orientation": "v",
         "showlegend": false,
         "textfont": {
          "size": 9
         },
         "textposition": "auto",
         "texttemplate": "%{y:.1f}",
         "type": "bar",
         "x": [
          "Bus",
          "HD Truck",
          "MD Truck"
         ],
         "xaxis": "x3",
         "y": [
          0,
          0,
          0
         ],
         "yaxis": "y3"
        },
        {
         "alignmentgroup": "True",
         "hovertemplate": "Carrier=Diesel<br>Period=2035<br>Vehicle Class=%{x}<br>New Capacity=%{y}<extra></extra>",
         "legendgroup": "Diesel",
         "marker": {
          "color": "#DC3912",
          "pattern": {
           "shape": ""
          }
         },
         "name": "Diesel",
         "offsetgroup": "Diesel",
         "orientation": "v",
         "showlegend": false,
         "textfont": {
          "size": 9
         },
         "textposition": "auto",
         "texttemplate": "%{y:.1f}",
         "type": "bar",
         "x": [
          "Bus",
          "HD Truck",
          "MD Truck"
         ],
         "xaxis": "x4",
         "y": [
          0,
          0,
          0
         ],
         "yaxis": "y4"
        },
        {
         "alignmentgroup": "True",
         "hovertemplate": "Carrier=Diesel<br>Period=2040<br>Vehicle Class=%{x}<br>New Capacity=%{y}<extra></extra>",
         "legendgroup": "Diesel",
         "marker": {
          "color": "#DC3912",
          "pattern": {
           "shape": ""
          }
         },
         "name": "Diesel",
         "offsetgroup": "Diesel",
         "orientation": "v",
         "showlegend": false,
         "textfont": {
          "size": 9
         },
         "textposition": "auto",
         "texttemplate": "%{y:.1f}",
         "type": "bar",
         "x": [
          "Bus",
          "HD Truck",
          "MD Truck"
         ],
         "xaxis": "x5",
         "y": [
          0,
          0,
          0
         ],
         "yaxis": "y5"
        },
        {
         "alignmentgroup": "True",
         "hovertemplate": "Carrier=Diesel<br>Period=2045<br>Vehicle Class=%{x}<br>New Capacity=%{y}<extra></extra>",
         "legendgroup": "Diesel",
         "marker": {
          "color": "#DC3912",
          "pattern": {
           "shape": ""
          }
         },
         "name": "Diesel",
         "offsetgroup": "Diesel",
         "orientation": "v",
         "showlegend": false,
         "textfont": {
          "size": 9
         },
         "textposition": "auto",
         "texttemplate": "%{y:.1f}",
         "type": "bar",
         "x": [
          "Bus",
          "HD Truck",
          "MD Truck"
         ],
         "xaxis": "x6",
         "y": [
          0,
          0,
          0
         ],
         "yaxis": "y6"
        },
        {
         "alignmentgroup": "True",
         "hovertemplate": "Carrier=Diesel<br>Period=2050<br>Vehicle Class=%{x}<br>New Capacity=%{y}<extra></extra>",
         "legendgroup": "Diesel",
         "marker": {
          "color": "#DC3912",
          "pattern": {
           "shape": ""
          }
         },
         "name": "Diesel",
         "offsetgroup": "Diesel",
         "orientation": "v",
         "showlegend": false,
         "textfont": {
          "size": 9
         },
         "textposition": "auto",
         "texttemplate": "%{y:.1f}",
         "type": "bar",
         "x": [
          "Bus",
          "HD Truck",
          "MD Truck"
         ],
         "xaxis": "x7",
         "y": [
          0,
          0,
          0
         ],
         "yaxis": "y7"
        },
        {
         "alignmentgroup": "True",
         "hovertemplate": "Carrier=CNG<br>Period=2021<br>Vehicle Class=%{x}<br>New Capacity=%{y}<extra></extra>",
         "legendgroup": "CNG",
         "marker": {
          "color": "#FF9900",
          "pattern": {
           "shape": ""
          }
         },
         "name": "CNG",
         "offsetgroup": "CNG",
         "orientation": "v",
         "showlegend": true,
         "textfont": {
          "size": 9
         },
         "textposition": "auto",
         "texttemplate": "%{y:.1f}",
         "type": "bar",
         "x": [
          "Bus"
         ],
         "xaxis": "x",
         "y": [
          0
         ],
         "yaxis": "y"
        },
        {
         "alignmentgroup": "True",
         "hovertemplate": "Carrier=CNG<br>Period=2025<br>Vehicle Class=%{x}<br>New Capacity=%{y}<extra></extra>",
         "legendgroup": "CNG",
         "marker": {
          "color": "#FF9900",
          "pattern": {
           "shape": ""
          }
         },
         "name": "CNG",
         "offsetgroup": "CNG",
         "orientation": "v",
         "showlegend": false,
         "textfont": {
          "size": 9
         },
         "textposition": "auto",
         "texttemplate": "%{y:.1f}",
         "type": "bar",
         "x": [
          "Bus"
         ],
         "xaxis": "x2",
         "y": [
          0
         ],
         "yaxis": "y2"
        },
        {
         "alignmentgroup": "True",
         "hovertemplate": "Carrier=CNG<br>Period=2030<br>Vehicle Class=%{x}<br>New Capacity=%{y}<extra></extra>",
         "legendgroup": "CNG",
         "marker": {
          "color": "#FF9900",
          "pattern": {
           "shape": ""
          }
         },
         "name": "CNG",
         "offsetgroup": "CNG",
         "orientation": "v",
         "showlegend": false,
         "textfont": {
          "size": 9
         },
         "textposition": "auto",
         "texttemplate": "%{y:.1f}",
         "type": "bar",
         "x": [
          "Bus"
         ],
         "xaxis": "x3",
         "y": [
          0
         ],
         "yaxis": "y3"
        },
        {
         "alignmentgroup": "True",
         "hovertemplate": "Carrier=CNG<br>Period=2035<br>Vehicle Class=%{x}<br>New Capacity=%{y}<extra></extra>",
         "legendgroup": "CNG",
         "marker": {
          "color": "#FF9900",
          "pattern": {
           "shape": ""
          }
         },
         "name": "CNG",
         "offsetgroup": "CNG",
         "orientation": "v",
         "showlegend": false,
         "textfont": {
          "size": 9
         },
         "textposition": "auto",
         "texttemplate": "%{y:.1f}",
         "type": "bar",
         "x": [
          "Bus"
         ],
         "xaxis": "x4",
         "y": [
          0
         ],
         "yaxis": "y4"
        },
        {
         "alignmentgroup": "True",
         "hovertemplate": "Carrier=CNG<br>Period=2040<br>Vehicle Class=%{x}<br>New Capacity=%{y}<extra></extra>",
         "legendgroup": "CNG",
         "marker": {
          "color": "#FF9900",
          "pattern": {
           "shape": ""
          }
         },
         "name": "CNG",
         "offsetgroup": "CNG",
         "orientation": "v",
         "showlegend": false,
         "textfont": {
          "size": 9
         },
         "textposition": "auto",
         "texttemplate": "%{y:.1f}",
         "type": "bar",
         "x": [
          "Bus"
         ],
         "xaxis": "x5",
         "y": [
          0
         ],
         "yaxis": "y5"
        },
        {
         "alignmentgroup": "True",
         "hovertemplate": "Carrier=CNG<br>Period=2045<br>Vehicle Class=%{x}<br>New Capacity=%{y}<extra></extra>",
         "legendgroup": "CNG",
         "marker": {
          "color": "#FF9900",
          "pattern": {
           "shape": ""
          }
         },
         "name": "CNG",
         "offsetgroup": "CNG",
         "orientation": "v",
         "showlegend": false,
         "textfont": {
          "size": 9
         },
         "textposition": "auto",
         "texttemplate": "%{y:.1f}",
         "type": "bar",
         "x": [
          "Bus"
         ],
         "xaxis": "x6",
         "y": [
          0
         ],
         "yaxis": "y6"
        },
        {
         "alignmentgroup": "True",
         "hovertemplate": "Carrier=CNG<br>Period=2050<br>Vehicle Class=%{x}<br>New Capacity=%{y}<extra></extra>",
         "legendgroup": "CNG",
         "marker": {
          "color": "#FF9900",
          "pattern": {
           "shape": ""
          }
         },
         "name": "CNG",
         "offsetgroup": "CNG",
         "orientation": "v",
         "showlegend": false,
         "textfont": {
          "size": 9
         },
         "textposition": "auto",
         "texttemplate": "%{y:.1f}",
         "type": "bar",
         "x": [
          "Bus"
         ],
         "xaxis": "x7",
         "y": [
          0
         ],
         "yaxis": "y7"
        },
        {
         "alignmentgroup": "True",
         "hovertemplate": "Carrier=HEV<br>Period=2021<br>Vehicle Class=%{x}<br>New Capacity=%{y}<extra></extra>",
         "legendgroup": "HEV",
         "marker": {
          "color": "#109618",
          "pattern": {
           "shape": ""
          }
         },
         "name": "HEV",
         "offsetgroup": "HEV",
         "orientation": "v",
         "showlegend": true,
         "textfont": {
          "size": 9
         },
         "textposition": "auto",
         "texttemplate": "%{y:.1f}",
         "type": "bar",
         "x": [
          "Bus",
          "HD Truck",
          "MD Truck"
         ],
         "xaxis": "x",
         "y": [
          0,
          15.97769466754104,
          0
         ],
         "yaxis": "y"
        },
        {
         "alignmentgroup": "True",
         "hovertemplate": "Carrier=HEV<br>Period=2025<br>Vehicle Class=%{x}<br>New Capacity=%{y}<extra></extra>",
         "legendgroup": "HEV",
         "marker": {
          "color": "#109618",
          "pattern": {
           "shape": ""
          }
         },
         "name": "HEV",
         "offsetgroup": "HEV",
         "orientation": "v",
         "showlegend": false,
         "textfont": {
          "size": 9
         },
         "textposition": "auto",
         "texttemplate": "%{y:.1f}",
         "type": "bar",
         "x": [
          "Bus",
          "HD Truck",
          "MD Truck"
         ],
         "xaxis": "x2",
         "y": [
          0,
          12.53546417631364,
          0
         ],
         "yaxis": "y2"
        },
        {
         "alignmentgroup": "True",
         "hovertemplate": "Carrier=HEV<br>Period=2030<br>Vehicle Class=%{x}<br>New Capacity=%{y}<extra></extra>",
         "legendgroup": "HEV",
         "marker": {
          "color": "#109618",
          "pattern": {
           "shape": ""
          }
         },
         "name": "HEV",
         "offsetgroup": "HEV",
         "orientation": "v",
         "showlegend": false,
         "textfont": {
          "size": 9
         },
         "textposition": "auto",
         "texttemplate": "%{y:.1f}",
         "type": "bar",
         "x": [
          "Bus",
          "HD Truck",
          "MD Truck"
         ],
         "xaxis": "x3",
         "y": [
          0,
          8.202215408039647,
          0
         ],
         "yaxis": "y3"
        },
        {
         "alignmentgroup": "True",
         "hovertemplate": "Carrier=HEV<br>Period=2035<br>Vehicle Class=%{x}<br>New Capacity=%{y}<extra></extra>",
         "legendgroup": "HEV",
         "marker": {
          "color": "#109618",
          "pattern": {
           "shape": ""
          }
         },
         "name": "HEV",
         "offsetgroup": "HEV",
         "orientation": "v",
         "showlegend": false,
         "textfont": {
          "size": 9
         },
         "textposition": "auto",
         "texttemplate": "%{y:.1f}",
         "type": "bar",
         "x": [
          "Bus",
          "HD Truck",
          "MD Truck"
         ],
         "xaxis": "x4",
         "y": [
          0,
          10.56169795413645,
          0
         ],
         "yaxis": "y4"
        },
        {
         "alignmentgroup": "True",
         "hovertemplate": "Carrier=HEV<br>Period=2040<br>Vehicle Class=%{x}<br>New Capacity=%{y}<extra></extra>",
         "legendgroup": "HEV",
         "marker": {
          "color": "#109618",
          "pattern": {
           "shape": ""
          }
         },
         "name": "HEV",
         "offsetgroup": "HEV",
         "orientation": "v",
         "showlegend": false,
         "textfont": {
          "size": 9
         },
         "textposition": "auto",
         "texttemplate": "%{y:.1f}",
         "type": "bar",
         "x": [
          "Bus",
          "HD Truck",
          "MD Truck"
         ],
         "xaxis": "x5",
         "y": [
          0,
          8.282508989108194,
          0
         ],
         "yaxis": "y5"
        },
        {
         "alignmentgroup": "True",
         "hovertemplate": "Carrier=HEV<br>Period=2045<br>Vehicle Class=%{x}<br>New Capacity=%{y}<extra></extra>",
         "legendgroup": "HEV",
         "marker": {
          "color": "#109618",
          "pattern": {
           "shape": ""
          }
         },
         "name": "HEV",
         "offsetgroup": "HEV",
         "orientation": "v",
         "showlegend": false,
         "textfont": {
          "size": 9
         },
         "textposition": "auto",
         "texttemplate": "%{y:.1f}",
         "type": "bar",
         "x": [
          "Bus",
          "HD Truck",
          "MD Truck"
         ],
         "xaxis": "x6",
         "y": [
          0,
          7.214552013534737,
          0
         ],
         "yaxis": "y6"
        },
        {
         "alignmentgroup": "True",
         "hovertemplate": "Carrier=HEV<br>Period=2050<br>Vehicle Class=%{x}<br>New Capacity=%{y}<extra></extra>",
         "legendgroup": "HEV",
         "marker": {
          "color": "#109618",
          "pattern": {
           "shape": ""
          }
         },
         "name": "HEV",
         "offsetgroup": "HEV",
         "orientation": "v",
         "showlegend": false,
         "textfont": {
          "size": 9
         },
         "textposition": "auto",
         "texttemplate": "%{y:.1f}",
         "type": "bar",
         "x": [
          "Bus",
          "HD Truck",
          "MD Truck"
         ],
         "xaxis": "x7",
         "y": [
          0,
          6.88852734376224,
          0
         ],
         "yaxis": "y7"
        },
        {
         "alignmentgroup": "True",
         "hovertemplate": "Carrier=PHEV<br>Period=2021<br>Vehicle Class=%{x}<br>New Capacity=%{y}<extra></extra>",
         "legendgroup": "PHEV",
         "marker": {
          "color": "#990099",
          "pattern": {
           "shape": ""
          }
         },
         "name": "PHEV",
         "offsetgroup": "PHEV",
         "orientation": "v",
         "showlegend": true,
         "textfont": {
          "size": 9
         },
         "textposition": "auto",
         "texttemplate": "%{y:.1f}",
         "type": "bar",
         "x": [
          "Bus",
          "HD Truck",
          "MD Truck"
         ],
         "xaxis": "x",
         "y": [
          0,
          0,
          0
         ],
         "yaxis": "y"
        },
        {
         "alignmentgroup": "True",
         "hovertemplate": "Carrier=PHEV<br>Period=2025<br>Vehicle Class=%{x}<br>New Capacity=%{y}<extra></extra>",
         "legendgroup": "PHEV",
         "marker": {
          "color": "#990099",
          "pattern": {
           "shape": ""
          }
         },
         "name": "PHEV",
         "offsetgroup": "PHEV",
         "orientation": "v",
         "showlegend": false,
         "textfont": {
          "size": 9
         },
         "textposition": "auto",
         "texttemplate": "%{y:.1f}",
         "type": "bar",
         "x": [
          "Bus",
          "HD Truck",
          "MD Truck"
         ],
         "xaxis": "x2",
         "y": [
          0,
          0,
          0
         ],
         "yaxis": "y2"
        },
        {
         "alignmentgroup": "True",
         "hovertemplate": "Carrier=PHEV<br>Period=2030<br>Vehicle Class=%{x}<br>New Capacity=%{y}<extra></extra>",
         "legendgroup": "PHEV",
         "marker": {
          "color": "#990099",
          "pattern": {
           "shape": ""
          }
         },
         "name": "PHEV",
         "offsetgroup": "PHEV",
         "orientation": "v",
         "showlegend": false,
         "textfont": {
          "size": 9
         },
         "textposition": "auto",
         "texttemplate": "%{y:.1f}",
         "type": "bar",
         "x": [
          "Bus",
          "HD Truck",
          "MD Truck"
         ],
         "xaxis": "x3",
         "y": [
          0,
          0,
          0
         ],
         "yaxis": "y3"
        },
        {
         "alignmentgroup": "True",
         "hovertemplate": "Carrier=PHEV<br>Period=2035<br>Vehicle Class=%{x}<br>New Capacity=%{y}<extra></extra>",
         "legendgroup": "PHEV",
         "marker": {
          "color": "#990099",
          "pattern": {
           "shape": ""
          }
         },
         "name": "PHEV",
         "offsetgroup": "PHEV",
         "orientation": "v",
         "showlegend": false,
         "textfont": {
          "size": 9
         },
         "textposition": "auto",
         "texttemplate": "%{y:.1f}",
         "type": "bar",
         "x": [
          "Bus",
          "HD Truck",
          "MD Truck"
         ],
         "xaxis": "x4",
         "y": [
          0,
          0,
          0
         ],
         "yaxis": "y4"
        },
        {
         "alignmentgroup": "True",
         "hovertemplate": "Carrier=PHEV<br>Period=2040<br>Vehicle Class=%{x}<br>New Capacity=%{y}<extra></extra>",
         "legendgroup": "PHEV",
         "marker": {
          "color": "#990099",
          "pattern": {
           "shape": ""
          }
         },
         "name": "PHEV",
         "offsetgroup": "PHEV",
         "orientation": "v",
         "showlegend": false,
         "textfont": {
          "size": 9
         },
         "textposition": "auto",
         "texttemplate": "%{y:.1f}",
         "type": "bar",
         "x": [
          "Bus",
          "HD Truck",
          "MD Truck"
         ],
         "xaxis": "x5",
         "y": [
          0,
          0,
          0
         ],
         "yaxis": "y5"
        },
        {
         "alignmentgroup": "True",
         "hovertemplate": "Carrier=PHEV<br>Period=2045<br>Vehicle Class=%{x}<br>New Capacity=%{y}<extra></extra>",
         "legendgroup": "PHEV",
         "marker": {
          "color": "#990099",
          "pattern": {
           "shape": ""
          }
         },
         "name": "PHEV",
         "offsetgroup": "PHEV",
         "orientation": "v",
         "showlegend": false,
         "textfont": {
          "size": 9
         },
         "textposition": "auto",
         "texttemplate": "%{y:.1f}",
         "type": "bar",
         "x": [
          "Bus",
          "HD Truck",
          "MD Truck"
         ],
         "xaxis": "x6",
         "y": [
          0,
          0,
          0
         ],
         "yaxis": "y6"
        },
        {
         "alignmentgroup": "True",
         "hovertemplate": "Carrier=PHEV<br>Period=2050<br>Vehicle Class=%{x}<br>New Capacity=%{y}<extra></extra>",
         "legendgroup": "PHEV",
         "marker": {
          "color": "#990099",
          "pattern": {
           "shape": ""
          }
         },
         "name": "PHEV",
         "offsetgroup": "PHEV",
         "orientation": "v",
         "showlegend": false,
         "textfont": {
          "size": 9
         },
         "textposition": "auto",
         "texttemplate": "%{y:.1f}",
         "type": "bar",
         "x": [
          "Bus",
          "HD Truck",
          "MD Truck"
         ],
         "xaxis": "x7",
         "y": [
          0,
          0,
          0
         ],
         "yaxis": "y7"
        },
        {
         "alignmentgroup": "True",
         "hovertemplate": "Carrier=BEV<br>Period=2021<br>Vehicle Class=%{x}<br>New Capacity=%{y}<extra></extra>",
         "legendgroup": "BEV",
         "marker": {
          "color": "#0099C6",
          "pattern": {
           "shape": ""
          }
         },
         "name": "BEV",
         "offsetgroup": "BEV",
         "orientation": "v",
         "showlegend": true,
         "textfont": {
          "size": 9
         },
         "textposition": "auto",
         "texttemplate": "%{y:.1f}",
         "type": "bar",
         "x": [
          "Bus",
          "HD Truck",
          "MD Truck"
         ],
         "xaxis": "x",
         "y": [
          0,
          0,
          0
         ],
         "yaxis": "y"
        },
        {
         "alignmentgroup": "True",
         "hovertemplate": "Carrier=BEV<br>Period=2025<br>Vehicle Class=%{x}<br>New Capacity=%{y}<extra></extra>",
         "legendgroup": "BEV",
         "marker": {
          "color": "#0099C6",
          "pattern": {
           "shape": ""
          }
         },
         "name": "BEV",
         "offsetgroup": "BEV",
         "orientation": "v",
         "showlegend": false,
         "textfont": {
          "size": 9
         },
         "textposition": "auto",
         "texttemplate": "%{y:.1f}",
         "type": "bar",
         "x": [
          "Bus",
          "HD Truck",
          "MD Truck"
         ],
         "xaxis": "x2",
         "y": [
          0,
          0,
          0.0002249042624298467
         ],
         "yaxis": "y2"
        },
        {
         "alignmentgroup": "True",
         "hovertemplate": "Carrier=BEV<br>Period=2030<br>Vehicle Class=%{x}<br>New Capacity=%{y}<extra></extra>",
         "legendgroup": "BEV",
         "marker": {
          "color": "#0099C6",
          "pattern": {
           "shape": ""
          }
         },
         "name": "BEV",
         "offsetgroup": "BEV",
         "orientation": "v",
         "showlegend": false,
         "textfont": {
          "size": 9
         },
         "textposition": "auto",
         "texttemplate": "%{y:.1f}",
         "type": "bar",
         "x": [
          "Bus",
          "HD Truck",
          "MD Truck"
         ],
         "xaxis": "x3",
         "y": [
          0,
          0,
          0.0006663745366899329
         ],
         "yaxis": "y3"
        },
        {
         "alignmentgroup": "True",
         "hovertemplate": "Carrier=BEV<br>Period=2035<br>Vehicle Class=%{x}<br>New Capacity=%{y}<extra></extra>",
         "legendgroup": "BEV",
         "marker": {
          "color": "#0099C6",
          "pattern": {
           "shape": ""
          }
         },
         "name": "BEV",
         "offsetgroup": "BEV",
         "orientation": "v",
         "showlegend": false,
         "textfont": {
          "size": 9
         },
         "textposition": "auto",
         "texttemplate": "%{y:.1f}",
         "type": "bar",
         "x": [
          "Bus",
          "HD Truck",
          "MD Truck"
         ],
         "xaxis": "x4",
         "y": [
          0.0003126087621629107,
          0,
          0.001832230252897787
         ],
         "yaxis": "y4"
        },
        {
         "alignmentgroup": "True",
         "hovertemplate": "Carrier=BEV<br>Period=2040<br>Vehicle Class=%{x}<br>New Capacity=%{y}<extra></extra>",
         "legendgroup": "BEV",
         "marker": {
          "color": "#0099C6",
          "pattern": {
           "shape": ""
          }
         },
         "name": "BEV",
         "offsetgroup": "BEV",
         "orientation": "v",
         "showlegend": false,
         "textfont": {
          "size": 9
         },
         "textposition": "auto",
         "texttemplate": "%{y:.1f}",
         "type": "bar",
         "x": [
          "Bus",
          "HD Truck",
          "MD Truck"
         ],
         "xaxis": "x5",
         "y": [
          0.0021033361436580476,
          0,
          0.002043793624050918
         ],
         "yaxis": "y5"
        },
        {
         "alignmentgroup": "True",
         "hovertemplate": "Carrier=BEV<br>Period=2045<br>Vehicle Class=%{x}<br>New Capacity=%{y}<extra></extra>",
         "legendgroup": "BEV",
         "marker": {
          "color": "#0099C6",
          "pattern": {
           "shape": ""
          }
         },
         "name": "BEV",
         "offsetgroup": "BEV",
         "orientation": "v",
         "showlegend": false,
         "textfont": {
          "size": 9
         },
         "textposition": "auto",
         "texttemplate": "%{y:.1f}",
         "type": "bar",
         "x": [
          "Bus",
          "HD Truck",
          "MD Truck"
         ],
         "xaxis": "x6",
         "y": [
          0.002005680115242937,
          0,
          0.0003910700549490647
         ],
         "yaxis": "y6"
        },
        {
         "alignmentgroup": "True",
         "hovertemplate": "Carrier=BEV<br>Period=2050<br>Vehicle Class=%{x}<br>New Capacity=%{y}<extra></extra>",
         "legendgroup": "BEV",
         "marker": {
          "color": "#0099C6",
          "pattern": {
           "shape": ""
          }
         },
         "name": "BEV",
         "offsetgroup": "BEV",
         "orientation": "v",
         "showlegend": false,
         "textfont": {
          "size": 9
         },
         "textposition": "auto",
         "texttemplate": "%{y:.1f}",
         "type": "bar",
         "x": [
          "Bus",
          "HD Truck",
          "MD Truck"
         ],
         "xaxis": "x7",
         "y": [
          12.16754164760571,
          0,
          0.005736994659406029
         ],
         "yaxis": "y7"
        },
        {
         "alignmentgroup": "True",
         "hovertemplate": "Carrier=FCEV<br>Period=2021<br>Vehicle Class=%{x}<br>New Capacity=%{y}<extra></extra>",
         "legendgroup": "FCEV",
         "marker": {
          "color": "#DD4477",
          "pattern": {
           "shape": ""
          }
         },
         "name": "FCEV",
         "offsetgroup": "FCEV",
         "orientation": "v",
         "showlegend": true,
         "textfont": {
          "size": 9
         },
         "textposition": "auto",
         "texttemplate": "%{y:.1f}",
         "type": "bar",
         "x": [
          "Bus",
          "HD Truck",
          "MD Truck"
         ],
         "xaxis": "x",
         "y": [
          2.0424640299730803,
          0.00001031113612438926,
          49.55594892996495
         ],
         "yaxis": "y"
        },
        {
         "alignmentgroup": "True",
         "hovertemplate": "Carrier=FCEV<br>Period=2025<br>Vehicle Class=%{x}<br>New Capacity=%{y}<extra></extra>",
         "legendgroup": "FCEV",
         "marker": {
          "color": "#DD4477",
          "pattern": {
           "shape": ""
          }
         },
         "name": "FCEV",
         "offsetgroup": "FCEV",
         "orientation": "v",
         "showlegend": false,
         "textfont": {
          "size": 9
         },
         "textposition": "auto",
         "texttemplate": "%{y:.1f}",
         "type": "bar",
         "x": [
          "Bus",
          "HD Truck",
          "MD Truck"
         ],
         "xaxis": "x2",
         "y": [
          19.532242329795352,
          0.00002999200473381225,
          82.13041282334208
         ],
         "yaxis": "y2"
        },
        {
         "alignmentgroup": "True",
         "hovertemplate": "Carrier=FCEV<br>Period=2030<br>Vehicle Class=%{x}<br>New Capacity=%{y}<extra></extra>",
         "legendgroup": "FCEV",
         "marker": {
          "color": "#DD4477",
          "pattern": {
           "shape": ""
          }
         },
         "name": "FCEV",
         "offsetgroup": "FCEV",
         "orientation": "v",
         "showlegend": false,
         "textfont": {
          "size": 9
         },
         "textposition": "auto",
         "texttemplate": "%{y:.1f}",
         "type": "bar",
         "x": [
          "Bus",
          "HD Truck",
          "MD Truck"
         ],
         "xaxis": "x3",
         "y": [
          7.3155492810079075,
          24.83680098225327,
          113.1094116018023
         ],
         "yaxis": "y3"
        },
        {
         "alignmentgroup": "True",
         "hovertemplate": "Carrier=FCEV<br>Period=2035<br>Vehicle Class=%{x}<br>New Capacity=%{y}<extra></extra>",
         "legendgroup": "FCEV",
         "marker": {
          "color": "#DD4477",
          "pattern": {
           "shape": ""
          }
         },
         "name": "FCEV",
         "offsetgroup": "FCEV",
         "orientation": "v",
         "showlegend": false,
         "textfont": {
          "size": 9
         },
         "textposition": "auto",
         "texttemplate": "%{y:.1f}",
         "type": "bar",
         "x": [
          "Bus",
          "HD Truck",
          "MD Truck"
         ],
         "xaxis": "x4",
         "y": [
          18.682389489894447,
          41.73209368965318,
          181.87751616028615
         ],
         "yaxis": "y4"
        },
        {
         "alignmentgroup": "True",
         "hovertemplate": "Carrier=FCEV<br>Period=2040<br>Vehicle Class=%{x}<br>New Capacity=%{y}<extra></extra>",
         "legendgroup": "FCEV",
         "marker": {
          "color": "#DD4477",
          "pattern": {
           "shape": ""
          }
         },
         "name": "FCEV",
         "offsetgroup": "FCEV",
         "orientation": "v",
         "showlegend": false,
         "textfont": {
          "size": 9
         },
         "textposition": "auto",
         "texttemplate": "%{y:.1f}",
         "type": "bar",
         "x": [
          "Bus",
          "HD Truck",
          "MD Truck"
         ],
         "xaxis": "x5",
         "y": [
          18.89971894627405,
          71.38422229434664,
          218.0963437163032
         ],
         "yaxis": "y5"
        },
        {
         "alignmentgroup": "True",
         "hovertemplate": "Carrier=FCEV<br>Period=2045<br>Vehicle Class=%{x}<br>New Capacity=%{y}<extra></extra>",
         "legendgroup": "FCEV",
         "marker": {
          "color": "#DD4477",
          "pattern": {
           "shape": ""
          }
         },
         "name": "FCEV",
         "offsetgroup": "FCEV",
         "orientation": "v",
         "showlegend": false,
         "textfont": {
          "size": 9
         },
         "textposition": "auto",
         "texttemplate": "%{y:.1f}",
         "type": "bar",
         "x": [
          "Bus",
          "HD Truck",
          "MD Truck"
         ],
         "xaxis": "x6",
         "y": [
          14.01535261320881,
          21.3371371065588,
          131.7585760373501
         ],
         "yaxis": "y6"
        },
        {
         "alignmentgroup": "True",
         "hovertemplate": "Carrier=FCEV<br>Period=2050<br>Vehicle Class=%{x}<br>New Capacity=%{y}<extra></extra>",
         "legendgroup": "FCEV",
         "marker": {
          "color": "#DD4477",
          "pattern": {
           "shape": ""
          }
         },
         "name": "FCEV",
         "offsetgroup": "FCEV",
         "orientation": "v",
         "showlegend": false,
         "textfont": {
          "size": 9
         },
         "textposition": "auto",
         "texttemplate": "%{y:.1f}",
         "type": "bar",
         "x": [
          "Bus",
          "HD Truck",
          "MD Truck"
         ],
         "xaxis": "x7",
         "y": [
          8.124067409149223,
          42.88696021799348,
          183.0612882924909
         ],
         "yaxis": "y7"
        }
       ],
       "layout": {
        "annotations": [
         {
          "font": {},
          "showarrow": false,
          "text": "2021",
          "x": 0.06285714285714285,
          "xanchor": "center",
          "xref": "paper",
          "y": -0.08,
          "yanchor": "top",
          "yref": "paper"
         },
         {
          "font": {},
          "showarrow": false,
          "text": "2025",
          "x": 0.20857142857142852,
          "xanchor": "center",
          "xref": "paper",
          "y": -0.08,
          "yanchor": "top",
          "yref": "paper"
         },
         {
          "font": {},
          "showarrow": false,
          "text": "2030",
          "x": 0.3542857142857142,
          "xanchor": "center",
          "xref": "paper",
          "y": -0.08,
          "yanchor": "top",
          "yref": "paper"
         },
         {
          "font": {},
          "showarrow": false,
          "text": "2035",
          "x": 0.5,
          "xanchor": "center",
          "xref": "paper",
          "y": -0.08,
          "yanchor": "top",
          "yref": "paper"
         },
         {
          "font": {},
          "showarrow": false,
          "text": "2040",
          "x": 0.6457142857142856,
          "xanchor": "center",
          "xref": "paper",
          "y": -0.08,
          "yanchor": "top",
          "yref": "paper"
         },
         {
          "font": {},
          "showarrow": false,
          "text": "2045",
          "x": 0.7914285714285713,
          "xanchor": "center",
          "xref": "paper",
          "y": -0.08,
          "yanchor": "top",
          "yref": "paper"
         },
         {
          "font": {},
          "showarrow": false,
          "text": "2050",
          "x": 0.937142857142857,
          "xanchor": "center",
          "xref": "paper",
          "y": -0.08,
          "yanchor": "top",
          "yref": "paper"
         }
        ],
        "bargap": 0.1,
        "barmode": "stack",
        "font": {
         "size": 14
        },
        "height": 650,
        "legend": {
         "orientation": "h",
         "title": {
          "text": ""
         },
         "tracegroupgap": 0,
         "x": 0.5,
         "xanchor": "center",
         "y": 1.03,
         "yanchor": "top"
        },
        "margin": {
         "t": 60
        },
        "template": {
         "data": {
          "bar": [
           {
            "error_x": {
             "color": "#2a3f5f"
            },
            "error_y": {
             "color": "#2a3f5f"
            },
            "marker": {
             "line": {
              "color": "white",
              "width": 0.5
             },
             "pattern": {
              "fillmode": "overlay",
              "size": 10,
              "solidity": 0.2
             }
            },
            "type": "bar"
           }
          ],
          "barpolar": [
           {
            "marker": {
             "line": {
              "color": "white",
              "width": 0.5
             },
             "pattern": {
              "fillmode": "overlay",
              "size": 10,
              "solidity": 0.2
             }
            },
            "type": "barpolar"
           }
          ],
          "carpet": [
           {
            "aaxis": {
             "endlinecolor": "#2a3f5f",
             "gridcolor": "#C8D4E3",
             "linecolor": "#C8D4E3",
             "minorgridcolor": "#C8D4E3",
             "startlinecolor": "#2a3f5f"
            },
            "baxis": {
             "endlinecolor": "#2a3f5f",
             "gridcolor": "#C8D4E3",
             "linecolor": "#C8D4E3",
             "minorgridcolor": "#C8D4E3",
             "startlinecolor": "#2a3f5f"
            },
            "type": "carpet"
           }
          ],
          "choropleth": [
           {
            "colorbar": {
             "outlinewidth": 0,
             "ticks": ""
            },
            "type": "choropleth"
           }
          ],
          "contour": [
           {
            "colorbar": {
             "outlinewidth": 0,
             "ticks": ""
            },
            "colorscale": [
             [
              0,
              "#0d0887"
             ],
             [
              0.1111111111111111,
              "#46039f"
             ],
             [
              0.2222222222222222,
              "#7201a8"
             ],
             [
              0.3333333333333333,
              "#9c179e"
             ],
             [
              0.4444444444444444,
              "#bd3786"
             ],
             [
              0.5555555555555556,
              "#d8576b"
             ],
             [
              0.6666666666666666,
              "#ed7953"
             ],
             [
              0.7777777777777778,
              "#fb9f3a"
             ],
             [
              0.8888888888888888,
              "#fdca26"
             ],
             [
              1,
              "#f0f921"
             ]
            ],
            "type": "contour"
           }
          ],
          "contourcarpet": [
           {
            "colorbar": {
             "outlinewidth": 0,
             "ticks": ""
            },
            "type": "contourcarpet"
           }
          ],
          "heatmap": [
           {
            "colorbar": {
             "outlinewidth": 0,
             "ticks": ""
            },
            "colorscale": [
             [
              0,
              "#0d0887"
             ],
             [
              0.1111111111111111,
              "#46039f"
             ],
             [
              0.2222222222222222,
              "#7201a8"
             ],
             [
              0.3333333333333333,
              "#9c179e"
             ],
             [
              0.4444444444444444,
              "#bd3786"
             ],
             [
              0.5555555555555556,
              "#d8576b"
             ],
             [
              0.6666666666666666,
              "#ed7953"
             ],
             [
              0.7777777777777778,
              "#fb9f3a"
             ],
             [
              0.8888888888888888,
              "#fdca26"
             ],
             [
              1,
              "#f0f921"
             ]
            ],
            "type": "heatmap"
           }
          ],
          "heatmapgl": [
           {
            "colorbar": {
             "outlinewidth": 0,
             "ticks": ""
            },
            "colorscale": [
             [
              0,
              "#0d0887"
             ],
             [
              0.1111111111111111,
              "#46039f"
             ],
             [
              0.2222222222222222,
              "#7201a8"
             ],
             [
              0.3333333333333333,
              "#9c179e"
             ],
             [
              0.4444444444444444,
              "#bd3786"
             ],
             [
              0.5555555555555556,
              "#d8576b"
             ],
             [
              0.6666666666666666,
              "#ed7953"
             ],
             [
              0.7777777777777778,
              "#fb9f3a"
             ],
             [
              0.8888888888888888,
              "#fdca26"
             ],
             [
              1,
              "#f0f921"
             ]
            ],
            "type": "heatmapgl"
           }
          ],
          "histogram": [
           {
            "marker": {
             "pattern": {
              "fillmode": "overlay",
              "size": 10,
              "solidity": 0.2
             }
            },
            "type": "histogram"
           }
          ],
          "histogram2d": [
           {
            "colorbar": {
             "outlinewidth": 0,
             "ticks": ""
            },
            "colorscale": [
             [
              0,
              "#0d0887"
             ],
             [
              0.1111111111111111,
              "#46039f"
             ],
             [
              0.2222222222222222,
              "#7201a8"
             ],
             [
              0.3333333333333333,
              "#9c179e"
             ],
             [
              0.4444444444444444,
              "#bd3786"
             ],
             [
              0.5555555555555556,
              "#d8576b"
             ],
             [
              0.6666666666666666,
              "#ed7953"
             ],
             [
              0.7777777777777778,
              "#fb9f3a"
             ],
             [
              0.8888888888888888,
              "#fdca26"
             ],
             [
              1,
              "#f0f921"
             ]
            ],
            "type": "histogram2d"
           }
          ],
          "histogram2dcontour": [
           {
            "colorbar": {
             "outlinewidth": 0,
             "ticks": ""
            },
            "colorscale": [
             [
              0,
              "#0d0887"
             ],
             [
              0.1111111111111111,
              "#46039f"
             ],
             [
              0.2222222222222222,
              "#7201a8"
             ],
             [
              0.3333333333333333,
              "#9c179e"
             ],
             [
              0.4444444444444444,
              "#bd3786"
             ],
             [
              0.5555555555555556,
              "#d8576b"
             ],
             [
              0.6666666666666666,
              "#ed7953"
             ],
             [
              0.7777777777777778,
              "#fb9f3a"
             ],
             [
              0.8888888888888888,
              "#fdca26"
             ],
             [
              1,
              "#f0f921"
             ]
            ],
            "type": "histogram2dcontour"
           }
          ],
          "mesh3d": [
           {
            "colorbar": {
             "outlinewidth": 0,
             "ticks": ""
            },
            "type": "mesh3d"
           }
          ],
          "parcoords": [
           {
            "line": {
             "colorbar": {
              "outlinewidth": 0,
              "ticks": ""
             }
            },
            "type": "parcoords"
           }
          ],
          "pie": [
           {
            "automargin": true,
            "type": "pie"
           }
          ],
          "scatter": [
           {
            "fillpattern": {
             "fillmode": "overlay",
             "size": 10,
             "solidity": 0.2
            },
            "type": "scatter"
           }
          ],
          "scatter3d": [
           {
            "line": {
             "colorbar": {
              "outlinewidth": 0,
              "ticks": ""
             }
            },
            "marker": {
             "colorbar": {
              "outlinewidth": 0,
              "ticks": ""
             }
            },
            "type": "scatter3d"
           }
          ],
          "scattercarpet": [
           {
            "marker": {
             "colorbar": {
              "outlinewidth": 0,
              "ticks": ""
             }
            },
            "type": "scattercarpet"
           }
          ],
          "scattergeo": [
           {
            "marker": {
             "colorbar": {
              "outlinewidth": 0,
              "ticks": ""
             }
            },
            "type": "scattergeo"
           }
          ],
          "scattergl": [
           {
            "marker": {
             "colorbar": {
              "outlinewidth": 0,
              "ticks": ""
             }
            },
            "type": "scattergl"
           }
          ],
          "scattermapbox": [
           {
            "marker": {
             "colorbar": {
              "outlinewidth": 0,
              "ticks": ""
             }
            },
            "type": "scattermapbox"
           }
          ],
          "scatterpolar": [
           {
            "marker": {
             "colorbar": {
              "outlinewidth": 0,
              "ticks": ""
             }
            },
            "type": "scatterpolar"
           }
          ],
          "scatterpolargl": [
           {
            "marker": {
             "colorbar": {
              "outlinewidth": 0,
              "ticks": ""
             }
            },
            "type": "scatterpolargl"
           }
          ],
          "scatterternary": [
           {
            "marker": {
             "colorbar": {
              "outlinewidth": 0,
              "ticks": ""
             }
            },
            "type": "scatterternary"
           }
          ],
          "surface": [
           {
            "colorbar": {
             "outlinewidth": 0,
             "ticks": ""
            },
            "colorscale": [
             [
              0,
              "#0d0887"
             ],
             [
              0.1111111111111111,
              "#46039f"
             ],
             [
              0.2222222222222222,
              "#7201a8"
             ],
             [
              0.3333333333333333,
              "#9c179e"
             ],
             [
              0.4444444444444444,
              "#bd3786"
             ],
             [
              0.5555555555555556,
              "#d8576b"
             ],
             [
              0.6666666666666666,
              "#ed7953"
             ],
             [
              0.7777777777777778,
              "#fb9f3a"
             ],
             [
              0.8888888888888888,
              "#fdca26"
             ],
             [
              1,
              "#f0f921"
             ]
            ],
            "type": "surface"
           }
          ],
          "table": [
           {
            "cells": {
             "fill": {
              "color": "#EBF0F8"
             },
             "line": {
              "color": "white"
             }
            },
            "header": {
             "fill": {
              "color": "#C8D4E3"
             },
             "line": {
              "color": "white"
             }
            },
            "type": "table"
           }
          ]
         },
         "layout": {
          "annotationdefaults": {
           "arrowcolor": "#2a3f5f",
           "arrowhead": 0,
           "arrowwidth": 1
          },
          "autotypenumbers": "strict",
          "coloraxis": {
           "colorbar": {
            "outlinewidth": 0,
            "ticks": ""
           }
          },
          "colorscale": {
           "diverging": [
            [
             0,
             "#8e0152"
            ],
            [
             0.1,
             "#c51b7d"
            ],
            [
             0.2,
             "#de77ae"
            ],
            [
             0.3,
             "#f1b6da"
            ],
            [
             0.4,
             "#fde0ef"
            ],
            [
             0.5,
             "#f7f7f7"
            ],
            [
             0.6,
             "#e6f5d0"
            ],
            [
             0.7,
             "#b8e186"
            ],
            [
             0.8,
             "#7fbc41"
            ],
            [
             0.9,
             "#4d9221"
            ],
            [
             1,
             "#276419"
            ]
           ],
           "sequential": [
            [
             0,
             "#0d0887"
            ],
            [
             0.1111111111111111,
             "#46039f"
            ],
            [
             0.2222222222222222,
             "#7201a8"
            ],
            [
             0.3333333333333333,
             "#9c179e"
            ],
            [
             0.4444444444444444,
             "#bd3786"
            ],
            [
             0.5555555555555556,
             "#d8576b"
            ],
            [
             0.6666666666666666,
             "#ed7953"
            ],
            [
             0.7777777777777778,
             "#fb9f3a"
            ],
            [
             0.8888888888888888,
             "#fdca26"
            ],
            [
             1,
             "#f0f921"
            ]
           ],
           "sequentialminus": [
            [
             0,
             "#0d0887"
            ],
            [
             0.1111111111111111,
             "#46039f"
            ],
            [
             0.2222222222222222,
             "#7201a8"
            ],
            [
             0.3333333333333333,
             "#9c179e"
            ],
            [
             0.4444444444444444,
             "#bd3786"
            ],
            [
             0.5555555555555556,
             "#d8576b"
            ],
            [
             0.6666666666666666,
             "#ed7953"
            ],
            [
             0.7777777777777778,
             "#fb9f3a"
            ],
            [
             0.8888888888888888,
             "#fdca26"
            ],
            [
             1,
             "#f0f921"
            ]
           ]
          },
          "colorway": [
           "#636efa",
           "#EF553B",
           "#00cc96",
           "#ab63fa",
           "#FFA15A",
           "#19d3f3",
           "#FF6692",
           "#B6E880",
           "#FF97FF",
           "#FECB52"
          ],
          "font": {
           "color": "#2a3f5f"
          },
          "geo": {
           "bgcolor": "white",
           "lakecolor": "white",
           "landcolor": "white",
           "showlakes": true,
           "showland": true,
           "subunitcolor": "#C8D4E3"
          },
          "hoverlabel": {
           "align": "left"
          },
          "hovermode": "closest",
          "mapbox": {
           "style": "light"
          },
          "paper_bgcolor": "white",
          "plot_bgcolor": "white",
          "polar": {
           "angularaxis": {
            "gridcolor": "#EBF0F8",
            "linecolor": "#EBF0F8",
            "ticks": ""
           },
           "bgcolor": "white",
           "radialaxis": {
            "gridcolor": "#EBF0F8",
            "linecolor": "#EBF0F8",
            "ticks": ""
           }
          },
          "scene": {
           "xaxis": {
            "backgroundcolor": "white",
            "gridcolor": "#DFE8F3",
            "gridwidth": 2,
            "linecolor": "#EBF0F8",
            "showbackground": true,
            "ticks": "",
            "zerolinecolor": "#EBF0F8"
           },
           "yaxis": {
            "backgroundcolor": "white",
            "gridcolor": "#DFE8F3",
            "gridwidth": 2,
            "linecolor": "#EBF0F8",
            "showbackground": true,
            "ticks": "",
            "zerolinecolor": "#EBF0F8"
           },
           "zaxis": {
            "backgroundcolor": "white",
            "gridcolor": "#DFE8F3",
            "gridwidth": 2,
            "linecolor": "#EBF0F8",
            "showbackground": true,
            "ticks": "",
            "zerolinecolor": "#EBF0F8"
           }
          },
          "shapedefaults": {
           "line": {
            "color": "#2a3f5f"
           }
          },
          "ternary": {
           "aaxis": {
            "gridcolor": "#DFE8F3",
            "linecolor": "#A2B1C6",
            "ticks": ""
           },
           "baxis": {
            "gridcolor": "#DFE8F3",
            "linecolor": "#A2B1C6",
            "ticks": ""
           },
           "bgcolor": "white",
           "caxis": {
            "gridcolor": "#DFE8F3",
            "linecolor": "#A2B1C6",
            "ticks": ""
           }
          },
          "title": {
           "x": 0.05
          },
          "xaxis": {
           "automargin": true,
           "gridcolor": "#EBF0F8",
           "linecolor": "#EBF0F8",
           "ticks": "",
           "title": {
            "standoff": 15
           },
           "zerolinecolor": "#EBF0F8",
           "zerolinewidth": 2
          },
          "yaxis": {
           "automargin": true,
           "gridcolor": "#EBF0F8",
           "linecolor": "#EBF0F8",
           "ticks": "",
           "title": {
            "standoff": 15
           },
           "zerolinecolor": "#EBF0F8",
           "zerolinewidth": 2
          }
         }
        },
        "title": {
         "text": "Transportation fleet expansion in ON by vehicle class and drivetrain",
         "x": 0.5,
         "xanchor": "center",
         "y": 0.97,
         "yanchor": "top"
        },
        "width": 1000,
        "xaxis": {
         "anchor": "y",
         "domain": [
          0,
          0.1257142857142857
         ],
         "title": {
          "text": ""
         }
        },
        "xaxis2": {
         "anchor": "y2",
         "domain": [
          0.14571428571428569,
          0.27142857142857135
         ],
         "matches": "x",
         "title": {
          "text": ""
         }
        },
        "xaxis3": {
         "anchor": "y3",
         "domain": [
          0.29142857142857137,
          0.41714285714285704
         ],
         "matches": "x",
         "title": {
          "text": ""
         }
        },
        "xaxis4": {
         "anchor": "y4",
         "domain": [
          0.4371428571428571,
          0.5628571428571428
         ],
         "matches": "x",
         "title": {
          "text": ""
         }
        },
        "xaxis5": {
         "anchor": "y5",
         "domain": [
          0.5828571428571427,
          0.7085714285714284
         ],
         "matches": "x",
         "title": {
          "text": ""
         }
        },
        "xaxis6": {
         "anchor": "y6",
         "domain": [
          0.7285714285714284,
          0.8542857142857141
         ],
         "matches": "x",
         "title": {
          "text": ""
         }
        },
        "xaxis7": {
         "anchor": "y7",
         "domain": [
          0.8742857142857142,
          0.9999999999999999
         ],
         "matches": "x",
         "title": {
          "text": ""
         }
        },
        "yaxis": {
         "anchor": "x",
         "domain": [
          0,
          1
         ],
         "dtick": 20,
         "title": {
          "standoff": 0,
          "text": "New vehicles (k units)"
         }
        },
        "yaxis2": {
         "anchor": "x2",
         "domain": [
          0,
          1
         ],
         "dtick": 20,
         "matches": "y",
         "showticklabels": false
        },
        "yaxis3": {
         "anchor": "x3",
         "domain": [
          0,
          1
         ],
         "dtick": 20,
         "matches": "y",
         "showticklabels": false
        },
        "yaxis4": {
         "anchor": "x4",
         "domain": [
          0,
          1
         ],
         "dtick": 20,
         "matches": "y",
         "showticklabels": false
        },
        "yaxis5": {
         "anchor": "x5",
         "domain": [
          0,
          1
         ],
         "dtick": 20,
         "matches": "y",
         "showticklabels": false
        },
        "yaxis6": {
         "anchor": "x6",
         "domain": [
          0,
          1
         ],
         "dtick": 20,
         "matches": "y",
         "showticklabels": false
        },
        "yaxis7": {
         "anchor": "x7",
         "domain": [
          0,
          1
         ],
         "dtick": 20,
         "matches": "y",
         "showticklabels": false
        }
       }
      }
     },
     "metadata": {},
     "output_type": "display_data"
    }
   ],
   "source": [
    "ref_fig = ref_trnnewcap[ref_trnnewcap['Vehicle Class'].isin(['Bus', 'MD Truck', 'HD Truck'])][['Period', 'Vehicle Class', 'New Capacity', 'Carrier']].groupby(['Period', 'Vehicle Class', 'Carrier'], as_index=False).sum()\n",
    "ref_fig['New Capacity (M units)'] = ref_fig['New Capacity']/1E3\n",
    "\n",
    "ref_fig['Carrier'] = pd.Categorical(ref_fig['Carrier'], categories=drivetrain_order, ordered=True)\n",
    "ref_fig = ref_fig.sort_values(['Carrier', 'Period'])\n",
    "\n",
    "fig = px.bar(ref_fig, \n",
    "             x='Vehicle Class', \n",
    "             y='New Capacity', \n",
    "             color='Carrier', \n",
    "             barmode='stack', \n",
    "             facet_col='Period',\n",
    "             facet_col_spacing=2E-2,\n",
    "             template='plotly_white',\n",
    "             color_discrete_sequence=px.colors.qualitative.G10[:7] + px.colors.qualitative.G10[8:],\n",
    "             text_auto='.1f',\n",
    "             width=1000, height=650,\n",
    "             )\n",
    "\n",
    "fig.update_layout(title=dict(\n",
    "        text='Transportation fleet expansion in ON by vehicle class and drivetrain',\n",
    "        x=0.5, \n",
    "        y=0.97,\n",
    "        xanchor='center',\n",
    "        yanchor='top'\n",
    "    ),\n",
    "    xaxis=dict(title='Period'),\n",
    "    yaxis=dict(title='New vehicles (k units)',\n",
    "               dtick=20),\n",
    "    yaxis_title_standoff=0,\n",
    "    legend_title_text='',\n",
    "    bargap=0.1,\n",
    "    legend=dict(\n",
    "        orientation='h',  \n",
    "        yanchor='top',\n",
    "        y=1.03,  \n",
    "        xanchor='center',\n",
    "        x=0.5),\n",
    "    font=dict(\n",
    "        # family=\"Open Sans\",\n",
    "        size=14)\n",
    "    )\n",
    "\n",
    "for annotation in fig.layout.annotations:\n",
    "    annotation.text = annotation.text.split('=')[1]\n",
    "    annotation.y = -0.08  \n",
    "    annotation.yanchor = 'top' \n",
    "\n",
    "for axis in fig.layout:\n",
    "    if axis.startswith('yaxis'):\n",
    "        fig.layout[axis].dtick = 20\n",
    "\n",
    "for axis in fig.layout:\n",
    "    if axis.startswith('xaxis'):\n",
    "        fig.layout[axis].title.text = ''\n",
    "\n",
    "fig.for_each_trace(lambda trace: trace.update(textfont=dict(size=9)))\n",
    "\n",
    "fig.show()"
   ]
  },
  {
   "cell_type": "code",
   "execution_count": 23,
   "metadata": {},
   "outputs": [],
   "source": [
    "gtech_class_mapping = {\n",
    "    'LD Car': 'LDV',\n",
    "    'LD Truck': 'LDV',\n",
    "    'HD Truck': 'HDV',\n",
    "}\n",
    "\n",
    "gtech_carrier_mapping = {\n",
    "    'CNG': 'ICEV',\n",
    "    'HEV': 'ICEV',\n",
    "    'PHEV': 'ICEV',\n",
    "    'Diesel': 'ICEV',\n",
    "    'Gasoline': 'ICEV',\n",
    "    'BEV': 'BEV',\n",
    "    'FCEV': 'FCEV',\n",
    "}"
   ]
  },
  {
   "cell_type": "code",
   "execution_count": 24,
   "metadata": {},
   "outputs": [
    {
     "data": {
      "application/vnd.plotly.v1+json": {
       "config": {
        "plotlyServerURL": "https://plot.ly"
       },
       "data": [
        {
         "fillpattern": {
          "shape": ""
         },
         "hovertemplate": "Drivetrain=BEV<br>Class=LDV<br>Model=CANOE (ref)<br>Period=%{x}<br>Market Share (%)=%{y}<extra></extra>",
         "legendgroup": "BEV",
         "line": {
          "color": "#636efa"
         },
         "marker": {
          "symbol": "circle"
         },
         "mode": "lines",
         "name": "BEV",
         "orientation": "v",
         "showlegend": true,
         "stackgroup": "1",
         "type": "scatter",
         "x": [
          "2021",
          "2025",
          "2030",
          "2035",
          "2040",
          "2045",
          "2050"
         ],
         "xaxis": "x3",
         "y": [
          53.46242932848266,
          99.48878478374125,
          99.29177436375517,
          99.80347981329109,
          99.95389515803141,
          99.97480962964059,
          99.99418205855983
         ],
         "yaxis": "y3"
        },
        {
         "fillpattern": {
          "shape": ""
         },
         "hovertemplate": "Drivetrain=BEV<br>Class=LDV<br>Model=gTech-IESD (ref)<br>Period=%{x}<br>Market Share (%)=%{y}<extra></extra>",
         "legendgroup": "BEV",
         "line": {
          "color": "#636efa"
         },
         "marker": {
          "symbol": "circle"
         },
         "mode": "lines",
         "name": "BEV",
         "orientation": "v",
         "showlegend": false,
         "stackgroup": "1",
         "type": "scatter",
         "x": [
          "2021",
          "2025",
          "2030",
          "2035",
          "2040",
          "2045",
          "2050"
         ],
         "xaxis": "x4",
         "y": [
          1.6048756384,
          3.290410276,
          9.122431832,
          24.21289582,
          37.77109615,
          48.85986564,
          54.22833528
         ],
         "yaxis": "y4"
        },
        {
         "fillpattern": {
          "shape": ""
         },
         "hovertemplate": "Drivetrain=BEV<br>Class=HDV<br>Model=CANOE (ref)<br>Period=%{x}<br>Market Share (%)=%{y}<extra></extra>",
         "legendgroup": "BEV",
         "line": {
          "color": "#636efa"
         },
         "marker": {
          "symbol": "circle"
         },
         "mode": "lines",
         "name": "BEV",
         "orientation": "v",
         "showlegend": false,
         "stackgroup": "1",
         "type": "scatter",
         "x": [
          "2021",
          "2025",
          "2030",
          "2035",
          "2040",
          "2045",
          "2050"
         ],
         "xaxis": "x",
         "y": [
          0,
          0,
          0,
          0,
          0,
          0,
          0
         ],
         "yaxis": "y"
        },
        {
         "fillpattern": {
          "shape": ""
         },
         "hovertemplate": "Drivetrain=BEV<br>Class=HDV<br>Model=gTech-IESD (ref)<br>Period=%{x}<br>Market Share (%)=%{y}<extra></extra>",
         "legendgroup": "BEV",
         "line": {
          "color": "#636efa"
         },
         "marker": {
          "symbol": "circle"
         },
         "mode": "lines",
         "name": "BEV",
         "orientation": "v",
         "showlegend": false,
         "stackgroup": "1",
         "type": "scatter",
         "x": [
          "2021",
          "2025",
          "2030",
          "2035",
          "2040",
          "2045",
          "2050"
         ],
         "xaxis": "x2",
         "y": [
          0,
          0,
          1.175884875,
          2.455146146,
          3.654034012,
          4.38461547,
          4.567742631
         ],
         "yaxis": "y2"
        },
        {
         "fillpattern": {
          "shape": ""
         },
         "hovertemplate": "Drivetrain=FCEV<br>Class=LDV<br>Model=CANOE (ref)<br>Period=%{x}<br>Market Share (%)=%{y}<extra></extra>",
         "legendgroup": "FCEV",
         "line": {
          "color": "#EF553B"
         },
         "marker": {
          "symbol": "circle"
         },
         "mode": "lines",
         "name": "FCEV",
         "orientation": "v",
         "showlegend": true,
         "stackgroup": "1",
         "type": "scatter",
         "x": [
          "2021",
          "2025",
          "2030",
          "2035",
          "2040",
          "2045",
          "2050"
         ],
         "xaxis": "x3",
         "y": [
          0.00012525159129058065,
          0.000028407806753155163,
          0.00005501989853728835,
          0.00003584531935543325,
          0.00003959083756656588,
          0.000057686390609694685,
          0.00004627086832188392
         ],
         "yaxis": "y3"
        },
        {
         "fillpattern": {
          "shape": ""
         },
         "hovertemplate": "Drivetrain=FCEV<br>Class=LDV<br>Model=gTech-IESD (ref)<br>Period=%{x}<br>Market Share (%)=%{y}<extra></extra>",
         "legendgroup": "FCEV",
         "line": {
          "color": "#EF553B"
         },
         "marker": {
          "symbol": "circle"
         },
         "mode": "lines",
         "name": "FCEV",
         "orientation": "v",
         "showlegend": false,
         "stackgroup": "1",
         "type": "scatter",
         "x": [
          "2021",
          "2025",
          "2030",
          "2035",
          "2040",
          "2045",
          "2050"
         ],
         "xaxis": "x4",
         "y": [
          0.000038726,
          0.00019363,
          0.000269259,
          0.000338545,
          0.000383179,
          0.000457183,
          0.000593939
         ],
         "yaxis": "y4"
        },
        {
         "fillpattern": {
          "shape": ""
         },
         "hovertemplate": "Drivetrain=FCEV<br>Class=HDV<br>Model=CANOE (ref)<br>Period=%{x}<br>Market Share (%)=%{y}<extra></extra>",
         "legendgroup": "FCEV",
         "line": {
          "color": "#EF553B"
         },
         "marker": {
          "symbol": "circle"
         },
         "mode": "lines",
         "name": "FCEV",
         "orientation": "v",
         "showlegend": false,
         "stackgroup": "1",
         "type": "scatter",
         "x": [
          "2021",
          "2025",
          "2030",
          "2035",
          "2040",
          "2045",
          "2050"
         ],
         "xaxis": "x",
         "y": [
          0.00006453452569157992,
          0.000239256660575956,
          75.17415376067457,
          79.80315134523096,
          89.6035536344036,
          74.7316105075639,
          86.16080387918703
         ],
         "yaxis": "y"
        },
        {
         "fillpattern": {
          "shape": ""
         },
         "hovertemplate": "Drivetrain=FCEV<br>Class=HDV<br>Model=gTech-IESD (ref)<br>Period=%{x}<br>Market Share (%)=%{y}<extra></extra>",
         "legendgroup": "FCEV",
         "line": {
          "color": "#EF553B"
         },
         "marker": {
          "symbol": "circle"
         },
         "mode": "lines",
         "name": "FCEV",
         "orientation": "v",
         "showlegend": false,
         "stackgroup": "1",
         "type": "scatter",
         "x": [
          "2021",
          "2025",
          "2030",
          "2035",
          "2040",
          "2045",
          "2050"
         ],
         "xaxis": "x2",
         "y": [
          0,
          0,
          0.714838827,
          1.986843545,
          3.254556205,
          4.200529189,
          4.594587849
         ],
         "yaxis": "y2"
        },
        {
         "fillpattern": {
          "shape": ""
         },
         "hovertemplate": "Drivetrain=ICEV<br>Class=LDV<br>Model=CANOE (ref)<br>Period=%{x}<br>Market Share (%)=%{y}<extra></extra>",
         "legendgroup": "ICEV",
         "line": {
          "color": "#00cc96"
         },
         "marker": {
          "symbol": "circle"
         },
         "mode": "lines",
         "name": "ICEV",
         "orientation": "v",
         "showlegend": true,
         "stackgroup": "1",
         "type": "scatter",
         "x": [
          "2021",
          "2025",
          "2030",
          "2035",
          "2040",
          "2045",
          "2050"
         ],
         "xaxis": "x3",
         "y": [
          46.53744541992606,
          0.5111868084519913,
          0.7081706163462943,
          0.19648434138955442,
          0.04606525113102159,
          0.02513268396880799,
          0.0057716705718404045
         ],
         "yaxis": "y3"
        },
        {
         "fillpattern": {
          "shape": ""
         },
         "hovertemplate": "Drivetrain=ICEV<br>Class=LDV<br>Model=gTech-IESD (ref)<br>Period=%{x}<br>Market Share (%)=%{y}<extra></extra>",
         "legendgroup": "ICEV",
         "line": {
          "color": "#00cc96"
         },
         "marker": {
          "symbol": "circle"
         },
         "mode": "lines",
         "name": "ICEV",
         "orientation": "v",
         "showlegend": false,
         "stackgroup": "1",
         "type": "scatter",
         "x": [
          "2021",
          "2025",
          "2030",
          "2035",
          "2040",
          "2045",
          "2050"
         ],
         "xaxis": "x4",
         "y": [
          98.395085634,
          96.70939609,
          90.87729891,
          75.78676564,
          62.22852067,
          51.13967718,
          45.77107078
         ],
         "yaxis": "y4"
        },
        {
         "fillpattern": {
          "shape": ""
         },
         "hovertemplate": "Drivetrain=ICEV<br>Class=HDV<br>Model=CANOE (ref)<br>Period=%{x}<br>Market Share (%)=%{y}<extra></extra>",
         "legendgroup": "ICEV",
         "line": {
          "color": "#00cc96"
         },
         "marker": {
          "symbol": "circle"
         },
         "mode": "lines",
         "name": "ICEV",
         "orientation": "v",
         "showlegend": false,
         "stackgroup": "1",
         "type": "scatter",
         "x": [
          "2021",
          "2025",
          "2030",
          "2035",
          "2040",
          "2045",
          "2050"
         ],
         "xaxis": "x",
         "y": [
          99.99993546547431,
          99.99976074333942,
          24.825846239325433,
          20.19684865476904,
          10.396446365596406,
          25.268389492436107,
          13.839196120812968
         ],
         "yaxis": "y"
        },
        {
         "fillpattern": {
          "shape": ""
         },
         "hovertemplate": "Drivetrain=ICEV<br>Class=HDV<br>Model=gTech-IESD (ref)<br>Period=%{x}<br>Market Share (%)=%{y}<extra></extra>",
         "legendgroup": "ICEV",
         "line": {
          "color": "#00cc96"
         },
         "marker": {
          "symbol": "circle"
         },
         "mode": "lines",
         "name": "ICEV",
         "orientation": "v",
         "showlegend": false,
         "stackgroup": "1",
         "type": "scatter",
         "x": [
          "2021",
          "2025",
          "2030",
          "2035",
          "2040",
          "2045",
          "2050"
         ],
         "xaxis": "x2",
         "y": [
          100,
          100,
          98.1092763,
          95.55801031,
          93.09140978,
          91.41485534,
          90.83766952
         ],
         "yaxis": "y2"
        }
       ],
       "layout": {
        "annotations": [
         {
          "showarrow": false,
          "text": "Model=CANOE (ref)",
          "x": 0.23249999999999998,
          "xanchor": "center",
          "xref": "paper",
          "y": 1,
          "yanchor": "bottom",
          "yref": "paper"
         },
         {
          "showarrow": false,
          "text": "Model=gTech-IESD (ref)",
          "x": 0.7475,
          "xanchor": "center",
          "xref": "paper",
          "y": 1,
          "yanchor": "bottom",
          "yref": "paper"
         },
         {
          "showarrow": false,
          "text": "Class=HDV",
          "textangle": 90,
          "x": 0.98,
          "xanchor": "left",
          "xref": "paper",
          "y": 0.2425,
          "yanchor": "middle",
          "yref": "paper"
         },
         {
          "showarrow": false,
          "text": "Class=LDV",
          "textangle": 90,
          "x": 0.98,
          "xanchor": "left",
          "xref": "paper",
          "y": 0.7575000000000001,
          "yanchor": "middle",
          "yref": "paper"
         },
         {
          "font": {
           "size": 15
          },
          "showarrow": false,
          "text": "Market Share (%)",
          "textangle": -90,
          "x": -0.08,
          "xref": "paper",
          "y": 0.5,
          "yref": "paper"
         }
        ],
        "bargap": 0.1,
        "font": {
         "size": 14
        },
        "height": 500,
        "legend": {
         "orientation": "h",
         "title": {
          "text": ""
         },
         "tracegroupgap": 0,
         "x": 0.5,
         "xanchor": "center",
         "y": 0.99,
         "yanchor": "top"
        },
        "margin": {
         "t": 60
        },
        "template": {
         "data": {
          "bar": [
           {
            "error_x": {
             "color": "#2a3f5f"
            },
            "error_y": {
             "color": "#2a3f5f"
            },
            "marker": {
             "line": {
              "color": "white",
              "width": 0.5
             },
             "pattern": {
              "fillmode": "overlay",
              "size": 10,
              "solidity": 0.2
             }
            },
            "type": "bar"
           }
          ],
          "barpolar": [
           {
            "marker": {
             "line": {
              "color": "white",
              "width": 0.5
             },
             "pattern": {
              "fillmode": "overlay",
              "size": 10,
              "solidity": 0.2
             }
            },
            "type": "barpolar"
           }
          ],
          "carpet": [
           {
            "aaxis": {
             "endlinecolor": "#2a3f5f",
             "gridcolor": "#C8D4E3",
             "linecolor": "#C8D4E3",
             "minorgridcolor": "#C8D4E3",
             "startlinecolor": "#2a3f5f"
            },
            "baxis": {
             "endlinecolor": "#2a3f5f",
             "gridcolor": "#C8D4E3",
             "linecolor": "#C8D4E3",
             "minorgridcolor": "#C8D4E3",
             "startlinecolor": "#2a3f5f"
            },
            "type": "carpet"
           }
          ],
          "choropleth": [
           {
            "colorbar": {
             "outlinewidth": 0,
             "ticks": ""
            },
            "type": "choropleth"
           }
          ],
          "contour": [
           {
            "colorbar": {
             "outlinewidth": 0,
             "ticks": ""
            },
            "colorscale": [
             [
              0,
              "#0d0887"
             ],
             [
              0.1111111111111111,
              "#46039f"
             ],
             [
              0.2222222222222222,
              "#7201a8"
             ],
             [
              0.3333333333333333,
              "#9c179e"
             ],
             [
              0.4444444444444444,
              "#bd3786"
             ],
             [
              0.5555555555555556,
              "#d8576b"
             ],
             [
              0.6666666666666666,
              "#ed7953"
             ],
             [
              0.7777777777777778,
              "#fb9f3a"
             ],
             [
              0.8888888888888888,
              "#fdca26"
             ],
             [
              1,
              "#f0f921"
             ]
            ],
            "type": "contour"
           }
          ],
          "contourcarpet": [
           {
            "colorbar": {
             "outlinewidth": 0,
             "ticks": ""
            },
            "type": "contourcarpet"
           }
          ],
          "heatmap": [
           {
            "colorbar": {
             "outlinewidth": 0,
             "ticks": ""
            },
            "colorscale": [
             [
              0,
              "#0d0887"
             ],
             [
              0.1111111111111111,
              "#46039f"
             ],
             [
              0.2222222222222222,
              "#7201a8"
             ],
             [
              0.3333333333333333,
              "#9c179e"
             ],
             [
              0.4444444444444444,
              "#bd3786"
             ],
             [
              0.5555555555555556,
              "#d8576b"
             ],
             [
              0.6666666666666666,
              "#ed7953"
             ],
             [
              0.7777777777777778,
              "#fb9f3a"
             ],
             [
              0.8888888888888888,
              "#fdca26"
             ],
             [
              1,
              "#f0f921"
             ]
            ],
            "type": "heatmap"
           }
          ],
          "heatmapgl": [
           {
            "colorbar": {
             "outlinewidth": 0,
             "ticks": ""
            },
            "colorscale": [
             [
              0,
              "#0d0887"
             ],
             [
              0.1111111111111111,
              "#46039f"
             ],
             [
              0.2222222222222222,
              "#7201a8"
             ],
             [
              0.3333333333333333,
              "#9c179e"
             ],
             [
              0.4444444444444444,
              "#bd3786"
             ],
             [
              0.5555555555555556,
              "#d8576b"
             ],
             [
              0.6666666666666666,
              "#ed7953"
             ],
             [
              0.7777777777777778,
              "#fb9f3a"
             ],
             [
              0.8888888888888888,
              "#fdca26"
             ],
             [
              1,
              "#f0f921"
             ]
            ],
            "type": "heatmapgl"
           }
          ],
          "histogram": [
           {
            "marker": {
             "pattern": {
              "fillmode": "overlay",
              "size": 10,
              "solidity": 0.2
             }
            },
            "type": "histogram"
           }
          ],
          "histogram2d": [
           {
            "colorbar": {
             "outlinewidth": 0,
             "ticks": ""
            },
            "colorscale": [
             [
              0,
              "#0d0887"
             ],
             [
              0.1111111111111111,
              "#46039f"
             ],
             [
              0.2222222222222222,
              "#7201a8"
             ],
             [
              0.3333333333333333,
              "#9c179e"
             ],
             [
              0.4444444444444444,
              "#bd3786"
             ],
             [
              0.5555555555555556,
              "#d8576b"
             ],
             [
              0.6666666666666666,
              "#ed7953"
             ],
             [
              0.7777777777777778,
              "#fb9f3a"
             ],
             [
              0.8888888888888888,
              "#fdca26"
             ],
             [
              1,
              "#f0f921"
             ]
            ],
            "type": "histogram2d"
           }
          ],
          "histogram2dcontour": [
           {
            "colorbar": {
             "outlinewidth": 0,
             "ticks": ""
            },
            "colorscale": [
             [
              0,
              "#0d0887"
             ],
             [
              0.1111111111111111,
              "#46039f"
             ],
             [
              0.2222222222222222,
              "#7201a8"
             ],
             [
              0.3333333333333333,
              "#9c179e"
             ],
             [
              0.4444444444444444,
              "#bd3786"
             ],
             [
              0.5555555555555556,
              "#d8576b"
             ],
             [
              0.6666666666666666,
              "#ed7953"
             ],
             [
              0.7777777777777778,
              "#fb9f3a"
             ],
             [
              0.8888888888888888,
              "#fdca26"
             ],
             [
              1,
              "#f0f921"
             ]
            ],
            "type": "histogram2dcontour"
           }
          ],
          "mesh3d": [
           {
            "colorbar": {
             "outlinewidth": 0,
             "ticks": ""
            },
            "type": "mesh3d"
           }
          ],
          "parcoords": [
           {
            "line": {
             "colorbar": {
              "outlinewidth": 0,
              "ticks": ""
             }
            },
            "type": "parcoords"
           }
          ],
          "pie": [
           {
            "automargin": true,
            "type": "pie"
           }
          ],
          "scatter": [
           {
            "fillpattern": {
             "fillmode": "overlay",
             "size": 10,
             "solidity": 0.2
            },
            "type": "scatter"
           }
          ],
          "scatter3d": [
           {
            "line": {
             "colorbar": {
              "outlinewidth": 0,
              "ticks": ""
             }
            },
            "marker": {
             "colorbar": {
              "outlinewidth": 0,
              "ticks": ""
             }
            },
            "type": "scatter3d"
           }
          ],
          "scattercarpet": [
           {
            "marker": {
             "colorbar": {
              "outlinewidth": 0,
              "ticks": ""
             }
            },
            "type": "scattercarpet"
           }
          ],
          "scattergeo": [
           {
            "marker": {
             "colorbar": {
              "outlinewidth": 0,
              "ticks": ""
             }
            },
            "type": "scattergeo"
           }
          ],
          "scattergl": [
           {
            "marker": {
             "colorbar": {
              "outlinewidth": 0,
              "ticks": ""
             }
            },
            "type": "scattergl"
           }
          ],
          "scattermapbox": [
           {
            "marker": {
             "colorbar": {
              "outlinewidth": 0,
              "ticks": ""
             }
            },
            "type": "scattermapbox"
           }
          ],
          "scatterpolar": [
           {
            "marker": {
             "colorbar": {
              "outlinewidth": 0,
              "ticks": ""
             }
            },
            "type": "scatterpolar"
           }
          ],
          "scatterpolargl": [
           {
            "marker": {
             "colorbar": {
              "outlinewidth": 0,
              "ticks": ""
             }
            },
            "type": "scatterpolargl"
           }
          ],
          "scatterternary": [
           {
            "marker": {
             "colorbar": {
              "outlinewidth": 0,
              "ticks": ""
             }
            },
            "type": "scatterternary"
           }
          ],
          "surface": [
           {
            "colorbar": {
             "outlinewidth": 0,
             "ticks": ""
            },
            "colorscale": [
             [
              0,
              "#0d0887"
             ],
             [
              0.1111111111111111,
              "#46039f"
             ],
             [
              0.2222222222222222,
              "#7201a8"
             ],
             [
              0.3333333333333333,
              "#9c179e"
             ],
             [
              0.4444444444444444,
              "#bd3786"
             ],
             [
              0.5555555555555556,
              "#d8576b"
             ],
             [
              0.6666666666666666,
              "#ed7953"
             ],
             [
              0.7777777777777778,
              "#fb9f3a"
             ],
             [
              0.8888888888888888,
              "#fdca26"
             ],
             [
              1,
              "#f0f921"
             ]
            ],
            "type": "surface"
           }
          ],
          "table": [
           {
            "cells": {
             "fill": {
              "color": "#EBF0F8"
             },
             "line": {
              "color": "white"
             }
            },
            "header": {
             "fill": {
              "color": "#C8D4E3"
             },
             "line": {
              "color": "white"
             }
            },
            "type": "table"
           }
          ]
         },
         "layout": {
          "annotationdefaults": {
           "arrowcolor": "#2a3f5f",
           "arrowhead": 0,
           "arrowwidth": 1
          },
          "autotypenumbers": "strict",
          "coloraxis": {
           "colorbar": {
            "outlinewidth": 0,
            "ticks": ""
           }
          },
          "colorscale": {
           "diverging": [
            [
             0,
             "#8e0152"
            ],
            [
             0.1,
             "#c51b7d"
            ],
            [
             0.2,
             "#de77ae"
            ],
            [
             0.3,
             "#f1b6da"
            ],
            [
             0.4,
             "#fde0ef"
            ],
            [
             0.5,
             "#f7f7f7"
            ],
            [
             0.6,
             "#e6f5d0"
            ],
            [
             0.7,
             "#b8e186"
            ],
            [
             0.8,
             "#7fbc41"
            ],
            [
             0.9,
             "#4d9221"
            ],
            [
             1,
             "#276419"
            ]
           ],
           "sequential": [
            [
             0,
             "#0d0887"
            ],
            [
             0.1111111111111111,
             "#46039f"
            ],
            [
             0.2222222222222222,
             "#7201a8"
            ],
            [
             0.3333333333333333,
             "#9c179e"
            ],
            [
             0.4444444444444444,
             "#bd3786"
            ],
            [
             0.5555555555555556,
             "#d8576b"
            ],
            [
             0.6666666666666666,
             "#ed7953"
            ],
            [
             0.7777777777777778,
             "#fb9f3a"
            ],
            [
             0.8888888888888888,
             "#fdca26"
            ],
            [
             1,
             "#f0f921"
            ]
           ],
           "sequentialminus": [
            [
             0,
             "#0d0887"
            ],
            [
             0.1111111111111111,
             "#46039f"
            ],
            [
             0.2222222222222222,
             "#7201a8"
            ],
            [
             0.3333333333333333,
             "#9c179e"
            ],
            [
             0.4444444444444444,
             "#bd3786"
            ],
            [
             0.5555555555555556,
             "#d8576b"
            ],
            [
             0.6666666666666666,
             "#ed7953"
            ],
            [
             0.7777777777777778,
             "#fb9f3a"
            ],
            [
             0.8888888888888888,
             "#fdca26"
            ],
            [
             1,
             "#f0f921"
            ]
           ]
          },
          "colorway": [
           "#636efa",
           "#EF553B",
           "#00cc96",
           "#ab63fa",
           "#FFA15A",
           "#19d3f3",
           "#FF6692",
           "#B6E880",
           "#FF97FF",
           "#FECB52"
          ],
          "font": {
           "color": "#2a3f5f"
          },
          "geo": {
           "bgcolor": "white",
           "lakecolor": "white",
           "landcolor": "white",
           "showlakes": true,
           "showland": true,
           "subunitcolor": "#C8D4E3"
          },
          "hoverlabel": {
           "align": "left"
          },
          "hovermode": "closest",
          "mapbox": {
           "style": "light"
          },
          "paper_bgcolor": "white",
          "plot_bgcolor": "white",
          "polar": {
           "angularaxis": {
            "gridcolor": "#EBF0F8",
            "linecolor": "#EBF0F8",
            "ticks": ""
           },
           "bgcolor": "white",
           "radialaxis": {
            "gridcolor": "#EBF0F8",
            "linecolor": "#EBF0F8",
            "ticks": ""
           }
          },
          "scene": {
           "xaxis": {
            "backgroundcolor": "white",
            "gridcolor": "#DFE8F3",
            "gridwidth": 2,
            "linecolor": "#EBF0F8",
            "showbackground": true,
            "ticks": "",
            "zerolinecolor": "#EBF0F8"
           },
           "yaxis": {
            "backgroundcolor": "white",
            "gridcolor": "#DFE8F3",
            "gridwidth": 2,
            "linecolor": "#EBF0F8",
            "showbackground": true,
            "ticks": "",
            "zerolinecolor": "#EBF0F8"
           },
           "zaxis": {
            "backgroundcolor": "white",
            "gridcolor": "#DFE8F3",
            "gridwidth": 2,
            "linecolor": "#EBF0F8",
            "showbackground": true,
            "ticks": "",
            "zerolinecolor": "#EBF0F8"
           }
          },
          "shapedefaults": {
           "line": {
            "color": "#2a3f5f"
           }
          },
          "ternary": {
           "aaxis": {
            "gridcolor": "#DFE8F3",
            "linecolor": "#A2B1C6",
            "ticks": ""
           },
           "baxis": {
            "gridcolor": "#DFE8F3",
            "linecolor": "#A2B1C6",
            "ticks": ""
           },
           "bgcolor": "white",
           "caxis": {
            "gridcolor": "#DFE8F3",
            "linecolor": "#A2B1C6",
            "ticks": ""
           }
          },
          "title": {
           "x": 0.05
          },
          "xaxis": {
           "automargin": true,
           "gridcolor": "#EBF0F8",
           "linecolor": "#EBF0F8",
           "ticks": "",
           "title": {
            "standoff": 15
           },
           "zerolinecolor": "#EBF0F8",
           "zerolinewidth": 2
          },
          "yaxis": {
           "automargin": true,
           "gridcolor": "#EBF0F8",
           "linecolor": "#EBF0F8",
           "ticks": "",
           "title": {
            "standoff": 15
           },
           "zerolinecolor": "#EBF0F8",
           "zerolinewidth": 2
          }
         }
        },
        "title": {
         "text": "RT vehicle market share by weight class, drivetrain and energy model in ON",
         "x": 0.5,
         "xanchor": "center",
         "y": 0.97,
         "yanchor": "top"
        },
        "width": 900,
        "xaxis": {
         "anchor": "y",
         "domain": [
          0,
          0.46499999999999997
         ],
         "tickangle": 45,
         "title": {
          "text": ""
         }
        },
        "xaxis2": {
         "anchor": "y2",
         "domain": [
          0.515,
          0.98
         ],
         "matches": "x",
         "tickangle": 45,
         "title": {
          "text": ""
         }
        },
        "xaxis3": {
         "anchor": "y3",
         "domain": [
          0,
          0.46499999999999997
         ],
         "matches": "x",
         "showticklabels": false,
         "tickangle": 45,
         "title": {
          "text": ""
         }
        },
        "xaxis4": {
         "anchor": "y4",
         "domain": [
          0.515,
          0.98
         ],
         "matches": "x",
         "showticklabels": false,
         "tickangle": 45,
         "title": {
          "text": ""
         }
        },
        "yaxis": {
         "anchor": "x",
         "domain": [
          0,
          0.485
         ],
         "title": {
          "standoff": 0,
          "text": ""
         }
        },
        "yaxis2": {
         "anchor": "x2",
         "domain": [
          0,
          0.485
         ],
         "matches": "y",
         "showticklabels": false,
         "title": {
          "text": ""
         }
        },
        "yaxis3": {
         "anchor": "x3",
         "domain": [
          0.515,
          1
         ],
         "matches": "y",
         "title": {
          "text": ""
         }
        },
        "yaxis4": {
         "anchor": "x4",
         "domain": [
          0.515,
          1
         ],
         "matches": "y",
         "showticklabels": false,
         "title": {
          "text": ""
         }
        }
       }
      }
     },
     "metadata": {},
     "output_type": "display_data"
    }
   ],
   "source": [
    "ref_fig = ref_trnnewcap[ref_trnnewcap['Vehicle Class'].isin(['LD Car', 'LD Truck', 'HD Truck'])][['Period', 'Carrier', 'Vehicle Class', 'New Capacity']]\n",
    "ref_fig['Carrier'] = ref_fig.Carrier.map(gtech_carrier_mapping)\n",
    "ref_fig['Vehicle Class'] = ref_fig['Vehicle Class'].map(gtech_class_mapping)\n",
    "ref_fig = ref_fig.groupby(['Period', 'Carrier', 'Vehicle Class'], as_index=False).sum()\n",
    "\n",
    "veh_tot_cap = ref_fig.groupby(['Period', 'Vehicle Class'], as_index=False).sum('New Capacity')\n",
    "ref_fig = pd.merge(ref_fig, veh_tot_cap, on=['Period', 'Vehicle Class'], suffixes=('', '_sum'))\n",
    "ref_fig['Market Share (%)'] = ref_fig['New Capacity'] / ref_fig['New Capacity_sum'] * 100\n",
    "ref_fig.rename(columns={'Vehicle Class': 'Class', 'Carrier': 'Drivetrain'}, inplace=True)\n",
    "\n",
    "ref_fig['Model'] = 'CANOE (ref)'\n",
    "gtech23_ref_vehshare['Model'] = 'gTech-IESD (ref)'\n",
    "gtech23_ref_vehshare['Period'] = gtech23_ref_vehshare['Period'].astype(str)\n",
    "fig_df = pd.concat([ref_fig[['Period', 'Class', 'Drivetrain', 'Model', 'Market Share (%)']], gtech23_ref_vehshare[['Period', 'Class', 'Drivetrain', 'Model', 'Market Share (%)']]]).reset_index(drop=True)\n",
    "fig_df['Class'] = pd.Categorical(fig_df['Class'], categories=['LDV', 'HDV'], ordered=True)\n",
    "fig_df = fig_df.sort_values(['Class', 'Period'])\n",
    "\n",
    "fig = px.area(fig_df, x='Period', y='Market Share (%)', color='Drivetrain', facet_col='Model', facet_row='Class',\n",
    "              template='plotly_white',\n",
    "              facet_col_spacing=0.05,\n",
    "              facet_row_spacing=0.03,\n",
    "              width=900, height=500\n",
    "              )\n",
    "\n",
    "fig.update_layout(\n",
    "    title=dict(text='RT vehicle market share by weight class, drivetrain and energy model in ON',\n",
    "               x=0.5,\n",
    "               y=0.97,\n",
    "               xanchor='center',\n",
    "               yanchor='top'\n",
    "               ),\n",
    "    xaxis=dict(title='Period'),\n",
    "    yaxis=dict(title='Market Share (%)'),\n",
    "    yaxis_title_standoff=0,\n",
    "    legend_title_text='',\n",
    "    bargap=0.1,\n",
    "    legend=dict(orientation='h',\n",
    "                yanchor='top',\n",
    "                y=0.99,\n",
    "                xanchor='center',\n",
    "                x=0.5),\n",
    "    font=dict(size=14,\n",
    "              # family=\"Open Sans\"\n",
    "              ))\n",
    "\n",
    "for axis in fig.layout:\n",
    "    if axis.startswith('yaxis'):\n",
    "        fig.layout[axis].title.text = ''\n",
    "    if axis.startswith('xaxis'):\n",
    "        fig.layout[axis].title.text = ''\n",
    "\n",
    "fig.update_xaxes(tickangle=45)\n",
    "\n",
    "fig.add_annotation(\n",
    "    text=\"Market Share (%)\",\n",
    "    x=-0.08,  # Adjust x position as needed\n",
    "    y=0.5,\n",
    "    xref=\"paper\",\n",
    "    yref=\"paper\",\n",
    "    showarrow=False,\n",
    "    textangle=-90,\n",
    "    font=dict(size=15))\n",
    "\n",
    "fig.show()\n",
    "fig.write_image(\"market_shares.svg\", scale=1, engine='kaleido')"
   ]
  },
  {
   "cell_type": "code",
   "execution_count": 25,
   "metadata": {},
   "outputs": [],
   "source": [
    "# from scipy.optimize import curve_fit\n",
    "\n",
    "# # Data\n",
    "# df = pd.read_csv('logistic_growth.csv')\n",
    "# df.drop(df.columns[1], axis=1, inplace=True)\n",
    "\n",
    "# # Ensure all data is numeric\n",
    "# df.iloc[:, 1:] = df.iloc[:, 1:].apply(pd.to_numeric)\n",
    "\n",
    "# # Polynomial fit (automatic) and extracting fitted arrays\n",
    "# years = np.array([2025, 2030, 2035, 2040, 2045, 2050], dtype=np.float64)\n",
    "\n",
    "# fitted_data = {}\n",
    "\n",
    "# # Determine the number of rows and columns for subplots\n",
    "# n_technologies = len(df)\n",
    "# n_cols = 2\n",
    "# n_rows = (n_technologies + 1) // n_cols\n",
    "\n",
    "# fig, axes = plt.subplots(n_rows, n_cols, figsize=(15, 10))\n",
    "# axes = axes.flatten()\n",
    "\n",
    "# for idx, row in df.iterrows():\n",
    "#     technology = row['Technology']\n",
    "#     capacities = row[1:].astype(np.float64).values  # Convert capacities to float64\n",
    "    \n",
    "#     # Fit a cubic polynomial to the data\n",
    "#     poly_coeffs = np.polyfit(years, capacities, deg=3)  # Degree 3 polynomial\n",
    "#     poly_fit = np.polyval(poly_coeffs, years)\n",
    "    \n",
    "#     fitted_data[technology] = poly_fit\n",
    "\n",
    "#     # Plotting in a subplot\n",
    "#     ax = axes[idx]\n",
    "#     ax.plot(years, capacities, 'o', label='Original Data')\n",
    "#     ax.plot(years, poly_fit, '-', label='Fitted Polynomial')\n",
    "#     ax.set_title(f'{technology}')\n",
    "#     ax.set_xlabel('Year')\n",
    "#     ax.set_ylabel('Capacity')\n",
    "#     ax.legend()\n",
    "#     ax.grid(True)\n",
    "\n",
    "# # Adjust layout and show the figure\n",
    "# plt.tight_layout()\n",
    "# plt.show()\n",
    "\n",
    "# # Convert fitted data to DataFrame\n",
    "# fitted_df = pd.DataFrame(fitted_data).T  # Transpose to have technologies as rows\n",
    "# fitted_df.columns = years\n",
    "# fitted_df.index.name = 'Technology'\n",
    "\n",
    "# # Copy the DataFrame to clipboard for easy export\n",
    "# fitted_df.to_clipboard()"
   ]
  },
  {
   "cell_type": "markdown",
   "metadata": {},
   "source": [
    "# CANOE vs CEF 2023 vs gTech-IESD - power generation capacity and activity"
   ]
  },
  {
   "cell_type": "code",
   "execution_count": 26,
   "metadata": {},
   "outputs": [],
   "source": [
    "plant_mapping = {\n",
    "    'E_BIO': 'Biomass',\n",
    "    'E_NG': 'Natural Gas',\n",
    "    'E_HYD': 'Hydro',\n",
    "    'E_SOL': 'Solar',\n",
    "    'E_WND': 'Wind',\n",
    "    'E_NUC': 'Nuclear',\n",
    "}\n",
    "\n",
    "def map_tech_to_plant(tech):\n",
    "    for prefix, plant_name in plant_mapping.items():\n",
    "        if tech.startswith(prefix):\n",
    "            return plant_name\n",
    "    return 'Other'\n",
    "\n",
    "ref_elcact['Plant Type'] = ref_elcact['Technology'].apply(map_tech_to_plant)\n",
    "ref_elccap['Plant Type'] = ref_elccap['Technology'].apply(map_tech_to_plant)"
   ]
  },
  {
   "cell_type": "code",
   "execution_count": 27,
   "metadata": {},
   "outputs": [],
   "source": [
    "ref_elccap.columns = ref_elccap.columns.astype(str)\n",
    "periods = [col for col in ref_elccap.columns if col.isdigit()]\n",
    "params = [col for col in ref_elccap.columns if not col.isdigit()]\n",
    "ref_elccap = pd.melt(ref_elccap, id_vars=params, var_name='Period', value_name='Capacity (GW)', value_vars=periods)"
   ]
  },
  {
   "cell_type": "code",
   "execution_count": 28,
   "metadata": {},
   "outputs": [],
   "source": [
    "def plant_rename(type):\n",
    "    if type == 'hydro':\n",
    "        return 'Hydro'\n",
    "    if type == 'natural gas':\n",
    "        return 'Natural Gas'\n",
    "    if type == 'natural gas w ccs':\n",
    "        return 'Natural Gas'\n",
    "    if type == 'nuclear':\n",
    "        return 'Nuclear'\n",
    "    if type == 'solar':\n",
    "        return 'Solar'\n",
    "    if type == 'wind':\n",
    "        return 'Wind'\n",
    "    else: return 'Other'\n",
    "    \n",
    "gtech23_ref_cap['Plant Type'] = gtech23_ref_cap['Plant Type'].apply(plant_rename)\n",
    "gtech23_ref_cap = gtech23_ref_cap.groupby(['Period', 'Plant Type'], as_index=False).sum()"
   ]
  },
  {
   "cell_type": "code",
   "execution_count": 29,
   "metadata": {},
   "outputs": [
    {
     "data": {
      "application/vnd.plotly.v1+json": {
       "config": {
        "plotlyServerURL": "https://plot.ly"
       },
       "data": [
        {
         "alignmentgroup": "True",
         "hovertemplate": "Plant Type=Biomass<br>Period=2021<br>Source=%{x}<br>Capacity (GW)=%{y}<extra></extra>",
         "legendgroup": "Biomass",
         "marker": {
          "color": "#3366CC",
          "pattern": {
           "shape": ""
          }
         },
         "name": "Biomass",
         "offsetgroup": "Biomass",
         "orientation": "v",
         "showlegend": true,
         "textfont": {
          "size": 9
         },
         "textposition": "auto",
         "texttemplate": "%{y:.1f}",
         "type": "bar",
         "x": [
          "CANOE",
          "CEF2023"
         ],
         "xaxis": "x",
         "y": [
          0.298,
          0.69862
         ],
         "yaxis": "y"
        },
        {
         "alignmentgroup": "True",
         "hovertemplate": "Plant Type=Biomass<br>Period=2025<br>Source=%{x}<br>Capacity (GW)=%{y}<extra></extra>",
         "legendgroup": "Biomass",
         "marker": {
          "color": "#3366CC",
          "pattern": {
           "shape": ""
          }
         },
         "name": "Biomass",
         "offsetgroup": "Biomass",
         "orientation": "v",
         "showlegend": false,
         "textfont": {
          "size": 9
         },
         "textposition": "auto",
         "texttemplate": "%{y:.1f}",
         "type": "bar",
         "x": [
          "CANOE",
          "CEF2023"
         ],
         "xaxis": "x2",
         "y": [
          0.298,
          0.69862
         ],
         "yaxis": "y2"
        },
        {
         "alignmentgroup": "True",
         "hovertemplate": "Plant Type=Biomass<br>Period=2030<br>Source=%{x}<br>Capacity (GW)=%{y}<extra></extra>",
         "legendgroup": "Biomass",
         "marker": {
          "color": "#3366CC",
          "pattern": {
           "shape": ""
          }
         },
         "name": "Biomass",
         "offsetgroup": "Biomass",
         "orientation": "v",
         "showlegend": false,
         "textfont": {
          "size": 9
         },
         "textposition": "auto",
         "texttemplate": "%{y:.1f}",
         "type": "bar",
         "x": [
          "CANOE",
          "CEF2023"
         ],
         "xaxis": "x3",
         "y": [
          0.298,
          0.69862
         ],
         "yaxis": "y3"
        },
        {
         "alignmentgroup": "True",
         "hovertemplate": "Plant Type=Biomass<br>Period=2035<br>Source=%{x}<br>Capacity (GW)=%{y}<extra></extra>",
         "legendgroup": "Biomass",
         "marker": {
          "color": "#3366CC",
          "pattern": {
           "shape": ""
          }
         },
         "name": "Biomass",
         "offsetgroup": "Biomass",
         "orientation": "v",
         "showlegend": false,
         "textfont": {
          "size": 9
         },
         "textposition": "auto",
         "texttemplate": "%{y:.1f}",
         "type": "bar",
         "x": [
          "CANOE",
          "CEF2023"
         ],
         "xaxis": "x4",
         "y": [
          0.298,
          0.69862
         ],
         "yaxis": "y4"
        },
        {
         "alignmentgroup": "True",
         "hovertemplate": "Plant Type=Biomass<br>Period=2040<br>Source=%{x}<br>Capacity (GW)=%{y}<extra></extra>",
         "legendgroup": "Biomass",
         "marker": {
          "color": "#3366CC",
          "pattern": {
           "shape": ""
          }
         },
         "name": "Biomass",
         "offsetgroup": "Biomass",
         "orientation": "v",
         "showlegend": false,
         "textfont": {
          "size": 9
         },
         "textposition": "auto",
         "texttemplate": "%{y:.1f}",
         "type": "bar",
         "x": [
          "CANOE",
          "CEF2023"
         ],
         "xaxis": "x5",
         "y": [
          0.298,
          0.69862
         ],
         "yaxis": "y5"
        },
        {
         "alignmentgroup": "True",
         "hovertemplate": "Plant Type=Biomass<br>Period=2045<br>Source=%{x}<br>Capacity (GW)=%{y}<extra></extra>",
         "legendgroup": "Biomass",
         "marker": {
          "color": "#3366CC",
          "pattern": {
           "shape": ""
          }
         },
         "name": "Biomass",
         "offsetgroup": "Biomass",
         "orientation": "v",
         "showlegend": false,
         "textfont": {
          "size": 9
         },
         "textposition": "auto",
         "texttemplate": "%{y:.1f}",
         "type": "bar",
         "x": [
          "CANOE",
          "CEF2023"
         ],
         "xaxis": "x6",
         "y": [
          0.26,
          0.69862
         ],
         "yaxis": "y6"
        },
        {
         "alignmentgroup": "True",
         "hovertemplate": "Plant Type=Biomass<br>Period=2050<br>Source=%{x}<br>Capacity (GW)=%{y}<extra></extra>",
         "legendgroup": "Biomass",
         "marker": {
          "color": "#3366CC",
          "pattern": {
           "shape": ""
          }
         },
         "name": "Biomass",
         "offsetgroup": "Biomass",
         "orientation": "v",
         "showlegend": false,
         "textfont": {
          "size": 9
         },
         "textposition": "auto",
         "texttemplate": "%{y:.1f}",
         "type": "bar",
         "x": [
          "CANOE",
          "CEF2023"
         ],
         "xaxis": "x7",
         "y": [
          0.26,
          0.69862
         ],
         "yaxis": "y7"
        },
        {
         "alignmentgroup": "True",
         "hovertemplate": "Plant Type=Hydro<br>Period=2021<br>Source=%{x}<br>Capacity (GW)=%{y}<extra></extra>",
         "legendgroup": "Hydro",
         "marker": {
          "color": "#DC3912",
          "pattern": {
           "shape": ""
          }
         },
         "name": "Hydro",
         "offsetgroup": "Hydro",
         "orientation": "v",
         "showlegend": true,
         "textfont": {
          "size": 9
         },
         "textposition": "auto",
         "texttemplate": "%{y:.1f}",
         "type": "bar",
         "x": [
          "CANOE",
          "CEF2023",
          "gTech-IESD"
         ],
         "xaxis": "x",
         "y": [
          6.882899999999999,
          9.26368,
          9.022917
         ],
         "yaxis": "y"
        },
        {
         "alignmentgroup": "True",
         "hovertemplate": "Plant Type=Hydro<br>Period=2025<br>Source=%{x}<br>Capacity (GW)=%{y}<extra></extra>",
         "legendgroup": "Hydro",
         "marker": {
          "color": "#DC3912",
          "pattern": {
           "shape": ""
          }
         },
         "name": "Hydro",
         "offsetgroup": "Hydro",
         "orientation": "v",
         "showlegend": false,
         "textfont": {
          "size": 9
         },
         "textposition": "auto",
         "texttemplate": "%{y:.1f}",
         "type": "bar",
         "x": [
          "CANOE",
          "CEF2023",
          "gTech-IESD"
         ],
         "xaxis": "x2",
         "y": [
          6.882899999999999,
          9.26368,
          9.022917
         ],
         "yaxis": "y2"
        },
        {
         "alignmentgroup": "True",
         "hovertemplate": "Plant Type=Hydro<br>Period=2030<br>Source=%{x}<br>Capacity (GW)=%{y}<extra></extra>",
         "legendgroup": "Hydro",
         "marker": {
          "color": "#DC3912",
          "pattern": {
           "shape": ""
          }
         },
         "name": "Hydro",
         "offsetgroup": "Hydro",
         "orientation": "v",
         "showlegend": false,
         "textfont": {
          "size": 9
         },
         "textposition": "auto",
         "texttemplate": "%{y:.1f}",
         "type": "bar",
         "x": [
          "CANOE",
          "CEF2023",
          "gTech-IESD"
         ],
         "xaxis": "x3",
         "y": [
          6.882899999999999,
          9.26368,
          9.022917
         ],
         "yaxis": "y3"
        },
        {
         "alignmentgroup": "True",
         "hovertemplate": "Plant Type=Hydro<br>Period=2035<br>Source=%{x}<br>Capacity (GW)=%{y}<extra></extra>",
         "legendgroup": "Hydro",
         "marker": {
          "color": "#DC3912",
          "pattern": {
           "shape": ""
          }
         },
         "name": "Hydro",
         "offsetgroup": "Hydro",
         "orientation": "v",
         "showlegend": false,
         "textfont": {
          "size": 9
         },
         "textposition": "auto",
         "texttemplate": "%{y:.1f}",
         "type": "bar",
         "x": [
          "CANOE",
          "CEF2023",
          "gTech-IESD"
         ],
         "xaxis": "x4",
         "y": [
          6.882899999999999,
          9.26368,
          9.022917
         ],
         "yaxis": "y4"
        },
        {
         "alignmentgroup": "True",
         "hovertemplate": "Plant Type=Hydro<br>Period=2040<br>Source=%{x}<br>Capacity (GW)=%{y}<extra></extra>",
         "legendgroup": "Hydro",
         "marker": {
          "color": "#DC3912",
          "pattern": {
           "shape": ""
          }
         },
         "name": "Hydro",
         "offsetgroup": "Hydro",
         "orientation": "v",
         "showlegend": false,
         "textfont": {
          "size": 9
         },
         "textposition": "auto",
         "texttemplate": "%{y:.1f}",
         "type": "bar",
         "x": [
          "CANOE",
          "CEF2023",
          "gTech-IESD"
         ],
         "xaxis": "x5",
         "y": [
          6.882899999999999,
          9.26368,
          9.022917
         ],
         "yaxis": "y5"
        },
        {
         "alignmentgroup": "True",
         "hovertemplate": "Plant Type=Hydro<br>Period=2045<br>Source=%{x}<br>Capacity (GW)=%{y}<extra></extra>",
         "legendgroup": "Hydro",
         "marker": {
          "color": "#DC3912",
          "pattern": {
           "shape": ""
          }
         },
         "name": "Hydro",
         "offsetgroup": "Hydro",
         "orientation": "v",
         "showlegend": false,
         "textfont": {
          "size": 9
         },
         "textposition": "auto",
         "texttemplate": "%{y:.1f}",
         "type": "bar",
         "x": [
          "CANOE",
          "CEF2023",
          "gTech-IESD"
         ],
         "xaxis": "x6",
         "y": [
          6.882899999999999,
          9.26368,
          9.022917
         ],
         "yaxis": "y6"
        },
        {
         "alignmentgroup": "True",
         "hovertemplate": "Plant Type=Hydro<br>Period=2050<br>Source=%{x}<br>Capacity (GW)=%{y}<extra></extra>",
         "legendgroup": "Hydro",
         "marker": {
          "color": "#DC3912",
          "pattern": {
           "shape": ""
          }
         },
         "name": "Hydro",
         "offsetgroup": "Hydro",
         "orientation": "v",
         "showlegend": false,
         "textfont": {
          "size": 9
         },
         "textposition": "auto",
         "texttemplate": "%{y:.1f}",
         "type": "bar",
         "x": [
          "CANOE",
          "CEF2023",
          "gTech-IESD"
         ],
         "xaxis": "x7",
         "y": [
          6.882899999999999,
          9.26368,
          9.022917
         ],
         "yaxis": "y7"
        },
        {
         "alignmentgroup": "True",
         "hovertemplate": "Plant Type=Natural Gas<br>Period=2021<br>Source=%{x}<br>Capacity (GW)=%{y}<extra></extra>",
         "legendgroup": "Natural Gas",
         "marker": {
          "color": "#FF9900",
          "pattern": {
           "shape": ""
          }
         },
         "name": "Natural Gas",
         "offsetgroup": "Natural Gas",
         "orientation": "v",
         "showlegend": true,
         "textfont": {
          "size": 9
         },
         "textposition": "auto",
         "texttemplate": "%{y:.1f}",
         "type": "bar",
         "x": [
          "CANOE",
          "CEF2023",
          "gTech-IESD"
         ],
         "xaxis": "x",
         "y": [
          32.177155897159864,
          8.73091,
          8.881363495
         ],
         "yaxis": "y"
        },
        {
         "alignmentgroup": "True",
         "hovertemplate": "Plant Type=Natural Gas<br>Period=2025<br>Source=%{x}<br>Capacity (GW)=%{y}<extra></extra>",
         "legendgroup": "Natural Gas",
         "marker": {
          "color": "#FF9900",
          "pattern": {
           "shape": ""
          }
         },
         "name": "Natural Gas",
         "offsetgroup": "Natural Gas",
         "orientation": "v",
         "showlegend": false,
         "textfont": {
          "size": 9
         },
         "textposition": "auto",
         "texttemplate": "%{y:.1f}",
         "type": "bar",
         "x": [
          "CANOE",
          "CEF2023",
          "gTech-IESD"
         ],
         "xaxis": "x2",
         "y": [
          48.61537026333569,
          9.242164715000001,
          8.881363495
         ],
         "yaxis": "y2"
        },
        {
         "alignmentgroup": "True",
         "hovertemplate": "Plant Type=Natural Gas<br>Period=2030<br>Source=%{x}<br>Capacity (GW)=%{y}<extra></extra>",
         "legendgroup": "Natural Gas",
         "marker": {
          "color": "#FF9900",
          "pattern": {
           "shape": ""
          }
         },
         "name": "Natural Gas",
         "offsetgroup": "Natural Gas",
         "orientation": "v",
         "showlegend": false,
         "textfont": {
          "size": 9
         },
         "textposition": "auto",
         "texttemplate": "%{y:.1f}",
         "type": "bar",
         "x": [
          "CANOE",
          "CEF2023",
          "gTech-IESD"
         ],
         "xaxis": "x3",
         "y": [
          68.39248537463517,
          11.9296617061111,
          7.562232888
         ],
         "yaxis": "y3"
        },
        {
         "alignmentgroup": "True",
         "hovertemplate": "Plant Type=Natural Gas<br>Period=2035<br>Source=%{x}<br>Capacity (GW)=%{y}<extra></extra>",
         "legendgroup": "Natural Gas",
         "marker": {
          "color": "#FF9900",
          "pattern": {
           "shape": ""
          }
         },
         "name": "Natural Gas",
         "offsetgroup": "Natural Gas",
         "orientation": "v",
         "showlegend": false,
         "textfont": {
          "size": 9
         },
         "textposition": "auto",
         "texttemplate": "%{y:.1f}",
         "type": "bar",
         "x": [
          "CANOE",
          "CEF2023",
          "gTech-IESD"
         ],
         "xaxis": "x4",
         "y": [
          81.28273639799843,
          15.5057674794444,
          7.562232888
         ],
         "yaxis": "y4"
        },
        {
         "alignmentgroup": "True",
         "hovertemplate": "Plant Type=Natural Gas<br>Period=2040<br>Source=%{x}<br>Capacity (GW)=%{y}<extra></extra>",
         "legendgroup": "Natural Gas",
         "marker": {
          "color": "#FF9900",
          "pattern": {
           "shape": ""
          }
         },
         "name": "Natural Gas",
         "offsetgroup": "Natural Gas",
         "orientation": "v",
         "showlegend": false,
         "textfont": {
          "size": 9
         },
         "textposition": "auto",
         "texttemplate": "%{y:.1f}",
         "type": "bar",
         "x": [
          "CANOE",
          "CEF2023",
          "gTech-IESD"
         ],
         "xaxis": "x5",
         "y": [
          93.56269563089477,
          16.2570033405556,
          7.562232888
         ],
         "yaxis": "y5"
        },
        {
         "alignmentgroup": "True",
         "hovertemplate": "Plant Type=Natural Gas<br>Period=2045<br>Source=%{x}<br>Capacity (GW)=%{y}<extra></extra>",
         "legendgroup": "Natural Gas",
         "marker": {
          "color": "#FF9900",
          "pattern": {
           "shape": ""
          }
         },
         "name": "Natural Gas",
         "offsetgroup": "Natural Gas",
         "orientation": "v",
         "showlegend": false,
         "textfont": {
          "size": 9
         },
         "textposition": "auto",
         "texttemplate": "%{y:.1f}",
         "type": "bar",
         "x": [
          "CANOE",
          "CEF2023",
          "gTech-IESD"
         ],
         "xaxis": "x6",
         "y": [
          105.92660728652143,
          17.750986388,
          7.618583859999999
         ],
         "yaxis": "y6"
        },
        {
         "alignmentgroup": "True",
         "hovertemplate": "Plant Type=Natural Gas<br>Period=2050<br>Source=%{x}<br>Capacity (GW)=%{y}<extra></extra>",
         "legendgroup": "Natural Gas",
         "marker": {
          "color": "#FF9900",
          "pattern": {
           "shape": ""
          }
         },
         "name": "Natural Gas",
         "offsetgroup": "Natural Gas",
         "orientation": "v",
         "showlegend": false,
         "textfont": {
          "size": 9
         },
         "textposition": "auto",
         "texttemplate": "%{y:.1f}",
         "type": "bar",
         "x": [
          "CANOE",
          "CEF2023",
          "gTech-IESD"
         ],
         "xaxis": "x7",
         "y": [
          118.22952972185251,
          16.4962699274444,
          8.526166019
         ],
         "yaxis": "y7"
        },
        {
         "alignmentgroup": "True",
         "hovertemplate": "Plant Type=Nuclear<br>Period=2021<br>Source=%{x}<br>Capacity (GW)=%{y}<extra></extra>",
         "legendgroup": "Nuclear",
         "marker": {
          "color": "#109618",
          "pattern": {
           "shape": ""
          }
         },
         "name": "Nuclear",
         "offsetgroup": "Nuclear",
         "orientation": "v",
         "showlegend": true,
         "textfont": {
          "size": 9
         },
         "textposition": "auto",
         "texttemplate": "%{y:.1f}",
         "type": "bar",
         "x": [
          "CANOE",
          "CEF2023",
          "gTech-IESD"
         ],
         "xaxis": "x",
         "y": [
          10.377,
          12.38,
          12.343
         ],
         "yaxis": "y"
        },
        {
         "alignmentgroup": "True",
         "hovertemplate": "Plant Type=Nuclear<br>Period=2025<br>Source=%{x}<br>Capacity (GW)=%{y}<extra></extra>",
         "legendgroup": "Nuclear",
         "marker": {
          "color": "#109618",
          "pattern": {
           "shape": ""
          }
         },
         "name": "Nuclear",
         "offsetgroup": "Nuclear",
         "orientation": "v",
         "showlegend": false,
         "textfont": {
          "size": 9
         },
         "textposition": "auto",
         "texttemplate": "%{y:.1f}",
         "type": "bar",
         "x": [
          "CANOE",
          "CEF2023",
          "gTech-IESD"
         ],
         "xaxis": "x2",
         "y": [
          10.377,
          11.445,
          10.675
         ],
         "yaxis": "y2"
        },
        {
         "alignmentgroup": "True",
         "hovertemplate": "Plant Type=Nuclear<br>Period=2030<br>Source=%{x}<br>Capacity (GW)=%{y}<extra></extra>",
         "legendgroup": "Nuclear",
         "marker": {
          "color": "#109618",
          "pattern": {
           "shape": ""
          }
         },
         "name": "Nuclear",
         "offsetgroup": "Nuclear",
         "orientation": "v",
         "showlegend": false,
         "textfont": {
          "size": 9
         },
         "textposition": "auto",
         "texttemplate": "%{y:.1f}",
         "type": "bar",
         "x": [
          "CANOE",
          "CEF2023",
          "gTech-IESD"
         ],
         "xaxis": "x3",
         "y": [
          7.275,
          10.36,
          9.542
         ],
         "yaxis": "y3"
        },
        {
         "alignmentgroup": "True",
         "hovertemplate": "Plant Type=Nuclear<br>Period=2035<br>Source=%{x}<br>Capacity (GW)=%{y}<extra></extra>",
         "legendgroup": "Nuclear",
         "marker": {
          "color": "#109618",
          "pattern": {
           "shape": ""
          }
         },
         "name": "Nuclear",
         "offsetgroup": "Nuclear",
         "orientation": "v",
         "showlegend": false,
         "textfont": {
          "size": 9
         },
         "textposition": "auto",
         "texttemplate": "%{y:.1f}",
         "type": "bar",
         "x": [
          "CANOE",
          "CEF2023",
          "gTech-IESD"
         ],
         "xaxis": "x4",
         "y": [
          5.717,
          11.2,
          9.971
         ],
         "yaxis": "y4"
        },
        {
         "alignmentgroup": "True",
         "hovertemplate": "Plant Type=Nuclear<br>Period=2040<br>Source=%{x}<br>Capacity (GW)=%{y}<extra></extra>",
         "legendgroup": "Nuclear",
         "marker": {
          "color": "#109618",
          "pattern": {
           "shape": ""
          }
         },
         "name": "Nuclear",
         "offsetgroup": "Nuclear",
         "orientation": "v",
         "showlegend": false,
         "textfont": {
          "size": 9
         },
         "textposition": "auto",
         "texttemplate": "%{y:.1f}",
         "type": "bar",
         "x": [
          "CANOE",
          "CEF2023",
          "gTech-IESD"
         ],
         "xaxis": "x5",
         "y": [
          4.149,
          11.2,
          10.4
         ],
         "yaxis": "y5"
        },
        {
         "alignmentgroup": "True",
         "hovertemplate": "Plant Type=Nuclear<br>Period=2045<br>Source=%{x}<br>Capacity (GW)=%{y}<extra></extra>",
         "legendgroup": "Nuclear",
         "marker": {
          "color": "#109618",
          "pattern": {
           "shape": ""
          }
         },
         "name": "Nuclear",
         "offsetgroup": "Nuclear",
         "orientation": "v",
         "showlegend": false,
         "textfont": {
          "size": 9
         },
         "textposition": "auto",
         "texttemplate": "%{y:.1f}",
         "type": "bar",
         "x": [
          "CANOE",
          "CEF2023",
          "gTech-IESD"
         ],
         "xaxis": "x6",
         "y": [
          0.881,
          11.2,
          10.4
         ],
         "yaxis": "y6"
        },
        {
         "alignmentgroup": "True",
         "hovertemplate": "Plant Type=Nuclear<br>Period=2050<br>Source=%{x}<br>Capacity (GW)=%{y}<extra></extra>",
         "legendgroup": "Nuclear",
         "marker": {
          "color": "#109618",
          "pattern": {
           "shape": ""
          }
         },
         "name": "Nuclear",
         "offsetgroup": "Nuclear",
         "orientation": "v",
         "showlegend": false,
         "textfont": {
          "size": 9
         },
         "textposition": "auto",
         "texttemplate": "%{y:.1f}",
         "type": "bar",
         "x": [
          "CANOE",
          "CEF2023",
          "gTech-IESD"
         ],
         "xaxis": "x7",
         "y": [
          0.881,
          11.2,
          10.4
         ],
         "yaxis": "y7"
        },
        {
         "alignmentgroup": "True",
         "hovertemplate": "Plant Type=Solar<br>Period=2021<br>Source=%{x}<br>Capacity (GW)=%{y}<extra></extra>",
         "legendgroup": "Solar",
         "marker": {
          "color": "#990099",
          "pattern": {
           "shape": ""
          }
         },
         "name": "Solar",
         "offsetgroup": "Solar",
         "orientation": "v",
         "showlegend": true,
         "textfont": {
          "size": 9
         },
         "textposition": "auto",
         "texttemplate": "%{y:.1f}",
         "type": "bar",
         "x": [
          "CANOE",
          "CEF2023",
          "gTech-IESD"
         ],
         "xaxis": "x",
         "y": [
          0.478,
          2.66946,
          2.3167115776
         ],
         "yaxis": "y"
        },
        {
         "alignmentgroup": "True",
         "hovertemplate": "Plant Type=Solar<br>Period=2025<br>Source=%{x}<br>Capacity (GW)=%{y}<extra></extra>",
         "legendgroup": "Solar",
         "marker": {
          "color": "#990099",
          "pattern": {
           "shape": ""
          }
         },
         "name": "Solar",
         "offsetgroup": "Solar",
         "orientation": "v",
         "showlegend": false,
         "textfont": {
          "size": 9
         },
         "textposition": "auto",
         "texttemplate": "%{y:.1f}",
         "type": "bar",
         "x": [
          "CANOE",
          "CEF2023",
          "gTech-IESD"
         ],
         "xaxis": "x2",
         "y": [
          0.47801030612228695,
          2.66946,
          4.100269888
         ],
         "yaxis": "y2"
        },
        {
         "alignmentgroup": "True",
         "hovertemplate": "Plant Type=Solar<br>Period=2030<br>Source=%{x}<br>Capacity (GW)=%{y}<extra></extra>",
         "legendgroup": "Solar",
         "marker": {
          "color": "#990099",
          "pattern": {
           "shape": ""
          }
         },
         "name": "Solar",
         "offsetgroup": "Solar",
         "orientation": "v",
         "showlegend": false,
         "textfont": {
          "size": 9
         },
         "textposition": "auto",
         "texttemplate": "%{y:.1f}",
         "type": "bar",
         "x": [
          "CANOE",
          "CEF2023",
          "gTech-IESD"
         ],
         "xaxis": "x3",
         "y": [
          0.4780988253014618,
          2.66946,
          11.120774509999999
         ],
         "yaxis": "y3"
        },
        {
         "alignmentgroup": "True",
         "hovertemplate": "Plant Type=Solar<br>Period=2035<br>Source=%{x}<br>Capacity (GW)=%{y}<extra></extra>",
         "legendgroup": "Solar",
         "marker": {
          "color": "#990099",
          "pattern": {
           "shape": ""
          }
         },
         "name": "Solar",
         "offsetgroup": "Solar",
         "orientation": "v",
         "showlegend": false,
         "textfont": {
          "size": 9
         },
         "textposition": "auto",
         "texttemplate": "%{y:.1f}",
         "type": "bar",
         "x": [
          "CANOE",
          "CEF2023",
          "gTech-IESD"
         ],
         "xaxis": "x4",
         "y": [
          8.539609341931728,
          2.66946,
          14.697619940000001
         ],
         "yaxis": "y4"
        },
        {
         "alignmentgroup": "True",
         "hovertemplate": "Plant Type=Solar<br>Period=2040<br>Source=%{x}<br>Capacity (GW)=%{y}<extra></extra>",
         "legendgroup": "Solar",
         "marker": {
          "color": "#990099",
          "pattern": {
           "shape": ""
          }
         },
         "name": "Solar",
         "offsetgroup": "Solar",
         "orientation": "v",
         "showlegend": false,
         "textfont": {
          "size": 9
         },
         "textposition": "auto",
         "texttemplate": "%{y:.1f}",
         "type": "bar",
         "x": [
          "CANOE",
          "CEF2023",
          "gTech-IESD"
         ],
         "xaxis": "x5",
         "y": [
          8.539963625455876,
          2.66946,
          20.029194070000003
         ],
         "yaxis": "y5"
        },
        {
         "alignmentgroup": "True",
         "hovertemplate": "Plant Type=Solar<br>Period=2045<br>Source=%{x}<br>Capacity (GW)=%{y}<extra></extra>",
         "legendgroup": "Solar",
         "marker": {
          "color": "#990099",
          "pattern": {
           "shape": ""
          }
         },
         "name": "Solar",
         "offsetgroup": "Solar",
         "orientation": "v",
         "showlegend": false,
         "textfont": {
          "size": 9
         },
         "textposition": "auto",
         "texttemplate": "%{y:.1f}",
         "type": "bar",
         "x": [
          "CANOE",
          "CEF2023",
          "gTech-IESD"
         ],
         "xaxis": "x6",
         "y": [
          8.16017265349812,
          5.587364752,
          29.639810320000002
         ],
         "yaxis": "y6"
        },
        {
         "alignmentgroup": "True",
         "hovertemplate": "Plant Type=Solar<br>Period=2050<br>Source=%{x}<br>Capacity (GW)=%{y}<extra></extra>",
         "legendgroup": "Solar",
         "marker": {
          "color": "#990099",
          "pattern": {
           "shape": ""
          }
         },
         "name": "Solar",
         "offsetgroup": "Solar",
         "orientation": "v",
         "showlegend": false,
         "textfont": {
          "size": 9
         },
         "textposition": "auto",
         "texttemplate": "%{y:.1f}",
         "type": "bar",
         "x": [
          "CANOE",
          "CEF2023",
          "gTech-IESD"
         ],
         "xaxis": "x7",
         "y": [
          11.213740484208943,
          7.4267687605,
          38.6497786
         ],
         "yaxis": "y7"
        },
        {
         "alignmentgroup": "True",
         "hovertemplate": "Plant Type=Wind<br>Period=2021<br>Source=%{x}<br>Capacity (GW)=%{y}<extra></extra>",
         "legendgroup": "Wind",
         "marker": {
          "color": "#0099C6",
          "pattern": {
           "shape": ""
          }
         },
         "name": "Wind",
         "offsetgroup": "Wind",
         "orientation": "v",
         "showlegend": true,
         "textfont": {
          "size": 9
         },
         "textposition": "auto",
         "texttemplate": "%{y:.1f}",
         "type": "bar",
         "x": [
          "CANOE",
          "CEF2023",
          "gTech-IESD"
         ],
         "xaxis": "x",
         "y": [
          4.564854428935442,
          5.57545,
          5.43582
         ],
         "yaxis": "y"
        },
        {
         "alignmentgroup": "True",
         "hovertemplate": "Plant Type=Wind<br>Period=2025<br>Source=%{x}<br>Capacity (GW)=%{y}<extra></extra>",
         "legendgroup": "Wind",
         "marker": {
          "color": "#0099C6",
          "pattern": {
           "shape": ""
          }
         },
         "name": "Wind",
         "offsetgroup": "Wind",
         "orientation": "v",
         "showlegend": false,
         "textfont": {
          "size": 9
         },
         "textposition": "auto",
         "texttemplate": "%{y:.1f}",
         "type": "bar",
         "x": [
          "CANOE",
          "CEF2023",
          "gTech-IESD"
         ],
         "xaxis": "x2",
         "y": [
          7.143088731464217,
          5.57545,
          5.43582
         ],
         "yaxis": "y2"
        },
        {
         "alignmentgroup": "True",
         "hovertemplate": "Plant Type=Wind<br>Period=2030<br>Source=%{x}<br>Capacity (GW)=%{y}<extra></extra>",
         "legendgroup": "Wind",
         "marker": {
          "color": "#0099C6",
          "pattern": {
           "shape": ""
          }
         },
         "name": "Wind",
         "offsetgroup": "Wind",
         "orientation": "v",
         "showlegend": false,
         "textfont": {
          "size": 9
         },
         "textposition": "auto",
         "texttemplate": "%{y:.1f}",
         "type": "bar",
         "x": [
          "CANOE",
          "CEF2023",
          "gTech-IESD"
         ],
         "xaxis": "x3",
         "y": [
          18.52067213170119,
          7.79152011157895,
          8.179162204999999
         ],
         "yaxis": "y3"
        },
        {
         "alignmentgroup": "True",
         "hovertemplate": "Plant Type=Wind<br>Period=2035<br>Source=%{x}<br>Capacity (GW)=%{y}<extra></extra>",
         "legendgroup": "Wind",
         "marker": {
          "color": "#0099C6",
          "pattern": {
           "shape": ""
          }
         },
         "name": "Wind",
         "offsetgroup": "Wind",
         "orientation": "v",
         "showlegend": false,
         "textfont": {
          "size": 9
         },
         "textposition": "auto",
         "texttemplate": "%{y:.1f}",
         "type": "bar",
         "x": [
          "CANOE",
          "CEF2023",
          "gTech-IESD"
         ],
         "xaxis": "x4",
         "y": [
          18.860768233622803,
          10.067508317894701,
          10.29066386
         ],
         "yaxis": "y4"
        },
        {
         "alignmentgroup": "True",
         "hovertemplate": "Plant Type=Wind<br>Period=2040<br>Source=%{x}<br>Capacity (GW)=%{y}<extra></extra>",
         "legendgroup": "Wind",
         "marker": {
          "color": "#0099C6",
          "pattern": {
           "shape": ""
          }
         },
         "name": "Wind",
         "offsetgroup": "Wind",
         "orientation": "v",
         "showlegend": false,
         "textfont": {
          "size": 9
         },
         "textposition": "auto",
         "texttemplate": "%{y:.1f}",
         "type": "bar",
         "x": [
          "CANOE",
          "CEF2023",
          "gTech-IESD"
         ],
         "xaxis": "x5",
         "y": [
          17.538644259597095,
          19.2692200705263,
          13.09773267
         ],
         "yaxis": "y5"
        },
        {
         "alignmentgroup": "True",
         "hovertemplate": "Plant Type=Wind<br>Period=2045<br>Source=%{x}<br>Capacity (GW)=%{y}<extra></extra>",
         "legendgroup": "Wind",
         "marker": {
          "color": "#0099C6",
          "pattern": {
           "shape": ""
          }
         },
         "name": "Wind",
         "offsetgroup": "Wind",
         "orientation": "v",
         "showlegend": false,
         "textfont": {
          "size": 9
         },
         "textposition": "auto",
         "texttemplate": "%{y:.1f}",
         "type": "bar",
         "x": [
          "CANOE",
          "CEF2023",
          "gTech-IESD"
         ],
         "xaxis": "x6",
         "y": [
          14.932503134242825,
          24.1232753363158,
          15.64583755
         ],
         "yaxis": "y6"
        },
        {
         "alignmentgroup": "True",
         "hovertemplate": "Plant Type=Wind<br>Period=2050<br>Source=%{x}<br>Capacity (GW)=%{y}<extra></extra>",
         "legendgroup": "Wind",
         "marker": {
          "color": "#0099C6",
          "pattern": {
           "shape": ""
          }
         },
         "name": "Wind",
         "offsetgroup": "Wind",
         "orientation": "v",
         "showlegend": false,
         "textfont": {
          "size": 9
         },
         "textposition": "auto",
         "texttemplate": "%{y:.1f}",
         "type": "bar",
         "x": [
          "CANOE",
          "CEF2023",
          "gTech-IESD"
         ],
         "xaxis": "x7",
         "y": [
          14.700638380402177,
          26.539631432631598,
          17.41537143
         ],
         "yaxis": "y7"
        },
        {
         "alignmentgroup": "True",
         "hovertemplate": "Plant Type=Oil<br>Period=2021<br>Source=%{x}<br>Capacity (GW)=%{y}<extra></extra>",
         "legendgroup": "Oil",
         "marker": {
          "color": "#DD4477",
          "pattern": {
           "shape": ""
          }
         },
         "name": "Oil",
         "offsetgroup": "Oil",
         "orientation": "v",
         "showlegend": true,
         "textfont": {
          "size": 9
         },
         "textposition": "auto",
         "texttemplate": "%{y:.1f}",
         "type": "bar",
         "x": [
          "CEF2023"
         ],
         "xaxis": "x",
         "y": [
          0.25045
         ],
         "yaxis": "y"
        },
        {
         "alignmentgroup": "True",
         "hovertemplate": "Plant Type=Oil<br>Period=2025<br>Source=%{x}<br>Capacity (GW)=%{y}<extra></extra>",
         "legendgroup": "Oil",
         "marker": {
          "color": "#DD4477",
          "pattern": {
           "shape": ""
          }
         },
         "name": "Oil",
         "offsetgroup": "Oil",
         "orientation": "v",
         "showlegend": false,
         "textfont": {
          "size": 9
         },
         "textposition": "auto",
         "texttemplate": "%{y:.1f}",
         "type": "bar",
         "x": [
          "CEF2023"
         ],
         "xaxis": "x2",
         "y": [
          0.25045
         ],
         "yaxis": "y2"
        },
        {
         "alignmentgroup": "True",
         "hovertemplate": "Plant Type=Oil<br>Period=2030<br>Source=%{x}<br>Capacity (GW)=%{y}<extra></extra>",
         "legendgroup": "Oil",
         "marker": {
          "color": "#DD4477",
          "pattern": {
           "shape": ""
          }
         },
         "name": "Oil",
         "offsetgroup": "Oil",
         "orientation": "v",
         "showlegend": false,
         "textfont": {
          "size": 9
         },
         "textposition": "auto",
         "texttemplate": "%{y:.1f}",
         "type": "bar",
         "x": [
          "CEF2023"
         ],
         "xaxis": "x3",
         "y": [
          0.25045
         ],
         "yaxis": "y3"
        },
        {
         "alignmentgroup": "True",
         "hovertemplate": "Plant Type=Oil<br>Period=2035<br>Source=%{x}<br>Capacity (GW)=%{y}<extra></extra>",
         "legendgroup": "Oil",
         "marker": {
          "color": "#DD4477",
          "pattern": {
           "shape": ""
          }
         },
         "name": "Oil",
         "offsetgroup": "Oil",
         "orientation": "v",
         "showlegend": false,
         "textfont": {
          "size": 9
         },
         "textposition": "auto",
         "texttemplate": "%{y:.1f}",
         "type": "bar",
         "x": [
          "CEF2023"
         ],
         "xaxis": "x4",
         "y": [
          0.22845
         ],
         "yaxis": "y4"
        },
        {
         "alignmentgroup": "True",
         "hovertemplate": "Plant Type=Oil<br>Period=2040<br>Source=%{x}<br>Capacity (GW)=%{y}<extra></extra>",
         "legendgroup": "Oil",
         "marker": {
          "color": "#DD4477",
          "pattern": {
           "shape": ""
          }
         },
         "name": "Oil",
         "offsetgroup": "Oil",
         "orientation": "v",
         "showlegend": false,
         "textfont": {
          "size": 9
         },
         "textposition": "auto",
         "texttemplate": "%{y:.1f}",
         "type": "bar",
         "x": [
          "CEF2023"
         ],
         "xaxis": "x5",
         "y": [
          0.22845
         ],
         "yaxis": "y5"
        },
        {
         "alignmentgroup": "True",
         "hovertemplate": "Plant Type=Oil<br>Period=2045<br>Source=%{x}<br>Capacity (GW)=%{y}<extra></extra>",
         "legendgroup": "Oil",
         "marker": {
          "color": "#DD4477",
          "pattern": {
           "shape": ""
          }
         },
         "name": "Oil",
         "offsetgroup": "Oil",
         "orientation": "v",
         "showlegend": false,
         "textfont": {
          "size": 9
         },
         "textposition": "auto",
         "texttemplate": "%{y:.1f}",
         "type": "bar",
         "x": [
          "CEF2023"
         ],
         "xaxis": "x6",
         "y": [
          0.22845
         ],
         "yaxis": "y6"
        },
        {
         "alignmentgroup": "True",
         "hovertemplate": "Plant Type=Oil<br>Period=2050<br>Source=%{x}<br>Capacity (GW)=%{y}<extra></extra>",
         "legendgroup": "Oil",
         "marker": {
          "color": "#DD4477",
          "pattern": {
           "shape": ""
          }
         },
         "name": "Oil",
         "offsetgroup": "Oil",
         "orientation": "v",
         "showlegend": false,
         "textfont": {
          "size": 9
         },
         "textposition": "auto",
         "texttemplate": "%{y:.1f}",
         "type": "bar",
         "x": [
          "CEF2023"
         ],
         "xaxis": "x7",
         "y": [
          0.22845
         ],
         "yaxis": "y7"
        },
        {
         "alignmentgroup": "True",
         "hovertemplate": "Plant Type=Other<br>Period=2021<br>Source=%{x}<br>Capacity (GW)=%{y}<extra></extra>",
         "legendgroup": "Other",
         "marker": {
          "color": "#B82E2E",
          "pattern": {
           "shape": ""
          }
         },
         "name": "Other",
         "offsetgroup": "Other",
         "orientation": "v",
         "showlegend": true,
         "textfont": {
          "size": 9
         },
         "textposition": "auto",
         "texttemplate": "%{y:.1f}",
         "type": "bar",
         "x": [
          "gTech-IESD"
         ],
         "xaxis": "x",
         "y": [
          0.68374261086
         ],
         "yaxis": "y"
        },
        {
         "alignmentgroup": "True",
         "hovertemplate": "Plant Type=Other<br>Period=2025<br>Source=%{x}<br>Capacity (GW)=%{y}<extra></extra>",
         "legendgroup": "Other",
         "marker": {
          "color": "#B82E2E",
          "pattern": {
           "shape": ""
          }
         },
         "name": "Other",
         "offsetgroup": "Other",
         "orientation": "v",
         "showlegend": false,
         "textfont": {
          "size": 9
         },
         "textposition": "auto",
         "texttemplate": "%{y:.1f}",
         "type": "bar",
         "x": [
          "gTech-IESD"
         ],
         "xaxis": "x2",
         "y": [
          1.5073112239000002
         ],
         "yaxis": "y2"
        },
        {
         "alignmentgroup": "True",
         "hovertemplate": "Plant Type=Other<br>Period=2030<br>Source=%{x}<br>Capacity (GW)=%{y}<extra></extra>",
         "legendgroup": "Other",
         "marker": {
          "color": "#B82E2E",
          "pattern": {
           "shape": ""
          }
         },
         "name": "Other",
         "offsetgroup": "Other",
         "orientation": "v",
         "showlegend": false,
         "textfont": {
          "size": 9
         },
         "textposition": "auto",
         "texttemplate": "%{y:.1f}",
         "type": "bar",
         "x": [
          "gTech-IESD"
         ],
         "xaxis": "x3",
         "y": [
          1.4825382378000003
         ],
         "yaxis": "y3"
        },
        {
         "alignmentgroup": "True",
         "hovertemplate": "Plant Type=Other<br>Period=2035<br>Source=%{x}<br>Capacity (GW)=%{y}<extra></extra>",
         "legendgroup": "Other",
         "marker": {
          "color": "#B82E2E",
          "pattern": {
           "shape": ""
          }
         },
         "name": "Other",
         "offsetgroup": "Other",
         "orientation": "v",
         "showlegend": false,
         "textfont": {
          "size": 9
         },
         "textposition": "auto",
         "texttemplate": "%{y:.1f}",
         "type": "bar",
         "x": [
          "gTech-IESD"
         ],
         "xaxis": "x4",
         "y": [
          2.0369806674
         ],
         "yaxis": "y4"
        },
        {
         "alignmentgroup": "True",
         "hovertemplate": "Plant Type=Other<br>Period=2040<br>Source=%{x}<br>Capacity (GW)=%{y}<extra></extra>",
         "legendgroup": "Other",
         "marker": {
          "color": "#B82E2E",
          "pattern": {
           "shape": ""
          }
         },
         "name": "Other",
         "offsetgroup": "Other",
         "orientation": "v",
         "showlegend": false,
         "textfont": {
          "size": 9
         },
         "textposition": "auto",
         "texttemplate": "%{y:.1f}",
         "type": "bar",
         "x": [
          "gTech-IESD"
         ],
         "xaxis": "x5",
         "y": [
          3.4268413391
         ],
         "yaxis": "y5"
        },
        {
         "alignmentgroup": "True",
         "hovertemplate": "Plant Type=Other<br>Period=2045<br>Source=%{x}<br>Capacity (GW)=%{y}<extra></extra>",
         "legendgroup": "Other",
         "marker": {
          "color": "#B82E2E",
          "pattern": {
           "shape": ""
          }
         },
         "name": "Other",
         "offsetgroup": "Other",
         "orientation": "v",
         "showlegend": false,
         "textfont": {
          "size": 9
         },
         "textposition": "auto",
         "texttemplate": "%{y:.1f}",
         "type": "bar",
         "x": [
          "gTech-IESD"
         ],
         "xaxis": "x6",
         "y": [
          4.0651297081
         ],
         "yaxis": "y6"
        },
        {
         "alignmentgroup": "True",
         "hovertemplate": "Plant Type=Other<br>Period=2050<br>Source=%{x}<br>Capacity (GW)=%{y}<extra></extra>",
         "legendgroup": "Other",
         "marker": {
          "color": "#B82E2E",
          "pattern": {
           "shape": ""
          }
         },
         "name": "Other",
         "offsetgroup": "Other",
         "orientation": "v",
         "showlegend": false,
         "textfont": {
          "size": 9
         },
         "textposition": "auto",
         "texttemplate": "%{y:.1f}",
         "type": "bar",
         "x": [
          "gTech-IESD"
         ],
         "xaxis": "x7",
         "y": [
          4.093922925799999
         ],
         "yaxis": "y7"
        }
       ],
       "layout": {
        "annotations": [
         {
          "font": {},
          "showarrow": false,
          "text": "2021",
          "x": 0.06285714285714285,
          "xanchor": "center",
          "xref": "paper",
          "y": -0.1,
          "yanchor": "top",
          "yref": "paper"
         },
         {
          "font": {},
          "showarrow": false,
          "text": "2025",
          "x": 0.20857142857142852,
          "xanchor": "center",
          "xref": "paper",
          "y": -0.1,
          "yanchor": "top",
          "yref": "paper"
         },
         {
          "font": {},
          "showarrow": false,
          "text": "2030",
          "x": 0.3542857142857142,
          "xanchor": "center",
          "xref": "paper",
          "y": -0.1,
          "yanchor": "top",
          "yref": "paper"
         },
         {
          "font": {},
          "showarrow": false,
          "text": "2035",
          "x": 0.5,
          "xanchor": "center",
          "xref": "paper",
          "y": -0.1,
          "yanchor": "top",
          "yref": "paper"
         },
         {
          "font": {},
          "showarrow": false,
          "text": "2040",
          "x": 0.6457142857142856,
          "xanchor": "center",
          "xref": "paper",
          "y": -0.1,
          "yanchor": "top",
          "yref": "paper"
         },
         {
          "font": {},
          "showarrow": false,
          "text": "2045",
          "x": 0.7914285714285713,
          "xanchor": "center",
          "xref": "paper",
          "y": -0.1,
          "yanchor": "top",
          "yref": "paper"
         },
         {
          "font": {},
          "showarrow": false,
          "text": "2050",
          "x": 0.937142857142857,
          "xanchor": "center",
          "xref": "paper",
          "y": -0.1,
          "yanchor": "top",
          "yref": "paper"
         }
        ],
        "bargap": 0.1,
        "barmode": "stack",
        "font": {
         "size": 14
        },
        "height": 650,
        "legend": {
         "orientation": "h",
         "title": {
          "text": ""
         },
         "tracegroupgap": 0,
         "x": 0.5,
         "xanchor": "center",
         "y": 1.04,
         "yanchor": "top"
        },
        "margin": {
         "t": 60
        },
        "template": {
         "data": {
          "bar": [
           {
            "error_x": {
             "color": "#2a3f5f"
            },
            "error_y": {
             "color": "#2a3f5f"
            },
            "marker": {
             "line": {
              "color": "white",
              "width": 0.5
             },
             "pattern": {
              "fillmode": "overlay",
              "size": 10,
              "solidity": 0.2
             }
            },
            "type": "bar"
           }
          ],
          "barpolar": [
           {
            "marker": {
             "line": {
              "color": "white",
              "width": 0.5
             },
             "pattern": {
              "fillmode": "overlay",
              "size": 10,
              "solidity": 0.2
             }
            },
            "type": "barpolar"
           }
          ],
          "carpet": [
           {
            "aaxis": {
             "endlinecolor": "#2a3f5f",
             "gridcolor": "#C8D4E3",
             "linecolor": "#C8D4E3",
             "minorgridcolor": "#C8D4E3",
             "startlinecolor": "#2a3f5f"
            },
            "baxis": {
             "endlinecolor": "#2a3f5f",
             "gridcolor": "#C8D4E3",
             "linecolor": "#C8D4E3",
             "minorgridcolor": "#C8D4E3",
             "startlinecolor": "#2a3f5f"
            },
            "type": "carpet"
           }
          ],
          "choropleth": [
           {
            "colorbar": {
             "outlinewidth": 0,
             "ticks": ""
            },
            "type": "choropleth"
           }
          ],
          "contour": [
           {
            "colorbar": {
             "outlinewidth": 0,
             "ticks": ""
            },
            "colorscale": [
             [
              0,
              "#0d0887"
             ],
             [
              0.1111111111111111,
              "#46039f"
             ],
             [
              0.2222222222222222,
              "#7201a8"
             ],
             [
              0.3333333333333333,
              "#9c179e"
             ],
             [
              0.4444444444444444,
              "#bd3786"
             ],
             [
              0.5555555555555556,
              "#d8576b"
             ],
             [
              0.6666666666666666,
              "#ed7953"
             ],
             [
              0.7777777777777778,
              "#fb9f3a"
             ],
             [
              0.8888888888888888,
              "#fdca26"
             ],
             [
              1,
              "#f0f921"
             ]
            ],
            "type": "contour"
           }
          ],
          "contourcarpet": [
           {
            "colorbar": {
             "outlinewidth": 0,
             "ticks": ""
            },
            "type": "contourcarpet"
           }
          ],
          "heatmap": [
           {
            "colorbar": {
             "outlinewidth": 0,
             "ticks": ""
            },
            "colorscale": [
             [
              0,
              "#0d0887"
             ],
             [
              0.1111111111111111,
              "#46039f"
             ],
             [
              0.2222222222222222,
              "#7201a8"
             ],
             [
              0.3333333333333333,
              "#9c179e"
             ],
             [
              0.4444444444444444,
              "#bd3786"
             ],
             [
              0.5555555555555556,
              "#d8576b"
             ],
             [
              0.6666666666666666,
              "#ed7953"
             ],
             [
              0.7777777777777778,
              "#fb9f3a"
             ],
             [
              0.8888888888888888,
              "#fdca26"
             ],
             [
              1,
              "#f0f921"
             ]
            ],
            "type": "heatmap"
           }
          ],
          "heatmapgl": [
           {
            "colorbar": {
             "outlinewidth": 0,
             "ticks": ""
            },
            "colorscale": [
             [
              0,
              "#0d0887"
             ],
             [
              0.1111111111111111,
              "#46039f"
             ],
             [
              0.2222222222222222,
              "#7201a8"
             ],
             [
              0.3333333333333333,
              "#9c179e"
             ],
             [
              0.4444444444444444,
              "#bd3786"
             ],
             [
              0.5555555555555556,
              "#d8576b"
             ],
             [
              0.6666666666666666,
              "#ed7953"
             ],
             [
              0.7777777777777778,
              "#fb9f3a"
             ],
             [
              0.8888888888888888,
              "#fdca26"
             ],
             [
              1,
              "#f0f921"
             ]
            ],
            "type": "heatmapgl"
           }
          ],
          "histogram": [
           {
            "marker": {
             "pattern": {
              "fillmode": "overlay",
              "size": 10,
              "solidity": 0.2
             }
            },
            "type": "histogram"
           }
          ],
          "histogram2d": [
           {
            "colorbar": {
             "outlinewidth": 0,
             "ticks": ""
            },
            "colorscale": [
             [
              0,
              "#0d0887"
             ],
             [
              0.1111111111111111,
              "#46039f"
             ],
             [
              0.2222222222222222,
              "#7201a8"
             ],
             [
              0.3333333333333333,
              "#9c179e"
             ],
             [
              0.4444444444444444,
              "#bd3786"
             ],
             [
              0.5555555555555556,
              "#d8576b"
             ],
             [
              0.6666666666666666,
              "#ed7953"
             ],
             [
              0.7777777777777778,
              "#fb9f3a"
             ],
             [
              0.8888888888888888,
              "#fdca26"
             ],
             [
              1,
              "#f0f921"
             ]
            ],
            "type": "histogram2d"
           }
          ],
          "histogram2dcontour": [
           {
            "colorbar": {
             "outlinewidth": 0,
             "ticks": ""
            },
            "colorscale": [
             [
              0,
              "#0d0887"
             ],
             [
              0.1111111111111111,
              "#46039f"
             ],
             [
              0.2222222222222222,
              "#7201a8"
             ],
             [
              0.3333333333333333,
              "#9c179e"
             ],
             [
              0.4444444444444444,
              "#bd3786"
             ],
             [
              0.5555555555555556,
              "#d8576b"
             ],
             [
              0.6666666666666666,
              "#ed7953"
             ],
             [
              0.7777777777777778,
              "#fb9f3a"
             ],
             [
              0.8888888888888888,
              "#fdca26"
             ],
             [
              1,
              "#f0f921"
             ]
            ],
            "type": "histogram2dcontour"
           }
          ],
          "mesh3d": [
           {
            "colorbar": {
             "outlinewidth": 0,
             "ticks": ""
            },
            "type": "mesh3d"
           }
          ],
          "parcoords": [
           {
            "line": {
             "colorbar": {
              "outlinewidth": 0,
              "ticks": ""
             }
            },
            "type": "parcoords"
           }
          ],
          "pie": [
           {
            "automargin": true,
            "type": "pie"
           }
          ],
          "scatter": [
           {
            "fillpattern": {
             "fillmode": "overlay",
             "size": 10,
             "solidity": 0.2
            },
            "type": "scatter"
           }
          ],
          "scatter3d": [
           {
            "line": {
             "colorbar": {
              "outlinewidth": 0,
              "ticks": ""
             }
            },
            "marker": {
             "colorbar": {
              "outlinewidth": 0,
              "ticks": ""
             }
            },
            "type": "scatter3d"
           }
          ],
          "scattercarpet": [
           {
            "marker": {
             "colorbar": {
              "outlinewidth": 0,
              "ticks": ""
             }
            },
            "type": "scattercarpet"
           }
          ],
          "scattergeo": [
           {
            "marker": {
             "colorbar": {
              "outlinewidth": 0,
              "ticks": ""
             }
            },
            "type": "scattergeo"
           }
          ],
          "scattergl": [
           {
            "marker": {
             "colorbar": {
              "outlinewidth": 0,
              "ticks": ""
             }
            },
            "type": "scattergl"
           }
          ],
          "scattermapbox": [
           {
            "marker": {
             "colorbar": {
              "outlinewidth": 0,
              "ticks": ""
             }
            },
            "type": "scattermapbox"
           }
          ],
          "scatterpolar": [
           {
            "marker": {
             "colorbar": {
              "outlinewidth": 0,
              "ticks": ""
             }
            },
            "type": "scatterpolar"
           }
          ],
          "scatterpolargl": [
           {
            "marker": {
             "colorbar": {
              "outlinewidth": 0,
              "ticks": ""
             }
            },
            "type": "scatterpolargl"
           }
          ],
          "scatterternary": [
           {
            "marker": {
             "colorbar": {
              "outlinewidth": 0,
              "ticks": ""
             }
            },
            "type": "scatterternary"
           }
          ],
          "surface": [
           {
            "colorbar": {
             "outlinewidth": 0,
             "ticks": ""
            },
            "colorscale": [
             [
              0,
              "#0d0887"
             ],
             [
              0.1111111111111111,
              "#46039f"
             ],
             [
              0.2222222222222222,
              "#7201a8"
             ],
             [
              0.3333333333333333,
              "#9c179e"
             ],
             [
              0.4444444444444444,
              "#bd3786"
             ],
             [
              0.5555555555555556,
              "#d8576b"
             ],
             [
              0.6666666666666666,
              "#ed7953"
             ],
             [
              0.7777777777777778,
              "#fb9f3a"
             ],
             [
              0.8888888888888888,
              "#fdca26"
             ],
             [
              1,
              "#f0f921"
             ]
            ],
            "type": "surface"
           }
          ],
          "table": [
           {
            "cells": {
             "fill": {
              "color": "#EBF0F8"
             },
             "line": {
              "color": "white"
             }
            },
            "header": {
             "fill": {
              "color": "#C8D4E3"
             },
             "line": {
              "color": "white"
             }
            },
            "type": "table"
           }
          ]
         },
         "layout": {
          "annotationdefaults": {
           "arrowcolor": "#2a3f5f",
           "arrowhead": 0,
           "arrowwidth": 1
          },
          "autotypenumbers": "strict",
          "coloraxis": {
           "colorbar": {
            "outlinewidth": 0,
            "ticks": ""
           }
          },
          "colorscale": {
           "diverging": [
            [
             0,
             "#8e0152"
            ],
            [
             0.1,
             "#c51b7d"
            ],
            [
             0.2,
             "#de77ae"
            ],
            [
             0.3,
             "#f1b6da"
            ],
            [
             0.4,
             "#fde0ef"
            ],
            [
             0.5,
             "#f7f7f7"
            ],
            [
             0.6,
             "#e6f5d0"
            ],
            [
             0.7,
             "#b8e186"
            ],
            [
             0.8,
             "#7fbc41"
            ],
            [
             0.9,
             "#4d9221"
            ],
            [
             1,
             "#276419"
            ]
           ],
           "sequential": [
            [
             0,
             "#0d0887"
            ],
            [
             0.1111111111111111,
             "#46039f"
            ],
            [
             0.2222222222222222,
             "#7201a8"
            ],
            [
             0.3333333333333333,
             "#9c179e"
            ],
            [
             0.4444444444444444,
             "#bd3786"
            ],
            [
             0.5555555555555556,
             "#d8576b"
            ],
            [
             0.6666666666666666,
             "#ed7953"
            ],
            [
             0.7777777777777778,
             "#fb9f3a"
            ],
            [
             0.8888888888888888,
             "#fdca26"
            ],
            [
             1,
             "#f0f921"
            ]
           ],
           "sequentialminus": [
            [
             0,
             "#0d0887"
            ],
            [
             0.1111111111111111,
             "#46039f"
            ],
            [
             0.2222222222222222,
             "#7201a8"
            ],
            [
             0.3333333333333333,
             "#9c179e"
            ],
            [
             0.4444444444444444,
             "#bd3786"
            ],
            [
             0.5555555555555556,
             "#d8576b"
            ],
            [
             0.6666666666666666,
             "#ed7953"
            ],
            [
             0.7777777777777778,
             "#fb9f3a"
            ],
            [
             0.8888888888888888,
             "#fdca26"
            ],
            [
             1,
             "#f0f921"
            ]
           ]
          },
          "colorway": [
           "#636efa",
           "#EF553B",
           "#00cc96",
           "#ab63fa",
           "#FFA15A",
           "#19d3f3",
           "#FF6692",
           "#B6E880",
           "#FF97FF",
           "#FECB52"
          ],
          "font": {
           "color": "#2a3f5f"
          },
          "geo": {
           "bgcolor": "white",
           "lakecolor": "white",
           "landcolor": "white",
           "showlakes": true,
           "showland": true,
           "subunitcolor": "#C8D4E3"
          },
          "hoverlabel": {
           "align": "left"
          },
          "hovermode": "closest",
          "mapbox": {
           "style": "light"
          },
          "paper_bgcolor": "white",
          "plot_bgcolor": "white",
          "polar": {
           "angularaxis": {
            "gridcolor": "#EBF0F8",
            "linecolor": "#EBF0F8",
            "ticks": ""
           },
           "bgcolor": "white",
           "radialaxis": {
            "gridcolor": "#EBF0F8",
            "linecolor": "#EBF0F8",
            "ticks": ""
           }
          },
          "scene": {
           "xaxis": {
            "backgroundcolor": "white",
            "gridcolor": "#DFE8F3",
            "gridwidth": 2,
            "linecolor": "#EBF0F8",
            "showbackground": true,
            "ticks": "",
            "zerolinecolor": "#EBF0F8"
           },
           "yaxis": {
            "backgroundcolor": "white",
            "gridcolor": "#DFE8F3",
            "gridwidth": 2,
            "linecolor": "#EBF0F8",
            "showbackground": true,
            "ticks": "",
            "zerolinecolor": "#EBF0F8"
           },
           "zaxis": {
            "backgroundcolor": "white",
            "gridcolor": "#DFE8F3",
            "gridwidth": 2,
            "linecolor": "#EBF0F8",
            "showbackground": true,
            "ticks": "",
            "zerolinecolor": "#EBF0F8"
           }
          },
          "shapedefaults": {
           "line": {
            "color": "#2a3f5f"
           }
          },
          "ternary": {
           "aaxis": {
            "gridcolor": "#DFE8F3",
            "linecolor": "#A2B1C6",
            "ticks": ""
           },
           "baxis": {
            "gridcolor": "#DFE8F3",
            "linecolor": "#A2B1C6",
            "ticks": ""
           },
           "bgcolor": "white",
           "caxis": {
            "gridcolor": "#DFE8F3",
            "linecolor": "#A2B1C6",
            "ticks": ""
           }
          },
          "title": {
           "x": 0.05
          },
          "xaxis": {
           "automargin": true,
           "gridcolor": "#EBF0F8",
           "linecolor": "#EBF0F8",
           "ticks": "",
           "title": {
            "standoff": 15
           },
           "zerolinecolor": "#EBF0F8",
           "zerolinewidth": 2
          },
          "yaxis": {
           "automargin": true,
           "gridcolor": "#EBF0F8",
           "linecolor": "#EBF0F8",
           "ticks": "",
           "title": {
            "standoff": 15
           },
           "zerolinecolor": "#EBF0F8",
           "zerolinewidth": 2
          }
         }
        },
        "title": {
         "text": "Electricity generation capacity in ON by plant type and energy model",
         "x": 0.5,
         "xanchor": "center",
         "y": 0.97,
         "yanchor": "top"
        },
        "width": 1200,
        "xaxis": {
         "anchor": "y",
         "domain": [
          0,
          0.1257142857142857
         ],
         "title": {
          "text": ""
         }
        },
        "xaxis2": {
         "anchor": "y2",
         "domain": [
          0.14571428571428569,
          0.27142857142857135
         ],
         "matches": "x",
         "title": {
          "text": ""
         }
        },
        "xaxis3": {
         "anchor": "y3",
         "domain": [
          0.29142857142857137,
          0.41714285714285704
         ],
         "matches": "x",
         "title": {
          "text": ""
         }
        },
        "xaxis4": {
         "anchor": "y4",
         "domain": [
          0.4371428571428571,
          0.5628571428571428
         ],
         "matches": "x",
         "title": {
          "text": ""
         }
        },
        "xaxis5": {
         "anchor": "y5",
         "domain": [
          0.5828571428571427,
          0.7085714285714284
         ],
         "matches": "x",
         "title": {
          "text": ""
         }
        },
        "xaxis6": {
         "anchor": "y6",
         "domain": [
          0.7285714285714284,
          0.8542857142857141
         ],
         "matches": "x",
         "title": {
          "text": ""
         }
        },
        "xaxis7": {
         "anchor": "y7",
         "domain": [
          0.8742857142857142,
          0.9999999999999999
         ],
         "matches": "x",
         "title": {
          "text": ""
         }
        },
        "yaxis": {
         "anchor": "x",
         "domain": [
          0,
          1
         ],
         "dtick": 20,
         "title": {
          "standoff": 0,
          "text": "Capacity (GW)"
         }
        },
        "yaxis2": {
         "anchor": "x2",
         "domain": [
          0,
          1
         ],
         "dtick": 20,
         "matches": "y",
         "showticklabels": false
        },
        "yaxis3": {
         "anchor": "x3",
         "domain": [
          0,
          1
         ],
         "dtick": 20,
         "matches": "y",
         "showticklabels": false
        },
        "yaxis4": {
         "anchor": "x4",
         "domain": [
          0,
          1
         ],
         "dtick": 20,
         "matches": "y",
         "showticklabels": false
        },
        "yaxis5": {
         "anchor": "x5",
         "domain": [
          0,
          1
         ],
         "dtick": 20,
         "matches": "y",
         "showticklabels": false
        },
        "yaxis6": {
         "anchor": "x6",
         "domain": [
          0,
          1
         ],
         "dtick": 20,
         "matches": "y",
         "showticklabels": false
        },
        "yaxis7": {
         "anchor": "x7",
         "domain": [
          0,
          1
         ],
         "dtick": 20,
         "matches": "y",
         "showticklabels": false
        }
       }
      }
     },
     "metadata": {},
     "output_type": "display_data"
    }
   ],
   "source": [
    "bau23_cap['Capacity (GW)'] = bau23_cap['Capacity (MW)'] / 1E3\n",
    "bau23_fig = bau23_cap[['Period', 'Plant Type', 'Capacity (GW)']].copy()\n",
    "bau23_fig['Plant Type'] = bau23_fig['Plant Type'].replace({'Hydro / Wave / Tidal': 'Hydro', 'Biomass / Geothermal': 'Biomass', 'Uranium': 'Nuclear'})\n",
    "ref_fig = ref_elccap[ref_elccap['Plant Type'] != 'Other'].groupby(['Period', 'Plant Type'], as_index=False).sum('Capacity (GW)')\n",
    "gtech23_ref_cap['Capacity (GW)'] = gtech23_ref_cap['Capacity (MW)'] / 1E3\n",
    "gtech23_fig = gtech23_ref_cap.copy()\n",
    "gtech23_fig['Period'] = gtech23_fig['Period'].astype(str)\n",
    "\n",
    "gtech23_fig['Source'] = 'gTech-IESD'\n",
    "bau23_fig['Source'] = 'CEF2023'\n",
    "ref_fig['Source'] = 'CANOE'\n",
    "fig_df = pd.concat([ref_fig[['Period', 'Plant Type', 'Capacity (GW)', 'Source']], bau23_fig[['Period', 'Plant Type', 'Capacity (GW)', 'Source']], gtech23_fig[['Period', 'Plant Type', 'Capacity (GW)', 'Source']]])\n",
    "\n",
    "fig = px.bar(fig_df, \n",
    "             x='Source', \n",
    "             y='Capacity (GW)', \n",
    "             color='Plant Type', \n",
    "             barmode='stack', \n",
    "             facet_col='Period',\n",
    "             facet_col_spacing=2E-2,\n",
    "             template='plotly_white',\n",
    "             color_discrete_sequence=px.colors.qualitative.G10[:7] + px.colors.qualitative.G10[8:],\n",
    "             text_auto='.1f',\n",
    "             width=1200, height=650,\n",
    "             )\n",
    "\n",
    "fig.update_layout(title=dict(\n",
    "        text='Electricity generation capacity in ON by plant type and energy model',\n",
    "        x=0.5, \n",
    "        y=0.97,\n",
    "        xanchor='center',\n",
    "        yanchor='top'\n",
    "    ),\n",
    "    xaxis=dict(title='Period'),\n",
    "    yaxis=dict(title='Capacity (GW)',\n",
    "               dtick=20),\n",
    "    yaxis_title_standoff=0,\n",
    "    legend_title_text='',\n",
    "    bargap=0.1,\n",
    "    legend=dict(\n",
    "        orientation='h',  \n",
    "        yanchor='top',\n",
    "        y=1.04,  \n",
    "        xanchor='center',\n",
    "        x=0.5),\n",
    "    font=dict(\n",
    "        # family=\"Open Sans\",\n",
    "        size=14)\n",
    "    )\n",
    "\n",
    "for annotation in fig.layout.annotations:\n",
    "    annotation.text = annotation.text.split('=')[1]\n",
    "    annotation.y = -0.1  \n",
    "    annotation.yanchor = 'top' \n",
    "\n",
    "for axis in fig.layout:\n",
    "    if axis.startswith('yaxis'):\n",
    "        fig.layout[axis].dtick = 20\n",
    "\n",
    "for axis in fig.layout:\n",
    "    if axis.startswith('xaxis'):\n",
    "        fig.layout[axis].title.text = ''\n",
    "\n",
    "fig.for_each_trace(lambda trace: trace.update(textfont=dict(size=9)))\n",
    "\n",
    "fig.show()"
   ]
  },
  {
   "cell_type": "code",
   "execution_count": 30,
   "metadata": {},
   "outputs": [],
   "source": [
    "ref_elcact.columns = ref_elcact.columns.astype(str)\n",
    "periods = [col for col in ref_elcact.columns if col.isdigit()]\n",
    "params = [col for col in ref_elcact.columns if not col.isdigit()]\n",
    "ref_elcact = pd.melt(ref_elcact, id_vars=params, var_name='Period', value_name='Generation (PJ)', value_vars=periods)\n",
    "\n",
    "gtech23_ref_gen['Plant Type'] = gtech23_ref_gen['Plant Type'].apply(plant_rename)\n",
    "gtech23_ref_gen = gtech23_ref_gen.groupby(['Period', 'Plant Type'], as_index=False).sum()"
   ]
  },
  {
   "cell_type": "code",
   "execution_count": 31,
   "metadata": {},
   "outputs": [
    {
     "data": {
      "application/vnd.plotly.v1+json": {
       "config": {
        "plotlyServerURL": "https://plot.ly"
       },
       "data": [
        {
         "alignmentgroup": "True",
         "hovertemplate": "Plant Type=Biomass<br>Period=2021<br>Source=%{x}<br>Generation (PJ)=%{y}<extra></extra>",
         "legendgroup": "Biomass",
         "marker": {
          "color": "#3366CC",
          "pattern": {
           "shape": ""
          }
         },
         "name": "Biomass",
         "offsetgroup": "Biomass",
         "orientation": "v",
         "showlegend": true,
         "textfont": {
          "size": 9
         },
         "textposition": "auto",
         "texttemplate": "%{y:.1f}",
         "type": "bar",
         "x": [
          "CANOE",
          "CEF2023"
         ],
         "xaxis": "x",
         "y": [
          0,
          4.3015713287544
         ],
         "yaxis": "y"
        },
        {
         "alignmentgroup": "True",
         "hovertemplate": "Plant Type=Biomass<br>Period=2025<br>Source=%{x}<br>Generation (PJ)=%{y}<extra></extra>",
         "legendgroup": "Biomass",
         "marker": {
          "color": "#3366CC",
          "pattern": {
           "shape": ""
          }
         },
         "name": "Biomass",
         "offsetgroup": "Biomass",
         "orientation": "v",
         "showlegend": false,
         "textfont": {
          "size": 9
         },
         "textposition": "auto",
         "texttemplate": "%{y:.1f}",
         "type": "bar",
         "x": [
          "CANOE",
          "CEF2023"
         ],
         "xaxis": "x2",
         "y": [
          0,
          4.1386093236
         ],
         "yaxis": "y2"
        },
        {
         "alignmentgroup": "True",
         "hovertemplate": "Plant Type=Biomass<br>Period=2030<br>Source=%{x}<br>Generation (PJ)=%{y}<extra></extra>",
         "legendgroup": "Biomass",
         "marker": {
          "color": "#3366CC",
          "pattern": {
           "shape": ""
          }
         },
         "name": "Biomass",
         "offsetgroup": "Biomass",
         "orientation": "v",
         "showlegend": false,
         "textfont": {
          "size": 9
         },
         "textposition": "auto",
         "texttemplate": "%{y:.1f}",
         "type": "bar",
         "x": [
          "CANOE",
          "CEF2023"
         ],
         "xaxis": "x3",
         "y": [
          0,
          4.3822057463999995
         ],
         "yaxis": "y3"
        },
        {
         "alignmentgroup": "True",
         "hovertemplate": "Plant Type=Biomass<br>Period=2035<br>Source=%{x}<br>Generation (PJ)=%{y}<extra></extra>",
         "legendgroup": "Biomass",
         "marker": {
          "color": "#3366CC",
          "pattern": {
           "shape": ""
          }
         },
         "name": "Biomass",
         "offsetgroup": "Biomass",
         "orientation": "v",
         "showlegend": false,
         "textfont": {
          "size": 9
         },
         "textposition": "auto",
         "texttemplate": "%{y:.1f}",
         "type": "bar",
         "x": [
          "CANOE",
          "CEF2023"
         ],
         "xaxis": "x4",
         "y": [
          0,
          6.8214275639999995
         ],
         "yaxis": "y4"
        },
        {
         "alignmentgroup": "True",
         "hovertemplate": "Plant Type=Biomass<br>Period=2040<br>Source=%{x}<br>Generation (PJ)=%{y}<extra></extra>",
         "legendgroup": "Biomass",
         "marker": {
          "color": "#3366CC",
          "pattern": {
           "shape": ""
          }
         },
         "name": "Biomass",
         "offsetgroup": "Biomass",
         "orientation": "v",
         "showlegend": false,
         "textfont": {
          "size": 9
         },
         "textposition": "auto",
         "texttemplate": "%{y:.1f}",
         "type": "bar",
         "x": [
          "CANOE",
          "CEF2023"
         ],
         "xaxis": "x5",
         "y": [
          0,
          7.010796646799999
         ],
         "yaxis": "y5"
        },
        {
         "alignmentgroup": "True",
         "hovertemplate": "Plant Type=Biomass<br>Period=2045<br>Source=%{x}<br>Generation (PJ)=%{y}<extra></extra>",
         "legendgroup": "Biomass",
         "marker": {
          "color": "#3366CC",
          "pattern": {
           "shape": ""
          }
         },
         "name": "Biomass",
         "offsetgroup": "Biomass",
         "orientation": "v",
         "showlegend": false,
         "textfont": {
          "size": 9
         },
         "textposition": "auto",
         "texttemplate": "%{y:.1f}",
         "type": "bar",
         "x": [
          "CANOE",
          "CEF2023"
         ],
         "xaxis": "x6",
         "y": [
          0.2202274319051744,
          6.698494429199999
         ],
         "yaxis": "y6"
        },
        {
         "alignmentgroup": "True",
         "hovertemplate": "Plant Type=Biomass<br>Period=2050<br>Source=%{x}<br>Generation (PJ)=%{y}<extra></extra>",
         "legendgroup": "Biomass",
         "marker": {
          "color": "#3366CC",
          "pattern": {
           "shape": ""
          }
         },
         "name": "Biomass",
         "offsetgroup": "Biomass",
         "orientation": "v",
         "showlegend": false,
         "textfont": {
          "size": 9
         },
         "textposition": "auto",
         "texttemplate": "%{y:.1f}",
         "type": "bar",
         "x": [
          "CANOE",
          "CEF2023"
         ],
         "xaxis": "x7",
         "y": [
          0.220229531829243,
          7.2196892892
         ],
         "yaxis": "y7"
        },
        {
         "alignmentgroup": "True",
         "hovertemplate": "Plant Type=Hydro<br>Period=2021<br>Source=%{x}<br>Generation (PJ)=%{y}<extra></extra>",
         "legendgroup": "Hydro",
         "marker": {
          "color": "#DC3912",
          "pattern": {
           "shape": ""
          }
         },
         "name": "Hydro",
         "offsetgroup": "Hydro",
         "orientation": "v",
         "showlegend": true,
         "textfont": {
          "size": 9
         },
         "textposition": "auto",
         "texttemplate": "%{y:.1f}",
         "type": "bar",
         "x": [
          "CANOE",
          "CEF2023",
          "gTech-IESD"
         ],
         "xaxis": "x",
         "y": [
          116.93928917318559,
          126.83786202,
          136.8541162728
         ],
         "yaxis": "y"
        },
        {
         "alignmentgroup": "True",
         "hovertemplate": "Plant Type=Hydro<br>Period=2025<br>Source=%{x}<br>Generation (PJ)=%{y}<extra></extra>",
         "legendgroup": "Hydro",
         "marker": {
          "color": "#DC3912",
          "pattern": {
           "shape": ""
          }
         },
         "name": "Hydro",
         "offsetgroup": "Hydro",
         "orientation": "v",
         "showlegend": false,
         "textfont": {
          "size": 9
         },
         "textposition": "auto",
         "texttemplate": "%{y:.1f}",
         "type": "bar",
         "x": [
          "CANOE",
          "CEF2023",
          "gTech-IESD"
         ],
         "xaxis": "x2",
         "y": [
          116.92056839264018,
          128.893166676,
          134.474275332
         ],
         "yaxis": "y2"
        },
        {
         "alignmentgroup": "True",
         "hovertemplate": "Plant Type=Hydro<br>Period=2030<br>Source=%{x}<br>Generation (PJ)=%{y}<extra></extra>",
         "legendgroup": "Hydro",
         "marker": {
          "color": "#DC3912",
          "pattern": {
           "shape": ""
          }
         },
         "name": "Hydro",
         "offsetgroup": "Hydro",
         "orientation": "v",
         "showlegend": false,
         "textfont": {
          "size": 9
         },
         "textposition": "auto",
         "texttemplate": "%{y:.1f}",
         "type": "bar",
         "x": [
          "CANOE",
          "CEF2023",
          "gTech-IESD"
         ],
         "xaxis": "x3",
         "y": [
          114.53926947170179,
          135.178452036,
          134.13612535200002
         ],
         "yaxis": "y3"
        },
        {
         "alignmentgroup": "True",
         "hovertemplate": "Plant Type=Hydro<br>Period=2035<br>Source=%{x}<br>Generation (PJ)=%{y}<extra></extra>",
         "legendgroup": "Hydro",
         "marker": {
          "color": "#DC3912",
          "pattern": {
           "shape": ""
          }
         },
         "name": "Hydro",
         "offsetgroup": "Hydro",
         "orientation": "v",
         "showlegend": false,
         "textfont": {
          "size": 9
         },
         "textposition": "auto",
         "texttemplate": "%{y:.1f}",
         "type": "bar",
         "x": [
          "CANOE",
          "CEF2023",
          "gTech-IESD"
         ],
         "xaxis": "x4",
         "y": [
          116.60741346157434,
          135.701060328,
          133.35906459600002
         ],
         "yaxis": "y4"
        },
        {
         "alignmentgroup": "True",
         "hovertemplate": "Plant Type=Hydro<br>Period=2040<br>Source=%{x}<br>Generation (PJ)=%{y}<extra></extra>",
         "legendgroup": "Hydro",
         "marker": {
          "color": "#DC3912",
          "pattern": {
           "shape": ""
          }
         },
         "name": "Hydro",
         "offsetgroup": "Hydro",
         "orientation": "v",
         "showlegend": false,
         "textfont": {
          "size": 9
         },
         "textposition": "auto",
         "texttemplate": "%{y:.1f}",
         "type": "bar",
         "x": [
          "CANOE",
          "CEF2023",
          "gTech-IESD"
         ],
         "xaxis": "x5",
         "y": [
          116.93926615787183,
          134.285007348,
          132.9763464
         ],
         "yaxis": "y5"
        },
        {
         "alignmentgroup": "True",
         "hovertemplate": "Plant Type=Hydro<br>Period=2045<br>Source=%{x}<br>Generation (PJ)=%{y}<extra></extra>",
         "legendgroup": "Hydro",
         "marker": {
          "color": "#DC3912",
          "pattern": {
           "shape": ""
          }
         },
         "name": "Hydro",
         "offsetgroup": "Hydro",
         "orientation": "v",
         "showlegend": false,
         "textfont": {
          "size": 9
         },
         "textposition": "auto",
         "texttemplate": "%{y:.1f}",
         "type": "bar",
         "x": [
          "CANOE",
          "CEF2023",
          "gTech-IESD"
         ],
         "xaxis": "x6",
         "y": [
          116.9392695889586,
          133.969748868,
          131.967125856
         ],
         "yaxis": "y6"
        },
        {
         "alignmentgroup": "True",
         "hovertemplate": "Plant Type=Hydro<br>Period=2050<br>Source=%{x}<br>Generation (PJ)=%{y}<extra></extra>",
         "legendgroup": "Hydro",
         "marker": {
          "color": "#DC3912",
          "pattern": {
           "shape": ""
          }
         },
         "name": "Hydro",
         "offsetgroup": "Hydro",
         "orientation": "v",
         "showlegend": false,
         "textfont": {
          "size": 9
         },
         "textposition": "auto",
         "texttemplate": "%{y:.1f}",
         "type": "bar",
         "x": [
          "CANOE",
          "CEF2023",
          "gTech-IESD"
         ],
         "xaxis": "x7",
         "y": [
          116.93925627211391,
          133.63550427599998,
          131.252061996
         ],
         "yaxis": "y7"
        },
        {
         "alignmentgroup": "True",
         "hovertemplate": "Plant Type=Natural Gas<br>Period=2021<br>Source=%{x}<br>Generation (PJ)=%{y}<extra></extra>",
         "legendgroup": "Natural Gas",
         "marker": {
          "color": "#FF9900",
          "pattern": {
           "shape": ""
          }
         },
         "name": "Natural Gas",
         "offsetgroup": "Natural Gas",
         "orientation": "v",
         "showlegend": true,
         "textfont": {
          "size": 9
         },
         "textposition": "auto",
         "texttemplate": "%{y:.1f}",
         "type": "bar",
         "x": [
          "CANOE",
          "CEF2023",
          "gTech-IESD"
         ],
         "xaxis": "x",
         "y": [
          180.5212340747959,
          40.989921804,
          37.90939256064
         ],
         "yaxis": "y"
        },
        {
         "alignmentgroup": "True",
         "hovertemplate": "Plant Type=Natural Gas<br>Period=2025<br>Source=%{x}<br>Generation (PJ)=%{y}<extra></extra>",
         "legendgroup": "Natural Gas",
         "marker": {
          "color": "#FF9900",
          "pattern": {
           "shape": ""
          }
         },
         "name": "Natural Gas",
         "offsetgroup": "Natural Gas",
         "orientation": "v",
         "showlegend": false,
         "textfont": {
          "size": 9
         },
         "textposition": "auto",
         "texttemplate": "%{y:.1f}",
         "type": "bar",
         "x": [
          "CANOE",
          "CEF2023",
          "gTech-IESD"
         ],
         "xaxis": "x2",
         "y": [
          264.928393915223,
          41.546230632,
          23.1730196832
         ],
         "yaxis": "y2"
        },
        {
         "alignmentgroup": "True",
         "hovertemplate": "Plant Type=Natural Gas<br>Period=2030<br>Source=%{x}<br>Generation (PJ)=%{y}<extra></extra>",
         "legendgroup": "Natural Gas",
         "marker": {
          "color": "#FF9900",
          "pattern": {
           "shape": ""
          }
         },
         "name": "Natural Gas",
         "offsetgroup": "Natural Gas",
         "orientation": "v",
         "showlegend": false,
         "textfont": {
          "size": 9
         },
         "textposition": "auto",
         "texttemplate": "%{y:.1f}",
         "type": "bar",
         "x": [
          "CANOE",
          "CEF2023",
          "gTech-IESD"
         ],
         "xaxis": "x3",
         "y": [
          329.27613601100114,
          49.535112168,
          9.247029282
         ],
         "yaxis": "y3"
        },
        {
         "alignmentgroup": "True",
         "hovertemplate": "Plant Type=Natural Gas<br>Period=2035<br>Source=%{x}<br>Generation (PJ)=%{y}<extra></extra>",
         "legendgroup": "Natural Gas",
         "marker": {
          "color": "#FF9900",
          "pattern": {
           "shape": ""
          }
         },
         "name": "Natural Gas",
         "offsetgroup": "Natural Gas",
         "orientation": "v",
         "showlegend": false,
         "textfont": {
          "size": 9
         },
         "textposition": "auto",
         "texttemplate": "%{y:.1f}",
         "type": "bar",
         "x": [
          "CANOE",
          "CEF2023",
          "gTech-IESD"
         ],
         "xaxis": "x4",
         "y": [
          478.2429466267787,
          53.12777814,
          12.3058195488
         ],
         "yaxis": "y4"
        },
        {
         "alignmentgroup": "True",
         "hovertemplate": "Plant Type=Natural Gas<br>Period=2040<br>Source=%{x}<br>Generation (PJ)=%{y}<extra></extra>",
         "legendgroup": "Natural Gas",
         "marker": {
          "color": "#FF9900",
          "pattern": {
           "shape": ""
          }
         },
         "name": "Natural Gas",
         "offsetgroup": "Natural Gas",
         "orientation": "v",
         "showlegend": false,
         "textfont": {
          "size": 9
         },
         "textposition": "auto",
         "texttemplate": "%{y:.1f}",
         "type": "bar",
         "x": [
          "CANOE",
          "CEF2023",
          "gTech-IESD"
         ],
         "xaxis": "x5",
         "y": [
          766.7950541429398,
          40.501778184,
          18.4878536616
         ],
         "yaxis": "y5"
        },
        {
         "alignmentgroup": "True",
         "hovertemplate": "Plant Type=Natural Gas<br>Period=2045<br>Source=%{x}<br>Generation (PJ)=%{y}<extra></extra>",
         "legendgroup": "Natural Gas",
         "marker": {
          "color": "#FF9900",
          "pattern": {
           "shape": ""
          }
         },
         "name": "Natural Gas",
         "offsetgroup": "Natural Gas",
         "orientation": "v",
         "showlegend": false,
         "textfont": {
          "size": 9
         },
         "textposition": "auto",
         "texttemplate": "%{y:.1f}",
         "type": "bar",
         "x": [
          "CANOE",
          "CEF2023",
          "gTech-IESD"
         ],
         "xaxis": "x6",
         "y": [
          897.7922140270371,
          38.198321532,
          32.664768951599996
         ],
         "yaxis": "y6"
        },
        {
         "alignmentgroup": "True",
         "hovertemplate": "Plant Type=Natural Gas<br>Period=2050<br>Source=%{x}<br>Generation (PJ)=%{y}<extra></extra>",
         "legendgroup": "Natural Gas",
         "marker": {
          "color": "#FF9900",
          "pattern": {
           "shape": ""
          }
         },
         "name": "Natural Gas",
         "offsetgroup": "Natural Gas",
         "orientation": "v",
         "showlegend": false,
         "textfont": {
          "size": 9
         },
         "textposition": "auto",
         "texttemplate": "%{y:.1f}",
         "type": "bar",
         "x": [
          "CANOE",
          "CEF2023",
          "gTech-IESD"
         ],
         "xaxis": "x7",
         "y": [
          936.5134341772624,
          47.558179692,
          44.856261
         ],
         "yaxis": "y7"
        },
        {
         "alignmentgroup": "True",
         "hovertemplate": "Plant Type=Nuclear<br>Period=2021<br>Source=%{x}<br>Generation (PJ)=%{y}<extra></extra>",
         "legendgroup": "Nuclear",
         "marker": {
          "color": "#109618",
          "pattern": {
           "shape": ""
          }
         },
         "name": "Nuclear",
         "offsetgroup": "Nuclear",
         "orientation": "v",
         "showlegend": true,
         "textfont": {
          "size": 9
         },
         "textposition": "auto",
         "texttemplate": "%{y:.1f}",
         "type": "bar",
         "x": [
          "CANOE",
          "CEF2023",
          "gTech-IESD"
         ],
         "xaxis": "x",
         "y": [
          327.2490670607802,
          296.213000436,
          305.94959452800003
         ],
         "yaxis": "y"
        },
        {
         "alignmentgroup": "True",
         "hovertemplate": "Plant Type=Nuclear<br>Period=2025<br>Source=%{x}<br>Generation (PJ)=%{y}<extra></extra>",
         "legendgroup": "Nuclear",
         "marker": {
          "color": "#109618",
          "pattern": {
           "shape": ""
          }
         },
         "name": "Nuclear",
         "offsetgroup": "Nuclear",
         "orientation": "v",
         "showlegend": false,
         "textfont": {
          "size": 9
         },
         "textposition": "auto",
         "texttemplate": "%{y:.1f}",
         "type": "bar",
         "x": [
          "CANOE",
          "CEF2023",
          "gTech-IESD"
         ],
         "xaxis": "x2",
         "y": [
          327.2490502635026,
          265.366189872,
          264.6043848
         ],
         "yaxis": "y2"
        },
        {
         "alignmentgroup": "True",
         "hovertemplate": "Plant Type=Nuclear<br>Period=2030<br>Source=%{x}<br>Generation (PJ)=%{y}<extra></extra>",
         "legendgroup": "Nuclear",
         "marker": {
          "color": "#109618",
          "pattern": {
           "shape": ""
          }
         },
         "name": "Nuclear",
         "offsetgroup": "Nuclear",
         "orientation": "v",
         "showlegend": false,
         "textfont": {
          "size": 9
         },
         "textposition": "auto",
         "texttemplate": "%{y:.1f}",
         "type": "bar",
         "x": [
          "CANOE",
          "CEF2023",
          "gTech-IESD"
         ],
         "xaxis": "x3",
         "y": [
          225.1167913059039,
          276.2515249884,
          236.52037843200003
         ],
         "yaxis": "y3"
        },
        {
         "alignmentgroup": "True",
         "hovertemplate": "Plant Type=Nuclear<br>Period=2035<br>Source=%{x}<br>Generation (PJ)=%{y}<extra></extra>",
         "legendgroup": "Nuclear",
         "marker": {
          "color": "#109618",
          "pattern": {
           "shape": ""
          }
         },
         "name": "Nuclear",
         "offsetgroup": "Nuclear",
         "orientation": "v",
         "showlegend": false,
         "textfont": {
          "size": 9
         },
         "textposition": "auto",
         "texttemplate": "%{y:.1f}",
         "type": "bar",
         "x": [
          "CANOE",
          "CEF2023",
          "gTech-IESD"
         ],
         "xaxis": "x4",
         "y": [
          180.2910341606382,
          306.196932744,
          248.696428032
         ],
         "yaxis": "y4"
        },
        {
         "alignmentgroup": "True",
         "hovertemplate": "Plant Type=Nuclear<br>Period=2040<br>Source=%{x}<br>Generation (PJ)=%{y}<extra></extra>",
         "legendgroup": "Nuclear",
         "marker": {
          "color": "#109618",
          "pattern": {
           "shape": ""
          }
         },
         "name": "Nuclear",
         "offsetgroup": "Nuclear",
         "orientation": "v",
         "showlegend": false,
         "textfont": {
          "size": 9
         },
         "textposition": "auto",
         "texttemplate": "%{y:.1f}",
         "type": "bar",
         "x": [
          "CANOE",
          "CEF2023",
          "gTech-IESD"
         ],
         "xaxis": "x5",
         "y": [
          130.8428278257438,
          301.56017690159996,
          260.872477632
         ],
         "yaxis": "y5"
        },
        {
         "alignmentgroup": "True",
         "hovertemplate": "Plant Type=Nuclear<br>Period=2045<br>Source=%{x}<br>Generation (PJ)=%{y}<extra></extra>",
         "legendgroup": "Nuclear",
         "marker": {
          "color": "#109618",
          "pattern": {
           "shape": ""
          }
         },
         "name": "Nuclear",
         "offsetgroup": "Nuclear",
         "orientation": "v",
         "showlegend": false,
         "textfont": {
          "size": 9
         },
         "textposition": "auto",
         "texttemplate": "%{y:.1f}",
         "type": "bar",
         "x": [
          "CANOE",
          "CEF2023",
          "gTech-IESD"
         ],
         "xaxis": "x6",
         "y": [
          27.7832099650596,
          298.3283116704,
          260.872477632
         ],
         "yaxis": "y6"
        },
        {
         "alignmentgroup": "True",
         "hovertemplate": "Plant Type=Nuclear<br>Period=2050<br>Source=%{x}<br>Generation (PJ)=%{y}<extra></extra>",
         "legendgroup": "Nuclear",
         "marker": {
          "color": "#109618",
          "pattern": {
           "shape": ""
          }
         },
         "name": "Nuclear",
         "offsetgroup": "Nuclear",
         "orientation": "v",
         "showlegend": false,
         "textfont": {
          "size": 9
         },
         "textposition": "auto",
         "texttemplate": "%{y:.1f}",
         "type": "bar",
         "x": [
          "CANOE",
          "CEF2023",
          "gTech-IESD"
         ],
         "xaxis": "x7",
         "y": [
          27.78321278782467,
          297.6317148564,
          260.872477632
         ],
         "yaxis": "y7"
        },
        {
         "alignmentgroup": "True",
         "hovertemplate": "Plant Type=Solar<br>Period=2021<br>Source=%{x}<br>Generation (PJ)=%{y}<extra></extra>",
         "legendgroup": "Solar",
         "marker": {
          "color": "#990099",
          "pattern": {
           "shape": ""
          }
         },
         "name": "Solar",
         "offsetgroup": "Solar",
         "orientation": "v",
         "showlegend": true,
         "textfont": {
          "size": 9
         },
         "textposition": "auto",
         "texttemplate": "%{y:.1f}",
         "type": "bar",
         "x": [
          "CANOE",
          "CEF2023",
          "gTech-IESD"
         ],
         "xaxis": "x",
         "y": [
          2.437432634642688,
          20.6137995912,
          11.3669509824
         ],
         "yaxis": "y"
        },
        {
         "alignmentgroup": "True",
         "hovertemplate": "Plant Type=Solar<br>Period=2025<br>Source=%{x}<br>Generation (PJ)=%{y}<extra></extra>",
         "legendgroup": "Solar",
         "marker": {
          "color": "#990099",
          "pattern": {
           "shape": ""
          }
         },
         "name": "Solar",
         "offsetgroup": "Solar",
         "orientation": "v",
         "showlegend": false,
         "textfont": {
          "size": 9
         },
         "textposition": "auto",
         "texttemplate": "%{y:.1f}",
         "type": "bar",
         "x": [
          "CANOE",
          "CEF2023",
          "gTech-IESD"
         ],
         "xaxis": "x2",
         "y": [
          2.437432310790612,
          29.735262356400003,
          22.0667340096
         ],
         "yaxis": "y2"
        },
        {
         "alignmentgroup": "True",
         "hovertemplate": "Plant Type=Solar<br>Period=2030<br>Source=%{x}<br>Generation (PJ)=%{y}<extra></extra>",
         "legendgroup": "Solar",
         "marker": {
          "color": "#990099",
          "pattern": {
           "shape": ""
          }
         },
         "name": "Solar",
         "offsetgroup": "Solar",
         "orientation": "v",
         "showlegend": false,
         "textfont": {
          "size": 9
         },
         "textposition": "auto",
         "texttemplate": "%{y:.1f}",
         "type": "bar",
         "x": [
          "CANOE",
          "CEF2023",
          "gTech-IESD"
         ],
         "xaxis": "x3",
         "y": [
          2.437431837202586,
          31.3453825776,
          64.166060592
         ],
         "yaxis": "y3"
        },
        {
         "alignmentgroup": "True",
         "hovertemplate": "Plant Type=Solar<br>Period=2035<br>Source=%{x}<br>Generation (PJ)=%{y}<extra></extra>",
         "legendgroup": "Solar",
         "marker": {
          "color": "#990099",
          "pattern": {
           "shape": ""
          }
         },
         "name": "Solar",
         "offsetgroup": "Solar",
         "orientation": "v",
         "showlegend": false,
         "textfont": {
          "size": 9
         },
         "textposition": "auto",
         "texttemplate": "%{y:.1f}",
         "type": "bar",
         "x": [
          "CANOE",
          "CEF2023",
          "gTech-IESD"
         ],
         "xaxis": "x4",
         "y": [
          59.25232981118096,
          31.3642013832,
          85.48500636
         ],
         "yaxis": "y4"
        },
        {
         "alignmentgroup": "True",
         "hovertemplate": "Plant Type=Solar<br>Period=2040<br>Source=%{x}<br>Generation (PJ)=%{y}<extra></extra>",
         "legendgroup": "Solar",
         "marker": {
          "color": "#990099",
          "pattern": {
           "shape": ""
          }
         },
         "name": "Solar",
         "offsetgroup": "Solar",
         "orientation": "v",
         "showlegend": false,
         "textfont": {
          "size": 9
         },
         "textposition": "auto",
         "texttemplate": "%{y:.1f}",
         "type": "bar",
         "x": [
          "CANOE",
          "CEF2023",
          "gTech-IESD"
         ],
         "xaxis": "x5",
         "y": [
          59.252409028014796,
          31.3830201924,
          117.479702304
         ],
         "yaxis": "y5"
        },
        {
         "alignmentgroup": "True",
         "hovertemplate": "Plant Type=Solar<br>Period=2045<br>Source=%{x}<br>Generation (PJ)=%{y}<extra></extra>",
         "legendgroup": "Solar",
         "marker": {
          "color": "#990099",
          "pattern": {
           "shape": ""
          }
         },
         "name": "Solar",
         "offsetgroup": "Solar",
         "orientation": "v",
         "showlegend": false,
         "textfont": {
          "size": 9
         },
         "textposition": "auto",
         "texttemplate": "%{y:.1f}",
         "type": "bar",
         "x": [
          "CANOE",
          "CEF2023",
          "gTech-IESD"
         ],
         "xaxis": "x6",
         "y": [
          57.314698184010325,
          53.8268294592,
          174.839314104
         ],
         "yaxis": "y6"
        },
        {
         "alignmentgroup": "True",
         "hovertemplate": "Plant Type=Solar<br>Period=2050<br>Source=%{x}<br>Generation (PJ)=%{y}<extra></extra>",
         "legendgroup": "Solar",
         "marker": {
          "color": "#990099",
          "pattern": {
           "shape": ""
          }
         },
         "name": "Solar",
         "offsetgroup": "Solar",
         "orientation": "v",
         "showlegend": false,
         "textfont": {
          "size": 9
         },
         "textposition": "auto",
         "texttemplate": "%{y:.1f}",
         "type": "bar",
         "x": [
          "CANOE",
          "CEF2023",
          "gTech-IESD"
         ],
         "xaxis": "x7",
         "y": [
          80.34792422216375,
          68.5338113664,
          227.902210884
         ],
         "yaxis": "y7"
        },
        {
         "alignmentgroup": "True",
         "hovertemplate": "Plant Type=Wind<br>Period=2021<br>Source=%{x}<br>Generation (PJ)=%{y}<extra></extra>",
         "legendgroup": "Wind",
         "marker": {
          "color": "#0099C6",
          "pattern": {
           "shape": ""
          }
         },
         "name": "Wind",
         "offsetgroup": "Wind",
         "orientation": "v",
         "showlegend": true,
         "textfont": {
          "size": 9
         },
         "textposition": "auto",
         "texttemplate": "%{y:.1f}",
         "type": "bar",
         "x": [
          "CANOE",
          "CEF2023",
          "gTech-IESD"
         ],
         "xaxis": "x",
         "y": [
          44.6849022795565,
          44.710470756,
          52.2300186576
         ],
         "yaxis": "y"
        },
        {
         "alignmentgroup": "True",
         "hovertemplate": "Plant Type=Wind<br>Period=2025<br>Source=%{x}<br>Generation (PJ)=%{y}<extra></extra>",
         "legendgroup": "Wind",
         "marker": {
          "color": "#0099C6",
          "pattern": {
           "shape": ""
          }
         },
         "name": "Wind",
         "offsetgroup": "Wind",
         "orientation": "v",
         "showlegend": false,
         "textfont": {
          "size": 9
         },
         "textposition": "auto",
         "texttemplate": "%{y:.1f}",
         "type": "bar",
         "x": [
          "CANOE",
          "CEF2023",
          "gTech-IESD"
         ],
         "xaxis": "x2",
         "y": [
          83.00802926725711,
          64.275587496,
          53.186522184000005
         ],
         "yaxis": "y2"
        },
        {
         "alignmentgroup": "True",
         "hovertemplate": "Plant Type=Wind<br>Period=2030<br>Source=%{x}<br>Generation (PJ)=%{y}<extra></extra>",
         "legendgroup": "Wind",
         "marker": {
          "color": "#0099C6",
          "pattern": {
           "shape": ""
          }
         },
         "name": "Wind",
         "offsetgroup": "Wind",
         "orientation": "v",
         "showlegend": false,
         "textfont": {
          "size": 9
         },
         "textposition": "auto",
         "texttemplate": "%{y:.1f}",
         "type": "bar",
         "x": [
          "CANOE",
          "CEF2023",
          "gTech-IESD"
         ],
         "xaxis": "x3",
         "y": [
          232.6080279551448,
          94.81870425599999,
          87.48069174000001
         ],
         "yaxis": "y3"
        },
        {
         "alignmentgroup": "True",
         "hovertemplate": "Plant Type=Wind<br>Period=2035<br>Source=%{x}<br>Generation (PJ)=%{y}<extra></extra>",
         "legendgroup": "Wind",
         "marker": {
          "color": "#0099C6",
          "pattern": {
           "shape": ""
          }
         },
         "name": "Wind",
         "offsetgroup": "Wind",
         "orientation": "v",
         "showlegend": false,
         "textfont": {
          "size": 9
         },
         "textposition": "auto",
         "texttemplate": "%{y:.1f}",
         "type": "bar",
         "x": [
          "CANOE",
          "CEF2023",
          "gTech-IESD"
         ],
         "xaxis": "x4",
         "y": [
          239.63512213695753,
          122.27765472,
          114.348825828
         ],
         "yaxis": "y4"
        },
        {
         "alignmentgroup": "True",
         "hovertemplate": "Plant Type=Wind<br>Period=2040<br>Source=%{x}<br>Generation (PJ)=%{y}<extra></extra>",
         "legendgroup": "Wind",
         "marker": {
          "color": "#0099C6",
          "pattern": {
           "shape": ""
          }
         },
         "name": "Wind",
         "offsetgroup": "Wind",
         "orientation": "v",
         "showlegend": false,
         "textfont": {
          "size": 9
         },
         "textposition": "auto",
         "texttemplate": "%{y:.1f}",
         "type": "bar",
         "x": [
          "CANOE",
          "CEF2023",
          "gTech-IESD"
         ],
         "xaxis": "x5",
         "y": [
          226.68841301682508,
          229.4615997,
          149.010886692
         ],
         "yaxis": "y5"
        },
        {
         "alignmentgroup": "True",
         "hovertemplate": "Plant Type=Wind<br>Period=2045<br>Source=%{x}<br>Generation (PJ)=%{y}<extra></extra>",
         "legendgroup": "Wind",
         "marker": {
          "color": "#0099C6",
          "pattern": {
           "shape": ""
          }
         },
         "name": "Wind",
         "offsetgroup": "Wind",
         "orientation": "v",
         "showlegend": false,
         "textfont": {
          "size": 9
         },
         "textposition": "auto",
         "texttemplate": "%{y:.1f}",
         "type": "bar",
         "x": [
          "CANOE",
          "CEF2023",
          "gTech-IESD"
         ],
         "xaxis": "x6",
         "y": [
          201.17430441906677,
          290.14034219999996,
          177.75034829999998
         ],
         "yaxis": "y6"
        },
        {
         "alignmentgroup": "True",
         "hovertemplate": "Plant Type=Wind<br>Period=2050<br>Source=%{x}<br>Generation (PJ)=%{y}<extra></extra>",
         "legendgroup": "Wind",
         "marker": {
          "color": "#0099C6",
          "pattern": {
           "shape": ""
          }
         },
         "name": "Wind",
         "offsetgroup": "Wind",
         "orientation": "v",
         "showlegend": false,
         "textfont": {
          "size": 9
         },
         "textposition": "auto",
         "texttemplate": "%{y:.1f}",
         "type": "bar",
         "x": [
          "CANOE",
          "CEF2023",
          "gTech-IESD"
         ],
         "xaxis": "x7",
         "y": [
          198.90196331660442,
          328.99283229599996,
          198.384590448
         ],
         "yaxis": "y7"
        },
        {
         "alignmentgroup": "True",
         "hovertemplate": "Plant Type=Oil<br>Period=2021<br>Source=%{x}<br>Generation (PJ)=%{y}<extra></extra>",
         "legendgroup": "Oil",
         "marker": {
          "color": "#DD4477",
          "pattern": {
           "shape": ""
          }
         },
         "name": "Oil",
         "offsetgroup": "Oil",
         "orientation": "v",
         "showlegend": true,
         "textfont": {
          "size": 9
         },
         "textposition": "auto",
         "texttemplate": "%{y:.1f}",
         "type": "bar",
         "x": [
          "CEF2023"
         ],
         "xaxis": "x",
         "y": [
          0.33609492
         ],
         "yaxis": "y"
        },
        {
         "alignmentgroup": "True",
         "hovertemplate": "Plant Type=Oil<br>Period=2025<br>Source=%{x}<br>Generation (PJ)=%{y}<extra></extra>",
         "legendgroup": "Oil",
         "marker": {
          "color": "#DD4477",
          "pattern": {
           "shape": ""
          }
         },
         "name": "Oil",
         "offsetgroup": "Oil",
         "orientation": "v",
         "showlegend": false,
         "textfont": {
          "size": 9
         },
         "textposition": "auto",
         "texttemplate": "%{y:.1f}",
         "type": "bar",
         "x": [
          "CEF2023"
         ],
         "xaxis": "x2",
         "y": [
          0.293773608
         ],
         "yaxis": "y2"
        },
        {
         "alignmentgroup": "True",
         "hovertemplate": "Plant Type=Oil<br>Period=2030<br>Source=%{x}<br>Generation (PJ)=%{y}<extra></extra>",
         "legendgroup": "Oil",
         "marker": {
          "color": "#DD4477",
          "pattern": {
           "shape": ""
          }
         },
         "name": "Oil",
         "offsetgroup": "Oil",
         "orientation": "v",
         "showlegend": false,
         "textfont": {
          "size": 9
         },
         "textposition": "auto",
         "texttemplate": "%{y:.1f}",
         "type": "bar",
         "x": [
          "CEF2023"
         ],
         "xaxis": "x3",
         "y": [
          0.049183419456
         ],
         "yaxis": "y3"
        },
        {
         "alignmentgroup": "True",
         "hovertemplate": "Plant Type=Oil<br>Period=2035<br>Source=%{x}<br>Generation (PJ)=%{y}<extra></extra>",
         "legendgroup": "Oil",
         "marker": {
          "color": "#DD4477",
          "pattern": {
           "shape": ""
          }
         },
         "name": "Oil",
         "offsetgroup": "Oil",
         "orientation": "v",
         "showlegend": false,
         "textfont": {
          "size": 9
         },
         "textposition": "auto",
         "texttemplate": "%{y:.1f}",
         "type": "bar",
         "x": [
          "CEF2023"
         ],
         "xaxis": "x4",
         "y": [
          0.049183419456
         ],
         "yaxis": "y4"
        },
        {
         "alignmentgroup": "True",
         "hovertemplate": "Plant Type=Oil<br>Period=2040<br>Source=%{x}<br>Generation (PJ)=%{y}<extra></extra>",
         "legendgroup": "Oil",
         "marker": {
          "color": "#DD4477",
          "pattern": {
           "shape": ""
          }
         },
         "name": "Oil",
         "offsetgroup": "Oil",
         "orientation": "v",
         "showlegend": false,
         "textfont": {
          "size": 9
         },
         "textposition": "auto",
         "texttemplate": "%{y:.1f}",
         "type": "bar",
         "x": [
          "CEF2023"
         ],
         "xaxis": "x5",
         "y": [
          0
         ],
         "yaxis": "y5"
        },
        {
         "alignmentgroup": "True",
         "hovertemplate": "Plant Type=Oil<br>Period=2045<br>Source=%{x}<br>Generation (PJ)=%{y}<extra></extra>",
         "legendgroup": "Oil",
         "marker": {
          "color": "#DD4477",
          "pattern": {
           "shape": ""
          }
         },
         "name": "Oil",
         "offsetgroup": "Oil",
         "orientation": "v",
         "showlegend": false,
         "textfont": {
          "size": 9
         },
         "textposition": "auto",
         "texttemplate": "%{y:.1f}",
         "type": "bar",
         "x": [
          "CEF2023"
         ],
         "xaxis": "x6",
         "y": [
          0
         ],
         "yaxis": "y6"
        },
        {
         "alignmentgroup": "True",
         "hovertemplate": "Plant Type=Oil<br>Period=2050<br>Source=%{x}<br>Generation (PJ)=%{y}<extra></extra>",
         "legendgroup": "Oil",
         "marker": {
          "color": "#DD4477",
          "pattern": {
           "shape": ""
          }
         },
         "name": "Oil",
         "offsetgroup": "Oil",
         "orientation": "v",
         "showlegend": false,
         "textfont": {
          "size": 9
         },
         "textposition": "auto",
         "texttemplate": "%{y:.1f}",
         "type": "bar",
         "x": [
          "CEF2023"
         ],
         "xaxis": "x7",
         "y": [
          0
         ],
         "yaxis": "y7"
        },
        {
         "alignmentgroup": "True",
         "hovertemplate": "Plant Type=Other<br>Period=2021<br>Source=%{x}<br>Generation (PJ)=%{y}<extra></extra>",
         "legendgroup": "Other",
         "marker": {
          "color": "#B82E2E",
          "pattern": {
           "shape": ""
          }
         },
         "name": "Other",
         "offsetgroup": "Other",
         "orientation": "v",
         "showlegend": true,
         "textfont": {
          "size": 9
         },
         "textposition": "auto",
         "texttemplate": "%{y:.1f}",
         "type": "bar",
         "x": [
          "gTech-IESD"
         ],
         "xaxis": "x",
         "y": [
          11.7506862252
         ],
         "yaxis": "y"
        },
        {
         "alignmentgroup": "True",
         "hovertemplate": "Plant Type=Other<br>Period=2025<br>Source=%{x}<br>Generation (PJ)=%{y}<extra></extra>",
         "legendgroup": "Other",
         "marker": {
          "color": "#B82E2E",
          "pattern": {
           "shape": ""
          }
         },
         "name": "Other",
         "offsetgroup": "Other",
         "orientation": "v",
         "showlegend": false,
         "textfont": {
          "size": 9
         },
         "textposition": "auto",
         "texttemplate": "%{y:.1f}",
         "type": "bar",
         "x": [
          "gTech-IESD"
         ],
         "xaxis": "x2",
         "y": [
          11.0450424492
         ],
         "yaxis": "y2"
        },
        {
         "alignmentgroup": "True",
         "hovertemplate": "Plant Type=Other<br>Period=2030<br>Source=%{x}<br>Generation (PJ)=%{y}<extra></extra>",
         "legendgroup": "Other",
         "marker": {
          "color": "#B82E2E",
          "pattern": {
           "shape": ""
          }
         },
         "name": "Other",
         "offsetgroup": "Other",
         "orientation": "v",
         "showlegend": false,
         "textfont": {
          "size": 9
         },
         "textposition": "auto",
         "texttemplate": "%{y:.1f}",
         "type": "bar",
         "x": [
          "gTech-IESD"
         ],
         "xaxis": "x3",
         "y": [
          10.3935607416
         ],
         "yaxis": "y3"
        },
        {
         "alignmentgroup": "True",
         "hovertemplate": "Plant Type=Other<br>Period=2035<br>Source=%{x}<br>Generation (PJ)=%{y}<extra></extra>",
         "legendgroup": "Other",
         "marker": {
          "color": "#B82E2E",
          "pattern": {
           "shape": ""
          }
         },
         "name": "Other",
         "offsetgroup": "Other",
         "orientation": "v",
         "showlegend": false,
         "textfont": {
          "size": 9
         },
         "textposition": "auto",
         "texttemplate": "%{y:.1f}",
         "type": "bar",
         "x": [
          "gTech-IESD"
         ],
         "xaxis": "x4",
         "y": [
          11.053449115200001
         ],
         "yaxis": "y4"
        },
        {
         "alignmentgroup": "True",
         "hovertemplate": "Plant Type=Other<br>Period=2040<br>Source=%{x}<br>Generation (PJ)=%{y}<extra></extra>",
         "legendgroup": "Other",
         "marker": {
          "color": "#B82E2E",
          "pattern": {
           "shape": ""
          }
         },
         "name": "Other",
         "offsetgroup": "Other",
         "orientation": "v",
         "showlegend": false,
         "textfont": {
          "size": 9
         },
         "textposition": "auto",
         "texttemplate": "%{y:.1f}",
         "type": "bar",
         "x": [
          "gTech-IESD"
         ],
         "xaxis": "x5",
         "y": [
          11.9596665132
         ],
         "yaxis": "y5"
        },
        {
         "alignmentgroup": "True",
         "hovertemplate": "Plant Type=Other<br>Period=2045<br>Source=%{x}<br>Generation (PJ)=%{y}<extra></extra>",
         "legendgroup": "Other",
         "marker": {
          "color": "#B82E2E",
          "pattern": {
           "shape": ""
          }
         },
         "name": "Other",
         "offsetgroup": "Other",
         "orientation": "v",
         "showlegend": false,
         "textfont": {
          "size": 9
         },
         "textposition": "auto",
         "texttemplate": "%{y:.1f}",
         "type": "bar",
         "x": [
          "gTech-IESD"
         ],
         "xaxis": "x6",
         "y": [
          12.8794867884
         ],
         "yaxis": "y6"
        },
        {
         "alignmentgroup": "True",
         "hovertemplate": "Plant Type=Other<br>Period=2050<br>Source=%{x}<br>Generation (PJ)=%{y}<extra></extra>",
         "legendgroup": "Other",
         "marker": {
          "color": "#B82E2E",
          "pattern": {
           "shape": ""
          }
         },
         "name": "Other",
         "offsetgroup": "Other",
         "orientation": "v",
         "showlegend": false,
         "textfont": {
          "size": 9
         },
         "textposition": "auto",
         "texttemplate": "%{y:.1f}",
         "type": "bar",
         "x": [
          "gTech-IESD"
         ],
         "xaxis": "x7",
         "y": [
          13.6907542188
         ],
         "yaxis": "y7"
        }
       ],
       "layout": {
        "annotations": [
         {
          "font": {},
          "showarrow": false,
          "text": "2021",
          "x": 0.06285714285714285,
          "xanchor": "center",
          "xref": "paper",
          "y": -0.1,
          "yanchor": "top",
          "yref": "paper"
         },
         {
          "font": {},
          "showarrow": false,
          "text": "2025",
          "x": 0.20857142857142852,
          "xanchor": "center",
          "xref": "paper",
          "y": -0.1,
          "yanchor": "top",
          "yref": "paper"
         },
         {
          "font": {},
          "showarrow": false,
          "text": "2030",
          "x": 0.3542857142857142,
          "xanchor": "center",
          "xref": "paper",
          "y": -0.1,
          "yanchor": "top",
          "yref": "paper"
         },
         {
          "font": {},
          "showarrow": false,
          "text": "2035",
          "x": 0.5,
          "xanchor": "center",
          "xref": "paper",
          "y": -0.1,
          "yanchor": "top",
          "yref": "paper"
         },
         {
          "font": {},
          "showarrow": false,
          "text": "2040",
          "x": 0.6457142857142856,
          "xanchor": "center",
          "xref": "paper",
          "y": -0.1,
          "yanchor": "top",
          "yref": "paper"
         },
         {
          "font": {},
          "showarrow": false,
          "text": "2045",
          "x": 0.7914285714285713,
          "xanchor": "center",
          "xref": "paper",
          "y": -0.1,
          "yanchor": "top",
          "yref": "paper"
         },
         {
          "font": {},
          "showarrow": false,
          "text": "2050",
          "x": 0.937142857142857,
          "xanchor": "center",
          "xref": "paper",
          "y": -0.1,
          "yanchor": "top",
          "yref": "paper"
         }
        ],
        "bargap": 0.1,
        "barmode": "stack",
        "font": {
         "size": 14
        },
        "height": 650,
        "legend": {
         "orientation": "h",
         "title": {
          "text": ""
         },
         "tracegroupgap": 0,
         "x": 0.5,
         "xanchor": "center",
         "y": 1.04,
         "yanchor": "top"
        },
        "margin": {
         "t": 60
        },
        "template": {
         "data": {
          "bar": [
           {
            "error_x": {
             "color": "#2a3f5f"
            },
            "error_y": {
             "color": "#2a3f5f"
            },
            "marker": {
             "line": {
              "color": "white",
              "width": 0.5
             },
             "pattern": {
              "fillmode": "overlay",
              "size": 10,
              "solidity": 0.2
             }
            },
            "type": "bar"
           }
          ],
          "barpolar": [
           {
            "marker": {
             "line": {
              "color": "white",
              "width": 0.5
             },
             "pattern": {
              "fillmode": "overlay",
              "size": 10,
              "solidity": 0.2
             }
            },
            "type": "barpolar"
           }
          ],
          "carpet": [
           {
            "aaxis": {
             "endlinecolor": "#2a3f5f",
             "gridcolor": "#C8D4E3",
             "linecolor": "#C8D4E3",
             "minorgridcolor": "#C8D4E3",
             "startlinecolor": "#2a3f5f"
            },
            "baxis": {
             "endlinecolor": "#2a3f5f",
             "gridcolor": "#C8D4E3",
             "linecolor": "#C8D4E3",
             "minorgridcolor": "#C8D4E3",
             "startlinecolor": "#2a3f5f"
            },
            "type": "carpet"
           }
          ],
          "choropleth": [
           {
            "colorbar": {
             "outlinewidth": 0,
             "ticks": ""
            },
            "type": "choropleth"
           }
          ],
          "contour": [
           {
            "colorbar": {
             "outlinewidth": 0,
             "ticks": ""
            },
            "colorscale": [
             [
              0,
              "#0d0887"
             ],
             [
              0.1111111111111111,
              "#46039f"
             ],
             [
              0.2222222222222222,
              "#7201a8"
             ],
             [
              0.3333333333333333,
              "#9c179e"
             ],
             [
              0.4444444444444444,
              "#bd3786"
             ],
             [
              0.5555555555555556,
              "#d8576b"
             ],
             [
              0.6666666666666666,
              "#ed7953"
             ],
             [
              0.7777777777777778,
              "#fb9f3a"
             ],
             [
              0.8888888888888888,
              "#fdca26"
             ],
             [
              1,
              "#f0f921"
             ]
            ],
            "type": "contour"
           }
          ],
          "contourcarpet": [
           {
            "colorbar": {
             "outlinewidth": 0,
             "ticks": ""
            },
            "type": "contourcarpet"
           }
          ],
          "heatmap": [
           {
            "colorbar": {
             "outlinewidth": 0,
             "ticks": ""
            },
            "colorscale": [
             [
              0,
              "#0d0887"
             ],
             [
              0.1111111111111111,
              "#46039f"
             ],
             [
              0.2222222222222222,
              "#7201a8"
             ],
             [
              0.3333333333333333,
              "#9c179e"
             ],
             [
              0.4444444444444444,
              "#bd3786"
             ],
             [
              0.5555555555555556,
              "#d8576b"
             ],
             [
              0.6666666666666666,
              "#ed7953"
             ],
             [
              0.7777777777777778,
              "#fb9f3a"
             ],
             [
              0.8888888888888888,
              "#fdca26"
             ],
             [
              1,
              "#f0f921"
             ]
            ],
            "type": "heatmap"
           }
          ],
          "heatmapgl": [
           {
            "colorbar": {
             "outlinewidth": 0,
             "ticks": ""
            },
            "colorscale": [
             [
              0,
              "#0d0887"
             ],
             [
              0.1111111111111111,
              "#46039f"
             ],
             [
              0.2222222222222222,
              "#7201a8"
             ],
             [
              0.3333333333333333,
              "#9c179e"
             ],
             [
              0.4444444444444444,
              "#bd3786"
             ],
             [
              0.5555555555555556,
              "#d8576b"
             ],
             [
              0.6666666666666666,
              "#ed7953"
             ],
             [
              0.7777777777777778,
              "#fb9f3a"
             ],
             [
              0.8888888888888888,
              "#fdca26"
             ],
             [
              1,
              "#f0f921"
             ]
            ],
            "type": "heatmapgl"
           }
          ],
          "histogram": [
           {
            "marker": {
             "pattern": {
              "fillmode": "overlay",
              "size": 10,
              "solidity": 0.2
             }
            },
            "type": "histogram"
           }
          ],
          "histogram2d": [
           {
            "colorbar": {
             "outlinewidth": 0,
             "ticks": ""
            },
            "colorscale": [
             [
              0,
              "#0d0887"
             ],
             [
              0.1111111111111111,
              "#46039f"
             ],
             [
              0.2222222222222222,
              "#7201a8"
             ],
             [
              0.3333333333333333,
              "#9c179e"
             ],
             [
              0.4444444444444444,
              "#bd3786"
             ],
             [
              0.5555555555555556,
              "#d8576b"
             ],
             [
              0.6666666666666666,
              "#ed7953"
             ],
             [
              0.7777777777777778,
              "#fb9f3a"
             ],
             [
              0.8888888888888888,
              "#fdca26"
             ],
             [
              1,
              "#f0f921"
             ]
            ],
            "type": "histogram2d"
           }
          ],
          "histogram2dcontour": [
           {
            "colorbar": {
             "outlinewidth": 0,
             "ticks": ""
            },
            "colorscale": [
             [
              0,
              "#0d0887"
             ],
             [
              0.1111111111111111,
              "#46039f"
             ],
             [
              0.2222222222222222,
              "#7201a8"
             ],
             [
              0.3333333333333333,
              "#9c179e"
             ],
             [
              0.4444444444444444,
              "#bd3786"
             ],
             [
              0.5555555555555556,
              "#d8576b"
             ],
             [
              0.6666666666666666,
              "#ed7953"
             ],
             [
              0.7777777777777778,
              "#fb9f3a"
             ],
             [
              0.8888888888888888,
              "#fdca26"
             ],
             [
              1,
              "#f0f921"
             ]
            ],
            "type": "histogram2dcontour"
           }
          ],
          "mesh3d": [
           {
            "colorbar": {
             "outlinewidth": 0,
             "ticks": ""
            },
            "type": "mesh3d"
           }
          ],
          "parcoords": [
           {
            "line": {
             "colorbar": {
              "outlinewidth": 0,
              "ticks": ""
             }
            },
            "type": "parcoords"
           }
          ],
          "pie": [
           {
            "automargin": true,
            "type": "pie"
           }
          ],
          "scatter": [
           {
            "fillpattern": {
             "fillmode": "overlay",
             "size": 10,
             "solidity": 0.2
            },
            "type": "scatter"
           }
          ],
          "scatter3d": [
           {
            "line": {
             "colorbar": {
              "outlinewidth": 0,
              "ticks": ""
             }
            },
            "marker": {
             "colorbar": {
              "outlinewidth": 0,
              "ticks": ""
             }
            },
            "type": "scatter3d"
           }
          ],
          "scattercarpet": [
           {
            "marker": {
             "colorbar": {
              "outlinewidth": 0,
              "ticks": ""
             }
            },
            "type": "scattercarpet"
           }
          ],
          "scattergeo": [
           {
            "marker": {
             "colorbar": {
              "outlinewidth": 0,
              "ticks": ""
             }
            },
            "type": "scattergeo"
           }
          ],
          "scattergl": [
           {
            "marker": {
             "colorbar": {
              "outlinewidth": 0,
              "ticks": ""
             }
            },
            "type": "scattergl"
           }
          ],
          "scattermapbox": [
           {
            "marker": {
             "colorbar": {
              "outlinewidth": 0,
              "ticks": ""
             }
            },
            "type": "scattermapbox"
           }
          ],
          "scatterpolar": [
           {
            "marker": {
             "colorbar": {
              "outlinewidth": 0,
              "ticks": ""
             }
            },
            "type": "scatterpolar"
           }
          ],
          "scatterpolargl": [
           {
            "marker": {
             "colorbar": {
              "outlinewidth": 0,
              "ticks": ""
             }
            },
            "type": "scatterpolargl"
           }
          ],
          "scatterternary": [
           {
            "marker": {
             "colorbar": {
              "outlinewidth": 0,
              "ticks": ""
             }
            },
            "type": "scatterternary"
           }
          ],
          "surface": [
           {
            "colorbar": {
             "outlinewidth": 0,
             "ticks": ""
            },
            "colorscale": [
             [
              0,
              "#0d0887"
             ],
             [
              0.1111111111111111,
              "#46039f"
             ],
             [
              0.2222222222222222,
              "#7201a8"
             ],
             [
              0.3333333333333333,
              "#9c179e"
             ],
             [
              0.4444444444444444,
              "#bd3786"
             ],
             [
              0.5555555555555556,
              "#d8576b"
             ],
             [
              0.6666666666666666,
              "#ed7953"
             ],
             [
              0.7777777777777778,
              "#fb9f3a"
             ],
             [
              0.8888888888888888,
              "#fdca26"
             ],
             [
              1,
              "#f0f921"
             ]
            ],
            "type": "surface"
           }
          ],
          "table": [
           {
            "cells": {
             "fill": {
              "color": "#EBF0F8"
             },
             "line": {
              "color": "white"
             }
            },
            "header": {
             "fill": {
              "color": "#C8D4E3"
             },
             "line": {
              "color": "white"
             }
            },
            "type": "table"
           }
          ]
         },
         "layout": {
          "annotationdefaults": {
           "arrowcolor": "#2a3f5f",
           "arrowhead": 0,
           "arrowwidth": 1
          },
          "autotypenumbers": "strict",
          "coloraxis": {
           "colorbar": {
            "outlinewidth": 0,
            "ticks": ""
           }
          },
          "colorscale": {
           "diverging": [
            [
             0,
             "#8e0152"
            ],
            [
             0.1,
             "#c51b7d"
            ],
            [
             0.2,
             "#de77ae"
            ],
            [
             0.3,
             "#f1b6da"
            ],
            [
             0.4,
             "#fde0ef"
            ],
            [
             0.5,
             "#f7f7f7"
            ],
            [
             0.6,
             "#e6f5d0"
            ],
            [
             0.7,
             "#b8e186"
            ],
            [
             0.8,
             "#7fbc41"
            ],
            [
             0.9,
             "#4d9221"
            ],
            [
             1,
             "#276419"
            ]
           ],
           "sequential": [
            [
             0,
             "#0d0887"
            ],
            [
             0.1111111111111111,
             "#46039f"
            ],
            [
             0.2222222222222222,
             "#7201a8"
            ],
            [
             0.3333333333333333,
             "#9c179e"
            ],
            [
             0.4444444444444444,
             "#bd3786"
            ],
            [
             0.5555555555555556,
             "#d8576b"
            ],
            [
             0.6666666666666666,
             "#ed7953"
            ],
            [
             0.7777777777777778,
             "#fb9f3a"
            ],
            [
             0.8888888888888888,
             "#fdca26"
            ],
            [
             1,
             "#f0f921"
            ]
           ],
           "sequentialminus": [
            [
             0,
             "#0d0887"
            ],
            [
             0.1111111111111111,
             "#46039f"
            ],
            [
             0.2222222222222222,
             "#7201a8"
            ],
            [
             0.3333333333333333,
             "#9c179e"
            ],
            [
             0.4444444444444444,
             "#bd3786"
            ],
            [
             0.5555555555555556,
             "#d8576b"
            ],
            [
             0.6666666666666666,
             "#ed7953"
            ],
            [
             0.7777777777777778,
             "#fb9f3a"
            ],
            [
             0.8888888888888888,
             "#fdca26"
            ],
            [
             1,
             "#f0f921"
            ]
           ]
          },
          "colorway": [
           "#636efa",
           "#EF553B",
           "#00cc96",
           "#ab63fa",
           "#FFA15A",
           "#19d3f3",
           "#FF6692",
           "#B6E880",
           "#FF97FF",
           "#FECB52"
          ],
          "font": {
           "color": "#2a3f5f"
          },
          "geo": {
           "bgcolor": "white",
           "lakecolor": "white",
           "landcolor": "white",
           "showlakes": true,
           "showland": true,
           "subunitcolor": "#C8D4E3"
          },
          "hoverlabel": {
           "align": "left"
          },
          "hovermode": "closest",
          "mapbox": {
           "style": "light"
          },
          "paper_bgcolor": "white",
          "plot_bgcolor": "white",
          "polar": {
           "angularaxis": {
            "gridcolor": "#EBF0F8",
            "linecolor": "#EBF0F8",
            "ticks": ""
           },
           "bgcolor": "white",
           "radialaxis": {
            "gridcolor": "#EBF0F8",
            "linecolor": "#EBF0F8",
            "ticks": ""
           }
          },
          "scene": {
           "xaxis": {
            "backgroundcolor": "white",
            "gridcolor": "#DFE8F3",
            "gridwidth": 2,
            "linecolor": "#EBF0F8",
            "showbackground": true,
            "ticks": "",
            "zerolinecolor": "#EBF0F8"
           },
           "yaxis": {
            "backgroundcolor": "white",
            "gridcolor": "#DFE8F3",
            "gridwidth": 2,
            "linecolor": "#EBF0F8",
            "showbackground": true,
            "ticks": "",
            "zerolinecolor": "#EBF0F8"
           },
           "zaxis": {
            "backgroundcolor": "white",
            "gridcolor": "#DFE8F3",
            "gridwidth": 2,
            "linecolor": "#EBF0F8",
            "showbackground": true,
            "ticks": "",
            "zerolinecolor": "#EBF0F8"
           }
          },
          "shapedefaults": {
           "line": {
            "color": "#2a3f5f"
           }
          },
          "ternary": {
           "aaxis": {
            "gridcolor": "#DFE8F3",
            "linecolor": "#A2B1C6",
            "ticks": ""
           },
           "baxis": {
            "gridcolor": "#DFE8F3",
            "linecolor": "#A2B1C6",
            "ticks": ""
           },
           "bgcolor": "white",
           "caxis": {
            "gridcolor": "#DFE8F3",
            "linecolor": "#A2B1C6",
            "ticks": ""
           }
          },
          "title": {
           "x": 0.05
          },
          "xaxis": {
           "automargin": true,
           "gridcolor": "#EBF0F8",
           "linecolor": "#EBF0F8",
           "ticks": "",
           "title": {
            "standoff": 15
           },
           "zerolinecolor": "#EBF0F8",
           "zerolinewidth": 2
          },
          "yaxis": {
           "automargin": true,
           "gridcolor": "#EBF0F8",
           "linecolor": "#EBF0F8",
           "ticks": "",
           "title": {
            "standoff": 15
           },
           "zerolinecolor": "#EBF0F8",
           "zerolinewidth": 2
          }
         }
        },
        "title": {
         "text": "Electricity generation in ON by plant type",
         "x": 0.5,
         "xanchor": "center",
         "y": 0.97,
         "yanchor": "top"
        },
        "width": 1200,
        "xaxis": {
         "anchor": "y",
         "domain": [
          0,
          0.1257142857142857
         ],
         "title": {
          "text": ""
         }
        },
        "xaxis2": {
         "anchor": "y2",
         "domain": [
          0.14571428571428569,
          0.27142857142857135
         ],
         "matches": "x",
         "title": {
          "text": ""
         }
        },
        "xaxis3": {
         "anchor": "y3",
         "domain": [
          0.29142857142857137,
          0.41714285714285704
         ],
         "matches": "x",
         "title": {
          "text": ""
         }
        },
        "xaxis4": {
         "anchor": "y4",
         "domain": [
          0.4371428571428571,
          0.5628571428571428
         ],
         "matches": "x",
         "title": {
          "text": ""
         }
        },
        "xaxis5": {
         "anchor": "y5",
         "domain": [
          0.5828571428571427,
          0.7085714285714284
         ],
         "matches": "x",
         "title": {
          "text": ""
         }
        },
        "xaxis6": {
         "anchor": "y6",
         "domain": [
          0.7285714285714284,
          0.8542857142857141
         ],
         "matches": "x",
         "title": {
          "text": ""
         }
        },
        "xaxis7": {
         "anchor": "y7",
         "domain": [
          0.8742857142857142,
          0.9999999999999999
         ],
         "matches": "x",
         "title": {
          "text": ""
         }
        },
        "yaxis": {
         "anchor": "x",
         "domain": [
          0,
          1
         ],
         "dtick": 200,
         "title": {
          "standoff": 0,
          "text": "Generation (PJ)"
         }
        },
        "yaxis2": {
         "anchor": "x2",
         "domain": [
          0,
          1
         ],
         "matches": "y",
         "showticklabels": false
        },
        "yaxis3": {
         "anchor": "x3",
         "domain": [
          0,
          1
         ],
         "matches": "y",
         "showticklabels": false
        },
        "yaxis4": {
         "anchor": "x4",
         "domain": [
          0,
          1
         ],
         "matches": "y",
         "showticklabels": false
        },
        "yaxis5": {
         "anchor": "x5",
         "domain": [
          0,
          1
         ],
         "matches": "y",
         "showticklabels": false
        },
        "yaxis6": {
         "anchor": "x6",
         "domain": [
          0,
          1
         ],
         "matches": "y",
         "showticklabels": false
        },
        "yaxis7": {
         "anchor": "x7",
         "domain": [
          0,
          1
         ],
         "matches": "y",
         "showticklabels": false
        }
       }
      }
     },
     "metadata": {},
     "output_type": "display_data"
    }
   ],
   "source": [
    "bau23_gen['Generation (PJ)'] = bau23_gen['Generation (GWh)'] * 0.0036\n",
    "bau23_fig = bau23_gen[['Period', 'Plant Type', 'Generation (PJ)']].copy()\n",
    "bau23_fig['Plant Type'] = bau23_fig['Plant Type'].replace({'Hydro / Wave / Tidal': 'Hydro', 'Biomass / Geothermal': 'Biomass', 'Uranium': 'Nuclear'})\n",
    "ref_fig = ref_elcact[ref_elcact['Plant Type'] != 'Other'].groupby(['Period', 'Plant Type'], as_index=False).sum('Generation (PJ)')\n",
    "gtech23_ref_gen['Generation (PJ)'] = gtech23_ref_gen['Generation (TWh)'] * 3.6\n",
    "gtech23_fig = gtech23_ref_gen.copy()\n",
    "gtech23_fig['Period'] = gtech23_fig['Period'].astype(str)\n",
    "\n",
    "gtech23_fig['Source'] = 'gTech-IESD'\n",
    "bau23_fig['Source'] = 'CEF2023'\n",
    "ref_fig['Source'] = 'CANOE'\n",
    "fig_df = pd.concat([ref_fig[['Period', 'Plant Type', 'Generation (PJ)', 'Source']], bau23_fig[['Period', 'Plant Type', 'Generation (PJ)', 'Source']], gtech23_fig[['Period', 'Plant Type', 'Generation (PJ)', 'Source']]])\n",
    "\n",
    "fig = px.bar(fig_df, \n",
    "             x='Source', \n",
    "             y='Generation (PJ)', \n",
    "             color='Plant Type', \n",
    "             barmode='stack', \n",
    "             facet_col='Period',\n",
    "             facet_col_spacing=2E-2,\n",
    "             template='plotly_white',\n",
    "             color_discrete_sequence=px.colors.qualitative.G10[:7] + px.colors.qualitative.G10[8:],\n",
    "             text_auto='.1f',\n",
    "             width=1200, height=650,\n",
    "             )\n",
    "\n",
    "fig.update_layout(title=dict(\n",
    "        text='Electricity generation in ON by plant type',\n",
    "        x=0.5, \n",
    "        y=0.97,\n",
    "        xanchor='center',\n",
    "        yanchor='top'\n",
    "    ),\n",
    "    xaxis=dict(title='Period'),\n",
    "    yaxis=dict(title='Generation (PJ)',\n",
    "               dtick=200),\n",
    "    yaxis_title_standoff=0,\n",
    "    legend_title_text='',\n",
    "    bargap=0.1,\n",
    "    legend=dict(\n",
    "        orientation='h',  \n",
    "        yanchor='top',\n",
    "        y=1.04,  \n",
    "        xanchor='center',\n",
    "        x=0.5),\n",
    "    font=dict(\n",
    "        # family=\"Open Sans\",\n",
    "        size=14)\n",
    "    )\n",
    "\n",
    "for annotation in fig.layout.annotations:\n",
    "    annotation.text = annotation.text.split('=')[1]\n",
    "    annotation.y = -0.1  \n",
    "    annotation.yanchor = 'top' \n",
    "\n",
    "for axis in fig.layout:\n",
    "    if axis.startswith('xaxis'):\n",
    "        fig.layout[axis].title.text = ''\n",
    "\n",
    "fig.for_each_trace(lambda trace: trace.update(textfont=dict(size=9)))\n",
    "\n",
    "fig.show()"
   ]
  },
  {
   "cell_type": "markdown",
   "metadata": {},
   "source": [
    "# Added capacity"
   ]
  },
  {
   "cell_type": "code",
   "execution_count": 32,
   "metadata": {},
   "outputs": [],
   "source": [
    "# ref_newcap_elc = ref_newcap[(ref_newcap['Sector'] == 'electricity')].copy()\n",
    "# ref_newcap_elc['Plant Type'] = ref_newcap_elc['Technology'].apply(map_tech_to_plant)"
   ]
  },
  {
   "cell_type": "code",
   "execution_count": 33,
   "metadata": {},
   "outputs": [],
   "source": [
    "ref_elcnewcap.columns = ref_elcnewcap.columns.astype(str)\n",
    "periods = [col for col in ref_elcnewcap.columns if col.isdigit()]\n",
    "params = [col for col in ref_elcnewcap.columns if not col.isdigit()]\n",
    "ref_elcnewcap = pd.melt(ref_elcnewcap, id_vars=params, var_name='Period', value_name='New Capacity', value_vars=periods)\n",
    "\n",
    "ref_elcnewcap['Plant Type'] = ref_elcnewcap['Technology'].apply(map_tech_to_plant)"
   ]
  },
  {
   "cell_type": "code",
   "execution_count": 34,
   "metadata": {},
   "outputs": [
    {
     "data": {
      "application/vnd.plotly.v1+json": {
       "config": {
        "plotlyServerURL": "https://plot.ly"
       },
       "data": [
        {
         "alignmentgroup": "True",
         "hovertemplate": "Plant Type=Biomass<br>Period=%{x}<br>New Capacity=%{y}<extra></extra>",
         "legendgroup": "Biomass",
         "marker": {
          "color": "#3366CC",
          "pattern": {
           "shape": ""
          }
         },
         "name": "Biomass",
         "offsetgroup": "Biomass",
         "orientation": "v",
         "showlegend": true,
         "textfont": {
          "size": 9
         },
         "textposition": "auto",
         "texttemplate": "%{y:.1f}",
         "type": "bar",
         "x": [
          "2021",
          "2025",
          "2030",
          "2035",
          "2040",
          "2045",
          "2050"
         ],
         "xaxis": "x",
         "y": [
          0,
          0,
          0,
          0,
          0,
          0,
          0
         ],
         "yaxis": "y"
        },
        {
         "alignmentgroup": "True",
         "hovertemplate": "Plant Type=Hydro<br>Period=%{x}<br>New Capacity=%{y}<extra></extra>",
         "legendgroup": "Hydro",
         "marker": {
          "color": "#DC3912",
          "pattern": {
           "shape": ""
          }
         },
         "name": "Hydro",
         "offsetgroup": "Hydro",
         "orientation": "v",
         "showlegend": true,
         "textfont": {
          "size": 9
         },
         "textposition": "auto",
         "texttemplate": "%{y:.1f}",
         "type": "bar",
         "x": [
          "2021",
          "2025",
          "2030",
          "2035",
          "2040",
          "2045",
          "2050"
         ],
         "xaxis": "x",
         "y": [
          0,
          0,
          0,
          0,
          0,
          0,
          0
         ],
         "yaxis": "y"
        },
        {
         "alignmentgroup": "True",
         "hovertemplate": "Plant Type=Natural Gas<br>Period=%{x}<br>New Capacity=%{y}<extra></extra>",
         "legendgroup": "Natural Gas",
         "marker": {
          "color": "#FF9900",
          "pattern": {
           "shape": ""
          }
         },
         "name": "Natural Gas",
         "offsetgroup": "Natural Gas",
         "orientation": "v",
         "showlegend": true,
         "textfont": {
          "size": 9
         },
         "textposition": "auto",
         "texttemplate": "%{y:.1f}",
         "type": "bar",
         "x": [
          "2021",
          "2025",
          "2030",
          "2035",
          "2040",
          "2045",
          "2050"
         ],
         "xaxis": "x",
         "y": [
          21.712355897159863,
          16.43821436617583,
          19.777115111299487,
          12.890251023363252,
          12.419959232896321,
          12.41991165562669,
          12.419922435331078
         ],
         "yaxis": "y"
        },
        {
         "alignmentgroup": "True",
         "hovertemplate": "Plant Type=Nuclear<br>Period=%{x}<br>New Capacity=%{y}<extra></extra>",
         "legendgroup": "Nuclear",
         "marker": {
          "color": "#109618",
          "pattern": {
           "shape": ""
          }
         },
         "name": "Nuclear",
         "offsetgroup": "Nuclear",
         "orientation": "v",
         "showlegend": true,
         "textfont": {
          "size": 9
         },
         "textposition": "auto",
         "texttemplate": "%{y:.1f}",
         "type": "bar",
         "x": [
          "2021",
          "2025",
          "2030",
          "2035",
          "2040",
          "2045",
          "2050"
         ],
         "xaxis": "x",
         "y": [
          0,
          0,
          0,
          0,
          0,
          0,
          0
         ],
         "yaxis": "y"
        },
        {
         "alignmentgroup": "True",
         "hovertemplate": "Plant Type=Solar<br>Period=%{x}<br>New Capacity=%{y}<extra></extra>",
         "legendgroup": "Solar",
         "marker": {
          "color": "#990099",
          "pattern": {
           "shape": ""
          }
         },
         "name": "Solar",
         "offsetgroup": "Solar",
         "orientation": "v",
         "showlegend": true,
         "textfont": {
          "size": 9
         },
         "textposition": "auto",
         "texttemplate": "%{y:.1f}",
         "type": "bar",
         "x": [
          "2021",
          "2025",
          "2030",
          "2035",
          "2040",
          "2045",
          "2050"
         ],
         "xaxis": "x",
         "y": [
          0,
          0.00001030612228698882,
          0.0000885191791748087,
          8.061510516630268,
          0.00035428352414681297,
          0.0002090280422434599,
          3.151567830710821
         ],
         "yaxis": "y"
        },
        {
         "alignmentgroup": "True",
         "hovertemplate": "Plant Type=Wind<br>Period=%{x}<br>New Capacity=%{y}<extra></extra>",
         "legendgroup": "Wind",
         "marker": {
          "color": "#0099C6",
          "pattern": {
           "shape": ""
          }
         },
         "name": "Wind",
         "offsetgroup": "Wind",
         "orientation": "v",
         "showlegend": true,
         "textfont": {
          "size": 9
         },
         "textposition": "auto",
         "texttemplate": "%{y:.1f}",
         "type": "bar",
         "x": [
          "2021",
          "2025",
          "2030",
          "2035",
          "2040",
          "2045",
          "2050"
         ],
         "xaxis": "x",
         "y": [
          0.00023442893544254044,
          2.5782343025287746,
          11.377583400236972,
          0.7436961019216111,
          0.0004760259742940575,
          0.0001588746457293512,
          0.0002552461593511234
         ],
         "yaxis": "y"
        }
       ],
       "layout": {
        "bargap": 0.2,
        "barmode": "stack",
        "font": {
         "size": 14
        },
        "height": 650,
        "legend": {
         "orientation": "h",
         "title": {
          "text": ""
         },
         "tracegroupgap": 0,
         "x": 0.5,
         "xanchor": "center",
         "y": 1.04,
         "yanchor": "top"
        },
        "margin": {
         "t": 60
        },
        "template": {
         "data": {
          "bar": [
           {
            "error_x": {
             "color": "#2a3f5f"
            },
            "error_y": {
             "color": "#2a3f5f"
            },
            "marker": {
             "line": {
              "color": "white",
              "width": 0.5
             },
             "pattern": {
              "fillmode": "overlay",
              "size": 10,
              "solidity": 0.2
             }
            },
            "type": "bar"
           }
          ],
          "barpolar": [
           {
            "marker": {
             "line": {
              "color": "white",
              "width": 0.5
             },
             "pattern": {
              "fillmode": "overlay",
              "size": 10,
              "solidity": 0.2
             }
            },
            "type": "barpolar"
           }
          ],
          "carpet": [
           {
            "aaxis": {
             "endlinecolor": "#2a3f5f",
             "gridcolor": "#C8D4E3",
             "linecolor": "#C8D4E3",
             "minorgridcolor": "#C8D4E3",
             "startlinecolor": "#2a3f5f"
            },
            "baxis": {
             "endlinecolor": "#2a3f5f",
             "gridcolor": "#C8D4E3",
             "linecolor": "#C8D4E3",
             "minorgridcolor": "#C8D4E3",
             "startlinecolor": "#2a3f5f"
            },
            "type": "carpet"
           }
          ],
          "choropleth": [
           {
            "colorbar": {
             "outlinewidth": 0,
             "ticks": ""
            },
            "type": "choropleth"
           }
          ],
          "contour": [
           {
            "colorbar": {
             "outlinewidth": 0,
             "ticks": ""
            },
            "colorscale": [
             [
              0,
              "#0d0887"
             ],
             [
              0.1111111111111111,
              "#46039f"
             ],
             [
              0.2222222222222222,
              "#7201a8"
             ],
             [
              0.3333333333333333,
              "#9c179e"
             ],
             [
              0.4444444444444444,
              "#bd3786"
             ],
             [
              0.5555555555555556,
              "#d8576b"
             ],
             [
              0.6666666666666666,
              "#ed7953"
             ],
             [
              0.7777777777777778,
              "#fb9f3a"
             ],
             [
              0.8888888888888888,
              "#fdca26"
             ],
             [
              1,
              "#f0f921"
             ]
            ],
            "type": "contour"
           }
          ],
          "contourcarpet": [
           {
            "colorbar": {
             "outlinewidth": 0,
             "ticks": ""
            },
            "type": "contourcarpet"
           }
          ],
          "heatmap": [
           {
            "colorbar": {
             "outlinewidth": 0,
             "ticks": ""
            },
            "colorscale": [
             [
              0,
              "#0d0887"
             ],
             [
              0.1111111111111111,
              "#46039f"
             ],
             [
              0.2222222222222222,
              "#7201a8"
             ],
             [
              0.3333333333333333,
              "#9c179e"
             ],
             [
              0.4444444444444444,
              "#bd3786"
             ],
             [
              0.5555555555555556,
              "#d8576b"
             ],
             [
              0.6666666666666666,
              "#ed7953"
             ],
             [
              0.7777777777777778,
              "#fb9f3a"
             ],
             [
              0.8888888888888888,
              "#fdca26"
             ],
             [
              1,
              "#f0f921"
             ]
            ],
            "type": "heatmap"
           }
          ],
          "heatmapgl": [
           {
            "colorbar": {
             "outlinewidth": 0,
             "ticks": ""
            },
            "colorscale": [
             [
              0,
              "#0d0887"
             ],
             [
              0.1111111111111111,
              "#46039f"
             ],
             [
              0.2222222222222222,
              "#7201a8"
             ],
             [
              0.3333333333333333,
              "#9c179e"
             ],
             [
              0.4444444444444444,
              "#bd3786"
             ],
             [
              0.5555555555555556,
              "#d8576b"
             ],
             [
              0.6666666666666666,
              "#ed7953"
             ],
             [
              0.7777777777777778,
              "#fb9f3a"
             ],
             [
              0.8888888888888888,
              "#fdca26"
             ],
             [
              1,
              "#f0f921"
             ]
            ],
            "type": "heatmapgl"
           }
          ],
          "histogram": [
           {
            "marker": {
             "pattern": {
              "fillmode": "overlay",
              "size": 10,
              "solidity": 0.2
             }
            },
            "type": "histogram"
           }
          ],
          "histogram2d": [
           {
            "colorbar": {
             "outlinewidth": 0,
             "ticks": ""
            },
            "colorscale": [
             [
              0,
              "#0d0887"
             ],
             [
              0.1111111111111111,
              "#46039f"
             ],
             [
              0.2222222222222222,
              "#7201a8"
             ],
             [
              0.3333333333333333,
              "#9c179e"
             ],
             [
              0.4444444444444444,
              "#bd3786"
             ],
             [
              0.5555555555555556,
              "#d8576b"
             ],
             [
              0.6666666666666666,
              "#ed7953"
             ],
             [
              0.7777777777777778,
              "#fb9f3a"
             ],
             [
              0.8888888888888888,
              "#fdca26"
             ],
             [
              1,
              "#f0f921"
             ]
            ],
            "type": "histogram2d"
           }
          ],
          "histogram2dcontour": [
           {
            "colorbar": {
             "outlinewidth": 0,
             "ticks": ""
            },
            "colorscale": [
             [
              0,
              "#0d0887"
             ],
             [
              0.1111111111111111,
              "#46039f"
             ],
             [
              0.2222222222222222,
              "#7201a8"
             ],
             [
              0.3333333333333333,
              "#9c179e"
             ],
             [
              0.4444444444444444,
              "#bd3786"
             ],
             [
              0.5555555555555556,
              "#d8576b"
             ],
             [
              0.6666666666666666,
              "#ed7953"
             ],
             [
              0.7777777777777778,
              "#fb9f3a"
             ],
             [
              0.8888888888888888,
              "#fdca26"
             ],
             [
              1,
              "#f0f921"
             ]
            ],
            "type": "histogram2dcontour"
           }
          ],
          "mesh3d": [
           {
            "colorbar": {
             "outlinewidth": 0,
             "ticks": ""
            },
            "type": "mesh3d"
           }
          ],
          "parcoords": [
           {
            "line": {
             "colorbar": {
              "outlinewidth": 0,
              "ticks": ""
             }
            },
            "type": "parcoords"
           }
          ],
          "pie": [
           {
            "automargin": true,
            "type": "pie"
           }
          ],
          "scatter": [
           {
            "fillpattern": {
             "fillmode": "overlay",
             "size": 10,
             "solidity": 0.2
            },
            "type": "scatter"
           }
          ],
          "scatter3d": [
           {
            "line": {
             "colorbar": {
              "outlinewidth": 0,
              "ticks": ""
             }
            },
            "marker": {
             "colorbar": {
              "outlinewidth": 0,
              "ticks": ""
             }
            },
            "type": "scatter3d"
           }
          ],
          "scattercarpet": [
           {
            "marker": {
             "colorbar": {
              "outlinewidth": 0,
              "ticks": ""
             }
            },
            "type": "scattercarpet"
           }
          ],
          "scattergeo": [
           {
            "marker": {
             "colorbar": {
              "outlinewidth": 0,
              "ticks": ""
             }
            },
            "type": "scattergeo"
           }
          ],
          "scattergl": [
           {
            "marker": {
             "colorbar": {
              "outlinewidth": 0,
              "ticks": ""
             }
            },
            "type": "scattergl"
           }
          ],
          "scattermapbox": [
           {
            "marker": {
             "colorbar": {
              "outlinewidth": 0,
              "ticks": ""
             }
            },
            "type": "scattermapbox"
           }
          ],
          "scatterpolar": [
           {
            "marker": {
             "colorbar": {
              "outlinewidth": 0,
              "ticks": ""
             }
            },
            "type": "scatterpolar"
           }
          ],
          "scatterpolargl": [
           {
            "marker": {
             "colorbar": {
              "outlinewidth": 0,
              "ticks": ""
             }
            },
            "type": "scatterpolargl"
           }
          ],
          "scatterternary": [
           {
            "marker": {
             "colorbar": {
              "outlinewidth": 0,
              "ticks": ""
             }
            },
            "type": "scatterternary"
           }
          ],
          "surface": [
           {
            "colorbar": {
             "outlinewidth": 0,
             "ticks": ""
            },
            "colorscale": [
             [
              0,
              "#0d0887"
             ],
             [
              0.1111111111111111,
              "#46039f"
             ],
             [
              0.2222222222222222,
              "#7201a8"
             ],
             [
              0.3333333333333333,
              "#9c179e"
             ],
             [
              0.4444444444444444,
              "#bd3786"
             ],
             [
              0.5555555555555556,
              "#d8576b"
             ],
             [
              0.6666666666666666,
              "#ed7953"
             ],
             [
              0.7777777777777778,
              "#fb9f3a"
             ],
             [
              0.8888888888888888,
              "#fdca26"
             ],
             [
              1,
              "#f0f921"
             ]
            ],
            "type": "surface"
           }
          ],
          "table": [
           {
            "cells": {
             "fill": {
              "color": "#EBF0F8"
             },
             "line": {
              "color": "white"
             }
            },
            "header": {
             "fill": {
              "color": "#C8D4E3"
             },
             "line": {
              "color": "white"
             }
            },
            "type": "table"
           }
          ]
         },
         "layout": {
          "annotationdefaults": {
           "arrowcolor": "#2a3f5f",
           "arrowhead": 0,
           "arrowwidth": 1
          },
          "autotypenumbers": "strict",
          "coloraxis": {
           "colorbar": {
            "outlinewidth": 0,
            "ticks": ""
           }
          },
          "colorscale": {
           "diverging": [
            [
             0,
             "#8e0152"
            ],
            [
             0.1,
             "#c51b7d"
            ],
            [
             0.2,
             "#de77ae"
            ],
            [
             0.3,
             "#f1b6da"
            ],
            [
             0.4,
             "#fde0ef"
            ],
            [
             0.5,
             "#f7f7f7"
            ],
            [
             0.6,
             "#e6f5d0"
            ],
            [
             0.7,
             "#b8e186"
            ],
            [
             0.8,
             "#7fbc41"
            ],
            [
             0.9,
             "#4d9221"
            ],
            [
             1,
             "#276419"
            ]
           ],
           "sequential": [
            [
             0,
             "#0d0887"
            ],
            [
             0.1111111111111111,
             "#46039f"
            ],
            [
             0.2222222222222222,
             "#7201a8"
            ],
            [
             0.3333333333333333,
             "#9c179e"
            ],
            [
             0.4444444444444444,
             "#bd3786"
            ],
            [
             0.5555555555555556,
             "#d8576b"
            ],
            [
             0.6666666666666666,
             "#ed7953"
            ],
            [
             0.7777777777777778,
             "#fb9f3a"
            ],
            [
             0.8888888888888888,
             "#fdca26"
            ],
            [
             1,
             "#f0f921"
            ]
           ],
           "sequentialminus": [
            [
             0,
             "#0d0887"
            ],
            [
             0.1111111111111111,
             "#46039f"
            ],
            [
             0.2222222222222222,
             "#7201a8"
            ],
            [
             0.3333333333333333,
             "#9c179e"
            ],
            [
             0.4444444444444444,
             "#bd3786"
            ],
            [
             0.5555555555555556,
             "#d8576b"
            ],
            [
             0.6666666666666666,
             "#ed7953"
            ],
            [
             0.7777777777777778,
             "#fb9f3a"
            ],
            [
             0.8888888888888888,
             "#fdca26"
            ],
            [
             1,
             "#f0f921"
            ]
           ]
          },
          "colorway": [
           "#636efa",
           "#EF553B",
           "#00cc96",
           "#ab63fa",
           "#FFA15A",
           "#19d3f3",
           "#FF6692",
           "#B6E880",
           "#FF97FF",
           "#FECB52"
          ],
          "font": {
           "color": "#2a3f5f"
          },
          "geo": {
           "bgcolor": "white",
           "lakecolor": "white",
           "landcolor": "white",
           "showlakes": true,
           "showland": true,
           "subunitcolor": "#C8D4E3"
          },
          "hoverlabel": {
           "align": "left"
          },
          "hovermode": "closest",
          "mapbox": {
           "style": "light"
          },
          "paper_bgcolor": "white",
          "plot_bgcolor": "white",
          "polar": {
           "angularaxis": {
            "gridcolor": "#EBF0F8",
            "linecolor": "#EBF0F8",
            "ticks": ""
           },
           "bgcolor": "white",
           "radialaxis": {
            "gridcolor": "#EBF0F8",
            "linecolor": "#EBF0F8",
            "ticks": ""
           }
          },
          "scene": {
           "xaxis": {
            "backgroundcolor": "white",
            "gridcolor": "#DFE8F3",
            "gridwidth": 2,
            "linecolor": "#EBF0F8",
            "showbackground": true,
            "ticks": "",
            "zerolinecolor": "#EBF0F8"
           },
           "yaxis": {
            "backgroundcolor": "white",
            "gridcolor": "#DFE8F3",
            "gridwidth": 2,
            "linecolor": "#EBF0F8",
            "showbackground": true,
            "ticks": "",
            "zerolinecolor": "#EBF0F8"
           },
           "zaxis": {
            "backgroundcolor": "white",
            "gridcolor": "#DFE8F3",
            "gridwidth": 2,
            "linecolor": "#EBF0F8",
            "showbackground": true,
            "ticks": "",
            "zerolinecolor": "#EBF0F8"
           }
          },
          "shapedefaults": {
           "line": {
            "color": "#2a3f5f"
           }
          },
          "ternary": {
           "aaxis": {
            "gridcolor": "#DFE8F3",
            "linecolor": "#A2B1C6",
            "ticks": ""
           },
           "baxis": {
            "gridcolor": "#DFE8F3",
            "linecolor": "#A2B1C6",
            "ticks": ""
           },
           "bgcolor": "white",
           "caxis": {
            "gridcolor": "#DFE8F3",
            "linecolor": "#A2B1C6",
            "ticks": ""
           }
          },
          "title": {
           "x": 0.05
          },
          "xaxis": {
           "automargin": true,
           "gridcolor": "#EBF0F8",
           "linecolor": "#EBF0F8",
           "ticks": "",
           "title": {
            "standoff": 15
           },
           "zerolinecolor": "#EBF0F8",
           "zerolinewidth": 2
          },
          "yaxis": {
           "automargin": true,
           "gridcolor": "#EBF0F8",
           "linecolor": "#EBF0F8",
           "ticks": "",
           "title": {
            "standoff": 15
           },
           "zerolinecolor": "#EBF0F8",
           "zerolinewidth": 2
          }
         }
        },
        "title": {
         "text": "Electricity capacity expansion in ON by plant type",
         "x": 0.5,
         "xanchor": "center",
         "y": 0.97,
         "yanchor": "top"
        },
        "width": 1200,
        "xaxis": {
         "anchor": "y",
         "domain": [
          0,
          1
         ],
         "title": {
          "text": ""
         }
        },
        "yaxis": {
         "anchor": "x",
         "domain": [
          0,
          1
         ],
         "dtick": 5,
         "title": {
          "standoff": 0,
          "text": "New Capacity (GW)"
         }
        }
       }
      }
     },
     "metadata": {},
     "output_type": "display_data"
    }
   ],
   "source": [
    "ref_fig = ref_elcnewcap[ref_elcnewcap['Plant Type'] != 'Other'].groupby(['Period', 'Plant Type'], as_index=False).sum('New Capacity')\n",
    "ref_fig['Period'] = ref_fig['Period'].astype(str)\n",
    "\n",
    "fig = px.bar(ref_fig, \n",
    "             x='Period', \n",
    "             y='New Capacity', \n",
    "             color='Plant Type', \n",
    "             barmode='stack', \n",
    "             template='plotly_white',\n",
    "             color_discrete_sequence=px.colors.qualitative.G10[:7] + px.colors.qualitative.G10[8:],\n",
    "             text_auto='.1f',\n",
    "             width=1200, height=650,\n",
    "             )\n",
    "\n",
    "fig.update_layout(title=dict(\n",
    "        text='Electricity capacity expansion in ON by plant type',\n",
    "        x=0.5, \n",
    "        y=0.97,\n",
    "        xanchor='center',\n",
    "        yanchor='top'\n",
    "    ),\n",
    "    xaxis=dict(title='Period'),\n",
    "    yaxis=dict(title='New Capacity (GW)',\n",
    "               dtick=5),\n",
    "    yaxis_title_standoff=0,\n",
    "    legend_title_text='',\n",
    "    bargap=0.2,\n",
    "    legend=dict(\n",
    "        orientation='h',  \n",
    "        yanchor='top',\n",
    "        y=1.04,  \n",
    "        xanchor='center',\n",
    "        x=0.5),\n",
    "    font=dict(\n",
    "        # family=\"Open Sans\",\n",
    "        size=14)\n",
    "    )\n",
    "\n",
    "for annotation in fig.layout.annotations:\n",
    "    annotation.text = annotation.text.split('=')[1]\n",
    "    annotation.y = -0.1  \n",
    "    annotation.yanchor = 'top' \n",
    "\n",
    "for axis in fig.layout:\n",
    "    if axis.startswith('xaxis'):\n",
    "        fig.layout[axis].title.text = ''\n",
    "\n",
    "fig.for_each_trace(lambda trace: trace.update(textfont=dict(size=9)))\n",
    "\n",
    "fig.show()"
   ]
  },
  {
   "cell_type": "markdown",
   "metadata": {},
   "source": [
    "# CANOE vs gTech-IESD - GHG emissions"
   ]
  },
  {
   "cell_type": "code",
   "execution_count": 35,
   "metadata": {},
   "outputs": [],
   "source": [
    "ref_ghg.columns = ref_ghg.columns.astype(str)\n",
    "periods = [col for col in ref_ghg.columns if col.isdigit()]\n",
    "params = [col for col in ref_ghg.columns if not col.isdigit()]\n",
    "ref_ghg = pd.melt(ref_ghg, id_vars=params, var_name='Period', value_name='Total GHG Emissions', value_vars=periods)"
   ]
  },
  {
   "cell_type": "code",
   "execution_count": 36,
   "metadata": {},
   "outputs": [
    {
     "name": "stderr",
     "output_type": "stream",
     "text": [
      "C:\\Users\\rashi\\AppData\\Local\\Temp\\ipykernel_40796\\3967330132.py:1: FutureWarning:\n",
      "\n",
      "A value is trying to be set on a copy of a DataFrame or Series through chained assignment using an inplace method.\n",
      "The behavior will change in pandas 3.0. This inplace method will never work because the intermediate object on which we are setting values always behaves as a copy.\n",
      "\n",
      "For example, when doing 'df[col].method(value, inplace=True)', try using 'df.method({col: value}, inplace=True)' or df[col] = df[col].method(value) instead, to perform the operation inplace on the original object.\n",
      "\n",
      "\n",
      "\n"
     ]
    }
   ],
   "source": [
    "gtech23_ref_ghg['Sector'].replace({'agriculture & waste': 'AFOLU', 'commercial buildings': 'Commercial', 'residential buildings': 'Residential', 'land use & forestry': 'AFOLU',\n",
    "                                      'industry': 'Industrial', 'oil and gas': 'Oil & Gas', 'direct air capture': 'Industrial', 'utilities': 'Utilities',\n",
    "                                      'light-duty transport': 'Transportation', 'medium & heavy-duty transport': 'Transportation', 'other transport': 'Transportation'}, inplace=True)\n",
    "gtech23_ref_ghg = gtech23_ref_ghg.groupby(['Period', 'Sector'], as_index=False).sum()"
   ]
  },
  {
   "cell_type": "code",
   "execution_count": 37,
   "metadata": {},
   "outputs": [
    {
     "data": {
      "application/vnd.plotly.v1+json": {
       "config": {
        "plotlyServerURL": "https://plot.ly"
       },
       "data": [
        {
         "fillpattern": {
          "shape": ""
         },
         "hovertemplate": "Sector=Transportation<br>Source=CANOE<br>Period=%{x}<br>Total GHG Emissions (Mt CO2e)=%{y}<extra></extra>",
         "legendgroup": "Transportation",
         "line": {
          "color": "#636efa"
         },
         "marker": {
          "symbol": "circle"
         },
         "mode": "lines",
         "name": "Transportation",
         "orientation": "v",
         "showlegend": true,
         "stackgroup": "1",
         "type": "scatter",
         "x": [
          "2021",
          "2025",
          "2030",
          "2035",
          "2040",
          "2045",
          "2050"
         ],
         "xaxis": "x",
         "y": [
          69.15960675298217,
          77.89020817827563,
          60.816962881399895,
          38.15581129943911,
          32.57567726632801,
          33.70999872182913,
          35.01594175624629
         ],
         "yaxis": "y"
        },
        {
         "fillpattern": {
          "shape": ""
         },
         "hovertemplate": "Sector=Transportation<br>Source=gTech-IESD<br>Period=%{x}<br>Total GHG Emissions (Mt CO2e)=%{y}<extra></extra>",
         "legendgroup": "Transportation",
         "line": {
          "color": "#636efa"
         },
         "marker": {
          "symbol": "circle"
         },
         "mode": "lines",
         "name": "Transportation",
         "orientation": "v",
         "showlegend": false,
         "stackgroup": "1",
         "type": "scatter",
         "x": [
          "2021",
          "2025",
          "2030",
          "2035",
          "2040",
          "2045",
          "2050"
         ],
         "xaxis": "x2",
         "y": [
          59.3337479,
          60.758277992,
          55.512872352,
          52.140340988,
          48.515804656,
          46.101021826,
          46.344159796999996
         ],
         "yaxis": "y2"
        },
        {
         "fillpattern": {
          "shape": ""
         },
         "hovertemplate": "Sector=Commercial<br>Source=CANOE<br>Period=%{x}<br>Total GHG Emissions (Mt CO2e)=%{y}<extra></extra>",
         "legendgroup": "Commercial",
         "line": {
          "color": "#EF553B"
         },
         "marker": {
          "symbol": "circle"
         },
         "mode": "lines",
         "name": "Commercial",
         "orientation": "v",
         "showlegend": true,
         "stackgroup": "1",
         "type": "scatter",
         "x": [
          "2021",
          "2025",
          "2030",
          "2035",
          "2040",
          "2045",
          "2050"
         ],
         "xaxis": "x",
         "y": [
          18.443031888894552,
          18.5299609758392,
          18.55923462467652,
          18.34454418950437,
          18.28761615985461,
          21.12179323688019,
          20.32687340717476
         ],
         "yaxis": "y"
        },
        {
         "fillpattern": {
          "shape": ""
         },
         "hovertemplate": "Sector=Commercial<br>Source=gTech-IESD<br>Period=%{x}<br>Total GHG Emissions (Mt CO2e)=%{y}<extra></extra>",
         "legendgroup": "Commercial",
         "line": {
          "color": "#EF553B"
         },
         "marker": {
          "symbol": "circle"
         },
         "mode": "lines",
         "name": "Commercial",
         "orientation": "v",
         "showlegend": false,
         "stackgroup": "1",
         "type": "scatter",
         "x": [
          "2021",
          "2025",
          "2030",
          "2035",
          "2040",
          "2045",
          "2050"
         ],
         "xaxis": "x2",
         "y": [
          14.87398338,
          13.51692502,
          12.34058006,
          12.07001,
          12.36142145,
          12.86639316,
          13.4358197
         ],
         "yaxis": "y2"
        },
        {
         "fillpattern": {
          "shape": ""
         },
         "hovertemplate": "Sector=Electricity<br>Source=CANOE<br>Period=%{x}<br>Total GHG Emissions (Mt CO2e)=%{y}<extra></extra>",
         "legendgroup": "Electricity",
         "line": {
          "color": "#00cc96"
         },
         "marker": {
          "symbol": "circle"
         },
         "mode": "lines",
         "name": "Electricity",
         "orientation": "v",
         "showlegend": true,
         "stackgroup": "1",
         "type": "scatter",
         "x": [
          "2021",
          "2025",
          "2030",
          "2035",
          "2040",
          "2045",
          "2050"
         ],
         "xaxis": "x",
         "y": [
          5.982195838579768,
          8.91835401491934,
          10.808584321863757,
          14.763346164385243,
          23.089159586105623,
          31.53951295530106,
          32.810916057687386
         ],
         "yaxis": "y"
        },
        {
         "fillpattern": {
          "shape": ""
         },
         "hovertemplate": "Sector=Industrial<br>Source=CANOE<br>Period=%{x}<br>Total GHG Emissions (Mt CO2e)=%{y}<extra></extra>",
         "legendgroup": "Industrial",
         "line": {
          "color": "#ab63fa"
         },
         "marker": {
          "symbol": "circle"
         },
         "mode": "lines",
         "name": "Industrial",
         "orientation": "v",
         "showlegend": true,
         "stackgroup": "1",
         "type": "scatter",
         "x": [
          "2021",
          "2025",
          "2030",
          "2035",
          "2040",
          "2045",
          "2050"
         ],
         "xaxis": "x",
         "y": [
          24.00105790515411,
          25.204693281649504,
          26.549877275058545,
          27.635782320199446,
          28.604768672134526,
          29.4782682760018,
          30.261411751964193
         ],
         "yaxis": "y"
        },
        {
         "fillpattern": {
          "shape": ""
         },
         "hovertemplate": "Sector=Industrial<br>Source=gTech-IESD<br>Period=%{x}<br>Total GHG Emissions (Mt CO2e)=%{y}<extra></extra>",
         "legendgroup": "Industrial",
         "line": {
          "color": "#ab63fa"
         },
         "marker": {
          "symbol": "circle"
         },
         "mode": "lines",
         "name": "Industrial",
         "orientation": "v",
         "showlegend": false,
         "stackgroup": "1",
         "type": "scatter",
         "x": [
          "2021",
          "2025",
          "2030",
          "2035",
          "2040",
          "2045",
          "2050"
         ],
         "xaxis": "x2",
         "y": [
          37.875307373999995,
          37.90229711,
          33.84077446,
          35.69818713,
          37.85750927,
          39.87872961,
          42.16648898
         ],
         "yaxis": "y2"
        },
        {
         "fillpattern": {
          "shape": ""
         },
         "hovertemplate": "Sector=Residential<br>Source=CANOE<br>Period=%{x}<br>Total GHG Emissions (Mt CO2e)=%{y}<extra></extra>",
         "legendgroup": "Residential",
         "line": {
          "color": "#FFA15A"
         },
         "marker": {
          "symbol": "circle"
         },
         "mode": "lines",
         "name": "Residential",
         "orientation": "v",
         "showlegend": true,
         "stackgroup": "1",
         "type": "scatter",
         "x": [
          "2021",
          "2025",
          "2030",
          "2035",
          "2040",
          "2045",
          "2050"
         ],
         "xaxis": "x",
         "y": [
          16.650664680784143,
          16.155937098748584,
          18.09826796203564,
          19.299631158864887,
          15.987623455157145,
          18.540220601346615,
          21.41253060015987
         ],
         "yaxis": "y"
        },
        {
         "fillpattern": {
          "shape": ""
         },
         "hovertemplate": "Sector=Residential<br>Source=gTech-IESD<br>Period=%{x}<br>Total GHG Emissions (Mt CO2e)=%{y}<extra></extra>",
         "legendgroup": "Residential",
         "line": {
          "color": "#FFA15A"
         },
         "marker": {
          "symbol": "circle"
         },
         "mode": "lines",
         "name": "Residential",
         "orientation": "v",
         "showlegend": false,
         "stackgroup": "1",
         "type": "scatter",
         "x": [
          "2021",
          "2025",
          "2030",
          "2035",
          "2040",
          "2045",
          "2050"
         ],
         "xaxis": "x2",
         "y": [
          17.822376966,
          16.79111807,
          16.26714696,
          16.35710771,
          16.82923943,
          17.54487313,
          18.38989798
         ],
         "yaxis": "y2"
        },
        {
         "fillpattern": {
          "shape": ""
         },
         "hovertemplate": "Sector=Oil & Gas<br>Source=gTech-IESD<br>Period=%{x}<br>Total GHG Emissions (Mt CO2e)=%{y}<extra></extra>",
         "legendgroup": "Oil & Gas",
         "line": {
          "color": "#19d3f3"
         },
         "marker": {
          "symbol": "circle"
         },
         "mode": "lines",
         "name": "Oil & Gas",
         "orientation": "v",
         "showlegend": true,
         "stackgroup": "1",
         "type": "scatter",
         "x": [
          "2021",
          "2025",
          "2030",
          "2035",
          "2040",
          "2045",
          "2050"
         ],
         "xaxis": "x2",
         "y": [
          8.9496383376,
          7.963400128,
          8.075161641,
          8.553685278,
          8.284682975,
          8.738982107,
          9.264163676
         ],
         "yaxis": "y2"
        },
        {
         "fillpattern": {
          "shape": ""
         },
         "hovertemplate": "Sector=Utilities<br>Source=gTech-IESD<br>Period=%{x}<br>Total GHG Emissions (Mt CO2e)=%{y}<extra></extra>",
         "legendgroup": "Utilities",
         "line": {
          "color": "#FF6692"
         },
         "marker": {
          "symbol": "circle"
         },
         "mode": "lines",
         "name": "Utilities",
         "orientation": "v",
         "showlegend": true,
         "stackgroup": "1",
         "type": "scatter",
         "x": [
          "2021",
          "2025",
          "2030",
          "2035",
          "2040",
          "2045",
          "2050"
         ],
         "xaxis": "x2",
         "y": [
          3.7773608392000004,
          2.5169914,
          1.253003913,
          1.368543943,
          2.074538082,
          3.653330428,
          5.154365046
         ],
         "yaxis": "y2"
        }
       ],
       "layout": {
        "annotations": [
         {
          "showarrow": false,
          "text": "Source=CANOE",
          "x": 0.2425,
          "xanchor": "center",
          "xref": "paper",
          "y": 1,
          "yanchor": "bottom",
          "yref": "paper"
         },
         {
          "showarrow": false,
          "text": "Source=gTech-IESD",
          "x": 0.7575000000000001,
          "xanchor": "center",
          "xref": "paper",
          "y": 1,
          "yanchor": "bottom",
          "yref": "paper"
         },
         {
          "font": {
           "size": 11
          },
          "showarrow": false,
          "text": "*Upstream emissions are accounted for in each sector, except for Oil & Gas",
          "x": 1,
          "xref": "paper",
          "y": 0.98,
          "yref": "paper"
         }
        ],
        "font": {
         "size": 13
        },
        "height": 600,
        "legend": {
         "orientation": "h",
         "title": {
          "text": ""
         },
         "tracegroupgap": 0,
         "x": 0.5,
         "xanchor": "center",
         "y": -0.15,
         "yanchor": "bottom"
        },
        "margin": {
         "t": 60
        },
        "template": {
         "data": {
          "bar": [
           {
            "error_x": {
             "color": "#2a3f5f"
            },
            "error_y": {
             "color": "#2a3f5f"
            },
            "marker": {
             "line": {
              "color": "white",
              "width": 0.5
             },
             "pattern": {
              "fillmode": "overlay",
              "size": 10,
              "solidity": 0.2
             }
            },
            "type": "bar"
           }
          ],
          "barpolar": [
           {
            "marker": {
             "line": {
              "color": "white",
              "width": 0.5
             },
             "pattern": {
              "fillmode": "overlay",
              "size": 10,
              "solidity": 0.2
             }
            },
            "type": "barpolar"
           }
          ],
          "carpet": [
           {
            "aaxis": {
             "endlinecolor": "#2a3f5f",
             "gridcolor": "#C8D4E3",
             "linecolor": "#C8D4E3",
             "minorgridcolor": "#C8D4E3",
             "startlinecolor": "#2a3f5f"
            },
            "baxis": {
             "endlinecolor": "#2a3f5f",
             "gridcolor": "#C8D4E3",
             "linecolor": "#C8D4E3",
             "minorgridcolor": "#C8D4E3",
             "startlinecolor": "#2a3f5f"
            },
            "type": "carpet"
           }
          ],
          "choropleth": [
           {
            "colorbar": {
             "outlinewidth": 0,
             "ticks": ""
            },
            "type": "choropleth"
           }
          ],
          "contour": [
           {
            "colorbar": {
             "outlinewidth": 0,
             "ticks": ""
            },
            "colorscale": [
             [
              0,
              "#0d0887"
             ],
             [
              0.1111111111111111,
              "#46039f"
             ],
             [
              0.2222222222222222,
              "#7201a8"
             ],
             [
              0.3333333333333333,
              "#9c179e"
             ],
             [
              0.4444444444444444,
              "#bd3786"
             ],
             [
              0.5555555555555556,
              "#d8576b"
             ],
             [
              0.6666666666666666,
              "#ed7953"
             ],
             [
              0.7777777777777778,
              "#fb9f3a"
             ],
             [
              0.8888888888888888,
              "#fdca26"
             ],
             [
              1,
              "#f0f921"
             ]
            ],
            "type": "contour"
           }
          ],
          "contourcarpet": [
           {
            "colorbar": {
             "outlinewidth": 0,
             "ticks": ""
            },
            "type": "contourcarpet"
           }
          ],
          "heatmap": [
           {
            "colorbar": {
             "outlinewidth": 0,
             "ticks": ""
            },
            "colorscale": [
             [
              0,
              "#0d0887"
             ],
             [
              0.1111111111111111,
              "#46039f"
             ],
             [
              0.2222222222222222,
              "#7201a8"
             ],
             [
              0.3333333333333333,
              "#9c179e"
             ],
             [
              0.4444444444444444,
              "#bd3786"
             ],
             [
              0.5555555555555556,
              "#d8576b"
             ],
             [
              0.6666666666666666,
              "#ed7953"
             ],
             [
              0.7777777777777778,
              "#fb9f3a"
             ],
             [
              0.8888888888888888,
              "#fdca26"
             ],
             [
              1,
              "#f0f921"
             ]
            ],
            "type": "heatmap"
           }
          ],
          "heatmapgl": [
           {
            "colorbar": {
             "outlinewidth": 0,
             "ticks": ""
            },
            "colorscale": [
             [
              0,
              "#0d0887"
             ],
             [
              0.1111111111111111,
              "#46039f"
             ],
             [
              0.2222222222222222,
              "#7201a8"
             ],
             [
              0.3333333333333333,
              "#9c179e"
             ],
             [
              0.4444444444444444,
              "#bd3786"
             ],
             [
              0.5555555555555556,
              "#d8576b"
             ],
             [
              0.6666666666666666,
              "#ed7953"
             ],
             [
              0.7777777777777778,
              "#fb9f3a"
             ],
             [
              0.8888888888888888,
              "#fdca26"
             ],
             [
              1,
              "#f0f921"
             ]
            ],
            "type": "heatmapgl"
           }
          ],
          "histogram": [
           {
            "marker": {
             "pattern": {
              "fillmode": "overlay",
              "size": 10,
              "solidity": 0.2
             }
            },
            "type": "histogram"
           }
          ],
          "histogram2d": [
           {
            "colorbar": {
             "outlinewidth": 0,
             "ticks": ""
            },
            "colorscale": [
             [
              0,
              "#0d0887"
             ],
             [
              0.1111111111111111,
              "#46039f"
             ],
             [
              0.2222222222222222,
              "#7201a8"
             ],
             [
              0.3333333333333333,
              "#9c179e"
             ],
             [
              0.4444444444444444,
              "#bd3786"
             ],
             [
              0.5555555555555556,
              "#d8576b"
             ],
             [
              0.6666666666666666,
              "#ed7953"
             ],
             [
              0.7777777777777778,
              "#fb9f3a"
             ],
             [
              0.8888888888888888,
              "#fdca26"
             ],
             [
              1,
              "#f0f921"
             ]
            ],
            "type": "histogram2d"
           }
          ],
          "histogram2dcontour": [
           {
            "colorbar": {
             "outlinewidth": 0,
             "ticks": ""
            },
            "colorscale": [
             [
              0,
              "#0d0887"
             ],
             [
              0.1111111111111111,
              "#46039f"
             ],
             [
              0.2222222222222222,
              "#7201a8"
             ],
             [
              0.3333333333333333,
              "#9c179e"
             ],
             [
              0.4444444444444444,
              "#bd3786"
             ],
             [
              0.5555555555555556,
              "#d8576b"
             ],
             [
              0.6666666666666666,
              "#ed7953"
             ],
             [
              0.7777777777777778,
              "#fb9f3a"
             ],
             [
              0.8888888888888888,
              "#fdca26"
             ],
             [
              1,
              "#f0f921"
             ]
            ],
            "type": "histogram2dcontour"
           }
          ],
          "mesh3d": [
           {
            "colorbar": {
             "outlinewidth": 0,
             "ticks": ""
            },
            "type": "mesh3d"
           }
          ],
          "parcoords": [
           {
            "line": {
             "colorbar": {
              "outlinewidth": 0,
              "ticks": ""
             }
            },
            "type": "parcoords"
           }
          ],
          "pie": [
           {
            "automargin": true,
            "type": "pie"
           }
          ],
          "scatter": [
           {
            "fillpattern": {
             "fillmode": "overlay",
             "size": 10,
             "solidity": 0.2
            },
            "type": "scatter"
           }
          ],
          "scatter3d": [
           {
            "line": {
             "colorbar": {
              "outlinewidth": 0,
              "ticks": ""
             }
            },
            "marker": {
             "colorbar": {
              "outlinewidth": 0,
              "ticks": ""
             }
            },
            "type": "scatter3d"
           }
          ],
          "scattercarpet": [
           {
            "marker": {
             "colorbar": {
              "outlinewidth": 0,
              "ticks": ""
             }
            },
            "type": "scattercarpet"
           }
          ],
          "scattergeo": [
           {
            "marker": {
             "colorbar": {
              "outlinewidth": 0,
              "ticks": ""
             }
            },
            "type": "scattergeo"
           }
          ],
          "scattergl": [
           {
            "marker": {
             "colorbar": {
              "outlinewidth": 0,
              "ticks": ""
             }
            },
            "type": "scattergl"
           }
          ],
          "scattermapbox": [
           {
            "marker": {
             "colorbar": {
              "outlinewidth": 0,
              "ticks": ""
             }
            },
            "type": "scattermapbox"
           }
          ],
          "scatterpolar": [
           {
            "marker": {
             "colorbar": {
              "outlinewidth": 0,
              "ticks": ""
             }
            },
            "type": "scatterpolar"
           }
          ],
          "scatterpolargl": [
           {
            "marker": {
             "colorbar": {
              "outlinewidth": 0,
              "ticks": ""
             }
            },
            "type": "scatterpolargl"
           }
          ],
          "scatterternary": [
           {
            "marker": {
             "colorbar": {
              "outlinewidth": 0,
              "ticks": ""
             }
            },
            "type": "scatterternary"
           }
          ],
          "surface": [
           {
            "colorbar": {
             "outlinewidth": 0,
             "ticks": ""
            },
            "colorscale": [
             [
              0,
              "#0d0887"
             ],
             [
              0.1111111111111111,
              "#46039f"
             ],
             [
              0.2222222222222222,
              "#7201a8"
             ],
             [
              0.3333333333333333,
              "#9c179e"
             ],
             [
              0.4444444444444444,
              "#bd3786"
             ],
             [
              0.5555555555555556,
              "#d8576b"
             ],
             [
              0.6666666666666666,
              "#ed7953"
             ],
             [
              0.7777777777777778,
              "#fb9f3a"
             ],
             [
              0.8888888888888888,
              "#fdca26"
             ],
             [
              1,
              "#f0f921"
             ]
            ],
            "type": "surface"
           }
          ],
          "table": [
           {
            "cells": {
             "fill": {
              "color": "#EBF0F8"
             },
             "line": {
              "color": "white"
             }
            },
            "header": {
             "fill": {
              "color": "#C8D4E3"
             },
             "line": {
              "color": "white"
             }
            },
            "type": "table"
           }
          ]
         },
         "layout": {
          "annotationdefaults": {
           "arrowcolor": "#2a3f5f",
           "arrowhead": 0,
           "arrowwidth": 1
          },
          "autotypenumbers": "strict",
          "coloraxis": {
           "colorbar": {
            "outlinewidth": 0,
            "ticks": ""
           }
          },
          "colorscale": {
           "diverging": [
            [
             0,
             "#8e0152"
            ],
            [
             0.1,
             "#c51b7d"
            ],
            [
             0.2,
             "#de77ae"
            ],
            [
             0.3,
             "#f1b6da"
            ],
            [
             0.4,
             "#fde0ef"
            ],
            [
             0.5,
             "#f7f7f7"
            ],
            [
             0.6,
             "#e6f5d0"
            ],
            [
             0.7,
             "#b8e186"
            ],
            [
             0.8,
             "#7fbc41"
            ],
            [
             0.9,
             "#4d9221"
            ],
            [
             1,
             "#276419"
            ]
           ],
           "sequential": [
            [
             0,
             "#0d0887"
            ],
            [
             0.1111111111111111,
             "#46039f"
            ],
            [
             0.2222222222222222,
             "#7201a8"
            ],
            [
             0.3333333333333333,
             "#9c179e"
            ],
            [
             0.4444444444444444,
             "#bd3786"
            ],
            [
             0.5555555555555556,
             "#d8576b"
            ],
            [
             0.6666666666666666,
             "#ed7953"
            ],
            [
             0.7777777777777778,
             "#fb9f3a"
            ],
            [
             0.8888888888888888,
             "#fdca26"
            ],
            [
             1,
             "#f0f921"
            ]
           ],
           "sequentialminus": [
            [
             0,
             "#0d0887"
            ],
            [
             0.1111111111111111,
             "#46039f"
            ],
            [
             0.2222222222222222,
             "#7201a8"
            ],
            [
             0.3333333333333333,
             "#9c179e"
            ],
            [
             0.4444444444444444,
             "#bd3786"
            ],
            [
             0.5555555555555556,
             "#d8576b"
            ],
            [
             0.6666666666666666,
             "#ed7953"
            ],
            [
             0.7777777777777778,
             "#fb9f3a"
            ],
            [
             0.8888888888888888,
             "#fdca26"
            ],
            [
             1,
             "#f0f921"
            ]
           ]
          },
          "colorway": [
           "#636efa",
           "#EF553B",
           "#00cc96",
           "#ab63fa",
           "#FFA15A",
           "#19d3f3",
           "#FF6692",
           "#B6E880",
           "#FF97FF",
           "#FECB52"
          ],
          "font": {
           "color": "#2a3f5f"
          },
          "geo": {
           "bgcolor": "white",
           "lakecolor": "white",
           "landcolor": "white",
           "showlakes": true,
           "showland": true,
           "subunitcolor": "#C8D4E3"
          },
          "hoverlabel": {
           "align": "left"
          },
          "hovermode": "closest",
          "mapbox": {
           "style": "light"
          },
          "paper_bgcolor": "white",
          "plot_bgcolor": "white",
          "polar": {
           "angularaxis": {
            "gridcolor": "#EBF0F8",
            "linecolor": "#EBF0F8",
            "ticks": ""
           },
           "bgcolor": "white",
           "radialaxis": {
            "gridcolor": "#EBF0F8",
            "linecolor": "#EBF0F8",
            "ticks": ""
           }
          },
          "scene": {
           "xaxis": {
            "backgroundcolor": "white",
            "gridcolor": "#DFE8F3",
            "gridwidth": 2,
            "linecolor": "#EBF0F8",
            "showbackground": true,
            "ticks": "",
            "zerolinecolor": "#EBF0F8"
           },
           "yaxis": {
            "backgroundcolor": "white",
            "gridcolor": "#DFE8F3",
            "gridwidth": 2,
            "linecolor": "#EBF0F8",
            "showbackground": true,
            "ticks": "",
            "zerolinecolor": "#EBF0F8"
           },
           "zaxis": {
            "backgroundcolor": "white",
            "gridcolor": "#DFE8F3",
            "gridwidth": 2,
            "linecolor": "#EBF0F8",
            "showbackground": true,
            "ticks": "",
            "zerolinecolor": "#EBF0F8"
           }
          },
          "shapedefaults": {
           "line": {
            "color": "#2a3f5f"
           }
          },
          "ternary": {
           "aaxis": {
            "gridcolor": "#DFE8F3",
            "linecolor": "#A2B1C6",
            "ticks": ""
           },
           "baxis": {
            "gridcolor": "#DFE8F3",
            "linecolor": "#A2B1C6",
            "ticks": ""
           },
           "bgcolor": "white",
           "caxis": {
            "gridcolor": "#DFE8F3",
            "linecolor": "#A2B1C6",
            "ticks": ""
           }
          },
          "title": {
           "x": 0.05
          },
          "xaxis": {
           "automargin": true,
           "gridcolor": "#EBF0F8",
           "linecolor": "#EBF0F8",
           "ticks": "",
           "title": {
            "standoff": 15
           },
           "zerolinecolor": "#EBF0F8",
           "zerolinewidth": 2
          },
          "yaxis": {
           "automargin": true,
           "gridcolor": "#EBF0F8",
           "linecolor": "#EBF0F8",
           "ticks": "",
           "title": {
            "standoff": 15
           },
           "zerolinecolor": "#EBF0F8",
           "zerolinewidth": 2
          }
         }
        },
        "title": {
         "text": "Total GHG emissions by sector and energy model, excluding AFOLU",
         "x": 0.5,
         "xanchor": "center",
         "y": 0.97,
         "yanchor": "top"
        },
        "width": 1100,
        "xaxis": {
         "anchor": "y",
         "domain": [
          0,
          0.485
         ],
         "tickangle": 45,
         "title": {
          "text": ""
         }
        },
        "xaxis2": {
         "anchor": "y2",
         "domain": [
          0.515,
          1
         ],
         "matches": "x",
         "tickangle": 45,
         "title": {
          "text": ""
         }
        },
        "yaxis": {
         "anchor": "x",
         "domain": [
          0,
          1
         ],
         "title": {
          "standoff": 0,
          "text": "Total GHG Emissions (M tonne CO2e)"
         }
        },
        "yaxis2": {
         "anchor": "x2",
         "domain": [
          0,
          1
         ],
         "matches": "y",
         "showticklabels": false
        }
       }
      }
     },
     "metadata": {},
     "output_type": "display_data"
    }
   ],
   "source": [
    "ref_fig = ref_ghg[ref_ghg['Emission Commodity'] == 'co2e'][['Period', 'Sector', 'Total GHG Emissions']].groupby(['Period', 'Sector'], as_index=False).sum()\n",
    "ref_fig['Sector'] = ref_fig['Sector'].replace({'Transport': 'Transportation', 'commercial': 'Commercial', 'residential': 'Residential', 'industrial': 'Industrial', 'electricity': 'Electricity'})\n",
    "ref_fig['Total GHG Emissions (Mt CO2e)'] = ref_fig['Total GHG Emissions'] / 1E3\n",
    "ref_fig['Period'] = ref_fig['Period'].astype(str)\n",
    "\n",
    "gtech23_fig = gtech23_ref_ghg[gtech23_ref_ghg['Sector'] != 'AFOLU']\n",
    "gtech23_fig = gtech23_fig.rename(columns={'CO2e (Mt)': 'Total GHG Emissions (Mt CO2e)'})\n",
    "\n",
    "ref_fig['Source'] = 'CANOE'\n",
    "gtech23_fig['Source'] = 'gTech-IESD'\n",
    "gtech23_fig['Period'] = gtech23_fig['Period'].astype(str)\n",
    "fig_df = pd.concat([ref_fig[['Period', 'Sector', 'Total GHG Emissions (Mt CO2e)', 'Source']], gtech23_fig]).reset_index(drop=True)\n",
    "\n",
    "fig = px.area(fig_df, x='Period', y='Total GHG Emissions (Mt CO2e)', color='Sector', facet_col='Source',\n",
    "              template='plotly_white',\n",
    "              facet_col_spacing=0.03,\n",
    "              width=1100, height=600\n",
    "              )\n",
    "\n",
    "fig.update_layout(\n",
    "    title=dict(text='Total GHG emissions by sector and energy model, excluding AFOLU',\n",
    "               x=0.5,\n",
    "               y=0.97,\n",
    "               xanchor='center',\n",
    "               yanchor='top'\n",
    "               ),\n",
    "    xaxis=dict(title='Period'),\n",
    "    yaxis=dict(title='Total GHG Emissions (M tonne CO2e)'),\n",
    "    yaxis_title_standoff=0,\n",
    "    legend_title_text='',\n",
    "    # bargap=0.1,\n",
    "    legend=dict(orientation='h',\n",
    "                yanchor='bottom',\n",
    "                y=-0.15,\n",
    "                xanchor='center',\n",
    "                x=0.5),\n",
    "    font=dict(size=13,\n",
    "              # family=\"Open Sans\"\n",
    "              ))\n",
    "\n",
    "for axis in fig.layout:\n",
    "    if axis.startswith('xaxis'):\n",
    "        fig.layout[axis].title.text = ''\n",
    "\n",
    "fig.update_xaxes(tickangle=45)\n",
    "\n",
    "fig.add_annotation(\n",
    "    text=\"*Upstream emissions are accounted for in each sector, except for Oil & Gas\",\n",
    "    x=1,  # Adjust x position as needed\n",
    "    y=0.98,\n",
    "    xref=\"paper\",\n",
    "    yref=\"paper\",\n",
    "    showarrow=False,\n",
    "    # textangle=-90,\n",
    "    font=dict(size=11))\n",
    "\n",
    "\n",
    "fig.show()"
   ]
  },
  {
   "cell_type": "markdown",
   "metadata": {},
   "source": [
    "# CANOE vs CEF2023 vs gTech - H2 production"
   ]
  },
  {
   "cell_type": "code",
   "execution_count": 38,
   "metadata": {},
   "outputs": [
    {
     "data": {
      "application/vnd.plotly.v1+json": {
       "config": {
        "plotlyServerURL": "https://plot.ly"
       },
       "data": [
        {
         "alignmentgroup": "True",
         "hovertemplate": "Pathway=Electrolysis<br>Period=2021<br>Source=%{x}<br>Production (PJ)=%{y}<extra></extra>",
         "legendgroup": "Electrolysis",
         "marker": {
          "color": "#3366CC",
          "pattern": {
           "shape": ""
          }
         },
         "name": "Electrolysis",
         "offsetgroup": "Electrolysis",
         "orientation": "v",
         "showlegend": true,
         "textfont": {
          "size": 9
         },
         "textposition": "auto",
         "texttemplate": "%{y:.3f}",
         "type": "bar",
         "x": [
          "CANOE",
          "CEF2023",
          "gTech-IESD"
         ],
         "xaxis": "x",
         "y": [
          0,
          0.056618100000000005,
          0
         ],
         "yaxis": "y"
        },
        {
         "alignmentgroup": "True",
         "hovertemplate": "Pathway=Electrolysis<br>Period=2025<br>Source=%{x}<br>Production (PJ)=%{y}<extra></extra>",
         "legendgroup": "Electrolysis",
         "marker": {
          "color": "#3366CC",
          "pattern": {
           "shape": ""
          }
         },
         "name": "Electrolysis",
         "offsetgroup": "Electrolysis",
         "orientation": "v",
         "showlegend": false,
         "textfont": {
          "size": 9
         },
         "textposition": "auto",
         "texttemplate": "%{y:.3f}",
         "type": "bar",
         "x": [
          "CANOE",
          "CEF2023",
          "gTech-IESD"
         ],
         "xaxis": "x2",
         "y": [
          0,
          0.0796059,
          0.054504795
         ],
         "yaxis": "y2"
        },
        {
         "alignmentgroup": "True",
         "hovertemplate": "Pathway=Electrolysis<br>Period=2030<br>Source=%{x}<br>Production (PJ)=%{y}<extra></extra>",
         "legendgroup": "Electrolysis",
         "marker": {
          "color": "#3366CC",
          "pattern": {
           "shape": ""
          }
         },
         "name": "Electrolysis",
         "offsetgroup": "Electrolysis",
         "orientation": "v",
         "showlegend": false,
         "textfont": {
          "size": 9
         },
         "textposition": "auto",
         "texttemplate": "%{y:.3f}",
         "type": "bar",
         "x": [
          "CANOE",
          "CEF2023",
          "gTech-IESD"
         ],
         "xaxis": "x3",
         "y": [
          0,
          0.09322830000000001,
          1.339339342
         ],
         "yaxis": "y3"
        },
        {
         "alignmentgroup": "True",
         "hovertemplate": "Pathway=Electrolysis<br>Period=2035<br>Source=%{x}<br>Production (PJ)=%{y}<extra></extra>",
         "legendgroup": "Electrolysis",
         "marker": {
          "color": "#3366CC",
          "pattern": {
           "shape": ""
          }
         },
         "name": "Electrolysis",
         "offsetgroup": "Electrolysis",
         "orientation": "v",
         "showlegend": false,
         "textfont": {
          "size": 9
         },
         "textposition": "auto",
         "texttemplate": "%{y:.3f}",
         "type": "bar",
         "x": [
          "CANOE",
          "CEF2023",
          "gTech-IESD"
         ],
         "xaxis": "x4",
         "y": [
          0,
          0.2544267,
          0
         ],
         "yaxis": "y4"
        },
        {
         "alignmentgroup": "True",
         "hovertemplate": "Pathway=Electrolysis<br>Period=2040<br>Source=%{x}<br>Production (PJ)=%{y}<extra></extra>",
         "legendgroup": "Electrolysis",
         "marker": {
          "color": "#3366CC",
          "pattern": {
           "shape": ""
          }
         },
         "name": "Electrolysis",
         "offsetgroup": "Electrolysis",
         "orientation": "v",
         "showlegend": false,
         "textfont": {
          "size": 9
         },
         "textposition": "auto",
         "texttemplate": "%{y:.3f}",
         "type": "bar",
         "x": [
          "CANOE",
          "CEF2023",
          "gTech-IESD"
         ],
         "xaxis": "x5",
         "y": [
          0,
          0.5050221,
          0
         ],
         "yaxis": "y5"
        },
        {
         "alignmentgroup": "True",
         "hovertemplate": "Pathway=Electrolysis<br>Period=2045<br>Source=%{x}<br>Production (PJ)=%{y}<extra></extra>",
         "legendgroup": "Electrolysis",
         "marker": {
          "color": "#3366CC",
          "pattern": {
           "shape": ""
          }
         },
         "name": "Electrolysis",
         "offsetgroup": "Electrolysis",
         "orientation": "v",
         "showlegend": false,
         "textfont": {
          "size": 9
         },
         "textposition": "auto",
         "texttemplate": "%{y:.3f}",
         "type": "bar",
         "x": [
          "CANOE",
          "CEF2023",
          "gTech-IESD"
         ],
         "xaxis": "x6",
         "y": [
          0,
          0.7710846,
          0
         ],
         "yaxis": "y6"
        },
        {
         "alignmentgroup": "True",
         "hovertemplate": "Pathway=Electrolysis<br>Period=2050<br>Source=%{x}<br>Production (PJ)=%{y}<extra></extra>",
         "legendgroup": "Electrolysis",
         "marker": {
          "color": "#3366CC",
          "pattern": {
           "shape": ""
          }
         },
         "name": "Electrolysis",
         "offsetgroup": "Electrolysis",
         "orientation": "v",
         "showlegend": false,
         "textfont": {
          "size": 9
         },
         "textposition": "auto",
         "texttemplate": "%{y:.3f}",
         "type": "bar",
         "x": [
          "CANOE",
          "CEF2023",
          "gTech-IESD"
         ],
         "xaxis": "x7",
         "y": [
          0,
          0.9775491000000001,
          0
         ],
         "yaxis": "y7"
        },
        {
         "alignmentgroup": "True",
         "hovertemplate": "Pathway=SMR w/o CCS<br>Period=2021<br>Source=%{x}<br>Production (PJ)=%{y}<extra></extra>",
         "legendgroup": "SMR w/o CCS",
         "marker": {
          "color": "#DC3912",
          "pattern": {
           "shape": ""
          }
         },
         "name": "SMR w/o CCS",
         "offsetgroup": "SMR w/o CCS",
         "orientation": "v",
         "showlegend": true,
         "textfont": {
          "size": 9
         },
         "textposition": "auto",
         "texttemplate": "%{y:.3f}",
         "type": "bar",
         "x": [
          "CANOE"
         ],
         "xaxis": "x",
         "y": [
          4.51279264010922
         ],
         "yaxis": "y"
        },
        {
         "alignmentgroup": "True",
         "hovertemplate": "Pathway=SMR w/o CCS<br>Period=2025<br>Source=%{x}<br>Production (PJ)=%{y}<extra></extra>",
         "legendgroup": "SMR w/o CCS",
         "marker": {
          "color": "#DC3912",
          "pattern": {
           "shape": ""
          }
         },
         "name": "SMR w/o CCS",
         "offsetgroup": "SMR w/o CCS",
         "orientation": "v",
         "showlegend": false,
         "textfont": {
          "size": 9
         },
         "textposition": "auto",
         "texttemplate": "%{y:.3f}",
         "type": "bar",
         "x": [
          "CANOE"
         ],
         "xaxis": "x2",
         "y": [
          16.36764588605627
         ],
         "yaxis": "y2"
        },
        {
         "alignmentgroup": "True",
         "hovertemplate": "Pathway=SMR w/o CCS<br>Period=2030<br>Source=%{x}<br>Production (PJ)=%{y}<extra></extra>",
         "legendgroup": "SMR w/o CCS",
         "marker": {
          "color": "#DC3912",
          "pattern": {
           "shape": ""
          }
         },
         "name": "SMR w/o CCS",
         "offsetgroup": "SMR w/o CCS",
         "orientation": "v",
         "showlegend": false,
         "textfont": {
          "size": 9
         },
         "textposition": "auto",
         "texttemplate": "%{y:.3f}",
         "type": "bar",
         "x": [
          "CANOE"
         ],
         "xaxis": "x3",
         "y": [
          44.29955415283589
         ],
         "yaxis": "y3"
        },
        {
         "alignmentgroup": "True",
         "hovertemplate": "Pathway=SMR w/o CCS<br>Period=2035<br>Source=%{x}<br>Production (PJ)=%{y}<extra></extra>",
         "legendgroup": "SMR w/o CCS",
         "marker": {
          "color": "#DC3912",
          "pattern": {
           "shape": ""
          }
         },
         "name": "SMR w/o CCS",
         "offsetgroup": "SMR w/o CCS",
         "orientation": "v",
         "showlegend": false,
         "textfont": {
          "size": 9
         },
         "textposition": "auto",
         "texttemplate": "%{y:.3f}",
         "type": "bar",
         "x": [
          "CANOE"
         ],
         "xaxis": "x4",
         "y": [
          81.06284594208273
         ],
         "yaxis": "y4"
        },
        {
         "alignmentgroup": "True",
         "hovertemplate": "Pathway=SMR w/o CCS<br>Period=2040<br>Source=%{x}<br>Production (PJ)=%{y}<extra></extra>",
         "legendgroup": "SMR w/o CCS",
         "marker": {
          "color": "#DC3912",
          "pattern": {
           "shape": ""
          }
         },
         "name": "SMR w/o CCS",
         "offsetgroup": "SMR w/o CCS",
         "orientation": "v",
         "showlegend": false,
         "textfont": {
          "size": 9
         },
         "textposition": "auto",
         "texttemplate": "%{y:.3f}",
         "type": "bar",
         "x": [
          "CANOE"
         ],
         "xaxis": "x5",
         "y": [
          130.6222772984734
         ],
         "yaxis": "y5"
        },
        {
         "alignmentgroup": "True",
         "hovertemplate": "Pathway=SMR w/o CCS<br>Period=2045<br>Source=%{x}<br>Production (PJ)=%{y}<extra></extra>",
         "legendgroup": "SMR w/o CCS",
         "marker": {
          "color": "#DC3912",
          "pattern": {
           "shape": ""
          }
         },
         "name": "SMR w/o CCS",
         "offsetgroup": "SMR w/o CCS",
         "orientation": "v",
         "showlegend": false,
         "textfont": {
          "size": 9
         },
         "textposition": "auto",
         "texttemplate": "%{y:.3f}",
         "type": "bar",
         "x": [
          "CANOE"
         ],
         "xaxis": "x6",
         "y": [
          138.6148381380056
         ],
         "yaxis": "y6"
        },
        {
         "alignmentgroup": "True",
         "hovertemplate": "Pathway=SMR w/o CCS<br>Period=2050<br>Source=%{x}<br>Production (PJ)=%{y}<extra></extra>",
         "legendgroup": "SMR w/o CCS",
         "marker": {
          "color": "#DC3912",
          "pattern": {
           "shape": ""
          }
         },
         "name": "SMR w/o CCS",
         "offsetgroup": "SMR w/o CCS",
         "orientation": "v",
         "showlegend": false,
         "textfont": {
          "size": 9
         },
         "textposition": "auto",
         "texttemplate": "%{y:.3f}",
         "type": "bar",
         "x": [
          "CANOE"
         ],
         "xaxis": "x7",
         "y": [
          140.9277693967933
         ],
         "yaxis": "y7"
        },
        {
         "alignmentgroup": "True",
         "hovertemplate": "Pathway=Biomass<br>Period=2021<br>Source=%{x}<br>Production (PJ)=%{y}<extra></extra>",
         "legendgroup": "Biomass",
         "marker": {
          "color": "#FF9900",
          "pattern": {
           "shape": ""
          }
         },
         "name": "Biomass",
         "offsetgroup": "Biomass",
         "orientation": "v",
         "showlegend": true,
         "textfont": {
          "size": 9
         },
         "textposition": "auto",
         "texttemplate": "%{y:.3f}",
         "type": "bar",
         "x": [
          "CEF2023"
         ],
         "xaxis": "x",
         "y": [
          0
         ],
         "yaxis": "y"
        },
        {
         "alignmentgroup": "True",
         "hovertemplate": "Pathway=Biomass<br>Period=2025<br>Source=%{x}<br>Production (PJ)=%{y}<extra></extra>",
         "legendgroup": "Biomass",
         "marker": {
          "color": "#FF9900",
          "pattern": {
           "shape": ""
          }
         },
         "name": "Biomass",
         "offsetgroup": "Biomass",
         "orientation": "v",
         "showlegend": false,
         "textfont": {
          "size": 9
         },
         "textposition": "auto",
         "texttemplate": "%{y:.3f}",
         "type": "bar",
         "x": [
          "CEF2023"
         ],
         "xaxis": "x2",
         "y": [
          0
         ],
         "yaxis": "y2"
        },
        {
         "alignmentgroup": "True",
         "hovertemplate": "Pathway=Biomass<br>Period=2030<br>Source=%{x}<br>Production (PJ)=%{y}<extra></extra>",
         "legendgroup": "Biomass",
         "marker": {
          "color": "#FF9900",
          "pattern": {
           "shape": ""
          }
         },
         "name": "Biomass",
         "offsetgroup": "Biomass",
         "orientation": "v",
         "showlegend": false,
         "textfont": {
          "size": 9
         },
         "textposition": "auto",
         "texttemplate": "%{y:.3f}",
         "type": "bar",
         "x": [
          "CEF2023"
         ],
         "xaxis": "x3",
         "y": [
          0
         ],
         "yaxis": "y3"
        },
        {
         "alignmentgroup": "True",
         "hovertemplate": "Pathway=Biomass<br>Period=2035<br>Source=%{x}<br>Production (PJ)=%{y}<extra></extra>",
         "legendgroup": "Biomass",
         "marker": {
          "color": "#FF9900",
          "pattern": {
           "shape": ""
          }
         },
         "name": "Biomass",
         "offsetgroup": "Biomass",
         "orientation": "v",
         "showlegend": false,
         "textfont": {
          "size": 9
         },
         "textposition": "auto",
         "texttemplate": "%{y:.3f}",
         "type": "bar",
         "x": [
          "CEF2023"
         ],
         "xaxis": "x4",
         "y": [
          0
         ],
         "yaxis": "y4"
        },
        {
         "alignmentgroup": "True",
         "hovertemplate": "Pathway=Biomass<br>Period=2040<br>Source=%{x}<br>Production (PJ)=%{y}<extra></extra>",
         "legendgroup": "Biomass",
         "marker": {
          "color": "#FF9900",
          "pattern": {
           "shape": ""
          }
         },
         "name": "Biomass",
         "offsetgroup": "Biomass",
         "orientation": "v",
         "showlegend": false,
         "textfont": {
          "size": 9
         },
         "textposition": "auto",
         "texttemplate": "%{y:.3f}",
         "type": "bar",
         "x": [
          "CEF2023"
         ],
         "xaxis": "x5",
         "y": [
          0
         ],
         "yaxis": "y5"
        },
        {
         "alignmentgroup": "True",
         "hovertemplate": "Pathway=Biomass<br>Period=2045<br>Source=%{x}<br>Production (PJ)=%{y}<extra></extra>",
         "legendgroup": "Biomass",
         "marker": {
          "color": "#FF9900",
          "pattern": {
           "shape": ""
          }
         },
         "name": "Biomass",
         "offsetgroup": "Biomass",
         "orientation": "v",
         "showlegend": false,
         "textfont": {
          "size": 9
         },
         "textposition": "auto",
         "texttemplate": "%{y:.3f}",
         "type": "bar",
         "x": [
          "CEF2023"
         ],
         "xaxis": "x6",
         "y": [
          0
         ],
         "yaxis": "y6"
        },
        {
         "alignmentgroup": "True",
         "hovertemplate": "Pathway=Biomass<br>Period=2050<br>Source=%{x}<br>Production (PJ)=%{y}<extra></extra>",
         "legendgroup": "Biomass",
         "marker": {
          "color": "#FF9900",
          "pattern": {
           "shape": ""
          }
         },
         "name": "Biomass",
         "offsetgroup": "Biomass",
         "orientation": "v",
         "showlegend": false,
         "textfont": {
          "size": 9
         },
         "textposition": "auto",
         "texttemplate": "%{y:.3f}",
         "type": "bar",
         "x": [
          "CEF2023"
         ],
         "xaxis": "x7",
         "y": [
          0
         ],
         "yaxis": "y7"
        },
        {
         "alignmentgroup": "True",
         "hovertemplate": "Pathway=SMR w CCS<br>Period=2021<br>Source=%{x}<br>Production (PJ)=%{y}<extra></extra>",
         "legendgroup": "SMR w CCS",
         "marker": {
          "color": "#109618",
          "pattern": {
           "shape": ""
          }
         },
         "name": "SMR w CCS",
         "offsetgroup": "SMR w CCS",
         "orientation": "v",
         "showlegend": true,
         "textfont": {
          "size": 9
         },
         "textposition": "auto",
         "texttemplate": "%{y:.3f}",
         "type": "bar",
         "x": [
          "CEF2023",
          "gTech-IESD"
         ],
         "xaxis": "x",
         "y": [
          0,
          0
         ],
         "yaxis": "y"
        },
        {
         "alignmentgroup": "True",
         "hovertemplate": "Pathway=SMR w CCS<br>Period=2025<br>Source=%{x}<br>Production (PJ)=%{y}<extra></extra>",
         "legendgroup": "SMR w CCS",
         "marker": {
          "color": "#109618",
          "pattern": {
           "shape": ""
          }
         },
         "name": "SMR w CCS",
         "offsetgroup": "SMR w CCS",
         "orientation": "v",
         "showlegend": false,
         "textfont": {
          "size": 9
         },
         "textposition": "auto",
         "texttemplate": "%{y:.3f}",
         "type": "bar",
         "x": [
          "CEF2023",
          "gTech-IESD"
         ],
         "xaxis": "x2",
         "y": [
          0,
          0
         ],
         "yaxis": "y2"
        },
        {
         "alignmentgroup": "True",
         "hovertemplate": "Pathway=SMR w CCS<br>Period=2030<br>Source=%{x}<br>Production (PJ)=%{y}<extra></extra>",
         "legendgroup": "SMR w CCS",
         "marker": {
          "color": "#109618",
          "pattern": {
           "shape": ""
          }
         },
         "name": "SMR w CCS",
         "offsetgroup": "SMR w CCS",
         "orientation": "v",
         "showlegend": false,
         "textfont": {
          "size": 9
         },
         "textposition": "auto",
         "texttemplate": "%{y:.3f}",
         "type": "bar",
         "x": [
          "CEF2023",
          "gTech-IESD"
         ],
         "xaxis": "x3",
         "y": [
          0,
          0
         ],
         "yaxis": "y3"
        },
        {
         "alignmentgroup": "True",
         "hovertemplate": "Pathway=SMR w CCS<br>Period=2035<br>Source=%{x}<br>Production (PJ)=%{y}<extra></extra>",
         "legendgroup": "SMR w CCS",
         "marker": {
          "color": "#109618",
          "pattern": {
           "shape": ""
          }
         },
         "name": "SMR w CCS",
         "offsetgroup": "SMR w CCS",
         "orientation": "v",
         "showlegend": false,
         "textfont": {
          "size": 9
         },
         "textposition": "auto",
         "texttemplate": "%{y:.3f}",
         "type": "bar",
         "x": [
          "CEF2023",
          "gTech-IESD"
         ],
         "xaxis": "x4",
         "y": [
          0,
          3.785101746
         ],
         "yaxis": "y4"
        },
        {
         "alignmentgroup": "True",
         "hovertemplate": "Pathway=SMR w CCS<br>Period=2040<br>Source=%{x}<br>Production (PJ)=%{y}<extra></extra>",
         "legendgroup": "SMR w CCS",
         "marker": {
          "color": "#109618",
          "pattern": {
           "shape": ""
          }
         },
         "name": "SMR w CCS",
         "offsetgroup": "SMR w CCS",
         "orientation": "v",
         "showlegend": false,
         "textfont": {
          "size": 9
         },
         "textposition": "auto",
         "texttemplate": "%{y:.3f}",
         "type": "bar",
         "x": [
          "CEF2023",
          "gTech-IESD"
         ],
         "xaxis": "x5",
         "y": [
          0,
          6.59848512
         ],
         "yaxis": "y5"
        },
        {
         "alignmentgroup": "True",
         "hovertemplate": "Pathway=SMR w CCS<br>Period=2045<br>Source=%{x}<br>Production (PJ)=%{y}<extra></extra>",
         "legendgroup": "SMR w CCS",
         "marker": {
          "color": "#109618",
          "pattern": {
           "shape": ""
          }
         },
         "name": "SMR w CCS",
         "offsetgroup": "SMR w CCS",
         "orientation": "v",
         "showlegend": false,
         "textfont": {
          "size": 9
         },
         "textposition": "auto",
         "texttemplate": "%{y:.3f}",
         "type": "bar",
         "x": [
          "CEF2023",
          "gTech-IESD"
         ],
         "xaxis": "x6",
         "y": [
          0,
          9.077010615
         ],
         "yaxis": "y6"
        },
        {
         "alignmentgroup": "True",
         "hovertemplate": "Pathway=SMR w CCS<br>Period=2050<br>Source=%{x}<br>Production (PJ)=%{y}<extra></extra>",
         "legendgroup": "SMR w CCS",
         "marker": {
          "color": "#109618",
          "pattern": {
           "shape": ""
          }
         },
         "name": "SMR w CCS",
         "offsetgroup": "SMR w CCS",
         "orientation": "v",
         "showlegend": false,
         "textfont": {
          "size": 9
         },
         "textposition": "auto",
         "texttemplate": "%{y:.3f}",
         "type": "bar",
         "x": [
          "CEF2023",
          "gTech-IESD"
         ],
         "xaxis": "x7",
         "y": [
          0,
          10.58961938
         ],
         "yaxis": "y7"
        }
       ],
       "layout": {
        "annotations": [
         {
          "font": {},
          "showarrow": false,
          "text": "2021",
          "x": 0.06285714285714285,
          "xanchor": "center",
          "xref": "paper",
          "y": -0.1,
          "yanchor": "top",
          "yref": "paper"
         },
         {
          "font": {},
          "showarrow": false,
          "text": "2025",
          "x": 0.20857142857142852,
          "xanchor": "center",
          "xref": "paper",
          "y": -0.1,
          "yanchor": "top",
          "yref": "paper"
         },
         {
          "font": {},
          "showarrow": false,
          "text": "2030",
          "x": 0.3542857142857142,
          "xanchor": "center",
          "xref": "paper",
          "y": -0.1,
          "yanchor": "top",
          "yref": "paper"
         },
         {
          "font": {},
          "showarrow": false,
          "text": "2035",
          "x": 0.5,
          "xanchor": "center",
          "xref": "paper",
          "y": -0.1,
          "yanchor": "top",
          "yref": "paper"
         },
         {
          "font": {},
          "showarrow": false,
          "text": "2040",
          "x": 0.6457142857142856,
          "xanchor": "center",
          "xref": "paper",
          "y": -0.1,
          "yanchor": "top",
          "yref": "paper"
         },
         {
          "font": {},
          "showarrow": false,
          "text": "2045",
          "x": 0.7914285714285713,
          "xanchor": "center",
          "xref": "paper",
          "y": -0.1,
          "yanchor": "top",
          "yref": "paper"
         },
         {
          "font": {},
          "showarrow": false,
          "text": "2050",
          "x": 0.937142857142857,
          "xanchor": "center",
          "xref": "paper",
          "y": -0.1,
          "yanchor": "top",
          "yref": "paper"
         }
        ],
        "bargap": 0.1,
        "barmode": "stack",
        "font": {
         "size": 14
        },
        "height": 650,
        "legend": {
         "orientation": "h",
         "title": {
          "text": ""
         },
         "tracegroupgap": 0,
         "x": 0.5,
         "xanchor": "center",
         "y": 1.04,
         "yanchor": "top"
        },
        "margin": {
         "t": 60
        },
        "template": {
         "data": {
          "bar": [
           {
            "error_x": {
             "color": "#2a3f5f"
            },
            "error_y": {
             "color": "#2a3f5f"
            },
            "marker": {
             "line": {
              "color": "white",
              "width": 0.5
             },
             "pattern": {
              "fillmode": "overlay",
              "size": 10,
              "solidity": 0.2
             }
            },
            "type": "bar"
           }
          ],
          "barpolar": [
           {
            "marker": {
             "line": {
              "color": "white",
              "width": 0.5
             },
             "pattern": {
              "fillmode": "overlay",
              "size": 10,
              "solidity": 0.2
             }
            },
            "type": "barpolar"
           }
          ],
          "carpet": [
           {
            "aaxis": {
             "endlinecolor": "#2a3f5f",
             "gridcolor": "#C8D4E3",
             "linecolor": "#C8D4E3",
             "minorgridcolor": "#C8D4E3",
             "startlinecolor": "#2a3f5f"
            },
            "baxis": {
             "endlinecolor": "#2a3f5f",
             "gridcolor": "#C8D4E3",
             "linecolor": "#C8D4E3",
             "minorgridcolor": "#C8D4E3",
             "startlinecolor": "#2a3f5f"
            },
            "type": "carpet"
           }
          ],
          "choropleth": [
           {
            "colorbar": {
             "outlinewidth": 0,
             "ticks": ""
            },
            "type": "choropleth"
           }
          ],
          "contour": [
           {
            "colorbar": {
             "outlinewidth": 0,
             "ticks": ""
            },
            "colorscale": [
             [
              0,
              "#0d0887"
             ],
             [
              0.1111111111111111,
              "#46039f"
             ],
             [
              0.2222222222222222,
              "#7201a8"
             ],
             [
              0.3333333333333333,
              "#9c179e"
             ],
             [
              0.4444444444444444,
              "#bd3786"
             ],
             [
              0.5555555555555556,
              "#d8576b"
             ],
             [
              0.6666666666666666,
              "#ed7953"
             ],
             [
              0.7777777777777778,
              "#fb9f3a"
             ],
             [
              0.8888888888888888,
              "#fdca26"
             ],
             [
              1,
              "#f0f921"
             ]
            ],
            "type": "contour"
           }
          ],
          "contourcarpet": [
           {
            "colorbar": {
             "outlinewidth": 0,
             "ticks": ""
            },
            "type": "contourcarpet"
           }
          ],
          "heatmap": [
           {
            "colorbar": {
             "outlinewidth": 0,
             "ticks": ""
            },
            "colorscale": [
             [
              0,
              "#0d0887"
             ],
             [
              0.1111111111111111,
              "#46039f"
             ],
             [
              0.2222222222222222,
              "#7201a8"
             ],
             [
              0.3333333333333333,
              "#9c179e"
             ],
             [
              0.4444444444444444,
              "#bd3786"
             ],
             [
              0.5555555555555556,
              "#d8576b"
             ],
             [
              0.6666666666666666,
              "#ed7953"
             ],
             [
              0.7777777777777778,
              "#fb9f3a"
             ],
             [
              0.8888888888888888,
              "#fdca26"
             ],
             [
              1,
              "#f0f921"
             ]
            ],
            "type": "heatmap"
           }
          ],
          "heatmapgl": [
           {
            "colorbar": {
             "outlinewidth": 0,
             "ticks": ""
            },
            "colorscale": [
             [
              0,
              "#0d0887"
             ],
             [
              0.1111111111111111,
              "#46039f"
             ],
             [
              0.2222222222222222,
              "#7201a8"
             ],
             [
              0.3333333333333333,
              "#9c179e"
             ],
             [
              0.4444444444444444,
              "#bd3786"
             ],
             [
              0.5555555555555556,
              "#d8576b"
             ],
             [
              0.6666666666666666,
              "#ed7953"
             ],
             [
              0.7777777777777778,
              "#fb9f3a"
             ],
             [
              0.8888888888888888,
              "#fdca26"
             ],
             [
              1,
              "#f0f921"
             ]
            ],
            "type": "heatmapgl"
           }
          ],
          "histogram": [
           {
            "marker": {
             "pattern": {
              "fillmode": "overlay",
              "size": 10,
              "solidity": 0.2
             }
            },
            "type": "histogram"
           }
          ],
          "histogram2d": [
           {
            "colorbar": {
             "outlinewidth": 0,
             "ticks": ""
            },
            "colorscale": [
             [
              0,
              "#0d0887"
             ],
             [
              0.1111111111111111,
              "#46039f"
             ],
             [
              0.2222222222222222,
              "#7201a8"
             ],
             [
              0.3333333333333333,
              "#9c179e"
             ],
             [
              0.4444444444444444,
              "#bd3786"
             ],
             [
              0.5555555555555556,
              "#d8576b"
             ],
             [
              0.6666666666666666,
              "#ed7953"
             ],
             [
              0.7777777777777778,
              "#fb9f3a"
             ],
             [
              0.8888888888888888,
              "#fdca26"
             ],
             [
              1,
              "#f0f921"
             ]
            ],
            "type": "histogram2d"
           }
          ],
          "histogram2dcontour": [
           {
            "colorbar": {
             "outlinewidth": 0,
             "ticks": ""
            },
            "colorscale": [
             [
              0,
              "#0d0887"
             ],
             [
              0.1111111111111111,
              "#46039f"
             ],
             [
              0.2222222222222222,
              "#7201a8"
             ],
             [
              0.3333333333333333,
              "#9c179e"
             ],
             [
              0.4444444444444444,
              "#bd3786"
             ],
             [
              0.5555555555555556,
              "#d8576b"
             ],
             [
              0.6666666666666666,
              "#ed7953"
             ],
             [
              0.7777777777777778,
              "#fb9f3a"
             ],
             [
              0.8888888888888888,
              "#fdca26"
             ],
             [
              1,
              "#f0f921"
             ]
            ],
            "type": "histogram2dcontour"
           }
          ],
          "mesh3d": [
           {
            "colorbar": {
             "outlinewidth": 0,
             "ticks": ""
            },
            "type": "mesh3d"
           }
          ],
          "parcoords": [
           {
            "line": {
             "colorbar": {
              "outlinewidth": 0,
              "ticks": ""
             }
            },
            "type": "parcoords"
           }
          ],
          "pie": [
           {
            "automargin": true,
            "type": "pie"
           }
          ],
          "scatter": [
           {
            "fillpattern": {
             "fillmode": "overlay",
             "size": 10,
             "solidity": 0.2
            },
            "type": "scatter"
           }
          ],
          "scatter3d": [
           {
            "line": {
             "colorbar": {
              "outlinewidth": 0,
              "ticks": ""
             }
            },
            "marker": {
             "colorbar": {
              "outlinewidth": 0,
              "ticks": ""
             }
            },
            "type": "scatter3d"
           }
          ],
          "scattercarpet": [
           {
            "marker": {
             "colorbar": {
              "outlinewidth": 0,
              "ticks": ""
             }
            },
            "type": "scattercarpet"
           }
          ],
          "scattergeo": [
           {
            "marker": {
             "colorbar": {
              "outlinewidth": 0,
              "ticks": ""
             }
            },
            "type": "scattergeo"
           }
          ],
          "scattergl": [
           {
            "marker": {
             "colorbar": {
              "outlinewidth": 0,
              "ticks": ""
             }
            },
            "type": "scattergl"
           }
          ],
          "scattermapbox": [
           {
            "marker": {
             "colorbar": {
              "outlinewidth": 0,
              "ticks": ""
             }
            },
            "type": "scattermapbox"
           }
          ],
          "scatterpolar": [
           {
            "marker": {
             "colorbar": {
              "outlinewidth": 0,
              "ticks": ""
             }
            },
            "type": "scatterpolar"
           }
          ],
          "scatterpolargl": [
           {
            "marker": {
             "colorbar": {
              "outlinewidth": 0,
              "ticks": ""
             }
            },
            "type": "scatterpolargl"
           }
          ],
          "scatterternary": [
           {
            "marker": {
             "colorbar": {
              "outlinewidth": 0,
              "ticks": ""
             }
            },
            "type": "scatterternary"
           }
          ],
          "surface": [
           {
            "colorbar": {
             "outlinewidth": 0,
             "ticks": ""
            },
            "colorscale": [
             [
              0,
              "#0d0887"
             ],
             [
              0.1111111111111111,
              "#46039f"
             ],
             [
              0.2222222222222222,
              "#7201a8"
             ],
             [
              0.3333333333333333,
              "#9c179e"
             ],
             [
              0.4444444444444444,
              "#bd3786"
             ],
             [
              0.5555555555555556,
              "#d8576b"
             ],
             [
              0.6666666666666666,
              "#ed7953"
             ],
             [
              0.7777777777777778,
              "#fb9f3a"
             ],
             [
              0.8888888888888888,
              "#fdca26"
             ],
             [
              1,
              "#f0f921"
             ]
            ],
            "type": "surface"
           }
          ],
          "table": [
           {
            "cells": {
             "fill": {
              "color": "#EBF0F8"
             },
             "line": {
              "color": "white"
             }
            },
            "header": {
             "fill": {
              "color": "#C8D4E3"
             },
             "line": {
              "color": "white"
             }
            },
            "type": "table"
           }
          ]
         },
         "layout": {
          "annotationdefaults": {
           "arrowcolor": "#2a3f5f",
           "arrowhead": 0,
           "arrowwidth": 1
          },
          "autotypenumbers": "strict",
          "coloraxis": {
           "colorbar": {
            "outlinewidth": 0,
            "ticks": ""
           }
          },
          "colorscale": {
           "diverging": [
            [
             0,
             "#8e0152"
            ],
            [
             0.1,
             "#c51b7d"
            ],
            [
             0.2,
             "#de77ae"
            ],
            [
             0.3,
             "#f1b6da"
            ],
            [
             0.4,
             "#fde0ef"
            ],
            [
             0.5,
             "#f7f7f7"
            ],
            [
             0.6,
             "#e6f5d0"
            ],
            [
             0.7,
             "#b8e186"
            ],
            [
             0.8,
             "#7fbc41"
            ],
            [
             0.9,
             "#4d9221"
            ],
            [
             1,
             "#276419"
            ]
           ],
           "sequential": [
            [
             0,
             "#0d0887"
            ],
            [
             0.1111111111111111,
             "#46039f"
            ],
            [
             0.2222222222222222,
             "#7201a8"
            ],
            [
             0.3333333333333333,
             "#9c179e"
            ],
            [
             0.4444444444444444,
             "#bd3786"
            ],
            [
             0.5555555555555556,
             "#d8576b"
            ],
            [
             0.6666666666666666,
             "#ed7953"
            ],
            [
             0.7777777777777778,
             "#fb9f3a"
            ],
            [
             0.8888888888888888,
             "#fdca26"
            ],
            [
             1,
             "#f0f921"
            ]
           ],
           "sequentialminus": [
            [
             0,
             "#0d0887"
            ],
            [
             0.1111111111111111,
             "#46039f"
            ],
            [
             0.2222222222222222,
             "#7201a8"
            ],
            [
             0.3333333333333333,
             "#9c179e"
            ],
            [
             0.4444444444444444,
             "#bd3786"
            ],
            [
             0.5555555555555556,
             "#d8576b"
            ],
            [
             0.6666666666666666,
             "#ed7953"
            ],
            [
             0.7777777777777778,
             "#fb9f3a"
            ],
            [
             0.8888888888888888,
             "#fdca26"
            ],
            [
             1,
             "#f0f921"
            ]
           ]
          },
          "colorway": [
           "#636efa",
           "#EF553B",
           "#00cc96",
           "#ab63fa",
           "#FFA15A",
           "#19d3f3",
           "#FF6692",
           "#B6E880",
           "#FF97FF",
           "#FECB52"
          ],
          "font": {
           "color": "#2a3f5f"
          },
          "geo": {
           "bgcolor": "white",
           "lakecolor": "white",
           "landcolor": "white",
           "showlakes": true,
           "showland": true,
           "subunitcolor": "#C8D4E3"
          },
          "hoverlabel": {
           "align": "left"
          },
          "hovermode": "closest",
          "mapbox": {
           "style": "light"
          },
          "paper_bgcolor": "white",
          "plot_bgcolor": "white",
          "polar": {
           "angularaxis": {
            "gridcolor": "#EBF0F8",
            "linecolor": "#EBF0F8",
            "ticks": ""
           },
           "bgcolor": "white",
           "radialaxis": {
            "gridcolor": "#EBF0F8",
            "linecolor": "#EBF0F8",
            "ticks": ""
           }
          },
          "scene": {
           "xaxis": {
            "backgroundcolor": "white",
            "gridcolor": "#DFE8F3",
            "gridwidth": 2,
            "linecolor": "#EBF0F8",
            "showbackground": true,
            "ticks": "",
            "zerolinecolor": "#EBF0F8"
           },
           "yaxis": {
            "backgroundcolor": "white",
            "gridcolor": "#DFE8F3",
            "gridwidth": 2,
            "linecolor": "#EBF0F8",
            "showbackground": true,
            "ticks": "",
            "zerolinecolor": "#EBF0F8"
           },
           "zaxis": {
            "backgroundcolor": "white",
            "gridcolor": "#DFE8F3",
            "gridwidth": 2,
            "linecolor": "#EBF0F8",
            "showbackground": true,
            "ticks": "",
            "zerolinecolor": "#EBF0F8"
           }
          },
          "shapedefaults": {
           "line": {
            "color": "#2a3f5f"
           }
          },
          "ternary": {
           "aaxis": {
            "gridcolor": "#DFE8F3",
            "linecolor": "#A2B1C6",
            "ticks": ""
           },
           "baxis": {
            "gridcolor": "#DFE8F3",
            "linecolor": "#A2B1C6",
            "ticks": ""
           },
           "bgcolor": "white",
           "caxis": {
            "gridcolor": "#DFE8F3",
            "linecolor": "#A2B1C6",
            "ticks": ""
           }
          },
          "title": {
           "x": 0.05
          },
          "xaxis": {
           "automargin": true,
           "gridcolor": "#EBF0F8",
           "linecolor": "#EBF0F8",
           "ticks": "",
           "title": {
            "standoff": 15
           },
           "zerolinecolor": "#EBF0F8",
           "zerolinewidth": 2
          },
          "yaxis": {
           "automargin": true,
           "gridcolor": "#EBF0F8",
           "linecolor": "#EBF0F8",
           "ticks": "",
           "title": {
            "standoff": 15
           },
           "zerolinecolor": "#EBF0F8",
           "zerolinewidth": 2
          }
         }
        },
        "title": {
         "text": "H2 production in ON by pathway and energy model",
         "x": 0.5,
         "xanchor": "center",
         "y": 0.97,
         "yanchor": "top"
        },
        "width": 1150,
        "xaxis": {
         "anchor": "y",
         "domain": [
          0,
          0.1257142857142857
         ],
         "title": {
          "text": ""
         }
        },
        "xaxis2": {
         "anchor": "y2",
         "domain": [
          0.14571428571428569,
          0.27142857142857135
         ],
         "matches": "x",
         "title": {
          "text": ""
         }
        },
        "xaxis3": {
         "anchor": "y3",
         "domain": [
          0.29142857142857137,
          0.41714285714285704
         ],
         "matches": "x",
         "title": {
          "text": ""
         }
        },
        "xaxis4": {
         "anchor": "y4",
         "domain": [
          0.4371428571428571,
          0.5628571428571428
         ],
         "matches": "x",
         "title": {
          "text": ""
         }
        },
        "xaxis5": {
         "anchor": "y5",
         "domain": [
          0.5828571428571427,
          0.7085714285714284
         ],
         "matches": "x",
         "title": {
          "text": ""
         }
        },
        "xaxis6": {
         "anchor": "y6",
         "domain": [
          0.7285714285714284,
          0.8542857142857141
         ],
         "matches": "x",
         "title": {
          "text": ""
         }
        },
        "xaxis7": {
         "anchor": "y7",
         "domain": [
          0.8742857142857142,
          0.9999999999999999
         ],
         "matches": "x",
         "title": {
          "text": ""
         }
        },
        "yaxis": {
         "anchor": "x",
         "domain": [
          0,
          1
         ],
         "title": {
          "standoff": 0,
          "text": "log(Production [PJ])"
         },
         "type": "log"
        },
        "yaxis2": {
         "anchor": "x2",
         "domain": [
          0,
          1
         ],
         "matches": "y",
         "showticklabels": false,
         "type": "log"
        },
        "yaxis3": {
         "anchor": "x3",
         "domain": [
          0,
          1
         ],
         "matches": "y",
         "showticklabels": false,
         "type": "log"
        },
        "yaxis4": {
         "anchor": "x4",
         "domain": [
          0,
          1
         ],
         "matches": "y",
         "showticklabels": false,
         "type": "log"
        },
        "yaxis5": {
         "anchor": "x5",
         "domain": [
          0,
          1
         ],
         "matches": "y",
         "showticklabels": false,
         "type": "log"
        },
        "yaxis6": {
         "anchor": "x6",
         "domain": [
          0,
          1
         ],
         "matches": "y",
         "showticklabels": false,
         "type": "log"
        },
        "yaxis7": {
         "anchor": "x7",
         "domain": [
          0,
          1
         ],
         "matches": "y",
         "showticklabels": false,
         "type": "log"
        }
       }
      }
     },
     "metadata": {},
     "output_type": "display_data"
    }
   ],
   "source": [
    "ref_fig = ref_trnact[(ref_trnact['Technology'] == 'I_H2_ELEC') | (ref_trnact['Technology'] == 'I_H2_SMR')][['Period', 'Technology', 'Demand (PJ)']].copy()\n",
    "ref_fig['Technology'] = ref_fig['Technology'].replace({'I_H2_ELEC': 'Electrolysis', 'I_H2_SMR': 'SMR w/o CCS'})\n",
    "ref_fig = ref_fig.rename(columns={'Technology': 'Pathway', 'Demand (PJ)': 'Production (PJ)'})\n",
    "\n",
    "# HHV of H2 from Table A - https://archives.bape.gouv.qc.ca/sections/mandats/becancour/documents/DC4.pdf\n",
    "bau23_h2['Production (PJ)'] = bau23_h2['Production (Mt)'] * 141.9 # PJ/Mt = MJ/kg\n",
    "bau23_fig = bau23_h2[['Period', 'Pathway', 'Production (PJ)']].copy()\n",
    "\n",
    "gtech23_fig = gtech23_ref_h2.fillna(0.)\n",
    "gtech23_fig['Period'] = gtech23_fig['Period'].astype(str)\n",
    "\n",
    "bau23_fig['Source'] = 'CEF2023'\n",
    "ref_fig['Source'] = 'CANOE'\n",
    "gtech23_fig['Source'] = 'gTech-IESD'\n",
    "\n",
    "fig_df = pd.concat([ref_fig, bau23_fig, gtech23_fig])\n",
    "\n",
    "fig = px.bar(fig_df, \n",
    "             x='Source', \n",
    "             y='Production (PJ)', \n",
    "             color='Pathway', \n",
    "             barmode='stack', \n",
    "             facet_col='Period',\n",
    "             facet_col_spacing=2E-2,\n",
    "             template='plotly_white',\n",
    "             color_discrete_sequence=px.colors.qualitative.G10[:7] + px.colors.qualitative.G10[8:],\n",
    "             text_auto='.3f',\n",
    "            #  text='Demand (PJ)_sum'\n",
    "             width=1150, height=650,\n",
    "             )\n",
    "\n",
    "fig.update_layout(title=dict(\n",
    "        text='H2 production in ON by pathway and energy model',\n",
    "        x=0.5, \n",
    "        y=0.97,\n",
    "        xanchor='center',\n",
    "        yanchor='top'\n",
    "    ),\n",
    "    xaxis=dict(title='Period'),\n",
    "    yaxis=dict(title='log(Production [PJ])',\n",
    "            #    dtick=2,\n",
    "               type='log'\n",
    "               ),\n",
    "    yaxis_title_standoff=0,\n",
    "    legend_title_text='',\n",
    "    bargap=0.1,\n",
    "    legend=dict(\n",
    "        orientation='h',  \n",
    "        yanchor='top',\n",
    "        y=1.04,  \n",
    "        xanchor='center',\n",
    "        x=0.5),\n",
    "    font=dict(\n",
    "        # family=\"Open Sans\",\n",
    "        size=14)\n",
    "    )\n",
    "\n",
    "for axis in fig.layout:\n",
    "    if axis.startswith('yaxis'):\n",
    "        fig.layout[axis].type = 'log'\n",
    "\n",
    "for annotation in fig.layout.annotations:\n",
    "    annotation.text = annotation.text.split('=')[1]\n",
    "    annotation.y = -0.1  \n",
    "    annotation.yanchor = 'top' \n",
    "\n",
    "for axis in fig.layout:\n",
    "    if axis.startswith('xaxis'):\n",
    "        fig.layout[axis].title.text = ''\n",
    "\n",
    "fig.for_each_trace(lambda trace: trace.update(textfont=dict(size=9)))\n",
    "\n",
    "fig.show()"
   ]
  },
  {
   "cell_type": "code",
   "execution_count": 39,
   "metadata": {},
   "outputs": [],
   "source": [
    "morris_cost = pd.read_csv(\"canoe_trn_vanilla_mmorris/MM_outputs/cost_analysis.csv\")\n",
    "morris_co2 = pd.read_csv(\"canoe_trn_vanilla_mmorris/MM_outputs/co2_analysis.csv\")"
   ]
  },
  {
   "cell_type": "code",
   "execution_count": 40,
   "metadata": {},
   "outputs": [
    {
     "data": {
      "text/plain": [
       "array(['H2_supply_cap_cost', 'MHDV_H2_eff', 'MHDV_H2_cap_cost',\n",
       "       'LDV_BEV_cap_cost', 'LDV_BEV_eff', 'RT_fuel_cost'], dtype=object)"
      ]
     },
     "execution_count": 40,
     "metadata": {},
     "output_type": "execute_result"
    }
   ],
   "source": [
    "morris_df = pd.DataFrame({\n",
    "    'param': morris_cost['param'],\n",
    "    'cost_mu_star': morris_cost['mu_star'],\n",
    "    'cost_mu_star_conf': morris_cost['Mu_Star_Conf[0.95]'],\n",
    "    'co2_mu_star': morris_co2['mu_star'],\n",
    "    'co2_mu_star_conf': morris_co2['Mu_Star_Conf[0.95]']\n",
    "}).sort_values(by='cost_mu_star', ascending=True)\n",
    "\n",
    "morris_df.param.unique()"
   ]
  },
  {
   "cell_type": "code",
   "execution_count": 41,
   "metadata": {},
   "outputs": [],
   "source": [
    "morris_df.param = morris_df.param.replace({\n",
    "    'RT_fuel_cost': 'RT fuel costs', \n",
    "    'LDV_BEV_cap_cost': 'LD BEV capital costs', \n",
    "    'LDV_BEV_eff': 'LD BEV efficiencies',\n",
    "    'MHDV_H2_cap_cost': 'M&HD FCEV capital costs', \n",
    "    'MHDV_H2_eff': 'M&HD FCEV efficiencies', \n",
    "    'H2_supply_cap_cost': 'H2 production capital costs'})"
   ]
  },
  {
   "cell_type": "code",
   "execution_count": 42,
   "metadata": {},
   "outputs": [
    {
     "data": {
      "text/html": [
       "<div>\n",
       "<style scoped>\n",
       "    .dataframe tbody tr th:only-of-type {\n",
       "        vertical-align: middle;\n",
       "    }\n",
       "\n",
       "    .dataframe tbody tr th {\n",
       "        vertical-align: top;\n",
       "    }\n",
       "\n",
       "    .dataframe thead th {\n",
       "        text-align: right;\n",
       "    }\n",
       "</style>\n",
       "<table border=\"1\" class=\"dataframe\">\n",
       "  <thead>\n",
       "    <tr style=\"text-align: right;\">\n",
       "      <th></th>\n",
       "      <th>param</th>\n",
       "      <th>cost_mu_star</th>\n",
       "      <th>cost_mu_star_conf</th>\n",
       "      <th>co2_mu_star</th>\n",
       "      <th>co2_mu_star_conf</th>\n",
       "    </tr>\n",
       "  </thead>\n",
       "  <tbody>\n",
       "    <tr>\n",
       "      <th>3</th>\n",
       "      <td>H2 production capital costs</td>\n",
       "      <td>613.476062</td>\n",
       "      <td>395.159296</td>\n",
       "      <td>929.200205</td>\n",
       "      <td>777.218427</td>\n",
       "    </tr>\n",
       "    <tr>\n",
       "      <th>5</th>\n",
       "      <td>M&amp;HD FCEV efficiencies</td>\n",
       "      <td>1764.042379</td>\n",
       "      <td>629.276571</td>\n",
       "      <td>4872.493547</td>\n",
       "      <td>1798.710817</td>\n",
       "    </tr>\n",
       "    <tr>\n",
       "      <th>2</th>\n",
       "      <td>M&amp;HD FCEV capital costs</td>\n",
       "      <td>2419.566352</td>\n",
       "      <td>1065.781338</td>\n",
       "      <td>4517.708035</td>\n",
       "      <td>1784.213160</td>\n",
       "    </tr>\n",
       "    <tr>\n",
       "      <th>1</th>\n",
       "      <td>LD BEV capital costs</td>\n",
       "      <td>11268.555842</td>\n",
       "      <td>4846.225551</td>\n",
       "      <td>3732.336928</td>\n",
       "      <td>1488.247637</td>\n",
       "    </tr>\n",
       "    <tr>\n",
       "      <th>4</th>\n",
       "      <td>LD BEV efficiencies</td>\n",
       "      <td>11776.638125</td>\n",
       "      <td>4447.991605</td>\n",
       "      <td>3640.982059</td>\n",
       "      <td>1468.744420</td>\n",
       "    </tr>\n",
       "    <tr>\n",
       "      <th>0</th>\n",
       "      <td>RT fuel costs</td>\n",
       "      <td>21042.154109</td>\n",
       "      <td>8386.531948</td>\n",
       "      <td>4717.083469</td>\n",
       "      <td>2646.114713</td>\n",
       "    </tr>\n",
       "  </tbody>\n",
       "</table>\n",
       "</div>"
      ],
      "text/plain": [
       "                         param  cost_mu_star  cost_mu_star_conf  co2_mu_star  \\\n",
       "3  H2 production capital costs    613.476062         395.159296   929.200205   \n",
       "5       M&HD FCEV efficiencies   1764.042379         629.276571  4872.493547   \n",
       "2      M&HD FCEV capital costs   2419.566352        1065.781338  4517.708035   \n",
       "1         LD BEV capital costs  11268.555842        4846.225551  3732.336928   \n",
       "4          LD BEV efficiencies  11776.638125        4447.991605  3640.982059   \n",
       "0                RT fuel costs  21042.154109        8386.531948  4717.083469   \n",
       "\n",
       "   co2_mu_star_conf  \n",
       "3        777.218427  \n",
       "5       1798.710817  \n",
       "2       1784.213160  \n",
       "1       1488.247637  \n",
       "4       1468.744420  \n",
       "0       2646.114713  "
      ]
     },
     "execution_count": 42,
     "metadata": {},
     "output_type": "execute_result"
    }
   ],
   "source": [
    "morris_df"
   ]
  },
  {
   "cell_type": "code",
   "execution_count": 43,
   "metadata": {},
   "outputs": [
    {
     "data": {
      "text/html": [
       "\n",
       "<script src=\"https://cdnjs.cloudflare.com/ajax/libs/mathjax/2.7.5/MathJax.js?config=TeX-MML-AM_CHTML\" async></script>\n"
      ],
      "text/plain": [
       "<IPython.core.display.HTML object>"
      ]
     },
     "metadata": {},
     "output_type": "display_data"
    }
   ],
   "source": [
    "from IPython.display import display, HTML\n",
    "\n",
    "display(HTML(\"\"\"\n",
    "<script src=\"https://cdnjs.cloudflare.com/ajax/libs/mathjax/2.7.5/MathJax.js?config=TeX-MML-AM_CHTML\" async></script>\n",
    "\"\"\"))"
   ]
  },
  {
   "cell_type": "code",
   "execution_count": 44,
   "metadata": {},
   "outputs": [
    {
     "data": {
      "application/vnd.plotly.v1+json": {
       "config": {
        "plotlyServerURL": "https://plot.ly"
       },
       "data": [
        {
         "error_x": {
          "array": [
           395.1592963642879,
           629.276570651774,
           1065.781338125523,
           4846.225551467727,
           4447.991605156304,
           8386.531947759935
          ],
          "type": "data",
          "visible": true
         },
         "marker": {
          "color": "green"
         },
         "name": "Average absolute change in model objective ($MM CAD)",
         "orientation": "h",
         "type": "bar",
         "x": [
          613.4760615413929,
          1764.0423793934556,
          2419.5663516146456,
          11268.555842442584,
          11776.638125422389,
          21042.15410941176
         ],
         "y": [
          "H2 production capital costs",
          "M&HD FCEV efficiencies",
          "M&HD FCEV capital costs",
          "LD BEV capital costs",
          "LD BEV efficiencies",
          "RT fuel costs"
         ]
        },
        {
         "error_x": {
          "array": [
           777.2184267075058,
           1798.7108167870283,
           1784.2131598244343,
           1488.2476370176926,
           1468.7444199644922,
           2646.114712999183
          ],
          "type": "data",
          "visible": true
         },
         "marker": {
          "color": "red"
         },
         "name": "Average absolute change in total emissions (ktonne CO2e)",
         "orientation": "h",
         "type": "bar",
         "x": [
          929.2002049306448,
          4872.493547134539,
          4517.708035029968,
          3732.3369284723294,
          3640.982059013967,
          4717.08346924727
         ],
         "y": [
          "H2 production capital costs",
          "M&HD FCEV efficiencies",
          "M&HD FCEV capital costs",
          "LD BEV capital costs",
          "LD BEV efficiencies",
          "RT fuel costs"
         ]
        }
       ],
       "layout": {
        "annotations": [
         {
          "font": {
           "size": 15
          },
          "showarrow": false,
          "text": "$(\\mu^*)$",
          "x": 0.82,
          "xref": "paper",
          "y": -0.12,
          "yref": "paper"
         }
        ],
        "bargap": 0.15,
        "barmode": "group",
        "font": {
         "size": 15
        },
        "height": 600,
        "legend": {
         "orientation": "h",
         "title": {
          "text": ""
         },
         "traceorder": "reversed",
         "x": 0.35,
         "xanchor": "center",
         "y": 1.13,
         "yanchor": "top"
        },
        "plot_bgcolor": "white",
        "template": {
         "data": {
          "bar": [
           {
            "error_x": {
             "color": "#2a3f5f"
            },
            "error_y": {
             "color": "#2a3f5f"
            },
            "marker": {
             "line": {
              "color": "#E5ECF6",
              "width": 0.5
             },
             "pattern": {
              "fillmode": "overlay",
              "size": 10,
              "solidity": 0.2
             }
            },
            "type": "bar"
           }
          ],
          "barpolar": [
           {
            "marker": {
             "line": {
              "color": "#E5ECF6",
              "width": 0.5
             },
             "pattern": {
              "fillmode": "overlay",
              "size": 10,
              "solidity": 0.2
             }
            },
            "type": "barpolar"
           }
          ],
          "carpet": [
           {
            "aaxis": {
             "endlinecolor": "#2a3f5f",
             "gridcolor": "white",
             "linecolor": "white",
             "minorgridcolor": "white",
             "startlinecolor": "#2a3f5f"
            },
            "baxis": {
             "endlinecolor": "#2a3f5f",
             "gridcolor": "white",
             "linecolor": "white",
             "minorgridcolor": "white",
             "startlinecolor": "#2a3f5f"
            },
            "type": "carpet"
           }
          ],
          "choropleth": [
           {
            "colorbar": {
             "outlinewidth": 0,
             "ticks": ""
            },
            "type": "choropleth"
           }
          ],
          "contour": [
           {
            "colorbar": {
             "outlinewidth": 0,
             "ticks": ""
            },
            "colorscale": [
             [
              0,
              "#0d0887"
             ],
             [
              0.1111111111111111,
              "#46039f"
             ],
             [
              0.2222222222222222,
              "#7201a8"
             ],
             [
              0.3333333333333333,
              "#9c179e"
             ],
             [
              0.4444444444444444,
              "#bd3786"
             ],
             [
              0.5555555555555556,
              "#d8576b"
             ],
             [
              0.6666666666666666,
              "#ed7953"
             ],
             [
              0.7777777777777778,
              "#fb9f3a"
             ],
             [
              0.8888888888888888,
              "#fdca26"
             ],
             [
              1,
              "#f0f921"
             ]
            ],
            "type": "contour"
           }
          ],
          "contourcarpet": [
           {
            "colorbar": {
             "outlinewidth": 0,
             "ticks": ""
            },
            "type": "contourcarpet"
           }
          ],
          "heatmap": [
           {
            "colorbar": {
             "outlinewidth": 0,
             "ticks": ""
            },
            "colorscale": [
             [
              0,
              "#0d0887"
             ],
             [
              0.1111111111111111,
              "#46039f"
             ],
             [
              0.2222222222222222,
              "#7201a8"
             ],
             [
              0.3333333333333333,
              "#9c179e"
             ],
             [
              0.4444444444444444,
              "#bd3786"
             ],
             [
              0.5555555555555556,
              "#d8576b"
             ],
             [
              0.6666666666666666,
              "#ed7953"
             ],
             [
              0.7777777777777778,
              "#fb9f3a"
             ],
             [
              0.8888888888888888,
              "#fdca26"
             ],
             [
              1,
              "#f0f921"
             ]
            ],
            "type": "heatmap"
           }
          ],
          "heatmapgl": [
           {
            "colorbar": {
             "outlinewidth": 0,
             "ticks": ""
            },
            "colorscale": [
             [
              0,
              "#0d0887"
             ],
             [
              0.1111111111111111,
              "#46039f"
             ],
             [
              0.2222222222222222,
              "#7201a8"
             ],
             [
              0.3333333333333333,
              "#9c179e"
             ],
             [
              0.4444444444444444,
              "#bd3786"
             ],
             [
              0.5555555555555556,
              "#d8576b"
             ],
             [
              0.6666666666666666,
              "#ed7953"
             ],
             [
              0.7777777777777778,
              "#fb9f3a"
             ],
             [
              0.8888888888888888,
              "#fdca26"
             ],
             [
              1,
              "#f0f921"
             ]
            ],
            "type": "heatmapgl"
           }
          ],
          "histogram": [
           {
            "marker": {
             "pattern": {
              "fillmode": "overlay",
              "size": 10,
              "solidity": 0.2
             }
            },
            "type": "histogram"
           }
          ],
          "histogram2d": [
           {
            "colorbar": {
             "outlinewidth": 0,
             "ticks": ""
            },
            "colorscale": [
             [
              0,
              "#0d0887"
             ],
             [
              0.1111111111111111,
              "#46039f"
             ],
             [
              0.2222222222222222,
              "#7201a8"
             ],
             [
              0.3333333333333333,
              "#9c179e"
             ],
             [
              0.4444444444444444,
              "#bd3786"
             ],
             [
              0.5555555555555556,
              "#d8576b"
             ],
             [
              0.6666666666666666,
              "#ed7953"
             ],
             [
              0.7777777777777778,
              "#fb9f3a"
             ],
             [
              0.8888888888888888,
              "#fdca26"
             ],
             [
              1,
              "#f0f921"
             ]
            ],
            "type": "histogram2d"
           }
          ],
          "histogram2dcontour": [
           {
            "colorbar": {
             "outlinewidth": 0,
             "ticks": ""
            },
            "colorscale": [
             [
              0,
              "#0d0887"
             ],
             [
              0.1111111111111111,
              "#46039f"
             ],
             [
              0.2222222222222222,
              "#7201a8"
             ],
             [
              0.3333333333333333,
              "#9c179e"
             ],
             [
              0.4444444444444444,
              "#bd3786"
             ],
             [
              0.5555555555555556,
              "#d8576b"
             ],
             [
              0.6666666666666666,
              "#ed7953"
             ],
             [
              0.7777777777777778,
              "#fb9f3a"
             ],
             [
              0.8888888888888888,
              "#fdca26"
             ],
             [
              1,
              "#f0f921"
             ]
            ],
            "type": "histogram2dcontour"
           }
          ],
          "mesh3d": [
           {
            "colorbar": {
             "outlinewidth": 0,
             "ticks": ""
            },
            "type": "mesh3d"
           }
          ],
          "parcoords": [
           {
            "line": {
             "colorbar": {
              "outlinewidth": 0,
              "ticks": ""
             }
            },
            "type": "parcoords"
           }
          ],
          "pie": [
           {
            "automargin": true,
            "type": "pie"
           }
          ],
          "scatter": [
           {
            "fillpattern": {
             "fillmode": "overlay",
             "size": 10,
             "solidity": 0.2
            },
            "type": "scatter"
           }
          ],
          "scatter3d": [
           {
            "line": {
             "colorbar": {
              "outlinewidth": 0,
              "ticks": ""
             }
            },
            "marker": {
             "colorbar": {
              "outlinewidth": 0,
              "ticks": ""
             }
            },
            "type": "scatter3d"
           }
          ],
          "scattercarpet": [
           {
            "marker": {
             "colorbar": {
              "outlinewidth": 0,
              "ticks": ""
             }
            },
            "type": "scattercarpet"
           }
          ],
          "scattergeo": [
           {
            "marker": {
             "colorbar": {
              "outlinewidth": 0,
              "ticks": ""
             }
            },
            "type": "scattergeo"
           }
          ],
          "scattergl": [
           {
            "marker": {
             "colorbar": {
              "outlinewidth": 0,
              "ticks": ""
             }
            },
            "type": "scattergl"
           }
          ],
          "scattermapbox": [
           {
            "marker": {
             "colorbar": {
              "outlinewidth": 0,
              "ticks": ""
             }
            },
            "type": "scattermapbox"
           }
          ],
          "scatterpolar": [
           {
            "marker": {
             "colorbar": {
              "outlinewidth": 0,
              "ticks": ""
             }
            },
            "type": "scatterpolar"
           }
          ],
          "scatterpolargl": [
           {
            "marker": {
             "colorbar": {
              "outlinewidth": 0,
              "ticks": ""
             }
            },
            "type": "scatterpolargl"
           }
          ],
          "scatterternary": [
           {
            "marker": {
             "colorbar": {
              "outlinewidth": 0,
              "ticks": ""
             }
            },
            "type": "scatterternary"
           }
          ],
          "surface": [
           {
            "colorbar": {
             "outlinewidth": 0,
             "ticks": ""
            },
            "colorscale": [
             [
              0,
              "#0d0887"
             ],
             [
              0.1111111111111111,
              "#46039f"
             ],
             [
              0.2222222222222222,
              "#7201a8"
             ],
             [
              0.3333333333333333,
              "#9c179e"
             ],
             [
              0.4444444444444444,
              "#bd3786"
             ],
             [
              0.5555555555555556,
              "#d8576b"
             ],
             [
              0.6666666666666666,
              "#ed7953"
             ],
             [
              0.7777777777777778,
              "#fb9f3a"
             ],
             [
              0.8888888888888888,
              "#fdca26"
             ],
             [
              1,
              "#f0f921"
             ]
            ],
            "type": "surface"
           }
          ],
          "table": [
           {
            "cells": {
             "fill": {
              "color": "#EBF0F8"
             },
             "line": {
              "color": "white"
             }
            },
            "header": {
             "fill": {
              "color": "#C8D4E3"
             },
             "line": {
              "color": "white"
             }
            },
            "type": "table"
           }
          ]
         },
         "layout": {
          "annotationdefaults": {
           "arrowcolor": "#2a3f5f",
           "arrowhead": 0,
           "arrowwidth": 1
          },
          "autotypenumbers": "strict",
          "coloraxis": {
           "colorbar": {
            "outlinewidth": 0,
            "ticks": ""
           }
          },
          "colorscale": {
           "diverging": [
            [
             0,
             "#8e0152"
            ],
            [
             0.1,
             "#c51b7d"
            ],
            [
             0.2,
             "#de77ae"
            ],
            [
             0.3,
             "#f1b6da"
            ],
            [
             0.4,
             "#fde0ef"
            ],
            [
             0.5,
             "#f7f7f7"
            ],
            [
             0.6,
             "#e6f5d0"
            ],
            [
             0.7,
             "#b8e186"
            ],
            [
             0.8,
             "#7fbc41"
            ],
            [
             0.9,
             "#4d9221"
            ],
            [
             1,
             "#276419"
            ]
           ],
           "sequential": [
            [
             0,
             "#0d0887"
            ],
            [
             0.1111111111111111,
             "#46039f"
            ],
            [
             0.2222222222222222,
             "#7201a8"
            ],
            [
             0.3333333333333333,
             "#9c179e"
            ],
            [
             0.4444444444444444,
             "#bd3786"
            ],
            [
             0.5555555555555556,
             "#d8576b"
            ],
            [
             0.6666666666666666,
             "#ed7953"
            ],
            [
             0.7777777777777778,
             "#fb9f3a"
            ],
            [
             0.8888888888888888,
             "#fdca26"
            ],
            [
             1,
             "#f0f921"
            ]
           ],
           "sequentialminus": [
            [
             0,
             "#0d0887"
            ],
            [
             0.1111111111111111,
             "#46039f"
            ],
            [
             0.2222222222222222,
             "#7201a8"
            ],
            [
             0.3333333333333333,
             "#9c179e"
            ],
            [
             0.4444444444444444,
             "#bd3786"
            ],
            [
             0.5555555555555556,
             "#d8576b"
            ],
            [
             0.6666666666666666,
             "#ed7953"
            ],
            [
             0.7777777777777778,
             "#fb9f3a"
            ],
            [
             0.8888888888888888,
             "#fdca26"
            ],
            [
             1,
             "#f0f921"
            ]
           ]
          },
          "colorway": [
           "#636efa",
           "#EF553B",
           "#00cc96",
           "#ab63fa",
           "#FFA15A",
           "#19d3f3",
           "#FF6692",
           "#B6E880",
           "#FF97FF",
           "#FECB52"
          ],
          "font": {
           "color": "#2a3f5f"
          },
          "geo": {
           "bgcolor": "white",
           "lakecolor": "white",
           "landcolor": "#E5ECF6",
           "showlakes": true,
           "showland": true,
           "subunitcolor": "white"
          },
          "hoverlabel": {
           "align": "left"
          },
          "hovermode": "closest",
          "mapbox": {
           "style": "light"
          },
          "paper_bgcolor": "white",
          "plot_bgcolor": "#E5ECF6",
          "polar": {
           "angularaxis": {
            "gridcolor": "white",
            "linecolor": "white",
            "ticks": ""
           },
           "bgcolor": "#E5ECF6",
           "radialaxis": {
            "gridcolor": "white",
            "linecolor": "white",
            "ticks": ""
           }
          },
          "scene": {
           "xaxis": {
            "backgroundcolor": "#E5ECF6",
            "gridcolor": "white",
            "gridwidth": 2,
            "linecolor": "white",
            "showbackground": true,
            "ticks": "",
            "zerolinecolor": "white"
           },
           "yaxis": {
            "backgroundcolor": "#E5ECF6",
            "gridcolor": "white",
            "gridwidth": 2,
            "linecolor": "white",
            "showbackground": true,
            "ticks": "",
            "zerolinecolor": "white"
           },
           "zaxis": {
            "backgroundcolor": "#E5ECF6",
            "gridcolor": "white",
            "gridwidth": 2,
            "linecolor": "white",
            "showbackground": true,
            "ticks": "",
            "zerolinecolor": "white"
           }
          },
          "shapedefaults": {
           "line": {
            "color": "#2a3f5f"
           }
          },
          "ternary": {
           "aaxis": {
            "gridcolor": "white",
            "linecolor": "white",
            "ticks": ""
           },
           "baxis": {
            "gridcolor": "white",
            "linecolor": "white",
            "ticks": ""
           },
           "bgcolor": "#E5ECF6",
           "caxis": {
            "gridcolor": "white",
            "linecolor": "white",
            "ticks": ""
           }
          },
          "title": {
           "x": 0.05
          },
          "xaxis": {
           "automargin": true,
           "gridcolor": "white",
           "linecolor": "white",
           "ticks": "",
           "title": {
            "standoff": 15
           },
           "zerolinecolor": "white",
           "zerolinewidth": 2
          },
          "yaxis": {
           "automargin": true,
           "gridcolor": "white",
           "linecolor": "white",
           "ticks": "",
           "title": {
            "standoff": 15
           },
           "zerolinecolor": "white",
           "zerolinewidth": 2
          }
         }
        },
        "title": {
         "text": "Global sensitivities of model results to grouped transportation parameters",
         "x": 0.5,
         "xanchor": "center",
         "y": 0.97,
         "yanchor": "top"
        },
        "width": 900,
        "xaxis": {
         "dtick": 3000,
         "gridcolor": "lightgrey",
         "showgrid": true,
         "showline": true,
         "title": {
          "text": "Expected change in model results"
         },
         "zeroline": true
        },
        "yaxis": {
         "dtick": 1,
         "showgrid": true,
         "showline": true,
         "showticklabels": true,
         "side": "left",
         "tickmode": "linear",
         "title": {
          "standoff": 0,
          "text": "Group of parameters"
         },
         "zeroline": true
        }
       }
      }
     },
     "metadata": {},
     "output_type": "display_data"
    }
   ],
   "source": [
    "fig = go.Figure()\n",
    "\n",
    "# Add primary x-axis bars (Cost Mu Star)\n",
    "fig.add_trace(go.Bar(\n",
    "    y=morris_df['param'],\n",
    "    x=morris_df['cost_mu_star'],\n",
    "    error_x=dict(type='data', array=morris_df['cost_mu_star_conf'], visible=True),\n",
    "    name='Average absolute change in model objective ($MM CAD)',\n",
    "    marker_color='green',\n",
    "    orientation='h'\n",
    "))\n",
    "\n",
    "# Add secondary x-axis bars (CO2 Emissions Mu Star)\n",
    "fig.add_trace(go.Bar(\n",
    "    y=morris_df['param'],\n",
    "    x=morris_df['co2_mu_star'],\n",
    "    error_x=dict(type='data', array=morris_df['co2_mu_star_conf'], visible=True),\n",
    "    name='Average absolute change in total emissions (ktonne CO2e)',\n",
    "    marker_color='red',\n",
    "    orientation='h'\n",
    "))\n",
    "\n",
    "# Update layout for dual-axis plot\n",
    "fig.update_layout(\n",
    "    width=900,\n",
    "    height=600,\n",
    "    title=dict(\n",
    "        text='Global sensitivities of model results to grouped transportation parameters',\n",
    "        x=0.5,\n",
    "        y=0.97,\n",
    "        xanchor='center',\n",
    "        yanchor='top'\n",
    "    ),\n",
    "    xaxis=dict(\n",
    "        title='Expected change in model results',\n",
    "        showgrid=True,\n",
    "        gridcolor='lightgrey',\n",
    "        zeroline=True,\n",
    "        showline=True,\n",
    "        dtick=3000\n",
    "    ),\n",
    "    yaxis=dict(\n",
    "        title='Group of parameters',\n",
    "        side='left',\n",
    "        showgrid=True,\n",
    "        showline=True,\n",
    "        zeroline=True,\n",
    "        showticklabels=True,\n",
    "        tickmode='linear',\n",
    "        dtick=1,\n",
    "        title_standoff=0\n",
    "    ),\n",
    "    plot_bgcolor='white',\n",
    "    barmode='group',\n",
    "    bargap=0.15,\n",
    "    legend_title_text='',\n",
    "    legend=dict(\n",
    "        orientation='h',\n",
    "        yanchor='top',\n",
    "        y=1.13,\n",
    "        xanchor='center',\n",
    "        x=0.35,\n",
    "        traceorder='reversed'\n",
    "    ),\n",
    "    font=dict(\n",
    "        size=15\n",
    "    )\n",
    ")\n",
    "\n",
    "fig.add_annotation(\n",
    "    text=r'$(\\mu^*)$',\n",
    "    x=0.82,  # Adjust x position as needed\n",
    "    y=-0.12,\n",
    "    xref=\"paper\",\n",
    "    yref=\"paper\",\n",
    "    showarrow=False,\n",
    "    # textangle=-90,\n",
    "    font=dict(size=15))\n",
    "\n",
    "fig.show()\n",
    "fig.write_image(\"mmorris_results.svg\", scale=1, engine='kaleido')"
   ]
  },
  {
   "cell_type": "code",
   "execution_count": 45,
   "metadata": {},
   "outputs": [
    {
     "data": {
      "text/html": [
       "<div>\n",
       "<style scoped>\n",
       "    .dataframe tbody tr th:only-of-type {\n",
       "        vertical-align: middle;\n",
       "    }\n",
       "\n",
       "    .dataframe tbody tr th {\n",
       "        vertical-align: top;\n",
       "    }\n",
       "\n",
       "    .dataframe thead th {\n",
       "        text-align: right;\n",
       "    }\n",
       "</style>\n",
       "<table border=\"1\" class=\"dataframe\">\n",
       "  <thead>\n",
       "    <tr style=\"text-align: right;\">\n",
       "      <th></th>\n",
       "      <th>scenario</th>\n",
       "      <th>system_costs</th>\n",
       "      <th>system_emissions</th>\n",
       "    </tr>\n",
       "  </thead>\n",
       "  <tbody>\n",
       "    <tr>\n",
       "      <th>4</th>\n",
       "      <td>Reference</td>\n",
       "      <td>2.240862e+06</td>\n",
       "      <td>9.722464e+05</td>\n",
       "    </tr>\n",
       "    <tr>\n",
       "      <th>6</th>\n",
       "      <td>Reference + ZEV</td>\n",
       "      <td>2.194300e+06</td>\n",
       "      <td>8.463773e+05</td>\n",
       "    </tr>\n",
       "    <tr>\n",
       "      <th>1</th>\n",
       "      <td>Vanilla + Carbon Price</td>\n",
       "      <td>2.092777e+06</td>\n",
       "      <td>7.960546e+05</td>\n",
       "    </tr>\n",
       "    <tr>\n",
       "      <th>2</th>\n",
       "      <td>Vanilla + Market Floor</td>\n",
       "      <td>1.907637e+06</td>\n",
       "      <td>1.070057e+06</td>\n",
       "    </tr>\n",
       "    <tr>\n",
       "      <th>3</th>\n",
       "      <td>Vanilla + Growth Rates</td>\n",
       "      <td>1.878829e+06</td>\n",
       "      <td>9.803634e+05</td>\n",
       "    </tr>\n",
       "    <tr>\n",
       "      <th>5</th>\n",
       "      <td>Vanilla + Hurdle Rates</td>\n",
       "      <td>1.859841e+06</td>\n",
       "      <td>9.325300e+05</td>\n",
       "    </tr>\n",
       "    <tr>\n",
       "      <th>0</th>\n",
       "      <td>Vanilla</td>\n",
       "      <td>1.819080e+06</td>\n",
       "      <td>9.231933e+05</td>\n",
       "    </tr>\n",
       "  </tbody>\n",
       "</table>\n",
       "</div>"
      ],
      "text/plain": [
       "                 scenario  system_costs  system_emissions\n",
       "4               Reference  2.240862e+06      9.722464e+05\n",
       "6         Reference + ZEV  2.194300e+06      8.463773e+05\n",
       "1  Vanilla + Carbon Price  2.092777e+06      7.960546e+05\n",
       "2  Vanilla + Market Floor  1.907637e+06      1.070057e+06\n",
       "3  Vanilla + Growth Rates  1.878829e+06      9.803634e+05\n",
       "5  Vanilla + Hurdle Rates  1.859841e+06      9.325300e+05\n",
       "0                 Vanilla  1.819080e+06      9.231933e+05"
      ]
     },
     "execution_count": 45,
     "metadata": {},
     "output_type": "execute_result"
    }
   ],
   "source": [
    "files = {\n",
    "    \"Vanilla\": \"canoe_trn_vanilla/trn_vanilla.xlsx\",\n",
    "    \"Vanilla + Carbon Price\": \"canoe_trn_vanilla_carbon/trn_vanilla_carbon.xlsx\",\n",
    "    \"Vanilla + Market Floor\": \"canoe_trn_vanilla_floor/trn_vanilla_floor.xlsx\",\n",
    "    \"Vanilla + Growth Rates\": \"canoe_trn_vanilla_grates/trn_vanilla_grates.xlsx\",\n",
    "    \"Reference\": \"canoe_trn_ref/trn_ref.xlsx\",\n",
    "    \"Vanilla + Hurdle Rates\": \"canoe_trn_vanilla_hrates/trn_vanilla_hrates.xlsx\",\n",
    "    \"Reference + ZEV\": \"canoe_trn_zev/trn_zev.xlsx\"\n",
    "}\n",
    "\n",
    "results = []\n",
    "\n",
    "# Extract data from each file again with corrected column handling\n",
    "for scenario, file_path in files.items():\n",
    "    # Load Costs data\n",
    "    costs_df = pd.read_excel(file_path, sheet_name='Costs')\n",
    "    total_system_cost = costs_df['Cost'].sum()\n",
    "\n",
    "    # Load Emissions data\n",
    "    emissions_df = pd.read_excel(file_path, sheet_name='Emissions')\n",
    "    co2e_emissions = emissions_df[emissions_df['Emission Commodity'] == 'co2e']\n",
    "    total_co2e_emissions = co2e_emissions.loc[:, 2021:2050].sum().sum()\n",
    "\n",
    "    # Append the results\n",
    "    results.append({\n",
    "        \"scenario\": scenario,\n",
    "        \"system_costs\": total_system_cost,\n",
    "        \"system_emissions\": total_co2e_emissions\n",
    "    })\n",
    "\n",
    "# Convert results into a DataFrame\n",
    "df_vanilla = pd.DataFrame(results).sort_values(by='system_costs', ascending=False)\n",
    "df_vanilla"
   ]
  },
  {
   "cell_type": "code",
   "execution_count": 46,
   "metadata": {},
   "outputs": [
    {
     "data": {
      "text/html": [
       "<div>\n",
       "<style scoped>\n",
       "    .dataframe tbody tr th:only-of-type {\n",
       "        vertical-align: middle;\n",
       "    }\n",
       "\n",
       "    .dataframe tbody tr th {\n",
       "        vertical-align: top;\n",
       "    }\n",
       "\n",
       "    .dataframe thead th {\n",
       "        text-align: right;\n",
       "    }\n",
       "</style>\n",
       "<table border=\"1\" class=\"dataframe\">\n",
       "  <thead>\n",
       "    <tr style=\"text-align: right;\">\n",
       "      <th></th>\n",
       "      <th>scenario</th>\n",
       "      <th>system_costs</th>\n",
       "      <th>system_emissions</th>\n",
       "    </tr>\n",
       "  </thead>\n",
       "  <tbody>\n",
       "    <tr>\n",
       "      <th>0</th>\n",
       "      <td>Vanilla</td>\n",
       "      <td>1.819080e+06</td>\n",
       "      <td>923193.315913</td>\n",
       "    </tr>\n",
       "  </tbody>\n",
       "</table>\n",
       "</div>"
      ],
      "text/plain": [
       "  scenario  system_costs  system_emissions\n",
       "0  Vanilla  1.819080e+06     923193.315913"
      ]
     },
     "execution_count": 46,
     "metadata": {},
     "output_type": "execute_result"
    }
   ],
   "source": [
    "df_vanilla[df_vanilla['scenario'] == 'Vanilla']"
   ]
  },
  {
   "cell_type": "code",
   "execution_count": 47,
   "metadata": {},
   "outputs": [
    {
     "data": {
      "image/png": "[encoded data removed]",
      "text/plain": [
       "<Figure size 900x600 with 2 Axes>"
      ]
     },
     "metadata": {},
     "output_type": "display_data"
    }
   ],
   "source": [
    "import matplotlib.pyplot as plt\n",
    "\n",
    "# Plotting the results in a horizontal orientation\n",
    "fig, ax1 = plt.subplots(figsize=(9, 6))\n",
    "\n",
    "# Bar width and positions\n",
    "bar_width = 0.4\n",
    "index = range(len(df_vanilla))\n",
    "\n",
    "# Bar plots with a horizontal orientation\n",
    "ax1.barh(index, df_vanilla['system_costs'], bar_width, label='NPV of total system costs ($MM CAD)', color='green')\n",
    "ax2 = ax1.twiny()  # Create a secondary x-axis\n",
    "ax2.barh([i + bar_width for i in index], df_vanilla['system_emissions'], bar_width, label='Total cumulative emissions through 2050 (ktonne CO2e)', color='red')\n",
    "\n",
    "# Labels, titles, and ticks adjustments\n",
    "ax1.set_ylabel('Scenario', fontsize=12)\n",
    "ax1.set_xlabel('$MM CAD', fontsize=12)\n",
    "ax2.set_xlabel('ktonne CO2e', fontsize=12, labelpad=5)\n",
    "ax1.set_title('System responses to implementing explicit constraints on the Vanilla model', pad=65, fontsize=14)\n",
    "ax1.set_yticks([i + bar_width / 2 for i in index])\n",
    "ax1.set_yticklabels(df_vanilla['scenario'], rotation=0, ha='right')\n",
    "\n",
    "# Remove duplicate grid lines by aligning the grids\n",
    "ax1.grid(False)\n",
    "ax2.grid(False)\n",
    "\n",
    "# Adding legends to the plot and adjusting placement to avoid overlap\n",
    "fig.legend(loc='upper center', bbox_to_anchor=(0.55, 0.94), ncol=2, frameon=False, fontsize=11)\n",
    "\n",
    "# Save the figure as an SVG file\n",
    "plt.tight_layout()\n",
    "plt.savefig('constraints.svg', format='svg')\n",
    "\n",
    "# Display the plot\n",
    "plt.show()\n"
   ]
  }
 ],
 "metadata": {
  "kernelspec": {
   "display_name": "new_base",
   "language": "python",
   "name": "python3"
  },
  "language_info": {
   "codemirror_mode": {
    "name": "ipython",
    "version": 3
   },
   "file_extension": ".py",
   "mimetype": "text/x-python",
   "name": "python",
   "nbconvert_exporter": "python",
   "pygments_lexer": "ipython3",
   "version": "3.12.7"
  }
 },
 "nbformat": 4,
 "nbformat_minor": 2
}
