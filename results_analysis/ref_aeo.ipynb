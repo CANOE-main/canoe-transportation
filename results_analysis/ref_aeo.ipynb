{
 "cells": [
  {
   "cell_type": "code",
   "execution_count": 1,
   "metadata": {},
   "outputs": [],
   "source": [
    "import pandas as pd\n",
    "import numpy as np\n",
    "import plotly.express as px\n",
    "import plotly.graph_objects as go\n",
    "from plotly.subplots import make_subplots\n",
    "import seaborn as sns\n",
    "import matplotlib.pyplot as plt"
   ]
  },
  {
   "cell_type": "markdown",
   "metadata": {},
   "source": [
    "# Import CEF2023 tables\n",
    "https://open.canada.ca/data/en/dataset/7643c948-d661-4d90-ab91-e9ac732fc737"
   ]
  },
  {
   "cell_type": "code",
   "execution_count": 2,
   "metadata": {},
   "outputs": [
    {
     "name": "stderr",
     "output_type": "stream",
     "text": [
      "C:\\Users\\rashi\\AppData\\Local\\Temp\\ipykernel_30156\\1259712670.py:7: FutureWarning: A value is trying to be set on a copy of a DataFrame or Series through chained assignment using an inplace method.\n",
      "The behavior will change in pandas 3.0. This inplace method will never work because the intermediate object on which we are setting values always behaves as a copy.\n",
      "\n",
      "For example, when doing 'df[col].method(value, inplace=True)', try using 'df.method({col: value}, inplace=True)' or df[col] = df[col].method(value) instead, to perform the operation inplace on the original object.\n",
      "\n",
      "\n",
      "  bau23_demand['Carrier'].replace({'Motor Gasoline': 'Gasoline', 'Hydrogen': 'H2'}, inplace=True)\n"
     ]
    }
   ],
   "source": [
    "model_years = [2021, 2025, 2030, 2035, 2040, 2045, 2050]\n",
    "\n",
    "cef23_demand = pd.read_csv('cef2023_data/end-use-demand-2023.csv', index_col=0) #   Energy in PJ\n",
    "bau23_demand = cef23_demand[(cef23_demand['Region'] == 'Ontario') & (cef23_demand['Scenario'] == 'Current Measures') &\n",
    "                            (cef23_demand['Year'].isin(model_years))].sort_values(['Sector', 'Variable', 'Year'])\n",
    "bau23_demand.rename(columns={'Value': 'Demand (PJ)', 'Variable': 'Carrier', 'Year': 'Period'}, inplace=True)\n",
    "bau23_demand['Carrier'].replace({'Motor Gasoline': 'Gasoline', 'Hydrogen': 'H2'}, inplace=True)\n",
    "bau23_demand['Period'] = bau23_demand['Period'].astype(str)\n",
    "\n",
    "cef23_h2 = pd.read_csv('cef2023_data/hydrogen-production-2023.csv', index_col=0)\n",
    "bau23_h2 = cef23_h2[(cef23_h2['Region'] == 'Ontario') & (cef23_h2['Scenario'] == 'Current Measures') &\n",
    "                            (cef23_h2['Year'].isin(model_years))].sort_values(['Variable', 'Year'])\n",
    "bau23_h2.rename(columns={'Value': 'Production (Mt)', 'Variable': 'Pathway', 'Year': 'Period'}, inplace=True)\n",
    "bau23_h2['Period'] = bau23_h2['Period'].astype(str)\n",
    "bau23_h2['Pathway'] = bau23_h2['Pathway'].replace({'Natural gas with CCS': 'SMR w CCS'})\n",
    "\n",
    "cef23_gen = pd.read_csv('cef2023_data/electricity-generation-2023.csv', index_col=0)\n",
    "bau23_gen = cef23_gen[(cef23_gen['Region'] == 'Ontario') & (cef23_gen['Scenario'] == 'Current Measures') &\n",
    "                            (cef23_gen['Year'].isin(model_years))].sort_values(['Variable', 'Year'])\n",
    "bau23_gen.rename(columns={'Value': 'Generation (GWh)', 'Variable': 'Plant Type', 'Year': 'Period'}, inplace=True)\n",
    "bau23_gen['Period'] = bau23_gen['Period'].astype(str)\n",
    "\n",
    "cef23_cap = pd.read_csv('cef2023_data/electricity-capacity-2023.csv')\n",
    "bau23_cap = cef23_cap[(cef23_cap['Region'] == 'Ontario') & (cef23_cap['Scenario'] == 'Current Measures') &\n",
    "                            (cef23_cap['Year'].isin(model_years))].sort_values(['Variable', 'Year'])\n",
    "bau23_cap.rename(columns={'Value': 'Capacity (MW)', 'Variable': 'Plant Type', 'Year': 'Period'}, inplace=True)\n",
    "bau23_cap['Period'] = bau23_cap['Period'].astype(str)"
   ]
  },
  {
   "cell_type": "markdown",
   "metadata": {},
   "source": [
    "# Import gTech-IESD results"
   ]
  },
  {
   "cell_type": "code",
   "execution_count": 3,
   "metadata": {},
   "outputs": [],
   "source": [
    "years = pd.DataFrame({'year': range(2020, 2051)})\n",
    "\n",
    "def import_navius_data(df):\n",
    "    df = df[(df['policy'] == 'legislated') & (df['swb'] == 'ref') & (df['ccs'] == 'ref') & (df['hyd'] == 'ref') & \n",
    "            (df['oil'] == 'ref') & (df['dac'] == 'no')].drop(columns=['region', 'policy', 'swb', 'ccs', 'hyd', 'oil', 'dac', 'lul']).reset_index(drop='index')\n",
    "    labels = list(set(df.columns.to_list()) - set(['year', 'value']))\n",
    "    unique_combinations = df[labels].drop_duplicates()\n",
    "    expanded_df = unique_combinations.assign(key=1).merge(years.assign(key=1), on='key').drop('key', axis=1)\n",
    "    merged_df = expanded_df.merge(df, on=['year'] + labels, how='left')\n",
    "    merged_df = merged_df.sort_values(by=labels + ['year'])\n",
    "    merged_df['value'] = merged_df.groupby(labels, as_index=False)['value'].apply(lambda group: group.interpolate()).reset_index(level=0, drop=True)\n",
    "    interpolated_2021 = merged_df[merged_df['year'] == 2021]\n",
    "    df = pd.concat([df, interpolated_2021]).sort_values(by=['year'] + labels).reset_index(drop=True)\n",
    "    return df[df['year'] != 2020]"
   ]
  },
  {
   "cell_type": "code",
   "execution_count": 4,
   "metadata": {},
   "outputs": [],
   "source": [
    "gtech23_vehshare = pd.read_csv('navius_regional_data_on/total market share of vehicles by type (%).csv', usecols=lambda column: column != 'id')\n",
    "gtech23_ref_vehshare = import_navius_data(gtech23_vehshare)\n",
    "gtech23_ref_vehshare.rename(columns={'year': 'Period', 'value': 'Market Share (%)', 'eu_name': 'Class', 'technology': 'Drivetrain'}, inplace=True)\n",
    "gtech23_ref_vehshare['Class'] = gtech23_ref_vehshare['Class'].replace({'light-duty': 'LDV', 'heavy-duty': 'HDV'})\n",
    "gtech23_ref_vehshare['Drivetrain'] = gtech23_ref_vehshare['Drivetrain'].replace({'fcev': 'FCEV', 'ice': 'ICEV', 'bev': 'BEV'})\n",
    "\n",
    "gtech23_demand = pd.read_csv('navius_regional_data_on/energy consumption by sector (PJ).csv', usecols=lambda column: column != 'id')\n",
    "gtech23_ref_demand = import_navius_data(gtech23_demand)\n",
    "gtech23_ref_demand.rename(columns={'year': 'Period', 'value': 'Demand (PJ)', 'sector': 'Sector'}, inplace=True)\n",
    "\n",
    "gtech23_ghg = pd.read_csv('navius_regional_data_on/emissions by sector (Mt).csv', usecols=lambda column: column != 'id')\n",
    "gtech23_ref_ghg = import_navius_data(gtech23_ghg)\n",
    "gtech23_ref_ghg.rename(columns={'year': 'Period', 'value': 'CO2e (Mt)', 'sector': 'Sector'}, inplace=True)\n",
    "\n",
    "gtech23_gen = pd.read_csv('navius_regional_data_on/electricity generation by source (TWh).csv', usecols=lambda column: column != 'id')\n",
    "gtech23_ref_gen = import_navius_data(gtech23_gen)\n",
    "gtech23_ref_gen.rename(columns={'year': 'Period', 'value': 'Generation (TWh)', 'type': 'Plant Type'}, inplace=True)\n",
    "\n",
    "gtech23_cap = pd.read_csv('navius_regional_data_on/electricity capacity by source (MW).csv', usecols=lambda column: column != 'id')\n",
    "gtech23_ref_cap = import_navius_data(gtech23_cap)\n",
    "gtech23_ref_cap.rename(columns={'year': 'Period', 'value': 'Capacity (MW)', 'type': 'Plant Type'}, inplace=True)\n",
    "gtech23_ref_cap['Plant Type'] = gtech23_ref_cap['Plant Type'].replace({'fcev': 'FCEV', 'ice': 'ICEV', 'bev': 'BEV'})\n",
    "\n",
    "gtech23_h2 = pd.read_csv('navius_regional_data_on/hydrogen production by type (PJ).csv', usecols=lambda column: column != 'id')\n",
    "gtech23_ref_h2 = import_navius_data(gtech23_h2)\n",
    "gtech23_ref_h2.rename(columns={'year': 'Period', 'value': 'Production (PJ)', 'prod_type': 'Pathway'}, inplace=True)\n",
    "gtech23_ref_h2['Pathway'] = gtech23_ref_h2['Pathway'].replace({'electrolysis': 'Electrolysis', 'smr with ccs': 'SMR w CCS'})"
   ]
  },
  {
   "cell_type": "code",
   "execution_count": 5,
   "metadata": {},
   "outputs": [
    {
     "name": "stderr",
     "output_type": "stream",
     "text": [
      "C:\\Users\\rashi\\AppData\\Local\\Temp\\ipykernel_30156\\2137638342.py:1: FutureWarning: A value is trying to be set on a copy of a DataFrame or Series through chained assignment using an inplace method.\n",
      "The behavior will change in pandas 3.0. This inplace method will never work because the intermediate object on which we are setting values always behaves as a copy.\n",
      "\n",
      "For example, when doing 'df[col].method(value, inplace=True)', try using 'df.method({col: value}, inplace=True)' or df[col] = df[col].method(value) instead, to perform the operation inplace on the original object.\n",
      "\n",
      "\n",
      "  gtech23_ref_demand['Sector'].replace({'agriculture & waste': 'Agriculture', 'commercial buildings': 'Commercial', 'residential buildings': 'Residential',\n"
     ]
    }
   ],
   "source": [
    "gtech23_ref_demand['Sector'].replace({'agriculture & waste': 'Agriculture', 'commercial buildings': 'Commercial', 'residential buildings': 'Residential', \n",
    "                                      'industry': 'Industrial', 'oil and gas': 'Oil & Gas', 'direct air capture': 'Industrial', 'Utilities': 'Utilities',\n",
    "                                      'light-duty transport': 'Transportation', 'medium & heavy-duty transport': 'Transportation', 'other transport': 'Transportation'}, inplace=True)\n",
    "gtech23_ref_demand = gtech23_ref_demand.groupby(['Period', 'Sector'], as_index=False).sum()[['Period', 'Sector', 'Demand (PJ)']]"
   ]
  },
  {
   "cell_type": "markdown",
   "metadata": {},
   "source": [
    "# Import Canoe results"
   ]
  },
  {
   "cell_type": "code",
   "execution_count": 6,
   "metadata": {},
   "outputs": [],
   "source": [
    "canoe_results = 'canoe_trn_aeo'\n",
    "scenario_name = 'trn_aeo'"
   ]
  },
  {
   "cell_type": "code",
   "execution_count": 7,
   "metadata": {},
   "outputs": [],
   "source": [
    "vanilla_file = canoe_results + '/' + scenario_name + '.xlsx'\n",
    "\n",
    "vanilla_trnact = pd.read_excel(vanilla_file, sheet_name='Activity_Transport').fillna(0)\n",
    "vanilla_trncap = pd.read_excel(vanilla_file, sheet_name='Capacity_Transport').fillna(0)\n",
    "vanilla_trnnewcap = pd.read_excel(vanilla_file, sheet_name='NewCapacity_Transport').fillna(0)\n",
    "\n",
    "vanilla_trnact = pd.read_excel(vanilla_file, sheet_name='Activity_Transport').fillna(0)\n",
    "vanilla_resact = pd.read_excel(vanilla_file, sheet_name='Activity_residential').fillna(0)\n",
    "vanilla_commact = pd.read_excel(vanilla_file, sheet_name='Activity_commercial').fillna(0)\n",
    "vanilla_indact = pd.read_excel(vanilla_file, sheet_name='Activity_industrial').fillna(0)\n",
    "\n",
    "vanilla_elcact = pd.read_excel(vanilla_file, sheet_name='Activity_electricity').fillna(0)\n",
    "vanilla_elccap = pd.read_excel(vanilla_file, sheet_name='Capacity_electricity').fillna(0)\n",
    "vanilla_elcnewcap = pd.read_excel(vanilla_file, sheet_name='NewCapacity_electricity').fillna(0)\n",
    "\n",
    "vanilla_ghg = pd.read_excel(vanilla_file, sheet_name='Emissions').fillna(0)\n",
    "vanilla_costs = pd.read_excel(vanilla_file, sheet_name='Costs').fillna(0)"
   ]
  },
  {
   "cell_type": "code",
   "execution_count": 8,
   "metadata": {},
   "outputs": [],
   "source": [
    "canoe_results = 'canoe_trn_ref'\n",
    "scenario_name = 'trn_ref'"
   ]
  },
  {
   "cell_type": "code",
   "execution_count": 9,
   "metadata": {},
   "outputs": [],
   "source": [
    "ref_file = canoe_results + '/' + scenario_name + '.xlsx'\n",
    "\n",
    "ref_trnact = pd.read_excel(ref_file, sheet_name='Activity_Transport').fillna(0)\n",
    "ref_trncap = pd.read_excel(ref_file, sheet_name='Capacity_Transport').fillna(0)\n",
    "ref_trnnewcap = pd.read_excel(ref_file, sheet_name='NewCapacity_Transport').fillna(0)\n",
    "\n",
    "ref_trnact = pd.read_excel(ref_file, sheet_name='Activity_Transport').fillna(0)\n",
    "ref_resact = pd.read_excel(ref_file, sheet_name='Activity_residential').fillna(0)\n",
    "ref_commact = pd.read_excel(ref_file, sheet_name='Activity_commercial').fillna(0)\n",
    "ref_indact = pd.read_excel(ref_file, sheet_name='Activity_industrial').fillna(0)\n",
    "\n",
    "ref_elcact = pd.read_excel(ref_file, sheet_name='Activity_electricity').fillna(0)\n",
    "ref_elccap = pd.read_excel(ref_file, sheet_name='Capacity_electricity').fillna(0)\n",
    "ref_elcnewcap = pd.read_excel(ref_file, sheet_name='NewCapacity_electricity').fillna(0)\n",
    "\n",
    "ref_ghg = pd.read_excel(ref_file, sheet_name='Emissions').fillna(0)\n",
    "ref_costs = pd.read_excel(ref_file, sheet_name='Costs').fillna(0)"
   ]
  },
  {
   "cell_type": "code",
   "execution_count": 10,
   "metadata": {},
   "outputs": [],
   "source": [
    "class_mapping = {\n",
    "    'T_HDV_AJ': 'Air jet',\n",
    "    'T_HDV_B': 'Bus',\n",
    "    'T_HDV_R': 'Rail',\n",
    "    'T_HDV_T': 'HD Truck',\n",
    "    'T_HDV_W': 'Marine vessel',\n",
    "    'T_MDV_T': 'MD Truck',\n",
    "    'T_LDV_C_': 'LDV',\n",
    "    'T_LDV_LT': 'LDV',\n",
    "    'T_LDV_M': 'Motorcycle',\n",
    "    'T_IMP_': 'Fuel use',\n",
    "    'H2_distribution': 'Fuel use'\n",
    "}\n",
    "\n",
    "def map_tech_to_mode(tech):\n",
    "    for prefix, class_name in class_mapping.items():\n",
    "        if tech.startswith(prefix):\n",
    "            return class_name\n",
    "    return 'Other'\n",
    "\n",
    "ref_trnact['Mode'] = ref_trnact['Technology'].apply(map_tech_to_mode)\n",
    "ref_trncap['Mode'] = ref_trncap['Technology'].apply(map_tech_to_mode)\n",
    "ref_trnnewcap['Mode'] = ref_trnnewcap['Technology'].apply(map_tech_to_mode)\n",
    "\n",
    "vanilla_trnact['Mode'] = vanilla_trnact['Technology'].apply(map_tech_to_mode)\n",
    "vanilla_trncap['Mode'] = vanilla_trncap['Technology'].apply(map_tech_to_mode)\n",
    "vanilla_trnnewcap['Mode'] = vanilla_trnnewcap['Technology'].apply(map_tech_to_mode)"
   ]
  },
  {
   "cell_type": "code",
   "execution_count": 11,
   "metadata": {},
   "outputs": [],
   "source": [
    "carrier_mapping = {\n",
    "        'BEV': 'BEV',\n",
    "        'GSL': 'Gasoline',\n",
    "        'DSL': 'Diesel',\n",
    "        'CNG': 'CNG',\n",
    "        'LNG': 'LNG',\n",
    "        'JTF': 'Aviation Fuel',\n",
    "        'SPK': 'Synthetic Kerosene', #  Might change for SAF\n",
    "        'HFO': 'Heavy Fuel Oil',\n",
    "        'MDO': 'Marine Diesel Oil',\n",
    "        'H2': 'H2',\n",
    "        'ELC': 'Electricity'\n",
    "    }\n",
    "\n",
    "def map_tech_to_drivetrain(tech):\n",
    "    # Check hybrids first\n",
    "    if 'PHEV' in tech:\n",
    "        return 'PHEV'\n",
    "    if 'FC' in tech:\n",
    "        return 'FCEV'\n",
    "    if 'HEV' in tech:\n",
    "        return 'HEV'\n",
    "    if 'RDSL' in tech:\n",
    "            return 'Renewable Diesel' #     Might differentiate\n",
    "    if 'ETH' in tech:\n",
    "        return 'Ethanol' #                  Might differentiate\n",
    "    for prefix, carrier in carrier_mapping.items():\n",
    "        if prefix in tech:\n",
    "            return carrier \n",
    "    return 'Other'\n",
    "\n",
    "ref_trnact['Carrier'] = ref_trnact['Technology'].apply(map_tech_to_drivetrain)\n",
    "ref_trncap['Carrier'] = ref_trncap['Technology'].apply(map_tech_to_drivetrain)\n",
    "ref_trnnewcap['Carrier'] = ref_trnnewcap['Technology'].apply(map_tech_to_drivetrain)\n",
    "\n",
    "vanilla_trnact['Carrier'] = vanilla_trnact['Technology'].apply(map_tech_to_drivetrain)\n",
    "vanilla_trncap['Carrier'] = vanilla_trncap['Technology'].apply(map_tech_to_drivetrain)\n",
    "vanilla_trnnewcap['Carrier'] = vanilla_trnnewcap['Technology'].apply(map_tech_to_drivetrain)"
   ]
  },
  {
   "cell_type": "markdown",
   "metadata": {},
   "source": [
    "# Demand graph template"
   ]
  },
  {
   "cell_type": "markdown",
   "metadata": {},
   "source": [
    "## CANOE ref vs CEF 2023 current policies - transport energy demand by carrier"
   ]
  },
  {
   "cell_type": "code",
   "execution_count": 12,
   "metadata": {},
   "outputs": [],
   "source": [
    "def carrier_grouping(carrier):\n",
    "    if carrier == 'CNG':\n",
    "        return 'Natural Gas'\n",
    "    if carrier == 'LNG':\n",
    "        return 'Natural Gas'\n",
    "    if carrier == 'Ethanol':\n",
    "        return 'Biofuels'\n",
    "    if carrier == 'Renewable Diesel':\n",
    "        return 'Biofuels'\n",
    "    if carrier == 'Synthetic Kerosene':\n",
    "        return 'Biofuels'\n",
    "    if carrier == 'Heavy Fuel Oil':\n",
    "        return 'Marine Fuels'\n",
    "    if carrier == 'Marine Diesel Oil':\n",
    "        return 'Marine Fuels'\n",
    "    if carrier == 'LPG':\n",
    "        return 'Other'\n",
    "    if carrier == 'Lubricants':\n",
    "        return 'Other'\n",
    "    else: return carrier"
   ]
  },
  {
   "cell_type": "code",
   "execution_count": 13,
   "metadata": {},
   "outputs": [],
   "source": [
    "ref_trnact.columns = ref_trnact.columns.astype(str)\n",
    "vanilla_trnact.columns = vanilla_trnact.columns.astype(str)\n",
    "\n",
    "periods = [col for col in ref_trnact.columns if col.isdigit()]\n",
    "params = [col for col in ref_trnact.columns if not col.isdigit()]\n",
    "\n",
    "ref_trnact = pd.melt(ref_trnact, id_vars=params, var_name='Period', value_name='Demand (PJ)', value_vars=periods)\n",
    "vanilla_trnact = pd.melt(vanilla_trnact, id_vars=params, var_name='Period', value_name='Demand (PJ)', value_vars=periods)"
   ]
  },
  {
   "cell_type": "code",
   "execution_count": 43,
   "metadata": {},
   "outputs": [
    {
     "data": {
      "application/vnd.plotly.v1+json": {
       "config": {
        "plotlyServerURL": "https://plot.ly"
       },
       "data": [
        {
         "hovertemplate": "Carrier=Gasoline<br>Period=2025<br>Source=%{x}<br>Demand (PJ)=%{y}<extra></extra>",
         "legendgroup": "Gasoline",
         "marker": {
          "color": "#3366CC",
          "pattern": {
           "shape": ""
          }
         },
         "name": "Gasoline",
         "orientation": "v",
         "showlegend": true,
         "textfont": {
          "size": 8
         },
         "textposition": "auto",
         "texttemplate": "%{y:.1f}",
         "type": "bar",
         "x": [
          "CANOE (AEO)",
          "CANOE (ref)",
          "CEF2023"
         ],
         "xaxis": "x",
         "y": {
          "bdata": "2TSVK99agkB1dw7GmxiCQJ/Nqs/VuHxA",
          "dtype": "f8"
         },
         "yaxis": "y"
        },
        {
         "hovertemplate": "Carrier=Gasoline<br>Period=2030<br>Source=%{x}<br>Demand (PJ)=%{y}<extra></extra>",
         "legendgroup": "Gasoline",
         "marker": {
          "color": "#3366CC",
          "pattern": {
           "shape": ""
          }
         },
         "name": "Gasoline",
         "orientation": "v",
         "showlegend": false,
         "textfont": {
          "size": 8
         },
         "textposition": "auto",
         "texttemplate": "%{y:.1f}",
         "type": "bar",
         "x": [
          "CANOE (AEO)",
          "CANOE (ref)",
          "CEF2023"
         ],
         "xaxis": "x2",
         "y": {
          "bdata": "RVOFvz5/fUC2zfDKwtF7QBgmUwWjfXtA",
          "dtype": "f8"
         },
         "yaxis": "y2"
        },
        {
         "hovertemplate": "Carrier=Gasoline<br>Period=2035<br>Source=%{x}<br>Demand (PJ)=%{y}<extra></extra>",
         "legendgroup": "Gasoline",
         "marker": {
          "color": "#3366CC",
          "pattern": {
           "shape": ""
          }
         },
         "name": "Gasoline",
         "orientation": "v",
         "showlegend": false,
         "textfont": {
          "size": 8
         },
         "textposition": "auto",
         "texttemplate": "%{y:.1f}",
         "type": "bar",
         "x": [
          "CANOE (AEO)",
          "CANOE (ref)",
          "CEF2023"
         ],
         "xaxis": "x3",
         "y": {
          "bdata": "pcOa7mn9eEAbUNwhWRJzQCbkg57NQ3lA",
          "dtype": "f8"
         },
         "yaxis": "y3"
        },
        {
         "hovertemplate": "Carrier=Gasoline<br>Period=2040<br>Source=%{x}<br>Demand (PJ)=%{y}<extra></extra>",
         "legendgroup": "Gasoline",
         "marker": {
          "color": "#3366CC",
          "pattern": {
           "shape": ""
          }
         },
         "name": "Gasoline",
         "orientation": "v",
         "showlegend": false,
         "textfont": {
          "size": 8
         },
         "textposition": "auto",
         "texttemplate": "%{y:.1f}",
         "type": "bar",
         "x": [
          "CANOE (AEO)",
          "CANOE (ref)",
          "CEF2023"
         ],
         "xaxis": "x4",
         "y": {
          "bdata": "LV6xaFQnd0DzQzc7Yy9zQKs+V1uxznZA",
          "dtype": "f8"
         },
         "yaxis": "y4"
        },
        {
         "hovertemplate": "Carrier=Gasoline<br>Period=2045<br>Source=%{x}<br>Demand (PJ)=%{y}<extra></extra>",
         "legendgroup": "Gasoline",
         "marker": {
          "color": "#3366CC",
          "pattern": {
           "shape": ""
          }
         },
         "name": "Gasoline",
         "orientation": "v",
         "showlegend": false,
         "textfont": {
          "size": 8
         },
         "textposition": "auto",
         "texttemplate": "%{y:.1f}",
         "type": "bar",
         "x": [
          "CANOE (AEO)",
          "CANOE (ref)",
          "CEF2023"
         ],
         "xaxis": "x5",
         "y": {
          "bdata": "mkvoz2ZDdkAwbIHXSklxQPCFyVTBzHRA",
          "dtype": "f8"
         },
         "yaxis": "y5"
        },
        {
         "hovertemplate": "Carrier=Gasoline<br>Period=2050<br>Source=%{x}<br>Demand (PJ)=%{y}<extra></extra>",
         "legendgroup": "Gasoline",
         "marker": {
          "color": "#3366CC",
          "pattern": {
           "shape": ""
          }
         },
         "name": "Gasoline",
         "orientation": "v",
         "showlegend": false,
         "textfont": {
          "size": 8
         },
         "textposition": "auto",
         "texttemplate": "%{y:.1f}",
         "type": "bar",
         "x": [
          "CANOE (AEO)",
          "CANOE (ref)",
          "CEF2023"
         ],
         "xaxis": "x6",
         "y": {
          "bdata": "nMhDRPikdkCCSgaBv9FvQGB2Tx4WpHNA",
          "dtype": "f8"
         },
         "yaxis": "y6"
        },
        {
         "hovertemplate": "Carrier=Diesel<br>Period=2025<br>Source=%{x}<br>Demand (PJ)=%{y}<extra></extra>",
         "legendgroup": "Diesel",
         "marker": {
          "color": "#DC3912",
          "pattern": {
           "shape": ""
          }
         },
         "name": "Diesel",
         "orientation": "v",
         "showlegend": true,
         "textfont": {
          "size": 8
         },
         "textposition": "auto",
         "texttemplate": "%{y:.1f}",
         "type": "bar",
         "x": [
          "CANOE (AEO)",
          "CANOE (ref)",
          "CEF2023"
         ],
         "xaxis": "x",
         "y": {
          "bdata": "KLTDzPj0cUA4XdD1P9hxQAfwFkhQBmxA",
          "dtype": "f8"
         },
         "yaxis": "y"
        },
        {
         "hovertemplate": "Carrier=Diesel<br>Period=2030<br>Source=%{x}<br>Demand (PJ)=%{y}<extra></extra>",
         "legendgroup": "Diesel",
         "marker": {
          "color": "#DC3912",
          "pattern": {
           "shape": ""
          }
         },
         "name": "Diesel",
         "orientation": "v",
         "showlegend": false,
         "textfont": {
          "size": 8
         },
         "textposition": "auto",
         "texttemplate": "%{y:.1f}",
         "type": "bar",
         "x": [
          "CANOE (AEO)",
          "CANOE (ref)",
          "CEF2023"
         ],
         "xaxis": "x2",
         "y": {
          "bdata": "993BTU2pcUD+t+zgrD5xQFZ9rrZidW1A",
          "dtype": "f8"
         },
         "yaxis": "y2"
        },
        {
         "hovertemplate": "Carrier=Diesel<br>Period=2035<br>Source=%{x}<br>Demand (PJ)=%{y}<extra></extra>",
         "legendgroup": "Diesel",
         "marker": {
          "color": "#DC3912",
          "pattern": {
           "shape": ""
          }
         },
         "name": "Diesel",
         "orientation": "v",
         "showlegend": false,
         "textfont": {
          "size": 8
         },
         "textposition": "auto",
         "texttemplate": "%{y:.1f}",
         "type": "bar",
         "x": [
          "CANOE (AEO)",
          "CANOE (ref)",
          "CEF2023"
         ],
         "xaxis": "x3",
         "y": {
          "bdata": "qlu02CUNcUBWR+M+lOhuQIBIv30dJG5A",
          "dtype": "f8"
         },
         "yaxis": "y3"
        },
        {
         "hovertemplate": "Carrier=Diesel<br>Period=2040<br>Source=%{x}<br>Demand (PJ)=%{y}<extra></extra>",
         "legendgroup": "Diesel",
         "marker": {
          "color": "#DC3912",
          "pattern": {
           "shape": ""
          }
         },
         "name": "Diesel",
         "orientation": "v",
         "showlegend": false,
         "textfont": {
          "size": 8
         },
         "textposition": "auto",
         "texttemplate": "%{y:.1f}",
         "type": "bar",
         "x": [
          "CANOE (AEO)",
          "CANOE (ref)",
          "CEF2023"
         ],
         "xaxis": "x4",
         "y": {
          "bdata": "z6WV549RcUD7jSwBs3VtQM6qz9VWYG9A",
          "dtype": "f8"
         },
         "yaxis": "y4"
        },
        {
         "hovertemplate": "Carrier=Diesel<br>Period=2045<br>Source=%{x}<br>Demand (PJ)=%{y}<extra></extra>",
         "legendgroup": "Diesel",
         "marker": {
          "color": "#DC3912",
          "pattern": {
           "shape": ""
          }
         },
         "name": "Diesel",
         "orientation": "v",
         "showlegend": false,
         "textfont": {
          "size": 8
         },
         "textposition": "auto",
         "texttemplate": "%{y:.1f}",
         "type": "bar",
         "x": [
          "CANOE (AEO)",
          "CANOE (ref)",
          "CEF2023"
         ],
         "xaxis": "x5",
         "y": {
          "bdata": "SMVSqaJcckCzw19iZ4ZtQDxO0ZFcfHBA",
          "dtype": "f8"
         },
         "yaxis": "y5"
        },
        {
         "hovertemplate": "Carrier=Diesel<br>Period=2050<br>Source=%{x}<br>Demand (PJ)=%{y}<extra></extra>",
         "legendgroup": "Diesel",
         "marker": {
          "color": "#DC3912",
          "pattern": {
           "shape": ""
          }
         },
         "name": "Diesel",
         "orientation": "v",
         "showlegend": false,
         "textfont": {
          "size": 8
         },
         "textposition": "auto",
         "texttemplate": "%{y:.1f}",
         "type": "bar",
         "x": [
          "CANOE (AEO)",
          "CANOE (ref)",
          "CEF2023"
         ],
         "xaxis": "x6",
         "y": {
          "bdata": "jACwIzPickCciPOodl1tQF+YTBWMoXFA",
          "dtype": "f8"
         },
         "yaxis": "y6"
        },
        {
         "hovertemplate": "Carrier=Biofuels<br>Period=2025<br>Source=%{x}<br>Demand (PJ)=%{y}<extra></extra>",
         "legendgroup": "Biofuels",
         "marker": {
          "color": "#FF9900",
          "pattern": {
           "shape": ""
          }
         },
         "name": "Biofuels",
         "orientation": "v",
         "showlegend": true,
         "textfont": {
          "size": 8
         },
         "textposition": "auto",
         "texttemplate": "%{y:.1f}",
         "type": "bar",
         "x": [
          "CANOE (AEO)",
          "CANOE (ref)",
          "CEF2023"
         ],
         "xaxis": "x",
         "y": {
          "bdata": "KHjyxzwkVUCJQtqC7t1UQIPAyqFFilBA",
          "dtype": "f8"
         },
         "yaxis": "y"
        },
        {
         "hovertemplate": "Carrier=Biofuels<br>Period=2030<br>Source=%{x}<br>Demand (PJ)=%{y}<extra></extra>",
         "legendgroup": "Biofuels",
         "marker": {
          "color": "#FF9900",
          "pattern": {
           "shape": ""
          }
         },
         "name": "Biofuels",
         "orientation": "v",
         "showlegend": false,
         "textfont": {
          "size": 8
         },
         "textposition": "auto",
         "texttemplate": "%{y:.1f}",
         "type": "bar",
         "x": [
          "CANOE (AEO)",
          "CANOE (ref)",
          "CEF2023"
         ],
         "xaxis": "x2",
         "y": {
          "bdata": "sstdS9fDV0BnN5qR54JWQDsBTYQN91BA",
          "dtype": "f8"
         },
         "yaxis": "y2"
        },
        {
         "hovertemplate": "Carrier=Biofuels<br>Period=2035<br>Source=%{x}<br>Demand (PJ)=%{y}<extra></extra>",
         "legendgroup": "Biofuels",
         "marker": {
          "color": "#FF9900",
          "pattern": {
           "shape": ""
          }
         },
         "name": "Biofuels",
         "orientation": "v",
         "showlegend": false,
         "textfont": {
          "size": 8
         },
         "textposition": "auto",
         "texttemplate": "%{y:.1f}",
         "type": "bar",
         "x": [
          "CANOE (AEO)",
          "CANOE (ref)",
          "CEF2023"
         ],
         "xaxis": "x3",
         "y": {
          "bdata": "aJ7bnFh7VEAGBsC4vglQQD9XW7G/BFJA",
          "dtype": "f8"
         },
         "yaxis": "y3"
        },
        {
         "hovertemplate": "Carrier=Biofuels<br>Period=2040<br>Source=%{x}<br>Demand (PJ)=%{y}<extra></extra>",
         "legendgroup": "Biofuels",
         "marker": {
          "color": "#FF9900",
          "pattern": {
           "shape": ""
          }
         },
         "name": "Biofuels",
         "orientation": "v",
         "showlegend": false,
         "textfont": {
          "size": 8
         },
         "textposition": "auto",
         "texttemplate": "%{y:.1f}",
         "type": "bar",
         "x": [
          "CANOE (AEO)",
          "CANOE (ref)",
          "CEF2023"
         ],
         "xaxis": "x4",
         "y": {
          "bdata": "hkc5quw6U0AkBGdvrP5PQPtcbcX+glFA",
          "dtype": "f8"
         },
         "yaxis": "y4"
        },
        {
         "hovertemplate": "Carrier=Biofuels<br>Period=2045<br>Source=%{x}<br>Demand (PJ)=%{y}<extra></extra>",
         "legendgroup": "Biofuels",
         "marker": {
          "color": "#FF9900",
          "pattern": {
           "shape": ""
          }
         },
         "name": "Biofuels",
         "orientation": "v",
         "showlegend": false,
         "textfont": {
          "size": 8
         },
         "textposition": "auto",
         "texttemplate": "%{y:.1f}",
         "type": "bar",
         "x": [
          "CANOE (AEO)",
          "CANOE (ref)",
          "CEF2023"
         ],
         "xaxis": "x5",
         "y": {
          "bdata": "oLUi14vGUkCKZoCdNFNNQMSxLm6jNVFA",
          "dtype": "f8"
         },
         "yaxis": "y5"
        },
        {
         "hovertemplate": "Carrier=Biofuels<br>Period=2050<br>Source=%{x}<br>Demand (PJ)=%{y}<extra></extra>",
         "legendgroup": "Biofuels",
         "marker": {
          "color": "#FF9900",
          "pattern": {
           "shape": ""
          }
         },
         "name": "Biofuels",
         "orientation": "v",
         "showlegend": false,
         "textfont": {
          "size": 8
         },
         "textposition": "auto",
         "texttemplate": "%{y:.1f}",
         "type": "bar",
         "x": [
          "CANOE (AEO)",
          "CANOE (ref)",
          "CEF2023"
         ],
         "xaxis": "x6",
         "y": {
          "bdata": "rognu60hU0DnUniz2VpLQFpkO99PTVFA",
          "dtype": "f8"
         },
         "yaxis": "y6"
        },
        {
         "hovertemplate": "Carrier=Electricity<br>Period=2025<br>Source=%{x}<br>Demand (PJ)=%{y}<extra></extra>",
         "legendgroup": "Electricity",
         "marker": {
          "color": "#109618",
          "pattern": {
           "shape": ""
          }
         },
         "name": "Electricity",
         "orientation": "v",
         "showlegend": true,
         "textfont": {
          "size": 8
         },
         "textposition": "auto",
         "texttemplate": "%{y:.1f}",
         "type": "bar",
         "x": [
          "CANOE (AEO)",
          "CANOE (ref)",
          "CEF2023"
         ],
         "xaxis": "x",
         "y": {
          "bdata": "IXlCDi0ZIUBl+u4pYcoiQA5Pr5RlyBFA",
          "dtype": "f8"
         },
         "yaxis": "y"
        },
        {
         "hovertemplate": "Carrier=Electricity<br>Period=2030<br>Source=%{x}<br>Demand (PJ)=%{y}<extra></extra>",
         "legendgroup": "Electricity",
         "marker": {
          "color": "#109618",
          "pattern": {
           "shape": ""
          }
         },
         "name": "Electricity",
         "orientation": "v",
         "showlegend": false,
         "textfont": {
          "size": 8
         },
         "textposition": "auto",
         "texttemplate": "%{y:.1f}",
         "type": "bar",
         "x": [
          "CANOE (AEO)",
          "CANOE (ref)",
          "CEF2023"
         ],
         "xaxis": "x2",
         "y": {
          "bdata": "XWbSW4lROEBCXqNx71o7QJwzorQ3mCpA",
          "dtype": "f8"
         },
         "yaxis": "y2"
        },
        {
         "hovertemplate": "Carrier=Electricity<br>Period=2035<br>Source=%{x}<br>Demand (PJ)=%{y}<extra></extra>",
         "legendgroup": "Electricity",
         "marker": {
          "color": "#109618",
          "pattern": {
           "shape": ""
          }
         },
         "name": "Electricity",
         "orientation": "v",
         "showlegend": false,
         "textfont": {
          "size": 8
         },
         "textposition": "auto",
         "texttemplate": "%{y:.1f}",
         "type": "bar",
         "x": [
          "CANOE (AEO)",
          "CANOE (ref)",
          "CEF2023"
         ],
         "xaxis": "x3",
         "y": {
          "bdata": "n7HlB0HESECr8ZMQdpZLQBpR2ht8ATtA",
          "dtype": "f8"
         },
         "yaxis": "y3"
        },
        {
         "hovertemplate": "Carrier=Electricity<br>Period=2040<br>Source=%{x}<br>Demand (PJ)=%{y}<extra></extra>",
         "legendgroup": "Electricity",
         "marker": {
          "color": "#109618",
          "pattern": {
           "shape": ""
          }
         },
         "name": "Electricity",
         "orientation": "v",
         "showlegend": false,
         "textfont": {
          "size": 8
         },
         "textposition": "auto",
         "texttemplate": "%{y:.1f}",
         "type": "bar",
         "x": [
          "CANOE (AEO)",
          "CANOE (ref)",
          "CEF2023"
         ],
         "xaxis": "x4",
         "y": {
          "bdata": "6p1+LE23UECJSP2bIwRTQOm3rwPnBEdA",
          "dtype": "f8"
         },
         "yaxis": "y4"
        },
        {
         "hovertemplate": "Carrier=Electricity<br>Period=2045<br>Source=%{x}<br>Demand (PJ)=%{y}<extra></extra>",
         "legendgroup": "Electricity",
         "marker": {
          "color": "#109618",
          "pattern": {
           "shape": ""
          }
         },
         "name": "Electricity",
         "orientation": "v",
         "showlegend": false,
         "textfont": {
          "size": 8
         },
         "textposition": "auto",
         "texttemplate": "%{y:.1f}",
         "type": "bar",
         "x": [
          "CANOE (AEO)",
          "CANOE (ref)",
          "CEF2023"
         ],
         "xaxis": "x5",
         "y": {
          "bdata": "ebCnVX4XVEBRYlQHRKxWQApoImx4Sk9A",
          "dtype": "f8"
         },
         "yaxis": "y5"
        },
        {
         "hovertemplate": "Carrier=Electricity<br>Period=2050<br>Source=%{x}<br>Demand (PJ)=%{y}<extra></extra>",
         "legendgroup": "Electricity",
         "marker": {
          "color": "#109618",
          "pattern": {
           "shape": ""
          }
         },
         "name": "Electricity",
         "orientation": "v",
         "showlegend": false,
         "textfont": {
          "size": 8
         },
         "textposition": "auto",
         "texttemplate": "%{y:.1f}",
         "type": "bar",
         "x": [
          "CANOE (AEO)",
          "CANOE (ref)",
          "CEF2023"
         ],
         "xaxis": "x6",
         "y": {
          "bdata": "gFMKPxwnWED7347X81dZQKAaL90kolJA",
          "dtype": "f8"
         },
         "yaxis": "y6"
        },
        {
         "hovertemplate": "Carrier=H2<br>Period=2025<br>Source=%{x}<br>Demand (PJ)=%{y}<extra></extra>",
         "legendgroup": "H2",
         "marker": {
          "color": "#990099",
          "pattern": {
           "shape": ""
          }
         },
         "name": "H2",
         "orientation": "v",
         "showlegend": true,
         "textfont": {
          "size": 8
         },
         "textposition": "auto",
         "texttemplate": "%{y:.1f}",
         "type": "bar",
         "x": [
          "CANOE (AEO)",
          "CANOE (ref)",
          "CEF2023"
         ],
         "xaxis": "x",
         "y": {
          "bdata": "11diSEr42j/C9vWV8yb2Py1DHOviNho/",
          "dtype": "f8"
         },
         "yaxis": "y"
        },
        {
         "hovertemplate": "Carrier=H2<br>Period=2030<br>Source=%{x}<br>Demand (PJ)=%{y}<extra></extra>",
         "legendgroup": "H2",
         "marker": {
          "color": "#990099",
          "pattern": {
           "shape": ""
          }
         },
         "name": "H2",
         "orientation": "v",
         "showlegend": false,
         "textfont": {
          "size": 8
         },
         "textposition": "auto",
         "texttemplate": "%{y:.1f}",
         "type": "bar",
         "x": [
          "CANOE (AEO)",
          "CANOE (ref)",
          "CEF2023"
         ],
         "xaxis": "x2",
         "y": {
          "bdata": "LBH9AIkA2z/6PYJymssOQC1DHOviNho/",
          "dtype": "f8"
         },
         "yaxis": "y2"
        },
        {
         "hovertemplate": "Carrier=H2<br>Period=2035<br>Source=%{x}<br>Demand (PJ)=%{y}<extra></extra>",
         "legendgroup": "H2",
         "marker": {
          "color": "#990099",
          "pattern": {
           "shape": ""
          }
         },
         "name": "H2",
         "orientation": "v",
         "showlegend": false,
         "textfont": {
          "size": 8
         },
         "textposition": "auto",
         "texttemplate": "%{y:.1f}",
         "type": "bar",
         "x": [
          "CANOE (AEO)",
          "CANOE (ref)",
          "CEF2023"
         ],
         "xaxis": "x3",
         "y": {
          "bdata": "w2wzOUYY2z+XKxdagYkhQC1DHOviNho/",
          "dtype": "f8"
         },
         "yaxis": "y3"
        },
        {
         "hovertemplate": "Carrier=H2<br>Period=2040<br>Source=%{x}<br>Demand (PJ)=%{y}<extra></extra>",
         "legendgroup": "H2",
         "marker": {
          "color": "#990099",
          "pattern": {
           "shape": ""
          }
         },
         "name": "H2",
         "orientation": "v",
         "showlegend": false,
         "textfont": {
          "size": 8
         },
         "textposition": "auto",
         "texttemplate": "%{y:.1f}",
         "type": "bar",
         "x": [
          "CANOE (AEO)",
          "CANOE (ref)",
          "CEF2023"
         ],
         "xaxis": "x4",
         "y": {
          "bdata": "rg/fdedv0z+HrldV3g0uQC1DHOviNho/",
          "dtype": "f8"
         },
         "yaxis": "y4"
        },
        {
         "hovertemplate": "Carrier=H2<br>Period=2045<br>Source=%{x}<br>Demand (PJ)=%{y}<extra></extra>",
         "legendgroup": "H2",
         "marker": {
          "color": "#990099",
          "pattern": {
           "shape": ""
          }
         },
         "name": "H2",
         "orientation": "v",
         "showlegend": false,
         "textfont": {
          "size": 8
         },
         "textposition": "auto",
         "texttemplate": "%{y:.1f}",
         "type": "bar",
         "x": [
          "CANOE (AEO)",
          "CANOE (ref)",
          "CEF2023"
         ],
         "xaxis": "x5",
         "y": {
          "bdata": "Mut9QWKwyz9H/uZAfbIzQC1DHOviNho/",
          "dtype": "f8"
         },
         "yaxis": "y5"
        },
        {
         "hovertemplate": "Carrier=H2<br>Period=2050<br>Source=%{x}<br>Demand (PJ)=%{y}<extra></extra>",
         "legendgroup": "H2",
         "marker": {
          "color": "#990099",
          "pattern": {
           "shape": ""
          }
         },
         "name": "H2",
         "orientation": "v",
         "showlegend": false,
         "textfont": {
          "size": 8
         },
         "textposition": "auto",
         "texttemplate": "%{y:.1f}",
         "type": "bar",
         "x": [
          "CANOE (AEO)",
          "CANOE (ref)",
          "CEF2023"
         ],
         "xaxis": "x6",
         "y": {
          "bdata": "Rr1/iNGjyz+0yUvmmvY2QC1DHOviNho/",
          "dtype": "f8"
         },
         "yaxis": "y6"
        },
        {
         "hovertemplate": "Carrier=Natural Gas<br>Period=2025<br>Source=%{x}<br>Demand (PJ)=%{y}<extra></extra>",
         "legendgroup": "Natural Gas",
         "marker": {
          "color": "#0099C6",
          "pattern": {
           "shape": ""
          }
         },
         "name": "Natural Gas",
         "orientation": "v",
         "showlegend": true,
         "textfont": {
          "size": 8
         },
         "textposition": "auto",
         "texttemplate": "%{y:.1f}",
         "type": "bar",
         "x": [
          "CANOE (AEO)",
          "CANOE (ref)",
          "CEF2023"
         ],
         "xaxis": "x",
         "y": {
          "bdata": "F6dvMdk98T/d85FdRT/xPx3J5T+k3+g/",
          "dtype": "f8"
         },
         "yaxis": "y"
        },
        {
         "hovertemplate": "Carrier=Natural Gas<br>Period=2030<br>Source=%{x}<br>Demand (PJ)=%{y}<extra></extra>",
         "legendgroup": "Natural Gas",
         "marker": {
          "color": "#0099C6",
          "pattern": {
           "shape": ""
          }
         },
         "name": "Natural Gas",
         "orientation": "v",
         "showlegend": false,
         "textfont": {
          "size": 8
         },
         "textposition": "auto",
         "texttemplate": "%{y:.1f}",
         "type": "bar",
         "x": [
          "CANOE (AEO)",
          "CANOE (ref)",
          "CEF2023"
         ],
         "xaxis": "x2",
         "y": {
          "bdata": "8PCkZlbrBUCX4bkd2OwFQPs6cM6I0uo/",
          "dtype": "f8"
         },
         "yaxis": "y2"
        },
        {
         "hovertemplate": "Carrier=Natural Gas<br>Period=2035<br>Source=%{x}<br>Demand (PJ)=%{y}<extra></extra>",
         "legendgroup": "Natural Gas",
         "marker": {
          "color": "#0099C6",
          "pattern": {
           "shape": ""
          }
         },
         "name": "Natural Gas",
         "orientation": "v",
         "showlegend": false,
         "textfont": {
          "size": 8
         },
         "textposition": "auto",
         "texttemplate": "%{y:.1f}",
         "type": "bar",
         "x": [
          "CANOE (AEO)",
          "CANOE (ref)",
          "CEF2023"
         ],
         "xaxis": "x3",
         "y": {
          "bdata": "ngGo524nDEAuF0ramCkMQA3gLZCg+Os/",
          "dtype": "f8"
         },
         "yaxis": "y3"
        },
        {
         "hovertemplate": "Carrier=Natural Gas<br>Period=2040<br>Source=%{x}<br>Demand (PJ)=%{y}<extra></extra>",
         "legendgroup": "Natural Gas",
         "marker": {
          "color": "#0099C6",
          "pattern": {
           "shape": ""
          }
         },
         "name": "Natural Gas",
         "orientation": "v",
         "showlegend": false,
         "textfont": {
          "size": 8
         },
         "textposition": "auto",
         "texttemplate": "%{y:.1f}",
         "type": "bar",
         "x": [
          "CANOE (AEO)",
          "CANOE (ref)",
          "CEF2023"
         ],
         "xaxis": "x4",
         "y": {
          "bdata": "7EdCTddIFUD06Z5FxUkVQLWmeccpOuw/",
          "dtype": "f8"
         },
         "yaxis": "y4"
        },
        {
         "hovertemplate": "Carrier=Natural Gas<br>Period=2045<br>Source=%{x}<br>Demand (PJ)=%{y}<extra></extra>",
         "legendgroup": "Natural Gas",
         "marker": {
          "color": "#0099C6",
          "pattern": {
           "shape": ""
          }
         },
         "name": "Natural Gas",
         "orientation": "v",
         "showlegend": false,
         "textfont": {
          "size": 8
         },
         "textposition": "auto",
         "texttemplate": "%{y:.1f}",
         "type": "bar",
         "x": [
          "CANOE (AEO)",
          "CANOE (ref)",
          "CEF2023"
         ],
         "xaxis": "x5",
         "y": {
          "bdata": "iaa5Q9hIFUB7W61GKkkVQKjGSzeJQew/",
          "dtype": "f8"
         },
         "yaxis": "y5"
        },
        {
         "hovertemplate": "Carrier=Natural Gas<br>Period=2050<br>Source=%{x}<br>Demand (PJ)=%{y}<extra></extra>",
         "legendgroup": "Natural Gas",
         "marker": {
          "color": "#0099C6",
          "pattern": {
           "shape": ""
          }
         },
         "name": "Natural Gas",
         "orientation": "v",
         "showlegend": false,
         "textfont": {
          "size": 8
         },
         "textposition": "auto",
         "texttemplate": "%{y:.1f}",
         "type": "bar",
         "x": [
          "CANOE (AEO)",
          "CANOE (ref)",
          "CEF2023"
         ],
         "xaxis": "x6",
         "y": {
          "bdata": "PaQhONhIFUCzCnGcH0kVQAWjkjoBTew/",
          "dtype": "f8"
         },
         "yaxis": "y6"
        },
        {
         "hovertemplate": "Carrier=Aviation Fuel<br>Period=2025<br>Source=%{x}<br>Demand (PJ)=%{y}<extra></extra>",
         "legendgroup": "Aviation Fuel",
         "marker": {
          "color": "#DD4477",
          "pattern": {
           "shape": ""
          }
         },
         "name": "Aviation Fuel",
         "orientation": "v",
         "showlegend": true,
         "textfont": {
          "size": 8
         },
         "textposition": "auto",
         "texttemplate": "%{y:.1f}",
         "type": "bar",
         "x": [
          "CANOE (AEO)",
          "CANOE (ref)",
          "CEF2023"
         ],
         "xaxis": "x",
         "y": {
          "bdata": "tBOlndBOVkDjeQqc0E5WQMgHPZtVr1pA",
          "dtype": "f8"
         },
         "yaxis": "y"
        },
        {
         "hovertemplate": "Carrier=Aviation Fuel<br>Period=2030<br>Source=%{x}<br>Demand (PJ)=%{y}<extra></extra>",
         "legendgroup": "Aviation Fuel",
         "marker": {
          "color": "#DD4477",
          "pattern": {
           "shape": ""
          }
         },
         "name": "Aviation Fuel",
         "orientation": "v",
         "showlegend": false,
         "textfont": {
          "size": 8
         },
         "textposition": "auto",
         "texttemplate": "%{y:.1f}",
         "type": "bar",
         "x": [
          "CANOE (AEO)",
          "CANOE (ref)",
          "CEF2023"
         ],
         "xaxis": "x2",
         "y": {
          "bdata": "cc3Hz6kXV0ALgJHMqRdXQLG/7J48fF1A",
          "dtype": "f8"
         },
         "yaxis": "y2"
        },
        {
         "hovertemplate": "Carrier=Aviation Fuel<br>Period=2035<br>Source=%{x}<br>Demand (PJ)=%{y}<extra></extra>",
         "legendgroup": "Aviation Fuel",
         "marker": {
          "color": "#DD4477",
          "pattern": {
           "shape": ""
          }
         },
         "name": "Aviation Fuel",
         "orientation": "v",
         "showlegend": false,
         "textfont": {
          "size": 8
         },
         "textposition": "auto",
         "texttemplate": "%{y:.1f}",
         "type": "bar",
         "x": [
          "CANOE (AEO)",
          "CANOE (ref)",
          "CEF2023"
         ],
         "xaxis": "x3",
         "y": {
          "bdata": "6zCVL3MpWEAl/xkscylYQGTMXUvIv19A",
          "dtype": "f8"
         },
         "yaxis": "y3"
        },
        {
         "hovertemplate": "Carrier=Aviation Fuel<br>Period=2040<br>Source=%{x}<br>Demand (PJ)=%{y}<extra></extra>",
         "legendgroup": "Aviation Fuel",
         "marker": {
          "color": "#DD4477",
          "pattern": {
           "shape": ""
          }
         },
         "name": "Aviation Fuel",
         "orientation": "v",
         "showlegend": false,
         "textfont": {
          "size": 8
         },
         "textposition": "auto",
         "texttemplate": "%{y:.1f}",
         "type": "bar",
         "x": [
          "CANOE (AEO)",
          "CANOE (ref)",
          "CEF2023"
         ],
         "xaxis": "x4",
         "y": {
          "bdata": "m4SQJ9UdWkCZnkcj1R1aQLU3+MJkuGBA",
          "dtype": "f8"
         },
         "yaxis": "y4"
        },
        {
         "hovertemplate": "Carrier=Aviation Fuel<br>Period=2045<br>Source=%{x}<br>Demand (PJ)=%{y}<extra></extra>",
         "legendgroup": "Aviation Fuel",
         "marker": {
          "color": "#DD4477",
          "pattern": {
           "shape": ""
          }
         },
         "name": "Aviation Fuel",
         "orientation": "v",
         "showlegend": false,
         "textfont": {
          "size": 8
         },
         "textposition": "auto",
         "texttemplate": "%{y:.1f}",
         "type": "bar",
         "x": [
          "CANOE (AEO)",
          "CANOE (ref)",
          "CEF2023"
         ],
         "xaxis": "x5",
         "y": {
          "bdata": "PaYv/xT8XEDwEqf3FPxcQIZa07zjWGFA",
          "dtype": "f8"
         },
         "yaxis": "y5"
        },
        {
         "hovertemplate": "Carrier=Aviation Fuel<br>Period=2050<br>Source=%{x}<br>Demand (PJ)=%{y}<extra></extra>",
         "legendgroup": "Aviation Fuel",
         "marker": {
          "color": "#DD4477",
          "pattern": {
           "shape": ""
          }
         },
         "name": "Aviation Fuel",
         "orientation": "v",
         "showlegend": false,
         "textfont": {
          "size": 8
         },
         "textposition": "auto",
         "texttemplate": "%{y:.1f}",
         "type": "bar",
         "x": [
          "CANOE (AEO)",
          "CANOE (ref)",
          "CEF2023"
         ],
         "xaxis": "x6",
         "y": {
          "bdata": "rlMyPDwhX0Dh7Sk2PCFfQGlv8IXJ3GFA",
          "dtype": "f8"
         },
         "yaxis": "y6"
        },
        {
         "hovertemplate": "Carrier=Marine Fuels<br>Period=2025<br>Source=%{x}<br>Demand (PJ)=%{y}<extra></extra>",
         "legendgroup": "Marine Fuels",
         "marker": {
          "color": "#B82E2E",
          "pattern": {
           "shape": ""
          }
         },
         "name": "Marine Fuels",
         "orientation": "v",
         "showlegend": true,
         "textfont": {
          "size": 8
         },
         "textposition": "auto",
         "texttemplate": "%{y:.1f}",
         "type": "bar",
         "x": [
          "CANOE (AEO)",
          "CANOE (ref)",
          "CEF2023"
         ],
         "xaxis": "x",
         "y": {
          "bdata": "3e+UNY0OIEBsEXkQjw4gQFOWIY51ESxA",
          "dtype": "f8"
         },
         "yaxis": "y"
        },
        {
         "hovertemplate": "Carrier=Marine Fuels<br>Period=2030<br>Source=%{x}<br>Demand (PJ)=%{y}<extra></extra>",
         "legendgroup": "Marine Fuels",
         "marker": {
          "color": "#B82E2E",
          "pattern": {
           "shape": ""
          }
         },
         "name": "Marine Fuels",
         "orientation": "v",
         "showlegend": false,
         "textfont": {
          "size": 8
         },
         "textposition": "auto",
         "texttemplate": "%{y:.1f}",
         "type": "bar",
         "x": [
          "CANOE (AEO)",
          "CANOE (ref)",
          "CEF2023"
         ],
         "xaxis": "x2",
         "y": {
          "bdata": "e9DmIvgWG0B/YTgd/BYbQPAWSFD8uCVA",
          "dtype": "f8"
         },
         "yaxis": "y2"
        },
        {
         "hovertemplate": "Carrier=Marine Fuels<br>Period=2035<br>Source=%{x}<br>Demand (PJ)=%{y}<extra></extra>",
         "legendgroup": "Marine Fuels",
         "marker": {
          "color": "#B82E2E",
          "pattern": {
           "shape": ""
          }
         },
         "name": "Marine Fuels",
         "orientation": "v",
         "showlegend": false,
         "textfont": {
          "size": 8
         },
         "textposition": "auto",
         "texttemplate": "%{y:.1f}",
         "type": "bar",
         "x": [
          "CANOE (AEO)",
          "CANOE (ref)",
          "CEF2023"
         ],
         "xaxis": "x3",
         "y": {
          "bdata": "iIuhqVi+GUCTjbd3XL4ZQFpkO99PzSBA",
          "dtype": "f8"
         },
         "yaxis": "y3"
        },
        {
         "hovertemplate": "Carrier=Marine Fuels<br>Period=2040<br>Source=%{x}<br>Demand (PJ)=%{y}<extra></extra>",
         "legendgroup": "Marine Fuels",
         "marker": {
          "color": "#B82E2E",
          "pattern": {
           "shape": ""
          }
         },
         "name": "Marine Fuels",
         "orientation": "v",
         "showlegend": false,
         "textfont": {
          "size": 8
         },
         "textposition": "auto",
         "texttemplate": "%{y:.1f}",
         "type": "bar",
         "x": [
          "CANOE (AEO)",
          "CANOE (ref)",
          "CEF2023"
         ],
         "xaxis": "x4",
         "y": {
          "bdata": "rly71F5HFEDg/em+ZEcUQKhXyjLEcRtA",
          "dtype": "f8"
         },
         "yaxis": "y4"
        },
        {
         "hovertemplate": "Carrier=Marine Fuels<br>Period=2045<br>Source=%{x}<br>Demand (PJ)=%{y}<extra></extra>",
         "legendgroup": "Marine Fuels",
         "marker": {
          "color": "#B82E2E",
          "pattern": {
           "shape": ""
          }
         },
         "name": "Marine Fuels",
         "orientation": "v",
         "showlegend": false,
         "textfont": {
          "size": 8
         },
         "textposition": "auto",
         "texttemplate": "%{y:.1f}",
         "type": "bar",
         "x": [
          "CANOE (AEO)",
          "CANOE (ref)",
          "CEF2023"
         ],
         "xaxis": "x5",
         "y": {
          "bdata": "dp5RMUGuFEDpl4EtSK4UQInS3uALExhA",
          "dtype": "f8"
         },
         "yaxis": "y5"
        },
        {
         "hovertemplate": "Carrier=Marine Fuels<br>Period=2050<br>Source=%{x}<br>Demand (PJ)=%{y}<extra></extra>",
         "legendgroup": "Marine Fuels",
         "marker": {
          "color": "#B82E2E",
          "pattern": {
           "shape": ""
          }
         },
         "name": "Marine Fuels",
         "orientation": "v",
         "showlegend": false,
         "textfont": {
          "size": 8
         },
         "textposition": "auto",
         "texttemplate": "%{y:.1f}",
         "type": "bar",
         "x": [
          "CANOE (AEO)",
          "CANOE (ref)",
          "CEF2023"
         ],
         "xaxis": "x6",
         "y": {
          "bdata": "uOtIrPvVFUABHDR1AtYVQNejcD0K1xZA",
          "dtype": "f8"
         },
         "yaxis": "y6"
        },
        {
         "hovertemplate": "Carrier=Other<br>Period=2025<br>Source=%{x}<br>Demand (PJ)=%{y}<extra></extra>",
         "legendgroup": "Other",
         "marker": {
          "color": "#316395",
          "pattern": {
           "shape": ""
          }
         },
         "name": "Other",
         "orientation": "v",
         "showlegend": true,
         "textfont": {
          "size": 8
         },
         "textposition": "auto",
         "texttemplate": "%{y:.1f}",
         "type": "bar",
         "x": [
          "CEF2023"
         ],
         "xaxis": "x",
         "y": {
          "bdata": "dCSX/5B+GEA=",
          "dtype": "f8"
         },
         "yaxis": "y"
        },
        {
         "hovertemplate": "Carrier=Other<br>Period=2030<br>Source=%{x}<br>Demand (PJ)=%{y}<extra></extra>",
         "legendgroup": "Other",
         "marker": {
          "color": "#316395",
          "pattern": {
           "shape": ""
          }
         },
         "name": "Other",
         "orientation": "v",
         "showlegend": false,
         "textfont": {
          "size": 8
         },
         "textposition": "auto",
         "texttemplate": "%{y:.1f}",
         "type": "bar",
         "x": [
          "CEF2023"
         ],
         "xaxis": "x2",
         "y": {
          "bdata": "/Bhz1xKyFkA=",
          "dtype": "f8"
         },
         "yaxis": "y2"
        },
        {
         "hovertemplate": "Carrier=Other<br>Period=2035<br>Source=%{x}<br>Demand (PJ)=%{y}<extra></extra>",
         "legendgroup": "Other",
         "marker": {
          "color": "#316395",
          "pattern": {
           "shape": ""
          }
         },
         "name": "Other",
         "orientation": "v",
         "showlegend": false,
         "textfont": {
          "size": 8
         },
         "textposition": "auto",
         "texttemplate": "%{y:.1f}",
         "type": "bar",
         "x": [
          "CEF2023"
         ],
         "xaxis": "x3",
         "y": {
          "bdata": "j1N0JJf/FEA=",
          "dtype": "f8"
         },
         "yaxis": "y3"
        },
        {
         "hovertemplate": "Carrier=Other<br>Period=2040<br>Source=%{x}<br>Demand (PJ)=%{y}<extra></extra>",
         "legendgroup": "Other",
         "marker": {
          "color": "#316395",
          "pattern": {
           "shape": ""
          }
         },
         "name": "Other",
         "orientation": "v",
         "showlegend": false,
         "textfont": {
          "size": 8
         },
         "textposition": "auto",
         "texttemplate": "%{y:.1f}",
         "type": "bar",
         "x": [
          "CEF2023"
         ],
         "xaxis": "x4",
         "y": {
          "bdata": "OIlBYOVQE0A=",
          "dtype": "f8"
         },
         "yaxis": "y4"
        },
        {
         "hovertemplate": "Carrier=Other<br>Period=2045<br>Source=%{x}<br>Demand (PJ)=%{y}<extra></extra>",
         "legendgroup": "Other",
         "marker": {
          "color": "#316395",
          "pattern": {
           "shape": ""
          }
         },
         "name": "Other",
         "orientation": "v",
         "showlegend": false,
         "textfont": {
          "size": 8
         },
         "textposition": "auto",
         "texttemplate": "%{y:.1f}",
         "type": "bar",
         "x": [
          "CEF2023"
         ],
         "xaxis": "x5",
         "y": {
          "bdata": "ukkMAisHEkA=",
          "dtype": "f8"
         },
         "yaxis": "y5"
        },
        {
         "hovertemplate": "Carrier=Other<br>Period=2050<br>Source=%{x}<br>Demand (PJ)=%{y}<extra></extra>",
         "legendgroup": "Other",
         "marker": {
          "color": "#316395",
          "pattern": {
           "shape": ""
          }
         },
         "name": "Other",
         "orientation": "v",
         "showlegend": false,
         "textfont": {
          "size": 8
         },
         "textposition": "auto",
         "texttemplate": "%{y:.1f}",
         "type": "bar",
         "x": [
          "CEF2023"
         ],
         "xaxis": "x6",
         "y": {
          "bdata": "EoPAyqFFEUA=",
          "dtype": "f8"
         },
         "yaxis": "y6"
        }
       ],
       "layout": {
        "annotations": [
         {
          "font": {},
          "showarrow": false,
          "text": "2025",
          "x": 0.075,
          "xanchor": "center",
          "xref": "paper",
          "y": -0.13,
          "yanchor": "top",
          "yref": "paper"
         },
         {
          "font": {},
          "showarrow": false,
          "text": "2030",
          "x": 0.24499999999999997,
          "xanchor": "center",
          "xref": "paper",
          "y": -0.13,
          "yanchor": "top",
          "yref": "paper"
         },
         {
          "font": {},
          "showarrow": false,
          "text": "2035",
          "x": 0.415,
          "xanchor": "center",
          "xref": "paper",
          "y": -0.13,
          "yanchor": "top",
          "yref": "paper"
         },
         {
          "font": {},
          "showarrow": false,
          "text": "2040",
          "x": 0.585,
          "xanchor": "center",
          "xref": "paper",
          "y": -0.13,
          "yanchor": "top",
          "yref": "paper"
         },
         {
          "font": {},
          "showarrow": false,
          "text": "2045",
          "x": 0.7549999999999999,
          "xanchor": "center",
          "xref": "paper",
          "y": -0.13,
          "yanchor": "top",
          "yref": "paper"
         },
         {
          "font": {},
          "showarrow": false,
          "text": "2050",
          "x": 0.925,
          "xanchor": "center",
          "xref": "paper",
          "y": -0.13,
          "yanchor": "top",
          "yref": "paper"
         }
        ],
        "bargap": 0.1,
        "barmode": "stack",
        "font": {
         "size": 14
        },
        "height": 600,
        "legend": {
         "font": {
          "size": 12
         },
         "orientation": "v",
         "title": {
          "text": ""
         },
         "tracegroupgap": 0,
         "x": 1.09,
         "xanchor": "center",
         "y": 0.8,
         "yanchor": "top"
        },
        "margin": {
         "t": 60
        },
        "template": {
         "data": {
          "bar": [
           {
            "error_x": {
             "color": "#2a3f5f"
            },
            "error_y": {
             "color": "#2a3f5f"
            },
            "marker": {
             "line": {
              "color": "white",
              "width": 0.5
             },
             "pattern": {
              "fillmode": "overlay",
              "size": 10,
              "solidity": 0.2
             }
            },
            "type": "bar"
           }
          ],
          "barpolar": [
           {
            "marker": {
             "line": {
              "color": "white",
              "width": 0.5
             },
             "pattern": {
              "fillmode": "overlay",
              "size": 10,
              "solidity": 0.2
             }
            },
            "type": "barpolar"
           }
          ],
          "carpet": [
           {
            "aaxis": {
             "endlinecolor": "#2a3f5f",
             "gridcolor": "#C8D4E3",
             "linecolor": "#C8D4E3",
             "minorgridcolor": "#C8D4E3",
             "startlinecolor": "#2a3f5f"
            },
            "baxis": {
             "endlinecolor": "#2a3f5f",
             "gridcolor": "#C8D4E3",
             "linecolor": "#C8D4E3",
             "minorgridcolor": "#C8D4E3",
             "startlinecolor": "#2a3f5f"
            },
            "type": "carpet"
           }
          ],
          "choropleth": [
           {
            "colorbar": {
             "outlinewidth": 0,
             "ticks": ""
            },
            "type": "choropleth"
           }
          ],
          "contour": [
           {
            "colorbar": {
             "outlinewidth": 0,
             "ticks": ""
            },
            "colorscale": [
             [
              0,
              "#0d0887"
             ],
             [
              0.1111111111111111,
              "#46039f"
             ],
             [
              0.2222222222222222,
              "#7201a8"
             ],
             [
              0.3333333333333333,
              "#9c179e"
             ],
             [
              0.4444444444444444,
              "#bd3786"
             ],
             [
              0.5555555555555556,
              "#d8576b"
             ],
             [
              0.6666666666666666,
              "#ed7953"
             ],
             [
              0.7777777777777778,
              "#fb9f3a"
             ],
             [
              0.8888888888888888,
              "#fdca26"
             ],
             [
              1,
              "#f0f921"
             ]
            ],
            "type": "contour"
           }
          ],
          "contourcarpet": [
           {
            "colorbar": {
             "outlinewidth": 0,
             "ticks": ""
            },
            "type": "contourcarpet"
           }
          ],
          "heatmap": [
           {
            "colorbar": {
             "outlinewidth": 0,
             "ticks": ""
            },
            "colorscale": [
             [
              0,
              "#0d0887"
             ],
             [
              0.1111111111111111,
              "#46039f"
             ],
             [
              0.2222222222222222,
              "#7201a8"
             ],
             [
              0.3333333333333333,
              "#9c179e"
             ],
             [
              0.4444444444444444,
              "#bd3786"
             ],
             [
              0.5555555555555556,
              "#d8576b"
             ],
             [
              0.6666666666666666,
              "#ed7953"
             ],
             [
              0.7777777777777778,
              "#fb9f3a"
             ],
             [
              0.8888888888888888,
              "#fdca26"
             ],
             [
              1,
              "#f0f921"
             ]
            ],
            "type": "heatmap"
           }
          ],
          "histogram": [
           {
            "marker": {
             "pattern": {
              "fillmode": "overlay",
              "size": 10,
              "solidity": 0.2
             }
            },
            "type": "histogram"
           }
          ],
          "histogram2d": [
           {
            "colorbar": {
             "outlinewidth": 0,
             "ticks": ""
            },
            "colorscale": [
             [
              0,
              "#0d0887"
             ],
             [
              0.1111111111111111,
              "#46039f"
             ],
             [
              0.2222222222222222,
              "#7201a8"
             ],
             [
              0.3333333333333333,
              "#9c179e"
             ],
             [
              0.4444444444444444,
              "#bd3786"
             ],
             [
              0.5555555555555556,
              "#d8576b"
             ],
             [
              0.6666666666666666,
              "#ed7953"
             ],
             [
              0.7777777777777778,
              "#fb9f3a"
             ],
             [
              0.8888888888888888,
              "#fdca26"
             ],
             [
              1,
              "#f0f921"
             ]
            ],
            "type": "histogram2d"
           }
          ],
          "histogram2dcontour": [
           {
            "colorbar": {
             "outlinewidth": 0,
             "ticks": ""
            },
            "colorscale": [
             [
              0,
              "#0d0887"
             ],
             [
              0.1111111111111111,
              "#46039f"
             ],
             [
              0.2222222222222222,
              "#7201a8"
             ],
             [
              0.3333333333333333,
              "#9c179e"
             ],
             [
              0.4444444444444444,
              "#bd3786"
             ],
             [
              0.5555555555555556,
              "#d8576b"
             ],
             [
              0.6666666666666666,
              "#ed7953"
             ],
             [
              0.7777777777777778,
              "#fb9f3a"
             ],
             [
              0.8888888888888888,
              "#fdca26"
             ],
             [
              1,
              "#f0f921"
             ]
            ],
            "type": "histogram2dcontour"
           }
          ],
          "mesh3d": [
           {
            "colorbar": {
             "outlinewidth": 0,
             "ticks": ""
            },
            "type": "mesh3d"
           }
          ],
          "parcoords": [
           {
            "line": {
             "colorbar": {
              "outlinewidth": 0,
              "ticks": ""
             }
            },
            "type": "parcoords"
           }
          ],
          "pie": [
           {
            "automargin": true,
            "type": "pie"
           }
          ],
          "scatter": [
           {
            "fillpattern": {
             "fillmode": "overlay",
             "size": 10,
             "solidity": 0.2
            },
            "type": "scatter"
           }
          ],
          "scatter3d": [
           {
            "line": {
             "colorbar": {
              "outlinewidth": 0,
              "ticks": ""
             }
            },
            "marker": {
             "colorbar": {
              "outlinewidth": 0,
              "ticks": ""
             }
            },
            "type": "scatter3d"
           }
          ],
          "scattercarpet": [
           {
            "marker": {
             "colorbar": {
              "outlinewidth": 0,
              "ticks": ""
             }
            },
            "type": "scattercarpet"
           }
          ],
          "scattergeo": [
           {
            "marker": {
             "colorbar": {
              "outlinewidth": 0,
              "ticks": ""
             }
            },
            "type": "scattergeo"
           }
          ],
          "scattergl": [
           {
            "marker": {
             "colorbar": {
              "outlinewidth": 0,
              "ticks": ""
             }
            },
            "type": "scattergl"
           }
          ],
          "scattermap": [
           {
            "marker": {
             "colorbar": {
              "outlinewidth": 0,
              "ticks": ""
             }
            },
            "type": "scattermap"
           }
          ],
          "scattermapbox": [
           {
            "marker": {
             "colorbar": {
              "outlinewidth": 0,
              "ticks": ""
             }
            },
            "type": "scattermapbox"
           }
          ],
          "scatterpolar": [
           {
            "marker": {
             "colorbar": {
              "outlinewidth": 0,
              "ticks": ""
             }
            },
            "type": "scatterpolar"
           }
          ],
          "scatterpolargl": [
           {
            "marker": {
             "colorbar": {
              "outlinewidth": 0,
              "ticks": ""
             }
            },
            "type": "scatterpolargl"
           }
          ],
          "scatterternary": [
           {
            "marker": {
             "colorbar": {
              "outlinewidth": 0,
              "ticks": ""
             }
            },
            "type": "scatterternary"
           }
          ],
          "surface": [
           {
            "colorbar": {
             "outlinewidth": 0,
             "ticks": ""
            },
            "colorscale": [
             [
              0,
              "#0d0887"
             ],
             [
              0.1111111111111111,
              "#46039f"
             ],
             [
              0.2222222222222222,
              "#7201a8"
             ],
             [
              0.3333333333333333,
              "#9c179e"
             ],
             [
              0.4444444444444444,
              "#bd3786"
             ],
             [
              0.5555555555555556,
              "#d8576b"
             ],
             [
              0.6666666666666666,
              "#ed7953"
             ],
             [
              0.7777777777777778,
              "#fb9f3a"
             ],
             [
              0.8888888888888888,
              "#fdca26"
             ],
             [
              1,
              "#f0f921"
             ]
            ],
            "type": "surface"
           }
          ],
          "table": [
           {
            "cells": {
             "fill": {
              "color": "#EBF0F8"
             },
             "line": {
              "color": "white"
             }
            },
            "header": {
             "fill": {
              "color": "#C8D4E3"
             },
             "line": {
              "color": "white"
             }
            },
            "type": "table"
           }
          ]
         },
         "layout": {
          "annotationdefaults": {
           "arrowcolor": "#2a3f5f",
           "arrowhead": 0,
           "arrowwidth": 1
          },
          "autotypenumbers": "strict",
          "coloraxis": {
           "colorbar": {
            "outlinewidth": 0,
            "ticks": ""
           }
          },
          "colorscale": {
           "diverging": [
            [
             0,
             "#8e0152"
            ],
            [
             0.1,
             "#c51b7d"
            ],
            [
             0.2,
             "#de77ae"
            ],
            [
             0.3,
             "#f1b6da"
            ],
            [
             0.4,
             "#fde0ef"
            ],
            [
             0.5,
             "#f7f7f7"
            ],
            [
             0.6,
             "#e6f5d0"
            ],
            [
             0.7,
             "#b8e186"
            ],
            [
             0.8,
             "#7fbc41"
            ],
            [
             0.9,
             "#4d9221"
            ],
            [
             1,
             "#276419"
            ]
           ],
           "sequential": [
            [
             0,
             "#0d0887"
            ],
            [
             0.1111111111111111,
             "#46039f"
            ],
            [
             0.2222222222222222,
             "#7201a8"
            ],
            [
             0.3333333333333333,
             "#9c179e"
            ],
            [
             0.4444444444444444,
             "#bd3786"
            ],
            [
             0.5555555555555556,
             "#d8576b"
            ],
            [
             0.6666666666666666,
             "#ed7953"
            ],
            [
             0.7777777777777778,
             "#fb9f3a"
            ],
            [
             0.8888888888888888,
             "#fdca26"
            ],
            [
             1,
             "#f0f921"
            ]
           ],
           "sequentialminus": [
            [
             0,
             "#0d0887"
            ],
            [
             0.1111111111111111,
             "#46039f"
            ],
            [
             0.2222222222222222,
             "#7201a8"
            ],
            [
             0.3333333333333333,
             "#9c179e"
            ],
            [
             0.4444444444444444,
             "#bd3786"
            ],
            [
             0.5555555555555556,
             "#d8576b"
            ],
            [
             0.6666666666666666,
             "#ed7953"
            ],
            [
             0.7777777777777778,
             "#fb9f3a"
            ],
            [
             0.8888888888888888,
             "#fdca26"
            ],
            [
             1,
             "#f0f921"
            ]
           ]
          },
          "colorway": [
           "#636efa",
           "#EF553B",
           "#00cc96",
           "#ab63fa",
           "#FFA15A",
           "#19d3f3",
           "#FF6692",
           "#B6E880",
           "#FF97FF",
           "#FECB52"
          ],
          "font": {
           "color": "#2a3f5f"
          },
          "geo": {
           "bgcolor": "white",
           "lakecolor": "white",
           "landcolor": "white",
           "showlakes": true,
           "showland": true,
           "subunitcolor": "#C8D4E3"
          },
          "hoverlabel": {
           "align": "left"
          },
          "hovermode": "closest",
          "mapbox": {
           "style": "light"
          },
          "paper_bgcolor": "white",
          "plot_bgcolor": "white",
          "polar": {
           "angularaxis": {
            "gridcolor": "#EBF0F8",
            "linecolor": "#EBF0F8",
            "ticks": ""
           },
           "bgcolor": "white",
           "radialaxis": {
            "gridcolor": "#EBF0F8",
            "linecolor": "#EBF0F8",
            "ticks": ""
           }
          },
          "scene": {
           "xaxis": {
            "backgroundcolor": "white",
            "gridcolor": "#DFE8F3",
            "gridwidth": 2,
            "linecolor": "#EBF0F8",
            "showbackground": true,
            "ticks": "",
            "zerolinecolor": "#EBF0F8"
           },
           "yaxis": {
            "backgroundcolor": "white",
            "gridcolor": "#DFE8F3",
            "gridwidth": 2,
            "linecolor": "#EBF0F8",
            "showbackground": true,
            "ticks": "",
            "zerolinecolor": "#EBF0F8"
           },
           "zaxis": {
            "backgroundcolor": "white",
            "gridcolor": "#DFE8F3",
            "gridwidth": 2,
            "linecolor": "#EBF0F8",
            "showbackground": true,
            "ticks": "",
            "zerolinecolor": "#EBF0F8"
           }
          },
          "shapedefaults": {
           "line": {
            "color": "#2a3f5f"
           }
          },
          "ternary": {
           "aaxis": {
            "gridcolor": "#DFE8F3",
            "linecolor": "#A2B1C6",
            "ticks": ""
           },
           "baxis": {
            "gridcolor": "#DFE8F3",
            "linecolor": "#A2B1C6",
            "ticks": ""
           },
           "bgcolor": "white",
           "caxis": {
            "gridcolor": "#DFE8F3",
            "linecolor": "#A2B1C6",
            "ticks": ""
           }
          },
          "title": {
           "x": 0.05
          },
          "xaxis": {
           "automargin": true,
           "gridcolor": "#EBF0F8",
           "linecolor": "#EBF0F8",
           "ticks": "",
           "title": {
            "standoff": 15
           },
           "zerolinecolor": "#EBF0F8",
           "zerolinewidth": 2
          },
          "yaxis": {
           "automargin": true,
           "gridcolor": "#EBF0F8",
           "linecolor": "#EBF0F8",
           "ticks": "",
           "title": {
            "standoff": 15
           },
           "zerolinecolor": "#EBF0F8",
           "zerolinewidth": 2
          }
         }
        },
        "title": {
         "text": "Transportation secondary energy demand in ON by carrier and energy model",
         "x": 0.5,
         "xanchor": "center",
         "y": 0.97,
         "yanchor": "top"
        },
        "width": 1000,
        "xaxis": {
         "anchor": "y",
         "domain": [
          0,
          0.15
         ],
         "tickfont": {
          "size": 12
         },
         "title": {
          "text": ""
         }
        },
        "xaxis2": {
         "anchor": "y2",
         "domain": [
          0.16999999999999998,
          0.31999999999999995
         ],
         "matches": "x",
         "tickfont": {
          "size": 12
         },
         "title": {
          "text": ""
         }
        },
        "xaxis3": {
         "anchor": "y3",
         "domain": [
          0.33999999999999997,
          0.49
         ],
         "matches": "x",
         "tickfont": {
          "size": 12
         },
         "title": {
          "text": ""
         }
        },
        "xaxis4": {
         "anchor": "y4",
         "domain": [
          0.51,
          0.66
         ],
         "matches": "x",
         "tickfont": {
          "size": 12
         },
         "title": {
          "text": ""
         }
        },
        "xaxis5": {
         "anchor": "y5",
         "domain": [
          0.6799999999999999,
          0.83
         ],
         "matches": "x",
         "tickfont": {
          "size": 12
         },
         "title": {
          "text": ""
         }
        },
        "xaxis6": {
         "anchor": "y6",
         "domain": [
          0.85,
          1
         ],
         "matches": "x",
         "tickfont": {
          "size": 12
         },
         "title": {
          "text": ""
         }
        },
        "yaxis": {
         "anchor": "x",
         "domain": [
          0,
          1
         ],
         "dtick": 100,
         "title": {
          "standoff": 0,
          "text": "Demand (PJ)"
         }
        },
        "yaxis2": {
         "anchor": "x2",
         "domain": [
          0,
          1
         ],
         "dtick": 100,
         "matches": "y",
         "showticklabels": false
        },
        "yaxis3": {
         "anchor": "x3",
         "domain": [
          0,
          1
         ],
         "dtick": 100,
         "matches": "y",
         "showticklabels": false
        },
        "yaxis4": {
         "anchor": "x4",
         "domain": [
          0,
          1
         ],
         "dtick": 100,
         "matches": "y",
         "showticklabels": false
        },
        "yaxis5": {
         "anchor": "x5",
         "domain": [
          0,
          1
         ],
         "dtick": 100,
         "matches": "y",
         "showticklabels": false
        },
        "yaxis6": {
         "anchor": "x6",
         "domain": [
          0,
          1
         ],
         "dtick": 100,
         "matches": "y",
         "showticklabels": false
        }
       }
      }
     },
     "metadata": {},
     "output_type": "display_data"
    }
   ],
   "source": [
    "bau23_fig = bau23_demand[(bau23_demand['Sector'] == 'Transportation') & (bau23_demand['Carrier'] != 'Total End-Use')].copy()\n",
    "ref_fig = ref_trnact[(ref_trnact['Mode'] == 'Fuel use') & (ref_trnact['Carrier'] != 'Other')].copy()\n",
    "vanilla_fig = vanilla_trnact[(vanilla_trnact['Mode'] == 'Fuel use') & (vanilla_trnact['Carrier'] != 'Other')].copy()\n",
    "\n",
    "carrier_order = ['Gasoline', 'Diesel', 'Biofuels', 'Electricity', 'H2', 'Natural Gas', 'Aviation Fuel', 'Marine Fuels', 'Other']\n",
    "\n",
    "bau23_fig['Source'] = 'CEF2023'\n",
    "ref_fig['Source'] = 'CANOE (ref)'\n",
    "vanilla_fig['Source'] = 'CANOE (AEO)'\n",
    "\n",
    "fig_df = pd.concat([vanilla_fig[['Period', 'Demand (PJ)', 'Carrier', 'Source']], ref_fig[['Period', 'Demand (PJ)', 'Carrier', 'Source']], bau23_fig[['Period', 'Demand (PJ)', 'Carrier', 'Source']]])\n",
    "\n",
    "fig_df['Carrier'] = fig_df['Carrier'].apply(carrier_grouping)\n",
    "fig_df = fig_df.groupby(['Period', 'Carrier', 'Source'], as_index=False).sum('Demand (PJ)')\n",
    "\n",
    "fig_df['Carrier'] = pd.Categorical(fig_df['Carrier'], categories=carrier_order, ordered=True)\n",
    "fig_df['Source'] = pd.Categorical(fig_df['Source'], categories=['CANOE (AEO)', 'CANOE (ref)', 'CEF2023'], ordered=True)\n",
    "fig_df = fig_df.sort_values(['Source', 'Carrier', 'Period'])\n",
    "\n",
    "fig_df = fig_df[fig_df['Period'] != \"2021\"]\n",
    "\n",
    "fig = px.bar(fig_df, \n",
    "             x='Source', \n",
    "             y='Demand (PJ)', \n",
    "             color='Carrier', \n",
    "             barmode='stack', \n",
    "             facet_col='Period',\n",
    "             facet_col_spacing=2E-2,\n",
    "             template='plotly_white',\n",
    "             color_discrete_sequence=px.colors.qualitative.G10[:7] + px.colors.qualitative.G10[8:],\n",
    "             text_auto='.1f',\n",
    "            #  text='Demand (PJ)_sum'\n",
    "             width=1000, height=600,\n",
    "             )\n",
    "\n",
    "fig.update_layout(title=dict(\n",
    "        text='Transportation secondary energy demand in ON by carrier and energy model',\n",
    "        x=0.5, \n",
    "        y=0.97,\n",
    "        xanchor='center',\n",
    "        yanchor='top'\n",
    "    ),\n",
    "    xaxis=dict(title='Period'),\n",
    "    yaxis=dict(title='Demand (PJ)',\n",
    "               dtick=100),\n",
    "    yaxis_title_standoff=0,\n",
    "    legend_title_text='',\n",
    "    bargap=0.1,\n",
    "    legend=dict(\n",
    "        orientation='v',  \n",
    "        yanchor='top',\n",
    "        y=0.8,  \n",
    "        xanchor='center',\n",
    "        x=1.09,\n",
    "        font=dict(size=12)),\n",
    "    font=dict(\n",
    "        # family=\"Open Sans\",\n",
    "        size=14)\n",
    "    )\n",
    "\n",
    "for annotation in fig.layout.annotations:\n",
    "    annotation.text = annotation.text.split('=')[1]\n",
    "    annotation.y = -0.13  \n",
    "    annotation.yanchor = 'top' \n",
    "\n",
    "for axis in fig.layout:\n",
    "    if axis.startswith('yaxis'):\n",
    "        fig.layout[axis].dtick = 100\n",
    "\n",
    "for axis in fig.layout:\n",
    "    if axis.startswith('xaxis'):\n",
    "        fig.layout[axis].title.text = ''\n",
    "        fig.layout[axis].tickfont = dict(size=12)\n",
    "\n",
    "fig.for_each_trace(lambda trace: trace.update(textfont=dict(size=8)))\n",
    "\n",
    "fig.show()\n",
    "fig.write_image(\"ref_aeo_demand.svg\", scale=1, engine='kaleido')"
   ]
  },
  {
   "cell_type": "code",
   "execution_count": 15,
   "metadata": {},
   "outputs": [
    {
     "name": "stderr",
     "output_type": "stream",
     "text": [
      "C:\\Users\\rashi\\AppData\\Local\\Temp\\ipykernel_30156\\357088366.py:1: FutureWarning:\n",
      "\n",
      "The default of observed=False is deprecated and will be changed to True in a future version of pandas. Pass observed=False to retain current behavior or observed=True to adopt the future default and silence this warning.\n",
      "\n"
     ]
    },
    {
     "data": {
      "text/html": [
       "<div>\n",
       "<style scoped>\n",
       "    .dataframe tbody tr th:only-of-type {\n",
       "        vertical-align: middle;\n",
       "    }\n",
       "\n",
       "    .dataframe tbody tr th {\n",
       "        vertical-align: top;\n",
       "    }\n",
       "\n",
       "    .dataframe thead th {\n",
       "        text-align: right;\n",
       "    }\n",
       "</style>\n",
       "<table border=\"1\" class=\"dataframe\">\n",
       "  <thead>\n",
       "    <tr style=\"text-align: right;\">\n",
       "      <th></th>\n",
       "      <th></th>\n",
       "      <th>Demand (PJ)</th>\n",
       "    </tr>\n",
       "    <tr>\n",
       "      <th>Period</th>\n",
       "      <th>Source</th>\n",
       "      <th></th>\n",
       "    </tr>\n",
       "  </thead>\n",
       "  <tbody>\n",
       "    <tr>\n",
       "      <th rowspan=\"3\" valign=\"top\">2021</th>\n",
       "      <th>CANOE (AEO)</th>\n",
       "      <td>932.911479</td>\n",
       "    </tr>\n",
       "    <tr>\n",
       "      <th>CANOE (ref)</th>\n",
       "      <td>929.528691</td>\n",
       "    </tr>\n",
       "    <tr>\n",
       "      <th>CEF2023</th>\n",
       "      <td>773.642300</td>\n",
       "    </tr>\n",
       "    <tr>\n",
       "      <th rowspan=\"3\" valign=\"top\">2025</th>\n",
       "      <th>CANOE (AEO)</th>\n",
       "      <td>1066.544002</td>\n",
       "    </tr>\n",
       "    <tr>\n",
       "      <th>CANOE (ref)</th>\n",
       "      <td>1057.177006</td>\n",
       "    </tr>\n",
       "    <tr>\n",
       "      <th>CEF2023</th>\n",
       "      <td>882.030400</td>\n",
       "    </tr>\n",
       "    <tr>\n",
       "      <th rowspan=\"3\" valign=\"top\">2030</th>\n",
       "      <th>CANOE (AEO)</th>\n",
       "      <td>976.216699</td>\n",
       "    </tr>\n",
       "    <tr>\n",
       "      <th>CANOE (ref)</th>\n",
       "      <td>944.160111</td>\n",
       "    </tr>\n",
       "    <tr>\n",
       "      <th>CEF2023</th>\n",
       "      <td>891.992800</td>\n",
       "    </tr>\n",
       "    <tr>\n",
       "      <th rowspan=\"3\" valign=\"top\">2035</th>\n",
       "      <th>CANOE (AEO)</th>\n",
       "      <td>911.146772</td>\n",
       "    </tr>\n",
       "    <tr>\n",
       "      <th>CANOE (ref)</th>\n",
       "      <td>787.115031</td>\n",
       "    </tr>\n",
       "    <tr>\n",
       "      <th>CEF2023</th>\n",
       "      <td>885.967700</td>\n",
       "    </tr>\n",
       "    <tr>\n",
       "      <th rowspan=\"3\" valign=\"top\">2040</th>\n",
       "      <th>CANOE (AEO)</th>\n",
       "      <td>906.501192</td>\n",
       "    </tr>\n",
       "    <tr>\n",
       "      <th>CANOE (ref)</th>\n",
       "      <td>812.579121</td>\n",
       "    </tr>\n",
       "    <tr>\n",
       "      <th>CEF2023</th>\n",
       "      <td>878.348600</td>\n",
       "    </tr>\n",
       "    <tr>\n",
       "      <th rowspan=\"3\" valign=\"top\">2045</th>\n",
       "      <th>CANOE (AEO)</th>\n",
       "      <td>932.118094</td>\n",
       "    </tr>\n",
       "    <tr>\n",
       "      <th>CANOE (ref)</th>\n",
       "      <td>808.250238</td>\n",
       "    </tr>\n",
       "    <tr>\n",
       "      <th>CEF2023</th>\n",
       "      <td>878.176200</td>\n",
       "    </tr>\n",
       "    <tr>\n",
       "      <th rowspan=\"3\" valign=\"top\">2050</th>\n",
       "      <th>CANOE (AEO)</th>\n",
       "      <td>973.100768</td>\n",
       "    </tr>\n",
       "    <tr>\n",
       "      <th>CANOE (ref)</th>\n",
       "      <td>803.822393</td>\n",
       "    </tr>\n",
       "    <tr>\n",
       "      <th>CEF2023</th>\n",
       "      <td>893.905700</td>\n",
       "    </tr>\n",
       "  </tbody>\n",
       "</table>\n",
       "</div>"
      ],
      "text/plain": [
       "                    Demand (PJ)\n",
       "Period Source                  \n",
       "2021   CANOE (AEO)   932.911479\n",
       "       CANOE (ref)   929.528691\n",
       "       CEF2023       773.642300\n",
       "2025   CANOE (AEO)  1066.544002\n",
       "       CANOE (ref)  1057.177006\n",
       "       CEF2023       882.030400\n",
       "2030   CANOE (AEO)   976.216699\n",
       "       CANOE (ref)   944.160111\n",
       "       CEF2023       891.992800\n",
       "2035   CANOE (AEO)   911.146772\n",
       "       CANOE (ref)   787.115031\n",
       "       CEF2023       885.967700\n",
       "2040   CANOE (AEO)   906.501192\n",
       "       CANOE (ref)   812.579121\n",
       "       CEF2023       878.348600\n",
       "2045   CANOE (AEO)   932.118094\n",
       "       CANOE (ref)   808.250238\n",
       "       CEF2023       878.176200\n",
       "2050   CANOE (AEO)   973.100768\n",
       "       CANOE (ref)   803.822393\n",
       "       CEF2023       893.905700"
      ]
     },
     "execution_count": 15,
     "metadata": {},
     "output_type": "execute_result"
    }
   ],
   "source": [
    "fig_df.groupby(['Period', 'Source']).sum('Demand (PJ)')"
   ]
  },
  {
   "cell_type": "markdown",
   "metadata": {},
   "source": [
    "# CANOE vs CEF2023 vs gTech-IESD - transportation secondary energy demand"
   ]
  },
  {
   "cell_type": "code",
   "execution_count": 16,
   "metadata": {},
   "outputs": [
    {
     "name": "stderr",
     "output_type": "stream",
     "text": [
      "C:\\Users\\rashi\\AppData\\Local\\Temp\\ipykernel_30156\\4239646409.py:1: FutureWarning:\n",
      "\n",
      "A value is trying to be set on a copy of a DataFrame or Series through chained assignment using an inplace method.\n",
      "The behavior will change in pandas 3.0. This inplace method will never work because the intermediate object on which we are setting values always behaves as a copy.\n",
      "\n",
      "For example, when doing 'df[col].method(value, inplace=True)', try using 'df.method({col: value}, inplace=True)' or df[col] = df[col].method(value) instead, to perform the operation inplace on the original object.\n",
      "\n",
      "\n",
      "\n"
     ]
    }
   ],
   "source": [
    "gtech23_ref_demand['Sector'].replace({'agriculture & waste': 'AFOLU', 'commercial buildings': 'Commercial', 'residential buildings': 'Residential', 'land use & forestry': 'AFOLU',\n",
    "                                      'industry': 'Industrial', 'oil and gas': 'Oil & Gas', 'direct air capture': 'Industrial', 'utilities': 'Utilities',\n",
    "                                      'light-duty transport': 'Transportation', 'medium & heavy-duty transport': 'Transportation', 'other transport': 'Transportation'}, inplace=True)\n",
    "gtech23_ref_demand = gtech23_ref_demand.groupby(['Period', 'Sector'], as_index=False).sum()[['Period', 'Sector', 'Demand (PJ)']]"
   ]
  },
  {
   "cell_type": "code",
   "execution_count": 17,
   "metadata": {},
   "outputs": [
    {
     "data": {
      "application/vnd.plotly.v1+json": {
       "config": {
        "plotlyServerURL": "https://plot.ly"
       },
       "data": [
        {
         "hovertemplate": "Source=CANOE (vanilla)<br>Period=%{x}<br>Demand (PJ)=%{y}<extra></extra>",
         "legendgroup": "CANOE (vanilla)",
         "line": {
          "color": "red",
          "dash": "dash"
         },
         "marker": {
          "symbol": "circle"
         },
         "mode": "lines",
         "name": "CANOE (vanilla)",
         "orientation": "v",
         "showlegend": true,
         "type": "scatter",
         "x": [
          "2021",
          "2025",
          "2030",
          "2035",
          "2040",
          "2045",
          "2050"
         ],
         "xaxis": "x",
         "y": {
          "bdata": "pDyvtUonjUAVkc0OLaqQQClxs8y7gY5AMha2lix5jEBqRh9xAlSMQGT4KtvxII1Aq8enX85ojkA=",
          "dtype": "f8"
         },
         "yaxis": "y"
        },
        {
         "hovertemplate": "Source=CANOE (ref)<br>Period=%{x}<br>Demand (PJ)=%{y}<extra></extra>",
         "legendgroup": "CANOE (ref)",
         "line": {
          "color": "red",
          "dash": "solid"
         },
         "marker": {
          "symbol": "circle"
         },
         "mode": "lines",
         "name": "CANOE (ref)",
         "orientation": "v",
         "showlegend": true,
         "type": "scatter",
         "x": [
          "2021",
          "2025",
          "2030",
          "2035",
          "2040",
          "2045",
          "2050"
         ],
         "xaxis": "x",
         "y": {
          "bdata": "wiGWwjoMjUDiUBtBtYSQQJ0BDOhHgY1AhI99leuYiEAoQyQKomSJQO6x/3wAQolATLzCQpQeiUA=",
          "dtype": "f8"
         },
         "yaxis": "y"
        },
        {
         "hovertemplate": "Source=CEF 2023 (ref)<br>Period=%{x}<br>Demand (PJ)=%{y}<extra></extra>",
         "legendgroup": "CEF 2023 (ref)",
         "line": {
          "color": "#00cc96",
          "dash": "solid"
         },
         "marker": {
          "symbol": "circle"
         },
         "mode": "lines",
         "name": "CEF 2023 (ref)",
         "orientation": "v",
         "showlegend": true,
         "type": "scatter",
         "x": [
          "2021",
          "2025",
          "2030",
          "2035",
          "2040",
          "2045",
          "2050"
         ],
         "xaxis": "x",
         "y": {
          "bdata": "xLEubiMtiEBj7lpCPpCLQMBbIEHx34tAt2J/2b2vi0AW+8vuyXKLQHGsi9tocYtA5j+k3z7vi0A=",
          "dtype": "f8"
         },
         "yaxis": "y"
        },
        {
         "hovertemplate": "Source=gTech-IESD (ref)<br>Period=%{x}<br>Demand (PJ)=%{y}<extra></extra>",
         "legendgroup": "gTech-IESD (ref)",
         "line": {
          "color": "#ab63fa",
          "dash": "solid"
         },
         "marker": {
          "symbol": "circle"
         },
         "mode": "lines",
         "name": "gTech-IESD (ref)",
         "orientation": "v",
         "showlegend": true,
         "type": "scatter",
         "x": [
          2021,
          2025,
          2030,
          2035,
          2040,
          2045,
          2050
         ],
         "xaxis": "x",
         "y": {
          "bdata": "5uu97lCHjUDsEtVb4+SOQASz+AMEN45AuRluwHfjjEBc/1MWOiCMQI2O9R6YWoxAlCggkvaZjUA=",
          "dtype": "f8"
         },
         "yaxis": "y"
        }
       ],
       "layout": {
        "bargap": 0.1,
        "font": {
         "size": 14
        },
        "height": 500,
        "legend": {
         "orientation": "h",
         "title": {
          "text": ""
         },
         "tracegroupgap": 0,
         "x": 0.5,
         "xanchor": "center",
         "y": -0.16,
         "yanchor": "bottom"
        },
        "margin": {
         "t": 60
        },
        "template": {
         "data": {
          "bar": [
           {
            "error_x": {
             "color": "#2a3f5f"
            },
            "error_y": {
             "color": "#2a3f5f"
            },
            "marker": {
             "line": {
              "color": "white",
              "width": 0.5
             },
             "pattern": {
              "fillmode": "overlay",
              "size": 10,
              "solidity": 0.2
             }
            },
            "type": "bar"
           }
          ],
          "barpolar": [
           {
            "marker": {
             "line": {
              "color": "white",
              "width": 0.5
             },
             "pattern": {
              "fillmode": "overlay",
              "size": 10,
              "solidity": 0.2
             }
            },
            "type": "barpolar"
           }
          ],
          "carpet": [
           {
            "aaxis": {
             "endlinecolor": "#2a3f5f",
             "gridcolor": "#C8D4E3",
             "linecolor": "#C8D4E3",
             "minorgridcolor": "#C8D4E3",
             "startlinecolor": "#2a3f5f"
            },
            "baxis": {
             "endlinecolor": "#2a3f5f",
             "gridcolor": "#C8D4E3",
             "linecolor": "#C8D4E3",
             "minorgridcolor": "#C8D4E3",
             "startlinecolor": "#2a3f5f"
            },
            "type": "carpet"
           }
          ],
          "choropleth": [
           {
            "colorbar": {
             "outlinewidth": 0,
             "ticks": ""
            },
            "type": "choropleth"
           }
          ],
          "contour": [
           {
            "colorbar": {
             "outlinewidth": 0,
             "ticks": ""
            },
            "colorscale": [
             [
              0,
              "#0d0887"
             ],
             [
              0.1111111111111111,
              "#46039f"
             ],
             [
              0.2222222222222222,
              "#7201a8"
             ],
             [
              0.3333333333333333,
              "#9c179e"
             ],
             [
              0.4444444444444444,
              "#bd3786"
             ],
             [
              0.5555555555555556,
              "#d8576b"
             ],
             [
              0.6666666666666666,
              "#ed7953"
             ],
             [
              0.7777777777777778,
              "#fb9f3a"
             ],
             [
              0.8888888888888888,
              "#fdca26"
             ],
             [
              1,
              "#f0f921"
             ]
            ],
            "type": "contour"
           }
          ],
          "contourcarpet": [
           {
            "colorbar": {
             "outlinewidth": 0,
             "ticks": ""
            },
            "type": "contourcarpet"
           }
          ],
          "heatmap": [
           {
            "colorbar": {
             "outlinewidth": 0,
             "ticks": ""
            },
            "colorscale": [
             [
              0,
              "#0d0887"
             ],
             [
              0.1111111111111111,
              "#46039f"
             ],
             [
              0.2222222222222222,
              "#7201a8"
             ],
             [
              0.3333333333333333,
              "#9c179e"
             ],
             [
              0.4444444444444444,
              "#bd3786"
             ],
             [
              0.5555555555555556,
              "#d8576b"
             ],
             [
              0.6666666666666666,
              "#ed7953"
             ],
             [
              0.7777777777777778,
              "#fb9f3a"
             ],
             [
              0.8888888888888888,
              "#fdca26"
             ],
             [
              1,
              "#f0f921"
             ]
            ],
            "type": "heatmap"
           }
          ],
          "histogram": [
           {
            "marker": {
             "pattern": {
              "fillmode": "overlay",
              "size": 10,
              "solidity": 0.2
             }
            },
            "type": "histogram"
           }
          ],
          "histogram2d": [
           {
            "colorbar": {
             "outlinewidth": 0,
             "ticks": ""
            },
            "colorscale": [
             [
              0,
              "#0d0887"
             ],
             [
              0.1111111111111111,
              "#46039f"
             ],
             [
              0.2222222222222222,
              "#7201a8"
             ],
             [
              0.3333333333333333,
              "#9c179e"
             ],
             [
              0.4444444444444444,
              "#bd3786"
             ],
             [
              0.5555555555555556,
              "#d8576b"
             ],
             [
              0.6666666666666666,
              "#ed7953"
             ],
             [
              0.7777777777777778,
              "#fb9f3a"
             ],
             [
              0.8888888888888888,
              "#fdca26"
             ],
             [
              1,
              "#f0f921"
             ]
            ],
            "type": "histogram2d"
           }
          ],
          "histogram2dcontour": [
           {
            "colorbar": {
             "outlinewidth": 0,
             "ticks": ""
            },
            "colorscale": [
             [
              0,
              "#0d0887"
             ],
             [
              0.1111111111111111,
              "#46039f"
             ],
             [
              0.2222222222222222,
              "#7201a8"
             ],
             [
              0.3333333333333333,
              "#9c179e"
             ],
             [
              0.4444444444444444,
              "#bd3786"
             ],
             [
              0.5555555555555556,
              "#d8576b"
             ],
             [
              0.6666666666666666,
              "#ed7953"
             ],
             [
              0.7777777777777778,
              "#fb9f3a"
             ],
             [
              0.8888888888888888,
              "#fdca26"
             ],
             [
              1,
              "#f0f921"
             ]
            ],
            "type": "histogram2dcontour"
           }
          ],
          "mesh3d": [
           {
            "colorbar": {
             "outlinewidth": 0,
             "ticks": ""
            },
            "type": "mesh3d"
           }
          ],
          "parcoords": [
           {
            "line": {
             "colorbar": {
              "outlinewidth": 0,
              "ticks": ""
             }
            },
            "type": "parcoords"
           }
          ],
          "pie": [
           {
            "automargin": true,
            "type": "pie"
           }
          ],
          "scatter": [
           {
            "fillpattern": {
             "fillmode": "overlay",
             "size": 10,
             "solidity": 0.2
            },
            "type": "scatter"
           }
          ],
          "scatter3d": [
           {
            "line": {
             "colorbar": {
              "outlinewidth": 0,
              "ticks": ""
             }
            },
            "marker": {
             "colorbar": {
              "outlinewidth": 0,
              "ticks": ""
             }
            },
            "type": "scatter3d"
           }
          ],
          "scattercarpet": [
           {
            "marker": {
             "colorbar": {
              "outlinewidth": 0,
              "ticks": ""
             }
            },
            "type": "scattercarpet"
           }
          ],
          "scattergeo": [
           {
            "marker": {
             "colorbar": {
              "outlinewidth": 0,
              "ticks": ""
             }
            },
            "type": "scattergeo"
           }
          ],
          "scattergl": [
           {
            "marker": {
             "colorbar": {
              "outlinewidth": 0,
              "ticks": ""
             }
            },
            "type": "scattergl"
           }
          ],
          "scattermap": [
           {
            "marker": {
             "colorbar": {
              "outlinewidth": 0,
              "ticks": ""
             }
            },
            "type": "scattermap"
           }
          ],
          "scattermapbox": [
           {
            "marker": {
             "colorbar": {
              "outlinewidth": 0,
              "ticks": ""
             }
            },
            "type": "scattermapbox"
           }
          ],
          "scatterpolar": [
           {
            "marker": {
             "colorbar": {
              "outlinewidth": 0,
              "ticks": ""
             }
            },
            "type": "scatterpolar"
           }
          ],
          "scatterpolargl": [
           {
            "marker": {
             "colorbar": {
              "outlinewidth": 0,
              "ticks": ""
             }
            },
            "type": "scatterpolargl"
           }
          ],
          "scatterternary": [
           {
            "marker": {
             "colorbar": {
              "outlinewidth": 0,
              "ticks": ""
             }
            },
            "type": "scatterternary"
           }
          ],
          "surface": [
           {
            "colorbar": {
             "outlinewidth": 0,
             "ticks": ""
            },
            "colorscale": [
             [
              0,
              "#0d0887"
             ],
             [
              0.1111111111111111,
              "#46039f"
             ],
             [
              0.2222222222222222,
              "#7201a8"
             ],
             [
              0.3333333333333333,
              "#9c179e"
             ],
             [
              0.4444444444444444,
              "#bd3786"
             ],
             [
              0.5555555555555556,
              "#d8576b"
             ],
             [
              0.6666666666666666,
              "#ed7953"
             ],
             [
              0.7777777777777778,
              "#fb9f3a"
             ],
             [
              0.8888888888888888,
              "#fdca26"
             ],
             [
              1,
              "#f0f921"
             ]
            ],
            "type": "surface"
           }
          ],
          "table": [
           {
            "cells": {
             "fill": {
              "color": "#EBF0F8"
             },
             "line": {
              "color": "white"
             }
            },
            "header": {
             "fill": {
              "color": "#C8D4E3"
             },
             "line": {
              "color": "white"
             }
            },
            "type": "table"
           }
          ]
         },
         "layout": {
          "annotationdefaults": {
           "arrowcolor": "#2a3f5f",
           "arrowhead": 0,
           "arrowwidth": 1
          },
          "autotypenumbers": "strict",
          "coloraxis": {
           "colorbar": {
            "outlinewidth": 0,
            "ticks": ""
           }
          },
          "colorscale": {
           "diverging": [
            [
             0,
             "#8e0152"
            ],
            [
             0.1,
             "#c51b7d"
            ],
            [
             0.2,
             "#de77ae"
            ],
            [
             0.3,
             "#f1b6da"
            ],
            [
             0.4,
             "#fde0ef"
            ],
            [
             0.5,
             "#f7f7f7"
            ],
            [
             0.6,
             "#e6f5d0"
            ],
            [
             0.7,
             "#b8e186"
            ],
            [
             0.8,
             "#7fbc41"
            ],
            [
             0.9,
             "#4d9221"
            ],
            [
             1,
             "#276419"
            ]
           ],
           "sequential": [
            [
             0,
             "#0d0887"
            ],
            [
             0.1111111111111111,
             "#46039f"
            ],
            [
             0.2222222222222222,
             "#7201a8"
            ],
            [
             0.3333333333333333,
             "#9c179e"
            ],
            [
             0.4444444444444444,
             "#bd3786"
            ],
            [
             0.5555555555555556,
             "#d8576b"
            ],
            [
             0.6666666666666666,
             "#ed7953"
            ],
            [
             0.7777777777777778,
             "#fb9f3a"
            ],
            [
             0.8888888888888888,
             "#fdca26"
            ],
            [
             1,
             "#f0f921"
            ]
           ],
           "sequentialminus": [
            [
             0,
             "#0d0887"
            ],
            [
             0.1111111111111111,
             "#46039f"
            ],
            [
             0.2222222222222222,
             "#7201a8"
            ],
            [
             0.3333333333333333,
             "#9c179e"
            ],
            [
             0.4444444444444444,
             "#bd3786"
            ],
            [
             0.5555555555555556,
             "#d8576b"
            ],
            [
             0.6666666666666666,
             "#ed7953"
            ],
            [
             0.7777777777777778,
             "#fb9f3a"
            ],
            [
             0.8888888888888888,
             "#fdca26"
            ],
            [
             1,
             "#f0f921"
            ]
           ]
          },
          "colorway": [
           "#636efa",
           "#EF553B",
           "#00cc96",
           "#ab63fa",
           "#FFA15A",
           "#19d3f3",
           "#FF6692",
           "#B6E880",
           "#FF97FF",
           "#FECB52"
          ],
          "font": {
           "color": "#2a3f5f"
          },
          "geo": {
           "bgcolor": "white",
           "lakecolor": "white",
           "landcolor": "white",
           "showlakes": true,
           "showland": true,
           "subunitcolor": "#C8D4E3"
          },
          "hoverlabel": {
           "align": "left"
          },
          "hovermode": "closest",
          "mapbox": {
           "style": "light"
          },
          "paper_bgcolor": "white",
          "plot_bgcolor": "white",
          "polar": {
           "angularaxis": {
            "gridcolor": "#EBF0F8",
            "linecolor": "#EBF0F8",
            "ticks": ""
           },
           "bgcolor": "white",
           "radialaxis": {
            "gridcolor": "#EBF0F8",
            "linecolor": "#EBF0F8",
            "ticks": ""
           }
          },
          "scene": {
           "xaxis": {
            "backgroundcolor": "white",
            "gridcolor": "#DFE8F3",
            "gridwidth": 2,
            "linecolor": "#EBF0F8",
            "showbackground": true,
            "ticks": "",
            "zerolinecolor": "#EBF0F8"
           },
           "yaxis": {
            "backgroundcolor": "white",
            "gridcolor": "#DFE8F3",
            "gridwidth": 2,
            "linecolor": "#EBF0F8",
            "showbackground": true,
            "ticks": "",
            "zerolinecolor": "#EBF0F8"
           },
           "zaxis": {
            "backgroundcolor": "white",
            "gridcolor": "#DFE8F3",
            "gridwidth": 2,
            "linecolor": "#EBF0F8",
            "showbackground": true,
            "ticks": "",
            "zerolinecolor": "#EBF0F8"
           }
          },
          "shapedefaults": {
           "line": {
            "color": "#2a3f5f"
           }
          },
          "ternary": {
           "aaxis": {
            "gridcolor": "#DFE8F3",
            "linecolor": "#A2B1C6",
            "ticks": ""
           },
           "baxis": {
            "gridcolor": "#DFE8F3",
            "linecolor": "#A2B1C6",
            "ticks": ""
           },
           "bgcolor": "white",
           "caxis": {
            "gridcolor": "#DFE8F3",
            "linecolor": "#A2B1C6",
            "ticks": ""
           }
          },
          "title": {
           "x": 0.05
          },
          "xaxis": {
           "automargin": true,
           "gridcolor": "#EBF0F8",
           "linecolor": "#EBF0F8",
           "ticks": "",
           "title": {
            "standoff": 15
           },
           "zerolinecolor": "#EBF0F8",
           "zerolinewidth": 2
          },
          "yaxis": {
           "automargin": true,
           "gridcolor": "#EBF0F8",
           "linecolor": "#EBF0F8",
           "ticks": "",
           "title": {
            "standoff": 15
           },
           "zerolinecolor": "#EBF0F8",
           "zerolinewidth": 2
          }
         }
        },
        "title": {
         "text": "Total transportation energy demand in ON by energy model",
         "x": 0.5,
         "xanchor": "center",
         "y": 0.95,
         "yanchor": "top"
        },
        "width": 900,
        "xaxis": {
         "anchor": "y",
         "domain": [
          0,
          1
         ],
         "title": {
          "text": ""
         }
        },
        "yaxis": {
         "anchor": "x",
         "domain": [
          0,
          1
         ],
         "title": {
          "standoff": 0,
          "text": "Demand (PJ)"
         }
        }
       }
      }
     },
     "metadata": {},
     "output_type": "display_data"
    }
   ],
   "source": [
    "bau23_fig = bau23_demand[(bau23_demand['Sector'] == 'Transportation') & (bau23_demand['Carrier'] == 'Total End-Use')].copy()\n",
    "ref_fig = ref_trnact[(ref_trnact['Mode'] == 'Fuel use') & (ref_trnact['Carrier'] != 'Other')].groupby('Period', as_index=False).sum('Demand (PJ)')\n",
    "vanilla_fig = vanilla_trnact[(vanilla_trnact['Mode'] == 'Fuel use') & (vanilla_trnact['Carrier'] != 'Other')].groupby('Period', as_index=False).sum('Demand (PJ)')\n",
    "gtech_fig = gtech23_ref_demand[gtech23_ref_demand['Sector'] == 'Transportation'].copy()\n",
    "\n",
    "bau23_fig['Source'] = 'CEF 2023 (ref)'\n",
    "ref_fig['Source'] = 'CANOE (ref)'\n",
    "vanilla_fig['Source'] = 'CANOE (vanilla)'\n",
    "gtech_fig['Source'] = 'gTech-IESD (ref)'\n",
    "\n",
    "fig_df = pd.concat([vanilla_fig[['Period', 'Demand (PJ)', 'Source']], ref_fig[['Period', 'Demand (PJ)', 'Source']], bau23_fig[['Period', 'Demand (PJ)', 'Source']], gtech_fig[['Period', 'Demand (PJ)', 'Source']]]).reset_index(drop=True)\n",
    "\n",
    "fig = px.line(fig_df, x='Period', y='Demand (PJ)', color='Source',\n",
    "              template='plotly_white',\n",
    "              width=900, height=500\n",
    "              )\n",
    "\n",
    "fig.update_traces(\n",
    "    line=dict(color=\"red\", dash='solid'),  # Change 'Source' to your specific source name\n",
    "    selector=dict(name='CANOE (ref)')  # Replace 'Source A' with the actual name\n",
    ")\n",
    "fig.update_traces(\n",
    "    line=dict(color=\"red\", dash='dash'),  # Change 'Source' to your specific source name\n",
    "    selector=dict(name='CANOE (vanilla)')  # Replace 'Source A' with the actual name\n",
    ")\n",
    "\n",
    "fig.update_layout(\n",
    "    title=dict(text='Total transportation energy demand in ON by energy model',\n",
    "               x=0.5,\n",
    "               y=0.95,\n",
    "               xanchor='center',\n",
    "               yanchor='top'\n",
    "               ),\n",
    "    xaxis=dict(title='Period'),\n",
    "    yaxis=dict(title='Demand (PJ)'),\n",
    "    yaxis_title_standoff=0,\n",
    "    legend_title_text='',\n",
    "    bargap=0.1,\n",
    "    legend=dict(orientation='h',\n",
    "                yanchor='bottom',\n",
    "                y=-0.16,\n",
    "                xanchor='center',\n",
    "                x=0.5),\n",
    "    font=dict(size=14,\n",
    "              # family=\"Open Sans\"\n",
    "              ))\n",
    "\n",
    "for annotation in fig.layout.annotations:\n",
    "    annotation.text = annotation.text.split('=')[1]\n",
    "    annotation.y = -0.05  \n",
    "    annotation.yanchor = 'top' \n",
    "\n",
    "for axis in fig.layout:\n",
    "    if axis.startswith('xaxis'):\n",
    "        fig.layout[axis].title.text = ''\n",
    "\n",
    "fig.show()"
   ]
  },
  {
   "cell_type": "markdown",
   "metadata": {},
   "source": [
    "# CANOE - transportation vehicle capacity"
   ]
  },
  {
   "cell_type": "code",
   "execution_count": 18,
   "metadata": {},
   "outputs": [],
   "source": [
    "ref_trncap.columns = ref_trncap.columns.astype(str)\n",
    "vanilla_trncap.columns = vanilla_trncap.columns.astype(str)\n",
    "\n",
    "periods = [col for col in ref_trncap.columns if col.isdigit()]\n",
    "params = [col for col in ref_trncap.columns if not col.isdigit()]\n",
    "\n",
    "ref_trncap = pd.melt(ref_trncap, id_vars=params, var_name='Period', value_name='Capacity (M units)', value_vars=periods)\n",
    "ref_trncap['Capacity (M units)'] = ref_trncap['Capacity (M units)']/1E3\n",
    "\n",
    "vanilla_trncap = pd.melt(vanilla_trncap, id_vars=params, var_name='Period', value_name='Capacity (M units)', value_vars=periods)\n",
    "vanilla_trncap['Capacity (M units)'] = vanilla_trncap['Capacity (M units)']/1E3"
   ]
  },
  {
   "cell_type": "code",
   "execution_count": 19,
   "metadata": {},
   "outputs": [],
   "source": [
    "def veh_class_mapping(veh_class):\n",
    "    if veh_class == 'Air jet':\n",
    "        return 'Other'\n",
    "    if veh_class == 'Rail':\n",
    "        return 'Other'\n",
    "    if veh_class == 'Marine vessel':\n",
    "        return 'Other'\n",
    "    if veh_class == 'Motorcycle':\n",
    "        return 'Other'\n",
    "    if veh_class == 'Fuel use':\n",
    "        return 'Other'\n",
    "    else: return veh_class\n",
    "    \n",
    "ref_trncap['Vehicle Class'] = ref_trncap['Mode'].apply(veh_class_mapping)\n",
    "vanilla_trncap['Vehicle Class'] = vanilla_trncap['Mode'].apply(veh_class_mapping)\n",
    "\n",
    "drivetrain_order = ['Gasoline', 'Diesel', 'CNG', 'HEV', 'PHEV', 'BEV', 'FCEV']"
   ]
  },
  {
   "cell_type": "code",
   "execution_count": 20,
   "metadata": {},
   "outputs": [
    {
     "data": {
      "application/vnd.plotly.v1+json": {
       "config": {
        "plotlyServerURL": "https://plot.ly"
       },
       "data": [
        {
         "hovertemplate": "Carrier=Gasoline<br>Period=2021<br>Source=%{x}<br>Capacity (M units)=%{y}<extra></extra>",
         "legendgroup": "Gasoline",
         "marker": {
          "color": "#3366CC",
          "pattern": {
           "shape": ""
          }
         },
         "name": "Gasoline",
         "orientation": "v",
         "showlegend": true,
         "textfont": {
          "size": 9
         },
         "textposition": "auto",
         "texttemplate": "%{y:.2f}",
         "type": "bar",
         "x": [
          "CANOE (AEO)",
          "CANOE (ref)"
         ],
         "xaxis": "x",
         "y": {
          "bdata": "O20nDXf7IUAD6XI8d/shQA==",
          "dtype": "f8"
         },
         "yaxis": "y"
        },
        {
         "hovertemplate": "Carrier=Gasoline<br>Period=2025<br>Source=%{x}<br>Capacity (M units)=%{y}<extra></extra>",
         "legendgroup": "Gasoline",
         "marker": {
          "color": "#3366CC",
          "pattern": {
           "shape": ""
          }
         },
         "name": "Gasoline",
         "orientation": "v",
         "showlegend": false,
         "textfont": {
          "size": 9
         },
         "textposition": "auto",
         "texttemplate": "%{y:.2f}",
         "type": "bar",
         "x": [
          "CANOE (AEO)",
          "CANOE (ref)"
         ],
         "xaxis": "x2",
         "y": {
          "bdata": "lKqgor8OIkDZhG6He/8hQA==",
          "dtype": "f8"
         },
         "yaxis": "y2"
        },
        {
         "hovertemplate": "Carrier=Gasoline<br>Period=2030<br>Source=%{x}<br>Capacity (M units)=%{y}<extra></extra>",
         "legendgroup": "Gasoline",
         "marker": {
          "color": "#3366CC",
          "pattern": {
           "shape": ""
          }
         },
         "name": "Gasoline",
         "orientation": "v",
         "showlegend": false,
         "textfont": {
          "size": 9
         },
         "textposition": "auto",
         "texttemplate": "%{y:.2f}",
         "type": "bar",
         "x": [
          "CANOE (AEO)",
          "CANOE (ref)"
         ],
         "xaxis": "x3",
         "y": {
          "bdata": "vEHzJgTCH0C2xaAUKsEfQA==",
          "dtype": "f8"
         },
         "yaxis": "y3"
        },
        {
         "hovertemplate": "Carrier=Gasoline<br>Period=2035<br>Source=%{x}<br>Capacity (M units)=%{y}<extra></extra>",
         "legendgroup": "Gasoline",
         "marker": {
          "color": "#3366CC",
          "pattern": {
           "shape": ""
          }
         },
         "name": "Gasoline",
         "orientation": "v",
         "showlegend": false,
         "textfont": {
          "size": 9
         },
         "textposition": "auto",
         "texttemplate": "%{y:.2f}",
         "type": "bar",
         "x": [
          "CANOE (AEO)",
          "CANOE (ref)"
         ],
         "xaxis": "x4",
         "y": {
          "bdata": "+pN7YEnnHEDy7ndCl+EcQA==",
          "dtype": "f8"
         },
         "yaxis": "y4"
        },
        {
         "hovertemplate": "Carrier=Gasoline<br>Period=2040<br>Source=%{x}<br>Capacity (M units)=%{y}<extra></extra>",
         "legendgroup": "Gasoline",
         "marker": {
          "color": "#3366CC",
          "pattern": {
           "shape": ""
          }
         },
         "name": "Gasoline",
         "orientation": "v",
         "showlegend": false,
         "textfont": {
          "size": 9
         },
         "textposition": "auto",
         "texttemplate": "%{y:.2f}",
         "type": "bar",
         "x": [
          "CANOE (AEO)",
          "CANOE (ref)"
         ],
         "xaxis": "x5",
         "y": {
          "bdata": "Lkpljp+XFECaOuMQr5sUQA==",
          "dtype": "f8"
         },
         "yaxis": "y5"
        },
        {
         "hovertemplate": "Carrier=Gasoline<br>Period=2045<br>Source=%{x}<br>Capacity (M units)=%{y}<extra></extra>",
         "legendgroup": "Gasoline",
         "marker": {
          "color": "#3366CC",
          "pattern": {
           "shape": ""
          }
         },
         "name": "Gasoline",
         "orientation": "v",
         "showlegend": false,
         "textfont": {
          "size": 9
         },
         "textposition": "auto",
         "texttemplate": "%{y:.2f}",
         "type": "bar",
         "x": [
          "CANOE (AEO)",
          "CANOE (ref)"
         ],
         "xaxis": "x6",
         "y": {
          "bdata": "7MQheJLeE0DyN/97Y94TQA==",
          "dtype": "f8"
         },
         "yaxis": "y6"
        },
        {
         "hovertemplate": "Carrier=Gasoline<br>Period=2050<br>Source=%{x}<br>Capacity (M units)=%{y}<extra></extra>",
         "legendgroup": "Gasoline",
         "marker": {
          "color": "#3366CC",
          "pattern": {
           "shape": ""
          }
         },
         "name": "Gasoline",
         "orientation": "v",
         "showlegend": false,
         "textfont": {
          "size": 9
         },
         "textposition": "auto",
         "texttemplate": "%{y:.2f}",
         "type": "bar",
         "x": [
          "CANOE (AEO)",
          "CANOE (ref)"
         ],
         "xaxis": "x7",
         "y": {
          "bdata": "BjNGxtZQFECWlfjCGk4UQA==",
          "dtype": "f8"
         },
         "yaxis": "y7"
        },
        {
         "hovertemplate": "Carrier=Diesel<br>Period=2021<br>Source=%{x}<br>Capacity (M units)=%{y}<extra></extra>",
         "legendgroup": "Diesel",
         "marker": {
          "color": "#DC3912",
          "pattern": {
           "shape": ""
          }
         },
         "name": "Diesel",
         "orientation": "v",
         "showlegend": true,
         "textfont": {
          "size": 9
         },
         "textposition": "auto",
         "texttemplate": "%{y:.2f}",
         "type": "bar",
         "x": [
          "CANOE (AEO)",
          "CANOE (ref)"
         ],
         "xaxis": "x",
         "y": {
          "bdata": "yc2m7Z2P1T89Qyhzno/VPw==",
          "dtype": "f8"
         },
         "yaxis": "y"
        },
        {
         "hovertemplate": "Carrier=Diesel<br>Period=2025<br>Source=%{x}<br>Capacity (M units)=%{y}<extra></extra>",
         "legendgroup": "Diesel",
         "marker": {
          "color": "#DC3912",
          "pattern": {
           "shape": ""
          }
         },
         "name": "Diesel",
         "orientation": "v",
         "showlegend": false,
         "textfont": {
          "size": 9
         },
         "textposition": "auto",
         "texttemplate": "%{y:.2f}",
         "type": "bar",
         "x": [
          "CANOE (AEO)",
          "CANOE (ref)"
         ],
         "xaxis": "x2",
         "y": {
          "bdata": "aSXOitO+1D8djuHaJH3UPw==",
          "dtype": "f8"
         },
         "yaxis": "y2"
        },
        {
         "hovertemplate": "Carrier=Diesel<br>Period=2030<br>Source=%{x}<br>Capacity (M units)=%{y}<extra></extra>",
         "legendgroup": "Diesel",
         "marker": {
          "color": "#DC3912",
          "pattern": {
           "shape": ""
          }
         },
         "name": "Diesel",
         "orientation": "v",
         "showlegend": false,
         "textfont": {
          "size": 9
         },
         "textposition": "auto",
         "texttemplate": "%{y:.2f}",
         "type": "bar",
         "x": [
          "CANOE (AEO)",
          "CANOE (ref)"
         ],
         "xaxis": "x3",
         "y": {
          "bdata": "KFIW/NfI0j8to5f8aIvSPw==",
          "dtype": "f8"
         },
         "yaxis": "y3"
        },
        {
         "hovertemplate": "Carrier=Diesel<br>Period=2035<br>Source=%{x}<br>Capacity (M units)=%{y}<extra></extra>",
         "legendgroup": "Diesel",
         "marker": {
          "color": "#DC3912",
          "pattern": {
           "shape": ""
          }
         },
         "name": "Diesel",
         "orientation": "v",
         "showlegend": false,
         "textfont": {
          "size": 9
         },
         "textposition": "auto",
         "texttemplate": "%{y:.2f}",
         "type": "bar",
         "x": [
          "CANOE (AEO)",
          "CANOE (ref)"
         ],
         "xaxis": "x4",
         "y": {
          "bdata": "NS9WpT701D/2sUek27XUPw==",
          "dtype": "f8"
         },
         "yaxis": "y4"
        },
        {
         "hovertemplate": "Carrier=Diesel<br>Period=2040<br>Source=%{x}<br>Capacity (M units)=%{y}<extra></extra>",
         "legendgroup": "Diesel",
         "marker": {
          "color": "#DC3912",
          "pattern": {
           "shape": ""
          }
         },
         "name": "Diesel",
         "orientation": "v",
         "showlegend": false,
         "textfont": {
          "size": 9
         },
         "textposition": "auto",
         "texttemplate": "%{y:.2f}",
         "type": "bar",
         "x": [
          "CANOE (AEO)",
          "CANOE (ref)"
         ],
         "xaxis": "x5",
         "y": {
          "bdata": "fZzxBXFpzj/eshL7d1zOPw==",
          "dtype": "f8"
         },
         "yaxis": "y5"
        },
        {
         "hovertemplate": "Carrier=Diesel<br>Period=2045<br>Source=%{x}<br>Capacity (M units)=%{y}<extra></extra>",
         "legendgroup": "Diesel",
         "marker": {
          "color": "#DC3912",
          "pattern": {
           "shape": ""
          }
         },
         "name": "Diesel",
         "orientation": "v",
         "showlegend": false,
         "textfont": {
          "size": 9
         },
         "textposition": "auto",
         "texttemplate": "%{y:.2f}",
         "type": "bar",
         "x": [
          "CANOE (AEO)",
          "CANOE (ref)"
         ],
         "xaxis": "x6",
         "y": {
          "bdata": "/p6A3vaJzj+cFSQlt5DOPw==",
          "dtype": "f8"
         },
         "yaxis": "y6"
        },
        {
         "hovertemplate": "Carrier=Diesel<br>Period=2050<br>Source=%{x}<br>Capacity (M units)=%{y}<extra></extra>",
         "legendgroup": "Diesel",
         "marker": {
          "color": "#DC3912",
          "pattern": {
           "shape": ""
          }
         },
         "name": "Diesel",
         "orientation": "v",
         "showlegend": false,
         "textfont": {
          "size": 9
         },
         "textposition": "auto",
         "texttemplate": "%{y:.2f}",
         "type": "bar",
         "x": [
          "CANOE (AEO)",
          "CANOE (ref)"
         ],
         "xaxis": "x7",
         "y": {
          "bdata": "6oCt26cP0T/h0R4Wqw/RPw==",
          "dtype": "f8"
         },
         "yaxis": "y7"
        },
        {
         "hovertemplate": "Carrier=CNG<br>Period=2021<br>Source=%{x}<br>Capacity (M units)=%{y}<extra></extra>",
         "legendgroup": "CNG",
         "marker": {
          "color": "#FF9900",
          "pattern": {
           "shape": ""
          }
         },
         "name": "CNG",
         "orientation": "v",
         "showlegend": true,
         "textfont": {
          "size": 9
         },
         "textposition": "auto",
         "texttemplate": "%{y:.2f}",
         "type": "bar",
         "x": [
          "CANOE (AEO)",
          "CANOE (ref)"
         ],
         "xaxis": "x",
         "y": {
          "bdata": "AAAAAAAAAAAAAAAAAAAAAA==",
          "dtype": "f8"
         },
         "yaxis": "y"
        },
        {
         "hovertemplate": "Carrier=CNG<br>Period=2025<br>Source=%{x}<br>Capacity (M units)=%{y}<extra></extra>",
         "legendgroup": "CNG",
         "marker": {
          "color": "#FF9900",
          "pattern": {
           "shape": ""
          }
         },
         "name": "CNG",
         "orientation": "v",
         "showlegend": false,
         "textfont": {
          "size": 9
         },
         "textposition": "auto",
         "texttemplate": "%{y:.2f}",
         "type": "bar",
         "x": [
          "CANOE (AEO)",
          "CANOE (ref)"
         ],
         "xaxis": "x2",
         "y": {
          "bdata": "gVd3mUOEwD4G6Eia7UngPg==",
          "dtype": "f8"
         },
         "yaxis": "y2"
        },
        {
         "hovertemplate": "Carrier=CNG<br>Period=2030<br>Source=%{x}<br>Capacity (M units)=%{y}<extra></extra>",
         "legendgroup": "CNG",
         "marker": {
          "color": "#FF9900",
          "pattern": {
           "shape": ""
          }
         },
         "name": "CNG",
         "orientation": "v",
         "showlegend": false,
         "textfont": {
          "size": 9
         },
         "textposition": "auto",
         "texttemplate": "%{y:.2f}",
         "type": "bar",
         "x": [
          "CANOE (AEO)",
          "CANOE (ref)"
         ],
         "xaxis": "x3",
         "y": {
          "bdata": "exnQEdsgzz4C2NY/3WPxPg==",
          "dtype": "f8"
         },
         "yaxis": "y3"
        },
        {
         "hovertemplate": "Carrier=CNG<br>Period=2035<br>Source=%{x}<br>Capacity (M units)=%{y}<extra></extra>",
         "legendgroup": "CNG",
         "marker": {
          "color": "#FF9900",
          "pattern": {
           "shape": ""
          }
         },
         "name": "CNG",
         "orientation": "v",
         "showlegend": false,
         "textfont": {
          "size": 9
         },
         "textposition": "auto",
         "texttemplate": "%{y:.2f}",
         "type": "bar",
         "x": [
          "CANOE (AEO)",
          "CANOE (ref)"
         ],
         "xaxis": "x4",
         "y": {
          "bdata": "oEvVoon31z6qx8jrtk/7Pg==",
          "dtype": "f8"
         },
         "yaxis": "y4"
        },
        {
         "hovertemplate": "Carrier=CNG<br>Period=2040<br>Source=%{x}<br>Capacity (M units)=%{y}<extra></extra>",
         "legendgroup": "CNG",
         "marker": {
          "color": "#FF9900",
          "pattern": {
           "shape": ""
          }
         },
         "name": "CNG",
         "orientation": "v",
         "showlegend": false,
         "textfont": {
          "size": 9
         },
         "textposition": "auto",
         "texttemplate": "%{y:.2f}",
         "type": "bar",
         "x": [
          "CANOE (AEO)",
          "CANOE (ref)"
         ],
         "xaxis": "x5",
         "y": {
          "bdata": "hohCa+se2z7gU9kg4q8APw==",
          "dtype": "f8"
         },
         "yaxis": "y5"
        },
        {
         "hovertemplate": "Carrier=CNG<br>Period=2045<br>Source=%{x}<br>Capacity (M units)=%{y}<extra></extra>",
         "legendgroup": "CNG",
         "marker": {
          "color": "#FF9900",
          "pattern": {
           "shape": ""
          }
         },
         "name": "CNG",
         "orientation": "v",
         "showlegend": false,
         "textfont": {
          "size": 9
         },
         "textposition": "auto",
         "texttemplate": "%{y:.2f}",
         "type": "bar",
         "x": [
          "CANOE (AEO)",
          "CANOE (ref)"
         ],
         "xaxis": "x6",
         "y": {
          "bdata": "p9hoqaO73D5IHQNl7+QAPw==",
          "dtype": "f8"
         },
         "yaxis": "y6"
        },
        {
         "hovertemplate": "Carrier=CNG<br>Period=2050<br>Source=%{x}<br>Capacity (M units)=%{y}<extra></extra>",
         "legendgroup": "CNG",
         "marker": {
          "color": "#FF9900",
          "pattern": {
           "shape": ""
          }
         },
         "name": "CNG",
         "orientation": "v",
         "showlegend": false,
         "textfont": {
          "size": 9
         },
         "textposition": "auto",
         "texttemplate": "%{y:.2f}",
         "type": "bar",
         "x": [
          "CANOE (AEO)",
          "CANOE (ref)"
         ],
         "xaxis": "x7",
         "y": {
          "bdata": "1jO4D+2h3D6+n6ULBAkAPw==",
          "dtype": "f8"
         },
         "yaxis": "y7"
        },
        {
         "hovertemplate": "Carrier=HEV<br>Period=2021<br>Source=%{x}<br>Capacity (M units)=%{y}<extra></extra>",
         "legendgroup": "HEV",
         "marker": {
          "color": "#109618",
          "pattern": {
           "shape": ""
          }
         },
         "name": "HEV",
         "orientation": "v",
         "showlegend": true,
         "textfont": {
          "size": 9
         },
         "textposition": "auto",
         "texttemplate": "%{y:.2f}",
         "type": "bar",
         "x": [
          "CANOE (AEO)",
          "CANOE (ref)"
         ],
         "xaxis": "x",
         "y": {
          "bdata": "tShlE7LGxD8zPeCCX3rEPw==",
          "dtype": "f8"
         },
         "yaxis": "y"
        },
        {
         "hovertemplate": "Carrier=HEV<br>Period=2025<br>Source=%{x}<br>Capacity (M units)=%{y}<extra></extra>",
         "legendgroup": "HEV",
         "marker": {
          "color": "#109618",
          "pattern": {
           "shape": ""
          }
         },
         "name": "HEV",
         "orientation": "v",
         "showlegend": false,
         "textfont": {
          "size": 9
         },
         "textposition": "auto",
         "texttemplate": "%{y:.2f}",
         "type": "bar",
         "x": [
          "CANOE (AEO)",
          "CANOE (ref)"
         ],
         "xaxis": "x2",
         "y": {
          "bdata": "dRiGXQsW2D+mQYp45JjXPw==",
          "dtype": "f8"
         },
         "yaxis": "y2"
        },
        {
         "hovertemplate": "Carrier=HEV<br>Period=2030<br>Source=%{x}<br>Capacity (M units)=%{y}<extra></extra>",
         "legendgroup": "HEV",
         "marker": {
          "color": "#109618",
          "pattern": {
           "shape": ""
          }
         },
         "name": "HEV",
         "orientation": "v",
         "showlegend": false,
         "textfont": {
          "size": 9
         },
         "textposition": "auto",
         "texttemplate": "%{y:.2f}",
         "type": "bar",
         "x": [
          "CANOE (AEO)",
          "CANOE (ref)"
         ],
         "xaxis": "x3",
         "y": {
          "bdata": "usPecRqw6D9fzX9CVmPmPw==",
          "dtype": "f8"
         },
         "yaxis": "y3"
        },
        {
         "hovertemplate": "Carrier=HEV<br>Period=2035<br>Source=%{x}<br>Capacity (M units)=%{y}<extra></extra>",
         "legendgroup": "HEV",
         "marker": {
          "color": "#109618",
          "pattern": {
           "shape": ""
          }
         },
         "name": "HEV",
         "orientation": "v",
         "showlegend": false,
         "textfont": {
          "size": 9
         },
         "textposition": "auto",
         "texttemplate": "%{y:.2f}",
         "type": "bar",
         "x": [
          "CANOE (AEO)",
          "CANOE (ref)"
         ],
         "xaxis": "x4",
         "y": {
          "bdata": "nrVOxT+F9D/p++OwGVbzPw==",
          "dtype": "f8"
         },
         "yaxis": "y4"
        },
        {
         "hovertemplate": "Carrier=HEV<br>Period=2040<br>Source=%{x}<br>Capacity (M units)=%{y}<extra></extra>",
         "legendgroup": "HEV",
         "marker": {
          "color": "#109618",
          "pattern": {
           "shape": ""
          }
         },
         "name": "HEV",
         "orientation": "v",
         "showlegend": false,
         "textfont": {
          "size": 9
         },
         "textposition": "auto",
         "texttemplate": "%{y:.2f}",
         "type": "bar",
         "x": [
          "CANOE (AEO)",
          "CANOE (ref)"
         ],
         "xaxis": "x5",
         "y": {
          "bdata": "czDO82Lc+z/gqdLqQYT3Pw==",
          "dtype": "f8"
         },
         "yaxis": "y5"
        },
        {
         "hovertemplate": "Carrier=HEV<br>Period=2045<br>Source=%{x}<br>Capacity (M units)=%{y}<extra></extra>",
         "legendgroup": "HEV",
         "marker": {
          "color": "#109618",
          "pattern": {
           "shape": ""
          }
         },
         "name": "HEV",
         "orientation": "v",
         "showlegend": false,
         "textfont": {
          "size": 9
         },
         "textposition": "auto",
         "texttemplate": "%{y:.2f}",
         "type": "bar",
         "x": [
          "CANOE (AEO)",
          "CANOE (ref)"
         ],
         "xaxis": "x6",
         "y": {
          "bdata": "Cx24XNVSAkChlAXc8P/8Pw==",
          "dtype": "f8"
         },
         "yaxis": "y6"
        },
        {
         "hovertemplate": "Carrier=HEV<br>Period=2050<br>Source=%{x}<br>Capacity (M units)=%{y}<extra></extra>",
         "legendgroup": "HEV",
         "marker": {
          "color": "#109618",
          "pattern": {
           "shape": ""
          }
         },
         "name": "HEV",
         "orientation": "v",
         "showlegend": false,
         "textfont": {
          "size": 9
         },
         "textposition": "auto",
         "texttemplate": "%{y:.2f}",
         "type": "bar",
         "x": [
          "CANOE (AEO)",
          "CANOE (ref)"
         ],
         "xaxis": "x7",
         "y": {
          "bdata": "5Ihc6ESbCUDN77wKwpoBQA==",
          "dtype": "f8"
         },
         "yaxis": "y7"
        },
        {
         "hovertemplate": "Carrier=PHEV<br>Period=2021<br>Source=%{x}<br>Capacity (M units)=%{y}<extra></extra>",
         "legendgroup": "PHEV",
         "marker": {
          "color": "#990099",
          "pattern": {
           "shape": ""
          }
         },
         "name": "PHEV",
         "orientation": "v",
         "showlegend": true,
         "textfont": {
          "size": 9
         },
         "textposition": "auto",
         "texttemplate": "%{y:.2f}",
         "type": "bar",
         "x": [
          "CANOE (AEO)",
          "CANOE (ref)"
         ],
         "xaxis": "x",
         "y": {
          "bdata": "TGEnQmrGrD81YGOLFQSiPw==",
          "dtype": "f8"
         },
         "yaxis": "y"
        },
        {
         "hovertemplate": "Carrier=PHEV<br>Period=2025<br>Source=%{x}<br>Capacity (M units)=%{y}<extra></extra>",
         "legendgroup": "PHEV",
         "marker": {
          "color": "#990099",
          "pattern": {
           "shape": ""
          }
         },
         "name": "PHEV",
         "orientation": "v",
         "showlegend": false,
         "textfont": {
          "size": 9
         },
         "textposition": "auto",
         "texttemplate": "%{y:.2f}",
         "type": "bar",
         "x": [
          "CANOE (AEO)",
          "CANOE (ref)"
         ],
         "xaxis": "x2",
         "y": {
          "bdata": "VUYRAWjfzj+Ns3jlSLywPw==",
          "dtype": "f8"
         },
         "yaxis": "y2"
        },
        {
         "hovertemplate": "Carrier=PHEV<br>Period=2030<br>Source=%{x}<br>Capacity (M units)=%{y}<extra></extra>",
         "legendgroup": "PHEV",
         "marker": {
          "color": "#990099",
          "pattern": {
           "shape": ""
          }
         },
         "name": "PHEV",
         "orientation": "v",
         "showlegend": false,
         "textfont": {
          "size": 9
         },
         "textposition": "auto",
         "texttemplate": "%{y:.2f}",
         "type": "bar",
         "x": [
          "CANOE (AEO)",
          "CANOE (ref)"
         ],
         "xaxis": "x3",
         "y": {
          "bdata": "tL0MgK8D5j9owYcd+kW/Pw==",
          "dtype": "f8"
         },
         "yaxis": "y3"
        },
        {
         "hovertemplate": "Carrier=PHEV<br>Period=2035<br>Source=%{x}<br>Capacity (M units)=%{y}<extra></extra>",
         "legendgroup": "PHEV",
         "marker": {
          "color": "#990099",
          "pattern": {
           "shape": ""
          }
         },
         "name": "PHEV",
         "orientation": "v",
         "showlegend": false,
         "textfont": {
          "size": 9
         },
         "textposition": "auto",
         "texttemplate": "%{y:.2f}",
         "type": "bar",
         "x": [
          "CANOE (AEO)",
          "CANOE (ref)"
         ],
         "xaxis": "x4",
         "y": {
          "bdata": "CMDasx06+z/lRd4Ax7HPPw==",
          "dtype": "f8"
         },
         "yaxis": "y4"
        },
        {
         "hovertemplate": "Carrier=PHEV<br>Period=2040<br>Source=%{x}<br>Capacity (M units)=%{y}<extra></extra>",
         "legendgroup": "PHEV",
         "marker": {
          "color": "#990099",
          "pattern": {
           "shape": ""
          }
         },
         "name": "PHEV",
         "orientation": "v",
         "showlegend": false,
         "textfont": {
          "size": 9
         },
         "textposition": "auto",
         "texttemplate": "%{y:.2f}",
         "type": "bar",
         "x": [
          "CANOE (AEO)",
          "CANOE (ref)"
         ],
         "xaxis": "x5",
         "y": {
          "bdata": "RffZQPYnA0D0xs3kzBbXPw==",
          "dtype": "f8"
         },
         "yaxis": "y5"
        },
        {
         "hovertemplate": "Carrier=PHEV<br>Period=2045<br>Source=%{x}<br>Capacity (M units)=%{y}<extra></extra>",
         "legendgroup": "PHEV",
         "marker": {
          "color": "#990099",
          "pattern": {
           "shape": ""
          }
         },
         "name": "PHEV",
         "orientation": "v",
         "showlegend": false,
         "textfont": {
          "size": 9
         },
         "textposition": "auto",
         "texttemplate": "%{y:.2f}",
         "type": "bar",
         "x": [
          "CANOE (AEO)",
          "CANOE (ref)"
         ],
         "xaxis": "x6",
         "y": {
          "bdata": "6s6Y4427B0C9poLREivgPw==",
          "dtype": "f8"
         },
         "yaxis": "y6"
        },
        {
         "hovertemplate": "Carrier=PHEV<br>Period=2050<br>Source=%{x}<br>Capacity (M units)=%{y}<extra></extra>",
         "legendgroup": "PHEV",
         "marker": {
          "color": "#990099",
          "pattern": {
           "shape": ""
          }
         },
         "name": "PHEV",
         "orientation": "v",
         "showlegend": false,
         "textfont": {
          "size": 9
         },
         "textposition": "auto",
         "texttemplate": "%{y:.2f}",
         "type": "bar",
         "x": [
          "CANOE (AEO)",
          "CANOE (ref)"
         ],
         "xaxis": "x7",
         "y": {
          "bdata": "hQAQrWElDEAHi+G03jPoPw==",
          "dtype": "f8"
         },
         "yaxis": "y7"
        },
        {
         "hovertemplate": "Carrier=BEV<br>Period=2021<br>Source=%{x}<br>Capacity (M units)=%{y}<extra></extra>",
         "legendgroup": "BEV",
         "marker": {
          "color": "#0099C6",
          "pattern": {
           "shape": ""
          }
         },
         "name": "BEV",
         "orientation": "v",
         "showlegend": true,
         "textfont": {
          "size": 9
         },
         "textposition": "auto",
         "texttemplate": "%{y:.2f}",
         "type": "bar",
         "x": [
          "CANOE (AEO)",
          "CANOE (ref)"
         ],
         "xaxis": "x",
         "y": {
          "bdata": "kgUxfsGSrT93Yp+3M8O0Pw==",
          "dtype": "f8"
         },
         "yaxis": "y"
        },
        {
         "hovertemplate": "Carrier=BEV<br>Period=2025<br>Source=%{x}<br>Capacity (M units)=%{y}<extra></extra>",
         "legendgroup": "BEV",
         "marker": {
          "color": "#0099C6",
          "pattern": {
           "shape": ""
          }
         },
         "name": "BEV",
         "orientation": "v",
         "showlegend": false,
         "textfont": {
          "size": 9
         },
         "textposition": "auto",
         "texttemplate": "%{y:.2f}",
         "type": "bar",
         "x": [
          "CANOE (AEO)",
          "CANOE (ref)"
         ],
         "xaxis": "x2",
         "y": {
          "bdata": "U/FTtkB+0j8SPM/GBzPgPw==",
          "dtype": "f8"
         },
         "yaxis": "y2"
        },
        {
         "hovertemplate": "Carrier=BEV<br>Period=2030<br>Source=%{x}<br>Capacity (M units)=%{y}<extra></extra>",
         "legendgroup": "BEV",
         "marker": {
          "color": "#0099C6",
          "pattern": {
           "shape": ""
          }
         },
         "name": "BEV",
         "orientation": "v",
         "showlegend": false,
         "textfont": {
          "size": 9
         },
         "textposition": "auto",
         "texttemplate": "%{y:.2f}",
         "type": "bar",
         "x": [
          "CANOE (AEO)",
          "CANOE (ref)"
         ],
         "xaxis": "x3",
         "y": {
          "bdata": "RaagvEo16z9J0IiHJuH3Pw==",
          "dtype": "f8"
         },
         "yaxis": "y3"
        },
        {
         "hovertemplate": "Carrier=BEV<br>Period=2035<br>Source=%{x}<br>Capacity (M units)=%{y}<extra></extra>",
         "legendgroup": "BEV",
         "marker": {
          "color": "#0099C6",
          "pattern": {
           "shape": ""
          }
         },
         "name": "BEV",
         "orientation": "v",
         "showlegend": false,
         "textfont": {
          "size": 9
         },
         "textposition": "auto",
         "texttemplate": "%{y:.2f}",
         "type": "bar",
         "x": [
          "CANOE (AEO)",
          "CANOE (ref)"
         ],
         "xaxis": "x4",
         "y": {
          "bdata": "WdAgYn8k+j8DZa/K3l4JQA==",
          "dtype": "f8"
         },
         "yaxis": "y4"
        },
        {
         "hovertemplate": "Carrier=BEV<br>Period=2040<br>Source=%{x}<br>Capacity (M units)=%{y}<extra></extra>",
         "legendgroup": "BEV",
         "marker": {
          "color": "#0099C6",
          "pattern": {
           "shape": ""
          }
         },
         "name": "BEV",
         "orientation": "v",
         "showlegend": false,
         "textfont": {
          "size": 9
         },
         "textposition": "auto",
         "texttemplate": "%{y:.2f}",
         "type": "bar",
         "x": [
          "CANOE (AEO)",
          "CANOE (ref)"
         ],
         "xaxis": "x5",
         "y": {
          "bdata": "qnJ4m929AECqwkbfzpMRQA==",
          "dtype": "f8"
         },
         "yaxis": "y5"
        },
        {
         "hovertemplate": "Carrier=BEV<br>Period=2045<br>Source=%{x}<br>Capacity (M units)=%{y}<extra></extra>",
         "legendgroup": "BEV",
         "marker": {
          "color": "#0099C6",
          "pattern": {
           "shape": ""
          }
         },
         "name": "BEV",
         "orientation": "v",
         "showlegend": false,
         "textfont": {
          "size": 9
         },
         "textposition": "auto",
         "texttemplate": "%{y:.2f}",
         "type": "bar",
         "x": [
          "CANOE (AEO)",
          "CANOE (ref)"
         ],
         "xaxis": "x6",
         "y": {
          "bdata": "pvjPhc4jBEAwg7cppdMVQA==",
          "dtype": "f8"
         },
         "yaxis": "y6"
        },
        {
         "hovertemplate": "Carrier=BEV<br>Period=2050<br>Source=%{x}<br>Capacity (M units)=%{y}<extra></extra>",
         "legendgroup": "BEV",
         "marker": {
          "color": "#0099C6",
          "pattern": {
           "shape": ""
          }
         },
         "name": "BEV",
         "orientation": "v",
         "showlegend": false,
         "textfont": {
          "size": 9
         },
         "textposition": "auto",
         "texttemplate": "%{y:.2f}",
         "type": "bar",
         "x": [
          "CANOE (AEO)",
          "CANOE (ref)"
         ],
         "xaxis": "x7",
         "y": {
          "bdata": "dP9dhgOiBkCzaOdnJmAaQA==",
          "dtype": "f8"
         },
         "yaxis": "y7"
        },
        {
         "hovertemplate": "Carrier=FCEV<br>Period=2021<br>Source=%{x}<br>Capacity (M units)=%{y}<extra></extra>",
         "legendgroup": "FCEV",
         "marker": {
          "color": "#DD4477",
          "pattern": {
           "shape": ""
          }
         },
         "name": "FCEV",
         "orientation": "v",
         "showlegend": true,
         "textfont": {
          "size": 9
         },
         "textposition": "auto",
         "texttemplate": "%{y:.2f}",
         "type": "bar",
         "x": [
          "CANOE (AEO)",
          "CANOE (ref)"
         ],
         "xaxis": "x",
         "y": {
          "bdata": "AAAAAAAAAAAAAAAAAAAAAA==",
          "dtype": "f8"
         },
         "yaxis": "y"
        },
        {
         "hovertemplate": "Carrier=FCEV<br>Period=2025<br>Source=%{x}<br>Capacity (M units)=%{y}<extra></extra>",
         "legendgroup": "FCEV",
         "marker": {
          "color": "#DD4477",
          "pattern": {
           "shape": ""
          }
         },
         "name": "FCEV",
         "orientation": "v",
         "showlegend": false,
         "textfont": {
          "size": 9
         },
         "textposition": "auto",
         "texttemplate": "%{y:.2f}",
         "type": "bar",
         "x": [
          "CANOE (AEO)",
          "CANOE (ref)"
         ],
         "xaxis": "x2",
         "y": {
          "bdata": "j1r+EHQ/pz7cc3AinvHcPg==",
          "dtype": "f8"
         },
         "yaxis": "y2"
        },
        {
         "hovertemplate": "Carrier=FCEV<br>Period=2030<br>Source=%{x}<br>Capacity (M units)=%{y}<extra></extra>",
         "legendgroup": "FCEV",
         "marker": {
          "color": "#DD4477",
          "pattern": {
           "shape": ""
          }
         },
         "name": "FCEV",
         "orientation": "v",
         "showlegend": false,
         "textfont": {
          "size": 9
         },
         "textposition": "auto",
         "texttemplate": "%{y:.2f}",
         "type": "bar",
         "x": [
          "CANOE (AEO)",
          "CANOE (ref)"
         ],
         "xaxis": "x3",
         "y": {
          "bdata": "wvmVExSSuT6sJl3PhAnyPg==",
          "dtype": "f8"
         },
         "yaxis": "y3"
        },
        {
         "hovertemplate": "Carrier=FCEV<br>Period=2035<br>Source=%{x}<br>Capacity (M units)=%{y}<extra></extra>",
         "legendgroup": "FCEV",
         "marker": {
          "color": "#DD4477",
          "pattern": {
           "shape": ""
          }
         },
         "name": "FCEV",
         "orientation": "v",
         "showlegend": false,
         "textfont": {
          "size": 9
         },
         "textposition": "auto",
         "texttemplate": "%{y:.2f}",
         "type": "bar",
         "x": [
          "CANOE (AEO)",
          "CANOE (ref)"
         ],
         "xaxis": "x4",
         "y": {
          "bdata": "pzyp3b/mxT7h8nsbIKP9Pg==",
          "dtype": "f8"
         },
         "yaxis": "y4"
        },
        {
         "hovertemplate": "Carrier=FCEV<br>Period=2040<br>Source=%{x}<br>Capacity (M units)=%{y}<extra></extra>",
         "legendgroup": "FCEV",
         "marker": {
          "color": "#DD4477",
          "pattern": {
           "shape": ""
          }
         },
         "name": "FCEV",
         "orientation": "v",
         "showlegend": false,
         "textfont": {
          "size": 9
         },
         "textposition": "auto",
         "texttemplate": "%{y:.2f}",
         "type": "bar",
         "x": [
          "CANOE (AEO)",
          "CANOE (ref)"
         ],
         "xaxis": "x5",
         "y": {
          "bdata": "pszHe/iqzj6kpeFLK8wBPw==",
          "dtype": "f8"
         },
         "yaxis": "y5"
        },
        {
         "hovertemplate": "Carrier=FCEV<br>Period=2045<br>Source=%{x}<br>Capacity (M units)=%{y}<extra></extra>",
         "legendgroup": "FCEV",
         "marker": {
          "color": "#DD4477",
          "pattern": {
           "shape": ""
          }
         },
         "name": "FCEV",
         "orientation": "v",
         "showlegend": false,
         "textfont": {
          "size": 9
         },
         "textposition": "auto",
         "texttemplate": "%{y:.2f}",
         "type": "bar",
         "x": [
          "CANOE (AEO)",
          "CANOE (ref)"
         ],
         "xaxis": "x6",
         "y": {
          "bdata": "23ivO9RD0T6a8+fRUrIBPw==",
          "dtype": "f8"
         },
         "yaxis": "y6"
        },
        {
         "hovertemplate": "Carrier=FCEV<br>Period=2050<br>Source=%{x}<br>Capacity (M units)=%{y}<extra></extra>",
         "legendgroup": "FCEV",
         "marker": {
          "color": "#DD4477",
          "pattern": {
           "shape": ""
          }
         },
         "name": "FCEV",
         "orientation": "v",
         "showlegend": false,
         "textfont": {
          "size": 9
         },
         "textposition": "auto",
         "texttemplate": "%{y:.2f}",
         "type": "bar",
         "x": [
          "CANOE (AEO)",
          "CANOE (ref)"
         ],
         "xaxis": "x7",
         "y": {
          "bdata": "ml4ah+ZB0z6CWOM8A1sCPw==",
          "dtype": "f8"
         },
         "yaxis": "y7"
        }
       ],
       "layout": {
        "annotations": [
         {
          "font": {},
          "showarrow": false,
          "text": "2021",
          "x": 0.06285714285714285,
          "xanchor": "center",
          "xref": "paper",
          "y": -0.12,
          "yanchor": "top",
          "yref": "paper"
         },
         {
          "font": {},
          "showarrow": false,
          "text": "2025",
          "x": 0.20857142857142852,
          "xanchor": "center",
          "xref": "paper",
          "y": -0.12,
          "yanchor": "top",
          "yref": "paper"
         },
         {
          "font": {},
          "showarrow": false,
          "text": "2030",
          "x": 0.3542857142857142,
          "xanchor": "center",
          "xref": "paper",
          "y": -0.12,
          "yanchor": "top",
          "yref": "paper"
         },
         {
          "font": {},
          "showarrow": false,
          "text": "2035",
          "x": 0.5,
          "xanchor": "center",
          "xref": "paper",
          "y": -0.12,
          "yanchor": "top",
          "yref": "paper"
         },
         {
          "font": {},
          "showarrow": false,
          "text": "2040",
          "x": 0.6457142857142856,
          "xanchor": "center",
          "xref": "paper",
          "y": -0.12,
          "yanchor": "top",
          "yref": "paper"
         },
         {
          "font": {},
          "showarrow": false,
          "text": "2045",
          "x": 0.7914285714285713,
          "xanchor": "center",
          "xref": "paper",
          "y": -0.12,
          "yanchor": "top",
          "yref": "paper"
         },
         {
          "font": {},
          "showarrow": false,
          "text": "2050",
          "x": 0.937142857142857,
          "xanchor": "center",
          "xref": "paper",
          "y": -0.12,
          "yanchor": "top",
          "yref": "paper"
         }
        ],
        "bargap": 0.1,
        "barmode": "stack",
        "font": {
         "size": 16
        },
        "height": 700,
        "legend": {
         "orientation": "h",
         "title": {
          "text": ""
         },
         "tracegroupgap": 0,
         "x": 0.5,
         "xanchor": "center",
         "y": 1.03,
         "yanchor": "top"
        },
        "margin": {
         "t": 60
        },
        "template": {
         "data": {
          "bar": [
           {
            "error_x": {
             "color": "#2a3f5f"
            },
            "error_y": {
             "color": "#2a3f5f"
            },
            "marker": {
             "line": {
              "color": "white",
              "width": 0.5
             },
             "pattern": {
              "fillmode": "overlay",
              "size": 10,
              "solidity": 0.2
             }
            },
            "type": "bar"
           }
          ],
          "barpolar": [
           {
            "marker": {
             "line": {
              "color": "white",
              "width": 0.5
             },
             "pattern": {
              "fillmode": "overlay",
              "size": 10,
              "solidity": 0.2
             }
            },
            "type": "barpolar"
           }
          ],
          "carpet": [
           {
            "aaxis": {
             "endlinecolor": "#2a3f5f",
             "gridcolor": "#C8D4E3",
             "linecolor": "#C8D4E3",
             "minorgridcolor": "#C8D4E3",
             "startlinecolor": "#2a3f5f"
            },
            "baxis": {
             "endlinecolor": "#2a3f5f",
             "gridcolor": "#C8D4E3",
             "linecolor": "#C8D4E3",
             "minorgridcolor": "#C8D4E3",
             "startlinecolor": "#2a3f5f"
            },
            "type": "carpet"
           }
          ],
          "choropleth": [
           {
            "colorbar": {
             "outlinewidth": 0,
             "ticks": ""
            },
            "type": "choropleth"
           }
          ],
          "contour": [
           {
            "colorbar": {
             "outlinewidth": 0,
             "ticks": ""
            },
            "colorscale": [
             [
              0,
              "#0d0887"
             ],
             [
              0.1111111111111111,
              "#46039f"
             ],
             [
              0.2222222222222222,
              "#7201a8"
             ],
             [
              0.3333333333333333,
              "#9c179e"
             ],
             [
              0.4444444444444444,
              "#bd3786"
             ],
             [
              0.5555555555555556,
              "#d8576b"
             ],
             [
              0.6666666666666666,
              "#ed7953"
             ],
             [
              0.7777777777777778,
              "#fb9f3a"
             ],
             [
              0.8888888888888888,
              "#fdca26"
             ],
             [
              1,
              "#f0f921"
             ]
            ],
            "type": "contour"
           }
          ],
          "contourcarpet": [
           {
            "colorbar": {
             "outlinewidth": 0,
             "ticks": ""
            },
            "type": "contourcarpet"
           }
          ],
          "heatmap": [
           {
            "colorbar": {
             "outlinewidth": 0,
             "ticks": ""
            },
            "colorscale": [
             [
              0,
              "#0d0887"
             ],
             [
              0.1111111111111111,
              "#46039f"
             ],
             [
              0.2222222222222222,
              "#7201a8"
             ],
             [
              0.3333333333333333,
              "#9c179e"
             ],
             [
              0.4444444444444444,
              "#bd3786"
             ],
             [
              0.5555555555555556,
              "#d8576b"
             ],
             [
              0.6666666666666666,
              "#ed7953"
             ],
             [
              0.7777777777777778,
              "#fb9f3a"
             ],
             [
              0.8888888888888888,
              "#fdca26"
             ],
             [
              1,
              "#f0f921"
             ]
            ],
            "type": "heatmap"
           }
          ],
          "histogram": [
           {
            "marker": {
             "pattern": {
              "fillmode": "overlay",
              "size": 10,
              "solidity": 0.2
             }
            },
            "type": "histogram"
           }
          ],
          "histogram2d": [
           {
            "colorbar": {
             "outlinewidth": 0,
             "ticks": ""
            },
            "colorscale": [
             [
              0,
              "#0d0887"
             ],
             [
              0.1111111111111111,
              "#46039f"
             ],
             [
              0.2222222222222222,
              "#7201a8"
             ],
             [
              0.3333333333333333,
              "#9c179e"
             ],
             [
              0.4444444444444444,
              "#bd3786"
             ],
             [
              0.5555555555555556,
              "#d8576b"
             ],
             [
              0.6666666666666666,
              "#ed7953"
             ],
             [
              0.7777777777777778,
              "#fb9f3a"
             ],
             [
              0.8888888888888888,
              "#fdca26"
             ],
             [
              1,
              "#f0f921"
             ]
            ],
            "type": "histogram2d"
           }
          ],
          "histogram2dcontour": [
           {
            "colorbar": {
             "outlinewidth": 0,
             "ticks": ""
            },
            "colorscale": [
             [
              0,
              "#0d0887"
             ],
             [
              0.1111111111111111,
              "#46039f"
             ],
             [
              0.2222222222222222,
              "#7201a8"
             ],
             [
              0.3333333333333333,
              "#9c179e"
             ],
             [
              0.4444444444444444,
              "#bd3786"
             ],
             [
              0.5555555555555556,
              "#d8576b"
             ],
             [
              0.6666666666666666,
              "#ed7953"
             ],
             [
              0.7777777777777778,
              "#fb9f3a"
             ],
             [
              0.8888888888888888,
              "#fdca26"
             ],
             [
              1,
              "#f0f921"
             ]
            ],
            "type": "histogram2dcontour"
           }
          ],
          "mesh3d": [
           {
            "colorbar": {
             "outlinewidth": 0,
             "ticks": ""
            },
            "type": "mesh3d"
           }
          ],
          "parcoords": [
           {
            "line": {
             "colorbar": {
              "outlinewidth": 0,
              "ticks": ""
             }
            },
            "type": "parcoords"
           }
          ],
          "pie": [
           {
            "automargin": true,
            "type": "pie"
           }
          ],
          "scatter": [
           {
            "fillpattern": {
             "fillmode": "overlay",
             "size": 10,
             "solidity": 0.2
            },
            "type": "scatter"
           }
          ],
          "scatter3d": [
           {
            "line": {
             "colorbar": {
              "outlinewidth": 0,
              "ticks": ""
             }
            },
            "marker": {
             "colorbar": {
              "outlinewidth": 0,
              "ticks": ""
             }
            },
            "type": "scatter3d"
           }
          ],
          "scattercarpet": [
           {
            "marker": {
             "colorbar": {
              "outlinewidth": 0,
              "ticks": ""
             }
            },
            "type": "scattercarpet"
           }
          ],
          "scattergeo": [
           {
            "marker": {
             "colorbar": {
              "outlinewidth": 0,
              "ticks": ""
             }
            },
            "type": "scattergeo"
           }
          ],
          "scattergl": [
           {
            "marker": {
             "colorbar": {
              "outlinewidth": 0,
              "ticks": ""
             }
            },
            "type": "scattergl"
           }
          ],
          "scattermap": [
           {
            "marker": {
             "colorbar": {
              "outlinewidth": 0,
              "ticks": ""
             }
            },
            "type": "scattermap"
           }
          ],
          "scattermapbox": [
           {
            "marker": {
             "colorbar": {
              "outlinewidth": 0,
              "ticks": ""
             }
            },
            "type": "scattermapbox"
           }
          ],
          "scatterpolar": [
           {
            "marker": {
             "colorbar": {
              "outlinewidth": 0,
              "ticks": ""
             }
            },
            "type": "scatterpolar"
           }
          ],
          "scatterpolargl": [
           {
            "marker": {
             "colorbar": {
              "outlinewidth": 0,
              "ticks": ""
             }
            },
            "type": "scatterpolargl"
           }
          ],
          "scatterternary": [
           {
            "marker": {
             "colorbar": {
              "outlinewidth": 0,
              "ticks": ""
             }
            },
            "type": "scatterternary"
           }
          ],
          "surface": [
           {
            "colorbar": {
             "outlinewidth": 0,
             "ticks": ""
            },
            "colorscale": [
             [
              0,
              "#0d0887"
             ],
             [
              0.1111111111111111,
              "#46039f"
             ],
             [
              0.2222222222222222,
              "#7201a8"
             ],
             [
              0.3333333333333333,
              "#9c179e"
             ],
             [
              0.4444444444444444,
              "#bd3786"
             ],
             [
              0.5555555555555556,
              "#d8576b"
             ],
             [
              0.6666666666666666,
              "#ed7953"
             ],
             [
              0.7777777777777778,
              "#fb9f3a"
             ],
             [
              0.8888888888888888,
              "#fdca26"
             ],
             [
              1,
              "#f0f921"
             ]
            ],
            "type": "surface"
           }
          ],
          "table": [
           {
            "cells": {
             "fill": {
              "color": "#EBF0F8"
             },
             "line": {
              "color": "white"
             }
            },
            "header": {
             "fill": {
              "color": "#C8D4E3"
             },
             "line": {
              "color": "white"
             }
            },
            "type": "table"
           }
          ]
         },
         "layout": {
          "annotationdefaults": {
           "arrowcolor": "#2a3f5f",
           "arrowhead": 0,
           "arrowwidth": 1
          },
          "autotypenumbers": "strict",
          "coloraxis": {
           "colorbar": {
            "outlinewidth": 0,
            "ticks": ""
           }
          },
          "colorscale": {
           "diverging": [
            [
             0,
             "#8e0152"
            ],
            [
             0.1,
             "#c51b7d"
            ],
            [
             0.2,
             "#de77ae"
            ],
            [
             0.3,
             "#f1b6da"
            ],
            [
             0.4,
             "#fde0ef"
            ],
            [
             0.5,
             "#f7f7f7"
            ],
            [
             0.6,
             "#e6f5d0"
            ],
            [
             0.7,
             "#b8e186"
            ],
            [
             0.8,
             "#7fbc41"
            ],
            [
             0.9,
             "#4d9221"
            ],
            [
             1,
             "#276419"
            ]
           ],
           "sequential": [
            [
             0,
             "#0d0887"
            ],
            [
             0.1111111111111111,
             "#46039f"
            ],
            [
             0.2222222222222222,
             "#7201a8"
            ],
            [
             0.3333333333333333,
             "#9c179e"
            ],
            [
             0.4444444444444444,
             "#bd3786"
            ],
            [
             0.5555555555555556,
             "#d8576b"
            ],
            [
             0.6666666666666666,
             "#ed7953"
            ],
            [
             0.7777777777777778,
             "#fb9f3a"
            ],
            [
             0.8888888888888888,
             "#fdca26"
            ],
            [
             1,
             "#f0f921"
            ]
           ],
           "sequentialminus": [
            [
             0,
             "#0d0887"
            ],
            [
             0.1111111111111111,
             "#46039f"
            ],
            [
             0.2222222222222222,
             "#7201a8"
            ],
            [
             0.3333333333333333,
             "#9c179e"
            ],
            [
             0.4444444444444444,
             "#bd3786"
            ],
            [
             0.5555555555555556,
             "#d8576b"
            ],
            [
             0.6666666666666666,
             "#ed7953"
            ],
            [
             0.7777777777777778,
             "#fb9f3a"
            ],
            [
             0.8888888888888888,
             "#fdca26"
            ],
            [
             1,
             "#f0f921"
            ]
           ]
          },
          "colorway": [
           "#636efa",
           "#EF553B",
           "#00cc96",
           "#ab63fa",
           "#FFA15A",
           "#19d3f3",
           "#FF6692",
           "#B6E880",
           "#FF97FF",
           "#FECB52"
          ],
          "font": {
           "color": "#2a3f5f"
          },
          "geo": {
           "bgcolor": "white",
           "lakecolor": "white",
           "landcolor": "white",
           "showlakes": true,
           "showland": true,
           "subunitcolor": "#C8D4E3"
          },
          "hoverlabel": {
           "align": "left"
          },
          "hovermode": "closest",
          "mapbox": {
           "style": "light"
          },
          "paper_bgcolor": "white",
          "plot_bgcolor": "white",
          "polar": {
           "angularaxis": {
            "gridcolor": "#EBF0F8",
            "linecolor": "#EBF0F8",
            "ticks": ""
           },
           "bgcolor": "white",
           "radialaxis": {
            "gridcolor": "#EBF0F8",
            "linecolor": "#EBF0F8",
            "ticks": ""
           }
          },
          "scene": {
           "xaxis": {
            "backgroundcolor": "white",
            "gridcolor": "#DFE8F3",
            "gridwidth": 2,
            "linecolor": "#EBF0F8",
            "showbackground": true,
            "ticks": "",
            "zerolinecolor": "#EBF0F8"
           },
           "yaxis": {
            "backgroundcolor": "white",
            "gridcolor": "#DFE8F3",
            "gridwidth": 2,
            "linecolor": "#EBF0F8",
            "showbackground": true,
            "ticks": "",
            "zerolinecolor": "#EBF0F8"
           },
           "zaxis": {
            "backgroundcolor": "white",
            "gridcolor": "#DFE8F3",
            "gridwidth": 2,
            "linecolor": "#EBF0F8",
            "showbackground": true,
            "ticks": "",
            "zerolinecolor": "#EBF0F8"
           }
          },
          "shapedefaults": {
           "line": {
            "color": "#2a3f5f"
           }
          },
          "ternary": {
           "aaxis": {
            "gridcolor": "#DFE8F3",
            "linecolor": "#A2B1C6",
            "ticks": ""
           },
           "baxis": {
            "gridcolor": "#DFE8F3",
            "linecolor": "#A2B1C6",
            "ticks": ""
           },
           "bgcolor": "white",
           "caxis": {
            "gridcolor": "#DFE8F3",
            "linecolor": "#A2B1C6",
            "ticks": ""
           }
          },
          "title": {
           "x": 0.05
          },
          "xaxis": {
           "automargin": true,
           "gridcolor": "#EBF0F8",
           "linecolor": "#EBF0F8",
           "ticks": "",
           "title": {
            "standoff": 15
           },
           "zerolinecolor": "#EBF0F8",
           "zerolinewidth": 2
          },
          "yaxis": {
           "automargin": true,
           "gridcolor": "#EBF0F8",
           "linecolor": "#EBF0F8",
           "ticks": "",
           "title": {
            "standoff": 15
           },
           "zerolinecolor": "#EBF0F8",
           "zerolinewidth": 2
          }
         }
        },
        "title": {
         "text": "Transportation LDV fleet stock in ON by drivetrain",
         "x": 0.5,
         "xanchor": "center",
         "y": 0.97,
         "yanchor": "top"
        },
        "width": 1100,
        "xaxis": {
         "anchor": "y",
         "domain": [
          0,
          0.1257142857142857
         ],
         "title": {
          "text": ""
         }
        },
        "xaxis2": {
         "anchor": "y2",
         "domain": [
          0.14571428571428569,
          0.27142857142857135
         ],
         "matches": "x",
         "title": {
          "text": ""
         }
        },
        "xaxis3": {
         "anchor": "y3",
         "domain": [
          0.29142857142857137,
          0.41714285714285704
         ],
         "matches": "x",
         "title": {
          "text": ""
         }
        },
        "xaxis4": {
         "anchor": "y4",
         "domain": [
          0.4371428571428571,
          0.5628571428571428
         ],
         "matches": "x",
         "title": {
          "text": ""
         }
        },
        "xaxis5": {
         "anchor": "y5",
         "domain": [
          0.5828571428571427,
          0.7085714285714284
         ],
         "matches": "x",
         "title": {
          "text": ""
         }
        },
        "xaxis6": {
         "anchor": "y6",
         "domain": [
          0.7285714285714284,
          0.8542857142857141
         ],
         "matches": "x",
         "title": {
          "text": ""
         }
        },
        "xaxis7": {
         "anchor": "y7",
         "domain": [
          0.8742857142857142,
          0.9999999999999999
         ],
         "matches": "x",
         "title": {
          "text": ""
         }
        },
        "yaxis": {
         "anchor": "x",
         "domain": [
          0,
          1
         ],
         "dtick": 1,
         "title": {
          "standoff": 0,
          "text": "Fleet stock (M units)"
         }
        },
        "yaxis2": {
         "anchor": "x2",
         "domain": [
          0,
          1
         ],
         "dtick": 1,
         "matches": "y",
         "showticklabels": false
        },
        "yaxis3": {
         "anchor": "x3",
         "domain": [
          0,
          1
         ],
         "dtick": 1,
         "matches": "y",
         "showticklabels": false
        },
        "yaxis4": {
         "anchor": "x4",
         "domain": [
          0,
          1
         ],
         "dtick": 1,
         "matches": "y",
         "showticklabels": false
        },
        "yaxis5": {
         "anchor": "x5",
         "domain": [
          0,
          1
         ],
         "dtick": 1,
         "matches": "y",
         "showticklabels": false
        },
        "yaxis6": {
         "anchor": "x6",
         "domain": [
          0,
          1
         ],
         "dtick": 1,
         "matches": "y",
         "showticklabels": false
        },
        "yaxis7": {
         "anchor": "x7",
         "domain": [
          0,
          1
         ],
         "dtick": 1,
         "matches": "y",
         "showticklabels": false
        }
       }
      }
     },
     "metadata": {},
     "output_type": "display_data"
    }
   ],
   "source": [
    "ref_fig = ref_trncap[ref_trncap['Vehicle Class'].isin(['LDV'])][['Period', 'Vehicle Class', 'Capacity (M units)', 'Carrier']].groupby(['Period', 'Vehicle Class', 'Carrier'], as_index=False).sum()\n",
    "vanilla_fig = vanilla_trncap[vanilla_trncap['Vehicle Class'].isin(['LDV'])][['Period', 'Vehicle Class', 'Capacity (M units)', 'Carrier']].groupby(['Period', 'Vehicle Class', 'Carrier'], as_index=False).sum()\n",
    "\n",
    "ref_fig['Carrier'] = pd.Categorical(ref_fig['Carrier'], categories=drivetrain_order, ordered=True)\n",
    "ref_fig = ref_fig.sort_values(['Carrier', 'Period'])\n",
    "vanilla_fig['Carrier'] = pd.Categorical(vanilla_fig['Carrier'], categories=drivetrain_order, ordered=True)\n",
    "vanilla_fig = vanilla_fig.sort_values(['Carrier', 'Period'])\n",
    "\n",
    "ref_fig['Source'] = 'CANOE (ref)'\n",
    "vanilla_fig['Source'] = 'CANOE (AEO)'\n",
    "\n",
    "fig_df = pd.concat([vanilla_fig[['Period', 'Vehicle Class', 'Capacity (M units)', 'Carrier', 'Source']], ref_fig[['Period', 'Vehicle Class', 'Capacity (M units)', 'Carrier', 'Source']]])\n",
    "\n",
    "fig = px.bar(fig_df, \n",
    "             x='Source', \n",
    "             y='Capacity (M units)', \n",
    "             color='Carrier', \n",
    "             barmode='stack', \n",
    "             facet_col='Period',\n",
    "             facet_col_spacing=2E-2,\n",
    "             template='plotly_white',\n",
    "             color_discrete_sequence=px.colors.qualitative.G10[:7] + px.colors.qualitative.G10[8:],\n",
    "             text_auto='.2f',\n",
    "            #  text='Demand (PJ)_sum'\n",
    "             width=1100, height=700,\n",
    "             )\n",
    "\n",
    "fig.update_layout(title=dict(\n",
    "        text='Transportation LDV fleet stock in ON by drivetrain',\n",
    "        x=0.5, \n",
    "        y=0.97,\n",
    "        xanchor='center',\n",
    "        yanchor='top'\n",
    "    ),\n",
    "    xaxis=dict(title='Period'),\n",
    "    yaxis=dict(title='Fleet stock (M units)',\n",
    "               dtick=1),\n",
    "    yaxis_title_standoff=0,\n",
    "    legend_title_text='',\n",
    "    bargap=0.1,\n",
    "    legend=dict(\n",
    "        orientation='h',  \n",
    "        yanchor='top',\n",
    "        y=1.03,  \n",
    "        xanchor='center',\n",
    "        x=0.5),\n",
    "    font=dict(\n",
    "        # family=\"Open Sans\",\n",
    "        size=16)\n",
    "    )\n",
    "\n",
    "for annotation in fig.layout.annotations:\n",
    "    annotation.text = annotation.text.split('=')[1]\n",
    "    annotation.y = -0.12  \n",
    "    annotation.yanchor = 'top' \n",
    "\n",
    "for axis in fig.layout:\n",
    "    if axis.startswith('yaxis'):\n",
    "        fig.layout[axis].dtick = 1\n",
    "\n",
    "for axis in fig.layout:\n",
    "    if axis.startswith('xaxis'):\n",
    "        fig.layout[axis].title.text = ''\n",
    "\n",
    "fig.for_each_trace(lambda trace: trace.update(textfont=dict(size=9)))\n",
    "\n",
    "fig.show()"
   ]
  },
  {
   "cell_type": "code",
   "execution_count": 21,
   "metadata": {},
   "outputs": [
    {
     "data": {
      "application/vnd.plotly.v1+json": {
       "config": {
        "plotlyServerURL": "https://plot.ly"
       },
       "data": [
        {
         "hovertemplate": "Carrier=Gasoline<br>Period=2021<br>Vehicle Class=%{x}<br>Capacity (k units)=%{y}<extra></extra>",
         "legendgroup": "Gasoline",
         "marker": {
          "color": "#3366CC",
          "pattern": {
           "shape": ""
          }
         },
         "name": "Gasoline",
         "orientation": "v",
         "showlegend": true,
         "textfont": {
          "size": 9
         },
         "textposition": "auto",
         "texttemplate": "%{y:.1f}",
         "type": "bar",
         "x": [
          "Bus",
          "MD Truck"
         ],
         "xaxis": "x",
         "y": {
          "bdata": "oGxsrMs8+D8myq5mEtliQA==",
          "dtype": "f8"
         },
         "yaxis": "y"
        },
        {
         "hovertemplate": "Carrier=Gasoline<br>Period=2025<br>Vehicle Class=%{x}<br>Capacity (k units)=%{y}<extra></extra>",
         "legendgroup": "Gasoline",
         "marker": {
          "color": "#3366CC",
          "pattern": {
           "shape": ""
          }
         },
         "name": "Gasoline",
         "orientation": "v",
         "showlegend": false,
         "textfont": {
          "size": 9
         },
         "textposition": "auto",
         "texttemplate": "%{y:.1f}",
         "type": "bar",
         "x": [
          "Bus",
          "MD Truck"
         ],
         "xaxis": "x2",
         "y": {
          "bdata": "RF8JwZM59z+nPXGKRcRjQA==",
          "dtype": "f8"
         },
         "yaxis": "y2"
        },
        {
         "hovertemplate": "Carrier=Gasoline<br>Period=2030<br>Vehicle Class=%{x}<br>Capacity (k units)=%{y}<extra></extra>",
         "legendgroup": "Gasoline",
         "marker": {
          "color": "#3366CC",
          "pattern": {
           "shape": ""
          }
         },
         "name": "Gasoline",
         "orientation": "v",
         "showlegend": false,
         "textfont": {
          "size": 9
         },
         "textposition": "auto",
         "texttemplate": "%{y:.1f}",
         "type": "bar",
         "x": [
          "Bus",
          "MD Truck"
         ],
         "xaxis": "x3",
         "y": {
          "bdata": "1Kbq3pbD8T9WKlIjQdJhQA==",
          "dtype": "f8"
         },
         "yaxis": "y3"
        },
        {
         "hovertemplate": "Carrier=Gasoline<br>Period=2035<br>Vehicle Class=%{x}<br>Capacity (k units)=%{y}<extra></extra>",
         "legendgroup": "Gasoline",
         "marker": {
          "color": "#3366CC",
          "pattern": {
           "shape": ""
          }
         },
         "name": "Gasoline",
         "orientation": "v",
         "showlegend": false,
         "textfont": {
          "size": 9
         },
         "textposition": "auto",
         "texttemplate": "%{y:.1f}",
         "type": "bar",
         "x": [
          "Bus",
          "MD Truck"
         ],
         "xaxis": "x4",
         "y": {
          "bdata": "WJxQ6MCWdj82A0am59JkQA==",
          "dtype": "f8"
         },
         "yaxis": "y4"
        },
        {
         "hovertemplate": "Carrier=Gasoline<br>Period=2040<br>Vehicle Class=%{x}<br>Capacity (k units)=%{y}<extra></extra>",
         "legendgroup": "Gasoline",
         "marker": {
          "color": "#3366CC",
          "pattern": {
           "shape": ""
          }
         },
         "name": "Gasoline",
         "orientation": "v",
         "showlegend": false,
         "textfont": {
          "size": 9
         },
         "textposition": "auto",
         "texttemplate": "%{y:.1f}",
         "type": "bar",
         "x": [
          "Bus",
          "MD Truck"
         ],
         "xaxis": "x5",
         "y": {
          "bdata": "cwX4iOg7ZT9JqKWkjXNYQA==",
          "dtype": "f8"
         },
         "yaxis": "y5"
        },
        {
         "hovertemplate": "Carrier=Gasoline<br>Period=2045<br>Vehicle Class=%{x}<br>Capacity (k units)=%{y}<extra></extra>",
         "legendgroup": "Gasoline",
         "marker": {
          "color": "#3366CC",
          "pattern": {
           "shape": ""
          }
         },
         "name": "Gasoline",
         "orientation": "v",
         "showlegend": false,
         "textfont": {
          "size": 9
         },
         "textposition": "auto",
         "texttemplate": "%{y:.1f}",
         "type": "bar",
         "x": [
          "Bus",
          "MD Truck"
         ],
         "xaxis": "x6",
         "y": {
          "bdata": "SSs96WT89D+Fee1YrvRYQA==",
          "dtype": "f8"
         },
         "yaxis": "y6"
        },
        {
         "hovertemplate": "Carrier=Gasoline<br>Period=2050<br>Vehicle Class=%{x}<br>Capacity (k units)=%{y}<extra></extra>",
         "legendgroup": "Gasoline",
         "marker": {
          "color": "#3366CC",
          "pattern": {
           "shape": ""
          }
         },
         "name": "Gasoline",
         "orientation": "v",
         "showlegend": false,
         "textfont": {
          "size": 9
         },
         "textposition": "auto",
         "texttemplate": "%{y:.1f}",
         "type": "bar",
         "x": [
          "Bus",
          "MD Truck"
         ],
         "xaxis": "x7",
         "y": {
          "bdata": "q/S+LjtwAkAvJ2dXrUJhQA==",
          "dtype": "f8"
         },
         "yaxis": "y7"
        },
        {
         "hovertemplate": "Carrier=Diesel<br>Period=2021<br>Vehicle Class=%{x}<br>Capacity (k units)=%{y}<extra></extra>",
         "legendgroup": "Diesel",
         "marker": {
          "color": "#DC3912",
          "pattern": {
           "shape": ""
          }
         },
         "name": "Diesel",
         "orientation": "v",
         "showlegend": true,
         "textfont": {
          "size": 9
         },
         "textposition": "auto",
         "texttemplate": "%{y:.1f}",
         "type": "bar",
         "x": [
          "Bus",
          "HD Truck",
          "MD Truck"
         ],
         "xaxis": "x",
         "y": {
          "bdata": "RnNdtdjxNUBbfyWMfXVhQPtEJk7GF3BA",
          "dtype": "f8"
         },
         "yaxis": "y"
        },
        {
         "hovertemplate": "Carrier=Diesel<br>Period=2025<br>Vehicle Class=%{x}<br>Capacity (k units)=%{y}<extra></extra>",
         "legendgroup": "Diesel",
         "marker": {
          "color": "#DC3912",
          "pattern": {
           "shape": ""
          }
         },
         "name": "Diesel",
         "orientation": "v",
         "showlegend": false,
         "textfont": {
          "size": 9
         },
         "textposition": "auto",
         "texttemplate": "%{y:.1f}",
         "type": "bar",
         "x": [
          "Bus",
          "HD Truck",
          "MD Truck"
         ],
         "xaxis": "x2",
         "y": {
          "bdata": "LGPu5nqyM0C6TC21yEZiQNMYWJE003BA",
          "dtype": "f8"
         },
         "yaxis": "y2"
        },
        {
         "hovertemplate": "Carrier=Diesel<br>Period=2030<br>Vehicle Class=%{x}<br>Capacity (k units)=%{y}<extra></extra>",
         "legendgroup": "Diesel",
         "marker": {
          "color": "#DC3912",
          "pattern": {
           "shape": ""
          }
         },
         "name": "Diesel",
         "orientation": "v",
         "showlegend": false,
         "textfont": {
          "size": 9
         },
         "textposition": "auto",
         "texttemplate": "%{y:.1f}",
         "type": "bar",
         "x": [
          "Bus",
          "HD Truck",
          "MD Truck"
         ],
         "xaxis": "x3",
         "y": {
          "bdata": "mxIsxWU8KUBTCtnmjZRjQCHSd5nF8W1A",
          "dtype": "f8"
         },
         "yaxis": "y3"
        },
        {
         "hovertemplate": "Carrier=Diesel<br>Period=2035<br>Vehicle Class=%{x}<br>Capacity (k units)=%{y}<extra></extra>",
         "legendgroup": "Diesel",
         "marker": {
          "color": "#DC3912",
          "pattern": {
           "shape": ""
          }
         },
         "name": "Diesel",
         "orientation": "v",
         "showlegend": false,
         "textfont": {
          "size": 9
         },
         "textposition": "auto",
         "texttemplate": "%{y:.1f}",
         "type": "bar",
         "x": [
          "Bus",
          "HD Truck",
          "MD Truck"
         ],
         "xaxis": "x4",
         "y": {
          "bdata": "IkxSKyt0BkCz31p1JYRjQL7mo4LTV3BA",
          "dtype": "f8"
         },
         "yaxis": "y4"
        },
        {
         "hovertemplate": "Carrier=Diesel<br>Period=2040<br>Vehicle Class=%{x}<br>Capacity (k units)=%{y}<extra></extra>",
         "legendgroup": "Diesel",
         "marker": {
          "color": "#DC3912",
          "pattern": {
           "shape": ""
          }
         },
         "name": "Diesel",
         "orientation": "v",
         "showlegend": false,
         "textfont": {
          "size": 9
         },
         "textposition": "auto",
         "texttemplate": "%{y:.1f}",
         "type": "bar",
         "x": [
          "Bus",
          "HD Truck",
          "MD Truck"
         ],
         "xaxis": "x5",
         "y": {
          "bdata": "mx59Mpq1AkCxdlyCOiFiQAqVIzSQfGNA",
          "dtype": "f8"
         },
         "yaxis": "y5"
        },
        {
         "hovertemplate": "Carrier=Diesel<br>Period=2045<br>Vehicle Class=%{x}<br>Capacity (k units)=%{y}<extra></extra>",
         "legendgroup": "Diesel",
         "marker": {
          "color": "#DC3912",
          "pattern": {
           "shape": ""
          }
         },
         "name": "Diesel",
         "orientation": "v",
         "showlegend": false,
         "textfont": {
          "size": 9
         },
         "textposition": "auto",
         "texttemplate": "%{y:.1f}",
         "type": "bar",
         "x": [
          "Bus",
          "HD Truck",
          "MD Truck"
         ],
         "xaxis": "x6",
         "y": {
          "bdata": "2/iUyL6F8T8lh4nSKf9iQHMQQrDu42NA",
          "dtype": "f8"
         },
         "yaxis": "y6"
        },
        {
         "hovertemplate": "Carrier=Diesel<br>Period=2050<br>Vehicle Class=%{x}<br>Capacity (k units)=%{y}<extra></extra>",
         "legendgroup": "Diesel",
         "marker": {
          "color": "#DC3912",
          "pattern": {
           "shape": ""
          }
         },
         "name": "Diesel",
         "orientation": "v",
         "showlegend": false,
         "textfont": {
          "size": 9
         },
         "textposition": "auto",
         "texttemplate": "%{y:.1f}",
         "type": "bar",
         "x": [
          "Bus",
          "HD Truck",
          "MD Truck"
         ],
         "xaxis": "x7",
         "y": {
          "bdata": "qz6Eqx4zrj+0XfTjdVljQKTISR5WkWpA",
          "dtype": "f8"
         },
         "yaxis": "y7"
        },
        {
         "hovertemplate": "Carrier=CNG<br>Period=2021<br>Vehicle Class=%{x}<br>Capacity (k units)=%{y}<extra></extra>",
         "legendgroup": "CNG",
         "marker": {
          "color": "#FF9900",
          "pattern": {
           "shape": ""
          }
         },
         "name": "CNG",
         "orientation": "v",
         "showlegend": true,
         "textfont": {
          "size": 9
         },
         "textposition": "auto",
         "texttemplate": "%{y:.1f}",
         "type": "bar",
         "x": [
          "Bus"
         ],
         "xaxis": "x",
         "y": {
          "bdata": "qaat73CN7D8=",
          "dtype": "f8"
         },
         "yaxis": "y"
        },
        {
         "hovertemplate": "Carrier=CNG<br>Period=2025<br>Vehicle Class=%{x}<br>Capacity (k units)=%{y}<extra></extra>",
         "legendgroup": "CNG",
         "marker": {
          "color": "#FF9900",
          "pattern": {
           "shape": ""
          }
         },
         "name": "CNG",
         "orientation": "v",
         "showlegend": false,
         "textfont": {
          "size": 9
         },
         "textposition": "auto",
         "texttemplate": "%{y:.1f}",
         "type": "bar",
         "x": [
          "Bus"
         ],
         "xaxis": "x2",
         "y": {
          "bdata": "Zg2cZfoS7D8=",
          "dtype": "f8"
         },
         "yaxis": "y2"
        },
        {
         "hovertemplate": "Carrier=CNG<br>Period=2030<br>Vehicle Class=%{x}<br>Capacity (k units)=%{y}<extra></extra>",
         "legendgroup": "CNG",
         "marker": {
          "color": "#FF9900",
          "pattern": {
           "shape": ""
          }
         },
         "name": "CNG",
         "orientation": "v",
         "showlegend": false,
         "textfont": {
          "size": 9
         },
         "textposition": "auto",
         "texttemplate": "%{y:.1f}",
         "type": "bar",
         "x": [
          "Bus"
         ],
         "xaxis": "x3",
         "y": {
          "bdata": "5igLXKPn6T8=",
          "dtype": "f8"
         },
         "yaxis": "y3"
        },
        {
         "hovertemplate": "Carrier=CNG<br>Period=2035<br>Vehicle Class=%{x}<br>Capacity (k units)=%{y}<extra></extra>",
         "legendgroup": "CNG",
         "marker": {
          "color": "#FF9900",
          "pattern": {
           "shape": ""
          }
         },
         "name": "CNG",
         "orientation": "v",
         "showlegend": false,
         "textfont": {
          "size": 9
         },
         "textposition": "auto",
         "texttemplate": "%{y:.1f}",
         "type": "bar",
         "x": [
          "Bus"
         ],
         "xaxis": "x4",
         "y": {
          "bdata": "wEtRzy5Lcz8=",
          "dtype": "f8"
         },
         "yaxis": "y4"
        },
        {
         "hovertemplate": "Carrier=CNG<br>Period=2040<br>Vehicle Class=%{x}<br>Capacity (k units)=%{y}<extra></extra>",
         "legendgroup": "CNG",
         "marker": {
          "color": "#FF9900",
          "pattern": {
           "shape": ""
          }
         },
         "name": "CNG",
         "orientation": "v",
         "showlegend": false,
         "textfont": {
          "size": 9
         },
         "textposition": "auto",
         "texttemplate": "%{y:.1f}",
         "type": "bar",
         "x": [
          "Bus"
         ],
         "xaxis": "x5",
         "y": {
          "bdata": "Atlg+5hRXT8=",
          "dtype": "f8"
         },
         "yaxis": "y5"
        },
        {
         "hovertemplate": "Carrier=CNG<br>Period=2045<br>Vehicle Class=%{x}<br>Capacity (k units)=%{y}<extra></extra>",
         "legendgroup": "CNG",
         "marker": {
          "color": "#FF9900",
          "pattern": {
           "shape": ""
          }
         },
         "name": "CNG",
         "orientation": "v",
         "showlegend": false,
         "textfont": {
          "size": 9
         },
         "textposition": "auto",
         "texttemplate": "%{y:.1f}",
         "type": "bar",
         "x": [
          "Bus"
         ],
         "xaxis": "x6",
         "y": {
          "bdata": "AAAAAAAAAAA=",
          "dtype": "f8"
         },
         "yaxis": "y6"
        },
        {
         "hovertemplate": "Carrier=CNG<br>Period=2050<br>Vehicle Class=%{x}<br>Capacity (k units)=%{y}<extra></extra>",
         "legendgroup": "CNG",
         "marker": {
          "color": "#FF9900",
          "pattern": {
           "shape": ""
          }
         },
         "name": "CNG",
         "orientation": "v",
         "showlegend": false,
         "textfont": {
          "size": 9
         },
         "textposition": "auto",
         "texttemplate": "%{y:.1f}",
         "type": "bar",
         "x": [
          "Bus"
         ],
         "xaxis": "x7",
         "y": {
          "bdata": "AAAAAAAAAAA=",
          "dtype": "f8"
         },
         "yaxis": "y7"
        },
        {
         "hovertemplate": "Carrier=HEV<br>Period=2021<br>Vehicle Class=%{x}<br>Capacity (k units)=%{y}<extra></extra>",
         "legendgroup": "HEV",
         "marker": {
          "color": "#109618",
          "pattern": {
           "shape": ""
          }
         },
         "name": "HEV",
         "orientation": "v",
         "showlegend": true,
         "textfont": {
          "size": 9
         },
         "textposition": "auto",
         "texttemplate": "%{y:.1f}",
         "type": "bar",
         "x": [
          "Bus",
          "HD Truck",
          "MD Truck"
         ],
         "xaxis": "x",
         "y": {
          "bdata": "WFZVBHWTzT8AAAAAAAAAAAAAAAAAAAAA",
          "dtype": "f8"
         },
         "yaxis": "y"
        },
        {
         "hovertemplate": "Carrier=HEV<br>Period=2025<br>Vehicle Class=%{x}<br>Capacity (k units)=%{y}<extra></extra>",
         "legendgroup": "HEV",
         "marker": {
          "color": "#109618",
          "pattern": {
           "shape": ""
          }
         },
         "name": "HEV",
         "orientation": "v",
         "showlegend": false,
         "textfont": {
          "size": 9
         },
         "textposition": "auto",
         "texttemplate": "%{y:.1f}",
         "type": "bar",
         "x": [
          "Bus",
          "HD Truck",
          "MD Truck"
         ],
         "xaxis": "x2",
         "y": {
          "bdata": "HAFu+ZXzzT8T847vArPcPwAAAAAAAAAA",
          "dtype": "f8"
         },
         "yaxis": "y2"
        },
        {
         "hovertemplate": "Carrier=HEV<br>Period=2030<br>Vehicle Class=%{x}<br>Capacity (k units)=%{y}<extra></extra>",
         "legendgroup": "HEV",
         "marker": {
          "color": "#109618",
          "pattern": {
           "shape": ""
          }
         },
         "name": "HEV",
         "orientation": "v",
         "showlegend": false,
         "textfont": {
          "size": 9
         },
         "textposition": "auto",
         "texttemplate": "%{y:.1f}",
         "type": "bar",
         "x": [
          "Bus",
          "HD Truck",
          "MD Truck"
         ],
         "xaxis": "x3",
         "y": {
          "bdata": "/1W22mJBzj8/5FqqNPgDQAAAAAAAAAAA",
          "dtype": "f8"
         },
         "yaxis": "y3"
        },
        {
         "hovertemplate": "Carrier=HEV<br>Period=2035<br>Vehicle Class=%{x}<br>Capacity (k units)=%{y}<extra></extra>",
         "legendgroup": "HEV",
         "marker": {
          "color": "#109618",
          "pattern": {
           "shape": ""
          }
         },
         "name": "HEV",
         "orientation": "v",
         "showlegend": false,
         "textfont": {
          "size": 9
         },
         "textposition": "auto",
         "texttemplate": "%{y:.1f}",
         "type": "bar",
         "x": [
          "Bus",
          "HD Truck",
          "MD Truck"
         ],
         "xaxis": "x4",
         "y": {
          "bdata": "BFL82xMTdj+k/Kv6lLASQC6YiiU3DP4+",
          "dtype": "f8"
         },
         "yaxis": "y4"
        },
        {
         "hovertemplate": "Carrier=HEV<br>Period=2040<br>Vehicle Class=%{x}<br>Capacity (k units)=%{y}<extra></extra>",
         "legendgroup": "HEV",
         "marker": {
          "color": "#109618",
          "pattern": {
           "shape": ""
          }
         },
         "name": "HEV",
         "orientation": "v",
         "showlegend": false,
         "textfont": {
          "size": 9
         },
         "textposition": "auto",
         "texttemplate": "%{y:.1f}",
         "type": "bar",
         "x": [
          "Bus",
          "HD Truck",
          "MD Truck"
         ],
         "xaxis": "x5",
         "y": {
          "bdata": "0HI5NaeQZD9XbZdFQG8UQBBYQIAAoQU/",
          "dtype": "f8"
         },
         "yaxis": "y5"
        },
        {
         "hovertemplate": "Carrier=HEV<br>Period=2045<br>Vehicle Class=%{x}<br>Capacity (k units)=%{y}<extra></extra>",
         "legendgroup": "HEV",
         "marker": {
          "color": "#109618",
          "pattern": {
           "shape": ""
          }
         },
         "name": "HEV",
         "orientation": "v",
         "showlegend": false,
         "textfont": {
          "size": 9
         },
         "textposition": "auto",
         "texttemplate": "%{y:.1f}",
         "type": "bar",
         "x": [
          "Bus",
          "HD Truck",
          "MD Truck"
         ],
         "xaxis": "x6",
         "y": {
          "bdata": "5OkYy+dSIz973rqUXkIUQLesYfb7HAs/",
          "dtype": "f8"
         },
         "yaxis": "y6"
        },
        {
         "hovertemplate": "Carrier=HEV<br>Period=2050<br>Vehicle Class=%{x}<br>Capacity (k units)=%{y}<extra></extra>",
         "legendgroup": "HEV",
         "marker": {
          "color": "#109618",
          "pattern": {
           "shape": ""
          }
         },
         "name": "HEV",
         "orientation": "v",
         "showlegend": false,
         "textfont": {
          "size": 9
         },
         "textposition": "auto",
         "texttemplate": "%{y:.1f}",
         "type": "bar",
         "x": [
          "Bus",
          "HD Truck",
          "MD Truck"
         ],
         "xaxis": "x7",
         "y": {
          "bdata": "VYi1BTFiFD/+Uuf3MxoKQLesYfb7HAs/",
          "dtype": "f8"
         },
         "yaxis": "y7"
        },
        {
         "hovertemplate": "Carrier=PHEV<br>Period=2021<br>Vehicle Class=%{x}<br>Capacity (k units)=%{y}<extra></extra>",
         "legendgroup": "PHEV",
         "marker": {
          "color": "#990099",
          "pattern": {
           "shape": ""
          }
         },
         "name": "PHEV",
         "orientation": "v",
         "showlegend": true,
         "textfont": {
          "size": 9
         },
         "textposition": "auto",
         "texttemplate": "%{y:.1f}",
         "type": "bar",
         "x": [
          "Bus",
          "HD Truck",
          "MD Truck"
         ],
         "xaxis": "x",
         "y": {
          "bdata": "AAAAAAAAAAAAAAAAAAAAAAAAAAAAAAAA",
          "dtype": "f8"
         },
         "yaxis": "y"
        },
        {
         "hovertemplate": "Carrier=PHEV<br>Period=2025<br>Vehicle Class=%{x}<br>Capacity (k units)=%{y}<extra></extra>",
         "legendgroup": "PHEV",
         "marker": {
          "color": "#990099",
          "pattern": {
           "shape": ""
          }
         },
         "name": "PHEV",
         "orientation": "v",
         "showlegend": false,
         "textfont": {
          "size": 9
         },
         "textposition": "auto",
         "texttemplate": "%{y:.1f}",
         "type": "bar",
         "x": [
          "Bus",
          "HD Truck",
          "MD Truck"
         ],
         "xaxis": "x2",
         "y": {
          "bdata": "AAAAAAAAAAAAAAAAAAAAAAAAAAAAAAAA",
          "dtype": "f8"
         },
         "yaxis": "y2"
        },
        {
         "hovertemplate": "Carrier=PHEV<br>Period=2030<br>Vehicle Class=%{x}<br>Capacity (k units)=%{y}<extra></extra>",
         "legendgroup": "PHEV",
         "marker": {
          "color": "#990099",
          "pattern": {
           "shape": ""
          }
         },
         "name": "PHEV",
         "orientation": "v",
         "showlegend": false,
         "textfont": {
          "size": 9
         },
         "textposition": "auto",
         "texttemplate": "%{y:.1f}",
         "type": "bar",
         "x": [
          "Bus",
          "HD Truck",
          "MD Truck"
         ],
         "xaxis": "x3",
         "y": {
          "bdata": "r5p2TU2v5j4AAAAAAAAAAAAAAAAAAAAA",
          "dtype": "f8"
         },
         "yaxis": "y3"
        },
        {
         "hovertemplate": "Carrier=PHEV<br>Period=2035<br>Vehicle Class=%{x}<br>Capacity (k units)=%{y}<extra></extra>",
         "legendgroup": "PHEV",
         "marker": {
          "color": "#990099",
          "pattern": {
           "shape": ""
          }
         },
         "name": "PHEV",
         "orientation": "v",
         "showlegend": false,
         "textfont": {
          "size": 9
         },
         "textposition": "auto",
         "texttemplate": "%{y:.1f}",
         "type": "bar",
         "x": [
          "Bus",
          "HD Truck",
          "MD Truck"
         ],
         "xaxis": "x4",
         "y": {
          "bdata": "r5p2TU2v5j4AAAAAAAAAACz9goSkbA0/",
          "dtype": "f8"
         },
         "yaxis": "y4"
        },
        {
         "hovertemplate": "Carrier=PHEV<br>Period=2040<br>Vehicle Class=%{x}<br>Capacity (k units)=%{y}<extra></extra>",
         "legendgroup": "PHEV",
         "marker": {
          "color": "#990099",
          "pattern": {
           "shape": ""
          }
         },
         "name": "PHEV",
         "orientation": "v",
         "showlegend": false,
         "textfont": {
          "size": 9
         },
         "textposition": "auto",
         "texttemplate": "%{y:.1f}",
         "type": "bar",
         "x": [
          "Bus",
          "HD Truck",
          "MD Truck"
         ],
         "xaxis": "x5",
         "y": {
          "bdata": "4eVdRaa99j4AAAAAAAAAAEb8Edi4bxM/",
          "dtype": "f8"
         },
         "yaxis": "y5"
        },
        {
         "hovertemplate": "Carrier=PHEV<br>Period=2045<br>Vehicle Class=%{x}<br>Capacity (k units)=%{y}<extra></extra>",
         "legendgroup": "PHEV",
         "marker": {
          "color": "#990099",
          "pattern": {
           "shape": ""
          }
         },
         "name": "PHEV",
         "orientation": "v",
         "showlegend": false,
         "textfont": {
          "size": 9
         },
         "textposition": "auto",
         "texttemplate": "%{y:.1f}",
         "type": "bar",
         "x": [
          "Bus",
          "HD Truck",
          "MD Truck"
         ],
         "xaxis": "x6",
         "y": {
          "bdata": "yQes4jzn9T4AAAAAAAAAAEgVaHBwPhc/",
          "dtype": "f8"
         },
         "yaxis": "y6"
        },
        {
         "hovertemplate": "Carrier=PHEV<br>Period=2050<br>Vehicle Class=%{x}<br>Capacity (k units)=%{y}<extra></extra>",
         "legendgroup": "PHEV",
         "marker": {
          "color": "#990099",
          "pattern": {
           "shape": ""
          }
         },
         "name": "PHEV",
         "orientation": "v",
         "showlegend": false,
         "textfont": {
          "size": 9
         },
         "textposition": "auto",
         "texttemplate": "%{y:.1f}",
         "type": "bar",
         "x": [
          "Bus",
          "HD Truck",
          "MD Truck"
         ],
         "xaxis": "x7",
         "y": {
          "bdata": "dqjlPWgoAT8AAAAAAAAAAAGef00SaRo/",
          "dtype": "f8"
         },
         "yaxis": "y7"
        },
        {
         "hovertemplate": "Carrier=BEV<br>Period=2021<br>Vehicle Class=%{x}<br>Capacity (k units)=%{y}<extra></extra>",
         "legendgroup": "BEV",
         "marker": {
          "color": "#0099C6",
          "pattern": {
           "shape": ""
          }
         },
         "name": "BEV",
         "orientation": "v",
         "showlegend": true,
         "textfont": {
          "size": 9
         },
         "textposition": "auto",
         "texttemplate": "%{y:.1f}",
         "type": "bar",
         "x": [
          "Bus",
          "HD Truck",
          "MD Truck"
         ],
         "xaxis": "x",
         "y": {
          "bdata": "Kab9MZWSBkAAAAAAAAAAAAAAAAAAAAAA",
          "dtype": "f8"
         },
         "yaxis": "y"
        },
        {
         "hovertemplate": "Carrier=BEV<br>Period=2025<br>Vehicle Class=%{x}<br>Capacity (k units)=%{y}<extra></extra>",
         "legendgroup": "BEV",
         "marker": {
          "color": "#0099C6",
          "pattern": {
           "shape": ""
          }
         },
         "name": "BEV",
         "orientation": "v",
         "showlegend": false,
         "textfont": {
          "size": 9
         },
         "textposition": "auto",
         "texttemplate": "%{y:.1f}",
         "type": "bar",
         "x": [
          "Bus",
          "HD Truck",
          "MD Truck"
         ],
         "xaxis": "x2",
         "y": {
          "bdata": "G99tbotDFUAAAAAAAAAAABbbfOX7/wlA",
          "dtype": "f8"
         },
         "yaxis": "y2"
        },
        {
         "hovertemplate": "Carrier=BEV<br>Period=2030<br>Vehicle Class=%{x}<br>Capacity (k units)=%{y}<extra></extra>",
         "legendgroup": "BEV",
         "marker": {
          "color": "#0099C6",
          "pattern": {
           "shape": ""
          }
         },
         "name": "BEV",
         "orientation": "v",
         "showlegend": false,
         "textfont": {
          "size": 9
         },
         "textposition": "auto",
         "texttemplate": "%{y:.1f}",
         "type": "bar",
         "x": [
          "Bus",
          "HD Truck",
          "MD Truck"
         ],
         "xaxis": "x3",
         "y": {
          "bdata": "OPqQxUriMEDIirNQX4/2PyhbUk2dFSpA",
          "dtype": "f8"
         },
         "yaxis": "y3"
        },
        {
         "hovertemplate": "Carrier=BEV<br>Period=2035<br>Vehicle Class=%{x}<br>Capacity (k units)=%{y}<extra></extra>",
         "legendgroup": "BEV",
         "marker": {
          "color": "#0099C6",
          "pattern": {
           "shape": ""
          }
         },
         "name": "BEV",
         "orientation": "v",
         "showlegend": false,
         "textfont": {
          "size": 9
         },
         "textposition": "auto",
         "texttemplate": "%{y:.1f}",
         "type": "bar",
         "x": [
          "Bus",
          "HD Truck",
          "MD Truck"
         ],
         "xaxis": "x4",
         "y": {
          "bdata": "oF4pIr0BOECOWuAXvXISQEVutHYilEdA",
          "dtype": "f8"
         },
         "yaxis": "y4"
        },
        {
         "hovertemplate": "Carrier=BEV<br>Period=2040<br>Vehicle Class=%{x}<br>Capacity (k units)=%{y}<extra></extra>",
         "legendgroup": "BEV",
         "marker": {
          "color": "#0099C6",
          "pattern": {
           "shape": ""
          }
         },
         "name": "BEV",
         "orientation": "v",
         "showlegend": false,
         "textfont": {
          "size": 9
         },
         "textposition": "auto",
         "texttemplate": "%{y:.1f}",
         "type": "bar",
         "x": [
          "Bus",
          "HD Truck",
          "MD Truck"
         ],
         "xaxis": "x5",
         "y": {
          "bdata": "djIPOrbiPEDzUkeYRzUlQHgzFg/9sFZA",
          "dtype": "f8"
         },
         "yaxis": "y5"
        },
        {
         "hovertemplate": "Carrier=BEV<br>Period=2045<br>Vehicle Class=%{x}<br>Capacity (k units)=%{y}<extra></extra>",
         "legendgroup": "BEV",
         "marker": {
          "color": "#0099C6",
          "pattern": {
           "shape": ""
          }
         },
         "name": "BEV",
         "orientation": "v",
         "showlegend": false,
         "textfont": {
          "size": 9
         },
         "textposition": "auto",
         "texttemplate": "%{y:.1f}",
         "type": "bar",
         "x": [
          "Bus",
          "HD Truck",
          "MD Truck"
         ],
         "xaxis": "x6",
         "y": {
          "bdata": "q7IvyP+APUBenk+L+JQoQNUBhjkFSmBA",
          "dtype": "f8"
         },
         "yaxis": "y6"
        },
        {
         "hovertemplate": "Carrier=BEV<br>Period=2050<br>Vehicle Class=%{x}<br>Capacity (k units)=%{y}<extra></extra>",
         "legendgroup": "BEV",
         "marker": {
          "color": "#0099C6",
          "pattern": {
           "shape": ""
          }
         },
         "name": "BEV",
         "orientation": "v",
         "showlegend": false,
         "textfont": {
          "size": 9
         },
         "textposition": "auto",
         "texttemplate": "%{y:.1f}",
         "type": "bar",
         "x": [
          "Bus",
          "HD Truck",
          "MD Truck"
         ],
         "xaxis": "x7",
         "y": {
          "bdata": "HcILO3fzPkAuhor2oNIsQCphLN0EiGlA",
          "dtype": "f8"
         },
         "yaxis": "y7"
        },
        {
         "hovertemplate": "Carrier=FCEV<br>Period=2021<br>Vehicle Class=%{x}<br>Capacity (k units)=%{y}<extra></extra>",
         "legendgroup": "FCEV",
         "marker": {
          "color": "#DD4477",
          "pattern": {
           "shape": ""
          }
         },
         "name": "FCEV",
         "orientation": "v",
         "showlegend": true,
         "textfont": {
          "size": 9
         },
         "textposition": "auto",
         "texttemplate": "%{y:.1f}",
         "type": "bar",
         "x": [
          "Bus",
          "HD Truck",
          "MD Truck"
         ],
         "xaxis": "x",
         "y": {
          "bdata": "AAAAAAAAAAAAAAAAAAAAAAAAAAAAAAAA",
          "dtype": "f8"
         },
         "yaxis": "y"
        },
        {
         "hovertemplate": "Carrier=FCEV<br>Period=2025<br>Vehicle Class=%{x}<br>Capacity (k units)=%{y}<extra></extra>",
         "legendgroup": "FCEV",
         "marker": {
          "color": "#DD4477",
          "pattern": {
           "shape": ""
          }
         },
         "name": "FCEV",
         "orientation": "v",
         "showlegend": false,
         "textfont": {
          "size": 9
         },
         "textposition": "auto",
         "texttemplate": "%{y:.1f}",
         "type": "bar",
         "x": [
          "Bus",
          "HD Truck",
          "MD Truck"
         ],
         "xaxis": "x2",
         "y": {
          "bdata": "2IYk7V87EkDyAGbSDePrPz1q0N6EdwRA",
          "dtype": "f8"
         },
         "yaxis": "y2"
        },
        {
         "hovertemplate": "Carrier=FCEV<br>Period=2030<br>Vehicle Class=%{x}<br>Capacity (k units)=%{y}<extra></extra>",
         "legendgroup": "FCEV",
         "marker": {
          "color": "#DD4477",
          "pattern": {
           "shape": ""
          }
         },
         "name": "FCEV",
         "orientation": "v",
         "showlegend": false,
         "textfont": {
          "size": 9
         },
         "textposition": "auto",
         "texttemplate": "%{y:.1f}",
         "type": "bar",
         "x": [
          "Bus",
          "HD Truck",
          "MD Truck"
         ],
         "xaxis": "x3",
         "y": {
          "bdata": "UIQmhHh2EkAkrnjvyj8MQA14qBLofxxA",
          "dtype": "f8"
         },
         "yaxis": "y3"
        },
        {
         "hovertemplate": "Carrier=FCEV<br>Period=2035<br>Vehicle Class=%{x}<br>Capacity (k units)=%{y}<extra></extra>",
         "legendgroup": "FCEV",
         "marker": {
          "color": "#DD4477",
          "pattern": {
           "shape": ""
          }
         },
         "name": "FCEV",
         "orientation": "v",
         "showlegend": false,
         "textfont": {
          "size": 9
         },
         "textposition": "auto",
         "texttemplate": "%{y:.1f}",
         "type": "bar",
         "x": [
          "Bus",
          "HD Truck",
          "MD Truck"
         ],
         "xaxis": "x4",
         "y": {
          "bdata": "ofeT5+mhEkABrU78q6QgQLuoUrrEBDxA",
          "dtype": "f8"
         },
         "yaxis": "y4"
        },
        {
         "hovertemplate": "Carrier=FCEV<br>Period=2040<br>Vehicle Class=%{x}<br>Capacity (k units)=%{y}<extra></extra>",
         "legendgroup": "FCEV",
         "marker": {
          "color": "#DD4477",
          "pattern": {
           "shape": ""
          }
         },
         "name": "FCEV",
         "orientation": "v",
         "showlegend": false,
         "textfont": {
          "size": 9
         },
         "textposition": "auto",
         "texttemplate": "%{y:.1f}",
         "type": "bar",
         "x": [
          "Bus",
          "HD Truck",
          "MD Truck"
         ],
         "xaxis": "x5",
         "y": {
          "bdata": "D15le6uz4T+cRTXGP5YwQK1ZJz/HdUNA",
          "dtype": "f8"
         },
         "yaxis": "y5"
        },
        {
         "hovertemplate": "Carrier=FCEV<br>Period=2045<br>Vehicle Class=%{x}<br>Capacity (k units)=%{y}<extra></extra>",
         "legendgroup": "FCEV",
         "marker": {
          "color": "#DD4477",
          "pattern": {
           "shape": ""
          }
         },
         "name": "FCEV",
         "orientation": "v",
         "showlegend": false,
         "textfont": {
          "size": 9
         },
         "textposition": "auto",
         "texttemplate": "%{y:.1f}",
         "type": "bar",
         "x": [
          "Bus",
          "HD Truck",
          "MD Truck"
         ],
         "xaxis": "x6",
         "y": {
          "bdata": "7Rp0t1024D+PmXRivug5QNuX8BnnDkVA",
          "dtype": "f8"
         },
         "yaxis": "y6"
        },
        {
         "hovertemplate": "Carrier=FCEV<br>Period=2050<br>Vehicle Class=%{x}<br>Capacity (k units)=%{y}<extra></extra>",
         "legendgroup": "FCEV",
         "marker": {
          "color": "#DD4477",
          "pattern": {
           "shape": ""
          }
         },
         "name": "FCEV",
         "orientation": "v",
         "showlegend": false,
         "textfont": {
          "size": 9
         },
         "textposition": "auto",
         "texttemplate": "%{y:.1f}",
         "type": "bar",
         "x": [
          "Bus",
          "HD Truck",
          "MD Truck"
         ],
         "xaxis": "x7",
         "y": {
          "bdata": "moyeRYIj3j/fxBceiLxCQFJRC1SCxkJA",
          "dtype": "f8"
         },
         "yaxis": "y7"
        }
       ],
       "layout": {
        "annotations": [
         {
          "font": {},
          "showarrow": false,
          "text": "2021",
          "x": 0.06285714285714285,
          "xanchor": "center",
          "xref": "paper",
          "y": -0.1,
          "yanchor": "top",
          "yref": "paper"
         },
         {
          "font": {},
          "showarrow": false,
          "text": "2025",
          "x": 0.20857142857142852,
          "xanchor": "center",
          "xref": "paper",
          "y": -0.1,
          "yanchor": "top",
          "yref": "paper"
         },
         {
          "font": {},
          "showarrow": false,
          "text": "2030",
          "x": 0.3542857142857142,
          "xanchor": "center",
          "xref": "paper",
          "y": -0.1,
          "yanchor": "top",
          "yref": "paper"
         },
         {
          "font": {},
          "showarrow": false,
          "text": "2035",
          "x": 0.5,
          "xanchor": "center",
          "xref": "paper",
          "y": -0.1,
          "yanchor": "top",
          "yref": "paper"
         },
         {
          "font": {},
          "showarrow": false,
          "text": "2040",
          "x": 0.6457142857142856,
          "xanchor": "center",
          "xref": "paper",
          "y": -0.1,
          "yanchor": "top",
          "yref": "paper"
         },
         {
          "font": {},
          "showarrow": false,
          "text": "2045",
          "x": 0.7914285714285713,
          "xanchor": "center",
          "xref": "paper",
          "y": -0.1,
          "yanchor": "top",
          "yref": "paper"
         },
         {
          "font": {},
          "showarrow": false,
          "text": "2050",
          "x": 0.937142857142857,
          "xanchor": "center",
          "xref": "paper",
          "y": -0.1,
          "yanchor": "top",
          "yref": "paper"
         }
        ],
        "bargap": 0.1,
        "barmode": "stack",
        "font": {
         "size": 14
        },
        "height": 650,
        "legend": {
         "orientation": "h",
         "title": {
          "text": ""
         },
         "tracegroupgap": 0,
         "x": 0.5,
         "xanchor": "center",
         "y": 1.02,
         "yanchor": "top"
        },
        "margin": {
         "t": 60
        },
        "template": {
         "data": {
          "bar": [
           {
            "error_x": {
             "color": "#2a3f5f"
            },
            "error_y": {
             "color": "#2a3f5f"
            },
            "marker": {
             "line": {
              "color": "white",
              "width": 0.5
             },
             "pattern": {
              "fillmode": "overlay",
              "size": 10,
              "solidity": 0.2
             }
            },
            "type": "bar"
           }
          ],
          "barpolar": [
           {
            "marker": {
             "line": {
              "color": "white",
              "width": 0.5
             },
             "pattern": {
              "fillmode": "overlay",
              "size": 10,
              "solidity": 0.2
             }
            },
            "type": "barpolar"
           }
          ],
          "carpet": [
           {
            "aaxis": {
             "endlinecolor": "#2a3f5f",
             "gridcolor": "#C8D4E3",
             "linecolor": "#C8D4E3",
             "minorgridcolor": "#C8D4E3",
             "startlinecolor": "#2a3f5f"
            },
            "baxis": {
             "endlinecolor": "#2a3f5f",
             "gridcolor": "#C8D4E3",
             "linecolor": "#C8D4E3",
             "minorgridcolor": "#C8D4E3",
             "startlinecolor": "#2a3f5f"
            },
            "type": "carpet"
           }
          ],
          "choropleth": [
           {
            "colorbar": {
             "outlinewidth": 0,
             "ticks": ""
            },
            "type": "choropleth"
           }
          ],
          "contour": [
           {
            "colorbar": {
             "outlinewidth": 0,
             "ticks": ""
            },
            "colorscale": [
             [
              0,
              "#0d0887"
             ],
             [
              0.1111111111111111,
              "#46039f"
             ],
             [
              0.2222222222222222,
              "#7201a8"
             ],
             [
              0.3333333333333333,
              "#9c179e"
             ],
             [
              0.4444444444444444,
              "#bd3786"
             ],
             [
              0.5555555555555556,
              "#d8576b"
             ],
             [
              0.6666666666666666,
              "#ed7953"
             ],
             [
              0.7777777777777778,
              "#fb9f3a"
             ],
             [
              0.8888888888888888,
              "#fdca26"
             ],
             [
              1,
              "#f0f921"
             ]
            ],
            "type": "contour"
           }
          ],
          "contourcarpet": [
           {
            "colorbar": {
             "outlinewidth": 0,
             "ticks": ""
            },
            "type": "contourcarpet"
           }
          ],
          "heatmap": [
           {
            "colorbar": {
             "outlinewidth": 0,
             "ticks": ""
            },
            "colorscale": [
             [
              0,
              "#0d0887"
             ],
             [
              0.1111111111111111,
              "#46039f"
             ],
             [
              0.2222222222222222,
              "#7201a8"
             ],
             [
              0.3333333333333333,
              "#9c179e"
             ],
             [
              0.4444444444444444,
              "#bd3786"
             ],
             [
              0.5555555555555556,
              "#d8576b"
             ],
             [
              0.6666666666666666,
              "#ed7953"
             ],
             [
              0.7777777777777778,
              "#fb9f3a"
             ],
             [
              0.8888888888888888,
              "#fdca26"
             ],
             [
              1,
              "#f0f921"
             ]
            ],
            "type": "heatmap"
           }
          ],
          "histogram": [
           {
            "marker": {
             "pattern": {
              "fillmode": "overlay",
              "size": 10,
              "solidity": 0.2
             }
            },
            "type": "histogram"
           }
          ],
          "histogram2d": [
           {
            "colorbar": {
             "outlinewidth": 0,
             "ticks": ""
            },
            "colorscale": [
             [
              0,
              "#0d0887"
             ],
             [
              0.1111111111111111,
              "#46039f"
             ],
             [
              0.2222222222222222,
              "#7201a8"
             ],
             [
              0.3333333333333333,
              "#9c179e"
             ],
             [
              0.4444444444444444,
              "#bd3786"
             ],
             [
              0.5555555555555556,
              "#d8576b"
             ],
             [
              0.6666666666666666,
              "#ed7953"
             ],
             [
              0.7777777777777778,
              "#fb9f3a"
             ],
             [
              0.8888888888888888,
              "#fdca26"
             ],
             [
              1,
              "#f0f921"
             ]
            ],
            "type": "histogram2d"
           }
          ],
          "histogram2dcontour": [
           {
            "colorbar": {
             "outlinewidth": 0,
             "ticks": ""
            },
            "colorscale": [
             [
              0,
              "#0d0887"
             ],
             [
              0.1111111111111111,
              "#46039f"
             ],
             [
              0.2222222222222222,
              "#7201a8"
             ],
             [
              0.3333333333333333,
              "#9c179e"
             ],
             [
              0.4444444444444444,
              "#bd3786"
             ],
             [
              0.5555555555555556,
              "#d8576b"
             ],
             [
              0.6666666666666666,
              "#ed7953"
             ],
             [
              0.7777777777777778,
              "#fb9f3a"
             ],
             [
              0.8888888888888888,
              "#fdca26"
             ],
             [
              1,
              "#f0f921"
             ]
            ],
            "type": "histogram2dcontour"
           }
          ],
          "mesh3d": [
           {
            "colorbar": {
             "outlinewidth": 0,
             "ticks": ""
            },
            "type": "mesh3d"
           }
          ],
          "parcoords": [
           {
            "line": {
             "colorbar": {
              "outlinewidth": 0,
              "ticks": ""
             }
            },
            "type": "parcoords"
           }
          ],
          "pie": [
           {
            "automargin": true,
            "type": "pie"
           }
          ],
          "scatter": [
           {
            "fillpattern": {
             "fillmode": "overlay",
             "size": 10,
             "solidity": 0.2
            },
            "type": "scatter"
           }
          ],
          "scatter3d": [
           {
            "line": {
             "colorbar": {
              "outlinewidth": 0,
              "ticks": ""
             }
            },
            "marker": {
             "colorbar": {
              "outlinewidth": 0,
              "ticks": ""
             }
            },
            "type": "scatter3d"
           }
          ],
          "scattercarpet": [
           {
            "marker": {
             "colorbar": {
              "outlinewidth": 0,
              "ticks": ""
             }
            },
            "type": "scattercarpet"
           }
          ],
          "scattergeo": [
           {
            "marker": {
             "colorbar": {
              "outlinewidth": 0,
              "ticks": ""
             }
            },
            "type": "scattergeo"
           }
          ],
          "scattergl": [
           {
            "marker": {
             "colorbar": {
              "outlinewidth": 0,
              "ticks": ""
             }
            },
            "type": "scattergl"
           }
          ],
          "scattermap": [
           {
            "marker": {
             "colorbar": {
              "outlinewidth": 0,
              "ticks": ""
             }
            },
            "type": "scattermap"
           }
          ],
          "scattermapbox": [
           {
            "marker": {
             "colorbar": {
              "outlinewidth": 0,
              "ticks": ""
             }
            },
            "type": "scattermapbox"
           }
          ],
          "scatterpolar": [
           {
            "marker": {
             "colorbar": {
              "outlinewidth": 0,
              "ticks": ""
             }
            },
            "type": "scatterpolar"
           }
          ],
          "scatterpolargl": [
           {
            "marker": {
             "colorbar": {
              "outlinewidth": 0,
              "ticks": ""
             }
            },
            "type": "scatterpolargl"
           }
          ],
          "scatterternary": [
           {
            "marker": {
             "colorbar": {
              "outlinewidth": 0,
              "ticks": ""
             }
            },
            "type": "scatterternary"
           }
          ],
          "surface": [
           {
            "colorbar": {
             "outlinewidth": 0,
             "ticks": ""
            },
            "colorscale": [
             [
              0,
              "#0d0887"
             ],
             [
              0.1111111111111111,
              "#46039f"
             ],
             [
              0.2222222222222222,
              "#7201a8"
             ],
             [
              0.3333333333333333,
              "#9c179e"
             ],
             [
              0.4444444444444444,
              "#bd3786"
             ],
             [
              0.5555555555555556,
              "#d8576b"
             ],
             [
              0.6666666666666666,
              "#ed7953"
             ],
             [
              0.7777777777777778,
              "#fb9f3a"
             ],
             [
              0.8888888888888888,
              "#fdca26"
             ],
             [
              1,
              "#f0f921"
             ]
            ],
            "type": "surface"
           }
          ],
          "table": [
           {
            "cells": {
             "fill": {
              "color": "#EBF0F8"
             },
             "line": {
              "color": "white"
             }
            },
            "header": {
             "fill": {
              "color": "#C8D4E3"
             },
             "line": {
              "color": "white"
             }
            },
            "type": "table"
           }
          ]
         },
         "layout": {
          "annotationdefaults": {
           "arrowcolor": "#2a3f5f",
           "arrowhead": 0,
           "arrowwidth": 1
          },
          "autotypenumbers": "strict",
          "coloraxis": {
           "colorbar": {
            "outlinewidth": 0,
            "ticks": ""
           }
          },
          "colorscale": {
           "diverging": [
            [
             0,
             "#8e0152"
            ],
            [
             0.1,
             "#c51b7d"
            ],
            [
             0.2,
             "#de77ae"
            ],
            [
             0.3,
             "#f1b6da"
            ],
            [
             0.4,
             "#fde0ef"
            ],
            [
             0.5,
             "#f7f7f7"
            ],
            [
             0.6,
             "#e6f5d0"
            ],
            [
             0.7,
             "#b8e186"
            ],
            [
             0.8,
             "#7fbc41"
            ],
            [
             0.9,
             "#4d9221"
            ],
            [
             1,
             "#276419"
            ]
           ],
           "sequential": [
            [
             0,
             "#0d0887"
            ],
            [
             0.1111111111111111,
             "#46039f"
            ],
            [
             0.2222222222222222,
             "#7201a8"
            ],
            [
             0.3333333333333333,
             "#9c179e"
            ],
            [
             0.4444444444444444,
             "#bd3786"
            ],
            [
             0.5555555555555556,
             "#d8576b"
            ],
            [
             0.6666666666666666,
             "#ed7953"
            ],
            [
             0.7777777777777778,
             "#fb9f3a"
            ],
            [
             0.8888888888888888,
             "#fdca26"
            ],
            [
             1,
             "#f0f921"
            ]
           ],
           "sequentialminus": [
            [
             0,
             "#0d0887"
            ],
            [
             0.1111111111111111,
             "#46039f"
            ],
            [
             0.2222222222222222,
             "#7201a8"
            ],
            [
             0.3333333333333333,
             "#9c179e"
            ],
            [
             0.4444444444444444,
             "#bd3786"
            ],
            [
             0.5555555555555556,
             "#d8576b"
            ],
            [
             0.6666666666666666,
             "#ed7953"
            ],
            [
             0.7777777777777778,
             "#fb9f3a"
            ],
            [
             0.8888888888888888,
             "#fdca26"
            ],
            [
             1,
             "#f0f921"
            ]
           ]
          },
          "colorway": [
           "#636efa",
           "#EF553B",
           "#00cc96",
           "#ab63fa",
           "#FFA15A",
           "#19d3f3",
           "#FF6692",
           "#B6E880",
           "#FF97FF",
           "#FECB52"
          ],
          "font": {
           "color": "#2a3f5f"
          },
          "geo": {
           "bgcolor": "white",
           "lakecolor": "white",
           "landcolor": "white",
           "showlakes": true,
           "showland": true,
           "subunitcolor": "#C8D4E3"
          },
          "hoverlabel": {
           "align": "left"
          },
          "hovermode": "closest",
          "mapbox": {
           "style": "light"
          },
          "paper_bgcolor": "white",
          "plot_bgcolor": "white",
          "polar": {
           "angularaxis": {
            "gridcolor": "#EBF0F8",
            "linecolor": "#EBF0F8",
            "ticks": ""
           },
           "bgcolor": "white",
           "radialaxis": {
            "gridcolor": "#EBF0F8",
            "linecolor": "#EBF0F8",
            "ticks": ""
           }
          },
          "scene": {
           "xaxis": {
            "backgroundcolor": "white",
            "gridcolor": "#DFE8F3",
            "gridwidth": 2,
            "linecolor": "#EBF0F8",
            "showbackground": true,
            "ticks": "",
            "zerolinecolor": "#EBF0F8"
           },
           "yaxis": {
            "backgroundcolor": "white",
            "gridcolor": "#DFE8F3",
            "gridwidth": 2,
            "linecolor": "#EBF0F8",
            "showbackground": true,
            "ticks": "",
            "zerolinecolor": "#EBF0F8"
           },
           "zaxis": {
            "backgroundcolor": "white",
            "gridcolor": "#DFE8F3",
            "gridwidth": 2,
            "linecolor": "#EBF0F8",
            "showbackground": true,
            "ticks": "",
            "zerolinecolor": "#EBF0F8"
           }
          },
          "shapedefaults": {
           "line": {
            "color": "#2a3f5f"
           }
          },
          "ternary": {
           "aaxis": {
            "gridcolor": "#DFE8F3",
            "linecolor": "#A2B1C6",
            "ticks": ""
           },
           "baxis": {
            "gridcolor": "#DFE8F3",
            "linecolor": "#A2B1C6",
            "ticks": ""
           },
           "bgcolor": "white",
           "caxis": {
            "gridcolor": "#DFE8F3",
            "linecolor": "#A2B1C6",
            "ticks": ""
           }
          },
          "title": {
           "x": 0.05
          },
          "xaxis": {
           "automargin": true,
           "gridcolor": "#EBF0F8",
           "linecolor": "#EBF0F8",
           "ticks": "",
           "title": {
            "standoff": 15
           },
           "zerolinecolor": "#EBF0F8",
           "zerolinewidth": 2
          },
          "yaxis": {
           "automargin": true,
           "gridcolor": "#EBF0F8",
           "linecolor": "#EBF0F8",
           "ticks": "",
           "title": {
            "standoff": 15
           },
           "zerolinecolor": "#EBF0F8",
           "zerolinewidth": 2
          }
         }
        },
        "title": {
         "text": "Transportation MHDV fleet stock in ON by vehicle class and drivetrain",
         "x": 0.5,
         "xanchor": "center",
         "y": 0.97,
         "yanchor": "top"
        },
        "width": 1150,
        "xaxis": {
         "anchor": "y",
         "domain": [
          0,
          0.1257142857142857
         ],
         "title": {
          "text": ""
         }
        },
        "xaxis2": {
         "anchor": "y2",
         "domain": [
          0.14571428571428569,
          0.27142857142857135
         ],
         "matches": "x",
         "title": {
          "text": ""
         }
        },
        "xaxis3": {
         "anchor": "y3",
         "domain": [
          0.29142857142857137,
          0.41714285714285704
         ],
         "matches": "x",
         "title": {
          "text": ""
         }
        },
        "xaxis4": {
         "anchor": "y4",
         "domain": [
          0.4371428571428571,
          0.5628571428571428
         ],
         "matches": "x",
         "title": {
          "text": ""
         }
        },
        "xaxis5": {
         "anchor": "y5",
         "domain": [
          0.5828571428571427,
          0.7085714285714284
         ],
         "matches": "x",
         "title": {
          "text": ""
         }
        },
        "xaxis6": {
         "anchor": "y6",
         "domain": [
          0.7285714285714284,
          0.8542857142857141
         ],
         "matches": "x",
         "title": {
          "text": ""
         }
        },
        "xaxis7": {
         "anchor": "y7",
         "domain": [
          0.8742857142857142,
          0.9999999999999999
         ],
         "matches": "x",
         "title": {
          "text": ""
         }
        },
        "yaxis": {
         "anchor": "x",
         "domain": [
          0,
          1
         ],
         "dtick": 100,
         "title": {
          "standoff": 0,
          "text": "Fleet stock (k units)"
         }
        },
        "yaxis2": {
         "anchor": "x2",
         "domain": [
          0,
          1
         ],
         "matches": "y",
         "showticklabels": false
        },
        "yaxis3": {
         "anchor": "x3",
         "domain": [
          0,
          1
         ],
         "matches": "y",
         "showticklabels": false
        },
        "yaxis4": {
         "anchor": "x4",
         "domain": [
          0,
          1
         ],
         "matches": "y",
         "showticklabels": false
        },
        "yaxis5": {
         "anchor": "x5",
         "domain": [
          0,
          1
         ],
         "matches": "y",
         "showticklabels": false
        },
        "yaxis6": {
         "anchor": "x6",
         "domain": [
          0,
          1
         ],
         "matches": "y",
         "showticklabels": false
        },
        "yaxis7": {
         "anchor": "x7",
         "domain": [
          0,
          1
         ],
         "matches": "y",
         "showticklabels": false
        }
       }
      }
     },
     "metadata": {},
     "output_type": "display_data"
    }
   ],
   "source": [
    "ref_fig = ref_trncap[ref_trncap['Vehicle Class'].isin(['MD Truck', 'HD Truck', 'Bus'])][['Period', 'Vehicle Class', 'Capacity (M units)', 'Carrier']].groupby(['Period', 'Vehicle Class', 'Carrier'], as_index=False).sum()\n",
    "ref_fig['Capacity (k units)'] = ref_fig['Capacity (M units)']*1E3\n",
    "\n",
    "ref_fig['Carrier'] = pd.Categorical(ref_fig['Carrier'], categories=drivetrain_order, ordered=True)\n",
    "ref_fig = ref_fig.sort_values(['Carrier', 'Period'])\n",
    "\n",
    "fig = px.bar(ref_fig, \n",
    "             x='Vehicle Class', \n",
    "             y='Capacity (k units)', \n",
    "             color='Carrier', \n",
    "             barmode='stack', \n",
    "             facet_col='Period',\n",
    "             facet_col_spacing=2E-2,\n",
    "             template='plotly_white',\n",
    "             color_discrete_sequence=px.colors.qualitative.G10[:7] + px.colors.qualitative.G10[8:],\n",
    "             text_auto='.1f',\n",
    "            #  text='Demand (PJ)_sum'\n",
    "             width=1150, height=650,\n",
    "             )\n",
    "\n",
    "fig.update_layout(title=dict(\n",
    "        text='Transportation MHDV fleet stock in ON by vehicle class and drivetrain',\n",
    "        x=0.5, \n",
    "        y=0.97,\n",
    "        xanchor='center',\n",
    "        yanchor='top'\n",
    "    ),\n",
    "    xaxis=dict(title='Period'),\n",
    "    yaxis=dict(title='Fleet stock (k units)',\n",
    "               dtick=100),\n",
    "    yaxis_title_standoff=0,\n",
    "    legend_title_text='',\n",
    "    bargap=0.1,\n",
    "    legend=dict(\n",
    "        orientation='h',  \n",
    "        yanchor='top',\n",
    "        y=1.02,  \n",
    "        xanchor='center',\n",
    "        x=0.5),\n",
    "    font=dict(\n",
    "        # family=\"Open Sans\",\n",
    "        size=14)\n",
    "    )\n",
    "\n",
    "for annotation in fig.layout.annotations:\n",
    "    annotation.text = annotation.text.split('=')[1]\n",
    "    annotation.y = -0.1  \n",
    "    annotation.yanchor = 'top' \n",
    "\n",
    "for axis in fig.layout:\n",
    "    if axis.startswith('xaxis'):\n",
    "        fig.layout[axis].title.text = ''\n",
    "\n",
    "fig.for_each_trace(lambda trace: trace.update(textfont=dict(size=9)))\n",
    "\n",
    "fig.show()"
   ]
  },
  {
   "cell_type": "markdown",
   "metadata": {},
   "source": [
    "# Added Capacity"
   ]
  },
  {
   "cell_type": "code",
   "execution_count": 22,
   "metadata": {},
   "outputs": [],
   "source": [
    "# ref_file = canoe_results + '/builtcapacity.csv'\n",
    "# ref_newcap = pd.read_csv(ref_file)\n",
    "# ref_newcap.rename(columns={'sector': 'Sector', 'tech': 'Technology', 'vintage': 'Period', 'capacity': 'New Capacity'}, inplace=True)\n",
    "\n",
    "# ref_newcap_trn = ref_newcap[(ref_newcap['Sector'] == 'Transport')].copy()\n",
    "# ref_newcap_trn['Mode'] = ref_newcap_trn['Technology'].apply(map_tech_to_mode)\n",
    "# ref_newcap_trn['Carrier'] = ref_newcap_trn['Technology'].apply(map_tech_to_drivetrain)\n",
    "# ref_newcap_trn['Vehicle Class'] = ref_newcap_trn['Mode'].apply(veh_class_mapping)"
   ]
  },
  {
   "cell_type": "code",
   "execution_count": 23,
   "metadata": {},
   "outputs": [],
   "source": [
    "ref_trnnewcap.columns = ref_trnnewcap.columns.astype(str)\n",
    "periods = [col for col in ref_trnnewcap.columns if col.isdigit()]\n",
    "params = [col for col in ref_trnnewcap.columns if not col.isdigit()]\n",
    "ref_trnnewcap = pd.melt(ref_trnnewcap, id_vars=params, var_name='Period', value_name='New Capacity', value_vars=periods)\n",
    "\n",
    "ref_trnnewcap['Vehicle Class'] = ref_trnnewcap['Mode'].apply(veh_class_mapping)"
   ]
  },
  {
   "cell_type": "code",
   "execution_count": 24,
   "metadata": {},
   "outputs": [
    {
     "data": {
      "application/vnd.plotly.v1+json": {
       "config": {
        "plotlyServerURL": "https://plot.ly"
       },
       "data": [],
       "layout": {
        "bargap": 0.1,
        "barmode": "stack",
        "font": {
         "size": 14
        },
        "height": 650,
        "legend": {
         "orientation": "h",
         "title": {
          "text": ""
         },
         "tracegroupgap": 0,
         "x": 0.5,
         "xanchor": "center",
         "y": 1.03,
         "yanchor": "top"
        },
        "margin": {
         "t": 60
        },
        "template": {
         "data": {
          "bar": [
           {
            "error_x": {
             "color": "#2a3f5f"
            },
            "error_y": {
             "color": "#2a3f5f"
            },
            "marker": {
             "line": {
              "color": "white",
              "width": 0.5
             },
             "pattern": {
              "fillmode": "overlay",
              "size": 10,
              "solidity": 0.2
             }
            },
            "type": "bar"
           }
          ],
          "barpolar": [
           {
            "marker": {
             "line": {
              "color": "white",
              "width": 0.5
             },
             "pattern": {
              "fillmode": "overlay",
              "size": 10,
              "solidity": 0.2
             }
            },
            "type": "barpolar"
           }
          ],
          "carpet": [
           {
            "aaxis": {
             "endlinecolor": "#2a3f5f",
             "gridcolor": "#C8D4E3",
             "linecolor": "#C8D4E3",
             "minorgridcolor": "#C8D4E3",
             "startlinecolor": "#2a3f5f"
            },
            "baxis": {
             "endlinecolor": "#2a3f5f",
             "gridcolor": "#C8D4E3",
             "linecolor": "#C8D4E3",
             "minorgridcolor": "#C8D4E3",
             "startlinecolor": "#2a3f5f"
            },
            "type": "carpet"
           }
          ],
          "choropleth": [
           {
            "colorbar": {
             "outlinewidth": 0,
             "ticks": ""
            },
            "type": "choropleth"
           }
          ],
          "contour": [
           {
            "colorbar": {
             "outlinewidth": 0,
             "ticks": ""
            },
            "colorscale": [
             [
              0,
              "#0d0887"
             ],
             [
              0.1111111111111111,
              "#46039f"
             ],
             [
              0.2222222222222222,
              "#7201a8"
             ],
             [
              0.3333333333333333,
              "#9c179e"
             ],
             [
              0.4444444444444444,
              "#bd3786"
             ],
             [
              0.5555555555555556,
              "#d8576b"
             ],
             [
              0.6666666666666666,
              "#ed7953"
             ],
             [
              0.7777777777777778,
              "#fb9f3a"
             ],
             [
              0.8888888888888888,
              "#fdca26"
             ],
             [
              1,
              "#f0f921"
             ]
            ],
            "type": "contour"
           }
          ],
          "contourcarpet": [
           {
            "colorbar": {
             "outlinewidth": 0,
             "ticks": ""
            },
            "type": "contourcarpet"
           }
          ],
          "heatmap": [
           {
            "colorbar": {
             "outlinewidth": 0,
             "ticks": ""
            },
            "colorscale": [
             [
              0,
              "#0d0887"
             ],
             [
              0.1111111111111111,
              "#46039f"
             ],
             [
              0.2222222222222222,
              "#7201a8"
             ],
             [
              0.3333333333333333,
              "#9c179e"
             ],
             [
              0.4444444444444444,
              "#bd3786"
             ],
             [
              0.5555555555555556,
              "#d8576b"
             ],
             [
              0.6666666666666666,
              "#ed7953"
             ],
             [
              0.7777777777777778,
              "#fb9f3a"
             ],
             [
              0.8888888888888888,
              "#fdca26"
             ],
             [
              1,
              "#f0f921"
             ]
            ],
            "type": "heatmap"
           }
          ],
          "histogram": [
           {
            "marker": {
             "pattern": {
              "fillmode": "overlay",
              "size": 10,
              "solidity": 0.2
             }
            },
            "type": "histogram"
           }
          ],
          "histogram2d": [
           {
            "colorbar": {
             "outlinewidth": 0,
             "ticks": ""
            },
            "colorscale": [
             [
              0,
              "#0d0887"
             ],
             [
              0.1111111111111111,
              "#46039f"
             ],
             [
              0.2222222222222222,
              "#7201a8"
             ],
             [
              0.3333333333333333,
              "#9c179e"
             ],
             [
              0.4444444444444444,
              "#bd3786"
             ],
             [
              0.5555555555555556,
              "#d8576b"
             ],
             [
              0.6666666666666666,
              "#ed7953"
             ],
             [
              0.7777777777777778,
              "#fb9f3a"
             ],
             [
              0.8888888888888888,
              "#fdca26"
             ],
             [
              1,
              "#f0f921"
             ]
            ],
            "type": "histogram2d"
           }
          ],
          "histogram2dcontour": [
           {
            "colorbar": {
             "outlinewidth": 0,
             "ticks": ""
            },
            "colorscale": [
             [
              0,
              "#0d0887"
             ],
             [
              0.1111111111111111,
              "#46039f"
             ],
             [
              0.2222222222222222,
              "#7201a8"
             ],
             [
              0.3333333333333333,
              "#9c179e"
             ],
             [
              0.4444444444444444,
              "#bd3786"
             ],
             [
              0.5555555555555556,
              "#d8576b"
             ],
             [
              0.6666666666666666,
              "#ed7953"
             ],
             [
              0.7777777777777778,
              "#fb9f3a"
             ],
             [
              0.8888888888888888,
              "#fdca26"
             ],
             [
              1,
              "#f0f921"
             ]
            ],
            "type": "histogram2dcontour"
           }
          ],
          "mesh3d": [
           {
            "colorbar": {
             "outlinewidth": 0,
             "ticks": ""
            },
            "type": "mesh3d"
           }
          ],
          "parcoords": [
           {
            "line": {
             "colorbar": {
              "outlinewidth": 0,
              "ticks": ""
             }
            },
            "type": "parcoords"
           }
          ],
          "pie": [
           {
            "automargin": true,
            "type": "pie"
           }
          ],
          "scatter": [
           {
            "fillpattern": {
             "fillmode": "overlay",
             "size": 10,
             "solidity": 0.2
            },
            "type": "scatter"
           }
          ],
          "scatter3d": [
           {
            "line": {
             "colorbar": {
              "outlinewidth": 0,
              "ticks": ""
             }
            },
            "marker": {
             "colorbar": {
              "outlinewidth": 0,
              "ticks": ""
             }
            },
            "type": "scatter3d"
           }
          ],
          "scattercarpet": [
           {
            "marker": {
             "colorbar": {
              "outlinewidth": 0,
              "ticks": ""
             }
            },
            "type": "scattercarpet"
           }
          ],
          "scattergeo": [
           {
            "marker": {
             "colorbar": {
              "outlinewidth": 0,
              "ticks": ""
             }
            },
            "type": "scattergeo"
           }
          ],
          "scattergl": [
           {
            "marker": {
             "colorbar": {
              "outlinewidth": 0,
              "ticks": ""
             }
            },
            "type": "scattergl"
           }
          ],
          "scattermap": [
           {
            "marker": {
             "colorbar": {
              "outlinewidth": 0,
              "ticks": ""
             }
            },
            "type": "scattermap"
           }
          ],
          "scattermapbox": [
           {
            "marker": {
             "colorbar": {
              "outlinewidth": 0,
              "ticks": ""
             }
            },
            "type": "scattermapbox"
           }
          ],
          "scatterpolar": [
           {
            "marker": {
             "colorbar": {
              "outlinewidth": 0,
              "ticks": ""
             }
            },
            "type": "scatterpolar"
           }
          ],
          "scatterpolargl": [
           {
            "marker": {
             "colorbar": {
              "outlinewidth": 0,
              "ticks": ""
             }
            },
            "type": "scatterpolargl"
           }
          ],
          "scatterternary": [
           {
            "marker": {
             "colorbar": {
              "outlinewidth": 0,
              "ticks": ""
             }
            },
            "type": "scatterternary"
           }
          ],
          "surface": [
           {
            "colorbar": {
             "outlinewidth": 0,
             "ticks": ""
            },
            "colorscale": [
             [
              0,
              "#0d0887"
             ],
             [
              0.1111111111111111,
              "#46039f"
             ],
             [
              0.2222222222222222,
              "#7201a8"
             ],
             [
              0.3333333333333333,
              "#9c179e"
             ],
             [
              0.4444444444444444,
              "#bd3786"
             ],
             [
              0.5555555555555556,
              "#d8576b"
             ],
             [
              0.6666666666666666,
              "#ed7953"
             ],
             [
              0.7777777777777778,
              "#fb9f3a"
             ],
             [
              0.8888888888888888,
              "#fdca26"
             ],
             [
              1,
              "#f0f921"
             ]
            ],
            "type": "surface"
           }
          ],
          "table": [
           {
            "cells": {
             "fill": {
              "color": "#EBF0F8"
             },
             "line": {
              "color": "white"
             }
            },
            "header": {
             "fill": {
              "color": "#C8D4E3"
             },
             "line": {
              "color": "white"
             }
            },
            "type": "table"
           }
          ]
         },
         "layout": {
          "annotationdefaults": {
           "arrowcolor": "#2a3f5f",
           "arrowhead": 0,
           "arrowwidth": 1
          },
          "autotypenumbers": "strict",
          "coloraxis": {
           "colorbar": {
            "outlinewidth": 0,
            "ticks": ""
           }
          },
          "colorscale": {
           "diverging": [
            [
             0,
             "#8e0152"
            ],
            [
             0.1,
             "#c51b7d"
            ],
            [
             0.2,
             "#de77ae"
            ],
            [
             0.3,
             "#f1b6da"
            ],
            [
             0.4,
             "#fde0ef"
            ],
            [
             0.5,
             "#f7f7f7"
            ],
            [
             0.6,
             "#e6f5d0"
            ],
            [
             0.7,
             "#b8e186"
            ],
            [
             0.8,
             "#7fbc41"
            ],
            [
             0.9,
             "#4d9221"
            ],
            [
             1,
             "#276419"
            ]
           ],
           "sequential": [
            [
             0,
             "#0d0887"
            ],
            [
             0.1111111111111111,
             "#46039f"
            ],
            [
             0.2222222222222222,
             "#7201a8"
            ],
            [
             0.3333333333333333,
             "#9c179e"
            ],
            [
             0.4444444444444444,
             "#bd3786"
            ],
            [
             0.5555555555555556,
             "#d8576b"
            ],
            [
             0.6666666666666666,
             "#ed7953"
            ],
            [
             0.7777777777777778,
             "#fb9f3a"
            ],
            [
             0.8888888888888888,
             "#fdca26"
            ],
            [
             1,
             "#f0f921"
            ]
           ],
           "sequentialminus": [
            [
             0,
             "#0d0887"
            ],
            [
             0.1111111111111111,
             "#46039f"
            ],
            [
             0.2222222222222222,
             "#7201a8"
            ],
            [
             0.3333333333333333,
             "#9c179e"
            ],
            [
             0.4444444444444444,
             "#bd3786"
            ],
            [
             0.5555555555555556,
             "#d8576b"
            ],
            [
             0.6666666666666666,
             "#ed7953"
            ],
            [
             0.7777777777777778,
             "#fb9f3a"
            ],
            [
             0.8888888888888888,
             "#fdca26"
            ],
            [
             1,
             "#f0f921"
            ]
           ]
          },
          "colorway": [
           "#636efa",
           "#EF553B",
           "#00cc96",
           "#ab63fa",
           "#FFA15A",
           "#19d3f3",
           "#FF6692",
           "#B6E880",
           "#FF97FF",
           "#FECB52"
          ],
          "font": {
           "color": "#2a3f5f"
          },
          "geo": {
           "bgcolor": "white",
           "lakecolor": "white",
           "landcolor": "white",
           "showlakes": true,
           "showland": true,
           "subunitcolor": "#C8D4E3"
          },
          "hoverlabel": {
           "align": "left"
          },
          "hovermode": "closest",
          "mapbox": {
           "style": "light"
          },
          "paper_bgcolor": "white",
          "plot_bgcolor": "white",
          "polar": {
           "angularaxis": {
            "gridcolor": "#EBF0F8",
            "linecolor": "#EBF0F8",
            "ticks": ""
           },
           "bgcolor": "white",
           "radialaxis": {
            "gridcolor": "#EBF0F8",
            "linecolor": "#EBF0F8",
            "ticks": ""
           }
          },
          "scene": {
           "xaxis": {
            "backgroundcolor": "white",
            "gridcolor": "#DFE8F3",
            "gridwidth": 2,
            "linecolor": "#EBF0F8",
            "showbackground": true,
            "ticks": "",
            "zerolinecolor": "#EBF0F8"
           },
           "yaxis": {
            "backgroundcolor": "white",
            "gridcolor": "#DFE8F3",
            "gridwidth": 2,
            "linecolor": "#EBF0F8",
            "showbackground": true,
            "ticks": "",
            "zerolinecolor": "#EBF0F8"
           },
           "zaxis": {
            "backgroundcolor": "white",
            "gridcolor": "#DFE8F3",
            "gridwidth": 2,
            "linecolor": "#EBF0F8",
            "showbackground": true,
            "ticks": "",
            "zerolinecolor": "#EBF0F8"
           }
          },
          "shapedefaults": {
           "line": {
            "color": "#2a3f5f"
           }
          },
          "ternary": {
           "aaxis": {
            "gridcolor": "#DFE8F3",
            "linecolor": "#A2B1C6",
            "ticks": ""
           },
           "baxis": {
            "gridcolor": "#DFE8F3",
            "linecolor": "#A2B1C6",
            "ticks": ""
           },
           "bgcolor": "white",
           "caxis": {
            "gridcolor": "#DFE8F3",
            "linecolor": "#A2B1C6",
            "ticks": ""
           }
          },
          "title": {
           "x": 0.05
          },
          "xaxis": {
           "automargin": true,
           "gridcolor": "#EBF0F8",
           "linecolor": "#EBF0F8",
           "ticks": "",
           "title": {
            "standoff": 15
           },
           "zerolinecolor": "#EBF0F8",
           "zerolinewidth": 2
          },
          "yaxis": {
           "automargin": true,
           "gridcolor": "#EBF0F8",
           "linecolor": "#EBF0F8",
           "ticks": "",
           "title": {
            "standoff": 15
           },
           "zerolinecolor": "#EBF0F8",
           "zerolinewidth": 2
          }
         }
        },
        "title": {
         "text": "Transportation fleet expansion in ON by vehicle class and drivetrain",
         "x": 0.5,
         "xanchor": "center",
         "y": 0.97,
         "yanchor": "top"
        },
        "width": 1000,
        "xaxis": {
         "anchor": "y",
         "domain": [
          0,
          1
         ],
         "title": {
          "text": ""
         }
        },
        "yaxis": {
         "anchor": "x",
         "domain": [
          0,
          1
         ],
         "dtick": 500,
         "title": {
          "standoff": 0,
          "text": "New vehicles (k units)"
         }
        }
       }
      }
     },
     "metadata": {},
     "output_type": "display_data"
    }
   ],
   "source": [
    "ref_fig = ref_trnnewcap[ref_trnnewcap['Vehicle Class'].isin(['LD Car', 'LD Truck'])][['Period', 'Vehicle Class', 'New Capacity', 'Carrier']].groupby(['Period', 'Vehicle Class', 'Carrier'], as_index=False).sum()\n",
    "ref_fig['New Capacity (M units)'] = ref_fig['New Capacity']/1E3\n",
    "\n",
    "ref_fig['Carrier'] = pd.Categorical(ref_fig['Carrier'], categories=drivetrain_order, ordered=True)\n",
    "ref_fig = ref_fig.sort_values(['Carrier', 'Period'])\n",
    "\n",
    "fig = px.bar(ref_fig, \n",
    "             x='Vehicle Class', \n",
    "             y='New Capacity', \n",
    "             color='Carrier', \n",
    "             barmode='stack', \n",
    "             facet_col='Period',\n",
    "             facet_col_spacing=2E-2,\n",
    "             template='plotly_white',\n",
    "             color_discrete_sequence=px.colors.qualitative.G10[:7] + px.colors.qualitative.G10[8:],\n",
    "             text_auto='.1f',\n",
    "             width=1000, height=650,\n",
    "             )\n",
    "\n",
    "fig.update_layout(title=dict(\n",
    "        text='Transportation fleet expansion in ON by vehicle class and drivetrain',\n",
    "        x=0.5, \n",
    "        y=0.97,\n",
    "        xanchor='center',\n",
    "        yanchor='top'\n",
    "    ),\n",
    "    xaxis=dict(title='Period'),\n",
    "    yaxis=dict(title='New vehicles (k units)',\n",
    "               dtick=500),\n",
    "    yaxis_title_standoff=0,\n",
    "    legend_title_text='',\n",
    "    bargap=0.1,\n",
    "    legend=dict(\n",
    "        orientation='h',  \n",
    "        yanchor='top',\n",
    "        y=1.03,  \n",
    "        xanchor='center',\n",
    "        x=0.5),\n",
    "    font=dict(\n",
    "        # family=\"Open Sans\",\n",
    "        size=14)\n",
    "    )\n",
    "\n",
    "for annotation in fig.layout.annotations:\n",
    "    annotation.text = annotation.text.split('=')[1]\n",
    "    annotation.y = -0.08  \n",
    "    annotation.yanchor = 'top' \n",
    "\n",
    "for axis in fig.layout:\n",
    "    if axis.startswith('xaxis'):\n",
    "        fig.layout[axis].title.text = ''\n",
    "\n",
    "fig.for_each_trace(lambda trace: trace.update(textfont=dict(size=9)))\n",
    "\n",
    "fig.show()"
   ]
  },
  {
   "cell_type": "code",
   "execution_count": 25,
   "metadata": {},
   "outputs": [
    {
     "data": {
      "application/vnd.plotly.v1+json": {
       "config": {
        "plotlyServerURL": "https://plot.ly"
       },
       "data": [
        {
         "hovertemplate": "Carrier=Gasoline<br>Period=2021<br>Vehicle Class=%{x}<br>New Capacity=%{y}<extra></extra>",
         "legendgroup": "Gasoline",
         "marker": {
          "color": "#3366CC",
          "pattern": {
           "shape": ""
          }
         },
         "name": "Gasoline",
         "orientation": "v",
         "showlegend": true,
         "textfont": {
          "size": 9
         },
         "textposition": "auto",
         "texttemplate": "%{y:.1f}",
         "type": "bar",
         "x": [
          "Bus",
          "MD Truck"
         ],
         "xaxis": "x",
         "y": {
          "bdata": "Golu+x2UzT9xFeFj5I4pQA==",
          "dtype": "f8"
         },
         "yaxis": "y"
        },
        {
         "hovertemplate": "Carrier=Gasoline<br>Period=2025<br>Vehicle Class=%{x}<br>New Capacity=%{y}<extra></extra>",
         "legendgroup": "Gasoline",
         "marker": {
          "color": "#3366CC",
          "pattern": {
           "shape": ""
          }
         },
         "name": "Gasoline",
         "orientation": "v",
         "showlegend": false,
         "textfont": {
          "size": 9
         },
         "textposition": "auto",
         "texttemplate": "%{y:.1f}",
         "type": "bar",
         "x": [
          "Bus",
          "MD Truck"
         ],
         "xaxis": "x2",
         "y": {
          "bdata": "ZE3z2nNdaD/wb054ZGYdQA==",
          "dtype": "f8"
         },
         "yaxis": "y2"
        },
        {
         "hovertemplate": "Carrier=Gasoline<br>Period=2030<br>Vehicle Class=%{x}<br>New Capacity=%{y}<extra></extra>",
         "legendgroup": "Gasoline",
         "marker": {
          "color": "#3366CC",
          "pattern": {
           "shape": ""
          }
         },
         "name": "Gasoline",
         "orientation": "v",
         "showlegend": false,
         "textfont": {
          "size": 9
         },
         "textposition": "auto",
         "texttemplate": "%{y:.1f}",
         "type": "bar",
         "x": [
          "Bus",
          "MD Truck"
         ],
         "xaxis": "x3",
         "y": {
          "bdata": "jclZgWeIYz+theQBjPspQA==",
          "dtype": "f8"
         },
         "yaxis": "y3"
        },
        {
         "hovertemplate": "Carrier=Gasoline<br>Period=2035<br>Vehicle Class=%{x}<br>New Capacity=%{y}<extra></extra>",
         "legendgroup": "Gasoline",
         "marker": {
          "color": "#3366CC",
          "pattern": {
           "shape": ""
          }
         },
         "name": "Gasoline",
         "orientation": "v",
         "showlegend": false,
         "textfont": {
          "size": 9
         },
         "textposition": "auto",
         "texttemplate": "%{y:.1f}",
         "type": "bar",
         "x": [
          "Bus",
          "MD Truck"
         ],
         "xaxis": "x4",
         "y": {
          "bdata": "3htCRWd6JD/F5fg7iSRQQA==",
          "dtype": "f8"
         },
         "yaxis": "y4"
        },
        {
         "hovertemplate": "Carrier=Gasoline<br>Period=2040<br>Vehicle Class=%{x}<br>New Capacity=%{y}<extra></extra>",
         "legendgroup": "Gasoline",
         "marker": {
          "color": "#3366CC",
          "pattern": {
           "shape": ""
          }
         },
         "name": "Gasoline",
         "orientation": "v",
         "showlegend": false,
         "textfont": {
          "size": 9
         },
         "textposition": "auto",
         "texttemplate": "%{y:.1f}",
         "type": "bar",
         "x": [
          "Bus",
          "MD Truck"
         ],
         "xaxis": "x5",
         "y": {
          "bdata": "8ImG0qT2Cj98VloHZckpQA==",
          "dtype": "f8"
         },
         "yaxis": "y5"
        },
        {
         "hovertemplate": "Carrier=Gasoline<br>Period=2045<br>Vehicle Class=%{x}<br>New Capacity=%{y}<extra></extra>",
         "legendgroup": "Gasoline",
         "marker": {
          "color": "#3366CC",
          "pattern": {
           "shape": ""
          }
         },
         "name": "Gasoline",
         "orientation": "v",
         "showlegend": false,
         "textfont": {
          "size": 9
         },
         "textposition": "auto",
         "texttemplate": "%{y:.1f}",
         "type": "bar",
         "x": [
          "Bus",
          "MD Truck"
         ],
         "xaxis": "x6",
         "y": {
          "bdata": "LFy5KIv79D/WwWXeN7wiQA==",
          "dtype": "f8"
         },
         "yaxis": "y6"
        },
        {
         "hovertemplate": "Carrier=Gasoline<br>Period=2050<br>Vehicle Class=%{x}<br>New Capacity=%{y}<extra></extra>",
         "legendgroup": "Gasoline",
         "marker": {
          "color": "#3366CC",
          "pattern": {
           "shape": ""
          }
         },
         "name": "Gasoline",
         "orientation": "v",
         "showlegend": false,
         "textfont": {
          "size": 9
         },
         "textposition": "auto",
         "texttemplate": "%{y:.1f}",
         "type": "bar",
         "x": [
          "Bus",
          "MD Truck"
         ],
         "xaxis": "x7",
         "y": {
          "bdata": "PND1jmrJ7z8fyzqsO6BJQA==",
          "dtype": "f8"
         },
         "yaxis": "y7"
        },
        {
         "hovertemplate": "Carrier=Diesel<br>Period=2021<br>Vehicle Class=%{x}<br>New Capacity=%{y}<extra></extra>",
         "legendgroup": "Diesel",
         "marker": {
          "color": "#DC3912",
          "pattern": {
           "shape": ""
          }
         },
         "name": "Diesel",
         "orientation": "v",
         "showlegend": true,
         "textfont": {
          "size": 9
         },
         "textposition": "auto",
         "texttemplate": "%{y:.1f}",
         "type": "bar",
         "x": [
          "Bus",
          "HD Truck",
          "MD Truck"
         ],
         "xaxis": "x",
         "y": {
          "bdata": "p8L1nk9LA0Dp3tWlRKckQMcLTQ6tXzRA",
          "dtype": "f8"
         },
         "yaxis": "y"
        },
        {
         "hovertemplate": "Carrier=Diesel<br>Period=2025<br>Vehicle Class=%{x}<br>New Capacity=%{y}<extra></extra>",
         "legendgroup": "Diesel",
         "marker": {
          "color": "#DC3912",
          "pattern": {
           "shape": ""
          }
         },
         "name": "Diesel",
         "orientation": "v",
         "showlegend": false,
         "textfont": {
          "size": 9
         },
         "textposition": "auto",
         "texttemplate": "%{y:.1f}",
         "type": "bar",
         "x": [
          "Bus",
          "HD Truck",
          "MD Truck"
         ],
         "xaxis": "x2",
         "y": {
          "bdata": "xc8xyL5U4D/cLByiFOA1QOx6OmbIbSdA",
          "dtype": "f8"
         },
         "yaxis": "y2"
        },
        {
         "hovertemplate": "Carrier=Diesel<br>Period=2030<br>Vehicle Class=%{x}<br>New Capacity=%{y}<extra></extra>",
         "legendgroup": "Diesel",
         "marker": {
          "color": "#DC3912",
          "pattern": {
           "shape": ""
          }
         },
         "name": "Diesel",
         "orientation": "v",
         "showlegend": false,
         "textfont": {
          "size": 9
         },
         "textposition": "auto",
         "texttemplate": "%{y:.1f}",
         "type": "bar",
         "x": [
          "Bus",
          "HD Truck",
          "MD Truck"
         ],
         "xaxis": "x3",
         "y": {
          "bdata": "vK6PRsol9D80kjkbLVJCQItFY88ctjRA",
          "dtype": "f8"
         },
         "yaxis": "y3"
        },
        {
         "hovertemplate": "Carrier=Diesel<br>Period=2035<br>Vehicle Class=%{x}<br>New Capacity=%{y}<extra></extra>",
         "legendgroup": "Diesel",
         "marker": {
          "color": "#DC3912",
          "pattern": {
           "shape": ""
          }
         },
         "name": "Diesel",
         "orientation": "v",
         "showlegend": false,
         "textfont": {
          "size": 9
         },
         "textposition": "auto",
         "texttemplate": "%{y:.1f}",
         "type": "bar",
         "x": [
          "Bus",
          "HD Truck",
          "MD Truck"
         ],
         "xaxis": "x4",
         "y": {
          "bdata": "pQH8qyyY8D9yIpo6k4NCQOsDYx+HXFdA",
          "dtype": "f8"
         },
         "yaxis": "y4"
        },
        {
         "hovertemplate": "Carrier=Diesel<br>Period=2040<br>Vehicle Class=%{x}<br>New Capacity=%{y}<extra></extra>",
         "legendgroup": "Diesel",
         "marker": {
          "color": "#DC3912",
          "pattern": {
           "shape": ""
          }
         },
         "name": "Diesel",
         "orientation": "v",
         "showlegend": false,
         "textfont": {
          "size": 9
         },
         "textposition": "auto",
         "texttemplate": "%{y:.1f}",
         "type": "bar",
         "x": [
          "Bus",
          "HD Truck",
          "MD Truck"
         ],
         "xaxis": "x5",
         "y": {
          "bdata": "wZrRTa6npT+uD5BiH79IQJkVECFkBT5A",
          "dtype": "f8"
         },
         "yaxis": "y5"
        },
        {
         "hovertemplate": "Carrier=Diesel<br>Period=2045<br>Vehicle Class=%{x}<br>New Capacity=%{y}<extra></extra>",
         "legendgroup": "Diesel",
         "marker": {
          "color": "#DC3912",
          "pattern": {
           "shape": ""
          }
         },
         "name": "Diesel",
         "orientation": "v",
         "showlegend": false,
         "textfont": {
          "size": 9
         },
         "textposition": "auto",
         "texttemplate": "%{y:.1f}",
         "type": "bar",
         "x": [
          "Bus",
          "HD Truck",
          "MD Truck"
         ],
         "xaxis": "x6",
         "y": {
          "bdata": "7peaiioVkD+BsIQjj888QJMxIiiw4y1A",
          "dtype": "f8"
         },
         "yaxis": "y6"
        },
        {
         "hovertemplate": "Carrier=Diesel<br>Period=2050<br>Vehicle Class=%{x}<br>New Capacity=%{y}<extra></extra>",
         "legendgroup": "Diesel",
         "marker": {
          "color": "#DC3912",
          "pattern": {
           "shape": ""
          }
         },
         "name": "Diesel",
         "orientation": "v",
         "showlegend": false,
         "textfont": {
          "size": 9
         },
         "textposition": "auto",
         "texttemplate": "%{y:.1f}",
         "type": "bar",
         "x": [
          "Bus",
          "HD Truck",
          "MD Truck"
         ],
         "xaxis": "x7",
         "y": {
          "bdata": "gP6qDGMbUD937ORgXbtDQMZB6A9WiFJA",
          "dtype": "f8"
         },
         "yaxis": "y7"
        },
        {
         "hovertemplate": "Carrier=CNG<br>Period=2021<br>Vehicle Class=%{x}<br>New Capacity=%{y}<extra></extra>",
         "legendgroup": "CNG",
         "marker": {
          "color": "#FF9900",
          "pattern": {
           "shape": ""
          }
         },
         "name": "CNG",
         "orientation": "v",
         "showlegend": true,
         "textfont": {
          "size": 9
         },
         "textposition": "auto",
         "texttemplate": "%{y:.1f}",
         "type": "bar",
         "x": [
          "Bus"
         ],
         "xaxis": "x",
         "y": {
          "bdata": "VP99BeSTzT8=",
          "dtype": "f8"
         },
         "yaxis": "y"
        },
        {
         "hovertemplate": "Carrier=CNG<br>Period=2025<br>Vehicle Class=%{x}<br>New Capacity=%{y}<extra></extra>",
         "legendgroup": "CNG",
         "marker": {
          "color": "#FF9900",
          "pattern": {
           "shape": ""
          }
         },
         "name": "CNG",
         "orientation": "v",
         "showlegend": false,
         "textfont": {
          "size": 9
         },
         "textposition": "auto",
         "texttemplate": "%{y:.1f}",
         "type": "bar",
         "x": [
          "Bus"
         ],
         "xaxis": "x2",
         "y": {
          "bdata": "/yryIJHtZz8=",
          "dtype": "f8"
         },
         "yaxis": "y2"
        },
        {
         "hovertemplate": "Carrier=CNG<br>Period=2030<br>Vehicle Class=%{x}<br>New Capacity=%{y}<extra></extra>",
         "legendgroup": "CNG",
         "marker": {
          "color": "#FF9900",
          "pattern": {
           "shape": ""
          }
         },
         "name": "CNG",
         "orientation": "v",
         "showlegend": false,
         "textfont": {
          "size": 9
         },
         "textposition": "auto",
         "texttemplate": "%{y:.1f}",
         "type": "bar",
         "x": [
          "Bus"
         ],
         "xaxis": "x3",
         "y": {
          "bdata": "Atlg+5hRXT8=",
          "dtype": "f8"
         },
         "yaxis": "y3"
        },
        {
         "hovertemplate": "Carrier=CNG<br>Period=2035<br>Vehicle Class=%{x}<br>New Capacity=%{y}<extra></extra>",
         "legendgroup": "CNG",
         "marker": {
          "color": "#FF9900",
          "pattern": {
           "shape": ""
          }
         },
         "name": "CNG",
         "orientation": "v",
         "showlegend": false,
         "textfont": {
          "size": 9
         },
         "textposition": "auto",
         "texttemplate": "%{y:.1f}",
         "type": "bar",
         "x": [
          "Bus"
         ],
         "xaxis": "x4",
         "y": {
          "bdata": "AAAAAAAAAAA=",
          "dtype": "f8"
         },
         "yaxis": "y4"
        },
        {
         "hovertemplate": "Carrier=CNG<br>Period=2040<br>Vehicle Class=%{x}<br>New Capacity=%{y}<extra></extra>",
         "legendgroup": "CNG",
         "marker": {
          "color": "#FF9900",
          "pattern": {
           "shape": ""
          }
         },
         "name": "CNG",
         "orientation": "v",
         "showlegend": false,
         "textfont": {
          "size": 9
         },
         "textposition": "auto",
         "texttemplate": "%{y:.1f}",
         "type": "bar",
         "x": [
          "Bus"
         ],
         "xaxis": "x5",
         "y": {
          "bdata": "AAAAAAAAAAA=",
          "dtype": "f8"
         },
         "yaxis": "y5"
        },
        {
         "hovertemplate": "Carrier=CNG<br>Period=2045<br>Vehicle Class=%{x}<br>New Capacity=%{y}<extra></extra>",
         "legendgroup": "CNG",
         "marker": {
          "color": "#FF9900",
          "pattern": {
           "shape": ""
          }
         },
         "name": "CNG",
         "orientation": "v",
         "showlegend": false,
         "textfont": {
          "size": 9
         },
         "textposition": "auto",
         "texttemplate": "%{y:.1f}",
         "type": "bar",
         "x": [
          "Bus"
         ],
         "xaxis": "x6",
         "y": {
          "bdata": "AAAAAAAAAAA=",
          "dtype": "f8"
         },
         "yaxis": "y6"
        },
        {
         "hovertemplate": "Carrier=CNG<br>Period=2050<br>Vehicle Class=%{x}<br>New Capacity=%{y}<extra></extra>",
         "legendgroup": "CNG",
         "marker": {
          "color": "#FF9900",
          "pattern": {
           "shape": ""
          }
         },
         "name": "CNG",
         "orientation": "v",
         "showlegend": false,
         "textfont": {
          "size": 9
         },
         "textposition": "auto",
         "texttemplate": "%{y:.1f}",
         "type": "bar",
         "x": [
          "Bus"
         ],
         "xaxis": "x7",
         "y": {
          "bdata": "AAAAAAAAAAA=",
          "dtype": "f8"
         },
         "yaxis": "y7"
        },
        {
         "hovertemplate": "Carrier=HEV<br>Period=2021<br>Vehicle Class=%{x}<br>New Capacity=%{y}<extra></extra>",
         "legendgroup": "HEV",
         "marker": {
          "color": "#109618",
          "pattern": {
           "shape": ""
          }
         },
         "name": "HEV",
         "orientation": "v",
         "showlegend": true,
         "textfont": {
          "size": 9
         },
         "textposition": "auto",
         "texttemplate": "%{y:.1f}",
         "type": "bar",
         "x": [
          "Bus",
          "HD Truck",
          "MD Truck"
         ],
         "xaxis": "x",
         "y": {
          "bdata": "WFZVBHWTzT8AAAAAAAAAAAAAAAAAAAAA",
          "dtype": "f8"
         },
         "yaxis": "y"
        },
        {
         "hovertemplate": "Carrier=HEV<br>Period=2025<br>Vehicle Class=%{x}<br>New Capacity=%{y}<extra></extra>",
         "legendgroup": "HEV",
         "marker": {
          "color": "#109618",
          "pattern": {
           "shape": ""
          }
         },
         "name": "HEV",
         "orientation": "v",
         "showlegend": false,
         "textfont": {
          "size": 9
         },
         "textposition": "auto",
         "texttemplate": "%{y:.1f}",
         "type": "bar",
         "x": [
          "Bus",
          "HD Truck",
          "MD Truck"
         ],
         "xaxis": "x2",
         "y": {
          "bdata": "GrEqRj0IaD8T847vArPcPwAAAAAAAAAA",
          "dtype": "f8"
         },
         "yaxis": "y2"
        },
        {
         "hovertemplate": "Carrier=HEV<br>Period=2030<br>Vehicle Class=%{x}<br>New Capacity=%{y}<extra></extra>",
         "legendgroup": "HEV",
         "marker": {
          "color": "#109618",
          "pattern": {
           "shape": ""
          }
         },
         "name": "HEV",
         "orientation": "v",
         "showlegend": false,
         "textfont": {
          "size": 9
         },
         "textposition": "auto",
         "texttemplate": "%{y:.1f}",
         "type": "bar",
         "x": [
          "Bus",
          "HD Truck",
          "MD Truck"
         ],
         "xaxis": "x3",
         "y": {
          "bdata": "wDgVUjhzYz/cBWlM1GEAQAAAAAAAAAAA",
          "dtype": "f8"
         },
         "yaxis": "y3"
        },
        {
         "hovertemplate": "Carrier=HEV<br>Period=2035<br>Vehicle Class=%{x}<br>New Capacity=%{y}<extra></extra>",
         "legendgroup": "HEV",
         "marker": {
          "color": "#109618",
          "pattern": {
           "shape": ""
          }
         },
         "name": "HEV",
         "orientation": "v",
         "showlegend": false,
         "textfont": {
          "size": 9
         },
         "textposition": "auto",
         "texttemplate": "%{y:.1f}",
         "type": "bar",
         "x": [
          "Bus",
          "HD Truck",
          "MD Truck"
         ],
         "xaxis": "x4",
         "y": {
          "bdata": "lEUX90NWFT8KFf1K9WgBQC6YiiU3DP4+",
          "dtype": "f8"
         },
         "yaxis": "y4"
        },
        {
         "hovertemplate": "Carrier=HEV<br>Period=2040<br>Vehicle Class=%{x}<br>New Capacity=%{y}<extra></extra>",
         "legendgroup": "HEV",
         "marker": {
          "color": "#109618",
          "pattern": {
           "shape": ""
          }
         },
         "name": "HEV",
         "orientation": "v",
         "showlegend": false,
         "textfont": {
          "size": 9
         },
         "textposition": "auto",
         "texttemplate": "%{y:.1f}",
         "type": "bar",
         "x": [
          "Bus",
          "HD Truck",
          "MD Truck"
         ],
         "xaxis": "x5",
         "y": {
          "bdata": "6Pjf2jCvDD80C7eutOrbP+Yv7LWTa+o+",
          "dtype": "f8"
         },
         "yaxis": "y5"
        },
        {
         "hovertemplate": "Carrier=HEV<br>Period=2045<br>Vehicle Class=%{x}<br>New Capacity=%{y}<extra></extra>",
         "legendgroup": "HEV",
         "marker": {
          "color": "#109618",
          "pattern": {
           "shape": ""
          }
         },
         "name": "HEV",
         "orientation": "v",
         "showlegend": false,
         "textfont": {
          "size": 9
         },
         "textposition": "auto",
         "texttemplate": "%{y:.1f}",
         "type": "bar",
         "x": [
          "Bus",
          "HD Truck",
          "MD Truck"
         ],
         "xaxis": "x6",
         "y": {
          "bdata": "+I1UjZm/5z5NBcbh5+TZP5lShdjt7+U+",
          "dtype": "f8"
         },
         "yaxis": "y6"
        },
        {
         "hovertemplate": "Carrier=HEV<br>Period=2050<br>Vehicle Class=%{x}<br>New Capacity=%{y}<extra></extra>",
         "legendgroup": "HEV",
         "marker": {
          "color": "#109618",
          "pattern": {
           "shape": ""
          }
         },
         "name": "HEV",
         "orientation": "v",
         "showlegend": false,
         "textfont": {
          "size": 9
         },
         "textposition": "auto",
         "texttemplate": "%{y:.1f}",
         "type": "bar",
         "x": [
          "Bus",
          "HD Truck",
          "MD Truck"
         ],
         "xaxis": "x7",
         "y": {
          "bdata": "DdHXNCuV6D5HvqmtsXTPPwAAAAAAAAAA",
          "dtype": "f8"
         },
         "yaxis": "y7"
        },
        {
         "hovertemplate": "Carrier=PHEV<br>Period=2021<br>Vehicle Class=%{x}<br>New Capacity=%{y}<extra></extra>",
         "legendgroup": "PHEV",
         "marker": {
          "color": "#990099",
          "pattern": {
           "shape": ""
          }
         },
         "name": "PHEV",
         "orientation": "v",
         "showlegend": true,
         "textfont": {
          "size": 9
         },
         "textposition": "auto",
         "texttemplate": "%{y:.1f}",
         "type": "bar",
         "x": [
          "Bus",
          "HD Truck",
          "MD Truck"
         ],
         "xaxis": "x",
         "y": {
          "bdata": "AAAAAAAAAAAAAAAAAAAAAAAAAAAAAAAA",
          "dtype": "f8"
         },
         "yaxis": "y"
        },
        {
         "hovertemplate": "Carrier=PHEV<br>Period=2025<br>Vehicle Class=%{x}<br>New Capacity=%{y}<extra></extra>",
         "legendgroup": "PHEV",
         "marker": {
          "color": "#990099",
          "pattern": {
           "shape": ""
          }
         },
         "name": "PHEV",
         "orientation": "v",
         "showlegend": false,
         "textfont": {
          "size": 9
         },
         "textposition": "auto",
         "texttemplate": "%{y:.1f}",
         "type": "bar",
         "x": [
          "Bus",
          "HD Truck",
          "MD Truck"
         ],
         "xaxis": "x2",
         "y": {
          "bdata": "AAAAAAAAAAAAAAAAAAAAAAAAAAAAAAAA",
          "dtype": "f8"
         },
         "yaxis": "y2"
        },
        {
         "hovertemplate": "Carrier=PHEV<br>Period=2030<br>Vehicle Class=%{x}<br>New Capacity=%{y}<extra></extra>",
         "legendgroup": "PHEV",
         "marker": {
          "color": "#990099",
          "pattern": {
           "shape": ""
          }
         },
         "name": "PHEV",
         "orientation": "v",
         "showlegend": false,
         "textfont": {
          "size": 9
         },
         "textposition": "auto",
         "texttemplate": "%{y:.1f}",
         "type": "bar",
         "x": [
          "Bus",
          "HD Truck",
          "MD Truck"
         ],
         "xaxis": "x3",
         "y": {
          "bdata": "r5p2TU2v5j4AAAAAAAAAAAAAAAAAAAAA",
          "dtype": "f8"
         },
         "yaxis": "y3"
        },
        {
         "hovertemplate": "Carrier=PHEV<br>Period=2035<br>Vehicle Class=%{x}<br>New Capacity=%{y}<extra></extra>",
         "legendgroup": "PHEV",
         "marker": {
          "color": "#990099",
          "pattern": {
           "shape": ""
          }
         },
         "name": "PHEV",
         "orientation": "v",
         "showlegend": false,
         "textfont": {
          "size": 9
         },
         "textposition": "auto",
         "texttemplate": "%{y:.1f}",
         "type": "bar",
         "x": [
          "Bus",
          "HD Truck",
          "MD Truck"
         ],
         "xaxis": "x4",
         "y": {
          "bdata": "AAAAAAAAAAAAAAAAAAAAACz9goSkbA0/",
          "dtype": "f8"
         },
         "yaxis": "y4"
        },
        {
         "hovertemplate": "Carrier=PHEV<br>Period=2040<br>Vehicle Class=%{x}<br>New Capacity=%{y}<extra></extra>",
         "legendgroup": "PHEV",
         "marker": {
          "color": "#990099",
          "pattern": {
           "shape": ""
          }
         },
         "name": "PHEV",
         "orientation": "v",
         "showlegend": false,
         "textfont": {
          "size": 9
         },
         "textposition": "auto",
         "texttemplate": "%{y:.1f}",
         "type": "bar",
         "x": [
          "Bus",
          "HD Truck",
          "MD Truck"
         ],
         "xaxis": "x5",
         "y": {
          "bdata": "FDFFPf/L5j4AAAAAAAAAAMD2QVea5fI+",
          "dtype": "f8"
         },
         "yaxis": "y5"
        },
        {
         "hovertemplate": "Carrier=PHEV<br>Period=2045<br>Vehicle Class=%{x}<br>New Capacity=%{y}<extra></extra>",
         "legendgroup": "PHEV",
         "marker": {
          "color": "#990099",
          "pattern": {
           "shape": ""
          }
         },
         "name": "PHEV",
         "orientation": "v",
         "showlegend": false,
         "textfont": {
          "size": 9
         },
         "textposition": "auto",
         "texttemplate": "%{y:.1f}",
         "type": "bar",
         "x": [
          "Bus",
          "HD Truck",
          "MD Truck"
         ],
         "xaxis": "x6",
         "y": {
          "bdata": "g94SiHoC5T4AAAAAAAAAAAzIsMK8de4+",
          "dtype": "f8"
         },
         "yaxis": "y6"
        },
        {
         "hovertemplate": "Carrier=PHEV<br>Period=2050<br>Vehicle Class=%{x}<br>New Capacity=%{y}<extra></extra>",
         "legendgroup": "PHEV",
         "marker": {
          "color": "#990099",
          "pattern": {
           "shape": ""
          }
         },
         "name": "PHEV",
         "orientation": "v",
         "showlegend": false,
         "textfont": {
          "size": 9
         },
         "textposition": "auto",
         "texttemplate": "%{y:.1f}",
         "type": "bar",
         "x": [
          "Bus",
          "HD Truck",
          "MD Truck"
         ],
         "xaxis": "x7",
         "y": {
          "bdata": "Q5I+MifT6D4AAAAAAAAAAMNFvOgOVek+",
          "dtype": "f8"
         },
         "yaxis": "y7"
        },
        {
         "hovertemplate": "Carrier=BEV<br>Period=2021<br>Vehicle Class=%{x}<br>New Capacity=%{y}<extra></extra>",
         "legendgroup": "BEV",
         "marker": {
          "color": "#0099C6",
          "pattern": {
           "shape": ""
          }
         },
         "name": "BEV",
         "orientation": "v",
         "showlegend": true,
         "textfont": {
          "size": 9
         },
         "textposition": "auto",
         "texttemplate": "%{y:.1f}",
         "type": "bar",
         "x": [
          "Bus",
          "HD Truck",
          "MD Truck"
         ],
         "xaxis": "x",
         "y": {
          "bdata": "9Ks6pVxq6T8AAAAAAAAAAAAAAAAAAAAA",
          "dtype": "f8"
         },
         "yaxis": "y"
        },
        {
         "hovertemplate": "Carrier=BEV<br>Period=2025<br>Vehicle Class=%{x}<br>New Capacity=%{y}<extra></extra>",
         "legendgroup": "BEV",
         "marker": {
          "color": "#0099C6",
          "pattern": {
           "shape": ""
          }
         },
         "name": "BEV",
         "orientation": "v",
         "showlegend": false,
         "textfont": {
          "size": 9
         },
         "textposition": "auto",
         "texttemplate": "%{y:.1f}",
         "type": "bar",
         "x": [
          "Bus",
          "HD Truck",
          "MD Truck"
         ],
         "xaxis": "x2",
         "y": {
          "bdata": "5KiWclT8BUAAAAAAAAAAABbbfOX7/wlA",
          "dtype": "f8"
         },
         "yaxis": "y2"
        },
        {
         "hovertemplate": "Carrier=BEV<br>Period=2030<br>Vehicle Class=%{x}<br>New Capacity=%{y}<extra></extra>",
         "legendgroup": "BEV",
         "marker": {
          "color": "#0099C6",
          "pattern": {
           "shape": ""
          }
         },
         "name": "BEV",
         "orientation": "v",
         "showlegend": false,
         "textfont": {
          "size": 9
         },
         "textposition": "auto",
         "texttemplate": "%{y:.1f}",
         "type": "bar",
         "x": [
          "Bus",
          "HD Truck",
          "MD Truck"
         ],
         "xaxis": "x3",
         "y": {
          "bdata": "BkbcN5zAKEDIirNQX4/2P2Ak81OelSNA",
          "dtype": "f8"
         },
         "yaxis": "y3"
        },
        {
         "hovertemplate": "Carrier=BEV<br>Period=2035<br>Vehicle Class=%{x}<br>New Capacity=%{y}<extra></extra>",
         "legendgroup": "BEV",
         "marker": {
          "color": "#0099C6",
          "pattern": {
           "shape": ""
          }
         },
         "name": "BEV",
         "orientation": "v",
         "showlegend": false,
         "textfont": {
          "size": 9
         },
         "textposition": "auto",
         "texttemplate": "%{y:.1f}",
         "type": "bar",
         "x": [
          "Bus",
          "HD Truck",
          "MD Truck"
         ],
         "xaxis": "x4",
         "y": {
          "bdata": "AM3Q78jDIUC372aHyp0JQH3XXyO7DkFA",
          "dtype": "f8"
         },
         "yaxis": "y4"
        },
        {
         "hovertemplate": "Carrier=BEV<br>Period=2040<br>Vehicle Class=%{x}<br>New Capacity=%{y}<extra></extra>",
         "legendgroup": "BEV",
         "marker": {
          "color": "#0099C6",
          "pattern": {
           "shape": ""
          }
         },
         "name": "BEV",
         "orientation": "v",
         "showlegend": false,
         "textfont": {
          "size": 9
         },
         "textposition": "auto",
         "texttemplate": "%{y:.1f}",
         "type": "bar",
         "x": [
          "Bus",
          "HD Truck",
          "MD Truck"
         ],
         "xaxis": "x5",
         "y": {
          "bdata": "zKPimA6CHkBWS64Y0vcXQKn4d6fXzUVA",
          "dtype": "f8"
         },
         "yaxis": "y5"
        },
        {
         "hovertemplate": "Carrier=BEV<br>Period=2045<br>Vehicle Class=%{x}<br>New Capacity=%{y}<extra></extra>",
         "legendgroup": "BEV",
         "marker": {
          "color": "#0099C6",
          "pattern": {
           "shape": ""
          }
         },
         "name": "BEV",
         "orientation": "v",
         "showlegend": false,
         "textfont": {
          "size": 9
         },
         "textposition": "auto",
         "texttemplate": "%{y:.1f}",
         "type": "bar",
         "x": [
          "Bus",
          "HD Truck",
          "MD Truck"
         ],
         "xaxis": "x6",
         "y": {
          "bdata": "bkYdVC/9KUBLW0KYh/36PxduQ4YaZkVA",
          "dtype": "f8"
         },
         "yaxis": "y6"
        },
        {
         "hovertemplate": "Carrier=BEV<br>Period=2050<br>Vehicle Class=%{x}<br>New Capacity=%{y}<extra></extra>",
         "legendgroup": "BEV",
         "marker": {
          "color": "#0099C6",
          "pattern": {
           "shape": ""
          }
         },
         "name": "BEV",
         "orientation": "v",
         "showlegend": false,
         "textfont": {
          "size": 9
         },
         "textposition": "auto",
         "texttemplate": "%{y:.1f}",
         "type": "bar",
         "x": [
          "Bus",
          "HD Truck",
          "MD Truck"
         ],
         "xaxis": "x7",
         "y": {
          "bdata": "5+uI1beoJEC6ZEVVUT4MQDQjyxGz7lRA",
          "dtype": "f8"
         },
         "yaxis": "y7"
        },
        {
         "hovertemplate": "Carrier=FCEV<br>Period=2021<br>Vehicle Class=%{x}<br>New Capacity=%{y}<extra></extra>",
         "legendgroup": "FCEV",
         "marker": {
          "color": "#DD4477",
          "pattern": {
           "shape": ""
          }
         },
         "name": "FCEV",
         "orientation": "v",
         "showlegend": true,
         "textfont": {
          "size": 9
         },
         "textposition": "auto",
         "texttemplate": "%{y:.1f}",
         "type": "bar",
         "x": [
          "Bus",
          "HD Truck",
          "MD Truck"
         ],
         "xaxis": "x",
         "y": {
          "bdata": "AAAAAAAAAAAAAAAAAAAAAAAAAAAAAAAA",
          "dtype": "f8"
         },
         "yaxis": "y"
        },
        {
         "hovertemplate": "Carrier=FCEV<br>Period=2025<br>Vehicle Class=%{x}<br>New Capacity=%{y}<extra></extra>",
         "legendgroup": "FCEV",
         "marker": {
          "color": "#DD4477",
          "pattern": {
           "shape": ""
          }
         },
         "name": "FCEV",
         "orientation": "v",
         "showlegend": false,
         "textfont": {
          "size": 9
         },
         "textposition": "auto",
         "texttemplate": "%{y:.1f}",
         "type": "bar",
         "x": [
          "Bus",
          "HD Truck",
          "MD Truck"
         ],
         "xaxis": "x2",
         "y": {
          "bdata": "2YYk7V87EkDyAGbSDePrPz1q0N6EdwRA",
          "dtype": "f8"
         },
         "yaxis": "y2"
        },
        {
         "hovertemplate": "Carrier=FCEV<br>Period=2030<br>Vehicle Class=%{x}<br>New Capacity=%{y}<extra></extra>",
         "legendgroup": "FCEV",
         "marker": {
          "color": "#DD4477",
          "pattern": {
           "shape": ""
          }
         },
         "name": "FCEV",
         "orientation": "v",
         "showlegend": false,
         "textfont": {
          "size": 9
         },
         "textposition": "auto",
         "texttemplate": "%{y:.1f}",
         "type": "bar",
         "x": [
          "Bus",
          "HD Truck",
          "MD Truck"
         ],
         "xaxis": "x3",
         "y": {
          "bdata": "kbv+gEuMrT/nLd96B0cFQO9CQKMlRBJA",
          "dtype": "f8"
         },
         "yaxis": "y3"
        },
        {
         "hovertemplate": "Carrier=FCEV<br>Period=2035<br>Vehicle Class=%{x}<br>New Capacity=%{y}<extra></extra>",
         "legendgroup": "FCEV",
         "marker": {
          "color": "#DD4477",
          "pattern": {
           "shape": ""
          }
         },
         "name": "FCEV",
         "orientation": "v",
         "showlegend": false,
         "textfont": {
          "size": 9
         },
         "textposition": "auto",
         "texttemplate": "%{y:.1f}",
         "type": "bar",
         "x": [
          "Bus",
          "HD Truck",
          "MD Truck"
         ],
         "xaxis": "x4",
         "y": {
          "bdata": "gKi5trG4pT/yAuGAcikTQLiKqLXK5DRA",
          "dtype": "f8"
         },
         "yaxis": "y4"
        },
        {
         "hovertemplate": "Carrier=FCEV<br>Period=2040<br>Vehicle Class=%{x}<br>New Capacity=%{y}<extra></extra>",
         "legendgroup": "FCEV",
         "marker": {
          "color": "#DD4477",
          "pattern": {
           "shape": ""
          }
         },
         "name": "FCEV",
         "orientation": "v",
         "showlegend": false,
         "textfont": {
          "size": 9
         },
         "textposition": "auto",
         "texttemplate": "%{y:.1f}",
         "type": "bar",
         "x": [
          "Bus",
          "HD Truck",
          "MD Truck"
         ],
         "xaxis": "x5",
         "y": {
          "bdata": "m6/TT7f+3D853huQ04cgQD8V+IeTzSVA",
          "dtype": "f8"
         },
         "yaxis": "y5"
        },
        {
         "hovertemplate": "Carrier=FCEV<br>Period=2045<br>Vehicle Class=%{x}<br>New Capacity=%{y}<extra></extra>",
         "legendgroup": "FCEV",
         "marker": {
          "color": "#DD4477",
          "pattern": {
           "shape": ""
          }
         },
         "name": "FCEV",
         "orientation": "v",
         "showlegend": false,
         "textfont": {
          "size": 9
         },
         "textposition": "auto",
         "texttemplate": "%{y:.1f}",
         "type": "bar",
         "x": [
          "Bus",
          "HD Truck",
          "MD Truck"
         ],
         "xaxis": "x6",
         "y": {
          "bdata": "0iWqB73dhj/0B6UVLmMkQIwmskXBBBdA",
          "dtype": "f8"
         },
         "yaxis": "y6"
        },
        {
         "hovertemplate": "Carrier=FCEV<br>Period=2050<br>Vehicle Class=%{x}<br>New Capacity=%{y}<extra></extra>",
         "legendgroup": "FCEV",
         "marker": {
          "color": "#DD4477",
          "pattern": {
           "shape": ""
          }
         },
         "name": "FCEV",
         "orientation": "v",
         "showlegend": false,
         "textfont": {
          "size": 9
         },
         "textposition": "auto",
         "texttemplate": "%{y:.1f}",
         "type": "bar",
         "x": [
          "Bus",
          "HD Truck",
          "MD Truck"
         ],
         "xaxis": "x7",
         "y": {
          "bdata": "hfRiY0N3ez/Xqy2SZXIsQBVm1cGC7k8/",
          "dtype": "f8"
         },
         "yaxis": "y7"
        }
       ],
       "layout": {
        "annotations": [
         {
          "font": {},
          "showarrow": false,
          "text": "2021",
          "x": 0.06285714285714285,
          "xanchor": "center",
          "xref": "paper",
          "y": -0.08,
          "yanchor": "top",
          "yref": "paper"
         },
         {
          "font": {},
          "showarrow": false,
          "text": "2025",
          "x": 0.20857142857142852,
          "xanchor": "center",
          "xref": "paper",
          "y": -0.08,
          "yanchor": "top",
          "yref": "paper"
         },
         {
          "font": {},
          "showarrow": false,
          "text": "2030",
          "x": 0.3542857142857142,
          "xanchor": "center",
          "xref": "paper",
          "y": -0.08,
          "yanchor": "top",
          "yref": "paper"
         },
         {
          "font": {},
          "showarrow": false,
          "text": "2035",
          "x": 0.5,
          "xanchor": "center",
          "xref": "paper",
          "y": -0.08,
          "yanchor": "top",
          "yref": "paper"
         },
         {
          "font": {},
          "showarrow": false,
          "text": "2040",
          "x": 0.6457142857142856,
          "xanchor": "center",
          "xref": "paper",
          "y": -0.08,
          "yanchor": "top",
          "yref": "paper"
         },
         {
          "font": {},
          "showarrow": false,
          "text": "2045",
          "x": 0.7914285714285713,
          "xanchor": "center",
          "xref": "paper",
          "y": -0.08,
          "yanchor": "top",
          "yref": "paper"
         },
         {
          "font": {},
          "showarrow": false,
          "text": "2050",
          "x": 0.937142857142857,
          "xanchor": "center",
          "xref": "paper",
          "y": -0.08,
          "yanchor": "top",
          "yref": "paper"
         }
        ],
        "bargap": 0.1,
        "barmode": "stack",
        "font": {
         "size": 14
        },
        "height": 650,
        "legend": {
         "orientation": "h",
         "title": {
          "text": ""
         },
         "tracegroupgap": 0,
         "x": 0.5,
         "xanchor": "center",
         "y": 1.03,
         "yanchor": "top"
        },
        "margin": {
         "t": 60
        },
        "template": {
         "data": {
          "bar": [
           {
            "error_x": {
             "color": "#2a3f5f"
            },
            "error_y": {
             "color": "#2a3f5f"
            },
            "marker": {
             "line": {
              "color": "white",
              "width": 0.5
             },
             "pattern": {
              "fillmode": "overlay",
              "size": 10,
              "solidity": 0.2
             }
            },
            "type": "bar"
           }
          ],
          "barpolar": [
           {
            "marker": {
             "line": {
              "color": "white",
              "width": 0.5
             },
             "pattern": {
              "fillmode": "overlay",
              "size": 10,
              "solidity": 0.2
             }
            },
            "type": "barpolar"
           }
          ],
          "carpet": [
           {
            "aaxis": {
             "endlinecolor": "#2a3f5f",
             "gridcolor": "#C8D4E3",
             "linecolor": "#C8D4E3",
             "minorgridcolor": "#C8D4E3",
             "startlinecolor": "#2a3f5f"
            },
            "baxis": {
             "endlinecolor": "#2a3f5f",
             "gridcolor": "#C8D4E3",
             "linecolor": "#C8D4E3",
             "minorgridcolor": "#C8D4E3",
             "startlinecolor": "#2a3f5f"
            },
            "type": "carpet"
           }
          ],
          "choropleth": [
           {
            "colorbar": {
             "outlinewidth": 0,
             "ticks": ""
            },
            "type": "choropleth"
           }
          ],
          "contour": [
           {
            "colorbar": {
             "outlinewidth": 0,
             "ticks": ""
            },
            "colorscale": [
             [
              0,
              "#0d0887"
             ],
             [
              0.1111111111111111,
              "#46039f"
             ],
             [
              0.2222222222222222,
              "#7201a8"
             ],
             [
              0.3333333333333333,
              "#9c179e"
             ],
             [
              0.4444444444444444,
              "#bd3786"
             ],
             [
              0.5555555555555556,
              "#d8576b"
             ],
             [
              0.6666666666666666,
              "#ed7953"
             ],
             [
              0.7777777777777778,
              "#fb9f3a"
             ],
             [
              0.8888888888888888,
              "#fdca26"
             ],
             [
              1,
              "#f0f921"
             ]
            ],
            "type": "contour"
           }
          ],
          "contourcarpet": [
           {
            "colorbar": {
             "outlinewidth": 0,
             "ticks": ""
            },
            "type": "contourcarpet"
           }
          ],
          "heatmap": [
           {
            "colorbar": {
             "outlinewidth": 0,
             "ticks": ""
            },
            "colorscale": [
             [
              0,
              "#0d0887"
             ],
             [
              0.1111111111111111,
              "#46039f"
             ],
             [
              0.2222222222222222,
              "#7201a8"
             ],
             [
              0.3333333333333333,
              "#9c179e"
             ],
             [
              0.4444444444444444,
              "#bd3786"
             ],
             [
              0.5555555555555556,
              "#d8576b"
             ],
             [
              0.6666666666666666,
              "#ed7953"
             ],
             [
              0.7777777777777778,
              "#fb9f3a"
             ],
             [
              0.8888888888888888,
              "#fdca26"
             ],
             [
              1,
              "#f0f921"
             ]
            ],
            "type": "heatmap"
           }
          ],
          "histogram": [
           {
            "marker": {
             "pattern": {
              "fillmode": "overlay",
              "size": 10,
              "solidity": 0.2
             }
            },
            "type": "histogram"
           }
          ],
          "histogram2d": [
           {
            "colorbar": {
             "outlinewidth": 0,
             "ticks": ""
            },
            "colorscale": [
             [
              0,
              "#0d0887"
             ],
             [
              0.1111111111111111,
              "#46039f"
             ],
             [
              0.2222222222222222,
              "#7201a8"
             ],
             [
              0.3333333333333333,
              "#9c179e"
             ],
             [
              0.4444444444444444,
              "#bd3786"
             ],
             [
              0.5555555555555556,
              "#d8576b"
             ],
             [
              0.6666666666666666,
              "#ed7953"
             ],
             [
              0.7777777777777778,
              "#fb9f3a"
             ],
             [
              0.8888888888888888,
              "#fdca26"
             ],
             [
              1,
              "#f0f921"
             ]
            ],
            "type": "histogram2d"
           }
          ],
          "histogram2dcontour": [
           {
            "colorbar": {
             "outlinewidth": 0,
             "ticks": ""
            },
            "colorscale": [
             [
              0,
              "#0d0887"
             ],
             [
              0.1111111111111111,
              "#46039f"
             ],
             [
              0.2222222222222222,
              "#7201a8"
             ],
             [
              0.3333333333333333,
              "#9c179e"
             ],
             [
              0.4444444444444444,
              "#bd3786"
             ],
             [
              0.5555555555555556,
              "#d8576b"
             ],
             [
              0.6666666666666666,
              "#ed7953"
             ],
             [
              0.7777777777777778,
              "#fb9f3a"
             ],
             [
              0.8888888888888888,
              "#fdca26"
             ],
             [
              1,
              "#f0f921"
             ]
            ],
            "type": "histogram2dcontour"
           }
          ],
          "mesh3d": [
           {
            "colorbar": {
             "outlinewidth": 0,
             "ticks": ""
            },
            "type": "mesh3d"
           }
          ],
          "parcoords": [
           {
            "line": {
             "colorbar": {
              "outlinewidth": 0,
              "ticks": ""
             }
            },
            "type": "parcoords"
           }
          ],
          "pie": [
           {
            "automargin": true,
            "type": "pie"
           }
          ],
          "scatter": [
           {
            "fillpattern": {
             "fillmode": "overlay",
             "size": 10,
             "solidity": 0.2
            },
            "type": "scatter"
           }
          ],
          "scatter3d": [
           {
            "line": {
             "colorbar": {
              "outlinewidth": 0,
              "ticks": ""
             }
            },
            "marker": {
             "colorbar": {
              "outlinewidth": 0,
              "ticks": ""
             }
            },
            "type": "scatter3d"
           }
          ],
          "scattercarpet": [
           {
            "marker": {
             "colorbar": {
              "outlinewidth": 0,
              "ticks": ""
             }
            },
            "type": "scattercarpet"
           }
          ],
          "scattergeo": [
           {
            "marker": {
             "colorbar": {
              "outlinewidth": 0,
              "ticks": ""
             }
            },
            "type": "scattergeo"
           }
          ],
          "scattergl": [
           {
            "marker": {
             "colorbar": {
              "outlinewidth": 0,
              "ticks": ""
             }
            },
            "type": "scattergl"
           }
          ],
          "scattermap": [
           {
            "marker": {
             "colorbar": {
              "outlinewidth": 0,
              "ticks": ""
             }
            },
            "type": "scattermap"
           }
          ],
          "scattermapbox": [
           {
            "marker": {
             "colorbar": {
              "outlinewidth": 0,
              "ticks": ""
             }
            },
            "type": "scattermapbox"
           }
          ],
          "scatterpolar": [
           {
            "marker": {
             "colorbar": {
              "outlinewidth": 0,
              "ticks": ""
             }
            },
            "type": "scatterpolar"
           }
          ],
          "scatterpolargl": [
           {
            "marker": {
             "colorbar": {
              "outlinewidth": 0,
              "ticks": ""
             }
            },
            "type": "scatterpolargl"
           }
          ],
          "scatterternary": [
           {
            "marker": {
             "colorbar": {
              "outlinewidth": 0,
              "ticks": ""
             }
            },
            "type": "scatterternary"
           }
          ],
          "surface": [
           {
            "colorbar": {
             "outlinewidth": 0,
             "ticks": ""
            },
            "colorscale": [
             [
              0,
              "#0d0887"
             ],
             [
              0.1111111111111111,
              "#46039f"
             ],
             [
              0.2222222222222222,
              "#7201a8"
             ],
             [
              0.3333333333333333,
              "#9c179e"
             ],
             [
              0.4444444444444444,
              "#bd3786"
             ],
             [
              0.5555555555555556,
              "#d8576b"
             ],
             [
              0.6666666666666666,
              "#ed7953"
             ],
             [
              0.7777777777777778,
              "#fb9f3a"
             ],
             [
              0.8888888888888888,
              "#fdca26"
             ],
             [
              1,
              "#f0f921"
             ]
            ],
            "type": "surface"
           }
          ],
          "table": [
           {
            "cells": {
             "fill": {
              "color": "#EBF0F8"
             },
             "line": {
              "color": "white"
             }
            },
            "header": {
             "fill": {
              "color": "#C8D4E3"
             },
             "line": {
              "color": "white"
             }
            },
            "type": "table"
           }
          ]
         },
         "layout": {
          "annotationdefaults": {
           "arrowcolor": "#2a3f5f",
           "arrowhead": 0,
           "arrowwidth": 1
          },
          "autotypenumbers": "strict",
          "coloraxis": {
           "colorbar": {
            "outlinewidth": 0,
            "ticks": ""
           }
          },
          "colorscale": {
           "diverging": [
            [
             0,
             "#8e0152"
            ],
            [
             0.1,
             "#c51b7d"
            ],
            [
             0.2,
             "#de77ae"
            ],
            [
             0.3,
             "#f1b6da"
            ],
            [
             0.4,
             "#fde0ef"
            ],
            [
             0.5,
             "#f7f7f7"
            ],
            [
             0.6,
             "#e6f5d0"
            ],
            [
             0.7,
             "#b8e186"
            ],
            [
             0.8,
             "#7fbc41"
            ],
            [
             0.9,
             "#4d9221"
            ],
            [
             1,
             "#276419"
            ]
           ],
           "sequential": [
            [
             0,
             "#0d0887"
            ],
            [
             0.1111111111111111,
             "#46039f"
            ],
            [
             0.2222222222222222,
             "#7201a8"
            ],
            [
             0.3333333333333333,
             "#9c179e"
            ],
            [
             0.4444444444444444,
             "#bd3786"
            ],
            [
             0.5555555555555556,
             "#d8576b"
            ],
            [
             0.6666666666666666,
             "#ed7953"
            ],
            [
             0.7777777777777778,
             "#fb9f3a"
            ],
            [
             0.8888888888888888,
             "#fdca26"
            ],
            [
             1,
             "#f0f921"
            ]
           ],
           "sequentialminus": [
            [
             0,
             "#0d0887"
            ],
            [
             0.1111111111111111,
             "#46039f"
            ],
            [
             0.2222222222222222,
             "#7201a8"
            ],
            [
             0.3333333333333333,
             "#9c179e"
            ],
            [
             0.4444444444444444,
             "#bd3786"
            ],
            [
             0.5555555555555556,
             "#d8576b"
            ],
            [
             0.6666666666666666,
             "#ed7953"
            ],
            [
             0.7777777777777778,
             "#fb9f3a"
            ],
            [
             0.8888888888888888,
             "#fdca26"
            ],
            [
             1,
             "#f0f921"
            ]
           ]
          },
          "colorway": [
           "#636efa",
           "#EF553B",
           "#00cc96",
           "#ab63fa",
           "#FFA15A",
           "#19d3f3",
           "#FF6692",
           "#B6E880",
           "#FF97FF",
           "#FECB52"
          ],
          "font": {
           "color": "#2a3f5f"
          },
          "geo": {
           "bgcolor": "white",
           "lakecolor": "white",
           "landcolor": "white",
           "showlakes": true,
           "showland": true,
           "subunitcolor": "#C8D4E3"
          },
          "hoverlabel": {
           "align": "left"
          },
          "hovermode": "closest",
          "mapbox": {
           "style": "light"
          },
          "paper_bgcolor": "white",
          "plot_bgcolor": "white",
          "polar": {
           "angularaxis": {
            "gridcolor": "#EBF0F8",
            "linecolor": "#EBF0F8",
            "ticks": ""
           },
           "bgcolor": "white",
           "radialaxis": {
            "gridcolor": "#EBF0F8",
            "linecolor": "#EBF0F8",
            "ticks": ""
           }
          },
          "scene": {
           "xaxis": {
            "backgroundcolor": "white",
            "gridcolor": "#DFE8F3",
            "gridwidth": 2,
            "linecolor": "#EBF0F8",
            "showbackground": true,
            "ticks": "",
            "zerolinecolor": "#EBF0F8"
           },
           "yaxis": {
            "backgroundcolor": "white",
            "gridcolor": "#DFE8F3",
            "gridwidth": 2,
            "linecolor": "#EBF0F8",
            "showbackground": true,
            "ticks": "",
            "zerolinecolor": "#EBF0F8"
           },
           "zaxis": {
            "backgroundcolor": "white",
            "gridcolor": "#DFE8F3",
            "gridwidth": 2,
            "linecolor": "#EBF0F8",
            "showbackground": true,
            "ticks": "",
            "zerolinecolor": "#EBF0F8"
           }
          },
          "shapedefaults": {
           "line": {
            "color": "#2a3f5f"
           }
          },
          "ternary": {
           "aaxis": {
            "gridcolor": "#DFE8F3",
            "linecolor": "#A2B1C6",
            "ticks": ""
           },
           "baxis": {
            "gridcolor": "#DFE8F3",
            "linecolor": "#A2B1C6",
            "ticks": ""
           },
           "bgcolor": "white",
           "caxis": {
            "gridcolor": "#DFE8F3",
            "linecolor": "#A2B1C6",
            "ticks": ""
           }
          },
          "title": {
           "x": 0.05
          },
          "xaxis": {
           "automargin": true,
           "gridcolor": "#EBF0F8",
           "linecolor": "#EBF0F8",
           "ticks": "",
           "title": {
            "standoff": 15
           },
           "zerolinecolor": "#EBF0F8",
           "zerolinewidth": 2
          },
          "yaxis": {
           "automargin": true,
           "gridcolor": "#EBF0F8",
           "linecolor": "#EBF0F8",
           "ticks": "",
           "title": {
            "standoff": 15
           },
           "zerolinecolor": "#EBF0F8",
           "zerolinewidth": 2
          }
         }
        },
        "title": {
         "text": "Transportation fleet expansion in ON by vehicle class and drivetrain",
         "x": 0.5,
         "xanchor": "center",
         "y": 0.97,
         "yanchor": "top"
        },
        "width": 1000,
        "xaxis": {
         "anchor": "y",
         "domain": [
          0,
          0.1257142857142857
         ],
         "title": {
          "text": ""
         }
        },
        "xaxis2": {
         "anchor": "y2",
         "domain": [
          0.14571428571428569,
          0.27142857142857135
         ],
         "matches": "x",
         "title": {
          "text": ""
         }
        },
        "xaxis3": {
         "anchor": "y3",
         "domain": [
          0.29142857142857137,
          0.41714285714285704
         ],
         "matches": "x",
         "title": {
          "text": ""
         }
        },
        "xaxis4": {
         "anchor": "y4",
         "domain": [
          0.4371428571428571,
          0.5628571428571428
         ],
         "matches": "x",
         "title": {
          "text": ""
         }
        },
        "xaxis5": {
         "anchor": "y5",
         "domain": [
          0.5828571428571427,
          0.7085714285714284
         ],
         "matches": "x",
         "title": {
          "text": ""
         }
        },
        "xaxis6": {
         "anchor": "y6",
         "domain": [
          0.7285714285714284,
          0.8542857142857141
         ],
         "matches": "x",
         "title": {
          "text": ""
         }
        },
        "xaxis7": {
         "anchor": "y7",
         "domain": [
          0.8742857142857142,
          0.9999999999999999
         ],
         "matches": "x",
         "title": {
          "text": ""
         }
        },
        "yaxis": {
         "anchor": "x",
         "domain": [
          0,
          1
         ],
         "dtick": 20,
         "title": {
          "standoff": 0,
          "text": "New vehicles (k units)"
         }
        },
        "yaxis2": {
         "anchor": "x2",
         "domain": [
          0,
          1
         ],
         "dtick": 20,
         "matches": "y",
         "showticklabels": false
        },
        "yaxis3": {
         "anchor": "x3",
         "domain": [
          0,
          1
         ],
         "dtick": 20,
         "matches": "y",
         "showticklabels": false
        },
        "yaxis4": {
         "anchor": "x4",
         "domain": [
          0,
          1
         ],
         "dtick": 20,
         "matches": "y",
         "showticklabels": false
        },
        "yaxis5": {
         "anchor": "x5",
         "domain": [
          0,
          1
         ],
         "dtick": 20,
         "matches": "y",
         "showticklabels": false
        },
        "yaxis6": {
         "anchor": "x6",
         "domain": [
          0,
          1
         ],
         "dtick": 20,
         "matches": "y",
         "showticklabels": false
        },
        "yaxis7": {
         "anchor": "x7",
         "domain": [
          0,
          1
         ],
         "dtick": 20,
         "matches": "y",
         "showticklabels": false
        }
       }
      }
     },
     "metadata": {},
     "output_type": "display_data"
    }
   ],
   "source": [
    "ref_fig = ref_trnnewcap[ref_trnnewcap['Vehicle Class'].isin(['Bus', 'MD Truck', 'HD Truck'])][['Period', 'Vehicle Class', 'New Capacity', 'Carrier']].groupby(['Period', 'Vehicle Class', 'Carrier'], as_index=False).sum()\n",
    "ref_fig['New Capacity (M units)'] = ref_fig['New Capacity']/1E3\n",
    "\n",
    "ref_fig['Carrier'] = pd.Categorical(ref_fig['Carrier'], categories=drivetrain_order, ordered=True)\n",
    "ref_fig = ref_fig.sort_values(['Carrier', 'Period'])\n",
    "\n",
    "fig = px.bar(ref_fig, \n",
    "             x='Vehicle Class', \n",
    "             y='New Capacity', \n",
    "             color='Carrier', \n",
    "             barmode='stack', \n",
    "             facet_col='Period',\n",
    "             facet_col_spacing=2E-2,\n",
    "             template='plotly_white',\n",
    "             color_discrete_sequence=px.colors.qualitative.G10[:7] + px.colors.qualitative.G10[8:],\n",
    "             text_auto='.1f',\n",
    "             width=1000, height=650,\n",
    "             )\n",
    "\n",
    "fig.update_layout(title=dict(\n",
    "        text='Transportation fleet expansion in ON by vehicle class and drivetrain',\n",
    "        x=0.5, \n",
    "        y=0.97,\n",
    "        xanchor='center',\n",
    "        yanchor='top'\n",
    "    ),\n",
    "    xaxis=dict(title='Period'),\n",
    "    yaxis=dict(title='New vehicles (k units)',\n",
    "               dtick=20),\n",
    "    yaxis_title_standoff=0,\n",
    "    legend_title_text='',\n",
    "    bargap=0.1,\n",
    "    legend=dict(\n",
    "        orientation='h',  \n",
    "        yanchor='top',\n",
    "        y=1.03,  \n",
    "        xanchor='center',\n",
    "        x=0.5),\n",
    "    font=dict(\n",
    "        # family=\"Open Sans\",\n",
    "        size=14)\n",
    "    )\n",
    "\n",
    "for annotation in fig.layout.annotations:\n",
    "    annotation.text = annotation.text.split('=')[1]\n",
    "    annotation.y = -0.08  \n",
    "    annotation.yanchor = 'top' \n",
    "\n",
    "for axis in fig.layout:\n",
    "    if axis.startswith('yaxis'):\n",
    "        fig.layout[axis].dtick = 20\n",
    "\n",
    "for axis in fig.layout:\n",
    "    if axis.startswith('xaxis'):\n",
    "        fig.layout[axis].title.text = ''\n",
    "\n",
    "fig.for_each_trace(lambda trace: trace.update(textfont=dict(size=9)))\n",
    "\n",
    "fig.show()"
   ]
  },
  {
   "cell_type": "code",
   "execution_count": 26,
   "metadata": {},
   "outputs": [],
   "source": [
    "gtech_class_mapping = {\n",
    "    'LD Car': 'LDV',\n",
    "    'LD Truck': 'LDV',\n",
    "    'HD Truck': 'HDV',\n",
    "}\n",
    "\n",
    "gtech_carrier_mapping = {\n",
    "    'CNG': 'ICEV',\n",
    "    'HEV': 'ICEV',\n",
    "    'PHEV': 'ICEV',\n",
    "    'Diesel': 'ICEV',\n",
    "    'Gasoline': 'ICEV',\n",
    "    'BEV': 'BEV',\n",
    "    'FCEV': 'FCEV',\n",
    "}"
   ]
  },
  {
   "cell_type": "code",
   "execution_count": 27,
   "metadata": {},
   "outputs": [
    {
     "data": {
      "application/vnd.plotly.v1+json": {
       "config": {
        "plotlyServerURL": "https://plot.ly"
       },
       "data": [
        {
         "fillpattern": {
          "shape": ""
         },
         "hovertemplate": "Drivetrain=BEV<br>Class=LDV<br>Source=gTech-IESD<br>Period=%{x}<br>Market Share (%)=%{y}<extra></extra>",
         "legendgroup": "BEV",
         "line": {
          "color": "#636efa"
         },
         "marker": {
          "symbol": "circle"
         },
         "mode": "lines",
         "name": "BEV",
         "orientation": "v",
         "showlegend": true,
         "stackgroup": "1",
         "type": "scatter",
         "x": [
          "2021",
          "2025",
          "2030",
          "2035",
          "2040",
          "2045",
          "2050"
         ],
         "xaxis": "x3",
         "y": {
          "bdata": "szPRE5Kt+T8ZvW6fwlIKQNbblGKvPiJA6FooV4A2OEAnKVVHs+JCQIdgyRMQbkhAvw8oFzodS0A=",
          "dtype": "f8"
         },
         "yaxis": "y3"
        },
        {
         "fillpattern": {
          "shape": ""
         },
         "hovertemplate": "Drivetrain=BEV<br>Class=HDV<br>Source=gTech-IESD<br>Period=%{x}<br>Market Share (%)=%{y}<extra></extra>",
         "legendgroup": "BEV",
         "line": {
          "color": "#636efa"
         },
         "marker": {
          "symbol": "circle"
         },
         "mode": "lines",
         "name": "BEV",
         "orientation": "v",
         "showlegend": false,
         "stackgroup": "1",
         "type": "scatter",
         "x": [
          "2021",
          "2025",
          "2030",
          "2035",
          "2040",
          "2045",
          "2050"
         ],
         "xaxis": "x",
         "y": {
          "bdata": "AAAAAAAAAAAAAAAAAAAAANrGn6hs0PI/d8OfqSOkA0DnFyAvdjsNQCC+RKPYiRFAjsICU15FEkA=",
          "dtype": "f8"
         },
         "yaxis": "y"
        },
        {
         "fillpattern": {
          "shape": ""
         },
         "hovertemplate": "Drivetrain=BEV<br>Class=HDV<br>Source=CANOE<br>Period=%{x}<br>Market Share (%)=%{y}<extra></extra>",
         "legendgroup": "BEV",
         "line": {
          "color": "#636efa"
         },
         "marker": {
          "symbol": "circle"
         },
         "mode": "lines",
         "name": "BEV",
         "orientation": "v",
         "showlegend": false,
         "stackgroup": "1",
         "type": "scatter",
         "x": [
          "2021",
          "2025",
          "2030",
          "2035",
          "2040",
          "2045",
          "2050"
         ],
         "xaxis": "x2",
         "y": {
          "bdata": "AAAAAAAAAAAAAAAAAAAAADpv8+pTYQpAYzILTkwjG0ASCD7Aq6siQOu+C7BJaxBA7cXN3jyTGEA=",
          "dtype": "f8"
         },
         "yaxis": "y2"
        },
        {
         "fillpattern": {
          "shape": ""
         },
         "hovertemplate": "Drivetrain=FCEV<br>Class=LDV<br>Source=gTech-IESD<br>Period=%{x}<br>Market Share (%)=%{y}<extra></extra>",
         "legendgroup": "FCEV",
         "line": {
          "color": "#EF553B"
         },
         "marker": {
          "symbol": "circle"
         },
         "mode": "lines",
         "name": "FCEV",
         "orientation": "v",
         "showlegend": true,
         "stackgroup": "1",
         "type": "scatter",
         "x": [
          "2021",
          "2025",
          "2030",
          "2035",
          "2040",
          "2045",
          "2050"
         ],
         "xaxis": "x3",
         "y": {
          "bdata": "YcZgOrdNBD/59/gIJWEpP3AiYplqpTE/UIIGtNcvNj8wAwVGrRw5PwKChQhC9j0/cUZYSlJ2Qz8=",
          "dtype": "f8"
         },
         "yaxis": "y3"
        },
        {
         "fillpattern": {
          "shape": ""
         },
         "hovertemplate": "Drivetrain=FCEV<br>Class=HDV<br>Source=gTech-IESD<br>Period=%{x}<br>Market Share (%)=%{y}<extra></extra>",
         "legendgroup": "FCEV",
         "line": {
          "color": "#EF553B"
         },
         "marker": {
          "symbol": "circle"
         },
         "mode": "lines",
         "name": "FCEV",
         "orientation": "v",
         "showlegend": false,
         "stackgroup": "1",
         "type": "scatter",
         "x": [
          "2021",
          "2025",
          "2030",
          "2035",
          "2040",
          "2045",
          "2050"
         ],
         "xaxis": "x",
         "y": {
          "bdata": "AAAAAAAAAAAAAAAAAAAAADUI/Kz13+Y/A7MAdRzK/z9AwHvDVAkKQPeXEoZXzRBASDcYo9tgEkA=",
          "dtype": "f8"
         },
         "yaxis": "y"
        },
        {
         "fillpattern": {
          "shape": ""
         },
         "hovertemplate": "Drivetrain=FCEV<br>Class=HDV<br>Source=CANOE<br>Period=%{x}<br>Market Share (%)=%{y}<extra></extra>",
         "legendgroup": "FCEV",
         "line": {
          "color": "#EF553B"
         },
         "marker": {
          "symbol": "circle"
         },
         "mode": "lines",
         "name": "FCEV",
         "orientation": "v",
         "showlegend": false,
         "stackgroup": "1",
         "type": "scatter",
         "x": [
          "2021",
          "2025",
          "2030",
          "2035",
          "2040",
          "2045",
          "2050"
         ],
         "xaxis": "x2",
         "y": {
          "bdata": "AAAAAAAAAAASj3AfiQ4OQJ4A5rxi4RhAv9Xivs9MJEAO6S5kAMEpQLOoe/r8zThAf7pwgY3AOEA=",
          "dtype": "f8"
         },
         "yaxis": "y2"
        },
        {
         "fillpattern": {
          "shape": ""
         },
         "hovertemplate": "Drivetrain=ICEV<br>Class=LDV<br>Source=gTech-IESD<br>Period=%{x}<br>Market Share (%)=%{y}<extra></extra>",
         "legendgroup": "ICEV",
         "line": {
          "color": "#00cc96"
         },
         "marker": {
          "symbol": "circle"
         },
         "mode": "lines",
         "name": "ICEV",
         "orientation": "v",
         "showlegend": true,
         "stackgroup": "1",
         "type": "scatter",
         "x": [
          "2021",
          "2025",
          "2030",
          "2035",
          "2040",
          "2045",
          "2050"
         ],
         "xaxis": "x3",
         "y": {
          "bdata": "kElBFUmZWEB1ndu+Zi1YQA3RU6oluFZAqFpFXlryUkAVDlIqQB1PQHsMHPHgkUlAKICDcrLiRkA=",
          "dtype": "f8"
         },
         "yaxis": "y3"
        },
        {
         "fillpattern": {
          "shape": ""
         },
         "hovertemplate": "Drivetrain=ICEV<br>Class=HDV<br>Source=gTech-IESD<br>Period=%{x}<br>Market Share (%)=%{y}<extra></extra>",
         "legendgroup": "ICEV",
         "line": {
          "color": "#00cc96"
         },
         "marker": {
          "symbol": "circle"
         },
         "mode": "lines",
         "name": "ICEV",
         "orientation": "v",
         "showlegend": false,
         "stackgroup": "1",
         "type": "scatter",
         "x": [
          "2021",
          "2025",
          "2030",
          "2035",
          "2040",
          "2045",
          "2050"
         ],
         "xaxis": "x",
         "y": {
          "bdata": "AAAAAAAAWUAAAAAAAABZQJauBWL+hlhA+RHgcLbjV0Cd6Geo2UVXQL53af2M2lZAY1CeYJy1VkA=",
          "dtype": "f8"
         },
         "yaxis": "y"
        },
        {
         "fillpattern": {
          "shape": ""
         },
         "hovertemplate": "Drivetrain=ICEV<br>Class=HDV<br>Source=CANOE<br>Period=%{x}<br>Market Share (%)=%{y}<extra></extra>",
         "legendgroup": "ICEV",
         "line": {
          "color": "#00cc96"
         },
         "marker": {
          "symbol": "circle"
         },
         "mode": "lines",
         "name": "ICEV",
         "orientation": "v",
         "showlegend": false,
         "stackgroup": "1",
         "type": "scatter",
         "x": [
          "2021",
          "2025",
          "2030",
          "2035",
          "2040",
          "2045",
          "2050"
         ],
         "xaxis": "x2",
         "y": {
          "bdata": "AAAAAAAAWUCHewS3iw9YQHwE2jTfnlZAIvJCQzHEVEDdYXJ7anJTQOVZYCbMxVFAAvW20ahGUUA=",
          "dtype": "f8"
         },
         "yaxis": "y2"
        }
       ],
       "layout": {
        "annotations": [
         {
          "showarrow": false,
          "text": "Source=gTech-IESD",
          "x": 0.24,
          "xanchor": "center",
          "xref": "paper",
          "y": 1,
          "yanchor": "bottom",
          "yref": "paper"
         },
         {
          "showarrow": false,
          "text": "Source=CANOE",
          "x": 0.74,
          "xanchor": "center",
          "xref": "paper",
          "y": 1,
          "yanchor": "bottom",
          "yref": "paper"
         },
         {
          "showarrow": false,
          "text": "Class=HDV",
          "textangle": 90,
          "x": 0.98,
          "xanchor": "left",
          "xref": "paper",
          "y": 0.2475,
          "yanchor": "middle",
          "yref": "paper"
         },
         {
          "showarrow": false,
          "text": "Class=LDV",
          "textangle": 90,
          "x": 0.98,
          "xanchor": "left",
          "xref": "paper",
          "y": 0.7525,
          "yanchor": "middle",
          "yref": "paper"
         },
         {
          "font": {
           "size": 14
          },
          "showarrow": false,
          "text": "Market Share (%)",
          "textangle": -90,
          "x": -0.05,
          "xref": "paper",
          "y": 0.5,
          "yref": "paper"
         }
        ],
        "bargap": 0.1,
        "font": {
         "size": 13
        },
        "height": 600,
        "legend": {
         "orientation": "h",
         "title": {
          "text": ""
         },
         "tracegroupgap": 0,
         "x": 0.5,
         "xanchor": "center",
         "y": 1.05,
         "yanchor": "top"
        },
        "margin": {
         "t": 60
        },
        "template": {
         "data": {
          "bar": [
           {
            "error_x": {
             "color": "#2a3f5f"
            },
            "error_y": {
             "color": "#2a3f5f"
            },
            "marker": {
             "line": {
              "color": "white",
              "width": 0.5
             },
             "pattern": {
              "fillmode": "overlay",
              "size": 10,
              "solidity": 0.2
             }
            },
            "type": "bar"
           }
          ],
          "barpolar": [
           {
            "marker": {
             "line": {
              "color": "white",
              "width": 0.5
             },
             "pattern": {
              "fillmode": "overlay",
              "size": 10,
              "solidity": 0.2
             }
            },
            "type": "barpolar"
           }
          ],
          "carpet": [
           {
            "aaxis": {
             "endlinecolor": "#2a3f5f",
             "gridcolor": "#C8D4E3",
             "linecolor": "#C8D4E3",
             "minorgridcolor": "#C8D4E3",
             "startlinecolor": "#2a3f5f"
            },
            "baxis": {
             "endlinecolor": "#2a3f5f",
             "gridcolor": "#C8D4E3",
             "linecolor": "#C8D4E3",
             "minorgridcolor": "#C8D4E3",
             "startlinecolor": "#2a3f5f"
            },
            "type": "carpet"
           }
          ],
          "choropleth": [
           {
            "colorbar": {
             "outlinewidth": 0,
             "ticks": ""
            },
            "type": "choropleth"
           }
          ],
          "contour": [
           {
            "colorbar": {
             "outlinewidth": 0,
             "ticks": ""
            },
            "colorscale": [
             [
              0,
              "#0d0887"
             ],
             [
              0.1111111111111111,
              "#46039f"
             ],
             [
              0.2222222222222222,
              "#7201a8"
             ],
             [
              0.3333333333333333,
              "#9c179e"
             ],
             [
              0.4444444444444444,
              "#bd3786"
             ],
             [
              0.5555555555555556,
              "#d8576b"
             ],
             [
              0.6666666666666666,
              "#ed7953"
             ],
             [
              0.7777777777777778,
              "#fb9f3a"
             ],
             [
              0.8888888888888888,
              "#fdca26"
             ],
             [
              1,
              "#f0f921"
             ]
            ],
            "type": "contour"
           }
          ],
          "contourcarpet": [
           {
            "colorbar": {
             "outlinewidth": 0,
             "ticks": ""
            },
            "type": "contourcarpet"
           }
          ],
          "heatmap": [
           {
            "colorbar": {
             "outlinewidth": 0,
             "ticks": ""
            },
            "colorscale": [
             [
              0,
              "#0d0887"
             ],
             [
              0.1111111111111111,
              "#46039f"
             ],
             [
              0.2222222222222222,
              "#7201a8"
             ],
             [
              0.3333333333333333,
              "#9c179e"
             ],
             [
              0.4444444444444444,
              "#bd3786"
             ],
             [
              0.5555555555555556,
              "#d8576b"
             ],
             [
              0.6666666666666666,
              "#ed7953"
             ],
             [
              0.7777777777777778,
              "#fb9f3a"
             ],
             [
              0.8888888888888888,
              "#fdca26"
             ],
             [
              1,
              "#f0f921"
             ]
            ],
            "type": "heatmap"
           }
          ],
          "histogram": [
           {
            "marker": {
             "pattern": {
              "fillmode": "overlay",
              "size": 10,
              "solidity": 0.2
             }
            },
            "type": "histogram"
           }
          ],
          "histogram2d": [
           {
            "colorbar": {
             "outlinewidth": 0,
             "ticks": ""
            },
            "colorscale": [
             [
              0,
              "#0d0887"
             ],
             [
              0.1111111111111111,
              "#46039f"
             ],
             [
              0.2222222222222222,
              "#7201a8"
             ],
             [
              0.3333333333333333,
              "#9c179e"
             ],
             [
              0.4444444444444444,
              "#bd3786"
             ],
             [
              0.5555555555555556,
              "#d8576b"
             ],
             [
              0.6666666666666666,
              "#ed7953"
             ],
             [
              0.7777777777777778,
              "#fb9f3a"
             ],
             [
              0.8888888888888888,
              "#fdca26"
             ],
             [
              1,
              "#f0f921"
             ]
            ],
            "type": "histogram2d"
           }
          ],
          "histogram2dcontour": [
           {
            "colorbar": {
             "outlinewidth": 0,
             "ticks": ""
            },
            "colorscale": [
             [
              0,
              "#0d0887"
             ],
             [
              0.1111111111111111,
              "#46039f"
             ],
             [
              0.2222222222222222,
              "#7201a8"
             ],
             [
              0.3333333333333333,
              "#9c179e"
             ],
             [
              0.4444444444444444,
              "#bd3786"
             ],
             [
              0.5555555555555556,
              "#d8576b"
             ],
             [
              0.6666666666666666,
              "#ed7953"
             ],
             [
              0.7777777777777778,
              "#fb9f3a"
             ],
             [
              0.8888888888888888,
              "#fdca26"
             ],
             [
              1,
              "#f0f921"
             ]
            ],
            "type": "histogram2dcontour"
           }
          ],
          "mesh3d": [
           {
            "colorbar": {
             "outlinewidth": 0,
             "ticks": ""
            },
            "type": "mesh3d"
           }
          ],
          "parcoords": [
           {
            "line": {
             "colorbar": {
              "outlinewidth": 0,
              "ticks": ""
             }
            },
            "type": "parcoords"
           }
          ],
          "pie": [
           {
            "automargin": true,
            "type": "pie"
           }
          ],
          "scatter": [
           {
            "fillpattern": {
             "fillmode": "overlay",
             "size": 10,
             "solidity": 0.2
            },
            "type": "scatter"
           }
          ],
          "scatter3d": [
           {
            "line": {
             "colorbar": {
              "outlinewidth": 0,
              "ticks": ""
             }
            },
            "marker": {
             "colorbar": {
              "outlinewidth": 0,
              "ticks": ""
             }
            },
            "type": "scatter3d"
           }
          ],
          "scattercarpet": [
           {
            "marker": {
             "colorbar": {
              "outlinewidth": 0,
              "ticks": ""
             }
            },
            "type": "scattercarpet"
           }
          ],
          "scattergeo": [
           {
            "marker": {
             "colorbar": {
              "outlinewidth": 0,
              "ticks": ""
             }
            },
            "type": "scattergeo"
           }
          ],
          "scattergl": [
           {
            "marker": {
             "colorbar": {
              "outlinewidth": 0,
              "ticks": ""
             }
            },
            "type": "scattergl"
           }
          ],
          "scattermap": [
           {
            "marker": {
             "colorbar": {
              "outlinewidth": 0,
              "ticks": ""
             }
            },
            "type": "scattermap"
           }
          ],
          "scattermapbox": [
           {
            "marker": {
             "colorbar": {
              "outlinewidth": 0,
              "ticks": ""
             }
            },
            "type": "scattermapbox"
           }
          ],
          "scatterpolar": [
           {
            "marker": {
             "colorbar": {
              "outlinewidth": 0,
              "ticks": ""
             }
            },
            "type": "scatterpolar"
           }
          ],
          "scatterpolargl": [
           {
            "marker": {
             "colorbar": {
              "outlinewidth": 0,
              "ticks": ""
             }
            },
            "type": "scatterpolargl"
           }
          ],
          "scatterternary": [
           {
            "marker": {
             "colorbar": {
              "outlinewidth": 0,
              "ticks": ""
             }
            },
            "type": "scatterternary"
           }
          ],
          "surface": [
           {
            "colorbar": {
             "outlinewidth": 0,
             "ticks": ""
            },
            "colorscale": [
             [
              0,
              "#0d0887"
             ],
             [
              0.1111111111111111,
              "#46039f"
             ],
             [
              0.2222222222222222,
              "#7201a8"
             ],
             [
              0.3333333333333333,
              "#9c179e"
             ],
             [
              0.4444444444444444,
              "#bd3786"
             ],
             [
              0.5555555555555556,
              "#d8576b"
             ],
             [
              0.6666666666666666,
              "#ed7953"
             ],
             [
              0.7777777777777778,
              "#fb9f3a"
             ],
             [
              0.8888888888888888,
              "#fdca26"
             ],
             [
              1,
              "#f0f921"
             ]
            ],
            "type": "surface"
           }
          ],
          "table": [
           {
            "cells": {
             "fill": {
              "color": "#EBF0F8"
             },
             "line": {
              "color": "white"
             }
            },
            "header": {
             "fill": {
              "color": "#C8D4E3"
             },
             "line": {
              "color": "white"
             }
            },
            "type": "table"
           }
          ]
         },
         "layout": {
          "annotationdefaults": {
           "arrowcolor": "#2a3f5f",
           "arrowhead": 0,
           "arrowwidth": 1
          },
          "autotypenumbers": "strict",
          "coloraxis": {
           "colorbar": {
            "outlinewidth": 0,
            "ticks": ""
           }
          },
          "colorscale": {
           "diverging": [
            [
             0,
             "#8e0152"
            ],
            [
             0.1,
             "#c51b7d"
            ],
            [
             0.2,
             "#de77ae"
            ],
            [
             0.3,
             "#f1b6da"
            ],
            [
             0.4,
             "#fde0ef"
            ],
            [
             0.5,
             "#f7f7f7"
            ],
            [
             0.6,
             "#e6f5d0"
            ],
            [
             0.7,
             "#b8e186"
            ],
            [
             0.8,
             "#7fbc41"
            ],
            [
             0.9,
             "#4d9221"
            ],
            [
             1,
             "#276419"
            ]
           ],
           "sequential": [
            [
             0,
             "#0d0887"
            ],
            [
             0.1111111111111111,
             "#46039f"
            ],
            [
             0.2222222222222222,
             "#7201a8"
            ],
            [
             0.3333333333333333,
             "#9c179e"
            ],
            [
             0.4444444444444444,
             "#bd3786"
            ],
            [
             0.5555555555555556,
             "#d8576b"
            ],
            [
             0.6666666666666666,
             "#ed7953"
            ],
            [
             0.7777777777777778,
             "#fb9f3a"
            ],
            [
             0.8888888888888888,
             "#fdca26"
            ],
            [
             1,
             "#f0f921"
            ]
           ],
           "sequentialminus": [
            [
             0,
             "#0d0887"
            ],
            [
             0.1111111111111111,
             "#46039f"
            ],
            [
             0.2222222222222222,
             "#7201a8"
            ],
            [
             0.3333333333333333,
             "#9c179e"
            ],
            [
             0.4444444444444444,
             "#bd3786"
            ],
            [
             0.5555555555555556,
             "#d8576b"
            ],
            [
             0.6666666666666666,
             "#ed7953"
            ],
            [
             0.7777777777777778,
             "#fb9f3a"
            ],
            [
             0.8888888888888888,
             "#fdca26"
            ],
            [
             1,
             "#f0f921"
            ]
           ]
          },
          "colorway": [
           "#636efa",
           "#EF553B",
           "#00cc96",
           "#ab63fa",
           "#FFA15A",
           "#19d3f3",
           "#FF6692",
           "#B6E880",
           "#FF97FF",
           "#FECB52"
          ],
          "font": {
           "color": "#2a3f5f"
          },
          "geo": {
           "bgcolor": "white",
           "lakecolor": "white",
           "landcolor": "white",
           "showlakes": true,
           "showland": true,
           "subunitcolor": "#C8D4E3"
          },
          "hoverlabel": {
           "align": "left"
          },
          "hovermode": "closest",
          "mapbox": {
           "style": "light"
          },
          "paper_bgcolor": "white",
          "plot_bgcolor": "white",
          "polar": {
           "angularaxis": {
            "gridcolor": "#EBF0F8",
            "linecolor": "#EBF0F8",
            "ticks": ""
           },
           "bgcolor": "white",
           "radialaxis": {
            "gridcolor": "#EBF0F8",
            "linecolor": "#EBF0F8",
            "ticks": ""
           }
          },
          "scene": {
           "xaxis": {
            "backgroundcolor": "white",
            "gridcolor": "#DFE8F3",
            "gridwidth": 2,
            "linecolor": "#EBF0F8",
            "showbackground": true,
            "ticks": "",
            "zerolinecolor": "#EBF0F8"
           },
           "yaxis": {
            "backgroundcolor": "white",
            "gridcolor": "#DFE8F3",
            "gridwidth": 2,
            "linecolor": "#EBF0F8",
            "showbackground": true,
            "ticks": "",
            "zerolinecolor": "#EBF0F8"
           },
           "zaxis": {
            "backgroundcolor": "white",
            "gridcolor": "#DFE8F3",
            "gridwidth": 2,
            "linecolor": "#EBF0F8",
            "showbackground": true,
            "ticks": "",
            "zerolinecolor": "#EBF0F8"
           }
          },
          "shapedefaults": {
           "line": {
            "color": "#2a3f5f"
           }
          },
          "ternary": {
           "aaxis": {
            "gridcolor": "#DFE8F3",
            "linecolor": "#A2B1C6",
            "ticks": ""
           },
           "baxis": {
            "gridcolor": "#DFE8F3",
            "linecolor": "#A2B1C6",
            "ticks": ""
           },
           "bgcolor": "white",
           "caxis": {
            "gridcolor": "#DFE8F3",
            "linecolor": "#A2B1C6",
            "ticks": ""
           }
          },
          "title": {
           "x": 0.05
          },
          "xaxis": {
           "automargin": true,
           "gridcolor": "#EBF0F8",
           "linecolor": "#EBF0F8",
           "ticks": "",
           "title": {
            "standoff": 15
           },
           "zerolinecolor": "#EBF0F8",
           "zerolinewidth": 2
          },
          "yaxis": {
           "automargin": true,
           "gridcolor": "#EBF0F8",
           "linecolor": "#EBF0F8",
           "ticks": "",
           "title": {
            "standoff": 15
           },
           "zerolinecolor": "#EBF0F8",
           "zerolinewidth": 2
          }
         }
        },
        "title": {
         "text": "On road vehicle market share by weight class, drivetrain and energy model in ON",
         "x": 0.5,
         "xanchor": "center",
         "y": 0.97,
         "yanchor": "top"
        },
        "width": 1100,
        "xaxis": {
         "anchor": "y",
         "domain": [
          0,
          0.48
         ],
         "tickangle": 45,
         "title": {
          "text": ""
         }
        },
        "xaxis2": {
         "anchor": "y2",
         "domain": [
          0.5,
          0.98
         ],
         "matches": "x",
         "tickangle": 45,
         "title": {
          "text": ""
         }
        },
        "xaxis3": {
         "anchor": "y3",
         "domain": [
          0,
          0.48
         ],
         "matches": "x",
         "showticklabels": false,
         "tickangle": 45,
         "title": {
          "text": ""
         }
        },
        "xaxis4": {
         "anchor": "y4",
         "domain": [
          0.5,
          0.98
         ],
         "matches": "x",
         "showticklabels": false,
         "tickangle": 45,
         "title": {
          "text": ""
         }
        },
        "yaxis": {
         "anchor": "x",
         "domain": [
          0,
          0.495
         ],
         "title": {
          "standoff": 0,
          "text": ""
         }
        },
        "yaxis2": {
         "anchor": "x2",
         "domain": [
          0,
          0.495
         ],
         "matches": "y",
         "showticklabels": false,
         "title": {
          "text": ""
         }
        },
        "yaxis3": {
         "anchor": "x3",
         "domain": [
          0.505,
          1
         ],
         "matches": "y",
         "title": {
          "text": ""
         }
        },
        "yaxis4": {
         "anchor": "x4",
         "domain": [
          0.505,
          1
         ],
         "matches": "y",
         "showticklabels": false,
         "title": {
          "text": ""
         }
        }
       }
      }
     },
     "metadata": {},
     "output_type": "display_data"
    }
   ],
   "source": [
    "ref_fig = ref_trnnewcap[ref_trnnewcap['Vehicle Class'].isin(['LD Car', 'LD Truck', 'HD Truck'])][['Period', 'Carrier', 'Vehicle Class', 'New Capacity']]\n",
    "ref_fig['Carrier'] = ref_fig.Carrier.map(gtech_carrier_mapping)\n",
    "ref_fig['Vehicle Class'] = ref_fig['Vehicle Class'].map(gtech_class_mapping)\n",
    "ref_fig = ref_fig.groupby(['Period', 'Carrier', 'Vehicle Class'], as_index=False).sum()\n",
    "\n",
    "veh_tot_cap = ref_fig.groupby(['Period', 'Vehicle Class'], as_index=False).sum('New Capacity')\n",
    "ref_fig = pd.merge(ref_fig, veh_tot_cap, on=['Period', 'Vehicle Class'], suffixes=('', '_sum'))\n",
    "ref_fig['Market Share (%)'] = ref_fig['New Capacity'] / ref_fig['New Capacity_sum'] * 100\n",
    "ref_fig.rename(columns={'Vehicle Class': 'Class', 'Carrier': 'Drivetrain'}, inplace=True)\n",
    "\n",
    "ref_fig['Source'] = 'CANOE'\n",
    "gtech23_ref_vehshare['Source'] = 'gTech-IESD'\n",
    "gtech23_ref_vehshare['Period'] = gtech23_ref_vehshare['Period'].astype(str)\n",
    "fig_df = pd.concat([ref_fig[['Period', 'Class', 'Drivetrain', 'Source', 'Market Share (%)']], gtech23_ref_vehshare[['Period', 'Class', 'Drivetrain', 'Source', 'Market Share (%)']]]).reset_index(drop=True)\n",
    "fig_df['Class'] = pd.Categorical(fig_df['Class'], categories=['LDV', 'HDV'], ordered=True)\n",
    "fig_df = fig_df.sort_values(['Class', 'Period'])\n",
    "\n",
    "fig = px.area(fig_df, x='Period', y='Market Share (%)', color='Drivetrain', facet_col='Source', facet_row='Class',\n",
    "              template='plotly_white',\n",
    "              facet_col_spacing=0.02,\n",
    "              facet_row_spacing=0.01,\n",
    "              width=1100, height=600\n",
    "              )\n",
    "\n",
    "fig.update_layout(\n",
    "    title=dict(text='On road vehicle market share by weight class, drivetrain and energy model in ON',\n",
    "               x=0.5,\n",
    "               y=0.97,\n",
    "               xanchor='center',\n",
    "               yanchor='top'\n",
    "               ),\n",
    "    xaxis=dict(title='Period'),\n",
    "    yaxis=dict(title='Market Share (%)'),\n",
    "    yaxis_title_standoff=0,\n",
    "    legend_title_text='',\n",
    "    bargap=0.1,\n",
    "    legend=dict(orientation='h',\n",
    "                yanchor='top',\n",
    "                y=1.05,\n",
    "                xanchor='center',\n",
    "                x=0.5),\n",
    "    font=dict(size=13,\n",
    "              # family=\"Open Sans\"\n",
    "              ))\n",
    "\n",
    "for axis in fig.layout:\n",
    "    if axis.startswith('yaxis'):\n",
    "        fig.layout[axis].title.text = ''\n",
    "    if axis.startswith('xaxis'):\n",
    "        fig.layout[axis].title.text = ''\n",
    "\n",
    "fig.update_xaxes(tickangle=45)\n",
    "\n",
    "fig.add_annotation(\n",
    "    text=\"Market Share (%)\",\n",
    "    x=-0.05,  # Adjust x position as needed\n",
    "    y=0.5,\n",
    "    xref=\"paper\",\n",
    "    yref=\"paper\",\n",
    "    showarrow=False,\n",
    "    textangle=-90,\n",
    "    font=dict(size=14))\n",
    "\n",
    "fig.show()"
   ]
  },
  {
   "cell_type": "code",
   "execution_count": 28,
   "metadata": {},
   "outputs": [],
   "source": [
    "# from scipy.optimize import curve_fit\n",
    "\n",
    "# # Data\n",
    "# df = pd.read_csv('logistic_growth.csv')\n",
    "# df.drop(df.columns[1], axis=1, inplace=True)\n",
    "\n",
    "# # Ensure all data is numeric\n",
    "# df.iloc[:, 1:] = df.iloc[:, 1:].apply(pd.to_numeric)\n",
    "\n",
    "# # Polynomial fit (automatic) and extracting fitted arrays\n",
    "# years = np.array([2025, 2030, 2035, 2040, 2045, 2050], dtype=np.float64)\n",
    "\n",
    "# fitted_data = {}\n",
    "\n",
    "# # Determine the number of rows and columns for subplots\n",
    "# n_technologies = len(df)\n",
    "# n_cols = 2\n",
    "# n_rows = (n_technologies + 1) // n_cols\n",
    "\n",
    "# fig, axes = plt.subplots(n_rows, n_cols, figsize=(15, 10))\n",
    "# axes = axes.flatten()\n",
    "\n",
    "# for idx, row in df.iterrows():\n",
    "#     technology = row['Technology']\n",
    "#     capacities = row[1:].astype(np.float64).values  # Convert capacities to float64\n",
    "    \n",
    "#     # Fit a cubic polynomial to the data\n",
    "#     poly_coeffs = np.polyfit(years, capacities, deg=3)  # Degree 3 polynomial\n",
    "#     poly_fit = np.polyval(poly_coeffs, years)\n",
    "    \n",
    "#     fitted_data[technology] = poly_fit\n",
    "\n",
    "#     # Plotting in a subplot\n",
    "#     ax = axes[idx]\n",
    "#     ax.plot(years, capacities, 'o', label='Original Data')\n",
    "#     ax.plot(years, poly_fit, '-', label='Fitted Polynomial')\n",
    "#     ax.set_title(f'{technology}')\n",
    "#     ax.set_xlabel('Year')\n",
    "#     ax.set_ylabel('Capacity')\n",
    "#     ax.legend()\n",
    "#     ax.grid(True)\n",
    "\n",
    "# # Adjust layout and show the figure\n",
    "# plt.tight_layout()\n",
    "# plt.show()\n",
    "\n",
    "# # Convert fitted data to DataFrame\n",
    "# fitted_df = pd.DataFrame(fitted_data).T  # Transpose to have technologies as rows\n",
    "# fitted_df.columns = years\n",
    "# fitted_df.index.name = 'Technology'\n",
    "\n",
    "# # Copy the DataFrame to clipboard for easy export\n",
    "# fitted_df.to_clipboard()"
   ]
  },
  {
   "cell_type": "markdown",
   "metadata": {},
   "source": [
    "# CANOE vs CEF 2023 vs gTech-IESD - power generation capacity and activity"
   ]
  },
  {
   "cell_type": "code",
   "execution_count": 29,
   "metadata": {},
   "outputs": [],
   "source": [
    "plant_mapping = {\n",
    "    'E_BIO': 'Biomass',\n",
    "    'E_NG': 'Natural Gas',\n",
    "    'E_HYD': 'Hydro',\n",
    "    'E_SOL': 'Solar',\n",
    "    'E_WND': 'Wind',\n",
    "    'E_NUC': 'Nuclear',\n",
    "}\n",
    "\n",
    "def map_tech_to_plant(tech):\n",
    "    for prefix, plant_name in plant_mapping.items():\n",
    "        if tech.startswith(prefix):\n",
    "            return plant_name\n",
    "    return 'Other'\n",
    "\n",
    "ref_elcact['Plant Type'] = ref_elcact['Technology'].apply(map_tech_to_plant)\n",
    "ref_elccap['Plant Type'] = ref_elccap['Technology'].apply(map_tech_to_plant)\n",
    "vanilla_elcact['Plant Type'] = vanilla_elcact['Technology'].apply(map_tech_to_plant)\n",
    "vanilla_elccap['Plant Type'] = vanilla_elccap['Technology'].apply(map_tech_to_plant)"
   ]
  },
  {
   "cell_type": "code",
   "execution_count": 30,
   "metadata": {},
   "outputs": [],
   "source": [
    "ref_elccap.columns = ref_elccap.columns.astype(str)\n",
    "vanilla_elccap.columns = vanilla_elccap.columns.astype(str)\n",
    "\n",
    "periods = [col for col in ref_elccap.columns if col.isdigit()]\n",
    "params = [col for col in ref_elccap.columns if not col.isdigit()]\n",
    "\n",
    "ref_elccap = pd.melt(ref_elccap, id_vars=params, var_name='Period', value_name='Capacity (GW)', value_vars=periods)\n",
    "vanilla_elccap = pd.melt(vanilla_elccap, id_vars=params, var_name='Period', value_name='Capacity (GW)', value_vars=periods)"
   ]
  },
  {
   "cell_type": "code",
   "execution_count": 31,
   "metadata": {},
   "outputs": [],
   "source": [
    "def plant_rename(type):\n",
    "    if type == 'hydro':\n",
    "        return 'Hydro'\n",
    "    if type == 'natural gas':\n",
    "        return 'Natural Gas'\n",
    "    if type == 'natural gas w ccs':\n",
    "        return 'Natural Gas'\n",
    "    if type == 'nuclear':\n",
    "        return 'Nuclear'\n",
    "    if type == 'solar':\n",
    "        return 'Solar'\n",
    "    if type == 'wind':\n",
    "        return 'Wind'\n",
    "    else: return 'Other'\n",
    "    \n",
    "gtech23_ref_cap['Plant Type'] = gtech23_ref_cap['Plant Type'].apply(plant_rename)\n",
    "gtech23_ref_cap = gtech23_ref_cap.groupby(['Period', 'Plant Type'], as_index=False).sum()"
   ]
  },
  {
   "cell_type": "code",
   "execution_count": 32,
   "metadata": {},
   "outputs": [
    {
     "data": {
      "application/vnd.plotly.v1+json": {
       "config": {
        "plotlyServerURL": "https://plot.ly"
       },
       "data": [
        {
         "hovertemplate": "Plant Type=Biomass<br>Period=2021<br>Source=%{x}<br>Capacity (GW)=%{y}<extra></extra>",
         "legendgroup": "Biomass",
         "marker": {
          "color": "#3366CC",
          "pattern": {
           "shape": ""
          }
         },
         "name": "Biomass",
         "orientation": "v",
         "showlegend": true,
         "textfont": {
          "size": 9
         },
         "textposition": "auto",
         "texttemplate": "%{y:.1f}",
         "type": "bar",
         "x": [
          "CANOE (vanilla)",
          "CANOE (ref)",
          "CEF2023"
         ],
         "xaxis": "x",
         "y": {
          "bdata": "30+Nl24S0z9Adj8+mhLTP9CbilQYW+Y/",
          "dtype": "f8"
         },
         "yaxis": "y"
        },
        {
         "hovertemplate": "Plant Type=Biomass<br>Period=2025<br>Source=%{x}<br>Capacity (GW)=%{y}<extra></extra>",
         "legendgroup": "Biomass",
         "marker": {
          "color": "#3366CC",
          "pattern": {
           "shape": ""
          }
         },
         "name": "Biomass",
         "orientation": "v",
         "showlegend": false,
         "textfont": {
          "size": 9
         },
         "textposition": "auto",
         "texttemplate": "%{y:.1f}",
         "type": "bar",
         "x": [
          "CANOE (vanilla)",
          "CANOE (ref)",
          "CEF2023"
         ],
         "xaxis": "x2",
         "y": {
          "bdata": "30+Nl24S0z9rDXAWyBLTP9CbilQYW+Y/",
          "dtype": "f8"
         },
         "yaxis": "y2"
        },
        {
         "hovertemplate": "Plant Type=Biomass<br>Period=2030<br>Source=%{x}<br>Capacity (GW)=%{y}<extra></extra>",
         "legendgroup": "Biomass",
         "marker": {
          "color": "#3366CC",
          "pattern": {
           "shape": ""
          }
         },
         "name": "Biomass",
         "orientation": "v",
         "showlegend": false,
         "textfont": {
          "size": 9
         },
         "textposition": "auto",
         "texttemplate": "%{y:.1f}",
         "type": "bar",
         "x": [
          "CANOE (vanilla)",
          "CANOE (ref)",
          "CEF2023"
         ],
         "xaxis": "x3",
         "y": {
          "bdata": "30+Nl24S0z8M9Eo39xLTP9CbilQYW+Y/",
          "dtype": "f8"
         },
         "yaxis": "y3"
        },
        {
         "hovertemplate": "Plant Type=Biomass<br>Period=2035<br>Source=%{x}<br>Capacity (GW)=%{y}<extra></extra>",
         "legendgroup": "Biomass",
         "marker": {
          "color": "#3366CC",
          "pattern": {
           "shape": ""
          }
         },
         "name": "Biomass",
         "orientation": "v",
         "showlegend": false,
         "textfont": {
          "size": 9
         },
         "textposition": "auto",
         "texttemplate": "%{y:.1f}",
         "type": "bar",
         "x": [
          "CANOE (vanilla)",
          "CANOE (ref)",
          "CEF2023"
         ],
         "xaxis": "x4",
         "y": {
          "bdata": "30+Nl24S0z+hOa68JRPTP9CbilQYW+Y/",
          "dtype": "f8"
         },
         "yaxis": "y4"
        },
        {
         "hovertemplate": "Plant Type=Biomass<br>Period=2040<br>Source=%{x}<br>Capacity (GW)=%{y}<extra></extra>",
         "legendgroup": "Biomass",
         "marker": {
          "color": "#3366CC",
          "pattern": {
           "shape": ""
          }
         },
         "name": "Biomass",
         "orientation": "v",
         "showlegend": false,
         "textfont": {
          "size": 9
         },
         "textposition": "auto",
         "texttemplate": "%{y:.1f}",
         "type": "bar",
         "x": [
          "CANOE (vanilla)",
          "CANOE (ref)",
          "CEF2023"
         ],
         "xaxis": "x5",
         "y": {
          "bdata": "30+Nl24S0z9zp5BjUhPTP9CbilQYW+Y/",
          "dtype": "f8"
         },
         "yaxis": "y5"
        },
        {
         "hovertemplate": "Plant Type=Biomass<br>Period=2045<br>Source=%{x}<br>Capacity (GW)=%{y}<extra></extra>",
         "legendgroup": "Biomass",
         "marker": {
          "color": "#3366CC",
          "pattern": {
           "shape": ""
          }
         },
         "name": "Biomass",
         "orientation": "v",
         "showlegend": false,
         "textfont": {
          "size": 9
         },
         "textposition": "auto",
         "texttemplate": "%{y:.1f}",
         "type": "bar",
         "x": [
          "CANOE (vanilla)",
          "CANOE (ref)",
          "CEF2023"
         ],
         "xaxis": "x6",
         "y": {
          "bdata": "pHA9Ctej0D84yEDWuqTQP9CbilQYW+Y/",
          "dtype": "f8"
         },
         "yaxis": "y6"
        },
        {
         "hovertemplate": "Plant Type=Biomass<br>Period=2050<br>Source=%{x}<br>Capacity (GW)=%{y}<extra></extra>",
         "legendgroup": "Biomass",
         "marker": {
          "color": "#3366CC",
          "pattern": {
           "shape": ""
          }
         },
         "name": "Biomass",
         "orientation": "v",
         "showlegend": false,
         "textfont": {
          "size": 9
         },
         "textposition": "auto",
         "texttemplate": "%{y:.1f}",
         "type": "bar",
         "x": [
          "CANOE (vanilla)",
          "CANOE (ref)",
          "CEF2023"
         ],
         "xaxis": "x7",
         "y": {
          "bdata": "pHA9Ctej0D/TzL3f5qTQP9CbilQYW+Y/",
          "dtype": "f8"
         },
         "yaxis": "y7"
        },
        {
         "hovertemplate": "Plant Type=Hydro<br>Period=2021<br>Source=%{x}<br>Capacity (GW)=%{y}<extra></extra>",
         "legendgroup": "Hydro",
         "marker": {
          "color": "#DC3912",
          "pattern": {
           "shape": ""
          }
         },
         "name": "Hydro",
         "orientation": "v",
         "showlegend": true,
         "textfont": {
          "size": 9
         },
         "textposition": "auto",
         "texttemplate": "%{y:.1f}",
         "type": "bar",
         "x": [
          "CANOE (vanilla)",
          "CANOE (ref)",
          "CEF2023",
          "gTech-IESD"
         ],
         "xaxis": "x",
         "y": {
          "bdata": "uI0G8BaIG0C4jQbwFogbQPQ3oRABhyJAfAvrxrsLIkA=",
          "dtype": "f8"
         },
         "yaxis": "y"
        },
        {
         "hovertemplate": "Plant Type=Hydro<br>Period=2025<br>Source=%{x}<br>Capacity (GW)=%{y}<extra></extra>",
         "legendgroup": "Hydro",
         "marker": {
          "color": "#DC3912",
          "pattern": {
           "shape": ""
          }
         },
         "name": "Hydro",
         "orientation": "v",
         "showlegend": false,
         "textfont": {
          "size": 9
         },
         "textposition": "auto",
         "texttemplate": "%{y:.1f}",
         "type": "bar",
         "x": [
          "CANOE (vanilla)",
          "CANOE (ref)",
          "CEF2023",
          "gTech-IESD"
         ],
         "xaxis": "x2",
         "y": {
          "bdata": "uI0G8BaIG0C4jQbwFogbQPQ3oRABhyJAfAvrxrsLIkA=",
          "dtype": "f8"
         },
         "yaxis": "y2"
        },
        {
         "hovertemplate": "Plant Type=Hydro<br>Period=2030<br>Source=%{x}<br>Capacity (GW)=%{y}<extra></extra>",
         "legendgroup": "Hydro",
         "marker": {
          "color": "#DC3912",
          "pattern": {
           "shape": ""
          }
         },
         "name": "Hydro",
         "orientation": "v",
         "showlegend": false,
         "textfont": {
          "size": 9
         },
         "textposition": "auto",
         "texttemplate": "%{y:.1f}",
         "type": "bar",
         "x": [
          "CANOE (vanilla)",
          "CANOE (ref)",
          "CEF2023",
          "gTech-IESD"
         ],
         "xaxis": "x3",
         "y": {
          "bdata": "uI0G8BaIG0C4jQbwFogbQPQ3oRABhyJAfAvrxrsLIkA=",
          "dtype": "f8"
         },
         "yaxis": "y3"
        },
        {
         "hovertemplate": "Plant Type=Hydro<br>Period=2035<br>Source=%{x}<br>Capacity (GW)=%{y}<extra></extra>",
         "legendgroup": "Hydro",
         "marker": {
          "color": "#DC3912",
          "pattern": {
           "shape": ""
          }
         },
         "name": "Hydro",
         "orientation": "v",
         "showlegend": false,
         "textfont": {
          "size": 9
         },
         "textposition": "auto",
         "texttemplate": "%{y:.1f}",
         "type": "bar",
         "x": [
          "CANOE (vanilla)",
          "CANOE (ref)",
          "CEF2023",
          "gTech-IESD"
         ],
         "xaxis": "x4",
         "y": {
          "bdata": "uI0G8BaIG0C4jQbwFogbQPQ3oRABhyJAfAvrxrsLIkA=",
          "dtype": "f8"
         },
         "yaxis": "y4"
        },
        {
         "hovertemplate": "Plant Type=Hydro<br>Period=2040<br>Source=%{x}<br>Capacity (GW)=%{y}<extra></extra>",
         "legendgroup": "Hydro",
         "marker": {
          "color": "#DC3912",
          "pattern": {
           "shape": ""
          }
         },
         "name": "Hydro",
         "orientation": "v",
         "showlegend": false,
         "textfont": {
          "size": 9
         },
         "textposition": "auto",
         "texttemplate": "%{y:.1f}",
         "type": "bar",
         "x": [
          "CANOE (vanilla)",
          "CANOE (ref)",
          "CEF2023",
          "gTech-IESD"
         ],
         "xaxis": "x5",
         "y": {
          "bdata": "uI0G8BaIG0C4jQbwFogbQPQ3oRABhyJAfAvrxrsLIkA=",
          "dtype": "f8"
         },
         "yaxis": "y5"
        },
        {
         "hovertemplate": "Plant Type=Hydro<br>Period=2045<br>Source=%{x}<br>Capacity (GW)=%{y}<extra></extra>",
         "legendgroup": "Hydro",
         "marker": {
          "color": "#DC3912",
          "pattern": {
           "shape": ""
          }
         },
         "name": "Hydro",
         "orientation": "v",
         "showlegend": false,
         "textfont": {
          "size": 9
         },
         "textposition": "auto",
         "texttemplate": "%{y:.1f}",
         "type": "bar",
         "x": [
          "CANOE (vanilla)",
          "CANOE (ref)",
          "CEF2023",
          "gTech-IESD"
         ],
         "xaxis": "x6",
         "y": {
          "bdata": "uI0G8BaIG0C4jQbwFogbQPQ3oRABhyJAfAvrxrsLIkA=",
          "dtype": "f8"
         },
         "yaxis": "y6"
        },
        {
         "hovertemplate": "Plant Type=Hydro<br>Period=2050<br>Source=%{x}<br>Capacity (GW)=%{y}<extra></extra>",
         "legendgroup": "Hydro",
         "marker": {
          "color": "#DC3912",
          "pattern": {
           "shape": ""
          }
         },
         "name": "Hydro",
         "orientation": "v",
         "showlegend": false,
         "textfont": {
          "size": 9
         },
         "textposition": "auto",
         "texttemplate": "%{y:.1f}",
         "type": "bar",
         "x": [
          "CANOE (vanilla)",
          "CANOE (ref)",
          "CEF2023",
          "gTech-IESD"
         ],
         "xaxis": "x7",
         "y": {
          "bdata": "uI0G8BaIG0C4jQbwFogbQPQ3oRABhyJAfAvrxrsLIkA=",
          "dtype": "f8"
         },
         "yaxis": "y7"
        },
        {
         "hovertemplate": "Plant Type=Natural Gas<br>Period=2021<br>Source=%{x}<br>Capacity (GW)=%{y}<extra></extra>",
         "legendgroup": "Natural Gas",
         "marker": {
          "color": "#FF9900",
          "pattern": {
           "shape": ""
          }
         },
         "name": "Natural Gas",
         "orientation": "v",
         "showlegend": true,
         "textfont": {
          "size": 9
         },
         "textposition": "auto",
         "texttemplate": "%{y:.1f}",
         "type": "bar",
         "x": [
          "CANOE (vanilla)",
          "CANOE (ref)",
          "CEF2023",
          "gTech-IESD"
         ],
         "xaxis": "x",
         "y": {
          "bdata": "Cscl9mQFOkAqgzGX6B86QIOj5NU5diFAl9N1E0LDIUA=",
          "dtype": "f8"
         },
         "yaxis": "y"
        },
        {
         "hovertemplate": "Plant Type=Natural Gas<br>Period=2025<br>Source=%{x}<br>Capacity (GW)=%{y}<extra></extra>",
         "legendgroup": "Natural Gas",
         "marker": {
          "color": "#FF9900",
          "pattern": {
           "shape": ""
          }
         },
         "name": "Natural Gas",
         "orientation": "v",
         "showlegend": false,
         "textfont": {
          "size": 9
         },
         "textposition": "auto",
         "texttemplate": "%{y:.1f}",
         "type": "bar",
         "x": [
          "CANOE (vanilla)",
          "CANOE (ref)",
          "CEF2023",
          "gTech-IESD"
         ],
         "xaxis": "x2",
         "y": {
          "bdata": "iN1SB21GQECMnGDrk2BAQCBXdgP9eyJAl9N1E0LDIUA=",
          "dtype": "f8"
         },
         "yaxis": "y2"
        },
        {
         "hovertemplate": "Plant Type=Natural Gas<br>Period=2030<br>Source=%{x}<br>Capacity (GW)=%{y}<extra></extra>",
         "legendgroup": "Natural Gas",
         "marker": {
          "color": "#FF9900",
          "pattern": {
           "shape": ""
          }
         },
         "name": "Natural Gas",
         "orientation": "v",
         "showlegend": false,
         "textfont": {
          "size": 9
         },
         "textposition": "auto",
         "texttemplate": "%{y:.1f}",
         "type": "bar",
         "x": [
          "CANOE (vanilla)",
          "CANOE (ref)",
          "CEF2023",
          "gTech-IESD"
         ],
         "xaxis": "x3",
         "y": {
          "bdata": "/F1IuTeKQ0AZwkNVRLJDQHUugJ782ydAU8hq+rk/HkA=",
          "dtype": "f8"
         },
         "yaxis": "y3"
        },
        {
         "hovertemplate": "Plant Type=Natural Gas<br>Period=2035<br>Source=%{x}<br>Capacity (GW)=%{y}<extra></extra>",
         "legendgroup": "Natural Gas",
         "marker": {
          "color": "#FF9900",
          "pattern": {
           "shape": ""
          }
         },
         "name": "Natural Gas",
         "orientation": "v",
         "showlegend": false,
         "textfont": {
          "size": 9
         },
         "textposition": "auto",
         "texttemplate": "%{y:.1f}",
         "type": "bar",
         "x": [
          "CANOE (vanilla)",
          "CANOE (ref)",
          "CEF2023",
          "gTech-IESD"
         ],
         "xaxis": "x4",
         "y": {
          "bdata": "nzU24O3NRkC0gSJg1QJHQCcwf/TzAi9AU8hq+rk/HkA=",
          "dtype": "f8"
         },
         "yaxis": "y4"
        },
        {
         "hovertemplate": "Plant Type=Natural Gas<br>Period=2040<br>Source=%{x}<br>Capacity (GW)=%{y}<extra></extra>",
         "legendgroup": "Natural Gas",
         "marker": {
          "color": "#FF9900",
          "pattern": {
           "shape": ""
          }
         },
         "name": "Natural Gas",
         "orientation": "v",
         "showlegend": false,
         "textfont": {
          "size": 9
         },
         "textposition": "auto",
         "texttemplate": "%{y:.1f}",
         "type": "bar",
         "x": [
          "CANOE (vanilla)",
          "CANOE (ref)",
          "CEF2023",
          "gTech-IESD"
         ],
         "xaxis": "x5",
         "y": {
          "bdata": "jryw67X/SUAD+fvacEFKQCimjvjKQTBAU8hq+rk/HkA=",
          "dtype": "f8"
         },
         "yaxis": "y5"
        },
        {
         "hovertemplate": "Plant Type=Natural Gas<br>Period=2045<br>Source=%{x}<br>Capacity (GW)=%{y}<extra></extra>",
         "legendgroup": "Natural Gas",
         "marker": {
          "color": "#FF9900",
          "pattern": {
           "shape": ""
          }
         },
         "name": "Natural Gas",
         "orientation": "v",
         "showlegend": false,
         "textfont": {
          "size": 9
         },
         "textposition": "auto",
         "texttemplate": "%{y:.1f}",
         "type": "bar",
         "x": [
          "CANOE (vanilla)",
          "CANOE (ref)",
          "CEF2023",
          "gTech-IESD"
         ],
         "xaxis": "x6",
         "y": {
          "bdata": "SZIMUT08TUAiP/arxopNQIAz2KRAwDFAPiIiDG55HkA=",
          "dtype": "f8"
         },
         "yaxis": "y6"
        },
        {
         "hovertemplate": "Plant Type=Natural Gas<br>Period=2050<br>Source=%{x}<br>Capacity (GW)=%{y}<extra></extra>",
         "legendgroup": "Natural Gas",
         "marker": {
          "color": "#FF9900",
          "pattern": {
           "shape": ""
          }
         },
         "name": "Natural Gas",
         "orientation": "v",
         "showlegend": false,
         "textfont": {
          "size": 9
         },
         "textposition": "auto",
         "texttemplate": "%{y:.1f}",
         "type": "bar",
         "x": [
          "CANOE (vanilla)",
          "CANOE (ref)",
          "CEF2023",
          "gTech-IESD"
         ],
         "xaxis": "x7",
         "y": {
          "bdata": "CMbY+3o4UEAayRv4J2ZQQKtcxIsLfzBAN77noWUNIUA=",
          "dtype": "f8"
         },
         "yaxis": "y7"
        },
        {
         "hovertemplate": "Plant Type=Nuclear<br>Period=2021<br>Source=%{x}<br>Capacity (GW)=%{y}<extra></extra>",
         "legendgroup": "Nuclear",
         "marker": {
          "color": "#109618",
          "pattern": {
           "shape": ""
          }
         },
         "name": "Nuclear",
         "orientation": "v",
         "showlegend": true,
         "textfont": {
          "size": 9
         },
         "textposition": "auto",
         "texttemplate": "%{y:.1f}",
         "type": "bar",
         "x": [
          "CANOE (vanilla)",
          "CANOE (ref)",
          "CEF2023",
          "gTech-IESD"
         ],
         "xaxis": "x",
         "y": {
          "bdata": "Gy/dJAbBJEAbL90kBsEkQMP1KFyPwihAVg4tsp2vKEA=",
          "dtype": "f8"
         },
         "yaxis": "y"
        },
        {
         "hovertemplate": "Plant Type=Nuclear<br>Period=2025<br>Source=%{x}<br>Capacity (GW)=%{y}<extra></extra>",
         "legendgroup": "Nuclear",
         "marker": {
          "color": "#109618",
          "pattern": {
           "shape": ""
          }
         },
         "name": "Nuclear",
         "orientation": "v",
         "showlegend": false,
         "textfont": {
          "size": 9
         },
         "textposition": "auto",
         "texttemplate": "%{y:.1f}",
         "type": "bar",
         "x": [
          "CANOE (vanilla)",
          "CANOE (ref)",
          "CEF2023",
          "gTech-IESD"
         ],
         "xaxis": "x2",
         "y": {
          "bdata": "Gy/dJAbBJEAbL90kBsEkQKRwPQrX4yZAmpmZmZlZJUA=",
          "dtype": "f8"
         },
         "yaxis": "y2"
        },
        {
         "hovertemplate": "Plant Type=Nuclear<br>Period=2030<br>Source=%{x}<br>Capacity (GW)=%{y}<extra></extra>",
         "legendgroup": "Nuclear",
         "marker": {
          "color": "#109618",
          "pattern": {
           "shape": ""
          }
         },
         "name": "Nuclear",
         "orientation": "v",
         "showlegend": false,
         "textfont": {
          "size": 9
         },
         "textposition": "auto",
         "texttemplate": "%{y:.1f}",
         "type": "bar",
         "x": [
          "CANOE (vanilla)",
          "CANOE (ref)",
          "CEF2023",
          "gTech-IESD"
         ],
         "xaxis": "x3",
         "y": {
          "bdata": "mpmZmZkZHUCamZmZmRkdQLgehetRuCRAL90kBoEVI0A=",
          "dtype": "f8"
         },
         "yaxis": "y3"
        },
        {
         "hovertemplate": "Plant Type=Nuclear<br>Period=2035<br>Source=%{x}<br>Capacity (GW)=%{y}<extra></extra>",
         "legendgroup": "Nuclear",
         "marker": {
          "color": "#109618",
          "pattern": {
           "shape": ""
          }
         },
         "name": "Nuclear",
         "orientation": "v",
         "showlegend": false,
         "textfont": {
          "size": 9
         },
         "textposition": "auto",
         "texttemplate": "%{y:.1f}",
         "type": "bar",
         "x": [
          "CANOE (vanilla)",
          "CANOE (ref)",
          "CEF2023",
          "gTech-IESD"
         ],
         "xaxis": "x4",
         "y": {
          "bdata": "ke18PzXeFkCR7Xw/Nd4WQGZmZmZmZiZA/tR46SbxI0A=",
          "dtype": "f8"
         },
         "yaxis": "y4"
        },
        {
         "hovertemplate": "Plant Type=Nuclear<br>Period=2040<br>Source=%{x}<br>Capacity (GW)=%{y}<extra></extra>",
         "legendgroup": "Nuclear",
         "marker": {
          "color": "#109618",
          "pattern": {
           "shape": ""
          }
         },
         "name": "Nuclear",
         "orientation": "v",
         "showlegend": false,
         "textfont": {
          "size": 9
         },
         "textposition": "auto",
         "texttemplate": "%{y:.1f}",
         "type": "bar",
         "x": [
          "CANOE (vanilla)",
          "CANOE (ref)",
          "CEF2023",
          "gTech-IESD"
         ],
         "xaxis": "x5",
         "y": {
          "bdata": "f2q8dJOYEEB/arx0k5gQQGZmZmZmZiZAzczMzMzMJEA=",
          "dtype": "f8"
         },
         "yaxis": "y5"
        },
        {
         "hovertemplate": "Plant Type=Nuclear<br>Period=2045<br>Source=%{x}<br>Capacity (GW)=%{y}<extra></extra>",
         "legendgroup": "Nuclear",
         "marker": {
          "color": "#109618",
          "pattern": {
           "shape": ""
          }
         },
         "name": "Nuclear",
         "orientation": "v",
         "showlegend": false,
         "textfont": {
          "size": 9
         },
         "textposition": "auto",
         "texttemplate": "%{y:.1f}",
         "type": "bar",
         "x": [
          "CANOE (vanilla)",
          "CANOE (ref)",
          "CEF2023",
          "gTech-IESD"
         ],
         "xaxis": "x6",
         "y": {
          "bdata": "/tR46SYx7D/+1HjpJjHsP2ZmZmZmZiZAzczMzMzMJEA=",
          "dtype": "f8"
         },
         "yaxis": "y6"
        },
        {
         "hovertemplate": "Plant Type=Nuclear<br>Period=2050<br>Source=%{x}<br>Capacity (GW)=%{y}<extra></extra>",
         "legendgroup": "Nuclear",
         "marker": {
          "color": "#109618",
          "pattern": {
           "shape": ""
          }
         },
         "name": "Nuclear",
         "orientation": "v",
         "showlegend": false,
         "textfont": {
          "size": 9
         },
         "textposition": "auto",
         "texttemplate": "%{y:.1f}",
         "type": "bar",
         "x": [
          "CANOE (vanilla)",
          "CANOE (ref)",
          "CEF2023",
          "gTech-IESD"
         ],
         "xaxis": "x7",
         "y": {
          "bdata": "/tR46SYx7D/+1HjpJjHsP2ZmZmZmZiZAzczMzMzMJEA=",
          "dtype": "f8"
         },
         "yaxis": "y7"
        },
        {
         "hovertemplate": "Plant Type=Solar<br>Period=2021<br>Source=%{x}<br>Capacity (GW)=%{y}<extra></extra>",
         "legendgroup": "Solar",
         "marker": {
          "color": "#990099",
          "pattern": {
           "shape": ""
          }
         },
         "name": "Solar",
         "orientation": "v",
         "showlegend": true,
         "textfont": {
          "size": 9
         },
         "textposition": "auto",
         "texttemplate": "%{y:.1f}",
         "type": "bar",
         "x": [
          "CANOE (vanilla)",
          "CANOE (ref)",
          "CEF2023",
          "gTech-IESD"
         ],
         "xaxis": "x",
         "y": {
          "bdata": "7BQo9lGa3j9xkaRGC6DeP17XL9gNWwVA2XNgFKCIAkA=",
          "dtype": "f8"
         },
         "yaxis": "y"
        },
        {
         "hovertemplate": "Plant Type=Solar<br>Period=2025<br>Source=%{x}<br>Capacity (GW)=%{y}<extra></extra>",
         "legendgroup": "Solar",
         "marker": {
          "color": "#990099",
          "pattern": {
           "shape": ""
          }
         },
         "name": "Solar",
         "orientation": "v",
         "showlegend": false,
         "textfont": {
          "size": 9
         },
         "textposition": "auto",
         "texttemplate": "%{y:.1f}",
         "type": "bar",
         "x": [
          "CANOE (vanilla)",
          "CANOE (ref)",
          "CEF2023",
          "gTech-IESD"
         ],
         "xaxis": "x2",
         "y": {
          "bdata": "Z8zW6gue3j+ZkcpJBqveP17XL9gNWwVAMO9GJq1mEEA=",
          "dtype": "f8"
         },
         "yaxis": "y2"
        },
        {
         "hovertemplate": "Plant Type=Solar<br>Period=2030<br>Source=%{x}<br>Capacity (GW)=%{y}<extra></extra>",
         "legendgroup": "Solar",
         "marker": {
          "color": "#990099",
          "pattern": {
           "shape": ""
          }
         },
         "name": "Solar",
         "orientation": "v",
         "showlegend": false,
         "textfont": {
          "size": 9
         },
         "textposition": "auto",
         "texttemplate": "%{y:.1f}",
         "type": "bar",
         "x": [
          "CANOE (vanilla)",
          "CANOE (ref)",
          "CEF2023",
          "gTech-IESD"
         ],
         "xaxis": "x3",
         "y": {
          "bdata": "lQXATXun3j8//sJczMTeP17XL9gNWwVA5UcVKNY9JkA=",
          "dtype": "f8"
         },
         "yaxis": "y3"
        },
        {
         "hovertemplate": "Plant Type=Solar<br>Period=2035<br>Source=%{x}<br>Capacity (GW)=%{y}<extra></extra>",
         "legendgroup": "Solar",
         "marker": {
          "color": "#990099",
          "pattern": {
           "shape": ""
          }
         },
         "name": "Solar",
         "orientation": "v",
         "showlegend": false,
         "textfont": {
          "size": 9
         },
         "textposition": "auto",
         "texttemplate": "%{y:.1f}",
         "type": "bar",
         "x": [
          "CANOE (vanilla)",
          "CANOE (ref)",
          "CEF2023",
          "gTech-IESD"
         ],
         "xaxis": "x4",
         "y": {
          "bdata": "Qr5hdiV4NEBKqTlcnao0QF7XL9gNWwVAy6zWcC5lLUA=",
          "dtype": "f8"
         },
         "yaxis": "y4"
        },
        {
         "hovertemplate": "Plant Type=Solar<br>Period=2040<br>Source=%{x}<br>Capacity (GW)=%{y}<extra></extra>",
         "legendgroup": "Solar",
         "marker": {
          "color": "#990099",
          "pattern": {
           "shape": ""
          }
         },
         "name": "Solar",
         "orientation": "v",
         "showlegend": false,
         "textfont": {
          "size": 9
         },
         "textposition": "auto",
         "texttemplate": "%{y:.1f}",
         "type": "bar",
         "x": [
          "CANOE (vanilla)",
          "CANOE (ref)",
          "CEF2023",
          "gTech-IESD"
         ],
         "xaxis": "x5",
         "y": {
          "bdata": "KUui/sX7N0DrU/6JDUo4QF7XL9gNWwVAHOM3Q3kHNEA=",
          "dtype": "f8"
         },
         "yaxis": "y5"
        },
        {
         "hovertemplate": "Plant Type=Solar<br>Period=2045<br>Source=%{x}<br>Capacity (GW)=%{y}<extra></extra>",
         "legendgroup": "Solar",
         "marker": {
          "color": "#990099",
          "pattern": {
           "shape": ""
          }
         },
         "name": "Solar",
         "orientation": "v",
         "showlegend": false,
         "textfont": {
          "size": 9
         },
         "textposition": "auto",
         "texttemplate": "%{y:.1f}",
         "type": "bar",
         "x": [
          "CANOE (vanilla)",
          "CANOE (ref)",
          "CEF2023",
          "gTech-IESD"
         ],
         "xaxis": "x6",
         "y": {
          "bdata": "FB4zd5OaN0DUewgbAuk3QBGnQiV2WRZAFgvwm8qjPUA=",
          "dtype": "f8"
         },
         "yaxis": "y6"
        },
        {
         "hovertemplate": "Plant Type=Solar<br>Period=2050<br>Source=%{x}<br>Capacity (GW)=%{y}<extra></extra>",
         "legendgroup": "Solar",
         "marker": {
          "color": "#990099",
          "pattern": {
           "shape": ""
          }
         },
         "name": "Solar",
         "orientation": "v",
         "showlegend": false,
         "textfont": {
          "size": 9
         },
         "textposition": "auto",
         "texttemplate": "%{y:.1f}",
         "type": "bar",
         "x": [
          "CANOE (vanilla)",
          "CANOE (ref)",
          "CEF2023",
          "gTech-IESD"
         ],
         "xaxis": "x7",
         "y": {
          "bdata": "FS9u8T87OED73aP42ic4QDQ1td4CtR1AAVL28StTQ0A=",
          "dtype": "f8"
         },
         "yaxis": "y7"
        },
        {
         "hovertemplate": "Plant Type=Wind<br>Period=2021<br>Source=%{x}<br>Capacity (GW)=%{y}<extra></extra>",
         "legendgroup": "Wind",
         "marker": {
          "color": "#0099C6",
          "pattern": {
           "shape": ""
          }
         },
         "name": "Wind",
         "orientation": "v",
         "showlegend": true,
         "textfont": {
          "size": 9
         },
         "textposition": "auto",
         "texttemplate": "%{y:.1f}",
         "type": "bar",
         "x": [
          "CANOE (vanilla)",
          "CANOE (ref)",
          "CEF2023",
          "gTech-IESD"
         ],
         "xaxis": "x",
         "y": {
          "bdata": "Sx71wwFDEkDKZX/IZ0QSQMzuycNCTRZAWMUbmUe+FUA=",
          "dtype": "f8"
         },
         "yaxis": "y"
        },
        {
         "hovertemplate": "Plant Type=Wind<br>Period=2025<br>Source=%{x}<br>Capacity (GW)=%{y}<extra></extra>",
         "legendgroup": "Wind",
         "marker": {
          "color": "#0099C6",
          "pattern": {
           "shape": ""
          }
         },
         "name": "Wind",
         "orientation": "v",
         "showlegend": false,
         "textfont": {
          "size": 9
         },
         "textposition": "auto",
         "texttemplate": "%{y:.1f}",
         "type": "bar",
         "x": [
          "CANOE (vanilla)",
          "CANOE (ref)",
          "CEF2023",
          "gTech-IESD"
         ],
         "xaxis": "x2",
         "y": {
          "bdata": "8TPe2yJpJUBji21KVIYlQMzuycNCTRZAWMUbmUe+FUA=",
          "dtype": "f8"
         },
         "yaxis": "y2"
        },
        {
         "hovertemplate": "Plant Type=Wind<br>Period=2030<br>Source=%{x}<br>Capacity (GW)=%{y}<extra></extra>",
         "legendgroup": "Wind",
         "marker": {
          "color": "#0099C6",
          "pattern": {
           "shape": ""
          }
         },
         "name": "Wind",
         "orientation": "v",
         "showlegend": false,
         "textfont": {
          "size": 9
         },
         "textposition": "auto",
         "texttemplate": "%{y:.1f}",
         "type": "bar",
         "x": [
          "CANOE (vanilla)",
          "CANOE (ref)",
          "CEF2023",
          "gTech-IESD"
         ],
         "xaxis": "x3",
         "y": {
          "bdata": "aKBGmZAtOkC6N2WnKmY6QHNuhT+EKh9A+U4GJrtbIEA=",
          "dtype": "f8"
         },
         "yaxis": "y3"
        },
        {
         "hovertemplate": "Plant Type=Wind<br>Period=2035<br>Source=%{x}<br>Capacity (GW)=%{y}<extra></extra>",
         "legendgroup": "Wind",
         "marker": {
          "color": "#0099C6",
          "pattern": {
           "shape": ""
          }
         },
         "name": "Wind",
         "orientation": "v",
         "showlegend": false,
         "textfont": {
          "size": 9
         },
         "textposition": "auto",
         "texttemplate": "%{y:.1f}",
         "type": "bar",
         "x": [
          "CANOE (vanilla)",
          "CANOE (ref)",
          "CEF2023",
          "gTech-IESD"
         ],
         "xaxis": "x4",
         "y": {
          "bdata": "dKX2MSJbOkAeN1I8XLU6QKUhQ3OQIiRAg6i55NGUJEA=",
          "dtype": "f8"
         },
         "yaxis": "y4"
        },
        {
         "hovertemplate": "Plant Type=Wind<br>Period=2040<br>Source=%{x}<br>Capacity (GW)=%{y}<extra></extra>",
         "legendgroup": "Wind",
         "marker": {
          "color": "#0099C6",
          "pattern": {
           "shape": ""
          }
         },
         "name": "Wind",
         "orientation": "v",
         "showlegend": false,
         "textfont": {
          "size": 9
         },
         "textposition": "auto",
         "texttemplate": "%{y:.1f}",
         "type": "bar",
         "x": [
          "CANOE (vanilla)",
          "CANOE (ref)",
          "CEF2023",
          "gTech-IESD"
         ],
         "xaxis": "x5",
         "y": {
          "bdata": "XrcC94fSPkCKEWobtD4/QFdWRpvrRDNAMM06BAoyKkA=",
          "dtype": "f8"
         },
         "yaxis": "y5"
        },
        {
         "hovertemplate": "Plant Type=Wind<br>Period=2045<br>Source=%{x}<br>Capacity (GW)=%{y}<extra></extra>",
         "legendgroup": "Wind",
         "marker": {
          "color": "#0099C6",
          "pattern": {
           "shape": ""
          }
         },
         "name": "Wind",
         "orientation": "v",
         "showlegend": false,
         "textfont": {
          "size": 9
         },
         "textposition": "auto",
         "texttemplate": "%{y:.1f}",
         "type": "bar",
         "x": [
          "CANOE (vanilla)",
          "CANOE (ref)",
          "CEF2023",
          "gTech-IESD"
         ],
         "xaxis": "x6",
         "y": {
          "bdata": "I2ovGGg3PEC1p6xfwqM8QDjh8fiOHzhAuo4nOKtKL0A=",
          "dtype": "f8"
         },
         "yaxis": "y6"
        },
        {
         "hovertemplate": "Plant Type=Wind<br>Period=2050<br>Source=%{x}<br>Capacity (GW)=%{y}<extra></extra>",
         "legendgroup": "Wind",
         "marker": {
          "color": "#0099C6",
          "pattern": {
           "shape": ""
          }
         },
         "name": "Wind",
         "orientation": "v",
         "showlegend": false,
         "textfont": {
          "size": 9
         },
         "textposition": "auto",
         "texttemplate": "%{y:.1f}",
         "type": "bar",
         "x": [
          "CANOE (vanilla)",
          "CANOE (ref)",
          "CEF2023",
          "gTech-IESD"
         ],
         "xaxis": "x7",
         "y": {
          "bdata": "WitfMSz8O0AP52yy0mg8QN0LG0klijpA8oozyFVqMUA=",
          "dtype": "f8"
         },
         "yaxis": "y7"
        },
        {
         "hovertemplate": "Plant Type=Oil<br>Period=2021<br>Source=%{x}<br>Capacity (GW)=%{y}<extra></extra>",
         "legendgroup": "Oil",
         "marker": {
          "color": "#DD4477",
          "pattern": {
           "shape": ""
          }
         },
         "name": "Oil",
         "orientation": "v",
         "showlegend": true,
         "textfont": {
          "size": 9
         },
         "textposition": "auto",
         "texttemplate": "%{y:.1f}",
         "type": "bar",
         "x": [
          "CEF2023"
         ],
         "xaxis": "x",
         "y": {
          "bdata": "8x/Sb18H0D8=",
          "dtype": "f8"
         },
         "yaxis": "y"
        },
        {
         "hovertemplate": "Plant Type=Oil<br>Period=2025<br>Source=%{x}<br>Capacity (GW)=%{y}<extra></extra>",
         "legendgroup": "Oil",
         "marker": {
          "color": "#DD4477",
          "pattern": {
           "shape": ""
          }
         },
         "name": "Oil",
         "orientation": "v",
         "showlegend": false,
         "textfont": {
          "size": 9
         },
         "textposition": "auto",
         "texttemplate": "%{y:.1f}",
         "type": "bar",
         "x": [
          "CEF2023"
         ],
         "xaxis": "x2",
         "y": {
          "bdata": "8x/Sb18H0D8=",
          "dtype": "f8"
         },
         "yaxis": "y2"
        },
        {
         "hovertemplate": "Plant Type=Oil<br>Period=2030<br>Source=%{x}<br>Capacity (GW)=%{y}<extra></extra>",
         "legendgroup": "Oil",
         "marker": {
          "color": "#DD4477",
          "pattern": {
           "shape": ""
          }
         },
         "name": "Oil",
         "orientation": "v",
         "showlegend": false,
         "textfont": {
          "size": 9
         },
         "textposition": "auto",
         "texttemplate": "%{y:.1f}",
         "type": "bar",
         "x": [
          "CEF2023"
         ],
         "xaxis": "x3",
         "y": {
          "bdata": "8x/Sb18H0D8=",
          "dtype": "f8"
         },
         "yaxis": "y3"
        },
        {
         "hovertemplate": "Plant Type=Oil<br>Period=2035<br>Source=%{x}<br>Capacity (GW)=%{y}<extra></extra>",
         "legendgroup": "Oil",
         "marker": {
          "color": "#DD4477",
          "pattern": {
           "shape": ""
          }
         },
         "name": "Oil",
         "orientation": "v",
         "showlegend": false,
         "textfont": {
          "size": 9
         },
         "textposition": "auto",
         "texttemplate": "%{y:.1f}",
         "type": "bar",
         "x": [
          "CEF2023"
         ],
         "xaxis": "x4",
         "y": {
          "bdata": "rrZif9k9zT8=",
          "dtype": "f8"
         },
         "yaxis": "y4"
        },
        {
         "hovertemplate": "Plant Type=Oil<br>Period=2040<br>Source=%{x}<br>Capacity (GW)=%{y}<extra></extra>",
         "legendgroup": "Oil",
         "marker": {
          "color": "#DD4477",
          "pattern": {
           "shape": ""
          }
         },
         "name": "Oil",
         "orientation": "v",
         "showlegend": false,
         "textfont": {
          "size": 9
         },
         "textposition": "auto",
         "texttemplate": "%{y:.1f}",
         "type": "bar",
         "x": [
          "CEF2023"
         ],
         "xaxis": "x5",
         "y": {
          "bdata": "rrZif9k9zT8=",
          "dtype": "f8"
         },
         "yaxis": "y5"
        },
        {
         "hovertemplate": "Plant Type=Oil<br>Period=2045<br>Source=%{x}<br>Capacity (GW)=%{y}<extra></extra>",
         "legendgroup": "Oil",
         "marker": {
          "color": "#DD4477",
          "pattern": {
           "shape": ""
          }
         },
         "name": "Oil",
         "orientation": "v",
         "showlegend": false,
         "textfont": {
          "size": 9
         },
         "textposition": "auto",
         "texttemplate": "%{y:.1f}",
         "type": "bar",
         "x": [
          "CEF2023"
         ],
         "xaxis": "x6",
         "y": {
          "bdata": "rrZif9k9zT8=",
          "dtype": "f8"
         },
         "yaxis": "y6"
        },
        {
         "hovertemplate": "Plant Type=Oil<br>Period=2050<br>Source=%{x}<br>Capacity (GW)=%{y}<extra></extra>",
         "legendgroup": "Oil",
         "marker": {
          "color": "#DD4477",
          "pattern": {
           "shape": ""
          }
         },
         "name": "Oil",
         "orientation": "v",
         "showlegend": false,
         "textfont": {
          "size": 9
         },
         "textposition": "auto",
         "texttemplate": "%{y:.1f}",
         "type": "bar",
         "x": [
          "CEF2023"
         ],
         "xaxis": "x7",
         "y": {
          "bdata": "rrZif9k9zT8=",
          "dtype": "f8"
         },
         "yaxis": "y7"
        },
        {
         "hovertemplate": "Plant Type=Other<br>Period=2021<br>Source=%{x}<br>Capacity (GW)=%{y}<extra></extra>",
         "legendgroup": "Other",
         "marker": {
          "color": "#B82E2E",
          "pattern": {
           "shape": ""
          }
         },
         "name": "Other",
         "orientation": "v",
         "showlegend": true,
         "textfont": {
          "size": 9
         },
         "textposition": "auto",
         "texttemplate": "%{y:.1f}",
         "type": "bar",
         "x": [
          "gTech-IESD"
         ],
         "xaxis": "x",
         "y": {
          "bdata": "tM8QLzjh5T8=",
          "dtype": "f8"
         },
         "yaxis": "y"
        },
        {
         "hovertemplate": "Plant Type=Other<br>Period=2025<br>Source=%{x}<br>Capacity (GW)=%{y}<extra></extra>",
         "legendgroup": "Other",
         "marker": {
          "color": "#B82E2E",
          "pattern": {
           "shape": ""
          }
         },
         "name": "Other",
         "orientation": "v",
         "showlegend": false,
         "textfont": {
          "size": 9
         },
         "textposition": "auto",
         "texttemplate": "%{y:.1f}",
         "type": "bar",
         "x": [
          "gTech-IESD"
         ],
         "xaxis": "x2",
         "y": {
          "bdata": "L7W4X/Id+D8=",
          "dtype": "f8"
         },
         "yaxis": "y2"
        },
        {
         "hovertemplate": "Plant Type=Other<br>Period=2030<br>Source=%{x}<br>Capacity (GW)=%{y}<extra></extra>",
         "legendgroup": "Other",
         "marker": {
          "color": "#B82E2E",
          "pattern": {
           "shape": ""
          }
         },
         "name": "Other",
         "orientation": "v",
         "showlegend": false,
         "textfont": {
          "size": 9
         },
         "textposition": "auto",
         "texttemplate": "%{y:.1f}",
         "type": "bar",
         "x": [
          "gTech-IESD"
         ],
         "xaxis": "x3",
         "y": {
          "bdata": "QbrmA3q49z8=",
          "dtype": "f8"
         },
         "yaxis": "y3"
        },
        {
         "hovertemplate": "Plant Type=Other<br>Period=2035<br>Source=%{x}<br>Capacity (GW)=%{y}<extra></extra>",
         "legendgroup": "Other",
         "marker": {
          "color": "#B82E2E",
          "pattern": {
           "shape": ""
          }
         },
         "name": "Other",
         "orientation": "v",
         "showlegend": false,
         "textfont": {
          "size": 9
         },
         "textposition": "auto",
         "texttemplate": "%{y:.1f}",
         "type": "bar",
         "x": [
          "gTech-IESD"
         ],
         "xaxis": "x4",
         "y": {
          "bdata": "vIkohbxLAEA=",
          "dtype": "f8"
         },
         "yaxis": "y4"
        },
        {
         "hovertemplate": "Plant Type=Other<br>Period=2040<br>Source=%{x}<br>Capacity (GW)=%{y}<extra></extra>",
         "legendgroup": "Other",
         "marker": {
          "color": "#B82E2E",
          "pattern": {
           "shape": ""
          }
         },
         "name": "Other",
         "orientation": "v",
         "showlegend": false,
         "textfont": {
          "size": 9
         },
         "textposition": "auto",
         "texttemplate": "%{y:.1f}",
         "type": "bar",
         "x": [
          "gTech-IESD"
         ],
         "xaxis": "x5",
         "y": {
          "bdata": "bh/AyitqC0A=",
          "dtype": "f8"
         },
         "yaxis": "y5"
        },
        {
         "hovertemplate": "Plant Type=Other<br>Period=2045<br>Source=%{x}<br>Capacity (GW)=%{y}<extra></extra>",
         "legendgroup": "Other",
         "marker": {
          "color": "#B82E2E",
          "pattern": {
           "shape": ""
          }
         },
         "name": "Other",
         "orientation": "v",
         "showlegend": false,
         "textfont": {
          "size": 9
         },
         "textposition": "auto",
         "texttemplate": "%{y:.1f}",
         "type": "bar",
         "x": [
          "gTech-IESD"
         ],
         "xaxis": "x6",
         "y": {
          "bdata": "bSa5XLFCEEA=",
          "dtype": "f8"
         },
         "yaxis": "y6"
        },
        {
         "hovertemplate": "Plant Type=Other<br>Period=2050<br>Source=%{x}<br>Capacity (GW)=%{y}<extra></extra>",
         "legendgroup": "Other",
         "marker": {
          "color": "#B82E2E",
          "pattern": {
           "shape": ""
          }
         },
         "name": "Other",
         "orientation": "v",
         "showlegend": false,
         "textfont": {
          "size": 9
         },
         "textposition": "auto",
         "texttemplate": "%{y:.1f}",
         "type": "bar",
         "x": [
          "gTech-IESD"
         ],
         "xaxis": "x7",
         "y": {
          "bdata": "Xp/aVC1gEEA=",
          "dtype": "f8"
         },
         "yaxis": "y7"
        }
       ],
       "layout": {
        "annotations": [
         {
          "font": {},
          "showarrow": false,
          "text": "2021",
          "x": 0.06285714285714285,
          "xanchor": "center",
          "xref": "paper",
          "y": -0.15,
          "yanchor": "top",
          "yref": "paper"
         },
         {
          "font": {},
          "showarrow": false,
          "text": "2025",
          "x": 0.20857142857142852,
          "xanchor": "center",
          "xref": "paper",
          "y": -0.15,
          "yanchor": "top",
          "yref": "paper"
         },
         {
          "font": {},
          "showarrow": false,
          "text": "2030",
          "x": 0.3542857142857142,
          "xanchor": "center",
          "xref": "paper",
          "y": -0.15,
          "yanchor": "top",
          "yref": "paper"
         },
         {
          "font": {},
          "showarrow": false,
          "text": "2035",
          "x": 0.5,
          "xanchor": "center",
          "xref": "paper",
          "y": -0.15,
          "yanchor": "top",
          "yref": "paper"
         },
         {
          "font": {},
          "showarrow": false,
          "text": "2040",
          "x": 0.6457142857142856,
          "xanchor": "center",
          "xref": "paper",
          "y": -0.15,
          "yanchor": "top",
          "yref": "paper"
         },
         {
          "font": {},
          "showarrow": false,
          "text": "2045",
          "x": 0.7914285714285713,
          "xanchor": "center",
          "xref": "paper",
          "y": -0.15,
          "yanchor": "top",
          "yref": "paper"
         },
         {
          "font": {},
          "showarrow": false,
          "text": "2050",
          "x": 0.937142857142857,
          "xanchor": "center",
          "xref": "paper",
          "y": -0.15,
          "yanchor": "top",
          "yref": "paper"
         }
        ],
        "bargap": 0.1,
        "barmode": "stack",
        "font": {
         "size": 14
        },
        "height": 650,
        "legend": {
         "orientation": "h",
         "title": {
          "text": ""
         },
         "tracegroupgap": 0,
         "x": 0.5,
         "xanchor": "center",
         "y": 1.04,
         "yanchor": "top"
        },
        "margin": {
         "t": 60
        },
        "template": {
         "data": {
          "bar": [
           {
            "error_x": {
             "color": "#2a3f5f"
            },
            "error_y": {
             "color": "#2a3f5f"
            },
            "marker": {
             "line": {
              "color": "white",
              "width": 0.5
             },
             "pattern": {
              "fillmode": "overlay",
              "size": 10,
              "solidity": 0.2
             }
            },
            "type": "bar"
           }
          ],
          "barpolar": [
           {
            "marker": {
             "line": {
              "color": "white",
              "width": 0.5
             },
             "pattern": {
              "fillmode": "overlay",
              "size": 10,
              "solidity": 0.2
             }
            },
            "type": "barpolar"
           }
          ],
          "carpet": [
           {
            "aaxis": {
             "endlinecolor": "#2a3f5f",
             "gridcolor": "#C8D4E3",
             "linecolor": "#C8D4E3",
             "minorgridcolor": "#C8D4E3",
             "startlinecolor": "#2a3f5f"
            },
            "baxis": {
             "endlinecolor": "#2a3f5f",
             "gridcolor": "#C8D4E3",
             "linecolor": "#C8D4E3",
             "minorgridcolor": "#C8D4E3",
             "startlinecolor": "#2a3f5f"
            },
            "type": "carpet"
           }
          ],
          "choropleth": [
           {
            "colorbar": {
             "outlinewidth": 0,
             "ticks": ""
            },
            "type": "choropleth"
           }
          ],
          "contour": [
           {
            "colorbar": {
             "outlinewidth": 0,
             "ticks": ""
            },
            "colorscale": [
             [
              0,
              "#0d0887"
             ],
             [
              0.1111111111111111,
              "#46039f"
             ],
             [
              0.2222222222222222,
              "#7201a8"
             ],
             [
              0.3333333333333333,
              "#9c179e"
             ],
             [
              0.4444444444444444,
              "#bd3786"
             ],
             [
              0.5555555555555556,
              "#d8576b"
             ],
             [
              0.6666666666666666,
              "#ed7953"
             ],
             [
              0.7777777777777778,
              "#fb9f3a"
             ],
             [
              0.8888888888888888,
              "#fdca26"
             ],
             [
              1,
              "#f0f921"
             ]
            ],
            "type": "contour"
           }
          ],
          "contourcarpet": [
           {
            "colorbar": {
             "outlinewidth": 0,
             "ticks": ""
            },
            "type": "contourcarpet"
           }
          ],
          "heatmap": [
           {
            "colorbar": {
             "outlinewidth": 0,
             "ticks": ""
            },
            "colorscale": [
             [
              0,
              "#0d0887"
             ],
             [
              0.1111111111111111,
              "#46039f"
             ],
             [
              0.2222222222222222,
              "#7201a8"
             ],
             [
              0.3333333333333333,
              "#9c179e"
             ],
             [
              0.4444444444444444,
              "#bd3786"
             ],
             [
              0.5555555555555556,
              "#d8576b"
             ],
             [
              0.6666666666666666,
              "#ed7953"
             ],
             [
              0.7777777777777778,
              "#fb9f3a"
             ],
             [
              0.8888888888888888,
              "#fdca26"
             ],
             [
              1,
              "#f0f921"
             ]
            ],
            "type": "heatmap"
           }
          ],
          "histogram": [
           {
            "marker": {
             "pattern": {
              "fillmode": "overlay",
              "size": 10,
              "solidity": 0.2
             }
            },
            "type": "histogram"
           }
          ],
          "histogram2d": [
           {
            "colorbar": {
             "outlinewidth": 0,
             "ticks": ""
            },
            "colorscale": [
             [
              0,
              "#0d0887"
             ],
             [
              0.1111111111111111,
              "#46039f"
             ],
             [
              0.2222222222222222,
              "#7201a8"
             ],
             [
              0.3333333333333333,
              "#9c179e"
             ],
             [
              0.4444444444444444,
              "#bd3786"
             ],
             [
              0.5555555555555556,
              "#d8576b"
             ],
             [
              0.6666666666666666,
              "#ed7953"
             ],
             [
              0.7777777777777778,
              "#fb9f3a"
             ],
             [
              0.8888888888888888,
              "#fdca26"
             ],
             [
              1,
              "#f0f921"
             ]
            ],
            "type": "histogram2d"
           }
          ],
          "histogram2dcontour": [
           {
            "colorbar": {
             "outlinewidth": 0,
             "ticks": ""
            },
            "colorscale": [
             [
              0,
              "#0d0887"
             ],
             [
              0.1111111111111111,
              "#46039f"
             ],
             [
              0.2222222222222222,
              "#7201a8"
             ],
             [
              0.3333333333333333,
              "#9c179e"
             ],
             [
              0.4444444444444444,
              "#bd3786"
             ],
             [
              0.5555555555555556,
              "#d8576b"
             ],
             [
              0.6666666666666666,
              "#ed7953"
             ],
             [
              0.7777777777777778,
              "#fb9f3a"
             ],
             [
              0.8888888888888888,
              "#fdca26"
             ],
             [
              1,
              "#f0f921"
             ]
            ],
            "type": "histogram2dcontour"
           }
          ],
          "mesh3d": [
           {
            "colorbar": {
             "outlinewidth": 0,
             "ticks": ""
            },
            "type": "mesh3d"
           }
          ],
          "parcoords": [
           {
            "line": {
             "colorbar": {
              "outlinewidth": 0,
              "ticks": ""
             }
            },
            "type": "parcoords"
           }
          ],
          "pie": [
           {
            "automargin": true,
            "type": "pie"
           }
          ],
          "scatter": [
           {
            "fillpattern": {
             "fillmode": "overlay",
             "size": 10,
             "solidity": 0.2
            },
            "type": "scatter"
           }
          ],
          "scatter3d": [
           {
            "line": {
             "colorbar": {
              "outlinewidth": 0,
              "ticks": ""
             }
            },
            "marker": {
             "colorbar": {
              "outlinewidth": 0,
              "ticks": ""
             }
            },
            "type": "scatter3d"
           }
          ],
          "scattercarpet": [
           {
            "marker": {
             "colorbar": {
              "outlinewidth": 0,
              "ticks": ""
             }
            },
            "type": "scattercarpet"
           }
          ],
          "scattergeo": [
           {
            "marker": {
             "colorbar": {
              "outlinewidth": 0,
              "ticks": ""
             }
            },
            "type": "scattergeo"
           }
          ],
          "scattergl": [
           {
            "marker": {
             "colorbar": {
              "outlinewidth": 0,
              "ticks": ""
             }
            },
            "type": "scattergl"
           }
          ],
          "scattermap": [
           {
            "marker": {
             "colorbar": {
              "outlinewidth": 0,
              "ticks": ""
             }
            },
            "type": "scattermap"
           }
          ],
          "scattermapbox": [
           {
            "marker": {
             "colorbar": {
              "outlinewidth": 0,
              "ticks": ""
             }
            },
            "type": "scattermapbox"
           }
          ],
          "scatterpolar": [
           {
            "marker": {
             "colorbar": {
              "outlinewidth": 0,
              "ticks": ""
             }
            },
            "type": "scatterpolar"
           }
          ],
          "scatterpolargl": [
           {
            "marker": {
             "colorbar": {
              "outlinewidth": 0,
              "ticks": ""
             }
            },
            "type": "scatterpolargl"
           }
          ],
          "scatterternary": [
           {
            "marker": {
             "colorbar": {
              "outlinewidth": 0,
              "ticks": ""
             }
            },
            "type": "scatterternary"
           }
          ],
          "surface": [
           {
            "colorbar": {
             "outlinewidth": 0,
             "ticks": ""
            },
            "colorscale": [
             [
              0,
              "#0d0887"
             ],
             [
              0.1111111111111111,
              "#46039f"
             ],
             [
              0.2222222222222222,
              "#7201a8"
             ],
             [
              0.3333333333333333,
              "#9c179e"
             ],
             [
              0.4444444444444444,
              "#bd3786"
             ],
             [
              0.5555555555555556,
              "#d8576b"
             ],
             [
              0.6666666666666666,
              "#ed7953"
             ],
             [
              0.7777777777777778,
              "#fb9f3a"
             ],
             [
              0.8888888888888888,
              "#fdca26"
             ],
             [
              1,
              "#f0f921"
             ]
            ],
            "type": "surface"
           }
          ],
          "table": [
           {
            "cells": {
             "fill": {
              "color": "#EBF0F8"
             },
             "line": {
              "color": "white"
             }
            },
            "header": {
             "fill": {
              "color": "#C8D4E3"
             },
             "line": {
              "color": "white"
             }
            },
            "type": "table"
           }
          ]
         },
         "layout": {
          "annotationdefaults": {
           "arrowcolor": "#2a3f5f",
           "arrowhead": 0,
           "arrowwidth": 1
          },
          "autotypenumbers": "strict",
          "coloraxis": {
           "colorbar": {
            "outlinewidth": 0,
            "ticks": ""
           }
          },
          "colorscale": {
           "diverging": [
            [
             0,
             "#8e0152"
            ],
            [
             0.1,
             "#c51b7d"
            ],
            [
             0.2,
             "#de77ae"
            ],
            [
             0.3,
             "#f1b6da"
            ],
            [
             0.4,
             "#fde0ef"
            ],
            [
             0.5,
             "#f7f7f7"
            ],
            [
             0.6,
             "#e6f5d0"
            ],
            [
             0.7,
             "#b8e186"
            ],
            [
             0.8,
             "#7fbc41"
            ],
            [
             0.9,
             "#4d9221"
            ],
            [
             1,
             "#276419"
            ]
           ],
           "sequential": [
            [
             0,
             "#0d0887"
            ],
            [
             0.1111111111111111,
             "#46039f"
            ],
            [
             0.2222222222222222,
             "#7201a8"
            ],
            [
             0.3333333333333333,
             "#9c179e"
            ],
            [
             0.4444444444444444,
             "#bd3786"
            ],
            [
             0.5555555555555556,
             "#d8576b"
            ],
            [
             0.6666666666666666,
             "#ed7953"
            ],
            [
             0.7777777777777778,
             "#fb9f3a"
            ],
            [
             0.8888888888888888,
             "#fdca26"
            ],
            [
             1,
             "#f0f921"
            ]
           ],
           "sequentialminus": [
            [
             0,
             "#0d0887"
            ],
            [
             0.1111111111111111,
             "#46039f"
            ],
            [
             0.2222222222222222,
             "#7201a8"
            ],
            [
             0.3333333333333333,
             "#9c179e"
            ],
            [
             0.4444444444444444,
             "#bd3786"
            ],
            [
             0.5555555555555556,
             "#d8576b"
            ],
            [
             0.6666666666666666,
             "#ed7953"
            ],
            [
             0.7777777777777778,
             "#fb9f3a"
            ],
            [
             0.8888888888888888,
             "#fdca26"
            ],
            [
             1,
             "#f0f921"
            ]
           ]
          },
          "colorway": [
           "#636efa",
           "#EF553B",
           "#00cc96",
           "#ab63fa",
           "#FFA15A",
           "#19d3f3",
           "#FF6692",
           "#B6E880",
           "#FF97FF",
           "#FECB52"
          ],
          "font": {
           "color": "#2a3f5f"
          },
          "geo": {
           "bgcolor": "white",
           "lakecolor": "white",
           "landcolor": "white",
           "showlakes": true,
           "showland": true,
           "subunitcolor": "#C8D4E3"
          },
          "hoverlabel": {
           "align": "left"
          },
          "hovermode": "closest",
          "mapbox": {
           "style": "light"
          },
          "paper_bgcolor": "white",
          "plot_bgcolor": "white",
          "polar": {
           "angularaxis": {
            "gridcolor": "#EBF0F8",
            "linecolor": "#EBF0F8",
            "ticks": ""
           },
           "bgcolor": "white",
           "radialaxis": {
            "gridcolor": "#EBF0F8",
            "linecolor": "#EBF0F8",
            "ticks": ""
           }
          },
          "scene": {
           "xaxis": {
            "backgroundcolor": "white",
            "gridcolor": "#DFE8F3",
            "gridwidth": 2,
            "linecolor": "#EBF0F8",
            "showbackground": true,
            "ticks": "",
            "zerolinecolor": "#EBF0F8"
           },
           "yaxis": {
            "backgroundcolor": "white",
            "gridcolor": "#DFE8F3",
            "gridwidth": 2,
            "linecolor": "#EBF0F8",
            "showbackground": true,
            "ticks": "",
            "zerolinecolor": "#EBF0F8"
           },
           "zaxis": {
            "backgroundcolor": "white",
            "gridcolor": "#DFE8F3",
            "gridwidth": 2,
            "linecolor": "#EBF0F8",
            "showbackground": true,
            "ticks": "",
            "zerolinecolor": "#EBF0F8"
           }
          },
          "shapedefaults": {
           "line": {
            "color": "#2a3f5f"
           }
          },
          "ternary": {
           "aaxis": {
            "gridcolor": "#DFE8F3",
            "linecolor": "#A2B1C6",
            "ticks": ""
           },
           "baxis": {
            "gridcolor": "#DFE8F3",
            "linecolor": "#A2B1C6",
            "ticks": ""
           },
           "bgcolor": "white",
           "caxis": {
            "gridcolor": "#DFE8F3",
            "linecolor": "#A2B1C6",
            "ticks": ""
           }
          },
          "title": {
           "x": 0.05
          },
          "xaxis": {
           "automargin": true,
           "gridcolor": "#EBF0F8",
           "linecolor": "#EBF0F8",
           "ticks": "",
           "title": {
            "standoff": 15
           },
           "zerolinecolor": "#EBF0F8",
           "zerolinewidth": 2
          },
          "yaxis": {
           "automargin": true,
           "gridcolor": "#EBF0F8",
           "linecolor": "#EBF0F8",
           "ticks": "",
           "title": {
            "standoff": 15
           },
           "zerolinecolor": "#EBF0F8",
           "zerolinewidth": 2
          }
         }
        },
        "title": {
         "text": "Electricity generation capacity in ON by plant type and energy model",
         "x": 0.5,
         "xanchor": "center",
         "y": 0.97,
         "yanchor": "top"
        },
        "width": 1200,
        "xaxis": {
         "anchor": "y",
         "domain": [
          0,
          0.1257142857142857
         ],
         "title": {
          "text": ""
         }
        },
        "xaxis2": {
         "anchor": "y2",
         "domain": [
          0.14571428571428569,
          0.27142857142857135
         ],
         "matches": "x",
         "title": {
          "text": ""
         }
        },
        "xaxis3": {
         "anchor": "y3",
         "domain": [
          0.29142857142857137,
          0.41714285714285704
         ],
         "matches": "x",
         "title": {
          "text": ""
         }
        },
        "xaxis4": {
         "anchor": "y4",
         "domain": [
          0.4371428571428571,
          0.5628571428571428
         ],
         "matches": "x",
         "title": {
          "text": ""
         }
        },
        "xaxis5": {
         "anchor": "y5",
         "domain": [
          0.5828571428571427,
          0.7085714285714284
         ],
         "matches": "x",
         "title": {
          "text": ""
         }
        },
        "xaxis6": {
         "anchor": "y6",
         "domain": [
          0.7285714285714284,
          0.8542857142857141
         ],
         "matches": "x",
         "title": {
          "text": ""
         }
        },
        "xaxis7": {
         "anchor": "y7",
         "domain": [
          0.8742857142857142,
          0.9999999999999999
         ],
         "matches": "x",
         "title": {
          "text": ""
         }
        },
        "yaxis": {
         "anchor": "x",
         "domain": [
          0,
          1
         ],
         "dtick": 20,
         "title": {
          "standoff": 0,
          "text": "Capacity (GW)"
         }
        },
        "yaxis2": {
         "anchor": "x2",
         "domain": [
          0,
          1
         ],
         "dtick": 20,
         "matches": "y",
         "showticklabels": false
        },
        "yaxis3": {
         "anchor": "x3",
         "domain": [
          0,
          1
         ],
         "dtick": 20,
         "matches": "y",
         "showticklabels": false
        },
        "yaxis4": {
         "anchor": "x4",
         "domain": [
          0,
          1
         ],
         "dtick": 20,
         "matches": "y",
         "showticklabels": false
        },
        "yaxis5": {
         "anchor": "x5",
         "domain": [
          0,
          1
         ],
         "dtick": 20,
         "matches": "y",
         "showticklabels": false
        },
        "yaxis6": {
         "anchor": "x6",
         "domain": [
          0,
          1
         ],
         "dtick": 20,
         "matches": "y",
         "showticklabels": false
        },
        "yaxis7": {
         "anchor": "x7",
         "domain": [
          0,
          1
         ],
         "dtick": 20,
         "matches": "y",
         "showticklabels": false
        }
       }
      }
     },
     "metadata": {},
     "output_type": "display_data"
    }
   ],
   "source": [
    "bau23_cap['Capacity (GW)'] = bau23_cap['Capacity (MW)'] / 1E3\n",
    "bau23_fig = bau23_cap[['Period', 'Plant Type', 'Capacity (GW)']].copy()\n",
    "bau23_fig['Plant Type'] = bau23_fig['Plant Type'].replace({'Hydro / Wave / Tidal': 'Hydro', 'Biomass / Geothermal': 'Biomass', 'Uranium': 'Nuclear'})\n",
    "ref_fig = ref_elccap[ref_elccap['Plant Type'] != 'Other'].groupby(['Period', 'Plant Type'], as_index=False).sum('Capacity (GW)')\n",
    "vanilla_fig = vanilla_elccap[vanilla_elccap['Plant Type'] != 'Other'].groupby(['Period', 'Plant Type'], as_index=False).sum('Capacity (GW)')\n",
    "gtech23_ref_cap['Capacity (GW)'] = gtech23_ref_cap['Capacity (MW)'] / 1E3\n",
    "gtech23_fig = gtech23_ref_cap.copy()\n",
    "gtech23_fig['Period'] = gtech23_fig['Period'].astype(str)\n",
    "\n",
    "gtech23_fig['Source'] = 'gTech-IESD'\n",
    "bau23_fig['Source'] = 'CEF2023'\n",
    "ref_fig['Source'] = 'CANOE (ref)'\n",
    "vanilla_fig['Source'] = 'CANOE (vanilla)'\n",
    "\n",
    "fig_df = pd.concat([vanilla_fig[['Period', 'Plant Type', 'Capacity (GW)', 'Source']], ref_fig[['Period', 'Plant Type', 'Capacity (GW)', 'Source']], bau23_fig[['Period', 'Plant Type', 'Capacity (GW)', 'Source']], gtech23_fig[['Period', 'Plant Type', 'Capacity (GW)', 'Source']]])\n",
    "\n",
    "fig = px.bar(fig_df, \n",
    "             x='Source', \n",
    "             y='Capacity (GW)', \n",
    "             color='Plant Type', \n",
    "             barmode='stack', \n",
    "             facet_col='Period',\n",
    "             facet_col_spacing=2E-2,\n",
    "             template='plotly_white',\n",
    "             color_discrete_sequence=px.colors.qualitative.G10[:7] + px.colors.qualitative.G10[8:],\n",
    "             text_auto='.1f',\n",
    "             width=1200, height=650,\n",
    "             )\n",
    "\n",
    "fig.update_layout(title=dict(\n",
    "        text='Electricity generation capacity in ON by plant type and energy model',\n",
    "        x=0.5, \n",
    "        y=0.97,\n",
    "        xanchor='center',\n",
    "        yanchor='top'\n",
    "    ),\n",
    "    xaxis=dict(title='Period'),\n",
    "    yaxis=dict(title='Capacity (GW)',\n",
    "               dtick=20),\n",
    "    yaxis_title_standoff=0,\n",
    "    legend_title_text='',\n",
    "    bargap=0.1,\n",
    "    legend=dict(\n",
    "        orientation='h',  \n",
    "        yanchor='top',\n",
    "        y=1.04,  \n",
    "        xanchor='center',\n",
    "        x=0.5),\n",
    "    font=dict(\n",
    "        # family=\"Open Sans\",\n",
    "        size=14)\n",
    "    )\n",
    "\n",
    "for annotation in fig.layout.annotations:\n",
    "    annotation.text = annotation.text.split('=')[1]\n",
    "    annotation.y = -0.15  \n",
    "    annotation.yanchor = 'top' \n",
    "\n",
    "for axis in fig.layout:\n",
    "    if axis.startswith('yaxis'):\n",
    "        fig.layout[axis].dtick = 20\n",
    "\n",
    "for axis in fig.layout:\n",
    "    if axis.startswith('xaxis'):\n",
    "        fig.layout[axis].title.text = ''\n",
    "\n",
    "fig.for_each_trace(lambda trace: trace.update(textfont=dict(size=9)))\n",
    "\n",
    "fig.show()"
   ]
  },
  {
   "cell_type": "code",
   "execution_count": 33,
   "metadata": {},
   "outputs": [],
   "source": [
    "ref_elcact.columns = ref_elcact.columns.astype(str)\n",
    "vanilla_elcact.columns = vanilla_elcact.columns.astype(str)\n",
    "\n",
    "periods = [col for col in ref_elcact.columns if col.isdigit()]\n",
    "params = [col for col in ref_elcact.columns if not col.isdigit()]\n",
    "ref_elcact = pd.melt(ref_elcact, id_vars=params, var_name='Period', value_name='Generation (PJ)', value_vars=periods)\n",
    "vanilla_elcact = pd.melt(vanilla_elcact, id_vars=params, var_name='Period', value_name='Generation (PJ)', value_vars=periods)\n",
    "\n",
    "gtech23_ref_gen['Plant Type'] = gtech23_ref_gen['Plant Type'].apply(plant_rename)\n",
    "gtech23_ref_gen = gtech23_ref_gen.groupby(['Period', 'Plant Type'], as_index=False).sum()"
   ]
  },
  {
   "cell_type": "code",
   "execution_count": 34,
   "metadata": {},
   "outputs": [
    {
     "data": {
      "application/vnd.plotly.v1+json": {
       "config": {
        "plotlyServerURL": "https://plot.ly"
       },
       "data": [
        {
         "hovertemplate": "Plant Type=Biomass<br>Period=2021<br>Source=%{x}<br>Generation (PJ)=%{y}<extra></extra>",
         "legendgroup": "Biomass",
         "marker": {
          "color": "#3366CC",
          "pattern": {
           "shape": ""
          }
         },
         "name": "Biomass",
         "orientation": "v",
         "showlegend": true,
         "textfont": {
          "size": 9
         },
         "textposition": "auto",
         "texttemplate": "%{y:.1f}",
         "type": "bar",
         "x": [
          "CANOE (vanilla)",
          "CANOE (ref)",
          "CEF2023"
         ],
         "xaxis": "x",
         "y": {
          "bdata": "AAAAAAAAAAAAAAAAAAAAAEmlSR3PNBFA",
          "dtype": "f8"
         },
         "yaxis": "y"
        },
        {
         "hovertemplate": "Plant Type=Biomass<br>Period=2025<br>Source=%{x}<br>Generation (PJ)=%{y}<extra></extra>",
         "legendgroup": "Biomass",
         "marker": {
          "color": "#3366CC",
          "pattern": {
           "shape": ""
          }
         },
         "name": "Biomass",
         "orientation": "v",
         "showlegend": false,
         "textfont": {
          "size": 9
         },
         "textposition": "auto",
         "texttemplate": "%{y:.1f}",
         "type": "bar",
         "x": [
          "CANOE (vanilla)",
          "CANOE (ref)",
          "CEF2023"
         ],
         "xaxis": "x2",
         "y": {
          "bdata": "AAAAAAAAAAAAAAAAAAAAAHchP5rvjRBA",
          "dtype": "f8"
         },
         "yaxis": "y2"
        },
        {
         "hovertemplate": "Plant Type=Biomass<br>Period=2030<br>Source=%{x}<br>Generation (PJ)=%{y}<extra></extra>",
         "legendgroup": "Biomass",
         "marker": {
          "color": "#3366CC",
          "pattern": {
           "shape": ""
          }
         },
         "name": "Biomass",
         "orientation": "v",
         "showlegend": false,
         "textfont": {
          "size": 9
         },
         "textposition": "auto",
         "texttemplate": "%{y:.1f}",
         "type": "bar",
         "x": [
          "CANOE (vanilla)",
          "CANOE (ref)",
          "CEF2023"
         ],
         "xaxis": "x3",
         "y": {
          "bdata": "AAAAAAAAAAAAAAAAAAAAAGuGdPFghxFA",
          "dtype": "f8"
         },
         "yaxis": "y3"
        },
        {
         "hovertemplate": "Plant Type=Biomass<br>Period=2035<br>Source=%{x}<br>Generation (PJ)=%{y}<extra></extra>",
         "legendgroup": "Biomass",
         "marker": {
          "color": "#3366CC",
          "pattern": {
           "shape": ""
          }
         },
         "name": "Biomass",
         "orientation": "v",
         "showlegend": false,
         "textfont": {
          "size": 9
         },
         "textposition": "auto",
         "texttemplate": "%{y:.1f}",
         "type": "bar",
         "x": [
          "CANOE (vanilla)",
          "CANOE (ref)",
          "CEF2023"
         ],
         "xaxis": "x4",
         "y": {
          "bdata": "AAAAAAAAAAAAAAAAAAAAANumrU4kSRtA",
          "dtype": "f8"
         },
         "yaxis": "y4"
        },
        {
         "hovertemplate": "Plant Type=Biomass<br>Period=2040<br>Source=%{x}<br>Generation (PJ)=%{y}<extra></extra>",
         "legendgroup": "Biomass",
         "marker": {
          "color": "#3366CC",
          "pattern": {
           "shape": ""
          }
         },
         "name": "Biomass",
         "orientation": "v",
         "showlegend": false,
         "textfont": {
          "size": 9
         },
         "textposition": "auto",
         "texttemplate": "%{y:.1f}",
         "type": "bar",
         "x": [
          "CANOE (vanilla)",
          "CANOE (ref)",
          "CEF2023"
         ],
         "xaxis": "x5",
         "y": {
          "bdata": "AAAAAAAAAAAAAAAAAAAAAFyms0YOCxxA",
          "dtype": "f8"
         },
         "yaxis": "y5"
        },
        {
         "hovertemplate": "Plant Type=Biomass<br>Period=2045<br>Source=%{x}<br>Generation (PJ)=%{y}<extra></extra>",
         "legendgroup": "Biomass",
         "marker": {
          "color": "#3366CC",
          "pattern": {
           "shape": ""
          }
         },
         "name": "Biomass",
         "orientation": "v",
         "showlegend": false,
         "textfont": {
          "size": 9
         },
         "textposition": "auto",
         "texttemplate": "%{y:.1f}",
         "type": "bar",
         "x": [
          "CANOE (vanilla)",
          "CANOE (ref)",
          "CEF2023"
         ],
         "xaxis": "x6",
         "y": {
          "bdata": "AAAAAAAAAAAAAAAAAAAAAKNopx9CyxpA",
          "dtype": "f8"
         },
         "yaxis": "y6"
        },
        {
         "hovertemplate": "Plant Type=Biomass<br>Period=2050<br>Source=%{x}<br>Generation (PJ)=%{y}<extra></extra>",
         "legendgroup": "Biomass",
         "marker": {
          "color": "#3366CC",
          "pattern": {
           "shape": ""
          }
         },
         "name": "Biomass",
         "orientation": "v",
         "showlegend": false,
         "textfont": {
          "size": 9
         },
         "textposition": "auto",
         "texttemplate": "%{y:.1f}",
         "type": "bar",
         "x": [
          "CANOE (vanilla)",
          "CANOE (ref)",
          "CEF2023"
         ],
         "xaxis": "x7",
         "y": {
          "bdata": "AAAAAAAAAAAAAAAAAAAAAPqUoTr24BxA",
          "dtype": "f8"
         },
         "yaxis": "y7"
        },
        {
         "hovertemplate": "Plant Type=Hydro<br>Period=2021<br>Source=%{x}<br>Generation (PJ)=%{y}<extra></extra>",
         "legendgroup": "Hydro",
         "marker": {
          "color": "#DC3912",
          "pattern": {
           "shape": ""
          }
         },
         "name": "Hydro",
         "orientation": "v",
         "showlegend": true,
         "textfont": {
          "size": 9
         },
         "textposition": "auto",
         "texttemplate": "%{y:.1f}",
         "type": "bar",
         "x": [
          "CANOE (vanilla)",
          "CANOE (ref)",
          "CEF2023",
          "gTech-IESD"
         ],
         "xaxis": "x",
         "y": {
          "bdata": "CEr9xhw8XUCvfrFqGjxdQHmdBYiftV9AClWm61QbYUA=",
          "dtype": "f8"
         },
         "yaxis": "y"
        },
        {
         "hovertemplate": "Plant Type=Hydro<br>Period=2025<br>Source=%{x}<br>Generation (PJ)=%{y}<extra></extra>",
         "legendgroup": "Hydro",
         "marker": {
          "color": "#DC3912",
          "pattern": {
           "shape": ""
          }
         },
         "name": "Hydro",
         "orientation": "v",
         "showlegend": false,
         "textfont": {
          "size": 9
         },
         "textposition": "auto",
         "texttemplate": "%{y:.1f}",
         "type": "bar",
         "x": [
          "CANOE (vanilla)",
          "CANOE (ref)",
          "CEF2023",
          "gTech-IESD"
         ],
         "xaxis": "x2",
         "y": {
          "bdata": "MnZFmHHLXEB0/oqY/cpcQIHpR9KUHGBAqgd2Qy3PYEA=",
          "dtype": "f8"
         },
         "yaxis": "y2"
        },
        {
         "hovertemplate": "Plant Type=Hydro<br>Period=2030<br>Source=%{x}<br>Generation (PJ)=%{y}<extra></extra>",
         "legendgroup": "Hydro",
         "marker": {
          "color": "#DC3912",
          "pattern": {
           "shape": ""
          }
         },
         "name": "Hydro",
         "orientation": "v",
         "showlegend": false,
         "textfont": {
          "size": 9
         },
         "textposition": "auto",
         "texttemplate": "%{y:.1f}",
         "type": "bar",
         "x": [
          "CANOE (vanilla)",
          "CANOE (ref)",
          "CEF2023",
          "gTech-IESD"
         ],
         "xaxis": "x3",
         "y": {
          "bdata": "zOFLcXUrW0DqK0Hj4itbQMpQC+G15WBA5N+NI1vEYEA=",
          "dtype": "f8"
         },
         "yaxis": "y3"
        },
        {
         "hovertemplate": "Plant Type=Hydro<br>Period=2035<br>Source=%{x}<br>Generation (PJ)=%{y}<extra></extra>",
         "legendgroup": "Hydro",
         "marker": {
          "color": "#DC3912",
          "pattern": {
           "shape": ""
          }
         },
         "name": "Hydro",
         "orientation": "v",
         "showlegend": false,
         "textfont": {
          "size": 9
         },
         "textposition": "auto",
         "texttemplate": "%{y:.1f}",
         "type": "bar",
         "x": [
          "CANOE (vanilla)",
          "CANOE (ref)",
          "CEF2023",
          "gTech-IESD"
         ],
         "xaxis": "x4",
         "y": {
          "bdata": "tPSzXG2NW0Dy3mrtn4xbQA+pERZv9mBAFx8JdX2rYEA=",
          "dtype": "f8"
         },
         "yaxis": "y4"
        },
        {
         "hovertemplate": "Plant Type=Hydro<br>Period=2040<br>Source=%{x}<br>Generation (PJ)=%{y}<extra></extra>",
         "legendgroup": "Hydro",
         "marker": {
          "color": "#DC3912",
          "pattern": {
           "shape": ""
          }
         },
         "name": "Hydro",
         "orientation": "v",
         "showlegend": false,
         "textfont": {
          "size": 9
         },
         "textposition": "auto",
         "texttemplate": "%{y:.1f}",
         "type": "bar",
         "x": [
          "CANOE (vanilla)",
          "CANOE (ref)",
          "CEF2023",
          "gTech-IESD"
         ],
         "xaxis": "x5",
         "y": {
          "bdata": "bLx9KXPmW0BuLAbXgeZbQPPYusceyWBAKDLOOj6fYEA=",
          "dtype": "f8"
         },
         "yaxis": "y5"
        },
        {
         "hovertemplate": "Plant Type=Hydro<br>Period=2045<br>Source=%{x}<br>Generation (PJ)=%{y}<extra></extra>",
         "legendgroup": "Hydro",
         "marker": {
          "color": "#DC3912",
          "pattern": {
           "shape": ""
          }
         },
         "name": "Hydro",
         "orientation": "v",
         "showlegend": false,
         "textfont": {
          "size": 9
         },
         "textposition": "auto",
         "texttemplate": "%{y:.1f}",
         "type": "bar",
         "x": [
          "CANOE (vanilla)",
          "CANOE (ref)",
          "CEF2023",
          "gTech-IESD"
         ],
         "xaxis": "x6",
         "y": {
          "bdata": "FzSodOX5W0BuRXic7flbQJQsxy4Iv2BAWlTssfJ+YEA=",
          "dtype": "f8"
         },
         "yaxis": "y6"
        },
        {
         "hovertemplate": "Plant Type=Hydro<br>Period=2050<br>Source=%{x}<br>Generation (PJ)=%{y}<extra></extra>",
         "legendgroup": "Hydro",
         "marker": {
          "color": "#DC3912",
          "pattern": {
           "shape": ""
          }
         },
         "name": "Hydro",
         "orientation": "v",
         "showlegend": false,
         "textfont": {
          "size": 9
         },
         "textposition": "auto",
         "texttemplate": "%{y:.1f}",
         "type": "bar",
         "x": [
          "CANOE (vanilla)",
          "CANOE (ref)",
          "CEF2023",
          "gTech-IESD"
         ],
         "xaxis": "x7",
         "y": {
          "bdata": "djnzt1sGXEAgEReGvAhcQGs8EA1WtGBATqxR5BBoYEA=",
          "dtype": "f8"
         },
         "yaxis": "y7"
        },
        {
         "hovertemplate": "Plant Type=Natural Gas<br>Period=2021<br>Source=%{x}<br>Generation (PJ)=%{y}<extra></extra>",
         "legendgroup": "Natural Gas",
         "marker": {
          "color": "#FF9900",
          "pattern": {
           "shape": ""
          }
         },
         "name": "Natural Gas",
         "orientation": "v",
         "showlegend": true,
         "textfont": {
          "size": 9
         },
         "textposition": "auto",
         "texttemplate": "%{y:.1f}",
         "type": "bar",
         "x": [
          "CANOE (vanilla)",
          "CANOE (ref)",
          "CEF2023",
          "gTech-IESD"
         ],
         "xaxis": "x",
         "y": {
          "bdata": "+MPg+tiZZkAZmjXYBp5mQH/j9sG1fkRAVpa1+Wb0QkA=",
          "dtype": "f8"
         },
         "yaxis": "y"
        },
        {
         "hovertemplate": "Plant Type=Natural Gas<br>Period=2025<br>Source=%{x}<br>Generation (PJ)=%{y}<extra></extra>",
         "legendgroup": "Natural Gas",
         "marker": {
          "color": "#FF9900",
          "pattern": {
           "shape": ""
          }
         },
         "name": "Natural Gas",
         "orientation": "v",
         "showlegend": false,
         "textfont": {
          "size": 9
         },
         "textposition": "auto",
         "texttemplate": "%{y:.1f}",
         "type": "bar",
         "x": [
          "CANOE (vanilla)",
          "CANOE (ref)",
          "CEF2023",
          "gTech-IESD"
         ],
         "xaxis": "x2",
         "y": {
          "bdata": "MHJ8otEFX0AbKale1i1fQLdBpuLqxURAheiYBEssN0A=",
          "dtype": "f8"
         },
         "yaxis": "y2"
        },
        {
         "hovertemplate": "Plant Type=Natural Gas<br>Period=2030<br>Source=%{x}<br>Generation (PJ)=%{y}<extra></extra>",
         "legendgroup": "Natural Gas",
         "marker": {
          "color": "#FF9900",
          "pattern": {
           "shape": ""
          }
         },
         "name": "Natural Gas",
         "orientation": "v",
         "showlegend": false,
         "textfont": {
          "size": 9
         },
         "textposition": "auto",
         "texttemplate": "%{y:.1f}",
         "type": "bar",
         "x": [
          "CANOE (vanilla)",
          "CANOE (ref)",
          "CEF2023",
          "gTech-IESD"
         ],
         "xaxis": "x3",
         "y": {
          "bdata": "Kft1pj1YZED1RXSYCZ9kQDagNo5+xEhAULA+n3p+IkA=",
          "dtype": "f8"
         },
         "yaxis": "y3"
        },
        {
         "hovertemplate": "Plant Type=Natural Gas<br>Period=2035<br>Source=%{x}<br>Generation (PJ)=%{y}<extra></extra>",
         "legendgroup": "Natural Gas",
         "marker": {
          "color": "#FF9900",
          "pattern": {
           "shape": ""
          }
         },
         "name": "Natural Gas",
         "orientation": "v",
         "showlegend": false,
         "textfont": {
          "size": 9
         },
         "textposition": "auto",
         "texttemplate": "%{y:.1f}",
         "type": "bar",
         "x": [
          "CANOE (vanilla)",
          "CANOE (ref)",
          "CEF2023",
          "gTech-IESD"
         ],
         "xaxis": "x4",
         "y": {
          "bdata": "KaGcNsF9WUBgkqQmsD5aQMs4ughbkEpAnyVBYZScKEA=",
          "dtype": "f8"
         },
         "yaxis": "y4"
        },
        {
         "hovertemplate": "Plant Type=Natural Gas<br>Period=2040<br>Source=%{x}<br>Generation (PJ)=%{y}<extra></extra>",
         "legendgroup": "Natural Gas",
         "marker": {
          "color": "#FF9900",
          "pattern": {
           "shape": ""
          }
         },
         "name": "Natural Gas",
         "orientation": "v",
         "showlegend": false,
         "textfont": {
          "size": 9
         },
         "textposition": "auto",
         "texttemplate": "%{y:.1f}",
         "type": "bar",
         "x": [
          "CANOE (vanilla)",
          "CANOE (ref)",
          "CEF2023",
          "gTech-IESD"
         ],
         "xaxis": "x5",
         "y": {
          "bdata": "HH/8MpOyY0CnIJGhB6VkQCoQfUQ6QERATM5B+uN8MkA=",
          "dtype": "f8"
         },
         "yaxis": "y5"
        },
        {
         "hovertemplate": "Plant Type=Natural Gas<br>Period=2045<br>Source=%{x}<br>Generation (PJ)=%{y}<extra></extra>",
         "legendgroup": "Natural Gas",
         "marker": {
          "color": "#FF9900",
          "pattern": {
           "shape": ""
          }
         },
         "name": "Natural Gas",
         "orientation": "v",
         "showlegend": false,
         "textfont": {
          "size": 9
         },
         "textposition": "auto",
         "texttemplate": "%{y:.1f}",
         "type": "bar",
         "x": [
          "CANOE (vanilla)",
          "CANOE (ref)",
          "CEF2023",
          "gTech-IESD"
         ],
         "xaxis": "x6",
         "y": {
          "bdata": "NLP62GfQd0BWDPSk1G14QC0El5liGUNAVEIlJhdVQEA=",
          "dtype": "f8"
         },
         "yaxis": "y6"
        },
        {
         "hovertemplate": "Plant Type=Natural Gas<br>Period=2050<br>Source=%{x}<br>Generation (PJ)=%{y}<extra></extra>",
         "legendgroup": "Natural Gas",
         "marker": {
          "color": "#FF9900",
          "pattern": {
           "shape": ""
          }
         },
         "name": "Natural Gas",
         "orientation": "v",
         "showlegend": false,
         "textfont": {
          "size": 9
         },
         "textposition": "auto",
         "texttemplate": "%{y:.1f}",
         "type": "bar",
         "x": [
          "CANOE (vanilla)",
          "CANOE (ref)",
          "CEF2023",
          "gTech-IESD"
         ],
         "xaxis": "x7",
         "y": {
          "bdata": "UJGqkKSaekAyra9UOu56QDc3oW5yx0dAjuvf9ZltRkA=",
          "dtype": "f8"
         },
         "yaxis": "y7"
        },
        {
         "hovertemplate": "Plant Type=Nuclear<br>Period=2021<br>Source=%{x}<br>Generation (PJ)=%{y}<extra></extra>",
         "legendgroup": "Nuclear",
         "marker": {
          "color": "#109618",
          "pattern": {
           "shape": ""
          }
         },
         "name": "Nuclear",
         "orientation": "v",
         "showlegend": true,
         "textfont": {
          "size": 9
         },
         "textposition": "auto",
         "texttemplate": "%{y:.1f}",
         "type": "bar",
         "x": [
          "CANOE (vanilla)",
          "CANOE (ref)",
          "CEF2023",
          "gTech-IESD"
         ],
         "xaxis": "x",
         "y": {
          "bdata": "JTJhJ/xzdEDkDu4n/HN0QHYqJXNog3JAiCMIijEfc0A=",
          "dtype": "f8"
         },
         "yaxis": "y"
        },
        {
         "hovertemplate": "Plant Type=Nuclear<br>Period=2025<br>Source=%{x}<br>Generation (PJ)=%{y}<extra></extra>",
         "legendgroup": "Nuclear",
         "marker": {
          "color": "#109618",
          "pattern": {
           "shape": ""
          }
         },
         "name": "Nuclear",
         "orientation": "v",
         "showlegend": false,
         "textfont": {
          "size": 9
         },
         "textposition": "auto",
         "texttemplate": "%{y:.1f}",
         "type": "bar",
         "x": [
          "CANOE (vanilla)",
          "CANOE (ref)",
          "CEF2023",
          "gTech-IESD"
         ],
         "xaxis": "x2",
         "y": {
          "bdata": "YHXGzpEEdEA5c8MQPAR0QN1F6enblXBAMWNlj6uJcEA=",
          "dtype": "f8"
         },
         "yaxis": "y2"
        },
        {
         "hovertemplate": "Plant Type=Nuclear<br>Period=2030<br>Source=%{x}<br>Generation (PJ)=%{y}<extra></extra>",
         "legendgroup": "Nuclear",
         "marker": {
          "color": "#109618",
          "pattern": {
           "shape": ""
          }
         },
         "name": "Nuclear",
         "orientation": "v",
         "showlegend": false,
         "textfont": {
          "size": 9
         },
         "textposition": "auto",
         "texttemplate": "%{y:.1f}",
         "type": "bar",
         "x": [
          "CANOE (vanilla)",
          "CANOE (ref)",
          "CEF2023",
          "gTech-IESD"
         ],
         "xaxis": "x3",
         "y": {
          "bdata": "JXstrzi1Z0AKau+5zq9nQOD0ED8GRHFAfF+r8KaQbUA=",
          "dtype": "f8"
         },
         "yaxis": "y3"
        },
        {
         "hovertemplate": "Plant Type=Nuclear<br>Period=2035<br>Source=%{x}<br>Generation (PJ)=%{y}<extra></extra>",
         "legendgroup": "Nuclear",
         "marker": {
          "color": "#109618",
          "pattern": {
           "shape": ""
          }
         },
         "name": "Nuclear",
         "orientation": "v",
         "showlegend": false,
         "textfont": {
          "size": 9
         },
         "textposition": "auto",
         "texttemplate": "%{y:.1f}",
         "type": "bar",
         "x": [
          "CANOE (vanilla)",
          "CANOE (ref)",
          "CEF2023",
          "gTech-IESD"
         ],
         "xaxis": "x4",
         "y": {
          "bdata": "3hZaudtGZECQB/E86kJkQN3v8qImI3NApa5wI0kWb0A=",
          "dtype": "f8"
         },
         "yaxis": "y4"
        },
        {
         "hovertemplate": "Plant Type=Nuclear<br>Period=2040<br>Source=%{x}<br>Generation (PJ)=%{y}<extra></extra>",
         "legendgroup": "Nuclear",
         "marker": {
          "color": "#109618",
          "pattern": {
           "shape": ""
          }
         },
         "name": "Nuclear",
         "orientation": "v",
         "showlegend": false,
         "textfont": {
          "size": 9
         },
         "textposition": "auto",
         "texttemplate": "%{y:.1f}",
         "type": "bar",
         "x": [
          "CANOE (vanilla)",
          "CANOE (ref)",
          "CEF2023",
          "gTech-IESD"
         ],
         "xaxis": "x5",
         "y": {
          "bdata": "ibfQ0hRFXUBHjtLeqEpdQIsFDnz22HJA6P4aq/VNcEA=",
          "dtype": "f8"
         },
         "yaxis": "y5"
        },
        {
         "hovertemplate": "Plant Type=Nuclear<br>Period=2045<br>Source=%{x}<br>Generation (PJ)=%{y}<extra></extra>",
         "legendgroup": "Nuclear",
         "marker": {
          "color": "#109618",
          "pattern": {
           "shape": ""
          }
         },
         "name": "Nuclear",
         "orientation": "v",
         "showlegend": false,
         "textfont": {
          "size": 9
         },
         "textposition": "auto",
         "texttemplate": "%{y:.1f}",
         "type": "bar",
         "x": [
          "CANOE (vanilla)",
          "CANOE (ref)",
          "CEF2023",
          "gTech-IESD"
         ],
         "xaxis": "x6",
         "y": {
          "bdata": "vRDERxlpOUDpx4H1GGk5QDb0vMNApXJA6P4aq/VNcEA=",
          "dtype": "f8"
         },
         "yaxis": "y6"
        },
        {
         "hovertemplate": "Plant Type=Nuclear<br>Period=2050<br>Source=%{x}<br>Generation (PJ)=%{y}<extra></extra>",
         "legendgroup": "Nuclear",
         "marker": {
          "color": "#109618",
          "pattern": {
           "shape": ""
          }
         },
         "name": "Nuclear",
         "orientation": "v",
         "showlegend": false,
         "textfont": {
          "size": 9
         },
         "textposition": "auto",
         "texttemplate": "%{y:.1f}",
         "type": "bar",
         "x": [
          "CANOE (vanilla)",
          "CANOE (ref)",
          "CEF2023",
          "gTech-IESD"
         ],
         "xaxis": "x7",
         "y": {
          "bdata": "5CsHSBlpOUDSPBn9GGk5QCqKCYEbmnJA6P4aq/VNcEA=",
          "dtype": "f8"
         },
         "yaxis": "y7"
        },
        {
         "hovertemplate": "Plant Type=Solar<br>Period=2021<br>Source=%{x}<br>Generation (PJ)=%{y}<extra></extra>",
         "legendgroup": "Solar",
         "marker": {
          "color": "#990099",
          "pattern": {
           "shape": ""
          }
         },
         "name": "Solar",
         "orientation": "v",
         "showlegend": true,
         "textfont": {
          "size": 9
         },
         "textposition": "auto",
         "texttemplate": "%{y:.1f}",
         "type": "bar",
         "x": [
          "CANOE (vanilla)",
          "CANOE (ref)",
          "CEF2023",
          "gTech-IESD"
         ],
         "xaxis": "x",
         "y": {
          "bdata": "cLkxUNt/A0CgLVTvKYADQI6AUvghnTRAQUnJ/+C7JkA=",
          "dtype": "f8"
         },
         "yaxis": "y"
        },
        {
         "hovertemplate": "Plant Type=Solar<br>Period=2025<br>Source=%{x}<br>Generation (PJ)=%{y}<extra></extra>",
         "legendgroup": "Solar",
         "marker": {
          "color": "#990099",
          "pattern": {
           "shape": ""
          }
         },
         "name": "Solar",
         "orientation": "v",
         "showlegend": false,
         "textfont": {
          "size": 9
         },
         "textposition": "auto",
         "texttemplate": "%{y:.1f}",
         "type": "bar",
         "x": [
          "CANOE (vanilla)",
          "CANOE (ref)",
          "CEF2023",
          "gTech-IESD"
         ],
         "xaxis": "x2",
         "y": {
          "bdata": "Sn4autp/A0D16c2oLYEDQMm3Xic6vD1AUcPkehURNkA=",
          "dtype": "f8"
         },
         "yaxis": "y2"
        },
        {
         "hovertemplate": "Plant Type=Solar<br>Period=2030<br>Source=%{x}<br>Generation (PJ)=%{y}<extra></extra>",
         "legendgroup": "Solar",
         "marker": {
          "color": "#990099",
          "pattern": {
           "shape": ""
          }
         },
         "name": "Solar",
         "orientation": "v",
         "showlegend": false,
         "textfont": {
          "size": 9
         },
         "textposition": "auto",
         "texttemplate": "%{y:.1f}",
         "type": "bar",
         "x": [
          "CANOE (vanilla)",
          "CANOE (ref)",
          "CEF2023",
          "gTech-IESD"
         ],
         "xaxis": "x3",
         "y": {
          "bdata": "dJdlJFkhA0ASgU9DdSIDQHJmG/5qWD9A1/KavKAKUEA=",
          "dtype": "f8"
         },
         "yaxis": "y3"
        },
        {
         "hovertemplate": "Plant Type=Solar<br>Period=2035<br>Source=%{x}<br>Generation (PJ)=%{y}<extra></extra>",
         "legendgroup": "Solar",
         "marker": {
          "color": "#990099",
          "pattern": {
           "shape": ""
          }
         },
         "name": "Solar",
         "orientation": "v",
         "showlegend": false,
         "textfont": {
          "size": 9
         },
         "textposition": "auto",
         "texttemplate": "%{y:.1f}",
         "type": "bar",
         "x": [
          "CANOE (vanilla)",
          "CANOE (ref)",
          "CEF2023",
          "gTech-IESD"
         ],
         "xaxis": "x4",
         "y": {
          "bdata": "N0sd2INSYkCUy3enfH9iQIEARk08XT9AVKMdWApfVUA=",
          "dtype": "f8"
         },
         "yaxis": "y4"
        },
        {
         "hovertemplate": "Plant Type=Solar<br>Period=2040<br>Source=%{x}<br>Generation (PJ)=%{y}<extra></extra>",
         "legendgroup": "Solar",
         "marker": {
          "color": "#990099",
          "pattern": {
           "shape": ""
          }
         },
         "name": "Solar",
         "orientation": "v",
         "showlegend": false,
         "textfont": {
          "size": 9
         },
         "textposition": "auto",
         "texttemplate": "%{y:.1f}",
         "type": "bar",
         "x": [
          "CANOE (vanilla)",
          "CANOE (ref)",
          "CEF2023",
          "gTech-IESD"
         ],
         "xaxis": "x5",
         "y": {
          "bdata": "RQoyVbR+ZUAmqLb0PMdlQM0QgJwNYj9AvN9KcbNeXUA=",
          "dtype": "f8"
         },
         "yaxis": "y5"
        },
        {
         "hovertemplate": "Plant Type=Solar<br>Period=2045<br>Source=%{x}<br>Generation (PJ)=%{y}<extra></extra>",
         "legendgroup": "Solar",
         "marker": {
          "color": "#990099",
          "pattern": {
           "shape": ""
          }
         },
         "name": "Solar",
         "orientation": "v",
         "showlegend": false,
         "textfont": {
          "size": 9
         },
         "textposition": "auto",
         "texttemplate": "%{y:.1f}",
         "type": "bar",
         "x": [
          "CANOE (vanilla)",
          "CANOE (ref)",
          "CEF2023",
          "gTech-IESD"
         ],
         "xaxis": "x6",
         "y": {
          "bdata": "dO+YOIJfZUCtWYKnJaplQBJRN4zV6UpADXhAqdvaZUA=",
          "dtype": "f8"
         },
         "yaxis": "y6"
        },
        {
         "hovertemplate": "Plant Type=Solar<br>Period=2050<br>Source=%{x}<br>Generation (PJ)=%{y}<extra></extra>",
         "legendgroup": "Solar",
         "marker": {
          "color": "#990099",
          "pattern": {
           "shape": ""
          }
         },
         "name": "Solar",
         "orientation": "v",
         "showlegend": false,
         "textfont": {
          "size": 9
         },
         "textposition": "auto",
         "texttemplate": "%{y:.1f}",
         "type": "bar",
         "x": [
          "CANOE (vanilla)",
          "CANOE (ref)",
          "CEF2023",
          "gTech-IESD"
         ],
         "xaxis": "x7",
         "y": {
          "bdata": "hjpudaATZkBOy9YR7P1lQPM6JvcpIlFAAhxc6d58bEA=",
          "dtype": "f8"
         },
         "yaxis": "y7"
        },
        {
         "hovertemplate": "Plant Type=Wind<br>Period=2021<br>Source=%{x}<br>Generation (PJ)=%{y}<extra></extra>",
         "legendgroup": "Wind",
         "marker": {
          "color": "#0099C6",
          "pattern": {
           "shape": ""
          }
         },
         "name": "Wind",
         "orientation": "v",
         "showlegend": true,
         "textfont": {
          "size": 9
         },
         "textposition": "auto",
         "texttemplate": "%{y:.1f}",
         "type": "bar",
         "x": [
          "CANOE (vanilla)",
          "CANOE (ref)",
          "CEF2023",
          "gTech-IESD"
         ],
         "xaxis": "x",
         "y": {
          "bdata": "I33AHEVYRkBNuCY3C1pGQGfkqrTwWkZAUO5ZQHEdSkA=",
          "dtype": "f8"
         },
         "yaxis": "y"
        },
        {
         "hovertemplate": "Plant Type=Wind<br>Period=2025<br>Source=%{x}<br>Generation (PJ)=%{y}<extra></extra>",
         "legendgroup": "Wind",
         "marker": {
          "color": "#0099C6",
          "pattern": {
           "shape": ""
          }
         },
         "name": "Wind",
         "orientation": "v",
         "showlegend": false,
         "textfont": {
          "size": 9
         },
         "textposition": "auto",
         "texttemplate": "%{y:.1f}",
         "type": "bar",
         "x": [
          "CANOE (vanilla)",
          "CANOE (ref)",
          "CEF2023",
          "gTech-IESD"
         ],
         "xaxis": "x2",
         "y": {
          "bdata": "+EjnY0pTYECxvwST0mlgQGugvDmjEVBAFyF89d+XSkA=",
          "dtype": "f8"
         },
         "yaxis": "y2"
        },
        {
         "hovertemplate": "Plant Type=Wind<br>Period=2030<br>Source=%{x}<br>Generation (PJ)=%{y}<extra></extra>",
         "legendgroup": "Wind",
         "marker": {
          "color": "#0099C6",
          "pattern": {
           "shape": ""
          }
         },
         "name": "Wind",
         "orientation": "v",
         "showlegend": false,
         "textfont": {
          "size": 9
         },
         "textposition": "auto",
         "texttemplate": "%{y:.1f}",
         "type": "bar",
         "x": [
          "CANOE (vanilla)",
          "CANOE (ref)",
          "CEF2023",
          "gTech-IESD"
         ],
         "xaxis": "x3",
         "y": {
          "bdata": "317Am24ydEC+m08WKV50QGwniaZltFdAebBJp8PeVUA=",
          "dtype": "f8"
         },
         "yaxis": "y3"
        },
        {
         "hovertemplate": "Plant Type=Wind<br>Period=2035<br>Source=%{x}<br>Generation (PJ)=%{y}<extra></extra>",
         "legendgroup": "Wind",
         "marker": {
          "color": "#0099C6",
          "pattern": {
           "shape": ""
          }
         },
         "name": "Wind",
         "orientation": "v",
         "showlegend": false,
         "textfont": {
          "size": 9
         },
         "textposition": "auto",
         "texttemplate": "%{y:.1f}",
         "type": "bar",
         "x": [
          "CANOE (vanilla)",
          "CANOE (ref)",
          "CEF2023",
          "gTech-IESD"
         ],
         "xaxis": "x4",
         "y": {
          "bdata": "/vZ+ucVNdEB4EVZ/oZR0QLl+TRjFkV5AptCQKVOWXEA=",
          "dtype": "f8"
         },
         "yaxis": "y4"
        },
        {
         "hovertemplate": "Plant Type=Wind<br>Period=2040<br>Source=%{x}<br>Generation (PJ)=%{y}<extra></extra>",
         "legendgroup": "Wind",
         "marker": {
          "color": "#0099C6",
          "pattern": {
           "shape": ""
          }
         },
         "name": "Wind",
         "orientation": "v",
         "showlegend": false,
         "textfont": {
          "size": 9
         },
         "textposition": "auto",
         "texttemplate": "%{y:.1f}",
         "type": "bar",
         "x": [
          "CANOE (vanilla)",
          "CANOE (ref)",
          "CEF2023",
          "gTech-IESD"
         ],
         "xaxis": "x5",
         "y": {
          "bdata": "+1rLzD/kd0COPlCtfzp4QP3qu2zFrmxAQUMML1mgYkA=",
          "dtype": "f8"
         },
         "yaxis": "y5"
        },
        {
         "hovertemplate": "Plant Type=Wind<br>Period=2045<br>Source=%{x}<br>Generation (PJ)=%{y}<extra></extra>",
         "legendgroup": "Wind",
         "marker": {
          "color": "#0099C6",
          "pattern": {
           "shape": ""
          }
         },
         "name": "Wind",
         "orientation": "v",
         "showlegend": false,
         "textfont": {
          "size": 9
         },
         "textposition": "auto",
         "texttemplate": "%{y:.1f}",
         "type": "bar",
         "x": [
          "CANOE (vanilla)",
          "CANOE (ref)",
          "CEF2023",
          "gTech-IESD"
         ],
         "xaxis": "x6",
         "y": {
          "bdata": "kLx5ADuBdkBIccsZBtl2QPpzdtc+InJAfiNw2gI4ZkA=",
          "dtype": "f8"
         },
         "yaxis": "y6"
        },
        {
         "hovertemplate": "Plant Type=Wind<br>Period=2050<br>Source=%{x}<br>Generation (PJ)=%{y}<extra></extra>",
         "legendgroup": "Wind",
         "marker": {
          "color": "#0099C6",
          "pattern": {
           "shape": ""
          }
         },
         "name": "Wind",
         "orientation": "v",
         "showlegend": false,
         "textfont": {
          "size": 9
         },
         "textposition": "auto",
         "texttemplate": "%{y:.1f}",
         "type": "bar",
         "x": [
          "CANOE (vanilla)",
          "CANOE (ref)",
          "CEF2023",
          "gTech-IESD"
         ],
         "xaxis": "x7",
         "y": {
          "bdata": "3p+7bfB+dkBATQd/2dF2QLgbHqTij3RAc5CgkE7MaEA=",
          "dtype": "f8"
         },
         "yaxis": "y7"
        },
        {
         "hovertemplate": "Plant Type=Oil<br>Period=2021<br>Source=%{x}<br>Generation (PJ)=%{y}<extra></extra>",
         "legendgroup": "Oil",
         "marker": {
          "color": "#DD4477",
          "pattern": {
           "shape": ""
          }
         },
         "name": "Oil",
         "orientation": "v",
         "showlegend": true,
         "textfont": {
          "size": 9
         },
         "textposition": "auto",
         "texttemplate": "%{y:.1f}",
         "type": "bar",
         "x": [
          "CEF2023"
         ],
         "xaxis": "x",
         "y": {
          "bdata": "cxxwRJSC1T8=",
          "dtype": "f8"
         },
         "yaxis": "y"
        },
        {
         "hovertemplate": "Plant Type=Oil<br>Period=2025<br>Source=%{x}<br>Generation (PJ)=%{y}<extra></extra>",
         "legendgroup": "Oil",
         "marker": {
          "color": "#DD4477",
          "pattern": {
           "shape": ""
          }
         },
         "name": "Oil",
         "orientation": "v",
         "showlegend": false,
         "textfont": {
          "size": 9
         },
         "textposition": "auto",
         "texttemplate": "%{y:.1f}",
         "type": "bar",
         "x": [
          "CEF2023"
         ],
         "xaxis": "x2",
         "y": {
          "bdata": "WW2y0S/N0j8=",
          "dtype": "f8"
         },
         "yaxis": "y2"
        },
        {
         "hovertemplate": "Plant Type=Oil<br>Period=2030<br>Source=%{x}<br>Generation (PJ)=%{y}<extra></extra>",
         "legendgroup": "Oil",
         "marker": {
          "color": "#DD4477",
          "pattern": {
           "shape": ""
          }
         },
         "name": "Oil",
         "orientation": "v",
         "showlegend": false,
         "textfont": {
          "size": 9
         },
         "textposition": "auto",
         "texttemplate": "%{y:.1f}",
         "type": "bar",
         "x": [
          "CEF2023"
         ],
         "xaxis": "x3",
         "y": {
          "bdata": "DVAjtJEuqT8=",
          "dtype": "f8"
         },
         "yaxis": "y3"
        },
        {
         "hovertemplate": "Plant Type=Oil<br>Period=2035<br>Source=%{x}<br>Generation (PJ)=%{y}<extra></extra>",
         "legendgroup": "Oil",
         "marker": {
          "color": "#DD4477",
          "pattern": {
           "shape": ""
          }
         },
         "name": "Oil",
         "orientation": "v",
         "showlegend": false,
         "textfont": {
          "size": 9
         },
         "textposition": "auto",
         "texttemplate": "%{y:.1f}",
         "type": "bar",
         "x": [
          "CEF2023"
         ],
         "xaxis": "x4",
         "y": {
          "bdata": "DVAjtJEuqT8=",
          "dtype": "f8"
         },
         "yaxis": "y4"
        },
        {
         "hovertemplate": "Plant Type=Oil<br>Period=2040<br>Source=%{x}<br>Generation (PJ)=%{y}<extra></extra>",
         "legendgroup": "Oil",
         "marker": {
          "color": "#DD4477",
          "pattern": {
           "shape": ""
          }
         },
         "name": "Oil",
         "orientation": "v",
         "showlegend": false,
         "textfont": {
          "size": 9
         },
         "textposition": "auto",
         "texttemplate": "%{y:.1f}",
         "type": "bar",
         "x": [
          "CEF2023"
         ],
         "xaxis": "x5",
         "y": {
          "bdata": "AAAAAAAAAAA=",
          "dtype": "f8"
         },
         "yaxis": "y5"
        },
        {
         "hovertemplate": "Plant Type=Oil<br>Period=2045<br>Source=%{x}<br>Generation (PJ)=%{y}<extra></extra>",
         "legendgroup": "Oil",
         "marker": {
          "color": "#DD4477",
          "pattern": {
           "shape": ""
          }
         },
         "name": "Oil",
         "orientation": "v",
         "showlegend": false,
         "textfont": {
          "size": 9
         },
         "textposition": "auto",
         "texttemplate": "%{y:.1f}",
         "type": "bar",
         "x": [
          "CEF2023"
         ],
         "xaxis": "x6",
         "y": {
          "bdata": "AAAAAAAAAAA=",
          "dtype": "f8"
         },
         "yaxis": "y6"
        },
        {
         "hovertemplate": "Plant Type=Oil<br>Period=2050<br>Source=%{x}<br>Generation (PJ)=%{y}<extra></extra>",
         "legendgroup": "Oil",
         "marker": {
          "color": "#DD4477",
          "pattern": {
           "shape": ""
          }
         },
         "name": "Oil",
         "orientation": "v",
         "showlegend": false,
         "textfont": {
          "size": 9
         },
         "textposition": "auto",
         "texttemplate": "%{y:.1f}",
         "type": "bar",
         "x": [
          "CEF2023"
         ],
         "xaxis": "x7",
         "y": {
          "bdata": "AAAAAAAAAAA=",
          "dtype": "f8"
         },
         "yaxis": "y7"
        },
        {
         "hovertemplate": "Plant Type=Other<br>Period=2021<br>Source=%{x}<br>Generation (PJ)=%{y}<extra></extra>",
         "legendgroup": "Other",
         "marker": {
          "color": "#B82E2E",
          "pattern": {
           "shape": ""
          }
         },
         "name": "Other",
         "orientation": "v",
         "showlegend": true,
         "textfont": {
          "size": 9
         },
         "textposition": "auto",
         "texttemplate": "%{y:.1f}",
         "type": "bar",
         "x": [
          "gTech-IESD"
         ],
         "xaxis": "x",
         "y": {
          "bdata": "WZXl8VmAJ0A=",
          "dtype": "f8"
         },
         "yaxis": "y"
        },
        {
         "hovertemplate": "Plant Type=Other<br>Period=2025<br>Source=%{x}<br>Generation (PJ)=%{y}<extra></extra>",
         "legendgroup": "Other",
         "marker": {
          "color": "#B82E2E",
          "pattern": {
           "shape": ""
          }
         },
         "name": "Other",
         "orientation": "v",
         "showlegend": false,
         "textfont": {
          "size": 9
         },
         "textposition": "auto",
         "texttemplate": "%{y:.1f}",
         "type": "bar",
         "x": [
          "gTech-IESD"
         ],
         "xaxis": "x2",
         "y": {
          "bdata": "0n3MzQ8XJkA=",
          "dtype": "f8"
         },
         "yaxis": "y2"
        },
        {
         "hovertemplate": "Plant Type=Other<br>Period=2030<br>Source=%{x}<br>Generation (PJ)=%{y}<extra></extra>",
         "legendgroup": "Other",
         "marker": {
          "color": "#B82E2E",
          "pattern": {
           "shape": ""
          }
         },
         "name": "Other",
         "orientation": "v",
         "showlegend": false,
         "textfont": {
          "size": 9
         },
         "textposition": "auto",
         "texttemplate": "%{y:.1f}",
         "type": "bar",
         "x": [
          "gTech-IESD"
         ],
         "xaxis": "x3",
         "y": {
          "bdata": "sVIky4DJJEA=",
          "dtype": "f8"
         },
         "yaxis": "y3"
        },
        {
         "hovertemplate": "Plant Type=Other<br>Period=2035<br>Source=%{x}<br>Generation (PJ)=%{y}<extra></extra>",
         "legendgroup": "Other",
         "marker": {
          "color": "#B82E2E",
          "pattern": {
           "shape": ""
          }
         },
         "name": "Other",
         "orientation": "v",
         "showlegend": false,
         "textfont": {
          "size": 9
         },
         "textposition": "auto",
         "texttemplate": "%{y:.1f}",
         "type": "bar",
         "x": [
          "gTech-IESD"
         ],
         "xaxis": "x4",
         "y": {
          "bdata": "e5Gzrl0bJkA=",
          "dtype": "f8"
         },
         "yaxis": "y4"
        },
        {
         "hovertemplate": "Plant Type=Other<br>Period=2040<br>Source=%{x}<br>Generation (PJ)=%{y}<extra></extra>",
         "legendgroup": "Other",
         "marker": {
          "color": "#B82E2E",
          "pattern": {
           "shape": ""
          }
         },
         "name": "Other",
         "orientation": "v",
         "showlegend": false,
         "textfont": {
          "size": 9
         },
         "textposition": "auto",
         "texttemplate": "%{y:.1f}",
         "type": "bar",
         "x": [
          "gTech-IESD"
         ],
         "xaxis": "x5",
         "y": {
          "bdata": "TYXCaFnrJ0A=",
          "dtype": "f8"
         },
         "yaxis": "y5"
        },
        {
         "hovertemplate": "Plant Type=Other<br>Period=2045<br>Source=%{x}<br>Generation (PJ)=%{y}<extra></extra>",
         "legendgroup": "Other",
         "marker": {
          "color": "#B82E2E",
          "pattern": {
           "shape": ""
          }
         },
         "name": "Other",
         "orientation": "v",
         "showlegend": false,
         "textfont": {
          "size": 9
         },
         "textposition": "auto",
         "texttemplate": "%{y:.1f}",
         "type": "bar",
         "x": [
          "gTech-IESD"
         ],
         "xaxis": "x6",
         "y": {
          "bdata": "V+KiF0zCKUA=",
          "dtype": "f8"
         },
         "yaxis": "y6"
        },
        {
         "hovertemplate": "Plant Type=Other<br>Period=2050<br>Source=%{x}<br>Generation (PJ)=%{y}<extra></extra>",
         "legendgroup": "Other",
         "marker": {
          "color": "#B82E2E",
          "pattern": {
           "shape": ""
          }
         },
         "name": "Other",
         "orientation": "v",
         "showlegend": false,
         "textfont": {
          "size": 9
         },
         "textposition": "auto",
         "texttemplate": "%{y:.1f}",
         "type": "bar",
         "x": [
          "gTech-IESD"
         ],
         "xaxis": "x7",
         "y": {
          "bdata": "26N2iaphK0A=",
          "dtype": "f8"
         },
         "yaxis": "y7"
        }
       ],
       "layout": {
        "annotations": [
         {
          "font": {},
          "showarrow": false,
          "text": "2021",
          "x": 0.06285714285714285,
          "xanchor": "center",
          "xref": "paper",
          "y": -0.15,
          "yanchor": "top",
          "yref": "paper"
         },
         {
          "font": {},
          "showarrow": false,
          "text": "2025",
          "x": 0.20857142857142852,
          "xanchor": "center",
          "xref": "paper",
          "y": -0.15,
          "yanchor": "top",
          "yref": "paper"
         },
         {
          "font": {},
          "showarrow": false,
          "text": "2030",
          "x": 0.3542857142857142,
          "xanchor": "center",
          "xref": "paper",
          "y": -0.15,
          "yanchor": "top",
          "yref": "paper"
         },
         {
          "font": {},
          "showarrow": false,
          "text": "2035",
          "x": 0.5,
          "xanchor": "center",
          "xref": "paper",
          "y": -0.15,
          "yanchor": "top",
          "yref": "paper"
         },
         {
          "font": {},
          "showarrow": false,
          "text": "2040",
          "x": 0.6457142857142856,
          "xanchor": "center",
          "xref": "paper",
          "y": -0.15,
          "yanchor": "top",
          "yref": "paper"
         },
         {
          "font": {},
          "showarrow": false,
          "text": "2045",
          "x": 0.7914285714285713,
          "xanchor": "center",
          "xref": "paper",
          "y": -0.15,
          "yanchor": "top",
          "yref": "paper"
         },
         {
          "font": {},
          "showarrow": false,
          "text": "2050",
          "x": 0.937142857142857,
          "xanchor": "center",
          "xref": "paper",
          "y": -0.15,
          "yanchor": "top",
          "yref": "paper"
         }
        ],
        "bargap": 0.1,
        "barmode": "stack",
        "font": {
         "size": 14
        },
        "height": 650,
        "legend": {
         "orientation": "h",
         "title": {
          "text": ""
         },
         "tracegroupgap": 0,
         "x": 0.5,
         "xanchor": "center",
         "y": 1.04,
         "yanchor": "top"
        },
        "margin": {
         "t": 60
        },
        "template": {
         "data": {
          "bar": [
           {
            "error_x": {
             "color": "#2a3f5f"
            },
            "error_y": {
             "color": "#2a3f5f"
            },
            "marker": {
             "line": {
              "color": "white",
              "width": 0.5
             },
             "pattern": {
              "fillmode": "overlay",
              "size": 10,
              "solidity": 0.2
             }
            },
            "type": "bar"
           }
          ],
          "barpolar": [
           {
            "marker": {
             "line": {
              "color": "white",
              "width": 0.5
             },
             "pattern": {
              "fillmode": "overlay",
              "size": 10,
              "solidity": 0.2
             }
            },
            "type": "barpolar"
           }
          ],
          "carpet": [
           {
            "aaxis": {
             "endlinecolor": "#2a3f5f",
             "gridcolor": "#C8D4E3",
             "linecolor": "#C8D4E3",
             "minorgridcolor": "#C8D4E3",
             "startlinecolor": "#2a3f5f"
            },
            "baxis": {
             "endlinecolor": "#2a3f5f",
             "gridcolor": "#C8D4E3",
             "linecolor": "#C8D4E3",
             "minorgridcolor": "#C8D4E3",
             "startlinecolor": "#2a3f5f"
            },
            "type": "carpet"
           }
          ],
          "choropleth": [
           {
            "colorbar": {
             "outlinewidth": 0,
             "ticks": ""
            },
            "type": "choropleth"
           }
          ],
          "contour": [
           {
            "colorbar": {
             "outlinewidth": 0,
             "ticks": ""
            },
            "colorscale": [
             [
              0,
              "#0d0887"
             ],
             [
              0.1111111111111111,
              "#46039f"
             ],
             [
              0.2222222222222222,
              "#7201a8"
             ],
             [
              0.3333333333333333,
              "#9c179e"
             ],
             [
              0.4444444444444444,
              "#bd3786"
             ],
             [
              0.5555555555555556,
              "#d8576b"
             ],
             [
              0.6666666666666666,
              "#ed7953"
             ],
             [
              0.7777777777777778,
              "#fb9f3a"
             ],
             [
              0.8888888888888888,
              "#fdca26"
             ],
             [
              1,
              "#f0f921"
             ]
            ],
            "type": "contour"
           }
          ],
          "contourcarpet": [
           {
            "colorbar": {
             "outlinewidth": 0,
             "ticks": ""
            },
            "type": "contourcarpet"
           }
          ],
          "heatmap": [
           {
            "colorbar": {
             "outlinewidth": 0,
             "ticks": ""
            },
            "colorscale": [
             [
              0,
              "#0d0887"
             ],
             [
              0.1111111111111111,
              "#46039f"
             ],
             [
              0.2222222222222222,
              "#7201a8"
             ],
             [
              0.3333333333333333,
              "#9c179e"
             ],
             [
              0.4444444444444444,
              "#bd3786"
             ],
             [
              0.5555555555555556,
              "#d8576b"
             ],
             [
              0.6666666666666666,
              "#ed7953"
             ],
             [
              0.7777777777777778,
              "#fb9f3a"
             ],
             [
              0.8888888888888888,
              "#fdca26"
             ],
             [
              1,
              "#f0f921"
             ]
            ],
            "type": "heatmap"
           }
          ],
          "histogram": [
           {
            "marker": {
             "pattern": {
              "fillmode": "overlay",
              "size": 10,
              "solidity": 0.2
             }
            },
            "type": "histogram"
           }
          ],
          "histogram2d": [
           {
            "colorbar": {
             "outlinewidth": 0,
             "ticks": ""
            },
            "colorscale": [
             [
              0,
              "#0d0887"
             ],
             [
              0.1111111111111111,
              "#46039f"
             ],
             [
              0.2222222222222222,
              "#7201a8"
             ],
             [
              0.3333333333333333,
              "#9c179e"
             ],
             [
              0.4444444444444444,
              "#bd3786"
             ],
             [
              0.5555555555555556,
              "#d8576b"
             ],
             [
              0.6666666666666666,
              "#ed7953"
             ],
             [
              0.7777777777777778,
              "#fb9f3a"
             ],
             [
              0.8888888888888888,
              "#fdca26"
             ],
             [
              1,
              "#f0f921"
             ]
            ],
            "type": "histogram2d"
           }
          ],
          "histogram2dcontour": [
           {
            "colorbar": {
             "outlinewidth": 0,
             "ticks": ""
            },
            "colorscale": [
             [
              0,
              "#0d0887"
             ],
             [
              0.1111111111111111,
              "#46039f"
             ],
             [
              0.2222222222222222,
              "#7201a8"
             ],
             [
              0.3333333333333333,
              "#9c179e"
             ],
             [
              0.4444444444444444,
              "#bd3786"
             ],
             [
              0.5555555555555556,
              "#d8576b"
             ],
             [
              0.6666666666666666,
              "#ed7953"
             ],
             [
              0.7777777777777778,
              "#fb9f3a"
             ],
             [
              0.8888888888888888,
              "#fdca26"
             ],
             [
              1,
              "#f0f921"
             ]
            ],
            "type": "histogram2dcontour"
           }
          ],
          "mesh3d": [
           {
            "colorbar": {
             "outlinewidth": 0,
             "ticks": ""
            },
            "type": "mesh3d"
           }
          ],
          "parcoords": [
           {
            "line": {
             "colorbar": {
              "outlinewidth": 0,
              "ticks": ""
             }
            },
            "type": "parcoords"
           }
          ],
          "pie": [
           {
            "automargin": true,
            "type": "pie"
           }
          ],
          "scatter": [
           {
            "fillpattern": {
             "fillmode": "overlay",
             "size": 10,
             "solidity": 0.2
            },
            "type": "scatter"
           }
          ],
          "scatter3d": [
           {
            "line": {
             "colorbar": {
              "outlinewidth": 0,
              "ticks": ""
             }
            },
            "marker": {
             "colorbar": {
              "outlinewidth": 0,
              "ticks": ""
             }
            },
            "type": "scatter3d"
           }
          ],
          "scattercarpet": [
           {
            "marker": {
             "colorbar": {
              "outlinewidth": 0,
              "ticks": ""
             }
            },
            "type": "scattercarpet"
           }
          ],
          "scattergeo": [
           {
            "marker": {
             "colorbar": {
              "outlinewidth": 0,
              "ticks": ""
             }
            },
            "type": "scattergeo"
           }
          ],
          "scattergl": [
           {
            "marker": {
             "colorbar": {
              "outlinewidth": 0,
              "ticks": ""
             }
            },
            "type": "scattergl"
           }
          ],
          "scattermap": [
           {
            "marker": {
             "colorbar": {
              "outlinewidth": 0,
              "ticks": ""
             }
            },
            "type": "scattermap"
           }
          ],
          "scattermapbox": [
           {
            "marker": {
             "colorbar": {
              "outlinewidth": 0,
              "ticks": ""
             }
            },
            "type": "scattermapbox"
           }
          ],
          "scatterpolar": [
           {
            "marker": {
             "colorbar": {
              "outlinewidth": 0,
              "ticks": ""
             }
            },
            "type": "scatterpolar"
           }
          ],
          "scatterpolargl": [
           {
            "marker": {
             "colorbar": {
              "outlinewidth": 0,
              "ticks": ""
             }
            },
            "type": "scatterpolargl"
           }
          ],
          "scatterternary": [
           {
            "marker": {
             "colorbar": {
              "outlinewidth": 0,
              "ticks": ""
             }
            },
            "type": "scatterternary"
           }
          ],
          "surface": [
           {
            "colorbar": {
             "outlinewidth": 0,
             "ticks": ""
            },
            "colorscale": [
             [
              0,
              "#0d0887"
             ],
             [
              0.1111111111111111,
              "#46039f"
             ],
             [
              0.2222222222222222,
              "#7201a8"
             ],
             [
              0.3333333333333333,
              "#9c179e"
             ],
             [
              0.4444444444444444,
              "#bd3786"
             ],
             [
              0.5555555555555556,
              "#d8576b"
             ],
             [
              0.6666666666666666,
              "#ed7953"
             ],
             [
              0.7777777777777778,
              "#fb9f3a"
             ],
             [
              0.8888888888888888,
              "#fdca26"
             ],
             [
              1,
              "#f0f921"
             ]
            ],
            "type": "surface"
           }
          ],
          "table": [
           {
            "cells": {
             "fill": {
              "color": "#EBF0F8"
             },
             "line": {
              "color": "white"
             }
            },
            "header": {
             "fill": {
              "color": "#C8D4E3"
             },
             "line": {
              "color": "white"
             }
            },
            "type": "table"
           }
          ]
         },
         "layout": {
          "annotationdefaults": {
           "arrowcolor": "#2a3f5f",
           "arrowhead": 0,
           "arrowwidth": 1
          },
          "autotypenumbers": "strict",
          "coloraxis": {
           "colorbar": {
            "outlinewidth": 0,
            "ticks": ""
           }
          },
          "colorscale": {
           "diverging": [
            [
             0,
             "#8e0152"
            ],
            [
             0.1,
             "#c51b7d"
            ],
            [
             0.2,
             "#de77ae"
            ],
            [
             0.3,
             "#f1b6da"
            ],
            [
             0.4,
             "#fde0ef"
            ],
            [
             0.5,
             "#f7f7f7"
            ],
            [
             0.6,
             "#e6f5d0"
            ],
            [
             0.7,
             "#b8e186"
            ],
            [
             0.8,
             "#7fbc41"
            ],
            [
             0.9,
             "#4d9221"
            ],
            [
             1,
             "#276419"
            ]
           ],
           "sequential": [
            [
             0,
             "#0d0887"
            ],
            [
             0.1111111111111111,
             "#46039f"
            ],
            [
             0.2222222222222222,
             "#7201a8"
            ],
            [
             0.3333333333333333,
             "#9c179e"
            ],
            [
             0.4444444444444444,
             "#bd3786"
            ],
            [
             0.5555555555555556,
             "#d8576b"
            ],
            [
             0.6666666666666666,
             "#ed7953"
            ],
            [
             0.7777777777777778,
             "#fb9f3a"
            ],
            [
             0.8888888888888888,
             "#fdca26"
            ],
            [
             1,
             "#f0f921"
            ]
           ],
           "sequentialminus": [
            [
             0,
             "#0d0887"
            ],
            [
             0.1111111111111111,
             "#46039f"
            ],
            [
             0.2222222222222222,
             "#7201a8"
            ],
            [
             0.3333333333333333,
             "#9c179e"
            ],
            [
             0.4444444444444444,
             "#bd3786"
            ],
            [
             0.5555555555555556,
             "#d8576b"
            ],
            [
             0.6666666666666666,
             "#ed7953"
            ],
            [
             0.7777777777777778,
             "#fb9f3a"
            ],
            [
             0.8888888888888888,
             "#fdca26"
            ],
            [
             1,
             "#f0f921"
            ]
           ]
          },
          "colorway": [
           "#636efa",
           "#EF553B",
           "#00cc96",
           "#ab63fa",
           "#FFA15A",
           "#19d3f3",
           "#FF6692",
           "#B6E880",
           "#FF97FF",
           "#FECB52"
          ],
          "font": {
           "color": "#2a3f5f"
          },
          "geo": {
           "bgcolor": "white",
           "lakecolor": "white",
           "landcolor": "white",
           "showlakes": true,
           "showland": true,
           "subunitcolor": "#C8D4E3"
          },
          "hoverlabel": {
           "align": "left"
          },
          "hovermode": "closest",
          "mapbox": {
           "style": "light"
          },
          "paper_bgcolor": "white",
          "plot_bgcolor": "white",
          "polar": {
           "angularaxis": {
            "gridcolor": "#EBF0F8",
            "linecolor": "#EBF0F8",
            "ticks": ""
           },
           "bgcolor": "white",
           "radialaxis": {
            "gridcolor": "#EBF0F8",
            "linecolor": "#EBF0F8",
            "ticks": ""
           }
          },
          "scene": {
           "xaxis": {
            "backgroundcolor": "white",
            "gridcolor": "#DFE8F3",
            "gridwidth": 2,
            "linecolor": "#EBF0F8",
            "showbackground": true,
            "ticks": "",
            "zerolinecolor": "#EBF0F8"
           },
           "yaxis": {
            "backgroundcolor": "white",
            "gridcolor": "#DFE8F3",
            "gridwidth": 2,
            "linecolor": "#EBF0F8",
            "showbackground": true,
            "ticks": "",
            "zerolinecolor": "#EBF0F8"
           },
           "zaxis": {
            "backgroundcolor": "white",
            "gridcolor": "#DFE8F3",
            "gridwidth": 2,
            "linecolor": "#EBF0F8",
            "showbackground": true,
            "ticks": "",
            "zerolinecolor": "#EBF0F8"
           }
          },
          "shapedefaults": {
           "line": {
            "color": "#2a3f5f"
           }
          },
          "ternary": {
           "aaxis": {
            "gridcolor": "#DFE8F3",
            "linecolor": "#A2B1C6",
            "ticks": ""
           },
           "baxis": {
            "gridcolor": "#DFE8F3",
            "linecolor": "#A2B1C6",
            "ticks": ""
           },
           "bgcolor": "white",
           "caxis": {
            "gridcolor": "#DFE8F3",
            "linecolor": "#A2B1C6",
            "ticks": ""
           }
          },
          "title": {
           "x": 0.05
          },
          "xaxis": {
           "automargin": true,
           "gridcolor": "#EBF0F8",
           "linecolor": "#EBF0F8",
           "ticks": "",
           "title": {
            "standoff": 15
           },
           "zerolinecolor": "#EBF0F8",
           "zerolinewidth": 2
          },
          "yaxis": {
           "automargin": true,
           "gridcolor": "#EBF0F8",
           "linecolor": "#EBF0F8",
           "ticks": "",
           "title": {
            "standoff": 15
           },
           "zerolinecolor": "#EBF0F8",
           "zerolinewidth": 2
          }
         }
        },
        "title": {
         "text": "Electricity generation in ON by plant type",
         "x": 0.5,
         "xanchor": "center",
         "y": 0.97,
         "yanchor": "top"
        },
        "width": 1200,
        "xaxis": {
         "anchor": "y",
         "domain": [
          0,
          0.1257142857142857
         ],
         "title": {
          "text": ""
         }
        },
        "xaxis2": {
         "anchor": "y2",
         "domain": [
          0.14571428571428569,
          0.27142857142857135
         ],
         "matches": "x",
         "title": {
          "text": ""
         }
        },
        "xaxis3": {
         "anchor": "y3",
         "domain": [
          0.29142857142857137,
          0.41714285714285704
         ],
         "matches": "x",
         "title": {
          "text": ""
         }
        },
        "xaxis4": {
         "anchor": "y4",
         "domain": [
          0.4371428571428571,
          0.5628571428571428
         ],
         "matches": "x",
         "title": {
          "text": ""
         }
        },
        "xaxis5": {
         "anchor": "y5",
         "domain": [
          0.5828571428571427,
          0.7085714285714284
         ],
         "matches": "x",
         "title": {
          "text": ""
         }
        },
        "xaxis6": {
         "anchor": "y6",
         "domain": [
          0.7285714285714284,
          0.8542857142857141
         ],
         "matches": "x",
         "title": {
          "text": ""
         }
        },
        "xaxis7": {
         "anchor": "y7",
         "domain": [
          0.8742857142857142,
          0.9999999999999999
         ],
         "matches": "x",
         "title": {
          "text": ""
         }
        },
        "yaxis": {
         "anchor": "x",
         "domain": [
          0,
          1
         ],
         "dtick": 200,
         "title": {
          "standoff": 0,
          "text": "Generation (PJ)"
         }
        },
        "yaxis2": {
         "anchor": "x2",
         "domain": [
          0,
          1
         ],
         "matches": "y",
         "showticklabels": false
        },
        "yaxis3": {
         "anchor": "x3",
         "domain": [
          0,
          1
         ],
         "matches": "y",
         "showticklabels": false
        },
        "yaxis4": {
         "anchor": "x4",
         "domain": [
          0,
          1
         ],
         "matches": "y",
         "showticklabels": false
        },
        "yaxis5": {
         "anchor": "x5",
         "domain": [
          0,
          1
         ],
         "matches": "y",
         "showticklabels": false
        },
        "yaxis6": {
         "anchor": "x6",
         "domain": [
          0,
          1
         ],
         "matches": "y",
         "showticklabels": false
        },
        "yaxis7": {
         "anchor": "x7",
         "domain": [
          0,
          1
         ],
         "matches": "y",
         "showticklabels": false
        }
       }
      }
     },
     "metadata": {},
     "output_type": "display_data"
    }
   ],
   "source": [
    "bau23_gen['Generation (PJ)'] = bau23_gen['Generation (GWh)'] * 0.0036\n",
    "bau23_fig = bau23_gen[['Period', 'Plant Type', 'Generation (PJ)']].copy()\n",
    "bau23_fig['Plant Type'] = bau23_fig['Plant Type'].replace({'Hydro / Wave / Tidal': 'Hydro', 'Biomass / Geothermal': 'Biomass', 'Uranium': 'Nuclear'})\n",
    "ref_fig = ref_elcact[ref_elcact['Plant Type'] != 'Other'].groupby(['Period', 'Plant Type'], as_index=False).sum('Generation (PJ)')\n",
    "vanilla_fig = vanilla_elcact[vanilla_elcact['Plant Type'] != 'Other'].groupby(['Period', 'Plant Type'], as_index=False).sum('Generation (PJ)')\n",
    "\n",
    "gtech23_ref_gen['Generation (PJ)'] = gtech23_ref_gen['Generation (TWh)'] * 3.6\n",
    "gtech23_fig = gtech23_ref_gen.copy()\n",
    "gtech23_fig['Period'] = gtech23_fig['Period'].astype(str)\n",
    "\n",
    "gtech23_fig['Source'] = 'gTech-IESD'\n",
    "bau23_fig['Source'] = 'CEF2023'\n",
    "ref_fig['Source'] = 'CANOE (ref)'\n",
    "vanilla_fig['Source'] = 'CANOE (vanilla)'\n",
    "\n",
    "fig_df = pd.concat([vanilla_fig[['Period', 'Plant Type', 'Generation (PJ)', 'Source']], ref_fig[['Period', 'Plant Type', 'Generation (PJ)', 'Source']], bau23_fig[['Period', 'Plant Type', 'Generation (PJ)', 'Source']], gtech23_fig[['Period', 'Plant Type', 'Generation (PJ)', 'Source']]])\n",
    "\n",
    "fig = px.bar(fig_df, \n",
    "             x='Source', \n",
    "             y='Generation (PJ)', \n",
    "             color='Plant Type', \n",
    "             barmode='stack', \n",
    "             facet_col='Period',\n",
    "             facet_col_spacing=2E-2,\n",
    "             template='plotly_white',\n",
    "             color_discrete_sequence=px.colors.qualitative.G10[:7] + px.colors.qualitative.G10[8:],\n",
    "             text_auto='.1f',\n",
    "             width=1200, height=650,\n",
    "             )\n",
    "\n",
    "fig.update_layout(title=dict(\n",
    "        text='Electricity generation in ON by plant type',\n",
    "        x=0.5, \n",
    "        y=0.97,\n",
    "        xanchor='center',\n",
    "        yanchor='top'\n",
    "    ),\n",
    "    xaxis=dict(title='Period'),\n",
    "    yaxis=dict(title='Generation (PJ)',\n",
    "               dtick=200),\n",
    "    yaxis_title_standoff=0,\n",
    "    legend_title_text='',\n",
    "    bargap=0.1,\n",
    "    legend=dict(\n",
    "        orientation='h',  \n",
    "        yanchor='top',\n",
    "        y=1.04,  \n",
    "        xanchor='center',\n",
    "        x=0.5),\n",
    "    font=dict(\n",
    "        # family=\"Open Sans\",\n",
    "        size=14)\n",
    "    )\n",
    "\n",
    "for annotation in fig.layout.annotations:\n",
    "    annotation.text = annotation.text.split('=')[1]\n",
    "    annotation.y = -0.15  \n",
    "    annotation.yanchor = 'top' \n",
    "\n",
    "for axis in fig.layout:\n",
    "    if axis.startswith('xaxis'):\n",
    "        fig.layout[axis].title.text = ''\n",
    "\n",
    "fig.for_each_trace(lambda trace: trace.update(textfont=dict(size=9)))\n",
    "\n",
    "fig.show()"
   ]
  },
  {
   "cell_type": "markdown",
   "metadata": {},
   "source": [
    "# Added capacity"
   ]
  },
  {
   "cell_type": "code",
   "execution_count": 35,
   "metadata": {},
   "outputs": [],
   "source": [
    "# ref_newcap_elc = ref_newcap[(ref_newcap['Sector'] == 'electricity')].copy()\n",
    "# ref_newcap_elc['Plant Type'] = ref_newcap_elc['Technology'].apply(map_tech_to_plant)"
   ]
  },
  {
   "cell_type": "code",
   "execution_count": 36,
   "metadata": {},
   "outputs": [],
   "source": [
    "ref_elcnewcap.columns = ref_elcnewcap.columns.astype(str)\n",
    "periods = [col for col in ref_elcnewcap.columns if col.isdigit()]\n",
    "params = [col for col in ref_elcnewcap.columns if not col.isdigit()]\n",
    "ref_elcnewcap = pd.melt(ref_elcnewcap, id_vars=params, var_name='Period', value_name='New Capacity', value_vars=periods)\n",
    "\n",
    "ref_elcnewcap['Plant Type'] = ref_elcnewcap['Technology'].apply(map_tech_to_plant)"
   ]
  },
  {
   "cell_type": "code",
   "execution_count": 37,
   "metadata": {},
   "outputs": [
    {
     "data": {
      "application/vnd.plotly.v1+json": {
       "config": {
        "plotlyServerURL": "https://plot.ly"
       },
       "data": [
        {
         "hovertemplate": "Plant Type=Biomass<br>Period=%{x}<br>New Capacity=%{y}<extra></extra>",
         "legendgroup": "Biomass",
         "marker": {
          "color": "#3366CC",
          "pattern": {
           "shape": ""
          }
         },
         "name": "Biomass",
         "orientation": "v",
         "showlegend": true,
         "textfont": {
          "size": 9
         },
         "textposition": "auto",
         "texttemplate": "%{y:.1f}",
         "type": "bar",
         "x": [
          "2021",
          "2025",
          "2030",
          "2035",
          "2040",
          "2045",
          "2050"
         ],
         "xaxis": "x",
         "y": {
          "bdata": "A0MwE1nT5T6Jk5VLGOzmPgHXUHNtkOc+QTPKorFC5z7TBOk2cVPmPgAAAAAAAAAA0LJNgr4E5j4=",
          "dtype": "f8"
         },
         "yaxis": "y"
        },
        {
         "hovertemplate": "Plant Type=Hydro<br>Period=%{x}<br>New Capacity=%{y}<extra></extra>",
         "legendgroup": "Hydro",
         "marker": {
          "color": "#DC3912",
          "pattern": {
           "shape": ""
          }
         },
         "name": "Hydro",
         "orientation": "v",
         "showlegend": true,
         "textfont": {
          "size": 9
         },
         "textposition": "auto",
         "texttemplate": "%{y:.1f}",
         "type": "bar",
         "x": [
          "2021",
          "2025",
          "2030",
          "2035",
          "2040",
          "2045",
          "2050"
         ],
         "xaxis": "x",
         "y": {
          "bdata": "AAAAAAAAAAAAAAAAAAAAAAAAAAAAAAAAAAAAAAAAAAAAAAAAAAAAAAAAAAAAAAAAAAAAAAAAAAA=",
          "dtype": "f8"
         },
         "yaxis": "y"
        },
        {
         "hovertemplate": "Plant Type=Natural Gas<br>Period=%{x}<br>New Capacity=%{y}<extra></extra>",
         "legendgroup": "Natural Gas",
         "marker": {
          "color": "#FF9900",
          "pattern": {
           "shape": ""
          }
         },
         "name": "Natural Gas",
         "orientation": "v",
         "showlegend": true,
         "textfont": {
          "size": 9
         },
         "textposition": "auto",
         "texttemplate": "%{y:.1f}",
         "type": "bar",
         "x": [
          "2021",
          "2025",
          "2030",
          "2035",
          "2040",
          "2045",
          "2050"
         ],
         "xaxis": "x",
         "y": {
          "bdata": "wqlk6tZRL0C61z7+/IQaQGIsGU+DjRpA2Pz1VoiEGkAIfcH/N4QaQI5ETfcXhBpAL/OV7C+EGkA=",
          "dtype": "f8"
         },
         "yaxis": "y"
        },
        {
         "hovertemplate": "Plant Type=Nuclear<br>Period=%{x}<br>New Capacity=%{y}<extra></extra>",
         "legendgroup": "Nuclear",
         "marker": {
          "color": "#109618",
          "pattern": {
           "shape": ""
          }
         },
         "name": "Nuclear",
         "orientation": "v",
         "showlegend": true,
         "textfont": {
          "size": 9
         },
         "textposition": "auto",
         "texttemplate": "%{y:.1f}",
         "type": "bar",
         "x": [
          "2021",
          "2025",
          "2030",
          "2035",
          "2040",
          "2045",
          "2050"
         ],
         "xaxis": "x",
         "y": {
          "bdata": "AAAAAAAAAAAAAAAAAAAAAAAAAAAAAAAAAAAAAAAAAAAAAAAAAAAAAAAAAAAAAAAAAAAAAAAAAAA=",
          "dtype": "f8"
         },
         "yaxis": "y"
        },
        {
         "hovertemplate": "Plant Type=Solar<br>Period=%{x}<br>New Capacity=%{y}<extra></extra>",
         "legendgroup": "Solar",
         "marker": {
          "color": "#990099",
          "pattern": {
           "shape": ""
          }
         },
         "name": "Solar",
         "orientation": "v",
         "showlegend": true,
         "textfont": {
          "size": 9
         },
         "textposition": "auto",
         "texttemplate": "%{y:.1f}",
         "type": "bar",
         "x": [
          "2021",
          "2025",
          "2030",
          "2035",
          "2040",
          "2045",
          "2050"
         ],
         "xaxis": "x",
         "y": {
          "bdata": "Qxmsiu37QD8yUQBMBvZFP1ylbPgSxlk/UJ3GKoovNEAFVSVugfsMQEE4ZVGPH04/CA2ZMdn71T8=",
          "dtype": "f8"
         },
         "yaxis": "y"
        },
        {
         "hovertemplate": "Plant Type=Wind<br>Period=%{x}<br>New Capacity=%{y}<extra></extra>",
         "legendgroup": "Wind",
         "marker": {
          "color": "#0099C6",
          "pattern": {
           "shape": ""
          }
         },
         "name": "Wind",
         "orientation": "v",
         "showlegend": true,
         "textfont": {
          "size": 9
         },
         "textposition": "auto",
         "texttemplate": "%{y:.1f}",
         "type": "bar",
         "x": [
          "2021",
          "2025",
          "2030",
          "2035",
          "2040",
          "2045",
          "2050"
         ],
         "xaxis": "x",
         "y": {
          "bdata": "4gDSpU3gYT/9sFvMQMgYQBPkXAQBRi9AGzm1KX3Q5j/SK+Yjt28XQFvEsImUL1E/cJOtP4giXz8=",
          "dtype": "f8"
         },
         "yaxis": "y"
        }
       ],
       "layout": {
        "bargap": 0.2,
        "barmode": "stack",
        "font": {
         "size": 14
        },
        "height": 650,
        "legend": {
         "orientation": "h",
         "title": {
          "text": ""
         },
         "tracegroupgap": 0,
         "x": 0.5,
         "xanchor": "center",
         "y": 1.04,
         "yanchor": "top"
        },
        "margin": {
         "t": 60
        },
        "template": {
         "data": {
          "bar": [
           {
            "error_x": {
             "color": "#2a3f5f"
            },
            "error_y": {
             "color": "#2a3f5f"
            },
            "marker": {
             "line": {
              "color": "white",
              "width": 0.5
             },
             "pattern": {
              "fillmode": "overlay",
              "size": 10,
              "solidity": 0.2
             }
            },
            "type": "bar"
           }
          ],
          "barpolar": [
           {
            "marker": {
             "line": {
              "color": "white",
              "width": 0.5
             },
             "pattern": {
              "fillmode": "overlay",
              "size": 10,
              "solidity": 0.2
             }
            },
            "type": "barpolar"
           }
          ],
          "carpet": [
           {
            "aaxis": {
             "endlinecolor": "#2a3f5f",
             "gridcolor": "#C8D4E3",
             "linecolor": "#C8D4E3",
             "minorgridcolor": "#C8D4E3",
             "startlinecolor": "#2a3f5f"
            },
            "baxis": {
             "endlinecolor": "#2a3f5f",
             "gridcolor": "#C8D4E3",
             "linecolor": "#C8D4E3",
             "minorgridcolor": "#C8D4E3",
             "startlinecolor": "#2a3f5f"
            },
            "type": "carpet"
           }
          ],
          "choropleth": [
           {
            "colorbar": {
             "outlinewidth": 0,
             "ticks": ""
            },
            "type": "choropleth"
           }
          ],
          "contour": [
           {
            "colorbar": {
             "outlinewidth": 0,
             "ticks": ""
            },
            "colorscale": [
             [
              0,
              "#0d0887"
             ],
             [
              0.1111111111111111,
              "#46039f"
             ],
             [
              0.2222222222222222,
              "#7201a8"
             ],
             [
              0.3333333333333333,
              "#9c179e"
             ],
             [
              0.4444444444444444,
              "#bd3786"
             ],
             [
              0.5555555555555556,
              "#d8576b"
             ],
             [
              0.6666666666666666,
              "#ed7953"
             ],
             [
              0.7777777777777778,
              "#fb9f3a"
             ],
             [
              0.8888888888888888,
              "#fdca26"
             ],
             [
              1,
              "#f0f921"
             ]
            ],
            "type": "contour"
           }
          ],
          "contourcarpet": [
           {
            "colorbar": {
             "outlinewidth": 0,
             "ticks": ""
            },
            "type": "contourcarpet"
           }
          ],
          "heatmap": [
           {
            "colorbar": {
             "outlinewidth": 0,
             "ticks": ""
            },
            "colorscale": [
             [
              0,
              "#0d0887"
             ],
             [
              0.1111111111111111,
              "#46039f"
             ],
             [
              0.2222222222222222,
              "#7201a8"
             ],
             [
              0.3333333333333333,
              "#9c179e"
             ],
             [
              0.4444444444444444,
              "#bd3786"
             ],
             [
              0.5555555555555556,
              "#d8576b"
             ],
             [
              0.6666666666666666,
              "#ed7953"
             ],
             [
              0.7777777777777778,
              "#fb9f3a"
             ],
             [
              0.8888888888888888,
              "#fdca26"
             ],
             [
              1,
              "#f0f921"
             ]
            ],
            "type": "heatmap"
           }
          ],
          "histogram": [
           {
            "marker": {
             "pattern": {
              "fillmode": "overlay",
              "size": 10,
              "solidity": 0.2
             }
            },
            "type": "histogram"
           }
          ],
          "histogram2d": [
           {
            "colorbar": {
             "outlinewidth": 0,
             "ticks": ""
            },
            "colorscale": [
             [
              0,
              "#0d0887"
             ],
             [
              0.1111111111111111,
              "#46039f"
             ],
             [
              0.2222222222222222,
              "#7201a8"
             ],
             [
              0.3333333333333333,
              "#9c179e"
             ],
             [
              0.4444444444444444,
              "#bd3786"
             ],
             [
              0.5555555555555556,
              "#d8576b"
             ],
             [
              0.6666666666666666,
              "#ed7953"
             ],
             [
              0.7777777777777778,
              "#fb9f3a"
             ],
             [
              0.8888888888888888,
              "#fdca26"
             ],
             [
              1,
              "#f0f921"
             ]
            ],
            "type": "histogram2d"
           }
          ],
          "histogram2dcontour": [
           {
            "colorbar": {
             "outlinewidth": 0,
             "ticks": ""
            },
            "colorscale": [
             [
              0,
              "#0d0887"
             ],
             [
              0.1111111111111111,
              "#46039f"
             ],
             [
              0.2222222222222222,
              "#7201a8"
             ],
             [
              0.3333333333333333,
              "#9c179e"
             ],
             [
              0.4444444444444444,
              "#bd3786"
             ],
             [
              0.5555555555555556,
              "#d8576b"
             ],
             [
              0.6666666666666666,
              "#ed7953"
             ],
             [
              0.7777777777777778,
              "#fb9f3a"
             ],
             [
              0.8888888888888888,
              "#fdca26"
             ],
             [
              1,
              "#f0f921"
             ]
            ],
            "type": "histogram2dcontour"
           }
          ],
          "mesh3d": [
           {
            "colorbar": {
             "outlinewidth": 0,
             "ticks": ""
            },
            "type": "mesh3d"
           }
          ],
          "parcoords": [
           {
            "line": {
             "colorbar": {
              "outlinewidth": 0,
              "ticks": ""
             }
            },
            "type": "parcoords"
           }
          ],
          "pie": [
           {
            "automargin": true,
            "type": "pie"
           }
          ],
          "scatter": [
           {
            "fillpattern": {
             "fillmode": "overlay",
             "size": 10,
             "solidity": 0.2
            },
            "type": "scatter"
           }
          ],
          "scatter3d": [
           {
            "line": {
             "colorbar": {
              "outlinewidth": 0,
              "ticks": ""
             }
            },
            "marker": {
             "colorbar": {
              "outlinewidth": 0,
              "ticks": ""
             }
            },
            "type": "scatter3d"
           }
          ],
          "scattercarpet": [
           {
            "marker": {
             "colorbar": {
              "outlinewidth": 0,
              "ticks": ""
             }
            },
            "type": "scattercarpet"
           }
          ],
          "scattergeo": [
           {
            "marker": {
             "colorbar": {
              "outlinewidth": 0,
              "ticks": ""
             }
            },
            "type": "scattergeo"
           }
          ],
          "scattergl": [
           {
            "marker": {
             "colorbar": {
              "outlinewidth": 0,
              "ticks": ""
             }
            },
            "type": "scattergl"
           }
          ],
          "scattermap": [
           {
            "marker": {
             "colorbar": {
              "outlinewidth": 0,
              "ticks": ""
             }
            },
            "type": "scattermap"
           }
          ],
          "scattermapbox": [
           {
            "marker": {
             "colorbar": {
              "outlinewidth": 0,
              "ticks": ""
             }
            },
            "type": "scattermapbox"
           }
          ],
          "scatterpolar": [
           {
            "marker": {
             "colorbar": {
              "outlinewidth": 0,
              "ticks": ""
             }
            },
            "type": "scatterpolar"
           }
          ],
          "scatterpolargl": [
           {
            "marker": {
             "colorbar": {
              "outlinewidth": 0,
              "ticks": ""
             }
            },
            "type": "scatterpolargl"
           }
          ],
          "scatterternary": [
           {
            "marker": {
             "colorbar": {
              "outlinewidth": 0,
              "ticks": ""
             }
            },
            "type": "scatterternary"
           }
          ],
          "surface": [
           {
            "colorbar": {
             "outlinewidth": 0,
             "ticks": ""
            },
            "colorscale": [
             [
              0,
              "#0d0887"
             ],
             [
              0.1111111111111111,
              "#46039f"
             ],
             [
              0.2222222222222222,
              "#7201a8"
             ],
             [
              0.3333333333333333,
              "#9c179e"
             ],
             [
              0.4444444444444444,
              "#bd3786"
             ],
             [
              0.5555555555555556,
              "#d8576b"
             ],
             [
              0.6666666666666666,
              "#ed7953"
             ],
             [
              0.7777777777777778,
              "#fb9f3a"
             ],
             [
              0.8888888888888888,
              "#fdca26"
             ],
             [
              1,
              "#f0f921"
             ]
            ],
            "type": "surface"
           }
          ],
          "table": [
           {
            "cells": {
             "fill": {
              "color": "#EBF0F8"
             },
             "line": {
              "color": "white"
             }
            },
            "header": {
             "fill": {
              "color": "#C8D4E3"
             },
             "line": {
              "color": "white"
             }
            },
            "type": "table"
           }
          ]
         },
         "layout": {
          "annotationdefaults": {
           "arrowcolor": "#2a3f5f",
           "arrowhead": 0,
           "arrowwidth": 1
          },
          "autotypenumbers": "strict",
          "coloraxis": {
           "colorbar": {
            "outlinewidth": 0,
            "ticks": ""
           }
          },
          "colorscale": {
           "diverging": [
            [
             0,
             "#8e0152"
            ],
            [
             0.1,
             "#c51b7d"
            ],
            [
             0.2,
             "#de77ae"
            ],
            [
             0.3,
             "#f1b6da"
            ],
            [
             0.4,
             "#fde0ef"
            ],
            [
             0.5,
             "#f7f7f7"
            ],
            [
             0.6,
             "#e6f5d0"
            ],
            [
             0.7,
             "#b8e186"
            ],
            [
             0.8,
             "#7fbc41"
            ],
            [
             0.9,
             "#4d9221"
            ],
            [
             1,
             "#276419"
            ]
           ],
           "sequential": [
            [
             0,
             "#0d0887"
            ],
            [
             0.1111111111111111,
             "#46039f"
            ],
            [
             0.2222222222222222,
             "#7201a8"
            ],
            [
             0.3333333333333333,
             "#9c179e"
            ],
            [
             0.4444444444444444,
             "#bd3786"
            ],
            [
             0.5555555555555556,
             "#d8576b"
            ],
            [
             0.6666666666666666,
             "#ed7953"
            ],
            [
             0.7777777777777778,
             "#fb9f3a"
            ],
            [
             0.8888888888888888,
             "#fdca26"
            ],
            [
             1,
             "#f0f921"
            ]
           ],
           "sequentialminus": [
            [
             0,
             "#0d0887"
            ],
            [
             0.1111111111111111,
             "#46039f"
            ],
            [
             0.2222222222222222,
             "#7201a8"
            ],
            [
             0.3333333333333333,
             "#9c179e"
            ],
            [
             0.4444444444444444,
             "#bd3786"
            ],
            [
             0.5555555555555556,
             "#d8576b"
            ],
            [
             0.6666666666666666,
             "#ed7953"
            ],
            [
             0.7777777777777778,
             "#fb9f3a"
            ],
            [
             0.8888888888888888,
             "#fdca26"
            ],
            [
             1,
             "#f0f921"
            ]
           ]
          },
          "colorway": [
           "#636efa",
           "#EF553B",
           "#00cc96",
           "#ab63fa",
           "#FFA15A",
           "#19d3f3",
           "#FF6692",
           "#B6E880",
           "#FF97FF",
           "#FECB52"
          ],
          "font": {
           "color": "#2a3f5f"
          },
          "geo": {
           "bgcolor": "white",
           "lakecolor": "white",
           "landcolor": "white",
           "showlakes": true,
           "showland": true,
           "subunitcolor": "#C8D4E3"
          },
          "hoverlabel": {
           "align": "left"
          },
          "hovermode": "closest",
          "mapbox": {
           "style": "light"
          },
          "paper_bgcolor": "white",
          "plot_bgcolor": "white",
          "polar": {
           "angularaxis": {
            "gridcolor": "#EBF0F8",
            "linecolor": "#EBF0F8",
            "ticks": ""
           },
           "bgcolor": "white",
           "radialaxis": {
            "gridcolor": "#EBF0F8",
            "linecolor": "#EBF0F8",
            "ticks": ""
           }
          },
          "scene": {
           "xaxis": {
            "backgroundcolor": "white",
            "gridcolor": "#DFE8F3",
            "gridwidth": 2,
            "linecolor": "#EBF0F8",
            "showbackground": true,
            "ticks": "",
            "zerolinecolor": "#EBF0F8"
           },
           "yaxis": {
            "backgroundcolor": "white",
            "gridcolor": "#DFE8F3",
            "gridwidth": 2,
            "linecolor": "#EBF0F8",
            "showbackground": true,
            "ticks": "",
            "zerolinecolor": "#EBF0F8"
           },
           "zaxis": {
            "backgroundcolor": "white",
            "gridcolor": "#DFE8F3",
            "gridwidth": 2,
            "linecolor": "#EBF0F8",
            "showbackground": true,
            "ticks": "",
            "zerolinecolor": "#EBF0F8"
           }
          },
          "shapedefaults": {
           "line": {
            "color": "#2a3f5f"
           }
          },
          "ternary": {
           "aaxis": {
            "gridcolor": "#DFE8F3",
            "linecolor": "#A2B1C6",
            "ticks": ""
           },
           "baxis": {
            "gridcolor": "#DFE8F3",
            "linecolor": "#A2B1C6",
            "ticks": ""
           },
           "bgcolor": "white",
           "caxis": {
            "gridcolor": "#DFE8F3",
            "linecolor": "#A2B1C6",
            "ticks": ""
           }
          },
          "title": {
           "x": 0.05
          },
          "xaxis": {
           "automargin": true,
           "gridcolor": "#EBF0F8",
           "linecolor": "#EBF0F8",
           "ticks": "",
           "title": {
            "standoff": 15
           },
           "zerolinecolor": "#EBF0F8",
           "zerolinewidth": 2
          },
          "yaxis": {
           "automargin": true,
           "gridcolor": "#EBF0F8",
           "linecolor": "#EBF0F8",
           "ticks": "",
           "title": {
            "standoff": 15
           },
           "zerolinecolor": "#EBF0F8",
           "zerolinewidth": 2
          }
         }
        },
        "title": {
         "text": "Electricity capacity expansion in ON by plant type",
         "x": 0.5,
         "xanchor": "center",
         "y": 0.97,
         "yanchor": "top"
        },
        "width": 1200,
        "xaxis": {
         "anchor": "y",
         "domain": [
          0,
          1
         ],
         "title": {
          "text": ""
         }
        },
        "yaxis": {
         "anchor": "x",
         "domain": [
          0,
          1
         ],
         "dtick": 5,
         "title": {
          "standoff": 0,
          "text": "New Capacity (GW)"
         }
        }
       }
      }
     },
     "metadata": {},
     "output_type": "display_data"
    }
   ],
   "source": [
    "ref_fig = ref_elcnewcap[ref_elcnewcap['Plant Type'] != 'Other'].groupby(['Period', 'Plant Type'], as_index=False).sum('New Capacity')\n",
    "ref_fig['Period'] = ref_fig['Period'].astype(str)\n",
    "\n",
    "fig = px.bar(ref_fig, \n",
    "             x='Period', \n",
    "             y='New Capacity', \n",
    "             color='Plant Type', \n",
    "             barmode='stack', \n",
    "             template='plotly_white',\n",
    "             color_discrete_sequence=px.colors.qualitative.G10[:7] + px.colors.qualitative.G10[8:],\n",
    "             text_auto='.1f',\n",
    "             width=1200, height=650,\n",
    "             )\n",
    "\n",
    "fig.update_layout(title=dict(\n",
    "        text='Electricity capacity expansion in ON by plant type',\n",
    "        x=0.5, \n",
    "        y=0.97,\n",
    "        xanchor='center',\n",
    "        yanchor='top'\n",
    "    ),\n",
    "    xaxis=dict(title='Period'),\n",
    "    yaxis=dict(title='New Capacity (GW)',\n",
    "               dtick=5),\n",
    "    yaxis_title_standoff=0,\n",
    "    legend_title_text='',\n",
    "    bargap=0.2,\n",
    "    legend=dict(\n",
    "        orientation='h',  \n",
    "        yanchor='top',\n",
    "        y=1.04,  \n",
    "        xanchor='center',\n",
    "        x=0.5),\n",
    "    font=dict(\n",
    "        # family=\"Open Sans\",\n",
    "        size=14)\n",
    "    )\n",
    "\n",
    "for annotation in fig.layout.annotations:\n",
    "    annotation.text = annotation.text.split('=')[1]\n",
    "    annotation.y = -0.1  \n",
    "    annotation.yanchor = 'top' \n",
    "\n",
    "for axis in fig.layout:\n",
    "    if axis.startswith('xaxis'):\n",
    "        fig.layout[axis].title.text = ''\n",
    "\n",
    "fig.for_each_trace(lambda trace: trace.update(textfont=dict(size=9)))\n",
    "\n",
    "fig.show()"
   ]
  },
  {
   "cell_type": "markdown",
   "metadata": {},
   "source": [
    "# CANOE vs gTech-IESD - GHG emissions"
   ]
  },
  {
   "cell_type": "code",
   "execution_count": 38,
   "metadata": {},
   "outputs": [],
   "source": [
    "ref_ghg.columns = ref_ghg.columns.astype(str)\n",
    "periods = [col for col in ref_ghg.columns if col.isdigit()]\n",
    "params = [col for col in ref_ghg.columns if not col.isdigit()]\n",
    "ref_ghg = pd.melt(ref_ghg, id_vars=params, var_name='Period', value_name='Total GHG Emissions', value_vars=periods)"
   ]
  },
  {
   "cell_type": "code",
   "execution_count": 39,
   "metadata": {},
   "outputs": [
    {
     "name": "stderr",
     "output_type": "stream",
     "text": [
      "C:\\Users\\rashi\\AppData\\Local\\Temp\\ipykernel_30156\\3967330132.py:1: FutureWarning:\n",
      "\n",
      "A value is trying to be set on a copy of a DataFrame or Series through chained assignment using an inplace method.\n",
      "The behavior will change in pandas 3.0. This inplace method will never work because the intermediate object on which we are setting values always behaves as a copy.\n",
      "\n",
      "For example, when doing 'df[col].method(value, inplace=True)', try using 'df.method({col: value}, inplace=True)' or df[col] = df[col].method(value) instead, to perform the operation inplace on the original object.\n",
      "\n",
      "\n",
      "\n"
     ]
    }
   ],
   "source": [
    "gtech23_ref_ghg['Sector'].replace({'agriculture & waste': 'AFOLU', 'commercial buildings': 'Commercial', 'residential buildings': 'Residential', 'land use & forestry': 'AFOLU',\n",
    "                                      'industry': 'Industrial', 'oil and gas': 'Oil & Gas', 'direct air capture': 'Industrial', 'utilities': 'Utilities',\n",
    "                                      'light-duty transport': 'Transportation', 'medium & heavy-duty transport': 'Transportation', 'other transport': 'Transportation'}, inplace=True)\n",
    "gtech23_ref_ghg = gtech23_ref_ghg.groupby(['Period', 'Sector'], as_index=False).sum()"
   ]
  },
  {
   "cell_type": "code",
   "execution_count": 40,
   "metadata": {},
   "outputs": [
    {
     "data": {
      "application/vnd.plotly.v1+json": {
       "config": {
        "plotlyServerURL": "https://plot.ly"
       },
       "data": [
        {
         "fillpattern": {
          "shape": ""
         },
         "hovertemplate": "Sector=Transportation<br>Source=CANOE<br>Period=%{x}<br>Total GHG Emissions (Mt CO2e)=%{y}<extra></extra>",
         "legendgroup": "Transportation",
         "line": {
          "color": "#636efa"
         },
         "marker": {
          "symbol": "circle"
         },
         "mode": "lines",
         "name": "Transportation",
         "orientation": "v",
         "showlegend": true,
         "stackgroup": "1",
         "type": "scatter",
         "x": [
          "2021",
          "2025",
          "2030",
          "2035",
          "2040",
          "2045",
          "2050"
         ],
         "xaxis": "x",
         "y": {
          "bdata": "8ayD5MtOVEAu3fu34tpWQBDCSfJRuVNARr3oEviET0DzAXTMnadPQHV0d2El1E5AC4Em6KErTkA=",
          "dtype": "f8"
         },
         "yaxis": "y"
        },
        {
         "fillpattern": {
          "shape": ""
         },
         "hovertemplate": "Sector=Transportation<br>Source=gTech-IESD<br>Period=%{x}<br>Total GHG Emissions (Mt CO2e)=%{y}<extra></extra>",
         "legendgroup": "Transportation",
         "line": {
          "color": "#636efa"
         },
         "marker": {
          "symbol": "circle"
         },
         "mode": "lines",
         "name": "Transportation",
         "orientation": "v",
         "showlegend": false,
         "stackgroup": "1",
         "type": "scatter",
         "x": [
          "2021",
          "2025",
          "2030",
          "2035",
          "2040",
          "2045",
          "2050"
         ],
         "xaxis": "x2",
         "y": {
          "bdata": "6c1NQLiqTUBRddRAD2FOQGpuHc2lwUtAyd+IsfYRSkCAUhDjBUJIQBVtf0juDEdAQ1ugbQ0sR0A=",
          "dtype": "f8"
         },
         "yaxis": "y2"
        },
        {
         "fillpattern": {
          "shape": ""
         },
         "hovertemplate": "Sector=Commercial<br>Source=CANOE<br>Period=%{x}<br>Total GHG Emissions (Mt CO2e)=%{y}<extra></extra>",
         "legendgroup": "Commercial",
         "line": {
          "color": "#EF553B"
         },
         "marker": {
          "symbol": "circle"
         },
         "mode": "lines",
         "name": "Commercial",
         "orientation": "v",
         "showlegend": true,
         "stackgroup": "1",
         "type": "scatter",
         "x": [
          "2021",
          "2025",
          "2030",
          "2035",
          "2040",
          "2045",
          "2050"
         ],
         "xaxis": "x",
         "y": {
          "bdata": "WXWVJmtxMkAkXsD2rYcyQAngo10tjzJAMkI6wEhAMkCDxAiZozkyQPsIRjFDVTNAQSRvyLFTNEA=",
          "dtype": "f8"
         },
         "yaxis": "y"
        },
        {
         "fillpattern": {
          "shape": ""
         },
         "hovertemplate": "Sector=Commercial<br>Source=gTech-IESD<br>Period=%{x}<br>Total GHG Emissions (Mt CO2e)=%{y}<extra></extra>",
         "legendgroup": "Commercial",
         "line": {
          "color": "#EF553B"
         },
         "marker": {
          "symbol": "circle"
         },
         "mode": "lines",
         "name": "Commercial",
         "orientation": "v",
         "showlegend": false,
         "stackgroup": "1",
         "type": "scatter",
         "x": [
          "2021",
          "2025",
          "2030",
          "2035",
          "2040",
          "2045",
          "2050"
         ],
         "xaxis": "x2",
         "y": {
          "bdata": "8bHkv3q/LUCvxG5lqggrQEy9doJgrihAMsnIWdgjKEBTpXc7DLkoQC9bX+KXuylAsud8wiPfKkA=",
          "dtype": "f8"
         },
         "yaxis": "y2"
        },
        {
         "fillpattern": {
          "shape": ""
         },
         "hovertemplate": "Sector=Electricity<br>Source=CANOE<br>Period=%{x}<br>Total GHG Emissions (Mt CO2e)=%{y}<extra></extra>",
         "legendgroup": "Electricity",
         "line": {
          "color": "#00cc96"
         },
         "marker": {
          "symbol": "circle"
         },
         "mode": "lines",
         "name": "Electricity",
         "orientation": "v",
         "showlegend": true,
         "stackgroup": "1",
         "type": "scatter",
         "x": [
          "2021",
          "2025",
          "2030",
          "2035",
          "2040",
          "2045",
          "2050"
         ],
         "xaxis": "x",
         "y": {
          "bdata": "1S7tB4FgFkDBsPGGDxwNQDbLAdFKbxJA2PHZZ2xpBUDxcEE25jARQBSRNl5ZdCZAGlqqxHvzKUA=",
          "dtype": "f8"
         },
         "yaxis": "y"
        },
        {
         "fillpattern": {
          "shape": ""
         },
         "hovertemplate": "Sector=Industrial<br>Source=CANOE<br>Period=%{x}<br>Total GHG Emissions (Mt CO2e)=%{y}<extra></extra>",
         "legendgroup": "Industrial",
         "line": {
          "color": "#ab63fa"
         },
         "marker": {
          "symbol": "circle"
         },
         "mode": "lines",
         "name": "Industrial",
         "orientation": "v",
         "showlegend": true,
         "stackgroup": "1",
         "type": "scatter",
         "x": [
          "2021",
          "2025",
          "2030",
          "2035",
          "2040",
          "2045",
          "2050"
         ],
         "xaxis": "x",
         "y": {
          "bdata": "TD8hhkYAOECi9of+ZzQ5QGnLpc3FjDpAkEiJtMOiO0BxewkB05o8QCXIMmZwej1A/P5YdOxCPkA=",
          "dtype": "f8"
         },
         "yaxis": "y"
        },
        {
         "fillpattern": {
          "shape": ""
         },
         "hovertemplate": "Sector=Industrial<br>Source=gTech-IESD<br>Period=%{x}<br>Total GHG Emissions (Mt CO2e)=%{y}<extra></extra>",
         "legendgroup": "Industrial",
         "line": {
          "color": "#ab63fa"
         },
         "marker": {
          "symbol": "circle"
         },
         "mode": "lines",
         "name": "Industrial",
         "orientation": "v",
         "showlegend": false,
         "stackgroup": "1",
         "type": "scatter",
         "x": [
          "2021",
          "2025",
          "2030",
          "2035",
          "2040",
          "2045",
          "2050"
         ],
         "xaxis": "x2",
         "y": {
          "bdata": "iaNwEgrwQkDXXMF4fvNCQIuBXH+e60BAR+skMl7ZQUBbVR/dwu1CQAl9PDZ68ENASB/Kgk8VRUA=",
          "dtype": "f8"
         },
         "yaxis": "y2"
        },
        {
         "fillpattern": {
          "shape": ""
         },
         "hovertemplate": "Sector=Residential<br>Source=CANOE<br>Period=%{x}<br>Total GHG Emissions (Mt CO2e)=%{y}<extra></extra>",
         "legendgroup": "Residential",
         "line": {
          "color": "#FFA15A"
         },
         "marker": {
          "symbol": "circle"
         },
         "mode": "lines",
         "name": "Residential",
         "orientation": "v",
         "showlegend": true,
         "stackgroup": "1",
         "type": "scatter",
         "x": [
          "2021",
          "2025",
          "2030",
          "2035",
          "2040",
          "2045",
          "2050"
         ],
         "xaxis": "x",
         "y": {
          "bdata": "fAL7+Z2NMED3iE7jDhcwQFAPweEYtipAo6TFBRYAJEBXkdX/3u4jQGhbXvZu1jBAREp3AF0gNUA=",
          "dtype": "f8"
         },
         "yaxis": "y"
        },
        {
         "fillpattern": {
          "shape": ""
         },
         "hovertemplate": "Sector=Residential<br>Source=gTech-IESD<br>Period=%{x}<br>Total GHG Emissions (Mt CO2e)=%{y}<extra></extra>",
         "legendgroup": "Residential",
         "line": {
          "color": "#FFA15A"
         },
         "marker": {
          "symbol": "circle"
         },
         "mode": "lines",
         "name": "Residential",
         "orientation": "v",
         "showlegend": false,
         "stackgroup": "1",
         "type": "scatter",
         "x": [
          "2021",
          "2025",
          "2030",
          "2035",
          "2040",
          "2045",
          "2050"
         ],
         "xaxis": "x2",
         "y": {
          "bdata": "JvT9S4fSMUC17L22hsowQANtQL5jRDBAdpkvaWtbMEBYZwgJSdQwQLTRMc58izFAYOCgWtBjMkA=",
          "dtype": "f8"
         },
         "yaxis": "y2"
        },
        {
         "fillpattern": {
          "shape": ""
         },
         "hovertemplate": "Sector=Oil & Gas<br>Source=gTech-IESD<br>Period=%{x}<br>Total GHG Emissions (Mt CO2e)=%{y}<extra></extra>",
         "legendgroup": "Oil & Gas",
         "line": {
          "color": "#19d3f3"
         },
         "marker": {
          "symbol": "circle"
         },
         "mode": "lines",
         "name": "Oil & Gas",
         "orientation": "v",
         "showlegend": true,
         "stackgroup": "1",
         "type": "scatter",
         "x": [
          "2021",
          "2025",
          "2030",
          "2035",
          "2040",
          "2045",
          "2050"
         ],
         "xaxis": "x2",
         "y": {
          "bdata": "JAoG/zbmIUCM4yqQhdofQHMELJZ7JiBAxpICo3wbIUC7tIb3wZEgQNHJ29xbeiFAG2wadkCHIkA=",
          "dtype": "f8"
         },
         "yaxis": "y2"
        },
        {
         "fillpattern": {
          "shape": ""
         },
         "hovertemplate": "Sector=Utilities<br>Source=gTech-IESD<br>Period=%{x}<br>Total GHG Emissions (Mt CO2e)=%{y}<extra></extra>",
         "legendgroup": "Utilities",
         "line": {
          "color": "#FF6692"
         },
         "marker": {
          "symbol": "circle"
         },
         "mode": "lines",
         "name": "Utilities",
         "orientation": "v",
         "showlegend": true,
         "stackgroup": "1",
         "type": "scatter",
         "x": [
          "2021",
          "2025",
          "2030",
          "2035",
          "2040",
          "2045",
          "2050"
         ],
         "xaxis": "x2",
         "y": {
          "bdata": "4XCs9Qg4DkCMgRpjzCIEQD2FwdRNDPQ/pS5lVY7l9T/4+ANsp5gAQPfurU0FOg1Atdzg3hGeFEA=",
          "dtype": "f8"
         },
         "yaxis": "y2"
        }
       ],
       "layout": {
        "annotations": [
         {
          "showarrow": false,
          "text": "Source=CANOE",
          "x": 0.2425,
          "xanchor": "center",
          "xref": "paper",
          "y": 1,
          "yanchor": "bottom",
          "yref": "paper"
         },
         {
          "showarrow": false,
          "text": "Source=gTech-IESD",
          "x": 0.7575000000000001,
          "xanchor": "center",
          "xref": "paper",
          "y": 1,
          "yanchor": "bottom",
          "yref": "paper"
         },
         {
          "font": {
           "size": 11
          },
          "showarrow": false,
          "text": "*Upstream emissions are accounted for in each sector, except for Oil & Gas",
          "x": 1,
          "xref": "paper",
          "y": 0.98,
          "yref": "paper"
         }
        ],
        "font": {
         "size": 13
        },
        "height": 600,
        "legend": {
         "orientation": "h",
         "title": {
          "text": ""
         },
         "tracegroupgap": 0,
         "x": 0.5,
         "xanchor": "center",
         "y": -0.15,
         "yanchor": "bottom"
        },
        "margin": {
         "t": 60
        },
        "template": {
         "data": {
          "bar": [
           {
            "error_x": {
             "color": "#2a3f5f"
            },
            "error_y": {
             "color": "#2a3f5f"
            },
            "marker": {
             "line": {
              "color": "white",
              "width": 0.5
             },
             "pattern": {
              "fillmode": "overlay",
              "size": 10,
              "solidity": 0.2
             }
            },
            "type": "bar"
           }
          ],
          "barpolar": [
           {
            "marker": {
             "line": {
              "color": "white",
              "width": 0.5
             },
             "pattern": {
              "fillmode": "overlay",
              "size": 10,
              "solidity": 0.2
             }
            },
            "type": "barpolar"
           }
          ],
          "carpet": [
           {
            "aaxis": {
             "endlinecolor": "#2a3f5f",
             "gridcolor": "#C8D4E3",
             "linecolor": "#C8D4E3",
             "minorgridcolor": "#C8D4E3",
             "startlinecolor": "#2a3f5f"
            },
            "baxis": {
             "endlinecolor": "#2a3f5f",
             "gridcolor": "#C8D4E3",
             "linecolor": "#C8D4E3",
             "minorgridcolor": "#C8D4E3",
             "startlinecolor": "#2a3f5f"
            },
            "type": "carpet"
           }
          ],
          "choropleth": [
           {
            "colorbar": {
             "outlinewidth": 0,
             "ticks": ""
            },
            "type": "choropleth"
           }
          ],
          "contour": [
           {
            "colorbar": {
             "outlinewidth": 0,
             "ticks": ""
            },
            "colorscale": [
             [
              0,
              "#0d0887"
             ],
             [
              0.1111111111111111,
              "#46039f"
             ],
             [
              0.2222222222222222,
              "#7201a8"
             ],
             [
              0.3333333333333333,
              "#9c179e"
             ],
             [
              0.4444444444444444,
              "#bd3786"
             ],
             [
              0.5555555555555556,
              "#d8576b"
             ],
             [
              0.6666666666666666,
              "#ed7953"
             ],
             [
              0.7777777777777778,
              "#fb9f3a"
             ],
             [
              0.8888888888888888,
              "#fdca26"
             ],
             [
              1,
              "#f0f921"
             ]
            ],
            "type": "contour"
           }
          ],
          "contourcarpet": [
           {
            "colorbar": {
             "outlinewidth": 0,
             "ticks": ""
            },
            "type": "contourcarpet"
           }
          ],
          "heatmap": [
           {
            "colorbar": {
             "outlinewidth": 0,
             "ticks": ""
            },
            "colorscale": [
             [
              0,
              "#0d0887"
             ],
             [
              0.1111111111111111,
              "#46039f"
             ],
             [
              0.2222222222222222,
              "#7201a8"
             ],
             [
              0.3333333333333333,
              "#9c179e"
             ],
             [
              0.4444444444444444,
              "#bd3786"
             ],
             [
              0.5555555555555556,
              "#d8576b"
             ],
             [
              0.6666666666666666,
              "#ed7953"
             ],
             [
              0.7777777777777778,
              "#fb9f3a"
             ],
             [
              0.8888888888888888,
              "#fdca26"
             ],
             [
              1,
              "#f0f921"
             ]
            ],
            "type": "heatmap"
           }
          ],
          "histogram": [
           {
            "marker": {
             "pattern": {
              "fillmode": "overlay",
              "size": 10,
              "solidity": 0.2
             }
            },
            "type": "histogram"
           }
          ],
          "histogram2d": [
           {
            "colorbar": {
             "outlinewidth": 0,
             "ticks": ""
            },
            "colorscale": [
             [
              0,
              "#0d0887"
             ],
             [
              0.1111111111111111,
              "#46039f"
             ],
             [
              0.2222222222222222,
              "#7201a8"
             ],
             [
              0.3333333333333333,
              "#9c179e"
             ],
             [
              0.4444444444444444,
              "#bd3786"
             ],
             [
              0.5555555555555556,
              "#d8576b"
             ],
             [
              0.6666666666666666,
              "#ed7953"
             ],
             [
              0.7777777777777778,
              "#fb9f3a"
             ],
             [
              0.8888888888888888,
              "#fdca26"
             ],
             [
              1,
              "#f0f921"
             ]
            ],
            "type": "histogram2d"
           }
          ],
          "histogram2dcontour": [
           {
            "colorbar": {
             "outlinewidth": 0,
             "ticks": ""
            },
            "colorscale": [
             [
              0,
              "#0d0887"
             ],
             [
              0.1111111111111111,
              "#46039f"
             ],
             [
              0.2222222222222222,
              "#7201a8"
             ],
             [
              0.3333333333333333,
              "#9c179e"
             ],
             [
              0.4444444444444444,
              "#bd3786"
             ],
             [
              0.5555555555555556,
              "#d8576b"
             ],
             [
              0.6666666666666666,
              "#ed7953"
             ],
             [
              0.7777777777777778,
              "#fb9f3a"
             ],
             [
              0.8888888888888888,
              "#fdca26"
             ],
             [
              1,
              "#f0f921"
             ]
            ],
            "type": "histogram2dcontour"
           }
          ],
          "mesh3d": [
           {
            "colorbar": {
             "outlinewidth": 0,
             "ticks": ""
            },
            "type": "mesh3d"
           }
          ],
          "parcoords": [
           {
            "line": {
             "colorbar": {
              "outlinewidth": 0,
              "ticks": ""
             }
            },
            "type": "parcoords"
           }
          ],
          "pie": [
           {
            "automargin": true,
            "type": "pie"
           }
          ],
          "scatter": [
           {
            "fillpattern": {
             "fillmode": "overlay",
             "size": 10,
             "solidity": 0.2
            },
            "type": "scatter"
           }
          ],
          "scatter3d": [
           {
            "line": {
             "colorbar": {
              "outlinewidth": 0,
              "ticks": ""
             }
            },
            "marker": {
             "colorbar": {
              "outlinewidth": 0,
              "ticks": ""
             }
            },
            "type": "scatter3d"
           }
          ],
          "scattercarpet": [
           {
            "marker": {
             "colorbar": {
              "outlinewidth": 0,
              "ticks": ""
             }
            },
            "type": "scattercarpet"
           }
          ],
          "scattergeo": [
           {
            "marker": {
             "colorbar": {
              "outlinewidth": 0,
              "ticks": ""
             }
            },
            "type": "scattergeo"
           }
          ],
          "scattergl": [
           {
            "marker": {
             "colorbar": {
              "outlinewidth": 0,
              "ticks": ""
             }
            },
            "type": "scattergl"
           }
          ],
          "scattermap": [
           {
            "marker": {
             "colorbar": {
              "outlinewidth": 0,
              "ticks": ""
             }
            },
            "type": "scattermap"
           }
          ],
          "scattermapbox": [
           {
            "marker": {
             "colorbar": {
              "outlinewidth": 0,
              "ticks": ""
             }
            },
            "type": "scattermapbox"
           }
          ],
          "scatterpolar": [
           {
            "marker": {
             "colorbar": {
              "outlinewidth": 0,
              "ticks": ""
             }
            },
            "type": "scatterpolar"
           }
          ],
          "scatterpolargl": [
           {
            "marker": {
             "colorbar": {
              "outlinewidth": 0,
              "ticks": ""
             }
            },
            "type": "scatterpolargl"
           }
          ],
          "scatterternary": [
           {
            "marker": {
             "colorbar": {
              "outlinewidth": 0,
              "ticks": ""
             }
            },
            "type": "scatterternary"
           }
          ],
          "surface": [
           {
            "colorbar": {
             "outlinewidth": 0,
             "ticks": ""
            },
            "colorscale": [
             [
              0,
              "#0d0887"
             ],
             [
              0.1111111111111111,
              "#46039f"
             ],
             [
              0.2222222222222222,
              "#7201a8"
             ],
             [
              0.3333333333333333,
              "#9c179e"
             ],
             [
              0.4444444444444444,
              "#bd3786"
             ],
             [
              0.5555555555555556,
              "#d8576b"
             ],
             [
              0.6666666666666666,
              "#ed7953"
             ],
             [
              0.7777777777777778,
              "#fb9f3a"
             ],
             [
              0.8888888888888888,
              "#fdca26"
             ],
             [
              1,
              "#f0f921"
             ]
            ],
            "type": "surface"
           }
          ],
          "table": [
           {
            "cells": {
             "fill": {
              "color": "#EBF0F8"
             },
             "line": {
              "color": "white"
             }
            },
            "header": {
             "fill": {
              "color": "#C8D4E3"
             },
             "line": {
              "color": "white"
             }
            },
            "type": "table"
           }
          ]
         },
         "layout": {
          "annotationdefaults": {
           "arrowcolor": "#2a3f5f",
           "arrowhead": 0,
           "arrowwidth": 1
          },
          "autotypenumbers": "strict",
          "coloraxis": {
           "colorbar": {
            "outlinewidth": 0,
            "ticks": ""
           }
          },
          "colorscale": {
           "diverging": [
            [
             0,
             "#8e0152"
            ],
            [
             0.1,
             "#c51b7d"
            ],
            [
             0.2,
             "#de77ae"
            ],
            [
             0.3,
             "#f1b6da"
            ],
            [
             0.4,
             "#fde0ef"
            ],
            [
             0.5,
             "#f7f7f7"
            ],
            [
             0.6,
             "#e6f5d0"
            ],
            [
             0.7,
             "#b8e186"
            ],
            [
             0.8,
             "#7fbc41"
            ],
            [
             0.9,
             "#4d9221"
            ],
            [
             1,
             "#276419"
            ]
           ],
           "sequential": [
            [
             0,
             "#0d0887"
            ],
            [
             0.1111111111111111,
             "#46039f"
            ],
            [
             0.2222222222222222,
             "#7201a8"
            ],
            [
             0.3333333333333333,
             "#9c179e"
            ],
            [
             0.4444444444444444,
             "#bd3786"
            ],
            [
             0.5555555555555556,
             "#d8576b"
            ],
            [
             0.6666666666666666,
             "#ed7953"
            ],
            [
             0.7777777777777778,
             "#fb9f3a"
            ],
            [
             0.8888888888888888,
             "#fdca26"
            ],
            [
             1,
             "#f0f921"
            ]
           ],
           "sequentialminus": [
            [
             0,
             "#0d0887"
            ],
            [
             0.1111111111111111,
             "#46039f"
            ],
            [
             0.2222222222222222,
             "#7201a8"
            ],
            [
             0.3333333333333333,
             "#9c179e"
            ],
            [
             0.4444444444444444,
             "#bd3786"
            ],
            [
             0.5555555555555556,
             "#d8576b"
            ],
            [
             0.6666666666666666,
             "#ed7953"
            ],
            [
             0.7777777777777778,
             "#fb9f3a"
            ],
            [
             0.8888888888888888,
             "#fdca26"
            ],
            [
             1,
             "#f0f921"
            ]
           ]
          },
          "colorway": [
           "#636efa",
           "#EF553B",
           "#00cc96",
           "#ab63fa",
           "#FFA15A",
           "#19d3f3",
           "#FF6692",
           "#B6E880",
           "#FF97FF",
           "#FECB52"
          ],
          "font": {
           "color": "#2a3f5f"
          },
          "geo": {
           "bgcolor": "white",
           "lakecolor": "white",
           "landcolor": "white",
           "showlakes": true,
           "showland": true,
           "subunitcolor": "#C8D4E3"
          },
          "hoverlabel": {
           "align": "left"
          },
          "hovermode": "closest",
          "mapbox": {
           "style": "light"
          },
          "paper_bgcolor": "white",
          "plot_bgcolor": "white",
          "polar": {
           "angularaxis": {
            "gridcolor": "#EBF0F8",
            "linecolor": "#EBF0F8",
            "ticks": ""
           },
           "bgcolor": "white",
           "radialaxis": {
            "gridcolor": "#EBF0F8",
            "linecolor": "#EBF0F8",
            "ticks": ""
           }
          },
          "scene": {
           "xaxis": {
            "backgroundcolor": "white",
            "gridcolor": "#DFE8F3",
            "gridwidth": 2,
            "linecolor": "#EBF0F8",
            "showbackground": true,
            "ticks": "",
            "zerolinecolor": "#EBF0F8"
           },
           "yaxis": {
            "backgroundcolor": "white",
            "gridcolor": "#DFE8F3",
            "gridwidth": 2,
            "linecolor": "#EBF0F8",
            "showbackground": true,
            "ticks": "",
            "zerolinecolor": "#EBF0F8"
           },
           "zaxis": {
            "backgroundcolor": "white",
            "gridcolor": "#DFE8F3",
            "gridwidth": 2,
            "linecolor": "#EBF0F8",
            "showbackground": true,
            "ticks": "",
            "zerolinecolor": "#EBF0F8"
           }
          },
          "shapedefaults": {
           "line": {
            "color": "#2a3f5f"
           }
          },
          "ternary": {
           "aaxis": {
            "gridcolor": "#DFE8F3",
            "linecolor": "#A2B1C6",
            "ticks": ""
           },
           "baxis": {
            "gridcolor": "#DFE8F3",
            "linecolor": "#A2B1C6",
            "ticks": ""
           },
           "bgcolor": "white",
           "caxis": {
            "gridcolor": "#DFE8F3",
            "linecolor": "#A2B1C6",
            "ticks": ""
           }
          },
          "title": {
           "x": 0.05
          },
          "xaxis": {
           "automargin": true,
           "gridcolor": "#EBF0F8",
           "linecolor": "#EBF0F8",
           "ticks": "",
           "title": {
            "standoff": 15
           },
           "zerolinecolor": "#EBF0F8",
           "zerolinewidth": 2
          },
          "yaxis": {
           "automargin": true,
           "gridcolor": "#EBF0F8",
           "linecolor": "#EBF0F8",
           "ticks": "",
           "title": {
            "standoff": 15
           },
           "zerolinecolor": "#EBF0F8",
           "zerolinewidth": 2
          }
         }
        },
        "title": {
         "text": "Total GHG emissions by sector and energy model, excluding AFOLU",
         "x": 0.5,
         "xanchor": "center",
         "y": 0.97,
         "yanchor": "top"
        },
        "width": 1100,
        "xaxis": {
         "anchor": "y",
         "domain": [
          0,
          0.485
         ],
         "tickangle": 45,
         "title": {
          "text": ""
         }
        },
        "xaxis2": {
         "anchor": "y2",
         "domain": [
          0.515,
          1
         ],
         "matches": "x",
         "tickangle": 45,
         "title": {
          "text": ""
         }
        },
        "yaxis": {
         "anchor": "x",
         "domain": [
          0,
          1
         ],
         "title": {
          "standoff": 0,
          "text": "Total GHG Emissions (M tonne CO2e)"
         }
        },
        "yaxis2": {
         "anchor": "x2",
         "domain": [
          0,
          1
         ],
         "matches": "y",
         "showticklabels": false
        }
       }
      }
     },
     "metadata": {},
     "output_type": "display_data"
    }
   ],
   "source": [
    "ref_fig = ref_ghg[ref_ghg['Emission Commodity'] == 'co2e'][['Period', 'Sector', 'Total GHG Emissions']].groupby(['Period', 'Sector'], as_index=False).sum()\n",
    "ref_fig['Sector'] = ref_fig['Sector'].replace({'Transport': 'Transportation', 'commercial': 'Commercial', 'residential': 'Residential', 'industrial': 'Industrial', 'electricity': 'Electricity'})\n",
    "ref_fig['Total GHG Emissions (Mt CO2e)'] = ref_fig['Total GHG Emissions'] / 1E3\n",
    "ref_fig['Period'] = ref_fig['Period'].astype(str)\n",
    "\n",
    "gtech23_fig = gtech23_ref_ghg[gtech23_ref_ghg['Sector'] != 'AFOLU']\n",
    "gtech23_fig = gtech23_fig.rename(columns={'CO2e (Mt)': 'Total GHG Emissions (Mt CO2e)'})\n",
    "\n",
    "ref_fig['Source'] = 'CANOE'\n",
    "gtech23_fig['Source'] = 'gTech-IESD'\n",
    "gtech23_fig['Period'] = gtech23_fig['Period'].astype(str)\n",
    "fig_df = pd.concat([ref_fig[['Period', 'Sector', 'Total GHG Emissions (Mt CO2e)', 'Source']], gtech23_fig]).reset_index(drop=True)\n",
    "\n",
    "fig = px.area(fig_df, x='Period', y='Total GHG Emissions (Mt CO2e)', color='Sector', facet_col='Source',\n",
    "              template='plotly_white',\n",
    "              facet_col_spacing=0.03,\n",
    "              width=1100, height=600\n",
    "              )\n",
    "\n",
    "fig.update_layout(\n",
    "    title=dict(text='Total GHG emissions by sector and energy model, excluding AFOLU',\n",
    "               x=0.5,\n",
    "               y=0.97,\n",
    "               xanchor='center',\n",
    "               yanchor='top'\n",
    "               ),\n",
    "    xaxis=dict(title='Period'),\n",
    "    yaxis=dict(title='Total GHG Emissions (M tonne CO2e)'),\n",
    "    yaxis_title_standoff=0,\n",
    "    legend_title_text='',\n",
    "    # bargap=0.1,\n",
    "    legend=dict(orientation='h',\n",
    "                yanchor='bottom',\n",
    "                y=-0.15,\n",
    "                xanchor='center',\n",
    "                x=0.5),\n",
    "    font=dict(size=13,\n",
    "              # family=\"Open Sans\"\n",
    "              ))\n",
    "\n",
    "for axis in fig.layout:\n",
    "    if axis.startswith('xaxis'):\n",
    "        fig.layout[axis].title.text = ''\n",
    "\n",
    "fig.update_xaxes(tickangle=45)\n",
    "\n",
    "fig.add_annotation(\n",
    "    text=\"*Upstream emissions are accounted for in each sector, except for Oil & Gas\",\n",
    "    x=1,  # Adjust x position as needed\n",
    "    y=0.98,\n",
    "    xref=\"paper\",\n",
    "    yref=\"paper\",\n",
    "    showarrow=False,\n",
    "    # textangle=-90,\n",
    "    font=dict(size=11))\n",
    "\n",
    "\n",
    "fig.show()"
   ]
  },
  {
   "cell_type": "markdown",
   "metadata": {},
   "source": [
    "# CANOE vs CEF2023 vs gTech - H2 production"
   ]
  },
  {
   "cell_type": "code",
   "execution_count": 41,
   "metadata": {},
   "outputs": [
    {
     "data": {
      "application/vnd.plotly.v1+json": {
       "config": {
        "plotlyServerURL": "https://plot.ly"
       },
       "data": [
        {
         "hovertemplate": "Pathway=Electrolysis<br>Period=2021<br>Source=%{x}<br>Production (PJ)=%{y}<extra></extra>",
         "legendgroup": "Electrolysis",
         "marker": {
          "color": "#3366CC",
          "pattern": {
           "shape": ""
          }
         },
         "name": "Electrolysis",
         "orientation": "v",
         "showlegend": true,
         "textfont": {
          "size": 9
         },
         "textposition": "auto",
         "texttemplate": "%{y:.3f}",
         "type": "bar",
         "x": [
          "CANOE",
          "CEF2023",
          "gTech-IESD"
         ],
         "xaxis": "x",
         "y": {
          "bdata": "AAAAAAAAAAAwK7kvDP2sPwAAAAAAAAAA",
          "dtype": "f8"
         },
         "yaxis": "y"
        },
        {
         "hovertemplate": "Pathway=Electrolysis<br>Period=2025<br>Source=%{x}<br>Production (PJ)=%{y}<extra></extra>",
         "legendgroup": "Electrolysis",
         "marker": {
          "color": "#3366CC",
          "pattern": {
           "shape": ""
          }
         },
         "name": "Electrolysis",
         "orientation": "v",
         "showlegend": false,
         "textfont": {
          "size": 9
         },
         "textposition": "auto",
         "texttemplate": "%{y:.3f}",
         "type": "bar",
         "x": [
          "CANOE",
          "CEF2023",
          "gTech-IESD"
         ],
         "xaxis": "x2",
         "y": {
          "bdata": "AAAAAAAAAADPkhFhDWG0PykYAHAN6Ks/",
          "dtype": "f8"
         },
         "yaxis": "y2"
        },
        {
         "hovertemplate": "Pathway=Electrolysis<br>Period=2030<br>Source=%{x}<br>Production (PJ)=%{y}<extra></extra>",
         "legendgroup": "Electrolysis",
         "marker": {
          "color": "#3366CC",
          "pattern": {
           "shape": ""
          }
         },
         "name": "Electrolysis",
         "orientation": "v",
         "showlegend": false,
         "textfont": {
          "size": 9
         },
         "textposition": "auto",
         "texttemplate": "%{y:.3f}",
         "type": "bar",
         "x": [
          "CANOE",
          "CEF2023",
          "gTech-IESD"
         ],
         "xaxis": "x3",
         "y": {
          "bdata": "AAAAAAAAAAAOyo9Tz923P7UtAhfvbfU/",
          "dtype": "f8"
         },
         "yaxis": "y3"
        },
        {
         "hovertemplate": "Pathway=Electrolysis<br>Period=2035<br>Source=%{x}<br>Production (PJ)=%{y}<extra></extra>",
         "legendgroup": "Electrolysis",
         "marker": {
          "color": "#3366CC",
          "pattern": {
           "shape": ""
          }
         },
         "name": "Electrolysis",
         "orientation": "v",
         "showlegend": false,
         "textfont": {
          "size": 9
         },
         "textposition": "auto",
         "texttemplate": "%{y:.3f}",
         "type": "bar",
         "x": [
          "CANOE",
          "CEF2023",
          "gTech-IESD"
         ],
         "xaxis": "x4",
         "y": {
          "bdata": "AAAAAAAAAABEq+7shkjQPwAAAAAAAAAA",
          "dtype": "f8"
         },
         "yaxis": "y4"
        },
        {
         "hovertemplate": "Pathway=Electrolysis<br>Period=2040<br>Source=%{x}<br>Production (PJ)=%{y}<extra></extra>",
         "legendgroup": "Electrolysis",
         "marker": {
          "color": "#3366CC",
          "pattern": {
           "shape": ""
          }
         },
         "name": "Electrolysis",
         "orientation": "v",
         "showlegend": false,
         "textfont": {
          "size": 9
         },
         "textposition": "auto",
         "texttemplate": "%{y:.3f}",
         "type": "bar",
         "x": [
          "CANOE",
          "CEF2023",
          "gTech-IESD"
         ],
         "xaxis": "x5",
         "y": {
          "bdata": "AAAAAAAAAABTO2gbJCngPwAAAAAAAAAA",
          "dtype": "f8"
         },
         "yaxis": "y5"
        },
        {
         "hovertemplate": "Pathway=Electrolysis<br>Period=2045<br>Source=%{x}<br>Production (PJ)=%{y}<extra></extra>",
         "legendgroup": "Electrolysis",
         "marker": {
          "color": "#3366CC",
          "pattern": {
           "shape": ""
          }
         },
         "name": "Electrolysis",
         "orientation": "v",
         "showlegend": false,
         "textfont": {
          "size": 9
         },
         "textposition": "auto",
         "texttemplate": "%{y:.3f}",
         "type": "bar",
         "x": [
          "CANOE",
          "CEF2023",
          "gTech-IESD"
         ],
         "xaxis": "x6",
         "y": {
          "bdata": "AAAAAAAAAAAwYG6cuazoPwAAAAAAAAAA",
          "dtype": "f8"
         },
         "yaxis": "y6"
        },
        {
         "hovertemplate": "Pathway=Electrolysis<br>Period=2050<br>Source=%{x}<br>Production (PJ)=%{y}<extra></extra>",
         "legendgroup": "Electrolysis",
         "marker": {
          "color": "#3366CC",
          "pattern": {
           "shape": ""
          }
         },
         "name": "Electrolysis",
         "orientation": "v",
         "showlegend": false,
         "textfont": {
          "size": 9
         },
         "textposition": "auto",
         "texttemplate": "%{y:.3f}",
         "type": "bar",
         "x": [
          "CANOE",
          "CEF2023",
          "gTech-IESD"
         ],
         "xaxis": "x7",
         "y": {
          "bdata": "AAAAAAAAAADYftcMFUjvPwAAAAAAAAAA",
          "dtype": "f8"
         },
         "yaxis": "y7"
        },
        {
         "hovertemplate": "Pathway=SMR w/o CCS<br>Period=2021<br>Source=%{x}<br>Production (PJ)=%{y}<extra></extra>",
         "legendgroup": "SMR w/o CCS",
         "marker": {
          "color": "#DC3912",
          "pattern": {
           "shape": ""
          }
         },
         "name": "SMR w/o CCS",
         "orientation": "v",
         "showlegend": true,
         "textfont": {
          "size": 9
         },
         "textposition": "auto",
         "texttemplate": "%{y:.3f}",
         "type": "bar",
         "x": [
          "CANOE"
         ],
         "xaxis": "x",
         "y": {
          "bdata": "AAAAAAAAAAA=",
          "dtype": "f8"
         },
         "yaxis": "y"
        },
        {
         "hovertemplate": "Pathway=SMR w/o CCS<br>Period=2025<br>Source=%{x}<br>Production (PJ)=%{y}<extra></extra>",
         "legendgroup": "SMR w/o CCS",
         "marker": {
          "color": "#DC3912",
          "pattern": {
           "shape": ""
          }
         },
         "name": "SMR w/o CCS",
         "orientation": "v",
         "showlegend": false,
         "textfont": {
          "size": 9
         },
         "textposition": "auto",
         "texttemplate": "%{y:.3f}",
         "type": "bar",
         "x": [
          "CANOE"
         ],
         "xaxis": "x2",
         "y": {
          "bdata": "6njl+OMi9j8=",
          "dtype": "f8"
         },
         "yaxis": "y2"
        },
        {
         "hovertemplate": "Pathway=SMR w/o CCS<br>Period=2030<br>Source=%{x}<br>Production (PJ)=%{y}<extra></extra>",
         "legendgroup": "SMR w/o CCS",
         "marker": {
          "color": "#DC3912",
          "pattern": {
           "shape": ""
          }
         },
         "name": "SMR w/o CCS",
         "orientation": "v",
         "showlegend": false,
         "textfont": {
          "size": 9
         },
         "textposition": "auto",
         "texttemplate": "%{y:.3f}",
         "type": "bar",
         "x": [
          "CANOE"
         ],
         "xaxis": "x3",
         "y": {
          "bdata": "a8AwbpDIDkA=",
          "dtype": "f8"
         },
         "yaxis": "y3"
        },
        {
         "hovertemplate": "Pathway=SMR w/o CCS<br>Period=2035<br>Source=%{x}<br>Production (PJ)=%{y}<extra></extra>",
         "legendgroup": "SMR w/o CCS",
         "marker": {
          "color": "#DC3912",
          "pattern": {
           "shape": ""
          }
         },
         "name": "SMR w/o CCS",
         "orientation": "v",
         "showlegend": false,
         "textfont": {
          "size": 9
         },
         "textposition": "auto",
         "texttemplate": "%{y:.3f}",
         "type": "bar",
         "x": [
          "CANOE"
         ],
         "xaxis": "x4",
         "y": {
          "bdata": "0CykOaOIIUA=",
          "dtype": "f8"
         },
         "yaxis": "y4"
        },
        {
         "hovertemplate": "Pathway=SMR w/o CCS<br>Period=2040<br>Source=%{x}<br>Production (PJ)=%{y}<extra></extra>",
         "legendgroup": "SMR w/o CCS",
         "marker": {
          "color": "#DC3912",
          "pattern": {
           "shape": ""
          }
         },
         "name": "SMR w/o CCS",
         "orientation": "v",
         "showlegend": false,
         "textfont": {
          "size": 9
         },
         "textposition": "auto",
         "texttemplate": "%{y:.3f}",
         "type": "bar",
         "x": [
          "CANOE"
         ],
         "xaxis": "x5",
         "y": {
          "bdata": "7SP73vUMLkA=",
          "dtype": "f8"
         },
         "yaxis": "y5"
        },
        {
         "hovertemplate": "Pathway=SMR w/o CCS<br>Period=2045<br>Source=%{x}<br>Production (PJ)=%{y}<extra></extra>",
         "legendgroup": "SMR w/o CCS",
         "marker": {
          "color": "#DC3912",
          "pattern": {
           "shape": ""
          }
         },
         "name": "SMR w/o CCS",
         "orientation": "v",
         "showlegend": false,
         "textfont": {
          "size": 9
         },
         "textposition": "auto",
         "texttemplate": "%{y:.3f}",
         "type": "bar",
         "x": [
          "CANOE"
         ],
         "xaxis": "x6",
         "y": {
          "bdata": "yNHUpxWyM0A=",
          "dtype": "f8"
         },
         "yaxis": "y6"
        },
        {
         "hovertemplate": "Pathway=SMR w/o CCS<br>Period=2050<br>Source=%{x}<br>Production (PJ)=%{y}<extra></extra>",
         "legendgroup": "SMR w/o CCS",
         "marker": {
          "color": "#DC3912",
          "pattern": {
           "shape": ""
          }
         },
         "name": "SMR w/o CCS",
         "orientation": "v",
         "showlegend": false,
         "textfont": {
          "size": 9
         },
         "textposition": "auto",
         "texttemplate": "%{y:.3f}",
         "type": "bar",
         "x": [
          "CANOE"
         ],
         "xaxis": "x7",
         "y": {
          "bdata": "+e0IA072NkA=",
          "dtype": "f8"
         },
         "yaxis": "y7"
        },
        {
         "hovertemplate": "Pathway=Biomass<br>Period=2021<br>Source=%{x}<br>Production (PJ)=%{y}<extra></extra>",
         "legendgroup": "Biomass",
         "marker": {
          "color": "#FF9900",
          "pattern": {
           "shape": ""
          }
         },
         "name": "Biomass",
         "orientation": "v",
         "showlegend": true,
         "textfont": {
          "size": 9
         },
         "textposition": "auto",
         "texttemplate": "%{y:.3f}",
         "type": "bar",
         "x": [
          "CEF2023"
         ],
         "xaxis": "x",
         "y": {
          "bdata": "AAAAAAAAAAA=",
          "dtype": "f8"
         },
         "yaxis": "y"
        },
        {
         "hovertemplate": "Pathway=Biomass<br>Period=2025<br>Source=%{x}<br>Production (PJ)=%{y}<extra></extra>",
         "legendgroup": "Biomass",
         "marker": {
          "color": "#FF9900",
          "pattern": {
           "shape": ""
          }
         },
         "name": "Biomass",
         "orientation": "v",
         "showlegend": false,
         "textfont": {
          "size": 9
         },
         "textposition": "auto",
         "texttemplate": "%{y:.3f}",
         "type": "bar",
         "x": [
          "CEF2023"
         ],
         "xaxis": "x2",
         "y": {
          "bdata": "AAAAAAAAAAA=",
          "dtype": "f8"
         },
         "yaxis": "y2"
        },
        {
         "hovertemplate": "Pathway=Biomass<br>Period=2030<br>Source=%{x}<br>Production (PJ)=%{y}<extra></extra>",
         "legendgroup": "Biomass",
         "marker": {
          "color": "#FF9900",
          "pattern": {
           "shape": ""
          }
         },
         "name": "Biomass",
         "orientation": "v",
         "showlegend": false,
         "textfont": {
          "size": 9
         },
         "textposition": "auto",
         "texttemplate": "%{y:.3f}",
         "type": "bar",
         "x": [
          "CEF2023"
         ],
         "xaxis": "x3",
         "y": {
          "bdata": "AAAAAAAAAAA=",
          "dtype": "f8"
         },
         "yaxis": "y3"
        },
        {
         "hovertemplate": "Pathway=Biomass<br>Period=2035<br>Source=%{x}<br>Production (PJ)=%{y}<extra></extra>",
         "legendgroup": "Biomass",
         "marker": {
          "color": "#FF9900",
          "pattern": {
           "shape": ""
          }
         },
         "name": "Biomass",
         "orientation": "v",
         "showlegend": false,
         "textfont": {
          "size": 9
         },
         "textposition": "auto",
         "texttemplate": "%{y:.3f}",
         "type": "bar",
         "x": [
          "CEF2023"
         ],
         "xaxis": "x4",
         "y": {
          "bdata": "AAAAAAAAAAA=",
          "dtype": "f8"
         },
         "yaxis": "y4"
        },
        {
         "hovertemplate": "Pathway=Biomass<br>Period=2040<br>Source=%{x}<br>Production (PJ)=%{y}<extra></extra>",
         "legendgroup": "Biomass",
         "marker": {
          "color": "#FF9900",
          "pattern": {
           "shape": ""
          }
         },
         "name": "Biomass",
         "orientation": "v",
         "showlegend": false,
         "textfont": {
          "size": 9
         },
         "textposition": "auto",
         "texttemplate": "%{y:.3f}",
         "type": "bar",
         "x": [
          "CEF2023"
         ],
         "xaxis": "x5",
         "y": {
          "bdata": "AAAAAAAAAAA=",
          "dtype": "f8"
         },
         "yaxis": "y5"
        },
        {
         "hovertemplate": "Pathway=Biomass<br>Period=2045<br>Source=%{x}<br>Production (PJ)=%{y}<extra></extra>",
         "legendgroup": "Biomass",
         "marker": {
          "color": "#FF9900",
          "pattern": {
           "shape": ""
          }
         },
         "name": "Biomass",
         "orientation": "v",
         "showlegend": false,
         "textfont": {
          "size": 9
         },
         "textposition": "auto",
         "texttemplate": "%{y:.3f}",
         "type": "bar",
         "x": [
          "CEF2023"
         ],
         "xaxis": "x6",
         "y": {
          "bdata": "AAAAAAAAAAA=",
          "dtype": "f8"
         },
         "yaxis": "y6"
        },
        {
         "hovertemplate": "Pathway=Biomass<br>Period=2050<br>Source=%{x}<br>Production (PJ)=%{y}<extra></extra>",
         "legendgroup": "Biomass",
         "marker": {
          "color": "#FF9900",
          "pattern": {
           "shape": ""
          }
         },
         "name": "Biomass",
         "orientation": "v",
         "showlegend": false,
         "textfont": {
          "size": 9
         },
         "textposition": "auto",
         "texttemplate": "%{y:.3f}",
         "type": "bar",
         "x": [
          "CEF2023"
         ],
         "xaxis": "x7",
         "y": {
          "bdata": "AAAAAAAAAAA=",
          "dtype": "f8"
         },
         "yaxis": "y7"
        },
        {
         "hovertemplate": "Pathway=SMR w CCS<br>Period=2021<br>Source=%{x}<br>Production (PJ)=%{y}<extra></extra>",
         "legendgroup": "SMR w CCS",
         "marker": {
          "color": "#109618",
          "pattern": {
           "shape": ""
          }
         },
         "name": "SMR w CCS",
         "orientation": "v",
         "showlegend": true,
         "textfont": {
          "size": 9
         },
         "textposition": "auto",
         "texttemplate": "%{y:.3f}",
         "type": "bar",
         "x": [
          "CEF2023",
          "gTech-IESD"
         ],
         "xaxis": "x",
         "y": {
          "bdata": "AAAAAAAAAAAAAAAAAAAAAA==",
          "dtype": "f8"
         },
         "yaxis": "y"
        },
        {
         "hovertemplate": "Pathway=SMR w CCS<br>Period=2025<br>Source=%{x}<br>Production (PJ)=%{y}<extra></extra>",
         "legendgroup": "SMR w CCS",
         "marker": {
          "color": "#109618",
          "pattern": {
           "shape": ""
          }
         },
         "name": "SMR w CCS",
         "orientation": "v",
         "showlegend": false,
         "textfont": {
          "size": 9
         },
         "textposition": "auto",
         "texttemplate": "%{y:.3f}",
         "type": "bar",
         "x": [
          "CEF2023",
          "gTech-IESD"
         ],
         "xaxis": "x2",
         "y": {
          "bdata": "AAAAAAAAAAAAAAAAAAAAAA==",
          "dtype": "f8"
         },
         "yaxis": "y2"
        },
        {
         "hovertemplate": "Pathway=SMR w CCS<br>Period=2030<br>Source=%{x}<br>Production (PJ)=%{y}<extra></extra>",
         "legendgroup": "SMR w CCS",
         "marker": {
          "color": "#109618",
          "pattern": {
           "shape": ""
          }
         },
         "name": "SMR w CCS",
         "orientation": "v",
         "showlegend": false,
         "textfont": {
          "size": 9
         },
         "textposition": "auto",
         "texttemplate": "%{y:.3f}",
         "type": "bar",
         "x": [
          "CEF2023",
          "gTech-IESD"
         ],
         "xaxis": "x3",
         "y": {
          "bdata": "AAAAAAAAAAAAAAAAAAAAAA==",
          "dtype": "f8"
         },
         "yaxis": "y3"
        },
        {
         "hovertemplate": "Pathway=SMR w CCS<br>Period=2035<br>Source=%{x}<br>Production (PJ)=%{y}<extra></extra>",
         "legendgroup": "SMR w CCS",
         "marker": {
          "color": "#109618",
          "pattern": {
           "shape": ""
          }
         },
         "name": "SMR w CCS",
         "orientation": "v",
         "showlegend": false,
         "textfont": {
          "size": 9
         },
         "textposition": "auto",
         "texttemplate": "%{y:.3f}",
         "type": "bar",
         "x": [
          "CEF2023",
          "gTech-IESD"
         ],
         "xaxis": "x4",
         "y": {
          "bdata": "AAAAAAAAAADr0Zhs40cOQA==",
          "dtype": "f8"
         },
         "yaxis": "y4"
        },
        {
         "hovertemplate": "Pathway=SMR w CCS<br>Period=2040<br>Source=%{x}<br>Production (PJ)=%{y}<extra></extra>",
         "legendgroup": "SMR w CCS",
         "marker": {
          "color": "#109618",
          "pattern": {
           "shape": ""
          }
         },
         "name": "SMR w CCS",
         "orientation": "v",
         "showlegend": false,
         "textfont": {
          "size": 9
         },
         "textposition": "auto",
         "texttemplate": "%{y:.3f}",
         "type": "bar",
         "x": [
          "CEF2023",
          "gTech-IESD"
         ],
         "xaxis": "x5",
         "y": {
          "bdata": "AAAAAAAAAACpK4ZI2WQaQA==",
          "dtype": "f8"
         },
         "yaxis": "y5"
        },
        {
         "hovertemplate": "Pathway=SMR w CCS<br>Period=2045<br>Source=%{x}<br>Production (PJ)=%{y}<extra></extra>",
         "legendgroup": "SMR w CCS",
         "marker": {
          "color": "#109618",
          "pattern": {
           "shape": ""
          }
         },
         "name": "SMR w CCS",
         "orientation": "v",
         "showlegend": false,
         "textfont": {
          "size": 9
         },
         "textposition": "auto",
         "texttemplate": "%{y:.3f}",
         "type": "bar",
         "x": [
          "CEF2023",
          "gTech-IESD"
         ],
         "xaxis": "x6",
         "y": {
          "bdata": "AAAAAAAAAABdvXHvbSciQA==",
          "dtype": "f8"
         },
         "yaxis": "y6"
        },
        {
         "hovertemplate": "Pathway=SMR w CCS<br>Period=2050<br>Source=%{x}<br>Production (PJ)=%{y}<extra></extra>",
         "legendgroup": "SMR w CCS",
         "marker": {
          "color": "#109618",
          "pattern": {
           "shape": ""
          }
         },
         "name": "SMR w CCS",
         "orientation": "v",
         "showlegend": false,
         "textfont": {
          "size": 9
         },
         "textposition": "auto",
         "texttemplate": "%{y:.3f}",
         "type": "bar",
         "x": [
          "CEF2023",
          "gTech-IESD"
         ],
         "xaxis": "x7",
         "y": {
          "bdata": "AAAAAAAAAAAnYGSX4i0lQA==",
          "dtype": "f8"
         },
         "yaxis": "y7"
        }
       ],
       "layout": {
        "annotations": [
         {
          "font": {},
          "showarrow": false,
          "text": "2021",
          "x": 0.06285714285714285,
          "xanchor": "center",
          "xref": "paper",
          "y": -0.1,
          "yanchor": "top",
          "yref": "paper"
         },
         {
          "font": {},
          "showarrow": false,
          "text": "2025",
          "x": 0.20857142857142852,
          "xanchor": "center",
          "xref": "paper",
          "y": -0.1,
          "yanchor": "top",
          "yref": "paper"
         },
         {
          "font": {},
          "showarrow": false,
          "text": "2030",
          "x": 0.3542857142857142,
          "xanchor": "center",
          "xref": "paper",
          "y": -0.1,
          "yanchor": "top",
          "yref": "paper"
         },
         {
          "font": {},
          "showarrow": false,
          "text": "2035",
          "x": 0.5,
          "xanchor": "center",
          "xref": "paper",
          "y": -0.1,
          "yanchor": "top",
          "yref": "paper"
         },
         {
          "font": {},
          "showarrow": false,
          "text": "2040",
          "x": 0.6457142857142856,
          "xanchor": "center",
          "xref": "paper",
          "y": -0.1,
          "yanchor": "top",
          "yref": "paper"
         },
         {
          "font": {},
          "showarrow": false,
          "text": "2045",
          "x": 0.7914285714285713,
          "xanchor": "center",
          "xref": "paper",
          "y": -0.1,
          "yanchor": "top",
          "yref": "paper"
         },
         {
          "font": {},
          "showarrow": false,
          "text": "2050",
          "x": 0.937142857142857,
          "xanchor": "center",
          "xref": "paper",
          "y": -0.1,
          "yanchor": "top",
          "yref": "paper"
         }
        ],
        "bargap": 0.1,
        "barmode": "stack",
        "font": {
         "size": 14
        },
        "height": 650,
        "legend": {
         "orientation": "h",
         "title": {
          "text": ""
         },
         "tracegroupgap": 0,
         "x": 0.5,
         "xanchor": "center",
         "y": 1.04,
         "yanchor": "top"
        },
        "margin": {
         "t": 60
        },
        "template": {
         "data": {
          "bar": [
           {
            "error_x": {
             "color": "#2a3f5f"
            },
            "error_y": {
             "color": "#2a3f5f"
            },
            "marker": {
             "line": {
              "color": "white",
              "width": 0.5
             },
             "pattern": {
              "fillmode": "overlay",
              "size": 10,
              "solidity": 0.2
             }
            },
            "type": "bar"
           }
          ],
          "barpolar": [
           {
            "marker": {
             "line": {
              "color": "white",
              "width": 0.5
             },
             "pattern": {
              "fillmode": "overlay",
              "size": 10,
              "solidity": 0.2
             }
            },
            "type": "barpolar"
           }
          ],
          "carpet": [
           {
            "aaxis": {
             "endlinecolor": "#2a3f5f",
             "gridcolor": "#C8D4E3",
             "linecolor": "#C8D4E3",
             "minorgridcolor": "#C8D4E3",
             "startlinecolor": "#2a3f5f"
            },
            "baxis": {
             "endlinecolor": "#2a3f5f",
             "gridcolor": "#C8D4E3",
             "linecolor": "#C8D4E3",
             "minorgridcolor": "#C8D4E3",
             "startlinecolor": "#2a3f5f"
            },
            "type": "carpet"
           }
          ],
          "choropleth": [
           {
            "colorbar": {
             "outlinewidth": 0,
             "ticks": ""
            },
            "type": "choropleth"
           }
          ],
          "contour": [
           {
            "colorbar": {
             "outlinewidth": 0,
             "ticks": ""
            },
            "colorscale": [
             [
              0,
              "#0d0887"
             ],
             [
              0.1111111111111111,
              "#46039f"
             ],
             [
              0.2222222222222222,
              "#7201a8"
             ],
             [
              0.3333333333333333,
              "#9c179e"
             ],
             [
              0.4444444444444444,
              "#bd3786"
             ],
             [
              0.5555555555555556,
              "#d8576b"
             ],
             [
              0.6666666666666666,
              "#ed7953"
             ],
             [
              0.7777777777777778,
              "#fb9f3a"
             ],
             [
              0.8888888888888888,
              "#fdca26"
             ],
             [
              1,
              "#f0f921"
             ]
            ],
            "type": "contour"
           }
          ],
          "contourcarpet": [
           {
            "colorbar": {
             "outlinewidth": 0,
             "ticks": ""
            },
            "type": "contourcarpet"
           }
          ],
          "heatmap": [
           {
            "colorbar": {
             "outlinewidth": 0,
             "ticks": ""
            },
            "colorscale": [
             [
              0,
              "#0d0887"
             ],
             [
              0.1111111111111111,
              "#46039f"
             ],
             [
              0.2222222222222222,
              "#7201a8"
             ],
             [
              0.3333333333333333,
              "#9c179e"
             ],
             [
              0.4444444444444444,
              "#bd3786"
             ],
             [
              0.5555555555555556,
              "#d8576b"
             ],
             [
              0.6666666666666666,
              "#ed7953"
             ],
             [
              0.7777777777777778,
              "#fb9f3a"
             ],
             [
              0.8888888888888888,
              "#fdca26"
             ],
             [
              1,
              "#f0f921"
             ]
            ],
            "type": "heatmap"
           }
          ],
          "histogram": [
           {
            "marker": {
             "pattern": {
              "fillmode": "overlay",
              "size": 10,
              "solidity": 0.2
             }
            },
            "type": "histogram"
           }
          ],
          "histogram2d": [
           {
            "colorbar": {
             "outlinewidth": 0,
             "ticks": ""
            },
            "colorscale": [
             [
              0,
              "#0d0887"
             ],
             [
              0.1111111111111111,
              "#46039f"
             ],
             [
              0.2222222222222222,
              "#7201a8"
             ],
             [
              0.3333333333333333,
              "#9c179e"
             ],
             [
              0.4444444444444444,
              "#bd3786"
             ],
             [
              0.5555555555555556,
              "#d8576b"
             ],
             [
              0.6666666666666666,
              "#ed7953"
             ],
             [
              0.7777777777777778,
              "#fb9f3a"
             ],
             [
              0.8888888888888888,
              "#fdca26"
             ],
             [
              1,
              "#f0f921"
             ]
            ],
            "type": "histogram2d"
           }
          ],
          "histogram2dcontour": [
           {
            "colorbar": {
             "outlinewidth": 0,
             "ticks": ""
            },
            "colorscale": [
             [
              0,
              "#0d0887"
             ],
             [
              0.1111111111111111,
              "#46039f"
             ],
             [
              0.2222222222222222,
              "#7201a8"
             ],
             [
              0.3333333333333333,
              "#9c179e"
             ],
             [
              0.4444444444444444,
              "#bd3786"
             ],
             [
              0.5555555555555556,
              "#d8576b"
             ],
             [
              0.6666666666666666,
              "#ed7953"
             ],
             [
              0.7777777777777778,
              "#fb9f3a"
             ],
             [
              0.8888888888888888,
              "#fdca26"
             ],
             [
              1,
              "#f0f921"
             ]
            ],
            "type": "histogram2dcontour"
           }
          ],
          "mesh3d": [
           {
            "colorbar": {
             "outlinewidth": 0,
             "ticks": ""
            },
            "type": "mesh3d"
           }
          ],
          "parcoords": [
           {
            "line": {
             "colorbar": {
              "outlinewidth": 0,
              "ticks": ""
             }
            },
            "type": "parcoords"
           }
          ],
          "pie": [
           {
            "automargin": true,
            "type": "pie"
           }
          ],
          "scatter": [
           {
            "fillpattern": {
             "fillmode": "overlay",
             "size": 10,
             "solidity": 0.2
            },
            "type": "scatter"
           }
          ],
          "scatter3d": [
           {
            "line": {
             "colorbar": {
              "outlinewidth": 0,
              "ticks": ""
             }
            },
            "marker": {
             "colorbar": {
              "outlinewidth": 0,
              "ticks": ""
             }
            },
            "type": "scatter3d"
           }
          ],
          "scattercarpet": [
           {
            "marker": {
             "colorbar": {
              "outlinewidth": 0,
              "ticks": ""
             }
            },
            "type": "scattercarpet"
           }
          ],
          "scattergeo": [
           {
            "marker": {
             "colorbar": {
              "outlinewidth": 0,
              "ticks": ""
             }
            },
            "type": "scattergeo"
           }
          ],
          "scattergl": [
           {
            "marker": {
             "colorbar": {
              "outlinewidth": 0,
              "ticks": ""
             }
            },
            "type": "scattergl"
           }
          ],
          "scattermap": [
           {
            "marker": {
             "colorbar": {
              "outlinewidth": 0,
              "ticks": ""
             }
            },
            "type": "scattermap"
           }
          ],
          "scattermapbox": [
           {
            "marker": {
             "colorbar": {
              "outlinewidth": 0,
              "ticks": ""
             }
            },
            "type": "scattermapbox"
           }
          ],
          "scatterpolar": [
           {
            "marker": {
             "colorbar": {
              "outlinewidth": 0,
              "ticks": ""
             }
            },
            "type": "scatterpolar"
           }
          ],
          "scatterpolargl": [
           {
            "marker": {
             "colorbar": {
              "outlinewidth": 0,
              "ticks": ""
             }
            },
            "type": "scatterpolargl"
           }
          ],
          "scatterternary": [
           {
            "marker": {
             "colorbar": {
              "outlinewidth": 0,
              "ticks": ""
             }
            },
            "type": "scatterternary"
           }
          ],
          "surface": [
           {
            "colorbar": {
             "outlinewidth": 0,
             "ticks": ""
            },
            "colorscale": [
             [
              0,
              "#0d0887"
             ],
             [
              0.1111111111111111,
              "#46039f"
             ],
             [
              0.2222222222222222,
              "#7201a8"
             ],
             [
              0.3333333333333333,
              "#9c179e"
             ],
             [
              0.4444444444444444,
              "#bd3786"
             ],
             [
              0.5555555555555556,
              "#d8576b"
             ],
             [
              0.6666666666666666,
              "#ed7953"
             ],
             [
              0.7777777777777778,
              "#fb9f3a"
             ],
             [
              0.8888888888888888,
              "#fdca26"
             ],
             [
              1,
              "#f0f921"
             ]
            ],
            "type": "surface"
           }
          ],
          "table": [
           {
            "cells": {
             "fill": {
              "color": "#EBF0F8"
             },
             "line": {
              "color": "white"
             }
            },
            "header": {
             "fill": {
              "color": "#C8D4E3"
             },
             "line": {
              "color": "white"
             }
            },
            "type": "table"
           }
          ]
         },
         "layout": {
          "annotationdefaults": {
           "arrowcolor": "#2a3f5f",
           "arrowhead": 0,
           "arrowwidth": 1
          },
          "autotypenumbers": "strict",
          "coloraxis": {
           "colorbar": {
            "outlinewidth": 0,
            "ticks": ""
           }
          },
          "colorscale": {
           "diverging": [
            [
             0,
             "#8e0152"
            ],
            [
             0.1,
             "#c51b7d"
            ],
            [
             0.2,
             "#de77ae"
            ],
            [
             0.3,
             "#f1b6da"
            ],
            [
             0.4,
             "#fde0ef"
            ],
            [
             0.5,
             "#f7f7f7"
            ],
            [
             0.6,
             "#e6f5d0"
            ],
            [
             0.7,
             "#b8e186"
            ],
            [
             0.8,
             "#7fbc41"
            ],
            [
             0.9,
             "#4d9221"
            ],
            [
             1,
             "#276419"
            ]
           ],
           "sequential": [
            [
             0,
             "#0d0887"
            ],
            [
             0.1111111111111111,
             "#46039f"
            ],
            [
             0.2222222222222222,
             "#7201a8"
            ],
            [
             0.3333333333333333,
             "#9c179e"
            ],
            [
             0.4444444444444444,
             "#bd3786"
            ],
            [
             0.5555555555555556,
             "#d8576b"
            ],
            [
             0.6666666666666666,
             "#ed7953"
            ],
            [
             0.7777777777777778,
             "#fb9f3a"
            ],
            [
             0.8888888888888888,
             "#fdca26"
            ],
            [
             1,
             "#f0f921"
            ]
           ],
           "sequentialminus": [
            [
             0,
             "#0d0887"
            ],
            [
             0.1111111111111111,
             "#46039f"
            ],
            [
             0.2222222222222222,
             "#7201a8"
            ],
            [
             0.3333333333333333,
             "#9c179e"
            ],
            [
             0.4444444444444444,
             "#bd3786"
            ],
            [
             0.5555555555555556,
             "#d8576b"
            ],
            [
             0.6666666666666666,
             "#ed7953"
            ],
            [
             0.7777777777777778,
             "#fb9f3a"
            ],
            [
             0.8888888888888888,
             "#fdca26"
            ],
            [
             1,
             "#f0f921"
            ]
           ]
          },
          "colorway": [
           "#636efa",
           "#EF553B",
           "#00cc96",
           "#ab63fa",
           "#FFA15A",
           "#19d3f3",
           "#FF6692",
           "#B6E880",
           "#FF97FF",
           "#FECB52"
          ],
          "font": {
           "color": "#2a3f5f"
          },
          "geo": {
           "bgcolor": "white",
           "lakecolor": "white",
           "landcolor": "white",
           "showlakes": true,
           "showland": true,
           "subunitcolor": "#C8D4E3"
          },
          "hoverlabel": {
           "align": "left"
          },
          "hovermode": "closest",
          "mapbox": {
           "style": "light"
          },
          "paper_bgcolor": "white",
          "plot_bgcolor": "white",
          "polar": {
           "angularaxis": {
            "gridcolor": "#EBF0F8",
            "linecolor": "#EBF0F8",
            "ticks": ""
           },
           "bgcolor": "white",
           "radialaxis": {
            "gridcolor": "#EBF0F8",
            "linecolor": "#EBF0F8",
            "ticks": ""
           }
          },
          "scene": {
           "xaxis": {
            "backgroundcolor": "white",
            "gridcolor": "#DFE8F3",
            "gridwidth": 2,
            "linecolor": "#EBF0F8",
            "showbackground": true,
            "ticks": "",
            "zerolinecolor": "#EBF0F8"
           },
           "yaxis": {
            "backgroundcolor": "white",
            "gridcolor": "#DFE8F3",
            "gridwidth": 2,
            "linecolor": "#EBF0F8",
            "showbackground": true,
            "ticks": "",
            "zerolinecolor": "#EBF0F8"
           },
           "zaxis": {
            "backgroundcolor": "white",
            "gridcolor": "#DFE8F3",
            "gridwidth": 2,
            "linecolor": "#EBF0F8",
            "showbackground": true,
            "ticks": "",
            "zerolinecolor": "#EBF0F8"
           }
          },
          "shapedefaults": {
           "line": {
            "color": "#2a3f5f"
           }
          },
          "ternary": {
           "aaxis": {
            "gridcolor": "#DFE8F3",
            "linecolor": "#A2B1C6",
            "ticks": ""
           },
           "baxis": {
            "gridcolor": "#DFE8F3",
            "linecolor": "#A2B1C6",
            "ticks": ""
           },
           "bgcolor": "white",
           "caxis": {
            "gridcolor": "#DFE8F3",
            "linecolor": "#A2B1C6",
            "ticks": ""
           }
          },
          "title": {
           "x": 0.05
          },
          "xaxis": {
           "automargin": true,
           "gridcolor": "#EBF0F8",
           "linecolor": "#EBF0F8",
           "ticks": "",
           "title": {
            "standoff": 15
           },
           "zerolinecolor": "#EBF0F8",
           "zerolinewidth": 2
          },
          "yaxis": {
           "automargin": true,
           "gridcolor": "#EBF0F8",
           "linecolor": "#EBF0F8",
           "ticks": "",
           "title": {
            "standoff": 15
           },
           "zerolinecolor": "#EBF0F8",
           "zerolinewidth": 2
          }
         }
        },
        "title": {
         "text": "H2 production in ON by pathway and energy model",
         "x": 0.5,
         "xanchor": "center",
         "y": 0.97,
         "yanchor": "top"
        },
        "width": 1150,
        "xaxis": {
         "anchor": "y",
         "domain": [
          0,
          0.1257142857142857
         ],
         "title": {
          "text": ""
         }
        },
        "xaxis2": {
         "anchor": "y2",
         "domain": [
          0.14571428571428569,
          0.27142857142857135
         ],
         "matches": "x",
         "title": {
          "text": ""
         }
        },
        "xaxis3": {
         "anchor": "y3",
         "domain": [
          0.29142857142857137,
          0.41714285714285704
         ],
         "matches": "x",
         "title": {
          "text": ""
         }
        },
        "xaxis4": {
         "anchor": "y4",
         "domain": [
          0.4371428571428571,
          0.5628571428571428
         ],
         "matches": "x",
         "title": {
          "text": ""
         }
        },
        "xaxis5": {
         "anchor": "y5",
         "domain": [
          0.5828571428571427,
          0.7085714285714284
         ],
         "matches": "x",
         "title": {
          "text": ""
         }
        },
        "xaxis6": {
         "anchor": "y6",
         "domain": [
          0.7285714285714284,
          0.8542857142857141
         ],
         "matches": "x",
         "title": {
          "text": ""
         }
        },
        "xaxis7": {
         "anchor": "y7",
         "domain": [
          0.8742857142857142,
          0.9999999999999999
         ],
         "matches": "x",
         "title": {
          "text": ""
         }
        },
        "yaxis": {
         "anchor": "x",
         "domain": [
          0,
          1
         ],
         "title": {
          "standoff": 0,
          "text": "log(Production [PJ])"
         },
         "type": "log"
        },
        "yaxis2": {
         "anchor": "x2",
         "domain": [
          0,
          1
         ],
         "matches": "y",
         "showticklabels": false,
         "type": "log"
        },
        "yaxis3": {
         "anchor": "x3",
         "domain": [
          0,
          1
         ],
         "matches": "y",
         "showticklabels": false,
         "type": "log"
        },
        "yaxis4": {
         "anchor": "x4",
         "domain": [
          0,
          1
         ],
         "matches": "y",
         "showticklabels": false,
         "type": "log"
        },
        "yaxis5": {
         "anchor": "x5",
         "domain": [
          0,
          1
         ],
         "matches": "y",
         "showticklabels": false,
         "type": "log"
        },
        "yaxis6": {
         "anchor": "x6",
         "domain": [
          0,
          1
         ],
         "matches": "y",
         "showticklabels": false,
         "type": "log"
        },
        "yaxis7": {
         "anchor": "x7",
         "domain": [
          0,
          1
         ],
         "matches": "y",
         "showticklabels": false,
         "type": "log"
        }
       }
      }
     },
     "metadata": {},
     "output_type": "display_data"
    }
   ],
   "source": [
    "ref_fig = ref_trnact[(ref_trnact['Technology'] == 'I_H2_ELEC') | (ref_trnact['Technology'] == 'I_H2_SMR')][['Period', 'Technology', 'Demand (PJ)']].copy()\n",
    "ref_fig['Technology'] = ref_fig['Technology'].replace({'I_H2_ELEC': 'Electrolysis', 'I_H2_SMR': 'SMR w/o CCS'})\n",
    "ref_fig = ref_fig.rename(columns={'Technology': 'Pathway', 'Demand (PJ)': 'Production (PJ)'})\n",
    "\n",
    "# HHV of H2 from Table A - https://archives.bape.gouv.qc.ca/sections/mandats/becancour/documents/DC4.pdf\n",
    "bau23_h2['Production (PJ)'] = bau23_h2['Production (Mt)'] * 141.9 # PJ/Mt = MJ/kg\n",
    "bau23_fig = bau23_h2[['Period', 'Pathway', 'Production (PJ)']].copy()\n",
    "\n",
    "gtech23_fig = gtech23_ref_h2.fillna(0.)\n",
    "gtech23_fig['Period'] = gtech23_fig['Period'].astype(str)\n",
    "\n",
    "bau23_fig['Source'] = 'CEF2023'\n",
    "ref_fig['Source'] = 'CANOE'\n",
    "gtech23_fig['Source'] = 'gTech-IESD'\n",
    "\n",
    "fig_df = pd.concat([ref_fig, bau23_fig, gtech23_fig])\n",
    "\n",
    "fig = px.bar(fig_df, \n",
    "             x='Source', \n",
    "             y='Production (PJ)', \n",
    "             color='Pathway', \n",
    "             barmode='stack', \n",
    "             facet_col='Period',\n",
    "             facet_col_spacing=2E-2,\n",
    "             template='plotly_white',\n",
    "             color_discrete_sequence=px.colors.qualitative.G10[:7] + px.colors.qualitative.G10[8:],\n",
    "             text_auto='.3f',\n",
    "            #  text='Demand (PJ)_sum'\n",
    "             width=1150, height=650,\n",
    "             )\n",
    "\n",
    "fig.update_layout(title=dict(\n",
    "        text='H2 production in ON by pathway and energy model',\n",
    "        x=0.5, \n",
    "        y=0.97,\n",
    "        xanchor='center',\n",
    "        yanchor='top'\n",
    "    ),\n",
    "    xaxis=dict(title='Period'),\n",
    "    yaxis=dict(title='log(Production [PJ])',\n",
    "            #    dtick=2,\n",
    "               type='log'\n",
    "               ),\n",
    "    yaxis_title_standoff=0,\n",
    "    legend_title_text='',\n",
    "    bargap=0.1,\n",
    "    legend=dict(\n",
    "        orientation='h',  \n",
    "        yanchor='top',\n",
    "        y=1.04,  \n",
    "        xanchor='center',\n",
    "        x=0.5),\n",
    "    font=dict(\n",
    "        # family=\"Open Sans\",\n",
    "        size=14)\n",
    "    )\n",
    "\n",
    "for axis in fig.layout:\n",
    "    if axis.startswith('yaxis'):\n",
    "        fig.layout[axis].type = 'log'\n",
    "\n",
    "for annotation in fig.layout.annotations:\n",
    "    annotation.text = annotation.text.split('=')[1]\n",
    "    annotation.y = -0.1  \n",
    "    annotation.yanchor = 'top' \n",
    "\n",
    "for axis in fig.layout:\n",
    "    if axis.startswith('xaxis'):\n",
    "        fig.layout[axis].title.text = ''\n",
    "\n",
    "fig.for_each_trace(lambda trace: trace.update(textfont=dict(size=9)))\n",
    "\n",
    "fig.show()"
   ]
  }
 ],
 "metadata": {
  "kernelspec": {
   "display_name": "main",
   "language": "python",
   "name": "python3"
  },
  "language_info": {
   "codemirror_mode": {
    "name": "ipython",
    "version": 3
   },
   "file_extension": ".py",
   "mimetype": "text/x-python",
   "name": "python",
   "nbconvert_exporter": "python",
   "pygments_lexer": "ipython3",
   "version": "3.12.9"
  }
 },
 "nbformat": 4,
 "nbformat_minor": 2
}
